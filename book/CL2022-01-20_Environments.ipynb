{
 "cells": [
  {
   "cell_type": "markdown",
   "id": "146129ae",
   "metadata": {},
   "source": [
    "# Tutorial - Set up Environments"
   ]
  },
  {
   "cell_type": "markdown",
   "id": "56ff9d06",
   "metadata": {},
   "source": [
    "### Virtual environments\n",
    "An environment is a directory that contains a specific collection of packages that you have installed. \n",
    "\n",
    "The advantages of using virtual environments are: \n",
    "- Prevent dependency issues by allowing you to use different versions of a package for different projects. For example, you could use Package A v2.7 for Project X and Package A v1.3 for Project Y.\n",
    "- Make your project self-contained and reproducible by capturing all package dependencies in a requirements file.\n",
    "- Install packages on a host on which you do not have admin privileges.\n",
    "- Keep your global directory tidy because you don't have to install packages system-wide that you only need for a single project."
   ]
  },
  {
   "cell_type": "markdown",
   "id": "20baf0e3",
   "metadata": {},
   "source": [
    "### Conda \n",
    "Conda is a package manager and environment manager that you use with command line commands at the Anaconda Prompt for Windows, or in a terminal window for macOS or Linux (which is used in this tutorial). Further, Anaconda Navigator is a graphical interface to use conda (not considered in this tutorial). \n",
    "\n",
    "You have to install Anaconda via https://docs.anaconda.com/anaconda/install/\n",
    "Once installed, in Windows, go to the Start menu, search for and open \"Anaconda Prompt.\" In MacOS or Linux, open a terminal window. \n",
    "\n",
    "A few basic commands are: \n",
    "- `conda info`: verify that conda is installed and check the installed version\n",
    "- `conda update conda`: update to the current version of conda\n",
    "- `conda --version`: check installed version of conda\n",
    "\n",
    "When you begin using conda, you already have a default environment named `base`. You don't want to put programs into your base environment, though. Create separate environments to keep your programs isolated from each other."
   ]
  },
  {
   "cell_type": "markdown",
   "id": "19948f8b",
   "metadata": {},
   "source": [
    "### Creating and checking environments\n",
    "\n",
    "- To create a new environment named `codinglabenv`, that uses python version 3.5 specifically (if you leave out `python=3.5` conda installs the same Python version you used when you downloaded and installed Anaconda):\n",
    "\n",
    "`conda create --name codinglabenv python=3.5`\n",
    "\n",
    "- To activate the environment named `codinglabenv`:\n",
    "\n",
    "`conda activate codinglabenv`\n",
    "\n",
    "- Verify which version of Python is in your current environment:\n",
    "\n",
    "`python --version`\n",
    "\n",
    "- To deactivate the environment and return to the `base` environment:\n",
    "\n",
    "`conda activate`\n",
    "\n",
    "- To display a list of all environments (the artrisk* indicates the active environment):\n",
    "\n",
    "`conda info --envs`"
   ]
  },
  {
   "cell_type": "markdown",
   "id": "075c7313",
   "metadata": {},
   "source": [
    "### Installing packages in environments\n",
    "\n",
    "- To check the installed packages within the activated environment:\n",
    "\n",
    "`conda list`\n",
    "\n",
    "- To install a particular package in the activated environment, in this case the package `numpy`:\n",
    "\n",
    "`conda install numpy`\n",
    "\n",
    "- To install a list of packages in a requirements file, navigate to the file directory and install them: \n",
    "\n",
    "`cd [local directory]\\notebooks\\`\n",
    "\n",
    "`pip install -r requirements.txt`"
   ]
  },
  {
   "cell_type": "markdown",
   "id": "f57c84bc",
   "metadata": {},
   "source": [
    "### Creating an environment including specific packages\n",
    "\n",
    "- To create an environment using an `environment.yml` file: \n",
    "\n",
    "`conda env create -f environment.yml`\n",
    "\n",
    "- To create a new environment `copied_env` by copying an existing environment called `original_env`:  \n",
    "\n",
    "`conda create --name copied_env --clone original_env`\n",
    "\n",
    "- To create a new environment by copying an existing environment using a text file `spec-file.txt` (this can be used to create the environment on another computer): \n",
    "\n",
    "`conda list --explicit > spec-file.txt`\n",
    "\n",
    "`conda create --name copied_env --file spec-file.txt`"
   ]
  },
  {
   "cell_type": "code",
   "execution_count": null,
   "id": "c9f76906",
   "metadata": {},
   "outputs": [],
   "source": []
  }
 ],
 "metadata": {
  "kernelspec": {
   "display_name": "Python 3 (ipykernel)",
   "language": "python",
   "name": "python3"
  },
  "language_info": {
   "codemirror_mode": {
    "name": "ipython",
    "version": 3
   },
   "file_extension": ".py",
   "mimetype": "text/x-python",
   "name": "python",
   "nbconvert_exporter": "python",
   "pygments_lexer": "ipython3",
   "version": "3.8.12"
  }
 },
 "nbformat": 4,
 "nbformat_minor": 5
}
