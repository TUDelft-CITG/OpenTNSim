{
 "cells": [
  {
   "cell_type": "markdown",
   "metadata": {},
   "source": [
    "# Introduction"
   ]
  },
  {
   "cell_type": "markdown",
   "metadata": {},
   "source": [
    "### Open source Transport Network Simulation\n",
    "\n",
    "OpenTNSim is a python package for the investigation of traffic behaviour on networks to compare the consequences of different traffic scenarios and network configurations developed at the Delft University of Technology."
   ]
  },
  {
   "cell_type": "markdown",
   "metadata": {},
   "source": [
    "### Book overview"
   ]
  },
  {
   "cell_type": "markdown",
   "metadata": {},
   "source": [
    "For the design and optimization of ports, waterways and inland waterways, simulation can be a helpful tool. While simulations aren't the same are real life data, they do often save time and money. OpenTNSIm is an open source python package that can be used to simulate vessels and (existing) maritime networks. Some of the possibilities of OpenTNSim are the visualisation of sailed paths, the generation (random) vessels, the use of real-world data and determining energy usage and emissions of vessels. \n",
    "With the increasing demand in the maritime market and the changes due to climate change, OpenTNSim and its possibilities can be of great importance.\n",
    "\n",
    "This book provides an introduction to the use and application of the OpenTNSim package. The goal of this book is to introduce the basics of the package by explaining the graphing, vessels generation and basic simulation. Furthermore, the book will guide you through the use of real-life data and the simulation of more complex systems by explaining the use of shape files, multiple vessel generators and the visualization of sailed paths. Finally, it will be adressed how to retrieve emissions and energy usage data from the simulations. \n",
    "\n",
    "This book intends to serve researchers, enngineers and student that want to work with OpenTNSim. OpenTNSim sets out the be a tool for a community interested in discrete event simulations, specific to the logistical chain of ports and waterways. Due to its open-source nature, OpenTNSim facilitates an environment where connections with external communities can be made which can be highly beneficial due to the sharing of new insights."
   ]
  },
  {
   "cell_type": "markdown",
   "metadata": {},
   "source": [
    "### Goals "
   ]
  },
  {
   "cell_type": "markdown",
   "metadata": {},
   "source": [
    "1. Learn the basics of OpenTNSim\n",
    "2. Learn how to apply real-life data in OpenTNSim\n",
    "3. Learn how to make more advanced simulations\n",
    "4. Learn how to retrieve emissions and energy usage data"
   ]
  },
  {
   "cell_type": "markdown",
   "metadata": {},
   "source": [
    "### Context / OpenCLSim"
   ]
  },
  {
   "cell_type": "markdown",
   "metadata": {},
   "source": [
    "OpenTNSim is an open-source Python package which is an adaptation of the OpenCLSim package. OpenCLSim was developed by the Ports and Waterways (P&W) department of TU Delft and Van Oord. The development of the tool was started by the P&W department for the analysis of maritime transport. Van Oord and P&W joined efforts to increase the adaptability and workability of the tool. \n",
    "\n",
    "Simulation of real-world processes requires a representation of the real-world system and a way to represent the different processes in such a system. More importantly, the simulation of real-world processes requires a way to incorporate congestion and delay as these are unavoidable in in real life. OpenCLSim (and OpenTNSim) utilises the SimPy package for this kind of event simulation. SimPy revolves around the passing fixed periods of time that represent different processes [ref Team Simpy]. The outcome of a such a process can be either a triggered event or a non-triggered event. When an event is triggered and completed, the procces can be a succes or a failure. The failure can be inherent (caused by the process itself) or caused by the interuption of a different process [ref OpenCLSim article]. In SimPy it is possible to create interdepencies between different processes and thus create a schematisation of a real-world chain of events.\n",
    "\n",
    "OpenCLSim builds on SimPy by the addition of maritime-specific activities: e.g. loading and unloading of items and the moving and storing of items. Furthemore, the addition of components such as, ports, terminals, storage, quays, cranes and vessels, allow for a real-world maritime system to be simulated. To increase the usability of these maritime components and acitivities, OpenCLSim utilises so-called *mixin classes*. These *mixins* respresent a certain set of parameters that apply to a type of activity or component. This makes it easier to configure complex supply chains. An example of such a mixin is the mixin *Processor*. This class has loading and unloading functions and can be used to represent a crane. Other mixin classes, with different properties, can be used to represent other components in the system. Combining different mixins can then be used to represent a port, or a container vessel [ref OpenCLSim article]. \n",
    "\n",
    "It is expected that OpenCLSim and OpenTNSim will grow in the future with the growing importance of emissions reduction and with the development of maritime transport.\n"
   ]
  },
  {
   "cell_type": "markdown",
   "metadata": {},
   "source": []
  }
 ],
 "metadata": {
  "interpreter": {
   "hash": "bc2f23f0e1027361e8561dc277ccb0bcad3c3644321e7cca203c11d41fe2cc0c"
  },
  "kernelspec": {
   "display_name": "Python 3.9.10 ('opentnsim')",
   "language": "python",
   "name": "python3"
  },
  "language_info": {
   "codemirror_mode": {
    "name": "ipython",
    "version": 3
   },
   "file_extension": ".py",
   "mimetype": "text/x-python",
   "name": "python",
   "nbconvert_exporter": "python",
   "pygments_lexer": "ipython3",
   "version": "3.9.10"
  },
  "orig_nbformat": 4
 },
 "nbformat": 4,
 "nbformat_minor": 2
}
