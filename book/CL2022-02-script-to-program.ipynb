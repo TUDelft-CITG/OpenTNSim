{
 "cells": [
  {
   "cell_type": "markdown",
   "id": "6552bb91",
   "metadata": {
    "slideshow": {
     "slide_type": "slide"
    }
   },
   "source": [
    "# Script to program\n",
    "Fedor Baart"
   ]
  },
  {
   "cell_type": "markdown",
   "id": "5e0ad727",
   "metadata": {
    "slideshow": {
     "slide_type": "notes"
    }
   },
   "source": [
    "When you start to program you often start to program from top to bottom. You solve problems as they come along and put all code in one file. This is called a script. As you progress and learn more about programming and you add more features you will notice that you'll also start to program different. In this lecture we'll show you how a script typicall evolves into a program. To make the transitions we will use basic programming guidelines that help us to choose what to change. "
   ]
  },
  {
   "cell_type": "markdown",
   "id": "38d74e93",
   "metadata": {
    "slideshow": {
     "slide_type": "slide"
    }
   },
   "source": [
    "# Script\n",
    "This is an example of how you would program your first \"a ship moving along a route\". The goal is to compute the total duration of the trip. Notice that we don't use any external libraries, only internal python functions. We also don't use any loops or functions or classes. The function does work just fine but has some rome for improvements. In this notebook we'll use several general program guidelines to rewrite our program several times. The goal is to learn to know the guidelines and to apply them."
   ]
  },
  {
   "cell_type": "markdown",
   "id": "96795825",
   "metadata": {
    "slideshow": {
     "slide_type": "subslide"
    }
   },
   "source": [
    "![Route](figures/route.png \"route\")\n"
   ]
  },
  {
   "cell_type": "markdown",
   "id": "8a81254f",
   "metadata": {
    "slideshow": {
     "slide_type": "subslide"
    }
   },
   "source": [
    "# Input\n",
    "- Ship velocity: 2m/s\n",
    "- Route: Rotterdam, Dordrecht, Den Bosch, Rotterdam\n",
    "- Distances: (measure)"
   ]
  },
  {
   "cell_type": "code",
   "execution_count": 1,
   "id": "79925d45",
   "metadata": {
    "slideshow": {
     "slide_type": "subslide"
    }
   },
   "outputs": [],
   "source": [
    "# here we define a ship with velocity 2 \n",
    "ship = {\"v\": 2}\n",
    "# We define the route\n",
    "route = [\"Rotterdam\", \"Dordrecht\", \"Den Bosch\", \"Rotterdam\"]\n",
    "# We read the distances from Google Maps\n",
    "distances = {\n",
    "    (\"Rotterdam\", \"Dordrecht\"): 20000,\n",
    "    (\"Dordrecht\", \"Den Bosch\"): 40000,\n",
    "    (\"Den Bosch\", \"Rotterdam\"): 60000\n",
    "}\n"
   ]
  },
  {
   "cell_type": "code",
   "execution_count": 2,
   "id": "0eaf0efc",
   "metadata": {
    "slideshow": {
     "slide_type": "subslide"
    }
   },
   "outputs": [
    {
     "name": "stdout",
     "output_type": "stream",
     "text": [
      "Going from Rotterdam to Dordrecht, distance: 20000\n",
      "Going from Dordrecht to Den Bosch, distance: 40000\n",
      "Going from Den Bosch to Rotterdam, distance: 60000\n",
      "t: 60000.0\n"
     ]
    }
   ],
   "source": [
    "# Let's start the clock, we want to know how long a ship took\n",
    "t = 0\n",
    "\n",
    "# The first edge of the route, we're going from a to b, from Rotterdam to Dordrecth\n",
    "a = route[0]\n",
    "b = route[1]\n",
    "# Now lookup our distance\n",
    "distance = distances[a, b]\n",
    "# With these two you can compute the duration\n",
    "duration = distance / ship[\"v\"]\n",
    "# Let's print so that we know what's happening\n",
    "print(f\"Going from {a} to {b}, distance: {distance}\")\n",
    "# Sum up the duration\n",
    "t += duration\n",
    "\n",
    "# The same for edge 2\n",
    "a = route[1]\n",
    "b = route[2]\n",
    "distance = distances[a, b]\n",
    "duration = distance / ship[\"v\"]\n",
    "print(f\"Going from {a} to {b}, distance: {distance}\")\n",
    "t += duration\n",
    "\n",
    "# The same for edge 3\n",
    "a = route[2]\n",
    "b = route[3]\n",
    "distance = distances[a, b]\n",
    "duration = distance / ship[\"v\"]\n",
    "print(f\"Going from {a} to {b}, distance: {distance}\")\n",
    "t += duration\n",
    "\n",
    "# Now we're done, we can show the duration\n",
    "print(f\"t: {t}\")"
   ]
  },
  {
   "cell_type": "markdown",
   "id": "8ca97ac3",
   "metadata": {
    "slideshow": {
     "slide_type": "slide"
    }
   },
   "source": [
    "# DRY\n"
   ]
  },
  {
   "cell_type": "markdown",
   "id": "026ca15a",
   "metadata": {
    "slideshow": {
     "slide_type": "fragment"
    }
   },
   "source": [
    "One of the first principles is \"Don't Repeat Yourself\". We want to avoid duplication. The idea behind it is that if you program the same lines multiple times you also have to change multiple lines when things change. \n",
    "\n",
    "By making sure we don't have any repetitions we reduce the maintenance and make our software easier adaptable. Here we reduce the repetitions by using a for loop. "
   ]
  },
  {
   "cell_type": "code",
   "execution_count": 3,
   "id": "689ef0be",
   "metadata": {
    "slideshow": {
     "slide_type": "subslide"
    }
   },
   "outputs": [
    {
     "name": "stdout",
     "output_type": "stream",
     "text": [
      "Going from Rotterdam to Dordrecht, distance: 20000\n",
      "Going from Dordrecht to Den Bosch, distance: 40000\n",
      "Going from Den Bosch to Rotterdam, distance: 60000\n",
      "t: 60000.0\n"
     ]
    }
   ],
   "source": [
    "t = 0\n",
    "\n",
    "# Here we use the range combined with for. \n",
    "# We only loop to length - 1 because the number of edges is the number of nodes -1.\n",
    "for i in range(len(route) - 1):\n",
    "    a = route[i]\n",
    "    b = route[i + 1]\n",
    "    distance = distances[a, b]\n",
    "    duration = distance / ship[\"v\"]\n",
    "    print(f\"Going from {a} to {b}, distance: {distance}\")\n",
    "    t += duration\n",
    "\n",
    "print(f\"t: {t}\")"
   ]
  },
  {
   "cell_type": "code",
   "execution_count": 4,
   "id": "27211213",
   "metadata": {
    "slideshow": {
     "slide_type": "subslide"
    }
   },
   "outputs": [
    {
     "name": "stdout",
     "output_type": "stream",
     "text": [
      "Going from Rotterdam to Dordrecht, distance: 20000\n",
      "Going from Dordrecht to Den Bosch, distance: 40000\n",
      "Going from Den Bosch to Rotterdam, distance: 60000\n",
      "t: 60000.0\n"
     ]
    }
   ],
   "source": [
    "t = 0\n",
    "\n",
    "# This would be slightly more elegant, using zip\n",
    "for e in zip(route[:-1], route[1:]):\n",
    "    a, b = e\n",
    "    distance = distances[a, b]\n",
    "    duration = distance / ship[\"v\"]\n",
    "    print(f\"Going from {a} to {b}, distance: {distance}\")\n",
    "    t += duration\n",
    "\n",
    "print(f\"t: {t}\")"
   ]
  },
  {
   "cell_type": "markdown",
   "id": "055c41ae",
   "metadata": {
    "slideshow": {
     "slide_type": "slide"
    }
   },
   "source": [
    "# Encapsulate: Function\n",
    "The amount of work done in a for loop can become quite large. Up to now it's just 6 lines, but as you reach 10-20 or certainly the end of the page you want to split up the work into logical steps. That makes your code easier to read for others. It also allows you to later test seperate parts of your program. "
   ]
  },
  {
   "cell_type": "code",
   "execution_count": 5,
   "id": "55209355",
   "metadata": {
    "slideshow": {
     "slide_type": "subslide"
    }
   },
   "outputs": [
    {
     "name": "stdout",
     "output_type": "stream",
     "text": [
      "Going from Rotterdam to Dordrecht, distance: 20000\n",
      "Going from Dordrecht to Den Bosch, distance: 40000\n",
      "Going from Den Bosch to Rotterdam, distance: 60000\n",
      "t: 60000.0\n"
     ]
    }
   ],
   "source": [
    "# it just passes one edge, so let's give it a logical name \"pass_edge\"\n",
    "# A function often has an \"action\" / verb in the name. You can ask yourself what is this function doing? \n",
    "# The answer is a good name for the function. \n",
    "# We'll also rename the abstact counter i to e to represent an edge number\n",
    "\n",
    "def pass_edge(e):\n",
    "    a, b = e\n",
    "    distance = distances[a, b]\n",
    "    duration = distance / ship[\"v\"]\n",
    "    print(f\"Going from {a} to {b}, distance: {distance}\")\n",
    "    return duration\n",
    "    \n",
    "\n",
    "t = 0\n",
    "for e in zip(route[:-1], route[1:]):\n",
    "    duration = pass_edge(e)\n",
    "    t += duration\n",
    "\n",
    "print(f\"t: {t}\")"
   ]
  },
  {
   "cell_type": "code",
   "execution_count": 6,
   "id": "f74dab45",
   "metadata": {
    "slideshow": {
     "slide_type": "subslide"
    }
   },
   "outputs": [
    {
     "name": "stdout",
     "output_type": "stream",
     "text": [
      "Going from Rotterdam to Dordrecht, distance: 20000\n",
      "Going from Dordrecht to Den Bosch, distance: 40000\n",
      "Going from Den Bosch to Rotterdam, distance: 60000\n",
      "t: 60000.0\n"
     ]
    }
   ],
   "source": [
    "# here we make a function that looks up the global route variable \n",
    "# it just passes one edge, so let's give it a logical name \"pass_edge\"\n",
    "# A function often has an \"action\" / verb in the name. You can ask yourself what is this function doing? \n",
    "# The answer is a good name for the function. \n",
    "# We'll also rename the abstact counter i to e to represent an edge number\n",
    "def pass_edge(e):\n",
    "    a, b = e\n",
    "    distance = distances[a, b]\n",
    "    duration = distance / ship[\"v\"]\n",
    "    print(f\"Going from {a} to {b}, distance: {distance}\")\n",
    "    return duration\n",
    "    \n",
    "# Now that we have made our first function. \n",
    "# Let's group all of the remaining work into another function, \n",
    "# so that we only have to call one function to do all the work.\n",
    "def move():\n",
    "    t = 0\n",
    "    for e in zip(route[:-1], route[1:]):\n",
    "        duration = pass_edge(e)\n",
    "        t += duration\n",
    "    print(f\"t: {t}\")\n",
    "    \n",
    "move()"
   ]
  },
  {
   "cell_type": "markdown",
   "id": "2fc3ac92",
   "metadata": {
    "slideshow": {
     "slide_type": "slide"
    }
   },
   "source": [
    "# Generators\n",
    "Now for a slightly more complicated step. We can have functions that \"return\" one time. But we can also make functions that yield \"multiple times\". Let's start with a simple example. These functions don't return values but return generators because they generate results."
   ]
  },
  {
   "cell_type": "code",
   "execution_count": 7,
   "id": "f08d6576",
   "metadata": {
    "slideshow": {
     "slide_type": "subslide"
    }
   },
   "outputs": [
    {
     "name": "stdout",
     "output_type": "stream",
     "text": [
      "one(): 1\n",
      "generator one(): <generator object one at 0x1058250b0>\n",
      "x: 1\n",
      "next one(): 1\n"
     ]
    }
   ],
   "source": [
    "# this is a normal function that returns 1\n",
    "def one():\n",
    "    return 1\n",
    "\n",
    "print(\"one():\", one())\n",
    "\n",
    "# Now let's make a generator that also returns 1\n",
    "def one():\n",
    "    yield 1\n",
    "# Here you notice that our generator function returns a generator object, which we can loop over\n",
    "print(\"generator one():\", one())\n",
    "for x in one():\n",
    "    print(\"x:\", x)\n",
    "\n",
    "# You can also manually loop over the generator:\n",
    "generator_one = one()\n",
    "print(\"next one():\", next(generator_one))\n",
    "\n"
   ]
  },
  {
   "cell_type": "code",
   "execution_count": 8,
   "id": "a23b4b81",
   "metadata": {
    "slideshow": {
     "slide_type": "subslide"
    }
   },
   "outputs": [
    {
     "name": "stderr",
     "output_type": "stream",
     "text": [
      "ERROR:root:Generator raised the error:\n",
      "Traceback (most recent call last):\n",
      "  File \"/var/folders/fh/tcbrjg6n28b0lzjzh07b5t6m0000gn/T/ipykernel_2054/2021167945.py\", line 6, in <module>\n",
      "    next(generator_one)\n",
      "StopIteration\n"
     ]
    }
   ],
   "source": [
    "# If we now would try to generate another value it would raise a StopIteration, \n",
    "# to signal that the generator is exhausted.\n",
    "import logging\n",
    "\n",
    "try:\n",
    "    next(generator_one)\n",
    "except StopIteration:\n",
    "    logging.exception(\"Generator raised the error:\")"
   ]
  },
  {
   "cell_type": "code",
   "execution_count": 9,
   "id": "87950304",
   "metadata": {
    "slideshow": {
     "slide_type": "subslide"
    }
   },
   "outputs": [
    {
     "name": "stdout",
     "output_type": "stream",
     "text": [
      "x: 1\n",
      "x: 2\n",
      "x: 3\n",
      "list: [1, 2, 3]\n",
      "sum: 6\n"
     ]
    }
   ],
   "source": [
    "# We can make another generator that yields three numbers:\n",
    "def one_two_three():\n",
    "    yield 1\n",
    "    yield 2\n",
    "    yield 3\n",
    "    \n",
    "# this will keep yielding values until it's done\n",
    "for x in one_two_three():\n",
    "    print(\"x:\", x)\n",
    "\n",
    "# You can also collect all yielded values in a list:\n",
    "print(\"list:\", list(one_two_three()))\n",
    "\n",
    "# Or immediately compute the sum\n",
    "print(\"sum:\", sum(one_two_three()))"
   ]
  },
  {
   "cell_type": "markdown",
   "id": "f30e431e",
   "metadata": {
    "slideshow": {
     "slide_type": "slide"
    }
   },
   "source": [
    "# Lazy evaluation"
   ]
  },
  {
   "cell_type": "markdown",
   "id": "c90c9c07",
   "metadata": {
    "slideshow": {
     "slide_type": "fragment"
    }
   },
   "source": [
    "Lets' use this to generate our durations in the move functions. Then we can just sum them up, without needing the \"t\" variable. The principle here is to be lazy, do not evaluate things that you do not need or before you need it. \n",
    "Another lazy concepts is \"YAGNI\" You Aight Gonna Need It. Only make things that you need now, not things that you might need at some point in the future. "
   ]
  },
  {
   "cell_type": "code",
   "execution_count": 10,
   "id": "7df8cbc5",
   "metadata": {
    "slideshow": {
     "slide_type": "subslide"
    }
   },
   "outputs": [
    {
     "name": "stdout",
     "output_type": "stream",
     "text": [
      "Going from Rotterdam to Dordrecht, distance: 20000\n",
      "Going from Dordrecht to Den Bosch, distance: 40000\n",
      "Going from Den Bosch to Rotterdam, distance: 60000\n",
      "[10000.0, 20000.0, 30000.0]\n",
      "Going from Rotterdam to Dordrecht, distance: 20000\n",
      "Going from Dordrecht to Den Bosch, distance: 40000\n",
      "Going from Den Bosch to Rotterdam, distance: 60000\n",
      "t: 60000.0\n"
     ]
    }
   ],
   "source": [
    "def pass_edge(e):\n",
    "    a, b = e\n",
    "    distance = distances[a, b]\n",
    "    duration = distance / ship[\"v\"]\n",
    "    print(f\"Going from {a} to {b}, distance: {distance}\")\n",
    "    return duration\n",
    "\n",
    "def move():\n",
    "    for e in zip(route[:-1], route[1:]):\n",
    "        duration = pass_edge(e)\n",
    "        yield duration\n",
    "        \n",
    "# Just like in the simple example, we can generate a list of durations\n",
    "print(list(move()))        \n",
    "\n",
    "# And we can immediately sum them, while they are being generated. \n",
    "t = sum(move())\n",
    "print(f\"t: {t}\")"
   ]
  },
  {
   "cell_type": "markdown",
   "id": "7731eaa4",
   "metadata": {
    "slideshow": {
     "slide_type": "subslide"
    }
   },
   "source": [
    "# Delegating to subgenerators"
   ]
  },
  {
   "cell_type": "code",
   "execution_count": 11,
   "id": "6abbf4ea",
   "metadata": {
    "slideshow": {
     "slide_type": "subslide"
    }
   },
   "outputs": [
    {
     "data": {
      "text/plain": [
       "['do', 're', 'mi', 'do', 'do', 're', 'mi', 'do', 'doooo']"
      ]
     },
     "execution_count": 11,
     "metadata": {},
     "output_type": "execute_result"
    }
   ],
   "source": [
    "# We can make another generator that yields three numbers:\n",
    "def do_re_mi_do():\n",
    "    yield \"do\"\n",
    "    yield \"re\"\n",
    "    yield \"mi\"\n",
    "    yield \"do\"\n",
    "    \n",
    "def sing():\n",
    "    for i in range(2):\n",
    "        yield from do_re_mi_do()\n",
    "    yield \"doooo\"\n",
    "    \n",
    "list(sing())"
   ]
  },
  {
   "cell_type": "code",
   "execution_count": 12,
   "id": "991ac7bd",
   "metadata": {
    "slideshow": {
     "slide_type": "subslide"
    }
   },
   "outputs": [
    {
     "name": "stdout",
     "output_type": "stream",
     "text": [
      "Going from Rotterdam to Dordrecht, distance: 20000\n",
      "Going from Dordrecht to Den Bosch, distance: 40000\n",
      "Going from Den Bosch to Rotterdam, distance: 60000\n",
      "[10000.0, 20000.0, 30000.0]\n",
      "Going from Rotterdam to Dordrecht, distance: 20000\n",
      "Going from Dordrecht to Den Bosch, distance: 40000\n",
      "Going from Den Bosch to Rotterdam, distance: 60000\n",
      "t: 60000.0\n"
     ]
    }
   ],
   "source": [
    "def pass_edge(e):\n",
    "    a, b = e\n",
    "    distance = distances[a, b]\n",
    "    duration = distance / ship[\"v\"]\n",
    "    print(f\"Going from {a} to {b}, distance: {distance}\")\n",
    "    # let's also yield here \n",
    "    yield duration\n",
    "\n",
    "def move():\n",
    "    for e in zip(route[:-1], route[1:]):\n",
    "        # if we yield from something that yields we can yield FROM the results (subgenerators)\n",
    "        # if we yield from something that returns we can yield the results\n",
    "        yield from pass_edge(e)\n",
    "        \n",
    "# Just like in the simple example, we can generate a list of durations\n",
    "print(list(move()))        \n",
    "\n",
    "# And we can immediately sum them, while they are being generated. \n",
    "t = sum(move())\n",
    "print(f\"t: {t}\")"
   ]
  },
  {
   "cell_type": "markdown",
   "id": "215fb140",
   "metadata": {
    "slideshow": {
     "slide_type": "slide"
    }
   },
   "source": [
    "# Let's complicate\n",
    "Let's add some extra wait times in Rotterdam Dordrecht. Let's include a lock that we also need to pass the van Brienenoord Bridge. That takes 1800 seconds. \n",
    "![Brug](figures/brug.jpg \"brug\")\n",
    "\n"
   ]
  },
  {
   "cell_type": "code",
   "execution_count": 13,
   "id": "31755727",
   "metadata": {
    "slideshow": {
     "slide_type": "subslide"
    }
   },
   "outputs": [],
   "source": [
    "ship = {\"v\": 2}\n",
    "route = [\"Rotterdam\", \"Dordrecht\", \"Den Bosch\", \"Rotterdam\"]\n",
    "distances = {\n",
    "    (\"Rotterdam\", \"Dordrecht\"): 20000,\n",
    "    (\"Dordrecht\", \"Den Bosch\"): 40000,\n",
    "    (\"Den Bosch\", \"Rotterdam\"): 60000\n",
    "}\n",
    "\n",
    "# this is 1 bridge\n",
    "bridge = {\n",
    "    \"edge\": (\"Rotterdam\", \"Dordrecht\"),\n",
    "    \"wait\": 1800\n",
    "}"
   ]
  },
  {
   "cell_type": "code",
   "execution_count": 14,
   "id": "693b649b",
   "metadata": {
    "slideshow": {
     "slide_type": "subslide"
    }
   },
   "outputs": [
    {
     "name": "stdout",
     "output_type": "stream",
     "text": [
      "Waiting for bridge on edge ('Rotterdam', 'Dordrecht')\n",
      "Going from Rotterdam to Dordrecht, distance: 20000\n",
      "Going from Dordrecht to Den Bosch, distance: 40000\n",
      "Going from Den Bosch to Rotterdam, distance: 60000\n",
      "[1800, 10000.0, 20000.0, 30000.0]\n",
      "Waiting for bridge on edge ('Rotterdam', 'Dordrecht')\n",
      "Going from Rotterdam to Dordrecht, distance: 20000\n",
      "Going from Dordrecht to Den Bosch, distance: 40000\n",
      "Going from Den Bosch to Rotterdam, distance: 60000\n",
      "t: 61800.0\n"
     ]
    }
   ],
   "source": [
    "def pass_edge(e):\n",
    "    a, b = e\n",
    "    distance = distances[a, b]\n",
    "    duration = distance / ship[\"v\"]\n",
    "    edge = (a, b)\n",
    "    if edge == bridge[\"edge\"]:\n",
    "        print(f\"Waiting for bridge on edge {edge}\")\n",
    "        yield bridge[\"wait\"]\n",
    "    print(f\"Going from {a} to {b}, distance: {distance}\")\n",
    "    # let's also yield here \n",
    "    yield duration\n",
    "    \n",
    "\n",
    "def move():\n",
    "    for e in zip(route[:-1], route[1:]):\n",
    "        # if we yield from something that yields we can yield FROM the results\n",
    "        # if we yield from something that returns we can yield the results\n",
    "        yield from pass_edge(e)\n",
    "        \n",
    "# Just like in the simple example, we can generate a list of durations\n",
    "print(list(move()))        \n",
    "\n",
    "# And we can immediately sum them, while they are being generated. \n",
    "t = sum(move())\n",
    "print(f\"t: {t}\")"
   ]
  },
  {
   "cell_type": "markdown",
   "id": "4ee4e6eb",
   "metadata": {
    "slideshow": {
     "slide_type": "slide"
    }
   },
   "source": [
    "# Do not reinvent the wheel"
   ]
  },
  {
   "cell_type": "markdown",
   "id": "d8c3867d",
   "metadata": {
    "slideshow": {
     "slide_type": "fragment"
    }
   },
   "source": [
    "Up to know we did our own administration for waiting times. There is a library that we can use for that. The simpy library is a discrete event model that allows to keep track of times spent on activities. Use external libraries when possible. Then you don't have to maintain so much code."
   ]
  },
  {
   "cell_type": "code",
   "execution_count": 15,
   "id": "69009151",
   "metadata": {
    "slideshow": {
     "slide_type": "subslide"
    }
   },
   "outputs": [
    {
     "name": "stdout",
     "output_type": "stream",
     "text": [
      "Waiting for bridge on edge ('Rotterdam', 'Dordrecht')\n",
      "Going from Rotterdam to Dordrecht, distance: 20000\n",
      "Going from Dordrecht to Den Bosch, distance: 40000\n",
      "Going from Den Bosch to Rotterdam, distance: 60000\n",
      "t: 61800.0\n"
     ]
    }
   ],
   "source": [
    "# here' well use simpy to do the time/event administration\n",
    "import simpy\n",
    "\n",
    "def pass_edge(env, e):\n",
    "    a, b = e\n",
    "    distance = distances[a, b]\n",
    "    duration = distance / ship[\"v\"]\n",
    "    edge = (a, b)\n",
    "    if edge == bridge[\"edge\"]:\n",
    "        print(f\"Waiting for bridge on edge {edge}\")\n",
    "        yield env.timeout(bridge[\"wait\"])\n",
    "    print(f\"Going from {a} to {b}, distance: {distance}\")\n",
    "    # let's also yield here \n",
    "    yield env.timeout(duration)\n",
    "    \n",
    "\n",
    "def move(env):\n",
    "    for e in zip(route[:-1], route[1:]):\n",
    "        # if we yield from something that yields we can yield FROM the results\n",
    "        # if we yield from something that returns we can yield the results\n",
    "        yield from pass_edge(env, e)\n",
    "                \n",
    "env = simpy.Environment()       \n",
    "env.process(move(env))\n",
    "env.run()\n",
    "print(f\"t: {env.now}\")        "
   ]
  },
  {
   "cell_type": "markdown",
   "id": "8c171ba1",
   "metadata": {
    "slideshow": {
     "slide_type": "slide"
    }
   },
   "source": [
    "# Single responsibility"
   ]
  },
  {
   "cell_type": "markdown",
   "id": "3c355341",
   "metadata": {
    "slideshow": {
     "slide_type": "fragment"
    }
   },
   "source": [
    "Some functions did multiple things at the same time. It is a good idea to make functions with only 1 responsibility. That allows you to replace, rewrite parts easier.  Let's put the edge generation in a seperate generator and recompute the distances. "
   ]
  },
  {
   "cell_type": "code",
   "execution_count": 16,
   "id": "cfd07bfe",
   "metadata": {
    "slideshow": {
     "slide_type": "subslide"
    }
   },
   "outputs": [
    {
     "name": "stdout",
     "output_type": "stream",
     "text": [
      "Waiting for bridge on edge ('Rotterdam', 'Dordrecht')\n",
      "Going from Rotterdam to Dordrecht, distance: 20000\n",
      "Going from Dordrecht to Den Bosch, distance: 40000\n",
      "Going from Den Bosch to Rotterdam, distance: 60000\n",
      "t: 61800.0\n"
     ]
    }
   ],
   "source": [
    "import simpy\n",
    "\n",
    "def compute_distance(a, b):\n",
    "    \"\"\"compute the distance between point a and point b\"\"\"\n",
    "    distance = abs(network[b][\"geometry\"] - network[a][\"geometry\"])\n",
    "    return distance\n",
    "    \n",
    "\n",
    "def pass_edge(env, e):\n",
    "    \"\"\"compute distances and wait for the duration\"\"\"\n",
    "    a, b = e\n",
    "    if bridge[\"edge\"] == e:\n",
    "        print(f\"Waiting for bridge on edge {e}\")\n",
    "        yield env.timeout(bridge[\"wait\"])\n",
    "        \n",
    "    # compute the distance between a, b\n",
    "    distance = compute_distance(a, b)\n",
    "    duration = distance / ship[\"v\"]\n",
    "    print(f\"Going from {a} to {b}, distance: {distance}\")\n",
    "    yield env.timeout(duration)\n",
    "    \n",
    "def edges(route):\n",
    "    \"\"\"return list of node pairs in the route\"\"\"\n",
    "    # all from nodes\n",
    "    a = route[:-1]\n",
    "    # all to nodes\n",
    "    b = route[1:]\n",
    "    # combine and return pairs\n",
    "    for a_i, b_i in zip(a, b):\n",
    "        yield a_i, b_i\n",
    "\n",
    "def move(env):\n",
    "    \"\"\"pass all edges in the route\"\"\"\n",
    "    for e in edges(route):\n",
    "        yield from pass_edge(env, e)\n",
    "\n",
    "# Let's also compute the distance based on the 1 dimensional geometry \n",
    "network = {\n",
    "    \"Rotterdam\": {\"geometry\": 0},\n",
    "    \"Dordrecht\": {\"geometry\": 20000},\n",
    "    \"Den Bosch\": {\"geometry\": 60000}\n",
    "}\n",
    "   \n",
    "        \n",
    "env = simpy.Environment()       \n",
    "env.process(move(env))\n",
    "env.run()\n",
    "print(f\"t: {env.now}\")        "
   ]
  },
  {
   "cell_type": "markdown",
   "id": "52bf7887",
   "metadata": {
    "slideshow": {
     "slide_type": "slide"
    }
   },
   "source": [
    "# Namespaces"
   ]
  },
  {
   "cell_type": "markdown",
   "id": "9689f1a9",
   "metadata": {
    "slideshow": {
     "slide_type": "fragment"
    }
   },
   "source": [
    "We already structured our code in functions. We can add multiple levels of names to organize our code. Those are called namespaces.\n",
    "If you want to structure your code in deeper levels you often use modules and classes. Sorting code in classes is called object oriented programming.\n",
    "\n"
   ]
  },
  {
   "cell_type": "code",
   "execution_count": 17,
   "id": "3343fac3",
   "metadata": {
    "slideshow": {
     "slide_type": "subslide"
    }
   },
   "outputs": [
    {
     "name": "stdout",
     "output_type": "stream",
     "text": [
      "Waiting for bridge on edge ('Rotterdam', 'Dordrecht')\n",
      "Going from Rotterdam to Dordrecht, distance: 20000\n",
      "Going from Dordrecht to Den Bosch, distance: 40000\n",
      "Going from Den Bosch to Rotterdam, distance: 60000\n",
      "t: 61800.0\n"
     ]
    }
   ],
   "source": [
    "### Module\n",
    "def edges(route):\n",
    "    \"\"\"return list of node pairs in the route\"\"\"\n",
    "    # all from nodes\n",
    "    a = route[:-1]\n",
    "    # all to nodes\n",
    "    b = route[1:]\n",
    "    # combine and return pairs\n",
    "    for a_i, b_i in zip(a, b):\n",
    "        yield a_i, b_i\n",
    "\n",
    "### Objects\n",
    "class Ship:\n",
    "    def __init__(self, env, v, route):\n",
    "        self.env = env\n",
    "        self.v = v\n",
    "        self.route = route\n",
    "\n",
    "    def pass_edge(self, e):\n",
    "        \"\"\"compute distances and wait for the duration\"\"\"\n",
    "        a, b = e\n",
    "        if bridge[\"edge\"] == e:\n",
    "            print(f\"Waiting for bridge on edge {e}\")\n",
    "            yield env.timeout(bridge[\"wait\"])\n",
    "        distance = compute_distance(a, b)\n",
    "        duration = distance / self.v\n",
    "        print(f\"Going from {a} to {b}, distance: {distance}\")\n",
    "        yield env.timeout(duration)\n",
    "        \n",
    "    def move(self):\n",
    "        \"\"\"pass all edges in the route\"\"\"\n",
    "        for edge in edges(self.route):\n",
    "            yield from self.pass_edge(edge)\n",
    "    \n",
    "\n",
    "\n",
    "### Script        \n",
    "network = {\n",
    "    \"Rotterdam\": {\"geometry\": 0},\n",
    "    \"Dordrecht\": {\"geometry\": 20000},\n",
    "    \"Den Bosch\": {\"geometry\": 60000}\n",
    "}\n",
    "ship_data = {\n",
    "    \"v\": 2,\n",
    "    \"route\": [\"Rotterdam\", \"Dordrecht\", \"Den Bosch\", \"Rotterdam\"]\n",
    "}\n",
    "# The environment HAS A network\n",
    "# The variable ship IS A Ship (is of type Ship)      \n",
    "\n",
    "env = simpy.Environment()   \n",
    "env.network = network\n",
    "ship = Ship(env, v=ship_data[\"v\"], route=ship_data[\"route\"])\n",
    "env.process(ship.move())\n",
    "env.run()\n",
    "print(f\"t: {env.now}\")        "
   ]
  },
  {
   "cell_type": "markdown",
   "id": "2184b580",
   "metadata": {
    "slideshow": {
     "slide_type": "slide"
    }
   },
   "source": [
    "# Global variables are harmfull\n",
    "When you don't know where a variable comes from, you're more likely to make [mistakes](https://dl.acm.org/doi/10.1145/953353.953355). "
   ]
  },
  {
   "cell_type": "markdown",
   "id": "9e5d8a9c",
   "metadata": {
    "slideshow": {
     "slide_type": "subslide"
    }
   },
   "source": [
    "![Global](figures/global.png \"global\")"
   ]
  },
  {
   "cell_type": "code",
   "execution_count": 18,
   "id": "d66bc91d",
   "metadata": {
    "slideshow": {
     "slide_type": "subslide"
    }
   },
   "outputs": [
    {
     "name": "stdout",
     "output_type": "stream",
     "text": [
      "Overwriting config.json\n"
     ]
    }
   ],
   "source": [
    "%%file config.json\n",
    "{\n",
    "    \"network\": {\n",
    "        \"Rotterdam\": {\"geometry\": 0},\n",
    "        \"Dordrecht\": {\"geometry\": 20000},\n",
    "        \"Den Bosch\": {\"geometry\": 60000}\n",
    "    },\n",
    "    \"ship\": {\n",
    "        \"v\": 2,\n",
    "        \"route\": [\"Rotterdam\", \"Dordrecht\", \"Den Bosch\", \"Rotterdam\"]\n",
    "    },\n",
    "    \"bridge\": {\n",
    "        \"edge\": [\"Rotterdam\", \"Dordrecht\"],\n",
    "        \"wait\": 1800\n",
    "    }\n",
    "}"
   ]
  },
  {
   "cell_type": "code",
   "execution_count": 19,
   "id": "0e7d7748",
   "metadata": {
    "slideshow": {
     "slide_type": "subslide"
    }
   },
   "outputs": [
    {
     "name": "stdout",
     "output_type": "stream",
     "text": [
      "Waiting for bridge on edge ('Rotterdam', 'Dordrecht')\n",
      "Going from Rotterdam to Dordrecht, distance: 20000\n",
      "Going from Dordrecht to Den Bosch, distance: 40000\n",
      "Going from Den Bosch to Rotterdam, distance: 60000\n",
      "t: 61800.0\n"
     ]
    }
   ],
   "source": [
    "import json\n",
    "\n",
    "class SimpyObject:\n",
    "    def __init__(self, env):\n",
    "        self.env = env\n",
    "\n",
    "class Ship(SimpyObject):\n",
    "    def __init__(self, v, route, bridge, **kwargs):\n",
    "        # initialize super class with remaining variables\n",
    "        super().__init__(**kwargs)\n",
    "        self.v = v\n",
    "        self.route = route\n",
    "        self.bridge = bridge\n",
    "    def pass_edge(self, e):\n",
    "        \"\"\"compute distances and wait for the duration\"\"\"\n",
    "        # json configuration does not know about tuples, let's convert it before we use it\n",
    "        a, b = e\n",
    "        if tuple(self.bridge[\"edge\"]) == e:\n",
    "            print(f\"Waiting for bridge on edge {e}\")\n",
    "            yield env.timeout(bridge[\"wait\"])\n",
    "        distance = compute_distance(a, b)\n",
    "        duration = distance / self.v\n",
    "        print(f\"Going from {a} to {b}, distance: {distance}\")\n",
    "        yield env.timeout(duration)        \n",
    "    def move(self):\n",
    "        \"\"\"pass all edges in the route\"\"\"\n",
    "        for edge in edges(self.route):\n",
    "            yield from self.pass_edge(edge)\n",
    "\n",
    "## Simulation\n",
    "\n",
    "# Read input from file\n",
    "with open(\"config.json\") as f:\n",
    "    config = json.load(f)\n",
    "\n",
    "env = simpy.Environment()   \n",
    "env.network = config[\"network\"]\n",
    "# pass all ship parameters\n",
    "ship = Ship(env=env, bridge=config[\"bridge\"], **config[\"ship\"])\n",
    "env.process(ship.move())\n",
    "env.run()\n",
    "print(f\"t: {env.now}\")        "
   ]
  },
  {
   "cell_type": "markdown",
   "id": "7a545bb6",
   "metadata": {
    "slideshow": {
     "slide_type": "slide"
    }
   },
   "source": [
    "# Don't call us, we'll call you\n",
    "We can use the so called \"hollywood principle\" or \"inversion of control\" to add custom functions to the pass edge. "
   ]
  },
  {
   "cell_type": "code",
   "execution_count": 20,
   "id": "e4e1699e",
   "metadata": {
    "slideshow": {
     "slide_type": "subslide"
    }
   },
   "outputs": [],
   "source": [
    "import json\n",
    "\n",
    "class SimpyObject:\n",
    "    def __init__(self, env):\n",
    "        self.env = env\n",
    "\n",
    "class Ship(SimpyObject):\n",
    "    def __init__(self, v, route, bridge, **kwargs):\n",
    "        # initialize super class with remaining variables\n",
    "        super().__init__(**kwargs)\n",
    "        self.v = v\n",
    "        self.route = route\n",
    "        self.bridge = bridge\n",
    "        # you can \n",
    "        self.on_pass_edge = []\n",
    "    def pass_edge(self, e):\n",
    "        \"\"\"compute distances and wait for the duration\"\"\"\n",
    "        a, b = e\n",
    "        distance = compute_distance(a, b)\n",
    "        duration = distance / self.v\n",
    "        for gen in self.on_pass_edge:\n",
    "            yield from gen(self, e)\n",
    "        \n",
    "        print(f\"Going from {a} to {b}, distance: {distance}\")\n",
    "        yield env.timeout(duration)        \n",
    "    def move(self):\n",
    "        \"\"\"pass all edges in the route\"\"\"\n",
    "        for e in edges(self.route):\n",
    "            yield from self.pass_edge(e)\n"
   ]
  },
  {
   "cell_type": "code",
   "execution_count": 21,
   "id": "6d700dbd",
   "metadata": {
    "slideshow": {
     "slide_type": "subslide"
    }
   },
   "outputs": [
    {
     "name": "stdout",
     "output_type": "stream",
     "text": [
      "Waiting for bridge on edge ('Rotterdam', 'Dordrecht')\n",
      "Going from Rotterdam to Dordrecht, distance: 20000\n",
      "Going from Dordrecht to Den Bosch, distance: 40000\n",
      "Going from Den Bosch to Rotterdam, distance: 60000\n",
      "t: 61800.0\n"
     ]
    }
   ],
   "source": [
    "# Read input from file\n",
    "with open(\"config.json\") as f:\n",
    "    config = json.load(f)\n",
    "\n",
    "env = simpy.Environment()   \n",
    "env.network = config[\"network\"]\n",
    "# pass all ship parameters\n",
    "ship = Ship(env=env, bridge=config[\"bridge\"], **config[\"ship\"])\n",
    "\n",
    "def wait_for_bridge(ship, e):\n",
    "    if e == tuple(ship.bridge[\"edge\"]):\n",
    "        print(f\"Waiting for bridge on edge {e}\")\n",
    "        yield ship.env.timeout(ship.bridge[\"wait\"])\n",
    "\n",
    "    \n",
    "ship.on_pass_edge.append(wait_for_bridge)\n",
    "\n",
    "env.process(ship.move())\n",
    "env.run()\n",
    "print(f\"t: {env.now}\")        "
   ]
  },
  {
   "cell_type": "code",
   "execution_count": 22,
   "id": "a810c620",
   "metadata": {
    "slideshow": {
     "slide_type": "subslide"
    }
   },
   "outputs": [],
   "source": [
    "import json\n",
    "\n",
    "class SimpyObject:\n",
    "    def __init__(self, env):\n",
    "        self.env = env\n",
    "\n",
    "class Ship(SimpyObject):\n",
    "    def __init__(self, v, route, **kwargs):\n",
    "        # initialize super class with remaining variables\n",
    "        super().__init__(**kwargs)\n",
    "        self.v = v\n",
    "        self.route = route\n",
    "        # you can \n",
    "        self.on_pass_edge = []\n",
    "    def pass_edge(self, edge):\n",
    "        \"\"\"compute distances and wait for the duration\"\"\"\n",
    "        a, b = edge\n",
    "        destination = env.network[b][\"geometry\"]\n",
    "        origin = env.network[a][\"geometry\"]\n",
    "        distance = abs(destination - origin)\n",
    "        duration = distance / self.v\n",
    "        for gen in self.on_pass_edge:\n",
    "            yield from gen(edge)\n",
    "        \n",
    "        print(f\"Going from {a} to {b}, distance: {distance}\")\n",
    "        yield env.timeout(duration)        \n",
    "    def move(self):\n",
    "        \"\"\"pass all edges in the route\"\"\"\n",
    "        for edge in edges(self.route):\n",
    "            yield from self.pass_edge(edge)\n",
    "\n"
   ]
  },
  {
   "cell_type": "code",
   "execution_count": 23,
   "id": "edbdb8d0",
   "metadata": {
    "slideshow": {
     "slide_type": "subslide"
    }
   },
   "outputs": [
    {
     "name": "stdout",
     "output_type": "stream",
     "text": [
      "Waiting for bridge on edge ('Rotterdam', 'Dordrecht') for 1800s\n",
      "Going from Rotterdam to Dordrecht, distance: 20000\n",
      "Going from Dordrecht to Den Bosch, distance: 40000\n",
      "Going from Den Bosch to Rotterdam, distance: 60000\n",
      "t: 61800.0\n"
     ]
    }
   ],
   "source": [
    "\n",
    "class ShipWithBridge(Ship):\n",
    "    def __init__(self, bridge, *args, **kwargs):\n",
    "        super().__init__(**kwargs)\n",
    "        self.bridge = bridge\n",
    "        \n",
    "        # register to the on_pass_edge functions\n",
    "        self.on_pass_edge.append(self.wait_for_bridge)\n",
    "\n",
    "    def wait_for_bridge(self, e):\n",
    "        if e == tuple(self.bridge[\"edge\"]):\n",
    "            print(f\"Waiting for bridge on edge {e} for {self.bridge['wait']}s\")\n",
    "            yield ship.env.timeout(self.bridge[\"wait\"])\n",
    "\n",
    "# Read input from file\n",
    "with open(\"config.json\") as f:\n",
    "    config = json.load(f)\n",
    "\n",
    "env = simpy.Environment()   \n",
    "env.network = config[\"network\"]\n",
    "\n",
    "# pass all ship parameters\n",
    "ship = ShipWithBridge(env=env, bridge=config[\"bridge\"], **config[\"ship\"])  \n",
    "env.process(ship.move())\n",
    "env.run()\n",
    "print(f\"t: {env.now}\")        "
   ]
  },
  {
   "cell_type": "code",
   "execution_count": null,
   "id": "edfa9a9c",
   "metadata": {},
   "outputs": [],
   "source": []
  }
 ],
 "metadata": {
  "celltoolbar": "Slideshow",
  "kernelspec": {
   "display_name": "Python 3 (ipykernel)",
   "language": "python",
   "name": "python3"
  },
  "language_info": {
   "codemirror_mode": {
    "name": "ipython",
    "version": 3
   },
   "file_extension": ".py",
   "mimetype": "text/x-python",
   "name": "python",
   "nbconvert_exporter": "python",
   "pygments_lexer": "ipython3",
   "version": "3.9.10"
  }
 },
 "nbformat": 4,
 "nbformat_minor": 5
}
