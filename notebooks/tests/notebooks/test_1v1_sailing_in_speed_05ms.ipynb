{
 "cells": [
  {
   "cell_type": "markdown",
   "id": "9456a8d9-905b-42e5-95f6-527173f78040",
   "metadata": {},
   "source": [
    "### Libraries"
   ]
  },
  {
   "cell_type": "code",
   "execution_count": null,
   "id": "1fce68bd-58c4-4320-9f1f-de383b02af43",
   "metadata": {},
   "outputs": [],
   "source": [
    "import networkx as nx\n",
    "from shapely.geometry import Point,LineString,Polygon\n",
    "\n",
    "import simpy\n",
    "import xarray as xr\n",
    "\n",
    "from opentnsim import core as core_module\n",
    "from opentnsim import graph as graph_module\n",
    "from opentnsim import lock_new as lock_module\n",
    "from opentnsim import energy as energy_module\n",
    "from opentnsim import output as output_module\n",
    "from opentnsim import vessel as vessel_module\n",
    "from opentnsim import vessel_traffic_service as vessel_traffic_service_module\n",
    "from opentnsim import zeesluisformulering as ZSF\n",
    "from netCDF4 import Dataset\n",
    "import datetime\n",
    "import pandas as pd\n",
    "import os\n",
    "import numpy as np\n",
    "import matplotlib.pyplot as plt\n",
    "import pickle\n",
    "import matplotlib.dates as mdates\n",
    "import folium\n",
    "from shapely.ops import nearest_points, linemerge, split, snap, transform\n",
    "import pyproj\n",
    "import re\n",
    "path = os.getcwd()"
   ]
  },
  {
   "cell_type": "markdown",
   "id": "065c451d-a2d5-4576-bfb8-146998afa5ef",
   "metadata": {},
   "source": [
    "### Simulation"
   ]
  },
  {
   "cell_type": "code",
   "execution_count": null,
   "id": "60b69fd2-b4b5-483a-ae07-ab3fff86cc71",
   "metadata": {},
   "outputs": [],
   "source": [
    "env = simpy.Environment()\n",
    "t_start = datetime.datetime(2025, 1, 1, 0, 0, 0)\n",
    "t_stop = datetime.datetime(2026, 1, 1, 0, 0, 0)\n",
    "\n",
    "env = simpy.Environment(initial_time=t_start.timestamp())\n",
    "env.epoch = t_start\n",
    "env.simulation_start = t_start\n",
    "env.simulation_stop = t_stop"
   ]
  },
  {
   "cell_type": "markdown",
   "id": "f327fa97-485a-466b-ba99-f66cd78de7e4",
   "metadata": {},
   "source": [
    "### Network"
   ]
  },
  {
   "cell_type": "code",
   "execution_count": null,
   "id": "c9a98ae7-ffd1-4e98-be02-d02477a26f9a",
   "metadata": {},
   "outputs": [],
   "source": [
    "wgs84eqd = pyproj.CRS('4087')\n",
    "wgs84rad = pyproj.CRS('4326')\n",
    "wgs84eqd_to_wgs84rad = pyproj.transformer.Transformer.from_crs(wgs84eqd,wgs84rad,always_xy=True).transform\n",
    "wgs84rad_to_wgs84eqd = pyproj.transformer.Transformer.from_crs(wgs84rad,wgs84eqd,always_xy=True).transform\n",
    "\n",
    "graph = nx.MultiDiGraph()\n",
    "graph.add_node('A',geometry=transform(wgs84eqd_to_wgs84rad,Point(-5000,0)))\n",
    "graph.add_node('B',geometry=transform(wgs84eqd_to_wgs84rad,Point(5000,0)))\n",
    "graph.add_edge('A','B',geometry=transform(wgs84eqd_to_wgs84rad,LineString([Point(-5000,0),Point(5000,0)])),length=10000)\n",
    "graph.add_edge('B','A',geometry=transform(wgs84eqd_to_wgs84rad,LineString([Point(5000,0),Point(-5000,0)])),length=10000)\n",
    "pos = {edge:(point.x,point.y) for edge,point in nx.get_node_attributes(graph, 'geometry').items()}\n",
    "nx.draw(graph,pos,with_labels=True)\n",
    "env.FG = graph"
   ]
  },
  {
   "cell_type": "markdown",
   "id": "5c4699e2-cd26-4609-88b3-b0887183ef6c",
   "metadata": {},
   "source": [
    "### Hydrodynamics"
   ]
  },
  {
   "cell_type": "code",
   "execution_count": null,
   "id": "9dc50e60-4d70-4ec3-88aa-0ff0a3e8501b",
   "metadata": {},
   "outputs": [],
   "source": [
    "if not os.path.isdir(path+\"\\\\hydrodynamic_data\\\\\"):\n",
    "    os.mkdir(path+\"\\\\hydrodynamic_data\\\\\")\n",
    "if \"hydrodynamic_data_test.nc\" not in os.listdir(path+\"\\\\hydrodynamic_data\\\\\"):\n",
    "    hydrodynamic_data = xr.Dataset()\n",
    "    times = np.arange(pd.Timestamp('2025-01-01 00:00'),pd.Timestamp('2026-01-01 00:00'),pd.Timedelta(5,'min'))\n",
    "    nodes = np.array(['A','B'])\n",
    "    wlevs = np.array([np.array([np.sin((2*np.pi/(12.5*60*60))*x) for x in np.arange(0,365*24*60*60,5*60)]),np.zeros(len(times))])\n",
    "    salinity = np.array([30*np.ones(len(times)),np.zeros(len(times))])\n",
    "    wlev_data = xr.DataArray(data=wlevs,coords={'STATION':nodes,'TIME':times})\n",
    "    salinity_data = xr.DataArray(data=salinity,coords={'STATION':nodes,'TIME':times})\n",
    "    hydrodynamic_data['Water level'] = wlev_data\n",
    "    hydrodynamic_data['Salinity'] = salinity_data\n",
    "    hydrodynamic_data.to_netcdf(path+\"\\\\hydrodynamic_data\\\\hydrodynamic_data_test.nc\")"
   ]
  },
  {
   "cell_type": "markdown",
   "id": "59a0ea0a-991c-4371-8953-d2e1a2f318fe",
   "metadata": {},
   "source": [
    "### Vessel speed"
   ]
  },
  {
   "cell_type": "code",
   "execution_count": null,
   "id": "c9155ec6-6031-49a6-993b-1277a3b16600",
   "metadata": {},
   "outputs": [],
   "source": [
    "if not os.path.isdir(path+\"\\\\speed_data\\\\\"):\n",
    "    os.mkdir(path+\"\\\\speed_data\\\\\")\n",
    "if \"speed_data_test.pkl\" not in os.listdir(path+\"\\\\speed_data\\\\\"):\n",
    "    edge_index = [('A','B',0),('B','A',0)]\n",
    "    data = np.array([6,6])\n",
    "    vessel_speed_data = pd.DataFrame(data=data,columns=['Speed'],index=edge_index)\n",
    "    vessel_speed_data.to_pickle(path + '\\\\speed_data\\\\speed_data_test.pkl')"
   ]
  },
  {
   "cell_type": "markdown",
   "id": "84ec3beb-734a-4d3f-8d77-cf25333e80e3",
   "metadata": {},
   "source": [
    "### Vessel traffic services"
   ]
  },
  {
   "cell_type": "code",
   "execution_count": null,
   "id": "feade995-f734-4b1e-95df-4131efded0ad",
   "metadata": {},
   "outputs": [],
   "source": [
    "env.vessel_traffic_service = vessel_traffic_service_module.VesselTrafficService(FG=graph, \n",
    "                                                                                hydrodynamic_start_time = pd.Timestamp('2025-01-01 00:00'),\n",
    "                                                                                hydrodynamic_information_path = path+\"\\\\hydrodynamic_data\\\\hydrodynamic_data_test.nc\", \n",
    "                                                                                vessel_speed_data_path = path + '\\\\speed_data\\\\speed_data_test.pkl')"
   ]
  },
  {
   "cell_type": "markdown",
   "id": "3ae8afad-8401-41cb-aaa0-60750df40174",
   "metadata": {},
   "source": [
    "### Lock object"
   ]
  },
  {
   "cell_type": "code",
   "execution_count": null,
   "id": "070250e0-5026-451b-b8ae-90ed38303639",
   "metadata": {},
   "outputs": [],
   "source": [
    "lock = lock_module.IsLockComplex(env=env,\n",
    "                                 name='Lock',\n",
    "                                 start_node='A',\n",
    "                                 node_open='A',\n",
    "                                 end_node='B',\n",
    "                                 approach_node_A = 'A',\n",
    "                                 approach_node_B = 'B',\n",
    "                                 distance_lock_doors_A_to_waiting_area_A = 4800,\n",
    "                                 distance_lock_doors_B_to_waiting_area_B = 4800,\n",
    "                                 distance_from_start_node_to_lock_doors_A = 4800,\n",
    "                                 distance_from_end_node_to_lock_doors_B = 4800,\n",
    "                                 lock_length = 400,\n",
    "                                 lock_width = 50,\n",
    "                                 lock_depth = 15,\n",
    "                                 levelling_time = 300,\n",
    "                                 disch_coeff = 0.65,\n",
    "                                 gate_opening_time = 120,\n",
    "                                 opening_area = 80,\n",
    "                                 sailing_distance_to_crossing_point = 1800,\n",
    "                                 doors_opening_time= 300,\n",
    "                                 doors_closing_time= 300,\n",
    "                                 sailing_in_time_gap = 300,\n",
    "                                 sailing_in_speed = 0.5,\n",
    "                                 sailing_out_time_gap = 120,\n",
    "                                 time_step = 30,\n",
    "                                 sailing_time_before_opening_lock_doors = 600,\n",
    "                                 sailing_time_before_closing_lock_doors = 120,\n",
    "                                 detector_nodes = ['A','B'],\n",
    "                                 predictive=False)"
   ]
  },
  {
   "cell_type": "markdown",
   "id": "c78bb1ca-51c3-4507-8775-3ba6c286c6fe",
   "metadata": {},
   "source": [
    "### Vessels"
   ]
  },
  {
   "cell_type": "code",
   "execution_count": null,
   "id": "8ece6baf-79c3-40d9-984f-27a57d439fcd",
   "metadata": {},
   "outputs": [],
   "source": [
    "Vessel = type('Vessel',(energy_module.ConsumesEnergy,lock_module.PassesLockComplex,vessel_module.IsVessel,),{}) "
   ]
  },
  {
   "cell_type": "code",
   "execution_count": null,
   "id": "5614779a-8c66-44e8-9df1-25a11bb920c0",
   "metadata": {},
   "outputs": [],
   "source": [
    "vessel_1 = Vessel(**{\"env\": env,\n",
    "                     \"name\": 'Vessel 1',\n",
    "                     \"origin\": 'A',\n",
    "                     \"destination\": 'B',\n",
    "                     \"type\": 'tanker',\n",
    "                     \"bound\": 'outbound',\n",
    "                     \"L\": 100,\n",
    "                     \"B\": 20,\n",
    "                     \"T\": 10,\n",
    "                     \"v\": 4,\n",
    "                     \"P_installed\": 50000*1000,\n",
    "                     \"C_year\": 2010,\n",
    "                     \"L_w\":3,\n",
    "                     \"arrival_time\": pd.Timestamp('2025-01-01 00:00:00')})\n",
    "vessel_1.process = env.process(vessel_1.move())\n",
    "\n",
    "vessel_2 = Vessel(**{\"env\": env,\n",
    "                     \"name\": 'Vessel 2',\n",
    "                     \"origin\": 'B',\n",
    "                     \"destination\": 'A',\n",
    "                     \"type\": 'tanker',\n",
    "                     \"bound\": 'outbound',\n",
    "                     \"L\": 100,\n",
    "                     \"B\": 20,\n",
    "                     \"T\": 10,\n",
    "                     \"v\": 4,\n",
    "                     \"P_installed\": 50000*1000,\n",
    "                     \"C_year\": 2010,\n",
    "                     \"L_w\":3,\n",
    "                     \"C_year\": 2010,\n",
    "                     \"arrival_time\": pd.Timestamp('2025-01-01 00:05:00')})\n",
    "vessel_2.process = env.process(vessel_2.move())\n",
    "\n",
    "vessels = []\n",
    "vessels.append(vessel_1)\n",
    "vessels.append(vessel_2)"
   ]
  },
  {
   "cell_type": "markdown",
   "id": "855cba4f-4ae5-43bd-b5ad-3b322b5bcb45",
   "metadata": {},
   "source": [
    "### Run model"
   ]
  },
  {
   "cell_type": "code",
   "execution_count": null,
   "id": "db6eabd2-ef94-4990-9d18-56fb7dabdaa2",
   "metadata": {},
   "outputs": [],
   "source": [
    "env.run()"
   ]
  },
  {
   "cell_type": "code",
   "execution_count": null,
   "id": "67a0e38e-3a5f-4bed-82cb-af872c42b600",
   "metadata": {},
   "outputs": [],
   "source": [
    "pd.Timestamp('2025-01-01 00:35:40')+pd.Timedelta(seconds=500)"
   ]
  },
  {
   "cell_type": "code",
   "execution_count": null,
   "id": "bb868074-a8fd-4b5c-905b-d80eac3480d8",
   "metadata": {},
   "outputs": [],
   "source": [
    "lock_df = pd.DataFrame(lock.logbook)\n",
    "vessel_df1 = pd.DataFrame(vessel_1.logbook)\n",
    "vessel_df2 = pd.DataFrame(vessel_2.logbook)"
   ]
  },
  {
   "cell_type": "code",
   "execution_count": null,
   "id": "2c39eec1-6dfa-4291-acf4-dc0e483a399b",
   "metadata": {},
   "outputs": [],
   "source": [
    "#Testing time that vessel enters the lock\n",
    "np.testing.assert_almost_equal(lock.operation_planning.iloc[0].time_entry_start.round('s').to_pydatetime().timestamp()/10,\n",
    "                               vessel_df1.loc[2].Timestamp.to_pydatetime().timestamp()/10,decimal=0)\n",
    "\n",
    "#Testing time that vessel stops in the lock\n",
    "np.testing.assert_almost_equal(lock.operation_planning.iloc[0].time_entry_stop.round('s').to_pydatetime().timestamp()/10,\n",
    "                               vessel_df1.loc[4].Timestamp.to_pydatetime().timestamp()/10,decimal=0)\n",
    "\n",
    "# Testing time that lock door is closing start\n",
    "np.testing.assert_almost_equal(lock.operation_planning.iloc[0].time_door_closing_start.round('s').to_pydatetime().timestamp()/10,\n",
    "                               lock_df.loc[0].Timestamp.to_pydatetime().timestamp()/10,decimal=0)\n",
    "\n",
    "# Testing time that lock door is closing stop\n",
    "np.testing.assert_almost_equal(lock.operation_planning.iloc[0].time_door_closing_stop.round('s').to_pydatetime().timestamp()/10,\n",
    "                               lock_df.loc[1].Timestamp.to_pydatetime().timestamp()/10,decimal=0)\n",
    "\n",
    "# Testing time that lock is levelling start\n",
    "np.testing.assert_almost_equal(lock.operation_planning.iloc[0].time_levelling_start.round('s').to_pydatetime().timestamp()/10,\n",
    "                               lock_df.loc[2].Timestamp.to_pydatetime().timestamp()/10,decimal=0)\n",
    "\n",
    "# Testing time that lock is levelling stop\n",
    "np.testing.assert_almost_equal(lock.operation_planning.iloc[0].time_levelling_stop.round('s').to_pydatetime().timestamp()/10,\n",
    "                               lock_df.loc[3].Timestamp.to_pydatetime().timestamp()/10,decimal=0)\n",
    "\n",
    "# Testing time that lock door is opening start\n",
    "np.testing.assert_almost_equal(lock.operation_planning.iloc[0].time_door_opening_start.round('s').to_pydatetime().timestamp()/10,\n",
    "                               lock_df.loc[4].Timestamp.to_pydatetime().timestamp()/10,decimal=0)\n",
    "\n",
    "# Testing time that lock door is closing stop\n",
    "np.testing.assert_almost_equal(lock.operation_planning.iloc[0].time_door_opening_stop.round('s').to_pydatetime().timestamp()/10,\n",
    "                               lock_df.loc[5].Timestamp.to_pydatetime().timestamp()/10,decimal=0)\n",
    "\n",
    "# Testing time that vessel is starting to sail out of lock\n",
    "np.testing.assert_almost_equal(lock.operation_planning.iloc[0].time_departure_start.round('s').to_pydatetime().timestamp()/10,\n",
    "                               vessel_df1.loc[7].Timestamp.to_pydatetime().timestamp()/10,decimal=0)\n",
    "\n",
    "# Testing time that vessel is has sailed out of lock\n",
    "np.testing.assert_almost_equal(lock.operation_planning.iloc[0].time_departure_stop.round('s').to_pydatetime().timestamp()/10,\n",
    "                               vessel_df1.loc[8].Timestamp.to_pydatetime().timestamp()/10,decimal=0)\n",
    "\n",
    "#Testing time that vessel enters the lock\n",
    "np.testing.assert_almost_equal(lock.operation_planning.iloc[1].time_entry_start.round('s').to_pydatetime().timestamp()/10,\n",
    "                               vessel_df2.loc[5].Timestamp.to_pydatetime().timestamp()/10,decimal=0)\n",
    "\n",
    "#Testing time that vessel stops in the lock\n",
    "np.testing.assert_almost_equal(lock.operation_planning.iloc[1].time_entry_stop.round('s').to_pydatetime().timestamp()/10,\n",
    "                               vessel_df2.loc[6].Timestamp.to_pydatetime().timestamp()/10,decimal=0)\n",
    "\n",
    "# Testing time that lock door is closing start\n",
    "np.testing.assert_almost_equal(lock.operation_planning.iloc[1].time_door_closing_start.round('s').to_pydatetime().timestamp()/10,\n",
    "                               lock_df.loc[6].Timestamp.to_pydatetime().timestamp()/10,decimal=0)\n",
    "\n",
    "# Testing time that lock door is closing stop\n",
    "np.testing.assert_almost_equal(lock.operation_planning.iloc[1].time_door_closing_stop.round('s').to_pydatetime().timestamp()/10,\n",
    "                               lock_df.loc[7].Timestamp.to_pydatetime().timestamp()/10,decimal=0)\n",
    "\n",
    "# Testing time that lock is levelling start\n",
    "np.testing.assert_almost_equal(lock.operation_planning.iloc[1].time_levelling_start.round('s').to_pydatetime().timestamp()/10,\n",
    "                               lock_df.loc[8].Timestamp.to_pydatetime().timestamp()/10,decimal=0)\n",
    "\n",
    "# Testing time that lock is levelling stop\n",
    "np.testing.assert_almost_equal(lock.operation_planning.iloc[1].time_levelling_stop.round('s').to_pydatetime().timestamp()/10,\n",
    "                               lock_df.loc[9].Timestamp.to_pydatetime().timestamp()/10,decimal=0)\n",
    "\n",
    "# Testing time that lock door is opening start\n",
    "np.testing.assert_almost_equal(lock.operation_planning.iloc[1].time_door_opening_start.round('s').to_pydatetime().timestamp()/10,\n",
    "                               lock_df.loc[10].Timestamp.to_pydatetime().timestamp()/10,decimal=0)\n",
    "\n",
    "# Testing time that lock door is closing stop\n",
    "np.testing.assert_almost_equal(lock.operation_planning.iloc[1].time_door_opening_stop.round('s').to_pydatetime().timestamp()/10,\n",
    "                               lock_df.loc[11].Timestamp.to_pydatetime().timestamp()/10,decimal=0)\n",
    "\n",
    "# Testing time that vessel is starting to sail out of lock\n",
    "np.testing.assert_almost_equal(lock.operation_planning.iloc[1].time_departure_start.round('s').to_pydatetime().timestamp()/10,\n",
    "                               vessel_df2.loc[9].Timestamp.to_pydatetime().timestamp()/10,decimal=0)\n",
    "\n",
    "# Testing time that vessel is has sailed out of lock\n",
    "np.testing.assert_almost_equal(lock.operation_planning.iloc[1].time_departure_stop.round('s').to_pydatetime().timestamp()/10,\n",
    "                               vessel_df2.loc[10].Timestamp.to_pydatetime().timestamp()/10,decimal=0)\n",
    "\n",
    "np.testing.assert_equal(len(lock_df),12)\n",
    "print('test check')"
   ]
  },
  {
   "cell_type": "code",
   "execution_count": null,
   "id": "cd7a3b02-9ac4-4ed5-ac60-4f22eb1d18a2",
   "metadata": {},
   "outputs": [],
   "source": []
  }
 ],
 "metadata": {
  "kernelspec": {
   "display_name": "Python 3 (ipykernel)",
   "language": "python",
   "name": "python3"
  },
  "language_info": {
   "codemirror_mode": {
    "name": "ipython",
    "version": 3
   },
   "file_extension": ".py",
   "mimetype": "text/x-python",
   "name": "python",
   "nbconvert_exporter": "python",
   "pygments_lexer": "ipython3",
   "version": "3.10.16"
  }
 },
 "nbformat": 4,
 "nbformat_minor": 5
}
