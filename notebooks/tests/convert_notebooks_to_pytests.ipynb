{
 "cells": [
  {
   "cell_type": "code",
   "execution_count": 33,
   "id": "426fb8b3-8776-487d-8556-a6e806d20b43",
   "metadata": {},
   "outputs": [],
   "source": [
    "from nbconvert import PythonExporter\n",
    "import os\n",
    "import nbformat"
   ]
  },
  {
   "cell_type": "code",
   "execution_count": 34,
   "id": "d8389cf1-246c-4ea5-9fab-635522059871",
   "metadata": {},
   "outputs": [
    {
     "name": "stdout",
     "output_type": "stream",
     "text": [
      "Converted test_2v1_FCFS_closing_doors_between_operations.ipynb to Python file: C:\\Users\\floorbakker\\OpenTNSim\\notebooks\\tests\\test_2v1_FCFS_closing_doors_between_operations.py\n"
     ]
    }
   ],
   "source": [
    "# Path to the directory containing the .ipynb files\n",
    "directory = directory_raw = os.getcwd()\n",
    "\n",
    "# Loop through all files in the directory\n",
    "for filename in os.listdir(directory):\n",
    "    if filename.endswith('.ipynb'):\n",
    "        if filename == 'convert_notebooks_to_pytests.ipynb':\n",
    "            continue\n",
    "        # Construct the full file path\n",
    "        notebook_path = os.path.join(directory, filename)\n",
    "        \n",
    "        # Open and load the notebook file\n",
    "        with open(notebook_path, 'r', encoding='utf-8') as nb_file:\n",
    "            notebook_content = nbformat.read(nb_file, as_version=4)\n",
    "        \n",
    "        # Initialize the PythonExporter\n",
    "        exporter = PythonExporter()\n",
    "        \n",
    "        # Convert the notebook to Python code\n",
    "        python_code, _ = exporter.from_notebook_node(notebook_content)\n",
    "        \n",
    "        # Define the output Python file name\n",
    "        python_file = notebook_path.replace('.ipynb', '.py').split(\"\\\\\")[-1]\n",
    "        python_file = directory_raw + f\"\\{python_file}\"\n",
    "        \n",
    "        # Write the Python code to a .py file\n",
    "        with open(python_file, 'w', encoding='utf-8') as py_file:\n",
    "            py_file.write(python_code)\n",
    "        \n",
    "        print(f'Converted {filename} to Python file: {python_file}')"
   ]
  },
  {
   "cell_type": "code",
   "execution_count": 17,
   "id": "cfbbf975-662c-4f95-b0df-84ef091c5900",
   "metadata": {},
   "outputs": [
    {
     "ename": "SyntaxError",
     "evalue": "'break' outside loop (668683560.py, line 1)",
     "output_type": "error",
     "traceback": [
      "\u001b[1;36m  Cell \u001b[1;32mIn[17], line 1\u001b[1;36m\u001b[0m\n\u001b[1;33m    break\u001b[0m\n\u001b[1;37m    ^\u001b[0m\n\u001b[1;31mSyntaxError\u001b[0m\u001b[1;31m:\u001b[0m 'break' outside loop\n"
     ]
    }
   ],
   "source": [
    "break"
   ]
  },
  {
   "cell_type": "code",
   "execution_count": 27,
   "id": "bd52ece4-cd12-4236-895c-26f1b2eca85b",
   "metadata": {},
   "outputs": [],
   "source": [
    "import os\n",
    "\n",
    "def replace_parameter_in_files(directory, old_name, new_name):\n",
    "    # Loop through all files in the specified directory\n",
    "    for filename in os.listdir(directory):\n",
    "        # Check if the file is a Python file\n",
    "        if filename.endswith(\".py\"):\n",
    "            file_path = os.path.join(directory, filename)\n",
    "            # Open the file and read its content\n",
    "            with open(file_path, \"r\") as file:\n",
    "                content = file.read()\n",
    "\n",
    "            # Replace the old parameter name with the new one\n",
    "            updated_content = content.replace(old_name, new_name)\n",
    "\n",
    "            # Save the updated content back to the file\n",
    "            with open(file_path, \"w\") as file:\n",
    "                file.write(updated_content)\n",
    "            print(f\"Updated {filename}\")"
   ]
  },
  {
   "cell_type": "code",
   "execution_count": 28,
   "id": "b16b9c45-4a15-40be-a7a6-a9eb49e7a289",
   "metadata": {},
   "outputs": [],
   "source": [
    "path = os.getcwd()"
   ]
  },
  {
   "cell_type": "code",
   "execution_count": 30,
   "id": "97ea7972-ec8b-4d96-88d3-d7f6bc0caa9a",
   "metadata": {},
   "outputs": [
    {
     "name": "stdout",
     "output_type": "stream",
     "text": [
      "Updated test_1v1_asymmetric_lock_complex_on_edge_with_waiting_areas.py\n",
      "Updated test_1v1_crossing1800m.py\n",
      "Updated test_1v1_crossing1800m_wlev_diff_based_levelling.py\n",
      "Updated test_1v1_crossing300m.py\n",
      "Updated test_1v1_sailing_in_speed_05ms.py\n",
      "Updated test_1vessel.py\n",
      "Updated test_1vessel_decreased_door_movement_time.py\n",
      "Updated test_1vessel_faster_approach_speed.py\n",
      "Updated test_1vessel_increased_levelling_time.py\n",
      "Updated test_1vessel_longer_vessel.py\n",
      "Updated test_1vessel_reduced_entry_speed.py\n",
      "Updated test_1vessel_simplest.py\n",
      "Updated test_1vessel_smaller_lock.py\n",
      "Updated test_1vessel_with_empty_lockage_required.py\n",
      "Updated test_1_levelling_time_based_on_wlev_diff.py\n",
      "Updated test_2v1_FCFS_clustering.py\n",
      "Updated test_2v1_FCFS_clustering_changed_sailing_in_gap.py\n",
      "Updated test_2v1_noFCFS_clustering.py\n",
      "Updated test_2v1_noFCFS_noclustering.py\n",
      "Updated test_2v1_nonpredictive_latearrival.py\n",
      "Updated test_2v1_predictive_latearrival.py\n",
      "Updated test_2v2_clustered.py\n",
      "Updated test_2v2_smooth_operator.py\n",
      "Updated test_3v0_3vessels_clustered.py\n",
      "Updated test_3v0_emptylockagerequired.py\n",
      "Updated test_3v0_max_number_of_vessels.py\n",
      "Updated test_4v0_min_and_max_vessels_in_operations.py\n",
      "Updated test_4v0_min_vessels_in_operations.py\n",
      "Updated test_close_doors_before_vessel_is_laying_still1.py\n",
      "Updated test_close_doors_before_vessel_is_laying_still2.py\n"
     ]
    }
   ],
   "source": [
    "replace_parameter_in_files(path, 'sailing_out_time_gap', 'sailing_out_time_gap_through_doors')"
   ]
  },
  {
   "cell_type": "code",
   "execution_count": null,
   "id": "e81c9f4d-f27f-4347-9af9-a9b29a4aad58",
   "metadata": {},
   "outputs": [],
   "source": []
  }
 ],
 "metadata": {
  "kernelspec": {
   "display_name": "Python 3 (ipykernel)",
   "language": "python",
   "name": "python3"
  },
  "language_info": {
   "codemirror_mode": {
    "name": "ipython",
    "version": 3
   },
   "file_extension": ".py",
   "mimetype": "text/x-python",
   "name": "python",
   "nbconvert_exporter": "python",
   "pygments_lexer": "ipython3",
   "version": "3.10.16"
  }
 },
 "nbformat": 4,
 "nbformat_minor": 5
}
