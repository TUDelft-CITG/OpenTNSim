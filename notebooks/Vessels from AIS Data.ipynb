{
 "cells": [
  {
   "cell_type": "markdown",
   "id": "29e4beae",
   "metadata": {},
   "source": [
    "# Vessels - AIS Data\n"
   ]
  },
  {
   "cell_type": "markdown",
   "id": "e40ac8bc",
   "metadata": {},
   "source": [
    "In this notebook, we show how to retrieve and analyse information from AIS messages.\n",
    "\n",
    "We take the following steps:\n",
    "\n",
    " 1. [Imports](#1.-Imports)\n",
    " 2. [Load and read the Data](#2.-Load-and-read-the-data)\n",
    " 3. [Create a list of vessels](#3.-Create-a-list-of-vessels)"
   ]
  },
  {
   "cell_type": "markdown",
   "id": "36e83773",
   "metadata": {},
   "source": [
    "# 1. Imports"
   ]
  },
  {
   "cell_type": "code",
   "execution_count": 14,
   "id": "a6b244ad",
   "metadata": {},
   "outputs": [
    {
     "name": "stdout",
     "output_type": "stream",
     "text": [
      "This notebook is executed with OpenTNSim version 1.0.0\n"
     ]
    }
   ],
   "source": [
    "# package(s) used for creating and geo-locating the graph\n",
    "import networkx as nx  \n",
    "import shapely.geometry\n",
    "import pyproj\n",
    "\n",
    "# package(s) related to the simulation (creating the vessel, running the simulation)\n",
    "import datetime, time\n",
    "import simpy\n",
    "import opentnsim\n",
    "from opentnsim import core\n",
    "\n",
    "# package(s) needed for data handling and inspecting output\n",
    "import numpy as np\n",
    "import pathlib\n",
    "import os\n",
    "import pandas as pd\n",
    "import geopandas as gpd\n",
    "#import movingpandas still gives error\n",
    "\n",
    "# package(s) needed for plotting\n",
    "import matplotlib.pyplot as plt\n",
    "from matplotlib.ticker import MaxNLocator\n",
    "\n",
    "print('This notebook is executed with OpenTNSim version {}'.format(opentnsim.__version__))"
   ]
  },
  {
   "cell_type": "markdown",
   "id": "0b5f8350",
   "metadata": {},
   "source": [
    "# 2. Load and read the data"
   ]
  },
  {
   "cell_type": "markdown",
   "id": "45252f55",
   "metadata": {},
   "source": [
    "For this example we'll use a representative AIS data file called \"ais.csv\". Make sure to have this file in a known (and convenient) directory. We'll use the combination of pandas, geopandas and movingpandas to read the data.\n",
    "Pandas reads the data as a table. Geopandas adds the location and movingpandas adds the time information. \n",
    "The result is that we can use data as table, feature (geospatial) and trajectory (moving objects). "
   ]
  },
  {
   "cell_type": "code",
   "execution_count": 2,
   "id": "106660a6",
   "metadata": {},
   "outputs": [],
   "source": [
    "import pathlib\n",
    "import os\n",
    "import pandas as pd\n",
    "import geopandas as gpd\n",
    "#import movingpandas "
   ]
  },
  {
   "cell_type": "code",
   "execution_count": 3,
   "id": "0a21f9e6",
   "metadata": {},
   "outputs": [
    {
     "data": {
      "text/plain": [
       "'C:\\\\Users\\\\maxva\\\\Desktop\\\\TU\\\\TA Work\\\\OpenTNSim\\\\GitHub\\\\notebooks'"
      ]
     },
     "execution_count": 3,
     "metadata": {},
     "output_type": "execute_result"
    }
   ],
   "source": [
    "#Check in which Current Working Directory you are working\n",
    "os.getcwd()"
   ]
  },
  {
   "cell_type": "code",
   "execution_count": 4,
   "id": "e48b3407",
   "metadata": {},
   "outputs": [],
   "source": [
    "#Determine where your data file is and create the directory\n",
    "\n",
    "data_dir = pathlib.Path('../data')"
   ]
  },
  {
   "cell_type": "code",
   "execution_count": 5,
   "id": "dd95dde9",
   "metadata": {},
   "outputs": [],
   "source": [
    "ais_df = pd.read_csv(data_dir / 'ais.csv')\n",
    "ais_df['geometry'] = ais_df.apply(lambda x: shapely.geometry.Point(x['LON'], x['LAT']), axis=1)"
   ]
  },
  {
   "cell_type": "markdown",
   "id": "dcacf4c3",
   "metadata": {},
   "source": [
    "# 3. Create a list of vessels\n",
    "\n"
   ]
  },
  {
   "cell_type": "markdown",
   "id": "ce2a8206",
   "metadata": {},
   "source": [
    "Instead of creating a vessel class, it is also possible to create a list of vessels from AIS-data. The data from the 'ais.csv'-file can be filtered by multiple different criteria. For this example we will filter by a certain terminal type."
   ]
  },
  {
   "cell_type": "code",
   "execution_count": 10,
   "id": "b231291d",
   "metadata": {},
   "outputs": [
    {
     "data": {
      "text/html": [
       "<div>\n",
       "<style scoped>\n",
       "    .dataframe tbody tr th:only-of-type {\n",
       "        vertical-align: middle;\n",
       "    }\n",
       "\n",
       "    .dataframe tbody tr th {\n",
       "        vertical-align: top;\n",
       "    }\n",
       "\n",
       "    .dataframe thead th {\n",
       "        text-align: right;\n",
       "    }\n",
       "</style>\n",
       "<table border=\"1\" class=\"dataframe\">\n",
       "  <thead>\n",
       "    <tr style=\"text-align: right;\">\n",
       "      <th></th>\n",
       "      <th>name</th>\n",
       "      <th>geometry</th>\n",
       "      <th>vessel_type</th>\n",
       "      <th>terminal</th>\n",
       "      <th>length</th>\n",
       "    </tr>\n",
       "  </thead>\n",
       "  <tbody>\n",
       "    <tr>\n",
       "      <th>0</th>\n",
       "      <td>ALFA BALTICA</td>\n",
       "      <td>POINT (3.585885 52.19487)</td>\n",
       "      <td>Crude Oil Tanker</td>\n",
       "      <td>Liquid</td>\n",
       "      <td>228.0</td>\n",
       "    </tr>\n",
       "    <tr>\n",
       "      <th>1</th>\n",
       "      <td>DAYTONA</td>\n",
       "      <td>POINT (3.809318 52.06665)</td>\n",
       "      <td>Crude Oil Tanker</td>\n",
       "      <td>Liquid</td>\n",
       "      <td>248.0</td>\n",
       "    </tr>\n",
       "    <tr>\n",
       "      <th>2</th>\n",
       "      <td>ST PAUL</td>\n",
       "      <td>POINT (3.585517 52.05602)</td>\n",
       "      <td>Bulk Carrier</td>\n",
       "      <td>Bulk</td>\n",
       "      <td>189.0</td>\n",
       "    </tr>\n",
       "    <tr>\n",
       "      <th>3</th>\n",
       "      <td>GEORGY MASLOV</td>\n",
       "      <td>POINT (3.562725 52.1756)</td>\n",
       "      <td>Crude Oil Tanker</td>\n",
       "      <td>Liquid</td>\n",
       "      <td>249.0</td>\n",
       "    </tr>\n",
       "    <tr>\n",
       "      <th>4</th>\n",
       "      <td>SYDNEY SPIRIT</td>\n",
       "      <td>POINT (3.682493 52.20705)</td>\n",
       "      <td>Crude Oil Tanker</td>\n",
       "      <td>Liquid</td>\n",
       "      <td>274.0</td>\n",
       "    </tr>\n",
       "    <tr>\n",
       "      <th>5</th>\n",
       "      <td>LOTUS A</td>\n",
       "      <td>POINT (3.621987 52.19629)</td>\n",
       "      <td>Container</td>\n",
       "      <td>Container1</td>\n",
       "      <td>335.0</td>\n",
       "    </tr>\n",
       "    <tr>\n",
       "      <th>6</th>\n",
       "      <td>ASTER ALVAR</td>\n",
       "      <td>POINT (3.686642 52.13476)</td>\n",
       "      <td>Oil/Chemical Tanker</td>\n",
       "      <td>Liquid</td>\n",
       "      <td>129.0</td>\n",
       "    </tr>\n",
       "    <tr>\n",
       "      <th>7</th>\n",
       "      <td>NAVIG8 ANDESINE</td>\n",
       "      <td>POINT (3.710833 52.19441)</td>\n",
       "      <td>Oil/Chemical Tanker</td>\n",
       "      <td>Liquid</td>\n",
       "      <td>184.0</td>\n",
       "    </tr>\n",
       "    <tr>\n",
       "      <th>8</th>\n",
       "      <td>SEAVOYAGER</td>\n",
       "      <td>POINT (3.593533 52.17705)</td>\n",
       "      <td>Crude Oil Tanker</td>\n",
       "      <td>Liquid</td>\n",
       "      <td>274.0</td>\n",
       "    </tr>\n",
       "    <tr>\n",
       "      <th>9</th>\n",
       "      <td>CORAL LACERA</td>\n",
       "      <td>POINT (3.703472 52.12477)</td>\n",
       "      <td>LPG Tanker</td>\n",
       "      <td>Liquid</td>\n",
       "      <td>108.0</td>\n",
       "    </tr>\n",
       "  </tbody>\n",
       "</table>\n",
       "</div>"
      ],
      "text/plain": [
       "              name                   geometry          vessel_type  \\\n",
       "0     ALFA BALTICA  POINT (3.585885 52.19487)     Crude Oil Tanker   \n",
       "1          DAYTONA  POINT (3.809318 52.06665)     Crude Oil Tanker   \n",
       "2          ST PAUL  POINT (3.585517 52.05602)         Bulk Carrier   \n",
       "3    GEORGY MASLOV   POINT (3.562725 52.1756)     Crude Oil Tanker   \n",
       "4    SYDNEY SPIRIT  POINT (3.682493 52.20705)     Crude Oil Tanker   \n",
       "5          LOTUS A  POINT (3.621987 52.19629)            Container   \n",
       "6      ASTER ALVAR  POINT (3.686642 52.13476)  Oil/Chemical Tanker   \n",
       "7  NAVIG8 ANDESINE  POINT (3.710833 52.19441)  Oil/Chemical Tanker   \n",
       "8       SEAVOYAGER  POINT (3.593533 52.17705)     Crude Oil Tanker   \n",
       "9     CORAL LACERA  POINT (3.703472 52.12477)           LPG Tanker   \n",
       "\n",
       "     terminal  length  \n",
       "0      Liquid   228.0  \n",
       "1      Liquid   248.0  \n",
       "2        Bulk   189.0  \n",
       "3      Liquid   249.0  \n",
       "4      Liquid   274.0  \n",
       "5  Container1   335.0  \n",
       "6      Liquid   129.0  \n",
       "7      Liquid   184.0  \n",
       "8      Liquid   274.0  \n",
       "9      Liquid   108.0  "
      ]
     },
     "execution_count": 10,
     "metadata": {},
     "output_type": "execute_result"
    }
   ],
   "source": [
    "# Select vessels that go to certain ports. In this case, the vessels that go to the 'Other' terminals are removed from the list.\n",
    "\n",
    "vessels = ais_df.query('terminal != \"Other\"')\n",
    "vessels[['name', 'geometry', 'vessel_type', 'terminal', 'length']].head(n=10)"
   ]
  },
  {
   "cell_type": "markdown",
   "id": "6f06ed7a",
   "metadata": {},
   "source": [
    "## Specific data retrieval"
   ]
  },
  {
   "cell_type": "markdown",
   "id": "5ed2d3a5",
   "metadata": {},
   "source": [
    "This list of vessels can than be further manipulated to retrieve more specific information. For exmaple, if we want to know the length distribution of vessels arriving at 'Liquid' terminal types, the following visualisation can be done."
   ]
  },
  {
   "cell_type": "code",
   "execution_count": 11,
   "id": "130217b4",
   "metadata": {},
   "outputs": [
    {
     "data": {
      "text/html": [
       "<div>\n",
       "<style scoped>\n",
       "    .dataframe tbody tr th:only-of-type {\n",
       "        vertical-align: middle;\n",
       "    }\n",
       "\n",
       "    .dataframe tbody tr th {\n",
       "        vertical-align: top;\n",
       "    }\n",
       "\n",
       "    .dataframe thead th {\n",
       "        text-align: right;\n",
       "    }\n",
       "</style>\n",
       "<table border=\"1\" class=\"dataframe\">\n",
       "  <thead>\n",
       "    <tr style=\"text-align: right;\">\n",
       "      <th></th>\n",
       "      <th>name</th>\n",
       "      <th>geometry</th>\n",
       "      <th>vessel_type</th>\n",
       "      <th>terminal</th>\n",
       "      <th>length</th>\n",
       "      <th>width</th>\n",
       "      <th>DWT</th>\n",
       "    </tr>\n",
       "  </thead>\n",
       "  <tbody>\n",
       "    <tr>\n",
       "      <th>4</th>\n",
       "      <td>SYDNEY SPIRIT</td>\n",
       "      <td>POINT (3.682493 52.20705)</td>\n",
       "      <td>Crude Oil Tanker</td>\n",
       "      <td>Liquid</td>\n",
       "      <td>274.0</td>\n",
       "      <td>48.0</td>\n",
       "      <td>158542.0</td>\n",
       "    </tr>\n",
       "    <tr>\n",
       "      <th>8</th>\n",
       "      <td>SEAVOYAGER</td>\n",
       "      <td>POINT (3.593533 52.17705)</td>\n",
       "      <td>Crude Oil Tanker</td>\n",
       "      <td>Liquid</td>\n",
       "      <td>274.0</td>\n",
       "      <td>48.0</td>\n",
       "      <td>159233.0</td>\n",
       "    </tr>\n",
       "    <tr>\n",
       "      <th>3</th>\n",
       "      <td>GEORGY MASLOV</td>\n",
       "      <td>POINT (3.562725 52.1756)</td>\n",
       "      <td>Crude Oil Tanker</td>\n",
       "      <td>Liquid</td>\n",
       "      <td>249.0</td>\n",
       "      <td>46.0</td>\n",
       "      <td>122018.0</td>\n",
       "    </tr>\n",
       "    <tr>\n",
       "      <th>1</th>\n",
       "      <td>DAYTONA</td>\n",
       "      <td>POINT (3.809318 52.06665)</td>\n",
       "      <td>Crude Oil Tanker</td>\n",
       "      <td>Liquid</td>\n",
       "      <td>248.0</td>\n",
       "      <td>43.0</td>\n",
       "      <td>115896.0</td>\n",
       "    </tr>\n",
       "    <tr>\n",
       "      <th>0</th>\n",
       "      <td>ALFA BALTICA</td>\n",
       "      <td>POINT (3.585885 52.19487)</td>\n",
       "      <td>Crude Oil Tanker</td>\n",
       "      <td>Liquid</td>\n",
       "      <td>228.0</td>\n",
       "      <td>42.0</td>\n",
       "      <td>106373.0</td>\n",
       "    </tr>\n",
       "    <tr>\n",
       "      <th>7</th>\n",
       "      <td>NAVIG8 ANDESINE</td>\n",
       "      <td>POINT (3.710833 52.19441)</td>\n",
       "      <td>Oil/Chemical Tanker</td>\n",
       "      <td>Liquid</td>\n",
       "      <td>184.0</td>\n",
       "      <td>27.0</td>\n",
       "      <td>37596.0</td>\n",
       "    </tr>\n",
       "    <tr>\n",
       "      <th>13</th>\n",
       "      <td>BOCHEM ANTWERP</td>\n",
       "      <td>POINT (3.577317 52.16278)</td>\n",
       "      <td>Oil/Chemical Tanker</td>\n",
       "      <td>Liquid</td>\n",
       "      <td>141.0</td>\n",
       "      <td>24.0</td>\n",
       "      <td>19806.0</td>\n",
       "    </tr>\n",
       "    <tr>\n",
       "      <th>6</th>\n",
       "      <td>ASTER ALVAR</td>\n",
       "      <td>POINT (3.686642 52.13476)</td>\n",
       "      <td>Oil/Chemical Tanker</td>\n",
       "      <td>Liquid</td>\n",
       "      <td>129.0</td>\n",
       "      <td>19.0</td>\n",
       "      <td>11596.0</td>\n",
       "    </tr>\n",
       "    <tr>\n",
       "      <th>9</th>\n",
       "      <td>CORAL LACERA</td>\n",
       "      <td>POINT (3.703472 52.12477)</td>\n",
       "      <td>LPG Tanker</td>\n",
       "      <td>Liquid</td>\n",
       "      <td>108.0</td>\n",
       "      <td>16.0</td>\n",
       "      <td>4999.0</td>\n",
       "    </tr>\n",
       "    <tr>\n",
       "      <th>11</th>\n",
       "      <td>KEY WEST</td>\n",
       "      <td>POINT (3.7321 52.15103)</td>\n",
       "      <td>Oil/Chemical Tanker</td>\n",
       "      <td>Liquid</td>\n",
       "      <td>90.0</td>\n",
       "      <td>14.0</td>\n",
       "      <td>3741.0</td>\n",
       "    </tr>\n",
       "  </tbody>\n",
       "</table>\n",
       "</div>"
      ],
      "text/plain": [
       "               name                   geometry          vessel_type terminal  \\\n",
       "4     SYDNEY SPIRIT  POINT (3.682493 52.20705)     Crude Oil Tanker   Liquid   \n",
       "8        SEAVOYAGER  POINT (3.593533 52.17705)     Crude Oil Tanker   Liquid   \n",
       "3     GEORGY MASLOV   POINT (3.562725 52.1756)     Crude Oil Tanker   Liquid   \n",
       "1           DAYTONA  POINT (3.809318 52.06665)     Crude Oil Tanker   Liquid   \n",
       "0      ALFA BALTICA  POINT (3.585885 52.19487)     Crude Oil Tanker   Liquid   \n",
       "7   NAVIG8 ANDESINE  POINT (3.710833 52.19441)  Oil/Chemical Tanker   Liquid   \n",
       "13   BOCHEM ANTWERP  POINT (3.577317 52.16278)  Oil/Chemical Tanker   Liquid   \n",
       "6       ASTER ALVAR  POINT (3.686642 52.13476)  Oil/Chemical Tanker   Liquid   \n",
       "9      CORAL LACERA  POINT (3.703472 52.12477)           LPG Tanker   Liquid   \n",
       "11         KEY WEST    POINT (3.7321 52.15103)  Oil/Chemical Tanker   Liquid   \n",
       "\n",
       "    length  width       DWT  \n",
       "4    274.0   48.0  158542.0  \n",
       "8    274.0   48.0  159233.0  \n",
       "3    249.0   46.0  122018.0  \n",
       "1    248.0   43.0  115896.0  \n",
       "0    228.0   42.0  106373.0  \n",
       "7    184.0   27.0   37596.0  \n",
       "13   141.0   24.0   19806.0  \n",
       "6    129.0   19.0   11596.0  \n",
       "9    108.0   16.0    4999.0  \n",
       "11    90.0   14.0    3741.0  "
      ]
     },
     "metadata": {},
     "output_type": "display_data"
    },
    {
     "name": "stdout",
     "output_type": "stream",
     "text": [
      "For terminal type Liquid, maximum ship length = 274.0, minimum = 90.0, mean = 192.5\n",
      "For terminal type Liquid, maximum ship width = 48.0, minimum = 14.0, mean = 32.7\n",
      "Average DWT for liquid terminal = 73980.0 tonnes\n"
     ]
    },
    {
     "data": {
      "image/png": "[encoded data removed]",
      "text/plain": [
       "<Figure size 1296x360 with 1 Axes>"
      ]
     },
     "metadata": {
      "needs_background": "light"
     },
     "output_type": "display_data"
    }
   ],
   "source": [
    "is_liquid =vessels['terminal']=='Liquid'\n",
    "df_liquid = vessels[is_liquid]\n",
    "\n",
    "df_liquid= df_liquid.sort_values(by='length',ascending=False)\n",
    "display(df_liquid[['name', 'geometry', 'vessel_type', 'terminal', 'length', 'width', 'DWT']])\n",
    "plot= df_liquid.plot.bar(x='name', y='length', rot=0, figsize=(18,5), width = 0.3, grid=(True));\n",
    "#df_liquid.plot.bar(x= 'name',y = 'width', rot=0, figsize=(18,5), width = 0.3,grid=(True), color='orange');\n",
    "\n",
    "plot.axhline(y=192.5,color= 'r', label = 'mean')\n",
    "plot.legend(['mean', 'length [m]'])\n",
    "plt.title('Liquid Terminal', fontsize = 20)\n",
    "\n",
    "max_length_liquid = df_liquid['length'].max()\n",
    "min_length_liquid = df_liquid['length'].min()\n",
    "mean_length_liquid = df_liquid['length'].mean()\n",
    "max_width_liquid = df_liquid['width'].max()\n",
    "min_width_liquid = df_liquid['width'].min()\n",
    "mean_width_liquid = df_liquid['width'].mean()\n",
    "\n",
    "# determine average DWT for q3.2\n",
    "avg_DWT_liquid = df_liquid['DWT'].mean()\n",
    "\n",
    "print(f'For terminal type Liquid, maximum ship length = {max_length_liquid:.1f}, minimum = {min_length_liquid:.1f}, mean = {mean_length_liquid:.1f}')\n",
    "print(f'For terminal type Liquid, maximum ship width = {max_width_liquid:.1f}, minimum = {min_width_liquid:.1f}, mean = {mean_width_liquid:.1f}')\n",
    "print(f'Average DWT for liquid terminal = {avg_DWT_liquid:.1f} tonnes')"
   ]
  },
  {
   "cell_type": "markdown",
   "id": "41027212",
   "metadata": {},
   "source": []
  },
  {
   "cell_type": "markdown",
   "id": "d2ac3190",
   "metadata": {},
   "source": [
    "\n",
    "\n"
   ]
  },
  {
   "cell_type": "markdown",
   "id": "f6e48984",
   "metadata": {},
   "source": []
  },
  {
   "cell_type": "markdown",
   "id": "9e87cefd",
   "metadata": {},
   "source": []
  },
  {
   "cell_type": "code",
   "execution_count": null,
   "id": "6ed2df0d",
   "metadata": {},
   "outputs": [],
   "source": []
  },
  {
   "cell_type": "code",
   "execution_count": null,
   "id": "09373341",
   "metadata": {},
   "outputs": [],
   "source": []
  }
 ],
 "metadata": {
  "kernelspec": {
   "display_name": "Python 3 (ipykernel)",
   "language": "python",
   "name": "python3"
  },
  "language_info": {
   "codemirror_mode": {
    "name": "ipython",
    "version": 3
   },
   "file_extension": ".py",
   "mimetype": "text/x-python",
   "name": "python",
   "nbconvert_exporter": "python",
   "pygments_lexer": "ipython3",
   "version": "3.9.10"
  }
 },
 "nbformat": 4,
 "nbformat_minor": 5
}
