{
 "cells": [
  {
   "cell_type": "markdown",
   "metadata": {},
   "source": [
    "# Power calculations\n",
    "\n",
    "This model serves as a tool to check the model output of the master thesis work of Loes Segers."
   ]
  },
  {
   "cell_type": "markdown",
   "metadata": {},
   "source": [
    "### Loading packages"
   ]
  },
  {
   "cell_type": "code",
   "execution_count": 1,
   "metadata": {},
   "outputs": [],
   "source": [
    "#Packages \n",
    "\n",
    "%matplotlib inline\n",
    "import numpy as np\n",
    "import matplotlib.pyplot as plt\n",
    "import pandas as pd\n",
    "import math "
   ]
  },
  {
   "cell_type": "markdown",
   "metadata": {},
   "source": [
    "### Fixed input values"
   ]
  },
  {
   "cell_type": "code",
   "execution_count": 2,
   "metadata": {},
   "outputs": [],
   "source": [
    "#Fixed input values\n",
    "\n",
    "viscosity = 1*10**(-6) #kinematic viscosity\n",
    "rho = 1000\n",
    "g = 9.81\n",
    "x = 2 #number of screws\n",
    "eta_0 = 0.6     #open water eff\n",
    "eta_r = 1.00     #relative rotative eff\n",
    "eta_t = 0.98     #transmission eff\n",
    "eta_g = 0.96     #gearing eff"
   ]
  },
  {
   "cell_type": "code",
   "execution_count": 3,
   "metadata": {},
   "outputs": [],
   "source": [
    "#Fixed input values, ship related\n",
    "\n",
    "L = 82.5\n",
    "B = 8.2\n",
    "T = 2.7\n",
    "\n",
    "C_B = 0.85      #block coefficient \n",
    "\n",
    "P_installed = 640 #kW  \n",
    "\n",
    "c_stern = 0\n",
    "\n",
    "one_k2 = 2.5 #appendage resistance factor"
   ]
  },
  {
   "cell_type": "code",
   "execution_count": 4,
   "metadata": {},
   "outputs": [],
   "source": [
    "#Ship related values, calculated from fixed input values\n",
    "\n",
    "C_M = 1.006 - 0.0056 * C_B **(-3.56)\n",
    "C_wp = (1+2 * C_B)/3\n",
    "C_p = C_B / C_M\n",
    "\n",
    "delta = C_B * L * B * T #water displacement\n",
    "\n",
    "lcb = -13.5 + 19.4 * C_p\n",
    "L_R = L * (1 - C_p + (0.06 * C_p * lcb)/(4 * C_p -1))\n",
    "\n",
    "A_T = 0.2 * B * T\n",
    "\n",
    "S_T = L*(2*T + B) * np.sqrt(C_M) * (0.453 + 0.4425 * C_B - 0.2862* C_M - 0.003467 * (B/T) + 0.3696 * C_wp) #+ 2.38 * (A_BT / C_B)\n",
    "\n",
    "\n",
    "S_APP = 0.05 * S_T\n",
    "\n",
    "S_B = L * B\n",
    "\n",
    "D_s = 0.7 * T"
   ]
  },
  {
   "cell_type": "markdown",
   "metadata": {},
   "source": [
    "### Fixed velocity and water depth"
   ]
  },
  {
   "cell_type": "code",
   "execution_count": 5,
   "metadata": {},
   "outputs": [],
   "source": [
    "#Variables\n",
    "V_0 = 4.39\n",
    "h = 15\n",
    "\n",
    "#V_0 = np.linspace(0, 5.0, 101)\n",
    "#h = np.linspace(3.0, 15.0, 101)"
   ]
  },
  {
   "cell_type": "markdown",
   "metadata": {},
   "source": [
    "## Resistance calculations"
   ]
  },
  {
   "cell_type": "markdown",
   "metadata": {},
   "source": [
    "Method based on the division of Holtrop & Mennen, with some adjustments made in order to incorporate the shallow water effects"
   ]
  },
  {
   "cell_type": "markdown",
   "metadata": {},
   "source": [
    "### A) Karpov velocity correction for limited water depths"
   ]
  },
  {
   "cell_type": "code",
   "execution_count": 6,
   "metadata": {},
   "outputs": [],
   "source": [
    "############ Additional wave making resistance - Karpov #############\n",
    "R_e = V_0 * L / viscosity\n",
    "\n",
    "def karpov(h, F_n):\n",
    "    \n",
    "    #The Froude number used in the Karpov method is the depth related froude number F_nh\n",
    "    \n",
    "    #The different alpha** curves are determined with a sixth power polynomial approximation in Excel\n",
    "    #A distinction is made between different ranges of Froude numbers, because this resulted in a better approximation of the curve\n",
    "    \n",
    "    if F_n <= 0.4:\n",
    "        \n",
    "        if 0 <= h/T < 1.75:\n",
    "            alpha_xx = (-4*10**(-12)) * F_n**3 - 0.2143 * F_n**2 -0.0643 * F_n + 0.9997\n",
    "        if 1.75 <= h/T < 2.25:\n",
    "            alpha_xx = -0.8333 * F_n**3 + 0.25 * F_n**2 - 0.0167 * F_n + 1\n",
    "        if 2.25 <= h/T < 2.75:\n",
    "            alpha_xx = -1.25 * F_n**4 + 0.5833 * F_n**3 - 0.0375 * F_n**2 - 0.0108 * F_n + 1\n",
    "        if h/T >= 2.75:\n",
    "            alpha_xx = 1\n",
    "    \n",
    "    if F_n > 0.4:\n",
    "        if 0 <= h/T < 1.75:\n",
    "            alpha_xx = -0.9274 * F_n**6 + 9.5953 * F_n**5 - 37.197 * F_n**4 + 69.666 * F_n**3 - 65.391 * F_n**2 + 28.025 * F_n - 3.4143\n",
    "        if 1.75 <= h/T < 2.25:\n",
    "            alpha_xx = 2.2152 * F_n**6 - 11.852 * F_n**5 + 21.499 * F_n**4 - 12.174 * F_n**3 - 4.7873 * F_n**2 + 5.8662 * F_n - 0.2652\n",
    "        if 2.25 <= h/T < 2.75:\n",
    "            alpha_xx = 1.2205 * F_n**6 - 5.4999 * F_n**5 + 5.7966 * F_n**4 + 6.6491 * F_n**3 - 16.123 * F_n**2 + 9.2016 * F_n - 0.6342\n",
    "        if 2.75 <= h/T < 3.25:\n",
    "            alpha_xx = -0.4085 * F_n**6 + 4.534 * F_n**5 - 18.443 * F_n**4 + 35.744 * F_n**3 - 34.381 * F_n**2 + 15.042 * F_n - 1.3807\n",
    "        if 3.25 <= h/T < 3.75:\n",
    "            alpha_xx = 0.4078 * F_n **6 - 0.919 * F_n**5 - 3.8292 * F_n**4 + 15.738 * F_n**3 - 19.766 * F_n**2 + 9.7466 * F_n - 0.6409\n",
    "        if 3.75 <= h/T < 4.5:\n",
    "            alpha_xx = 0.3067 * F_n**6 - 0.3404 * F_n**5 - 5.0511 * F_n**4 + 16.892 * F_n**3 - 20.265 * F_n**2 + 9.9002 * F_n - 0.6712\n",
    "        if 4.5 <= h/T < 5.5:\n",
    "            alpha_xx = 0.3212 * F_n**6 - 0.3559 * F_n**5 - 5.1056 * F_n**4 + 16.926 * F_n**3 - 20.253 * F_n**2 + 10.013 * F_n - 0.7196\n",
    "        if 5.5 <= h/T < 6.5:\n",
    "            alpha_xx = 0.9252 * F_n**6 - 4.2574 * F_n**5 + 5.0363 * F_n **4 + 3.3282 * F_n**3 - 10.367 * F_n**2 + 6.3993 * F_n - 0.2074\n",
    "        if 6.5 <= h/T < 7.5:\n",
    "            alpha_xx = 0.8442 * F_n**6 - 4.0261 * F_n**5 + 5.313 * F_n **4 + 1.6442 * F_n**3 - 8.1848 * F_n**2 + 5.3209 * F_n - 0.0267\n",
    "        if 7.5 <= h/T < 8.5:\n",
    "            alpha_xx = 0.1211 * F_n**6 + 0.628 * F_n**5 - 6.5106 * F_n**4 + 16.7 * F_n**3 - 18.267 * F_n**2 + 8.7077 * F_n - 0.4745\n",
    "        \n",
    "                \n",
    "        if 8.5 <= h/T < 9.5:\n",
    "            if F_n < 0.6:\n",
    "                alpha_xx = 1\n",
    "            if F_n >= 0.6:\n",
    "                alpha_xx = -6.4069 * F_n**6 + 47.308 * F_n**5 - 141.93 * F_n**4 + 220.23 * F_n**3 - 185.05 * F_n**2 + 79.25 * F_n - 12.484\n",
    "        if h/T >= 9.5: \n",
    "            if F_n < 0.6:\n",
    "                alpha_xx = 1\n",
    "            if F_n >= 0.6:\n",
    "                alpha_xx = -6.0727 * F_n**6 + 44.97 * F_n**5 - 135.21 * F_n**4 + 210.13 * F_n**3 - 176.72 * F_n**2 + 75.728 * F_n - 11.893\n",
    "    \n",
    "    return alpha_xx\n"
   ]
  },
  {
   "cell_type": "code",
   "execution_count": 7,
   "metadata": {},
   "outputs": [],
   "source": [
    "F_nh = V_0 / np.sqrt(g * h)\n",
    "\n",
    "#The corrected velocty V_2, based on the Karpov method:\n",
    "\n",
    "V_2 = V_0 / karpov(h, F_nh)"
   ]
  },
  {
   "cell_type": "markdown",
   "metadata": {},
   "source": [
    "### B) Frictional resistance (including shallow water effect by method of Zeng)"
   ]
  },
  {
   "cell_type": "code",
   "execution_count": 8,
   "metadata": {},
   "outputs": [
    {
     "name": "stdout",
     "output_type": "stream",
     "text": [
      "Cf_0 is 0.0017433990242849379\n",
      "C_f is 0.0017460131648994659\n",
      "Total frictional resistance is 16.31842971180384\n",
      "The velocity V_0 is 4.39\n",
      "The increased velocity V_B is 4.39\n"
     ]
    }
   ],
   "source": [
    "#Section 2.2 Resistance\n",
    "\n",
    "#Section 2.2.1 Frictional resistance\n",
    "\n",
    "R_e = V_0 * L / viscosity\n",
    "D = h - T #distance from bottom ship to the bottom of the fairway\n",
    "\n",
    "Cf_0 = 0.075 / ((math.log10(R_e)-2)**2)\n",
    "print('Cf_0 is', Cf_0)\n",
    "\n",
    "Cf_proposed = (0.08169/((np.log10(R_e) - 1.717)**2)) * (1 + (0.003998/(math.log10(R_e) - 4.393)) * (D/L)**(-1.083))\n",
    "\n",
    "a = 0.042612 * math.log10(R_e) + 0.56725\n",
    "\n",
    "Cf_katsui = 0.0066577 / ((math.log10(R_e) - 4.3762)**a)\n",
    "\n",
    "if h/T <= 4:\n",
    "    V_B = 0.4277 * V_0 * np.exp((h / T)**(-0.07625))\n",
    "else:\n",
    "    V_B = V_0\n",
    "\n",
    "C_f = Cf_0 + (Cf_proposed - Cf_katsui) * (S_B / S_T) * (V_B / V_0)**2\n",
    "print('C_f is', C_f)\n",
    "\n",
    "R_f = (C_f * 0.5 * rho * (V_0**2) * S_T) / 1000 #kN\n",
    "print('Total frictional resistance is', R_f)\n",
    "\n",
    "print('The velocity V_0 is', V_0)\n",
    "print('The increased velocity V_B is', V_B)\n",
    "\n",
    "#R_f3 = 53 * (math.log10(V_0 * L) + 4)**(-2) * (L * B + 2 * L * T) * V_0**2\n",
    "\n",
    "#print(R_f2 / 1000)\n",
    "#print(R_f3 / 1000)\n",
    "#print(S_T, S_2)"
   ]
  },
  {
   "cell_type": "markdown",
   "metadata": {},
   "source": [
    "### C) Viscous resistance"
   ]
  },
  {
   "cell_type": "code",
   "execution_count": 9,
   "metadata": {},
   "outputs": [
    {
     "name": "stdout",
     "output_type": "stream",
     "text": [
      "1.2130456604817983\n"
     ]
    }
   ],
   "source": [
    "#Section 2.2.2 Viscous resistance\n",
    "\n",
    "c_14 = 1 + 0.0011 * c_stern\n",
    "one_k1 = 0.93+0.487 * c_14 * ((B/L)**1.068) * ((T/L)**0.461) * ((L/L_R)**0.122) * (((L**3)/delta)**0.365) * ((1 - C_p)**(-0.604))\n",
    "\n",
    "print(one_k1)"
   ]
  },
  {
   "cell_type": "markdown",
   "metadata": {},
   "source": [
    "### D) Appendage resistance "
   ]
  },
  {
   "cell_type": "code",
   "execution_count": 10,
   "metadata": {},
   "outputs": [
    {
     "name": "stdout",
     "output_type": "stream",
     "text": [
      "2.03980371397548\n"
     ]
    }
   ],
   "source": [
    "#Section 2.2.3 Appendage resistance\n",
    "\n",
    "R_APP = (0.5 * rho * (V_0**2) * S_APP * one_k2 * C_f) / 1000 #kN\n",
    "\n",
    "print(R_APP)"
   ]
  },
  {
   "cell_type": "markdown",
   "metadata": {},
   "source": [
    "### E) Wave resistance (dependend on V2)"
   ]
  },
  {
   "cell_type": "code",
   "execution_count": 11,
   "metadata": {},
   "outputs": [],
   "source": [
    "def wave_resistance(V_2):\n",
    "\n",
    "#This method is based on literature of Sarris (Naval Ship Propulsion and Electric Power Systems Selection for\n",
    "#Optimal Fuel Consumption) (2003) applying Holtrop and Mennen (pag 26)\n",
    "\n",
    "    F_n = V_2 / np.sqrt(g*L) #Froude number\n",
    "\n",
    "\n",
    "    #parameter c_7 is determined by the B/L ratio\n",
    "    if B/L < 0.11:\n",
    "        c_7 = 0.229577 * (B/L)**0.33333\n",
    "    if B/L > 0.25:\n",
    "        c_7 = 0.5 - 0.0625 * (L/B)\n",
    "    else: \n",
    "        c_7 = B/L\n",
    "\n",
    "    #half angle of entrance in degrees\n",
    "    i_E = 1 + 89 * np.exp(-((L/B)**0.80856) * ((1 - C_wp)**0.30484) * ((1 - C_p - 0.0225 * lcb)**0.6367) * ((L_R / B)**0.34574) * ((100 * delta / (L**3))**0.16302))\n",
    "\n",
    "    c_1 = 2223105 * (c_7**3.78613) * ((T/B)**1.07961) * (90 - i_E)**(-1.37165) \n",
    "    c_2 = 1 #accounts for the effect of the bulbous bow, which is not present at inland ships\n",
    "    c_5 = 1 - (0.8 * A_T) / (B * T * C_M) #influence of the transom stern on the wave resistance\n",
    "\n",
    "    #parameter c_15 depoends on the ratio L^3 / delta\n",
    "    if (L**3) / delta < 512:\n",
    "        c_15 = -1.69385\n",
    "    if (L**3) / delta > 1727:\n",
    "        c_15 = 0\n",
    "    else:\n",
    "        c_15 = -1.69385 + (L / (delta**(1/3)) - 8) / 2.36\n",
    "\n",
    "    #parameter c_16 depends on C_p\n",
    "    if C_p < 0.8:\n",
    "        c_16 = 8.07981 * C_p - 13.8673 * (C_p**2) + 6.984388 * (C_p**3)\n",
    "    else:\n",
    "        c_16 = 1.73014 - 0.7067\n",
    "\n",
    "    m_1 = 0.0140407 * (L / T) - 1.75254 * ((delta)**(1/3) / L) - 4.79323 * (B / L) - c_16\n",
    "\n",
    "    m_4 = 0.4 * c_15 * np.exp(-0.034 * (F_n**(-3.29)))    \n",
    "\n",
    "    if L/B < 12:\n",
    "        lmbda = 1.446 * C_p - 0.03 * (L/B)\n",
    "    else: \n",
    "        lmbda = 1.446 * C_p - 0.036\n",
    "\n",
    "    #parameters needed for RW_2\n",
    "    c_17 = 6919.3 * (C_M**(-1.3346)) * ((delta/ (L**3))**2.00977) * ((L/B - 2)**1.40692)\n",
    "    m_3 = -7.2035 * ((B / L)**0.326869) * ((T/B)**0.605375)\n",
    "\n",
    "\n",
    "    ######### When Fn < 0.4\n",
    "    RW_1 = c_1 * c_2 * c_5 * delta * rho * g * np.exp(m_1 * (F_n**(-0.9)) + m_4 * np.cos(lmbda * (F_n**(-2)))) \n",
    "\n",
    "    ######## When Fn > 0.5\n",
    "    RW_2 = c_17 * c_2 * c_5 * delta * rho * g * np.exp(m_3 * (F_n**(-0.9)) + m_4 * np.cos(lmbda * (F_n**(-2))))\n",
    "    \n",
    "    if F_n < 0.4:\n",
    "        R_W = RW_1 / 1000 #kN\n",
    "    if F_n > 0.55:\n",
    "        R_W = RW_2 / 1000 #kN\n",
    "    else:\n",
    "        R_W = (RW_1 + ((10 * F_n - 4) * (RW_2 - RW_1)) / 1.5) / 1000 #kN\n",
    "        \n",
    "    return R_W"
   ]
  },
  {
   "cell_type": "code",
   "execution_count": 12,
   "metadata": {},
   "outputs": [],
   "source": [
    "R_W = wave_resistance(V_2)"
   ]
  },
  {
   "cell_type": "markdown",
   "metadata": {},
   "source": [
    "### F) Residual resistance terms (dependend on V2)"
   ]
  },
  {
   "cell_type": "code",
   "execution_count": 13,
   "metadata": {},
   "outputs": [],
   "source": [
    "#Resistance due to immersed transom\n",
    "def resistance_transom(V_2):\n",
    "    F_nt = V_2 / np.sqrt(2 * g * A_T / (B + B * C_wp))\n",
    "\n",
    "    c_6 = 0.2 * (1 - 0.2 * F_nt)\n",
    "\n",
    "    R_TR = (0.5 * rho * (V_2**2) * A_T * c_6) / 1000 #kN\n",
    "    \n",
    "    return R_TR\n",
    "\n",
    "#Model-ship correlation resistance\n",
    "def resistance_model_correlation(V_2):\n",
    "    if T / L < 0.04:\n",
    "        c_4 = T / L\n",
    "    else:\n",
    "        c_4 = 0.04\n",
    "    c_2 = 1\n",
    "    \n",
    "    C_A = 0.006 * (L + 100)**(-0.16) - 0.00205 + 0.003 * np.sqrt(L / 7.5) * (C_B**4) * c_2 * (0.04 - c_4)\n",
    "\n",
    "    #C_A = (1.8 + 260/L) * 0.0001 #Holtrop 1977\n",
    "\n",
    "    ####### Holtrop and Mennen in the document of Sarris, 2003 #######\n",
    "    R_A = (0.5 * rho * (V_2**2) * S_T * C_A) / 1000 #kW\n",
    "    \n",
    "    return R_A"
   ]
  },
  {
   "cell_type": "code",
   "execution_count": 14,
   "metadata": {},
   "outputs": [],
   "source": [
    "R_TR = resistance_transom(V_2)\n",
    "R_A = resistance_model_correlation(V_2)"
   ]
  },
  {
   "cell_type": "markdown",
   "metadata": {},
   "source": [
    "### Total resistance"
   ]
  },
  {
   "cell_type": "code",
   "execution_count": 15,
   "metadata": {},
   "outputs": [
    {
     "name": "stdout",
     "output_type": "stream",
     "text": [
      "The frictional resistance, including the viscous effect is 19.795000347780892\n",
      "The appendage resistance is 2.03980371397548\n",
      "The wave resistance is 15.574797922020595\n",
      "The resistance of the immersed transom is 5.3607478677319556\n",
      "The model correlation resistance term is 5.570502077595547\n",
      "The total resistance is 48.340851929104474\n"
     ]
    }
   ],
   "source": [
    "#Section 2.2 Resistance\n",
    "\n",
    "#Total resistance\n",
    "\n",
    "R_tot = R_f * one_k1 + R_APP + R_W + R_TR + R_A\n",
    "\n",
    "\n",
    "print('The frictional resistance, including the viscous effect is', R_f * one_k1)\n",
    "print('The appendage resistance is', R_APP)\n",
    "print('The wave resistance is', R_W)\n",
    "print('The resistance of the immersed transom is', R_TR)\n",
    "print('The model correlation resistance term is', R_A)\n",
    "print('The total resistance is', R_tot)"
   ]
  },
  {
   "cell_type": "code",
   "execution_count": 16,
   "metadata": {},
   "outputs": [
    {
     "name": "stdout",
     "output_type": "stream",
     "text": [
      "The total power required is 406.56317730802033 kW\n",
      "The partial load is 0.6352549645437817\n"
     ]
    }
   ],
   "source": [
    "#Section 2.1 Total required power\n",
    "\n",
    "#2.1.1 Required power for systems on board\n",
    "P_hotel = 0.05 * P_installed\n",
    "\n",
    "#2.1.2 Required power for propulsion\n",
    "\n",
    "#Effective Horse Power (EHP)\n",
    "P_EHP = V_B * R_tot\n",
    "\n",
    "dw = 0 \n",
    "\n",
    "#dw = np.zeros(101)\n",
    "#counter = 0 \n",
    "\n",
    "#Calculation hull efficiency\n",
    "#for i in F_n:\n",
    "    #if i < 0.2:\n",
    "        #dw[counter] = 0\n",
    "    #else:\n",
    "        #dw[counter] = 0.1\n",
    "    \n",
    "    #counter += 1\n",
    "    \n",
    "w = 0.11 * (0.16 / x) * C_B * np.sqrt((delta**(1/3)) / D_s) - dw\n",
    "\n",
    "if x == 1:\n",
    "    t = 0.6 * w * (1 + 0.67 * w)\n",
    "else:\n",
    "    t = 0.8 * w * (1 + 0.25 * w)\n",
    "    \n",
    "eta_h = (1 - t) / (1 - w)\n",
    "\n",
    "#Delivered Horse Power (DHP)\n",
    "\n",
    "P_DHP = P_EHP / (eta_0 * eta_r * eta_h)\n",
    "\n",
    "#Brake Horse Power (BHP)\n",
    "P_BHP = P_DHP / (eta_t * eta_g)\n",
    "\n",
    "P_tot = P_hotel + P_BHP\n",
    "\n",
    "print('The total power required is', P_tot, 'kW')\n",
    "\n",
    "P_partial = P_tot / P_installed\n",
    "\n",
    "print('The partial load is', P_partial)"
   ]
  },
  {
   "cell_type": "markdown",
   "metadata": {},
   "source": [
    "## Required energy during delta t"
   ]
  },
  {
   "cell_type": "code",
   "execution_count": 17,
   "metadata": {},
   "outputs": [
    {
     "name": "stdout",
     "output_type": "stream",
     "text": [
      "99.99415879257303\n"
     ]
    }
   ],
   "source": [
    "#Testcase\n",
    "delta_s = 3886.991675\n",
    "delta_t = (delta_s / V_0) / 3600    #in h\n",
    "\n",
    "#delta_t = (1195.9037) / 3600\n",
    "\n",
    "delta_E = P_tot * delta_t\n",
    "print(delta_E)"
   ]
  },
  {
   "cell_type": "code",
   "execution_count": 18,
   "metadata": {},
   "outputs": [
    {
     "name": "stdout",
     "output_type": "stream",
     "text": [
      "4.39\n"
     ]
    }
   ],
   "source": [
    "print(V_0)"
   ]
  },
  {
   "cell_type": "markdown",
   "metadata": {},
   "source": [
    "## Emission calculations"
   ]
  },
  {
   "cell_type": "markdown",
   "metadata": {},
   "source": [
    "In the following code, functions are defined to calculate the emission factor.\n",
    "\n",
    "The emission factor depends on the age of the engine. The age of the engine is determined according to a weibull function. Depending on the weight class of the vessel (L1, L2, L3), the vessel has a different weibull function. With a random generator the age of the vessel is drawn. (see function: calculate_engine_age) With the age of the engine, the construction  year of the engine is calculated (c_year). \n",
    "\n",
    "For testing purposes, a cell is included were the construction year of the engine is hardcoded. \n",
    "\n",
    "After the construction year has been determined, the corresponding general emission factor can be determined (for CO2, NOX, PM10) - (see function: general_emissionfactor).\n",
    "\n",
    "The general emission factor has to be applied by a correction factor, which accounts for the partial engine load. If the partial engine load is low, the correction factors are higher (so the engine works less efficient). "
   ]
  },
  {
   "cell_type": "code",
   "execution_count": 19,
   "metadata": {},
   "outputs": [
    {
     "name": "stdout",
     "output_type": "stream",
     "text": [
      "1989\n"
     ]
    }
   ],
   "source": [
    "#Age of vessel of weight class L1, L2 or L3 \n",
    "\n",
    "def calculate_engine_age(L_w=1):\n",
    "    #Determining which shape and scale factor to use, based on the weight class L_w = L1, L2 or L3\n",
    "    if L_w == 1:     #Weight class L1\n",
    "        k = 1.3\n",
    "        lmb = 20.5\n",
    "    if L_w == 2:     #Weight class L2\n",
    "        k = 1.12\n",
    "        lmb = 18.5\n",
    "    if L_w == 3:     #Weight class L3\n",
    "        k = 1.26\n",
    "        lmb = 18.6\n",
    "            \n",
    "    #The age of the engine\n",
    "    age = int(np.random.weibull(k)*lmb)\n",
    "        \n",
    "    #Current year (TO DO: fix hardcoded year)\n",
    "    year = 2020\n",
    "        \n",
    "    #Construction year of the engine\n",
    "    c_year = year - age   \n",
    "    return c_year\n",
    "\n",
    "    \n",
    "print(calculate_engine_age())"
   ]
  },
  {
   "cell_type": "code",
   "execution_count": 20,
   "metadata": {},
   "outputs": [],
   "source": [
    "c_year = 2000 #hardcoded, so 'ignoring' the cell above"
   ]
  },
  {
   "cell_type": "code",
   "execution_count": 21,
   "metadata": {},
   "outputs": [],
   "source": [
    "def general_emissionfactor(c_year, L_w):\n",
    "    if c_year < 1974:\n",
    "        EM_CO2 = 756\n",
    "        EM_PM10 = 0.6\n",
    "        EM_NOX = 10.8\n",
    "    if 1975 <= c_year <= 1979:\n",
    "        EM_CO2 = 730\n",
    "        EM_PM10 = 0.6\n",
    "        EM_NOX = 10.6\n",
    "    if 1980 <= c_year <= 1984:\n",
    "        EM_CO2 = 714\n",
    "        EM_PM10 = 0.6\n",
    "        EM_NOX = 10.4\n",
    "    if 1985 <= c_year <= 1989:\n",
    "        EM_CO2 = 698\n",
    "        EM_PM10 = 0.5\n",
    "        EM_NOX = 10.1\n",
    "    if 1990 <= c_year <= 1994:\n",
    "        EM_CO2 = 698\n",
    "        EM_PM10 = 0.4\n",
    "        EM_NOX = 10.1\n",
    "    if 1995 <= c_year <= 2002:\n",
    "        EM_CO2 = 650\n",
    "        EM_PM10 = 0.3\n",
    "        EM_NOX = 9.4\n",
    "    if 2003 <= c_year <= 2007:\n",
    "        EM_CO2 = 635\n",
    "        EM_PM10 = 0.3\n",
    "        EM_NOX = 9.2\n",
    "    if 2008 <= c_year <= 2019:\n",
    "        EM_CO2 = 635\n",
    "        EM_PM10 = 0.2\n",
    "        EM_NOX = 7\n",
    "    if c_year > 2019:\n",
    "        if L == 1:\n",
    "            EM_CO2 = 650\n",
    "            EM_PM10 = 0.1\n",
    "            EM_NOX = 2.9\n",
    "        else:\n",
    "            EM_CO2 = 603\n",
    "            EM_PM10 = 0.015\n",
    "            EM_NOX = 2.4\n",
    "    return EM_CO2, EM_PM10, EM_NOX\n",
    "\n",
    "general_emf = general_emissionfactor(c_year, 1)"
   ]
  },
  {
   "cell_type": "code",
   "execution_count": 22,
   "metadata": {},
   "outputs": [],
   "source": [
    "#Correctionfactor function, which reads the right values from the correction factor table, based on the partial engine load\n",
    "#Partial engine load = P_partial\n",
    "#And based on the construction year of the engine (c_year), which has influence on the correction factors of NOX\n",
    "\n",
    "def correctionfactor(c_year, P_partial, L_w=1):\n",
    "    \n",
    "    corf = pd.read_excel (r'correctionfactors.xlsx')\n",
    "    \n",
    "    for i in range(20):\n",
    "    #If the partial engine load is smaller or equal to 5%, the correction factors corresponding to P_partial = 5% are assigned.\n",
    "        if P_partial <= corf.iloc[0, 0]:\n",
    "            corf_CO2 = corf.iloc[0, 5]\n",
    "            corf_PM10 = corf.iloc[0, 6]\n",
    "            \n",
    "            #The NOX correction factors are dependend on the construction year of the engine and the weight class\n",
    "            if c_year < 2008:\n",
    "                corf_NOX = corf.iloc[0, 1] #<= CCR-1 class\n",
    "            if 2008 <= c_year <= 2019:\n",
    "                corf_NOX = corf.iloc[0, 2] #CCR-2 / Stage IIIa\n",
    "            if c_year > 2019:\n",
    "                if L == 1:\n",
    "                    corf_NOX = corf.iloc[0, 3] #Stage V: IWP/IWA-v/c-3 class (vessels with P <300 kW: assumed to be weight class L1)\n",
    "                else:\n",
    "                    corf_NOX = corf.iloc[0, 4]  #Stage V:IWP/IWA-v/c-4 class (vessels with P >300 kw: assumed to be weight class L2-L3)\n",
    "    \n",
    "        #If the partial engine load is greater than 5%:\n",
    "        #It is determined inbetween which two percentages in the table the partial engine load lies\n",
    "        #The correction factor is determined by means of linear interpolation  \n",
    "        \n",
    "        elif corf.iloc[i, 0] < P_partial <= corf.iloc[i + 1, 0]:\n",
    "            corf_CO2 = ((P_partial - corf.iloc[i, 0]) * (corf.iloc[i+1, 5] - corf.iloc[i, 5])) / (corf.iloc[i+1, 0] - corf.iloc[i, 0]) + corf.iloc[i, 5]\n",
    "            corf_PM10 = ((P_partial - corf.iloc[i, 0]) * (corf.iloc[i+1, 6] - corf.iloc[i, 6])) / (corf.iloc[i+1, 0] - corf.iloc[i, 0]) + corf.iloc[i, 6]\n",
    "            \n",
    "            if c_year < 2008:\n",
    "                corf_NOX = ((P_partial - corf.iloc[i, 0]) * (corf.iloc[i+1, 1] - corf.iloc[i, 1])) / (corf.iloc[i+1, 0] - corf.iloc[i, 0]) + corf.iloc[i, 1]\n",
    "            if 2008 <= c_year <= 2019:\n",
    "                corf_NOX = ((P_partial - corf.iloc[i, 0]) * (corf.iloc[i+1, 2] - corf.iloc[i, 2])) / (corf.iloc[i+1, 0] - corf.iloc[i, 0]) + corf.iloc[i, 2]\n",
    "            if c_year > 2019:\n",
    "                if L_w == 1:\n",
    "                    corf_NOX = ((P_partial - corf.iloc[i, 0]) * (corf.iloc[i+1, 3] - corf.iloc[i, 3])) / (corf.iloc[i+1, 0] - corf.iloc[i, 0]) + corf.iloc[i, 3]\n",
    "                else:\n",
    "                    corf_NOX = ((P_partial - corf.iloc[i, 0]) * (corf.iloc[i+1, 4] - corf.iloc[i, 4])) / (corf.iloc[i+1, 0] - corf.iloc[i, 0]) + corf.iloc[i, 4]\n",
    "    return corf_CO2, corf_PM10, corf_NOX\n",
    "\n",
    "corf = correctionfactor(c_year, P_partial, 1)"
   ]
  },
  {
   "cell_type": "code",
   "execution_count": 23,
   "metadata": {},
   "outputs": [
    {
     "name": "stdout",
     "output_type": "stream",
     "text": [
      "The general emission factor of CO2 is 650\n",
      "The general emission factor of PM10 is 0.3\n",
      "The general emission factor of NOx is 9.4\n",
      "\n",
      "The correction factor of CO2 is 1.0129490070912437\n",
      "The correction factor of PM10 is 0.9929490070912437\n",
      "The correction factor of NOx is 0.99\n",
      "\n",
      "The total emission factor of CO2 is 658.4168546093084\n",
      "The total emission factor of PM10 is 0.2978847021273731\n",
      "The total emission factor of NOX is 9.306000000000001\n"
     ]
    }
   ],
   "source": [
    "#The total emission factor is calculated by multiplying the general emission factor (EM_CO2 / EM_PM10 / EM_NOX)\n",
    "# By the correction factor (corf_CO2 / corf_PM10 / corf_NOX)\n",
    "\n",
    "Emf_CO2 = general_emf[0] * corf[0]\n",
    "Emf_PM10 = general_emf[1] * corf[1]\n",
    "Emf_NOX = general_emf[2] * corf[2]\n",
    "\n",
    "print('The general emission factor of CO2 is', general_emf[0])\n",
    "print('The general emission factor of PM10 is', general_emf[1])\n",
    "print('The general emission factor of NOx is', general_emf[2])\n",
    "print()\n",
    "print('The correction factor of CO2 is', corf[0])\n",
    "print('The correction factor of PM10 is', corf[1])\n",
    "print('The correction factor of NOx is', corf[2])\n",
    "print()\n",
    "print('The total emission factor of CO2 is', Emf_CO2)\n",
    "print('The total emission factor of PM10 is', Emf_PM10)\n",
    "print('The total emission factor of NOX is', Emf_NOX)"
   ]
  },
  {
   "cell_type": "markdown",
   "metadata": {},
   "source": [
    "## Total emissions during delta t"
   ]
  },
  {
   "cell_type": "code",
   "execution_count": 24,
   "metadata": {},
   "outputs": [
    {
     "name": "stdout",
     "output_type": "stream",
     "text": [
      "The CO2 emission during delta t are 65837.83951150965 g\n",
      "The PM10 emission during delta t are 29.786730206402865 g\n",
      "The NOX emission during delta t are 930.5456417236848 g\n"
     ]
    }
   ],
   "source": [
    "#We already calculated the delta_E (the energy needed during delta t)\n",
    "#We can calculate the emissions by multiplying the delta_E [kWh] by the total emission factor [g / kWh]\n",
    "\n",
    "delta_CO2 = delta_E * Emf_CO2\n",
    "delta_PM10 = delta_E * Emf_PM10\n",
    "delta_NOX = delta_E * Emf_NOX\n",
    "\n",
    "print('The CO2 emission during delta t are', delta_CO2, 'g')\n",
    "print('The PM10 emission during delta t are', delta_PM10, 'g')\n",
    "print('The NOX emission during delta t are', delta_NOX, 'g')"
   ]
  },
  {
   "cell_type": "code",
   "execution_count": 25,
   "metadata": {},
   "outputs": [
    {
     "name": "stdout",
     "output_type": "stream",
     "text": [
      "P_tot is 406.56317730802033\n",
      "P_partial is 0.6352549645437817\n",
      "tot_E is 1802.7284999390556\n",
      "tot_CO2 is 1186946.8286444298\n",
      "tot_PM10 is 537.0052422208718\n",
      "tot_NOX is 16776.191420432853\n"
     ]
    }
   ],
   "source": [
    "#Total emission Zuid-Beveland route (+/- 70 km) (with 1 m/s, it takes a ship 70076 s)\n",
    "tot_E = P_tot * (70076/ V_0 / 3600)\n",
    "tot_CO2 = P_tot * (70076/ V_0 / 3600) * Emf_CO2\n",
    "tot_PM10 = P_tot * (70076/ V_0 / 3600) * Emf_PM10\n",
    "tot_NOX = P_tot * (70076/ V_0 / 3600) * Emf_NOX\n",
    "\n",
    "print('P_tot is', P_tot)\n",
    "print('P_partial is', P_partial)\n",
    "print('tot_E is', tot_E)\n",
    "print('tot_CO2 is', tot_CO2)\n",
    "print('tot_PM10 is', tot_PM10)\n",
    "print('tot_NOX is', tot_NOX)"
   ]
  },
  {
   "cell_type": "markdown",
   "metadata": {},
   "source": [
    "## Plots"
   ]
  }
 ],
 "metadata": {
  "kernelspec": {
   "display_name": "testgdal",
   "language": "python",
   "name": "testgdal"
  },
  "language_info": {
   "codemirror_mode": {
    "name": "ipython",
    "version": 3
   },
   "file_extension": ".py",
   "mimetype": "text/x-python",
   "name": "python",
   "nbconvert_exporter": "python",
   "pygments_lexer": "ipython3",
   "version": "3.8.5"
  },
  "latex_envs": {
   "LaTeX_envs_menu_present": true,
   "autoclose": false,
   "autocomplete": true,
   "bibliofile": "biblio.bib",
   "cite_by": "apalike",
   "current_citInitial": 1,
   "eqLabelWithNumbers": true,
   "eqNumInitial": 1,
   "hotkeys": {
    "equation": "Ctrl-E",
    "itemize": "Ctrl-I"
   },
   "labels_anchors": false,
   "latex_user_defs": false,
   "report_style_numbering": false,
   "user_envs_cfg": false
  }
 },
 "nbformat": 4,
 "nbformat_minor": 2
}
