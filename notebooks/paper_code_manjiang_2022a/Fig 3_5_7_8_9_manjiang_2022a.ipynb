{
 "cells": [
  {
   "cell_type": "code",
   "execution_count": null,
   "id": "0d867847",
   "metadata": {},
   "outputs": [],
   "source": []
  },
  {
   "cell_type": "code",
   "execution_count": null,
   "id": "af896cd6",
   "metadata": {},
   "outputs": [],
   "source": []
  },
  {
   "cell_type": "code",
   "execution_count": null,
   "id": "0df5fa53",
   "metadata": {},
   "outputs": [],
   "source": []
  },
  {
   "cell_type": "markdown",
   "id": "1dd2974a",
   "metadata": {},
   "source": [
    "### Imports\n",
    "Import the required libraries"
   ]
  },
  {
   "cell_type": "code",
   "execution_count": 2,
   "id": "66ce076a",
   "metadata": {},
   "outputs": [],
   "source": [
    "# package(s) related to time, space and id\n",
    "import datetime, time\n",
    "import platform\n",
    "import itertools\n",
    "# Used for mathematical functions\n",
    "import math             \n",
    "import logging\n",
    "\n",
    "\n",
    "\n",
    "# you need these dependencies (you can get these from anaconda)\n",
    "# package(s) related to the simulation\n",
    "import simpy\n",
    "import pandas as pd\n",
    "\n",
    "# spatial libraries \n",
    "# import pyproj\n",
    "# import shapely.geometry\n",
    "# from simplekml import Kml, Style\n",
    "\n",
    "# package(s) for data handling\n",
    "import numpy as np\n",
    "import matplotlib.pyplot as plt\n",
    "import tqdm\n",
    "\n",
    "\n",
    "# Used for making the graph to visualize our problem\n",
    "# import networkx as nx   \n",
    "\n",
    "import plotly.express as px\n",
    "from plotly.subplots import make_subplots\n",
    "\n",
    "# OpenTNSim\n",
    "import opentnsim\n",
    "\n",
    "# turn on debug messages\n",
    "# logging.basicConfig(level=logging.DEBUG)\n",
    "# turn off debug messages\n",
    "logging.basicConfig(level=logging.INFO)"
   ]
  },
  {
   "cell_type": "markdown",
   "id": "a380bb1a",
   "metadata": {},
   "source": [
    "### Create vessel - add VesselProperties and ConsumesEnergy mixins"
   ]
  },
  {
   "cell_type": "code",
   "execution_count": 3,
   "id": "c51dd9a4",
   "metadata": {},
   "outputs": [],
   "source": [
    "# Make your preferred class out of available mix-ins.\n",
    "TransportResource = type(\n",
    "    \"Vessel\",\n",
    "    (\n",
    "        opentnsim.core.Identifiable,\n",
    "        opentnsim.core.Movable,\n",
    "        opentnsim.core.VesselProperties,  # needed to add vessel properties\n",
    "        opentnsim.core.ConsumesEnergy,\n",
    "        opentnsim.core.ExtraMetadata,\n",
    "    ),\n",
    "    {},\n",
    ")  # needed to calculate resistances"
   ]
  },
  {
   "cell_type": "code",
   "execution_count": 4,
   "id": "d71f8277",
   "metadata": {},
   "outputs": [],
   "source": [
    "# Create a dict with all important settings\n",
    "# NB: set both \"v\" and \"P_tot_given\" to None, as they will be set later\n",
    "\n",
    "data_vessel = {\"env\": None,\n",
    "               \"name\": 'Vessel M9',\n",
    "               \"route\": None,\n",
    "               \"geometry\": None,\n",
    "               \"v\": None,  # m/s\n",
    "               \"type\": None,\n",
    "               \"B\": 11.45,\n",
    "               \"L\": 135,\n",
    "               \"H_e\": None, \n",
    "               \"H_f\": None, \n",
    "               \"T\": 2.75,\n",
    "               \"P_installed\": 2200.0,   \n",
    "               \"P_tot_given\": None, # kW\n",
    "               \"L_w\": 3.0 ,\n",
    "               \"C_b\":0.85, \n",
    "               \"c_year\":1990,\n",
    "               \"current_year\":None\n",
    "              }             \n",
    "\n",
    "vessel = TransportResource(**data_vessel)"
   ]
  },
  {
   "cell_type": "markdown",
   "id": "288e7af5",
   "metadata": {},
   "source": [
    "### Set vessel properties and sailing conditions ( input value )"
   ]
  },
  {
   "cell_type": "code",
   "execution_count": 5,
   "id": "fdac3126",
   "metadata": {},
   "outputs": [],
   "source": [
    "V_s    = np.linspace(0.1, 8, 200)          # ship sailing speeds to water, (m/s)\n",
    "h_0    = [10, 7.5, 5, 3.5]                 # water depths,(m)\n",
    "c_year = [1970,1980,1990,2000,2010,2020]   # engine construction years"
   ]
  },
  {
   "cell_type": "markdown",
   "id": "a8e8e346",
   "metadata": {},
   "source": [
    "### Calculate resistance, required power and emissions via OpenTNSim functions"
   ]
  },
  {
   "cell_type": "code",
   "execution_count": 18,
   "id": "06e87a79",
   "metadata": {},
   "outputs": [
    {
     "data": {
      "text/html": [
       "<div>\n",
       "<style scoped>\n",
       "    .dataframe tbody tr th:only-of-type {\n",
       "        vertical-align: middle;\n",
       "    }\n",
       "\n",
       "    .dataframe tbody tr th {\n",
       "        vertical-align: top;\n",
       "    }\n",
       "\n",
       "    .dataframe thead th {\n",
       "        text-align: right;\n",
       "    }\n",
       "</style>\n",
       "<table border=\"1\" class=\"dataframe\">\n",
       "  <thead>\n",
       "    <tr style=\"text-align: right;\">\n",
       "      <th></th>\n",
       "      <th>c_year</th>\n",
       "      <th>h_0</th>\n",
       "      <th>V_s</th>\n",
       "    </tr>\n",
       "  </thead>\n",
       "  <tbody>\n",
       "    <tr>\n",
       "      <th>0</th>\n",
       "      <td>1970</td>\n",
       "      <td>10.0</td>\n",
       "      <td>0.100000</td>\n",
       "    </tr>\n",
       "    <tr>\n",
       "      <th>1</th>\n",
       "      <td>1970</td>\n",
       "      <td>10.0</td>\n",
       "      <td>0.139698</td>\n",
       "    </tr>\n",
       "    <tr>\n",
       "      <th>2</th>\n",
       "      <td>1970</td>\n",
       "      <td>10.0</td>\n",
       "      <td>0.179397</td>\n",
       "    </tr>\n",
       "    <tr>\n",
       "      <th>3</th>\n",
       "      <td>1970</td>\n",
       "      <td>10.0</td>\n",
       "      <td>0.219095</td>\n",
       "    </tr>\n",
       "    <tr>\n",
       "      <th>4</th>\n",
       "      <td>1970</td>\n",
       "      <td>10.0</td>\n",
       "      <td>0.258794</td>\n",
       "    </tr>\n",
       "  </tbody>\n",
       "</table>\n",
       "</div>"
      ],
      "text/plain": [
       "   c_year   h_0       V_s\n",
       "0    1970  10.0  0.100000\n",
       "1    1970  10.0  0.139698\n",
       "2    1970  10.0  0.179397\n",
       "3    1970  10.0  0.219095\n",
       "4    1970  10.0  0.258794"
      ]
     },
     "execution_count": 18,
     "metadata": {},
     "output_type": "execute_result"
    }
   ],
   "source": [
    "# prepare the work to be done\n",
    "# create a list of all combinations\n",
    "work = list(itertools.product(c_year, h_0, V_s))\n",
    "\n",
    "# prepare a list of dictionaries for pandas\n",
    "rows = []\n",
    "for item in work:\n",
    "    row = {\"c_year\": item[0], \"h_0\": item[1], \"V_s\": item[2]}\n",
    "    rows.append(row)\n",
    "\n",
    "# these are all the simulations that we want to run\n",
    "# convert them to dataframe, so that we can apply a function and monitor progress\n",
    "work_df = pd.DataFrame(rows)\n",
    "work_df.head()"
   ]
  },
  {
   "cell_type": "code",
   "execution_count": 34,
   "id": "2fad523c",
   "metadata": {},
   "outputs": [
    {
     "data": {
      "text/plain": [
       "1970.0"
      ]
     },
     "execution_count": 34,
     "metadata": {},
     "output_type": "execute_result"
    }
   ],
   "source": [
    "# make a function that does all the work\n",
    "def do_simulation(row):\n",
    "    time.sleep(0.0001)\n",
    "    f'running simulation for {row.c_year}, {row.h_0}, {row.V_s}'\n",
    "    return row.c_year\n",
    "\n",
    "# test the function on 1 row\n",
    "row = work_df.iloc[0]\n",
    "do_simulation(row)\n"
   ]
  },
  {
   "cell_type": "code",
   "execution_count": 36,
   "id": "d7458e21",
   "metadata": {},
   "outputs": [
    {
     "name": "stderr",
     "output_type": "stream",
     "text": [
      "running simulations: 100%|████████████████████████████████████████████████████████████████████| 4800/4800 [00:00<00:00, 6685.46it/s]\n"
     ]
    }
   ],
   "source": [
    "# apply (from map, reduce approach) the function to all the work\n",
    "# show the rpogress\n",
    "tqdm.tqdm.pandas(desc=\"running simulations\")\n",
    "# do the apply\n",
    "results = work_df.progress_apply(do_simulation, axis=1)"
   ]
  },
  {
   "cell_type": "code",
   "execution_count": 33,
   "id": "831f4b9a",
   "metadata": {},
   "outputs": [
    {
     "data": {
      "text/plain": [
       "0    1970.0\n",
       "1    1970.0\n",
       "2    1970.0\n",
       "3    1970.0\n",
       "4    1970.0\n",
       "dtype: float64"
      ]
     },
     "execution_count": 33,
     "metadata": {},
     "output_type": "execute_result"
    }
   ],
   "source": [
    "# show the results\n",
    "results.head()"
   ]
  },
  {
   "cell_type": "code",
   "execution_count": null,
   "id": "3349180e",
   "metadata": {},
   "outputs": [],
   "source": [
    "# create empty plot data\n",
    "plot_data = {}\n",
    "\n",
    "# loop through the various input data\n",
    "for i in enumerate(c_year):\n",
    "    for i in enumerate(h_0):\n",
    "        for i in enumerate(V_s):\n",
    "    \n",
    "        # create an EnergyCalculation object and perform energy consumption calculation\n",
    "\n",
    "        frictional_resistance = opentnsim.core.ConsumesEnergy.calculate_frictional_resistance    \n",
    "        wave_resistance = opentnsim.core.ConsumesEnergy.calculate_wave_resistance\n",
    "        viscous_resistance = opentnsim.core.ConsumesEnergy.calculate_viscous_resistance\n",
    "        appendage_resistance = opentnsim.core.ConsumesEnergy.calculate_appendage_resistance\n",
    "        residual_resistance = opentnsim.core.ConsumesEnergy.calculate_residual_resistance\n",
    "        total_resistance = opentnsim.energy.calculate_total_resistance(v=V_s, h_0).append()\n",
    "\n",
    "        total_power_required = opentnsim.energy.calculate_total_power_required().append()\n",
    "\n",
    "        emission_g_m_CO2_speed=opentnsim.energy.EnergyCalculation.\n",
    "        emission_g_m_PM10_speed=\n",
    "        emission_g_m_NOX_speed=\n",
    "        emission_g_m_CO2_engine_age=opentnsim.energy.EnergyCalculation.\n",
    "        emission_g_m_PM10_engine_age=\n",
    "        emission_g_m_NOX_engine_age= \n",
    "    \n",
    "    \n",
    "    # create dataframe from energy calculation computation\n",
    "    df = pd.DataFrame.from_dict(energycalculation.energy_use)    "
   ]
  },
  {
   "cell_type": "code",
   "execution_count": null,
   "id": "36f37db9",
   "metadata": {},
   "outputs": [],
   "source": [
    "plot_data = {}"
   ]
  },
  {
   "cell_type": "markdown",
   "id": "aaeacf7c",
   "metadata": {},
   "source": [
    "### Figures output"
   ]
  },
  {
   "cell_type": "markdown",
   "id": "2c4394df",
   "metadata": {},
   "source": [
    "### Figure 3: Components of the total resistance"
   ]
  },
  {
   "cell_type": "code",
   "execution_count": null,
   "id": "01f8b17d",
   "metadata": {},
   "outputs": [],
   "source": [
    "# resistance for water depth h2 = 7.5 m\n",
    "R_f_2 = frictional_resistance(h2)[0]\n",
    "R_APP_2 = frictional_resistance(h2)[1]\n",
    "\n",
    "plt.figure(figsize=(6,4))\n",
    "plt.plot(V_0_km, R_tot2,color='#0165fc', linewidth = 2.5)       # RT, total resistance of the ship,[kN] \n",
    "plt.plot(V_0_km, one_k1*R_f_2,color='#ff9408', linewidth = 1.7) # Rf(1+k1), frictional resistance including the hull form factor\n",
    "plt.plot(V_0_km, R_APP_2,'-.', color='#76cd26',linewidth = 2)   # Rapp, appendage resistance\n",
    "plt.plot(V_0_km, R_W_2, 'r--', linewidth = 2)                   # Rw, wave resistance\n",
    "plt.plot(V_0_km, R_TR_2 + R_A_2,':',color='#aa23ff', linewidth = 2) # Rres, residual resistance\n",
    "plt.grid()\n",
    "plt.xlim(0, 18)\n",
    "plt.ylim(0, 130)\n",
    "plt.legend(['$R_T$', '$R_f$$\\ $(1+$k_1$)', '$R_{app}$', '$R_W$','$R_{res}$'])\n",
    "plt.xlabel('Relative vessel speed (km/h)',fontsize=10,weight='bold',labelpad=3)\n",
    "plt.ylabel('Resistance (kN)',fontsize=10,weight='bold',labelpad=3)\n",
    "plt.xticks( weight = 'bold')\n",
    "plt.yticks( weight = 'bold')\n",
    "\n",
    "\n",
    "#plt.savefig('resistance components.pdf', dpi=600, format='pdf') \n",
    "plt.savefig('PartIV-05-04.eps', dpi=600, format='eps') \n",
    "#plt.title('resistance components (L = 135 m, B = 11.45 m, T = 2.75 m, h = 7.5 m)')"
   ]
  },
  {
   "cell_type": "markdown",
   "id": "440b9eae",
   "metadata": {},
   "source": [
    "### Figure 5: Total required power"
   ]
  },
  {
   "cell_type": "code",
   "execution_count": null,
   "id": "50e775d3",
   "metadata": {},
   "outputs": [],
   "source": [
    "plt.figure(figsize = (6,4))\n",
    "plt.plot(V_0_km, P_tot1, color='navy',linewidth = 2.0)\n",
    "plt.plot(V_0_km, P_tot2,'-.', color='royalblue',linewidth = 2.0)\n",
    "plt.plot(V_0_km, P_tot3,'--', color='lightcoral',linewidth = 2.0)\n",
    "plt.plot(V_0_km, P_tot4,':', color='indianred',linewidth = 2.0)\n",
    "\n",
    "plt.grid()\n",
    "plt.xlim(10, 18)\n",
    "plt.ylim(0, 2000)\n",
    "plt.legend(['$h_0$ = 10 m', '$h_0$ = 7.5 m', '$h_0$ = 5 m', '$h_0$ = 3.5 m'])\n",
    "\n",
    "plt.xlabel('Relative vessel speed (km/h)',fontsize=10,weight='bold',labelpad=3)\n",
    "plt.ylabel('Power (kW)',fontsize=10,weight='bold',labelpad=3)\n",
    "#plt.title('total power required versus speed with diff water depths (type = M9, L = 135 m, B = 11.45 m, T = 2.75 m)')\n",
    "plt.xticks( weight = 'bold')\n",
    "plt.yticks( weight = 'bold')\n",
    "plt.savefig('total power required versus speed with diff water depths.pdf', dpi=600, format='pdf') \n"
   ]
  },
  {
   "cell_type": "markdown",
   "id": "d6beb42b",
   "metadata": {},
   "source": [
    "### Figure 7: validation_total power required versus speed with diff water depths (add DST results to Fig.5)"
   ]
  },
  {
   "cell_type": "code",
   "execution_count": null,
   "id": "3e1d0dab",
   "metadata": {},
   "outputs": [],
   "source": [
    "from scipy.interpolate import make_interp_spline, BSpline\n",
    "\n",
    "plt.figure(figsize = (6,4))\n",
    "V_DST_1=np.array([10,11,12,13,14,15,16,17,18]) # deep water\n",
    "P_DST_1=np.array([180,240,300,400,500,640,800,1000,1200])\n",
    "V_DST_2=np.array([10,11,12,13,14,15,16,17,18]) # h=7.5 m\n",
    "P_DST_2=np.array([230,300,380,490,600,780,1000,1300,1600])\n",
    "V_DST_3=np.array([10,11,12,13,14,15,15.65,16,16.5,16.7]) # h=5 m\n",
    "P_DST_3=np.array([275,360,470,600,800,1000,1200,1400,1800,2005])\n",
    "V_DST_4=np.array([10,10.5,11,11.5,12,12.5,13]) # h=3.5 m\n",
    "P_DST_4=np.array([350,450,535,685,1000,1800,3000])\n",
    "#define spline, make the lines smooth\n",
    "V_DST_1_new = np.linspace(V_DST_1.min(), V_DST_1.max(), 200) \n",
    "V_DST_2_new = np.linspace(V_DST_2.min(), V_DST_2.max(), 200) \n",
    "V_DST_3_new = np.linspace(V_DST_3.min(), V_DST_3.max(), 200) \n",
    "V_DST_4_new = np.linspace(V_DST_4.min(), V_DST_4.max(), 200) \n",
    "\n",
    "spl1= make_interp_spline(V_DST_1,P_DST_1, k=3)\n",
    "P_DST_1_new = spl1(V_DST_1_new)\n",
    "spl2= make_interp_spline(V_DST_2,P_DST_2, k=3)\n",
    "P_DST_2_new = spl2(V_DST_2_new)\n",
    "spl3= make_interp_spline(V_DST_3,P_DST_3, k=3)\n",
    "P_DST_3_new = spl3(V_DST_3_new)\n",
    "spl4= make_interp_spline(V_DST_4,P_DST_4, k=3)\n",
    "P_DST_4_new = spl4(V_DST_4_new)\n",
    "                 \n",
    "plt.plot(V_DST_1_new,P_DST_1_new,color='navy',linewidth = 3.0)\n",
    "plt.plot(V_DST_2_new,P_DST_2_new,color='royalblue',linewidth = 3.0)\n",
    "plt.plot(V_DST_3_new,P_DST_3_new,color='lightcoral',linewidth = 3.0)\n",
    "plt.plot(V_DST_4_new,P_DST_4_new,color='indianred',linewidth = 3.0)\n",
    "\n",
    "\n",
    "plt.plot(V_0_km, P_tot1,'-', color='navy',linewidth = 2.0)\n",
    "plt.plot(V_0_km, P_tot2,'-.', color='royalblue',linewidth = 2.0)\n",
    "plt.plot(V_0_km, P_tot3,'--', color='lightcoral',linewidth = 2.0)\n",
    "plt.plot(V_0_km, P_tot4,':', color='indianred',linewidth = 2.0)\n",
    "\n",
    "plt.grid()\n",
    "plt.xlim(10, 18)\n",
    "plt.ylim(0, 2000)\n",
    "plt.legend(['DST, deep water', 'DST, $h_0$ = 7.5 m', 'DST, $h_0$ = 5 m', 'DST, $h_0$ = 3.5 m',\n",
    "            'Own, $h_0$ = 10 m', 'Own, $h_0$ = 7.5 m', 'Own, $h_0$ = 5 m', 'Own, $h_0$ = 3.5 m'],loc=(1.04,0.2))\n",
    "\n",
    "plt.xlabel('Relative vessel speed (km/h)',fontsize=10,weight='bold',labelpad=3)\n",
    "plt.ylabel('Power (kW)',fontsize=10,weight='bold',labelpad=3)\n",
    "#plt.title('total power required versus speed with diff water depths (type = M9, L = 135 m, B = 11.45 m, T = 2.75 m)')\n",
    "plt.xticks( weight = 'bold')\n",
    "plt.yticks( weight = 'bold')\n",
    "plt.savefig('validation_total power required versus speed with diff water depths.pdf',bbox_inches = 'tight',dpi=600, format='pdf') "
   ]
  },
  {
   "cell_type": "markdown",
   "id": "c442198e",
   "metadata": {},
   "source": [
    "### Figure 8: Emissions as a function of vessel speed: emission rates in g/km versus speed for different water depths"
   ]
  },
  {
   "cell_type": "code",
   "execution_count": null,
   "id": "7659987c",
   "metadata": {},
   "outputs": [],
   "source": [
    "fig, axs = plt.subplots(1, 3, figsize=(12, 3),constrained_layout=True)\n",
    "fontsize=10\n",
    "\n",
    "ax=plt.subplot(131)\n",
    "plt.plot(V_0_km, emission_g_m_CO2_1, 'yellow',linewidth = 2.0) # CO2 emission rates for water depth h1=10 m\n",
    "plt.plot(V_0_km, emission_g_m_CO2_2, 'orange',linewidth = 2.0) # CO2 emission rates for water depth h2=7.5 m\n",
    "plt.plot(V_0_km, emission_g_m_CO2_3, 'red',linewidth = 2.0)    # CO2 emission rates for water depth h3=5 m\n",
    "plt.plot(V_0_km[V_0_km<15.6], emission_g_m_CO2_4[V_0_km<15.6], 'darkred',linewidth = 2.0) # for water depth h4=3.5 m, speed limited to 15.6 km/h\n",
    "plt.legend(['$h_0$ = 10 m', '$h_0$ = 7.5 m', '$h_0$ = 5 m', '$h_0$ = 3.5 m'],loc='upper center')\n",
    "plt.grid()\n",
    "plt.xlim(0, 18)  #  set vessel speed range (km/h) for inland shipping\n",
    "plt.ylim(0, 300000)\n",
    "plt.xlabel('Relative vessel speed (km/h)',fontsize=10,weight='bold',labelpad=3)\n",
    "plt.ylabel('CO2 emission rate (g/km)',fontsize=10,weight='bold',labelpad=3)\n",
    "plt.xticks([0,5,10,15,18], weight = 'bold')\n",
    "plt.yticks( weight = 'bold')\n",
    "\n",
    "ax=plt.subplot(132)\n",
    "plt.plot(V_0_km, emission_g_m_PM10_1, 'paleturquoise',linewidth = 2.0)\n",
    "plt.plot(V_0_km, emission_g_m_PM10_2, 'mediumspringgreen',linewidth = 2.0)\n",
    "plt.plot(V_0_km, emission_g_m_PM10_3, 'mediumseagreen',linewidth = 2.0)\n",
    "plt.plot(V_0_km[V_0_km<15.6], emission_g_m_PM10_4[V_0_km<15.6], 'darkgreen',linewidth = 2.0)\n",
    "plt.legend(['$h_0$ = 10 m', '$h_0$ = 7.5 m', '$h_0$ = 5 m', '$h_0$ = 3.5 m'],loc='upper center')\n",
    "plt.grid()\n",
    "plt.xlim(0, 18)\n",
    "plt.ylim(0, 350)\n",
    "plt.xlabel('Relative vessel speed (km/h)',fontsize=10,weight='bold',labelpad=3)\n",
    "plt.ylabel('PM10 emission rate (g/km)',fontsize=10,weight='bold',labelpad=3)\n",
    "plt.xticks([0,5,10,15,18], weight = 'bold')\n",
    "plt.yticks( weight = 'bold')\n",
    "\n",
    "ax=plt.subplot(133)\n",
    "plt.plot(V_0_km, emission_g_m_NOX_1, 'pink',linewidth = 2.0)\n",
    "plt.plot(V_0_km, emission_g_m_NOX_2, 'hotpink',linewidth = 2.0)\n",
    "plt.plot(V_0_km, emission_g_m_NOX_3, 'deeppink',linewidth = 2.0)\n",
    "plt.plot(V_0_km[V_0_km<15.6], emission_g_m_NOX_4[V_0_km<15.6], 'purple',linewidth = 2.0)\n",
    "plt.legend(['$h_0$ = 10 m', '$h_0$ = 7.5 m', '$h_0$ = 5 m', '$h_0$ = 3.5 m'],loc='upper center')\n",
    "plt.grid()\n",
    "plt.xlim(0, 18)\n",
    "plt.ylim(0, 6500)\n",
    "plt.xlabel('Relative vessel speed (km/h)',fontsize=10, weight='bold',labelpad=3)\n",
    "plt.ylabel('NOx emission rate (g/km)',fontsize=10,weight='bold',labelpad=3)\n",
    "plt.xticks([0,5,10,15,18], weight = 'bold')\n",
    "plt.yticks( weight = 'bold')\n",
    "\n",
    "#plt.savefig('emission rates versus speed with diff water depth.pdf', dpi=600, format='pdf')  \n",
    "plt.savefig('PartIV-05-09.eps', dpi=600, format='eps') "
   ]
  },
  {
   "cell_type": "markdown",
   "id": "c6f3b73e",
   "metadata": {},
   "source": [
    "### Figure 9: Emissions as a function of engine age: emission rates in g/km versus speed for different engine ages\n"
   ]
  },
  {
   "cell_type": "code",
   "execution_count": null,
   "id": "19028dfe",
   "metadata": {},
   "outputs": [],
   "source": [
    "fig, axs = plt.subplots(1, 3, figsize=(12, 3),constrained_layout=True)\n",
    "fontsize=10\n",
    "\n",
    "ax=plt.subplot(131)\n",
    "plt.plot(V_0_km, emission_g_m_CO2_11, 'darkred',linewidth = 2.0)   # CO2 emission rates for engine construction year 1970\n",
    "plt.plot(V_0_km, emission_g_m_CO2_22, 'red',linewidth = 2.0)       # CO2 emission rates for engine construction year 1980\n",
    "plt.plot(V_0_km, emission_g_m_CO2_33, 'darkorange',linewidth = 2.0)# CO2 emission rates for engine construction year 1990\n",
    "plt.plot(V_0_km, emission_g_m_CO2_44, 'orange',linewidth = 2.0)    # CO2 emission rates for engine construction year 2000\n",
    "plt.plot(V_0_km, emission_g_m_CO2_55, 'gold',linewidth = 2.0)      # CO2 emission rates for engine construction year 2010\n",
    "plt.plot(V_0_km, emission_g_m_CO2_66, 'yellow',linewidth = 2.0)    # CO2 emission rates for engine construction year 2020\n",
    "plt.legend(['$C_{year}$ = 1970', '$C_{year}$ = 1980', '$C_{year}$ = 1990', '$C_{year}$ = 2000', \n",
    "            '$C_{year}$ = 2010', '$C_{year}$ = 2020'],loc='upper center')\n",
    "plt.grid()\n",
    "plt.xlim(0, 18)\n",
    "plt.ylim(0, 100000)\n",
    "plt.xlabel('Relative vessel speed (km/h)',fontsize=10, weight='bold',labelpad=3)\n",
    "plt.ylabel('CO2 emission rate (g/km)',fontsize=10,weight='bold',labelpad=3)\n",
    "plt.xticks([0,5,10,15,18],weight = 'bold')\n",
    "plt.yticks( weight = 'bold')\n",
    "\n",
    "ax=plt.subplot(132)\n",
    "plt.plot(V_0_km, emission_g_m_PM10_11, 'darkgreen',linewidth = 2.0)\n",
    "plt.plot(V_0_km, emission_g_m_PM10_22, 'seagreen',linewidth = 2.0)\n",
    "plt.plot(V_0_km, emission_g_m_PM10_33, 'mediumseagreen',linewidth = 2.0)\n",
    "plt.plot(V_0_km, emission_g_m_PM10_44, 'mediumspringgreen')\n",
    "plt.plot(V_0_km, emission_g_m_PM10_55, 'aquamarine',linewidth = 2.0)\n",
    "plt.plot(V_0_km, emission_g_m_PM10_66, 'paleturquoise',linewidth = 2.0)\n",
    "plt.legend(['$C_{year}$ = 1970', '$C_{year}$ = 1980', '$C_{year}$ = 1990', '$C_{year}$ = 2000', \n",
    "            '$C_{year}$ = 2010', '$C_{year}$ = 2020'],loc='upper center')\n",
    "plt.grid()\n",
    "plt.xlim(0, 18)\n",
    "plt.ylim(0, 100)\n",
    "plt.xlabel('Relative vessel speed (km/h)',fontsize=10, weight='bold',labelpad=3)\n",
    "plt.ylabel('PM10 emission rate (g/km)',fontsize=10,weight='bold',labelpad=3)\n",
    "plt.xticks([0,5,10,15,18], weight = 'bold')\n",
    "plt.yticks( weight = 'bold')\n",
    "\n",
    "ax=plt.subplot(133)\n",
    "plt.plot(V_0_km, emission_g_m_NOX_11, 'purple',linewidth = 2.0)\n",
    "plt.plot(V_0_km, emission_g_m_NOX_22, 'darkmagenta',linewidth = 2.0)\n",
    "plt.plot(V_0_km, emission_g_m_NOX_33, 'orchid',linewidth = 2.0)\n",
    "plt.plot(V_0_km, emission_g_m_NOX_44, 'deeppink',linewidth = 2.0)\n",
    "plt.plot(V_0_km, emission_g_m_NOX_55, 'hotpink',linewidth = 2.0)\n",
    "plt.plot(V_0_km, emission_g_m_NOX_66, 'pink',linewidth = 2.0)\n",
    "plt.legend(['$C_{year}$ = 1970', '$C_{year}$ = 1980', '$C_{year}$ = 1990', '$C_{year}$ = 2000',\n",
    "            '$C_{year}$ = 2010', '$C_{year}$ = 2020'],loc='upper center')\n",
    "plt.grid()\n",
    "plt.xlim(0, 18)\n",
    "plt.ylim(0, 1600)\n",
    "plt.xlabel('Relative vessel speed (km/h)',fontsize=10, weight='bold',labelpad=3)\n",
    "plt.ylabel('NOx emission rate (g/km)',fontsize=10,weight='bold',labelpad=3)\n",
    "plt.xticks([0,5,10,15,18], weight = 'bold')\n",
    "plt.yticks( weight = 'bold')\n",
    "\n",
    "#plt.savefig('emission rates versus speed with diff engine ages.pdf', dpi=600, format='pdf')\n",
    "plt.savefig('PartIV-05-10.eps', dpi=600, format='eps')\n",
    "#fig.suptitle('Emission rate versus velocity, for different engine ages  \\n (type = M9, L = 135 m, B = 11.45 m, T = 2.75 m, h = 10 m)')"
   ]
  }
 ],
 "metadata": {
  "kernelspec": {
   "display_name": "Python 3 (ipykernel)",
   "language": "python",
   "name": "python3"
  },
  "language_info": {
   "codemirror_mode": {
    "name": "ipython",
    "version": 3
   },
   "file_extension": ".py",
   "mimetype": "text/x-python",
   "name": "python",
   "nbconvert_exporter": "python",
   "pygments_lexer": "ipython3",
   "version": "3.9.9"
  }
 },
 "nbformat": 4,
 "nbformat_minor": 5
}
