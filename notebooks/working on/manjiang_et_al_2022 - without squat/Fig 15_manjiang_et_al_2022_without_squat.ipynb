{
 "cells": [
  {
   "cell_type": "markdown",
   "id": "8415eddf",
   "metadata": {},
   "source": [
    "####     From this notebook we get:\n",
    "        \"Figure 15: Total fuel using and emissions of a round trip influenced by engine constructed years\".\n",
    "####    General steps:\n",
    "        -First we create and run the basic simulation of the ship sailing on the waterway.\n",
    "        -Then we plot the figure based on the results of the fuel consumption and emissions from the simulation."
   ]
  },
  {
   "cell_type": "markdown",
   "id": "4da97e37",
   "metadata": {},
   "source": [
    "## Basic simulation - consumes energy-van Dosser actual draught&payload\n",
    "We are going to make a simulation which forces a vessel to move over a certain 1D waterway network. It tries to give one an understanding of the most basic core functions of OpenTNSim and teach one the requirements to set-up a basic OpenTNSim model run. \n",
    "\n",
    "We add some properties to the graph (depth) and the vessel (VesselProperties, ConsumesEnergy) in order to calculate resistance, required power, "
   ]
  },
  {
   "cell_type": "markdown",
   "id": "9e12bfde",
   "metadata": {},
   "source": [
    "### Imports\n",
    "Import the required libraries"
   ]
  },
  {
   "cell_type": "code",
   "execution_count": 1,
   "id": "d4e73aa6",
   "metadata": {},
   "outputs": [],
   "source": [
    "# package(s) related to time, space and id\n",
    "import logging\n",
    "import datetime, time\n",
    "import platform\n",
    "\n",
    "# you need these dependencies (you can get these from anaconda)\n",
    "# package(s) related to the simulation\n",
    "import simpy\n",
    "import pandas as pd\n",
    "\n",
    "# spatial libraries \n",
    "import pyproj\n",
    "import shapely.geometry\n",
    "from simplekml import Kml, Style\n",
    "\n",
    "# package(s) for data handling\n",
    "import numpy as np\n",
    "import matplotlib.pyplot as plt\n",
    "\n",
    "# OpenTNSim\n",
    "import opentnsim\n",
    "\n",
    "# Used for mathematical functions\n",
    "import math             \n",
    "\n",
    "# Used for making the graph to visualize our problem\n",
    "import networkx as nx   \n",
    "\n",
    "# turn on debug messages\n",
    "# logging.basicConfig(level=logging.DEBUG)\n",
    "# turn off debug messages\n",
    "logging.basicConfig(level=logging.INFO)"
   ]
  },
  {
   "cell_type": "markdown",
   "id": "50a15fcc",
   "metadata": {},
   "source": [
    "### Create graph\n",
    "We first need to create a 1D network (a graph) along which the vessel will move. A graph contains edges (blue dots in plot below) and vertices (black lines in plot below). For this example, we will construct a network consisting of 4 nodes in a straight line. Since we would like to have two-way traffic, we add two edges between each pair of nodes: one from left to right, and another the other way around (however, we could easily apply one-way traffic as well by remove one of the two edges). Consequently, we arrive at a total of 4 nodes, and 6 edges.\n",
    "\n",
    "Due to the nature of discrete modelling in which the time step is dependent on the activities (in this example: forcing a ship to move from node to node from its origin to its destination), it is important to add OpenTNSim mix-ins to the nodes in such a way we could identify the node (mix-in Identifiable, which imports a name and imports/creates an ID), and to locate the node (mix-in Locatable, which gives the node a geometry).\n"
   ]
  },
  {
   "cell_type": "code",
   "execution_count": 2,
   "id": "d5683a95",
   "metadata": {},
   "outputs": [
    {
     "data": {
      "image/png": "[encoded data removed]",
      "text/plain": [
       "<Figure size 432x288 with 1 Axes>"
      ]
     },
     "metadata": {},
     "output_type": "display_data"
    }
   ],
   "source": [
    "FG = nx.DiGraph()\n",
    "nodes = []\n",
    "path = []\n",
    "\n",
    "Node = type('Site', (opentnsim.core.Identifiable, opentnsim.core.Locatable), {})\n",
    "\n",
    "data_node_1 = {\"name\": \"Node 1\",\n",
    "               \"geometry\": shapely.geometry.Point(0, 0)}\n",
    "data_node_2 = {\"name\": \"Node 2\",\n",
    "               \"geometry\": shapely.geometry.Point(0.8983, 0)}  # 0.8983 degree =100km\n",
    "data_node_3 = {\"name\": \"Node 3\",\n",
    "               \"geometry\": shapely.geometry.Point(1.7966, 0)}   # 1.7966 degree =200km\n",
    "data_node_4 = {\"name\": \"Node 4\",\n",
    "               \"geometry\": shapely.geometry.Point(2.6949, 0)}    # 2.6949 degree =300km\n",
    "\n",
    "node_1 = Node(**data_node_1)\n",
    "node_2 = Node(**data_node_2)\n",
    "node_3 = Node(**data_node_3)\n",
    "node_4 = Node(**data_node_4)\n",
    "\n",
    "nodes = [node_1, node_2, node_3, node_4]\n",
    "\n",
    "positions = {}\n",
    "for node in nodes:\n",
    "    positions[node.name] = (node.geometry.x, node.geometry.y)\n",
    "    FG.add_node(node.name, geometry = node.geometry)\n",
    "\n",
    "path = [[node_1, node_2], # From node 1 to node 2\n",
    "        [node_2, node_3], # From node 2 to node 3\n",
    "        [node_3, node_4], # From node 3 to node 4\n",
    "        [node_4, node_3], # From node 4 to node 3\n",
    "        [node_3, node_2], # From node 3 to node 2\n",
    "        [node_2, node_1]] # From node 2 to node 1\n",
    "\n",
    "for edge in path:\n",
    "    # For the energy consumption calculation we add info to the graph. We need depth info for resistance.\n",
    "    # NB: the CalculateEnergy routine expects the graph to have \"Info\" that contains \"GeneralDepth\" \n",
    "    #     this may not be very generic!\n",
    "    FG.add_edge(edge[0].name, edge[1].name, weight = 1, Info = {\"GeneralDepth\": 6})\n",
    "    \n",
    "middle_edges = [\n",
    "    (node_2.name, node_3.name),\n",
    "    (node_3.name, node_2.name)\n",
    "]\n",
    "\n",
    "for e in middle_edges:\n",
    "    edge = FG.edges[e]\n",
    "    edge['Info']['GeneralDepth'] = 6\n",
    "    \n",
    "# env.FG = FG\n",
    "nx.draw(FG, positions)\n",
    "plt.show()"
   ]
  },
  {
   "cell_type": "code",
   "execution_count": 3,
   "id": "3a375d91",
   "metadata": {},
   "outputs": [
    {
     "name": "stdout",
     "output_type": "stream",
     "text": [
      "General depth for edge ('Node 1', 'Node 2') is 6\n",
      "General depth for edge ('Node 2', 'Node 3') is 6\n",
      "General depth for edge ('Node 2', 'Node 1') is 6\n",
      "General depth for edge ('Node 3', 'Node 4') is 6\n",
      "General depth for edge ('Node 3', 'Node 2') is 6\n",
      "General depth for edge ('Node 4', 'Node 3') is 6\n"
     ]
    }
   ],
   "source": [
    "# This cell just shows that now a depth of 10 m is added to the edges. \n",
    "# You can use this to vary depths, e.g. make the middle edge shallower. Note that edges are bi-directional \n",
    "for edge in FG.edges:\n",
    "    print('General depth for edge {} is {}'.format(edge, FG.get_edge_data(edge[0], edge[1])[\"Info\"][\"GeneralDepth\"]))"
   ]
  },
  {
   "cell_type": "markdown",
   "id": "35391829",
   "metadata": {},
   "source": [
    "### Create vessel - add VesselProperties and ConsumesEnergy mixins\n",
    "The following mix-ins are required for each vessel in our problem: Identifiable (gives the vessel a name and a random ID), Movable (gives that the object (*vessel*) can move with a fixed speed and logs this activity, it requires input for the following mix-ins: Locatable, Routeable, and Log), and Routable (gives the object a route). We now modify our original vessel from the basic example and include vessel properties (like width, length, etc.) and a mixin that is needed to calculate resistance and energy consumption. "
   ]
  },
  {
   "cell_type": "code",
   "execution_count": 4,
   "id": "aa92d0e3",
   "metadata": {},
   "outputs": [],
   "source": [
    "# Make your preferred class out of available mix-ins.\n",
    "TransportResource = type(\n",
    "    \"Vessel\",\n",
    "    (\n",
    "        opentnsim.core.Identifiable,\n",
    "        opentnsim.core.Movable,\n",
    "        opentnsim.core.Routeable,\n",
    "        opentnsim.core.VesselProperties,  # needed to add vessel properties\n",
    "        opentnsim.core.ConsumesEnergy,\n",
    "        opentnsim.core.ExtraMetadata,\n",
    "    ),\n",
    "    {},\n",
    ")  # needed to calculate resistances"
   ]
  },
  {
   "cell_type": "code",
   "execution_count": 5,
   "id": "d7285aac-6bcc-487c-84a1-1902ca9f21fb",
   "metadata": {},
   "outputs": [],
   "source": [
    "# Create a dict with all important settings\n",
    "# NB: set both \"v\" and \"P_tot_given\" to None, as they will be set later\n",
    "\n",
    "data_vessel = {\"env\": None,\n",
    "               \"name\": None,\n",
    "               \"route\": None,\n",
    "               \"geometry\": None,\n",
    "               \"v\": 3.5,  # m/s\n",
    "               \"type\":None,\n",
    "               \"B\": 11.4,\n",
    "               \"L\": 110,\n",
    "               \"H_e\": None, \n",
    "               \"H_f\": None, \n",
    "               \"T\": 3.5,\n",
    "               \"safety_margin\": 0.2, # for tanker vessel with sandy bed the safety margin is recommended as 0.2 m\n",
    "               \"h_squat\": False, # if consider the ship squatting while moving, set to True, otherwise set to False\n",
    "               \"P_installed\": 1750.0,\n",
    "               \"P_tot_given\": None, # kW\n",
    "               \"bulbous_bow\": False, # if a vessel has no bulbous_bow, set to False; otherwise set to True.\n",
    "               \"P_hotel_perc\": 0.05,\n",
    "               \"P_hotel\": None, # None: calculate P_hotel from percentage\n",
    "               \"L_w\": 3.0 ,\n",
    "               \"C_B\":0.85, \n",
    "               \"C_year\":1990,\n",
    "              }             \n",
    "\n",
    "vessel = TransportResource(**data_vessel)"
   ]
  },
  {
   "cell_type": "markdown",
   "id": "1d7abf4c",
   "metadata": {},
   "source": [
    "### Define paths\n",
    "We are going to create a simulation in which a vessel moves from *Node 1* to *Node 4*. Therefore, we need to create a vessel to which we will need to append this paths. Therefore, first let's create the path."
   ]
  },
  {
   "cell_type": "code",
   "execution_count": 6,
   "id": "088664b6",
   "metadata": {},
   "outputs": [],
   "source": [
    "path = nx.dijkstra_path(FG, node_1.name, node_4.name)"
   ]
  },
  {
   "cell_type": "markdown",
   "id": "23ceac15",
   "metadata": {},
   "source": [
    "### Run simulation\n",
    "Now we can define the run. First, we make an environment and add the graph to the environment. Then we add one vessel, to which we will append the environment and the above route. Lastly, we give the vessel the process of moving from the origin to the destination of the defined path and subsequently run the model."
   ]
  },
  {
   "cell_type": "code",
   "execution_count": 7,
   "id": "842cd1dc",
   "metadata": {},
   "outputs": [],
   "source": [
    "def run_simulation(C_year):\n",
    "    \n",
    "    # Start simpy environment\n",
    "    simulation_start = datetime.datetime.now()\n",
    "    env = simpy.Environment(initial_time = time.mktime(simulation_start.timetuple()))\n",
    "    env.epoch = time.mktime(simulation_start.timetuple())\n",
    "\n",
    "    # Add graph to environment\n",
    "    env.FG = FG\n",
    "\n",
    "    # Add environment and path to the vessel\n",
    "    # create a fresh instance of vessel\n",
    "    vessel = TransportResource(**data_vessel)\n",
    "    vessel.env = env                                        #the created environment\n",
    "    vessel.name = 'Vessel No.1'                     \n",
    "    vessel.route = path                                     #the route (the sequence of nodes, as stored as the second column in the path)\n",
    "    vessel.geometry = env.FG.nodes[path[0]]['geometry']     #a shapely.geometry.Point(lon,lat) (here taken as the starting node of the vessel)\n",
    "    vessel.C_year = C_year\n",
    "    depths = []\n",
    "    for e in zip(vessel.route[:-1], vessel.route[1:]):\n",
    "        edge = env.FG.edges[e]\n",
    "        depth = edge['Info']['GeneralDepth']\n",
    "        depths.append(depth)\n",
    "\n",
    "\n",
    "    for depth in depths:\n",
    "            h_0 = depth\n",
    "            h_0 = vessel.calculate_h_squat(v = vessel.v, h_0 = h_0)\n",
    "            print(h_0)\n",
    "    \n",
    "    # Start the simulation\n",
    "    env.process(vessel.move())\n",
    "    env.run()\n",
    "    \n",
    "    return vessel"
   ]
  },
  {
   "cell_type": "code",
   "execution_count": 8,
   "id": "ad3b20e9",
   "metadata": {},
   "outputs": [
    {
     "data": {
      "text/plain": [
       "{'C_year': [1970, 1980, 1990, 2000, 2010, 2020]}"
      ]
     },
     "execution_count": 8,
     "metadata": {},
     "output_type": "execute_result"
    }
   ],
   "source": [
    "input_data = {'C_year': [1970, 1980, 1990, 2000, 2010, 2020]}\n",
    "input_data"
   ]
  },
  {
   "cell_type": "code",
   "execution_count": 9,
   "id": "a4d5ef39",
   "metadata": {
    "collapsed": true,
    "jupyter": {
     "outputs_hidden": true
    },
    "tags": []
   },
   "outputs": [
    {
     "name": "stdout",
     "output_type": "stream",
     "text": [
      "6\n",
      "6\n",
      "6\n",
      "6\n",
      "6\n",
      "6\n",
      "6\n",
      "6\n",
      "6\n",
      "6\n",
      "6\n",
      "6\n",
      "6\n",
      "6\n",
      "6\n",
      "6\n",
      "6\n",
      "6\n"
     ]
    },
    {
     "name": "stderr",
     "output_type": "stream",
     "text": [
      "C:\\ANACONDA2021\\envs\\sim\\lib\\site-packages\\pandas\\core\\dtypes\\cast.py:122: ShapelyDeprecationWarning:\n",
      "\n",
      "The array interface is deprecated and will no longer work in Shapely 2.0. Convert the '.coords' to a numpy array instead.\n",
      "\n",
      "C:\\ANACONDA2021\\envs\\sim\\lib\\site-packages\\pandas\\core\\dtypes\\cast.py:122: ShapelyDeprecationWarning:\n",
      "\n",
      "The array interface is deprecated and will no longer work in Shapely 2.0. Convert the '.coords' to a numpy array instead.\n",
      "\n",
      "C:\\ANACONDA2021\\envs\\sim\\lib\\site-packages\\pandas\\core\\dtypes\\cast.py:122: ShapelyDeprecationWarning:\n",
      "\n",
      "The array interface is deprecated and will no longer work in Shapely 2.0. Convert the '.coords' to a numpy array instead.\n",
      "\n",
      "C:\\ANACONDA2021\\envs\\sim\\lib\\site-packages\\pandas\\core\\dtypes\\cast.py:122: ShapelyDeprecationWarning:\n",
      "\n",
      "The array interface is deprecated and will no longer work in Shapely 2.0. Convert the '.coords' to a numpy array instead.\n",
      "\n",
      "C:\\ANACONDA2021\\envs\\sim\\lib\\site-packages\\pandas\\core\\dtypes\\cast.py:122: ShapelyDeprecationWarning:\n",
      "\n",
      "The array interface is deprecated and will no longer work in Shapely 2.0. Convert the '.coords' to a numpy array instead.\n",
      "\n",
      "C:\\ANACONDA2021\\envs\\sim\\lib\\site-packages\\pandas\\core\\dtypes\\cast.py:122: ShapelyDeprecationWarning:\n",
      "\n",
      "The array interface is deprecated and will no longer work in Shapely 2.0. Convert the '.coords' to a numpy array instead.\n",
      "\n"
     ]
    }
   ],
   "source": [
    "# create empty plot data\n",
    "plot_data = {}\n",
    "\n",
    "# loop through the various input data\n",
    "for index, value in enumerate(input_data['C_year']):\n",
    "    \n",
    "    # Run a basic simulation with V_s and P_tot_given combi\n",
    "    vessel = run_simulation(input_data['C_year'][index])\n",
    "    \n",
    "    # create an EnergyCalculation object and perform energy consumption calculation\n",
    "    energycalculation = opentnsim.energy.EnergyCalculation(FG, vessel)\n",
    "    energycalculation.calculate_energy_consumption()\n",
    "    \n",
    "    # create dataframe from energy calculation computation\n",
    "    df = pd.DataFrame.from_dict(energycalculation.energy_use)\n",
    "    \n",
    "    # add/modify some comlums to suit our plotting needs\n",
    "    df['total_fuel_consumption_600km']=df['total_fuel_consumption']*6/1000  #kg, a round trip is 600km in total\n",
    "    df['total_emission_CO2_600km']=df['total_emission_CO2']*6/1000          #kg\n",
    "    df['total_emission_PM10_600km']=df['total_emission_PM10']*6/1000        #kg\n",
    "    df['total_emission_NOX_600km']=df['total_emission_NOX']*6/1000          #kg\n",
    "\n",
    "   \n",
    "    # Note that we make a dict to collect all plot data. \n",
    "    # We use labels like ['c_year = 1970'] organise the data in the dict\n",
    "\n",
    "    label = 'C_year = ' + str(input_data['C_year'][index]) \n",
    "    plot_data[label + ', total_fuel_consumption_600km']   = list(df.total_fuel_consumption_600km[[0]])\n",
    "    plot_data[label + ', total_emission_CO2_600km']   = list(df.total_emission_CO2_600km[[0]])\n",
    "    plot_data[label + ', total_emission_PM10_600km']   = list(df.total_emission_PM10_600km[[0]])\n",
    "    plot_data[label + ', total_emission_NOX_600km']   = list(df.total_emission_NOX_600km[[0]])\n",
    "    "
   ]
  },
  {
   "cell_type": "code",
   "execution_count": 10,
   "id": "129e5fb5",
   "metadata": {},
   "outputs": [
    {
     "data": {
      "text/plain": [
       "{'C_year = 1970, total_fuel_consumption_600km': [5911.640938167946],\n",
       " 'C_year = 1970, total_emission_CO2_600km': [19017.87467768071],\n",
       " 'C_year = 1970, total_emission_PM10_600km': [14.857140263906597],\n",
       " 'C_year = 1970, total_emission_NOX_600km': [254.740281315254],\n",
       " 'C_year = 1980, total_fuel_consumption_600km': [5660.081749309735],\n",
       " 'C_year = 1980, total_emission_CO2_600km': [17961.326084476226],\n",
       " 'C_year = 1980, total_emission_PM10_600km': [14.857140263906597],\n",
       " 'C_year = 1980, total_emission_NOX_600km': [245.3054560813557],\n",
       " 'C_year = 1990, total_fuel_consumption_600km': [5534.30215488063],\n",
       " 'C_year = 1990, total_emission_CO2_600km': [17558.831382303088],\n",
       " 'C_year = 1990, total_emission_PM10_600km': [9.904760175937732],\n",
       " 'C_year = 1990, total_emission_NOX_600km': [238.22933715593197],\n",
       " 'C_year = 2000, total_fuel_consumption_600km': [5156.963371593314],\n",
       " 'C_year = 2000, total_emission_CO2_600km': [16351.347275783677],\n",
       " 'C_year = 2000, total_emission_PM10_600km': [7.428570131953299],\n",
       " 'C_year = 2000, total_emission_NOX_600km': [221.71839299660996],\n",
       " 'C_year = 2010, total_fuel_consumption_600km': [5031.183777164209],\n",
       " 'C_year = 2010, total_emission_CO2_600km': [15974.00849249636],\n",
       " 'C_year = 2010, total_emission_PM10_600km': [4.952380087968866],\n",
       " 'C_year = 2010, total_emission_NOX_600km': [179.22914380289788],\n",
       " 'C_year = 2020, total_fuel_consumption_600km': [4779.624588305998],\n",
       " 'C_year = 2020, total_emission_CO2_600km': [15169.019088150091],\n",
       " 'C_year = 2020, total_emission_PM10_600km': [0.3714285065976649],\n",
       " 'C_year = 2020, total_emission_NOX_600km': [73.54937332194268]}"
      ]
     },
     "execution_count": 10,
     "metadata": {},
     "output_type": "execute_result"
    }
   ],
   "source": [
    "# this is now in the plot data\n",
    "plot_data"
   ]
  },
  {
   "cell_type": "markdown",
   "id": "7264c76b",
   "metadata": {},
   "source": [
    "## Figure 15\n",
    "Total fuel using and emissions of a round trip influenced by engine constructed years. An  M8 ship equipped with the engine constructed in 1970, 1980, 1990, 2000, 2010, 2020 years, respectively, sailing at 3.5 m/s in the waterway with 6 m water depth"
   ]
  },
  {
   "cell_type": "markdown",
   "id": "7f2195e6",
   "metadata": {},
   "source": [
    "The below results of fuel (diesel) using, emissions at different engine ages used for Figure 15 are calculated from the above simulation by changing engine construction years."
   ]
  },
  {
   "cell_type": "code",
   "execution_count": 11,
   "id": "b1795739",
   "metadata": {},
   "outputs": [
    {
     "data": {
      "image/png": "[encoded data removed]",
      "text/plain": [
       "<Figure size 576x792 with 4 Axes>"
      ]
     },
     "metadata": {
      "needs_background": "light"
     },
     "output_type": "display_data"
    }
   ],
   "source": [
    "# use values from the output_plot variable\n",
    "\n",
    "diesel=(plot_data['C_year = 1970, total_fuel_consumption_600km'],\n",
    "        plot_data['C_year = 1980, total_fuel_consumption_600km'],\n",
    "        plot_data['C_year = 1990, total_fuel_consumption_600km'],\n",
    "        plot_data['C_year = 2000, total_fuel_consumption_600km'],\n",
    "        plot_data['C_year = 2010, total_fuel_consumption_600km'],\n",
    "        plot_data['C_year = 2020, total_fuel_consumption_600km'])\n",
    "\n",
    "CO2 =(plot_data['C_year = 1970, total_emission_CO2_600km'],\n",
    "      plot_data['C_year = 1980, total_emission_CO2_600km'],\n",
    "      plot_data['C_year = 1990, total_emission_CO2_600km'],\n",
    "      plot_data['C_year = 2000, total_emission_CO2_600km'],\n",
    "      plot_data['C_year = 2010, total_emission_CO2_600km'],\n",
    "      plot_data['C_year = 2020, total_emission_CO2_600km'] ) \n",
    "\n",
    "PM10 = (plot_data['C_year = 1970, total_emission_PM10_600km'],\n",
    "        plot_data['C_year = 1980, total_emission_PM10_600km'],\n",
    "        plot_data['C_year = 1990, total_emission_PM10_600km'],\n",
    "        plot_data['C_year = 2000, total_emission_PM10_600km'],\n",
    "        plot_data['C_year = 2010, total_emission_PM10_600km'],\n",
    "        plot_data['C_year = 2020, total_emission_PM10_600km'] ) \n",
    "NOx =(plot_data['C_year = 1970, total_emission_NOX_600km'],\n",
    "      plot_data['C_year = 1980, total_emission_NOX_600km'],\n",
    "      plot_data['C_year = 1990, total_emission_NOX_600km'],\n",
    "      plot_data['C_year = 2000, total_emission_NOX_600km'],\n",
    "      plot_data['C_year = 2010, total_emission_NOX_600km'],\n",
    "      plot_data['C_year = 2020, total_emission_NOX_600km']) \n",
    "\n",
    "df1 = pd.DataFrame(diesel, columns=['Fuel consumption (kg)'])\n",
    "df2 = pd.DataFrame(CO2, columns=['CO2 emission (kg)'])\n",
    "df3 = pd.DataFrame(PM10, columns=['PM10 emission (kg)'])\n",
    "df4 = pd.DataFrame(NOx, columns=['NOx emission (kg)'])\n",
    "\n",
    "fig, ((ax1),(ax2),(ax3),(ax4)) = plt.subplots(4,1,figsize=(8, 11),sharex=True, constrained_layout=True)\n",
    "\n",
    "plt.subplot(411)\n",
    "\n",
    "plt.title('M8 vessel: L$_s$ = 110 m, B$_s$ = 11.40 m, T$_s$ = 3.5 m, P$_{installed}$= 1750 kW, payload = 2682 ton;\\n V$_s$= 3.5 m/s, h$_0$ = 6 m                                                                                ',y=1.05)\n",
    "\n",
    "df1.plot(color= '#bf9005',rot=0,kind='bar', ax=ax1)\n",
    "plt.ylabel('Total fuel use (kg)',fontsize=12,fontweight='bold',labelpad=2)\n",
    "plt.xticks([0, 1, 2,3,4,5], ['1970','1980','1990','2000','2010','2020'],rotation=0) \n",
    "plt.yticks( weight = 'bold',fontsize=12)\n",
    "plt.ylim(0, 10000)\n",
    "plt.legend('',frameon=False)\n",
    "plt.text(5.25, 10000*7/8, '(a)', fontsize=12,weight = 'bold')\n",
    "\n",
    "plt.subplot(412)\n",
    "df2.plot( color= 'orange',rot=0,fontsize=12,kind='bar', ax=ax2)\n",
    "plt.ylabel('Total CO2 emission (kg)',fontsize=12,fontweight='bold',labelpad=2)\n",
    "plt.xticks([0, 1, 2,3,4,5], ['1970','1980','1990','2000','2010','2020'],rotation=0) \n",
    "plt.yticks( weight = 'bold',fontsize=12)\n",
    "plt.ylim(0, 30000)\n",
    "plt.legend('',frameon=False)\n",
    "plt.text(5.25, 30000*7/8, '(b)', fontsize=12,weight = 'bold')\n",
    "\n",
    "plt.subplot(413)\n",
    "df3.plot( color= 'mediumseagreen',rot=0,fontsize=12,kind='bar', ax=ax3)\n",
    "plt.ylabel('Total PM10 emission (kg)',fontsize=12,fontweight='bold',labelpad=28)\n",
    "plt.yticks( weight = 'bold',fontsize=12)\n",
    "plt.xticks([0, 1, 2,3,4,5], ['1970','1980','1990','2000','2010','2020'],rotation=0) \n",
    "plt.ylim(0, 16)\n",
    "plt.legend('',frameon=False)\n",
    "plt.text(5.25, 16*7/8, '(c)', fontsize=12,weight = 'bold')\n",
    "\n",
    "plt.subplot(414)\n",
    "df4.plot(color= 'deeppink',rot=0,fontsize=12,kind='bar', ax=ax4)\n",
    "plt.ylabel('Total NOx emission (kg)',fontsize=12,fontweight='bold',labelpad=19)\n",
    "plt.xticks([0, 1, 2,3,4,5], ['1970','1980','1990','2000','2010','2020'],rotation=0, weight = 'bold',fontsize=12)\n",
    "plt.yticks( weight = 'bold',fontsize=12)\n",
    "plt.ylim(0, 400)\n",
    "plt.xlabel(\"Engine construction years\",fontsize=12,fontweight='bold')\n",
    "plt.legend('',frameon=False)\n",
    "plt.text(5.25, 400*7/8, '(d)', fontsize=12,weight = 'bold')\n",
    "\n",
    "plt.savefig('Fig_15.pdf', bbox_inches = 'tight',dpi=600, format='pdf')\n",
    "\n",
    "plt.show()"
   ]
  },
  {
   "cell_type": "code",
   "execution_count": null,
   "id": "e0044412",
   "metadata": {},
   "outputs": [],
   "source": []
  }
 ],
 "metadata": {
  "kernelspec": {
   "display_name": "Python 3 (ipykernel)",
   "language": "python",
   "name": "python3"
  },
  "language_info": {
   "codemirror_mode": {
    "name": "ipython",
    "version": 3
   },
   "file_extension": ".py",
   "mimetype": "text/x-python",
   "name": "python",
   "nbconvert_exporter": "python",
   "pygments_lexer": "ipython3",
   "version": "3.9.10"
  }
 },
 "nbformat": 4,
 "nbformat_minor": 5
}
