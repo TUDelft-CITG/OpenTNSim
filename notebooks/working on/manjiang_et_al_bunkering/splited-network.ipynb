{
 "cells": [
  {
   "cell_type": "code",
   "execution_count": 64,
   "metadata": {},
   "outputs": [],
   "source": [
    "import datetime, time\n",
    "\n",
    "# package(s) related to the simulation\n",
    "import simpy\n",
    "import pandas as pd\n",
    "\n",
    "# spatial libraries\n",
    "import shapely.geometry\n",
    "import pyproj\n",
    "\n",
    "# package(s) for data handling\n",
    "import numpy as np\n",
    "import matplotlib.pyplot as plt\n",
    "\n",
    "# Used for making the graph\n",
    "import networkx as nx\n",
    "\n",
    "# OpenTNSim\n",
    "import opentnsim"
   ]
  },
  {
   "cell_type": "code",
   "execution_count": 65,
   "metadata": {},
   "outputs": [],
   "source": [
    "def distance_over_path(FG, loc1, loc2):\n",
    "    \"\"\"This method determines the distance over a path between two points\n",
    "    (NB: loc1 and loc2 are strings that define the names on the graph)\"\"\"\n",
    "\n",
    "    wgs84 = pyproj.Geod(ellps='WGS84')\n",
    "\n",
    "    # get path from graph\n",
    "    path = nx.dijkstra_path(FG, loc1, loc2)\n",
    "\n",
    "    # intitialise distance over path\n",
    "    distance_over_path = 0\n",
    "\n",
    "    # add the length of each path section to distance_path\n",
    "    for node in enumerate(path[:-1]):\n",
    "        orig = nx.get_node_attributes(FG, \"geometry\")[path[node[0]]]\n",
    "        dest = nx.get_node_attributes(FG, \"geometry\")[path[node[0] + 1]]\n",
    "\n",
    "        distance_over_path += int(wgs84.inv(shapely.geometry.asShape(orig).x, shapely.geometry.asShape(orig).y,\n",
    "                                            shapely.geometry.asShape(dest).x, shapely.geometry.asShape(dest).y)[2])\n",
    "\n",
    "        if node[0] + 2 == len(path):\n",
    "            break\n",
    "\n",
    "    return distance_over_path"
   ]
  },
  {
   "cell_type": "code",
   "execution_count": 66,
   "metadata": {},
   "outputs": [],
   "source": [
    "# We're in engineering cordinates (m)\n",
    "coords = [\n",
    "    [0,0],\n",
    "    [0.8983,0], \n",
    "    [1.7966,0],\n",
    "    [1.7966,1.3566],\n",
    "    [1.7966,2.2609],\n",
    "    [2.7527,0.9560],\n",
    "    [3.3903,1.5931],\n",
    "    [3.1441,0],\n",
    "    [4.0424, 0],\n",
    "    [1.9560,-0.1593],\n",
    "    [3.3904,-1.5931]] \n",
    "\n",
    "\n",
    "# these are the indices of the points above\n",
    "edge_indices = [\n",
    "    [0, 1],\n",
    "    [1, 2],\n",
    "    [2, 3],\n",
    "    [3, 4],\n",
    "    [2, 5],\n",
    "    [5, 6],\n",
    "    [2, 7],\n",
    "    [7, 8],\n",
    "    [2, 9],\n",
    "    [9, 10]   \n",
    "]\n",
    "\n",
    "depths = [12.5, 6, 6, 6, 4.5, 6, 2.5, 6, 2.5, 6] \n",
    "\n",
    "widths = [300, 150, 150, 150, 150, 150, 150, 150, 150, 150]\n",
    "\n",
    "points = [\n",
    "    shapely.geometry.Point(*coord )\n",
    "    for coord \n",
    "    in coords\n",
    "]"
   ]
  },
  {
   "cell_type": "code",
   "execution_count": 67,
   "metadata": {},
   "outputs": [],
   "source": [
    "# define Site class\n",
    "Node = type('Site', (opentnsim.core.Identifiable, opentnsim.core.Locatable), {})"
   ]
  },
  {
   "cell_type": "code",
   "execution_count": 68,
   "metadata": {},
   "outputs": [],
   "source": [
    "FG = nx.DiGraph()\n",
    "\n",
    "nodes = []\n",
    "for index, coord in enumerate(coords):\n",
    "    data_node = {\"name\": \"Node \" + str(index), \"geometry\": shapely.geometry.Point(points[index].x, points[index].y)}\n",
    "    nodes.append(Node(**data_node))\n",
    "\n",
    "for node in nodes:\n",
    "    FG.add_node(node.name, geometry = node.geometry)    \n",
    "    \n",
    "for index, edge in enumerate(edge_indices):\n",
    "    edge_geometry = shapely.geometry.LineString([points[edge[0]], points[edge[1]]])\n",
    "    edge_properties = dict(\n",
    "        GeneralDepth = depths[index],\n",
    "        width = widths[index],\n",
    "        geometry = edge_geometry, \n",
    "        length = round(edge_geometry.length),\n",
    "        e = tuple(edge)\n",
    "    )\n",
    "    FG.add_edge(\"Node \" + str(edge[0]), \"Node \" + str(edge[1]), weight = 1, Info = edge_properties)\n",
    "\n",
    "# toggle to undirected and back to directed to make sure all edges are two way traffic\n",
    "FG = FG.to_undirected() \n",
    "FG = FG.to_directed() "
   ]
  },
  {
   "cell_type": "code",
   "execution_count": 69,
   "metadata": {},
   "outputs": [],
   "source": [
    "positions = {}\n",
    "for node in nodes:\n",
    "    positions[node.name] = (node.geometry.x, node.geometry.y)"
   ]
  },
  {
   "cell_type": "code",
   "execution_count": 70,
   "metadata": {},
   "outputs": [
    {
     "data": {
      "image/png": "[encoded data removed]",
      "text/plain": [
       "<Figure size 432x288 with 1 Axes>"
      ]
     },
     "metadata": {},
     "output_type": "display_data"
    }
   ],
   "source": [
    "# show graph\n",
    "nx.draw(FG, positions)\n",
    "plt.show()"
   ]
  },
  {
   "cell_type": "code",
   "execution_count": 71,
   "metadata": {},
   "outputs": [
    {
     "data": {
      "text/plain": [
       "{'weight': 1,\n",
       " 'Info': {'GeneralDepth': 12.5,\n",
       "  'width': 300,\n",
       "  'geometry': <shapely.geometry.linestring.LineString at 0x1c9bae798b0>,\n",
       "  'length': 1,\n",
       "  'e': (0, 1)}}"
      ]
     },
     "execution_count": 71,
     "metadata": {},
     "output_type": "execute_result"
    }
   ],
   "source": [
    "FG.edges[('Node 0', 'Node 1')]"
   ]
  },
  {
   "cell_type": "code",
   "execution_count": 72,
   "metadata": {},
   "outputs": [
    {
     "name": "stdout",
     "output_type": "stream",
     "text": [
      "Node 0, Node 1: general depth 12.5 m\n",
      "Distance from Node 0 to Node 1 is 99998 m\n",
      "Node 1, Node 0: general depth 12.5 m\n",
      "Distance from Node 1 to Node 0 is 99998 m\n",
      "Node 1, Node 2: general depth 6 m\n",
      "Distance from Node 1 to Node 2 is 99998 m\n",
      "Node 2, Node 1: general depth 6 m\n",
      "Distance from Node 2 to Node 1 is 99998 m\n",
      "Node 2, Node 3: general depth 6 m\n",
      "Distance from Node 2 to Node 3 is 150005 m\n",
      "Node 2, Node 5: general depth 4.5 m\n",
      "Distance from Node 2 to Node 5 is 150004 m\n",
      "Node 2, Node 7: general depth 2.5 m\n",
      "Distance from Node 2 to Node 7 is 150003 m\n",
      "Node 2, Node 9: general depth 2.5 m\n",
      "Distance from Node 2 to Node 9 is 25002 m\n",
      "Node 3, Node 2: general depth 6 m\n",
      "Distance from Node 3 to Node 2 is 150005 m\n",
      "Node 3, Node 4: general depth 6 m\n",
      "Distance from Node 3 to Node 4 is 99993 m\n",
      "Node 4, Node 3: general depth 6 m\n",
      "Distance from Node 4 to Node 3 is 99993 m\n",
      "Node 5, Node 2: general depth 4.5 m\n",
      "Distance from Node 5 to Node 2 is 150004 m\n",
      "Node 5, Node 6: general depth 6 m\n",
      "Distance from Node 5 to Node 6 is 99990 m\n",
      "Node 6, Node 5: general depth 6 m\n",
      "Distance from Node 6 to Node 5 is 99990 m\n",
      "Node 7, Node 2: general depth 2.5 m\n",
      "Distance from Node 7 to Node 2 is 150003 m\n",
      "Node 7, Node 8: general depth 6 m\n",
      "Distance from Node 7 to Node 8 is 99998 m\n",
      "Node 8, Node 7: general depth 6 m\n",
      "Distance from Node 8 to Node 7 is 99998 m\n",
      "Node 9, Node 2: general depth 2.5 m\n",
      "Distance from Node 9 to Node 2 is 25002 m\n",
      "Node 9, Node 10: general depth 6 m\n",
      "Distance from Node 9 to Node 10 is 224999 m\n",
      "Node 10, Node 9: general depth 6 m\n",
      "Distance from Node 10 to Node 9 is 224999 m\n"
     ]
    }
   ],
   "source": [
    "# inspect if properties were set correctly\n",
    "for edge in FG.edges(data = True):\n",
    "    print('{}, {}: general depth {} m'.format(edge[0], edge[1], FG.edges[(edge[0], edge[1])]['Info']['GeneralDepth']))\n",
    "    print('Distance from {} to {} is {} m'.format(edge[0], edge[1],distance_over_path(FG, edge[0], edge[1])))"
   ]
  },
  {
   "cell_type": "code",
   "execution_count": 73,
   "metadata": {},
   "outputs": [
    {
     "name": "stdout",
     "output_type": "stream",
     "text": [
      "Node 0, Node 1: general depth 12.5 m\n",
      "Node 1, Node 0: general depth 12.5 m\n",
      "Node 1, Node 2: general depth 6 m\n",
      "Node 2, Node 1: general depth 6 m\n",
      "Node 2, Node 3: general depth 6 m\n",
      "Node 2, Node 5: general depth 4.5 m\n",
      "Node 2, Node 7: general depth 2.5 m\n",
      "Node 2, Node 9: general depth 2.5 m\n",
      "Node 3, Node 2: general depth 6 m\n",
      "Node 3, Node 4: general depth 6 m\n",
      "Node 4, Node 3: general depth 6 m\n",
      "Node 5, Node 2: general depth 4.5 m\n",
      "Node 5, Node 6: general depth 6 m\n",
      "Node 6, Node 5: general depth 6 m\n",
      "Node 7, Node 2: general depth 2.5 m\n",
      "Node 7, Node 8: general depth 6 m\n",
      "Node 8, Node 7: general depth 6 m\n",
      "Node 9, Node 2: general depth 2.5 m\n",
      "Node 9, Node 10: general depth 6 m\n",
      "Node 10, Node 9: general depth 6 m\n"
     ]
    }
   ],
   "source": [
    "# inspect if properties were set correctly\n",
    "for edge in FG.edges(data = True):\n",
    "    print('{}, {}: general depth {} m'.format(edge[0], edge[1], FG.edges[(edge[0], edge[1])]['Info']['GeneralDepth']))"
   ]
  },
  {
   "cell_type": "code",
   "execution_count": 74,
   "metadata": {},
   "outputs": [
    {
     "data": {
      "text/html": [
       "<div>\n",
       "<style scoped>\n",
       "    .dataframe tbody tr th:only-of-type {\n",
       "        vertical-align: middle;\n",
       "    }\n",
       "\n",
       "    .dataframe tbody tr th {\n",
       "        vertical-align: top;\n",
       "    }\n",
       "\n",
       "    .dataframe thead th {\n",
       "        text-align: right;\n",
       "    }\n",
       "</style>\n",
       "<table border=\"1\" class=\"dataframe\">\n",
       "  <thead>\n",
       "    <tr style=\"text-align: right;\">\n",
       "      <th></th>\n",
       "      <th>rws_type</th>\n",
       "      <th>fuel</th>\n",
       "      <th>H2</th>\n",
       "      <th>Battery</th>\n",
       "      <th>E-LNG</th>\n",
       "      <th>E-Methanol</th>\n",
       "    </tr>\n",
       "  </thead>\n",
       "  <tbody>\n",
       "    <tr>\n",
       "      <th>0</th>\n",
       "      <td>M8</td>\n",
       "      <td>3000</td>\n",
       "      <td>999000</td>\n",
       "      <td>3300</td>\n",
       "      <td>432000</td>\n",
       "      <td>165900</td>\n",
       "    </tr>\n",
       "  </tbody>\n",
       "</table>\n",
       "</div>"
      ],
      "text/plain": [
       "  rws_type  fuel      H2  Battery   E-LNG  E-Methanol\n",
       "0       M8  3000  999000     3300  432000      165900"
      ]
     },
     "execution_count": 74,
     "metadata": {},
     "output_type": "execute_result"
    }
   ],
   "source": [
    "row = {\n",
    "    \"rws_type\": \"M8\",\n",
    "    \"fuel\": 3000,\n",
    "    \"H2\": 999000,\n",
    "    \"Battery\": 3300,\n",
    "    \"E-LNG\": 432000,\n",
    "    \"E-Methanol\": 165900\n",
    "}\n",
    "rows = [row]\n",
    "ships = pd.DataFrame(rows)\n",
    "ships"
   ]
  },
  {
   "cell_type": "code",
   "execution_count": 75,
   "metadata": {},
   "outputs": [],
   "source": [
    "def split_edge(edge, distance):\n",
    "    \"\"\"compute points (list of shapely points) and edges ({e: linestring}) that we can use to replace an edge by points in between\"\"\"\n",
    "    distances = np.arange(0, edge['geometry'].length + distance, distance)\n",
    "    \n",
    "    # The determine the points based on the distances\n",
    "    points = [\n",
    "        edge['geometry'].interpolate(distance) \n",
    "        for distance \n",
    "        in distances\n",
    "    ]\n",
    "    \n",
    "    return points\n",
    "\n",
    "def split_and_replace_edge(FG, e_replace, edge_info, distance):\n",
    "    \"\"\"remove edge from the network and replace it by points in between\"\"\"\n",
    "    \n",
    "    # determine the points that we want to intersect\n",
    "    intersection_points = split_edge(edge_info, distance=distance)\n",
    "    \n",
    "    # Try and remove the previous edges, if it fails, that's ok\n",
    "    try:\n",
    "        FG.remove_edge(e_replace[0], e_replace[1])\n",
    "    except nx.NetworkXError:\n",
    "        pass\n",
    "    \n",
    "    # also remove the oposite edge direction\n",
    "    try:\n",
    "        FG.remove_edge(e_replace[1], e_replace[0])\n",
    "    except nx.NetworkXError:\n",
    "        pass\n",
    "\n",
    "    # define Site class\n",
    "    Node = type('Site', (opentnsim.core.Identifiable, opentnsim.core.Locatable), {})\n",
    "    \n",
    "    # start at the start of our replaced edge\n",
    "    nodes = []\n",
    "\n",
    "    node_id = f'{e_replace[0]}'\n",
    "    node_properties = dict(\n",
    "        name=node_id,\n",
    "        geometry=shapely.geometry.Point((edge_info['geometry'].xy[0][0], edge_info['geometry'].xy[1][0]))\n",
    "    )\n",
    "    nodes.append(node_properties)\n",
    "\n",
    "    # all the points in between\n",
    "    for node_i, point in enumerate(intersection_points[1:-1]):\n",
    "        node_id = f'{e_replace[0]}-{node_i}-{e_replace[1]}'\n",
    "        node_properties = dict(\n",
    "            name=node_id,\n",
    "            geometry=point,\n",
    "        )\n",
    "        nodes.append(node_properties)\n",
    "    \n",
    "    # end at the end of our edge\n",
    "    node_id = f'{e_replace[1]}'\n",
    "    node_properties = dict(\n",
    "        name=node_id,\n",
    "        geometry=shapely.geometry.Point((edge_info['geometry'].xy[0][1], edge_info['geometry'].xy[1][1]))\n",
    "    )\n",
    "    nodes.append(node_properties)\n",
    "\n",
    "    # add the nodes in between\n",
    "    for node in nodes:\n",
    "        FG.add_node(node['name'], geometry = node['geometry'])    \n",
    "        \n",
    "    # now loop over all the node pairs in between our edge\n",
    "    edges = []\n",
    "    for index, node in enumerate(nodes[:-1]):\n",
    "        e = (nodes[index]['name'], nodes[index+1]['name'])\n",
    "\n",
    "        # create a new geometry\n",
    "        edge_geometry = shapely.geometry.LineString([\n",
    "            nodes[index]['geometry'], \n",
    "            nodes[index+1]['geometry']\n",
    "        ])\n",
    "        # we might want to copy the old properties\n",
    "        # for now this is hard coded\n",
    "        # at least replace e, edge_geometry\n",
    "        edge_properties = dict(\n",
    "            GeneralDepth= edge_info['GeneralDepth'], \n",
    "            width= edge_info['width'], \n",
    "            geometry=edge_geometry, \n",
    "            length=edge_geometry.length,\n",
    "            e=tuple(e)\n",
    "        )\n",
    "        edges.append(edge_properties)\n",
    "\n",
    "    # now that we have all our edges computed\n",
    "    for edge in edges:\n",
    "        # insert them in two directions\n",
    "        e = edge['e']\n",
    "        FG.add_edge(e[0], e[1], weight = 1, Info = edge_properties)\n",
    "        FG.add_edge(e[1], e[0], weight = 1, Info = edge_properties)\n",
    "\n",
    "    \n",
    "    return FG, nodes, edges"
   ]
  },
  {
   "cell_type": "code",
   "execution_count": 76,
   "metadata": {},
   "outputs": [
    {
     "name": "stdout",
     "output_type": "stream",
     "text": [
      "('Node 0', 'Node 1')\n",
      "('Node 1', 'Node 2')\n",
      "('Node 2', 'Node 3')\n",
      "('Node 3', 'Node 4')\n",
      "('Node 2', 'Node 5')\n",
      "('Node 5', 'Node 6')\n",
      "('Node 2', 'Node 7')\n",
      "('Node 7', 'Node 8')\n",
      "('Node 2', 'Node 9')\n",
      "('Node 9', 'Node 10')\n"
     ]
    }
   ],
   "source": [
    "distance = 10000\n",
    "edge_name = (\"Node \" + str(edge_indices[0][0]), \"Node \" + str(edge_indices[0][1]))\n",
    "print(edge_name)\n",
    "edge_info = FG.edges[edge_name]['Info']\n",
    "FG, nodes, split_edge_0 = split_and_replace_edge(FG, edge_name, edge_info, distance=distance)\n",
    "\n",
    "edge_name = (\"Node \" + str(edge_indices[1][0]), \"Node \" + str(edge_indices[1][1]))\n",
    "print(edge_name)\n",
    "edge_info = FG.edges[edge_name]['Info']\n",
    "FG, nodes, split_edge_1 = split_and_replace_edge(FG, edge_name, edge_info, distance=distance)\n",
    "\n",
    "edge_name = (\"Node \" + str(edge_indices[2][0]), \"Node \" + str(edge_indices[2][1]))\n",
    "print(edge_name)\n",
    "edge_info = FG.edges[edge_name]['Info']\n",
    "FG, nodes, split_edge_2 = split_and_replace_edge(FG, edge_name, edge_info, distance=distance)\n",
    "\n",
    "edge_name = (\"Node \" + str(edge_indices[3][0]), \"Node \" + str(edge_indices[3][1]))\n",
    "print(edge_name)\n",
    "edge_info = FG.edges[edge_name]['Info']\n",
    "FG, nodes, split_edge_3 = split_and_replace_edge(FG, edge_name, edge_info, distance=distance)\n",
    "\n",
    "edge_name = (\"Node \" + str(edge_indices[4][0]), \"Node \" + str(edge_indices[4][1]))\n",
    "print(edge_name)\n",
    "edge_info = FG.edges[edge_name]['Info']\n",
    "FG, nodes, split_edge_4 = split_and_replace_edge(FG, edge_name, edge_info, distance=distance)\n",
    "\n",
    "edge_name = (\"Node \" + str(edge_indices[5][0]), \"Node \" + str(edge_indices[5][1]))\n",
    "print(edge_name)\n",
    "edge_info = FG.edges[edge_name]['Info']\n",
    "FG, nodes, split_edge_5 = split_and_replace_edge(FG, edge_name, edge_info, distance=distance)\n",
    "\n",
    "edge_name = (\"Node \" + str(edge_indices[6][0]), \"Node \" + str(edge_indices[6][1]))\n",
    "print(edge_name)\n",
    "edge_info = FG.edges[edge_name]['Info']\n",
    "FG, nodes, split_edge_6 = split_and_replace_edge(FG, edge_name, edge_info, distance=distance)\n",
    "\n",
    "edge_name = (\"Node \" + str(edge_indices[7][0]), \"Node \" + str(edge_indices[7][1]))\n",
    "print(edge_name)\n",
    "edge_info = FG.edges[edge_name]['Info']\n",
    "FG, nodes, split_edge_7 = split_and_replace_edge(FG, edge_name, edge_info, distance=distance)\n",
    "\n",
    "edge_name = (\"Node \" + str(edge_indices[8][0]), \"Node \" + str(edge_indices[8][1]))\n",
    "print(edge_name)\n",
    "edge_info = FG.edges[edge_name]['Info']\n",
    "FG, nodes, split_edge_8 = split_and_replace_edge(FG, edge_name, edge_info, distance=distance)\n",
    "\n",
    "edge_name = (\"Node \" + str(edge_indices[9][0]), \"Node \" + str(edge_indices[9][1]))\n",
    "print(edge_name)\n",
    "edge_info = FG.edges[edge_name]['Info']\n",
    "FG, nodes, split_edge_9 = split_and_replace_edge(FG, edge_name, edge_info, distance=distance)"
   ]
  },
  {
   "cell_type": "code",
   "execution_count": 77,
   "metadata": {},
   "outputs": [],
   "source": [
    "positions = {}\n",
    "for node in FG.nodes:\n",
    "    positions[node] = (FG.nodes[node]['geometry'].x, FG.nodes[node]['geometry'].y)   "
   ]
  },
  {
   "cell_type": "code",
   "execution_count": 78,
   "metadata": {},
   "outputs": [
    {
     "data": {
      "image/png": "[encoded data removed]",
      "text/plain": [
       "<Figure size 432x288 with 1 Axes>"
      ]
     },
     "metadata": {},
     "output_type": "display_data"
    }
   ],
   "source": [
    "# show graph\n",
    "nx.draw(FG, positions)\n",
    "plt.show()"
   ]
  },
  {
   "cell_type": "code",
   "execution_count": 79,
   "metadata": {},
   "outputs": [
    {
     "name": "stdout",
     "output_type": "stream",
     "text": [
      "('Node 0', 'Node 1')\n",
      "0.8983\n",
      "('Node 1', 'Node 0')\n",
      "0.8983\n",
      "('Node 1', 'Node 2')\n",
      "0.8983\n",
      "('Node 2', 'Node 1')\n",
      "0.8983\n",
      "('Node 2', 'Node 3')\n",
      "1.3566\n",
      "('Node 2', 'Node 5')\n",
      "1.3520588781558294\n",
      "('Node 2', 'Node 7')\n",
      "1.3475\n",
      "('Node 2', 'Node 9')\n",
      "0.22535494225776365\n",
      "('Node 3', 'Node 2')\n",
      "1.3566\n",
      "('Node 3', 'Node 4')\n",
      "0.9042999999999999\n",
      "('Node 4', 'Node 3')\n",
      "0.9042999999999999\n",
      "('Node 5', 'Node 2')\n",
      "1.3520588781558294\n",
      "('Node 5', 'Node 6')\n",
      "0.901349083318999\n",
      "('Node 6', 'Node 5')\n",
      "0.901349083318999\n",
      "('Node 7', 'Node 2')\n",
      "1.3475\n",
      "('Node 7', 'Node 8')\n",
      "0.8982999999999999\n",
      "('Node 8', 'Node 7')\n",
      "0.8982999999999999\n",
      "('Node 9', 'Node 2')\n",
      "0.22535494225776365\n",
      "('Node 9', 'Node 10')\n",
      "2.0281237141752473\n",
      "('Node 10', 'Node 9')\n",
      "2.0281237141752473\n"
     ]
    }
   ],
   "source": [
    "for edge in FG.edges:\n",
    "    print(edge)\n",
    "    print(FG.edges[edge]['Info']['length'])"
   ]
  },
  {
   "cell_type": "markdown",
   "metadata": {},
   "source": [
    "Weird distances: \n",
    "* from 2 - 9  --> 5000.46\n",
    "* from 9 - 10 --> 4999.96\n",
    "* from 5 - 6  --> 0.4552"
   ]
  },
  {
   "cell_type": "code",
   "execution_count": 80,
   "metadata": {},
   "outputs": [
    {
     "data": {
      "text/html": [
       "<div>\n",
       "<style scoped>\n",
       "    .dataframe tbody tr th:only-of-type {\n",
       "        vertical-align: middle;\n",
       "    }\n",
       "\n",
       "    .dataframe tbody tr th {\n",
       "        vertical-align: top;\n",
       "    }\n",
       "\n",
       "    .dataframe thead th {\n",
       "        text-align: right;\n",
       "    }\n",
       "</style>\n",
       "<table border=\"1\" class=\"dataframe\">\n",
       "  <thead>\n",
       "    <tr style=\"text-align: right;\">\n",
       "      <th></th>\n",
       "      <th>GeneralDepth</th>\n",
       "      <th>width</th>\n",
       "      <th>geometry</th>\n",
       "      <th>length</th>\n",
       "      <th>e</th>\n",
       "    </tr>\n",
       "  </thead>\n",
       "  <tbody>\n",
       "    <tr>\n",
       "      <th>0</th>\n",
       "      <td>12.5</td>\n",
       "      <td>300</td>\n",
       "      <td>LINESTRING (0 0, 0.8983 0)</td>\n",
       "      <td>0.8983</td>\n",
       "      <td>(Node 0, Node 1)</td>\n",
       "    </tr>\n",
       "  </tbody>\n",
       "</table>\n",
       "</div>"
      ],
      "text/plain": [
       "   GeneralDepth  width                    geometry  length                 e\n",
       "0          12.5    300  LINESTRING (0 0, 0.8983 0)  0.8983  (Node 0, Node 1)"
      ]
     },
     "execution_count": 80,
     "metadata": {},
     "output_type": "execute_result"
    }
   ],
   "source": [
    "df_split_edge_0 = pd.DataFrame(split_edge_0)\n",
    "df_split_edge_0.head(3)"
   ]
  },
  {
   "cell_type": "code",
   "execution_count": 81,
   "metadata": {},
   "outputs": [
    {
     "data": {
      "text/html": [
       "<div>\n",
       "<style scoped>\n",
       "    .dataframe tbody tr th:only-of-type {\n",
       "        vertical-align: middle;\n",
       "    }\n",
       "\n",
       "    .dataframe tbody tr th {\n",
       "        vertical-align: top;\n",
       "    }\n",
       "\n",
       "    .dataframe thead th {\n",
       "        text-align: right;\n",
       "    }\n",
       "</style>\n",
       "<table border=\"1\" class=\"dataframe\">\n",
       "  <thead>\n",
       "    <tr style=\"text-align: right;\">\n",
       "      <th></th>\n",
       "      <th>GeneralDepth</th>\n",
       "      <th>width</th>\n",
       "      <th>geometry</th>\n",
       "      <th>length</th>\n",
       "      <th>e</th>\n",
       "    </tr>\n",
       "  </thead>\n",
       "  <tbody>\n",
       "    <tr>\n",
       "      <th>0</th>\n",
       "      <td>6</td>\n",
       "      <td>150</td>\n",
       "      <td>LINESTRING (0.8983 0, 1.7966 0)</td>\n",
       "      <td>0.8983</td>\n",
       "      <td>(Node 1, Node 2)</td>\n",
       "    </tr>\n",
       "  </tbody>\n",
       "</table>\n",
       "</div>"
      ],
      "text/plain": [
       "   GeneralDepth  width                         geometry  length  \\\n",
       "0             6    150  LINESTRING (0.8983 0, 1.7966 0)  0.8983   \n",
       "\n",
       "                  e  \n",
       "0  (Node 1, Node 2)  "
      ]
     },
     "execution_count": 81,
     "metadata": {},
     "output_type": "execute_result"
    }
   ],
   "source": [
    "df_split_edge_1 = pd.DataFrame(split_edge_1)\n",
    "df_split_edge_1.head(3)"
   ]
  },
  {
   "cell_type": "code",
   "execution_count": 82,
   "metadata": {},
   "outputs": [
    {
     "data": {
      "text/html": [
       "<div>\n",
       "<style scoped>\n",
       "    .dataframe tbody tr th:only-of-type {\n",
       "        vertical-align: middle;\n",
       "    }\n",
       "\n",
       "    .dataframe tbody tr th {\n",
       "        vertical-align: top;\n",
       "    }\n",
       "\n",
       "    .dataframe thead th {\n",
       "        text-align: right;\n",
       "    }\n",
       "</style>\n",
       "<table border=\"1\" class=\"dataframe\">\n",
       "  <thead>\n",
       "    <tr style=\"text-align: right;\">\n",
       "      <th></th>\n",
       "      <th>GeneralDepth</th>\n",
       "      <th>width</th>\n",
       "      <th>geometry</th>\n",
       "      <th>length</th>\n",
       "      <th>e</th>\n",
       "    </tr>\n",
       "  </thead>\n",
       "  <tbody>\n",
       "    <tr>\n",
       "      <th>0</th>\n",
       "      <td>6</td>\n",
       "      <td>150</td>\n",
       "      <td>LINESTRING (1.7966 0, 1.7966 1.3566)</td>\n",
       "      <td>1.3566</td>\n",
       "      <td>(Node 2, Node 3)</td>\n",
       "    </tr>\n",
       "  </tbody>\n",
       "</table>\n",
       "</div>"
      ],
      "text/plain": [
       "   GeneralDepth  width                              geometry  length  \\\n",
       "0             6    150  LINESTRING (1.7966 0, 1.7966 1.3566)  1.3566   \n",
       "\n",
       "                  e  \n",
       "0  (Node 2, Node 3)  "
      ]
     },
     "execution_count": 82,
     "metadata": {},
     "output_type": "execute_result"
    }
   ],
   "source": [
    "df_split_edge_2 = pd.DataFrame(split_edge_2)\n",
    "df_split_edge_2.head(3)"
   ]
  },
  {
   "cell_type": "code",
   "execution_count": 83,
   "metadata": {},
   "outputs": [
    {
     "data": {
      "text/html": [
       "<div>\n",
       "<style scoped>\n",
       "    .dataframe tbody tr th:only-of-type {\n",
       "        vertical-align: middle;\n",
       "    }\n",
       "\n",
       "    .dataframe tbody tr th {\n",
       "        vertical-align: top;\n",
       "    }\n",
       "\n",
       "    .dataframe thead th {\n",
       "        text-align: right;\n",
       "    }\n",
       "</style>\n",
       "<table border=\"1\" class=\"dataframe\">\n",
       "  <thead>\n",
       "    <tr style=\"text-align: right;\">\n",
       "      <th></th>\n",
       "      <th>GeneralDepth</th>\n",
       "      <th>width</th>\n",
       "      <th>geometry</th>\n",
       "      <th>length</th>\n",
       "      <th>e</th>\n",
       "    </tr>\n",
       "  </thead>\n",
       "  <tbody>\n",
       "    <tr>\n",
       "      <th>0</th>\n",
       "      <td>6</td>\n",
       "      <td>150</td>\n",
       "      <td>LINESTRING (1.7966 1.3566, 1.7966 2.2609)</td>\n",
       "      <td>0.9043</td>\n",
       "      <td>(Node 3, Node 4)</td>\n",
       "    </tr>\n",
       "  </tbody>\n",
       "</table>\n",
       "</div>"
      ],
      "text/plain": [
       "   GeneralDepth  width                                   geometry  length  \\\n",
       "0             6    150  LINESTRING (1.7966 1.3566, 1.7966 2.2609)  0.9043   \n",
       "\n",
       "                  e  \n",
       "0  (Node 3, Node 4)  "
      ]
     },
     "execution_count": 83,
     "metadata": {},
     "output_type": "execute_result"
    }
   ],
   "source": [
    "df_split_edge_3 = pd.DataFrame(split_edge_3)\n",
    "df_split_edge_3.head(3)"
   ]
  },
  {
   "cell_type": "code",
   "execution_count": 84,
   "metadata": {},
   "outputs": [
    {
     "data": {
      "text/html": [
       "<div>\n",
       "<style scoped>\n",
       "    .dataframe tbody tr th:only-of-type {\n",
       "        vertical-align: middle;\n",
       "    }\n",
       "\n",
       "    .dataframe tbody tr th {\n",
       "        vertical-align: top;\n",
       "    }\n",
       "\n",
       "    .dataframe thead th {\n",
       "        text-align: right;\n",
       "    }\n",
       "</style>\n",
       "<table border=\"1\" class=\"dataframe\">\n",
       "  <thead>\n",
       "    <tr style=\"text-align: right;\">\n",
       "      <th></th>\n",
       "      <th>GeneralDepth</th>\n",
       "      <th>width</th>\n",
       "      <th>geometry</th>\n",
       "      <th>length</th>\n",
       "      <th>e</th>\n",
       "    </tr>\n",
       "  </thead>\n",
       "  <tbody>\n",
       "    <tr>\n",
       "      <th>0</th>\n",
       "      <td>4.5</td>\n",
       "      <td>150</td>\n",
       "      <td>LINESTRING (1.7966 0, 2.7527 0.956)</td>\n",
       "      <td>1.352059</td>\n",
       "      <td>(Node 2, Node 5)</td>\n",
       "    </tr>\n",
       "  </tbody>\n",
       "</table>\n",
       "</div>"
      ],
      "text/plain": [
       "   GeneralDepth  width                             geometry    length  \\\n",
       "0           4.5    150  LINESTRING (1.7966 0, 2.7527 0.956)  1.352059   \n",
       "\n",
       "                  e  \n",
       "0  (Node 2, Node 5)  "
      ]
     },
     "execution_count": 84,
     "metadata": {},
     "output_type": "execute_result"
    }
   ],
   "source": [
    "df_split_edge_4 = pd.DataFrame(split_edge_4)\n",
    "df_split_edge_4.head(3)"
   ]
  },
  {
   "cell_type": "code",
   "execution_count": 85,
   "metadata": {},
   "outputs": [
    {
     "data": {
      "text/html": [
       "<div>\n",
       "<style scoped>\n",
       "    .dataframe tbody tr th:only-of-type {\n",
       "        vertical-align: middle;\n",
       "    }\n",
       "\n",
       "    .dataframe tbody tr th {\n",
       "        vertical-align: top;\n",
       "    }\n",
       "\n",
       "    .dataframe thead th {\n",
       "        text-align: right;\n",
       "    }\n",
       "</style>\n",
       "<table border=\"1\" class=\"dataframe\">\n",
       "  <thead>\n",
       "    <tr style=\"text-align: right;\">\n",
       "      <th></th>\n",
       "      <th>GeneralDepth</th>\n",
       "      <th>width</th>\n",
       "      <th>geometry</th>\n",
       "      <th>length</th>\n",
       "      <th>e</th>\n",
       "    </tr>\n",
       "  </thead>\n",
       "  <tbody>\n",
       "    <tr>\n",
       "      <th>0</th>\n",
       "      <td>6</td>\n",
       "      <td>150</td>\n",
       "      <td>LINESTRING (2.7527 0.956, 3.3903 1.5931)</td>\n",
       "      <td>0.901349</td>\n",
       "      <td>(Node 5, Node 6)</td>\n",
       "    </tr>\n",
       "  </tbody>\n",
       "</table>\n",
       "</div>"
      ],
      "text/plain": [
       "   GeneralDepth  width                                  geometry    length  \\\n",
       "0             6    150  LINESTRING (2.7527 0.956, 3.3903 1.5931)  0.901349   \n",
       "\n",
       "                  e  \n",
       "0  (Node 5, Node 6)  "
      ]
     },
     "execution_count": 85,
     "metadata": {},
     "output_type": "execute_result"
    }
   ],
   "source": [
    "df_split_edge_5 = pd.DataFrame(split_edge_5)\n",
    "df_split_edge_5.head(3)"
   ]
  },
  {
   "cell_type": "code",
   "execution_count": 86,
   "metadata": {},
   "outputs": [
    {
     "data": {
      "text/html": [
       "<div>\n",
       "<style scoped>\n",
       "    .dataframe tbody tr th:only-of-type {\n",
       "        vertical-align: middle;\n",
       "    }\n",
       "\n",
       "    .dataframe tbody tr th {\n",
       "        vertical-align: top;\n",
       "    }\n",
       "\n",
       "    .dataframe thead th {\n",
       "        text-align: right;\n",
       "    }\n",
       "</style>\n",
       "<table border=\"1\" class=\"dataframe\">\n",
       "  <thead>\n",
       "    <tr style=\"text-align: right;\">\n",
       "      <th></th>\n",
       "      <th>GeneralDepth</th>\n",
       "      <th>width</th>\n",
       "      <th>geometry</th>\n",
       "      <th>length</th>\n",
       "      <th>e</th>\n",
       "    </tr>\n",
       "  </thead>\n",
       "  <tbody>\n",
       "    <tr>\n",
       "      <th>0</th>\n",
       "      <td>2.5</td>\n",
       "      <td>150</td>\n",
       "      <td>LINESTRING (1.7966 0, 3.1441 0)</td>\n",
       "      <td>1.3475</td>\n",
       "      <td>(Node 2, Node 7)</td>\n",
       "    </tr>\n",
       "  </tbody>\n",
       "</table>\n",
       "</div>"
      ],
      "text/plain": [
       "   GeneralDepth  width                         geometry  length  \\\n",
       "0           2.5    150  LINESTRING (1.7966 0, 3.1441 0)  1.3475   \n",
       "\n",
       "                  e  \n",
       "0  (Node 2, Node 7)  "
      ]
     },
     "execution_count": 86,
     "metadata": {},
     "output_type": "execute_result"
    }
   ],
   "source": [
    "df_split_edge_6 = pd.DataFrame(split_edge_6)\n",
    "df_split_edge_6.head(3)"
   ]
  },
  {
   "cell_type": "code",
   "execution_count": 87,
   "metadata": {},
   "outputs": [
    {
     "data": {
      "text/html": [
       "<div>\n",
       "<style scoped>\n",
       "    .dataframe tbody tr th:only-of-type {\n",
       "        vertical-align: middle;\n",
       "    }\n",
       "\n",
       "    .dataframe tbody tr th {\n",
       "        vertical-align: top;\n",
       "    }\n",
       "\n",
       "    .dataframe thead th {\n",
       "        text-align: right;\n",
       "    }\n",
       "</style>\n",
       "<table border=\"1\" class=\"dataframe\">\n",
       "  <thead>\n",
       "    <tr style=\"text-align: right;\">\n",
       "      <th></th>\n",
       "      <th>GeneralDepth</th>\n",
       "      <th>width</th>\n",
       "      <th>geometry</th>\n",
       "      <th>length</th>\n",
       "      <th>e</th>\n",
       "    </tr>\n",
       "  </thead>\n",
       "  <tbody>\n",
       "    <tr>\n",
       "      <th>0</th>\n",
       "      <td>6</td>\n",
       "      <td>150</td>\n",
       "      <td>LINESTRING (3.1441 0, 4.0424 0)</td>\n",
       "      <td>0.8983</td>\n",
       "      <td>(Node 7, Node 8)</td>\n",
       "    </tr>\n",
       "  </tbody>\n",
       "</table>\n",
       "</div>"
      ],
      "text/plain": [
       "   GeneralDepth  width                         geometry  length  \\\n",
       "0             6    150  LINESTRING (3.1441 0, 4.0424 0)  0.8983   \n",
       "\n",
       "                  e  \n",
       "0  (Node 7, Node 8)  "
      ]
     },
     "execution_count": 87,
     "metadata": {},
     "output_type": "execute_result"
    }
   ],
   "source": [
    "df_split_edge_7 = pd.DataFrame(split_edge_7)\n",
    "df_split_edge_7.head(3)"
   ]
  },
  {
   "cell_type": "code",
   "execution_count": 88,
   "metadata": {},
   "outputs": [
    {
     "data": {
      "text/html": [
       "<div>\n",
       "<style scoped>\n",
       "    .dataframe tbody tr th:only-of-type {\n",
       "        vertical-align: middle;\n",
       "    }\n",
       "\n",
       "    .dataframe tbody tr th {\n",
       "        vertical-align: top;\n",
       "    }\n",
       "\n",
       "    .dataframe thead th {\n",
       "        text-align: right;\n",
       "    }\n",
       "</style>\n",
       "<table border=\"1\" class=\"dataframe\">\n",
       "  <thead>\n",
       "    <tr style=\"text-align: right;\">\n",
       "      <th></th>\n",
       "      <th>GeneralDepth</th>\n",
       "      <th>width</th>\n",
       "      <th>geometry</th>\n",
       "      <th>length</th>\n",
       "      <th>e</th>\n",
       "    </tr>\n",
       "  </thead>\n",
       "  <tbody>\n",
       "    <tr>\n",
       "      <th>0</th>\n",
       "      <td>2.5</td>\n",
       "      <td>150</td>\n",
       "      <td>LINESTRING (1.7966 0, 1.956 -0.1593)</td>\n",
       "      <td>0.225355</td>\n",
       "      <td>(Node 2, Node 9)</td>\n",
       "    </tr>\n",
       "  </tbody>\n",
       "</table>\n",
       "</div>"
      ],
      "text/plain": [
       "   GeneralDepth  width                              geometry    length  \\\n",
       "0           2.5    150  LINESTRING (1.7966 0, 1.956 -0.1593)  0.225355   \n",
       "\n",
       "                  e  \n",
       "0  (Node 2, Node 9)  "
      ]
     },
     "execution_count": 88,
     "metadata": {},
     "output_type": "execute_result"
    }
   ],
   "source": [
    "df_split_edge_8 = pd.DataFrame(split_edge_8)\n",
    "df_split_edge_8.head(3)"
   ]
  },
  {
   "cell_type": "code",
   "execution_count": 89,
   "metadata": {},
   "outputs": [
    {
     "data": {
      "text/html": [
       "<div>\n",
       "<style scoped>\n",
       "    .dataframe tbody tr th:only-of-type {\n",
       "        vertical-align: middle;\n",
       "    }\n",
       "\n",
       "    .dataframe tbody tr th {\n",
       "        vertical-align: top;\n",
       "    }\n",
       "\n",
       "    .dataframe thead th {\n",
       "        text-align: right;\n",
       "    }\n",
       "</style>\n",
       "<table border=\"1\" class=\"dataframe\">\n",
       "  <thead>\n",
       "    <tr style=\"text-align: right;\">\n",
       "      <th></th>\n",
       "      <th>GeneralDepth</th>\n",
       "      <th>width</th>\n",
       "      <th>geometry</th>\n",
       "      <th>length</th>\n",
       "      <th>e</th>\n",
       "    </tr>\n",
       "  </thead>\n",
       "  <tbody>\n",
       "    <tr>\n",
       "      <th>0</th>\n",
       "      <td>6</td>\n",
       "      <td>150</td>\n",
       "      <td>LINESTRING (1.956 -0.1593, 3.3904 -1.5931)</td>\n",
       "      <td>2.028124</td>\n",
       "      <td>(Node 9, Node 10)</td>\n",
       "    </tr>\n",
       "  </tbody>\n",
       "</table>\n",
       "</div>"
      ],
      "text/plain": [
       "   GeneralDepth  width                                    geometry    length  \\\n",
       "0             6    150  LINESTRING (1.956 -0.1593, 3.3904 -1.5931)  2.028124   \n",
       "\n",
       "                   e  \n",
       "0  (Node 9, Node 10)  "
      ]
     },
     "execution_count": 89,
     "metadata": {},
     "output_type": "execute_result"
    }
   ],
   "source": [
    "df_split_edge_9 = pd.DataFrame(split_edge_9)\n",
    "df_split_edge_9.head(3)"
   ]
  },
  {
   "cell_type": "markdown",
   "metadata": {},
   "source": [
    "### Create vessels - add VesselProperties and ConsumesEnergy mixins"
   ]
  },
  {
   "cell_type": "code",
   "execution_count": 90,
   "metadata": {},
   "outputs": [],
   "source": [
    "# Make your preferred class out of available mix-ins.\n",
    "TransportResource = type(\n",
    "    \"Vessel\",\n",
    "    (\n",
    "        opentnsim.core.Identifiable,\n",
    "        opentnsim.core.Movable,\n",
    "        opentnsim.core.Routeable,\n",
    "        opentnsim.core.VesselProperties,  # needed to add vessel properties\n",
    "        opentnsim.core.ConsumesEnergy,\n",
    "        opentnsim.core.ExtraMetadata,\n",
    "    ),\n",
    "    {},\n",
    ")  # needed to calculate resistances"
   ]
  },
  {
   "cell_type": "code",
   "execution_count": 91,
   "metadata": {},
   "outputs": [],
   "source": [
    "# Create a dict with all important settings\n",
    "# NB: set both \"v\" and \"P_tot_given\" to None, as they will be set later\n",
    "# Note that we set \"h_squat\" as \"True\". \n",
    "# The squat effect makes a great difference for the actual water depth and resistance calculation in shallow water. \n",
    "# Here we need to calculate the water depth reduced by squat since what we give the ship is a route with undisturbed water depth h_0.\n",
    "\n",
    "data_vessel = {\"env\": None,\n",
    "               \"name\": None,\n",
    "               \"route\": None,\n",
    "               \"geometry\": None,\n",
    "               \"v\": 3.5,  # m/s\n",
    "               \"type\":None,\n",
    "               \"B\": 11.4,\n",
    "               \"L\": 110,\n",
    "               \"H_e\": None, \n",
    "               \"H_f\": None, \n",
    "               \"T\": None,\n",
    "               \"safety_margin\": 0.2, # for tanker vessel with sandy bed the safety margin is recommended as 0.2 m\n",
    "               \"h_squat\": True, # if consider the ship squat while moving, set to True, otherwise set to False. \n",
    "               \"P_installed\": 1750.0,\n",
    "               \"P_tot_given\": None, # kW\n",
    "               \"bulbous_bow\": False, # if a vessel has no bulbous_bow, set to False; otherwise set to True.\n",
    "               \"P_hotel_perc\": 0.05,\n",
    "               \"P_hotel\": None, # None: calculate P_hotel from percentage\n",
    "               \"x\": 2 ,\n",
    "               \"L_w\": 3.0 ,\n",
    "               \"C_B\":0.85, \n",
    "               \"C_year\":1990,\n",
    "              }             \n",
    "\n",
    "vessel = TransportResource(**data_vessel)"
   ]
  },
  {
   "cell_type": "markdown",
   "metadata": {},
   "source": [
    "### Run simulation"
   ]
  },
  {
   "cell_type": "code",
   "execution_count": 92,
   "metadata": {},
   "outputs": [],
   "source": [
    "def run_simulation(FG, V_s, T, path):\n",
    "    \n",
    "    # Start simpy environment\n",
    "    simulation_start = datetime.datetime.now()\n",
    "    env = simpy.Environment(initial_time = time.mktime(simulation_start.timetuple()))\n",
    "    env.epoch = time.mktime(simulation_start.timetuple())\n",
    "\n",
    "    # Add graph to environment\n",
    "    env.FG = FG\n",
    "\n",
    "    # Add environment and path to the vessel\n",
    "    # create a fresh instance of vessel\n",
    "    vessel = TransportResource(**data_vessel)\n",
    "    vessel.env = env                                        #the created environment\n",
    "    vessel.name = 'Vessel No.1'                     \n",
    "    vessel.route = path                                     #the route (the sequence of nodes, as stored as the second column in the path)\n",
    "    vessel.geometry = env.FG.nodes[path[0]]['geometry']     #a shapely.geometry.Point(lon,lat) (here taken as the starting node of the vessel)\n",
    "    vessel.v = V_s\n",
    "    vessel._T = T\n",
    "    # vessel.P_tot_given = P_tot_given    \n",
    "\n",
    "    # Start the simulation\n",
    "    env.process(vessel.move())\n",
    "    env.run()\n",
    "    print (vessel._T)\n",
    "    return vessel"
   ]
  },
  {
   "cell_type": "markdown",
   "metadata": {},
   "source": [
    "### Define paths"
   ]
  },
  {
   "cell_type": "code",
   "execution_count": 93,
   "metadata": {},
   "outputs": [],
   "source": [
    "path_0 = nx.dijkstra_path(FG, 'Node 0', 'Node 4' )\n",
    "path_1 = nx.dijkstra_path(FG, 'Node 0', 'Node 6' )\n",
    "path_2 = nx.dijkstra_path(FG, 'Node 0', 'Node 8' )\n",
    "path_3 = nx.dijkstra_path(FG, 'Node 0', 'Node 10' )"
   ]
  },
  {
   "cell_type": "code",
   "execution_count": 94,
   "metadata": {},
   "outputs": [
    {
     "data": {
      "text/plain": [
       "['Node 0', 'Node 1', 'Node 2', 'Node 3', 'Node 4']"
      ]
     },
     "execution_count": 94,
     "metadata": {},
     "output_type": "execute_result"
    }
   ],
   "source": [
    "path_0"
   ]
  },
  {
   "cell_type": "code",
   "execution_count": 95,
   "metadata": {},
   "outputs": [
    {
     "name": "stdout",
     "output_type": "stream",
     "text": [
      "I am at Node 0\n",
      "I am going to go to the next node Node 1\n",
      "distance: 99998.29857959764 m\n",
      "v: 3 m/s\n",
      "I am at Node 1\n",
      "I am going to go to the next node Node 2\n",
      "distance: 99998.29857959764 m\n",
      "v: 3 m/s\n",
      "I am at Node 2\n",
      "I am going to go to the next node Node 3\n",
      "distance: 150005.34402692903 m\n",
      "v: 3 m/s\n",
      "I am at Node 3\n",
      "I am going to go to the next node Node 4\n",
      "distance: 99993.33874912799 m\n",
      "v: 3 m/s\n",
      "2.5\n"
     ]
    },
    {
     "data": {
      "text/plain": [
       "<__main__.Vessel at 0x1c9bae58640>"
      ]
     },
     "execution_count": 95,
     "metadata": {},
     "output_type": "execute_result"
    }
   ],
   "source": [
    "run_simulation(FG, V_s=3, T=2.5, path=path_0)"
   ]
  },
  {
   "cell_type": "code",
   "execution_count": null,
   "metadata": {},
   "outputs": [],
   "source": []
  }
 ],
 "metadata": {
  "kernelspec": {
   "display_name": "Python 3",
   "language": "python",
   "name": "python3"
  },
  "language_info": {
   "codemirror_mode": {
    "name": "ipython",
    "version": 3
   },
   "file_extension": ".py",
   "mimetype": "text/x-python",
   "name": "python",
   "nbconvert_exporter": "python",
   "pygments_lexer": "ipython3",
   "version": "3.8.6"
  }
 },
 "nbformat": 4,
 "nbformat_minor": 5
}
