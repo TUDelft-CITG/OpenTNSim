{
 "cells": [
  {
   "cell_type": "code",
   "execution_count": 1,
   "metadata": {},
   "outputs": [],
   "source": [
    "import copy\n",
    "\n",
    "import networkx\n",
    "import shapely.geometry\n",
    "import numpy as np\n",
    "import networkx as nx\n",
    "import pandas as pd\n",
    "import matplotlib.pyplot as plt\n",
    "import opentnsim"
   ]
  },
  {
   "cell_type": "code",
   "execution_count": 4,
   "metadata": {},
   "outputs": [],
   "source": [
    "# We're in engineering cordinates (m)\n",
    "coords = [\n",
    "    [0, 0],\n",
    "    [100000, 0],\n",
    "    [200000, 0],\n",
    "    [200000, 150000],\n",
    "    [200000, 250000],\n",
    "    [306066, 106066],\n",
    "    [376777, 176777],\n",
    "    [350000, 0],\n",
    "    [450000, 0],\n",
    "    [217678, -17678],\n",
    "    [376777, -176777]\n",
    "]\n",
    "\n",
    "# these are the indices of the points above\n",
    "edge_indices = [\n",
    "    [0, 1],\n",
    "    [1, 2],\n",
    "    [2, 3],\n",
    "    [3, 4],\n",
    "    [2, 5],\n",
    "    [5, 6],\n",
    "    [2, 7],\n",
    "    [7, 8],\n",
    "    [2, 9],\n",
    "    [9, 10]\n",
    "    \n",
    "]"
   ]
  },
  {
   "cell_type": "code",
   "execution_count": 7,
   "metadata": {},
   "outputs": [],
   "source": [
    "# create shapely point objects\n",
    "points = [\n",
    "    shapely.geometry.Point(*coord )\n",
    "    for coord \n",
    "    in coords\n",
    "]\n",
    "\n",
    "# add nodes\n",
    "Node = type('Site', (opentnsim.core.Identifiable, opentnsim.core.Locatable), {})\n",
    "\n",
    "FG = nx.DiGraph()\n",
    "nodes = []\n",
    "for index, coord in enumerate(coords):\n",
    "    data_node = {\"name\": \"Node \" + str(index), \"geometry\": shapely.geometry.Point(points[index].x, points[index].y)}\n",
    "    nodes.append(Node(**data_node))\n",
    "\n",
    "positions = {}\n",
    "for node in nodes:\n",
    "    positions[node.name] = (node.geometry.x, node.geometry.y)\n",
    "    FG.add_node(node.name, geometry = node.geometry)    "
   ]
  },
  {
   "cell_type": "code",
   "execution_count": null,
   "metadata": {},
   "outputs": [],
   "source": [
    "edges = []\n",
    "depths = [12.5, 6, 6, 6, 4.5, 6, 2.5, 6, 2.5, 6] \n",
    "widths = [300, 150, 150, 150, 150, 150, 150, 150, 150, 150]\n",
    "for e in edge_indices:\n",
    "    edge_geometry = shapely.geometry.LineString([points[e[0]], points[e[1]]])\n",
    "    edge_properties = dict(\n",
    "        depth = 12.5,\n",
    "        width = 300,\n",
    "        geometry=edge_geometry, \n",
    "        length= round(edge_geometry.length),\n",
    "        e=tuple(e)\n",
    "    )\n",
    "    edges.append(edge_properties)\n",
    "\n",
    "df_edges = pd.DataFrame(edges)\n",
    "df_edges['depth'] = depths\n",
    "df_edges['width'] = widths\n",
    "df_edges"
   ]
  },
  {
   "cell_type": "code",
   "execution_count": 20,
   "metadata": {},
   "outputs": [
    {
     "data": {
      "image/png": "[encoded data removed]",
      "text/plain": [
       "<Figure size 432x288 with 1 Axes>"
      ]
     },
     "metadata": {},
     "output_type": "display_data"
    }
   ],
   "source": [
    "# show graph\n",
    "nx.draw(FG, positions)\n",
    "plt.show()"
   ]
  },
  {
   "cell_type": "code",
   "execution_count": null,
   "metadata": {},
   "outputs": [],
   "source": [
    "graph = nx.DiGraph()\n",
    "\n",
    "for node in nodes:\n",
    "    graph.add_node(node['node_i'], **node)\n",
    "    \n",
    "# Add up and downstream\n",
    "for edge in edges:\n",
    "    graph.add_edge(edge['e'][0], edge['e'][1], **edge)\n",
    "    graph.add_edge(edge['e'][1], edge['e'][0], **edge)\n",
    "\n",
    "pos = {\n",
    "    node['node_i']: (node['x'], node['y']) \n",
    "    for node \n",
    "    in nodes\n",
    "}\n",
    "\n",
    "nx.draw_networkx(graph, pos=pos)\n"
   ]
  },
  {
   "cell_type": "code",
   "execution_count": null,
   "metadata": {},
   "outputs": [],
   "source": [
    "row = {\n",
    "    \"rws_type\": \"M8\",\n",
    "    \"fuel\": 3000,\n",
    "    \"H2\": 999000,\n",
    "    \"Battery\": 3300,\n",
    "    \"E-LNG\": 432000,\n",
    "    \"E-Methanol\": 165900\n",
    "}\n",
    "rows = [row]\n",
    "ships = pd.DataFrame(rows)\n",
    "ships"
   ]
  },
  {
   "cell_type": "code",
   "execution_count": null,
   "metadata": {},
   "outputs": [],
   "source": [
    "def split_edge(edge, distance=100):\n",
    "    \"\"\"compute points (list of shapely points) and edges ({e: linestring}) that we can use to replace an edge by points in between\"\"\"\n",
    "    distances = np.arange(0, edge['geometry'].length + distance, distance)\n",
    "    \n",
    "    # The determine the points based on the distances\n",
    "    points = [\n",
    "        edge['geometry'].interpolate(distance) \n",
    "        for distance \n",
    "        in distances\n",
    "    ]\n",
    "    \n",
    "    edges = {}\n",
    "    # loop over the start, end point pairs\n",
    "    edge_pairs = list(\n",
    "        zip(\n",
    "            points[:-1], \n",
    "            points[1:]\n",
    "        )\n",
    "    )\n",
    "    for edge_i, (point_a, point_b) in enumerate(edge_pairs):    \n",
    "        edge_geometry = shapely.geometry.LineString([point_a, point_b])\n",
    "        node_a = edge_i\n",
    "        node_b = edge_i + 1\n",
    "        edges[(node_a, node_b)] = edge_geometry\n",
    "    return points, edges\n",
    "\n",
    "def split_and_replace_edge(graph, edge, distance=100):\n",
    "    \"\"\"remove edge from the network and replace it by points in between\"\"\"\n",
    "    # Remember the edge to remove\n",
    "    e_replace = edge['e']\n",
    "    # determine the points that we want to intersect\n",
    "    intersection_points, intersection_edges = split_edge(edge, distance=distance)\n",
    "    # Try and remove the previous edges, if it fails, that's ok\n",
    "    try:\n",
    "        graph.remove_edge(e_replace[0], e_replace[1])\n",
    "    except nx.NetworkXError:\n",
    "        pass\n",
    "    # also remove the oposite edge direction\n",
    "    try:\n",
    "        graph.remove_edge(e_replace[1], e_replace[0])\n",
    "    except nx.NetworkXError:\n",
    "        pass\n",
    "\n",
    "    # start at the start of our replaced edge\n",
    "    nodes = [graph.nodes[e_replace[0]]]\n",
    "    # all the points in between\n",
    "    for node_i, point in enumerate(intersection_points[1:-1]):\n",
    "        node_id = f'{e_replace[0]}-{node_i}-{e_replace[1]}'\n",
    "        node_properties = dict(\n",
    "            geometry=point,\n",
    "            x=point.x,\n",
    "            y=point.y,\n",
    "            node_i=node_id\n",
    "        )\n",
    "        nodes.append(node_properties)\n",
    "    # end at the end of our edge\n",
    "    nodes.append(graph.nodes[e_replace[1]])\n",
    "\n",
    "    # add all the node properties, skip first and last, because they already exist\n",
    "    for node in nodes[1:-1]:\n",
    "        node_i = node['node_i']\n",
    "        pos[node_i] = [node['x'], node['y']]\n",
    "        # add the nodes in between\n",
    "        graph.add_node(node_i, **node)\n",
    "        \n",
    "    # now loop over all the node pairs in between our edge\n",
    "    edges = []\n",
    "    for node_a, node_b in zip(nodes[:-1], nodes[1:]):\n",
    "        # this is our new edge\n",
    "        e = (node_a['node_i'], node_b['node_i'])\n",
    "        # create a new geometry\n",
    "        edge_geometry = shapely.geometry.LineString([\n",
    "            node_a['geometry'], \n",
    "            node_b['geometry']\n",
    "        ])\n",
    "        # we might want to copy the old properties\n",
    "        # for now this is hard coded\n",
    "        # at least replace e, edge_geometry\n",
    "        edge_properties = dict(\n",
    "            depth= 12.5, \n",
    "            width= 300, \n",
    "            geometry=edge_geometry, \n",
    "            length=edge_geometry.length,\n",
    "            e=tuple(e)\n",
    "        )\n",
    "        edges.append(edge_properties)\n",
    "\n",
    "    # now that we have all our edges computed\n",
    "    for edge in edges:\n",
    "        # insert them in two directions\n",
    "        e = edge['e']\n",
    "        graph.add_edge(e[0], e[1], **edge)\n",
    "        graph.add_edge(e[1], e[0], **edge)\n",
    "    \n",
    "    return edges"
   ]
  },
  {
   "cell_type": "code",
   "execution_count": null,
   "metadata": {
    "tags": []
   },
   "outputs": [],
   "source": [
    "\n",
    "split_edge_0 = split_and_replace_edge(graph, edges[0], distance=1000)\n",
    "split_edge_1 = split_and_replace_edge(graph, edges[1], distance=1000)\n",
    "split_edge_2 = split_and_replace_edge(graph, edges[2], distance=1000)\n",
    "split_edge_3 = split_and_replace_edge(graph, edges[3], distance=1000)\n",
    "split_edge_4 = split_and_replace_edge(graph, edges[4], distance=1000)\n",
    "split_edge_5 = split_and_replace_edge(graph, edges[5], distance=1000)\n",
    "split_edge_6 = split_and_replace_edge(graph, edges[6], distance=1000)\n",
    "split_edge_7 = split_and_replace_edge(graph, edges[7], distance=1000)\n",
    "split_edge_8 = split_and_replace_edge(graph, edges[8], distance=1000)\n",
    "split_edge_9 = split_and_replace_edge(graph, edges[9], distance=1000)\n",
    "\n",
    "# to do replace depth width for df, https://www.delftstack.com/howto/python-pandas/pandas-replace-values-in-column/\n",
    "# assign df to the Graph info"
   ]
  },
  {
   "cell_type": "code",
   "execution_count": null,
   "metadata": {},
   "outputs": [],
   "source": [
    "df_split_edge_0 = pd.DataFrame(split_edge_0)\n",
    "df_split_edge_0"
   ]
  },
  {
   "cell_type": "code",
   "execution_count": null,
   "metadata": {
    "tags": []
   },
   "outputs": [],
   "source": [
    "df_split_edge_1 = pd.DataFrame(split_edge_1)\n",
    "df_split_edge_1['depth'] = df_split_edge_1['depth'].replace([12.5], 6)\n",
    "df_split_edge_1['width'] = df_split_edge_1['width'].replace([300], 150)\n",
    "df_split_edge_1"
   ]
  },
  {
   "cell_type": "code",
   "execution_count": null,
   "metadata": {
    "tags": []
   },
   "outputs": [],
   "source": [
    "df_split_edge_2 = pd.DataFrame(split_edge_2)\n",
    "df_split_edge_2['depth'] = df_split_edge_2['depth'].replace([12.5], 6)\n",
    "df_split_edge_2['width'] = df_split_edge_2['width'].replace([300], 150)\n",
    "df_split_edge_2"
   ]
  },
  {
   "cell_type": "code",
   "execution_count": null,
   "metadata": {
    "tags": []
   },
   "outputs": [],
   "source": [
    "df_split_edge_3 = pd.DataFrame(split_edge_3)\n",
    "df_split_edge_3['depth'] = df_split_edge_3['depth'].replace([12.5], 6)\n",
    "df_split_edge_3['width'] = df_split_edge_3['width'].replace([300], 150)\n",
    "df_split_edge_3"
   ]
  },
  {
   "cell_type": "code",
   "execution_count": null,
   "metadata": {
    "tags": []
   },
   "outputs": [],
   "source": [
    "df_split_edge_4 = pd.DataFrame(split_edge_4)\n",
    "df_split_edge_4['depth'] = df_split_edge_4['depth'].replace([12.5], 4.5)\n",
    "df_split_edge_4['width'] = df_split_edge_4['width'].replace([300], 150)\n",
    "df_split_edge_4"
   ]
  },
  {
   "cell_type": "code",
   "execution_count": null,
   "metadata": {
    "tags": []
   },
   "outputs": [],
   "source": [
    "df_split_edge_5 = pd.DataFrame(split_edge_5)\n",
    "df_split_edge_5['depth'] = df_split_edge_5['depth'].replace([12.5], 6)\n",
    "df_split_edge_5['width'] = df_split_edge_5['width'].replace([300], 150)\n",
    "df_split_edge_5"
   ]
  },
  {
   "cell_type": "code",
   "execution_count": null,
   "metadata": {
    "tags": []
   },
   "outputs": [],
   "source": [
    "df_split_edge_6 = pd.DataFrame(split_edge_6)\n",
    "df_split_edge_6['depth'] = df_split_edge_6['depth'].replace([12.5], 2.5)\n",
    "df_split_edge_6['width'] = df_split_edge_6['width'].replace([300], 150)\n",
    "df_split_edge_6"
   ]
  },
  {
   "cell_type": "code",
   "execution_count": null,
   "metadata": {
    "tags": []
   },
   "outputs": [],
   "source": [
    "df_split_edge_7 = pd.DataFrame(split_edge_7)\n",
    "df_split_edge_7['depth'] = df_split_edge_7['depth'].replace([12.5], 6)\n",
    "df_split_edge_7['width'] = df_split_edge_7['width'].replace([300], 150)\n",
    "df_split_edge_7"
   ]
  },
  {
   "cell_type": "code",
   "execution_count": null,
   "metadata": {
    "tags": []
   },
   "outputs": [],
   "source": [
    "df_split_edge_8 = pd.DataFrame(split_edge_8)\n",
    "df_split_edge_8['depth'] = df_split_edge_8['depth'].replace([12.5], 2.5)\n",
    "df_split_edge_8['width'] = df_split_edge_8['width'].replace([300], 150)\n",
    "df_split_edge_8"
   ]
  },
  {
   "cell_type": "code",
   "execution_count": null,
   "metadata": {
    "tags": []
   },
   "outputs": [],
   "source": [
    "df_split_edge_9 = pd.DataFrame(split_edge_9)\n",
    "df_split_edge_9['depth'] = df_split_edge_9['depth'].replace([12.5], 6)\n",
    "df_split_edge_9['width'] = df_split_edge_9['width'].replace([300], 150)\n",
    "df_split_edge_9"
   ]
  },
  {
   "cell_type": "markdown",
   "metadata": {},
   "source": [
    "### assign info to edges on the graph"
   ]
  },
  {
   "cell_type": "code",
   "execution_count": null,
   "metadata": {},
   "outputs": [],
   "source": [
    "edges[0]= df_split_edge_0\n",
    "edges[1]= df_split_edge_1\n",
    "edges[2]= df_split_edge_2\n",
    "edges[3]= df_split_edge_3\n",
    "edges[4]= df_split_edge_4\n",
    "edges[5]= df_split_edge_5\n",
    "edges[6]= df_split_edge_6\n",
    "edges[7]= df_split_edge_7\n",
    "edges[8]= df_split_edge_8\n",
    "edges[9]= df_split_edge_9"
   ]
  },
  {
   "cell_type": "code",
   "execution_count": null,
   "metadata": {},
   "outputs": [],
   "source": [
    "print(pd.DataFrame(nodes))"
   ]
  },
  {
   "cell_type": "code",
   "execution_count": null,
   "metadata": {
    "tags": []
   },
   "outputs": [],
   "source": [
    "# df_path_deep =  df_split_edge_0.append(df_split_edge_1).append(df_split_edge_2).append(df_split_edge_3)\n",
    "# df_path_shallow =  df_split_edge_0.append(df_split_edge_1).append(df_split_edge_4).append(df_split_edge_5)\n",
    "# df_path_limiting =  df_split_edge_0.append(df_split_edge_1).append(df_split_edge_6).append(df_split_edge_7)\n",
    "# df_path_short_lim =  df_split_edge_0.append(df_split_edge_1).append(df_split_edge_8).append(df_split_edge_9)\n",
    "\n",
    "# df_path_deep"
   ]
  },
  {
   "cell_type": "code",
   "execution_count": null,
   "metadata": {},
   "outputs": [],
   "source": [
    "# fig, ax = plt.subplots(figsize=(100, 75))\n",
    "# # nx.draw_networkx(graph, pos=pos, ax=ax)\n",
    "# nx.draw(graph, pos=pos, ax=ax)\n",
    "# plt.savefig('network.pdf', bbox_inches = 'tight', dpi=600, format='pdf')  "
   ]
  },
  {
   "cell_type": "markdown",
   "metadata": {},
   "source": [
    "### Create vessels - add VesselProperties and ConsumesEnergy mixins"
   ]
  },
  {
   "cell_type": "code",
   "execution_count": null,
   "metadata": {},
   "outputs": [],
   "source": [
    "# Make your preferred class out of available mix-ins.\n",
    "TransportResource = type(\n",
    "    \"Vessel\",\n",
    "    (\n",
    "        opentnsim.core.Identifiable,\n",
    "        opentnsim.core.Movable,\n",
    "        opentnsim.core.Routeable,\n",
    "        opentnsim.core.VesselProperties,  # needed to add vessel properties\n",
    "        opentnsim.core.ConsumesEnergy,\n",
    "        opentnsim.core.ExtraMetadata,\n",
    "    ),\n",
    "    {},\n",
    ")  # needed to calculate resistances"
   ]
  },
  {
   "cell_type": "code",
   "execution_count": null,
   "metadata": {},
   "outputs": [],
   "source": [
    "# Create a dict with all important settings\n",
    "# NB: set both \"v\" and \"P_tot_given\" to None, as they will be set later\n",
    "# Note that we set \"h_squat\" as \"True\". \n",
    "# The squat effect makes a great difference for the actual water depth and resistance calculation in shallow water. \n",
    "# Here we need to calculate the water depth reduced by squat since what we give the ship is a route with undisturbed water depth h_0.\n",
    "\n",
    "data_vessel = {\"env\": None,\n",
    "               \"name\": None,\n",
    "               \"route\": None,\n",
    "               \"geometry\": None,\n",
    "               \"v\": 3.5,  # m/s\n",
    "               \"type\":None,\n",
    "               \"B\": 11.4,\n",
    "               \"L\": 110,\n",
    "               \"H_e\": None, \n",
    "               \"H_f\": None, \n",
    "               \"T\": None,\n",
    "               \"safety_margin\": 0.2, # for tanker vessel with sandy bed the safety margin is recommended as 0.2 m\n",
    "               \"h_squat\": True, # if consider the ship squat while moving, set to True, otherwise set to False. \n",
    "               \"P_installed\": 1750.0,\n",
    "               \"P_tot_given\": None, # kW\n",
    "               \"bulbous_bow\": False, # if a vessel has no bulbous_bow, set to False; otherwise set to True.\n",
    "               \"P_hotel_perc\": 0.05,\n",
    "               \"P_hotel\": None, # None: calculate P_hotel from percentage\n",
    "               \"x\": 2 ,\n",
    "               \"L_w\": 3.0 ,\n",
    "               \"C_B\":0.85, \n",
    "               \"C_year\":1990,\n",
    "              }             \n",
    "\n",
    "vessel = TransportResource(**data_vessel)"
   ]
  },
  {
   "cell_type": "markdown",
   "metadata": {},
   "source": [
    "### Define paths"
   ]
  },
  {
   "cell_type": "code",
   "execution_count": null,
   "metadata": {},
   "outputs": [],
   "source": [
    "FG = graph\n",
    "path_0 = nx.dijkstra_path(FG, nodes[0], nodes[4] )\n",
    "path_1 = nx.dijkstra_path(FG, nodes[0], nodes[6])\n",
    "path_2 = nx.dijkstra_path(FG, nodes[0], nodes[8])\n",
    "path_3 = nx.dijkstra_path(FG, nodes[0], nodes[10])\n",
    "path_3"
   ]
  },
  {
   "cell_type": "code",
   "execution_count": null,
   "metadata": {},
   "outputs": [],
   "source": []
  },
  {
   "cell_type": "markdown",
   "metadata": {},
   "source": [
    "### Run simulation"
   ]
  },
  {
   "cell_type": "code",
   "execution_count": null,
   "metadata": {},
   "outputs": [],
   "source": [
    "def run_simulation(V_s, T, paths):\n",
    "    \n",
    "    # Start simpy environment\n",
    "    simulation_start = datetime.datetime.now()\n",
    "    env = simpy.Environment(initial_time = time.mktime(simulation_start.timetuple()))\n",
    "    env.epoch = time.mktime(simulation_start.timetuple())\n",
    "\n",
    "    # Add graph to environment\n",
    "    env.FG = FG\n",
    "\n",
    "    # Add environment and path to the vessel\n",
    "    # create a fresh instance of vessel\n",
    "    vessel = TransportResource(**data_vessel)\n",
    "    vessel.env = env                                        #the created environment\n",
    "    vessel.name = 'Vessel No.1'                     \n",
    "    vessel.route = paths                                    #the route (the sequence of nodes, as stored as the second column in the path)\n",
    "    vessel.geometry = env.FG.nodes[paths[0]]['geometry']     #a shapely.geometry.Point(lon,lat) (here taken as the starting node of the vessel)\n",
    "    vessel.v = V_s\n",
    "    vessel._T = T\n",
    "    # vessel.P_tot_given = P_tot_given    \n",
    "\n",
    "    # Start the simulation\n",
    "    env.process(vessel.move())\n",
    "    env.run()\n",
    "    print (vessel._T)\n",
    "    return vessel"
   ]
  }
 ],
 "metadata": {
  "kernelspec": {
   "display_name": "Python 3",
   "language": "python",
   "name": "python3"
  }
 },
 "nbformat": 4,
 "nbformat_minor": 5
}
