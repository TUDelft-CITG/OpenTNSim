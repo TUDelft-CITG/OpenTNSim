{
 "cells": [
  {
   "cell_type": "code",
   "execution_count": 1,
   "id": "7b421e53",
   "metadata": {},
   "outputs": [],
   "source": [
    "import datetime, time\n",
    "\n",
    "# package(s) related to the simulation\n",
    "import simpy\n",
    "import pandas as pd\n",
    "\n",
    "# spatial libraries\n",
    "import shapely.geometry\n",
    "import pyproj\n",
    "\n",
    "# package(s) for data handling\n",
    "import numpy as np\n",
    "import matplotlib.pyplot as plt\n",
    "\n",
    "# Used for making the graph\n",
    "import networkx as nx\n",
    "\n",
    "# OpenTNSim\n",
    "import opentnsim"
   ]
  },
  {
   "cell_type": "markdown",
   "id": "e01310e0",
   "metadata": {},
   "source": [
    "### Useful graph methods"
   ]
  },
  {
   "cell_type": "markdown",
   "id": "340c3a49",
   "metadata": {},
   "source": [
    "### Initialise graph"
   ]
  },
  {
   "cell_type": "code",
   "execution_count": 25,
   "id": "1612d5e7",
   "metadata": {},
   "outputs": [],
   "source": [
    "# We're in engineering cordinates (m)\n",
    "coords = [\n",
    "    [0,0],\n",
    "    [8.983,0], \n",
    "    [17.966,0],\n",
    "    [17.966,13.566],\n",
    "    [17.966,22.609],\n",
    "    [27.527,9.560],\n",
    "    [33.903,15.931],\n",
    "    [31.441,0],\n",
    "    \n",
    "    [40.424, 0],\n",
    "    [19.560,-01.693],\n",
    "    [33.904,-15.931]] \n",
    "\n",
    "\n",
    "# these are the indices of the points above\n",
    "edge_indices = [\n",
    "    [0, 1],\n",
    "    [1, 2],\n",
    "    [2, 3],\n",
    "    [3, 4],\n",
    "    [2, 5],\n",
    "    [5, 6],\n",
    "    [2, 7],\n",
    "    [7, 8],\n",
    "    [2, 9],\n",
    "    [9, 10]   \n",
    "]\n",
    "\n",
    "depths = [12.5, 6, 6, 6, 4.5, 6, 2.5, 6, 2.5, 6] \n",
    "\n",
    "widths = [300, 150, 150, 150, 150, 150, 150, 150, 150, 150]\n",
    "\n",
    "points = [\n",
    "    shapely.geometry.Point(*coord )\n",
    "    for coord \n",
    "    in coords\n",
    "]"
   ]
  },
  {
   "cell_type": "code",
   "execution_count": 26,
   "id": "254ffc96",
   "metadata": {},
   "outputs": [],
   "source": [
    "# define Site class\n",
    "Node = type('Site', (opentnsim.core.Identifiable, opentnsim.core.Locatable), {})"
   ]
  },
  {
   "cell_type": "code",
   "execution_count": 27,
   "id": "27d37ad3",
   "metadata": {},
   "outputs": [],
   "source": [
    "FG = nx.DiGraph()\n",
    "\n",
    "nodes = []\n",
    "for index, coord in enumerate(coords):\n",
    "    data_node = {\"name\": str(index), \"geometry\": shapely.geometry.Point(points[index].x, points[index].y)}\n",
    "    nodes.append(Node(**data_node))\n",
    "\n",
    "for node in nodes:\n",
    "    FG.add_node(node.name, geometry = node.geometry)    \n",
    "    \n",
    "for index, edge in enumerate(edge_indices):\n",
    "    edge_geometry = shapely.geometry.LineString([points[edge[0]], points[edge[1]]])\n",
    "    edge_properties = dict(\n",
    "        GeneralDepth = depths[index],\n",
    "        width = widths[index],\n",
    "        geometry = edge_geometry, \n",
    "        length = round(edge_geometry.length),\n",
    "        e = tuple(edge)\n",
    "    )\n",
    "    FG.add_edge( str(edge[0]), str(edge[1]), weight = 1, Info = edge_properties)\n",
    "\n",
    "# toggle to undirected and back to directed to make sure all edges are two way traffic\n",
    "FG = FG.to_undirected() \n",
    "FG = FG.to_directed() "
   ]
  },
  {
   "cell_type": "code",
   "execution_count": 28,
   "id": "785da730",
   "metadata": {},
   "outputs": [],
   "source": [
    "positions = {}\n",
    "for node in nodes:\n",
    "    positions[node.name] = (node.geometry.x, node.geometry.y)"
   ]
  },
  {
   "cell_type": "code",
   "execution_count": 29,
   "id": "7ae7e4af",
   "metadata": {},
   "outputs": [
    {
     "data": {
      "image/png": "[encoded data removed]",
      "text/plain": [
       "<Figure size 432x288 with 1 Axes>"
      ]
     },
     "metadata": {},
     "output_type": "display_data"
    }
   ],
   "source": [
    "# show graph\n",
    "nx.draw(FG, positions)\n",
    "plt.show()"
   ]
  },
  {
   "cell_type": "code",
   "execution_count": 30,
   "id": "1b908df1-8b59-4c41-a3d5-24d34be91d7f",
   "metadata": {},
   "outputs": [],
   "source": [
    "# collect node labels.\n",
    "labels = {}\n",
    "for node in FG.nodes:\n",
    "    labels[node] = node"
   ]
  },
  {
   "cell_type": "code",
   "execution_count": 48,
   "id": "faf0c69c-9f03-4a61-aa6c-d190d7d3aa9e",
   "metadata": {},
   "outputs": [
    {
     "data": {
      "image/png": "[encoded data removed]",
      "text/plain": [
       "<Figure size 432x288 with 1 Axes>"
      ]
     },
     "metadata": {},
     "output_type": "display_data"
    }
   ],
   "source": [
    "# draw edges, nodes and labels.\n",
    "nx.draw_networkx_edges(FG,  pos=positions, width=2.5, edge_color=\"red\", alpha=1, arrowsize=8)\n",
    "nx.draw_networkx_nodes(FG,  pos=positions, node_color=\"darkblue\", node_size=120)\n",
    "nx.draw_networkx_labels(FG, pos=positions, labels=labels, font_size=8, font_weight='bold', font_color=\"white\")\n",
    "\n",
    "plt.axis(\"off\")\n",
    "plt.savefig('graph_1.pdf', bbox_inches = 'tight', dpi=600, format='pdf') \n",
    "plt.show()"
   ]
  },
  {
   "cell_type": "markdown",
   "id": "dfb2cf7f",
   "metadata": {},
   "source": [
    "### Verify graph"
   ]
  },
  {
   "cell_type": "code",
   "execution_count": 9,
   "id": "7e550902",
   "metadata": {},
   "outputs": [
    {
     "ename": "KeyError",
     "evalue": "'Node 0'",
     "output_type": "error",
     "traceback": [
      "\u001b[1;31m---------------------------------------------------------------------------\u001b[0m",
      "\u001b[1;31mKeyError\u001b[0m                                  Traceback (most recent call last)",
      "Input \u001b[1;32mIn [9]\u001b[0m, in \u001b[0;36m<module>\u001b[1;34m\u001b[0m\n\u001b[1;32m----> 1\u001b[0m \u001b[43mFG\u001b[49m\u001b[38;5;241;43m.\u001b[39;49m\u001b[43medges\u001b[49m\u001b[43m[\u001b[49m\u001b[43m(\u001b[49m\u001b[38;5;124;43m'\u001b[39;49m\u001b[38;5;124;43mNode 0\u001b[39;49m\u001b[38;5;124;43m'\u001b[39;49m\u001b[43m,\u001b[49m\u001b[43m \u001b[49m\u001b[38;5;124;43m'\u001b[39;49m\u001b[38;5;124;43mNode 1\u001b[39;49m\u001b[38;5;124;43m'\u001b[39;49m\u001b[43m)\u001b[49m\u001b[43m]\u001b[49m\n",
      "File \u001b[1;32mC:\\ANACONDA2021\\envs\\sim\\lib\\site-packages\\networkx\\classes\\reportviews.py:1032\u001b[0m, in \u001b[0;36mOutEdgeView.__getitem__\u001b[1;34m(self, e)\u001b[0m\n\u001b[0;32m   1027\u001b[0m     \u001b[38;5;28;01mraise\u001b[39;00m nx\u001b[38;5;241m.\u001b[39mNetworkXError(\n\u001b[0;32m   1028\u001b[0m         \u001b[38;5;124mf\u001b[39m\u001b[38;5;124m\"\u001b[39m\u001b[38;5;132;01m{\u001b[39;00m\u001b[38;5;28mtype\u001b[39m(\u001b[38;5;28mself\u001b[39m)\u001b[38;5;241m.\u001b[39m\u001b[38;5;18m__name__\u001b[39m\u001b[38;5;132;01m}\u001b[39;00m\u001b[38;5;124m does not support slicing, \u001b[39m\u001b[38;5;124m\"\u001b[39m\n\u001b[0;32m   1029\u001b[0m         \u001b[38;5;124mf\u001b[39m\u001b[38;5;124m\"\u001b[39m\u001b[38;5;124mtry list(G.edges)[\u001b[39m\u001b[38;5;132;01m{\u001b[39;00me\u001b[38;5;241m.\u001b[39mstart\u001b[38;5;132;01m}\u001b[39;00m\u001b[38;5;124m:\u001b[39m\u001b[38;5;132;01m{\u001b[39;00me\u001b[38;5;241m.\u001b[39mstop\u001b[38;5;132;01m}\u001b[39;00m\u001b[38;5;124m:\u001b[39m\u001b[38;5;132;01m{\u001b[39;00me\u001b[38;5;241m.\u001b[39mstep\u001b[38;5;132;01m}\u001b[39;00m\u001b[38;5;124m]\u001b[39m\u001b[38;5;124m\"\u001b[39m\n\u001b[0;32m   1030\u001b[0m     )\n\u001b[0;32m   1031\u001b[0m u, v \u001b[38;5;241m=\u001b[39m e\n\u001b[1;32m-> 1032\u001b[0m \u001b[38;5;28;01mreturn\u001b[39;00m \u001b[38;5;28;43mself\u001b[39;49m\u001b[38;5;241;43m.\u001b[39;49m\u001b[43m_adjdict\u001b[49m\u001b[43m[\u001b[49m\u001b[43mu\u001b[49m\u001b[43m]\u001b[49m[v]\n",
      "\u001b[1;31mKeyError\u001b[0m: 'Node 0'"
     ]
    }
   ],
   "source": [
    "FG.edges[('Node 0', 'Node 1')]"
   ]
  },
  {
   "cell_type": "code",
   "execution_count": null,
   "id": "27314b49",
   "metadata": {},
   "outputs": [],
   "source": [
    "# inspect if properties were set correctly\n",
    "for edge in FG.edges(data = True):\n",
    "    print('{}, {}: general depth {} m'.format(edge[0], edge[1], FG.edges[(edge[0], edge[1])]['Info']['GeneralDepth']))\n",
    "    print('Distance from {} to {} is {} m'.format(edge[0], edge[1],distance_over_path(FG, edge[0], edge[1])))"
   ]
  },
  {
   "cell_type": "markdown",
   "id": "539642b0",
   "metadata": {},
   "source": [
    "### Add detail to graph"
   ]
  },
  {
   "cell_type": "code",
   "execution_count": null,
   "id": "04045015",
   "metadata": {},
   "outputs": [],
   "source": [
    "distance = 0.8983/10\n",
    "edge_name = (\"Node \" + str(edge_indices[0][0]), \"Node \" + str(edge_indices[0][1]))\n",
    "print(edge_name)\n",
    "edge_info = FG.edges[edge_name]['Info']\n",
    "FG, nodes, split_edge_0 = split_and_replace_edge(FG, edge_name, edge_info, distance=distance)\n",
    "\n",
    "edge_name = (\"Node \" + str(edge_indices[1][0]), \"Node \" + str(edge_indices[1][1]))\n",
    "print(edge_name)\n",
    "edge_info = FG.edges[edge_name]['Info']\n",
    "FG, nodes, split_edge_1 = split_and_replace_edge(FG, edge_name, edge_info, distance=distance)\n",
    "\n",
    "edge_name = (\"Node \" + str(edge_indices[2][0]), \"Node \" + str(edge_indices[2][1]))\n",
    "print(edge_name)\n",
    "edge_info = FG.edges[edge_name]['Info']\n",
    "FG, nodes, split_edge_2 = split_and_replace_edge(FG, edge_name, edge_info, distance=distance)\n",
    "\n",
    "edge_name = (\"Node \" + str(edge_indices[3][0]), \"Node \" + str(edge_indices[3][1]))\n",
    "print(edge_name)\n",
    "edge_info = FG.edges[edge_name]['Info']\n",
    "FG, nodes, split_edge_3 = split_and_replace_edge(FG, edge_name, edge_info, distance=distance)\n",
    "\n",
    "edge_name = (\"Node \" + str(edge_indices[4][0]), \"Node \" + str(edge_indices[4][1]))\n",
    "print(edge_name)\n",
    "edge_info = FG.edges[edge_name]['Info']\n",
    "FG, nodes, split_edge_4 = split_and_replace_edge(FG, edge_name, edge_info, distance=distance)\n",
    "\n",
    "edge_name = (\"Node \" + str(edge_indices[5][0]), \"Node \" + str(edge_indices[5][1]))\n",
    "print(edge_name)\n",
    "edge_info = FG.edges[edge_name]['Info']\n",
    "FG, nodes, split_edge_5 = split_and_replace_edge(FG, edge_name, edge_info, distance=distance)\n",
    "\n",
    "edge_name = (\"Node \" + str(edge_indices[6][0]), \"Node \" + str(edge_indices[6][1]))\n",
    "print(edge_name)\n",
    "edge_info = FG.edges[edge_name]['Info']\n",
    "FG, nodes, split_edge_6 = split_and_replace_edge(FG, edge_name, edge_info, distance=distance)\n",
    "\n",
    "edge_name = (\"Node \" + str(edge_indices[7][0]), \"Node \" + str(edge_indices[7][1]))\n",
    "print(edge_name)\n",
    "edge_info = FG.edges[edge_name]['Info']\n",
    "FG, nodes, split_edge_7 = split_and_replace_edge(FG, edge_name, edge_info, distance=distance)\n",
    "\n",
    "edge_name = (\"Node \" + str(edge_indices[8][0]), \"Node \" + str(edge_indices[8][1]))\n",
    "print(edge_name)\n",
    "edge_info = FG.edges[edge_name]['Info']\n",
    "FG, nodes, split_edge_8 = split_and_replace_edge(FG, edge_name, edge_info, distance=distance)\n",
    "\n",
    "edge_name = (\"Node \" + str(edge_indices[9][0]), \"Node \" + str(edge_indices[9][1]))\n",
    "print(edge_name)\n",
    "edge_info = FG.edges[edge_name]['Info']\n",
    "FG, nodes, split_edge_9 = split_and_replace_edge(FG, edge_name, edge_info, distance=distance)"
   ]
  },
  {
   "cell_type": "code",
   "execution_count": null,
   "id": "8c6971ea",
   "metadata": {},
   "outputs": [],
   "source": [
    "positions = {}\n",
    "for node in FG.nodes:\n",
    "    positions[node] = (FG.nodes[node]['geometry'].x, FG.nodes[node]['geometry'].y)   "
   ]
  },
  {
   "cell_type": "code",
   "execution_count": null,
   "id": "66b7da4f",
   "metadata": {},
   "outputs": [],
   "source": [
    "# show graph\n",
    "nx.draw(FG, positions)\n",
    "plt.show()"
   ]
  },
  {
   "cell_type": "markdown",
   "id": "f2086c86",
   "metadata": {},
   "source": [
    "### Verify detailed graph"
   ]
  },
  {
   "cell_type": "code",
   "execution_count": null,
   "id": "9a5b839a",
   "metadata": {},
   "outputs": [],
   "source": [
    "for edge in FG.edges:\n",
    "    print(edge)\n",
    "    print(FG.edges[edge]['Info']['length'])"
   ]
  },
  {
   "cell_type": "code",
   "execution_count": null,
   "id": "29d13a56",
   "metadata": {},
   "outputs": [],
   "source": [
    "df_split_edge_0 = pd.DataFrame(split_edge_0)\n",
    "df_split_edge_0.head(3)"
   ]
  },
  {
   "cell_type": "code",
   "execution_count": null,
   "id": "7a3520b8",
   "metadata": {},
   "outputs": [],
   "source": [
    "df_split_edge_1 = pd.DataFrame(split_edge_1)\n",
    "df_split_edge_1.head(3)"
   ]
  },
  {
   "cell_type": "code",
   "execution_count": null,
   "id": "ffd243bc",
   "metadata": {},
   "outputs": [],
   "source": [
    "df_split_edge_2 = pd.DataFrame(split_edge_2)\n",
    "df_split_edge_2.head(3)"
   ]
  },
  {
   "cell_type": "code",
   "execution_count": null,
   "id": "6cee10d7",
   "metadata": {},
   "outputs": [],
   "source": [
    "df_split_edge_3 = pd.DataFrame(split_edge_3)\n",
    "df_split_edge_3.head(3)"
   ]
  },
  {
   "cell_type": "code",
   "execution_count": null,
   "id": "bac274c9",
   "metadata": {},
   "outputs": [],
   "source": [
    "df_split_edge_4 = pd.DataFrame(split_edge_4)\n",
    "df_split_edge_4.head(3)"
   ]
  },
  {
   "cell_type": "code",
   "execution_count": null,
   "id": "4738f885",
   "metadata": {},
   "outputs": [],
   "source": [
    "df_split_edge_5 = pd.DataFrame(split_edge_5)\n",
    "df_split_edge_5.head(3)"
   ]
  },
  {
   "cell_type": "code",
   "execution_count": null,
   "id": "d25d2a2c",
   "metadata": {},
   "outputs": [],
   "source": [
    "df_split_edge_6 = pd.DataFrame(split_edge_6)\n",
    "df_split_edge_6.head(3)"
   ]
  },
  {
   "cell_type": "code",
   "execution_count": null,
   "id": "37e95771",
   "metadata": {},
   "outputs": [],
   "source": [
    "df_split_edge_7 = pd.DataFrame(split_edge_7)\n",
    "df_split_edge_7.head(3)"
   ]
  },
  {
   "cell_type": "code",
   "execution_count": null,
   "id": "eb6e3038",
   "metadata": {},
   "outputs": [],
   "source": [
    "df_split_edge_8 = pd.DataFrame(split_edge_8)\n",
    "df_split_edge_8.head(3)"
   ]
  },
  {
   "cell_type": "code",
   "execution_count": null,
   "id": "4fbbd65e",
   "metadata": {},
   "outputs": [],
   "source": [
    "df_split_edge_9 = pd.DataFrame(split_edge_9)\n",
    "df_split_edge_9.head(3)"
   ]
  },
  {
   "cell_type": "markdown",
   "id": "23301614",
   "metadata": {},
   "source": [
    "### Create vessels - add VesselProperties and ConsumesEnergy mixins"
   ]
  },
  {
   "cell_type": "code",
   "execution_count": null,
   "id": "43b0455d",
   "metadata": {},
   "outputs": [],
   "source": [
    "row = {\n",
    "    \"rws_type\": \"M8\",\n",
    "    \"fuel\": 3000,\n",
    "    \"H2\": 999000,\n",
    "    \"Battery\": 3300,\n",
    "    \"E-LNG\": 432000,\n",
    "    \"E-Methanol\": 165900\n",
    "}\n",
    "rows = [row]\n",
    "ships = pd.DataFrame(rows)\n",
    "ships"
   ]
  },
  {
   "cell_type": "code",
   "execution_count": null,
   "id": "2f0dff8d",
   "metadata": {},
   "outputs": [],
   "source": [
    "# Make your preferred class out of available mix-ins.\n",
    "TransportResource = type(\n",
    "    \"Vessel\",\n",
    "    (\n",
    "        opentnsim.core.Identifiable,\n",
    "        opentnsim.core.Movable,\n",
    "        opentnsim.core.Routeable,\n",
    "        opentnsim.core.VesselProperties,  # needed to add vessel properties\n",
    "        opentnsim.core.ConsumesEnergy,\n",
    "        opentnsim.core.ExtraMetadata,\n",
    "    ),\n",
    "    {},\n",
    ")  # needed to calculate resistances"
   ]
  },
  {
   "cell_type": "code",
   "execution_count": null,
   "id": "5d4afb10",
   "metadata": {},
   "outputs": [],
   "source": [
    "# Create a dict with all important settings\n",
    "# NB: set both \"v\" and \"P_tot_given\" to None, as they will be set later\n",
    "# Note that we set \"h_squat\" as \"True\". \n",
    "# The squat effect makes a great difference for the actual water depth and resistance calculation in shallow water. \n",
    "# Here we need to calculate the water depth reduced by squat since what we give the ship is a route with undisturbed water depth h_0.\n",
    "\n",
    "data_vessel = {\"env\": None,\n",
    "               \"name\": None,\n",
    "               \"route\": None,\n",
    "               \"geometry\": None,\n",
    "               \"v\": 3.5,  # m/s\n",
    "               \"type\":None,\n",
    "               \"B\": 11.4,\n",
    "               \"L\": 110,\n",
    "               \"H_e\": None, \n",
    "               \"H_f\": None, \n",
    "               \"T\": None,\n",
    "               \"safety_margin\": 0.2, # for tanker vessel with sandy bed the safety margin is recommended as 0.2 m\n",
    "               \"h_squat\": True, # if consider the ship squat while moving, set to True, otherwise set to False. \n",
    "               \"P_installed\": 1750.0,\n",
    "               \"P_tot_given\": None, # kW\n",
    "               \"bulbous_bow\": False, # if a vessel has no bulbous_bow, set to False; otherwise set to True.\n",
    "               \"P_hotel_perc\": 0.05,\n",
    "               \"P_hotel\": None, # None: calculate P_hotel from percentage\n",
    "               \"x\": 2 ,\n",
    "               \"L_w\": 3.0 ,\n",
    "               \"C_B\":0.85, \n",
    "               \"C_year\":1990,\n",
    "              }             \n",
    "\n",
    "vessel = TransportResource(**data_vessel)"
   ]
  },
  {
   "cell_type": "markdown",
   "id": "5b4225e4",
   "metadata": {},
   "source": [
    "### Create simulation function"
   ]
  },
  {
   "cell_type": "code",
   "execution_count": null,
   "id": "3b0e3d31",
   "metadata": {},
   "outputs": [],
   "source": [
    "def run_simulation(FG, V_s, T, path):\n",
    "    \n",
    "    # Start simpy environment\n",
    "    simulation_start = datetime.datetime.now()\n",
    "    env = simpy.Environment(initial_time = time.mktime(simulation_start.timetuple()))\n",
    "    env.epoch = time.mktime(simulation_start.timetuple())\n",
    "\n",
    "    # Add graph to environment\n",
    "    env.FG = FG\n",
    "\n",
    "    # Add environment and path to the vessel\n",
    "    # create a fresh instance of vessel\n",
    "    vessel = TransportResource(**data_vessel)\n",
    "    vessel.env = env                                        #the created environment\n",
    "    vessel.name = 'Vessel No.1'                     \n",
    "    vessel.route = path                                     #the route (the sequence of nodes, as stored as the second column in the path)\n",
    "    vessel.geometry = env.FG.nodes[path[0]]['geometry']     #a shapely.geometry.Point(lon,lat) (here taken as the starting node of the vessel)\n",
    "    vessel.v = V_s\n",
    "    vessel._T = T\n",
    "    # vessel.P_tot_given = P_tot_given    \n",
    "\n",
    "    # Start the simulation\n",
    "    env.process(vessel.move())\n",
    "    env.run()\n",
    "\n",
    "    return vessel"
   ]
  },
  {
   "cell_type": "markdown",
   "id": "825b58af",
   "metadata": {},
   "source": [
    "### Define paths"
   ]
  },
  {
   "cell_type": "code",
   "execution_count": null,
   "id": "ab0402de",
   "metadata": {},
   "outputs": [],
   "source": [
    "path_0 = nx.dijkstra_path(FG, 'Node 0', 'Node 4' )\n",
    "path_1 = nx.dijkstra_path(FG, 'Node 0', 'Node 6' )\n",
    "path_2 = nx.dijkstra_path(FG, 'Node 0', 'Node 8' )\n",
    "path_3 = nx.dijkstra_path(FG, 'Node 0', 'Node 10' )"
   ]
  },
  {
   "cell_type": "markdown",
   "id": "8eea9c9a",
   "metadata": {},
   "source": [
    "### Run simulation"
   ]
  },
  {
   "cell_type": "code",
   "execution_count": null,
   "id": "e5631975",
   "metadata": {},
   "outputs": [],
   "source": [
    "vessel = run_simulation(FG, V_s=3, T=2.5, path=path_0)"
   ]
  },
  {
   "cell_type": "markdown",
   "id": "9b9f960a",
   "metadata": {},
   "source": [
    "### Inspect results"
   ]
  },
  {
   "cell_type": "code",
   "execution_count": null,
   "id": "88c290ce",
   "metadata": {},
   "outputs": [],
   "source": [
    "df = pd.DataFrame(vessel.log)\n",
    "df"
   ]
  }
 ],
 "metadata": {
  "kernelspec": {
   "display_name": "Python 3 (ipykernel)",
   "language": "python",
   "name": "python3"
  },
  "language_info": {
   "codemirror_mode": {
    "name": "ipython",
    "version": 3
   },
   "file_extension": ".py",
   "mimetype": "text/x-python",
   "name": "python",
   "nbconvert_exporter": "python",
   "pygments_lexer": "ipython3",
   "version": "3.9.10"
  }
 },
 "nbformat": 4,
 "nbformat_minor": 5
}
