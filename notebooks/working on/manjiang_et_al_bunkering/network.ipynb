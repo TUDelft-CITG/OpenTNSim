{
 "cells": [
  {
   "cell_type": "markdown",
   "id": "2fffffc6",
   "metadata": {},
   "source": [
    "####    From this notebook we creat representative waterway network for corridor bunkering plan        "
   ]
  },
  {
   "cell_type": "markdown",
   "id": "cdb68172",
   "metadata": {},
   "source": [
    "### \n",
    "We add some properties to the graph (depth) and the vessel (VesselProperties, ConsumesEnergy) in order to calculate resistance, required power, "
   ]
  },
  {
   "cell_type": "markdown",
   "id": "e0fe2cc3",
   "metadata": {},
   "source": [
    "### Imports\n",
    "Import the required libraries"
   ]
  },
  {
   "cell_type": "code",
   "execution_count": 1,
   "id": "7d4a507a",
   "metadata": {},
   "outputs": [],
   "source": [
    "# package(s) related to time, space and id\n",
    "import datetime, time\n",
    "import platform\n",
    "\n",
    "# you need these dependencies (you can get these from anaconda)\n",
    "# package(s) related to the simulation\n",
    "import simpy\n",
    "import pandas as pd\n",
    "\n",
    "# spatial libraries \n",
    "import pyproj\n",
    "import shapely.geometry\n",
    "from simplekml import Kml, Style\n",
    "\n",
    "# package(s) for data handling\n",
    "import numpy as np\n",
    "import matplotlib.pyplot as plt\n",
    "\n",
    "# OpenTNSim\n",
    "import opentnsim\n",
    "\n",
    "# Used for mathematical functions\n",
    "import math             \n",
    "\n",
    "# Used for making the graph to visualize our problem\n",
    "import networkx as nx   \n",
    "\n",
    "import plotly.express as px\n",
    "from plotly.subplots import make_subplots\n",
    "\n",
    "import logging\n",
    "#logging.basicConfig(level=logging.DEBUG) #turn on all the debug messages\n",
    "logging.basicConfig(level=logging.INFO)# turn off all the debug messages\n"
   ]
  },
  {
   "cell_type": "markdown",
   "id": "2776d60e",
   "metadata": {},
   "source": [
    "### Create graph\n",
    "We first need to create a 1D network (a graph) along which the vessel will move. A graph contains edges (blue dots in plot below) and vertices (black lines in plot below). For this example, we will construct a network consisting of 4 nodes in a straight line. Since we would like to have two-way traffic, we add two edges between each pair of nodes: one from left to right, and another the other way around (however, we could easily apply one-way traffic as well by remove one of the two edges). Consequently, we arrive at a total of 4 nodes, and 6 edges.\n",
    "\n",
    "Due to the nature of discrete modelling in which the time step is dependent on the activities (in this example: forcing a ship to move from node to node from its origin to its destination), it is important to add OpenTNSim mix-ins to the nodes in such a way we could identify the node (mix-in Identifiable, which imports a name and imports/creates an ID), and to locate the node (mix-in Locatable, which gives the node a geometry).\n"
   ]
  },
  {
   "cell_type": "code",
   "execution_count": 2,
   "id": "3bb461ec",
   "metadata": {},
   "outputs": [],
   "source": [
    "# specify a number of coordinate along your route (coords are: lon, lat)\n",
    "coords = [\n",
    "          [0,0], [0.8983, 0], [1.7966,0], [1.7966,1.3566], [1.7966,2.2609],\n",
    "          [0,0], [0.8983, 0], [1.7966,0], [2.7527,0.9560], [3.3903,1.5931],\n",
    "          [0,0], [0.8983, 0], [1.7966,0], [3.1441,0], [4.0424,0],\n",
    "          [0,0], [0.8983, 0], [1.7966,0], [1.9560,-0.1593], [3.3904,-1.5931],\n",
    "          ] \n",
    "\n",
    "# # for each edge (between above coordinates) specify the depth (m)\n",
    "# depths = [12.5, 4.5, 16, 0, 6, 6, 6, 0, 4.5, 6, 0, 2.5, 6, 0, 2.5, 6, 0, 4.5, 4.5 ]                                                                                                                      \n",
    "\n",
    "# # check of nr of coords and nr of depths align\n",
    "# assert len(coords) == len(depths) + 1, 'nr of depths does not correspond to nr of coords'"
   ]
  },
  {
   "cell_type": "code",
   "execution_count": 14,
   "id": "7a3d6680",
   "metadata": {},
   "outputs": [],
   "source": [
    "# create a graph based on coords and depths\n",
    "def create_sample_network():\n",
    "    FG = nx.DiGraph()\n",
    "    nodes = []\n",
    "    path = []\n",
    "\n",
    "    # add nodes\n",
    "    Node = type('Site', (opentnsim.core.Identifiable, opentnsim.core.Locatable), {})\n",
    "\n",
    "    for index, coord in enumerate(coords):\n",
    "        data_node = {\"name\": \"Node \" + str(index), \"geometry\": shapely.geometry.Point(coord[0], coord[1])}\n",
    "        nodes.append(Node(**data_node))\n",
    "\n",
    "    positions = {}\n",
    "    for node in nodes:\n",
    "        positions[node.name] = (node.geometry.x, node.geometry.y)\n",
    "        FG.add_node(node.name, geometry = node.geometry)\n",
    "\n",
    "    # add edges\n",
    "    path = [[nodes[i], nodes[i+1]] for i in range(len(nodes)-1)]\n",
    "    path.remove([nodes[4],nodes[5]])\n",
    "    path.remove([nodes[9],nodes[10]])\n",
    "    path.remove([nodes[14],nodes[15]])\n",
    "\n",
    "    depths = [12.5, 6, 6, 6, 12.5, 6, 4.5, 6, 12.5, 6, 2.5, 6, 12.5, 6, 2.5, 6 ]\n",
    "    lengths = [100, 100, 150, 100, 100, 100, 150, 100, 100, 100, 150, 100, 100, 100, 25, 225]\n",
    "    widths = [300, 150, 150, 150, 300, 150, 150, 150, 300, 150, 150, 150, 300, 150, 150, 150]\n",
    "\n",
    "    for index, edge in enumerate(path):\n",
    "        # For the energy consumption calculation we add info to the graph. We need depth info for resistance.\n",
    "        # NB: the CalculateEnergy routine expects the graph to have \"Info\" that contains \"GeneralDepth\" \n",
    "        #     this may not be very generic!\n",
    "        FG.add_edge(edge[0].name, edge[1].name, weight = 1, Info = {\"GeneralDepth\": depths[index],\n",
    "                                                                    \"GeneralLength\": lengths[index],\n",
    "                                                                    \"GeneralWidth\":widths[index]})\n",
    "\n",
    "\n",
    "    # toggle to undirected and back to directed to make sure all edges are two way traffic\n",
    "    FG = FG.to_undirected() \n",
    "    FG = FG.to_directed() \n",
    "    return FG"
   ]
  },
  {
   "cell_type": "code",
   "execution_count": 15,
   "id": "55bba160-18e8-4d16-80fd-a7283f08b74a",
   "metadata": {},
   "outputs": [],
   "source": [
    "FG = create_sample_network()"
   ]
  },
  {
   "cell_type": "code",
   "execution_count": 16,
   "id": "0f6810f8",
   "metadata": {},
   "outputs": [
    {
     "data": {
      "image/png": "[encoded data removed]",
      "text/plain": [
       "<Figure size 432x288 with 1 Axes>"
      ]
     },
     "metadata": {},
     "output_type": "display_data"
    }
   ],
   "source": [
    "# show graph\n",
    "nx.draw(FG, positions)\n",
    "plt.show()"
   ]
  },
  {
   "cell_type": "code",
   "execution_count": 5,
   "id": "fb809b31",
   "metadata": {
    "collapsed": true,
    "jupyter": {
     "outputs_hidden": true
    },
    "tags": []
   },
   "outputs": [
    {
     "name": "stdout",
     "output_type": "stream",
     "text": [
      "General depth  for edge ('Node 0', 'Node 1') is 12.5 m\n",
      "General length for edge ('Node 0', 'Node 1') is 100 km\n",
      "General width  for edge ('Node 0', 'Node 1') is 300 m\n",
      "General depth  for edge ('Node 1', 'Node 0') is 12.5 m\n",
      "General length for edge ('Node 1', 'Node 0') is 100 km\n",
      "General width  for edge ('Node 1', 'Node 0') is 300 m\n",
      "General depth  for edge ('Node 1', 'Node 2') is 6 m\n",
      "General length for edge ('Node 1', 'Node 2') is 100 km\n",
      "General width  for edge ('Node 1', 'Node 2') is 150 m\n",
      "General depth  for edge ('Node 2', 'Node 1') is 6 m\n",
      "General length for edge ('Node 2', 'Node 1') is 100 km\n",
      "General width  for edge ('Node 2', 'Node 1') is 150 m\n",
      "General depth  for edge ('Node 2', 'Node 3') is 6 m\n",
      "General length for edge ('Node 2', 'Node 3') is 150 km\n",
      "General width  for edge ('Node 2', 'Node 3') is 150 m\n",
      "General depth  for edge ('Node 3', 'Node 2') is 6 m\n",
      "General length for edge ('Node 3', 'Node 2') is 150 km\n",
      "General width  for edge ('Node 3', 'Node 2') is 150 m\n",
      "General depth  for edge ('Node 3', 'Node 4') is 6 m\n",
      "General length for edge ('Node 3', 'Node 4') is 100 km\n",
      "General width  for edge ('Node 3', 'Node 4') is 150 m\n",
      "General depth  for edge ('Node 4', 'Node 3') is 6 m\n",
      "General length for edge ('Node 4', 'Node 3') is 100 km\n",
      "General width  for edge ('Node 4', 'Node 3') is 150 m\n",
      "General depth  for edge ('Node 5', 'Node 6') is 12.5 m\n",
      "General length for edge ('Node 5', 'Node 6') is 100 km\n",
      "General width  for edge ('Node 5', 'Node 6') is 300 m\n",
      "General depth  for edge ('Node 6', 'Node 5') is 12.5 m\n",
      "General length for edge ('Node 6', 'Node 5') is 100 km\n",
      "General width  for edge ('Node 6', 'Node 5') is 300 m\n",
      "General depth  for edge ('Node 6', 'Node 7') is 6 m\n",
      "General length for edge ('Node 6', 'Node 7') is 100 km\n",
      "General width  for edge ('Node 6', 'Node 7') is 150 m\n",
      "General depth  for edge ('Node 7', 'Node 6') is 6 m\n",
      "General length for edge ('Node 7', 'Node 6') is 100 km\n",
      "General width  for edge ('Node 7', 'Node 6') is 150 m\n",
      "General depth  for edge ('Node 7', 'Node 8') is 4.5 m\n",
      "General length for edge ('Node 7', 'Node 8') is 150 km\n",
      "General width  for edge ('Node 7', 'Node 8') is 150 m\n",
      "General depth  for edge ('Node 8', 'Node 7') is 4.5 m\n",
      "General length for edge ('Node 8', 'Node 7') is 150 km\n",
      "General width  for edge ('Node 8', 'Node 7') is 150 m\n",
      "General depth  for edge ('Node 8', 'Node 9') is 6 m\n",
      "General length for edge ('Node 8', 'Node 9') is 100 km\n",
      "General width  for edge ('Node 8', 'Node 9') is 150 m\n",
      "General depth  for edge ('Node 9', 'Node 8') is 6 m\n",
      "General length for edge ('Node 9', 'Node 8') is 100 km\n",
      "General width  for edge ('Node 9', 'Node 8') is 150 m\n",
      "General depth  for edge ('Node 10', 'Node 11') is 12.5 m\n",
      "General length for edge ('Node 10', 'Node 11') is 100 km\n",
      "General width  for edge ('Node 10', 'Node 11') is 300 m\n",
      "General depth  for edge ('Node 11', 'Node 10') is 12.5 m\n",
      "General length for edge ('Node 11', 'Node 10') is 100 km\n",
      "General width  for edge ('Node 11', 'Node 10') is 300 m\n",
      "General depth  for edge ('Node 11', 'Node 12') is 6 m\n",
      "General length for edge ('Node 11', 'Node 12') is 100 km\n",
      "General width  for edge ('Node 11', 'Node 12') is 150 m\n",
      "General depth  for edge ('Node 12', 'Node 11') is 6 m\n",
      "General length for edge ('Node 12', 'Node 11') is 100 km\n",
      "General width  for edge ('Node 12', 'Node 11') is 150 m\n",
      "General depth  for edge ('Node 12', 'Node 13') is 2.5 m\n",
      "General length for edge ('Node 12', 'Node 13') is 150 km\n",
      "General width  for edge ('Node 12', 'Node 13') is 150 m\n",
      "General depth  for edge ('Node 13', 'Node 12') is 2.5 m\n",
      "General length for edge ('Node 13', 'Node 12') is 150 km\n",
      "General width  for edge ('Node 13', 'Node 12') is 150 m\n",
      "General depth  for edge ('Node 13', 'Node 14') is 6 m\n",
      "General length for edge ('Node 13', 'Node 14') is 100 km\n",
      "General width  for edge ('Node 13', 'Node 14') is 150 m\n",
      "General depth  for edge ('Node 14', 'Node 13') is 6 m\n",
      "General length for edge ('Node 14', 'Node 13') is 100 km\n",
      "General width  for edge ('Node 14', 'Node 13') is 150 m\n",
      "General depth  for edge ('Node 15', 'Node 16') is 12.5 m\n",
      "General length for edge ('Node 15', 'Node 16') is 100 km\n",
      "General width  for edge ('Node 15', 'Node 16') is 300 m\n",
      "General depth  for edge ('Node 16', 'Node 15') is 12.5 m\n",
      "General length for edge ('Node 16', 'Node 15') is 100 km\n",
      "General width  for edge ('Node 16', 'Node 15') is 300 m\n",
      "General depth  for edge ('Node 16', 'Node 17') is 6 m\n",
      "General length for edge ('Node 16', 'Node 17') is 100 km\n",
      "General width  for edge ('Node 16', 'Node 17') is 150 m\n",
      "General depth  for edge ('Node 17', 'Node 16') is 6 m\n",
      "General length for edge ('Node 17', 'Node 16') is 100 km\n",
      "General width  for edge ('Node 17', 'Node 16') is 150 m\n",
      "General depth  for edge ('Node 17', 'Node 18') is 2.5 m\n",
      "General length for edge ('Node 17', 'Node 18') is 25 km\n",
      "General width  for edge ('Node 17', 'Node 18') is 150 m\n",
      "General depth  for edge ('Node 18', 'Node 17') is 2.5 m\n",
      "General length for edge ('Node 18', 'Node 17') is 25 km\n",
      "General width  for edge ('Node 18', 'Node 17') is 150 m\n",
      "General depth  for edge ('Node 18', 'Node 19') is 6 m\n",
      "General length for edge ('Node 18', 'Node 19') is 225 km\n",
      "General width  for edge ('Node 18', 'Node 19') is 150 m\n",
      "General depth  for edge ('Node 19', 'Node 18') is 6 m\n",
      "General length for edge ('Node 19', 'Node 18') is 225 km\n",
      "General width  for edge ('Node 19', 'Node 18') is 150 m\n"
     ]
    }
   ],
   "source": [
    "# This cell just shows that now a depth of 10 m is added to the edges. \n",
    "# You can use this to vary depths, e.g. make the middle edge shallower. Note that edges are bi-directional \n",
    "for edge in FG.edges:\n",
    "    print('General depth  for edge {} is {} m'.format(edge, FG.get_edge_data(edge[0], edge[1])[\"Info\"][\"GeneralDepth\"]))\n",
    "    print('General length for edge {} is {} km'.format(edge, FG.get_edge_data(edge[0], edge[1])[\"Info\"][\"GeneralLength\"]))\n",
    "    print('General width  for edge {} is {} m'.format(edge, FG.get_edge_data(edge[0], edge[1])[\"Info\"][\"GeneralWidth\"]))"
   ]
  },
  {
   "cell_type": "markdown",
   "id": "3b19096c",
   "metadata": {},
   "source": [
    "### Create vessel - add VesselProperties and ConsumesEnergy mixins\n",
    "The following mix-ins are required for each vessel in our problem: Identifiable (gives the vessel a name and a random ID), Movable (gives that the object (*vessel*) can move with a fixed speed and logs this activity, it requires input for the following mix-ins: Locatable, Routeable, and Log), and Routable (gives the object a route). We now modify our original vessel from the basic example and include vessel properties (like width, length, etc.) and a mixin that is needed to calculate resistance and energy consumption. "
   ]
  },
  {
   "cell_type": "code",
   "execution_count": 6,
   "id": "f03fb096",
   "metadata": {},
   "outputs": [],
   "source": [
    "# Make your preferred class out of available mix-ins.\n",
    "TransportResource = type(\n",
    "    \"Vessel\",\n",
    "    (\n",
    "        opentnsim.core.Identifiable,\n",
    "        opentnsim.core.Movable,\n",
    "        opentnsim.core.Routeable,\n",
    "        opentnsim.core.VesselProperties,  # needed to add vessel properties\n",
    "        opentnsim.core.ConsumesEnergy,\n",
    "        opentnsim.core.ExtraMetadata,\n",
    "    ),\n",
    "    {},\n",
    ")  # needed to calculate resistances"
   ]
  },
  {
   "cell_type": "code",
   "execution_count": 7,
   "id": "bffd9ef0",
   "metadata": {},
   "outputs": [],
   "source": [
    "# Create a dict with all important settings\n",
    "# NB: set both \"v\" and \"P_tot_given\" to None, as they will be set later\n",
    "# Note that we set \"h_squat\" as \"True\". \n",
    "# The squat effect makes a great difference for the actual water depth and resistance calculation in shallow water. \n",
    "# Here we need to calculate the water depth reduced by squat since what we give the ship is a route with undisturbed water depth h_0.\n",
    "\n",
    "data_vessel = {\"env\": None,\n",
    "               \"name\": None,\n",
    "               \"route\": None,\n",
    "               \"geometry\": None,\n",
    "               \"v\": 3.5,  # m/s\n",
    "               \"type\":None,\n",
    "               \"B\": 11.4,\n",
    "               \"L\": 110,\n",
    "               \"H_e\": None, \n",
    "               \"H_f\": None, \n",
    "               \"T\": None,\n",
    "               \"safety_margin\": 0.2, # for tanker vessel with sandy bed the safety margin is recommended as 0.2 m\n",
    "               \"h_squat\": True, # if consider the ship squat while moving, set to True, otherwise set to False. \n",
    "               \"P_installed\": 1750.0,\n",
    "               \"P_tot_given\": None, # kW\n",
    "               \"bulbous_bow\": False, # if a vessel has no bulbous_bow, set to False; otherwise set to True.\n",
    "               \"P_hotel_perc\": 0.05,\n",
    "               \"P_hotel\": None, # None: calculate P_hotel from percentage\n",
    "               \"x\": 2 ,\n",
    "               \"L_w\": 3.0 ,\n",
    "               \"C_B\":0.85, \n",
    "               \"C_year\":1990,\n",
    "              }             \n",
    "\n",
    "vessel = TransportResource(**data_vessel)"
   ]
  },
  {
   "cell_type": "markdown",
   "id": "9a4b249c",
   "metadata": {},
   "source": [
    "### Define paths\n",
    "We are going to create a simulation in which a vessel moves from *Node 1* to *Node 4*. Therefore, we need to create a vessel to which we will need to append this paths. Therefore, first let's create the path."
   ]
  },
  {
   "cell_type": "code",
   "execution_count": 8,
   "id": "f52bc939",
   "metadata": {},
   "outputs": [],
   "source": [
    "paths = []\n",
    "path_0 = nx.dijkstra_path(FG, nodes[0].name, nodes[4].name)\n",
    "path_1 = nx.dijkstra_path(FG, nodes[5].name, nodes[9].name)\n",
    "path_2 = nx.dijkstra_path(FG, nodes[10].name, nodes[14].name)\n",
    "path_3 = nx.dijkstra_path(FG, nodes[15].name, nodes[19].name)\n",
    "paths = [path_0, path_1, path_2, path_3]"
   ]
  },
  {
   "cell_type": "markdown",
   "id": "57ce7a10",
   "metadata": {},
   "source": [
    "### Run simulation\n",
    "Now we can define the run. First, we make an environment and add the graph to the environment. Then we add one vessel, to which we will append the environment and the above route. Lastly, we give the vessel the process of moving from the origin to the destination of the defined path and subsequently run the model."
   ]
  },
  {
   "cell_type": "code",
   "execution_count": 9,
   "id": "a8752f61",
   "metadata": {},
   "outputs": [],
   "source": [
    "def run_simulation(V_s, T, paths):\n",
    "    \n",
    "    # Start simpy environment\n",
    "    simulation_start = datetime.datetime.now()\n",
    "    env = simpy.Environment(initial_time = time.mktime(simulation_start.timetuple()))\n",
    "    env.epoch = time.mktime(simulation_start.timetuple())\n",
    "\n",
    "    # Add graph to environment\n",
    "    env.FG = FG\n",
    "\n",
    "    # Add environment and path to the vessel\n",
    "    # create a fresh instance of vessel\n",
    "    vessel = TransportResource(**data_vessel)\n",
    "    vessel.env = env                                        #the created environment\n",
    "    vessel.name = 'Vessel No.1'                     \n",
    "    vessel.route = paths                                    #the route (the sequence of nodes, as stored as the second column in the path)\n",
    "    vessel.geometry = env.FG.nodes[paths[0]]['geometry']     #a shapely.geometry.Point(lon,lat) (here taken as the starting node of the vessel)\n",
    "    vessel.v = V_s\n",
    "    vessel._T = T\n",
    "    # vessel.P_tot_given = P_tot_given    \n",
    "\n",
    "    # Start the simulation\n",
    "    env.process(vessel.move())\n",
    "    env.run()\n",
    "    print (vessel._T)\n",
    "    return vessel"
   ]
  },
  {
   "cell_type": "code",
   "execution_count": 10,
   "id": "928bbfcc",
   "metadata": {},
   "outputs": [
    {
     "data": {
      "text/plain": [
       "{'V_s': [3.5, 3.5, 3.5, 3.5],\n",
       " 'T': [2.05, 2.05, 2.05, 2.05],\n",
       " 'paths': [['Node 0', 'Node 1', 'Node 2', 'Node 3', 'Node 4'],\n",
       "  ['Node 5', 'Node 6', 'Node 7', 'Node 8', 'Node 9'],\n",
       "  ['Node 10', 'Node 11', 'Node 12', 'Node 13', 'Node 14'],\n",
       "  ['Node 15', 'Node 16', 'Node 17', 'Node 18', 'Node 19']]}"
      ]
     },
     "execution_count": 10,
     "metadata": {},
     "output_type": "execute_result"
    }
   ],
   "source": [
    "input_data = {'V_s': [3.5, 3.5, 3.5, 3.5], 'T':[2.05, 2.05, 2.05, 2.05], 'paths': [path_0, path_1, path_2, path_3]}\n",
    "input_data"
   ]
  },
  {
   "cell_type": "code",
   "execution_count": 11,
   "id": "c525009f",
   "metadata": {
    "tags": []
   },
   "outputs": [
    {
     "name": "stdout",
     "output_type": "stream",
     "text": [
      "2.05\n"
     ]
    },
    {
     "name": "stderr",
     "output_type": "stream",
     "text": [
      "C:\\ANACONDA2021\\envs\\sim\\lib\\site-packages\\pandas\\core\\dtypes\\cast.py:122: ShapelyDeprecationWarning:\n",
      "\n",
      "The array interface is deprecated and will no longer work in Shapely 2.0. Convert the '.coords' to a numpy array instead.\n",
      "\n"
     ]
    },
    {
     "data": {
      "text/html": [
       "<div>\n",
       "<style scoped>\n",
       "    .dataframe tbody tr th:only-of-type {\n",
       "        vertical-align: middle;\n",
       "    }\n",
       "\n",
       "    .dataframe tbody tr th {\n",
       "        vertical-align: top;\n",
       "    }\n",
       "\n",
       "    .dataframe thead th {\n",
       "        text-align: right;\n",
       "    }\n",
       "</style>\n",
       "<table border=\"1\" class=\"dataframe\">\n",
       "  <thead>\n",
       "    <tr style=\"text-align: right;\">\n",
       "      <th></th>\n",
       "      <th>time_start</th>\n",
       "      <th>time_stop</th>\n",
       "      <th>edge_start</th>\n",
       "      <th>edge_stop</th>\n",
       "      <th>P_tot</th>\n",
       "      <th>P_installed</th>\n",
       "      <th>total_energy</th>\n",
       "      <th>total_fuel_consumption</th>\n",
       "      <th>total_emission_CO2</th>\n",
       "      <th>total_emission_PM10</th>\n",
       "      <th>total_emission_NOX</th>\n",
       "      <th>stationary</th>\n",
       "      <th>water depth</th>\n",
       "      <th>distance</th>\n",
       "      <th>delta_t</th>\n",
       "    </tr>\n",
       "  </thead>\n",
       "  <tbody>\n",
       "    <tr>\n",
       "      <th>0</th>\n",
       "      <td>2022-04-05 21:55:31.000000</td>\n",
       "      <td>2022-04-06 05:51:41.942451</td>\n",
       "      <td>POINT (0 0)</td>\n",
       "      <td>POINT (0.8983 0)</td>\n",
       "      <td>387.981317</td>\n",
       "      <td>1750.0</td>\n",
       "      <td>3079.164413</td>\n",
       "      <td>7.731476e+05</td>\n",
       "      <td>2.452987e+06</td>\n",
       "      <td>1428.258030</td>\n",
       "      <td>33669.538444</td>\n",
       "      <td>0</td>\n",
       "      <td>12.434512</td>\n",
       "      <td>99998.298580</td>\n",
       "      <td>28570.942451</td>\n",
       "    </tr>\n",
       "    <tr>\n",
       "      <th>1</th>\n",
       "      <td>2022-04-06 05:51:41.942451</td>\n",
       "      <td>2022-04-06 13:47:52.884902</td>\n",
       "      <td>POINT (0.8983 0)</td>\n",
       "      <td>POINT (1.7966 0)</td>\n",
       "      <td>390.699211</td>\n",
       "      <td>1750.0</td>\n",
       "      <td>3100.734633</td>\n",
       "      <td>7.781399e+05</td>\n",
       "      <td>2.468826e+06</td>\n",
       "      <td>1435.566500</td>\n",
       "      <td>33866.490105</td>\n",
       "      <td>0</td>\n",
       "      <td>5.881326</td>\n",
       "      <td>99998.298580</td>\n",
       "      <td>28570.942451</td>\n",
       "    </tr>\n",
       "    <tr>\n",
       "      <th>2</th>\n",
       "      <td>2022-04-06 13:47:52.884902</td>\n",
       "      <td>2022-04-07 01:42:11.554625</td>\n",
       "      <td>POINT (1.7966 0)</td>\n",
       "      <td>POINT (1.7966 1.3566)</td>\n",
       "      <td>390.699211</td>\n",
       "      <td>1750.0</td>\n",
       "      <td>4651.346793</td>\n",
       "      <td>1.167271e+06</td>\n",
       "      <td>3.703434e+06</td>\n",
       "      <td>2153.463107</td>\n",
       "      <td>50802.409352</td>\n",
       "      <td>0</td>\n",
       "      <td>5.881326</td>\n",
       "      <td>150005.344027</td>\n",
       "      <td>42858.669723</td>\n",
       "    </tr>\n",
       "    <tr>\n",
       "      <th>3</th>\n",
       "      <td>2022-04-07 01:42:11.554625</td>\n",
       "      <td>2022-04-07 09:38:21.079982</td>\n",
       "      <td>POINT (1.7966 1.3566)</td>\n",
       "      <td>POINT (1.7966 2.2609)</td>\n",
       "      <td>390.699211</td>\n",
       "      <td>1750.0</td>\n",
       "      <td>3100.580840</td>\n",
       "      <td>7.781013e+05</td>\n",
       "      <td>2.468703e+06</td>\n",
       "      <td>1435.495297</td>\n",
       "      <td>33864.810355</td>\n",
       "      <td>0</td>\n",
       "      <td>5.881326</td>\n",
       "      <td>99993.338749</td>\n",
       "      <td>28569.525357</td>\n",
       "    </tr>\n",
       "  </tbody>\n",
       "</table>\n",
       "</div>"
      ],
      "text/plain": [
       "                  time_start                  time_stop  \\\n",
       "0 2022-04-05 21:55:31.000000 2022-04-06 05:51:41.942451   \n",
       "1 2022-04-06 05:51:41.942451 2022-04-06 13:47:52.884902   \n",
       "2 2022-04-06 13:47:52.884902 2022-04-07 01:42:11.554625   \n",
       "3 2022-04-07 01:42:11.554625 2022-04-07 09:38:21.079982   \n",
       "\n",
       "              edge_start              edge_stop       P_tot  P_installed  \\\n",
       "0            POINT (0 0)       POINT (0.8983 0)  387.981317       1750.0   \n",
       "1       POINT (0.8983 0)       POINT (1.7966 0)  390.699211       1750.0   \n",
       "2       POINT (1.7966 0)  POINT (1.7966 1.3566)  390.699211       1750.0   \n",
       "3  POINT (1.7966 1.3566)  POINT (1.7966 2.2609)  390.699211       1750.0   \n",
       "\n",
       "   total_energy  total_fuel_consumption  total_emission_CO2  \\\n",
       "0   3079.164413            7.731476e+05        2.452987e+06   \n",
       "1   3100.734633            7.781399e+05        2.468826e+06   \n",
       "2   4651.346793            1.167271e+06        3.703434e+06   \n",
       "3   3100.580840            7.781013e+05        2.468703e+06   \n",
       "\n",
       "   total_emission_PM10  total_emission_NOX  stationary  water depth  \\\n",
       "0          1428.258030        33669.538444           0    12.434512   \n",
       "1          1435.566500        33866.490105           0     5.881326   \n",
       "2          2153.463107        50802.409352           0     5.881326   \n",
       "3          1435.495297        33864.810355           0     5.881326   \n",
       "\n",
       "        distance       delta_t  \n",
       "0   99998.298580  28570.942451  \n",
       "1   99998.298580  28570.942451  \n",
       "2  150005.344027  42858.669723  \n",
       "3   99993.338749  28569.525357  "
      ]
     },
     "metadata": {},
     "output_type": "display_data"
    },
    {
     "name": "stdout",
     "output_type": "stream",
     "text": [
      "2.05\n"
     ]
    },
    {
     "ename": "AssertionError",
     "evalue": "D should be > 0: nan",
     "output_type": "error",
     "traceback": [
      "\u001b[1;31m---------------------------------------------------------------------------\u001b[0m",
      "\u001b[1;31mAssertionError\u001b[0m                            Traceback (most recent call last)",
      "Input \u001b[1;32mIn [11]\u001b[0m, in \u001b[0;36m<module>\u001b[1;34m\u001b[0m\n\u001b[0;32m     11\u001b[0m \u001b[38;5;66;03m# create an EnergyCalculation object and perform energy consumption calculation\u001b[39;00m\n\u001b[0;32m     12\u001b[0m energycalculation \u001b[38;5;241m=\u001b[39m opentnsim\u001b[38;5;241m.\u001b[39menergy\u001b[38;5;241m.\u001b[39mEnergyCalculation(FG, vessel)\n\u001b[1;32m---> 13\u001b[0m \u001b[43menergycalculation\u001b[49m\u001b[38;5;241;43m.\u001b[39;49m\u001b[43mcalculate_energy_consumption\u001b[49m\u001b[43m(\u001b[49m\u001b[43m)\u001b[49m\n\u001b[0;32m     15\u001b[0m \u001b[38;5;66;03m# create dataframe from energy calculation computation\u001b[39;00m\n\u001b[0;32m     16\u001b[0m df \u001b[38;5;241m=\u001b[39m pd\u001b[38;5;241m.\u001b[39mDataFrame\u001b[38;5;241m.\u001b[39mfrom_dict(energycalculation\u001b[38;5;241m.\u001b[39menergy_use)\n",
      "File \u001b[1;32mc:\\users\\manjiang\\opentnsim\\opentnsim\\energy.py:302\u001b[0m, in \u001b[0;36mEnergyCalculation.calculate_energy_consumption\u001b[1;34m(self)\u001b[0m\n\u001b[0;32m    299\u001b[0m \u001b[38;5;66;03m# we use the calculated velocity to determine the resistance and power required\u001b[39;00m\n\u001b[0;32m    300\u001b[0m \u001b[38;5;66;03m# we can switch between the 'original water depth' and 'water depth considering ship squatting' for energy calculation, by using the function \"calculate_h_squat (h_squat is set as Yes/No)\" in the core.py\u001b[39;00m\n\u001b[0;32m    301\u001b[0m h_0 \u001b[38;5;241m=\u001b[39m \u001b[38;5;28mself\u001b[39m\u001b[38;5;241m.\u001b[39mvessel\u001b[38;5;241m.\u001b[39mcalculate_h_squat(v, h_0)                              \n\u001b[1;32m--> 302\u001b[0m \u001b[38;5;28;43mself\u001b[39;49m\u001b[38;5;241;43m.\u001b[39;49m\u001b[43mvessel\u001b[49m\u001b[38;5;241;43m.\u001b[39;49m\u001b[43mcalculate_total_resistance\u001b[49m\u001b[43m(\u001b[49m\u001b[43mv\u001b[49m\u001b[43m,\u001b[49m\u001b[43m \u001b[49m\u001b[43mh_0\u001b[49m\u001b[43m)\u001b[49m\n\u001b[0;32m    303\u001b[0m \u001b[38;5;28mself\u001b[39m\u001b[38;5;241m.\u001b[39mvessel\u001b[38;5;241m.\u001b[39mcalculate_total_power_required(v\u001b[38;5;241m=\u001b[39mv)\n\u001b[0;32m    305\u001b[0m \u001b[38;5;28mself\u001b[39m\u001b[38;5;241m.\u001b[39mvessel\u001b[38;5;241m.\u001b[39mcalculate_emission_factors_total(v\u001b[38;5;241m=\u001b[39mv)\n",
      "File \u001b[1;32mc:\\users\\manjiang\\opentnsim\\opentnsim\\core.py:810\u001b[0m, in \u001b[0;36mConsumesEnergy.calculate_total_resistance\u001b[1;34m(self, v, h_0)\u001b[0m\n\u001b[0;32m    804\u001b[0m \u001b[38;5;124;03m\"\"\"Total resistance:\u001b[39;00m\n\u001b[0;32m    805\u001b[0m \n\u001b[0;32m    806\u001b[0m \u001b[38;5;124;03mThe total resistance is the sum of all resistance components (Holtrop and Mennen, 1982)\u001b[39;00m\n\u001b[0;32m    807\u001b[0m \u001b[38;5;124;03m\"\"\"\u001b[39;00m\n\u001b[0;32m    809\u001b[0m \u001b[38;5;28mself\u001b[39m\u001b[38;5;241m.\u001b[39mcalculate_properties()\n\u001b[1;32m--> 810\u001b[0m \u001b[38;5;28;43mself\u001b[39;49m\u001b[38;5;241;43m.\u001b[39;49m\u001b[43mcalculate_frictional_resistance\u001b[49m\u001b[43m(\u001b[49m\u001b[43mv\u001b[49m\u001b[43m,\u001b[49m\u001b[43m \u001b[49m\u001b[43mh_0\u001b[49m\u001b[43m)\u001b[49m\n\u001b[0;32m    811\u001b[0m \u001b[38;5;28mself\u001b[39m\u001b[38;5;241m.\u001b[39mcalculate_viscous_resistance()\n\u001b[0;32m    812\u001b[0m \u001b[38;5;28mself\u001b[39m\u001b[38;5;241m.\u001b[39mcalculate_appendage_resistance(v)\n",
      "File \u001b[1;32mc:\\users\\manjiang\\opentnsim\\opentnsim\\core.py:541\u001b[0m, in \u001b[0;36mConsumesEnergy.calculate_frictional_resistance\u001b[1;34m(self, v, h_0)\u001b[0m\n\u001b[0;32m    538\u001b[0m \u001b[38;5;28mself\u001b[39m\u001b[38;5;241m.\u001b[39mR_e \u001b[38;5;241m=\u001b[39m v \u001b[38;5;241m*\u001b[39m \u001b[38;5;28mself\u001b[39m\u001b[38;5;241m.\u001b[39mL \u001b[38;5;241m/\u001b[39m \u001b[38;5;28mself\u001b[39m\u001b[38;5;241m.\u001b[39mnu  \u001b[38;5;66;03m# Reynolds number\u001b[39;00m\n\u001b[0;32m    540\u001b[0m \u001b[38;5;28mself\u001b[39m\u001b[38;5;241m.\u001b[39mD \u001b[38;5;241m=\u001b[39m h_0 \u001b[38;5;241m-\u001b[39m \u001b[38;5;28mself\u001b[39m\u001b[38;5;241m.\u001b[39mT  \u001b[38;5;66;03m# distance from bottom ship to the bottom of the fairway\u001b[39;00m\n\u001b[1;32m--> 541\u001b[0m \u001b[38;5;28;01massert\u001b[39;00m \u001b[38;5;28mself\u001b[39m\u001b[38;5;241m.\u001b[39mD \u001b[38;5;241m>\u001b[39m \u001b[38;5;241m0\u001b[39m,  \u001b[38;5;124mf\u001b[39m\u001b[38;5;124m'\u001b[39m\u001b[38;5;124mD should be > 0: \u001b[39m\u001b[38;5;132;01m{\u001b[39;00m\u001b[38;5;28mself\u001b[39m\u001b[38;5;241m.\u001b[39mD\u001b[38;5;132;01m}\u001b[39;00m\u001b[38;5;124m'\u001b[39m\n\u001b[0;32m    543\u001b[0m \u001b[38;5;66;03m# Friction coefficient based on CFD computations of Zeng et al. (2018), in deep water\u001b[39;00m\n\u001b[0;32m    544\u001b[0m \u001b[38;5;28mself\u001b[39m\u001b[38;5;241m.\u001b[39mCf_deep \u001b[38;5;241m=\u001b[39m \u001b[38;5;241m0.08169\u001b[39m \u001b[38;5;241m/\u001b[39m ((np\u001b[38;5;241m.\u001b[39mlog10(\u001b[38;5;28mself\u001b[39m\u001b[38;5;241m.\u001b[39mR_e) \u001b[38;5;241m-\u001b[39m \u001b[38;5;241m1.717\u001b[39m) \u001b[38;5;241m*\u001b[39m\u001b[38;5;241m*\u001b[39m \u001b[38;5;241m2\u001b[39m)\n",
      "\u001b[1;31mAssertionError\u001b[0m: D should be > 0: nan"
     ]
    }
   ],
   "source": [
    "# create empty plot data\n",
    "plot_data = {}\n",
    "\n",
    "# loop through the various input data\n",
    "for index, value in enumerate(input_data['V_s'],):\n",
    "    #print(\"value\", value)   \n",
    "    # Run a basic simulation with V_s and P_tot_given combi\n",
    "\n",
    "    vessel = run_simulation(input_data['V_s'][index], input_data['T'][index], input_data['paths'][index])\n",
    "\n",
    "    # create an EnergyCalculation object and perform energy consumption calculation\n",
    "    energycalculation = opentnsim.energy.EnergyCalculation(FG, vessel)\n",
    "    energycalculation.calculate_energy_consumption()\n",
    "    \n",
    "    # create dataframe from energy calculation computation\n",
    "    df = pd.DataFrame.from_dict(energycalculation.energy_use)\n",
    "    display(df)\n",
    "#     # add/modify some comlums to suit our plotting needs\n",
    "   \n",
    "#     df['fuel_kg_per_km'] = (df['total_fuel_consumption']/1000) / (df['distance']/1000)\n",
    "#     df['CO2_g_per_km']   = (df['total_emission_CO2']) / (df['distance']/1000)\n",
    "#     df['PM10_g_per_km']  = (df['total_emission_PM10']) / (df['distance']/1000)\n",
    "#     df['NOx_g_per_km']   = (df['total_emission_NOX']) / (df['distance']/1000)\n",
    "    \n",
    "#     label = 'V_s = ' + str(input_data['V_s'][index]) + ' P_tot_given = ' + str(input_data['P_tot_given'][index])\n",
    "\n",
    "#     # Note that we make a dict to collect all plot data. \n",
    "#     # We use labels like ['V_s = None P_tot_given = 274 fuel_kg_km'] to organise the data in the dict\n",
    "#     # The [0, 0, 1, 1, 2, 2] below creates a list per section \n",
    "#     plot_data[label + ' P_tot']   = list(df.P_tot[[0, 0, 1, 1, 2, 2]])\n",
    "#     plot_data[label + ' fuel_kg_per_km']   = list(df.fuel_kg_per_km[[0, 0, 1, 1, 2, 2]])\n",
    "#     plot_data[label + ' CO2_g_per_km'] = list(df.CO2_g_per_km[[0, 0, 1, 1, 2, 2]])\n",
    "#     plot_data[label + ' PM10_g_per_km']   = list(df.PM10_g_per_km[[0, 0, 1, 1, 2, 2]])\n",
    "#     plot_data[label + ' NOx_g_per_km']   = list(df.NOx_g_per_km[[0, 0, 1, 1, 2, 2]])\n",
    "        "
   ]
  },
  {
   "cell_type": "code",
   "execution_count": null,
   "id": "484601d4-bd9e-4083-976b-d9fb6ac84f48",
   "metadata": {},
   "outputs": [],
   "source": []
  },
  {
   "cell_type": "markdown",
   "id": "41fcaef6-8250-43a5-89ad-f1af22956537",
   "metadata": {},
   "source": [
    "### plot energy consumption on the graph"
   ]
  },
  {
   "cell_type": "code",
   "execution_count": null,
   "id": "46fe68ef-20f9-41e8-9d45-bed9ccd2b24d",
   "metadata": {},
   "outputs": [],
   "source": []
  },
  {
   "cell_type": "code",
   "execution_count": null,
   "id": "52995292-68ae-40d5-a7f0-13ef9a64bb38",
   "metadata": {},
   "outputs": [],
   "source": []
  }
 ],
 "metadata": {
  "kernelspec": {
   "display_name": "Python 3 (ipykernel)",
   "language": "python",
   "name": "python3"
  },
  "language_info": {
   "codemirror_mode": {
    "name": "ipython",
    "version": 3
   },
   "file_extension": ".py",
   "mimetype": "text/x-python",
   "name": "python",
   "nbconvert_exporter": "python",
   "pygments_lexer": "ipython3",
   "version": "3.9.10"
  }
 },
 "nbformat": 4,
 "nbformat_minor": 5
}
