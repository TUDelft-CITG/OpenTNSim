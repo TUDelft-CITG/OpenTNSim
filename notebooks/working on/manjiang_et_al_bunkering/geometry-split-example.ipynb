{
 "cells": [
  {
   "cell_type": "code",
   "execution_count": 1,
   "id": "b10444f2",
   "metadata": {},
   "outputs": [],
   "source": [
    "import copy\n",
    "\n",
    "import networkx\n",
    "import shapely.geometry\n",
    "import numpy as np\n",
    "import networkx as nx\n",
    "import pandas as pd\n",
    "import matplotlib.pyplot as plt\n"
   ]
  },
  {
   "cell_type": "code",
   "execution_count": 2,
   "id": "3f131286",
   "metadata": {},
   "outputs": [],
   "source": [
    "# We're in engineering cordinates\n",
    "coords = [\n",
    "    [0, 0],\n",
    "    [100, 0],\n",
    "    [200, 0],\n",
    "    [100, 100]\n",
    "]\n",
    "\n",
    "# these are the indices of the points above\n",
    "edge_indices = [\n",
    "    [0, 1],\n",
    "    [1, 2],\n",
    "    [1, 3]\n",
    "]"
   ]
  },
  {
   "cell_type": "code",
   "execution_count": 3,
   "id": "dbc2c89c",
   "metadata": {},
   "outputs": [],
   "source": [
    "points = [\n",
    "    shapely.geometry.Point(*coord )\n",
    "    for coord \n",
    "    in coords\n",
    "]\n",
    "\n",
    "nodes = [\n",
    "    dict(\n",
    "        geometry=point,\n",
    "        x=point.x,\n",
    "        y=point.y,\n",
    "        node_i=node_i\n",
    "    )\n",
    "    for node_i, point\n",
    "    in enumerate(points)\n",
    "]"
   ]
  },
  {
   "cell_type": "code",
   "execution_count": 4,
   "id": "f1a5b503",
   "metadata": {},
   "outputs": [
    {
     "data": {
      "text/html": [
       "<div>\n",
       "<style scoped>\n",
       "    .dataframe tbody tr th:only-of-type {\n",
       "        vertical-align: middle;\n",
       "    }\n",
       "\n",
       "    .dataframe tbody tr th {\n",
       "        vertical-align: top;\n",
       "    }\n",
       "\n",
       "    .dataframe thead th {\n",
       "        text-align: right;\n",
       "    }\n",
       "</style>\n",
       "<table border=\"1\" class=\"dataframe\">\n",
       "  <thead>\n",
       "    <tr style=\"text-align: right;\">\n",
       "      <th></th>\n",
       "      <th>depth</th>\n",
       "      <th>width</th>\n",
       "      <th>geometry</th>\n",
       "      <th>length</th>\n",
       "      <th>e</th>\n",
       "    </tr>\n",
       "  </thead>\n",
       "  <tbody>\n",
       "    <tr>\n",
       "      <th>0</th>\n",
       "      <td>12.5</td>\n",
       "      <td>300</td>\n",
       "      <td>LINESTRING (0 0, 100 0)</td>\n",
       "      <td>100.0</td>\n",
       "      <td>(0, 1)</td>\n",
       "    </tr>\n",
       "    <tr>\n",
       "      <th>1</th>\n",
       "      <td>12.5</td>\n",
       "      <td>300</td>\n",
       "      <td>LINESTRING (100 0, 200 0)</td>\n",
       "      <td>100.0</td>\n",
       "      <td>(1, 2)</td>\n",
       "    </tr>\n",
       "    <tr>\n",
       "      <th>2</th>\n",
       "      <td>12.5</td>\n",
       "      <td>300</td>\n",
       "      <td>LINESTRING (100 0, 100 100)</td>\n",
       "      <td>100.0</td>\n",
       "      <td>(1, 3)</td>\n",
       "    </tr>\n",
       "  </tbody>\n",
       "</table>\n",
       "</div>"
      ],
      "text/plain": [
       "   depth  width                     geometry  length       e\n",
       "0   12.5    300      LINESTRING (0 0, 100 0)   100.0  (0, 1)\n",
       "1   12.5    300    LINESTRING (100 0, 200 0)   100.0  (1, 2)\n",
       "2   12.5    300  LINESTRING (100 0, 100 100)   100.0  (1, 3)"
      ]
     },
     "execution_count": 4,
     "metadata": {},
     "output_type": "execute_result"
    }
   ],
   "source": [
    "edges = []\n",
    "for e in edge_indices:\n",
    "    edge_geometry = shapely.geometry.LineString([points[e[0]], points[e[1]]])\n",
    "    edge_properties = dict(\n",
    "        depth=12.5, \n",
    "        width=300, \n",
    "        geometry=edge_geometry, \n",
    "        length=edge_geometry.length,\n",
    "        e=tuple(e)\n",
    "    )\n",
    "    edges.append(edge_properties)\n",
    "pd.DataFrame(edges)"
   ]
  },
  {
   "cell_type": "code",
   "execution_count": 5,
   "id": "3594c257",
   "metadata": {},
   "outputs": [
    {
     "data": {
      "image/png": "[encoded data removed]",
      "text/plain": [
       "<Figure size 432x288 with 1 Axes>"
      ]
     },
     "metadata": {},
     "output_type": "display_data"
    }
   ],
   "source": [
    "graph = nx.DiGraph()\n",
    "\n",
    "for node in nodes:\n",
    "    graph.add_node(node['node_i'], **node)\n",
    "    \n",
    "# Add up and downstream\n",
    "for edge in edges:\n",
    "    graph.add_edge(edge['e'][0], edge['e'][1], **edge)\n",
    "    graph.add_edge(edge['e'][1], edge['e'][0], **edge)\n",
    "\n",
    "pos = {\n",
    "    node['node_i']: (node['x'], node['y']) \n",
    "    for node \n",
    "    in nodes\n",
    "}\n",
    "\n",
    "nx.draw_networkx(graph, pos=pos)\n"
   ]
  },
  {
   "cell_type": "code",
   "execution_count": 6,
   "id": "81b42758",
   "metadata": {},
   "outputs": [
    {
     "data": {
      "text/html": [
       "<div>\n",
       "<style scoped>\n",
       "    .dataframe tbody tr th:only-of-type {\n",
       "        vertical-align: middle;\n",
       "    }\n",
       "\n",
       "    .dataframe tbody tr th {\n",
       "        vertical-align: top;\n",
       "    }\n",
       "\n",
       "    .dataframe thead th {\n",
       "        text-align: right;\n",
       "    }\n",
       "</style>\n",
       "<table border=\"1\" class=\"dataframe\">\n",
       "  <thead>\n",
       "    <tr style=\"text-align: right;\">\n",
       "      <th></th>\n",
       "      <th>rws_type</th>\n",
       "      <th>fuel</th>\n",
       "      <th>H2</th>\n",
       "      <th>Battery</th>\n",
       "      <th>E-LNG</th>\n",
       "      <th>E-Methanol</th>\n",
       "    </tr>\n",
       "  </thead>\n",
       "  <tbody>\n",
       "    <tr>\n",
       "      <th>0</th>\n",
       "      <td>M8</td>\n",
       "      <td>3000</td>\n",
       "      <td>999000</td>\n",
       "      <td>3300</td>\n",
       "      <td>432000</td>\n",
       "      <td>165900</td>\n",
       "    </tr>\n",
       "  </tbody>\n",
       "</table>\n",
       "</div>"
      ],
      "text/plain": [
       "  rws_type  fuel      H2  Battery   E-LNG  E-Methanol\n",
       "0       M8  3000  999000     3300  432000      165900"
      ]
     },
     "execution_count": 6,
     "metadata": {},
     "output_type": "execute_result"
    }
   ],
   "source": [
    "row = {\n",
    "    \"rws_type\": \"M8\",\n",
    "    \"fuel\": 3000,\n",
    "    \"H2\": 999000,\n",
    "    \"Battery\": 3300,\n",
    "    \"E-LNG\": 432000,\n",
    "    \"E-Methanol\": 165900\n",
    "}\n",
    "rows = [row]\n",
    "ships = pd.DataFrame(rows)\n",
    "ships"
   ]
  },
  {
   "cell_type": "code",
   "execution_count": 7,
   "id": "c7da9f55",
   "metadata": {},
   "outputs": [],
   "source": [
    "def split_edge(edge, distance=20):\n",
    "    \"\"\"compute points (list of shapely points) and edges ({e: linestring}) that we can use to replace an edge by points in between\"\"\"\n",
    "    distances = np.arange(0, edge['geometry'].length + distance, distance)\n",
    "    \n",
    "    # The determine the points based on the distances\n",
    "    points = [\n",
    "        edge['geometry'].interpolate(distance) \n",
    "        for distance \n",
    "        in distances\n",
    "    ]\n",
    "    \n",
    "    edges = {}\n",
    "    # loop over the start, end point pairs\n",
    "    edge_pairs = list(\n",
    "        zip(\n",
    "            points[:-1], \n",
    "            points[1:]\n",
    "        )\n",
    "    )\n",
    "    for edge_i, (point_a, point_b) in enumerate(edge_pairs):    \n",
    "        edge_geometry = shapely.geometry.LineString([point_a, point_b])\n",
    "        node_a = edge_i\n",
    "        node_b = edge_i + 1\n",
    "        edges[(node_a, node_b)] = edge_geometry\n",
    "    return points, edges\n",
    "\n",
    "def split_and_replace_edge(graph, edge, distance=20):\n",
    "    \"\"\"remove edge from the network and replace it by points in between\"\"\"\n",
    "    # Remember the edge to remove\n",
    "    e_replace = edge['e']\n",
    "    # determine the points that we want to intersect\n",
    "    intersection_points, intersection_edges = split_edge(edge, distance=distance)\n",
    "    # Try and remove the previous edges, if it fails, that's ok\n",
    "    try:\n",
    "        graph.remove_edge(e_replace[0], e_replace[1])\n",
    "    except nx.NetworkXError:\n",
    "        pass\n",
    "    # also remove the oposite edge direction\n",
    "    try:\n",
    "        graph.remove_edge(e_replace[1], e_replace[0])\n",
    "    except nx.NetworkXError:\n",
    "        pass\n",
    "\n",
    "    # start at the start of our replaced edge\n",
    "    nodes = [graph.nodes[e_replace[0]]]\n",
    "    # all the points in between\n",
    "    for node_i, point in enumerate(intersection_points[1:-1]):\n",
    "        node_id = f'{e_replace[0]}-{node_i}-{e_replace[1]}'\n",
    "        node_properties = dict(\n",
    "            geometry=point,\n",
    "            x=point.x,\n",
    "            y=point.y,\n",
    "            node_i=node_id\n",
    "        )\n",
    "        nodes.append(node_properties)\n",
    "    # end at the end of our edge\n",
    "    nodes.append(graph.nodes[e_replace[1]])\n",
    "\n",
    "    # add all the node properties, skip first and last, because they already exist\n",
    "    for node in nodes[1:-1]:\n",
    "        node_i = node['node_i']\n",
    "        pos[node_i] = [node['x'], node['y']]\n",
    "        # add the nodes in between\n",
    "        graph.add_node(node_i, **node)\n",
    "        \n",
    "\n",
    "    # now loop over all the node pairs in between our edge\n",
    "    edges = []\n",
    "    for node_a, node_b in zip(nodes[:-1], nodes[1:]):\n",
    "        # this is our new edge\n",
    "        e = (node_a['node_i'], node_b['node_i'])\n",
    "        # create a new geometry\n",
    "        edge_geometry = shapely.geometry.LineString([\n",
    "            node_a['geometry'], \n",
    "            node_b['geometry']\n",
    "        ])\n",
    "        # we might want to copy the old properties\n",
    "        # for now this is hard coded\n",
    "        # at least replace e, edge_geometry\n",
    "        edge_properties = dict(\n",
    "            depth=12.5, \n",
    "            width=300, \n",
    "            geometry=edge_geometry, \n",
    "            length=edge_geometry.length,\n",
    "            e=tuple(e)\n",
    "        )\n",
    "        edges.append(edge_properties)\n",
    "\n",
    "    # now that we have all our edges computed\n",
    "    for edge in edges:\n",
    "        # insert them in two directions\n",
    "        e = edge['e']\n",
    "        graph.add_edge(e[0], e[1], **edge)\n",
    "        graph.add_edge(e[1], e[0], **edge)\n"
   ]
  },
  {
   "cell_type": "code",
   "execution_count": 8,
   "id": "6cd5aaeb",
   "metadata": {},
   "outputs": [],
   "source": [
    "        \n",
    "split_and_replace_edge(graph, edges[0], distance=20)\n",
    "split_and_replace_edge(graph, edges[1], distance=20)"
   ]
  },
  {
   "cell_type": "code",
   "execution_count": 9,
   "id": "53eec2b2",
   "metadata": {},
   "outputs": [
    {
     "data": {
      "image/png": "[encoded data removed]",
      "text/plain": [
       "<Figure size 936x576 with 1 Axes>"
      ]
     },
     "metadata": {},
     "output_type": "display_data"
    }
   ],
   "source": [
    "fig, ax = plt.subplots(figsize=(13, 8))\n",
    "nx.draw_networkx(graph, pos=pos, ax=ax)"
   ]
  },
  {
   "cell_type": "code",
   "execution_count": null,
   "id": "e932a601",
   "metadata": {},
   "outputs": [],
   "source": []
  }
 ],
 "metadata": {
  "kernelspec": {
   "display_name": "Python 3 (ipykernel)",
   "language": "python",
   "name": "python3"
  },
  "language_info": {
   "codemirror_mode": {
    "name": "ipython",
    "version": 3
   },
   "file_extension": ".py",
   "mimetype": "text/x-python",
   "name": "python",
   "nbconvert_exporter": "python",
   "pygments_lexer": "ipython3",
   "version": "3.9.10"
  }
 },
 "nbformat": 4,
 "nbformat_minor": 5
}
