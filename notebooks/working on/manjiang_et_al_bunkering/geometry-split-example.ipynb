{
 "cells": [
  {
   "cell_type": "code",
   "execution_count": 8,
   "id": "b10444f2",
   "metadata": {},
   "outputs": [],
   "source": [
    "import networkx\n",
    "import shapely.geometry\n",
    "import numpy as np\n",
    "import networkx as nx"
   ]
  },
  {
   "cell_type": "code",
   "execution_count": 9,
   "id": "dbc2c89c",
   "metadata": {},
   "outputs": [
    {
     "data": {
      "image/svg+xml": [
       "<svg xmlns=\"http://www.w3.org/2000/svg\" xmlns:xlink=\"http://www.w3.org/1999/xlink\" width=\"100.0\" height=\"100.0\" viewBox=\"0.96 -0.04 1.08 0.08\" preserveAspectRatio=\"xMinYMin meet\"><g transform=\"matrix(1,0,0,-1,0,0.0)\"><polyline fill=\"none\" stroke=\"#66cc99\" stroke-width=\"0.0216\" points=\"1.0,0.0 2.0,0.0\" opacity=\"0.8\" /></g></svg>"
      ],
      "text/plain": [
       "<shapely.geometry.linestring.LineString at 0x11f3bcfa0>"
      ]
     },
     "execution_count": 9,
     "metadata": {},
     "output_type": "execute_result"
    }
   ],
   "source": [
    "a = [1, 0]\n",
    "b = [2, 0]\n",
    "\n",
    "a_point = shapely.geometry.Point(*a )\n",
    "b_point = shapely.geometry.Point(b[0], b[1])\n",
    "edge_geometry = shapely.geometry.LineString([a_point, b_point])\n",
    "edge_geometry"
   ]
  },
  {
   "cell_type": "code",
   "execution_count": 10,
   "id": "6cd5aaeb",
   "metadata": {},
   "outputs": [
    {
     "data": {
      "text/plain": [
       "array([0. , 0.1, 0.2, 0.3, 0.4, 0.5, 0.6, 0.7, 0.8, 0.9, 1. ])"
      ]
     },
     "execution_count": 10,
     "metadata": {},
     "output_type": "execute_result"
    }
   ],
   "source": [
    "distance = 0.1\n",
    "distances = np.arange(0, edge_geometry.length + distance, distance)\n",
    "distances"
   ]
  },
  {
   "cell_type": "code",
   "execution_count": 11,
   "id": "53eec2b2",
   "metadata": {},
   "outputs": [],
   "source": [
    "# The determine the points based on the distances\n",
    "points = [\n",
    "    edge_geometry.interpolate(distance) \n",
    "    for distance \n",
    "    in distances\n",
    "]\n",
    "# Convert to Shapely geometry points\n",
    "points = shapely.geometry.MultiPoint(points)"
   ]
  },
  {
   "cell_type": "code",
   "execution_count": 30,
   "id": "9f3449ce",
   "metadata": {},
   "outputs": [],
   "source": [
    "edges = {}\n",
    "# loop over the start, end point pairs\n",
    "edge_pairs = list(\n",
    "    zip(\n",
    "        list(points.geoms)[:-1], \n",
    "        list(points.geoms)[1:]\n",
    "    )\n",
    ")\n",
    "for edge_i, (point_a, point_b) in enumerate(edge_pairs):    \n",
    "    edge = shapely.geometry.LineString([point_a, point_b])\n",
    "    node_a = edge_i\n",
    "    node_b = edge_i + 1\n",
    "    edges[(node_a, node_b)] = edge\n"
   ]
  },
  {
   "cell_type": "code",
   "execution_count": 32,
   "id": "cdeaecf9",
   "metadata": {},
   "outputs": [],
   "source": [
    "# Create the graph\n",
    "graph = nx.Graph()\n",
    "for node_i, geom in enumerate(points.geoms):\n",
    "    graph.add_node(i, geometry=geom)\n",
    "for (node_a, node_b), edge in edges.items():\n",
    "    graph.add_edge(node_a, node_b, geometry=edge)\n"
   ]
  },
  {
   "cell_type": "code",
   "execution_count": 34,
   "id": "4b501d9b",
   "metadata": {},
   "outputs": [
    {
     "data": {
      "image/png": "[encoded data removed]",
      "text/plain": [
       "<Figure size 432x288 with 1 Axes>"
      ]
     },
     "metadata": {},
     "output_type": "display_data"
    }
   ],
   "source": [
    "nx.draw_networkx(graph)"
   ]
  },
  {
   "cell_type": "code",
   "execution_count": null,
   "id": "e932a601",
   "metadata": {},
   "outputs": [],
   "source": []
  }
 ],
 "metadata": {
  "kernelspec": {
   "display_name": "Python 3 (ipykernel)",
   "language": "python",
   "name": "python3"
  },
  "language_info": {
   "codemirror_mode": {
    "name": "ipython",
    "version": 3
   },
   "file_extension": ".py",
   "mimetype": "text/x-python",
   "name": "python",
   "nbconvert_exporter": "python",
   "pygments_lexer": "ipython3",
   "version": "3.9.10"
  }
 },
 "nbformat": 4,
 "nbformat_minor": 5
}
