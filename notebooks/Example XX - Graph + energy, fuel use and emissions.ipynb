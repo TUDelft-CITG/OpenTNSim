{
 "cells": [
  {
   "cell_type": "markdown",
   "id": "7c12ef76",
   "metadata": {},
   "source": [
    "## Simplified graph with energy consumption, fuel use and emissions\n",
    "In this notebook, we set up a basic simulation where a vessel moves over a 1D netork path. We add some properties to the graph (depth, width) and the vessel (VesselProperties, ConsumesEnergy) in order to calculate resistance, required power, and emissions.\n",
    "OpenTNSim model run. \n",
    "\n",
    "We take the following steps:\n",
    "\n",
    "1. [Imports](#1.-Imports)\n",
    "2. [Create vessel](#2.-Create-vessel)\n",
    "3. [Create graph](#3.-Create-graph)\n",
    "4. [Run simulation](#4.-Run-simulation)\n",
    "5. [Inspect output](#5.-Inspect-output)"
   ]
  },
  {
   "cell_type": "markdown",
   "id": "43e95553",
   "metadata": {},
   "source": [
    "### 1. Imports\n",
    "We start with importing required libraries"
   ]
  },
  {
   "cell_type": "code",
   "execution_count": 1,
   "id": "98365d9a",
   "metadata": {},
   "outputs": [],
   "source": [
    "# package(s) used for creating and geo-locating the graph\n",
    "import networkx as nx  \n",
    "import shapely.geometry\n",
    "# import pyproj\n",
    "# import warnings\n",
    "\n",
    "# package(s) related to the simulation (creating the vessel, running the simulation)\n",
    "import datetime, time\n",
    "import simpy\n",
    "import opentnsim\n",
    "from opentnsim import core as core_module\n",
    "from opentnsim import vessel as vessel_module\n",
    "from opentnsim import energy as energy_module\n",
    "from opentnsim import output as output_module\n",
    "\n",
    "# # package(s) needed for data handling and inspecting the output\n",
    "# import numpy as np\n",
    "# import pandas as pd\n",
    "\n",
    "# package(s) needed for plotting\n",
    "import matplotlib.pyplot as plt\n",
    "# import plotly.express as px\n",
    "# from plotly.subplots import make_subplots\n",
    "\n",
    "# import logging\n",
    "# #logging.basicConfig(level=logging.DEBUG) #turn on all the debug messages\n",
    "# logging.basicConfig(level=logging.INFO)# turn off all the debug messages\n",
    "\n",
    "# from shapely.errors import ShapelyDeprecationWarning\n",
    "# warnings.filterwarnings(\"ignore\", category=ShapelyDeprecationWarning) \n",
    "\n",
    "\n",
    "# print('This notebook is executed with OpenTNSim version {}'.format(opentnsim.__version__))"
   ]
  },
  {
   "cell_type": "markdown",
   "id": "aad1799e",
   "metadata": {},
   "source": [
    "### 2. Create vessel\n",
    "We start with creating a vessel class. We call this class a *Vessel*, and add a number of OpenTNSim mix-ins to this class. Each mix-in requires certain input parameters. \n",
    "\n",
    "The following mix-ins are sufficient to create a vessel for our problem: \n",
    "* _Identifiable_ - allows to give the vessel a name and a random ID, \n",
    "* _Movable_ - allows the vessel to move, with a fixed speed, while logging this activity,\n",
    "   * Movable in turn relies on the mix-ins: _Locatable_, _Routeable_, and _Log_\n",
    "* _VesselProperties_ - allows to give the vessel specific properties, \n",
    "* _ConsumesEnergy_ - enables calculation of resistance, required power and emissions"
   ]
  },
  {
   "cell_type": "code",
   "execution_count": 2,
   "id": "b86be76e-e22e-42f1-b0b1-aa8e5ee6b03b",
   "metadata": {},
   "outputs": [],
   "source": [
    "#We create a type element that schematisizes a vessel\n",
    "def create_vessel(env, name, origin, destination, vessel_type, L, B, T, H, v, P_tot_given, arrival_time):\n",
    "    Vessel = type('Vessel',(core_module.Identifiable,       # The vessel should be identifiable\n",
    "                            core_module.SimpyObject,        #It should be a simpy element\n",
    "                            core_module.Movable,            # The vessel can move\n",
    "                            vessel_module.VesselProperties, # The vessel should have properties\n",
    "                            energy_module.ConsumesEnergy,   # The vessel consumes energy\n",
    "                            vessel_module.ExtraMetadata,    # The vessel can have extra metadata\n",
    "                            output_module.HasOutput,        # The vessel should have output\n",
    "                           ),{})  \n",
    "\n",
    "    node = env.FG.nodes[origin]\n",
    "    geometry = node[\"geometry\"]\n",
    "    \n",
    "    vessel = Vessel(\n",
    "        **{\n",
    "            \"env\": env,\n",
    "            \"name\": name,\n",
    "            \"origin\": origin,\n",
    "            \"destination\": destination,\n",
    "            \"geometry\": geometry,\n",
    "            \"node\": origin,\n",
    "            \"route\": nx.dijkstra_path(env.FG, origin, destination),\n",
    "            \"type\": vessel_type,\n",
    "            \"L\": L,\n",
    "            \"B\": B,\n",
    "            \"T\": T,\n",
    "            \"H_e\": None, \n",
    "            \"H_f\": None, \n",
    "            \"H\": H,\n",
    "            \"v\": v,\n",
    "            \"arrival_time\": arrival_time,\n",
    "            \"safety_margin\": 0.2, # for tanker vessel with sandy bed the safety margin is recommended as 0.2 m\n",
    "            \"h_squat\": True, # if consider the ship squatting while moving, set to True, otherwise set to False\n",
    "            \"P_installed\": 1750.0,\n",
    "            \"P_tot_given\": P_tot_given, # kW\n",
    "            \"bulbous_bow\": False, # if a vessel has no bulbous_bow, set to False; otherwise set to True.\n",
    "            \"P_hotel_perc\": 0.05,\n",
    "            \"P_hotel\": None, # None: calculate P_hotel from percentage\n",
    "            \"x\": 2,# number of propellers\n",
    "            \"L_w\": 3.0 ,\n",
    "            \"C_B\": 0.85, \n",
    "            \"C_year\": 1990,\n",
    "        }\n",
    "    )\n",
    "\n",
    "    env.process(vessel.move())\n",
    "    \n",
    "    return vessel"
   ]
  },
  {
   "cell_type": "markdown",
   "id": "204d9980",
   "metadata": {},
   "source": [
    "### 2. Create graph\n",
    "Next we create a 1D network (a graph) along which the vessel can move. A graph is made of nodes (blue dots in the plot below) and edges (red arrows between the nodes in the plot below). We use the python package networkx to do this. \n",
    "\n",
    "For this example, we construct a network of 4 nodes linked by 3 edges. The edges are made bi-directional to allow for two-way traffic, which means that the graph in the end contains 6 edges."
   ]
  },
  {
   "cell_type": "code",
   "execution_count": 3,
   "id": "7c0edd4f-2c87-45ad-8689-2286e9af24a8",
   "metadata": {},
   "outputs": [],
   "source": [
    "FG = nx.DiGraph()\n",
    "Node = type(\"Site\", (core_module.Identifiable, core_module.Log, core_module.Locatable, core_module.HasResource), {})\n",
    "\n",
    "# add nodes\n",
    "coordinates = [(0, 0), (0.8983,0), (1.7966,0), (2.6949,0)]\n",
    "for index, coord in enumerate(coordinates):\n",
    "    x, y = coord\n",
    "    geometry = shapely.geometry.Point(x, y)\n",
    "    node = Node(**{\"env\": [], \"name\": str(index), \"geometry\": geometry})\n",
    "    FG.add_node(node.name, geometry=node.geometry, name=str(index), Info={\"geometry\": geometry})\n",
    "\n",
    "# add edges\n",
    "edges = [(FG.nodes['0']['name'], FG.nodes['1']['name']), (FG.nodes['1']['name'], FG.nodes['0']['name']),\n",
    "         (FG.nodes['1']['name'], FG.nodes['2']['name']), (FG.nodes['2']['name'], FG.nodes['1']['name']),\n",
    "         (FG.nodes['2']['name'], FG.nodes['3']['name']), (FG.nodes['3']['name'], FG.nodes['2']['name'])]\n",
    "\n",
    "# for each edge (between above coordinates) specify the depth (m)\n",
    "depths = [6, 6, 4.5, 4.5, 6, 6]\n",
    "for index, edge in enumerate(edges):\n",
    "    edge\n",
    "    geometry = shapely.LineString([FG.nodes['0'][\"geometry\"], FG.nodes['1'][\"geometry\"]])\n",
    "\n",
    "    FG.add_edge(\n",
    "        edge[0],\n",
    "        edge[1],\n",
    "        weight=1,\n",
    "        geometry=geometry,\n",
    "        Info={\"GeneralDepth\": depths[index]},\n",
    "    )"
   ]
  },
  {
   "cell_type": "code",
   "execution_count": 4,
   "id": "844815c7-aca2-4707-8e17-812c6a283b66",
   "metadata": {},
   "outputs": [],
   "source": [
    "# collect node positions and labels\n",
    "nodes = []\n",
    "coordinates = []\n",
    "labels = {}\n",
    "\n",
    "for node in FG.nodes:\n",
    "    nodes.append(node)\n",
    "    coordinates.append([nx.get_node_attributes(FG, 'geometry')[node].x, nx.get_node_attributes(FG, 'geometry')[node].y])\n",
    "    labels[node] = node\n",
    "    \n",
    "positions = dict(zip(nodes, coordinates))"
   ]
  },
  {
   "cell_type": "code",
   "execution_count": 5,
   "id": "7b475652-a188-4208-a72c-6a9da684f721",
   "metadata": {},
   "outputs": [
    {
     "data": {
      "image/png": "[encoded data removed]",
      "text/plain": [
       "<Figure size 640x480 with 1 Axes>"
      ]
     },
     "metadata": {},
     "output_type": "display_data"
    }
   ],
   "source": [
    "# draw edges, nodes and labels\n",
    "nx.draw_networkx_edges(FG, pos=positions, width=3, edge_color=\"red\", alpha=1, arrowsize=20)\n",
    "nx.draw_networkx_nodes(FG, pos=positions, node_color=\"darkblue\", node_size=600)\n",
    "nx.draw_networkx_labels(FG, pos=positions, labels=labels, font_size=15, font_weight=\"bold\", font_color=\"white\")\n",
    "\n",
    "plt.axis(\"off\")\n",
    "plt.show()"
   ]
  },
  {
   "cell_type": "code",
   "execution_count": 6,
   "id": "669f8431",
   "metadata": {},
   "outputs": [
    {
     "name": "stdout",
     "output_type": "stream",
     "text": [
      "General depth for edge ('0', '1') is 6\n",
      "General depth for edge ('1', '0') is 6\n",
      "General depth for edge ('1', '2') is 4.5\n",
      "General depth for edge ('2', '1') is 4.5\n",
      "General depth for edge ('2', '3') is 6\n",
      "General depth for edge ('3', '2') is 6\n"
     ]
    }
   ],
   "source": [
    "# This cell just shows that now a depth of 10 m is added to the edges. \n",
    "# You can use this to vary depths, e.g. make the middle edge shallower. Note that edges are bi-directional \n",
    "for edge in FG.edges:\n",
    "    print('General depth for edge {} is {}'.format(edge, FG.get_edge_data(edge[0], edge[1])[\"Info\"][\"GeneralDepth\"]))"
   ]
  },
  {
   "cell_type": "markdown",
   "id": "23a32375",
   "metadata": {},
   "source": [
    "### 4. Run simulation\n",
    "Now we can define the run. After we define the path that the vessel will sail, we make an environment and add the graph to the environment. Then we add one vessel, to which we will append the environment and the route. Lastly, we give the vessel the process of moving from the origin to the destination of the defined path and subsequently run the model."
   ]
  },
  {
   "cell_type": "code",
   "execution_count": 7,
   "id": "e9e622df-bfa0-493b-818f-340d0f45669b",
   "metadata": {},
   "outputs": [],
   "source": [
    "# Start simpy environment\n",
    "t_start = datetime.datetime(2024, 1, 1, 0, 0, 0)\n",
    "\n",
    "env = simpy.Environment(initial_time=t_start.timestamp())\n",
    "\n",
    "env.epoch = t_start\n",
    "env.simulation_start = t_start\n",
    "\n",
    "# Add graph to environment\n",
    "env.FG = FG\n",
    "\n",
    "vessel_1 = create_vessel(env, 'Vessel_1', '0', '3', 'inland vessel', 100, 15, 5, 4, 3, None, datetime.datetime(2024, 1, 1, 0, 0, 0))"
   ]
  },
  {
   "cell_type": "code",
   "execution_count": 8,
   "id": "2d7fec17-036a-42a8-b789-178aef4fc21e",
   "metadata": {},
   "outputs": [
    {
     "ename": "TypeError",
     "evalue": "'int' object is not subscriptable",
     "output_type": "error",
     "traceback": [
      "\u001b[0;31m---------------------------------------------------------------------------\u001b[0m",
      "\u001b[0;31mTypeError\u001b[0m                                 Traceback (most recent call last)",
      "File \u001b[0;32m~/Library/CloudStorage/OneDrive-DelftUniversityofTechnology/github/OpenTNSim/opentnsim/core.py:228\u001b[0m, in \u001b[0;36mMovable.move\u001b[0;34m(self)\u001b[0m\n\u001b[1;32m    227\u001b[0m destination \u001b[38;5;241m=\u001b[39m \u001b[38;5;28mself\u001b[39m\u001b[38;5;241m.\u001b[39mnext_node\n\u001b[0;32m--> 228\u001b[0m k \u001b[38;5;241m=\u001b[39m \u001b[38;5;28msorted\u001b[39m(\u001b[38;5;28mself\u001b[39m\u001b[38;5;241m.\u001b[39menv\u001b[38;5;241m.\u001b[39mFG[origin][destination],key\u001b[38;5;241m=\u001b[39m\u001b[38;5;28;01mlambda\u001b[39;00m x: \u001b[38;5;28mself\u001b[39m\u001b[38;5;241m.\u001b[39menv\u001b[38;5;241m.\u001b[39mFG[origin][destination][x][\u001b[38;5;124m'\u001b[39m\u001b[38;5;124mgeometry\u001b[39m\u001b[38;5;124m'\u001b[39m]\u001b[38;5;241m.\u001b[39mlength)[\u001b[38;5;241m0\u001b[39m]\n\u001b[1;32m    229\u001b[0m status_report \u001b[38;5;241m=\u001b[39m \u001b[38;5;28mself\u001b[39m\u001b[38;5;241m.\u001b[39mupdate_sailing_status_report(origin, destination,(origin, destination, k))\n",
      "File \u001b[0;32m~/Library/CloudStorage/OneDrive-DelftUniversityofTechnology/github/OpenTNSim/opentnsim/core.py:228\u001b[0m, in \u001b[0;36mMovable.move.<locals>.<lambda>\u001b[0;34m(x)\u001b[0m\n\u001b[1;32m    227\u001b[0m destination \u001b[38;5;241m=\u001b[39m \u001b[38;5;28mself\u001b[39m\u001b[38;5;241m.\u001b[39mnext_node\n\u001b[0;32m--> 228\u001b[0m k \u001b[38;5;241m=\u001b[39m \u001b[38;5;28msorted\u001b[39m(\u001b[38;5;28mself\u001b[39m\u001b[38;5;241m.\u001b[39menv\u001b[38;5;241m.\u001b[39mFG[origin][destination],key\u001b[38;5;241m=\u001b[39m\u001b[38;5;28;01mlambda\u001b[39;00m x: \u001b[38;5;28mself\u001b[39m\u001b[38;5;241m.\u001b[39menv\u001b[38;5;241m.\u001b[39mFG[origin][destination][x][\u001b[38;5;124m'\u001b[39m\u001b[38;5;124mgeometry\u001b[39m\u001b[38;5;124m'\u001b[39m]\u001b[38;5;241m.\u001b[39mlength)[\u001b[38;5;241m0\u001b[39m]\n\u001b[1;32m    229\u001b[0m status_report \u001b[38;5;241m=\u001b[39m \u001b[38;5;28mself\u001b[39m\u001b[38;5;241m.\u001b[39mupdate_sailing_status_report(origin, destination,(origin, destination, k))\n",
      "\u001b[0;31mTypeError\u001b[0m: 'int' object is not subscriptable",
      "\nThe above exception was the direct cause of the following exception:\n",
      "\u001b[0;31mTypeError\u001b[0m                                 Traceback (most recent call last)",
      "Cell \u001b[0;32mIn[8], line 1\u001b[0m\n\u001b[0;32m----> 1\u001b[0m env\u001b[38;5;241m.\u001b[39mrun()\n",
      "File \u001b[0;32m/opt/anaconda3/envs/gdal/lib/python3.11/site-packages/simpy/core.py:246\u001b[0m, in \u001b[0;36mEnvironment.run\u001b[0;34m(self, until)\u001b[0m\n\u001b[1;32m    244\u001b[0m \u001b[38;5;28;01mtry\u001b[39;00m:\n\u001b[1;32m    245\u001b[0m     \u001b[38;5;28;01mwhile\u001b[39;00m \u001b[38;5;28;01mTrue\u001b[39;00m:\n\u001b[0;32m--> 246\u001b[0m         \u001b[38;5;28mself\u001b[39m\u001b[38;5;241m.\u001b[39mstep()\n\u001b[1;32m    247\u001b[0m \u001b[38;5;28;01mexcept\u001b[39;00m StopSimulation \u001b[38;5;28;01mas\u001b[39;00m exc:\n\u001b[1;32m    248\u001b[0m     \u001b[38;5;28;01mreturn\u001b[39;00m exc\u001b[38;5;241m.\u001b[39margs[\u001b[38;5;241m0\u001b[39m]  \u001b[38;5;66;03m# == until.value\u001b[39;00m\n",
      "File \u001b[0;32m/opt/anaconda3/envs/gdal/lib/python3.11/site-packages/simpy/core.py:204\u001b[0m, in \u001b[0;36mEnvironment.step\u001b[0;34m(self)\u001b[0m\n\u001b[1;32m    202\u001b[0m exc \u001b[38;5;241m=\u001b[39m \u001b[38;5;28mtype\u001b[39m(event\u001b[38;5;241m.\u001b[39m_value)(\u001b[38;5;241m*\u001b[39mevent\u001b[38;5;241m.\u001b[39m_value\u001b[38;5;241m.\u001b[39margs)\n\u001b[1;32m    203\u001b[0m exc\u001b[38;5;241m.\u001b[39m__cause__ \u001b[38;5;241m=\u001b[39m event\u001b[38;5;241m.\u001b[39m_value\n\u001b[0;32m--> 204\u001b[0m \u001b[38;5;28;01mraise\u001b[39;00m exc\n",
      "\u001b[0;31mTypeError\u001b[0m: 'int' object is not subscriptable"
     ]
    }
   ],
   "source": [
    "env.run()"
   ]
  },
  {
   "cell_type": "markdown",
   "id": "01f146cc-e4c7-427c-a53d-b0b2d62bd0c1",
   "metadata": {},
   "source": [
    "The energy calculation is performed as a postprocessing step. It requires is input the graph (to acquire information on the water depth) and the vessel log data that was generated during the move activity. The energy use is stored as a dict under _energy_use_ in the energycalculation object."
   ]
  },
  {
   "cell_type": "code",
   "execution_count": null,
   "id": "96516e44-d71e-4ca5-9d73-6ca5bfd5c7e2",
   "metadata": {},
   "outputs": [],
   "source": [
    "energycalculation = opentnsim.energy.EnergyCalculation(env.FG, vessel_1)\n",
    "energycalculation.calculate_energy_consumption()"
   ]
  },
  {
   "cell_type": "markdown",
   "id": "05878f0e",
   "metadata": {},
   "source": [
    "### 5. Inspect output\n",
    "We can now analyse the simulation output by inspecting the data in _energy_use_ in the energycalculation object. For convenient inspection it can be loaded into a Pandas dataframe. "
   ]
  },
  {
   "cell_type": "code",
   "execution_count": null,
   "id": "22813834-a789-4846-b73b-8fba59a5ed7b",
   "metadata": {},
   "outputs": [],
   "source": [
    "# create dataframe from energy calculation computation\n",
    "df = pd.DataFrame.from_dict(energycalculation.energy_use)\n",
    "df"
   ]
  },
  {
   "cell_type": "code",
   "execution_count": null,
   "id": "d4765b5c-90f0-48ff-9563-650484e8106e",
   "metadata": {},
   "outputs": [],
   "source": [
    "df['fuel_kg_per_km'] = (df['total_diesel_consumption_ICE_mass'] / 1000) / (df['distance']/1000)\n",
    "df['CO2_g_per_km']   = (df['total_emission_CO2']) / (df['distance']/1000)\n",
    "df['PM10_g_per_km']  = (df['total_emission_PM10']) / (df['distance']/1000)\n",
    "df['NOx_g_per_km']   = (df['total_emission_NOX']) / (df['distance']/1000)\n",
    "df"
   ]
  },
  {
   "cell_type": "code",
   "execution_count": null,
   "id": "8b8343b4-0df4-4c8a-ae26-ee4acfb57d54",
   "metadata": {},
   "outputs": [],
   "source": [
    "plt.bar(df.index,df.total_energy)\n",
    "plt.ylabel('section transit energy [kWh]')\n",
    "plt.xlabel('section')\n",
    "plt.xticks([0,1,2]);"
   ]
  },
  {
   "cell_type": "raw",
   "id": "d4e90a7c-0e16-4a26-8dbf-cf3dd42010a8",
   "metadata": {},
   "source": [
    "durations=[]\n",
    "for index, row in df.iterrows():\n",
    "    durations.append((df.time_stop[index]-df.time_start)[index].total_seconds()/60)\n",
    "durations"
   ]
  },
  {
   "cell_type": "code",
   "execution_count": null,
   "id": "ec55a9a7-968b-4373-aa4c-1eaba38444f7",
   "metadata": {},
   "outputs": [],
   "source": [
    "plt.bar(df.index,durations)\n",
    "plt.ylabel('section transit time [mins]')\n",
    "plt.xlabel('section')\n",
    "plt.xticks([0,1,2]);"
   ]
  }
 ],
 "metadata": {
  "kernelspec": {
   "display_name": "Python 3 (ipykernel)",
   "language": "python",
   "name": "python3"
  },
  "language_info": {
   "codemirror_mode": {
    "name": "ipython",
    "version": 3
   },
   "file_extension": ".py",
   "mimetype": "text/x-python",
   "name": "python",
   "nbconvert_exporter": "python",
   "pygments_lexer": "ipython3",
   "version": "3.11.8"
  }
 },
 "nbformat": 4,
 "nbformat_minor": 5
}
