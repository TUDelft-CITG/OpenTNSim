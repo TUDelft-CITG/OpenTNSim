{
 "cells": [
  {
   "cell_type": "code",
   "execution_count": 1,
   "id": "9be58ae3-1b09-4527-b47b-87d8e256ad64",
   "metadata": {},
   "outputs": [
    {
     "name": "stdout",
     "output_type": "stream",
     "text": [
      "(10, 80, 90)\n"
     ]
    }
   ],
   "source": [
    "a= (10, 80, 90)\n",
    "print (a)"
   ]
  },
  {
   "cell_type": "code",
   "execution_count": 2,
   "id": "107fa284-73c3-4b9a-9571-4d99fa94d07a",
   "metadata": {},
   "outputs": [
    {
     "name": "stdout",
     "output_type": "stream",
     "text": [
      "[1, 2, 3, 4, 5, 6, 7, 8, 9]\n"
     ]
    }
   ],
   "source": [
    "x = list(range(1, 10, 1))\n",
    "print(x)"
   ]
  },
  {
   "cell_type": "code",
   "execution_count": 3,
   "id": "f8d65e4b-f7e3-4e79-a897-c9a788cdd2a2",
   "metadata": {},
   "outputs": [
    {
     "name": "stdout",
     "output_type": "stream",
     "text": [
      "6\n",
      "7\n",
      "8\n",
      "9\n",
      "10\n",
      "11\n",
      "12\n",
      "13\n",
      "14\n"
     ]
    }
   ],
   "source": [
    "for x in list(range(1,10)):\n",
    "    print(x+5)"
   ]
  },
  {
   "cell_type": "code",
   "execution_count": 4,
   "id": "11415848-0b76-4080-b1af-0b744f05acd8",
   "metadata": {},
   "outputs": [],
   "source": [
    "def lam_or_unstable_or_turbul(V,Ls,ν):\n",
    "    \"\"\"Check type of flow.\"\"\"\n",
    "    Re =(V * Ls)/ ν\n",
    "    print(Re)\n",
    "    if Re<=2000:\n",
    "        return \"laminar\"\n",
    "    if Re>=4000: \n",
    "        return \"turbulent\"\n",
    "    else: # unstable flow\n",
    "        return \"unstable\"\n",
    "    print(lam_or_unstable_or_turbul)\n",
    "    return"
   ]
  },
  {
   "cell_type": "code",
   "execution_count": 5,
   "id": "678a919a-1bf9-4309-a06e-32f657beb139",
   "metadata": {},
   "outputs": [
    {
     "name": "stdout",
     "output_type": "stream",
     "text": [
      "30.0\n",
      "laminar\n"
     ]
    }
   ],
   "source": [
    "F= lam_or_unstable_or_turbul(V=3,Ls=100,ν=10)\n",
    "print (F)"
   ]
  }
 ],
 "metadata": {
  "kernelspec": {
   "display_name": "Python 3 (ipykernel)",
   "language": "python",
   "name": "python3"
  },
  "language_info": {
   "codemirror_mode": {
    "name": "ipython",
    "version": 3
   },
   "file_extension": ".py",
   "mimetype": "text/x-python",
   "name": "python",
   "nbconvert_exporter": "python",
   "pygments_lexer": "ipython3",
   "version": "3.9.13"
  }
 },
 "nbformat": 4,
 "nbformat_minor": 5
}
