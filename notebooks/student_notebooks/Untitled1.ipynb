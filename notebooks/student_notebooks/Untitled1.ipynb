{
 "cells": [
  {
   "cell_type": "code",
   "execution_count": 1,
   "id": "1503cb42-2954-4e88-9f5c-2543cec629cb",
   "metadata": {},
   "outputs": [],
   "source": [
    "# package(s) related to time, space and id\n",
    "import datetime\n",
    "\n",
    "# Used for mathematical functions\n",
    "import math\n",
    "import platform\n",
    "import time\n",
    "\n",
    "import matplotlib.pyplot as plt\n",
    "\n",
    "# Used for making the graph to visualize our problem\n",
    "import networkx as nx\n",
    "\n",
    "# package(s) for data handling\n",
    "import numpy as np\n",
    "import pandas as pd\n",
    "\n",
    "# spatial libraries\n",
    "import pyproj\n",
    "import shapely.geometry\n",
    "\n",
    "# you need these dependencies (you can get these from anaconda)\n",
    "# package(s) related to the simulation\n",
    "import simpy\n",
    "from simplekml import Kml, Style\n",
    "\n",
    "# OpenTNSim\n",
    "import opentnsim"
   ]
  },
  {
   "cell_type": "code",
   "execution_count": 2,
   "id": "a1d2e670-5bad-4b21-bd82-d1affa1f21b9",
   "metadata": {},
   "outputs": [
    {
     "name": "stdout",
     "output_type": "stream",
     "text": [
      "not effect on ship\n"
     ]
    }
   ],
   "source": [
    "#Classification of water\n",
    "h=5 #thelw na fortwsw pinaka na pairnei ta dedomena vathymetrias apo ola ta kanalia ths ollandias \n",
    "T=1.5 #thelw na valw lista me ola ta pithana draft\n",
    "if  h/T>3:# Deep water\n",
    "    print (\"not effect on ship\")\n",
    "    \n",
    "elif h/T<1.5 and  h/T>1.2: #Shallow water\n",
    "    print (\"very significant effect on ships\")\n",
    "    \n",
    "if  h/T<=1.2: # Very shallow water\n",
    "    print (\"water motion dominates ship\")"
   ]
  }
 ],
 "metadata": {
  "kernelspec": {
   "display_name": "Python 3 (ipykernel)",
   "language": "python",
   "name": "python3"
  },
  "language_info": {
   "codemirror_mode": {
    "name": "ipython",
    "version": 3
   },
   "file_extension": ".py",
   "mimetype": "text/x-python",
   "name": "python",
   "nbconvert_exporter": "python",
   "pygments_lexer": "ipython3",
   "version": "3.9.13"
  }
 },
 "nbformat": 4,
 "nbformat_minor": 5
}
