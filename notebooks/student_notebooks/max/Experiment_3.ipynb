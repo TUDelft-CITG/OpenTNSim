{
 "cells": [
  {
   "cell_type": "code",
   "execution_count": 1,
   "id": "5b6659a2",
   "metadata": {},
   "outputs": [
    {
     "name": "stderr",
     "output_type": "stream",
     "text": [
      "/Users/baart_f/.virtualenvs/opentnsim/lib/python3.9/site-packages/geopandas/_compat.py:111: UserWarning: The Shapely GEOS version (3.11.1-CAPI-1.17.1) is incompatible with the GEOS version PyGEOS was compiled with (3.10.1-CAPI-1.16.0). Conversions between both will be slow.\n",
      "  warnings.warn(\n"
     ]
    }
   ],
   "source": [
    "import datetime\n",
    "import math\n",
    "import pickle\n",
    "import string\n",
    "import time\n",
    "\n",
    "\n",
    "import numpy as np\n",
    "import networkx as nx\n",
    "import pandas as pd\n",
    "import geopandas as gpd\n",
    "import shapely.geometry\n",
    "import matplotlib.pyplot as plt\n",
    "import momepy\n",
    "import simpy\n",
    "import opentnsim.core as core\n",
    "import pyproj\n"
   ]
  },
  {
   "cell_type": "code",
   "execution_count": 2,
   "id": "51f235a4",
   "metadata": {},
   "outputs": [],
   "source": [
    "route_gdf = gpd.read_file('./experiment3/route.geojson')\n",
    "# do not add d-h\n",
    "add_d_h_edge = False"
   ]
  },
  {
   "cell_type": "code",
   "execution_count": 3,
   "id": "10eb61a7",
   "metadata": {},
   "outputs": [],
   "source": [
    "geometry_d = route_gdf.set_index('node').loc['D']['geometry']\n",
    "geometry_h = route_gdf.query(\"node == 'H'\").iloc[0]['geometry']"
   ]
  },
  {
   "cell_type": "code",
   "execution_count": 4,
   "id": "2d779c9c",
   "metadata": {},
   "outputs": [],
   "source": [
    "edges = []\n",
    "\n",
    "for (_, row_a), (_, row_b) in zip(route_gdf.iloc[:-1].iterrows(), route_gdf.iloc[1:].iterrows()):\n",
    "    e = row_a['node'], row_b['node']\n",
    "    edge = {\n",
    "        'e': e,\n",
    "        'source': row_a['node'],\n",
    "        'target': row_b['node'],\n",
    "        'geometry': shapely.geometry.LineString([row_a['geometry'], row_b['geometry']])\n",
    "    }\n",
    "    edges.append(edge)\n",
    "if add_d_h_edge:\n",
    "    edge = {\n",
    "        'e': ('D', 'H'),\n",
    "        'source': 'D',\n",
    "        'target': 'H',\n",
    "        'geometry': shapely.geometry.LineString([geometry_d, geometry_h])\n",
    "    }\n",
    "    edges.append(edge)\n",
    "edges_gdf = gpd.GeoDataFrame(edges)\n",
    "nodes_gdf = route_gdf.copy()\n",
    "nodes_gdf['n'] = nodes_gdf.apply(lambda row: row['node'], axis=1)\n"
   ]
  },
  {
   "cell_type": "code",
   "execution_count": 5,
   "id": "5391cac0",
   "metadata": {},
   "outputs": [
    {
     "data": {
      "text/plain": [
       "{'e': ('A', 'B'),\n",
       " 'geometry': <LINESTRING (4.372 52.001, 4.372 52.001)>,\n",
       " 'Info': {'GeneralDepth': 6}}"
      ]
     },
     "execution_count": 5,
     "metadata": {},
     "output_type": "execute_result"
    }
   ],
   "source": [
    "graph = nx.from_pandas_edgelist(edges_gdf, edge_attr=True)\n",
    "nodes_gdf.apply(lambda row: graph.nodes[row.n].update(row), axis=1);\n",
    "\n",
    "for e, edge in graph.edges.items():\n",
    "    # make all edges 6m deep\n",
    "    edge['Info'] = {\"GeneralDepth\": 6}\n",
    "    \n",
    "graph.edges[('A', 'B')]"
   ]
  },
  {
   "cell_type": "code",
   "execution_count": 6,
   "id": "94b6f2ee",
   "metadata": {},
   "outputs": [
    {
     "data": {
      "text/plain": [
       "<AxesSubplot:>"
      ]
     },
     "execution_count": 6,
     "metadata": {},
     "output_type": "execute_result"
    },
    {
     "data": {
      "image/png": "[encoded data removed]",
      "text/plain": [
       "<Figure size 936x576 with 1 Axes>"
      ]
     },
     "metadata": {
      "needs_background": "light"
     },
     "output_type": "display_data"
    }
   ],
   "source": [
    "# This is the spatial figure\n",
    "fig, ax = plt.subplots(figsize=(13, 8))\n",
    "edges_gdf.plot(ax=ax)\n",
    "nodes_gdf.plot(ax=ax)"
   ]
  },
  {
   "cell_type": "markdown",
   "id": "cb358ce0",
   "metadata": {},
   "source": [
    "### Network"
   ]
  },
  {
   "cell_type": "code",
   "execution_count": 7,
   "id": "dd731d78",
   "metadata": {},
   "outputs": [
    {
     "data": {
      "image/png": "[encoded data removed]",
      "text/plain": [
       "<Figure size 432x288 with 1 Axes>"
      ]
     },
     "metadata": {},
     "output_type": "display_data"
    }
   ],
   "source": [
    "nx.draw(graph)\n"
   ]
  },
  {
   "cell_type": "code",
   "execution_count": 8,
   "id": "adbeaecb",
   "metadata": {},
   "outputs": [],
   "source": [
    "with open(\"experiment3-graph.pickle\", \"wb\") as f:\n",
    "    pickle.dump(graph, f)"
   ]
  },
  {
   "cell_type": "code",
   "execution_count": null,
   "id": "b1ab2ec2",
   "metadata": {},
   "outputs": [],
   "source": []
  }
 ],
 "metadata": {
  "kernelspec": {
   "display_name": "Python 3 (ipykernel)",
   "language": "python",
   "name": "python3"
  },
  "language_info": {
   "codemirror_mode": {
    "name": "ipython",
    "version": 3
   },
   "file_extension": ".py",
   "mimetype": "text/x-python",
   "name": "python",
   "nbconvert_exporter": "python",
   "pygments_lexer": "ipython3",
   "version": "3.9.16"
  },
  "vscode": {
   "interpreter": {
    "hash": "916dbcbb3f70747c44a77c7bcd40155683ae19c65e1c03b4aa3499c5328201f1"
   }
  }
 },
 "nbformat": 4,
 "nbformat_minor": 5
}
