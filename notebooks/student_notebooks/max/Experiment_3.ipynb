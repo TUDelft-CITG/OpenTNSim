{
 "cells": [
  {
   "cell_type": "code",
   "execution_count": 1,
   "id": "5b6659a2",
   "metadata": {},
   "outputs": [
    {
     "name": "stderr",
     "output_type": "stream",
     "text": [
      "/Users/baart_f/.virtualenvs/opentnsim/lib/python3.9/site-packages/geopandas/_compat.py:111: UserWarning: The Shapely GEOS version (3.11.1-CAPI-1.17.1) is incompatible with the GEOS version PyGEOS was compiled with (3.10.1-CAPI-1.16.0). Conversions between both will be slow.\n",
      "  warnings.warn(\n"
     ]
    }
   ],
   "source": [
    "import datetime\n",
    "import math\n",
    "import pickle\n",
    "import string\n",
    "import time\n",
    "\n",
    "\n",
    "import numpy as np\n",
    "import networkx as nx\n",
    "import pandas as pd\n",
    "import geopandas as gpd\n",
    "import shapely.geometry\n",
    "import matplotlib.pyplot as plt\n",
    "import momepy\n",
    "import simpy\n",
    "import opentnsim.core as core\n",
    "import pyproj"
   ]
  },
  {
   "cell_type": "code",
   "execution_count": null,
   "id": "51f235a4",
   "metadata": {},
   "outputs": [],
   "source": []
  },
  {
   "cell_type": "code",
   "execution_count": 2,
   "id": "974d0c04",
   "metadata": {},
   "outputs": [],
   "source": [
    "points = {\n",
    "    \"lon\": [\n",
    "        4.371614106183969,\n",
    "        4.37164219,\n",
    "        4.37172743,\n",
    "        4.371961446987378,\n",
    "        4.371921976441537,\n",
    "        4.37208945,\n",
    "        4.372139628308608,\n",
    "        4.3722095475612415,\n",
    "    ],\n",
    "    \"lat\": [\n",
    "        52.00176081695087,\n",
    "        52.00179340,\n",
    "        52.00180571,\n",
    "        52.00169833237554,\n",
    "        52.001617796572035,\n",
    "        52.00143929,\n",
    "        52.00148032995194,\n",
    "        52.00146019591659,\n",
    "    ],\n",
    "}\n"
   ]
  },
  {
   "cell_type": "code",
   "execution_count": 3,
   "id": "3288672d",
   "metadata": {},
   "outputs": [
    {
     "data": {
      "text/plain": [
       "['A', 'B', 'C', 'D', 'E', 'F', 'G', 'H']"
      ]
     },
     "execution_count": 3,
     "metadata": {},
     "output_type": "execute_result"
    }
   ],
   "source": [
    "lon = points[\"lon\"]\n",
    "lat = points[\"lat\"]\n",
    "n_nodes = len(lat)\n",
    "labels = list(string.ascii_uppercase[:n_nodes])\n",
    "labels"
   ]
  },
  {
   "cell_type": "code",
   "execution_count": 4,
   "id": "d48160cc",
   "metadata": {},
   "outputs": [],
   "source": [
    "# df = pd.DataFrame(points)\n",
    "# geometry = gpd.points_from_xy(df['lon'], df['lat'])\n",
    "# gdf = gpd.GeoDataFrame(df, geometry = geometry)\n",
    "\n",
    "# gdf.to_file('Network_exp_3_v2.geojson')"
   ]
  },
  {
   "cell_type": "code",
   "execution_count": 5,
   "id": "3cab90a5",
   "metadata": {},
   "outputs": [
    {
     "data": {
      "text/html": [
       "<div>\n",
       "<style scoped>\n",
       "    .dataframe tbody tr th:only-of-type {\n",
       "        vertical-align: middle;\n",
       "    }\n",
       "\n",
       "    .dataframe tbody tr th {\n",
       "        vertical-align: top;\n",
       "    }\n",
       "\n",
       "    .dataframe thead th {\n",
       "        text-align: right;\n",
       "    }\n",
       "</style>\n",
       "<table border=\"1\" class=\"dataframe\">\n",
       "  <thead>\n",
       "    <tr style=\"text-align: right;\">\n",
       "      <th></th>\n",
       "      <th>source</th>\n",
       "      <th>target</th>\n",
       "      <th>e</th>\n",
       "    </tr>\n",
       "  </thead>\n",
       "  <tbody>\n",
       "    <tr>\n",
       "      <th>0</th>\n",
       "      <td>A</td>\n",
       "      <td>B</td>\n",
       "      <td>(A, B)</td>\n",
       "    </tr>\n",
       "    <tr>\n",
       "      <th>1</th>\n",
       "      <td>B</td>\n",
       "      <td>C</td>\n",
       "      <td>(B, C)</td>\n",
       "    </tr>\n",
       "    <tr>\n",
       "      <th>2</th>\n",
       "      <td>C</td>\n",
       "      <td>D</td>\n",
       "      <td>(C, D)</td>\n",
       "    </tr>\n",
       "    <tr>\n",
       "      <th>3</th>\n",
       "      <td>D</td>\n",
       "      <td>E</td>\n",
       "      <td>(D, E)</td>\n",
       "    </tr>\n",
       "    <tr>\n",
       "      <th>4</th>\n",
       "      <td>E</td>\n",
       "      <td>F</td>\n",
       "      <td>(E, F)</td>\n",
       "    </tr>\n",
       "    <tr>\n",
       "      <th>5</th>\n",
       "      <td>F</td>\n",
       "      <td>G</td>\n",
       "      <td>(F, G)</td>\n",
       "    </tr>\n",
       "    <tr>\n",
       "      <th>6</th>\n",
       "      <td>G</td>\n",
       "      <td>H</td>\n",
       "      <td>(G, H)</td>\n",
       "    </tr>\n",
       "  </tbody>\n",
       "</table>\n",
       "</div>"
      ],
      "text/plain": [
       "  source target       e\n",
       "0      A      B  (A, B)\n",
       "1      B      C  (B, C)\n",
       "2      C      D  (C, D)\n",
       "3      D      E  (D, E)\n",
       "4      E      F  (E, F)\n",
       "5      F      G  (F, G)\n",
       "6      G      H  (G, H)"
      ]
     },
     "metadata": {},
     "output_type": "display_data"
    },
    {
     "data": {
      "text/html": [
       "<div>\n",
       "<style scoped>\n",
       "    .dataframe tbody tr th:only-of-type {\n",
       "        vertical-align: middle;\n",
       "    }\n",
       "\n",
       "    .dataframe tbody tr th {\n",
       "        vertical-align: top;\n",
       "    }\n",
       "\n",
       "    .dataframe thead th {\n",
       "        text-align: right;\n",
       "    }\n",
       "</style>\n",
       "<table border=\"1\" class=\"dataframe\">\n",
       "  <thead>\n",
       "    <tr style=\"text-align: right;\">\n",
       "      <th></th>\n",
       "      <th>lat</th>\n",
       "      <th>lon</th>\n",
       "      <th>n</th>\n",
       "      <th>geometry</th>\n",
       "    </tr>\n",
       "    <tr>\n",
       "      <th>n</th>\n",
       "      <th></th>\n",
       "      <th></th>\n",
       "      <th></th>\n",
       "      <th></th>\n",
       "    </tr>\n",
       "  </thead>\n",
       "  <tbody>\n",
       "    <tr>\n",
       "      <th>A</th>\n",
       "      <td>52.001761</td>\n",
       "      <td>4.371614</td>\n",
       "      <td>A</td>\n",
       "      <td>POINT (4.371614106183969 52.00176081695087)</td>\n",
       "    </tr>\n",
       "    <tr>\n",
       "      <th>B</th>\n",
       "      <td>52.001793</td>\n",
       "      <td>4.371642</td>\n",
       "      <td>B</td>\n",
       "      <td>POINT (4.37164219 52.0017934)</td>\n",
       "    </tr>\n",
       "    <tr>\n",
       "      <th>C</th>\n",
       "      <td>52.001806</td>\n",
       "      <td>4.371727</td>\n",
       "      <td>C</td>\n",
       "      <td>POINT (4.37172743 52.00180571)</td>\n",
       "    </tr>\n",
       "    <tr>\n",
       "      <th>D</th>\n",
       "      <td>52.001698</td>\n",
       "      <td>4.371961</td>\n",
       "      <td>D</td>\n",
       "      <td>POINT (4.371961446987378 52.00169833237554)</td>\n",
       "    </tr>\n",
       "    <tr>\n",
       "      <th>E</th>\n",
       "      <td>52.001618</td>\n",
       "      <td>4.371922</td>\n",
       "      <td>E</td>\n",
       "      <td>POINT (4.371921976441537 52.001617796572035)</td>\n",
       "    </tr>\n",
       "    <tr>\n",
       "      <th>F</th>\n",
       "      <td>52.001439</td>\n",
       "      <td>4.372089</td>\n",
       "      <td>F</td>\n",
       "      <td>POINT (4.37208945 52.00143929)</td>\n",
       "    </tr>\n",
       "    <tr>\n",
       "      <th>G</th>\n",
       "      <td>52.001480</td>\n",
       "      <td>4.372140</td>\n",
       "      <td>G</td>\n",
       "      <td>POINT (4.372139628308608 52.00148032995194)</td>\n",
       "    </tr>\n",
       "    <tr>\n",
       "      <th>H</th>\n",
       "      <td>52.001460</td>\n",
       "      <td>4.372210</td>\n",
       "      <td>H</td>\n",
       "      <td>POINT (4.3722095475612415 52.00146019591659)</td>\n",
       "    </tr>\n",
       "  </tbody>\n",
       "</table>\n",
       "</div>"
      ],
      "text/plain": [
       "         lat       lon  n                                      geometry\n",
       "n                                                                      \n",
       "A  52.001761  4.371614  A   POINT (4.371614106183969 52.00176081695087)\n",
       "B  52.001793  4.371642  B                 POINT (4.37164219 52.0017934)\n",
       "C  52.001806  4.371727  C                POINT (4.37172743 52.00180571)\n",
       "D  52.001698  4.371961  D   POINT (4.371961446987378 52.00169833237554)\n",
       "E  52.001618  4.371922  E  POINT (4.371921976441537 52.001617796572035)\n",
       "F  52.001439  4.372089  F                POINT (4.37208945 52.00143929)\n",
       "G  52.001480  4.372140  G   POINT (4.372139628308608 52.00148032995194)\n",
       "H  52.001460  4.372210  H  POINT (4.3722095475612415 52.00146019591659)"
      ]
     },
     "metadata": {},
     "output_type": "display_data"
    }
   ],
   "source": [
    "# Create a graph representing the pond\n",
    "edges = []\n",
    "nodes = []\n",
    "# Loop over all the nodes\n",
    "for i, (lat, lon) in enumerate(zip(lat, lon)):\n",
    "    start = i\n",
    "    # Are we at the end node?\n",
    "    # then we need to close the loop\n",
    "    if i == (n_nodes - 1):\n",
    "        node = {\n",
    "            \"lat\": lat,\n",
    "            \"lon\": lon,\n",
    "            \"n\": labels[i],\n",
    "            \"geometry\": shapely.geometry.Point(lon, lat),\n",
    "        }\n",
    "        nodes.append(node)\n",
    "        break\n",
    "    else:\n",
    "        end = i + 1\n",
    "\n",
    "    # an edge consists of a start node\n",
    "    edge = {\n",
    "        \"source\": labels[start],\n",
    "        \"target\": labels[end],\n",
    "        \"e\": (labels[start], labels[end]),\n",
    "    }\n",
    "    node = {\n",
    "        \"lat\": lat,\n",
    "        \"lon\": lon,\n",
    "        \"n\": labels[i],\n",
    "        \"geometry\": shapely.geometry.Point(lon, lat),\n",
    "    }\n",
    "    edges.append(edge)\n",
    "    nodes.append(node)\n",
    "edges_df = pd.DataFrame(edges)\n",
    "nodes_df = pd.DataFrame(nodes).set_index('n', drop=False)\n",
    "display(edges_df)\n",
    "display(nodes_df)"
   ]
  },
  {
   "cell_type": "code",
   "execution_count": 6,
   "id": "173ae7c6",
   "metadata": {},
   "outputs": [
    {
     "data": {
      "text/plain": [
       "n\n",
       "A     POINT (4.371614106183969 52.00176081695087)\n",
       "B                   POINT (4.37164219 52.0017934)\n",
       "C                  POINT (4.37172743 52.00180571)\n",
       "D     POINT (4.371961446987378 52.00169833237554)\n",
       "E    POINT (4.371921976441537 52.001617796572035)\n",
       "F                  POINT (4.37208945 52.00143929)\n",
       "G     POINT (4.372139628308608 52.00148032995194)\n",
       "H    POINT (4.3722095475612415 52.00146019591659)\n",
       "Name: geometry, dtype: object"
      ]
     },
     "execution_count": 6,
     "metadata": {},
     "output_type": "execute_result"
    }
   ],
   "source": [
    "nodes_df[\"geometry\"] # [edges_df[\"source\"]]"
   ]
  },
  {
   "cell_type": "code",
   "execution_count": 7,
   "id": "94b6f2ee",
   "metadata": {},
   "outputs": [
    {
     "data": {
      "text/html": [
       "<div>\n",
       "<style scoped>\n",
       "    .dataframe tbody tr th:only-of-type {\n",
       "        vertical-align: middle;\n",
       "    }\n",
       "\n",
       "    .dataframe tbody tr th {\n",
       "        vertical-align: top;\n",
       "    }\n",
       "\n",
       "    .dataframe thead th {\n",
       "        text-align: right;\n",
       "    }\n",
       "</style>\n",
       "<table border=\"1\" class=\"dataframe\">\n",
       "  <thead>\n",
       "    <tr style=\"text-align: right;\">\n",
       "      <th></th>\n",
       "      <th>lat</th>\n",
       "      <th>lon</th>\n",
       "      <th>n</th>\n",
       "      <th>geometry</th>\n",
       "    </tr>\n",
       "    <tr>\n",
       "      <th>n</th>\n",
       "      <th></th>\n",
       "      <th></th>\n",
       "      <th></th>\n",
       "      <th></th>\n",
       "    </tr>\n",
       "  </thead>\n",
       "  <tbody>\n",
       "    <tr>\n",
       "      <th>A</th>\n",
       "      <td>52.001761</td>\n",
       "      <td>4.371614</td>\n",
       "      <td>A</td>\n",
       "      <td>POINT (4.37161 52.00176)</td>\n",
       "    </tr>\n",
       "    <tr>\n",
       "      <th>B</th>\n",
       "      <td>52.001793</td>\n",
       "      <td>4.371642</td>\n",
       "      <td>B</td>\n",
       "      <td>POINT (4.37164 52.00179)</td>\n",
       "    </tr>\n",
       "    <tr>\n",
       "      <th>C</th>\n",
       "      <td>52.001806</td>\n",
       "      <td>4.371727</td>\n",
       "      <td>C</td>\n",
       "      <td>POINT (4.37173 52.00181)</td>\n",
       "    </tr>\n",
       "    <tr>\n",
       "      <th>D</th>\n",
       "      <td>52.001698</td>\n",
       "      <td>4.371961</td>\n",
       "      <td>D</td>\n",
       "      <td>POINT (4.37196 52.00170)</td>\n",
       "    </tr>\n",
       "    <tr>\n",
       "      <th>E</th>\n",
       "      <td>52.001618</td>\n",
       "      <td>4.371922</td>\n",
       "      <td>E</td>\n",
       "      <td>POINT (4.37192 52.00162)</td>\n",
       "    </tr>\n",
       "    <tr>\n",
       "      <th>F</th>\n",
       "      <td>52.001439</td>\n",
       "      <td>4.372089</td>\n",
       "      <td>F</td>\n",
       "      <td>POINT (4.37209 52.00144)</td>\n",
       "    </tr>\n",
       "    <tr>\n",
       "      <th>G</th>\n",
       "      <td>52.001480</td>\n",
       "      <td>4.372140</td>\n",
       "      <td>G</td>\n",
       "      <td>POINT (4.37214 52.00148)</td>\n",
       "    </tr>\n",
       "    <tr>\n",
       "      <th>H</th>\n",
       "      <td>52.001460</td>\n",
       "      <td>4.372210</td>\n",
       "      <td>H</td>\n",
       "      <td>POINT (4.37221 52.00146)</td>\n",
       "    </tr>\n",
       "  </tbody>\n",
       "</table>\n",
       "</div>"
      ],
      "text/plain": [
       "         lat       lon  n                  geometry\n",
       "n                                                  \n",
       "A  52.001761  4.371614  A  POINT (4.37161 52.00176)\n",
       "B  52.001793  4.371642  B  POINT (4.37164 52.00179)\n",
       "C  52.001806  4.371727  C  POINT (4.37173 52.00181)\n",
       "D  52.001698  4.371961  D  POINT (4.37196 52.00170)\n",
       "E  52.001618  4.371922  E  POINT (4.37192 52.00162)\n",
       "F  52.001439  4.372089  F  POINT (4.37209 52.00144)\n",
       "G  52.001480  4.372140  G  POINT (4.37214 52.00148)\n",
       "H  52.001460  4.372210  H  POINT (4.37221 52.00146)"
      ]
     },
     "metadata": {},
     "output_type": "display_data"
    },
    {
     "data": {
      "text/plain": [
       "<AxesSubplot:>"
      ]
     },
     "execution_count": 7,
     "metadata": {},
     "output_type": "execute_result"
    },
    {
     "data": {
      "image/png": "[encoded data removed]",
      "text/plain": [
       "<Figure size 936x576 with 1 Axes>"
      ]
     },
     "metadata": {
      "needs_background": "light"
     },
     "output_type": "display_data"
    }
   ],
   "source": [
    "# create two temporary columns with the start end end geometry\n",
    "edges_df[\"source_geometry\"] = nodes_df[\"geometry\"][edges_df[\"source\"]].reset_index(drop=True)\n",
    "edges_df[\"target_geometry\"] = nodes_df[\"geometry\"][edges_df[\"target\"]].reset_index(drop=True)\n",
    "# for each edge combine start and end geometry into a linestring (line)\n",
    "edges_df[\"geometry\"] = edges_df.apply(\n",
    "    lambda row: shapely.geometry.LineString([row[\"source_geometry\"], row[\"target_geometry\"]]), axis=1\n",
    ")\n",
    "edges_df = edges_df.drop(columns=[\"source_geometry\", \"target_geometry\"])\n",
    "\n",
    "nodes_gdf = gpd.GeoDataFrame(nodes_df)\n",
    "edges_gdf = gpd.GeoDataFrame(edges_df)\n",
    "\n",
    "# Used RD (epsg:28992) to define coordinates so set it this way\n",
    "nodes_gdf = nodes_gdf.set_crs(\"epsg:4326\")\n",
    "edges_gdf = edges_gdf.set_crs(\"epsg:4326\")\n",
    "\n",
    "\n",
    "# edges_gdf[\"length_m\"] = edges_gdf[\"geometry\"].apply(lambda geom: geom.length)\n",
    "\n",
    "display(nodes_gdf)\n",
    "\n",
    "# This is the spatial figure\n",
    "fig, ax = plt.subplots(figsize=(13, 8))\n",
    "edges_gdf.plot(ax=ax)\n",
    "nodes_gdf.plot(ax=ax)"
   ]
  },
  {
   "cell_type": "markdown",
   "id": "cb358ce0",
   "metadata": {},
   "source": [
    "### Network"
   ]
  },
  {
   "cell_type": "code",
   "execution_count": 8,
   "id": "73cabd82",
   "metadata": {},
   "outputs": [],
   "source": [
    "# convention is that we call our graph FG (fairway graph)\n",
    "FG = nx.from_pandas_edgelist(edges_gdf, edge_attr=True)"
   ]
  },
  {
   "cell_type": "code",
   "execution_count": 9,
   "id": "fb4ec206",
   "metadata": {},
   "outputs": [],
   "source": [
    "# update all nodes with info from the nodes table\n",
    "nodes_gdf.apply(lambda row: FG.nodes[row.n].update(row), axis=1);"
   ]
  },
  {
   "cell_type": "code",
   "execution_count": 10,
   "id": "dd731d78",
   "metadata": {},
   "outputs": [
    {
     "data": {
      "image/png": "[encoded data removed]",
      "text/plain": [
       "<Figure size 432x288 with 1 Axes>"
      ]
     },
     "metadata": {},
     "output_type": "display_data"
    }
   ],
   "source": [
    "nx.draw(FG)"
   ]
  },
  {
   "cell_type": "code",
   "execution_count": 11,
   "id": "adbeaecb",
   "metadata": {},
   "outputs": [],
   "source": [
    "with open(\"experiment3-graph.pickle\", \"wb\") as f:\n",
    "    pickle.dump(FG, f)"
   ]
  },
  {
   "cell_type": "code",
   "execution_count": null,
   "id": "b1ab2ec2",
   "metadata": {},
   "outputs": [],
   "source": []
  }
 ],
 "metadata": {
  "kernelspec": {
   "display_name": "Python 3 (ipykernel)",
   "language": "python",
   "name": "python3"
  },
  "language_info": {
   "codemirror_mode": {
    "name": "ipython",
    "version": 3
   },
   "file_extension": ".py",
   "mimetype": "text/x-python",
   "name": "python",
   "nbconvert_exporter": "python",
   "pygments_lexer": "ipython3",
   "version": "3.9.16"
  }
 },
 "nbformat": 4,
 "nbformat_minor": 5
}
