{
 "cells": [
  {
   "cell_type": "code",
   "execution_count": 1,
   "id": "d831c2be",
   "metadata": {},
   "outputs": [
    {
     "name": "stderr",
     "output_type": "stream",
     "text": [
      "/Users/baart_f/.virtualenvs/opentnsim/lib/python3.9/site-packages/geopandas/_compat.py:111: UserWarning:\n",
      "\n",
      "The Shapely GEOS version (3.11.1-CAPI-1.17.1) is incompatible with the GEOS version PyGEOS was compiled with (3.10.1-CAPI-1.16.0). Conversions between both will be slow.\n",
      "\n"
     ]
    }
   ],
   "source": [
    "import roslibpy\n",
    "import time\n",
    "import types\n",
    "import functools\n",
    "\n",
    "import opentnsim\n",
    "import pandas as pd\n",
    "import geopandas as gpd\n",
    "import simpy.rt\n",
    "import shapely.geometry\n"
   ]
  },
  {
   "cell_type": "code",
   "execution_count": 2,
   "id": "784c2b07",
   "metadata": {},
   "outputs": [],
   "source": [
    "berths = gpd.read_file('/Users/baart_f/data/ros/terminal_berths_schematic.geojson')\n",
    "berths = berths.set_crs('EPSG:4326')\n",
    "berths_rd = berths.to_crs('EPSG:28992')\n",
    "\n"
   ]
  },
  {
   "cell_type": "code",
   "execution_count": 3,
   "id": "9d7403f0",
   "metadata": {},
   "outputs": [],
   "source": [
    "class HasRos:\n",
    "    def __init__(self, client, *args, **kwargs):\n",
    "        super().__init__(*args, **kwargs)\n",
    "        self.client = client\n",
    "\n",
    "class RosListener(HasRos):\n",
    "    def __init__(self, topic_names: list, on_message, *args, **kwargs):\n",
    "        super().__init__(*args, **kwargs)\n",
    "        self.topic_names = topic_names\n",
    "        self.topics = {}\n",
    "        self.on_message = types.MethodType(on_message, self)\n",
    "        self.callbacks = {}\n",
    "        for topic_name in topic_names:\n",
    "            topic_type = self.client.get_topic_type(topic_name)\n",
    "            topic = roslibpy.Topic(\n",
    "                self.client, \n",
    "                topic_name, \n",
    "                topic_type\n",
    "\n",
    "            )\n",
    "            self.topics[topic_name] = topic\n",
    "        self.subscribe()\n",
    "    def subscribe(self):\n",
    "        for topic_name in self.topics:\n",
    "            self.callbacks[topic_name] = functools.partial(self.on_message, topic_name=topic_name)\n",
    "        for topic_name, topic in self.topics.items():\n",
    "            callback = self.callbacks[topic_name]\n",
    "            topic.subscribe(callback)\n",
    "\n",
    "class RosPublisher(opentnsim.core.Identifiable, HasRos):\n",
    "    def __init__(self, *args, **kwargs):\n",
    "        super().__init__(*args, **kwargs)\n",
    "        self.publish_topics = {}\n",
    "        topic_name = f\"/opentnsim_waypoint_{self.name}/log\"\n",
    "        topic_type = 'std_msgs/String'\n",
    "        self.publish_topics['str'] = roslibpy.Topic(\n",
    "            self.client, \n",
    "            topic_name, \n",
    "            topic_type\n",
    "        )\n",
    "        topic_name = f\"/opentnsim_waypoint_{self.name}/pos\"\n",
    "        topic_type = 'sensor_msgs/NavSatFix'\n",
    "        self.publish_topics['pos'] = roslibpy.Topic(\n",
    "            self.client, \n",
    "            topic_name, \n",
    "            topic_type\n",
    "        )\n",
    "    def publish(self, message: str):\n",
    "        self.publish_topic.publish(roslibpy.Message({'data': message}))\n",
    "    \n",
    "class WaypointPublisher(RosPublisher):\n",
    "    def __init__(self, *args, **kwargs):\n",
    "        super().__init__(*args ,**kwargs)\n",
    "    def publish_next_waypoint(self):\n",
    "        # LOGIC TO DETERMINE NEXT WAYPOINT HERE\n",
    "        self.publish_topics['pos'].publish(roslibpy.Message({\"data\": \"message\"}))\n",
    "\n",
    "Ship = type(\n",
    "    'Ship', \n",
    "    (\n",
    "        opentnsim.core.SimpyObject, \n",
    "        opentnsim.core.Locatable,\n",
    "        RosListener, \n",
    "        RosPublisher\n",
    "    ), \n",
    "    {}\n",
    ")"
   ]
  },
  {
   "cell_type": "code",
   "execution_count": 4,
   "id": "5cd741c7",
   "metadata": {},
   "outputs": [
    {
     "name": "stdout",
     "output_type": "stream",
     "text": [
      "Connected True\n"
     ]
    }
   ],
   "source": [
    "# Connect to the ros websocket bridge\n",
    "client = roslibpy.Ros(host='localhost', port=9090)\n",
    "\n",
    "def on_ready(*args, **kwargs):\n",
    "    print('Connected', client.is_connected)\n",
    "client.on_ready(on_ready)\n",
    "client.run()"
   ]
  },
  {
   "cell_type": "code",
   "execution_count": 5,
   "id": "c7e7cf14",
   "metadata": {},
   "outputs": [],
   "source": [
    "\n",
    "env = simpy.rt.RealtimeEnvironment()\n",
    "\n",
    "\n",
    "def update_location(ship, message, **kwargs):\n",
    "    last_message = message\n",
    "    ship.geometry = shapely.geometry.Point(message['longitude'], message['latitude'])\n",
    "\n",
    "ship = Ship(\n",
    "    env=env, \n",
    "    geometry=shapely.geometry.Point(4.37, 52.0), \n",
    "    client=client, \n",
    "    topic_names=['/RAS_TN_GR/geopos_est'], \n",
    "    on_message=update_location,\n",
    "    name=\"ship\"\n",
    ")\n",
    "env.run()\n"
   ]
  },
  {
   "cell_type": "code",
   "execution_count": 12,
   "id": "46954a39",
   "metadata": {},
   "outputs": [
    {
     "name": "stdout",
     "output_type": "stream",
     "text": [
      "POINT (4.371963585 52.00152903666667)\n",
      "POINT (4.371968998333333 52.00153157166667)\n",
      "POINT (4.3719742733333335 52.00153462)\n"
     ]
    }
   ],
   "source": [
    "for i in range(3):\n",
    "    time.sleep(1)\n",
    "    print(ship.geometry.wkt)"
   ]
  },
  {
   "cell_type": "code",
   "execution_count": 7,
   "id": "cdf69ac5",
   "metadata": {},
   "outputs": [],
   "source": [
    "class TrackTopics():\n",
    "    def __init__(self, *args, **kwargs):\n",
    "        super().__init__(*args ,**kwargs)\n",
    "\n",
    "        self.last_geometry_per_topic = {}\n",
    "        \n",
    "Operator = type(\n",
    "    'Operator', \n",
    "    (\n",
    "        opentnsim.core.SimpyObject, \n",
    "        RosListener, \n",
    "        RosPublisher,\n",
    "        TrackTopics\n",
    "    ), \n",
    "    {}\n",
    ")"
   ]
  },
  {
   "cell_type": "code",
   "execution_count": 8,
   "id": "cd516ea7",
   "metadata": {},
   "outputs": [],
   "source": [
    "\n",
    "\n",
    "def update_availability(operator, message, topic_name):\n",
    "    geometry = shapely.geometry.Point(message['longitude'], message['latitude'])\n",
    "    operator.last_geometry_per_topic[topic_name] = geometry\n",
    "\n",
    "operator = Operator(\n",
    "    env=env, \n",
    "    client=client, \n",
    "    topic_names=['/RAS_TN_GR/geopos_est', '/RAS_TN_OR/geopos_est'], \n",
    "    on_message=update_availability,\n",
    "    name=\"operator\"\n",
    ")\n"
   ]
  },
  {
   "cell_type": "code",
   "execution_count": 9,
   "id": "4910a600",
   "metadata": {},
   "outputs": [],
   "source": [
    "occupied = None\n",
    "if operator.last_geometry_per_topic:\n",
    "\n",
    "    ship_geometries = gpd.GeoDataFrame(geometry=list(operator.last_geometry_per_topic.values()), crs='EPSG:4326')\n",
    "    berth_geometries = berths.to_crs('EPSG:28992').geometry.buffer(10).to_crs('EPSG:4326')\n",
    "    occupied = berth_geometries.intersects(ship_geometries.dissolve().iloc[0].geometry)\n",
    "\n",
    "occupied"
   ]
  },
  {
   "cell_type": "code",
   "execution_count": 10,
   "id": "3224afb7",
   "metadata": {},
   "outputs": [
    {
     "data": {
      "text/html": [
       "<div>\n",
       "<style scoped>\n",
       "    .dataframe tbody tr th:only-of-type {\n",
       "        vertical-align: middle;\n",
       "    }\n",
       "\n",
       "    .dataframe tbody tr th {\n",
       "        vertical-align: top;\n",
       "    }\n",
       "\n",
       "    .dataframe thead th {\n",
       "        text-align: right;\n",
       "    }\n",
       "</style>\n",
       "<table border=\"1\" class=\"dataframe\">\n",
       "  <thead>\n",
       "    <tr style=\"text-align: right;\">\n",
       "      <th></th>\n",
       "      <th>geometry</th>\n",
       "    </tr>\n",
       "  </thead>\n",
       "  <tbody>\n",
       "  </tbody>\n",
       "</table>\n",
       "</div>"
      ],
      "text/plain": [
       "Empty GeoDataFrame\n",
       "Columns: [geometry]\n",
       "Index: []"
      ]
     },
     "execution_count": 10,
     "metadata": {},
     "output_type": "execute_result"
    }
   ],
   "source": [
    "gpd.GeoDataFrame(geometry=list(operator.last_geometry_per_topic.values()), crs='EPSG:4326')"
   ]
  },
  {
   "cell_type": "code",
   "execution_count": null,
   "id": "1d219db0",
   "metadata": {},
   "outputs": [],
   "source": []
  }
 ],
 "metadata": {
  "kernelspec": {
   "display_name": "Python 3 (ipykernel)",
   "language": "python",
   "name": "python3"
  },
  "language_info": {
   "codemirror_mode": {
    "name": "ipython",
    "version": 3
   },
   "file_extension": ".py",
   "mimetype": "text/x-python",
   "name": "python",
   "nbconvert_exporter": "python",
   "pygments_lexer": "ipython3",
   "version": "3.9.16"
  }
 },
 "nbformat": 4,
 "nbformat_minor": 5
}
