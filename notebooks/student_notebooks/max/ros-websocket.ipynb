{
 "cells": [
  {
   "cell_type": "code",
   "execution_count": 1,
   "id": "d831c2be",
   "metadata": {},
   "outputs": [],
   "source": [
    "import roslibpy\n",
    "import time\n",
    "\n",
    "import opentnsim\n",
    "import pandas as pd\n",
    "import simpy.rt\n",
    "import shapely.geometry\n"
   ]
  },
  {
   "cell_type": "code",
   "execution_count": 2,
   "id": "84d59dbf",
   "metadata": {},
   "outputs": [],
   "source": [
    "# Connect to the ros websocket bridge\n",
    "client = roslibpy.Ros(host='localhost', port=9090)\n",
    "\n",
    "def on_ready(*args, **kwargs):\n",
    "    print('Connected', client.is_connected)\n",
    "client.on_ready(on_ready)"
   ]
  },
  {
   "cell_type": "code",
   "execution_count": null,
   "id": "03f9002f",
   "metadata": {},
   "outputs": [],
   "source": [
    "# Start a non-blocking event loop\n",
    "# The client runs in a background thread.\n",
    "client.run()"
   ]
  },
  {
   "cell_type": "code",
   "execution_count": 7,
   "id": "9d7403f0",
   "metadata": {},
   "outputs": [
    {
     "ename": "SyntaxError",
     "evalue": "invalid syntax (2592534274.py, line 50)",
     "output_type": "error",
     "traceback": [
      "\u001b[0;36m  Cell \u001b[0;32mIn [7], line 50\u001b[0;36m\u001b[0m\n\u001b[0;31m    self.publish_topic.publish(roslibpy.Message(roslibpy.))\u001b[0m\n\u001b[0m                                                         ^\u001b[0m\n\u001b[0;31mSyntaxError\u001b[0m\u001b[0;31m:\u001b[0m invalid syntax\n"
     ]
    }
   ],
   "source": [
    "class HasRos:\n",
    "    def __init__(self, client, *args, **kwargs):\n",
    "        super().__init__(*args, **kwargs)\n",
    "        self.client = client\n",
    "\n",
    "class RosListener(HasRos):\n",
    "    def __init__(self, topic_name: str, *args, **kwargs):\n",
    "        super().__init__(*args, **kwargs)\n",
    "        self.topic_name = topic_name\n",
    "        topic_type = self.client.get_topic_type(topic_name)\n",
    "        # assert topic_type has latitude longitude\n",
    "        self.topic = roslibpy.Topic(\n",
    "            self.client, \n",
    "            topic_name, \n",
    "            topic_type\n",
    "            \n",
    "        )\n",
    "    def subscribe(self):\n",
    "        self.topic.subscribe(self.on_message)\n",
    "    def on_message(self, message):\n",
    "        self.last_message = message\n",
    "        if isinstance(self, opentnsim.core.Locatable):\n",
    "            self.geometry = shapely.geometry.Point(message['longitude'], message['latitude'])\n",
    "\n",
    "class RosPublisher(opentnsim.core.Identifiable, HasRos):\n",
    "    def __init__(self, *args, **kwargs):\n",
    "        super().__init__(*args, **kwargs)\n",
    "        topic_name = f\"/opentnsim_waypoint_{self.name}/log\"\n",
    "        topic_type = 'std_msgs/String'\n",
    "        self.publish_topics['str'] = roslibpy.Topic(\n",
    "            self.client, \n",
    "            topic_name, \n",
    "            topic_type\n",
    "        )\n",
    "        topic_name = f\"/opentnsim_waypoint_{self.name}/pos\"\n",
    "        topic_type = 'sensor_msgs/NavSatFix'\n",
    "        self.publish_topics['pos'] = roslibpy.Topic(\n",
    "            self.client, \n",
    "            topic_name, \n",
    "            topic_type\n",
    "        )\n",
    "    def publish(self, message: str):\n",
    "        self.publish_topic.publish(roslibpy.Message({'data': message}))\n",
    "    \n",
    "class WaypointPublisher(RosPublisher):\n",
    "    def __init__(self, *args, **kwargs):\n",
    "        super().__init__(*args ,**kwargs)\n",
    "    def publish_next_waypoint(self):\n",
    "        # LOGIC TO DETERMINE NEXT WAYPOINT HERE\n",
    "        self.publish_topic.publish(roslibpy.Message({\"data\": }))\n",
    "\n",
    "Ship = type(\n",
    "    'Ship', \n",
    "    (\n",
    "        opentnsim.core.SimpyObject, \n",
    "        opentnsim.core.Locatable,\n",
    "        RosListener, \n",
    "        RosPublisher\n",
    "    ), \n",
    "    {}\n",
    ")"
   ]
  },
  {
   "cell_type": "code",
   "execution_count": null,
   "id": "5cd741c7",
   "metadata": {},
   "outputs": [],
   "source": []
  },
  {
   "cell_type": "code",
   "execution_count": 6,
   "id": "c7e7cf14",
   "metadata": {},
   "outputs": [],
   "source": [
    "\n",
    "env = simpy.rt.RealtimeEnvironment()\n",
    "\n",
    "ship = Ship(\n",
    "    env=env, \n",
    "    geometry=shapely.geometry.Point(4.372, 52.0015), \n",
    "    client=client, \n",
    "    topic_name='/RAS_TN_GR/geopos_est', \n",
    "    name=\"ship\"\n",
    ")\n",
    "env.run()"
   ]
  },
  {
   "cell_type": "code",
   "execution_count": null,
   "id": "46954a39",
   "metadata": {},
   "outputs": [],
   "source": [
    "for i in range(3):\n",
    "    time.sleep(1)\n",
    "    print(ship.geometry.wkt)"
   ]
  },
  {
   "cell_type": "code",
   "execution_count": null,
   "id": "d6f34dff",
   "metadata": {},
   "outputs": [],
   "source": []
  },
  {
   "cell_type": "code",
   "execution_count": null,
   "id": "bc3c717b",
   "metadata": {},
   "outputs": [],
   "source": []
  }
 ],
 "metadata": {
  "kernelspec": {
   "display_name": "Python 3 (ipykernel)",
   "language": "python",
   "name": "python3"
  },
  "language_info": {
   "codemirror_mode": {
    "name": "ipython",
    "version": 3
   },
   "file_extension": ".py",
   "mimetype": "text/x-python",
   "name": "python",
   "nbconvert_exporter": "python",
   "pygments_lexer": "ipython3",
   "version": "3.9.15"
  }
 },
 "nbformat": 4,
 "nbformat_minor": 5
}
