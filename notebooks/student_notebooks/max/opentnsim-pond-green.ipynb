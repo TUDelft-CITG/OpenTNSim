{
 "cells": [
  {
   "cell_type": "code",
   "execution_count": 24,
   "id": "dd04b1b1",
   "metadata": {},
   "outputs": [],
   "source": [
    "import copy\n",
    "import datetime\n",
    "import pickle\n",
    "import itertools\n",
    "import time\n",
    "\n",
    "import simpy\n",
    "import numpy as np\n",
    "import networkx as nx\n",
    "import pandas as pd\n",
    "import geopandas as gpd\n",
    "import shapely.geometry\n",
    "import matplotlib.pyplot as plt\n",
    "\n",
    "import opentnsim.core"
   ]
  },
  {
   "cell_type": "code",
   "execution_count": 15,
   "id": "c963544c",
   "metadata": {},
   "outputs": [],
   "source": [
    "with open('experiment3-graph.pickle', 'rb') as f:\n",
    "    graph = pickle.load(f)"
   ]
  },
  {
   "cell_type": "code",
   "execution_count": 16,
   "id": "a1b565ff",
   "metadata": {},
   "outputs": [
    {
     "data": {
      "text/plain": [
       "[{'name': 'direct',\n",
       "  'waypoints': ['A', 'D', 'H'],\n",
       "  'route': ['A', 'B', 'C', 'D', 'E', 'F', 'G', 'H']},\n",
       " {'name': 'redirect',\n",
       "  'waypoints': ['A', 'H', 'D'],\n",
       "  'route': ['A', 'B', 'C', 'D', 'E', 'F', 'G', 'H', 'G', 'F', 'E', 'D']}]"
      ]
     },
     "execution_count": 16,
     "metadata": {},
     "output_type": "execute_result"
    }
   ],
   "source": [
    "route_alternatives = [\n",
    "    {\n",
    "        \"name\": \"direct\",\n",
    "        \"waypoints\": ['A', 'D', 'H']\n",
    "    },\n",
    "    {\n",
    "        \"name\": \"redirect\",\n",
    "        \"waypoints\": ['A', 'H', 'D']\n",
    "    },\n",
    "]\n",
    "\n",
    "\n",
    "for alternative in route_alternatives:\n",
    "    route = []    \n",
    "    waypoints = alternative[\"waypoints\"]\n",
    "    for a, b in zip(waypoints[:-1], waypoints[1:]):\n",
    "        path = nx.shortest_path(graph, a, b)\n",
    "        route.extend(path)\n",
    "        \n",
    "    route = [\n",
    "        k \n",
    "        for (k, g)\n",
    "        in itertools.groupby(route)\n",
    "    ]\n",
    "\n",
    "\n",
    "    alternative[\"route\"] = route\n",
    "route_alternatives"
   ]
  },
  {
   "cell_type": "code",
   "execution_count": 17,
   "id": "b609643f",
   "metadata": {},
   "outputs": [
    {
     "data": {
      "text/html": [
       "<div>\n",
       "<style scoped>\n",
       "    .dataframe tbody tr th:only-of-type {\n",
       "        vertical-align: middle;\n",
       "    }\n",
       "\n",
       "    .dataframe tbody tr th {\n",
       "        vertical-align: top;\n",
       "    }\n",
       "\n",
       "    .dataframe thead th {\n",
       "        text-align: right;\n",
       "    }\n",
       "</style>\n",
       "<table border=\"1\" class=\"dataframe\">\n",
       "  <thead>\n",
       "    <tr style=\"text-align: right;\">\n",
       "      <th></th>\n",
       "      <th>name</th>\n",
       "      <th>waypoints</th>\n",
       "      <th>route</th>\n",
       "      <th>engine_order</th>\n",
       "      <th>green_routing</th>\n",
       "      <th>green_steaming</th>\n",
       "    </tr>\n",
       "  </thead>\n",
       "  <tbody>\n",
       "    <tr>\n",
       "      <th>0</th>\n",
       "      <td>direct</td>\n",
       "      <td>[A, D, H]</td>\n",
       "      <td>[A, B, C, D, E, F, G, H]</td>\n",
       "      <td>0.5</td>\n",
       "      <td>False</td>\n",
       "      <td>True</td>\n",
       "    </tr>\n",
       "    <tr>\n",
       "      <th>1</th>\n",
       "      <td>redirect</td>\n",
       "      <td>[A, H, D]</td>\n",
       "      <td>[A, B, C, D, E, F, G, H, G, F, E, D]</td>\n",
       "      <td>0.5</td>\n",
       "      <td>True</td>\n",
       "      <td>True</td>\n",
       "    </tr>\n",
       "    <tr>\n",
       "      <th>2</th>\n",
       "      <td>direct</td>\n",
       "      <td>[A, D, H]</td>\n",
       "      <td>[A, B, C, D, E, F, G, H]</td>\n",
       "      <td>0.6</td>\n",
       "      <td>False</td>\n",
       "      <td>True</td>\n",
       "    </tr>\n",
       "    <tr>\n",
       "      <th>3</th>\n",
       "      <td>redirect</td>\n",
       "      <td>[A, H, D]</td>\n",
       "      <td>[A, B, C, D, E, F, G, H, G, F, E, D]</td>\n",
       "      <td>0.6</td>\n",
       "      <td>True</td>\n",
       "      <td>True</td>\n",
       "    </tr>\n",
       "    <tr>\n",
       "      <th>4</th>\n",
       "      <td>direct</td>\n",
       "      <td>[A, D, H]</td>\n",
       "      <td>[A, B, C, D, E, F, G, H]</td>\n",
       "      <td>0.7</td>\n",
       "      <td>False</td>\n",
       "      <td>True</td>\n",
       "    </tr>\n",
       "    <tr>\n",
       "      <th>5</th>\n",
       "      <td>redirect</td>\n",
       "      <td>[A, H, D]</td>\n",
       "      <td>[A, B, C, D, E, F, G, H, G, F, E, D]</td>\n",
       "      <td>0.7</td>\n",
       "      <td>True</td>\n",
       "      <td>True</td>\n",
       "    </tr>\n",
       "    <tr>\n",
       "      <th>6</th>\n",
       "      <td>direct</td>\n",
       "      <td>[A, D, H]</td>\n",
       "      <td>[A, B, C, D, E, F, G, H]</td>\n",
       "      <td>0.8</td>\n",
       "      <td>False</td>\n",
       "      <td>True</td>\n",
       "    </tr>\n",
       "    <tr>\n",
       "      <th>7</th>\n",
       "      <td>redirect</td>\n",
       "      <td>[A, H, D]</td>\n",
       "      <td>[A, B, C, D, E, F, G, H, G, F, E, D]</td>\n",
       "      <td>0.8</td>\n",
       "      <td>True</td>\n",
       "      <td>True</td>\n",
       "    </tr>\n",
       "    <tr>\n",
       "      <th>8</th>\n",
       "      <td>direct</td>\n",
       "      <td>[A, D, H]</td>\n",
       "      <td>[A, B, C, D, E, F, G, H]</td>\n",
       "      <td>0.9</td>\n",
       "      <td>False</td>\n",
       "      <td>False</td>\n",
       "    </tr>\n",
       "    <tr>\n",
       "      <th>9</th>\n",
       "      <td>redirect</td>\n",
       "      <td>[A, H, D]</td>\n",
       "      <td>[A, B, C, D, E, F, G, H, G, F, E, D]</td>\n",
       "      <td>0.9</td>\n",
       "      <td>True</td>\n",
       "      <td>False</td>\n",
       "    </tr>\n",
       "  </tbody>\n",
       "</table>\n",
       "</div>"
      ],
      "text/plain": [
       "       name  waypoints                                 route  engine_order  \\\n",
       "0    direct  [A, D, H]              [A, B, C, D, E, F, G, H]           0.5   \n",
       "1  redirect  [A, H, D]  [A, B, C, D, E, F, G, H, G, F, E, D]           0.5   \n",
       "2    direct  [A, D, H]              [A, B, C, D, E, F, G, H]           0.6   \n",
       "3  redirect  [A, H, D]  [A, B, C, D, E, F, G, H, G, F, E, D]           0.6   \n",
       "4    direct  [A, D, H]              [A, B, C, D, E, F, G, H]           0.7   \n",
       "5  redirect  [A, H, D]  [A, B, C, D, E, F, G, H, G, F, E, D]           0.7   \n",
       "6    direct  [A, D, H]              [A, B, C, D, E, F, G, H]           0.8   \n",
       "7  redirect  [A, H, D]  [A, B, C, D, E, F, G, H, G, F, E, D]           0.8   \n",
       "8    direct  [A, D, H]              [A, B, C, D, E, F, G, H]           0.9   \n",
       "9  redirect  [A, H, D]  [A, B, C, D, E, F, G, H, G, F, E, D]           0.9   \n",
       "\n",
       "   green_routing  green_steaming  \n",
       "0          False            True  \n",
       "1           True            True  \n",
       "2          False            True  \n",
       "3           True            True  \n",
       "4          False            True  \n",
       "5           True            True  \n",
       "6          False            True  \n",
       "7           True            True  \n",
       "8          False           False  \n",
       "9           True           False  "
      ]
     },
     "execution_count": 17,
     "metadata": {},
     "output_type": "execute_result"
    }
   ],
   "source": [
    "engine_orders = [0.5, 0.6, 0.7, 0.8, 0.9]\n",
    "\n",
    "alternatives = []\n",
    "for engine_order in engine_orders:\n",
    "    for route_alternative in route_alternatives:\n",
    "        alternative = copy.deepcopy(route_alternative)\n",
    "        alternative['engine_order'] = engine_order\n",
    "        alternatives.append(alternative)\n",
    "        \n",
    "alternatives_df = pd.DataFrame(alternatives)\n",
    "# not the direct route\n",
    "alternatives_df['green_routing'] = alternatives_df['name'] == 'redirect'\n",
    "# not the maximum power\n",
    "alternatives_df['green_steaming'] = alternatives_df['engine_order'] < engine_orders[-1]\n",
    "alternatives_df"
   ]
  },
  {
   "cell_type": "markdown",
   "id": "b2ae3fb4",
   "metadata": {},
   "source": [
    "# Load the network from a file\n",
    "We have drawn a notebook, similar to the Port of Rotterdam. The goal is to have a ship \"Blue\" moving from A to B, wait at B, then the ship will move from B to C. \n",
    "\n",
    "When ship \"Green\" starts, it should notice that B is occupied. Ship \"Green\" will have to decide whether to sail slower or to adapt it's route by going from A to C to B, to avoid waiting for ship \"Blue\""
   ]
  },
  {
   "cell_type": "code",
   "execution_count": 18,
   "id": "672edbde",
   "metadata": {},
   "outputs": [
    {
     "data": {
      "image/png": "[encoded data removed]",
      "text/plain": [
       "<Figure size 432x288 with 1 Axes>"
      ]
     },
     "metadata": {},
     "output_type": "display_data"
    }
   ],
   "source": [
    "nx.draw(graph)"
   ]
  },
  {
   "cell_type": "code",
   "execution_count": 29,
   "id": "8e7c7a31",
   "metadata": {},
   "outputs": [],
   "source": [
    "def run_simulation(geometry, route, graph, engine_order=0.8):\n",
    "    Vessel = type(\n",
    "        'Vessel', \n",
    "        (\n",
    "            opentnsim.core.Identifiable, \n",
    "            opentnsim.core.Movable, \n",
    "            opentnsim.core.HasResource, \n",
    "            opentnsim.core.Routeable, \n",
    "            opentnsim.core.HasContainer\n",
    "        ), \n",
    "        {}\n",
    "    )\n",
    "\n",
    "    data_vessel = {\n",
    "        \"env\": None,\n",
    "        \"name\": \"NausBot\",\n",
    "        \"route\": None,\n",
    "        \"geometry\": geometry,\n",
    "        \"capacity\": 1_000,\n",
    "        \"v\": engine_order\n",
    "    } \n",
    "    vessel = Vessel(**data_vessel)\n",
    "\n",
    "    # start simpy environment (specify the start time and add the graph to the environment)\n",
    "    simulation_start = datetime.datetime.now()\n",
    "    env = simpy.Environment(initial_time = time.mktime(simulation_start.timetuple()))\n",
    "    env.FG = graph\n",
    "\n",
    "    # add environment to the vessel, and specify the vessels route and current location (beginning of the path)\n",
    "    vessel.env = env\n",
    "    vessel.route = route\n",
    "\n",
    "    # specify the process that needs to be executed\n",
    "    env.process(vessel.move())\n",
    "\n",
    "    # start the simulation\n",
    "    env.run()\n",
    "\n",
    "    #Determine trip time\n",
    "    start_time = simulation_start.timestamp()\n",
    "\n",
    "    end = vessel.log[\"Timestamp\"][-1]\n",
    "\n",
    "    end_time = end.timestamp()\n",
    "\n",
    "\n",
    "    return end_time-start_time, end\n",
    "\n",
    "\n"
   ]
  },
  {
   "cell_type": "code",
   "execution_count": 30,
   "id": "bd2397ea",
   "metadata": {},
   "outputs": [],
   "source": [
    "row = alternatives_df.iloc[0]"
   ]
  },
  {
   "cell_type": "code",
   "execution_count": 36,
   "id": "500c1ae8",
   "metadata": {},
   "outputs": [],
   "source": [
    "result = alternatives_df.copy()\n",
    "for idx, row in alternatives_df.iterrows():\n",
    "    current_node = row['route'][0]\n",
    "    geometry = graph.nodes[current_node]['geometry']\n",
    "    route = row['route']\n",
    "    graph = graph\n",
    "    engine_order = row['engine_order']\n",
    "    duration, eta = run_simulation(geometry=geometry, route=route, graph=graph, engine_order=engine_order)\n",
    "    result.at[idx, 'duration'] = duration"
   ]
  },
  {
   "cell_type": "code",
   "execution_count": 37,
   "id": "12d9491d",
   "metadata": {},
   "outputs": [
    {
     "data": {
      "text/plain": [
       "name                                direct\n",
       "waypoints                        [A, D, H]\n",
       "route             [A, B, C, D, E, F, G, H]\n",
       "engine_order                           0.9\n",
       "green_routing                        False\n",
       "green_steaming                       False\n",
       "duration                         81.064119\n",
       "Name: 8, dtype: object"
      ]
     },
     "execution_count": 37,
     "metadata": {},
     "output_type": "execute_result"
    }
   ],
   "source": [
    "# best option from duration perspective\n",
    "result.loc[alternatives_df['duration'].argmin()]"
   ]
  },
  {
   "cell_type": "code",
   "execution_count": null,
   "id": "7acc3340",
   "metadata": {},
   "outputs": [],
   "source": []
  }
 ],
 "metadata": {
  "kernelspec": {
   "display_name": "Python 3 (ipykernel)",
   "language": "python",
   "name": "python3"
  },
  "language_info": {
   "codemirror_mode": {
    "name": "ipython",
    "version": 3
   },
   "file_extension": ".py",
   "mimetype": "text/x-python",
   "name": "python",
   "nbconvert_exporter": "python",
   "pygments_lexer": "ipython3",
   "version": "3.9.16"
  }
 },
 "nbformat": 4,
 "nbformat_minor": 5
}
