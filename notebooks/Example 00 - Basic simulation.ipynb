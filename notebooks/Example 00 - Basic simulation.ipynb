{
 "cells": [
  {
   "cell_type": "markdown",
   "metadata": {},
   "source": [
    "## Setup of a basic simulation\n",
    "In this notebook, we set up a basic simulation where a vessel moves over a 1D network path. The example aims to provides a basic understanding of some key OpenTNSim core functions and shows what an OpenTNSim model run looks like. \n",
    "\n",
    "We take the following steps:\n",
    "\n",
    "1. [Imports](#1.-Imports)\n",
    "2. [Create graph](#2.-Create-graph)\n",
    "3. [Create vessel](#3.-Create-vessel)\n",
    "4. [Run simulation](#4.-Run-simulation)\n",
    "5. [Inspect output](#5.-Inspect-output)"
   ]
  },
  {
   "cell_type": "markdown",
   "metadata": {},
   "source": [
    "### 1. Imports\n",
    "We start with importing required libraries"
   ]
  },
  {
   "cell_type": "code",
   "execution_count": 1,
   "metadata": {},
   "outputs": [
    {
     "name": "stdout",
     "output_type": "stream",
     "text": [
      "This notebook is executed with OpenTNSim version 1.1.2\n"
     ]
    }
   ],
   "source": [
    "# package(s) used for creating and geo-locating the graph\n",
    "import networkx as nx  \n",
    "import shapely.geometry\n",
    "import pyproj\n",
    "\n",
    "# package(s) related to the simulation (creating the vessel, running the simulation)\n",
    "import datetime, time\n",
    "import simpy\n",
    "import opentnsim\n",
    "\n",
    "# package(s) needed for inspecting the output\n",
    "import pandas as pd\n",
    "\n",
    "# package(s) needed for plotting\n",
    "import matplotlib.pyplot as plt\n",
    "\n",
    "print('This notebook is executed with OpenTNSim version {}'.format(opentnsim.__version__))"
   ]
  },
  {
   "cell_type": "markdown",
   "metadata": {},
   "source": [
    "### 2. Create graph\n",
    "Step one is to create a 1D network (a graph) along which the vessel can move. A graph is made of nodes (blue dots in the plot below) and edges (links between the nodes in the plot below). We use the python package networkx to do this. \n",
    "\n",
    "For this example, we construct a network of 4 nodes linked by 3 edges. The edges are made bi-directional to allow for two-way traffic, which means that the graph in the end contains 6 edges.\n",
    "\n",
    "<!-- Due to the nature of discrete modelling in which the time step is dependent on the activities (in this example: forcing a ship to move from node to node from its origin to its destination), it is important to add OpenTNSim mix-ins to the nodes in such a way we could identify the node (mix-in Identifiable, which imports a name and imports/creates an ID), and to locate the node (mix-in Locatable, which gives the node a geometry). -->"
   ]
  },
  {
   "cell_type": "code",
   "execution_count": 2,
   "metadata": {},
   "outputs": [],
   "source": [
    "# specify a number of coordinates along your route (coords are specified in world coordinates: lon, lat)\n",
    "coords = [\n",
    "    [0,0],\n",
    "    [0.1,0], \n",
    "    [0.2,0], \n",
    "    [0.3,0]] "
   ]
  },
  {
   "cell_type": "code",
   "execution_count": 3,
   "metadata": {},
   "outputs": [],
   "source": [
    "# create a graph based on coords and depths\n",
    "FG = nx.DiGraph()\n",
    "\n",
    "# make your preferred site class out of available mix-ins.\n",
    "Node = type('Site', (opentnsim.core.Identifiable, opentnsim.core.Locatable), {})\n",
    "\n",
    "# add nodes\n",
    "nodes = []\n",
    "for index, coord in enumerate(coords):\n",
    "    data_node = {\"name\": str(index), \"geometry\": shapely.geometry.Point(coord[0], coord[1])}\n",
    "    nodes.append(Node(**data_node))\n",
    "    \n",
    "for node in nodes:\n",
    "    FG.add_node(node.name, geometry = node.geometry)\n",
    "\n",
    "# add edges\n",
    "path = [[nodes[i], nodes[i+1]] for i in range(len(nodes)-1)]\n",
    "\n",
    "for index, edge in enumerate(path):\n",
    "    FG.add_edge(edge[0].name, edge[1].name, weight = 1)"
   ]
  },
  {
   "cell_type": "code",
   "execution_count": 4,
   "metadata": {},
   "outputs": [],
   "source": [
    "# toggle to undirected and back to directed to make sure all edges are two way traffic\n",
    "FG = FG.to_undirected() \n",
    "FG = FG.to_directed() "
   ]
  },
  {
   "cell_type": "code",
   "execution_count": 5,
   "metadata": {},
   "outputs": [],
   "source": [
    "# create a positions dict for the purpose of plotting\n",
    "positions = {}\n",
    "for node in FG.nodes:\n",
    "    positions[node] = (FG.nodes[node]['geometry'].x, FG.nodes[node]['geometry'].y)"
   ]
  },
  {
   "cell_type": "code",
   "execution_count": 6,
   "metadata": {},
   "outputs": [],
   "source": [
    "# collect node labels.\n",
    "labels = {}\n",
    "for node in FG.nodes:\n",
    "    labels[node] = node"
   ]
  },
  {
   "cell_type": "code",
   "execution_count": 7,
   "metadata": {},
   "outputs": [
    {
     "name": "stdout",
     "output_type": "stream",
     "text": [
      "Number of nodes is 4:\n",
      "Number of edges is 6:\n"
     ]
    },
    {
     "data": {
      "image/png": "[encoded data removed]",
      "text/plain": [
       "<Figure size 432x288 with 1 Axes>"
      ]
     },
     "metadata": {},
     "output_type": "display_data"
    }
   ],
   "source": [
    "print('Number of nodes is {}:'.format(len(FG.nodes)))\n",
    "print('Number of edges is {}:'.format(len(FG.edges)))\n",
    "\n",
    "# draw edges, nodes and labels.\n",
    "nx.draw_networkx_edges(FG, positions, width=3, edge_color=\"red\", alpha=1, arrowsize=20)\n",
    "nx.draw_networkx_nodes(FG, positions, node_color=\"darkblue\", node_size=600)\n",
    "nx.draw_networkx_labels(FG, pos=positions, labels=labels, font_size=15, font_weight='bold', font_color=\"white\")\n",
    "\n",
    "plt.axis(\"off\")\n",
    "plt.show()"
   ]
  },
  {
   "cell_type": "markdown",
   "metadata": {},
   "source": [
    "### 3. Create vessel\n",
    "Next we create a vessel class. We call this class a *TransportResource*, and add a number of OpenTNSim mix-ins to this class. Each mix-in requires certain input parameters. \n",
    "\n",
    "The following mix-ins are required for a vessel in our problem: \n",
    "* _Identifiable_ - allows to give the vessel a name and a random ID, \n",
    "* _Movable_ - allows the vessel to move, with a fixed speed, while logging this activity,\n",
    "   * Movable in turn relies on the mix-ins: _Locatable_, _Routeable_, and _Log_, and "
   ]
  },
  {
   "cell_type": "code",
   "execution_count": 8,
   "metadata": {},
   "outputs": [],
   "source": [
    "# make your preferred vessel class out of available mix-ins.\n",
    "TransportResource = type('Vessel', \n",
    "                         (opentnsim.core.Identifiable, opentnsim.core.Movable), {})"
   ]
  },
  {
   "cell_type": "code",
   "execution_count": 9,
   "metadata": {},
   "outputs": [],
   "source": [
    "# create a dict with input data for the TransportResource class\n",
    "\n",
    "# create a path along that the vessel needs to follow (in this case from the first node to the last node)\n",
    "path = nx.dijkstra_path(FG, nodes[0].name, nodes[3].name)\n",
    "\n",
    "# create a dict with all important settings\n",
    "data_vessel = {\"env\": None,          # needed for simpy simulation\n",
    "               \"name\": 'Vessel 1',   # required by Identifiable\n",
    "               \"geometry\": None,     # required by Locatable\n",
    "               \"route\": path,        # required by Routeable\n",
    "               \"v\": 1}               # required by Movable"
   ]
  },
  {
   "cell_type": "code",
   "execution_count": 10,
   "metadata": {},
   "outputs": [],
   "source": [
    "# create an instance of the TransportResource class using the input data dict\n",
    "vessel = TransportResource(**data_vessel)"
   ]
  },
  {
   "cell_type": "markdown",
   "metadata": {},
   "source": [
    "### 4. Run simulation\n",
    "Now we can define the run. First, we make an environment and add the graph to the environment. Then we add one vessel, to which we will append the environment and the above route. Lastly, we give the vessel the process of moving from the origin to the destination of the defined path and subsequently run the model."
   ]
  },
  {
   "cell_type": "code",
   "execution_count": 11,
   "metadata": {},
   "outputs": [],
   "source": [
    "# start simpy environment (specify the start time and add the graph to the environment)\n",
    "simulation_start = datetime.datetime.now()\n",
    "env = simpy.Environment(initial_time = time.mktime(simulation_start.timetuple()))\n",
    "env.epoch = time.mktime(simulation_start.timetuple())\n",
    "env.FG = FG\n",
    "\n",
    "# add environment to the vessel, and specify the vessels current location (beginning of the path)\n",
    "vessel.env = env                                        \n",
    "vessel.geometry = env.FG.nodes[path[0]]['geometry']     \n",
    "\n",
    "# specify the process that needs to be executed\n",
    "env.process(vessel.move())\n",
    "\n",
    "# start the simulation\n",
    "env.run()"
   ]
  },
  {
   "cell_type": "markdown",
   "metadata": {},
   "source": [
    "### 5. Inspect output\n",
    "We can now analyse the simulation output by inspecting the vessel.log. Note that the _Log_ mix-in was included when we added _Movable_. The vessel.log keeps track of the moving activities of the vessel. For each discrete event OpenTNSim logs an event message, the start/stop time and the location. The vessel.log is of type dict. For convenient inspection it can be loaded into a Pandas dataframe. "
   ]
  },
  {
   "cell_type": "code",
   "execution_count": 12,
   "metadata": {},
   "outputs": [
    {
     "data": {
      "text/html": [
       "<div>\n",
       "<style scoped>\n",
       "    .dataframe tbody tr th:only-of-type {\n",
       "        vertical-align: middle;\n",
       "    }\n",
       "\n",
       "    .dataframe tbody tr th {\n",
       "        vertical-align: top;\n",
       "    }\n",
       "\n",
       "    .dataframe thead th {\n",
       "        text-align: right;\n",
       "    }\n",
       "</style>\n",
       "<table border=\"1\" class=\"dataframe\">\n",
       "  <thead>\n",
       "    <tr style=\"text-align: right;\">\n",
       "      <th></th>\n",
       "      <th>Message</th>\n",
       "      <th>Timestamp</th>\n",
       "      <th>Value</th>\n",
       "      <th>Geometry</th>\n",
       "    </tr>\n",
       "  </thead>\n",
       "  <tbody>\n",
       "    <tr>\n",
       "      <th>0</th>\n",
       "      <td>Sailing from node 0 to node 1 start</td>\n",
       "      <td>2022-04-18 18:59:05.000000</td>\n",
       "      <td>0</td>\n",
       "      <td>POINT (0 0)</td>\n",
       "    </tr>\n",
       "    <tr>\n",
       "      <th>1</th>\n",
       "      <td>Sailing from node 0 to node 1 stop</td>\n",
       "      <td>2022-04-18 22:04:36.949079</td>\n",
       "      <td>0</td>\n",
       "      <td>POINT (0.1 0)</td>\n",
       "    </tr>\n",
       "    <tr>\n",
       "      <th>2</th>\n",
       "      <td>Sailing from node 1 to node 2 start</td>\n",
       "      <td>2022-04-18 22:04:36.949079</td>\n",
       "      <td>0</td>\n",
       "      <td>POINT (0.1 0)</td>\n",
       "    </tr>\n",
       "    <tr>\n",
       "      <th>3</th>\n",
       "      <td>Sailing from node 1 to node 2 stop</td>\n",
       "      <td>2022-04-19 01:10:08.898159</td>\n",
       "      <td>0</td>\n",
       "      <td>POINT (0.2 0)</td>\n",
       "    </tr>\n",
       "    <tr>\n",
       "      <th>4</th>\n",
       "      <td>Sailing from node 2 to node 3 start</td>\n",
       "      <td>2022-04-19 01:10:08.898159</td>\n",
       "      <td>0</td>\n",
       "      <td>POINT (0.2 0)</td>\n",
       "    </tr>\n",
       "    <tr>\n",
       "      <th>5</th>\n",
       "      <td>Sailing from node 2 to node 3 stop</td>\n",
       "      <td>2022-04-19 04:15:40.847238</td>\n",
       "      <td>0</td>\n",
       "      <td>POINT (0.3 0)</td>\n",
       "    </tr>\n",
       "  </tbody>\n",
       "</table>\n",
       "</div>"
      ],
      "text/plain": [
       "                               Message                  Timestamp  Value  \\\n",
       "0  Sailing from node 0 to node 1 start 2022-04-18 18:59:05.000000      0   \n",
       "1   Sailing from node 0 to node 1 stop 2022-04-18 22:04:36.949079      0   \n",
       "2  Sailing from node 1 to node 2 start 2022-04-18 22:04:36.949079      0   \n",
       "3   Sailing from node 1 to node 2 stop 2022-04-19 01:10:08.898159      0   \n",
       "4  Sailing from node 2 to node 3 start 2022-04-19 01:10:08.898159      0   \n",
       "5   Sailing from node 2 to node 3 stop 2022-04-19 04:15:40.847238      0   \n",
       "\n",
       "        Geometry  \n",
       "0    POINT (0 0)  \n",
       "1  POINT (0.1 0)  \n",
       "2  POINT (0.1 0)  \n",
       "3  POINT (0.2 0)  \n",
       "4  POINT (0.2 0)  \n",
       "5  POINT (0.3 0)  "
      ]
     },
     "execution_count": 12,
     "metadata": {},
     "output_type": "execute_result"
    }
   ],
   "source": [
    "df = pd.DataFrame.from_dict(vessel.log)\n",
    "df"
   ]
  },
  {
   "cell_type": "markdown",
   "metadata": {},
   "source": [
    "The log data shows that the vessel moved from its origin (*Node 0*) to its destination (*Node 3*), passing *Node 1* and *Node 2* in the process. OpenTNSim calculates the time it takes to pass an edge by computing its length (the greater circle distance between the nodes) divided by the sailing speed of the vessel. \n",
    "\n",
    "For this simple example we set the vessel speed (*v*) to 1 m/s. So the sailing time in seconds should be equal to the sailing distance in meters. We demonstrate this by plotting a distance-time graph."
   ]
  },
  {
   "cell_type": "code",
   "execution_count": 13,
   "metadata": {},
   "outputs": [],
   "source": [
    "def calculate_distance(orig, dest):\n",
    "    \"\"\"method to calculate the greater circle distance in meters from WGS84 lon, lat coordinates\"\"\"\n",
    "    \n",
    "    wgs84 = pyproj.Geod(ellps='WGS84')\n",
    "    distance = wgs84.inv(orig[0], orig[1], \n",
    "                         dest[0], dest[1])[2]\n",
    "    \n",
    "    return distance"
   ]
  },
  {
   "cell_type": "code",
   "execution_count": 14,
   "metadata": {},
   "outputs": [],
   "source": [
    "# initialise variables\n",
    "trip_distance = []\n",
    "trip_time = []\n",
    "start_time = simulation_start.timestamp()\n",
    "\n",
    "# loop through vessel.log to collect information to plot \n",
    "for t in range(0,len(vessel.log[\"Message\"])): \n",
    "    # extract origin, destination and step_time from log\n",
    "    origin = (vessel.log[\"Geometry\"][0].x,vessel.log['Geometry'][0].y)\n",
    "    destination = (vessel.log[\"Geometry\"][t].x,vessel.log['Geometry'][t].y)\n",
    "    step_time = vessel.log[\"Timestamp\"][t].timestamp()\n",
    "    \n",
    "    # add trip distance and time to lists\n",
    "    trip_distance.append(calculate_distance(origin, destination))\n",
    "    trip_time.append(step_time - start_time)"
   ]
  },
  {
   "cell_type": "code",
   "execution_count": 15,
   "metadata": {},
   "outputs": [
    {
     "data": {
      "image/png": "[encoded data removed]",
      "text/plain": [
       "<Figure size 720x720 with 1 Axes>"
      ]
     },
     "metadata": {
      "needs_background": "light"
     },
     "output_type": "display_data"
    }
   ],
   "source": [
    "fig, ax = plt.subplots(figsize=(10, 10))\n",
    "\n",
    "# specify fontsizes for the plot\n",
    "titlesize = 16\n",
    "labelsize = 14\n",
    "ticksize = 12\n",
    "\n",
    "# plot the distance time information\n",
    "plt.plot(trip_distance, trip_time)\n",
    "\n",
    "# set axis\n",
    "plt.axis([0, 35000, 0, 35000])\n",
    "\n",
    "# plot title\n",
    "plt.title(\"A vessel moving over the network\", fontweight='bold', fontsize=titlesize)\n",
    "\n",
    "# plot axes labels\n",
    "plt.xlabel(\"Distance [m]\", weight = 'bold', fontsize=labelsize)\n",
    "plt.ylabel(\"Time [s]\", weight = 'bold', fontsize=labelsize)\n",
    "\n",
    "# plot ticks\n",
    "plt.xticks( weight = 'bold', fontsize=ticksize)\n",
    "plt.yticks( weight = 'bold', fontsize=ticksize)\n",
    "\n",
    "# show plot\n",
    "plt.show()"
   ]
  }
 ],
 "metadata": {
  "kernelspec": {
   "display_name": "Python 3",
   "language": "python",
   "name": "python3"
  },
  "language_info": {
   "codemirror_mode": {
    "name": "ipython",
    "version": 3
   },
   "file_extension": ".py",
   "mimetype": "text/x-python",
   "name": "python",
   "nbconvert_exporter": "python",
   "pygments_lexer": "ipython3",
   "version": "3.8.6"
  }
 },
 "nbformat": 4,
 "nbformat_minor": 5
}
