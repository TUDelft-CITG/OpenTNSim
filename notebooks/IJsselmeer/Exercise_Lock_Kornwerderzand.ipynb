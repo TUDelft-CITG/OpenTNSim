{
 "cells": [
  {
   "cell_type": "markdown",
   "id": "a7c23f3d",
   "metadata": {},
   "source": [
    "### Import packages"
   ]
  },
  {
   "cell_type": "code",
   "execution_count": 1,
   "id": "0a5d60f0",
   "metadata": {},
   "outputs": [],
   "source": [
    "import folium\n",
    "import functools\n",
    "import geopandas as gpd\n",
    "import io\n",
    "import logging\n",
    "import matplotlib as mpl\n",
    "import matplotlib.pyplot as plt\n",
    "import networkx as nx\n",
    "import numpy as np\n",
    "from opentnsim import core\n",
    "from opentnsim import lock as lock_module\n",
    "from opentnsim import graph as graph_module\n",
    "from opentnsim import model\n",
    "from opentnsim import output\n",
    "from opentnsim import vessel as vessel_module\n",
    "from opentnsim import vessel_traffic_service\n",
    "import os\n",
    "import pandas as pd\n",
    "import pickle\n",
    "import pyproj\n",
    "import requests\n",
    "from shapely.geometry import Point,LineString,Polygon\n",
    "from shapely.geometry.collection import GeometryCollection\n",
    "from shapely.ops import transform, linemerge, split, snap\n",
    "import simpy\n",
    "import time\n",
    "import yaml\n",
    "\n",
    "logging.basicConfig(level=logging.INFO)\n",
    "logger = logging.getLogger()\n",
    "%matplotlib inline"
   ]
  },
  {
   "cell_type": "markdown",
   "id": "df03f7f1",
   "metadata": {},
   "source": [
    "# Basic lock simulation\n",
    "Remember the exercise on the capacity of a lock that was given by Arne van der Hout? Instead of calculating the lock capacity by hand, we can actually simulate locks using the software of OpenTNSim. How does this work?"
   ]
  },
  {
   "cell_type": "markdown",
   "id": "6fbebce0",
   "metadata": {},
   "source": [
    "First, we create an environment"
   ]
  },
  {
   "cell_type": "code",
   "execution_count": 2,
   "id": "625191e8",
   "metadata": {},
   "outputs": [],
   "source": [
    "#We have to create a start time for the simulation\n",
    "simulation_start = pd.Timestamp('2024-01-01')\n",
    "\n",
    "#Now we create the environment, including the initial_time\n",
    "env = simpy.Environment(initial_time=time.mktime(simulation_start.timetuple()))\n",
    "\n",
    "#Also we need to add this time to a variable in the environment\n",
    "env.simulation_start = simulation_start"
   ]
  },
  {
   "cell_type": "markdown",
   "id": "b82dde0d",
   "metadata": {},
   "source": [
    "We need to create a graph and add to the environment"
   ]
  },
  {
   "cell_type": "code",
   "execution_count": 3,
   "id": "50df10ec",
   "metadata": {},
   "outputs": [],
   "source": [
    "#We need to create a network over which the vessels will sail, starting by creating nodes and edges\n",
    "node_A = graph_module.Node(name='A',geometry=Point(0,0))\n",
    "node_B = graph_module.Node(name='B',geometry=Point(400,0))\n",
    "edges = [(node_A,node_B)]\n",
    "FG = graph_module.DiGraph(edges=edges,crs='EPSG:28992').graph\n",
    "env.FG = nx.MultiDiGraph(FG)\n",
    "\n",
    "#In order from ships to know where they are going we need to add an VTS to the environment\n",
    "env.vessel_traffic_service = vessel_traffic_service.VesselTrafficService()"
   ]
  },
  {
   "cell_type": "markdown",
   "id": "bb9c3c27",
   "metadata": {},
   "source": [
    "Now we need to create the lock infrastructure"
   ]
  },
  {
   "cell_type": "code",
   "execution_count": 4,
   "id": "85705dcf",
   "metadata": {},
   "outputs": [],
   "source": [
    "lock = lock_module.IsLockComplex(env=env,\n",
    "                                 name='Lock I',\n",
    "                                 start_node='A',\n",
    "                                 end_node='B',\n",
    "                                 lock_length = 120,\n",
    "                                 lock_width = 18,\n",
    "                                 lock_depth = 6,\n",
    "                                 lineup_area_A_length=120,\n",
    "                                 lineup_area_B_length=120,\n",
    "                                 levelling_time=1500,\n",
    "                                 distance_doors_A_from_waiting_area_A=140,\n",
    "                                 distance_doors_B_from_waiting_area_B=140,\n",
    "                                 distance_waiting_area_A_from_start_node=0,\n",
    "                                 distance_waiting_area_B_from_end_node=0,\n",
    "                                 distance_lineup_area_A_to_lock_doors_A=20,\n",
    "                                 distance_lineup_area_B_to_lock_doors_B=20)"
   ]
  },
  {
   "cell_type": "markdown",
   "id": "e76111cf",
   "metadata": {},
   "source": [
    "Now we need to add a vessel"
   ]
  },
  {
   "cell_type": "code",
   "execution_count": 5,
   "id": "29294d6e",
   "metadata": {},
   "outputs": [],
   "source": [
    "#We create a type element that schematisizes a vessel\n",
    "Vessel = type('Vessel',(core.SimpyObject, #It should be a simpy element\n",
    "                        core.Identifiable, #The vessel should be identifiable\n",
    "                        lock_module.HasLockComplex, #The vessel should interact with the Lock Complex\n",
    "                        vessel_module.VesselProperties, #The vessel should have properties\n",
    "                        vessel_module.ExtraMetadata, #The vessel can have extra metadata\n",
    "                        output.HasOutput),{}) #The vessel should have output\n",
    "\n",
    "#Using the element, we need to give the following information to the vessel\n",
    "vessel_I = Vessel(env=env,\n",
    "                  name='Vessel I', \n",
    "                  geometry=env.FG.nodes['A']['geometry'],\n",
    "                  origin='A',\n",
    "                  destination='B',\n",
    "                  route=nx.dijkstra_path(env.FG,'A','B'),\n",
    "                  type='inland vessel',\n",
    "                  L=100,\n",
    "                  B=15,\n",
    "                  T=5,\n",
    "                  H=4,\n",
    "                  v=4,\n",
    "                  arrival_time=pd.Timestamp('2024-01-01'),)\n",
    "\n",
    "vessel_II = Vessel(env=env,\n",
    "                   name='Vessel II', \n",
    "                   geometry=env.FG.nodes['B']['geometry'],\n",
    "                   origin='B',\n",
    "                   destination='A',\n",
    "                   route=nx.dijkstra_path(env.FG,'B','A'),\n",
    "                   type='inland vessel',\n",
    "                   L=100,\n",
    "                   B=15,\n",
    "                   T=5,\n",
    "                   H=4,\n",
    "                   v=4,\n",
    "                   arrival_time=pd.Timestamp('2024-01-01'),)"
   ]
  },
  {
   "cell_type": "markdown",
   "id": "20f3a1a9",
   "metadata": {},
   "source": [
    "We can now create a process in the environment in which the vessel will move (from node A to node B)"
   ]
  },
  {
   "cell_type": "code",
   "execution_count": 6,
   "id": "ef3f9ae5",
   "metadata": {},
   "outputs": [
    {
     "data": {
      "text/plain": [
       "<Process(move) object at 0x249f8f1f040>"
      ]
     },
     "execution_count": 6,
     "metadata": {},
     "output_type": "execute_result"
    }
   ],
   "source": [
    "env.process(vessel_I.move())\n",
    "env.process(vessel_II.move())"
   ]
  },
  {
   "cell_type": "markdown",
   "id": "3848b4b7",
   "metadata": {},
   "source": [
    "Run the simulation"
   ]
  },
  {
   "cell_type": "code",
   "execution_count": 7,
   "id": "247ed770",
   "metadata": {},
   "outputs": [],
   "source": [
    "env.run()"
   ]
  },
  {
   "cell_type": "markdown",
   "id": "a3318026",
   "metadata": {},
   "source": [
    "We can now analyse the logbook of the vessel"
   ]
  },
  {
   "cell_type": "code",
   "execution_count": 8,
   "id": "adb16e6a",
   "metadata": {},
   "outputs": [
    {
     "data": {
      "text/html": [
       "<div>\n",
       "<style scoped>\n",
       "    .dataframe tbody tr th:only-of-type {\n",
       "        vertical-align: middle;\n",
       "    }\n",
       "\n",
       "    .dataframe tbody tr th {\n",
       "        vertical-align: top;\n",
       "    }\n",
       "\n",
       "    .dataframe thead th {\n",
       "        text-align: right;\n",
       "    }\n",
       "</style>\n",
       "<table border=\"1\" class=\"dataframe\">\n",
       "  <thead>\n",
       "    <tr style=\"text-align: right;\">\n",
       "      <th></th>\n",
       "      <th>Time</th>\n",
       "      <th>Location</th>\n",
       "      <th>Action</th>\n",
       "      <th>Status</th>\n",
       "    </tr>\n",
       "  </thead>\n",
       "  <tbody>\n",
       "    <tr>\n",
       "      <th>0</th>\n",
       "      <td>2024-01-01 00:00:00.000000</td>\n",
       "      <td>POINT (3.3189057210154163 47.974865504052005)</td>\n",
       "      <td>Sailing from node B to node A start</td>\n",
       "      <td>{'origin': 'B', 'destination': 'A', 'route': [...</td>\n",
       "    </tr>\n",
       "    <tr>\n",
       "      <th>1</th>\n",
       "      <td>2024-01-01 00:00:00.000000</td>\n",
       "      <td>POINT (3.318905721015416 47.974865504052005)</td>\n",
       "      <td>Sailing to position in line-up area start</td>\n",
       "      <td>{'origin': 'B', 'destination': 'A', 'route': [...</td>\n",
       "    </tr>\n",
       "    <tr>\n",
       "      <th>2</th>\n",
       "      <td>2024-01-01 00:00:23.333333</td>\n",
       "      <td>POINT (3.3179685172761793 47.97484806468334)</td>\n",
       "      <td>Sailing to position in line-up area stop</td>\n",
       "      <td>{'origin': 'B', 'destination': 'A', 'route': [...</td>\n",
       "    </tr>\n",
       "    <tr>\n",
       "      <th>3</th>\n",
       "      <td>2024-01-01 00:00:23.333333</td>\n",
       "      <td>POINT (3.3179685172761793 47.97484806468334)</td>\n",
       "      <td>Waiting in line-up area start</td>\n",
       "      <td>{'origin': 'B', 'destination': 'A', 'route': [...</td>\n",
       "    </tr>\n",
       "    <tr>\n",
       "      <th>4</th>\n",
       "      <td>2024-01-01 00:29:29.444444</td>\n",
       "      <td>POINT (3.3179685172761793 47.97484806468334)</td>\n",
       "      <td>Waiting in line-up area stop</td>\n",
       "      <td>{'origin': 'B', 'destination': 'A', 'route': [...</td>\n",
       "    </tr>\n",
       "    <tr>\n",
       "      <th>5</th>\n",
       "      <td>2024-01-01 00:29:29.444444</td>\n",
       "      <td>POINT (3.3179685172761793 47.97484806468334)</td>\n",
       "      <td>Sailing to end of line-up area start</td>\n",
       "      <td>{'origin': 'B', 'destination': 'A', 'route': [...</td>\n",
       "    </tr>\n",
       "    <tr>\n",
       "      <th>6</th>\n",
       "      <td>2024-01-01 00:30:25.000000</td>\n",
       "      <td>POINT (3.3172990864203618 47.97483560330969)</td>\n",
       "      <td>Sailing to end of line-up area stop</td>\n",
       "      <td>{'origin': 'B', 'destination': 'A', 'route': [...</td>\n",
       "    </tr>\n",
       "    <tr>\n",
       "      <th>7</th>\n",
       "      <td>2024-01-01 00:30:25.000000</td>\n",
       "      <td>POINT (3.3172990864203618 47.97483560330969)</td>\n",
       "      <td>Sailing to first set of lock doors start</td>\n",
       "      <td>{'origin': 'B', 'destination': 'A', 'route': [...</td>\n",
       "    </tr>\n",
       "    <tr>\n",
       "      <th>8</th>\n",
       "      <td>2024-01-01 00:30:47.222222</td>\n",
       "      <td>POINT (3.317031314168243 47.97483061766784)</td>\n",
       "      <td>Sailing to first set of lock doors stop</td>\n",
       "      <td>{'origin': 'B', 'destination': 'A', 'route': [...</td>\n",
       "    </tr>\n",
       "    <tr>\n",
       "      <th>9</th>\n",
       "      <td>2024-01-01 00:30:47.222222</td>\n",
       "      <td>POINT (3.317031314168243 47.97483061766784)</td>\n",
       "      <td>Sailing to assigned location in lock start</td>\n",
       "      <td>{'origin': 'B', 'destination': 'A', 'route': [...</td>\n",
       "    </tr>\n",
       "    <tr>\n",
       "      <th>10</th>\n",
       "      <td>2024-01-01 00:32:05.000000</td>\n",
       "      <td>POINT (3.3160941116918843 47.9748131630055)</td>\n",
       "      <td>Sailing to assigned location in lock stop</td>\n",
       "      <td>{'origin': 'B', 'destination': 'A', 'route': [...</td>\n",
       "    </tr>\n",
       "    <tr>\n",
       "      <th>11</th>\n",
       "      <td>2024-01-01 00:32:05.000000</td>\n",
       "      <td>POINT (3.3160941116918843 47.9748131630055)</td>\n",
       "      <td>Passing lock start</td>\n",
       "      <td>{'origin': 'B', 'destination': 'A', 'route': [...</td>\n",
       "    </tr>\n",
       "    <tr>\n",
       "      <th>12</th>\n",
       "      <td>2024-01-01 00:57:05.000000</td>\n",
       "      <td>POINT (3.3160941116918843 47.9748131630055)</td>\n",
       "      <td>Passing lock stop</td>\n",
       "      <td>{'origin': 'B', 'destination': 'A', 'route': [...</td>\n",
       "    </tr>\n",
       "    <tr>\n",
       "      <th>13</th>\n",
       "      <td>2024-01-01 00:57:05.000000</td>\n",
       "      <td>POINT (3.3160941116918843 47.9748131630055)</td>\n",
       "      <td>Sailing to second set of lock doors start</td>\n",
       "      <td>{'origin': 'B', 'destination': 'A', 'route': [...</td>\n",
       "    </tr>\n",
       "    <tr>\n",
       "      <th>14</th>\n",
       "      <td>2024-01-01 00:58:00.555556</td>\n",
       "      <td>POINT (3.3154320350738398 47.97480082773064)</td>\n",
       "      <td>Sailing to second set of lock doors stop</td>\n",
       "      <td>{'origin': 'B', 'destination': 'A', 'route': [...</td>\n",
       "    </tr>\n",
       "    <tr>\n",
       "      <th>15</th>\n",
       "      <td>2024-01-01 00:58:00.555556</td>\n",
       "      <td>POINT (3.3154320350738398 47.97480082773064)</td>\n",
       "      <td>Sailing to line-up area start</td>\n",
       "      <td>{'origin': 'B', 'destination': 'A', 'route': [...</td>\n",
       "    </tr>\n",
       "    <tr>\n",
       "      <th>16</th>\n",
       "      <td>2024-01-01 00:58:05.555556</td>\n",
       "      <td>POINT (3.3151642631813405 47.97479583773631)</td>\n",
       "      <td>Sailing to line-up area stop</td>\n",
       "      <td>{'origin': 'B', 'destination': 'A', 'route': [...</td>\n",
       "    </tr>\n",
       "    <tr>\n",
       "      <th>17</th>\n",
       "      <td>2024-01-01 00:58:05.555556</td>\n",
       "      <td>POINT (3.3151642631813405 47.97479583773631)</td>\n",
       "      <td>Passing line-up area start</td>\n",
       "      <td>{'origin': 'B', 'destination': 'A', 'route': [...</td>\n",
       "    </tr>\n",
       "    <tr>\n",
       "      <th>18</th>\n",
       "      <td>2024-01-01 00:58:35.555556</td>\n",
       "      <td>POINT (3.3135576329102165 47.97476588466147)</td>\n",
       "      <td>Passing line-up area stop</td>\n",
       "      <td>{'origin': 'B', 'destination': 'A', 'route': [...</td>\n",
       "    </tr>\n",
       "    <tr>\n",
       "      <th>19</th>\n",
       "      <td>2024-01-01 00:58:35.555556</td>\n",
       "      <td>POINT (3.3135576329102165 47.97476588466147)</td>\n",
       "      <td>Sailing from node B to node A stop</td>\n",
       "      <td>{'origin': 'B', 'destination': 'A', 'route': [...</td>\n",
       "    </tr>\n",
       "  </tbody>\n",
       "</table>\n",
       "</div>"
      ],
      "text/plain": [
       "                         Time                                       Location  \\\n",
       "0  2024-01-01 00:00:00.000000  POINT (3.3189057210154163 47.974865504052005)   \n",
       "1  2024-01-01 00:00:00.000000   POINT (3.318905721015416 47.974865504052005)   \n",
       "2  2024-01-01 00:00:23.333333   POINT (3.3179685172761793 47.97484806468334)   \n",
       "3  2024-01-01 00:00:23.333333   POINT (3.3179685172761793 47.97484806468334)   \n",
       "4  2024-01-01 00:29:29.444444   POINT (3.3179685172761793 47.97484806468334)   \n",
       "5  2024-01-01 00:29:29.444444   POINT (3.3179685172761793 47.97484806468334)   \n",
       "6  2024-01-01 00:30:25.000000   POINT (3.3172990864203618 47.97483560330969)   \n",
       "7  2024-01-01 00:30:25.000000   POINT (3.3172990864203618 47.97483560330969)   \n",
       "8  2024-01-01 00:30:47.222222    POINT (3.317031314168243 47.97483061766784)   \n",
       "9  2024-01-01 00:30:47.222222    POINT (3.317031314168243 47.97483061766784)   \n",
       "10 2024-01-01 00:32:05.000000    POINT (3.3160941116918843 47.9748131630055)   \n",
       "11 2024-01-01 00:32:05.000000    POINT (3.3160941116918843 47.9748131630055)   \n",
       "12 2024-01-01 00:57:05.000000    POINT (3.3160941116918843 47.9748131630055)   \n",
       "13 2024-01-01 00:57:05.000000    POINT (3.3160941116918843 47.9748131630055)   \n",
       "14 2024-01-01 00:58:00.555556   POINT (3.3154320350738398 47.97480082773064)   \n",
       "15 2024-01-01 00:58:00.555556   POINT (3.3154320350738398 47.97480082773064)   \n",
       "16 2024-01-01 00:58:05.555556   POINT (3.3151642631813405 47.97479583773631)   \n",
       "17 2024-01-01 00:58:05.555556   POINT (3.3151642631813405 47.97479583773631)   \n",
       "18 2024-01-01 00:58:35.555556   POINT (3.3135576329102165 47.97476588466147)   \n",
       "19 2024-01-01 00:58:35.555556   POINT (3.3135576329102165 47.97476588466147)   \n",
       "\n",
       "                                        Action  \\\n",
       "0          Sailing from node B to node A start   \n",
       "1    Sailing to position in line-up area start   \n",
       "2     Sailing to position in line-up area stop   \n",
       "3                Waiting in line-up area start   \n",
       "4                 Waiting in line-up area stop   \n",
       "5         Sailing to end of line-up area start   \n",
       "6          Sailing to end of line-up area stop   \n",
       "7     Sailing to first set of lock doors start   \n",
       "8      Sailing to first set of lock doors stop   \n",
       "9   Sailing to assigned location in lock start   \n",
       "10   Sailing to assigned location in lock stop   \n",
       "11                          Passing lock start   \n",
       "12                           Passing lock stop   \n",
       "13   Sailing to second set of lock doors start   \n",
       "14    Sailing to second set of lock doors stop   \n",
       "15               Sailing to line-up area start   \n",
       "16                Sailing to line-up area stop   \n",
       "17                  Passing line-up area start   \n",
       "18                   Passing line-up area stop   \n",
       "19          Sailing from node B to node A stop   \n",
       "\n",
       "                                               Status  \n",
       "0   {'origin': 'B', 'destination': 'A', 'route': [...  \n",
       "1   {'origin': 'B', 'destination': 'A', 'route': [...  \n",
       "2   {'origin': 'B', 'destination': 'A', 'route': [...  \n",
       "3   {'origin': 'B', 'destination': 'A', 'route': [...  \n",
       "4   {'origin': 'B', 'destination': 'A', 'route': [...  \n",
       "5   {'origin': 'B', 'destination': 'A', 'route': [...  \n",
       "6   {'origin': 'B', 'destination': 'A', 'route': [...  \n",
       "7   {'origin': 'B', 'destination': 'A', 'route': [...  \n",
       "8   {'origin': 'B', 'destination': 'A', 'route': [...  \n",
       "9   {'origin': 'B', 'destination': 'A', 'route': [...  \n",
       "10  {'origin': 'B', 'destination': 'A', 'route': [...  \n",
       "11  {'origin': 'B', 'destination': 'A', 'route': [...  \n",
       "12  {'origin': 'B', 'destination': 'A', 'route': [...  \n",
       "13  {'origin': 'B', 'destination': 'A', 'route': [...  \n",
       "14  {'origin': 'B', 'destination': 'A', 'route': [...  \n",
       "15  {'origin': 'B', 'destination': 'A', 'route': [...  \n",
       "16  {'origin': 'B', 'destination': 'A', 'route': [...  \n",
       "17  {'origin': 'B', 'destination': 'A', 'route': [...  \n",
       "18  {'origin': 'B', 'destination': 'A', 'route': [...  \n",
       "19  {'origin': 'B', 'destination': 'A', 'route': [...  "
      ]
     },
     "execution_count": 8,
     "metadata": {},
     "output_type": "execute_result"
    }
   ],
   "source": [
    "vessel_df = pd.DataFrame(vessel_II.log)\n",
    "vessel_df"
   ]
  },
  {
   "cell_type": "code",
   "execution_count": 9,
   "id": "4246aedc",
   "metadata": {},
   "outputs": [
    {
     "data": {
      "image/png": "[encoded data removed]",
      "text/plain": [
       "<Figure size 600x600 with 1 Axes>"
      ]
     },
     "metadata": {},
     "output_type": "display_data"
    }
   ],
   "source": [
    "fig,ax,times = lock.create_time_distance_diagram([vessel_I,vessel_II])"
   ]
  },
  {
   "cell_type": "markdown",
   "id": "a7682c89",
   "metadata": {},
   "source": [
    "And we can analyse the logbook of the lock"
   ]
  },
  {
   "cell_type": "code",
   "execution_count": 10,
   "id": "675ef10c",
   "metadata": {},
   "outputs": [
    {
     "data": {
      "text/html": [
       "<div>\n",
       "<style scoped>\n",
       "    .dataframe tbody tr th:only-of-type {\n",
       "        vertical-align: middle;\n",
       "    }\n",
       "\n",
       "    .dataframe tbody tr th {\n",
       "        vertical-align: top;\n",
       "    }\n",
       "\n",
       "    .dataframe thead th {\n",
       "        text-align: right;\n",
       "    }\n",
       "</style>\n",
       "<table border=\"1\" class=\"dataframe\">\n",
       "  <thead>\n",
       "    <tr style=\"text-align: right;\">\n",
       "      <th></th>\n",
       "      <th>Time</th>\n",
       "      <th>Location</th>\n",
       "      <th>Action</th>\n",
       "      <th>Status</th>\n",
       "    </tr>\n",
       "  </thead>\n",
       "  <tbody>\n",
       "    <tr>\n",
       "      <th>0</th>\n",
       "      <td>2024-01-01 00:02:58.888889</td>\n",
       "      <td>A</td>\n",
       "      <td>Lock doors closing start</td>\n",
       "      <td>{'visiting_vessels': [&lt;__main__.Vessel object ...</td>\n",
       "    </tr>\n",
       "    <tr>\n",
       "      <th>1</th>\n",
       "      <td>2024-01-01 00:02:58.888889</td>\n",
       "      <td>A</td>\n",
       "      <td>Lock doors closing stop</td>\n",
       "      <td>{'visiting_vessels': [&lt;__main__.Vessel object ...</td>\n",
       "    </tr>\n",
       "    <tr>\n",
       "      <th>2</th>\n",
       "      <td>2024-01-01 00:02:58.888889</td>\n",
       "      <td>A</td>\n",
       "      <td>Lock chamber converting start</td>\n",
       "      <td>{'visiting_vessels': [&lt;__main__.Vessel object ...</td>\n",
       "    </tr>\n",
       "    <tr>\n",
       "      <th>3</th>\n",
       "      <td>2024-01-01 00:27:58.888889</td>\n",
       "      <td>B</td>\n",
       "      <td>Lock chamber converting stop</td>\n",
       "      <td>{'visiting_vessels': [&lt;__main__.Vessel object ...</td>\n",
       "    </tr>\n",
       "    <tr>\n",
       "      <th>4</th>\n",
       "      <td>2024-01-01 00:27:58.888889</td>\n",
       "      <td>B</td>\n",
       "      <td>Lock doors opening start</td>\n",
       "      <td>{'visiting_vessels': [&lt;__main__.Vessel object ...</td>\n",
       "    </tr>\n",
       "    <tr>\n",
       "      <th>5</th>\n",
       "      <td>2024-01-01 00:27:58.888889</td>\n",
       "      <td>B</td>\n",
       "      <td>Lock doors opening stop</td>\n",
       "      <td>{'visiting_vessels': [&lt;__main__.Vessel object ...</td>\n",
       "    </tr>\n",
       "    <tr>\n",
       "      <th>6</th>\n",
       "      <td>2024-01-01 00:32:05.000000</td>\n",
       "      <td>B</td>\n",
       "      <td>Lock doors closing start</td>\n",
       "      <td>{'visiting_vessels': [&lt;__main__.Vessel object ...</td>\n",
       "    </tr>\n",
       "    <tr>\n",
       "      <th>7</th>\n",
       "      <td>2024-01-01 00:32:05.000000</td>\n",
       "      <td>B</td>\n",
       "      <td>Lock doors closing stop</td>\n",
       "      <td>{'visiting_vessels': [&lt;__main__.Vessel object ...</td>\n",
       "    </tr>\n",
       "    <tr>\n",
       "      <th>8</th>\n",
       "      <td>2024-01-01 00:32:05.000000</td>\n",
       "      <td>B</td>\n",
       "      <td>Lock chamber converting start</td>\n",
       "      <td>{'visiting_vessels': [&lt;__main__.Vessel object ...</td>\n",
       "    </tr>\n",
       "    <tr>\n",
       "      <th>9</th>\n",
       "      <td>2024-01-01 00:57:05.000000</td>\n",
       "      <td>A</td>\n",
       "      <td>Lock chamber converting stop</td>\n",
       "      <td>{'visiting_vessels': [&lt;__main__.Vessel object ...</td>\n",
       "    </tr>\n",
       "    <tr>\n",
       "      <th>10</th>\n",
       "      <td>2024-01-01 00:57:05.000000</td>\n",
       "      <td>A</td>\n",
       "      <td>Lock doors opening start</td>\n",
       "      <td>{'visiting_vessels': [&lt;__main__.Vessel object ...</td>\n",
       "    </tr>\n",
       "    <tr>\n",
       "      <th>11</th>\n",
       "      <td>2024-01-01 00:57:05.000000</td>\n",
       "      <td>A</td>\n",
       "      <td>Lock doors opening stop</td>\n",
       "      <td>{'visiting_vessels': [&lt;__main__.Vessel object ...</td>\n",
       "    </tr>\n",
       "  </tbody>\n",
       "</table>\n",
       "</div>"
      ],
      "text/plain": [
       "                         Time Location                         Action  \\\n",
       "0  2024-01-01 00:02:58.888889        A       Lock doors closing start   \n",
       "1  2024-01-01 00:02:58.888889        A        Lock doors closing stop   \n",
       "2  2024-01-01 00:02:58.888889        A  Lock chamber converting start   \n",
       "3  2024-01-01 00:27:58.888889        B   Lock chamber converting stop   \n",
       "4  2024-01-01 00:27:58.888889        B       Lock doors opening start   \n",
       "5  2024-01-01 00:27:58.888889        B        Lock doors opening stop   \n",
       "6  2024-01-01 00:32:05.000000        B       Lock doors closing start   \n",
       "7  2024-01-01 00:32:05.000000        B        Lock doors closing stop   \n",
       "8  2024-01-01 00:32:05.000000        B  Lock chamber converting start   \n",
       "9  2024-01-01 00:57:05.000000        A   Lock chamber converting stop   \n",
       "10 2024-01-01 00:57:05.000000        A       Lock doors opening start   \n",
       "11 2024-01-01 00:57:05.000000        A        Lock doors opening stop   \n",
       "\n",
       "                                               Status  \n",
       "0   {'visiting_vessels': [<__main__.Vessel object ...  \n",
       "1   {'visiting_vessels': [<__main__.Vessel object ...  \n",
       "2   {'visiting_vessels': [<__main__.Vessel object ...  \n",
       "3   {'visiting_vessels': [<__main__.Vessel object ...  \n",
       "4   {'visiting_vessels': [<__main__.Vessel object ...  \n",
       "5   {'visiting_vessels': [<__main__.Vessel object ...  \n",
       "6   {'visiting_vessels': [<__main__.Vessel object ...  \n",
       "7   {'visiting_vessels': [<__main__.Vessel object ...  \n",
       "8   {'visiting_vessels': [<__main__.Vessel object ...  \n",
       "9   {'visiting_vessels': [<__main__.Vessel object ...  \n",
       "10  {'visiting_vessels': [<__main__.Vessel object ...  \n",
       "11  {'visiting_vessels': [<__main__.Vessel object ...  "
      ]
     },
     "execution_count": 10,
     "metadata": {},
     "output_type": "execute_result"
    }
   ],
   "source": [
    "lock_df = pd.DataFrame(lock.log)\n",
    "lock_df"
   ]
  },
  {
   "cell_type": "code",
   "execution_count": 11,
   "id": "62318598",
   "metadata": {},
   "outputs": [
    {
     "ename": "SyntaxError",
     "evalue": "'break' outside loop (668683560.py, line 1)",
     "output_type": "error",
     "traceback": [
      "\u001b[1;36m  Cell \u001b[1;32mIn[11], line 1\u001b[1;36m\u001b[0m\n\u001b[1;33m    break\u001b[0m\n\u001b[1;37m    ^\u001b[0m\n\u001b[1;31mSyntaxError\u001b[0m\u001b[1;31m:\u001b[0m 'break' outside loop\n"
     ]
    }
   ],
   "source": [
    "break"
   ]
  },
  {
   "cell_type": "markdown",
   "id": "c95be4d8",
   "metadata": {},
   "source": [
    "### Import FIS-network\n",
    "##### Load import function"
   ]
  },
  {
   "cell_type": "code",
   "execution_count": null,
   "id": "98ecdc40",
   "metadata": {},
   "outputs": [],
   "source": [
    "@functools.lru_cache\n",
    "def load_fis_network(url):\n",
    "    \"\"\"load the topological fairway information system network (vaarweginformatie.nl)\"\"\"\n",
    "\n",
    "    # get the data from the url\n",
    "    resp = requests.get(url)\n",
    "    # convert to file object\n",
    "    stream = io.StringIO(resp.text)\n",
    "    \n",
    "    # This will take a minute or two\n",
    "    # Here we convert the network to a networkx object\n",
    "    G = yaml.load(stream, Loader=yaml.Loader)\n",
    "\n",
    "    # some brief info\n",
    "    n_bytes = len(resp.content)\n",
    "    msg = '''Loaded network from {url} file size {mb:.2f}MB. Network has {n_nodes} nodes and {n_edges} edges.'''\n",
    "    summary = msg.format(url=url, mb=n_bytes / 1000**2, n_edges=len(G.edges), n_nodes=len(G.nodes))\n",
    "    logger.info(summary)\n",
    "\n",
    "    # The topological network contains information about the original geometry. \n",
    "    # Let's convert those into python shapely objects for easier use later\n",
    "    for n in G.nodes:\n",
    "        G.nodes[n]['geometry'] = shapely.geometry.Point(G.nodes[n]['X'], G.nodes[n]['Y'])\n",
    "    for e in G.edges:\n",
    "        edge = G.edges[e]\n",
    "        edge['geometry'] = shapely.wkt.loads(edge['Wkt'])\n",
    "    \n",
    "    return G"
   ]
  },
  {
   "cell_type": "markdown",
   "id": "f6cd22be",
   "metadata": {},
   "source": [
    "##### Import network"
   ]
  },
  {
   "cell_type": "code",
   "execution_count": null,
   "id": "e6884d06",
   "metadata": {},
   "outputs": [],
   "source": [
    "url = 'https://zenodo.org/record/4578289/files/network_digital_twin_v0.2.yaml'\n",
    "\n",
    "# create a cached version to speed up loading (remove cached file if a better yaml file is available)\n",
    "fname = \"fis_cache\\\\{}.pkl\".format('FIS')\n",
    "\n",
    "if os.path.exists(fname):\n",
    "    print('I am loading cached network')\n",
    "    with open(fname, 'rb') as pkl_file:\n",
    "        FG = pickle.load(pkl_file)\n",
    "        pkl_file.close()\n",
    "\n",
    "else:\n",
    "    print('I am getting new network')\n",
    "    FG = load_fis_network(url)\n",
    "\n",
    "    os.makedirs(os.path.dirname(fname), exist_ok=True)\n",
    "    with open(fname, 'wb') as pkl_file:\n",
    "        pickle.dump(FG, pkl_file)\n",
    "        pkl_file.close()"
   ]
  },
  {
   "cell_type": "markdown",
   "id": "f89c2d3b",
   "metadata": {},
   "source": [
    "##### Define area of interest"
   ]
  },
  {
   "cell_type": "code",
   "execution_count": null,
   "id": "e35397cd",
   "metadata": {},
   "outputs": [],
   "source": [
    "area_of_interest = Polygon([Point(5.33,53.06),Point(5.33,53.08),Point(5.34,53.08),Point(5.34,53.06)])"
   ]
  },
  {
   "cell_type": "markdown",
   "id": "150437ed",
   "metadata": {},
   "source": [
    "###### Create specific graph"
   ]
  },
  {
   "cell_type": "code",
   "execution_count": null,
   "id": "b681eb07",
   "metadata": {},
   "outputs": [],
   "source": [
    "#Remove edges based on whether they are present in the area of interest\n",
    "remove_edges = []\n",
    "for edge in FG.edges:\n",
    "    if not FG.edges[edge][\"geometry\"].within(area_of_interest) and not FG.edges[edge][\"geometry\"].intersects(area_of_interest):\n",
    "        remove_edges.append(edge)\n",
    "for edge in remove_edges:\n",
    "    FG.remove_edge(*edge)\n",
    "    \n",
    "#Node selection based on the remaining edges in the network\n",
    "nodes = []\n",
    "for node_I,node_II in FG.edges:\n",
    "    nodes.append(node_I)\n",
    "    nodes.append(node_II)\n",
    "nodes = list(dict.fromkeys(nodes))\n",
    "\n",
    "#Remove nodes based on whether they are constituting the remaining edges in the network (above selection)\n",
    "remove_nodes = []\n",
    "for node in FG.nodes:\n",
    "    if node not in nodes:\n",
    "        remove_nodes.append(node)\n",
    "for node in remove_nodes:\n",
    "    FG.remove_node(node)"
   ]
  },
  {
   "cell_type": "markdown",
   "id": "cfafadee",
   "metadata": {},
   "source": [
    "### Import data from OSM\n",
    "Use https://overpass-turbo.eu/s/1IED to download a geojson-file. Save this file in the directory of this notebook and open the file using geopandas.\n",
    "##### Open the file"
   ]
  },
  {
   "cell_type": "code",
   "execution_count": null,
   "id": "cdd4b3ca",
   "metadata": {},
   "outputs": [],
   "source": [
    "path = os.getcwd()\n",
    "folder = '\\\\geospatial_data\\\\'\n",
    "file = 'lock_objects.geojson'\n",
    "lock_objects = gpd.read_file(path+folder+file)"
   ]
  },
  {
   "cell_type": "markdown",
   "id": "137e8f26",
   "metadata": {},
   "source": [
    "###### Separate the elements and store them in different geodataframes"
   ]
  },
  {
   "cell_type": "code",
   "execution_count": null,
   "id": "5850e6c8",
   "metadata": {
    "scrolled": false
   },
   "outputs": [],
   "source": [
    "lock_chambers = lock_objects[lock_objects.water == 'lock']\n",
    "piers = lock_objects[lock_objects.man_made.notna()]\n",
    "waterways = lock_objects[lock_objects.CEMT.notna() & (lock_objects['seamark:type'].isna())]\n",
    "locks_canal = lock_objects[lock_objects['seamark:type'] == 'lock_basin']\n",
    "gates = lock_objects[lock_objects.waterway == 'lock_gate']"
   ]
  },
  {
   "cell_type": "markdown",
   "id": "def3e73a",
   "metadata": {},
   "source": [
    "### Folium plot of infrastructure and network\n",
    "##### Style functions for folium"
   ]
  },
  {
   "cell_type": "code",
   "execution_count": null,
   "id": "3a5c7012",
   "metadata": {},
   "outputs": [],
   "source": [
    "def style_function_lock_chamber(feature):\n",
    "    ss = {\"fillColor\": \"#000000\",\n",
    "          \"fillOpacity\": 0.2,\n",
    "          \"weight\": 5.0,\n",
    "          \"color\": \"#000000\"}\n",
    "    return ss\n",
    "\n",
    "def style_function_piers(feature):\n",
    "    ss = {\"fillColor\": mpl.colors.to_hex('peru'),\n",
    "          \"fillOpacity\": 1.0,\n",
    "          \"weight\": 5.0,\n",
    "          \"color\": mpl.colors.to_hex('peru')}\n",
    "    return ss\n",
    "\n",
    "def style_function_waterways(feature):\n",
    "    ss = {\"fillColor\": mpl.colors.to_hex('lightblue'),\n",
    "          \"fillOpacity\": 1.0,\n",
    "          \"weight\": 5.0,\n",
    "          \"color\": mpl.colors.to_hex('lightblue')}\n",
    "    return ss\n",
    "\n",
    "def style_function_locks_canal(feature):\n",
    "    ss = {\"fillColor\": mpl.colors.to_hex('C0'),\n",
    "          \"fillOpacity\": 0.2,\n",
    "          \"weight\": 5.0,\n",
    "          \"color\": mpl.colors.to_hex('C0')}\n",
    "    return ss\n",
    "\n",
    "def style_function_lock_gates(feature):\n",
    "    ss = {\"fillColor\": \"#000000\",\n",
    "          \"fillOpacity\": 1.0,\n",
    "          \"weight\": 5.0,\n",
    "          \"color\": \"#000000\"}\n",
    "    return ss"
   ]
  },
  {
   "cell_type": "markdown",
   "id": "e96ff582",
   "metadata": {},
   "source": [
    "##### Folium plot"
   ]
  },
  {
   "cell_type": "code",
   "execution_count": null,
   "id": "7fdfb1f0",
   "metadata": {},
   "outputs": [],
   "source": [
    "#Plot network\n",
    "m = folium.Map(location=[53.075, 5.335], zoom_start = 14, tiles=\"cartodbpositron\")\n",
    "\n",
    "for node in FG.nodes:\n",
    "    point = FG.nodes[node]['geometry']\n",
    "    x,y = point.xy\n",
    "    folium.Circle([y[0],x[0]], radius=12,fill=True,fill_opacity=1,color=mpl.colors.to_hex('darkgrey'),tooltip = node[0],popup =node[0]).add_to(m)\n",
    "    \n",
    "for edge in FG.edges:\n",
    "    line = FG.edges[edge]['geometry']\n",
    "    xx,yy = line.coords.xy\n",
    "    folium.PolyLine([[y,x] for x,y in zip(xx,yy)], weight = 3,color=mpl.colors.to_hex('darkgrey'), tooltip = [edge[0],edge[1]], popup = [edge[0],edge[1]]).add_to(m)\n",
    "        \n",
    "folium.GeoJson(data=lock_chambers,style_function=style_function_lock_chamber).add_to(m)\n",
    "folium.GeoJson(piers,style_function=style_function_piers).add_to(m)\n",
    "folium.GeoJson(waterways,style_function=style_function_waterways).add_to(m)\n",
    "folium.GeoJson(locks_canal,style_function=style_function_locks_canal).add_to(m)\n",
    "folium.GeoJson(gates,style_function=style_function_lock_gates).add_to(m)\n",
    "\n",
    "m"
   ]
  },
  {
   "cell_type": "markdown",
   "id": "504c5cfd",
   "metadata": {},
   "source": [
    "### Create the waterways (edges)\n",
    "\n",
    "##### The waterway\n",
    "From the folium-plot, we see that the FIS-network does not follow the fairways through the lock complex well enough. In order to improve this, we need to replace the edge with the more detailed fairway geometry."
   ]
  },
  {
   "cell_type": "code",
   "execution_count": null,
   "id": "4d2a2756",
   "metadata": {},
   "outputs": [],
   "source": [
    "#We may need to use the following transform functions to calculate distances in m using the Dutch RD-system\n",
    "rd = pyproj.CRS('EPSG:28992')\n",
    "wgs84 = pyproj.CRS('EPSG:4326')\n",
    "wgs_to_rd = pyproj.Transformer.from_crs(wgs84,rd,always_xy=True).transform\n",
    "rd_to_wgs = pyproj.Transformer.from_crs(rd,wgs84,always_xy=True).transform"
   ]
  },
  {
   "cell_type": "code",
   "execution_count": null,
   "id": "f54ac465",
   "metadata": {},
   "outputs": [],
   "source": [
    "#Select the waterway elements that are going through the 'Grote Sluis'\n",
    "waterway_selection = waterways.iloc[[1,4,5,6,7,8,10]]\n",
    "\n",
    "#Select the waterway element through the 'Grote Sluis'\n",
    "lock_canal_selection = locks_canal.iloc[[0]]\n",
    "\n",
    "#Combine the elements in a new geodataframe and select the geometry column\n",
    "edge_gdf = pd.concat([waterway_selection,lock_canal_selection])[['geometry']]"
   ]
  },
  {
   "cell_type": "markdown",
   "id": "e6acfdb8",
   "metadata": {},
   "source": [
    "The new geodataframe consists of various linestring elements (edges). However, the locking module works with a single edge only. Therefore, we need to merge the linestrings to a single linestring. "
   ]
  },
  {
   "cell_type": "code",
   "execution_count": null,
   "id": "0e7c35de",
   "metadata": {},
   "outputs": [],
   "source": [
    "#Order the elements based on their longitude using dissolve\n",
    "multi_line = edge_gdf.dissolve().geometry.iloc[0]\n",
    "\n",
    "#Extract the individual linestrings and combine them to a single edge\n",
    "edge = linemerge(multi_line)"
   ]
  },
  {
   "cell_type": "markdown",
   "id": "69505242",
   "metadata": {},
   "source": [
    "From the folium-plot we also see that the detailed fairway geometry is not attached to the FIS-graph. Therefore, we need to create two more linestring elements and add them to the edge."
   ]
  },
  {
   "cell_type": "code",
   "execution_count": null,
   "id": "aade4fef",
   "metadata": {},
   "outputs": [],
   "source": [
    "#Start and end point of the edge\n",
    "start_point_new_edge = Point(edge.coords.xy[0][0],edge.coords.xy[1][0]) #South\n",
    "end_point_new_edge = Point(edge.coords.xy[0][-1],edge.coords.xy[1][-1]) #North\n",
    "\n",
    "#Find the start and end points of the FIS-network by finding the minimum and maximum longitude\n",
    "#These points will be the start and end node of the new edge\n",
    "lon_FG_nodes = []\n",
    "for node in FG.nodes:\n",
    "    lon_FG_nodes.append(FG.nodes[node]['geometry'].coords.xy[1][0])\n",
    "start_point_FG_node = list(FG.nodes)[np.argmin(lon_FG_nodes)]\n",
    "end_point_FG_node = list(FG.nodes)[np.argmax(lon_FG_nodes)]\n",
    "\n",
    "#Create edges based on the starting and ending nodes\n",
    "connecting_edge_start = LineString([start_point_new_edge,FG.nodes[start_point_FG_node]['geometry']])\n",
    "connecting_edge_end = LineString([end_point_new_edge,FG.nodes[end_point_FG_node]['geometry']])\n",
    "\n",
    "#Create the final edge\n",
    "final_edge = linemerge([connecting_edge_start,edge,connecting_edge_end])\n",
    "\n",
    "#Include the final_edge in the network by removing all nodes between the start and end node of the FIS-graph\n",
    "route = nx.dijkstra_path(FG,start_point_FG_node,end_point_FG_node)\n",
    "remove_nodes = route[1:-1]\n",
    "for node in remove_nodes:\n",
    "    FG.remove_node(node)\n",
    "    \n",
    "#Add the final edge\n",
    "FG.add_edge(start_point_FG_node,end_point_FG_node)\n",
    "\n",
    "#Include the following information to the edge using a dictionary: 'length_m','geometry'\n",
    "FG.edges[(start_point_FG_node,end_point_FG_node)]['geometry'] = final_edge\n",
    "FG.edges[(start_point_FG_node,end_point_FG_node)]['length_m'] = transform(wgs_to_rd,final_edge).length"
   ]
  },
  {
   "cell_type": "markdown",
   "id": "3cb3da99",
   "metadata": {},
   "source": [
    "### Create the simulation"
   ]
  },
  {
   "cell_type": "code",
   "execution_count": null,
   "id": "b7e9d855",
   "metadata": {},
   "outputs": [],
   "source": [
    "#Create a simulation using the graph, simulation start (2024-01-01) and simulation stop (2024-01-07)\n",
    "sim = model.Simulation(graph=FG,\n",
    "                       simulation_start=pd.Timestamp('2024-01-01'),\n",
    "                       simulation_stop=pd.Timestamp('2024-01-07'))\n",
    "\n",
    "#Extract the environment and save it\n",
    "env = sim.environment"
   ]
  },
  {
   "cell_type": "markdown",
   "id": "ed2c6ab6",
   "metadata": {},
   "source": [
    "### Create the lock complex\n",
    "\n",
    "The lock complex consists of two waiting areas, two line-up areas and a lock chamber. We need to implement these infrastructures to the edge with correct distances, etc."
   ]
  },
  {
   "cell_type": "markdown",
   "id": "6a0135c4",
   "metadata": {},
   "source": [
    "##### Waiting areas\n",
    "\n",
    "We need to create a northern and southern waiting area. However, we see that the waiting areas overlap with the line-up areas. Since we simplify the waiting area as a node, we can take the start of our line-up areas. Therefore, we start with calculating the distance from the start and end node of the edge to the start areas of the line-up areas"
   ]
  },
  {
   "cell_type": "code",
   "execution_count": null,
   "id": "f0f5a790",
   "metadata": {},
   "outputs": [],
   "source": [
    "#Find piers for line-up area\n",
    "lineup_south = piers.geometry.iloc[5]\n",
    "lineup_north = piers.geometry.iloc[-15]"
   ]
  },
  {
   "cell_type": "markdown",
   "id": "c969515e",
   "metadata": {},
   "source": [
    "\n",
    "Since the piers consist of multiple linestrings, and we know that the vessels line-up at the straight section, we need to recreate this section\n"
   ]
  },
  {
   "cell_type": "code",
   "execution_count": null,
   "id": "24f54cd9",
   "metadata": {},
   "outputs": [],
   "source": [
    "#Store the lon,lat cordinates\n",
    "lat_coords_lineup_south = lineup_south.coords.xy[0]\n",
    "lon_coords_lineup_south = lineup_south.coords.xy[1]\n",
    "lat_coords_lineup_north = lineup_north.coords.xy[0]\n",
    "lon_coords_lineup_north = lineup_north.coords.xy[1]\n",
    "\n",
    "#For the southern line-up area, take the southern most point\n",
    "index_start_point_pier_south = np.argmin(lat_coords_lineup_south)\n",
    "lineup_pier_south = LineString([Point(lat_coords_lineup_south[index_start_point_pier_south],\n",
    "                                      lon_coords_lineup_south[index_start_point_pier_south]),\n",
    "                                Point(lat_coords_lineup_south[index_start_point_pier_south-1],\n",
    "                                      lon_coords_lineup_south[index_start_point_pier_south-1])])\n",
    "\n",
    "#For the norther line-up area, take the northern most point\n",
    "index_start_point_pier_north = np.argmax(lon_coords_lineup_north)\n",
    "lineup_pier_north = LineString([Point(lat_coords_lineup_north[index_start_point_pier_north],\n",
    "                                      lon_coords_lineup_north[index_start_point_pier_north]),\n",
    "                                Point(lat_coords_lineup_north[index_start_point_pier_north-1],\n",
    "                                      lon_coords_lineup_north[index_start_point_pier_north-1])])"
   ]
  },
  {
   "cell_type": "markdown",
   "id": "849f1470",
   "metadata": {},
   "source": [
    "To find the crossing with the network edge, we need to create a polygon parallel to the pier"
   ]
  },
  {
   "cell_type": "code",
   "execution_count": null,
   "id": "eda0d414",
   "metadata": {},
   "outputs": [],
   "source": [
    "#First, we need to transform the geometries\n",
    "lineup_pier_south_rd = transform(wgs_to_rd,lineup_pier_south)\n",
    "lineup_pier_north_rd = transform(wgs_to_rd,lineup_pier_north)\n",
    "\n",
    "#We create the polygons by setting a parallel offset of 100 m\n",
    "lineup_area_south_rd = Polygon([*list(lineup_pier_south_rd.coords), \n",
    "                                *list(lineup_pier_south_rd.parallel_offset(100).coords)[::-1]])\n",
    "lineup_area_north_rd = Polygon([*list(lineup_pier_north_rd.coords), \n",
    "                                *list(lineup_pier_north_rd.parallel_offset(-100).coords)[::-1]])\\\n",
    "\n",
    "#We need to transform back to wgs\n",
    "lineup_area_south = transform(rd_to_wgs,lineup_area_south_rd)\n",
    "lineup_area_north = transform(rd_to_wgs,lineup_area_north_rd)\n",
    "\n",
    "#We can find the intersection points by calculation the intersection between the polygons and the edge geometry\n",
    "intersection_network_lineup_area_north = lineup_area_north.intersection(final_edge)\n",
    "lat_intersection_lineup_area_north = intersection_network_lineup_area_north.coords.xy[0]\n",
    "lon_intersection_lineup_area_north = intersection_network_lineup_area_north.coords.xy[1]\n",
    "index_start_point_lineup_area_north_edge = np.argmax(lon_intersection_lineup_area_north)\n",
    "start_point_lineup_area_north_edge = Point(lat_intersection_lineup_area_north[index_start_point_lineup_area_north_edge],\n",
    "                                           lon_intersection_lineup_area_north[index_start_point_lineup_area_north_edge])\n",
    "\n",
    "intersection_network_lineup_area_south = lineup_area_south.intersection(final_edge)\n",
    "lat_intersection_lineup_area_south = intersection_network_lineup_area_south.coords.xy[0]\n",
    "lon_intersection_lineup_area_south = intersection_network_lineup_area_south.coords.xy[1]\n",
    "index_start_point_lineup_area_south_edge = np.argmin(lon_intersection_lineup_area_south)\n",
    "start_point_lineup_area_south_edge = Point(lat_intersection_lineup_area_south[index_start_point_lineup_area_south_edge],\n",
    "                                           lon_intersection_lineup_area_south[index_start_point_lineup_area_south_edge])\n",
    "\n",
    "#Calculate the distance between the start/end of the edge and the start points of the line-up areas using split and snap\n",
    "splitted_edge_south_waiting_area = split(snap(final_edge, start_point_lineup_area_south_edge, tolerance=0.001), \n",
    "                                         start_point_lineup_area_south_edge)\n",
    "splitted_edge_south_waiting_area_rd = transform(wgs_to_rd,splitted_edge_south_waiting_area)\n",
    "length_start_edge_to_start_southern_lineup_area = splitted_edge_south_waiting_area_rd.geoms[0].length\n",
    "\n",
    "splitted_edge_north_waiting_area = split(snap(final_edge, start_point_lineup_area_north_edge, tolerance=0.001), \n",
    "                                         start_point_lineup_area_north_edge)\n",
    "splitted_edge_north_waiting_area_rd = transform(wgs_to_rd,splitted_edge_north)\n",
    "length_start_edge_to_start_northern_lineup_area = splitted_edge_north_waiting_area_rd.geoms[-1].length"
   ]
  },
  {
   "cell_type": "markdown",
   "id": "31c40fe5",
   "metadata": {},
   "source": [
    "Now we can create the waiting areas, using the start node of the edge and the distance from this node"
   ]
  },
  {
   "cell_type": "code",
   "execution_count": null,
   "id": "bad87925",
   "metadata": {},
   "outputs": [],
   "source": [
    "#Southern waiting area\n",
    "lock.IsLockWaitingArea(env=env,\n",
    "                       name='Grote Sluis',\n",
    "                       node=start_point_FG_node,\n",
    "                       distance_from_node=length_start_edge_to_start_southern_lineup_area)\n",
    "\n",
    "#Northern waiting area\n",
    "lock.IsLockWaitingArea(env=env,\n",
    "                       name='Grote Sluis',\n",
    "                       node=end_point_FG_node,\n",
    "                       distance_from_node=length_start_edge_to_start_northern_lineup_area)"
   ]
  },
  {
   "cell_type": "markdown",
   "id": "5c0543b8",
   "metadata": {},
   "source": [
    "##### Lock"
   ]
  },
  {
   "cell_type": "code",
   "execution_count": null,
   "id": "9dd6a06b",
   "metadata": {},
   "outputs": [],
   "source": [
    "#Extract the geometry of the 'Grote Sluis'\n",
    "grote_sluis = lock_chambers.iloc[1].geometry\n",
    "\n",
    "#Isolate the lock_chamber on the edge using the intersection method and calculate the length of this sub edge\n",
    "lock_chamber_edge = final_edge.intersection(grote_sluis)\n",
    "lock_length = transform(wgs_to_rd,lock_chamber_edge).length\n",
    "\n",
    "#Calculate the start and end points of the sluice\n",
    "lat_lock_chamber_edge = lock_chamber_edge.coords.xy[0]\n",
    "lon_lock_chamber_edge = lock_chamber_edge.coords.xy[1]\n",
    "index_lock_chamber_edge_start_point = np.argmin(lon_lock_chamber_edge)\n",
    "index_lock_chamber_edge_end_point = np.argmax(lon_lock_chamber_edge)\n",
    "lock_chamber_edge_start_point = Point(lat_lock_chamber_edge[index_lock_chamber_edge_start_point],\n",
    "                                      lon_lock_chamber_edge[index_lock_chamber_edge_start_point])\n",
    "lock_chamber_edge_end_point = Point(lat_lock_chamber_edge[index_lock_chamber_edge_end_point],\n",
    "                                    lon_lock_chamber_edge[index_lock_chamber_edge_end_point])"
   ]
  },
  {
   "cell_type": "code",
   "execution_count": null,
   "id": "e6e4becc",
   "metadata": {},
   "outputs": [],
   "source": [
    "lock_chamber_edge_start_point_rd = transform(wgs_to_rd,lock_chamber_edge_start_point)\n",
    "lock_chamber_edge_end_point_rd = transform(wgs_to_rd,lock_chamber_edge_end_point)"
   ]
  },
  {
   "cell_type": "code",
   "execution_count": null,
   "id": "4eb1546c",
   "metadata": {},
   "outputs": [],
   "source": [
    "lock_chamber_edge_start_point.xy"
   ]
  },
  {
   "cell_type": "code",
   "execution_count": null,
   "id": "7bb65177",
   "metadata": {},
   "outputs": [],
   "source": [
    "#We need to calculate the length of the 'Grote Sluis' using the chamber geometry\n",
    "splitted_edge_south_lock = split(snap(final_edge,lock_chamber_edge_start_point,tolerance=0.001),lock_chamber_edge_start_point)\n",
    "distance_southern_waiting_area_to_edge_start = transform(wgs_to_rd,splitted_edge_south_waiting_area.geoms[0]).length\n",
    "distance_southern_lock_to_edge_start = transform(wgs_to_rd,splitted_edge_south_lock.geoms[0]).length\n",
    "distance_southern_lock_to_waiting_area = distance_southern_lock_to_edge_start-distance_southern_waiting_area_to_edge_start"
   ]
  },
  {
   "cell_type": "code",
   "execution_count": null,
   "id": "8889fddb",
   "metadata": {},
   "outputs": [],
   "source": [
    "#We need to calculate the length of the 'Grote Sluis' using the chamber geometry\n",
    "splitted_edge_north_lock = split(snap(final_edge,lock_chamber_edge_end_point,tolerance=0.001),lock_chamber_edge_end_point)\n",
    "distance_northern_waiting_area_to_edge_end = transform(wgs_to_rd,splitted_edge_north_waiting_area.geoms[1]).length\n",
    "distance_northern_lock_to_edge_end  = transform(wgs_to_rd,splitted_edge_north_lock.geoms[1]).length\n",
    "distance_northern_lock_to_waiting_area = distance_northern_lock_to_edge_start-distance_northern_waiting_area_to_edge_start"
   ]
  },
  {
   "cell_type": "code",
   "execution_count": null,
   "id": "5957ba22",
   "metadata": {},
   "outputs": [],
   "source": [
    "fig,ax = plt.subplots()\n",
    "for geom in [splitted_edge_south_lock.geoms[0],splitted_edge_south_waiting_area.geoms[0]]:\n",
    "    ax.plot(*geom.coords.xy,zorder=1)\n",
    "lock_chambers.plot(ax=ax,color='k',zorder=0)"
   ]
  },
  {
   "cell_type": "code",
   "execution_count": null,
   "id": "2d465394",
   "metadata": {},
   "outputs": [],
   "source": [
    "env.FG = nx.MultiDiGraph(FG)"
   ]
  },
  {
   "cell_type": "markdown",
   "id": "51eb68ef",
   "metadata": {},
   "source": [
    "We can now create the sluice"
   ]
  },
  {
   "cell_type": "code",
   "execution_count": null,
   "id": "0499967d",
   "metadata": {},
   "outputs": [],
   "source": [
    "lock.IsLock(env=env,\n",
    "            name='Grote Sluis',\n",
    "            node_doors1 = start_point_FG_node,\n",
    "            node_doors2 = end_point_FG_node,\n",
    "            lock_length = lock_length, #The length capacity is different: 137 m\n",
    "            lock_width= 14,\n",
    "            lock_depth= 3.5,\n",
    "            distance_doors1_from_first_waiting_area=distance_southern_lock_to_waiting_area,\n",
    "            distance_doors2_from_second_waiting_area=distance_northern_lock_to_waiting_area)"
   ]
  },
  {
   "cell_type": "markdown",
   "id": "eea0e565",
   "metadata": {},
   "source": [
    "##### Line-up areas\n",
    "To create line-up areas we need to know the length of this line-up area and the distance to the lock doors"
   ]
  },
  {
   "cell_type": "code",
   "execution_count": null,
   "id": "c148da37",
   "metadata": {},
   "outputs": [],
   "source": [
    "#We need to calculate the distance of the line"
   ]
  },
  {
   "cell_type": "code",
   "execution_count": null,
   "id": "b65dcc3a",
   "metadata": {},
   "outputs": [],
   "source": [
    "lock.IsLockLineUpArea(start_node = start_point_FG_node\n",
    "                      end_node = end_point_FG_node\n",
    "                      lineup_length = \n",
    "                      distance_to_lock_doors = "
   ]
  },
  {
   "cell_type": "markdown",
   "id": "5c05bc42",
   "metadata": {},
   "source": [
    "##### Lock chamber"
   ]
  },
  {
   "cell_type": "code",
   "execution_count": null,
   "id": "89803592",
   "metadata": {},
   "outputs": [],
   "source": []
  },
  {
   "cell_type": "code",
   "execution_count": null,
   "id": "9362d3eb",
   "metadata": {},
   "outputs": [],
   "source": []
  }
 ],
 "metadata": {
  "kernelspec": {
   "display_name": "Python 3 (ipykernel)",
   "language": "python",
   "name": "python3"
  },
  "language_info": {
   "codemirror_mode": {
    "name": "ipython",
    "version": 3
   },
   "file_extension": ".py",
   "mimetype": "text/x-python",
   "name": "python",
   "nbconvert_exporter": "python",
   "pygments_lexer": "ipython3",
   "version": "3.8.16"
  }
 },
 "nbformat": 4,
 "nbformat_minor": 5
}
