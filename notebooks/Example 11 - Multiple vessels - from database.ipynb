{
 "cells": [
  {
   "cell_type": "markdown",
   "metadata": {},
   "source": [
    "## Example 11 - Multiple vessels - from database"
   ]
  },
  {
   "cell_type": "code",
   "execution_count": null,
   "metadata": {},
   "outputs": [],
   "source": [
    "import opentnsim\n",
    "print('This notebook has been tested with OpenTNSim version {}'.format(opentnsim.__version__))"
   ]
  },
  {
   "cell_type": "code",
   "execution_count": null,
   "metadata": {},
   "outputs": [],
   "source": [
    "# package(s) related to time, space and id\n",
    "import datetime, time\n",
    "import platform\n",
    "import random\n",
    "import os\n",
    "import pathlib\n",
    "\n",
    "# you need these dependencies (you can get these from anaconda)\n",
    "# package(s) related to the simulation\n",
    "import simpy\n",
    "\n",
    "# spatial libraries \n",
    "import pyproj\n",
    "import shapely.geometry\n",
    "from simplekml import Kml, Style\n",
    "\n",
    "# package(s) for data handling\n",
    "import pandas as pd\n",
    "import numpy as np\n",
    "import matplotlib.pyplot as plt\n",
    "import matplotlib.animation as animation\n",
    "\n",
    "# OpenTNSIM\n",
    "import opentnsim.core as core\n",
    "import opentnsim.graph_module as graph_module\n",
    "import opentnsim.plot as plot\n",
    "import opentnsim.model as model\n",
    "\n",
    "# Used for mathematical functions\n",
    "import math             \n",
    "\n",
    "# Used for making the graph to visualize our problem\n",
    "import networkx as nx  \n",
    "\n",
    "# Graph location\n",
    "location_graph = (os.path.relpath(pathlib.Path.cwd(), \"notebooks\"))\n",
    "name_graph = \"notebooks/Shape-Files/Rotterdam-Antwerpen-corridor/edges_2.shp\"\n",
    "\n",
    "# Vessel database\n",
    "location_vessel_database = \"notebooks/Vessels/richtlijnen-vaarwegen-2017.csv\""
   ]
  },
  {
   "cell_type": "markdown",
   "metadata": {},
   "source": [
    "### Create graph"
   ]
  },
  {
   "cell_type": "markdown",
   "metadata": {},
   "source": [
    "The cel below visualizes the problem. In graph theory the red dots are called *edges* and the lines are called *vertices*. Vessels (or any other object) move from edge 1 to edge 3 and from edge 4 to edge 2. The added complexity is that vertice 5-6 only allows traffic in one direction at a time. Vessels can travel simultanously in one direction.\n",
    "\n",
    "**Important**: \n",
    "\n",
    "If you use windows and get the following error \"ImportError: read_shp requires OGR: http://www.gdal.org/\", you probably have [this issue](https://github.com/conda-forge/gdal-feedstock/issues/219). Solving it is possible by running the following commands in your terminal (as explained [here](https://gis.stackexchange.com/questions/294231/installing-gdal-with-anaconda)):\n",
    "\n",
    "```bash\n",
    "#Create a new virtual environment\n",
    "conda create -n testgdal -c conda-forge gdal vs2015_runtime=14\n",
    "\n",
    "#Activate virtual environment\n",
    "activate testgdal\n",
    "\n",
    "#Open Jupyter notebook\n",
    "jupyer notebook\n",
    "```"
   ]
  },
  {
   "cell_type": "code",
   "execution_count": null,
   "metadata": {},
   "outputs": [],
   "source": [
    "graph = graph_module.Graph()\n",
    "graph.from_shape(location_graph, name_graph)"
   ]
  },
  {
   "cell_type": "code",
   "execution_count": null,
   "metadata": {},
   "outputs": [],
   "source": [
    "graph.create_graph_new_projection()\n",
    "graph.plot()"
   ]
  },
  {
   "cell_type": "markdown",
   "metadata": {},
   "source": [
    "### Create vessel database"
   ]
  },
  {
   "cell_type": "code",
   "execution_count": null,
   "metadata": {},
   "outputs": [],
   "source": [
    "vessel_db = pd.read_csv(os.path.join(location_graph, location_vessel_database))\n",
    "vessel_db.head()"
   ]
  },
  {
   "cell_type": "code",
   "execution_count": null,
   "metadata": {},
   "outputs": [],
   "source": [
    "# Vessel type\n",
    "Vessel = type('Vessel', \n",
    "              (core.Identifiable, core.Movable, core.HasContainer,\n",
    "               core.VesselProperties, core.HasResource, core.Routeable), \n",
    "              {})"
   ]
  },
  {
   "cell_type": "code",
   "execution_count": null,
   "metadata": {},
   "outputs": [],
   "source": [
    "generator = model.VesselGenerator(Vessel, vessel_db)"
   ]
  },
  {
   "cell_type": "markdown",
   "metadata": {},
   "source": [
    "### Run simulation"
   ]
  },
  {
   "cell_type": "code",
   "execution_count": null,
   "metadata": {},
   "outputs": [],
   "source": [
    "# Start simpy environment\n",
    "simulation_start = datetime.datetime.now()\n",
    "env = simpy.Environment(initial_time = time.mktime(simulation_start.timetuple()))\n",
    "\n",
    "# Add graph to environment\n",
    "graph.add_resources(list(graph.graph.edges), np.ones(len(list(graph.graph.edges))), env)\n",
    "env.FG = graph.graph"
   ]
  },
  {
   "cell_type": "code",
   "execution_count": null,
   "metadata": {},
   "outputs": [],
   "source": [
    "def start(env, vessel):\n",
    "    while True:\n",
    "        \n",
    "        vessel.log_entry(\"Start sailing\", env.now, \"0\", vessel.geometry)\n",
    "        yield from vessel.move()\n",
    "        vessel.log_entry(\"Stop sailing\", env.now, \"0\", vessel.geometry)\n",
    "\n",
    "        if vessel.geometry == nx.get_node_attributes(env.FG, \"geometry\")[vessel.route[-1]]:\n",
    "            break"
   ]
  },
  {
   "cell_type": "code",
   "execution_count": null,
   "metadata": {},
   "outputs": [],
   "source": [
    "vessels = []\n",
    "\n",
    "# Add 10 vessels to the simulation\n",
    "for i in range(10):\n",
    "    random_1 = random.choice(list(graph.graph))\n",
    "    random_2 = random.choice(list(graph.graph))\n",
    "    path = nx.dijkstra_path(graph.graph, random_1, random_2)\n",
    "    \n",
    "    vessel = generator.generate(env, \"Vessel \" + str(i))\n",
    "    vessel.route = path\n",
    "    vessel.geometry = nx.get_node_attributes(env.FG, \"geometry\")[vessel.route[0]]\n",
    "    vessels.append(vessel)\n",
    "    \n",
    "    # Add the movements of the vessel to the simulation\n",
    "    env.process(start(env, vessel))"
   ]
  },
  {
   "cell_type": "code",
   "execution_count": null,
   "metadata": {},
   "outputs": [],
   "source": [
    "# Run simulation\n",
    "env.run()"
   ]
  },
  {
   "cell_type": "markdown",
   "metadata": {},
   "source": [
    "### Check results"
   ]
  },
  {
   "cell_type": "code",
   "execution_count": null,
   "metadata": {},
   "outputs": [],
   "source": [
    "df = pd.DataFrame.from_dict(vessel.log)\n",
    "df.head()"
   ]
  },
  {
   "cell_type": "code",
   "execution_count": null,
   "metadata": {},
   "outputs": [],
   "source": [
    "vessel.log"
   ]
  },
  {
   "cell_type": "code",
   "execution_count": null,
   "metadata": {},
   "outputs": [],
   "source": []
  }
 ],
 "metadata": {
  "kernelspec": {
   "display_name": "Python 3",
   "language": "python",
   "name": "python3"
  },
  "language_info": {
   "codemirror_mode": {
    "name": "ipython",
    "version": 3
   },
   "file_extension": ".py",
   "mimetype": "text/x-python",
   "name": "python",
   "nbconvert_exporter": "python",
   "pygments_lexer": "ipython3",
   "version": "3.8.12"
  }
 },
 "nbformat": 4,
 "nbformat_minor": 4
}
