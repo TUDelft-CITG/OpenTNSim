{
 "cells": [
  {
   "cell_type": "markdown",
   "id": "8415eddf",
   "metadata": {},
   "source": [
    "####     From this notebook we get:\n",
    "        \"Figure 16: Fuel using and emissions of different payload and trips.\".\n",
    "####    General steps:\n",
    "        -First we create and run the basic simulation of the ship sailing on the waterway.\n",
    "        -Then we plot the figure based on the results of the fuel consumption and emissions from the simulation."
   ]
  },
  {
   "cell_type": "markdown",
   "id": "4da97e37",
   "metadata": {},
   "source": [
    "## Basic simulation - consumes energy-van Dosser actual draught&payload\n",
    "We are going to make a simulation which forces a vessel to move over a certain 1D waterway network. It tries to give one an understanding of the most basic core functions of OpenTNSim and teach one the requirements to set-up a basic OpenTNSim model run. \n",
    "\n",
    "We add some properties to the graph (depth) and the vessel (VesselProperties, HasContainer, ConsumesEnergy) in order to calculate resistance, required power, "
   ]
  },
  {
   "cell_type": "markdown",
   "id": "9e12bfde",
   "metadata": {},
   "source": [
    "### Imports\n",
    "Import the required libraries"
   ]
  },
  {
   "cell_type": "code",
   "execution_count": 1,
   "id": "d4e73aa6",
   "metadata": {},
   "outputs": [],
   "source": [
    "# package(s) related to time, space and id\n",
    "import datetime, time\n",
    "import platform\n",
    "\n",
    "# you need these dependencies (you can get these from anaconda)\n",
    "# package(s) related to the simulation\n",
    "import simpy\n",
    "import pandas as pd\n",
    "\n",
    "# spatial libraries \n",
    "import pyproj\n",
    "import shapely.geometry\n",
    "from simplekml import Kml, Style\n",
    "\n",
    "# package(s) for data handling\n",
    "import numpy as np\n",
    "import matplotlib.pyplot as plt\n",
    "\n",
    "# OpenTNSim\n",
    "import opentnsim\n",
    "\n",
    "# Used for mathematical functions\n",
    "import math             \n",
    "\n",
    "# Used for making the graph to visualize our problem\n",
    "import networkx as nx   "
   ]
  },
  {
   "cell_type": "markdown",
   "id": "50a15fcc",
   "metadata": {},
   "source": [
    "### Create graph\n",
    "We first need to create a 1D network (a graph) along which the vessel will move. A graph contains edges (blue dots in plot below) and vertices (black lines in plot below). For this example, we will construct a network consisting of 4 nodes in a straight line. Since we would like to have two-way traffic, we add two edges between each pair of nodes: one from left to right, and another the other way around (however, we could easily apply one-way traffic as well by remove one of the two edges). Consequently, we arrive at a total of 4 nodes, and 6 edges.\n",
    "\n",
    "Due to the nature of discrete modelling in which the time step is dependent on the activities (in this example: forcing a ship to move from node to node from its origin to its destination), it is important to add OpenTNSim mix-ins to the nodes in such a way we could identify the node (mix-in Identifiable, which imports a name and imports/creates an ID), and to locate the node (mix-in Locatable, which gives the node a geometry).\n"
   ]
  },
  {
   "cell_type": "code",
   "execution_count": 2,
   "id": "d5683a95",
   "metadata": {},
   "outputs": [
    {
     "data": {
      "image/png": "[encoded data removed]",
      "text/plain": [
       "<Figure size 432x288 with 1 Axes>"
      ]
     },
     "metadata": {},
     "output_type": "display_data"
    }
   ],
   "source": [
    "FG = nx.DiGraph()\n",
    "nodes = []\n",
    "path = []\n",
    "\n",
    "Node = type('Site', (opentnsim.core.Identifiable, opentnsim.core.Locatable), {})\n",
    "\n",
    "data_node_1 = {\"name\": \"Node 1\",\n",
    "               \"geometry\": shapely.geometry.Point(0, 0)}\n",
    "data_node_2 = {\"name\": \"Node 2\",\n",
    "               \"geometry\": shapely.geometry.Point(0.8983, 0)}  # 0.8983 degree =100km\n",
    "data_node_3 = {\"name\": \"Node 3\",\n",
    "               \"geometry\": shapely.geometry.Point(1.7966, 0)}   # 1.7966 degree =200km\n",
    "data_node_4 = {\"name\": \"Node 4\",\n",
    "               \"geometry\": shapely.geometry.Point(2.6949, 0)}    # 2.6949 degree =300km\n",
    "\n",
    "node_1 = Node(**data_node_1)\n",
    "node_2 = Node(**data_node_2)\n",
    "node_3 = Node(**data_node_3)\n",
    "node_4 = Node(**data_node_4)\n",
    "\n",
    "nodes = [node_1, node_2, node_3, node_4]\n",
    "\n",
    "positions = {}\n",
    "for node in nodes:\n",
    "    positions[node.name] = (node.geometry.x, node.geometry.y)\n",
    "    FG.add_node(node.name, geometry = node.geometry)\n",
    "\n",
    "path = [[node_1, node_2], # From node 1 to node 2\n",
    "        [node_2, node_3], # From node 2 to node 3\n",
    "        [node_3, node_4], # From node 3 to node 4\n",
    "        [node_4, node_3], # From node 4 to node 3\n",
    "        [node_3, node_2], # From node 3 to node 2\n",
    "        [node_2, node_1]] # From node 2 to node 1\n",
    "\n",
    "for edge in path:\n",
    "    # For the energy consumption calculation we add info to the graph. We need depth info for resistance.\n",
    "    # NB: the CalculateEnergy routine expects the graph to have \"Info\" that contains \"GeneralDepth\" \n",
    "    #     this may not be very generic!\n",
    "    if edge == [node_2, node_3] or edge == [node_3, node_2]:\n",
    "        FG.add_edge(edge[0].name, edge[1].name, weight = 1, Info = {\"GeneralDepth\": 6})\n",
    "    else:\n",
    "        FG.add_edge(edge[0].name, edge[1].name, weight = 1, Info = {\"GeneralDepth\": 6})\n",
    "    \n",
    "# env.FG = FG\n",
    "nx.draw(FG, positions)\n",
    "plt.show()"
   ]
  },
  {
   "cell_type": "code",
   "execution_count": 3,
   "id": "3a375d91",
   "metadata": {},
   "outputs": [
    {
     "name": "stdout",
     "output_type": "stream",
     "text": [
      "General depth for edge ('Node 1', 'Node 2') is 6\n",
      "General depth for edge ('Node 2', 'Node 3') is 6\n",
      "General depth for edge ('Node 2', 'Node 1') is 6\n",
      "General depth for edge ('Node 3', 'Node 4') is 6\n",
      "General depth for edge ('Node 3', 'Node 2') is 6\n",
      "General depth for edge ('Node 4', 'Node 3') is 6\n"
     ]
    }
   ],
   "source": [
    "# This cell just shows that now a depth of 10 m is added to the edges. \n",
    "# You can use this to vary depths, e.g. make the middle edge shallower. Note that edges are bi-directional \n",
    "for edge in FG.edges:\n",
    "    print('General depth for edge {} is {}'.format(edge, FG.get_edge_data(edge[0], edge[1])[\"Info\"][\"GeneralDepth\"]))"
   ]
  },
  {
   "cell_type": "markdown",
   "id": "35391829",
   "metadata": {},
   "source": [
    "### Create vessel - add VesselProperties and ConsumesEnergy mixins\n",
    "The following mix-ins are required for each vessel in our problem: Identifiable (gives the vessel a name and a random ID), Movable (gives that the object (*vessel*) can move with a fixed speed and logs this activity, it requires input for the following mix-ins: Locatable, Routeable, and Log), and Routable (gives the object a route). We now modify our original vessel from the basic example and include vessel properties (like width, length, etc.) and a mixin that is needed to calculate resistance and energy consumption. "
   ]
  },
  {
   "cell_type": "code",
   "execution_count": 4,
   "id": "aa92d0e3",
   "metadata": {},
   "outputs": [],
   "source": [
    "# Make your preferred class out of available mix-ins.\n",
    "TransportResource = type('Vessel', \n",
    "                         (opentnsim.core.Identifiable, \n",
    "                          opentnsim.core.Movable, \n",
    "                          opentnsim.core.Routeable,\n",
    "                          opentnsim.core.VesselProperties,     # needed to add vessel properties\n",
    "                          opentnsim.core.HasContainer,         # needed to calculate filling degree for draught\n",
    "                          opentnsim.core.ConsumesEnergy), {})  # needed to calculate resistances            "
   ]
  },
  {
   "cell_type": "code",
   "execution_count": 5,
   "id": "59be2e54",
   "metadata": {},
   "outputs": [],
   "source": [
    "# Create a dict with all important settings\n",
    "data_vessel = {\"env\": None,\n",
    "               \"name\": None,\n",
    "               \"route\": None,\n",
    "               \"geometry\": None,\n",
    "               \"v\":3.5,  # m/s\n",
    "               \"type\": 'Dortmund-Eems (L <= 74 m)', # <-- note that inputs from hereon are due to the added mixins!\n",
    "               \"B\": 11.4,\n",
    "               \"L\": 110,\n",
    "               \"capacity\": 3000,   # DWT\n",
    "               \"level\":3000,  # actual payload, we didn't use this input. The actual payload we use is calculated via van Dossers method in the core.py \n",
    "               \"H_e\": None, \n",
    "               \"H_f\": None, \n",
    "               \"T_e\":None, \n",
    "               \"T_f\":None, \n",
    "               \n",
    "               \"P_installed\":1750.0,   \n",
    "               \"P_given\":None,\n",
    "               \"L_w\": 3.0 ,\n",
    "               \"C_b\":0.85, \n",
    "               \"c_year\":1990,\n",
    "               \"current_year\":None\n",
    "              }               \n",
    "\n",
    "vessel = TransportResource(**data_vessel)"
   ]
  },
  {
   "cell_type": "markdown",
   "id": "1d7abf4c",
   "metadata": {},
   "source": [
    "### Define paths\n",
    "We are going to create a simulation in which a vessel moves from *Node 1* to *Node 4*. Therefore, we need to create a vessel to which we will need to append this paths. Therefore, first let's create the path."
   ]
  },
  {
   "cell_type": "code",
   "execution_count": 6,
   "id": "088664b6",
   "metadata": {},
   "outputs": [],
   "source": [
    "path = nx.dijkstra_path(FG, node_1.name, node_4.name)"
   ]
  },
  {
   "cell_type": "markdown",
   "id": "23ceac15",
   "metadata": {},
   "source": [
    "### Run simulation\n",
    "Now we can define the run. First, we make an environment and add the graph to the environment. Then we add one vessel, to which we will append the environment and the above route. Lastly, we give the vessel the process of moving from the origin to the destination of the defined path and subsequently run the model."
   ]
  },
  {
   "cell_type": "code",
   "execution_count": 7,
   "id": "edae679f",
   "metadata": {},
   "outputs": [],
   "source": [
    "# Start simpy environment\n",
    "simulation_start = datetime.datetime.now()\n",
    "env = simpy.Environment(initial_time = time.mktime(simulation_start.timetuple()))\n",
    "env.epoch = time.mktime(simulation_start.timetuple())\n",
    "\n",
    "# Add graph to environment\n",
    "env.FG = FG\n",
    "\n",
    "# Add environment and path to the vessel\n",
    "vessel.env = env                                        #the created environment\n",
    "vessel.name = 'Vessel No.1'                     \n",
    "vessel.route = path                                     #the route (the sequence of nodes, as stored as the second column in the path)\n",
    "vessel.geometry = env.FG.nodes[path[0]]['geometry']     #a shapely.geometry.Point(lon,lat) (here taken as the starting node of the vessel)"
   ]
  },
  {
   "cell_type": "code",
   "execution_count": 8,
   "id": "4ffa9c12",
   "metadata": {},
   "outputs": [
    {
     "name": "stdout",
     "output_type": "stream",
     "text": [
      "minimal depth on route is: 6.0 m\n"
     ]
    }
   ],
   "source": [
    "h_min = np.inf\n",
    "for index, edge in enumerate(vessel.route[:-1]):\n",
    "    # step through each edge and adjust the minimum if it is lower than the previous minimum (start at inf)\n",
    "    h_min = np.min([h_min, FG.get_edge_data(vessel.route[index], vessel.route[index+1])[\"Info\"][\"GeneralDepth\"]])\n",
    "\n",
    "print('minimal depth on route is: {} m'.format(h_min))"
   ]
  },
  {
   "cell_type": "code",
   "execution_count": 9,
   "id": "631cf79c",
   "metadata": {},
   "outputs": [
    {
     "name": "stdout",
     "output_type": "stream",
     "text": [
      "The actual draft is 3.4399384737347587 m\n",
      "The actual_max_payload is 2803.2564997926606 ton\n",
      "3.4399384737347587\n",
      "2803.2564997926606\n"
     ]
    }
   ],
   "source": [
    "#draught, payload = vessel.calculate_actual_T_and_payload(h_min, 0.3)\n",
    "draught, payload = vessel.calculate_actual_T_and_payload(h_min, 0.3, \"Dry_DH\") #draught, payload = vessel.calculate_actual_T_and_payload(h_min, ukc, vesl_type)\n",
    "                                                                    #  should be \"Container\",\"Dry_DH\",\"Dry_SH\",\"Barge\" or \"Tanker\"'\n",
    "print(draught)\n",
    "print(payload)"
   ]
  },
  {
   "cell_type": "code",
   "execution_count": 10,
   "id": "7d95695a",
   "metadata": {},
   "outputs": [],
   "source": [
    "# Start the simulation\n",
    "env.process(vessel.move())\n",
    "env.run()"
   ]
  },
  {
   "cell_type": "markdown",
   "id": "b9809901",
   "metadata": {},
   "source": [
    "### Output\n",
    "We can now analyse the output of the simulation, which consists of the log-file of the vessel. We got this log-file as we added the log mix-in of OpenTNSim. This log-file keeps track of the moving activities of the vessel, and at which time and location they occur. The log-file could also keep track of an additional value, such as waiting times, which are not included here in this simulation.\n",
    "\n",
    "As you can see, the vessel moves from its origin (*Node 1*) to its destination (*Node 4*) by passing *Node 2* and *Node 3* respectively. The time is calculated by the greater circle distance between the nodes, divided by the speed of the vessel.\n",
    "\n",
    "Using this log-file, we could for example plot a time-distance graph."
   ]
  },
  {
   "cell_type": "code",
   "execution_count": 11,
   "id": "25f6966b",
   "metadata": {},
   "outputs": [
    {
     "data": {
      "text/html": [
       "<div>\n",
       "<style scoped>\n",
       "    .dataframe tbody tr th:only-of-type {\n",
       "        vertical-align: middle;\n",
       "    }\n",
       "\n",
       "    .dataframe tbody tr th {\n",
       "        vertical-align: top;\n",
       "    }\n",
       "\n",
       "    .dataframe thead th {\n",
       "        text-align: right;\n",
       "    }\n",
       "</style>\n",
       "<table border=\"1\" class=\"dataframe\">\n",
       "  <thead>\n",
       "    <tr style=\"text-align: right;\">\n",
       "      <th></th>\n",
       "      <th>Message</th>\n",
       "      <th>Timestamp</th>\n",
       "      <th>Value</th>\n",
       "      <th>Geometry</th>\n",
       "    </tr>\n",
       "  </thead>\n",
       "  <tbody>\n",
       "    <tr>\n",
       "      <th>0</th>\n",
       "      <td>Sailing from node Node 1 to node Node 2 start</td>\n",
       "      <td>2021-07-16 18:01:27.000000</td>\n",
       "      <td>0</td>\n",
       "      <td>POINT (0 0)</td>\n",
       "    </tr>\n",
       "    <tr>\n",
       "      <th>1</th>\n",
       "      <td>Sailing from node Node 1 to node Node 2 stop</td>\n",
       "      <td>2021-07-17 01:57:37.942451</td>\n",
       "      <td>0</td>\n",
       "      <td>POINT (0.8983 0)</td>\n",
       "    </tr>\n",
       "    <tr>\n",
       "      <th>2</th>\n",
       "      <td>Sailing from node Node 2 to node Node 3 start</td>\n",
       "      <td>2021-07-17 01:57:37.942451</td>\n",
       "      <td>0</td>\n",
       "      <td>POINT (0.8983 0)</td>\n",
       "    </tr>\n",
       "    <tr>\n",
       "      <th>3</th>\n",
       "      <td>Sailing from node Node 2 to node Node 3 stop</td>\n",
       "      <td>2021-07-17 09:53:48.884902</td>\n",
       "      <td>0</td>\n",
       "      <td>POINT (1.7966 0)</td>\n",
       "    </tr>\n",
       "    <tr>\n",
       "      <th>4</th>\n",
       "      <td>Sailing from node Node 3 to node Node 4 start</td>\n",
       "      <td>2021-07-17 09:53:48.884902</td>\n",
       "      <td>0</td>\n",
       "      <td>POINT (1.7966 0)</td>\n",
       "    </tr>\n",
       "    <tr>\n",
       "      <th>5</th>\n",
       "      <td>Sailing from node Node 3 to node Node 4 stop</td>\n",
       "      <td>2021-07-17 17:49:59.827354</td>\n",
       "      <td>0</td>\n",
       "      <td>POINT (2.6949 0)</td>\n",
       "    </tr>\n",
       "  </tbody>\n",
       "</table>\n",
       "</div>"
      ],
      "text/plain": [
       "                                         Message                  Timestamp  \\\n",
       "0  Sailing from node Node 1 to node Node 2 start 2021-07-16 18:01:27.000000   \n",
       "1   Sailing from node Node 1 to node Node 2 stop 2021-07-17 01:57:37.942451   \n",
       "2  Sailing from node Node 2 to node Node 3 start 2021-07-17 01:57:37.942451   \n",
       "3   Sailing from node Node 2 to node Node 3 stop 2021-07-17 09:53:48.884902   \n",
       "4  Sailing from node Node 3 to node Node 4 start 2021-07-17 09:53:48.884902   \n",
       "5   Sailing from node Node 3 to node Node 4 stop 2021-07-17 17:49:59.827354   \n",
       "\n",
       "   Value          Geometry  \n",
       "0      0       POINT (0 0)  \n",
       "1      0  POINT (0.8983 0)  \n",
       "2      0  POINT (0.8983 0)  \n",
       "3      0  POINT (1.7966 0)  \n",
       "4      0  POINT (1.7966 0)  \n",
       "5      0  POINT (2.6949 0)  "
      ]
     },
     "execution_count": 11,
     "metadata": {},
     "output_type": "execute_result"
    }
   ],
   "source": [
    "df = pd.DataFrame.from_dict(vessel.log)\n",
    "df"
   ]
  },
  {
   "cell_type": "markdown",
   "id": "c61aa3a4",
   "metadata": {},
   "source": [
    "### Post processing: calculate energy consumptions and emissions"
   ]
  },
  {
   "cell_type": "code",
   "execution_count": 12,
   "id": "284ea583",
   "metadata": {},
   "outputs": [],
   "source": [
    "# create an EnergyCalculation object (graph FG and vessel are needed as input)\n",
    "energycalculation = opentnsim.energy.EnergyCalculation(FG, vessel)"
   ]
  },
  {
   "cell_type": "code",
   "execution_count": 13,
   "id": "de0f3f1a",
   "metadata": {},
   "outputs": [
    {
     "name": "stdout",
     "output_type": "stream",
     "text": [
      "delta_t: 28570.9425 s\n",
      "distance: 99998.2986 m\n",
      "velocity: 3.5000 m/s\n",
      "The total power required is 376.10815063045067 kW\n",
      "The actual total power given is 376.10815063045067 kW\n",
      "The partial load is 0.21491894321740038\n",
      "The construction year of the engine is 1990\n",
      "The general emission factor of CO2 is 698 g/kWh\n",
      "The general emission factor of PM10 is 0.4 g/kWh\n",
      "The general emission factor CO2 is 10.1 g/kWh\n",
      "The general fuel consumption factor is 220 g/kWh\n",
      "The total power required is 376.10815063045067 kW\n",
      "The actual total power given is 376.10815063045067 kW\n",
      "The partial load is 0.21491894321740038\n",
      "Correction factor of CO2 is 1.1440324227130398\n",
      "Correction factor of PM10 is 1.1691134794956395\n",
      "Correction factor of NOX is 1.0880648454260797\n",
      "Correction factor of fuel consumption is 1.1440324227130398\n",
      "The total emission factor of CO2 is 798.5346310537018 g/kWh\n",
      "The total emission factor of PM10 is 0.4676453917982558 g/kWh\n",
      "The total emission factor CO2 is 10.989454938803405 g/kWh\n",
      "The total fuel consumption factor is 251.68713299686877 g/kWh\n",
      "delta_t: 28570.9425 s\n",
      "distance: 99998.2986 m\n",
      "velocity: 3.5000 m/s\n",
      "The total power required is 376.10815063045067 kW\n",
      "The actual total power given is 376.10815063045067 kW\n",
      "The partial load is 0.21491894321740038\n",
      "The construction year of the engine is 1990\n",
      "The general emission factor of CO2 is 698 g/kWh\n",
      "The general emission factor of PM10 is 0.4 g/kWh\n",
      "The general emission factor CO2 is 10.1 g/kWh\n",
      "The general fuel consumption factor is 220 g/kWh\n",
      "The total power required is 376.10815063045067 kW\n",
      "The actual total power given is 376.10815063045067 kW\n",
      "The partial load is 0.21491894321740038\n",
      "Correction factor of CO2 is 1.1440324227130398\n",
      "Correction factor of PM10 is 1.1691134794956395\n",
      "Correction factor of NOX is 1.0880648454260797\n",
      "Correction factor of fuel consumption is 1.1440324227130398\n",
      "The total emission factor of CO2 is 798.5346310537018 g/kWh\n",
      "The total emission factor of PM10 is 0.4676453917982558 g/kWh\n",
      "The total emission factor CO2 is 10.989454938803405 g/kWh\n",
      "The total fuel consumption factor is 251.68713299686877 g/kWh\n",
      "delta_t: 28570.9425 s\n",
      "distance: 99998.2986 m\n",
      "velocity: 3.5000 m/s\n",
      "The total power required is 376.10815059764485 kW\n",
      "The actual total power given is 376.10815059764485 kW\n",
      "The partial load is 0.2149189431986542\n",
      "The construction year of the engine is 1990\n",
      "The general emission factor of CO2 is 698 g/kWh\n",
      "The general emission factor of PM10 is 0.4 g/kWh\n",
      "The general emission factor CO2 is 10.1 g/kWh\n",
      "The general fuel consumption factor is 220 g/kWh\n",
      "The total power required is 376.10815059764485 kW\n",
      "The actual total power given is 376.10815059764485 kW\n",
      "The partial load is 0.2149189431986542\n",
      "Correction factor of CO2 is 1.1440324227205383\n",
      "Correction factor of PM10 is 1.169113479521884\n",
      "Correction factor of NOX is 1.0880648454410766\n",
      "Correction factor of fuel consumption is 1.1440324227205383\n",
      "The total emission factor of CO2 is 798.5346310589357 g/kWh\n",
      "The total emission factor of PM10 is 0.46764539180875364 g/kWh\n",
      "The total emission factor CO2 is 10.989454938954873 g/kWh\n",
      "The total fuel consumption factor is 251.68713299851842 g/kWh\n"
     ]
    }
   ],
   "source": [
    "# we can now work out in hindsight what resistance, power, energy and emissions were generated\n",
    "energycalculation.calculate_energy_consumption()\n"
   ]
  },
  {
   "cell_type": "code",
   "execution_count": 14,
   "id": "6e5f4a42",
   "metadata": {},
   "outputs": [
    {
     "data": {
      "text/html": [
       "<div>\n",
       "<style scoped>\n",
       "    .dataframe tbody tr th:only-of-type {\n",
       "        vertical-align: middle;\n",
       "    }\n",
       "\n",
       "    .dataframe tbody tr th {\n",
       "        vertical-align: top;\n",
       "    }\n",
       "\n",
       "    .dataframe thead th {\n",
       "        text-align: right;\n",
       "    }\n",
       "</style>\n",
       "<table border=\"1\" class=\"dataframe\">\n",
       "  <thead>\n",
       "    <tr style=\"text-align: right;\">\n",
       "      <th></th>\n",
       "      <th>time_start</th>\n",
       "      <th>time_stop</th>\n",
       "      <th>edge_start</th>\n",
       "      <th>edge_stop</th>\n",
       "      <th>total_energy</th>\n",
       "      <th>total_fuel_consumption</th>\n",
       "      <th>total_emission_CO2</th>\n",
       "      <th>total_emission_PM10</th>\n",
       "      <th>total_emission_NOX</th>\n",
       "      <th>stationary</th>\n",
       "      <th>water depth</th>\n",
       "      <th>distance</th>\n",
       "      <th>delta_t</th>\n",
       "      <th>CO2_g_km</th>\n",
       "      <th>PM10_g_km</th>\n",
       "      <th>NOX_g_km</th>\n",
       "    </tr>\n",
       "  </thead>\n",
       "  <tbody>\n",
       "    <tr>\n",
       "      <th>0</th>\n",
       "      <td>2021-07-16 18:01:27.000000</td>\n",
       "      <td>2021-07-17 01:57:37.942451</td>\n",
       "      <td>POINT (0 0)</td>\n",
       "      <td>POINT (0.8983 0)</td>\n",
       "      <td>2984.934535</td>\n",
       "      <td>751.269615</td>\n",
       "      <td>2.383574e+06</td>\n",
       "      <td>1395.89088</td>\n",
       "      <td>32802.803571</td>\n",
       "      <td>0</td>\n",
       "      <td>6</td>\n",
       "      <td>99998.29858</td>\n",
       "      <td>28570.942451</td>\n",
       "      <td>23836.141531</td>\n",
       "      <td>13.959146</td>\n",
       "      <td>328.033617</td>\n",
       "    </tr>\n",
       "    <tr>\n",
       "      <th>1</th>\n",
       "      <td>2021-07-17 01:57:37.942451</td>\n",
       "      <td>2021-07-17 09:53:48.884902</td>\n",
       "      <td>POINT (0.8983 0)</td>\n",
       "      <td>POINT (1.7966 0)</td>\n",
       "      <td>2984.934535</td>\n",
       "      <td>751.269615</td>\n",
       "      <td>2.383574e+06</td>\n",
       "      <td>1395.89088</td>\n",
       "      <td>32802.803571</td>\n",
       "      <td>0</td>\n",
       "      <td>6</td>\n",
       "      <td>99998.29858</td>\n",
       "      <td>28570.942451</td>\n",
       "      <td>23836.141531</td>\n",
       "      <td>13.959146</td>\n",
       "      <td>328.033617</td>\n",
       "    </tr>\n",
       "    <tr>\n",
       "      <th>2</th>\n",
       "      <td>2021-07-17 09:53:48.884902</td>\n",
       "      <td>2021-07-17 17:49:59.827354</td>\n",
       "      <td>POINT (1.7966 0)</td>\n",
       "      <td>POINT (2.6949 0)</td>\n",
       "      <td>2984.934535</td>\n",
       "      <td>751.269615</td>\n",
       "      <td>2.383574e+06</td>\n",
       "      <td>1395.89088</td>\n",
       "      <td>32802.803569</td>\n",
       "      <td>0</td>\n",
       "      <td>6</td>\n",
       "      <td>99998.29858</td>\n",
       "      <td>28570.942452</td>\n",
       "      <td>23836.141530</td>\n",
       "      <td>13.959146</td>\n",
       "      <td>328.033617</td>\n",
       "    </tr>\n",
       "  </tbody>\n",
       "</table>\n",
       "</div>"
      ],
      "text/plain": [
       "                  time_start                  time_stop        edge_start  \\\n",
       "0 2021-07-16 18:01:27.000000 2021-07-17 01:57:37.942451       POINT (0 0)   \n",
       "1 2021-07-17 01:57:37.942451 2021-07-17 09:53:48.884902  POINT (0.8983 0)   \n",
       "2 2021-07-17 09:53:48.884902 2021-07-17 17:49:59.827354  POINT (1.7966 0)   \n",
       "\n",
       "          edge_stop  total_energy  total_fuel_consumption  total_emission_CO2  \\\n",
       "0  POINT (0.8983 0)   2984.934535              751.269615        2.383574e+06   \n",
       "1  POINT (1.7966 0)   2984.934535              751.269615        2.383574e+06   \n",
       "2  POINT (2.6949 0)   2984.934535              751.269615        2.383574e+06   \n",
       "\n",
       "   total_emission_PM10  total_emission_NOX  stationary  water depth  \\\n",
       "0           1395.89088        32802.803571           0            6   \n",
       "1           1395.89088        32802.803571           0            6   \n",
       "2           1395.89088        32802.803569           0            6   \n",
       "\n",
       "      distance       delta_t      CO2_g_km  PM10_g_km    NOX_g_km  \n",
       "0  99998.29858  28570.942451  23836.141531  13.959146  328.033617  \n",
       "1  99998.29858  28570.942451  23836.141531  13.959146  328.033617  \n",
       "2  99998.29858  28570.942452  23836.141530  13.959146  328.033617  "
      ]
     },
     "execution_count": 14,
     "metadata": {},
     "output_type": "execute_result"
    }
   ],
   "source": [
    "df = pd.DataFrame.from_dict(energycalculation.energy_use)\n",
    "df['CO2_g_km'] = df['total_emission_CO2'] / df['distance']*1000\n",
    "df['PM10_g_km'] = df['total_emission_PM10'] / df['distance']*1000\n",
    "df['NOX_g_km'] = df['total_emission_NOX'] / df['distance']*1000\n",
    "df.head()"
   ]
  },
  {
   "cell_type": "markdown",
   "id": "b673539f",
   "metadata": {},
   "source": [
    "The below results of fuel (diesel) consumption, emissions at different payload used for Figure 12 are calculated from the above simulation by changing water depth, which results in payload changes based on van Dorssers method in core.py"
   ]
  },
  {
   "cell_type": "code",
   "execution_count": 15,
   "id": "381b7461",
   "metadata": {},
   "outputs": [],
   "source": [
    "amount=30000 #ton\n",
    "d=300 #km distance "
   ]
  },
  {
   "cell_type": "code",
   "execution_count": 16,
   "id": "6954470d",
   "metadata": {},
   "outputs": [
    {
     "data": {
      "text/html": [
       "<div>\n",
       "<style scoped>\n",
       "    .dataframe tbody tr th:only-of-type {\n",
       "        vertical-align: middle;\n",
       "    }\n",
       "\n",
       "    .dataframe tbody tr th {\n",
       "        vertical-align: top;\n",
       "    }\n",
       "\n",
       "    .dataframe thead th {\n",
       "        text-align: right;\n",
       "    }\n",
       "</style>\n",
       "<table border=\"1\" class=\"dataframe\">\n",
       "  <thead>\n",
       "    <tr style=\"text-align: right;\">\n",
       "      <th></th>\n",
       "      <th>fuel consumption (kg/km)</th>\n",
       "      <th>fuel total trips consumption (10 ton)</th>\n",
       "    </tr>\n",
       "  </thead>\n",
       "  <tbody>\n",
       "    <tr>\n",
       "      <th>500 ton</th>\n",
       "      <td>14.800</td>\n",
       "      <td>57.8340</td>\n",
       "    </tr>\n",
       "    <tr>\n",
       "      <th>1000 ton</th>\n",
       "      <td>8.100</td>\n",
       "      <td>22.8870</td>\n",
       "    </tr>\n",
       "    <tr>\n",
       "      <th>1500 ton</th>\n",
       "      <td>7.299</td>\n",
       "      <td>14.7774</td>\n",
       "    </tr>\n",
       "    <tr>\n",
       "      <th>2000 ton</th>\n",
       "      <td>7.320</td>\n",
       "      <td>11.0925</td>\n",
       "    </tr>\n",
       "    <tr>\n",
       "      <th>2500 ton</th>\n",
       "      <td>7.480</td>\n",
       "      <td>8.9316</td>\n",
       "    </tr>\n",
       "  </tbody>\n",
       "</table>\n",
       "</div>"
      ],
      "text/plain": [
       "          fuel consumption (kg/km)  fuel total trips consumption (10 ton)\n",
       "500 ton                     14.800                                57.8340\n",
       "1000 ton                     8.100                                22.8870\n",
       "1500 ton                     7.299                                14.7774\n",
       "2000 ton                     7.320                                11.0925\n",
       "2500 ton                     7.480                                 8.9316"
      ]
     },
     "execution_count": 16,
     "metadata": {},
     "output_type": "execute_result"
    }
   ],
   "source": [
    "fuel_kg_km=[ 17.33,14.8,8.1,7.299,7.32,7.48]  #  fuel consumption kg/km of payload=minimum t, 500t,1000t,1500t,2000t,2500t; corresponding T=1.4,1.45,1.9,2.3,2.75,3.15\n",
    "fuel_kg_km_=[14.8,8.1,7.299,7.32,7.48]\n",
    "fuel_500=d*(fuel_kg_km[0]+fuel_kg_km[1])*amount/500/10000 #10ton\n",
    "fuel_1000=d*(fuel_kg_km[0]+fuel_kg_km[2])*amount/1000/10000 #10ton\n",
    "fuel_1500=d*(fuel_kg_km[0]+fuel_kg_km[3])*amount/1500/10000 #10ton\n",
    "fuel_2000=d*(fuel_kg_km[0]+fuel_kg_km[4])*amount/2000/10000 #10ton\n",
    "fuel_2500=d*(fuel_kg_km[0]+fuel_kg_km[5])*amount/2500/10000 #10ton\n",
    "\n",
    "fuel_trips=[fuel_500,fuel_1000,fuel_1500,fuel_2000,fuel_2500] # (loaded go+ unloaded return)*trips\n",
    "index = ['500 ton','1000 ton','1500 ton','2000 ton','2500 ton']\n",
    "dffuel = pd.DataFrame({'fuel consumption (kg/km)': fuel_kg_km_,\n",
    "                   'fuel total trips consumption (10 ton)':fuel_trips}, index=index)\n",
    "                  \n",
    "dffuel.head()"
   ]
  },
  {
   "cell_type": "code",
   "execution_count": 17,
   "id": "414bf7d8",
   "metadata": {},
   "outputs": [
    {
     "data": {
      "text/html": [
       "<div>\n",
       "<style scoped>\n",
       "    .dataframe tbody tr th:only-of-type {\n",
       "        vertical-align: middle;\n",
       "    }\n",
       "\n",
       "    .dataframe tbody tr th {\n",
       "        vertical-align: top;\n",
       "    }\n",
       "\n",
       "    .dataframe thead th {\n",
       "        text-align: right;\n",
       "    }\n",
       "</style>\n",
       "<table border=\"1\" class=\"dataframe\">\n",
       "  <thead>\n",
       "    <tr style=\"text-align: right;\">\n",
       "      <th></th>\n",
       "      <th>CO2 emission rate (kg/km)</th>\n",
       "      <th>CO2 total trips emission (10 ton)</th>\n",
       "    </tr>\n",
       "  </thead>\n",
       "  <tbody>\n",
       "    <tr>\n",
       "      <th>500 ton</th>\n",
       "      <td>47.000</td>\n",
       "      <td>183.6000</td>\n",
       "    </tr>\n",
       "    <tr>\n",
       "      <th>1000 ton</th>\n",
       "      <td>25.700</td>\n",
       "      <td>72.6300</td>\n",
       "    </tr>\n",
       "    <tr>\n",
       "      <th>1500 ton</th>\n",
       "      <td>23.158</td>\n",
       "      <td>46.8948</td>\n",
       "    </tr>\n",
       "    <tr>\n",
       "      <th>2000 ton</th>\n",
       "      <td>23.260</td>\n",
       "      <td>35.2170</td>\n",
       "    </tr>\n",
       "    <tr>\n",
       "      <th>2500 ton</th>\n",
       "      <td>23.730</td>\n",
       "      <td>28.3428</td>\n",
       "    </tr>\n",
       "  </tbody>\n",
       "</table>\n",
       "</div>"
      ],
      "text/plain": [
       "          CO2 emission rate (kg/km)  CO2 total trips emission (10 ton)\n",
       "500 ton                      47.000                           183.6000\n",
       "1000 ton                     25.700                            72.6300\n",
       "1500 ton                     23.158                            46.8948\n",
       "2000 ton                     23.260                            35.2170\n",
       "2500 ton                     23.730                            28.3428"
      ]
     },
     "execution_count": 17,
     "metadata": {},
     "output_type": "execute_result"
    }
   ],
   "source": [
    "CO2_kg_km=[55,47,25.7,23.158,23.26,23.73]  #  emission rate of payload=0t,500t,1000t,1500t,2000t,2500t \n",
    "CO2_kg_km_=[47,25.7,23.158,23.26,23.73] \n",
    "CO2_500=d*(CO2_kg_km[0]+CO2_kg_km[1])*amount/500/10000 #10ton\n",
    "CO2_1000=d*(CO2_kg_km[0]+CO2_kg_km[2])*amount/1000/10000\n",
    "CO2_1500=d*(CO2_kg_km[0]+CO2_kg_km[3])*amount/1500/10000\n",
    "CO2_2000=d*(CO2_kg_km[0]+CO2_kg_km[4])*amount/2000/10000\n",
    "CO2_2500=d*(CO2_kg_km[0]+CO2_kg_km[5])*amount/2500/10000\n",
    "\n",
    "CO2_trips=[CO2_500,CO2_1000,CO2_1500,CO2_2000,CO2_2500] # (loaded go+ unloaded return)*trips\n",
    "index = ['500 ton','1000 ton','1500 ton','2000 ton','2500 ton']\n",
    "dfCO2 = pd.DataFrame({'CO2 emission rate (kg/km)': CO2_kg_km_,\n",
    "                   'CO2 total trips emission (10 ton)':CO2_trips}, index=index)\n",
    "                  \n",
    "dfCO2.head()"
   ]
  },
  {
   "cell_type": "code",
   "execution_count": 18,
   "id": "323bf09e",
   "metadata": {},
   "outputs": [
    {
     "data": {
      "text/html": [
       "<div>\n",
       "<style scoped>\n",
       "    .dataframe tbody tr th:only-of-type {\n",
       "        vertical-align: middle;\n",
       "    }\n",
       "\n",
       "    .dataframe tbody tr th {\n",
       "        vertical-align: top;\n",
       "    }\n",
       "\n",
       "    .dataframe thead th {\n",
       "        text-align: right;\n",
       "    }\n",
       "</style>\n",
       "<table border=\"1\" class=\"dataframe\">\n",
       "  <thead>\n",
       "    <tr style=\"text-align: right;\">\n",
       "      <th></th>\n",
       "      <th>PM10 emission rate (g/km)</th>\n",
       "      <th>PM10 total trips emission (10kg)</th>\n",
       "    </tr>\n",
       "  </thead>\n",
       "  <tbody>\n",
       "    <tr>\n",
       "      <th>500 ton</th>\n",
       "      <td>26.32</td>\n",
       "      <td>102.4740</td>\n",
       "    </tr>\n",
       "    <tr>\n",
       "      <th>1000 ton</th>\n",
       "      <td>14.80</td>\n",
       "      <td>40.8690</td>\n",
       "    </tr>\n",
       "    <tr>\n",
       "      <th>1500 ton</th>\n",
       "      <td>13.63</td>\n",
       "      <td>26.5440</td>\n",
       "    </tr>\n",
       "    <tr>\n",
       "      <th>2000 ton</th>\n",
       "      <td>13.68</td>\n",
       "      <td>19.9305</td>\n",
       "    </tr>\n",
       "    <tr>\n",
       "      <th>2500 ton</th>\n",
       "      <td>13.90</td>\n",
       "      <td>16.0236</td>\n",
       "    </tr>\n",
       "  </tbody>\n",
       "</table>\n",
       "</div>"
      ],
      "text/plain": [
       "          PM10 emission rate (g/km)  PM10 total trips emission (10kg)\n",
       "500 ton                       26.32                          102.4740\n",
       "1000 ton                      14.80                           40.8690\n",
       "1500 ton                      13.63                           26.5440\n",
       "2000 ton                      13.68                           19.9305\n",
       "2500 ton                      13.90                           16.0236"
      ]
     },
     "execution_count": 18,
     "metadata": {},
     "output_type": "execute_result"
    }
   ],
   "source": [
    "PM10_g_km=[30.61,26.32,14.8,13.63,13.68,13.9]  #  emission rate of payload=0t,500t,1000t,1500t,2000t,2500t \n",
    "PM10_g_km_=[26.32,14.8,13.63,13.68,13.9]\n",
    "PM10_500=d*(PM10_g_km[0]+PM10_g_km[1])*amount/500/10000  #10kg\n",
    "PM10_1000=d*(PM10_g_km[0]+PM10_g_km[2])*amount/1000/10000\n",
    "PM10_1500=d*(PM10_g_km[0]+PM10_g_km[3])*amount/1500/10000\n",
    "PM10_2000=d*(PM10_g_km[0]+PM10_g_km[4])*amount/2000/10000\n",
    "PM10_2500=d*(PM10_g_km[0]+PM10_g_km[5])*amount/2500/10000\n",
    "\n",
    "PM10_trips=[PM10_500,PM10_1000,PM10_1500,PM10_2000,PM10_2500] # (loaded go+ unloaded return)*trips\n",
    "index = ['500 ton','1000 ton','1500 ton','2000 ton','2500 ton']\n",
    "dfPM10 = pd.DataFrame({'PM10 emission rate (g/km)': PM10_g_km_,\n",
    "                   'PM10 total trips emission (10kg)':PM10_trips}, index=index)\n",
    "\n",
    "dfPM10.head()"
   ]
  },
  {
   "cell_type": "code",
   "execution_count": 19,
   "id": "e5a3a112",
   "metadata": {},
   "outputs": [
    {
     "data": {
      "text/html": [
       "<div>\n",
       "<style scoped>\n",
       "    .dataframe tbody tr th:only-of-type {\n",
       "        vertical-align: middle;\n",
       "    }\n",
       "\n",
       "    .dataframe tbody tr th {\n",
       "        vertical-align: top;\n",
       "    }\n",
       "\n",
       "    .dataframe thead th {\n",
       "        text-align: right;\n",
       "    }\n",
       "</style>\n",
       "<table border=\"1\" class=\"dataframe\">\n",
       "  <thead>\n",
       "    <tr style=\"text-align: right;\">\n",
       "      <th></th>\n",
       "      <th>NOX emission rate (g/km)</th>\n",
       "      <th>NOX total trips emission (10kg)</th>\n",
       "    </tr>\n",
       "  </thead>\n",
       "  <tbody>\n",
       "    <tr>\n",
       "      <th>500 ton</th>\n",
       "      <td>656.0</td>\n",
       "      <td>2571.5880</td>\n",
       "    </tr>\n",
       "    <tr>\n",
       "      <th>1000 ton</th>\n",
       "      <td>352.0</td>\n",
       "      <td>1012.1940</td>\n",
       "    </tr>\n",
       "    <tr>\n",
       "      <th>1500 ton</th>\n",
       "      <td>319.5</td>\n",
       "      <td>655.2960</td>\n",
       "    </tr>\n",
       "    <tr>\n",
       "      <th>2000 ton</th>\n",
       "      <td>320.7</td>\n",
       "      <td>492.0120</td>\n",
       "    </tr>\n",
       "    <tr>\n",
       "      <th>2500 ton</th>\n",
       "      <td>326.7</td>\n",
       "      <td>395.7696</td>\n",
       "    </tr>\n",
       "  </tbody>\n",
       "</table>\n",
       "</div>"
      ],
      "text/plain": [
       "          NOX emission rate (g/km)  NOX total trips emission (10kg)\n",
       "500 ton                      656.0                        2571.5880\n",
       "1000 ton                     352.0                        1012.1940\n",
       "1500 ton                     319.5                         655.2960\n",
       "2000 ton                     320.7                         492.0120\n",
       "2500 ton                     326.7                         395.7696"
      ]
     },
     "execution_count": 19,
     "metadata": {},
     "output_type": "execute_result"
    }
   ],
   "source": [
    "NOX_g_km=[772.66,656,352,319.5,320.7,326.7]  #  emission rate of payload=0t,500t,1000t,1500t,2000t,2500t \n",
    "NOX_g_km_=[656,352,319.5,320.7,326.7] \n",
    "NOX_500=d*(NOX_g_km[0]+NOX_g_km[1])*amount/500/10000 #10kg\n",
    "NOX_1000=d*(NOX_g_km[0]+NOX_g_km[2])*amount/1000/10000 \n",
    "NOX_1500=d*(NOX_g_km[0]+NOX_g_km[3])*amount/1500/10000 \n",
    "NOX_2000=d*(NOX_g_km[0]+NOX_g_km[4])*amount/2000/10000\n",
    "NOX_2500=d*(NOX_g_km[0]+NOX_g_km[5])*amount/2500/10000 \n",
    "\n",
    "NOX_trips=[NOX_500,NOX_1000,NOX_1500,NOX_2000,NOX_2500] # (loaded go+ unloaded return)*trips\n",
    "index = ['500 ton','1000 ton','1500 ton','2000 ton','2500 ton']\n",
    "dfNOX = pd.DataFrame({'NOX emission rate (g/km)': NOX_g_km_,\n",
    "                   'NOX total trips emission (10kg)':NOX_trips}, index=index)\n",
    "                  \n",
    "dfNOX.head()"
   ]
  },
  {
   "cell_type": "markdown",
   "id": "2d08675a",
   "metadata": {},
   "source": [
    "## Figure 16\n",
    "Fuel using and emissions of different payload and trips. Assumming the total cargo amount is 30000 ton, ship speed to the water is 3.5 m/s. the ship need to sail over the waterway of 300 km length and 6 m depth to transport the cargo with different payload and trips. A round trip includes a 300 km loading going trip and 300 km  zero payload returning trip (with minimum operational draught 1.4 m based on propeller position). 500 ton payload (actual draught:1.45 m ) each time requiring 60 trips; 1000 ton payload (actual draught:  1.9 m ) each time requiring 30 trips; 1500 ton payload (actual draught: 2.3 m ) ench time requiring 20 trips; 2000 ton payload (actual draught: 2.75 m ) each time requiring 15 trips; 2500 ton payload (actual draught: 3.15 m ) ench time requiring 12 trips."
   ]
  },
  {
   "cell_type": "code",
   "execution_count": 20,
   "id": "262a79a7",
   "metadata": {},
   "outputs": [
    {
     "name": "stderr",
     "output_type": "stream",
     "text": [
      "<ipython-input-20-73110d0af337>:10: UserWarning:\n",
      "\n",
      "FixedFormatter should only be used together with FixedLocator\n",
      "\n",
      "<ipython-input-20-73110d0af337>:19: UserWarning:\n",
      "\n",
      "FixedFormatter should only be used together with FixedLocator\n",
      "\n",
      "<ipython-input-20-73110d0af337>:27: UserWarning:\n",
      "\n",
      "FixedFormatter should only be used together with FixedLocator\n",
      "\n",
      "<ipython-input-20-73110d0af337>:35: UserWarning:\n",
      "\n",
      "FixedFormatter should only be used together with FixedLocator\n",
      "\n"
     ]
    },
    {
     "data": {
      "image/png": "[encoded data removed]",
      "text/plain": [
       "<Figure size 1008x720 with 4 Axes>"
      ]
     },
     "metadata": {
      "needs_background": "light"
     },
     "output_type": "display_data"
    }
   ],
   "source": [
    "fig, axes = plt.subplots(nrows=2, ncols=2,figsize=(14, 10))\n",
    "fuel_colors=['#bf9005','#f1da7a']\n",
    "CO2_colors=['orange','yellow']\n",
    "PM10_colors=['mediumseagreen','paleturquoise']\n",
    "NOX_colors=['deeppink','pink']\n",
    "dffuel.plot(ax=axes[0,0],kind='bar',color=fuel_colors,rot=0)\n",
    "axes[0,0].set_ylim(0, 60)\n",
    "# axes[0,0].set_ylabel('Total fuel consumption (kg)',fontsize=12,fontweight='bold',labelpad=4)\n",
    "axes[0,0].annotate('(a)', xy=(-0.35, 60*7.5/8), fontsize=12,weight = 'bold')\n",
    "axes[0,0].set_yticklabels(axes[0,0].get_yticks(), size=12,weight = 'bold')  \n",
    "axes[0,0].set_xticklabels(['500 ton','1000 ton','1500 ton','2000 ton','2500 ton'], size=12,weight = 'bold') \n",
    "# axes[0].legend(loc='upper left')\n",
    "# axes[0,0].xaxis.get_major_formatter().set_powerlimits((0,1))\n",
    "\n",
    "dfCO2.plot(ax=axes[0,1],kind='bar',color=CO2_colors,rot=0)\n",
    "axes[0,1].set_ylim(0, 185)\n",
    "# axes[0,1].set_ylabel('Total CO2 emission \\n (kg)',fontsize=12,fontweight='bold',labelpad=3)\n",
    "axes[0,1].annotate('(b)', xy=(-0.35, 185*7.5/8), fontsize=12,weight = 'bold')\n",
    "axes[0,1].set_yticklabels(axes[0,1].get_yticks(), size=12,weight = 'bold')  \n",
    "axes[0,1].set_xticklabels(['500 ton','1000 ton','1500 ton','2000 ton','2500 ton'],size=12,weight = 'bold') \n",
    "# axes[1].legend(loc='upper left')\n",
    "\n",
    "dfPM10.plot(ax=axes[1,0],kind='bar', color=PM10_colors,rot=0)\n",
    "axes[1,0].set_ylim(0, 110)\n",
    "# axes[1,0].set_ylabel('Total PM10 emission \\n (kg)',fontsize=12,fontweight='bold',labelpad=27)\n",
    "axes[1,0].annotate('(c)', xy=(-0.35, 110*7.5/8), fontsize=12,weight = 'bold')\n",
    "axes[1,0].set_yticklabels(axes[1,0].get_yticks(), size=12,weight = 'bold')  \n",
    "axes[1,0].set_xticklabels(['500 ton','1000 ton','1500 ton','2000 ton','2500 ton'], size=12,weight = 'bold') \n",
    "# axes[2].legend(loc='upper left')\n",
    "\n",
    "dfNOX.plot(ax=axes[1,1],kind='bar', color=NOX_colors,rot=0)\n",
    "axes[1,1].set_ylim(0, 2750)\n",
    "# axes[1,1].set_ylabel('Total NOx emission (kg)',fontsize=12,fontweight='bold',labelpad=20)\n",
    "#axes[1,1].set_xticklabels(axes[3].get_xticks(), size=12,weight = 'bold')  \n",
    "axes[1,1].set_yticklabels(axes[1,1].get_yticks(), size=12,weight = 'bold')  \n",
    "axes[1,1].set_xticklabels(['500 ton','1000 ton','1500 ton','2000 ton','2500 ton'], size=12,weight = 'bold') \n",
    "axes[1,1].annotate('(d)', xy=(-0.35, 2750*7.5/8), fontsize=12,weight = 'bold')\n",
    "# plt.yticks(weight = 'bold', fontsize=12)\n",
    "# axes[3].legend(loc='upper left')\n",
    "plt.xticks( weight = 'bold', fontsize=12)\n",
    "plt.savefig('6-6-6-payload&trips.pdf', bbox_inches = 'tight',dpi=600, format='pdf')  \n",
    "plt.show()"
   ]
  }
 ],
 "metadata": {
  "kernelspec": {
   "display_name": "Python 3 (ipykernel)",
   "language": "python",
   "name": "python3"
  },
  "language_info": {
   "codemirror_mode": {
    "name": "ipython",
    "version": 3
   },
   "file_extension": ".py",
   "mimetype": "text/x-python",
   "name": "python",
   "nbconvert_exporter": "python",
   "pygments_lexer": "ipython3",
   "version": "3.8.8"
  }
 },
 "nbformat": 4,
 "nbformat_minor": 5
}
