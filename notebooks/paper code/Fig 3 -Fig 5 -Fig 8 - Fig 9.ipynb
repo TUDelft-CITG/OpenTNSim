{
 "cells": [
  {
   "cell_type": "markdown",
   "metadata": {},
   "source": [
    "####     From this notebook we get:\n",
    "        \"Figure 3: Components of the total resistance\",\n",
    "        \"Figure 5: Total required power\",\n",
    "        \"Figure 8: Emissions as a function of vessel speed\", and \n",
    "        \"Figure 9: Emissions as a function of engine age\" . \n",
    "####    General steps:\n",
    "        -First we import the needed packages for the following calculation and ploting.\n",
    "        -Next we set the input values, including both variables can be adjusted and fixed parameters and coefficients.\n",
    "        -Then we calculate the resistance(resistance components and total resistance), \n",
    "         total required power (the sum up of the required propulsion power and hotel power),\n",
    "         and emission rates one after another.\n",
    "        "
   ]
  },
  {
   "cell_type": "markdown",
   "metadata": {},
   "source": [
    "###  Import packages"
   ]
  },
  {
   "cell_type": "code",
   "execution_count": 1,
   "metadata": {},
   "outputs": [],
   "source": [
    "import numpy as np\n",
    "import matplotlib.pyplot as plt\n",
    "import pandas as pd\n",
    "\n",
    "import opentnsim"
   ]
  },
  {
   "cell_type": "markdown",
   "metadata": {},
   "source": [
    "### Set input values "
   ]
  },
  {
   "cell_type": "markdown",
   "metadata": {},
   "source": [
    "variables can be adjusted for different ships and waterways"
   ]
  },
  {
   "cell_type": "code",
   "execution_count": 2,
   "metadata": {},
   "outputs": [],
   "source": [
    "# ship dimensions, installed power and engine ages (engine construction years)\n",
    "L = 135            # length of the ship (M9)\n",
    "B = 11.45          # Beam of the ship (M9)\n",
    "T = 2.75           # Draught of the ship (M9)\n",
    "P_installed = 2200 # Ship installed power (kW) (M9)\n",
    "c_year1 = 1970     # used for Figure   9\n",
    "c_year2 = 1980     # used for Figure   9\n",
    "c_year3 = 1990     # used for Figure 8,9\n",
    "c_year4 = 2000     # used for Figure   9\n",
    "c_year5 = 2010     # used for Figure   9\n",
    "c_year6 = 2020     # used for Figure   9\n",
    "\n",
    "# sailing speed\n",
    "V_0 = np.linspace(0.1, 8, 200)  # ship sailing speed to water, (m/s)\n",
    "V_0_km = V_0 * 3.6              # ship sailing speed to water, (km/h)\n",
    "\n",
    "# fairway characteristics (water depth: h (meter))\n",
    "h1 = 10            # used for Figure   5,8,9\n",
    "h2 = 7.5           # used for Figure 3,5,8\n",
    "h3 = 5             # used for Figure   5,8\n",
    "h4 = 3.5           # used for Figure   5,8\n"
   ]
  },
  {
   "cell_type": "markdown",
   "metadata": {},
   "source": [
    "Fixed parameters and coefficients related to the ship for the following calculation"
   ]
  },
  {
   "cell_type": "code",
   "execution_count": 3,
   "metadata": {},
   "outputs": [],
   "source": [
    "C_B = 0.85         # block coefficient \n",
    "viscosity = 1*10**(-6) # kinematic viscosity\n",
    "rho = 1000\n",
    "g = 9.81\n",
    "x = 2              # number of screws\n",
    "eta_0 = 0.6        # open water efficiency\n",
    "eta_r = 0.98       # relative rotative efficiency\n",
    "eta_t = 0.98       # transmission efficiency\n",
    "eta_g = 0.96       # gearing efficiency\n",
    "c_stern = 0        # used for calculating viscous resistance\n",
    "one_k2 = 2.5       # appendage resistance factor\n",
    "C_M = 1.006 - 0.0056 * C_B **(-3.56)       # midship coefficient\n",
    "C_wp = (1+2 * C_B)/3                       # waterplane coefficient\n",
    "C_p = C_B / C_M                            # prismatic coefficient\n",
    "delta = C_B * L * B * T                    # water displacement\n",
    "lcb = -13.5 + 19.4 * C_p                   # longitudinal position of the centre of buoyancy as % of L\n",
    "D_s = 0.7 * T                              # Screw diameter\n",
    "\n",
    "S_T = L*(2*T + B) * np.sqrt(C_M) * (0.453 + 0.4425 * C_B\n",
    "    - 0.2862* C_M - 0.003467 * (B/T) + 0.3696 * C_wp)     # Total wet surface area, equation 8 (without bulb)\n",
    "S_APP = 0.05 * S_T                                        # wet area of appendages\n",
    "S_B = L * B                                               # wet area of flat bottom\n",
    "A_T = 0.2 * B * T                                         # area of immersed transom\n",
    "L_R = L * (1 - C_p + (0.06 * C_p * lcb)/(4 * C_p -1))     # length parameter,equation 13"
   ]
  },
  {
   "cell_type": "markdown",
   "metadata": {},
   "source": [
    "### Calculate different resistance components a ship experiences (including steps A, B, C, D, E)"
   ]
  },
  {
   "cell_type": "markdown",
   "metadata": {},
   "source": [
    "Method based on the division of Holtrop & Mennen, with some adjustments made in order to incorporate the shallow water effects"
   ]
  },
  {
   "cell_type": "markdown",
   "metadata": {},
   "source": [
    "#### A) Karpov velocity correction for limited water depths"
   ]
  },
  {
   "cell_type": "code",
   "execution_count": 4,
   "metadata": {},
   "outputs": [],
   "source": [
    "##### Karpov method, see appendix of the paper ####\n",
    "R_e = V_0 * L / viscosity\n",
    "\n",
    "def karpov(h, F_n):\n",
    "    \n",
    "    # The Froude number used in the Karpov method is the depth related froude number F_n\n",
    "    \n",
    "    # The different alpha** curves are determined with a sixth power polynomial approximation in Excel\n",
    "    # A distinction is made between different ranges of Froude numbers, because this resulted in a better approximation \n",
    "    # of the curve\n",
    "    \n",
    "    if F_n <= 0.4:\n",
    "        \n",
    "        if 0 <= h/T < 1.75:\n",
    "            alpha_xx = (-4*10**(-12)) * F_n**3 - 0.2143 * F_n**2 -0.0643 * F_n + 0.9997\n",
    "        elif 1.75 <= h/T < 2.25:\n",
    "            alpha_xx = -0.8333 * F_n**3 + 0.25 * F_n**2 - 0.0167 * F_n + 1\n",
    "        elif 2.25 <= h/T < 2.75:\n",
    "            alpha_xx = -1.25 * F_n**4 + 0.5833 * F_n**3 - 0.0375 * F_n**2 - 0.0108 * F_n + 1\n",
    "        elif h/T >= 2.75:\n",
    "            alpha_xx = 1\n",
    "    \n",
    "    elif F_n > 0.4:\n",
    "        if 0 <= h/T < 1.75:\n",
    "            alpha_xx = -0.9274 * F_n**6 + 9.5953 * F_n**5 - 37.197 * F_n**4 + 69.666 * F_n**3 - 65.391 * F_n**2 + 28.025 * F_n - 3.4143\n",
    "        elif 1.75 <= h/T < 2.25:\n",
    "            alpha_xx = 2.2152 * F_n**6 - 11.852 * F_n**5 + 21.499 * F_n**4 - 12.174 * F_n**3 - 4.7873 * F_n**2 + 5.8662 * F_n - 0.2652\n",
    "        elif 2.25 <= h/T < 2.75:\n",
    "            alpha_xx = 1.2205 * F_n**6 - 5.4999 * F_n**5 + 5.7966 * F_n**4 + 6.6491 * F_n**3 - 16.123 * F_n**2 + 9.2016 * F_n - 0.6342\n",
    "        elif 2.75 <= h/T < 3.25:\n",
    "            alpha_xx = -0.4085 * F_n**6 + 4.534 * F_n**5 - 18.443 * F_n**4 + 35.744 * F_n**3 - 34.381 * F_n**2 + 15.042 * F_n - 1.3807\n",
    "        elif 3.25 <= h/T < 3.75:\n",
    "            alpha_xx = 0.4078 * F_n **6 - 0.919 * F_n**5 - 3.8292 * F_n**4 + 15.738 * F_n**3 - 19.766 * F_n**2 + 9.7466 * F_n - 0.6409\n",
    "        elif 3.75 <= h/T < 4.5:\n",
    "            alpha_xx = 0.3067 * F_n**6 - 0.3404 * F_n**5 - 5.0511 * F_n**4 + 16.892 * F_n**3 - 20.265 * F_n**2 + 9.9002 * F_n - 0.6712\n",
    "        elif 4.5 <= h/T < 5.5:\n",
    "            alpha_xx = 0.3212 * F_n**6 - 0.3559 * F_n**5 - 5.1056 * F_n**4 + 16.926 * F_n**3 - 20.253 * F_n**2 + 10.013 * F_n - 0.7196\n",
    "        elif 5.5 <= h/T < 6.5:\n",
    "            alpha_xx = 0.9252 * F_n**6 - 4.2574 * F_n**5 + 5.0363 * F_n **4 + 3.3282 * F_n**3 - 10.367 * F_n**2 + 6.3993 * F_n - 0.2074\n",
    "        elif 6.5 <= h/T < 7.5:\n",
    "            alpha_xx = 0.8442 * F_n**6 - 4.0261 * F_n**5 + 5.313 * F_n **4 + 1.6442 * F_n**3 - 8.1848 * F_n**2 + 5.3209 * F_n - 0.0267\n",
    "        elif 7.5 <= h/T < 8.5:\n",
    "            alpha_xx = 0.1211 * F_n**6 + 0.628 * F_n**5 - 6.5106 * F_n**4 + 16.7 * F_n**3 - 18.267 * F_n**2 + 8.7077 * F_n - 0.4745               \n",
    "        \n",
    "        elif 8.5 <= h/T < 9.5:\n",
    "            if F_n < 0.6:\n",
    "                alpha_xx = 1\n",
    "            elif F_n >= 0.6:\n",
    "                alpha_xx = -6.4069 * F_n**6 + 47.308 * F_n**5 - 141.93 * F_n**4 + 220.23 * F_n**3 - 185.05 * F_n**2 + 79.25 * F_n - 12.484\n",
    "        elif h/T >= 9.5: \n",
    "            if F_n < 0.6:\n",
    "                alpha_xx = 1\n",
    "            elif F_n >= 0.6:\n",
    "                alpha_xx = -6.0727 * F_n**6 + 44.97 * F_n**5 - 135.21 * F_n**4 + 210.13 * F_n**3 - 176.72 * F_n**2 + 75.728 * F_n - 11.893\n",
    "    \n",
    "    return alpha_xx\n"
   ]
  },
  {
   "cell_type": "code",
   "execution_count": 5,
   "metadata": {},
   "outputs": [],
   "source": [
    "# corrected velocity V2 (Karpov)\n",
    "\n",
    "F_nh1 = V_0 / np.sqrt(g * h1)   # depth related froude number of different input water depth \n",
    "F_nh2 = V_0 / np.sqrt(g * h2)\n",
    "F_nh3 = V_0 / np.sqrt(g * h3)\n",
    "F_nh4 = V_0 / np.sqrt(g * h4)\n",
    "\n",
    "V2_1 = np.zeros(len(F_nh1))\n",
    "V2_2 = np.zeros(len(F_nh1))\n",
    "V2_3 = np.zeros(len(F_nh1))\n",
    "V2_4 = np.zeros(len(F_nh1))\n",
    "\n",
    "for i in range(len(F_nh1)):\n",
    "    V2_1[i] = V_0[i] / karpov(h1, F_nh1.item(i))   # corrected velocity V2 of different input water depth\n",
    "    V2_2[i] = V_0[i] / karpov(h2, F_nh2.item(i))\n",
    "    V2_3[i] = V_0[i] / karpov(h3, F_nh3.item(i))\n",
    "    V2_4[i] = V_0[i] / karpov(h4, F_nh4.item(i))\n",
    "# The corrected velocity V2 (Karpov) is going to be applied in all resistance components of the Holtrop and Mennen method\n",
    "# Except for frictional resistance"
   ]
  },
  {
   "cell_type": "markdown",
   "metadata": {},
   "source": [
    "#### B) Frictional resistance and appendage resistance"
   ]
  },
  {
   "cell_type": "code",
   "execution_count": 6,
   "metadata": {},
   "outputs": [],
   "source": [
    "#### Method of Zeng (2018) incorporating the shallow water effect in the frictional resistance term,\n",
    "#### equations in chapter 2.1.1-2.1.2  ####\n",
    "\n",
    "def frictional_resistance(h):\n",
    "    R_e = V_0 * L / viscosity\n",
    "    D = h - T #distance from bottom ship to the bottom of the fairway\n",
    "\n",
    "    Cf_0 = 0.075 / ((np.log10(R_e)-2)**2)\n",
    "    \n",
    "    Cf_proposed = (0.08169/((np.log10(R_e) - 1.717)**2)) * (1 + (0.003998/(np.log10(R_e) - 4.393)) * (D/L)**(-1.083))\n",
    "\n",
    "    a = 0.042612 * np.log10(R_e) + 0.56725\n",
    "    \n",
    "    Cf_katsui = 0.0066577 / ((np.log10(R_e) - 4.3762)**a)\n",
    "\n",
    "    if h/T <= 4:\n",
    "        V_B = 0.4277 * V_0 * np.exp((h / T)**(-0.07625))\n",
    "    else:\n",
    "        V_B = V_0\n",
    "\n",
    "    C_f = Cf_0 + (Cf_proposed - Cf_katsui) * (S_B / S_T) * (V_B / V_0)**2\n",
    "\n",
    "    R_f = (C_f * 0.5 * rho * (V_0**2) * S_T) / 1000 #kN\n",
    "    \n",
    "    R_APP = (0.5 * rho * (V_0**2) * S_APP * one_k2 * C_f) / 1000 #kN\n",
    "    \n",
    "    return R_f, R_APP, V_B, C_f, Cf_0"
   ]
  },
  {
   "cell_type": "markdown",
   "metadata": {},
   "source": [
    "#### C) Hull form factor "
   ]
  },
  {
   "cell_type": "code",
   "execution_count": 7,
   "metadata": {},
   "outputs": [],
   "source": [
    "# Hull form factor 1+k1, equation 12\n",
    "c_14 = 1 + 0.0011 * c_stern\n",
    "one_k1 = 0.93+0.487 * c_14 * ((B/L)**1.068) * ((T/L)**0.461) * ((L/L_R)**0.122) * (((L**3)/delta)**0.365) * ((1 - C_p)**(-0.604))\n"
   ]
  },
  {
   "cell_type": "markdown",
   "metadata": {},
   "source": [
    "#### D) Wave resistance "
   ]
  },
  {
   "cell_type": "code",
   "execution_count": 8,
   "metadata": {},
   "outputs": [],
   "source": [
    "#### Method of Holtrop & Mennen for calculate wave resistance, equations 15-16 ####\n",
    "def wave_resistance(V_2):\n",
    "    F_nL = V_2 / np.sqrt(g*L) #Froude number\n",
    "\n",
    "#parameter c_7 is determined by the B/L ratio\n",
    "    if B/L < 0.11:\n",
    "        c_7 = 0.229577 * (B/L)**0.33333\n",
    "    elif B/L > 0.25:\n",
    "        c_7 = 0.5 - 0.0625 * (L/B)\n",
    "    else: \n",
    "        c_7 = B/L\n",
    "\n",
    "#parameter c_16 depends on C_p\n",
    "    if C_p < 0.8:\n",
    "        c_16 = 8.07981 * C_p - 13.8673 * (C_p**2) + 6.984388 * (C_p**3)\n",
    "    else:\n",
    "        c_16 = 1.73014 - 0.7067 * C_p\n",
    "\n",
    "#parameter c_15 depoends on the ratio L^3 / delta\n",
    "    if (L**3) / delta < 512:\n",
    "        c_15 = -1.69385\n",
    "    elif (L**3) / delta > 1727:\n",
    "        c_15 = 0\n",
    "    else:\n",
    "        c_15 = -1.69385 + (L / (delta**(1/3)) - 8) / 2.36\n",
    "        \n",
    "#half angle of entrance in degrees\n",
    "    i_E = 1 + 89 * np.exp(-((L/B)**0.80856) * ((1 - C_wp)**0.30484) * ((1 - C_p - 0.0225 * lcb)**0.6367) * ((L_R / B)**0.34574) * ((100 * delta / (L**3))**0.16302))\n",
    "\n",
    "    c_1 = 2223105 * (c_7**3.78613) * ((T/B)**1.07961) * (90 - i_E)**(-1.37165) \n",
    "    c_2 = 1  # accounts for the effect of the bulbous bow, which is not present at inland ships\n",
    "    c_5 = 1 - (0.8 * A_T) / (B * T * C_M) # influence of the transom stern on the wave resistance\n",
    "    \n",
    "    if L/B < 12:\n",
    "         lmbda = 1.446 * C_p - 0.03 * (L/B)\n",
    "    else: \n",
    "         lmbda = 1.446 * C_p - 0.36\n",
    "\n",
    "    m_1 = 0.0140407 * (L / T) - 1.75254 * ((delta)**(1/3) / L) - 4.79323 * (B / L) - c_16  \n",
    "    m_2=c_15 * (C_p**2) *np.exp((-0.1)* (F_nL**(-2))) \n",
    "    R_W = c_1 * c_2 * c_5 * delta * rho * g * np.exp(m_1 * (F_nL**(-0.9)) + m_2 * np.cos(lmbda * (F_nL**(-2))))/1000 \n",
    "\n",
    "    return R_W\n"
   ]
  },
  {
   "cell_type": "code",
   "execution_count": 9,
   "metadata": {},
   "outputs": [],
   "source": [
    "# wave resistance \n",
    "R_W_1 = np.zeros(len(V_0))\n",
    "R_W_2 = np.zeros(len(V_0))\n",
    "R_W_3 = np.zeros(len(V_0))\n",
    "R_W_4 = np.zeros(len(V_0))\n",
    "\n",
    "for i in range(len(V_0)):\n",
    "    R_W_1[i] = wave_resistance(V2_1.item(i)) # wave resistance using corrected velocity V2 (Karpov) of different input water depth \n",
    "    R_W_2[i] = wave_resistance(V2_2.item(i))\n",
    "    R_W_3[i] = wave_resistance(V2_3.item(i))\n",
    "    R_W_4[i] = wave_resistance(V2_4.item(i))"
   ]
  },
  {
   "cell_type": "markdown",
   "metadata": {},
   "source": [
    "#### E) Residual resistance terms "
   ]
  },
  {
   "cell_type": "code",
   "execution_count": 10,
   "metadata": {},
   "outputs": [],
   "source": [
    "# Resistance due to immersed transom, equation 17\n",
    "def resistance_transom(V_2):\n",
    "    F_nt = V_2 / np.sqrt(2 * g * A_T / (B + B * C_wp))\n",
    "\n",
    "    c_6 = 0.2 * (1 - 0.2 * F_nt)\n",
    "\n",
    "    R_TR = (0.5 * rho * (V_2**2) * A_T * c_6) / 1000 #kN\n",
    "    \n",
    "    return R_TR\n",
    "\n",
    "# Model-ship correlation resistance, equation 18\n",
    "def resistance_model_correlation(V_2):\n",
    "    if T / L < 0.04:\n",
    "        c_4 = T / L\n",
    "    else:\n",
    "        c_4 = 0.04\n",
    "    c_2 = 1\n",
    "    \n",
    "    C_A = 0.006 * (L + 100)**(-0.16) - 0.00205 + 0.003 * np.sqrt(L / 7.5) * (C_B**4) * c_2 * (0.04 - c_4)\n",
    "\n",
    "    ####### Holtrop and Mennen in the document of Sarris, 2003 #######\n",
    "    R_A = (0.5 * rho * (V_2**2) * S_T * C_A) / 1000 #kW\n",
    "    \n",
    "    return R_A"
   ]
  },
  {
   "cell_type": "code",
   "execution_count": 11,
   "metadata": {},
   "outputs": [],
   "source": [
    "# Resistance due to immersed transom, using corrected velocity V2 (Karpov) \n",
    "R_TR_1 = np.zeros(len(V_0))\n",
    "R_TR_2 = np.zeros(len(V_0))\n",
    "R_TR_3 = np.zeros(len(V_0))\n",
    "R_TR_4 = np.zeros(len(V_0))\n",
    "\n",
    "\n",
    "for i in range(len(V_0)):\n",
    "    R_TR_1[i] = resistance_transom(V2_1.item(i))\n",
    "    R_TR_2[i] = resistance_transom(V2_2.item(i))\n",
    "    R_TR_3[i] = resistance_transom(V2_3.item(i))\n",
    "    R_TR_4[i] = resistance_transom(V2_4.item(i))"
   ]
  },
  {
   "cell_type": "code",
   "execution_count": 12,
   "metadata": {},
   "outputs": [],
   "source": [
    "# Model-ship correlation resistance, using corrected velocity V2 (Karpov) \n",
    "R_A_1 = np.zeros(len(V_0))\n",
    "R_A_2 = np.zeros(len(V_0))\n",
    "R_A_3 = np.zeros(len(V_0))\n",
    "R_A_4 = np.zeros(len(V_0))\n",
    "\n",
    "for i in range(len(V_0)):\n",
    "    R_A_1[i] = resistance_model_correlation(V2_1.item(i))\n",
    "    R_A_2[i] = resistance_model_correlation(V2_2.item(i))\n",
    "    R_A_3[i] = resistance_model_correlation(V2_3.item(i))\n",
    "    R_A_4[i] = resistance_model_correlation(V2_4.item(i))"
   ]
  },
  {
   "cell_type": "markdown",
   "metadata": {},
   "source": [
    "### Calculate total resistance of a single ship, for different water depth, as a function of V0"
   ]
  },
  {
   "cell_type": "code",
   "execution_count": 13,
   "metadata": {},
   "outputs": [],
   "source": [
    "# Calculate total resistance R_tot from resistance components based on Method of Holtrop & Mennen, equation 1\n",
    "\n",
    "# For water depth h1 = 10 m\n",
    "R_tot1 = frictional_resistance(h1)[0] * one_k1 + frictional_resistance(h1)[1] + R_W_1 + R_TR_1 + R_A_1\n",
    "\n",
    "# For water depth h2 = 7.5 m\n",
    "R_tot2 = frictional_resistance(h2)[0] * one_k1 + frictional_resistance(h2)[1] + R_W_2 + R_TR_2 + R_A_2\n",
    "\n",
    "# For water depth h3 = 5 m \n",
    "R_tot3 = frictional_resistance(h3)[0] * one_k1 + frictional_resistance(h3)[1] + R_W_3 + R_TR_3 + R_A_3\n",
    "\n",
    "# For water depth h4 = 3.5 m\n",
    "R_tot4 = frictional_resistance(h4)[0] * one_k1 + frictional_resistance(h4)[1] + R_W_4 + R_TR_4 + R_A_4\n"
   ]
  },
  {
   "cell_type": "code",
   "execution_count": 14,
   "metadata": {},
   "outputs": [
    {
     "name": "stderr",
     "output_type": "stream",
     "text": [
      "The PostScript backend does not support transparency; partially transparent artists will be rendered opaque.\n",
      "The PostScript backend does not support transparency; partially transparent artists will be rendered opaque.\n"
     ]
    },
    {
     "data": {
      "image/png": "[encoded data removed]",
      "text/plain": [
       "<Figure size 432x288 with 1 Axes>"
      ]
     },
     "metadata": {
      "needs_background": "light"
     },
     "output_type": "display_data"
    }
   ],
   "source": [
    "plt.figure(figsize = (6,4))\n",
    "plt.plot(V_0_km, R_tot1, color='navy',linewidth = 2.0)\n",
    "plt.plot(V_0_km, R_tot2,'-.', color='royalblue',linewidth = 2.0)\n",
    "plt.plot(V_0_km, R_tot3, '--',color='lightcoral',linewidth = 2.0)\n",
    "plt.plot(V_0_km, R_tot4, ':',color='indianred',linewidth = 2.0)\n",
    "\n",
    "plt.grid()\n",
    "plt.xlim(0, 18)\n",
    "plt.ylim(0,180)\n",
    "plt.legend(['$h_0$ = 10 m', '$h_0$ = 7.5 m', '$h_0$ = 5 m', '$h_0$ = 3.5 m'])\n",
    "plt.xlabel('Relative vessel speed (km/h)',fontsize=10,weight='bold')\n",
    "plt.ylabel('Resistance (kN)',fontsize=10,weight='bold')\n",
    "#plt.title('resistance versus speed with diff water depths (type = M9, L = 135 m, B = 11.45 m, T = 2.75 m)')\n",
    "plt.xticks( weight = 'bold')\n",
    "plt.yticks( weight = 'bold')\n",
    "plt.savefig('resistance versus speed with diff water depths.pdf', dpi=600, format='pdf') \n",
    "plt.savefig('PartIV-05-05.eps', dpi=600, format='eps')"
   ]
  },
  {
   "cell_type": "markdown",
   "metadata": {},
   "source": [
    "### Figure 3: Components of the total resistance"
   ]
  },
  {
   "cell_type": "code",
   "execution_count": 15,
   "metadata": {},
   "outputs": [
    {
     "name": "stderr",
     "output_type": "stream",
     "text": [
      "The PostScript backend does not support transparency; partially transparent artists will be rendered opaque.\n",
      "The PostScript backend does not support transparency; partially transparent artists will be rendered opaque.\n"
     ]
    },
    {
     "data": {
      "image/png": "[encoded data removed]",
      "text/plain": [
       "<Figure size 432x288 with 1 Axes>"
      ]
     },
     "metadata": {
      "needs_background": "light"
     },
     "output_type": "display_data"
    }
   ],
   "source": [
    "# resistance for water depth h2 = 7.5 m\n",
    "R_f_2 = frictional_resistance(h2)[0]\n",
    "R_APP_2 = frictional_resistance(h2)[1]\n",
    "\n",
    "plt.figure(figsize=(6,4))\n",
    "plt.plot(V_0_km, R_tot2,color='#0165fc', linewidth = 2.5)       # RT, total resistance of the ship,[kN] \n",
    "plt.plot(V_0_km, one_k1*R_f_2,color='#ff9408', linewidth = 1.7) # Rf(1+k1), frictional resistance including the hull form factor\n",
    "plt.plot(V_0_km, R_APP_2,'-.', color='#76cd26',linewidth = 2)   # Rapp, appendage resistance\n",
    "plt.plot(V_0_km, R_W_2, 'r--', linewidth = 2)                   # Rw, wave resistance\n",
    "plt.plot(V_0_km, R_TR_2 + R_A_2,':',color='#aa23ff', linewidth = 2) # Rres, residual resistance\n",
    "plt.grid()\n",
    "plt.xlim(0, 18)\n",
    "plt.ylim(0, 130)\n",
    "plt.legend(['$R_T$', '$R_f$$\\ $(1+$k_1$)', '$R_{app}$', '$R_W$','$R_{res}$'])\n",
    "plt.xlabel('Relative vessel speed (km/h)',fontsize=10,weight='bold',labelpad=3)\n",
    "plt.ylabel('Resistance (kN)',fontsize=10,weight='bold',labelpad=3)\n",
    "plt.xticks( weight = 'bold')\n",
    "plt.yticks( weight = 'bold')\n",
    "\n",
    "\n",
    "#plt.savefig('resistance components.pdf', dpi=600, format='pdf') \n",
    "plt.savefig('PartIV-05-04.eps', dpi=600, format='eps') \n",
    "#plt.title('resistance components (L = 135 m, B = 11.45 m, T = 2.75 m, h = 7.5 m)')"
   ]
  },
  {
   "cell_type": "markdown",
   "metadata": {},
   "source": [
    "### Calculate ship required power"
   ]
  },
  {
   "cell_type": "code",
   "execution_count": 16,
   "metadata": {},
   "outputs": [],
   "source": [
    "# Required power for systems on board, equation 25\n",
    "P_hotel = 0.05 * P_installed \n",
    "\n",
    "# Calculate hull efficiency, equations 22-24\n",
    "dw = 0   \n",
    "w = 0.11 * (0.16 / x) * C_B * np.sqrt((delta**(1/3)) / D_s) - dw\n",
    "\n",
    "if x == 1:\n",
    "    t = 0.6 * w * (1 + 0.67 * w)\n",
    "else:\n",
    "    t = 0.8 * w * (1 + 0.25 * w)\n",
    "    \n",
    "eta_h = (1 - t) / (1 - w)\n",
    "\n",
    "# Total required power = required power for systems on board + required power for propulsion, equations 19-21, 25-26\n",
    "\n",
    "P_tot1 = P_hotel + (V_0 * R_tot1) / (eta_0 * eta_r * eta_h * eta_t * eta_g)\n",
    "\n",
    "P_tot2 = P_hotel + (V_0 * R_tot2) / (eta_0 * eta_r * eta_h * eta_t * eta_g)\n",
    "\n",
    "P_tot3 = P_hotel + (V_0 * R_tot3) / (eta_0 * eta_r * eta_h * eta_t * eta_g)\n",
    "\n",
    "P_tot4 = P_hotel + (V_0 * R_tot4) / (eta_0 * eta_r * eta_h * eta_t * eta_g)\n"
   ]
  },
  {
   "cell_type": "markdown",
   "metadata": {},
   "source": [
    "### Figure 5: Total required power"
   ]
  },
  {
   "cell_type": "code",
   "execution_count": 17,
   "metadata": {},
   "outputs": [
    {
     "data": {
      "image/png": "[encoded data removed]",
      "text/plain": [
       "<Figure size 432x288 with 1 Axes>"
      ]
     },
     "metadata": {
      "needs_background": "light"
     },
     "output_type": "display_data"
    }
   ],
   "source": [
    "plt.figure(figsize = (6,4))\n",
    "plt.plot(V_0_km, P_tot1, color='navy',linewidth = 2.0)\n",
    "plt.plot(V_0_km, P_tot2,'-.', color='royalblue',linewidth = 2.0)\n",
    "plt.plot(V_0_km, P_tot3,'--', color='lightcoral',linewidth = 2.0)\n",
    "plt.plot(V_0_km, P_tot4,':', color='indianred',linewidth = 2.0)\n",
    "\n",
    "plt.grid()\n",
    "plt.xlim(10, 18)\n",
    "plt.ylim(0, 2000)\n",
    "plt.legend(['$h_0$ = 10 m', '$h_0$ = 7.5 m', '$h_0$ = 5 m', '$h_0$ = 3.5 m'])\n",
    "\n",
    "plt.xlabel('Relative vessel speed (km/h)',fontsize=10,weight='bold',labelpad=3)\n",
    "plt.ylabel('Power (kW)',fontsize=10,weight='bold',labelpad=3)\n",
    "#plt.title('total power required versus speed with diff water depths (type = M9, L = 135 m, B = 11.45 m, T = 2.75 m)')\n",
    "plt.xticks( weight = 'bold')\n",
    "plt.yticks( weight = 'bold')\n",
    "plt.savefig('total power required versus speed with diff water depths.pdf', dpi=600, format='pdf') \n"
   ]
  },
  {
   "cell_type": "markdown",
   "metadata": {},
   "source": [
    "Add DST validation lines"
   ]
  },
  {
   "cell_type": "code",
   "execution_count": 18,
   "metadata": {},
   "outputs": [
    {
     "data": {
      "image/png": "[encoded data removed]",
      "text/plain": [
       "<Figure size 432x288 with 1 Axes>"
      ]
     },
     "metadata": {
      "needs_background": "light"
     },
     "output_type": "display_data"
    }
   ],
   "source": [
    "from scipy.interpolate import make_interp_spline, BSpline\n",
    "\n",
    "plt.figure(figsize = (6,4))\n",
    "V_DST_1=np.array([10,11,12,13,14,15,16,17,18]) # deep water\n",
    "P_DST_1=np.array([180,240,300,400,500,640,800,1000,1200])\n",
    "V_DST_2=np.array([10,11,12,13,14,15,16,17,18]) # h=7.5 m\n",
    "P_DST_2=np.array([230,300,380,490,600,780,1000,1300,1600])\n",
    "V_DST_3=np.array([10,11,12,13,14,15,15.65,16,16.5,16.7]) # h=5 m\n",
    "P_DST_3=np.array([275,360,470,600,800,1000,1200,1400,1800,2005])\n",
    "V_DST_4=np.array([10,10.5,11,11.5,12,12.5,13]) # h=3.5 m\n",
    "P_DST_4=np.array([350,450,535,685,1000,1800,3000])\n",
    "#define spline, make the lines smooth\n",
    "V_DST_1_new = np.linspace(V_DST_1.min(), V_DST_1.max(), 200) \n",
    "V_DST_2_new = np.linspace(V_DST_2.min(), V_DST_2.max(), 200) \n",
    "V_DST_3_new = np.linspace(V_DST_3.min(), V_DST_3.max(), 200) \n",
    "V_DST_4_new = np.linspace(V_DST_4.min(), V_DST_4.max(), 200) \n",
    "\n",
    "spl1= make_interp_spline(V_DST_1,P_DST_1, k=3)\n",
    "P_DST_1_new = spl1(V_DST_1_new)\n",
    "spl2= make_interp_spline(V_DST_2,P_DST_2, k=3)\n",
    "P_DST_2_new = spl2(V_DST_2_new)\n",
    "spl3= make_interp_spline(V_DST_3,P_DST_3, k=3)\n",
    "P_DST_3_new = spl3(V_DST_3_new)\n",
    "spl4= make_interp_spline(V_DST_4,P_DST_4, k=3)\n",
    "P_DST_4_new = spl4(V_DST_4_new)\n",
    "                 \n",
    "plt.plot(V_DST_1_new,P_DST_1_new,color='navy',linewidth = 3.0)\n",
    "plt.plot(V_DST_2_new,P_DST_2_new,color='royalblue',linewidth = 3.0)\n",
    "plt.plot(V_DST_3_new,P_DST_3_new,color='lightcoral',linewidth = 3.0)\n",
    "plt.plot(V_DST_4_new,P_DST_4_new,color='indianred',linewidth = 3.0)\n",
    "\n",
    "\n",
    "plt.plot(V_0_km, P_tot1,'-', color='navy',linewidth = 2.0)\n",
    "plt.plot(V_0_km, P_tot2,'-.', color='royalblue',linewidth = 2.0)\n",
    "plt.plot(V_0_km, P_tot3,'--', color='lightcoral',linewidth = 2.0)\n",
    "plt.plot(V_0_km, P_tot4,':', color='indianred',linewidth = 2.0)\n",
    "\n",
    "plt.grid()\n",
    "plt.xlim(10, 18)\n",
    "plt.ylim(0, 2000)\n",
    "plt.legend(['DST, deep water', 'DST, $h_0$ = 7.5 m', 'DST, $h_0$ = 5 m', 'DST, $h_0$ = 3.5 m',\n",
    "            'Own, $h_0$ = 10 m', 'Own, $h_0$ = 7.5 m', 'Own, $h_0$ = 5 m', 'Own, $h_0$ = 3.5 m'],loc=(1.04,0.2))\n",
    "\n",
    "plt.xlabel('Relative vessel speed (km/h)',fontsize=10,weight='bold',labelpad=3)\n",
    "plt.ylabel('Power (kW)',fontsize=10,weight='bold',labelpad=3)\n",
    "#plt.title('total power required versus speed with diff water depths (type = M9, L = 135 m, B = 11.45 m, T = 2.75 m)')\n",
    "plt.xticks( weight = 'bold')\n",
    "plt.yticks( weight = 'bold')\n",
    "plt.savefig('validation_total power required versus speed with diff water depths.pdf',bbox_inches = 'tight',dpi=600, format='pdf') "
   ]
  },
  {
   "cell_type": "markdown",
   "metadata": {},
   "source": [
    "### Calculate emission rates"
   ]
  },
  {
   "cell_type": "markdown",
   "metadata": {},
   "source": [
    "Emission factors:  general emission factor"
   ]
  },
  {
   "cell_type": "code",
   "execution_count": 19,
   "metadata": {},
   "outputs": [],
   "source": [
    "def general_emissionfactor(c_year, L_w):\n",
    "    if c_year < 1974:\n",
    "        EM_CO2 = 756\n",
    "        EM_PM10 = 0.6\n",
    "        EM_NOX = 10.8\n",
    "    elif 1975 <= c_year <= 1979:\n",
    "        EM_CO2 = 730\n",
    "        EM_PM10 = 0.6\n",
    "        EM_NOX = 10.6\n",
    "    elif 1980 <= c_year <= 1984:\n",
    "        EM_CO2 = 714\n",
    "        EM_PM10 = 0.6\n",
    "        EM_NOX = 10.4\n",
    "    elif 1985 <= c_year <= 1989:\n",
    "        EM_CO2 = 698\n",
    "        EM_PM10 = 0.5\n",
    "        EM_NOX = 10.1\n",
    "    elif 1990 <= c_year <= 1994:\n",
    "        EM_CO2 = 698\n",
    "        EM_PM10 = 0.4\n",
    "        EM_NOX = 10.1\n",
    "    elif 1995 <= c_year <= 2002:\n",
    "        EM_CO2 = 650\n",
    "        EM_PM10 = 0.3\n",
    "        EM_NOX = 9.4\n",
    "    elif 2003 <= c_year <= 2007:\n",
    "        EM_CO2 = 635\n",
    "        EM_PM10 = 0.3\n",
    "        EM_NOX = 9.2\n",
    "    elif 2008 <= c_year <= 2019:\n",
    "        EM_CO2 = 635\n",
    "        EM_PM10 = 0.2\n",
    "        EM_NOX = 7\n",
    "    elif c_year > 2019:\n",
    "        if L == 1:\n",
    "            EM_CO2 = 650\n",
    "            EM_PM10 = 0.1\n",
    "            EM_NOX = 2.9\n",
    "        else:\n",
    "            EM_CO2 = 603\n",
    "            EM_PM10 = 0.015\n",
    "            EM_NOX = 2.4\n",
    "    return EM_CO2, EM_PM10, EM_NOX\n",
    "\n",
    "general_emf1 = general_emissionfactor(c_year1, 3)  # 1970\n",
    "general_emf2 = general_emissionfactor(c_year2, 3)  # 1980\n",
    "general_emf3 = general_emissionfactor(c_year3, 3)  # 1990\n",
    "general_emf4 = general_emissionfactor(c_year4, 3)  # 2000\n",
    "general_emf5 = general_emissionfactor(c_year5, 3)  # 2010\n",
    "general_emf6 = general_emissionfactor(c_year6, 3)  # 2020"
   ]
  },
  {
   "cell_type": "markdown",
   "metadata": {},
   "source": [
    "Emission factors: Correction factors"
   ]
  },
  {
   "cell_type": "code",
   "execution_count": 20,
   "metadata": {},
   "outputs": [],
   "source": [
    "# correction factors related to partial engine load, so we calculate partical engine load first\n",
    "\n",
    "# For water depth h1 = 10 m\n",
    "P_partial1 = P_tot1 / P_installed\n",
    "# For water depth h2 = 7.5 m\n",
    "P_partial2 = P_tot2 / P_installed\n",
    "# For water depth h3 = 5 m\n",
    "P_partial3 = P_tot3 / P_installed\n",
    "# For water depth h4 = 3.5 m\n",
    "P_partial4 = P_tot4 / P_installed\n",
    "\n",
    "\n",
    "for i in range (len(P_partial1)):\n",
    "    if P_partial1[i] > 1:\n",
    "        P_partial1[i] = 1\n",
    "\n",
    "    elif P_partial2[i] > 1:\n",
    "        P_partial2[i] = 1\n",
    "\n",
    "    elif P_partial3[i] > 1:\n",
    "        P_partial3[i] = 1\n",
    "\n",
    "    elif P_partial4[i] > 1:\n",
    "        P_partial4[i] = 1"
   ]
  },
  {
   "cell_type": "code",
   "execution_count": 21,
   "metadata": {},
   "outputs": [],
   "source": [
    "corf_CO2 = np.zeros(len(V_0))\n",
    "corf_PM10 = np.zeros(len(V_0))\n",
    "corf_NOX = np.zeros(len(V_0))\n",
    "\n",
    "def correctionfactor(c_year, P_partial, L_w=3):\n",
    "    corf = opentnsim.energy.correction_factors()\n",
    "    \n",
    "    corf_CO2 = 0\n",
    "    corf_PM10 = 0\n",
    "    corf_NOX = 0\n",
    "    \n",
    "    #If P_partial is <= 5%\n",
    "    \n",
    "    if P_partial <= 0.05:\n",
    "        corf_CO2 = corf.iloc[0, 5]\n",
    "        corf_PM10 = corf.iloc[0, 6]\n",
    "            \n",
    "        if c_year < 2008:\n",
    "            corf_NOX = corf.iloc[0, 1] #<= CCR-1 class\n",
    "        elif 2008 <= c_year <= 2019:\n",
    "            corf_NOX = corf.iloc[0, 2] #CCR-2 / Stage IIIa\n",
    "        elif c_year > 2019:\n",
    "                if L_w == 1:\n",
    "                    corf_NOX = corf.iloc[0, 3] #Stage V: IWP/IWA-v/c-3 class (vessels with P <300 kW: assumed to be weight class L1)\n",
    "                else:\n",
    "                    corf_NOX = corf.iloc[0, 4]  #Stage V:IWP/IWA-v/c-4 class (vessels with P >300 kw: assumed to be weight class L2-L3)\n",
    "    \n",
    "    #If P_parital = 100% \n",
    "    \n",
    "    elif P_partial == 1:\n",
    "        corf_CO2 = corf.iloc[19, 5]\n",
    "        corf_PM10 = corf.iloc[19, 6]\n",
    "            \n",
    "        if c_year < 2008:\n",
    "            corf_NOX = corf.iloc[19, 1] #<= CCR-1 class\n",
    "        elif 2008 <= c_year <= 2019:\n",
    "            corf_NOX = corf.iloc[19, 2] #CCR-2 / Stage IIIa\n",
    "        elif c_year > 2019:\n",
    "            if L_w == 1:\n",
    "                corf_NOX = corf.iloc[19, 3] #Stage V: IWP/IWA-v/c-3 class (vessels with P <300 kW: assumed to be weight class L1)\n",
    "            else:\n",
    "                corf_NOX = corf.iloc[19, 4]  #Stage V:IWP/IWA-v/c-4 class (vessels with P >300 kw: assumed to be weight class L2-L3) \n",
    "                \n",
    "    #If P_partial is inbetween 5% and 100%. \n",
    "            \n",
    "    elif 0.05 < P_partial < 1:\n",
    "    \n",
    "        #It is determined in between which two percentages in the table the partial engine load lies\n",
    "        #The correction factor is determined by means of linear interpolation  \n",
    "            \n",
    "        for i in range(len(corf)):\n",
    "            if corf.iloc[i, 0] < P_partial <= corf.iloc[i + 1, 0]: \n",
    "                \n",
    "                corf_CO2 = ((P_partial - corf.iloc[i, 0]) * (corf.iloc[i+1, 5] - corf.iloc[i, 5])) / (corf.iloc[i+1, 0] - corf.iloc[i, 0]) + corf.iloc[i, 5]\n",
    "                corf_PM10 = ((P_partial - corf.iloc[i, 0]) * (corf.iloc[i+1, 6] - corf.iloc[i, 6])) / (corf.iloc[i+1, 0] - corf.iloc[i, 0]) + corf.iloc[i, 6]\n",
    "\n",
    "                if c_year < 2008:\n",
    "                    corf_NOX = ((P_partial - corf.iloc[i, 0]) * (corf.iloc[i+1, 1] - corf.iloc[i, 1])) / (corf.iloc[i+1, 0] - corf.iloc[i, 0]) + corf.iloc[i, 1]\n",
    "                elif 2008 <= c_year <= 2019:\n",
    "                    corf_NOX = ((P_partial - corf.iloc[i, 0]) * (corf.iloc[i+1, 2] - corf.iloc[i, 2])) / (corf.iloc[i+1, 0] - corf.iloc[i, 0]) + corf.iloc[i, 2]\n",
    "                elif c_year > 2019:\n",
    "                    if L_w == 1:\n",
    "                        corf_NOX = ((P_partial - corf.iloc[i, 0]) * (corf.iloc[i+1, 3] - corf.iloc[i, 3])) / (corf.iloc[i+1, 0] - corf.iloc[i, 0]) + corf.iloc[i, 3]\n",
    "                    else:\n",
    "                        corf_NOX = ((P_partial - corf.iloc[i, 0]) * (corf.iloc[i+1, 4] - corf.iloc[i, 4])) / (corf.iloc[i+1, 0] - corf.iloc[i, 0]) + corf.iloc[i, 4] \n",
    "    return corf_CO2, corf_PM10, corf_NOX"
   ]
  },
  {
   "cell_type": "markdown",
   "metadata": {},
   "source": [
    "### Calculate emission rates in g/km for different water depths"
   ]
  },
  {
   "cell_type": "code",
   "execution_count": 22,
   "metadata": {},
   "outputs": [
    {
     "ename": "TypeError",
     "evalue": "'<' not supported between instances of 'str' and 'float'",
     "output_type": "error",
     "traceback": [
      "\u001b[0;31m---------------------------------------------------------------------------\u001b[0m",
      "\u001b[0;31mTypeError\u001b[0m                                 Traceback (most recent call last)",
      "\u001b[0;32m/var/folders/jn/txt6cnhn341gqxydqrqk2yx40000gn/T/ipykernel_97670/2620822493.py\u001b[0m in \u001b[0;36m<module>\u001b[0;34m\u001b[0m\n\u001b[1;32m     17\u001b[0m \u001b[0;34m\u001b[0m\u001b[0m\n\u001b[1;32m     18\u001b[0m \u001b[0;32mfor\u001b[0m \u001b[0mi\u001b[0m \u001b[0;32min\u001b[0m \u001b[0mrange\u001b[0m\u001b[0;34m(\u001b[0m\u001b[0mlen\u001b[0m\u001b[0;34m(\u001b[0m\u001b[0mV_0\u001b[0m\u001b[0;34m)\u001b[0m\u001b[0;34m)\u001b[0m\u001b[0;34m:\u001b[0m\u001b[0;34m\u001b[0m\u001b[0;34m\u001b[0m\u001b[0m\n\u001b[0;32m---> 19\u001b[0;31m     \u001b[0memission_g_m_CO2_1\u001b[0m\u001b[0;34m[\u001b[0m\u001b[0mi\u001b[0m\u001b[0;34m]\u001b[0m \u001b[0;34m=\u001b[0m \u001b[0mP_tot1\u001b[0m\u001b[0;34m.\u001b[0m\u001b[0mitem\u001b[0m\u001b[0;34m(\u001b[0m\u001b[0mi\u001b[0m\u001b[0;34m)\u001b[0m \u001b[0;34m*\u001b[0m \u001b[0mgeneral_emf3\u001b[0m\u001b[0;34m[\u001b[0m\u001b[0;36m0\u001b[0m\u001b[0;34m]\u001b[0m \u001b[0;34m*\u001b[0m \u001b[0mcorrectionfactor\u001b[0m\u001b[0;34m(\u001b[0m\u001b[0mc_year3\u001b[0m\u001b[0;34m,\u001b[0m \u001b[0mP_partial1\u001b[0m\u001b[0;34m.\u001b[0m\u001b[0mitem\u001b[0m\u001b[0;34m(\u001b[0m\u001b[0mi\u001b[0m\u001b[0;34m)\u001b[0m\u001b[0;34m,\u001b[0m \u001b[0;36m3\u001b[0m\u001b[0;34m)\u001b[0m\u001b[0;34m[\u001b[0m\u001b[0;36m0\u001b[0m\u001b[0;34m]\u001b[0m \u001b[0;34m/\u001b[0m  \u001b[0mV_0_km\u001b[0m\u001b[0;34m[\u001b[0m\u001b[0mi\u001b[0m\u001b[0;34m]\u001b[0m\u001b[0;34m\u001b[0m\u001b[0;34m\u001b[0m\u001b[0m\n\u001b[0m\u001b[1;32m     20\u001b[0m     \u001b[0memission_g_m_CO2_2\u001b[0m\u001b[0;34m[\u001b[0m\u001b[0mi\u001b[0m\u001b[0;34m]\u001b[0m \u001b[0;34m=\u001b[0m \u001b[0mP_tot2\u001b[0m\u001b[0;34m.\u001b[0m\u001b[0mitem\u001b[0m\u001b[0;34m(\u001b[0m\u001b[0mi\u001b[0m\u001b[0;34m)\u001b[0m \u001b[0;34m*\u001b[0m \u001b[0mgeneral_emf3\u001b[0m\u001b[0;34m[\u001b[0m\u001b[0;36m0\u001b[0m\u001b[0;34m]\u001b[0m \u001b[0;34m*\u001b[0m \u001b[0mcorrectionfactor\u001b[0m\u001b[0;34m(\u001b[0m\u001b[0mc_year3\u001b[0m\u001b[0;34m,\u001b[0m \u001b[0mP_partial2\u001b[0m\u001b[0;34m.\u001b[0m\u001b[0mitem\u001b[0m\u001b[0;34m(\u001b[0m\u001b[0mi\u001b[0m\u001b[0;34m)\u001b[0m\u001b[0;34m,\u001b[0m \u001b[0;36m3\u001b[0m\u001b[0;34m)\u001b[0m\u001b[0;34m[\u001b[0m\u001b[0;36m0\u001b[0m\u001b[0;34m]\u001b[0m \u001b[0;34m/\u001b[0m  \u001b[0mV_0_km\u001b[0m\u001b[0;34m[\u001b[0m\u001b[0mi\u001b[0m\u001b[0;34m]\u001b[0m\u001b[0;34m\u001b[0m\u001b[0;34m\u001b[0m\u001b[0m\n\u001b[1;32m     21\u001b[0m     \u001b[0memission_g_m_CO2_3\u001b[0m\u001b[0;34m[\u001b[0m\u001b[0mi\u001b[0m\u001b[0;34m]\u001b[0m \u001b[0;34m=\u001b[0m \u001b[0mP_tot3\u001b[0m\u001b[0;34m.\u001b[0m\u001b[0mitem\u001b[0m\u001b[0;34m(\u001b[0m\u001b[0mi\u001b[0m\u001b[0;34m)\u001b[0m \u001b[0;34m*\u001b[0m \u001b[0mgeneral_emf3\u001b[0m\u001b[0;34m[\u001b[0m\u001b[0;36m0\u001b[0m\u001b[0;34m]\u001b[0m \u001b[0;34m*\u001b[0m \u001b[0mcorrectionfactor\u001b[0m\u001b[0;34m(\u001b[0m\u001b[0mc_year3\u001b[0m\u001b[0;34m,\u001b[0m \u001b[0mP_partial3\u001b[0m\u001b[0;34m.\u001b[0m\u001b[0mitem\u001b[0m\u001b[0;34m(\u001b[0m\u001b[0mi\u001b[0m\u001b[0;34m)\u001b[0m\u001b[0;34m,\u001b[0m \u001b[0;36m3\u001b[0m\u001b[0;34m)\u001b[0m\u001b[0;34m[\u001b[0m\u001b[0;36m0\u001b[0m\u001b[0;34m]\u001b[0m \u001b[0;34m/\u001b[0m  \u001b[0mV_0_km\u001b[0m\u001b[0;34m[\u001b[0m\u001b[0mi\u001b[0m\u001b[0;34m]\u001b[0m\u001b[0;34m\u001b[0m\u001b[0;34m\u001b[0m\u001b[0m\n",
      "\u001b[0;32m/var/folders/jn/txt6cnhn341gqxydqrqk2yx40000gn/T/ipykernel_97670/1789650891.py\u001b[0m in \u001b[0;36mcorrectionfactor\u001b[0;34m(c_year, P_partial, L_w)\u001b[0m\n\u001b[1;32m     50\u001b[0m \u001b[0;34m\u001b[0m\u001b[0m\n\u001b[1;32m     51\u001b[0m         \u001b[0;32mfor\u001b[0m \u001b[0mi\u001b[0m \u001b[0;32min\u001b[0m \u001b[0mrange\u001b[0m\u001b[0;34m(\u001b[0m\u001b[0mlen\u001b[0m\u001b[0;34m(\u001b[0m\u001b[0mcorf\u001b[0m\u001b[0;34m)\u001b[0m\u001b[0;34m)\u001b[0m\u001b[0;34m:\u001b[0m\u001b[0;34m\u001b[0m\u001b[0;34m\u001b[0m\u001b[0m\n\u001b[0;32m---> 52\u001b[0;31m             \u001b[0;32mif\u001b[0m \u001b[0mcorf\u001b[0m\u001b[0;34m.\u001b[0m\u001b[0miloc\u001b[0m\u001b[0;34m[\u001b[0m\u001b[0mi\u001b[0m\u001b[0;34m,\u001b[0m \u001b[0;36m0\u001b[0m\u001b[0;34m]\u001b[0m \u001b[0;34m<\u001b[0m \u001b[0mP_partial\u001b[0m \u001b[0;34m<=\u001b[0m \u001b[0mcorf\u001b[0m\u001b[0;34m.\u001b[0m\u001b[0miloc\u001b[0m\u001b[0;34m[\u001b[0m\u001b[0mi\u001b[0m \u001b[0;34m+\u001b[0m \u001b[0;36m1\u001b[0m\u001b[0;34m,\u001b[0m \u001b[0;36m0\u001b[0m\u001b[0;34m]\u001b[0m\u001b[0;34m:\u001b[0m\u001b[0;34m\u001b[0m\u001b[0;34m\u001b[0m\u001b[0m\n\u001b[0m\u001b[1;32m     53\u001b[0m \u001b[0;34m\u001b[0m\u001b[0m\n\u001b[1;32m     54\u001b[0m                 \u001b[0mcorf_CO2\u001b[0m \u001b[0;34m=\u001b[0m \u001b[0;34m(\u001b[0m\u001b[0;34m(\u001b[0m\u001b[0mP_partial\u001b[0m \u001b[0;34m-\u001b[0m \u001b[0mcorf\u001b[0m\u001b[0;34m.\u001b[0m\u001b[0miloc\u001b[0m\u001b[0;34m[\u001b[0m\u001b[0mi\u001b[0m\u001b[0;34m,\u001b[0m \u001b[0;36m0\u001b[0m\u001b[0;34m]\u001b[0m\u001b[0;34m)\u001b[0m \u001b[0;34m*\u001b[0m \u001b[0;34m(\u001b[0m\u001b[0mcorf\u001b[0m\u001b[0;34m.\u001b[0m\u001b[0miloc\u001b[0m\u001b[0;34m[\u001b[0m\u001b[0mi\u001b[0m\u001b[0;34m+\u001b[0m\u001b[0;36m1\u001b[0m\u001b[0;34m,\u001b[0m \u001b[0;36m5\u001b[0m\u001b[0;34m]\u001b[0m \u001b[0;34m-\u001b[0m \u001b[0mcorf\u001b[0m\u001b[0;34m.\u001b[0m\u001b[0miloc\u001b[0m\u001b[0;34m[\u001b[0m\u001b[0mi\u001b[0m\u001b[0;34m,\u001b[0m \u001b[0;36m5\u001b[0m\u001b[0;34m]\u001b[0m\u001b[0;34m)\u001b[0m\u001b[0;34m)\u001b[0m \u001b[0;34m/\u001b[0m \u001b[0;34m(\u001b[0m\u001b[0mcorf\u001b[0m\u001b[0;34m.\u001b[0m\u001b[0miloc\u001b[0m\u001b[0;34m[\u001b[0m\u001b[0mi\u001b[0m\u001b[0;34m+\u001b[0m\u001b[0;36m1\u001b[0m\u001b[0;34m,\u001b[0m \u001b[0;36m0\u001b[0m\u001b[0;34m]\u001b[0m \u001b[0;34m-\u001b[0m \u001b[0mcorf\u001b[0m\u001b[0;34m.\u001b[0m\u001b[0miloc\u001b[0m\u001b[0;34m[\u001b[0m\u001b[0mi\u001b[0m\u001b[0;34m,\u001b[0m \u001b[0;36m0\u001b[0m\u001b[0;34m]\u001b[0m\u001b[0;34m)\u001b[0m \u001b[0;34m+\u001b[0m \u001b[0mcorf\u001b[0m\u001b[0;34m.\u001b[0m\u001b[0miloc\u001b[0m\u001b[0;34m[\u001b[0m\u001b[0mi\u001b[0m\u001b[0;34m,\u001b[0m \u001b[0;36m5\u001b[0m\u001b[0;34m]\u001b[0m\u001b[0;34m\u001b[0m\u001b[0;34m\u001b[0m\u001b[0m\n",
      "\u001b[0;31mTypeError\u001b[0m: '<' not supported between instances of 'str' and 'float'"
     ]
    }
   ],
   "source": [
    "#Emission rates in g/km for different water depths (h1=10, h2=7.5, h3=5, h4=3.5), engine construction year: c_year3=1990\n",
    "# based on equations 30-31\n",
    "emission_g_m_CO2_1 = np.zeros(len(V_0))\n",
    "emission_g_m_CO2_2 = np.zeros(len(V_0))\n",
    "emission_g_m_CO2_3 = np.zeros(len(V_0))\n",
    "emission_g_m_CO2_4 = np.zeros(len(V_0))\n",
    "\n",
    "emission_g_m_PM10_1= np.zeros(len(V_0))\n",
    "emission_g_m_PM10_2= np.zeros(len(V_0))\n",
    "emission_g_m_PM10_3= np.zeros(len(V_0))\n",
    "emission_g_m_PM10_4= np.zeros(len(V_0))\n",
    "\n",
    "emission_g_m_NOX_1 = np.zeros(len(V_0))\n",
    "emission_g_m_NOX_2 = np.zeros(len(V_0))\n",
    "emission_g_m_NOX_3 = np.zeros(len(V_0))\n",
    "emission_g_m_NOX_4 = np.zeros(len(V_0))\n",
    "\n",
    "for i in range(len(V_0)):\n",
    "    emission_g_m_CO2_1[i] = P_tot1.item(i) * general_emf3[0] * correctionfactor(c_year3, P_partial1.item(i), 3)[0] /  V_0_km[i]\n",
    "    emission_g_m_CO2_2[i] = P_tot2.item(i) * general_emf3[0] * correctionfactor(c_year3, P_partial2.item(i), 3)[0] /  V_0_km[i]\n",
    "    emission_g_m_CO2_3[i] = P_tot3.item(i) * general_emf3[0] * correctionfactor(c_year3, P_partial3.item(i), 3)[0] /  V_0_km[i]\n",
    "    emission_g_m_CO2_4[i] = P_tot4.item(i) * general_emf3[0] * correctionfactor(c_year3, P_partial4.item(i), 3)[0] /  V_0_km[i]\n",
    "       \n",
    "for i in range(len(V_0)):\n",
    "    emission_g_m_PM10_1[i] = P_tot1.item(i) * general_emf3[1] * correctionfactor(c_year3, P_partial1.item(i), 3)[1] /  V_0_km[i]\n",
    "    emission_g_m_PM10_2[i] = P_tot2.item(i) * general_emf3[1] * correctionfactor(c_year3, P_partial2.item(i), 3)[1] /  V_0_km[i]\n",
    "    emission_g_m_PM10_3[i] = P_tot3.item(i) * general_emf3[1] * correctionfactor(c_year3, P_partial3.item(i), 3)[1] /  V_0_km[i]\n",
    "    emission_g_m_PM10_4[i] = P_tot4.item(i) * general_emf3[1] * correctionfactor(c_year3, P_partial4.item(i), 3)[1] /  V_0_km[i]\n",
    "    \n",
    "for i in range(len(V_0)):\n",
    "    emission_g_m_NOX_1[i] = P_tot1.item(i) * general_emf3[2] * correctionfactor(c_year3, P_partial1.item(i), 3)[2] /  V_0_km[i]\n",
    "    emission_g_m_NOX_2[i] = P_tot2.item(i) * general_emf3[2] * correctionfactor(c_year3, P_partial2.item(i), 3)[2] /  V_0_km[i]\n",
    "    emission_g_m_NOX_3[i] = P_tot3.item(i) * general_emf3[2] * correctionfactor(c_year3, P_partial3.item(i), 3)[2] /  V_0_km[i]\n",
    "    emission_g_m_NOX_4[i] = P_tot4.item(i) * general_emf3[2] * correctionfactor(c_year3, P_partial4.item(i), 3)[2] /  V_0_km[i]\n",
    "    "
   ]
  },
  {
   "cell_type": "markdown",
   "metadata": {},
   "source": [
    "### Figure 8: Emissions as a function of vessel speed: emission rates in g/km versus speed for different water depths"
   ]
  },
  {
   "cell_type": "code",
   "execution_count": null,
   "metadata": {},
   "outputs": [],
   "source": [
    "fig, axs = plt.subplots(1, 3, figsize=(12, 3),constrained_layout=True)\n",
    "fontsize=10\n",
    "\n",
    "ax=plt.subplot(131)\n",
    "plt.plot(V_0_km, emission_g_m_CO2_1, 'yellow',linewidth = 2.0) # CO2 emission rates for water depth h1=10 m\n",
    "plt.plot(V_0_km, emission_g_m_CO2_2, 'orange',linewidth = 2.0) # CO2 emission rates for water depth h2=7.5 m\n",
    "plt.plot(V_0_km, emission_g_m_CO2_3, 'red',linewidth = 2.0)    # CO2 emission rates for water depth h3=5 m\n",
    "plt.plot(V_0_km[V_0_km<15.6], emission_g_m_CO2_4[V_0_km<15.6], 'darkred',linewidth = 2.0) # for water depth h4=3.5 m, speed limited to 15.6 km/h\n",
    "plt.legend(['$h_0$ = 10 m', '$h_0$ = 7.5 m', '$h_0$ = 5 m', '$h_0$ = 3.5 m'],loc='upper center')\n",
    "plt.grid()\n",
    "plt.xlim(0, 18)  #  set vessel speed range (km/h) for inland shipping\n",
    "plt.ylim(0, 300000)\n",
    "plt.xlabel('Relative vessel speed (km/h)',fontsize=10,weight='bold',labelpad=3)\n",
    "plt.ylabel('CO2 emission rate (g/km)',fontsize=10,weight='bold',labelpad=3)\n",
    "plt.xticks([0,5,10,15,18], weight = 'bold')\n",
    "plt.yticks( weight = 'bold')\n",
    "\n",
    "ax=plt.subplot(132)\n",
    "plt.plot(V_0_km, emission_g_m_PM10_1, 'paleturquoise',linewidth = 2.0)\n",
    "plt.plot(V_0_km, emission_g_m_PM10_2, 'mediumspringgreen',linewidth = 2.0)\n",
    "plt.plot(V_0_km, emission_g_m_PM10_3, 'mediumseagreen',linewidth = 2.0)\n",
    "plt.plot(V_0_km[V_0_km<15.6], emission_g_m_PM10_4[V_0_km<15.6], 'darkgreen',linewidth = 2.0)\n",
    "plt.legend(['$h_0$ = 10 m', '$h_0$ = 7.5 m', '$h_0$ = 5 m', '$h_0$ = 3.5 m'],loc='upper center')\n",
    "plt.grid()\n",
    "plt.xlim(0, 18)\n",
    "plt.ylim(0, 350)\n",
    "plt.xlabel('Relative vessel speed (km/h)',fontsize=10,weight='bold',labelpad=3)\n",
    "plt.ylabel('PM10 emission rate (g/km)',fontsize=10,weight='bold',labelpad=3)\n",
    "plt.xticks([0,5,10,15,18], weight = 'bold')\n",
    "plt.yticks( weight = 'bold')\n",
    "\n",
    "ax=plt.subplot(133)\n",
    "plt.plot(V_0_km, emission_g_m_NOX_1, 'pink',linewidth = 2.0)\n",
    "plt.plot(V_0_km, emission_g_m_NOX_2, 'hotpink',linewidth = 2.0)\n",
    "plt.plot(V_0_km, emission_g_m_NOX_3, 'deeppink',linewidth = 2.0)\n",
    "plt.plot(V_0_km[V_0_km<15.6], emission_g_m_NOX_4[V_0_km<15.6], 'purple',linewidth = 2.0)\n",
    "plt.legend(['$h_0$ = 10 m', '$h_0$ = 7.5 m', '$h_0$ = 5 m', '$h_0$ = 3.5 m'],loc='upper center')\n",
    "plt.grid()\n",
    "plt.xlim(0, 18)\n",
    "plt.ylim(0, 6500)\n",
    "plt.xlabel('Relative vessel speed (km/h)',fontsize=10, weight='bold',labelpad=3)\n",
    "plt.ylabel('NOx emission rate (g/km)',fontsize=10,weight='bold',labelpad=3)\n",
    "plt.xticks([0,5,10,15,18], weight = 'bold')\n",
    "plt.yticks( weight = 'bold')\n",
    "\n",
    "#plt.savefig('emission rates versus speed with diff water depth.pdf', dpi=600, format='pdf')  \n",
    "plt.savefig('PartIV-05-09.eps', dpi=600, format='eps') "
   ]
  },
  {
   "cell_type": "markdown",
   "metadata": {},
   "source": [
    "### Calculate emission rates in g/km for different  engine ages"
   ]
  },
  {
   "cell_type": "code",
   "execution_count": null,
   "metadata": {},
   "outputs": [],
   "source": [
    "#Emission rates in g/km for different engine ages (construction year = 1970,1980,1990,2000,2010,2020), water depth: h1=10 m \n",
    "# based on equations 30-31\n",
    "emission_g_m_CO2_11 = np.zeros(len(V_0))\n",
    "emission_g_m_CO2_22 = np.zeros(len(V_0))\n",
    "emission_g_m_CO2_33 = np.zeros(len(V_0))\n",
    "emission_g_m_CO2_44 = np.zeros(len(V_0))\n",
    "emission_g_m_CO2_55 = np.zeros(len(V_0))\n",
    "emission_g_m_CO2_66 = np.zeros(len(V_0))\n",
    "\n",
    "emission_g_m_PM10_11 = np.zeros(len(V_0))\n",
    "emission_g_m_PM10_22 = np.zeros(len(V_0))\n",
    "emission_g_m_PM10_33 = np.zeros(len(V_0))\n",
    "emission_g_m_PM10_44 = np.zeros(len(V_0))\n",
    "emission_g_m_PM10_55 = np.zeros(len(V_0))\n",
    "emission_g_m_PM10_66 = np.zeros(len(V_0))\n",
    "\n",
    "emission_g_m_NOX_11 = np.zeros(len(V_0))\n",
    "emission_g_m_NOX_22 = np.zeros(len(V_0))\n",
    "emission_g_m_NOX_33 = np.zeros(len(V_0))\n",
    "emission_g_m_NOX_44 = np.zeros(len(V_0))\n",
    "emission_g_m_NOX_55 = np.zeros(len(V_0))\n",
    "emission_g_m_NOX_66 = np.zeros(len(V_0))\n",
    "\n",
    "for i in range(len(V_0)):\n",
    "    emission_g_m_CO2_11[i] = P_tot1.item(i) * general_emf1[0] * correctionfactor(c_year1, P_partial1.item(i), 3)[0] / V_0_km[i]\n",
    "    emission_g_m_CO2_22[i] = P_tot1.item(i) * general_emf2[0] * correctionfactor(c_year2, P_partial1.item(i), 3)[0] / V_0_km[i]\n",
    "    emission_g_m_CO2_33[i] = P_tot1.item(i) * general_emf3[0] * correctionfactor(c_year3, P_partial1.item(i), 3)[0] / V_0_km[i]\n",
    "    emission_g_m_CO2_44[i] = P_tot1.item(i) * general_emf4[0] * correctionfactor(c_year4, P_partial1.item(i), 3)[0] / V_0_km[i]\n",
    "    emission_g_m_CO2_55[i] = P_tot1.item(i) * general_emf5[0] * correctionfactor(c_year5, P_partial1.item(i), 3)[0] / V_0_km[i]\n",
    "    emission_g_m_CO2_66[i] = P_tot1.item(i) * general_emf6[0] * correctionfactor(c_year6, P_partial1.item(i), 3)[0] / V_0_km[i]\n",
    "    \n",
    "for i in range(len(V_0)):\n",
    "    emission_g_m_PM10_11[i] = P_tot1.item(i) * general_emf1[1] * correctionfactor(c_year1, P_partial1.item(i), 3)[1] / V_0_km[i]\n",
    "    emission_g_m_PM10_22[i] = P_tot1.item(i) * general_emf2[1] * correctionfactor(c_year2, P_partial1.item(i), 3)[1] / V_0_km[i]\n",
    "    emission_g_m_PM10_33[i] = P_tot1.item(i) * general_emf3[1] * correctionfactor(c_year3, P_partial1.item(i), 3)[1] / V_0_km[i]\n",
    "    emission_g_m_PM10_44[i] = P_tot1.item(i) * general_emf4[1] * correctionfactor(c_year4, P_partial1.item(i), 3)[1] / V_0_km[i]\n",
    "    emission_g_m_PM10_55[i] = P_tot1.item(i) * general_emf5[1] * correctionfactor(c_year5, P_partial1.item(i), 3)[1] / V_0_km[i]\n",
    "    emission_g_m_PM10_66[i] = P_tot1.item(i) * general_emf6[1] * correctionfactor(c_year6, P_partial1.item(i), 3)[1] / V_0_km[i]\n",
    "    \n",
    "for i in range(len(V_0)):\n",
    "    emission_g_m_NOX_11[i] = P_tot1.item(i) * general_emf1[2] * correctionfactor(c_year1, P_partial1.item(i), 3)[2] / V_0_km[i]\n",
    "    emission_g_m_NOX_22[i] = P_tot1.item(i) * general_emf2[2] * correctionfactor(c_year2, P_partial1.item(i), 3)[2] / V_0_km[i]\n",
    "    emission_g_m_NOX_33[i] = P_tot1.item(i) * general_emf3[2] * correctionfactor(c_year3, P_partial1.item(i), 3)[2] / V_0_km[i]\n",
    "    emission_g_m_NOX_44[i] = P_tot1.item(i) * general_emf4[2] * correctionfactor(c_year4, P_partial1.item(i), 3)[2] / V_0_km[i]\n",
    "    emission_g_m_NOX_55[i] = P_tot1.item(i) * general_emf5[2] * correctionfactor(c_year5, P_partial1.item(i), 3)[2] / V_0_km[i]\n",
    "    emission_g_m_NOX_66[i] = P_tot1.item(i) * general_emf6[2] * correctionfactor(c_year6, P_partial1.item(i), 3)[2] / V_0_km[i]"
   ]
  },
  {
   "cell_type": "markdown",
   "metadata": {},
   "source": [
    "### Figure 9: Emissions as a function of engine age: emission rates in g/km versus speed for different engine ages"
   ]
  },
  {
   "cell_type": "code",
   "execution_count": null,
   "metadata": {},
   "outputs": [],
   "source": [
    "fig, axs = plt.subplots(1, 3, figsize=(12, 3),constrained_layout=True)\n",
    "fontsize=10\n",
    "\n",
    "ax=plt.subplot(131)\n",
    "plt.plot(V_0_km, emission_g_m_CO2_11, 'darkred',linewidth = 2.0)   # CO2 emission rates for engine construction year 1970\n",
    "plt.plot(V_0_km, emission_g_m_CO2_22, 'red',linewidth = 2.0)       # CO2 emission rates for engine construction year 1980\n",
    "plt.plot(V_0_km, emission_g_m_CO2_33, 'darkorange',linewidth = 2.0)# CO2 emission rates for engine construction year 1990\n",
    "plt.plot(V_0_km, emission_g_m_CO2_44, 'orange',linewidth = 2.0)    # CO2 emission rates for engine construction year 2000\n",
    "plt.plot(V_0_km, emission_g_m_CO2_55, 'gold',linewidth = 2.0)      # CO2 emission rates for engine construction year 2010\n",
    "plt.plot(V_0_km, emission_g_m_CO2_66, 'yellow',linewidth = 2.0)    # CO2 emission rates for engine construction year 2020\n",
    "plt.legend(['$C_{year}$ = 1970', '$C_{year}$ = 1980', '$C_{year}$ = 1990', '$C_{year}$ = 2000', \n",
    "            '$C_{year}$ = 2010', '$C_{year}$ = 2020'],loc='upper center')\n",
    "plt.grid()\n",
    "plt.xlim(0, 18)\n",
    "plt.ylim(0, 100000)\n",
    "plt.xlabel('Relative vessel speed (km/h)',fontsize=10, weight='bold',labelpad=3)\n",
    "plt.ylabel('CO2 emission rate (g/km)',fontsize=10,weight='bold',labelpad=3)\n",
    "plt.xticks([0,5,10,15,18],weight = 'bold')\n",
    "plt.yticks( weight = 'bold')\n",
    "\n",
    "ax=plt.subplot(132)\n",
    "plt.plot(V_0_km, emission_g_m_PM10_11, 'darkgreen',linewidth = 2.0)\n",
    "plt.plot(V_0_km, emission_g_m_PM10_22, 'seagreen',linewidth = 2.0)\n",
    "plt.plot(V_0_km, emission_g_m_PM10_33, 'mediumseagreen',linewidth = 2.0)\n",
    "plt.plot(V_0_km, emission_g_m_PM10_44, 'mediumspringgreen')\n",
    "plt.plot(V_0_km, emission_g_m_PM10_55, 'aquamarine',linewidth = 2.0)\n",
    "plt.plot(V_0_km, emission_g_m_PM10_66, 'paleturquoise',linewidth = 2.0)\n",
    "plt.legend(['$C_{year}$ = 1970', '$C_{year}$ = 1980', '$C_{year}$ = 1990', '$C_{year}$ = 2000', \n",
    "            '$C_{year}$ = 2010', '$C_{year}$ = 2020'],loc='upper center')\n",
    "plt.grid()\n",
    "plt.xlim(0, 18)\n",
    "plt.ylim(0, 100)\n",
    "plt.xlabel('Relative vessel speed (km/h)',fontsize=10, weight='bold',labelpad=3)\n",
    "plt.ylabel('PM10 emission rate (g/km)',fontsize=10,weight='bold',labelpad=3)\n",
    "plt.xticks([0,5,10,15,18], weight = 'bold')\n",
    "plt.yticks( weight = 'bold')\n",
    "\n",
    "ax=plt.subplot(133)\n",
    "plt.plot(V_0_km, emission_g_m_NOX_11, 'purple',linewidth = 2.0)\n",
    "plt.plot(V_0_km, emission_g_m_NOX_22, 'darkmagenta',linewidth = 2.0)\n",
    "plt.plot(V_0_km, emission_g_m_NOX_33, 'orchid',linewidth = 2.0)\n",
    "plt.plot(V_0_km, emission_g_m_NOX_44, 'deeppink',linewidth = 2.0)\n",
    "plt.plot(V_0_km, emission_g_m_NOX_55, 'hotpink',linewidth = 2.0)\n",
    "plt.plot(V_0_km, emission_g_m_NOX_66, 'pink',linewidth = 2.0)\n",
    "plt.legend(['$C_{year}$ = 1970', '$C_{year}$ = 1980', '$C_{year}$ = 1990', '$C_{year}$ = 2000',\n",
    "            '$C_{year}$ = 2010', '$C_{year}$ = 2020'],loc='upper center')\n",
    "plt.grid()\n",
    "plt.xlim(0, 18)\n",
    "plt.ylim(0, 1600)\n",
    "plt.xlabel('Relative vessel speed (km/h)',fontsize=10, weight='bold',labelpad=3)\n",
    "plt.ylabel('NOx emission rate (g/km)',fontsize=10,weight='bold',labelpad=3)\n",
    "plt.xticks([0,5,10,15,18], weight = 'bold')\n",
    "plt.yticks( weight = 'bold')\n",
    "\n",
    "#plt.savefig('emission rates versus speed with diff engine ages.pdf', dpi=600, format='pdf')\n",
    "plt.savefig('PartIV-05-10.eps', dpi=600, format='eps')\n",
    "#fig.suptitle('Emission rate versus velocity, for different engine ages  \\n (type = M9, L = 135 m, B = 11.45 m, T = 2.75 m, h = 10 m)')"
   ]
  },
  {
   "cell_type": "code",
   "execution_count": null,
   "metadata": {},
   "outputs": [],
   "source": []
  }
 ],
 "metadata": {
  "kernelspec": {
   "display_name": "Python 3 (ipykernel)",
   "language": "python",
   "name": "python3"
  },
  "language_info": {
   "codemirror_mode": {
    "name": "ipython",
    "version": 3
   },
   "file_extension": ".py",
   "mimetype": "text/x-python",
   "name": "python",
   "nbconvert_exporter": "python",
   "pygments_lexer": "ipython3",
   "version": "3.8.8"
  }
 },
 "nbformat": 4,
 "nbformat_minor": 4
}
