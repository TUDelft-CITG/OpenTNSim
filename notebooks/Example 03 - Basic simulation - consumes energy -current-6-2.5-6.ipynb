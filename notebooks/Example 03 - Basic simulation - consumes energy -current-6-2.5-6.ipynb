{
 "cells": [
  {
   "cell_type": "markdown",
   "id": "f0386f55",
   "metadata": {},
   "source": [
    "## Example 03 - Basic simulation - consumes energy-current-6-2.5-6\n",
    "In this notebook, we are going to make a simulation which forces a vessel to move over a certain 1D waterway network. It tries to give one an understanding of the most basic core functions of OpenTNSim and teach one the requirements to set-up a basic OpenTNSim model run. \n",
    "\n",
    "We add some properties to the graph (depth) and the vessel (VesselProperties, HasContainer, ConsumesEnergy) in order to calculate resistance, required power, "
   ]
  },
  {
   "cell_type": "markdown",
   "id": "9e12bfde",
   "metadata": {},
   "source": [
    "### Imports\n",
    "Import the required libraries"
   ]
  },
  {
   "cell_type": "code",
   "execution_count": 1,
   "id": "d4e73aa6",
   "metadata": {},
   "outputs": [],
   "source": [
    "# package(s) related to time, space and id\n",
    "import datetime, time\n",
    "import platform\n",
    "\n",
    "# you need these dependencies (you can get these from anaconda)\n",
    "# package(s) related to the simulation\n",
    "import simpy\n",
    "import pandas as pd\n",
    "\n",
    "# spatial libraries \n",
    "import pyproj\n",
    "import shapely.geometry\n",
    "from simplekml import Kml, Style\n",
    "\n",
    "# package(s) for data handling\n",
    "import numpy as np\n",
    "import matplotlib.pyplot as plt\n",
    "\n",
    "# OpenTNSim\n",
    "import opentnsim\n",
    "\n",
    "# Used for mathematical functions\n",
    "import math             \n",
    "\n",
    "# Used for making the graph to visualize our problem\n",
    "import networkx as nx   "
   ]
  },
  {
   "cell_type": "markdown",
   "id": "50a15fcc",
   "metadata": {},
   "source": [
    "### Create graph\n",
    "We first need to create a 1D network (a graph) along which the vessel will move. A graph contains edges (blue dots in plot below) and vertices (black lines in plot below). For this example, we will construct a network consisting of 4 nodes in a straight line. Since we would like to have two-way traffic, we add two edges between each pair of nodes: one from left to right, and another the other way around (however, we could easily apply one-way traffic as well by remove one of the two edges). Consequently, we arrive at a total of 4 nodes, and 6 edges.\n",
    "\n",
    "Due to the nature of discrete modelling in which the time step is dependent on the activities (in this example: forcing a ship to move from node to node from its origin to its destination), it is important to add OpenTNSim mix-ins to the nodes in such a way we could identify the node (mix-in Identifiable, which imports a name and imports/creates an ID), and to locate the node (mix-in Locatable, which gives the node a geometry)."
   ]
  },
  {
   "cell_type": "code",
   "execution_count": 2,
   "id": "d5683a95",
   "metadata": {},
   "outputs": [
    {
     "data": {
      "image/png": "[encoded data removed]",
      "text/plain": [
       "<Figure size 432x288 with 1 Axes>"
      ]
     },
     "metadata": {},
     "output_type": "display_data"
    }
   ],
   "source": [
    "FG = nx.DiGraph()\n",
    "nodes = []\n",
    "path = []\n",
    "\n",
    "Node = type('Site', (opentnsim.core.Identifiable, opentnsim.core.Locatable), {})\n",
    "\n",
    "data_node_1 = {\"name\": \"Node 1\",\n",
    "               \"geometry\": shapely.geometry.Point(0, 0)}\n",
    "data_node_2 = {\"name\": \"Node 2\",\n",
    "               \"geometry\": shapely.geometry.Point(0.8983, 0)}  # 0.8983 degree =100km\n",
    "data_node_3 = {\"name\": \"Node 3\",\n",
    "               \"geometry\": shapely.geometry.Point(1.7966, 0)}   # 1.7966 degree =200km\n",
    "data_node_4 = {\"name\": \"Node 4\",\n",
    "               \"geometry\": shapely.geometry.Point(2.6949, 0)}    # 2.6949 degree =300km\n",
    "\n",
    "node_1 = Node(**data_node_1)\n",
    "node_2 = Node(**data_node_2)\n",
    "node_3 = Node(**data_node_3)\n",
    "node_4 = Node(**data_node_4)\n",
    "\n",
    "nodes = [node_1, node_2, node_3, node_4]\n",
    "\n",
    "positions = {}\n",
    "for node in nodes:\n",
    "    positions[node.name] = (node.geometry.x, node.geometry.y)\n",
    "    FG.add_node(node.name, geometry = node.geometry)\n",
    "\n",
    "path = [[node_1, node_2], # From node 1 to node 2\n",
    "        [node_2, node_3], # From node 2 to node 3\n",
    "        [node_3, node_4], # From node 3 to node 4\n",
    "        [node_4, node_3], # From node 4 to node 3\n",
    "        [node_3, node_2], # From node 3 to node 2\n",
    "        [node_2, node_1]] # From node 2 to node 1\n",
    "\n",
    "for edge in path:\n",
    "    # For the energy consumption calculation we add info to the graph. We need depth info for resistance.\n",
    "    # NB: the CalculateEnergy routine expects the graph to have \"Info\" that contains \"GeneralDepth\" \n",
    "    #     this may not be very generic!\n",
    "    if edge == [node_2, node_3] or edge == [node_3, node_2]:\n",
    "        FG.add_edge(edge[0].name, edge[1].name, weight = 1, Info = {\"GeneralDepth\": 2.5})\n",
    "    else:\n",
    "        FG.add_edge(edge[0].name, edge[1].name, weight = 1, Info = {\"GeneralDepth\": 6})\n",
    "    \n",
    "# env.FG = FG\n",
    "nx.draw(FG, positions)\n",
    "plt.show()"
   ]
  },
  {
   "cell_type": "code",
   "execution_count": 3,
   "id": "3a375d91",
   "metadata": {},
   "outputs": [
    {
     "name": "stdout",
     "output_type": "stream",
     "text": [
      "General depth for edge ('Node 1', 'Node 2') is 6\n",
      "General depth for edge ('Node 2', 'Node 3') is 2.5\n",
      "General depth for edge ('Node 2', 'Node 1') is 6\n",
      "General depth for edge ('Node 3', 'Node 4') is 6\n",
      "General depth for edge ('Node 3', 'Node 2') is 2.5\n",
      "General depth for edge ('Node 4', 'Node 3') is 6\n"
     ]
    }
   ],
   "source": [
    "# This cell just shows that now a depth of 10 m is added to the edges. \n",
    "# You can use this to vary depths, e.g. make the middle edge shallower. Note that edges are bi-directional \n",
    "for edge in FG.edges:\n",
    "    print('General depth for edge {} is {}'.format(edge, FG.get_edge_data(edge[0], edge[1])[\"Info\"][\"GeneralDepth\"]))"
   ]
  },
  {
   "cell_type": "markdown",
   "id": "35391829",
   "metadata": {},
   "source": [
    "### Create vessel - add VesselProperties and ConsumesEnergy mixins\n",
    "The following mix-ins are required for each vessel in our problem: Identifiable (gives the vessel a name and a random ID), Movable (gives that the object (*vessel*) can move with a fixed speed and logs this activity, it requires input for the following mix-ins: Locatable, Routeable, and Log), and Routable (gives the object a route). We now modify our original vessel from the basic example and include vessel properties (like width, length, etc.) and a mixin that is needed to calculate resistance and energy consumption.  "
   ]
  },
  {
   "cell_type": "code",
   "execution_count": 4,
   "id": "aa92d0e3",
   "metadata": {},
   "outputs": [],
   "source": [
    "# Make your preferred class out of available mix-ins.\n",
    "TransportResource = type('Vessel', \n",
    "                         (opentnsim.core.Identifiable, \n",
    "                          opentnsim.core.Movable, \n",
    "                          opentnsim.core.Routeable,\n",
    "                          opentnsim.core.VesselProperties,     # needed to add vessel properties\n",
    "                          opentnsim.core.HasContainer,         # needed to calculate filling degree for draught\n",
    "                          opentnsim.core.ConsumesEnergy), {})  # needed to calculate resistances            "
   ]
  },
  {
   "cell_type": "code",
   "execution_count": 5,
   "id": "59be2e54",
   "metadata": {},
   "outputs": [],
   "source": [
    "# Create a dict with all important settings\n",
    "data_vessel = {\"env\": None,\n",
    "               \"name\": None,\n",
    "               \"route\": None,\n",
    "               \"geometry\": None,\n",
    "               \"v\":3.5,  # m/s\n",
    "               \"type\": 'Dortmund-Eems (L <= 74 m)', # <-- note that inputs from hereon are due to the added mixins!\n",
    "               \"B\": 11.4,\n",
    "               \"L\": 110,\n",
    "               \"capacity\": 3000,   # maximum designed payload\n",
    "               \"level\":3000,     # actual payload\n",
    "               \"H_e\": None, \n",
    "               \"H_f\": None, \n",
    "               \"T_e\":None, \n",
    "               \"T_f\":None, \n",
    "               \"P_installed\":1750.0,   \n",
    "               \"P_given\":None,\n",
    "               \"L_w\": 3.0 ,\n",
    "               \"C_b\":0.85, \n",
    "               \"c_year\":1990,\n",
    "               \"current_year\":None\n",
    "              }               \n",
    "\n",
    "vessel = TransportResource(**data_vessel)"
   ]
  },
  {
   "cell_type": "markdown",
   "id": "1d7abf4c",
   "metadata": {},
   "source": [
    "### Define paths\n",
    "We are going to create a simulation in which a vessel moves from *Node 1* to *Node 4*. Therefore, we need to create a vessel to which we will need to append this paths. Therefore, first let's create the path."
   ]
  },
  {
   "cell_type": "code",
   "execution_count": 6,
   "id": "088664b6",
   "metadata": {},
   "outputs": [],
   "source": [
    "path = nx.dijkstra_path(FG, node_1.name, node_4.name)"
   ]
  },
  {
   "cell_type": "markdown",
   "id": "23ceac15",
   "metadata": {},
   "source": [
    "### Run simulation\n",
    "Now we can define the run. First, we make an environment and add the graph to the environment. Then we add one vessel, to which we will append the environment and the above route. Lastly, we give the vessel the process of moving from the origin to the destination of the defined path and subsequently run the model."
   ]
  },
  {
   "cell_type": "code",
   "execution_count": 7,
   "id": "edae679f",
   "metadata": {},
   "outputs": [],
   "source": [
    "# Start simpy environment\n",
    "simulation_start = datetime.datetime.now()\n",
    "env = simpy.Environment(initial_time = time.mktime(simulation_start.timetuple()))\n",
    "env.epoch = time.mktime(simulation_start.timetuple())\n",
    "\n",
    "# Add graph to environment\n",
    "env.FG = FG\n",
    "\n",
    "# Add environment and path to the vessel\n",
    "vessel.env = env                                        #the created environment\n",
    "vessel.name = 'Vessel No.1'                     \n",
    "vessel.route = path                                     #the route (the sequence of nodes, as stored as the second column in the path)\n",
    "vessel.geometry = env.FG.nodes[path[0]]['geometry']     #a shapely.geometry.Point(lon,lat) (here taken as the starting node of the vessel)"
   ]
  },
  {
   "cell_type": "code",
   "execution_count": 8,
   "id": "4ffa9c12",
   "metadata": {},
   "outputs": [
    {
     "name": "stdout",
     "output_type": "stream",
     "text": [
      "minimal depth on route is: 2.5 m\n"
     ]
    }
   ],
   "source": [
    "h_min = np.inf\n",
    "for index, edge in enumerate(vessel.route[:-1]):\n",
    "    # step through each edge and adjust the minimum if it is lower than the previous minimum (start at inf)\n",
    "    h_min = np.min([h_min, FG.get_edge_data(vessel.route[index], vessel.route[index+1])[\"Info\"][\"GeneralDepth\"]])\n",
    "\n",
    "print('minimal depth on route is: {} m'.format(h_min))"
   ]
  },
  {
   "cell_type": "code",
   "execution_count": 9,
   "id": "631cf79c",
   "metadata": {},
   "outputs": [
    {
     "name": "stdout",
     "output_type": "stream",
     "text": [
      "The actual draft is 2.2 m\n",
      "The actual_max_load is 1513.1480875238644 ton\n",
      "2.2\n",
      "1513.1480875238644\n"
     ]
    }
   ],
   "source": [
    "#draught, payload = vessel.calculate_actual_T_and_payload(h_min, 0.3)\n",
    "draught, payload = vessel.calculate_actual_T_and_payload(h_min, 0.3, \"Dry\") #draught, payload = vessel.calculate_actual_T_and_payload(h_min, ukc, vesl_type)\n",
    "                                                                    #  should be \"Container\",\"Dry\",\"Barge\" or \"Tanker\"'\n",
    "print(draught)\n",
    "print(payload)"
   ]
  },
  {
   "cell_type": "code",
   "execution_count": 10,
   "id": "7d95695a",
   "metadata": {},
   "outputs": [],
   "source": [
    "# Start the simulation\n",
    "env.process(vessel.move())\n",
    "env.run()"
   ]
  },
  {
   "cell_type": "markdown",
   "id": "b9809901",
   "metadata": {},
   "source": [
    "### Output\n",
    "We can now analyse the output of the simulation, which consists of the log-file of the vessel. We got this log-file as we added the log mix-in of OpenTNSim. This log-file keeps track of the moving activities of the vessel, and at which time and location they occur. The log-file could also keep track of an additional value, such as waiting times, which are not included here in this simulation.\n",
    "\n",
    "As you can see, the vessel moves from its origin (*Node 1*) to its destination (*Node 4*) by passing *Node 2* and *Node 3* respectively. The time is calculated by the greater circle distance between the nodes, divided by the speed of the vessel.\n",
    "\n",
    "Using this log-file, we could for example plot a time-distance graph."
   ]
  },
  {
   "cell_type": "code",
   "execution_count": 11,
   "id": "25f6966b",
   "metadata": {},
   "outputs": [
    {
     "data": {
      "text/html": [
       "<div>\n",
       "<style scoped>\n",
       "    .dataframe tbody tr th:only-of-type {\n",
       "        vertical-align: middle;\n",
       "    }\n",
       "\n",
       "    .dataframe tbody tr th {\n",
       "        vertical-align: top;\n",
       "    }\n",
       "\n",
       "    .dataframe thead th {\n",
       "        text-align: right;\n",
       "    }\n",
       "</style>\n",
       "<table border=\"1\" class=\"dataframe\">\n",
       "  <thead>\n",
       "    <tr style=\"text-align: right;\">\n",
       "      <th></th>\n",
       "      <th>Message</th>\n",
       "      <th>Timestamp</th>\n",
       "      <th>Value</th>\n",
       "      <th>Geometry</th>\n",
       "    </tr>\n",
       "  </thead>\n",
       "  <tbody>\n",
       "    <tr>\n",
       "      <th>0</th>\n",
       "      <td>Sailing from node Node 1 to node Node 2 start</td>\n",
       "      <td>2021-06-09 14:34:55.000000</td>\n",
       "      <td>0</td>\n",
       "      <td>POINT (0 0)</td>\n",
       "    </tr>\n",
       "    <tr>\n",
       "      <th>1</th>\n",
       "      <td>Sailing from node Node 1 to node Node 2 stop</td>\n",
       "      <td>2021-06-09 22:31:05.942451</td>\n",
       "      <td>0</td>\n",
       "      <td>POINT (0.8983 0)</td>\n",
       "    </tr>\n",
       "    <tr>\n",
       "      <th>2</th>\n",
       "      <td>Sailing from node Node 2 to node Node 3 start</td>\n",
       "      <td>2021-06-09 22:31:05.942451</td>\n",
       "      <td>0</td>\n",
       "      <td>POINT (0.8983 0)</td>\n",
       "    </tr>\n",
       "    <tr>\n",
       "      <th>3</th>\n",
       "      <td>Sailing from node Node 2 to node Node 3 stop</td>\n",
       "      <td>2021-06-10 06:27:16.884902</td>\n",
       "      <td>0</td>\n",
       "      <td>POINT (1.7966 0)</td>\n",
       "    </tr>\n",
       "    <tr>\n",
       "      <th>4</th>\n",
       "      <td>Sailing from node Node 3 to node Node 4 start</td>\n",
       "      <td>2021-06-10 06:27:16.884902</td>\n",
       "      <td>0</td>\n",
       "      <td>POINT (1.7966 0)</td>\n",
       "    </tr>\n",
       "    <tr>\n",
       "      <th>5</th>\n",
       "      <td>Sailing from node Node 3 to node Node 4 stop</td>\n",
       "      <td>2021-06-10 14:23:27.827354</td>\n",
       "      <td>0</td>\n",
       "      <td>POINT (2.6949 0)</td>\n",
       "    </tr>\n",
       "  </tbody>\n",
       "</table>\n",
       "</div>"
      ],
      "text/plain": [
       "                                         Message                  Timestamp  \\\n",
       "0  Sailing from node Node 1 to node Node 2 start 2021-06-09 14:34:55.000000   \n",
       "1   Sailing from node Node 1 to node Node 2 stop 2021-06-09 22:31:05.942451   \n",
       "2  Sailing from node Node 2 to node Node 3 start 2021-06-09 22:31:05.942451   \n",
       "3   Sailing from node Node 2 to node Node 3 stop 2021-06-10 06:27:16.884902   \n",
       "4  Sailing from node Node 3 to node Node 4 start 2021-06-10 06:27:16.884902   \n",
       "5   Sailing from node Node 3 to node Node 4 stop 2021-06-10 14:23:27.827354   \n",
       "\n",
       "   Value          Geometry  \n",
       "0      0       POINT (0 0)  \n",
       "1      0  POINT (0.8983 0)  \n",
       "2      0  POINT (0.8983 0)  \n",
       "3      0  POINT (1.7966 0)  \n",
       "4      0  POINT (1.7966 0)  \n",
       "5      0  POINT (2.6949 0)  "
      ]
     },
     "execution_count": 11,
     "metadata": {},
     "output_type": "execute_result"
    }
   ],
   "source": [
    "df = pd.DataFrame.from_dict(vessel.log)\n",
    "df"
   ]
  },
  {
   "cell_type": "markdown",
   "id": "c61aa3a4",
   "metadata": {},
   "source": [
    "### Post processing: calculate energy consumptions and emissions"
   ]
  },
  {
   "cell_type": "code",
   "execution_count": 12,
   "id": "284ea583",
   "metadata": {},
   "outputs": [],
   "source": [
    "# create an EnergyCalculation object (graph FG and vessel are needed as input)\n",
    "energycalculation = opentnsim.energy.EnergyCalculation(FG, vessel)"
   ]
  },
  {
   "cell_type": "code",
   "execution_count": 13,
   "id": "de0f3f1a",
   "metadata": {},
   "outputs": [
    {
     "name": "stdout",
     "output_type": "stream",
     "text": [
      "delta_t: 28570.9425 s\n",
      "distance: 99998.2986 m\n",
      "velocity: 3.5000 m/s\n",
      "The total power required is 371.1320287538226 kW\n",
      "The actual total power given is 371.1320287538226 kW\n",
      "The partial load is 0.21207544500218437\n",
      "The construction year of the engine is 1990\n",
      "The general emission factor of CO2 is 698 g/kWh\n",
      "The general emission factor of PM10 is 0.4 g/kWh\n",
      "The general emission factor CO2 is 10.1 g/kWh\n",
      "The general fuel consumption factor is 220 g/kWh\n",
      "The total power required is 371.1320287538226 kW\n",
      "The actual total power given is 371.1320287538226 kW\n",
      "The partial load is 0.21207544500218437\n",
      "Correction factor of CO2 is 1.1451698219991262\n",
      "Correction factor of PM10 is 1.173094376996942\n",
      "Correction factor of NOX is 1.0903396439982527\n",
      "Correction factor of fuel consumption is 1.1451698219991262\n",
      "The total emission factor of CO2 is 799.3285357553901 g/kWh\n",
      "The total emission factor of PM10 is 0.46923775079877683 g/kWh\n",
      "The total emission factor CO2 is 11.012430404382352 g/kWh\n",
      "The total fuel consumption factor is 251.93736083980775 g/kWh\n",
      "delta_t: 28570.9425 s\n",
      "distance: 99998.2986 m\n",
      "velocity: 3.5000 m/s\n",
      "The total power required is 1375.322828823639 kW\n",
      "The actual total power given is 1375.322828823639 kW\n",
      "The partial load is 0.7858987593277936\n",
      "The construction year of the engine is 1990\n",
      "The general emission factor of CO2 is 698 g/kWh\n",
      "The general emission factor of PM10 is 0.4 g/kWh\n",
      "The general emission factor CO2 is 10.1 g/kWh\n",
      "The general fuel consumption factor is 220 g/kWh\n",
      "The total power required is 1375.322828823639 kW\n",
      "The actual total power given is 1375.322828823639 kW\n",
      "The partial load is 0.7858987593277936\n",
      "Correction factor of CO2 is 1.0\n",
      "Correction factor of PM10 is 0.98\n",
      "Correction factor of NOX is 0.9728202481344412\n",
      "Correction factor of fuel consumption is 1.0\n",
      "The total emission factor of CO2 is 698.0 g/kWh\n",
      "The total emission factor of PM10 is 0.392 g/kWh\n",
      "The total emission factor CO2 is 9.825484506157856 g/kWh\n",
      "The total fuel consumption factor is 220.0 g/kWh\n",
      "delta_t: 28570.9425 s\n",
      "distance: 99998.2986 m\n",
      "velocity: 3.5000 m/s\n",
      "The total power required is 371.1320287117176 kW\n",
      "The actual total power given is 371.1320287117176 kW\n",
      "The partial load is 0.21207544497812436\n",
      "The construction year of the engine is 1990\n",
      "The general emission factor of CO2 is 698 g/kWh\n",
      "The general emission factor of PM10 is 0.4 g/kWh\n",
      "The general emission factor CO2 is 10.1 g/kWh\n",
      "The general fuel consumption factor is 220 g/kWh\n",
      "The total power required is 371.1320287117176 kW\n",
      "The actual total power given is 371.1320287117176 kW\n",
      "The partial load is 0.21207544497812436\n",
      "Correction factor of CO2 is 1.14516982200875\n",
      "Correction factor of PM10 is 1.173094377030626\n",
      "Correction factor of NOX is 1.0903396440175006\n",
      "Correction factor of fuel consumption is 1.14516982200875\n",
      "The total emission factor of CO2 is 799.3285357621075 g/kWh\n",
      "The total emission factor of PM10 is 0.4692377508122504 g/kWh\n",
      "The total emission factor CO2 is 11.012430404576756 g/kWh\n",
      "The total fuel consumption factor is 251.937360841925 g/kWh\n"
     ]
    }
   ],
   "source": [
    "# we can now work out in hindsight what resistance, power, energy and emissions were generated\n",
    "energycalculation.calculate_energy_consumption()\n",
    "\n",
    "# ToDo:\n",
    "# - perhaps add to the printstatements which edge is sailed \n",
    "# - may be the print statements can be cleaned up (fewer significant digits)\n",
    "# - possibly even make it optional to print this, because the next cells show dataframes with the output\n",
    "# - etc"
   ]
  },
  {
   "cell_type": "code",
   "execution_count": 14,
   "id": "1e71780e",
   "metadata": {},
   "outputs": [],
   "source": [
    "df = pd.DataFrame.from_dict(energycalculation.energy_use)\n",
    "df['diesel_kg_km'] = df['total_fuel_consumption'] / df['distance']*1000\n",
    "df['CO2_g_km'] = df['total_emission_CO2'] / df['distance']*1000\n",
    "df['PM10_g_km'] = df['total_emission_PM10'] / df['distance']*1000\n",
    "df['NOX_g_km'] = df['total_emission_NOX'] / df['distance']*1000"
   ]
  },
  {
   "cell_type": "markdown",
   "id": "7062dae3",
   "metadata": {},
   "source": [
    "## Add current influence"
   ]
  },
  {
   "cell_type": "code",
   "execution_count": 15,
   "id": "6e5f4a42",
   "metadata": {},
   "outputs": [
    {
     "data": {
      "text/html": [
       "<div>\n",
       "<style scoped>\n",
       "    .dataframe tbody tr th:only-of-type {\n",
       "        vertical-align: middle;\n",
       "    }\n",
       "\n",
       "    .dataframe tbody tr th {\n",
       "        vertical-align: top;\n",
       "    }\n",
       "\n",
       "    .dataframe thead th {\n",
       "        text-align: right;\n",
       "    }\n",
       "</style>\n",
       "<table border=\"1\" class=\"dataframe\">\n",
       "  <thead>\n",
       "    <tr style=\"text-align: right;\">\n",
       "      <th></th>\n",
       "      <th>time_start</th>\n",
       "      <th>time_stop</th>\n",
       "      <th>edge_start</th>\n",
       "      <th>edge_stop</th>\n",
       "      <th>total_energy</th>\n",
       "      <th>total_fuel_consumption</th>\n",
       "      <th>total_emission_CO2</th>\n",
       "      <th>total_emission_PM10</th>\n",
       "      <th>total_emission_NOX</th>\n",
       "      <th>stationary</th>\n",
       "      <th>...</th>\n",
       "      <th>PM10_g_km</th>\n",
       "      <th>NOX_g_km</th>\n",
       "      <th>total_fuel_consumption_up_kg</th>\n",
       "      <th>total_emission_CO2_up_kg</th>\n",
       "      <th>total_emission_PM10_up_kg</th>\n",
       "      <th>total_emission_NOX_up_kg</th>\n",
       "      <th>total_fuel_consumption_down_kg</th>\n",
       "      <th>total_emission_CO2_down_kg</th>\n",
       "      <th>total_emission_PM10_down_kg</th>\n",
       "      <th>total_emission_NOX_down_kg</th>\n",
       "    </tr>\n",
       "  </thead>\n",
       "  <tbody>\n",
       "    <tr>\n",
       "      <th>0</th>\n",
       "      <td>2021-06-09 14:34:55.000000</td>\n",
       "      <td>2021-06-09 22:31:05.942451</td>\n",
       "      <td>POINT (0 0)</td>\n",
       "      <td>POINT (0.8983 0)</td>\n",
       "      <td>2945.442176</td>\n",
       "      <td>742.066928</td>\n",
       "      <td>2.354376e+06</td>\n",
       "      <td>1382.112662</td>\n",
       "      <td>32436.476978</td>\n",
       "      <td>0</td>\n",
       "      <td>...</td>\n",
       "      <td>13.821362</td>\n",
       "      <td>324.370289</td>\n",
       "      <td>865.744750</td>\n",
       "      <td>2746.771979</td>\n",
       "      <td>1.612465</td>\n",
       "      <td>37.842556</td>\n",
       "      <td>649.308562</td>\n",
       "      <td>2060.078984</td>\n",
       "      <td>1.209349</td>\n",
       "      <td>28.381917</td>\n",
       "    </tr>\n",
       "    <tr>\n",
       "      <th>1</th>\n",
       "      <td>2021-06-09 22:31:05.942451</td>\n",
       "      <td>2021-06-10 06:27:16.884902</td>\n",
       "      <td>POINT (0.8983 0)</td>\n",
       "      <td>POINT (1.7966 0)</td>\n",
       "      <td>10915.074832</td>\n",
       "      <td>2401.316463</td>\n",
       "      <td>7.618722e+06</td>\n",
       "      <td>4278.709334</td>\n",
       "      <td>107245.898642</td>\n",
       "      <td>0</td>\n",
       "      <td>...</td>\n",
       "      <td>42.787821</td>\n",
       "      <td>1072.477234</td>\n",
       "      <td>2801.535873</td>\n",
       "      <td>8888.509271</td>\n",
       "      <td>4.991828</td>\n",
       "      <td>125.120215</td>\n",
       "      <td>2101.151905</td>\n",
       "      <td>6666.381953</td>\n",
       "      <td>3.743871</td>\n",
       "      <td>93.840161</td>\n",
       "    </tr>\n",
       "    <tr>\n",
       "      <th>2</th>\n",
       "      <td>2021-06-10 06:27:16.884902</td>\n",
       "      <td>2021-06-10 14:23:27.827354</td>\n",
       "      <td>POINT (1.7966 0)</td>\n",
       "      <td>POINT (2.6949 0)</td>\n",
       "      <td>2945.442176</td>\n",
       "      <td>742.066928</td>\n",
       "      <td>2.354376e+06</td>\n",
       "      <td>1382.112662</td>\n",
       "      <td>32436.476976</td>\n",
       "      <td>0</td>\n",
       "      <td>...</td>\n",
       "      <td>13.821362</td>\n",
       "      <td>324.370289</td>\n",
       "      <td>865.744750</td>\n",
       "      <td>2746.771979</td>\n",
       "      <td>1.612465</td>\n",
       "      <td>37.842556</td>\n",
       "      <td>649.308562</td>\n",
       "      <td>2060.078984</td>\n",
       "      <td>1.209349</td>\n",
       "      <td>28.381917</td>\n",
       "    </tr>\n",
       "  </tbody>\n",
       "</table>\n",
       "<p>3 rows × 25 columns</p>\n",
       "</div>"
      ],
      "text/plain": [
       "                  time_start                  time_stop        edge_start  \\\n",
       "0 2021-06-09 14:34:55.000000 2021-06-09 22:31:05.942451       POINT (0 0)   \n",
       "1 2021-06-09 22:31:05.942451 2021-06-10 06:27:16.884902  POINT (0.8983 0)   \n",
       "2 2021-06-10 06:27:16.884902 2021-06-10 14:23:27.827354  POINT (1.7966 0)   \n",
       "\n",
       "          edge_stop  total_energy  total_fuel_consumption  total_emission_CO2  \\\n",
       "0  POINT (0.8983 0)   2945.442176              742.066928        2.354376e+06   \n",
       "1  POINT (1.7966 0)  10915.074832             2401.316463        7.618722e+06   \n",
       "2  POINT (2.6949 0)   2945.442176              742.066928        2.354376e+06   \n",
       "\n",
       "   total_emission_PM10  total_emission_NOX  stationary  ...  PM10_g_km  \\\n",
       "0          1382.112662        32436.476978           0  ...  13.821362   \n",
       "1          4278.709334       107245.898642           0  ...  42.787821   \n",
       "2          1382.112662        32436.476976           0  ...  13.821362   \n",
       "\n",
       "      NOX_g_km  total_fuel_consumption_up_kg  total_emission_CO2_up_kg  \\\n",
       "0   324.370289                    865.744750               2746.771979   \n",
       "1  1072.477234                   2801.535873               8888.509271   \n",
       "2   324.370289                    865.744750               2746.771979   \n",
       "\n",
       "   total_emission_PM10_up_kg  total_emission_NOX_up_kg  \\\n",
       "0                   1.612465                 37.842556   \n",
       "1                   4.991828                125.120215   \n",
       "2                   1.612465                 37.842556   \n",
       "\n",
       "   total_fuel_consumption_down_kg  total_emission_CO2_down_kg  \\\n",
       "0                      649.308562                 2060.078984   \n",
       "1                     2101.151905                 6666.381953   \n",
       "2                      649.308562                 2060.078984   \n",
       "\n",
       "   total_emission_PM10_down_kg  total_emission_NOX_down_kg  \n",
       "0                     1.209349                   28.381917  \n",
       "1                     3.743871                   93.840161  \n",
       "2                     1.209349                   28.381917  \n",
       "\n",
       "[3 rows x 25 columns]"
      ]
     },
     "execution_count": 15,
     "metadata": {},
     "output_type": "execute_result"
    }
   ],
   "source": [
    "# with current speed =0.5m/s\n",
    "V_cur=0.5 \n",
    "# delta_t will be longer when upstream, shorter when downstream\n",
    "delta_t_up=df['distance']/(df['distance']/df['delta_t']-V_cur)\n",
    "delta_t_down=df['distance']/(df['distance']/df['delta_t']+V_cur)\n",
    "# total emission&fuel consumption will be large when upstream(because of longer delta_t), shorter when downstream(because of shorter delta_t)\n",
    "df['total_fuel_consumption_up_kg']=df['total_fuel_consumption'] *(delta_t_up/df['delta_t']) #kg\n",
    "df['total_emission_CO2_up_kg']=df['total_emission_CO2'] *(delta_t_up/df['delta_t'])/1000 #kg\n",
    "df['total_emission_PM10_up_kg']=df['total_emission_PM10'] *(delta_t_up/df['delta_t'])/1000 #kg\n",
    "df['total_emission_NOX_up_kg']=df['total_emission_NOX'] *(delta_t_up/df['delta_t'])/1000 #kg\n",
    "df['total_fuel_consumption_down_kg']=df['total_fuel_consumption'] *(delta_t_down/df['delta_t']) #kg\n",
    "df['total_emission_CO2_down_kg']=df['total_emission_CO2'] *(delta_t_down/df['delta_t'])/1000 #kg\n",
    "df['total_emission_PM10_down_kg']=df['total_emission_PM10'] *(delta_t_down/df['delta_t'])/1000 #kg\n",
    "df['total_emission_NOX_down_kg']=df['total_emission_NOX'] *(delta_t_down/df['delta_t'])/1000 #kg\n",
    "\n",
    "df.head()"
   ]
  },
  {
   "cell_type": "markdown",
   "id": "016dc7ed",
   "metadata": {},
   "source": [
    "### fuel consumption "
   ]
  },
  {
   "cell_type": "code",
   "execution_count": 16,
   "id": "e1c72034",
   "metadata": {},
   "outputs": [
    {
     "data": {
      "text/html": [
       "<div>\n",
       "<style scoped>\n",
       "    .dataframe tbody tr th:only-of-type {\n",
       "        vertical-align: middle;\n",
       "    }\n",
       "\n",
       "    .dataframe tbody tr th {\n",
       "        vertical-align: top;\n",
       "    }\n",
       "\n",
       "    .dataframe thead th {\n",
       "        text-align: right;\n",
       "    }\n",
       "</style>\n",
       "<table border=\"1\" class=\"dataframe\">\n",
       "  <thead>\n",
       "    <tr style=\"text-align: right;\">\n",
       "      <th></th>\n",
       "      <th>single trip - no current, either way</th>\n",
       "      <th>single trip - upstream</th>\n",
       "      <th>single trip - downstream</th>\n",
       "      <th>round trip - no current</th>\n",
       "      <th>round trip - current</th>\n",
       "    </tr>\n",
       "  </thead>\n",
       "  <tbody>\n",
       "    <tr>\n",
       "      <th>0</th>\n",
       "      <td>3885.45032</td>\n",
       "      <td>4533.025373</td>\n",
       "      <td>3399.76903</td>\n",
       "      <td>7770.90064</td>\n",
       "      <td>7932.794403</td>\n",
       "    </tr>\n",
       "  </tbody>\n",
       "</table>\n",
       "</div>"
      ],
      "text/plain": [
       "   single trip - no current, either way  single trip - upstream  \\\n",
       "0                            3885.45032             4533.025373   \n",
       "\n",
       "   single trip - downstream  round trip - no current  round trip - current  \n",
       "0                3399.76903               7770.90064           7932.794403  "
      ]
     },
     "execution_count": 16,
     "metadata": {},
     "output_type": "execute_result"
    }
   ],
   "source": [
    "# total emission&fuel consumption in trip, maximum loaded all the time\n",
    "fuel_single_no= df['total_fuel_consumption'].sum() #kg\n",
    "fuel_single_up=df['total_fuel_consumption_up_kg'].sum() #kg\n",
    "fuel_single_down=df['total_fuel_consumption_down_kg'].sum() #kg\n",
    "fuel_round_no=fuel_single_no*2 #kg, maximum loaded going and returning\n",
    "fuel_round_updown=fuel_single_up+fuel_single_down #kg, maximum loaded going and returning\n",
    "# make a list of Tuples\n",
    "current_influence_f=[(fuel_single_no,fuel_single_up,fuel_single_down,fuel_round_no,fuel_round_updown)]\n",
    "# Create a DataFrame object\n",
    "dfuel = pd.DataFrame(current_influence_f,\n",
    "                  columns=['single trip - no current, either way', 'single trip - upstream',\n",
    "                    'single trip - downstream', 'round trip - no current', 'round trip - current'])\n",
    "dfuel.head()"
   ]
  },
  {
   "cell_type": "code",
   "execution_count": 17,
   "id": "11f852b8",
   "metadata": {},
   "outputs": [
    {
     "data": {
      "image/png": "[encoded data removed]",
      "text/plain": [
       "<Figure size 792x216 with 1 Axes>"
      ]
     },
     "metadata": {
      "needs_background": "light"
     },
     "output_type": "display_data"
    }
   ],
   "source": [
    "fig, axs = plt.subplots( figsize=(11, 3), constrained_layout=True)\n",
    "dfuel.iloc[0,:].plot.bar(color= '#ad900d',rot=0)\n",
    "plt.ylabel('fuel consumption (kg)')\n",
    "plt.show()"
   ]
  },
  {
   "cell_type": "markdown",
   "id": "627b0769",
   "metadata": {},
   "source": [
    "### CO2"
   ]
  },
  {
   "cell_type": "code",
   "execution_count": 18,
   "id": "41968b65",
   "metadata": {},
   "outputs": [
    {
     "data": {
      "text/html": [
       "<div>\n",
       "<style scoped>\n",
       "    .dataframe tbody tr th:only-of-type {\n",
       "        vertical-align: middle;\n",
       "    }\n",
       "\n",
       "    .dataframe tbody tr th {\n",
       "        vertical-align: top;\n",
       "    }\n",
       "\n",
       "    .dataframe thead th {\n",
       "        text-align: right;\n",
       "    }\n",
       "</style>\n",
       "<table border=\"1\" class=\"dataframe\">\n",
       "  <thead>\n",
       "    <tr style=\"text-align: right;\">\n",
       "      <th></th>\n",
       "      <th>single trip - no current, either way</th>\n",
       "      <th>single trip - upstream</th>\n",
       "      <th>single trip - downstream</th>\n",
       "      <th>round trip - no current</th>\n",
       "      <th>round trip - current</th>\n",
       "    </tr>\n",
       "  </thead>\n",
       "  <tbody>\n",
       "    <tr>\n",
       "      <th>0</th>\n",
       "      <td>12327.474196</td>\n",
       "      <td>14382.053229</td>\n",
       "      <td>10786.539922</td>\n",
       "      <td>24654.948393</td>\n",
       "      <td>25168.593151</td>\n",
       "    </tr>\n",
       "  </tbody>\n",
       "</table>\n",
       "</div>"
      ],
      "text/plain": [
       "   single trip - no current, either way  single trip - upstream  \\\n",
       "0                          12327.474196            14382.053229   \n",
       "\n",
       "   single trip - downstream  round trip - no current  round trip - current  \n",
       "0              10786.539922             24654.948393          25168.593151  "
      ]
     },
     "execution_count": 18,
     "metadata": {},
     "output_type": "execute_result"
    }
   ],
   "source": [
    "CO2_single_no= df['total_emission_CO2'].sum()/1000 #kg\n",
    "CO2_single_up=df['total_emission_CO2_up_kg'].sum()#kg\n",
    "CO2_single_down=df['total_emission_CO2_down_kg'].sum() #kg\n",
    "CO2_round_no=CO2_single_no*2 #kg, maximum loaded going and returning\n",
    "CO2_round_updown=CO2_single_up+CO2_single_down #kg, maximum loaded going and returning\n",
    "# make a list of Tuples\n",
    "current_influence_CO2=[(CO2_single_no,CO2_single_up,CO2_single_down,CO2_round_no,CO2_round_updown)]\n",
    "# Create a DataFrame object\n",
    "dfCO2 = pd.DataFrame(current_influence_CO2,\n",
    "                  columns=['single trip - no current, either way', 'single trip - upstream',\n",
    "                    'single trip - downstream', 'round trip - no current', 'round trip - current'])\n",
    "dfCO2.head()"
   ]
  },
  {
   "cell_type": "code",
   "execution_count": 19,
   "id": "b760d1f1",
   "metadata": {},
   "outputs": [
    {
     "data": {
      "image/png": "[encoded data removed]",
      "text/plain": [
       "<Figure size 792x216 with 1 Axes>"
      ]
     },
     "metadata": {
      "needs_background": "light"
     },
     "output_type": "display_data"
    }
   ],
   "source": [
    "fig, axs = plt.subplots( figsize=(11, 3), constrained_layout=True)\n",
    "dfCO2.iloc[0,:].plot.bar(color= '#f97306',rot=0)\n",
    "plt.ylabel('Total CO2 emission (kg)')\n",
    "plt.show()"
   ]
  },
  {
   "cell_type": "markdown",
   "id": "e4ede774",
   "metadata": {},
   "source": [
    "### PM10"
   ]
  },
  {
   "cell_type": "code",
   "execution_count": 20,
   "id": "08e3f2f3",
   "metadata": {},
   "outputs": [
    {
     "data": {
      "text/html": [
       "<div>\n",
       "<style scoped>\n",
       "    .dataframe tbody tr th:only-of-type {\n",
       "        vertical-align: middle;\n",
       "    }\n",
       "\n",
       "    .dataframe tbody tr th {\n",
       "        vertical-align: top;\n",
       "    }\n",
       "\n",
       "    .dataframe thead th {\n",
       "        text-align: right;\n",
       "    }\n",
       "</style>\n",
       "<table border=\"1\" class=\"dataframe\">\n",
       "  <thead>\n",
       "    <tr style=\"text-align: right;\">\n",
       "      <th></th>\n",
       "      <th>single trip - no current, either way</th>\n",
       "      <th>single trip - upstream</th>\n",
       "      <th>single trip - downstream</th>\n",
       "      <th>round trip - no current</th>\n",
       "      <th>round trip - current</th>\n",
       "    </tr>\n",
       "  </thead>\n",
       "  <tbody>\n",
       "    <tr>\n",
       "      <th>0</th>\n",
       "      <td>7.042935</td>\n",
       "      <td>8.216757</td>\n",
       "      <td>6.162568</td>\n",
       "      <td>14.085869</td>\n",
       "      <td>14.379325</td>\n",
       "    </tr>\n",
       "  </tbody>\n",
       "</table>\n",
       "</div>"
      ],
      "text/plain": [
       "   single trip - no current, either way  single trip - upstream  \\\n",
       "0                              7.042935                8.216757   \n",
       "\n",
       "   single trip - downstream  round trip - no current  round trip - current  \n",
       "0                  6.162568                14.085869             14.379325  "
      ]
     },
     "execution_count": 20,
     "metadata": {},
     "output_type": "execute_result"
    }
   ],
   "source": [
    "PM10_single_no= df['total_emission_PM10'].sum()/1000 #kg\n",
    "PM10_single_up=df['total_emission_PM10_up_kg'].sum() #kg\n",
    "PM10_single_down=df['total_emission_PM10_down_kg'].sum() #kg\n",
    "PM10_round_no=PM10_single_no*2 #kg, maximum loaded going and returning \n",
    "PM10_round_updown=PM10_single_up + PM10_single_down #kg, maximum loaded going and returning\n",
    "# make a list of Tuples\n",
    "current_influence_PM10=[(PM10_single_no,PM10_single_up,PM10_single_down,PM10_round_no,PM10_round_updown)]\n",
    "# Create a DataFrame object\n",
    "dfPM10 = pd.DataFrame(current_influence_PM10,\n",
    "                      columns=['single trip - no current, either way', 'single trip - upstream',\n",
    "                    'single trip - downstream', 'round trip - no current', 'round trip - current'])\n",
    "                 \n",
    "dfPM10.head()"
   ]
  },
  {
   "cell_type": "code",
   "execution_count": 21,
   "id": "65741958",
   "metadata": {},
   "outputs": [
    {
     "data": {
      "image/png": "[encoded data removed]",
      "text/plain": [
       "<Figure size 792x216 with 1 Axes>"
      ]
     },
     "metadata": {
      "needs_background": "light"
     },
     "output_type": "display_data"
    }
   ],
   "source": [
    "fig, axs = plt.subplots( figsize=(11, 3), constrained_layout=True)\n",
    "dfPM10.iloc[0,:].plot.bar(color= '#7bf2da',rot=0)\n",
    "plt.ylabel('Total PM10 emission (kg)')\n",
    "plt.show()"
   ]
  },
  {
   "cell_type": "markdown",
   "id": "b536fc17",
   "metadata": {},
   "source": [
    "### NOX"
   ]
  },
  {
   "cell_type": "code",
   "execution_count": 22,
   "id": "da992a3e",
   "metadata": {},
   "outputs": [
    {
     "data": {
      "text/html": [
       "<div>\n",
       "<style scoped>\n",
       "    .dataframe tbody tr th:only-of-type {\n",
       "        vertical-align: middle;\n",
       "    }\n",
       "\n",
       "    .dataframe tbody tr th {\n",
       "        vertical-align: top;\n",
       "    }\n",
       "\n",
       "    .dataframe thead th {\n",
       "        text-align: right;\n",
       "    }\n",
       "</style>\n",
       "<table border=\"1\" class=\"dataframe\">\n",
       "  <thead>\n",
       "    <tr style=\"text-align: right;\">\n",
       "      <th></th>\n",
       "      <th>single trip - no current, either way</th>\n",
       "      <th>single trip - upstream</th>\n",
       "      <th>single trip - downstream</th>\n",
       "      <th>round trip - no current</th>\n",
       "      <th>round trip - current</th>\n",
       "    </tr>\n",
       "  </thead>\n",
       "  <tbody>\n",
       "    <tr>\n",
       "      <th>0</th>\n",
       "      <td>172.118853</td>\n",
       "      <td>200.805328</td>\n",
       "      <td>150.603996</td>\n",
       "      <td>344.237705</td>\n",
       "      <td>351.409324</td>\n",
       "    </tr>\n",
       "  </tbody>\n",
       "</table>\n",
       "</div>"
      ],
      "text/plain": [
       "   single trip - no current, either way  single trip - upstream  \\\n",
       "0                            172.118853              200.805328   \n",
       "\n",
       "   single trip - downstream  round trip - no current  round trip - current  \n",
       "0                150.603996               344.237705            351.409324  "
      ]
     },
     "execution_count": 22,
     "metadata": {},
     "output_type": "execute_result"
    }
   ],
   "source": [
    "NOX_single_no= df['total_emission_NOX'].sum()/1000 #kg\n",
    "NOX_single_up=df['total_emission_NOX_up_kg'].sum() #kg\n",
    "NOX_single_down=df['total_emission_NOX_down_kg'].sum() #kg\n",
    "NOX_round_no=NOX_single_no*2 #kg, maximum loaded going and returning\n",
    "NOX_round_updown=NOX_single_up+NOX_single_down #kg, maximum loaded going and returning\n",
    "# make a list of Tuples\n",
    "current_influence_NOX=[(NOX_single_no,NOX_single_up,NOX_single_down,NOX_round_no,NOX_round_updown)]\n",
    "# Create a DataFrame object\n",
    "dfNOX = pd.DataFrame(current_influence_NOX,\n",
    "                     columns=['single trip - no current, either way', 'single trip - upstream',\n",
    "                    'single trip - downstream', 'round trip - no current', 'round trip - current'])\n",
    "                  \n",
    "dfNOX.head()"
   ]
  },
  {
   "cell_type": "code",
   "execution_count": 23,
   "id": "121cf0a0",
   "metadata": {},
   "outputs": [
    {
     "data": {
      "image/png": "[encoded data removed]",
      "text/plain": [
       "<Figure size 792x216 with 1 Axes>"
      ]
     },
     "metadata": {
      "needs_background": "light"
     },
     "output_type": "display_data"
    }
   ],
   "source": [
    "fig, axs = plt.subplots( figsize=(11, 3), constrained_layout=True)\n",
    "dfNOX.iloc[0,:].plot.bar(color= '#ff69af',rot=0)\n",
    "plt.ylabel('Total NOx emission (kg)')\n",
    "plt.show()"
   ]
  },
  {
   "cell_type": "markdown",
   "id": "2ba9b01f",
   "metadata": {},
   "source": [
    "## Figure: \n",
    "### a waterway with water depth=6m, total distance=300km, and an 100km long shallow part(water depth=2.5m) in the center"
   ]
  },
  {
   "cell_type": "code",
   "execution_count": 25,
   "id": "1b02cf80",
   "metadata": {},
   "outputs": [
    {
     "data": {
      "image/png": "[encoded data removed]",
      "text/plain": [
       "<Figure size 1008x864 with 4 Axes>"
      ]
     },
     "metadata": {
      "needs_background": "light"
     },
     "output_type": "display_data"
    }
   ],
   "source": [
    "fig, axs = plt.subplots(4, 1, figsize=(14, 12), constrained_layout=True)\n",
    "fontsize=15\n",
    "\n",
    "plt.subplot(411)\n",
    "dfuel.iloc[0,:].plot.bar(color= '#ad900d',rot=0,fontsize=12)\n",
    "plt.ylabel('fuel consumption (kg)',fontsize=15)\n",
    "plt.subplot(412)\n",
    "dfCO2.iloc[0,:].plot.bar(color= '#f97306',rot=0,fontsize=12)\n",
    "plt.ylabel('Total CO2 emission (kg)',fontsize=15)\n",
    "plt.subplot(413)\n",
    "dfPM10.iloc[0,:].plot.bar(color= '#7bf2da',rot=0,fontsize=12)\n",
    "plt.ylabel('Total PM10 emission (kg)',fontsize=15)\n",
    "plt.subplot(414)\n",
    "dfNOX.iloc[0,:].plot.bar(color= '#ff69af',rot=0,fontsize=12)\n",
    "plt.ylabel('Total NOx emission (kg)',fontsize=15)\n",
    "\n",
    "plt.figtext(0.03, -0.02,'M8 vessel sailing between inland terminal and sea port with( or without)\\\n",
    "mild current 0.5m/s( from inland terminal to sea port).',fontsize=12)\n",
    "plt.figtext(0.03, -0.035,'The Waterway is with water depth=6m, total distance=300km, and an 100km long \\\n",
    "shallow part(water depth=2.5m) in the center',fontsize=12)\n",
    "plt.figtext(0.03, -0.05,'Without current: V_to_water=V_to_ground=3.5m/s;\\\n",
    "downstream: V_to_water=3.5m/s, V_to_ground=4m/s; upstream: V_to_water=3.5m/s, V_to_ground=3m/s.',fontsize=12)\n",
    "\n",
    "plt.show()"
   ]
  },
  {
   "cell_type": "code",
   "execution_count": null,
   "id": "0b15d8aa",
   "metadata": {},
   "outputs": [],
   "source": []
  },
  {
   "cell_type": "code",
   "execution_count": null,
   "id": "773e0d3a",
   "metadata": {},
   "outputs": [],
   "source": []
  }
 ],
 "metadata": {
  "kernelspec": {
   "display_name": "Python 3",
   "language": "python",
   "name": "python3"
  },
  "language_info": {
   "codemirror_mode": {
    "name": "ipython",
    "version": 3
   },
   "file_extension": ".py",
   "mimetype": "text/x-python",
   "name": "python",
   "nbconvert_exporter": "python",
   "pygments_lexer": "ipython3",
   "version": "3.9.4"
  }
 },
 "nbformat": 4,
 "nbformat_minor": 5
}
