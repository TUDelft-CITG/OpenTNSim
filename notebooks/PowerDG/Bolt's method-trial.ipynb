{
 "cells": [
  {
   "cell_type": "code",
   "execution_count": 1,
   "id": "c113c387",
   "metadata": {},
   "outputs": [
    {
     "ename": "ModuleNotFoundError",
     "evalue": "No module named 'opentnsim'",
     "output_type": "error",
     "traceback": [
      "\u001b[1;31m---------------------------------------------------------------------------\u001b[0m",
      "\u001b[1;31mModuleNotFoundError\u001b[0m                       Traceback (most recent call last)",
      "Cell \u001b[1;32mIn [1], line 28\u001b[0m\n\u001b[0;32m     25\u001b[0m \u001b[38;5;28;01mfrom\u001b[39;00m \u001b[38;5;21;01msimplekml\u001b[39;00m \u001b[38;5;28;01mimport\u001b[39;00m Kml, Style\n\u001b[0;32m     27\u001b[0m \u001b[38;5;66;03m# OpenTNSim\u001b[39;00m\n\u001b[1;32m---> 28\u001b[0m \u001b[38;5;28;01mimport\u001b[39;00m \u001b[38;5;21;01mopentnsim\u001b[39;00m\n",
      "\u001b[1;31mModuleNotFoundError\u001b[0m: No module named 'opentnsim'"
     ]
    }
   ],
   "source": [
    "# package(s) related to time, space and id\n",
    "import datetime\n",
    "\n",
    "# Used for mathematical functions\n",
    "import math\n",
    "import platform\n",
    "import time\n",
    "\n",
    "import matplotlib.pyplot as plt\n",
    "\n",
    "# Used for making the graph to visualize our problem\n",
    "import networkx as nx\n",
    "\n",
    "# package(s) for data handling\n",
    "import numpy as np\n",
    "import pandas as pd\n",
    "\n",
    "# spatial libraries\n",
    "import pyproj\n",
    "import shapely.geometry\n",
    "\n",
    "# you need these dependencies (you can get these from anaconda)\n",
    "# package(s) related to the simulation\n",
    "import simpy\n",
    "from simplekml import Kml, Style\n",
    "\n",
    "# OpenTNSim\n",
    "import opentnsim"
   ]
  },
  {
   "cell_type": "code",
   "execution_count": null,
   "id": "114903c8",
   "metadata": {},
   "outputs": [],
   "source": [
    "def Rf (ρ,V,cf,S):\n",
    "    print (\" Density: \", ρ)\n",
    "    print (\" Velocity: \", V)\n",
    "    print (\" Frictional coefficient: \", cf)\n",
    "    print (\" Wetsurface : \", S)\n",
    "    Rfrictional = 0.5 * ρ *(V^2) * cf * S\n",
    "    return Rfrictional"
   ]
  },
  {
   "cell_type": "code",
   "execution_count": null,
   "id": "ebbd1908",
   "metadata": {},
   "outputs": [],
   "source": [
    "Frictionalresistance = Rf (1000, 3, 0.15, 400)\n",
    "print ( Frictionalresistance )"
   ]
  },
  {
   "cell_type": "code",
   "execution_count": null,
   "id": "1174f8be",
   "metadata": {},
   "outputs": [],
   "source": [
    "def Rp (ρ,V,cp,Am):\n",
    "    print (\" Density: \", ρ)\n",
    "    print (\" Velocity: \", V)\n",
    "    print (\" Frictional coefficient: \", cp)\n",
    "    print (\" Midship immersed part : \", Am)\n",
    "    Rpressure = 0.5 * ρ *(V ^ 2) * cp * Am\n",
    "    return Rpressure"
   ]
  },
  {
   "cell_type": "code",
   "execution_count": null,
   "id": "5f380c96",
   "metadata": {},
   "outputs": [],
   "source": [
    "Pressureresistance = Rp (1000, 3, 0.1, 240)\n",
    "print ( Pressureresistance )"
   ]
  },
  {
   "cell_type": "code",
   "execution_count": null,
   "id": "bcb9f4e9",
   "metadata": {},
   "outputs": [],
   "source": [
    "# Shallow water effect- Waterlevel depression\n",
    "# Based on Schijf theory\n",
    "\n",
    "def Rz (ρ,g,z,cz,Am):\n",
    "    print (\" Density: \", ρ)\n",
    "    print (\" Gravitational acceleration: \", g)\n",
    "    print (\" Depression: \", z)\n",
    "    print (\" Depression coefficient: \", cz)\n",
    "    print (\" Midship immersed part : \", Am)\n",
    "    Rshallow = ρ *g *z * cz * Am\n",
    "    return Rz"
   ]
  },
  {
   "cell_type": "code",
   "execution_count": null,
   "id": "7b83f39d",
   "metadata": {},
   "outputs": [],
   "source": [
    "Shallowresistance = Rz (1000, 9.81, 0.5, 0.1, 240)\n",
    "print ( Shallowresistance )"
   ]
  },
  {
   "cell_type": "code",
   "execution_count": null,
   "id": "23128af3",
   "metadata": {},
   "outputs": [],
   "source": [
    "# "
   ]
  }
 ],
 "metadata": {
  "kernelspec": {
   "display_name": "Python 3 (ipykernel)",
   "language": "python",
   "name": "python3"
  },
  "language_info": {
   "codemirror_mode": {
    "name": "ipython",
    "version": 3
   },
   "file_extension": ".py",
   "mimetype": "text/x-python",
   "name": "python",
   "nbconvert_exporter": "python",
   "pygments_lexer": "ipython3",
   "version": "3.9.13"
  }
 },
 "nbformat": 4,
 "nbformat_minor": 5
}
