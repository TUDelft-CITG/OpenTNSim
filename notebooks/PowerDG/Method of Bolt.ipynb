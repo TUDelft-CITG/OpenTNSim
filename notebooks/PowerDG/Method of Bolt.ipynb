{
 "cells": [
  {
   "cell_type": "code",
   "execution_count": 1,
   "id": "c113c387",
   "metadata": {},
   "outputs": [],
   "source": [
    "# package(s) related to time, space and id\n",
    "import datetime\n",
    "\n",
    "# Used for mathematical functions\n",
    "import math\n",
    "import platform\n",
    "import time\n",
    "\n",
    "import matplotlib.pyplot as plt\n",
    "\n",
    "# Used for making the graph to visualize our problem\n",
    "import networkx as nx\n",
    "\n",
    "# package(s) for data handling\n",
    "import numpy as np\n",
    "import pandas as pd\n",
    "import matplotlib.pyplot as plt\n",
    "\n",
    "# spatial libraries\n",
    "import pyproj\n",
    "import shapely.geometry\n",
    "\n",
    "# you need these dependencies (you can get these from anaconda)\n",
    "# package(s) related to the simulation\n",
    "import simpy\n",
    "from simplekml import Kml, Style\n",
    "\n",
    "# OpenTNSim\n",
    "import opentnsim"
   ]
  },
  {
   "cell_type": "code",
   "execution_count": 2,
   "id": "114ddf49-aa33-44be-83ba-92a8166fd2fe",
   "metadata": {},
   "outputs": [],
   "source": [
    "# V=ship velocity(VOG) or deep water velocity no current velocity was taking into account\n",
    "# Urel=V+Ur\n",
    "# Urel= 1/1-exp(4*(1-h/T))\n",
    "# Am=midship cross section\n",
    "# Ac=channel cross section\n",
    "# T=ship draft"
   ]
  },
  {
   "cell_type": "code",
   "execution_count": 3,
   "id": "aacf72df-74f5-471b-baac-15316b9f5acc",
   "metadata": {},
   "outputs": [
    {
     "name": "stdout",
     "output_type": "stream",
     "text": [
      "[ 3.   3.5  4.   5.5  7.  10. ]\n",
      "3.0 visible effect on ship\n",
      "3.5 not effect on ship\n",
      "4.0 not effect on ship\n",
      "5.5 not effect on ship\n",
      "7.0 not effect on ship\n",
      "10.0 not effect on ship\n",
      "S= 1856.25 m^2\n",
      "urel=V+Ur\n",
      "urel=V+Ur\n",
      "urel=V+Ur\n",
      "urel=V+Ur\n",
      "urel=V+Ur\n",
      "urel=V+Ur\n",
      "Frh [0.55300126 0.51197969 0.47891314 0.4084185  0.36202431 0.30289127]\n",
      "<function subcritical_or_supercritical at 0x000001A09BED2A60>\n",
      "None\n",
      "Ur= [ -3.64626335  -3.84513385  -4.06694893  -4.91808     -6.21974909\n",
      " -13.21496131] m/s\n",
      "Veff= [3.00100673 3.00013621 3.00001843 3.00000005 3.         3.        ] m/s\n",
      "Urel= [ -0.64626335  -0.84513385  -1.06694893  -1.91808     -3.21974909\n",
      " -10.21496131] m/s\n"
     ]
    }
   ],
   "source": [
    "V=3\n",
    "Bc=np.any([100])\n",
    "h = np.array([3, 3.5 ,4, 5.5, 7, 10])\n",
    "T = np.any([2.5])\n",
    "r=h/T\n",
    "print(r)\n",
    "\n",
    "#Classification of water\n",
    "for i in range(len(r)):\n",
    "    if r[i] > 3:\n",
    "        print(r[i], \"not effect on ship\")\n",
    "    elif r[i] <= 3 and r[i]>1.5:\n",
    "        print(r[i], \"visible effect on ship\")\n",
    "    elif r[i] <=1.5 and r[i]>1.2:\n",
    "        print(r[i], \"very significant effect on ships\")\n",
    "    else:\n",
    "        print(r[i], \"water motion dominates ship\") \n",
    "        \n",
    "# Blockage coefficient Am/Ac\n",
    "Bs=11.75\n",
    "Ls=135\n",
    "S=Bs*Ls+2*Ls*T\n",
    "print('S=',S,'m^2')\n",
    "Am=Bs*T\n",
    "Ac=Bc*h\n",
    "Blockage=Am/Ac\n",
    "for i in range(len(Blockage)):\n",
    "    if Blockage[i] <= 0.1:\n",
    "        print(\"very wide channel Urel=Veff\")\n",
    "    else:\n",
    "        print(\"urel=V+Ur\") \n",
    "    \n",
    "# Froude number\n",
    "def get_Frh ():\n",
    "        return V / np.sqrt(h*9.81)   \n",
    "Frh = get_Frh () \n",
    "print('Frh', Frh)\n",
    "\n",
    "# Frh<1 subcritical dn > dcritical\n",
    "# Frh>1 supercritical dn < dcritical\n",
    "def subcritical_or_supercritical (Frh):\n",
    "    \"\"\"Check flow\"\"\"\n",
    "    if  np.all(Frh)<1:\n",
    "        return \"subcritical\" \n",
    "    if  np.all(Frh)<0.65: \n",
    "        return\"desirable condition\"\n",
    "    if  np.all(Frh)>1: # supercritical flow \n",
    "        return \"unstable\"\n",
    "    print(subcritical_or_supercritical)\n",
    "    return\n",
    "Flow_type = subcritical_or_supercritical (Frh)\n",
    "print (Flow_type)\n",
    "\n",
    "# Return flow velocity\n",
    "def get_Ur ():  \n",
    "    return (Blockage/(1-(Blockage)-(Frh**2)))*V\n",
    "Ur = get_Ur ()\n",
    "print('Ur=', Ur, 'm/s')\n",
    "\n",
    "# Effective velocity\n",
    "def get_Veff (): \n",
    "    return V/(1-np.exp(4*(1- r)))\n",
    "Veff = get_Veff ()\n",
    "print('Veff=', Veff, 'm/s') \n",
    "\n",
    "# Relative velocity\n",
    "def get_Urel ():\n",
    "    if np.all(Blockage) <=0.1:\n",
    "        Urel= Veff\n",
    "    else:\n",
    "        Urel=  V + Ur\n",
    "    return Urel\n",
    "Urel = get_Urel ()\n",
    "print('Urel=', Urel, 'm/s')"
   ]
  },
  {
   "cell_type": "code",
   "execution_count": 4,
   "id": "99543064-57c1-4cff-949e-983366613083",
   "metadata": {},
   "outputs": [
    {
     "name": "stdout",
     "output_type": "stream",
     "text": [
      "Re= 405000000.0\n",
      "cf= 0.000167\n"
     ]
    }
   ],
   "source": [
    "# Reynolds number computation\n",
    "def RE():\n",
    "    return (V*Ls)/ 10**(-6)\n",
    "Re = RE ()\n",
    "print ('Re=',f'{Re:.1f}')\n",
    "\n",
    "# Reynolds number\n",
    "# Laminar flow Re <2000\n",
    "# Unstable flow 2000< Re <4000\n",
    "# Turbulent flow Re >4000\n",
    "def lam_or_unstable_or_turbul(Re):\n",
    "    \"\"\"Check type of flow.\"\"\"\n",
    "    if Re<=2000:\n",
    "        return \"laminar\"\n",
    "    if Re>=4000: \n",
    "        return \"turbulent\"\n",
    "    else: # unstable flow\n",
    "        return \"unstable\"\n",
    "    print(lam_or_unstable_or_turbul)\n",
    "    return\n",
    "\n",
    "Flow_condition = lam_or_unstable_or_turbul(Re)\n",
    "Flow_condition\n",
    "\n",
    "#Frictional coefficient was computed based on ITTC theory & 40% of surcharge\n",
    "def get_Cf ():\n",
    "    Cf = 0.053/(((np.log(Re))-2)**2)\n",
    "    return Cf\n",
    "cf = get_Cf ()\n",
    "print ('cf=',f'{cf:.6f}')"
   ]
  },
  {
   "cell_type": "code",
   "execution_count": 5,
   "id": "114903c8",
   "metadata": {},
   "outputs": [
    {
     "name": "stdout",
     "output_type": "stream",
     "text": [
      "Rf= [   90.58230904   154.90852992   246.89460586   797.91709993\n",
      "  2248.37318277 22630.68972774] kN\n"
     ]
    }
   ],
   "source": [
    "#Frictional resistance\n",
    "def get_Rf ():\n",
    "    RF =  0.5 * 1000 *(Urel**2) * cf * S\n",
    "    return  RF\n",
    "Rf = get_Rf ()+0.4*get_Rf ()\n",
    "print ( 'Rf=',Rf,'kN')"
   ]
  },
  {
   "cell_type": "code",
   "execution_count": 6,
   "id": "1174f8be",
   "metadata": {},
   "outputs": [
    {
     "name": "stdout",
     "output_type": "stream",
     "text": [
      "Rp= [  368.05962437   629.43389209  1003.19738873  3242.14596864\n",
      "  9135.72857531 91954.41415558] kN\n"
     ]
    }
   ],
   "source": [
    "#Pressure resistance\n",
    "def get_Rp ():\n",
    "    RP = 0.5 * 1000 *(Urel**2) * 0.15 * Am\n",
    "    return RP\n",
    "Rp = get_Rp ()\n",
    "print ( 'Rp=',Rp,'kN' )"
   ]
  },
  {
   "cell_type": "code",
   "execution_count": 7,
   "id": "96f20ac8-c8ac-4d24-9fa8-58f8422928a9",
   "metadata": {},
   "outputs": [
    {
     "name": "stdout",
     "output_type": "stream",
     "text": [
      "z= [-1.11506524 -1.17588191 -1.24371527 -1.504      -1.90206394 -4.04127257] m\n"
     ]
    }
   ],
   "source": [
    "# Water level depression\n",
    "def get_z ():\n",
    "    Z = (Blockage*(Frh**2)*h)/(1-Blockage-(Frh**2))\n",
    "    return Z\n",
    "z = get_z ()\n",
    "print ('z=',z,'m')"
   ]
  },
  {
   "cell_type": "code",
   "execution_count": 8,
   "id": "bcb9f4e9",
   "metadata": {},
   "outputs": [
    {
     "name": "stdout",
     "output_type": "stream",
     "text": [
      "Rz= [-25706.15658363 -27108.19364523 -28671.98994443 -34672.464\n",
      " -43849.23108053 -93165.4772141 ] kN\n"
     ]
    }
   ],
   "source": [
    "# Shallow water effect- Waterlevel depression\n",
    "# Based on Schijf theory\n",
    "def get_Rz ():\n",
    "    RZ = 1000 *9.81 *z * 0.2 * Am\n",
    "    return RZ\n",
    "Rz = get_Rz ()\n",
    "print ('Rz=',Rz,'kN')"
   ]
  },
  {
   "cell_type": "code",
   "execution_count": 9,
   "id": "4db2ec48-414a-4f78-802b-5dd8b1009da4",
   "metadata": {},
   "outputs": [
    {
     "name": "stdout",
     "output_type": "stream",
     "text": [
      "Rtot= [-25247.51465022 -26323.85122322 -27421.89794985 -30632.40093143\n",
      " -32465.12932245  21419.62666922] kN\n"
     ]
    }
   ],
   "source": [
    "# Total resistance computation\n",
    "def get_Rtot ():\n",
    "    R = Rf + Rp + Rz\n",
    "    return R\n",
    "Rtot = get_Rtot ()\n",
    "print ('Rtot=',Rtot,'kN')"
   ]
  },
  {
   "cell_type": "code",
   "execution_count": 10,
   "id": "907c6703-6918-4836-92ae-6f09b04a2118",
   "metadata": {},
   "outputs": [
    {
     "name": "stdout",
     "output_type": "stream",
     "text": [
      "Pe= [  16316.54327573   22247.17774132   29257.76462921   58755.39557857\n",
      "  104529.57057444 -218800.65763571] kw\n",
      "Pd= [  29666.44231951   40449.41407512   53195.93568947  106827.99196103\n",
      "  190053.76468081 -397819.37751947] kw\n",
      "Pb= [  32633.08655146   44494.35548264   58515.52925842  117510.79115713\n",
      "  209059.14114889 -437601.31527142] kw\n"
     ]
    }
   ],
   "source": [
    "# Power estimation \n",
    "# BHP > DHP > EHP\n",
    "# 1) Effective horse power Pe (Power needed to overcome the total drag)\n",
    "def get_Pe ():\n",
    "    PE = Urel * Rtot\n",
    "    return PE\n",
    "Pe = get_Pe ()\n",
    "print ('Pe=',Pe,'kw')\n",
    "\n",
    "# 2) Delivered horse power Pd (Power delivered to the propeller shaft)\n",
    "def get_Pd (Pe):\n",
    "    PD = Pe/ 0.55\n",
    "    return PD\n",
    "Pd = get_Pd (Pe)\n",
    "print ('Pd=',Pd,'kw')\n",
    "\n",
    "# 3) Brake horse power or Propulsion power Pb (Required motor power)\n",
    "def get_Pb (Pe):\n",
    "    PB = 2*Pe\n",
    "    return PB\n",
    "Pb = get_Pb (Pe)\n",
    "print ('Pb=',Pb,'kw')"
   ]
  },
  {
   "cell_type": "code",
   "execution_count": 11,
   "id": "0f9ff8e3-eccc-4d32-a799-69819fe39282",
   "metadata": {},
   "outputs": [
    {
     "name": "stderr",
     "output_type": "stream",
     "text": [
      "No artists with labels found to put in legend.  Note that artists whose label start with an underscore are ignored when legend() is called with no argument.\n"
     ]
    },
    {
     "data": {
      "image/png": "[encoded data removed]",
      "text/plain": [
       "<Figure size 640x480 with 1 Axes>"
      ]
     },
     "metadata": {},
     "output_type": "display_data"
    }
   ],
   "source": [
    "#Plot Urel as a function of h\n",
    "plt.plot(h,Urel, 'green', linewidth = 3.0)\n",
    "plt.xlabel('h (m)')\n",
    "plt.ylabel('Urel (m/s)')\n",
    "plt.legend()\n",
    "plt.grid()\n",
    "plt.title('Relative velocity');"
   ]
  },
  {
   "cell_type": "code",
   "execution_count": 12,
   "id": "1aeae2b7-2c49-46e0-adc1-854693abf1a9",
   "metadata": {},
   "outputs": [
    {
     "ename": "ValueError",
     "evalue": "x and y must have same first dimension, but have shapes (200,) and (20,)",
     "output_type": "error",
     "traceback": [
      "\u001b[1;31m---------------------------------------------------------------------------\u001b[0m",
      "\u001b[1;31mValueError\u001b[0m                                Traceback (most recent call last)",
      "Cell \u001b[1;32mIn [12], line 4\u001b[0m\n\u001b[0;32m      2\u001b[0m Rf \u001b[38;5;241m=\u001b[39m np\u001b[38;5;241m.\u001b[39mlinspace(\u001b[38;5;241m0\u001b[39m,\u001b[38;5;241m2\u001b[39m,\u001b[38;5;241m200\u001b[39m)\n\u001b[0;32m      3\u001b[0m Urel\u001b[38;5;241m=\u001b[39m np\u001b[38;5;241m.\u001b[39mlinspace(\u001b[38;5;241m0\u001b[39m,\u001b[38;5;241m1\u001b[39m,\u001b[38;5;241m20\u001b[39m)\n\u001b[1;32m----> 4\u001b[0m \u001b[43mplt\u001b[49m\u001b[38;5;241;43m.\u001b[39;49m\u001b[43mplot\u001b[49m\u001b[43m(\u001b[49m\u001b[43mRf\u001b[49m\u001b[43m,\u001b[49m\u001b[43mUrel\u001b[49m\u001b[43m)\u001b[49m\n\u001b[0;32m      5\u001b[0m plt\u001b[38;5;241m.\u001b[39mxlabel(\u001b[38;5;124m'\u001b[39m\u001b[38;5;124mUrel (m/s)\u001b[39m\u001b[38;5;124m'\u001b[39m)\n\u001b[0;32m      6\u001b[0m plt\u001b[38;5;241m.\u001b[39mylabel(\u001b[38;5;124m'\u001b[39m\u001b[38;5;124mRf (kN)\u001b[39m\u001b[38;5;124m'\u001b[39m)\n",
      "File \u001b[1;32m~\\anaconda3\\envs\\sim3\\lib\\site-packages\\matplotlib\\pyplot.py:2730\u001b[0m, in \u001b[0;36mplot\u001b[1;34m(scalex, scaley, data, *args, **kwargs)\u001b[0m\n\u001b[0;32m   2728\u001b[0m \u001b[38;5;129m@_copy_docstring_and_deprecators\u001b[39m(Axes\u001b[38;5;241m.\u001b[39mplot)\n\u001b[0;32m   2729\u001b[0m \u001b[38;5;28;01mdef\u001b[39;00m \u001b[38;5;21mplot\u001b[39m(\u001b[38;5;241m*\u001b[39margs, scalex\u001b[38;5;241m=\u001b[39m\u001b[38;5;28;01mTrue\u001b[39;00m, scaley\u001b[38;5;241m=\u001b[39m\u001b[38;5;28;01mTrue\u001b[39;00m, data\u001b[38;5;241m=\u001b[39m\u001b[38;5;28;01mNone\u001b[39;00m, \u001b[38;5;241m*\u001b[39m\u001b[38;5;241m*\u001b[39mkwargs):\n\u001b[1;32m-> 2730\u001b[0m     \u001b[38;5;28;01mreturn\u001b[39;00m gca()\u001b[38;5;241m.\u001b[39mplot(\n\u001b[0;32m   2731\u001b[0m         \u001b[38;5;241m*\u001b[39margs, scalex\u001b[38;5;241m=\u001b[39mscalex, scaley\u001b[38;5;241m=\u001b[39mscaley,\n\u001b[0;32m   2732\u001b[0m         \u001b[38;5;241m*\u001b[39m\u001b[38;5;241m*\u001b[39m({\u001b[38;5;124m\"\u001b[39m\u001b[38;5;124mdata\u001b[39m\u001b[38;5;124m\"\u001b[39m: data} \u001b[38;5;28;01mif\u001b[39;00m data \u001b[38;5;129;01mis\u001b[39;00m \u001b[38;5;129;01mnot\u001b[39;00m \u001b[38;5;28;01mNone\u001b[39;00m \u001b[38;5;28;01melse\u001b[39;00m {}), \u001b[38;5;241m*\u001b[39m\u001b[38;5;241m*\u001b[39mkwargs)\n",
      "File \u001b[1;32m~\\anaconda3\\envs\\sim3\\lib\\site-packages\\matplotlib\\axes\\_axes.py:1662\u001b[0m, in \u001b[0;36mAxes.plot\u001b[1;34m(self, scalex, scaley, data, *args, **kwargs)\u001b[0m\n\u001b[0;32m   1419\u001b[0m \u001b[38;5;124;03m\"\"\"\u001b[39;00m\n\u001b[0;32m   1420\u001b[0m \u001b[38;5;124;03mPlot y versus x as lines and/or markers.\u001b[39;00m\n\u001b[0;32m   1421\u001b[0m \n\u001b[1;32m   (...)\u001b[0m\n\u001b[0;32m   1659\u001b[0m \u001b[38;5;124;03m(``'green'``) or hex strings (``'#008000'``).\u001b[39;00m\n\u001b[0;32m   1660\u001b[0m \u001b[38;5;124;03m\"\"\"\u001b[39;00m\n\u001b[0;32m   1661\u001b[0m kwargs \u001b[38;5;241m=\u001b[39m cbook\u001b[38;5;241m.\u001b[39mnormalize_kwargs(kwargs, mlines\u001b[38;5;241m.\u001b[39mLine2D)\n\u001b[1;32m-> 1662\u001b[0m lines \u001b[38;5;241m=\u001b[39m [\u001b[38;5;241m*\u001b[39m\u001b[38;5;28mself\u001b[39m\u001b[38;5;241m.\u001b[39m_get_lines(\u001b[38;5;241m*\u001b[39margs, data\u001b[38;5;241m=\u001b[39mdata, \u001b[38;5;241m*\u001b[39m\u001b[38;5;241m*\u001b[39mkwargs)]\n\u001b[0;32m   1663\u001b[0m \u001b[38;5;28;01mfor\u001b[39;00m line \u001b[38;5;129;01min\u001b[39;00m lines:\n\u001b[0;32m   1664\u001b[0m     \u001b[38;5;28mself\u001b[39m\u001b[38;5;241m.\u001b[39madd_line(line)\n",
      "File \u001b[1;32m~\\anaconda3\\envs\\sim3\\lib\\site-packages\\matplotlib\\axes\\_base.py:311\u001b[0m, in \u001b[0;36m_process_plot_var_args.__call__\u001b[1;34m(self, data, *args, **kwargs)\u001b[0m\n\u001b[0;32m    309\u001b[0m     this \u001b[38;5;241m+\u001b[39m\u001b[38;5;241m=\u001b[39m args[\u001b[38;5;241m0\u001b[39m],\n\u001b[0;32m    310\u001b[0m     args \u001b[38;5;241m=\u001b[39m args[\u001b[38;5;241m1\u001b[39m:]\n\u001b[1;32m--> 311\u001b[0m \u001b[38;5;28;01myield from\u001b[39;00m \u001b[38;5;28;43mself\u001b[39;49m\u001b[38;5;241;43m.\u001b[39;49m\u001b[43m_plot_args\u001b[49m\u001b[43m(\u001b[49m\n\u001b[0;32m    312\u001b[0m \u001b[43m    \u001b[49m\u001b[43mthis\u001b[49m\u001b[43m,\u001b[49m\u001b[43m \u001b[49m\u001b[43mkwargs\u001b[49m\u001b[43m,\u001b[49m\u001b[43m \u001b[49m\u001b[43mambiguous_fmt_datakey\u001b[49m\u001b[38;5;241;43m=\u001b[39;49m\u001b[43mambiguous_fmt_datakey\u001b[49m\u001b[43m)\u001b[49m\n",
      "File \u001b[1;32m~\\anaconda3\\envs\\sim3\\lib\\site-packages\\matplotlib\\axes\\_base.py:504\u001b[0m, in \u001b[0;36m_process_plot_var_args._plot_args\u001b[1;34m(self, tup, kwargs, return_kwargs, ambiguous_fmt_datakey)\u001b[0m\n\u001b[0;32m    501\u001b[0m     \u001b[38;5;28mself\u001b[39m\u001b[38;5;241m.\u001b[39maxes\u001b[38;5;241m.\u001b[39myaxis\u001b[38;5;241m.\u001b[39mupdate_units(y)\n\u001b[0;32m    503\u001b[0m \u001b[38;5;28;01mif\u001b[39;00m x\u001b[38;5;241m.\u001b[39mshape[\u001b[38;5;241m0\u001b[39m] \u001b[38;5;241m!=\u001b[39m y\u001b[38;5;241m.\u001b[39mshape[\u001b[38;5;241m0\u001b[39m]:\n\u001b[1;32m--> 504\u001b[0m     \u001b[38;5;28;01mraise\u001b[39;00m \u001b[38;5;167;01mValueError\u001b[39;00m(\u001b[38;5;124mf\u001b[39m\u001b[38;5;124m\"\u001b[39m\u001b[38;5;124mx and y must have same first dimension, but \u001b[39m\u001b[38;5;124m\"\u001b[39m\n\u001b[0;32m    505\u001b[0m                      \u001b[38;5;124mf\u001b[39m\u001b[38;5;124m\"\u001b[39m\u001b[38;5;124mhave shapes \u001b[39m\u001b[38;5;132;01m{\u001b[39;00mx\u001b[38;5;241m.\u001b[39mshape\u001b[38;5;132;01m}\u001b[39;00m\u001b[38;5;124m and \u001b[39m\u001b[38;5;132;01m{\u001b[39;00my\u001b[38;5;241m.\u001b[39mshape\u001b[38;5;132;01m}\u001b[39;00m\u001b[38;5;124m\"\u001b[39m)\n\u001b[0;32m    506\u001b[0m \u001b[38;5;28;01mif\u001b[39;00m x\u001b[38;5;241m.\u001b[39mndim \u001b[38;5;241m>\u001b[39m \u001b[38;5;241m2\u001b[39m \u001b[38;5;129;01mor\u001b[39;00m y\u001b[38;5;241m.\u001b[39mndim \u001b[38;5;241m>\u001b[39m \u001b[38;5;241m2\u001b[39m:\n\u001b[0;32m    507\u001b[0m     \u001b[38;5;28;01mraise\u001b[39;00m \u001b[38;5;167;01mValueError\u001b[39;00m(\u001b[38;5;124mf\u001b[39m\u001b[38;5;124m\"\u001b[39m\u001b[38;5;124mx and y can be no greater than 2D, but have \u001b[39m\u001b[38;5;124m\"\u001b[39m\n\u001b[0;32m    508\u001b[0m                      \u001b[38;5;124mf\u001b[39m\u001b[38;5;124m\"\u001b[39m\u001b[38;5;124mshapes \u001b[39m\u001b[38;5;132;01m{\u001b[39;00mx\u001b[38;5;241m.\u001b[39mshape\u001b[38;5;132;01m}\u001b[39;00m\u001b[38;5;124m and \u001b[39m\u001b[38;5;132;01m{\u001b[39;00my\u001b[38;5;241m.\u001b[39mshape\u001b[38;5;132;01m}\u001b[39;00m\u001b[38;5;124m\"\u001b[39m)\n",
      "\u001b[1;31mValueError\u001b[0m: x and y must have same first dimension, but have shapes (200,) and (20,)"
     ]
    },
    {
     "data": {
      "image/png": "[encoded data removed]",
      "text/plain": [
       "<Figure size 640x480 with 1 Axes>"
      ]
     },
     "metadata": {},
     "output_type": "display_data"
    }
   ],
   "source": [
    "#Plot Rf as a function of Urel\n",
    "Rf = np.linspace(0,2,200)\n",
    "Urel= np.linspace(0,1,20)\n",
    "plt.plot(Rf,Urel)\n",
    "plt.xlabel('Urel (m/s)')\n",
    "plt.ylabel('Rf (kN)')\n",
    "plt.legend()\n",
    "plt.title('Frictional resistance');"
   ]
  }
 ],
 "metadata": {
  "kernelspec": {
   "display_name": "Python 3 (ipykernel)",
   "language": "python",
   "name": "python3"
  },
  "language_info": {
   "codemirror_mode": {
    "name": "ipython",
    "version": 3
   },
   "file_extension": ".py",
   "mimetype": "text/x-python",
   "name": "python",
   "nbconvert_exporter": "python",
   "pygments_lexer": "ipython3",
   "version": "3.9.13"
  }
 },
 "nbformat": 4,
 "nbformat_minor": 5
}
