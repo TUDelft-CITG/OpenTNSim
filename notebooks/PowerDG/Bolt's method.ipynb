{
 "cells": [
  {
   "cell_type": "code",
   "execution_count": 1,
   "id": "c113c387",
   "metadata": {},
   "outputs": [],
   "source": [
    "# package(s) related to time, space and id\n",
    "import datetime\n",
    "\n",
    "# Used for mathematical functions\n",
    "import math\n",
    "import platform\n",
    "import time\n",
    "\n",
    "import matplotlib.pyplot as plt\n",
    "\n",
    "# Used for making the graph to visualize our problem\n",
    "import networkx as nx\n",
    "\n",
    "# package(s) for data handling\n",
    "import numpy as np\n",
    "import pandas as pd\n",
    "\n",
    "# spatial libraries\n",
    "import pyproj\n",
    "import shapely.geometry\n",
    "\n",
    "# you need these dependencies (you can get these from anaconda)\n",
    "# package(s) related to the simulation\n",
    "import simpy\n",
    "from simplekml import Kml, Style\n",
    "\n",
    "# OpenTNSim\n",
    "import opentnsim"
   ]
  },
  {
   "cell_type": "code",
   "execution_count": 2,
   "id": "114ddf49-aa33-44be-83ba-92a8166fd2fe",
   "metadata": {},
   "outputs": [],
   "source": [
    "# V=ship velocity(VOG) or deep water velocity no current velocity was taking into account\n",
    "# Urel=V+Ur\n",
    "# Urel= 1/1-exp(4*(1-h/T))\n",
    "# Am=midship cross section\n",
    "# Ac=channel cross section\n",
    "# T=ship draft"
   ]
  },
  {
   "cell_type": "code",
   "execution_count": 3,
   "id": "aacf72df-74f5-471b-baac-15316b9f5acc",
   "metadata": {},
   "outputs": [
    {
     "ename": "SyntaxError",
     "evalue": "invalid syntax (1527817055.py, line 53)",
     "output_type": "error",
     "traceback": [
      "\u001b[1;36m  Cell \u001b[1;32mIn [3], line 53\u001b[1;36m\u001b[0m\n\u001b[1;33m    else:\u001b[0m\n\u001b[1;37m    ^\u001b[0m\n\u001b[1;31mSyntaxError\u001b[0m\u001b[1;31m:\u001b[0m invalid syntax\n"
     ]
    }
   ],
   "source": [
    "#Classification of water\n",
    "h=1.5 #thelw na fortwsw pinaka na pairnei ta dedomena vathymetrias apo ola ta kanalia ths ollandias \n",
    "T=1.2 #thelw na valw lista me ola ta pithana draft\n",
    "Am=37\n",
    "Ac=200\n",
    "if  h/T>3:# Deep water\n",
    "    print (\"not effect on ship\")\n",
    "    \n",
    "elif h/T<1.5 and  h/T>1.2: #Shallow water\n",
    "    print (\"very significant effect on ships\")\n",
    "    \n",
    "if  h/T<=1.2: # Very shallow water\n",
    "    print (\"water motion dominates ship\")\n",
    "     \n",
    "# Froude number\n",
    "def get_Frh (V,h):\n",
    "        return V / np.sqrt(h*9.81)   \n",
    "Frh = get_Frh (V=3,h=2) \n",
    "print('Frh', Frh)\n",
    "\n",
    "# Frh<1 subcritical dn > dcritical\n",
    "# Frh>1 supercritical dn < dcritical\n",
    "def subcritical_or_supercritical (Frh):\n",
    "    \"\"\"Check flow\"\"\"\n",
    "    if Frh<1:\n",
    "        return \"subcritical\" \n",
    "    if  Frh<0.65: \n",
    "        return\"desirable condition\"\n",
    "    if  Frh>1: # supercritical flow \n",
    "        return \"unstable\"\n",
    "    print(subcritical_or_supercritical)\n",
    "    return\n",
    "Flow_type = subcritical_or_supercritical (Frh)\n",
    "print (Flow_type)\n",
    "\n",
    "# Return flow velocity\n",
    "def get_Ur (V,h,T,Am,Ac):  \n",
    "    return ((Am/Ac) * V)/(1-(Am/Ac)-(Frh**2))\n",
    "Ur = get_Ur (V=3,h=1.5,T=1.2,Am=37,Ac=200)\n",
    "#print('Ur=', Ur, 'm/s')\n",
    "\n",
    "# Effective velocity\n",
    "def get_Veff (V,h,T): \n",
    "    return V/(1-np.exp(4*(1- h/T)))\n",
    "Veff = get_Veff (V=3,h=1.5,T=1.2)\n",
    "#print('Veff=', Veff, 'm/s')\n",
    "\n",
    "# Ratio Am/Ac \n",
    "def get_Urel (Am,Ac,V):\n",
    "    if Am/Ac <=0.1:\n",
    "        Urel= Veff\n",
    "        return \n",
    "        else:\n",
    "            Urel= V + Ur\n",
    "            return\n",
    "        return \n",
    "Urel = get_Urel (Am=1000,Ac=500,V=4.58)\n",
    "print('Urel=', Urel, 'm/s')"
   ]
  },
  {
   "cell_type": "code",
   "execution_count": null,
   "id": "99543064-57c1-4cff-949e-983366613083",
   "metadata": {},
   "outputs": [],
   "source": [
    "# Reynolds number computation\n",
    "def RE(Ls):\n",
    "    return (Urel*Ls)/ 10**(-6)\n",
    "Re = RE (110)\n",
    "print ('Re=',f'{Re:.1f}')\n",
    "\n",
    "# Reynolds number\n",
    "# Laminar flow Re <2000\n",
    "# Unstable flow 2000< Re <4000\n",
    "# Turbulent flow Re >4000\n",
    "def lam_or_unstable_or_turbul(Re):\n",
    "    \"\"\"Check type of flow.\"\"\"\n",
    "    if Re<=2000:\n",
    "        return \"laminar\"\n",
    "    if Re>=4000: \n",
    "        return \"turbulent\"\n",
    "    else: # unstable flow\n",
    "        return \"unstable\"\n",
    "    print(lam_or_unstable_or_turbul)\n",
    "    return\n",
    "\n",
    "Flow_condition = lam_or_unstable_or_turbul(Re)\n",
    "Flow_condition"
   ]
  },
  {
   "cell_type": "code",
   "execution_count": null,
   "id": "b8492b43-fd02-43ba-bc44-9e0ef951f542",
   "metadata": {},
   "outputs": [],
   "source": [
    "#Frictional coefficient was computed based on ITTC theory & 40% of surcharge\n",
    "def get_Cf (Re):\n",
    "    Cf = 0.053/(((np.log(Re))-2)**2)\n",
    "    return Cf\n",
    "cf = get_Cf (Re)\n",
    "print (f'{cf:.6f}')"
   ]
  },
  {
   "cell_type": "code",
   "execution_count": null,
   "id": "114903c8",
   "metadata": {},
   "outputs": [],
   "source": [
    "#Frictional resistance\n",
    "def get_Rf (V,S):\n",
    "    RF =  0.5 * 1000 *((V+Ur)**2) * cf * S\n",
    "    return  RF\n",
    "Rf = get_Rf (4.58, 400)\n",
    "print ( 'Rf=',f'{Rf:.3f}' ,'kN')"
   ]
  },
  {
   "cell_type": "code",
   "execution_count": null,
   "id": "1174f8be",
   "metadata": {},
   "outputs": [],
   "source": [
    "#Pressure resistance\n",
    "def get_Rp (V,Am):\n",
    "    RP = 0.5 * 1000 *((V+Ur)**2) * 0.15 * Am\n",
    "    return RP\n",
    "Rp = get_Rp (V=4.58, Am=37)\n",
    "print ( 'Rp=',f'{Rp:.3f}','kN' )"
   ]
  },
  {
   "cell_type": "code",
   "execution_count": null,
   "id": "96f20ac8-c8ac-4d24-9fa8-58f8422928a9",
   "metadata": {},
   "outputs": [],
   "source": [
    "# Water level depression\n",
    "def get_z (Am,Ac,h):\n",
    "    Z = ((Am/Ac)*(Frh**2)*h)/(1-(Am/Ac)-(Frh**2))\n",
    "    return Z\n",
    "z = get_z (Am=37,Ac=500,h=3)\n",
    "print ('z=',f'{z:.3f}','m')"
   ]
  },
  {
   "cell_type": "code",
   "execution_count": null,
   "id": "bcb9f4e9",
   "metadata": {},
   "outputs": [],
   "source": [
    "# Shallow water effect- Waterlevel depression\n",
    "# Based on Schijf theory\n",
    "def get_Rz (Am):\n",
    "    z = get_z (Am=37,Ac=500,h=5)\n",
    "    RZ = 1000 *9.81 *z * 0.2 * Am\n",
    "    return RZ\n",
    "Rz = get_Rz (Am=37.7)\n",
    "print ('Rz=',f'{Rz:.3f}','kN')"
   ]
  },
  {
   "cell_type": "code",
   "execution_count": null,
   "id": "4db2ec48-414a-4f78-802b-5dd8b1009da4",
   "metadata": {},
   "outputs": [],
   "source": [
    "# Total resistance computation\n",
    "def get_Rtot (Rf, Rp, Rz):\n",
    "    R = Rf + Rp + Rz\n",
    "    return R\n",
    "Rtot = get_Rtot (Rf, Rp, Rz)\n",
    "print ('Rtot=',f'{Rtot:.3f}','kN')"
   ]
  },
  {
   "cell_type": "code",
   "execution_count": null,
   "id": "907c6703-6918-4836-92ae-6f09b04a2118",
   "metadata": {},
   "outputs": [],
   "source": [
    "# Power estimation \n",
    "# BHP > DHP > EHP\n",
    "# 1) Effective horse power Pe (Power needed to overcome the total drag)\n",
    "def get_Pe (V):\n",
    "    PE = (V+Ur) * Rtot\n",
    "    return PE\n",
    "Pe = get_Pe (V = 4.58)\n",
    "print ('Pe=',f'{Pe:.3f}','kw')\n",
    "\n",
    "# 2) Delivered horse power Pd (Power delivered to the propeller shaft)\n",
    "def get_Pd (Pe):\n",
    "    PD = Pe/ 0.55\n",
    "    return PD\n",
    "Pd = get_Pd (Pe)\n",
    "print ('Pd=',f'{Pd:.3f}','kw')\n",
    "\n",
    "# 3) Brake horse power or Propulsion power Pb (Required motor power)\n",
    "def get_Pb (Pe):\n",
    "    PB = 2*Pe\n",
    "    return PB\n",
    "Pb = get_Pb (Pe)\n",
    "print ('Pb=',f'{Pb:.3f}','kw')"
   ]
  }
 ],
 "metadata": {
  "kernelspec": {
   "display_name": "Python 3 (ipykernel)",
   "language": "python",
   "name": "python3"
  },
  "language_info": {
   "codemirror_mode": {
    "name": "ipython",
    "version": 3
   },
   "file_extension": ".py",
   "mimetype": "text/x-python",
   "name": "python",
   "nbconvert_exporter": "python",
   "pygments_lexer": "ipython3",
   "version": "3.9.13"
  }
 },
 "nbformat": 4,
 "nbformat_minor": 5
}
