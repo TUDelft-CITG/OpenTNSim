{
 "cells": [
  {
   "cell_type": "code",
   "execution_count": 1,
   "id": "b8a0b958",
   "metadata": {},
   "outputs": [
    {
     "ename": "AttributeError",
     "evalue": "module 'opentnsim.lock' has no attribute 'HasLock'",
     "output_type": "error",
     "traceback": [
      "\u001b[1;31m---------------------------------------------------------------------------\u001b[0m",
      "\u001b[1;31mAttributeError\u001b[0m                            Traceback (most recent call last)",
      "Cell \u001b[1;32mIn[1], line 49\u001b[0m\n\u001b[0;32m     47\u001b[0m \u001b[38;5;28;01mfrom\u001b[39;00m \u001b[38;5;21;01mopentnsim\u001b[39;00m \u001b[38;5;28;01mimport\u001b[39;00m tidal_window_constructor\n\u001b[0;32m     48\u001b[0m \u001b[38;5;28;01mfrom\u001b[39;00m \u001b[38;5;21;01mopentnsim\u001b[39;00m \u001b[38;5;28;01mimport\u001b[39;00m rule_constructor\n\u001b[1;32m---> 49\u001b[0m \u001b[38;5;28;01mfrom\u001b[39;00m \u001b[38;5;21;01mopentnsim\u001b[39;00m \u001b[38;5;28;01mimport\u001b[39;00m regulations\n\u001b[0;32m     51\u001b[0m \u001b[38;5;66;03m# spatial libraries \u001b[39;00m\n\u001b[0;32m     52\u001b[0m \u001b[38;5;28;01mimport\u001b[39;00m \u001b[38;5;21;01mshapely\u001b[39;00m\u001b[38;5;21;01m.\u001b[39;00m\u001b[38;5;21;01mgeometry\u001b[39;00m\n",
      "File \u001b[1;32mc:\\users\\floorbakker\\opentnsim\\opentnsim\\regulations.py:66\u001b[0m\n\u001b[0;32m     57\u001b[0m         \u001b[38;5;28mself\u001b[39m\u001b[38;5;241m.\u001b[39mwaiting_I \u001b[38;5;241m=\u001b[39m lock\u001b[38;5;241m.\u001b[39mIsLockWaitingArea(env\u001b[38;5;241m=\u001b[39m\u001b[38;5;28mself\u001b[39m\u001b[38;5;241m.\u001b[39menv,\n\u001b[0;32m     58\u001b[0m                                                 name\u001b[38;5;241m=\u001b[39m\u001b[38;5;28mself\u001b[39m\u001b[38;5;241m.\u001b[39mname,\n\u001b[0;32m     59\u001b[0m                                                 node\u001b[38;5;241m=\u001b[39m\u001b[38;5;28mself\u001b[39m\u001b[38;5;241m.\u001b[39mnode_waiting_area_start_I,\n\u001b[0;32m     60\u001b[0m                                                 distance_from_node\u001b[38;5;241m=\u001b[39m\u001b[38;5;28mself\u001b[39m\u001b[38;5;241m.\u001b[39mdistance_to_regulation_I)\n\u001b[0;32m     61\u001b[0m         \u001b[38;5;28mself\u001b[39m\u001b[38;5;241m.\u001b[39mwaiting_II \u001b[38;5;241m=\u001b[39m lock\u001b[38;5;241m.\u001b[39mIsLockWaitingArea(env\u001b[38;5;241m=\u001b[39m\u001b[38;5;28mself\u001b[39m\u001b[38;5;241m.\u001b[39menv,\n\u001b[0;32m     62\u001b[0m                                                  name\u001b[38;5;241m=\u001b[39m\u001b[38;5;28mself\u001b[39m\u001b[38;5;241m.\u001b[39mname,\n\u001b[0;32m     63\u001b[0m                                                  node\u001b[38;5;241m=\u001b[39m\u001b[38;5;28mself\u001b[39m\u001b[38;5;241m.\u001b[39mnode_waiting_area_start_II,\n\u001b[0;32m     64\u001b[0m                                                  distance_from_node\u001b[38;5;241m=\u001b[39m\u001b[38;5;28mself\u001b[39m\u001b[38;5;241m.\u001b[39mdistance_to_regulation_II)\n\u001b[1;32m---> 66\u001b[0m \u001b[38;5;28;01mclass\u001b[39;00m \u001b[38;5;21;01mHasOneWayTrafficRegulation\u001b[39;00m(\u001b[43mlock\u001b[49m\u001b[38;5;241;43m.\u001b[39;49m\u001b[43mHasLock\u001b[49m,lock\u001b[38;5;241m.\u001b[39mHasLineUpArea,lock\u001b[38;5;241m.\u001b[39mHasWaitingArea):\n\u001b[0;32m     67\u001b[0m     \u001b[38;5;28;01mdef\u001b[39;00m \u001b[38;5;21m__init__\u001b[39m(\u001b[38;5;28mself\u001b[39m, \u001b[38;5;241m*\u001b[39margs, \u001b[38;5;241m*\u001b[39m\u001b[38;5;241m*\u001b[39mkwargs):\n\u001b[0;32m     68\u001b[0m         \u001b[38;5;28msuper\u001b[39m()\u001b[38;5;241m.\u001b[39m\u001b[38;5;21m__init__\u001b[39m(\u001b[38;5;241m*\u001b[39margs, \u001b[38;5;241m*\u001b[39m\u001b[38;5;241m*\u001b[39mkwargs)\n",
      "\u001b[1;31mAttributeError\u001b[0m: module 'opentnsim.lock' has no attribute 'HasLock'"
     ]
    }
   ],
   "source": [
    "# package(s) related to time, space and id\n",
    "import datetime, time\n",
    "import os\n",
    "import io\n",
    "import functools\n",
    "import logging\n",
    "import pickle\n",
    "import random\n",
    "import math\n",
    "\n",
    "# package(s) related to the simulation\n",
    "import enum\n",
    "import simpy\n",
    "import scipy as sc\n",
    "import math\n",
    "import networkx as nx  \n",
    "import numpy as np\n",
    "import pandas as pd\n",
    "import re\n",
    "import yaml as yaml\n",
    "import time\n",
    "import bisect\n",
    "import matplotlib as mpl\n",
    "import matplotlib.pyplot as plt\n",
    "import matplotlib.tri as tri\n",
    "import xarray as xr\n",
    "\n",
    "from osgeo import gdal\n",
    "from scipy import interpolate\n",
    "from scipy.signal import correlate\n",
    "from shapely.ops import transform,split,snap\n",
    "from matplotlib.ticker import MaxNLocator\n",
    "from matplotlib import cm\n",
    "from matplotlib.colors import ListedColormap, LinearSegmentedColormap\n",
    "\n",
    "# OpenTNSim\n",
    "from opentnsim import core\n",
    "from opentnsim import plot\n",
    "from opentnsim import model\n",
    "from opentnsim import import_hydrodynamic_dataset\n",
    "from opentnsim import vessel_traffic_service\n",
    "from opentnsim import port\n",
    "from opentnsim import lock\n",
    "from opentnsim import vessel\n",
    "from opentnsim import waterway\n",
    "from opentnsim import output\n",
    "from opentnsim import tidal_window_constructor\n",
    "from opentnsim import rule_constructor\n",
    "from opentnsim import regulations\n",
    "\n",
    "# spatial libraries \n",
    "import shapely.geometry\n",
    "from shapely.geometry import Point\n",
    "import shapely.wkt\n",
    "import pyproj\n",
    "import folium\n",
    "import datetime\n",
    "import time as timepy\n",
    "\n",
    "# package(s) for data handling\n",
    "import requests\n",
    "\n",
    "logging.basicConfig(level=logging.INFO)\n",
    "logger = logging.getLogger()\n",
    "\n",
    "# define the coorinate systemb\n",
    "geod = pyproj.Geod(ellps=\"WGS84\")\n",
    "\n",
    "location_vessel_database = \"Vessels/richtlijnen-vaarwegen-2017.csv\""
   ]
  },
  {
   "cell_type": "code",
   "execution_count": 2,
   "id": "6ec1ecfe",
   "metadata": {},
   "outputs": [],
   "source": [
    "wgs = pyproj.CRS('EPSG:4326')\n",
    "utm = pyproj.CRS('EPSG:28992')\n",
    "wgs_to_utm = pyproj.Transformer.from_crs(wgs,utm,always_xy=True).transform\n",
    "utm_to_wgs = pyproj.Transformer.from_crs(utm,wgs,always_xy=True).transform"
   ]
  },
  {
   "cell_type": "code",
   "execution_count": 3,
   "id": "d02af268",
   "metadata": {},
   "outputs": [],
   "source": [
    "starting_hour = 1000/(60*60*4)\n",
    "next_hours = np.arange(0.25,12.25,0.25)\n",
    "hours = np.append(np.array([starting_hour]),next_hours)"
   ]
  },
  {
   "cell_type": "code",
   "execution_count": 4,
   "id": "56fff2f6",
   "metadata": {},
   "outputs": [],
   "source": [
    "Node = type('Site', (core.Identifiable, core.Log, core.Locatable, core.HasResource), {})\n",
    "nodes = []\n",
    "path = []\n",
    "coords = []\n",
    "\n",
    "for hour in reversed(hours):\n",
    "    coords.append(transform(utm_to_wgs,Point(155000-hour*60*60*4,463000)))\n",
    "for hour in hours:\n",
    "    coords.append(transform(utm_to_wgs,Point(155000+hour*60*60*4,463000)))\n",
    "\n",
    "for index,coord in enumerate(coords):\n",
    "    data_node = {\"env\": [],\n",
    "                 \"name\": \"Node_\" + str(index+1),\n",
    "                 \"geometry\": coord}\n",
    "    node = Node(**data_node)\n",
    "    nodes.append(node)\n",
    "    \n",
    "for i in range(len(nodes)-1):\n",
    "    path.append([nodes[i],nodes[i+1]]) \n",
    "    path.append([nodes[i+1],nodes[i]])\n",
    "\n",
    "FG = nx.MultiDiGraph()\n",
    "\n",
    "positions = {}\n",
    "for node in nodes:\n",
    "    positions[node.name] = (node.geometry.x, node.geometry.y)\n",
    "    FG.add_node(node.name, geometry = node.geometry)\n",
    "\n",
    "for edge in path:\n",
    "    geometry = shapely.geometry.LineString([FG.nodes[edge[0].name]['geometry'],FG.nodes[edge[1].name]['geometry']])\n",
    "    FG.add_edge(edge[0].name, edge[1].name, weight = 1, Info = {},geometry=geometry)\n",
    "    \n",
    "for node in FG.nodes:\n",
    "    FG.nodes[node]['Info'] = {}"
   ]
  },
  {
   "cell_type": "code",
   "execution_count": 5,
   "id": "ad4c9917",
   "metadata": {},
   "outputs": [],
   "source": [
    "for node in FG.nodes:\n",
    "    FG.nodes[node]['geometry'] = transform(wgs_to_utm,FG.nodes[node]['geometry'])\n",
    "    \n",
    "for edge in FG.edges:\n",
    "    geometry = transform(wgs_to_utm,FG.edges[edge]['geometry'])\n",
    "    length = int(geometry.length)\n",
    "    FG.edges[edge]['geometry'] = geometry\n",
    "    FG.edges[edge]['Info']['geometry'] = geometry\n",
    "    FG.edges[edge]['Info']['length'] = length"
   ]
  },
  {
   "cell_type": "code",
   "execution_count": 6,
   "id": "9a35a4ee",
   "metadata": {},
   "outputs": [],
   "source": [
    "import pytz\n",
    "simulation_start = datetime.datetime(2019,1,1,0,0,0)\n",
    "duration = datetime.timedelta(seconds=14*24*60*60) #seconds"
   ]
  },
  {
   "cell_type": "code",
   "execution_count": 7,
   "id": "bff9516f",
   "metadata": {},
   "outputs": [],
   "source": [
    "water_level = []\n",
    "salinity = []\n",
    "\n",
    "for nodes in enumerate(FG.nodes):\n",
    "    water_level.append([[],[]])\n",
    "    salinity.append([[],[]])\n",
    "\n",
    "MBL = [11]*len(FG.nodes)\n",
    "depth = MBL\n",
    "times = np.arange(simulation_start,simulation_start+duration,datetime.timedelta(seconds=10*60))\n",
    "stations = list(FG.nodes)\n",
    "\n",
    "sea = True\n",
    "for index,node in enumerate(list(FG.nodes)):\n",
    "    if sea:\n",
    "        water_level[index]=[1.0*np.sin(2*np.pi*((t-np.datetime64(0,'s'))/np.timedelta64(1, 's')-simulation_start.timestamp())/45000) for t in times]\n",
    "        salinity[index]=[25.0 for t in times]\n",
    "        if node == 'Node_49':\n",
    "            sea = False\n",
    "    else:\n",
    "        water_level[index]=[0.0 for t in times]\n",
    "        salinity[index]=[0.0 for t in times]"
   ]
  },
  {
   "cell_type": "code",
   "execution_count": 8,
   "id": "7f9be339",
   "metadata": {},
   "outputs": [
    {
     "name": "stderr",
     "output_type": "stream",
     "text": [
      "C:\\Users\\floorbakker\\AppData\\Local\\Temp\\ipykernel_23048\\3095883058.py:5: UserWarning:\n",
      "\n",
      "Converting non-nanosecond precision datetime values to nanosecond precision. This behavior can eventually be relaxed in xarray, as it is an artifact from pandas which is now beginning to support non-nanosecond precision values. This warning is caused by passing non-nanosecond np.datetime64 or np.timedelta64 values to the DataArray or Variable constructor; it can be silenced by converting the values to nanosecond precision ahead of time.\n",
      "\n",
      "C:\\Users\\floorbakker\\AppData\\Local\\Temp\\ipykernel_23048\\3095883058.py:20: UserWarning:\n",
      "\n",
      "Converting non-nanosecond precision datetime values to nanosecond precision. This behavior can eventually be relaxed in xarray, as it is an artifact from pandas which is now beginning to support non-nanosecond precision values. This warning is caused by passing non-nanosecond np.datetime64 or np.timedelta64 values to the DataArray or Variable constructor; it can be silenced by converting the values to nanosecond precision ahead of time.\n",
      "\n"
     ]
    }
   ],
   "source": [
    "import xarray as xr\n",
    "station_data = xr.DataArray(data=stations,\n",
    "                         dims=[\"STATIONS\"])\n",
    "\n",
    "time_data = xr.DataArray(data=times,\n",
    "                         dims=[\"TIME\"])\n",
    "\n",
    "MBL_data = xr.DataArray(data=MBL,\n",
    "                        dims=[\"STATIONS\"])\n",
    "\n",
    "depth_data = xr.DataArray(data=depth,\n",
    "                          dims=[\"STATIONS\"])\n",
    "\n",
    "water_level_data = xr.DataArray(data=[wlev for wlev in water_level],\n",
    "                                dims=[\"STATIONS\",\"TIME\"])\n",
    "\n",
    "salinity_data = xr.DataArray(data=[sal for sal in salinity],\n",
    "                             dims=[\"STATIONS\",\"TIME\"])\n",
    "\n",
    "hydrodynamic_data = xr.Dataset({'TIME':times,\n",
    "                                'Stations':station_data,\n",
    "                                'MBL':MBL_data,\n",
    "                                'Depth':depth_data,\n",
    "                                'Water level': water_level_data,\n",
    "                                'Salinity':salinity_data})"
   ]
  },
  {
   "cell_type": "code",
   "execution_count": 9,
   "id": "79b1bbad",
   "metadata": {},
   "outputs": [],
   "source": [
    "sim = model.Simulation(graph=FG,simulation_start=simulation_start,simulation_duration=duration,hydrodynamic_data=hydrodynamic_data)\n",
    "env = sim.environment"
   ]
  },
  {
   "cell_type": "code",
   "execution_count": 10,
   "id": "98d01a38",
   "metadata": {},
   "outputs": [
    {
     "data": {
      "text/plain": [
       "<opentnsim.vessel_traffic_service.VesselTrafficService at 0x23011651be0>"
      ]
     },
     "execution_count": 10,
     "metadata": {},
     "output_type": "execute_result"
    }
   ],
   "source": [
    "sim.environment.vessel_traffic_service"
   ]
  },
  {
   "cell_type": "code",
   "execution_count": 11,
   "id": "2b7b8cbe",
   "metadata": {},
   "outputs": [
    {
     "name": "stderr",
     "output_type": "stream",
     "text": [
      "c:\\users\\floorbakker\\opentnsim\\opentnsim\\lock.py:349: UserWarning:\n",
      "\n",
      "Converting non-nanosecond precision datetime values to nanosecond precision. This behavior can eventually be relaxed in xarray, as it is an artifact from pandas which is now beginning to support non-nanosecond precision values. This warning is caused by passing non-nanosecond np.datetime64 or np.timedelta64 values to the DataArray or Variable constructor; it can be silenced by converting the values to nanosecond precision ahead of time.\n",
      "\n"
     ]
    }
   ],
   "source": [
    "lock_1 = lock.IsLock(env = sim.environment, \n",
    "                     name = 'Lock',\n",
    "                     distance_doors1_from_first_waiting_area=750,   \n",
    "                     distance_doors2_from_second_waiting_area=FG.edges['Node_49','Node_50',0]['Info']['length']-1250,\n",
    "                     node_doors1 = 'Node_49', node_doors2 = 'Node_50',time_step=60,\n",
    "                     lock_length = 500, lock_width = 40, lock_depth = 10.5, \n",
    "                     doors_open = 600, doors_close = 600, disch_coeff = 0.8,\n",
    "                     opening_area = 4.0, opening_depth = 5.0,node_open='Node_50',\n",
    "                     detector_nodes=['Node_45','Node_54'], priority_rules = regulations.ConditionalRule('start_node','==','Node_50'))\n",
    "\n",
    "lineup_area_1 = lock.IsLockLineUpArea(env = sim.environment, name = 'Lock', distance_to_lock_doors = 100,\n",
    "                                      start_node = 'Node_49',end_node = 'Node_50', lineup_length = 500)\n",
    "\n",
    "lineup_area_2 = lock.IsLockLineUpArea(env = sim.environment, name = \"Lock\", distance_to_lock_doors = 100,\n",
    "                                      start_node = 'Node_50',end_node = 'Node_49', lineup_length = 500)\n",
    "\n",
    "waiting_area_1 = lock.IsLockWaitingArea(env = sim.environment, name = 'Lock', distance_from_node=0,\n",
    "                                        node = 'Node_49')\n",
    "    \n",
    "waiting_area_2 = lock.IsLockWaitingArea(env = sim.environment, name = \"Lock\", distance_from_node=0,\n",
    "                                        node = 'Node_50')"
   ]
  },
  {
   "cell_type": "code",
   "execution_count": 12,
   "id": "360e0b6c",
   "metadata": {},
   "outputs": [
    {
     "data": {
      "text/plain": [
       "'Node_45'"
      ]
     },
     "execution_count": 12,
     "metadata": {},
     "output_type": "execute_result"
    }
   ],
   "source": [
    "lock_1.detector_nodes[0]"
   ]
  },
  {
   "cell_type": "code",
   "execution_count": 13,
   "id": "c61bc985",
   "metadata": {},
   "outputs": [],
   "source": [
    "Vessel = type('Vessel', \n",
    "              (core.SimpyObject, core.Identifiable, lock.HasWaitingArea, lock.HasLock, lock.HasLineUpArea, core.Movable, vessel.VesselProperties, output.HasOutput, vessel.ExtraMetadata), {})"
   ]
  },
  {
   "cell_type": "code",
   "execution_count": 14,
   "id": "c07b7c25",
   "metadata": {},
   "outputs": [],
   "source": [
    "def create_vessel(name,FG,origin,destination,length,beam,draught,height,v,arrival_time):\n",
    "    vessel_input = { \"name\":name,\n",
    "                     \"geometry\":FG.nodes[origin]['geometry'],\n",
    "                     \"origin\":origin,\n",
    "                     \"destination\":destination,\n",
    "                     #\"next_destination\":next_destination,\n",
    "                     \"route\":nx.dijkstra_path(FG,origin,destination),\n",
    "                     \"env\":env,\n",
    "                     \"type\":'Tanker',\n",
    "                     \"B\":beam,\n",
    "                     \"L\":length,\n",
    "                     \"T\": draught,\n",
    "                     \"H\":height,\n",
    "                     #\"t_berthing\":berthing_time.total_seconds(),\n",
    "                     #\"t_(un)loading\":[time.total_seconds() for time in unloading_time],\n",
    "                     #\"t_turning\":[time.total_seconds() for time in turning_time],\n",
    "                     #\"ukc\":ukc,\n",
    "                     \"v\":v,\n",
    "                     #\"terminal_of_call\": terminal_of_call,\n",
    "                     #\"berth_of_call\": berth_of_call,\n",
    "                     #\"(un)loading\": delta_draught,\n",
    "                     #\"max_waiting_time\":datetime.timedelta(days=10).total_seconds(),\n",
    "                     #\"max_cross_current\":max_cross_current,\n",
    "                     \"arrival_time\":arrival_time,\n",
    "                     #\"arrival_delay\":arrival_time,\n",
    "                     #\"priority\": 0,\n",
    "                     #\"additional_waiting_time\": additional_waiting_time/np.timedelta64(1, 's'),\n",
    "                     #\"bound\":bound,\n",
    "                     #\"priority\":False\n",
    "                   }\n",
    "    return vessel_input"
   ]
  },
  {
   "cell_type": "code",
   "execution_count": 15,
   "id": "533e8cfd",
   "metadata": {},
   "outputs": [],
   "source": [
    "random.seed(0)\n",
    "month_reached = False\n",
    "arrival_time = sim.environment.simulation_start\n",
    "vessel_index = 0\n",
    "while not month_reached:\n",
    "    arrival_time += pd.Timedelta(random.uniform(0,4),'h')\n",
    "    created_vessel = Vessel(**create_vessel(name = f'inbound_vessel_{vessel_index}',\n",
    "                                            FG = FG,\n",
    "                                            origin='Node_1',\n",
    "                                            destination='Node_98',\n",
    "                                            length=200,\n",
    "                                            beam=35,\n",
    "                                            draught=10,\n",
    "                                            height=5,\n",
    "                                            v=4,\n",
    "                                            arrival_time=arrival_time))\n",
    "    sim.add_vessels(vessel=created_vessel)\n",
    "    vessel_index += 1\n",
    "    if arrival_time > sim.environment.simulation_start + datetime.timedelta(days=14):\n",
    "        month_reached = True\n",
    "\n",
    "month_reached = False\n",
    "arrival_time = sim.environment.simulation_start\n",
    "vessel_index = 0\n",
    "while not month_reached:\n",
    "    arrival_time += pd.Timedelta(random.uniform(0,4),'h')\n",
    "    created_vessel = Vessel(**create_vessel(name = f'outbound_vessel_{vessel_index}',\n",
    "                                            FG = FG,\n",
    "                                            origin='Node_98',\n",
    "                                            destination='Node_1',\n",
    "                                            length=200,\n",
    "                                            beam=35,\n",
    "                                            draught=10,\n",
    "                                            height=5,\n",
    "                                            v=4,\n",
    "                                            arrival_time=arrival_time))\n",
    "    sim.add_vessels(vessel=created_vessel)\n",
    "    vessel_index += 1\n",
    "    if arrival_time > sim.environment.simulation_start + datetime.timedelta(days=14):\n",
    "        month_reached = True\n",
    "    "
   ]
  },
  {
   "cell_type": "code",
   "execution_count": 16,
   "id": "ec8e35b2",
   "metadata": {},
   "outputs": [
    {
     "data": {
      "text/plain": [
       "[]"
      ]
     },
     "execution_count": 16,
     "metadata": {},
     "output_type": "execute_result"
    }
   ],
   "source": [
    "waiting_area_1.resource.users"
   ]
  },
  {
   "cell_type": "code",
   "execution_count": 17,
   "id": "bdfecee0",
   "metadata": {
    "scrolled": true
   },
   "outputs": [
    {
     "name": "stdout",
     "output_type": "stream",
     "text": [
      "hey ho outbound_vessel_0 []\n",
      "hi outbound_vessel_0 2019-01-01 12:01:33.438305 0\n",
      "outbound_vessel_0 start waiting time 2019-01-01 13:00:14.271638\n",
      "claim the lock doors outbound_vessel_0 2019-01-01 13:00:14.271638\n",
      "lock is empty and not converting outbound_vessel_0 2019-01-01 13:00:14.271638 0 []\n",
      "lock doors claimed outbound_vessel_0 2019-01-01 13:00:14.271638\n",
      "waiting done outbound_vessel_0 2019-01-01 13:00:14.271638\n",
      "outbound_vessel_0 sail to assigned lock position\n",
      "print doors outbound_vessel_0 ['outbound_vessel_0'] ['outbound_vessel_0']\n",
      "left doors1 outbound_vessel_0 2019-01-01 13:11:20.938305 0 [] ['outbound_vessel_0']\n",
      "outbound_vessel_0 in lock ['outbound_vessel_0']\n",
      "outbound_vessel_0 converting hap 2019-01-01 13:11:20.938305\n",
      "hi 2019-01-01 13:11:20.938305\n",
      "2019-01-01 13:11:20.938305 Node_50 Node_49 Lock doors closing start\n"
     ]
    },
    {
     "name": "stderr",
     "output_type": "stream",
     "text": [
      "c:\\users\\floorbakker\\opentnsim\\opentnsim\\lock.py:513: UserWarning:\n",
      "\n",
      "Converting non-nanosecond precision datetime values to nanosecond precision. This behavior can eventually be relaxed in xarray, as it is an artifact from pandas which is now beginning to support non-nanosecond precision values. This warning is caused by passing non-nanosecond np.datetime64 or np.timedelta64 values to the DataArray or Variable constructor; it can be silenced by converting the values to nanosecond precision ahead of time.\n",
      "\n",
      "c:\\users\\floorbakker\\opentnsim\\opentnsim\\lock.py:711: UserWarning:\n",
      "\n",
      "Converting non-nanosecond precision datetime values to nanosecond precision. This behavior can eventually be relaxed in xarray, as it is an artifact from pandas which is now beginning to support non-nanosecond precision values. This warning is caused by passing non-nanosecond np.datetime64 or np.timedelta64 values to the DataArray or Variable constructor; it can be silenced by converting the values to nanosecond precision ahead of time.\n",
      "\n"
     ]
    },
    {
     "name": "stdout",
     "output_type": "stream",
     "text": [
      "outbound_vessel_0 hap is geconvert 2019-01-01 14:05:20.938305\n",
      "hey ho outbound_vessel_1 ['outbound_vessel_0']\n",
      "left doors2 outbound_vessel_0 2019-01-01 14:09:42.049416 0 [] []\n",
      "hey ho inbound_vessel_0 []\n",
      "hi inbound_vessel_0 2019-01-01 14:22:39.674661 0\n",
      "outbound_vessel_1 start waiting time 2019-01-01 15:05:14.735247\n",
      "outbound_vessel_1 lock position given 2019-01-01 15:05:14.735247\n",
      "outbound_vessel_1 requested place in next lockage 2019-01-01 15:05:14.735247\n",
      "claim the lock doors outbound_vessel_1 2019-01-01 15:05:14.735247\n",
      "requesting approach: else outbound_vessel_1 2019-01-01 15:05:14.735247 0 ['inbound_vessel_0'] []\n",
      "inbound_vessel_0 start waiting time 2019-01-01 15:21:20.507994\n",
      "claim the lock doors inbound_vessel_0 2019-01-01 15:21:20.507994\n",
      "lock is empty and not converting inbound_vessel_0 2019-01-01 15:21:20.507994 0 []\n",
      "lock doors claimed inbound_vessel_0 2019-01-01 15:21:20.507994\n",
      "waiting done inbound_vessel_0 2019-01-01 15:21:20.507994\n",
      "inbound_vessel_0 sail to assigned lock position\n",
      "print doors inbound_vessel_0 ['inbound_vessel_0'] ['inbound_vessel_0']\n",
      "left doors1 inbound_vessel_0 2019-01-01 15:32:27.174661 [] 1 ['inbound_vessel_0']\n",
      "inbound_vessel_0 in lock ['inbound_vessel_0']\n",
      "inbound_vessel_0 converting hap 2019-01-01 15:32:27.174661\n",
      "hi 2019-01-01 15:32:27.174661\n",
      "2019-01-01 15:32:27.174661 Node_49 Node_50 Lock doors closing start\n"
     ]
    },
    {
     "name": "stderr",
     "output_type": "stream",
     "text": [
      "c:\\users\\floorbakker\\opentnsim\\opentnsim\\lock.py:513: UserWarning:\n",
      "\n",
      "Converting non-nanosecond precision datetime values to nanosecond precision. This behavior can eventually be relaxed in xarray, as it is an artifact from pandas which is now beginning to support non-nanosecond precision values. This warning is caused by passing non-nanosecond np.datetime64 or np.timedelta64 values to the DataArray or Variable constructor; it can be silenced by converting the values to nanosecond precision ahead of time.\n",
      "\n",
      "c:\\users\\floorbakker\\opentnsim\\opentnsim\\lock.py:711: UserWarning:\n",
      "\n",
      "Converting non-nanosecond precision datetime values to nanosecond precision. This behavior can eventually be relaxed in xarray, as it is an artifact from pandas which is now beginning to support non-nanosecond precision values. This warning is caused by passing non-nanosecond np.datetime64 or np.timedelta64 values to the DataArray or Variable constructor; it can be silenced by converting the values to nanosecond precision ahead of time.\n",
      "\n"
     ]
    },
    {
     "name": "stdout",
     "output_type": "stream",
     "text": [
      "inbound_vessel_0 hap is geconvert 2019-01-01 16:28:27.174661\n",
      "left doors2 inbound_vessel_0 2019-01-01 16:32:48.285772 1 [] []\n",
      "doors requested outbound_vessel_1\n",
      "claiming lock: priority doors2 not -1 outbound_vessel_1 2019-01-01 16:32:48.285772\n",
      "waiting done outbound_vessel_1 2019-01-01 16:32:48.285772\n",
      "outbound_vessel_1 sail to assigned lock position\n",
      "hey ho outbound_vessel_2 ['outbound_vessel_1']\n",
      "yo outbound_vessel_2 2019-01-01 16:41:21.047553 ['outbound_vessel_1']\n",
      "print doors outbound_vessel_1 ['outbound_vessel_1'] ['outbound_vessel_1']\n",
      "left doors1 outbound_vessel_1 2019-01-01 16:43:54.952439 0 [] ['outbound_vessel_1']\n",
      "outbound_vessel_1 in lock ['outbound_vessel_1', 'outbound_vessel_2']\n",
      "waiting for others outbound_vessel_1\n",
      "outbound_vessel_2 start waiting time 2019-01-01 17:40:01.880886\n",
      "claim the lock doors outbound_vessel_2 2019-01-01 17:40:01.880886\n",
      "lock not empty outbound_vessel_2 ['outbound_vessel_1']\n",
      "lock is ready to be entered 2019-01-01 17:40:01.880886\n",
      "lock doors claimed outbound_vessel_2 2019-01-01 17:40:01.880886\n",
      "waiting done outbound_vessel_2 2019-01-01 17:40:01.880886\n",
      "outbound_vessel_2 sail to assigned lock position\n",
      "print doors outbound_vessel_2 ['outbound_vessel_2'] ['outbound_vessel_2']\n",
      "left doors1 outbound_vessel_2 2019-01-01 17:47:26.325331 0 [] ['outbound_vessel_2']\n",
      "outbound_vessel_2 in lock ['outbound_vessel_1', 'outbound_vessel_2']\n",
      "outbound_vessel_2 converting hap 2019-01-01 17:47:26.325331\n",
      "hi 2019-01-01 17:47:26.325331\n",
      "2019-01-01 17:47:26.325331 Node_50 Node_49 Lock doors closing start\n",
      "waiting for others done outbound_vessel_1\n",
      "hey ho inbound_vessel_1 []\n",
      "hi inbound_vessel_1 2019-01-01 17:56:19.187121 0\n"
     ]
    },
    {
     "name": "stderr",
     "output_type": "stream",
     "text": [
      "c:\\users\\floorbakker\\opentnsim\\opentnsim\\lock.py:513: UserWarning:\n",
      "\n",
      "Converting non-nanosecond precision datetime values to nanosecond precision. This behavior can eventually be relaxed in xarray, as it is an artifact from pandas which is now beginning to support non-nanosecond precision values. This warning is caused by passing non-nanosecond np.datetime64 or np.timedelta64 values to the DataArray or Variable constructor; it can be silenced by converting the values to nanosecond precision ahead of time.\n",
      "\n",
      "c:\\users\\floorbakker\\opentnsim\\opentnsim\\lock.py:711: UserWarning:\n",
      "\n",
      "Converting non-nanosecond precision datetime values to nanosecond precision. This behavior can eventually be relaxed in xarray, as it is an artifact from pandas which is now beginning to support non-nanosecond precision values. This warning is caused by passing non-nanosecond np.datetime64 or np.timedelta64 values to the DataArray or Variable constructor; it can be silenced by converting the values to nanosecond precision ahead of time.\n",
      "\n"
     ]
    },
    {
     "name": "stdout",
     "output_type": "stream",
     "text": [
      "outbound_vessel_2 hap is geconvert 2019-01-01 18:18:47.436442\n",
      "left doors2 outbound_vessel_2 2019-01-01 18:26:50.769775 0 [] []\n",
      "inbound_vessel_1 start waiting time 2019-01-01 18:55:00.020454\n",
      "claim the lock doors inbound_vessel_1 2019-01-01 18:55:00.020454\n",
      "lock is empty and not converting inbound_vessel_1 2019-01-01 18:55:00.020454 0 []\n",
      "lock doors claimed inbound_vessel_1 2019-01-01 18:55:00.020454\n",
      "waiting done inbound_vessel_1 2019-01-01 18:55:00.020454\n",
      "inbound_vessel_1 sail to assigned lock position\n",
      "hey ho inbound_vessel_2 ['inbound_vessel_1']\n",
      "yo inbound_vessel_2 2019-01-01 18:58:27.588325 ['inbound_vessel_1']\n",
      "print doors inbound_vessel_1 ['inbound_vessel_1'] ['inbound_vessel_1']\n",
      "left doors1 inbound_vessel_1 2019-01-01 19:06:06.687121 [] 1 ['inbound_vessel_1']\n",
      "inbound_vessel_1 in lock ['inbound_vessel_1', 'inbound_vessel_2']\n",
      "waiting for others inbound_vessel_1\n",
      "inbound_vessel_2 start waiting time 2019-01-01 19:57:08.421658\n",
      "claim the lock doors inbound_vessel_2 2019-01-01 19:57:08.421658\n",
      "lock not empty inbound_vessel_2 ['inbound_vessel_1']\n",
      "lock is ready to be entered 2019-01-01 19:57:08.421658\n",
      "lock doors claimed inbound_vessel_2 2019-01-01 19:57:08.421658\n",
      "waiting done inbound_vessel_2 2019-01-01 19:57:08.421658\n",
      "inbound_vessel_2 sail to assigned lock position\n",
      "print doors inbound_vessel_2 ['inbound_vessel_2'] ['inbound_vessel_2']\n",
      "left doors1 inbound_vessel_2 2019-01-01 20:04:32.866103 [] 1 ['inbound_vessel_2']\n",
      "inbound_vessel_2 in lock ['inbound_vessel_1', 'inbound_vessel_2']\n",
      "inbound_vessel_2 converting hap 2019-01-01 20:04:32.866103\n",
      "hi 2019-01-01 20:04:32.866103\n",
      "2019-01-01 20:04:32.866103 Node_49 Node_50 Lock doors closing start\n",
      "waiting for others done inbound_vessel_1\n",
      "hey ho outbound_vessel_3 []\n",
      "hi outbound_vessel_3 2019-01-01 20:10:35.886787 0\n"
     ]
    },
    {
     "name": "stderr",
     "output_type": "stream",
     "text": [
      "c:\\users\\floorbakker\\opentnsim\\opentnsim\\lock.py:513: UserWarning:\n",
      "\n",
      "Converting non-nanosecond precision datetime values to nanosecond precision. This behavior can eventually be relaxed in xarray, as it is an artifact from pandas which is now beginning to support non-nanosecond precision values. This warning is caused by passing non-nanosecond np.datetime64 or np.timedelta64 values to the DataArray or Variable constructor; it can be silenced by converting the values to nanosecond precision ahead of time.\n",
      "\n",
      "c:\\users\\floorbakker\\opentnsim\\opentnsim\\lock.py:711: UserWarning:\n",
      "\n",
      "Converting non-nanosecond precision datetime values to nanosecond precision. This behavior can eventually be relaxed in xarray, as it is an artifact from pandas which is now beginning to support non-nanosecond precision values. This warning is caused by passing non-nanosecond np.datetime64 or np.timedelta64 values to the DataArray or Variable constructor; it can be silenced by converting the values to nanosecond precision ahead of time.\n",
      "\n"
     ]
    },
    {
     "name": "stdout",
     "output_type": "stream",
     "text": [
      "inbound_vessel_2 hap is geconvert 2019-01-01 21:05:53.977214\n",
      "outbound_vessel_3 start waiting time 2019-01-01 21:09:16.720120\n",
      "claim the lock doors outbound_vessel_3 2019-01-01 21:09:16.720120\n",
      "lock not empty outbound_vessel_3 ['inbound_vessel_2']\n",
      "lock is already converting outbound_vessel_3 2019-01-01 21:09:16.720120 ['inbound_vessel_2']\n",
      "left doors2 inbound_vessel_2 2019-01-01 21:13:57.310547 1 [] []\n",
      "lock doors claimed outbound_vessel_3 2019-01-01 21:13:57.310547\n",
      "first in line to claim lock outbound_vessel_3 2019-01-01 21:13:57.310547\n",
      "waiting done outbound_vessel_3 2019-01-01 21:13:57.310547\n",
      "outbound_vessel_3 sail to assigned lock position\n",
      "print doors outbound_vessel_3 ['outbound_vessel_3'] ['outbound_vessel_3']\n",
      "left doors1 outbound_vessel_3 2019-01-01 21:25:03.977214 0 [] ['outbound_vessel_3']\n",
      "outbound_vessel_3 in lock ['outbound_vessel_3']\n",
      "outbound_vessel_3 converting hap 2019-01-01 21:25:03.977214\n",
      "hi 2019-01-01 21:25:03.977214\n",
      "2019-01-01 21:25:03.977214 Node_50 Node_49 Lock doors closing start\n"
     ]
    },
    {
     "name": "stderr",
     "output_type": "stream",
     "text": [
      "c:\\users\\floorbakker\\opentnsim\\opentnsim\\lock.py:711: UserWarning:\n",
      "\n",
      "Converting non-nanosecond precision datetime values to nanosecond precision. This behavior can eventually be relaxed in xarray, as it is an artifact from pandas which is now beginning to support non-nanosecond precision values. This warning is caused by passing non-nanosecond np.datetime64 or np.timedelta64 values to the DataArray or Variable constructor; it can be silenced by converting the values to nanosecond precision ahead of time.\n",
      "\n"
     ]
    },
    {
     "name": "stdout",
     "output_type": "stream",
     "text": [
      "inbound_vessel_3 start waiting time 2019-01-01 21:53:45.780488\n",
      "inbound_vessel_3 lock position given 2019-01-01 21:53:45.780488\n",
      "inbound_vessel_3 requested place in next lockage 2019-01-01 21:53:45.780488\n",
      "claim the lock doors inbound_vessel_3 2019-01-01 21:53:45.780488\n",
      "lock not empty inbound_vessel_3 ['outbound_vessel_3']\n",
      "lock is already converting inbound_vessel_3 2019-01-01 21:53:45.780488 ['outbound_vessel_3']\n",
      "outbound_vessel_3 hap is geconvert 2019-01-01 22:22:03.977214\n",
      "left doors2 outbound_vessel_3 2019-01-01 22:26:25.088325 0 [] []\n",
      "lock doors claimed inbound_vessel_3 2019-01-01 22:26:25.088325\n",
      "first in line to claim lock inbound_vessel_3 2019-01-01 22:26:25.088325\n",
      "waiting done inbound_vessel_3 2019-01-01 22:26:25.088325\n",
      "inbound_vessel_3 sail to assigned lock position\n",
      "print doors inbound_vessel_3 ['inbound_vessel_3'] ['inbound_vessel_3']\n",
      "left doors1 inbound_vessel_3 2019-01-01 22:37:31.754992 [] 1 ['inbound_vessel_3']\n",
      "inbound_vessel_3 in lock ['inbound_vessel_3']\n",
      "inbound_vessel_3 converting hap 2019-01-01 22:37:31.754992\n",
      "hi 2019-01-01 22:37:31.754992\n",
      "2019-01-01 22:37:31.754992 Node_49 Node_50 Lock doors closing start\n"
     ]
    },
    {
     "name": "stderr",
     "output_type": "stream",
     "text": [
      "c:\\users\\floorbakker\\opentnsim\\opentnsim\\lock.py:711: UserWarning:\n",
      "\n",
      "Converting non-nanosecond precision datetime values to nanosecond precision. This behavior can eventually be relaxed in xarray, as it is an artifact from pandas which is now beginning to support non-nanosecond precision values. This warning is caused by passing non-nanosecond np.datetime64 or np.timedelta64 values to the DataArray or Variable constructor; it can be silenced by converting the values to nanosecond precision ahead of time.\n",
      "\n"
     ]
    },
    {
     "name": "stdout",
     "output_type": "stream",
     "text": [
      "inbound_vessel_3 hap is geconvert 2019-01-01 23:23:31.754992\n",
      "left doors2 inbound_vessel_3 2019-01-01 23:27:52.866103 1 [] []\n",
      "hey ho outbound_vessel_4 []\n",
      "hi outbound_vessel_4 2019-01-01 23:34:53.739164 0\n",
      "hey ho outbound_vessel_5 ['outbound_vessel_4']\n",
      "yo outbound_vessel_5 2019-01-01 23:44:39.290304 ['outbound_vessel_4']\n",
      "hey ho inbound_vessel_4 []\n",
      "hi inbound_vessel_4 2019-01-02 00:03:11.646837 0\n",
      "outbound_vessel_4 start waiting time 2019-01-02 00:33:34.572497\n",
      "claim the lock doors outbound_vessel_4 2019-01-02 00:33:34.572497\n",
      "lock is empty and not converting outbound_vessel_4 2019-01-02 00:33:34.572497 0 []\n",
      "lock doors claimed outbound_vessel_4 2019-01-02 00:33:34.572497\n",
      "waiting done outbound_vessel_4 2019-01-02 00:33:34.572497\n",
      "outbound_vessel_4 sail to assigned lock position\n",
      "outbound_vessel_5 start waiting time 2019-01-02 00:43:20.123637\n",
      "claim the lock doors outbound_vessel_5 2019-01-02 00:43:20.123637\n",
      "lock not empty outbound_vessel_5 ['outbound_vessel_4']\n",
      "lock is already converting outbound_vessel_5 2019-01-02 00:43:20.123637 ['outbound_vessel_4']\n",
      "print doors outbound_vessel_4 ['outbound_vessel_4'] ['outbound_vessel_4']\n",
      "left doors1 outbound_vessel_4 2019-01-02 00:44:41.239164 0 ['outbound_vessel_5'] ['outbound_vessel_4']\n",
      "outbound_vessel_4 in lock ['outbound_vessel_4', 'outbound_vessel_5']\n",
      "waiting for others outbound_vessel_4\n",
      "lock doors claimed outbound_vessel_5 2019-01-02 00:44:41.239164\n",
      "second in line to claim lock outbound_vessel_5 2019-01-02 00:44:41.239164\n",
      "waiting done outbound_vessel_5 2019-01-02 00:44:41.239164\n",
      "outbound_vessel_5 sail to assigned lock position\n",
      "print doors outbound_vessel_5 ['outbound_vessel_5'] ['outbound_vessel_5']\n",
      "left doors1 outbound_vessel_5 2019-01-02 00:52:05.683609 0 [] ['outbound_vessel_5']\n",
      "outbound_vessel_5 in lock ['outbound_vessel_4', 'outbound_vessel_5']\n",
      "outbound_vessel_5 converting hap 2019-01-02 00:52:05.683609\n",
      "hi 2019-01-02 00:52:05.683609\n",
      "2019-01-02 00:52:05.683609 Node_50 Node_49 Lock doors closing start\n",
      "waiting for others done outbound_vessel_4\n",
      "inbound_vessel_4 start waiting time 2019-01-02 01:01:52.480170\n",
      "claim the lock doors inbound_vessel_4 2019-01-02 01:01:52.480170\n",
      "requesting approach: else inbound_vessel_4 2019-01-02 01:01:52.480170 2 ['outbound_vessel_5'] []\n"
     ]
    },
    {
     "name": "stderr",
     "output_type": "stream",
     "text": [
      "c:\\users\\floorbakker\\opentnsim\\opentnsim\\lock.py:513: UserWarning:\n",
      "\n",
      "Converting non-nanosecond precision datetime values to nanosecond precision. This behavior can eventually be relaxed in xarray, as it is an artifact from pandas which is now beginning to support non-nanosecond precision values. This warning is caused by passing non-nanosecond np.datetime64 or np.timedelta64 values to the DataArray or Variable constructor; it can be silenced by converting the values to nanosecond precision ahead of time.\n",
      "\n",
      "c:\\users\\floorbakker\\opentnsim\\opentnsim\\lock.py:711: UserWarning:\n",
      "\n",
      "Converting non-nanosecond precision datetime values to nanosecond precision. This behavior can eventually be relaxed in xarray, as it is an artifact from pandas which is now beginning to support non-nanosecond precision values. This warning is caused by passing non-nanosecond np.datetime64 or np.timedelta64 values to the DataArray or Variable constructor; it can be silenced by converting the values to nanosecond precision ahead of time.\n",
      "\n"
     ]
    },
    {
     "name": "stdout",
     "output_type": "stream",
     "text": [
      "outbound_vessel_5 hap is geconvert 2019-01-02 01:40:26.794720\n",
      "outbound_vessel_6 start waiting time 2019-01-02 01:45:39.362745\n",
      "wait for lockage True ['outbound_vessel_5'] True\n",
      "outbound_vessel_6 lock position given 2019-01-02 01:46:00.128053\n",
      "outbound_vessel_6 requested place in next lockage 2019-01-02 01:46:00.128053\n",
      "claim the lock doors outbound_vessel_6 2019-01-02 01:46:00.128053\n",
      "requesting approach: else outbound_vessel_6 2019-01-02 01:46:00.128053 0 [] ['outbound_vessel_5']\n",
      "doors requested outbound_vessel_6\n",
      "claiming lock: priority doors2 is -1 outbound_vessel_6 2019-01-02 01:46:00.128053\n",
      "outbound_vessel_6 wth\n",
      "hi 2019-01-02 01:46:00.128053\n",
      "2019-01-02 01:46:00.128053 Node_49 Node_50 Lock doors closing start\n"
     ]
    },
    {
     "name": "stderr",
     "output_type": "stream",
     "text": [
      "c:\\users\\floorbakker\\opentnsim\\opentnsim\\lock.py:711: UserWarning:\n",
      "\n",
      "Converting non-nanosecond precision datetime values to nanosecond precision. This behavior can eventually be relaxed in xarray, as it is an artifact from pandas which is now beginning to support non-nanosecond precision values. This warning is caused by passing non-nanosecond np.datetime64 or np.timedelta64 values to the DataArray or Variable constructor; it can be silenced by converting the values to nanosecond precision ahead of time.\n",
      "\n"
     ]
    },
    {
     "name": "stdout",
     "output_type": "stream",
     "text": [
      "waiting done outbound_vessel_6 2019-01-02 02:41:00.128053\n",
      "outbound_vessel_6 sail to assigned lock position\n",
      "print doors outbound_vessel_6 ['outbound_vessel_6'] ['outbound_vessel_6']\n",
      "left doors1 outbound_vessel_6 2019-01-02 02:52:06.794720 0 [] ['outbound_vessel_6']\n",
      "outbound_vessel_6 in lock ['outbound_vessel_6']\n",
      "outbound_vessel_6 converting hap 2019-01-02 02:52:06.794720\n",
      "hi 2019-01-02 02:52:06.794720\n",
      "2019-01-02 02:52:06.794720 Node_50 Node_49 Lock doors closing start\n"
     ]
    },
    {
     "name": "stderr",
     "output_type": "stream",
     "text": [
      "c:\\users\\floorbakker\\opentnsim\\opentnsim\\lock.py:711: UserWarning:\n",
      "\n",
      "Converting non-nanosecond precision datetime values to nanosecond precision. This behavior can eventually be relaxed in xarray, as it is an artifact from pandas which is now beginning to support non-nanosecond precision values. This warning is caused by passing non-nanosecond np.datetime64 or np.timedelta64 values to the DataArray or Variable constructor; it can be silenced by converting the values to nanosecond precision ahead of time.\n",
      "\n"
     ]
    },
    {
     "name": "stdout",
     "output_type": "stream",
     "text": [
      "outbound_vessel_6 hap is geconvert 2019-01-02 03:51:06.794720\n",
      "left doors2 outbound_vessel_6 2019-01-02 03:55:27.905831 0 [] []\n",
      "doors requested inbound_vessel_4\n",
      "claiming lock: priority doors2 not -1 inbound_vessel_4 2019-01-02 03:55:27.905831\n",
      "waiting done inbound_vessel_4 2019-01-02 03:55:27.905831\n",
      "hey ho inbound_vessel_5 ['inbound_vessel_4']\n",
      "yo inbound_vessel_5 2019-01-02 03:55:27.966763 ['inbound_vessel_4']\n",
      "inbound_vessel_4 sail to assigned lock position\n",
      "print doors inbound_vessel_4 ['inbound_vessel_4'] ['inbound_vessel_4']\n",
      "left doors1 inbound_vessel_4 2019-01-02 04:06:34.572498 [] 1 ['inbound_vessel_4']\n",
      "inbound_vessel_4 in lock ['inbound_vessel_4', 'inbound_vessel_5']\n",
      "waiting for others inbound_vessel_4\n",
      "hey ho outbound_vessel_7 []\n",
      "hi outbound_vessel_7 2019-01-02 04:34:08.166192 0\n",
      "inbound_vessel_5 start waiting time 2019-01-02 04:54:08.800096\n",
      "claim the lock doors inbound_vessel_5 2019-01-02 04:54:08.800096\n",
      "lock not empty inbound_vessel_5 ['inbound_vessel_4']\n",
      "lock is ready to be entered 2019-01-02 04:54:08.800096\n",
      "lock doors claimed inbound_vessel_5 2019-01-02 04:54:08.800096\n",
      "waiting done inbound_vessel_5 2019-01-02 04:54:08.800096\n",
      "inbound_vessel_5 sail to assigned lock position\n",
      "print doors inbound_vessel_5 ['inbound_vessel_5'] ['inbound_vessel_5']\n",
      "left doors1 inbound_vessel_5 2019-01-02 05:01:33.244541 [] 1 ['inbound_vessel_5']\n",
      "inbound_vessel_5 in lock ['inbound_vessel_4', 'inbound_vessel_5']\n",
      "inbound_vessel_5 converting hap 2019-01-02 05:01:33.244541\n",
      "hi 2019-01-02 05:01:33.244541\n",
      "2019-01-02 05:01:33.244541 Node_49 Node_50 Lock doors closing start\n",
      "waiting for others done inbound_vessel_4\n"
     ]
    },
    {
     "name": "stderr",
     "output_type": "stream",
     "text": [
      "c:\\users\\floorbakker\\opentnsim\\opentnsim\\lock.py:513: UserWarning:\n",
      "\n",
      "Converting non-nanosecond precision datetime values to nanosecond precision. This behavior can eventually be relaxed in xarray, as it is an artifact from pandas which is now beginning to support non-nanosecond precision values. This warning is caused by passing non-nanosecond np.datetime64 or np.timedelta64 values to the DataArray or Variable constructor; it can be silenced by converting the values to nanosecond precision ahead of time.\n",
      "\n",
      "c:\\users\\floorbakker\\opentnsim\\opentnsim\\lock.py:711: UserWarning:\n",
      "\n",
      "Converting non-nanosecond precision datetime values to nanosecond precision. This behavior can eventually be relaxed in xarray, as it is an artifact from pandas which is now beginning to support non-nanosecond precision values. This warning is caused by passing non-nanosecond np.datetime64 or np.timedelta64 values to the DataArray or Variable constructor; it can be silenced by converting the values to nanosecond precision ahead of time.\n",
      "\n"
     ]
    },
    {
     "name": "stdout",
     "output_type": "stream",
     "text": [
      "outbound_vessel_7 start waiting time 2019-01-02 05:32:48.999525\n",
      "claim the lock doors outbound_vessel_7 2019-01-02 05:32:48.999525\n",
      "lock not empty outbound_vessel_7 ['inbound_vessel_4', 'inbound_vessel_5']\n",
      "lock is already converting outbound_vessel_7 2019-01-02 05:32:48.999525 ['inbound_vessel_4', 'inbound_vessel_5']\n",
      "inbound_vessel_5 hap is geconvert 2019-01-02 05:50:54.355652\n",
      "left doors2 inbound_vessel_5 2019-01-02 05:58:57.688985 1 [] []\n",
      "lock doors claimed outbound_vessel_7 2019-01-02 05:58:57.688985\n",
      "first in line to claim lock outbound_vessel_7 2019-01-02 05:58:57.688985\n",
      "waiting done outbound_vessel_7 2019-01-02 05:58:57.688985\n",
      "outbound_vessel_7 sail to assigned lock position\n",
      "print doors outbound_vessel_7 ['outbound_vessel_7'] ['outbound_vessel_7']\n",
      "left doors1 outbound_vessel_7 2019-01-02 06:10:04.355652 0 [] ['outbound_vessel_7']\n",
      "outbound_vessel_7 in lock ['outbound_vessel_7']\n",
      "outbound_vessel_7 converting hap 2019-01-02 06:10:04.355652\n",
      "hi 2019-01-02 06:10:04.355652\n",
      "2019-01-02 06:10:04.355652 Node_50 Node_49 Lock doors closing start\n",
      "hey ho inbound_vessel_6 []\n",
      "hi inbound_vessel_6 2019-01-02 06:15:28.668131 0\n"
     ]
    },
    {
     "name": "stderr",
     "output_type": "stream",
     "text": [
      "c:\\users\\floorbakker\\opentnsim\\opentnsim\\lock.py:711: UserWarning:\n",
      "\n",
      "Converting non-nanosecond precision datetime values to nanosecond precision. This behavior can eventually be relaxed in xarray, as it is an artifact from pandas which is now beginning to support non-nanosecond precision values. This warning is caused by passing non-nanosecond np.datetime64 or np.timedelta64 values to the DataArray or Variable constructor; it can be silenced by converting the values to nanosecond precision ahead of time.\n",
      "\n"
     ]
    },
    {
     "name": "stdout",
     "output_type": "stream",
     "text": [
      "outbound_vessel_7 hap is geconvert 2019-01-02 06:31:04.355652\n",
      "left doors2 outbound_vessel_7 2019-01-02 06:35:25.466763 0 [] []\n",
      "hey ho outbound_vessel_8 []\n",
      "hi outbound_vessel_8 2019-01-02 06:50:19.702413 0\n",
      "hey ho outbound_vessel_9 ['outbound_vessel_8']\n",
      "yo outbound_vessel_9 2019-01-02 07:00:24.567673 ['outbound_vessel_8']\n",
      "hey ho inbound_vessel_7 ['inbound_vessel_6']\n",
      "yo inbound_vessel_7 2019-01-02 07:07:54.243398 ['inbound_vessel_6']\n",
      "inbound_vessel_6 start waiting time 2019-01-02 07:14:09.501464\n",
      "claim the lock doors inbound_vessel_6 2019-01-02 07:14:09.501464\n",
      "lock is empty and not converting inbound_vessel_6 2019-01-02 07:14:09.501464 0 []\n",
      "lock doors claimed inbound_vessel_6 2019-01-02 07:14:09.501464\n",
      "waiting done inbound_vessel_6 2019-01-02 07:14:09.501464\n",
      "inbound_vessel_6 sail to assigned lock position\n",
      "print doors inbound_vessel_6 ['inbound_vessel_6'] ['inbound_vessel_6']\n",
      "left doors1 inbound_vessel_6 2019-01-02 07:25:16.168131 [] 1 ['inbound_vessel_6']\n",
      "inbound_vessel_6 in lock ['inbound_vessel_6', 'inbound_vessel_7']\n",
      "waiting for others inbound_vessel_6\n",
      "outbound_vessel_8 start waiting time 2019-01-02 07:49:00.535746\n",
      "claim the lock doors outbound_vessel_8 2019-01-02 07:49:00.535746\n",
      "requesting approach: else outbound_vessel_8 2019-01-02 07:49:00.535746 1 ['inbound_vessel_6'] []\n",
      "outbound_vessel_9 start waiting time 2019-01-02 07:57:58.734340\n",
      "claim the lock doors outbound_vessel_9 2019-01-02 07:57:58.734340\n",
      "requesting approach: else outbound_vessel_9 2019-01-02 07:57:58.734340 1 ['inbound_vessel_6'] []\n",
      "inbound_vessel_7 start waiting time 2019-01-02 08:06:35.076731\n",
      "claim the lock doors inbound_vessel_7 2019-01-02 08:06:35.076731\n",
      "lock not empty inbound_vessel_7 ['inbound_vessel_6']\n",
      "lock is ready to be entered 2019-01-02 08:06:35.076731\n",
      "lock doors claimed inbound_vessel_7 2019-01-02 08:06:35.076731\n",
      "waiting done inbound_vessel_7 2019-01-02 08:06:35.076731\n",
      "inbound_vessel_7 sail to assigned lock position\n",
      "print doors inbound_vessel_7 ['inbound_vessel_7'] ['inbound_vessel_7']\n",
      "left doors1 inbound_vessel_7 2019-01-02 08:13:59.521176 [] 1 ['inbound_vessel_7']\n",
      "inbound_vessel_7 in lock ['inbound_vessel_6', 'inbound_vessel_7']\n",
      "inbound_vessel_7 converting hap 2019-01-02 08:13:59.521176\n",
      "hi 2019-01-02 08:13:59.521176\n",
      "2019-01-02 08:13:59.521176 Node_49 Node_50 Lock doors closing start\n",
      "waiting for others done inbound_vessel_6\n"
     ]
    },
    {
     "name": "stderr",
     "output_type": "stream",
     "text": [
      "c:\\users\\floorbakker\\opentnsim\\opentnsim\\lock.py:513: UserWarning:\n",
      "\n",
      "Converting non-nanosecond precision datetime values to nanosecond precision. This behavior can eventually be relaxed in xarray, as it is an artifact from pandas which is now beginning to support non-nanosecond precision values. This warning is caused by passing non-nanosecond np.datetime64 or np.timedelta64 values to the DataArray or Variable constructor; it can be silenced by converting the values to nanosecond precision ahead of time.\n",
      "\n",
      "c:\\users\\floorbakker\\opentnsim\\opentnsim\\lock.py:711: UserWarning:\n",
      "\n",
      "Converting non-nanosecond precision datetime values to nanosecond precision. This behavior can eventually be relaxed in xarray, as it is an artifact from pandas which is now beginning to support non-nanosecond precision values. This warning is caused by passing non-nanosecond np.datetime64 or np.timedelta64 values to the DataArray or Variable constructor; it can be silenced by converting the values to nanosecond precision ahead of time.\n",
      "\n"
     ]
    },
    {
     "name": "stdout",
     "output_type": "stream",
     "text": [
      "inbound_vessel_8 start waiting time 2019-01-02 09:14:13.541690\n",
      "wait for lockage True ['inbound_vessel_7'] True\n",
      "inbound_vessel_7 hap is geconvert 2019-01-02 09:14:20.632287\n",
      "inbound_vessel_8 lock position given 2019-01-02 09:19:53.965620\n",
      "inbound_vessel_8 requested place in next lockage 2019-01-02 09:19:53.965620\n",
      "claim the lock doors inbound_vessel_8 2019-01-02 09:19:53.965620\n",
      "requesting approach: else inbound_vessel_8 2019-01-02 09:19:53.965620 0 [] ['inbound_vessel_7']\n",
      "doors requested inbound_vessel_8\n",
      "claiming lock: priority doors2 is -1 inbound_vessel_8 2019-01-02 09:19:53.965620\n",
      "inbound_vessel_8 wth\n",
      "hi 2019-01-02 09:19:53.965620\n",
      "2019-01-02 09:19:53.965620 Node_50 Node_49 Lock doors closing start\n"
     ]
    },
    {
     "name": "stderr",
     "output_type": "stream",
     "text": [
      "c:\\users\\floorbakker\\opentnsim\\opentnsim\\lock.py:711: UserWarning:\n",
      "\n",
      "Converting non-nanosecond precision datetime values to nanosecond precision. This behavior can eventually be relaxed in xarray, as it is an artifact from pandas which is now beginning to support non-nanosecond precision values. This warning is caused by passing non-nanosecond np.datetime64 or np.timedelta64 values to the DataArray or Variable constructor; it can be silenced by converting the values to nanosecond precision ahead of time.\n",
      "\n"
     ]
    },
    {
     "name": "stdout",
     "output_type": "stream",
     "text": [
      "inbound_vessel_9 start waiting time 2019-01-02 09:35:52.438018\n",
      "inbound_vessel_9 lock position given 2019-01-02 09:35:52.438018\n",
      "inbound_vessel_9 requested place in next lockage 2019-01-02 09:35:52.438018\n",
      "claim the lock doors inbound_vessel_9 2019-01-02 09:35:52.438018\n",
      "lock is empty and not converting inbound_vessel_9 2019-01-02 09:35:52.438018 0 []\n",
      "waiting done inbound_vessel_8 2019-01-02 10:18:53.965620\n",
      "inbound_vessel_8 sail to assigned lock position\n",
      "print doors inbound_vessel_8 ['inbound_vessel_8'] ['inbound_vessel_8']\n",
      "left doors1 inbound_vessel_8 2019-01-02 10:30:00.632287 ['inbound_vessel_9'] 1 ['inbound_vessel_8']\n",
      "inbound_vessel_8 in lock ['inbound_vessel_8', 'inbound_vessel_9']\n",
      "waiting for others inbound_vessel_8\n",
      "lock doors claimed inbound_vessel_9 2019-01-02 10:30:00.632287\n",
      "waiting done inbound_vessel_9 2019-01-02 10:30:00.632287\n",
      "inbound_vessel_9 sail to assigned lock position\n",
      "inbound_vessel_10 start waiting time 2019-01-02 10:37:06.395999\n",
      "wait for lockage True ['inbound_vessel_8', 'inbound_vessel_9'] False\n",
      "print doors inbound_vessel_9 ['inbound_vessel_9'] ['inbound_vessel_8']\n",
      "left doors1 inbound_vessel_9 2019-01-02 10:41:07.298954 [] 1 ['inbound_vessel_8']\n",
      "inbound_vessel_9 in lock ['inbound_vessel_8', 'inbound_vessel_9']\n",
      "inbound_vessel_9 converting hap 2019-01-02 10:41:07.298954\n",
      "hi 2019-01-02 10:41:07.298954\n",
      "2019-01-02 10:41:07.298954 Node_49 Node_50 Lock doors closing start\n",
      "waiting for others done inbound_vessel_8\n"
     ]
    },
    {
     "name": "stderr",
     "output_type": "stream",
     "text": [
      "c:\\users\\floorbakker\\opentnsim\\opentnsim\\lock.py:711: UserWarning:\n",
      "\n",
      "Converting non-nanosecond precision datetime values to nanosecond precision. This behavior can eventually be relaxed in xarray, as it is an artifact from pandas which is now beginning to support non-nanosecond precision values. This warning is caused by passing non-nanosecond np.datetime64 or np.timedelta64 values to the DataArray or Variable constructor; it can be silenced by converting the values to nanosecond precision ahead of time.\n",
      "\n"
     ]
    },
    {
     "name": "stdout",
     "output_type": "stream",
     "text": [
      "left doors2 inbound_vessel_8 2019-01-02 11:37:28.410065 1 [] []\n",
      "inbound_vessel_9 hap is geconvert 2019-01-02 11:37:28.410065\n",
      "inbound_vessel_10 lock position given 2019-01-02 11:43:01.743398\n",
      "inbound_vessel_10 requested place in next lockage 2019-01-02 11:43:01.743398\n",
      "claim the lock doors inbound_vessel_10 2019-01-02 11:43:01.743398\n",
      "requesting approach: else inbound_vessel_10 2019-01-02 11:43:01.743398 0 [] ['inbound_vessel_9']\n",
      "doors requested inbound_vessel_10\n",
      "claiming lock: priority doors2 is -1 inbound_vessel_10 2019-01-02 11:43:01.743398\n",
      "inbound_vessel_10 wth\n",
      "hi 2019-01-02 11:43:01.743398\n",
      "2019-01-02 11:43:01.743398 Node_50 Node_49 Lock doors closing start\n",
      "hey ho inbound_vessel_11 ['inbound_vessel_10']\n",
      "yo inbound_vessel_11 2019-01-02 11:46:14.478996 ['inbound_vessel_10']\n"
     ]
    },
    {
     "name": "stderr",
     "output_type": "stream",
     "text": [
      "c:\\users\\floorbakker\\opentnsim\\opentnsim\\lock.py:711: UserWarning:\n",
      "\n",
      "Converting non-nanosecond precision datetime values to nanosecond precision. This behavior can eventually be relaxed in xarray, as it is an artifact from pandas which is now beginning to support non-nanosecond precision values. This warning is caused by passing non-nanosecond np.datetime64 or np.timedelta64 values to the DataArray or Variable constructor; it can be silenced by converting the values to nanosecond precision ahead of time.\n",
      "\n"
     ]
    },
    {
     "name": "stdout",
     "output_type": "stream",
     "text": [
      "waiting done inbound_vessel_10 2019-01-02 12:21:01.743398\n",
      "inbound_vessel_10 sail to assigned lock position\n",
      "print doors inbound_vessel_10 ['inbound_vessel_10'] ['inbound_vessel_10']\n",
      "left doors1 inbound_vessel_10 2019-01-02 12:32:08.410065 [] 1 ['inbound_vessel_10']\n",
      "inbound_vessel_10 in lock ['inbound_vessel_10', 'inbound_vessel_11']\n",
      "waiting for others inbound_vessel_10\n",
      "inbound_vessel_11 start waiting time 2019-01-02 12:44:55.312329\n",
      "claim the lock doors inbound_vessel_11 2019-01-02 12:44:55.312329\n",
      "lock not empty inbound_vessel_11 ['inbound_vessel_10']\n",
      "lock is ready to be entered 2019-01-02 12:44:55.312329\n",
      "lock doors claimed inbound_vessel_11 2019-01-02 12:44:55.312329\n",
      "waiting done inbound_vessel_11 2019-01-02 12:44:55.312329\n",
      "inbound_vessel_11 sail to assigned lock position\n",
      "print doors inbound_vessel_11 ['inbound_vessel_11'] ['inbound_vessel_11']\n",
      "left doors1 inbound_vessel_11 2019-01-02 12:52:19.756774 [] 1 ['inbound_vessel_11']\n",
      "inbound_vessel_11 in lock ['inbound_vessel_10', 'inbound_vessel_11']\n",
      "inbound_vessel_11 converting hap 2019-01-02 12:52:19.756774\n",
      "hi 2019-01-02 12:52:19.756774\n",
      "2019-01-02 12:52:19.756774 Node_49 Node_50 Lock doors closing start\n",
      "waiting for others done inbound_vessel_10\n"
     ]
    },
    {
     "name": "stderr",
     "output_type": "stream",
     "text": [
      "c:\\users\\floorbakker\\opentnsim\\opentnsim\\lock.py:711: UserWarning:\n",
      "\n",
      "Converting non-nanosecond precision datetime values to nanosecond precision. This behavior can eventually be relaxed in xarray, as it is an artifact from pandas which is now beginning to support non-nanosecond precision values. This warning is caused by passing non-nanosecond np.datetime64 or np.timedelta64 values to the DataArray or Variable constructor; it can be silenced by converting the values to nanosecond precision ahead of time.\n",
      "\n"
     ]
    },
    {
     "name": "stdout",
     "output_type": "stream",
     "text": [
      "inbound_vessel_11 hap is geconvert 2019-01-02 13:30:40.867885\n",
      "left doors2 inbound_vessel_11 2019-01-02 13:38:44.201218 1 [] []\n",
      "doors requested outbound_vessel_8\n",
      "claiming lock: priority doors2 not -1 outbound_vessel_8 2019-01-02 13:38:44.201218\n",
      "waiting done outbound_vessel_8 2019-01-02 13:38:44.201218\n",
      "outbound_vessel_8 sail to assigned lock position\n",
      "print doors outbound_vessel_8 ['outbound_vessel_8'] ['outbound_vessel_8']\n",
      "left doors1 outbound_vessel_8 2019-01-02 13:49:50.867885 0 ['outbound_vessel_9'] ['outbound_vessel_8']\n",
      "outbound_vessel_8 in lock ['outbound_vessel_8', 'outbound_vessel_9']\n",
      "waiting for others outbound_vessel_8\n",
      "doors requested outbound_vessel_9\n",
      "claiming lock: priority doors2 is -1 outbound_vessel_9 2019-01-02 13:49:50.867885\n",
      "waiting done outbound_vessel_9 2019-01-02 13:49:50.867885\n",
      "outbound_vessel_9 sail to assigned lock position\n",
      "outbound_vessel_10 start waiting time 2019-01-02 14:00:01.978996\n",
      "wait for lockage True ['outbound_vessel_8', 'outbound_vessel_9'] False\n",
      "print doors outbound_vessel_9 ['outbound_vessel_9'] ['outbound_vessel_9']\n",
      "left doors1 outbound_vessel_9 2019-01-02 14:00:57.534552 0 [] ['outbound_vessel_9']\n",
      "outbound_vessel_9 in lock ['outbound_vessel_8', 'outbound_vessel_9']\n",
      "outbound_vessel_9 converting hap 2019-01-02 14:00:57.534552\n",
      "hi 2019-01-02 14:00:57.534552\n",
      "2019-01-02 14:00:57.534552 Node_50 Node_49 Lock doors closing start\n",
      "waiting for others done outbound_vessel_8\n"
     ]
    },
    {
     "name": "stderr",
     "output_type": "stream",
     "text": [
      "c:\\users\\floorbakker\\opentnsim\\opentnsim\\lock.py:711: UserWarning:\n",
      "\n",
      "Converting non-nanosecond precision datetime values to nanosecond precision. This behavior can eventually be relaxed in xarray, as it is an artifact from pandas which is now beginning to support non-nanosecond precision values. This warning is caused by passing non-nanosecond np.datetime64 or np.timedelta64 values to the DataArray or Variable constructor; it can be silenced by converting the values to nanosecond precision ahead of time.\n",
      "\n"
     ]
    },
    {
     "name": "stdout",
     "output_type": "stream",
     "text": [
      "outbound_vessel_11 start waiting time 2019-01-02 14:25:57.267092\n",
      "wait for lockage True ['outbound_vessel_8', 'outbound_vessel_9'] True\n",
      "outbound_vessel_9 hap is geconvert 2019-01-02 14:57:18.645663\n",
      "hey ho inbound_vessel_12 []\n",
      "hi inbound_vessel_12 2019-01-02 15:00:41.607194 0\n",
      "outbound_vessel_10 lock position given 2019-01-02 15:02:51.978996\n",
      "outbound_vessel_10 requested place in next lockage 2019-01-02 15:02:51.978996\n",
      "claim the lock doors outbound_vessel_10 2019-01-02 15:02:51.978996\n",
      "requesting approach: else outbound_vessel_10 2019-01-02 15:02:51.978996 0 [] ['outbound_vessel_9']\n",
      "outbound_vessel_11 lock position given 2019-01-02 15:02:51.978996\n",
      "outbound_vessel_11 requested place in next lockage 2019-01-02 15:02:51.978996\n",
      "claim the lock doors outbound_vessel_11 2019-01-02 15:02:51.978996\n",
      "requesting approach: else outbound_vessel_11 2019-01-02 15:02:51.978996 0 ['outbound_vessel_10'] ['outbound_vessel_9']\n",
      "doors requested outbound_vessel_10\n",
      "claiming lock: priority doors2 is -1 outbound_vessel_10 2019-01-02 15:02:51.978996\n",
      "outbound_vessel_10 wth\n",
      "hi 2019-01-02 15:02:51.978996\n",
      "2019-01-02 15:02:51.978996 Node_49 Node_50 Lock doors closing start\n"
     ]
    },
    {
     "name": "stderr",
     "output_type": "stream",
     "text": [
      "c:\\users\\floorbakker\\opentnsim\\opentnsim\\lock.py:711: UserWarning:\n",
      "\n",
      "Converting non-nanosecond precision datetime values to nanosecond precision. This behavior can eventually be relaxed in xarray, as it is an artifact from pandas which is now beginning to support non-nanosecond precision values. This warning is caused by passing non-nanosecond np.datetime64 or np.timedelta64 values to the DataArray or Variable constructor; it can be silenced by converting the values to nanosecond precision ahead of time.\n",
      "\n"
     ]
    },
    {
     "name": "stdout",
     "output_type": "stream",
     "text": [
      "hey ho inbound_vessel_13 ['inbound_vessel_12']\n",
      "yo inbound_vessel_13 2019-01-02 15:35:57.851364 ['inbound_vessel_12']\n",
      "inbound_vessel_12 start waiting time 2019-01-02 15:59:22.440527\n",
      "claim the lock doors inbound_vessel_12 2019-01-02 15:59:22.440527\n",
      "wait in lock first 2019-01-02 15:59:22.440527\n",
      "waiting done outbound_vessel_10 2019-01-02 16:00:51.978996\n",
      "outbound_vessel_10 sail to assigned lock position\n",
      "print doors outbound_vessel_10 ['outbound_vessel_10'] ['outbound_vessel_10']\n",
      "left doors1 outbound_vessel_10 2019-01-02 16:06:25.312330 0 ['outbound_vessel_11'] ['outbound_vessel_10']\n",
      "outbound_vessel_10 in lock ['outbound_vessel_10', 'outbound_vessel_11']\n",
      "waiting for others outbound_vessel_10\n",
      "doors requested outbound_vessel_11\n",
      "claiming lock: priority doors2 is -1 outbound_vessel_11 2019-01-02 16:06:25.312330\n",
      "waiting done outbound_vessel_11 2019-01-02 16:06:25.312330\n",
      "outbound_vessel_11 sail to assigned lock position\n",
      "print doors outbound_vessel_11 ['outbound_vessel_11'] ['outbound_vessel_11']\n",
      "left doors1 outbound_vessel_11 2019-01-02 16:17:31.978997 0 ['inbound_vessel_12'] ['outbound_vessel_11']\n",
      "outbound_vessel_11 in lock ['outbound_vessel_10', 'outbound_vessel_11']\n",
      "requesting approach: else inbound_vessel_12 2019-01-02 16:17:31.978997 2 ['outbound_vessel_11'] []\n",
      "outbound_vessel_11 converting hap 2019-01-02 16:17:31.978997\n",
      "hi 2019-01-02 16:17:31.978997\n",
      "2019-01-02 16:17:31.978997 Node_50 Node_49 Lock doors closing start\n",
      "waiting for others done outbound_vessel_10\n"
     ]
    },
    {
     "name": "stderr",
     "output_type": "stream",
     "text": [
      "c:\\users\\floorbakker\\opentnsim\\opentnsim\\lock.py:711: UserWarning:\n",
      "\n",
      "Converting non-nanosecond precision datetime values to nanosecond precision. This behavior can eventually be relaxed in xarray, as it is an artifact from pandas which is now beginning to support non-nanosecond precision values. This warning is caused by passing non-nanosecond np.datetime64 or np.timedelta64 values to the DataArray or Variable constructor; it can be silenced by converting the values to nanosecond precision ahead of time.\n",
      "\n"
     ]
    },
    {
     "name": "stdout",
     "output_type": "stream",
     "text": [
      "inbound_vessel_13 start waiting time 2019-01-02 16:33:32.018031\n",
      "claim the lock doors inbound_vessel_13 2019-01-02 16:33:32.018031\n",
      "lock not empty inbound_vessel_13 ['outbound_vessel_10', 'outbound_vessel_11']\n",
      "lock is already converting inbound_vessel_13 2019-01-02 16:33:32.018031 ['outbound_vessel_10', 'outbound_vessel_11']\n",
      "outbound_vessel_12 start waiting time 2019-01-02 17:01:39.599495\n",
      "wait for lockage True ['outbound_vessel_10', 'outbound_vessel_11'] True\n",
      "outbound_vessel_11 hap is geconvert 2019-01-02 17:24:26.423441\n",
      "outbound_vessel_12 lock position given 2019-01-02 17:29:59.756774\n",
      "outbound_vessel_12 requested place in next lockage 2019-01-02 17:29:59.756774\n",
      "claim the lock doors outbound_vessel_12 2019-01-02 17:29:59.756774\n",
      "requesting approach: else outbound_vessel_12 2019-01-02 17:29:59.756774 0 [] ['outbound_vessel_11']\n",
      "doors requested outbound_vessel_12\n",
      "claiming lock: priority doors2 is -1 outbound_vessel_12 2019-01-02 17:29:59.756774\n",
      "outbound_vessel_12 wth\n",
      "hi 2019-01-02 17:29:59.756774\n",
      "2019-01-02 17:29:59.756774 Node_49 Node_50 Lock doors closing start\n"
     ]
    },
    {
     "name": "stderr",
     "output_type": "stream",
     "text": [
      "c:\\users\\floorbakker\\opentnsim\\opentnsim\\lock.py:711: UserWarning:\n",
      "\n",
      "Converting non-nanosecond precision datetime values to nanosecond precision. This behavior can eventually be relaxed in xarray, as it is an artifact from pandas which is now beginning to support non-nanosecond precision values. This warning is caused by passing non-nanosecond np.datetime64 or np.timedelta64 values to the DataArray or Variable constructor; it can be silenced by converting the values to nanosecond precision ahead of time.\n",
      "\n"
     ]
    },
    {
     "name": "stdout",
     "output_type": "stream",
     "text": [
      "waiting done outbound_vessel_12 2019-01-02 18:14:59.756774\n",
      "outbound_vessel_12 sail to assigned lock position\n",
      "print doors outbound_vessel_12 ['outbound_vessel_12'] ['outbound_vessel_12']\n",
      "left doors1 outbound_vessel_12 2019-01-02 18:26:06.423441 0 [] ['outbound_vessel_12']\n",
      "outbound_vessel_12 in lock ['outbound_vessel_12']\n",
      "outbound_vessel_12 converting hap 2019-01-02 18:26:06.423441\n",
      "hi 2019-01-02 18:26:06.423441\n",
      "2019-01-02 18:26:06.423441 Node_50 Node_49 Lock doors closing start\n"
     ]
    },
    {
     "name": "stderr",
     "output_type": "stream",
     "text": [
      "c:\\users\\floorbakker\\opentnsim\\opentnsim\\lock.py:711: UserWarning:\n",
      "\n",
      "Converting non-nanosecond precision datetime values to nanosecond precision. This behavior can eventually be relaxed in xarray, as it is an artifact from pandas which is now beginning to support non-nanosecond precision values. This warning is caused by passing non-nanosecond np.datetime64 or np.timedelta64 values to the DataArray or Variable constructor; it can be silenced by converting the values to nanosecond precision ahead of time.\n",
      "\n"
     ]
    },
    {
     "name": "stdout",
     "output_type": "stream",
     "text": [
      "hey ho outbound_vessel_13 ['outbound_vessel_12']\n",
      "outbound_vessel_12 hap is geconvert 2019-01-02 18:47:06.423441\n",
      "left doors2 outbound_vessel_12 2019-01-02 18:51:27.534552 0 [] []\n",
      "doors requested inbound_vessel_12\n",
      "claiming lock: priority doors2 not -1 inbound_vessel_12 2019-01-02 18:51:27.534552\n",
      "waiting done inbound_vessel_12 2019-01-02 18:51:27.534552\n",
      "inbound_vessel_12 sail to assigned lock position\n",
      "print doors inbound_vessel_12 ['inbound_vessel_12'] ['inbound_vessel_12']\n",
      "left doors1 inbound_vessel_12 2019-01-02 19:02:34.201219 ['inbound_vessel_13'] 1 ['inbound_vessel_12']\n",
      "inbound_vessel_12 in lock ['inbound_vessel_12', 'inbound_vessel_13']\n",
      "waiting for others inbound_vessel_12\n",
      "lock doors claimed inbound_vessel_13 2019-01-02 19:02:34.201219\n",
      "second in line to claim lock inbound_vessel_13 2019-01-02 19:02:34.201219\n",
      "waiting done inbound_vessel_13 2019-01-02 19:02:34.201219\n",
      "inbound_vessel_13 sail to assigned lock position\n",
      "print doors inbound_vessel_13 ['inbound_vessel_13'] ['inbound_vessel_13']\n",
      "left doors1 inbound_vessel_13 2019-01-02 19:13:40.867886 [] 1 ['inbound_vessel_13']\n",
      "inbound_vessel_13 in lock ['inbound_vessel_12', 'inbound_vessel_13']\n",
      "inbound_vessel_13 converting hap 2019-01-02 19:13:40.867886\n",
      "hi 2019-01-02 19:13:40.867886\n",
      "2019-01-02 19:13:40.867886 Node_49 Node_50 Lock doors closing start\n",
      "waiting for others done inbound_vessel_12\n"
     ]
    },
    {
     "name": "stderr",
     "output_type": "stream",
     "text": [
      "c:\\users\\floorbakker\\opentnsim\\opentnsim\\lock.py:711: UserWarning:\n",
      "\n",
      "Converting non-nanosecond precision datetime values to nanosecond precision. This behavior can eventually be relaxed in xarray, as it is an artifact from pandas which is now beginning to support non-nanosecond precision values. This warning is caused by passing non-nanosecond np.datetime64 or np.timedelta64 values to the DataArray or Variable constructor; it can be silenced by converting the values to nanosecond precision ahead of time.\n",
      "\n"
     ]
    },
    {
     "name": "stdout",
     "output_type": "stream",
     "text": [
      "inbound_vessel_14 start waiting time 2019-01-02 19:29:48.261871\n",
      "wait for lockage True ['inbound_vessel_12', 'inbound_vessel_13'] True\n",
      "outbound_vessel_13 start waiting time 2019-01-02 19:35:17.632772\n",
      "outbound_vessel_13 lock position given 2019-01-02 19:35:17.632772\n",
      "outbound_vessel_13 requested place in next lockage 2019-01-02 19:35:17.632772\n",
      "claim the lock doors outbound_vessel_13 2019-01-02 19:35:17.632772\n",
      "lock not empty outbound_vessel_13 ['inbound_vessel_12', 'inbound_vessel_13']\n",
      "lock is already converting outbound_vessel_13 2019-01-02 19:35:17.632772 ['inbound_vessel_12', 'inbound_vessel_13']\n",
      "inbound_vessel_13 hap is geconvert 2019-01-02 19:54:01.978997\n",
      "inbound_vessel_14 lock position given 2019-01-02 19:59:35.312330\n",
      "inbound_vessel_14 requested place in next lockage 2019-01-02 19:59:35.312330\n",
      "claim the lock doors inbound_vessel_14 2019-01-02 19:59:35.312330\n",
      "requesting approach: else inbound_vessel_14 2019-01-02 19:59:35.312330 0 [] ['inbound_vessel_13']\n",
      "doors requested inbound_vessel_14\n",
      "claiming lock: priority doors2 is -1 inbound_vessel_14 2019-01-02 19:59:35.312330\n",
      "inbound_vessel_14 wth\n",
      "hi 2019-01-02 19:59:35.312330\n",
      "2019-01-02 19:59:35.312330 Node_50 Node_49 Lock doors closing start\n"
     ]
    },
    {
     "name": "stderr",
     "output_type": "stream",
     "text": [
      "c:\\users\\floorbakker\\opentnsim\\opentnsim\\lock.py:711: UserWarning:\n",
      "\n",
      "Converting non-nanosecond precision datetime values to nanosecond precision. This behavior can eventually be relaxed in xarray, as it is an artifact from pandas which is now beginning to support non-nanosecond precision values. This warning is caused by passing non-nanosecond np.datetime64 or np.timedelta64 values to the DataArray or Variable constructor; it can be silenced by converting the values to nanosecond precision ahead of time.\n",
      "\n"
     ]
    },
    {
     "name": "stdout",
     "output_type": "stream",
     "text": [
      "waiting done inbound_vessel_14 2019-01-02 20:48:35.312330\n",
      "inbound_vessel_14 sail to assigned lock position\n",
      "print doors inbound_vessel_14 ['inbound_vessel_14'] ['inbound_vessel_14']\n",
      "left doors1 inbound_vessel_14 2019-01-02 20:59:41.978997 [] 1 ['inbound_vessel_14']\n",
      "inbound_vessel_14 in lock ['inbound_vessel_14']\n",
      "inbound_vessel_14 converting hap 2019-01-02 20:59:41.978997\n",
      "hi 2019-01-02 20:59:41.978997\n",
      "2019-01-02 20:59:41.978997 Node_49 Node_50 Lock doors closing start\n"
     ]
    },
    {
     "name": "stderr",
     "output_type": "stream",
     "text": [
      "c:\\users\\floorbakker\\opentnsim\\opentnsim\\lock.py:711: UserWarning:\n",
      "\n",
      "Converting non-nanosecond precision datetime values to nanosecond precision. This behavior can eventually be relaxed in xarray, as it is an artifact from pandas which is now beginning to support non-nanosecond precision values. This warning is caused by passing non-nanosecond np.datetime64 or np.timedelta64 values to the DataArray or Variable constructor; it can be silenced by converting the values to nanosecond precision ahead of time.\n",
      "\n"
     ]
    },
    {
     "name": "stdout",
     "output_type": "stream",
     "text": [
      "hey ho inbound_vessel_15 ['inbound_vessel_14']\n",
      "inbound_vessel_14 hap is geconvert 2019-01-02 21:56:41.978997\n",
      "left doors2 inbound_vessel_14 2019-01-02 22:01:03.090108 1 [] []\n",
      "lock doors claimed outbound_vessel_13 2019-01-02 22:01:03.090108\n",
      "first in line to claim lock outbound_vessel_13 2019-01-02 22:01:03.090108\n",
      "waiting done outbound_vessel_13 2019-01-02 22:01:03.090108\n",
      "outbound_vessel_13 sail to assigned lock position\n",
      "hey ho outbound_vessel_14 ['outbound_vessel_13']\n",
      "yo outbound_vessel_14 2019-01-02 22:05:45.113972 ['outbound_vessel_13']\n",
      "print doors outbound_vessel_13 ['outbound_vessel_13'] ['outbound_vessel_13']\n",
      "left doors1 outbound_vessel_13 2019-01-02 22:12:09.756775 0 [] ['outbound_vessel_13']\n",
      "outbound_vessel_13 in lock ['outbound_vessel_13', 'outbound_vessel_14']\n",
      "waiting for others outbound_vessel_13\n",
      "inbound_vessel_15 start waiting time 2019-01-02 22:53:55.084969\n",
      "inbound_vessel_15 lock position given 2019-01-02 22:53:55.084969\n",
      "inbound_vessel_15 requested place in next lockage 2019-01-02 22:53:55.084969\n",
      "claim the lock doors inbound_vessel_15 2019-01-02 22:53:55.084969\n",
      "requesting approach: else inbound_vessel_15 2019-01-02 22:53:55.084969 1 ['outbound_vessel_13'] []\n",
      "outbound_vessel_14 start waiting time 2019-01-02 23:04:25.947305\n",
      "claim the lock doors outbound_vessel_14 2019-01-02 23:04:25.947305\n",
      "lock not empty outbound_vessel_14 ['outbound_vessel_13']\n",
      "lock is ready to be entered 2019-01-02 23:04:25.947305\n",
      "lock doors claimed outbound_vessel_14 2019-01-02 23:04:25.947305\n",
      "waiting done outbound_vessel_14 2019-01-02 23:04:25.947305\n",
      "outbound_vessel_14 sail to assigned lock position\n",
      "print doors outbound_vessel_14 ['outbound_vessel_14'] ['outbound_vessel_14']\n",
      "left doors1 outbound_vessel_14 2019-01-02 23:11:50.391750 0 [] ['outbound_vessel_14']\n",
      "outbound_vessel_14 in lock ['outbound_vessel_13', 'outbound_vessel_14']\n",
      "outbound_vessel_14 converting hap 2019-01-02 23:11:50.391750\n",
      "hi 2019-01-02 23:11:50.391750\n",
      "2019-01-02 23:11:50.391750 Node_50 Node_49 Lock doors closing start\n",
      "waiting for others done outbound_vessel_13\n"
     ]
    },
    {
     "name": "stderr",
     "output_type": "stream",
     "text": [
      "c:\\users\\floorbakker\\opentnsim\\opentnsim\\lock.py:513: UserWarning:\n",
      "\n",
      "Converting non-nanosecond precision datetime values to nanosecond precision. This behavior can eventually be relaxed in xarray, as it is an artifact from pandas which is now beginning to support non-nanosecond precision values. This warning is caused by passing non-nanosecond np.datetime64 or np.timedelta64 values to the DataArray or Variable constructor; it can be silenced by converting the values to nanosecond precision ahead of time.\n",
      "\n",
      "c:\\users\\floorbakker\\opentnsim\\opentnsim\\lock.py:711: UserWarning:\n",
      "\n",
      "Converting non-nanosecond precision datetime values to nanosecond precision. This behavior can eventually be relaxed in xarray, as it is an artifact from pandas which is now beginning to support non-nanosecond precision values. This warning is caused by passing non-nanosecond np.datetime64 or np.timedelta64 values to the DataArray or Variable constructor; it can be silenced by converting the values to nanosecond precision ahead of time.\n",
      "\n"
     ]
    },
    {
     "name": "stdout",
     "output_type": "stream",
     "text": [
      "hey ho inbound_vessel_16 ['inbound_vessel_15']\n",
      "yo inbound_vessel_16 2019-01-02 23:48:33.106738 ['inbound_vessel_15']\n",
      "outbound_vessel_15 start waiting time 2019-01-02 23:54:18.902398\n",
      "wait for lockage True ['outbound_vessel_13', 'outbound_vessel_14'] True\n",
      "outbound_vessel_14 hap is geconvert 2019-01-03 00:08:11.502861\n",
      "outbound_vessel_15 lock position given 2019-01-03 00:13:44.836194\n",
      "outbound_vessel_15 requested place in next lockage 2019-01-03 00:13:44.836194\n",
      "claim the lock doors outbound_vessel_15 2019-01-03 00:13:44.836194\n",
      "requesting approach: else outbound_vessel_15 2019-01-03 00:13:44.836194 0 [] ['outbound_vessel_14']\n",
      "doors requested outbound_vessel_15\n",
      "claiming lock: priority doors2 is -1 outbound_vessel_15 2019-01-03 00:13:44.836194\n",
      "outbound_vessel_15 wth\n",
      "hi 2019-01-03 00:13:44.836194\n",
      "2019-01-03 00:13:44.836194 Node_49 Node_50 Lock doors closing start\n"
     ]
    },
    {
     "name": "stderr",
     "output_type": "stream",
     "text": [
      "c:\\users\\floorbakker\\opentnsim\\opentnsim\\lock.py:711: UserWarning:\n",
      "\n",
      "Converting non-nanosecond precision datetime values to nanosecond precision. This behavior can eventually be relaxed in xarray, as it is an artifact from pandas which is now beginning to support non-nanosecond precision values. This warning is caused by passing non-nanosecond np.datetime64 or np.timedelta64 values to the DataArray or Variable constructor; it can be silenced by converting the values to nanosecond precision ahead of time.\n",
      "\n"
     ]
    },
    {
     "name": "stdout",
     "output_type": "stream",
     "text": [
      "inbound_vessel_16 start waiting time 2019-01-03 00:46:07.273405\n",
      "claim the lock doors inbound_vessel_16 2019-01-03 00:46:07.273405\n",
      "wait in lock first 2019-01-03 00:46:07.273405\n",
      "waiting done outbound_vessel_15 2019-01-03 00:51:44.836194\n",
      "outbound_vessel_15 sail to assigned lock position\n",
      "print doors outbound_vessel_15 ['outbound_vessel_15'] ['outbound_vessel_15']\n",
      "left doors1 outbound_vessel_15 2019-01-03 01:02:51.502861 0 ['inbound_vessel_16'] ['outbound_vessel_15']\n",
      "outbound_vessel_15 in lock ['outbound_vessel_15']\n",
      "requesting approach: else inbound_vessel_16 2019-01-03 01:02:51.502861 1 ['outbound_vessel_15'] []\n",
      "outbound_vessel_15 converting hap 2019-01-03 01:02:51.502861\n",
      "hi 2019-01-03 01:02:51.502861\n",
      "2019-01-03 01:02:51.502861 Node_50 Node_49 Lock doors closing start\n",
      "outbound_vessel_16 start waiting time 2019-01-03 01:04:09.813429\n",
      "wait for lockage False ['outbound_vessel_15'] True\n"
     ]
    },
    {
     "name": "stderr",
     "output_type": "stream",
     "text": [
      "c:\\users\\floorbakker\\opentnsim\\opentnsim\\lock.py:711: UserWarning:\n",
      "\n",
      "Converting non-nanosecond precision datetime values to nanosecond precision. This behavior can eventually be relaxed in xarray, as it is an artifact from pandas which is now beginning to support non-nanosecond precision values. This warning is caused by passing non-nanosecond np.datetime64 or np.timedelta64 values to the DataArray or Variable constructor; it can be silenced by converting the values to nanosecond precision ahead of time.\n",
      "\n"
     ]
    },
    {
     "name": "stdout",
     "output_type": "stream",
     "text": [
      "outbound_vessel_15 hap is geconvert 2019-01-03 01:26:51.502861\n",
      "outbound_vessel_16 lock position given 2019-01-03 01:28:42.613972\n",
      "outbound_vessel_16 requested place in next lockage 2019-01-03 01:28:42.613972\n",
      "claim the lock doors outbound_vessel_16 2019-01-03 01:28:42.613972\n",
      "requesting approach: else outbound_vessel_16 2019-01-03 01:28:42.613972 0 [] ['outbound_vessel_15']\n",
      "doors requested outbound_vessel_16\n",
      "claiming lock: priority doors2 is -1 outbound_vessel_16 2019-01-03 01:28:42.613972\n",
      "outbound_vessel_16 wth\n",
      "hi 2019-01-03 01:28:42.613972\n",
      "2019-01-03 01:28:42.613972 Node_49 Node_50 Lock doors closing start\n"
     ]
    },
    {
     "name": "stderr",
     "output_type": "stream",
     "text": [
      "c:\\users\\floorbakker\\opentnsim\\opentnsim\\lock.py:711: UserWarning:\n",
      "\n",
      "Converting non-nanosecond precision datetime values to nanosecond precision. This behavior can eventually be relaxed in xarray, as it is an artifact from pandas which is now beginning to support non-nanosecond precision values. This warning is caused by passing non-nanosecond np.datetime64 or np.timedelta64 values to the DataArray or Variable constructor; it can be silenced by converting the values to nanosecond precision ahead of time.\n",
      "\n"
     ]
    },
    {
     "name": "stdout",
     "output_type": "stream",
     "text": [
      "outbound_vessel_17 start waiting time 2019-01-03 01:39:17.880466\n",
      "outbound_vessel_17 lock position given 2019-01-03 01:39:17.880466\n",
      "outbound_vessel_17 requested place in next lockage 2019-01-03 01:39:17.880466\n",
      "claim the lock doors outbound_vessel_17 2019-01-03 01:39:17.880466\n",
      "lock is empty and not converting outbound_vessel_17 2019-01-03 01:39:17.880466 0 []\n",
      "waiting done outbound_vessel_16 2019-01-03 02:06:42.613972\n",
      "outbound_vessel_16 sail to assigned lock position\n",
      "print doors outbound_vessel_16 ['outbound_vessel_16'] ['outbound_vessel_16']\n",
      "left doors1 outbound_vessel_16 2019-01-03 02:17:49.280639 0 ['outbound_vessel_17'] ['outbound_vessel_16']\n",
      "outbound_vessel_16 in lock ['outbound_vessel_16', 'outbound_vessel_17']\n",
      "waiting for others outbound_vessel_16\n",
      "lock doors claimed outbound_vessel_17 2019-01-03 02:17:49.280639\n",
      "waiting done outbound_vessel_17 2019-01-03 02:17:49.280639\n",
      "outbound_vessel_17 sail to assigned lock position\n",
      "print doors outbound_vessel_17 ['outbound_vessel_16'] ['outbound_vessel_17']\n",
      "left doors1 outbound_vessel_17 2019-01-03 02:28:55.947306 0 [] ['outbound_vessel_16']\n",
      "outbound_vessel_17 in lock ['outbound_vessel_16', 'outbound_vessel_17']\n",
      "outbound_vessel_17 converting hap 2019-01-03 02:28:55.947306\n",
      "hi 2019-01-03 02:28:55.947306\n",
      "2019-01-03 02:28:55.947306 Node_50 Node_49 Lock doors closing start\n",
      "waiting for others done outbound_vessel_16\n"
     ]
    },
    {
     "name": "stderr",
     "output_type": "stream",
     "text": [
      "c:\\users\\floorbakker\\opentnsim\\opentnsim\\lock.py:711: UserWarning:\n",
      "\n",
      "Converting non-nanosecond precision datetime values to nanosecond precision. This behavior can eventually be relaxed in xarray, as it is an artifact from pandas which is now beginning to support non-nanosecond precision values. This warning is caused by passing non-nanosecond np.datetime64 or np.timedelta64 values to the DataArray or Variable constructor; it can be silenced by converting the values to nanosecond precision ahead of time.\n",
      "\n"
     ]
    },
    {
     "name": "stdout",
     "output_type": "stream",
     "text": [
      "outbound_vessel_18 start waiting time 2019-01-03 03:01:24.706518\n",
      "wait for lockage True ['outbound_vessel_16', 'outbound_vessel_17'] True\n",
      "left doors2 outbound_vessel_16 2019-01-03 03:25:17.058417 0 [] []\n",
      "outbound_vessel_17 hap is geconvert 2019-01-03 03:25:17.058417\n",
      "outbound_vessel_18 lock position given 2019-01-03 03:30:50.391750\n",
      "outbound_vessel_18 requested place in next lockage 2019-01-03 03:30:50.391750\n",
      "claim the lock doors outbound_vessel_18 2019-01-03 03:30:50.391750\n",
      "requesting approach: else outbound_vessel_18 2019-01-03 03:30:50.391750 0 [] ['outbound_vessel_17']\n",
      "doors requested outbound_vessel_18\n",
      "claiming lock: priority doors2 is -1 outbound_vessel_18 2019-01-03 03:30:50.391750\n",
      "outbound_vessel_18 wth\n",
      "hi 2019-01-03 03:30:50.391750\n",
      "2019-01-03 03:30:50.391750 Node_49 Node_50 Lock doors closing start\n"
     ]
    },
    {
     "name": "stderr",
     "output_type": "stream",
     "text": [
      "c:\\users\\floorbakker\\opentnsim\\opentnsim\\lock.py:711: UserWarning:\n",
      "\n",
      "Converting non-nanosecond precision datetime values to nanosecond precision. This behavior can eventually be relaxed in xarray, as it is an artifact from pandas which is now beginning to support non-nanosecond precision values. This warning is caused by passing non-nanosecond np.datetime64 or np.timedelta64 values to the DataArray or Variable constructor; it can be silenced by converting the values to nanosecond precision ahead of time.\n",
      "\n"
     ]
    },
    {
     "name": "stdout",
     "output_type": "stream",
     "text": [
      "waiting done outbound_vessel_18 2019-01-03 04:28:50.391750\n",
      "outbound_vessel_18 sail to assigned lock position\n",
      "print doors outbound_vessel_18 ['outbound_vessel_18'] ['outbound_vessel_18']\n",
      "left doors1 outbound_vessel_18 2019-01-03 04:39:57.058417 0 [] ['outbound_vessel_18']\n",
      "outbound_vessel_18 in lock ['outbound_vessel_18']\n",
      "outbound_vessel_18 converting hap 2019-01-03 04:39:57.058417\n",
      "hi 2019-01-03 04:39:57.058417\n",
      "2019-01-03 04:39:57.058417 Node_50 Node_49 Lock doors closing start\n"
     ]
    },
    {
     "name": "stderr",
     "output_type": "stream",
     "text": [
      "c:\\users\\floorbakker\\opentnsim\\opentnsim\\lock.py:711: UserWarning:\n",
      "\n",
      "Converting non-nanosecond precision datetime values to nanosecond precision. This behavior can eventually be relaxed in xarray, as it is an artifact from pandas which is now beginning to support non-nanosecond precision values. This warning is caused by passing non-nanosecond np.datetime64 or np.timedelta64 values to the DataArray or Variable constructor; it can be silenced by converting the values to nanosecond precision ahead of time.\n",
      "\n"
     ]
    },
    {
     "name": "stdout",
     "output_type": "stream",
     "text": [
      "hey ho outbound_vessel_19 ['outbound_vessel_18']\n",
      "outbound_vessel_18 hap is geconvert 2019-01-03 05:36:57.058417\n",
      "left doors2 outbound_vessel_18 2019-01-03 05:41:18.169528 0 [] []\n",
      "doors requested inbound_vessel_15\n",
      "claiming lock: priority doors2 not -1 inbound_vessel_15 2019-01-03 05:41:18.169528\n",
      "waiting done inbound_vessel_15 2019-01-03 05:41:18.169528\n",
      "inbound_vessel_15 sail to assigned lock position\n",
      "print doors inbound_vessel_15 ['inbound_vessel_15'] ['inbound_vessel_15']\n",
      "left doors1 inbound_vessel_15 2019-01-03 05:52:24.836195 ['inbound_vessel_16'] 1 ['inbound_vessel_15']\n",
      "inbound_vessel_15 in lock ['inbound_vessel_15', 'inbound_vessel_16']\n",
      "waiting for others inbound_vessel_15\n",
      "doors requested inbound_vessel_16\n",
      "claiming lock: priority doors2 is -1 inbound_vessel_16 2019-01-03 05:52:24.836195\n",
      "waiting done inbound_vessel_16 2019-01-03 05:52:24.836195\n",
      "outbound_vessel_19 start waiting time 2019-01-03 05:53:51.098205\n",
      "outbound_vessel_19 lock position given 2019-01-03 05:53:51.098205\n",
      "outbound_vessel_19 requested place in next lockage 2019-01-03 05:53:51.098205\n",
      "claim the lock doors outbound_vessel_19 2019-01-03 05:53:51.098205\n",
      "wait in lock first 2019-01-03 05:53:51.098205\n",
      "inbound_vessel_16 sail to assigned lock position\n",
      "inbound_vessel_17 start waiting time 2019-01-03 06:02:35.947306\n",
      "wait for lockage True ['inbound_vessel_15', 'inbound_vessel_16'] False\n",
      "print doors inbound_vessel_16 ['inbound_vessel_16'] ['inbound_vessel_16']\n",
      "left doors1 inbound_vessel_16 2019-01-03 06:03:31.502861 ['outbound_vessel_19'] 1 ['inbound_vessel_16']\n",
      "inbound_vessel_16 in lock ['inbound_vessel_15', 'inbound_vessel_16']\n",
      "requesting approach: else outbound_vessel_19 2019-01-03 06:03:31.502861 2 ['inbound_vessel_16'] []\n",
      "inbound_vessel_16 converting hap 2019-01-03 06:03:31.502861\n",
      "hi 2019-01-03 06:03:31.502861\n",
      "2019-01-03 06:03:31.502861 Node_49 Node_50 Lock doors closing start\n",
      "waiting for others done inbound_vessel_15\n",
      "inbound_vessel_18 start waiting time 2019-01-03 06:09:04.836195\n",
      "wait for lockage True ['inbound_vessel_15', 'inbound_vessel_16'] True\n"
     ]
    },
    {
     "name": "stderr",
     "output_type": "stream",
     "text": [
      "c:\\users\\floorbakker\\opentnsim\\opentnsim\\lock.py:711: UserWarning:\n",
      "\n",
      "Converting non-nanosecond precision datetime values to nanosecond precision. This behavior can eventually be relaxed in xarray, as it is an artifact from pandas which is now beginning to support non-nanosecond precision values. This warning is caused by passing non-nanosecond np.datetime64 or np.timedelta64 values to the DataArray or Variable constructor; it can be silenced by converting the values to nanosecond precision ahead of time.\n",
      "\n"
     ]
    },
    {
     "name": "stdout",
     "output_type": "stream",
     "text": [
      "inbound_vessel_16 hap is geconvert 2019-01-03 06:52:52.613973\n",
      "inbound_vessel_17 lock position given 2019-01-03 06:58:25.947306\n",
      "inbound_vessel_17 requested place in next lockage 2019-01-03 06:58:25.947306\n",
      "claim the lock doors inbound_vessel_17 2019-01-03 06:58:25.947306\n",
      "requesting approach: else inbound_vessel_17 2019-01-03 06:58:25.947306 0 [] ['inbound_vessel_16']\n",
      "inbound_vessel_18 lock position given 2019-01-03 06:58:25.947306\n",
      "inbound_vessel_18 requested place in next lockage 2019-01-03 06:58:25.947306\n",
      "claim the lock doors inbound_vessel_18 2019-01-03 06:58:25.947306\n",
      "requesting approach: else inbound_vessel_18 2019-01-03 06:58:25.947306 0 ['inbound_vessel_17'] ['inbound_vessel_16']\n",
      "doors requested inbound_vessel_17\n",
      "claiming lock: priority doors2 is -1 inbound_vessel_17 2019-01-03 06:58:25.947306\n",
      "inbound_vessel_17 wth\n",
      "hi 2019-01-03 06:58:25.947306\n",
      "2019-01-03 06:58:25.947306 Node_50 Node_49 Lock doors closing start\n"
     ]
    },
    {
     "name": "stderr",
     "output_type": "stream",
     "text": [
      "c:\\users\\floorbakker\\opentnsim\\opentnsim\\lock.py:711: UserWarning:\n",
      "\n",
      "Converting non-nanosecond precision datetime values to nanosecond precision. This behavior can eventually be relaxed in xarray, as it is an artifact from pandas which is now beginning to support non-nanosecond precision values. This warning is caused by passing non-nanosecond np.datetime64 or np.timedelta64 values to the DataArray or Variable constructor; it can be silenced by converting the values to nanosecond precision ahead of time.\n",
      "\n"
     ]
    },
    {
     "name": "stdout",
     "output_type": "stream",
     "text": [
      "waiting done inbound_vessel_17 2019-01-03 07:19:25.947306\n",
      "inbound_vessel_17 sail to assigned lock position\n",
      "print doors inbound_vessel_17 ['inbound_vessel_17'] ['inbound_vessel_17']\n",
      "left doors1 inbound_vessel_17 2019-01-03 07:24:59.280639 ['inbound_vessel_18'] 1 ['inbound_vessel_17']\n",
      "inbound_vessel_17 in lock ['inbound_vessel_17', 'inbound_vessel_18']\n",
      "waiting for others inbound_vessel_17\n",
      "doors requested inbound_vessel_18\n",
      "claiming lock: priority doors2 is -1 inbound_vessel_18 2019-01-03 07:24:59.280639\n",
      "waiting done inbound_vessel_18 2019-01-03 07:24:59.280639\n",
      "inbound_vessel_18 sail to assigned lock position\n",
      "inbound_vessel_19 start waiting time 2019-01-03 07:35:10.391751\n",
      "wait for lockage True ['inbound_vessel_17', 'inbound_vessel_18'] False\n",
      "print doors inbound_vessel_18 ['inbound_vessel_18'] ['inbound_vessel_18']\n",
      "left doors1 inbound_vessel_18 2019-01-03 07:36:05.947306 [] 1 ['inbound_vessel_18']\n",
      "inbound_vessel_18 in lock ['inbound_vessel_17', 'inbound_vessel_18']\n",
      "inbound_vessel_18 converting hap 2019-01-03 07:36:05.947306\n",
      "hi 2019-01-03 07:36:05.947306\n",
      "2019-01-03 07:36:05.947306 Node_49 Node_50 Lock doors closing start\n",
      "waiting for others done inbound_vessel_17\n",
      "inbound_vessel_20 start waiting time 2019-01-03 07:41:39.280640\n",
      "wait for lockage True ['inbound_vessel_17', 'inbound_vessel_18'] True\n"
     ]
    },
    {
     "name": "stderr",
     "output_type": "stream",
     "text": [
      "c:\\users\\floorbakker\\opentnsim\\opentnsim\\lock.py:711: UserWarning:\n",
      "\n",
      "Converting non-nanosecond precision datetime values to nanosecond precision. This behavior can eventually be relaxed in xarray, as it is an artifact from pandas which is now beginning to support non-nanosecond precision values. This warning is caused by passing non-nanosecond np.datetime64 or np.timedelta64 values to the DataArray or Variable constructor; it can be silenced by converting the values to nanosecond precision ahead of time.\n",
      "\n"
     ]
    },
    {
     "name": "stdout",
     "output_type": "stream",
     "text": [
      "hey ho outbound_vessel_20 ['outbound_vessel_19']\n",
      "yo outbound_vessel_20 2019-01-03 08:02:13.868461 ['outbound_vessel_19']\n",
      "inbound_vessel_18 hap is geconvert 2019-01-03 08:22:00.391751\n",
      "inbound_vessel_19 lock position given 2019-01-03 08:27:33.725084\n",
      "inbound_vessel_19 requested place in next lockage 2019-01-03 08:27:33.725084\n",
      "claim the lock doors inbound_vessel_19 2019-01-03 08:27:33.725084\n",
      "requesting approach: else inbound_vessel_19 2019-01-03 08:27:33.725084 0 [] ['inbound_vessel_18']\n",
      "inbound_vessel_20 lock position given 2019-01-03 08:27:33.725084\n",
      "inbound_vessel_20 requested place in next lockage 2019-01-03 08:27:33.725084\n",
      "claim the lock doors inbound_vessel_20 2019-01-03 08:27:33.725084\n",
      "requesting approach: else inbound_vessel_20 2019-01-03 08:27:33.725084 0 ['inbound_vessel_19'] ['inbound_vessel_18']\n",
      "doors requested inbound_vessel_19\n",
      "claiming lock: priority doors2 is -1 inbound_vessel_19 2019-01-03 08:27:33.725084\n",
      "inbound_vessel_19 wth\n",
      "hi 2019-01-03 08:27:33.725084\n",
      "2019-01-03 08:27:33.725084 Node_50 Node_49 Lock doors closing start\n"
     ]
    },
    {
     "name": "stderr",
     "output_type": "stream",
     "text": [
      "c:\\users\\floorbakker\\opentnsim\\opentnsim\\lock.py:711: UserWarning:\n",
      "\n",
      "Converting non-nanosecond precision datetime values to nanosecond precision. This behavior can eventually be relaxed in xarray, as it is an artifact from pandas which is now beginning to support non-nanosecond precision values. This warning is caused by passing non-nanosecond np.datetime64 or np.timedelta64 values to the DataArray or Variable constructor; it can be silenced by converting the values to nanosecond precision ahead of time.\n",
      "\n"
     ]
    },
    {
     "name": "stdout",
     "output_type": "stream",
     "text": [
      "outbound_vessel_20 start waiting time 2019-01-03 08:59:48.035128\n",
      "claim the lock doors outbound_vessel_20 2019-01-03 08:59:48.035128\n",
      "wait in lock first 2019-01-03 08:59:48.035128\n",
      "waiting done inbound_vessel_19 2019-01-03 09:16:33.725084\n",
      "inbound_vessel_19 sail to assigned lock position\n",
      "print doors inbound_vessel_19 ['inbound_vessel_19'] ['inbound_vessel_19']\n",
      "left doors1 inbound_vessel_19 2019-01-03 09:22:07.058417 ['inbound_vessel_20'] 1 ['inbound_vessel_19']\n",
      "inbound_vessel_19 in lock ['inbound_vessel_19', 'inbound_vessel_20']\n",
      "waiting for others inbound_vessel_19\n",
      "doors requested inbound_vessel_20\n",
      "claiming lock: priority doors2 is -1 inbound_vessel_20 2019-01-03 09:22:07.058417\n",
      "waiting done inbound_vessel_20 2019-01-03 09:22:07.058417\n",
      "inbound_vessel_21 start waiting time 2019-01-03 09:27:26.220339\n",
      "wait for lockage True ['inbound_vessel_19', 'inbound_vessel_20'] False\n",
      "inbound_vessel_20 sail to assigned lock position\n",
      "print doors inbound_vessel_20 ['inbound_vessel_20'] ['inbound_vessel_20']\n",
      "left doors1 inbound_vessel_20 2019-01-03 09:33:13.725084 ['outbound_vessel_20'] 1 ['inbound_vessel_20']\n",
      "inbound_vessel_20 in lock ['inbound_vessel_19', 'inbound_vessel_20']\n",
      "requesting approach: else outbound_vessel_20 2019-01-03 09:33:13.725084 2 ['inbound_vessel_20'] []\n",
      "inbound_vessel_20 converting hap 2019-01-03 09:33:13.725084\n",
      "hi 2019-01-03 09:33:13.725084\n",
      "2019-01-03 09:33:13.725084 Node_49 Node_50 Lock doors closing start\n",
      "waiting for others done inbound_vessel_19\n"
     ]
    },
    {
     "name": "stderr",
     "output_type": "stream",
     "text": [
      "c:\\users\\floorbakker\\opentnsim\\opentnsim\\lock.py:711: UserWarning:\n",
      "\n",
      "Converting non-nanosecond precision datetime values to nanosecond precision. This behavior can eventually be relaxed in xarray, as it is an artifact from pandas which is now beginning to support non-nanosecond precision values. This warning is caused by passing non-nanosecond np.datetime64 or np.timedelta64 values to the DataArray or Variable constructor; it can be silenced by converting the values to nanosecond precision ahead of time.\n",
      "\n"
     ]
    },
    {
     "name": "stdout",
     "output_type": "stream",
     "text": [
      "inbound_vessel_20 hap is geconvert 2019-01-03 10:40:08.169528\n",
      "inbound_vessel_21 lock position given 2019-01-03 10:45:41.502862\n",
      "inbound_vessel_21 requested place in next lockage 2019-01-03 10:45:41.502862\n",
      "claim the lock doors inbound_vessel_21 2019-01-03 10:45:41.502862\n",
      "requesting approach: else inbound_vessel_21 2019-01-03 10:45:41.502862 0 [] ['inbound_vessel_20']\n",
      "doors requested inbound_vessel_21\n",
      "claiming lock: priority doors2 is -1 inbound_vessel_21 2019-01-03 10:45:41.502862\n",
      "inbound_vessel_21 wth\n",
      "hi 2019-01-03 10:45:41.502862\n",
      "2019-01-03 10:45:41.502862 Node_50 Node_49 Lock doors closing start\n"
     ]
    },
    {
     "name": "stderr",
     "output_type": "stream",
     "text": [
      "c:\\users\\floorbakker\\opentnsim\\opentnsim\\lock.py:711: UserWarning:\n",
      "\n",
      "Converting non-nanosecond precision datetime values to nanosecond precision. This behavior can eventually be relaxed in xarray, as it is an artifact from pandas which is now beginning to support non-nanosecond precision values. This warning is caused by passing non-nanosecond np.datetime64 or np.timedelta64 values to the DataArray or Variable constructor; it can be silenced by converting the values to nanosecond precision ahead of time.\n",
      "\n"
     ]
    },
    {
     "name": "stdout",
     "output_type": "stream",
     "text": [
      "hey ho inbound_vessel_22 ['inbound_vessel_21']\n",
      "yo inbound_vessel_22 2019-01-03 11:41:57.787714 ['inbound_vessel_21']\n",
      "waiting done inbound_vessel_21 2019-01-03 11:43:41.502862\n",
      "inbound_vessel_21 sail to assigned lock position\n",
      "print doors inbound_vessel_21 ['inbound_vessel_21'] ['inbound_vessel_21']\n",
      "left doors1 inbound_vessel_21 2019-01-03 11:54:48.169528 [] 1 ['inbound_vessel_21']\n",
      "inbound_vessel_21 in lock ['inbound_vessel_21', 'inbound_vessel_22']\n",
      "waiting for others inbound_vessel_21\n",
      "inbound_vessel_22 start waiting time 2019-01-03 12:40:38.621047\n",
      "claim the lock doors inbound_vessel_22 2019-01-03 12:40:38.621047\n",
      "lock not empty inbound_vessel_22 ['inbound_vessel_21']\n",
      "lock is ready to be entered 2019-01-03 12:40:38.621047\n",
      "lock doors claimed inbound_vessel_22 2019-01-03 12:40:38.621047\n",
      "waiting done inbound_vessel_22 2019-01-03 12:40:38.621047\n",
      "inbound_vessel_22 sail to assigned lock position\n",
      "print doors inbound_vessel_22 ['inbound_vessel_22'] ['inbound_vessel_22']\n",
      "left doors1 inbound_vessel_22 2019-01-03 12:48:03.065492 [] 1 ['inbound_vessel_22']\n",
      "inbound_vessel_22 in lock ['inbound_vessel_21', 'inbound_vessel_22']\n",
      "inbound_vessel_22 converting hap 2019-01-03 12:48:03.065492\n",
      "hi 2019-01-03 12:48:03.065492\n",
      "2019-01-03 12:48:03.065492 Node_49 Node_50 Lock doors closing start\n",
      "waiting for others done inbound_vessel_21\n"
     ]
    },
    {
     "name": "stderr",
     "output_type": "stream",
     "text": [
      "c:\\users\\floorbakker\\opentnsim\\opentnsim\\lock.py:513: UserWarning:\n",
      "\n",
      "Converting non-nanosecond precision datetime values to nanosecond precision. This behavior can eventually be relaxed in xarray, as it is an artifact from pandas which is now beginning to support non-nanosecond precision values. This warning is caused by passing non-nanosecond np.datetime64 or np.timedelta64 values to the DataArray or Variable constructor; it can be silenced by converting the values to nanosecond precision ahead of time.\n",
      "\n",
      "c:\\users\\floorbakker\\opentnsim\\opentnsim\\lock.py:711: UserWarning:\n",
      "\n",
      "Converting non-nanosecond precision datetime values to nanosecond precision. This behavior can eventually be relaxed in xarray, as it is an artifact from pandas which is now beginning to support non-nanosecond precision values. This warning is caused by passing non-nanosecond np.datetime64 or np.timedelta64 values to the DataArray or Variable constructor; it can be silenced by converting the values to nanosecond precision ahead of time.\n",
      "\n"
     ]
    },
    {
     "name": "stdout",
     "output_type": "stream",
     "text": [
      "inbound_vessel_22 hap is geconvert 2019-01-03 13:26:24.176603\n",
      "left doors2 inbound_vessel_22 2019-01-03 13:34:27.509936 1 [] []\n",
      "doors requested outbound_vessel_19\n",
      "claiming lock: priority doors2 not -1 outbound_vessel_19 2019-01-03 13:34:27.509936\n",
      "waiting done outbound_vessel_19 2019-01-03 13:34:27.509936\n",
      "outbound_vessel_19 sail to assigned lock position\n",
      "print doors outbound_vessel_19 ['outbound_vessel_19'] ['outbound_vessel_19']\n",
      "left doors1 outbound_vessel_19 2019-01-03 13:45:34.176603 0 ['outbound_vessel_20'] ['outbound_vessel_19']\n",
      "outbound_vessel_19 in lock ['outbound_vessel_19', 'outbound_vessel_20']\n",
      "waiting for others outbound_vessel_19\n",
      "doors requested outbound_vessel_20\n",
      "claiming lock: priority doors2 is -1 outbound_vessel_20 2019-01-03 13:45:34.176603\n",
      "waiting done outbound_vessel_20 2019-01-03 13:45:34.176603\n",
      "outbound_vessel_20 sail to assigned lock position\n",
      "outbound_vessel_21 start waiting time 2019-01-03 13:55:45.287714\n",
      "wait for lockage True ['outbound_vessel_19', 'outbound_vessel_20'] False\n",
      "print doors outbound_vessel_20 ['outbound_vessel_20'] ['outbound_vessel_20']\n",
      "left doors1 outbound_vessel_20 2019-01-03 13:56:40.843270 0 [] ['outbound_vessel_20']\n",
      "outbound_vessel_20 in lock ['outbound_vessel_19', 'outbound_vessel_20']\n",
      "outbound_vessel_20 converting hap 2019-01-03 13:56:40.843270\n",
      "hi 2019-01-03 13:56:40.843270\n",
      "2019-01-03 13:56:40.843270 Node_50 Node_49 Lock doors closing start\n",
      "waiting for others done outbound_vessel_19\n",
      "outbound_vessel_22 start waiting time 2019-01-03 14:02:14.176603\n",
      "wait for lockage True ['outbound_vessel_19', 'outbound_vessel_20'] True\n"
     ]
    },
    {
     "name": "stderr",
     "output_type": "stream",
     "text": [
      "c:\\users\\floorbakker\\opentnsim\\opentnsim\\lock.py:711: UserWarning:\n",
      "\n",
      "Converting non-nanosecond precision datetime values to nanosecond precision. This behavior can eventually be relaxed in xarray, as it is an artifact from pandas which is now beginning to support non-nanosecond precision values. This warning is caused by passing non-nanosecond np.datetime64 or np.timedelta64 values to the DataArray or Variable constructor; it can be silenced by converting the values to nanosecond precision ahead of time.\n",
      "\n"
     ]
    },
    {
     "name": "stdout",
     "output_type": "stream",
     "text": [
      "outbound_vessel_20 hap is geconvert 2019-01-03 14:39:01.954381\n",
      "outbound_vessel_21 lock position given 2019-01-03 14:44:35.287714\n",
      "outbound_vessel_21 requested place in next lockage 2019-01-03 14:44:35.287714\n",
      "claim the lock doors outbound_vessel_21 2019-01-03 14:44:35.287714\n",
      "else: claiming lock: priority doors2 = -1 outbound_vessel_21 2019-01-03 14:44:35.287714 -1\n",
      "outbound_vessel_22 lock position given 2019-01-03 14:44:35.287714\n",
      "outbound_vessel_22 requested place in next lockage 2019-01-03 14:44:35.287714\n",
      "claim the lock doors outbound_vessel_22 2019-01-03 14:44:35.287714\n",
      "else: claiming lock: priority doors2 = -1 outbound_vessel_22 2019-01-03 14:44:35.287714 -1\n",
      "lock doors claimed outbound_vessel_21 2019-01-03 14:44:35.287714\n",
      "outbound_vessel_21 wth\n",
      "hi 2019-01-03 14:44:35.287714\n",
      "2019-01-03 14:44:35.287714 Node_49 Node_50 Lock doors closing start\n"
     ]
    },
    {
     "name": "stderr",
     "output_type": "stream",
     "text": [
      "c:\\users\\floorbakker\\opentnsim\\opentnsim\\lock.py:711: UserWarning:\n",
      "\n",
      "Converting non-nanosecond precision datetime values to nanosecond precision. This behavior can eventually be relaxed in xarray, as it is an artifact from pandas which is now beginning to support non-nanosecond precision values. This warning is caused by passing non-nanosecond np.datetime64 or np.timedelta64 values to the DataArray or Variable constructor; it can be silenced by converting the values to nanosecond precision ahead of time.\n",
      "\n"
     ]
    },
    {
     "name": "stdout",
     "output_type": "stream",
     "text": [
      "hey ho inbound_vessel_23 []\n",
      "hi inbound_vessel_23 2019-01-03 15:21:48.108231 0\n",
      "waiting done outbound_vessel_21 2019-01-03 15:32:35.287714\n",
      "outbound_vessel_21 sail to assigned lock position\n",
      "print doors outbound_vessel_21 ['outbound_vessel_21'] ['outbound_vessel_21']\n",
      "left doors1 outbound_vessel_21 2019-01-03 15:38:08.621048 0 ['outbound_vessel_22'] ['outbound_vessel_21']\n",
      "outbound_vessel_21 in lock ['outbound_vessel_21', 'outbound_vessel_22']\n",
      "waiting for others outbound_vessel_21\n",
      "lock doors claimed outbound_vessel_22 2019-01-03 15:38:08.621048\n",
      "waiting done outbound_vessel_22 2019-01-03 15:38:08.621048\n",
      "outbound_vessel_22 sail to assigned lock position\n",
      "outbound_vessel_23 start waiting time 2019-01-03 15:48:19.732159\n",
      "wait for lockage True ['outbound_vessel_21', 'outbound_vessel_22'] False\n",
      "print doors outbound_vessel_22 ['outbound_vessel_22'] ['outbound_vessel_22']\n",
      "left doors1 outbound_vessel_22 2019-01-03 15:49:15.287714 0 [] ['outbound_vessel_22']\n",
      "outbound_vessel_22 in lock ['outbound_vessel_21', 'outbound_vessel_22']\n",
      "outbound_vessel_22 converting hap 2019-01-03 15:49:15.287714\n",
      "hi 2019-01-03 15:49:15.287714\n",
      "2019-01-03 15:49:15.287714 Node_50 Node_49 Lock doors closing start\n",
      "waiting for others done outbound_vessel_21\n",
      "outbound_vessel_24 start waiting time 2019-01-03 15:54:48.621048\n",
      "wait for lockage True ['outbound_vessel_21', 'outbound_vessel_22'] True\n"
     ]
    },
    {
     "name": "stderr",
     "output_type": "stream",
     "text": [
      "c:\\users\\floorbakker\\opentnsim\\opentnsim\\lock.py:711: UserWarning:\n",
      "\n",
      "Converting non-nanosecond precision datetime values to nanosecond precision. This behavior can eventually be relaxed in xarray, as it is an artifact from pandas which is now beginning to support non-nanosecond precision values. This warning is caused by passing non-nanosecond np.datetime64 or np.timedelta64 values to the DataArray or Variable constructor; it can be silenced by converting the values to nanosecond precision ahead of time.\n",
      "\n"
     ]
    },
    {
     "name": "stdout",
     "output_type": "stream",
     "text": [
      "inbound_vessel_23 start waiting time 2019-01-03 16:20:28.941564\n",
      "claim the lock doors inbound_vessel_23 2019-01-03 16:20:28.941564\n",
      "lock not empty inbound_vessel_23 ['outbound_vessel_21', 'outbound_vessel_22']\n",
      "lock is already converting inbound_vessel_23 2019-01-03 16:20:28.941564 ['outbound_vessel_21', 'outbound_vessel_22']\n",
      "outbound_vessel_22 hap is geconvert 2019-01-03 16:57:09.732159\n",
      "outbound_vessel_23 lock position given 2019-01-03 17:02:43.065492\n",
      "outbound_vessel_23 requested place in next lockage 2019-01-03 17:02:43.065492\n",
      "claim the lock doors outbound_vessel_23 2019-01-03 17:02:43.065492\n",
      "requesting approach: else outbound_vessel_23 2019-01-03 17:02:43.065492 0 [] ['outbound_vessel_22']\n",
      "outbound_vessel_24 lock position given 2019-01-03 17:02:43.065492\n",
      "outbound_vessel_24 requested place in next lockage 2019-01-03 17:02:43.065492\n",
      "claim the lock doors outbound_vessel_24 2019-01-03 17:02:43.065492\n",
      "requesting approach: else outbound_vessel_24 2019-01-03 17:02:43.065492 0 ['outbound_vessel_23'] ['outbound_vessel_22']\n",
      "doors requested outbound_vessel_23\n",
      "claiming lock: priority doors2 is -1 outbound_vessel_23 2019-01-03 17:02:43.065492\n",
      "outbound_vessel_23 wth\n",
      "hi 2019-01-03 17:02:43.065492\n",
      "2019-01-03 17:02:43.065492 Node_49 Node_50 Lock doors closing start\n"
     ]
    },
    {
     "name": "stderr",
     "output_type": "stream",
     "text": [
      "c:\\users\\floorbakker\\opentnsim\\opentnsim\\lock.py:711: UserWarning:\n",
      "\n",
      "Converting non-nanosecond precision datetime values to nanosecond precision. This behavior can eventually be relaxed in xarray, as it is an artifact from pandas which is now beginning to support non-nanosecond precision values. This warning is caused by passing non-nanosecond np.datetime64 or np.timedelta64 values to the DataArray or Variable constructor; it can be silenced by converting the values to nanosecond precision ahead of time.\n",
      "\n"
     ]
    },
    {
     "name": "stdout",
     "output_type": "stream",
     "text": [
      "waiting done outbound_vessel_23 2019-01-03 18:00:43.065492\n",
      "outbound_vessel_23 sail to assigned lock position\n",
      "print doors outbound_vessel_23 ['outbound_vessel_23'] ['outbound_vessel_23']\n",
      "left doors1 outbound_vessel_23 2019-01-03 18:06:16.398826 0 ['outbound_vessel_24'] ['outbound_vessel_23']\n",
      "outbound_vessel_23 in lock ['outbound_vessel_23', 'outbound_vessel_24']\n",
      "waiting for others outbound_vessel_23\n",
      "doors requested outbound_vessel_24\n",
      "claiming lock: priority doors2 is -1 outbound_vessel_24 2019-01-03 18:06:16.398826\n",
      "waiting done outbound_vessel_24 2019-01-03 18:06:16.398826\n",
      "outbound_vessel_24 sail to assigned lock position\n",
      "hey ho inbound_vessel_24 ['inbound_vessel_23']\n",
      "yo inbound_vessel_24 2019-01-03 18:14:31.855715 ['inbound_vessel_23']\n",
      "outbound_vessel_25 start waiting time 2019-01-03 18:16:27.509937\n",
      "wait for lockage True ['outbound_vessel_23', 'outbound_vessel_24'] False\n",
      "print doors outbound_vessel_24 ['outbound_vessel_24'] ['outbound_vessel_24']\n",
      "left doors1 outbound_vessel_24 2019-01-03 18:17:23.065492 0 [] ['outbound_vessel_24']\n",
      "outbound_vessel_24 in lock ['outbound_vessel_23', 'outbound_vessel_24']\n",
      "outbound_vessel_24 converting hap 2019-01-03 18:17:23.065492\n",
      "hi 2019-01-03 18:17:23.065492\n",
      "2019-01-03 18:17:23.065492 Node_50 Node_49 Lock doors closing start\n",
      "waiting for others done outbound_vessel_23\n"
     ]
    },
    {
     "name": "stderr",
     "output_type": "stream",
     "text": [
      "c:\\users\\floorbakker\\opentnsim\\opentnsim\\lock.py:711: UserWarning:\n",
      "\n",
      "Converting non-nanosecond precision datetime values to nanosecond precision. This behavior can eventually be relaxed in xarray, as it is an artifact from pandas which is now beginning to support non-nanosecond precision values. This warning is caused by passing non-nanosecond np.datetime64 or np.timedelta64 values to the DataArray or Variable constructor; it can be silenced by converting the values to nanosecond precision ahead of time.\n",
      "\n"
     ]
    },
    {
     "name": "stdout",
     "output_type": "stream",
     "text": [
      "outbound_vessel_26 start waiting time 2019-01-03 18:58:12.730178\n",
      "wait for lockage True ['outbound_vessel_23', 'outbound_vessel_24'] True\n",
      "inbound_vessel_24 start waiting time 2019-01-03 19:12:06.022382\n",
      "claim the lock doors inbound_vessel_24 2019-01-03 19:12:06.022382\n",
      "lock not empty inbound_vessel_24 ['outbound_vessel_24']\n",
      "lock is already converting inbound_vessel_24 2019-01-03 19:12:06.022382 ['outbound_vessel_24']\n",
      "outbound_vessel_24 hap is geconvert 2019-01-03 19:14:17.509937\n",
      "outbound_vessel_25 lock position given 2019-01-03 19:19:50.843270\n",
      "outbound_vessel_25 requested place in next lockage 2019-01-03 19:19:50.843270\n",
      "claim the lock doors outbound_vessel_25 2019-01-03 19:19:50.843270\n",
      "requesting approach: else outbound_vessel_25 2019-01-03 19:19:50.843270 0 [] ['outbound_vessel_24']\n",
      "outbound_vessel_26 lock position given 2019-01-03 19:19:50.843270\n",
      "outbound_vessel_26 requested place in next lockage 2019-01-03 19:19:50.843270\n",
      "claim the lock doors outbound_vessel_26 2019-01-03 19:19:50.843270\n",
      "requesting approach: else outbound_vessel_26 2019-01-03 19:19:50.843270 0 ['outbound_vessel_25'] ['outbound_vessel_24']\n",
      "doors requested outbound_vessel_25\n",
      "claiming lock: priority doors2 is -1 outbound_vessel_25 2019-01-03 19:19:50.843270\n",
      "outbound_vessel_25 wth\n",
      "hi 2019-01-03 19:19:50.843270\n",
      "2019-01-03 19:19:50.843270 Node_49 Node_50 Lock doors closing start\n"
     ]
    },
    {
     "name": "stderr",
     "output_type": "stream",
     "text": [
      "c:\\users\\floorbakker\\opentnsim\\opentnsim\\lock.py:711: UserWarning:\n",
      "\n",
      "Converting non-nanosecond precision datetime values to nanosecond precision. This behavior can eventually be relaxed in xarray, as it is an artifact from pandas which is now beginning to support non-nanosecond precision values. This warning is caused by passing non-nanosecond np.datetime64 or np.timedelta64 values to the DataArray or Variable constructor; it can be silenced by converting the values to nanosecond precision ahead of time.\n",
      "\n"
     ]
    },
    {
     "name": "stdout",
     "output_type": "stream",
     "text": [
      "waiting done outbound_vessel_25 2019-01-03 19:46:50.843270\n",
      "outbound_vessel_25 sail to assigned lock position\n",
      "print doors outbound_vessel_25 ['outbound_vessel_25'] ['outbound_vessel_25']\n",
      "left doors1 outbound_vessel_25 2019-01-03 19:52:24.176604 0 ['outbound_vessel_26'] ['outbound_vessel_25']\n",
      "outbound_vessel_25 in lock ['outbound_vessel_25', 'outbound_vessel_26']\n",
      "waiting for others outbound_vessel_25\n",
      "doors requested outbound_vessel_26\n",
      "claiming lock: priority doors2 is -1 outbound_vessel_26 2019-01-03 19:52:24.176604\n",
      "waiting done outbound_vessel_26 2019-01-03 19:52:24.176604\n",
      "outbound_vessel_26 sail to assigned lock position\n",
      "outbound_vessel_27 start waiting time 2019-01-03 20:02:35.287715\n",
      "wait for lockage True ['outbound_vessel_25', 'outbound_vessel_26'] False\n",
      "print doors outbound_vessel_26 ['outbound_vessel_26'] ['outbound_vessel_26']\n",
      "left doors1 outbound_vessel_26 2019-01-03 20:03:30.843270 0 [] ['outbound_vessel_26']\n",
      "outbound_vessel_26 in lock ['outbound_vessel_25', 'outbound_vessel_26']\n",
      "outbound_vessel_26 converting hap 2019-01-03 20:03:30.843270\n",
      "hi 2019-01-03 20:03:30.843270\n",
      "2019-01-03 20:03:30.843270 Node_50 Node_49 Lock doors closing start\n",
      "waiting for others done outbound_vessel_25\n"
     ]
    },
    {
     "name": "stderr",
     "output_type": "stream",
     "text": [
      "c:\\users\\floorbakker\\opentnsim\\opentnsim\\lock.py:711: UserWarning:\n",
      "\n",
      "Converting non-nanosecond precision datetime values to nanosecond precision. This behavior can eventually be relaxed in xarray, as it is an artifact from pandas which is now beginning to support non-nanosecond precision values. This warning is caused by passing non-nanosecond np.datetime64 or np.timedelta64 values to the DataArray or Variable constructor; it can be silenced by converting the values to nanosecond precision ahead of time.\n",
      "\n"
     ]
    },
    {
     "name": "stdout",
     "output_type": "stream",
     "text": [
      "outbound_vessel_26 hap is geconvert 2019-01-03 20:45:25.287715\n",
      "outbound_vessel_27 lock position given 2019-01-03 20:50:58.621048\n",
      "outbound_vessel_27 requested place in next lockage 2019-01-03 20:50:58.621048\n",
      "claim the lock doors outbound_vessel_27 2019-01-03 20:50:58.621048\n",
      "requesting approach: else outbound_vessel_27 2019-01-03 20:50:58.621048 0 [] ['outbound_vessel_26']\n",
      "doors requested outbound_vessel_27\n",
      "claiming lock: priority doors2 is -1 outbound_vessel_27 2019-01-03 20:50:58.621048\n",
      "outbound_vessel_27 wth\n",
      "hi 2019-01-03 20:50:58.621048\n",
      "2019-01-03 20:50:58.621048 Node_49 Node_50 Lock doors closing start\n"
     ]
    },
    {
     "name": "stderr",
     "output_type": "stream",
     "text": [
      "c:\\users\\floorbakker\\opentnsim\\opentnsim\\lock.py:711: UserWarning:\n",
      "\n",
      "Converting non-nanosecond precision datetime values to nanosecond precision. This behavior can eventually be relaxed in xarray, as it is an artifact from pandas which is now beginning to support non-nanosecond precision values. This warning is caused by passing non-nanosecond np.datetime64 or np.timedelta64 values to the DataArray or Variable constructor; it can be silenced by converting the values to nanosecond precision ahead of time.\n",
      "\n"
     ]
    },
    {
     "name": "stdout",
     "output_type": "stream",
     "text": [
      "hey ho outbound_vessel_28 ['outbound_vessel_27']\n",
      "yo outbound_vessel_28 2019-01-03 21:37:54.781872 ['outbound_vessel_27']\n",
      "waiting done outbound_vessel_27 2019-01-03 21:37:58.621048\n",
      "outbound_vessel_27 sail to assigned lock position\n",
      "print doors outbound_vessel_27 ['outbound_vessel_27'] ['outbound_vessel_27']\n",
      "left doors1 outbound_vessel_27 2019-01-03 21:49:05.287715 0 [] ['outbound_vessel_27']\n",
      "outbound_vessel_27 in lock ['outbound_vessel_27', 'outbound_vessel_28']\n",
      "waiting for others outbound_vessel_27\n",
      "outbound_vessel_28 start waiting time 2019-01-03 22:36:35.615205\n",
      "claim the lock doors outbound_vessel_28 2019-01-03 22:36:35.615205\n",
      "lock not empty outbound_vessel_28 ['outbound_vessel_27']\n",
      "lock is ready to be entered 2019-01-03 22:36:35.615205\n",
      "lock doors claimed outbound_vessel_28 2019-01-03 22:36:35.615205\n",
      "waiting done outbound_vessel_28 2019-01-03 22:36:35.615205\n",
      "outbound_vessel_28 sail to assigned lock position\n",
      "print doors outbound_vessel_28 ['outbound_vessel_28'] ['outbound_vessel_28']\n",
      "left doors1 outbound_vessel_28 2019-01-03 22:44:00.059650 0 [] ['outbound_vessel_28']\n",
      "outbound_vessel_28 in lock ['outbound_vessel_27', 'outbound_vessel_28']\n",
      "outbound_vessel_28 converting hap 2019-01-03 22:44:00.059650\n",
      "hi 2019-01-03 22:44:00.059650\n",
      "2019-01-03 22:44:00.059650 Node_50 Node_49 Lock doors closing start\n",
      "waiting for others done outbound_vessel_27\n",
      "outbound_vessel_29 start waiting time 2019-01-03 22:53:36.040735\n",
      "wait for lockage True ['outbound_vessel_27', 'outbound_vessel_28'] True\n"
     ]
    },
    {
     "name": "stderr",
     "output_type": "stream",
     "text": [
      "c:\\users\\floorbakker\\opentnsim\\opentnsim\\lock.py:513: UserWarning:\n",
      "\n",
      "Converting non-nanosecond precision datetime values to nanosecond precision. This behavior can eventually be relaxed in xarray, as it is an artifact from pandas which is now beginning to support non-nanosecond precision values. This warning is caused by passing non-nanosecond np.datetime64 or np.timedelta64 values to the DataArray or Variable constructor; it can be silenced by converting the values to nanosecond precision ahead of time.\n",
      "\n",
      "c:\\users\\floorbakker\\opentnsim\\opentnsim\\lock.py:711: UserWarning:\n",
      "\n",
      "Converting non-nanosecond precision datetime values to nanosecond precision. This behavior can eventually be relaxed in xarray, as it is an artifact from pandas which is now beginning to support non-nanosecond precision values. This warning is caused by passing non-nanosecond np.datetime64 or np.timedelta64 values to the DataArray or Variable constructor; it can be silenced by converting the values to nanosecond precision ahead of time.\n",
      "\n"
     ]
    },
    {
     "name": "stdout",
     "output_type": "stream",
     "text": [
      "outbound_vessel_28 hap is geconvert 2019-01-03 23:47:21.170761\n",
      "outbound_vessel_29 lock position given 2019-01-03 23:52:54.504094\n",
      "outbound_vessel_29 requested place in next lockage 2019-01-03 23:52:54.504094\n",
      "claim the lock doors outbound_vessel_29 2019-01-03 23:52:54.504094\n",
      "requesting approach: else outbound_vessel_29 2019-01-03 23:52:54.504094 0 [] ['outbound_vessel_28']\n",
      "doors requested outbound_vessel_29\n",
      "claiming lock: priority doors2 is -1 outbound_vessel_29 2019-01-03 23:52:54.504094\n",
      "outbound_vessel_29 wth\n",
      "hi 2019-01-03 23:52:54.504094\n",
      "2019-01-03 23:52:54.504094 Node_49 Node_50 Lock doors closing start\n"
     ]
    },
    {
     "name": "stderr",
     "output_type": "stream",
     "text": [
      "c:\\users\\floorbakker\\opentnsim\\opentnsim\\lock.py:711: UserWarning:\n",
      "\n",
      "Converting non-nanosecond precision datetime values to nanosecond precision. This behavior can eventually be relaxed in xarray, as it is an artifact from pandas which is now beginning to support non-nanosecond precision values. This warning is caused by passing non-nanosecond np.datetime64 or np.timedelta64 values to the DataArray or Variable constructor; it can be silenced by converting the values to nanosecond precision ahead of time.\n",
      "\n"
     ]
    },
    {
     "name": "stdout",
     "output_type": "stream",
     "text": [
      "waiting done outbound_vessel_29 2019-01-04 00:47:54.504094\n",
      "outbound_vessel_29 sail to assigned lock position\n",
      "print doors outbound_vessel_29 ['outbound_vessel_29'] ['outbound_vessel_29']\n",
      "left doors1 outbound_vessel_29 2019-01-04 00:59:01.170761 0 [] ['outbound_vessel_29']\n",
      "outbound_vessel_29 in lock ['outbound_vessel_29']\n",
      "outbound_vessel_29 converting hap 2019-01-04 00:59:01.170761\n",
      "hi 2019-01-04 00:59:01.170761\n",
      "2019-01-04 00:59:01.170761 Node_50 Node_49 Lock doors closing start\n"
     ]
    },
    {
     "name": "stderr",
     "output_type": "stream",
     "text": [
      "c:\\users\\floorbakker\\opentnsim\\opentnsim\\lock.py:711: UserWarning:\n",
      "\n",
      "Converting non-nanosecond precision datetime values to nanosecond precision. This behavior can eventually be relaxed in xarray, as it is an artifact from pandas which is now beginning to support non-nanosecond precision values. This warning is caused by passing non-nanosecond np.datetime64 or np.timedelta64 values to the DataArray or Variable constructor; it can be silenced by converting the values to nanosecond precision ahead of time.\n",
      "\n"
     ]
    },
    {
     "name": "stdout",
     "output_type": "stream",
     "text": [
      "hey ho outbound_vessel_30 ['outbound_vessel_29']\n",
      "outbound_vessel_29 hap is geconvert 2019-01-04 01:40:01.170761\n",
      "left doors2 outbound_vessel_29 2019-01-04 01:44:22.281872 0 [] []\n",
      "lock doors claimed inbound_vessel_23 2019-01-04 01:44:22.281872\n",
      "first in line to claim lock inbound_vessel_23 2019-01-04 01:44:22.281872\n",
      "waiting done inbound_vessel_23 2019-01-04 01:44:22.281872\n",
      "inbound_vessel_23 sail to assigned lock position\n",
      "print doors inbound_vessel_23 ['inbound_vessel_23'] ['inbound_vessel_23']\n",
      "left doors1 inbound_vessel_23 2019-01-04 01:55:28.948539 ['inbound_vessel_24'] 1 ['inbound_vessel_23']\n",
      "inbound_vessel_23 in lock ['inbound_vessel_23', 'inbound_vessel_24']\n",
      "waiting for others inbound_vessel_23\n",
      "lock doors claimed inbound_vessel_24 2019-01-04 01:55:28.948539\n",
      "second in line to claim lock inbound_vessel_24 2019-01-04 01:55:28.948539\n",
      "waiting done inbound_vessel_24 2019-01-04 01:55:28.948539\n",
      "inbound_vessel_24 sail to assigned lock position\n",
      "inbound_vessel_25 start waiting time 2019-01-04 02:05:40.059650\n",
      "wait for lockage True ['inbound_vessel_23', 'inbound_vessel_24'] False\n",
      "print doors inbound_vessel_24 ['inbound_vessel_24'] ['inbound_vessel_24']\n",
      "left doors1 inbound_vessel_24 2019-01-04 02:06:35.615206 [] 1 ['inbound_vessel_24']\n",
      "inbound_vessel_24 in lock ['inbound_vessel_23', 'inbound_vessel_24']\n",
      "inbound_vessel_24 converting hap 2019-01-04 02:06:35.615206\n",
      "hi 2019-01-04 02:06:35.615206\n",
      "2019-01-04 02:06:35.615206 Node_49 Node_50 Lock doors closing start\n",
      "waiting for others done inbound_vessel_23\n",
      "inbound_vessel_26 start waiting time 2019-01-04 02:12:08.948539\n",
      "wait for lockage True ['inbound_vessel_23', 'inbound_vessel_24'] True\n",
      "outbound_vessel_30 start waiting time 2019-01-04 02:14:08.100928\n",
      "outbound_vessel_30 lock position given 2019-01-04 02:14:08.100928\n",
      "outbound_vessel_30 requested place in next lockage 2019-01-04 02:14:08.100928\n",
      "claim the lock doors outbound_vessel_30 2019-01-04 02:14:08.100928\n",
      "requesting approach: else outbound_vessel_30 2019-01-04 02:14:08.100928 2 ['inbound_vessel_24'] []\n"
     ]
    },
    {
     "name": "stderr",
     "output_type": "stream",
     "text": [
      "c:\\users\\floorbakker\\opentnsim\\opentnsim\\lock.py:711: UserWarning:\n",
      "\n",
      "Converting non-nanosecond precision datetime values to nanosecond precision. This behavior can eventually be relaxed in xarray, as it is an artifact from pandas which is now beginning to support non-nanosecond precision values. This warning is caused by passing non-nanosecond np.datetime64 or np.timedelta64 values to the DataArray or Variable constructor; it can be silenced by converting the values to nanosecond precision ahead of time.\n",
      "\n"
     ]
    },
    {
     "name": "stdout",
     "output_type": "stream",
     "text": [
      "inbound_vessel_24 hap is geconvert 2019-01-04 02:40:56.726317\n",
      "inbound_vessel_25 lock position given 2019-01-04 02:46:30.059650\n",
      "inbound_vessel_25 requested place in next lockage 2019-01-04 02:46:30.059650\n",
      "claim the lock doors inbound_vessel_25 2019-01-04 02:46:30.059650\n",
      "requesting approach: else inbound_vessel_25 2019-01-04 02:46:30.059650 0 [] ['inbound_vessel_24']\n",
      "inbound_vessel_26 lock position given 2019-01-04 02:46:30.059650\n",
      "inbound_vessel_26 requested place in next lockage 2019-01-04 02:46:30.059650\n",
      "claim the lock doors inbound_vessel_26 2019-01-04 02:46:30.059650\n",
      "requesting approach: else inbound_vessel_26 2019-01-04 02:46:30.059650 0 ['inbound_vessel_25'] ['inbound_vessel_24']\n",
      "doors requested inbound_vessel_25\n",
      "claiming lock: priority doors2 is -1 inbound_vessel_25 2019-01-04 02:46:30.059650\n",
      "inbound_vessel_25 wth\n",
      "hi 2019-01-04 02:46:30.059650\n",
      "2019-01-04 02:46:30.059650 Node_50 Node_49 Lock doors closing start\n",
      "hey ho outbound_vessel_31 ['outbound_vessel_30']\n",
      "yo outbound_vessel_31 2019-01-04 02:54:59.258764 ['outbound_vessel_30']\n"
     ]
    },
    {
     "name": "stderr",
     "output_type": "stream",
     "text": [
      "c:\\users\\floorbakker\\opentnsim\\opentnsim\\lock.py:711: UserWarning:\n",
      "\n",
      "Converting non-nanosecond precision datetime values to nanosecond precision. This behavior can eventually be relaxed in xarray, as it is an artifact from pandas which is now beginning to support non-nanosecond precision values. This warning is caused by passing non-nanosecond np.datetime64 or np.timedelta64 values to the DataArray or Variable constructor; it can be silenced by converting the values to nanosecond precision ahead of time.\n",
      "\n"
     ]
    },
    {
     "name": "stdout",
     "output_type": "stream",
     "text": [
      "waiting done inbound_vessel_25 2019-01-04 03:30:30.059650\n",
      "inbound_vessel_25 sail to assigned lock position\n",
      "print doors inbound_vessel_25 ['inbound_vessel_25'] ['inbound_vessel_25']\n",
      "left doors1 inbound_vessel_25 2019-01-04 03:36:03.392984 ['inbound_vessel_26'] 1 ['inbound_vessel_25']\n",
      "inbound_vessel_25 in lock ['inbound_vessel_25', 'inbound_vessel_26']\n",
      "waiting for others inbound_vessel_25\n",
      "doors requested inbound_vessel_26\n",
      "claiming lock: priority doors2 is -1 inbound_vessel_26 2019-01-04 03:36:03.392984\n",
      "waiting done inbound_vessel_26 2019-01-04 03:36:03.392984\n",
      "inbound_vessel_26 sail to assigned lock position\n",
      "inbound_vessel_27 start waiting time 2019-01-04 03:46:14.504095\n",
      "wait for lockage True ['inbound_vessel_25', 'inbound_vessel_26'] False\n",
      "print doors inbound_vessel_26 ['inbound_vessel_26'] ['inbound_vessel_26']\n",
      "left doors1 inbound_vessel_26 2019-01-04 03:47:10.059650 [] 1 ['inbound_vessel_26']\n",
      "inbound_vessel_26 in lock ['inbound_vessel_25', 'inbound_vessel_26']\n",
      "inbound_vessel_26 converting hap 2019-01-04 03:47:10.059650\n",
      "hi 2019-01-04 03:47:10.059650\n",
      "2019-01-04 03:47:10.059650 Node_49 Node_50 Lock doors closing start\n",
      "waiting for others done inbound_vessel_25\n",
      "outbound_vessel_31 start waiting time 2019-01-04 03:52:33.425431\n",
      "claim the lock doors outbound_vessel_31 2019-01-04 03:52:33.425431\n",
      "requesting approach: else outbound_vessel_31 2019-01-04 03:52:33.425431 2 ['inbound_vessel_26'] []\n"
     ]
    },
    {
     "name": "stderr",
     "output_type": "stream",
     "text": [
      "c:\\users\\floorbakker\\opentnsim\\opentnsim\\lock.py:711: UserWarning:\n",
      "\n",
      "Converting non-nanosecond precision datetime values to nanosecond precision. This behavior can eventually be relaxed in xarray, as it is an artifact from pandas which is now beginning to support non-nanosecond precision values. This warning is caused by passing non-nanosecond np.datetime64 or np.timedelta64 values to the DataArray or Variable constructor; it can be silenced by converting the values to nanosecond precision ahead of time.\n",
      "\n"
     ]
    },
    {
     "name": "stdout",
     "output_type": "stream",
     "text": [
      "inbound_vessel_26 hap is geconvert 2019-01-04 04:52:04.504095\n",
      "inbound_vessel_27 lock position given 2019-01-04 04:57:37.837428\n",
      "inbound_vessel_27 requested place in next lockage 2019-01-04 04:57:37.837428\n",
      "claim the lock doors inbound_vessel_27 2019-01-04 04:57:37.837428\n",
      "requesting approach: else inbound_vessel_27 2019-01-04 04:57:37.837428 0 [] ['inbound_vessel_26']\n",
      "doors requested inbound_vessel_27\n",
      "claiming lock: priority doors2 is -1 inbound_vessel_27 2019-01-04 04:57:37.837428\n",
      "inbound_vessel_27 wth\n",
      "hi 2019-01-04 04:57:37.837428\n",
      "2019-01-04 04:57:37.837428 Node_50 Node_49 Lock doors closing start\n"
     ]
    },
    {
     "name": "stderr",
     "output_type": "stream",
     "text": [
      "c:\\users\\floorbakker\\opentnsim\\opentnsim\\lock.py:711: UserWarning:\n",
      "\n",
      "Converting non-nanosecond precision datetime values to nanosecond precision. This behavior can eventually be relaxed in xarray, as it is an artifact from pandas which is now beginning to support non-nanosecond precision values. This warning is caused by passing non-nanosecond np.datetime64 or np.timedelta64 values to the DataArray or Variable constructor; it can be silenced by converting the values to nanosecond precision ahead of time.\n",
      "\n"
     ]
    },
    {
     "name": "stdout",
     "output_type": "stream",
     "text": [
      "hey ho inbound_vessel_28 ['inbound_vessel_27']\n",
      "yo inbound_vessel_28 2019-01-04 05:40:25.709100 ['inbound_vessel_27']\n",
      "waiting done inbound_vessel_27 2019-01-04 05:56:37.837428\n",
      "inbound_vessel_27 sail to assigned lock position\n",
      "print doors inbound_vessel_27 ['inbound_vessel_27'] ['inbound_vessel_27']\n",
      "left doors1 inbound_vessel_27 2019-01-04 06:07:44.504095 [] 1 ['inbound_vessel_27']\n",
      "inbound_vessel_27 in lock ['inbound_vessel_27', 'inbound_vessel_28']\n",
      "waiting for others inbound_vessel_27\n",
      "inbound_vessel_28 start waiting time 2019-01-04 06:39:06.542433\n",
      "claim the lock doors inbound_vessel_28 2019-01-04 06:39:06.542433\n",
      "lock not empty inbound_vessel_28 ['inbound_vessel_27']\n",
      "lock is ready to be entered 2019-01-04 06:39:06.542433\n",
      "lock doors claimed inbound_vessel_28 2019-01-04 06:39:06.542433\n",
      "waiting done inbound_vessel_28 2019-01-04 06:39:06.542433\n",
      "inbound_vessel_28 sail to assigned lock position\n",
      "print doors inbound_vessel_28 ['inbound_vessel_28'] ['inbound_vessel_28']\n",
      "left doors1 inbound_vessel_28 2019-01-04 06:46:30.986878 [] 1 ['inbound_vessel_28']\n",
      "inbound_vessel_28 in lock ['inbound_vessel_27', 'inbound_vessel_28']\n",
      "inbound_vessel_28 converting hap 2019-01-04 06:46:30.986878\n",
      "hi 2019-01-04 06:46:30.986878\n",
      "2019-01-04 06:46:30.986878 Node_49 Node_50 Lock doors closing start\n",
      "waiting for others done inbound_vessel_27\n"
     ]
    },
    {
     "name": "stderr",
     "output_type": "stream",
     "text": [
      "c:\\users\\floorbakker\\opentnsim\\opentnsim\\lock.py:711: UserWarning:\n",
      "\n",
      "Converting non-nanosecond precision datetime values to nanosecond precision. This behavior can eventually be relaxed in xarray, as it is an artifact from pandas which is now beginning to support non-nanosecond precision values. This warning is caused by passing non-nanosecond np.datetime64 or np.timedelta64 values to the DataArray or Variable constructor; it can be silenced by converting the values to nanosecond precision ahead of time.\n",
      "\n"
     ]
    },
    {
     "name": "stdout",
     "output_type": "stream",
     "text": [
      "inbound_vessel_28 hap is geconvert 2019-01-04 07:37:52.097989\n",
      "left doors2 inbound_vessel_28 2019-01-04 07:45:55.431322 1 [] []\n",
      "doors requested outbound_vessel_30\n",
      "claiming lock: priority doors2 not -1 outbound_vessel_30 2019-01-04 07:45:55.431322\n",
      "waiting done outbound_vessel_30 2019-01-04 07:45:55.431322\n",
      "outbound_vessel_30 sail to assigned lock position\n",
      "print doors outbound_vessel_30 ['outbound_vessel_30'] ['outbound_vessel_30']\n",
      "left doors1 outbound_vessel_30 2019-01-04 07:57:02.097989 0 ['outbound_vessel_31'] ['outbound_vessel_30']\n",
      "outbound_vessel_30 in lock ['outbound_vessel_30', 'outbound_vessel_31']\n",
      "waiting for others outbound_vessel_30\n",
      "doors requested outbound_vessel_31\n",
      "claiming lock: priority doors2 is -1 outbound_vessel_31 2019-01-04 07:57:02.097989\n",
      "waiting done outbound_vessel_31 2019-01-04 07:57:02.097989\n",
      "outbound_vessel_31 sail to assigned lock position\n",
      "outbound_vessel_32 start waiting time 2019-01-04 08:07:13.209100\n",
      "wait for lockage True ['outbound_vessel_30', 'outbound_vessel_31'] False\n",
      "print doors outbound_vessel_31 ['outbound_vessel_31'] ['outbound_vessel_31']\n",
      "left doors1 outbound_vessel_31 2019-01-04 08:08:08.764656 0 [] ['outbound_vessel_31']\n",
      "outbound_vessel_31 in lock ['outbound_vessel_30', 'outbound_vessel_31']\n",
      "outbound_vessel_31 converting hap 2019-01-04 08:08:08.764656\n",
      "hi 2019-01-04 08:08:08.764656\n",
      "2019-01-04 08:08:08.764656 Node_50 Node_49 Lock doors closing start\n",
      "waiting for others done outbound_vessel_30\n",
      "outbound_vessel_33 start waiting time 2019-01-04 08:13:42.097989\n",
      "wait for lockage True ['outbound_vessel_30', 'outbound_vessel_31'] True\n"
     ]
    },
    {
     "name": "stderr",
     "output_type": "stream",
     "text": [
      "c:\\users\\floorbakker\\opentnsim\\opentnsim\\lock.py:711: UserWarning:\n",
      "\n",
      "Converting non-nanosecond precision datetime values to nanosecond precision. This behavior can eventually be relaxed in xarray, as it is an artifact from pandas which is now beginning to support non-nanosecond precision values. This warning is caused by passing non-nanosecond np.datetime64 or np.timedelta64 values to the DataArray or Variable constructor; it can be silenced by converting the values to nanosecond precision ahead of time.\n",
      "\n"
     ]
    },
    {
     "name": "stdout",
     "output_type": "stream",
     "text": [
      "outbound_vessel_31 hap is geconvert 2019-01-04 08:33:29.875767\n",
      "hey ho inbound_vessel_29 []\n",
      "hi inbound_vessel_29 2019-01-04 08:35:41.720599 0\n",
      "outbound_vessel_32 lock position given 2019-01-04 08:39:03.209100\n",
      "outbound_vessel_32 requested place in next lockage 2019-01-04 08:39:03.209100\n",
      "claim the lock doors outbound_vessel_32 2019-01-04 08:39:03.209100\n",
      "requesting approach: else outbound_vessel_32 2019-01-04 08:39:03.209100 0 [] ['outbound_vessel_31']\n",
      "outbound_vessel_33 lock position given 2019-01-04 08:39:03.209100\n",
      "outbound_vessel_33 requested place in next lockage 2019-01-04 08:39:03.209100\n",
      "claim the lock doors outbound_vessel_33 2019-01-04 08:39:03.209100\n",
      "requesting approach: else outbound_vessel_33 2019-01-04 08:39:03.209100 0 ['outbound_vessel_32'] ['outbound_vessel_31']\n",
      "doors requested outbound_vessel_32\n",
      "claiming lock: priority doors2 is -1 outbound_vessel_32 2019-01-04 08:39:03.209100\n",
      "outbound_vessel_32 wth\n",
      "hi 2019-01-04 08:39:03.209100\n",
      "2019-01-04 08:39:03.209100 Node_49 Node_50 Lock doors closing start\n"
     ]
    },
    {
     "name": "stderr",
     "output_type": "stream",
     "text": [
      "c:\\users\\floorbakker\\opentnsim\\opentnsim\\lock.py:711: UserWarning:\n",
      "\n",
      "Converting non-nanosecond precision datetime values to nanosecond precision. This behavior can eventually be relaxed in xarray, as it is an artifact from pandas which is now beginning to support non-nanosecond precision values. This warning is caused by passing non-nanosecond np.datetime64 or np.timedelta64 values to the DataArray or Variable constructor; it can be silenced by converting the values to nanosecond precision ahead of time.\n",
      "\n"
     ]
    },
    {
     "name": "stdout",
     "output_type": "stream",
     "text": [
      "waiting done outbound_vessel_32 2019-01-04 09:15:03.209100\n",
      "outbound_vessel_32 sail to assigned lock position\n",
      "print doors outbound_vessel_32 ['outbound_vessel_32'] ['outbound_vessel_32']\n",
      "left doors1 outbound_vessel_32 2019-01-04 09:20:36.542434 0 ['outbound_vessel_33'] ['outbound_vessel_32']\n",
      "outbound_vessel_32 in lock ['outbound_vessel_32', 'outbound_vessel_33']\n",
      "waiting for others outbound_vessel_32\n",
      "doors requested outbound_vessel_33\n",
      "claiming lock: priority doors2 is -1 outbound_vessel_33 2019-01-04 09:20:36.542434\n",
      "waiting done outbound_vessel_33 2019-01-04 09:20:36.542434\n",
      "outbound_vessel_33 sail to assigned lock position\n",
      "print doors outbound_vessel_33 ['outbound_vessel_33'] ['outbound_vessel_33']\n",
      "left doors1 outbound_vessel_33 2019-01-04 09:31:43.209100 0 [] ['outbound_vessel_33']\n",
      "outbound_vessel_33 in lock ['outbound_vessel_32', 'outbound_vessel_33']\n",
      "outbound_vessel_33 converting hap 2019-01-04 09:31:43.209100\n",
      "hi 2019-01-04 09:31:43.209100\n",
      "2019-01-04 09:31:43.209100 Node_50 Node_49 Lock doors closing start\n",
      "waiting for others done outbound_vessel_32\n",
      "inbound_vessel_29 start waiting time 2019-01-04 09:34:22.553932\n",
      "claim the lock doors inbound_vessel_29 2019-01-04 09:34:22.553932\n",
      "requesting approach: else inbound_vessel_29 2019-01-04 09:34:22.553932 2 ['outbound_vessel_33'] []\n"
     ]
    },
    {
     "name": "stderr",
     "output_type": "stream",
     "text": [
      "c:\\users\\floorbakker\\opentnsim\\opentnsim\\lock.py:711: UserWarning:\n",
      "\n",
      "Converting non-nanosecond precision datetime values to nanosecond precision. This behavior can eventually be relaxed in xarray, as it is an artifact from pandas which is now beginning to support non-nanosecond precision values. This warning is caused by passing non-nanosecond np.datetime64 or np.timedelta64 values to the DataArray or Variable constructor; it can be silenced by converting the values to nanosecond precision ahead of time.\n",
      "\n"
     ]
    },
    {
     "name": "stdout",
     "output_type": "stream",
     "text": [
      "outbound_vessel_33 hap is geconvert 2019-01-04 10:30:37.653545\n",
      "left doors2 outbound_vessel_33 2019-01-04 10:38:40.986878 0 [] []\n",
      "doors requested inbound_vessel_29\n",
      "claiming lock: priority doors2 not -1 inbound_vessel_29 2019-01-04 10:38:40.986878\n",
      "waiting done inbound_vessel_29 2019-01-04 10:38:40.986878\n",
      "inbound_vessel_29 sail to assigned lock position\n",
      "print doors inbound_vessel_29 ['inbound_vessel_29'] ['inbound_vessel_29']\n",
      "left doors1 inbound_vessel_29 2019-01-04 10:49:47.653545 [] 1 ['inbound_vessel_29']\n",
      "inbound_vessel_29 in lock ['inbound_vessel_29']\n",
      "inbound_vessel_29 converting hap 2019-01-04 10:49:47.653545\n",
      "hi 2019-01-04 10:49:47.653545\n",
      "2019-01-04 10:49:47.653545 Node_49 Node_50 Lock doors closing start\n"
     ]
    },
    {
     "name": "stderr",
     "output_type": "stream",
     "text": [
      "c:\\users\\floorbakker\\opentnsim\\opentnsim\\lock.py:711: UserWarning:\n",
      "\n",
      "Converting non-nanosecond precision datetime values to nanosecond precision. This behavior can eventually be relaxed in xarray, as it is an artifact from pandas which is now beginning to support non-nanosecond precision values. This warning is caused by passing non-nanosecond np.datetime64 or np.timedelta64 values to the DataArray or Variable constructor; it can be silenced by converting the values to nanosecond precision ahead of time.\n",
      "\n"
     ]
    },
    {
     "name": "stdout",
     "output_type": "stream",
     "text": [
      "outbound_vessel_34 start waiting time 2019-01-04 11:13:31.101712\n",
      "outbound_vessel_34 lock position given 2019-01-04 11:13:31.101712\n",
      "outbound_vessel_34 requested place in next lockage 2019-01-04 11:13:31.101712\n",
      "claim the lock doors outbound_vessel_34 2019-01-04 11:13:31.101712\n",
      "lock not empty outbound_vessel_34 ['inbound_vessel_29']\n",
      "lock is already converting outbound_vessel_34 2019-01-04 11:13:31.101712 ['inbound_vessel_29']\n",
      "hey ho outbound_vessel_35 ['outbound_vessel_34']\n",
      "yo outbound_vessel_35 2019-01-04 11:37:18.851327 ['outbound_vessel_34']\n",
      "inbound_vessel_29 hap is geconvert 2019-01-04 11:48:47.653545\n",
      "left doors2 inbound_vessel_29 2019-01-04 11:53:08.764656 1 [] []\n",
      "lock doors claimed outbound_vessel_34 2019-01-04 11:53:08.764656\n",
      "first in line to claim lock outbound_vessel_34 2019-01-04 11:53:08.764656\n",
      "waiting done outbound_vessel_34 2019-01-04 11:53:08.764656\n",
      "outbound_vessel_34 sail to assigned lock position\n",
      "print doors outbound_vessel_34 ['outbound_vessel_34'] ['outbound_vessel_34']\n",
      "left doors1 outbound_vessel_34 2019-01-04 12:04:15.431323 0 [] ['outbound_vessel_34']\n",
      "outbound_vessel_34 in lock ['outbound_vessel_34', 'outbound_vessel_35']\n",
      "waiting for others outbound_vessel_34\n",
      "hey ho inbound_vessel_30 []\n",
      "hi inbound_vessel_30 2019-01-04 12:04:36.506341 0\n",
      "outbound_vessel_35 start waiting time 2019-01-04 12:35:59.684660\n",
      "claim the lock doors outbound_vessel_35 2019-01-04 12:35:59.684660\n",
      "lock not empty outbound_vessel_35 ['outbound_vessel_34']\n",
      "lock is ready to be entered 2019-01-04 12:35:59.684660\n",
      "lock doors claimed outbound_vessel_35 2019-01-04 12:35:59.684660\n",
      "waiting done outbound_vessel_35 2019-01-04 12:35:59.684660\n",
      "outbound_vessel_35 sail to assigned lock position\n",
      "print doors outbound_vessel_35 ['outbound_vessel_35'] ['outbound_vessel_35']\n",
      "left doors1 outbound_vessel_35 2019-01-04 12:43:24.129105 0 [] ['outbound_vessel_35']\n",
      "outbound_vessel_35 in lock ['outbound_vessel_34', 'outbound_vessel_35']\n",
      "outbound_vessel_35 converting hap 2019-01-04 12:43:24.129105\n",
      "hi 2019-01-04 12:43:24.129105\n",
      "2019-01-04 12:43:24.129105 Node_50 Node_49 Lock doors closing start\n",
      "waiting for others done outbound_vessel_34\n"
     ]
    },
    {
     "name": "stderr",
     "output_type": "stream",
     "text": [
      "c:\\users\\floorbakker\\opentnsim\\opentnsim\\lock.py:711: UserWarning:\n",
      "\n",
      "Converting non-nanosecond precision datetime values to nanosecond precision. This behavior can eventually be relaxed in xarray, as it is an artifact from pandas which is now beginning to support non-nanosecond precision values. This warning is caused by passing non-nanosecond np.datetime64 or np.timedelta64 values to the DataArray or Variable constructor; it can be silenced by converting the values to nanosecond precision ahead of time.\n",
      "\n"
     ]
    },
    {
     "name": "stdout",
     "output_type": "stream",
     "text": [
      "inbound_vessel_30 start waiting time 2019-01-04 13:03:17.339674\n",
      "claim the lock doors inbound_vessel_30 2019-01-04 13:03:17.339674\n",
      "lock not empty inbound_vessel_30 ['outbound_vessel_34', 'outbound_vessel_35']\n",
      "lock is already converting inbound_vessel_30 2019-01-04 13:03:17.339674 ['outbound_vessel_34', 'outbound_vessel_35']\n",
      "outbound_vessel_36 start waiting time 2019-01-04 13:03:50.200772\n",
      "wait for lockage True ['outbound_vessel_34', 'outbound_vessel_35'] True\n",
      "outbound_vessel_35 hap is geconvert 2019-01-04 13:39:45.240216\n",
      "outbound_vessel_36 lock position given 2019-01-04 13:45:18.573549\n",
      "outbound_vessel_36 requested place in next lockage 2019-01-04 13:45:18.573549\n",
      "claim the lock doors outbound_vessel_36 2019-01-04 13:45:18.573549\n",
      "requesting approach: else outbound_vessel_36 2019-01-04 13:45:18.573549 0 [] ['outbound_vessel_35']\n",
      "doors requested outbound_vessel_36\n",
      "claiming lock: priority doors2 is -1 outbound_vessel_36 2019-01-04 13:45:18.573549\n",
      "outbound_vessel_36 wth\n",
      "hi 2019-01-04 13:45:18.573549\n",
      "2019-01-04 13:45:18.573549 Node_49 Node_50 Lock doors closing start\n",
      "hey ho outbound_vessel_37 ['outbound_vessel_36']\n",
      "yo outbound_vessel_37 2019-01-04 13:47:31.476098 ['outbound_vessel_36']\n"
     ]
    },
    {
     "name": "stderr",
     "output_type": "stream",
     "text": [
      "c:\\users\\floorbakker\\opentnsim\\opentnsim\\lock.py:711: UserWarning:\n",
      "\n",
      "Converting non-nanosecond precision datetime values to nanosecond precision. This behavior can eventually be relaxed in xarray, as it is an artifact from pandas which is now beginning to support non-nanosecond precision values. This warning is caused by passing non-nanosecond np.datetime64 or np.timedelta64 values to the DataArray or Variable constructor; it can be silenced by converting the values to nanosecond precision ahead of time.\n",
      "\n"
     ]
    },
    {
     "name": "stdout",
     "output_type": "stream",
     "text": [
      "waiting done outbound_vessel_36 2019-01-04 14:19:18.573549\n",
      "outbound_vessel_36 sail to assigned lock position\n",
      "print doors outbound_vessel_36 ['outbound_vessel_36'] ['outbound_vessel_36']\n",
      "left doors1 outbound_vessel_36 2019-01-04 14:30:25.240216 0 [] ['outbound_vessel_36']\n",
      "outbound_vessel_36 in lock ['outbound_vessel_36', 'outbound_vessel_37']\n",
      "waiting for others outbound_vessel_36\n",
      "outbound_vessel_37 start waiting time 2019-01-04 14:46:12.309431\n",
      "claim the lock doors outbound_vessel_37 2019-01-04 14:46:12.309431\n",
      "lock not empty outbound_vessel_37 ['outbound_vessel_36']\n",
      "lock is ready to be entered 2019-01-04 14:46:12.309431\n",
      "lock doors claimed outbound_vessel_37 2019-01-04 14:46:12.309431\n",
      "waiting done outbound_vessel_37 2019-01-04 14:46:12.309431\n",
      "outbound_vessel_37 sail to assigned lock position\n",
      "print doors outbound_vessel_37 ['outbound_vessel_37'] ['outbound_vessel_37']\n",
      "left doors1 outbound_vessel_37 2019-01-04 14:53:36.753876 0 [] ['outbound_vessel_37']\n",
      "outbound_vessel_37 in lock ['outbound_vessel_36', 'outbound_vessel_37']\n",
      "outbound_vessel_37 converting hap 2019-01-04 14:53:36.753876\n",
      "hi 2019-01-04 14:53:36.753876\n",
      "2019-01-04 14:53:36.753876 Node_50 Node_49 Lock doors closing start\n",
      "waiting for others done outbound_vessel_36\n"
     ]
    },
    {
     "name": "stderr",
     "output_type": "stream",
     "text": [
      "c:\\users\\floorbakker\\opentnsim\\opentnsim\\lock.py:711: UserWarning:\n",
      "\n",
      "Converting non-nanosecond precision datetime values to nanosecond precision. This behavior can eventually be relaxed in xarray, as it is an artifact from pandas which is now beginning to support non-nanosecond precision values. This warning is caused by passing non-nanosecond np.datetime64 or np.timedelta64 values to the DataArray or Variable constructor; it can be silenced by converting the values to nanosecond precision ahead of time.\n",
      "\n"
     ]
    },
    {
     "name": "stdout",
     "output_type": "stream",
     "text": [
      "outbound_vessel_37 hap is geconvert 2019-01-04 15:31:57.864987\n",
      "left doors2 outbound_vessel_37 2019-01-04 15:40:01.198320 0 [] []\n",
      "lock doors claimed inbound_vessel_30 2019-01-04 15:40:01.198320\n",
      "first in line to claim lock inbound_vessel_30 2019-01-04 15:40:01.198320\n",
      "waiting done inbound_vessel_30 2019-01-04 15:40:01.198320\n",
      "inbound_vessel_30 sail to assigned lock position\n",
      "hey ho inbound_vessel_31 ['inbound_vessel_30']\n",
      "yo inbound_vessel_31 2019-01-04 15:44:41.579496 ['inbound_vessel_30']\n",
      "print doors inbound_vessel_30 ['inbound_vessel_30'] ['inbound_vessel_30']\n",
      "left doors1 inbound_vessel_30 2019-01-04 15:51:07.864987 [] 1 ['inbound_vessel_30']\n",
      "inbound_vessel_30 in lock ['inbound_vessel_30', 'inbound_vessel_31']\n",
      "waiting for others inbound_vessel_30\n",
      "outbound_vessel_38 start waiting time 2019-01-04 16:06:37.488943\n",
      "outbound_vessel_38 lock position given 2019-01-04 16:06:37.488943\n",
      "outbound_vessel_38 requested place in next lockage 2019-01-04 16:06:37.488943\n",
      "claim the lock doors outbound_vessel_38 2019-01-04 16:06:37.488943\n",
      "requesting approach: else outbound_vessel_38 2019-01-04 16:06:37.488943 1 ['inbound_vessel_30'] []\n",
      "inbound_vessel_31 start waiting time 2019-01-04 16:43:22.412829\n",
      "claim the lock doors inbound_vessel_31 2019-01-04 16:43:22.412829\n",
      "lock not empty inbound_vessel_31 ['inbound_vessel_30']\n",
      "lock is ready to be entered 2019-01-04 16:43:22.412829\n",
      "lock doors claimed inbound_vessel_31 2019-01-04 16:43:22.412829\n",
      "waiting done inbound_vessel_31 2019-01-04 16:43:22.412829\n",
      "inbound_vessel_31 sail to assigned lock position\n",
      "print doors inbound_vessel_31 ['inbound_vessel_31'] ['inbound_vessel_31']\n",
      "left doors1 inbound_vessel_31 2019-01-04 16:50:46.857274 [] 1 ['inbound_vessel_31']\n",
      "inbound_vessel_31 in lock ['inbound_vessel_30', 'inbound_vessel_31']\n",
      "inbound_vessel_31 converting hap 2019-01-04 16:50:46.857274\n",
      "hi 2019-01-04 16:50:46.857274\n",
      "2019-01-04 16:50:46.857274 Node_49 Node_50 Lock doors closing start\n",
      "waiting for others done inbound_vessel_30\n"
     ]
    },
    {
     "name": "stderr",
     "output_type": "stream",
     "text": [
      "c:\\users\\floorbakker\\opentnsim\\opentnsim\\lock.py:513: UserWarning:\n",
      "\n",
      "Converting non-nanosecond precision datetime values to nanosecond precision. This behavior can eventually be relaxed in xarray, as it is an artifact from pandas which is now beginning to support non-nanosecond precision values. This warning is caused by passing non-nanosecond np.datetime64 or np.timedelta64 values to the DataArray or Variable constructor; it can be silenced by converting the values to nanosecond precision ahead of time.\n",
      "\n",
      "c:\\users\\floorbakker\\opentnsim\\opentnsim\\lock.py:711: UserWarning:\n",
      "\n",
      "Converting non-nanosecond precision datetime values to nanosecond precision. This behavior can eventually be relaxed in xarray, as it is an artifact from pandas which is now beginning to support non-nanosecond precision values. This warning is caused by passing non-nanosecond np.datetime64 or np.timedelta64 values to the DataArray or Variable constructor; it can be silenced by converting the values to nanosecond precision ahead of time.\n",
      "\n"
     ]
    },
    {
     "name": "stdout",
     "output_type": "stream",
     "text": [
      "inbound_vessel_32 start waiting time 2019-01-04 17:40:38.482201\n",
      "wait for lockage True ['inbound_vessel_30', 'inbound_vessel_31'] True\n",
      "inbound_vessel_31 hap is geconvert 2019-01-04 17:53:07.968385\n",
      "inbound_vessel_32 lock position given 2019-01-04 17:58:41.301718\n",
      "inbound_vessel_32 requested place in next lockage 2019-01-04 17:58:41.301718\n",
      "claim the lock doors inbound_vessel_32 2019-01-04 17:58:41.301718\n",
      "requesting approach: else inbound_vessel_32 2019-01-04 17:58:41.301718 0 [] ['inbound_vessel_31']\n",
      "doors requested inbound_vessel_32\n",
      "claiming lock: priority doors2 is -1 inbound_vessel_32 2019-01-04 17:58:41.301718\n",
      "inbound_vessel_32 wth\n",
      "hi 2019-01-04 17:58:41.301718\n",
      "2019-01-04 17:58:41.301718 Node_50 Node_49 Lock doors closing start\n"
     ]
    },
    {
     "name": "stderr",
     "output_type": "stream",
     "text": [
      "c:\\users\\floorbakker\\opentnsim\\opentnsim\\lock.py:711: UserWarning:\n",
      "\n",
      "Converting non-nanosecond precision datetime values to nanosecond precision. This behavior can eventually be relaxed in xarray, as it is an artifact from pandas which is now beginning to support non-nanosecond precision values. This warning is caused by passing non-nanosecond np.datetime64 or np.timedelta64 values to the DataArray or Variable constructor; it can be silenced by converting the values to nanosecond precision ahead of time.\n",
      "\n"
     ]
    },
    {
     "name": "stdout",
     "output_type": "stream",
     "text": [
      "inbound_vessel_33 start waiting time 2019-01-04 18:13:43.734807\n",
      "inbound_vessel_33 lock position given 2019-01-04 18:13:43.734807\n",
      "inbound_vessel_33 requested place in next lockage 2019-01-04 18:13:43.734807\n",
      "claim the lock doors inbound_vessel_33 2019-01-04 18:13:43.734807\n",
      "lock is empty and not converting inbound_vessel_33 2019-01-04 18:13:43.734807 0 []\n",
      "hey ho outbound_vessel_39 ['outbound_vessel_38']\n",
      "yo outbound_vessel_39 2019-01-04 18:42:36.012416 ['outbound_vessel_38']\n",
      "waiting done inbound_vessel_32 2019-01-04 18:56:41.301718\n",
      "inbound_vessel_32 sail to assigned lock position\n",
      "print doors inbound_vessel_32 ['inbound_vessel_32'] ['inbound_vessel_32']\n",
      "left doors1 inbound_vessel_32 2019-01-04 19:07:47.968385 ['inbound_vessel_33'] 1 ['inbound_vessel_32']\n",
      "inbound_vessel_32 in lock ['inbound_vessel_32', 'inbound_vessel_33']\n",
      "waiting for others inbound_vessel_32\n",
      "lock doors claimed inbound_vessel_33 2019-01-04 19:07:47.968385\n",
      "waiting done inbound_vessel_33 2019-01-04 19:07:47.968385\n",
      "inbound_vessel_33 sail to assigned lock position\n",
      "print doors inbound_vessel_33 ['inbound_vessel_33'] ['inbound_vessel_32']\n",
      "left doors1 inbound_vessel_33 2019-01-04 19:18:54.635052 [] 1 ['inbound_vessel_32']\n",
      "inbound_vessel_33 in lock ['inbound_vessel_32', 'inbound_vessel_33']\n",
      "inbound_vessel_33 converting hap 2019-01-04 19:18:54.635052\n",
      "hi 2019-01-04 19:18:54.635052\n",
      "2019-01-04 19:18:54.635052 Node_49 Node_50 Lock doors closing start\n",
      "waiting for others done inbound_vessel_32\n"
     ]
    },
    {
     "name": "stderr",
     "output_type": "stream",
     "text": [
      "c:\\users\\floorbakker\\opentnsim\\opentnsim\\lock.py:711: UserWarning:\n",
      "\n",
      "Converting non-nanosecond precision datetime values to nanosecond precision. This behavior can eventually be relaxed in xarray, as it is an artifact from pandas which is now beginning to support non-nanosecond precision values. This warning is caused by passing non-nanosecond np.datetime64 or np.timedelta64 values to the DataArray or Variable constructor; it can be silenced by converting the values to nanosecond precision ahead of time.\n",
      "\n"
     ]
    },
    {
     "name": "stdout",
     "output_type": "stream",
     "text": [
      "outbound_vessel_39 start waiting time 2019-01-04 19:40:10.179083\n",
      "claim the lock doors outbound_vessel_39 2019-01-04 19:40:10.179083\n",
      "lock not empty outbound_vessel_39 ['inbound_vessel_32', 'inbound_vessel_33']\n",
      "lock is already converting outbound_vessel_39 2019-01-04 19:40:10.179083 ['inbound_vessel_32', 'inbound_vessel_33']\n",
      "inbound_vessel_34 start waiting time 2019-01-04 20:02:21.163301\n",
      "wait for lockage True ['inbound_vessel_32', 'inbound_vessel_33'] True\n",
      "left doors2 inbound_vessel_32 2019-01-04 20:10:15.746163 1 [] []\n",
      "inbound_vessel_33 hap is geconvert 2019-01-04 20:10:15.746163\n",
      "inbound_vessel_34 lock position given 2019-01-04 20:15:49.079496\n",
      "inbound_vessel_34 requested place in next lockage 2019-01-04 20:15:49.079496\n",
      "claim the lock doors inbound_vessel_34 2019-01-04 20:15:49.079496\n",
      "requesting approach: else inbound_vessel_34 2019-01-04 20:15:49.079496 0 [] ['inbound_vessel_33']\n",
      "doors requested inbound_vessel_34\n",
      "claiming lock: priority doors2 is -1 inbound_vessel_34 2019-01-04 20:15:49.079496\n",
      "inbound_vessel_34 wth\n",
      "hi 2019-01-04 20:15:49.079496\n",
      "2019-01-04 20:15:49.079496 Node_50 Node_49 Lock doors closing start\n"
     ]
    },
    {
     "name": "stderr",
     "output_type": "stream",
     "text": [
      "c:\\users\\floorbakker\\opentnsim\\opentnsim\\lock.py:711: UserWarning:\n",
      "\n",
      "Converting non-nanosecond precision datetime values to nanosecond precision. This behavior can eventually be relaxed in xarray, as it is an artifact from pandas which is now beginning to support non-nanosecond precision values. This warning is caused by passing non-nanosecond np.datetime64 or np.timedelta64 values to the DataArray or Variable constructor; it can be silenced by converting the values to nanosecond precision ahead of time.\n",
      "\n"
     ]
    },
    {
     "name": "stdout",
     "output_type": "stream",
     "text": [
      "waiting done inbound_vessel_34 2019-01-04 20:42:49.079496\n",
      "inbound_vessel_34 sail to assigned lock position\n",
      "print doors inbound_vessel_34 ['inbound_vessel_34'] ['inbound_vessel_34']\n",
      "left doors1 inbound_vessel_34 2019-01-04 20:53:55.746163 [] 1 ['inbound_vessel_34']\n",
      "inbound_vessel_34 in lock ['inbound_vessel_34']\n",
      "inbound_vessel_34 converting hap 2019-01-04 20:53:55.746163\n",
      "hi 2019-01-04 20:53:55.746163\n",
      "2019-01-04 20:53:55.746163 Node_49 Node_50 Lock doors closing start\n"
     ]
    },
    {
     "name": "stderr",
     "output_type": "stream",
     "text": [
      "c:\\users\\floorbakker\\opentnsim\\opentnsim\\lock.py:711: UserWarning:\n",
      "\n",
      "Converting non-nanosecond precision datetime values to nanosecond precision. This behavior can eventually be relaxed in xarray, as it is an artifact from pandas which is now beginning to support non-nanosecond precision values. This warning is caused by passing non-nanosecond np.datetime64 or np.timedelta64 values to the DataArray or Variable constructor; it can be silenced by converting the values to nanosecond precision ahead of time.\n",
      "\n"
     ]
    },
    {
     "name": "stdout",
     "output_type": "stream",
     "text": [
      "inbound_vessel_34 hap is geconvert 2019-01-04 21:20:55.746163\n",
      "left doors2 inbound_vessel_34 2019-01-04 21:25:16.857274 1 [] []\n",
      "doors requested outbound_vessel_38\n",
      "claiming lock: priority doors2 not -1 outbound_vessel_38 2019-01-04 21:25:16.857274\n",
      "waiting done outbound_vessel_38 2019-01-04 21:25:16.857274\n",
      "outbound_vessel_38 sail to assigned lock position\n",
      "print doors outbound_vessel_38 ['outbound_vessel_38'] ['outbound_vessel_38']\n",
      "left doors1 outbound_vessel_38 2019-01-04 21:36:23.523941 0 ['outbound_vessel_39'] ['outbound_vessel_38']\n",
      "outbound_vessel_38 in lock ['outbound_vessel_38', 'outbound_vessel_39']\n",
      "waiting for others outbound_vessel_38\n",
      "lock doors claimed outbound_vessel_39 2019-01-04 21:36:23.523941\n",
      "second in line to claim lock outbound_vessel_39 2019-01-04 21:36:23.523941\n",
      "waiting done outbound_vessel_39 2019-01-04 21:36:23.523941\n",
      "outbound_vessel_39 sail to assigned lock position\n",
      "outbound_vessel_40 start waiting time 2019-01-04 21:46:34.635052\n",
      "wait for lockage True ['outbound_vessel_38', 'outbound_vessel_39'] False\n",
      "print doors outbound_vessel_39 ['outbound_vessel_39'] ['outbound_vessel_39']\n",
      "left doors1 outbound_vessel_39 2019-01-04 21:47:30.190608 0 [] ['outbound_vessel_39']\n",
      "outbound_vessel_39 in lock ['outbound_vessel_38', 'outbound_vessel_39']\n",
      "outbound_vessel_39 converting hap 2019-01-04 21:47:30.190608\n",
      "hi 2019-01-04 21:47:30.190608\n",
      "2019-01-04 21:47:30.190608 Node_50 Node_49 Lock doors closing start\n",
      "waiting for others done outbound_vessel_38\n",
      "outbound_vessel_41 start waiting time 2019-01-04 21:50:16.815415\n",
      "wait for lockage True ['outbound_vessel_38', 'outbound_vessel_39'] True\n"
     ]
    },
    {
     "name": "stderr",
     "output_type": "stream",
     "text": [
      "c:\\users\\floorbakker\\opentnsim\\opentnsim\\lock.py:711: UserWarning:\n",
      "\n",
      "Converting non-nanosecond precision datetime values to nanosecond precision. This behavior can eventually be relaxed in xarray, as it is an artifact from pandas which is now beginning to support non-nanosecond precision values. This warning is caused by passing non-nanosecond np.datetime64 or np.timedelta64 values to the DataArray or Variable constructor; it can be silenced by converting the values to nanosecond precision ahead of time.\n",
      "\n"
     ]
    },
    {
     "name": "stdout",
     "output_type": "stream",
     "text": [
      "outbound_vessel_39 hap is geconvert 2019-01-04 22:38:51.301719\n",
      "outbound_vessel_40 lock position given 2019-01-04 22:44:24.635052\n",
      "outbound_vessel_40 requested place in next lockage 2019-01-04 22:44:24.635052\n",
      "claim the lock doors outbound_vessel_40 2019-01-04 22:44:24.635052\n",
      "else: claiming lock: priority doors2 = -1 outbound_vessel_40 2019-01-04 22:44:24.635052 -1\n",
      "outbound_vessel_41 lock position given 2019-01-04 22:44:24.635052\n",
      "outbound_vessel_41 requested place in next lockage 2019-01-04 22:44:24.635052\n",
      "claim the lock doors outbound_vessel_41 2019-01-04 22:44:24.635052\n",
      "else: claiming lock: priority doors2 = -1 outbound_vessel_41 2019-01-04 22:44:24.635052 -1\n",
      "lock doors claimed outbound_vessel_40 2019-01-04 22:44:24.635052\n",
      "outbound_vessel_40 wth\n",
      "hi 2019-01-04 22:44:24.635052\n",
      "2019-01-04 22:44:24.635052 Node_49 Node_50 Lock doors closing start\n"
     ]
    },
    {
     "name": "stderr",
     "output_type": "stream",
     "text": [
      "c:\\users\\floorbakker\\opentnsim\\opentnsim\\lock.py:711: UserWarning:\n",
      "\n",
      "Converting non-nanosecond precision datetime values to nanosecond precision. This behavior can eventually be relaxed in xarray, as it is an artifact from pandas which is now beginning to support non-nanosecond precision values. This warning is caused by passing non-nanosecond np.datetime64 or np.timedelta64 values to the DataArray or Variable constructor; it can be silenced by converting the values to nanosecond precision ahead of time.\n",
      "\n"
     ]
    },
    {
     "name": "stdout",
     "output_type": "stream",
     "text": [
      "hey ho inbound_vessel_35 []\n",
      "hi inbound_vessel_35 2019-01-04 23:02:02.720339 0\n",
      "waiting done outbound_vessel_40 2019-01-04 23:40:24.635052\n",
      "outbound_vessel_40 sail to assigned lock position\n",
      "print doors outbound_vessel_40 ['outbound_vessel_40'] ['outbound_vessel_40']\n",
      "left doors1 outbound_vessel_40 2019-01-04 23:45:57.968385 0 ['outbound_vessel_41'] ['outbound_vessel_40']\n",
      "outbound_vessel_40 in lock ['outbound_vessel_40', 'outbound_vessel_41']\n",
      "waiting for others outbound_vessel_40\n",
      "lock doors claimed outbound_vessel_41 2019-01-04 23:45:57.968385\n",
      "waiting done outbound_vessel_41 2019-01-04 23:45:57.968385\n",
      "outbound_vessel_41 sail to assigned lock position\n",
      "print doors outbound_vessel_41 ['outbound_vessel_41'] ['outbound_vessel_41']\n",
      "left doors1 outbound_vessel_41 2019-01-04 23:57:04.635052 0 [] ['outbound_vessel_41']\n",
      "outbound_vessel_41 in lock ['outbound_vessel_40', 'outbound_vessel_41']\n",
      "outbound_vessel_41 converting hap 2019-01-04 23:57:04.635052\n",
      "hi 2019-01-04 23:57:04.635052\n",
      "2019-01-04 23:57:04.635052 Node_50 Node_49 Lock doors closing start\n",
      "waiting for others done outbound_vessel_40\n",
      "inbound_vessel_35 start waiting time 2019-01-05 00:00:43.553672\n",
      "claim the lock doors inbound_vessel_35 2019-01-05 00:00:43.553672\n",
      "requesting approach: else inbound_vessel_35 2019-01-05 00:00:43.553672 2 ['outbound_vessel_41'] []\n"
     ]
    },
    {
     "name": "stderr",
     "output_type": "stream",
     "text": [
      "c:\\users\\floorbakker\\opentnsim\\opentnsim\\lock.py:711: UserWarning:\n",
      "\n",
      "Converting non-nanosecond precision datetime values to nanosecond precision. This behavior can eventually be relaxed in xarray, as it is an artifact from pandas which is now beginning to support non-nanosecond precision values. This warning is caused by passing non-nanosecond np.datetime64 or np.timedelta64 values to the DataArray or Variable constructor; it can be silenced by converting the values to nanosecond precision ahead of time.\n",
      "\n"
     ]
    },
    {
     "name": "stdout",
     "output_type": "stream",
     "text": [
      "hey ho inbound_vessel_36 ['inbound_vessel_35']\n",
      "yo inbound_vessel_36 2019-01-05 01:03:57.065591 ['inbound_vessel_35']\n",
      "outbound_vessel_41 hap is geconvert 2019-01-05 01:05:59.079497\n",
      "left doors2 outbound_vessel_41 2019-01-05 01:14:02.412830 0 [] []\n",
      "doors requested inbound_vessel_35\n",
      "claiming lock: priority doors2 not -1 inbound_vessel_35 2019-01-05 01:14:02.412830\n",
      "waiting done inbound_vessel_35 2019-01-05 01:14:02.412830\n",
      "inbound_vessel_35 sail to assigned lock position\n",
      "print doors inbound_vessel_35 ['inbound_vessel_35'] ['inbound_vessel_35']\n",
      "left doors1 inbound_vessel_35 2019-01-05 01:25:09.079497 [] 1 ['inbound_vessel_35']\n",
      "inbound_vessel_35 in lock ['inbound_vessel_35', 'inbound_vessel_36']\n",
      "waiting for others inbound_vessel_35\n",
      "outbound_vessel_42 start waiting time 2019-01-05 01:49:21.078468\n",
      "outbound_vessel_42 lock position given 2019-01-05 01:49:21.078468\n",
      "outbound_vessel_42 requested place in next lockage 2019-01-05 01:49:21.078468\n",
      "claim the lock doors outbound_vessel_42 2019-01-05 01:49:21.078468\n",
      "requesting approach: else outbound_vessel_42 2019-01-05 01:49:21.078468 1 ['inbound_vessel_35'] []\n",
      "inbound_vessel_36 start waiting time 2019-01-05 02:02:37.898924\n",
      "claim the lock doors inbound_vessel_36 2019-01-05 02:02:37.898924\n",
      "lock not empty inbound_vessel_36 ['inbound_vessel_35']\n",
      "lock is ready to be entered 2019-01-05 02:02:37.898924\n",
      "lock doors claimed inbound_vessel_36 2019-01-05 02:02:37.898924\n",
      "waiting done inbound_vessel_36 2019-01-05 02:02:37.898924\n",
      "outbound_vessel_43 start waiting time 2019-01-05 02:04:02.431154\n",
      "outbound_vessel_43 lock position given 2019-01-05 02:04:02.431154\n",
      "outbound_vessel_43 requested place in next lockage 2019-01-05 02:04:02.431154\n",
      "claim the lock doors outbound_vessel_43 2019-01-05 02:04:02.431154\n",
      "wait in lock first 2019-01-05 02:04:02.431154\n",
      "inbound_vessel_36 sail to assigned lock position\n",
      "print doors inbound_vessel_36 ['inbound_vessel_36'] ['inbound_vessel_36']\n",
      "left doors1 inbound_vessel_36 2019-01-05 02:10:02.343369 ['outbound_vessel_43'] 1 ['inbound_vessel_36']\n",
      "inbound_vessel_36 in lock ['inbound_vessel_35', 'inbound_vessel_36']\n",
      "requesting approach: else outbound_vessel_43 2019-01-05 02:10:02.343369 2 ['inbound_vessel_36'] []\n",
      "inbound_vessel_36 converting hap 2019-01-05 02:10:02.343369\n",
      "hi 2019-01-05 02:10:02.343369\n",
      "2019-01-05 02:10:02.343369 Node_49 Node_50 Lock doors closing start\n",
      "waiting for others done inbound_vessel_35\n"
     ]
    },
    {
     "name": "stderr",
     "output_type": "stream",
     "text": [
      "c:\\users\\floorbakker\\opentnsim\\opentnsim\\lock.py:711: UserWarning:\n",
      "\n",
      "Converting non-nanosecond precision datetime values to nanosecond precision. This behavior can eventually be relaxed in xarray, as it is an artifact from pandas which is now beginning to support non-nanosecond precision values. This warning is caused by passing non-nanosecond np.datetime64 or np.timedelta64 values to the DataArray or Variable constructor; it can be silenced by converting the values to nanosecond precision ahead of time.\n",
      "\n"
     ]
    },
    {
     "name": "stdout",
     "output_type": "stream",
     "text": [
      "inbound_vessel_36 hap is geconvert 2019-01-05 02:52:23.454480\n",
      "left doors2 inbound_vessel_36 2019-01-05 03:00:26.787813 1 [] []\n",
      "doors requested outbound_vessel_42\n",
      "claiming lock: priority doors2 not -1 outbound_vessel_42 2019-01-05 03:00:26.787813\n",
      "waiting done outbound_vessel_42 2019-01-05 03:00:26.787813\n",
      "hey ho inbound_vessel_37 []\n",
      "hi inbound_vessel_37 2019-01-05 03:01:22.795239 0\n",
      "outbound_vessel_42 sail to assigned lock position\n",
      "print doors outbound_vessel_42 ['outbound_vessel_42'] ['outbound_vessel_42']\n",
      "left doors1 outbound_vessel_42 2019-01-05 03:11:33.454480 0 ['outbound_vessel_43'] ['outbound_vessel_42']\n",
      "outbound_vessel_42 in lock ['outbound_vessel_42', 'outbound_vessel_43']\n",
      "waiting for others outbound_vessel_42\n",
      "doors requested outbound_vessel_43\n",
      "claiming lock: priority doors2 is -1 outbound_vessel_43 2019-01-05 03:11:33.454480\n",
      "waiting done outbound_vessel_43 2019-01-05 03:11:33.454480\n",
      "outbound_vessel_43 sail to assigned lock position\n",
      "outbound_vessel_44 start waiting time 2019-01-05 03:21:44.565591\n",
      "wait for lockage True ['outbound_vessel_42', 'outbound_vessel_43'] False\n",
      "print doors outbound_vessel_43 ['outbound_vessel_43'] ['outbound_vessel_43']\n",
      "left doors1 outbound_vessel_43 2019-01-05 03:22:40.121147 0 [] ['outbound_vessel_43']\n",
      "outbound_vessel_43 in lock ['outbound_vessel_42', 'outbound_vessel_43']\n",
      "outbound_vessel_43 converting hap 2019-01-05 03:22:40.121147\n",
      "hi 2019-01-05 03:22:40.121147\n",
      "2019-01-05 03:22:40.121147 Node_50 Node_49 Lock doors closing start\n",
      "waiting for others done outbound_vessel_42\n",
      "outbound_vessel_45 start waiting time 2019-01-05 03:28:13.454480\n",
      "wait for lockage True ['outbound_vessel_42', 'outbound_vessel_43'] True\n"
     ]
    },
    {
     "name": "stderr",
     "output_type": "stream",
     "text": [
      "c:\\users\\floorbakker\\opentnsim\\opentnsim\\lock.py:711: UserWarning:\n",
      "\n",
      "Converting non-nanosecond precision datetime values to nanosecond precision. This behavior can eventually be relaxed in xarray, as it is an artifact from pandas which is now beginning to support non-nanosecond precision values. This warning is caused by passing non-nanosecond np.datetime64 or np.timedelta64 values to the DataArray or Variable constructor; it can be silenced by converting the values to nanosecond precision ahead of time.\n",
      "\n"
     ]
    },
    {
     "name": "stdout",
     "output_type": "stream",
     "text": [
      "inbound_vessel_37 start waiting time 2019-01-05 04:00:03.628572\n",
      "claim the lock doors inbound_vessel_37 2019-01-05 04:00:03.628572\n",
      "lock not empty inbound_vessel_37 ['outbound_vessel_43']\n",
      "lock is already converting inbound_vessel_37 2019-01-05 04:00:03.628572 ['outbound_vessel_43']\n",
      "outbound_vessel_43 hap is geconvert 2019-01-05 04:01:01.232258\n",
      "outbound_vessel_44 lock position given 2019-01-05 04:06:34.565591\n",
      "outbound_vessel_44 requested place in next lockage 2019-01-05 04:06:34.565591\n",
      "claim the lock doors outbound_vessel_44 2019-01-05 04:06:34.565591\n",
      "requesting approach: else outbound_vessel_44 2019-01-05 04:06:34.565591 0 [] ['outbound_vessel_43']\n",
      "outbound_vessel_45 lock position given 2019-01-05 04:06:34.565591\n",
      "outbound_vessel_45 requested place in next lockage 2019-01-05 04:06:34.565591\n",
      "claim the lock doors outbound_vessel_45 2019-01-05 04:06:34.565591\n",
      "requesting approach: else outbound_vessel_45 2019-01-05 04:06:34.565591 0 ['outbound_vessel_44'] ['outbound_vessel_43']\n",
      "doors requested outbound_vessel_44\n",
      "claiming lock: priority doors2 is -1 outbound_vessel_44 2019-01-05 04:06:34.565591\n",
      "outbound_vessel_44 wth\n",
      "hi 2019-01-05 04:06:34.565591\n",
      "2019-01-05 04:06:34.565591 Node_49 Node_50 Lock doors closing start\n"
     ]
    },
    {
     "name": "stderr",
     "output_type": "stream",
     "text": [
      "c:\\users\\floorbakker\\opentnsim\\opentnsim\\lock.py:711: UserWarning:\n",
      "\n",
      "Converting non-nanosecond precision datetime values to nanosecond precision. This behavior can eventually be relaxed in xarray, as it is an artifact from pandas which is now beginning to support non-nanosecond precision values. This warning is caused by passing non-nanosecond np.datetime64 or np.timedelta64 values to the DataArray or Variable constructor; it can be silenced by converting the values to nanosecond precision ahead of time.\n",
      "\n"
     ]
    },
    {
     "name": "stdout",
     "output_type": "stream",
     "text": [
      "waiting done outbound_vessel_44 2019-01-05 04:54:34.565591\n",
      "outbound_vessel_44 sail to assigned lock position\n",
      "print doors outbound_vessel_44 ['outbound_vessel_44'] ['outbound_vessel_44']\n",
      "left doors1 outbound_vessel_44 2019-01-05 05:00:07.898925 0 ['outbound_vessel_45'] ['outbound_vessel_44']\n",
      "outbound_vessel_44 in lock ['outbound_vessel_44', 'outbound_vessel_45']\n",
      "waiting for others outbound_vessel_44\n",
      "doors requested outbound_vessel_45\n",
      "claiming lock: priority doors2 is -1 outbound_vessel_45 2019-01-05 05:00:07.898925\n",
      "waiting done outbound_vessel_45 2019-01-05 05:00:07.898925\n",
      "outbound_vessel_45 sail to assigned lock position\n",
      "outbound_vessel_46 start waiting time 2019-01-05 05:10:19.010036\n",
      "wait for lockage True ['outbound_vessel_44', 'outbound_vessel_45'] False\n",
      "print doors outbound_vessel_45 ['outbound_vessel_45'] ['outbound_vessel_45']\n",
      "left doors1 outbound_vessel_45 2019-01-05 05:11:14.565592 0 [] ['outbound_vessel_45']\n",
      "outbound_vessel_45 in lock ['outbound_vessel_44', 'outbound_vessel_45']\n",
      "outbound_vessel_45 converting hap 2019-01-05 05:11:14.565592\n",
      "hi 2019-01-05 05:11:14.565592\n",
      "2019-01-05 05:11:14.565592 Node_50 Node_49 Lock doors closing start\n",
      "waiting for others done outbound_vessel_44\n",
      "hey ho inbound_vessel_38 ['inbound_vessel_37']\n",
      "yo inbound_vessel_38 2019-01-05 05:13:41.043582 ['inbound_vessel_37']\n"
     ]
    },
    {
     "name": "stderr",
     "output_type": "stream",
     "text": [
      "c:\\users\\floorbakker\\opentnsim\\opentnsim\\lock.py:711: UserWarning:\n",
      "\n",
      "Converting non-nanosecond precision datetime values to nanosecond precision. This behavior can eventually be relaxed in xarray, as it is an artifact from pandas which is now beginning to support non-nanosecond precision values. This warning is caused by passing non-nanosecond np.datetime64 or np.timedelta64 values to the DataArray or Variable constructor; it can be silenced by converting the values to nanosecond precision ahead of time.\n",
      "\n"
     ]
    },
    {
     "name": "stdout",
     "output_type": "stream",
     "text": [
      "outbound_vessel_47 start waiting time 2019-01-05 05:34:20.815315\n",
      "wait for lockage True ['outbound_vessel_44', 'outbound_vessel_45'] True\n",
      "inbound_vessel_38 start waiting time 2019-01-05 06:11:15.210249\n",
      "claim the lock doors inbound_vessel_38 2019-01-05 06:11:15.210249\n",
      "lock not empty inbound_vessel_38 ['outbound_vessel_44', 'outbound_vessel_45']\n",
      "lock is already converting inbound_vessel_38 2019-01-05 06:11:15.210249 ['outbound_vessel_44', 'outbound_vessel_45']\n",
      "outbound_vessel_45 hap is geconvert 2019-01-05 06:18:09.010036\n",
      "outbound_vessel_46 lock position given 2019-01-05 06:23:42.343369\n",
      "outbound_vessel_46 requested place in next lockage 2019-01-05 06:23:42.343369\n",
      "claim the lock doors outbound_vessel_46 2019-01-05 06:23:42.343369\n",
      "requesting approach: else outbound_vessel_46 2019-01-05 06:23:42.343369 0 [] ['outbound_vessel_45']\n",
      "outbound_vessel_47 lock position given 2019-01-05 06:23:42.343369\n",
      "outbound_vessel_47 requested place in next lockage 2019-01-05 06:23:42.343369\n",
      "claim the lock doors outbound_vessel_47 2019-01-05 06:23:42.343369\n",
      "requesting approach: else outbound_vessel_47 2019-01-05 06:23:42.343369 0 ['outbound_vessel_46'] ['outbound_vessel_45']\n",
      "doors requested outbound_vessel_46\n",
      "claiming lock: priority doors2 is -1 outbound_vessel_46 2019-01-05 06:23:42.343369\n",
      "outbound_vessel_46 wth\n",
      "hi 2019-01-05 06:23:42.343369\n",
      "2019-01-05 06:23:42.343369 Node_49 Node_50 Lock doors closing start\n"
     ]
    },
    {
     "name": "stderr",
     "output_type": "stream",
     "text": [
      "c:\\users\\floorbakker\\opentnsim\\opentnsim\\lock.py:711: UserWarning:\n",
      "\n",
      "Converting non-nanosecond precision datetime values to nanosecond precision. This behavior can eventually be relaxed in xarray, as it is an artifact from pandas which is now beginning to support non-nanosecond precision values. This warning is caused by passing non-nanosecond np.datetime64 or np.timedelta64 values to the DataArray or Variable constructor; it can be silenced by converting the values to nanosecond precision ahead of time.\n",
      "\n"
     ]
    },
    {
     "name": "stdout",
     "output_type": "stream",
     "text": [
      "waiting done outbound_vessel_46 2019-01-05 07:22:42.343369\n",
      "outbound_vessel_46 sail to assigned lock position\n",
      "print doors outbound_vessel_46 ['outbound_vessel_46'] ['outbound_vessel_46']\n",
      "left doors1 outbound_vessel_46 2019-01-05 07:28:15.676703 0 ['outbound_vessel_47'] ['outbound_vessel_46']\n",
      "outbound_vessel_46 in lock ['outbound_vessel_46', 'outbound_vessel_47']\n",
      "waiting for others outbound_vessel_46\n",
      "doors requested outbound_vessel_47\n",
      "claiming lock: priority doors2 is -1 outbound_vessel_47 2019-01-05 07:28:15.676703\n",
      "waiting done outbound_vessel_47 2019-01-05 07:28:15.676703\n",
      "outbound_vessel_47 sail to assigned lock position\n",
      "print doors outbound_vessel_47 ['outbound_vessel_47'] ['outbound_vessel_47']\n",
      "left doors1 outbound_vessel_47 2019-01-05 07:39:22.343369 0 [] ['outbound_vessel_47']\n",
      "outbound_vessel_47 in lock ['outbound_vessel_46', 'outbound_vessel_47']\n",
      "outbound_vessel_47 converting hap 2019-01-05 07:39:22.343369\n",
      "hi 2019-01-05 07:39:22.343369\n",
      "2019-01-05 07:39:22.343369 Node_50 Node_49 Lock doors closing start\n",
      "waiting for others done outbound_vessel_46\n"
     ]
    },
    {
     "name": "stderr",
     "output_type": "stream",
     "text": [
      "c:\\users\\floorbakker\\opentnsim\\opentnsim\\lock.py:711: UserWarning:\n",
      "\n",
      "Converting non-nanosecond precision datetime values to nanosecond precision. This behavior can eventually be relaxed in xarray, as it is an artifact from pandas which is now beginning to support non-nanosecond precision values. This warning is caused by passing non-nanosecond np.datetime64 or np.timedelta64 values to the DataArray or Variable constructor; it can be silenced by converting the values to nanosecond precision ahead of time.\n",
      "\n"
     ]
    },
    {
     "name": "stdout",
     "output_type": "stream",
     "text": [
      "outbound_vessel_47 hap is geconvert 2019-01-05 08:38:16.787814\n",
      "left doors2 outbound_vessel_47 2019-01-05 08:46:20.121147 0 [] []\n",
      "lock doors claimed inbound_vessel_37 2019-01-05 08:46:20.121147\n",
      "first in line to claim lock inbound_vessel_37 2019-01-05 08:46:20.121147\n",
      "waiting done inbound_vessel_37 2019-01-05 08:46:20.121147\n",
      "inbound_vessel_37 sail to assigned lock position\n",
      "print doors inbound_vessel_37 ['inbound_vessel_37'] ['inbound_vessel_37']\n",
      "left doors1 inbound_vessel_37 2019-01-05 08:57:26.787814 ['inbound_vessel_38'] 1 ['inbound_vessel_37']\n",
      "inbound_vessel_37 in lock ['inbound_vessel_37', 'inbound_vessel_38']\n",
      "waiting for others inbound_vessel_37\n",
      "lock doors claimed inbound_vessel_38 2019-01-05 08:57:26.787814\n",
      "second in line to claim lock inbound_vessel_38 2019-01-05 08:57:26.787814\n",
      "waiting done inbound_vessel_38 2019-01-05 08:57:26.787814\n",
      "inbound_vessel_38 sail to assigned lock position\n",
      "inbound_vessel_39 start waiting time 2019-01-05 09:07:37.898925\n",
      "wait for lockage True ['inbound_vessel_37', 'inbound_vessel_38'] False\n",
      "print doors inbound_vessel_38 ['inbound_vessel_38'] ['inbound_vessel_38']\n",
      "left doors1 inbound_vessel_38 2019-01-05 09:08:33.454481 [] 1 ['inbound_vessel_38']\n",
      "inbound_vessel_38 in lock ['inbound_vessel_37', 'inbound_vessel_38']\n",
      "inbound_vessel_38 converting hap 2019-01-05 09:08:33.454481\n",
      "hi 2019-01-05 09:08:33.454481\n",
      "2019-01-05 09:08:33.454481 Node_49 Node_50 Lock doors closing start\n",
      "waiting for others done inbound_vessel_37\n",
      "outbound_vessel_48 start waiting time 2019-01-05 09:16:17.680612\n",
      "outbound_vessel_48 lock position given 2019-01-05 09:16:17.680612\n",
      "outbound_vessel_48 requested place in next lockage 2019-01-05 09:16:17.680612\n",
      "claim the lock doors outbound_vessel_48 2019-01-05 09:16:17.680612\n",
      "requesting approach: else outbound_vessel_48 2019-01-05 09:16:17.680612 2 ['inbound_vessel_38'] []\n"
     ]
    },
    {
     "name": "stderr",
     "output_type": "stream",
     "text": [
      "c:\\users\\floorbakker\\opentnsim\\opentnsim\\lock.py:711: UserWarning:\n",
      "\n",
      "Converting non-nanosecond precision datetime values to nanosecond precision. This behavior can eventually be relaxed in xarray, as it is an artifact from pandas which is now beginning to support non-nanosecond precision values. This warning is caused by passing non-nanosecond np.datetime64 or np.timedelta64 values to the DataArray or Variable constructor; it can be silenced by converting the values to nanosecond precision ahead of time.\n",
      "\n"
     ]
    },
    {
     "name": "stdout",
     "output_type": "stream",
     "text": [
      "inbound_vessel_38 hap is geconvert 2019-01-05 09:33:54.565592\n",
      "inbound_vessel_39 lock position given 2019-01-05 09:39:27.898925\n",
      "inbound_vessel_39 requested place in next lockage 2019-01-05 09:39:27.898925\n",
      "claim the lock doors inbound_vessel_39 2019-01-05 09:39:27.898925\n",
      "requesting approach: else inbound_vessel_39 2019-01-05 09:39:27.898925 0 [] ['inbound_vessel_38']\n",
      "doors requested inbound_vessel_39\n",
      "claiming lock: priority doors2 is -1 inbound_vessel_39 2019-01-05 09:39:27.898925\n",
      "inbound_vessel_39 wth\n",
      "hi 2019-01-05 09:39:27.898925\n",
      "2019-01-05 09:39:27.898925 Node_50 Node_49 Lock doors closing start\n"
     ]
    },
    {
     "name": "stderr",
     "output_type": "stream",
     "text": [
      "c:\\users\\floorbakker\\opentnsim\\opentnsim\\lock.py:711: UserWarning:\n",
      "\n",
      "Converting non-nanosecond precision datetime values to nanosecond precision. This behavior can eventually be relaxed in xarray, as it is an artifact from pandas which is now beginning to support non-nanosecond precision values. This warning is caused by passing non-nanosecond np.datetime64 or np.timedelta64 values to the DataArray or Variable constructor; it can be silenced by converting the values to nanosecond precision ahead of time.\n",
      "\n"
     ]
    },
    {
     "name": "stdout",
     "output_type": "stream",
     "text": [
      "inbound_vessel_40 start waiting time 2019-01-05 09:56:40.807370\n",
      "inbound_vessel_40 lock position given 2019-01-05 09:56:40.807370\n",
      "inbound_vessel_40 requested place in next lockage 2019-01-05 09:56:40.807370\n",
      "claim the lock doors inbound_vessel_40 2019-01-05 09:56:40.807370\n",
      "lock is empty and not converting inbound_vessel_40 2019-01-05 09:56:40.807370 0 []\n",
      "waiting done inbound_vessel_39 2019-01-05 10:15:27.898925\n",
      "inbound_vessel_39 sail to assigned lock position\n",
      "print doors inbound_vessel_39 ['inbound_vessel_39'] ['inbound_vessel_39']\n",
      "left doors1 inbound_vessel_39 2019-01-05 10:26:34.565592 ['inbound_vessel_40'] 1 ['inbound_vessel_39']\n",
      "inbound_vessel_39 in lock ['inbound_vessel_39', 'inbound_vessel_40']\n",
      "waiting for others inbound_vessel_39\n",
      "lock doors claimed inbound_vessel_40 2019-01-05 10:26:34.565592\n",
      "waiting done inbound_vessel_40 2019-01-05 10:26:34.565592\n",
      "inbound_vessel_40 sail to assigned lock position\n",
      "print doors inbound_vessel_40 ['inbound_vessel_40'] ['inbound_vessel_39']\n",
      "left doors1 inbound_vessel_40 2019-01-05 10:37:41.232259 [] 1 ['inbound_vessel_39']\n",
      "inbound_vessel_40 in lock ['inbound_vessel_39', 'inbound_vessel_40']\n",
      "inbound_vessel_40 converting hap 2019-01-05 10:37:41.232259\n",
      "hi 2019-01-05 10:37:41.232259\n",
      "2019-01-05 10:37:41.232259 Node_49 Node_50 Lock doors closing start\n",
      "waiting for others done inbound_vessel_39\n",
      "hey ho outbound_vessel_49 ['outbound_vessel_48']\n",
      "yo outbound_vessel_49 2019-01-05 10:37:59.244587 ['outbound_vessel_48']\n",
      "inbound_vessel_41 start waiting time 2019-01-05 10:46:33.580711\n",
      "wait for lockage True ['inbound_vessel_39', 'inbound_vessel_40'] True\n"
     ]
    },
    {
     "name": "stderr",
     "output_type": "stream",
     "text": [
      "c:\\users\\floorbakker\\opentnsim\\opentnsim\\lock.py:711: UserWarning:\n",
      "\n",
      "Converting non-nanosecond precision datetime values to nanosecond precision. This behavior can eventually be relaxed in xarray, as it is an artifact from pandas which is now beginning to support non-nanosecond precision values. This warning is caused by passing non-nanosecond np.datetime64 or np.timedelta64 values to the DataArray or Variable constructor; it can be silenced by converting the values to nanosecond precision ahead of time.\n",
      "\n"
     ]
    },
    {
     "name": "stdout",
     "output_type": "stream",
     "text": [
      "left doors2 inbound_vessel_39 2019-01-05 11:33:02.343370 1 [] []\n",
      "inbound_vessel_40 hap is geconvert 2019-01-05 11:33:02.343370\n",
      "outbound_vessel_49 start waiting time 2019-01-05 11:35:33.411254\n",
      "claim the lock doors outbound_vessel_49 2019-01-05 11:35:33.411254\n",
      "lock not empty outbound_vessel_49 ['inbound_vessel_40']\n",
      "lock is already converting outbound_vessel_49 2019-01-05 11:35:33.411254 ['inbound_vessel_40']\n",
      "inbound_vessel_41 lock position given 2019-01-05 11:38:35.676703\n",
      "inbound_vessel_41 requested place in next lockage 2019-01-05 11:38:35.676703\n",
      "claim the lock doors inbound_vessel_41 2019-01-05 11:38:35.676703\n",
      "requesting approach: else inbound_vessel_41 2019-01-05 11:38:35.676703 0 [] ['inbound_vessel_40']\n",
      "doors requested inbound_vessel_41\n",
      "claiming lock: priority doors2 is -1 inbound_vessel_41 2019-01-05 11:38:35.676703\n",
      "inbound_vessel_41 wth\n",
      "hi 2019-01-05 11:38:35.676703\n",
      "2019-01-05 11:38:35.676703 Node_50 Node_49 Lock doors closing start\n"
     ]
    },
    {
     "name": "stderr",
     "output_type": "stream",
     "text": [
      "c:\\users\\floorbakker\\opentnsim\\opentnsim\\lock.py:711: UserWarning:\n",
      "\n",
      "Converting non-nanosecond precision datetime values to nanosecond precision. This behavior can eventually be relaxed in xarray, as it is an artifact from pandas which is now beginning to support non-nanosecond precision values. This warning is caused by passing non-nanosecond np.datetime64 or np.timedelta64 values to the DataArray or Variable constructor; it can be silenced by converting the values to nanosecond precision ahead of time.\n",
      "\n"
     ]
    },
    {
     "name": "stdout",
     "output_type": "stream",
     "text": [
      "hey ho inbound_vessel_42 ['inbound_vessel_41']\n",
      "yo inbound_vessel_42 2019-01-05 12:12:38.620420 ['inbound_vessel_41']\n",
      "waiting done inbound_vessel_41 2019-01-05 12:36:35.676703\n",
      "inbound_vessel_41 sail to assigned lock position\n",
      "print doors inbound_vessel_41 ['inbound_vessel_41'] ['inbound_vessel_41']\n",
      "left doors1 inbound_vessel_41 2019-01-05 12:47:42.343370 [] 1 ['inbound_vessel_41']\n",
      "inbound_vessel_41 in lock ['inbound_vessel_41', 'inbound_vessel_42']\n",
      "waiting for others inbound_vessel_41\n",
      "inbound_vessel_42 start waiting time 2019-01-05 13:11:19.453753\n",
      "claim the lock doors inbound_vessel_42 2019-01-05 13:11:19.453753\n",
      "lock not empty inbound_vessel_42 ['inbound_vessel_41']\n",
      "lock is ready to be entered 2019-01-05 13:11:19.453753\n",
      "lock doors claimed inbound_vessel_42 2019-01-05 13:11:19.453753\n",
      "waiting done inbound_vessel_42 2019-01-05 13:11:19.453753\n",
      "inbound_vessel_42 sail to assigned lock position\n",
      "print doors inbound_vessel_42 ['inbound_vessel_42'] ['inbound_vessel_42']\n",
      "left doors1 inbound_vessel_42 2019-01-05 13:18:43.898198 [] 1 ['inbound_vessel_42']\n",
      "inbound_vessel_42 in lock ['inbound_vessel_41', 'inbound_vessel_42']\n",
      "inbound_vessel_42 converting hap 2019-01-05 13:18:43.898198\n",
      "hi 2019-01-05 13:18:43.898198\n",
      "2019-01-05 13:18:43.898198 Node_49 Node_50 Lock doors closing start\n",
      "waiting for others done inbound_vessel_41\n"
     ]
    },
    {
     "name": "stderr",
     "output_type": "stream",
     "text": [
      "c:\\users\\floorbakker\\opentnsim\\opentnsim\\lock.py:711: UserWarning:\n",
      "\n",
      "Converting non-nanosecond precision datetime values to nanosecond precision. This behavior can eventually be relaxed in xarray, as it is an artifact from pandas which is now beginning to support non-nanosecond precision values. This warning is caused by passing non-nanosecond np.datetime64 or np.timedelta64 values to the DataArray or Variable constructor; it can be silenced by converting the values to nanosecond precision ahead of time.\n",
      "\n"
     ]
    },
    {
     "name": "stdout",
     "output_type": "stream",
     "text": [
      "inbound_vessel_42 hap is geconvert 2019-01-05 14:18:05.009309\n",
      "inbound_vessel_43 start waiting time 2019-01-05 14:20:21.718357\n",
      "wait for lockage True ['inbound_vessel_42'] True\n",
      "inbound_vessel_43 lock position given 2019-01-05 14:23:38.342642\n",
      "inbound_vessel_43 requested place in next lockage 2019-01-05 14:23:38.342642\n",
      "claim the lock doors inbound_vessel_43 2019-01-05 14:23:38.342642\n",
      "requesting approach: else inbound_vessel_43 2019-01-05 14:23:38.342642 0 [] ['inbound_vessel_42']\n",
      "doors requested inbound_vessel_43\n",
      "claiming lock: priority doors2 is -1 inbound_vessel_43 2019-01-05 14:23:38.342642\n",
      "inbound_vessel_43 wth\n",
      "hi 2019-01-05 14:23:38.342642\n",
      "2019-01-05 14:23:38.342642 Node_50 Node_49 Lock doors closing start\n"
     ]
    },
    {
     "name": "stderr",
     "output_type": "stream",
     "text": [
      "c:\\users\\floorbakker\\opentnsim\\opentnsim\\lock.py:711: UserWarning:\n",
      "\n",
      "Converting non-nanosecond precision datetime values to nanosecond precision. This behavior can eventually be relaxed in xarray, as it is an artifact from pandas which is now beginning to support non-nanosecond precision values. This warning is caused by passing non-nanosecond np.datetime64 or np.timedelta64 values to the DataArray or Variable constructor; it can be silenced by converting the values to nanosecond precision ahead of time.\n",
      "\n"
     ]
    },
    {
     "name": "stdout",
     "output_type": "stream",
     "text": [
      "waiting done inbound_vessel_43 2019-01-05 15:07:38.342642\n",
      "inbound_vessel_43 sail to assigned lock position\n",
      "print doors inbound_vessel_43 ['inbound_vessel_43'] ['inbound_vessel_43']\n",
      "left doors1 inbound_vessel_43 2019-01-05 15:18:45.009309 [] 1 ['inbound_vessel_43']\n",
      "inbound_vessel_43 in lock ['inbound_vessel_43']\n",
      "inbound_vessel_43 converting hap 2019-01-05 15:18:45.009309\n",
      "hi 2019-01-05 15:18:45.009309\n",
      "2019-01-05 15:18:45.009309 Node_49 Node_50 Lock doors closing start\n",
      "inbound_vessel_43 hap is geconvert 2019-01-05 15:38:45.009309\n",
      "left doors2 inbound_vessel_43 2019-01-05 15:43:06.120420 1 [] []\n",
      "doors requested outbound_vessel_48\n",
      "claiming lock: priority doors2 not -1 outbound_vessel_48 2019-01-05 15:43:06.120420\n",
      "waiting done outbound_vessel_48 2019-01-05 15:43:06.120420\n",
      "hey ho inbound_vessel_44 []\n",
      "hi inbound_vessel_44 2019-01-05 15:44:47.415830 0\n",
      "outbound_vessel_48 sail to assigned lock position\n",
      "print doors outbound_vessel_48 ['outbound_vessel_48'] ['outbound_vessel_48']\n",
      "left doors1 outbound_vessel_48 2019-01-05 15:54:12.787087 0 ['outbound_vessel_49'] ['outbound_vessel_48']\n",
      "outbound_vessel_48 in lock ['outbound_vessel_48', 'outbound_vessel_49']\n",
      "waiting for others outbound_vessel_48\n",
      "lock doors claimed outbound_vessel_49 2019-01-05 15:54:12.787087\n",
      "second in line to claim lock outbound_vessel_49 2019-01-05 15:54:12.787087\n",
      "waiting done outbound_vessel_49 2019-01-05 15:54:12.787087\n",
      "outbound_vessel_49 sail to assigned lock position\n",
      "outbound_vessel_50 start waiting time 2019-01-05 16:04:23.898198\n",
      "wait for lockage True ['outbound_vessel_48', 'outbound_vessel_49'] False\n",
      "print doors outbound_vessel_49 ['outbound_vessel_49'] ['outbound_vessel_49']\n",
      "left doors1 outbound_vessel_49 2019-01-05 16:05:19.453754 0 [] ['outbound_vessel_49']\n",
      "outbound_vessel_49 in lock ['outbound_vessel_48', 'outbound_vessel_49']\n",
      "outbound_vessel_49 converting hap 2019-01-05 16:05:19.453754\n",
      "hi 2019-01-05 16:05:19.453754\n",
      "2019-01-05 16:05:19.453754 Node_50 Node_49 Lock doors closing start\n",
      "waiting for others done outbound_vessel_48\n",
      "outbound_vessel_51 start waiting time 2019-01-05 16:10:52.787087\n",
      "wait for lockage True ['outbound_vessel_48', 'outbound_vessel_49'] True\n"
     ]
    },
    {
     "name": "stderr",
     "output_type": "stream",
     "text": [
      "c:\\users\\floorbakker\\opentnsim\\opentnsim\\lock.py:711: UserWarning:\n",
      "\n",
      "Converting non-nanosecond precision datetime values to nanosecond precision. This behavior can eventually be relaxed in xarray, as it is an artifact from pandas which is now beginning to support non-nanosecond precision values. This warning is caused by passing non-nanosecond np.datetime64 or np.timedelta64 values to the DataArray or Variable constructor; it can be silenced by converting the values to nanosecond precision ahead of time.\n",
      "\n"
     ]
    },
    {
     "name": "stdout",
     "output_type": "stream",
     "text": [
      "inbound_vessel_44 start waiting time 2019-01-05 16:43:28.249163\n",
      "claim the lock doors inbound_vessel_44 2019-01-05 16:43:28.249163\n",
      "lock not empty inbound_vessel_44 ['outbound_vessel_48', 'outbound_vessel_49']\n",
      "lock is already converting inbound_vessel_44 2019-01-05 16:43:28.249163 ['outbound_vessel_48', 'outbound_vessel_49']\n",
      "outbound_vessel_49 hap is geconvert 2019-01-05 16:50:40.564865\n",
      "outbound_vessel_50 lock position given 2019-01-05 16:56:13.898198\n",
      "outbound_vessel_50 requested place in next lockage 2019-01-05 16:56:13.898198\n",
      "claim the lock doors outbound_vessel_50 2019-01-05 16:56:13.898198\n",
      "requesting approach: else outbound_vessel_50 2019-01-05 16:56:13.898198 0 [] ['outbound_vessel_49']\n",
      "outbound_vessel_51 lock position given 2019-01-05 16:56:13.898198\n",
      "outbound_vessel_51 requested place in next lockage 2019-01-05 16:56:13.898198\n",
      "claim the lock doors outbound_vessel_51 2019-01-05 16:56:13.898198\n",
      "requesting approach: else outbound_vessel_51 2019-01-05 16:56:13.898198 0 ['outbound_vessel_50'] ['outbound_vessel_49']\n",
      "doors requested outbound_vessel_50\n",
      "claiming lock: priority doors2 is -1 outbound_vessel_50 2019-01-05 16:56:13.898198\n",
      "outbound_vessel_50 wth\n",
      "hi 2019-01-05 16:56:13.898198\n",
      "2019-01-05 16:56:13.898198 Node_49 Node_50 Lock doors closing start\n",
      "hey ho inbound_vessel_45 ['inbound_vessel_44']\n",
      "yo inbound_vessel_45 2019-01-05 17:00:52.890437 ['inbound_vessel_44']\n"
     ]
    },
    {
     "name": "stderr",
     "output_type": "stream",
     "text": [
      "c:\\users\\floorbakker\\opentnsim\\opentnsim\\lock.py:711: UserWarning:\n",
      "\n",
      "Converting non-nanosecond precision datetime values to nanosecond precision. This behavior can eventually be relaxed in xarray, as it is an artifact from pandas which is now beginning to support non-nanosecond precision values. This warning is caused by passing non-nanosecond np.datetime64 or np.timedelta64 values to the DataArray or Variable constructor; it can be silenced by converting the values to nanosecond precision ahead of time.\n",
      "\n"
     ]
    },
    {
     "name": "stdout",
     "output_type": "stream",
     "text": [
      "waiting done outbound_vessel_50 2019-01-05 17:48:13.898198\n",
      "outbound_vessel_50 sail to assigned lock position\n",
      "print doors outbound_vessel_50 ['outbound_vessel_50'] ['outbound_vessel_50']\n",
      "left doors1 outbound_vessel_50 2019-01-05 17:53:47.231532 0 ['outbound_vessel_51'] ['outbound_vessel_50']\n",
      "outbound_vessel_50 in lock ['outbound_vessel_50', 'outbound_vessel_51']\n",
      "waiting for others outbound_vessel_50\n",
      "doors requested outbound_vessel_51\n",
      "claiming lock: priority doors2 is -1 outbound_vessel_51 2019-01-05 17:53:47.231532\n",
      "waiting done outbound_vessel_51 2019-01-05 17:53:47.231532\n",
      "outbound_vessel_52 start waiting time 2019-01-05 17:56:59.637470\n",
      "wait for lockage True ['outbound_vessel_50', 'outbound_vessel_51'] False\n",
      "inbound_vessel_45 start waiting time 2019-01-05 17:58:27.057104\n",
      "claim the lock doors inbound_vessel_45 2019-01-05 17:58:27.057104\n",
      "wait in lock first 2019-01-05 17:58:27.057104\n",
      "outbound_vessel_51 sail to assigned lock position\n",
      "print doors outbound_vessel_51 ['outbound_vessel_51'] ['outbound_vessel_51']\n",
      "left doors1 outbound_vessel_51 2019-01-05 18:04:53.898198 0 ['inbound_vessel_45'] ['outbound_vessel_51']\n",
      "outbound_vessel_51 in lock ['outbound_vessel_50', 'outbound_vessel_51']\n",
      "requesting approach: else inbound_vessel_45 2019-01-05 18:04:53.898198 2 ['outbound_vessel_51'] []\n",
      "outbound_vessel_51 converting hap 2019-01-05 18:04:53.898198\n",
      "hi 2019-01-05 18:04:53.898198\n",
      "2019-01-05 18:04:53.898198 Node_50 Node_49 Lock doors closing start\n",
      "waiting for others done outbound_vessel_50\n"
     ]
    },
    {
     "name": "stderr",
     "output_type": "stream",
     "text": [
      "c:\\users\\floorbakker\\opentnsim\\opentnsim\\lock.py:711: UserWarning:\n",
      "\n",
      "Converting non-nanosecond precision datetime values to nanosecond precision. This behavior can eventually be relaxed in xarray, as it is an artifact from pandas which is now beginning to support non-nanosecond precision values. This warning is caused by passing non-nanosecond np.datetime64 or np.timedelta64 values to the DataArray or Variable constructor; it can be silenced by converting the values to nanosecond precision ahead of time.\n",
      "\n"
     ]
    },
    {
     "name": "stdout",
     "output_type": "stream",
     "text": [
      "outbound_vessel_51 hap is geconvert 2019-01-05 19:12:48.342643\n",
      "outbound_vessel_52 lock position given 2019-01-05 19:18:21.675976\n",
      "outbound_vessel_52 requested place in next lockage 2019-01-05 19:18:21.675976\n",
      "claim the lock doors outbound_vessel_52 2019-01-05 19:18:21.675976\n",
      "requesting approach: else outbound_vessel_52 2019-01-05 19:18:21.675976 0 [] ['outbound_vessel_51']\n",
      "doors requested outbound_vessel_52\n",
      "claiming lock: priority doors2 is -1 outbound_vessel_52 2019-01-05 19:18:21.675976\n",
      "outbound_vessel_52 wth\n",
      "hi 2019-01-05 19:18:21.675976\n",
      "2019-01-05 19:18:21.675976 Node_49 Node_50 Lock doors closing start\n"
     ]
    },
    {
     "name": "stderr",
     "output_type": "stream",
     "text": [
      "c:\\users\\floorbakker\\opentnsim\\opentnsim\\lock.py:711: UserWarning:\n",
      "\n",
      "Converting non-nanosecond precision datetime values to nanosecond precision. This behavior can eventually be relaxed in xarray, as it is an artifact from pandas which is now beginning to support non-nanosecond precision values. This warning is caused by passing non-nanosecond np.datetime64 or np.timedelta64 values to the DataArray or Variable constructor; it can be silenced by converting the values to nanosecond precision ahead of time.\n",
      "\n"
     ]
    },
    {
     "name": "stdout",
     "output_type": "stream",
     "text": [
      "hey ho outbound_vessel_53 ['outbound_vessel_52']\n",
      "yo outbound_vessel_53 2019-01-05 20:04:49.046361 ['outbound_vessel_52']\n",
      "waiting done outbound_vessel_52 2019-01-05 20:15:21.675976\n",
      "outbound_vessel_52 sail to assigned lock position\n",
      "print doors outbound_vessel_52 ['outbound_vessel_52'] ['outbound_vessel_52']\n",
      "left doors1 outbound_vessel_52 2019-01-05 20:26:28.342643 0 [] ['outbound_vessel_52']\n",
      "outbound_vessel_52 in lock ['outbound_vessel_52', 'outbound_vessel_53']\n",
      "waiting for others outbound_vessel_52\n",
      "outbound_vessel_53 start waiting time 2019-01-05 21:03:29.879694\n",
      "claim the lock doors outbound_vessel_53 2019-01-05 21:03:29.879694\n",
      "lock not empty outbound_vessel_53 ['outbound_vessel_52']\n",
      "lock is ready to be entered 2019-01-05 21:03:29.879694\n",
      "lock doors claimed outbound_vessel_53 2019-01-05 21:03:29.879694\n",
      "waiting done outbound_vessel_53 2019-01-05 21:03:29.879694\n",
      "outbound_vessel_53 sail to assigned lock position\n",
      "print doors outbound_vessel_53 ['outbound_vessel_53'] ['outbound_vessel_53']\n",
      "left doors1 outbound_vessel_53 2019-01-05 21:10:54.324139 0 [] ['outbound_vessel_53']\n",
      "outbound_vessel_53 in lock ['outbound_vessel_52', 'outbound_vessel_53']\n",
      "outbound_vessel_53 converting hap 2019-01-05 21:10:54.324139\n",
      "hi 2019-01-05 21:10:54.324139\n",
      "2019-01-05 21:10:54.324139 Node_50 Node_49 Lock doors closing start\n",
      "waiting for others done outbound_vessel_52\n"
     ]
    },
    {
     "name": "stderr",
     "output_type": "stream",
     "text": [
      "c:\\users\\floorbakker\\opentnsim\\opentnsim\\lock.py:513: UserWarning:\n",
      "\n",
      "Converting non-nanosecond precision datetime values to nanosecond precision. This behavior can eventually be relaxed in xarray, as it is an artifact from pandas which is now beginning to support non-nanosecond precision values. This warning is caused by passing non-nanosecond np.datetime64 or np.timedelta64 values to the DataArray or Variable constructor; it can be silenced by converting the values to nanosecond precision ahead of time.\n",
      "\n",
      "c:\\users\\floorbakker\\opentnsim\\opentnsim\\lock.py:711: UserWarning:\n",
      "\n",
      "Converting non-nanosecond precision datetime values to nanosecond precision. This behavior can eventually be relaxed in xarray, as it is an artifact from pandas which is now beginning to support non-nanosecond precision values. This warning is caused by passing non-nanosecond np.datetime64 or np.timedelta64 values to the DataArray or Variable constructor; it can be silenced by converting the values to nanosecond precision ahead of time.\n",
      "\n"
     ]
    },
    {
     "name": "stdout",
     "output_type": "stream",
     "text": [
      "outbound_vessel_53 hap is geconvert 2019-01-05 21:47:15.435250\n",
      "outbound_vessel_54 start waiting time 2019-01-05 21:49:33.887861\n",
      "wait for lockage True ['outbound_vessel_53'] True\n",
      "outbound_vessel_54 lock position given 2019-01-05 21:52:48.768583\n",
      "outbound_vessel_54 requested place in next lockage 2019-01-05 21:52:48.768583\n",
      "claim the lock doors outbound_vessel_54 2019-01-05 21:52:48.768583\n",
      "requesting approach: else outbound_vessel_54 2019-01-05 21:52:48.768583 0 [] ['outbound_vessel_53']\n",
      "doors requested outbound_vessel_54\n",
      "claiming lock: priority doors2 is -1 outbound_vessel_54 2019-01-05 21:52:48.768583\n",
      "outbound_vessel_54 wth\n",
      "hi 2019-01-05 21:52:48.768583\n",
      "2019-01-05 21:52:48.768583 Node_49 Node_50 Lock doors closing start\n"
     ]
    },
    {
     "name": "stderr",
     "output_type": "stream",
     "text": [
      "c:\\users\\floorbakker\\opentnsim\\opentnsim\\lock.py:711: UserWarning:\n",
      "\n",
      "Converting non-nanosecond precision datetime values to nanosecond precision. This behavior can eventually be relaxed in xarray, as it is an artifact from pandas which is now beginning to support non-nanosecond precision values. This warning is caused by passing non-nanosecond np.datetime64 or np.timedelta64 values to the DataArray or Variable constructor; it can be silenced by converting the values to nanosecond precision ahead of time.\n",
      "\n"
     ]
    },
    {
     "name": "stdout",
     "output_type": "stream",
     "text": [
      "outbound_vessel_55 start waiting time 2019-01-05 22:03:46.775659\n",
      "outbound_vessel_55 lock position given 2019-01-05 22:03:46.775659\n",
      "outbound_vessel_55 requested place in next lockage 2019-01-05 22:03:46.775659\n",
      "claim the lock doors outbound_vessel_55 2019-01-05 22:03:46.775659\n",
      "lock is empty and not converting outbound_vessel_55 2019-01-05 22:03:46.775659 0 []\n",
      "waiting done outbound_vessel_54 2019-01-05 22:19:48.768583\n",
      "outbound_vessel_54 sail to assigned lock position\n",
      "print doors outbound_vessel_54 ['outbound_vessel_54'] ['outbound_vessel_54']\n",
      "left doors1 outbound_vessel_54 2019-01-05 22:30:55.435250 0 ['outbound_vessel_55'] ['outbound_vessel_54']\n",
      "outbound_vessel_54 in lock ['outbound_vessel_54', 'outbound_vessel_55']\n",
      "waiting for others outbound_vessel_54\n",
      "lock doors claimed outbound_vessel_55 2019-01-05 22:30:55.435250\n",
      "waiting done outbound_vessel_55 2019-01-05 22:30:55.435250\n",
      "outbound_vessel_55 sail to assigned lock position\n",
      "print doors outbound_vessel_55 ['outbound_vessel_54'] ['outbound_vessel_55']\n",
      "left doors1 outbound_vessel_55 2019-01-05 22:42:02.101917 0 [] ['outbound_vessel_54']\n",
      "outbound_vessel_55 in lock ['outbound_vessel_54', 'outbound_vessel_55']\n",
      "outbound_vessel_55 converting hap 2019-01-05 22:42:02.101917\n",
      "hi 2019-01-05 22:42:02.101917\n",
      "2019-01-05 22:42:02.101917 Node_50 Node_49 Lock doors closing start\n",
      "waiting for others done outbound_vessel_54\n"
     ]
    },
    {
     "name": "stderr",
     "output_type": "stream",
     "text": [
      "c:\\users\\floorbakker\\opentnsim\\opentnsim\\lock.py:711: UserWarning:\n",
      "\n",
      "Converting non-nanosecond precision datetime values to nanosecond precision. This behavior can eventually be relaxed in xarray, as it is an artifact from pandas which is now beginning to support non-nanosecond precision values. This warning is caused by passing non-nanosecond np.datetime64 or np.timedelta64 values to the DataArray or Variable constructor; it can be silenced by converting the values to nanosecond precision ahead of time.\n",
      "\n"
     ]
    },
    {
     "name": "stdout",
     "output_type": "stream",
     "text": [
      "left doors2 outbound_vessel_54 2019-01-05 23:31:23.213028 0 [] []\n",
      "outbound_vessel_55 hap is geconvert 2019-01-05 23:31:23.213028\n",
      "left doors2 outbound_vessel_55 2019-01-05 23:39:26.546361 0 [] []\n",
      "lock doors claimed inbound_vessel_44 2019-01-05 23:39:26.546361\n",
      "first in line to claim lock inbound_vessel_44 2019-01-05 23:39:26.546361\n",
      "waiting done inbound_vessel_44 2019-01-05 23:39:26.546361\n",
      "inbound_vessel_44 sail to assigned lock position\n",
      "print doors inbound_vessel_44 ['inbound_vessel_44'] ['inbound_vessel_44']\n",
      "left doors1 inbound_vessel_44 2019-01-05 23:50:33.213028 ['inbound_vessel_45'] 1 ['inbound_vessel_44']\n",
      "inbound_vessel_44 in lock ['inbound_vessel_44', 'inbound_vessel_45']\n",
      "waiting for others inbound_vessel_44\n",
      "doors requested inbound_vessel_45\n",
      "claiming lock: priority doors2 is -1 inbound_vessel_45 2019-01-05 23:50:33.213028\n",
      "waiting done inbound_vessel_45 2019-01-05 23:50:33.213028\n",
      "inbound_vessel_45 sail to assigned lock position\n",
      "inbound_vessel_46 start waiting time 2019-01-06 00:00:44.324139\n",
      "wait for lockage True ['inbound_vessel_44', 'inbound_vessel_45'] False\n",
      "print doors inbound_vessel_45 ['inbound_vessel_45'] ['inbound_vessel_45']\n",
      "left doors1 inbound_vessel_45 2019-01-06 00:01:39.879695 [] 1 ['inbound_vessel_45']\n",
      "inbound_vessel_45 in lock ['inbound_vessel_44', 'inbound_vessel_45']\n",
      "inbound_vessel_45 converting hap 2019-01-06 00:01:39.879695\n",
      "hi 2019-01-06 00:01:39.879695\n",
      "2019-01-06 00:01:39.879695 Node_49 Node_50 Lock doors closing start\n",
      "waiting for others done inbound_vessel_44\n",
      "inbound_vessel_47 start waiting time 2019-01-06 00:07:13.213028\n",
      "wait for lockage True ['inbound_vessel_44', 'inbound_vessel_45'] True\n"
     ]
    },
    {
     "name": "stderr",
     "output_type": "stream",
     "text": [
      "c:\\users\\floorbakker\\opentnsim\\opentnsim\\lock.py:711: UserWarning:\n",
      "\n",
      "Converting non-nanosecond precision datetime values to nanosecond precision. This behavior can eventually be relaxed in xarray, as it is an artifact from pandas which is now beginning to support non-nanosecond precision values. This warning is caused by passing non-nanosecond np.datetime64 or np.timedelta64 values to the DataArray or Variable constructor; it can be silenced by converting the values to nanosecond precision ahead of time.\n",
      "\n"
     ]
    },
    {
     "name": "stdout",
     "output_type": "stream",
     "text": [
      "hey ho outbound_vessel_56 []\n",
      "hi outbound_vessel_56 2019-01-06 00:30:53.774130 0\n",
      "inbound_vessel_45 hap is geconvert 2019-01-06 01:03:00.990806\n",
      "inbound_vessel_46 lock position given 2019-01-06 01:08:34.324139\n",
      "inbound_vessel_46 requested place in next lockage 2019-01-06 01:08:34.324139\n",
      "claim the lock doors inbound_vessel_46 2019-01-06 01:08:34.324139\n",
      "requesting approach: else inbound_vessel_46 2019-01-06 01:08:34.324139 0 [] ['inbound_vessel_45']\n",
      "inbound_vessel_47 lock position given 2019-01-06 01:08:34.324139\n",
      "inbound_vessel_47 requested place in next lockage 2019-01-06 01:08:34.324139\n",
      "claim the lock doors inbound_vessel_47 2019-01-06 01:08:34.324139\n",
      "requesting approach: else inbound_vessel_47 2019-01-06 01:08:34.324139 0 ['inbound_vessel_46'] ['inbound_vessel_45']\n",
      "doors requested inbound_vessel_46\n",
      "claiming lock: priority doors2 is -1 inbound_vessel_46 2019-01-06 01:08:34.324139\n",
      "inbound_vessel_46 wth\n",
      "hi 2019-01-06 01:08:34.324139\n",
      "2019-01-06 01:08:34.324139 Node_50 Node_49 Lock doors closing start\n"
     ]
    },
    {
     "name": "stderr",
     "output_type": "stream",
     "text": [
      "c:\\users\\floorbakker\\opentnsim\\opentnsim\\lock.py:711: UserWarning:\n",
      "\n",
      "Converting non-nanosecond precision datetime values to nanosecond precision. This behavior can eventually be relaxed in xarray, as it is an artifact from pandas which is now beginning to support non-nanosecond precision values. This warning is caused by passing non-nanosecond np.datetime64 or np.timedelta64 values to the DataArray or Variable constructor; it can be silenced by converting the values to nanosecond precision ahead of time.\n",
      "\n"
     ]
    },
    {
     "name": "stdout",
     "output_type": "stream",
     "text": [
      "outbound_vessel_56 start waiting time 2019-01-06 01:29:34.607463\n",
      "claim the lock doors outbound_vessel_56 2019-01-06 01:29:34.607463\n",
      "wait in lock first 2019-01-06 01:29:34.607463\n",
      "waiting done inbound_vessel_46 2019-01-06 02:06:34.324139\n",
      "inbound_vessel_46 sail to assigned lock position\n",
      "print doors inbound_vessel_46 ['inbound_vessel_46'] ['inbound_vessel_46']\n",
      "left doors1 inbound_vessel_46 2019-01-06 02:12:07.657473 ['inbound_vessel_47'] 1 ['inbound_vessel_46']\n",
      "inbound_vessel_46 in lock ['inbound_vessel_46', 'inbound_vessel_47']\n",
      "waiting for others inbound_vessel_46\n",
      "doors requested inbound_vessel_47\n",
      "claiming lock: priority doors2 is -1 inbound_vessel_47 2019-01-06 02:12:07.657473\n",
      "waiting done inbound_vessel_47 2019-01-06 02:12:07.657473\n",
      "inbound_vessel_47 sail to assigned lock position\n",
      "inbound_vessel_48 start waiting time 2019-01-06 02:22:18.768584\n",
      "wait for lockage True ['inbound_vessel_46', 'inbound_vessel_47'] False\n",
      "print doors inbound_vessel_47 ['inbound_vessel_47'] ['inbound_vessel_47']\n",
      "left doors1 inbound_vessel_47 2019-01-06 02:23:14.324139 ['outbound_vessel_56'] 1 ['inbound_vessel_47']\n",
      "inbound_vessel_47 in lock ['inbound_vessel_46', 'inbound_vessel_47']\n",
      "requesting approach: else outbound_vessel_56 2019-01-06 02:23:14.324139 2 ['inbound_vessel_47'] []\n",
      "inbound_vessel_47 converting hap 2019-01-06 02:23:14.324139\n",
      "hi 2019-01-06 02:23:14.324139\n",
      "2019-01-06 02:23:14.324139 Node_49 Node_50 Lock doors closing start\n",
      "waiting for others done inbound_vessel_46\n",
      "inbound_vessel_49 start waiting time 2019-01-06 02:28:47.657473\n",
      "wait for lockage True ['inbound_vessel_46', 'inbound_vessel_47'] True\n"
     ]
    },
    {
     "name": "stderr",
     "output_type": "stream",
     "text": [
      "c:\\users\\floorbakker\\opentnsim\\opentnsim\\lock.py:711: UserWarning:\n",
      "\n",
      "Converting non-nanosecond precision datetime values to nanosecond precision. This behavior can eventually be relaxed in xarray, as it is an artifact from pandas which is now beginning to support non-nanosecond precision values. This warning is caused by passing non-nanosecond np.datetime64 or np.timedelta64 values to the DataArray or Variable constructor; it can be silenced by converting the values to nanosecond precision ahead of time.\n",
      "\n"
     ]
    },
    {
     "name": "stdout",
     "output_type": "stream",
     "text": [
      "inbound_vessel_47 hap is geconvert 2019-01-06 03:23:08.768584\n",
      "inbound_vessel_48 lock position given 2019-01-06 03:28:42.101917\n",
      "inbound_vessel_48 requested place in next lockage 2019-01-06 03:28:42.101917\n",
      "claim the lock doors inbound_vessel_48 2019-01-06 03:28:42.101917\n",
      "requesting approach: else inbound_vessel_48 2019-01-06 03:28:42.101917 0 [] ['inbound_vessel_47']\n",
      "inbound_vessel_49 lock position given 2019-01-06 03:28:42.101917\n",
      "inbound_vessel_49 requested place in next lockage 2019-01-06 03:28:42.101917\n",
      "claim the lock doors inbound_vessel_49 2019-01-06 03:28:42.101917\n",
      "requesting approach: else inbound_vessel_49 2019-01-06 03:28:42.101917 0 ['inbound_vessel_48'] ['inbound_vessel_47']\n",
      "doors requested inbound_vessel_48\n",
      "claiming lock: priority doors2 is -1 inbound_vessel_48 2019-01-06 03:28:42.101917\n",
      "inbound_vessel_48 wth\n",
      "hi 2019-01-06 03:28:42.101917\n",
      "2019-01-06 03:28:42.101917 Node_50 Node_49 Lock doors closing start\n"
     ]
    },
    {
     "name": "stderr",
     "output_type": "stream",
     "text": [
      "c:\\users\\floorbakker\\opentnsim\\opentnsim\\lock.py:711: UserWarning:\n",
      "\n",
      "Converting non-nanosecond precision datetime values to nanosecond precision. This behavior can eventually be relaxed in xarray, as it is an artifact from pandas which is now beginning to support non-nanosecond precision values. This warning is caused by passing non-nanosecond np.datetime64 or np.timedelta64 values to the DataArray or Variable constructor; it can be silenced by converting the values to nanosecond precision ahead of time.\n",
      "\n"
     ]
    },
    {
     "name": "stdout",
     "output_type": "stream",
     "text": [
      "waiting done inbound_vessel_48 2019-01-06 03:58:42.101917\n",
      "inbound_vessel_48 sail to assigned lock position\n",
      "print doors inbound_vessel_48 ['inbound_vessel_48'] ['inbound_vessel_48']\n",
      "left doors1 inbound_vessel_48 2019-01-06 04:04:15.435251 ['inbound_vessel_49'] 1 ['inbound_vessel_48']\n",
      "inbound_vessel_48 in lock ['inbound_vessel_48', 'inbound_vessel_49']\n",
      "waiting for others inbound_vessel_48\n",
      "doors requested inbound_vessel_49\n",
      "claiming lock: priority doors2 is -1 inbound_vessel_49 2019-01-06 04:04:15.435251\n",
      "waiting done inbound_vessel_49 2019-01-06 04:04:15.435251\n",
      "hey ho outbound_vessel_57 ['outbound_vessel_56']\n",
      "yo outbound_vessel_57 2019-01-06 04:07:37.128318 ['outbound_vessel_56']\n",
      "inbound_vessel_49 sail to assigned lock position\n",
      "inbound_vessel_50 start waiting time 2019-01-06 04:14:26.546362\n",
      "wait for lockage True ['inbound_vessel_48', 'inbound_vessel_49'] False\n",
      "print doors inbound_vessel_49 ['inbound_vessel_49'] ['inbound_vessel_49']\n",
      "left doors1 inbound_vessel_49 2019-01-06 04:15:22.101917 [] 1 ['inbound_vessel_49']\n",
      "inbound_vessel_49 in lock ['inbound_vessel_48', 'inbound_vessel_49']\n",
      "inbound_vessel_49 converting hap 2019-01-06 04:15:22.101917\n",
      "hi 2019-01-06 04:15:22.101917\n",
      "2019-01-06 04:15:22.101917 Node_49 Node_50 Lock doors closing start\n",
      "waiting for others done inbound_vessel_48\n",
      "inbound_vessel_51 start waiting time 2019-01-06 04:20:55.435251\n",
      "wait for lockage True ['inbound_vessel_48', 'inbound_vessel_49'] True\n"
     ]
    },
    {
     "name": "stderr",
     "output_type": "stream",
     "text": [
      "c:\\users\\floorbakker\\opentnsim\\opentnsim\\lock.py:711: UserWarning:\n",
      "\n",
      "Converting non-nanosecond precision datetime values to nanosecond precision. This behavior can eventually be relaxed in xarray, as it is an artifact from pandas which is now beginning to support non-nanosecond precision values. This warning is caused by passing non-nanosecond np.datetime64 or np.timedelta64 values to the DataArray or Variable constructor; it can be silenced by converting the values to nanosecond precision ahead of time.\n",
      "\n"
     ]
    },
    {
     "name": "stdout",
     "output_type": "stream",
     "text": [
      "inbound_vessel_49 hap is geconvert 2019-01-06 04:59:16.546362\n",
      "inbound_vessel_50 lock position given 2019-01-06 05:04:49.879695\n",
      "inbound_vessel_50 requested place in next lockage 2019-01-06 05:04:49.879695\n",
      "claim the lock doors inbound_vessel_50 2019-01-06 05:04:49.879695\n",
      "requesting approach: else inbound_vessel_50 2019-01-06 05:04:49.879695 0 [] ['inbound_vessel_49']\n",
      "inbound_vessel_51 lock position given 2019-01-06 05:04:49.879695\n",
      "inbound_vessel_51 requested place in next lockage 2019-01-06 05:04:49.879695\n",
      "claim the lock doors inbound_vessel_51 2019-01-06 05:04:49.879695\n",
      "requesting approach: else inbound_vessel_51 2019-01-06 05:04:49.879695 0 ['inbound_vessel_50'] ['inbound_vessel_49']\n",
      "doors requested inbound_vessel_50\n",
      "claiming lock: priority doors2 is -1 inbound_vessel_50 2019-01-06 05:04:49.879695\n",
      "inbound_vessel_50 wth\n",
      "hi 2019-01-06 05:04:49.879695\n",
      "2019-01-06 05:04:49.879695 Node_50 Node_49 Lock doors closing start\n",
      "outbound_vessel_57 start waiting time 2019-01-06 05:05:11.294985\n",
      "claim the lock doors outbound_vessel_57 2019-01-06 05:05:11.294985\n",
      "lock is empty and not converting outbound_vessel_57 2019-01-06 05:05:11.294985 0 []\n"
     ]
    },
    {
     "name": "stderr",
     "output_type": "stream",
     "text": [
      "c:\\users\\floorbakker\\opentnsim\\opentnsim\\lock.py:711: UserWarning:\n",
      "\n",
      "Converting non-nanosecond precision datetime values to nanosecond precision. This behavior can eventually be relaxed in xarray, as it is an artifact from pandas which is now beginning to support non-nanosecond precision values. This warning is caused by passing non-nanosecond np.datetime64 or np.timedelta64 values to the DataArray or Variable constructor; it can be silenced by converting the values to nanosecond precision ahead of time.\n",
      "\n"
     ]
    },
    {
     "name": "stdout",
     "output_type": "stream",
     "text": [
      "waiting done inbound_vessel_50 2019-01-06 05:50:49.879695\n",
      "inbound_vessel_50 sail to assigned lock position\n",
      "print doors inbound_vessel_50 ['inbound_vessel_50'] ['inbound_vessel_50']\n",
      "left doors1 inbound_vessel_50 2019-01-06 05:56:23.213028 ['inbound_vessel_51'] 1 ['inbound_vessel_50']\n",
      "inbound_vessel_50 in lock ['inbound_vessel_50', 'inbound_vessel_51']\n",
      "waiting for others inbound_vessel_50\n",
      "doors requested inbound_vessel_51\n",
      "claiming lock: priority doors2 is -1 inbound_vessel_51 2019-01-06 05:56:23.213028\n",
      "lock doors claimed outbound_vessel_57 2019-01-06 05:56:23.213028\n",
      "waiting done outbound_vessel_57 2019-01-06 05:56:23.213028\n",
      "outbound_vessel_57 sail to assigned lock position\n",
      "print doors outbound_vessel_57 ['inbound_vessel_51'] ['outbound_vessel_57']\n",
      "left doors1 outbound_vessel_57 2019-01-06 06:07:29.879695 0 ['inbound_vessel_51'] ['inbound_vessel_51']\n",
      "outbound_vessel_57 in lock ['outbound_vessel_56', 'outbound_vessel_57']\n",
      "waiting done inbound_vessel_51 2019-01-06 06:07:29.879695\n",
      "outbound_vessel_57 converting hap 2019-01-06 06:07:29.879695\n",
      "hi 2019-01-06 06:07:29.879695\n",
      "2019-01-06 06:07:29.879695 Node_49 Node_49 Lock doors closing start\n",
      "waiting for others done inbound_vessel_50\n",
      "inbound_vessel_51 sail to assigned lock position\n"
     ]
    },
    {
     "name": "stderr",
     "output_type": "stream",
     "text": [
      "c:\\users\\floorbakker\\opentnsim\\opentnsim\\lock.py:711: UserWarning:\n",
      "\n",
      "Converting non-nanosecond precision datetime values to nanosecond precision. This behavior can eventually be relaxed in xarray, as it is an artifact from pandas which is now beginning to support non-nanosecond precision values. This warning is caused by passing non-nanosecond np.datetime64 or np.timedelta64 values to the DataArray or Variable constructor; it can be silenced by converting the values to nanosecond precision ahead of time.\n",
      "\n"
     ]
    },
    {
     "name": "stdout",
     "output_type": "stream",
     "text": [
      "print doors inbound_vessel_51 ['inbound_vessel_51'] ['inbound_vessel_51']\n",
      "left doors1 inbound_vessel_51 2019-01-06 06:18:36.546362 ['outbound_vessel_57'] 1 ['inbound_vessel_51']\n",
      "inbound_vessel_51 in lock ['inbound_vessel_51']\n",
      "inbound_vessel_51 converting hap 2019-01-06 06:18:36.546362\n",
      "hi 2019-01-06 06:18:36.546362\n",
      "2019-01-06 06:18:36.546362 Node_49 Node_50 Lock doors closing start\n"
     ]
    },
    {
     "name": "stderr",
     "output_type": "stream",
     "text": [
      "c:\\users\\floorbakker\\opentnsim\\opentnsim\\lock.py:711: UserWarning:\n",
      "\n",
      "Converting non-nanosecond precision datetime values to nanosecond precision. This behavior can eventually be relaxed in xarray, as it is an artifact from pandas which is now beginning to support non-nanosecond precision values. This warning is caused by passing non-nanosecond np.datetime64 or np.timedelta64 values to the DataArray or Variable constructor; it can be silenced by converting the values to nanosecond precision ahead of time.\n",
      "\n"
     ]
    },
    {
     "name": "stdout",
     "output_type": "stream",
     "text": [
      "inbound_vessel_52 start waiting time 2019-01-06 06:30:17.729207\n",
      "wait for lockage True ['inbound_vessel_51'] True\n",
      "inbound_vessel_53 start waiting time 2019-01-06 06:48:26.638318\n",
      "wait for lockage True ['inbound_vessel_51'] True\n",
      "outbound_vessel_57 hap is geconvert 2019-01-06 07:04:29.879695\n",
      "left doors2 outbound_vessel_57 2019-01-06 07:12:33.213028 0 ['inbound_vessel_51'] []\n",
      "inbound_vessel_51 hap is geconvert 2019-01-06 07:16:36.546362\n",
      "inbound_vessel_52 lock position given 2019-01-06 07:22:09.879695\n",
      "inbound_vessel_52 requested place in next lockage 2019-01-06 07:22:09.879695\n",
      "claim the lock doors inbound_vessel_52 2019-01-06 07:22:09.879695\n",
      "requesting approach: else inbound_vessel_52 2019-01-06 07:22:09.879695 0 [] ['inbound_vessel_51']\n",
      "inbound_vessel_53 lock position given 2019-01-06 07:22:09.879695\n",
      "inbound_vessel_53 requested place in next lockage 2019-01-06 07:22:09.879695\n",
      "claim the lock doors inbound_vessel_53 2019-01-06 07:22:09.879695\n",
      "requesting approach: else inbound_vessel_53 2019-01-06 07:22:09.879695 0 ['inbound_vessel_52'] ['inbound_vessel_51']\n",
      "doors requested inbound_vessel_52\n",
      "claiming lock: priority doors2 is -1 inbound_vessel_52 2019-01-06 07:22:09.879695\n",
      "inbound_vessel_52 wth\n",
      "hi 2019-01-06 07:22:09.879695\n",
      "2019-01-06 07:22:09.879695 Node_50 Node_49 Lock doors closing start\n"
     ]
    },
    {
     "name": "stderr",
     "output_type": "stream",
     "text": [
      "c:\\users\\floorbakker\\opentnsim\\opentnsim\\lock.py:711: UserWarning:\n",
      "\n",
      "Converting non-nanosecond precision datetime values to nanosecond precision. This behavior can eventually be relaxed in xarray, as it is an artifact from pandas which is now beginning to support non-nanosecond precision values. This warning is caused by passing non-nanosecond np.datetime64 or np.timedelta64 values to the DataArray or Variable constructor; it can be silenced by converting the values to nanosecond precision ahead of time.\n",
      "\n"
     ]
    },
    {
     "name": "stdout",
     "output_type": "stream",
     "text": [
      "outbound_vessel_58 start waiting time 2019-01-06 08:05:46.407963\n",
      "outbound_vessel_58 lock position given 2019-01-06 08:05:46.407963\n",
      "outbound_vessel_58 requested place in next lockage 2019-01-06 08:05:46.407963\n",
      "claim the lock doors outbound_vessel_58 2019-01-06 08:05:46.407963\n",
      "wait in lock first 2019-01-06 08:05:46.407963\n",
      "waiting done inbound_vessel_52 2019-01-06 08:21:09.879695\n",
      "inbound_vessel_52 sail to assigned lock position\n",
      "print doors inbound_vessel_52 ['inbound_vessel_52'] ['inbound_vessel_52']\n",
      "left doors1 inbound_vessel_52 2019-01-06 08:26:43.213029 ['inbound_vessel_53'] 1 ['inbound_vessel_52']\n",
      "inbound_vessel_52 in lock ['inbound_vessel_52', 'inbound_vessel_53']\n",
      "waiting for others inbound_vessel_52\n",
      "doors requested inbound_vessel_53\n",
      "claiming lock: priority doors2 is -1 inbound_vessel_53 2019-01-06 08:26:43.213029\n",
      "waiting done inbound_vessel_53 2019-01-06 08:26:43.213029\n",
      "inbound_vessel_53 sail to assigned lock position\n",
      "print doors inbound_vessel_53 ['inbound_vessel_53'] ['inbound_vessel_53']\n",
      "left doors1 inbound_vessel_53 2019-01-06 08:37:49.879695 ['outbound_vessel_58'] 1 ['inbound_vessel_53']\n",
      "inbound_vessel_53 in lock ['inbound_vessel_52', 'inbound_vessel_53']\n",
      "requesting approach: else outbound_vessel_58 2019-01-06 08:37:49.879695 2 ['inbound_vessel_53'] []\n",
      "inbound_vessel_53 converting hap 2019-01-06 08:37:49.879695\n",
      "hi 2019-01-06 08:37:49.879695\n",
      "2019-01-06 08:37:49.879695 Node_49 Node_50 Lock doors closing start\n",
      "waiting for others done inbound_vessel_52\n"
     ]
    },
    {
     "name": "stderr",
     "output_type": "stream",
     "text": [
      "c:\\users\\floorbakker\\opentnsim\\opentnsim\\lock.py:711: UserWarning:\n",
      "\n",
      "Converting non-nanosecond precision datetime values to nanosecond precision. This behavior can eventually be relaxed in xarray, as it is an artifact from pandas which is now beginning to support non-nanosecond precision values. This warning is caused by passing non-nanosecond np.datetime64 or np.timedelta64 values to the DataArray or Variable constructor; it can be silenced by converting the values to nanosecond precision ahead of time.\n",
      "\n"
     ]
    },
    {
     "name": "stdout",
     "output_type": "stream",
     "text": [
      "inbound_vessel_53 hap is geconvert 2019-01-06 09:36:44.324140\n",
      "left doors2 inbound_vessel_53 2019-01-06 09:44:47.657473 1 [] []\n",
      "doors requested outbound_vessel_56\n",
      "claiming lock: priority doors2 not -1 outbound_vessel_56 2019-01-06 09:44:47.657473\n",
      "waiting done outbound_vessel_56 2019-01-06 09:44:47.657473\n",
      "outbound_vessel_56 sail to assigned lock position\n",
      "print doors outbound_vessel_56 ['outbound_vessel_56'] ['outbound_vessel_56']\n",
      "left doors1 outbound_vessel_56 2019-01-06 09:55:54.324140 0 ['outbound_vessel_58'] ['outbound_vessel_56']\n",
      "outbound_vessel_56 in lock ['outbound_vessel_56', 'outbound_vessel_58']\n",
      "waiting for others outbound_vessel_56\n",
      "doors requested outbound_vessel_58\n",
      "claiming lock: priority doors2 is -1 outbound_vessel_58 2019-01-06 09:55:54.324140\n",
      "waiting done outbound_vessel_58 2019-01-06 09:55:54.324140\n",
      "outbound_vessel_58 sail to assigned lock position\n",
      "outbound_vessel_59 start waiting time 2019-01-06 10:06:05.435251\n",
      "outbound_vessel_59 lock position given 2019-01-06 10:06:05.435251\n",
      "outbound_vessel_59 requested place in next lockage 2019-01-06 10:06:05.435251\n",
      "claim the lock doors outbound_vessel_59 2019-01-06 10:06:05.435251\n",
      "lock not empty outbound_vessel_59 ['outbound_vessel_56', 'outbound_vessel_58']\n",
      "lock is ready to be entered 2019-01-06 10:06:05.435251\n",
      "print doors outbound_vessel_58 ['outbound_vessel_58'] ['outbound_vessel_58']\n",
      "left doors1 outbound_vessel_58 2019-01-06 10:10:43.213029 0 ['outbound_vessel_59'] ['outbound_vessel_58']\n",
      "outbound_vessel_58 in lock ['outbound_vessel_56', 'outbound_vessel_58', 'outbound_vessel_59']\n",
      "waiting for others outbound_vessel_58\n",
      "lock doors claimed outbound_vessel_59 2019-01-06 10:10:43.213029\n",
      "waiting done outbound_vessel_59 2019-01-06 10:10:43.213029\n",
      "outbound_vessel_59 sail to assigned lock position\n",
      "outbound_vessel_60 start waiting time 2019-01-06 10:12:34.324140\n",
      "wait for lockage True ['outbound_vessel_56', 'outbound_vessel_58', 'outbound_vessel_59'] False\n",
      "print doors outbound_vessel_59 ['outbound_vessel_59'] ['outbound_vessel_59']\n",
      "left doors1 outbound_vessel_59 2019-01-06 10:18:07.657473 0 [] ['outbound_vessel_59']\n",
      "outbound_vessel_59 in lock ['outbound_vessel_56', 'outbound_vessel_58', 'outbound_vessel_59']\n",
      "outbound_vessel_59 converting hap 2019-01-06 10:18:07.657473\n",
      "hi 2019-01-06 10:18:07.657473\n",
      "2019-01-06 10:18:07.657473 Node_50 Node_49 Lock doors closing start\n",
      "waiting for others done outbound_vessel_56\n"
     ]
    },
    {
     "name": "stderr",
     "output_type": "stream",
     "text": [
      "c:\\users\\floorbakker\\opentnsim\\opentnsim\\lock.py:711: UserWarning:\n",
      "\n",
      "Converting non-nanosecond precision datetime values to nanosecond precision. This behavior can eventually be relaxed in xarray, as it is an artifact from pandas which is now beginning to support non-nanosecond precision values. This warning is caused by passing non-nanosecond np.datetime64 or np.timedelta64 values to the DataArray or Variable constructor; it can be silenced by converting the values to nanosecond precision ahead of time.\n",
      "\n"
     ]
    },
    {
     "name": "stdout",
     "output_type": "stream",
     "text": [
      "inbound_vessel_54 start waiting time 2019-01-06 10:31:05.692117\n",
      "inbound_vessel_54 lock position given 2019-01-06 10:31:05.692117\n",
      "inbound_vessel_54 requested place in next lockage 2019-01-06 10:31:05.692117\n",
      "claim the lock doors inbound_vessel_54 2019-01-06 10:31:05.692117\n",
      "lock not empty inbound_vessel_54 ['outbound_vessel_56', 'outbound_vessel_58', 'outbound_vessel_59']\n",
      "lock is already converting inbound_vessel_54 2019-01-06 10:31:05.692117 ['outbound_vessel_56', 'outbound_vessel_58', 'outbound_vessel_59']\n",
      "waiting for others done outbound_vessel_58\n",
      "outbound_vessel_59 hap is geconvert 2019-01-06 10:49:28.768584\n",
      "outbound_vessel_60 lock position given 2019-01-06 10:55:02.101918\n",
      "outbound_vessel_60 requested place in next lockage 2019-01-06 10:55:02.101918\n",
      "claim the lock doors outbound_vessel_60 2019-01-06 10:55:02.101918\n",
      "requesting approach: else outbound_vessel_60 2019-01-06 10:55:02.101918 1 [] ['outbound_vessel_59']\n",
      "doors requested outbound_vessel_60\n",
      "claiming lock: priority doors2 is -1 outbound_vessel_60 2019-01-06 10:55:02.101918\n",
      "outbound_vessel_60 wth\n",
      "hi 2019-01-06 10:55:02.101918\n",
      "2019-01-06 10:55:02.101918 Node_49 Node_50 Lock doors closing start\n"
     ]
    },
    {
     "name": "stderr",
     "output_type": "stream",
     "text": [
      "c:\\users\\floorbakker\\opentnsim\\opentnsim\\lock.py:711: UserWarning:\n",
      "\n",
      "Converting non-nanosecond precision datetime values to nanosecond precision. This behavior can eventually be relaxed in xarray, as it is an artifact from pandas which is now beginning to support non-nanosecond precision values. This warning is caused by passing non-nanosecond np.datetime64 or np.timedelta64 values to the DataArray or Variable constructor; it can be silenced by converting the values to nanosecond precision ahead of time.\n",
      "\n"
     ]
    },
    {
     "name": "stdout",
     "output_type": "stream",
     "text": [
      "waiting done outbound_vessel_60 2019-01-06 11:37:02.101918\n",
      "outbound_vessel_60 sail to assigned lock position\n",
      "outbound_vessel_61 start waiting time 2019-01-06 11:47:13.213029\n",
      "outbound_vessel_61 lock position given 2019-01-06 11:47:13.213029\n",
      "outbound_vessel_61 requested place in next lockage 2019-01-06 11:47:13.213029\n",
      "claim the lock doors outbound_vessel_61 2019-01-06 11:47:13.213029\n",
      "lock not empty outbound_vessel_61 ['outbound_vessel_60']\n",
      "lock is ready to be entered 2019-01-06 11:47:13.213029\n",
      "print doors outbound_vessel_60 ['outbound_vessel_60'] ['outbound_vessel_60']\n",
      "left doors1 outbound_vessel_60 2019-01-06 11:51:50.990807 0 ['outbound_vessel_61'] ['outbound_vessel_60']\n",
      "outbound_vessel_60 in lock ['outbound_vessel_60', 'outbound_vessel_61']\n",
      "waiting for others outbound_vessel_60\n",
      "lock doors claimed outbound_vessel_61 2019-01-06 11:51:50.990807\n",
      "waiting done outbound_vessel_61 2019-01-06 11:51:50.990807\n",
      "outbound_vessel_61 sail to assigned lock position\n",
      "print doors outbound_vessel_61 ['outbound_vessel_61'] ['outbound_vessel_61']\n",
      "left doors1 outbound_vessel_61 2019-01-06 11:59:15.435251 0 [] ['outbound_vessel_61']\n",
      "outbound_vessel_61 in lock ['outbound_vessel_60', 'outbound_vessel_61']\n",
      "outbound_vessel_61 converting hap 2019-01-06 11:59:15.435251\n",
      "hi 2019-01-06 11:59:15.435251\n",
      "2019-01-06 11:59:15.435251 Node_50 Node_49 Lock doors closing start\n",
      "waiting for others done outbound_vessel_60\n"
     ]
    },
    {
     "name": "stderr",
     "output_type": "stream",
     "text": [
      "c:\\users\\floorbakker\\opentnsim\\opentnsim\\lock.py:711: UserWarning:\n",
      "\n",
      "Converting non-nanosecond precision datetime values to nanosecond precision. This behavior can eventually be relaxed in xarray, as it is an artifact from pandas which is now beginning to support non-nanosecond precision values. This warning is caused by passing non-nanosecond np.datetime64 or np.timedelta64 values to the DataArray or Variable constructor; it can be silenced by converting the values to nanosecond precision ahead of time.\n",
      "\n"
     ]
    },
    {
     "name": "stdout",
     "output_type": "stream",
     "text": [
      "hey ho inbound_vessel_55 ['inbound_vessel_54']\n",
      "yo inbound_vessel_55 2019-01-06 12:16:27.235534 ['inbound_vessel_54']\n",
      "outbound_vessel_61 hap is geconvert 2019-01-06 12:57:36.546362\n",
      "outbound_vessel_62 start waiting time 2019-01-06 12:58:27.988911\n",
      "wait for lockage True ['outbound_vessel_61'] True\n",
      "outbound_vessel_62 lock position given 2019-01-06 13:03:09.879696\n",
      "outbound_vessel_62 requested place in next lockage 2019-01-06 13:03:09.879696\n",
      "claim the lock doors outbound_vessel_62 2019-01-06 13:03:09.879696\n",
      "requesting approach: else outbound_vessel_62 2019-01-06 13:03:09.879696 0 [] ['outbound_vessel_61']\n",
      "doors requested outbound_vessel_62\n",
      "claiming lock: priority doors2 is -1 outbound_vessel_62 2019-01-06 13:03:09.879696\n",
      "outbound_vessel_62 wth\n",
      "hi 2019-01-06 13:03:09.879696\n",
      "2019-01-06 13:03:09.879696 Node_49 Node_50 Lock doors closing start\n"
     ]
    },
    {
     "name": "stderr",
     "output_type": "stream",
     "text": [
      "c:\\users\\floorbakker\\opentnsim\\opentnsim\\lock.py:711: UserWarning:\n",
      "\n",
      "Converting non-nanosecond precision datetime values to nanosecond precision. This behavior can eventually be relaxed in xarray, as it is an artifact from pandas which is now beginning to support non-nanosecond precision values. This warning is caused by passing non-nanosecond np.datetime64 or np.timedelta64 values to the DataArray or Variable constructor; it can be silenced by converting the values to nanosecond precision ahead of time.\n",
      "\n"
     ]
    },
    {
     "name": "stdout",
     "output_type": "stream",
     "text": [
      "inbound_vessel_55 start waiting time 2019-01-06 13:14:01.402201\n",
      "claim the lock doors inbound_vessel_55 2019-01-06 13:14:01.402201\n",
      "wait in lock first 2019-01-06 13:14:01.402201\n",
      "outbound_vessel_63 start waiting time 2019-01-06 13:32:28.826898\n",
      "outbound_vessel_63 lock position given 2019-01-06 13:32:28.826898\n",
      "outbound_vessel_63 requested place in next lockage 2019-01-06 13:32:28.826898\n",
      "claim the lock doors outbound_vessel_63 2019-01-06 13:32:28.826898\n",
      "lock is empty and not converting outbound_vessel_63 2019-01-06 13:32:28.826898 0 []\n",
      "waiting done outbound_vessel_62 2019-01-06 14:02:09.879696\n",
      "outbound_vessel_62 sail to assigned lock position\n",
      "print doors outbound_vessel_62 ['outbound_vessel_62'] ['outbound_vessel_62']\n",
      "left doors1 outbound_vessel_62 2019-01-06 14:13:16.546362 0 ['outbound_vessel_63'] ['outbound_vessel_62']\n",
      "outbound_vessel_62 in lock ['outbound_vessel_62', 'outbound_vessel_63']\n",
      "waiting for others outbound_vessel_62\n",
      "lock doors claimed outbound_vessel_63 2019-01-06 14:13:16.546362\n",
      "waiting done outbound_vessel_63 2019-01-06 14:13:16.546362\n",
      "outbound_vessel_63 sail to assigned lock position\n",
      "print doors outbound_vessel_63 ['outbound_vessel_62'] ['outbound_vessel_63']\n",
      "left doors1 outbound_vessel_63 2019-01-06 14:24:23.213029 0 ['inbound_vessel_55'] ['outbound_vessel_62']\n",
      "outbound_vessel_63 in lock ['outbound_vessel_62', 'outbound_vessel_63']\n",
      "requesting approach: else inbound_vessel_55 2019-01-06 14:24:23.213029 2 ['outbound_vessel_62'] []\n",
      "outbound_vessel_63 converting hap 2019-01-06 14:24:23.213029\n",
      "hi 2019-01-06 14:24:23.213029\n",
      "2019-01-06 14:24:23.213029 Node_50 Node_49 Lock doors closing start\n",
      "waiting for others done outbound_vessel_62\n"
     ]
    },
    {
     "name": "stderr",
     "output_type": "stream",
     "text": [
      "c:\\users\\floorbakker\\opentnsim\\opentnsim\\lock.py:711: UserWarning:\n",
      "\n",
      "Converting non-nanosecond precision datetime values to nanosecond precision. This behavior can eventually be relaxed in xarray, as it is an artifact from pandas which is now beginning to support non-nanosecond precision values. This warning is caused by passing non-nanosecond np.datetime64 or np.timedelta64 values to the DataArray or Variable constructor; it can be silenced by converting the values to nanosecond precision ahead of time.\n",
      "\n"
     ]
    },
    {
     "name": "stdout",
     "output_type": "stream",
     "text": [
      "outbound_vessel_64 start waiting time 2019-01-06 15:23:36.569420\n",
      "wait for lockage True ['outbound_vessel_63'] True\n",
      "left doors2 outbound_vessel_62 2019-01-06 15:23:44.324140 0 [] []\n",
      "outbound_vessel_63 hap is geconvert 2019-01-06 15:23:44.324140\n",
      "outbound_vessel_64 lock position given 2019-01-06 15:29:17.657474\n",
      "outbound_vessel_64 requested place in next lockage 2019-01-06 15:29:17.657474\n",
      "claim the lock doors outbound_vessel_64 2019-01-06 15:29:17.657474\n",
      "requesting approach: else outbound_vessel_64 2019-01-06 15:29:17.657474 0 [] ['outbound_vessel_63']\n",
      "doors requested outbound_vessel_64\n",
      "claiming lock: priority doors2 is -1 outbound_vessel_64 2019-01-06 15:29:17.657474\n",
      "outbound_vessel_64 wth\n",
      "hi 2019-01-06 15:29:17.657474\n",
      "2019-01-06 15:29:17.657474 Node_49 Node_50 Lock doors closing start\n"
     ]
    },
    {
     "name": "stderr",
     "output_type": "stream",
     "text": [
      "c:\\users\\floorbakker\\opentnsim\\opentnsim\\lock.py:711: UserWarning:\n",
      "\n",
      "Converting non-nanosecond precision datetime values to nanosecond precision. This behavior can eventually be relaxed in xarray, as it is an artifact from pandas which is now beginning to support non-nanosecond precision values. This warning is caused by passing non-nanosecond np.datetime64 or np.timedelta64 values to the DataArray or Variable constructor; it can be silenced by converting the values to nanosecond precision ahead of time.\n",
      "\n"
     ]
    },
    {
     "name": "stdout",
     "output_type": "stream",
     "text": [
      "waiting done outbound_vessel_64 2019-01-06 16:10:17.657474\n",
      "outbound_vessel_64 sail to assigned lock position\n",
      "print doors outbound_vessel_64 ['outbound_vessel_64'] ['outbound_vessel_64']\n",
      "left doors1 outbound_vessel_64 2019-01-06 16:21:24.324140 0 [] ['outbound_vessel_64']\n",
      "outbound_vessel_64 in lock ['outbound_vessel_64']\n",
      "outbound_vessel_64 converting hap 2019-01-06 16:21:24.324140\n",
      "hi 2019-01-06 16:21:24.324140\n",
      "2019-01-06 16:21:24.324140 Node_50 Node_49 Lock doors closing start\n",
      "hey ho outbound_vessel_65 ['outbound_vessel_64']\n",
      "outbound_vessel_64 hap is geconvert 2019-01-06 16:41:24.324140\n",
      "left doors2 outbound_vessel_64 2019-01-06 16:45:45.435251 0 [] []\n",
      "lock doors claimed inbound_vessel_54 2019-01-06 16:45:45.435251\n",
      "first in line to claim lock inbound_vessel_54 2019-01-06 16:45:45.435251\n",
      "waiting done inbound_vessel_54 2019-01-06 16:45:45.435251\n",
      "inbound_vessel_54 sail to assigned lock position\n",
      "print doors inbound_vessel_54 ['inbound_vessel_54'] ['inbound_vessel_54']\n",
      "left doors1 inbound_vessel_54 2019-01-06 16:56:52.101918 ['inbound_vessel_55'] 1 ['inbound_vessel_54']\n",
      "inbound_vessel_54 in lock ['inbound_vessel_54', 'inbound_vessel_55']\n",
      "waiting for others inbound_vessel_54\n",
      "doors requested inbound_vessel_55\n",
      "claiming lock: priority doors2 is -1 inbound_vessel_55 2019-01-06 16:56:52.101918\n",
      "waiting done inbound_vessel_55 2019-01-06 16:56:52.101918\n",
      "hey ho outbound_vessel_66 []\n",
      "hi outbound_vessel_66 2019-01-06 17:01:12.116725 0\n",
      "inbound_vessel_55 sail to assigned lock position\n",
      "inbound_vessel_56 start waiting time 2019-01-06 17:07:03.213029\n",
      "wait for lockage True ['inbound_vessel_54', 'inbound_vessel_55'] False\n",
      "print doors inbound_vessel_55 ['inbound_vessel_55'] ['inbound_vessel_55']\n",
      "left doors1 inbound_vessel_55 2019-01-06 17:07:58.768585 [] 1 ['inbound_vessel_55']\n",
      "inbound_vessel_55 in lock ['inbound_vessel_54', 'inbound_vessel_55']\n",
      "inbound_vessel_55 converting hap 2019-01-06 17:07:58.768585\n",
      "hi 2019-01-06 17:07:58.768585\n",
      "2019-01-06 17:07:58.768585 Node_49 Node_50 Lock doors closing start\n",
      "waiting for others done inbound_vessel_54\n"
     ]
    },
    {
     "name": "stderr",
     "output_type": "stream",
     "text": [
      "c:\\users\\floorbakker\\opentnsim\\opentnsim\\lock.py:711: UserWarning:\n",
      "\n",
      "Converting non-nanosecond precision datetime values to nanosecond precision. This behavior can eventually be relaxed in xarray, as it is an artifact from pandas which is now beginning to support non-nanosecond precision values. This warning is caused by passing non-nanosecond np.datetime64 or np.timedelta64 values to the DataArray or Variable constructor; it can be silenced by converting the values to nanosecond precision ahead of time.\n",
      "\n"
     ]
    },
    {
     "name": "stdout",
     "output_type": "stream",
     "text": [
      "outbound_vessel_65 start waiting time 2019-01-06 17:34:44.603597\n",
      "outbound_vessel_65 lock position given 2019-01-06 17:34:44.603597\n",
      "outbound_vessel_65 requested place in next lockage 2019-01-06 17:34:44.603597\n",
      "claim the lock doors outbound_vessel_65 2019-01-06 17:34:44.603597\n",
      "lock not empty outbound_vessel_65 ['inbound_vessel_54', 'inbound_vessel_55']\n",
      "lock is already converting outbound_vessel_65 2019-01-06 17:34:44.603597 ['inbound_vessel_54', 'inbound_vessel_55']\n",
      "inbound_vessel_55 hap is geconvert 2019-01-06 17:53:19.879696\n",
      "outbound_vessel_66 start waiting time 2019-01-06 17:58:46.283392\n",
      "claim the lock doors outbound_vessel_66 2019-01-06 17:58:46.283392\n",
      "lock not empty outbound_vessel_66 ['inbound_vessel_55']\n",
      "lock is already converting outbound_vessel_66 2019-01-06 17:58:46.283392 ['inbound_vessel_55']\n",
      "inbound_vessel_56 lock position given 2019-01-06 17:58:53.213029\n",
      "inbound_vessel_56 requested place in next lockage 2019-01-06 17:58:53.213029\n",
      "claim the lock doors inbound_vessel_56 2019-01-06 17:58:53.213029\n",
      "requesting approach: else inbound_vessel_56 2019-01-06 17:58:53.213029 0 [] ['inbound_vessel_55']\n",
      "doors requested inbound_vessel_56\n",
      "claiming lock: priority doors2 is -1 inbound_vessel_56 2019-01-06 17:58:53.213029\n",
      "inbound_vessel_56 wth\n",
      "hi 2019-01-06 17:58:53.213029\n",
      "2019-01-06 17:58:53.213029 Node_50 Node_49 Lock doors closing start\n",
      "inbound_vessel_57 start waiting time 2019-01-06 18:08:31.260608\n",
      "inbound_vessel_57 lock position given 2019-01-06 18:08:31.260608\n",
      "inbound_vessel_57 requested place in next lockage 2019-01-06 18:08:31.260608\n",
      "claim the lock doors inbound_vessel_57 2019-01-06 18:08:31.260608\n",
      "requesting approach: else inbound_vessel_57 2019-01-06 18:08:31.260608 0 ['inbound_vessel_56'] ['inbound_vessel_56']\n"
     ]
    },
    {
     "name": "stderr",
     "output_type": "stream",
     "text": [
      "c:\\users\\floorbakker\\opentnsim\\opentnsim\\lock.py:711: UserWarning:\n",
      "\n",
      "Converting non-nanosecond precision datetime values to nanosecond precision. This behavior can eventually be relaxed in xarray, as it is an artifact from pandas which is now beginning to support non-nanosecond precision values. This warning is caused by passing non-nanosecond np.datetime64 or np.timedelta64 values to the DataArray or Variable constructor; it can be silenced by converting the values to nanosecond precision ahead of time.\n",
      "\n"
     ]
    },
    {
     "name": "stdout",
     "output_type": "stream",
     "text": [
      "waiting done inbound_vessel_56 2019-01-06 18:50:53.213029\n",
      "inbound_vessel_56 sail to assigned lock position\n",
      "print doors inbound_vessel_56 ['inbound_vessel_56'] ['inbound_vessel_56']\n",
      "left doors1 inbound_vessel_56 2019-01-06 19:01:59.879696 ['inbound_vessel_57'] 1 ['inbound_vessel_56']\n",
      "inbound_vessel_56 in lock ['inbound_vessel_56', 'inbound_vessel_57']\n",
      "waiting for others inbound_vessel_56\n",
      "doors requested inbound_vessel_57\n",
      "claiming lock: priority doors2 is -1 inbound_vessel_57 2019-01-06 19:01:59.879696\n",
      "waiting done inbound_vessel_57 2019-01-06 19:01:59.879696\n",
      "inbound_vessel_57 sail to assigned lock position\n",
      "print doors inbound_vessel_57 ['inbound_vessel_57'] ['inbound_vessel_57']\n",
      "left doors1 inbound_vessel_57 2019-01-06 19:13:06.546363 [] 1 ['inbound_vessel_57']\n",
      "inbound_vessel_57 in lock ['inbound_vessel_56', 'inbound_vessel_57']\n",
      "inbound_vessel_57 converting hap 2019-01-06 19:13:06.546363\n",
      "hi 2019-01-06 19:13:06.546363\n",
      "2019-01-06 19:13:06.546363 Node_49 Node_50 Lock doors closing start\n",
      "waiting for others done inbound_vessel_56\n"
     ]
    },
    {
     "name": "stderr",
     "output_type": "stream",
     "text": [
      "c:\\users\\floorbakker\\opentnsim\\opentnsim\\lock.py:711: UserWarning:\n",
      "\n",
      "Converting non-nanosecond precision datetime values to nanosecond precision. This behavior can eventually be relaxed in xarray, as it is an artifact from pandas which is now beginning to support non-nanosecond precision values. This warning is caused by passing non-nanosecond np.datetime64 or np.timedelta64 values to the DataArray or Variable constructor; it can be silenced by converting the values to nanosecond precision ahead of time.\n",
      "\n"
     ]
    },
    {
     "name": "stdout",
     "output_type": "stream",
     "text": [
      "inbound_vessel_57 hap is geconvert 2019-01-06 20:16:27.657474\n",
      "left doors2 inbound_vessel_57 2019-01-06 20:24:30.990807 1 [] []\n",
      "lock doors claimed outbound_vessel_65 2019-01-06 20:24:30.990807\n",
      "first in line to claim lock outbound_vessel_65 2019-01-06 20:24:30.990807\n",
      "waiting done outbound_vessel_65 2019-01-06 20:24:30.990807\n",
      "outbound_vessel_65 sail to assigned lock position\n",
      "print doors outbound_vessel_65 ['outbound_vessel_65'] ['outbound_vessel_65']\n",
      "left doors1 outbound_vessel_65 2019-01-06 20:31:55.435252 0 ['outbound_vessel_66'] ['outbound_vessel_65']\n",
      "outbound_vessel_65 in lock ['outbound_vessel_66', 'outbound_vessel_65']\n",
      "lock doors claimed outbound_vessel_66 2019-01-06 20:31:55.435252\n",
      "second in line to claim lock outbound_vessel_66 2019-01-06 20:31:55.435252\n",
      "outbound_vessel_65 converting hap 2019-01-06 20:31:55.435252\n",
      "hi 2019-01-06 20:31:55.435252\n",
      "2019-01-06 20:31:55.435252 Node_50 Node_49 Lock doors closing start\n",
      "waiting done outbound_vessel_66 2019-01-06 20:31:55.435252\n",
      "hey ho inbound_vessel_58 []\n",
      "hi inbound_vessel_58 2019-01-06 20:34:49.691839 0\n",
      "outbound_vessel_66 sail to assigned lock position\n"
     ]
    },
    {
     "name": "stderr",
     "output_type": "stream",
     "text": [
      "c:\\users\\floorbakker\\opentnsim\\opentnsim\\lock.py:711: UserWarning:\n",
      "\n",
      "Converting non-nanosecond precision datetime values to nanosecond precision. This behavior can eventually be relaxed in xarray, as it is an artifact from pandas which is now beginning to support non-nanosecond precision values. This warning is caused by passing non-nanosecond np.datetime64 or np.timedelta64 values to the DataArray or Variable constructor; it can be silenced by converting the values to nanosecond precision ahead of time.\n",
      "\n"
     ]
    },
    {
     "name": "stdout",
     "output_type": "stream",
     "text": [
      "print doors outbound_vessel_66 ['outbound_vessel_66'] ['outbound_vessel_66']\n",
      "left doors1 outbound_vessel_66 2019-01-06 20:46:44.324141 0 [] ['outbound_vessel_66']\n",
      "outbound_vessel_66 in lock ['outbound_vessel_66', 'outbound_vessel_65']\n",
      "waiting for others outbound_vessel_66\n",
      "outbound_vessel_65 hap is geconvert 2019-01-06 21:27:55.435252\n",
      "inbound_vessel_58 start waiting time 2019-01-06 21:33:30.525172\n",
      "claim the lock doors inbound_vessel_58 2019-01-06 21:33:30.525172\n",
      "lock not empty inbound_vessel_58 ['outbound_vessel_66']\n",
      "lock is already converting inbound_vessel_58 2019-01-06 21:33:30.525172 ['outbound_vessel_66']\n",
      "outbound_vessel_67 start waiting time 2019-01-06 21:55:47.994689\n",
      "outbound_vessel_67 lock position given 2019-01-06 21:55:47.994689\n",
      "outbound_vessel_67 requested place in next lockage 2019-01-06 21:55:47.994689\n",
      "claim the lock doors outbound_vessel_67 2019-01-06 21:55:47.994689\n",
      "requesting approach: else outbound_vessel_67 2019-01-06 21:55:47.994689 1 [] ['outbound_vessel_66']\n",
      "doors requested outbound_vessel_67\n",
      "claiming lock: priority doors2 is -1 outbound_vessel_67 2019-01-06 21:55:47.994689\n",
      "outbound_vessel_67 wth\n",
      "hi 2019-01-06 21:55:47.994689\n",
      "2019-01-06 21:55:47.994689 Node_49 Node_50 Lock doors closing start\n"
     ]
    },
    {
     "name": "stderr",
     "output_type": "stream",
     "text": [
      "c:\\users\\floorbakker\\opentnsim\\opentnsim\\lock.py:711: UserWarning:\n",
      "\n",
      "Converting non-nanosecond precision datetime values to nanosecond precision. This behavior can eventually be relaxed in xarray, as it is an artifact from pandas which is now beginning to support non-nanosecond precision values. This warning is caused by passing non-nanosecond np.datetime64 or np.timedelta64 values to the DataArray or Variable constructor; it can be silenced by converting the values to nanosecond precision ahead of time.\n",
      "\n"
     ]
    },
    {
     "name": "stdout",
     "output_type": "stream",
     "text": [
      "waiting done outbound_vessel_67 2019-01-06 22:31:47.994689\n",
      "outbound_vessel_67 sail to assigned lock position\n",
      "print doors outbound_vessel_67 ['outbound_vessel_67'] ['outbound_vessel_67']\n",
      "left doors1 outbound_vessel_67 2019-01-06 22:42:54.661356 0 [] ['outbound_vessel_67']\n",
      "outbound_vessel_67 in lock ['outbound_vessel_66', 'outbound_vessel_67']\n",
      "outbound_vessel_67 converting hap 2019-01-06 22:42:54.661356\n",
      "hi 2019-01-06 22:42:54.661356\n",
      "2019-01-06 22:42:54.661356 Node_50 Node_49 Lock doors closing start\n",
      "waiting for others done outbound_vessel_66\n"
     ]
    },
    {
     "name": "stderr",
     "output_type": "stream",
     "text": [
      "c:\\users\\floorbakker\\opentnsim\\opentnsim\\lock.py:711: UserWarning:\n",
      "\n",
      "Converting non-nanosecond precision datetime values to nanosecond precision. This behavior can eventually be relaxed in xarray, as it is an artifact from pandas which is now beginning to support non-nanosecond precision values. This warning is caused by passing non-nanosecond np.datetime64 or np.timedelta64 values to the DataArray or Variable constructor; it can be silenced by converting the values to nanosecond precision ahead of time.\n",
      "\n"
     ]
    },
    {
     "name": "stdout",
     "output_type": "stream",
     "text": [
      "outbound_vessel_67 hap is geconvert 2019-01-06 23:08:15.772467\n",
      "hey ho outbound_vessel_68 []\n",
      "hi outbound_vessel_68 2019-01-06 23:12:27.380642 0\n",
      "left doors2 outbound_vessel_67 2019-01-06 23:12:36.883578 0 [] []\n",
      "lock doors claimed inbound_vessel_58 2019-01-06 23:12:36.883578\n",
      "first in line to claim lock inbound_vessel_58 2019-01-06 23:12:36.883578\n",
      "waiting done inbound_vessel_58 2019-01-06 23:12:36.883578\n",
      "inbound_vessel_58 sail to assigned lock position\n",
      "hey ho inbound_vessel_59 ['inbound_vessel_58']\n",
      "yo inbound_vessel_59 2019-01-06 23:17:54.122596 ['inbound_vessel_58']\n",
      "print doors inbound_vessel_58 ['inbound_vessel_58'] ['inbound_vessel_58']\n",
      "left doors1 inbound_vessel_58 2019-01-06 23:23:43.550245 [] 1 ['inbound_vessel_58']\n",
      "inbound_vessel_58 in lock ['inbound_vessel_58', 'inbound_vessel_59']\n",
      "waiting for others inbound_vessel_58\n",
      "outbound_vessel_68 start waiting time 2019-01-07 00:11:08.213975\n",
      "claim the lock doors outbound_vessel_68 2019-01-07 00:11:08.213975\n",
      "requesting approach: else outbound_vessel_68 2019-01-07 00:11:08.213975 1 ['inbound_vessel_58'] []\n",
      "inbound_vessel_59 start waiting time 2019-01-07 00:16:34.955929\n",
      "claim the lock doors inbound_vessel_59 2019-01-07 00:16:34.955929\n",
      "lock not empty inbound_vessel_59 ['inbound_vessel_58']\n",
      "lock is ready to be entered 2019-01-07 00:16:34.955929\n",
      "lock doors claimed inbound_vessel_59 2019-01-07 00:16:34.955929\n",
      "waiting done inbound_vessel_59 2019-01-07 00:16:34.955929\n",
      "inbound_vessel_59 sail to assigned lock position\n",
      "print doors inbound_vessel_59 ['inbound_vessel_59'] ['inbound_vessel_59']\n",
      "left doors1 inbound_vessel_59 2019-01-07 00:23:59.400374 [] 1 ['inbound_vessel_59']\n",
      "inbound_vessel_59 in lock ['inbound_vessel_58', 'inbound_vessel_59']\n",
      "inbound_vessel_59 converting hap 2019-01-07 00:23:59.400374\n",
      "hi 2019-01-07 00:23:59.400374\n",
      "2019-01-07 00:23:59.400374 Node_49 Node_50 Lock doors closing start\n",
      "waiting for others done inbound_vessel_58\n"
     ]
    },
    {
     "name": "stderr",
     "output_type": "stream",
     "text": [
      "c:\\users\\floorbakker\\opentnsim\\opentnsim\\lock.py:711: UserWarning:\n",
      "\n",
      "Converting non-nanosecond precision datetime values to nanosecond precision. This behavior can eventually be relaxed in xarray, as it is an artifact from pandas which is now beginning to support non-nanosecond precision values. This warning is caused by passing non-nanosecond np.datetime64 or np.timedelta64 values to the DataArray or Variable constructor; it can be silenced by converting the values to nanosecond precision ahead of time.\n",
      "\n"
     ]
    },
    {
     "name": "stdout",
     "output_type": "stream",
     "text": [
      "inbound_vessel_59 hap is geconvert 2019-01-07 01:21:20.511485\n",
      "left doors2 inbound_vessel_59 2019-01-07 01:29:23.844818 1 [] []\n",
      "doors requested outbound_vessel_68\n",
      "claiming lock: priority doors2 not -1 outbound_vessel_68 2019-01-07 01:29:23.844818\n",
      "waiting done outbound_vessel_68 2019-01-07 01:29:23.844818\n",
      "outbound_vessel_68 sail to assigned lock position\n",
      "print doors outbound_vessel_68 ['outbound_vessel_68'] ['outbound_vessel_68']\n",
      "left doors1 outbound_vessel_68 2019-01-07 01:40:30.511485 0 [] ['outbound_vessel_68']\n",
      "outbound_vessel_68 in lock ['outbound_vessel_68']\n",
      "outbound_vessel_68 converting hap 2019-01-07 01:40:30.511485\n",
      "hi 2019-01-07 01:40:30.511485\n",
      "2019-01-07 01:40:30.511485 Node_50 Node_49 Lock doors closing start\n"
     ]
    },
    {
     "name": "stderr",
     "output_type": "stream",
     "text": [
      "c:\\users\\floorbakker\\opentnsim\\opentnsim\\lock.py:711: UserWarning:\n",
      "\n",
      "Converting non-nanosecond precision datetime values to nanosecond precision. This behavior can eventually be relaxed in xarray, as it is an artifact from pandas which is now beginning to support non-nanosecond precision values. This warning is caused by passing non-nanosecond np.datetime64 or np.timedelta64 values to the DataArray or Variable constructor; it can be silenced by converting the values to nanosecond precision ahead of time.\n",
      "\n"
     ]
    },
    {
     "name": "stdout",
     "output_type": "stream",
     "text": [
      "hey ho outbound_vessel_69 ['outbound_vessel_68']\n",
      "outbound_vessel_68 hap is geconvert 2019-01-07 02:39:30.511485\n",
      "left doors2 outbound_vessel_68 2019-01-07 02:43:51.622596 0 [] []\n",
      "outbound_vessel_69 start waiting time 2019-01-07 02:54:19.198531\n",
      "outbound_vessel_69 lock position given 2019-01-07 02:54:19.198531\n",
      "outbound_vessel_69 requested place in next lockage 2019-01-07 02:54:19.198531\n",
      "claim the lock doors outbound_vessel_69 2019-01-07 02:54:19.198531\n",
      "else: claiming lock: priority doors2 not -1 outbound_vessel_69 2019-01-07 02:54:19.198531 0\n",
      "lock doors claimed, empty conversion requested outbound_vessel_69 2019-01-07 02:54:19.198531\n",
      "outbound_vessel_69 wth\n",
      "hi 2019-01-07 02:54:19.198531\n",
      "2019-01-07 02:54:19.198531 Node_49 Node_50 Lock doors closing start\n"
     ]
    },
    {
     "name": "stderr",
     "output_type": "stream",
     "text": [
      "c:\\users\\floorbakker\\opentnsim\\opentnsim\\lock.py:711: UserWarning:\n",
      "\n",
      "Converting non-nanosecond precision datetime values to nanosecond precision. This behavior can eventually be relaxed in xarray, as it is an artifact from pandas which is now beginning to support non-nanosecond precision values. This warning is caused by passing non-nanosecond np.datetime64 or np.timedelta64 values to the DataArray or Variable constructor; it can be silenced by converting the values to nanosecond precision ahead of time.\n",
      "\n"
     ]
    },
    {
     "name": "stdout",
     "output_type": "stream",
     "text": [
      "hey ho inbound_vessel_60 []\n",
      "hi inbound_vessel_60 2019-01-07 03:05:50.736770 0\n",
      "waiting done outbound_vessel_69 2019-01-07 03:49:19.198531\n",
      "outbound_vessel_69 sail to assigned lock position\n",
      "print doors outbound_vessel_69 ['outbound_vessel_69'] ['outbound_vessel_69']\n",
      "left doors1 outbound_vessel_69 2019-01-07 04:00:25.865198 0 [] ['outbound_vessel_69']\n",
      "outbound_vessel_69 in lock ['outbound_vessel_69']\n",
      "outbound_vessel_69 converting hap 2019-01-07 04:00:25.865198\n",
      "hi 2019-01-07 04:00:25.865198\n",
      "2019-01-07 04:00:25.865198 Node_50 Node_49 Lock doors closing start\n",
      "hey ho outbound_vessel_70 ['outbound_vessel_69']\n",
      "inbound_vessel_60 start waiting time 2019-01-07 04:04:31.570103\n",
      "claim the lock doors inbound_vessel_60 2019-01-07 04:04:31.570103\n",
      "requesting approach: else inbound_vessel_60 2019-01-07 04:04:31.570103 1 ['outbound_vessel_69'] []\n"
     ]
    },
    {
     "name": "stderr",
     "output_type": "stream",
     "text": [
      "c:\\users\\floorbakker\\opentnsim\\opentnsim\\lock.py:711: UserWarning:\n",
      "\n",
      "Converting non-nanosecond precision datetime values to nanosecond precision. This behavior can eventually be relaxed in xarray, as it is an artifact from pandas which is now beginning to support non-nanosecond precision values. This warning is caused by passing non-nanosecond np.datetime64 or np.timedelta64 values to the DataArray or Variable constructor; it can be silenced by converting the values to nanosecond precision ahead of time.\n",
      "\n"
     ]
    },
    {
     "name": "stdout",
     "output_type": "stream",
     "text": [
      "hey ho inbound_vessel_61 ['inbound_vessel_60']\n",
      "yo inbound_vessel_61 2019-01-07 04:11:53.772521 ['inbound_vessel_60']\n",
      "outbound_vessel_69 hap is geconvert 2019-01-07 04:41:25.865198\n",
      "left doors2 outbound_vessel_69 2019-01-07 04:45:46.976309 0 [] []\n",
      "doors requested inbound_vessel_60\n",
      "claiming lock: priority doors2 not -1 inbound_vessel_60 2019-01-07 04:45:46.976309\n",
      "waiting done inbound_vessel_60 2019-01-07 04:45:46.976309\n",
      "inbound_vessel_60 sail to assigned lock position\n",
      "print doors inbound_vessel_60 ['inbound_vessel_60'] ['inbound_vessel_60']\n",
      "left doors1 inbound_vessel_60 2019-01-07 04:56:53.642976 [] 1 ['inbound_vessel_60']\n",
      "inbound_vessel_60 in lock ['inbound_vessel_60', 'inbound_vessel_61']\n",
      "waiting for others inbound_vessel_60\n",
      "outbound_vessel_70 start waiting time 2019-01-07 04:59:24.891018\n",
      "outbound_vessel_70 lock position given 2019-01-07 04:59:24.891018\n",
      "outbound_vessel_70 requested place in next lockage 2019-01-07 04:59:24.891018\n",
      "claim the lock doors outbound_vessel_70 2019-01-07 04:59:24.891018\n",
      "requesting approach: else outbound_vessel_70 2019-01-07 04:59:24.891018 1 ['inbound_vessel_60'] []\n",
      "inbound_vessel_61 start waiting time 2019-01-07 05:10:34.605854\n",
      "claim the lock doors inbound_vessel_61 2019-01-07 05:10:34.605854\n",
      "lock not empty inbound_vessel_61 ['inbound_vessel_60']\n",
      "lock is ready to be entered 2019-01-07 05:10:34.605854\n",
      "lock doors claimed inbound_vessel_61 2019-01-07 05:10:34.605854\n",
      "waiting done inbound_vessel_61 2019-01-07 05:10:34.605854\n",
      "inbound_vessel_61 sail to assigned lock position\n",
      "print doors inbound_vessel_61 ['inbound_vessel_61'] ['inbound_vessel_61']\n",
      "left doors1 inbound_vessel_61 2019-01-07 05:17:59.050299 [] 1 ['inbound_vessel_61']\n",
      "inbound_vessel_61 in lock ['inbound_vessel_60', 'inbound_vessel_61']\n",
      "inbound_vessel_61 converting hap 2019-01-07 05:17:59.050299\n",
      "hi 2019-01-07 05:17:59.050299\n",
      "2019-01-07 05:17:59.050299 Node_49 Node_50 Lock doors closing start\n",
      "waiting for others done inbound_vessel_60\n"
     ]
    },
    {
     "name": "stderr",
     "output_type": "stream",
     "text": [
      "c:\\users\\floorbakker\\opentnsim\\opentnsim\\lock.py:711: UserWarning:\n",
      "\n",
      "Converting non-nanosecond precision datetime values to nanosecond precision. This behavior can eventually be relaxed in xarray, as it is an artifact from pandas which is now beginning to support non-nanosecond precision values. This warning is caused by passing non-nanosecond np.datetime64 or np.timedelta64 values to the DataArray or Variable constructor; it can be silenced by converting the values to nanosecond precision ahead of time.\n",
      "\n"
     ]
    },
    {
     "name": "stdout",
     "output_type": "stream",
     "text": [
      "inbound_vessel_61 hap is geconvert 2019-01-07 05:56:20.161410\n",
      "left doors2 inbound_vessel_61 2019-01-07 06:04:23.494743 1 [] []\n",
      "doors requested outbound_vessel_70\n",
      "claiming lock: priority doors2 not -1 outbound_vessel_70 2019-01-07 06:04:23.494743\n",
      "waiting done outbound_vessel_70 2019-01-07 06:04:23.494743\n",
      "outbound_vessel_70 sail to assigned lock position\n",
      "print doors outbound_vessel_70 ['outbound_vessel_70'] ['outbound_vessel_70']\n",
      "left doors1 outbound_vessel_70 2019-01-07 06:15:30.161410 0 [] ['outbound_vessel_70']\n",
      "outbound_vessel_70 in lock ['outbound_vessel_70']\n",
      "outbound_vessel_70 converting hap 2019-01-07 06:15:30.161410\n",
      "hi 2019-01-07 06:15:30.161410\n",
      "2019-01-07 06:15:30.161410 Node_50 Node_49 Lock doors closing start\n"
     ]
    },
    {
     "name": "stderr",
     "output_type": "stream",
     "text": [
      "c:\\users\\floorbakker\\opentnsim\\opentnsim\\lock.py:711: UserWarning:\n",
      "\n",
      "Converting non-nanosecond precision datetime values to nanosecond precision. This behavior can eventually be relaxed in xarray, as it is an artifact from pandas which is now beginning to support non-nanosecond precision values. This warning is caused by passing non-nanosecond np.datetime64 or np.timedelta64 values to the DataArray or Variable constructor; it can be silenced by converting the values to nanosecond precision ahead of time.\n",
      "\n"
     ]
    },
    {
     "name": "stdout",
     "output_type": "stream",
     "text": [
      "hey ho inbound_vessel_62 []\n",
      "hi inbound_vessel_62 2019-01-07 06:50:21.305973 0\n",
      "outbound_vessel_70 hap is geconvert 2019-01-07 07:05:30.161410\n",
      "left doors2 outbound_vessel_70 2019-01-07 07:09:51.272521 0 [] []\n",
      "hey ho outbound_vessel_71 []\n",
      "hi outbound_vessel_71 2019-01-07 07:40:49.529772 0\n",
      "inbound_vessel_62 start waiting time 2019-01-07 07:49:02.139306\n",
      "claim the lock doors inbound_vessel_62 2019-01-07 07:49:02.139306\n",
      "lock is empty and not converting inbound_vessel_62 2019-01-07 07:49:02.139306 0 []\n",
      "lock doors claimed inbound_vessel_62 2019-01-07 07:49:02.139306\n",
      "waiting done inbound_vessel_62 2019-01-07 07:49:02.139306\n",
      "inbound_vessel_62 sail to assigned lock position\n",
      "print doors inbound_vessel_62 ['inbound_vessel_62'] ['inbound_vessel_62']\n",
      "left doors1 inbound_vessel_62 2019-01-07 08:00:08.805973 [] 1 ['inbound_vessel_62']\n",
      "inbound_vessel_62 in lock ['inbound_vessel_62']\n",
      "inbound_vessel_62 converting hap 2019-01-07 08:00:08.805973\n",
      "hi 2019-01-07 08:00:08.805973\n",
      "2019-01-07 08:00:08.805973 Node_49 Node_50 Lock doors closing start\n"
     ]
    },
    {
     "name": "stderr",
     "output_type": "stream",
     "text": [
      "c:\\users\\floorbakker\\opentnsim\\opentnsim\\lock.py:711: UserWarning:\n",
      "\n",
      "Converting non-nanosecond precision datetime values to nanosecond precision. This behavior can eventually be relaxed in xarray, as it is an artifact from pandas which is now beginning to support non-nanosecond precision values. This warning is caused by passing non-nanosecond np.datetime64 or np.timedelta64 values to the DataArray or Variable constructor; it can be silenced by converting the values to nanosecond precision ahead of time.\n",
      "\n"
     ]
    },
    {
     "name": "stdout",
     "output_type": "stream",
     "text": [
      "outbound_vessel_71 start waiting time 2019-01-07 08:39:30.363105\n",
      "claim the lock doors outbound_vessel_71 2019-01-07 08:39:30.363105\n",
      "lock not empty outbound_vessel_71 ['inbound_vessel_62']\n",
      "lock is already converting outbound_vessel_71 2019-01-07 08:39:30.363105 ['inbound_vessel_62']\n",
      "inbound_vessel_62 hap is geconvert 2019-01-07 08:59:08.805973\n",
      "left doors2 inbound_vessel_62 2019-01-07 09:03:29.917084 1 [] []\n",
      "lock doors claimed outbound_vessel_71 2019-01-07 09:03:29.917084\n",
      "first in line to claim lock outbound_vessel_71 2019-01-07 09:03:29.917084\n",
      "waiting done outbound_vessel_71 2019-01-07 09:03:29.917084\n",
      "outbound_vessel_71 sail to assigned lock position\n",
      "print doors outbound_vessel_71 ['outbound_vessel_71'] ['outbound_vessel_71']\n",
      "left doors1 outbound_vessel_71 2019-01-07 09:14:36.583751 0 [] ['outbound_vessel_71']\n",
      "outbound_vessel_71 in lock ['outbound_vessel_71']\n",
      "outbound_vessel_71 converting hap 2019-01-07 09:14:36.583751\n",
      "hi 2019-01-07 09:14:36.583751\n",
      "2019-01-07 09:14:36.583751 Node_50 Node_49 Lock doors closing start\n"
     ]
    },
    {
     "name": "stderr",
     "output_type": "stream",
     "text": [
      "c:\\users\\floorbakker\\opentnsim\\opentnsim\\lock.py:711: UserWarning:\n",
      "\n",
      "Converting non-nanosecond precision datetime values to nanosecond precision. This behavior can eventually be relaxed in xarray, as it is an artifact from pandas which is now beginning to support non-nanosecond precision values. This warning is caused by passing non-nanosecond np.datetime64 or np.timedelta64 values to the DataArray or Variable constructor; it can be silenced by converting the values to nanosecond precision ahead of time.\n",
      "\n"
     ]
    },
    {
     "name": "stdout",
     "output_type": "stream",
     "text": [
      "hey ho inbound_vessel_63 []\n",
      "hi inbound_vessel_63 2019-01-07 09:38:24.553518 0\n",
      "outbound_vessel_71 hap is geconvert 2019-01-07 10:08:36.583751\n",
      "left doors2 outbound_vessel_71 2019-01-07 10:12:57.694862 0 [] []\n",
      "inbound_vessel_63 start waiting time 2019-01-07 10:37:05.386851\n",
      "claim the lock doors inbound_vessel_63 2019-01-07 10:37:05.386851\n",
      "lock is empty and not converting inbound_vessel_63 2019-01-07 10:37:05.386851 0 []\n",
      "lock doors claimed inbound_vessel_63 2019-01-07 10:37:05.386851\n",
      "waiting done inbound_vessel_63 2019-01-07 10:37:05.386851\n",
      "inbound_vessel_63 sail to assigned lock position\n",
      "print doors inbound_vessel_63 ['inbound_vessel_63'] ['inbound_vessel_63']\n",
      "left doors1 inbound_vessel_63 2019-01-07 10:48:12.053518 [] 1 ['inbound_vessel_63']\n",
      "inbound_vessel_63 in lock ['inbound_vessel_63']\n",
      "inbound_vessel_63 converting hap 2019-01-07 10:48:12.053518\n",
      "hi 2019-01-07 10:48:12.053518\n",
      "2019-01-07 10:48:12.053518 Node_49 Node_50 Lock doors closing start\n"
     ]
    },
    {
     "name": "stderr",
     "output_type": "stream",
     "text": [
      "c:\\users\\floorbakker\\opentnsim\\opentnsim\\lock.py:711: UserWarning:\n",
      "\n",
      "Converting non-nanosecond precision datetime values to nanosecond precision. This behavior can eventually be relaxed in xarray, as it is an artifact from pandas which is now beginning to support non-nanosecond precision values. This warning is caused by passing non-nanosecond np.datetime64 or np.timedelta64 values to the DataArray or Variable constructor; it can be silenced by converting the values to nanosecond precision ahead of time.\n",
      "\n"
     ]
    },
    {
     "name": "stdout",
     "output_type": "stream",
     "text": [
      "hey ho outbound_vessel_72 []\n",
      "hi outbound_vessel_72 2019-01-07 11:00:52.412163 0\n",
      "inbound_vessel_63 hap is geconvert 2019-01-07 11:15:12.053518\n",
      "left doors2 inbound_vessel_63 2019-01-07 11:19:33.164629 1 [] []\n",
      "outbound_vessel_72 start waiting time 2019-01-07 11:59:33.245496\n",
      "claim the lock doors outbound_vessel_72 2019-01-07 11:59:33.245496\n",
      "lock is empty and not converting outbound_vessel_72 2019-01-07 11:59:33.245496 0 []\n",
      "lock doors claimed outbound_vessel_72 2019-01-07 11:59:33.245496\n",
      "waiting done outbound_vessel_72 2019-01-07 11:59:33.245496\n",
      "outbound_vessel_72 sail to assigned lock position\n",
      "print doors outbound_vessel_72 ['outbound_vessel_72'] ['outbound_vessel_72']\n",
      "left doors1 outbound_vessel_72 2019-01-07 12:10:39.912163 0 [] ['outbound_vessel_72']\n",
      "outbound_vessel_72 in lock ['outbound_vessel_72']\n",
      "outbound_vessel_72 converting hap 2019-01-07 12:10:39.912163\n",
      "hi 2019-01-07 12:10:39.912163\n",
      "2019-01-07 12:10:39.912163 Node_50 Node_49 Lock doors closing start\n"
     ]
    },
    {
     "name": "stderr",
     "output_type": "stream",
     "text": [
      "c:\\users\\floorbakker\\opentnsim\\opentnsim\\lock.py:711: UserWarning:\n",
      "\n",
      "Converting non-nanosecond precision datetime values to nanosecond precision. This behavior can eventually be relaxed in xarray, as it is an artifact from pandas which is now beginning to support non-nanosecond precision values. This warning is caused by passing non-nanosecond np.datetime64 or np.timedelta64 values to the DataArray or Variable constructor; it can be silenced by converting the values to nanosecond precision ahead of time.\n",
      "\n"
     ]
    },
    {
     "name": "stdout",
     "output_type": "stream",
     "text": [
      "hey ho inbound_vessel_64 []\n",
      "hi inbound_vessel_64 2019-01-07 12:48:48.434729 0\n",
      "outbound_vessel_72 hap is geconvert 2019-01-07 12:55:39.912163\n",
      "left doors2 outbound_vessel_72 2019-01-07 13:00:01.023274 0 [] []\n",
      "hey ho outbound_vessel_73 []\n",
      "hi outbound_vessel_73 2019-01-07 13:00:32.923085 0\n",
      "inbound_vessel_64 start waiting time 2019-01-07 13:47:29.268062\n",
      "claim the lock doors inbound_vessel_64 2019-01-07 13:47:29.268062\n",
      "lock is empty and not converting inbound_vessel_64 2019-01-07 13:47:29.268062 0 []\n",
      "lock doors claimed inbound_vessel_64 2019-01-07 13:47:29.268062\n",
      "waiting done inbound_vessel_64 2019-01-07 13:47:29.268062\n",
      "inbound_vessel_64 sail to assigned lock position\n",
      "print doors inbound_vessel_64 ['inbound_vessel_64'] ['inbound_vessel_64']\n",
      "left doors1 inbound_vessel_64 2019-01-07 13:58:35.934729 [] 1 ['inbound_vessel_64']\n",
      "inbound_vessel_64 in lock ['inbound_vessel_64']\n",
      "inbound_vessel_64 converting hap 2019-01-07 13:58:35.934729\n",
      "hi 2019-01-07 13:58:35.934729\n",
      "2019-01-07 13:58:35.934729 Node_49 Node_50 Lock doors closing start\n",
      "outbound_vessel_73 start waiting time 2019-01-07 13:59:13.756418\n",
      "claim the lock doors outbound_vessel_73 2019-01-07 13:59:13.756418\n",
      "requesting approach: else outbound_vessel_73 2019-01-07 13:59:13.756418 1 ['inbound_vessel_64'] []\n",
      "hey ho inbound_vessel_65 ['inbound_vessel_64']\n"
     ]
    },
    {
     "name": "stderr",
     "output_type": "stream",
     "text": [
      "c:\\users\\floorbakker\\opentnsim\\opentnsim\\lock.py:711: UserWarning:\n",
      "\n",
      "Converting non-nanosecond precision datetime values to nanosecond precision. This behavior can eventually be relaxed in xarray, as it is an artifact from pandas which is now beginning to support non-nanosecond precision values. This warning is caused by passing non-nanosecond np.datetime64 or np.timedelta64 values to the DataArray or Variable constructor; it can be silenced by converting the values to nanosecond precision ahead of time.\n",
      "\n"
     ]
    },
    {
     "name": "stdout",
     "output_type": "stream",
     "text": [
      "inbound_vessel_64 hap is geconvert 2019-01-07 14:57:35.934729\n",
      "left doors2 inbound_vessel_64 2019-01-07 15:01:57.045840 1 [] []\n",
      "doors requested outbound_vessel_73\n",
      "claiming lock: priority doors2 not -1 outbound_vessel_73 2019-01-07 15:01:57.045840\n",
      "waiting done outbound_vessel_73 2019-01-07 15:01:57.045840\n",
      "outbound_vessel_73 sail to assigned lock position\n",
      "inbound_vessel_65 start waiting time 2019-01-07 15:05:19.545806\n",
      "inbound_vessel_65 lock position given 2019-01-07 15:05:19.545806\n",
      "inbound_vessel_65 requested place in next lockage 2019-01-07 15:05:19.545806\n",
      "claim the lock doors inbound_vessel_65 2019-01-07 15:05:19.545806\n",
      "wait in lock first 2019-01-07 15:05:19.545806\n",
      "print doors outbound_vessel_73 ['outbound_vessel_73'] ['outbound_vessel_73']\n",
      "left doors1 outbound_vessel_73 2019-01-07 15:13:03.712507 0 ['inbound_vessel_65'] ['outbound_vessel_73']\n",
      "outbound_vessel_73 in lock ['outbound_vessel_73']\n",
      "requesting approach: else inbound_vessel_65 2019-01-07 15:13:03.712507 1 ['outbound_vessel_73'] []\n",
      "outbound_vessel_73 converting hap 2019-01-07 15:13:03.712507\n",
      "hi 2019-01-07 15:13:03.712507\n",
      "2019-01-07 15:13:03.712507 Node_50 Node_49 Lock doors closing start\n"
     ]
    },
    {
     "name": "stderr",
     "output_type": "stream",
     "text": [
      "c:\\users\\floorbakker\\opentnsim\\opentnsim\\lock.py:711: UserWarning:\n",
      "\n",
      "Converting non-nanosecond precision datetime values to nanosecond precision. This behavior can eventually be relaxed in xarray, as it is an artifact from pandas which is now beginning to support non-nanosecond precision values. This warning is caused by passing non-nanosecond np.datetime64 or np.timedelta64 values to the DataArray or Variable constructor; it can be silenced by converting the values to nanosecond precision ahead of time.\n",
      "\n"
     ]
    },
    {
     "name": "stdout",
     "output_type": "stream",
     "text": [
      "hey ho inbound_vessel_66 ['inbound_vessel_65']\n",
      "yo inbound_vessel_66 2019-01-07 16:03:23.508981 ['inbound_vessel_65']\n",
      "outbound_vessel_73 hap is geconvert 2019-01-07 16:09:03.712507\n",
      "left doors2 outbound_vessel_73 2019-01-07 16:13:24.823618 0 [] []\n",
      "doors requested inbound_vessel_65\n",
      "claiming lock: priority doors2 not -1 inbound_vessel_65 2019-01-07 16:13:24.823618\n",
      "waiting done inbound_vessel_65 2019-01-07 16:13:24.823618\n",
      "inbound_vessel_65 sail to assigned lock position\n",
      "print doors inbound_vessel_65 ['inbound_vessel_65'] ['inbound_vessel_65']\n",
      "left doors1 inbound_vessel_65 2019-01-07 16:24:31.490285 [] 1 ['inbound_vessel_65']\n",
      "inbound_vessel_65 in lock ['inbound_vessel_65', 'inbound_vessel_66']\n",
      "waiting for others inbound_vessel_65\n",
      "hey ho outbound_vessel_74 []\n",
      "hi outbound_vessel_74 2019-01-07 16:30:28.588764 0\n",
      "inbound_vessel_66 start waiting time 2019-01-07 17:02:04.342314\n",
      "claim the lock doors inbound_vessel_66 2019-01-07 17:02:04.342314\n",
      "lock not empty inbound_vessel_66 ['inbound_vessel_65']\n",
      "lock is ready to be entered 2019-01-07 17:02:04.342314\n",
      "lock doors claimed inbound_vessel_66 2019-01-07 17:02:04.342314\n",
      "waiting done inbound_vessel_66 2019-01-07 17:02:04.342314\n",
      "inbound_vessel_66 sail to assigned lock position\n",
      "print doors inbound_vessel_66 ['inbound_vessel_66'] ['inbound_vessel_66']\n",
      "left doors1 inbound_vessel_66 2019-01-07 17:09:28.786759 [] 1 ['inbound_vessel_66']\n",
      "inbound_vessel_66 in lock ['inbound_vessel_65', 'inbound_vessel_66']\n",
      "inbound_vessel_66 converting hap 2019-01-07 17:09:28.786759\n",
      "hi 2019-01-07 17:09:28.786759\n",
      "2019-01-07 17:09:28.786759 Node_49 Node_50 Lock doors closing start\n",
      "waiting for others done inbound_vessel_65\n"
     ]
    },
    {
     "name": "stderr",
     "output_type": "stream",
     "text": [
      "c:\\users\\floorbakker\\opentnsim\\opentnsim\\lock.py:711: UserWarning:\n",
      "\n",
      "Converting non-nanosecond precision datetime values to nanosecond precision. This behavior can eventually be relaxed in xarray, as it is an artifact from pandas which is now beginning to support non-nanosecond precision values. This warning is caused by passing non-nanosecond np.datetime64 or np.timedelta64 values to the DataArray or Variable constructor; it can be silenced by converting the values to nanosecond precision ahead of time.\n",
      "\n"
     ]
    },
    {
     "name": "stdout",
     "output_type": "stream",
     "text": [
      "outbound_vessel_74 start waiting time 2019-01-07 17:29:09.422097\n",
      "claim the lock doors outbound_vessel_74 2019-01-07 17:29:09.422097\n",
      "lock not empty outbound_vessel_74 ['inbound_vessel_65', 'inbound_vessel_66']\n",
      "lock is already converting outbound_vessel_74 2019-01-07 17:29:09.422097 ['inbound_vessel_65', 'inbound_vessel_66']\n",
      "inbound_vessel_66 hap is geconvert 2019-01-07 17:37:49.897870\n",
      "left doors2 inbound_vessel_66 2019-01-07 17:45:53.231203 1 [] []\n",
      "lock doors claimed outbound_vessel_74 2019-01-07 17:45:53.231203\n",
      "first in line to claim lock outbound_vessel_74 2019-01-07 17:45:53.231203\n",
      "waiting done outbound_vessel_74 2019-01-07 17:45:53.231203\n",
      "outbound_vessel_74 sail to assigned lock position\n",
      "print doors outbound_vessel_74 ['outbound_vessel_74'] ['outbound_vessel_74']\n",
      "left doors1 outbound_vessel_74 2019-01-07 17:56:59.897870 0 [] ['outbound_vessel_74']\n",
      "outbound_vessel_74 in lock ['outbound_vessel_74']\n",
      "outbound_vessel_74 converting hap 2019-01-07 17:56:59.897870\n",
      "hi 2019-01-07 17:56:59.897870\n",
      "2019-01-07 17:56:59.897870 Node_50 Node_49 Lock doors closing start\n"
     ]
    },
    {
     "name": "stderr",
     "output_type": "stream",
     "text": [
      "c:\\users\\floorbakker\\opentnsim\\opentnsim\\lock.py:711: UserWarning:\n",
      "\n",
      "Converting non-nanosecond precision datetime values to nanosecond precision. This behavior can eventually be relaxed in xarray, as it is an artifact from pandas which is now beginning to support non-nanosecond precision values. This warning is caused by passing non-nanosecond np.datetime64 or np.timedelta64 values to the DataArray or Variable constructor; it can be silenced by converting the values to nanosecond precision ahead of time.\n",
      "\n"
     ]
    },
    {
     "name": "stdout",
     "output_type": "stream",
     "text": [
      "inbound_vessel_67 start waiting time 2019-01-07 18:22:32.237199\n",
      "inbound_vessel_67 lock position given 2019-01-07 18:22:32.237199\n",
      "inbound_vessel_67 requested place in next lockage 2019-01-07 18:22:32.237199\n",
      "claim the lock doors inbound_vessel_67 2019-01-07 18:22:32.237199\n",
      "lock not empty inbound_vessel_67 ['outbound_vessel_74']\n",
      "lock is already converting inbound_vessel_67 2019-01-07 18:22:32.237199 ['outbound_vessel_74']\n",
      "outbound_vessel_74 hap is geconvert 2019-01-07 18:34:59.897870\n",
      "left doors2 outbound_vessel_74 2019-01-07 18:39:21.008981 0 [] []\n",
      "lock doors claimed inbound_vessel_67 2019-01-07 18:39:21.008981\n",
      "first in line to claim lock inbound_vessel_67 2019-01-07 18:39:21.008981\n",
      "waiting done inbound_vessel_67 2019-01-07 18:39:21.008981\n",
      "inbound_vessel_67 sail to assigned lock position\n",
      "print doors inbound_vessel_67 ['inbound_vessel_67'] ['inbound_vessel_67']\n",
      "left doors1 inbound_vessel_67 2019-01-07 18:50:27.675648 [] 1 ['inbound_vessel_67']\n",
      "inbound_vessel_67 in lock ['inbound_vessel_67']\n",
      "inbound_vessel_67 converting hap 2019-01-07 18:50:27.675648\n",
      "hi 2019-01-07 18:50:27.675648\n",
      "2019-01-07 18:50:27.675648 Node_49 Node_50 Lock doors closing start\n",
      "hey ho outbound_vessel_75 []\n",
      "hi outbound_vessel_75 2019-01-07 18:56:49.285554 0\n",
      "hey ho outbound_vessel_76 ['outbound_vessel_75']\n",
      "yo outbound_vessel_76 2019-01-07 18:59:09.032649 ['outbound_vessel_75']\n"
     ]
    },
    {
     "name": "stderr",
     "output_type": "stream",
     "text": [
      "c:\\users\\floorbakker\\opentnsim\\opentnsim\\lock.py:711: UserWarning:\n",
      "\n",
      "Converting non-nanosecond precision datetime values to nanosecond precision. This behavior can eventually be relaxed in xarray, as it is an artifact from pandas which is now beginning to support non-nanosecond precision values. This warning is caused by passing non-nanosecond np.datetime64 or np.timedelta64 values to the DataArray or Variable constructor; it can be silenced by converting the values to nanosecond precision ahead of time.\n",
      "\n"
     ]
    },
    {
     "name": "stdout",
     "output_type": "stream",
     "text": [
      "inbound_vessel_68 start waiting time 2019-01-07 19:20:51.950156\n",
      "wait for lockage False ['inbound_vessel_67'] True\n",
      "inbound_vessel_67 hap is geconvert 2019-01-07 19:40:27.675648\n",
      "inbound_vessel_68 lock position given 2019-01-07 19:42:18.786759\n",
      "inbound_vessel_68 requested place in next lockage 2019-01-07 19:42:18.786759\n",
      "claim the lock doors inbound_vessel_68 2019-01-07 19:42:18.786759\n",
      "requesting approach: else inbound_vessel_68 2019-01-07 19:42:18.786759 0 [] ['inbound_vessel_67']\n",
      "doors requested inbound_vessel_68\n",
      "claiming lock: priority doors2 is -1 inbound_vessel_68 2019-01-07 19:42:18.786759\n",
      "inbound_vessel_68 wth\n",
      "hi 2019-01-07 19:42:18.786759\n",
      "2019-01-07 19:42:18.786759 Node_50 Node_49 Lock doors closing start\n"
     ]
    },
    {
     "name": "stderr",
     "output_type": "stream",
     "text": [
      "c:\\users\\floorbakker\\opentnsim\\opentnsim\\lock.py:711: UserWarning:\n",
      "\n",
      "Converting non-nanosecond precision datetime values to nanosecond precision. This behavior can eventually be relaxed in xarray, as it is an artifact from pandas which is now beginning to support non-nanosecond precision values. This warning is caused by passing non-nanosecond np.datetime64 or np.timedelta64 values to the DataArray or Variable constructor; it can be silenced by converting the values to nanosecond precision ahead of time.\n",
      "\n"
     ]
    },
    {
     "name": "stdout",
     "output_type": "stream",
     "text": [
      "outbound_vessel_75 start waiting time 2019-01-07 19:55:30.118887\n",
      "claim the lock doors outbound_vessel_75 2019-01-07 19:55:30.118887\n",
      "wait in lock first 2019-01-07 19:55:30.118887\n",
      "outbound_vessel_76 start waiting time 2019-01-07 20:01:59.007776\n",
      "claim the lock doors outbound_vessel_76 2019-01-07 20:01:59.007776\n",
      "wait in lock first 2019-01-07 20:01:59.007776\n",
      "inbound_vessel_69 start waiting time 2019-01-07 20:24:48.230105\n",
      "inbound_vessel_69 lock position given 2019-01-07 20:24:48.230105\n",
      "inbound_vessel_69 requested place in next lockage 2019-01-07 20:24:48.230105\n",
      "claim the lock doors inbound_vessel_69 2019-01-07 20:24:48.230105\n",
      "lock is empty and not converting inbound_vessel_69 2019-01-07 20:24:48.230105 0 []\n",
      "waiting done inbound_vessel_68 2019-01-07 20:39:18.786759\n",
      "inbound_vessel_68 sail to assigned lock position\n",
      "print doors inbound_vessel_68 ['inbound_vessel_68'] ['inbound_vessel_68']\n",
      "left doors1 inbound_vessel_68 2019-01-07 20:50:25.453426 ['inbound_vessel_69'] 1 ['inbound_vessel_68']\n",
      "inbound_vessel_68 in lock ['inbound_vessel_68', 'inbound_vessel_69']\n",
      "waiting for others inbound_vessel_68\n",
      "lock doors claimed inbound_vessel_69 2019-01-07 20:50:25.453426\n",
      "waiting done inbound_vessel_69 2019-01-07 20:50:25.453426\n",
      "inbound_vessel_69 sail to assigned lock position\n",
      "print doors inbound_vessel_69 ['inbound_vessel_69'] ['inbound_vessel_68']\n",
      "left doors1 inbound_vessel_69 2019-01-07 21:01:32.120093 ['outbound_vessel_75'] 1 ['inbound_vessel_68']\n",
      "inbound_vessel_69 in lock ['inbound_vessel_68', 'inbound_vessel_69']\n",
      "requesting approach: else outbound_vessel_75 2019-01-07 21:01:32.120093 2 ['inbound_vessel_68'] []\n",
      "inbound_vessel_69 converting hap 2019-01-07 21:01:32.120093\n",
      "hi 2019-01-07 21:01:32.120093\n",
      "2019-01-07 21:01:32.120093 Node_49 Node_50 Lock doors closing start\n",
      "waiting for others done inbound_vessel_68\n",
      "requesting approach: else outbound_vessel_76 2019-01-07 21:01:32.120093 2 ['inbound_vessel_68'] []\n"
     ]
    },
    {
     "name": "stderr",
     "output_type": "stream",
     "text": [
      "c:\\users\\floorbakker\\opentnsim\\opentnsim\\lock.py:711: UserWarning:\n",
      "\n",
      "Converting non-nanosecond precision datetime values to nanosecond precision. This behavior can eventually be relaxed in xarray, as it is an artifact from pandas which is now beginning to support non-nanosecond precision values. This warning is caused by passing non-nanosecond np.datetime64 or np.timedelta64 values to the DataArray or Variable constructor; it can be silenced by converting the values to nanosecond precision ahead of time.\n",
      "\n"
     ]
    },
    {
     "name": "stdout",
     "output_type": "stream",
     "text": [
      "inbound_vessel_70 start waiting time 2019-01-07 21:18:49.528501\n",
      "wait for lockage True ['inbound_vessel_68', 'inbound_vessel_69'] True\n",
      "inbound_vessel_71 start waiting time 2019-01-07 21:58:37.799376\n",
      "wait for lockage True ['inbound_vessel_68', 'inbound_vessel_69'] True\n",
      "left doors2 inbound_vessel_68 2019-01-07 22:03:53.231204 1 [] []\n",
      "inbound_vessel_69 hap is geconvert 2019-01-07 22:03:53.231204\n",
      "inbound_vessel_70 lock position given 2019-01-07 22:09:26.564537\n",
      "inbound_vessel_70 requested place in next lockage 2019-01-07 22:09:26.564537\n",
      "claim the lock doors inbound_vessel_70 2019-01-07 22:09:26.564537\n",
      "requesting approach: else inbound_vessel_70 2019-01-07 22:09:26.564537 0 [] ['inbound_vessel_69']\n",
      "inbound_vessel_71 lock position given 2019-01-07 22:09:26.564537\n",
      "inbound_vessel_71 requested place in next lockage 2019-01-07 22:09:26.564537\n",
      "claim the lock doors inbound_vessel_71 2019-01-07 22:09:26.564537\n",
      "requesting approach: else inbound_vessel_71 2019-01-07 22:09:26.564537 0 ['inbound_vessel_70'] ['inbound_vessel_69']\n",
      "doors requested inbound_vessel_70\n",
      "claiming lock: priority doors2 is -1 inbound_vessel_70 2019-01-07 22:09:26.564537\n",
      "inbound_vessel_70 wth\n",
      "hi 2019-01-07 22:09:26.564537\n",
      "2019-01-07 22:09:26.564537 Node_50 Node_49 Lock doors closing start\n"
     ]
    },
    {
     "name": "stderr",
     "output_type": "stream",
     "text": [
      "c:\\users\\floorbakker\\opentnsim\\opentnsim\\lock.py:711: UserWarning:\n",
      "\n",
      "Converting non-nanosecond precision datetime values to nanosecond precision. This behavior can eventually be relaxed in xarray, as it is an artifact from pandas which is now beginning to support non-nanosecond precision values. This warning is caused by passing non-nanosecond np.datetime64 or np.timedelta64 values to the DataArray or Variable constructor; it can be silenced by converting the values to nanosecond precision ahead of time.\n",
      "\n"
     ]
    },
    {
     "name": "stdout",
     "output_type": "stream",
     "text": [
      "waiting done inbound_vessel_70 2019-01-07 22:58:26.564537\n",
      "inbound_vessel_70 sail to assigned lock position\n",
      "print doors inbound_vessel_70 ['inbound_vessel_70'] ['inbound_vessel_70']\n",
      "left doors1 inbound_vessel_70 2019-01-07 23:03:59.897871 ['inbound_vessel_71'] 1 ['inbound_vessel_70']\n",
      "inbound_vessel_70 in lock ['inbound_vessel_70', 'inbound_vessel_71']\n",
      "waiting for others inbound_vessel_70\n",
      "doors requested inbound_vessel_71\n",
      "claiming lock: priority doors2 is -1 inbound_vessel_71 2019-01-07 23:03:59.897871\n",
      "waiting done inbound_vessel_71 2019-01-07 23:03:59.897871\n",
      "inbound_vessel_71 sail to assigned lock position\n",
      "print doors inbound_vessel_71 ['inbound_vessel_71'] ['inbound_vessel_71']\n",
      "left doors1 inbound_vessel_71 2019-01-07 23:15:06.564537 [] 1 ['inbound_vessel_71']\n",
      "inbound_vessel_71 in lock ['inbound_vessel_70', 'inbound_vessel_71']\n",
      "inbound_vessel_71 converting hap 2019-01-07 23:15:06.564537\n",
      "hi 2019-01-07 23:15:06.564537\n",
      "2019-01-07 23:15:06.564537 Node_49 Node_50 Lock doors closing start\n",
      "waiting for others done inbound_vessel_70\n"
     ]
    },
    {
     "name": "stderr",
     "output_type": "stream",
     "text": [
      "c:\\users\\floorbakker\\opentnsim\\opentnsim\\lock.py:711: UserWarning:\n",
      "\n",
      "Converting non-nanosecond precision datetime values to nanosecond precision. This behavior can eventually be relaxed in xarray, as it is an artifact from pandas which is now beginning to support non-nanosecond precision values. This warning is caused by passing non-nanosecond np.datetime64 or np.timedelta64 values to the DataArray or Variable constructor; it can be silenced by converting the values to nanosecond precision ahead of time.\n",
      "\n"
     ]
    },
    {
     "name": "stdout",
     "output_type": "stream",
     "text": [
      "inbound_vessel_71 hap is geconvert 2019-01-07 23:52:01.008982\n",
      "left doors2 inbound_vessel_71 2019-01-08 00:00:04.342315 1 [] []\n",
      "doors requested outbound_vessel_75\n",
      "claiming lock: priority doors2 not -1 outbound_vessel_75 2019-01-08 00:00:04.342315\n",
      "waiting done outbound_vessel_75 2019-01-08 00:00:04.342315\n",
      "outbound_vessel_75 sail to assigned lock position\n",
      "print doors outbound_vessel_75 ['outbound_vessel_75'] ['outbound_vessel_75']\n",
      "left doors1 outbound_vessel_75 2019-01-08 00:11:11.008982 0 ['outbound_vessel_76'] ['outbound_vessel_75']\n",
      "outbound_vessel_75 in lock ['outbound_vessel_75', 'outbound_vessel_76']\n",
      "waiting for others outbound_vessel_75\n",
      "doors requested outbound_vessel_76\n",
      "claiming lock: priority doors2 is -1 outbound_vessel_76 2019-01-08 00:11:11.008982\n",
      "waiting done outbound_vessel_76 2019-01-08 00:11:11.008982\n",
      "outbound_vessel_76 sail to assigned lock position\n",
      "hey ho inbound_vessel_72 []\n",
      "hi inbound_vessel_72 2019-01-08 00:16:52.781299 0\n",
      "outbound_vessel_77 start waiting time 2019-01-08 00:21:22.120093\n",
      "wait for lockage True ['outbound_vessel_75', 'outbound_vessel_76'] False\n",
      "print doors outbound_vessel_76 ['outbound_vessel_76'] ['outbound_vessel_76']\n",
      "left doors1 outbound_vessel_76 2019-01-08 00:22:17.675648 0 [] ['outbound_vessel_76']\n",
      "outbound_vessel_76 in lock ['outbound_vessel_75', 'outbound_vessel_76']\n",
      "outbound_vessel_76 converting hap 2019-01-08 00:22:17.675648\n",
      "hi 2019-01-08 00:22:17.675648\n",
      "2019-01-08 00:22:17.675648 Node_50 Node_49 Lock doors closing start\n",
      "waiting for others done outbound_vessel_75\n"
     ]
    },
    {
     "name": "stderr",
     "output_type": "stream",
     "text": [
      "c:\\users\\floorbakker\\opentnsim\\opentnsim\\lock.py:711: UserWarning:\n",
      "\n",
      "Converting non-nanosecond precision datetime values to nanosecond precision. This behavior can eventually be relaxed in xarray, as it is an artifact from pandas which is now beginning to support non-nanosecond precision values. This warning is caused by passing non-nanosecond np.datetime64 or np.timedelta64 values to the DataArray or Variable constructor; it can be silenced by converting the values to nanosecond precision ahead of time.\n",
      "\n"
     ]
    },
    {
     "name": "stdout",
     "output_type": "stream",
     "text": [
      "outbound_vessel_78 start waiting time 2019-01-08 01:04:07.092307\n",
      "wait for lockage True ['outbound_vessel_76'] True\n",
      "outbound_vessel_76 hap is geconvert 2019-01-08 01:05:38.786760\n",
      "outbound_vessel_77 lock position given 2019-01-08 01:11:12.120093\n",
      "outbound_vessel_77 requested place in next lockage 2019-01-08 01:11:12.120093\n",
      "claim the lock doors outbound_vessel_77 2019-01-08 01:11:12.120093\n",
      "requesting approach: else outbound_vessel_77 2019-01-08 01:11:12.120093 0 [] ['outbound_vessel_76']\n",
      "outbound_vessel_78 lock position given 2019-01-08 01:11:12.120093\n",
      "outbound_vessel_78 requested place in next lockage 2019-01-08 01:11:12.120093\n",
      "claim the lock doors outbound_vessel_78 2019-01-08 01:11:12.120093\n",
      "requesting approach: else outbound_vessel_78 2019-01-08 01:11:12.120093 0 ['outbound_vessel_77'] ['outbound_vessel_76']\n",
      "doors requested outbound_vessel_77\n",
      "claiming lock: priority doors2 is -1 outbound_vessel_77 2019-01-08 01:11:12.120093\n",
      "outbound_vessel_77 wth\n",
      "hi 2019-01-08 01:11:12.120093\n",
      "2019-01-08 01:11:12.120093 Node_49 Node_50 Lock doors closing start\n",
      "inbound_vessel_72 start waiting time 2019-01-08 01:15:33.614632\n",
      "claim the lock doors inbound_vessel_72 2019-01-08 01:15:33.614632\n",
      "lock is empty and not converting inbound_vessel_72 2019-01-08 01:15:33.614632 0 []\n"
     ]
    },
    {
     "name": "stderr",
     "output_type": "stream",
     "text": [
      "c:\\users\\floorbakker\\opentnsim\\opentnsim\\lock.py:711: UserWarning:\n",
      "\n",
      "Converting non-nanosecond precision datetime values to nanosecond precision. This behavior can eventually be relaxed in xarray, as it is an artifact from pandas which is now beginning to support non-nanosecond precision values. This warning is caused by passing non-nanosecond np.datetime64 or np.timedelta64 values to the DataArray or Variable constructor; it can be silenced by converting the values to nanosecond precision ahead of time.\n",
      "\n"
     ]
    },
    {
     "name": "stdout",
     "output_type": "stream",
     "text": [
      "waiting done outbound_vessel_77 2019-01-08 02:02:12.120093\n",
      "outbound_vessel_77 sail to assigned lock position\n",
      "print doors outbound_vessel_77 ['outbound_vessel_77'] ['outbound_vessel_77']\n",
      "left doors1 outbound_vessel_77 2019-01-08 02:07:45.453426 0 ['outbound_vessel_78'] ['outbound_vessel_77']\n",
      "outbound_vessel_77 in lock ['outbound_vessel_77', 'outbound_vessel_78']\n",
      "waiting for others outbound_vessel_77\n",
      "doors requested outbound_vessel_78\n",
      "claiming lock: priority doors2 is -1 outbound_vessel_78 2019-01-08 02:07:45.453426\n",
      "lock doors claimed inbound_vessel_72 2019-01-08 02:07:45.453426\n",
      "waiting done inbound_vessel_72 2019-01-08 02:07:45.453426\n",
      "inbound_vessel_72 sail to assigned lock position\n",
      "print doors inbound_vessel_72 ['inbound_vessel_72'] ['outbound_vessel_78']\n",
      "left doors1 inbound_vessel_72 2019-01-08 02:18:52.120093 ['outbound_vessel_78'] 1 ['outbound_vessel_78']\n",
      "inbound_vessel_72 in lock ['inbound_vessel_72']\n",
      "waiting done outbound_vessel_78 2019-01-08 02:18:52.120093\n",
      "inbound_vessel_72 converting hap 2019-01-08 02:18:52.120093\n",
      "hi 2019-01-08 02:18:52.120093\n",
      "2019-01-08 02:18:52.120093 Node_50 Node_50 Lock doors closing start\n",
      "waiting for others done outbound_vessel_77\n",
      "outbound_vessel_78 sail to assigned lock position\n"
     ]
    },
    {
     "name": "stderr",
     "output_type": "stream",
     "text": [
      "c:\\users\\floorbakker\\opentnsim\\opentnsim\\lock.py:711: UserWarning:\n",
      "\n",
      "Converting non-nanosecond precision datetime values to nanosecond precision. This behavior can eventually be relaxed in xarray, as it is an artifact from pandas which is now beginning to support non-nanosecond precision values. This warning is caused by passing non-nanosecond np.datetime64 or np.timedelta64 values to the DataArray or Variable constructor; it can be silenced by converting the values to nanosecond precision ahead of time.\n",
      "\n"
     ]
    },
    {
     "name": "stdout",
     "output_type": "stream",
     "text": [
      "outbound_vessel_79 start waiting time 2019-01-08 02:29:03.231204\n",
      "wait for lockage True ['outbound_vessel_78'] False\n",
      "print doors outbound_vessel_78 ['outbound_vessel_78'] ['outbound_vessel_78']\n",
      "left doors1 outbound_vessel_78 2019-01-08 02:29:58.786760 0 ['inbound_vessel_72'] ['outbound_vessel_78']\n",
      "outbound_vessel_78 in lock ['outbound_vessel_78']\n",
      "outbound_vessel_78 converting hap 2019-01-08 02:29:58.786760\n",
      "hi 2019-01-08 02:29:58.786760\n",
      "2019-01-08 02:29:58.786760 Node_50 Node_49 Lock doors closing start\n"
     ]
    },
    {
     "name": "stderr",
     "output_type": "stream",
     "text": [
      "c:\\users\\floorbakker\\opentnsim\\opentnsim\\lock.py:711: UserWarning:\n",
      "\n",
      "Converting non-nanosecond precision datetime values to nanosecond precision. This behavior can eventually be relaxed in xarray, as it is an artifact from pandas which is now beginning to support non-nanosecond precision values. This warning is caused by passing non-nanosecond np.datetime64 or np.timedelta64 values to the DataArray or Variable constructor; it can be silenced by converting the values to nanosecond precision ahead of time.\n",
      "\n"
     ]
    },
    {
     "name": "stdout",
     "output_type": "stream",
     "text": [
      "inbound_vessel_72 hap is geconvert 2019-01-08 03:17:52.120093\n",
      "left doors2 inbound_vessel_72 2019-01-08 03:22:13.231204 1 ['outbound_vessel_78'] []\n",
      "hey ho inbound_vessel_73 []\n",
      "hi inbound_vessel_73 2019-01-08 03:24:49.687840 0\n",
      "outbound_vessel_78 hap is geconvert 2019-01-08 03:28:58.786760\n",
      "outbound_vessel_79 lock position given 2019-01-08 03:34:32.120093\n",
      "outbound_vessel_79 requested place in next lockage 2019-01-08 03:34:32.120093\n",
      "claim the lock doors outbound_vessel_79 2019-01-08 03:34:32.120093\n",
      "requesting approach: else outbound_vessel_79 2019-01-08 03:34:32.120093 0 [] ['outbound_vessel_78']\n",
      "doors requested outbound_vessel_79\n",
      "claiming lock: priority doors2 is -1 outbound_vessel_79 2019-01-08 03:34:32.120093\n",
      "outbound_vessel_79 wth\n",
      "hi 2019-01-08 03:34:32.120093\n",
      "2019-01-08 03:34:32.120093 Node_49 Node_50 Lock doors closing start\n"
     ]
    },
    {
     "name": "stderr",
     "output_type": "stream",
     "text": [
      "c:\\users\\floorbakker\\opentnsim\\opentnsim\\lock.py:711: UserWarning:\n",
      "\n",
      "Converting non-nanosecond precision datetime values to nanosecond precision. This behavior can eventually be relaxed in xarray, as it is an artifact from pandas which is now beginning to support non-nanosecond precision values. This warning is caused by passing non-nanosecond np.datetime64 or np.timedelta64 values to the DataArray or Variable constructor; it can be silenced by converting the values to nanosecond precision ahead of time.\n",
      "\n"
     ]
    },
    {
     "name": "stdout",
     "output_type": "stream",
     "text": [
      "hey ho outbound_vessel_80 ['outbound_vessel_79']\n",
      "yo outbound_vessel_80 2019-01-08 03:44:56.227547 ['outbound_vessel_79']\n",
      "inbound_vessel_73 start waiting time 2019-01-08 04:23:30.521173\n",
      "claim the lock doors inbound_vessel_73 2019-01-08 04:23:30.521173\n",
      "wait in lock first 2019-01-08 04:23:30.521173\n",
      "waiting done outbound_vessel_79 2019-01-08 04:31:32.120093\n",
      "outbound_vessel_79 sail to assigned lock position\n",
      "print doors outbound_vessel_79 ['outbound_vessel_79'] ['outbound_vessel_79']\n",
      "left doors1 outbound_vessel_79 2019-01-08 04:42:38.786760 0 ['inbound_vessel_73'] ['outbound_vessel_79']\n",
      "outbound_vessel_79 in lock ['outbound_vessel_79', 'outbound_vessel_80']\n",
      "waiting for others outbound_vessel_79\n",
      "requesting approach: else inbound_vessel_73 2019-01-08 04:42:38.786760 1 ['outbound_vessel_79'] []\n",
      "outbound_vessel_80 start waiting time 2019-01-08 04:43:37.060880\n",
      "claim the lock doors outbound_vessel_80 2019-01-08 04:43:37.060880\n",
      "lock not empty outbound_vessel_80 ['outbound_vessel_79']\n",
      "lock is ready to be entered 2019-01-08 04:43:37.060880\n",
      "lock doors claimed outbound_vessel_80 2019-01-08 04:43:37.060880\n",
      "waiting done outbound_vessel_80 2019-01-08 04:43:37.060880\n",
      "outbound_vessel_80 sail to assigned lock position\n",
      "print doors outbound_vessel_80 ['outbound_vessel_80'] ['outbound_vessel_80']\n",
      "left doors1 outbound_vessel_80 2019-01-08 04:51:01.505325 0 [] ['outbound_vessel_80']\n",
      "outbound_vessel_80 in lock ['outbound_vessel_79', 'outbound_vessel_80']\n",
      "outbound_vessel_80 converting hap 2019-01-08 04:51:01.505325\n",
      "hi 2019-01-08 04:51:01.505325\n",
      "2019-01-08 04:51:01.505325 Node_50 Node_49 Lock doors closing start\n",
      "waiting for others done outbound_vessel_79\n"
     ]
    },
    {
     "name": "stderr",
     "output_type": "stream",
     "text": [
      "c:\\users\\floorbakker\\opentnsim\\opentnsim\\lock.py:711: UserWarning:\n",
      "\n",
      "Converting non-nanosecond precision datetime values to nanosecond precision. This behavior can eventually be relaxed in xarray, as it is an artifact from pandas which is now beginning to support non-nanosecond precision values. This warning is caused by passing non-nanosecond np.datetime64 or np.timedelta64 values to the DataArray or Variable constructor; it can be silenced by converting the values to nanosecond precision ahead of time.\n",
      "\n"
     ]
    },
    {
     "name": "stdout",
     "output_type": "stream",
     "text": [
      "outbound_vessel_80 hap is geconvert 2019-01-08 05:39:22.616436\n",
      "left doors2 outbound_vessel_80 2019-01-08 05:47:25.949769 0 [] []\n",
      "doors requested inbound_vessel_73\n",
      "claiming lock: priority doors2 not -1 inbound_vessel_73 2019-01-08 05:47:25.949769\n",
      "waiting done inbound_vessel_73 2019-01-08 05:47:25.949769\n",
      "inbound_vessel_73 sail to assigned lock position\n",
      "print doors inbound_vessel_73 ['inbound_vessel_73'] ['inbound_vessel_73']\n",
      "left doors1 inbound_vessel_73 2019-01-08 05:58:32.616436 [] 1 ['inbound_vessel_73']\n",
      "inbound_vessel_73 in lock ['inbound_vessel_73']\n",
      "inbound_vessel_73 converting hap 2019-01-08 05:58:32.616436\n",
      "hi 2019-01-08 05:58:32.616436\n",
      "2019-01-08 05:58:32.616436 Node_49 Node_50 Lock doors closing start\n"
     ]
    },
    {
     "name": "stderr",
     "output_type": "stream",
     "text": [
      "c:\\users\\floorbakker\\opentnsim\\opentnsim\\lock.py:711: UserWarning:\n",
      "\n",
      "Converting non-nanosecond precision datetime values to nanosecond precision. This behavior can eventually be relaxed in xarray, as it is an artifact from pandas which is now beginning to support non-nanosecond precision values. This warning is caused by passing non-nanosecond np.datetime64 or np.timedelta64 values to the DataArray or Variable constructor; it can be silenced by converting the values to nanosecond precision ahead of time.\n",
      "\n"
     ]
    },
    {
     "name": "stdout",
     "output_type": "stream",
     "text": [
      "hey ho inbound_vessel_74 ['inbound_vessel_73']\n",
      "inbound_vessel_73 hap is geconvert 2019-01-08 06:22:32.616436\n",
      "left doors2 inbound_vessel_73 2019-01-08 06:26:53.727547 1 [] []\n",
      "hey ho outbound_vessel_81 []\n",
      "hi outbound_vessel_81 2019-01-08 06:53:08.226128 0\n",
      "inbound_vessel_74 start waiting time 2019-01-08 07:10:56.978391\n",
      "inbound_vessel_74 lock position given 2019-01-08 07:10:56.978391\n",
      "inbound_vessel_74 requested place in next lockage 2019-01-08 07:10:56.978391\n",
      "claim the lock doors inbound_vessel_74 2019-01-08 07:10:56.978391\n",
      "requesting approach: else inbound_vessel_74 2019-01-08 07:10:56.978391 0 ['outbound_vessel_81'] []\n",
      "outbound_vessel_81 start waiting time 2019-01-08 07:51:49.059461\n",
      "claim the lock doors outbound_vessel_81 2019-01-08 07:51:49.059461\n",
      "lock is empty and not converting outbound_vessel_81 2019-01-08 07:51:49.059461 0 []\n",
      "lock doors claimed outbound_vessel_81 2019-01-08 07:51:49.059461\n",
      "waiting done outbound_vessel_81 2019-01-08 07:51:49.059461\n",
      "outbound_vessel_81 sail to assigned lock position\n",
      "print doors outbound_vessel_81 ['outbound_vessel_81'] ['outbound_vessel_81']\n",
      "left doors1 outbound_vessel_81 2019-01-08 08:02:55.726128 0 [] ['outbound_vessel_81']\n",
      "outbound_vessel_81 in lock ['outbound_vessel_81']\n",
      "outbound_vessel_81 converting hap 2019-01-08 08:02:55.726128\n",
      "hi 2019-01-08 08:02:55.726128\n",
      "2019-01-08 08:02:55.726128 Node_50 Node_49 Lock doors closing start\n"
     ]
    },
    {
     "name": "stderr",
     "output_type": "stream",
     "text": [
      "c:\\users\\floorbakker\\opentnsim\\opentnsim\\lock.py:513: UserWarning:\n",
      "\n",
      "Converting non-nanosecond precision datetime values to nanosecond precision. This behavior can eventually be relaxed in xarray, as it is an artifact from pandas which is now beginning to support non-nanosecond precision values. This warning is caused by passing non-nanosecond np.datetime64 or np.timedelta64 values to the DataArray or Variable constructor; it can be silenced by converting the values to nanosecond precision ahead of time.\n",
      "\n",
      "c:\\users\\floorbakker\\opentnsim\\opentnsim\\lock.py:711: UserWarning:\n",
      "\n",
      "Converting non-nanosecond precision datetime values to nanosecond precision. This behavior can eventually be relaxed in xarray, as it is an artifact from pandas which is now beginning to support non-nanosecond precision values. This warning is caused by passing non-nanosecond np.datetime64 or np.timedelta64 values to the DataArray or Variable constructor; it can be silenced by converting the values to nanosecond precision ahead of time.\n",
      "\n"
     ]
    },
    {
     "name": "stdout",
     "output_type": "stream",
     "text": [
      "hey ho outbound_vessel_82 ['outbound_vessel_81']\n",
      "outbound_vessel_81 hap is geconvert 2019-01-08 08:58:55.726128\n",
      "left doors2 outbound_vessel_81 2019-01-08 09:03:16.837239 0 [] []\n",
      "doors requested inbound_vessel_74\n",
      "claiming lock: priority doors2 not -1 inbound_vessel_74 2019-01-08 09:03:16.837239\n",
      "waiting done inbound_vessel_74 2019-01-08 09:03:16.837239\n",
      "inbound_vessel_74 sail to assigned lock position\n",
      "print doors inbound_vessel_74 ['inbound_vessel_74'] ['inbound_vessel_74']\n",
      "left doors1 inbound_vessel_74 2019-01-08 09:14:23.503906 [] 1 ['inbound_vessel_74']\n",
      "inbound_vessel_74 in lock ['inbound_vessel_74']\n",
      "inbound_vessel_74 converting hap 2019-01-08 09:14:23.503906\n",
      "hi 2019-01-08 09:14:23.503906\n",
      "2019-01-08 09:14:23.503906 Node_49 Node_50 Lock doors closing start\n",
      "outbound_vessel_82 start waiting time 2019-01-08 09:22:46.733025\n",
      "outbound_vessel_82 lock position given 2019-01-08 09:22:46.733025\n",
      "outbound_vessel_82 requested place in next lockage 2019-01-08 09:22:46.733025\n",
      "claim the lock doors outbound_vessel_82 2019-01-08 09:22:46.733025\n",
      "requesting approach: else outbound_vessel_82 2019-01-08 09:22:46.733025 1 ['inbound_vessel_74'] []\n"
     ]
    },
    {
     "name": "stderr",
     "output_type": "stream",
     "text": [
      "c:\\users\\floorbakker\\opentnsim\\opentnsim\\lock.py:711: UserWarning:\n",
      "\n",
      "Converting non-nanosecond precision datetime values to nanosecond precision. This behavior can eventually be relaxed in xarray, as it is an artifact from pandas which is now beginning to support non-nanosecond precision values. This warning is caused by passing non-nanosecond np.datetime64 or np.timedelta64 values to the DataArray or Variable constructor; it can be silenced by converting the values to nanosecond precision ahead of time.\n",
      "\n"
     ]
    },
    {
     "name": "stdout",
     "output_type": "stream",
     "text": [
      "hey ho inbound_vessel_75 ['inbound_vessel_74']\n",
      "inbound_vessel_74 hap is geconvert 2019-01-08 10:13:23.503906\n",
      "left doors2 inbound_vessel_74 2019-01-08 10:17:44.615017 1 [] []\n",
      "doors requested outbound_vessel_82\n",
      "claiming lock: priority doors2 not -1 outbound_vessel_82 2019-01-08 10:17:44.615017\n",
      "waiting done outbound_vessel_82 2019-01-08 10:17:44.615017\n",
      "outbound_vessel_82 sail to assigned lock position\n",
      "inbound_vessel_75 start waiting time 2019-01-08 10:27:03.510754\n",
      "inbound_vessel_75 lock position given 2019-01-08 10:27:03.510754\n",
      "inbound_vessel_75 requested place in next lockage 2019-01-08 10:27:03.510754\n",
      "claim the lock doors inbound_vessel_75 2019-01-08 10:27:03.510754\n",
      "wait in lock first 2019-01-08 10:27:03.510754\n",
      "print doors outbound_vessel_82 ['outbound_vessel_82'] ['outbound_vessel_82']\n",
      "left doors1 outbound_vessel_82 2019-01-08 10:28:51.281684 0 ['inbound_vessel_75'] ['outbound_vessel_82']\n",
      "outbound_vessel_82 in lock ['outbound_vessel_82']\n",
      "requesting approach: else inbound_vessel_75 2019-01-08 10:28:51.281684 1 ['outbound_vessel_82'] []\n",
      "outbound_vessel_82 converting hap 2019-01-08 10:28:51.281684\n",
      "hi 2019-01-08 10:28:51.281684\n",
      "2019-01-08 10:28:51.281684 Node_50 Node_49 Lock doors closing start\n"
     ]
    },
    {
     "name": "stderr",
     "output_type": "stream",
     "text": [
      "c:\\users\\floorbakker\\opentnsim\\opentnsim\\lock.py:711: UserWarning:\n",
      "\n",
      "Converting non-nanosecond precision datetime values to nanosecond precision. This behavior can eventually be relaxed in xarray, as it is an artifact from pandas which is now beginning to support non-nanosecond precision values. This warning is caused by passing non-nanosecond np.datetime64 or np.timedelta64 values to the DataArray or Variable constructor; it can be silenced by converting the values to nanosecond precision ahead of time.\n",
      "\n"
     ]
    },
    {
     "name": "stdout",
     "output_type": "stream",
     "text": [
      "hey ho outbound_vessel_83 ['outbound_vessel_82']\n",
      "outbound_vessel_82 hap is geconvert 2019-01-08 11:19:51.281684\n",
      "left doors2 outbound_vessel_82 2019-01-08 11:24:12.392795 0 [] []\n",
      "doors requested inbound_vessel_75\n",
      "claiming lock: priority doors2 not -1 inbound_vessel_75 2019-01-08 11:24:12.392795\n",
      "waiting done inbound_vessel_75 2019-01-08 11:24:12.392795\n",
      "inbound_vessel_75 sail to assigned lock position\n",
      "print doors inbound_vessel_75 ['inbound_vessel_75'] ['inbound_vessel_75']\n",
      "left doors1 inbound_vessel_75 2019-01-08 11:35:19.059462 [] 1 ['inbound_vessel_75']\n",
      "inbound_vessel_75 in lock ['inbound_vessel_75']\n",
      "inbound_vessel_75 converting hap 2019-01-08 11:35:19.059462\n",
      "hi 2019-01-08 11:35:19.059462\n",
      "2019-01-08 11:35:19.059462 Node_49 Node_50 Lock doors closing start\n"
     ]
    },
    {
     "name": "stderr",
     "output_type": "stream",
     "text": [
      "c:\\users\\floorbakker\\opentnsim\\opentnsim\\lock.py:711: UserWarning:\n",
      "\n",
      "Converting non-nanosecond precision datetime values to nanosecond precision. This behavior can eventually be relaxed in xarray, as it is an artifact from pandas which is now beginning to support non-nanosecond precision values. This warning is caused by passing non-nanosecond np.datetime64 or np.timedelta64 values to the DataArray or Variable constructor; it can be silenced by converting the values to nanosecond precision ahead of time.\n",
      "\n"
     ]
    },
    {
     "name": "stdout",
     "output_type": "stream",
     "text": [
      "inbound_vessel_75 hap is geconvert 2019-01-08 12:07:19.059462\n",
      "left doors2 inbound_vessel_75 2019-01-08 12:11:40.170573 1 [] []\n",
      "outbound_vessel_83 start waiting time 2019-01-08 12:15:07.828810\n",
      "outbound_vessel_83 lock position given 2019-01-08 12:15:07.828810\n",
      "outbound_vessel_83 requested place in next lockage 2019-01-08 12:15:07.828810\n",
      "claim the lock doors outbound_vessel_83 2019-01-08 12:15:07.828810\n",
      "lock is empty and not converting outbound_vessel_83 2019-01-08 12:15:07.828810 0 []\n",
      "lock doors claimed outbound_vessel_83 2019-01-08 12:15:07.828810\n",
      "waiting done outbound_vessel_83 2019-01-08 12:15:07.828810\n",
      "outbound_vessel_83 sail to assigned lock position\n",
      "print doors outbound_vessel_83 ['outbound_vessel_83'] ['outbound_vessel_83']\n",
      "left doors1 outbound_vessel_83 2019-01-08 12:26:14.495477 0 [] ['outbound_vessel_83']\n",
      "outbound_vessel_83 in lock ['outbound_vessel_83']\n",
      "outbound_vessel_83 converting hap 2019-01-08 12:26:14.495477\n",
      "hi 2019-01-08 12:26:14.495477\n",
      "2019-01-08 12:26:14.495477 Node_50 Node_49 Lock doors closing start\n"
     ]
    },
    {
     "name": "stderr",
     "output_type": "stream",
     "text": [
      "c:\\users\\floorbakker\\opentnsim\\opentnsim\\lock.py:711: UserWarning:\n",
      "\n",
      "Converting non-nanosecond precision datetime values to nanosecond precision. This behavior can eventually be relaxed in xarray, as it is an artifact from pandas which is now beginning to support non-nanosecond precision values. This warning is caused by passing non-nanosecond np.datetime64 or np.timedelta64 values to the DataArray or Variable constructor; it can be silenced by converting the values to nanosecond precision ahead of time.\n",
      "\n"
     ]
    },
    {
     "name": "stdout",
     "output_type": "stream",
     "text": [
      "outbound_vessel_83 hap is geconvert 2019-01-08 12:58:14.495477\n",
      "left doors2 outbound_vessel_83 2019-01-08 13:02:35.606588 0 [] []\n",
      "hey ho inbound_vessel_76 []\n",
      "hi inbound_vessel_76 2019-01-08 13:06:46.908032 0\n",
      "hey ho outbound_vessel_84 []\n",
      "hi outbound_vessel_84 2019-01-08 13:09:21.207355 0\n",
      "hey ho outbound_vessel_85 ['outbound_vessel_84']\n",
      "yo outbound_vessel_85 2019-01-08 13:29:40.068525 ['outbound_vessel_84']\n",
      "inbound_vessel_76 start waiting time 2019-01-08 14:05:27.741365\n",
      "claim the lock doors inbound_vessel_76 2019-01-08 14:05:27.741365\n",
      "lock is empty and not converting inbound_vessel_76 2019-01-08 14:05:27.741365 0 []\n",
      "lock doors claimed inbound_vessel_76 2019-01-08 14:05:27.741365\n",
      "waiting done inbound_vessel_76 2019-01-08 14:05:27.741365\n",
      "inbound_vessel_76 sail to assigned lock position\n",
      "outbound_vessel_84 start waiting time 2019-01-08 14:08:02.040688\n",
      "claim the lock doors outbound_vessel_84 2019-01-08 14:08:02.040688\n",
      "requesting approach: else outbound_vessel_84 2019-01-08 14:08:02.040688 1 ['inbound_vessel_76'] ['inbound_vessel_76']\n",
      "print doors inbound_vessel_76 ['inbound_vessel_76'] ['inbound_vessel_76']\n",
      "left doors1 inbound_vessel_76 2019-01-08 14:16:34.408032 [] 1 ['inbound_vessel_76']\n",
      "inbound_vessel_76 in lock ['inbound_vessel_76']\n",
      "inbound_vessel_76 converting hap 2019-01-08 14:16:34.408032\n",
      "hi 2019-01-08 14:16:34.408032\n",
      "2019-01-08 14:16:34.408032 Node_49 Node_50 Lock doors closing start\n"
     ]
    },
    {
     "name": "stderr",
     "output_type": "stream",
     "text": [
      "c:\\users\\floorbakker\\opentnsim\\opentnsim\\lock.py:513: UserWarning:\n",
      "\n",
      "Converting non-nanosecond precision datetime values to nanosecond precision. This behavior can eventually be relaxed in xarray, as it is an artifact from pandas which is now beginning to support non-nanosecond precision values. This warning is caused by passing non-nanosecond np.datetime64 or np.timedelta64 values to the DataArray or Variable constructor; it can be silenced by converting the values to nanosecond precision ahead of time.\n",
      "\n",
      "c:\\users\\floorbakker\\opentnsim\\opentnsim\\lock.py:711: UserWarning:\n",
      "\n",
      "Converting non-nanosecond precision datetime values to nanosecond precision. This behavior can eventually be relaxed in xarray, as it is an artifact from pandas which is now beginning to support non-nanosecond precision values. This warning is caused by passing non-nanosecond np.datetime64 or np.timedelta64 values to the DataArray or Variable constructor; it can be silenced by converting the values to nanosecond precision ahead of time.\n",
      "\n"
     ]
    },
    {
     "name": "stdout",
     "output_type": "stream",
     "text": [
      "outbound_vessel_85 start waiting time 2019-01-08 14:27:14.235192\n",
      "claim the lock doors outbound_vessel_85 2019-01-08 14:27:14.235192\n",
      "lock not empty outbound_vessel_85 ['inbound_vessel_76']\n",
      "lock is already converting outbound_vessel_85 2019-01-08 14:27:14.235192 ['inbound_vessel_76']\n",
      "inbound_vessel_76 hap is geconvert 2019-01-08 15:13:34.408032\n",
      "left doors2 inbound_vessel_76 2019-01-08 15:17:55.519143 1 [] []\n",
      "doors requested outbound_vessel_84\n",
      "claiming lock: priority doors2 not -1 outbound_vessel_84 2019-01-08 15:17:55.519143\n",
      "waiting done outbound_vessel_84 2019-01-08 15:17:55.519143\n",
      "outbound_vessel_84 sail to assigned lock position\n",
      "print doors outbound_vessel_84 ['outbound_vessel_84'] ['outbound_vessel_84']\n",
      "left doors1 outbound_vessel_84 2019-01-08 15:29:02.185810 0 ['outbound_vessel_85'] ['outbound_vessel_84']\n",
      "outbound_vessel_84 in lock ['outbound_vessel_84', 'outbound_vessel_85']\n",
      "waiting for others outbound_vessel_84\n",
      "lock doors claimed outbound_vessel_85 2019-01-08 15:29:02.185810\n",
      "second in line to claim lock outbound_vessel_85 2019-01-08 15:29:02.185810\n",
      "waiting done outbound_vessel_85 2019-01-08 15:29:02.185810\n",
      "hey ho inbound_vessel_77 []\n",
      "hi inbound_vessel_77 2019-01-08 15:31:18.163049 0\n",
      "outbound_vessel_85 sail to assigned lock position\n",
      "hey ho inbound_vessel_78 ['inbound_vessel_77']\n",
      "yo inbound_vessel_78 2019-01-08 15:37:42.596892 ['inbound_vessel_77']\n",
      "print doors outbound_vessel_85 ['outbound_vessel_85'] ['outbound_vessel_85']\n",
      "left doors1 outbound_vessel_85 2019-01-08 15:40:08.852477 0 [] ['outbound_vessel_85']\n",
      "outbound_vessel_85 in lock ['outbound_vessel_84', 'outbound_vessel_85']\n",
      "outbound_vessel_85 converting hap 2019-01-08 15:40:08.852477\n",
      "hi 2019-01-08 15:40:08.852477\n",
      "2019-01-08 15:40:08.852477 Node_50 Node_49 Lock doors closing start\n",
      "waiting for others done outbound_vessel_84\n"
     ]
    },
    {
     "name": "stderr",
     "output_type": "stream",
     "text": [
      "c:\\users\\floorbakker\\opentnsim\\opentnsim\\lock.py:711: UserWarning:\n",
      "\n",
      "Converting non-nanosecond precision datetime values to nanosecond precision. This behavior can eventually be relaxed in xarray, as it is an artifact from pandas which is now beginning to support non-nanosecond precision values. This warning is caused by passing non-nanosecond np.datetime64 or np.timedelta64 values to the DataArray or Variable constructor; it can be silenced by converting the values to nanosecond precision ahead of time.\n",
      "\n"
     ]
    },
    {
     "name": "stdout",
     "output_type": "stream",
     "text": [
      "inbound_vessel_77 start waiting time 2019-01-08 16:29:58.996382\n",
      "claim the lock doors inbound_vessel_77 2019-01-08 16:29:58.996382\n",
      "lock not empty inbound_vessel_77 ['outbound_vessel_84', 'outbound_vessel_85']\n",
      "lock is already converting inbound_vessel_77 2019-01-08 16:29:58.996382 ['outbound_vessel_84', 'outbound_vessel_85']\n",
      "inbound_vessel_78 start waiting time 2019-01-08 16:35:16.763559\n",
      "claim the lock doors inbound_vessel_78 2019-01-08 16:35:16.763559\n",
      "lock not empty inbound_vessel_78 ['outbound_vessel_84', 'outbound_vessel_85']\n",
      "lock is already converting inbound_vessel_78 2019-01-08 16:35:16.763559 ['outbound_vessel_84', 'outbound_vessel_85']\n",
      "outbound_vessel_85 hap is geconvert 2019-01-08 16:42:29.963588\n",
      "left doors2 outbound_vessel_85 2019-01-08 16:50:33.296921 0 [] []\n",
      "lock doors claimed inbound_vessel_77 2019-01-08 16:50:33.296921\n",
      "first in line to claim lock inbound_vessel_77 2019-01-08 16:50:33.296921\n",
      "waiting done inbound_vessel_77 2019-01-08 16:50:33.296921\n",
      "inbound_vessel_77 sail to assigned lock position\n",
      "print doors inbound_vessel_77 ['inbound_vessel_77'] ['inbound_vessel_77']\n",
      "left doors1 inbound_vessel_77 2019-01-08 17:01:39.963588 ['inbound_vessel_78'] 1 ['inbound_vessel_77']\n",
      "inbound_vessel_77 in lock ['inbound_vessel_77', 'inbound_vessel_78']\n",
      "waiting for others inbound_vessel_77\n",
      "lock doors claimed inbound_vessel_78 2019-01-08 17:01:39.963588\n",
      "second in line to claim lock inbound_vessel_78 2019-01-08 17:01:39.963588\n",
      "waiting done inbound_vessel_78 2019-01-08 17:01:39.963588\n",
      "inbound_vessel_78 sail to assigned lock position\n",
      "hey ho outbound_vessel_86 []\n",
      "hi outbound_vessel_86 2019-01-08 17:09:23.473988 0\n",
      "print doors inbound_vessel_78 ['inbound_vessel_78'] ['inbound_vessel_78']\n",
      "left doors1 inbound_vessel_78 2019-01-08 17:12:46.630255 [] 1 ['inbound_vessel_78']\n",
      "inbound_vessel_78 in lock ['inbound_vessel_77', 'inbound_vessel_78']\n",
      "inbound_vessel_78 converting hap 2019-01-08 17:12:46.630255\n",
      "hi 2019-01-08 17:12:46.630255\n",
      "2019-01-08 17:12:46.630255 Node_49 Node_50 Lock doors closing start\n",
      "waiting for others done inbound_vessel_77\n",
      "inbound_vessel_79 start waiting time 2019-01-08 17:21:38.127186\n",
      "wait for lockage True ['inbound_vessel_77', 'inbound_vessel_78'] True\n"
     ]
    },
    {
     "name": "stderr",
     "output_type": "stream",
     "text": [
      "c:\\users\\floorbakker\\opentnsim\\opentnsim\\lock.py:711: UserWarning:\n",
      "\n",
      "Converting non-nanosecond precision datetime values to nanosecond precision. This behavior can eventually be relaxed in xarray, as it is an artifact from pandas which is now beginning to support non-nanosecond precision values. This warning is caused by passing non-nanosecond np.datetime64 or np.timedelta64 values to the DataArray or Variable constructor; it can be silenced by converting the values to nanosecond precision ahead of time.\n",
      "\n"
     ]
    },
    {
     "name": "stdout",
     "output_type": "stream",
     "text": [
      "inbound_vessel_78 hap is geconvert 2019-01-08 18:03:07.741366\n",
      "hey ho outbound_vessel_87 ['outbound_vessel_86']\n",
      "yo outbound_vessel_87 2019-01-08 18:03:24.779400 ['outbound_vessel_86']\n",
      "outbound_vessel_86 start waiting time 2019-01-08 18:08:04.307321\n",
      "claim the lock doors outbound_vessel_86 2019-01-08 18:08:04.307321\n",
      "lock not empty outbound_vessel_86 ['inbound_vessel_78']\n",
      "lock is already converting outbound_vessel_86 2019-01-08 18:08:04.307321 ['inbound_vessel_78']\n",
      "inbound_vessel_79 lock position given 2019-01-08 18:08:41.074699\n",
      "inbound_vessel_79 requested place in next lockage 2019-01-08 18:08:41.074699\n",
      "claim the lock doors inbound_vessel_79 2019-01-08 18:08:41.074699\n",
      "requesting approach: else inbound_vessel_79 2019-01-08 18:08:41.074699 0 [] ['inbound_vessel_78']\n",
      "doors requested inbound_vessel_79\n",
      "claiming lock: priority doors2 is -1 inbound_vessel_79 2019-01-08 18:08:41.074699\n",
      "inbound_vessel_79 wth\n",
      "hi 2019-01-08 18:08:41.074699\n",
      "2019-01-08 18:08:41.074699 Node_50 Node_49 Lock doors closing start\n"
     ]
    },
    {
     "name": "stderr",
     "output_type": "stream",
     "text": [
      "c:\\users\\floorbakker\\opentnsim\\opentnsim\\lock.py:711: UserWarning:\n",
      "\n",
      "Converting non-nanosecond precision datetime values to nanosecond precision. This behavior can eventually be relaxed in xarray, as it is an artifact from pandas which is now beginning to support non-nanosecond precision values. This warning is caused by passing non-nanosecond np.datetime64 or np.timedelta64 values to the DataArray or Variable constructor; it can be silenced by converting the values to nanosecond precision ahead of time.\n",
      "\n"
     ]
    },
    {
     "name": "stdout",
     "output_type": "stream",
     "text": [
      "waiting done inbound_vessel_79 2019-01-08 18:32:41.074699\n",
      "inbound_vessel_79 sail to assigned lock position\n",
      "hey ho inbound_vessel_80 ['inbound_vessel_79']\n",
      "yo inbound_vessel_80 2019-01-08 18:41:11.016304 ['inbound_vessel_79']\n",
      "print doors inbound_vessel_79 ['inbound_vessel_79'] ['inbound_vessel_79']\n",
      "left doors1 inbound_vessel_79 2019-01-08 18:43:47.741366 [] 1 ['inbound_vessel_79']\n",
      "inbound_vessel_79 in lock ['inbound_vessel_79', 'inbound_vessel_80']\n",
      "waiting for others inbound_vessel_79\n",
      "outbound_vessel_87 start waiting time 2019-01-08 19:00:58.946067\n",
      "claim the lock doors outbound_vessel_87 2019-01-08 19:00:58.946067\n",
      "requesting approach: else outbound_vessel_87 2019-01-08 19:00:58.946067 1 ['inbound_vessel_79'] []\n",
      "inbound_vessel_80 start waiting time 2019-01-08 19:39:51.849637\n",
      "claim the lock doors inbound_vessel_80 2019-01-08 19:39:51.849637\n",
      "lock not empty inbound_vessel_80 ['inbound_vessel_79']\n",
      "lock is ready to be entered 2019-01-08 19:39:51.849637\n",
      "lock doors claimed inbound_vessel_80 2019-01-08 19:39:51.849637\n",
      "waiting done inbound_vessel_80 2019-01-08 19:39:51.849637\n",
      "inbound_vessel_80 sail to assigned lock position\n",
      "print doors inbound_vessel_80 ['inbound_vessel_80'] ['inbound_vessel_80']\n",
      "left doors1 inbound_vessel_80 2019-01-08 19:47:16.294082 [] 1 ['inbound_vessel_80']\n",
      "inbound_vessel_80 in lock ['inbound_vessel_79', 'inbound_vessel_80']\n",
      "inbound_vessel_80 converting hap 2019-01-08 19:47:16.294082\n",
      "hi 2019-01-08 19:47:16.294082\n",
      "2019-01-08 19:47:16.294082 Node_49 Node_50 Lock doors closing start\n",
      "waiting for others done inbound_vessel_79\n"
     ]
    },
    {
     "name": "stderr",
     "output_type": "stream",
     "text": [
      "c:\\users\\floorbakker\\opentnsim\\opentnsim\\lock.py:513: UserWarning:\n",
      "\n",
      "Converting non-nanosecond precision datetime values to nanosecond precision. This behavior can eventually be relaxed in xarray, as it is an artifact from pandas which is now beginning to support non-nanosecond precision values. This warning is caused by passing non-nanosecond np.datetime64 or np.timedelta64 values to the DataArray or Variable constructor; it can be silenced by converting the values to nanosecond precision ahead of time.\n",
      "\n",
      "c:\\users\\floorbakker\\opentnsim\\opentnsim\\lock.py:711: UserWarning:\n",
      "\n",
      "Converting non-nanosecond precision datetime values to nanosecond precision. This behavior can eventually be relaxed in xarray, as it is an artifact from pandas which is now beginning to support non-nanosecond precision values. This warning is caused by passing non-nanosecond np.datetime64 or np.timedelta64 values to the DataArray or Variable constructor; it can be silenced by converting the values to nanosecond precision ahead of time.\n",
      "\n"
     ]
    },
    {
     "name": "stdout",
     "output_type": "stream",
     "text": [
      "inbound_vessel_81 start waiting time 2019-01-08 20:01:49.908322\n",
      "wait for lockage True ['inbound_vessel_79', 'inbound_vessel_80'] True\n",
      "inbound_vessel_80 hap is geconvert 2019-01-08 20:41:37.405193\n",
      "inbound_vessel_81 lock position given 2019-01-08 20:47:10.738526\n",
      "inbound_vessel_81 requested place in next lockage 2019-01-08 20:47:10.738526\n",
      "claim the lock doors inbound_vessel_81 2019-01-08 20:47:10.738526\n",
      "requesting approach: else inbound_vessel_81 2019-01-08 20:47:10.738526 0 [] ['inbound_vessel_80']\n",
      "doors requested inbound_vessel_81\n",
      "claiming lock: priority doors2 is -1 inbound_vessel_81 2019-01-08 20:47:10.738526\n",
      "inbound_vessel_81 wth\n",
      "hi 2019-01-08 20:47:10.738526\n",
      "2019-01-08 20:47:10.738526 Node_50 Node_49 Lock doors closing start\n"
     ]
    },
    {
     "name": "stderr",
     "output_type": "stream",
     "text": [
      "c:\\users\\floorbakker\\opentnsim\\opentnsim\\lock.py:711: UserWarning:\n",
      "\n",
      "Converting non-nanosecond precision datetime values to nanosecond precision. This behavior can eventually be relaxed in xarray, as it is an artifact from pandas which is now beginning to support non-nanosecond precision values. This warning is caused by passing non-nanosecond np.datetime64 or np.timedelta64 values to the DataArray or Variable constructor; it can be silenced by converting the values to nanosecond precision ahead of time.\n",
      "\n"
     ]
    },
    {
     "name": "stdout",
     "output_type": "stream",
     "text": [
      "waiting done inbound_vessel_81 2019-01-08 21:45:10.738526\n",
      "inbound_vessel_81 sail to assigned lock position\n",
      "print doors inbound_vessel_81 ['inbound_vessel_81'] ['inbound_vessel_81']\n",
      "left doors1 inbound_vessel_81 2019-01-08 21:56:17.405193 [] 1 ['inbound_vessel_81']\n",
      "inbound_vessel_81 in lock ['inbound_vessel_81']\n",
      "inbound_vessel_81 converting hap 2019-01-08 21:56:17.405193\n",
      "hi 2019-01-08 21:56:17.405193\n",
      "2019-01-08 21:56:17.405193 Node_49 Node_50 Lock doors closing start\n"
     ]
    },
    {
     "name": "stderr",
     "output_type": "stream",
     "text": [
      "c:\\users\\floorbakker\\opentnsim\\opentnsim\\lock.py:711: UserWarning:\n",
      "\n",
      "Converting non-nanosecond precision datetime values to nanosecond precision. This behavior can eventually be relaxed in xarray, as it is an artifact from pandas which is now beginning to support non-nanosecond precision values. This warning is caused by passing non-nanosecond np.datetime64 or np.timedelta64 values to the DataArray or Variable constructor; it can be silenced by converting the values to nanosecond precision ahead of time.\n",
      "\n"
     ]
    },
    {
     "name": "stdout",
     "output_type": "stream",
     "text": [
      "inbound_vessel_81 hap is geconvert 2019-01-08 22:54:17.405193\n",
      "hey ho inbound_vessel_82 []\n",
      "hi inbound_vessel_82 2019-01-08 22:58:28.514758 0\n",
      "left doors2 inbound_vessel_81 2019-01-08 22:58:38.516304 1 [] []\n",
      "lock doors claimed outbound_vessel_86 2019-01-08 22:58:38.516304\n",
      "first in line to claim lock outbound_vessel_86 2019-01-08 22:58:38.516304\n",
      "waiting done outbound_vessel_86 2019-01-08 22:58:38.516304\n",
      "outbound_vessel_86 sail to assigned lock position\n",
      "print doors outbound_vessel_86 ['outbound_vessel_86'] ['outbound_vessel_86']\n",
      "left doors1 outbound_vessel_86 2019-01-08 23:09:45.182971 0 ['outbound_vessel_87'] ['outbound_vessel_86']\n",
      "outbound_vessel_86 in lock ['outbound_vessel_86', 'outbound_vessel_87']\n",
      "waiting for others outbound_vessel_86\n",
      "doors requested outbound_vessel_87\n",
      "claiming lock: priority doors2 is -1 outbound_vessel_87 2019-01-08 23:09:45.182971\n",
      "waiting done outbound_vessel_87 2019-01-08 23:09:45.182971\n",
      "outbound_vessel_87 sail to assigned lock position\n",
      "outbound_vessel_88 start waiting time 2019-01-08 23:19:56.294082\n",
      "wait for lockage True ['outbound_vessel_86', 'outbound_vessel_87'] False\n",
      "print doors outbound_vessel_87 ['outbound_vessel_87'] ['outbound_vessel_87']\n",
      "left doors1 outbound_vessel_87 2019-01-08 23:20:51.849638 0 [] ['outbound_vessel_87']\n",
      "outbound_vessel_87 in lock ['outbound_vessel_86', 'outbound_vessel_87']\n",
      "outbound_vessel_87 converting hap 2019-01-08 23:20:51.849638\n",
      "hi 2019-01-08 23:20:51.849638\n",
      "2019-01-08 23:20:51.849638 Node_50 Node_49 Lock doors closing start\n",
      "waiting for others done outbound_vessel_86\n"
     ]
    },
    {
     "name": "stderr",
     "output_type": "stream",
     "text": [
      "c:\\users\\floorbakker\\opentnsim\\opentnsim\\lock.py:711: UserWarning:\n",
      "\n",
      "Converting non-nanosecond precision datetime values to nanosecond precision. This behavior can eventually be relaxed in xarray, as it is an artifact from pandas which is now beginning to support non-nanosecond precision values. This warning is caused by passing non-nanosecond np.datetime64 or np.timedelta64 values to the DataArray or Variable constructor; it can be silenced by converting the values to nanosecond precision ahead of time.\n",
      "\n"
     ]
    },
    {
     "name": "stdout",
     "output_type": "stream",
     "text": [
      "outbound_vessel_89 start waiting time 2019-01-08 23:35:38.348932\n",
      "wait for lockage True ['outbound_vessel_86', 'outbound_vessel_87'] True\n",
      "inbound_vessel_82 start waiting time 2019-01-08 23:57:09.348091\n",
      "claim the lock doors inbound_vessel_82 2019-01-08 23:57:09.348091\n",
      "lock not empty inbound_vessel_82 ['outbound_vessel_86', 'outbound_vessel_87']\n",
      "lock is already converting inbound_vessel_82 2019-01-08 23:57:09.348091 ['outbound_vessel_86', 'outbound_vessel_87']\n",
      "outbound_vessel_87 hap is geconvert 2019-01-09 00:12:12.960749\n",
      "outbound_vessel_88 lock position given 2019-01-09 00:17:46.294082\n",
      "outbound_vessel_88 requested place in next lockage 2019-01-09 00:17:46.294082\n",
      "claim the lock doors outbound_vessel_88 2019-01-09 00:17:46.294082\n",
      "requesting approach: else outbound_vessel_88 2019-01-09 00:17:46.294082 0 [] ['outbound_vessel_87']\n",
      "outbound_vessel_89 lock position given 2019-01-09 00:17:46.294082\n",
      "outbound_vessel_89 requested place in next lockage 2019-01-09 00:17:46.294082\n",
      "claim the lock doors outbound_vessel_89 2019-01-09 00:17:46.294082\n",
      "requesting approach: else outbound_vessel_89 2019-01-09 00:17:46.294082 0 ['outbound_vessel_88'] ['outbound_vessel_87']\n",
      "doors requested outbound_vessel_88\n",
      "claiming lock: priority doors2 is -1 outbound_vessel_88 2019-01-09 00:17:46.294082\n",
      "outbound_vessel_88 wth\n",
      "hi 2019-01-09 00:17:46.294082\n",
      "2019-01-09 00:17:46.294082 Node_49 Node_50 Lock doors closing start\n"
     ]
    },
    {
     "name": "stderr",
     "output_type": "stream",
     "text": [
      "c:\\users\\floorbakker\\opentnsim\\opentnsim\\lock.py:711: UserWarning:\n",
      "\n",
      "Converting non-nanosecond precision datetime values to nanosecond precision. This behavior can eventually be relaxed in xarray, as it is an artifact from pandas which is now beginning to support non-nanosecond precision values. This warning is caused by passing non-nanosecond np.datetime64 or np.timedelta64 values to the DataArray or Variable constructor; it can be silenced by converting the values to nanosecond precision ahead of time.\n",
      "\n"
     ]
    },
    {
     "name": "stdout",
     "output_type": "stream",
     "text": [
      "waiting done outbound_vessel_88 2019-01-09 00:44:46.294082\n",
      "outbound_vessel_88 sail to assigned lock position\n",
      "print doors outbound_vessel_88 ['outbound_vessel_88'] ['outbound_vessel_88']\n",
      "left doors1 outbound_vessel_88 2019-01-09 00:50:19.627416 0 ['outbound_vessel_89'] ['outbound_vessel_88']\n",
      "outbound_vessel_88 in lock ['outbound_vessel_88', 'outbound_vessel_89']\n",
      "waiting for others outbound_vessel_88\n",
      "doors requested outbound_vessel_89\n",
      "claiming lock: priority doors2 is -1 outbound_vessel_89 2019-01-09 00:50:19.627416\n",
      "waiting done outbound_vessel_89 2019-01-09 00:50:19.627416\n",
      "outbound_vessel_89 sail to assigned lock position\n",
      "print doors outbound_vessel_89 ['outbound_vessel_89'] ['outbound_vessel_89']\n",
      "left doors1 outbound_vessel_89 2019-01-09 01:01:26.294082 0 [] ['outbound_vessel_89']\n",
      "outbound_vessel_89 in lock ['outbound_vessel_88', 'outbound_vessel_89']\n",
      "outbound_vessel_89 converting hap 2019-01-09 01:01:26.294082\n",
      "hi 2019-01-09 01:01:26.294082\n",
      "2019-01-09 01:01:26.294082 Node_50 Node_49 Lock doors closing start\n",
      "waiting for others done outbound_vessel_88\n"
     ]
    },
    {
     "name": "stderr",
     "output_type": "stream",
     "text": [
      "c:\\users\\floorbakker\\opentnsim\\opentnsim\\lock.py:711: UserWarning:\n",
      "\n",
      "Converting non-nanosecond precision datetime values to nanosecond precision. This behavior can eventually be relaxed in xarray, as it is an artifact from pandas which is now beginning to support non-nanosecond precision values. This warning is caused by passing non-nanosecond np.datetime64 or np.timedelta64 values to the DataArray or Variable constructor; it can be silenced by converting the values to nanosecond precision ahead of time.\n",
      "\n"
     ]
    },
    {
     "name": "stdout",
     "output_type": "stream",
     "text": [
      "hey ho inbound_vessel_83 ['inbound_vessel_82']\n",
      "yo inbound_vessel_83 2019-01-09 01:23:47.774809 ['inbound_vessel_82']\n",
      "outbound_vessel_89 hap is geconvert 2019-01-09 01:43:20.738527\n",
      "left doors2 outbound_vessel_89 2019-01-09 01:51:24.071860 0 [] []\n",
      "lock doors claimed inbound_vessel_82 2019-01-09 01:51:24.071860\n",
      "first in line to claim lock inbound_vessel_82 2019-01-09 01:51:24.071860\n",
      "waiting done inbound_vessel_82 2019-01-09 01:51:24.071860\n",
      "inbound_vessel_82 sail to assigned lock position\n",
      "print doors inbound_vessel_82 ['inbound_vessel_82'] ['inbound_vessel_82']\n",
      "left doors1 inbound_vessel_82 2019-01-09 02:02:30.738527 [] 1 ['inbound_vessel_82']\n",
      "inbound_vessel_82 in lock ['inbound_vessel_82', 'inbound_vessel_83']\n",
      "waiting for others inbound_vessel_82\n",
      "hey ho outbound_vessel_90 []\n",
      "hi outbound_vessel_90 2019-01-09 02:04:55.591016 0\n",
      "inbound_vessel_83 start waiting time 2019-01-09 02:22:28.608142\n",
      "claim the lock doors inbound_vessel_83 2019-01-09 02:22:28.608142\n",
      "lock not empty inbound_vessel_83 ['inbound_vessel_82']\n",
      "lock is ready to be entered 2019-01-09 02:22:28.608142\n",
      "lock doors claimed inbound_vessel_83 2019-01-09 02:22:28.608142\n",
      "waiting done inbound_vessel_83 2019-01-09 02:22:28.608142\n",
      "inbound_vessel_83 sail to assigned lock position\n",
      "print doors inbound_vessel_83 ['inbound_vessel_83'] ['inbound_vessel_83']\n",
      "left doors1 inbound_vessel_83 2019-01-09 02:29:53.052587 [] 1 ['inbound_vessel_83']\n",
      "inbound_vessel_83 in lock ['inbound_vessel_82', 'inbound_vessel_83']\n",
      "inbound_vessel_83 converting hap 2019-01-09 02:29:53.052587\n",
      "hi 2019-01-09 02:29:53.052587\n",
      "2019-01-09 02:29:53.052587 Node_49 Node_50 Lock doors closing start\n",
      "waiting for others done inbound_vessel_82\n"
     ]
    },
    {
     "name": "stderr",
     "output_type": "stream",
     "text": [
      "c:\\users\\floorbakker\\opentnsim\\opentnsim\\lock.py:711: UserWarning:\n",
      "\n",
      "Converting non-nanosecond precision datetime values to nanosecond precision. This behavior can eventually be relaxed in xarray, as it is an artifact from pandas which is now beginning to support non-nanosecond precision values. This warning is caused by passing non-nanosecond np.datetime64 or np.timedelta64 values to the DataArray or Variable constructor; it can be silenced by converting the values to nanosecond precision ahead of time.\n",
      "\n"
     ]
    },
    {
     "name": "stdout",
     "output_type": "stream",
     "text": [
      "hey ho outbound_vessel_91 ['outbound_vessel_90']\n",
      "yo outbound_vessel_91 2019-01-09 02:40:38.591676 ['outbound_vessel_90']\n",
      "outbound_vessel_90 start waiting time 2019-01-09 03:03:36.424349\n",
      "claim the lock doors outbound_vessel_90 2019-01-09 03:03:36.424349\n",
      "lock not empty outbound_vessel_90 ['inbound_vessel_82', 'inbound_vessel_83']\n",
      "lock is already converting outbound_vessel_90 2019-01-09 03:03:36.424349 ['inbound_vessel_82', 'inbound_vessel_83']\n",
      "inbound_vessel_83 hap is geconvert 2019-01-09 03:28:14.163698\n",
      "left doors2 inbound_vessel_83 2019-01-09 03:36:17.497031 1 [] []\n",
      "lock doors claimed outbound_vessel_90 2019-01-09 03:36:17.497031\n",
      "first in line to claim lock outbound_vessel_90 2019-01-09 03:36:17.497031\n",
      "waiting done outbound_vessel_90 2019-01-09 03:36:17.497031\n",
      "outbound_vessel_90 sail to assigned lock position\n",
      "outbound_vessel_91 start waiting time 2019-01-09 03:39:19.425009\n",
      "claim the lock doors outbound_vessel_91 2019-01-09 03:39:19.425009\n",
      "lock not empty outbound_vessel_91 ['outbound_vessel_90']\n",
      "lock is ready to be entered 2019-01-09 03:39:19.425009\n",
      "print doors outbound_vessel_90 ['outbound_vessel_90'] ['outbound_vessel_90']\n",
      "left doors1 outbound_vessel_90 2019-01-09 03:47:24.163698 0 ['outbound_vessel_91'] ['outbound_vessel_90']\n",
      "outbound_vessel_90 in lock ['outbound_vessel_90', 'outbound_vessel_91']\n",
      "waiting for others outbound_vessel_90\n",
      "lock doors claimed outbound_vessel_91 2019-01-09 03:47:24.163698\n",
      "waiting done outbound_vessel_91 2019-01-09 03:47:24.163698\n",
      "outbound_vessel_91 sail to assigned lock position\n",
      "print doors outbound_vessel_91 ['outbound_vessel_91'] ['outbound_vessel_91']\n",
      "left doors1 outbound_vessel_91 2019-01-09 03:54:48.608143 0 [] ['outbound_vessel_91']\n",
      "outbound_vessel_91 in lock ['outbound_vessel_90', 'outbound_vessel_91']\n",
      "outbound_vessel_91 converting hap 2019-01-09 03:54:48.608143\n",
      "hi 2019-01-09 03:54:48.608143\n",
      "2019-01-09 03:54:48.608143 Node_50 Node_49 Lock doors closing start\n",
      "waiting for others done outbound_vessel_90\n"
     ]
    },
    {
     "name": "stderr",
     "output_type": "stream",
     "text": [
      "c:\\users\\floorbakker\\opentnsim\\opentnsim\\lock.py:711: UserWarning:\n",
      "\n",
      "Converting non-nanosecond precision datetime values to nanosecond precision. This behavior can eventually be relaxed in xarray, as it is an artifact from pandas which is now beginning to support non-nanosecond precision values. This warning is caused by passing non-nanosecond np.datetime64 or np.timedelta64 values to the DataArray or Variable constructor; it can be silenced by converting the values to nanosecond precision ahead of time.\n",
      "\n"
     ]
    },
    {
     "name": "stdout",
     "output_type": "stream",
     "text": [
      "outbound_vessel_91 hap is geconvert 2019-01-09 04:58:09.719254\n",
      "left doors2 outbound_vessel_91 2019-01-09 05:06:13.052587 0 [] []\n",
      "hey ho inbound_vessel_84 []\n",
      "hi inbound_vessel_84 2019-01-09 05:14:26.625244 0\n",
      "outbound_vessel_92 start waiting time 2019-01-09 05:29:54.010410\n",
      "outbound_vessel_92 lock position given 2019-01-09 05:29:54.010410\n",
      "outbound_vessel_92 requested place in next lockage 2019-01-09 05:29:54.010410\n",
      "claim the lock doors outbound_vessel_92 2019-01-09 05:29:54.010410\n",
      "requesting approach: else outbound_vessel_92 2019-01-09 05:29:54.010410 0 ['inbound_vessel_84'] []\n",
      "inbound_vessel_84 start waiting time 2019-01-09 06:13:07.458577\n",
      "claim the lock doors inbound_vessel_84 2019-01-09 06:13:07.458577\n",
      "lock is empty and not converting inbound_vessel_84 2019-01-09 06:13:07.458577 0 []\n",
      "lock doors claimed inbound_vessel_84 2019-01-09 06:13:07.458577\n",
      "waiting done inbound_vessel_84 2019-01-09 06:13:07.458577\n",
      "inbound_vessel_84 sail to assigned lock position\n",
      "print doors inbound_vessel_84 ['inbound_vessel_84'] ['inbound_vessel_84']\n",
      "left doors1 inbound_vessel_84 2019-01-09 06:24:14.125244 [] 1 ['inbound_vessel_84']\n",
      "inbound_vessel_84 in lock ['inbound_vessel_84']\n",
      "inbound_vessel_84 converting hap 2019-01-09 06:24:14.125244\n",
      "hi 2019-01-09 06:24:14.125244\n",
      "2019-01-09 06:24:14.125244 Node_49 Node_50 Lock doors closing start\n",
      "hey ho outbound_vessel_93 ['outbound_vessel_92']\n",
      "yo outbound_vessel_93 2019-01-09 06:32:25.172650 ['outbound_vessel_92']\n"
     ]
    },
    {
     "name": "stderr",
     "output_type": "stream",
     "text": [
      "c:\\users\\floorbakker\\opentnsim\\opentnsim\\lock.py:513: UserWarning:\n",
      "\n",
      "Converting non-nanosecond precision datetime values to nanosecond precision. This behavior can eventually be relaxed in xarray, as it is an artifact from pandas which is now beginning to support non-nanosecond precision values. This warning is caused by passing non-nanosecond np.datetime64 or np.timedelta64 values to the DataArray or Variable constructor; it can be silenced by converting the values to nanosecond precision ahead of time.\n",
      "\n",
      "c:\\users\\floorbakker\\opentnsim\\opentnsim\\lock.py:711: UserWarning:\n",
      "\n",
      "Converting non-nanosecond precision datetime values to nanosecond precision. This behavior can eventually be relaxed in xarray, as it is an artifact from pandas which is now beginning to support non-nanosecond precision values. This warning is caused by passing non-nanosecond np.datetime64 or np.timedelta64 values to the DataArray or Variable constructor; it can be silenced by converting the values to nanosecond precision ahead of time.\n",
      "\n"
     ]
    },
    {
     "name": "stdout",
     "output_type": "stream",
     "text": [
      "inbound_vessel_84 hap is geconvert 2019-01-09 06:58:14.125244\n",
      "left doors2 inbound_vessel_84 2019-01-09 07:02:35.236355 1 [] []\n",
      "doors requested outbound_vessel_92\n",
      "claiming lock: priority doors2 not -1 outbound_vessel_92 2019-01-09 07:02:35.236355\n",
      "waiting done outbound_vessel_92 2019-01-09 07:02:35.236355\n",
      "outbound_vessel_92 sail to assigned lock position\n",
      "print doors outbound_vessel_92 ['outbound_vessel_92'] ['outbound_vessel_92']\n",
      "left doors1 outbound_vessel_92 2019-01-09 07:13:41.903022 0 [] ['outbound_vessel_92']\n",
      "outbound_vessel_92 in lock ['outbound_vessel_92', 'outbound_vessel_93']\n",
      "waiting for others outbound_vessel_92\n",
      "outbound_vessel_93 start waiting time 2019-01-09 07:31:06.005983\n",
      "claim the lock doors outbound_vessel_93 2019-01-09 07:31:06.005983\n",
      "lock not empty outbound_vessel_93 ['outbound_vessel_92']\n",
      "lock is ready to be entered 2019-01-09 07:31:06.005983\n",
      "lock doors claimed outbound_vessel_93 2019-01-09 07:31:06.005983\n",
      "waiting done outbound_vessel_93 2019-01-09 07:31:06.005983\n",
      "outbound_vessel_93 sail to assigned lock position\n",
      "print doors outbound_vessel_93 ['outbound_vessel_93'] ['outbound_vessel_93']\n",
      "left doors1 outbound_vessel_93 2019-01-09 07:38:30.450428 0 [] ['outbound_vessel_93']\n",
      "outbound_vessel_93 in lock ['outbound_vessel_92', 'outbound_vessel_93']\n",
      "outbound_vessel_93 converting hap 2019-01-09 07:38:30.450428\n",
      "hi 2019-01-09 07:38:30.450428\n",
      "2019-01-09 07:38:30.450428 Node_50 Node_49 Lock doors closing start\n",
      "waiting for others done outbound_vessel_92\n"
     ]
    },
    {
     "name": "stderr",
     "output_type": "stream",
     "text": [
      "c:\\users\\floorbakker\\opentnsim\\opentnsim\\lock.py:711: UserWarning:\n",
      "\n",
      "Converting non-nanosecond precision datetime values to nanosecond precision. This behavior can eventually be relaxed in xarray, as it is an artifact from pandas which is now beginning to support non-nanosecond precision values. This warning is caused by passing non-nanosecond np.datetime64 or np.timedelta64 values to the DataArray or Variable constructor; it can be silenced by converting the values to nanosecond precision ahead of time.\n",
      "\n"
     ]
    },
    {
     "name": "stdout",
     "output_type": "stream",
     "text": [
      "hey ho inbound_vessel_85 []\n",
      "hi inbound_vessel_85 2019-01-09 08:06:47.457145 0\n",
      "outbound_vessel_93 hap is geconvert 2019-01-09 08:23:51.561539\n",
      "left doors2 outbound_vessel_93 2019-01-09 08:31:54.894872 0 [] []\n",
      "hey ho outbound_vessel_94 []\n",
      "hi outbound_vessel_94 2019-01-09 08:39:34.402964 0\n",
      "hey ho inbound_vessel_86 ['inbound_vessel_85']\n",
      "yo inbound_vessel_86 2019-01-09 08:57:19.758887 ['inbound_vessel_85']\n",
      "inbound_vessel_85 start waiting time 2019-01-09 09:05:28.290478\n",
      "claim the lock doors inbound_vessel_85 2019-01-09 09:05:28.290478\n",
      "lock is empty and not converting inbound_vessel_85 2019-01-09 09:05:28.290478 0 []\n",
      "lock doors claimed inbound_vessel_85 2019-01-09 09:05:28.290478\n",
      "waiting done inbound_vessel_85 2019-01-09 09:05:28.290478\n",
      "inbound_vessel_85 sail to assigned lock position\n",
      "print doors inbound_vessel_85 ['inbound_vessel_85'] ['inbound_vessel_85']\n",
      "left doors1 inbound_vessel_85 2019-01-09 09:16:34.957145 [] 1 ['inbound_vessel_85']\n",
      "inbound_vessel_85 in lock ['inbound_vessel_85', 'inbound_vessel_86']\n",
      "waiting for others inbound_vessel_85\n",
      "outbound_vessel_94 start waiting time 2019-01-09 09:38:15.236297\n",
      "claim the lock doors outbound_vessel_94 2019-01-09 09:38:15.236297\n",
      "requesting approach: else outbound_vessel_94 2019-01-09 09:38:15.236297 1 ['inbound_vessel_85'] []\n",
      "inbound_vessel_86 start waiting time 2019-01-09 09:56:00.592220\n",
      "claim the lock doors inbound_vessel_86 2019-01-09 09:56:00.592220\n",
      "lock not empty inbound_vessel_86 ['inbound_vessel_85']\n",
      "lock is ready to be entered 2019-01-09 09:56:00.592220\n",
      "lock doors claimed inbound_vessel_86 2019-01-09 09:56:00.592220\n",
      "waiting done inbound_vessel_86 2019-01-09 09:56:00.592220\n",
      "inbound_vessel_86 sail to assigned lock position\n",
      "print doors inbound_vessel_86 ['inbound_vessel_86'] ['inbound_vessel_86']\n",
      "left doors1 inbound_vessel_86 2019-01-09 10:03:25.036665 [] 1 ['inbound_vessel_86']\n",
      "inbound_vessel_86 in lock ['inbound_vessel_85', 'inbound_vessel_86']\n",
      "inbound_vessel_86 converting hap 2019-01-09 10:03:25.036665\n",
      "hi 2019-01-09 10:03:25.036665\n",
      "2019-01-09 10:03:25.036665 Node_49 Node_50 Lock doors closing start\n",
      "waiting for others done inbound_vessel_85\n",
      "inbound_vessel_87 start waiting time 2019-01-09 10:10:40.214720\n",
      "wait for lockage True ['inbound_vessel_85', 'inbound_vessel_86'] True\n"
     ]
    },
    {
     "name": "stderr",
     "output_type": "stream",
     "text": [
      "c:\\users\\floorbakker\\opentnsim\\opentnsim\\lock.py:513: UserWarning:\n",
      "\n",
      "Converting non-nanosecond precision datetime values to nanosecond precision. This behavior can eventually be relaxed in xarray, as it is an artifact from pandas which is now beginning to support non-nanosecond precision values. This warning is caused by passing non-nanosecond np.datetime64 or np.timedelta64 values to the DataArray or Variable constructor; it can be silenced by converting the values to nanosecond precision ahead of time.\n",
      "\n",
      "c:\\users\\floorbakker\\opentnsim\\opentnsim\\lock.py:711: UserWarning:\n",
      "\n",
      "Converting non-nanosecond precision datetime values to nanosecond precision. This behavior can eventually be relaxed in xarray, as it is an artifact from pandas which is now beginning to support non-nanosecond precision values. This warning is caused by passing non-nanosecond np.datetime64 or np.timedelta64 values to the DataArray or Variable constructor; it can be silenced by converting the values to nanosecond precision ahead of time.\n",
      "\n"
     ]
    },
    {
     "name": "stdout",
     "output_type": "stream",
     "text": [
      "inbound_vessel_88 start waiting time 2019-01-09 10:15:01.617143\n",
      "wait for lockage True ['inbound_vessel_85', 'inbound_vessel_86'] True\n",
      "hey ho outbound_vessel_95 ['outbound_vessel_94']\n",
      "yo outbound_vessel_95 2019-01-09 10:57:18.166639 ['outbound_vessel_94']\n",
      "inbound_vessel_86 hap is geconvert 2019-01-09 11:06:46.147776\n",
      "inbound_vessel_87 lock position given 2019-01-09 11:12:19.481109\n",
      "inbound_vessel_87 requested place in next lockage 2019-01-09 11:12:19.481109\n",
      "claim the lock doors inbound_vessel_87 2019-01-09 11:12:19.481109\n",
      "requesting approach: else inbound_vessel_87 2019-01-09 11:12:19.481109 0 [] ['inbound_vessel_86']\n",
      "inbound_vessel_88 lock position given 2019-01-09 11:12:19.481109\n",
      "inbound_vessel_88 requested place in next lockage 2019-01-09 11:12:19.481109\n",
      "claim the lock doors inbound_vessel_88 2019-01-09 11:12:19.481109\n",
      "requesting approach: else inbound_vessel_88 2019-01-09 11:12:19.481109 0 ['inbound_vessel_87'] ['inbound_vessel_86']\n",
      "doors requested inbound_vessel_87\n",
      "claiming lock: priority doors2 is -1 inbound_vessel_87 2019-01-09 11:12:19.481109\n",
      "inbound_vessel_87 wth\n",
      "hi 2019-01-09 11:12:19.481109\n",
      "2019-01-09 11:12:19.481109 Node_50 Node_49 Lock doors closing start\n"
     ]
    },
    {
     "name": "stderr",
     "output_type": "stream",
     "text": [
      "c:\\users\\floorbakker\\opentnsim\\opentnsim\\lock.py:711: UserWarning:\n",
      "\n",
      "Converting non-nanosecond precision datetime values to nanosecond precision. This behavior can eventually be relaxed in xarray, as it is an artifact from pandas which is now beginning to support non-nanosecond precision values. This warning is caused by passing non-nanosecond np.datetime64 or np.timedelta64 values to the DataArray or Variable constructor; it can be silenced by converting the values to nanosecond precision ahead of time.\n",
      "\n"
     ]
    },
    {
     "name": "stdout",
     "output_type": "stream",
     "text": [
      "outbound_vessel_95 start waiting time 2019-01-09 11:54:52.333306\n",
      "claim the lock doors outbound_vessel_95 2019-01-09 11:54:52.333306\n",
      "wait in lock first 2019-01-09 11:54:52.333306\n",
      "waiting done inbound_vessel_87 2019-01-09 12:06:19.481109\n",
      "inbound_vessel_87 sail to assigned lock position\n",
      "print doors inbound_vessel_87 ['inbound_vessel_87'] ['inbound_vessel_87']\n",
      "left doors1 inbound_vessel_87 2019-01-09 12:11:52.814443 ['inbound_vessel_88'] 1 ['inbound_vessel_87']\n",
      "inbound_vessel_87 in lock ['inbound_vessel_87', 'inbound_vessel_88']\n",
      "waiting for others inbound_vessel_87\n",
      "doors requested inbound_vessel_88\n",
      "claiming lock: priority doors2 is -1 inbound_vessel_88 2019-01-09 12:11:52.814443\n",
      "waiting done inbound_vessel_88 2019-01-09 12:11:52.814443\n",
      "inbound_vessel_88 sail to assigned lock position\n",
      "print doors inbound_vessel_88 ['inbound_vessel_88'] ['inbound_vessel_88']\n",
      "left doors1 inbound_vessel_88 2019-01-09 12:22:59.481110 ['outbound_vessel_95'] 1 ['inbound_vessel_88']\n",
      "inbound_vessel_88 in lock ['inbound_vessel_87', 'inbound_vessel_88']\n",
      "requesting approach: else outbound_vessel_95 2019-01-09 12:22:59.481110 2 ['inbound_vessel_88'] []\n",
      "inbound_vessel_88 converting hap 2019-01-09 12:22:59.481110\n",
      "hi 2019-01-09 12:22:59.481110\n",
      "2019-01-09 12:22:59.481110 Node_49 Node_50 Lock doors closing start\n",
      "waiting for others done inbound_vessel_87\n"
     ]
    },
    {
     "name": "stderr",
     "output_type": "stream",
     "text": [
      "c:\\users\\floorbakker\\opentnsim\\opentnsim\\lock.py:711: UserWarning:\n",
      "\n",
      "Converting non-nanosecond precision datetime values to nanosecond precision. This behavior can eventually be relaxed in xarray, as it is an artifact from pandas which is now beginning to support non-nanosecond precision values. This warning is caused by passing non-nanosecond np.datetime64 or np.timedelta64 values to the DataArray or Variable constructor; it can be silenced by converting the values to nanosecond precision ahead of time.\n",
      "\n"
     ]
    },
    {
     "name": "stdout",
     "output_type": "stream",
     "text": [
      "inbound_vessel_89 start waiting time 2019-01-09 12:45:04.923391\n",
      "wait for lockage True ['inbound_vessel_87', 'inbound_vessel_88'] True\n",
      "inbound_vessel_88 hap is geconvert 2019-01-09 13:11:53.925554\n",
      "inbound_vessel_89 lock position given 2019-01-09 13:17:27.258887\n",
      "inbound_vessel_89 requested place in next lockage 2019-01-09 13:17:27.258887\n",
      "claim the lock doors inbound_vessel_89 2019-01-09 13:17:27.258887\n",
      "requesting approach: else inbound_vessel_89 2019-01-09 13:17:27.258887 0 [] ['inbound_vessel_88']\n",
      "doors requested inbound_vessel_89\n",
      "claiming lock: priority doors2 is -1 inbound_vessel_89 2019-01-09 13:17:27.258887\n",
      "inbound_vessel_89 wth\n",
      "hi 2019-01-09 13:17:27.258887\n",
      "2019-01-09 13:17:27.258887 Node_50 Node_49 Lock doors closing start\n"
     ]
    },
    {
     "name": "stderr",
     "output_type": "stream",
     "text": [
      "c:\\users\\floorbakker\\opentnsim\\opentnsim\\lock.py:711: UserWarning:\n",
      "\n",
      "Converting non-nanosecond precision datetime values to nanosecond precision. This behavior can eventually be relaxed in xarray, as it is an artifact from pandas which is now beginning to support non-nanosecond precision values. This warning is caused by passing non-nanosecond np.datetime64 or np.timedelta64 values to the DataArray or Variable constructor; it can be silenced by converting the values to nanosecond precision ahead of time.\n",
      "\n"
     ]
    },
    {
     "name": "stdout",
     "output_type": "stream",
     "text": [
      "waiting done inbound_vessel_89 2019-01-09 13:44:27.258887\n",
      "inbound_vessel_89 sail to assigned lock position\n",
      "inbound_vessel_90 start waiting time 2019-01-09 13:47:27.769804\n",
      "inbound_vessel_90 lock position given 2019-01-09 13:47:27.769804\n",
      "inbound_vessel_90 requested place in next lockage 2019-01-09 13:47:27.769804\n",
      "claim the lock doors inbound_vessel_90 2019-01-09 13:47:27.769804\n",
      "lock not empty inbound_vessel_90 ['inbound_vessel_89']\n",
      "lock is ready to be entered 2019-01-09 13:47:27.769804\n",
      "print doors inbound_vessel_89 ['inbound_vessel_89'] ['inbound_vessel_89']\n",
      "left doors1 inbound_vessel_89 2019-01-09 13:55:33.925554 ['inbound_vessel_90'] 1 ['inbound_vessel_89']\n",
      "inbound_vessel_89 in lock ['inbound_vessel_89', 'inbound_vessel_90']\n",
      "waiting for others inbound_vessel_89\n",
      "lock doors claimed inbound_vessel_90 2019-01-09 13:55:33.925554\n",
      "waiting done inbound_vessel_90 2019-01-09 13:55:33.925554\n",
      "inbound_vessel_90 sail to assigned lock position\n",
      "print doors inbound_vessel_90 ['inbound_vessel_90'] ['inbound_vessel_90']\n",
      "left doors1 inbound_vessel_90 2019-01-09 14:02:58.369999 [] 1 ['inbound_vessel_90']\n",
      "inbound_vessel_90 in lock ['inbound_vessel_89', 'inbound_vessel_90']\n",
      "inbound_vessel_90 converting hap 2019-01-09 14:02:58.369999\n",
      "hi 2019-01-09 14:02:58.369999\n",
      "2019-01-09 14:02:58.369999 Node_49 Node_50 Lock doors closing start\n",
      "waiting for others done inbound_vessel_89\n",
      "inbound_vessel_91 start waiting time 2019-01-09 14:04:44.162133\n",
      "wait for lockage True ['inbound_vessel_89', 'inbound_vessel_90'] True\n"
     ]
    },
    {
     "name": "stderr",
     "output_type": "stream",
     "text": [
      "c:\\users\\floorbakker\\opentnsim\\opentnsim\\lock.py:711: UserWarning:\n",
      "\n",
      "Converting non-nanosecond precision datetime values to nanosecond precision. This behavior can eventually be relaxed in xarray, as it is an artifact from pandas which is now beginning to support non-nanosecond precision values. This warning is caused by passing non-nanosecond np.datetime64 or np.timedelta64 values to the DataArray or Variable constructor; it can be silenced by converting the values to nanosecond precision ahead of time.\n",
      "\n"
     ]
    },
    {
     "name": "stdout",
     "output_type": "stream",
     "text": [
      "inbound_vessel_90 hap is geconvert 2019-01-09 14:49:19.481110\n",
      "inbound_vessel_91 lock position given 2019-01-09 14:54:52.814443\n",
      "inbound_vessel_91 requested place in next lockage 2019-01-09 14:54:52.814443\n",
      "claim the lock doors inbound_vessel_91 2019-01-09 14:54:52.814443\n",
      "requesting approach: else inbound_vessel_91 2019-01-09 14:54:52.814443 0 [] ['inbound_vessel_90']\n",
      "doors requested inbound_vessel_91\n",
      "claiming lock: priority doors2 is -1 inbound_vessel_91 2019-01-09 14:54:52.814443\n",
      "inbound_vessel_91 wth\n",
      "hi 2019-01-09 14:54:52.814443\n",
      "2019-01-09 14:54:52.814443 Node_50 Node_49 Lock doors closing start\n"
     ]
    },
    {
     "name": "stderr",
     "output_type": "stream",
     "text": [
      "c:\\users\\floorbakker\\opentnsim\\opentnsim\\lock.py:711: UserWarning:\n",
      "\n",
      "Converting non-nanosecond precision datetime values to nanosecond precision. This behavior can eventually be relaxed in xarray, as it is an artifact from pandas which is now beginning to support non-nanosecond precision values. This warning is caused by passing non-nanosecond np.datetime64 or np.timedelta64 values to the DataArray or Variable constructor; it can be silenced by converting the values to nanosecond precision ahead of time.\n",
      "\n"
     ]
    },
    {
     "name": "stdout",
     "output_type": "stream",
     "text": [
      "inbound_vessel_92 start waiting time 2019-01-09 15:27:41.728597\n",
      "inbound_vessel_92 lock position given 2019-01-09 15:27:41.728597\n",
      "inbound_vessel_92 requested place in next lockage 2019-01-09 15:27:41.728597\n",
      "claim the lock doors inbound_vessel_92 2019-01-09 15:27:41.728597\n",
      "lock is empty and not converting inbound_vessel_92 2019-01-09 15:27:41.728597 0 []\n",
      "waiting done inbound_vessel_91 2019-01-09 15:47:52.814443\n",
      "inbound_vessel_91 sail to assigned lock position\n",
      "print doors inbound_vessel_91 ['inbound_vessel_91'] ['inbound_vessel_91']\n",
      "left doors1 inbound_vessel_91 2019-01-09 15:58:59.481110 ['inbound_vessel_92'] 1 ['inbound_vessel_91']\n",
      "inbound_vessel_91 in lock ['inbound_vessel_91', 'inbound_vessel_92']\n",
      "waiting for others inbound_vessel_91\n",
      "lock doors claimed inbound_vessel_92 2019-01-09 15:58:59.481110\n",
      "waiting done inbound_vessel_92 2019-01-09 15:58:59.481110\n",
      "inbound_vessel_92 sail to assigned lock position\n",
      "inbound_vessel_93 start waiting time 2019-01-09 16:09:10.592221\n",
      "wait for lockage True ['inbound_vessel_91', 'inbound_vessel_92'] False\n",
      "print doors inbound_vessel_92 ['inbound_vessel_92'] ['inbound_vessel_91']\n",
      "left doors1 inbound_vessel_92 2019-01-09 16:10:06.147777 [] 1 ['inbound_vessel_91']\n",
      "inbound_vessel_92 in lock ['inbound_vessel_91', 'inbound_vessel_92']\n",
      "inbound_vessel_92 converting hap 2019-01-09 16:10:06.147777\n",
      "hi 2019-01-09 16:10:06.147777\n",
      "2019-01-09 16:10:06.147777 Node_49 Node_50 Lock doors closing start\n",
      "waiting for others done inbound_vessel_91\n",
      "inbound_vessel_94 start waiting time 2019-01-09 16:15:39.481110\n",
      "wait for lockage True ['inbound_vessel_91', 'inbound_vessel_92'] True\n"
     ]
    },
    {
     "name": "stderr",
     "output_type": "stream",
     "text": [
      "c:\\users\\floorbakker\\opentnsim\\opentnsim\\lock.py:711: UserWarning:\n",
      "\n",
      "Converting non-nanosecond precision datetime values to nanosecond precision. This behavior can eventually be relaxed in xarray, as it is an artifact from pandas which is now beginning to support non-nanosecond precision values. This warning is caused by passing non-nanosecond np.datetime64 or np.timedelta64 values to the DataArray or Variable constructor; it can be silenced by converting the values to nanosecond precision ahead of time.\n",
      "\n"
     ]
    },
    {
     "name": "stdout",
     "output_type": "stream",
     "text": [
      "left doors2 inbound_vessel_91 2019-01-09 17:13:27.258888 1 [] []\n",
      "inbound_vessel_92 hap is geconvert 2019-01-09 17:13:27.258888\n",
      "inbound_vessel_93 lock position given 2019-01-09 17:19:00.592221\n",
      "inbound_vessel_93 requested place in next lockage 2019-01-09 17:19:00.592221\n",
      "claim the lock doors inbound_vessel_93 2019-01-09 17:19:00.592221\n",
      "requesting approach: else inbound_vessel_93 2019-01-09 17:19:00.592221 0 [] ['inbound_vessel_92']\n",
      "inbound_vessel_94 lock position given 2019-01-09 17:19:00.592221\n",
      "inbound_vessel_94 requested place in next lockage 2019-01-09 17:19:00.592221\n",
      "claim the lock doors inbound_vessel_94 2019-01-09 17:19:00.592221\n",
      "requesting approach: else inbound_vessel_94 2019-01-09 17:19:00.592221 0 ['inbound_vessel_93'] ['inbound_vessel_92']\n",
      "doors requested inbound_vessel_93\n",
      "claiming lock: priority doors2 is -1 inbound_vessel_93 2019-01-09 17:19:00.592221\n",
      "inbound_vessel_93 wth\n",
      "hi 2019-01-09 17:19:00.592221\n",
      "2019-01-09 17:19:00.592221 Node_50 Node_49 Lock doors closing start\n"
     ]
    },
    {
     "name": "stderr",
     "output_type": "stream",
     "text": [
      "c:\\users\\floorbakker\\opentnsim\\opentnsim\\lock.py:711: UserWarning:\n",
      "\n",
      "Converting non-nanosecond precision datetime values to nanosecond precision. This behavior can eventually be relaxed in xarray, as it is an artifact from pandas which is now beginning to support non-nanosecond precision values. This warning is caused by passing non-nanosecond np.datetime64 or np.timedelta64 values to the DataArray or Variable constructor; it can be silenced by converting the values to nanosecond precision ahead of time.\n",
      "\n"
     ]
    },
    {
     "name": "stdout",
     "output_type": "stream",
     "text": [
      "waiting done inbound_vessel_93 2019-01-09 18:14:00.592221\n",
      "inbound_vessel_93 sail to assigned lock position\n",
      "print doors inbound_vessel_93 ['inbound_vessel_93'] ['inbound_vessel_93']\n",
      "left doors1 inbound_vessel_93 2019-01-09 18:19:33.925555 ['inbound_vessel_94'] 1 ['inbound_vessel_93']\n",
      "inbound_vessel_93 in lock ['inbound_vessel_93', 'inbound_vessel_94']\n",
      "waiting for others inbound_vessel_93\n",
      "doors requested inbound_vessel_94\n",
      "claiming lock: priority doors2 is -1 inbound_vessel_94 2019-01-09 18:19:33.925555\n",
      "waiting done inbound_vessel_94 2019-01-09 18:19:33.925555\n",
      "inbound_vessel_94 sail to assigned lock position\n",
      "print doors inbound_vessel_94 ['inbound_vessel_94'] ['inbound_vessel_94']\n",
      "left doors1 inbound_vessel_94 2019-01-09 18:30:40.592221 [] 1 ['inbound_vessel_94']\n",
      "inbound_vessel_94 in lock ['inbound_vessel_93', 'inbound_vessel_94']\n",
      "inbound_vessel_94 converting hap 2019-01-09 18:30:40.592221\n",
      "hi 2019-01-09 18:30:40.592221\n",
      "2019-01-09 18:30:40.592221 Node_49 Node_50 Lock doors closing start\n",
      "waiting for others done inbound_vessel_93\n"
     ]
    },
    {
     "name": "stderr",
     "output_type": "stream",
     "text": [
      "c:\\users\\floorbakker\\opentnsim\\opentnsim\\lock.py:711: UserWarning:\n",
      "\n",
      "Converting non-nanosecond precision datetime values to nanosecond precision. This behavior can eventually be relaxed in xarray, as it is an artifact from pandas which is now beginning to support non-nanosecond precision values. This warning is caused by passing non-nanosecond np.datetime64 or np.timedelta64 values to the DataArray or Variable constructor; it can be silenced by converting the values to nanosecond precision ahead of time.\n",
      "\n"
     ]
    },
    {
     "name": "stdout",
     "output_type": "stream",
     "text": [
      "inbound_vessel_95 start waiting time 2019-01-09 18:40:44.712770\n",
      "wait for lockage True ['inbound_vessel_93', 'inbound_vessel_94'] True\n",
      "inbound_vessel_94 hap is geconvert 2019-01-09 19:21:35.036666\n",
      "inbound_vessel_95 lock position given 2019-01-09 19:27:08.369999\n",
      "inbound_vessel_95 requested place in next lockage 2019-01-09 19:27:08.369999\n",
      "claim the lock doors inbound_vessel_95 2019-01-09 19:27:08.369999\n",
      "requesting approach: else inbound_vessel_95 2019-01-09 19:27:08.369999 0 [] ['inbound_vessel_94']\n",
      "doors requested inbound_vessel_95\n",
      "claiming lock: priority doors2 is -1 inbound_vessel_95 2019-01-09 19:27:08.369999\n",
      "inbound_vessel_95 wth\n",
      "hi 2019-01-09 19:27:08.369999\n",
      "2019-01-09 19:27:08.369999 Node_50 Node_49 Lock doors closing start\n",
      "inbound_vessel_96 start waiting time 2019-01-09 19:27:28.769486\n",
      "inbound_vessel_96 lock position given 2019-01-09 19:27:28.769486\n",
      "inbound_vessel_96 requested place in next lockage 2019-01-09 19:27:28.769486\n",
      "claim the lock doors inbound_vessel_96 2019-01-09 19:27:28.769486\n",
      "requesting approach: else inbound_vessel_96 2019-01-09 19:27:28.769486 0 ['inbound_vessel_95'] ['inbound_vessel_95']\n"
     ]
    },
    {
     "name": "stderr",
     "output_type": "stream",
     "text": [
      "c:\\users\\floorbakker\\opentnsim\\opentnsim\\lock.py:711: UserWarning:\n",
      "\n",
      "Converting non-nanosecond precision datetime values to nanosecond precision. This behavior can eventually be relaxed in xarray, as it is an artifact from pandas which is now beginning to support non-nanosecond precision values. This warning is caused by passing non-nanosecond np.datetime64 or np.timedelta64 values to the DataArray or Variable constructor; it can be silenced by converting the values to nanosecond precision ahead of time.\n",
      "\n"
     ]
    },
    {
     "name": "stdout",
     "output_type": "stream",
     "text": [
      "waiting done inbound_vessel_95 2019-01-09 19:51:08.369999\n",
      "inbound_vessel_95 sail to assigned lock position\n",
      "print doors inbound_vessel_95 ['inbound_vessel_95'] ['inbound_vessel_95']\n",
      "left doors1 inbound_vessel_95 2019-01-09 20:02:15.036666 ['inbound_vessel_96'] 1 ['inbound_vessel_95']\n",
      "inbound_vessel_95 in lock ['inbound_vessel_95', 'inbound_vessel_96']\n",
      "waiting for others inbound_vessel_95\n",
      "doors requested inbound_vessel_96\n",
      "claiming lock: priority doors2 is -1 inbound_vessel_96 2019-01-09 20:02:15.036666\n",
      "waiting done inbound_vessel_96 2019-01-09 20:02:15.036666\n",
      "inbound_vessel_96 sail to assigned lock position\n",
      "print doors inbound_vessel_96 ['inbound_vessel_96'] ['inbound_vessel_96']\n",
      "left doors1 inbound_vessel_96 2019-01-09 20:13:21.703332 [] 1 ['inbound_vessel_96']\n",
      "inbound_vessel_96 in lock ['inbound_vessel_95', 'inbound_vessel_96']\n",
      "inbound_vessel_96 converting hap 2019-01-09 20:13:21.703332\n",
      "hi 2019-01-09 20:13:21.703332\n",
      "2019-01-09 20:13:21.703332 Node_49 Node_50 Lock doors closing start\n",
      "waiting for others done inbound_vessel_95\n"
     ]
    },
    {
     "name": "stderr",
     "output_type": "stream",
     "text": [
      "c:\\users\\floorbakker\\opentnsim\\opentnsim\\lock.py:711: UserWarning:\n",
      "\n",
      "Converting non-nanosecond precision datetime values to nanosecond precision. This behavior can eventually be relaxed in xarray, as it is an artifact from pandas which is now beginning to support non-nanosecond precision values. This warning is caused by passing non-nanosecond np.datetime64 or np.timedelta64 values to the DataArray or Variable constructor; it can be silenced by converting the values to nanosecond precision ahead of time.\n",
      "\n"
     ]
    },
    {
     "name": "stdout",
     "output_type": "stream",
     "text": [
      "inbound_vessel_96 hap is geconvert 2019-01-09 20:58:42.814444\n",
      "left doors2 inbound_vessel_96 2019-01-09 21:06:46.147777 1 [] []\n",
      "doors requested outbound_vessel_94\n",
      "claiming lock: priority doors2 not -1 outbound_vessel_94 2019-01-09 21:06:46.147777\n",
      "waiting done outbound_vessel_94 2019-01-09 21:06:46.147777\n",
      "outbound_vessel_94 sail to assigned lock position\n",
      "print doors outbound_vessel_94 ['outbound_vessel_94'] ['outbound_vessel_94']\n",
      "left doors1 outbound_vessel_94 2019-01-09 21:17:52.814444 0 ['outbound_vessel_95'] ['outbound_vessel_94']\n",
      "outbound_vessel_94 in lock ['outbound_vessel_94', 'outbound_vessel_95']\n",
      "waiting for others outbound_vessel_94\n",
      "doors requested outbound_vessel_95\n",
      "claiming lock: priority doors2 is -1 outbound_vessel_95 2019-01-09 21:17:52.814444\n",
      "waiting done outbound_vessel_95 2019-01-09 21:17:52.814444\n",
      "outbound_vessel_95 sail to assigned lock position\n",
      "outbound_vessel_96 start waiting time 2019-01-09 21:28:03.925555\n",
      "wait for lockage True ['outbound_vessel_94', 'outbound_vessel_95'] False\n",
      "print doors outbound_vessel_95 ['outbound_vessel_95'] ['outbound_vessel_95']\n",
      "left doors1 outbound_vessel_95 2019-01-09 21:28:59.481110 0 [] ['outbound_vessel_95']\n",
      "outbound_vessel_95 in lock ['outbound_vessel_94', 'outbound_vessel_95']\n",
      "outbound_vessel_95 converting hap 2019-01-09 21:28:59.481110\n",
      "hi 2019-01-09 21:28:59.481110\n",
      "2019-01-09 21:28:59.481110 Node_50 Node_49 Lock doors closing start\n",
      "waiting for others done outbound_vessel_94\n",
      "outbound_vessel_97 start waiting time 2019-01-09 21:34:32.814444\n",
      "wait for lockage True ['outbound_vessel_94', 'outbound_vessel_95'] True\n"
     ]
    },
    {
     "name": "stderr",
     "output_type": "stream",
     "text": [
      "c:\\users\\floorbakker\\opentnsim\\opentnsim\\lock.py:711: UserWarning:\n",
      "\n",
      "Converting non-nanosecond precision datetime values to nanosecond precision. This behavior can eventually be relaxed in xarray, as it is an artifact from pandas which is now beginning to support non-nanosecond precision values. This warning is caused by passing non-nanosecond np.datetime64 or np.timedelta64 values to the DataArray or Variable constructor; it can be silenced by converting the values to nanosecond precision ahead of time.\n",
      "\n"
     ]
    },
    {
     "name": "stdout",
     "output_type": "stream",
     "text": [
      "hey ho inbound_vessel_97 []\n",
      "hi inbound_vessel_97 2019-01-09 22:06:57.943134 0\n",
      "outbound_vessel_95 hap is geconvert 2019-01-09 22:29:20.592221\n",
      "outbound_vessel_96 lock position given 2019-01-09 22:34:53.925555\n",
      "outbound_vessel_96 requested place in next lockage 2019-01-09 22:34:53.925555\n",
      "claim the lock doors outbound_vessel_96 2019-01-09 22:34:53.925555\n",
      "requesting approach: else outbound_vessel_96 2019-01-09 22:34:53.925555 0 [] ['outbound_vessel_95']\n",
      "outbound_vessel_97 lock position given 2019-01-09 22:34:53.925555\n",
      "outbound_vessel_97 requested place in next lockage 2019-01-09 22:34:53.925555\n",
      "claim the lock doors outbound_vessel_97 2019-01-09 22:34:53.925555\n",
      "requesting approach: else outbound_vessel_97 2019-01-09 22:34:53.925555 0 ['outbound_vessel_96'] ['outbound_vessel_95']\n",
      "doors requested outbound_vessel_96\n",
      "claiming lock: priority doors2 is -1 outbound_vessel_96 2019-01-09 22:34:53.925555\n",
      "outbound_vessel_96 wth\n",
      "hi 2019-01-09 22:34:53.925555\n",
      "2019-01-09 22:34:53.925555 Node_49 Node_50 Lock doors closing start\n"
     ]
    },
    {
     "name": "stderr",
     "output_type": "stream",
     "text": [
      "c:\\users\\floorbakker\\opentnsim\\opentnsim\\lock.py:711: UserWarning:\n",
      "\n",
      "Converting non-nanosecond precision datetime values to nanosecond precision. This behavior can eventually be relaxed in xarray, as it is an artifact from pandas which is now beginning to support non-nanosecond precision values. This warning is caused by passing non-nanosecond np.datetime64 or np.timedelta64 values to the DataArray or Variable constructor; it can be silenced by converting the values to nanosecond precision ahead of time.\n",
      "\n"
     ]
    },
    {
     "name": "stdout",
     "output_type": "stream",
     "text": [
      "inbound_vessel_97 start waiting time 2019-01-09 23:05:38.776467\n",
      "claim the lock doors inbound_vessel_97 2019-01-09 23:05:38.776467\n",
      "wait in lock first 2019-01-09 23:05:38.776467\n",
      "waiting done outbound_vessel_96 2019-01-09 23:33:53.925555\n",
      "outbound_vessel_96 sail to assigned lock position\n",
      "print doors outbound_vessel_96 ['outbound_vessel_96'] ['outbound_vessel_96']\n",
      "left doors1 outbound_vessel_96 2019-01-09 23:39:27.258888 0 ['outbound_vessel_97'] ['outbound_vessel_96']\n",
      "outbound_vessel_96 in lock ['outbound_vessel_96', 'outbound_vessel_97']\n",
      "waiting for others outbound_vessel_96\n",
      "doors requested outbound_vessel_97\n",
      "claiming lock: priority doors2 is -1 outbound_vessel_97 2019-01-09 23:39:27.258888\n",
      "waiting done outbound_vessel_97 2019-01-09 23:39:27.258888\n",
      "outbound_vessel_97 sail to assigned lock position\n",
      "outbound_vessel_98 start waiting time 2019-01-09 23:49:38.369999\n",
      "wait for lockage True ['outbound_vessel_96', 'outbound_vessel_97'] False\n",
      "print doors outbound_vessel_97 ['outbound_vessel_97'] ['outbound_vessel_97']\n",
      "left doors1 outbound_vessel_97 2019-01-09 23:50:33.925555 0 ['inbound_vessel_97'] ['outbound_vessel_97']\n",
      "outbound_vessel_97 in lock ['outbound_vessel_96', 'outbound_vessel_97']\n",
      "requesting approach: else inbound_vessel_97 2019-01-09 23:50:33.925555 2 ['outbound_vessel_97'] []\n",
      "outbound_vessel_97 converting hap 2019-01-09 23:50:33.925555\n",
      "hi 2019-01-09 23:50:33.925555\n",
      "2019-01-09 23:50:33.925555 Node_50 Node_49 Lock doors closing start\n",
      "waiting for others done outbound_vessel_96\n",
      "outbound_vessel_99 start waiting time 2019-01-09 23:56:07.258888\n",
      "wait for lockage True ['outbound_vessel_96', 'outbound_vessel_97'] True\n"
     ]
    },
    {
     "name": "stderr",
     "output_type": "stream",
     "text": [
      "c:\\users\\floorbakker\\opentnsim\\opentnsim\\lock.py:711: UserWarning:\n",
      "\n",
      "Converting non-nanosecond precision datetime values to nanosecond precision. This behavior can eventually be relaxed in xarray, as it is an artifact from pandas which is now beginning to support non-nanosecond precision values. This warning is caused by passing non-nanosecond np.datetime64 or np.timedelta64 values to the DataArray or Variable constructor; it can be silenced by converting the values to nanosecond precision ahead of time.\n",
      "\n"
     ]
    },
    {
     "name": "stdout",
     "output_type": "stream",
     "text": [
      "outbound_vessel_97 hap is geconvert 2019-01-10 00:53:28.369999\n",
      "outbound_vessel_98 lock position given 2019-01-10 00:59:01.703333\n",
      "outbound_vessel_98 requested place in next lockage 2019-01-10 00:59:01.703333\n",
      "claim the lock doors outbound_vessel_98 2019-01-10 00:59:01.703333\n",
      "requesting approach: else outbound_vessel_98 2019-01-10 00:59:01.703333 0 [] ['outbound_vessel_97']\n",
      "outbound_vessel_99 lock position given 2019-01-10 00:59:01.703333\n",
      "outbound_vessel_99 requested place in next lockage 2019-01-10 00:59:01.703333\n",
      "claim the lock doors outbound_vessel_99 2019-01-10 00:59:01.703333\n",
      "requesting approach: else outbound_vessel_99 2019-01-10 00:59:01.703333 0 ['outbound_vessel_98'] ['outbound_vessel_97']\n",
      "doors requested outbound_vessel_98\n",
      "claiming lock: priority doors2 is -1 outbound_vessel_98 2019-01-10 00:59:01.703333\n",
      "outbound_vessel_98 wth\n",
      "hi 2019-01-10 00:59:01.703333\n",
      "2019-01-10 00:59:01.703333 Node_49 Node_50 Lock doors closing start\n"
     ]
    },
    {
     "name": "stderr",
     "output_type": "stream",
     "text": [
      "c:\\users\\floorbakker\\opentnsim\\opentnsim\\lock.py:711: UserWarning:\n",
      "\n",
      "Converting non-nanosecond precision datetime values to nanosecond precision. This behavior can eventually be relaxed in xarray, as it is an artifact from pandas which is now beginning to support non-nanosecond precision values. This warning is caused by passing non-nanosecond np.datetime64 or np.timedelta64 values to the DataArray or Variable constructor; it can be silenced by converting the values to nanosecond precision ahead of time.\n",
      "\n"
     ]
    },
    {
     "name": "stdout",
     "output_type": "stream",
     "text": [
      "hey ho inbound_vessel_98 ['inbound_vessel_97']\n",
      "yo inbound_vessel_98 2019-01-10 01:28:09.845672 ['inbound_vessel_97']\n",
      "waiting done outbound_vessel_98 2019-01-10 01:35:01.703333\n",
      "outbound_vessel_98 sail to assigned lock position\n",
      "print doors outbound_vessel_98 ['outbound_vessel_98'] ['outbound_vessel_98']\n",
      "left doors1 outbound_vessel_98 2019-01-10 01:40:35.036666 0 ['outbound_vessel_99'] ['outbound_vessel_98']\n",
      "outbound_vessel_98 in lock ['outbound_vessel_98', 'outbound_vessel_99']\n",
      "waiting for others outbound_vessel_98\n",
      "doors requested outbound_vessel_99\n",
      "claiming lock: priority doors2 is -1 outbound_vessel_99 2019-01-10 01:40:35.036666\n",
      "waiting done outbound_vessel_99 2019-01-10 01:40:35.036666\n",
      "outbound_vessel_99 sail to assigned lock position\n",
      "outbound_vessel_100 start waiting time 2019-01-10 01:50:46.147777\n",
      "wait for lockage True ['outbound_vessel_98', 'outbound_vessel_99'] False\n",
      "print doors outbound_vessel_99 ['outbound_vessel_99'] ['outbound_vessel_99']\n",
      "left doors1 outbound_vessel_99 2019-01-10 01:51:41.703333 0 [] ['outbound_vessel_99']\n",
      "outbound_vessel_99 in lock ['outbound_vessel_98', 'outbound_vessel_99']\n",
      "outbound_vessel_99 converting hap 2019-01-10 01:51:41.703333\n",
      "hi 2019-01-10 01:51:41.703333\n",
      "2019-01-10 01:51:41.703333 Node_50 Node_49 Lock doors closing start\n",
      "waiting for others done outbound_vessel_98\n",
      "outbound_vessel_101 start waiting time 2019-01-10 01:57:15.036666\n",
      "wait for lockage True ['outbound_vessel_98', 'outbound_vessel_99'] True\n"
     ]
    },
    {
     "name": "stderr",
     "output_type": "stream",
     "text": [
      "c:\\users\\floorbakker\\opentnsim\\opentnsim\\lock.py:711: UserWarning:\n",
      "\n",
      "Converting non-nanosecond precision datetime values to nanosecond precision. This behavior can eventually be relaxed in xarray, as it is an artifact from pandas which is now beginning to support non-nanosecond precision values. This warning is caused by passing non-nanosecond np.datetime64 or np.timedelta64 values to the DataArray or Variable constructor; it can be silenced by converting the values to nanosecond precision ahead of time.\n",
      "\n"
     ]
    },
    {
     "name": "stdout",
     "output_type": "stream",
     "text": [
      "inbound_vessel_98 start waiting time 2019-01-10 02:25:44.012339\n",
      "claim the lock doors inbound_vessel_98 2019-01-10 02:25:44.012339\n",
      "lock not empty inbound_vessel_98 ['outbound_vessel_98', 'outbound_vessel_99']\n",
      "lock is already converting inbound_vessel_98 2019-01-10 02:25:44.012339 ['outbound_vessel_98', 'outbound_vessel_99']\n",
      "outbound_vessel_99 hap is geconvert 2019-01-10 02:28:36.147777\n",
      "outbound_vessel_100 lock position given 2019-01-10 02:34:09.481111\n",
      "outbound_vessel_100 requested place in next lockage 2019-01-10 02:34:09.481111\n",
      "claim the lock doors outbound_vessel_100 2019-01-10 02:34:09.481111\n",
      "requesting approach: else outbound_vessel_100 2019-01-10 02:34:09.481111 0 [] ['outbound_vessel_99']\n",
      "outbound_vessel_101 lock position given 2019-01-10 02:34:09.481111\n",
      "outbound_vessel_101 requested place in next lockage 2019-01-10 02:34:09.481111\n",
      "claim the lock doors outbound_vessel_101 2019-01-10 02:34:09.481111\n",
      "requesting approach: else outbound_vessel_101 2019-01-10 02:34:09.481111 0 ['outbound_vessel_100'] ['outbound_vessel_99']\n",
      "doors requested outbound_vessel_100\n",
      "claiming lock: priority doors2 is -1 outbound_vessel_100 2019-01-10 02:34:09.481111\n",
      "outbound_vessel_100 wth\n",
      "hi 2019-01-10 02:34:09.481111\n",
      "2019-01-10 02:34:09.481111 Node_49 Node_50 Lock doors closing start\n"
     ]
    },
    {
     "name": "stderr",
     "output_type": "stream",
     "text": [
      "c:\\users\\floorbakker\\opentnsim\\opentnsim\\lock.py:711: UserWarning:\n",
      "\n",
      "Converting non-nanosecond precision datetime values to nanosecond precision. This behavior can eventually be relaxed in xarray, as it is an artifact from pandas which is now beginning to support non-nanosecond precision values. This warning is caused by passing non-nanosecond np.datetime64 or np.timedelta64 values to the DataArray or Variable constructor; it can be silenced by converting the values to nanosecond precision ahead of time.\n",
      "\n"
     ]
    },
    {
     "name": "stdout",
     "output_type": "stream",
     "text": [
      "waiting done outbound_vessel_100 2019-01-10 03:16:09.481111\n",
      "outbound_vessel_100 sail to assigned lock position\n",
      "print doors outbound_vessel_100 ['outbound_vessel_100'] ['outbound_vessel_100']\n",
      "left doors1 outbound_vessel_100 2019-01-10 03:21:42.814444 0 ['outbound_vessel_101'] ['outbound_vessel_100']\n",
      "outbound_vessel_100 in lock ['outbound_vessel_100', 'outbound_vessel_101']\n",
      "waiting for others outbound_vessel_100\n",
      "doors requested outbound_vessel_101\n",
      "claiming lock: priority doors2 is -1 outbound_vessel_101 2019-01-10 03:21:42.814444\n",
      "waiting done outbound_vessel_101 2019-01-10 03:21:42.814444\n",
      "outbound_vessel_101 sail to assigned lock position\n",
      "print doors outbound_vessel_101 ['outbound_vessel_101'] ['outbound_vessel_101']\n",
      "left doors1 outbound_vessel_101 2019-01-10 03:32:49.481111 0 [] ['outbound_vessel_101']\n",
      "outbound_vessel_101 in lock ['outbound_vessel_100', 'outbound_vessel_101']\n",
      "outbound_vessel_101 converting hap 2019-01-10 03:32:49.481111\n",
      "hi 2019-01-10 03:32:49.481111\n",
      "2019-01-10 03:32:49.481111 Node_50 Node_49 Lock doors closing start\n",
      "waiting for others done outbound_vessel_100\n"
     ]
    },
    {
     "name": "stderr",
     "output_type": "stream",
     "text": [
      "c:\\users\\floorbakker\\opentnsim\\opentnsim\\lock.py:711: UserWarning:\n",
      "\n",
      "Converting non-nanosecond precision datetime values to nanosecond precision. This behavior can eventually be relaxed in xarray, as it is an artifact from pandas which is now beginning to support non-nanosecond precision values. This warning is caused by passing non-nanosecond np.datetime64 or np.timedelta64 values to the DataArray or Variable constructor; it can be silenced by converting the values to nanosecond precision ahead of time.\n",
      "\n"
     ]
    },
    {
     "name": "stdout",
     "output_type": "stream",
     "text": [
      "outbound_vessel_101 hap is geconvert 2019-01-10 04:36:43.925555\n",
      "left doors2 outbound_vessel_101 2019-01-10 04:44:47.258888 0 [] []\n",
      "doors requested inbound_vessel_97\n",
      "claiming lock: priority doors2 not -1 inbound_vessel_97 2019-01-10 04:44:47.258888\n",
      "waiting done inbound_vessel_97 2019-01-10 04:44:47.258888\n",
      "inbound_vessel_97 sail to assigned lock position\n",
      "print doors inbound_vessel_97 ['inbound_vessel_97'] ['inbound_vessel_97']\n",
      "left doors1 inbound_vessel_97 2019-01-10 04:55:53.925555 ['inbound_vessel_98'] 1 ['inbound_vessel_97']\n",
      "inbound_vessel_97 in lock ['inbound_vessel_97', 'inbound_vessel_98']\n",
      "waiting for others inbound_vessel_97\n",
      "lock doors claimed inbound_vessel_98 2019-01-10 04:55:53.925555\n",
      "second in line to claim lock inbound_vessel_98 2019-01-10 04:55:53.925555\n",
      "waiting done inbound_vessel_98 2019-01-10 04:55:53.925555\n",
      "inbound_vessel_98 sail to assigned lock position\n",
      "inbound_vessel_99 start waiting time 2019-01-10 05:06:05.036666\n",
      "wait for lockage True ['inbound_vessel_97', 'inbound_vessel_98'] False\n",
      "print doors inbound_vessel_98 ['inbound_vessel_98'] ['inbound_vessel_98']\n",
      "left doors1 inbound_vessel_98 2019-01-10 05:07:00.592222 [] 1 ['inbound_vessel_98']\n",
      "inbound_vessel_98 in lock ['inbound_vessel_97', 'inbound_vessel_98']\n",
      "inbound_vessel_98 converting hap 2019-01-10 05:07:00.592222\n",
      "hi 2019-01-10 05:07:00.592222\n",
      "2019-01-10 05:07:00.592222 Node_49 Node_50 Lock doors closing start\n",
      "waiting for others done inbound_vessel_97\n"
     ]
    },
    {
     "name": "stderr",
     "output_type": "stream",
     "text": [
      "c:\\users\\floorbakker\\opentnsim\\opentnsim\\lock.py:711: UserWarning:\n",
      "\n",
      "Converting non-nanosecond precision datetime values to nanosecond precision. This behavior can eventually be relaxed in xarray, as it is an artifact from pandas which is now beginning to support non-nanosecond precision values. This warning is caused by passing non-nanosecond np.datetime64 or np.timedelta64 values to the DataArray or Variable constructor; it can be silenced by converting the values to nanosecond precision ahead of time.\n",
      "\n"
     ]
    },
    {
     "name": "stdout",
     "output_type": "stream",
     "text": [
      "outbound_vessel_102 start waiting time 2019-01-10 05:30:46.384860\n",
      "outbound_vessel_102 lock position given 2019-01-10 05:30:46.384860\n",
      "outbound_vessel_102 requested place in next lockage 2019-01-10 05:30:46.384860\n",
      "claim the lock doors outbound_vessel_102 2019-01-10 05:30:46.384860\n",
      "lock not empty outbound_vessel_102 ['inbound_vessel_97', 'inbound_vessel_98']\n",
      "lock is already converting outbound_vessel_102 2019-01-10 05:30:46.384860 ['inbound_vessel_97', 'inbound_vessel_98']\n",
      "inbound_vessel_98 hap is geconvert 2019-01-10 06:09:21.703333\n",
      "inbound_vessel_99 lock position given 2019-01-10 06:14:55.036666\n",
      "inbound_vessel_99 requested place in next lockage 2019-01-10 06:14:55.036666\n",
      "claim the lock doors inbound_vessel_99 2019-01-10 06:14:55.036666\n",
      "requesting approach: else inbound_vessel_99 2019-01-10 06:14:55.036666 0 [] ['inbound_vessel_98']\n",
      "doors requested inbound_vessel_99\n",
      "claiming lock: priority doors2 is -1 inbound_vessel_99 2019-01-10 06:14:55.036666\n",
      "inbound_vessel_99 wth\n",
      "hi 2019-01-10 06:14:55.036666\n",
      "2019-01-10 06:14:55.036666 Node_50 Node_49 Lock doors closing start\n"
     ]
    },
    {
     "name": "stderr",
     "output_type": "stream",
     "text": [
      "c:\\users\\floorbakker\\opentnsim\\opentnsim\\lock.py:711: UserWarning:\n",
      "\n",
      "Converting non-nanosecond precision datetime values to nanosecond precision. This behavior can eventually be relaxed in xarray, as it is an artifact from pandas which is now beginning to support non-nanosecond precision values. This warning is caused by passing non-nanosecond np.datetime64 or np.timedelta64 values to the DataArray or Variable constructor; it can be silenced by converting the values to nanosecond precision ahead of time.\n",
      "\n"
     ]
    },
    {
     "name": "stdout",
     "output_type": "stream",
     "text": [
      "hey ho inbound_vessel_100 ['inbound_vessel_99']\n",
      "yo inbound_vessel_100 2019-01-10 06:26:20.536789 ['inbound_vessel_99']\n",
      "waiting done inbound_vessel_99 2019-01-10 07:06:55.036666\n",
      "inbound_vessel_99 sail to assigned lock position\n",
      "print doors inbound_vessel_99 ['inbound_vessel_99'] ['inbound_vessel_99']\n",
      "left doors1 inbound_vessel_99 2019-01-10 07:18:01.703333 [] 1 ['inbound_vessel_99']\n",
      "inbound_vessel_99 in lock ['inbound_vessel_99', 'inbound_vessel_100']\n",
      "waiting for others inbound_vessel_99\n",
      "inbound_vessel_100 start waiting time 2019-01-10 07:25:01.370122\n",
      "claim the lock doors inbound_vessel_100 2019-01-10 07:25:01.370122\n",
      "lock not empty inbound_vessel_100 ['inbound_vessel_99']\n",
      "lock is ready to be entered 2019-01-10 07:25:01.370122\n",
      "lock doors claimed inbound_vessel_100 2019-01-10 07:25:01.370122\n",
      "waiting done inbound_vessel_100 2019-01-10 07:25:01.370122\n",
      "inbound_vessel_100 sail to assigned lock position\n",
      "print doors inbound_vessel_100 ['inbound_vessel_100'] ['inbound_vessel_100']\n",
      "left doors1 inbound_vessel_100 2019-01-10 07:32:25.814567 [] 1 ['inbound_vessel_100']\n",
      "inbound_vessel_100 in lock ['inbound_vessel_99', 'inbound_vessel_100']\n",
      "inbound_vessel_100 converting hap 2019-01-10 07:32:25.814567\n",
      "hi 2019-01-10 07:32:25.814567\n",
      "2019-01-10 07:32:25.814567 Node_49 Node_50 Lock doors closing start\n",
      "waiting for others done inbound_vessel_99\n",
      "hey ho outbound_vessel_103 ['outbound_vessel_102']\n",
      "yo outbound_vessel_103 2019-01-10 07:41:56.530575 ['outbound_vessel_102']\n"
     ]
    },
    {
     "name": "stderr",
     "output_type": "stream",
     "text": [
      "c:\\users\\floorbakker\\opentnsim\\opentnsim\\lock.py:711: UserWarning:\n",
      "\n",
      "Converting non-nanosecond precision datetime values to nanosecond precision. This behavior can eventually be relaxed in xarray, as it is an artifact from pandas which is now beginning to support non-nanosecond precision values. This warning is caused by passing non-nanosecond np.datetime64 or np.timedelta64 values to the DataArray or Variable constructor; it can be silenced by converting the values to nanosecond precision ahead of time.\n",
      "\n"
     ]
    },
    {
     "name": "stdout",
     "output_type": "stream",
     "text": [
      "inbound_vessel_100 hap is geconvert 2019-01-10 08:06:46.925678\n",
      "left doors2 inbound_vessel_100 2019-01-10 08:14:50.259011 1 [] []\n",
      "lock doors claimed outbound_vessel_102 2019-01-10 08:14:50.259011\n",
      "first in line to claim lock outbound_vessel_102 2019-01-10 08:14:50.259011\n",
      "waiting done outbound_vessel_102 2019-01-10 08:14:50.259011\n",
      "outbound_vessel_102 sail to assigned lock position\n",
      "print doors outbound_vessel_102 ['outbound_vessel_102'] ['outbound_vessel_102']\n",
      "left doors1 outbound_vessel_102 2019-01-10 08:25:56.925678 0 [] ['outbound_vessel_102']\n",
      "outbound_vessel_102 in lock ['outbound_vessel_102', 'outbound_vessel_103']\n",
      "waiting for others outbound_vessel_102\n",
      "outbound_vessel_103 start waiting time 2019-01-10 08:40:37.363908\n",
      "claim the lock doors outbound_vessel_103 2019-01-10 08:40:37.363908\n",
      "lock not empty outbound_vessel_103 ['outbound_vessel_102']\n",
      "lock is ready to be entered 2019-01-10 08:40:37.363908\n",
      "lock doors claimed outbound_vessel_103 2019-01-10 08:40:37.363908\n",
      "waiting done outbound_vessel_103 2019-01-10 08:40:37.363908\n",
      "outbound_vessel_103 sail to assigned lock position\n",
      "print doors outbound_vessel_103 ['outbound_vessel_103'] ['outbound_vessel_103']\n",
      "left doors1 outbound_vessel_103 2019-01-10 08:48:01.808353 0 [] ['outbound_vessel_103']\n",
      "outbound_vessel_103 in lock ['outbound_vessel_102', 'outbound_vessel_103']\n",
      "outbound_vessel_103 converting hap 2019-01-10 08:48:01.808353\n",
      "hi 2019-01-10 08:48:01.808353\n",
      "2019-01-10 08:48:01.808353 Node_50 Node_49 Lock doors closing start\n",
      "waiting for others done outbound_vessel_102\n"
     ]
    },
    {
     "name": "stderr",
     "output_type": "stream",
     "text": [
      "c:\\users\\floorbakker\\opentnsim\\opentnsim\\lock.py:711: UserWarning:\n",
      "\n",
      "Converting non-nanosecond precision datetime values to nanosecond precision. This behavior can eventually be relaxed in xarray, as it is an artifact from pandas which is now beginning to support non-nanosecond precision values. This warning is caused by passing non-nanosecond np.datetime64 or np.timedelta64 values to the DataArray or Variable constructor; it can be silenced by converting the values to nanosecond precision ahead of time.\n",
      "\n"
     ]
    },
    {
     "name": "stdout",
     "output_type": "stream",
     "text": [
      "hey ho inbound_vessel_101 []\n",
      "hi inbound_vessel_101 2019-01-10 09:30:30.352914 0\n",
      "outbound_vessel_103 hap is geconvert 2019-01-10 09:36:22.919464\n",
      "left doors2 outbound_vessel_103 2019-01-10 09:44:26.252797 0 [] []\n",
      "hey ho outbound_vessel_104 []\n",
      "hi outbound_vessel_104 2019-01-10 10:07:43.521294 0\n",
      "inbound_vessel_101 start waiting time 2019-01-10 10:29:11.186247\n",
      "claim the lock doors inbound_vessel_101 2019-01-10 10:29:11.186247\n",
      "lock is empty and not converting inbound_vessel_101 2019-01-10 10:29:11.186247 0 []\n",
      "lock doors claimed inbound_vessel_101 2019-01-10 10:29:11.186247\n",
      "waiting done inbound_vessel_101 2019-01-10 10:29:11.186247\n",
      "inbound_vessel_101 sail to assigned lock position\n",
      "print doors inbound_vessel_101 ['inbound_vessel_101'] ['inbound_vessel_101']\n",
      "left doors1 inbound_vessel_101 2019-01-10 10:40:17.852914 [] 1 ['inbound_vessel_101']\n",
      "inbound_vessel_101 in lock ['inbound_vessel_101']\n",
      "inbound_vessel_101 converting hap 2019-01-10 10:40:17.852914\n",
      "hi 2019-01-10 10:40:17.852914\n",
      "2019-01-10 10:40:17.852914 Node_49 Node_50 Lock doors closing start\n"
     ]
    },
    {
     "name": "stderr",
     "output_type": "stream",
     "text": [
      "c:\\users\\floorbakker\\opentnsim\\opentnsim\\lock.py:711: UserWarning:\n",
      "\n",
      "Converting non-nanosecond precision datetime values to nanosecond precision. This behavior can eventually be relaxed in xarray, as it is an artifact from pandas which is now beginning to support non-nanosecond precision values. This warning is caused by passing non-nanosecond np.datetime64 or np.timedelta64 values to the DataArray or Variable constructor; it can be silenced by converting the values to nanosecond precision ahead of time.\n",
      "\n"
     ]
    },
    {
     "name": "stdout",
     "output_type": "stream",
     "text": [
      "outbound_vessel_104 start waiting time 2019-01-10 11:06:24.354627\n",
      "claim the lock doors outbound_vessel_104 2019-01-10 11:06:24.354627\n",
      "lock not empty outbound_vessel_104 ['inbound_vessel_101']\n",
      "lock is already converting outbound_vessel_104 2019-01-10 11:06:24.354627 ['inbound_vessel_101']\n",
      "inbound_vessel_101 hap is geconvert 2019-01-10 11:39:17.852914\n",
      "left doors2 inbound_vessel_101 2019-01-10 11:43:38.964025 1 [] []\n",
      "lock doors claimed outbound_vessel_104 2019-01-10 11:43:38.964025\n",
      "first in line to claim lock outbound_vessel_104 2019-01-10 11:43:38.964025\n",
      "waiting done outbound_vessel_104 2019-01-10 11:43:38.964025\n",
      "outbound_vessel_104 sail to assigned lock position\n",
      "print doors outbound_vessel_104 ['outbound_vessel_104'] ['outbound_vessel_104']\n",
      "left doors1 outbound_vessel_104 2019-01-10 11:54:45.630692 0 [] ['outbound_vessel_104']\n",
      "outbound_vessel_104 in lock ['outbound_vessel_104']\n",
      "outbound_vessel_104 converting hap 2019-01-10 11:54:45.630692\n",
      "hi 2019-01-10 11:54:45.630692\n",
      "2019-01-10 11:54:45.630692 Node_50 Node_49 Lock doors closing start\n"
     ]
    },
    {
     "name": "stderr",
     "output_type": "stream",
     "text": [
      "c:\\users\\floorbakker\\opentnsim\\opentnsim\\lock.py:711: UserWarning:\n",
      "\n",
      "Converting non-nanosecond precision datetime values to nanosecond precision. This behavior can eventually be relaxed in xarray, as it is an artifact from pandas which is now beginning to support non-nanosecond precision values. This warning is caused by passing non-nanosecond np.datetime64 or np.timedelta64 values to the DataArray or Variable constructor; it can be silenced by converting the values to nanosecond precision ahead of time.\n",
      "\n"
     ]
    },
    {
     "name": "stdout",
     "output_type": "stream",
     "text": [
      "hey ho inbound_vessel_102 []\n",
      "hi inbound_vessel_102 2019-01-10 12:12:47.658607 0\n",
      "hey ho inbound_vessel_103 ['inbound_vessel_102']\n",
      "yo inbound_vessel_103 2019-01-10 12:51:39.797217 ['inbound_vessel_102']\n",
      "outbound_vessel_104 hap is geconvert 2019-01-10 12:51:45.630692\n",
      "left doors2 outbound_vessel_104 2019-01-10 12:56:06.741803 0 [] []\n",
      "inbound_vessel_102 start waiting time 2019-01-10 13:11:28.491940\n",
      "claim the lock doors inbound_vessel_102 2019-01-10 13:11:28.491940\n",
      "lock is empty and not converting inbound_vessel_102 2019-01-10 13:11:28.491940 0 []\n",
      "lock doors claimed inbound_vessel_102 2019-01-10 13:11:28.491940\n",
      "waiting done inbound_vessel_102 2019-01-10 13:11:28.491940\n",
      "inbound_vessel_102 sail to assigned lock position\n",
      "print doors inbound_vessel_102 ['inbound_vessel_102'] ['inbound_vessel_102']\n",
      "left doors1 inbound_vessel_102 2019-01-10 13:22:35.158607 [] 1 ['inbound_vessel_102']\n",
      "inbound_vessel_102 in lock ['inbound_vessel_102', 'inbound_vessel_103']\n",
      "waiting for others inbound_vessel_102\n",
      "hey ho outbound_vessel_105 []\n",
      "hi outbound_vessel_105 2019-01-10 13:32:02.480441 0\n",
      "hey ho outbound_vessel_106 ['outbound_vessel_105']\n",
      "yo outbound_vessel_106 2019-01-10 13:36:57.418145 ['outbound_vessel_105']\n",
      "inbound_vessel_103 start waiting time 2019-01-10 13:50:20.630550\n",
      "claim the lock doors inbound_vessel_103 2019-01-10 13:50:20.630550\n",
      "lock not empty inbound_vessel_103 ['inbound_vessel_102']\n",
      "lock is ready to be entered 2019-01-10 13:50:20.630550\n",
      "lock doors claimed inbound_vessel_103 2019-01-10 13:50:20.630550\n",
      "waiting done inbound_vessel_103 2019-01-10 13:50:20.630550\n",
      "inbound_vessel_103 sail to assigned lock position\n",
      "print doors inbound_vessel_103 ['inbound_vessel_103'] ['inbound_vessel_103']\n",
      "left doors1 inbound_vessel_103 2019-01-10 13:57:45.074995 [] 1 ['inbound_vessel_103']\n",
      "inbound_vessel_103 in lock ['inbound_vessel_102', 'inbound_vessel_103']\n",
      "inbound_vessel_103 converting hap 2019-01-10 13:57:45.074995\n",
      "hi 2019-01-10 13:57:45.074995\n",
      "2019-01-10 13:57:45.074995 Node_49 Node_50 Lock doors closing start\n",
      "waiting for others done inbound_vessel_102\n"
     ]
    },
    {
     "name": "stderr",
     "output_type": "stream",
     "text": [
      "c:\\users\\floorbakker\\opentnsim\\opentnsim\\lock.py:513: UserWarning:\n",
      "\n",
      "Converting non-nanosecond precision datetime values to nanosecond precision. This behavior can eventually be relaxed in xarray, as it is an artifact from pandas which is now beginning to support non-nanosecond precision values. This warning is caused by passing non-nanosecond np.datetime64 or np.timedelta64 values to the DataArray or Variable constructor; it can be silenced by converting the values to nanosecond precision ahead of time.\n",
      "\n",
      "c:\\users\\floorbakker\\opentnsim\\opentnsim\\lock.py:711: UserWarning:\n",
      "\n",
      "Converting non-nanosecond precision datetime values to nanosecond precision. This behavior can eventually be relaxed in xarray, as it is an artifact from pandas which is now beginning to support non-nanosecond precision values. This warning is caused by passing non-nanosecond np.datetime64 or np.timedelta64 values to the DataArray or Variable constructor; it can be silenced by converting the values to nanosecond precision ahead of time.\n",
      "\n"
     ]
    },
    {
     "name": "stdout",
     "output_type": "stream",
     "text": [
      "inbound_vessel_103 hap is geconvert 2019-01-10 14:23:06.186106\n",
      "outbound_vessel_105 start waiting time 2019-01-10 14:30:43.313774\n",
      "claim the lock doors outbound_vessel_105 2019-01-10 14:30:43.313774\n",
      "lock is empty and not converting outbound_vessel_105 2019-01-10 14:30:43.313774 0 []\n",
      "left doors2 inbound_vessel_103 2019-01-10 14:31:09.519439 1 [] []\n",
      "lock doors claimed outbound_vessel_105 2019-01-10 14:31:09.519439\n",
      "waiting done outbound_vessel_105 2019-01-10 14:31:09.519439\n",
      "outbound_vessel_105 sail to assigned lock position\n",
      "outbound_vessel_106 start waiting time 2019-01-10 14:35:38.251478\n",
      "claim the lock doors outbound_vessel_106 2019-01-10 14:35:38.251478\n",
      "lock not empty outbound_vessel_106 ['outbound_vessel_105']\n",
      "lock is already converting outbound_vessel_106 2019-01-10 14:35:38.251478 ['outbound_vessel_105']\n",
      "outbound_vessel_107 start waiting time 2019-01-10 14:42:07.140367\n",
      "wait for lockage True ['outbound_vessel_105', 'outbound_vessel_106'] False\n",
      "print doors outbound_vessel_105 ['outbound_vessel_105'] ['outbound_vessel_105']\n",
      "left doors1 outbound_vessel_105 2019-01-10 14:42:16.186106 0 ['outbound_vessel_106'] ['outbound_vessel_105']\n",
      "outbound_vessel_105 in lock ['outbound_vessel_105', 'outbound_vessel_106']\n",
      "waiting for others outbound_vessel_105\n",
      "lock doors claimed outbound_vessel_106 2019-01-10 14:42:16.186106\n",
      "second in line to claim lock outbound_vessel_106 2019-01-10 14:42:16.186106\n",
      "waiting done outbound_vessel_106 2019-01-10 14:42:16.186106\n",
      "outbound_vessel_106 sail to assigned lock position\n",
      "print doors outbound_vessel_106 ['outbound_vessel_106'] ['outbound_vessel_106']\n",
      "left doors1 outbound_vessel_106 2019-01-10 14:49:40.630551 0 [] ['outbound_vessel_106']\n",
      "outbound_vessel_106 in lock ['outbound_vessel_105', 'outbound_vessel_106']\n",
      "outbound_vessel_106 converting hap 2019-01-10 14:49:40.630551\n",
      "hi 2019-01-10 14:49:40.630551\n",
      "2019-01-10 14:49:40.630551 Node_50 Node_49 Lock doors closing start\n",
      "waiting for others done outbound_vessel_105\n",
      "inbound_vessel_104 start waiting time 2019-01-10 14:50:30.528235\n",
      "inbound_vessel_104 lock position given 2019-01-10 14:50:30.528235\n",
      "inbound_vessel_104 requested place in next lockage 2019-01-10 14:50:30.528235\n",
      "claim the lock doors inbound_vessel_104 2019-01-10 14:50:30.528235\n",
      "requesting approach: else inbound_vessel_104 2019-01-10 14:50:30.528235 2 ['outbound_vessel_106'] []\n"
     ]
    },
    {
     "name": "stderr",
     "output_type": "stream",
     "text": [
      "c:\\users\\floorbakker\\opentnsim\\opentnsim\\lock.py:711: UserWarning:\n",
      "\n",
      "Converting non-nanosecond precision datetime values to nanosecond precision. This behavior can eventually be relaxed in xarray, as it is an artifact from pandas which is now beginning to support non-nanosecond precision values. This warning is caused by passing non-nanosecond np.datetime64 or np.timedelta64 values to the DataArray or Variable constructor; it can be silenced by converting the values to nanosecond precision ahead of time.\n",
      "\n"
     ]
    },
    {
     "name": "stdout",
     "output_type": "stream",
     "text": [
      "outbound_vessel_106 hap is geconvert 2019-01-10 15:33:01.741662\n",
      "outbound_vessel_107 lock position given 2019-01-10 15:38:35.074995\n",
      "outbound_vessel_107 requested place in next lockage 2019-01-10 15:38:35.074995\n",
      "claim the lock doors outbound_vessel_107 2019-01-10 15:38:35.074995\n",
      "requesting approach: else outbound_vessel_107 2019-01-10 15:38:35.074995 0 [] ['outbound_vessel_106']\n",
      "doors requested outbound_vessel_107\n",
      "claiming lock: priority doors2 is -1 outbound_vessel_107 2019-01-10 15:38:35.074995\n",
      "outbound_vessel_107 wth\n",
      "hi 2019-01-10 15:38:35.074995\n",
      "2019-01-10 15:38:35.074995 Node_49 Node_50 Lock doors closing start\n"
     ]
    },
    {
     "name": "stderr",
     "output_type": "stream",
     "text": [
      "c:\\users\\floorbakker\\opentnsim\\opentnsim\\lock.py:711: UserWarning:\n",
      "\n",
      "Converting non-nanosecond precision datetime values to nanosecond precision. This behavior can eventually be relaxed in xarray, as it is an artifact from pandas which is now beginning to support non-nanosecond precision values. This warning is caused by passing non-nanosecond np.datetime64 or np.timedelta64 values to the DataArray or Variable constructor; it can be silenced by converting the values to nanosecond precision ahead of time.\n",
      "\n"
     ]
    },
    {
     "name": "stdout",
     "output_type": "stream",
     "text": [
      "waiting done outbound_vessel_107 2019-01-10 16:29:35.074995\n",
      "outbound_vessel_107 sail to assigned lock position\n",
      "outbound_vessel_108 start waiting time 2019-01-10 16:39:46.186106\n",
      "outbound_vessel_108 lock position given 2019-01-10 16:39:46.186106\n",
      "outbound_vessel_108 requested place in next lockage 2019-01-10 16:39:46.186106\n",
      "claim the lock doors outbound_vessel_108 2019-01-10 16:39:46.186106\n",
      "lock not empty outbound_vessel_108 ['outbound_vessel_107']\n",
      "lock is ready to be entered 2019-01-10 16:39:46.186106\n",
      "print doors outbound_vessel_107 ['outbound_vessel_107'] ['outbound_vessel_107']\n",
      "left doors1 outbound_vessel_107 2019-01-10 16:44:23.963884 0 ['outbound_vessel_108'] ['outbound_vessel_107']\n",
      "outbound_vessel_107 in lock ['outbound_vessel_107', 'outbound_vessel_108']\n",
      "waiting for others outbound_vessel_107\n",
      "lock doors claimed outbound_vessel_108 2019-01-10 16:44:23.963884\n",
      "waiting done outbound_vessel_108 2019-01-10 16:44:23.963884\n",
      "outbound_vessel_108 sail to assigned lock position\n",
      "outbound_vessel_109 start waiting time 2019-01-10 16:49:21.098333\n",
      "wait for lockage True ['outbound_vessel_107', 'outbound_vessel_108'] False\n",
      "print doors outbound_vessel_108 ['outbound_vessel_108'] ['outbound_vessel_108']\n",
      "left doors1 outbound_vessel_108 2019-01-10 16:51:48.408329 0 [] ['outbound_vessel_108']\n",
      "outbound_vessel_108 in lock ['outbound_vessel_107', 'outbound_vessel_108']\n",
      "outbound_vessel_108 converting hap 2019-01-10 16:51:48.408329\n",
      "hi 2019-01-10 16:51:48.408329\n",
      "2019-01-10 16:51:48.408329 Node_50 Node_49 Lock doors closing start\n",
      "waiting for others done outbound_vessel_107\n"
     ]
    },
    {
     "name": "stderr",
     "output_type": "stream",
     "text": [
      "c:\\users\\floorbakker\\opentnsim\\opentnsim\\lock.py:711: UserWarning:\n",
      "\n",
      "Converting non-nanosecond precision datetime values to nanosecond precision. This behavior can eventually be relaxed in xarray, as it is an artifact from pandas which is now beginning to support non-nanosecond precision values. This warning is caused by passing non-nanosecond np.datetime64 or np.timedelta64 values to the DataArray or Variable constructor; it can be silenced by converting the values to nanosecond precision ahead of time.\n",
      "\n"
     ]
    },
    {
     "name": "stdout",
     "output_type": "stream",
     "text": [
      "hey ho inbound_vessel_105 ['inbound_vessel_104']\n",
      "yo inbound_vessel_105 2019-01-10 17:32:58.119782 ['inbound_vessel_104']\n",
      "outbound_vessel_108 hap is geconvert 2019-01-10 17:55:09.519440\n",
      "outbound_vessel_109 lock position given 2019-01-10 18:00:42.852773\n",
      "outbound_vessel_109 requested place in next lockage 2019-01-10 18:00:42.852773\n",
      "claim the lock doors outbound_vessel_109 2019-01-10 18:00:42.852773\n",
      "requesting approach: else outbound_vessel_109 2019-01-10 18:00:42.852773 0 [] ['outbound_vessel_108']\n",
      "doors requested outbound_vessel_109\n",
      "claiming lock: priority doors2 is -1 outbound_vessel_109 2019-01-10 18:00:42.852773\n",
      "outbound_vessel_109 wth\n",
      "hi 2019-01-10 18:00:42.852773\n",
      "2019-01-10 18:00:42.852773 Node_49 Node_50 Lock doors closing start\n"
     ]
    },
    {
     "name": "stderr",
     "output_type": "stream",
     "text": [
      "c:\\users\\floorbakker\\opentnsim\\opentnsim\\lock.py:711: UserWarning:\n",
      "\n",
      "Converting non-nanosecond precision datetime values to nanosecond precision. This behavior can eventually be relaxed in xarray, as it is an artifact from pandas which is now beginning to support non-nanosecond precision values. This warning is caused by passing non-nanosecond np.datetime64 or np.timedelta64 values to the DataArray or Variable constructor; it can be silenced by converting the values to nanosecond precision ahead of time.\n",
      "\n"
     ]
    },
    {
     "name": "stdout",
     "output_type": "stream",
     "text": [
      "inbound_vessel_105 start waiting time 2019-01-10 18:30:32.286449\n",
      "claim the lock doors inbound_vessel_105 2019-01-10 18:30:32.286449\n",
      "wait in lock first 2019-01-10 18:30:32.286449\n",
      "outbound_vessel_110 start waiting time 2019-01-10 18:46:40.975979\n",
      "outbound_vessel_110 lock position given 2019-01-10 18:46:40.975979\n",
      "outbound_vessel_110 requested place in next lockage 2019-01-10 18:46:40.975979\n",
      "claim the lock doors outbound_vessel_110 2019-01-10 18:46:40.975979\n",
      "lock is empty and not converting outbound_vessel_110 2019-01-10 18:46:40.975979 0 []\n",
      "waiting done outbound_vessel_109 2019-01-10 18:57:42.852773\n",
      "outbound_vessel_109 sail to assigned lock position\n",
      "print doors outbound_vessel_109 ['outbound_vessel_109'] ['outbound_vessel_109']\n",
      "left doors1 outbound_vessel_109 2019-01-10 19:08:49.519440 0 ['outbound_vessel_110'] ['outbound_vessel_109']\n",
      "outbound_vessel_109 in lock ['outbound_vessel_109', 'outbound_vessel_110']\n",
      "waiting for others outbound_vessel_109\n",
      "lock doors claimed outbound_vessel_110 2019-01-10 19:08:49.519440\n",
      "waiting done outbound_vessel_110 2019-01-10 19:08:49.519440\n",
      "outbound_vessel_110 sail to assigned lock position\n",
      "print doors outbound_vessel_110 ['outbound_vessel_109'] ['outbound_vessel_110']\n",
      "left doors1 outbound_vessel_110 2019-01-10 19:19:56.186106 0 ['inbound_vessel_105'] ['outbound_vessel_109']\n",
      "outbound_vessel_110 in lock ['outbound_vessel_109', 'outbound_vessel_110']\n",
      "requesting approach: else inbound_vessel_105 2019-01-10 19:19:56.186106 2 ['outbound_vessel_109'] []\n",
      "outbound_vessel_110 converting hap 2019-01-10 19:19:56.186106\n",
      "hi 2019-01-10 19:19:56.186106\n",
      "2019-01-10 19:19:56.186106 Node_50 Node_49 Lock doors closing start\n",
      "waiting for others done outbound_vessel_109\n"
     ]
    },
    {
     "name": "stderr",
     "output_type": "stream",
     "text": [
      "c:\\users\\floorbakker\\opentnsim\\opentnsim\\lock.py:711: UserWarning:\n",
      "\n",
      "Converting non-nanosecond precision datetime values to nanosecond precision. This behavior can eventually be relaxed in xarray, as it is an artifact from pandas which is now beginning to support non-nanosecond precision values. This warning is caused by passing non-nanosecond np.datetime64 or np.timedelta64 values to the DataArray or Variable constructor; it can be silenced by converting the values to nanosecond precision ahead of time.\n",
      "\n"
     ]
    },
    {
     "name": "stdout",
     "output_type": "stream",
     "text": [
      "left doors2 outbound_vessel_109 2019-01-10 20:08:17.297218 0 [] []\n",
      "outbound_vessel_110 hap is geconvert 2019-01-10 20:08:17.297218\n",
      "left doors2 outbound_vessel_110 2019-01-10 20:16:20.630551 0 [] []\n",
      "doors requested inbound_vessel_104\n",
      "claiming lock: priority doors2 not -1 inbound_vessel_104 2019-01-10 20:16:20.630551\n",
      "waiting done inbound_vessel_104 2019-01-10 20:16:20.630551\n",
      "inbound_vessel_104 sail to assigned lock position\n",
      "print doors inbound_vessel_104 ['inbound_vessel_104'] ['inbound_vessel_104']\n",
      "left doors1 inbound_vessel_104 2019-01-10 20:27:27.297218 ['inbound_vessel_105'] 1 ['inbound_vessel_104']\n",
      "inbound_vessel_104 in lock ['inbound_vessel_104', 'inbound_vessel_105']\n",
      "waiting for others inbound_vessel_104\n",
      "doors requested inbound_vessel_105\n",
      "claiming lock: priority doors2 is -1 inbound_vessel_105 2019-01-10 20:27:27.297218\n",
      "waiting done inbound_vessel_105 2019-01-10 20:27:27.297218\n",
      "inbound_vessel_105 sail to assigned lock position\n",
      "inbound_vessel_106 start waiting time 2019-01-10 20:37:38.408329\n",
      "wait for lockage True ['inbound_vessel_104', 'inbound_vessel_105'] False\n",
      "print doors inbound_vessel_105 ['inbound_vessel_105'] ['inbound_vessel_105']\n",
      "left doors1 inbound_vessel_105 2019-01-10 20:38:33.963884 [] 1 ['inbound_vessel_105']\n",
      "inbound_vessel_105 in lock ['inbound_vessel_104', 'inbound_vessel_105']\n",
      "inbound_vessel_105 converting hap 2019-01-10 20:38:33.963884\n",
      "hi 2019-01-10 20:38:33.963884\n",
      "2019-01-10 20:38:33.963884 Node_49 Node_50 Lock doors closing start\n",
      "waiting for others done inbound_vessel_104\n"
     ]
    },
    {
     "name": "stderr",
     "output_type": "stream",
     "text": [
      "c:\\users\\floorbakker\\opentnsim\\opentnsim\\lock.py:711: UserWarning:\n",
      "\n",
      "Converting non-nanosecond precision datetime values to nanosecond precision. This behavior can eventually be relaxed in xarray, as it is an artifact from pandas which is now beginning to support non-nanosecond precision values. This warning is caused by passing non-nanosecond np.datetime64 or np.timedelta64 values to the DataArray or Variable constructor; it can be silenced by converting the values to nanosecond precision ahead of time.\n",
      "\n"
     ]
    },
    {
     "name": "stdout",
     "output_type": "stream",
     "text": [
      "inbound_vessel_105 hap is geconvert 2019-01-10 21:12:55.074996\n",
      "inbound_vessel_106 lock position given 2019-01-10 21:18:28.408329\n",
      "inbound_vessel_106 requested place in next lockage 2019-01-10 21:18:28.408329\n",
      "claim the lock doors inbound_vessel_106 2019-01-10 21:18:28.408329\n",
      "else: claiming lock: priority doors2 = -1 inbound_vessel_106 2019-01-10 21:18:28.408329 -1\n",
      "lock doors claimed inbound_vessel_106 2019-01-10 21:18:28.408329\n",
      "inbound_vessel_106 wth\n",
      "hi 2019-01-10 21:18:28.408329\n",
      "2019-01-10 21:18:28.408329 Node_50 Node_49 Lock doors closing start\n"
     ]
    },
    {
     "name": "stderr",
     "output_type": "stream",
     "text": [
      "c:\\users\\floorbakker\\opentnsim\\opentnsim\\lock.py:711: UserWarning:\n",
      "\n",
      "Converting non-nanosecond precision datetime values to nanosecond precision. This behavior can eventually be relaxed in xarray, as it is an artifact from pandas which is now beginning to support non-nanosecond precision values. This warning is caused by passing non-nanosecond np.datetime64 or np.timedelta64 values to the DataArray or Variable constructor; it can be silenced by converting the values to nanosecond precision ahead of time.\n",
      "\n"
     ]
    },
    {
     "name": "stdout",
     "output_type": "stream",
     "text": [
      "hey ho outbound_vessel_111 []\n",
      "hi outbound_vessel_111 2019-01-10 21:35:25.246418 0\n",
      "inbound_vessel_107 start waiting time 2019-01-10 21:56:00.128753\n",
      "inbound_vessel_107 lock position given 2019-01-10 21:56:00.128753\n",
      "inbound_vessel_107 requested place in next lockage 2019-01-10 21:56:00.128753\n",
      "claim the lock doors inbound_vessel_107 2019-01-10 21:56:00.128753\n",
      "lock is empty and not converting inbound_vessel_107 2019-01-10 21:56:00.128753 0 []\n",
      "waiting done inbound_vessel_106 2019-01-10 22:02:28.408329\n",
      "inbound_vessel_106 sail to assigned lock position\n",
      "print doors inbound_vessel_106 ['inbound_vessel_106'] ['inbound_vessel_106']\n",
      "left doors1 inbound_vessel_106 2019-01-10 22:13:35.074996 ['inbound_vessel_107'] 1 ['inbound_vessel_106']\n",
      "inbound_vessel_106 in lock ['inbound_vessel_106', 'inbound_vessel_107']\n",
      "waiting for others inbound_vessel_106\n",
      "lock doors claimed inbound_vessel_107 2019-01-10 22:13:35.074996\n",
      "waiting done inbound_vessel_107 2019-01-10 22:13:35.074996\n",
      "inbound_vessel_107 sail to assigned lock position\n",
      "print doors inbound_vessel_107 ['inbound_vessel_107'] ['inbound_vessel_106']\n",
      "left doors1 inbound_vessel_107 2019-01-10 22:24:41.741662 [] 1 ['inbound_vessel_106']\n",
      "inbound_vessel_107 in lock ['inbound_vessel_106', 'inbound_vessel_107']\n",
      "inbound_vessel_107 converting hap 2019-01-10 22:24:41.741662\n",
      "hi 2019-01-10 22:24:41.741662\n",
      "2019-01-10 22:24:41.741662 Node_49 Node_50 Lock doors closing start\n",
      "waiting for others done inbound_vessel_106\n",
      "outbound_vessel_111 start waiting time 2019-01-10 22:34:06.079751\n",
      "claim the lock doors outbound_vessel_111 2019-01-10 22:34:06.079751\n",
      "requesting approach: else outbound_vessel_111 2019-01-10 22:34:06.079751 2 ['inbound_vessel_106'] []\n"
     ]
    },
    {
     "name": "stderr",
     "output_type": "stream",
     "text": [
      "c:\\users\\floorbakker\\opentnsim\\opentnsim\\lock.py:711: UserWarning:\n",
      "\n",
      "Converting non-nanosecond precision datetime values to nanosecond precision. This behavior can eventually be relaxed in xarray, as it is an artifact from pandas which is now beginning to support non-nanosecond precision values. This warning is caused by passing non-nanosecond np.datetime64 or np.timedelta64 values to the DataArray or Variable constructor; it can be silenced by converting the values to nanosecond precision ahead of time.\n",
      "\n"
     ]
    },
    {
     "name": "stdout",
     "output_type": "stream",
     "text": [
      "left doors2 inbound_vessel_106 2019-01-10 23:24:02.852773 1 [] []\n",
      "inbound_vessel_107 hap is geconvert 2019-01-10 23:24:02.852773\n",
      "left doors2 inbound_vessel_107 2019-01-10 23:32:06.186107 1 [] []\n",
      "doors requested outbound_vessel_111\n",
      "claiming lock: priority doors2 not -1 outbound_vessel_111 2019-01-10 23:32:06.186107\n",
      "waiting done outbound_vessel_111 2019-01-10 23:32:06.186107\n",
      "outbound_vessel_111 sail to assigned lock position\n",
      "print doors outbound_vessel_111 ['outbound_vessel_111'] ['outbound_vessel_111']\n",
      "left doors1 outbound_vessel_111 2019-01-10 23:43:12.852773 0 [] ['outbound_vessel_111']\n",
      "outbound_vessel_111 in lock ['outbound_vessel_111']\n",
      "outbound_vessel_111 converting hap 2019-01-10 23:43:12.852773\n",
      "hi 2019-01-10 23:43:12.852773\n",
      "2019-01-10 23:43:12.852773 Node_50 Node_49 Lock doors closing start\n"
     ]
    },
    {
     "name": "stderr",
     "output_type": "stream",
     "text": [
      "c:\\users\\floorbakker\\opentnsim\\opentnsim\\lock.py:711: UserWarning:\n",
      "\n",
      "Converting non-nanosecond precision datetime values to nanosecond precision. This behavior can eventually be relaxed in xarray, as it is an artifact from pandas which is now beginning to support non-nanosecond precision values. This warning is caused by passing non-nanosecond np.datetime64 or np.timedelta64 values to the DataArray or Variable constructor; it can be silenced by converting the values to nanosecond precision ahead of time.\n",
      "\n"
     ]
    },
    {
     "name": "stdout",
     "output_type": "stream",
     "text": [
      "inbound_vessel_108 start waiting time 2019-01-11 00:13:42.018868\n",
      "inbound_vessel_108 lock position given 2019-01-11 00:13:42.018868\n",
      "inbound_vessel_108 requested place in next lockage 2019-01-11 00:13:42.018868\n",
      "claim the lock doors inbound_vessel_108 2019-01-11 00:13:42.018868\n",
      "lock not empty inbound_vessel_108 ['outbound_vessel_111']\n",
      "lock is already converting inbound_vessel_108 2019-01-11 00:13:42.018868 ['outbound_vessel_111']\n",
      "hey ho outbound_vessel_112 ['outbound_vessel_111']\n",
      "outbound_vessel_111 hap is geconvert 2019-01-11 00:42:12.852773\n",
      "left doors2 outbound_vessel_111 2019-01-11 00:46:33.963885 0 [] []\n",
      "lock doors claimed inbound_vessel_108 2019-01-11 00:46:33.963885\n",
      "first in line to claim lock inbound_vessel_108 2019-01-11 00:46:33.963885\n",
      "waiting done inbound_vessel_108 2019-01-11 00:46:33.963885\n",
      "inbound_vessel_108 sail to assigned lock position\n",
      "print doors inbound_vessel_108 ['inbound_vessel_108'] ['inbound_vessel_108']\n",
      "left doors1 inbound_vessel_108 2019-01-11 00:57:40.630551 [] 1 ['inbound_vessel_108']\n",
      "inbound_vessel_108 in lock ['inbound_vessel_108']\n",
      "inbound_vessel_108 converting hap 2019-01-11 00:57:40.630551\n",
      "hi 2019-01-11 00:57:40.630551\n",
      "2019-01-11 00:57:40.630551 Node_49 Node_50 Lock doors closing start\n"
     ]
    },
    {
     "name": "stderr",
     "output_type": "stream",
     "text": [
      "c:\\users\\floorbakker\\opentnsim\\opentnsim\\lock.py:711: UserWarning:\n",
      "\n",
      "Converting non-nanosecond precision datetime values to nanosecond precision. This behavior can eventually be relaxed in xarray, as it is an artifact from pandas which is now beginning to support non-nanosecond precision values. This warning is caused by passing non-nanosecond np.datetime64 or np.timedelta64 values to the DataArray or Variable constructor; it can be silenced by converting the values to nanosecond precision ahead of time.\n",
      "\n"
     ]
    },
    {
     "name": "stdout",
     "output_type": "stream",
     "text": [
      "outbound_vessel_112 start waiting time 2019-01-11 01:39:29.793991\n",
      "outbound_vessel_112 lock position given 2019-01-11 01:39:29.793991\n",
      "outbound_vessel_112 requested place in next lockage 2019-01-11 01:39:29.793991\n",
      "claim the lock doors outbound_vessel_112 2019-01-11 01:39:29.793991\n",
      "lock not empty outbound_vessel_112 ['inbound_vessel_108']\n",
      "lock is already converting outbound_vessel_112 2019-01-11 01:39:29.793991 ['inbound_vessel_108']\n",
      "inbound_vessel_108 hap is geconvert 2019-01-11 01:48:40.630551\n",
      "left doors2 inbound_vessel_108 2019-01-11 01:53:01.741663 1 [] []\n",
      "lock doors claimed outbound_vessel_112 2019-01-11 01:53:01.741663\n",
      "first in line to claim lock outbound_vessel_112 2019-01-11 01:53:01.741663\n",
      "waiting done outbound_vessel_112 2019-01-11 01:53:01.741663\n",
      "outbound_vessel_112 sail to assigned lock position\n",
      "print doors outbound_vessel_112 ['outbound_vessel_112'] ['outbound_vessel_112']\n",
      "left doors1 outbound_vessel_112 2019-01-11 02:04:08.408329 0 [] ['outbound_vessel_112']\n",
      "outbound_vessel_112 in lock ['outbound_vessel_112']\n",
      "outbound_vessel_112 converting hap 2019-01-11 02:04:08.408329\n",
      "hi 2019-01-11 02:04:08.408329\n",
      "2019-01-11 02:04:08.408329 Node_50 Node_49 Lock doors closing start\n"
     ]
    },
    {
     "name": "stderr",
     "output_type": "stream",
     "text": [
      "c:\\users\\floorbakker\\opentnsim\\opentnsim\\lock.py:711: UserWarning:\n",
      "\n",
      "Converting non-nanosecond precision datetime values to nanosecond precision. This behavior can eventually be relaxed in xarray, as it is an artifact from pandas which is now beginning to support non-nanosecond precision values. This warning is caused by passing non-nanosecond np.datetime64 or np.timedelta64 values to the DataArray or Variable constructor; it can be silenced by converting the values to nanosecond precision ahead of time.\n",
      "\n"
     ]
    },
    {
     "name": "stdout",
     "output_type": "stream",
     "text": [
      "outbound_vessel_112 hap is geconvert 2019-01-11 02:40:08.408329\n",
      "left doors2 outbound_vessel_112 2019-01-11 02:44:29.519440 0 [] []\n",
      "hey ho inbound_vessel_109 []\n",
      "hi inbound_vessel_109 2019-01-11 02:55:13.345702 0\n",
      "inbound_vessel_109 start waiting time 2019-01-11 03:53:54.179035\n",
      "claim the lock doors inbound_vessel_109 2019-01-11 03:53:54.179035\n",
      "lock is empty and not converting inbound_vessel_109 2019-01-11 03:53:54.179035 0 []\n",
      "lock doors claimed inbound_vessel_109 2019-01-11 03:53:54.179035\n",
      "waiting done inbound_vessel_109 2019-01-11 03:53:54.179035\n",
      "hey ho outbound_vessel_113 []\n",
      "hi outbound_vessel_113 2019-01-11 03:55:13.501144 0\n",
      "inbound_vessel_109 sail to assigned lock position\n",
      "print doors inbound_vessel_109 ['inbound_vessel_109'] ['inbound_vessel_109']\n",
      "left doors1 inbound_vessel_109 2019-01-11 04:05:00.845702 [] 1 ['inbound_vessel_109']\n",
      "inbound_vessel_109 in lock ['inbound_vessel_109']\n",
      "inbound_vessel_109 converting hap 2019-01-11 04:05:00.845702\n",
      "hi 2019-01-11 04:05:00.845702\n",
      "2019-01-11 04:05:00.845702 Node_49 Node_50 Lock doors closing start\n"
     ]
    },
    {
     "name": "stderr",
     "output_type": "stream",
     "text": [
      "c:\\users\\floorbakker\\opentnsim\\opentnsim\\lock.py:513: UserWarning:\n",
      "\n",
      "Converting non-nanosecond precision datetime values to nanosecond precision. This behavior can eventually be relaxed in xarray, as it is an artifact from pandas which is now beginning to support non-nanosecond precision values. This warning is caused by passing non-nanosecond np.datetime64 or np.timedelta64 values to the DataArray or Variable constructor; it can be silenced by converting the values to nanosecond precision ahead of time.\n",
      "\n",
      "c:\\users\\floorbakker\\opentnsim\\opentnsim\\lock.py:711: UserWarning:\n",
      "\n",
      "Converting non-nanosecond precision datetime values to nanosecond precision. This behavior can eventually be relaxed in xarray, as it is an artifact from pandas which is now beginning to support non-nanosecond precision values. This warning is caused by passing non-nanosecond np.datetime64 or np.timedelta64 values to the DataArray or Variable constructor; it can be silenced by converting the values to nanosecond precision ahead of time.\n",
      "\n"
     ]
    },
    {
     "name": "stdout",
     "output_type": "stream",
     "text": [
      "hey ho inbound_vessel_110 ['inbound_vessel_109']\n",
      "hey ho outbound_vessel_114 ['outbound_vessel_113']\n",
      "yo outbound_vessel_114 2019-01-11 04:34:32.155246 ['outbound_vessel_113']\n",
      "outbound_vessel_113 start waiting time 2019-01-11 04:53:54.334477\n",
      "claim the lock doors outbound_vessel_113 2019-01-11 04:53:54.334477\n",
      "lock not empty outbound_vessel_113 ['inbound_vessel_109']\n",
      "lock is already converting outbound_vessel_113 2019-01-11 04:53:54.334477 ['inbound_vessel_109']\n",
      "inbound_vessel_109 hap is geconvert 2019-01-11 04:56:00.845702\n",
      "left doors2 inbound_vessel_109 2019-01-11 05:00:21.956813 1 [] []\n",
      "lock doors claimed outbound_vessel_113 2019-01-11 05:00:21.956813\n",
      "first in line to claim lock outbound_vessel_113 2019-01-11 05:00:21.956813\n",
      "waiting done outbound_vessel_113 2019-01-11 05:00:21.956813\n",
      "outbound_vessel_113 sail to assigned lock position\n",
      "print doors outbound_vessel_113 ['outbound_vessel_113'] ['outbound_vessel_113']\n",
      "left doors1 outbound_vessel_113 2019-01-11 05:11:28.623480 0 [] ['outbound_vessel_113']\n",
      "outbound_vessel_113 in lock ['outbound_vessel_113', 'outbound_vessel_114']\n",
      "waiting for others outbound_vessel_113\n",
      "inbound_vessel_110 start waiting time 2019-01-11 05:19:37.163264\n",
      "inbound_vessel_110 lock position given 2019-01-11 05:19:37.163264\n",
      "inbound_vessel_110 requested place in next lockage 2019-01-11 05:19:37.163264\n",
      "claim the lock doors inbound_vessel_110 2019-01-11 05:19:37.163264\n",
      "requesting approach: else inbound_vessel_110 2019-01-11 05:19:37.163264 1 ['outbound_vessel_113'] []\n",
      "outbound_vessel_114 start waiting time 2019-01-11 05:33:12.988579\n",
      "claim the lock doors outbound_vessel_114 2019-01-11 05:33:12.988579\n",
      "lock not empty outbound_vessel_114 ['outbound_vessel_113']\n",
      "lock is ready to be entered 2019-01-11 05:33:12.988579\n",
      "lock doors claimed outbound_vessel_114 2019-01-11 05:33:12.988579\n",
      "waiting done outbound_vessel_114 2019-01-11 05:33:12.988579\n",
      "outbound_vessel_114 sail to assigned lock position\n",
      "print doors outbound_vessel_114 ['outbound_vessel_114'] ['outbound_vessel_114']\n",
      "left doors1 outbound_vessel_114 2019-01-11 05:40:37.433024 0 [] ['outbound_vessel_114']\n",
      "outbound_vessel_114 in lock ['outbound_vessel_113', 'outbound_vessel_114']\n",
      "outbound_vessel_114 converting hap 2019-01-11 05:40:37.433024\n",
      "hi 2019-01-11 05:40:37.433024\n",
      "2019-01-11 05:40:37.433024 Node_50 Node_49 Lock doors closing start\n",
      "waiting for others done outbound_vessel_113\n"
     ]
    },
    {
     "name": "stderr",
     "output_type": "stream",
     "text": [
      "c:\\users\\floorbakker\\opentnsim\\opentnsim\\lock.py:711: UserWarning:\n",
      "\n",
      "Converting non-nanosecond precision datetime values to nanosecond precision. This behavior can eventually be relaxed in xarray, as it is an artifact from pandas which is now beginning to support non-nanosecond precision values. This warning is caused by passing non-nanosecond np.datetime64 or np.timedelta64 values to the DataArray or Variable constructor; it can be silenced by converting the values to nanosecond precision ahead of time.\n",
      "\n"
     ]
    },
    {
     "name": "stdout",
     "output_type": "stream",
     "text": [
      "outbound_vessel_115 start waiting time 2019-01-11 06:03:46.408285\n",
      "wait for lockage True ['outbound_vessel_113', 'outbound_vessel_114'] True\n",
      "outbound_vessel_114 hap is geconvert 2019-01-11 06:43:58.544135\n",
      "outbound_vessel_115 lock position given 2019-01-11 06:49:31.877468\n",
      "outbound_vessel_115 requested place in next lockage 2019-01-11 06:49:31.877468\n",
      "claim the lock doors outbound_vessel_115 2019-01-11 06:49:31.877468\n",
      "requesting approach: else outbound_vessel_115 2019-01-11 06:49:31.877468 0 [] ['outbound_vessel_114']\n",
      "doors requested outbound_vessel_115\n",
      "claiming lock: priority doors2 is -1 outbound_vessel_115 2019-01-11 06:49:31.877468\n",
      "outbound_vessel_115 wth\n",
      "hi 2019-01-11 06:49:31.877468\n",
      "2019-01-11 06:49:31.877468 Node_49 Node_50 Lock doors closing start\n",
      "hey ho inbound_vessel_111 ['inbound_vessel_110']\n",
      "yo inbound_vessel_111 2019-01-11 06:58:46.003210 ['inbound_vessel_110']\n"
     ]
    },
    {
     "name": "stderr",
     "output_type": "stream",
     "text": [
      "c:\\users\\floorbakker\\opentnsim\\opentnsim\\lock.py:711: UserWarning:\n",
      "\n",
      "Converting non-nanosecond precision datetime values to nanosecond precision. This behavior can eventually be relaxed in xarray, as it is an artifact from pandas which is now beginning to support non-nanosecond precision values. This warning is caused by passing non-nanosecond np.datetime64 or np.timedelta64 values to the DataArray or Variable constructor; it can be silenced by converting the values to nanosecond precision ahead of time.\n",
      "\n"
     ]
    },
    {
     "name": "stdout",
     "output_type": "stream",
     "text": [
      "waiting done outbound_vessel_115 2019-01-11 07:44:31.877468\n",
      "outbound_vessel_115 sail to assigned lock position\n",
      "print doors outbound_vessel_115 ['outbound_vessel_115'] ['outbound_vessel_115']\n",
      "left doors1 outbound_vessel_115 2019-01-11 07:55:38.544135 0 [] ['outbound_vessel_115']\n",
      "outbound_vessel_115 in lock ['outbound_vessel_115']\n",
      "outbound_vessel_115 converting hap 2019-01-11 07:55:38.544135\n",
      "hi 2019-01-11 07:55:38.544135\n",
      "2019-01-11 07:55:38.544135 Node_50 Node_49 Lock doors closing start\n",
      "inbound_vessel_111 start waiting time 2019-01-11 07:56:20.169877\n",
      "claim the lock doors inbound_vessel_111 2019-01-11 07:56:20.169877\n",
      "requesting approach: else inbound_vessel_111 2019-01-11 07:56:20.169877 1 ['outbound_vessel_115'] []\n",
      "hey ho outbound_vessel_116 ['outbound_vessel_115']\n"
     ]
    },
    {
     "name": "stderr",
     "output_type": "stream",
     "text": [
      "c:\\users\\floorbakker\\opentnsim\\opentnsim\\lock.py:711: UserWarning:\n",
      "\n",
      "Converting non-nanosecond precision datetime values to nanosecond precision. This behavior can eventually be relaxed in xarray, as it is an artifact from pandas which is now beginning to support non-nanosecond precision values. This warning is caused by passing non-nanosecond np.datetime64 or np.timedelta64 values to the DataArray or Variable constructor; it can be silenced by converting the values to nanosecond precision ahead of time.\n",
      "\n"
     ]
    },
    {
     "name": "stdout",
     "output_type": "stream",
     "text": [
      "hey ho outbound_vessel_117 ['outbound_vessel_115']\n",
      "outbound_vessel_115 hap is geconvert 2019-01-11 08:36:38.544135\n",
      "left doors2 outbound_vessel_115 2019-01-11 08:40:59.655246 0 [] []\n",
      "doors requested inbound_vessel_110\n",
      "claiming lock: priority doors2 not -1 inbound_vessel_110 2019-01-11 08:40:59.655246\n",
      "waiting done inbound_vessel_110 2019-01-11 08:40:59.655246\n",
      "inbound_vessel_110 sail to assigned lock position\n",
      "print doors inbound_vessel_110 ['inbound_vessel_110'] ['inbound_vessel_110']\n",
      "left doors1 inbound_vessel_110 2019-01-11 08:52:06.321913 ['inbound_vessel_111'] 1 ['inbound_vessel_110']\n",
      "inbound_vessel_110 in lock ['inbound_vessel_110', 'inbound_vessel_111']\n",
      "waiting for others inbound_vessel_110\n",
      "doors requested inbound_vessel_111\n",
      "claiming lock: priority doors2 is -1 inbound_vessel_111 2019-01-11 08:52:06.321913\n",
      "waiting done inbound_vessel_111 2019-01-11 08:52:06.321913\n",
      "inbound_vessel_111 sail to assigned lock position\n",
      "outbound_vessel_116 start waiting time 2019-01-11 08:58:50.497848\n",
      "outbound_vessel_116 lock position given 2019-01-11 08:58:50.497848\n",
      "outbound_vessel_116 requested place in next lockage 2019-01-11 08:58:50.497848\n",
      "claim the lock doors outbound_vessel_116 2019-01-11 08:58:50.497848\n",
      "wait in lock first 2019-01-11 08:58:50.497848\n",
      "print doors inbound_vessel_111 ['inbound_vessel_111'] ['inbound_vessel_111']\n",
      "left doors1 inbound_vessel_111 2019-01-11 09:03:12.988580 ['outbound_vessel_116'] 1 ['inbound_vessel_111']\n",
      "inbound_vessel_111 in lock ['inbound_vessel_110', 'inbound_vessel_111']\n",
      "requesting approach: else outbound_vessel_116 2019-01-11 09:03:12.988580 2 ['inbound_vessel_111'] []\n",
      "inbound_vessel_111 converting hap 2019-01-11 09:03:12.988580\n",
      "hi 2019-01-11 09:03:12.988580\n",
      "2019-01-11 09:03:12.988580 Node_49 Node_50 Lock doors closing start\n",
      "waiting for others done inbound_vessel_110\n",
      "outbound_vessel_117 start waiting time 2019-01-11 09:11:03.420642\n",
      "outbound_vessel_117 lock position given 2019-01-11 09:11:03.420642\n",
      "outbound_vessel_117 requested place in next lockage 2019-01-11 09:11:03.420642\n",
      "claim the lock doors outbound_vessel_117 2019-01-11 09:11:03.420642\n",
      "requesting approach: else outbound_vessel_117 2019-01-11 09:11:03.420642 2 ['inbound_vessel_111'] []\n"
     ]
    },
    {
     "name": "stderr",
     "output_type": "stream",
     "text": [
      "c:\\users\\floorbakker\\opentnsim\\opentnsim\\lock.py:711: UserWarning:\n",
      "\n",
      "Converting non-nanosecond precision datetime values to nanosecond precision. This behavior can eventually be relaxed in xarray, as it is an artifact from pandas which is now beginning to support non-nanosecond precision values. This warning is caused by passing non-nanosecond np.datetime64 or np.timedelta64 values to the DataArray or Variable constructor; it can be silenced by converting the values to nanosecond precision ahead of time.\n",
      "\n"
     ]
    },
    {
     "name": "stdout",
     "output_type": "stream",
     "text": [
      "inbound_vessel_111 hap is geconvert 2019-01-11 09:31:34.099691\n",
      "left doors2 inbound_vessel_111 2019-01-11 09:39:37.433024 1 [] []\n",
      "doors requested outbound_vessel_116\n",
      "claiming lock: priority doors2 not -1 outbound_vessel_116 2019-01-11 09:39:37.433024\n",
      "waiting done outbound_vessel_116 2019-01-11 09:39:37.433024\n",
      "outbound_vessel_116 sail to assigned lock position\n",
      "print doors outbound_vessel_116 ['outbound_vessel_116'] ['outbound_vessel_116']\n",
      "left doors1 outbound_vessel_116 2019-01-11 09:50:44.099691 0 ['outbound_vessel_117'] ['outbound_vessel_116']\n",
      "outbound_vessel_116 in lock ['outbound_vessel_116', 'outbound_vessel_117']\n",
      "waiting for others outbound_vessel_116\n",
      "doors requested outbound_vessel_117\n",
      "claiming lock: priority doors2 is -1 outbound_vessel_117 2019-01-11 09:50:44.099691\n",
      "waiting done outbound_vessel_117 2019-01-11 09:50:44.099691\n",
      "outbound_vessel_117 sail to assigned lock position\n",
      "print doors outbound_vessel_117 ['outbound_vessel_117'] ['outbound_vessel_117']\n",
      "left doors1 outbound_vessel_117 2019-01-11 10:01:50.766358 0 [] ['outbound_vessel_117']\n",
      "outbound_vessel_117 in lock ['outbound_vessel_116', 'outbound_vessel_117']\n",
      "outbound_vessel_117 converting hap 2019-01-11 10:01:50.766358\n",
      "hi 2019-01-11 10:01:50.766358\n",
      "2019-01-11 10:01:50.766358 Node_50 Node_49 Lock doors closing start\n",
      "waiting for others done outbound_vessel_116\n"
     ]
    },
    {
     "name": "stderr",
     "output_type": "stream",
     "text": [
      "c:\\users\\floorbakker\\opentnsim\\opentnsim\\lock.py:711: UserWarning:\n",
      "\n",
      "Converting non-nanosecond precision datetime values to nanosecond precision. This behavior can eventually be relaxed in xarray, as it is an artifact from pandas which is now beginning to support non-nanosecond precision values. This warning is caused by passing non-nanosecond np.datetime64 or np.timedelta64 values to the DataArray or Variable constructor; it can be silenced by converting the values to nanosecond precision ahead of time.\n",
      "\n"
     ]
    },
    {
     "name": "stdout",
     "output_type": "stream",
     "text": [
      "inbound_vessel_112 start waiting time 2019-01-11 10:11:59.479694\n",
      "inbound_vessel_112 lock position given 2019-01-11 10:11:59.479694\n",
      "inbound_vessel_112 requested place in next lockage 2019-01-11 10:11:59.479694\n",
      "claim the lock doors inbound_vessel_112 2019-01-11 10:11:59.479694\n",
      "lock not empty inbound_vessel_112 ['outbound_vessel_116', 'outbound_vessel_117']\n",
      "lock is already converting inbound_vessel_112 2019-01-11 10:11:59.479694 ['outbound_vessel_116', 'outbound_vessel_117']\n",
      "outbound_vessel_117 hap is geconvert 2019-01-11 10:52:11.877469\n",
      "left doors2 outbound_vessel_117 2019-01-11 11:00:15.210802 0 [] []\n",
      "lock doors claimed inbound_vessel_112 2019-01-11 11:00:15.210802\n",
      "first in line to claim lock inbound_vessel_112 2019-01-11 11:00:15.210802\n",
      "waiting done inbound_vessel_112 2019-01-11 11:00:15.210802\n",
      "inbound_vessel_112 sail to assigned lock position\n",
      "hey ho inbound_vessel_113 ['inbound_vessel_112']\n",
      "yo inbound_vessel_113 2019-01-11 11:03:13.186893 ['inbound_vessel_112']\n",
      "outbound_vessel_118 start waiting time 2019-01-11 11:07:41.245251\n",
      "outbound_vessel_118 lock position given 2019-01-11 11:07:41.245251\n",
      "outbound_vessel_118 requested place in next lockage 2019-01-11 11:07:41.245251\n",
      "claim the lock doors outbound_vessel_118 2019-01-11 11:07:41.245251\n",
      "wait in lock first 2019-01-11 11:07:41.245251\n",
      "print doors inbound_vessel_112 ['inbound_vessel_112'] ['inbound_vessel_112']\n",
      "left doors1 inbound_vessel_112 2019-01-11 11:11:21.877469 ['outbound_vessel_118'] 1 ['inbound_vessel_112']\n",
      "inbound_vessel_112 in lock ['inbound_vessel_112', 'inbound_vessel_113']\n",
      "waiting for others inbound_vessel_112\n",
      "requesting approach: else outbound_vessel_118 2019-01-11 11:11:21.877469 1 ['inbound_vessel_112'] []\n",
      "inbound_vessel_113 start waiting time 2019-01-11 12:01:54.020226\n",
      "claim the lock doors inbound_vessel_113 2019-01-11 12:01:54.020226\n",
      "lock not empty inbound_vessel_113 ['inbound_vessel_112']\n",
      "lock is ready to be entered 2019-01-11 12:01:54.020226\n",
      "lock doors claimed inbound_vessel_113 2019-01-11 12:01:54.020226\n",
      "waiting done inbound_vessel_113 2019-01-11 12:01:54.020226\n",
      "inbound_vessel_113 sail to assigned lock position\n",
      "hey ho outbound_vessel_119 ['outbound_vessel_118']\n",
      "yo outbound_vessel_119 2019-01-11 12:07:02.777728 ['outbound_vessel_118']\n",
      "print doors inbound_vessel_113 ['inbound_vessel_113'] ['inbound_vessel_113']\n",
      "left doors1 inbound_vessel_113 2019-01-11 12:09:18.464671 [] 1 ['inbound_vessel_113']\n",
      "inbound_vessel_113 in lock ['inbound_vessel_112', 'inbound_vessel_113']\n",
      "inbound_vessel_113 converting hap 2019-01-11 12:09:18.464671\n",
      "hi 2019-01-11 12:09:18.464671\n",
      "2019-01-11 12:09:18.464671 Node_49 Node_50 Lock doors closing start\n",
      "waiting for others done inbound_vessel_112\n"
     ]
    },
    {
     "name": "stderr",
     "output_type": "stream",
     "text": [
      "c:\\users\\floorbakker\\opentnsim\\opentnsim\\lock.py:513: UserWarning:\n",
      "\n",
      "Converting non-nanosecond precision datetime values to nanosecond precision. This behavior can eventually be relaxed in xarray, as it is an artifact from pandas which is now beginning to support non-nanosecond precision values. This warning is caused by passing non-nanosecond np.datetime64 or np.timedelta64 values to the DataArray or Variable constructor; it can be silenced by converting the values to nanosecond precision ahead of time.\n",
      "\n",
      "c:\\users\\floorbakker\\opentnsim\\opentnsim\\lock.py:711: UserWarning:\n",
      "\n",
      "Converting non-nanosecond precision datetime values to nanosecond precision. This behavior can eventually be relaxed in xarray, as it is an artifact from pandas which is now beginning to support non-nanosecond precision values. This warning is caused by passing non-nanosecond np.datetime64 or np.timedelta64 values to the DataArray or Variable constructor; it can be silenced by converting the values to nanosecond precision ahead of time.\n",
      "\n"
     ]
    },
    {
     "name": "stdout",
     "output_type": "stream",
     "text": [
      "outbound_vessel_119 start waiting time 2019-01-11 13:04:36.944395\n",
      "claim the lock doors outbound_vessel_119 2019-01-11 13:04:36.944395\n",
      "lock not empty outbound_vessel_119 ['inbound_vessel_112', 'inbound_vessel_113']\n",
      "lock is already converting outbound_vessel_119 2019-01-11 13:04:36.944395 ['inbound_vessel_112', 'inbound_vessel_113']\n",
      "inbound_vessel_113 hap is geconvert 2019-01-11 13:12:39.575782\n",
      "left doors2 inbound_vessel_113 2019-01-11 13:20:42.909115 1 [] []\n",
      "doors requested outbound_vessel_118\n",
      "claiming lock: priority doors2 not -1 outbound_vessel_118 2019-01-11 13:20:42.909115\n",
      "waiting done outbound_vessel_118 2019-01-11 13:20:42.909115\n",
      "inbound_vessel_114 start waiting time 2019-01-11 13:22:31.218610\n",
      "inbound_vessel_114 lock position given 2019-01-11 13:22:31.218610\n",
      "inbound_vessel_114 requested place in next lockage 2019-01-11 13:22:31.218610\n",
      "claim the lock doors inbound_vessel_114 2019-01-11 13:22:31.218610\n",
      "wait in lock first 2019-01-11 13:22:31.218610\n",
      "outbound_vessel_118 sail to assigned lock position\n",
      "print doors outbound_vessel_118 ['outbound_vessel_118'] ['outbound_vessel_118']\n",
      "left doors1 outbound_vessel_118 2019-01-11 13:31:49.575782 0 ['outbound_vessel_119'] ['outbound_vessel_118']\n",
      "outbound_vessel_118 in lock ['outbound_vessel_118', 'outbound_vessel_119']\n",
      "waiting for others outbound_vessel_118\n",
      "lock doors claimed outbound_vessel_119 2019-01-11 13:31:49.575782\n",
      "second in line to claim lock outbound_vessel_119 2019-01-11 13:31:49.575782\n",
      "waiting done outbound_vessel_119 2019-01-11 13:31:49.575782\n",
      "outbound_vessel_119 sail to assigned lock position\n",
      "print doors outbound_vessel_119 ['outbound_vessel_119'] ['outbound_vessel_119']\n",
      "left doors1 outbound_vessel_119 2019-01-11 13:42:56.242449 0 ['inbound_vessel_114'] ['outbound_vessel_119']\n",
      "outbound_vessel_119 in lock ['outbound_vessel_118', 'outbound_vessel_119']\n",
      "requesting approach: else inbound_vessel_114 2019-01-11 13:42:56.242449 2 ['outbound_vessel_119'] []\n",
      "outbound_vessel_119 converting hap 2019-01-11 13:42:56.242449\n",
      "hi 2019-01-11 13:42:56.242449\n",
      "2019-01-11 13:42:56.242449 Node_50 Node_49 Lock doors closing start\n",
      "waiting for others done outbound_vessel_118\n"
     ]
    },
    {
     "name": "stderr",
     "output_type": "stream",
     "text": [
      "c:\\users\\floorbakker\\opentnsim\\opentnsim\\lock.py:711: UserWarning:\n",
      "\n",
      "Converting non-nanosecond precision datetime values to nanosecond precision. This behavior can eventually be relaxed in xarray, as it is an artifact from pandas which is now beginning to support non-nanosecond precision values. This warning is caused by passing non-nanosecond np.datetime64 or np.timedelta64 values to the DataArray or Variable constructor; it can be silenced by converting the values to nanosecond precision ahead of time.\n",
      "\n"
     ]
    },
    {
     "name": "stdout",
     "output_type": "stream",
     "text": [
      "hey ho inbound_vessel_115 ['inbound_vessel_114']\n",
      "yo inbound_vessel_115 2019-01-11 14:34:28.586043 ['inbound_vessel_114']\n",
      "outbound_vessel_119 hap is geconvert 2019-01-11 14:36:17.353560\n",
      "left doors2 outbound_vessel_119 2019-01-11 14:44:20.686893 0 [] []\n",
      "doors requested inbound_vessel_114\n",
      "claiming lock: priority doors2 not -1 inbound_vessel_114 2019-01-11 14:44:20.686893\n",
      "waiting done inbound_vessel_114 2019-01-11 14:44:20.686893\n",
      "inbound_vessel_114 sail to assigned lock position\n",
      "print doors inbound_vessel_114 ['inbound_vessel_114'] ['inbound_vessel_114']\n",
      "left doors1 inbound_vessel_114 2019-01-11 14:55:27.353560 [] 1 ['inbound_vessel_114']\n",
      "inbound_vessel_114 in lock ['inbound_vessel_114', 'inbound_vessel_115']\n",
      "waiting for others inbound_vessel_114\n",
      "outbound_vessel_120 start waiting time 2019-01-11 15:30:11.931638\n",
      "outbound_vessel_120 lock position given 2019-01-11 15:30:11.931638\n",
      "outbound_vessel_120 requested place in next lockage 2019-01-11 15:30:11.931638\n",
      "claim the lock doors outbound_vessel_120 2019-01-11 15:30:11.931638\n",
      "requesting approach: else outbound_vessel_120 2019-01-11 15:30:11.931638 1 ['inbound_vessel_114'] []\n",
      "inbound_vessel_115 start waiting time 2019-01-11 15:33:09.419376\n",
      "claim the lock doors inbound_vessel_115 2019-01-11 15:33:09.419376\n",
      "lock not empty inbound_vessel_115 ['inbound_vessel_114']\n",
      "lock is ready to be entered 2019-01-11 15:33:09.419376\n",
      "lock doors claimed inbound_vessel_115 2019-01-11 15:33:09.419376\n",
      "waiting done inbound_vessel_115 2019-01-11 15:33:09.419376\n",
      "inbound_vessel_115 sail to assigned lock position\n",
      "print doors inbound_vessel_115 ['inbound_vessel_115'] ['inbound_vessel_115']\n",
      "left doors1 inbound_vessel_115 2019-01-11 15:40:33.863821 [] 1 ['inbound_vessel_115']\n",
      "inbound_vessel_115 in lock ['inbound_vessel_114', 'inbound_vessel_115']\n",
      "inbound_vessel_115 converting hap 2019-01-11 15:40:33.863821\n",
      "hi 2019-01-11 15:40:33.863821\n",
      "2019-01-11 15:40:33.863821 Node_49 Node_50 Lock doors closing start\n",
      "waiting for others done inbound_vessel_114\n"
     ]
    },
    {
     "name": "stderr",
     "output_type": "stream",
     "text": [
      "c:\\users\\floorbakker\\opentnsim\\opentnsim\\lock.py:711: UserWarning:\n",
      "\n",
      "Converting non-nanosecond precision datetime values to nanosecond precision. This behavior can eventually be relaxed in xarray, as it is an artifact from pandas which is now beginning to support non-nanosecond precision values. This warning is caused by passing non-nanosecond np.datetime64 or np.timedelta64 values to the DataArray or Variable constructor; it can be silenced by converting the values to nanosecond precision ahead of time.\n",
      "\n"
     ]
    },
    {
     "name": "stdout",
     "output_type": "stream",
     "text": [
      "inbound_vessel_115 hap is geconvert 2019-01-11 16:20:54.974932\n",
      "left doors2 inbound_vessel_115 2019-01-11 16:28:58.308265 1 [] []\n",
      "doors requested outbound_vessel_120\n",
      "claiming lock: priority doors2 not -1 outbound_vessel_120 2019-01-11 16:28:58.308265\n",
      "waiting done outbound_vessel_120 2019-01-11 16:28:58.308265\n",
      "inbound_vessel_116 start waiting time 2019-01-11 16:30:47.297248\n",
      "inbound_vessel_116 lock position given 2019-01-11 16:30:47.297248\n",
      "inbound_vessel_116 requested place in next lockage 2019-01-11 16:30:47.297248\n",
      "claim the lock doors inbound_vessel_116 2019-01-11 16:30:47.297248\n",
      "wait in lock first 2019-01-11 16:30:47.297248\n",
      "outbound_vessel_120 sail to assigned lock position\n",
      "print doors outbound_vessel_120 ['outbound_vessel_120'] ['outbound_vessel_120']\n",
      "left doors1 outbound_vessel_120 2019-01-11 16:40:04.974932 0 ['inbound_vessel_116'] ['outbound_vessel_120']\n",
      "outbound_vessel_120 in lock ['outbound_vessel_120']\n",
      "requesting approach: else inbound_vessel_116 2019-01-11 16:40:04.974932 1 ['outbound_vessel_120'] []\n",
      "outbound_vessel_120 converting hap 2019-01-11 16:40:04.974932\n",
      "hi 2019-01-11 16:40:04.974932\n",
      "2019-01-11 16:40:04.974932 Node_50 Node_49 Lock doors closing start\n"
     ]
    },
    {
     "name": "stderr",
     "output_type": "stream",
     "text": [
      "c:\\users\\floorbakker\\opentnsim\\opentnsim\\lock.py:711: UserWarning:\n",
      "\n",
      "Converting non-nanosecond precision datetime values to nanosecond precision. This behavior can eventually be relaxed in xarray, as it is an artifact from pandas which is now beginning to support non-nanosecond precision values. This warning is caused by passing non-nanosecond np.datetime64 or np.timedelta64 values to the DataArray or Variable constructor; it can be silenced by converting the values to nanosecond precision ahead of time.\n",
      "\n"
     ]
    },
    {
     "name": "stdout",
     "output_type": "stream",
     "text": [
      "hey ho outbound_vessel_121 ['outbound_vessel_120']\n",
      "hey ho inbound_vessel_117 ['inbound_vessel_116']\n",
      "yo inbound_vessel_117 2019-01-11 17:27:44.773908 ['inbound_vessel_116']\n",
      "outbound_vessel_120 hap is geconvert 2019-01-11 17:31:04.974932\n",
      "left doors2 outbound_vessel_120 2019-01-11 17:35:26.086043 0 [] []\n",
      "doors requested inbound_vessel_116\n",
      "claiming lock: priority doors2 not -1 inbound_vessel_116 2019-01-11 17:35:26.086043\n",
      "waiting done inbound_vessel_116 2019-01-11 17:35:26.086043\n",
      "inbound_vessel_116 sail to assigned lock position\n",
      "print doors inbound_vessel_116 ['inbound_vessel_116'] ['inbound_vessel_116']\n",
      "left doors1 inbound_vessel_116 2019-01-11 17:46:32.752710 [] 1 ['inbound_vessel_116']\n",
      "inbound_vessel_116 in lock ['inbound_vessel_116', 'inbound_vessel_117']\n",
      "waiting for others inbound_vessel_116\n",
      "outbound_vessel_121 start waiting time 2019-01-11 18:11:50.962481\n",
      "outbound_vessel_121 lock position given 2019-01-11 18:11:50.962481\n",
      "outbound_vessel_121 requested place in next lockage 2019-01-11 18:11:50.962481\n",
      "claim the lock doors outbound_vessel_121 2019-01-11 18:11:50.962481\n",
      "requesting approach: else outbound_vessel_121 2019-01-11 18:11:50.962481 1 ['inbound_vessel_116'] []\n",
      "inbound_vessel_117 start waiting time 2019-01-11 18:26:25.607241\n",
      "claim the lock doors inbound_vessel_117 2019-01-11 18:26:25.607241\n",
      "lock not empty inbound_vessel_117 ['inbound_vessel_116']\n",
      "lock is ready to be entered 2019-01-11 18:26:25.607241\n",
      "lock doors claimed inbound_vessel_117 2019-01-11 18:26:25.607241\n",
      "waiting done inbound_vessel_117 2019-01-11 18:26:25.607241\n",
      "inbound_vessel_117 sail to assigned lock position\n",
      "print doors inbound_vessel_117 ['inbound_vessel_117'] ['inbound_vessel_117']\n",
      "left doors1 inbound_vessel_117 2019-01-11 18:33:50.051686 [] 1 ['inbound_vessel_117']\n",
      "inbound_vessel_117 in lock ['inbound_vessel_116', 'inbound_vessel_117']\n",
      "inbound_vessel_117 converting hap 2019-01-11 18:33:50.051686\n",
      "hi 2019-01-11 18:33:50.051686\n",
      "2019-01-11 18:33:50.051686 Node_49 Node_50 Lock doors closing start\n",
      "waiting for others done inbound_vessel_116\n"
     ]
    },
    {
     "name": "stderr",
     "output_type": "stream",
     "text": [
      "c:\\users\\floorbakker\\opentnsim\\opentnsim\\lock.py:711: UserWarning:\n",
      "\n",
      "Converting non-nanosecond precision datetime values to nanosecond precision. This behavior can eventually be relaxed in xarray, as it is an artifact from pandas which is now beginning to support non-nanosecond precision values. This warning is caused by passing non-nanosecond np.datetime64 or np.timedelta64 values to the DataArray or Variable constructor; it can be silenced by converting the values to nanosecond precision ahead of time.\n",
      "\n"
     ]
    },
    {
     "name": "stdout",
     "output_type": "stream",
     "text": [
      "inbound_vessel_118 start waiting time 2019-01-11 19:35:31.049214\n",
      "wait for lockage True ['inbound_vessel_117'] True\n",
      "inbound_vessel_117 hap is geconvert 2019-01-11 19:37:11.162797\n",
      "inbound_vessel_118 lock position given 2019-01-11 19:42:44.496130\n",
      "inbound_vessel_118 requested place in next lockage 2019-01-11 19:42:44.496130\n",
      "claim the lock doors inbound_vessel_118 2019-01-11 19:42:44.496130\n",
      "requesting approach: else inbound_vessel_118 2019-01-11 19:42:44.496130 0 [] ['inbound_vessel_117']\n",
      "doors requested inbound_vessel_118\n",
      "claiming lock: priority doors2 is -1 inbound_vessel_118 2019-01-11 19:42:44.496130\n",
      "inbound_vessel_118 wth\n",
      "hi 2019-01-11 19:42:44.496130\n",
      "2019-01-11 19:42:44.496130 Node_50 Node_49 Lock doors closing start\n"
     ]
    },
    {
     "name": "stderr",
     "output_type": "stream",
     "text": [
      "c:\\users\\floorbakker\\opentnsim\\opentnsim\\lock.py:711: UserWarning:\n",
      "\n",
      "Converting non-nanosecond precision datetime values to nanosecond precision. This behavior can eventually be relaxed in xarray, as it is an artifact from pandas which is now beginning to support non-nanosecond precision values. This warning is caused by passing non-nanosecond np.datetime64 or np.timedelta64 values to the DataArray or Variable constructor; it can be silenced by converting the values to nanosecond precision ahead of time.\n",
      "\n"
     ]
    },
    {
     "name": "stdout",
     "output_type": "stream",
     "text": [
      "hey ho outbound_vessel_122 ['outbound_vessel_121']\n",
      "yo outbound_vessel_122 2019-01-11 20:27:38.283493 ['outbound_vessel_121']\n",
      "waiting done inbound_vessel_118 2019-01-11 20:34:44.496130\n",
      "inbound_vessel_118 sail to assigned lock position\n",
      "print doors inbound_vessel_118 ['inbound_vessel_118'] ['inbound_vessel_118']\n",
      "left doors1 inbound_vessel_118 2019-01-11 20:45:51.162797 [] 1 ['inbound_vessel_118']\n",
      "inbound_vessel_118 in lock ['inbound_vessel_118']\n",
      "inbound_vessel_118 converting hap 2019-01-11 20:45:51.162797\n",
      "hi 2019-01-11 20:45:51.162797\n",
      "2019-01-11 20:45:51.162797 Node_49 Node_50 Lock doors closing start\n"
     ]
    },
    {
     "name": "stderr",
     "output_type": "stream",
     "text": [
      "c:\\users\\floorbakker\\opentnsim\\opentnsim\\lock.py:711: UserWarning:\n",
      "\n",
      "Converting non-nanosecond precision datetime values to nanosecond precision. This behavior can eventually be relaxed in xarray, as it is an artifact from pandas which is now beginning to support non-nanosecond precision values. This warning is caused by passing non-nanosecond np.datetime64 or np.timedelta64 values to the DataArray or Variable constructor; it can be silenced by converting the values to nanosecond precision ahead of time.\n",
      "\n"
     ]
    },
    {
     "name": "stdout",
     "output_type": "stream",
     "text": [
      "hey ho inbound_vessel_119 ['inbound_vessel_118']\n",
      "inbound_vessel_118 hap is geconvert 2019-01-11 21:19:51.162797\n",
      "left doors2 inbound_vessel_118 2019-01-11 21:24:12.273908 1 [] []\n",
      "doors requested outbound_vessel_121\n",
      "claiming lock: priority doors2 not -1 outbound_vessel_121 2019-01-11 21:24:12.273908\n",
      "waiting done outbound_vessel_121 2019-01-11 21:24:12.273908\n",
      "outbound_vessel_122 start waiting time 2019-01-11 21:25:12.450160\n",
      "claim the lock doors outbound_vessel_122 2019-01-11 21:25:12.450160\n",
      "lock not empty outbound_vessel_122 ['outbound_vessel_121']\n",
      "lock is ready to be entered 2019-01-11 21:25:12.450160\n",
      "outbound_vessel_121 sail to assigned lock position\n",
      "print doors outbound_vessel_121 ['outbound_vessel_121'] ['outbound_vessel_121']\n",
      "left doors1 outbound_vessel_121 2019-01-11 21:35:18.940575 0 ['outbound_vessel_122'] ['outbound_vessel_121']\n",
      "outbound_vessel_121 in lock ['outbound_vessel_121', 'outbound_vessel_122']\n",
      "waiting for others outbound_vessel_121\n",
      "lock doors claimed outbound_vessel_122 2019-01-11 21:35:18.940575\n",
      "waiting done outbound_vessel_122 2019-01-11 21:35:18.940575\n",
      "outbound_vessel_122 sail to assigned lock position\n",
      "print doors outbound_vessel_122 ['outbound_vessel_122'] ['outbound_vessel_122']\n",
      "left doors1 outbound_vessel_122 2019-01-11 21:46:25.607242 0 [] ['outbound_vessel_122']\n",
      "outbound_vessel_122 in lock ['outbound_vessel_121', 'outbound_vessel_122']\n",
      "outbound_vessel_122 converting hap 2019-01-11 21:46:25.607242\n",
      "hi 2019-01-11 21:46:25.607242\n",
      "2019-01-11 21:46:25.607242 Node_50 Node_49 Lock doors closing start\n",
      "waiting for others done outbound_vessel_121\n"
     ]
    },
    {
     "name": "stderr",
     "output_type": "stream",
     "text": [
      "c:\\users\\floorbakker\\opentnsim\\opentnsim\\lock.py:711: UserWarning:\n",
      "\n",
      "Converting non-nanosecond precision datetime values to nanosecond precision. This behavior can eventually be relaxed in xarray, as it is an artifact from pandas which is now beginning to support non-nanosecond precision values. This warning is caused by passing non-nanosecond np.datetime64 or np.timedelta64 values to the DataArray or Variable constructor; it can be silenced by converting the values to nanosecond precision ahead of time.\n",
      "\n"
     ]
    },
    {
     "name": "stdout",
     "output_type": "stream",
     "text": [
      "inbound_vessel_119 start waiting time 2019-01-11 21:57:11.047897\n",
      "inbound_vessel_119 lock position given 2019-01-11 21:57:11.047897\n",
      "inbound_vessel_119 requested place in next lockage 2019-01-11 21:57:11.047897\n",
      "claim the lock doors inbound_vessel_119 2019-01-11 21:57:11.047897\n",
      "lock not empty inbound_vessel_119 ['outbound_vessel_121', 'outbound_vessel_122']\n",
      "lock is already converting inbound_vessel_119 2019-01-11 21:57:11.047897 ['outbound_vessel_121', 'outbound_vessel_122']\n",
      "outbound_vessel_122 hap is geconvert 2019-01-11 22:24:46.718353\n",
      "left doors2 outbound_vessel_122 2019-01-11 22:32:50.051686 0 [] []\n",
      "lock doors claimed inbound_vessel_119 2019-01-11 22:32:50.051686\n",
      "first in line to claim lock inbound_vessel_119 2019-01-11 22:32:50.051686\n",
      "waiting done inbound_vessel_119 2019-01-11 22:32:50.051686\n",
      "inbound_vessel_119 sail to assigned lock position\n",
      "print doors inbound_vessel_119 ['inbound_vessel_119'] ['inbound_vessel_119']\n",
      "left doors1 inbound_vessel_119 2019-01-11 22:43:56.718353 [] 1 ['inbound_vessel_119']\n",
      "inbound_vessel_119 in lock ['inbound_vessel_119']\n",
      "inbound_vessel_119 converting hap 2019-01-11 22:43:56.718353\n",
      "hi 2019-01-11 22:43:56.718353\n",
      "2019-01-11 22:43:56.718353 Node_49 Node_50 Lock doors closing start\n"
     ]
    },
    {
     "name": "stderr",
     "output_type": "stream",
     "text": [
      "c:\\users\\floorbakker\\opentnsim\\opentnsim\\lock.py:711: UserWarning:\n",
      "\n",
      "Converting non-nanosecond precision datetime values to nanosecond precision. This behavior can eventually be relaxed in xarray, as it is an artifact from pandas which is now beginning to support non-nanosecond precision values. This warning is caused by passing non-nanosecond np.datetime64 or np.timedelta64 values to the DataArray or Variable constructor; it can be silenced by converting the values to nanosecond precision ahead of time.\n",
      "\n"
     ]
    },
    {
     "name": "stdout",
     "output_type": "stream",
     "text": [
      "outbound_vessel_123 start waiting time 2019-01-11 23:04:59.535652\n",
      "outbound_vessel_123 lock position given 2019-01-11 23:04:59.535652\n",
      "outbound_vessel_123 requested place in next lockage 2019-01-11 23:04:59.535652\n",
      "claim the lock doors outbound_vessel_123 2019-01-11 23:04:59.535652\n",
      "lock not empty outbound_vessel_123 ['inbound_vessel_119']\n",
      "lock is already converting outbound_vessel_123 2019-01-11 23:04:59.535652 ['inbound_vessel_119']\n",
      "hey ho inbound_vessel_120 ['inbound_vessel_119']\n",
      "inbound_vessel_119 hap is geconvert 2019-01-11 23:31:56.718353\n",
      "left doors2 inbound_vessel_119 2019-01-11 23:36:17.829464 1 [] []\n",
      "lock doors claimed outbound_vessel_123 2019-01-11 23:36:17.829464\n",
      "first in line to claim lock outbound_vessel_123 2019-01-11 23:36:17.829464\n",
      "waiting done outbound_vessel_123 2019-01-11 23:36:17.829464\n",
      "outbound_vessel_123 sail to assigned lock position\n",
      "print doors outbound_vessel_123 ['outbound_vessel_123'] ['outbound_vessel_123']\n",
      "left doors1 outbound_vessel_123 2019-01-11 23:47:24.496131 0 [] ['outbound_vessel_123']\n",
      "outbound_vessel_123 in lock ['outbound_vessel_123']\n",
      "outbound_vessel_123 converting hap 2019-01-11 23:47:24.496131\n",
      "hi 2019-01-11 23:47:24.496131\n",
      "2019-01-11 23:47:24.496131 Node_50 Node_49 Lock doors closing start\n"
     ]
    },
    {
     "name": "stderr",
     "output_type": "stream",
     "text": [
      "c:\\users\\floorbakker\\opentnsim\\opentnsim\\lock.py:711: UserWarning:\n",
      "\n",
      "Converting non-nanosecond precision datetime values to nanosecond precision. This behavior can eventually be relaxed in xarray, as it is an artifact from pandas which is now beginning to support non-nanosecond precision values. This warning is caused by passing non-nanosecond np.datetime64 or np.timedelta64 values to the DataArray or Variable constructor; it can be silenced by converting the values to nanosecond precision ahead of time.\n",
      "\n"
     ]
    },
    {
     "name": "stdout",
     "output_type": "stream",
     "text": [
      "hey ho outbound_vessel_124 ['outbound_vessel_123']\n",
      "hey ho inbound_vessel_121 []\n",
      "hi inbound_vessel_121 2019-01-12 00:02:21.941283 0\n",
      "hey ho outbound_vessel_125 ['outbound_vessel_123']\n",
      "inbound_vessel_120 start waiting time 2019-01-12 00:29:17.016969\n",
      "inbound_vessel_120 lock position given 2019-01-12 00:29:17.016969\n",
      "inbound_vessel_120 requested place in next lockage 2019-01-12 00:29:17.016969\n",
      "claim the lock doors inbound_vessel_120 2019-01-12 00:29:17.016969\n",
      "lock not empty inbound_vessel_120 ['outbound_vessel_123']\n",
      "lock is already converting inbound_vessel_120 2019-01-12 00:29:17.016969 ['outbound_vessel_123']\n",
      "outbound_vessel_123 hap is geconvert 2019-01-12 00:45:24.496131\n",
      "left doors2 outbound_vessel_123 2019-01-12 00:49:45.607242 0 [] []\n",
      "lock doors claimed inbound_vessel_120 2019-01-12 00:49:45.607242\n",
      "first in line to claim lock inbound_vessel_120 2019-01-12 00:49:45.607242\n",
      "waiting done inbound_vessel_120 2019-01-12 00:49:45.607242\n",
      "inbound_vessel_120 sail to assigned lock position\n",
      "outbound_vessel_124 start waiting time 2019-01-12 00:56:53.952650\n",
      "outbound_vessel_124 lock position given 2019-01-12 00:56:53.952650\n",
      "outbound_vessel_124 requested place in next lockage 2019-01-12 00:56:53.952650\n",
      "claim the lock doors outbound_vessel_124 2019-01-12 00:56:53.952650\n",
      "wait in lock first 2019-01-12 00:56:53.952650\n",
      "print doors inbound_vessel_120 ['inbound_vessel_120'] ['inbound_vessel_120']\n",
      "left doors1 inbound_vessel_120 2019-01-12 00:57:10.051687 ['outbound_vessel_124'] 1 ['inbound_vessel_120']\n",
      "inbound_vessel_120 in lock ['inbound_vessel_121', 'inbound_vessel_120']\n",
      "requesting approach: else outbound_vessel_124 2019-01-12 00:57:10.051687 1 ['inbound_vessel_120'] []\n",
      "inbound_vessel_120 converting hap 2019-01-12 00:57:10.051687\n",
      "hi 2019-01-12 00:57:10.051687\n",
      "2019-01-12 00:57:10.051687 Node_49 Node_50 Lock doors closing start\n",
      "inbound_vessel_121 start waiting time 2019-01-12 01:01:02.774616\n",
      "claim the lock doors inbound_vessel_121 2019-01-12 01:01:02.774616\n",
      "lock not empty inbound_vessel_121 ['inbound_vessel_120']\n",
      "lock is already converting inbound_vessel_121 2019-01-12 01:01:02.774616 ['inbound_vessel_120']\n",
      "lock doors claimed inbound_vessel_121 2019-01-12 01:01:02.774616\n",
      "second in line to claim lock inbound_vessel_121 2019-01-12 01:01:02.774616\n",
      "waiting done inbound_vessel_121 2019-01-12 01:01:02.774616\n",
      "inbound_vessel_121 sail to assigned lock position\n",
      "outbound_vessel_125 start waiting time 2019-01-12 01:07:04.559971\n",
      "outbound_vessel_125 lock position given 2019-01-12 01:07:04.559971\n",
      "outbound_vessel_125 requested place in next lockage 2019-01-12 01:07:04.559971\n",
      "claim the lock doors outbound_vessel_125 2019-01-12 01:07:04.559971\n",
      "wait in lock first 2019-01-12 01:07:04.559971\n"
     ]
    },
    {
     "name": "stderr",
     "output_type": "stream",
     "text": [
      "c:\\users\\floorbakker\\opentnsim\\opentnsim\\lock.py:711: UserWarning:\n",
      "\n",
      "Converting non-nanosecond precision datetime values to nanosecond precision. This behavior can eventually be relaxed in xarray, as it is an artifact from pandas which is now beginning to support non-nanosecond precision values. This warning is caused by passing non-nanosecond np.datetime64 or np.timedelta64 values to the DataArray or Variable constructor; it can be silenced by converting the values to nanosecond precision ahead of time.\n",
      "\n"
     ]
    },
    {
     "name": "stdout",
     "output_type": "stream",
     "text": [
      "print doors inbound_vessel_121 ['inbound_vessel_121'] ['inbound_vessel_121']\n",
      "left doors1 inbound_vessel_121 2019-01-12 01:12:09.441283 ['outbound_vessel_125'] 1 ['inbound_vessel_121']\n",
      "inbound_vessel_121 in lock ['inbound_vessel_121', 'inbound_vessel_120']\n",
      "waiting for others inbound_vessel_121\n",
      "requesting approach: else outbound_vessel_125 2019-01-12 01:12:09.441283 2 ['inbound_vessel_121'] []\n",
      "inbound_vessel_120 hap is geconvert 2019-01-12 01:55:10.051687\n",
      "inbound_vessel_122 start waiting time 2019-01-12 02:34:10.222804\n",
      "inbound_vessel_122 lock position given 2019-01-12 02:34:10.222804\n",
      "inbound_vessel_122 requested place in next lockage 2019-01-12 02:34:10.222804\n",
      "claim the lock doors inbound_vessel_122 2019-01-12 02:34:10.222804\n",
      "requesting approach: else inbound_vessel_122 2019-01-12 02:34:10.222804 1 [] ['inbound_vessel_121']\n",
      "doors requested inbound_vessel_122\n",
      "claiming lock: priority doors2 is -1 inbound_vessel_122 2019-01-12 02:34:10.222804\n",
      "inbound_vessel_122 wth\n",
      "hi 2019-01-12 02:34:10.222804\n",
      "2019-01-12 02:34:10.222804 Node_50 Node_49 Lock doors closing start\n"
     ]
    },
    {
     "name": "stderr",
     "output_type": "stream",
     "text": [
      "c:\\users\\floorbakker\\opentnsim\\opentnsim\\lock.py:711: UserWarning:\n",
      "\n",
      "Converting non-nanosecond precision datetime values to nanosecond precision. This behavior can eventually be relaxed in xarray, as it is an artifact from pandas which is now beginning to support non-nanosecond precision values. This warning is caused by passing non-nanosecond np.datetime64 or np.timedelta64 values to the DataArray or Variable constructor; it can be silenced by converting the values to nanosecond precision ahead of time.\n",
      "\n"
     ]
    },
    {
     "name": "stdout",
     "output_type": "stream",
     "text": [
      "waiting done inbound_vessel_122 2019-01-12 03:19:10.222804\n",
      "inbound_vessel_122 sail to assigned lock position\n",
      "print doors inbound_vessel_122 ['inbound_vessel_122'] ['inbound_vessel_122']\n",
      "left doors1 inbound_vessel_122 2019-01-12 03:30:16.889471 [] 1 ['inbound_vessel_122']\n",
      "inbound_vessel_122 in lock ['inbound_vessel_121', 'inbound_vessel_122']\n",
      "inbound_vessel_122 converting hap 2019-01-12 03:30:16.889471\n",
      "hi 2019-01-12 03:30:16.889471\n",
      "2019-01-12 03:30:16.889471 Node_49 Node_50 Lock doors closing start\n",
      "waiting for others done inbound_vessel_121\n"
     ]
    },
    {
     "name": "stderr",
     "output_type": "stream",
     "text": [
      "c:\\users\\floorbakker\\opentnsim\\opentnsim\\lock.py:711: UserWarning:\n",
      "\n",
      "Converting non-nanosecond precision datetime values to nanosecond precision. This behavior can eventually be relaxed in xarray, as it is an artifact from pandas which is now beginning to support non-nanosecond precision values. This warning is caused by passing non-nanosecond np.datetime64 or np.timedelta64 values to the DataArray or Variable constructor; it can be silenced by converting the values to nanosecond precision ahead of time.\n",
      "\n"
     ]
    },
    {
     "name": "stdout",
     "output_type": "stream",
     "text": [
      "inbound_vessel_122 hap is geconvert 2019-01-12 03:55:38.000582\n",
      "left doors2 inbound_vessel_122 2019-01-12 03:59:59.111693 1 [] []\n",
      "doors requested outbound_vessel_124\n",
      "claiming lock: priority doors2 not -1 outbound_vessel_124 2019-01-12 03:59:59.111693\n",
      "waiting done outbound_vessel_124 2019-01-12 03:59:59.111693\n",
      "outbound_vessel_124 sail to assigned lock position\n",
      "print doors outbound_vessel_124 ['outbound_vessel_124'] ['outbound_vessel_124']\n",
      "left doors1 outbound_vessel_124 2019-01-12 04:11:05.778360 0 ['outbound_vessel_125'] ['outbound_vessel_124']\n",
      "outbound_vessel_124 in lock ['outbound_vessel_124', 'outbound_vessel_125']\n",
      "waiting for others outbound_vessel_124\n",
      "doors requested outbound_vessel_125\n",
      "claiming lock: priority doors2 is -1 outbound_vessel_125 2019-01-12 04:11:05.778360\n",
      "waiting done outbound_vessel_125 2019-01-12 04:11:05.778360\n",
      "outbound_vessel_126 start waiting time 2019-01-12 04:14:56.562937\n",
      "wait for lockage True ['outbound_vessel_124', 'outbound_vessel_125'] False\n",
      "outbound_vessel_125 sail to assigned lock position\n",
      "outbound_vessel_127 start waiting time 2019-01-12 04:21:37.398929\n",
      "wait for lockage True ['outbound_vessel_124', 'outbound_vessel_125'] False\n",
      "print doors outbound_vessel_125 ['outbound_vessel_125'] ['outbound_vessel_125']\n",
      "left doors1 outbound_vessel_125 2019-01-12 04:22:12.445027 0 [] ['outbound_vessel_125']\n",
      "outbound_vessel_125 in lock ['outbound_vessel_124', 'outbound_vessel_125']\n",
      "outbound_vessel_125 converting hap 2019-01-12 04:22:12.445027\n",
      "hi 2019-01-12 04:22:12.445027\n",
      "2019-01-12 04:22:12.445027 Node_50 Node_49 Lock doors closing start\n",
      "waiting for others done outbound_vessel_124\n"
     ]
    },
    {
     "name": "stderr",
     "output_type": "stream",
     "text": [
      "c:\\users\\floorbakker\\opentnsim\\opentnsim\\lock.py:711: UserWarning:\n",
      "\n",
      "Converting non-nanosecond precision datetime values to nanosecond precision. This behavior can eventually be relaxed in xarray, as it is an artifact from pandas which is now beginning to support non-nanosecond precision values. This warning is caused by passing non-nanosecond np.datetime64 or np.timedelta64 values to the DataArray or Variable constructor; it can be silenced by converting the values to nanosecond precision ahead of time.\n",
      "\n"
     ]
    },
    {
     "name": "stdout",
     "output_type": "stream",
     "text": [
      "hey ho inbound_vessel_123 []\n",
      "hi inbound_vessel_123 2019-01-12 04:54:25.589372 0\n",
      "hey ho inbound_vessel_124 ['inbound_vessel_123']\n",
      "yo inbound_vessel_124 2019-01-12 04:54:47.538166 ['inbound_vessel_123']\n",
      "outbound_vessel_125 hap is geconvert 2019-01-12 05:05:33.556138\n",
      "outbound_vessel_126 lock position given 2019-01-12 05:11:06.889471\n",
      "outbound_vessel_126 requested place in next lockage 2019-01-12 05:11:06.889471\n",
      "claim the lock doors outbound_vessel_126 2019-01-12 05:11:06.889471\n",
      "requesting approach: else outbound_vessel_126 2019-01-12 05:11:06.889471 0 [] ['outbound_vessel_125']\n",
      "outbound_vessel_127 lock position given 2019-01-12 05:11:06.889471\n",
      "outbound_vessel_127 requested place in next lockage 2019-01-12 05:11:06.889471\n",
      "claim the lock doors outbound_vessel_127 2019-01-12 05:11:06.889471\n",
      "requesting approach: else outbound_vessel_127 2019-01-12 05:11:06.889471 0 ['outbound_vessel_126'] ['outbound_vessel_125']\n",
      "doors requested outbound_vessel_126\n",
      "claiming lock: priority doors2 is -1 outbound_vessel_126 2019-01-12 05:11:06.889471\n",
      "outbound_vessel_126 wth\n",
      "hi 2019-01-12 05:11:06.889471\n",
      "2019-01-12 05:11:06.889471 Node_49 Node_50 Lock doors closing start\n"
     ]
    },
    {
     "name": "stderr",
     "output_type": "stream",
     "text": [
      "c:\\users\\floorbakker\\opentnsim\\opentnsim\\lock.py:711: UserWarning:\n",
      "\n",
      "Converting non-nanosecond precision datetime values to nanosecond precision. This behavior can eventually be relaxed in xarray, as it is an artifact from pandas which is now beginning to support non-nanosecond precision values. This warning is caused by passing non-nanosecond np.datetime64 or np.timedelta64 values to the DataArray or Variable constructor; it can be silenced by converting the values to nanosecond precision ahead of time.\n",
      "\n"
     ]
    },
    {
     "name": "stdout",
     "output_type": "stream",
     "text": [
      "inbound_vessel_123 start waiting time 2019-01-12 05:53:06.422705\n",
      "claim the lock doors inbound_vessel_123 2019-01-12 05:53:06.422705\n",
      "wait in lock first 2019-01-12 05:53:06.422705\n",
      "inbound_vessel_124 start waiting time 2019-01-12 05:59:35.311594\n",
      "claim the lock doors inbound_vessel_124 2019-01-12 05:59:35.311594\n",
      "wait in lock first 2019-01-12 05:59:35.311594\n",
      "waiting done outbound_vessel_126 2019-01-12 06:02:06.889471\n",
      "outbound_vessel_126 sail to assigned lock position\n",
      "print doors outbound_vessel_126 ['outbound_vessel_126'] ['outbound_vessel_126']\n",
      "left doors1 outbound_vessel_126 2019-01-12 06:07:40.222805 0 ['outbound_vessel_127'] ['outbound_vessel_126']\n",
      "outbound_vessel_126 in lock ['outbound_vessel_126', 'outbound_vessel_127']\n",
      "waiting for others outbound_vessel_126\n",
      "doors requested outbound_vessel_127\n",
      "claiming lock: priority doors2 is -1 outbound_vessel_127 2019-01-12 06:07:40.222805\n",
      "waiting done outbound_vessel_127 2019-01-12 06:07:40.222805\n",
      "outbound_vessel_127 sail to assigned lock position\n",
      "outbound_vessel_128 start waiting time 2019-01-12 06:17:51.333916\n",
      "wait for lockage True ['outbound_vessel_126', 'outbound_vessel_127'] False\n",
      "print doors outbound_vessel_127 ['outbound_vessel_127'] ['outbound_vessel_127']\n",
      "left doors1 outbound_vessel_127 2019-01-12 06:18:46.889472 0 ['inbound_vessel_123'] ['outbound_vessel_127']\n",
      "outbound_vessel_127 in lock ['outbound_vessel_126', 'outbound_vessel_127']\n",
      "requesting approach: else inbound_vessel_123 2019-01-12 06:18:46.889472 2 ['outbound_vessel_127'] []\n",
      "outbound_vessel_127 converting hap 2019-01-12 06:18:46.889472\n",
      "hi 2019-01-12 06:18:46.889472\n",
      "2019-01-12 06:18:46.889472 Node_50 Node_49 Lock doors closing start\n",
      "waiting for others done outbound_vessel_126\n",
      "requesting approach: else inbound_vessel_124 2019-01-12 06:18:46.889472 2 ['outbound_vessel_127'] []\n",
      "outbound_vessel_129 start waiting time 2019-01-12 06:24:20.222805\n",
      "wait for lockage True ['outbound_vessel_126', 'outbound_vessel_127'] True\n"
     ]
    },
    {
     "name": "stderr",
     "output_type": "stream",
     "text": [
      "c:\\users\\floorbakker\\opentnsim\\opentnsim\\lock.py:711: UserWarning:\n",
      "\n",
      "Converting non-nanosecond precision datetime values to nanosecond precision. This behavior can eventually be relaxed in xarray, as it is an artifact from pandas which is now beginning to support non-nanosecond precision values. This warning is caused by passing non-nanosecond np.datetime64 or np.timedelta64 values to the DataArray or Variable constructor; it can be silenced by converting the values to nanosecond precision ahead of time.\n",
      "\n"
     ]
    },
    {
     "name": "stdout",
     "output_type": "stream",
     "text": [
      "outbound_vessel_127 hap is geconvert 2019-01-12 07:27:41.333916\n",
      "outbound_vessel_128 lock position given 2019-01-12 07:33:14.667249\n",
      "outbound_vessel_128 requested place in next lockage 2019-01-12 07:33:14.667249\n",
      "claim the lock doors outbound_vessel_128 2019-01-12 07:33:14.667249\n",
      "requesting approach: else outbound_vessel_128 2019-01-12 07:33:14.667249 0 [] ['outbound_vessel_127']\n",
      "outbound_vessel_129 lock position given 2019-01-12 07:33:14.667249\n",
      "outbound_vessel_129 requested place in next lockage 2019-01-12 07:33:14.667249\n",
      "claim the lock doors outbound_vessel_129 2019-01-12 07:33:14.667249\n",
      "requesting approach: else outbound_vessel_129 2019-01-12 07:33:14.667249 0 ['outbound_vessel_128'] ['outbound_vessel_127']\n",
      "doors requested outbound_vessel_128\n",
      "claiming lock: priority doors2 is -1 outbound_vessel_128 2019-01-12 07:33:14.667249\n",
      "outbound_vessel_128 wth\n",
      "hi 2019-01-12 07:33:14.667249\n",
      "2019-01-12 07:33:14.667249 Node_49 Node_50 Lock doors closing start\n"
     ]
    },
    {
     "name": "stderr",
     "output_type": "stream",
     "text": [
      "c:\\users\\floorbakker\\opentnsim\\opentnsim\\lock.py:711: UserWarning:\n",
      "\n",
      "Converting non-nanosecond precision datetime values to nanosecond precision. This behavior can eventually be relaxed in xarray, as it is an artifact from pandas which is now beginning to support non-nanosecond precision values. This warning is caused by passing non-nanosecond np.datetime64 or np.timedelta64 values to the DataArray or Variable constructor; it can be silenced by converting the values to nanosecond precision ahead of time.\n",
      "\n"
     ]
    },
    {
     "name": "stdout",
     "output_type": "stream",
     "text": [
      "waiting done outbound_vessel_128 2019-01-12 08:30:14.667249\n",
      "outbound_vessel_128 sail to assigned lock position\n",
      "print doors outbound_vessel_128 ['outbound_vessel_128'] ['outbound_vessel_128']\n",
      "left doors1 outbound_vessel_128 2019-01-12 08:35:48.000583 0 ['outbound_vessel_129'] ['outbound_vessel_128']\n",
      "outbound_vessel_128 in lock ['outbound_vessel_128', 'outbound_vessel_129']\n",
      "waiting for others outbound_vessel_128\n",
      "doors requested outbound_vessel_129\n",
      "claiming lock: priority doors2 is -1 outbound_vessel_129 2019-01-12 08:35:48.000583\n",
      "waiting done outbound_vessel_129 2019-01-12 08:35:48.000583\n",
      "outbound_vessel_129 sail to assigned lock position\n",
      "outbound_vessel_130 start waiting time 2019-01-12 08:45:59.111694\n",
      "wait for lockage True ['outbound_vessel_128', 'outbound_vessel_129'] False\n",
      "print doors outbound_vessel_129 ['outbound_vessel_129'] ['outbound_vessel_129']\n",
      "left doors1 outbound_vessel_129 2019-01-12 08:46:54.667249 0 [] ['outbound_vessel_129']\n",
      "outbound_vessel_129 in lock ['outbound_vessel_128', 'outbound_vessel_129']\n",
      "outbound_vessel_129 converting hap 2019-01-12 08:46:54.667249\n",
      "hi 2019-01-12 08:46:54.667249\n",
      "2019-01-12 08:46:54.667249 Node_50 Node_49 Lock doors closing start\n",
      "waiting for others done outbound_vessel_128\n"
     ]
    },
    {
     "name": "stderr",
     "output_type": "stream",
     "text": [
      "c:\\users\\floorbakker\\opentnsim\\opentnsim\\lock.py:711: UserWarning:\n",
      "\n",
      "Converting non-nanosecond precision datetime values to nanosecond precision. This behavior can eventually be relaxed in xarray, as it is an artifact from pandas which is now beginning to support non-nanosecond precision values. This warning is caused by passing non-nanosecond np.datetime64 or np.timedelta64 values to the DataArray or Variable constructor; it can be silenced by converting the values to nanosecond precision ahead of time.\n",
      "\n"
     ]
    },
    {
     "name": "stdout",
     "output_type": "stream",
     "text": [
      "outbound_vessel_131 start waiting time 2019-01-12 09:26:31.174892\n",
      "wait for lockage True ['outbound_vessel_128', 'outbound_vessel_129'] True\n",
      "outbound_vessel_129 hap is geconvert 2019-01-12 09:40:49.111694\n",
      "outbound_vessel_130 lock position given 2019-01-12 09:46:22.445027\n",
      "outbound_vessel_130 requested place in next lockage 2019-01-12 09:46:22.445027\n",
      "claim the lock doors outbound_vessel_130 2019-01-12 09:46:22.445027\n",
      "requesting approach: else outbound_vessel_130 2019-01-12 09:46:22.445027 0 [] ['outbound_vessel_129']\n",
      "outbound_vessel_131 lock position given 2019-01-12 09:46:22.445027\n",
      "outbound_vessel_131 requested place in next lockage 2019-01-12 09:46:22.445027\n",
      "claim the lock doors outbound_vessel_131 2019-01-12 09:46:22.445027\n",
      "requesting approach: else outbound_vessel_131 2019-01-12 09:46:22.445027 0 ['outbound_vessel_130'] ['outbound_vessel_129']\n",
      "doors requested outbound_vessel_130\n",
      "claiming lock: priority doors2 is -1 outbound_vessel_130 2019-01-12 09:46:22.445027\n",
      "outbound_vessel_130 wth\n",
      "hi 2019-01-12 09:46:22.445027\n",
      "2019-01-12 09:46:22.445027 Node_49 Node_50 Lock doors closing start\n",
      "waiting done outbound_vessel_130 2019-01-12 10:06:22.445027\n",
      "outbound_vessel_130 sail to assigned lock position\n",
      "print doors outbound_vessel_130 ['outbound_vessel_130'] ['outbound_vessel_130']\n",
      "left doors1 outbound_vessel_130 2019-01-12 10:11:55.778361 0 ['outbound_vessel_131'] ['outbound_vessel_130']\n",
      "outbound_vessel_130 in lock ['outbound_vessel_130', 'outbound_vessel_131']\n",
      "waiting for others outbound_vessel_130\n",
      "doors requested outbound_vessel_131\n",
      "claiming lock: priority doors2 is -1 outbound_vessel_131 2019-01-12 10:11:55.778361\n",
      "waiting done outbound_vessel_131 2019-01-12 10:11:55.778361\n",
      "outbound_vessel_131 sail to assigned lock position\n",
      "print doors outbound_vessel_131 ['outbound_vessel_131'] ['outbound_vessel_131']\n",
      "left doors1 outbound_vessel_131 2019-01-12 10:23:02.445027 0 [] ['outbound_vessel_131']\n",
      "outbound_vessel_131 in lock ['outbound_vessel_130', 'outbound_vessel_131']\n",
      "outbound_vessel_131 converting hap 2019-01-12 10:23:02.445027\n",
      "hi 2019-01-12 10:23:02.445027\n",
      "2019-01-12 10:23:02.445027 Node_50 Node_49 Lock doors closing start\n",
      "waiting for others done outbound_vessel_130\n"
     ]
    },
    {
     "name": "stderr",
     "output_type": "stream",
     "text": [
      "c:\\users\\floorbakker\\opentnsim\\opentnsim\\lock.py:711: UserWarning:\n",
      "\n",
      "Converting non-nanosecond precision datetime values to nanosecond precision. This behavior can eventually be relaxed in xarray, as it is an artifact from pandas which is now beginning to support non-nanosecond precision values. This warning is caused by passing non-nanosecond np.datetime64 or np.timedelta64 values to the DataArray or Variable constructor; it can be silenced by converting the values to nanosecond precision ahead of time.\n",
      "\n"
     ]
    },
    {
     "name": "stdout",
     "output_type": "stream",
     "text": [
      "outbound_vessel_131 hap is geconvert 2019-01-12 11:06:56.889472\n",
      "left doors2 outbound_vessel_131 2019-01-12 11:15:00.222805 0 [] []\n",
      "doors requested inbound_vessel_123\n",
      "claiming lock: priority doors2 not -1 inbound_vessel_123 2019-01-12 11:15:00.222805\n",
      "waiting done inbound_vessel_123 2019-01-12 11:15:00.222805\n",
      "inbound_vessel_123 sail to assigned lock position\n",
      "print doors inbound_vessel_123 ['inbound_vessel_123'] ['inbound_vessel_123']\n",
      "left doors1 inbound_vessel_123 2019-01-12 11:26:06.889472 ['inbound_vessel_124'] 1 ['inbound_vessel_123']\n",
      "inbound_vessel_123 in lock ['inbound_vessel_123', 'inbound_vessel_124']\n",
      "waiting for others inbound_vessel_123\n",
      "doors requested inbound_vessel_124\n",
      "claiming lock: priority doors2 is -1 inbound_vessel_124 2019-01-12 11:26:06.889472\n",
      "waiting done inbound_vessel_124 2019-01-12 11:26:06.889472\n",
      "inbound_vessel_124 sail to assigned lock position\n",
      "hey ho outbound_vessel_132 []\n",
      "hi outbound_vessel_132 2019-01-12 11:35:32.446459 0\n",
      "inbound_vessel_125 start waiting time 2019-01-12 11:36:18.000583\n",
      "wait for lockage True ['inbound_vessel_123', 'inbound_vessel_124'] False\n",
      "print doors inbound_vessel_124 ['inbound_vessel_124'] ['inbound_vessel_124']\n",
      "left doors1 inbound_vessel_124 2019-01-12 11:37:13.556139 [] 1 ['inbound_vessel_124']\n",
      "inbound_vessel_124 in lock ['inbound_vessel_123', 'inbound_vessel_124']\n",
      "inbound_vessel_124 converting hap 2019-01-12 11:37:13.556139\n",
      "hi 2019-01-12 11:37:13.556139\n",
      "2019-01-12 11:37:13.556139 Node_49 Node_50 Lock doors closing start\n",
      "waiting for others done inbound_vessel_123\n",
      "inbound_vessel_126 start waiting time 2019-01-12 11:42:46.889472\n",
      "wait for lockage True ['inbound_vessel_123', 'inbound_vessel_124'] True\n"
     ]
    },
    {
     "name": "stderr",
     "output_type": "stream",
     "text": [
      "c:\\users\\floorbakker\\opentnsim\\opentnsim\\lock.py:711: UserWarning:\n",
      "\n",
      "Converting non-nanosecond precision datetime values to nanosecond precision. This behavior can eventually be relaxed in xarray, as it is an artifact from pandas which is now beginning to support non-nanosecond precision values. This warning is caused by passing non-nanosecond np.datetime64 or np.timedelta64 values to the DataArray or Variable constructor; it can be silenced by converting the values to nanosecond precision ahead of time.\n",
      "\n"
     ]
    },
    {
     "name": "stdout",
     "output_type": "stream",
     "text": [
      "outbound_vessel_132 start waiting time 2019-01-12 12:34:13.279792\n",
      "claim the lock doors outbound_vessel_132 2019-01-12 12:34:13.279792\n",
      "lock not empty outbound_vessel_132 ['inbound_vessel_124']\n",
      "lock is already converting outbound_vessel_132 2019-01-12 12:34:13.279792 ['inbound_vessel_124']\n",
      "inbound_vessel_124 hap is geconvert 2019-01-12 12:35:34.667250\n",
      "inbound_vessel_125 lock position given 2019-01-12 12:41:08.000583\n",
      "inbound_vessel_125 requested place in next lockage 2019-01-12 12:41:08.000583\n",
      "claim the lock doors inbound_vessel_125 2019-01-12 12:41:08.000583\n",
      "requesting approach: else inbound_vessel_125 2019-01-12 12:41:08.000583 0 [] ['inbound_vessel_124']\n",
      "inbound_vessel_126 lock position given 2019-01-12 12:41:08.000583\n",
      "inbound_vessel_126 requested place in next lockage 2019-01-12 12:41:08.000583\n",
      "claim the lock doors inbound_vessel_126 2019-01-12 12:41:08.000583\n",
      "requesting approach: else inbound_vessel_126 2019-01-12 12:41:08.000583 0 ['inbound_vessel_125'] ['inbound_vessel_124']\n",
      "doors requested inbound_vessel_125\n",
      "claiming lock: priority doors2 is -1 inbound_vessel_125 2019-01-12 12:41:08.000583\n",
      "inbound_vessel_125 wth\n",
      "hi 2019-01-12 12:41:08.000583\n",
      "2019-01-12 12:41:08.000583 Node_50 Node_49 Lock doors closing start\n"
     ]
    },
    {
     "name": "stderr",
     "output_type": "stream",
     "text": [
      "c:\\users\\floorbakker\\opentnsim\\opentnsim\\lock.py:711: UserWarning:\n",
      "\n",
      "Converting non-nanosecond precision datetime values to nanosecond precision. This behavior can eventually be relaxed in xarray, as it is an artifact from pandas which is now beginning to support non-nanosecond precision values. This warning is caused by passing non-nanosecond np.datetime64 or np.timedelta64 values to the DataArray or Variable constructor; it can be silenced by converting the values to nanosecond precision ahead of time.\n",
      "\n"
     ]
    },
    {
     "name": "stdout",
     "output_type": "stream",
     "text": [
      "waiting done inbound_vessel_125 2019-01-12 13:40:08.000583\n",
      "inbound_vessel_125 sail to assigned lock position\n",
      "print doors inbound_vessel_125 ['inbound_vessel_125'] ['inbound_vessel_125']\n",
      "left doors1 inbound_vessel_125 2019-01-12 13:45:41.333916 ['inbound_vessel_126'] 1 ['inbound_vessel_125']\n",
      "inbound_vessel_125 in lock ['inbound_vessel_125', 'inbound_vessel_126']\n",
      "waiting for others inbound_vessel_125\n",
      "doors requested inbound_vessel_126\n",
      "claiming lock: priority doors2 is -1 inbound_vessel_126 2019-01-12 13:45:41.333916\n",
      "waiting done inbound_vessel_126 2019-01-12 13:45:41.333916\n",
      "inbound_vessel_126 sail to assigned lock position\n",
      "inbound_vessel_127 start waiting time 2019-01-12 13:55:52.445028\n",
      "wait for lockage True ['inbound_vessel_125', 'inbound_vessel_126'] False\n",
      "print doors inbound_vessel_126 ['inbound_vessel_126'] ['inbound_vessel_126']\n",
      "left doors1 inbound_vessel_126 2019-01-12 13:56:48.000583 [] 1 ['inbound_vessel_126']\n",
      "inbound_vessel_126 in lock ['inbound_vessel_125', 'inbound_vessel_126']\n",
      "inbound_vessel_126 converting hap 2019-01-12 13:56:48.000583\n",
      "hi 2019-01-12 13:56:48.000583\n",
      "2019-01-12 13:56:48.000583 Node_49 Node_50 Lock doors closing start\n",
      "waiting for others done inbound_vessel_125\n"
     ]
    },
    {
     "name": "stderr",
     "output_type": "stream",
     "text": [
      "c:\\users\\floorbakker\\opentnsim\\opentnsim\\lock.py:711: UserWarning:\n",
      "\n",
      "Converting non-nanosecond precision datetime values to nanosecond precision. This behavior can eventually be relaxed in xarray, as it is an artifact from pandas which is now beginning to support non-nanosecond precision values. This warning is caused by passing non-nanosecond np.datetime64 or np.timedelta64 values to the DataArray or Variable constructor; it can be silenced by converting the values to nanosecond precision ahead of time.\n",
      "\n"
     ]
    },
    {
     "name": "stdout",
     "output_type": "stream",
     "text": [
      "inbound_vessel_128 start waiting time 2019-01-12 14:55:08.130923\n",
      "wait for lockage True ['inbound_vessel_125', 'inbound_vessel_126'] True\n",
      "inbound_vessel_126 hap is geconvert 2019-01-12 15:02:42.445028\n",
      "hey ho outbound_vessel_133 ['outbound_vessel_132']\n",
      "yo outbound_vessel_133 2019-01-12 15:07:02.829720 ['outbound_vessel_132']\n",
      "inbound_vessel_127 lock position given 2019-01-12 15:08:15.778361\n",
      "inbound_vessel_127 requested place in next lockage 2019-01-12 15:08:15.778361\n",
      "claim the lock doors inbound_vessel_127 2019-01-12 15:08:15.778361\n",
      "requesting approach: else inbound_vessel_127 2019-01-12 15:08:15.778361 0 [] ['inbound_vessel_126']\n",
      "inbound_vessel_128 lock position given 2019-01-12 15:08:15.778361\n",
      "inbound_vessel_128 requested place in next lockage 2019-01-12 15:08:15.778361\n",
      "claim the lock doors inbound_vessel_128 2019-01-12 15:08:15.778361\n",
      "requesting approach: else inbound_vessel_128 2019-01-12 15:08:15.778361 0 ['inbound_vessel_127'] ['inbound_vessel_126']\n",
      "doors requested inbound_vessel_127\n",
      "claiming lock: priority doors2 is -1 inbound_vessel_127 2019-01-12 15:08:15.778361\n",
      "inbound_vessel_127 wth\n",
      "hi 2019-01-12 15:08:15.778361\n",
      "2019-01-12 15:08:15.778361 Node_50 Node_49 Lock doors closing start\n"
     ]
    },
    {
     "name": "stderr",
     "output_type": "stream",
     "text": [
      "c:\\users\\floorbakker\\opentnsim\\opentnsim\\lock.py:711: UserWarning:\n",
      "\n",
      "Converting non-nanosecond precision datetime values to nanosecond precision. This behavior can eventually be relaxed in xarray, as it is an artifact from pandas which is now beginning to support non-nanosecond precision values. This warning is caused by passing non-nanosecond np.datetime64 or np.timedelta64 values to the DataArray or Variable constructor; it can be silenced by converting the values to nanosecond precision ahead of time.\n",
      "\n"
     ]
    },
    {
     "name": "stdout",
     "output_type": "stream",
     "text": [
      "waiting done inbound_vessel_127 2019-01-12 15:50:15.778361\n",
      "inbound_vessel_127 sail to assigned lock position\n",
      "print doors inbound_vessel_127 ['inbound_vessel_127'] ['inbound_vessel_127']\n",
      "left doors1 inbound_vessel_127 2019-01-12 15:55:49.111694 ['inbound_vessel_128'] 1 ['inbound_vessel_127']\n",
      "inbound_vessel_127 in lock ['inbound_vessel_127', 'inbound_vessel_128']\n",
      "waiting for others inbound_vessel_127\n",
      "doors requested inbound_vessel_128\n",
      "claiming lock: priority doors2 is -1 inbound_vessel_128 2019-01-12 15:55:49.111694\n",
      "waiting done inbound_vessel_128 2019-01-12 15:55:49.111694\n",
      "inbound_vessel_128 sail to assigned lock position\n",
      "outbound_vessel_133 start waiting time 2019-01-12 16:04:36.996387\n",
      "claim the lock doors outbound_vessel_133 2019-01-12 16:04:36.996387\n",
      "wait in lock first 2019-01-12 16:04:36.996387\n",
      "print doors inbound_vessel_128 ['inbound_vessel_128'] ['inbound_vessel_128']\n",
      "left doors1 inbound_vessel_128 2019-01-12 16:06:55.778361 ['outbound_vessel_133'] 1 ['inbound_vessel_128']\n",
      "inbound_vessel_128 in lock ['inbound_vessel_127', 'inbound_vessel_128']\n",
      "requesting approach: else outbound_vessel_133 2019-01-12 16:06:55.778361 2 ['inbound_vessel_128'] []\n",
      "inbound_vessel_128 converting hap 2019-01-12 16:06:55.778361\n",
      "hi 2019-01-12 16:06:55.778361\n",
      "2019-01-12 16:06:55.778361 Node_49 Node_50 Lock doors closing start\n",
      "waiting for others done inbound_vessel_127\n"
     ]
    },
    {
     "name": "stderr",
     "output_type": "stream",
     "text": [
      "c:\\users\\floorbakker\\opentnsim\\opentnsim\\lock.py:711: UserWarning:\n",
      "\n",
      "Converting non-nanosecond precision datetime values to nanosecond precision. This behavior can eventually be relaxed in xarray, as it is an artifact from pandas which is now beginning to support non-nanosecond precision values. This warning is caused by passing non-nanosecond np.datetime64 or np.timedelta64 values to the DataArray or Variable constructor; it can be silenced by converting the values to nanosecond precision ahead of time.\n",
      "\n"
     ]
    },
    {
     "name": "stdout",
     "output_type": "stream",
     "text": [
      "inbound_vessel_128 hap is geconvert 2019-01-12 16:37:50.222806\n",
      "left doors2 inbound_vessel_128 2019-01-12 16:45:53.556139 1 [] []\n",
      "lock doors claimed outbound_vessel_132 2019-01-12 16:45:53.556139\n",
      "first in line to claim lock outbound_vessel_132 2019-01-12 16:45:53.556139\n",
      "waiting done outbound_vessel_132 2019-01-12 16:45:53.556139\n",
      "outbound_vessel_132 sail to assigned lock position\n",
      "print doors outbound_vessel_132 ['outbound_vessel_132'] ['outbound_vessel_132']\n",
      "left doors1 outbound_vessel_132 2019-01-12 16:57:00.222806 0 ['outbound_vessel_133'] ['outbound_vessel_132']\n",
      "outbound_vessel_132 in lock ['outbound_vessel_132', 'outbound_vessel_133']\n",
      "waiting for others outbound_vessel_132\n",
      "doors requested outbound_vessel_133\n",
      "claiming lock: priority doors2 is -1 outbound_vessel_133 2019-01-12 16:57:00.222806\n",
      "waiting done outbound_vessel_133 2019-01-12 16:57:00.222806\n",
      "outbound_vessel_133 sail to assigned lock position\n",
      "print doors outbound_vessel_133 ['outbound_vessel_133'] ['outbound_vessel_133']\n",
      "left doors1 outbound_vessel_133 2019-01-12 17:08:06.889472 0 [] ['outbound_vessel_133']\n",
      "outbound_vessel_133 in lock ['outbound_vessel_132', 'outbound_vessel_133']\n",
      "outbound_vessel_133 converting hap 2019-01-12 17:08:06.889472\n",
      "hi 2019-01-12 17:08:06.889472\n",
      "2019-01-12 17:08:06.889472 Node_50 Node_49 Lock doors closing start\n",
      "waiting for others done outbound_vessel_132\n"
     ]
    },
    {
     "name": "stderr",
     "output_type": "stream",
     "text": [
      "c:\\users\\floorbakker\\opentnsim\\opentnsim\\lock.py:711: UserWarning:\n",
      "\n",
      "Converting non-nanosecond precision datetime values to nanosecond precision. This behavior can eventually be relaxed in xarray, as it is an artifact from pandas which is now beginning to support non-nanosecond precision values. This warning is caused by passing non-nanosecond np.datetime64 or np.timedelta64 values to the DataArray or Variable constructor; it can be silenced by converting the values to nanosecond precision ahead of time.\n",
      "\n"
     ]
    },
    {
     "name": "stdout",
     "output_type": "stream",
     "text": [
      "hey ho inbound_vessel_129 []\n",
      "hi inbound_vessel_129 2019-01-12 17:27:27.306413 0\n",
      "outbound_vessel_133 hap is geconvert 2019-01-12 17:57:28.000583\n",
      "left doors2 outbound_vessel_133 2019-01-12 18:05:31.333917 0 [] []\n",
      "inbound_vessel_129 start waiting time 2019-01-12 18:26:08.139746\n",
      "claim the lock doors inbound_vessel_129 2019-01-12 18:26:08.139746\n",
      "lock is empty and not converting inbound_vessel_129 2019-01-12 18:26:08.139746 0 []\n",
      "lock doors claimed inbound_vessel_129 2019-01-12 18:26:08.139746\n",
      "waiting done inbound_vessel_129 2019-01-12 18:26:08.139746\n",
      "inbound_vessel_129 sail to assigned lock position\n",
      "print doors inbound_vessel_129 ['inbound_vessel_129'] ['inbound_vessel_129']\n",
      "left doors1 inbound_vessel_129 2019-01-12 18:37:14.806413 [] 1 ['inbound_vessel_129']\n",
      "inbound_vessel_129 in lock ['inbound_vessel_129']\n",
      "inbound_vessel_129 converting hap 2019-01-12 18:37:14.806413\n",
      "hi 2019-01-12 18:37:14.806413\n",
      "2019-01-12 18:37:14.806413 Node_49 Node_50 Lock doors closing start\n"
     ]
    },
    {
     "name": "stderr",
     "output_type": "stream",
     "text": [
      "c:\\users\\floorbakker\\opentnsim\\opentnsim\\lock.py:711: UserWarning:\n",
      "\n",
      "Converting non-nanosecond precision datetime values to nanosecond precision. This behavior can eventually be relaxed in xarray, as it is an artifact from pandas which is now beginning to support non-nanosecond precision values. This warning is caused by passing non-nanosecond np.datetime64 or np.timedelta64 values to the DataArray or Variable constructor; it can be silenced by converting the values to nanosecond precision ahead of time.\n",
      "\n"
     ]
    },
    {
     "name": "stdout",
     "output_type": "stream",
     "text": [
      "outbound_vessel_134 start waiting time 2019-01-12 18:53:55.433966\n",
      "outbound_vessel_134 lock position given 2019-01-12 18:53:55.433966\n",
      "outbound_vessel_134 requested place in next lockage 2019-01-12 18:53:55.433966\n",
      "claim the lock doors outbound_vessel_134 2019-01-12 18:53:55.433966\n",
      "lock not empty outbound_vessel_134 ['inbound_vessel_129']\n",
      "lock is already converting outbound_vessel_134 2019-01-12 18:53:55.433966 ['inbound_vessel_129']\n",
      "hey ho inbound_vessel_130 ['inbound_vessel_129']\n",
      "inbound_vessel_129 hap is geconvert 2019-01-12 19:35:14.806413\n",
      "left doors2 inbound_vessel_129 2019-01-12 19:39:35.917524 1 [] []\n",
      "lock doors claimed outbound_vessel_134 2019-01-12 19:39:35.917524\n",
      "first in line to claim lock outbound_vessel_134 2019-01-12 19:39:35.917524\n",
      "waiting done outbound_vessel_134 2019-01-12 19:39:35.917524\n",
      "outbound_vessel_134 sail to assigned lock position\n",
      "print doors outbound_vessel_134 ['outbound_vessel_134'] ['outbound_vessel_134']\n",
      "left doors1 outbound_vessel_134 2019-01-12 19:50:42.584191 0 [] ['outbound_vessel_134']\n",
      "outbound_vessel_134 in lock ['outbound_vessel_134']\n",
      "outbound_vessel_134 converting hap 2019-01-12 19:50:42.584191\n",
      "hi 2019-01-12 19:50:42.584191\n",
      "2019-01-12 19:50:42.584191 Node_50 Node_49 Lock doors closing start\n"
     ]
    },
    {
     "name": "stderr",
     "output_type": "stream",
     "text": [
      "c:\\users\\floorbakker\\opentnsim\\opentnsim\\lock.py:711: UserWarning:\n",
      "\n",
      "Converting non-nanosecond precision datetime values to nanosecond precision. This behavior can eventually be relaxed in xarray, as it is an artifact from pandas which is now beginning to support non-nanosecond precision values. This warning is caused by passing non-nanosecond np.datetime64 or np.timedelta64 values to the DataArray or Variable constructor; it can be silenced by converting the values to nanosecond precision ahead of time.\n",
      "\n"
     ]
    },
    {
     "name": "stdout",
     "output_type": "stream",
     "text": [
      "inbound_vessel_130 start waiting time 2019-01-12 20:02:40.785627\n",
      "inbound_vessel_130 lock position given 2019-01-12 20:02:40.785627\n",
      "inbound_vessel_130 requested place in next lockage 2019-01-12 20:02:40.785627\n",
      "claim the lock doors inbound_vessel_130 2019-01-12 20:02:40.785627\n",
      "lock not empty inbound_vessel_130 ['outbound_vessel_134']\n",
      "lock is already converting inbound_vessel_130 2019-01-12 20:02:40.785627 ['outbound_vessel_134']\n",
      "hey ho outbound_vessel_135 ['outbound_vessel_134']\n",
      "outbound_vessel_134 hap is geconvert 2019-01-12 20:48:42.584191\n",
      "left doors2 outbound_vessel_134 2019-01-12 20:53:03.695302 0 [] []\n",
      "lock doors claimed inbound_vessel_130 2019-01-12 20:53:03.695302\n",
      "first in line to claim lock inbound_vessel_130 2019-01-12 20:53:03.695302\n",
      "waiting done inbound_vessel_130 2019-01-12 20:53:03.695302\n",
      "inbound_vessel_130 sail to assigned lock position\n",
      "print doors inbound_vessel_130 ['inbound_vessel_130'] ['inbound_vessel_130']\n",
      "left doors1 inbound_vessel_130 2019-01-12 21:04:10.361969 [] 1 ['inbound_vessel_130']\n",
      "inbound_vessel_130 in lock ['inbound_vessel_130']\n",
      "inbound_vessel_130 converting hap 2019-01-12 21:04:10.361969\n",
      "hi 2019-01-12 21:04:10.361969\n",
      "2019-01-12 21:04:10.361969 Node_49 Node_50 Lock doors closing start\n"
     ]
    },
    {
     "name": "stderr",
     "output_type": "stream",
     "text": [
      "c:\\users\\floorbakker\\opentnsim\\opentnsim\\lock.py:711: UserWarning:\n",
      "\n",
      "Converting non-nanosecond precision datetime values to nanosecond precision. This behavior can eventually be relaxed in xarray, as it is an artifact from pandas which is now beginning to support non-nanosecond precision values. This warning is caused by passing non-nanosecond np.datetime64 or np.timedelta64 values to the DataArray or Variable constructor; it can be silenced by converting the values to nanosecond precision ahead of time.\n",
      "\n"
     ]
    },
    {
     "name": "stdout",
     "output_type": "stream",
     "text": [
      "hey ho inbound_vessel_131 ['inbound_vessel_130']\n",
      "outbound_vessel_135 start waiting time 2019-01-12 21:25:40.735982\n",
      "outbound_vessel_135 lock position given 2019-01-12 21:25:40.735982\n",
      "outbound_vessel_135 requested place in next lockage 2019-01-12 21:25:40.735982\n",
      "claim the lock doors outbound_vessel_135 2019-01-12 21:25:40.735982\n",
      "lock not empty outbound_vessel_135 ['inbound_vessel_130']\n",
      "lock is already converting outbound_vessel_135 2019-01-12 21:25:40.735982 ['inbound_vessel_130']\n",
      "inbound_vessel_130 hap is geconvert 2019-01-12 21:52:10.361969\n",
      "left doors2 inbound_vessel_130 2019-01-12 21:56:31.473080 1 [] []\n",
      "lock doors claimed outbound_vessel_135 2019-01-12 21:56:31.473080\n",
      "first in line to claim lock outbound_vessel_135 2019-01-12 21:56:31.473080\n",
      "waiting done outbound_vessel_135 2019-01-12 21:56:31.473080\n",
      "outbound_vessel_135 sail to assigned lock position\n",
      "print doors outbound_vessel_135 ['outbound_vessel_135'] ['outbound_vessel_135']\n",
      "left doors1 outbound_vessel_135 2019-01-12 22:07:38.139747 0 [] ['outbound_vessel_135']\n",
      "outbound_vessel_135 in lock ['outbound_vessel_135']\n",
      "outbound_vessel_135 converting hap 2019-01-12 22:07:38.139747\n",
      "hi 2019-01-12 22:07:38.139747\n",
      "2019-01-12 22:07:38.139747 Node_50 Node_49 Lock doors closing start\n"
     ]
    },
    {
     "name": "stderr",
     "output_type": "stream",
     "text": [
      "c:\\users\\floorbakker\\opentnsim\\opentnsim\\lock.py:711: UserWarning:\n",
      "\n",
      "Converting non-nanosecond precision datetime values to nanosecond precision. This behavior can eventually be relaxed in xarray, as it is an artifact from pandas which is now beginning to support non-nanosecond precision values. This warning is caused by passing non-nanosecond np.datetime64 or np.timedelta64 values to the DataArray or Variable constructor; it can be silenced by converting the values to nanosecond precision ahead of time.\n",
      "\n"
     ]
    },
    {
     "name": "stdout",
     "output_type": "stream",
     "text": [
      "inbound_vessel_131 start waiting time 2019-01-12 22:18:52.387348\n",
      "inbound_vessel_131 lock position given 2019-01-12 22:18:52.387348\n",
      "inbound_vessel_131 requested place in next lockage 2019-01-12 22:18:52.387348\n",
      "claim the lock doors inbound_vessel_131 2019-01-12 22:18:52.387348\n",
      "lock not empty inbound_vessel_131 ['outbound_vessel_135']\n",
      "lock is already converting inbound_vessel_131 2019-01-12 22:18:52.387348 ['outbound_vessel_135']\n",
      "outbound_vessel_135 hap is geconvert 2019-01-12 22:31:38.139747\n",
      "left doors2 outbound_vessel_135 2019-01-12 22:35:59.250858 0 [] []\n",
      "lock doors claimed inbound_vessel_131 2019-01-12 22:35:59.250858\n",
      "first in line to claim lock inbound_vessel_131 2019-01-12 22:35:59.250858\n",
      "waiting done inbound_vessel_131 2019-01-12 22:35:59.250858\n",
      "inbound_vessel_131 sail to assigned lock position\n",
      "print doors inbound_vessel_131 ['inbound_vessel_131'] ['inbound_vessel_131']\n",
      "left doors1 inbound_vessel_131 2019-01-12 22:47:05.917525 [] 1 ['inbound_vessel_131']\n",
      "inbound_vessel_131 in lock ['inbound_vessel_131']\n",
      "inbound_vessel_131 converting hap 2019-01-12 22:47:05.917525\n",
      "hi 2019-01-12 22:47:05.917525\n",
      "2019-01-12 22:47:05.917525 Node_49 Node_50 Lock doors closing start\n"
     ]
    },
    {
     "name": "stderr",
     "output_type": "stream",
     "text": [
      "c:\\users\\floorbakker\\opentnsim\\opentnsim\\lock.py:711: UserWarning:\n",
      "\n",
      "Converting non-nanosecond precision datetime values to nanosecond precision. This behavior can eventually be relaxed in xarray, as it is an artifact from pandas which is now beginning to support non-nanosecond precision values. This warning is caused by passing non-nanosecond np.datetime64 or np.timedelta64 values to the DataArray or Variable constructor; it can be silenced by converting the values to nanosecond precision ahead of time.\n",
      "\n"
     ]
    },
    {
     "name": "stdout",
     "output_type": "stream",
     "text": [
      "hey ho outbound_vessel_136 []\n",
      "hi outbound_vessel_136 2019-01-12 23:03:06.702040 0\n",
      "inbound_vessel_131 hap is geconvert 2019-01-12 23:21:05.917525\n",
      "left doors2 inbound_vessel_131 2019-01-12 23:25:27.028636 1 [] []\n",
      "hey ho inbound_vessel_132 []\n",
      "hi inbound_vessel_132 2019-01-12 23:59:07.174816 0\n",
      "outbound_vessel_136 start waiting time 2019-01-13 00:01:47.535373\n",
      "claim the lock doors outbound_vessel_136 2019-01-13 00:01:47.535373\n",
      "lock is empty and not converting outbound_vessel_136 2019-01-13 00:01:47.535373 0 []\n",
      "lock doors claimed outbound_vessel_136 2019-01-13 00:01:47.535373\n",
      "waiting done outbound_vessel_136 2019-01-13 00:01:47.535373\n",
      "outbound_vessel_136 sail to assigned lock position\n",
      "print doors outbound_vessel_136 ['outbound_vessel_136'] ['outbound_vessel_136']\n",
      "left doors1 outbound_vessel_136 2019-01-13 00:12:54.202040 0 [] ['outbound_vessel_136']\n",
      "outbound_vessel_136 in lock ['outbound_vessel_136']\n",
      "outbound_vessel_136 converting hap 2019-01-13 00:12:54.202040\n",
      "hi 2019-01-13 00:12:54.202040\n",
      "2019-01-13 00:12:54.202040 Node_50 Node_49 Lock doors closing start\n"
     ]
    },
    {
     "name": "stderr",
     "output_type": "stream",
     "text": [
      "c:\\users\\floorbakker\\opentnsim\\opentnsim\\lock.py:711: UserWarning:\n",
      "\n",
      "Converting non-nanosecond precision datetime values to nanosecond precision. This behavior can eventually be relaxed in xarray, as it is an artifact from pandas which is now beginning to support non-nanosecond precision values. This warning is caused by passing non-nanosecond np.datetime64 or np.timedelta64 values to the DataArray or Variable constructor; it can be silenced by converting the values to nanosecond precision ahead of time.\n",
      "\n"
     ]
    },
    {
     "name": "stdout",
     "output_type": "stream",
     "text": [
      "hey ho inbound_vessel_133 ['inbound_vessel_132']\n",
      "yo inbound_vessel_133 2019-01-13 00:38:52.894425 ['inbound_vessel_132']\n",
      "inbound_vessel_132 start waiting time 2019-01-13 00:57:48.008149\n",
      "claim the lock doors inbound_vessel_132 2019-01-13 00:57:48.008149\n",
      "lock not empty inbound_vessel_132 ['outbound_vessel_136']\n",
      "lock is already converting inbound_vessel_132 2019-01-13 00:57:48.008149 ['outbound_vessel_136']\n",
      "outbound_vessel_136 hap is geconvert 2019-01-13 01:06:54.202040\n",
      "left doors2 outbound_vessel_136 2019-01-13 01:11:15.313151 0 [] []\n",
      "lock doors claimed inbound_vessel_132 2019-01-13 01:11:15.313151\n",
      "first in line to claim lock inbound_vessel_132 2019-01-13 01:11:15.313151\n",
      "waiting done inbound_vessel_132 2019-01-13 01:11:15.313151\n",
      "inbound_vessel_132 sail to assigned lock position\n",
      "print doors inbound_vessel_132 ['inbound_vessel_132'] ['inbound_vessel_132']\n",
      "left doors1 inbound_vessel_132 2019-01-13 01:22:21.979818 [] 1 ['inbound_vessel_132']\n",
      "inbound_vessel_132 in lock ['inbound_vessel_132', 'inbound_vessel_133']\n",
      "waiting for others inbound_vessel_132\n",
      "inbound_vessel_133 start waiting time 2019-01-13 01:37:33.727758\n",
      "claim the lock doors inbound_vessel_133 2019-01-13 01:37:33.727758\n",
      "lock not empty inbound_vessel_133 ['inbound_vessel_132']\n",
      "lock is ready to be entered 2019-01-13 01:37:33.727758\n",
      "lock doors claimed inbound_vessel_133 2019-01-13 01:37:33.727758\n",
      "waiting done inbound_vessel_133 2019-01-13 01:37:33.727758\n",
      "inbound_vessel_133 sail to assigned lock position\n",
      "print doors inbound_vessel_133 ['inbound_vessel_133'] ['inbound_vessel_133']\n",
      "left doors1 inbound_vessel_133 2019-01-13 01:44:58.172203 [] 1 ['inbound_vessel_133']\n",
      "inbound_vessel_133 in lock ['inbound_vessel_132', 'inbound_vessel_133']\n",
      "inbound_vessel_133 converting hap 2019-01-13 01:44:58.172203\n",
      "hi 2019-01-13 01:44:58.172203\n",
      "2019-01-13 01:44:58.172203 Node_49 Node_50 Lock doors closing start\n",
      "waiting for others done inbound_vessel_132\n",
      "hey ho outbound_vessel_137 []\n",
      "hi outbound_vessel_137 2019-01-13 01:46:55.128549 0\n"
     ]
    },
    {
     "name": "stderr",
     "output_type": "stream",
     "text": [
      "c:\\users\\floorbakker\\opentnsim\\opentnsim\\lock.py:711: UserWarning:\n",
      "\n",
      "Converting non-nanosecond precision datetime values to nanosecond precision. This behavior can eventually be relaxed in xarray, as it is an artifact from pandas which is now beginning to support non-nanosecond precision values. This warning is caused by passing non-nanosecond np.datetime64 or np.timedelta64 values to the DataArray or Variable constructor; it can be silenced by converting the values to nanosecond precision ahead of time.\n",
      "\n"
     ]
    },
    {
     "name": "stdout",
     "output_type": "stream",
     "text": [
      "inbound_vessel_134 start waiting time 2019-01-13 02:39:46.595455\n",
      "wait for lockage True ['inbound_vessel_132', 'inbound_vessel_133'] True\n",
      "outbound_vessel_137 start waiting time 2019-01-13 02:45:35.961882\n",
      "claim the lock doors outbound_vessel_137 2019-01-13 02:45:35.961882\n",
      "lock not empty outbound_vessel_137 ['inbound_vessel_132', 'inbound_vessel_133']\n",
      "lock is already converting outbound_vessel_137 2019-01-13 02:45:35.961882 ['inbound_vessel_132', 'inbound_vessel_133']\n",
      "inbound_vessel_133 hap is geconvert 2019-01-13 02:48:19.283314\n",
      "inbound_vessel_134 lock position given 2019-01-13 02:53:52.616647\n",
      "inbound_vessel_134 requested place in next lockage 2019-01-13 02:53:52.616647\n",
      "claim the lock doors inbound_vessel_134 2019-01-13 02:53:52.616647\n",
      "requesting approach: else inbound_vessel_134 2019-01-13 02:53:52.616647 0 [] ['inbound_vessel_133']\n",
      "doors requested inbound_vessel_134\n",
      "claiming lock: priority doors2 is -1 inbound_vessel_134 2019-01-13 02:53:52.616647\n",
      "inbound_vessel_134 wth\n",
      "hi 2019-01-13 02:53:52.616647\n",
      "2019-01-13 02:53:52.616647 Node_50 Node_49 Lock doors closing start\n",
      "hey ho outbound_vessel_138 ['outbound_vessel_137']\n",
      "yo outbound_vessel_138 2019-01-13 02:58:03.092555 ['outbound_vessel_137']\n"
     ]
    },
    {
     "name": "stderr",
     "output_type": "stream",
     "text": [
      "c:\\users\\floorbakker\\opentnsim\\opentnsim\\lock.py:711: UserWarning:\n",
      "\n",
      "Converting non-nanosecond precision datetime values to nanosecond precision. This behavior can eventually be relaxed in xarray, as it is an artifact from pandas which is now beginning to support non-nanosecond precision values. This warning is caused by passing non-nanosecond np.datetime64 or np.timedelta64 values to the DataArray or Variable constructor; it can be silenced by converting the values to nanosecond precision ahead of time.\n",
      "\n"
     ]
    },
    {
     "name": "stdout",
     "output_type": "stream",
     "text": [
      "hey ho inbound_vessel_135 ['inbound_vessel_134']\n",
      "yo inbound_vessel_135 2019-01-13 03:28:13.413977 ['inbound_vessel_134']\n",
      "waiting done inbound_vessel_134 2019-01-13 03:46:52.616647\n",
      "inbound_vessel_134 sail to assigned lock position\n",
      "outbound_vessel_138 start waiting time 2019-01-13 03:55:37.259222\n",
      "claim the lock doors outbound_vessel_138 2019-01-13 03:55:37.259222\n",
      "wait in lock first 2019-01-13 03:55:37.259222\n",
      "print doors inbound_vessel_134 ['inbound_vessel_134'] ['inbound_vessel_134']\n",
      "left doors1 inbound_vessel_134 2019-01-13 03:57:59.283314 ['outbound_vessel_138'] 1 ['inbound_vessel_134']\n",
      "inbound_vessel_134 in lock ['inbound_vessel_134', 'inbound_vessel_135']\n",
      "waiting for others inbound_vessel_134\n",
      "requesting approach: else outbound_vessel_138 2019-01-13 03:57:59.283314 1 ['inbound_vessel_134'] []\n",
      "inbound_vessel_135 start waiting time 2019-01-13 04:26:54.247310\n",
      "claim the lock doors inbound_vessel_135 2019-01-13 04:26:54.247310\n",
      "lock not empty inbound_vessel_135 ['inbound_vessel_134']\n",
      "lock is ready to be entered 2019-01-13 04:26:54.247310\n",
      "lock doors claimed inbound_vessel_135 2019-01-13 04:26:54.247310\n",
      "waiting done inbound_vessel_135 2019-01-13 04:26:54.247310\n",
      "inbound_vessel_135 sail to assigned lock position\n",
      "print doors inbound_vessel_135 ['inbound_vessel_135'] ['inbound_vessel_135']\n",
      "left doors1 inbound_vessel_135 2019-01-13 04:34:18.691755 [] 1 ['inbound_vessel_135']\n",
      "inbound_vessel_135 in lock ['inbound_vessel_134', 'inbound_vessel_135']\n",
      "inbound_vessel_135 converting hap 2019-01-13 04:34:18.691755\n",
      "hi 2019-01-13 04:34:18.691755\n",
      "2019-01-13 04:34:18.691755 Node_49 Node_50 Lock doors closing start\n",
      "waiting for others done inbound_vessel_134\n"
     ]
    },
    {
     "name": "stderr",
     "output_type": "stream",
     "text": [
      "c:\\users\\floorbakker\\opentnsim\\opentnsim\\lock.py:711: UserWarning:\n",
      "\n",
      "Converting non-nanosecond precision datetime values to nanosecond precision. This behavior can eventually be relaxed in xarray, as it is an artifact from pandas which is now beginning to support non-nanosecond precision values. This warning is caused by passing non-nanosecond np.datetime64 or np.timedelta64 values to the DataArray or Variable constructor; it can be silenced by converting the values to nanosecond precision ahead of time.\n",
      "\n"
     ]
    },
    {
     "name": "stdout",
     "output_type": "stream",
     "text": [
      "inbound_vessel_135 hap is geconvert 2019-01-13 04:59:39.802866\n",
      "left doors2 inbound_vessel_135 2019-01-13 05:07:43.136199 1 [] []\n",
      "lock doors claimed outbound_vessel_137 2019-01-13 05:07:43.136199\n",
      "first in line to claim lock outbound_vessel_137 2019-01-13 05:07:43.136199\n",
      "waiting done outbound_vessel_137 2019-01-13 05:07:43.136199\n",
      "outbound_vessel_137 sail to assigned lock position\n",
      "print doors outbound_vessel_137 ['outbound_vessel_137'] ['outbound_vessel_137']\n",
      "left doors1 outbound_vessel_137 2019-01-13 05:18:49.802866 0 ['outbound_vessel_138'] ['outbound_vessel_137']\n",
      "outbound_vessel_137 in lock ['outbound_vessel_137', 'outbound_vessel_138']\n",
      "waiting for others outbound_vessel_137\n",
      "doors requested outbound_vessel_138\n",
      "claiming lock: priority doors2 is -1 outbound_vessel_138 2019-01-13 05:18:49.802866\n",
      "waiting done outbound_vessel_138 2019-01-13 05:18:49.802866\n",
      "outbound_vessel_138 sail to assigned lock position\n",
      "hey ho inbound_vessel_136 []\n",
      "hi inbound_vessel_136 2019-01-13 05:25:10.038632 0\n",
      "outbound_vessel_139 start waiting time 2019-01-13 05:29:00.913977\n",
      "wait for lockage True ['outbound_vessel_137', 'outbound_vessel_138'] False\n",
      "print doors outbound_vessel_138 ['outbound_vessel_138'] ['outbound_vessel_138']\n",
      "left doors1 outbound_vessel_138 2019-01-13 05:29:56.469533 0 [] ['outbound_vessel_138']\n",
      "outbound_vessel_138 in lock ['outbound_vessel_137', 'outbound_vessel_138']\n",
      "outbound_vessel_138 converting hap 2019-01-13 05:29:56.469533\n",
      "hi 2019-01-13 05:29:56.469533\n",
      "2019-01-13 05:29:56.469533 Node_50 Node_49 Lock doors closing start\n",
      "waiting for others done outbound_vessel_137\n"
     ]
    },
    {
     "name": "stderr",
     "output_type": "stream",
     "text": [
      "c:\\users\\floorbakker\\opentnsim\\opentnsim\\lock.py:711: UserWarning:\n",
      "\n",
      "Converting non-nanosecond precision datetime values to nanosecond precision. This behavior can eventually be relaxed in xarray, as it is an artifact from pandas which is now beginning to support non-nanosecond precision values. This warning is caused by passing non-nanosecond np.datetime64 or np.timedelta64 values to the DataArray or Variable constructor; it can be silenced by converting the values to nanosecond precision ahead of time.\n",
      "\n"
     ]
    },
    {
     "name": "stdout",
     "output_type": "stream",
     "text": [
      "outbound_vessel_140 start waiting time 2019-01-13 05:59:09.728558\n",
      "wait for lockage True ['outbound_vessel_137', 'outbound_vessel_138'] True\n",
      "outbound_vessel_138 hap is geconvert 2019-01-13 06:16:17.580644\n",
      "outbound_vessel_139 lock position given 2019-01-13 06:21:50.913977\n",
      "outbound_vessel_139 requested place in next lockage 2019-01-13 06:21:50.913977\n",
      "claim the lock doors outbound_vessel_139 2019-01-13 06:21:50.913977\n",
      "requesting approach: else outbound_vessel_139 2019-01-13 06:21:50.913977 0 [] ['outbound_vessel_138']\n",
      "outbound_vessel_140 lock position given 2019-01-13 06:21:50.913977\n",
      "outbound_vessel_140 requested place in next lockage 2019-01-13 06:21:50.913977\n",
      "claim the lock doors outbound_vessel_140 2019-01-13 06:21:50.913977\n",
      "requesting approach: else outbound_vessel_140 2019-01-13 06:21:50.913977 0 ['outbound_vessel_139'] ['outbound_vessel_138']\n",
      "doors requested outbound_vessel_139\n",
      "claiming lock: priority doors2 is -1 outbound_vessel_139 2019-01-13 06:21:50.913977\n",
      "outbound_vessel_139 wth\n",
      "hi 2019-01-13 06:21:50.913977\n",
      "2019-01-13 06:21:50.913977 Node_49 Node_50 Lock doors closing start\n",
      "inbound_vessel_136 start waiting time 2019-01-13 06:23:50.871965\n",
      "claim the lock doors inbound_vessel_136 2019-01-13 06:23:50.871965\n",
      "lock is empty and not converting inbound_vessel_136 2019-01-13 06:23:50.871965 0 []\n"
     ]
    },
    {
     "name": "stderr",
     "output_type": "stream",
     "text": [
      "c:\\users\\floorbakker\\opentnsim\\opentnsim\\lock.py:711: UserWarning:\n",
      "\n",
      "Converting non-nanosecond precision datetime values to nanosecond precision. This behavior can eventually be relaxed in xarray, as it is an artifact from pandas which is now beginning to support non-nanosecond precision values. This warning is caused by passing non-nanosecond np.datetime64 or np.timedelta64 values to the DataArray or Variable constructor; it can be silenced by converting the values to nanosecond precision ahead of time.\n",
      "\n"
     ]
    },
    {
     "name": "stdout",
     "output_type": "stream",
     "text": [
      "waiting done outbound_vessel_139 2019-01-13 07:14:50.913977\n",
      "outbound_vessel_139 sail to assigned lock position\n",
      "print doors outbound_vessel_139 ['outbound_vessel_139'] ['outbound_vessel_139']\n",
      "left doors1 outbound_vessel_139 2019-01-13 07:20:24.247311 0 ['outbound_vessel_140'] ['outbound_vessel_139']\n",
      "outbound_vessel_139 in lock ['outbound_vessel_139', 'outbound_vessel_140']\n",
      "waiting for others outbound_vessel_139\n",
      "doors requested outbound_vessel_140\n",
      "claiming lock: priority doors2 is -1 outbound_vessel_140 2019-01-13 07:20:24.247311\n",
      "lock doors claimed inbound_vessel_136 2019-01-13 07:20:24.247311\n",
      "waiting done inbound_vessel_136 2019-01-13 07:20:24.247311\n",
      "inbound_vessel_136 sail to assigned lock position\n",
      "print doors inbound_vessel_136 ['inbound_vessel_136'] ['outbound_vessel_140']\n",
      "left doors1 inbound_vessel_136 2019-01-13 07:31:30.913977 ['outbound_vessel_140'] 1 ['outbound_vessel_140']\n",
      "inbound_vessel_136 in lock ['inbound_vessel_136']\n",
      "waiting done outbound_vessel_140 2019-01-13 07:31:30.913977\n",
      "inbound_vessel_136 converting hap 2019-01-13 07:31:30.913977\n",
      "hi 2019-01-13 07:31:30.913977\n",
      "2019-01-13 07:31:30.913977 Node_50 Node_50 Lock doors closing start\n",
      "waiting for others done outbound_vessel_139\n",
      "outbound_vessel_140 sail to assigned lock position\n"
     ]
    },
    {
     "name": "stderr",
     "output_type": "stream",
     "text": [
      "c:\\users\\floorbakker\\opentnsim\\opentnsim\\lock.py:711: UserWarning:\n",
      "\n",
      "Converting non-nanosecond precision datetime values to nanosecond precision. This behavior can eventually be relaxed in xarray, as it is an artifact from pandas which is now beginning to support non-nanosecond precision values. This warning is caused by passing non-nanosecond np.datetime64 or np.timedelta64 values to the DataArray or Variable constructor; it can be silenced by converting the values to nanosecond precision ahead of time.\n",
      "\n"
     ]
    },
    {
     "name": "stdout",
     "output_type": "stream",
     "text": [
      "print doors outbound_vessel_140 ['outbound_vessel_140'] ['outbound_vessel_140']\n",
      "left doors1 outbound_vessel_140 2019-01-13 07:42:37.580644 0 ['inbound_vessel_136'] ['outbound_vessel_140']\n",
      "outbound_vessel_140 in lock ['outbound_vessel_140']\n",
      "outbound_vessel_140 converting hap 2019-01-13 07:42:37.580644\n",
      "hi 2019-01-13 07:42:37.580644\n",
      "2019-01-13 07:42:37.580644 Node_50 Node_49 Lock doors closing start\n",
      "hey ho inbound_vessel_137 ['inbound_vessel_136']\n"
     ]
    },
    {
     "name": "stderr",
     "output_type": "stream",
     "text": [
      "c:\\users\\floorbakker\\opentnsim\\opentnsim\\lock.py:711: UserWarning:\n",
      "\n",
      "Converting non-nanosecond precision datetime values to nanosecond precision. This behavior can eventually be relaxed in xarray, as it is an artifact from pandas which is now beginning to support non-nanosecond precision values. This warning is caused by passing non-nanosecond np.datetime64 or np.timedelta64 values to the DataArray or Variable constructor; it can be silenced by converting the values to nanosecond precision ahead of time.\n",
      "\n"
     ]
    },
    {
     "name": "stdout",
     "output_type": "stream",
     "text": [
      "inbound_vessel_136 hap is geconvert 2019-01-13 08:30:30.913977\n",
      "left doors2 inbound_vessel_136 2019-01-13 08:34:52.025089 1 ['outbound_vessel_140'] []\n",
      "outbound_vessel_140 hap is geconvert 2019-01-13 08:41:37.580644\n",
      "inbound_vessel_137 start waiting time 2019-01-13 08:48:48.146349\n",
      "inbound_vessel_137 lock position given 2019-01-13 08:48:48.146349\n",
      "inbound_vessel_137 requested place in next lockage 2019-01-13 08:48:48.146349\n",
      "claim the lock doors inbound_vessel_137 2019-01-13 08:48:48.146349\n",
      "lock is empty and not converting inbound_vessel_137 2019-01-13 08:48:48.146349 0 []\n",
      "left doors2 outbound_vessel_140 2019-01-13 08:49:40.913977 0 [] []\n",
      "lock doors claimed inbound_vessel_137 2019-01-13 08:49:40.913977\n",
      "waiting done inbound_vessel_137 2019-01-13 08:49:40.913977\n",
      "inbound_vessel_137 sail to assigned lock position\n",
      "print doors inbound_vessel_137 ['inbound_vessel_137'] ['inbound_vessel_137']\n",
      "left doors1 inbound_vessel_137 2019-01-13 09:00:47.580644 [] 1 ['inbound_vessel_137']\n",
      "inbound_vessel_137 in lock ['inbound_vessel_137']\n",
      "inbound_vessel_137 converting hap 2019-01-13 09:00:47.580644\n",
      "hi 2019-01-13 09:00:47.580644\n",
      "2019-01-13 09:00:47.580644 Node_49 Node_50 Lock doors closing start\n"
     ]
    },
    {
     "name": "stderr",
     "output_type": "stream",
     "text": [
      "c:\\users\\floorbakker\\opentnsim\\opentnsim\\lock.py:711: UserWarning:\n",
      "\n",
      "Converting non-nanosecond precision datetime values to nanosecond precision. This behavior can eventually be relaxed in xarray, as it is an artifact from pandas which is now beginning to support non-nanosecond precision values. This warning is caused by passing non-nanosecond np.datetime64 or np.timedelta64 values to the DataArray or Variable constructor; it can be silenced by converting the values to nanosecond precision ahead of time.\n",
      "\n"
     ]
    },
    {
     "name": "stdout",
     "output_type": "stream",
     "text": [
      "outbound_vessel_141 start waiting time 2019-01-13 09:40:19.573900\n",
      "outbound_vessel_141 lock position given 2019-01-13 09:40:19.573900\n",
      "outbound_vessel_141 requested place in next lockage 2019-01-13 09:40:19.573900\n",
      "claim the lock doors outbound_vessel_141 2019-01-13 09:40:19.573900\n",
      "lock not empty outbound_vessel_141 ['inbound_vessel_137']\n",
      "lock is already converting outbound_vessel_141 2019-01-13 09:40:19.573900 ['inbound_vessel_137']\n",
      "inbound_vessel_137 hap is geconvert 2019-01-13 09:54:47.580644\n",
      "left doors2 inbound_vessel_137 2019-01-13 09:59:08.691755 1 [] []\n",
      "lock doors claimed outbound_vessel_141 2019-01-13 09:59:08.691755\n",
      "first in line to claim lock outbound_vessel_141 2019-01-13 09:59:08.691755\n",
      "waiting done outbound_vessel_141 2019-01-13 09:59:08.691755\n",
      "outbound_vessel_141 sail to assigned lock position\n",
      "print doors outbound_vessel_141 ['outbound_vessel_141'] ['outbound_vessel_141']\n",
      "left doors1 outbound_vessel_141 2019-01-13 10:10:15.358422 0 [] ['outbound_vessel_141']\n",
      "outbound_vessel_141 in lock ['outbound_vessel_141']\n",
      "outbound_vessel_141 converting hap 2019-01-13 10:10:15.358422\n",
      "hi 2019-01-13 10:10:15.358422\n",
      "2019-01-13 10:10:15.358422 Node_50 Node_49 Lock doors closing start\n"
     ]
    },
    {
     "name": "stderr",
     "output_type": "stream",
     "text": [
      "c:\\users\\floorbakker\\opentnsim\\opentnsim\\lock.py:711: UserWarning:\n",
      "\n",
      "Converting non-nanosecond precision datetime values to nanosecond precision. This behavior can eventually be relaxed in xarray, as it is an artifact from pandas which is now beginning to support non-nanosecond precision values. This warning is caused by passing non-nanosecond np.datetime64 or np.timedelta64 values to the DataArray or Variable constructor; it can be silenced by converting the values to nanosecond precision ahead of time.\n",
      "\n"
     ]
    },
    {
     "name": "stdout",
     "output_type": "stream",
     "text": [
      "outbound_vessel_141 hap is geconvert 2019-01-13 10:48:15.358422\n",
      "left doors2 outbound_vessel_141 2019-01-13 10:52:36.469533 0 [] []\n",
      "hey ho inbound_vessel_138 []\n",
      "hi inbound_vessel_138 2019-01-13 11:22:15.115237 0\n",
      "inbound_vessel_138 start waiting time 2019-01-13 12:20:55.948570\n",
      "claim the lock doors inbound_vessel_138 2019-01-13 12:20:55.948570\n",
      "lock is empty and not converting inbound_vessel_138 2019-01-13 12:20:55.948570 0 []\n",
      "lock doors claimed inbound_vessel_138 2019-01-13 12:20:55.948570\n",
      "waiting done inbound_vessel_138 2019-01-13 12:20:55.948570\n",
      "inbound_vessel_138 sail to assigned lock position\n",
      "hey ho outbound_vessel_142 []\n",
      "hi outbound_vessel_142 2019-01-13 12:31:27.415423 0\n",
      "print doors inbound_vessel_138 ['inbound_vessel_138'] ['inbound_vessel_138']\n",
      "left doors1 inbound_vessel_138 2019-01-13 12:32:02.615237 [] 1 ['inbound_vessel_138']\n",
      "inbound_vessel_138 in lock ['inbound_vessel_138']\n",
      "inbound_vessel_138 converting hap 2019-01-13 12:32:02.615237\n",
      "hi 2019-01-13 12:32:02.615237\n",
      "2019-01-13 12:32:02.615237 Node_49 Node_50 Lock doors closing start\n",
      "hey ho inbound_vessel_139 ['inbound_vessel_138']\n"
     ]
    },
    {
     "name": "stderr",
     "output_type": "stream",
     "text": [
      "c:\\users\\floorbakker\\opentnsim\\opentnsim\\lock.py:513: UserWarning:\n",
      "\n",
      "Converting non-nanosecond precision datetime values to nanosecond precision. This behavior can eventually be relaxed in xarray, as it is an artifact from pandas which is now beginning to support non-nanosecond precision values. This warning is caused by passing non-nanosecond np.datetime64 or np.timedelta64 values to the DataArray or Variable constructor; it can be silenced by converting the values to nanosecond precision ahead of time.\n",
      "\n",
      "c:\\users\\floorbakker\\opentnsim\\opentnsim\\lock.py:711: UserWarning:\n",
      "\n",
      "Converting non-nanosecond precision datetime values to nanosecond precision. This behavior can eventually be relaxed in xarray, as it is an artifact from pandas which is now beginning to support non-nanosecond precision values. This warning is caused by passing non-nanosecond np.datetime64 or np.timedelta64 values to the DataArray or Variable constructor; it can be silenced by converting the values to nanosecond precision ahead of time.\n",
      "\n"
     ]
    },
    {
     "name": "stdout",
     "output_type": "stream",
     "text": [
      "inbound_vessel_138 hap is geconvert 2019-01-13 13:24:02.615237\n",
      "left doors2 inbound_vessel_138 2019-01-13 13:28:23.726348 1 [] []\n",
      "outbound_vessel_142 start waiting time 2019-01-13 13:30:08.248756\n",
      "claim the lock doors outbound_vessel_142 2019-01-13 13:30:08.248756\n",
      "lock is empty and not converting outbound_vessel_142 2019-01-13 13:30:08.248756 0 []\n",
      "lock doors claimed outbound_vessel_142 2019-01-13 13:30:08.248756\n",
      "waiting done outbound_vessel_142 2019-01-13 13:30:08.248756\n",
      "outbound_vessel_142 sail to assigned lock position\n",
      "inbound_vessel_139 start waiting time 2019-01-13 13:39:09.540794\n",
      "inbound_vessel_139 lock position given 2019-01-13 13:39:09.540794\n",
      "inbound_vessel_139 requested place in next lockage 2019-01-13 13:39:09.540794\n",
      "claim the lock doors inbound_vessel_139 2019-01-13 13:39:09.540794\n",
      "requesting approach: else inbound_vessel_139 2019-01-13 13:39:09.540794 1 ['outbound_vessel_142'] ['outbound_vessel_142']\n",
      "print doors outbound_vessel_142 ['outbound_vessel_142'] ['outbound_vessel_142']\n",
      "left doors1 outbound_vessel_142 2019-01-13 13:41:14.915423 0 [] ['outbound_vessel_142']\n",
      "outbound_vessel_142 in lock ['outbound_vessel_142']\n",
      "outbound_vessel_142 converting hap 2019-01-13 13:41:14.915423\n",
      "hi 2019-01-13 13:41:14.915423\n",
      "2019-01-13 13:41:14.915423 Node_50 Node_49 Lock doors closing start\n"
     ]
    },
    {
     "name": "stderr",
     "output_type": "stream",
     "text": [
      "c:\\users\\floorbakker\\opentnsim\\opentnsim\\lock.py:711: UserWarning:\n",
      "\n",
      "Converting non-nanosecond precision datetime values to nanosecond precision. This behavior can eventually be relaxed in xarray, as it is an artifact from pandas which is now beginning to support non-nanosecond precision values. This warning is caused by passing non-nanosecond np.datetime64 or np.timedelta64 values to the DataArray or Variable constructor; it can be silenced by converting the values to nanosecond precision ahead of time.\n",
      "\n"
     ]
    },
    {
     "name": "stdout",
     "output_type": "stream",
     "text": [
      "hey ho inbound_vessel_140 ['inbound_vessel_139']\n",
      "yo inbound_vessel_140 2019-01-13 14:32:31.955650 ['inbound_vessel_139']\n",
      "outbound_vessel_142 hap is geconvert 2019-01-13 14:40:14.915423\n",
      "left doors2 outbound_vessel_142 2019-01-13 14:44:36.026534 0 [] []\n",
      "doors requested inbound_vessel_139\n",
      "claiming lock: priority doors2 not -1 inbound_vessel_139 2019-01-13 14:44:36.026534\n",
      "waiting done inbound_vessel_139 2019-01-13 14:44:36.026534\n",
      "inbound_vessel_139 sail to assigned lock position\n",
      "print doors inbound_vessel_139 ['inbound_vessel_139'] ['inbound_vessel_139']\n",
      "left doors1 inbound_vessel_139 2019-01-13 14:55:42.693201 [] 1 ['inbound_vessel_139']\n",
      "inbound_vessel_139 in lock ['inbound_vessel_139', 'inbound_vessel_140']\n",
      "waiting for others inbound_vessel_139\n",
      "inbound_vessel_140 start waiting time 2019-01-13 15:31:12.788983\n",
      "claim the lock doors inbound_vessel_140 2019-01-13 15:31:12.788983\n",
      "lock not empty inbound_vessel_140 ['inbound_vessel_139']\n",
      "lock is ready to be entered 2019-01-13 15:31:12.788983\n",
      "lock doors claimed inbound_vessel_140 2019-01-13 15:31:12.788983\n",
      "waiting done inbound_vessel_140 2019-01-13 15:31:12.788983\n",
      "inbound_vessel_140 sail to assigned lock position\n",
      "print doors inbound_vessel_140 ['inbound_vessel_140'] ['inbound_vessel_140']\n",
      "left doors1 inbound_vessel_140 2019-01-13 15:38:37.233428 [] 1 ['inbound_vessel_140']\n",
      "inbound_vessel_140 in lock ['inbound_vessel_139', 'inbound_vessel_140']\n",
      "inbound_vessel_140 converting hap 2019-01-13 15:38:37.233428\n",
      "hi 2019-01-13 15:38:37.233428\n",
      "2019-01-13 15:38:37.233428 Node_49 Node_50 Lock doors closing start\n",
      "waiting for others done inbound_vessel_139\n",
      "hey ho outbound_vessel_143 []\n",
      "hi outbound_vessel_143 2019-01-13 15:45:55.027654 0\n"
     ]
    },
    {
     "name": "stderr",
     "output_type": "stream",
     "text": [
      "c:\\users\\floorbakker\\opentnsim\\opentnsim\\lock.py:711: UserWarning:\n",
      "\n",
      "Converting non-nanosecond precision datetime values to nanosecond precision. This behavior can eventually be relaxed in xarray, as it is an artifact from pandas which is now beginning to support non-nanosecond precision values. This warning is caused by passing non-nanosecond np.datetime64 or np.timedelta64 values to the DataArray or Variable constructor; it can be silenced by converting the values to nanosecond precision ahead of time.\n",
      "\n"
     ]
    },
    {
     "name": "stdout",
     "output_type": "stream",
     "text": [
      "inbound_vessel_140 hap is geconvert 2019-01-13 16:31:58.344539\n",
      "left doors2 inbound_vessel_140 2019-01-13 16:40:01.677872 1 [] []\n",
      "outbound_vessel_143 start waiting time 2019-01-13 16:44:35.860987\n",
      "claim the lock doors outbound_vessel_143 2019-01-13 16:44:35.860987\n",
      "lock is empty and not converting outbound_vessel_143 2019-01-13 16:44:35.860987 0 []\n",
      "lock doors claimed outbound_vessel_143 2019-01-13 16:44:35.860987\n",
      "waiting done outbound_vessel_143 2019-01-13 16:44:35.860987\n",
      "outbound_vessel_143 sail to assigned lock position\n",
      "print doors outbound_vessel_143 ['outbound_vessel_143'] ['outbound_vessel_143']\n",
      "left doors1 outbound_vessel_143 2019-01-13 16:55:42.527654 0 [] ['outbound_vessel_143']\n",
      "outbound_vessel_143 in lock ['outbound_vessel_143']\n",
      "outbound_vessel_143 converting hap 2019-01-13 16:55:42.527654\n",
      "hi 2019-01-13 16:55:42.527654\n",
      "2019-01-13 16:55:42.527654 Node_50 Node_49 Lock doors closing start\n"
     ]
    },
    {
     "name": "stderr",
     "output_type": "stream",
     "text": [
      "c:\\users\\floorbakker\\opentnsim\\opentnsim\\lock.py:711: UserWarning:\n",
      "\n",
      "Converting non-nanosecond precision datetime values to nanosecond precision. This behavior can eventually be relaxed in xarray, as it is an artifact from pandas which is now beginning to support non-nanosecond precision values. This warning is caused by passing non-nanosecond np.datetime64 or np.timedelta64 values to the DataArray or Variable constructor; it can be silenced by converting the values to nanosecond precision ahead of time.\n",
      "\n"
     ]
    },
    {
     "name": "stdout",
     "output_type": "stream",
     "text": [
      "outbound_vessel_143 hap is geconvert 2019-01-13 17:16:42.527654\n",
      "left doors2 outbound_vessel_143 2019-01-13 17:21:03.638765 0 [] []\n",
      "hey ho inbound_vessel_141 []\n",
      "hi inbound_vessel_141 2019-01-13 17:49:59.122544 0\n",
      "inbound_vessel_141 start waiting time 2019-01-13 18:48:39.955877\n",
      "claim the lock doors inbound_vessel_141 2019-01-13 18:48:39.955877\n",
      "lock is empty and not converting inbound_vessel_141 2019-01-13 18:48:39.955877 0 []\n",
      "lock doors claimed inbound_vessel_141 2019-01-13 18:48:39.955877\n",
      "waiting done inbound_vessel_141 2019-01-13 18:48:39.955877\n",
      "inbound_vessel_141 sail to assigned lock position\n",
      "print doors inbound_vessel_141 ['inbound_vessel_141'] ['inbound_vessel_141']\n",
      "left doors1 inbound_vessel_141 2019-01-13 18:59:46.622544 [] 1 ['inbound_vessel_141']\n",
      "inbound_vessel_141 in lock ['inbound_vessel_141']\n",
      "inbound_vessel_141 converting hap 2019-01-13 18:59:46.622544\n",
      "hi 2019-01-13 18:59:46.622544\n",
      "2019-01-13 18:59:46.622544 Node_49 Node_50 Lock doors closing start\n"
     ]
    },
    {
     "name": "stderr",
     "output_type": "stream",
     "text": [
      "c:\\users\\floorbakker\\opentnsim\\opentnsim\\lock.py:513: UserWarning:\n",
      "\n",
      "Converting non-nanosecond precision datetime values to nanosecond precision. This behavior can eventually be relaxed in xarray, as it is an artifact from pandas which is now beginning to support non-nanosecond precision values. This warning is caused by passing non-nanosecond np.datetime64 or np.timedelta64 values to the DataArray or Variable constructor; it can be silenced by converting the values to nanosecond precision ahead of time.\n",
      "\n",
      "c:\\users\\floorbakker\\opentnsim\\opentnsim\\lock.py:711: UserWarning:\n",
      "\n",
      "Converting non-nanosecond precision datetime values to nanosecond precision. This behavior can eventually be relaxed in xarray, as it is an artifact from pandas which is now beginning to support non-nanosecond precision values. This warning is caused by passing non-nanosecond np.datetime64 or np.timedelta64 values to the DataArray or Variable constructor; it can be silenced by converting the values to nanosecond precision ahead of time.\n",
      "\n"
     ]
    },
    {
     "name": "stdout",
     "output_type": "stream",
     "text": [
      "hey ho outbound_vessel_144 []\n",
      "hi outbound_vessel_144 2019-01-13 19:12:25.251098 0\n",
      "inbound_vessel_141 hap is geconvert 2019-01-13 19:53:46.622544\n",
      "hey ho outbound_vessel_145 ['outbound_vessel_144']\n",
      "yo outbound_vessel_145 2019-01-13 19:57:48.686635 ['outbound_vessel_144']\n",
      "left doors2 inbound_vessel_141 2019-01-13 19:58:07.733655 1 [] []\n",
      "outbound_vessel_144 start waiting time 2019-01-13 20:11:06.084431\n",
      "claim the lock doors outbound_vessel_144 2019-01-13 20:11:06.084431\n",
      "lock is empty and not converting outbound_vessel_144 2019-01-13 20:11:06.084431 0 []\n",
      "lock doors claimed outbound_vessel_144 2019-01-13 20:11:06.084431\n",
      "waiting done outbound_vessel_144 2019-01-13 20:11:06.084431\n",
      "outbound_vessel_144 sail to assigned lock position\n",
      "print doors outbound_vessel_144 ['outbound_vessel_144'] ['outbound_vessel_144']\n",
      "left doors1 outbound_vessel_144 2019-01-13 20:22:12.751098 0 [] ['outbound_vessel_144']\n",
      "outbound_vessel_144 in lock ['outbound_vessel_144', 'outbound_vessel_145']\n",
      "waiting for others outbound_vessel_144\n",
      "outbound_vessel_145 start waiting time 2019-01-13 20:56:29.519968\n",
      "claim the lock doors outbound_vessel_145 2019-01-13 20:56:29.519968\n",
      "lock not empty outbound_vessel_145 ['outbound_vessel_144']\n",
      "lock is ready to be entered 2019-01-13 20:56:29.519968\n",
      "lock doors claimed outbound_vessel_145 2019-01-13 20:56:29.519968\n",
      "waiting done outbound_vessel_145 2019-01-13 20:56:29.519968\n",
      "outbound_vessel_145 sail to assigned lock position\n",
      "print doors outbound_vessel_145 ['outbound_vessel_145'] ['outbound_vessel_145']\n",
      "left doors1 outbound_vessel_145 2019-01-13 21:03:53.964413 0 [] ['outbound_vessel_145']\n",
      "outbound_vessel_145 in lock ['outbound_vessel_144', 'outbound_vessel_145']\n",
      "outbound_vessel_145 converting hap 2019-01-13 21:03:53.964413\n",
      "hi 2019-01-13 21:03:53.964413\n",
      "2019-01-13 21:03:53.964413 Node_50 Node_49 Lock doors closing start\n",
      "waiting for others done outbound_vessel_144\n",
      "hey ho inbound_vessel_142 []\n",
      "hi inbound_vessel_142 2019-01-13 21:04:57.897570 0\n"
     ]
    },
    {
     "name": "stderr",
     "output_type": "stream",
     "text": [
      "c:\\users\\floorbakker\\opentnsim\\opentnsim\\lock.py:513: UserWarning:\n",
      "\n",
      "Converting non-nanosecond precision datetime values to nanosecond precision. This behavior can eventually be relaxed in xarray, as it is an artifact from pandas which is now beginning to support non-nanosecond precision values. This warning is caused by passing non-nanosecond np.datetime64 or np.timedelta64 values to the DataArray or Variable constructor; it can be silenced by converting the values to nanosecond precision ahead of time.\n",
      "\n",
      "c:\\users\\floorbakker\\opentnsim\\opentnsim\\lock.py:711: UserWarning:\n",
      "\n",
      "Converting non-nanosecond precision datetime values to nanosecond precision. This behavior can eventually be relaxed in xarray, as it is an artifact from pandas which is now beginning to support non-nanosecond precision values. This warning is caused by passing non-nanosecond np.datetime64 or np.timedelta64 values to the DataArray or Variable constructor; it can be silenced by converting the values to nanosecond precision ahead of time.\n",
      "\n"
     ]
    },
    {
     "name": "stdout",
     "output_type": "stream",
     "text": [
      "inbound_vessel_142 start waiting time 2019-01-13 22:03:38.730903\n",
      "claim the lock doors inbound_vessel_142 2019-01-13 22:03:38.730903\n",
      "lock not empty inbound_vessel_142 ['outbound_vessel_145']\n",
      "lock is already converting inbound_vessel_142 2019-01-13 22:03:38.730903 ['outbound_vessel_145']\n",
      "outbound_vessel_145 hap is geconvert 2019-01-13 22:05:15.075524\n",
      "left doors2 outbound_vessel_145 2019-01-13 22:13:18.408857 0 [] []\n",
      "lock doors claimed inbound_vessel_142 2019-01-13 22:13:18.408857\n",
      "first in line to claim lock inbound_vessel_142 2019-01-13 22:13:18.408857\n",
      "waiting done inbound_vessel_142 2019-01-13 22:13:18.408857\n",
      "inbound_vessel_142 sail to assigned lock position\n",
      "print doors inbound_vessel_142 ['inbound_vessel_142'] ['inbound_vessel_142']\n",
      "left doors1 inbound_vessel_142 2019-01-13 22:24:25.075524 [] 1 ['inbound_vessel_142']\n",
      "inbound_vessel_142 in lock ['inbound_vessel_142']\n",
      "inbound_vessel_142 converting hap 2019-01-13 22:24:25.075524\n",
      "hi 2019-01-13 22:24:25.075524\n",
      "2019-01-13 22:24:25.075524 Node_49 Node_50 Lock doors closing start\n",
      "outbound_vessel_146 start waiting time 2019-01-13 22:30:34.699990\n",
      "outbound_vessel_146 lock position given 2019-01-13 22:30:34.699990\n",
      "outbound_vessel_146 requested place in next lockage 2019-01-13 22:30:34.699990\n",
      "claim the lock doors outbound_vessel_146 2019-01-13 22:30:34.699990\n",
      "requesting approach: else outbound_vessel_146 2019-01-13 22:30:34.699990 1 ['inbound_vessel_142'] []\n"
     ]
    },
    {
     "name": "stderr",
     "output_type": "stream",
     "text": [
      "c:\\users\\floorbakker\\opentnsim\\opentnsim\\lock.py:711: UserWarning:\n",
      "\n",
      "Converting non-nanosecond precision datetime values to nanosecond precision. This behavior can eventually be relaxed in xarray, as it is an artifact from pandas which is now beginning to support non-nanosecond precision values. This warning is caused by passing non-nanosecond np.datetime64 or np.timedelta64 values to the DataArray or Variable constructor; it can be silenced by converting the values to nanosecond precision ahead of time.\n",
      "\n"
     ]
    },
    {
     "name": "stdout",
     "output_type": "stream",
     "text": [
      "inbound_vessel_142 hap is geconvert 2019-01-13 23:08:25.075524\n",
      "left doors2 inbound_vessel_142 2019-01-13 23:12:46.186635 1 [] []\n",
      "doors requested outbound_vessel_146\n",
      "claiming lock: priority doors2 not -1 outbound_vessel_146 2019-01-13 23:12:46.186635\n",
      "waiting done outbound_vessel_146 2019-01-13 23:12:46.186635\n",
      "outbound_vessel_146 sail to assigned lock position\n",
      "hey ho inbound_vessel_143 []\n",
      "hi inbound_vessel_143 2019-01-13 23:16:37.191302 0\n",
      "print doors outbound_vessel_146 ['outbound_vessel_146'] ['outbound_vessel_146']\n",
      "left doors1 outbound_vessel_146 2019-01-13 23:23:52.853302 0 [] ['outbound_vessel_146']\n",
      "outbound_vessel_146 in lock ['outbound_vessel_146']\n",
      "outbound_vessel_146 converting hap 2019-01-13 23:23:52.853302\n",
      "hi 2019-01-13 23:23:52.853302\n",
      "2019-01-13 23:23:52.853302 Node_50 Node_49 Lock doors closing start\n",
      "outbound_vessel_146 hap is geconvert 2019-01-13 23:43:52.853302\n",
      "left doors2 outbound_vessel_146 2019-01-13 23:48:13.964413 0 [] []\n",
      "inbound_vessel_143 start waiting time 2019-01-14 00:15:18.024635\n",
      "claim the lock doors inbound_vessel_143 2019-01-14 00:15:18.024635\n",
      "lock is empty and not converting inbound_vessel_143 2019-01-14 00:15:18.024635 0 []\n",
      "lock doors claimed inbound_vessel_143 2019-01-14 00:15:18.024635\n",
      "waiting done inbound_vessel_143 2019-01-14 00:15:18.024635\n",
      "inbound_vessel_143 sail to assigned lock position\n",
      "print doors inbound_vessel_143 ['inbound_vessel_143'] ['inbound_vessel_143']\n",
      "left doors1 inbound_vessel_143 2019-01-14 00:26:24.691302 [] 1 ['inbound_vessel_143']\n",
      "inbound_vessel_143 in lock ['inbound_vessel_143']\n",
      "inbound_vessel_143 converting hap 2019-01-14 00:26:24.691302\n",
      "hi 2019-01-14 00:26:24.691302\n",
      "2019-01-14 00:26:24.691302 Node_49 Node_50 Lock doors closing start\n",
      "hey ho outbound_vessel_147 []\n",
      "hi outbound_vessel_147 2019-01-14 00:33:29.140243 0\n"
     ]
    },
    {
     "name": "stderr",
     "output_type": "stream",
     "text": [
      "c:\\users\\floorbakker\\opentnsim\\opentnsim\\lock.py:711: UserWarning:\n",
      "\n",
      "Converting non-nanosecond precision datetime values to nanosecond precision. This behavior can eventually be relaxed in xarray, as it is an artifact from pandas which is now beginning to support non-nanosecond precision values. This warning is caused by passing non-nanosecond np.datetime64 or np.timedelta64 values to the DataArray or Variable constructor; it can be silenced by converting the values to nanosecond precision ahead of time.\n",
      "\n"
     ]
    },
    {
     "name": "stdout",
     "output_type": "stream",
     "text": [
      "inbound_vessel_143 hap is geconvert 2019-01-14 01:12:24.691302\n",
      "left doors2 inbound_vessel_143 2019-01-14 01:16:45.802413 1 [] []\n",
      "outbound_vessel_147 start waiting time 2019-01-14 01:32:09.973576\n",
      "claim the lock doors outbound_vessel_147 2019-01-14 01:32:09.973576\n",
      "lock is empty and not converting outbound_vessel_147 2019-01-14 01:32:09.973576 0 []\n",
      "lock doors claimed outbound_vessel_147 2019-01-14 01:32:09.973576\n",
      "waiting done outbound_vessel_147 2019-01-14 01:32:09.973576\n",
      "outbound_vessel_147 sail to assigned lock position\n",
      "print doors outbound_vessel_147 ['outbound_vessel_147'] ['outbound_vessel_147']\n",
      "left doors1 outbound_vessel_147 2019-01-14 01:43:16.640243 0 [] ['outbound_vessel_147']\n",
      "outbound_vessel_147 in lock ['outbound_vessel_147']\n",
      "outbound_vessel_147 converting hap 2019-01-14 01:43:16.640243\n",
      "hi 2019-01-14 01:43:16.640243\n",
      "2019-01-14 01:43:16.640243 Node_50 Node_49 Lock doors closing start\n",
      "hey ho inbound_vessel_144 []\n",
      "hi inbound_vessel_144 2019-01-14 01:48:33.669444 0\n"
     ]
    },
    {
     "name": "stderr",
     "output_type": "stream",
     "text": [
      "c:\\users\\floorbakker\\opentnsim\\opentnsim\\lock.py:711: UserWarning:\n",
      "\n",
      "Converting non-nanosecond precision datetime values to nanosecond precision. This behavior can eventually be relaxed in xarray, as it is an artifact from pandas which is now beginning to support non-nanosecond precision values. This warning is caused by passing non-nanosecond np.datetime64 or np.timedelta64 values to the DataArray or Variable constructor; it can be silenced by converting the values to nanosecond precision ahead of time.\n",
      "\n"
     ]
    },
    {
     "name": "stdout",
     "output_type": "stream",
     "text": [
      "hey ho outbound_vessel_148 ['outbound_vessel_147']\n",
      "hey ho outbound_vessel_149 ['outbound_vessel_147']\n",
      "outbound_vessel_147 hap is geconvert 2019-01-14 02:40:16.640243\n",
      "left doors2 outbound_vessel_147 2019-01-14 02:44:37.751354 0 [] []\n",
      "inbound_vessel_144 start waiting time 2019-01-14 02:47:14.502777\n",
      "claim the lock doors inbound_vessel_144 2019-01-14 02:47:14.502777\n",
      "lock is empty and not converting inbound_vessel_144 2019-01-14 02:47:14.502777 0 []\n",
      "lock doors claimed inbound_vessel_144 2019-01-14 02:47:14.502777\n",
      "waiting done inbound_vessel_144 2019-01-14 02:47:14.502777\n",
      "inbound_vessel_144 sail to assigned lock position\n",
      "outbound_vessel_148 start waiting time 2019-01-14 02:57:44.348493\n",
      "outbound_vessel_148 lock position given 2019-01-14 02:57:44.348493\n",
      "outbound_vessel_148 requested place in next lockage 2019-01-14 02:57:44.348493\n",
      "claim the lock doors outbound_vessel_148 2019-01-14 02:57:44.348493\n",
      "requesting approach: else outbound_vessel_148 2019-01-14 02:57:44.348493 1 ['inbound_vessel_144'] ['inbound_vessel_144']\n",
      "print doors inbound_vessel_144 ['inbound_vessel_144'] ['inbound_vessel_144']\n",
      "left doors1 inbound_vessel_144 2019-01-14 02:58:21.169444 [] 1 ['inbound_vessel_144']\n",
      "inbound_vessel_144 in lock ['inbound_vessel_144']\n",
      "inbound_vessel_144 converting hap 2019-01-14 02:58:21.169444\n",
      "hi 2019-01-14 02:58:21.169444\n",
      "2019-01-14 02:58:21.169444 Node_49 Node_50 Lock doors closing start\n"
     ]
    },
    {
     "name": "stderr",
     "output_type": "stream",
     "text": [
      "c:\\users\\floorbakker\\opentnsim\\opentnsim\\lock.py:711: UserWarning:\n",
      "\n",
      "Converting non-nanosecond precision datetime values to nanosecond precision. This behavior can eventually be relaxed in xarray, as it is an artifact from pandas which is now beginning to support non-nanosecond precision values. This warning is caused by passing non-nanosecond np.datetime64 or np.timedelta64 values to the DataArray or Variable constructor; it can be silenced by converting the values to nanosecond precision ahead of time.\n",
      "\n"
     ]
    },
    {
     "name": "stdout",
     "output_type": "stream",
     "text": [
      "outbound_vessel_149 start waiting time 2019-01-14 03:14:42.571854\n",
      "outbound_vessel_149 lock position given 2019-01-14 03:14:42.571854\n",
      "outbound_vessel_149 requested place in next lockage 2019-01-14 03:14:42.571854\n",
      "claim the lock doors outbound_vessel_149 2019-01-14 03:14:42.571854\n",
      "lock not empty outbound_vessel_149 ['inbound_vessel_144']\n",
      "lock is already converting outbound_vessel_149 2019-01-14 03:14:42.571854 ['inbound_vessel_144']\n",
      "inbound_vessel_144 hap is geconvert 2019-01-14 03:56:21.169444\n",
      "left doors2 inbound_vessel_144 2019-01-14 04:00:42.280555 1 [] []\n",
      "doors requested outbound_vessel_148\n",
      "claiming lock: priority doors2 not -1 outbound_vessel_148 2019-01-14 04:00:42.280555\n",
      "waiting done outbound_vessel_148 2019-01-14 04:00:42.280555\n",
      "outbound_vessel_148 sail to assigned lock position\n",
      "print doors outbound_vessel_148 ['outbound_vessel_148'] ['outbound_vessel_148']\n",
      "left doors1 outbound_vessel_148 2019-01-14 04:11:48.947222 0 ['outbound_vessel_149'] ['outbound_vessel_148']\n",
      "outbound_vessel_148 in lock ['outbound_vessel_148', 'outbound_vessel_149']\n",
      "waiting for others outbound_vessel_148\n",
      "lock doors claimed outbound_vessel_149 2019-01-14 04:11:48.947222\n",
      "second in line to claim lock outbound_vessel_149 2019-01-14 04:11:48.947222\n",
      "waiting done outbound_vessel_149 2019-01-14 04:11:48.947222\n",
      "outbound_vessel_149 sail to assigned lock position\n",
      "print doors outbound_vessel_149 ['outbound_vessel_149'] ['outbound_vessel_149']\n",
      "left doors1 outbound_vessel_149 2019-01-14 04:22:55.613889 0 [] ['outbound_vessel_149']\n",
      "outbound_vessel_149 in lock ['outbound_vessel_148', 'outbound_vessel_149']\n",
      "outbound_vessel_149 converting hap 2019-01-14 04:22:55.613889\n",
      "hi 2019-01-14 04:22:55.613889\n",
      "2019-01-14 04:22:55.613889 Node_50 Node_49 Lock doors closing start\n",
      "waiting for others done outbound_vessel_148\n"
     ]
    },
    {
     "name": "stderr",
     "output_type": "stream",
     "text": [
      "c:\\users\\floorbakker\\opentnsim\\opentnsim\\lock.py:711: UserWarning:\n",
      "\n",
      "Converting non-nanosecond precision datetime values to nanosecond precision. This behavior can eventually be relaxed in xarray, as it is an artifact from pandas which is now beginning to support non-nanosecond precision values. This warning is caused by passing non-nanosecond np.datetime64 or np.timedelta64 values to the DataArray or Variable constructor; it can be silenced by converting the values to nanosecond precision ahead of time.\n",
      "\n"
     ]
    },
    {
     "name": "stdout",
     "output_type": "stream",
     "text": [
      "hey ho inbound_vessel_145 []\n",
      "hi inbound_vessel_145 2019-01-14 05:09:32.926313 0\n",
      "outbound_vessel_149 hap is geconvert 2019-01-14 05:14:16.725000\n",
      "left doors2 outbound_vessel_149 2019-01-14 05:22:20.058333 0 [] []\n",
      "hey ho outbound_vessel_150 []\n",
      "hi outbound_vessel_150 2019-01-14 05:53:36.161515 0\n",
      "inbound_vessel_145 start waiting time 2019-01-14 06:08:13.759646\n",
      "claim the lock doors inbound_vessel_145 2019-01-14 06:08:13.759646\n",
      "lock is empty and not converting inbound_vessel_145 2019-01-14 06:08:13.759646 0 []\n",
      "lock doors claimed inbound_vessel_145 2019-01-14 06:08:13.759646\n",
      "waiting done inbound_vessel_145 2019-01-14 06:08:13.759646\n",
      "inbound_vessel_145 sail to assigned lock position\n",
      "print doors inbound_vessel_145 ['inbound_vessel_145'] ['inbound_vessel_145']\n",
      "left doors1 inbound_vessel_145 2019-01-14 06:19:20.426313 [] 1 ['inbound_vessel_145']\n",
      "inbound_vessel_145 in lock ['inbound_vessel_145']\n",
      "inbound_vessel_145 converting hap 2019-01-14 06:19:20.426313\n",
      "hi 2019-01-14 06:19:20.426313\n",
      "2019-01-14 06:19:20.426313 Node_49 Node_50 Lock doors closing start\n"
     ]
    },
    {
     "name": "stderr",
     "output_type": "stream",
     "text": [
      "c:\\users\\floorbakker\\opentnsim\\opentnsim\\lock.py:711: UserWarning:\n",
      "\n",
      "Converting non-nanosecond precision datetime values to nanosecond precision. This behavior can eventually be relaxed in xarray, as it is an artifact from pandas which is now beginning to support non-nanosecond precision values. This warning is caused by passing non-nanosecond np.datetime64 or np.timedelta64 values to the DataArray or Variable constructor; it can be silenced by converting the values to nanosecond precision ahead of time.\n",
      "\n"
     ]
    },
    {
     "name": "stdout",
     "output_type": "stream",
     "text": [
      "outbound_vessel_150 start waiting time 2019-01-14 06:52:16.994848\n",
      "claim the lock doors outbound_vessel_150 2019-01-14 06:52:16.994848\n",
      "lock not empty outbound_vessel_150 ['inbound_vessel_145']\n",
      "lock is already converting outbound_vessel_150 2019-01-14 06:52:16.994848 ['inbound_vessel_145']\n",
      "inbound_vessel_145 hap is geconvert 2019-01-14 06:58:20.426313\n",
      "left doors2 inbound_vessel_145 2019-01-14 07:02:41.537424 1 [] []\n",
      "lock doors claimed outbound_vessel_150 2019-01-14 07:02:41.537424\n",
      "first in line to claim lock outbound_vessel_150 2019-01-14 07:02:41.537424\n",
      "waiting done outbound_vessel_150 2019-01-14 07:02:41.537424\n",
      "outbound_vessel_150 sail to assigned lock position\n",
      "print doors outbound_vessel_150 ['outbound_vessel_150'] ['outbound_vessel_150']\n",
      "left doors1 outbound_vessel_150 2019-01-14 07:13:48.204091 0 [] ['outbound_vessel_150']\n",
      "outbound_vessel_150 in lock ['outbound_vessel_150']\n",
      "outbound_vessel_150 converting hap 2019-01-14 07:13:48.204091\n",
      "hi 2019-01-14 07:13:48.204091\n",
      "2019-01-14 07:13:48.204091 Node_50 Node_49 Lock doors closing start\n"
     ]
    },
    {
     "name": "stderr",
     "output_type": "stream",
     "text": [
      "c:\\users\\floorbakker\\opentnsim\\opentnsim\\lock.py:711: UserWarning:\n",
      "\n",
      "Converting non-nanosecond precision datetime values to nanosecond precision. This behavior can eventually be relaxed in xarray, as it is an artifact from pandas which is now beginning to support non-nanosecond precision values. This warning is caused by passing non-nanosecond np.datetime64 or np.timedelta64 values to the DataArray or Variable constructor; it can be silenced by converting the values to nanosecond precision ahead of time.\n",
      "\n"
     ]
    },
    {
     "name": "stdout",
     "output_type": "stream",
     "text": [
      "hey ho outbound_vessel_151 ['outbound_vessel_150']\n",
      "hey ho outbound_vessel_152 ['outbound_vessel_150']\n",
      "outbound_vessel_150 hap is geconvert 2019-01-14 08:04:48.204091\n",
      "left doors2 outbound_vessel_150 2019-01-14 08:09:09.315202 0 [] []\n",
      "outbound_vessel_151 start waiting time 2019-01-14 08:48:57.772298\n",
      "outbound_vessel_151 lock position given 2019-01-14 08:48:57.772298\n",
      "outbound_vessel_151 requested place in next lockage 2019-01-14 08:48:57.772298\n",
      "claim the lock doors outbound_vessel_151 2019-01-14 08:48:57.772298\n",
      "else: claiming lock: priority doors2 not -1 outbound_vessel_151 2019-01-14 08:48:57.772298 0\n",
      "lock doors claimed, empty conversion requested outbound_vessel_151 2019-01-14 08:48:57.772298\n",
      "outbound_vessel_151 wth\n",
      "hi 2019-01-14 08:48:57.772298\n",
      "2019-01-14 08:48:57.772298 Node_49 Node_50 Lock doors closing start\n",
      "outbound_vessel_152 start waiting time 2019-01-14 08:54:14.952052\n",
      "outbound_vessel_152 lock position given 2019-01-14 08:54:14.952052\n",
      "outbound_vessel_152 requested place in next lockage 2019-01-14 08:54:14.952052\n",
      "claim the lock doors outbound_vessel_152 2019-01-14 08:54:14.952052\n",
      "else: claiming lock: priority doors2 = -1 outbound_vessel_152 2019-01-14 08:54:14.952052 -1\n"
     ]
    },
    {
     "name": "stderr",
     "output_type": "stream",
     "text": [
      "c:\\users\\floorbakker\\opentnsim\\opentnsim\\lock.py:711: UserWarning:\n",
      "\n",
      "Converting non-nanosecond precision datetime values to nanosecond precision. This behavior can eventually be relaxed in xarray, as it is an artifact from pandas which is now beginning to support non-nanosecond precision values. This warning is caused by passing non-nanosecond np.datetime64 or np.timedelta64 values to the DataArray or Variable constructor; it can be silenced by converting the values to nanosecond precision ahead of time.\n",
      "\n"
     ]
    },
    {
     "name": "stdout",
     "output_type": "stream",
     "text": [
      "hey ho inbound_vessel_146 []\n",
      "hi inbound_vessel_146 2019-01-14 09:06:23.155627 0\n",
      "waiting done outbound_vessel_151 2019-01-14 09:47:57.772298\n",
      "outbound_vessel_151 sail to assigned lock position\n",
      "print doors outbound_vessel_151 ['outbound_vessel_151'] ['outbound_vessel_151']\n",
      "left doors1 outbound_vessel_151 2019-01-14 09:59:04.438965 0 ['outbound_vessel_152'] ['outbound_vessel_151']\n",
      "outbound_vessel_151 in lock ['outbound_vessel_151', 'outbound_vessel_152']\n",
      "waiting for others outbound_vessel_151\n",
      "lock doors claimed outbound_vessel_152 2019-01-14 09:59:04.438965\n",
      "waiting done outbound_vessel_152 2019-01-14 09:59:04.438965\n",
      "outbound_vessel_152 sail to assigned lock position\n",
      "inbound_vessel_146 start waiting time 2019-01-14 10:05:03.988960\n",
      "claim the lock doors inbound_vessel_146 2019-01-14 10:05:03.988960\n",
      "wait in lock first 2019-01-14 10:05:03.988960\n",
      "print doors outbound_vessel_152 ['outbound_vessel_152'] ['outbound_vessel_152']\n",
      "left doors1 outbound_vessel_152 2019-01-14 10:10:11.105632 0 ['inbound_vessel_146'] ['outbound_vessel_152']\n",
      "outbound_vessel_152 in lock ['outbound_vessel_151', 'outbound_vessel_152']\n",
      "requesting approach: else inbound_vessel_146 2019-01-14 10:10:11.105632 2 ['outbound_vessel_152'] []\n",
      "outbound_vessel_152 converting hap 2019-01-14 10:10:11.105632\n",
      "hi 2019-01-14 10:10:11.105632\n",
      "2019-01-14 10:10:11.105632 Node_50 Node_49 Lock doors closing start\n",
      "waiting for others done outbound_vessel_151\n"
     ]
    },
    {
     "name": "stderr",
     "output_type": "stream",
     "text": [
      "c:\\users\\floorbakker\\opentnsim\\opentnsim\\lock.py:711: UserWarning:\n",
      "\n",
      "Converting non-nanosecond precision datetime values to nanosecond precision. This behavior can eventually be relaxed in xarray, as it is an artifact from pandas which is now beginning to support non-nanosecond precision values. This warning is caused by passing non-nanosecond np.datetime64 or np.timedelta64 values to the DataArray or Variable constructor; it can be silenced by converting the values to nanosecond precision ahead of time.\n",
      "\n"
     ]
    },
    {
     "name": "stdout",
     "output_type": "stream",
     "text": [
      "outbound_vessel_152 hap is geconvert 2019-01-14 11:06:32.216743\n",
      "left doors2 outbound_vessel_152 2019-01-14 11:14:35.550076 0 [] []\n",
      "doors requested inbound_vessel_146\n",
      "claiming lock: priority doors2 not -1 inbound_vessel_146 2019-01-14 11:14:35.550076\n",
      "waiting done inbound_vessel_146 2019-01-14 11:14:35.550076\n",
      "inbound_vessel_146 sail to assigned lock position\n",
      "print doors inbound_vessel_146 ['inbound_vessel_146'] ['inbound_vessel_146']\n",
      "left doors1 inbound_vessel_146 2019-01-14 11:25:42.216743 [] 1 ['inbound_vessel_146']\n",
      "inbound_vessel_146 in lock ['inbound_vessel_146']\n",
      "inbound_vessel_146 converting hap 2019-01-14 11:25:42.216743\n",
      "hi 2019-01-14 11:25:42.216743\n",
      "2019-01-14 11:25:42.216743 Node_49 Node_50 Lock doors closing start\n",
      "outbound_vessel_153 start waiting time 2019-01-14 11:35:19.379313\n",
      "outbound_vessel_153 lock position given 2019-01-14 11:35:19.379313\n",
      "outbound_vessel_153 requested place in next lockage 2019-01-14 11:35:19.379313\n",
      "claim the lock doors outbound_vessel_153 2019-01-14 11:35:19.379313\n",
      "requesting approach: else outbound_vessel_153 2019-01-14 11:35:19.379313 1 ['inbound_vessel_146'] []\n"
     ]
    },
    {
     "name": "stderr",
     "output_type": "stream",
     "text": [
      "c:\\users\\floorbakker\\opentnsim\\opentnsim\\lock.py:711: UserWarning:\n",
      "\n",
      "Converting non-nanosecond precision datetime values to nanosecond precision. This behavior can eventually be relaxed in xarray, as it is an artifact from pandas which is now beginning to support non-nanosecond precision values. This warning is caused by passing non-nanosecond np.datetime64 or np.timedelta64 values to the DataArray or Variable constructor; it can be silenced by converting the values to nanosecond precision ahead of time.\n",
      "\n"
     ]
    },
    {
     "name": "stdout",
     "output_type": "stream",
     "text": [
      "inbound_vessel_146 hap is geconvert 2019-01-14 11:55:42.216743\n",
      "left doors2 inbound_vessel_146 2019-01-14 12:00:03.327854 1 [] []\n",
      "doors requested outbound_vessel_153\n",
      "claiming lock: priority doors2 not -1 outbound_vessel_153 2019-01-14 12:00:03.327854\n",
      "waiting done outbound_vessel_153 2019-01-14 12:00:03.327854\n",
      "outbound_vessel_153 sail to assigned lock position\n",
      "print doors outbound_vessel_153 ['outbound_vessel_153'] ['outbound_vessel_153']\n",
      "left doors1 outbound_vessel_153 2019-01-14 12:11:09.994521 0 [] ['outbound_vessel_153']\n",
      "outbound_vessel_153 in lock ['outbound_vessel_153']\n",
      "outbound_vessel_153 converting hap 2019-01-14 12:11:09.994521\n",
      "hi 2019-01-14 12:11:09.994521\n",
      "2019-01-14 12:11:09.994521 Node_50 Node_49 Lock doors closing start\n"
     ]
    },
    {
     "name": "stderr",
     "output_type": "stream",
     "text": [
      "c:\\users\\floorbakker\\opentnsim\\opentnsim\\lock.py:711: UserWarning:\n",
      "\n",
      "Converting non-nanosecond precision datetime values to nanosecond precision. This behavior can eventually be relaxed in xarray, as it is an artifact from pandas which is now beginning to support non-nanosecond precision values. This warning is caused by passing non-nanosecond np.datetime64 or np.timedelta64 values to the DataArray or Variable constructor; it can be silenced by converting the values to nanosecond precision ahead of time.\n",
      "\n"
     ]
    },
    {
     "name": "stdout",
     "output_type": "stream",
     "text": [
      "outbound_vessel_153 hap is geconvert 2019-01-14 12:41:09.994521\n",
      "left doors2 outbound_vessel_153 2019-01-14 12:45:31.105632 0 [] []\n",
      "hey ho inbound_vessel_147 []\n",
      "hi inbound_vessel_147 2019-01-14 12:54:16.640120 0\n",
      "inbound_vessel_147 start waiting time 2019-01-14 13:52:57.473453\n",
      "claim the lock doors inbound_vessel_147 2019-01-14 13:52:57.473453\n",
      "lock is empty and not converting inbound_vessel_147 2019-01-14 13:52:57.473453 0 []\n",
      "lock doors claimed inbound_vessel_147 2019-01-14 13:52:57.473453\n",
      "waiting done inbound_vessel_147 2019-01-14 13:52:57.473453\n",
      "inbound_vessel_147 sail to assigned lock position\n",
      "print doors inbound_vessel_147 ['inbound_vessel_147'] ['inbound_vessel_147']\n",
      "left doors1 inbound_vessel_147 2019-01-14 14:04:04.140120 [] 1 ['inbound_vessel_147']\n",
      "inbound_vessel_147 in lock ['inbound_vessel_147']\n",
      "inbound_vessel_147 converting hap 2019-01-14 14:04:04.140120\n",
      "hi 2019-01-14 14:04:04.140120\n",
      "2019-01-14 14:04:04.140120 Node_49 Node_50 Lock doors closing start\n",
      "hey ho outbound_vessel_154 []\n",
      "hi outbound_vessel_154 2019-01-14 14:06:51.178885 0\n",
      "hey ho inbound_vessel_148 ['inbound_vessel_147']\n",
      "hey ho inbound_vessel_149 ['inbound_vessel_147']\n"
     ]
    },
    {
     "name": "stderr",
     "output_type": "stream",
     "text": [
      "c:\\users\\floorbakker\\opentnsim\\opentnsim\\lock.py:513: UserWarning:\n",
      "\n",
      "Converting non-nanosecond precision datetime values to nanosecond precision. This behavior can eventually be relaxed in xarray, as it is an artifact from pandas which is now beginning to support non-nanosecond precision values. This warning is caused by passing non-nanosecond np.datetime64 or np.timedelta64 values to the DataArray or Variable constructor; it can be silenced by converting the values to nanosecond precision ahead of time.\n",
      "\n",
      "c:\\users\\floorbakker\\opentnsim\\opentnsim\\lock.py:711: UserWarning:\n",
      "\n",
      "Converting non-nanosecond precision datetime values to nanosecond precision. This behavior can eventually be relaxed in xarray, as it is an artifact from pandas which is now beginning to support non-nanosecond precision values. This warning is caused by passing non-nanosecond np.datetime64 or np.timedelta64 values to the DataArray or Variable constructor; it can be silenced by converting the values to nanosecond precision ahead of time.\n",
      "\n"
     ]
    },
    {
     "name": "stdout",
     "output_type": "stream",
     "text": [
      "hey ho inbound_vessel_150 ['inbound_vessel_147']\n",
      "hey ho outbound_vessel_155 ['outbound_vessel_154']\n",
      "yo outbound_vessel_155 2019-01-14 14:29:17.236442 ['outbound_vessel_154']\n",
      "inbound_vessel_147 hap is geconvert 2019-01-14 15:00:04.140120\n",
      "left doors2 inbound_vessel_147 2019-01-14 15:04:25.251231 1 [] []\n",
      "outbound_vessel_154 start waiting time 2019-01-14 15:05:32.012218\n",
      "claim the lock doors outbound_vessel_154 2019-01-14 15:05:32.012218\n",
      "lock is empty and not converting outbound_vessel_154 2019-01-14 15:05:32.012218 0 []\n",
      "lock doors claimed outbound_vessel_154 2019-01-14 15:05:32.012218\n",
      "waiting done outbound_vessel_154 2019-01-14 15:05:32.012218\n",
      "outbound_vessel_154 sail to assigned lock position\n",
      "inbound_vessel_148 start waiting time 2019-01-14 15:08:50.424228\n",
      "inbound_vessel_148 lock position given 2019-01-14 15:08:50.424228\n",
      "inbound_vessel_148 requested place in next lockage 2019-01-14 15:08:50.424228\n",
      "claim the lock doors inbound_vessel_148 2019-01-14 15:08:50.424228\n",
      "requesting approach: else inbound_vessel_148 2019-01-14 15:08:50.424228 1 ['outbound_vessel_154'] ['outbound_vessel_154']\n",
      "inbound_vessel_149 start waiting time 2019-01-14 15:11:09.552485\n",
      "inbound_vessel_149 lock position given 2019-01-14 15:11:09.552485\n",
      "inbound_vessel_149 requested place in next lockage 2019-01-14 15:11:09.552485\n",
      "claim the lock doors inbound_vessel_149 2019-01-14 15:11:09.552485\n",
      "requesting approach: else inbound_vessel_149 2019-01-14 15:11:09.552485 1 ['outbound_vessel_154'] ['outbound_vessel_154']\n",
      "print doors outbound_vessel_154 ['outbound_vessel_154'] ['outbound_vessel_154']\n",
      "left doors1 outbound_vessel_154 2019-01-14 15:16:38.678885 0 [] ['outbound_vessel_154']\n",
      "outbound_vessel_154 in lock ['outbound_vessel_154', 'outbound_vessel_155']\n",
      "waiting for others outbound_vessel_154\n",
      "outbound_vessel_155 start waiting time 2019-01-14 15:27:58.069775\n",
      "claim the lock doors outbound_vessel_155 2019-01-14 15:27:58.069775\n",
      "lock not empty outbound_vessel_155 ['outbound_vessel_154']\n",
      "lock is ready to be entered 2019-01-14 15:27:58.069775\n",
      "lock doors claimed outbound_vessel_155 2019-01-14 15:27:58.069775\n",
      "waiting done outbound_vessel_155 2019-01-14 15:27:58.069775\n",
      "outbound_vessel_155 sail to assigned lock position\n",
      "print doors outbound_vessel_155 ['outbound_vessel_155'] ['outbound_vessel_155']\n",
      "left doors1 outbound_vessel_155 2019-01-14 15:35:22.514220 0 [] ['outbound_vessel_155']\n",
      "outbound_vessel_155 in lock ['outbound_vessel_154', 'outbound_vessel_155']\n",
      "outbound_vessel_155 converting hap 2019-01-14 15:35:22.514220\n",
      "hi 2019-01-14 15:35:22.514220\n",
      "2019-01-14 15:35:22.514220 Node_50 Node_49 Lock doors closing start\n",
      "waiting for others done outbound_vessel_154\n"
     ]
    },
    {
     "name": "stderr",
     "output_type": "stream",
     "text": [
      "c:\\users\\floorbakker\\opentnsim\\opentnsim\\lock.py:711: UserWarning:\n",
      "\n",
      "Converting non-nanosecond precision datetime values to nanosecond precision. This behavior can eventually be relaxed in xarray, as it is an artifact from pandas which is now beginning to support non-nanosecond precision values. This warning is caused by passing non-nanosecond np.datetime64 or np.timedelta64 values to the DataArray or Variable constructor; it can be silenced by converting the values to nanosecond precision ahead of time.\n",
      "\n"
     ]
    },
    {
     "name": "stdout",
     "output_type": "stream",
     "text": [
      "outbound_vessel_155 hap is geconvert 2019-01-14 16:36:43.625331\n",
      "left doors2 outbound_vessel_155 2019-01-14 16:44:46.958664 0 [] []\n",
      "doors requested inbound_vessel_148\n",
      "claiming lock: priority doors2 not -1 inbound_vessel_148 2019-01-14 16:44:46.958664\n",
      "waiting done inbound_vessel_148 2019-01-14 16:44:46.958664\n",
      "inbound_vessel_148 sail to assigned lock position\n",
      "print doors inbound_vessel_148 ['inbound_vessel_148'] ['inbound_vessel_148']\n",
      "left doors1 inbound_vessel_148 2019-01-14 16:55:53.625331 ['inbound_vessel_149'] 1 ['inbound_vessel_148']\n",
      "inbound_vessel_148 in lock ['inbound_vessel_148', 'inbound_vessel_149']\n",
      "waiting for others inbound_vessel_148\n",
      "doors requested inbound_vessel_149\n",
      "claiming lock: priority doors2 is -1 inbound_vessel_149 2019-01-14 16:55:53.625331\n",
      "waiting done inbound_vessel_149 2019-01-14 16:55:53.625331\n",
      "inbound_vessel_149 sail to assigned lock position\n",
      "inbound_vessel_150 start waiting time 2019-01-14 17:06:04.736442\n",
      "wait for lockage True ['inbound_vessel_148', 'inbound_vessel_149'] False\n",
      "print doors inbound_vessel_149 ['inbound_vessel_149'] ['inbound_vessel_149']\n",
      "left doors1 inbound_vessel_149 2019-01-14 17:07:00.291998 [] 1 ['inbound_vessel_149']\n",
      "inbound_vessel_149 in lock ['inbound_vessel_148', 'inbound_vessel_149']\n",
      "inbound_vessel_149 converting hap 2019-01-14 17:07:00.291998\n",
      "hi 2019-01-14 17:07:00.291998\n",
      "2019-01-14 17:07:00.291998 Node_49 Node_50 Lock doors closing start\n",
      "waiting for others done inbound_vessel_148\n"
     ]
    },
    {
     "name": "stderr",
     "output_type": "stream",
     "text": [
      "c:\\users\\floorbakker\\opentnsim\\opentnsim\\lock.py:711: UserWarning:\n",
      "\n",
      "Converting non-nanosecond precision datetime values to nanosecond precision. This behavior can eventually be relaxed in xarray, as it is an artifact from pandas which is now beginning to support non-nanosecond precision values. This warning is caused by passing non-nanosecond np.datetime64 or np.timedelta64 values to the DataArray or Variable constructor; it can be silenced by converting the values to nanosecond precision ahead of time.\n",
      "\n"
     ]
    },
    {
     "name": "stdout",
     "output_type": "stream",
     "text": [
      "inbound_vessel_149 hap is geconvert 2019-01-14 17:53:21.403109\n",
      "inbound_vessel_151 start waiting time 2019-01-14 17:53:54.472737\n",
      "wait for lockage True ['inbound_vessel_149'] True\n",
      "inbound_vessel_150 lock position given 2019-01-14 17:58:54.736442\n",
      "inbound_vessel_150 requested place in next lockage 2019-01-14 17:58:54.736442\n",
      "claim the lock doors inbound_vessel_150 2019-01-14 17:58:54.736442\n",
      "else: claiming lock: priority doors2 = -1 inbound_vessel_150 2019-01-14 17:58:54.736442 -1\n",
      "inbound_vessel_151 lock position given 2019-01-14 17:58:54.736442\n",
      "inbound_vessel_151 requested place in next lockage 2019-01-14 17:58:54.736442\n",
      "claim the lock doors inbound_vessel_151 2019-01-14 17:58:54.736442\n",
      "else: claiming lock: priority doors2 = -1 inbound_vessel_151 2019-01-14 17:58:54.736442 -1\n",
      "lock doors claimed inbound_vessel_150 2019-01-14 17:58:54.736442\n",
      "inbound_vessel_150 wth\n",
      "hi 2019-01-14 17:58:54.736442\n",
      "2019-01-14 17:58:54.736442 Node_50 Node_49 Lock doors closing start\n",
      "hey ho outbound_vessel_156 []\n",
      "hi outbound_vessel_156 2019-01-14 18:01:36.715590 0\n"
     ]
    },
    {
     "name": "stderr",
     "output_type": "stream",
     "text": [
      "c:\\users\\floorbakker\\opentnsim\\opentnsim\\lock.py:711: UserWarning:\n",
      "\n",
      "Converting non-nanosecond precision datetime values to nanosecond precision. This behavior can eventually be relaxed in xarray, as it is an artifact from pandas which is now beginning to support non-nanosecond precision values. This warning is caused by passing non-nanosecond np.datetime64 or np.timedelta64 values to the DataArray or Variable constructor; it can be silenced by converting the values to nanosecond precision ahead of time.\n",
      "\n"
     ]
    },
    {
     "name": "stdout",
     "output_type": "stream",
     "text": [
      "waiting done inbound_vessel_150 2019-01-14 18:19:54.736442\n",
      "inbound_vessel_150 sail to assigned lock position\n",
      "print doors inbound_vessel_150 ['inbound_vessel_150'] ['inbound_vessel_150']\n",
      "left doors1 inbound_vessel_150 2019-01-14 18:25:28.069776 ['inbound_vessel_151'] 1 ['inbound_vessel_150']\n",
      "inbound_vessel_150 in lock ['inbound_vessel_150', 'inbound_vessel_151']\n",
      "waiting for others inbound_vessel_150\n",
      "lock doors claimed inbound_vessel_151 2019-01-14 18:25:28.069776\n",
      "waiting done inbound_vessel_151 2019-01-14 18:25:28.069776\n",
      "inbound_vessel_151 sail to assigned lock position\n",
      "inbound_vessel_152 start waiting time 2019-01-14 18:35:39.180887\n",
      "wait for lockage True ['inbound_vessel_150', 'inbound_vessel_151'] False\n",
      "print doors inbound_vessel_151 ['inbound_vessel_151'] ['inbound_vessel_151']\n",
      "left doors1 inbound_vessel_151 2019-01-14 18:36:34.736443 [] 1 ['inbound_vessel_151']\n",
      "inbound_vessel_151 in lock ['inbound_vessel_150', 'inbound_vessel_151']\n",
      "inbound_vessel_151 converting hap 2019-01-14 18:36:34.736443\n",
      "hi 2019-01-14 18:36:34.736443\n",
      "2019-01-14 18:36:34.736443 Node_49 Node_50 Lock doors closing start\n",
      "waiting for others done inbound_vessel_150\n"
     ]
    },
    {
     "name": "stderr",
     "output_type": "stream",
     "text": [
      "c:\\users\\floorbakker\\opentnsim\\opentnsim\\lock.py:711: UserWarning:\n",
      "\n",
      "Converting non-nanosecond precision datetime values to nanosecond precision. This behavior can eventually be relaxed in xarray, as it is an artifact from pandas which is now beginning to support non-nanosecond precision values. This warning is caused by passing non-nanosecond np.datetime64 or np.timedelta64 values to the DataArray or Variable constructor; it can be silenced by converting the values to nanosecond precision ahead of time.\n",
      "\n"
     ]
    },
    {
     "name": "stdout",
     "output_type": "stream",
     "text": [
      "outbound_vessel_156 start waiting time 2019-01-14 19:00:17.548923\n",
      "claim the lock doors outbound_vessel_156 2019-01-14 19:00:17.548923\n",
      "lock not empty outbound_vessel_156 ['inbound_vessel_150', 'inbound_vessel_151']\n",
      "lock is already converting outbound_vessel_156 2019-01-14 19:00:17.548923 ['inbound_vessel_150', 'inbound_vessel_151']\n",
      "inbound_vessel_151 hap is geconvert 2019-01-14 19:22:29.180887\n",
      "inbound_vessel_152 lock position given 2019-01-14 19:28:02.514220\n",
      "inbound_vessel_152 requested place in next lockage 2019-01-14 19:28:02.514220\n",
      "claim the lock doors inbound_vessel_152 2019-01-14 19:28:02.514220\n",
      "requesting approach: else inbound_vessel_152 2019-01-14 19:28:02.514220 0 [] ['inbound_vessel_151']\n",
      "doors requested inbound_vessel_152\n",
      "claiming lock: priority doors2 is -1 inbound_vessel_152 2019-01-14 19:28:02.514220\n",
      "inbound_vessel_152 wth\n",
      "hi 2019-01-14 19:28:02.514220\n",
      "2019-01-14 19:28:02.514220 Node_50 Node_49 Lock doors closing start\n"
     ]
    },
    {
     "name": "stderr",
     "output_type": "stream",
     "text": [
      "c:\\users\\floorbakker\\opentnsim\\opentnsim\\lock.py:711: UserWarning:\n",
      "\n",
      "Converting non-nanosecond precision datetime values to nanosecond precision. This behavior can eventually be relaxed in xarray, as it is an artifact from pandas which is now beginning to support non-nanosecond precision values. This warning is caused by passing non-nanosecond np.datetime64 or np.timedelta64 values to the DataArray or Variable constructor; it can be silenced by converting the values to nanosecond precision ahead of time.\n",
      "\n"
     ]
    },
    {
     "name": "stdout",
     "output_type": "stream",
     "text": [
      "hey ho inbound_vessel_153 ['inbound_vessel_152']\n",
      "yo inbound_vessel_153 2019-01-14 19:45:48.779402 ['inbound_vessel_152']\n",
      "waiting done inbound_vessel_152 2019-01-14 20:17:02.514220\n",
      "inbound_vessel_152 sail to assigned lock position\n",
      "print doors inbound_vessel_152 ['inbound_vessel_152'] ['inbound_vessel_152']\n",
      "left doors1 inbound_vessel_152 2019-01-14 20:28:09.180887 [] 1 ['inbound_vessel_152']\n",
      "inbound_vessel_152 in lock ['inbound_vessel_152', 'inbound_vessel_153']\n",
      "waiting for others inbound_vessel_152\n",
      "inbound_vessel_153 start waiting time 2019-01-14 20:44:29.612735\n",
      "claim the lock doors inbound_vessel_153 2019-01-14 20:44:29.612735\n",
      "lock not empty inbound_vessel_153 ['inbound_vessel_152']\n",
      "lock is ready to be entered 2019-01-14 20:44:29.612735\n",
      "lock doors claimed inbound_vessel_153 2019-01-14 20:44:29.612735\n",
      "waiting done inbound_vessel_153 2019-01-14 20:44:29.612735\n",
      "inbound_vessel_153 sail to assigned lock position\n",
      "print doors inbound_vessel_153 ['inbound_vessel_153'] ['inbound_vessel_153']\n",
      "left doors1 inbound_vessel_153 2019-01-14 20:51:54.057180 [] 1 ['inbound_vessel_153']\n",
      "inbound_vessel_153 in lock ['inbound_vessel_152', 'inbound_vessel_153']\n",
      "inbound_vessel_153 converting hap 2019-01-14 20:51:54.057180\n",
      "hi 2019-01-14 20:51:54.057180\n",
      "2019-01-14 20:51:54.057180 Node_49 Node_50 Lock doors closing start\n",
      "waiting for others done inbound_vessel_152\n"
     ]
    },
    {
     "name": "stderr",
     "output_type": "stream",
     "text": [
      "c:\\users\\floorbakker\\opentnsim\\opentnsim\\lock.py:711: UserWarning:\n",
      "\n",
      "Converting non-nanosecond precision datetime values to nanosecond precision. This behavior can eventually be relaxed in xarray, as it is an artifact from pandas which is now beginning to support non-nanosecond precision values. This warning is caused by passing non-nanosecond np.datetime64 or np.timedelta64 values to the DataArray or Variable constructor; it can be silenced by converting the values to nanosecond precision ahead of time.\n",
      "\n"
     ]
    },
    {
     "name": "stdout",
     "output_type": "stream",
     "text": [
      "hey ho outbound_vessel_157 ['outbound_vessel_156']\n",
      "yo outbound_vessel_157 2019-01-14 21:08:40.013824 ['outbound_vessel_156']\n",
      "inbound_vessel_153 hap is geconvert 2019-01-14 21:55:15.168291\n",
      "left doors2 inbound_vessel_153 2019-01-14 22:03:18.501624 1 [] []\n",
      "lock doors claimed outbound_vessel_156 2019-01-14 22:03:18.501624\n",
      "first in line to claim lock outbound_vessel_156 2019-01-14 22:03:18.501624\n",
      "waiting done outbound_vessel_156 2019-01-14 22:03:18.501624\n",
      "outbound_vessel_156 sail to assigned lock position\n",
      "outbound_vessel_157 start waiting time 2019-01-14 22:07:20.847157\n",
      "claim the lock doors outbound_vessel_157 2019-01-14 22:07:20.847157\n",
      "lock not empty outbound_vessel_157 ['outbound_vessel_156']\n",
      "lock is ready to be entered 2019-01-14 22:07:20.847157\n",
      "print doors outbound_vessel_156 ['outbound_vessel_156'] ['outbound_vessel_156']\n",
      "left doors1 outbound_vessel_156 2019-01-14 22:14:25.168291 0 ['outbound_vessel_157'] ['outbound_vessel_156']\n",
      "outbound_vessel_156 in lock ['outbound_vessel_156', 'outbound_vessel_157']\n",
      "waiting for others outbound_vessel_156\n",
      "lock doors claimed outbound_vessel_157 2019-01-14 22:14:25.168291\n",
      "waiting done outbound_vessel_157 2019-01-14 22:14:25.168291\n",
      "outbound_vessel_157 sail to assigned lock position\n",
      "print doors outbound_vessel_157 ['outbound_vessel_157'] ['outbound_vessel_157']\n",
      "left doors1 outbound_vessel_157 2019-01-14 22:21:49.612736 0 [] ['outbound_vessel_157']\n",
      "outbound_vessel_157 in lock ['outbound_vessel_156', 'outbound_vessel_157']\n",
      "outbound_vessel_157 converting hap 2019-01-14 22:21:49.612736\n",
      "hi 2019-01-14 22:21:49.612736\n",
      "2019-01-14 22:21:49.612736 Node_50 Node_49 Lock doors closing start\n",
      "waiting for others done outbound_vessel_156\n"
     ]
    },
    {
     "name": "stderr",
     "output_type": "stream",
     "text": [
      "c:\\users\\floorbakker\\opentnsim\\opentnsim\\lock.py:711: UserWarning:\n",
      "\n",
      "Converting non-nanosecond precision datetime values to nanosecond precision. This behavior can eventually be relaxed in xarray, as it is an artifact from pandas which is now beginning to support non-nanosecond precision values. This warning is caused by passing non-nanosecond np.datetime64 or np.timedelta64 values to the DataArray or Variable constructor; it can be silenced by converting the values to nanosecond precision ahead of time.\n",
      "\n"
     ]
    },
    {
     "name": "stdout",
     "output_type": "stream",
     "text": [
      "hey ho inbound_vessel_154 []\n",
      "hi inbound_vessel_154 2019-01-14 23:15:29.394466 0\n",
      "outbound_vessel_157 hap is geconvert 2019-01-14 23:21:10.723847\n",
      "left doors2 outbound_vessel_157 2019-01-14 23:29:14.057180 0 [] []\n",
      "473.5065190792084\n"
     ]
    }
   ],
   "source": [
    "t1 = timepy.time()\n",
    "sim.run()\n",
    "t2 = timepy.time()\n",
    "print(t2-t1)"
   ]
  },
  {
   "cell_type": "code",
   "execution_count": null,
   "id": "3690e33a",
   "metadata": {},
   "outputs": [],
   "source": []
  },
  {
   "cell_type": "code",
   "execution_count": 18,
   "id": "7c67df98",
   "metadata": {},
   "outputs": [
    {
     "data": {
      "text/plain": [
       "98"
      ]
     },
     "execution_count": 18,
     "metadata": {},
     "output_type": "execute_result"
    }
   ],
   "source": [
    "len(hydrodynamic_data['Salinity'])"
   ]
  },
  {
   "cell_type": "code",
   "execution_count": 19,
   "id": "3da2ac84",
   "metadata": {},
   "outputs": [
    {
     "data": {
      "text/plain": [
       "2016"
      ]
     },
     "execution_count": 19,
     "metadata": {},
     "output_type": "execute_result"
    }
   ],
   "source": [
    "len(hydrodynamic_data.TIME)"
   ]
  },
  {
   "cell_type": "code",
   "execution_count": 20,
   "id": "763f7f5d",
   "metadata": {},
   "outputs": [
    {
     "data": {
      "text/html": [
       "<div>\n",
       "<style scoped>\n",
       "    .dataframe tbody tr th:only-of-type {\n",
       "        vertical-align: middle;\n",
       "    }\n",
       "\n",
       "    .dataframe tbody tr th {\n",
       "        vertical-align: top;\n",
       "    }\n",
       "\n",
       "    .dataframe thead th {\n",
       "        text-align: right;\n",
       "    }\n",
       "</style>\n",
       "<table border=\"1\" class=\"dataframe\">\n",
       "  <thead>\n",
       "    <tr style=\"text-align: right;\">\n",
       "      <th></th>\n",
       "      <th>Time</th>\n",
       "      <th>Location</th>\n",
       "      <th>Action</th>\n",
       "      <th>Status</th>\n",
       "    </tr>\n",
       "  </thead>\n",
       "  <tbody>\n",
       "    <tr>\n",
       "      <th>1580</th>\n",
       "      <td>2019-01-14 19:38:02.514220</td>\n",
       "      <td>Node_50</td>\n",
       "      <td>Lock chamber converting start</td>\n",
       "      <td>{}</td>\n",
       "    </tr>\n",
       "    <tr>\n",
       "      <th>1581</th>\n",
       "      <td>2019-01-14 20:07:02.514220</td>\n",
       "      <td>Node_49</td>\n",
       "      <td>Lock chamber converting stop</td>\n",
       "      <td>{}</td>\n",
       "    </tr>\n",
       "    <tr>\n",
       "      <th>1582</th>\n",
       "      <td>2019-01-14 20:07:02.514220</td>\n",
       "      <td>Node_49</td>\n",
       "      <td>Lock doors opening start</td>\n",
       "      <td>{}</td>\n",
       "    </tr>\n",
       "    <tr>\n",
       "      <th>1583</th>\n",
       "      <td>2019-01-14 20:17:02.514220</td>\n",
       "      <td>Node_49</td>\n",
       "      <td>Lock doors opening stop</td>\n",
       "      <td>{}</td>\n",
       "    </tr>\n",
       "    <tr>\n",
       "      <th>1584</th>\n",
       "      <td>2019-01-14 20:51:54.057180</td>\n",
       "      <td>Node_49</td>\n",
       "      <td>Lock doors closing start</td>\n",
       "      <td>{}</td>\n",
       "    </tr>\n",
       "    <tr>\n",
       "      <th>1585</th>\n",
       "      <td>2019-01-14 21:01:54.057180</td>\n",
       "      <td>Node_49</td>\n",
       "      <td>Lock doors closing stop</td>\n",
       "      <td>{}</td>\n",
       "    </tr>\n",
       "    <tr>\n",
       "      <th>1586</th>\n",
       "      <td>2019-01-14 21:01:54.057180</td>\n",
       "      <td>Node_49</td>\n",
       "      <td>Lock chamber converting start</td>\n",
       "      <td>{}</td>\n",
       "    </tr>\n",
       "    <tr>\n",
       "      <th>1587</th>\n",
       "      <td>2019-01-14 21:40:54.057180</td>\n",
       "      <td>Node_50</td>\n",
       "      <td>Lock chamber converting stop</td>\n",
       "      <td>{}</td>\n",
       "    </tr>\n",
       "    <tr>\n",
       "      <th>1588</th>\n",
       "      <td>2019-01-14 21:40:54.057180</td>\n",
       "      <td>Node_50</td>\n",
       "      <td>Lock doors opening start</td>\n",
       "      <td>{}</td>\n",
       "    </tr>\n",
       "    <tr>\n",
       "      <th>1589</th>\n",
       "      <td>2019-01-14 21:50:54.057180</td>\n",
       "      <td>Node_50</td>\n",
       "      <td>Lock doors opening stop</td>\n",
       "      <td>{}</td>\n",
       "    </tr>\n",
       "    <tr>\n",
       "      <th>1590</th>\n",
       "      <td>2019-01-14 22:21:49.612736</td>\n",
       "      <td>Node_50</td>\n",
       "      <td>Lock doors closing start</td>\n",
       "      <td>{}</td>\n",
       "    </tr>\n",
       "    <tr>\n",
       "      <th>1591</th>\n",
       "      <td>2019-01-14 22:31:49.612736</td>\n",
       "      <td>Node_50</td>\n",
       "      <td>Lock doors closing stop</td>\n",
       "      <td>{}</td>\n",
       "    </tr>\n",
       "    <tr>\n",
       "      <th>1592</th>\n",
       "      <td>2019-01-14 22:31:49.612736</td>\n",
       "      <td>Node_50</td>\n",
       "      <td>Lock chamber converting start</td>\n",
       "      <td>{}</td>\n",
       "    </tr>\n",
       "    <tr>\n",
       "      <th>1593</th>\n",
       "      <td>2019-01-14 23:06:49.612736</td>\n",
       "      <td>Node_49</td>\n",
       "      <td>Lock chamber converting stop</td>\n",
       "      <td>{}</td>\n",
       "    </tr>\n",
       "    <tr>\n",
       "      <th>1594</th>\n",
       "      <td>2019-01-14 23:06:49.612736</td>\n",
       "      <td>Node_49</td>\n",
       "      <td>Lock doors opening start</td>\n",
       "      <td>{}</td>\n",
       "    </tr>\n",
       "    <tr>\n",
       "      <th>1595</th>\n",
       "      <td>2019-01-14 23:16:49.612736</td>\n",
       "      <td>Node_49</td>\n",
       "      <td>Lock doors opening stop</td>\n",
       "      <td>{}</td>\n",
       "    </tr>\n",
       "  </tbody>\n",
       "</table>\n",
       "</div>"
      ],
      "text/plain": [
       "                           Time Location                         Action Status\n",
       "1580 2019-01-14 19:38:02.514220  Node_50  Lock chamber converting start     {}\n",
       "1581 2019-01-14 20:07:02.514220  Node_49   Lock chamber converting stop     {}\n",
       "1582 2019-01-14 20:07:02.514220  Node_49       Lock doors opening start     {}\n",
       "1583 2019-01-14 20:17:02.514220  Node_49        Lock doors opening stop     {}\n",
       "1584 2019-01-14 20:51:54.057180  Node_49       Lock doors closing start     {}\n",
       "1585 2019-01-14 21:01:54.057180  Node_49        Lock doors closing stop     {}\n",
       "1586 2019-01-14 21:01:54.057180  Node_49  Lock chamber converting start     {}\n",
       "1587 2019-01-14 21:40:54.057180  Node_50   Lock chamber converting stop     {}\n",
       "1588 2019-01-14 21:40:54.057180  Node_50       Lock doors opening start     {}\n",
       "1589 2019-01-14 21:50:54.057180  Node_50        Lock doors opening stop     {}\n",
       "1590 2019-01-14 22:21:49.612736  Node_50       Lock doors closing start     {}\n",
       "1591 2019-01-14 22:31:49.612736  Node_50        Lock doors closing stop     {}\n",
       "1592 2019-01-14 22:31:49.612736  Node_50  Lock chamber converting start     {}\n",
       "1593 2019-01-14 23:06:49.612736  Node_49   Lock chamber converting stop     {}\n",
       "1594 2019-01-14 23:06:49.612736  Node_49       Lock doors opening start     {}\n",
       "1595 2019-01-14 23:16:49.612736  Node_49        Lock doors opening stop     {}"
      ]
     },
     "execution_count": 20,
     "metadata": {},
     "output_type": "execute_result"
    }
   ],
   "source": [
    "lock_df = pd.DataFrame(lock_1.log)\n",
    "lock_df.tail(n=16)"
   ]
  },
  {
   "cell_type": "code",
   "execution_count": 21,
   "id": "deaaa9fb",
   "metadata": {},
   "outputs": [],
   "source": [
    "vessels = sim.environment.vessels"
   ]
  },
  {
   "cell_type": "code",
   "execution_count": 22,
   "id": "9b039d59",
   "metadata": {},
   "outputs": [],
   "source": [
    "times = []\n",
    "distances = []\n",
    "positions = []\n",
    "\n",
    "for _vessel_ in vessels:\n",
    "    sailed_edges = []\n",
    "    for edge in zip(_vessel_.route[:-1],_vessel_.route[1:]):\n",
    "        sailed_edges.append(_vessel_.env.FG.edges[edge[0],edge[1],0]['geometry'])\n",
    "\n",
    "    for loc,geom in enumerate(sailed_edges):\n",
    "        if loc:\n",
    "            multi_line = shapely.geometry.MultiLineString([final_geometry, geom])\n",
    "            final_geometry = shapely.ops.linemerge(multi_line)\n",
    "        else:\n",
    "            final_geometry = geom\n",
    "            \n",
    "    vessel_time = []\n",
    "    vessel_locations = []\n",
    "    for loc,message in pd.DataFrame(_vessel_.log).iterrows():\n",
    "        vessel_time.append(message.Time)\n",
    "        vessel_locations.append(message.Location)\n",
    "    \n",
    "    vessel_distance = []\n",
    "    for loc,location in enumerate(vessel_locations):\n",
    "        if not loc:\n",
    "            vessel_distance.append(0)\n",
    "            continue\n",
    "            \n",
    "        geometries = split(snap(final_geometry, location, tolerance=100), location).geoms\n",
    "        if len(geometries) > 1:\n",
    "            vessel_distance.append(geometries[0].length)\n",
    "        else:\n",
    "            if loc >= len(vessel_locations)-2:\n",
    "                vessel_distance.append(geometries[0].length)\n",
    "            else:\n",
    "                vessel_distance.append(vessel_distance[-1])\n",
    "    \n",
    "    if _vessel_.route[0] == 'Node_98':\n",
    "        vessel_distance = [final_geometry.length-distance for distance in vessel_distance]\n",
    "        \n",
    "    times.append(vessel_time)\n",
    "    distances.append(vessel_distance)\n",
    "    positions.append(vessel_locations)"
   ]
  },
  {
   "cell_type": "code",
   "execution_count": 23,
   "id": "adf53498",
   "metadata": {},
   "outputs": [
    {
     "data": {
      "image/png": "[encoded data removed]",
      "text/plain": [
       "<Figure size 1000x600 with 4 Axes>"
      ]
     },
     "metadata": {},
     "output_type": "display_data"
    }
   ],
   "source": [
    "delays = False\n",
    "entering_leaving = False\n",
    "\n",
    "distance_to_lock_edge_start = lock_1.env.vessel_traffic_service.provide_sailing_distance_over_route(vessels[0],nx.dijkstra_path(FG,'Node_1','Node_49'))['Distance'].sum()\n",
    "distance_to_lock_edge_end = lock_1.env.vessel_traffic_service.provide_sailing_distance_over_route(vessels[0],nx.dijkstra_path(FG,'Node_1','Node_50'))['Distance'].sum()\n",
    "lock_outer_doors = distance_to_lock_edge_start+lock_1.distance_doors1_from_first_waiting_area\n",
    "lock_inner_doors = distance_to_lock_edge_end-lock_1.distance_doors1_from_first_waiting_area\n",
    "lineup_1_start = lock_outer_doors - lineup_area_1.distance_to_lock_doors - lineup_area_1.lineup_length\n",
    "lineup_1_end = lock_outer_doors - lineup_area_1.distance_to_lock_doors\n",
    "lineup_2_start = lock_inner_doors + lineup_area_2.distance_to_lock_doors + lineup_area_2.lineup_length\n",
    "lineup_2_end = lock_inner_doors + lineup_area_2.distance_to_lock_doors\n",
    "\n",
    "fig,axes = plt.subplots(1,4,figsize=[10,6],gridspec_kw = {'width_ratios':[5,1,1,1]})\n",
    "ax = axes[0]\n",
    "for time,distance in zip(times,distances):\n",
    "    ax.plot(distance,time,linewidth=3,zorder=3)\n",
    "vessel1, = ax.plot([-1,-1],color='C0',linewidth=3)\n",
    "vessel2, = ax.plot([-1,-1],color='C1',linewidth=3)\n",
    "for _vessel_ in vessels:\n",
    "    vessel_df = pd.DataFrame(_vessel_.log)\n",
    "    if len(vessel_df) < 120:\n",
    "        continue\n",
    "    arrival_time = datetime.datetime.fromtimestamp(_vessel_.arrival_time)\n",
    "    if _vessel_.route[0] == 'Node_98':\n",
    "        sail_in_time_vessel_2 = pd.DataFrame(_vessel_.log).loc[_vessel_.log['Action'].index('Sailing to first set of lock doors stop')].Time\n",
    "        sail_out_time_vessel_2 = pd.DataFrame(_vessel_.log).loc[_vessel_.log['Action'].index('Sailing to second set of lock doors stop')].Time\n",
    "        if entering_leaving:\n",
    "            ax.plot(lock_inner_doors-40,sail_in_time_vessel_2+pd.Timedelta(40/4,'s'),'C1',marker='<',markersize=8)\n",
    "            ax.plot(lock_outer_doors-40,sail_out_time_vessel_2+pd.Timedelta(40/4,'s'),'C1',marker='<',markersize=8)\n",
    "        if delays:\n",
    "            ax.plot([final_geometry.length,0],[arrival_time,arrival_time+pd.Timedelta(int(final_geometry.length/4),'s')],color='C1',linestyle='--',linewidth=2)\n",
    "            passage_lineup_start = vessel_df.loc[_vessel_.log['Action'].index('Sailing to line-up area start')].Time\n",
    "            passage_lineup_stop = vessel_df.loc[_vessel_.log['Action'].index('Sailing to line-up area stop')].Time\n",
    "            delayed_arrival = 0.8*(passage_lineup_stop-passage_lineup_start)+passage_lineup_start\n",
    "            normal_arrival = pd.Timedelta((distance_to_lock_edge_start+2000*0.8)/4,'s')+datetime.datetime.fromtimestamp(_vessel_.arrival_time)\n",
    "            annotate_location = 0.8*(lineup_1_start-lineup_1_end)+lineup_1_end\n",
    "            ax.annotate('', xy=(annotate_location, delayed_arrival), xycoords='data',\n",
    "                        xytext=(annotate_location, normal_arrival), textcoords='data',\n",
    "                        arrowprops={'arrowstyle': '<->'})\n",
    "            waiting_time = pd.Timedelta(int((delayed_arrival-normal_arrival).total_seconds()/60),'min')\n",
    "            hours,remainder = divmod(waiting_time.seconds, 3600)\n",
    "            minutes,_ = divmod(remainder, 60)\n",
    "            annotate_text_location = 0.5*(delayed_arrival-normal_arrival)+normal_arrival\n",
    "            ax.annotate(r'$\\mathbf{Delay\\ time}$'+':\\n'+'{:02} hrs {:02} mins'.format(int(hours), int(minutes)), xy=(50+annotate_location,annotate_text_location),\n",
    "                        xycoords='data',xytext=(5, 0), textcoords='offset points', rotation=90,verticalalignment='center',horizontalalignment='center',color='C1')        \n",
    "\n",
    "    else:\n",
    "        sail_in_time_vessel_1 = pd.DataFrame(_vessel_.log).loc[_vessel_.log['Action'].index('Sailing to first set of lock doors stop')].Time\n",
    "        sail_out_time_vessel_1 = pd.DataFrame(_vessel_.log).loc[_vessel_.log['Action'].index('Sailing to second set of lock doors stop')].Time\n",
    "        if entering_leaving:\n",
    "            ax.plot(lock_outer_doors+40,sail_in_time_vessel_1+pd.Timedelta(40/4,'s'),'C0',marker='>',markersize=8)\n",
    "            ax.plot(lock_inner_doors+40,sail_out_time_vessel_1+pd.Timedelta(40/4,'s'),'C0',marker='>',markersize=8)\n",
    "        if delays:\n",
    "            ax.plot([0,final_geometry.length],[arrival_time,arrival_time+pd.Timedelta(int(final_geometry.length/4),'s')],color='C0',linestyle='--',linewidth=2)\n",
    "            passage_lineup_start = vessel_df.loc[_vessel_.log['Action'].index('Sailing to line-up area start')].Time\n",
    "            passage_lineup_stop = vessel_df.loc[_vessel_.log['Action'].index('Sailing to line-up area stop')].Time\n",
    "            delayed_arrival = 0.8*(passage_lineup_stop-passage_lineup_start)+passage_lineup_start\n",
    "            normal_arrival = pd.Timedelta((distance_to_lock_edge_start+2000*0.8)/4,'s')+datetime.datetime.fromtimestamp(_vessel_.arrival_time)\n",
    "            annotate_location = 0.8*(lineup_2_start-lineup_2_end)+lineup_2_end\n",
    "            ax.annotate('', xy=(annotate_location, delayed_arrival), xycoords='data',\n",
    "                        xytext=(annotate_location, normal_arrival), textcoords='data',\n",
    "                        arrowprops={'arrowstyle': '<->'})\n",
    "            waiting_time = pd.Timedelta(int((delayed_arrival-normal_arrival).total_seconds()/60),'min')\n",
    "            hours,remainder = divmod(waiting_time.seconds, 3600)\n",
    "            minutes,_ = divmod(remainder, 60)\n",
    "            annotate_text_location = 0.5*(delayed_arrival-normal_arrival)+normal_arrival\n",
    "            ax.annotate(r'$\\mathbf{Delay\\ time}$'+':\\n'+'{:02} hrs {:02} mins'.format(int(hours), int(minutes)), xy=(annotate_location-120,annotate_text_location),\n",
    "                        xycoords='data',xytext=(5, 0), textcoords='offset points', rotation=270,verticalalignment='center',horizontalalignment='center',color='C0')        \n",
    "        \n",
    "lock_df = pd.DataFrame(lock_1.log)\n",
    "for loc,info in lock_df.iterrows():\n",
    "    if info.Action == 'Lock chamber converting stop':\n",
    "        door_opening_time = lock_df.loc[loc].Time\n",
    "        door_closing_time = lock_df.loc[loc-1].Time\n",
    "        levelling, = ax.fill([lock_outer_doors,lock_outer_doors,lock_inner_doors,lock_inner_doors],\n",
    "                [door_opening_time,door_closing_time,door_closing_time,door_opening_time],\n",
    "                hatch='/////',zorder=2,color='none',edgecolor='red',alpha=0.5)\n",
    "    if info.Action == 'Lock doors closing stop':\n",
    "        door_opening_time = lock_df.loc[loc].Time\n",
    "        door_closing_time = lock_df.loc[loc-1].Time\n",
    "        door_opening_closing, = ax.fill([lock_outer_doors,lock_outer_doors,lock_inner_doors,lock_inner_doors],\n",
    "                [door_opening_time,door_closing_time,door_closing_time,door_opening_time],\n",
    "                hatch='/////',zorder=1,color='none',edgecolor='lightcoral',alpha=0.5)\n",
    "    if info.Action == 'Lock doors opening stop':\n",
    "        door_opening_time = lock_df.loc[loc].Time\n",
    "        door_closing_time = lock_df.loc[loc-1].Time\n",
    "        ax.fill([lock_outer_doors,lock_outer_doors,lock_inner_doors,lock_inner_doors],\n",
    "                [door_opening_time,door_closing_time,door_closing_time,door_opening_time],\n",
    "                hatch='/////',zorder=1,color='none',edgecolor='lightcoral',alpha=0.5)\n",
    "    \n",
    "ylim_min = lock_df.loc[0].Time-pd.Timedelta(1,'h')\n",
    "ylim_max = lock_df.iloc[-7].Time+pd.Timedelta(5,'h')\n",
    "ylim_min = ylim_max - pd.Timedelta(24,'h')\n",
    "#ylim_max = ylim_min + pd.Timedelta(5,'h')\n",
    "#ylim_min += pd.Timedelta(12,'h')\n",
    "#ylim_max = ylim_min + pd.Timedelta(12,'h')\n",
    "\n",
    "ax.set_ylim(ylim_min,ylim_max)\n",
    "ylim = ax.get_ylim()\n",
    "lineup_area_fill, = ax.fill([lineup_1_start,lineup_1_start,lineup_1_end,lineup_1_end],\n",
    "        [ylim[0],ylim[1],ylim[1],ylim[0]],zorder=0,color=[0.9,0.9,0.9],edgecolor='k')\n",
    "ax.fill([lineup_2_start,lineup_2_start,lineup_2_end,lineup_2_end],\n",
    "        [ylim[0],ylim[1],ylim[1],ylim[0]],\n",
    "        zorder=0,color=[0.9,0.9,0.9],edgecolor='k')\n",
    "lock_chamber_fill, = ax.fill([lock_outer_doors,lock_outer_doors,lock_inner_doors,lock_inner_doors],\n",
    "        [ylim[0],ylim[1],ylim[1],ylim[0]],\n",
    "        zorder=0,color=[0.8,0.8,0.8],edgecolor='k')\n",
    "ax.set_xlim([distance_to_lock_edge_start,distance_to_lock_edge_end])\n",
    "ax.set_ylim(ylim)\n",
    "ax.set_xticks([])\n",
    "\n",
    "ax.text(50/2000, -0.025, 'Waiting area',verticalalignment='bottom',horizontalalignment='right',\n",
    "        rotation_mode='anchor',rotation=45,\n",
    "        transform=ax.transAxes)\n",
    "ax.text(200/2000, -0.025, 'Line-up area start',verticalalignment='bottom',horizontalalignment='right',\n",
    "        rotation_mode='anchor',rotation=45,\n",
    "        transform=ax.transAxes)\n",
    "ax.text(700/2000, -0.025, 'Line-up area end',verticalalignment='bottom',horizontalalignment='right',\n",
    "        rotation_mode='anchor',rotation=45,\n",
    "        transform=ax.transAxes)\n",
    "ax.text(800/2000, -0.025, 'Lock doors',verticalalignment='bottom',horizontalalignment='right',\n",
    "        rotation_mode='anchor',rotation=45,\n",
    "        transform=ax.transAxes)\n",
    "ax.text(1300/2000, -0.025, 'Lock doors',verticalalignment='bottom',horizontalalignment='right',\n",
    "        rotation_mode='anchor',rotation=45,\n",
    "        transform=ax.transAxes)\n",
    "ax.text(1400/2000, -0.025, 'Line-up area end',verticalalignment='bottom',horizontalalignment='right',\n",
    "        rotation_mode='anchor',rotation=45,\n",
    "        transform=ax.transAxes)\n",
    "ax.text(1900/2000, -0.025, 'Line-up area start',verticalalignment='bottom',horizontalalignment='right',\n",
    "        rotation_mode='anchor',rotation=45,\n",
    "        transform=ax.transAxes)\n",
    "ax.text(2050/2000, -0.025, 'Waiting area',verticalalignment='bottom',horizontalalignment='right',\n",
    "        rotation_mode='anchor',rotation=45,\n",
    "        transform=ax.transAxes)\n",
    "ax.text(400/2000,1.075,'Outer\\nline-up area',verticalalignment='top',horizontalalignment='center',transform=ax.transAxes)\n",
    "ax.text(1000/2000,1.075,'\\nLock chamber',verticalalignment='top',horizontalalignment='center',transform=ax.transAxes)\n",
    "ax.text(1600/2000,1.075,'Inner\\n line-up area',verticalalignment='top',horizontalalignment='center',transform=ax.transAxes)\n",
    "ax.set_xlabel('Distance',labelpad=70,fontweight='bold')\n",
    "ax.set_ylabel('Time',fontweight='bold')\n",
    "ax.set_title('Time-Distance Diagram Lock Passage',fontsize=11,fontweight='bold',pad=30)\n",
    "\n",
    "ax = axes[1]\n",
    "ax.set_facecolor('white')\n",
    "ax.plot(hydrodynamic_data.sel(STATIONS=48)['Water level'].values,\n",
    "        hydrodynamic_data.sel(STATIONS=48)['Water level'].TIME.values,\n",
    "        color='skyblue',zorder=3,linewidth=3)\n",
    "ax.plot(hydrodynamic_data.sel(STATIONS=49)['Water level'].values,\n",
    "        hydrodynamic_data.sel(STATIONS=49)['Water level'].TIME.values,\n",
    "        color='navy',zorder=3,linewidth=3)\n",
    "lock_level, = ax.plot(lock_1.water_level.values,lock_1.water_level.TIME.values,zorder=4,linewidth=3,color='k')\n",
    "ax.set_ylim(ylim)\n",
    "ax.set_yticklabels([])\n",
    "xlim_min,xlim_max = ax.get_xlim()\n",
    "for loc,info in lock_df.iterrows():\n",
    "    if info.Action == 'Lock chamber converting stop':\n",
    "        door_opening_time = lock_df.loc[loc].Time\n",
    "        door_closing_time = lock_df.loc[loc-1].Time\n",
    "        ax.fill([xlim_min,xlim_min,xlim_max,xlim_max],\n",
    "                [door_opening_time,door_closing_time,door_closing_time,door_opening_time],\n",
    "                hatch='/////',zorder=2,color='none',edgecolor='red',alpha=0.5)\n",
    "    if info.Action == 'Lock doors closing stop':\n",
    "        door_opening_time = lock_df.loc[loc].Time\n",
    "        door_closing_time = lock_df.loc[loc-1].Time\n",
    "        ax.fill([xlim_min,xlim_min,xlim_max,xlim_max],\n",
    "                [door_opening_time,door_closing_time,door_closing_time,door_opening_time],\n",
    "                hatch='/////',zorder=1,color='none',edgecolor='lightcoral',alpha=0.5)\n",
    "    if info.Action == 'Lock doors opening stop':\n",
    "        door_opening_time = lock_df.loc[loc].Time\n",
    "        door_closing_time = lock_df.loc[loc-1].Time\n",
    "        ax.fill([xlim_min,xlim_min,xlim_max,xlim_max],\n",
    "                [door_opening_time,door_closing_time,door_closing_time,door_opening_time],\n",
    "                hatch='/////',zorder=1,color='none',edgecolor='lightcoral',alpha=0.5)\n",
    "ax.set_xlim(xlim_min,xlim_max)\n",
    "#ax.set_title('Lock\\nChamber\\nWater level',fontsize=11,fontweight='bold')\n",
    "ax.set_xticks([-1,0,1])\n",
    "ax.set_xlabel('Water level\\n[m]',fontweight='bold')\n",
    "\n",
    "ax = axes[2]\n",
    "ax.set_facecolor('white')\n",
    "ax.plot(hydrodynamic_data.sel(STATIONS=48)['Salinity'].values,\n",
    "        hydrodynamic_data.sel(STATIONS=48)['Salinity'].TIME.values,\n",
    "        color='skyblue',zorder=3,linewidth=3)\n",
    "ax.plot(hydrodynamic_data.sel(STATIONS=49)['Salinity'].values,\n",
    "        hydrodynamic_data.sel(STATIONS=49)['Salinity'].TIME.values,\n",
    "        color='navy',zorder=3,linewidth=3)\n",
    "ax.plot(lock_1.salinity.values,lock_1.salinity.TIME.values,zorder=4,linewidth=3,color='k')\n",
    "ax.set_ylim(ylim)\n",
    "ax.set_yticklabels([])\n",
    "xlim_min,xlim_max = ax.get_xlim()\n",
    "for loc,info in lock_df.iterrows():\n",
    "    if info.Action == 'Lock chamber converting stop':\n",
    "        door_opening_time = lock_df.loc[loc].Time\n",
    "        door_closing_time = lock_df.loc[loc-1].Time\n",
    "        ax.fill([xlim_min,xlim_min,xlim_max,xlim_max],\n",
    "                [door_opening_time,door_closing_time,door_closing_time,door_opening_time],\n",
    "                hatch='/////',zorder=2,color='none',edgecolor='red',alpha=0.5)\n",
    "    if info.Action == 'Lock doors closing stop':\n",
    "        door_opening_time = lock_df.loc[loc].Time\n",
    "        door_closing_time = lock_df.loc[loc-1].Time\n",
    "        ax.fill([xlim_min,xlim_min,xlim_max,xlim_max],\n",
    "                [door_opening_time,door_closing_time,door_closing_time,door_opening_time],\n",
    "                hatch='/////',zorder=1,color='none',edgecolor='lightcoral',alpha=0.5)\n",
    "    if info.Action == 'Lock doors opening stop':\n",
    "        door_opening_time = lock_df.loc[loc].Time\n",
    "        door_closing_time = lock_df.loc[loc-1].Time\n",
    "        ax.fill([xlim_min,xlim_min,xlim_max,xlim_max],\n",
    "                [door_opening_time,door_closing_time,door_closing_time,door_opening_time],\n",
    "                hatch='/////',zorder=1,color='none',edgecolor='lightcoral',alpha=0.5)\n",
    "ax.set_xlim(xlim_min,xlim_max)\n",
    "#ax.set_title('Lock\\nChamber\\nSalinity',fontsize=11,fontweight='bold')\n",
    "ax.set_xticks([0,25])\n",
    "ax.set_xlabel('Salinity\\n'+r'[kg/m$\\mathregular{3}$]',fontweight='bold')\n",
    "\n",
    "ax = axes[3]\n",
    "ax.set_facecolor('white')\n",
    "freshwater, = ax.plot(lock_1.discharge_fresh.values,lock_1.discharge_fresh.TIME.values,color='navy',linewidth=3,zorder=4)\n",
    "if entering_leaving:\n",
    "    ax.plot(lock_1.discharge_fresh.interp(TIME=sail_in_time_vessel_1).values,sail_in_time_vessel_1,marker='o',color='navy',markersize=6)\n",
    "    ax.plot(lock_1.discharge_fresh.interp(TIME=sail_out_time_vessel_1).values,sail_out_time_vessel_1,marker='o',color='navy',markersize=6)\n",
    "saltwater, = ax.plot(lock_1.discharge_saline.values,lock_1.discharge_saline.TIME.values,color='skyblue',linewidth=3,zorder=3)\n",
    "if entering_leaving:\n",
    "    ax.plot(lock_1.discharge_saline.interp(TIME=sail_in_time_vessel_2).values,sail_in_time_vessel_2,marker='o',color='skyblue',markersize=6)\n",
    "    ax.plot(lock_1.discharge_saline.interp(TIME=sail_out_time_vessel_2).values,sail_out_time_vessel_2,marker='o',color='skyblue',markersize=6)\n",
    "sail_in_out_arrow, = ax.plot([0,0],color='k',marker='>',markersize=8,linewidth=3)\n",
    "sail_in_out_point, = ax.plot([0,0],color='k',marker='o',markersize=6,linewidth=3)\n",
    "\n",
    "ax.set_ylim(ylim)\n",
    "ax.set_yticklabels([])\n",
    "xlim_min,xlim_max = ax.get_xlim()\n",
    "for loc,info in lock_df.iterrows():\n",
    "    if info.Action == 'Lock chamber converting stop':\n",
    "        door_opening_time = lock_df.loc[loc].Time\n",
    "        door_closing_time = lock_df.loc[loc-1].Time\n",
    "        ax.fill([xlim_min,xlim_min,xlim_max,xlim_max],\n",
    "                [door_opening_time,door_closing_time,door_closing_time,door_opening_time],\n",
    "                hatch='/////',zorder=2,color='none',edgecolor='red',alpha=0.5)\n",
    "    if info.Action == 'Lock doors closing stop':\n",
    "        door_opening_time = lock_df.loc[loc].Time\n",
    "        door_closing_time = lock_df.loc[loc-1].Time\n",
    "        ax.fill([xlim_min,xlim_min,xlim_max,xlim_max],\n",
    "                [door_opening_time,door_closing_time,door_closing_time,door_opening_time],\n",
    "                hatch='/////',zorder=1,color='none',edgecolor='lightcoral',alpha=0.5)\n",
    "    if info.Action == 'Lock doors opening stop':\n",
    "        door_opening_time = lock_df.loc[loc].Time\n",
    "        door_closing_time = lock_df.loc[loc-1].Time\n",
    "        ax.fill([xlim_min,xlim_min,xlim_max,xlim_max],\n",
    "                [door_opening_time,door_closing_time,door_closing_time,door_opening_time],\n",
    "                hatch='/////',zorder=1,color='none',edgecolor='lightcoral',alpha=0.5)\n",
    "ax.set_xlim(xlim_min,xlim_max)\n",
    "#ax.set_title('Lock\\nChamber\\nDischarge',fontsize=11,fontweight='bold')\n",
    "ax.legend([lock_chamber_fill,lineup_area_fill,levelling,door_opening_closing,vessel1,vessel2,sail_in_out_arrow,mpl.patches.Patch(color='none'),\n",
    "           saltwater,freshwater,lock_level,sail_in_out_point],\n",
    "          ['Lock chamber','Line-up area','Levelling','Door opening/closing','Inbound vessel','Outbound vessel','Sailing in/out','',\n",
    "           'Saltwater value','Freshwater value','Value in lock','Sailing in/out'],\n",
    "          bbox_to_anchor=[1,1],frameon=False,prop={'size':10})\n",
    "ax.set_xticks([-300,300])\n",
    "ax.set_xlabel('Discharge\\n'+r'[m$\\mathregular{3}$/s]',fontweight='bold');\n",
    "#fig.savefig('Basic_lock_passage.svg',dpi=500,format='svg',bbox_inches='tight');"
   ]
  },
  {
   "cell_type": "code",
   "execution_count": 24,
   "id": "747e2278",
   "metadata": {},
   "outputs": [
    {
     "name": "stdout",
     "output_type": "stream",
     "text": [
      "572\n",
      "800\n",
      "1418\n"
     ]
    }
   ],
   "source": [
    "for loc,info in lock_df.iterrows():\n",
    "    if info.Action == 'Lock chamber converting start':\n",
    "        if lock_df.loc[loc-1,'Action'] != 'Lock doors closing stop':\n",
    "            print(loc)\n",
    "        if lock_df.loc[loc+1,'Action'] != 'Lock chamber converting stop':\n",
    "            print(loc)"
   ]
  },
  {
   "cell_type": "code",
   "execution_count": 33,
   "id": "6946126b",
   "metadata": {},
   "outputs": [
    {
     "data": {
      "text/html": [
       "<div>\n",
       "<style scoped>\n",
       "    .dataframe tbody tr th:only-of-type {\n",
       "        vertical-align: middle;\n",
       "    }\n",
       "\n",
       "    .dataframe tbody tr th {\n",
       "        vertical-align: top;\n",
       "    }\n",
       "\n",
       "    .dataframe thead th {\n",
       "        text-align: right;\n",
       "    }\n",
       "</style>\n",
       "<table border=\"1\" class=\"dataframe\">\n",
       "  <thead>\n",
       "    <tr style=\"text-align: right;\">\n",
       "      <th></th>\n",
       "      <th>Time</th>\n",
       "      <th>Location</th>\n",
       "      <th>Action</th>\n",
       "      <th>Status</th>\n",
       "    </tr>\n",
       "  </thead>\n",
       "  <tbody>\n",
       "    <tr>\n",
       "      <th>1396</th>\n",
       "      <td>2019-01-13 03:36:52.616647</td>\n",
       "      <td>Node_49</td>\n",
       "      <td>Lock doors opening start</td>\n",
       "      <td>{}</td>\n",
       "    </tr>\n",
       "    <tr>\n",
       "      <th>1397</th>\n",
       "      <td>2019-01-13 03:46:52.616647</td>\n",
       "      <td>Node_49</td>\n",
       "      <td>Lock doors opening stop</td>\n",
       "      <td>{}</td>\n",
       "    </tr>\n",
       "    <tr>\n",
       "      <th>1398</th>\n",
       "      <td>2019-01-13 04:34:18.691755</td>\n",
       "      <td>Node_49</td>\n",
       "      <td>Lock doors closing start</td>\n",
       "      <td>{}</td>\n",
       "    </tr>\n",
       "    <tr>\n",
       "      <th>1399</th>\n",
       "      <td>2019-01-13 04:44:18.691755</td>\n",
       "      <td>Node_49</td>\n",
       "      <td>Lock doors closing stop</td>\n",
       "      <td>{}</td>\n",
       "    </tr>\n",
       "    <tr>\n",
       "      <th>1400</th>\n",
       "      <td>2019-01-13 04:44:18.691755</td>\n",
       "      <td>Node_49</td>\n",
       "      <td>Lock chamber converting start</td>\n",
       "      <td>{}</td>\n",
       "    </tr>\n",
       "    <tr>\n",
       "      <th>1401</th>\n",
       "      <td>2019-01-13 04:45:18.691755</td>\n",
       "      <td>Node_50</td>\n",
       "      <td>Lock chamber converting stop</td>\n",
       "      <td>{}</td>\n",
       "    </tr>\n",
       "    <tr>\n",
       "      <th>1402</th>\n",
       "      <td>2019-01-13 04:45:18.691755</td>\n",
       "      <td>Node_50</td>\n",
       "      <td>Lock doors opening start</td>\n",
       "      <td>{}</td>\n",
       "    </tr>\n",
       "    <tr>\n",
       "      <th>1403</th>\n",
       "      <td>2019-01-13 04:55:18.691755</td>\n",
       "      <td>Node_50</td>\n",
       "      <td>Lock doors opening stop</td>\n",
       "      <td>{}</td>\n",
       "    </tr>\n",
       "    <tr>\n",
       "      <th>1404</th>\n",
       "      <td>2019-01-13 05:29:56.469533</td>\n",
       "      <td>Node_50</td>\n",
       "      <td>Lock doors closing start</td>\n",
       "      <td>{}</td>\n",
       "    </tr>\n",
       "    <tr>\n",
       "      <th>1405</th>\n",
       "      <td>2019-01-13 05:39:56.469533</td>\n",
       "      <td>Node_50</td>\n",
       "      <td>Lock doors closing stop</td>\n",
       "      <td>{}</td>\n",
       "    </tr>\n",
       "    <tr>\n",
       "      <th>1406</th>\n",
       "      <td>2019-01-13 05:39:56.469533</td>\n",
       "      <td>Node_50</td>\n",
       "      <td>Lock chamber converting start</td>\n",
       "      <td>{}</td>\n",
       "    </tr>\n",
       "    <tr>\n",
       "      <th>1407</th>\n",
       "      <td>2019-01-13 06:01:56.469533</td>\n",
       "      <td>Node_49</td>\n",
       "      <td>Lock chamber converting stop</td>\n",
       "      <td>{}</td>\n",
       "    </tr>\n",
       "    <tr>\n",
       "      <th>1408</th>\n",
       "      <td>2019-01-13 06:01:56.469533</td>\n",
       "      <td>Node_49</td>\n",
       "      <td>Lock doors opening start</td>\n",
       "      <td>{}</td>\n",
       "    </tr>\n",
       "    <tr>\n",
       "      <th>1409</th>\n",
       "      <td>2019-01-13 06:11:56.469533</td>\n",
       "      <td>Node_49</td>\n",
       "      <td>Lock doors opening stop</td>\n",
       "      <td>{}</td>\n",
       "    </tr>\n",
       "    <tr>\n",
       "      <th>1410</th>\n",
       "      <td>2019-01-13 06:21:50.913977</td>\n",
       "      <td>Node_49</td>\n",
       "      <td>Lock doors closing start</td>\n",
       "      <td>{}</td>\n",
       "    </tr>\n",
       "    <tr>\n",
       "      <th>1411</th>\n",
       "      <td>2019-01-13 06:31:50.913977</td>\n",
       "      <td>Node_49</td>\n",
       "      <td>Lock doors closing stop</td>\n",
       "      <td>{}</td>\n",
       "    </tr>\n",
       "    <tr>\n",
       "      <th>1412</th>\n",
       "      <td>2019-01-13 06:31:50.913977</td>\n",
       "      <td>Node_49</td>\n",
       "      <td>Lock chamber converting start</td>\n",
       "      <td>{}</td>\n",
       "    </tr>\n",
       "    <tr>\n",
       "      <th>1413</th>\n",
       "      <td>2019-01-13 07:04:50.913977</td>\n",
       "      <td>Node_50</td>\n",
       "      <td>Lock chamber converting stop</td>\n",
       "      <td>{}</td>\n",
       "    </tr>\n",
       "    <tr>\n",
       "      <th>1414</th>\n",
       "      <td>2019-01-13 07:04:50.913977</td>\n",
       "      <td>Node_50</td>\n",
       "      <td>Lock doors opening start</td>\n",
       "      <td>{}</td>\n",
       "    </tr>\n",
       "    <tr>\n",
       "      <th>1415</th>\n",
       "      <td>2019-01-13 07:14:50.913977</td>\n",
       "      <td>Node_50</td>\n",
       "      <td>Lock doors opening stop</td>\n",
       "      <td>{}</td>\n",
       "    </tr>\n",
       "    <tr>\n",
       "      <th>1416</th>\n",
       "      <td>2019-01-13 07:31:30.913977</td>\n",
       "      <td>Node_50</td>\n",
       "      <td>Lock doors closing start</td>\n",
       "      <td>{}</td>\n",
       "    </tr>\n",
       "    <tr>\n",
       "      <th>1417</th>\n",
       "      <td>2019-01-13 07:41:30.913977</td>\n",
       "      <td>Node_50</td>\n",
       "      <td>Lock doors closing stop</td>\n",
       "      <td>{}</td>\n",
       "    </tr>\n",
       "    <tr>\n",
       "      <th>1418</th>\n",
       "      <td>2019-01-13 07:41:30.913977</td>\n",
       "      <td>Node_50</td>\n",
       "      <td>Lock chamber converting start</td>\n",
       "      <td>{}</td>\n",
       "    </tr>\n",
       "    <tr>\n",
       "      <th>1419</th>\n",
       "      <td>2019-01-13 07:42:37.580644</td>\n",
       "      <td>Node_50</td>\n",
       "      <td>Lock doors closing start</td>\n",
       "      <td>{}</td>\n",
       "    </tr>\n",
       "    <tr>\n",
       "      <th>1420</th>\n",
       "      <td>2019-01-13 07:52:37.580644</td>\n",
       "      <td>Node_50</td>\n",
       "      <td>Lock doors closing stop</td>\n",
       "      <td>{}</td>\n",
       "    </tr>\n",
       "    <tr>\n",
       "      <th>1421</th>\n",
       "      <td>2019-01-13 07:52:37.580644</td>\n",
       "      <td>Node_50</td>\n",
       "      <td>Lock chamber converting start</td>\n",
       "      <td>{}</td>\n",
       "    </tr>\n",
       "    <tr>\n",
       "      <th>1422</th>\n",
       "      <td>2019-01-13 08:20:30.913977</td>\n",
       "      <td>Node_49</td>\n",
       "      <td>Lock chamber converting stop</td>\n",
       "      <td>{}</td>\n",
       "    </tr>\n",
       "    <tr>\n",
       "      <th>1423</th>\n",
       "      <td>2019-01-13 08:20:30.913977</td>\n",
       "      <td>Node_49</td>\n",
       "      <td>Lock doors opening start</td>\n",
       "      <td>{}</td>\n",
       "    </tr>\n",
       "    <tr>\n",
       "      <th>1424</th>\n",
       "      <td>2019-01-13 08:30:30.913977</td>\n",
       "      <td>Node_49</td>\n",
       "      <td>Lock doors opening stop</td>\n",
       "      <td>{}</td>\n",
       "    </tr>\n",
       "    <tr>\n",
       "      <th>1425</th>\n",
       "      <td>2019-01-13 08:31:37.580644</td>\n",
       "      <td>Node_49</td>\n",
       "      <td>Lock chamber converting stop</td>\n",
       "      <td>{}</td>\n",
       "    </tr>\n",
       "    <tr>\n",
       "      <th>1426</th>\n",
       "      <td>2019-01-13 08:31:37.580644</td>\n",
       "      <td>Node_49</td>\n",
       "      <td>Lock doors opening start</td>\n",
       "      <td>{}</td>\n",
       "    </tr>\n",
       "    <tr>\n",
       "      <th>1427</th>\n",
       "      <td>2019-01-13 08:41:37.580644</td>\n",
       "      <td>Node_49</td>\n",
       "      <td>Lock doors opening stop</td>\n",
       "      <td>{}</td>\n",
       "    </tr>\n",
       "    <tr>\n",
       "      <th>1428</th>\n",
       "      <td>2019-01-13 09:00:47.580644</td>\n",
       "      <td>Node_49</td>\n",
       "      <td>Lock doors closing start</td>\n",
       "      <td>{}</td>\n",
       "    </tr>\n",
       "    <tr>\n",
       "      <th>1429</th>\n",
       "      <td>2019-01-13 09:10:47.580644</td>\n",
       "      <td>Node_49</td>\n",
       "      <td>Lock doors closing stop</td>\n",
       "      <td>{}</td>\n",
       "    </tr>\n",
       "    <tr>\n",
       "      <th>1430</th>\n",
       "      <td>2019-01-13 09:10:47.580644</td>\n",
       "      <td>Node_49</td>\n",
       "      <td>Lock chamber converting start</td>\n",
       "      <td>{}</td>\n",
       "    </tr>\n",
       "    <tr>\n",
       "      <th>1431</th>\n",
       "      <td>2019-01-13 09:44:47.580644</td>\n",
       "      <td>Node_50</td>\n",
       "      <td>Lock chamber converting stop</td>\n",
       "      <td>{}</td>\n",
       "    </tr>\n",
       "    <tr>\n",
       "      <th>1432</th>\n",
       "      <td>2019-01-13 09:44:47.580644</td>\n",
       "      <td>Node_50</td>\n",
       "      <td>Lock doors opening start</td>\n",
       "      <td>{}</td>\n",
       "    </tr>\n",
       "    <tr>\n",
       "      <th>1433</th>\n",
       "      <td>2019-01-13 09:54:47.580644</td>\n",
       "      <td>Node_50</td>\n",
       "      <td>Lock doors opening stop</td>\n",
       "      <td>{}</td>\n",
       "    </tr>\n",
       "    <tr>\n",
       "      <th>1434</th>\n",
       "      <td>2019-01-13 10:10:15.358422</td>\n",
       "      <td>Node_50</td>\n",
       "      <td>Lock doors closing start</td>\n",
       "      <td>{}</td>\n",
       "    </tr>\n",
       "    <tr>\n",
       "      <th>1435</th>\n",
       "      <td>2019-01-13 10:20:15.358422</td>\n",
       "      <td>Node_50</td>\n",
       "      <td>Lock doors closing stop</td>\n",
       "      <td>{}</td>\n",
       "    </tr>\n",
       "    <tr>\n",
       "      <th>1436</th>\n",
       "      <td>2019-01-13 10:20:15.358422</td>\n",
       "      <td>Node_50</td>\n",
       "      <td>Lock chamber converting start</td>\n",
       "      <td>{}</td>\n",
       "    </tr>\n",
       "    <tr>\n",
       "      <th>1437</th>\n",
       "      <td>2019-01-13 10:38:15.358422</td>\n",
       "      <td>Node_49</td>\n",
       "      <td>Lock chamber converting stop</td>\n",
       "      <td>{}</td>\n",
       "    </tr>\n",
       "    <tr>\n",
       "      <th>1438</th>\n",
       "      <td>2019-01-13 10:38:15.358422</td>\n",
       "      <td>Node_49</td>\n",
       "      <td>Lock doors opening start</td>\n",
       "      <td>{}</td>\n",
       "    </tr>\n",
       "    <tr>\n",
       "      <th>1439</th>\n",
       "      <td>2019-01-13 10:48:15.358422</td>\n",
       "      <td>Node_49</td>\n",
       "      <td>Lock doors opening stop</td>\n",
       "      <td>{}</td>\n",
       "    </tr>\n",
       "    <tr>\n",
       "      <th>1440</th>\n",
       "      <td>2019-01-13 12:32:02.615237</td>\n",
       "      <td>Node_49</td>\n",
       "      <td>Lock doors closing start</td>\n",
       "      <td>{}</td>\n",
       "    </tr>\n",
       "    <tr>\n",
       "      <th>1441</th>\n",
       "      <td>2019-01-13 12:42:02.615237</td>\n",
       "      <td>Node_49</td>\n",
       "      <td>Lock doors closing stop</td>\n",
       "      <td>{}</td>\n",
       "    </tr>\n",
       "    <tr>\n",
       "      <th>1442</th>\n",
       "      <td>2019-01-13 12:42:02.615237</td>\n",
       "      <td>Node_49</td>\n",
       "      <td>Lock chamber converting start</td>\n",
       "      <td>{}</td>\n",
       "    </tr>\n",
       "    <tr>\n",
       "      <th>1443</th>\n",
       "      <td>2019-01-13 13:14:02.615237</td>\n",
       "      <td>Node_50</td>\n",
       "      <td>Lock chamber converting stop</td>\n",
       "      <td>{}</td>\n",
       "    </tr>\n",
       "    <tr>\n",
       "      <th>1444</th>\n",
       "      <td>2019-01-13 13:14:02.615237</td>\n",
       "      <td>Node_50</td>\n",
       "      <td>Lock doors opening start</td>\n",
       "      <td>{}</td>\n",
       "    </tr>\n",
       "    <tr>\n",
       "      <th>1445</th>\n",
       "      <td>2019-01-13 13:24:02.615237</td>\n",
       "      <td>Node_50</td>\n",
       "      <td>Lock doors opening stop</td>\n",
       "      <td>{}</td>\n",
       "    </tr>\n",
       "  </tbody>\n",
       "</table>\n",
       "</div>"
      ],
      "text/plain": [
       "                           Time Location                         Action Status\n",
       "1396 2019-01-13 03:36:52.616647  Node_49       Lock doors opening start     {}\n",
       "1397 2019-01-13 03:46:52.616647  Node_49        Lock doors opening stop     {}\n",
       "1398 2019-01-13 04:34:18.691755  Node_49       Lock doors closing start     {}\n",
       "1399 2019-01-13 04:44:18.691755  Node_49        Lock doors closing stop     {}\n",
       "1400 2019-01-13 04:44:18.691755  Node_49  Lock chamber converting start     {}\n",
       "1401 2019-01-13 04:45:18.691755  Node_50   Lock chamber converting stop     {}\n",
       "1402 2019-01-13 04:45:18.691755  Node_50       Lock doors opening start     {}\n",
       "1403 2019-01-13 04:55:18.691755  Node_50        Lock doors opening stop     {}\n",
       "1404 2019-01-13 05:29:56.469533  Node_50       Lock doors closing start     {}\n",
       "1405 2019-01-13 05:39:56.469533  Node_50        Lock doors closing stop     {}\n",
       "1406 2019-01-13 05:39:56.469533  Node_50  Lock chamber converting start     {}\n",
       "1407 2019-01-13 06:01:56.469533  Node_49   Lock chamber converting stop     {}\n",
       "1408 2019-01-13 06:01:56.469533  Node_49       Lock doors opening start     {}\n",
       "1409 2019-01-13 06:11:56.469533  Node_49        Lock doors opening stop     {}\n",
       "1410 2019-01-13 06:21:50.913977  Node_49       Lock doors closing start     {}\n",
       "1411 2019-01-13 06:31:50.913977  Node_49        Lock doors closing stop     {}\n",
       "1412 2019-01-13 06:31:50.913977  Node_49  Lock chamber converting start     {}\n",
       "1413 2019-01-13 07:04:50.913977  Node_50   Lock chamber converting stop     {}\n",
       "1414 2019-01-13 07:04:50.913977  Node_50       Lock doors opening start     {}\n",
       "1415 2019-01-13 07:14:50.913977  Node_50        Lock doors opening stop     {}\n",
       "1416 2019-01-13 07:31:30.913977  Node_50       Lock doors closing start     {}\n",
       "1417 2019-01-13 07:41:30.913977  Node_50        Lock doors closing stop     {}\n",
       "1418 2019-01-13 07:41:30.913977  Node_50  Lock chamber converting start     {}\n",
       "1419 2019-01-13 07:42:37.580644  Node_50       Lock doors closing start     {}\n",
       "1420 2019-01-13 07:52:37.580644  Node_50        Lock doors closing stop     {}\n",
       "1421 2019-01-13 07:52:37.580644  Node_50  Lock chamber converting start     {}\n",
       "1422 2019-01-13 08:20:30.913977  Node_49   Lock chamber converting stop     {}\n",
       "1423 2019-01-13 08:20:30.913977  Node_49       Lock doors opening start     {}\n",
       "1424 2019-01-13 08:30:30.913977  Node_49        Lock doors opening stop     {}\n",
       "1425 2019-01-13 08:31:37.580644  Node_49   Lock chamber converting stop     {}\n",
       "1426 2019-01-13 08:31:37.580644  Node_49       Lock doors opening start     {}\n",
       "1427 2019-01-13 08:41:37.580644  Node_49        Lock doors opening stop     {}\n",
       "1428 2019-01-13 09:00:47.580644  Node_49       Lock doors closing start     {}\n",
       "1429 2019-01-13 09:10:47.580644  Node_49        Lock doors closing stop     {}\n",
       "1430 2019-01-13 09:10:47.580644  Node_49  Lock chamber converting start     {}\n",
       "1431 2019-01-13 09:44:47.580644  Node_50   Lock chamber converting stop     {}\n",
       "1432 2019-01-13 09:44:47.580644  Node_50       Lock doors opening start     {}\n",
       "1433 2019-01-13 09:54:47.580644  Node_50        Lock doors opening stop     {}\n",
       "1434 2019-01-13 10:10:15.358422  Node_50       Lock doors closing start     {}\n",
       "1435 2019-01-13 10:20:15.358422  Node_50        Lock doors closing stop     {}\n",
       "1436 2019-01-13 10:20:15.358422  Node_50  Lock chamber converting start     {}\n",
       "1437 2019-01-13 10:38:15.358422  Node_49   Lock chamber converting stop     {}\n",
       "1438 2019-01-13 10:38:15.358422  Node_49       Lock doors opening start     {}\n",
       "1439 2019-01-13 10:48:15.358422  Node_49        Lock doors opening stop     {}\n",
       "1440 2019-01-13 12:32:02.615237  Node_49       Lock doors closing start     {}\n",
       "1441 2019-01-13 12:42:02.615237  Node_49        Lock doors closing stop     {}\n",
       "1442 2019-01-13 12:42:02.615237  Node_49  Lock chamber converting start     {}\n",
       "1443 2019-01-13 13:14:02.615237  Node_50   Lock chamber converting stop     {}\n",
       "1444 2019-01-13 13:14:02.615237  Node_50       Lock doors opening start     {}\n",
       "1445 2019-01-13 13:24:02.615237  Node_50        Lock doors opening stop     {}"
      ]
     },
     "execution_count": 33,
     "metadata": {},
     "output_type": "execute_result"
    }
   ],
   "source": [
    "lock_df = pd.DataFrame(lock_1.log)\n",
    "lock_df.tail(n=200)[0:50]"
   ]
  },
  {
   "cell_type": "code",
   "execution_count": 26,
   "id": "c72948e2",
   "metadata": {},
   "outputs": [],
   "source": [
    "salt_transport_df = pd.DataFrame(columns=['Side','Levelling start','Levelling stop','Door Open','Door Closed',\n",
    "                                          'Water level start levelling','Water level stop levelling',\n",
    "                                          'Ship Volume Left','Ship Volume Entered'])\n",
    "for loc,info in lock_df.iterrows():\n",
    "    if info.Action == 'Lock doors closing stop' and loc > 2:\n",
    "        levelling_start = lock_df.loc[loc-5].Time\n",
    "        levelling_stop = lock_df.loc[loc-4].Time\n",
    "        index_levelling_start = np.absolute(lock_1.water_level.TIME.values-np.datetime64(levelling_start)).argmin()\n",
    "        index_levelling_stop = np.absolute(lock_1.water_level.TIME.values-np.datetime64(levelling_stop)).argmin()\n",
    "        water_level_start_levelling = lock_1.water_level[index_levelling_start].values\n",
    "        water_level_stop_levelling = lock_1.water_level[index_levelling_stop].values\n",
    "        door_open = (lock_df.loc[loc-2].Time-lock_df.loc[loc-3].Time)/2+lock_df.loc[loc-3].Time\n",
    "        door_closed = (info.Time-lock_df.loc[loc-1].Time)/2+lock_df.loc[loc-1].Time\n",
    "        volume_loss = 0\n",
    "        volume_transported = 0\n",
    "        for _vessel_ in vessels:\n",
    "            vessel_df = pd.DataFrame(_vessel_.log)\n",
    "            if vessel_df.empty:\n",
    "                continue\n",
    "            vessel_df_door_open_time = vessel_df[(vessel_df.Time > door_open - datetime.timedelta(seconds=lock_1.doors_open)) & \n",
    "                                                 (vessel_df.Time < door_closed + datetime.timedelta(seconds=lock_1.doors_close))]\n",
    "            if not vessel_df_door_open_time.empty and vessel_df_door_open_time.iloc[0].Action == 'Passing lock stop':\n",
    "                volume_loss += _vessel_.L*_vessel_.B*_vessel_.T\n",
    "            if not vessel_df_door_open_time.empty and vessel_df_door_open_time.iloc[-1].Action == 'Passing lock start':\n",
    "                volume_transported += _vessel_.L*_vessel_.B*_vessel_.T\n",
    "        salt_transport_df.loc[len(salt_transport_df),:] = [info.Location,levelling_start,levelling_stop,door_open,door_closed,\n",
    "                                                           water_level_start_levelling,water_level_stop_levelling,\n",
    "                                                           volume_loss,volume_transported]"
   ]
  },
  {
   "cell_type": "code",
   "execution_count": 27,
   "id": "941bd77d",
   "metadata": {},
   "outputs": [],
   "source": [
    "salt_transport_df['Salt Exchange [kg]'] = 0.0\n",
    "salt_transport_df['Salt Transported [kg]'] = 0.0\n",
    "salt_transport_df['Freshwater Exchange [m3]'] = 0.0\n",
    "salt_transport_df['Freshwater Transported [m3]'] = 0.0\n",
    "salt_transport_df['Freshwater Levelled [m3]'] = 0.0\n",
    "\n",
    "for loc,info in salt_transport_df.iterrows():\n",
    "    if info.Side == 'Node_50':\n",
    "        salinity_difference = lock_1.salinity.interp(TIME=info['Door Open']).values-np.nanmax([0,lock_1.salinity.interp(TIME=info['Door Closed']).values])\n",
    "        salt_transport_df.loc[loc,'Salt Exchange [kg]'] = salinity_difference*lock_1.lock_length*lock_1.lock_width*lock_1.lock_depth\n",
    "        salt_transport_df.loc[loc,'Salt Transported [kg]'] = np.nanmax([0,lock_1.salinity.interp(TIME=info['Door Closed']).values])*info['Ship Volume Entered']\n",
    "        salt_transport_df.loc[loc,'Freshwater Exchange [m3]'] = lock_1.lock_length*lock_1.lock_width*lock_1.lock_depth*np.tanh((info['Door Closed']-info['Door Open']).total_seconds()/(2*lock_1.lock_length/(0.5*np.sqrt(9.81*0.8*salinity_difference*lock_1.lock_depth/(1000+0.8*25/2)))))\n",
    "        salt_transport_df.loc[loc,'Freshwater Transported [m3]'] = info['Ship Volume Left']\n",
    "        water_levelling_difference = info['Water level stop levelling']-info['Water level start levelling']\n",
    "        if water_levelling_difference > 0:\n",
    "            salt_transport_df['Freshwater Levelled [m3]'] = water_levelling_difference"
   ]
  },
  {
   "cell_type": "code",
   "execution_count": 28,
   "id": "e3ceb5c1",
   "metadata": {},
   "outputs": [
    {
     "data": {
      "text/plain": [
       "60.93495268204275"
      ]
     },
     "execution_count": 28,
     "metadata": {},
     "output_type": "execute_result"
    }
   ],
   "source": [
    "(salt_transport_df['Salt Transported [kg]'].sum()+salt_transport_df['Salt Exchange [kg]'].sum())/(25*lock_1.lock_length*lock_1.lock_width*lock_1.lock_depth)"
   ]
  },
  {
   "cell_type": "code",
   "execution_count": 29,
   "id": "4850e162",
   "metadata": {},
   "outputs": [],
   "source": [
    "delay_df = pd.DataFrame(columns=['Delay'])\n",
    "for _vessel_ in vessels:\n",
    "    vessel_df = pd.DataFrame(_vessel_.log)\n",
    "    start_df = vessel_df[vessel_df.Action == 'Sailing from node Node_49 to node Node_50 start']\n",
    "    stop_df = vessel_df[vessel_df.Action == 'Sailing from node Node_49 to node Node_50 stop']\n",
    "    if stop_df.empty or start_df.empty:\n",
    "        continue\n",
    "    start_time = start_df.Time.iloc[0]\n",
    "    stop_time = stop_df.Time.iloc[0]\n",
    "    delay = stop_time-start_time-pd.Timedelta(FG.edges['Node_49','Node_50',0]['Info']['length']/vessels[0].v,'s')\n",
    "    delay_df.loc[_vessel_.name,'Delay'] = delay"
   ]
  },
  {
   "cell_type": "code",
   "execution_count": 30,
   "id": "335330da",
   "metadata": {},
   "outputs": [],
   "source": [
    "average_vessel_delay = delay_df.Delay.sum()/len(delay_df)"
   ]
  },
  {
   "cell_type": "code",
   "execution_count": 31,
   "id": "f33fb695",
   "metadata": {},
   "outputs": [
    {
     "data": {
      "text/plain": [
       "Timedelta('0 days 02:44:41.173278493')"
      ]
     },
     "execution_count": 31,
     "metadata": {},
     "output_type": "execute_result"
    }
   ],
   "source": [
    "average_vessel_delay"
   ]
  },
  {
   "cell_type": "code",
   "execution_count": null,
   "id": "41798a03",
   "metadata": {},
   "outputs": [],
   "source": []
  }
 ],
 "metadata": {
  "kernelspec": {
   "display_name": "Python 3 (ipykernel)",
   "language": "python",
   "name": "python3"
  },
  "language_info": {
   "codemirror_mode": {
    "name": "ipython",
    "version": 3
   },
   "file_extension": ".py",
   "mimetype": "text/x-python",
   "name": "python",
   "nbconvert_exporter": "python",
   "pygments_lexer": "ipython3",
   "version": "3.8.16"
  }
 },
 "nbformat": 4,
 "nbformat_minor": 5
}
