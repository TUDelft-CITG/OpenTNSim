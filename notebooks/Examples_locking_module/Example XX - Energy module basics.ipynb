{
 "cells": [
  {
   "cell_type": "markdown",
   "id": "7c12ef76",
   "metadata": {},
   "source": [
    "## Energy module - basic functionality\n",
    "In this notebook, we set up graph with a single edge to demonstrate some basic functionality of the Energy module.\n",
    "\n",
    "We take the following steps:\n",
    "\n",
    "1. [Imports](#1.-Imports)\n",
    "2. [Create vessel](#2.-Create-vessel)\n",
    "3. [Create graph](#3.-Create-graph)\n",
    "4. [Run simulation](#4.-Run-simulation)\n",
    "5. [Inspect output](#5.-Inspect-output)"
   ]
  },
  {
   "cell_type": "markdown",
   "id": "43e95553",
   "metadata": {},
   "source": [
    "### 1. Imports\n",
    "We start with importing required libraries"
   ]
  },
  {
   "cell_type": "code",
   "execution_count": 1,
   "id": "98365d9a",
   "metadata": {},
   "outputs": [],
   "source": [
    "# package(s) used for creating and geo-locating the graph\n",
    "import networkx as nx  \n",
    "from shapely.geometry import Point, LineString\n",
    "\n",
    "# package(s) related to the simulation (creating the vessel, running the simulation)\n",
    "import datetime, time\n",
    "import simpy\n",
    "import opentnsim\n",
    "from opentnsim import core as core_module\n",
    "from opentnsim import energy as energy_module\n",
    "from opentnsim import graph as graph_module\n",
    "from opentnsim import output as output_module\n",
    "from opentnsim import vessel as vessel_module\n",
    "from opentnsim import vessel_traffic_service as vessel_traffic_service_module\n",
    "\n",
    "import numpy as np\n",
    "import pandas as pd\n",
    "\n",
    "# package(s) needed for plotting\n",
    "import matplotlib.pyplot as plt"
   ]
  },
  {
   "cell_type": "markdown",
   "id": "aad1799e",
   "metadata": {},
   "source": [
    "### 2. Create vessel\n",
    "We start with creating a vessel class. We call this class a *Vessel*, and add a number of OpenTNSim mix-ins to this class. Each mix-in requires certain input parameters. \n",
    "\n",
    "The following mix-ins are sufficient to create a vessel for our problem: \n",
    "* _Identifiable_ - allows to give the vessel a name and a random ID, \n",
    "* _Movable_ - allows the vessel to move, with a fixed speed, while logging this activity,\n",
    "   * Movable in turn relies on the mix-ins: _Locatable_, _Routeable_, and _Log_\n",
    "* _VesselProperties_ - allows to give the vessel specific properties, \n",
    "* _ConsumesEnergy_ - enables calculation of resistance, required power and emissions"
   ]
  },
  {
   "cell_type": "code",
   "execution_count": 2,
   "id": "b86be76e-e22e-42f1-b0b1-aa8e5ee6b03b",
   "metadata": {},
   "outputs": [],
   "source": [
    "#We create a type element that schematisizes a vessel\n",
    "def create_vessel(env,\n",
    "                  name,\n",
    "                  origin, \n",
    "                  destination, \n",
    "                  vessel_type, \n",
    "                  L, \n",
    "                  B, \n",
    "                  T,\n",
    "                  v,\n",
    "                  P_tot_given, \n",
    "                  arrival_time):\n",
    "    \n",
    "    Vessel = type('Vessel',(energy_module.ConsumesEnergy,   # The vessel consumes energy\n",
    "                            vessel_module.IsVessel,         # Basic information of the vessel\n",
    "                           ),{})  \n",
    "    \n",
    "    vessel = Vessel(**{ \"env\": env,\n",
    "                        \"name\": name,\n",
    "                        \"origin\": origin,\n",
    "                        \"destination\": destination,\n",
    "                        \"type\": vessel_type,\n",
    "                        \"L\": L,                     # m\n",
    "                        \"B\": B,                     # m\n",
    "                        \"T\": T,                     # m\n",
    "                        \"v\": v,                     # m/s None: calculate this value based on P_tot_given\n",
    "                        \"safety_margin\": 0.2,       # for tanker vessel with sandy bed the safety margin is recommended as 0.2 m\n",
    "                        \"h_squat\": False,           # if consider the ship squatting while moving, set to True, otherwise set to False\n",
    "                        \"P_installed\": 1750.0,      # kW\n",
    "                        \"P_tot_given\": P_tot_given, # kW None: calculate this value based on speed\n",
    "                        \"bulbous_bow\": False,       # if a vessel has no bulbous_bow, set to False; otherwise set to True.\n",
    "                        \"P_hotel_perc\": 0.05,\n",
    "                        \"P_hotel\": None,            # None: calculate P_hotel from percentage\n",
    "                        \"x\": 2,                     # number of propellers\n",
    "                        \"L_w\": 3.0 ,\n",
    "                        \"C_B\": 0.85,                # block coefficient \n",
    "                        \"C_year\": 1990,             # engine build year\n",
    "                        \"arrival_time\": arrival_time,\n",
    "                      }\n",
    "                   )\n",
    "\n",
    "    env.process(vessel.move())\n",
    "    \n",
    "    return vessel"
   ]
  },
  {
   "cell_type": "markdown",
   "id": "204d9980",
   "metadata": {},
   "source": [
    "### 2. Create graph\n",
    "Next we create a 1D network (a graph) along which the vessel can move. A graph is made of nodes (blue dots in the plot below) and edges (red arrows between the nodes in the plot below). We use the python package networkx to do this. \n",
    "\n",
    "For this example, we construct a network of 4 nodes linked by 3 edges. The edges are made bi-directional to allow for two-way traffic, which means that the graph in the end contains 6 edges."
   ]
  },
  {
   "cell_type": "code",
   "execution_count": 3,
   "id": "7c0edd4f-2c87-45ad-8689-2286e9af24a8",
   "metadata": {},
   "outputs": [],
   "source": [
    "FG = nx.DiGraph()\n",
    "\n",
    "# specifiy nodes and edges\n",
    "node_A = graph_module.Node(name='0',geometry=Point(0,0))\n",
    "node_B = graph_module.Node(name='1',geometry=Point(0.8983,0))\n",
    "\n",
    "edges = [(node_A,node_B)]\n",
    "\n",
    "# create a graph object\n",
    "depths = {\"GeneralDepth\": [6.0]}\n",
    "FG = graph_module.DiGraph(edges=edges,edges_info=depths).graph"
   ]
  },
  {
   "cell_type": "code",
   "execution_count": 4,
   "id": "844815c7-aca2-4707-8e17-812c6a283b66",
   "metadata": {},
   "outputs": [],
   "source": [
    "# collect node positions and labels\n",
    "nodes = []\n",
    "coordinates = []\n",
    "labels = {}\n",
    "\n",
    "for node in FG.nodes:\n",
    "    nodes.append(node)\n",
    "    coordinates.append([nx.get_node_attributes(FG, 'geometry')[node].x, nx.get_node_attributes(FG, 'geometry')[node].y])\n",
    "    labels[node] = node\n",
    "    \n",
    "positions = dict(zip(nodes, coordinates))"
   ]
  },
  {
   "cell_type": "code",
   "execution_count": 5,
   "id": "7b475652-a188-4208-a72c-6a9da684f721",
   "metadata": {},
   "outputs": [
    {
     "data": {
      "image/png": "[encoded data removed]",
      "text/plain": [
       "<Figure size 640x480 with 1 Axes>"
      ]
     },
     "metadata": {},
     "output_type": "display_data"
    }
   ],
   "source": [
    "# draw edges, nodes and labels\n",
    "nx.draw_networkx_edges(FG, pos=positions, width=3, edge_color=\"red\", alpha=1, arrowsize=20)\n",
    "nx.draw_networkx_nodes(FG, pos=positions, node_color=\"darkblue\", node_size=600)\n",
    "nx.draw_networkx_labels(FG, pos=positions, labels=labels, font_size=15, font_weight=\"bold\", font_color=\"white\")\n",
    "\n",
    "plt.axis(\"off\")\n",
    "plt.show()"
   ]
  },
  {
   "cell_type": "code",
   "execution_count": 6,
   "id": "669f8431",
   "metadata": {},
   "outputs": [
    {
     "name": "stdout",
     "output_type": "stream",
     "text": [
      "General depth for edge ('0', '1') is 6.0 m\n",
      "General depth for edge ('1', '0') is 6.0 m\n"
     ]
    }
   ],
   "source": [
    "# This cell just shows that now a depth of 10 m is added to the edges. \n",
    "# You can use this to vary depths, e.g. make the middle edge shallower. Note that edges are bi-directional \n",
    "for edge in FG.edges:\n",
    "    print('General depth for edge {} is {} m'.format(edge, FG.get_edge_data(edge[0], edge[1])[\"Info\"][\"GeneralDepth\"]))"
   ]
  },
  {
   "cell_type": "markdown",
   "id": "23a32375",
   "metadata": {},
   "source": [
    "### 4. Run simulation\n",
    "Now we can define the run. After we define the path that the vessel will sail, we make an environment and add the graph to the environment. Then we add one vessel, to which we will append the environment and the route. Lastly, we give the vessel the process of moving from the origin to the destination of the defined path and subsequently run the model."
   ]
  },
  {
   "cell_type": "code",
   "execution_count": 7,
   "id": "e9e622df-bfa0-493b-818f-340d0f45669b",
   "metadata": {},
   "outputs": [],
   "source": [
    "def create_run(FG,\n",
    "               name,\n",
    "               origin, \n",
    "               destination, \n",
    "               vessel_type, \n",
    "               L, \n",
    "               B, \n",
    "               T,\n",
    "               v,\n",
    "               P_tot_given, \n",
    "               arrival_time):\n",
    "    \n",
    "    # Start simpy environment\n",
    "    t_start = datetime.datetime(2024, 1, 1, 0, 0, 0)\n",
    "    \n",
    "    env = simpy.Environment(initial_time=t_start.timestamp())\n",
    "    \n",
    "    env.epoch = t_start\n",
    "    env.simulation_start = t_start\n",
    "    \n",
    "    # Add graph to environment\n",
    "    env.FG = FG\n",
    "    \n",
    "    #In order from ships to know where they are going we need to add an VTS to the environment\n",
    "    env.vessel_traffic_service = vessel_traffic_service_module.VesselTrafficService(env=env)\n",
    "\n",
    "    # Create vessel\n",
    "    vessel = create_vessel(env=env,\n",
    "                           name='Vessel',\n",
    "                           origin='0', \n",
    "                           destination='1', \n",
    "                           vessel_type='inland vessel', \n",
    "                           L=L,                         # m\n",
    "                           B=B,                         # m \n",
    "                           T=T,                         # m\n",
    "                           v=v,                         # m/s\n",
    "                           P_tot_given=P_tot_given,     # kW \n",
    "                           arrival_time=datetime.datetime(2024, 1, 1, 0, 0, 0))\n",
    "    \n",
    "    env.run()\n",
    "    \n",
    "    energycalculation = opentnsim.energy.EnergyCalculation(env.FG, vessel)\n",
    "    energycalculation.calculate_energy_consumption()\n",
    "    df = pd.DataFrame.from_dict(energycalculation.energy_use)\n",
    "    df['fuel_kg_per_km'] = (df['total_diesel_consumption_ICE_mass'] / 1000) / (df['distance']/1000)\n",
    "    df['CO2_g_per_km']   = (df['total_emission_CO2']) / (df['distance']/1000)\n",
    "    df['PM10_g_per_km']  = (df['total_emission_PM10']) / (df['distance']/1000)\n",
    "    df['NOx_g_per_km']   = (df['total_emission_NOX']) / (df['distance']/1000)\n",
    "    \n",
    "    return df"
   ]
  },
  {
   "cell_type": "markdown",
   "id": "b85426d1-eb6d-4f46-8d48-5daa11f31387",
   "metadata": {},
   "source": [
    "### 4.1 Show the effects of vessel velocity\n",
    "We will now sail the same path with the same vessel at different speeds"
   ]
  },
  {
   "cell_type": "code",
   "execution_count": 8,
   "id": "fd6311b1-947b-41d2-b9f2-40aaa30c992c",
   "metadata": {},
   "outputs": [
    {
     "name": "stdout",
     "output_type": "stream",
     "text": [
      "v = 1.0\n",
      "v = 1.1\n",
      "v = 1.2000000000000002\n",
      "v = 1.3000000000000003\n",
      "v = 1.4000000000000004\n",
      "v = 1.5000000000000004\n",
      "v = 1.6000000000000005\n",
      "v = 1.7000000000000006\n",
      "v = 1.8000000000000007\n",
      "v = 1.9000000000000008\n",
      "v = 2.000000000000001\n",
      "v = 2.100000000000001\n",
      "v = 2.200000000000001\n",
      "v = 2.300000000000001\n",
      "v = 2.4000000000000012\n",
      "v = 2.5000000000000013\n",
      "v = 2.6000000000000014\n",
      "v = 2.7000000000000015\n",
      "v = 2.8000000000000016\n",
      "v = 2.9000000000000017\n",
      "v = 3.0000000000000018\n",
      "v = 3.100000000000002\n",
      "v = 3.200000000000002\n",
      "v = 3.300000000000002\n",
      "v = 3.400000000000002\n",
      "v = 3.500000000000002\n",
      "v = 3.6000000000000023\n",
      "v = 3.7000000000000024\n",
      "v = 3.8000000000000025\n",
      "v = 3.9000000000000026\n"
     ]
    }
   ],
   "source": [
    "v_list = list(np.arange(1,4,.1))\n",
    "\n",
    "dfs = []\n",
    "for v in v_list:\n",
    "    print('v = {}'.format(v))\n",
    "    dfs.append(create_run(FG=FG,\n",
    "                          name='Vessel',\n",
    "                          origin='0', \n",
    "                          destination='1', \n",
    "                          vessel_type='inland vessel', \n",
    "                          L=110,                # m\n",
    "                          B=11.4,               # m \n",
    "                          T=3.5,                # m\n",
    "                          v=v,                  # m/s\n",
    "                          P_tot_given=None,     # kW \n",
    "                          arrival_time=datetime.datetime(2024, 1, 1, 0, 0, 0)))"
   ]
  },
  {
   "cell_type": "code",
   "execution_count": 9,
   "id": "bc95f9db-c04e-4803-91d1-006b1dc76958",
   "metadata": {},
   "outputs": [
    {
     "name": "stdout",
     "output_type": "stream",
     "text": [
      "At 1.0 m/s the vessel uses 98.95 kW for 1666.64 mins = 2748.53 kWh \n",
      "At 1.1 m/s the vessel uses 102.56 kW for 1515.13 mins = 2589.95 kWh \n",
      "At 1.2 m/s the vessel uses 106.85 kW for 1388.87 mins = 2473.37 kWh \n",
      "At 1.3 m/s the vessel uses 111.86 kW for 1282.03 mins = 2390.21 kWh \n",
      "At 1.4 m/s the vessel uses 117.65 kW for 1190.46 mins = 2334.35 kWh \n",
      "At 1.5 m/s the vessel uses 124.27 kW for 1111.09 mins = 2301.26 kWh \n",
      "At 1.6 m/s the vessel uses 131.77 kW for 1041.65 mins = 2287.56 kWh \n",
      "At 1.7 m/s the vessel uses 140.19 kW for 980.38 mins = 2290.62 kWh \n",
      "At 1.8 m/s the vessel uses 149.59 kW for 925.91 mins = 2308.42 kWh \n",
      "At 1.9 m/s the vessel uses 160.01 kW for 877.18 mins = 2339.34 kWh \n",
      "At 2.0 m/s the vessel uses 171.51 kW for 833.32 mins = 2382.06 kWh \n",
      "At 2.1 m/s the vessel uses 184.13 kW for 793.64 mins = 2435.55 kWh \n",
      "At 2.2 m/s the vessel uses 197.59 kW for 757.56 mins = 2494.72 kWh \n",
      "At 2.3 m/s the vessel uses 212.54 kW for 724.63 mins = 2566.92 kWh \n",
      "At 2.4 m/s the vessel uses 221.10 kW for 694.43 mins = 2558.95 kWh \n",
      "At 2.5 m/s the vessel uses 237.68 kW for 666.66 mins = 2640.83 kWh \n",
      "At 2.6 m/s the vessel uses 250.88 kW for 641.01 mins = 2680.30 kWh \n",
      "At 2.7 m/s the vessel uses 269.56 kW for 617.27 mins = 2773.17 kWh \n",
      "At 2.8 m/s the vessel uses 284.13 kW for 595.23 mins = 2818.66 kWh \n",
      "At 2.9 m/s the vessel uses 304.99 kW for 574.70 mins = 2921.29 kWh \n",
      "At 3.0 m/s the vessel uses 327.28 kW for 555.55 mins = 3030.33 kWh \n",
      "At 3.1 m/s the vessel uses 351.07 kW for 537.63 mins = 3145.72 kWh \n",
      "At 3.2 m/s the vessel uses 376.42 kW for 520.82 mins = 3267.47 kWh \n",
      "At 3.3 m/s the vessel uses 403.41 kW for 505.04 mins = 3395.63 kWh \n",
      "At 3.4 m/s the vessel uses 432.11 kW for 490.19 mins = 3530.29 kWh \n",
      "At 3.5 m/s the vessel uses 434.50 kW for 476.18 mins = 3448.32 kWh \n",
      "At 3.6 m/s the vessel uses 464.49 kW for 462.96 mins = 3583.95 kWh \n",
      "At 3.7 m/s the vessel uses 396.05 kW for 450.44 mins = 2973.31 kWh \n",
      "At 3.8 m/s the vessel uses 421.57 kW for 438.59 mins = 3081.62 kWh \n",
      "At 3.9 m/s the vessel uses 448.67 kW for 427.34 mins = 3195.58 kWh \n"
     ]
    }
   ],
   "source": [
    "total_energy=[]\n",
    "for index, df in enumerate(dfs):\n",
    "    total_energy.append(df.total_energy.values[0])\n",
    "    print('At {:.1f} m/s the vessel uses {:.2f} kW for {:.2f} mins = {:.2f} kWh '.format(v_list[index], df.P_given.values[0],df.delta_t.values[0]/60,df.total_energy.values[0]))"
   ]
  },
  {
   "cell_type": "code",
   "execution_count": 10,
   "id": "349c4ac1-5888-4f53-b089-cfcd18a27709",
   "metadata": {},
   "outputs": [
    {
     "data": {
      "image/png": "[encoded data removed]",
      "text/plain": [
       "<Figure size 640x480 with 1 Axes>"
      ]
     },
     "metadata": {},
     "output_type": "display_data"
    }
   ],
   "source": [
    "fig, axes = plt.subplots(1,1)\n",
    "\n",
    "plt.plot(v_list, total_energy, 'o-')\n",
    "\n",
    "axes.set_xlabel('v [m/s]');\n",
    "axes.set_ylabel('Total energy [kWh]');\n",
    "axes.set_title('Total energy on edge as a function of speed');"
   ]
  }
 ],
 "metadata": {
  "kernelspec": {
   "display_name": "Python 3 (ipykernel)",
   "language": "python",
   "name": "python3"
  },
  "language_info": {
   "codemirror_mode": {
    "name": "ipython",
    "version": 3
   },
   "file_extension": ".py",
   "mimetype": "text/x-python",
   "name": "python",
   "nbconvert_exporter": "python",
   "pygments_lexer": "ipython3",
   "version": "3.11.8"
  }
 },
 "nbformat": 4,
 "nbformat_minor": 5
}
