{
 "cells": [
  {
   "cell_type": "markdown",
   "id": "a7c23f3d",
   "metadata": {},
   "source": [
    "## Lock module basics\n",
    "In this notebook, we set up a basic simulation where two vessels move over a 1D network path that contains a shipping lock. \n",
    "\n",
    "We take the following steps:\n",
    "\n",
    "1. [Imports](#1.-Imports)\n",
    "    * [Initialise environment](#Initialise-environment)\n",
    "2. [Create vessel](#2.-Create-vessel)\n",
    "3. [Create graph](#3.-Create-graph)\n",
    "    * [Add hydrodynamic data](#3.1.-Add-hydrodynamic-data)\n",
    "    * [Add lock](#3.2.-Add-lock)\n",
    "4. [Run simulation](#4.-Run-simulation)\n",
    "5. [Inspect output](#5.-Inspect-output)"
   ]
  },
  {
   "cell_type": "markdown",
   "id": "b6e6b2b1-109c-4b1d-8b37-fd6ab4bebca8",
   "metadata": {},
   "source": [
    "### 1. Imports\n",
    "We start with importing required libraries"
   ]
  },
  {
   "cell_type": "code",
   "execution_count": 1,
   "id": "0a5d60f0",
   "metadata": {},
   "outputs": [],
   "source": [
    "import networkx as nx\n",
    "from shapely.geometry import Point,LineString,Polygon\n",
    "\n",
    "import datetime\n",
    "import simpy\n",
    "\n",
    "from opentnsim import core as core_module\n",
    "from opentnsim import graph as graph_module\n",
    "from opentnsim import lock as lock_module\n",
    "from opentnsim import output as output_module\n",
    "from opentnsim import vessel as vessel_module\n",
    "from opentnsim import vessel_traffic_service as vessel_traffic_service_module\n",
    "\n",
    "import pandas as pd\n",
    "\n",
    "import matplotlib.pyplot as plt"
   ]
  },
  {
   "cell_type": "markdown",
   "id": "df03f7f1",
   "metadata": {},
   "source": [
    "#### Initialise environment\n",
    "For later convenience we already initialise a simpy environment, with some additional properties related to the simulation start and stop time."
   ]
  },
  {
   "cell_type": "code",
   "execution_count": 2,
   "id": "625191e8",
   "metadata": {},
   "outputs": [],
   "source": [
    "t_start = datetime.datetime(2024, 1, 1, 0, 0, 0)\n",
    "\n",
    "env = simpy.Environment(initial_time=t_start.timestamp())\n",
    "\n",
    "env.epoch = t_start\n",
    "env.simulation_start = t_start"
   ]
  },
  {
   "cell_type": "markdown",
   "id": "1cd7f736-aad4-4525-9222-4b6dc0a2791d",
   "metadata": {},
   "source": [
    "### 2. Create vessel\n",
    "We start with creating a vessel class. We call this class a *Vessel*, and add a number of OpenTNSim mix-ins to this class. Each mix-in requires certain input parameters. We wrap the creation of the vessel class in a function, to facilitate the generation of multiple vessels. \n",
    "\n",
    "The following mix-ins are sufficient to create a vessel for our problem: \n",
    "* _Identifiable_ - allows to give the vessel a name and a random ID, \n",
    "* _SimpyObject_ -\n",
    "* _HasLock_ - the lock chamber where vessels stay during the leveling process\n",
    "* _HasLineUpArea_ - a place just in front of the lock to guide vessels entering the lock chamber\n",
    "* _HasWaitingArea_ - a place where vessels can wait before entering the lock\n",
    "* _VesselProperties_ - allows the specification of vessel properties, such as L, B and T\n",
    "* _ExtraMetadata_ -\n",
    "* _HasOutput_ -"
   ]
  },
  {
   "cell_type": "code",
   "execution_count": 3,
   "id": "29294d6e",
   "metadata": {},
   "outputs": [],
   "source": [
    "#We create a type element that schematisizes a vessel\n",
    "def create_vessel(env, \n",
    "                  name, \n",
    "                  origin, \n",
    "                  destination, \n",
    "                  vessel_type, \n",
    "                  L, \n",
    "                  B, \n",
    "                  T,\n",
    "                  v,\n",
    "                  arrival_time):\n",
    "    Vessel = type('Vessel',(lock_module.HasLockComplex,\n",
    "                            vessel_module.IsVessel,\n",
    "                           ),{})    \n",
    "\n",
    "    vessel = Vessel(\n",
    "        **{ \"env\": env,\n",
    "            \"name\": name,\n",
    "            \"origin\": origin,\n",
    "            \"destination\": destination,\n",
    "            \"type\": vessel_type,\n",
    "            \"L\": L,\n",
    "            \"B\": B,\n",
    "            \"T\": T,\n",
    "            \"v\": v,\n",
    "            \"arrival_time\": arrival_time\n",
    "        }\n",
    "    )\n",
    "\n",
    "    env.process(vessel.move())\n",
    "    \n",
    "    return vessel"
   ]
  },
  {
   "cell_type": "markdown",
   "id": "798037c7-f2f9-4c28-a440-fe27a804d9ae",
   "metadata": {},
   "source": [
    "### 3. Create graph\n",
    "Next we create a 1D network (a graph) along which the vessel can move. A graph is made of nodes (blue dots in the plot below) and edges (red arrows between the nodes in the plot below). We use the graph_module of OpenTNSim to do this. "
   ]
  },
  {
   "cell_type": "code",
   "execution_count": 4,
   "id": "50df10ec",
   "metadata": {},
   "outputs": [],
   "source": [
    "# specifiy nodes and edges\n",
    "node_A = graph_module.Node(name='A',geometry=Point(0,0))\n",
    "node_B = graph_module.Node(name='B',geometry=Point(400,0))\n",
    "\n",
    "edges = [(node_A,node_B)]\n",
    "\n",
    "# create a graph object\n",
    "FG = graph_module.DiGraph(edges=edges,crs='EPSG:28992').graph\n",
    "env.FG = nx.MultiDiGraph(FG)\n",
    "\n",
    "# add a VTS to the environment to know where vessels are going\n",
    "env.vessel_traffic_service = vessel_traffic_service_module.VesselTrafficService(env=env)"
   ]
  },
  {
   "cell_type": "code",
   "execution_count": 5,
   "id": "71d393c9-1338-4269-a6db-433e913fa7f6",
   "metadata": {},
   "outputs": [],
   "source": [
    "# collect node positions and labels\n",
    "nodes = []\n",
    "coordinates = []\n",
    "labels = {}\n",
    "\n",
    "for node in env.FG.nodes:\n",
    "    nodes.append(node)\n",
    "    coordinates.append([nx.get_node_attributes(env.FG, 'geometry')[node].x, nx.get_node_attributes(env.FG, 'geometry')[node].y])\n",
    "    labels[node] = node\n",
    "    \n",
    "positions = dict(zip(nodes, coordinates))"
   ]
  },
  {
   "cell_type": "code",
   "execution_count": 6,
   "id": "f8234c9b-6d1d-461e-a050-4b3ba539b6ba",
   "metadata": {},
   "outputs": [
    {
     "data": {
      "image/png": "[encoded data removed]",
      "text/plain": [
       "<Figure size 640x480 with 1 Axes>"
      ]
     },
     "metadata": {},
     "output_type": "display_data"
    }
   ],
   "source": [
    "# draw edges, nodes and labels\n",
    "nx.draw_networkx_edges(env.FG, pos=positions, width=3, edge_color=\"red\", alpha=1, arrowsize=10)\n",
    "nx.draw_networkx_nodes(env.FG, pos=positions, node_color=\"darkblue\", node_size=300)\n",
    "nx.draw_networkx_labels(env.FG, pos=positions, labels=labels, font_size=10, font_weight=\"bold\", font_color=\"white\")\n",
    "\n",
    "plt.axis(\"off\")\n",
    "plt.show()"
   ]
  },
  {
   "cell_type": "code",
   "execution_count": 7,
   "id": "101dc780",
   "metadata": {},
   "outputs": [],
   "source": [
    "# we add a lock to an edge in the network\n",
    "lock_I = lock_module.IsLockComplex(env=env,\n",
    "                                   name='Lock I',\n",
    "                                   start_node='A',\n",
    "                                   node_open='A',\n",
    "                                   end_node='B',\n",
    "                                   lock_length = 120,\n",
    "                                   lock_width = 18,\n",
    "                                   lock_depth = 6,\n",
    "                                   lineup_area_A_length=120,\n",
    "                                   lineup_area_B_length=120,\n",
    "                                   effective_lineup_area_B_length=120,\n",
    "                                   levelling_time=1500,\n",
    "                                   distance_doors_A_from_waiting_area_A=140,\n",
    "                                   distance_doors_B_from_waiting_area_B=140,\n",
    "                                   distance_waiting_area_A_from_start_node=0,\n",
    "                                   distance_waiting_area_B_from_end_node=0,\n",
    "                                   distance_lineup_area_A_to_lock_doors_A=20,\n",
    "                                   distance_lineup_area_B_to_lock_doors_B=20)"
   ]
  },
  {
   "cell_type": "markdown",
   "id": "3848b4b7",
   "metadata": {},
   "source": [
    "### 4. Run simulation"
   ]
  },
  {
   "cell_type": "markdown",
   "id": "a3318026",
   "metadata": {},
   "source": [
    "#### 4.1 Create a tracking diagram\n",
    "We show how to create a tracking diagram of two vessels passing a lock.\n",
    "\n",
    "We use the _create_vessel_ method to generate two vessels and run the simulation"
   ]
  },
  {
   "cell_type": "code",
   "execution_count": 8,
   "id": "f09984e9-dc63-4084-99a3-8b5bfe24efce",
   "metadata": {},
   "outputs": [],
   "source": [
    "vessel_1 = create_vessel(env=env, \n",
    "                         name='Vessel_1', \n",
    "                         origin='A', \n",
    "                         destination='B', \n",
    "                         vessel_type='inland vessel', \n",
    "                         L=100, \n",
    "                         B=15, \n",
    "                         T=5,\n",
    "                         v=2,\n",
    "                         arrival_time=datetime.datetime(2024, 1, 1, 0, 40, 0))\n",
    "\n",
    "vessel_2 = create_vessel(env=env, \n",
    "                         name='Vessel_2', \n",
    "                         origin='B', \n",
    "                         destination='A', \n",
    "                         vessel_type='inland vessel', \n",
    "                         L=100, \n",
    "                         B=15, \n",
    "                         T=5,\n",
    "                         v=2,\n",
    "                         arrival_time=datetime.datetime(2024, 1, 1, 0, 0, 0))\n",
    "\n",
    "vessels = [vessel_1, vessel_2]\n",
    "\n",
    "env.run()"
   ]
  },
  {
   "cell_type": "code",
   "execution_count": 9,
   "id": "adb16e6a",
   "metadata": {},
   "outputs": [],
   "source": [
    "vessel_1_df = pd.DataFrame(vessel_1.logbook)\n",
    "vessel_2_df = pd.DataFrame(vessel_2.logbook)"
   ]
  },
  {
   "cell_type": "code",
   "execution_count": 10,
   "id": "65d83bfe",
   "metadata": {},
   "outputs": [
    {
     "data": {
      "image/png": "[encoded data removed]",
      "text/plain": [
       "<Figure size 640x480 with 1 Axes>"
      ]
     },
     "metadata": {},
     "output_type": "display_data"
    }
   ],
   "source": [
    "fig, axes = plt.subplots(1,1)\n",
    "ylim = (min(vessel_1_df['Timestamp'].min(), vessel_2_df['Timestamp'].min()),\n",
    "        max(vessel_1_df['Timestamp'].max(), vessel_2_df['Timestamp'].max()))\n",
    "\n",
    "# create time distance diagram\n",
    "lock_I.create_time_distance_diagram(vessels,ax=axes,x_offset=-200,accuracy=200,ylim=ylim,vessel_colors=['red', 'blue'])\n",
    "\n",
    "# add markers of vessel 1\n",
    "axes.plot(-130,vessel_1_df[(vessel_1_df.Message=='Waiting in line-up area start')].Timestamp.item(), 'ro')\n",
    "axes.plot(-130,vessel_1_df[(vessel_1_df.Message=='Waiting in line-up area stop')].Timestamp.item(), 'ro')\n",
    "axes.plot(-60,vessel_1_df[(vessel_1_df.Message=='Sailing to first set of lock doors stop')].Timestamp.item(), 'ro')\n",
    "axes.plot(10,vessel_1_df[(vessel_1_df.Message=='Sailing to assigned location in lock stop')].Timestamp.item(), 'ro')\n",
    "axes.plot(10,vessel_1_df[(vessel_1_df.Message=='Sailing to second set of lock doors start')].Timestamp.item(), 'ro')\n",
    "axes.plot(60,vessel_1_df[(vessel_1_df.Message=='Sailing to second set of lock doors stop')].Timestamp.item(), 'ro')\n",
    "\n",
    "# add markers of vessel 2\n",
    "axes.plot(130,vessel_2_df[(vessel_2_df.Message=='Waiting in line-up area start')].Timestamp.item(), 'bo')\n",
    "axes.plot(130,vessel_2_df[(vessel_2_df.Message=='Waiting in line-up area stop')].Timestamp.item(), 'bo')\n",
    "axes.plot(60,vessel_2_df[(vessel_2_df.Message=='Sailing to first set of lock doors stop')].Timestamp.item(), 'bo')\n",
    "axes.plot(-10,vessel_2_df[(vessel_2_df.Message=='Sailing to assigned location in lock stop')].Timestamp.item(), 'bo')\n",
    "axes.plot(-10,vessel_2_df[(vessel_2_df.Message=='Sailing to second set of lock doors start')].Timestamp.item(), 'bo')\n",
    "axes.plot(-60,vessel_2_df[(vessel_2_df.Message=='Sailing to second set of lock doors stop')].Timestamp.item(), 'bo')\n",
    "\n",
    "axes.set_xlabel('')\n",
    "axes.set_xlabel('')\n",
    "axes.set_title('Lock I')\n",
    "axes.axis([-200,200,datetime.datetime(2024, 1, 1, 0, 0, 0),datetime.datetime(2024, 1, 1, 1, 31, 24)])\n",
    "\n",
    "fig.supxlabel('Distance');"
   ]
  },
  {
   "cell_type": "markdown",
   "id": "d572d5ae-dea7-4dae-b717-113c5125a005",
   "metadata": {},
   "source": [
    "The above tracking diagram corresponds to Part III - Figure 3.5 in Van Koningsveld et al (2023), https://doi.org/10.5074/T.2021.004."
   ]
  },
  {
   "cell_type": "markdown",
   "id": "d5a30305-7544-4b92-bb8b-768d3d97a624",
   "metadata": {},
   "source": [
    "#### 4.2 Fitting multiple vessels in a lock"
   ]
  },
  {
   "cell_type": "markdown",
   "id": "49fbc07c-95bb-4931-9576-64eb80cfbf91",
   "metadata": {},
   "source": [
    "#### 4.3 Accounting for realistic waterlevels"
   ]
  },
  {
   "cell_type": "markdown",
   "id": "5d76e27d-efd9-4099-b6d2-09fcf87474cd",
   "metadata": {},
   "source": [
    "#### 4.4 Estimating salt flux during locking"
   ]
  },
  {
   "cell_type": "markdown",
   "id": "73f234bf-8cda-4ced-be00-ae0311dad592",
   "metadata": {},
   "source": [
    "#### 4.5 Applying locking regimes"
   ]
  }
 ],
 "metadata": {
  "kernelspec": {
   "display_name": "Python 3 (ipykernel)",
   "language": "python",
   "name": "python3"
  },
  "language_info": {
   "codemirror_mode": {
    "name": "ipython",
    "version": 3
   },
   "file_extension": ".py",
   "mimetype": "text/x-python",
   "name": "python",
   "nbconvert_exporter": "python",
   "pygments_lexer": "ipython3",
   "version": "3.11.8"
  }
 },
 "nbformat": 4,
 "nbformat_minor": 5
}
