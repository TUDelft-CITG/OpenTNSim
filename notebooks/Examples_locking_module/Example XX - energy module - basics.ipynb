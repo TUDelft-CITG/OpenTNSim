{
 "cells": [
  {
   "cell_type": "markdown",
   "id": "7c12ef76",
   "metadata": {},
   "source": [
    "## Energy module - basic functionality\n",
    "In this notebook, we set up graph with a single edge to demonstrate some basic functionality of the Energy module.\n",
    "\n",
    "We take the following steps:\n",
    "\n",
    "1. [Imports](#1.-Imports)\n",
    "2. [Create vessel](#2.-Create-vessel)\n",
    "3. [Create graph](#3.-Create-graph)\n",
    "4. [Run simulation](#4.-Run-simulation)\n",
    "5. [Inspect output](#5.-Inspect-output)"
   ]
  },
  {
   "cell_type": "markdown",
   "id": "43e95553",
   "metadata": {},
   "source": [
    "### 1. Imports\n",
    "We start with importing required libraries"
   ]
  },
  {
   "cell_type": "code",
   "execution_count": 1,
   "id": "98365d9a",
   "metadata": {},
   "outputs": [],
   "source": [
    "# package(s) used for creating and geo-locating the graph\n",
    "import networkx as nx  \n",
    "from shapely.geometry import Point, LineString\n",
    "\n",
    "# package(s) related to the simulation (creating the vessel, running the simulation)\n",
    "import datetime, time\n",
    "import simpy\n",
    "import opentnsim\n",
    "from opentnsim import core as core_module\n",
    "from opentnsim import energy as energy_module\n",
    "from opentnsim import graph as graph_module\n",
    "from opentnsim import output as output_module\n",
    "from opentnsim import vessel as vessel_module\n",
    "from opentnsim import vessel_traffic_service as vessel_traffic_service_module\n",
    "\n",
    "import numpy as np\n",
    "import pandas as pd\n",
    "\n",
    "# package(s) needed for plotting\n",
    "import matplotlib.pyplot as plt"
   ]
  },
  {
   "cell_type": "markdown",
   "id": "aad1799e",
   "metadata": {},
   "source": [
    "### 2. Create vessel\n",
    "We start with creating a vessel class. We call this class a *Vessel*, and add a number of OpenTNSim mix-ins to this class. Each mix-in requires certain input parameters. \n",
    "\n",
    "The following mix-ins are sufficient to create a vessel for our problem: \n",
    "* _Identifiable_ - allows to give the vessel a name and a random ID, \n",
    "* _Movable_ - allows the vessel to move, with a fixed speed, while logging this activity,\n",
    "   * Movable in turn relies on the mix-ins: _Locatable_, _Routeable_, and _Log_\n",
    "* _VesselProperties_ - allows to give the vessel specific properties, \n",
    "* _ConsumesEnergy_ - enables calculation of resistance, required power and emissions"
   ]
  },
  {
   "cell_type": "code",
   "execution_count": 2,
   "id": "b86be76e-e22e-42f1-b0b1-aa8e5ee6b03b",
   "metadata": {},
   "outputs": [],
   "source": [
    "#We create a type element that schematisizes a vessel\n",
    "def create_vessel(env,\n",
    "                  name,\n",
    "                  origin, \n",
    "                  destination, \n",
    "                  vessel_type, \n",
    "                  L, \n",
    "                  B, \n",
    "                  T,\n",
    "                  v,\n",
    "                  P_tot_given,\n",
    "                  C_year,\n",
    "                  arrival_time):\n",
    "    \n",
    "    Vessel = type('Vessel',(energy_module.ConsumesEnergy,   # The vessel consumes energy\n",
    "                            vessel_module.IsVessel,         # Basic information of the vessel\n",
    "                           ),{})  \n",
    "    \n",
    "    vessel = Vessel(**{ \"env\": env,\n",
    "                        \"name\": name,\n",
    "                        \"origin\": origin,\n",
    "                        \"destination\": destination,\n",
    "                        \"type\": vessel_type,\n",
    "                        \"L\": L,                     # m\n",
    "                        \"B\": B,                     # m\n",
    "                        \"T\": T,                     # m\n",
    "                        \"v\": v,                     # m/s None: calculate this value based on P_tot_given\n",
    "                        \"safety_margin\": 0.2,       # for tanker vessel with sandy bed the safety margin is recommended as 0.2 m\n",
    "                        \"h_squat\": False,            # if consider the ship squatting while moving, set to True, otherwise set to False\n",
    "                        \"P_installed\": 1750.0,      # kW\n",
    "                        \"P_tot_given\": P_tot_given, # kW None: calculate this value based on speed\n",
    "                        \"bulbous_bow\": False,       # if a vessel has no bulbous_bow, set to False; otherwise set to True.\n",
    "                        \"P_hotel_perc\": 0.05,       # 0: all power goes to propulsion\n",
    "                        \"P_hotel\": None,            # None: calculate P_hotel from percentage\n",
    "                        \"x\": 2,                     # number of propellers\n",
    "                        \"L_w\": 3.0 ,\n",
    "                        \"C_B\": 0.85,                # block coefficient \n",
    "                        \"C_year\": 1990,             # engine build year\n",
    "                        \"arrival_time\": arrival_time,\n",
    "                      }\n",
    "                   )\n",
    "\n",
    "    env.process(vessel.move())\n",
    "    \n",
    "    return vessel"
   ]
  },
  {
   "cell_type": "markdown",
   "id": "204d9980",
   "metadata": {},
   "source": [
    "### 2. Create graph\n",
    "Next we create a 1D network (a graph) along which the vessel can move. A graph is made of nodes (blue dots in the plot below) and edges (red arrows between the nodes in the plot below). We use the python package networkx to do this. \n",
    "\n",
    "For this example, we construct a network of 4 nodes linked by 3 edges. The edges are made bi-directional to allow for two-way traffic, which means that the graph in the end contains 6 edges."
   ]
  },
  {
   "cell_type": "code",
   "execution_count": 3,
   "id": "7c0edd4f-2c87-45ad-8689-2286e9af24a8",
   "metadata": {},
   "outputs": [],
   "source": [
    "FG = nx.DiGraph()\n",
    "\n",
    "# specifiy nodes and edges\n",
    "node_A = graph_module.Node(name='0',geometry=Point(0,0))\n",
    "node_B = graph_module.Node(name='1',geometry=Point(0.8983,0))\n",
    "\n",
    "edges = [(node_A,node_B)]\n",
    "\n",
    "# create a graph object\n",
    "depths = {\"GeneralDepth\": [6.0]}\n",
    "FG = graph_module.DiGraph(edges=edges,edges_info=depths).graph"
   ]
  },
  {
   "cell_type": "code",
   "execution_count": 4,
   "id": "844815c7-aca2-4707-8e17-812c6a283b66",
   "metadata": {},
   "outputs": [],
   "source": [
    "# collect node positions and labels\n",
    "nodes = []\n",
    "coordinates = []\n",
    "labels = {}\n",
    "\n",
    "for node in FG.nodes:\n",
    "    nodes.append(node)\n",
    "    coordinates.append([nx.get_node_attributes(FG, 'geometry')[node].x, nx.get_node_attributes(FG, 'geometry')[node].y])\n",
    "    labels[node] = node\n",
    "    \n",
    "positions = dict(zip(nodes, coordinates))"
   ]
  },
  {
   "cell_type": "code",
   "execution_count": 5,
   "id": "7b475652-a188-4208-a72c-6a9da684f721",
   "metadata": {},
   "outputs": [
    {
     "data": {
      "image/png": "[encoded data removed]",
      "text/plain": [
       "<Figure size 432x288 with 1 Axes>"
      ]
     },
     "metadata": {},
     "output_type": "display_data"
    }
   ],
   "source": [
    "# draw edges, nodes and labels\n",
    "nx.draw_networkx_edges(FG, pos=positions, width=3, edge_color=\"red\", alpha=1, arrowsize=20)\n",
    "nx.draw_networkx_nodes(FG, pos=positions, node_color=\"darkblue\", node_size=600)\n",
    "nx.draw_networkx_labels(FG, pos=positions, labels=labels, font_size=15, font_weight=\"bold\", font_color=\"white\")\n",
    "\n",
    "plt.axis(\"off\")\n",
    "plt.show()"
   ]
  },
  {
   "cell_type": "code",
   "execution_count": 6,
   "id": "669f8431",
   "metadata": {},
   "outputs": [
    {
     "name": "stdout",
     "output_type": "stream",
     "text": [
      "General depth for edge ('0', '1') is 6.0 m\n",
      "General depth for edge ('1', '0') is 6.0 m\n"
     ]
    }
   ],
   "source": [
    "# This cell just shows that now a depth of 10 m is added to the edges. \n",
    "# You can use this to vary depths, e.g. make the middle edge shallower. Note that edges are bi-directional \n",
    "for edge in FG.edges:\n",
    "    print('General depth for edge {} is {} m'.format(edge, FG.get_edge_data(edge[0], edge[1])[\"Info\"][\"GeneralDepth\"]))"
   ]
  },
  {
   "cell_type": "markdown",
   "id": "23a32375",
   "metadata": {},
   "source": [
    "### 4. Run simulation(s)\n",
    "Now we can define the run. After we define the path that the vessel will sail, we make an environment and add the graph to the environment. Then we add one vessel, to which we will append the environment and the route. Lastly, we give the vessel the process of moving from the origin to the destination of the defined path and subsequently run the model."
   ]
  },
  {
   "cell_type": "code",
   "execution_count": 7,
   "id": "e9e622df-bfa0-493b-818f-340d0f45669b",
   "metadata": {
    "slideshow": {
     "slide_type": ""
    },
    "tags": []
   },
   "outputs": [],
   "source": [
    "def create_run(FG,\n",
    "               name,\n",
    "               origin, \n",
    "               destination, \n",
    "               vessel_type, \n",
    "               L, \n",
    "               B, \n",
    "               T,\n",
    "               v,\n",
    "               P_tot_given, \n",
    "               C_year,\n",
    "               arrival_time):\n",
    "    \n",
    "    # Start simpy environment\n",
    "    t_start = datetime.datetime(2024, 1, 1, 0, 0, 0)\n",
    "    \n",
    "    env = simpy.Environment(initial_time=t_start.timestamp())\n",
    "    \n",
    "    env.epoch = t_start\n",
    "    env.simulation_start = t_start\n",
    "    \n",
    "    # Add graph to environment\n",
    "    env.FG = FG\n",
    "    \n",
    "    #In order from ships to know where they are going we need to add an VTS to the environment\n",
    "    env.vessel_traffic_service = vessel_traffic_service_module.VesselTrafficService(env=env)\n",
    "\n",
    "    # Create vessel\n",
    "    vessel = create_vessel(env=env,\n",
    "                           name='Vessel',\n",
    "                           origin='0', \n",
    "                           destination='1', \n",
    "                           vessel_type='inland vessel', \n",
    "                           L=L,                         # m\n",
    "                           B=B,                         # m \n",
    "                           T=T,                         # m\n",
    "                           v=v,                         # m/s\n",
    "                           P_tot_given=P_tot_given,     # kW \n",
    "                           C_year=C_year,               # engine construction year\n",
    "                           arrival_time=datetime.datetime(2024, 1, 1, 0, 0, 0))\n",
    "    \n",
    "    env.run()\n",
    "    \n",
    "    energycalculation = opentnsim.energy.EnergyCalculation(env.FG, vessel)\n",
    "    energycalculation.calculate_energy_consumption()\n",
    "    \n",
    "    df = pd.DataFrame.from_dict(energycalculation.energy_use)\n",
    "    df['fuel_kg_per_km'] = (df['total_diesel_consumption_ICE_mass'] / 1000) / (df['distance']/1000)\n",
    "    df['CO2_g_per_km']   = (df['total_emission_CO2']) / (df['distance']/1000)\n",
    "    df['PM10_g_per_km']  = (df['total_emission_PM10']) / (df['distance']/1000)\n",
    "    df['NOx_g_per_km']   = (df['total_emission_NOX']) / (df['distance']/1000)\n",
    "    \n",
    "    return df, vessel"
   ]
  },
  {
   "cell_type": "markdown",
   "id": "b85426d1-eb6d-4f46-8d48-5daa11f31387",
   "metadata": {},
   "source": [
    "### 4.1 Show the effects of vessel velocity on resistance, power and energy\n",
    "We will now sail the same path with the same vessel at different speeds"
   ]
  },
  {
   "cell_type": "code",
   "execution_count": 8,
   "id": "fd6311b1-947b-41d2-b9f2-40aaa30c992c",
   "metadata": {},
   "outputs": [],
   "source": [
    "# set the waterdepth (h_0) on the edge\n",
    "FG.edges[('0', '1')]['Info']['GeneralDepth']=7.5\n",
    "FG.edges[('1', '0')]['Info']['GeneralDepth']=7.5\n",
    "\n",
    "# generate a range of vessel speeds\n",
    "v_list = list(np.arange(0.1,6,.1))\n",
    "\n",
    "# generate vessels that sail the edge for the given range of vessel speeds\n",
    "dfs = []\n",
    "vessels = []\n",
    "for v in v_list:\n",
    "    df, vessel = create_run(FG=FG,\n",
    "                          name='Vessel',\n",
    "                          origin='0', \n",
    "                          destination='1', \n",
    "                          vessel_type='inland vessel', \n",
    "                          L=135,                # m\n",
    "                          B=11.45,              # m \n",
    "                          T=2.75,               # m\n",
    "                          v=v,                  # m/s\n",
    "                          P_tot_given=None,     # kW \n",
    "                          C_year=1990,          # engine construction year\n",
    "                          arrival_time=datetime.datetime(2024, 1, 1, 0, 0, 0))\n",
    "    dfs.append(df)\n",
    "    vessels.append(vessel)"
   ]
  },
  {
   "cell_type": "code",
   "execution_count": 9,
   "id": "bc95f9db-c04e-4803-91d1-006b1dc76958",
   "metadata": {},
   "outputs": [],
   "source": [
    "# collect values to plot\n",
    "R_tot=[]\n",
    "R_f_one_k1=[] \n",
    "R_APP=[]\n",
    "R_W=[]\n",
    "R_res=[]\n",
    "P_tot=[]\n",
    "total_energy=[]\n",
    "for index, df in enumerate(dfs):\n",
    "    R_tot.append(vessels[index].R_tot)\n",
    "    R_f_one_k1.append(vessels[index].R_f_one_k1)\n",
    "    R_APP.append(vessels[index].R_APP)\n",
    "    R_W.append(vessels[index].R_W)\n",
    "    R_res.append(vessels[index].R_res)\n",
    "    P_tot.append(df.P_tot.values[0])\n",
    "    total_energy.append(df.total_energy.values[0])"
   ]
  },
  {
   "cell_type": "code",
   "execution_count": 10,
   "id": "349c4ac1-5888-4f53-b089-cfcd18a27709",
   "metadata": {},
   "outputs": [
    {
     "data": {
      "image/png": "[encoded data removed]",
      "text/plain": [
       "<Figure size 864x288 with 3 Axes>"
      ]
     },
     "metadata": {
      "needs_background": "light"
     },
     "output_type": "display_data"
    }
   ],
   "source": [
    "fig, axes = plt.subplots(1,3,figsize=(12,4))\n",
    "\n",
    "# plot resistance components as a function of vessel speed\n",
    "axes[0].plot([i*3.6 for i in v_list], R_tot, '-',  c='blue', mfc='blue', mec='blue', markersize=3, label='$R_T$')\n",
    "axes[0].plot([i*3.6 for i in v_list], R_f_one_k1, '-',  c='orange', mfc='orange', mec='orange', markersize=3, label='$R_f (1+k_1)$')\n",
    "axes[0].plot([i*3.6 for i in v_list], R_APP, '-',  c='green', mfc='green', mec='green', markersize=3, label='$R_{app}$')\n",
    "axes[0].plot([i*3.6 for i in v_list], R_W, '--',  c='red', mfc='red', mec='red', markersize=3, label='$R_W$')\n",
    "axes[0].plot([i*3.6 for i in v_list], R_res, ':',  c='magenta', mfc='magenta', mec='magenta', markersize=3, label='$R_{res}$')\n",
    "\n",
    "axes[0].axis([0,22,0,180])\n",
    "axes[0].set_xlabel('v [km/h]');\n",
    "axes[0].set_ylabel('Total resistance [kN]');\n",
    "axes[0].set_title('Total resistance on edge as a function of speed', fontsize=10);\n",
    "axes[0].legend(loc='upper left')\n",
    "    \n",
    "# plot total power needed to pass the edge as a function of vessel speed\n",
    "axes[1].plot([i*3.6 for i in v_list], P_tot, '-o',  c='blue', mfc='blue', mec='blue', markersize=3)\n",
    "\n",
    "axes[1].axis([0,22,0,2500])\n",
    "axes[1].set_xlabel('v [km/h]');\n",
    "axes[1].set_ylabel('Total power [kW]');\n",
    "axes[1].set_title('Total energy on edge as a function of speed', fontsize=10);\n",
    "\n",
    "# plot total energy needed to pass the edge as a function of vessel speed \n",
    "axes[2].plot([i*3.6 for i in v_list], total_energy, '-o',  c='blue', mfc='blue', mec='blue', markersize=3)\n",
    "\n",
    "axes[2].axis([0,22,0,25000])\n",
    "axes[2].set_xlabel('v [km/h]');\n",
    "axes[2].set_ylabel('Total energy [kWh]');\n",
    "axes[2].set_title('Total energy on edge as a function of speed', fontsize=10);\n",
    "\n",
    "fig.tight_layout()"
   ]
  },
  {
   "cell_type": "markdown",
   "id": "7a8bbcae-d7bd-4e88-a00c-8d133a71cc8b",
   "metadata": {},
   "source": [
    "Panel 1 in the figure above, corresponds to Part IV - Figure 5.4 in Van Koningsveld et al (2023), https://doi.org/10.5074/T.2021.004. Panel 2 shows how the R_tot from Panel 1 is converted to P_tot, multiplying with v and using various efficiency factors. Panel 3 shows the total energy that is required to pass the 100 km long edge. This total energy is derived by multiplying the P_tot with the time it takes to pass the edge. For very low v's the R_tot is low, but it also takes long to pass the edge. For high v's the R_tot escalates, but the time to pass the edge reduces.\n",
    "\n",
    "NB: The dot on the far right in Panel 3 represents a first velocity where the P_tot is larger than the P_installed. "
   ]
  },
  {
   "cell_type": "markdown",
   "id": "060f43aa-9877-4e9e-b27c-ccc1d1e8d609",
   "metadata": {},
   "source": [
    "### 4.2 Show the effects of vessel velocity on emissions\n",
    "We use the results from the previous section to show the effects of vessel velocities on emissions."
   ]
  },
  {
   "cell_type": "code",
   "execution_count": 11,
   "id": "05c8b3e9-eab1-43fc-9f6e-45bcbbd11a59",
   "metadata": {},
   "outputs": [],
   "source": [
    "# collect values to plot\n",
    "total_CO2=[]\n",
    "total_NOx=[]\n",
    "total_PM10=[]\n",
    "for index, df in enumerate(dfs):\n",
    "    total_CO2.append(df.CO2_g_per_km.values[0])\n",
    "    total_NOx.append(df.NOx_g_per_km.values[0])\n",
    "    total_PM10.append(df.PM10_g_per_km.values[0])"
   ]
  },
  {
   "cell_type": "code",
   "execution_count": 12,
   "id": "0ca3c99e-3f69-4187-9be2-6351e37260b9",
   "metadata": {},
   "outputs": [
    {
     "data": {
      "image/png": "[encoded data removed]",
      "text/plain": [
       "<Figure size 864x288 with 3 Axes>"
      ]
     },
     "metadata": {
      "needs_background": "light"
     },
     "output_type": "display_data"
    }
   ],
   "source": [
    "fig, axes = plt.subplots(1,3,figsize=(12,4))\n",
    "\n",
    "# plot the g CO2 per km as a function of vessel speed \n",
    "axes[0].plot([i*3.6 for i in v_list], total_CO2, '-',  c='orange')\n",
    "\n",
    "axes[0].axis([0,20,0,100000])\n",
    "axes[0].set_xlabel('v [km/h]');\n",
    "axes[0].set_ylabel('Total CO2 [g/km]');\n",
    "axes[0].set_title('Total g CO2 per km as a function of speed', fontsize=10);\n",
    "\n",
    "# plot the g PM10 per km as a function of vessel speed \n",
    "axes[1].plot([i*3.6 for i in v_list], total_PM10, '-',  c='green')\n",
    "\n",
    "axes[1].axis([0,20,0,100])\n",
    "axes[1].set_xlabel('v [km/h]');\n",
    "axes[1].set_ylabel('Total PM10 [g/km]');\n",
    "axes[1].set_title('Total g PM10 per km as a function of speed', fontsize=10);\n",
    "\n",
    "# plot the g NOx per km as a function of vessel speed \n",
    "axes[2].plot([i*3.6 for i in v_list], total_NOx, '-',  c='magenta')\n",
    "\n",
    "axes[2].axis([0,20,0,1600])\n",
    "axes[2].set_xlabel('v [km/h]');\n",
    "axes[2].set_ylabel('Total NOx [g/km]');\n",
    "axes[2].set_title('Total g NOx per km as a function of speed', fontsize=10);\n",
    "\n",
    "fig.tight_layout()"
   ]
  },
  {
   "cell_type": "markdown",
   "id": "63344f88-bc48-4ad9-8f15-768eaa528c9a",
   "metadata": {},
   "source": [
    "The above figure, corresponds to Part IV - Figure 5.10 in Van Koningsveld et al (2023), https://doi.org/10.5074/T.2021.004. Panel 1 shows g/km emission of CO2 (the total CO2 emitted while passing the 100 km edge, divided by the length of the edge). Panel 2 shows the g/km emission of PM10. Panel 3 shows the g/km emission of NOx. The y-axes indicate emissions in g/km. The shape of the graph shows that for low speeds inefficient engine use combined with longer dwell time leads to higher emissions per unit distance. For higher speeds the increased resistance leads to higher emissions per unit distance. An optimum lies in between."
   ]
  },
  {
   "cell_type": "code",
   "execution_count": 13,
   "id": "69856e3f-5f99-4029-b72f-f8c7c8e5e0be",
   "metadata": {},
   "outputs": [
    {
     "data": {
      "application/vnd.jupyter.widget-view+json": {
       "model_id": "37c0aa7202ae461dbfb251c3f3499dd0",
       "version_major": 2,
       "version_minor": 0
      },
      "text/plain": [
       "interactive(children=(IntSlider(value=1600, description='P_tot_given', max=1700, min=1500), Output()), _dom_cl…"
      ]
     },
     "metadata": {},
     "output_type": "display_data"
    }
   ],
   "source": [
    "import ipywidgets\n",
    "\n",
    "FG.edges[('0', '1')]['Info']['GeneralDepth'] = 7000\n",
    "FG.edges[('1', '0')]['Info']['GeneralDepth'] = 7000\n",
    "\n",
    "@ipywidgets.interact\n",
    "def power_up(P_tot_given=(1500, 1700)):\n",
    "    \n",
    "    df, vessel = create_run(\n",
    "        FG=FG,\n",
    "        name='Vessel',\n",
    "        origin='0', \n",
    "        destination='1', \n",
    "        vessel_type='inland vessel', \n",
    "        L=135,                   # m\n",
    "        B=11.45,                 # m \n",
    "        T=2.3,                  # m\n",
    "        v=None,                  # m/s\n",
    "        P_tot_given=P_tot_given, # kW \n",
    "        C_year=1990,             # engine construction year\n",
    "        arrival_time=datetime.datetime(2024, 1, 1, 0, 0, 0)\n",
    "    )\n",
    "    data = {}\n",
    "    for key in [\"T\"]:\n",
    "        data[key] = getattr(vessel, key)\n",
    "    \n",
    "    # keys \"P_hotel\", \"P_given\", \"P_installed\", \"P_propulsion\"\n",
    "    for key in vars(vessel).keys():\n",
    "        if key.startswith('P')  or key.startswith('eta') or key.startswith('F') or key.startswith('x') or key.startswith('v') or key.startswith('upperbound'):\n",
    "            data[key] = getattr(vessel, key)\n",
    "    data['vessel'] = vessel\n",
    "    return pd.Series(data=data)\n",
    "\n",
    "series = power_up(P_tot_given=1650)\n",
    "\n"
   ]
  },
  {
   "cell_type": "code",
   "execution_count": 14,
   "id": "85c7d849",
   "metadata": {},
   "outputs": [
    {
     "data": {
      "text/html": [
       "<div>\n",
       "<style scoped>\n",
       "    .dataframe tbody tr th:only-of-type {\n",
       "        vertical-align: middle;\n",
       "    }\n",
       "\n",
       "    .dataframe tbody tr th {\n",
       "        vertical-align: top;\n",
       "    }\n",
       "\n",
       "    .dataframe thead th {\n",
       "        text-align: right;\n",
       "    }\n",
       "</style>\n",
       "<table border=\"1\" class=\"dataframe\">\n",
       "  <thead>\n",
       "    <tr style=\"text-align: right;\">\n",
       "      <th></th>\n",
       "      <th>velocity</th>\n",
       "      <th>Powerallowed_v</th>\n",
       "      <th>P_tot</th>\n",
       "      <th>P_installed</th>\n",
       "      <th>depth</th>\n",
       "      <th>max_sinkage</th>\n",
       "      <th>h_0</th>\n",
       "    </tr>\n",
       "  </thead>\n",
       "  <tbody>\n",
       "    <tr>\n",
       "      <th>20</th>\n",
       "      <td>0.811202</td>\n",
       "      <td>0.811202</td>\n",
       "      <td>92.080108</td>\n",
       "      <td>1750.0</td>\n",
       "      <td>7000</td>\n",
       "      <td>0</td>\n",
       "      <td>7000</td>\n",
       "    </tr>\n",
       "    <tr>\n",
       "      <th>21</th>\n",
       "      <td>0.851262</td>\n",
       "      <td>0.851262</td>\n",
       "      <td>92.762120</td>\n",
       "      <td>1750.0</td>\n",
       "      <td>7000</td>\n",
       "      <td>0</td>\n",
       "      <td>7000</td>\n",
       "    </tr>\n",
       "    <tr>\n",
       "      <th>22</th>\n",
       "      <td>0.891322</td>\n",
       "      <td>0.891322</td>\n",
       "      <td>93.507229</td>\n",
       "      <td>1750.0</td>\n",
       "      <td>7000</td>\n",
       "      <td>0</td>\n",
       "      <td>7000</td>\n",
       "    </tr>\n",
       "    <tr>\n",
       "      <th>23</th>\n",
       "      <td>0.931382</td>\n",
       "      <td>0.931382</td>\n",
       "      <td>94.318036</td>\n",
       "      <td>1750.0</td>\n",
       "      <td>7000</td>\n",
       "      <td>0</td>\n",
       "      <td>7000</td>\n",
       "    </tr>\n",
       "    <tr>\n",
       "      <th>24</th>\n",
       "      <td>0.971443</td>\n",
       "      <td>0.971443</td>\n",
       "      <td>95.197125</td>\n",
       "      <td>1750.0</td>\n",
       "      <td>7000</td>\n",
       "      <td>0</td>\n",
       "      <td>7000</td>\n",
       "    </tr>\n",
       "    <tr>\n",
       "      <th>25</th>\n",
       "      <td>1.011503</td>\n",
       "      <td>1.011503</td>\n",
       "      <td>96.147064</td>\n",
       "      <td>1750.0</td>\n",
       "      <td>7000</td>\n",
       "      <td>0</td>\n",
       "      <td>7000</td>\n",
       "    </tr>\n",
       "    <tr>\n",
       "      <th>26</th>\n",
       "      <td>1.051563</td>\n",
       "      <td>1.051563</td>\n",
       "      <td>97.170408</td>\n",
       "      <td>1750.0</td>\n",
       "      <td>7000</td>\n",
       "      <td>0</td>\n",
       "      <td>7000</td>\n",
       "    </tr>\n",
       "    <tr>\n",
       "      <th>27</th>\n",
       "      <td>1.091623</td>\n",
       "      <td>1.091623</td>\n",
       "      <td>98.269695</td>\n",
       "      <td>1750.0</td>\n",
       "      <td>7000</td>\n",
       "      <td>0</td>\n",
       "      <td>7000</td>\n",
       "    </tr>\n",
       "    <tr>\n",
       "      <th>28</th>\n",
       "      <td>1.131683</td>\n",
       "      <td>1.131683</td>\n",
       "      <td>99.447453</td>\n",
       "      <td>1750.0</td>\n",
       "      <td>7000</td>\n",
       "      <td>0</td>\n",
       "      <td>7000</td>\n",
       "    </tr>\n",
       "    <tr>\n",
       "      <th>29</th>\n",
       "      <td>1.171743</td>\n",
       "      <td>1.171743</td>\n",
       "      <td>100.706196</td>\n",
       "      <td>1750.0</td>\n",
       "      <td>7000</td>\n",
       "      <td>0</td>\n",
       "      <td>7000</td>\n",
       "    </tr>\n",
       "  </tbody>\n",
       "</table>\n",
       "</div>"
      ],
      "text/plain": [
       "    velocity  Powerallowed_v       P_tot  P_installed  depth  max_sinkage  \\\n",
       "20  0.811202        0.811202   92.080108       1750.0   7000            0   \n",
       "21  0.851262        0.851262   92.762120       1750.0   7000            0   \n",
       "22  0.891322        0.891322   93.507229       1750.0   7000            0   \n",
       "23  0.931382        0.931382   94.318036       1750.0   7000            0   \n",
       "24  0.971443        0.971443   95.197125       1750.0   7000            0   \n",
       "25  1.011503        1.011503   96.147064       1750.0   7000            0   \n",
       "26  1.051563        1.051563   97.170408       1750.0   7000            0   \n",
       "27  1.091623        1.091623   98.269695       1750.0   7000            0   \n",
       "28  1.131683        1.131683   99.447453       1750.0   7000            0   \n",
       "29  1.171743        1.171743  100.706196       1750.0   7000            0   \n",
       "\n",
       "     h_0  \n",
       "20  7000  \n",
       "21  7000  \n",
       "22  7000  \n",
       "23  7000  \n",
       "24  7000  \n",
       "25  7000  \n",
       "26  7000  \n",
       "27  7000  \n",
       "28  7000  \n",
       "29  7000  "
      ]
     },
     "execution_count": 14,
     "metadata": {},
     "output_type": "execute_result"
    }
   ],
   "source": [
    "series.vessel.results_df[20:30]"
   ]
  },
  {
   "cell_type": "markdown",
   "id": "70e74ada-5731-411b-b41a-3f006e9d5a01",
   "metadata": {},
   "source": [
    "### 4.3 Show the effects of increasing engine power on vessel speed and emissions\n",
    "We will now sail the same path with the same vessel at a given speed, and change the water depths in steps."
   ]
  },
  {
   "cell_type": "code",
   "execution_count": 15,
   "id": "1dcd01cd-1732-4b92-811a-58d523812ace",
   "metadata": {},
   "outputs": [],
   "source": [
    "# set the waterdepth (h_0) on the edge\n",
    "FG.edges[('0', '1')]['Info']['GeneralDepth']=7.5\n",
    "FG.edges[('1', '0')]['Info']['GeneralDepth']=7.5\n",
    "\n",
    "# generate a range of vessel speeds\n",
    "P_tot_given_list = list(np.arange(100,2000,10))\n",
    "\n",
    "# P_tot_given_list = [1500, 1800]\n",
    "\n",
    "# generate vessels that sail the edge for the given range of vessel speeds\n",
    "dfs = []\n",
    "vessels = []\n",
    "for P_tot_given in P_tot_given_list:\n",
    "    df, vessel = create_run(FG=FG,\n",
    "                          name='Vessel',\n",
    "                          origin='0', \n",
    "                          destination='1', \n",
    "                          vessel_type='inland vessel', \n",
    "                          L=135,                   # m\n",
    "                          B=11.45,                 # m \n",
    "                          T=2.75,                  # m\n",
    "                          v=None,                  # m/s\n",
    "                          P_tot_given=P_tot_given, # kW \n",
    "                          C_year=1990,             # engine construction year\n",
    "                          arrival_time=datetime.datetime(2024, 1, 1, 0, 0, 0))\n",
    "    dfs.append(df)\n",
    "    vessels.append(vessel)"
   ]
  },
  {
   "cell_type": "code",
   "execution_count": 16,
   "id": "acbd8a0b-8467-4306-864f-24823e217d23",
   "metadata": {},
   "outputs": [],
   "source": [
    "# collect values to plot\n",
    "R_tot=[]\n",
    "R_f_one_k1=[] \n",
    "R_APP=[]\n",
    "R_W=[]\n",
    "R_res=[]\n",
    "P_tot=[]\n",
    "total_energy=[]\n",
    "v_list = []\n",
    "v_power_given=[]\n",
    "for index, df in enumerate(dfs):\n",
    "    R_tot.append(vessels[index].R_tot)\n",
    "    R_f_one_k1.append(vessels[index].R_f_one_k1)\n",
    "    R_APP.append(vessels[index].R_APP)\n",
    "    R_W.append(vessels[index].R_W)\n",
    "    R_res.append(vessels[index].R_res)\n",
    "    P_tot.append(df.P_tot.values[0])\n",
    "    total_energy.append(df.total_energy.values[0])\n",
    "    v_list.append(vessels[index].v)\n",
    "    v_power_given.append(vessels[index].P_given)"
   ]
  },
  {
   "cell_type": "code",
   "execution_count": 17,
   "id": "abf75dc5-c941-4390-a0a1-e5a169a365ec",
   "metadata": {},
   "outputs": [
    {
     "data": {
      "image/png": "[encoded data removed]",
      "text/plain": [
       "<Figure size 864x288 with 3 Axes>"
      ]
     },
     "metadata": {
      "needs_background": "light"
     },
     "output_type": "display_data"
    }
   ],
   "source": [
    "fig, axes = plt.subplots(1,3,figsize=(12,4))\n",
    "\n",
    "# plot resistance components as a function of vessel speed\n",
    "axes[0].plot([i for i in P_tot_given_list], R_tot, '-',  c='blue', mfc='blue', mec='blue', markersize=3, label='$R_T$')\n",
    "axes[0].plot([i for i in P_tot_given_list], R_f_one_k1, '-',  c='orange', mfc='orange', mec='orange', markersize=3, label='$R_f (1+k_1)$')\n",
    "axes[0].plot([i for i in P_tot_given_list], R_APP, '-',  c='green', mfc='green', mec='green', markersize=3, label='$R_{app}$')\n",
    "axes[0].plot([i for i in P_tot_given_list], R_W, '--',  c='red', mfc='red', mec='red', markersize=3, label='$R_W$')\n",
    "axes[0].plot([i for i in P_tot_given_list], R_res, ':',  c='magenta', mfc='magenta', mec='magenta', markersize=3, label='$R_{res}$')\n",
    "\n",
    "axes[0].axis([0,1900,0,125])\n",
    "axes[0].set_xlabel('P_tot_given [kW]');\n",
    "axes[0].set_ylabel('Resistance [kN]');\n",
    "axes[0].set_title('Total resistance on edge as a function of speed', fontsize=10);\n",
    "axes[0].legend(loc='upper left')\n",
    "    \n",
    "# plot total power needed to pass the edge as a function of vessel speed\n",
    "# todo: something is still not right (I expect the P_tot_given and the P_tot to be equal ... that should be the target of the optimisation)\n",
    "axes[1].plot([i for i in P_tot_given_list], v_power_given, '-o',  c='blue', mfc='blue', mec='blue', markersize=3, label='power given (kW)')\n",
    "axes[1].plot([0,1900], [1750, 1750], '--r', label='max power installed (kW)')\n",
    "\n",
    "axes[1].axis([0,1900,0,1900])\n",
    "axes[1].set_xlabel('P_tot_given [kW]');\n",
    "axes[1].set_ylabel('Power [kW]');\n",
    "axes[1].set_title('Total power delivered as a function of power given', fontsize=10);\n",
    "axes[1].legend(loc='lower right')\n",
    "\n",
    "# plot total energy needed to pass the edge as a function of vessel speed \n",
    "axes[2].plot([i for i in P_tot_given_list], v_list, '-o',  c='blue', mfc='blue', mec='blue', markersize=3)\n",
    "\n",
    "axes[2].axis([0,1900,0,8])\n",
    "axes[2].set_xlabel('P_tot_given [kW]');\n",
    "axes[2].set_ylabel('vessel speed [m/s]');\n",
    "axes[2].set_title('Vessel speed on edge as a function of power given', fontsize=10);\n",
    "\n",
    "fig.tight_layout()"
   ]
  },
  {
   "cell_type": "markdown",
   "id": "71ebfb04-2c2d-49e9-8e9d-80640f69ba84",
   "metadata": {},
   "source": [
    "The above plot shows how resistance, speed and power needed vary as a function of P_tot_given. Where by specifying v you can theoretically sail faster than the engine allows, specifying P_tot_given restricts the maximum speed to that what can be achieved by the P_installed."
   ]
  },
  {
   "cell_type": "code",
   "execution_count": 18,
   "id": "e2243c5b-8108-4c2f-9f5e-d07ecfcf2883",
   "metadata": {},
   "outputs": [
    {
     "data": {
      "text/html": [
       "<div>\n",
       "<style scoped>\n",
       "    .dataframe tbody tr th:only-of-type {\n",
       "        vertical-align: middle;\n",
       "    }\n",
       "\n",
       "    .dataframe tbody tr th {\n",
       "        vertical-align: top;\n",
       "    }\n",
       "\n",
       "    .dataframe thead th {\n",
       "        text-align: right;\n",
       "    }\n",
       "</style>\n",
       "<table border=\"1\" class=\"dataframe\">\n",
       "  <thead>\n",
       "    <tr style=\"text-align: right;\">\n",
       "      <th></th>\n",
       "      <th>time_start</th>\n",
       "      <th>time_stop</th>\n",
       "      <th>edge_start</th>\n",
       "      <th>edge_stop</th>\n",
       "      <th>P_tot</th>\n",
       "      <th>P_given</th>\n",
       "      <th>P_installed</th>\n",
       "      <th>total_energy</th>\n",
       "      <th>total_diesel_consumption_C_year_ICE_mass</th>\n",
       "      <th>total_diesel_consumption_ICE_mass</th>\n",
       "      <th>...</th>\n",
       "      <th>total_emission_PM10</th>\n",
       "      <th>total_emission_NOX</th>\n",
       "      <th>stationary</th>\n",
       "      <th>water depth</th>\n",
       "      <th>distance</th>\n",
       "      <th>delta_t</th>\n",
       "      <th>fuel_kg_per_km</th>\n",
       "      <th>CO2_g_per_km</th>\n",
       "      <th>PM10_g_per_km</th>\n",
       "      <th>NOx_g_per_km</th>\n",
       "    </tr>\n",
       "  </thead>\n",
       "  <tbody>\n",
       "    <tr>\n",
       "      <th>0</th>\n",
       "      <td>2024-01-01</td>\n",
       "      <td>2024-01-01 04:54:32.305701</td>\n",
       "      <td>POINT (0 0)</td>\n",
       "      <td>POINT (0.8983 0)</td>\n",
       "      <td>1744.810262</td>\n",
       "      <td>1744.810262</td>\n",
       "      <td>1750.0</td>\n",
       "      <td>8565.227872</td>\n",
       "      <td>1.922037e+06</td>\n",
       "      <td>1.970084e+06</td>\n",
       "      <td>...</td>\n",
       "      <td>3323.308414</td>\n",
       "      <td>83913.537458</td>\n",
       "      <td>8565.227872</td>\n",
       "      <td>7.5</td>\n",
       "      <td>99998.29858</td>\n",
       "      <td>17672.305701</td>\n",
       "      <td>19.701171</td>\n",
       "      <td>60982.033916</td>\n",
       "      <td>33.23365</td>\n",
       "      <td>839.149652</td>\n",
       "    </tr>\n",
       "  </tbody>\n",
       "</table>\n",
       "<p>1 rows × 47 columns</p>\n",
       "</div>"
      ],
      "text/plain": [
       "  time_start                  time_stop   edge_start         edge_stop  \\\n",
       "0 2024-01-01 2024-01-01 04:54:32.305701  POINT (0 0)  POINT (0.8983 0)   \n",
       "\n",
       "         P_tot      P_given  P_installed  total_energy  \\\n",
       "0  1744.810262  1744.810262       1750.0   8565.227872   \n",
       "\n",
       "   total_diesel_consumption_C_year_ICE_mass  \\\n",
       "0                              1.922037e+06   \n",
       "\n",
       "   total_diesel_consumption_ICE_mass  ...  total_emission_PM10  \\\n",
       "0                       1.970084e+06  ...          3323.308414   \n",
       "\n",
       "   total_emission_NOX   stationary  water depth     distance       delta_t  \\\n",
       "0        83913.537458  8565.227872          7.5  99998.29858  17672.305701   \n",
       "\n",
       "   fuel_kg_per_km  CO2_g_per_km  PM10_g_per_km  NOx_g_per_km  \n",
       "0       19.701171  60982.033916       33.23365    839.149652  \n",
       "\n",
       "[1 rows x 47 columns]"
      ]
     },
     "execution_count": 18,
     "metadata": {},
     "output_type": "execute_result"
    }
   ],
   "source": [
    "dfs[-1]"
   ]
  },
  {
   "cell_type": "markdown",
   "id": "a6dd3480-a373-4ffb-bda3-ea55adc08a6e",
   "metadata": {},
   "source": [
    "### 4.4 Show the effects of changing water depth (WIP)\n",
    "We will now sail the same path with the same vessel at a given speed, and change the water depths in steps."
   ]
  },
  {
   "cell_type": "code",
   "execution_count": 19,
   "id": "06a35680-c5c5-40d3-8325-c7e60a9c45f7",
   "metadata": {
    "scrolled": true
   },
   "outputs": [],
   "source": [
    "# generate a range of depths\n",
    "depth_list = list(np.arange(4, 15, .1))\n",
    "\n",
    "# generate vessels that sail the edge for the given range of vessel speeds\n",
    "dfs = []\n",
    "vessels = []\n",
    "for depth in depth_list:\n",
    "    FG.edges[('0', '1')]['Info']['GeneralDepth']=depth\n",
    "    FG.edges[('1', '0')]['Info']['GeneralDepth']=depth\n",
    "    \n",
    "    df, vessel = create_run(FG=FG,\n",
    "                          name='Vessel',\n",
    "                          origin='0', \n",
    "                          destination='1', \n",
    "                          vessel_type='inland vessel', \n",
    "                          L=110,                # m\n",
    "                          B=11.4,               # m \n",
    "                          T=3.5,                # m\n",
    "                          v=3.0,                # m/s\n",
    "                          P_tot_given=None,     # kW \n",
    "                          C_year=1990,          # engine construction year\n",
    "                          arrival_time=datetime.datetime(2024, 1, 1, 0, 0, 0))\n",
    "    \n",
    "    dfs.append(df)\n",
    "    vessels.append(vessel)    "
   ]
  },
  {
   "cell_type": "code",
   "execution_count": 20,
   "id": "0d436571-fe7c-48d0-8356-8702953e93a4",
   "metadata": {},
   "outputs": [],
   "source": [
    "P_hotel=None\n",
    "if P_hotel:\n",
    "    print('yes')"
   ]
  },
  {
   "cell_type": "code",
   "execution_count": 21,
   "id": "a8768531-bca7-4e2b-978a-d572625c7ce6",
   "metadata": {},
   "outputs": [],
   "source": [
    "# collect values to plot\n",
    "total_energy=[]\n",
    "for index, df in enumerate(dfs):\n",
    "    total_energy.append(df.total_energy.values[0])"
   ]
  },
  {
   "cell_type": "code",
   "execution_count": 22,
   "id": "e4b8b1ee-06a6-45a0-91d3-4a52082f2d46",
   "metadata": {},
   "outputs": [
    {
     "data": {
      "image/png": "[encoded data removed]",
      "text/plain": [
       "<Figure size 432x288 with 1 Axes>"
      ]
     },
     "metadata": {
      "needs_background": "light"
     },
     "output_type": "display_data"
    }
   ],
   "source": [
    "fig, axes = plt.subplots(1,1)\n",
    "\n",
    "plt.plot(depth_list, total_energy, '-',  c='blue')\n",
    "\n",
    "axes.set_xlabel('depth [m]');\n",
    "axes.set_ylabel('Total energy [kWh]');\n",
    "axes.set_title('Total energy on edge as a function of depth', fontsize=10);"
   ]
  }
 ],
 "metadata": {
  "kernelspec": {
   "display_name": "Python 3 (ipykernel)",
   "language": "python",
   "name": "python3"
  },
  "language_info": {
   "codemirror_mode": {
    "name": "ipython",
    "version": 3
   },
   "file_extension": ".py",
   "mimetype": "text/x-python",
   "name": "python",
   "nbconvert_exporter": "python",
   "pygments_lexer": "ipython3",
   "version": "3.9.16"
  }
 },
 "nbformat": 4,
 "nbformat_minor": 5
}
