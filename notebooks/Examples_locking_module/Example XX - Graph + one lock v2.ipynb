{
 "cells": [
  {
   "cell_type": "markdown",
   "id": "a7c23f3d",
   "metadata": {},
   "source": [
    "## Simplified graph with one lock\n",
    "In this notebook, we set up a basic simulation where two vessels move over a 1D network path that contains a shipping lock. \n",
    "\n",
    "We take the following steps:\n",
    "\n",
    "1. [Imports](#1.-Imports)\n",
    "    * [Initialise environment](#Initialise-environment)\n",
    "2. [Create vessel](#2.-Create-vessel)\n",
    "3. [Create graph](#3.-Create-graph)\n",
    "    * [Add hydrodynamic data](#3.1.-Add-hydrodynamic-data)\n",
    "    * [Add lock](#3.2.-Add-lock)\n",
    "4. [Run simulation](#4.-Run-simulation)\n",
    "5. [Inspect output](#5.-Inspect-output)"
   ]
  },
  {
   "cell_type": "markdown",
   "id": "b6e6b2b1-109c-4b1d-8b37-fd6ab4bebca8",
   "metadata": {},
   "source": [
    "### 1. Imports\n",
    "We start with importing required libraries"
   ]
  },
  {
   "cell_type": "code",
   "execution_count": 1,
   "id": "0a5d60f0",
   "metadata": {},
   "outputs": [],
   "source": [
    "import networkx as nx\n",
    "from shapely.geometry import Point,LineString,Polygon\n",
    "\n",
    "import datetime\n",
    "import simpy\n",
    "\n",
    "from opentnsim import core as core_module\n",
    "from opentnsim import graph as graph_module\n",
    "from opentnsim import lock as lock_module\n",
    "from opentnsim import output as output_module\n",
    "from opentnsim import vessel as vessel_module\n",
    "from opentnsim import vessel_traffic_service as vessel_traffic_service_module\n",
    "\n",
    "import pandas as pd\n",
    "\n",
    "import matplotlib.pyplot as plt"
   ]
  },
  {
   "cell_type": "markdown",
   "id": "df03f7f1",
   "metadata": {},
   "source": [
    "#### Initialise environment\n",
    "For later convenience we already initialise a simpy environment, with some additional properties related to the simulation start and stop time."
   ]
  },
  {
   "cell_type": "code",
   "execution_count": 2,
   "id": "625191e8",
   "metadata": {},
   "outputs": [],
   "source": [
    "t_start = datetime.datetime(2024, 1, 1, 0, 0, 0)\n",
    "\n",
    "env = simpy.Environment(initial_time=t_start.timestamp())\n",
    "\n",
    "env.epoch = t_start\n",
    "env.simulation_start = t_start"
   ]
  },
  {
   "cell_type": "markdown",
   "id": "1cd7f736-aad4-4525-9222-4b6dc0a2791d",
   "metadata": {},
   "source": [
    "### 2. Create vessel\n",
    "We start with creating a vessel class. We call this class a *Vessel*, and add a number of OpenTNSim mix-ins to this class. Each mix-in requires certain input parameters. We wrap the creation of the vessel class in a function, to facilitate the generation of multiple vessels. \n",
    "\n",
    "The following mix-ins are sufficient to create a vessel for our problem: \n",
    "* _Identifiable_ - allows to give the vessel a name and a random ID, \n",
    "* _SimpyObject_ -\n",
    "* _HasLock_ - the lock chamber where vessels stay during the leveling process\n",
    "* _HasLineUpArea_ - a place just in front of the lock to guide vessels entering the lock chamber\n",
    "* _HasWaitingArea_ - a place where vessels can wait before entering the lock\n",
    "* _VesselProperties_ - allows the specification of vessel properties, such as L, B and T\n",
    "* _ExtraMetadata_ -\n",
    "* _HasOutput_ -"
   ]
  },
  {
   "cell_type": "code",
   "execution_count": 3,
   "id": "29294d6e",
   "metadata": {},
   "outputs": [],
   "source": [
    "#We create a type element that schematisizes a vessel\n",
    "def create_vessel(env, name, origin, destination, vessel_type, L, B, T, H, v, arrival_time):\n",
    "    Vessel = type('Vessel',(core_module.Identifiable,       #The vessel should be identifiable\n",
    "                            core_module.SimpyObject,        #It should be a simpy element\n",
    "                            lock_module.HasLock,            #The vessel should interact with a lock chamber\n",
    "                            lock_module.HasLineUpArea,      #The vessel should interact with a line-up area\n",
    "                            lock_module.HasWaitingArea,     #The vessel should interact with a waiting area\n",
    "                            vessel_module.VesselProperties, #The vessel should have properties\n",
    "                            vessel_module.ExtraMetadata,    #The vessel can have extra metadata\n",
    "                            output_module.HasOutput,        #The vessel should have output\n",
    "                           ),{})    \n",
    "\n",
    "    node = env.FG.nodes[origin]\n",
    "    geometry = node[\"geometry\"]\n",
    "    \n",
    "    vessel = Vessel(\n",
    "        **{\n",
    "            \"env\": env,\n",
    "            \"name\": name,\n",
    "            \"origin\": origin,\n",
    "            \"destination\": destination,\n",
    "            \"geometry\": geometry,\n",
    "            \"node\": origin,\n",
    "            \"route\": nx.dijkstra_path(env.FG, origin, destination),\n",
    "            \"type\": vessel_type,\n",
    "            \"L\": L,\n",
    "            \"B\": B,\n",
    "            \"T\": T,\n",
    "            \"H\": H,\n",
    "            \"v\": v,\n",
    "            \"arrival_time\": arrival_time,\n",
    "        }\n",
    "    )\n",
    "\n",
    "    env.process(vessel.move())\n",
    "    \n",
    "    return vessel"
   ]
  },
  {
   "cell_type": "markdown",
   "id": "798037c7-f2f9-4c28-a440-fe27a804d9ae",
   "metadata": {},
   "source": [
    "### 3. Create graph\n",
    "Next we create a 1D network (a graph) along which the vessel can move. A graph is made of nodes (blue dots in the plot below) and edges (red arrows between the nodes in the plot below). We use the graph_module of OpenTNSim to do this. "
   ]
  },
  {
   "cell_type": "code",
   "execution_count": 4,
   "id": "50df10ec",
   "metadata": {},
   "outputs": [],
   "source": [
    "# specifiy nodes and edges\n",
    "node_A = graph_module.Node(name='A',geometry=Point(0,0))\n",
    "node_B = graph_module.Node(name='B',geometry=Point(1000,0))\n",
    "node_C = graph_module.Node(name='C',geometry=Point(1400,0))\n",
    "node_D = graph_module.Node(name='D',geometry=Point(2400,0))\n",
    "edges = [(node_A,node_B),(node_B,node_C),(node_C,node_D)]\n",
    "\n",
    "# create a graph object\n",
    "FG = graph_module.DiGraph(edges=edges,crs='EPSG:28992').graph\n",
    "env.FG = nx.MultiDiGraph(FG)\n",
    "\n",
    "# add a VTS to the environment to know where vessels are going\n",
    "env.vessel_traffic_service = vessel_traffic_service_module.VesselTrafficService()"
   ]
  },
  {
   "cell_type": "code",
   "execution_count": 5,
   "id": "71d393c9-1338-4269-a6db-433e913fa7f6",
   "metadata": {},
   "outputs": [],
   "source": [
    "# collect node positions and labels\n",
    "nodes = []\n",
    "coordinates = []\n",
    "labels = {}\n",
    "\n",
    "for node in env.FG.nodes:\n",
    "    nodes.append(node)\n",
    "    coordinates.append([nx.get_node_attributes(env.FG, 'geometry')[node].x, nx.get_node_attributes(env.FG, 'geometry')[node].y])\n",
    "    labels[node] = node\n",
    "    \n",
    "positions = dict(zip(nodes, coordinates))"
   ]
  },
  {
   "cell_type": "code",
   "execution_count": 6,
   "id": "f8234c9b-6d1d-461e-a050-4b3ba539b6ba",
   "metadata": {},
   "outputs": [
    {
     "data": {
      "image/png": "[encoded data removed]",
      "text/plain": [
       "<Figure size 640x480 with 1 Axes>"
      ]
     },
     "metadata": {},
     "output_type": "display_data"
    }
   ],
   "source": [
    "# draw edges, nodes and labels\n",
    "nx.draw_networkx_edges(env.FG, pos=positions, width=3, edge_color=\"red\", alpha=1, arrowsize=10)\n",
    "nx.draw_networkx_nodes(env.FG, pos=positions, node_color=\"darkblue\", node_size=300)\n",
    "nx.draw_networkx_labels(env.FG, pos=positions, labels=labels, font_size=10, font_weight=\"bold\", font_color=\"white\")\n",
    "\n",
    "plt.axis(\"off\")\n",
    "plt.show()"
   ]
  },
  {
   "cell_type": "code",
   "execution_count": 7,
   "id": "101dc780",
   "metadata": {},
   "outputs": [],
   "source": [
    "# we add a lock to an edge in the network\n",
    "lock_I = lock_module.IsLockComplex(env=env,\n",
    "                                   name='Lock I',\n",
    "                                   start_node='B',\n",
    "                                   node_open='B',\n",
    "                                   end_node='C',\n",
    "                                   lock_length = 120,\n",
    "                                   lock_width = 18,\n",
    "                                   lock_depth = 6,\n",
    "                                   lineup_area_A_length=120,\n",
    "                                   lineup_area_B_length=120,\n",
    "                                   effective_lineup_area_B_length=120,\n",
    "                                   levelling_time=1500,\n",
    "                                   distance_doors_A_from_waiting_area_A=140,\n",
    "                                   distance_doors_B_from_waiting_area_B=140,\n",
    "                                   distance_waiting_area_A_from_start_node=0,\n",
    "                                   distance_waiting_area_B_from_end_node=0,\n",
    "                                   distance_lineup_area_A_to_lock_doors_A=20,\n",
    "                                   distance_lineup_area_B_to_lock_doors_B=0)"
   ]
  },
  {
   "cell_type": "markdown",
   "id": "3848b4b7",
   "metadata": {},
   "source": [
    "#### 4. Run simulation\n",
    "We use the _create_vessel_ method to generate two vessels and run the simulation"
   ]
  },
  {
   "cell_type": "code",
   "execution_count": 8,
   "id": "f09984e9-dc63-4084-99a3-8b5bfe24efce",
   "metadata": {},
   "outputs": [],
   "source": [
    "vessel_1 = create_vessel(env, 'Vessel_1', 'A', 'D', 'inland vessel', 100, 15, 5, 4, 3, datetime.datetime(2024, 1, 1, 0, 0, 0))\n",
    "vessel_2 = create_vessel(env, 'Vessel_2', 'D', 'A', 'inland vessel', 100, 15, 5, 4, 3, datetime.datetime(2024, 1, 1, 0, 10, 0))\n",
    "vessels=[vessel_1, vessel_2]"
   ]
  },
  {
   "cell_type": "code",
   "execution_count": 9,
   "id": "247ed770",
   "metadata": {},
   "outputs": [],
   "source": [
    "env.run()"
   ]
  },
  {
   "cell_type": "markdown",
   "id": "a3318026",
   "metadata": {},
   "source": [
    "#### 5. Inspect results"
   ]
  },
  {
   "cell_type": "code",
   "execution_count": 10,
   "id": "adb16e6a",
   "metadata": {},
   "outputs": [],
   "source": [
    "vessel_1_df = pd.DataFrame(vessel_1.log)\n",
    "vessel_2_df = pd.DataFrame(vessel_2.log)"
   ]
  },
  {
   "cell_type": "code",
   "execution_count": 14,
   "id": "65d83bfe",
   "metadata": {},
   "outputs": [
    {
     "data": {
      "image/png": "[encoded data removed]",
      "text/plain": [
       "<Figure size 640x480 with 1 Axes>"
      ]
     },
     "metadata": {},
     "output_type": "display_data"
    }
   ],
   "source": [
    "fig, axes = plt.subplots(1,1)\n",
    "ylim = (min(vessel_1_df.Time.min(), vessel_2_df.Time.min()),max(vessel_1_df.Time.max(), vessel_2_df.Time.max()))\n",
    "\n",
    "lock_I.create_time_distance_diagram(vessels,ax=axes,x_offset=-200,accuracy=200,ylim=ylim)\n",
    "\n",
    "axes.set_xlabel('')\n",
    "axes.set_xlabel('')\n",
    "axes.set_title('Lock I')\n",
    "\n",
    "ylim = (min(vessel_1_df.Time.min(), vessel_2_df.Time.min()),max(vessel_1_df.Time.max(), vessel_2_df.Time.max()))\n",
    "\n",
    "fig.supxlabel('Distance');"
   ]
  },
  {
   "cell_type": "code",
   "execution_count": 12,
   "id": "2cb3dfe4",
   "metadata": {},
   "outputs": [
    {
     "data": {
      "text/html": [
       "<div>\n",
       "<style scoped>\n",
       "    .dataframe tbody tr th:only-of-type {\n",
       "        vertical-align: middle;\n",
       "    }\n",
       "\n",
       "    .dataframe tbody tr th {\n",
       "        vertical-align: top;\n",
       "    }\n",
       "\n",
       "    .dataframe thead th {\n",
       "        text-align: right;\n",
       "    }\n",
       "</style>\n",
       "<table border=\"1\" class=\"dataframe\">\n",
       "  <thead>\n",
       "    <tr style=\"text-align: right;\">\n",
       "      <th></th>\n",
       "      <th>Time</th>\n",
       "      <th>Location</th>\n",
       "      <th>Action</th>\n",
       "      <th>Status</th>\n",
       "    </tr>\n",
       "  </thead>\n",
       "  <tbody>\n",
       "    <tr>\n",
       "      <th>0</th>\n",
       "      <td>2024-01-01 00:09:31.394354</td>\n",
       "      <td>B</td>\n",
       "      <td>Lock doors closing start</td>\n",
       "      <td>{'visiting_vessels': [&lt;__main__.Vessel object ...</td>\n",
       "    </tr>\n",
       "    <tr>\n",
       "      <th>1</th>\n",
       "      <td>2024-01-01 00:09:31.394354</td>\n",
       "      <td>B</td>\n",
       "      <td>Lock doors closing stop</td>\n",
       "      <td>{'visiting_vessels': [&lt;__main__.Vessel object ...</td>\n",
       "    </tr>\n",
       "    <tr>\n",
       "      <th>2</th>\n",
       "      <td>2024-01-01 00:09:31.394354</td>\n",
       "      <td>B</td>\n",
       "      <td>Lock chamber converting start</td>\n",
       "      <td>{'visiting_vessels': [&lt;__main__.Vessel object ...</td>\n",
       "    </tr>\n",
       "    <tr>\n",
       "      <th>3</th>\n",
       "      <td>2024-01-01 00:34:31.394354</td>\n",
       "      <td>C</td>\n",
       "      <td>Lock chamber converting stop</td>\n",
       "      <td>{'visiting_vessels': [&lt;__main__.Vessel object ...</td>\n",
       "    </tr>\n",
       "    <tr>\n",
       "      <th>4</th>\n",
       "      <td>2024-01-01 00:34:31.394354</td>\n",
       "      <td>C</td>\n",
       "      <td>Lock doors opening start</td>\n",
       "      <td>{'visiting_vessels': [&lt;__main__.Vessel object ...</td>\n",
       "    </tr>\n",
       "    <tr>\n",
       "      <th>5</th>\n",
       "      <td>2024-01-01 00:34:31.394354</td>\n",
       "      <td>C</td>\n",
       "      <td>Lock doors opening stop</td>\n",
       "      <td>{'visiting_vessels': [&lt;__main__.Vessel object ...</td>\n",
       "    </tr>\n",
       "    <tr>\n",
       "      <th>6</th>\n",
       "      <td>2024-01-01 00:39:23.246206</td>\n",
       "      <td>C</td>\n",
       "      <td>Lock doors closing start</td>\n",
       "      <td>{'visiting_vessels': [&lt;__main__.Vessel object ...</td>\n",
       "    </tr>\n",
       "    <tr>\n",
       "      <th>7</th>\n",
       "      <td>2024-01-01 00:39:23.246206</td>\n",
       "      <td>C</td>\n",
       "      <td>Lock doors closing stop</td>\n",
       "      <td>{'visiting_vessels': [&lt;__main__.Vessel object ...</td>\n",
       "    </tr>\n",
       "    <tr>\n",
       "      <th>8</th>\n",
       "      <td>2024-01-01 00:39:23.246206</td>\n",
       "      <td>C</td>\n",
       "      <td>Lock chamber converting start</td>\n",
       "      <td>{'visiting_vessels': [&lt;__main__.Vessel object ...</td>\n",
       "    </tr>\n",
       "    <tr>\n",
       "      <th>9</th>\n",
       "      <td>2024-01-01 01:04:23.246206</td>\n",
       "      <td>B</td>\n",
       "      <td>Lock chamber converting stop</td>\n",
       "      <td>{'visiting_vessels': [&lt;__main__.Vessel object ...</td>\n",
       "    </tr>\n",
       "    <tr>\n",
       "      <th>10</th>\n",
       "      <td>2024-01-01 01:04:23.246206</td>\n",
       "      <td>B</td>\n",
       "      <td>Lock doors opening start</td>\n",
       "      <td>{'visiting_vessels': [&lt;__main__.Vessel object ...</td>\n",
       "    </tr>\n",
       "    <tr>\n",
       "      <th>11</th>\n",
       "      <td>2024-01-01 01:04:23.246206</td>\n",
       "      <td>B</td>\n",
       "      <td>Lock doors opening stop</td>\n",
       "      <td>{'visiting_vessels': [&lt;__main__.Vessel object ...</td>\n",
       "    </tr>\n",
       "  </tbody>\n",
       "</table>\n",
       "</div>"
      ],
      "text/plain": [
       "                         Time Location                         Action  \\\n",
       "0  2024-01-01 00:09:31.394354        B       Lock doors closing start   \n",
       "1  2024-01-01 00:09:31.394354        B        Lock doors closing stop   \n",
       "2  2024-01-01 00:09:31.394354        B  Lock chamber converting start   \n",
       "3  2024-01-01 00:34:31.394354        C   Lock chamber converting stop   \n",
       "4  2024-01-01 00:34:31.394354        C       Lock doors opening start   \n",
       "5  2024-01-01 00:34:31.394354        C        Lock doors opening stop   \n",
       "6  2024-01-01 00:39:23.246206        C       Lock doors closing start   \n",
       "7  2024-01-01 00:39:23.246206        C        Lock doors closing stop   \n",
       "8  2024-01-01 00:39:23.246206        C  Lock chamber converting start   \n",
       "9  2024-01-01 01:04:23.246206        B   Lock chamber converting stop   \n",
       "10 2024-01-01 01:04:23.246206        B       Lock doors opening start   \n",
       "11 2024-01-01 01:04:23.246206        B        Lock doors opening stop   \n",
       "\n",
       "                                               Status  \n",
       "0   {'visiting_vessels': [<__main__.Vessel object ...  \n",
       "1   {'visiting_vessels': [<__main__.Vessel object ...  \n",
       "2   {'visiting_vessels': [<__main__.Vessel object ...  \n",
       "3   {'visiting_vessels': [<__main__.Vessel object ...  \n",
       "4   {'visiting_vessels': [<__main__.Vessel object ...  \n",
       "5   {'visiting_vessels': [<__main__.Vessel object ...  \n",
       "6   {'visiting_vessels': [<__main__.Vessel object ...  \n",
       "7   {'visiting_vessels': [<__main__.Vessel object ...  \n",
       "8   {'visiting_vessels': [<__main__.Vessel object ...  \n",
       "9   {'visiting_vessels': [<__main__.Vessel object ...  \n",
       "10  {'visiting_vessels': [<__main__.Vessel object ...  \n",
       "11  {'visiting_vessels': [<__main__.Vessel object ...  "
      ]
     },
     "execution_count": 12,
     "metadata": {},
     "output_type": "execute_result"
    }
   ],
   "source": [
    "lock_df = pd.DataFrame(lock_I.log)\n",
    "lock_df"
   ]
  }
 ],
 "metadata": {
  "kernelspec": {
   "display_name": "Python 3 (ipykernel)",
   "language": "python",
   "name": "python3"
  },
  "language_info": {
   "codemirror_mode": {
    "name": "ipython",
    "version": 3
   },
   "file_extension": ".py",
   "mimetype": "text/x-python",
   "name": "python",
   "nbconvert_exporter": "python",
   "pygments_lexer": "ipython3",
   "version": "3.11.8"
  }
 },
 "nbformat": 4,
 "nbformat_minor": 5
}
