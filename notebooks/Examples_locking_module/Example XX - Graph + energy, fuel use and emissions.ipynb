{
 "cells": [
  {
   "cell_type": "markdown",
   "id": "7c12ef76",
   "metadata": {},
   "source": [
    "## Simplified graph with energy consumption, fuel use and emissions\n",
    "In this notebook, we set up a basic simulation where a vessel moves over a 1D netork path. We add some properties to the graph (depth, width) and the vessel (VesselProperties, ConsumesEnergy) in order to calculate resistance, required power, and emissions.\n",
    "OpenTNSim model run. \n",
    "\n",
    "We take the following steps:\n",
    "\n",
    "1. [Imports](#1.-Imports)\n",
    "2. [Create vessel](#2.-Create-vessel)\n",
    "3. [Create graph](#3.-Create-graph)\n",
    "4. [Run simulation](#4.-Run-simulation)\n",
    "5. [Inspect output](#5.-Inspect-output)"
   ]
  },
  {
   "cell_type": "markdown",
   "id": "43e95553",
   "metadata": {},
   "source": [
    "### 1. Imports\n",
    "We start with importing required libraries"
   ]
  },
  {
   "cell_type": "code",
   "execution_count": 1,
   "id": "98365d9a",
   "metadata": {},
   "outputs": [
    {
     "name": "stdout",
     "output_type": "stream",
     "text": [
      "This notebook is executed with OpenTNSim version 1.1.2\n"
     ]
    }
   ],
   "source": [
    "# package(s) used for creating and geo-locating the graph\n",
    "import networkx as nx  \n",
    "from shapely.geometry import Point,LineString\n",
    "import pyproj\n",
    "import warnings\n",
    "\n",
    "# package(s) related to the simulation (creating the vessel, running the simulation)\n",
    "import datetime, time\n",
    "import simpy\n",
    "import opentnsim\n",
    "import opentnsim.core as core\n",
    "import opentnsim.energy as energy_\n",
    "import opentnsim.graph as graph_\n",
    "import opentnsim.output as output\n",
    "import opentnsim.vessel as vessel_\n",
    "import opentnsim.vessel_traffic_service as VTS\n",
    "\n",
    "# package(s) needed for data handling and inspecting the output\n",
    "import numpy as np\n",
    "import pandas as pd\n",
    "\n",
    "# package(s) needed for plotting\n",
    "import matplotlib.pyplot as plt\n",
    "import plotly.express as px\n",
    "from plotly.subplots import make_subplots\n",
    "\n",
    "import logging\n",
    "#logging.basicConfig(level=logging.DEBUG) #turn on all the debug messages\n",
    "logging.basicConfig(level=logging.INFO)# turn off all the debug messages\n",
    "\n",
    "from shapely.errors import ShapelyDeprecationWarning\n",
    "warnings.filterwarnings(\"ignore\", category=ShapelyDeprecationWarning) \n",
    "\n",
    "\n",
    "print('This notebook is executed with OpenTNSim version {}'.format(opentnsim.__version__))"
   ]
  },
  {
   "cell_type": "markdown",
   "id": "aad1799e",
   "metadata": {},
   "source": [
    "### 2. Create vessel\n",
    "We start with creating a vessel class. We call this class a *Vessel*, and add a number of OpenTNSim mix-ins to this class. Each mix-in requires certain input parameters. \n",
    "\n",
    "The following mix-ins are sufficient to create a vessel for our problem: \n",
    "* _Identifiable_ - allows to give the vessel a name and a random ID, \n",
    "* _Movable_ - allows the vessel to move, with a fixed speed, while logging this activity,\n",
    "   * Movable in turn relies on the mix-ins: _Locatable_, _Routeable_, and _Log_\n",
    "* _VesselProperties_ - allows to give the vessel specific properties, \n",
    "* _ConsumesEnergy_ - enables calculation of resistance, required power and emissions"
   ]
  },
  {
   "cell_type": "code",
   "execution_count": 2,
   "id": "90a684c1",
   "metadata": {},
   "outputs": [],
   "source": [
    "# Make your preferred class out of available mix-ins.\n",
    "TransportResource = type(\"Vessel\",\n",
    "                         (core.Identifiable,\n",
    "                          core.Movable,\n",
    "                          vessel_.VesselProperties,  # needed to add vessel properties\n",
    "                          energy_.ConsumesEnergy,                                                   \n",
    "                          vessel_.ExtraMetadata,\n",
    "                          output.HasOutput,\n",
    "                         ),\n",
    "                         {},\n",
    "                        )  # needed to calculate resistances"
   ]
  },
  {
   "cell_type": "code",
   "execution_count": 3,
   "id": "22733dde",
   "metadata": {},
   "outputs": [],
   "source": [
    "# Create a dict with all important settings\n",
    "# NB: set both \"v\" and \"P_tot_given\" to None, as they will be set later\n",
    "# Note that we set \"h_squat\" as \"True\". \n",
    "# The squat effect makes a great difference for the actual water depth and resistance calculation in shallow water. \n",
    "# Here we need to calculate the water depth reduced by squat since what we give the ship is a route with undisturbed water depth h_0.\n",
    "\n",
    "data_vessel = {\"env\": None,\n",
    "               \"name\": None,\n",
    "               \"origin\": None,\n",
    "               \"destination\": None,\n",
    "               \"route\": None,\n",
    "               \"geometry\": None,\n",
    "               \"v\": None,  # m/s\n",
    "               \"type\":None,\n",
    "               \"B\": 11.4,\n",
    "               \"L\": 110,\n",
    "               \"H\": None, \n",
    "               \"T\": 3.5,      # <=== here we should enter the value from the T strategy notebook\n",
    "               \"safety_margin\": 0.2, # for tanker vessel with sandy bed the safety margin is recommended as 0.2 m\n",
    "               \"h_squat\": True, # if consider the ship squatting while moving, set to True, otherwise set to False\n",
    "               \"P_installed\": 1750.0,\n",
    "               \"P_tot_given\": None, # kW\n",
    "               \"bulbous_bow\": False, # if a vessel has no bulbous_bow, set to False; otherwise set to True.\n",
    "               \"P_hotel_perc\": 0.05,\n",
    "               \"P_hotel\": None, # None: calculate P_hotel from percentage\n",
    "               \"x\": 2,# number of propellers\n",
    "               \"L_w\": 3.0 ,\n",
    "               \"C_B\":0.85, \n",
    "               \"C_year\":1990,\n",
    "              }"
   ]
  },
  {
   "cell_type": "markdown",
   "id": "204d9980",
   "metadata": {},
   "source": [
    "### 2. Create graph\n",
    "Next we create a 1D network (a graph) along which the vessel can move. A graph is made of nodes (blue dots in the plot below) and edges (red arrows between the nodes in the plot below). We use the python package networkx to do this. \n",
    "\n",
    "For this example, we construct a network of 4 nodes linked by 3 edges. The edges are made bi-directional to allow for two-way traffic, which means that the graph in the end contains 6 edges."
   ]
  },
  {
   "cell_type": "code",
   "execution_count": 4,
   "id": "95ca67a4-7926-454d-9354-3dcf69744d13",
   "metadata": {},
   "outputs": [],
   "source": [
    "FG = nx.DiGraph()\n",
    "\n",
    "coordinates = {'A': Point(0, 0),\n",
    "               'B': Point(0.8983,0),\n",
    "               'C': Point(1.7966,0), \n",
    "               'D': Point(2.6949,0)}\n",
    "\n",
    "nodes = []\n",
    "for name,geometry in coordinates.items():\n",
    "    nodes.append(graph_.Node(name=name, geometry=geometry))\n",
    "    \n",
    "edges = [(nodes[0],nodes[1]),(nodes[1],nodes[2]),(nodes[2],nodes[3])]\n",
    "depths = [6, 6, 4.5]\n",
    "edges_info = []\n",
    "for depth in depths:\n",
    "    edges_info.append({'GeneralDepth':depth})\n",
    "\n",
    "graph = graph_.DiGraph(edges=edges,edges_info=edges_info)\n",
    "FG = graph.graph"
   ]
  },
  {
   "cell_type": "code",
   "execution_count": 5,
   "id": "844815c7-aca2-4707-8e17-812c6a283b66",
   "metadata": {},
   "outputs": [
    {
     "data": {
      "text/plain": [
       "{'A': [0.0, 0.0], 'B': [0.8983, 0.0], 'C': [1.7966, 0.0], 'D': [2.6949, 0.0]}"
      ]
     },
     "execution_count": 5,
     "metadata": {},
     "output_type": "execute_result"
    }
   ],
   "source": [
    "nodes = []\n",
    "coordinates = []\n",
    "labels = {}\n",
    "\n",
    "for node in FG.nodes:\n",
    "    nodes.append(node)\n",
    "    coordinates.append([nx.get_node_attributes(FG, 'geometry')[node].x, nx.get_node_attributes(FG, 'geometry')[node].y])\n",
    "    labels[node] = node\n",
    "    \n",
    "positions = dict(zip(nodes, coordinates))\n",
    "positions"
   ]
  },
  {
   "cell_type": "code",
   "execution_count": 6,
   "id": "7b475652-a188-4208-a72c-6a9da684f721",
   "metadata": {},
   "outputs": [
    {
     "data": {
      "image/png": "[encoded data removed]",
      "text/plain": [
       "<Figure size 640x480 with 1 Axes>"
      ]
     },
     "metadata": {},
     "output_type": "display_data"
    }
   ],
   "source": [
    "# draw edges, nodes and labels.\n",
    "nx.draw_networkx_edges(FG, pos=positions, width=3, edge_color=\"red\", alpha=1, arrowsize=20)\n",
    "nx.draw_networkx_nodes(FG, pos=positions, node_color=\"darkblue\", node_size=600)\n",
    "nx.draw_networkx_labels(FG, pos=positions, labels=labels, font_size=15, font_weight=\"bold\", font_color=\"white\")\n",
    "\n",
    "plt.axis(\"off\")\n",
    "plt.show()"
   ]
  },
  {
   "cell_type": "code",
   "execution_count": 7,
   "id": "669f8431",
   "metadata": {},
   "outputs": [
    {
     "name": "stdout",
     "output_type": "stream",
     "text": [
      "General depth for edge ('A', 'B') is 6\n",
      "General depth for edge ('B', 'A') is 6\n",
      "General depth for edge ('B', 'C') is 6\n",
      "General depth for edge ('C', 'B') is 6\n",
      "General depth for edge ('C', 'D') is 4.5\n",
      "General depth for edge ('D', 'C') is 4.5\n"
     ]
    }
   ],
   "source": [
    "# This cell just shows that now a depth of 10 m is added to the edges. \n",
    "# You can use this to vary depths, e.g. make the middle edge shallower. Note that edges are bi-directional \n",
    "for edge in FG.edges:\n",
    "    print('General depth for edge {} is {}'.format(edge, FG.get_edge_data(edge[0], edge[1])[\"Info\"][\"GeneralDepth\"]))"
   ]
  },
  {
   "cell_type": "markdown",
   "id": "23a32375",
   "metadata": {},
   "source": [
    "### 4. Run simulation\n",
    "Now we can define the run. After we define the path that the vessel will sail, we make an environment and add the graph to the environment. Then we add one vessel, to which we will append the environment and the route. Lastly, we give the vessel the process of moving from the origin to the destination of the defined path and subsequently run the model."
   ]
  },
  {
   "cell_type": "code",
   "execution_count": 8,
   "id": "bd57dff0",
   "metadata": {},
   "outputs": [],
   "source": [
    "# create a path along that the vessel needs to follow (in this case from the first node to the last node)\n",
    "path = nx.dijkstra_path(FG, 'A', 'B')"
   ]
  },
  {
   "cell_type": "code",
   "execution_count": 9,
   "id": "d791c01c-f77a-4c7e-bff5-9393b69f078d",
   "metadata": {},
   "outputs": [],
   "source": [
    "# Start simpy environment\n",
    "simulation_start = datetime.datetime.now()\n",
    "env = simpy.Environment(initial_time = time.mktime(simulation_start.timetuple()))\n",
    "env.simulation_start = simulation_start\n",
    "env.epoch = time.mktime(simulation_start.timetuple())\n",
    "env.vessel_traffic_service = VTS.VesselTrafficService()\n",
    "\n",
    "# Add graph to environment\n",
    "env.FG = nx.MultiDiGraph(FG)\n",
    "\n",
    "# Add environment and path to the vessel\n",
    "# create a fresh instance of vessel\n",
    "data_vessel['origin'] = 'A'\n",
    "data_vessel['destination'] = ['B']\n",
    "vessel = TransportResource(**data_vessel)\n",
    "vessel.env = env                                        #the created environment\n",
    "vessel.name = 'Vessel No.1'                     \n",
    "vessel.route = path                                     #the route (the sequence of nodes, as stored as the second column in the path)\n",
    "vessel.geometry = env.FG.nodes[path[0]]['geometry']     #a shapely.geometry.Point(lon,lat) (here taken as the starting node of the vessel)\n",
    "vessel.metadata['arrival_time'] = simulation_start\n",
    "\n",
    "# we calculate the energy footprint for a vessel that maintains a speed of 3 m/s (adjusting power accordingly)\n",
    "vessel.v = 3.0\n",
    "vessel.P_tot_given = None\n",
    "          \n",
    "# Start the simulation\n",
    "env.process(vessel.move())\n",
    "env.run()"
   ]
  },
  {
   "cell_type": "markdown",
   "id": "01f146cc-e4c7-427c-a53d-b0b2d62bd0c1",
   "metadata": {},
   "source": [
    "The energy calculation is performed as a postprocessing step. It requires is input the graph (to acquire information on the water depth) and the vessel log data that was generated during the move activity. The energy use is stored as a dict under _energy_use_ in the energycalculation object."
   ]
  },
  {
   "cell_type": "code",
   "execution_count": 10,
   "id": "96516e44-d71e-4ca5-9d73-6ca5bfd5c7e2",
   "metadata": {},
   "outputs": [
    {
     "ename": "AttributeError",
     "evalue": "'Vessel' object has no attribute 'logbook'",
     "output_type": "error",
     "traceback": [
      "\u001b[1;31m---------------------------------------------------------------------------\u001b[0m",
      "\u001b[1;31mAttributeError\u001b[0m                            Traceback (most recent call last)",
      "Cell \u001b[1;32mIn[10], line 2\u001b[0m\n\u001b[0;32m      1\u001b[0m energycalculation \u001b[38;5;241m=\u001b[39m opentnsim\u001b[38;5;241m.\u001b[39menergy\u001b[38;5;241m.\u001b[39mEnergyCalculation(env\u001b[38;5;241m.\u001b[39mFG, vessel)\n\u001b[1;32m----> 2\u001b[0m \u001b[43menergycalculation\u001b[49m\u001b[38;5;241;43m.\u001b[39;49m\u001b[43mcalculate_energy_consumption\u001b[49m\u001b[43m(\u001b[49m\u001b[43m)\u001b[49m\n",
      "File \u001b[1;32mc:\\users\\floorbakker\\opentnsim\\opentnsim\\energy.py:1432\u001b[0m, in \u001b[0;36mEnergyCalculation.calculate_energy_consumption\u001b[1;34m(self)\u001b[0m\n\u001b[0;32m   1424\u001b[0m stationary_phase_indicator \u001b[38;5;241m=\u001b[39m [\n\u001b[0;32m   1425\u001b[0m     \u001b[38;5;124m\"\u001b[39m\u001b[38;5;124mWaiting to enter waiting area stop\u001b[39m\u001b[38;5;124m\"\u001b[39m,\n\u001b[0;32m   1426\u001b[0m     \u001b[38;5;124m\"\u001b[39m\u001b[38;5;124mWaiting in waiting area stop\u001b[39m\u001b[38;5;124m\"\u001b[39m,\n\u001b[0;32m   1427\u001b[0m     \u001b[38;5;124m\"\u001b[39m\u001b[38;5;124mWaiting in line-up area stop\u001b[39m\u001b[38;5;124m\"\u001b[39m,\n\u001b[0;32m   1428\u001b[0m     \u001b[38;5;124m\"\u001b[39m\u001b[38;5;124mPassing lock stop\u001b[39m\u001b[38;5;124m\"\u001b[39m,\n\u001b[0;32m   1429\u001b[0m ]\n\u001b[0;32m   1431\u001b[0m \u001b[38;5;66;03m# extract relevant elements from the vessel log\u001b[39;00m\n\u001b[1;32m-> 1432\u001b[0m times \u001b[38;5;241m=\u001b[39m [row[\u001b[38;5;124m\"\u001b[39m\u001b[38;5;124mTimestamp\u001b[39m\u001b[38;5;124m\"\u001b[39m] \u001b[38;5;28;01mfor\u001b[39;00m row \u001b[38;5;129;01min\u001b[39;00m \u001b[38;5;28;43mself\u001b[39;49m\u001b[38;5;241;43m.\u001b[39;49m\u001b[43mvessel\u001b[49m\u001b[38;5;241;43m.\u001b[39;49m\u001b[43mlogbook\u001b[49m]\n\u001b[0;32m   1433\u001b[0m messages \u001b[38;5;241m=\u001b[39m [row[\u001b[38;5;124m\"\u001b[39m\u001b[38;5;124mMessage\u001b[39m\u001b[38;5;124m\"\u001b[39m] \u001b[38;5;28;01mfor\u001b[39;00m row \u001b[38;5;129;01min\u001b[39;00m \u001b[38;5;28mself\u001b[39m\u001b[38;5;241m.\u001b[39mvessel\u001b[38;5;241m.\u001b[39mlogbook]\n\u001b[0;32m   1434\u001b[0m geometries \u001b[38;5;241m=\u001b[39m [row[\u001b[38;5;124m\"\u001b[39m\u001b[38;5;124mGeometry\u001b[39m\u001b[38;5;124m\"\u001b[39m] \u001b[38;5;28;01mfor\u001b[39;00m row \u001b[38;5;129;01min\u001b[39;00m \u001b[38;5;28mself\u001b[39m\u001b[38;5;241m.\u001b[39mvessel\u001b[38;5;241m.\u001b[39mlogbook]\n",
      "\u001b[1;31mAttributeError\u001b[0m: 'Vessel' object has no attribute 'logbook'"
     ]
    }
   ],
   "source": [
    "energycalculation = opentnsim.energy.EnergyCalculation(env.FG, vessel)\n",
    "energycalculation.calculate_energy_consumption()"
   ]
  },
  {
   "cell_type": "markdown",
   "id": "05878f0e",
   "metadata": {},
   "source": [
    "### 5. Inspect output\n",
    "We can now analyse the simulation output by inspecting the data in _energy_use_ in the energycalculation object. For convenient inspection it can be loaded into a Pandas dataframe. "
   ]
  },
  {
   "cell_type": "code",
   "execution_count": null,
   "id": "22813834-a789-4846-b73b-8fba59a5ed7b",
   "metadata": {},
   "outputs": [],
   "source": [
    "# create dataframe from energy calculation computation\n",
    "df = pd.DataFrame.from_dict(energycalculation.energy_use)\n",
    "df"
   ]
  },
  {
   "cell_type": "code",
   "execution_count": null,
   "id": "d4765b5c-90f0-48ff-9563-650484e8106e",
   "metadata": {},
   "outputs": [],
   "source": [
    "df['fuel_kg_per_km'] = (df['total_diesel_consumption_ICE_mass'] / 1000) / (df['distance']/1000)\n",
    "df['CO2_g_per_km']   = (df['total_emission_CO2']) / (df['distance']/1000)\n",
    "df['PM10_g_per_km']  = (df['total_emission_PM10']) / (df['distance']/1000)\n",
    "df['NOx_g_per_km']   = (df['total_emission_NOX']) / (df['distance']/1000)\n",
    "df"
   ]
  }
 ],
 "metadata": {
  "kernelspec": {
   "display_name": "Python 3 (ipykernel)",
   "language": "python",
   "name": "python3"
  },
  "language_info": {
   "codemirror_mode": {
    "name": "ipython",
    "version": 3
   },
   "file_extension": ".py",
   "mimetype": "text/x-python",
   "name": "python",
   "nbconvert_exporter": "python",
   "pygments_lexer": "ipython3",
   "version": "3.8.16"
  }
 },
 "nbformat": 4,
 "nbformat_minor": 5
}
