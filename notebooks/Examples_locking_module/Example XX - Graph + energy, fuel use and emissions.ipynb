{
 "cells": [
  {
   "cell_type": "markdown",
   "id": "7c12ef76",
   "metadata": {},
   "source": [
    "## Simplified graph with energy consumption, fuel use and emissions\n",
    "In this notebook, we set up a basic simulation where a vessel moves over a 1D netork path. We add some properties to the graph (depth, width) and the vessel (VesselProperties, ConsumesEnergy) in order to calculate resistance, required power, and emissions.\n",
    "OpenTNSim model run. \n",
    "\n",
    "We take the following steps:\n",
    "\n",
    "1. [Imports](#1.-Imports)\n",
    "2. [Create vessel](#2.-Create-vessel)\n",
    "3. [Create graph](#3.-Create-graph)\n",
    "4. [Run simulation](#4.-Run-simulation)\n",
    "5. [Inspect output](#5.-Inspect-output)"
   ]
  },
  {
   "cell_type": "markdown",
   "id": "43e95553",
   "metadata": {},
   "source": [
    "### 1. Imports\n",
    "We start with importing required libraries"
   ]
  },
  {
   "cell_type": "code",
   "execution_count": 1,
   "id": "98365d9a",
   "metadata": {},
   "outputs": [],
   "source": [
    "# package(s) used for creating and geo-locating the graph\n",
    "import networkx as nx  \n",
    "from shapely.geometry import Point, LineString\n",
    "\n",
    "# package(s) related to the simulation (creating the vessel, running the simulation)\n",
    "import datetime, time\n",
    "import simpy\n",
    "import opentnsim\n",
    "from opentnsim import core as core_module\n",
    "from opentnsim import energy as energy_module\n",
    "from opentnsim import graph as graph_module\n",
    "from opentnsim import output as output_module\n",
    "from opentnsim import vessel as vessel_module\n",
    "from opentnsim import vessel_traffic_service as vessel_traffic_service_module\n",
    "\n",
    "import pandas as pd\n",
    "\n",
    "# package(s) needed for plotting\n",
    "import matplotlib.pyplot as plt"
   ]
  },
  {
   "cell_type": "markdown",
   "id": "aad1799e",
   "metadata": {},
   "source": [
    "### 2. Create vessel\n",
    "We start with creating a vessel class. We call this class a *Vessel*, and add a number of OpenTNSim mix-ins to this class. Each mix-in requires certain input parameters. \n",
    "\n",
    "The following mix-ins are sufficient to create a vessel for our problem: \n",
    "* _Identifiable_ - allows to give the vessel a name and a random ID, \n",
    "* _Movable_ - allows the vessel to move, with a fixed speed, while logging this activity,\n",
    "   * Movable in turn relies on the mix-ins: _Locatable_, _Routeable_, and _Log_\n",
    "* _VesselProperties_ - allows to give the vessel specific properties, \n",
    "* _ConsumesEnergy_ - enables calculation of resistance, required power and emissions"
   ]
  },
  {
   "cell_type": "code",
   "execution_count": 2,
   "id": "b86be76e-e22e-42f1-b0b1-aa8e5ee6b03b",
   "metadata": {},
   "outputs": [],
   "source": [
    "#We create a type element that schematisizes a vessel\n",
    "def create_vessel(env,\n",
    "                  name,\n",
    "                  origin, \n",
    "                  destination, \n",
    "                  vessel_type, \n",
    "                  L, \n",
    "                  B, \n",
    "                  T,\n",
    "                  P_tot_given, \n",
    "                  arrival_time):\n",
    "    \n",
    "    Vessel = type('Vessel',(energy_module.ConsumesEnergy,   # The vessel consumes energy\n",
    "                            vessel_module.IsVessel,         # Basic information of the vessel\n",
    "                           ),{})  \n",
    "    \n",
    "    vessel = Vessel(**{ \"env\": env,\n",
    "                        \"name\": name,\n",
    "                        \"origin\": origin,\n",
    "                        \"destination\": destination,\n",
    "                        \"type\": vessel_type,\n",
    "                        \"L\": L,\n",
    "                        \"B\": B,\n",
    "                        \"T\": T,\n",
    "                        \"safety_margin\": 0.2, # for tanker vessel with sandy bed the safety margin is recommended as 0.2 m\n",
    "                        \"h_squat\": True, # if consider the ship squatting while moving, set to True, otherwise set to False\n",
    "                        \"P_installed\": 1750.0,\n",
    "                        \"P_tot_given\": P_tot_given, # kW\n",
    "                        \"bulbous_bow\": False, # if a vessel has no bulbous_bow, set to False; otherwise set to True.\n",
    "                        \"P_hotel_perc\": 0.05,\n",
    "                        \"P_hotel\": None, # None: calculate P_hotel from percentage\n",
    "                        \"x\": 2,# number of propellers\n",
    "                        \"L_w\": 3.0 ,\n",
    "                        \"C_B\": 0.85, \n",
    "                        \"C_year\": 1990,\n",
    "                        \"arrival_time\": arrival_time,\n",
    "                      }\n",
    "                   )\n",
    "\n",
    "    env.process(vessel.move())\n",
    "    \n",
    "    return vessel"
   ]
  },
  {
   "cell_type": "markdown",
   "id": "204d9980",
   "metadata": {},
   "source": [
    "### 2. Create graph\n",
    "Next we create a 1D network (a graph) along which the vessel can move. A graph is made of nodes (blue dots in the plot below) and edges (red arrows between the nodes in the plot below). We use the python package networkx to do this. \n",
    "\n",
    "For this example, we construct a network of 4 nodes linked by 3 edges. The edges are made bi-directional to allow for two-way traffic, which means that the graph in the end contains 6 edges."
   ]
  },
  {
   "cell_type": "code",
   "execution_count": 3,
   "id": "7c0edd4f-2c87-45ad-8689-2286e9af24a8",
   "metadata": {},
   "outputs": [],
   "source": [
    "FG = nx.DiGraph()\n",
    "node_A = graph_module.Node(name='0',geometry=Point(0,0))\n",
    "node_B = graph_module.Node(name='1',geometry=Point(0.8983,0))\n",
    "node_C = graph_module.Node(name='2',geometry=Point(1.7966,0))\n",
    "node_D = graph_module.Node(name='3',geometry=Point(2.6949,0))\n",
    "edges = [(node_A,node_B),(node_B,node_C),(node_C,node_D)]\n",
    "depths = {\"GeneralDepth\": [6.0,6.0,4.5]}\n",
    "FG = graph_module.DiGraph(edges=edges,edges_info=depths).graph"
   ]
  },
  {
   "cell_type": "code",
   "execution_count": 4,
   "id": "8ffbdabc",
   "metadata": {},
   "outputs": [
    {
     "data": {
      "text/plain": [
       "{'weight': 1,\n",
       " 'geometry': <LINESTRING (1.797 0, 2.695 0)>,\n",
       " 'length': 99998.29857959767,\n",
       " 'Info': {'GeneralDepth': 4.5}}"
      ]
     },
     "execution_count": 4,
     "metadata": {},
     "output_type": "execute_result"
    }
   ],
   "source": [
    "FG.edges['2','3']"
   ]
  },
  {
   "cell_type": "code",
   "execution_count": 5,
   "id": "844815c7-aca2-4707-8e17-812c6a283b66",
   "metadata": {},
   "outputs": [],
   "source": [
    "# collect node positions and labels\n",
    "nodes = []\n",
    "coordinates = []\n",
    "labels = {}\n",
    "\n",
    "for node in FG.nodes:\n",
    "    nodes.append(node)\n",
    "    coordinates.append([nx.get_node_attributes(FG, 'geometry')[node].x, nx.get_node_attributes(FG, 'geometry')[node].y])\n",
    "    labels[node] = node\n",
    "    \n",
    "positions = dict(zip(nodes, coordinates))"
   ]
  },
  {
   "cell_type": "code",
   "execution_count": 6,
   "id": "7b475652-a188-4208-a72c-6a9da684f721",
   "metadata": {},
   "outputs": [
    {
     "data": {
      "image/png": "[encoded data removed]",
      "text/plain": [
       "<Figure size 640x480 with 1 Axes>"
      ]
     },
     "metadata": {},
     "output_type": "display_data"
    }
   ],
   "source": [
    "# draw edges, nodes and labels\n",
    "nx.draw_networkx_edges(FG, pos=positions, width=3, edge_color=\"red\", alpha=1, arrowsize=20)\n",
    "nx.draw_networkx_nodes(FG, pos=positions, node_color=\"darkblue\", node_size=600)\n",
    "nx.draw_networkx_labels(FG, pos=positions, labels=labels, font_size=15, font_weight=\"bold\", font_color=\"white\")\n",
    "\n",
    "plt.axis(\"off\")\n",
    "plt.show()"
   ]
  },
  {
   "cell_type": "code",
   "execution_count": 7,
   "id": "669f8431",
   "metadata": {},
   "outputs": [
    {
     "name": "stdout",
     "output_type": "stream",
     "text": [
      "General depth for edge ('0', '1') is 6.0\n",
      "General depth for edge ('1', '0') is 6.0\n",
      "General depth for edge ('1', '2') is 6.0\n",
      "General depth for edge ('2', '1') is 6.0\n",
      "General depth for edge ('2', '3') is 4.5\n",
      "General depth for edge ('3', '2') is 4.5\n"
     ]
    }
   ],
   "source": [
    "# This cell just shows that now a depth of 10 m is added to the edges. \n",
    "# You can use this to vary depths, e.g. make the middle edge shallower. Note that edges are bi-directional \n",
    "for edge in FG.edges:\n",
    "    print('General depth for edge {} is {}'.format(edge, FG.get_edge_data(edge[0], edge[1])[\"Info\"][\"GeneralDepth\"]))"
   ]
  },
  {
   "cell_type": "markdown",
   "id": "23a32375",
   "metadata": {},
   "source": [
    "### 4. Run simulation\n",
    "Now we can define the run. After we define the path that the vessel will sail, we make an environment and add the graph to the environment. Then we add one vessel, to which we will append the environment and the route. Lastly, we give the vessel the process of moving from the origin to the destination of the defined path and subsequently run the model."
   ]
  },
  {
   "cell_type": "code",
   "execution_count": 8,
   "id": "e9e622df-bfa0-493b-818f-340d0f45669b",
   "metadata": {
    "scrolled": false
   },
   "outputs": [],
   "source": [
    "# Start simpy environment\n",
    "t_start = datetime.datetime(2024, 1, 1, 0, 0, 0)\n",
    "\n",
    "env = simpy.Environment(initial_time=t_start.timestamp())\n",
    "\n",
    "env.epoch = t_start\n",
    "env.simulation_start = t_start\n",
    "\n",
    "# Add graph to environment\n",
    "env.FG = FG\n",
    "\n",
    "#In order from ships to know where they are going we need to add an VTS to the environment\n",
    "env.vessel_traffic_service = vessel_traffic_service_module.VesselTrafficService(env=env)\n",
    "\n",
    "vessel_I = create_vessel(env=env,\n",
    "                         name='Vessel_I',\n",
    "                         origin='0', \n",
    "                         destination='3', \n",
    "                         vessel_type='inland vessel', \n",
    "                         L=100, \n",
    "                         B=15, \n",
    "                         T=4,\n",
    "                         P_tot_given=3, \n",
    "                         arrival_time=datetime.datetime(2024, 1, 1, 0, 0, 0))"
   ]
  },
  {
   "cell_type": "code",
   "execution_count": 9,
   "id": "2d7fec17-036a-42a8-b789-178aef4fc21e",
   "metadata": {},
   "outputs": [
    {
     "name": "stderr",
     "output_type": "stream",
     "text": [
      "c:\\users\\floorbakker\\opentnsim\\opentnsim\\energy.py:383: RuntimeWarning:\n",
      "\n",
      "invalid value encountered in scalar power\n",
      "\n"
     ]
    }
   ],
   "source": [
    "env.run()"
   ]
  },
  {
   "cell_type": "markdown",
   "id": "01f146cc-e4c7-427c-a53d-b0b2d62bd0c1",
   "metadata": {},
   "source": [
    "The energy calculation is performed as a postprocessing step. It requires is input the graph (to acquire information on the water depth) and the vessel log data that was generated during the move activity. The energy use is stored as a dict under _energy_use_ in the energycalculation object."
   ]
  },
  {
   "cell_type": "code",
   "execution_count": 10,
   "id": "96516e44-d71e-4ca5-9d73-6ca5bfd5c7e2",
   "metadata": {},
   "outputs": [
    {
     "name": "stdout",
     "output_type": "stream",
     "text": [
      "5.999999999454232\n",
      "5.999999999454222\n",
      "4.499999998537927\n"
     ]
    }
   ],
   "source": [
    "energycalculation = opentnsim.energy.EnergyCalculation(env.FG, vessel_I)\n",
    "energycalculation.calculate_energy_consumption()"
   ]
  },
  {
   "cell_type": "markdown",
   "id": "05878f0e",
   "metadata": {},
   "source": [
    "### 5. Inspect output\n",
    "We can now analyse the simulation output by inspecting the data in _energy_use_ in the energycalculation object. For convenient inspection it can be loaded into a Pandas dataframe. "
   ]
  },
  {
   "cell_type": "code",
   "execution_count": 11,
   "id": "22813834-a789-4846-b73b-8fba59a5ed7b",
   "metadata": {},
   "outputs": [
    {
     "data": {
      "text/html": [
       "<div>\n",
       "<style scoped>\n",
       "    .dataframe tbody tr th:only-of-type {\n",
       "        vertical-align: middle;\n",
       "    }\n",
       "\n",
       "    .dataframe tbody tr th {\n",
       "        vertical-align: top;\n",
       "    }\n",
       "\n",
       "    .dataframe thead th {\n",
       "        text-align: right;\n",
       "    }\n",
       "</style>\n",
       "<table border=\"1\" class=\"dataframe\">\n",
       "  <thead>\n",
       "    <tr style=\"text-align: right;\">\n",
       "      <th></th>\n",
       "      <th>time_start</th>\n",
       "      <th>time_stop</th>\n",
       "      <th>edge_start</th>\n",
       "      <th>edge_stop</th>\n",
       "      <th>P_tot</th>\n",
       "      <th>P_given</th>\n",
       "      <th>P_installed</th>\n",
       "      <th>total_energy</th>\n",
       "      <th>total_diesel_consumption_C_year_ICE_mass</th>\n",
       "      <th>total_diesel_consumption_ICE_mass</th>\n",
       "      <th>...</th>\n",
       "      <th>total_Li_NMC_Battery_mass</th>\n",
       "      <th>total_Li_NMC_Battery_vol</th>\n",
       "      <th>total_Battery2000kWh_consumption_num</th>\n",
       "      <th>total_emission_CO2</th>\n",
       "      <th>total_emission_PM10</th>\n",
       "      <th>total_emission_NOX</th>\n",
       "      <th>stationary</th>\n",
       "      <th>water depth</th>\n",
       "      <th>distance</th>\n",
       "      <th>delta_t</th>\n",
       "    </tr>\n",
       "  </thead>\n",
       "  <tbody>\n",
       "    <tr>\n",
       "      <th>0</th>\n",
       "      <td>2024-01-01 00:00:00.000000</td>\n",
       "      <td>2037-04-28 11:57:06.646371</td>\n",
       "      <td>POINT (0 0)</td>\n",
       "      <td>POINT (0.8983 0)</td>\n",
       "      <td>87.499999</td>\n",
       "      <td>87.499999</td>\n",
       "      <td>1750.0</td>\n",
       "      <td>1.021965e+07</td>\n",
       "      <td>2.810403e+09</td>\n",
       "      <td>2.880656e+09</td>\n",
       "      <td>...</td>\n",
       "      <td>1.161323e+11</td>\n",
       "      <td>91903.288859</td>\n",
       "      <td>6387.278576</td>\n",
       "      <td>8.916641e+09</td>\n",
       "      <td>9.974374e+06</td>\n",
       "      <td>1.888897e+08</td>\n",
       "      <td>1.021965e+07</td>\n",
       "      <td>6.0</td>\n",
       "      <td>99998.29858</td>\n",
       "      <td>4.204654e+08</td>\n",
       "    </tr>\n",
       "    <tr>\n",
       "      <th>1</th>\n",
       "      <td>2037-04-28 11:57:06.646371</td>\n",
       "      <td>2050-08-24 22:54:13.292743</td>\n",
       "      <td>POINT (0.8983 0)</td>\n",
       "      <td>POINT (1.7966 0)</td>\n",
       "      <td>87.499999</td>\n",
       "      <td>87.499999</td>\n",
       "      <td>1750.0</td>\n",
       "      <td>1.021956e+07</td>\n",
       "      <td>2.810379e+09</td>\n",
       "      <td>2.880631e+09</td>\n",
       "      <td>...</td>\n",
       "      <td>1.161313e+11</td>\n",
       "      <td>91902.502013</td>\n",
       "      <td>6387.223890</td>\n",
       "      <td>8.916565e+09</td>\n",
       "      <td>9.974289e+06</td>\n",
       "      <td>1.888881e+08</td>\n",
       "      <td>1.021956e+07</td>\n",
       "      <td>6.0</td>\n",
       "      <td>99998.29858</td>\n",
       "      <td>4.204618e+08</td>\n",
       "    </tr>\n",
       "    <tr>\n",
       "      <th>2</th>\n",
       "      <td>2050-08-24 22:54:13.292743</td>\n",
       "      <td>2059-12-05 08:00:11.183796</td>\n",
       "      <td>POINT (1.7966 0)</td>\n",
       "      <td>POINT (2.6949 0)</td>\n",
       "      <td>87.500000</td>\n",
       "      <td>87.500000</td>\n",
       "      <td>1750.0</td>\n",
       "      <td>7.117696e+06</td>\n",
       "      <td>1.957366e+09</td>\n",
       "      <td>2.006296e+09</td>\n",
       "      <td>...</td>\n",
       "      <td>8.088291e+10</td>\n",
       "      <td>64008.059356</td>\n",
       "      <td>4448.560125</td>\n",
       "      <td>6.210190e+09</td>\n",
       "      <td>6.946871e+06</td>\n",
       "      <td>1.315564e+08</td>\n",
       "      <td>7.117696e+06</td>\n",
       "      <td>4.5</td>\n",
       "      <td>99998.29858</td>\n",
       "      <td>2.928424e+08</td>\n",
       "    </tr>\n",
       "  </tbody>\n",
       "</table>\n",
       "<p>3 rows × 43 columns</p>\n",
       "</div>"
      ],
      "text/plain": [
       "                  time_start                  time_stop        edge_start  \\\n",
       "0 2024-01-01 00:00:00.000000 2037-04-28 11:57:06.646371       POINT (0 0)   \n",
       "1 2037-04-28 11:57:06.646371 2050-08-24 22:54:13.292743  POINT (0.8983 0)   \n",
       "2 2050-08-24 22:54:13.292743 2059-12-05 08:00:11.183796  POINT (1.7966 0)   \n",
       "\n",
       "          edge_stop      P_tot    P_given  P_installed  total_energy  \\\n",
       "0  POINT (0.8983 0)  87.499999  87.499999       1750.0  1.021965e+07   \n",
       "1  POINT (1.7966 0)  87.499999  87.499999       1750.0  1.021956e+07   \n",
       "2  POINT (2.6949 0)  87.500000  87.500000       1750.0  7.117696e+06   \n",
       "\n",
       "   total_diesel_consumption_C_year_ICE_mass  \\\n",
       "0                              2.810403e+09   \n",
       "1                              2.810379e+09   \n",
       "2                              1.957366e+09   \n",
       "\n",
       "   total_diesel_consumption_ICE_mass  ...  total_Li_NMC_Battery_mass  \\\n",
       "0                       2.880656e+09  ...               1.161323e+11   \n",
       "1                       2.880631e+09  ...               1.161313e+11   \n",
       "2                       2.006296e+09  ...               8.088291e+10   \n",
       "\n",
       "   total_Li_NMC_Battery_vol  total_Battery2000kWh_consumption_num  \\\n",
       "0              91903.288859                           6387.278576   \n",
       "1              91902.502013                           6387.223890   \n",
       "2              64008.059356                           4448.560125   \n",
       "\n",
       "   total_emission_CO2  total_emission_PM10  total_emission_NOX    stationary  \\\n",
       "0        8.916641e+09         9.974374e+06        1.888897e+08  1.021965e+07   \n",
       "1        8.916565e+09         9.974289e+06        1.888881e+08  1.021956e+07   \n",
       "2        6.210190e+09         6.946871e+06        1.315564e+08  7.117696e+06   \n",
       "\n",
       "   water depth     distance       delta_t  \n",
       "0          6.0  99998.29858  4.204654e+08  \n",
       "1          6.0  99998.29858  4.204618e+08  \n",
       "2          4.5  99998.29858  2.928424e+08  \n",
       "\n",
       "[3 rows x 43 columns]"
      ]
     },
     "execution_count": 11,
     "metadata": {},
     "output_type": "execute_result"
    }
   ],
   "source": [
    "# create dataframe from energy calculation computation\n",
    "df = pd.DataFrame.from_dict(energycalculation.energy_use)\n",
    "df"
   ]
  },
  {
   "cell_type": "code",
   "execution_count": 12,
   "id": "d4765b5c-90f0-48ff-9563-650484e8106e",
   "metadata": {},
   "outputs": [
    {
     "data": {
      "text/html": [
       "<div>\n",
       "<style scoped>\n",
       "    .dataframe tbody tr th:only-of-type {\n",
       "        vertical-align: middle;\n",
       "    }\n",
       "\n",
       "    .dataframe tbody tr th {\n",
       "        vertical-align: top;\n",
       "    }\n",
       "\n",
       "    .dataframe thead th {\n",
       "        text-align: right;\n",
       "    }\n",
       "</style>\n",
       "<table border=\"1\" class=\"dataframe\">\n",
       "  <thead>\n",
       "    <tr style=\"text-align: right;\">\n",
       "      <th></th>\n",
       "      <th>time_start</th>\n",
       "      <th>time_stop</th>\n",
       "      <th>edge_start</th>\n",
       "      <th>edge_stop</th>\n",
       "      <th>P_tot</th>\n",
       "      <th>P_given</th>\n",
       "      <th>P_installed</th>\n",
       "      <th>total_energy</th>\n",
       "      <th>total_diesel_consumption_C_year_ICE_mass</th>\n",
       "      <th>total_diesel_consumption_ICE_mass</th>\n",
       "      <th>...</th>\n",
       "      <th>total_emission_PM10</th>\n",
       "      <th>total_emission_NOX</th>\n",
       "      <th>stationary</th>\n",
       "      <th>water depth</th>\n",
       "      <th>distance</th>\n",
       "      <th>delta_t</th>\n",
       "      <th>fuel_kg_per_km</th>\n",
       "      <th>CO2_g_per_km</th>\n",
       "      <th>PM10_g_per_km</th>\n",
       "      <th>NOx_g_per_km</th>\n",
       "    </tr>\n",
       "  </thead>\n",
       "  <tbody>\n",
       "    <tr>\n",
       "      <th>0</th>\n",
       "      <td>2024-01-01 00:00:00.000000</td>\n",
       "      <td>2037-04-28 11:57:06.646371</td>\n",
       "      <td>POINT (0 0)</td>\n",
       "      <td>POINT (0.8983 0)</td>\n",
       "      <td>87.499999</td>\n",
       "      <td>87.499999</td>\n",
       "      <td>1750.0</td>\n",
       "      <td>1.021965e+07</td>\n",
       "      <td>2.810403e+09</td>\n",
       "      <td>2.880656e+09</td>\n",
       "      <td>...</td>\n",
       "      <td>9.974374e+06</td>\n",
       "      <td>1.888897e+08</td>\n",
       "      <td>1.021965e+07</td>\n",
       "      <td>6.0</td>\n",
       "      <td>99998.29858</td>\n",
       "      <td>4.204654e+08</td>\n",
       "      <td>28807.050250</td>\n",
       "      <td>8.916793e+07</td>\n",
       "      <td>99745.439327</td>\n",
       "      <td>1.888929e+06</td>\n",
       "    </tr>\n",
       "    <tr>\n",
       "      <th>1</th>\n",
       "      <td>2037-04-28 11:57:06.646371</td>\n",
       "      <td>2050-08-24 22:54:13.292743</td>\n",
       "      <td>POINT (0.8983 0)</td>\n",
       "      <td>POINT (1.7966 0)</td>\n",
       "      <td>87.499999</td>\n",
       "      <td>87.499999</td>\n",
       "      <td>1750.0</td>\n",
       "      <td>1.021956e+07</td>\n",
       "      <td>2.810379e+09</td>\n",
       "      <td>2.880631e+09</td>\n",
       "      <td>...</td>\n",
       "      <td>9.974289e+06</td>\n",
       "      <td>1.888881e+08</td>\n",
       "      <td>1.021956e+07</td>\n",
       "      <td>6.0</td>\n",
       "      <td>99998.29858</td>\n",
       "      <td>4.204618e+08</td>\n",
       "      <td>28806.803614</td>\n",
       "      <td>8.916716e+07</td>\n",
       "      <td>99744.585339</td>\n",
       "      <td>1.888913e+06</td>\n",
       "    </tr>\n",
       "    <tr>\n",
       "      <th>2</th>\n",
       "      <td>2050-08-24 22:54:13.292743</td>\n",
       "      <td>2059-12-05 08:00:11.183796</td>\n",
       "      <td>POINT (1.7966 0)</td>\n",
       "      <td>POINT (2.6949 0)</td>\n",
       "      <td>87.500000</td>\n",
       "      <td>87.500000</td>\n",
       "      <td>1750.0</td>\n",
       "      <td>7.117696e+06</td>\n",
       "      <td>1.957366e+09</td>\n",
       "      <td>2.006296e+09</td>\n",
       "      <td>...</td>\n",
       "      <td>6.946871e+06</td>\n",
       "      <td>1.315564e+08</td>\n",
       "      <td>7.117696e+06</td>\n",
       "      <td>4.5</td>\n",
       "      <td>99998.29858</td>\n",
       "      <td>2.928424e+08</td>\n",
       "      <td>20063.301381</td>\n",
       "      <td>6.210296e+07</td>\n",
       "      <td>69469.896885</td>\n",
       "      <td>1.315586e+06</td>\n",
       "    </tr>\n",
       "  </tbody>\n",
       "</table>\n",
       "<p>3 rows × 47 columns</p>\n",
       "</div>"
      ],
      "text/plain": [
       "                  time_start                  time_stop        edge_start  \\\n",
       "0 2024-01-01 00:00:00.000000 2037-04-28 11:57:06.646371       POINT (0 0)   \n",
       "1 2037-04-28 11:57:06.646371 2050-08-24 22:54:13.292743  POINT (0.8983 0)   \n",
       "2 2050-08-24 22:54:13.292743 2059-12-05 08:00:11.183796  POINT (1.7966 0)   \n",
       "\n",
       "          edge_stop      P_tot    P_given  P_installed  total_energy  \\\n",
       "0  POINT (0.8983 0)  87.499999  87.499999       1750.0  1.021965e+07   \n",
       "1  POINT (1.7966 0)  87.499999  87.499999       1750.0  1.021956e+07   \n",
       "2  POINT (2.6949 0)  87.500000  87.500000       1750.0  7.117696e+06   \n",
       "\n",
       "   total_diesel_consumption_C_year_ICE_mass  \\\n",
       "0                              2.810403e+09   \n",
       "1                              2.810379e+09   \n",
       "2                              1.957366e+09   \n",
       "\n",
       "   total_diesel_consumption_ICE_mass  ...  total_emission_PM10  \\\n",
       "0                       2.880656e+09  ...         9.974374e+06   \n",
       "1                       2.880631e+09  ...         9.974289e+06   \n",
       "2                       2.006296e+09  ...         6.946871e+06   \n",
       "\n",
       "   total_emission_NOX    stationary  water depth     distance       delta_t  \\\n",
       "0        1.888897e+08  1.021965e+07          6.0  99998.29858  4.204654e+08   \n",
       "1        1.888881e+08  1.021956e+07          6.0  99998.29858  4.204618e+08   \n",
       "2        1.315564e+08  7.117696e+06          4.5  99998.29858  2.928424e+08   \n",
       "\n",
       "   fuel_kg_per_km  CO2_g_per_km  PM10_g_per_km  NOx_g_per_km  \n",
       "0    28807.050250  8.916793e+07   99745.439327  1.888929e+06  \n",
       "1    28806.803614  8.916716e+07   99744.585339  1.888913e+06  \n",
       "2    20063.301381  6.210296e+07   69469.896885  1.315586e+06  \n",
       "\n",
       "[3 rows x 47 columns]"
      ]
     },
     "execution_count": 12,
     "metadata": {},
     "output_type": "execute_result"
    }
   ],
   "source": [
    "df['fuel_kg_per_km'] = (df['total_diesel_consumption_ICE_mass'] / 1000) / (df['distance']/1000)\n",
    "df['CO2_g_per_km']   = (df['total_emission_CO2']) / (df['distance']/1000)\n",
    "df['PM10_g_per_km']  = (df['total_emission_PM10']) / (df['distance']/1000)\n",
    "df['NOx_g_per_km']   = (df['total_emission_NOX']) / (df['distance']/1000)\n",
    "df"
   ]
  },
  {
   "cell_type": "code",
   "execution_count": 13,
   "id": "8b8343b4-0df4-4c8a-ae26-ee4acfb57d54",
   "metadata": {},
   "outputs": [
    {
     "data": {
      "image/png": "[encoded data removed]",
      "text/plain": [
       "<Figure size 640x480 with 1 Axes>"
      ]
     },
     "metadata": {},
     "output_type": "display_data"
    }
   ],
   "source": [
    "plt.bar(df.index,df.total_energy)\n",
    "plt.ylabel('section transit energy [kWh]')\n",
    "plt.xlabel('section')\n",
    "plt.xticks([0,1,2]);"
   ]
  },
  {
   "cell_type": "code",
   "execution_count": 14,
   "id": "2672846e",
   "metadata": {},
   "outputs": [
    {
     "data": {
      "text/plain": [
       "[7007757.11077285, 7007697.110772867, 4880705.964850884]"
      ]
     },
     "execution_count": 14,
     "metadata": {},
     "output_type": "execute_result"
    }
   ],
   "source": [
    "durations=[]\n",
    "for index, row in df.iterrows():\n",
    "    durations.append((df.time_stop[index]-df.time_start)[index].total_seconds()/60)\n",
    "durations"
   ]
  },
  {
   "cell_type": "code",
   "execution_count": 15,
   "id": "ec55a9a7-968b-4373-aa4c-1eaba38444f7",
   "metadata": {},
   "outputs": [
    {
     "data": {
      "image/png": "[encoded data removed]",
      "text/plain": [
       "<Figure size 640x480 with 1 Axes>"
      ]
     },
     "metadata": {},
     "output_type": "display_data"
    }
   ],
   "source": [
    "plt.bar(df.index,durations)\n",
    "plt.ylabel('section transit time [mins]')\n",
    "plt.xlabel('section')\n",
    "plt.xticks([0,1,2]);"
   ]
  },
  {
   "cell_type": "code",
   "execution_count": null,
   "id": "7804ae11",
   "metadata": {},
   "outputs": [],
   "source": []
  }
 ],
 "metadata": {
  "kernelspec": {
   "display_name": "Python 3 (ipykernel)",
   "language": "python",
   "name": "python3"
  },
  "language_info": {
   "codemirror_mode": {
    "name": "ipython",
    "version": 3
   },
   "file_extension": ".py",
   "mimetype": "text/x-python",
   "name": "python",
   "nbconvert_exporter": "python",
   "pygments_lexer": "ipython3",
   "version": "3.8.16"
  }
 },
 "nbformat": 4,
 "nbformat_minor": 5
}
