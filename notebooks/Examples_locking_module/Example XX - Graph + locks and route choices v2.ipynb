{
 "cells": [
  {
   "cell_type": "markdown",
   "id": "b6e6b2b1-109c-4b1d-8b37-fd6ab4bebca8",
   "metadata": {},
   "source": [
    "### 1. Imports\n",
    "We start with importing required libraries"
   ]
  },
  {
   "cell_type": "code",
   "execution_count": 16,
   "id": "0a5d60f0",
   "metadata": {},
   "outputs": [],
   "source": [
    "import networkx as nx\n",
    "from shapely.geometry import Point,LineString,Polygon\n",
    "\n",
    "import datetime\n",
    "import simpy\n",
    "\n",
    "from opentnsim import core as core_module\n",
    "from opentnsim import graph as graph_module\n",
    "from opentnsim import lock as lock_module\n",
    "from opentnsim import output as output_module\n",
    "from opentnsim import vessel as vessel_module\n",
    "from opentnsim import vessel_traffic_service as vessel_traffic_service_module\n",
    "\n",
    "import pandas as pd\n",
    "\n",
    "import matplotlib.pyplot as plt"
   ]
  },
  {
   "cell_type": "markdown",
   "id": "df03f7f1",
   "metadata": {},
   "source": [
    "#### Initialise environment\n",
    "For later convenience we already initialise a simpy environment, with some additional properties related to the simulation start and stop time."
   ]
  },
  {
   "cell_type": "code",
   "execution_count": 17,
   "id": "625191e8",
   "metadata": {},
   "outputs": [],
   "source": [
    "t_start = datetime.datetime(2024, 1, 1, 0, 0, 0)\n",
    "\n",
    "env = simpy.Environment(initial_time=t_start.timestamp())\n",
    "\n",
    "env.epoch = t_start\n",
    "env.simulation_start = t_start"
   ]
  },
  {
   "cell_type": "markdown",
   "id": "a7c23f3d",
   "metadata": {},
   "source": [
    "## Simplified graph with sequence of locks\n",
    "In this notebook, we set up a basic simulation where a vessel moves over a 1D network path that contains sequence of locks. \n",
    "\n",
    "We take the following steps:\n",
    "\n",
    "1. [Imports](#1.-Imports)\n",
    "    * [Initialise environment](#Initialise-environment)\n",
    "2. [Create vessel](#2.-Create-vessel)\n",
    "3. [Create graph](#3.-Create-graph)\n",
    "    * [Add hydrodynamic data](#3.1.-Add-hydrodynamic-data)\n",
    "    * [Add lock](#3.2.-Add-lock)\n",
    "4. [Run simulation](#4.-Run-simulation)\n",
    "5. [Inspect output](#5.-Inspect-output)"
   ]
  },
  {
   "cell_type": "markdown",
   "id": "1cd7f736-aad4-4525-9222-4b6dc0a2791d",
   "metadata": {},
   "source": [
    "### 2. Create vessel\n",
    "We start with creating a vessel class. We call this class a *Vessel*, and add a number of OpenTNSim mix-ins to this class. Each mix-in requires certain input parameters. We wrap the creation of the vessel class in a function, to facilitate the generation of multiple vessels. \n",
    "\n",
    "The following mix-ins are sufficient to create a vessel for our problem: \n",
    "* _Identifiable_ - allows to give the vessel a name and a random ID, \n",
    "* _SimpyObject_ -\n",
    "* _HasLock_ - the lock chamber where vessels stay during the leveling process\n",
    "* _HasLineUpArea_ - a place just in front of the lock to guide vessels entering the lock chamber\n",
    "* _HasWaitingArea_ - a place where vessels can wait before entering the lock\n",
    "* _VesselProperties_ - allows the specification of vessel properties, such as L, B and T\n",
    "* _ExtraMetadata_ -\n",
    "* _HasOutput_ -"
   ]
  },
  {
   "cell_type": "code",
   "execution_count": 18,
   "id": "29294d6e",
   "metadata": {},
   "outputs": [],
   "source": [
    "#We create a type element that schematisizes a vessel\n",
    "def create_vessel(env, \n",
    "                  name, \n",
    "                  origin, \n",
    "                  destination, \n",
    "                  vessel_type, \n",
    "                  L, \n",
    "                  B, \n",
    "                  T,\n",
    "                  arrival_time):\n",
    "    Vessel = type('Vessel',(lock_module.HasLockComplex,\n",
    "                            vessel_module.IsVessel,\n",
    "                           ),{})    \n",
    "\n",
    "    vessel = Vessel(\n",
    "        **{ \"env\": env,\n",
    "            \"name\": name,\n",
    "            \"origin\": origin,\n",
    "            \"destination\": destination,\n",
    "            \"type\": vessel_type,\n",
    "            \"L\": L,\n",
    "            \"B\": B,\n",
    "            \"T\": T,\n",
    "            \"arrival_time\": arrival_time\n",
    "        }\n",
    "    )\n",
    "\n",
    "    env.process(vessel.move())\n",
    "    \n",
    "    return vessel"
   ]
  },
  {
   "cell_type": "markdown",
   "id": "798037c7-f2f9-4c28-a440-fe27a804d9ae",
   "metadata": {},
   "source": [
    "### 3. Create graph\n",
    "Next we create a 1D network (a graph) along which the vessel can move. A graph is made of nodes (blue dots in the plot below) and edges (red arrows between the nodes in the plot below). We use the graph_module of OpenTNSim to do this."
   ]
  },
  {
   "cell_type": "code",
   "execution_count": 25,
   "id": "50df10ec",
   "metadata": {},
   "outputs": [],
   "source": [
    "# specifiy nodes and edges\n",
    "node_A = graph_module.Node(name='A',geometry=Point(0,5000))\n",
    "node_B = graph_module.Node(name='B',geometry=Point(5000,5000))\n",
    "node_C = graph_module.Node(name='C',geometry=Point(15000,5000))\n",
    "node_D = graph_module.Node(name='D',geometry=Point(20000,5000))\n",
    "\n",
    "node_E = graph_module.Node(name='E',geometry=Point(5000,4600))\n",
    "node_F = graph_module.Node(name='F',geometry=Point(15000,4600))\n",
    "\n",
    "node_G = graph_module.Node(name='G',geometry=Point(0,0))\n",
    "node_H = graph_module.Node(name='H',geometry=Point(5000,0))\n",
    "node_I = graph_module.Node(name='I',geometry=Point(12600,0))\n",
    "node_J = graph_module.Node(name='J',geometry=Point(13000,0))\n",
    "node_K = graph_module.Node(name='K',geometry=Point(15000,0))\n",
    "node_L = graph_module.Node(name='L',geometry=Point(20000,0))\n",
    "edges = [(node_A,node_B),(node_B,node_C),(node_C,node_D),\n",
    "         (node_B,node_E),(node_E,node_H),\n",
    "         (node_C,node_F),(node_F,node_K),\n",
    "         (node_G,node_H),(node_H,node_I),(node_I,node_J),(node_J,node_K),(node_K,node_L),\n",
    "        ]\n",
    "\n",
    "# create a graph object\n",
    "FG = graph_module.DiGraph(edges=edges,crs='EPSG:28992').graph\n",
    "env.FG = nx.MultiDiGraph(FG)\n",
    "\n",
    "# add a VTS to the environment to know where vessels are going\n",
    "env.vessel_traffic_service = vessel_traffic_service_module.VesselTrafficService(env=env)"
   ]
  },
  {
   "cell_type": "code",
   "execution_count": 26,
   "id": "71d393c9-1338-4269-a6db-433e913fa7f6",
   "metadata": {},
   "outputs": [],
   "source": [
    "# collect node positions and labels\n",
    "nodes = []\n",
    "coordinates = []\n",
    "labels = {}\n",
    "\n",
    "for node in env.FG.nodes:\n",
    "    nodes.append(node)\n",
    "    coordinates.append([nx.get_node_attributes(env.FG, 'geometry')[node].x, nx.get_node_attributes(env.FG, 'geometry')[node].y])\n",
    "    labels[node] = node\n",
    "    \n",
    "positions = dict(zip(nodes, coordinates))"
   ]
  },
  {
   "cell_type": "code",
   "execution_count": 27,
   "id": "f8234c9b-6d1d-461e-a050-4b3ba539b6ba",
   "metadata": {},
   "outputs": [
    {
     "data": {
      "image/png": "[encoded data removed]",
      "text/plain": [
       "<Figure size 640x480 with 1 Axes>"
      ]
     },
     "metadata": {},
     "output_type": "display_data"
    }
   ],
   "source": [
    "# draw edges, nodes and labels\n",
    "nx.draw_networkx_edges(env.FG, pos=positions, width=3, edge_color=\"red\", alpha=1, arrowsize=10)\n",
    "nx.draw_networkx_nodes(env.FG, pos=positions, node_color=\"darkblue\", node_size=300)\n",
    "nx.draw_networkx_labels(env.FG, pos=positions, labels=labels, font_size=10, font_weight=\"bold\", font_color=\"white\")\n",
    "\n",
    "plt.axis(\"off\")\n",
    "plt.show()"
   ]
  },
  {
   "cell_type": "markdown",
   "id": "bb9c3c27",
   "metadata": {},
   "source": [
    "Now we need to create the lock infrastructure"
   ]
  },
  {
   "cell_type": "code",
   "execution_count": 28,
   "id": "101dc780",
   "metadata": {},
   "outputs": [],
   "source": [
    "# we add two locks to specified edges in the network\n",
    "lock_I = lock_module.IsLockComplex(env=env,\n",
    "                                   name='Lock I',\n",
    "                                   start_node='B',\n",
    "                                   node_open='B',\n",
    "                                   end_node='E',\n",
    "                                   lock_length = 120,\n",
    "                                   lock_width = 18,\n",
    "                                   lock_depth = 6,\n",
    "                                   lineup_area_A_length=120,\n",
    "                                   lineup_area_B_length=120,\n",
    "                                   levelling_time=1500,\n",
    "                                   distance_doors_A_from_waiting_area_A=140,\n",
    "                                   distance_doors_B_from_waiting_area_B=140,\n",
    "                                   distance_waiting_area_A_from_start_node=0,\n",
    "                                   distance_waiting_area_B_from_end_node=0,\n",
    "                                   distance_lineup_area_A_to_lock_doors_A=20,\n",
    "                                   distance_lineup_area_B_to_lock_doors_B=20)\n",
    "\n",
    "lock_II = lock_module.IsLockComplex(env=env,\n",
    "                                    name='Lock II',\n",
    "                                    start_node='C',\n",
    "                                    node_open='C',\n",
    "                                    end_node='F',\n",
    "                                    lock_length = 120,\n",
    "                                    lock_width = 18,\n",
    "                                    lock_depth = 6,\n",
    "                                    lineup_area_A_length=120,\n",
    "                                    lineup_area_B_length=120,\n",
    "                                    levelling_time=1500,\n",
    "                                    distance_doors_A_from_waiting_area_A=140,\n",
    "                                    distance_doors_B_from_waiting_area_B=140,\n",
    "                                    distance_waiting_area_A_from_start_node=0,\n",
    "                                    distance_waiting_area_B_from_end_node=0,\n",
    "                                    distance_lineup_area_A_to_lock_doors_A=20,\n",
    "                                    distance_lineup_area_B_to_lock_doors_B=20)\n",
    "\n",
    "lock_III = lock_module.IsLockComplex(env=env,\n",
    "                                    name='Lock III',\n",
    "                                    start_node='I',\n",
    "                                    node_open='I',\n",
    "                                    end_node='J',\n",
    "                                    lock_length = 120,\n",
    "                                    lock_width = 18,\n",
    "                                    lock_depth = 6,\n",
    "                                    lineup_area_A_length=120,\n",
    "                                    lineup_area_B_length=120,\n",
    "                                    levelling_time=1500,\n",
    "                                    distance_doors_A_from_waiting_area_A=140,\n",
    "                                    distance_doors_B_from_waiting_area_B=140,\n",
    "                                    distance_waiting_area_A_from_start_node=0,\n",
    "                                    distance_waiting_area_B_from_end_node=0,\n",
    "                                    distance_lineup_area_A_to_lock_doors_A=20,\n",
    "                                    distance_lineup_area_B_to_lock_doors_B=20)"
   ]
  },
  {
   "cell_type": "markdown",
   "id": "3848b4b7",
   "metadata": {},
   "source": [
    "#### 4. Run simulation\n",
    "We use the _create_vessel_ method to generate two vessels and run the simulation"
   ]
  },
  {
   "cell_type": "code",
   "execution_count": 29,
   "id": "f09984e9-dc63-4084-99a3-8b5bfe24efce",
   "metadata": {},
   "outputs": [],
   "source": [
    "vessel_1 = create_vessel(env=env, \n",
    "                         name='Vessel_1', \n",
    "                         origin='A', \n",
    "                         destination='G', \n",
    "                         vessel_type='inland vessel', \n",
    "                         L=100, \n",
    "                         B=15, \n",
    "                         T=5,\n",
    "                         arrival_time=datetime.datetime(2024, 1, 1, 0, 0, 0))\n",
    "\n",
    "vessel_2 = create_vessel(env=env, \n",
    "                         name='Vessel_2', \n",
    "                         origin='G', \n",
    "                         destination='L', \n",
    "                         vessel_type='inland vessel', \n",
    "                         L=100, \n",
    "                         B=15, \n",
    "                         T=5,\n",
    "                         arrival_time=datetime.datetime(2024, 1, 1, 0, 10, 0))\n",
    "\n",
    "vessel_3 = create_vessel(env=env, \n",
    "                         name='Vessel_3', \n",
    "                         origin='L', \n",
    "                         destination='D', \n",
    "                         vessel_type='inland vessel', \n",
    "                         L=100, \n",
    "                         B=15, \n",
    "                         T=5,\n",
    "                         arrival_time=datetime.datetime(2024, 1, 1, 0, 10, 0))\n",
    "\n",
    "vessels=[vessel_1, vessel_2, vessel_3]"
   ]
  },
  {
   "cell_type": "code",
   "execution_count": 30,
   "id": "247ed770",
   "metadata": {},
   "outputs": [],
   "source": [
    "env.run()"
   ]
  },
  {
   "cell_type": "markdown",
   "id": "a3318026",
   "metadata": {},
   "source": [
    "#### 5. Inspect results"
   ]
  },
  {
   "cell_type": "code",
   "execution_count": 31,
   "id": "adb16e6a",
   "metadata": {},
   "outputs": [],
   "source": [
    "vessel_1_df = pd.DataFrame(vessel_1.logbook)\n",
    "vessel_2_df = pd.DataFrame(vessel_2.logbook)\n",
    "vessel_3_df = pd.DataFrame(vessel_3.logbook)"
   ]
  },
  {
   "cell_type": "markdown",
   "id": "7b11307a-f5fb-4ee1-97ea-ce280dc2733c",
   "metadata": {},
   "source": [
    "#### Lock I"
   ]
  },
  {
   "cell_type": "code",
   "execution_count": 32,
   "id": "316b5dae-d8de-4df6-82b7-38875cff065d",
   "metadata": {},
   "outputs": [
    {
     "data": {
      "image/png": "[encoded data removed]",
      "text/plain": [
       "<Figure size 640x480 with 1 Axes>"
      ]
     },
     "metadata": {},
     "output_type": "display_data"
    }
   ],
   "source": [
    "fig, axes = plt.subplots(1,1)\n",
    "ylim = (min(vessel_1_df['Timestamp'].min(), vessel_2_df['Timestamp'].min(), vessel_3_df['Timestamp'].min()),\n",
    "        max(vessel_1_df['Timestamp'].max(), vessel_2_df['Timestamp'].max(), vessel_3_df['Timestamp'].max()))\n",
    "\n",
    "lock_I.create_time_distance_diagram(vessels,ax=axes,ylim=ylim,vessel_colors=['C0','C1'])\n",
    "\n",
    "axes.set_xlabel('')\n",
    "axes.set_xlabel('')\n",
    "axes.set_title('Lock I')\n",
    "\n",
    "fig.supxlabel('Distance');"
   ]
  },
  {
   "cell_type": "code",
   "execution_count": 33,
   "id": "2cb3dfe4",
   "metadata": {},
   "outputs": [
    {
     "data": {
      "text/html": [
       "<div>\n",
       "<style scoped>\n",
       "    .dataframe tbody tr th:only-of-type {\n",
       "        vertical-align: middle;\n",
       "    }\n",
       "\n",
       "    .dataframe tbody tr th {\n",
       "        vertical-align: top;\n",
       "    }\n",
       "\n",
       "    .dataframe thead th {\n",
       "        text-align: right;\n",
       "    }\n",
       "</style>\n",
       "<table border=\"1\" class=\"dataframe\">\n",
       "  <thead>\n",
       "    <tr style=\"text-align: right;\">\n",
       "      <th></th>\n",
       "    </tr>\n",
       "  </thead>\n",
       "  <tbody>\n",
       "  </tbody>\n",
       "</table>\n",
       "</div>"
      ],
      "text/plain": [
       "Empty DataFrame\n",
       "Columns: []\n",
       "Index: []"
      ]
     },
     "execution_count": 33,
     "metadata": {},
     "output_type": "execute_result"
    }
   ],
   "source": [
    "lock_df = pd.DataFrame(lock_I.logbook)\n",
    "lock_df"
   ]
  },
  {
   "cell_type": "markdown",
   "id": "d83edbad-3b22-45f6-8d26-88a964bca80b",
   "metadata": {},
   "source": [
    "#### Lock II"
   ]
  },
  {
   "cell_type": "code",
   "execution_count": 34,
   "id": "0f4c722c-0db9-4e9e-81f5-1193b05075c9",
   "metadata": {},
   "outputs": [
    {
     "data": {
      "image/png": "[encoded data removed]",
      "text/plain": [
       "<Figure size 640x480 with 1 Axes>"
      ]
     },
     "metadata": {},
     "output_type": "display_data"
    }
   ],
   "source": [
    "fig, axes = plt.subplots(1,1)\n",
    "ylim = (min(vessel_1_df['Timestamp'].min(), vessel_2_df['Timestamp'].min()),\n",
    "        max(vessel_1_df['Timestamp'].max(), vessel_2_df['Timestamp'].max()))\n",
    "\n",
    "lock_II.create_time_distance_diagram(vessels,ax=axes,ylim=ylim,vessel_colors=['C0','C1'])\n",
    "\n",
    "axes.set_xlabel('')\n",
    "axes.set_xlabel('')\n",
    "axes.set_title('Lock II')\n",
    "\n",
    "fig.supxlabel('Distance');"
   ]
  },
  {
   "cell_type": "code",
   "execution_count": 35,
   "id": "3c94e6db",
   "metadata": {},
   "outputs": [
    {
     "data": {
      "text/html": [
       "<div>\n",
       "<style scoped>\n",
       "    .dataframe tbody tr th:only-of-type {\n",
       "        vertical-align: middle;\n",
       "    }\n",
       "\n",
       "    .dataframe tbody tr th {\n",
       "        vertical-align: top;\n",
       "    }\n",
       "\n",
       "    .dataframe thead th {\n",
       "        text-align: right;\n",
       "    }\n",
       "</style>\n",
       "<table border=\"1\" class=\"dataframe\">\n",
       "  <thead>\n",
       "    <tr style=\"text-align: right;\">\n",
       "      <th></th>\n",
       "      <th>Message</th>\n",
       "      <th>Timestamp</th>\n",
       "      <th>Value</th>\n",
       "      <th>Geometry</th>\n",
       "    </tr>\n",
       "  </thead>\n",
       "  <tbody>\n",
       "    <tr>\n",
       "      <th>0</th>\n",
       "      <td>Lock doors closing start</td>\n",
       "      <td>2024-01-01 00:49:56.788965</td>\n",
       "      <td>{}</td>\n",
       "      <td>C</td>\n",
       "    </tr>\n",
       "    <tr>\n",
       "      <th>1</th>\n",
       "      <td>Lock doors closing stop</td>\n",
       "      <td>2024-01-01 00:49:56.788965</td>\n",
       "      <td>{}</td>\n",
       "      <td>C</td>\n",
       "    </tr>\n",
       "    <tr>\n",
       "      <th>2</th>\n",
       "      <td>Lock chamber converting start</td>\n",
       "      <td>2024-01-01 00:49:56.788965</td>\n",
       "      <td>{}</td>\n",
       "      <td>C</td>\n",
       "    </tr>\n",
       "    <tr>\n",
       "      <th>3</th>\n",
       "      <td>Lock chamber converting stop</td>\n",
       "      <td>2024-01-01 01:14:56.788965</td>\n",
       "      <td>{}</td>\n",
       "      <td>F</td>\n",
       "    </tr>\n",
       "    <tr>\n",
       "      <th>4</th>\n",
       "      <td>Lock doors opening start</td>\n",
       "      <td>2024-01-01 01:14:56.788965</td>\n",
       "      <td>{}</td>\n",
       "      <td>F</td>\n",
       "    </tr>\n",
       "    <tr>\n",
       "      <th>5</th>\n",
       "      <td>Lock doors opening stop</td>\n",
       "      <td>2024-01-01 01:14:56.788965</td>\n",
       "      <td>{}</td>\n",
       "      <td>F</td>\n",
       "    </tr>\n",
       "    <tr>\n",
       "      <th>6</th>\n",
       "      <td>Lock doors closing start</td>\n",
       "      <td>2024-01-01 01:17:31.555556</td>\n",
       "      <td>{'visiting_vessels': [&lt;__main__.Vessel object ...</td>\n",
       "      <td>F</td>\n",
       "    </tr>\n",
       "    <tr>\n",
       "      <th>7</th>\n",
       "      <td>Lock doors closing stop</td>\n",
       "      <td>2024-01-01 01:17:31.555556</td>\n",
       "      <td>{'visiting_vessels': [&lt;__main__.Vessel object ...</td>\n",
       "      <td>F</td>\n",
       "    </tr>\n",
       "    <tr>\n",
       "      <th>8</th>\n",
       "      <td>Lock chamber converting start</td>\n",
       "      <td>2024-01-01 01:17:31.555556</td>\n",
       "      <td>{'visiting_vessels': [&lt;__main__.Vessel object ...</td>\n",
       "      <td>F</td>\n",
       "    </tr>\n",
       "    <tr>\n",
       "      <th>9</th>\n",
       "      <td>Lock chamber converting stop</td>\n",
       "      <td>2024-01-01 01:42:31.555556</td>\n",
       "      <td>{'visiting_vessels': [&lt;__main__.Vessel object ...</td>\n",
       "      <td>C</td>\n",
       "    </tr>\n",
       "    <tr>\n",
       "      <th>10</th>\n",
       "      <td>Lock doors opening start</td>\n",
       "      <td>2024-01-01 01:42:31.555556</td>\n",
       "      <td>{'visiting_vessels': [&lt;__main__.Vessel object ...</td>\n",
       "      <td>C</td>\n",
       "    </tr>\n",
       "    <tr>\n",
       "      <th>11</th>\n",
       "      <td>Lock doors opening stop</td>\n",
       "      <td>2024-01-01 01:42:31.555556</td>\n",
       "      <td>{'visiting_vessels': [&lt;__main__.Vessel object ...</td>\n",
       "      <td>C</td>\n",
       "    </tr>\n",
       "    <tr>\n",
       "      <th>12</th>\n",
       "      <td>Lock doors closing start</td>\n",
       "      <td>2024-01-01 01:46:37.666667</td>\n",
       "      <td>{'visiting_vessels': [&lt;__main__.Vessel object ...</td>\n",
       "      <td>C</td>\n",
       "    </tr>\n",
       "    <tr>\n",
       "      <th>13</th>\n",
       "      <td>Lock doors closing stop</td>\n",
       "      <td>2024-01-01 01:46:37.666667</td>\n",
       "      <td>{'visiting_vessels': [&lt;__main__.Vessel object ...</td>\n",
       "      <td>C</td>\n",
       "    </tr>\n",
       "    <tr>\n",
       "      <th>14</th>\n",
       "      <td>Lock chamber converting start</td>\n",
       "      <td>2024-01-01 01:46:37.666667</td>\n",
       "      <td>{'visiting_vessels': [&lt;__main__.Vessel object ...</td>\n",
       "      <td>C</td>\n",
       "    </tr>\n",
       "    <tr>\n",
       "      <th>15</th>\n",
       "      <td>Lock chamber converting stop</td>\n",
       "      <td>2024-01-01 02:11:37.666667</td>\n",
       "      <td>{'visiting_vessels': [&lt;__main__.Vessel object ...</td>\n",
       "      <td>F</td>\n",
       "    </tr>\n",
       "    <tr>\n",
       "      <th>16</th>\n",
       "      <td>Lock doors opening start</td>\n",
       "      <td>2024-01-01 02:11:37.666667</td>\n",
       "      <td>{'visiting_vessels': [&lt;__main__.Vessel object ...</td>\n",
       "      <td>F</td>\n",
       "    </tr>\n",
       "    <tr>\n",
       "      <th>17</th>\n",
       "      <td>Lock doors opening stop</td>\n",
       "      <td>2024-01-01 02:11:37.666667</td>\n",
       "      <td>{'visiting_vessels': [&lt;__main__.Vessel object ...</td>\n",
       "      <td>F</td>\n",
       "    </tr>\n",
       "  </tbody>\n",
       "</table>\n",
       "</div>"
      ],
      "text/plain": [
       "                          Message                  Timestamp  \\\n",
       "0        Lock doors closing start 2024-01-01 00:49:56.788965   \n",
       "1         Lock doors closing stop 2024-01-01 00:49:56.788965   \n",
       "2   Lock chamber converting start 2024-01-01 00:49:56.788965   \n",
       "3    Lock chamber converting stop 2024-01-01 01:14:56.788965   \n",
       "4        Lock doors opening start 2024-01-01 01:14:56.788965   \n",
       "5         Lock doors opening stop 2024-01-01 01:14:56.788965   \n",
       "6        Lock doors closing start 2024-01-01 01:17:31.555556   \n",
       "7         Lock doors closing stop 2024-01-01 01:17:31.555556   \n",
       "8   Lock chamber converting start 2024-01-01 01:17:31.555556   \n",
       "9    Lock chamber converting stop 2024-01-01 01:42:31.555556   \n",
       "10       Lock doors opening start 2024-01-01 01:42:31.555556   \n",
       "11        Lock doors opening stop 2024-01-01 01:42:31.555556   \n",
       "12       Lock doors closing start 2024-01-01 01:46:37.666667   \n",
       "13        Lock doors closing stop 2024-01-01 01:46:37.666667   \n",
       "14  Lock chamber converting start 2024-01-01 01:46:37.666667   \n",
       "15   Lock chamber converting stop 2024-01-01 02:11:37.666667   \n",
       "16       Lock doors opening start 2024-01-01 02:11:37.666667   \n",
       "17        Lock doors opening stop 2024-01-01 02:11:37.666667   \n",
       "\n",
       "                                                Value Geometry  \n",
       "0                                                  {}        C  \n",
       "1                                                  {}        C  \n",
       "2                                                  {}        C  \n",
       "3                                                  {}        F  \n",
       "4                                                  {}        F  \n",
       "5                                                  {}        F  \n",
       "6   {'visiting_vessels': [<__main__.Vessel object ...        F  \n",
       "7   {'visiting_vessels': [<__main__.Vessel object ...        F  \n",
       "8   {'visiting_vessels': [<__main__.Vessel object ...        F  \n",
       "9   {'visiting_vessels': [<__main__.Vessel object ...        C  \n",
       "10  {'visiting_vessels': [<__main__.Vessel object ...        C  \n",
       "11  {'visiting_vessels': [<__main__.Vessel object ...        C  \n",
       "12  {'visiting_vessels': [<__main__.Vessel object ...        C  \n",
       "13  {'visiting_vessels': [<__main__.Vessel object ...        C  \n",
       "14  {'visiting_vessels': [<__main__.Vessel object ...        C  \n",
       "15  {'visiting_vessels': [<__main__.Vessel object ...        F  \n",
       "16  {'visiting_vessels': [<__main__.Vessel object ...        F  \n",
       "17  {'visiting_vessels': [<__main__.Vessel object ...        F  "
      ]
     },
     "execution_count": 35,
     "metadata": {},
     "output_type": "execute_result"
    }
   ],
   "source": [
    "lock_df = pd.DataFrame(lock_II.logbook)\n",
    "lock_df"
   ]
  },
  {
   "cell_type": "markdown",
   "id": "29e0aad5-5c35-4f71-8676-fe15725b9e80",
   "metadata": {},
   "source": [
    "#### Lock III"
   ]
  },
  {
   "cell_type": "code",
   "execution_count": 36,
   "id": "d4bcd0f5-efd0-45a3-ab70-411cfd6be436",
   "metadata": {},
   "outputs": [
    {
     "data": {
      "image/png": "[encoded data removed]",
      "text/plain": [
       "<Figure size 640x480 with 1 Axes>"
      ]
     },
     "metadata": {},
     "output_type": "display_data"
    }
   ],
   "source": [
    "fig, axes = plt.subplots(1,1)\n",
    "ylim = (min(vessel_1_df['Timestamp'].min(), vessel_2_df['Timestamp'].min()),\n",
    "        max(vessel_1_df['Timestamp'].max(), vessel_2_df['Timestamp'].max()))\n",
    "\n",
    "lock_III.create_time_distance_diagram(vessels,ax=axes,ylim=ylim,vessel_colors=['C0','C1'])\n",
    "\n",
    "axes.set_xlabel('')\n",
    "axes.set_xlabel('')\n",
    "axes.set_title('Lock III')\n",
    "\n",
    "fig.supxlabel('Distance');"
   ]
  },
  {
   "cell_type": "code",
   "execution_count": null,
   "id": "2b87f6f0-54d8-4d6a-bbdb-f3236275eb04",
   "metadata": {},
   "outputs": [],
   "source": []
  },
  {
   "cell_type": "code",
   "execution_count": null,
   "id": "1a549888-e8e5-427d-8058-dae85274f8d5",
   "metadata": {},
   "outputs": [],
   "source": []
  }
 ],
 "metadata": {
  "kernelspec": {
   "display_name": "Python 3 (ipykernel)",
   "language": "python",
   "name": "python3"
  },
  "language_info": {
   "codemirror_mode": {
    "name": "ipython",
    "version": 3
   },
   "file_extension": ".py",
   "mimetype": "text/x-python",
   "name": "python",
   "nbconvert_exporter": "python",
   "pygments_lexer": "ipython3",
   "version": "3.11.8"
  }
 },
 "nbformat": 4,
 "nbformat_minor": 5
}
