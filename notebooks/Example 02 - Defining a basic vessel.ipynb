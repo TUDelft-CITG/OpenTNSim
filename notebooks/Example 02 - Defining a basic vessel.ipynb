{
 "cells": [
  {
   "cell_type": "markdown",
   "metadata": {},
   "source": [
    "## Defining a basic vessel\n",
    "In this notebook, we show how to setup a  simple transport network. \n",
    "\n",
    "We take the following steps:\n",
    "\n",
    "1. [Imports](#1.-Imports)\n",
    "2. [Create vessels](#2.-Create-vessels)\n",
    "3. [Inspect paths](#5.-Inspect-paths)"
   ]
  },
  {
   "cell_type": "markdown",
   "metadata": {},
   "source": [
    "### 1. Imports\n",
    "We start with importing required libraries"
   ]
  },
  {
   "cell_type": "code",
   "execution_count": 1,
   "metadata": {},
   "outputs": [
    {
     "name": "stdout",
     "output_type": "stream",
     "text": [
      "This notebook is executed with OpenTNSim version 1.1.2\n"
     ]
    }
   ],
   "source": [
    "# package(s) used for geo-spatial operations\n",
    "import pyproj\n",
    "import shapely.geometry\n",
    "\n",
    "# package(s) related to the simulation (creating the vessel, running the simulation)\n",
    "import opentnsim\n",
    "\n",
    "print('This notebook is executed with OpenTNSim version {}'.format(opentnsim.__version__))"
   ]
  },
  {
   "cell_type": "markdown",
   "metadata": {},
   "source": [
    "### 2. Create vessel\n",
    "The OpenTNSim package works with mix-in classes to allow for flexibility in defining vessels.  \n",
    "* Movable:\n",
    "    * Locatable, Routeable, Log\n",
    "* ContainerDependentMovable:\n",
    "    * Movable, HasContainer"
   ]
  },
  {
   "cell_type": "code",
   "execution_count": 2,
   "metadata": {},
   "outputs": [],
   "source": [
    "# make your preferred class out of available mix-ins. Lateron we can create a vessel of type TransportResource\n",
    "TransportResource = type('TransportResource', \n",
    "                         (opentnsim.core.Identifiable, \n",
    "                          opentnsim.core.ContainerDependentMovable, \n",
    "                          opentnsim.core.HasResource, \n",
    "                          opentnsim.core.Routeable), {})"
   ]
  },
  {
   "cell_type": "code",
   "execution_count": 3,
   "metadata": {},
   "outputs": [],
   "source": [
    "# the vessel sailing speed can be entered as a function. For testing purposes we assume v to be 1 always for now.\n",
    "def compute_v_provider(v_empty, v_full):\n",
    "    return lambda x: 1"
   ]
  },
  {
   "cell_type": "code",
   "execution_count": 4,
   "metadata": {},
   "outputs": [],
   "source": [
    "# create a dict with all important settings\n",
    "data_vessel = {\"env\": None,\n",
    "               \"name\": \"Vessel 1\",\n",
    "               \"geometry\": shapely.geometry.Point(0, 0),  # lon, lat\n",
    "               \"route\": None,\n",
    "               \"capacity\": 1_000,\n",
    "               \"level\": 500,\n",
    "               \"compute_v\": compute_v_provider(v_empty=1, v_full=1),\n",
    "               \"v\": None}"
   ]
  },
  {
   "cell_type": "code",
   "execution_count": 5,
   "metadata": {},
   "outputs": [],
   "source": [
    "# create the TransportResource using the dict as keyword value pairs\n",
    "vessel = TransportResource(**data_vessel)"
   ]
  },
  {
   "cell_type": "markdown",
   "metadata": {},
   "source": [
    "### 3. Inspect results\n",
    "We can now show that a vessel object is created with all indicated properties"
   ]
  },
  {
   "cell_type": "code",
   "execution_count": 6,
   "metadata": {},
   "outputs": [
    {
     "data": {
      "text/plain": [
       "{'env': None,\n",
       " 'container': <simpy.resources.container.Container at 0x1ca19d8b7f0>,\n",
       " 'total_requested': 0,\n",
       " 'log': {'Message': [], 'Timestamp': [], 'Value': [], 'Geometry': []},\n",
       " 'route': None,\n",
       " 'complete_path': None,\n",
       " 'resource': <simpy.resources.resource.Resource at 0x1ca19d8b610>,\n",
       " 'geometry': <shapely.geometry.point.Point at 0x1ca19d8b850>,\n",
       " 'node': None,\n",
       " 'v': None,\n",
       " 'edge_functions': [],\n",
       " 'compute_v': <function __main__.compute_v_provider.<locals>.<lambda>(x)>,\n",
       " 'name': 'Vessel 1',\n",
       " 'id': '27b15368-bf4e-11ec-bba3-8c04ba0c9d8f'}"
      ]
     },
     "execution_count": 6,
     "metadata": {},
     "output_type": "execute_result"
    }
   ],
   "source": [
    "vessel.__dict__"
   ]
  },
  {
   "cell_type": "code",
   "execution_count": 7,
   "metadata": {},
   "outputs": [
    {
     "data": {
      "text/plain": [
       "str"
      ]
     },
     "execution_count": 7,
     "metadata": {},
     "output_type": "execute_result"
    }
   ],
   "source": [
    "type(vessel.__dict__[\"id\"])"
   ]
  },
  {
   "cell_type": "code",
   "execution_count": 8,
   "metadata": {},
   "outputs": [
    {
     "data": {
      "text/plain": [
       "simpy.resources.resource.Resource"
      ]
     },
     "execution_count": 8,
     "metadata": {},
     "output_type": "execute_result"
    }
   ],
   "source": [
    "type(vessel.__dict__[\"resource\"])"
   ]
  },
  {
   "cell_type": "code",
   "execution_count": 9,
   "metadata": {},
   "outputs": [
    {
     "data": {
      "text/plain": [
       "simpy.resources.container.Container"
      ]
     },
     "execution_count": 9,
     "metadata": {},
     "output_type": "execute_result"
    }
   ],
   "source": [
    "type(vessel.__dict__[\"container\"])"
   ]
  },
  {
   "cell_type": "code",
   "execution_count": 10,
   "metadata": {},
   "outputs": [
    {
     "data": {
      "text/plain": [
       "shapely.geometry.point.Point"
      ]
     },
     "execution_count": 10,
     "metadata": {},
     "output_type": "execute_result"
    }
   ],
   "source": [
    "type(vessel.__dict__[\"geometry\"])"
   ]
  }
 ],
 "metadata": {
  "kernelspec": {
   "display_name": "Python 3",
   "language": "python",
   "name": "python3"
  },
  "language_info": {
   "codemirror_mode": {
    "name": "ipython",
    "version": 3
   },
   "file_extension": ".py",
   "mimetype": "text/x-python",
   "name": "python",
   "nbconvert_exporter": "python",
   "pygments_lexer": "ipython3",
   "version": "3.8.6"
  }
 },
 "nbformat": 4,
 "nbformat_minor": 2
}
