{
 "cells": [
  {
   "cell_type": "markdown",
   "metadata": {},
   "source": [
    "## Example 02 - Defining a basic vessel"
   ]
  },
  {
   "cell_type": "markdown",
   "metadata": {},
   "source": [
    "### Imports\n",
    "Import the required libraries"
   ]
  },
  {
   "cell_type": "code",
   "execution_count": 1,
   "metadata": {},
   "outputs": [
    {
     "name": "stdout",
     "output_type": "stream",
     "text": [
      "This notebook has been tested with OpenTNSim version 1.0.0\n"
     ]
    }
   ],
   "source": [
    "import opentnsim\n",
    "print('This notebook has been tested with OpenTNSim version {}'.format(opentnsim.__version__))"
   ]
  },
  {
   "cell_type": "code",
   "execution_count": 2,
   "metadata": {},
   "outputs": [],
   "source": [
    "# spatial libraries \n",
    "import pyproj\n",
    "import shapely.geometry\n",
    "\n",
    "# OpenTNSIM\n",
    "import opentnsim.core as core"
   ]
  },
  {
   "cell_type": "markdown",
   "metadata": {},
   "source": [
    "### Create vessels\n",
    "The transport_network_analysis package works with mix-in classes to allow for flexibility in defining vessels.  "
   ]
  },
  {
   "cell_type": "code",
   "execution_count": 3,
   "metadata": {},
   "outputs": [],
   "source": [
    "# Make your preferred class out of available mix-ins. Lateron we can create a vessel of type TransportResource\n",
    "TransportResource = type('TransportResource', \n",
    "                         (core.Identifiable, core.ContainerDependentMovable, \n",
    "                          core.HasResource, core.Routeable), {})"
   ]
  },
  {
   "cell_type": "code",
   "execution_count": 4,
   "metadata": {},
   "outputs": [],
   "source": [
    "# The vessel sailing speed can be entered as a function. For testing purposes we assume v to be 1 always for now.\n",
    "def compute_v_provider(v_empty, v_full):\n",
    "    return lambda x: 1"
   ]
  },
  {
   "cell_type": "code",
   "execution_count": 5,
   "metadata": {},
   "outputs": [],
   "source": [
    "# Create a dict with all important settings\n",
    "data_vessel = {\"env\": None,\n",
    "               \"name\": \"Vessel number 1\",\n",
    "               \"route\": None,\n",
    "               \"geometry\": shapely.geometry.Point(0, 0),  # lon, lat\n",
    "               \"capacity\": 1_000,\n",
    "               \"compute_v\": compute_v_provider(v_empty=1, v_full=1)}"
   ]
  },
  {
   "cell_type": "code",
   "execution_count": 6,
   "metadata": {},
   "outputs": [],
   "source": [
    "# Create the transport processing resource using the dict as keyword value pairs\n",
    "vessel = TransportResource(**data_vessel)"
   ]
  },
  {
   "cell_type": "markdown",
   "metadata": {},
   "source": [
    "## Results\n",
    "We can now show that a vessel object is created with all indicated properties"
   ]
  },
  {
   "cell_type": "code",
   "execution_count": 7,
   "metadata": {},
   "outputs": [
    {
     "data": {
      "text/plain": [
       "{'env': None,\n",
       " 'container': <simpy.resources.container.Container at 0x259d35003c8>,\n",
       " 'total_requested': 0,\n",
       " 'log': {'Message': [], 'Timestamp': [], 'Value': [], 'Geometry': []},\n",
       " 'route': None,\n",
       " 'complete_path': None,\n",
       " 'resource': <simpy.resources.resource.Resource at 0x259d3500400>,\n",
       " 'geometry': <shapely.geometry.point.Point at 0x259d35006a0>,\n",
       " 'node': None,\n",
       " 'v': 1,\n",
       " 'wgs84': Geod(ellps='WGS84'),\n",
       " 'compute_v': <function __main__.compute_v_provider.<locals>.<lambda>(x)>,\n",
       " 'name': 'Vessel number 1',\n",
       " 'id': '9f00b34c-9127-11ea-90bd-60f677ba2ce0'}"
      ]
     },
     "execution_count": 7,
     "metadata": {},
     "output_type": "execute_result"
    }
   ],
   "source": [
    "vessel.__dict__"
   ]
  },
  {
   "cell_type": "code",
   "execution_count": 8,
   "metadata": {},
   "outputs": [
    {
     "data": {
      "text/plain": [
       "str"
      ]
     },
     "execution_count": 8,
     "metadata": {},
     "output_type": "execute_result"
    }
   ],
   "source": [
    "type(vessel.__dict__[\"id\"])"
   ]
  },
  {
   "cell_type": "code",
   "execution_count": 9,
   "metadata": {},
   "outputs": [
    {
     "data": {
      "text/plain": [
       "simpy.resources.resource.Resource"
      ]
     },
     "execution_count": 9,
     "metadata": {},
     "output_type": "execute_result"
    }
   ],
   "source": [
    "type(vessel.__dict__[\"resource\"])"
   ]
  },
  {
   "cell_type": "code",
   "execution_count": 10,
   "metadata": {},
   "outputs": [
    {
     "data": {
      "text/plain": [
       "simpy.resources.container.Container"
      ]
     },
     "execution_count": 10,
     "metadata": {},
     "output_type": "execute_result"
    }
   ],
   "source": [
    "type(vessel.__dict__[\"container\"])"
   ]
  },
  {
   "cell_type": "code",
   "execution_count": 11,
   "metadata": {},
   "outputs": [
    {
     "data": {
      "text/plain": [
       "shapely.geometry.point.Point"
      ]
     },
     "execution_count": 11,
     "metadata": {},
     "output_type": "execute_result"
    }
   ],
   "source": [
    "type(vessel.__dict__[\"geometry\"])"
   ]
  }
 ],
 "metadata": {
  "kernelspec": {
   "display_name": "Python 3",
   "language": "python",
   "name": "python3"
  },
  "language_info": {
   "codemirror_mode": {
    "name": "ipython",
    "version": 3
   },
   "file_extension": ".py",
   "mimetype": "text/x-python",
   "name": "python",
   "nbconvert_exporter": "python",
   "pygments_lexer": "ipython3",
   "version": "3.6.6"
  }
 },
 "nbformat": 4,
 "nbformat_minor": 2
}
