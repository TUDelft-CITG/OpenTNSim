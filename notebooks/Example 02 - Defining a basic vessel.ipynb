{
 "cells": [
  {
   "cell_type": "markdown",
   "metadata": {},
   "source": [
    "## Defining a basic vessel\n",
    "In this notebook, we show how to setup a  simple transport network. \n",
    "\n",
    "We take the following steps:\n",
    "\n",
    "1. [Imports](#1.-Imports)\n",
    "2. [Create vessels](#2.-Create-vessels)\n",
    "3. [Inspect paths](#5.-Inspect-paths)"
   ]
  },
  {
   "cell_type": "markdown",
   "metadata": {},
   "source": [
    "### 1. Imports\n",
    "We start with importing required libraries"
   ]
  },
  {
   "cell_type": "code",
   "execution_count": 18,
   "metadata": {},
   "outputs": [
    {
     "name": "stdout",
     "output_type": "stream",
     "text": [
      "This notebook is executed with OpenTNSim version 1.1.2\n"
     ]
    }
   ],
   "source": [
    "# package(s) used for geo-spatial operations\n",
    "import pyproj\n",
    "import shapely.geometry\n",
    "\n",
    "# package(s) related to the simulation (creating the vessel, running the simulation)\n",
    "import opentnsim\n",
    "\n",
    "print('This notebook is executed with OpenTNSim version {}'.format(opentnsim.__version__))"
   ]
  },
  {
   "cell_type": "markdown",
   "metadata": {},
   "source": [
    "### 2. Create vessel\n",
    "We start with creating a vessel class. We call this class a *TransportResource*, and add a number of OpenTNSim mix-ins to this class. Each mix-in requires certain input parameters. \n",
    "\n",
    "The following mix-ins are sufficient to create a vessel for our problem: \n",
    "* _Identifiable_ - allows to give the vessel a name and a random ID, \n",
    "* _Movable_ - allows the vessel to move, with a fixed speed, while logging this activity,\n",
    "   * Movable in turn relies on the mix-ins: _Locatable_, _Routeable_, and _Log_"
   ]
  },
  {
   "cell_type": "code",
   "execution_count": 19,
   "metadata": {},
   "outputs": [],
   "source": [
    "# make your preferred class out of available mix-ins. Lateron we can create a vessel of type TransportResource\n",
    "TransportResource = type('TransportResource', \n",
    "                         (opentnsim.core.Identifiable, \n",
    "                          opentnsim.core.Movable), {})"
   ]
  },
  {
   "cell_type": "code",
   "execution_count": 20,
   "metadata": {},
   "outputs": [],
   "source": [
    "# create a dict with all important settings\n",
    "data_vessel = {\"env\": None,\n",
    "               \"name\": \"Vessel 1\",\n",
    "               \"geometry\": shapely.geometry.Point(0, 0),  # lon, lat\n",
    "               \"route\": None,\n",
    "               \"v\": None}"
   ]
  },
  {
   "cell_type": "code",
   "execution_count": 21,
   "metadata": {},
   "outputs": [],
   "source": [
    "# create the TransportResource using the dict as keyword value pairs\n",
    "vessel = TransportResource(**data_vessel)"
   ]
  },
  {
   "cell_type": "markdown",
   "metadata": {},
   "source": [
    "### 3. Inspect results\n",
    "We can now show that a vessel object is created with all indicated properties"
   ]
  },
  {
   "cell_type": "code",
   "execution_count": 22,
   "metadata": {},
   "outputs": [
    {
     "data": {
      "text/plain": [
       "{'env': None,\n",
       " 'log': {'Message': [], 'Timestamp': [], 'Value': [], 'Geometry': []},\n",
       " 'route': None,\n",
       " 'complete_path': None,\n",
       " 'geometry': <shapely.geometry.point.Point at 0x1ca19d8b220>,\n",
       " 'node': None,\n",
       " 'v': None,\n",
       " 'edge_functions': [],\n",
       " 'name': 'Vessel 1',\n",
       " 'id': '88cb1f3b-bf51-11ec-92e1-8c04ba0c9d8f'}"
      ]
     },
     "execution_count": 22,
     "metadata": {},
     "output_type": "execute_result"
    }
   ],
   "source": [
    "vessel.__dict__"
   ]
  },
  {
   "cell_type": "code",
   "execution_count": 23,
   "metadata": {},
   "outputs": [
    {
     "data": {
      "text/plain": [
       "str"
      ]
     },
     "execution_count": 23,
     "metadata": {},
     "output_type": "execute_result"
    }
   ],
   "source": [
    "type(vessel.__dict__[\"id\"])"
   ]
  },
  {
   "cell_type": "code",
   "execution_count": 24,
   "metadata": {},
   "outputs": [
    {
     "data": {
      "text/plain": [
       "shapely.geometry.point.Point"
      ]
     },
     "execution_count": 24,
     "metadata": {},
     "output_type": "execute_result"
    }
   ],
   "source": [
    "type(vessel.__dict__[\"geometry\"])"
   ]
  },
  {
   "cell_type": "markdown",
   "metadata": {},
   "source": [
    "More complex behaviours can be simulated by including more mix-ins."
   ]
  }
 ],
 "metadata": {
  "kernelspec": {
   "display_name": "Python 3",
   "language": "python",
   "name": "python3"
  },
  "language_info": {
   "codemirror_mode": {
    "name": "ipython",
    "version": 3
   },
   "file_extension": ".py",
   "mimetype": "text/x-python",
   "name": "python",
   "nbconvert_exporter": "python",
   "pygments_lexer": "ipython3",
   "version": "3.8.6"
  }
 },
 "nbformat": 4,
 "nbformat_minor": 2
}
