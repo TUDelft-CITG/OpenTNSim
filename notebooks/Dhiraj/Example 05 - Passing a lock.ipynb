{
 "cells": [
  {
   "cell_type": "markdown",
   "id": "7c12ef76",
   "metadata": {},
   "source": [
    "## Locking module - Vessels passing a lock\n",
    "In this notebook, we set up a basic simulation where two vessels move over a 1D netork path. We add a lock on the graph and see how the vessels pass the lock. \n",
    "\n",
    "We take the following steps:\n",
    "\n",
    "1. [Imports](#1.-Imports)\n",
    "2. [Create vessel](#2.-Create-vessel)\n",
    "3. [Create graph](#3.-Create-graph)\n",
    "4. [Run simulation](#4.-Run-simulation)\n",
    "5. [Inspect output](#5.-Inspect-output)"
   ]
  },
  {
   "cell_type": "markdown",
   "id": "43e95553",
   "metadata": {},
   "source": [
    "### 1. Imports\n",
    "We start with importing required libraries"
   ]
  },
  {
   "cell_type": "code",
   "execution_count": 17,
   "id": "98365d9a",
   "metadata": {},
   "outputs": [],
   "source": [
    "# package(s) used for creating and geo-locating the graph\n",
    "import networkx as nx  \n",
    "import shapely.geometry\n",
    "from shapely.geometry import Point, LineString\n",
    "from shapely.geometry.base import BaseGeometry\n",
    "import pyproj\n",
    "from geopy.distance import geodesic\n",
    "\n",
    "# package(s) related to the simulation (creating the vessel, running the simulation)\n",
    "import datetime, time\n",
    "import simpy\n",
    "import opentnsim\n",
    "from opentnsim import core as core_module\n",
    "from opentnsim import energy as energy_module\n",
    "from opentnsim import graph as graph_module\n",
    "from opentnsim import output as output_module\n",
    "from opentnsim import vessel as vessel_module\n",
    "from opentnsim import lock as lock_module\n",
    "from opentnsim import vessel_traffic_service as vessel_traffic_service_module\n",
    "\n",
    "import pandas as pd\n",
    "\n",
    "# package(s) needed for plotting\n",
    "import matplotlib.pyplot as plt\n",
    "import plotly.graph_objects as go\n",
    "import plotly.express as px\n",
    "\n",
    "from plotly.subplots import make_subplots"
   ]
  },
  {
   "cell_type": "code",
   "execution_count": 18,
   "id": "f697fdc4-8e52-4a11-b460-d5b6ad0ca55b",
   "metadata": {},
   "outputs": [],
   "source": [
    "# create a basic plotting method (plotly based, with labels properly positioned)\n",
    "def plot_graph(FG):\n",
    "    \n",
    "    def compute_distance(WGS84, origin: shapely.Geometry, destination: shapely.Geometry):\n",
    "        \"\"\"Determine the distance based on great circle path from origin to destination.\"\"\"\n",
    "        orig = shapely.geometry.shape(origin)\n",
    "        dest = shapely.geometry.shape(destination)\n",
    "        _, _, distance = WGS84.inv(orig.x, orig.y, dest.x, dest.y)\n",
    "    \n",
    "        return distance\n",
    "        \n",
    "    # Extract node positions\n",
    "    pos = {node: (FG.nodes[node]['geometry'].x, FG.nodes[node]['geometry'].y) for node in FG.nodes}\n",
    "    \n",
    "    # Create Plotly figure\n",
    "    fig = make_subplots(rows=1, cols=1)\n",
    "    \n",
    "    # Add edges to the figure\n",
    "    for edge in FG.edges():\n",
    "        x0, y0 = pos[edge[0]]\n",
    "        x1, y1 = pos[edge[1]]\n",
    "        fig.add_trace(go.Scatter(x=[x0, x1], y=[y0, y1], mode='lines', line=dict(width=4, color='blue')))\n",
    "    \n",
    "    \n",
    "    # Add nodes to the figure\n",
    "    for node in FG.nodes():\n",
    "        x, y = pos[node]\n",
    "        fig.add_trace(go.Scatter(x=[x], y=[y], mode='markers+text', text=['<b> {} </b>'.format(node)], textposition='middle center',\n",
    "                                 marker=dict(size=20, color='red')))\n",
    "    \n",
    "    # Add labels to the figure\n",
    "    for index, edge in enumerate(FG.edges):\n",
    "        # Add label '100 km' over the trace with the same y position as the node labels\n",
    "        mid_x = (pos[edge[0]][0] + pos[edge[1]][0]) / 2\n",
    "        \n",
    "        # Use the same y position as the nodes\n",
    "        mid_y =  pos[edge[0]][1]  \n",
    "\n",
    "        # Calculate distance\n",
    "        distance = compute_distance(pyproj.Geod(ellps=\"WGS84\"), FG.nodes[edge[0]]['geometry'], FG.nodes[edge[1]]['geometry'])\n",
    "        \n",
    "        # add edge length\n",
    "        fig.add_trace(go.Scatter(x=[mid_x], y=[mid_y], mode='text', text=['<b>{:.1f} km</b><br>'.format(distance/1000)], \n",
    "                                 textposition='top center'))\n",
    "        # add edge depth\n",
    "        fig.add_trace(go.Scatter(x=[mid_x], y=[mid_y], mode='text', text=['<br><b> {} </b>'.format(FG.edges[edge]['Info']['GeneralDepth'])],\n",
    "                                 textposition='bottom center'))\n",
    "    \n",
    "    # Update layout\n",
    "    fig.update_layout(\n",
    "        {\n",
    "            'plot_bgcolor':  'rgba(0, 0, 0, 0)',\n",
    "            'paper_bgcolor': 'rgba(0, 0, 0, 0)',\n",
    "        },\n",
    "        margin={\"t\": 0, \"b\": 0, \"l\": 0, \"r\": 0},\n",
    "        height=80,\n",
    "        showlegend=False)\n",
    "    \n",
    "    fig.update_xaxes(visible=False)\n",
    "    fig.update_yaxes(visible=False)\n",
    "\n",
    "    return fig"
   ]
  },
  {
   "cell_type": "markdown",
   "id": "aad1799e",
   "metadata": {},
   "source": [
    "### 2. Create vessel\n",
    "We start with creating a vessel class. We call this class a *Vessel*, and add a number of OpenTNSim mix-ins to this class. Each mix-in requires certain input parameters. \n",
    "\n",
    "The following mix-ins are sufficient to create a vessel for our problem: \n",
    "* _Identifiable_ - allows to give the vessel a name and a random ID, \n",
    "* _Movable_ - allows the vessel to move, with a fixed speed, while logging this activity,\n",
    "   * Movable in turn relies on the mix-ins: _Locatable_, _Routeable_, and _Log_\n",
    "* _VesselProperties_ - allows to give the vessel specific properties, \n",
    "* _ConsumesEnergy_ - enables calculation of resistance, required power and emissions"
   ]
  },
  {
   "cell_type": "code",
   "execution_count": 19,
   "id": "b86be76e-e22e-42f1-b0b1-aa8e5ee6b03b",
   "metadata": {},
   "outputs": [],
   "source": [
    "#We create a type element that schematisizes a vessel\n",
    "def create_vessel_locking(env, name, origin, destination, arrival_time, vessel_type, L, B, T, v):\n",
    "\n",
    "    Vessel = type('Vessel', (lock_module.HasLockComplex,\n",
    "                             vessel_module.IsVessel,\n",
    "                             ), {})\n",
    "    vessel = Vessel(\n",
    "        env=env,\n",
    "        name=name,\n",
    "        origin=origin,\n",
    "        destination=destination,\n",
    "        arrival_time=arrival_time,\n",
    "        type=vessel_type,\n",
    "        L=L,\n",
    "        B=B,\n",
    "        T=T,\n",
    "        v=v,\n",
    "    )\n",
    "    env.process(vessel.move())\n",
    "\n",
    "    return vessel"
   ]
  },
  {
   "cell_type": "markdown",
   "id": "204d9980",
   "metadata": {},
   "source": [
    "### 2. Create graph\n",
    "Next we create a 1D network (a graph) along which the vessel can move. A graph is made of nodes (blue dots in the plot below) and edges (red arrows between the nodes in the plot below). We use the python package networkx to do this. \n",
    "\n",
    "For this example, we construct a network of 4 nodes linked by 3 edges. The edges are made bi-directional to allow for two-way traffic, which means that the graph in the end contains 6 edges."
   ]
  },
  {
   "cell_type": "code",
   "execution_count": 20,
   "id": "7c0edd4f-2c87-45ad-8689-2286e9af24a8",
   "metadata": {},
   "outputs": [],
   "source": [
    "# specifiy nodes and edges\n",
    "node_A = graph_module.Node(name='0',geometry=Point(0,0))\n",
    "node_B = graph_module.Node(name='1',geometry=Point(0.4*(0.8983/100),0))\n",
    "\n",
    "edges = [(node_A, node_B)]\n",
    "depths = {\"GeneralDepth\": [6.0]}\n",
    "\n",
    "# create a graph object\n",
    "FG = graph_module.DiGraph(edges=edges,edges_info=depths).graph"
   ]
  },
  {
   "cell_type": "code",
   "execution_count": 21,
   "id": "a7ac5a1d-e180-4096-b3cc-9c9540fba53a",
   "metadata": {},
   "outputs": [
    {
     "data": {
      "application/vnd.plotly.v1+json": {
       "config": {
        "plotlyServerURL": "https://plot.ly"
       },
       "data": [
        {
         "line": {
          "color": "blue",
          "width": 4
         },
         "mode": "lines",
         "type": "scatter",
         "x": [
          0,
          0.0035932
         ],
         "y": [
          0,
          0
         ]
        },
        {
         "line": {
          "color": "blue",
          "width": 4
         },
         "mode": "lines",
         "type": "scatter",
         "x": [
          0.0035932,
          0
         ],
         "y": [
          0,
          0
         ]
        },
        {
         "marker": {
          "color": "red",
          "size": 20
         },
         "mode": "markers+text",
         "text": [
          "<b> 0 </b>"
         ],
         "textposition": "middle center",
         "type": "scatter",
         "x": [
          0
         ],
         "y": [
          0
         ]
        },
        {
         "marker": {
          "color": "red",
          "size": 20
         },
         "mode": "markers+text",
         "text": [
          "<b> 1 </b>"
         ],
         "textposition": "middle center",
         "type": "scatter",
         "x": [
          0.0035932
         ],
         "y": [
          0
         ]
        },
        {
         "mode": "text",
         "text": [
          "<b>0.4 km</b><br>"
         ],
         "textposition": "top center",
         "type": "scatter",
         "x": [
          0.0017966
         ],
         "y": [
          0
         ]
        },
        {
         "mode": "text",
         "text": [
          "<br><b> 6.0 </b>"
         ],
         "textposition": "bottom center",
         "type": "scatter",
         "x": [
          0.0017966
         ],
         "y": [
          0
         ]
        },
        {
         "mode": "text",
         "text": [
          "<b>0.4 km</b><br>"
         ],
         "textposition": "top center",
         "type": "scatter",
         "x": [
          0.0017966
         ],
         "y": [
          0
         ]
        },
        {
         "mode": "text",
         "text": [
          "<br><b> 6.0 </b>"
         ],
         "textposition": "bottom center",
         "type": "scatter",
         "x": [
          0.0017966
         ],
         "y": [
          0
         ]
        }
       ],
       "layout": {
        "autosize": true,
        "margin": {
         "b": 0,
         "l": 0,
         "r": 0,
         "t": 0
        },
        "paper_bgcolor": "rgba(0, 0, 0, 0)",
        "plot_bgcolor": "rgba(0, 0, 0, 0)",
        "showlegend": false,
        "template": {
         "data": {
          "bar": [
           {
            "error_x": {
             "color": "#2a3f5f"
            },
            "error_y": {
             "color": "#2a3f5f"
            },
            "marker": {
             "line": {
              "color": "#E5ECF6",
              "width": 0.5
             },
             "pattern": {
              "fillmode": "overlay",
              "size": 10,
              "solidity": 0.2
             }
            },
            "type": "bar"
           }
          ],
          "barpolar": [
           {
            "marker": {
             "line": {
              "color": "#E5ECF6",
              "width": 0.5
             },
             "pattern": {
              "fillmode": "overlay",
              "size": 10,
              "solidity": 0.2
             }
            },
            "type": "barpolar"
           }
          ],
          "carpet": [
           {
            "aaxis": {
             "endlinecolor": "#2a3f5f",
             "gridcolor": "white",
             "linecolor": "white",
             "minorgridcolor": "white",
             "startlinecolor": "#2a3f5f"
            },
            "baxis": {
             "endlinecolor": "#2a3f5f",
             "gridcolor": "white",
             "linecolor": "white",
             "minorgridcolor": "white",
             "startlinecolor": "#2a3f5f"
            },
            "type": "carpet"
           }
          ],
          "choropleth": [
           {
            "colorbar": {
             "outlinewidth": 0,
             "ticks": ""
            },
            "type": "choropleth"
           }
          ],
          "contour": [
           {
            "colorbar": {
             "outlinewidth": 0,
             "ticks": ""
            },
            "colorscale": [
             [
              0,
              "#0d0887"
             ],
             [
              0.1111111111111111,
              "#46039f"
             ],
             [
              0.2222222222222222,
              "#7201a8"
             ],
             [
              0.3333333333333333,
              "#9c179e"
             ],
             [
              0.4444444444444444,
              "#bd3786"
             ],
             [
              0.5555555555555556,
              "#d8576b"
             ],
             [
              0.6666666666666666,
              "#ed7953"
             ],
             [
              0.7777777777777778,
              "#fb9f3a"
             ],
             [
              0.8888888888888888,
              "#fdca26"
             ],
             [
              1,
              "#f0f921"
             ]
            ],
            "type": "contour"
           }
          ],
          "contourcarpet": [
           {
            "colorbar": {
             "outlinewidth": 0,
             "ticks": ""
            },
            "type": "contourcarpet"
           }
          ],
          "heatmap": [
           {
            "colorbar": {
             "outlinewidth": 0,
             "ticks": ""
            },
            "colorscale": [
             [
              0,
              "#0d0887"
             ],
             [
              0.1111111111111111,
              "#46039f"
             ],
             [
              0.2222222222222222,
              "#7201a8"
             ],
             [
              0.3333333333333333,
              "#9c179e"
             ],
             [
              0.4444444444444444,
              "#bd3786"
             ],
             [
              0.5555555555555556,
              "#d8576b"
             ],
             [
              0.6666666666666666,
              "#ed7953"
             ],
             [
              0.7777777777777778,
              "#fb9f3a"
             ],
             [
              0.8888888888888888,
              "#fdca26"
             ],
             [
              1,
              "#f0f921"
             ]
            ],
            "type": "heatmap"
           }
          ],
          "heatmapgl": [
           {
            "colorbar": {
             "outlinewidth": 0,
             "ticks": ""
            },
            "colorscale": [
             [
              0,
              "#0d0887"
             ],
             [
              0.1111111111111111,
              "#46039f"
             ],
             [
              0.2222222222222222,
              "#7201a8"
             ],
             [
              0.3333333333333333,
              "#9c179e"
             ],
             [
              0.4444444444444444,
              "#bd3786"
             ],
             [
              0.5555555555555556,
              "#d8576b"
             ],
             [
              0.6666666666666666,
              "#ed7953"
             ],
             [
              0.7777777777777778,
              "#fb9f3a"
             ],
             [
              0.8888888888888888,
              "#fdca26"
             ],
             [
              1,
              "#f0f921"
             ]
            ],
            "type": "heatmapgl"
           }
          ],
          "histogram": [
           {
            "marker": {
             "pattern": {
              "fillmode": "overlay",
              "size": 10,
              "solidity": 0.2
             }
            },
            "type": "histogram"
           }
          ],
          "histogram2d": [
           {
            "colorbar": {
             "outlinewidth": 0,
             "ticks": ""
            },
            "colorscale": [
             [
              0,
              "#0d0887"
             ],
             [
              0.1111111111111111,
              "#46039f"
             ],
             [
              0.2222222222222222,
              "#7201a8"
             ],
             [
              0.3333333333333333,
              "#9c179e"
             ],
             [
              0.4444444444444444,
              "#bd3786"
             ],
             [
              0.5555555555555556,
              "#d8576b"
             ],
             [
              0.6666666666666666,
              "#ed7953"
             ],
             [
              0.7777777777777778,
              "#fb9f3a"
             ],
             [
              0.8888888888888888,
              "#fdca26"
             ],
             [
              1,
              "#f0f921"
             ]
            ],
            "type": "histogram2d"
           }
          ],
          "histogram2dcontour": [
           {
            "colorbar": {
             "outlinewidth": 0,
             "ticks": ""
            },
            "colorscale": [
             [
              0,
              "#0d0887"
             ],
             [
              0.1111111111111111,
              "#46039f"
             ],
             [
              0.2222222222222222,
              "#7201a8"
             ],
             [
              0.3333333333333333,
              "#9c179e"
             ],
             [
              0.4444444444444444,
              "#bd3786"
             ],
             [
              0.5555555555555556,
              "#d8576b"
             ],
             [
              0.6666666666666666,
              "#ed7953"
             ],
             [
              0.7777777777777778,
              "#fb9f3a"
             ],
             [
              0.8888888888888888,
              "#fdca26"
             ],
             [
              1,
              "#f0f921"
             ]
            ],
            "type": "histogram2dcontour"
           }
          ],
          "mesh3d": [
           {
            "colorbar": {
             "outlinewidth": 0,
             "ticks": ""
            },
            "type": "mesh3d"
           }
          ],
          "parcoords": [
           {
            "line": {
             "colorbar": {
              "outlinewidth": 0,
              "ticks": ""
             }
            },
            "type": "parcoords"
           }
          ],
          "pie": [
           {
            "automargin": true,
            "type": "pie"
           }
          ],
          "scatter": [
           {
            "fillpattern": {
             "fillmode": "overlay",
             "size": 10,
             "solidity": 0.2
            },
            "type": "scatter"
           }
          ],
          "scatter3d": [
           {
            "line": {
             "colorbar": {
              "outlinewidth": 0,
              "ticks": ""
             }
            },
            "marker": {
             "colorbar": {
              "outlinewidth": 0,
              "ticks": ""
             }
            },
            "type": "scatter3d"
           }
          ],
          "scattercarpet": [
           {
            "marker": {
             "colorbar": {
              "outlinewidth": 0,
              "ticks": ""
             }
            },
            "type": "scattercarpet"
           }
          ],
          "scattergeo": [
           {
            "marker": {
             "colorbar": {
              "outlinewidth": 0,
              "ticks": ""
             }
            },
            "type": "scattergeo"
           }
          ],
          "scattergl": [
           {
            "marker": {
             "colorbar": {
              "outlinewidth": 0,
              "ticks": ""
             }
            },
            "type": "scattergl"
           }
          ],
          "scattermapbox": [
           {
            "marker": {
             "colorbar": {
              "outlinewidth": 0,
              "ticks": ""
             }
            },
            "type": "scattermapbox"
           }
          ],
          "scatterpolar": [
           {
            "marker": {
             "colorbar": {
              "outlinewidth": 0,
              "ticks": ""
             }
            },
            "type": "scatterpolar"
           }
          ],
          "scatterpolargl": [
           {
            "marker": {
             "colorbar": {
              "outlinewidth": 0,
              "ticks": ""
             }
            },
            "type": "scatterpolargl"
           }
          ],
          "scatterternary": [
           {
            "marker": {
             "colorbar": {
              "outlinewidth": 0,
              "ticks": ""
             }
            },
            "type": "scatterternary"
           }
          ],
          "surface": [
           {
            "colorbar": {
             "outlinewidth": 0,
             "ticks": ""
            },
            "colorscale": [
             [
              0,
              "#0d0887"
             ],
             [
              0.1111111111111111,
              "#46039f"
             ],
             [
              0.2222222222222222,
              "#7201a8"
             ],
             [
              0.3333333333333333,
              "#9c179e"
             ],
             [
              0.4444444444444444,
              "#bd3786"
             ],
             [
              0.5555555555555556,
              "#d8576b"
             ],
             [
              0.6666666666666666,
              "#ed7953"
             ],
             [
              0.7777777777777778,
              "#fb9f3a"
             ],
             [
              0.8888888888888888,
              "#fdca26"
             ],
             [
              1,
              "#f0f921"
             ]
            ],
            "type": "surface"
           }
          ],
          "table": [
           {
            "cells": {
             "fill": {
              "color": "#EBF0F8"
             },
             "line": {
              "color": "white"
             }
            },
            "header": {
             "fill": {
              "color": "#C8D4E3"
             },
             "line": {
              "color": "white"
             }
            },
            "type": "table"
           }
          ]
         },
         "layout": {
          "annotationdefaults": {
           "arrowcolor": "#2a3f5f",
           "arrowhead": 0,
           "arrowwidth": 1
          },
          "autotypenumbers": "strict",
          "coloraxis": {
           "colorbar": {
            "outlinewidth": 0,
            "ticks": ""
           }
          },
          "colorscale": {
           "diverging": [
            [
             0,
             "#8e0152"
            ],
            [
             0.1,
             "#c51b7d"
            ],
            [
             0.2,
             "#de77ae"
            ],
            [
             0.3,
             "#f1b6da"
            ],
            [
             0.4,
             "#fde0ef"
            ],
            [
             0.5,
             "#f7f7f7"
            ],
            [
             0.6,
             "#e6f5d0"
            ],
            [
             0.7,
             "#b8e186"
            ],
            [
             0.8,
             "#7fbc41"
            ],
            [
             0.9,
             "#4d9221"
            ],
            [
             1,
             "#276419"
            ]
           ],
           "sequential": [
            [
             0,
             "#0d0887"
            ],
            [
             0.1111111111111111,
             "#46039f"
            ],
            [
             0.2222222222222222,
             "#7201a8"
            ],
            [
             0.3333333333333333,
             "#9c179e"
            ],
            [
             0.4444444444444444,
             "#bd3786"
            ],
            [
             0.5555555555555556,
             "#d8576b"
            ],
            [
             0.6666666666666666,
             "#ed7953"
            ],
            [
             0.7777777777777778,
             "#fb9f3a"
            ],
            [
             0.8888888888888888,
             "#fdca26"
            ],
            [
             1,
             "#f0f921"
            ]
           ],
           "sequentialminus": [
            [
             0,
             "#0d0887"
            ],
            [
             0.1111111111111111,
             "#46039f"
            ],
            [
             0.2222222222222222,
             "#7201a8"
            ],
            [
             0.3333333333333333,
             "#9c179e"
            ],
            [
             0.4444444444444444,
             "#bd3786"
            ],
            [
             0.5555555555555556,
             "#d8576b"
            ],
            [
             0.6666666666666666,
             "#ed7953"
            ],
            [
             0.7777777777777778,
             "#fb9f3a"
            ],
            [
             0.8888888888888888,
             "#fdca26"
            ],
            [
             1,
             "#f0f921"
            ]
           ]
          },
          "colorway": [
           "#636efa",
           "#EF553B",
           "#00cc96",
           "#ab63fa",
           "#FFA15A",
           "#19d3f3",
           "#FF6692",
           "#B6E880",
           "#FF97FF",
           "#FECB52"
          ],
          "font": {
           "color": "#2a3f5f"
          },
          "geo": {
           "bgcolor": "white",
           "lakecolor": "white",
           "landcolor": "#E5ECF6",
           "showlakes": true,
           "showland": true,
           "subunitcolor": "white"
          },
          "hoverlabel": {
           "align": "left"
          },
          "hovermode": "closest",
          "mapbox": {
           "style": "light"
          },
          "paper_bgcolor": "white",
          "plot_bgcolor": "#E5ECF6",
          "polar": {
           "angularaxis": {
            "gridcolor": "white",
            "linecolor": "white",
            "ticks": ""
           },
           "bgcolor": "#E5ECF6",
           "radialaxis": {
            "gridcolor": "white",
            "linecolor": "white",
            "ticks": ""
           }
          },
          "scene": {
           "xaxis": {
            "backgroundcolor": "#E5ECF6",
            "gridcolor": "white",
            "gridwidth": 2,
            "linecolor": "white",
            "showbackground": true,
            "ticks": "",
            "zerolinecolor": "white"
           },
           "yaxis": {
            "backgroundcolor": "#E5ECF6",
            "gridcolor": "white",
            "gridwidth": 2,
            "linecolor": "white",
            "showbackground": true,
            "ticks": "",
            "zerolinecolor": "white"
           },
           "zaxis": {
            "backgroundcolor": "#E5ECF6",
            "gridcolor": "white",
            "gridwidth": 2,
            "linecolor": "white",
            "showbackground": true,
            "ticks": "",
            "zerolinecolor": "white"
           }
          },
          "shapedefaults": {
           "line": {
            "color": "#2a3f5f"
           }
          },
          "ternary": {
           "aaxis": {
            "gridcolor": "white",
            "linecolor": "white",
            "ticks": ""
           },
           "baxis": {
            "gridcolor": "white",
            "linecolor": "white",
            "ticks": ""
           },
           "bgcolor": "#E5ECF6",
           "caxis": {
            "gridcolor": "white",
            "linecolor": "white",
            "ticks": ""
           }
          },
          "title": {
           "x": 0.05
          },
          "xaxis": {
           "automargin": true,
           "gridcolor": "white",
           "linecolor": "white",
           "ticks": "",
           "title": {
            "standoff": 15
           },
           "zerolinecolor": "white",
           "zerolinewidth": 2
          },
          "yaxis": {
           "automargin": true,
           "gridcolor": "white",
           "linecolor": "white",
           "ticks": "",
           "title": {
            "standoff": 15
           },
           "zerolinecolor": "white",
           "zerolinewidth": 2
          }
         }
        },
        "xaxis": {
         "anchor": "y",
         "autorange": true,
         "domain": [
          0,
          1
         ],
         "range": [
          -0.00025048397880146763,
          0.0038436839788014675
         ],
         "type": "linear",
         "visible": false
        },
        "yaxis": {
         "anchor": "x",
         "autorange": true,
         "domain": [
          0,
          1
         ],
         "range": [
          -1,
          1
         ],
         "type": "linear",
         "visible": false
        }
       }
      },
      "image/png": "[encoded data removed]",
      "text/html": [
       "<div>                            <div id=\"03d6c8fd-2438-4781-8a2e-798d41fa206e\" class=\"plotly-graph-div\" style=\"height:80px; width:100%;\"></div>            <script type=\"text/javascript\">                require([\"plotly\"], function(Plotly) {                    window.PLOTLYENV=window.PLOTLYENV || {};                                    if (document.getElementById(\"03d6c8fd-2438-4781-8a2e-798d41fa206e\")) {                    Plotly.newPlot(                        \"03d6c8fd-2438-4781-8a2e-798d41fa206e\",                        [{\"line\":{\"color\":\"blue\",\"width\":4},\"mode\":\"lines\",\"x\":[0.0,0.0035932],\"y\":[0.0,0.0],\"type\":\"scatter\"},{\"line\":{\"color\":\"blue\",\"width\":4},\"mode\":\"lines\",\"x\":[0.0035932,0.0],\"y\":[0.0,0.0],\"type\":\"scatter\"},{\"marker\":{\"color\":\"red\",\"size\":20},\"mode\":\"markers+text\",\"text\":[\"\\u003cb\\u003e 0 \\u003c\\u002fb\\u003e\"],\"textposition\":\"middle center\",\"x\":[0.0],\"y\":[0.0],\"type\":\"scatter\"},{\"marker\":{\"color\":\"red\",\"size\":20},\"mode\":\"markers+text\",\"text\":[\"\\u003cb\\u003e 1 \\u003c\\u002fb\\u003e\"],\"textposition\":\"middle center\",\"x\":[0.0035932],\"y\":[0.0],\"type\":\"scatter\"},{\"mode\":\"text\",\"text\":[\"\\u003cb\\u003e0.4 km\\u003c\\u002fb\\u003e\\u003cbr\\u003e\"],\"textposition\":\"top center\",\"x\":[0.0017966],\"y\":[0.0],\"type\":\"scatter\"},{\"mode\":\"text\",\"text\":[\"\\u003cbr\\u003e\\u003cb\\u003e 6.0 \\u003c\\u002fb\\u003e\"],\"textposition\":\"bottom center\",\"x\":[0.0017966],\"y\":[0.0],\"type\":\"scatter\"},{\"mode\":\"text\",\"text\":[\"\\u003cb\\u003e0.4 km\\u003c\\u002fb\\u003e\\u003cbr\\u003e\"],\"textposition\":\"top center\",\"x\":[0.0017966],\"y\":[0.0],\"type\":\"scatter\"},{\"mode\":\"text\",\"text\":[\"\\u003cbr\\u003e\\u003cb\\u003e 6.0 \\u003c\\u002fb\\u003e\"],\"textposition\":\"bottom center\",\"x\":[0.0017966],\"y\":[0.0],\"type\":\"scatter\"}],                        {\"template\":{\"data\":{\"histogram2dcontour\":[{\"type\":\"histogram2dcontour\",\"colorbar\":{\"outlinewidth\":0,\"ticks\":\"\"},\"colorscale\":[[0.0,\"#0d0887\"],[0.1111111111111111,\"#46039f\"],[0.2222222222222222,\"#7201a8\"],[0.3333333333333333,\"#9c179e\"],[0.4444444444444444,\"#bd3786\"],[0.5555555555555556,\"#d8576b\"],[0.6666666666666666,\"#ed7953\"],[0.7777777777777778,\"#fb9f3a\"],[0.8888888888888888,\"#fdca26\"],[1.0,\"#f0f921\"]]}],\"choropleth\":[{\"type\":\"choropleth\",\"colorbar\":{\"outlinewidth\":0,\"ticks\":\"\"}}],\"histogram2d\":[{\"type\":\"histogram2d\",\"colorbar\":{\"outlinewidth\":0,\"ticks\":\"\"},\"colorscale\":[[0.0,\"#0d0887\"],[0.1111111111111111,\"#46039f\"],[0.2222222222222222,\"#7201a8\"],[0.3333333333333333,\"#9c179e\"],[0.4444444444444444,\"#bd3786\"],[0.5555555555555556,\"#d8576b\"],[0.6666666666666666,\"#ed7953\"],[0.7777777777777778,\"#fb9f3a\"],[0.8888888888888888,\"#fdca26\"],[1.0,\"#f0f921\"]]}],\"heatmap\":[{\"type\":\"heatmap\",\"colorbar\":{\"outlinewidth\":0,\"ticks\":\"\"},\"colorscale\":[[0.0,\"#0d0887\"],[0.1111111111111111,\"#46039f\"],[0.2222222222222222,\"#7201a8\"],[0.3333333333333333,\"#9c179e\"],[0.4444444444444444,\"#bd3786\"],[0.5555555555555556,\"#d8576b\"],[0.6666666666666666,\"#ed7953\"],[0.7777777777777778,\"#fb9f3a\"],[0.8888888888888888,\"#fdca26\"],[1.0,\"#f0f921\"]]}],\"heatmapgl\":[{\"type\":\"heatmapgl\",\"colorbar\":{\"outlinewidth\":0,\"ticks\":\"\"},\"colorscale\":[[0.0,\"#0d0887\"],[0.1111111111111111,\"#46039f\"],[0.2222222222222222,\"#7201a8\"],[0.3333333333333333,\"#9c179e\"],[0.4444444444444444,\"#bd3786\"],[0.5555555555555556,\"#d8576b\"],[0.6666666666666666,\"#ed7953\"],[0.7777777777777778,\"#fb9f3a\"],[0.8888888888888888,\"#fdca26\"],[1.0,\"#f0f921\"]]}],\"contourcarpet\":[{\"type\":\"contourcarpet\",\"colorbar\":{\"outlinewidth\":0,\"ticks\":\"\"}}],\"contour\":[{\"type\":\"contour\",\"colorbar\":{\"outlinewidth\":0,\"ticks\":\"\"},\"colorscale\":[[0.0,\"#0d0887\"],[0.1111111111111111,\"#46039f\"],[0.2222222222222222,\"#7201a8\"],[0.3333333333333333,\"#9c179e\"],[0.4444444444444444,\"#bd3786\"],[0.5555555555555556,\"#d8576b\"],[0.6666666666666666,\"#ed7953\"],[0.7777777777777778,\"#fb9f3a\"],[0.8888888888888888,\"#fdca26\"],[1.0,\"#f0f921\"]]}],\"surface\":[{\"type\":\"surface\",\"colorbar\":{\"outlinewidth\":0,\"ticks\":\"\"},\"colorscale\":[[0.0,\"#0d0887\"],[0.1111111111111111,\"#46039f\"],[0.2222222222222222,\"#7201a8\"],[0.3333333333333333,\"#9c179e\"],[0.4444444444444444,\"#bd3786\"],[0.5555555555555556,\"#d8576b\"],[0.6666666666666666,\"#ed7953\"],[0.7777777777777778,\"#fb9f3a\"],[0.8888888888888888,\"#fdca26\"],[1.0,\"#f0f921\"]]}],\"mesh3d\":[{\"type\":\"mesh3d\",\"colorbar\":{\"outlinewidth\":0,\"ticks\":\"\"}}],\"scatter\":[{\"fillpattern\":{\"fillmode\":\"overlay\",\"size\":10,\"solidity\":0.2},\"type\":\"scatter\"}],\"parcoords\":[{\"type\":\"parcoords\",\"line\":{\"colorbar\":{\"outlinewidth\":0,\"ticks\":\"\"}}}],\"scatterpolargl\":[{\"type\":\"scatterpolargl\",\"marker\":{\"colorbar\":{\"outlinewidth\":0,\"ticks\":\"\"}}}],\"bar\":[{\"error_x\":{\"color\":\"#2a3f5f\"},\"error_y\":{\"color\":\"#2a3f5f\"},\"marker\":{\"line\":{\"color\":\"#E5ECF6\",\"width\":0.5},\"pattern\":{\"fillmode\":\"overlay\",\"size\":10,\"solidity\":0.2}},\"type\":\"bar\"}],\"scattergeo\":[{\"type\":\"scattergeo\",\"marker\":{\"colorbar\":{\"outlinewidth\":0,\"ticks\":\"\"}}}],\"scatterpolar\":[{\"type\":\"scatterpolar\",\"marker\":{\"colorbar\":{\"outlinewidth\":0,\"ticks\":\"\"}}}],\"histogram\":[{\"marker\":{\"pattern\":{\"fillmode\":\"overlay\",\"size\":10,\"solidity\":0.2}},\"type\":\"histogram\"}],\"scattergl\":[{\"type\":\"scattergl\",\"marker\":{\"colorbar\":{\"outlinewidth\":0,\"ticks\":\"\"}}}],\"scatter3d\":[{\"type\":\"scatter3d\",\"line\":{\"colorbar\":{\"outlinewidth\":0,\"ticks\":\"\"}},\"marker\":{\"colorbar\":{\"outlinewidth\":0,\"ticks\":\"\"}}}],\"scattermapbox\":[{\"type\":\"scattermapbox\",\"marker\":{\"colorbar\":{\"outlinewidth\":0,\"ticks\":\"\"}}}],\"scatterternary\":[{\"type\":\"scatterternary\",\"marker\":{\"colorbar\":{\"outlinewidth\":0,\"ticks\":\"\"}}}],\"scattercarpet\":[{\"type\":\"scattercarpet\",\"marker\":{\"colorbar\":{\"outlinewidth\":0,\"ticks\":\"\"}}}],\"carpet\":[{\"aaxis\":{\"endlinecolor\":\"#2a3f5f\",\"gridcolor\":\"white\",\"linecolor\":\"white\",\"minorgridcolor\":\"white\",\"startlinecolor\":\"#2a3f5f\"},\"baxis\":{\"endlinecolor\":\"#2a3f5f\",\"gridcolor\":\"white\",\"linecolor\":\"white\",\"minorgridcolor\":\"white\",\"startlinecolor\":\"#2a3f5f\"},\"type\":\"carpet\"}],\"table\":[{\"cells\":{\"fill\":{\"color\":\"#EBF0F8\"},\"line\":{\"color\":\"white\"}},\"header\":{\"fill\":{\"color\":\"#C8D4E3\"},\"line\":{\"color\":\"white\"}},\"type\":\"table\"}],\"barpolar\":[{\"marker\":{\"line\":{\"color\":\"#E5ECF6\",\"width\":0.5},\"pattern\":{\"fillmode\":\"overlay\",\"size\":10,\"solidity\":0.2}},\"type\":\"barpolar\"}],\"pie\":[{\"automargin\":true,\"type\":\"pie\"}]},\"layout\":{\"autotypenumbers\":\"strict\",\"colorway\":[\"#636efa\",\"#EF553B\",\"#00cc96\",\"#ab63fa\",\"#FFA15A\",\"#19d3f3\",\"#FF6692\",\"#B6E880\",\"#FF97FF\",\"#FECB52\"],\"font\":{\"color\":\"#2a3f5f\"},\"hovermode\":\"closest\",\"hoverlabel\":{\"align\":\"left\"},\"paper_bgcolor\":\"white\",\"plot_bgcolor\":\"#E5ECF6\",\"polar\":{\"bgcolor\":\"#E5ECF6\",\"angularaxis\":{\"gridcolor\":\"white\",\"linecolor\":\"white\",\"ticks\":\"\"},\"radialaxis\":{\"gridcolor\":\"white\",\"linecolor\":\"white\",\"ticks\":\"\"}},\"ternary\":{\"bgcolor\":\"#E5ECF6\",\"aaxis\":{\"gridcolor\":\"white\",\"linecolor\":\"white\",\"ticks\":\"\"},\"baxis\":{\"gridcolor\":\"white\",\"linecolor\":\"white\",\"ticks\":\"\"},\"caxis\":{\"gridcolor\":\"white\",\"linecolor\":\"white\",\"ticks\":\"\"}},\"coloraxis\":{\"colorbar\":{\"outlinewidth\":0,\"ticks\":\"\"}},\"colorscale\":{\"sequential\":[[0.0,\"#0d0887\"],[0.1111111111111111,\"#46039f\"],[0.2222222222222222,\"#7201a8\"],[0.3333333333333333,\"#9c179e\"],[0.4444444444444444,\"#bd3786\"],[0.5555555555555556,\"#d8576b\"],[0.6666666666666666,\"#ed7953\"],[0.7777777777777778,\"#fb9f3a\"],[0.8888888888888888,\"#fdca26\"],[1.0,\"#f0f921\"]],\"sequentialminus\":[[0.0,\"#0d0887\"],[0.1111111111111111,\"#46039f\"],[0.2222222222222222,\"#7201a8\"],[0.3333333333333333,\"#9c179e\"],[0.4444444444444444,\"#bd3786\"],[0.5555555555555556,\"#d8576b\"],[0.6666666666666666,\"#ed7953\"],[0.7777777777777778,\"#fb9f3a\"],[0.8888888888888888,\"#fdca26\"],[1.0,\"#f0f921\"]],\"diverging\":[[0,\"#8e0152\"],[0.1,\"#c51b7d\"],[0.2,\"#de77ae\"],[0.3,\"#f1b6da\"],[0.4,\"#fde0ef\"],[0.5,\"#f7f7f7\"],[0.6,\"#e6f5d0\"],[0.7,\"#b8e186\"],[0.8,\"#7fbc41\"],[0.9,\"#4d9221\"],[1,\"#276419\"]]},\"xaxis\":{\"gridcolor\":\"white\",\"linecolor\":\"white\",\"ticks\":\"\",\"title\":{\"standoff\":15},\"zerolinecolor\":\"white\",\"automargin\":true,\"zerolinewidth\":2},\"yaxis\":{\"gridcolor\":\"white\",\"linecolor\":\"white\",\"ticks\":\"\",\"title\":{\"standoff\":15},\"zerolinecolor\":\"white\",\"automargin\":true,\"zerolinewidth\":2},\"scene\":{\"xaxis\":{\"backgroundcolor\":\"#E5ECF6\",\"gridcolor\":\"white\",\"linecolor\":\"white\",\"showbackground\":true,\"ticks\":\"\",\"zerolinecolor\":\"white\",\"gridwidth\":2},\"yaxis\":{\"backgroundcolor\":\"#E5ECF6\",\"gridcolor\":\"white\",\"linecolor\":\"white\",\"showbackground\":true,\"ticks\":\"\",\"zerolinecolor\":\"white\",\"gridwidth\":2},\"zaxis\":{\"backgroundcolor\":\"#E5ECF6\",\"gridcolor\":\"white\",\"linecolor\":\"white\",\"showbackground\":true,\"ticks\":\"\",\"zerolinecolor\":\"white\",\"gridwidth\":2}},\"shapedefaults\":{\"line\":{\"color\":\"#2a3f5f\"}},\"annotationdefaults\":{\"arrowcolor\":\"#2a3f5f\",\"arrowhead\":0,\"arrowwidth\":1},\"geo\":{\"bgcolor\":\"white\",\"landcolor\":\"#E5ECF6\",\"subunitcolor\":\"white\",\"showland\":true,\"showlakes\":true,\"lakecolor\":\"white\"},\"title\":{\"x\":0.05},\"mapbox\":{\"style\":\"light\"}}},\"xaxis\":{\"anchor\":\"y\",\"domain\":[0.0,1.0],\"visible\":false},\"yaxis\":{\"anchor\":\"x\",\"domain\":[0.0,1.0],\"visible\":false},\"margin\":{\"t\":0,\"b\":0,\"l\":0,\"r\":0},\"plot_bgcolor\":\"rgba(0, 0, 0, 0)\",\"paper_bgcolor\":\"rgba(0, 0, 0, 0)\",\"height\":80,\"showlegend\":false},                        {\"responsive\": true}                    ).then(function(){\n",
       "                            \n",
       "var gd = document.getElementById('03d6c8fd-2438-4781-8a2e-798d41fa206e');\n",
       "var x = new MutationObserver(function (mutations, observer) {{\n",
       "        var display = window.getComputedStyle(gd).display;\n",
       "        if (!display || display === 'none') {{\n",
       "            console.log([gd, 'removed!']);\n",
       "            Plotly.purge(gd);\n",
       "            observer.disconnect();\n",
       "        }}\n",
       "}});\n",
       "\n",
       "// Listen for the removal of the full notebook cells\n",
       "var notebookContainer = gd.closest('#notebook-container');\n",
       "if (notebookContainer) {{\n",
       "    x.observe(notebookContainer, {childList: true});\n",
       "}}\n",
       "\n",
       "// Listen for the clearing of the current output cell\n",
       "var outputEl = gd.closest('.output');\n",
       "if (outputEl) {{\n",
       "    x.observe(outputEl, {childList: true});\n",
       "}}\n",
       "\n",
       "                        })                };                });            </script>        </div>"
      ]
     },
     "metadata": {},
     "output_type": "display_data"
    }
   ],
   "source": [
    "plot_graph(FG)"
   ]
  },
  {
   "cell_type": "markdown",
   "id": "23a32375",
   "metadata": {},
   "source": [
    "### 4. Run simulation\n",
    "Now we can define the run. After we define the path that the vessel will sail, we make an environment and add the graph to the environment. Then we add one vessel, to which we will append the environment and the route. Lastly, we give the vessel the process of moving from the origin to the destination of the defined path and subsequently run the model."
   ]
  },
  {
   "cell_type": "code",
   "execution_count": 22,
   "id": "e9e622df-bfa0-493b-818f-340d0f45669b",
   "metadata": {},
   "outputs": [],
   "source": [
    "# Start simpy environment\n",
    "t_start = datetime.datetime(2024, 1, 1, 0, 0, 0)\n",
    "\n",
    "env = simpy.Environment(initial_time=t_start.timestamp())\n",
    "\n",
    "env.epoch = t_start\n",
    "env.simulation_start = t_start\n",
    "\n",
    "\n",
    "# Add graph to environment\n",
    "env.FG = FG\n",
    "\n",
    "#In order from ships to know where they are going we need to add an VTS to the environment\n",
    "env.vessel_traffic_service = vessel_traffic_service_module.VesselTrafficService(env=env)"
   ]
  },
  {
   "cell_type": "code",
   "execution_count": 23,
   "id": "cfa9a885-b540-4184-bee5-27e96b70b48f",
   "metadata": {},
   "outputs": [],
   "source": [
    "# we add a lock to an edge in the network\n",
    "Lock_I = lock_module.IsLockComplex(env=env,\n",
    "                                   name='Lock I',\n",
    "                                   start_node='0',\n",
    "                                   node_open='0',\n",
    "                                   end_node='1',\n",
    "                                   lock_length=120,\n",
    "                                   lock_width=18,\n",
    "                                   lock_depth=6,\n",
    "                                   lineup_area_A_length=120,\n",
    "                                   lineup_area_B_length=120,\n",
    "                                   effective_lineup_area_B_length=120,\n",
    "                                   levelling_time=1500,\n",
    "                                   distance_doors_A_from_waiting_area_A=140,\n",
    "                                   distance_doors_B_from_waiting_area_B=140,\n",
    "                                   distance_waiting_area_A_from_start_node=0,\n",
    "                                   distance_waiting_area_B_from_end_node=0,\n",
    "                                   distance_lineup_area_A_to_lock_doors_A=20,\n",
    "                                   distance_lineup_area_B_to_lock_doors_B=20)"
   ]
  },
  {
   "cell_type": "code",
   "execution_count": 24,
   "id": "843d98db-f3c9-45b8-9677-a62d08593108",
   "metadata": {},
   "outputs": [],
   "source": [
    "vessel1 = create_vessel_locking(\n",
    "    env=env, \n",
    "    name='Vessel1',\n",
    "    origin='0', \n",
    "    destination='1',\n",
    "    arrival_time=datetime.datetime(2024, 1, 1, 0, 0, 0),\n",
    "    vessel_type=None, \n",
    "    L=110, \n",
    "    B=11.4, \n",
    "    T=3, \n",
    "    v=3)\n",
    "\n",
    "vessel2 = create_vessel_locking(\n",
    "    env=env, \n",
    "    name='Vessel2',\n",
    "    origin='1', \n",
    "    destination='0',\n",
    "    arrival_time=datetime.datetime(2024, 1, 1, 0, 10, 0),\n",
    "    vessel_type=None, \n",
    "    L=110, \n",
    "    B=11.4, \n",
    "    T=3, \n",
    "    v=3)"
   ]
  },
  {
   "cell_type": "code",
   "execution_count": 25,
   "id": "2d7fec17-036a-42a8-b789-178aef4fc21e",
   "metadata": {},
   "outputs": [],
   "source": [
    "env.run()"
   ]
  },
  {
   "cell_type": "markdown",
   "id": "05878f0e",
   "metadata": {},
   "source": [
    "### 5. Inspect output\n",
    "We can now analyse the simulation output by inspecting the data in _energy_use_ in the energycalculation object. For convenient inspection it can be loaded into a Pandas dataframe. "
   ]
  },
  {
   "cell_type": "code",
   "execution_count": 26,
   "id": "96516e44-d71e-4ca5-9d73-6ca5bfd5c7e2",
   "metadata": {},
   "outputs": [
    {
     "data": {
      "application/vnd.plotly.v1+json": {
       "config": {
        "plotlyServerURL": "https://plot.ly"
       },
       "data": [
        {
         "hovertemplate": "Distance=%{x}<br>Timestamp=%{y}<extra></extra>",
         "legendgroup": "",
         "marker": {
          "color": "#636efa",
          "symbol": "circle"
         },
         "mode": "markers",
         "name": "",
         "orientation": "h",
         "showlegend": false,
         "type": "scatter",
         "x": [
          0,
          0,
          65,
          65,
          120,
          120,
          140,
          140,
          205,
          205,
          205,
          205,
          260,
          260,
          280,
          280,
          400,
          400
         ],
         "xaxis": "x",
         "y": [
          "2024-01-01T00:00:00",
          "2024-01-01T00:00:00",
          "2024-01-01T00:00:28.888889",
          "2024-01-01T00:00:28.888889",
          "2024-01-01T00:01:50.370370",
          "2024-01-01T00:01:50.370370",
          "2024-01-01T00:02:20",
          "2024-01-01T00:02:20",
          "2024-01-01T00:03:56.296296",
          "2024-01-01T00:03:56.296296",
          "2024-01-01T00:28:56.296296",
          "2024-01-01T00:28:56.296296",
          "2024-01-01T00:30:17.777778",
          "2024-01-01T00:30:17.777778",
          "2024-01-01T00:30:24.444445",
          "2024-01-01T00:30:24.444445",
          "2024-01-01T00:31:04.444445",
          "2024-01-01T00:31:04.444445"
         ],
         "yaxis": "y"
        },
        {
         "line": {
          "color": "red"
         },
         "mode": "lines+markers",
         "name": "Vessel1",
         "showlegend": true,
         "type": "scatter",
         "x": [
          0,
          0,
          65,
          65,
          120,
          120,
          140,
          140,
          205,
          205,
          205,
          205,
          260,
          260,
          280,
          280,
          400,
          400
         ],
         "y": [
          "2024-01-01T00:00:00",
          "2024-01-01T00:00:00",
          "2024-01-01T00:00:28.888889",
          "2024-01-01T00:00:28.888889",
          "2024-01-01T00:01:50.370370",
          "2024-01-01T00:01:50.370370",
          "2024-01-01T00:02:20",
          "2024-01-01T00:02:20",
          "2024-01-01T00:03:56.296296",
          "2024-01-01T00:03:56.296296",
          "2024-01-01T00:28:56.296296",
          "2024-01-01T00:28:56.296296",
          "2024-01-01T00:30:17.777778",
          "2024-01-01T00:30:17.777778",
          "2024-01-01T00:30:24.444445",
          "2024-01-01T00:30:24.444445",
          "2024-01-01T00:31:04.444445",
          "2024-01-01T00:31:04.444445"
         ]
        },
        {
         "line": {
          "color": "blue"
         },
         "mode": "lines+markers",
         "name": "Vessel2",
         "showlegend": true,
         "type": "scatter",
         "x": [
          400,
          400,
          335,
          335,
          335,
          335,
          280,
          280,
          260,
          260,
          195,
          195,
          195,
          195,
          140,
          140,
          120,
          120,
          0,
          0
         ],
         "y": [
          "2024-01-01T00:10:00",
          "2024-01-01T00:10:00",
          "2024-01-01T00:10:28.888889",
          "2024-01-01T00:10:28.888889",
          "2024-01-01T00:31:04.444445",
          "2024-01-01T00:31:04.444445",
          "2024-01-01T00:32:25.925926",
          "2024-01-01T00:32:25.925926",
          "2024-01-01T00:32:55.555556",
          "2024-01-01T00:32:55.555556",
          "2024-01-01T00:34:31.851852",
          "2024-01-01T00:34:31.851852",
          "2024-01-01T00:59:31.851852",
          "2024-01-01T00:59:31.851852",
          "2024-01-01T01:00:53.333334",
          "2024-01-01T01:00:53.333334",
          "2024-01-01T01:01:00",
          "2024-01-01T01:01:00",
          "2024-01-01T01:01:40",
          "2024-01-01T01:01:40"
         ]
        }
       ],
       "layout": {
        "annotations": [
         {
          "align": "center",
          "font": {
           "size": 12
          },
          "showarrow": false,
          "text": "Lock chamber",
          "x": 200,
          "y": "2024-01-01T01:01:40"
         }
        ],
        "autosize": true,
        "legend": {
         "tracegroupgap": 0
        },
        "shapes": [
         {
          "fillcolor": "grey",
          "layer": "below",
          "line": {
           "width": 0
          },
          "opacity": 0.5,
          "type": "rect",
          "x0": 140,
          "x1": 260,
          "xref": "x",
          "y0": "2024-01-01T00:00:00",
          "y1": "2024-01-01T01:01:40",
          "yref": "y"
         }
        ],
        "template": {
         "data": {
          "bar": [
           {
            "error_x": {
             "color": "#2a3f5f"
            },
            "error_y": {
             "color": "#2a3f5f"
            },
            "marker": {
             "line": {
              "color": "#E5ECF6",
              "width": 0.5
             },
             "pattern": {
              "fillmode": "overlay",
              "size": 10,
              "solidity": 0.2
             }
            },
            "type": "bar"
           }
          ],
          "barpolar": [
           {
            "marker": {
             "line": {
              "color": "#E5ECF6",
              "width": 0.5
             },
             "pattern": {
              "fillmode": "overlay",
              "size": 10,
              "solidity": 0.2
             }
            },
            "type": "barpolar"
           }
          ],
          "carpet": [
           {
            "aaxis": {
             "endlinecolor": "#2a3f5f",
             "gridcolor": "white",
             "linecolor": "white",
             "minorgridcolor": "white",
             "startlinecolor": "#2a3f5f"
            },
            "baxis": {
             "endlinecolor": "#2a3f5f",
             "gridcolor": "white",
             "linecolor": "white",
             "minorgridcolor": "white",
             "startlinecolor": "#2a3f5f"
            },
            "type": "carpet"
           }
          ],
          "choropleth": [
           {
            "colorbar": {
             "outlinewidth": 0,
             "ticks": ""
            },
            "type": "choropleth"
           }
          ],
          "contour": [
           {
            "colorbar": {
             "outlinewidth": 0,
             "ticks": ""
            },
            "colorscale": [
             [
              0,
              "#0d0887"
             ],
             [
              0.1111111111111111,
              "#46039f"
             ],
             [
              0.2222222222222222,
              "#7201a8"
             ],
             [
              0.3333333333333333,
              "#9c179e"
             ],
             [
              0.4444444444444444,
              "#bd3786"
             ],
             [
              0.5555555555555556,
              "#d8576b"
             ],
             [
              0.6666666666666666,
              "#ed7953"
             ],
             [
              0.7777777777777778,
              "#fb9f3a"
             ],
             [
              0.8888888888888888,
              "#fdca26"
             ],
             [
              1,
              "#f0f921"
             ]
            ],
            "type": "contour"
           }
          ],
          "contourcarpet": [
           {
            "colorbar": {
             "outlinewidth": 0,
             "ticks": ""
            },
            "type": "contourcarpet"
           }
          ],
          "heatmap": [
           {
            "colorbar": {
             "outlinewidth": 0,
             "ticks": ""
            },
            "colorscale": [
             [
              0,
              "#0d0887"
             ],
             [
              0.1111111111111111,
              "#46039f"
             ],
             [
              0.2222222222222222,
              "#7201a8"
             ],
             [
              0.3333333333333333,
              "#9c179e"
             ],
             [
              0.4444444444444444,
              "#bd3786"
             ],
             [
              0.5555555555555556,
              "#d8576b"
             ],
             [
              0.6666666666666666,
              "#ed7953"
             ],
             [
              0.7777777777777778,
              "#fb9f3a"
             ],
             [
              0.8888888888888888,
              "#fdca26"
             ],
             [
              1,
              "#f0f921"
             ]
            ],
            "type": "heatmap"
           }
          ],
          "heatmapgl": [
           {
            "colorbar": {
             "outlinewidth": 0,
             "ticks": ""
            },
            "colorscale": [
             [
              0,
              "#0d0887"
             ],
             [
              0.1111111111111111,
              "#46039f"
             ],
             [
              0.2222222222222222,
              "#7201a8"
             ],
             [
              0.3333333333333333,
              "#9c179e"
             ],
             [
              0.4444444444444444,
              "#bd3786"
             ],
             [
              0.5555555555555556,
              "#d8576b"
             ],
             [
              0.6666666666666666,
              "#ed7953"
             ],
             [
              0.7777777777777778,
              "#fb9f3a"
             ],
             [
              0.8888888888888888,
              "#fdca26"
             ],
             [
              1,
              "#f0f921"
             ]
            ],
            "type": "heatmapgl"
           }
          ],
          "histogram": [
           {
            "marker": {
             "pattern": {
              "fillmode": "overlay",
              "size": 10,
              "solidity": 0.2
             }
            },
            "type": "histogram"
           }
          ],
          "histogram2d": [
           {
            "colorbar": {
             "outlinewidth": 0,
             "ticks": ""
            },
            "colorscale": [
             [
              0,
              "#0d0887"
             ],
             [
              0.1111111111111111,
              "#46039f"
             ],
             [
              0.2222222222222222,
              "#7201a8"
             ],
             [
              0.3333333333333333,
              "#9c179e"
             ],
             [
              0.4444444444444444,
              "#bd3786"
             ],
             [
              0.5555555555555556,
              "#d8576b"
             ],
             [
              0.6666666666666666,
              "#ed7953"
             ],
             [
              0.7777777777777778,
              "#fb9f3a"
             ],
             [
              0.8888888888888888,
              "#fdca26"
             ],
             [
              1,
              "#f0f921"
             ]
            ],
            "type": "histogram2d"
           }
          ],
          "histogram2dcontour": [
           {
            "colorbar": {
             "outlinewidth": 0,
             "ticks": ""
            },
            "colorscale": [
             [
              0,
              "#0d0887"
             ],
             [
              0.1111111111111111,
              "#46039f"
             ],
             [
              0.2222222222222222,
              "#7201a8"
             ],
             [
              0.3333333333333333,
              "#9c179e"
             ],
             [
              0.4444444444444444,
              "#bd3786"
             ],
             [
              0.5555555555555556,
              "#d8576b"
             ],
             [
              0.6666666666666666,
              "#ed7953"
             ],
             [
              0.7777777777777778,
              "#fb9f3a"
             ],
             [
              0.8888888888888888,
              "#fdca26"
             ],
             [
              1,
              "#f0f921"
             ]
            ],
            "type": "histogram2dcontour"
           }
          ],
          "mesh3d": [
           {
            "colorbar": {
             "outlinewidth": 0,
             "ticks": ""
            },
            "type": "mesh3d"
           }
          ],
          "parcoords": [
           {
            "line": {
             "colorbar": {
              "outlinewidth": 0,
              "ticks": ""
             }
            },
            "type": "parcoords"
           }
          ],
          "pie": [
           {
            "automargin": true,
            "type": "pie"
           }
          ],
          "scatter": [
           {
            "fillpattern": {
             "fillmode": "overlay",
             "size": 10,
             "solidity": 0.2
            },
            "type": "scatter"
           }
          ],
          "scatter3d": [
           {
            "line": {
             "colorbar": {
              "outlinewidth": 0,
              "ticks": ""
             }
            },
            "marker": {
             "colorbar": {
              "outlinewidth": 0,
              "ticks": ""
             }
            },
            "type": "scatter3d"
           }
          ],
          "scattercarpet": [
           {
            "marker": {
             "colorbar": {
              "outlinewidth": 0,
              "ticks": ""
             }
            },
            "type": "scattercarpet"
           }
          ],
          "scattergeo": [
           {
            "marker": {
             "colorbar": {
              "outlinewidth": 0,
              "ticks": ""
             }
            },
            "type": "scattergeo"
           }
          ],
          "scattergl": [
           {
            "marker": {
             "colorbar": {
              "outlinewidth": 0,
              "ticks": ""
             }
            },
            "type": "scattergl"
           }
          ],
          "scattermapbox": [
           {
            "marker": {
             "colorbar": {
              "outlinewidth": 0,
              "ticks": ""
             }
            },
            "type": "scattermapbox"
           }
          ],
          "scatterpolar": [
           {
            "marker": {
             "colorbar": {
              "outlinewidth": 0,
              "ticks": ""
             }
            },
            "type": "scatterpolar"
           }
          ],
          "scatterpolargl": [
           {
            "marker": {
             "colorbar": {
              "outlinewidth": 0,
              "ticks": ""
             }
            },
            "type": "scatterpolargl"
           }
          ],
          "scatterternary": [
           {
            "marker": {
             "colorbar": {
              "outlinewidth": 0,
              "ticks": ""
             }
            },
            "type": "scatterternary"
           }
          ],
          "surface": [
           {
            "colorbar": {
             "outlinewidth": 0,
             "ticks": ""
            },
            "colorscale": [
             [
              0,
              "#0d0887"
             ],
             [
              0.1111111111111111,
              "#46039f"
             ],
             [
              0.2222222222222222,
              "#7201a8"
             ],
             [
              0.3333333333333333,
              "#9c179e"
             ],
             [
              0.4444444444444444,
              "#bd3786"
             ],
             [
              0.5555555555555556,
              "#d8576b"
             ],
             [
              0.6666666666666666,
              "#ed7953"
             ],
             [
              0.7777777777777778,
              "#fb9f3a"
             ],
             [
              0.8888888888888888,
              "#fdca26"
             ],
             [
              1,
              "#f0f921"
             ]
            ],
            "type": "surface"
           }
          ],
          "table": [
           {
            "cells": {
             "fill": {
              "color": "#EBF0F8"
             },
             "line": {
              "color": "white"
             }
            },
            "header": {
             "fill": {
              "color": "#C8D4E3"
             },
             "line": {
              "color": "white"
             }
            },
            "type": "table"
           }
          ]
         },
         "layout": {
          "annotationdefaults": {
           "arrowcolor": "#2a3f5f",
           "arrowhead": 0,
           "arrowwidth": 1
          },
          "autotypenumbers": "strict",
          "coloraxis": {
           "colorbar": {
            "outlinewidth": 0,
            "ticks": ""
           }
          },
          "colorscale": {
           "diverging": [
            [
             0,
             "#8e0152"
            ],
            [
             0.1,
             "#c51b7d"
            ],
            [
             0.2,
             "#de77ae"
            ],
            [
             0.3,
             "#f1b6da"
            ],
            [
             0.4,
             "#fde0ef"
            ],
            [
             0.5,
             "#f7f7f7"
            ],
            [
             0.6,
             "#e6f5d0"
            ],
            [
             0.7,
             "#b8e186"
            ],
            [
             0.8,
             "#7fbc41"
            ],
            [
             0.9,
             "#4d9221"
            ],
            [
             1,
             "#276419"
            ]
           ],
           "sequential": [
            [
             0,
             "#0d0887"
            ],
            [
             0.1111111111111111,
             "#46039f"
            ],
            [
             0.2222222222222222,
             "#7201a8"
            ],
            [
             0.3333333333333333,
             "#9c179e"
            ],
            [
             0.4444444444444444,
             "#bd3786"
            ],
            [
             0.5555555555555556,
             "#d8576b"
            ],
            [
             0.6666666666666666,
             "#ed7953"
            ],
            [
             0.7777777777777778,
             "#fb9f3a"
            ],
            [
             0.8888888888888888,
             "#fdca26"
            ],
            [
             1,
             "#f0f921"
            ]
           ],
           "sequentialminus": [
            [
             0,
             "#0d0887"
            ],
            [
             0.1111111111111111,
             "#46039f"
            ],
            [
             0.2222222222222222,
             "#7201a8"
            ],
            [
             0.3333333333333333,
             "#9c179e"
            ],
            [
             0.4444444444444444,
             "#bd3786"
            ],
            [
             0.5555555555555556,
             "#d8576b"
            ],
            [
             0.6666666666666666,
             "#ed7953"
            ],
            [
             0.7777777777777778,
             "#fb9f3a"
            ],
            [
             0.8888888888888888,
             "#fdca26"
            ],
            [
             1,
             "#f0f921"
            ]
           ]
          },
          "colorway": [
           "#636efa",
           "#EF553B",
           "#00cc96",
           "#ab63fa",
           "#FFA15A",
           "#19d3f3",
           "#FF6692",
           "#B6E880",
           "#FF97FF",
           "#FECB52"
          ],
          "font": {
           "color": "#2a3f5f"
          },
          "geo": {
           "bgcolor": "white",
           "lakecolor": "white",
           "landcolor": "#E5ECF6",
           "showlakes": true,
           "showland": true,
           "subunitcolor": "white"
          },
          "hoverlabel": {
           "align": "left"
          },
          "hovermode": "closest",
          "mapbox": {
           "style": "light"
          },
          "paper_bgcolor": "white",
          "plot_bgcolor": "#E5ECF6",
          "polar": {
           "angularaxis": {
            "gridcolor": "white",
            "linecolor": "white",
            "ticks": ""
           },
           "bgcolor": "#E5ECF6",
           "radialaxis": {
            "gridcolor": "white",
            "linecolor": "white",
            "ticks": ""
           }
          },
          "scene": {
           "xaxis": {
            "backgroundcolor": "#E5ECF6",
            "gridcolor": "white",
            "gridwidth": 2,
            "linecolor": "white",
            "showbackground": true,
            "ticks": "",
            "zerolinecolor": "white"
           },
           "yaxis": {
            "backgroundcolor": "#E5ECF6",
            "gridcolor": "white",
            "gridwidth": 2,
            "linecolor": "white",
            "showbackground": true,
            "ticks": "",
            "zerolinecolor": "white"
           },
           "zaxis": {
            "backgroundcolor": "#E5ECF6",
            "gridcolor": "white",
            "gridwidth": 2,
            "linecolor": "white",
            "showbackground": true,
            "ticks": "",
            "zerolinecolor": "white"
           }
          },
          "shapedefaults": {
           "line": {
            "color": "#2a3f5f"
           }
          },
          "ternary": {
           "aaxis": {
            "gridcolor": "white",
            "linecolor": "white",
            "ticks": ""
           },
           "baxis": {
            "gridcolor": "white",
            "linecolor": "white",
            "ticks": ""
           },
           "bgcolor": "#E5ECF6",
           "caxis": {
            "gridcolor": "white",
            "linecolor": "white",
            "ticks": ""
           }
          },
          "title": {
           "x": 0.05
          },
          "xaxis": {
           "automargin": true,
           "gridcolor": "white",
           "linecolor": "white",
           "ticks": "",
           "title": {
            "standoff": 15
           },
           "zerolinecolor": "white",
           "zerolinewidth": 2
          },
          "yaxis": {
           "automargin": true,
           "gridcolor": "white",
           "linecolor": "white",
           "ticks": "",
           "title": {
            "standoff": 15
           },
           "zerolinecolor": "white",
           "zerolinewidth": 2
          }
         }
        },
        "title": {
         "text": "Distance from Node 0 vs Time"
        },
        "xaxis": {
         "anchor": "y",
         "autorange": true,
         "domain": [
          0,
          1
         ],
         "range": [
          -24.327396741189848,
          424.32739674118983
         ],
         "title": {
          "text": "Distance"
         },
         "type": "linear"
        },
        "yaxis": {
         "anchor": "x",
         "autorange": true,
         "domain": [
          0,
          1
         ],
         "range": [
          "2023-12-31 23:54:54.6602",
          "2024-01-01 01:06:45.3398"
         ],
         "title": {
          "text": "Timestamp"
         },
         "type": "date"
        }
       }
      },
      "image/png": "[encoded data removed]",
      "text/html": [
       "<div>                            <div id=\"629ec62e-5b91-4c55-bff7-1c9647c0a687\" class=\"plotly-graph-div\" style=\"height:525px; width:100%;\"></div>            <script type=\"text/javascript\">                require([\"plotly\"], function(Plotly) {                    window.PLOTLYENV=window.PLOTLYENV || {};                                    if (document.getElementById(\"629ec62e-5b91-4c55-bff7-1c9647c0a687\")) {                    Plotly.newPlot(                        \"629ec62e-5b91-4c55-bff7-1c9647c0a687\",                        [{\"hovertemplate\":\"Distance=%{x}\\u003cbr\\u003eTimestamp=%{y}\\u003cextra\\u003e\\u003c\\u002fextra\\u003e\",\"legendgroup\":\"\",\"marker\":{\"color\":\"#636efa\",\"symbol\":\"circle\"},\"mode\":\"markers\",\"name\":\"\",\"orientation\":\"h\",\"showlegend\":false,\"x\":[0.0,0.0,65.0,65.0,120.0,120.0,140.0,140.0,205.0,205.0,205.0,205.0,260.0,260.0,280.0,280.0,400.0,400.0],\"xaxis\":\"x\",\"y\":[\"2024-01-01T00:00:00\",\"2024-01-01T00:00:00\",\"2024-01-01T00:00:28.888889\",\"2024-01-01T00:00:28.888889\",\"2024-01-01T00:01:50.370370\",\"2024-01-01T00:01:50.370370\",\"2024-01-01T00:02:20\",\"2024-01-01T00:02:20\",\"2024-01-01T00:03:56.296296\",\"2024-01-01T00:03:56.296296\",\"2024-01-01T00:28:56.296296\",\"2024-01-01T00:28:56.296296\",\"2024-01-01T00:30:17.777778\",\"2024-01-01T00:30:17.777778\",\"2024-01-01T00:30:24.444445\",\"2024-01-01T00:30:24.444445\",\"2024-01-01T00:31:04.444445\",\"2024-01-01T00:31:04.444445\"],\"yaxis\":\"y\",\"type\":\"scatter\"},{\"line\":{\"color\":\"red\"},\"mode\":\"lines+markers\",\"name\":\"Vessel1\",\"showlegend\":true,\"x\":[0.0,0.0,65.0,65.0,120.0,120.0,140.0,140.0,205.0,205.0,205.0,205.0,260.0,260.0,280.0,280.0,400.0,400.0],\"y\":[\"2024-01-01T00:00:00\",\"2024-01-01T00:00:00\",\"2024-01-01T00:00:28.888889\",\"2024-01-01T00:00:28.888889\",\"2024-01-01T00:01:50.370370\",\"2024-01-01T00:01:50.370370\",\"2024-01-01T00:02:20\",\"2024-01-01T00:02:20\",\"2024-01-01T00:03:56.296296\",\"2024-01-01T00:03:56.296296\",\"2024-01-01T00:28:56.296296\",\"2024-01-01T00:28:56.296296\",\"2024-01-01T00:30:17.777778\",\"2024-01-01T00:30:17.777778\",\"2024-01-01T00:30:24.444445\",\"2024-01-01T00:30:24.444445\",\"2024-01-01T00:31:04.444445\",\"2024-01-01T00:31:04.444445\"],\"type\":\"scatter\"},{\"line\":{\"color\":\"blue\"},\"mode\":\"lines+markers\",\"name\":\"Vessel2\",\"showlegend\":true,\"x\":[400.0,400.0,335.0,335.0,335.0,335.0,280.0,280.0,260.0,260.0,195.0,195.0,195.0,195.0,140.0,140.0,120.0,120.0,0.0,0.0],\"y\":[\"2024-01-01T00:10:00\",\"2024-01-01T00:10:00\",\"2024-01-01T00:10:28.888889\",\"2024-01-01T00:10:28.888889\",\"2024-01-01T00:31:04.444445\",\"2024-01-01T00:31:04.444445\",\"2024-01-01T00:32:25.925926\",\"2024-01-01T00:32:25.925926\",\"2024-01-01T00:32:55.555556\",\"2024-01-01T00:32:55.555556\",\"2024-01-01T00:34:31.851852\",\"2024-01-01T00:34:31.851852\",\"2024-01-01T00:59:31.851852\",\"2024-01-01T00:59:31.851852\",\"2024-01-01T01:00:53.333334\",\"2024-01-01T01:00:53.333334\",\"2024-01-01T01:01:00\",\"2024-01-01T01:01:00\",\"2024-01-01T01:01:40\",\"2024-01-01T01:01:40\"],\"type\":\"scatter\"}],                        {\"template\":{\"data\":{\"histogram2dcontour\":[{\"type\":\"histogram2dcontour\",\"colorbar\":{\"outlinewidth\":0,\"ticks\":\"\"},\"colorscale\":[[0.0,\"#0d0887\"],[0.1111111111111111,\"#46039f\"],[0.2222222222222222,\"#7201a8\"],[0.3333333333333333,\"#9c179e\"],[0.4444444444444444,\"#bd3786\"],[0.5555555555555556,\"#d8576b\"],[0.6666666666666666,\"#ed7953\"],[0.7777777777777778,\"#fb9f3a\"],[0.8888888888888888,\"#fdca26\"],[1.0,\"#f0f921\"]]}],\"choropleth\":[{\"type\":\"choropleth\",\"colorbar\":{\"outlinewidth\":0,\"ticks\":\"\"}}],\"histogram2d\":[{\"type\":\"histogram2d\",\"colorbar\":{\"outlinewidth\":0,\"ticks\":\"\"},\"colorscale\":[[0.0,\"#0d0887\"],[0.1111111111111111,\"#46039f\"],[0.2222222222222222,\"#7201a8\"],[0.3333333333333333,\"#9c179e\"],[0.4444444444444444,\"#bd3786\"],[0.5555555555555556,\"#d8576b\"],[0.6666666666666666,\"#ed7953\"],[0.7777777777777778,\"#fb9f3a\"],[0.8888888888888888,\"#fdca26\"],[1.0,\"#f0f921\"]]}],\"heatmap\":[{\"type\":\"heatmap\",\"colorbar\":{\"outlinewidth\":0,\"ticks\":\"\"},\"colorscale\":[[0.0,\"#0d0887\"],[0.1111111111111111,\"#46039f\"],[0.2222222222222222,\"#7201a8\"],[0.3333333333333333,\"#9c179e\"],[0.4444444444444444,\"#bd3786\"],[0.5555555555555556,\"#d8576b\"],[0.6666666666666666,\"#ed7953\"],[0.7777777777777778,\"#fb9f3a\"],[0.8888888888888888,\"#fdca26\"],[1.0,\"#f0f921\"]]}],\"heatmapgl\":[{\"type\":\"heatmapgl\",\"colorbar\":{\"outlinewidth\":0,\"ticks\":\"\"},\"colorscale\":[[0.0,\"#0d0887\"],[0.1111111111111111,\"#46039f\"],[0.2222222222222222,\"#7201a8\"],[0.3333333333333333,\"#9c179e\"],[0.4444444444444444,\"#bd3786\"],[0.5555555555555556,\"#d8576b\"],[0.6666666666666666,\"#ed7953\"],[0.7777777777777778,\"#fb9f3a\"],[0.8888888888888888,\"#fdca26\"],[1.0,\"#f0f921\"]]}],\"contourcarpet\":[{\"type\":\"contourcarpet\",\"colorbar\":{\"outlinewidth\":0,\"ticks\":\"\"}}],\"contour\":[{\"type\":\"contour\",\"colorbar\":{\"outlinewidth\":0,\"ticks\":\"\"},\"colorscale\":[[0.0,\"#0d0887\"],[0.1111111111111111,\"#46039f\"],[0.2222222222222222,\"#7201a8\"],[0.3333333333333333,\"#9c179e\"],[0.4444444444444444,\"#bd3786\"],[0.5555555555555556,\"#d8576b\"],[0.6666666666666666,\"#ed7953\"],[0.7777777777777778,\"#fb9f3a\"],[0.8888888888888888,\"#fdca26\"],[1.0,\"#f0f921\"]]}],\"surface\":[{\"type\":\"surface\",\"colorbar\":{\"outlinewidth\":0,\"ticks\":\"\"},\"colorscale\":[[0.0,\"#0d0887\"],[0.1111111111111111,\"#46039f\"],[0.2222222222222222,\"#7201a8\"],[0.3333333333333333,\"#9c179e\"],[0.4444444444444444,\"#bd3786\"],[0.5555555555555556,\"#d8576b\"],[0.6666666666666666,\"#ed7953\"],[0.7777777777777778,\"#fb9f3a\"],[0.8888888888888888,\"#fdca26\"],[1.0,\"#f0f921\"]]}],\"mesh3d\":[{\"type\":\"mesh3d\",\"colorbar\":{\"outlinewidth\":0,\"ticks\":\"\"}}],\"scatter\":[{\"fillpattern\":{\"fillmode\":\"overlay\",\"size\":10,\"solidity\":0.2},\"type\":\"scatter\"}],\"parcoords\":[{\"type\":\"parcoords\",\"line\":{\"colorbar\":{\"outlinewidth\":0,\"ticks\":\"\"}}}],\"scatterpolargl\":[{\"type\":\"scatterpolargl\",\"marker\":{\"colorbar\":{\"outlinewidth\":0,\"ticks\":\"\"}}}],\"bar\":[{\"error_x\":{\"color\":\"#2a3f5f\"},\"error_y\":{\"color\":\"#2a3f5f\"},\"marker\":{\"line\":{\"color\":\"#E5ECF6\",\"width\":0.5},\"pattern\":{\"fillmode\":\"overlay\",\"size\":10,\"solidity\":0.2}},\"type\":\"bar\"}],\"scattergeo\":[{\"type\":\"scattergeo\",\"marker\":{\"colorbar\":{\"outlinewidth\":0,\"ticks\":\"\"}}}],\"scatterpolar\":[{\"type\":\"scatterpolar\",\"marker\":{\"colorbar\":{\"outlinewidth\":0,\"ticks\":\"\"}}}],\"histogram\":[{\"marker\":{\"pattern\":{\"fillmode\":\"overlay\",\"size\":10,\"solidity\":0.2}},\"type\":\"histogram\"}],\"scattergl\":[{\"type\":\"scattergl\",\"marker\":{\"colorbar\":{\"outlinewidth\":0,\"ticks\":\"\"}}}],\"scatter3d\":[{\"type\":\"scatter3d\",\"line\":{\"colorbar\":{\"outlinewidth\":0,\"ticks\":\"\"}},\"marker\":{\"colorbar\":{\"outlinewidth\":0,\"ticks\":\"\"}}}],\"scattermapbox\":[{\"type\":\"scattermapbox\",\"marker\":{\"colorbar\":{\"outlinewidth\":0,\"ticks\":\"\"}}}],\"scatterternary\":[{\"type\":\"scatterternary\",\"marker\":{\"colorbar\":{\"outlinewidth\":0,\"ticks\":\"\"}}}],\"scattercarpet\":[{\"type\":\"scattercarpet\",\"marker\":{\"colorbar\":{\"outlinewidth\":0,\"ticks\":\"\"}}}],\"carpet\":[{\"aaxis\":{\"endlinecolor\":\"#2a3f5f\",\"gridcolor\":\"white\",\"linecolor\":\"white\",\"minorgridcolor\":\"white\",\"startlinecolor\":\"#2a3f5f\"},\"baxis\":{\"endlinecolor\":\"#2a3f5f\",\"gridcolor\":\"white\",\"linecolor\":\"white\",\"minorgridcolor\":\"white\",\"startlinecolor\":\"#2a3f5f\"},\"type\":\"carpet\"}],\"table\":[{\"cells\":{\"fill\":{\"color\":\"#EBF0F8\"},\"line\":{\"color\":\"white\"}},\"header\":{\"fill\":{\"color\":\"#C8D4E3\"},\"line\":{\"color\":\"white\"}},\"type\":\"table\"}],\"barpolar\":[{\"marker\":{\"line\":{\"color\":\"#E5ECF6\",\"width\":0.5},\"pattern\":{\"fillmode\":\"overlay\",\"size\":10,\"solidity\":0.2}},\"type\":\"barpolar\"}],\"pie\":[{\"automargin\":true,\"type\":\"pie\"}]},\"layout\":{\"autotypenumbers\":\"strict\",\"colorway\":[\"#636efa\",\"#EF553B\",\"#00cc96\",\"#ab63fa\",\"#FFA15A\",\"#19d3f3\",\"#FF6692\",\"#B6E880\",\"#FF97FF\",\"#FECB52\"],\"font\":{\"color\":\"#2a3f5f\"},\"hovermode\":\"closest\",\"hoverlabel\":{\"align\":\"left\"},\"paper_bgcolor\":\"white\",\"plot_bgcolor\":\"#E5ECF6\",\"polar\":{\"bgcolor\":\"#E5ECF6\",\"angularaxis\":{\"gridcolor\":\"white\",\"linecolor\":\"white\",\"ticks\":\"\"},\"radialaxis\":{\"gridcolor\":\"white\",\"linecolor\":\"white\",\"ticks\":\"\"}},\"ternary\":{\"bgcolor\":\"#E5ECF6\",\"aaxis\":{\"gridcolor\":\"white\",\"linecolor\":\"white\",\"ticks\":\"\"},\"baxis\":{\"gridcolor\":\"white\",\"linecolor\":\"white\",\"ticks\":\"\"},\"caxis\":{\"gridcolor\":\"white\",\"linecolor\":\"white\",\"ticks\":\"\"}},\"coloraxis\":{\"colorbar\":{\"outlinewidth\":0,\"ticks\":\"\"}},\"colorscale\":{\"sequential\":[[0.0,\"#0d0887\"],[0.1111111111111111,\"#46039f\"],[0.2222222222222222,\"#7201a8\"],[0.3333333333333333,\"#9c179e\"],[0.4444444444444444,\"#bd3786\"],[0.5555555555555556,\"#d8576b\"],[0.6666666666666666,\"#ed7953\"],[0.7777777777777778,\"#fb9f3a\"],[0.8888888888888888,\"#fdca26\"],[1.0,\"#f0f921\"]],\"sequentialminus\":[[0.0,\"#0d0887\"],[0.1111111111111111,\"#46039f\"],[0.2222222222222222,\"#7201a8\"],[0.3333333333333333,\"#9c179e\"],[0.4444444444444444,\"#bd3786\"],[0.5555555555555556,\"#d8576b\"],[0.6666666666666666,\"#ed7953\"],[0.7777777777777778,\"#fb9f3a\"],[0.8888888888888888,\"#fdca26\"],[1.0,\"#f0f921\"]],\"diverging\":[[0,\"#8e0152\"],[0.1,\"#c51b7d\"],[0.2,\"#de77ae\"],[0.3,\"#f1b6da\"],[0.4,\"#fde0ef\"],[0.5,\"#f7f7f7\"],[0.6,\"#e6f5d0\"],[0.7,\"#b8e186\"],[0.8,\"#7fbc41\"],[0.9,\"#4d9221\"],[1,\"#276419\"]]},\"xaxis\":{\"gridcolor\":\"white\",\"linecolor\":\"white\",\"ticks\":\"\",\"title\":{\"standoff\":15},\"zerolinecolor\":\"white\",\"automargin\":true,\"zerolinewidth\":2},\"yaxis\":{\"gridcolor\":\"white\",\"linecolor\":\"white\",\"ticks\":\"\",\"title\":{\"standoff\":15},\"zerolinecolor\":\"white\",\"automargin\":true,\"zerolinewidth\":2},\"scene\":{\"xaxis\":{\"backgroundcolor\":\"#E5ECF6\",\"gridcolor\":\"white\",\"linecolor\":\"white\",\"showbackground\":true,\"ticks\":\"\",\"zerolinecolor\":\"white\",\"gridwidth\":2},\"yaxis\":{\"backgroundcolor\":\"#E5ECF6\",\"gridcolor\":\"white\",\"linecolor\":\"white\",\"showbackground\":true,\"ticks\":\"\",\"zerolinecolor\":\"white\",\"gridwidth\":2},\"zaxis\":{\"backgroundcolor\":\"#E5ECF6\",\"gridcolor\":\"white\",\"linecolor\":\"white\",\"showbackground\":true,\"ticks\":\"\",\"zerolinecolor\":\"white\",\"gridwidth\":2}},\"shapedefaults\":{\"line\":{\"color\":\"#2a3f5f\"}},\"annotationdefaults\":{\"arrowcolor\":\"#2a3f5f\",\"arrowhead\":0,\"arrowwidth\":1},\"geo\":{\"bgcolor\":\"white\",\"landcolor\":\"#E5ECF6\",\"subunitcolor\":\"white\",\"showland\":true,\"showlakes\":true,\"lakecolor\":\"white\"},\"title\":{\"x\":0.05},\"mapbox\":{\"style\":\"light\"}}},\"xaxis\":{\"anchor\":\"y\",\"domain\":[0.0,1.0],\"title\":{\"text\":\"Distance\"}},\"yaxis\":{\"anchor\":\"x\",\"domain\":[0.0,1.0],\"title\":{\"text\":\"Timestamp\"}},\"legend\":{\"tracegroupgap\":0},\"title\":{\"text\":\"Distance from Node 0 vs Time\"},\"shapes\":[{\"fillcolor\":\"grey\",\"layer\":\"below\",\"line\":{\"width\":0},\"opacity\":0.5,\"type\":\"rect\",\"x0\":140,\"x1\":260,\"xref\":\"x\",\"y0\":\"2024-01-01T00:00:00\",\"y1\":\"2024-01-01T01:01:40\",\"yref\":\"y\"}],\"annotations\":[{\"align\":\"center\",\"font\":{\"size\":12},\"showarrow\":false,\"text\":\"Lock chamber\",\"x\":200,\"y\":\"2024-01-01T01:01:40\"}]},                        {\"responsive\": true}                    ).then(function(){\n",
       "                            \n",
       "var gd = document.getElementById('629ec62e-5b91-4c55-bff7-1c9647c0a687');\n",
       "var x = new MutationObserver(function (mutations, observer) {{\n",
       "        var display = window.getComputedStyle(gd).display;\n",
       "        if (!display || display === 'none') {{\n",
       "            console.log([gd, 'removed!']);\n",
       "            Plotly.purge(gd);\n",
       "            observer.disconnect();\n",
       "        }}\n",
       "}});\n",
       "\n",
       "// Listen for the removal of the full notebook cells\n",
       "var notebookContainer = gd.closest('#notebook-container');\n",
       "if (notebookContainer) {{\n",
       "    x.observe(notebookContainer, {childList: true});\n",
       "}}\n",
       "\n",
       "// Listen for the clearing of the current output cell\n",
       "var outputEl = gd.closest('.output');\n",
       "if (outputEl) {{\n",
       "    x.observe(outputEl, {childList: true});\n",
       "}}\n",
       "\n",
       "                        })                };                });            </script>        </div>"
      ]
     },
     "metadata": {},
     "output_type": "display_data"
    }
   ],
   "source": [
    "# Calculate the distance from node '0' for each point in the DataFrame\n",
    "# Function to calculate distance\n",
    "def calculate_distance(geometry):\n",
    "    try:\n",
    "        point1 = (env.FG.nodes['0']['geometry'].y, env.FG.nodes['0']['geometry'].x)\n",
    "        point2 = (geometry.y, geometry.x)\n",
    "        return geodesic(point1, point2).meters\n",
    "    except KeyError as e:\n",
    "        print(f\"KeyError: {e}\")\n",
    "        return None\n",
    "\n",
    "# Apply the function to the 'Geometry' column\n",
    "vessel1_df = pd.DataFrame(vessel1.logbook)\n",
    "vessel1_df['Distance'] = vessel1_df['Geometry'].apply(calculate_distance)\n",
    "vessel1_df['Distance'] = vessel1_df['Distance'].round(1)\n",
    "\n",
    "# Apply the function to the 'Geometry' column\n",
    "vessel2_df = pd.DataFrame(vessel2.logbook)\n",
    "vessel2_df['Distance'] = vessel2_df['Geometry'].apply(calculate_distance)\n",
    "vessel2_df['Distance'] = vessel2_df['Distance'].round(1)\n",
    "\n",
    "# Create a Plotly scatter plot with lines connecting the points\n",
    "fig = px.scatter(vessel1_df, x='Distance', y='Timestamp', title='Distance from Node 0 vs Time')\n",
    "fig.add_scatter(x=vessel1_df['Distance'], y=vessel1_df['Timestamp'], mode='lines+markers', name=vessel1.name,\n",
    "                line=dict(color='red'), showlegend=True)\n",
    "fig.add_scatter(x=vessel2_df['Distance'], y=vessel2_df['Timestamp'], mode='lines+markers', name=vessel2.name,\n",
    "                line=dict(color='blue'), showlegend=True)\n",
    "\n",
    "# Get the y-axis range after adding the scatter plot\n",
    "y_range = fig.layout.yaxis.range\n",
    "\n",
    "if y_range is None:\n",
    "    # If y_range is None, calculate it based on the data\n",
    "    y_range = [vessel1_df['Timestamp'].min(), vessel2_df['Timestamp'].max()]\n",
    "\n",
    "# Add a grey patch in the background from 140 m to 260 m in the horizontal and the entire y axis in the vertical\n",
    "fig.add_shape(\n",
    "    type=\"rect\",\n",
    "    xref=\"x\",\n",
    "    yref=\"y\",\n",
    "    x0=140,\n",
    "    x1=260,\n",
    "    y0=y_range[0],\n",
    "    y1=y_range[1],\n",
    "    fillcolor=\"grey\",\n",
    "    opacity=0.5,\n",
    "    layer=\"below\",\n",
    "    line_width=0,\n",
    ")\n",
    "\n",
    "# Add annotation for the grey patch\n",
    "fig.add_annotation(\n",
    "    x=200,  # Position the annotation in the middle of the patch\n",
    "    y=y_range[1],  # Slightly above the top of the plot\n",
    "    text=\"Lock chamber\",\n",
    "    showarrow=False,\n",
    "    font=dict(size=12),\n",
    "    align=\"center\"\n",
    ")\n",
    "# Create the DataTables\n",
    "vessel1_df['Timestamp'] = vessel1_df['Timestamp'].astype(str)\n",
    "vessel1_df_2 = vessel1_df[['Message', 'Timestamp', 'Distance']]\n",
    "\n",
    "vessel2_df['Timestamp'] = vessel2_df['Timestamp'].astype(str)\n",
    "vessel2_df_2 = vessel2_df[['Message', 'Timestamp', 'Distance']]\n",
    "\n",
    "fig"
   ]
  },
  {
   "cell_type": "code",
   "execution_count": 27,
   "id": "22813834-a789-4846-b73b-8fba59a5ed7b",
   "metadata": {},
   "outputs": [],
   "source": [
    "def calculate_distance(geometry):\n",
    "    try:\n",
    "        point1 = (env.FG.nodes['0']['geometry'].y, env.FG.nodes['0']['geometry'].x)\n",
    "        point2 = (geometry.y, geometry.x)\n",
    "        return geodesic(point1, point2).meters\n",
    "    except KeyError as e:\n",
    "        print(f\"KeyError: {e}\")\n",
    "        return None"
   ]
  },
  {
   "cell_type": "code",
   "execution_count": 28,
   "id": "2a158569-7f56-42f8-a7bd-56f49b3eac30",
   "metadata": {},
   "outputs": [
    {
     "data": {
      "text/html": [
       "<div>\n",
       "<style scoped>\n",
       "    .dataframe tbody tr th:only-of-type {\n",
       "        vertical-align: middle;\n",
       "    }\n",
       "\n",
       "    .dataframe tbody tr th {\n",
       "        vertical-align: top;\n",
       "    }\n",
       "\n",
       "    .dataframe thead th {\n",
       "        text-align: right;\n",
       "    }\n",
       "</style>\n",
       "<table border=\"1\" class=\"dataframe\">\n",
       "  <thead>\n",
       "    <tr style=\"text-align: right;\">\n",
       "      <th></th>\n",
       "      <th>Message</th>\n",
       "      <th>Timestamp</th>\n",
       "      <th>Value</th>\n",
       "      <th>Geometry</th>\n",
       "      <th>Distance</th>\n",
       "    </tr>\n",
       "  </thead>\n",
       "  <tbody>\n",
       "    <tr>\n",
       "      <th>0</th>\n",
       "      <td>Sailing from node 0 to node 1 start</td>\n",
       "      <td>2024-01-01 00:00:00.000000</td>\n",
       "      <td>{'origin': '0', 'destination': '1', 'route': [...</td>\n",
       "      <td>POINT (0 0)</td>\n",
       "      <td>0.0</td>\n",
       "    </tr>\n",
       "    <tr>\n",
       "      <th>1</th>\n",
       "      <td>Sailing to position in line-up area start</td>\n",
       "      <td>2024-01-01 00:00:00.000000</td>\n",
       "      <td>{'origin': '0', 'destination': '1', 'route': [...</td>\n",
       "      <td>POINT (0 0)</td>\n",
       "      <td>0.0</td>\n",
       "    </tr>\n",
       "    <tr>\n",
       "      <th>2</th>\n",
       "      <td>Sailing to position in line-up area stop</td>\n",
       "      <td>2024-01-01 00:00:28.888889</td>\n",
       "      <td>{'origin': '0', 'destination': '1', 'route': [...</td>\n",
       "      <td>POINT (0.0005839049346777 0)</td>\n",
       "      <td>65.0</td>\n",
       "    </tr>\n",
       "    <tr>\n",
       "      <th>3</th>\n",
       "      <td>Sailing to end of line-up area start</td>\n",
       "      <td>2024-01-01 00:00:28.888889</td>\n",
       "      <td>{'origin': '0', 'destination': '1', 'route': [...</td>\n",
       "      <td>POINT (0.0005839049346777 0)</td>\n",
       "      <td>65.0</td>\n",
       "    </tr>\n",
       "    <tr>\n",
       "      <th>4</th>\n",
       "      <td>Sailing to end of line-up area stop</td>\n",
       "      <td>2024-01-01 00:01:50.370370</td>\n",
       "      <td>{'origin': '0', 'destination': '1', 'route': [...</td>\n",
       "      <td>POINT (0.0010779783409434 0)</td>\n",
       "      <td>120.0</td>\n",
       "    </tr>\n",
       "    <tr>\n",
       "      <th>5</th>\n",
       "      <td>Sailing to first set of lock doors start</td>\n",
       "      <td>2024-01-01 00:01:50.370370</td>\n",
       "      <td>{'origin': '0', 'destination': '1', 'route': [...</td>\n",
       "      <td>POINT (0.0010779783409434 0)</td>\n",
       "      <td>120.0</td>\n",
       "    </tr>\n",
       "    <tr>\n",
       "      <th>6</th>\n",
       "      <td>Sailing to first set of lock doors stop</td>\n",
       "      <td>2024-01-01 00:02:20.000000</td>\n",
       "      <td>{'origin': '0', 'destination': '1', 'route': [...</td>\n",
       "      <td>POINT (0.0012576413977673 0)</td>\n",
       "      <td>140.0</td>\n",
       "    </tr>\n",
       "    <tr>\n",
       "      <th>7</th>\n",
       "      <td>Sailing to assigned location in lock start</td>\n",
       "      <td>2024-01-01 00:02:20.000000</td>\n",
       "      <td>{'origin': '0', 'destination': '1', 'route': [...</td>\n",
       "      <td>POINT (0.0012576413977673 0)</td>\n",
       "      <td>140.0</td>\n",
       "    </tr>\n",
       "    <tr>\n",
       "      <th>8</th>\n",
       "      <td>Sailing to assigned location in lock stop</td>\n",
       "      <td>2024-01-01 00:03:56.296296</td>\n",
       "      <td>{'origin': '0', 'destination': '1', 'route': [...</td>\n",
       "      <td>POINT (0.001841546332445 0)</td>\n",
       "      <td>205.0</td>\n",
       "    </tr>\n",
       "    <tr>\n",
       "      <th>9</th>\n",
       "      <td>Passing lock start</td>\n",
       "      <td>2024-01-01 00:03:56.296296</td>\n",
       "      <td>{'origin': '0', 'destination': '1', 'route': [...</td>\n",
       "      <td>POINT (0.001841546332445 0)</td>\n",
       "      <td>205.0</td>\n",
       "    </tr>\n",
       "    <tr>\n",
       "      <th>10</th>\n",
       "      <td>Passing lock stop</td>\n",
       "      <td>2024-01-01 00:28:56.296296</td>\n",
       "      <td>{'origin': '0', 'destination': '1', 'route': [...</td>\n",
       "      <td>POINT (0.001841546332445 0)</td>\n",
       "      <td>205.0</td>\n",
       "    </tr>\n",
       "    <tr>\n",
       "      <th>11</th>\n",
       "      <td>Sailing to second set of lock doors start</td>\n",
       "      <td>2024-01-01 00:28:56.296296</td>\n",
       "      <td>{'origin': '0', 'destination': '1', 'route': [...</td>\n",
       "      <td>POINT (0.001841546332445 0)</td>\n",
       "      <td>205.0</td>\n",
       "    </tr>\n",
       "    <tr>\n",
       "      <th>12</th>\n",
       "      <td>Sailing to second set of lock doors stop</td>\n",
       "      <td>2024-01-01 00:30:17.777778</td>\n",
       "      <td>{'origin': '0', 'destination': '1', 'route': [...</td>\n",
       "      <td>POINT (0.0023355586022327 0)</td>\n",
       "      <td>260.0</td>\n",
       "    </tr>\n",
       "    <tr>\n",
       "      <th>13</th>\n",
       "      <td>Sailing to line-up area start</td>\n",
       "      <td>2024-01-01 00:30:17.777778</td>\n",
       "      <td>{'origin': '0', 'destination': '1', 'route': [...</td>\n",
       "      <td>POINT (0.0023355586022327 0)</td>\n",
       "      <td>260.0</td>\n",
       "    </tr>\n",
       "    <tr>\n",
       "      <th>14</th>\n",
       "      <td>Sailing to line-up area stop</td>\n",
       "      <td>2024-01-01 00:30:24.444445</td>\n",
       "      <td>{'origin': '0', 'destination': '1', 'route': [...</td>\n",
       "      <td>POINT (0.0025152216590566 0)</td>\n",
       "      <td>280.0</td>\n",
       "    </tr>\n",
       "    <tr>\n",
       "      <th>15</th>\n",
       "      <td>Passing line-up area start</td>\n",
       "      <td>2024-01-01 00:30:24.444445</td>\n",
       "      <td>{'origin': '0', 'destination': '1', 'route': [...</td>\n",
       "      <td>POINT (0.0025152216590566 0)</td>\n",
       "      <td>280.0</td>\n",
       "    </tr>\n",
       "    <tr>\n",
       "      <th>16</th>\n",
       "      <td>Passing line-up area stop</td>\n",
       "      <td>2024-01-01 00:31:04.444445</td>\n",
       "      <td>{'origin': '0', 'destination': '1', 'route': [...</td>\n",
       "      <td>POINT (0.0035932 0)</td>\n",
       "      <td>400.0</td>\n",
       "    </tr>\n",
       "    <tr>\n",
       "      <th>17</th>\n",
       "      <td>Sailing from node 0 to node 1 stop</td>\n",
       "      <td>2024-01-01 00:31:04.444445</td>\n",
       "      <td>{'origin': '0', 'destination': '1', 'route': [...</td>\n",
       "      <td>POINT (0.0035932 0)</td>\n",
       "      <td>400.0</td>\n",
       "    </tr>\n",
       "  </tbody>\n",
       "</table>\n",
       "</div>"
      ],
      "text/plain": [
       "                                       Message                  Timestamp  \\\n",
       "0          Sailing from node 0 to node 1 start 2024-01-01 00:00:00.000000   \n",
       "1    Sailing to position in line-up area start 2024-01-01 00:00:00.000000   \n",
       "2     Sailing to position in line-up area stop 2024-01-01 00:00:28.888889   \n",
       "3         Sailing to end of line-up area start 2024-01-01 00:00:28.888889   \n",
       "4          Sailing to end of line-up area stop 2024-01-01 00:01:50.370370   \n",
       "5     Sailing to first set of lock doors start 2024-01-01 00:01:50.370370   \n",
       "6      Sailing to first set of lock doors stop 2024-01-01 00:02:20.000000   \n",
       "7   Sailing to assigned location in lock start 2024-01-01 00:02:20.000000   \n",
       "8    Sailing to assigned location in lock stop 2024-01-01 00:03:56.296296   \n",
       "9                           Passing lock start 2024-01-01 00:03:56.296296   \n",
       "10                           Passing lock stop 2024-01-01 00:28:56.296296   \n",
       "11   Sailing to second set of lock doors start 2024-01-01 00:28:56.296296   \n",
       "12    Sailing to second set of lock doors stop 2024-01-01 00:30:17.777778   \n",
       "13               Sailing to line-up area start 2024-01-01 00:30:17.777778   \n",
       "14                Sailing to line-up area stop 2024-01-01 00:30:24.444445   \n",
       "15                  Passing line-up area start 2024-01-01 00:30:24.444445   \n",
       "16                   Passing line-up area stop 2024-01-01 00:31:04.444445   \n",
       "17          Sailing from node 0 to node 1 stop 2024-01-01 00:31:04.444445   \n",
       "\n",
       "                                                Value  \\\n",
       "0   {'origin': '0', 'destination': '1', 'route': [...   \n",
       "1   {'origin': '0', 'destination': '1', 'route': [...   \n",
       "2   {'origin': '0', 'destination': '1', 'route': [...   \n",
       "3   {'origin': '0', 'destination': '1', 'route': [...   \n",
       "4   {'origin': '0', 'destination': '1', 'route': [...   \n",
       "5   {'origin': '0', 'destination': '1', 'route': [...   \n",
       "6   {'origin': '0', 'destination': '1', 'route': [...   \n",
       "7   {'origin': '0', 'destination': '1', 'route': [...   \n",
       "8   {'origin': '0', 'destination': '1', 'route': [...   \n",
       "9   {'origin': '0', 'destination': '1', 'route': [...   \n",
       "10  {'origin': '0', 'destination': '1', 'route': [...   \n",
       "11  {'origin': '0', 'destination': '1', 'route': [...   \n",
       "12  {'origin': '0', 'destination': '1', 'route': [...   \n",
       "13  {'origin': '0', 'destination': '1', 'route': [...   \n",
       "14  {'origin': '0', 'destination': '1', 'route': [...   \n",
       "15  {'origin': '0', 'destination': '1', 'route': [...   \n",
       "16  {'origin': '0', 'destination': '1', 'route': [...   \n",
       "17  {'origin': '0', 'destination': '1', 'route': [...   \n",
       "\n",
       "                        Geometry  Distance  \n",
       "0                    POINT (0 0)       0.0  \n",
       "1                    POINT (0 0)       0.0  \n",
       "2   POINT (0.0005839049346777 0)      65.0  \n",
       "3   POINT (0.0005839049346777 0)      65.0  \n",
       "4   POINT (0.0010779783409434 0)     120.0  \n",
       "5   POINT (0.0010779783409434 0)     120.0  \n",
       "6   POINT (0.0012576413977673 0)     140.0  \n",
       "7   POINT (0.0012576413977673 0)     140.0  \n",
       "8    POINT (0.001841546332445 0)     205.0  \n",
       "9    POINT (0.001841546332445 0)     205.0  \n",
       "10   POINT (0.001841546332445 0)     205.0  \n",
       "11   POINT (0.001841546332445 0)     205.0  \n",
       "12  POINT (0.0023355586022327 0)     260.0  \n",
       "13  POINT (0.0023355586022327 0)     260.0  \n",
       "14  POINT (0.0025152216590566 0)     280.0  \n",
       "15  POINT (0.0025152216590566 0)     280.0  \n",
       "16           POINT (0.0035932 0)     400.0  \n",
       "17           POINT (0.0035932 0)     400.0  "
      ]
     },
     "execution_count": 28,
     "metadata": {},
     "output_type": "execute_result"
    }
   ],
   "source": [
    "# Apply the function to the 'Geometry' column\n",
    "vessel_df = pd.DataFrame(vessel1.logbook)\n",
    "vessel_df['Distance'] = vessel_df['Geometry'].apply(calculate_distance)\n",
    "vessel_df['Distance'] = vessel_df['Distance'].round(1)\n",
    "vessel_df"
   ]
  },
  {
   "cell_type": "code",
   "execution_count": 29,
   "id": "080a87e4-1832-435f-87cc-73fdfcf2359f",
   "metadata": {},
   "outputs": [
    {
     "data": {
      "text/html": [
       "<div>\n",
       "<style scoped>\n",
       "    .dataframe tbody tr th:only-of-type {\n",
       "        vertical-align: middle;\n",
       "    }\n",
       "\n",
       "    .dataframe tbody tr th {\n",
       "        vertical-align: top;\n",
       "    }\n",
       "\n",
       "    .dataframe thead th {\n",
       "        text-align: right;\n",
       "    }\n",
       "</style>\n",
       "<table border=\"1\" class=\"dataframe\">\n",
       "  <thead>\n",
       "    <tr style=\"text-align: right;\">\n",
       "      <th></th>\n",
       "      <th>Message</th>\n",
       "      <th>Timestamp</th>\n",
       "      <th>Value</th>\n",
       "      <th>Geometry</th>\n",
       "      <th>Distance</th>\n",
       "    </tr>\n",
       "  </thead>\n",
       "  <tbody>\n",
       "    <tr>\n",
       "      <th>0</th>\n",
       "      <td>Sailing from node 1 to node 0 start</td>\n",
       "      <td>2024-01-01 00:10:00.000000</td>\n",
       "      <td>{'origin': '1', 'destination': '0', 'route': [...</td>\n",
       "      <td>POINT (0.0035932 0)</td>\n",
       "      <td>400.0</td>\n",
       "    </tr>\n",
       "    <tr>\n",
       "      <th>1</th>\n",
       "      <td>Sailing to position in line-up area start</td>\n",
       "      <td>2024-01-01 00:10:00.000000</td>\n",
       "      <td>{'origin': '1', 'destination': '0', 'route': [...</td>\n",
       "      <td>POINT (0.0035932 0)</td>\n",
       "      <td>400.0</td>\n",
       "    </tr>\n",
       "    <tr>\n",
       "      <th>2</th>\n",
       "      <td>Sailing to position in line-up area stop</td>\n",
       "      <td>2024-01-01 00:10:28.888889</td>\n",
       "      <td>{'origin': '1', 'destination': '0', 'route': [...</td>\n",
       "      <td>POINT (0.0030092950653223 0)</td>\n",
       "      <td>335.0</td>\n",
       "    </tr>\n",
       "    <tr>\n",
       "      <th>3</th>\n",
       "      <td>Waiting in line-up area start</td>\n",
       "      <td>2024-01-01 00:10:28.888889</td>\n",
       "      <td>{'origin': '1', 'destination': '0', 'route': [...</td>\n",
       "      <td>POINT (0.0030092950653223 0)</td>\n",
       "      <td>335.0</td>\n",
       "    </tr>\n",
       "    <tr>\n",
       "      <th>4</th>\n",
       "      <td>Waiting in line-up area stop</td>\n",
       "      <td>2024-01-01 00:31:04.444445</td>\n",
       "      <td>{'origin': '1', 'destination': '0', 'route': [...</td>\n",
       "      <td>POINT (0.0030092950653223 0)</td>\n",
       "      <td>335.0</td>\n",
       "    </tr>\n",
       "    <tr>\n",
       "      <th>5</th>\n",
       "      <td>Sailing to end of line-up area start</td>\n",
       "      <td>2024-01-01 00:31:04.444445</td>\n",
       "      <td>{'origin': '1', 'destination': '0', 'route': [...</td>\n",
       "      <td>POINT (0.0030092950653223 0)</td>\n",
       "      <td>335.0</td>\n",
       "    </tr>\n",
       "    <tr>\n",
       "      <th>6</th>\n",
       "      <td>Sailing to end of line-up area stop</td>\n",
       "      <td>2024-01-01 00:32:25.925926</td>\n",
       "      <td>{'origin': '1', 'destination': '0', 'route': [...</td>\n",
       "      <td>POINT (0.0025152216590566 0)</td>\n",
       "      <td>280.0</td>\n",
       "    </tr>\n",
       "    <tr>\n",
       "      <th>7</th>\n",
       "      <td>Sailing to first set of lock doors start</td>\n",
       "      <td>2024-01-01 00:32:25.925926</td>\n",
       "      <td>{'origin': '1', 'destination': '0', 'route': [...</td>\n",
       "      <td>POINT (0.0025152216590566 0)</td>\n",
       "      <td>280.0</td>\n",
       "    </tr>\n",
       "    <tr>\n",
       "      <th>8</th>\n",
       "      <td>Sailing to first set of lock doors stop</td>\n",
       "      <td>2024-01-01 00:32:55.555556</td>\n",
       "      <td>{'origin': '1', 'destination': '0', 'route': [...</td>\n",
       "      <td>POINT (0.0023355586022327 0)</td>\n",
       "      <td>260.0</td>\n",
       "    </tr>\n",
       "    <tr>\n",
       "      <th>9</th>\n",
       "      <td>Sailing to assigned location in lock start</td>\n",
       "      <td>2024-01-01 00:32:55.555556</td>\n",
       "      <td>{'origin': '1', 'destination': '0', 'route': [...</td>\n",
       "      <td>POINT (0.0023355586022327 0)</td>\n",
       "      <td>260.0</td>\n",
       "    </tr>\n",
       "    <tr>\n",
       "      <th>10</th>\n",
       "      <td>Sailing to assigned location in lock stop</td>\n",
       "      <td>2024-01-01 00:34:31.851852</td>\n",
       "      <td>{'origin': '1', 'destination': '0', 'route': [...</td>\n",
       "      <td>POINT (0.001751653667555 0)</td>\n",
       "      <td>195.0</td>\n",
       "    </tr>\n",
       "    <tr>\n",
       "      <th>11</th>\n",
       "      <td>Passing lock start</td>\n",
       "      <td>2024-01-01 00:34:31.851852</td>\n",
       "      <td>{'origin': '1', 'destination': '0', 'route': [...</td>\n",
       "      <td>POINT (0.001751653667555 0)</td>\n",
       "      <td>195.0</td>\n",
       "    </tr>\n",
       "    <tr>\n",
       "      <th>12</th>\n",
       "      <td>Passing lock stop</td>\n",
       "      <td>2024-01-01 00:59:31.851852</td>\n",
       "      <td>{'origin': '1', 'destination': '0', 'route': [...</td>\n",
       "      <td>POINT (0.001751653667555 0)</td>\n",
       "      <td>195.0</td>\n",
       "    </tr>\n",
       "    <tr>\n",
       "      <th>13</th>\n",
       "      <td>Sailing to second set of lock doors start</td>\n",
       "      <td>2024-01-01 00:59:31.851852</td>\n",
       "      <td>{'origin': '1', 'destination': '0', 'route': [...</td>\n",
       "      <td>POINT (0.001751653667555 0)</td>\n",
       "      <td>195.0</td>\n",
       "    </tr>\n",
       "    <tr>\n",
       "      <th>14</th>\n",
       "      <td>Sailing to second set of lock doors stop</td>\n",
       "      <td>2024-01-01 01:00:53.333334</td>\n",
       "      <td>{'origin': '1', 'destination': '0', 'route': [...</td>\n",
       "      <td>POINT (0.0012576413977673 0)</td>\n",
       "      <td>140.0</td>\n",
       "    </tr>\n",
       "    <tr>\n",
       "      <th>15</th>\n",
       "      <td>Sailing to line-up area start</td>\n",
       "      <td>2024-01-01 01:00:53.333334</td>\n",
       "      <td>{'origin': '1', 'destination': '0', 'route': [...</td>\n",
       "      <td>POINT (0.0012576413977673 0)</td>\n",
       "      <td>140.0</td>\n",
       "    </tr>\n",
       "    <tr>\n",
       "      <th>16</th>\n",
       "      <td>Sailing to line-up area stop</td>\n",
       "      <td>2024-01-01 01:01:00.000000</td>\n",
       "      <td>{'origin': '1', 'destination': '0', 'route': [...</td>\n",
       "      <td>POINT (0.0010779783409434 0)</td>\n",
       "      <td>120.0</td>\n",
       "    </tr>\n",
       "    <tr>\n",
       "      <th>17</th>\n",
       "      <td>Passing line-up area start</td>\n",
       "      <td>2024-01-01 01:01:00.000000</td>\n",
       "      <td>{'origin': '1', 'destination': '0', 'route': [...</td>\n",
       "      <td>POINT (0.0010779783409434 0)</td>\n",
       "      <td>120.0</td>\n",
       "    </tr>\n",
       "    <tr>\n",
       "      <th>18</th>\n",
       "      <td>Passing line-up area stop</td>\n",
       "      <td>2024-01-01 01:01:40.000000</td>\n",
       "      <td>{'origin': '1', 'destination': '0', 'route': [...</td>\n",
       "      <td>POINT (0 0)</td>\n",
       "      <td>0.0</td>\n",
       "    </tr>\n",
       "    <tr>\n",
       "      <th>19</th>\n",
       "      <td>Sailing from node 1 to node 0 stop</td>\n",
       "      <td>2024-01-01 01:01:40.000000</td>\n",
       "      <td>{'origin': '1', 'destination': '0', 'route': [...</td>\n",
       "      <td>POINT (0 0)</td>\n",
       "      <td>0.0</td>\n",
       "    </tr>\n",
       "  </tbody>\n",
       "</table>\n",
       "</div>"
      ],
      "text/plain": [
       "                                       Message                  Timestamp  \\\n",
       "0          Sailing from node 1 to node 0 start 2024-01-01 00:10:00.000000   \n",
       "1    Sailing to position in line-up area start 2024-01-01 00:10:00.000000   \n",
       "2     Sailing to position in line-up area stop 2024-01-01 00:10:28.888889   \n",
       "3                Waiting in line-up area start 2024-01-01 00:10:28.888889   \n",
       "4                 Waiting in line-up area stop 2024-01-01 00:31:04.444445   \n",
       "5         Sailing to end of line-up area start 2024-01-01 00:31:04.444445   \n",
       "6          Sailing to end of line-up area stop 2024-01-01 00:32:25.925926   \n",
       "7     Sailing to first set of lock doors start 2024-01-01 00:32:25.925926   \n",
       "8      Sailing to first set of lock doors stop 2024-01-01 00:32:55.555556   \n",
       "9   Sailing to assigned location in lock start 2024-01-01 00:32:55.555556   \n",
       "10   Sailing to assigned location in lock stop 2024-01-01 00:34:31.851852   \n",
       "11                          Passing lock start 2024-01-01 00:34:31.851852   \n",
       "12                           Passing lock stop 2024-01-01 00:59:31.851852   \n",
       "13   Sailing to second set of lock doors start 2024-01-01 00:59:31.851852   \n",
       "14    Sailing to second set of lock doors stop 2024-01-01 01:00:53.333334   \n",
       "15               Sailing to line-up area start 2024-01-01 01:00:53.333334   \n",
       "16                Sailing to line-up area stop 2024-01-01 01:01:00.000000   \n",
       "17                  Passing line-up area start 2024-01-01 01:01:00.000000   \n",
       "18                   Passing line-up area stop 2024-01-01 01:01:40.000000   \n",
       "19          Sailing from node 1 to node 0 stop 2024-01-01 01:01:40.000000   \n",
       "\n",
       "                                                Value  \\\n",
       "0   {'origin': '1', 'destination': '0', 'route': [...   \n",
       "1   {'origin': '1', 'destination': '0', 'route': [...   \n",
       "2   {'origin': '1', 'destination': '0', 'route': [...   \n",
       "3   {'origin': '1', 'destination': '0', 'route': [...   \n",
       "4   {'origin': '1', 'destination': '0', 'route': [...   \n",
       "5   {'origin': '1', 'destination': '0', 'route': [...   \n",
       "6   {'origin': '1', 'destination': '0', 'route': [...   \n",
       "7   {'origin': '1', 'destination': '0', 'route': [...   \n",
       "8   {'origin': '1', 'destination': '0', 'route': [...   \n",
       "9   {'origin': '1', 'destination': '0', 'route': [...   \n",
       "10  {'origin': '1', 'destination': '0', 'route': [...   \n",
       "11  {'origin': '1', 'destination': '0', 'route': [...   \n",
       "12  {'origin': '1', 'destination': '0', 'route': [...   \n",
       "13  {'origin': '1', 'destination': '0', 'route': [...   \n",
       "14  {'origin': '1', 'destination': '0', 'route': [...   \n",
       "15  {'origin': '1', 'destination': '0', 'route': [...   \n",
       "16  {'origin': '1', 'destination': '0', 'route': [...   \n",
       "17  {'origin': '1', 'destination': '0', 'route': [...   \n",
       "18  {'origin': '1', 'destination': '0', 'route': [...   \n",
       "19  {'origin': '1', 'destination': '0', 'route': [...   \n",
       "\n",
       "                        Geometry  Distance  \n",
       "0            POINT (0.0035932 0)     400.0  \n",
       "1            POINT (0.0035932 0)     400.0  \n",
       "2   POINT (0.0030092950653223 0)     335.0  \n",
       "3   POINT (0.0030092950653223 0)     335.0  \n",
       "4   POINT (0.0030092950653223 0)     335.0  \n",
       "5   POINT (0.0030092950653223 0)     335.0  \n",
       "6   POINT (0.0025152216590566 0)     280.0  \n",
       "7   POINT (0.0025152216590566 0)     280.0  \n",
       "8   POINT (0.0023355586022327 0)     260.0  \n",
       "9   POINT (0.0023355586022327 0)     260.0  \n",
       "10   POINT (0.001751653667555 0)     195.0  \n",
       "11   POINT (0.001751653667555 0)     195.0  \n",
       "12   POINT (0.001751653667555 0)     195.0  \n",
       "13   POINT (0.001751653667555 0)     195.0  \n",
       "14  POINT (0.0012576413977673 0)     140.0  \n",
       "15  POINT (0.0012576413977673 0)     140.0  \n",
       "16  POINT (0.0010779783409434 0)     120.0  \n",
       "17  POINT (0.0010779783409434 0)     120.0  \n",
       "18                   POINT (0 0)       0.0  \n",
       "19                   POINT (0 0)       0.0  "
      ]
     },
     "execution_count": 29,
     "metadata": {},
     "output_type": "execute_result"
    }
   ],
   "source": [
    "# Apply the function to the 'Geometry' column\n",
    "vessel_df = pd.DataFrame(vessel2.logbook)\n",
    "vessel_df['Distance'] = vessel_df['Geometry'].apply(calculate_distance)\n",
    "vessel_df['Distance'] = vessel_df['Distance'].round(1)\n",
    "vessel_df"
   ]
  },
  {
   "cell_type": "code",
   "execution_count": null,
   "id": "9210c99d-d3e7-46b3-8d8a-f8c842956d3d",
   "metadata": {},
   "outputs": [],
   "source": []
  }
 ],
 "metadata": {
  "kernelspec": {
   "display_name": "Python 3 (ipykernel)",
   "language": "python",
   "name": "python3"
  },
  "language_info": {
   "codemirror_mode": {
    "name": "ipython",
    "version": 3
   },
   "file_extension": ".py",
   "mimetype": "text/x-python",
   "name": "python",
   "nbconvert_exporter": "python",
   "pygments_lexer": "ipython3",
   "version": "3.11.8"
  }
 },
 "nbformat": 4,
 "nbformat_minor": 5
}
