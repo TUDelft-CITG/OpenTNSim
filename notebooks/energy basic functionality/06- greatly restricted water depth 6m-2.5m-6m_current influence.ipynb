{
 "cells": [
  {
   "cell_type": "markdown",
   "id": "8415eddf",
   "metadata": {},
   "source": [
    "## greatly restricted water depth 6m-2.5m-6m_current influence_fix vessel velocity_fuel consumption and emissions "
   ]
  },
  {
   "cell_type": "markdown",
   "id": "37893e32",
   "metadata": {},
   "source": [
    "## Basic simulation - consumes energy-van Dosser actual draught&payload\n",
    "In this notebook, we are going to make a simulation which forces a vessel to move over a certain 1D waterway network. It tries to give one an understanding of the most basic core functions of OpenTNSim and teach one the requirements to set-up a basic OpenTNSim model run. \n",
    "\n",
    "We add some properties to the graph (depth) and the vessel (VesselProperties, HasContainer, ConsumesEnergy) in order to calculate resistance, required power, "
   ]
  },
  {
   "cell_type": "markdown",
   "id": "9e12bfde",
   "metadata": {},
   "source": [
    "### Imports\n",
    "Import the required libraries"
   ]
  },
  {
   "cell_type": "code",
   "execution_count": 30,
   "id": "d4e73aa6",
   "metadata": {},
   "outputs": [],
   "source": [
    "# package(s) related to time, space and id\n",
    "import datetime\n",
    "\n",
    "# Used for mathematical functions\n",
    "import math\n",
    "import platform\n",
    "import time\n",
    "\n",
    "import matplotlib.pyplot as plt\n",
    "\n",
    "# Used for making the graph to visualize our problem\n",
    "import networkx as nx\n",
    "\n",
    "# package(s) for data handling\n",
    "import numpy as np\n",
    "import pandas as pd\n",
    "\n",
    "# spatial libraries\n",
    "import pyproj\n",
    "import shapely.geometry\n",
    "\n",
    "# you need these dependencies (you can get these from anaconda)\n",
    "# package(s) related to the simulation\n",
    "import simpy\n",
    "from simplekml import Kml, Style\n",
    "\n",
    "# OpenTNSim\n",
    "import opentnsim"
   ]
  },
  {
   "cell_type": "markdown",
   "id": "50a15fcc",
   "metadata": {},
   "source": [
    "### Create graph\n",
    "We first need to create a 1D network (a graph) along which the vessel will move. A graph contains edges (blue dots in plot below) and vertices (black lines in plot below). For this example, we will construct a network consisting of 4 nodes in a straight line. Since we would like to have two-way traffic, we add two edges between each pair of nodes: one from left to right, and another the other way around (however, we could easily apply one-way traffic as well by remove one of the two edges). Consequently, we arrive at a total of 4 nodes, and 6 edges.\n",
    "\n",
    "Due to the nature of discrete modelling in which the time step is dependent on the activities (in this example: forcing a ship to move from node to node from its origin to its destination), it is important to add OpenTNSim mix-ins to the nodes in such a way we could identify the node (mix-in Identifiable, which imports a name and imports/creates an ID), and to locate the node (mix-in Locatable, which gives the node a geometry).\n"
   ]
  },
  {
   "cell_type": "code",
   "execution_count": 31,
   "id": "d5683a95",
   "metadata": {},
   "outputs": [
    {
     "data": {
      "image/png": "[encoded data removed]",
      "text/plain": [
       "<Figure size 432x288 with 1 Axes>"
      ]
     },
     "metadata": {},
     "output_type": "display_data"
    }
   ],
   "source": [
    "FG = nx.DiGraph()\n",
    "nodes = []\n",
    "path = []\n",
    "\n",
    "Node = type('Site', (opentnsim.core.Identifiable, opentnsim.core.Locatable), {})\n",
    "\n",
    "data_node_1 = {\"name\": \"Node 1\",\n",
    "               \"geometry\": shapely.geometry.Point(0, 0)}\n",
    "data_node_2 = {\"name\": \"Node 2\",\n",
    "               \"geometry\": shapely.geometry.Point(0.8983, 0)}  # 0.8983 degree =100km\n",
    "data_node_3 = {\"name\": \"Node 3\",\n",
    "               \"geometry\": shapely.geometry.Point(1.7966, 0)}   # 1.7966 degree =200km\n",
    "data_node_4 = {\"name\": \"Node 4\",\n",
    "               \"geometry\": shapely.geometry.Point(2.6949, 0)}    # 2.6949 degree =300km\n",
    "\n",
    "node_1 = Node(**data_node_1)\n",
    "node_2 = Node(**data_node_2)\n",
    "node_3 = Node(**data_node_3)\n",
    "node_4 = Node(**data_node_4)\n",
    "\n",
    "nodes = [node_1, node_2, node_3, node_4]\n",
    "\n",
    "positions = {}\n",
    "for node in nodes:\n",
    "    positions[node.name] = (node.geometry.x, node.geometry.y)\n",
    "    FG.add_node(node.name, geometry = node.geometry)\n",
    "\n",
    "path = [[node_1, node_2], # From node 1 to node 2\n",
    "        [node_2, node_3], # From node 2 to node 3\n",
    "        [node_3, node_4], # From node 3 to node 4\n",
    "        [node_4, node_3], # From node 4 to node 3\n",
    "        [node_3, node_2], # From node 3 to node 2\n",
    "        [node_2, node_1]] # From node 2 to node 1\n",
    "\n",
    "for edge in path:\n",
    "    # For the energy consumption calculation we add info to the graph. We need depth info for resistance.\n",
    "    # NB: the CalculateEnergy routine expects the graph to have \"Info\" that contains \"GeneralDepth\" \n",
    "    #     this may not be very generic!\n",
    "    if edge == [node_2, node_3] or edge == [node_3, node_2]:\n",
    "        FG.add_edge(edge[0].name, edge[1].name, weight = 1, Info = {\"GeneralDepth\": 2.5})\n",
    "    else:\n",
    "        FG.add_edge(edge[0].name, edge[1].name, weight = 1, Info = {\"GeneralDepth\": 6})\n",
    "    \n",
    "# env.FG = FG\n",
    "nx.draw(FG, positions)\n",
    "plt.show()"
   ]
  },
  {
   "cell_type": "code",
   "execution_count": 32,
   "id": "3a375d91",
   "metadata": {},
   "outputs": [
    {
     "name": "stdout",
     "output_type": "stream",
     "text": [
      "General depth for edge ('Node 1', 'Node 2') is 6\n",
      "General depth for edge ('Node 2', 'Node 3') is 2.5\n",
      "General depth for edge ('Node 2', 'Node 1') is 6\n",
      "General depth for edge ('Node 3', 'Node 4') is 6\n",
      "General depth for edge ('Node 3', 'Node 2') is 2.5\n",
      "General depth for edge ('Node 4', 'Node 3') is 6\n"
     ]
    }
   ],
   "source": [
    "# This cell just shows that now a depth of 10 m is added to the edges. \n",
    "# You can use this to vary depths, e.g. make the middle edge shallower. Note that edges are bi-directional \n",
    "for edge in FG.edges:\n",
    "    print('General depth for edge {} is {}'.format(edge, FG.get_edge_data(edge[0], edge[1])[\"Info\"][\"GeneralDepth\"]))"
   ]
  },
  {
   "cell_type": "markdown",
   "id": "35391829",
   "metadata": {},
   "source": [
    "### Create vessel - add VesselProperties and ConsumesEnergy mixins\n",
    "The following mix-ins are required for each vessel in our problem: Identifiable (gives the vessel a name and a random ID), Movable (gives that the object (*vessel*) can move with a fixed speed and logs this activity, it requires input for the following mix-ins: Locatable, Routeable, and Log), and Routable (gives the object a route). We now modify our original vessel from the basic example and include vessel properties (like width, length, etc.) and a mixin that is needed to calculate resistance and energy consumption. "
   ]
  },
  {
   "cell_type": "code",
   "execution_count": 33,
   "id": "aa92d0e3",
   "metadata": {},
   "outputs": [],
   "source": [
    "# Make your preferred class out of available mix-ins.\n",
    "TransportResource = type(\n",
    "    \"Vessel\",\n",
    "    (\n",
    "        opentnsim.core.Identifiable,\n",
    "        opentnsim.core.Movable,\n",
    "        opentnsim.core.Routeable,\n",
    "        opentnsim.core.VesselProperties,  # needed to add vessel properties\n",
    "        opentnsim.core.HasContainer,  # needed to calculate filling degree for draught\n",
    "        opentnsim.energy.ConsumesEnergy,\n",
    "        opentnsim.core.ExtraMetadata,\n",
    "    ),\n",
    "    {},\n",
    ")  # needed to calculate resistances"
   ]
  },
  {
   "cell_type": "code",
   "execution_count": 34,
   "id": "59be2e54",
   "metadata": {},
   "outputs": [
    {
     "name": "stdout",
     "output_type": "stream",
     "text": [
      "parameters not used {'H_e': None, 'H_f': None, 'T_e': None, 'T_f': None}\n"
     ]
    }
   ],
   "source": [
    "# Create a dict with all important settings\n",
    "data_vessel = {\"env\": None,\n",
    "               \"name\": None,\n",
    "               \"route\": None,\n",
    "               \"geometry\": None,\n",
    "               \"v\":3.5,  # m/s\n",
    "               \"type\": 'Dortmund-Eems (L <= 74 m)', # <-- note that inputs from hereon are due to the added mixins!\n",
    "               \"B\": 11.4,\n",
    "               \"L\": 110,\n",
    "               \"capacity\": 3000,   # maximum designed payload\n",
    "               \"level\":3000,     # actual payload\n",
    "               \"H_e\": None, \n",
    "               \"H_f\": None, \n",
    "               \"T_e\":None, \n",
    "               \"T_f\":None, \n",
    "               \n",
    "               \"P_installed\":1750.0,   \n",
    "               \"P_given\":None,\n",
    "               \"L_w\": 3.0 ,\n",
    "               \"C_b\":0.85, \n",
    "               \"c_year\":1990,\n",
    "               \"current_year\":None\n",
    "              }               \n",
    "\n",
    "vessel = TransportResource(**data_vessel)\n",
    "print(\"parameters not used\", vessel.metadata)\n"
   ]
  },
  {
   "cell_type": "markdown",
   "id": "1d7abf4c",
   "metadata": {},
   "source": [
    "### Define paths\n",
    "We are going to create a simulation in which a vessel moves from *Node 1* to *Node 4*. Therefore, we need to create a vessel to which we will need to append this paths. Therefore, first let's create the path."
   ]
  },
  {
   "cell_type": "code",
   "execution_count": 35,
   "id": "088664b6",
   "metadata": {},
   "outputs": [],
   "source": [
    "path = nx.dijkstra_path(FG, node_1.name, node_4.name)"
   ]
  },
  {
   "cell_type": "markdown",
   "id": "23ceac15",
   "metadata": {},
   "source": [
    "### Run simulation\n",
    "Now we can define the run. First, we make an environment and add the graph to the environment. Then we add one vessel, to which we will append the environment and the above route. Lastly, we give the vessel the process of moving from the origin to the destination of the defined path and subsequently run the model."
   ]
  },
  {
   "cell_type": "code",
   "execution_count": 36,
   "id": "edae679f",
   "metadata": {},
   "outputs": [],
   "source": [
    "# Start simpy environment\n",
    "simulation_start = datetime.datetime.now()\n",
    "env = simpy.Environment(initial_time = time.mktime(simulation_start.timetuple()))\n",
    "env.epoch = time.mktime(simulation_start.timetuple())\n",
    "\n",
    "# Add graph to environment\n",
    "env.FG = FG\n",
    "\n",
    "# Add environment and path to the vessel\n",
    "vessel.env = env                                        #the created environment\n",
    "vessel.name = 'Vessel No.1'                     \n",
    "vessel.route = path                                     #the route (the sequence of nodes, as stored as the second column in the path)\n",
    "vessel.geometry = env.FG.nodes[path[0]]['geometry']     #a shapely.geometry.Point(lon,lat) (here taken as the starting node of the vessel)"
   ]
  },
  {
   "cell_type": "code",
   "execution_count": 37,
   "id": "4ffa9c12",
   "metadata": {},
   "outputs": [
    {
     "name": "stdout",
     "output_type": "stream",
     "text": [
      "minimal depth on route is: 2.5 m\n"
     ]
    }
   ],
   "source": [
    "h_min = np.inf\n",
    "for index, edge in enumerate(vessel.route[:-1]):\n",
    "    # step through each edge and adjust the minimum if it is lower than the previous minimum (start at inf)\n",
    "    h_min = np.min([h_min, FG.get_edge_data(vessel.route[index], vessel.route[index+1])[\"Info\"][\"GeneralDepth\"]])\n",
    "\n",
    "print('minimal depth on route is: {} m'.format(h_min))"
   ]
  },
  {
   "cell_type": "code",
   "execution_count": 38,
   "id": "631cf79c",
   "metadata": {},
   "outputs": [
    {
     "name": "stdout",
     "output_type": "stream",
     "text": [
      "The actual draft is 2.2 m\n",
      "The actual_max_payload is 1393.8605768943894 ton\n",
      "2.2\n",
      "1393.8605768943894\n"
     ]
    }
   ],
   "source": [
    "#draught, payload = vessel.calculate_actual_T_and_payload(h_min, 0.3)\n",
    "draught, payload = vessel.calculate_actual_T_and_payload(h_min, 0.3, \"Dry_DH\") #draught, payload = vessel.calculate_actual_T_and_payload(h_min, ukc, vesl_type)\n",
    "                                                                    #  should be \"Container\",\"Dry\",\"Barge\" or \"Tanker\"'\n",
    "print(draught)\n",
    "print(payload)"
   ]
  },
  {
   "cell_type": "code",
   "execution_count": 39,
   "id": "7d95695a",
   "metadata": {},
   "outputs": [],
   "source": [
    "# Start the simulation\n",
    "env.process(vessel.move())\n",
    "env.run()"
   ]
  },
  {
   "cell_type": "markdown",
   "id": "b9809901",
   "metadata": {},
   "source": [
    "### Output\n",
    "We can now analyse the output of the simulation, which consists of the log-file of the vessel. We got this log-file as we added the log mix-in of OpenTNSim. This log-file keeps track of the moving activities of the vessel, and at which time and location they occur. The log-file could also keep track of an additional value, such as waiting times, which are not included here in this simulation.\n",
    "\n",
    "As you can see, the vessel moves from its origin (*Node 1*) to its destination (*Node 4*) by passing *Node 2* and *Node 3* respectively. The time is calculated by the greater circle distance between the nodes, divided by the speed of the vessel.\n",
    "\n",
    "Using this log-file, we could for example plot a time-distance graph."
   ]
  },
  {
   "cell_type": "code",
   "execution_count": 40,
   "id": "25f6966b",
   "metadata": {},
   "outputs": [
    {
     "name": "stderr",
     "output_type": "stream",
     "text": [
      "/Users/baart_f/.virtualenvs/opentnsim/lib/python3.9/site-packages/pandas/core/dtypes/cast.py:118: ShapelyDeprecationWarning:\n",
      "\n",
      "The array interface is deprecated and will no longer work in Shapely 2.0. Convert the '.coords' to a numpy array instead.\n",
      "\n"
     ]
    },
    {
     "data": {
      "text/html": [
       "<div>\n",
       "<style scoped>\n",
       "    .dataframe tbody tr th:only-of-type {\n",
       "        vertical-align: middle;\n",
       "    }\n",
       "\n",
       "    .dataframe tbody tr th {\n",
       "        vertical-align: top;\n",
       "    }\n",
       "\n",
       "    .dataframe thead th {\n",
       "        text-align: right;\n",
       "    }\n",
       "</style>\n",
       "<table border=\"1\" class=\"dataframe\">\n",
       "  <thead>\n",
       "    <tr style=\"text-align: right;\">\n",
       "      <th></th>\n",
       "      <th>Message</th>\n",
       "      <th>Timestamp</th>\n",
       "      <th>Value</th>\n",
       "      <th>Geometry</th>\n",
       "    </tr>\n",
       "  </thead>\n",
       "  <tbody>\n",
       "    <tr>\n",
       "      <th>0</th>\n",
       "      <td>Sailing from node Node 1 to node Node 2 start</td>\n",
       "      <td>2022-01-10 22:21:51.000000</td>\n",
       "      <td>0</td>\n",
       "      <td>POINT (0 0)</td>\n",
       "    </tr>\n",
       "    <tr>\n",
       "      <th>1</th>\n",
       "      <td>Sailing from node Node 1 to node Node 2 stop</td>\n",
       "      <td>2022-01-11 06:18:01.942451</td>\n",
       "      <td>0</td>\n",
       "      <td>POINT (0.8983 0)</td>\n",
       "    </tr>\n",
       "    <tr>\n",
       "      <th>2</th>\n",
       "      <td>Sailing from node Node 2 to node Node 3 start</td>\n",
       "      <td>2022-01-11 06:18:01.942451</td>\n",
       "      <td>0</td>\n",
       "      <td>POINT (0.8983 0)</td>\n",
       "    </tr>\n",
       "    <tr>\n",
       "      <th>3</th>\n",
       "      <td>Sailing from node Node 2 to node Node 3 stop</td>\n",
       "      <td>2022-01-11 14:14:12.884902</td>\n",
       "      <td>0</td>\n",
       "      <td>POINT (1.7966 0)</td>\n",
       "    </tr>\n",
       "    <tr>\n",
       "      <th>4</th>\n",
       "      <td>Sailing from node Node 3 to node Node 4 start</td>\n",
       "      <td>2022-01-11 14:14:12.884902</td>\n",
       "      <td>0</td>\n",
       "      <td>POINT (1.7966 0)</td>\n",
       "    </tr>\n",
       "    <tr>\n",
       "      <th>5</th>\n",
       "      <td>Sailing from node Node 3 to node Node 4 stop</td>\n",
       "      <td>2022-01-11 22:10:23.827354</td>\n",
       "      <td>0</td>\n",
       "      <td>POINT (2.6949 0)</td>\n",
       "    </tr>\n",
       "  </tbody>\n",
       "</table>\n",
       "</div>"
      ],
      "text/plain": [
       "                                         Message                  Timestamp  \\\n",
       "0  Sailing from node Node 1 to node Node 2 start 2022-01-10 22:21:51.000000   \n",
       "1   Sailing from node Node 1 to node Node 2 stop 2022-01-11 06:18:01.942451   \n",
       "2  Sailing from node Node 2 to node Node 3 start 2022-01-11 06:18:01.942451   \n",
       "3   Sailing from node Node 2 to node Node 3 stop 2022-01-11 14:14:12.884902   \n",
       "4  Sailing from node Node 3 to node Node 4 start 2022-01-11 14:14:12.884902   \n",
       "5   Sailing from node Node 3 to node Node 4 stop 2022-01-11 22:10:23.827354   \n",
       "\n",
       "   Value          Geometry  \n",
       "0      0       POINT (0 0)  \n",
       "1      0  POINT (0.8983 0)  \n",
       "2      0  POINT (0.8983 0)  \n",
       "3      0  POINT (1.7966 0)  \n",
       "4      0  POINT (1.7966 0)  \n",
       "5      0  POINT (2.6949 0)  "
      ]
     },
     "execution_count": 40,
     "metadata": {},
     "output_type": "execute_result"
    }
   ],
   "source": [
    "df = pd.DataFrame.from_dict(vessel.log)\n",
    "df"
   ]
  },
  {
   "cell_type": "markdown",
   "id": "c61aa3a4",
   "metadata": {},
   "source": [
    "### Post processing: calculate energy consumptions and emissions"
   ]
  },
  {
   "cell_type": "code",
   "execution_count": 41,
   "id": "284ea583",
   "metadata": {},
   "outputs": [],
   "source": [
    "# create an EnergyCalculation object (graph FG and vessel are needed as input)\n",
    "energycalculation = opentnsim.energy.EnergyCalculation(FG, vessel)"
   ]
  },
  {
   "cell_type": "code",
   "execution_count": 42,
   "id": "de0f3f1a",
   "metadata": {},
   "outputs": [
    {
     "name": "stdout",
     "output_type": "stream",
     "text": [
      "delta_t: 28570.9425 s\n",
      "distance: 99998.2986 m\n",
      "velocity: 3.5000 m/s\n",
      "The actual draft is 2.2 m\n",
      "The actual_max_payload is 1393.8605768943894 ton\n",
      "The actual draft is 2.2 m\n",
      "The actual_max_payload is 1393.8605768943894 ton\n",
      "The actual draft is 2.2 m\n",
      "The actual_max_payload is 1393.8605768943894 ton\n",
      "The actual draft is 2.2 m\n",
      "The actual_max_payload is 1393.8605768943894 ton\n",
      "The actual draft is 2.2 m\n",
      "The actual_max_payload is 1393.8605768943894 ton\n",
      "The actual draft is 2.2 m\n",
      "The actual_max_payload is 1393.8605768943894 ton\n",
      "The actual draft is 2.2 m\n",
      "The actual_max_payload is 1393.8605768943894 ton\n",
      "The actual draft is 2.2 m\n",
      "The actual_max_payload is 1393.8605768943894 ton\n",
      "The actual draft is 2.2 m\n",
      "The actual_max_payload is 1393.8605768943894 ton\n",
      "The actual draft is 2.2 m\n",
      "The actual_max_payload is 1393.8605768943894 ton\n",
      "The actual draft is 2.2 m\n",
      "The actual_max_payload is 1393.8605768943894 ton\n",
      "The actual draft is 2.2 m\n",
      "The actual_max_payload is 1393.8605768943894 ton\n",
      "The actual draft is 2.2 m\n",
      "The actual_max_payload is 1393.8605768943894 ton\n",
      "The actual draft is 2.2 m\n",
      "The actual_max_payload is 1393.8605768943894 ton\n",
      "The actual draft is 2.2 m\n",
      "The actual_max_payload is 1393.8605768943894 ton\n",
      "The actual draft is 2.2 m\n",
      "The actual_max_payload is 1393.8605768943894 ton\n",
      "The actual draft is 2.2 m\n",
      "The actual_max_payload is 1393.8605768943894 ton\n",
      "The actual draft is 2.2 m\n",
      "The actual_max_payload is 1393.8605768943894 ton\n",
      "The actual draft is 2.2 m\n",
      "The actual_max_payload is 1393.8605768943894 ton\n",
      "The actual draft is 2.2 m\n",
      "The actual_max_payload is 1393.8605768943894 ton\n",
      "The actual draft is 2.2 m\n",
      "The actual_max_payload is 1393.8605768943894 ton\n",
      "The actual draft is 2.2 m\n",
      "The actual_max_payload is 1393.8605768943894 ton\n",
      "The actual draft is 2.2 m\n",
      "The actual_max_payload is 1393.8605768943894 ton\n",
      "The actual draft is 2.2 m\n",
      "The actual_max_payload is 1393.8605768943894 ton\n",
      "The actual draft is 2.2 m\n",
      "The actual_max_payload is 1393.8605768943894 ton\n",
      "The actual draft is 2.2 m\n",
      "The actual_max_payload is 1393.8605768943894 ton\n",
      "The actual draft is 2.2 m\n",
      "The actual_max_payload is 1393.8605768943894 ton\n",
      "The actual draft is 2.2 m\n",
      "The actual_max_payload is 1393.8605768943894 ton\n",
      "The actual draft is 2.2 m\n",
      "The actual_max_payload is 1393.8605768943894 ton\n",
      "The actual draft is 2.2 m\n",
      "The actual_max_payload is 1393.8605768943894 ton\n",
      "The actual draft is 2.2 m\n",
      "The actual_max_payload is 1393.8605768943894 ton\n",
      "The actual draft is 2.2 m\n",
      "The actual_max_payload is 1393.8605768943894 ton\n",
      "The actual draft is 2.2 m\n",
      "The actual_max_payload is 1393.8605768943894 ton\n",
      "The actual draft is 2.2 m\n",
      "The actual_max_payload is 1393.8605768943894 ton\n",
      "The actual draft is 2.2 m\n",
      "The actual_max_payload is 1393.8605768943894 ton\n",
      "The actual draft is 2.2 m\n",
      "The actual_max_payload is 1393.8605768943894 ton\n",
      "The actual draft is 2.2 m\n",
      "The actual_max_payload is 1393.8605768943894 ton\n",
      "The actual draft is 2.2 m\n",
      "The actual_max_payload is 1393.8605768943894 ton\n",
      "The actual draft is 2.2 m\n",
      "The actual_max_payload is 1393.8605768943894 ton\n",
      "The total power required is 371.1320287538226 kW\n",
      "The actual total power given is 371.1320287538226 kW\n",
      "The partial load is 0.21207544500218437\n",
      "The construction year of the engine is 1990\n",
      "The general emission factor of CO2 is 698 g/kWh\n",
      "The general emission factor of PM10 is 0.4 g/kWh\n",
      "The general emission factor CO2 is 10.1 g/kWh\n",
      "The general fuel consumption factor is 220 g/kWh\n",
      "The total power required is 371.1320287538226 kW\n",
      "The actual total power given is 371.1320287538226 kW\n",
      "The partial load is 0.21207544500218437\n",
      "Correction factor of CO2 is 1.1451698219991262\n",
      "Correction factor of PM10 is 1.173094376996942\n",
      "Correction factor of NOX is 1.0903396439982527\n",
      "Correction factor of fuel consumption is 1.1451698219991262\n",
      "The total emission factor of CO2 is 799.3285357553901 g/kWh\n",
      "The total emission factor of PM10 is 0.46923775079877683 g/kWh\n",
      "The total emission factor CO2 is 11.012430404382352 g/kWh\n",
      "The total fuel consumption factor is 251.93736083980775 g/kWh\n",
      "delta_t: 28570.9425 s\n",
      "distance: 99998.2986 m\n",
      "velocity: 3.5000 m/s\n",
      "The actual draft is 2.2 m\n",
      "The actual_max_payload is 1393.8605768943894 ton\n",
      "The actual draft is 2.2 m\n",
      "The actual_max_payload is 1393.8605768943894 ton\n",
      "The actual draft is 2.2 m\n",
      "The actual_max_payload is 1393.8605768943894 ton\n",
      "The actual draft is 2.2 m\n",
      "The actual_max_payload is 1393.8605768943894 ton\n",
      "The actual draft is 2.2 m\n",
      "The actual_max_payload is 1393.8605768943894 ton\n",
      "The actual draft is 2.2 m\n",
      "The actual_max_payload is 1393.8605768943894 ton\n",
      "The actual draft is 2.2 m\n",
      "The actual_max_payload is 1393.8605768943894 ton\n",
      "The actual draft is 2.2 m\n",
      "The actual_max_payload is 1393.8605768943894 ton\n",
      "The actual draft is 2.2 m\n",
      "The actual_max_payload is 1393.8605768943894 ton\n",
      "The actual draft is 2.2 m\n",
      "The actual_max_payload is 1393.8605768943894 ton\n",
      "The actual draft is 2.2 m\n",
      "The actual_max_payload is 1393.8605768943894 ton\n",
      "The actual draft is 2.2 m\n",
      "The actual_max_payload is 1393.8605768943894 ton\n",
      "The actual draft is 2.2 m\n",
      "The actual_max_payload is 1393.8605768943894 ton\n",
      "The actual draft is 2.2 m\n",
      "The actual_max_payload is 1393.8605768943894 ton\n",
      "The actual draft is 2.2 m\n",
      "The actual_max_payload is 1393.8605768943894 ton\n",
      "The actual draft is 2.2 m\n",
      "The actual_max_payload is 1393.8605768943894 ton\n",
      "The actual draft is 2.2 m\n",
      "The actual_max_payload is 1393.8605768943894 ton\n",
      "The actual draft is 2.2 m\n",
      "The actual_max_payload is 1393.8605768943894 ton\n",
      "The actual draft is 2.2 m\n",
      "The actual_max_payload is 1393.8605768943894 ton\n",
      "The actual draft is 2.2 m\n",
      "The actual_max_payload is 1393.8605768943894 ton\n",
      "The actual draft is 2.2 m\n",
      "The actual_max_payload is 1393.8605768943894 ton\n",
      "The actual draft is 2.2 m\n",
      "The actual_max_payload is 1393.8605768943894 ton\n",
      "The actual draft is 2.2 m\n",
      "The actual_max_payload is 1393.8605768943894 ton\n",
      "The actual draft is 2.2 m\n",
      "The actual_max_payload is 1393.8605768943894 ton\n",
      "The actual draft is 2.2 m\n",
      "The actual_max_payload is 1393.8605768943894 ton\n",
      "The actual draft is 2.2 m\n",
      "The actual_max_payload is 1393.8605768943894 ton\n",
      "The actual draft is 2.2 m\n",
      "The actual_max_payload is 1393.8605768943894 ton\n",
      "The actual draft is 2.2 m\n",
      "The actual_max_payload is 1393.8605768943894 ton\n",
      "The actual draft is 2.2 m\n",
      "The actual_max_payload is 1393.8605768943894 ton\n",
      "The actual draft is 2.2 m\n",
      "The actual_max_payload is 1393.8605768943894 ton\n",
      "The actual draft is 2.2 m\n",
      "The actual_max_payload is 1393.8605768943894 ton\n",
      "The actual draft is 2.2 m\n",
      "The actual_max_payload is 1393.8605768943894 ton\n",
      "The actual draft is 2.2 m\n",
      "The actual_max_payload is 1393.8605768943894 ton\n",
      "The actual draft is 2.2 m\n",
      "The actual_max_payload is 1393.8605768943894 ton\n",
      "The actual draft is 2.2 m\n",
      "The actual_max_payload is 1393.8605768943894 ton\n",
      "The actual draft is 2.2 m\n",
      "The actual_max_payload is 1393.8605768943894 ton\n",
      "The actual draft is 2.2 m\n",
      "The actual_max_payload is 1393.8605768943894 ton\n",
      "The actual draft is 2.2 m\n",
      "The actual_max_payload is 1393.8605768943894 ton\n",
      "The actual draft is 2.2 m\n",
      "The actual_max_payload is 1393.8605768943894 ton\n",
      "The total power required is 1375.322828823639 kW\n",
      "The actual total power given is 1375.322828823639 kW\n",
      "The partial load is 0.7858987593277936\n",
      "The construction year of the engine is 1990\n",
      "The general emission factor of CO2 is 698 g/kWh\n",
      "The general emission factor of PM10 is 0.4 g/kWh\n",
      "The general emission factor CO2 is 10.1 g/kWh\n",
      "The general fuel consumption factor is 220 g/kWh\n",
      "The total power required is 1375.322828823639 kW\n",
      "The actual total power given is 1375.322828823639 kW\n",
      "The partial load is 0.7858987593277936\n",
      "Correction factor of CO2 is 1.0\n",
      "Correction factor of PM10 is 0.98\n",
      "Correction factor of NOX is 0.9728202481344412\n",
      "Correction factor of fuel consumption is 1.0\n",
      "The total emission factor of CO2 is 698.0 g/kWh\n",
      "The total emission factor of PM10 is 0.392 g/kWh\n",
      "The total emission factor CO2 is 9.825484506157856 g/kWh\n",
      "The total fuel consumption factor is 220.0 g/kWh\n",
      "delta_t: 28570.9425 s\n",
      "distance: 99998.2986 m\n",
      "velocity: 3.5000 m/s\n",
      "The actual draft is 2.2 m\n",
      "The actual_max_payload is 1393.8605768943894 ton\n",
      "The actual draft is 2.2 m\n",
      "The actual_max_payload is 1393.8605768943894 ton\n",
      "The actual draft is 2.2 m\n",
      "The actual_max_payload is 1393.8605768943894 ton\n",
      "The actual draft is 2.2 m\n",
      "The actual_max_payload is 1393.8605768943894 ton\n",
      "The actual draft is 2.2 m\n",
      "The actual_max_payload is 1393.8605768943894 ton\n",
      "The actual draft is 2.2 m\n",
      "The actual_max_payload is 1393.8605768943894 ton\n",
      "The actual draft is 2.2 m\n",
      "The actual_max_payload is 1393.8605768943894 ton\n",
      "The actual draft is 2.2 m\n",
      "The actual_max_payload is 1393.8605768943894 ton\n",
      "The actual draft is 2.2 m\n",
      "The actual_max_payload is 1393.8605768943894 ton\n",
      "The actual draft is 2.2 m\n",
      "The actual_max_payload is 1393.8605768943894 ton\n",
      "The actual draft is 2.2 m\n",
      "The actual_max_payload is 1393.8605768943894 ton\n",
      "The actual draft is 2.2 m\n",
      "The actual_max_payload is 1393.8605768943894 ton\n",
      "The actual draft is 2.2 m\n",
      "The actual_max_payload is 1393.8605768943894 ton\n",
      "The actual draft is 2.2 m\n",
      "The actual_max_payload is 1393.8605768943894 ton\n",
      "The actual draft is 2.2 m\n",
      "The actual_max_payload is 1393.8605768943894 ton\n",
      "The actual draft is 2.2 m\n",
      "The actual_max_payload is 1393.8605768943894 ton\n",
      "The actual draft is 2.2 m\n",
      "The actual_max_payload is 1393.8605768943894 ton\n",
      "The actual draft is 2.2 m\n",
      "The actual_max_payload is 1393.8605768943894 ton\n",
      "The actual draft is 2.2 m\n",
      "The actual_max_payload is 1393.8605768943894 ton\n",
      "The actual draft is 2.2 m\n",
      "The actual_max_payload is 1393.8605768943894 ton\n",
      "The actual draft is 2.2 m\n",
      "The actual_max_payload is 1393.8605768943894 ton\n",
      "The actual draft is 2.2 m\n",
      "The actual_max_payload is 1393.8605768943894 ton\n",
      "The actual draft is 2.2 m\n",
      "The actual_max_payload is 1393.8605768943894 ton\n",
      "The actual draft is 2.2 m\n",
      "The actual_max_payload is 1393.8605768943894 ton\n",
      "The actual draft is 2.2 m\n",
      "The actual_max_payload is 1393.8605768943894 ton\n",
      "The actual draft is 2.2 m\n",
      "The actual_max_payload is 1393.8605768943894 ton\n",
      "The actual draft is 2.2 m\n",
      "The actual_max_payload is 1393.8605768943894 ton\n",
      "The actual draft is 2.2 m\n",
      "The actual_max_payload is 1393.8605768943894 ton\n",
      "The actual draft is 2.2 m\n",
      "The actual_max_payload is 1393.8605768943894 ton\n",
      "The actual draft is 2.2 m\n",
      "The actual_max_payload is 1393.8605768943894 ton\n",
      "The actual draft is 2.2 m\n",
      "The actual_max_payload is 1393.8605768943894 ton\n",
      "The actual draft is 2.2 m\n",
      "The actual_max_payload is 1393.8605768943894 ton\n",
      "The actual draft is 2.2 m\n",
      "The actual_max_payload is 1393.8605768943894 ton\n",
      "The actual draft is 2.2 m\n",
      "The actual_max_payload is 1393.8605768943894 ton\n",
      "The actual draft is 2.2 m\n",
      "The actual_max_payload is 1393.8605768943894 ton\n",
      "The actual draft is 2.2 m\n",
      "The actual_max_payload is 1393.8605768943894 ton\n",
      "The actual draft is 2.2 m\n",
      "The actual_max_payload is 1393.8605768943894 ton\n",
      "The actual draft is 2.2 m\n",
      "The actual_max_payload is 1393.8605768943894 ton\n",
      "The actual draft is 2.2 m\n",
      "The actual_max_payload is 1393.8605768943894 ton\n",
      "The total power required is 371.1320287117176 kW\n",
      "The actual total power given is 371.1320287117176 kW\n",
      "The partial load is 0.21207544497812436\n",
      "The construction year of the engine is 1990\n",
      "The general emission factor of CO2 is 698 g/kWh\n",
      "The general emission factor of PM10 is 0.4 g/kWh\n",
      "The general emission factor CO2 is 10.1 g/kWh\n",
      "The general fuel consumption factor is 220 g/kWh\n",
      "The total power required is 371.1320287117176 kW\n",
      "The actual total power given is 371.1320287117176 kW\n",
      "The partial load is 0.21207544497812436\n",
      "Correction factor of CO2 is 1.14516982200875\n",
      "Correction factor of PM10 is 1.173094377030626\n",
      "Correction factor of NOX is 1.0903396440175006\n",
      "Correction factor of fuel consumption is 1.14516982200875\n",
      "The total emission factor of CO2 is 799.3285357621075 g/kWh\n",
      "The total emission factor of PM10 is 0.4692377508122504 g/kWh\n",
      "The total emission factor CO2 is 11.012430404576756 g/kWh\n",
      "The total fuel consumption factor is 251.937360841925 g/kWh\n"
     ]
    }
   ],
   "source": [
    "# we can now work out in hindsight what resistance, power, energy and emissions were generated\n",
    "energycalculation.calculate_energy_consumption()\n",
    "\n",
    "# ToDo:\n",
    "# - perhaps add to the printstatements which edge is sailed \n",
    "# - may be the print statements can be cleaned up (fewer significant digits)\n",
    "# - possibly even make it optional to print this, because the next cells show dataframes with the output\n",
    "# - etc"
   ]
  },
  {
   "cell_type": "code",
   "execution_count": 43,
   "id": "6e5f4a42",
   "metadata": {},
   "outputs": [
    {
     "name": "stderr",
     "output_type": "stream",
     "text": [
      "/Users/baart_f/.virtualenvs/opentnsim/lib/python3.9/site-packages/pandas/core/dtypes/cast.py:118: ShapelyDeprecationWarning:\n",
      "\n",
      "The array interface is deprecated and will no longer work in Shapely 2.0. Convert the '.coords' to a numpy array instead.\n",
      "\n"
     ]
    },
    {
     "data": {
      "text/html": [
       "<div>\n",
       "<style scoped>\n",
       "    .dataframe tbody tr th:only-of-type {\n",
       "        vertical-align: middle;\n",
       "    }\n",
       "\n",
       "    .dataframe tbody tr th {\n",
       "        vertical-align: top;\n",
       "    }\n",
       "\n",
       "    .dataframe thead th {\n",
       "        text-align: right;\n",
       "    }\n",
       "</style>\n",
       "<table border=\"1\" class=\"dataframe\">\n",
       "  <thead>\n",
       "    <tr style=\"text-align: right;\">\n",
       "      <th></th>\n",
       "      <th>time_start</th>\n",
       "      <th>time_stop</th>\n",
       "      <th>edge_start</th>\n",
       "      <th>edge_stop</th>\n",
       "      <th>total_energy</th>\n",
       "      <th>total_fuel_consumption</th>\n",
       "      <th>total_emission_CO2</th>\n",
       "      <th>total_emission_PM10</th>\n",
       "      <th>total_emission_NOX</th>\n",
       "      <th>stationary</th>\n",
       "      <th>water depth</th>\n",
       "      <th>distance</th>\n",
       "      <th>delta_t</th>\n",
       "      <th>CO2_g_km</th>\n",
       "      <th>PM10_g_km</th>\n",
       "      <th>NOX_g_km</th>\n",
       "      <th>diesel_kg_km</th>\n",
       "    </tr>\n",
       "  </thead>\n",
       "  <tbody>\n",
       "    <tr>\n",
       "      <th>0</th>\n",
       "      <td>2022-01-10 22:21:51.000000</td>\n",
       "      <td>2022-01-11 06:18:01.942451</td>\n",
       "      <td>POINT (0 0)</td>\n",
       "      <td>POINT (0.8983 0)</td>\n",
       "      <td>2945.442176</td>\n",
       "      <td>742.066928</td>\n",
       "      <td>2.354376e+06</td>\n",
       "      <td>1382.112662</td>\n",
       "      <td>32436.476978</td>\n",
       "      <td>0</td>\n",
       "      <td>6.0</td>\n",
       "      <td>99998.29858</td>\n",
       "      <td>28570.942451</td>\n",
       "      <td>23544.160406</td>\n",
       "      <td>13.821362</td>\n",
       "      <td>324.370289</td>\n",
       "      <td>6.627358</td>\n",
       "    </tr>\n",
       "    <tr>\n",
       "      <th>1</th>\n",
       "      <td>2022-01-11 06:18:01.942451</td>\n",
       "      <td>2022-01-11 14:14:12.884902</td>\n",
       "      <td>POINT (0.8983 0)</td>\n",
       "      <td>POINT (1.7966 0)</td>\n",
       "      <td>10915.074832</td>\n",
       "      <td>2401.316463</td>\n",
       "      <td>7.618722e+06</td>\n",
       "      <td>4278.709334</td>\n",
       "      <td>107245.898642</td>\n",
       "      <td>0</td>\n",
       "      <td>2.5</td>\n",
       "      <td>99998.29858</td>\n",
       "      <td>28570.942451</td>\n",
       "      <td>76188.518612</td>\n",
       "      <td>42.787821</td>\n",
       "      <td>1072.477234</td>\n",
       "      <td>24.559336</td>\n",
       "    </tr>\n",
       "    <tr>\n",
       "      <th>2</th>\n",
       "      <td>2022-01-11 14:14:12.884902</td>\n",
       "      <td>2022-01-11 22:10:23.827354</td>\n",
       "      <td>POINT (1.7966 0)</td>\n",
       "      <td>POINT (2.6949 0)</td>\n",
       "      <td>2945.442176</td>\n",
       "      <td>742.066928</td>\n",
       "      <td>2.354376e+06</td>\n",
       "      <td>1382.112662</td>\n",
       "      <td>32436.476976</td>\n",
       "      <td>0</td>\n",
       "      <td>6.0</td>\n",
       "      <td>99998.29858</td>\n",
       "      <td>28570.942452</td>\n",
       "      <td>23544.160404</td>\n",
       "      <td>13.821362</td>\n",
       "      <td>324.370289</td>\n",
       "      <td>6.627358</td>\n",
       "    </tr>\n",
       "  </tbody>\n",
       "</table>\n",
       "</div>"
      ],
      "text/plain": [
       "                  time_start                  time_stop        edge_start  \\\n",
       "0 2022-01-10 22:21:51.000000 2022-01-11 06:18:01.942451       POINT (0 0)   \n",
       "1 2022-01-11 06:18:01.942451 2022-01-11 14:14:12.884902  POINT (0.8983 0)   \n",
       "2 2022-01-11 14:14:12.884902 2022-01-11 22:10:23.827354  POINT (1.7966 0)   \n",
       "\n",
       "          edge_stop  total_energy  total_fuel_consumption  total_emission_CO2  \\\n",
       "0  POINT (0.8983 0)   2945.442176              742.066928        2.354376e+06   \n",
       "1  POINT (1.7966 0)  10915.074832             2401.316463        7.618722e+06   \n",
       "2  POINT (2.6949 0)   2945.442176              742.066928        2.354376e+06   \n",
       "\n",
       "   total_emission_PM10  total_emission_NOX  stationary  water depth  \\\n",
       "0          1382.112662        32436.476978           0          6.0   \n",
       "1          4278.709334       107245.898642           0          2.5   \n",
       "2          1382.112662        32436.476976           0          6.0   \n",
       "\n",
       "      distance       delta_t      CO2_g_km  PM10_g_km     NOX_g_km  \\\n",
       "0  99998.29858  28570.942451  23544.160406  13.821362   324.370289   \n",
       "1  99998.29858  28570.942451  76188.518612  42.787821  1072.477234   \n",
       "2  99998.29858  28570.942452  23544.160404  13.821362   324.370289   \n",
       "\n",
       "   diesel_kg_km  \n",
       "0      6.627358  \n",
       "1     24.559336  \n",
       "2      6.627358  "
      ]
     },
     "execution_count": 43,
     "metadata": {},
     "output_type": "execute_result"
    }
   ],
   "source": [
    "df = pd.DataFrame.from_dict(energycalculation.energy_use)\n",
    "df['CO2_g_km'] = df['total_emission_CO2'] / df['distance']*1000\n",
    "df['PM10_g_km'] = df['total_emission_PM10'] / df['distance']*1000\n",
    "df['NOX_g_km'] = df['total_emission_NOX'] / df['distance']*1000\n",
    "df['diesel_kg_km'] = df['total_energy'] *0.225/ df['distance']*1000 \n",
    "df.head()"
   ]
  },
  {
   "cell_type": "markdown",
   "id": "2c1fbabb",
   "metadata": {},
   "source": [
    "## Add current influence"
   ]
  },
  {
   "cell_type": "code",
   "execution_count": 44,
   "id": "61b6524c",
   "metadata": {},
   "outputs": [],
   "source": [
    "# with current speed =0.5m/s\n",
    "V_cur=0.5 \n",
    "# delta_t will be longer when upstream, shorter when downstream\n",
    "delta_t_up=df['distance']/(df['distance']/df['delta_t']-V_cur)\n",
    "delta_t_down=df['distance']/(df['distance']/df['delta_t']+V_cur)\n",
    "# total emission&fuel consumption will be large when upstream(because of longer delta_t), shorter when downstream(because of shorter delta_t)\n",
    "df['total_fuel_consumption_kg']=df['total_fuel_consumption'] #kg without current\n",
    "df['total_fuel_consumption_up_kg']=df['total_fuel_consumption'] *(delta_t_up/df['delta_t']) #kg\n",
    "df['total_fuel_consumption_down_kg']=df['total_fuel_consumption'] *(delta_t_down/df['delta_t']) #kg\n",
    "df['total_fuel_consumption_round_no_current_kg']=df['total_fuel_consumption']*2 #kg\n",
    "df['total_fuel_consumption_round_current_kg']=df['total_fuel_consumption_up_kg']+df['total_fuel_consumption_down_kg'] #kg\n",
    "df['total_emission_CO2_kg']=df['total_emission_CO2']/1000 #kg without current\n",
    "df['total_emission_CO2_up_kg']=df['total_emission_CO2'] *(delta_t_up/df['delta_t'])/1000 #kg\n",
    "df['total_emission_CO2_down_kg']=df['total_emission_CO2'] *(delta_t_down/df['delta_t'])/1000 #kg\n",
    "df['total_emission_CO2_round_no_current_kg']=df['total_emission_CO2']*2/1000 #kg\n",
    "df['total_emission_CO2_round_current_kg']=df['total_emission_CO2_up_kg']+df['total_emission_CO2_down_kg'] #kg\n",
    "df['total_emission_PM10_kg']=df['total_emission_PM10']/1000 #kg without current\n",
    "df['total_emission_PM10_up_kg']=df['total_emission_PM10'] *(delta_t_up/df['delta_t'])/1000 #kg\n",
    "df['total_emission_PM10_down_kg']=df['total_emission_PM10'] *(delta_t_down/df['delta_t'])/1000 #kg\n",
    "df['total_emission_PM10_round_no_current_kg']=df['total_emission_PM10']*2/1000 #kg\n",
    "df['total_emission_PM10_round_current_kg']=df['total_emission_PM10_up_kg']+df['total_emission_PM10_down_kg'] #kg\n",
    "df['total_emission_NOX_kg']=df['total_emission_NOX']/1000 #kg without current\n",
    "df['total_emission_NOX_up_kg']=df['total_emission_NOX'] *(delta_t_up/df['delta_t'])/1000 #kg\n",
    "df['total_emission_NOX_down_kg']=df['total_emission_NOX'] *(delta_t_down/df['delta_t'])/1000 #kg\n",
    "df['total_emission_NOX_round_no_current_kg']=df['total_emission_NOX']*2/1000 #kg\n",
    "df['total_emission_NOX_round_current_kg']=df['total_emission_NOX_up_kg']+df['total_emission_NOX_down_kg'] #kg"
   ]
  },
  {
   "cell_type": "code",
   "execution_count": 45,
   "id": "2f600489",
   "metadata": {},
   "outputs": [
    {
     "data": {
      "text/html": [
       "<div>\n",
       "<style scoped>\n",
       "    .dataframe tbody tr th:only-of-type {\n",
       "        vertical-align: middle;\n",
       "    }\n",
       "\n",
       "    .dataframe tbody tr th {\n",
       "        vertical-align: top;\n",
       "    }\n",
       "\n",
       "    .dataframe thead th {\n",
       "        text-align: right;\n",
       "    }\n",
       "</style>\n",
       "<table border=\"1\" class=\"dataframe\">\n",
       "  <thead>\n",
       "    <tr style=\"text-align: right;\">\n",
       "      <th></th>\n",
       "      <th>section 1</th>\n",
       "      <th>section 2</th>\n",
       "      <th>section 3</th>\n",
       "    </tr>\n",
       "  </thead>\n",
       "  <tbody>\n",
       "    <tr>\n",
       "      <th>single trip \\n no current \\n either way</th>\n",
       "      <td>742.066928</td>\n",
       "      <td>2401.316463</td>\n",
       "      <td>742.066928</td>\n",
       "    </tr>\n",
       "    <tr>\n",
       "      <th>single trip \\n upstream</th>\n",
       "      <td>865.744750</td>\n",
       "      <td>2801.535873</td>\n",
       "      <td>865.744750</td>\n",
       "    </tr>\n",
       "    <tr>\n",
       "      <th>single trip \\n downstream</th>\n",
       "      <td>649.308562</td>\n",
       "      <td>2101.151905</td>\n",
       "      <td>649.308562</td>\n",
       "    </tr>\n",
       "    <tr>\n",
       "      <th>round trip \\n no current</th>\n",
       "      <td>1484.133857</td>\n",
       "      <td>4802.632926</td>\n",
       "      <td>1484.133857</td>\n",
       "    </tr>\n",
       "    <tr>\n",
       "      <th>round trip \\n current</th>\n",
       "      <td>1515.053312</td>\n",
       "      <td>4902.687779</td>\n",
       "      <td>1515.053312</td>\n",
       "    </tr>\n",
       "  </tbody>\n",
       "</table>\n",
       "</div>"
      ],
      "text/plain": [
       "                                           section 1    section 2    section 3\n",
       "single trip \\n no current \\n either way   742.066928  2401.316463   742.066928\n",
       "single trip \\n upstream                   865.744750  2801.535873   865.744750\n",
       "single trip \\n downstream                 649.308562  2101.151905   649.308562\n",
       "round trip \\n no current                 1484.133857  4802.632926  1484.133857\n",
       "round trip \\n current                    1515.053312  4902.687779  1515.053312"
      ]
     },
     "execution_count": 45,
     "metadata": {},
     "output_type": "execute_result"
    }
   ],
   "source": [
    "fuel=df[['total_fuel_consumption_kg','total_fuel_consumption_up_kg','total_fuel_consumption_down_kg',\n",
    "          'total_fuel_consumption_round_no_current_kg','total_fuel_consumption_round_current_kg']].T\n",
    "fuel.index=['single trip \\n no current \\n either way', 'single trip \\n upstream',\n",
    "                    'single trip \\n downstream', 'round trip \\n no current', 'round trip \\n current']\n",
    "fuel.columns =['section 1','section 2','section 3']\n",
    "fuel.head()"
   ]
  },
  {
   "cell_type": "code",
   "execution_count": 46,
   "id": "549a7ec2",
   "metadata": {},
   "outputs": [
    {
     "data": {
      "text/plain": [
       "(array([    0.,  2000.,  4000.,  6000.,  8000., 10000.]),\n",
       " [Text(0, 0, ''),\n",
       "  Text(0, 0, ''),\n",
       "  Text(0, 0, ''),\n",
       "  Text(0, 0, ''),\n",
       "  Text(0, 0, ''),\n",
       "  Text(0, 0, '')])"
      ]
     },
     "execution_count": 46,
     "metadata": {},
     "output_type": "execute_result"
    },
    {
     "data": {
      "image/png": "[encoded data removed]",
      "text/plain": [
       "<Figure size 576x216 with 1 Axes>"
      ]
     },
     "metadata": {
      "needs_background": "light"
     },
     "output_type": "display_data"
    }
   ],
   "source": [
    "# creates a stacked bar plot\n",
    "fuel_colors=['#6f7632','#658b38','#c7c10c']\n",
    "fuel.plot(kind='bar', stacked=True,color=fuel_colors,rot=0, figsize=(8, 3))\n",
    "plt.ylim(0, 10000)\n",
    "plt.ylabel('fuel consumption (kg)',fontsize=15,fontweight='bold')\n",
    "ax = plt.gca()\n",
    "ax.axes.xaxis.set_visible(False)\n",
    "plt.yticks( weight = 'bold')"
   ]
  },
  {
   "cell_type": "code",
   "execution_count": 47,
   "id": "2d3c0077",
   "metadata": {},
   "outputs": [
    {
     "data": {
      "text/html": [
       "<div>\n",
       "<style scoped>\n",
       "    .dataframe tbody tr th:only-of-type {\n",
       "        vertical-align: middle;\n",
       "    }\n",
       "\n",
       "    .dataframe tbody tr th {\n",
       "        vertical-align: top;\n",
       "    }\n",
       "\n",
       "    .dataframe thead th {\n",
       "        text-align: right;\n",
       "    }\n",
       "</style>\n",
       "<table border=\"1\" class=\"dataframe\">\n",
       "  <thead>\n",
       "    <tr style=\"text-align: right;\">\n",
       "      <th></th>\n",
       "      <th>section 1</th>\n",
       "      <th>section 2</th>\n",
       "      <th>section 3</th>\n",
       "    </tr>\n",
       "  </thead>\n",
       "  <tbody>\n",
       "    <tr>\n",
       "      <th>single trip \\n no current \\n either way</th>\n",
       "      <td>2354.375982</td>\n",
       "      <td>7618.722232</td>\n",
       "      <td>2354.375982</td>\n",
       "    </tr>\n",
       "    <tr>\n",
       "      <th>single trip \\n upstream</th>\n",
       "      <td>2746.771979</td>\n",
       "      <td>8888.509271</td>\n",
       "      <td>2746.771979</td>\n",
       "    </tr>\n",
       "    <tr>\n",
       "      <th>single trip \\n downstream</th>\n",
       "      <td>2060.078984</td>\n",
       "      <td>6666.381953</td>\n",
       "      <td>2060.078984</td>\n",
       "    </tr>\n",
       "    <tr>\n",
       "      <th>round trip \\n no current</th>\n",
       "      <td>4708.751964</td>\n",
       "      <td>15237.444465</td>\n",
       "      <td>4708.751964</td>\n",
       "    </tr>\n",
       "    <tr>\n",
       "      <th>round trip \\n current</th>\n",
       "      <td>4806.850963</td>\n",
       "      <td>15554.891225</td>\n",
       "      <td>4806.850963</td>\n",
       "    </tr>\n",
       "  </tbody>\n",
       "</table>\n",
       "</div>"
      ],
      "text/plain": [
       "                                           section 1     section 2  \\\n",
       "single trip \\n no current \\n either way  2354.375982   7618.722232   \n",
       "single trip \\n upstream                  2746.771979   8888.509271   \n",
       "single trip \\n downstream                2060.078984   6666.381953   \n",
       "round trip \\n no current                 4708.751964  15237.444465   \n",
       "round trip \\n current                    4806.850963  15554.891225   \n",
       "\n",
       "                                           section 3  \n",
       "single trip \\n no current \\n either way  2354.375982  \n",
       "single trip \\n upstream                  2746.771979  \n",
       "single trip \\n downstream                2060.078984  \n",
       "round trip \\n no current                 4708.751964  \n",
       "round trip \\n current                    4806.850963  "
      ]
     },
     "execution_count": 47,
     "metadata": {},
     "output_type": "execute_result"
    }
   ],
   "source": [
    "CO2=df[['total_emission_CO2_kg','total_emission_CO2_up_kg','total_emission_CO2_down_kg',\n",
    "          'total_emission_CO2_round_no_current_kg','total_emission_CO2_round_current_kg']].T\n",
    "CO2.index=['single trip \\n no current \\n either way', 'single trip \\n upstream',\n",
    "                    'single trip \\n downstream', 'round trip \\n no current', 'round trip \\n current']\n",
    "CO2.columns =['section 1','section 2','section 3']\n",
    "CO2.head()\n"
   ]
  },
  {
   "cell_type": "code",
   "execution_count": 48,
   "id": "feaa7347",
   "metadata": {},
   "outputs": [
    {
     "data": {
      "text/plain": [
       "<AxesSubplot:>"
      ]
     },
     "execution_count": 48,
     "metadata": {},
     "output_type": "execute_result"
    },
    {
     "data": {
      "image/png": "[encoded data removed]",
      "text/plain": [
       "<Figure size 576x216 with 1 Axes>"
      ]
     },
     "metadata": {
      "needs_background": "light"
     },
     "output_type": "display_data"
    }
   ],
   "source": [
    "# creates a stacked bar plot\n",
    "CO2_colors=['#ff073a','#f97306','#fedf08']\n",
    "CO2.plot(kind='bar', stacked=True,color=CO2_colors,rot=0, figsize=(8, 3))"
   ]
  },
  {
   "cell_type": "code",
   "execution_count": 49,
   "id": "8550c805",
   "metadata": {},
   "outputs": [
    {
     "data": {
      "text/html": [
       "<div>\n",
       "<style scoped>\n",
       "    .dataframe tbody tr th:only-of-type {\n",
       "        vertical-align: middle;\n",
       "    }\n",
       "\n",
       "    .dataframe tbody tr th {\n",
       "        vertical-align: top;\n",
       "    }\n",
       "\n",
       "    .dataframe thead th {\n",
       "        text-align: right;\n",
       "    }\n",
       "</style>\n",
       "<table border=\"1\" class=\"dataframe\">\n",
       "  <thead>\n",
       "    <tr style=\"text-align: right;\">\n",
       "      <th></th>\n",
       "      <th>section 1</th>\n",
       "      <th>section 2</th>\n",
       "      <th>section 3</th>\n",
       "    </tr>\n",
       "  </thead>\n",
       "  <tbody>\n",
       "    <tr>\n",
       "      <th>single trip \\n no current \\n either way</th>\n",
       "      <td>1.382113</td>\n",
       "      <td>4.278709</td>\n",
       "      <td>1.382113</td>\n",
       "    </tr>\n",
       "    <tr>\n",
       "      <th>single trip \\n upstream</th>\n",
       "      <td>1.612465</td>\n",
       "      <td>4.991828</td>\n",
       "      <td>1.612465</td>\n",
       "    </tr>\n",
       "    <tr>\n",
       "      <th>single trip \\n downstream</th>\n",
       "      <td>1.209349</td>\n",
       "      <td>3.743871</td>\n",
       "      <td>1.209349</td>\n",
       "    </tr>\n",
       "    <tr>\n",
       "      <th>round trip \\n no current</th>\n",
       "      <td>2.764225</td>\n",
       "      <td>8.557419</td>\n",
       "      <td>2.764225</td>\n",
       "    </tr>\n",
       "    <tr>\n",
       "      <th>round trip \\n current</th>\n",
       "      <td>2.821813</td>\n",
       "      <td>8.735698</td>\n",
       "      <td>2.821813</td>\n",
       "    </tr>\n",
       "  </tbody>\n",
       "</table>\n",
       "</div>"
      ],
      "text/plain": [
       "                                         section 1  section 2  section 3\n",
       "single trip \\n no current \\n either way   1.382113   4.278709   1.382113\n",
       "single trip \\n upstream                   1.612465   4.991828   1.612465\n",
       "single trip \\n downstream                 1.209349   3.743871   1.209349\n",
       "round trip \\n no current                  2.764225   8.557419   2.764225\n",
       "round trip \\n current                     2.821813   8.735698   2.821813"
      ]
     },
     "execution_count": 49,
     "metadata": {},
     "output_type": "execute_result"
    }
   ],
   "source": [
    "PM10=df[['total_emission_PM10_kg','total_emission_PM10_up_kg','total_emission_PM10_down_kg',\n",
    "          'total_emission_PM10_round_no_current_kg','total_emission_PM10_round_current_kg']].T\n",
    "PM10.index=['single trip \\n no current \\n either way', 'single trip \\n upstream',\n",
    "                    'single trip \\n downstream', 'round trip \\n no current', 'round trip \\n current']\n",
    "PM10.columns =['section 1','section 2','section 3']\n",
    "PM10.head()"
   ]
  },
  {
   "cell_type": "code",
   "execution_count": 50,
   "id": "93736a1d",
   "metadata": {},
   "outputs": [
    {
     "data": {
      "text/plain": [
       "<AxesSubplot:>"
      ]
     },
     "execution_count": 50,
     "metadata": {},
     "output_type": "execute_result"
    },
    {
     "data": {
      "image/png": "[encoded data removed]",
      "text/plain": [
       "<Figure size 576x216 with 1 Axes>"
      ]
     },
     "metadata": {
      "needs_background": "light"
     },
     "output_type": "display_data"
    }
   ],
   "source": [
    "# creates a stacked bar plot\n",
    "PM10_colors=['#069af3','#02ccfe','#98eff9']\n",
    "PM10.plot(kind='bar', stacked=True,color=PM10_colors,rot=0, figsize=(8, 3))"
   ]
  },
  {
   "cell_type": "code",
   "execution_count": 51,
   "id": "bd0a53eb",
   "metadata": {},
   "outputs": [
    {
     "data": {
      "text/html": [
       "<div>\n",
       "<style scoped>\n",
       "    .dataframe tbody tr th:only-of-type {\n",
       "        vertical-align: middle;\n",
       "    }\n",
       "\n",
       "    .dataframe tbody tr th {\n",
       "        vertical-align: top;\n",
       "    }\n",
       "\n",
       "    .dataframe thead th {\n",
       "        text-align: right;\n",
       "    }\n",
       "</style>\n",
       "<table border=\"1\" class=\"dataframe\">\n",
       "  <thead>\n",
       "    <tr style=\"text-align: right;\">\n",
       "      <th></th>\n",
       "      <th>section 1</th>\n",
       "      <th>section 2</th>\n",
       "      <th>section 3</th>\n",
       "    </tr>\n",
       "  </thead>\n",
       "  <tbody>\n",
       "    <tr>\n",
       "      <th>single trip \\n no current \\n either way</th>\n",
       "      <td>32.436477</td>\n",
       "      <td>107.245899</td>\n",
       "      <td>32.436477</td>\n",
       "    </tr>\n",
       "    <tr>\n",
       "      <th>single trip \\n upstream</th>\n",
       "      <td>37.842556</td>\n",
       "      <td>125.120215</td>\n",
       "      <td>37.842556</td>\n",
       "    </tr>\n",
       "    <tr>\n",
       "      <th>single trip \\n downstream</th>\n",
       "      <td>28.381917</td>\n",
       "      <td>93.840161</td>\n",
       "      <td>28.381917</td>\n",
       "    </tr>\n",
       "    <tr>\n",
       "      <th>round trip \\n no current</th>\n",
       "      <td>64.872954</td>\n",
       "      <td>214.491797</td>\n",
       "      <td>64.872954</td>\n",
       "    </tr>\n",
       "    <tr>\n",
       "      <th>round trip \\n current</th>\n",
       "      <td>66.224474</td>\n",
       "      <td>218.960376</td>\n",
       "      <td>66.224474</td>\n",
       "    </tr>\n",
       "  </tbody>\n",
       "</table>\n",
       "</div>"
      ],
      "text/plain": [
       "                                         section 1   section 2  section 3\n",
       "single trip \\n no current \\n either way  32.436477  107.245899  32.436477\n",
       "single trip \\n upstream                  37.842556  125.120215  37.842556\n",
       "single trip \\n downstream                28.381917   93.840161  28.381917\n",
       "round trip \\n no current                 64.872954  214.491797  64.872954\n",
       "round trip \\n current                    66.224474  218.960376  66.224474"
      ]
     },
     "execution_count": 51,
     "metadata": {},
     "output_type": "execute_result"
    }
   ],
   "source": [
    "NOX=df[['total_emission_NOX_kg','total_emission_NOX_up_kg','total_emission_NOX_down_kg',\n",
    "          'total_emission_NOX_round_no_current_kg','total_emission_NOX_round_current_kg']].T\n",
    "NOX.index=['single trip \\n no current \\n either way', 'single trip \\n upstream',\n",
    "                    'single trip \\n downstream', 'round trip \\n no current', 'round trip \\n current']\n",
    "NOX.columns =['section 1','section 2','section 3']\n",
    "NOX.head()"
   ]
  },
  {
   "cell_type": "code",
   "execution_count": 52,
   "id": "aadd0e04",
   "metadata": {},
   "outputs": [
    {
     "data": {
      "text/plain": [
       "<AxesSubplot:>"
      ]
     },
     "execution_count": 52,
     "metadata": {},
     "output_type": "execute_result"
    },
    {
     "data": {
      "image/png": "[encoded data removed]",
      "text/plain": [
       "<Figure size 576x216 with 1 Axes>"
      ]
     },
     "metadata": {
      "needs_background": "light"
     },
     "output_type": "display_data"
    }
   ],
   "source": [
    "# creates a stacked bar plot\n",
    "NOX_colors=['#cb0162','#ff69af','#fed0fc']\n",
    "NOX.plot(kind='bar', stacked=True,color=NOX_colors,rot=0, figsize=(8, 3))"
   ]
  },
  {
   "cell_type": "markdown",
   "id": "8c80f74f",
   "metadata": {},
   "source": [
    "## Figure output\n",
    "Fuel consumption (b) and emissions (c, d, e) of a fully loaded M8 ship sailing in the waterway with deep and mild deep water depth at different speed and power levels. (a) represents the longisection of a 300 km long and 6 m deep waterway with an 100 km mild deep part (water depth is 4 m) in the mid-section. The actual draught of the M8 ship is 3.5 m with under keel clearances 2.5 m at the deep part and 0.5 m at the mild deep part. Engine construction year: 1990."
   ]
  },
  {
   "cell_type": "code",
   "execution_count": 53,
   "id": "2e37b079",
   "metadata": {},
   "outputs": [],
   "source": [
    "import numpy as np\n",
    "import matplotlib.pyplot as plt\n",
    "import pandas as pd\n",
    "import math \n",
    "import plotly.express as px\n",
    "from plotly.subplots import make_subplots"
   ]
  },
  {
   "cell_type": "code",
   "execution_count": 54,
   "id": "b9dc102f",
   "metadata": {},
   "outputs": [
    {
     "data": {
      "text/plain": [
       "<Figure size 432x288 with 0 Axes>"
      ]
     },
     "metadata": {},
     "output_type": "display_data"
    },
    {
     "data": {
      "image/png": "[encoded data removed]",
      "text/plain": [
       "<Figure size 576x216 with 1 Axes>"
      ]
     },
     "metadata": {
      "needs_background": "light"
     },
     "output_type": "display_data"
    },
    {
     "data": {
      "text/plain": [
       "<Figure size 432x288 with 0 Axes>"
      ]
     },
     "metadata": {},
     "output_type": "display_data"
    },
    {
     "data": {
      "image/png": "[encoded data removed]",
      "text/plain": [
       "<Figure size 576x216 with 1 Axes>"
      ]
     },
     "metadata": {
      "needs_background": "light"
     },
     "output_type": "display_data"
    },
    {
     "data": {
      "text/plain": [
       "<Figure size 432x288 with 0 Axes>"
      ]
     },
     "metadata": {},
     "output_type": "display_data"
    },
    {
     "data": {
      "image/png": "[encoded data removed]",
      "text/plain": [
       "<Figure size 576x216 with 1 Axes>"
      ]
     },
     "metadata": {
      "needs_background": "light"
     },
     "output_type": "display_data"
    },
    {
     "data": {
      "text/plain": [
       "<Figure size 432x288 with 0 Axes>"
      ]
     },
     "metadata": {},
     "output_type": "display_data"
    },
    {
     "data": {
      "image/png": "[encoded data removed]",
      "text/plain": [
       "<Figure size 576x216 with 1 Axes>"
      ]
     },
     "metadata": {
      "needs_background": "light"
     },
     "output_type": "display_data"
    }
   ],
   "source": [
    "# fig,ax=plt.subplots(4, 1, sharex=True)\n",
    "\n",
    "plt.figure()\n",
    "# plt.subplot(411)\n",
    "fuel.plot(kind='bar', stacked=True,color=fuel_colors,rot=0,figsize=(8, 3))\n",
    "plt.ylim(0, 10000)\n",
    "plt.ylabel('Total fuel consumption (kg)',fontsize=12,fontweight='bold')\n",
    "ax = plt.gca()\n",
    "ax.axes.xaxis.set_visible(False)\n",
    "plt.yticks( weight = 'bold')\n",
    "plt.savefig('6-2.5-6current-fuel', dpi=600, format='tif')    \n",
    "\n",
    "plt.figure()\n",
    "# plt.subplot(412)\n",
    "CO2.plot(kind='bar', stacked=True,color=CO2_colors,rot=0,figsize=(8, 3))\n",
    "plt.ylim(0, 30000)\n",
    "plt.ylabel('Total CO2 emission (kg)',fontsize=12,fontweight='bold')\n",
    "ax = plt.gca()\n",
    "ax.axes.xaxis.set_visible(False)\n",
    "plt.yticks( weight = 'bold')\n",
    "plt.savefig('6-2.5-6current-CO2', dpi=600, format='tif') \n",
    "\n",
    "plt.figure()\n",
    "# plt.subplot(413)\n",
    "PM10.plot(kind='bar', stacked=True,color=PM10_colors,rot=0,figsize=(8, 3))\n",
    "plt.ylim(0, 16)\n",
    "plt.ylabel('Total PM10 emission (kg)',fontsize=12,fontweight='bold')\n",
    "ax = plt.gca()\n",
    "ax.axes.xaxis.set_visible(False)\n",
    "plt.yticks( weight = 'bold')\n",
    "plt.savefig('6-2.5-6current-PM10', dpi=600, format='tif') \n",
    "plt.figure()\n",
    "# plt.subplot(414)\n",
    "NOX.plot(kind='bar', stacked=True,color=NOX_colors,rot=0,figsize=(8, 3))\n",
    "plt.ylim(0, 400)\n",
    "\n",
    "plt.ylabel('Total NOx emission (kg)',fontsize=12,fontweight='bold')\n",
    "plt.xticks( weight = 'bold')\n",
    "plt.yticks( weight = 'bold')\n",
    "plt.savefig('6-2.5-6current-NOX', dpi=600, format='tif') \n",
    "\n",
    "\n",
    "plt.show()"
   ]
  },
  {
   "cell_type": "code",
   "execution_count": 55,
   "id": "5b428100",
   "metadata": {},
   "outputs": [
    {
     "data": {
      "image/png": "[encoded data removed]",
      "text/plain": [
       "<Figure size 576x720 with 4 Axes>"
      ]
     },
     "metadata": {
      "needs_background": "light"
     },
     "output_type": "display_data"
    }
   ],
   "source": [
    "\n",
    "fig, axes = plt.subplots(nrows=4, ncols=1,figsize=(8, 10),sharex=True, sharey=False)\n",
    "\n",
    "fuel.plot(ax=axes[0],kind='bar', stacked=True,color=fuel_colors,rot=0)\n",
    "axes[0].set_ylim(0, 10000)\n",
    "axes[0].set_ylabel('Total fuel consumption \\n (kg)',fontsize=10,fontweight='bold',labelpad=22)\n",
    "axes[0].annotate('(a)', xy=(4.27, 10000*7/8), fontsize=12,weight = 'bold')\n",
    "# axes[0].set_yticks(weight = 'bold')\n",
    "# axes[0].set_yticks([0,2000,4000,6000,8000,10000]) \n",
    "# axes[0].set_yticklabels([0,2000,4000,6000,8000,10000], fontsize=10,weight = 'bold')  \n",
    "\n",
    "CO2.plot(ax=axes[1],kind='bar', stacked=True,color=CO2_colors,rot=0)\n",
    "axes[1].set_ylim(0, 30000)\n",
    "axes[1].set_ylabel('Total CO2 emission \\n (kg)',fontsize=10,fontweight='bold',labelpad=3)\n",
    "plt.yticks( weight = 'bold')\n",
    "axes[1].annotate('(b)', xy=(4.27, 30000*7/8), fontsize=12,weight = 'bold')\n",
    "\n",
    "\n",
    "PM10.plot(ax=axes[2],kind='bar', stacked=True,color=PM10_colors,rot=0)\n",
    "axes[2].set_ylim(0, 16)\n",
    "axes[2].set_ylabel('Total PM10 emission \\n (kg)',fontsize=10,fontweight='bold',labelpad=21)\n",
    "axes[2].annotate('(c)', xy=(4.27, 16*7/8), fontsize=12,weight = 'bold')\n",
    "\n",
    "NOX.plot(ax=axes[3],kind='bar', stacked=True,color=NOX_colors,rot=0)\n",
    "axes[3].set_ylim(0, 400)\n",
    "axes[3].set_ylabel('Total NOx emission \\n (kg)',fontsize=10,fontweight='bold',labelpad=8)\n",
    "axes[3].set_xticks(range(0,len(NOX.index)),NOX.index)\n",
    "axes[3].annotate('(d)', xy=(4.27, 400*7/8), fontsize=12,weight = 'bold')\n",
    "\n",
    "\n",
    "plt.show()"
   ]
  },
  {
   "cell_type": "code",
   "execution_count": 56,
   "id": "51ce568b",
   "metadata": {},
   "outputs": [
    {
     "data": {
      "text/plain": [
       "Text(4.27, 8750.0, '(a)')"
      ]
     },
     "execution_count": 56,
     "metadata": {},
     "output_type": "execute_result"
    },
    {
     "data": {
      "image/png": "[encoded data removed]",
      "text/plain": [
       "<Figure size 576x720 with 4 Axes>"
      ]
     },
     "metadata": {
      "needs_background": "light"
     },
     "output_type": "display_data"
    }
   ],
   "source": [
    "\n",
    "fig, axes = plt.subplots(nrows=4, ncols=1,figsize=(8, 10),sharex=True, sharey=False)\n",
    "\n",
    "fuel.plot(ax=axes[0],kind='bar', stacked=True,color=fuel_colors,rot=0)\n",
    "plt.yticks( weight = 'bold')\n",
    "axes[0].set_ylim(0, 10000)\n",
    "axes[0].set_ylabel('Total fuel consumption \\n (kg)',fontsize=10,fontweight='bold',labelpad=22)\n",
    "axes[0].annotate('(a)', xy=(4.27, 10000*7/8), fontsize=12,weight = 'bold')\n"
   ]
  },
  {
   "cell_type": "code",
   "execution_count": null,
   "id": "c339f156",
   "metadata": {},
   "outputs": [],
   "source": []
  }
 ],
 "metadata": {
  "kernelspec": {
   "display_name": "Python 3 (ipykernel)",
   "language": "python",
   "name": "python3"
  },
  "language_info": {
   "codemirror_mode": {
    "name": "ipython",
    "version": 3
   },
   "file_extension": ".py",
   "mimetype": "text/x-python",
   "name": "python",
   "nbconvert_exporter": "python",
   "pygments_lexer": "ipython3",
   "version": "3.9.9"
  }
 },
 "nbformat": 4,
 "nbformat_minor": 5
}
