{
 "cells": [
  {
   "cell_type": "markdown",
   "id": "8415eddf",
   "metadata": {},
   "source": [
    "## greatly restricted water depth 6m-2.5m-6m_fix vessel velocity or power_fuel consumption and emissions "
   ]
  },
  {
   "cell_type": "markdown",
   "id": "37893e32",
   "metadata": {},
   "source": [
    "## Basic simulation - consumes energy-van Dosser actual draught&payload\n",
    "In this notebook, we are going to make a simulation which forces a vessel to move over a certain 1D waterway network. It tries to give one an understanding of the most basic core functions of OpenTNSim and teach one the requirements to set-up a basic OpenTNSim model run. \n",
    "\n",
    "We add some properties to the graph (depth) and the vessel (VesselProperties, HasContainer, ConsumesEnergy) in order to calculate resistance, required power, "
   ]
  },
  {
   "cell_type": "markdown",
   "id": "9e12bfde",
   "metadata": {},
   "source": [
    "### Imports\n",
    "Import the required libraries"
   ]
  },
  {
   "cell_type": "code",
   "execution_count": 1,
   "id": "d4e73aa6",
   "metadata": {},
   "outputs": [],
   "source": [
    "# package(s) related to time, space and id\n",
    "import datetime, time\n",
    "import platform\n",
    "\n",
    "# you need these dependencies (you can get these from anaconda)\n",
    "# package(s) related to the simulation\n",
    "import simpy\n",
    "import pandas as pd\n",
    "\n",
    "# spatial libraries \n",
    "import pyproj\n",
    "import shapely.geometry\n",
    "from simplekml import Kml, Style\n",
    "\n",
    "# package(s) for data handling\n",
    "import numpy as np\n",
    "import matplotlib.pyplot as plt\n",
    "\n",
    "# OpenTNSim\n",
    "import opentnsim\n",
    "\n",
    "# Used for mathematical functions\n",
    "import math             \n",
    "\n",
    "# Used for making the graph to visualize our problem\n",
    "import networkx as nx   "
   ]
  },
  {
   "cell_type": "markdown",
   "id": "50a15fcc",
   "metadata": {},
   "source": [
    "### Create graph\n",
    "We first need to create a 1D network (a graph) along which the vessel will move. A graph contains edges (blue dots in plot below) and vertices (black lines in plot below). For this example, we will construct a network consisting of 4 nodes in a straight line. Since we would like to have two-way traffic, we add two edges between each pair of nodes: one from left to right, and another the other way around (however, we could easily apply one-way traffic as well by remove one of the two edges). Consequently, we arrive at a total of 4 nodes, and 6 edges.\n",
    "\n",
    "Due to the nature of discrete modelling in which the time step is dependent on the activities (in this example: forcing a ship to move from node to node from its origin to its destination), it is important to add OpenTNSim mix-ins to the nodes in such a way we could identify the node (mix-in Identifiable, which imports a name and imports/creates an ID), and to locate the node (mix-in Locatable, which gives the node a geometry).\n"
   ]
  },
  {
   "cell_type": "code",
   "execution_count": 2,
   "id": "d5683a95",
   "metadata": {},
   "outputs": [
    {
     "data": {
      "image/png": "[encoded data removed]",
      "text/plain": [
       "<Figure size 432x288 with 1 Axes>"
      ]
     },
     "metadata": {},
     "output_type": "display_data"
    }
   ],
   "source": [
    "FG = nx.DiGraph()\n",
    "nodes = []\n",
    "path = []\n",
    "\n",
    "Node = type('Site', (opentnsim.core.Identifiable, opentnsim.core.Locatable), {})\n",
    "\n",
    "data_node_1 = {\"name\": \"Node 1\",\n",
    "               \"geometry\": shapely.geometry.Point(0, 0)}\n",
    "data_node_2 = {\"name\": \"Node 2\",\n",
    "               \"geometry\": shapely.geometry.Point(0.8983, 0)}  # 0.8983 degree =100km\n",
    "data_node_3 = {\"name\": \"Node 3\",\n",
    "               \"geometry\": shapely.geometry.Point(1.7966, 0)}   # 1.7966 degree =200km\n",
    "data_node_4 = {\"name\": \"Node 4\",\n",
    "               \"geometry\": shapely.geometry.Point(2.6949, 0)}    # 2.6949 degree =300km\n",
    "\n",
    "node_1 = Node(**data_node_1)\n",
    "node_2 = Node(**data_node_2)\n",
    "node_3 = Node(**data_node_3)\n",
    "node_4 = Node(**data_node_4)\n",
    "\n",
    "nodes = [node_1, node_2, node_3, node_4]\n",
    "\n",
    "positions = {}\n",
    "for node in nodes:\n",
    "    positions[node.name] = (node.geometry.x, node.geometry.y)\n",
    "    FG.add_node(node.name, geometry = node.geometry)\n",
    "\n",
    "path = [[node_1, node_2], # From node 1 to node 2\n",
    "        [node_2, node_3], # From node 2 to node 3\n",
    "        [node_3, node_4], # From node 3 to node 4\n",
    "        [node_4, node_3], # From node 4 to node 3\n",
    "        [node_3, node_2], # From node 3 to node 2\n",
    "        [node_2, node_1]] # From node 2 to node 1\n",
    "\n",
    "for edge in path:\n",
    "    # For the energy consumption calculation we add info to the graph. We need depth info for resistance.\n",
    "    # NB: the CalculateEnergy routine expects the graph to have \"Info\" that contains \"GeneralDepth\" \n",
    "    #     this may not be very generic!\n",
    "    if edge == [node_2, node_3] or edge == [node_3, node_2]:\n",
    "        FG.add_edge(edge[0].name, edge[1].name, weight = 1, Info = {\"GeneralDepth\": 2.5})\n",
    "    else:\n",
    "        FG.add_edge(edge[0].name, edge[1].name, weight = 1, Info = {\"GeneralDepth\": 6})\n",
    "    \n",
    "# env.FG = FG\n",
    "nx.draw(FG, positions)\n",
    "plt.show()"
   ]
  },
  {
   "cell_type": "code",
   "execution_count": 3,
   "id": "3a375d91",
   "metadata": {},
   "outputs": [
    {
     "name": "stdout",
     "output_type": "stream",
     "text": [
      "General depth for edge ('Node 1', 'Node 2') is 6\n",
      "General depth for edge ('Node 2', 'Node 3') is 2.5\n",
      "General depth for edge ('Node 2', 'Node 1') is 6\n",
      "General depth for edge ('Node 3', 'Node 4') is 6\n",
      "General depth for edge ('Node 3', 'Node 2') is 2.5\n",
      "General depth for edge ('Node 4', 'Node 3') is 6\n"
     ]
    }
   ],
   "source": [
    "# This cell just shows that now a depth of 10 m is added to the edges. \n",
    "# You can use this to vary depths, e.g. make the middle edge shallower. Note that edges are bi-directional \n",
    "for edge in FG.edges:\n",
    "    print('General depth for edge {} is {}'.format(edge, FG.get_edge_data(edge[0], edge[1])[\"Info\"][\"GeneralDepth\"]))"
   ]
  },
  {
   "cell_type": "markdown",
   "id": "35391829",
   "metadata": {},
   "source": [
    "### Create vessel - add VesselProperties and ConsumesEnergy mixins\n",
    "The following mix-ins are required for each vessel in our problem: Identifiable (gives the vessel a name and a random ID), Movable (gives that the object (*vessel*) can move with a fixed speed and logs this activity, it requires input for the following mix-ins: Locatable, Routeable, and Log), and Routable (gives the object a route). We now modify our original vessel from the basic example and include vessel properties (like width, length, etc.) and a mixin that is needed to calculate resistance and energy consumption. "
   ]
  },
  {
   "cell_type": "code",
   "execution_count": 4,
   "id": "aa92d0e3",
   "metadata": {},
   "outputs": [],
   "source": [
    "# Make your preferred class out of available mix-ins.\n",
    "TransportResource = type('Vessel', \n",
    "                         (opentnsim.core.Identifiable, \n",
    "                          opentnsim.core.Movable, \n",
    "                          opentnsim.core.Routeable,\n",
    "                          opentnsim.core.VesselProperties,     # needed to add vessel properties\n",
    "                          opentnsim.core.HasContainer,         # needed to calculate filling degree for draught\n",
    "                          opentnsim.core.ConsumesEnergy), {})  # needed to calculate resistances            "
   ]
  },
  {
   "cell_type": "code",
   "execution_count": 5,
   "id": "59be2e54",
   "metadata": {},
   "outputs": [],
   "source": [
    "# Create a dict with all important settings\n",
    "data_vessel = {\"env\": None,\n",
    "               \"name\": None,\n",
    "               \"route\": None,\n",
    "               \"geometry\": None,\n",
    "               \"v\":3.5,  # m/s\n",
    "               \"type\": 'Dortmund-Eems (L <= 74 m)', # <-- note that inputs from hereon are due to the added mixins!\n",
    "               \"B\": 11.4,\n",
    "               \"L\": 110,\n",
    "               \"capacity\": 3000,   # maximum designed payload\n",
    "               \"level\":3000,     # actual payload\n",
    "               \"H_e\": None, \n",
    "               \"H_f\": None, \n",
    "               \"T_e\":None, \n",
    "               \"T_f\":None, \n",
    "               \n",
    "               \"P_installed\":1750.0,   \n",
    "               \"P_given\":None,\n",
    "               \"L_w\": 3.0 ,\n",
    "               \"C_b\":0.85, \n",
    "               \"c_year\":1990,\n",
    "               \"current_year\":None\n",
    "              }               \n",
    "\n",
    "vessel = TransportResource(**data_vessel)"
   ]
  },
  {
   "cell_type": "markdown",
   "id": "1d7abf4c",
   "metadata": {},
   "source": [
    "### Define paths\n",
    "We are going to create a simulation in which a vessel moves from *Node 1* to *Node 4*. Therefore, we need to create a vessel to which we will need to append this paths. Therefore, first let's create the path."
   ]
  },
  {
   "cell_type": "code",
   "execution_count": 6,
   "id": "088664b6",
   "metadata": {},
   "outputs": [],
   "source": [
    "path = nx.dijkstra_path(FG, node_1.name, node_4.name)"
   ]
  },
  {
   "cell_type": "markdown",
   "id": "23ceac15",
   "metadata": {},
   "source": [
    "### Run simulation\n",
    "Now we can define the run. First, we make an environment and add the graph to the environment. Then we add one vessel, to which we will append the environment and the above route. Lastly, we give the vessel the process of moving from the origin to the destination of the defined path and subsequently run the model."
   ]
  },
  {
   "cell_type": "code",
   "execution_count": 7,
   "id": "edae679f",
   "metadata": {},
   "outputs": [],
   "source": [
    "# Start simpy environment\n",
    "simulation_start = datetime.datetime.now()\n",
    "env = simpy.Environment(initial_time = time.mktime(simulation_start.timetuple()))\n",
    "env.epoch = time.mktime(simulation_start.timetuple())\n",
    "\n",
    "# Add graph to environment\n",
    "env.FG = FG\n",
    "\n",
    "# Add environment and path to the vessel\n",
    "vessel.env = env                                        #the created environment\n",
    "vessel.name = 'Vessel No.1'                     \n",
    "vessel.route = path                                     #the route (the sequence of nodes, as stored as the second column in the path)\n",
    "vessel.geometry = env.FG.nodes[path[0]]['geometry']     #a shapely.geometry.Point(lon,lat) (here taken as the starting node of the vessel)"
   ]
  },
  {
   "cell_type": "code",
   "execution_count": 8,
   "id": "4ffa9c12",
   "metadata": {},
   "outputs": [
    {
     "name": "stdout",
     "output_type": "stream",
     "text": [
      "minimal depth on route is: 2.5 m\n"
     ]
    }
   ],
   "source": [
    "h_min = np.inf\n",
    "for index, edge in enumerate(vessel.route[:-1]):\n",
    "    # step through each edge and adjust the minimum if it is lower than the previous minimum (start at inf)\n",
    "    h_min = np.min([h_min, FG.get_edge_data(vessel.route[index], vessel.route[index+1])[\"Info\"][\"GeneralDepth\"]])\n",
    "\n",
    "print('minimal depth on route is: {} m'.format(h_min))"
   ]
  },
  {
   "cell_type": "code",
   "execution_count": 9,
   "id": "631cf79c",
   "metadata": {},
   "outputs": [
    {
     "name": "stdout",
     "output_type": "stream",
     "text": [
      "The actual draft is 2.2 m\n",
      "The actual_max_payload is 1393.8605768943894 ton\n",
      "2.2\n",
      "1393.8605768943894\n"
     ]
    }
   ],
   "source": [
    "#draught, payload = vessel.calculate_actual_T_and_payload(h_min, 0.3)\n",
    "draught, payload = vessel.calculate_actual_T_and_payload(h_min, 0.3, \"Dry_DH\") #draught, payload = vessel.calculate_actual_T_and_payload(h_min, ukc, vesl_type)\n",
    "                                                                    #  should be \"Container\",\"Dry\",\"Barge\" or \"Tanker\"'\n",
    "print(draught)\n",
    "print(payload)"
   ]
  },
  {
   "cell_type": "code",
   "execution_count": 10,
   "id": "7d95695a",
   "metadata": {},
   "outputs": [],
   "source": [
    "# Start the simulation\n",
    "env.process(vessel.move())\n",
    "env.run()"
   ]
  },
  {
   "cell_type": "markdown",
   "id": "b9809901",
   "metadata": {},
   "source": [
    "### Output\n",
    "We can now analyse the output of the simulation, which consists of the log-file of the vessel. We got this log-file as we added the log mix-in of OpenTNSim. This log-file keeps track of the moving activities of the vessel, and at which time and location they occur. The log-file could also keep track of an additional value, such as waiting times, which are not included here in this simulation.\n",
    "\n",
    "As you can see, the vessel moves from its origin (*Node 1*) to its destination (*Node 4*) by passing *Node 2* and *Node 3* respectively. The time is calculated by the greater circle distance between the nodes, divided by the speed of the vessel.\n",
    "\n",
    "Using this log-file, we could for example plot a time-distance graph."
   ]
  },
  {
   "cell_type": "code",
   "execution_count": 11,
   "id": "25f6966b",
   "metadata": {},
   "outputs": [
    {
     "data": {
      "text/html": [
       "<div>\n",
       "<style scoped>\n",
       "    .dataframe tbody tr th:only-of-type {\n",
       "        vertical-align: middle;\n",
       "    }\n",
       "\n",
       "    .dataframe tbody tr th {\n",
       "        vertical-align: top;\n",
       "    }\n",
       "\n",
       "    .dataframe thead th {\n",
       "        text-align: right;\n",
       "    }\n",
       "</style>\n",
       "<table border=\"1\" class=\"dataframe\">\n",
       "  <thead>\n",
       "    <tr style=\"text-align: right;\">\n",
       "      <th></th>\n",
       "      <th>Message</th>\n",
       "      <th>Timestamp</th>\n",
       "      <th>Value</th>\n",
       "      <th>Geometry</th>\n",
       "    </tr>\n",
       "  </thead>\n",
       "  <tbody>\n",
       "    <tr>\n",
       "      <th>0</th>\n",
       "      <td>Sailing from node Node 1 to node Node 2 start</td>\n",
       "      <td>2021-07-06 13:56:12.000000</td>\n",
       "      <td>0</td>\n",
       "      <td>POINT (0 0)</td>\n",
       "    </tr>\n",
       "    <tr>\n",
       "      <th>1</th>\n",
       "      <td>Sailing from node Node 1 to node Node 2 stop</td>\n",
       "      <td>2021-07-06 21:52:22.942451</td>\n",
       "      <td>0</td>\n",
       "      <td>POINT (0.8983 0)</td>\n",
       "    </tr>\n",
       "    <tr>\n",
       "      <th>2</th>\n",
       "      <td>Sailing from node Node 2 to node Node 3 start</td>\n",
       "      <td>2021-07-06 21:52:22.942451</td>\n",
       "      <td>0</td>\n",
       "      <td>POINT (0.8983 0)</td>\n",
       "    </tr>\n",
       "    <tr>\n",
       "      <th>3</th>\n",
       "      <td>Sailing from node Node 2 to node Node 3 stop</td>\n",
       "      <td>2021-07-07 05:48:33.884902</td>\n",
       "      <td>0</td>\n",
       "      <td>POINT (1.7966 0)</td>\n",
       "    </tr>\n",
       "    <tr>\n",
       "      <th>4</th>\n",
       "      <td>Sailing from node Node 3 to node Node 4 start</td>\n",
       "      <td>2021-07-07 05:48:33.884902</td>\n",
       "      <td>0</td>\n",
       "      <td>POINT (1.7966 0)</td>\n",
       "    </tr>\n",
       "    <tr>\n",
       "      <th>5</th>\n",
       "      <td>Sailing from node Node 3 to node Node 4 stop</td>\n",
       "      <td>2021-07-07 13:44:44.827354</td>\n",
       "      <td>0</td>\n",
       "      <td>POINT (2.6949 0)</td>\n",
       "    </tr>\n",
       "  </tbody>\n",
       "</table>\n",
       "</div>"
      ],
      "text/plain": [
       "                                         Message                  Timestamp  \\\n",
       "0  Sailing from node Node 1 to node Node 2 start 2021-07-06 13:56:12.000000   \n",
       "1   Sailing from node Node 1 to node Node 2 stop 2021-07-06 21:52:22.942451   \n",
       "2  Sailing from node Node 2 to node Node 3 start 2021-07-06 21:52:22.942451   \n",
       "3   Sailing from node Node 2 to node Node 3 stop 2021-07-07 05:48:33.884902   \n",
       "4  Sailing from node Node 3 to node Node 4 start 2021-07-07 05:48:33.884902   \n",
       "5   Sailing from node Node 3 to node Node 4 stop 2021-07-07 13:44:44.827354   \n",
       "\n",
       "   Value          Geometry  \n",
       "0      0       POINT (0 0)  \n",
       "1      0  POINT (0.8983 0)  \n",
       "2      0  POINT (0.8983 0)  \n",
       "3      0  POINT (1.7966 0)  \n",
       "4      0  POINT (1.7966 0)  \n",
       "5      0  POINT (2.6949 0)  "
      ]
     },
     "execution_count": 11,
     "metadata": {},
     "output_type": "execute_result"
    }
   ],
   "source": [
    "df = pd.DataFrame.from_dict(vessel.log)\n",
    "df"
   ]
  },
  {
   "cell_type": "markdown",
   "id": "c61aa3a4",
   "metadata": {},
   "source": [
    "### Post processing: calculate energy consumptions and emissions"
   ]
  },
  {
   "cell_type": "code",
   "execution_count": 12,
   "id": "284ea583",
   "metadata": {},
   "outputs": [],
   "source": [
    "# create an EnergyCalculation object (graph FG and vessel are needed as input)\n",
    "energycalculation = opentnsim.energy.EnergyCalculation(FG, vessel)"
   ]
  },
  {
   "cell_type": "code",
   "execution_count": 13,
   "id": "de0f3f1a",
   "metadata": {},
   "outputs": [
    {
     "name": "stdout",
     "output_type": "stream",
     "text": [
      "delta_t: 28570.9425 s\n",
      "distance: 99998.2986 m\n",
      "velocity: 3.5000 m/s\n",
      "The total power required is 371.1320287538226 kW\n",
      "The actual total power given is 371.1320287538226 kW\n",
      "The partial load is 0.21207544500218437\n",
      "The construction year of the engine is 1990\n",
      "The general emission factor of CO2 is 698 g/kWh\n",
      "The general emission factor of PM10 is 0.4 g/kWh\n",
      "The general emission factor CO2 is 10.1 g/kWh\n",
      "The general fuel consumption factor is 220 g/kWh\n",
      "The total power required is 371.1320287538226 kW\n",
      "The actual total power given is 371.1320287538226 kW\n",
      "The partial load is 0.21207544500218437\n",
      "Correction factor of CO2 is 1.1451698219991262\n",
      "Correction factor of PM10 is 1.173094376996942\n",
      "Correction factor of NOX is 1.0903396439982527\n",
      "Correction factor of fuel consumption is 1.1451698219991262\n",
      "The total emission factor of CO2 is 799.3285357553901 g/kWh\n",
      "The total emission factor of PM10 is 0.46923775079877683 g/kWh\n",
      "The total emission factor CO2 is 11.012430404382352 g/kWh\n",
      "The total fuel consumption factor is 251.93736083980775 g/kWh\n",
      "delta_t: 28570.9425 s\n",
      "distance: 99998.2986 m\n",
      "velocity: 3.5000 m/s\n",
      "The total power required is 1375.322828823639 kW\n",
      "The actual total power given is 1375.322828823639 kW\n",
      "The partial load is 0.7858987593277936\n",
      "The construction year of the engine is 1990\n",
      "The general emission factor of CO2 is 698 g/kWh\n",
      "The general emission factor of PM10 is 0.4 g/kWh\n",
      "The general emission factor CO2 is 10.1 g/kWh\n",
      "The general fuel consumption factor is 220 g/kWh\n",
      "The total power required is 1375.322828823639 kW\n",
      "The actual total power given is 1375.322828823639 kW\n",
      "The partial load is 0.7858987593277936\n",
      "Correction factor of CO2 is 1.0\n",
      "Correction factor of PM10 is 0.98\n",
      "Correction factor of NOX is 0.9728202481344412\n",
      "Correction factor of fuel consumption is 1.0\n",
      "The total emission factor of CO2 is 698.0 g/kWh\n",
      "The total emission factor of PM10 is 0.392 g/kWh\n",
      "The total emission factor CO2 is 9.825484506157856 g/kWh\n",
      "The total fuel consumption factor is 220.0 g/kWh\n",
      "delta_t: 28570.9425 s\n",
      "distance: 99998.2986 m\n",
      "velocity: 3.5000 m/s\n",
      "The total power required is 371.1320287117176 kW\n",
      "The actual total power given is 371.1320287117176 kW\n",
      "The partial load is 0.21207544497812436\n",
      "The construction year of the engine is 1990\n",
      "The general emission factor of CO2 is 698 g/kWh\n",
      "The general emission factor of PM10 is 0.4 g/kWh\n",
      "The general emission factor CO2 is 10.1 g/kWh\n",
      "The general fuel consumption factor is 220 g/kWh\n",
      "The total power required is 371.1320287117176 kW\n",
      "The actual total power given is 371.1320287117176 kW\n",
      "The partial load is 0.21207544497812436\n",
      "Correction factor of CO2 is 1.14516982200875\n",
      "Correction factor of PM10 is 1.173094377030626\n",
      "Correction factor of NOX is 1.0903396440175006\n",
      "Correction factor of fuel consumption is 1.14516982200875\n",
      "The total emission factor of CO2 is 799.3285357621075 g/kWh\n",
      "The total emission factor of PM10 is 0.4692377508122504 g/kWh\n",
      "The total emission factor CO2 is 11.012430404576756 g/kWh\n",
      "The total fuel consumption factor is 251.937360841925 g/kWh\n"
     ]
    }
   ],
   "source": [
    "# we can now work out in hindsight what resistance, power, energy and emissions were generated\n",
    "energycalculation.calculate_energy_consumption()\n",
    "\n",
    "# ToDo:\n",
    "# - perhaps add to the printstatements which edge is sailed \n",
    "# - may be the print statements can be cleaned up (fewer significant digits)\n",
    "# - possibly even make it optional to print this, because the next cells show dataframes with the output\n",
    "# - etc"
   ]
  },
  {
   "cell_type": "code",
   "execution_count": 14,
   "id": "6e5f4a42",
   "metadata": {},
   "outputs": [
    {
     "data": {
      "text/html": [
       "<div>\n",
       "<style scoped>\n",
       "    .dataframe tbody tr th:only-of-type {\n",
       "        vertical-align: middle;\n",
       "    }\n",
       "\n",
       "    .dataframe tbody tr th {\n",
       "        vertical-align: top;\n",
       "    }\n",
       "\n",
       "    .dataframe thead th {\n",
       "        text-align: right;\n",
       "    }\n",
       "</style>\n",
       "<table border=\"1\" class=\"dataframe\">\n",
       "  <thead>\n",
       "    <tr style=\"text-align: right;\">\n",
       "      <th></th>\n",
       "      <th>time_start</th>\n",
       "      <th>time_stop</th>\n",
       "      <th>edge_start</th>\n",
       "      <th>edge_stop</th>\n",
       "      <th>total_energy</th>\n",
       "      <th>total_fuel_consumption</th>\n",
       "      <th>total_emission_CO2</th>\n",
       "      <th>total_emission_PM10</th>\n",
       "      <th>total_emission_NOX</th>\n",
       "      <th>stationary</th>\n",
       "      <th>water depth</th>\n",
       "      <th>distance</th>\n",
       "      <th>delta_t</th>\n",
       "      <th>CO2_g_km</th>\n",
       "      <th>PM10_g_km</th>\n",
       "      <th>NOX_g_km</th>\n",
       "      <th>diesel_kg_km</th>\n",
       "    </tr>\n",
       "  </thead>\n",
       "  <tbody>\n",
       "    <tr>\n",
       "      <th>0</th>\n",
       "      <td>2021-07-06 13:56:12.000000</td>\n",
       "      <td>2021-07-06 21:52:22.942451</td>\n",
       "      <td>POINT (0 0)</td>\n",
       "      <td>POINT (0.8983 0)</td>\n",
       "      <td>2945.442176</td>\n",
       "      <td>742.066928</td>\n",
       "      <td>2.354376e+06</td>\n",
       "      <td>1382.112662</td>\n",
       "      <td>32436.476978</td>\n",
       "      <td>0</td>\n",
       "      <td>6.0</td>\n",
       "      <td>99998.29858</td>\n",
       "      <td>28570.942451</td>\n",
       "      <td>23544.160406</td>\n",
       "      <td>13.821362</td>\n",
       "      <td>324.370289</td>\n",
       "      <td>6.627358</td>\n",
       "    </tr>\n",
       "    <tr>\n",
       "      <th>1</th>\n",
       "      <td>2021-07-06 21:52:22.942451</td>\n",
       "      <td>2021-07-07 05:48:33.884902</td>\n",
       "      <td>POINT (0.8983 0)</td>\n",
       "      <td>POINT (1.7966 0)</td>\n",
       "      <td>10915.074832</td>\n",
       "      <td>2401.316463</td>\n",
       "      <td>7.618722e+06</td>\n",
       "      <td>4278.709334</td>\n",
       "      <td>107245.898642</td>\n",
       "      <td>0</td>\n",
       "      <td>2.5</td>\n",
       "      <td>99998.29858</td>\n",
       "      <td>28570.942451</td>\n",
       "      <td>76188.518612</td>\n",
       "      <td>42.787821</td>\n",
       "      <td>1072.477234</td>\n",
       "      <td>24.559336</td>\n",
       "    </tr>\n",
       "    <tr>\n",
       "      <th>2</th>\n",
       "      <td>2021-07-07 05:48:33.884902</td>\n",
       "      <td>2021-07-07 13:44:44.827354</td>\n",
       "      <td>POINT (1.7966 0)</td>\n",
       "      <td>POINT (2.6949 0)</td>\n",
       "      <td>2945.442176</td>\n",
       "      <td>742.066928</td>\n",
       "      <td>2.354376e+06</td>\n",
       "      <td>1382.112662</td>\n",
       "      <td>32436.476976</td>\n",
       "      <td>0</td>\n",
       "      <td>6.0</td>\n",
       "      <td>99998.29858</td>\n",
       "      <td>28570.942452</td>\n",
       "      <td>23544.160404</td>\n",
       "      <td>13.821362</td>\n",
       "      <td>324.370289</td>\n",
       "      <td>6.627358</td>\n",
       "    </tr>\n",
       "  </tbody>\n",
       "</table>\n",
       "</div>"
      ],
      "text/plain": [
       "                  time_start                  time_stop        edge_start  \\\n",
       "0 2021-07-06 13:56:12.000000 2021-07-06 21:52:22.942451       POINT (0 0)   \n",
       "1 2021-07-06 21:52:22.942451 2021-07-07 05:48:33.884902  POINT (0.8983 0)   \n",
       "2 2021-07-07 05:48:33.884902 2021-07-07 13:44:44.827354  POINT (1.7966 0)   \n",
       "\n",
       "          edge_stop  total_energy  total_fuel_consumption  total_emission_CO2  \\\n",
       "0  POINT (0.8983 0)   2945.442176              742.066928        2.354376e+06   \n",
       "1  POINT (1.7966 0)  10915.074832             2401.316463        7.618722e+06   \n",
       "2  POINT (2.6949 0)   2945.442176              742.066928        2.354376e+06   \n",
       "\n",
       "   total_emission_PM10  total_emission_NOX  stationary  water depth  \\\n",
       "0          1382.112662        32436.476978           0          6.0   \n",
       "1          4278.709334       107245.898642           0          2.5   \n",
       "2          1382.112662        32436.476976           0          6.0   \n",
       "\n",
       "      distance       delta_t      CO2_g_km  PM10_g_km     NOX_g_km  \\\n",
       "0  99998.29858  28570.942451  23544.160406  13.821362   324.370289   \n",
       "1  99998.29858  28570.942451  76188.518612  42.787821  1072.477234   \n",
       "2  99998.29858  28570.942452  23544.160404  13.821362   324.370289   \n",
       "\n",
       "   diesel_kg_km  \n",
       "0      6.627358  \n",
       "1     24.559336  \n",
       "2      6.627358  "
      ]
     },
     "execution_count": 14,
     "metadata": {},
     "output_type": "execute_result"
    }
   ],
   "source": [
    "df = pd.DataFrame.from_dict(energycalculation.energy_use)\n",
    "df['CO2_g_km'] = df['total_emission_CO2'] / df['distance']*1000\n",
    "df['PM10_g_km'] = df['total_emission_PM10'] / df['distance']*1000\n",
    "df['NOX_g_km'] = df['total_emission_NOX'] / df['distance']*1000\n",
    "df['diesel_kg_km'] = df['total_energy'] *0.225/ df['distance']*1000 \n",
    "df.head()"
   ]
  },
  {
   "cell_type": "markdown",
   "id": "8c80f74f",
   "metadata": {},
   "source": [
    "## Figure output\n",
    "Fuel consumption (b) and emissions (c, d, e) of a fully loaded M8 ship sailing in the waterway with deep and mild deep water depth at different speed and power levels. (a) represents the longisection of a 300 km long and 6 m deep waterway with an 100 km mild deep part (water depth is 4 m) in the mid-section. The actual draught of the M8 ship is 3.5 m with under keel clearances 2.5 m at the deep part and 0.5 m at the mild deep part. Engine construction year: 1990."
   ]
  },
  {
   "cell_type": "code",
   "execution_count": 15,
   "id": "2e37b079",
   "metadata": {},
   "outputs": [],
   "source": [
    "import numpy as np\n",
    "import matplotlib.pyplot as plt\n",
    "import pandas as pd\n",
    "import math \n",
    "import plotly.express as px\n",
    "from plotly.subplots import make_subplots"
   ]
  },
  {
   "cell_type": "code",
   "execution_count": 16,
   "id": "b9dc102f",
   "metadata": {},
   "outputs": [
    {
     "name": "stderr",
     "output_type": "stream",
     "text": [
      "No handles with labels found to put in legend.\n"
     ]
    },
    {
     "data": {
      "image/png": "[encoded data removed]",
      "text/plain": [
       "<Figure size 576x720 with 5 Axes>"
      ]
     },
     "metadata": {
      "needs_background": "light"
     },
     "output_type": "display_data"
    }
   ],
   "source": [
    "fig, axs = plt.subplots(5, 1, figsize=(8, 10), sharex=True,constrained_layout=True)\n",
    "fontsize=15\n",
    "ax=plt.subplot(511)\n",
    "\n",
    "dist=[0,100,100,200,200,300]\n",
    "water_level=[3.8,3.8,0.3,0.3,3.8,3.8,]\n",
    "bed_level=[1,1,4.5,4.5,1,1]\n",
    "draft=[2.2,2.2,2.2,2.2,2.2,2.2]\n",
    "\n",
    "# Basic stacked area chart.\n",
    "plt.stackplot(dist,bed_level,water_level,draft, labels=['bed','water','actural draught'],colors=['#7f7053','#75bbfd','#95d0fc'])\n",
    "#plt.legend(loc='center left', bbox_to_anchor=(1, 0.5))\n",
    "#plt.plot(dist,draft,'k')\n",
    "plt.ylabel('Longitudinal section \\n of the waterway',fontsize=12,fontweight='bold')\n",
    "plt.xlim(0, 300)\n",
    "plt.ylim(0, 13)\n",
    "plt.xticks( weight = 'bold')\n",
    "plt.yticks([1,4.8,7], weight = 'bold')\n",
    "ax.legend(loc='upper left')\n",
    "\n",
    "ax=plt.subplot(512)\n",
    "\n",
    "dist=([0,100,100,200,200,300])\n",
    "diesel_fv1=([5.89,5.89,9.91,9.91,5.89,5.89,])\n",
    "diesel_fv2=([7.42,7.42,24.01,24.01,7.42,7.42,])\n",
    "\n",
    "diesel_fp1=([5.89,5.89,6.81,6.81,5.89,5.89,])\n",
    "diesel_fp2=([7.42,7.42,8.9,8.9,7.42,7.42,])\n",
    "\n",
    "\n",
    "plt.plot(dist, diesel_fv1,':',color='#b7e1a1',linewidth='2.5',label='V=3m/s')\n",
    "plt.plot(dist, diesel_fv2,':',color='#a6c875',linewidth='2.5',label='V=3.5m/s')\n",
    "\n",
    "plt.plot(dist, diesel_fp1,color='#ccad60',linewidth='2',label='P=244kW')\n",
    "plt.plot(dist, diesel_fp2,color='#ad900d',linewidth='2',label='P=371kW')\n",
    "\n",
    "# Put a legend to the right of the current axis\n",
    "#ax.legend(loc='center left', bbox_to_anchor=(1, 0.5))\n",
    "plt.ylabel('Fuel consumption \\n (kg/km)',fontsize=12,fontweight='bold')\n",
    "plt.ylim(0, 25)\n",
    "plt.xlim(0, 300)\n",
    "plt.xticks( weight = 'bold')\n",
    "plt.yticks( weight = 'bold')\n",
    "ax.legend(loc='upper left')\n",
    "\n",
    "\n",
    "ax=plt.subplot(513)\n",
    "ax.legend(loc='upper left')\n",
    "dist=([0,100,100,200,200,300])\n",
    "EMrCO2_fv1=([18689,18689,31440,31440,18689,18689,])\n",
    "EMrCO2_fv2=([23544,23544,76189,76189,23544,23544,])\n",
    "\n",
    "EMrCO2_fp1=([18689,18689,21610,21610,18689,18689,])\n",
    "EMrCO2_fp2=([23544,23544,28240,28240,23544,23544,])\n",
    "\n",
    "\n",
    "plt.plot(dist, EMrCO2_fv1,':',color='#fffd37',linewidth='2.5',label='V=3m/s')\n",
    "plt.plot(dist, EMrCO2_fv2,':',color='#ffab0f',linewidth='2.5',label='V=3.5m/s')\n",
    "\n",
    "plt.plot(dist, EMrCO2_fp1,color='#ffb07c',linewidth='2',label='P=244kW')\n",
    "plt.plot(dist, EMrCO2_fp2,color='#ff796c',linewidth='2',label='P=371kW')\n",
    "\n",
    "# Put a legend to the right of the current axis\n",
    "ax.legend(loc='upper left')\n",
    "plt.ylabel('CO2 emission rate \\n (g/km)',fontsize=12,fontweight='bold')\n",
    "plt.ylim(0, 80000)\n",
    "plt.xlim(0, 300)\n",
    "plt.xticks( weight = 'bold')\n",
    "plt.yticks( weight = 'bold')\n",
    "\n",
    "\n",
    "ax=plt.subplot(514)\n",
    "dist=([0,100,100,200,200,300])\n",
    "EMrPM10_fv1=([12.52,12.52,17.93,17.93,12.52,12.52,])\n",
    "EMrPM10_fv2=([13.82,13.82,42.79,42.79,13.82,13.82])\n",
    "\n",
    "EMrPM10_fp1=([12.52,12.52,14.45,14.45,12.52,12.52,])\n",
    "EMrPM10_fp2=([13.82,13.82,16.58,16.58,13.82,13.82])\n",
    "\n",
    "plt.plot(dist, EMrPM10_fv1,':',color='#d4ffff',linewidth='2.5',label='V=3m/s')\n",
    "plt.plot(dist, EMrPM10_fv2,':',color='#41fdfe',linewidth='2.5',label='V=3.5m/s')\n",
    "\n",
    "plt.plot(dist, EMrPM10_fp1,color='#b1d1fc',linewidth='2',label='P=244kW')\n",
    "plt.plot(dist, EMrPM10_fp2,color='#8ab8fe',linewidth='2',label='P=371kW')\n",
    "ax.legend(loc='upper left')\n",
    "# Put a legend to the right of the current axis\n",
    "#ax.legend(loc='center left', bbox_to_anchor=(1, 0.5))\n",
    "plt.ylabel('PM10 emission rate \\n (g/km)',fontsize=12,fontweight='bold')\n",
    "plt.ylim(0, 50)\n",
    "plt.xlim(0, 300)\n",
    "plt.xticks( weight = 'bold')\n",
    "plt.yticks( weight = 'bold')\n",
    "ax=plt.subplot(515)\n",
    "\n",
    "dist=([0,100,100,200,200,300])\n",
    "EMrNOx_fv1=([275,275,427.5,427.5,275,275,])\n",
    "EMrNOx_fv2=([324.37,324.37,1072.48,1072.48,324.37,324.37,])\n",
    "\n",
    "EMrNOx_fp1=([275,275,317.74,317.74,275,275,])\n",
    "EMrNOx_fp2=([324.37,324.37,389.1,389.1,324.37,324.37,])\n",
    "\n",
    "plt.plot(dist, EMrNOx_fv1,':',color='#fe83cc',linewidth='2.5',label='V=3m/s')\n",
    "plt.plot(dist, EMrNOx_fv2,':',color='#fe46a5',linewidth='2.5',label='V=3.5m/s')\n",
    "\n",
    "plt.plot(dist, EMrNOx_fp1,color='#f6cefc',linewidth='2',label='P=244kW')\n",
    "plt.plot(dist, EMrNOx_fp2,color='#dd85d7',linewidth='2',label='P=371kW')\n",
    "ax.legend(loc='upper left')\n",
    "# Put a legend to the right of the current axis\n",
    "#ax.legend(loc='center left', bbox_to_anchor=(1, 0.5))\n",
    "plt.ylabel('NOx emission rate \\n (g/km)',fontsize=12,fontweight='bold')\n",
    "plt.xlabel('distance (km)',fontsize=12,fontweight='bold')\n",
    "plt.ylim(0, 1200)\n",
    "plt.xlim(0, 300)\n",
    "plt.xticks([0,100,200,300], weight = 'bold')\n",
    "plt.yticks( weight = 'bold')\n",
    "plt.savefig('6-2.5-6-fix speed or power', dpi=600, format='png') "
   ]
  },
  {
   "cell_type": "code",
   "execution_count": null,
   "id": "5b428100",
   "metadata": {},
   "outputs": [],
   "source": []
  }
 ],
 "metadata": {
  "kernelspec": {
   "display_name": "Python 3",
   "language": "python",
   "name": "python3"
  },
  "language_info": {
   "codemirror_mode": {
    "name": "ipython",
    "version": 3
   },
   "file_extension": ".py",
   "mimetype": "text/x-python",
   "name": "python",
   "nbconvert_exporter": "python",
   "pygments_lexer": "ipython3",
   "version": "3.9.4"
  }
 },
 "nbformat": 4,
 "nbformat_minor": 5
}
