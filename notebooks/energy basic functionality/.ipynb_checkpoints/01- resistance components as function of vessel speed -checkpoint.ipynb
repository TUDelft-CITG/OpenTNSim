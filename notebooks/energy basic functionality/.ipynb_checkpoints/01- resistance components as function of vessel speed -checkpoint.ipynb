{
 "cells": [
  {
   "cell_type": "markdown",
   "metadata": {},
   "source": [
    "## 1. Loading packages"
   ]
  },
  {
   "cell_type": "code",
   "execution_count": 1,
   "metadata": {},
   "outputs": [],
   "source": [
    "import numpy as np\n",
    "import matplotlib.pyplot as plt\n",
    "import pandas as pd"
   ]
  },
  {
   "cell_type": "markdown",
   "metadata": {},
   "source": [
    "## 2. Input values of the model"
   ]
  },
  {
   "cell_type": "code",
   "execution_count": 2,
   "metadata": {},
   "outputs": [],
   "source": [
    "\n",
    "#input values, ship related (values of M9)\n",
    "\n",
    "L = 135\n",
    "B = 11.4\n",
    "T = 3.5\n",
    "P_installed = 2200 #kW \n",
    "h1 = 10\n",
    "V_0 = np.linspace(0.1, 8, 200)\n",
    "V_0_km = V_0 * 3.6\n",
    "#Fixed input values\n",
    "C_B = 0.85      #block coefficient \n",
    "viscosity = 1*10**(-6) #kinematic viscosity\n",
    "rho = 1000\n",
    "g = 9.81\n",
    "x = 2 #number of screws\n",
    "eta_0 = 0.6     #open water eff\n",
    "eta_r = 0.98     #relative rotative eff\n",
    "eta_t = 0.98     #transmission eff\n",
    "eta_g = 0.96     #gearing eff\n",
    "c_stern = 0\n",
    "one_k2 = 2.5 #appendage resistance factor\n"
   ]
  },
  {
   "cell_type": "code",
   "execution_count": 3,
   "metadata": {},
   "outputs": [],
   "source": [
    "#Ship related values, calculated from above input values\n",
    "\n",
    "C_M = 1.006 - 0.0056 * C_B **(-3.56)       #midshipcoefficient\n",
    "C_wp = (1+2 * C_B)/3                       #waterplane coefficient\n",
    "C_p = C_B / C_M                            #prismatic coefficient\n",
    "\n",
    "delta = C_B * L * B * T                    #water displacement\n",
    "\n",
    "lcb = -13.5 + 19.4 * C_p                   #longitudinal position of the centre of buoyancy as % of L\n",
    "L_R = L * (1 - C_p + (0.06 * C_p * lcb)/(4 * C_p -1))   #Length of the run\n",
    "\n",
    "A_T = 0.2 * B * T     #area immersed transom\n",
    "\n",
    "#Total wet surface area (S_T), wet area of appendages (S_APP) and wet area of flat bottom (S_B)\n",
    "S_T = L*(2*T + B) * np.sqrt(C_M) * (0.453 + 0.4425 * C_B - 0.2862* C_M - 0.003467 * (B/T) + 0.3696 * C_wp) #+ 2.38 * (A_BT / C_B)\n",
    "S_APP = 0.05 * S_T\n",
    "S_B = L * B\n",
    "\n",
    "#Screw diameter\n",
    "D_s = 0.7 * T"
   ]
  },
  {
   "cell_type": "markdown",
   "metadata": {},
   "source": [
    "## 3. Method to calculate different resistance components a ship experiences"
   ]
  },
  {
   "cell_type": "markdown",
   "metadata": {},
   "source": [
    "Method based on the division of Holtrop & Mennen, with some adjustments made in order to incorporate the shallow water effects"
   ]
  },
  {
   "cell_type": "markdown",
   "metadata": {},
   "source": [
    "### A) Karpov velocity correction for limited water depths"
   ]
  },
  {
   "cell_type": "code",
   "execution_count": 4,
   "metadata": {},
   "outputs": [],
   "source": [
    "############ Additional wave making resistance - Karpov #############\n",
    "R_e = V_0 * L / viscosity\n",
    "\n",
    "def karpov(h, F_n):\n",
    "    \n",
    "    #The Froude number used in the Karpov method is the depth related froude number F_nh\n",
    "    \n",
    "    #The different alpha** curves are determined with a sixth power polynomial approximation in Excel\n",
    "    #A distinction is made between different ranges of Froude numbers, because this resulted in a better approximation of the curve\n",
    "    \n",
    "    if F_n <= 0.4:\n",
    "        \n",
    "        if 0 <= h/T < 1.75:\n",
    "            alpha_xx = (-4*10**(-12)) * F_n**3 - 0.2143 * F_n**2 -0.0643 * F_n + 0.9997\n",
    "        elif 1.75 <= h/T < 2.25:\n",
    "            alpha_xx = -0.8333 * F_n**3 + 0.25 * F_n**2 - 0.0167 * F_n + 1\n",
    "        elif 2.25 <= h/T < 2.75:\n",
    "            alpha_xx = -1.25 * F_n**4 + 0.5833 * F_n**3 - 0.0375 * F_n**2 - 0.0108 * F_n + 1\n",
    "        elif h/T >= 2.75:\n",
    "            alpha_xx = 1\n",
    "    \n",
    "    elif F_n > 0.4:\n",
    "        if 0 <= h/T < 1.75:\n",
    "            alpha_xx = -0.9274 * F_n**6 + 9.5953 * F_n**5 - 37.197 * F_n**4 + 69.666 * F_n**3 - 65.391 * F_n**2 + 28.025 * F_n - 3.4143\n",
    "        elif 1.75 <= h/T < 2.25:\n",
    "            alpha_xx = 2.2152 * F_n**6 - 11.852 * F_n**5 + 21.499 * F_n**4 - 12.174 * F_n**3 - 4.7873 * F_n**2 + 5.8662 * F_n - 0.2652\n",
    "        elif 2.25 <= h/T < 2.75:\n",
    "            alpha_xx = 1.2205 * F_n**6 - 5.4999 * F_n**5 + 5.7966 * F_n**4 + 6.6491 * F_n**3 - 16.123 * F_n**2 + 9.2016 * F_n - 0.6342\n",
    "        elif 2.75 <= h/T < 3.25:\n",
    "            alpha_xx = -0.4085 * F_n**6 + 4.534 * F_n**5 - 18.443 * F_n**4 + 35.744 * F_n**3 - 34.381 * F_n**2 + 15.042 * F_n - 1.3807\n",
    "        elif 3.25 <= h/T < 3.75:\n",
    "            alpha_xx = 0.4078 * F_n **6 - 0.919 * F_n**5 - 3.8292 * F_n**4 + 15.738 * F_n**3 - 19.766 * F_n**2 + 9.7466 * F_n - 0.6409\n",
    "        elif 3.75 <= h/T < 4.5:\n",
    "            alpha_xx = 0.3067 * F_n**6 - 0.3404 * F_n**5 - 5.0511 * F_n**4 + 16.892 * F_n**3 - 20.265 * F_n**2 + 9.9002 * F_n - 0.6712\n",
    "        elif 4.5 <= h/T < 5.5:\n",
    "            alpha_xx = 0.3212 * F_n**6 - 0.3559 * F_n**5 - 5.1056 * F_n**4 + 16.926 * F_n**3 - 20.253 * F_n**2 + 10.013 * F_n - 0.7196\n",
    "        elif 5.5 <= h/T < 6.5:\n",
    "            alpha_xx = 0.9252 * F_n**6 - 4.2574 * F_n**5 + 5.0363 * F_n **4 + 3.3282 * F_n**3 - 10.367 * F_n**2 + 6.3993 * F_n - 0.2074\n",
    "        elif 6.5 <= h/T < 7.5:\n",
    "            alpha_xx = 0.8442 * F_n**6 - 4.0261 * F_n**5 + 5.313 * F_n **4 + 1.6442 * F_n**3 - 8.1848 * F_n**2 + 5.3209 * F_n - 0.0267\n",
    "        elif 7.5 <= h/T < 8.5:\n",
    "            alpha_xx = 0.1211 * F_n**6 + 0.628 * F_n**5 - 6.5106 * F_n**4 + 16.7 * F_n**3 - 18.267 * F_n**2 + 8.7077 * F_n - 0.4745\n",
    "        \n",
    "                \n",
    "        elif 8.5 <= h/T < 9.5:\n",
    "            if F_n < 0.6:\n",
    "                alpha_xx = 1\n",
    "            elif F_n >= 0.6:\n",
    "                alpha_xx = -6.4069 * F_n**6 + 47.308 * F_n**5 - 141.93 * F_n**4 + 220.23 * F_n**3 - 185.05 * F_n**2 + 79.25 * F_n - 12.484\n",
    "        elif h/T >= 9.5: \n",
    "            if F_n < 0.6:\n",
    "                alpha_xx = 1\n",
    "            elif F_n >= 0.6:\n",
    "                alpha_xx = -6.0727 * F_n**6 + 44.97 * F_n**5 - 135.21 * F_n**4 + 210.13 * F_n**3 - 176.72 * F_n**2 + 75.728 * F_n - 11.893\n",
    "    \n",
    "    return alpha_xx\n"
   ]
  },
  {
   "cell_type": "markdown",
   "metadata": {},
   "source": [
    "### B) Frictional resistance and appendage resistance (dependend on V0 and h) "
   ]
  },
  {
   "cell_type": "code",
   "execution_count": 5,
   "metadata": {},
   "outputs": [],
   "source": [
    "#### Method of Zeng(2019) incorporating the shallow water effect in the frictional resistance term #######\n",
    "\n",
    "def frictional_resistance(h):\n",
    "    R_e = V_0 * L / viscosity\n",
    "    D = h - T #distance from bottom ship to the bottom of the fairway\n",
    "\n",
    "    Cf_0 = 0.075 / ((np.log10(R_e)-2)**2)\n",
    "    \n",
    "    Cf_proposed = (0.08169/((np.log10(R_e) - 1.717)**2)) * (1 + (0.003998/(np.log10(R_e) - 4.393)) * (D/L)**(-1.083))\n",
    "\n",
    "    a = 0.042612 * np.log10(R_e) + 0.56725\n",
    "    \n",
    "    Cf_katsui = 0.0066577 / ((np.log10(R_e) - 4.3762)**a)\n",
    "\n",
    "    if h/T <= 4:\n",
    "        V_B = 0.4277 * V_0 * np.exp((h / T)**(-0.07625))\n",
    "    else:\n",
    "        V_B = V_0\n",
    "\n",
    "    C_f = Cf_0 + (Cf_proposed - Cf_katsui) * (S_B / S_T) * (V_B / V_0)**2\n",
    "\n",
    "    R_f = (C_f * 0.5 * rho * (V_0**2) * S_T) / 1000 #kN\n",
    "    \n",
    "    R_APP = (0.5 * rho * (V_0**2) * S_APP * one_k2 * C_f) / 1000 #kN\n",
    "    \n",
    "    return R_f, R_APP, V_B, C_f, Cf_0"
   ]
  },
  {
   "cell_type": "markdown",
   "metadata": {},
   "source": [
    "### C) Viscous resistance "
   ]
  },
  {
   "cell_type": "code",
   "execution_count": 6,
   "metadata": {},
   "outputs": [],
   "source": [
    "#Section 2.2.2 Viscous resistance\n",
    "\n",
    "c_14 = 1 + 0.0011 * c_stern\n",
    "one_k1 = 0.93+0.487 * c_14 * ((B/L)**1.068) * ((T/L)**0.461) * ((L/L_R)**0.122) * (((L**3)/delta)**0.365) * ((1 - C_p)**(-0.604))"
   ]
  },
  {
   "cell_type": "markdown",
   "metadata": {},
   "source": [
    "### D) Wave resistance  (dependend on V2)"
   ]
  },
  {
   "cell_type": "code",
   "execution_count": 7,
   "metadata": {},
   "outputs": [],
   "source": [
    "# #This is Holtrop & Mennen's Rw\n",
    "def wave_resistance(V_2):\n",
    "    F_nL = V_2 / np.sqrt(g*L) #Froude number\n",
    "\n",
    "#parameter c_7 is determined by the B/L ratio\n",
    "    if B/L < 0.11:\n",
    "        c_7 = 0.229577 * (B/L)**0.33333\n",
    "    elif B/L > 0.25:\n",
    "        c_7 = 0.5 - 0.0625 * (L/B)\n",
    "    else: \n",
    "        c_7 = B/L\n",
    "\n",
    "#parameter c_16 depends on C_p\n",
    "    if C_p < 0.8:\n",
    "        c_16 = 8.07981 * C_p - 13.8673 * (C_p**2) + 6.984388 * (C_p**3)\n",
    "    else:\n",
    "        c_16 = 1.73014 - 0.7067 * C_p\n",
    "\n",
    "#parameter c_15 depoends on the ratio L^3 / delta\n",
    "    if (L**3) / delta < 512:\n",
    "        c_15 = -1.69385\n",
    "    elif (L**3) / delta > 1727:\n",
    "        c_15 = 0\n",
    "    else:\n",
    "        c_15 = -1.69385 + (L / (delta**(1/3)) - 8) / 2.36\n",
    "#half angle of entrance in degrees\n",
    "    i_E = 1 + 89 * np.exp(-((L/B)**0.80856) * ((1 - C_wp)**0.30484) * ((1 - C_p - 0.0225 * lcb)**0.6367) * ((L_R / B)**0.34574) * ((100 * delta / (L**3))**0.16302))\n",
    "\n",
    "    c_1 = 2223105 * (c_7**3.78613) * ((T/B)**1.07961) * (90 - i_E)**(-1.37165) \n",
    "    c_2 = 1 #accounts for the effect of the bulbous bow, which is not present at inland ships\n",
    "    c_5 = 1 - (0.8 * A_T) / (B * T * C_M) #influence of the transom stern on the wave resistance\n",
    "    if L/B < 12:\n",
    "         lmbda = 1.446 * C_p - 0.03 * (L/B)\n",
    "    else: \n",
    "         lmbda = 1.446 * C_p - 0.36\n",
    "\n",
    "    m_1 = 0.0140407 * (L / T) - 1.75254 * ((delta)**(1/3) / L) - 4.79323 * (B / L) - c_16  \n",
    "    m_2=c_15 * (C_p**2) *np.exp((-0.1)* (F_nL**(-2))) \n",
    "    R_W = c_1 * c_2 * c_5 * delta * rho * g * np.exp(m_1 * (F_nL**(-0.9)) + m_2 * np.cos(lmbda * (F_nL**(-2))))/1000 \n",
    "\n",
    "    return R_W\n"
   ]
  },
  {
   "cell_type": "code",
   "execution_count": 8,
   "metadata": {},
   "outputs": [],
   "source": [
    "# #Section 2.2.4 Wave resistance\n",
    "\n",
    "# def wave_resistance(V_2):\n",
    "\n",
    "# #This method is based on literature of Sarris (Naval Ship Propulsion and Electric Power Systems Selection for\n",
    "# #Optimal Fuel Consumption) (2003) applying Holtrop and Mennen (pag 26)\n",
    "\n",
    "#     F_n = V_2 / np.sqrt(g*L) #Froude number\n",
    "\n",
    "\n",
    "#     #parameter c_7 is determined by the B/L ratio\n",
    "#     if B/L < 0.11:\n",
    "#         c_7 = 0.229577 * (B/L)**0.33333\n",
    "#     elif B/L > 0.25:\n",
    "#         c_7 = 0.5 - 0.0625 * (L/B)\n",
    "#     else: \n",
    "#         c_7 = B/L\n",
    "\n",
    "#     #half angle of entrance in degrees\n",
    "#     i_E = 1 + 89 * np.exp(-((L/B)**0.80856) * ((1 - C_wp)**0.30484) * ((1 - C_p - 0.0225 * lcb)**0.6367) * ((L_R / B)**0.34574) * ((100 * delta / (L**3))**0.16302))\n",
    "\n",
    "#     c_1 = 2223105 * (c_7**3.78613) * ((T/B)**1.07961) * (90 - i_E)**(-1.37165) \n",
    "#     c_2 = 1 #accounts for the effect of the bulbous bow, which is not present at inland ships\n",
    "#     c_5 = 1 - (0.8 * A_T) / (B * T * C_M) #influence of the transom stern on the wave resistance\n",
    "\n",
    "#     #parameter c_15 depoends on the ratio L^3 / delta\n",
    "#     if (L**3) / delta < 512:\n",
    "#         c_15 = -1.69385\n",
    "#     elif (L**3) / delta > 1727:\n",
    "#         c_15 = 0\n",
    "#     else:\n",
    "#         c_15 = -1.69385 + (L / (delta**(1/3)) - 8) / 2.36\n",
    "\n",
    "#     #parameter c_16 depends on C_p\n",
    "#     if C_p < 0.8:\n",
    "#         c_16 = 8.07981 * C_p - 13.8673 * (C_p**2) + 6.984388 * (C_p**3)\n",
    "#     else:\n",
    "#         c_16 = 1.73014 - 0.7067 * C_p\n",
    "\n",
    "#     m_1 = 0.0140407 * (L / T) - 1.75254 * ((delta)**(1/3) / L) - 4.79323 * (B / L) - c_16\n",
    "\n",
    "#     m_4 = 0.4 * c_15 * np.exp(-0.034 * (F_n**(-3.29)))    \n",
    "\n",
    "#     if L/B < 12:\n",
    "#         lmbda = 1.446 * C_p - 0.03 * (L/B)\n",
    "#     else: \n",
    "#         lmbda = 1.446 * C_p - 0.36\n",
    "\n",
    "#     #parameters needed for RW_2\n",
    "#     c_17 = 6919.3 * (C_M**(-1.3346)) * ((delta/ (L**3))**2.00977) * ((L/B - 2)**1.40692)\n",
    "#     m_3 = -7.2035 * ((B / L)**0.326869) * ((T/B)**0.605375)\n",
    "\n",
    "\n",
    "#     ######### When Fn < 0.4\n",
    "#     RW_1 = c_1 * c_2 * c_5 * delta * rho * g * np.exp(m_1 * (F_n**(-0.9)) + m_4 * np.cos(lmbda * (F_n**(-2)))) \n",
    "\n",
    "#     ######## When Fn > 0.5\n",
    "#     RW_2 = c_17 * c_2 * c_5 * delta * rho * g * np.exp(m_3 * (F_n**(-0.9)) + m_4 * np.cos(lmbda * (F_n**(-2))))\n",
    "    \n",
    "#     if F_n < 0.4:\n",
    "#         R_W = RW_1 / 1000 #kN\n",
    "#     elif F_n > 0.55:\n",
    "#         R_W = RW_2 / 1000 #kN\n",
    "#     else:\n",
    "#         R_W = (RW_1 + ((10 * F_n - 4) * (RW_2 - RW_1)) / 1.5) / 1000 #kN\n",
    "        \n",
    "#     return R_W"
   ]
  },
  {
   "cell_type": "markdown",
   "metadata": {},
   "source": [
    "### E) Residual resistance terms "
   ]
  },
  {
   "cell_type": "code",
   "execution_count": 9,
   "metadata": {},
   "outputs": [],
   "source": [
    "#Section 2.2.5 Residual resistance terms\n",
    "\n",
    "\n",
    "#Resistance due to immersed transom\n",
    "def resistance_transom(V_2):\n",
    "    F_nt = V_2 / np.sqrt(2 * g * A_T / (B + B * C_wp))\n",
    "\n",
    "    c_6 = 0.2 * (1 - 0.2 * F_nt)\n",
    "\n",
    "    R_TR = (0.5 * rho * (V_2**2) * A_T * c_6) / 1000 #kN\n",
    "    \n",
    "    return R_TR\n",
    "\n",
    "#Model-ship correlation resistance\n",
    "def resistance_model_correlation(V_2):\n",
    "    if T / L < 0.04:\n",
    "        c_4 = T / L\n",
    "    else:\n",
    "        c_4 = 0.04\n",
    "    c_2 = 1\n",
    "    \n",
    "    C_A = 0.006 * (L + 100)**(-0.16) - 0.00205 + 0.003 * np.sqrt(L / 7.5) * (C_B**4) * c_2 * (0.04 - c_4)\n",
    "\n",
    "    #C_A = (1.8 + 260/L) * 0.0001 #Holtrop 1977\n",
    "\n",
    "    ####### Holtrop and Mennen in the document of Sarris, 2003 #######\n",
    "    R_A = (0.5 * rho * (V_2**2) * S_T * C_A) / 1000 #kW\n",
    "    \n",
    "    return R_A"
   ]
  },
  {
   "cell_type": "markdown",
   "metadata": {},
   "source": [
    "### add values into functions"
   ]
  },
  {
   "cell_type": "code",
   "execution_count": 10,
   "metadata": {},
   "outputs": [],
   "source": [
    "# depth Froude number\n",
    "F_nh1 = V_0 / np.sqrt(g * h1)\n",
    "\n",
    "#The corrected velocity V2 (Karpov) is going to be applied in all resistance components of the Holtrop and Mennen method\n",
    "#Except for frictional resistance\n",
    "\n",
    "V2_1 = np.zeros(len(F_nh1))\n",
    "\n",
    "for i in range(len(F_nh1)):\n",
    "    V2_1[i] = V_0[i] / karpov(h1, F_nh1.item(i))\n"
   ]
  },
  {
   "cell_type": "code",
   "execution_count": 11,
   "metadata": {},
   "outputs": [],
   "source": [
    "R_f_1 = frictional_resistance(h1)[0]\n",
    "R_APP_1 = frictional_resistance(h1)[1]"
   ]
  },
  {
   "cell_type": "code",
   "execution_count": 12,
   "metadata": {},
   "outputs": [],
   "source": [
    "R_W_1 = np.zeros(len(V_0))\n",
    "for i in range(len(V_0)):\n",
    "    R_W_1[i] = wave_resistance(V2_1.item(i))\n"
   ]
  },
  {
   "cell_type": "code",
   "execution_count": 13,
   "metadata": {},
   "outputs": [],
   "source": [
    "R_TR_1 = np.zeros(len(V_0))\n",
    "for i in range(len(V_0)):\n",
    "    R_TR_1[i] = resistance_transom(V2_1.item(i))"
   ]
  },
  {
   "cell_type": "code",
   "execution_count": 14,
   "metadata": {},
   "outputs": [],
   "source": [
    "R_A_1 = np.zeros(len(V_0))\n",
    "for i in range(len(V_0)):\n",
    "    R_A_1[i] = resistance_model_correlation(V2_1.item(i))"
   ]
  },
  {
   "cell_type": "markdown",
   "metadata": {},
   "source": [
    "## 5. Total resistance of a single ship, for different water depth, as a function of V0"
   ]
  },
  {
   "cell_type": "code",
   "execution_count": 15,
   "metadata": {},
   "outputs": [
    {
     "name": "stdout",
     "output_type": "stream",
     "text": [
      "[4.26296543e-102 1.22223696e-074 7.12092225e-059 1.36571697e-048\n",
      " 2.48861887e-041 6.43639813e-036 1.01517040e-031 2.30065989e-028\n",
      " 1.28252870e-025 2.50750049e-023 2.19397382e-021 1.02149446e-019\n",
      " 2.87196330e-018 5.35962176e-017 7.13587926e-016 7.16911549e-015\n",
      " 5.68058656e-014 3.67779538e-013 2.00207159e-012 9.38084171e-012\n",
      " 3.85727722e-011 1.41451094e-010 4.68932619e-010 1.42161890e-009\n",
      " 3.97996455e-009 1.03764560e-008 2.53771680e-008 5.85861559e-008\n",
      " 1.28377280e-007 2.68293913e-007 5.37032154e-007 1.03342701e-006\n",
      " 1.91817815e-006 3.44436331e-006 5.99907233e-006 1.01587322e-005\n",
      " 1.67608642e-005 2.69951016e-005 4.25162902e-005 6.55823867e-005\n",
      " 9.92196614e-005 1.47417406e-004 2.15353953e-004 3.09655347e-004\n",
      " 4.38687477e-004 6.12881913e-004 8.45095094e-004 1.15099992e-003\n",
      " 1.54950823e-003 2.06322204e-003 2.71891098e-003 3.54801284e-003\n",
      " 4.58715377e-003 5.87868435e-003 7.47122746e-003 9.42023370e-003\n",
      " 1.17885400e-002 1.46469273e-002 1.80746721e-002 2.21600888e-002\n",
      " 2.70010579e-002 3.27055362e-002 3.93920450e-002 4.71901340e-002\n",
      " 5.62408166e-002 6.66969725e-002 7.87237209e-002 9.24987592e-002\n",
      " 1.08212646e-001 1.26069055e-001 1.46285080e-001 1.69091215e-001\n",
      " 1.94731693e-001 2.23464662e-001 2.55561404e-001 2.91308559e-001\n",
      " 3.31003697e-001 3.74962884e-001 4.23508496e-001 4.76986312e-001\n",
      " 5.35744722e-001 6.00150317e-001 6.70595588e-001 7.47438859e-001\n",
      " 8.31133415e-001 9.22063112e-001 1.02061751e+000 1.12736228e+000\n",
      " 1.24262835e+000 1.36680197e+000 1.50064356e+000 1.64447874e+000\n",
      " 1.79843705e+000 1.96349321e+000 2.14048086e+000 2.32905697e+000\n",
      " 2.52943424e+000 2.74343788e+000 3.04772728e+000 3.24668775e+000\n",
      " 3.45867594e+000 3.68598027e+000 3.93136872e+000 4.19568439e+000\n",
      " 4.47727501e+000 4.77481389e+000 5.09088737e+000 5.43167318e+000\n",
      " 5.80173426e+000 6.19910520e+000 6.61714962e+000 7.05316752e+000\n",
      " 7.51515443e+000 8.01779769e+000 8.56935295e+000 9.16190113e+000\n",
      " 9.77690488e+000 1.04044826e+001 1.10591054e+001 1.17739577e+001\n",
      " 1.25750572e+001 1.34558938e+001 1.43761639e+001 1.52920035e+001\n",
      " 1.61978252e+001 1.71434838e+001 1.82074093e+001 1.94424058e+001\n",
      " 2.08309456e+001 2.22825708e+001 2.36853568e+001 2.49866702e+001\n",
      " 2.62460442e+001 2.76165373e+001 2.92651713e+001 3.12799149e+001\n",
      " 3.36075053e+001 3.60532301e+001 3.83602885e+001 4.03470144e+001\n",
      " 4.20252025e+001 4.36189280e+001 4.54745666e+001 4.79228711e+001\n",
      " 5.11551535e+001 5.51390962e+001 5.95880138e+001 6.40136167e+001\n",
      " 6.78847495e+001 7.08498049e+001 7.29080642e+001 7.44280719e+001\n",
      " 7.60161827e+001 7.83290497e+001 8.19187327e+001 8.71329287e+001\n",
      " 9.40452748e+001 1.02396139e+002 1.11564960e+002 1.20630305e+002\n",
      " 1.28561457e+002 1.34511837e+002 1.38096520e+002 1.39517214e+002\n",
      " 1.39481648e+002 1.38983334e+002 1.39064700e+002 1.40654215e+002\n",
      " 1.44496398e+002 1.51140989e+002 1.60943396e+002 1.74041477e+002\n",
      " 1.90297618e+002 2.09221212e+002 2.29910074e+002 2.51061841e+002\n",
      " 2.71096413e+002 2.88392569e+002 3.01587778e+002 3.09849287e+002\n",
      " 3.13025238e+002 3.11630915e+002 3.06691049e+002 2.99507535e+002\n",
      " 2.91431710e+002 2.83696758e+002 2.77329699e+002 2.73133113e+002\n",
      " 2.71712560e+002 2.73524628e+002 2.78926511e+002 2.88215567e+002\n",
      " 3.01653347e+002 3.19472488e+002 3.41867036e+002 3.68968160e+002\n",
      " 4.00808381e+002 4.37278886e+002 4.78086085e+002 5.22714931e+002]\n"
     ]
    }
   ],
   "source": [
    "#Section 2.2 Resistance\n",
    "\n",
    "#Total resistance\n",
    "\n",
    "#For water depth h1 = 10 m\n",
    "R_tot1 = R_f_1 * one_k1 + R_APP_1 + R_W_1 + R_TR_1 + R_A_1\n",
    "print(R_W_1)"
   ]
  },
  {
   "cell_type": "markdown",
   "metadata": {},
   "source": [
    "### Resistance plot"
   ]
  },
  {
   "cell_type": "markdown",
   "metadata": {},
   "source": [
    "#### Plotting the different resistance components for h = 10, as a function of V0"
   ]
  },
  {
   "cell_type": "code",
   "execution_count": 17,
   "metadata": {},
   "outputs": [
    {
     "data": {
      "text/plain": [
       "Text(0.5, 1.0, 'Vessel speed versus resistance (L = 135 m, B = 11.4 m, T = 3.5 m, h = 10 m)')"
      ]
     },
     "execution_count": 17,
     "metadata": {},
     "output_type": "execute_result"
    },
    {
     "data": {
      "image/png": "[encoded data removed]",
      "text/plain": [
       "<Figure size 720x504 with 1 Axes>"
      ]
     },
     "metadata": {
      "needs_background": "light"
     },
     "output_type": "display_data"
    }
   ],
   "source": [
    "#Vessel speed versus resistance\n",
    "plt.figure(figsize=(10,7))\n",
    "plt.plot(V_0_km, R_tot1)\n",
    "plt.plot(V_0_km, one_k1*R_f_1)\n",
    "plt.plot(V_0_km, R_APP_1)\n",
    "plt.plot(V_0_km, R_W_1)\n",
    "plt.plot(V_0_km, R_TR_1 + R_A_1)\n",
    "plt.grid()\n",
    "plt.xlim(0, 18)\n",
    "plt.ylim(0, 170)\n",
    "plt.legend(['$R_T$', '$R_f$(1+$k_1$)', '$R_{app}$', '$R_W$','$R_{res}$'])\n",
    "plt.xlabel('Vessel speed [km/h]')\n",
    "plt.ylabel('Resistance [kN]')\n",
    "plt.title('Vessel speed versus resistance (L = 135 m, B = 11.4 m, T = 3.5 m, h = 10 m)')"
   ]
  },
  {
   "cell_type": "code",
   "execution_count": null,
   "metadata": {},
   "outputs": [],
   "source": []
  },
  {
   "cell_type": "code",
   "execution_count": null,
   "metadata": {},
   "outputs": [],
   "source": []
  }
 ],
 "metadata": {
  "kernelspec": {
   "display_name": "Python 3",
   "language": "python",
   "name": "python3"
  },
  "language_info": {
   "codemirror_mode": {
    "name": "ipython",
    "version": 3
   },
   "file_extension": ".py",
   "mimetype": "text/x-python",
   "name": "python",
   "nbconvert_exporter": "python",
   "pygments_lexer": "ipython3",
   "version": "3.9.4"
  }
 },
 "nbformat": 4,
 "nbformat_minor": 4
}
