{
 "cells": [
  {
   "cell_type": "markdown",
   "id": "8415eddf",
   "metadata": {},
   "source": [
    "## unrestricted water depth 6m-6m-6m_current influence_fix vessel velocity_fuel consumption and emissions "
   ]
  },
  {
   "cell_type": "markdown",
   "id": "036ecf0b",
   "metadata": {},
   "source": [
    "## Basic simulation - consumes energy-van Dosser actual draught&payload\n",
    "In this notebook, we are going to make a simulation which forces a vessel to move over a certain 1D waterway network. It tries to give one an understanding of the most basic core functions of OpenTNSim and teach one the requirements to set-up a basic OpenTNSim model run. \n",
    "\n",
    "We add some properties to the graph (depth) and the vessel (VesselProperties, HasContainer, ConsumesEnergy) in order to calculate resistance, required power, "
   ]
  },
  {
   "cell_type": "markdown",
   "id": "9e12bfde",
   "metadata": {},
   "source": [
    "### Imports\n",
    "Import the required libraries"
   ]
  },
  {
   "cell_type": "code",
   "execution_count": 1,
   "id": "d4e73aa6",
   "metadata": {},
   "outputs": [
    {
     "name": "stderr",
     "output_type": "stream",
     "text": [
      "/Users/baart_f/.virtualenvs/opentnsim/lib/python3.9/site-packages/pyproj/__init__.py:91: UserWarning: Valid PROJ data directory not found. Either set the path using the environmental variable PROJ_LIB or with `pyproj.datadir.set_data_dir`.\n",
      "  warnings.warn(str(err))\n"
     ]
    }
   ],
   "source": [
    "# package(s) related to time, space and id\n",
    "import datetime, time\n",
    "import platform\n",
    "\n",
    "# you need these dependencies (you can get these from anaconda)\n",
    "# package(s) related to the simulation\n",
    "import simpy\n",
    "import pandas as pd\n",
    "\n",
    "# spatial libraries \n",
    "import pyproj\n",
    "import shapely.geometry\n",
    "from simplekml import Kml, Style\n",
    "\n",
    "# package(s) for data handling\n",
    "import numpy as np\n",
    "import matplotlib.pyplot as plt\n",
    "\n",
    "# OpenTNSim\n",
    "import opentnsim\n",
    "\n",
    "# Used for mathematical functions\n",
    "import math             \n",
    "\n",
    "# Used for making the graph to visualize our problem\n",
    "import networkx as nx   "
   ]
  },
  {
   "cell_type": "markdown",
   "id": "50a15fcc",
   "metadata": {},
   "source": [
    "### Create graph\n",
    "We first need to create a 1D network (a graph) along which the vessel will move. A graph contains edges (blue dots in plot below) and vertices (black lines in plot below). For this example, we will construct a network consisting of 4 nodes in a straight line. Since we would like to have two-way traffic, we add two edges between each pair of nodes: one from left to right, and another the other way around (however, we could easily apply one-way traffic as well by remove one of the two edges). Consequently, we arrive at a total of 4 nodes, and 6 edges.\n",
    "\n",
    "Due to the nature of discrete modelling in which the time step is dependent on the activities (in this example: forcing a ship to move from node to node from its origin to its destination), it is important to add OpenTNSim mix-ins to the nodes in such a way we could identify the node (mix-in Identifiable, which imports a name and imports/creates an ID), and to locate the node (mix-in Locatable, which gives the node a geometry).\n"
   ]
  },
  {
   "cell_type": "code",
   "execution_count": 2,
   "id": "d5683a95",
   "metadata": {},
   "outputs": [
    {
     "data": {
      "image/png": "[encoded data removed]",
      "text/plain": [
       "<Figure size 432x288 with 1 Axes>"
      ]
     },
     "metadata": {},
     "output_type": "display_data"
    }
   ],
   "source": [
    "FG = nx.DiGraph()\n",
    "nodes = []\n",
    "path = []\n",
    "\n",
    "Node = type('Site', (opentnsim.core.Identifiable, opentnsim.core.Locatable), {})\n",
    "\n",
    "data_node_1 = {\"name\": \"Node 1\",\n",
    "               \"geometry\": shapely.geometry.Point(0, 0)}\n",
    "data_node_2 = {\"name\": \"Node 2\",\n",
    "               \"geometry\": shapely.geometry.Point(0.8983, 0)}  # 0.8983 degree =100km\n",
    "data_node_3 = {\"name\": \"Node 3\",\n",
    "               \"geometry\": shapely.geometry.Point(1.7966, 0)}   # 1.7966 degree =200km\n",
    "data_node_4 = {\"name\": \"Node 4\",\n",
    "               \"geometry\": shapely.geometry.Point(2.6949, 0)}    # 2.6949 degree =300km\n",
    "\n",
    "node_1 = Node(**data_node_1)\n",
    "node_2 = Node(**data_node_2)\n",
    "node_3 = Node(**data_node_3)\n",
    "node_4 = Node(**data_node_4)\n",
    "\n",
    "nodes = [node_1, node_2, node_3, node_4]\n",
    "\n",
    "positions = {}\n",
    "for node in nodes:\n",
    "    positions[node.name] = (node.geometry.x, node.geometry.y)\n",
    "    FG.add_node(node.name, geometry = node.geometry)\n",
    "\n",
    "path = [[node_1, node_2], # From node 1 to node 2\n",
    "        [node_2, node_3], # From node 2 to node 3\n",
    "        [node_3, node_4], # From node 3 to node 4\n",
    "        [node_4, node_3], # From node 4 to node 3\n",
    "        [node_3, node_2], # From node 3 to node 2\n",
    "        [node_2, node_1]] # From node 2 to node 1\n",
    "\n",
    "for edge in path:\n",
    "    # For the energy consumption calculation we add info to the graph. We need depth info for resistance.\n",
    "    # NB: the CalculateEnergy routine expects the graph to have \"Info\" that contains \"GeneralDepth\" \n",
    "    #     this may not be very generic!\n",
    "    if edge == [node_2, node_3] or edge == [node_3, node_2]:\n",
    "        FG.add_edge(edge[0].name, edge[1].name, weight = 1, Info = {\"GeneralDepth\": 6})\n",
    "    else:\n",
    "        FG.add_edge(edge[0].name, edge[1].name, weight = 1, Info = {\"GeneralDepth\": 6})\n",
    "    \n",
    "# env.FG = FG\n",
    "nx.draw(FG, positions)\n",
    "plt.show()"
   ]
  },
  {
   "cell_type": "code",
   "execution_count": 3,
   "id": "3a375d91",
   "metadata": {},
   "outputs": [
    {
     "name": "stdout",
     "output_type": "stream",
     "text": [
      "General depth for edge ('Node 1', 'Node 2') is 6\n",
      "General depth for edge ('Node 2', 'Node 3') is 6\n",
      "General depth for edge ('Node 2', 'Node 1') is 6\n",
      "General depth for edge ('Node 3', 'Node 4') is 6\n",
      "General depth for edge ('Node 3', 'Node 2') is 6\n",
      "General depth for edge ('Node 4', 'Node 3') is 6\n"
     ]
    }
   ],
   "source": [
    "# This cell just shows that now a depth of 10 m is added to the edges. \n",
    "# You can use this to vary depths, e.g. make the middle edge shallower. Note that edges are bi-directional \n",
    "for edge in FG.edges:\n",
    "    print('General depth for edge {} is {}'.format(edge, FG.get_edge_data(edge[0], edge[1])[\"Info\"][\"GeneralDepth\"]))"
   ]
  },
  {
   "cell_type": "markdown",
   "id": "35391829",
   "metadata": {},
   "source": [
    "### Create vessel - add VesselProperties and ConsumesEnergy mixins\n",
    "The following mix-ins are required for each vessel in our problem: Identifiable (gives the vessel a name and a random ID), Movable (gives that the object (*vessel*) can move with a fixed speed and logs this activity, it requires input for the following mix-ins: Locatable, Routeable, and Log), and Routable (gives the object a route). We now modify our original vessel from the basic example and include vessel properties (like width, length, etc.) and a mixin that is needed to calculate resistance and energy consumption. "
   ]
  },
  {
   "cell_type": "code",
   "execution_count": 4,
   "id": "aa92d0e3",
   "metadata": {},
   "outputs": [],
   "source": [
    "# Make your preferred class out of available mix-ins.\n",
    "TransportResource = type(\n",
    "    \"Vessel\",\n",
    "    (\n",
    "        opentnsim.core.Identifiable,\n",
    "        opentnsim.core.Movable,\n",
    "        opentnsim.core.Routeable,\n",
    "        opentnsim.core.VesselProperties,  # needed to add vessel properties\n",
    "        opentnsim.core.HasContainer,  # needed to calculate filling degree for draught\n",
    "        opentnsim.energy.ConsumesEnergy,\n",
    "        opentnsim.core.ExtraMetadata,\n",
    "    ),\n",
    "    {},\n",
    ")  # needed to calculate resistances"
   ]
  },
  {
   "cell_type": "code",
   "execution_count": 5,
   "id": "59be2e54",
   "metadata": {},
   "outputs": [],
   "source": [
    "# Create a dict with all important settings\n",
    "data_vessel = {\"env\": None,\n",
    "               \"name\": None,\n",
    "               \"route\": None,\n",
    "               \"geometry\": None,\n",
    "               \"v\":3.5,  # m/s\n",
    "               \"type\": 'Dortmund-Eems (L <= 74 m)', # <-- note that inputs from hereon are due to the added mixins!\n",
    "               \"B\": 11.4,\n",
    "               \"L\": 110,\n",
    "               \"capacity\": 3000,   # maximum designed payload\n",
    "               \"level\":3000,     # actual payload\n",
    "               \"H_e\": None, \n",
    "               \"H_f\": None, \n",
    "               \"T_e\":None, \n",
    "               \"T_f\":None, \n",
    "               \n",
    "               \"P_installed\":1750.0,   \n",
    "               \"P_given\":None,\n",
    "               \"L_w\": 3.0 ,\n",
    "               \"C_b\":0.85, \n",
    "               \"c_year\":1990,\n",
    "               \"current_year\":None\n",
    "              }               \n",
    "\n",
    "vessel = TransportResource(**data_vessel)"
   ]
  },
  {
   "cell_type": "markdown",
   "id": "1d7abf4c",
   "metadata": {},
   "source": [
    "### Define paths\n",
    "We are going to create a simulation in which a vessel moves from *Node 1* to *Node 4*. Therefore, we need to create a vessel to which we will need to append this paths. Therefore, first let's create the path."
   ]
  },
  {
   "cell_type": "code",
   "execution_count": 6,
   "id": "088664b6",
   "metadata": {},
   "outputs": [],
   "source": [
    "path = nx.dijkstra_path(FG, node_1.name, node_4.name)"
   ]
  },
  {
   "cell_type": "markdown",
   "id": "23ceac15",
   "metadata": {},
   "source": [
    "### Run simulation\n",
    "Now we can define the run. First, we make an environment and add the graph to the environment. Then we add one vessel, to which we will append the environment and the above route. Lastly, we give the vessel the process of moving from the origin to the destination of the defined path and subsequently run the model."
   ]
  },
  {
   "cell_type": "code",
   "execution_count": 7,
   "id": "edae679f",
   "metadata": {},
   "outputs": [],
   "source": [
    "# Start simpy environment\n",
    "simulation_start = datetime.datetime.now()\n",
    "env = simpy.Environment(initial_time = time.mktime(simulation_start.timetuple()))\n",
    "env.epoch = time.mktime(simulation_start.timetuple())\n",
    "\n",
    "# Add graph to environment\n",
    "env.FG = FG\n",
    "\n",
    "# Add environment and path to the vessel\n",
    "vessel.env = env                                        #the created environment\n",
    "vessel.name = 'Vessel No.1'                     \n",
    "vessel.route = path                                     #the route (the sequence of nodes, as stored as the second column in the path)\n",
    "vessel.geometry = env.FG.nodes[path[0]]['geometry']     #a shapely.geometry.Point(lon,lat) (here taken as the starting node of the vessel)"
   ]
  },
  {
   "cell_type": "code",
   "execution_count": 8,
   "id": "4ffa9c12",
   "metadata": {},
   "outputs": [
    {
     "name": "stdout",
     "output_type": "stream",
     "text": [
      "minimal depth on route is: 6.0 m\n"
     ]
    }
   ],
   "source": [
    "h_min = np.inf\n",
    "for index, edge in enumerate(vessel.route[:-1]):\n",
    "    # step through each edge and adjust the minimum if it is lower than the previous minimum (start at inf)\n",
    "    h_min = np.min([h_min, FG.get_edge_data(vessel.route[index], vessel.route[index+1])[\"Info\"][\"GeneralDepth\"]])\n",
    "\n",
    "print('minimal depth on route is: {} m'.format(h_min))"
   ]
  },
  {
   "cell_type": "code",
   "execution_count": 9,
   "id": "631cf79c",
   "metadata": {},
   "outputs": [
    {
     "name": "stdout",
     "output_type": "stream",
     "text": [
      "The actual draft is 3.4399384737347587 m\n",
      "The actual_max_payload is 2803.2564997926606 ton\n",
      "3.4399384737347587\n",
      "2803.2564997926606\n"
     ]
    }
   ],
   "source": [
    "#draught, payload = vessel.calculate_actual_T_and_payload(h_min, 0.3)\n",
    "draught, payload = vessel.calculate_actual_T_and_payload(h_min, 0.3, \"Dry_DH\") #draught, payload = vessel.calculate_actual_T_and_payload(h_min, ukc, vesl_type)\n",
    "                                                                    #  should be \"Container\",\"Dry\",\"Barge\" or \"Tanker\"'\n",
    "print(draught)\n",
    "print(payload)"
   ]
  },
  {
   "cell_type": "code",
   "execution_count": 10,
   "id": "7d95695a",
   "metadata": {},
   "outputs": [],
   "source": [
    "# Start the simulation\n",
    "env.process(vessel.move())\n",
    "env.run()"
   ]
  },
  {
   "cell_type": "markdown",
   "id": "b9809901",
   "metadata": {},
   "source": [
    "### Output\n",
    "We can now analyse the output of the simulation, which consists of the log-file of the vessel. We got this log-file as we added the log mix-in of OpenTNSim. This log-file keeps track of the moving activities of the vessel, and at which time and location they occur. The log-file could also keep track of an additional value, such as waiting times, which are not included here in this simulation.\n",
    "\n",
    "As you can see, the vessel moves from its origin (*Node 1*) to its destination (*Node 4*) by passing *Node 2* and *Node 3* respectively. The time is calculated by the greater circle distance between the nodes, divided by the speed of the vessel.\n",
    "\n",
    "Using this log-file, we could for example plot a time-distance graph."
   ]
  },
  {
   "cell_type": "code",
   "execution_count": 11,
   "id": "25f6966b",
   "metadata": {},
   "outputs": [
    {
     "name": "stderr",
     "output_type": "stream",
     "text": [
      "/Users/baart_f/.virtualenvs/opentnsim/lib/python3.9/site-packages/pandas/core/dtypes/cast.py:118: ShapelyDeprecationWarning:\n",
      "\n",
      "The array interface is deprecated and will no longer work in Shapely 2.0. Convert the '.coords' to a numpy array instead.\n",
      "\n"
     ]
    },
    {
     "data": {
      "text/html": [
       "<div>\n",
       "<style scoped>\n",
       "    .dataframe tbody tr th:only-of-type {\n",
       "        vertical-align: middle;\n",
       "    }\n",
       "\n",
       "    .dataframe tbody tr th {\n",
       "        vertical-align: top;\n",
       "    }\n",
       "\n",
       "    .dataframe thead th {\n",
       "        text-align: right;\n",
       "    }\n",
       "</style>\n",
       "<table border=\"1\" class=\"dataframe\">\n",
       "  <thead>\n",
       "    <tr style=\"text-align: right;\">\n",
       "      <th></th>\n",
       "      <th>Message</th>\n",
       "      <th>Timestamp</th>\n",
       "      <th>Value</th>\n",
       "      <th>Geometry</th>\n",
       "    </tr>\n",
       "  </thead>\n",
       "  <tbody>\n",
       "    <tr>\n",
       "      <th>0</th>\n",
       "      <td>Sailing from node Node 1 to node Node 2 start</td>\n",
       "      <td>2022-01-10 22:22:40.000000</td>\n",
       "      <td>0</td>\n",
       "      <td>POINT (0 0)</td>\n",
       "    </tr>\n",
       "    <tr>\n",
       "      <th>1</th>\n",
       "      <td>Sailing from node Node 1 to node Node 2 stop</td>\n",
       "      <td>2022-01-11 06:18:50.942451</td>\n",
       "      <td>0</td>\n",
       "      <td>POINT (0.8983 0)</td>\n",
       "    </tr>\n",
       "    <tr>\n",
       "      <th>2</th>\n",
       "      <td>Sailing from node Node 2 to node Node 3 start</td>\n",
       "      <td>2022-01-11 06:18:50.942451</td>\n",
       "      <td>0</td>\n",
       "      <td>POINT (0.8983 0)</td>\n",
       "    </tr>\n",
       "    <tr>\n",
       "      <th>3</th>\n",
       "      <td>Sailing from node Node 2 to node Node 3 stop</td>\n",
       "      <td>2022-01-11 14:15:01.884902</td>\n",
       "      <td>0</td>\n",
       "      <td>POINT (1.7966 0)</td>\n",
       "    </tr>\n",
       "    <tr>\n",
       "      <th>4</th>\n",
       "      <td>Sailing from node Node 3 to node Node 4 start</td>\n",
       "      <td>2022-01-11 14:15:01.884902</td>\n",
       "      <td>0</td>\n",
       "      <td>POINT (1.7966 0)</td>\n",
       "    </tr>\n",
       "    <tr>\n",
       "      <th>5</th>\n",
       "      <td>Sailing from node Node 3 to node Node 4 stop</td>\n",
       "      <td>2022-01-11 22:11:12.827354</td>\n",
       "      <td>0</td>\n",
       "      <td>POINT (2.6949 0)</td>\n",
       "    </tr>\n",
       "  </tbody>\n",
       "</table>\n",
       "</div>"
      ],
      "text/plain": [
       "                                         Message                  Timestamp  \\\n",
       "0  Sailing from node Node 1 to node Node 2 start 2022-01-10 22:22:40.000000   \n",
       "1   Sailing from node Node 1 to node Node 2 stop 2022-01-11 06:18:50.942451   \n",
       "2  Sailing from node Node 2 to node Node 3 start 2022-01-11 06:18:50.942451   \n",
       "3   Sailing from node Node 2 to node Node 3 stop 2022-01-11 14:15:01.884902   \n",
       "4  Sailing from node Node 3 to node Node 4 start 2022-01-11 14:15:01.884902   \n",
       "5   Sailing from node Node 3 to node Node 4 stop 2022-01-11 22:11:12.827354   \n",
       "\n",
       "   Value          Geometry  \n",
       "0      0       POINT (0 0)  \n",
       "1      0  POINT (0.8983 0)  \n",
       "2      0  POINT (0.8983 0)  \n",
       "3      0  POINT (1.7966 0)  \n",
       "4      0  POINT (1.7966 0)  \n",
       "5      0  POINT (2.6949 0)  "
      ]
     },
     "execution_count": 11,
     "metadata": {},
     "output_type": "execute_result"
    }
   ],
   "source": [
    "df = pd.DataFrame.from_dict(vessel.log)\n",
    "df"
   ]
  },
  {
   "cell_type": "markdown",
   "id": "c61aa3a4",
   "metadata": {},
   "source": [
    "### Post processing: calculate energy consumptions and emissions"
   ]
  },
  {
   "cell_type": "code",
   "execution_count": 12,
   "id": "284ea583",
   "metadata": {},
   "outputs": [],
   "source": [
    "# create an EnergyCalculation object (graph FG and vessel are needed as input)\n",
    "energycalculation = opentnsim.energy.EnergyCalculation(FG, vessel)"
   ]
  },
  {
   "cell_type": "code",
   "execution_count": 13,
   "id": "de0f3f1a",
   "metadata": {},
   "outputs": [
    {
     "name": "stdout",
     "output_type": "stream",
     "text": [
      "delta_t: 28570.9425 s\n",
      "distance: 99998.2986 m\n",
      "velocity: 3.5000 m/s\n",
      "The actual draft is 3.4399384737347587 m\n",
      "The actual_max_payload is 2803.2564997926606 ton\n",
      "The actual draft is 3.4399384737347587 m\n",
      "The actual_max_payload is 2803.2564997926606 ton\n",
      "The actual draft is 3.4399384737347587 m\n",
      "The actual_max_payload is 2803.2564997926606 ton\n",
      "The actual draft is 3.4399384737347587 m\n",
      "The actual_max_payload is 2803.2564997926606 ton\n",
      "The actual draft is 3.4399384737347587 m\n",
      "The actual_max_payload is 2803.2564997926606 ton\n",
      "The actual draft is 3.4399384737347587 m\n",
      "The actual_max_payload is 2803.2564997926606 ton\n",
      "The actual draft is 3.4399384737347587 m\n",
      "The actual_max_payload is 2803.2564997926606 ton\n",
      "The actual draft is 3.4399384737347587 m\n",
      "The actual_max_payload is 2803.2564997926606 ton\n",
      "The actual draft is 3.4399384737347587 m\n",
      "The actual_max_payload is 2803.2564997926606 ton\n",
      "The actual draft is 3.4399384737347587 m\n",
      "The actual_max_payload is 2803.2564997926606 ton\n",
      "The actual draft is 3.4399384737347587 m\n",
      "The actual_max_payload is 2803.2564997926606 ton\n",
      "The actual draft is 3.4399384737347587 m\n",
      "The actual_max_payload is 2803.2564997926606 ton\n",
      "The actual draft is 3.4399384737347587 m\n",
      "The actual_max_payload is 2803.2564997926606 ton\n",
      "The actual draft is 3.4399384737347587 m\n",
      "The actual_max_payload is 2803.2564997926606 ton\n",
      "The actual draft is 3.4399384737347587 m\n",
      "The actual_max_payload is 2803.2564997926606 ton\n",
      "The actual draft is 3.4399384737347587 m\n",
      "The actual_max_payload is 2803.2564997926606 ton\n",
      "The actual draft is 3.4399384737347587 m\n",
      "The actual_max_payload is 2803.2564997926606 ton\n",
      "The actual draft is 3.4399384737347587 m\n",
      "The actual_max_payload is 2803.2564997926606 ton\n",
      "The actual draft is 3.4399384737347587 m\n",
      "The actual_max_payload is 2803.2564997926606 ton\n",
      "The actual draft is 3.4399384737347587 m\n",
      "The actual_max_payload is 2803.2564997926606 ton\n",
      "The actual draft is 3.4399384737347587 m\n",
      "The actual_max_payload is 2803.2564997926606 ton\n",
      "The actual draft is 3.4399384737347587 m\n",
      "The actual_max_payload is 2803.2564997926606 ton\n",
      "The actual draft is 3.4399384737347587 m\n",
      "The actual_max_payload is 2803.2564997926606 ton\n",
      "The actual draft is 3.4399384737347587 m\n",
      "The actual_max_payload is 2803.2564997926606 ton\n",
      "The actual draft is 3.4399384737347587 m\n",
      "The actual_max_payload is 2803.2564997926606 ton\n",
      "The actual draft is 3.4399384737347587 m\n",
      "The actual_max_payload is 2803.2564997926606 ton\n",
      "The actual draft is 3.4399384737347587 m\n",
      "The actual_max_payload is 2803.2564997926606 ton\n",
      "The actual draft is 3.4399384737347587 m\n",
      "The actual_max_payload is 2803.2564997926606 ton\n",
      "The actual draft is 3.4399384737347587 m\n",
      "The actual_max_payload is 2803.2564997926606 ton\n",
      "The actual draft is 3.4399384737347587 m\n",
      "The actual_max_payload is 2803.2564997926606 ton\n",
      "The actual draft is 3.4399384737347587 m\n",
      "The actual_max_payload is 2803.2564997926606 ton\n",
      "The actual draft is 3.4399384737347587 m\n",
      "The actual_max_payload is 2803.2564997926606 ton\n",
      "The actual draft is 3.4399384737347587 m\n",
      "The actual_max_payload is 2803.2564997926606 ton\n",
      "The actual draft is 3.4399384737347587 m\n",
      "The actual_max_payload is 2803.2564997926606 ton\n",
      "The actual draft is 3.4399384737347587 m\n",
      "The actual_max_payload is 2803.2564997926606 ton\n",
      "The actual draft is 3.4399384737347587 m\n",
      "The actual_max_payload is 2803.2564997926606 ton\n",
      "The actual draft is 3.4399384737347587 m\n",
      "The actual_max_payload is 2803.2564997926606 ton\n",
      "The actual draft is 3.4399384737347587 m\n",
      "The actual_max_payload is 2803.2564997926606 ton\n",
      "The actual draft is 3.4399384737347587 m\n",
      "The actual_max_payload is 2803.2564997926606 ton\n",
      "The total power required is 396.2446464594415 kW\n",
      "The actual total power given is 396.2446464594415 kW\n",
      "The partial load is 0.22642551226253801\n",
      "The construction year of the engine is 1990\n",
      "The general emission factor of CO2 is 698 g/kWh\n",
      "The general emission factor of PM10 is 0.4 g/kWh\n",
      "The general emission factor CO2 is 10.1 g/kWh\n",
      "The general fuel consumption factor is 220 g/kWh\n",
      "The total power required is 396.2446464594415 kW\n",
      "The actual total power given is 396.2446464594415 kW\n",
      "The partial load is 0.22642551226253801\n",
      "Correction factor of CO2 is 1.1394297950949848\n",
      "Correction factor of PM10 is 1.1530042828324467\n",
      "Correction factor of NOX is 1.0788595901899696\n",
      "Correction factor of fuel consumption is 1.1394297950949848\n",
      "The total emission factor of CO2 is 795.3219969762994 g/kWh\n",
      "The total emission factor of PM10 is 0.4612017131329787 g/kWh\n",
      "The total emission factor CO2 is 10.896481860918692 g/kWh\n",
      "The total fuel consumption factor is 250.67455492089664 g/kWh\n",
      "delta_t: 28570.9425 s\n",
      "distance: 99998.2986 m\n",
      "velocity: 3.5000 m/s\n",
      "The actual draft is 3.4399384737347587 m\n",
      "The actual_max_payload is 2803.2564997926606 ton\n",
      "The actual draft is 3.4399384737347587 m\n",
      "The actual_max_payload is 2803.2564997926606 ton\n",
      "The actual draft is 3.4399384737347587 m\n",
      "The actual_max_payload is 2803.2564997926606 ton\n",
      "The actual draft is 3.4399384737347587 m\n",
      "The actual_max_payload is 2803.2564997926606 ton\n",
      "The actual draft is 3.4399384737347587 m\n",
      "The actual_max_payload is 2803.2564997926606 ton\n",
      "The actual draft is 3.4399384737347587 m\n",
      "The actual_max_payload is 2803.2564997926606 ton\n",
      "The actual draft is 3.4399384737347587 m\n",
      "The actual_max_payload is 2803.2564997926606 ton\n",
      "The actual draft is 3.4399384737347587 m\n",
      "The actual_max_payload is 2803.2564997926606 ton\n",
      "The actual draft is 3.4399384737347587 m\n",
      "The actual_max_payload is 2803.2564997926606 ton\n",
      "The actual draft is 3.4399384737347587 m\n",
      "The actual_max_payload is 2803.2564997926606 ton\n",
      "The actual draft is 3.4399384737347587 m\n",
      "The actual_max_payload is 2803.2564997926606 ton\n",
      "The actual draft is 3.4399384737347587 m\n",
      "The actual_max_payload is 2803.2564997926606 ton\n",
      "The actual draft is 3.4399384737347587 m\n",
      "The actual_max_payload is 2803.2564997926606 ton\n",
      "The actual draft is 3.4399384737347587 m\n",
      "The actual_max_payload is 2803.2564997926606 ton\n",
      "The actual draft is 3.4399384737347587 m\n",
      "The actual_max_payload is 2803.2564997926606 ton\n",
      "The actual draft is 3.4399384737347587 m\n",
      "The actual_max_payload is 2803.2564997926606 ton\n",
      "The actual draft is 3.4399384737347587 m\n",
      "The actual_max_payload is 2803.2564997926606 ton\n",
      "The actual draft is 3.4399384737347587 m\n",
      "The actual_max_payload is 2803.2564997926606 ton\n",
      "The actual draft is 3.4399384737347587 m\n",
      "The actual_max_payload is 2803.2564997926606 ton\n",
      "The actual draft is 3.4399384737347587 m\n",
      "The actual_max_payload is 2803.2564997926606 ton\n",
      "The actual draft is 3.4399384737347587 m\n",
      "The actual_max_payload is 2803.2564997926606 ton\n",
      "The actual draft is 3.4399384737347587 m\n",
      "The actual_max_payload is 2803.2564997926606 ton\n",
      "The actual draft is 3.4399384737347587 m\n",
      "The actual_max_payload is 2803.2564997926606 ton\n",
      "The actual draft is 3.4399384737347587 m\n",
      "The actual_max_payload is 2803.2564997926606 ton\n",
      "The actual draft is 3.4399384737347587 m\n",
      "The actual_max_payload is 2803.2564997926606 ton\n",
      "The actual draft is 3.4399384737347587 m\n",
      "The actual_max_payload is 2803.2564997926606 ton\n",
      "The actual draft is 3.4399384737347587 m\n",
      "The actual_max_payload is 2803.2564997926606 ton\n",
      "The actual draft is 3.4399384737347587 m\n",
      "The actual_max_payload is 2803.2564997926606 ton\n",
      "The actual draft is 3.4399384737347587 m\n",
      "The actual_max_payload is 2803.2564997926606 ton\n",
      "The actual draft is 3.4399384737347587 m\n",
      "The actual_max_payload is 2803.2564997926606 ton\n",
      "The actual draft is 3.4399384737347587 m\n",
      "The actual_max_payload is 2803.2564997926606 ton\n",
      "The actual draft is 3.4399384737347587 m\n",
      "The actual_max_payload is 2803.2564997926606 ton\n",
      "The actual draft is 3.4399384737347587 m\n",
      "The actual_max_payload is 2803.2564997926606 ton\n",
      "The actual draft is 3.4399384737347587 m\n",
      "The actual_max_payload is 2803.2564997926606 ton\n",
      "The actual draft is 3.4399384737347587 m\n",
      "The actual_max_payload is 2803.2564997926606 ton\n",
      "The actual draft is 3.4399384737347587 m\n",
      "The actual_max_payload is 2803.2564997926606 ton\n",
      "The actual draft is 3.4399384737347587 m\n",
      "The actual_max_payload is 2803.2564997926606 ton\n",
      "The actual draft is 3.4399384737347587 m\n",
      "The actual_max_payload is 2803.2564997926606 ton\n",
      "The actual draft is 3.4399384737347587 m\n",
      "The actual_max_payload is 2803.2564997926606 ton\n",
      "The total power required is 396.2446464594415 kW\n",
      "The actual total power given is 396.2446464594415 kW\n",
      "The partial load is 0.22642551226253801\n",
      "The construction year of the engine is 1990\n",
      "The general emission factor of CO2 is 698 g/kWh\n",
      "The general emission factor of PM10 is 0.4 g/kWh\n",
      "The general emission factor CO2 is 10.1 g/kWh\n",
      "The general fuel consumption factor is 220 g/kWh\n",
      "The total power required is 396.2446464594415 kW\n",
      "The actual total power given is 396.2446464594415 kW\n",
      "The partial load is 0.22642551226253801\n",
      "Correction factor of CO2 is 1.1394297950949848\n",
      "Correction factor of PM10 is 1.1530042828324467\n",
      "Correction factor of NOX is 1.0788595901899696\n",
      "Correction factor of fuel consumption is 1.1394297950949848\n",
      "The total emission factor of CO2 is 795.3219969762994 g/kWh\n",
      "The total emission factor of PM10 is 0.4612017131329787 g/kWh\n",
      "The total emission factor CO2 is 10.896481860918692 g/kWh\n",
      "The total fuel consumption factor is 250.67455492089664 g/kWh\n",
      "delta_t: 28570.9425 s\n",
      "distance: 99998.2986 m\n",
      "velocity: 3.5000 m/s\n",
      "The actual draft is 3.4399384737347587 m\n",
      "The actual_max_payload is 2803.2564997926606 ton\n",
      "The actual draft is 3.4399384737347587 m\n",
      "The actual_max_payload is 2803.2564997926606 ton\n",
      "The actual draft is 3.4399384737347587 m\n",
      "The actual_max_payload is 2803.2564997926606 ton\n",
      "The actual draft is 3.4399384737347587 m\n",
      "The actual_max_payload is 2803.2564997926606 ton\n",
      "The actual draft is 3.4399384737347587 m\n",
      "The actual_max_payload is 2803.2564997926606 ton\n",
      "The actual draft is 3.4399384737347587 m\n",
      "The actual_max_payload is 2803.2564997926606 ton\n",
      "The actual draft is 3.4399384737347587 m\n",
      "The actual_max_payload is 2803.2564997926606 ton\n",
      "The actual draft is 3.4399384737347587 m\n",
      "The actual_max_payload is 2803.2564997926606 ton\n",
      "The actual draft is 3.4399384737347587 m\n",
      "The actual_max_payload is 2803.2564997926606 ton\n",
      "The actual draft is 3.4399384737347587 m\n",
      "The actual_max_payload is 2803.2564997926606 ton\n",
      "The actual draft is 3.4399384737347587 m\n",
      "The actual_max_payload is 2803.2564997926606 ton\n",
      "The actual draft is 3.4399384737347587 m\n",
      "The actual_max_payload is 2803.2564997926606 ton\n",
      "The actual draft is 3.4399384737347587 m\n",
      "The actual_max_payload is 2803.2564997926606 ton\n",
      "The actual draft is 3.4399384737347587 m\n",
      "The actual_max_payload is 2803.2564997926606 ton\n",
      "The actual draft is 3.4399384737347587 m\n",
      "The actual_max_payload is 2803.2564997926606 ton\n",
      "The actual draft is 3.4399384737347587 m\n",
      "The actual_max_payload is 2803.2564997926606 ton\n",
      "The actual draft is 3.4399384737347587 m\n",
      "The actual_max_payload is 2803.2564997926606 ton\n",
      "The actual draft is 3.4399384737347587 m\n",
      "The actual_max_payload is 2803.2564997926606 ton\n",
      "The actual draft is 3.4399384737347587 m\n",
      "The actual_max_payload is 2803.2564997926606 ton\n",
      "The actual draft is 3.4399384737347587 m\n",
      "The actual_max_payload is 2803.2564997926606 ton\n",
      "The actual draft is 3.4399384737347587 m\n",
      "The actual_max_payload is 2803.2564997926606 ton\n",
      "The actual draft is 3.4399384737347587 m\n",
      "The actual_max_payload is 2803.2564997926606 ton\n",
      "The actual draft is 3.4399384737347587 m\n",
      "The actual_max_payload is 2803.2564997926606 ton\n",
      "The actual draft is 3.4399384737347587 m\n",
      "The actual_max_payload is 2803.2564997926606 ton\n",
      "The actual draft is 3.4399384737347587 m\n",
      "The actual_max_payload is 2803.2564997926606 ton\n",
      "The actual draft is 3.4399384737347587 m\n",
      "The actual_max_payload is 2803.2564997926606 ton\n",
      "The actual draft is 3.4399384737347587 m\n",
      "The actual_max_payload is 2803.2564997926606 ton\n",
      "The actual draft is 3.4399384737347587 m\n",
      "The actual_max_payload is 2803.2564997926606 ton\n",
      "The actual draft is 3.4399384737347587 m\n",
      "The actual_max_payload is 2803.2564997926606 ton\n",
      "The actual draft is 3.4399384737347587 m\n",
      "The actual_max_payload is 2803.2564997926606 ton\n",
      "The actual draft is 3.4399384737347587 m\n",
      "The actual_max_payload is 2803.2564997926606 ton\n",
      "The actual draft is 3.4399384737347587 m\n",
      "The actual_max_payload is 2803.2564997926606 ton\n",
      "The actual draft is 3.4399384737347587 m\n",
      "The actual_max_payload is 2803.2564997926606 ton\n",
      "The actual draft is 3.4399384737347587 m\n",
      "The actual_max_payload is 2803.2564997926606 ton\n",
      "The actual draft is 3.4399384737347587 m\n",
      "The actual_max_payload is 2803.2564997926606 ton\n",
      "The actual draft is 3.4399384737347587 m\n",
      "The actual_max_payload is 2803.2564997926606 ton\n",
      "The actual draft is 3.4399384737347587 m\n",
      "The actual_max_payload is 2803.2564997926606 ton\n",
      "The actual draft is 3.4399384737347587 m\n",
      "The actual_max_payload is 2803.2564997926606 ton\n",
      "The actual draft is 3.4399384737347587 m\n",
      "The actual_max_payload is 2803.2564997926606 ton\n",
      "The total power required is 396.244646419669 kW\n",
      "The actual total power given is 396.244646419669 kW\n",
      "The partial load is 0.22642551223981083\n",
      "The construction year of the engine is 1990\n",
      "The general emission factor of CO2 is 698 g/kWh\n",
      "The general emission factor of PM10 is 0.4 g/kWh\n",
      "The general emission factor CO2 is 10.1 g/kWh\n",
      "The general fuel consumption factor is 220 g/kWh\n",
      "The total power required is 396.244646419669 kW\n",
      "The actual total power given is 396.244646419669 kW\n",
      "The partial load is 0.22642551223981083\n",
      "Correction factor of CO2 is 1.1394297951040755\n",
      "Correction factor of PM10 is 1.1530042828642648\n",
      "Correction factor of NOX is 1.0788595902081515\n",
      "Correction factor of fuel consumption is 1.1394297951040755\n",
      "The total emission factor of CO2 is 795.3219969826447 g/kWh\n",
      "The total emission factor of PM10 is 0.46120171314570596 g/kWh\n",
      "The total emission factor CO2 is 10.896481861102329 g/kWh\n",
      "The total fuel consumption factor is 250.67455492289662 g/kWh\n"
     ]
    }
   ],
   "source": [
    "# we can now work out in hindsight what resistance, power, energy and emissions were generated\n",
    "energycalculation.calculate_energy_consumption()\n",
    "\n",
    "# ToDo:\n",
    "# - perhaps add to the printstatements which edge is sailed \n",
    "# - may be the print statements can be cleaned up (fewer significant digits)\n",
    "# - possibly even make it optional to print this, because the next cells show dataframes with the output\n",
    "# - etc"
   ]
  },
  {
   "cell_type": "code",
   "execution_count": 14,
   "id": "6e5f4a42",
   "metadata": {},
   "outputs": [
    {
     "name": "stderr",
     "output_type": "stream",
     "text": [
      "/Users/baart_f/.virtualenvs/opentnsim/lib/python3.9/site-packages/pandas/core/dtypes/cast.py:118: ShapelyDeprecationWarning:\n",
      "\n",
      "The array interface is deprecated and will no longer work in Shapely 2.0. Convert the '.coords' to a numpy array instead.\n",
      "\n"
     ]
    },
    {
     "data": {
      "text/html": [
       "<div>\n",
       "<style scoped>\n",
       "    .dataframe tbody tr th:only-of-type {\n",
       "        vertical-align: middle;\n",
       "    }\n",
       "\n",
       "    .dataframe tbody tr th {\n",
       "        vertical-align: top;\n",
       "    }\n",
       "\n",
       "    .dataframe thead th {\n",
       "        text-align: right;\n",
       "    }\n",
       "</style>\n",
       "<table border=\"1\" class=\"dataframe\">\n",
       "  <thead>\n",
       "    <tr style=\"text-align: right;\">\n",
       "      <th></th>\n",
       "      <th>time_start</th>\n",
       "      <th>time_stop</th>\n",
       "      <th>edge_start</th>\n",
       "      <th>edge_stop</th>\n",
       "      <th>total_energy</th>\n",
       "      <th>total_fuel_consumption</th>\n",
       "      <th>total_emission_CO2</th>\n",
       "      <th>total_emission_PM10</th>\n",
       "      <th>total_emission_NOX</th>\n",
       "      <th>stationary</th>\n",
       "      <th>water depth</th>\n",
       "      <th>distance</th>\n",
       "      <th>delta_t</th>\n",
       "      <th>CO2_g_km</th>\n",
       "      <th>PM10_g_km</th>\n",
       "      <th>NOX_g_km</th>\n",
       "      <th>diesel_kg_km</th>\n",
       "    </tr>\n",
       "  </thead>\n",
       "  <tbody>\n",
       "    <tr>\n",
       "      <th>0</th>\n",
       "      <td>2022-01-10 22:22:40.000000</td>\n",
       "      <td>2022-01-11 06:18:50.942451</td>\n",
       "      <td>POINT (0 0)</td>\n",
       "      <td>POINT (0.8983 0)</td>\n",
       "      <td>3144.745275</td>\n",
       "      <td>788.307622</td>\n",
       "      <td>2.501085e+06</td>\n",
       "      <td>1450.361908</td>\n",
       "      <td>34266.659848</td>\n",
       "      <td>0</td>\n",
       "      <td>6</td>\n",
       "      <td>99998.29858</td>\n",
       "      <td>28570.942451</td>\n",
       "      <td>25011.276469</td>\n",
       "      <td>14.503866</td>\n",
       "      <td>342.672429</td>\n",
       "      <td>7.075797</td>\n",
       "    </tr>\n",
       "    <tr>\n",
       "      <th>1</th>\n",
       "      <td>2022-01-11 06:18:50.942451</td>\n",
       "      <td>2022-01-11 14:15:01.884902</td>\n",
       "      <td>POINT (0.8983 0)</td>\n",
       "      <td>POINT (1.7966 0)</td>\n",
       "      <td>3144.745275</td>\n",
       "      <td>788.307622</td>\n",
       "      <td>2.501085e+06</td>\n",
       "      <td>1450.361908</td>\n",
       "      <td>34266.659848</td>\n",
       "      <td>0</td>\n",
       "      <td>6</td>\n",
       "      <td>99998.29858</td>\n",
       "      <td>28570.942451</td>\n",
       "      <td>25011.276469</td>\n",
       "      <td>14.503866</td>\n",
       "      <td>342.672429</td>\n",
       "      <td>7.075797</td>\n",
       "    </tr>\n",
       "    <tr>\n",
       "      <th>2</th>\n",
       "      <td>2022-01-11 14:15:01.884902</td>\n",
       "      <td>2022-01-11 22:11:12.827354</td>\n",
       "      <td>POINT (1.7966 0)</td>\n",
       "      <td>POINT (2.6949 0)</td>\n",
       "      <td>3144.745275</td>\n",
       "      <td>788.307622</td>\n",
       "      <td>2.501085e+06</td>\n",
       "      <td>1450.361908</td>\n",
       "      <td>34266.659846</td>\n",
       "      <td>0</td>\n",
       "      <td>6</td>\n",
       "      <td>99998.29858</td>\n",
       "      <td>28570.942452</td>\n",
       "      <td>25011.276468</td>\n",
       "      <td>14.503866</td>\n",
       "      <td>342.672429</td>\n",
       "      <td>7.075797</td>\n",
       "    </tr>\n",
       "  </tbody>\n",
       "</table>\n",
       "</div>"
      ],
      "text/plain": [
       "                  time_start                  time_stop        edge_start  \\\n",
       "0 2022-01-10 22:22:40.000000 2022-01-11 06:18:50.942451       POINT (0 0)   \n",
       "1 2022-01-11 06:18:50.942451 2022-01-11 14:15:01.884902  POINT (0.8983 0)   \n",
       "2 2022-01-11 14:15:01.884902 2022-01-11 22:11:12.827354  POINT (1.7966 0)   \n",
       "\n",
       "          edge_stop  total_energy  total_fuel_consumption  total_emission_CO2  \\\n",
       "0  POINT (0.8983 0)   3144.745275              788.307622        2.501085e+06   \n",
       "1  POINT (1.7966 0)   3144.745275              788.307622        2.501085e+06   \n",
       "2  POINT (2.6949 0)   3144.745275              788.307622        2.501085e+06   \n",
       "\n",
       "   total_emission_PM10  total_emission_NOX  stationary  water depth  \\\n",
       "0          1450.361908        34266.659848           0            6   \n",
       "1          1450.361908        34266.659848           0            6   \n",
       "2          1450.361908        34266.659846           0            6   \n",
       "\n",
       "      distance       delta_t      CO2_g_km  PM10_g_km    NOX_g_km  \\\n",
       "0  99998.29858  28570.942451  25011.276469  14.503866  342.672429   \n",
       "1  99998.29858  28570.942451  25011.276469  14.503866  342.672429   \n",
       "2  99998.29858  28570.942452  25011.276468  14.503866  342.672429   \n",
       "\n",
       "   diesel_kg_km  \n",
       "0      7.075797  \n",
       "1      7.075797  \n",
       "2      7.075797  "
      ]
     },
     "execution_count": 14,
     "metadata": {},
     "output_type": "execute_result"
    }
   ],
   "source": [
    "df = pd.DataFrame.from_dict(energycalculation.energy_use)\n",
    "df['CO2_g_km'] = df['total_emission_CO2'] / df['distance']*1000\n",
    "df['PM10_g_km'] = df['total_emission_PM10'] / df['distance']*1000\n",
    "df['NOX_g_km'] = df['total_emission_NOX'] / df['distance']*1000\n",
    "df['diesel_kg_km'] = df['total_energy'] *0.225/ df['distance']*1000 \n",
    "df.head()"
   ]
  },
  {
   "cell_type": "markdown",
   "id": "bddc99dc",
   "metadata": {},
   "source": [
    "## Add current influence"
   ]
  },
  {
   "cell_type": "code",
   "execution_count": 15,
   "id": "be98a0d7",
   "metadata": {},
   "outputs": [],
   "source": [
    "# with current speed =0.5m/s\n",
    "V_cur=0.5 \n",
    "# delta_t will be longer when upstream, shorter when downstream\n",
    "delta_t_up=df['distance']/(df['distance']/df['delta_t']-V_cur)\n",
    "delta_t_down=df['distance']/(df['distance']/df['delta_t']+V_cur)\n",
    "# total emission&fuel consumption will be large when upstream(because of longer delta_t), shorter when downstream(because of shorter delta_t)\n",
    "df['total_fuel_consumption_kg']=df['total_fuel_consumption'] #kg without current\n",
    "df['total_fuel_consumption_up_kg']=df['total_fuel_consumption'] *(delta_t_up/df['delta_t']) #kg\n",
    "df['total_fuel_consumption_down_kg']=df['total_fuel_consumption'] *(delta_t_down/df['delta_t']) #kg\n",
    "df['total_fuel_consumption_round_no_current_kg']=df['total_fuel_consumption']*2 #kg\n",
    "df['total_fuel_consumption_round_current_kg']=df['total_fuel_consumption_up_kg']+df['total_fuel_consumption_down_kg'] #kg\n",
    "df['total_emission_CO2_kg']=df['total_emission_CO2']/1000 #kg without current\n",
    "df['total_emission_CO2_up_kg']=df['total_emission_CO2'] *(delta_t_up/df['delta_t'])/1000 #kg\n",
    "df['total_emission_CO2_down_kg']=df['total_emission_CO2'] *(delta_t_down/df['delta_t'])/1000 #kg\n",
    "df['total_emission_CO2_round_no_current_kg']=df['total_emission_CO2']*2/1000 #kg\n",
    "df['total_emission_CO2_round_current_kg']=df['total_emission_CO2_up_kg']+df['total_emission_CO2_down_kg'] #kg\n",
    "df['total_emission_PM10_kg']=df['total_emission_PM10']/1000 #kg without current\n",
    "df['total_emission_PM10_up_kg']=df['total_emission_PM10'] *(delta_t_up/df['delta_t'])/1000 #kg\n",
    "df['total_emission_PM10_down_kg']=df['total_emission_PM10'] *(delta_t_down/df['delta_t'])/1000 #kg\n",
    "df['total_emission_PM10_round_no_current_kg']=df['total_emission_PM10']*2/1000 #kg\n",
    "df['total_emission_PM10_round_current_kg']=df['total_emission_PM10_up_kg']+df['total_emission_PM10_down_kg'] #kg\n",
    "df['total_emission_NOX_kg']=df['total_emission_NOX']/1000 #kg without current\n",
    "df['total_emission_NOX_up_kg']=df['total_emission_NOX'] *(delta_t_up/df['delta_t'])/1000 #kg\n",
    "df['total_emission_NOX_down_kg']=df['total_emission_NOX'] *(delta_t_down/df['delta_t'])/1000 #kg\n",
    "df['total_emission_NOX_round_no_current_kg']=df['total_emission_NOX']*2/1000 #kg\n",
    "df['total_emission_NOX_round_current_kg']=df['total_emission_NOX_up_kg']+df['total_emission_NOX_down_kg'] #kg"
   ]
  },
  {
   "cell_type": "code",
   "execution_count": 16,
   "id": "90cb6f34",
   "metadata": {},
   "outputs": [
    {
     "data": {
      "text/html": [
       "<div>\n",
       "<style scoped>\n",
       "    .dataframe tbody tr th:only-of-type {\n",
       "        vertical-align: middle;\n",
       "    }\n",
       "\n",
       "    .dataframe tbody tr th {\n",
       "        vertical-align: top;\n",
       "    }\n",
       "\n",
       "    .dataframe thead th {\n",
       "        text-align: right;\n",
       "    }\n",
       "</style>\n",
       "<table border=\"1\" class=\"dataframe\">\n",
       "  <thead>\n",
       "    <tr style=\"text-align: right;\">\n",
       "      <th></th>\n",
       "      <th>section 1</th>\n",
       "      <th>section 2</th>\n",
       "      <th>section 3</th>\n",
       "    </tr>\n",
       "  </thead>\n",
       "  <tbody>\n",
       "    <tr>\n",
       "      <th>single trip \\n no current \\n either way</th>\n",
       "      <td>788.307622</td>\n",
       "      <td>788.307622</td>\n",
       "      <td>788.307622</td>\n",
       "    </tr>\n",
       "    <tr>\n",
       "      <th>single trip \\n upstream</th>\n",
       "      <td>919.692226</td>\n",
       "      <td>919.692226</td>\n",
       "      <td>919.692226</td>\n",
       "    </tr>\n",
       "    <tr>\n",
       "      <th>single trip \\n downstream</th>\n",
       "      <td>689.769169</td>\n",
       "      <td>689.769169</td>\n",
       "      <td>689.769169</td>\n",
       "    </tr>\n",
       "    <tr>\n",
       "      <th>round trip \\n no current</th>\n",
       "      <td>1576.615244</td>\n",
       "      <td>1576.615244</td>\n",
       "      <td>1576.615244</td>\n",
       "    </tr>\n",
       "    <tr>\n",
       "      <th>round trip \\n current</th>\n",
       "      <td>1609.461395</td>\n",
       "      <td>1609.461395</td>\n",
       "      <td>1609.461395</td>\n",
       "    </tr>\n",
       "  </tbody>\n",
       "</table>\n",
       "</div>"
      ],
      "text/plain": [
       "                                           section 1    section 2    section 3\n",
       "single trip \\n no current \\n either way   788.307622   788.307622   788.307622\n",
       "single trip \\n upstream                   919.692226   919.692226   919.692226\n",
       "single trip \\n downstream                 689.769169   689.769169   689.769169\n",
       "round trip \\n no current                 1576.615244  1576.615244  1576.615244\n",
       "round trip \\n current                    1609.461395  1609.461395  1609.461395"
      ]
     },
     "execution_count": 16,
     "metadata": {},
     "output_type": "execute_result"
    }
   ],
   "source": [
    "fuel=df[['total_fuel_consumption_kg','total_fuel_consumption_up_kg','total_fuel_consumption_down_kg',\n",
    "          'total_fuel_consumption_round_no_current_kg','total_fuel_consumption_round_current_kg']].T\n",
    "fuel.index=['single trip \\n no current \\n either way', 'single trip \\n upstream',\n",
    "                    'single trip \\n downstream', 'round trip \\n no current', 'round trip \\n current']\n",
    "fuel.columns =['section 1','section 2','section 3']\n",
    "fuel.head()"
   ]
  },
  {
   "cell_type": "code",
   "execution_count": 17,
   "id": "a8543484",
   "metadata": {},
   "outputs": [
    {
     "data": {
      "text/plain": [
       "<AxesSubplot:>"
      ]
     },
     "execution_count": 17,
     "metadata": {},
     "output_type": "execute_result"
    },
    {
     "data": {
      "image/png": "[encoded data removed]",
      "text/plain": [
       "<Figure size 576x216 with 1 Axes>"
      ]
     },
     "metadata": {
      "needs_background": "light"
     },
     "output_type": "display_data"
    }
   ],
   "source": [
    "# creates a stacked bar plot\n",
    "fuel_colors=['#6f7632','#658b38','#c7c10c']\n",
    "fuel.plot(kind='bar', stacked=True,color=fuel_colors,rot=0, figsize=(8, 3))\n"
   ]
  },
  {
   "cell_type": "code",
   "execution_count": 18,
   "id": "d46d7841",
   "metadata": {},
   "outputs": [
    {
     "data": {
      "text/html": [
       "<div>\n",
       "<style scoped>\n",
       "    .dataframe tbody tr th:only-of-type {\n",
       "        vertical-align: middle;\n",
       "    }\n",
       "\n",
       "    .dataframe tbody tr th {\n",
       "        vertical-align: top;\n",
       "    }\n",
       "\n",
       "    .dataframe thead th {\n",
       "        text-align: right;\n",
       "    }\n",
       "</style>\n",
       "<table border=\"1\" class=\"dataframe\">\n",
       "  <thead>\n",
       "    <tr style=\"text-align: right;\">\n",
       "      <th></th>\n",
       "      <th>section 1</th>\n",
       "      <th>section 2</th>\n",
       "      <th>section 3</th>\n",
       "    </tr>\n",
       "  </thead>\n",
       "  <tbody>\n",
       "    <tr>\n",
       "      <th>single trip \\n no current \\n either way</th>\n",
       "      <td>2501.085092</td>\n",
       "      <td>2501.085092</td>\n",
       "      <td>2501.085092</td>\n",
       "    </tr>\n",
       "    <tr>\n",
       "      <th>single trip \\n upstream</th>\n",
       "      <td>2917.932608</td>\n",
       "      <td>2917.932608</td>\n",
       "      <td>2917.932607</td>\n",
       "    </tr>\n",
       "    <tr>\n",
       "      <th>single trip \\n downstream</th>\n",
       "      <td>2188.449456</td>\n",
       "      <td>2188.449456</td>\n",
       "      <td>2188.449456</td>\n",
       "    </tr>\n",
       "    <tr>\n",
       "      <th>round trip \\n no current</th>\n",
       "      <td>5002.170184</td>\n",
       "      <td>5002.170184</td>\n",
       "      <td>5002.170184</td>\n",
       "    </tr>\n",
       "    <tr>\n",
       "      <th>round trip \\n current</th>\n",
       "      <td>5106.382063</td>\n",
       "      <td>5106.382063</td>\n",
       "      <td>5106.382063</td>\n",
       "    </tr>\n",
       "  </tbody>\n",
       "</table>\n",
       "</div>"
      ],
      "text/plain": [
       "                                           section 1    section 2    section 3\n",
       "single trip \\n no current \\n either way  2501.085092  2501.085092  2501.085092\n",
       "single trip \\n upstream                  2917.932608  2917.932608  2917.932607\n",
       "single trip \\n downstream                2188.449456  2188.449456  2188.449456\n",
       "round trip \\n no current                 5002.170184  5002.170184  5002.170184\n",
       "round trip \\n current                    5106.382063  5106.382063  5106.382063"
      ]
     },
     "execution_count": 18,
     "metadata": {},
     "output_type": "execute_result"
    }
   ],
   "source": [
    "CO2=df[['total_emission_CO2_kg','total_emission_CO2_up_kg','total_emission_CO2_down_kg',\n",
    "          'total_emission_CO2_round_no_current_kg','total_emission_CO2_round_current_kg']].T\n",
    "CO2.index=['single trip \\n no current \\n either way', 'single trip \\n upstream',\n",
    "                    'single trip \\n downstream', 'round trip \\n no current', 'round trip \\n current']\n",
    "CO2.columns =['section 1','section 2','section 3']\n",
    "CO2.head()\n"
   ]
  },
  {
   "cell_type": "code",
   "execution_count": 19,
   "id": "20b8cadf",
   "metadata": {},
   "outputs": [
    {
     "data": {
      "text/plain": [
       "<AxesSubplot:>"
      ]
     },
     "execution_count": 19,
     "metadata": {},
     "output_type": "execute_result"
    },
    {
     "data": {
      "image/png": "[encoded data removed]",
      "text/plain": [
       "<Figure size 576x216 with 1 Axes>"
      ]
     },
     "metadata": {
      "needs_background": "light"
     },
     "output_type": "display_data"
    }
   ],
   "source": [
    "# creates a stacked bar plot\n",
    "CO2_colors=['#ff073a','#f97306','#fedf08']\n",
    "CO2.plot(kind='bar', stacked=True,color=CO2_colors,rot=0, figsize=(8, 3))"
   ]
  },
  {
   "cell_type": "code",
   "execution_count": 20,
   "id": "ac187ee2",
   "metadata": {},
   "outputs": [
    {
     "data": {
      "text/html": [
       "<div>\n",
       "<style scoped>\n",
       "    .dataframe tbody tr th:only-of-type {\n",
       "        vertical-align: middle;\n",
       "    }\n",
       "\n",
       "    .dataframe tbody tr th {\n",
       "        vertical-align: top;\n",
       "    }\n",
       "\n",
       "    .dataframe thead th {\n",
       "        text-align: right;\n",
       "    }\n",
       "</style>\n",
       "<table border=\"1\" class=\"dataframe\">\n",
       "  <thead>\n",
       "    <tr style=\"text-align: right;\">\n",
       "      <th></th>\n",
       "      <th>section 1</th>\n",
       "      <th>section 2</th>\n",
       "      <th>section 3</th>\n",
       "    </tr>\n",
       "  </thead>\n",
       "  <tbody>\n",
       "    <tr>\n",
       "      <th>single trip \\n no current \\n either way</th>\n",
       "      <td>1.450362</td>\n",
       "      <td>1.450362</td>\n",
       "      <td>1.450362</td>\n",
       "    </tr>\n",
       "    <tr>\n",
       "      <th>single trip \\n upstream</th>\n",
       "      <td>1.692089</td>\n",
       "      <td>1.692089</td>\n",
       "      <td>1.692089</td>\n",
       "    </tr>\n",
       "    <tr>\n",
       "      <th>single trip \\n downstream</th>\n",
       "      <td>1.269067</td>\n",
       "      <td>1.269067</td>\n",
       "      <td>1.269067</td>\n",
       "    </tr>\n",
       "    <tr>\n",
       "      <th>round trip \\n no current</th>\n",
       "      <td>2.900724</td>\n",
       "      <td>2.900724</td>\n",
       "      <td>2.900724</td>\n",
       "    </tr>\n",
       "    <tr>\n",
       "      <th>round trip \\n current</th>\n",
       "      <td>2.961156</td>\n",
       "      <td>2.961156</td>\n",
       "      <td>2.961156</td>\n",
       "    </tr>\n",
       "  </tbody>\n",
       "</table>\n",
       "</div>"
      ],
      "text/plain": [
       "                                         section 1  section 2  section 3\n",
       "single trip \\n no current \\n either way   1.450362   1.450362   1.450362\n",
       "single trip \\n upstream                   1.692089   1.692089   1.692089\n",
       "single trip \\n downstream                 1.269067   1.269067   1.269067\n",
       "round trip \\n no current                  2.900724   2.900724   2.900724\n",
       "round trip \\n current                     2.961156   2.961156   2.961156"
      ]
     },
     "execution_count": 20,
     "metadata": {},
     "output_type": "execute_result"
    }
   ],
   "source": [
    "PM10=df[['total_emission_PM10_kg','total_emission_PM10_up_kg','total_emission_PM10_down_kg',\n",
    "          'total_emission_PM10_round_no_current_kg','total_emission_PM10_round_current_kg']].T\n",
    "PM10.index=['single trip \\n no current \\n either way', 'single trip \\n upstream',\n",
    "                    'single trip \\n downstream', 'round trip \\n no current', 'round trip \\n current']\n",
    "PM10.columns =['section 1','section 2','section 3']\n",
    "PM10.head()"
   ]
  },
  {
   "cell_type": "code",
   "execution_count": 21,
   "id": "7294e8cd",
   "metadata": {},
   "outputs": [
    {
     "data": {
      "text/plain": [
       "<AxesSubplot:>"
      ]
     },
     "execution_count": 21,
     "metadata": {},
     "output_type": "execute_result"
    },
    {
     "data": {
      "image/png": "[encoded data removed]",
      "text/plain": [
       "<Figure size 576x216 with 1 Axes>"
      ]
     },
     "metadata": {
      "needs_background": "light"
     },
     "output_type": "display_data"
    }
   ],
   "source": [
    "# creates a stacked bar plot\n",
    "PM10_colors=['#069af3','#02ccfe','#98eff9']\n",
    "PM10.plot(kind='bar', stacked=True,color=PM10_colors,rot=0, figsize=(8, 3))"
   ]
  },
  {
   "cell_type": "code",
   "execution_count": 22,
   "id": "6f1ac4b3",
   "metadata": {},
   "outputs": [
    {
     "data": {
      "text/html": [
       "<div>\n",
       "<style scoped>\n",
       "    .dataframe tbody tr th:only-of-type {\n",
       "        vertical-align: middle;\n",
       "    }\n",
       "\n",
       "    .dataframe tbody tr th {\n",
       "        vertical-align: top;\n",
       "    }\n",
       "\n",
       "    .dataframe thead th {\n",
       "        text-align: right;\n",
       "    }\n",
       "</style>\n",
       "<table border=\"1\" class=\"dataframe\">\n",
       "  <thead>\n",
       "    <tr style=\"text-align: right;\">\n",
       "      <th></th>\n",
       "      <th>section 1</th>\n",
       "      <th>section 2</th>\n",
       "      <th>section 3</th>\n",
       "    </tr>\n",
       "  </thead>\n",
       "  <tbody>\n",
       "    <tr>\n",
       "      <th>single trip \\n no current \\n either way</th>\n",
       "      <td>34.266660</td>\n",
       "      <td>34.266660</td>\n",
       "      <td>34.266660</td>\n",
       "    </tr>\n",
       "    <tr>\n",
       "      <th>single trip \\n upstream</th>\n",
       "      <td>39.977770</td>\n",
       "      <td>39.977770</td>\n",
       "      <td>39.977770</td>\n",
       "    </tr>\n",
       "    <tr>\n",
       "      <th>single trip \\n downstream</th>\n",
       "      <td>29.983327</td>\n",
       "      <td>29.983327</td>\n",
       "      <td>29.983327</td>\n",
       "    </tr>\n",
       "    <tr>\n",
       "      <th>round trip \\n no current</th>\n",
       "      <td>68.533320</td>\n",
       "      <td>68.533320</td>\n",
       "      <td>68.533320</td>\n",
       "    </tr>\n",
       "    <tr>\n",
       "      <th>round trip \\n current</th>\n",
       "      <td>69.961097</td>\n",
       "      <td>69.961097</td>\n",
       "      <td>69.961097</td>\n",
       "    </tr>\n",
       "  </tbody>\n",
       "</table>\n",
       "</div>"
      ],
      "text/plain": [
       "                                         section 1  section 2  section 3\n",
       "single trip \\n no current \\n either way  34.266660  34.266660  34.266660\n",
       "single trip \\n upstream                  39.977770  39.977770  39.977770\n",
       "single trip \\n downstream                29.983327  29.983327  29.983327\n",
       "round trip \\n no current                 68.533320  68.533320  68.533320\n",
       "round trip \\n current                    69.961097  69.961097  69.961097"
      ]
     },
     "execution_count": 22,
     "metadata": {},
     "output_type": "execute_result"
    }
   ],
   "source": [
    "NOX=df[['total_emission_NOX_kg','total_emission_NOX_up_kg','total_emission_NOX_down_kg',\n",
    "          'total_emission_NOX_round_no_current_kg','total_emission_NOX_round_current_kg']].T\n",
    "NOX.index=['single trip \\n no current \\n either way', 'single trip \\n upstream',\n",
    "                    'single trip \\n downstream', 'round trip \\n no current', 'round trip \\n current']\n",
    "NOX.columns =['section 1','section 2','section 3']\n",
    "NOX.head()"
   ]
  },
  {
   "cell_type": "code",
   "execution_count": 23,
   "id": "11529b78",
   "metadata": {},
   "outputs": [
    {
     "data": {
      "text/plain": [
       "<AxesSubplot:>"
      ]
     },
     "execution_count": 23,
     "metadata": {},
     "output_type": "execute_result"
    },
    {
     "data": {
      "image/png": "[encoded data removed]",
      "text/plain": [
       "<Figure size 576x216 with 1 Axes>"
      ]
     },
     "metadata": {
      "needs_background": "light"
     },
     "output_type": "display_data"
    }
   ],
   "source": [
    "# creates a stacked bar plot\n",
    "NOX_colors=['#cb0162','#ff69af','#fed0fc']\n",
    "NOX.plot(kind='bar', stacked=True,color=NOX_colors,rot=0, figsize=(8, 3))"
   ]
  },
  {
   "cell_type": "markdown",
   "id": "8ad63340",
   "metadata": {},
   "source": [
    "## Figure output\n",
    "Fuel consumption (b) and emissions (c, d, e) of a fully loaded M8 ship sailing in the waterway with three speed levels relative to the water and corresponding required power levels: 3 m/s (274 kW), 3.5 m/s (396 kW), 4 m/s (647 kW). (a) represents the longisection of a 300 km long and 6m deep waterway. The actual draught of the M8 ship is 3.5 m with under keel clearance 2.5 m. Engine construction year: 1990."
   ]
  },
  {
   "cell_type": "code",
   "execution_count": 24,
   "id": "d2e93a38",
   "metadata": {},
   "outputs": [],
   "source": [
    "import numpy as np\n",
    "import matplotlib.pyplot as plt\n",
    "import pandas as pd\n",
    "import math \n",
    "import plotly.express as px\n",
    "from plotly.subplots import make_subplots"
   ]
  },
  {
   "cell_type": "code",
   "execution_count": 25,
   "id": "e9985058",
   "metadata": {},
   "outputs": [
    {
     "data": {
      "text/plain": [
       "<Figure size 432x288 with 0 Axes>"
      ]
     },
     "metadata": {},
     "output_type": "display_data"
    },
    {
     "data": {
      "image/png": "[encoded data removed]",
      "text/plain": [
       "<Figure size 576x216 with 1 Axes>"
      ]
     },
     "metadata": {
      "needs_background": "light"
     },
     "output_type": "display_data"
    },
    {
     "data": {
      "text/plain": [
       "<Figure size 432x288 with 0 Axes>"
      ]
     },
     "metadata": {},
     "output_type": "display_data"
    },
    {
     "data": {
      "image/png": "[encoded data removed]",
      "text/plain": [
       "<Figure size 576x216 with 1 Axes>"
      ]
     },
     "metadata": {
      "needs_background": "light"
     },
     "output_type": "display_data"
    },
    {
     "data": {
      "text/plain": [
       "<Figure size 432x288 with 0 Axes>"
      ]
     },
     "metadata": {},
     "output_type": "display_data"
    },
    {
     "data": {
      "image/png": "[encoded data removed]",
      "text/plain": [
       "<Figure size 576x216 with 1 Axes>"
      ]
     },
     "metadata": {
      "needs_background": "light"
     },
     "output_type": "display_data"
    },
    {
     "data": {
      "text/plain": [
       "<Figure size 432x288 with 0 Axes>"
      ]
     },
     "metadata": {},
     "output_type": "display_data"
    },
    {
     "data": {
      "image/png": "[encoded data removed]",
      "text/plain": [
       "<Figure size 576x216 with 1 Axes>"
      ]
     },
     "metadata": {
      "needs_background": "light"
     },
     "output_type": "display_data"
    }
   ],
   "source": [
    "plt.figure()\n",
    "# plt.subplot(411)\n",
    "fuel.plot(kind='bar', stacked=True,color=fuel_colors,rot=0,figsize=(8, 3))\n",
    "plt.ylim(0, 10000)\n",
    "plt.ylabel('Total fuel consumption (kg)',fontsize=12,fontweight='bold')\n",
    "ax = plt.gca()\n",
    "ax.axes.xaxis.set_visible(False)\n",
    "plt.yticks( weight = 'bold')\n",
    "plt.legend(loc='upper left')\n",
    "plt.savefig('6-6-6current-fuel', dpi=600, format='tif')    \n",
    "\n",
    "plt.figure()\n",
    "# plt.subplot(412)\n",
    "CO2.plot(kind='bar', stacked=True,color=CO2_colors,rot=0,figsize=(8, 3))\n",
    "plt.ylim(0, 30000)\n",
    "plt.ylabel('Total CO2 emission (kg)',fontsize=12,fontweight='bold')\n",
    "ax = plt.gca()\n",
    "ax.axes.xaxis.set_visible(False)\n",
    "plt.legend(loc='upper left')\n",
    "plt.yticks( weight = 'bold')\n",
    "plt.savefig('6-6-6current-CO2', dpi=600, format='tif') \n",
    "plt.figure()\n",
    "# plt.subplot(413)\n",
    "PM10.plot(kind='bar', stacked=True,color=PM10_colors,rot=0,figsize=(8, 3))\n",
    "plt.ylim(0, 16)\n",
    "plt.ylabel('Total PM10 emission (kg)',fontsize=12,fontweight='bold')\n",
    "ax = plt.gca()\n",
    "ax.axes.xaxis.set_visible(False)\n",
    "plt.legend(loc='upper left')\n",
    "plt.yticks( weight = 'bold')\n",
    "plt.savefig('6-6-6current-PM10', dpi=600, format='tif') \n",
    "plt.figure()\n",
    "# plt.subplot(414)\n",
    "NOX.plot(kind='bar', stacked=True,color=NOX_colors,rot=0,figsize=(8, 3))\n",
    "plt.ylim(0, 400)\n",
    "plt.ylabel('Total NOx emission (kg)',fontsize=12,fontweight='bold')\n",
    "plt.xticks( weight = 'bold')\n",
    "plt.yticks( weight = 'bold')\n",
    "plt.legend(loc='upper left')\n",
    "plt.savefig('6-6-6current-NOX', dpi=600, format='tif') \n",
    "\n",
    "\n",
    "plt.show()"
   ]
  },
  {
   "cell_type": "code",
   "execution_count": null,
   "id": "d3af63f0",
   "metadata": {},
   "outputs": [],
   "source": []
  }
 ],
 "metadata": {
  "kernelspec": {
   "display_name": "Python 3 (ipykernel)",
   "language": "python",
   "name": "python3"
  },
  "language_info": {
   "codemirror_mode": {
    "name": "ipython",
    "version": 3
   },
   "file_extension": ".py",
   "mimetype": "text/x-python",
   "name": "python",
   "nbconvert_exporter": "python",
   "pygments_lexer": "ipython3",
   "version": "3.9.9"
  }
 },
 "nbformat": 4,
 "nbformat_minor": 5
}
