{
 "cells": [
  {
   "cell_type": "code",
   "execution_count": 1,
   "id": "representative-drive",
   "metadata": {},
   "outputs": [],
   "source": [
    "# package(s) related to time, space and id\n",
    "import datetime, time\n",
    "\n",
    "# package(s) related to time, space and id\n",
    "import datetime, time\n",
    "\n",
    "# package(s) related to the simulation\n",
    "import simpy\n",
    "import networkx as nx  \n",
    "import numpy as np\n",
    "import math\n",
    "\n",
    "# OpenTNSim\n",
    "import opentnsim.core as core\n",
    "\n",
    "# spatial libraries \n",
    "import shapely.geometry\n",
    "import shapely.wkt\n",
    "import pyproj\n",
    "import shapely.geometry\n",
    "\n",
    "# define the coorinate system\n",
    "geod = pyproj.Geod(ellps=\"WGS84\")"
   ]
  },
  {
   "cell_type": "code",
   "execution_count": 2,
   "id": "worth-creature",
   "metadata": {},
   "outputs": [],
   "source": [
    "Node = type('Site', (core.Identifiable, core.Log, core.Locatable, core.HasResource), {})\n",
    "nodes = []\n",
    "path = []\n",
    "\n",
    "distances = [550,500,300,500,150,150,500,300,500,550]\n",
    "coords = []\n",
    "coords.append([0,0])\n",
    "\n",
    "for d in range(len(distances)):\n",
    "    coords.append([pyproj.Geod(ellps=\"WGS84\").fwd(coords[d][0],coords[d][1],90,distances[d])[0],0])\n",
    "\n",
    "for d in range(len(coords)):\n",
    "    data_node = {\"env\": [],\n",
    "                 \"name\": \"Node \" + str(d+1),\n",
    "                 \"geometry\": shapely.geometry.Point(coords[d][0], coords[d][1])}\n",
    "    node = Node(**data_node)\n",
    "    nodes.append(node)\n",
    "\n",
    "for i in range(2):\n",
    "    if i == 0:\n",
    "        for j in range(len(nodes)-1):\n",
    "            path.append([nodes[j], nodes[j+1]])\n",
    "    if i == 1:\n",
    "        for j in range(len(nodes)-1):\n",
    "            path.append([nodes[j+1], nodes[j]])\n",
    "\n",
    "FG = nx.DiGraph()\n",
    "\n",
    "positions = {}\n",
    "for node in nodes:\n",
    "    positions[node.name] = (node.geometry.x, node.geometry.y)\n",
    "    FG.add_node(node.name, geometry = node.geometry)\n",
    "\n",
    "for edge in path:\n",
    "    FG.add_edge(edge[0].name, edge[1].name, weight = 1)"
   ]
  },
  {
   "cell_type": "code",
   "execution_count": 3,
   "id": "needed-modeling",
   "metadata": {},
   "outputs": [],
   "source": [
    "simulation_start = datetime.datetime.now()\n",
    "env = simpy.Environment(initial_time = time.mktime(simulation_start.timetuple()))"
   ]
  },
  {
   "cell_type": "code",
   "execution_count": 4,
   "id": "incoming-weapon",
   "metadata": {},
   "outputs": [],
   "source": [
    "Vessel = type('Vessel', \n",
    "              (core.Identifiable, core.Movable, core.HasContainer, core.HasResource, core.Routeable, core.VesselProperties), {})\n",
    "start_point = 'Node 1' \n",
    "end_point = 'Node 11'  \n",
    "\n",
    "data_vessel_one = {\"env\": env,\n",
    "                   \"name\": \"Vessel\",\n",
    "                   \"route\": nx.dijkstra_path(FG, end_point, start_point, weight='length'),\n",
    "                   \"geometry\": FG.nodes[end_point]['geometry'],\n",
    "                   \"capacity\": 1_000,\n",
    "                   \"v\": 4,\n",
    "                   \"type\": 'CEMT - Va',\n",
    "                   \"B\": 10,\n",
    "                   \"H_e\": 7.10,\n",
    "                   \"H_f\": 5.40,\n",
    "                   \"T_e\": 1.8,\n",
    "                   \"T_f\": 3.5,\n",
    "                   \"L\": 135.0}\n",
    "\n",
    "env.FG = FG\n",
    "vessels = []\n",
    "\n",
    "vessel = Vessel(**data_vessel_one)\n",
    "vessels.append(vessel)"
   ]
  },
  {
   "cell_type": "code",
   "execution_count": 5,
   "id": "serious-cathedral",
   "metadata": {},
   "outputs": [],
   "source": [
    "# water level difference\n",
    "wlev_dif = [np.linspace(0,45000,1000),np.zeros(1000)]\n",
    "for i in range(len(wlev_dif[0])):\n",
    "    wlev_dif[1][i] = 2"
   ]
  },
  {
   "cell_type": "code",
   "execution_count": 6,
   "id": "designing-basin",
   "metadata": {},
   "outputs": [],
   "source": [
    "# lock area parameters\n",
    "waiting_area_1 = core.IsLockWaitingArea(env = env, nr_resources = 1, priority = True, \n",
    "                                        name = 'Volkeraksluizen_1', node = \"Node 2\")\n",
    "\n",
    "lineup_area_1 = core.IsLockLineUpArea(env = env, nr_resources = 1, priority = True, \n",
    "                                        name = 'Volkeraksluizen_1', node = \"Node 3\", lineup_length = 300)\n",
    "\n",
    "lock_1 = core.IsLock(env = env, nr_resources = 100, priority = True, name = 'Volkeraksluizen_1',            \n",
    "                     node_1 = \"Node 5\", node_2 = \"Node 6\", node_3 = \"Node 7\",\n",
    "                     lock_length = 300, lock_width = 24, lock_depth = 4.5, \n",
    "                     doors_open = 10 * 60, doors_close = 10 * 60, wlev_dif = wlev_dif, disch_coeff = 0.8,\n",
    "                     grav_acc = 9.81, opening_area = 4.0, opening_depth = 5.0,\n",
    "                     simulation_start = simulation_start, operating_time = 25*60)\n",
    "\n",
    "waiting_area_2 = core.IsLockWaitingArea(env = env, nr_resources = 1, priority = True, \n",
    "                                        name = \"Volkeraksluizen_1\", node = \"Node 10\")\n",
    "\n",
    "lineup_area_2 = core.IsLockLineUpArea(env = env, nr_resources = 1, priority = True, \n",
    "                                      name = \"Volkeraksluizen_1\", node = \"Node 9\", lineup_length = 300)\n",
    "\n",
    "lock_1.water_level = \"Node 5\""
   ]
  },
  {
   "cell_type": "code",
   "execution_count": 7,
   "id": "decimal-vampire",
   "metadata": {},
   "outputs": [],
   "source": [
    "#location of lock areas in graph\n",
    "FG.nodes[\"Node 6\"][\"Lock\"] = [lock_1]\n",
    "\n",
    "FG.nodes[\"Node 2\"][\"Waiting area\"] = [waiting_area_1]\n",
    "FG.nodes[\"Node 3\"][\"Line-up area\"] = [lineup_area_1]\n",
    "\n",
    "FG.nodes[\"Node 10\"][\"Waiting area\"] = [waiting_area_2]\n",
    "FG.nodes[\"Node 9\"][\"Line-up area\"] = [lineup_area_2] "
   ]
  },
  {
   "cell_type": "code",
   "execution_count": 8,
   "id": "rough-hindu",
   "metadata": {},
   "outputs": [],
   "source": [
    "for vessel in vessels:\n",
    "    vessel.env = env\n",
    "    env.process(vessel.move())"
   ]
  },
  {
   "cell_type": "code",
   "execution_count": 9,
   "id": "adolescent-truth",
   "metadata": {},
   "outputs": [
    {
     "name": "stdout",
     "output_type": "stream",
     "text": [
      "77a5f405-c1f9-11eb-ba91-a0afbd9ae9bb Node 11 Node 10\n",
      "77a5f405-c1f9-11eb-ba91-a0afbd9ae9bb Node 10 Node 9\n",
      "77a5f405-c1f9-11eb-ba91-a0afbd9ae9bb Node 10 Node 9\n"
     ]
    },
    {
     "ename": "AttributeError",
     "evalue": "'Vessel' object has no attribute 'lock_name'",
     "output_type": "error",
     "traceback": [
      "\u001b[1;31m---------------------------------------------------------------------------\u001b[0m",
      "\u001b[1;31mAttributeError\u001b[0m                            Traceback (most recent call last)",
      "\u001b[1;32mc:\\users\\flore\\opentnsim\\opentnsim\\core.py\u001b[0m in \u001b[0;36mmove\u001b[1;34m(self)\u001b[0m\n\u001b[0;32m   1554\u001b[0m                 \u001b[0mprint\u001b[0m\u001b[1;33m(\u001b[0m\u001b[0mself\u001b[0m\u001b[1;33m.\u001b[0m\u001b[0mid\u001b[0m\u001b[1;33m,\u001b[0m\u001b[0morigin\u001b[0m\u001b[1;33m,\u001b[0m\u001b[0mdestination\u001b[0m\u001b[1;33m)\u001b[0m\u001b[1;33m\u001b[0m\u001b[1;33m\u001b[0m\u001b[0m\n\u001b[1;32m-> 1555\u001b[1;33m                 \u001b[0mapproach_lineup_area\u001b[0m\u001b[1;33m(\u001b[0m\u001b[0mself\u001b[0m\u001b[1;33m,\u001b[0m\u001b[0mdestination\u001b[0m\u001b[1;33m)\u001b[0m\u001b[1;33m\u001b[0m\u001b[1;33m\u001b[0m\u001b[0m\n\u001b[0m\u001b[0;32m   1556\u001b[0m \u001b[1;33m\u001b[0m\u001b[0m\n",
      "\u001b[1;32mc:\\users\\flore\\opentnsim\\opentnsim\\core.py\u001b[0m in \u001b[0;36mapproach_lineup_area\u001b[1;34m(vessel, node_lineup_area)\u001b[0m\n\u001b[0;32m   1177\u001b[0m     \u001b[1;32mfor\u001b[0m \u001b[0mlineup_area\u001b[0m \u001b[1;32min\u001b[0m \u001b[0mlineup_areas\u001b[0m\u001b[1;33m:\u001b[0m\u001b[1;33m\u001b[0m\u001b[1;33m\u001b[0m\u001b[0m\n\u001b[1;32m-> 1178\u001b[1;33m         \u001b[1;32mif\u001b[0m \u001b[0mlineup_area\u001b[0m\u001b[1;33m.\u001b[0m\u001b[0mname\u001b[0m \u001b[1;33m!=\u001b[0m \u001b[0mvessel\u001b[0m\u001b[1;33m.\u001b[0m\u001b[0mlock_name\u001b[0m\u001b[1;33m:\u001b[0m \u001b[1;31m#vessel picks the assigned lock chain (line-up)\u001b[0m\u001b[1;33m\u001b[0m\u001b[1;33m\u001b[0m\u001b[0m\n\u001b[0m\u001b[0;32m   1179\u001b[0m             \u001b[1;32mcontinue\u001b[0m\u001b[1;33m\u001b[0m\u001b[1;33m\u001b[0m\u001b[0m\n",
      "\u001b[1;31mAttributeError\u001b[0m: 'Vessel' object has no attribute 'lock_name'",
      "\nThe above exception was the direct cause of the following exception:\n",
      "\u001b[1;31mAttributeError\u001b[0m                            Traceback (most recent call last)",
      "\u001b[1;32m<ipython-input-9-3db5cc82a724>\u001b[0m in \u001b[0;36m<module>\u001b[1;34m\u001b[0m\n\u001b[0;32m      1\u001b[0m \u001b[0menv\u001b[0m\u001b[1;33m.\u001b[0m\u001b[0mFG\u001b[0m \u001b[1;33m=\u001b[0m \u001b[0mFG\u001b[0m\u001b[1;33m\u001b[0m\u001b[1;33m\u001b[0m\u001b[0m\n\u001b[1;32m----> 2\u001b[1;33m \u001b[0menv\u001b[0m\u001b[1;33m.\u001b[0m\u001b[0mrun\u001b[0m\u001b[1;33m(\u001b[0m\u001b[1;33m)\u001b[0m\u001b[1;33m\u001b[0m\u001b[1;33m\u001b[0m\u001b[0m\n\u001b[0m",
      "\u001b[1;32m~\\anaconda3\\envs\\opentnsim\\lib\\site-packages\\simpy\\core.py\u001b[0m in \u001b[0;36mrun\u001b[1;34m(self, until)\u001b[0m\n\u001b[0;32m    252\u001b[0m         \u001b[1;32mtry\u001b[0m\u001b[1;33m:\u001b[0m\u001b[1;33m\u001b[0m\u001b[1;33m\u001b[0m\u001b[0m\n\u001b[0;32m    253\u001b[0m             \u001b[1;32mwhile\u001b[0m \u001b[1;32mTrue\u001b[0m\u001b[1;33m:\u001b[0m\u001b[1;33m\u001b[0m\u001b[1;33m\u001b[0m\u001b[0m\n\u001b[1;32m--> 254\u001b[1;33m                 \u001b[0mself\u001b[0m\u001b[1;33m.\u001b[0m\u001b[0mstep\u001b[0m\u001b[1;33m(\u001b[0m\u001b[1;33m)\u001b[0m\u001b[1;33m\u001b[0m\u001b[1;33m\u001b[0m\u001b[0m\n\u001b[0m\u001b[0;32m    255\u001b[0m         \u001b[1;32mexcept\u001b[0m \u001b[0mStopSimulation\u001b[0m \u001b[1;32mas\u001b[0m \u001b[0mexc\u001b[0m\u001b[1;33m:\u001b[0m\u001b[1;33m\u001b[0m\u001b[1;33m\u001b[0m\u001b[0m\n\u001b[0;32m    256\u001b[0m             \u001b[1;32mreturn\u001b[0m \u001b[0mexc\u001b[0m\u001b[1;33m.\u001b[0m\u001b[0margs\u001b[0m\u001b[1;33m[\u001b[0m\u001b[1;36m0\u001b[0m\u001b[1;33m]\u001b[0m  \u001b[1;31m# == until.value\u001b[0m\u001b[1;33m\u001b[0m\u001b[1;33m\u001b[0m\u001b[0m\n",
      "\u001b[1;32m~\\anaconda3\\envs\\opentnsim\\lib\\site-packages\\simpy\\core.py\u001b[0m in \u001b[0;36mstep\u001b[1;34m(self)\u001b[0m\n\u001b[0;32m    204\u001b[0m             \u001b[0mexc\u001b[0m \u001b[1;33m=\u001b[0m \u001b[0mtype\u001b[0m\u001b[1;33m(\u001b[0m\u001b[0mevent\u001b[0m\u001b[1;33m.\u001b[0m\u001b[0m_value\u001b[0m\u001b[1;33m)\u001b[0m\u001b[1;33m(\u001b[0m\u001b[1;33m*\u001b[0m\u001b[0mevent\u001b[0m\u001b[1;33m.\u001b[0m\u001b[0m_value\u001b[0m\u001b[1;33m.\u001b[0m\u001b[0margs\u001b[0m\u001b[1;33m)\u001b[0m\u001b[1;33m\u001b[0m\u001b[1;33m\u001b[0m\u001b[0m\n\u001b[0;32m    205\u001b[0m             \u001b[0mexc\u001b[0m\u001b[1;33m.\u001b[0m\u001b[0m__cause__\u001b[0m \u001b[1;33m=\u001b[0m \u001b[0mevent\u001b[0m\u001b[1;33m.\u001b[0m\u001b[0m_value\u001b[0m\u001b[1;33m\u001b[0m\u001b[1;33m\u001b[0m\u001b[0m\n\u001b[1;32m--> 206\u001b[1;33m             \u001b[1;32mraise\u001b[0m \u001b[0mexc\u001b[0m\u001b[1;33m\u001b[0m\u001b[1;33m\u001b[0m\u001b[0m\n\u001b[0m\u001b[0;32m    207\u001b[0m \u001b[1;33m\u001b[0m\u001b[0m\n\u001b[0;32m    208\u001b[0m     def run(\n",
      "\u001b[1;31mAttributeError\u001b[0m: 'Vessel' object has no attribute 'lock_name'"
     ]
    }
   ],
   "source": [
    "env.FG = FG\n",
    "env.run()"
   ]
  },
  {
   "cell_type": "code",
   "execution_count": null,
   "id": "unlimited-breach",
   "metadata": {},
   "outputs": [],
   "source": []
  }
 ],
 "metadata": {
  "kernelspec": {
   "display_name": "Python 3",
   "language": "python",
   "name": "python3"
  },
  "language_info": {
   "codemirror_mode": {
    "name": "ipython",
    "version": 3
   },
   "file_extension": ".py",
   "mimetype": "text/x-python",
   "name": "python",
   "nbconvert_exporter": "python",
   "pygments_lexer": "ipython3",
   "version": "3.9.2"
  }
 },
 "nbformat": 4,
 "nbformat_minor": 5
}
