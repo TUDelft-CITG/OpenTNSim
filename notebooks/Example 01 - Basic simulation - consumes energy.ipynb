{
 "cells": [
  {
   "cell_type": "markdown",
   "metadata": {},
   "source": [
    "## Example 01 - Basic simulation - consumes energy\n",
    "In this notebook, we are going to make a simulation which forces a vessel to move over a certain 1D waterway network. It tries to give one an understanding of the most basic core functions of OpenTNSim and teach one the requirements to set-up a basic OpenTNSim model run. \n",
    "\n",
    "We add some properties to the graph (depth) and the vessel (VesselProperties, HasContainer, ConsumesEnergy) in order to calculate resistance, required power, "
   ]
  },
  {
   "cell_type": "markdown",
   "metadata": {},
   "source": [
    "### Imports\n",
    "Import the required libraries"
   ]
  },
  {
   "cell_type": "code",
   "execution_count": 1,
   "metadata": {},
   "outputs": [],
   "source": [
    "# package(s) related to time, space and id\n",
    "import datetime, time\n",
    "import platform\n",
    "\n",
    "# you need these dependencies (you can get these from anaconda)\n",
    "# package(s) related to the simulation\n",
    "import simpy\n",
    "import pandas as pd\n",
    "\n",
    "# spatial libraries \n",
    "import pyproj\n",
    "import shapely.geometry\n",
    "from simplekml import Kml, Style\n",
    "\n",
    "# package(s) for data handling\n",
    "import numpy as np\n",
    "import matplotlib.pyplot as plt\n",
    "\n",
    "# OpenTNSim\n",
    "import opentnsim\n",
    "\n",
    "# Used for mathematical functions\n",
    "import math             \n",
    "\n",
    "# Used for making the graph to visualize our problem\n",
    "import networkx as nx   "
   ]
  },
  {
   "cell_type": "markdown",
   "metadata": {},
   "source": [
    "### Create graph\n",
    "We first need to create a 1D network (a graph) along which the vessel will move. A graph contains edges (blue dots in plot below) and vertices (black lines in plot below). For this example, we will construct a network consisting of 4 nodes in a straight line. Since we would like to have two-way traffic, we add two edges between each pair of nodes: one from left to right, and another the other way around (however, we could easily apply one-way traffic as well by remove one of the two edges). Consequently, we arrive at a total of 4 nodes, and 6 edges.\n",
    "\n",
    "Due to the nature of discrete modelling in which the time step is dependent on the activities (in this example: forcing a ship to move from node to node from its origin to its destination), it is important to add OpenTNSim mix-ins to the nodes in such a way we could identify the node (mix-in Identifiable, which imports a name and imports/creates an ID), and to locate the node (mix-in Locatable, which gives the node a geometry)."
   ]
  },
  {
   "cell_type": "code",
   "execution_count": 2,
   "metadata": {},
   "outputs": [
    {
     "data": {
      "image/png": "[encoded data removed]",
      "text/plain": [
       "<Figure size 432x288 with 1 Axes>"
      ]
     },
     "metadata": {},
     "output_type": "display_data"
    }
   ],
   "source": [
    "FG = nx.DiGraph()\n",
    "nodes = []\n",
    "path = []\n",
    "\n",
    "Node = type('Site', (opentnsim.core.Identifiable, opentnsim.core.Locatable), {})\n",
    "\n",
    "data_node_1 = {\"name\": \"Node 1\",\n",
    "               \"geometry\": shapely.geometry.Point(0, 0)}\n",
    "data_node_2 = {\"name\": \"Node 2\",\n",
    "               \"geometry\": shapely.geometry.Point(0.8983, 0)}  # 0.8983 degree =100km\n",
    "data_node_3 = {\"name\": \"Node 3\",\n",
    "               \"geometry\": shapely.geometry.Point(1.7966, 0)}   # 1.7966 degree =200km\n",
    "data_node_4 = {\"name\": \"Node 4\",\n",
    "               \"geometry\": shapely.geometry.Point(2.6949, 0)}    # 2.6949 degree =300km\n",
    "\n",
    "node_1 = Node(**data_node_1)\n",
    "node_2 = Node(**data_node_2)\n",
    "node_3 = Node(**data_node_3)\n",
    "node_4 = Node(**data_node_4)\n",
    "\n",
    "nodes = [node_1, node_2, node_3, node_4]\n",
    "\n",
    "positions = {}\n",
    "for node in nodes:\n",
    "    positions[node.name] = (node.geometry.x, node.geometry.y)\n",
    "    FG.add_node(node.name, geometry = node.geometry)\n",
    "\n",
    "path = [[node_1, node_2], # From node 1 to node 2\n",
    "        [node_2, node_3], # From node 2 to node 3\n",
    "        [node_3, node_4], # From node 3 to node 4\n",
    "        [node_4, node_3], # From node 4 to node 3\n",
    "        [node_3, node_2], # From node 3 to node 2\n",
    "        [node_2, node_1]] # From node 2 to node 1\n",
    "\n",
    "for edge in path:\n",
    "    # For the energy consumption calculation we add info to the graph. We need depth info for resistance.\n",
    "    # NB: the CalculateEnergy routine expects the graph to have \"Info\" that contains \"GeneralDepth\" \n",
    "    #     this may not be very generic!\n",
    "    FG.add_edge(edge[0].name, edge[1].name, weight = 1, Info = {\"GeneralDepth\": 4})\n",
    "    \n",
    "# env.FG = FG\n",
    "nx.draw(FG, positions)\n",
    "plt.show()"
   ]
  },
  {
   "cell_type": "code",
   "execution_count": 3,
   "metadata": {},
   "outputs": [
    {
     "name": "stdout",
     "output_type": "stream",
     "text": [
      "General depth for edge ('Node 1', 'Node 2') is 4\n",
      "General depth for edge ('Node 2', 'Node 3') is 4\n",
      "General depth for edge ('Node 2', 'Node 1') is 4\n",
      "General depth for edge ('Node 3', 'Node 4') is 4\n",
      "General depth for edge ('Node 3', 'Node 2') is 4\n",
      "General depth for edge ('Node 4', 'Node 3') is 4\n"
     ]
    }
   ],
   "source": [
    "# This cell just shows that now a depth of 10 m is added to the edges. \n",
    "# You can use this to vary depths, e.g. make the middle edge shallower. Note that edges are bi-directional \n",
    "for edge in FG.edges:\n",
    "    print('General depth for edge {} is {}'.format(edge, FG.get_edge_data(edge[0], edge[1])[\"Info\"][\"GeneralDepth\"]))"
   ]
  },
  {
   "cell_type": "markdown",
   "metadata": {},
   "source": [
    "### Create vessel - add VesselProperties and ConsumesEnergy mixins\n",
    "The following mix-ins are required for each vessel in our problem: Identifiable (gives the vessel a name and a random ID), Movable (gives that the object (*vessel*) can move with a fixed speed and logs this activity, it requires input for the following mix-ins: Locatable, Routeable, and Log), and Routable (gives the object a route). We now modify our original vessel from the basic example and include vessel properties (like width, length, etc.) and a mixin that is needed to calculate resistance and energy consumption.  "
   ]
  },
  {
   "cell_type": "code",
   "execution_count": 4,
   "metadata": {},
   "outputs": [],
   "source": [
    "# Make your preferred class out of available mix-ins.\n",
    "TransportResource = type('Vessel', \n",
    "                         (opentnsim.core.Identifiable, \n",
    "                          opentnsim.core.Movable, \n",
    "                          opentnsim.core.Routeable,\n",
    "                          opentnsim.core.VesselProperties,     # needed to add vessel properties\n",
    "                          opentnsim.core.HasContainer,         # needed to calculate filling degree for draught\n",
    "                          opentnsim.core.ConsumesEnergy), {})  # needed to calculate resistances            "
   ]
  },
  {
   "cell_type": "code",
   "execution_count": 5,
   "metadata": {},
   "outputs": [],
   "source": [
    "# Create a dict with all important settings\n",
    "data_vessel = {\"env\": None,\n",
    "               \"name\": None,\n",
    "               \"route\": None,\n",
    "               \"geometry\": None,\n",
    "               \"v\": 4.16,  # m/s\n",
    "               \"type\": 'Dortmund-Eems (L <= 74 m)', # <-- note that inputs from hereon are due to the added mixins!\n",
    "               \"B\": 11.4, \n",
    "               \"L\": 110,\n",
    "               \"capacity\": 2500,   # maximum designed payload\n",
    "               \"level\": 2500,     # actual payload\n",
    "               \"H_e\": None, \n",
    "               \"H_f\": None, \n",
    "               \"T_e\": 1.4,       # minimum operational draft\n",
    "               \"T_f\": 3.5,       # maxmum designed draft\n",
    "               \"P_installed\": 1750.0, \n",
    "               \"L_w\": 3.0, \n",
    "               \"C_b\": 0.85,\n",
    "               \"c_year\":1990,\n",
    "               \"current_year\":None\n",
    "              }               \n",
    "\n",
    "vessel = TransportResource(**data_vessel)"
   ]
  },
  {
   "cell_type": "markdown",
   "metadata": {},
   "source": [
    "### Define paths\n",
    "We are going to create a simulation in which a vessel moves from *Node 1* to *Node 4*. Therefore, we need to create a vessel to which we will need to append this paths. Therefore, first let's create the path."
   ]
  },
  {
   "cell_type": "code",
   "execution_count": 6,
   "metadata": {},
   "outputs": [],
   "source": [
    "path = nx.dijkstra_path(FG, node_1.name, node_4.name)"
   ]
  },
  {
   "cell_type": "markdown",
   "metadata": {},
   "source": [
    "### Run simulation\n",
    "Now we can define the run. First, we make an environment and add the graph to the environment. Then we add one vessel, to which we will append the environment and the above route. Lastly, we give the vessel the process of moving from the origin to the destination of the defined path and subsequently run the model."
   ]
  },
  {
   "cell_type": "code",
   "execution_count": 7,
   "metadata": {},
   "outputs": [],
   "source": [
    "# Start simpy environment\n",
    "simulation_start = datetime.datetime.now()\n",
    "env = simpy.Environment(initial_time = time.mktime(simulation_start.timetuple()))\n",
    "env.epoch = time.mktime(simulation_start.timetuple())\n",
    "\n",
    "# Add graph to environment\n",
    "env.FG = FG\n",
    "\n",
    "# Add environment and path to the vessel\n",
    "vessel.env = env                                        #the created environment\n",
    "vessel.name = 'Vessel No.1'                     \n",
    "vessel.route = path                                     #the route (the sequence of nodes, as stored as the second column in the path)\n",
    "vessel.geometry = env.FG.nodes[path[0]]['geometry']     #a shapely.geometry.Point(lon,lat) (here taken as the starting node of the vessel)\n",
    "\n",
    "# Start the simulation\n",
    "env.process(vessel.move())\n",
    "env.run()"
   ]
  },
  {
   "cell_type": "markdown",
   "metadata": {},
   "source": [
    "### Output\n",
    "We can now analyse the output of the simulation, which consists of the log-file of the vessel. We got this log-file as we added the log mix-in of OpenTNSim. This log-file keeps track of the moving activities of the vessel, and at which time and location they occur. The log-file could also keep track of an additional value, such as waiting times, which are not included here in this simulation.\n",
    "\n",
    "As you can see, the vessel moves from its origin (*Node 1*) to its destination (*Node 4*) by passing *Node 2* and *Node 3* respectively. The time is calculated by the greater circle distance between the nodes, divided by the speed of the vessel.\n",
    "\n",
    "Using this log-file, we could for example plot a time-distance graph."
   ]
  },
  {
   "cell_type": "code",
   "execution_count": 8,
   "metadata": {},
   "outputs": [
    {
     "data": {
      "text/html": [
       "<div>\n",
       "<style scoped>\n",
       "    .dataframe tbody tr th:only-of-type {\n",
       "        vertical-align: middle;\n",
       "    }\n",
       "\n",
       "    .dataframe tbody tr th {\n",
       "        vertical-align: top;\n",
       "    }\n",
       "\n",
       "    .dataframe thead th {\n",
       "        text-align: right;\n",
       "    }\n",
       "</style>\n",
       "<table border=\"1\" class=\"dataframe\">\n",
       "  <thead>\n",
       "    <tr style=\"text-align: right;\">\n",
       "      <th></th>\n",
       "      <th>Message</th>\n",
       "      <th>Timestamp</th>\n",
       "      <th>Value</th>\n",
       "      <th>Geometry</th>\n",
       "    </tr>\n",
       "  </thead>\n",
       "  <tbody>\n",
       "    <tr>\n",
       "      <th>0</th>\n",
       "      <td>Sailing from node Node 1 to node Node 2 start</td>\n",
       "      <td>2021-05-26 14:27:03.000000</td>\n",
       "      <td>0</td>\n",
       "      <td>POINT (0 0)</td>\n",
       "    </tr>\n",
       "    <tr>\n",
       "      <th>1</th>\n",
       "      <td>Sailing from node Node 1 to node Node 2 stop</td>\n",
       "      <td>2021-05-26 21:07:41.052543</td>\n",
       "      <td>0</td>\n",
       "      <td>POINT (0.8983 0)</td>\n",
       "    </tr>\n",
       "    <tr>\n",
       "      <th>2</th>\n",
       "      <td>Sailing from node Node 2 to node Node 3 start</td>\n",
       "      <td>2021-05-26 21:07:41.052543</td>\n",
       "      <td>0</td>\n",
       "      <td>POINT (0.8983 0)</td>\n",
       "    </tr>\n",
       "    <tr>\n",
       "      <th>3</th>\n",
       "      <td>Sailing from node Node 2 to node Node 3 stop</td>\n",
       "      <td>2021-05-27 03:48:19.105086</td>\n",
       "      <td>0</td>\n",
       "      <td>POINT (1.7966 0)</td>\n",
       "    </tr>\n",
       "    <tr>\n",
       "      <th>4</th>\n",
       "      <td>Sailing from node Node 3 to node Node 4 start</td>\n",
       "      <td>2021-05-27 03:48:19.105086</td>\n",
       "      <td>0</td>\n",
       "      <td>POINT (1.7966 0)</td>\n",
       "    </tr>\n",
       "    <tr>\n",
       "      <th>5</th>\n",
       "      <td>Sailing from node Node 3 to node Node 4 stop</td>\n",
       "      <td>2021-05-27 10:28:57.157629</td>\n",
       "      <td>0</td>\n",
       "      <td>POINT (2.6949 0)</td>\n",
       "    </tr>\n",
       "  </tbody>\n",
       "</table>\n",
       "</div>"
      ],
      "text/plain": [
       "                                         Message                  Timestamp  \\\n",
       "0  Sailing from node Node 1 to node Node 2 start 2021-05-26 14:27:03.000000   \n",
       "1   Sailing from node Node 1 to node Node 2 stop 2021-05-26 21:07:41.052543   \n",
       "2  Sailing from node Node 2 to node Node 3 start 2021-05-26 21:07:41.052543   \n",
       "3   Sailing from node Node 2 to node Node 3 stop 2021-05-27 03:48:19.105086   \n",
       "4  Sailing from node Node 3 to node Node 4 start 2021-05-27 03:48:19.105086   \n",
       "5   Sailing from node Node 3 to node Node 4 stop 2021-05-27 10:28:57.157629   \n",
       "\n",
       "   Value          Geometry  \n",
       "0      0       POINT (0 0)  \n",
       "1      0  POINT (0.8983 0)  \n",
       "2      0  POINT (0.8983 0)  \n",
       "3      0  POINT (1.7966 0)  \n",
       "4      0  POINT (1.7966 0)  \n",
       "5      0  POINT (2.6949 0)  "
      ]
     },
     "execution_count": 8,
     "metadata": {},
     "output_type": "execute_result"
    }
   ],
   "source": [
    "df = pd.DataFrame.from_dict(vessel.log)\n",
    "df"
   ]
  },
  {
   "cell_type": "markdown",
   "metadata": {},
   "source": [
    "### Post processing: calculate energy consumptions and emissions"
   ]
  },
  {
   "cell_type": "code",
   "execution_count": 9,
   "metadata": {},
   "outputs": [],
   "source": [
    "# create an EnergyCalculation object (graph FG and vessel are needed as input)\n",
    "energycalculation = opentnsim.energy.EnergyCalculation(FG, vessel)"
   ]
  },
  {
   "cell_type": "code",
   "execution_count": 10,
   "metadata": {},
   "outputs": [
    {
     "name": "stdout",
     "output_type": "stream",
     "text": [
      "delta_t: 24038.0525 s\n",
      "distance: 99998.2986 m\n",
      "velocity: 4.1600 m/s\n",
      "The total power required is 1610.4458859080983 kW\n",
      "The partial load is 0.9202547919474847 kW\n",
      "The construction year of the engine is 1990\n",
      "The general emission factor of CO2 is 698 g/kWh\n",
      "The general emission factor of PM10 is 0.4 g/kWh\n",
      "The general emission factor CO2 is 10.1 g/kWh\n",
      "The total power required is 1610.4458859080983 kW\n",
      "The partial load is 0.9202547919474847 kW\n",
      "Correction factor of CO2 is 1.014050958389497\n",
      "Correction factor of PM10 is 0.97\n",
      "Correction factor of NOX is 0.97\n",
      "The total emission factor of CO2 is 707.8075689558689 g/kWh\n",
      "The total emission factor of PM10 is 0.388 g/kWh\n",
      "The total emission factor CO2 is 9.796999999999999 g/kWh\n",
      "delta_t: 24038.0525 s\n",
      "distance: 99998.2986 m\n",
      "velocity: 4.1600 m/s\n",
      "The total power required is 1610.4458859080983 kW\n",
      "The partial load is 0.9202547919474847 kW\n",
      "The construction year of the engine is 1990\n",
      "The general emission factor of CO2 is 698 g/kWh\n",
      "The general emission factor of PM10 is 0.4 g/kWh\n",
      "The general emission factor CO2 is 10.1 g/kWh\n",
      "The total power required is 1610.4458859080983 kW\n",
      "The partial load is 0.9202547919474847 kW\n",
      "Correction factor of CO2 is 1.014050958389497\n",
      "Correction factor of PM10 is 0.97\n",
      "Correction factor of NOX is 0.97\n",
      "The total emission factor of CO2 is 707.8075689558689 g/kWh\n",
      "The total emission factor of PM10 is 0.388 g/kWh\n",
      "The total emission factor CO2 is 9.796999999999999 g/kWh\n",
      "delta_t: 24038.0525 s\n",
      "distance: 99998.2986 m\n",
      "velocity: 4.1600 m/s\n",
      "The total power required is 1610.4458859080758 kW\n",
      "The partial load is 0.9202547919474718 kW\n",
      "The construction year of the engine is 1990\n",
      "The general emission factor of CO2 is 698 g/kWh\n",
      "The general emission factor of PM10 is 0.4 g/kWh\n",
      "The general emission factor CO2 is 10.1 g/kWh\n",
      "The total power required is 1610.4458859080758 kW\n",
      "The partial load is 0.9202547919474718 kW\n",
      "Correction factor of CO2 is 1.0140509583894943\n",
      "Correction factor of PM10 is 0.97\n",
      "Correction factor of NOX is 0.97\n",
      "The total emission factor of CO2 is 707.807568955867 g/kWh\n",
      "The total emission factor of PM10 is 0.388 g/kWh\n",
      "The total emission factor CO2 is 9.796999999999999 g/kWh\n"
     ]
    }
   ],
   "source": [
    "# we can now work out in hindsight what resistance, power, energy and emissions were generated\n",
    "energycalculation.calculate_energy_consumption()\n",
    "\n",
    "# ToDo:\n",
    "# - perhaps add to the printstatements which edge is sailed \n",
    "# - may be the print statements can be cleaned up (fewer significant digits)\n",
    "# - possibly even make it optional to print this, because the next cells show dataframes with the output\n",
    "# - etc"
   ]
  },
  {
   "cell_type": "code",
   "execution_count": 11,
   "metadata": {},
   "outputs": [
    {
     "data": {
      "text/html": [
       "<div>\n",
       "<style scoped>\n",
       "    .dataframe tbody tr th:only-of-type {\n",
       "        vertical-align: middle;\n",
       "    }\n",
       "\n",
       "    .dataframe tbody tr th {\n",
       "        vertical-align: top;\n",
       "    }\n",
       "\n",
       "    .dataframe thead th {\n",
       "        text-align: right;\n",
       "    }\n",
       "</style>\n",
       "<table border=\"1\" class=\"dataframe\">\n",
       "  <thead>\n",
       "    <tr style=\"text-align: right;\">\n",
       "      <th></th>\n",
       "      <th>time_start</th>\n",
       "      <th>time_stop</th>\n",
       "      <th>edge_start</th>\n",
       "      <th>edge_stop</th>\n",
       "      <th>total_energy</th>\n",
       "      <th>total_emission_CO2</th>\n",
       "      <th>total_emission_PM10</th>\n",
       "      <th>total_emission_NOX</th>\n",
       "      <th>stationary</th>\n",
       "      <th>water depth</th>\n",
       "      <th>distance</th>\n",
       "      <th>delta_t</th>\n",
       "      <th>CO2_g_km</th>\n",
       "      <th>PM10_g_km</th>\n",
       "      <th>NOX_g_km</th>\n",
       "      <th>diesel_kg_km</th>\n",
       "    </tr>\n",
       "  </thead>\n",
       "  <tbody>\n",
       "    <tr>\n",
       "      <th>0</th>\n",
       "      <td>2021-05-26 14:27:03.000000</td>\n",
       "      <td>2021-05-26 21:07:41.052543</td>\n",
       "      <td>POINT (0 0)</td>\n",
       "      <td>POINT (0.8983 0)</td>\n",
       "      <td>10753.328562</td>\n",
       "      <td>7.611287e+06</td>\n",
       "      <td>4172.291482</td>\n",
       "      <td>105350.359922</td>\n",
       "      <td>0</td>\n",
       "      <td>4</td>\n",
       "      <td>99998.29858</td>\n",
       "      <td>24038.052543</td>\n",
       "      <td>76114.168498</td>\n",
       "      <td>41.723625</td>\n",
       "      <td>1053.521524</td>\n",
       "      <td>24.195401</td>\n",
       "    </tr>\n",
       "    <tr>\n",
       "      <th>1</th>\n",
       "      <td>2021-05-26 21:07:41.052543</td>\n",
       "      <td>2021-05-27 03:48:19.105086</td>\n",
       "      <td>POINT (0.8983 0)</td>\n",
       "      <td>POINT (1.7966 0)</td>\n",
       "      <td>10753.328562</td>\n",
       "      <td>7.611287e+06</td>\n",
       "      <td>4172.291482</td>\n",
       "      <td>105350.359922</td>\n",
       "      <td>0</td>\n",
       "      <td>4</td>\n",
       "      <td>99998.29858</td>\n",
       "      <td>24038.052543</td>\n",
       "      <td>76114.168498</td>\n",
       "      <td>41.723625</td>\n",
       "      <td>1053.521524</td>\n",
       "      <td>24.195401</td>\n",
       "    </tr>\n",
       "    <tr>\n",
       "      <th>2</th>\n",
       "      <td>2021-05-27 03:48:19.105086</td>\n",
       "      <td>2021-05-27 10:28:57.157629</td>\n",
       "      <td>POINT (1.7966 0)</td>\n",
       "      <td>POINT (2.6949 0)</td>\n",
       "      <td>10753.328562</td>\n",
       "      <td>7.611287e+06</td>\n",
       "      <td>4172.291482</td>\n",
       "      <td>105350.359922</td>\n",
       "      <td>0</td>\n",
       "      <td>4</td>\n",
       "      <td>99998.29858</td>\n",
       "      <td>24038.052543</td>\n",
       "      <td>76114.168498</td>\n",
       "      <td>41.723625</td>\n",
       "      <td>1053.521524</td>\n",
       "      <td>24.195401</td>\n",
       "    </tr>\n",
       "  </tbody>\n",
       "</table>\n",
       "</div>"
      ],
      "text/plain": [
       "                  time_start                  time_stop        edge_start  \\\n",
       "0 2021-05-26 14:27:03.000000 2021-05-26 21:07:41.052543       POINT (0 0)   \n",
       "1 2021-05-26 21:07:41.052543 2021-05-27 03:48:19.105086  POINT (0.8983 0)   \n",
       "2 2021-05-27 03:48:19.105086 2021-05-27 10:28:57.157629  POINT (1.7966 0)   \n",
       "\n",
       "          edge_stop  total_energy  total_emission_CO2  total_emission_PM10  \\\n",
       "0  POINT (0.8983 0)  10753.328562        7.611287e+06          4172.291482   \n",
       "1  POINT (1.7966 0)  10753.328562        7.611287e+06          4172.291482   \n",
       "2  POINT (2.6949 0)  10753.328562        7.611287e+06          4172.291482   \n",
       "\n",
       "   total_emission_NOX  stationary  water depth     distance       delta_t  \\\n",
       "0       105350.359922           0            4  99998.29858  24038.052543   \n",
       "1       105350.359922           0            4  99998.29858  24038.052543   \n",
       "2       105350.359922           0            4  99998.29858  24038.052543   \n",
       "\n",
       "       CO2_g_km  PM10_g_km     NOX_g_km  diesel_kg_km  \n",
       "0  76114.168498  41.723625  1053.521524     24.195401  \n",
       "1  76114.168498  41.723625  1053.521524     24.195401  \n",
       "2  76114.168498  41.723625  1053.521524     24.195401  "
      ]
     },
     "execution_count": 11,
     "metadata": {},
     "output_type": "execute_result"
    }
   ],
   "source": [
    "df = pd.DataFrame.from_dict(energycalculation.energy_use)\n",
    "df['CO2_g_km'] = df['total_emission_CO2'] / df['distance']*1000\n",
    "df['PM10_g_km'] = df['total_emission_PM10'] / df['distance']*1000\n",
    "df['NOX_g_km'] = df['total_emission_NOX'] / df['distance']*1000\n",
    "df['diesel_kg_km'] = df['total_energy'] *0.225/ df['distance']*1000 \n",
    "df.head()"
   ]
  },
  {
   "cell_type": "code",
   "execution_count": 12,
   "metadata": {},
   "outputs": [],
   "source": [
    "# amount=30000 #ton\n",
    "# payload=500 #ton\n",
    "# distance_oneTrip=600 #km\n",
    "# # Unload_return:diesel:25.5kg/km CO2:79221g/km, PM10: 44 g/km,NOx:1111 g/km \n",
    "# distance_total=amount/payload*distance_oneTrip  #km total distance\n",
    "# CO2_total=0.5*distance_total*(df['CO2_g_km']+79221)/1000  #Kg\n",
    "# PM10_total=0.5*distance_total*(df['PM10_g_km']+44)/1000  #Kg\n",
    "# NOx_total=0.5*distance_total*(df['NOX_g_km']+1111)/1000  #Kg\n",
    "# diesel_total=0.5*distance_total*(df['diesel_kg_km']+25.5)    # kg in total trips\n",
    "\n",
    "# print('the toatal CO2 EMISSION of',payload,'payload strategy is',CO2_total)\n",
    "# print('the toatal PM10 EMISSION of',payload,'payload strategy is',PM10_total)\n",
    "# print('the toatal NOx EMISSION of',payload,'payload strategy is',NOx_total)\n",
    "# print('the toatal diesel consumption of',payload,'payload strategy is',diesel_total)\n",
    "# print('the toatal distance of',payload,'payload strategy is',distance_total)\n"
   ]
  },
  {
   "cell_type": "code",
   "execution_count": 13,
   "metadata": {},
   "outputs": [
    {
     "name": "stdout",
     "output_type": "stream",
     "text": [
      "the toatal diesel consumption  0    7258.620279\n",
      "1    7258.620279\n",
      "2    7258.620279\n",
      "Name: diesel_kg_km, dtype: float64\n",
      "the toatal CO2 EMISSION  0    22834.25055\n",
      "1    22834.25055\n",
      "2    22834.25055\n",
      "Name: CO2_g_km, dtype: float64\n",
      "the toatal PM10 EMISSION  0    12517.087414\n",
      "1    12517.087414\n",
      "2    12517.087414\n",
      "Name: PM10_g_km, dtype: float64\n",
      "the toatal NOx EMISSION 0    316.056457\n",
      "1    316.056457\n",
      "2    316.056457\n",
      "Name: NOX_g_km, dtype: float64\n"
     ]
    }
   ],
   "source": [
    "diesel_total=300*df['diesel_kg_km'] #kg\n",
    "CO2_total=300*df['CO2_g_km']/1000  #kg\n",
    "PM10_total=300*df['PM10_g_km']  #g\n",
    "NOx_total=300*df['NOX_g_km']/1000    #kg\n",
    "\n",
    "print('the toatal diesel consumption ',diesel_total)\n",
    "print('the toatal CO2 EMISSION ',CO2_total)\n",
    "print('the toatal PM10 EMISSION ',PM10_total)\n",
    "print('the toatal NOx EMISSION',NOx_total)"
   ]
  },
  {
   "cell_type": "code",
   "execution_count": null,
   "metadata": {},
   "outputs": [],
   "source": []
  }
 ],
 "metadata": {
  "kernelspec": {
   "display_name": "Python 3",
   "language": "python",
   "name": "python3"
  },
  "language_info": {
   "codemirror_mode": {
    "name": "ipython",
    "version": 3
   },
   "file_extension": ".py",
   "mimetype": "text/x-python",
   "name": "python",
   "nbconvert_exporter": "python",
   "pygments_lexer": "ipython3",
   "version": "3.9.1"
  }
 },
 "nbformat": 4,
 "nbformat_minor": 5
}
