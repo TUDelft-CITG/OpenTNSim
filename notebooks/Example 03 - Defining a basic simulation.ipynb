{
 "cells": [
  {
   "cell_type": "markdown",
   "metadata": {},
   "source": [
    "## Comparing alternative routes\n",
    "In this notebook, we show how to setup a simple transport network and compare different routes to the same destination\n",
    "\n",
    "We take the following steps:\n",
    "\n",
    "1. [Imports](#1.-Imports)\n",
    "2. [Create graph](#2.-Create-graph)\n",
    "3. [Create vessel](#3.-Create-vessel)\n",
    "4. [Run simulation(s)](#4.-Run-simulation(s))\n",
    "5. [Inspect output](#5.-Inspect-output)"
   ]
  },
  {
   "cell_type": "markdown",
   "metadata": {},
   "source": [
    "### 1. Imports\n",
    "We start with importing required libraries"
   ]
  },
  {
   "cell_type": "code",
   "execution_count": null,
   "metadata": {},
   "outputs": [],
   "source": [
    "# package(s) used for creating and geo-locating the graph\n",
    "import networkx as nx  \n",
    "import shapely.geometry\n",
    "import pyproj\n",
    "\n",
    "# package(s) related to the simulation (creating the vessel, running the simulation)\n",
    "import datetime, time\n",
    "import simpy\n",
    "import opentnsim\n",
    "\n",
    "# package(s) needed for inspecting the output\n",
    "import pandas as pd\n",
    "\n",
    "# package(s) needed for plotting\n",
    "import matplotlib.pyplot as plt\n",
    "\n",
    "print('This notebook is executed with OpenTNSim version {}'.format(opentnsim.__version__))"
   ]
  },
  {
   "cell_type": "code",
   "execution_count": null,
   "metadata": {},
   "outputs": [],
   "source": [
    "# # package(s) related to time, space and id\n",
    "# import datetime, time\n",
    "# import platform\n",
    "\n",
    "# # you need these dependencies (you can get these from anaconda)\n",
    "# # package(s) related to the simulation\n",
    "# import simpy\n",
    "\n",
    "# # spatial libraries \n",
    "# import pyproj\n",
    "# import shapely.geometry\n",
    "# from simplekml import Kml, Style\n",
    "\n",
    "# # package(s) for data handling\n",
    "# import numpy as np\n",
    "# import matplotlib.pyplot as plt\n",
    "\n",
    "# # OpenTNSIM\n",
    "# import opentnsim.core as core\n",
    "\n",
    "# # Used for mathematical functions\n",
    "# import math             \n",
    "\n",
    "# # Used for making the graph to visualize our problem\n",
    "# import networkx as nx  "
   ]
  },
  {
   "cell_type": "markdown",
   "metadata": {},
   "source": [
    "### 2. Create graph\n",
    "OpenTNSim works with mix-in classes to allow for flexibility in defining nodes. "
   ]
  },
  {
   "cell_type": "code",
   "execution_count": null,
   "metadata": {},
   "outputs": [],
   "source": [
    "# specify a number of coordinates along your route (coords are specified in world coordinates: lon, lat)\n",
    "coords = [\n",
    "    [0,0],\n",
    "    [0,0.1], \n",
    "    [0.1,0.1], \n",
    "    [0.1,0]] "
   ]
  },
  {
   "cell_type": "code",
   "execution_count": null,
   "metadata": {},
   "outputs": [],
   "source": [
    "# make your preferred Site class out of available mix-ins.\n",
    "Node = type('Site', (opentnsim.core.Identifiable, opentnsim.core.Locatable), {})\n",
    "\n",
    "# create a list of nodes\n",
    "nodes = []\n",
    "for index, coord in enumerate(coords):\n",
    "    data_node = {\"name\": str(index), \"geometry\": shapely.geometry.Point(coord[0], coord[1])}\n",
    "    nodes.append(Node(**data_node))"
   ]
  },
  {
   "cell_type": "code",
   "execution_count": null,
   "metadata": {},
   "outputs": [],
   "source": [
    "# create a graph based on coords and depths\n",
    "FG = nx.DiGraph()\n",
    "\n",
    "# add nodes\n",
    "for node in nodes:\n",
    "    FG.add_node(node.name, geometry = node.geometry)\n",
    "\n",
    "# add edges\n",
    "path = [\n",
    "        [nodes[0], nodes[3]], # From node 0 to node 3 - so from node 0 to node 3 is one-way traffic   \n",
    "        [nodes[0], nodes[1]], # From node 0 to node 1 - all other edges are two-way traffic\n",
    "        [nodes[1], nodes[0]], # From node 1 to node 0\n",
    "        [nodes[1], nodes[2]], # From node 1 to node 2\n",
    "        [nodes[2], nodes[1]], # From node 2 to node 1\n",
    "        [nodes[2], nodes[3]], # From node 2 to node 3\n",
    "        [nodes[3], nodes[2]], # From node 3 to node 2\n",
    "       ] \n",
    "\n",
    "for edge in path:\n",
    "    FG.add_edge(edge[0].name, edge[1].name, weight = 1)"
   ]
  },
  {
   "cell_type": "code",
   "execution_count": null,
   "metadata": {},
   "outputs": [],
   "source": [
    "# create a positions dict for the purpose of plotting\n",
    "positions = {}\n",
    "for node in FG.nodes:\n",
    "    positions[node] = (FG.nodes[node]['geometry'].x, FG.nodes[node]['geometry'].y)"
   ]
  },
  {
   "cell_type": "code",
   "execution_count": null,
   "metadata": {},
   "outputs": [],
   "source": [
    "# collect node labels\n",
    "labels = {}\n",
    "for node in FG.nodes:\n",
    "    labels[node] = node"
   ]
  },
  {
   "cell_type": "code",
   "execution_count": null,
   "metadata": {},
   "outputs": [],
   "source": [
    "# draw edges, nodes and labels.\n",
    "nx.draw_networkx_edges(FG,  pos=positions, width=3, edge_color=\"red\", alpha=1, arrowsize=20)\n",
    "nx.draw_networkx_nodes(FG,  pos=positions, node_color=\"darkblue\", node_size=600)\n",
    "nx.draw_networkx_labels(FG, pos=positions, labels=labels, font_size=15, font_weight='bold', font_color=\"white\")\n",
    "\n",
    "plt.axis(\"off\")\n",
    "plt.show()"
   ]
  },
  {
   "cell_type": "code",
   "execution_count": null,
   "metadata": {},
   "outputs": [],
   "source": [
    "# To show that moving from Node 4 to Node 1 is not possible\n",
    "print(\"From 0 to 3:\", nx.shortest_path_length(FG, \"0\", \"3\"))\n",
    "print(\"From 3 to 0:\", nx.shortest_path_length(FG, \"3\", \"0\"))"
   ]
  },
  {
   "cell_type": "markdown",
   "metadata": {},
   "source": [
    "### 3. Create vessel\n",
    "Vessel without graph, but with shortest path."
   ]
  },
  {
   "cell_type": "code",
   "execution_count": null,
   "metadata": {},
   "outputs": [],
   "source": [
    "# Make a class out of mix-ins\n",
    "TransportResource = type('TransportResource', \n",
    "                         (opentnsim.core.Identifiable, \n",
    "                          opentnsim.core.Movable, \n",
    "                          opentnsim.core.Routeable), {})\n",
    "\n",
    "data_vessel = {\"env\": None,\n",
    "               \"name\": \"Vessel 1\",\n",
    "               \"route\": None,\n",
    "               \"geometry\": None,  # lon, lat\n",
    "               \"v\": 1\n",
    "              }"
   ]
  },
  {
   "cell_type": "markdown",
   "metadata": {},
   "source": [
    "### 4. Run simulation(s)"
   ]
  },
  {
   "cell_type": "code",
   "execution_count": null,
   "metadata": {},
   "outputs": [],
   "source": [
    "def calculate_distance(orig, dest):\n",
    "    \"\"\"method to calculate the greater circle distance in meters from WGS84 lon, lat coordinates\"\"\"\n",
    "    \n",
    "    wgs84 = pyproj.Geod(ellps='WGS84')\n",
    "    distance = wgs84.inv(orig.x, orig.y, \n",
    "                         dest.x, dest.y)[2]\n",
    "    \n",
    "    return distance"
   ]
  },
  {
   "cell_type": "code",
   "execution_count": null,
   "metadata": {},
   "outputs": [],
   "source": [
    "def calculate_distance_along_path(FG, path):\n",
    "    \"\"\"method to calculate the greater circle distance along path in meters from WGS84 lon, lat coordinates\"\"\"\n",
    "\n",
    "    distance_path = 0\n",
    "\n",
    "    for node in enumerate(path[:-1]):\n",
    "        orig = nx.get_node_attributes(FG, \"geometry\")[path[node[0]]]\n",
    "        dest = nx.get_node_attributes(FG, \"geometry\")[path[node[0]+1]]\n",
    "        distance_path += calculate_distance(orig, dest)\n",
    "\n",
    "        if node[0] + 2 == len(path):\n",
    "                    break\n",
    "\n",
    "    return distance_path"
   ]
  },
  {
   "cell_type": "code",
   "execution_count": null,
   "metadata": {},
   "outputs": [],
   "source": [
    "def start(env, vessel):\n",
    "    while True:\n",
    "        vessel.log_entry(\"Start sailing\", env.now, \"\", vessel.geometry)\n",
    "        yield from vessel.move()\n",
    "        vessel.log_entry(\"Stop sailing\", env.now, \"\", vessel.geometry)\n",
    "        \n",
    "        if vessel.geometry == nx.get_node_attributes(FG, \"geometry\")[vessel.route[-1]]:\n",
    "            break"
   ]
  },
  {
   "cell_type": "code",
   "execution_count": null,
   "metadata": {},
   "outputs": [],
   "source": [
    "# first simulation is from Node 1 to Node 4\n",
    "path_1 = nx.dijkstra_path(FG, \"0\", \"3\")\n",
    "\n",
    "# second simulation is from Node 4 to Node 1\n",
    "path_2 = nx.dijkstra_path(FG, \"3\", \"0\")\n",
    "\n",
    "# collect paths in list\n",
    "paths = [path_1, path_2]"
   ]
  },
  {
   "cell_type": "code",
   "execution_count": null,
   "metadata": {},
   "outputs": [],
   "source": [
    "# run a simulation for each path in the list\n",
    "for path in enumerate(paths):\n",
    "\n",
    "    # Start simpy environment\n",
    "    simulation_start = datetime.datetime.now()\n",
    "    env = simpy.Environment(initial_time = time.mktime(simulation_start.timetuple()))\n",
    "    env.epoch = time.mktime(simulation_start.timetuple())\n",
    "    \n",
    "    # Add graph to environment\n",
    "    env.FG = FG\n",
    "    \n",
    "    # create the transport processing resource\n",
    "    vessel = TransportResource(**data_vessel)\n",
    "    \n",
    "    # Add environment and path to the vessel\n",
    "    vessel.env = env\n",
    "    vessel.route = path[1]\n",
    "    vessel.geometry = FG.nodes[path[1][0]]['geometry']\n",
    "    \n",
    "    # Start the simulation\n",
    "    env.process(start(env, vessel))\n",
    "    env.run()\n",
    "    \n",
    "    df = pd.DataFrame.from_dict(vessel.log)\n",
    "    display(df)\n",
    "\n",
    "    print(\"Simulation of path {} took {:.1f} seconds\".format(path[0] + 1, (env.now - simulation_start.timestamp())))  \n",
    "\n",
    "    print(\"Distance of path {} is {:.1f} meters\".format(path[0] + 1, calculate_distance_along_path(FG, path[1])))"
   ]
  },
  {
   "cell_type": "markdown",
   "metadata": {},
   "source": [
    "### 5. Inspect output"
   ]
  },
  {
   "cell_type": "code",
   "execution_count": null,
   "metadata": {},
   "outputs": [],
   "source": [
    "df = pd.DataFrame.from_dict(vessel.log)\n",
    "df"
   ]
  }
 ],
 "metadata": {
  "kernelspec": {
   "display_name": "Python 3",
   "language": "python",
   "name": "python3"
  },
  "language_info": {
   "codemirror_mode": {
    "name": "ipython",
    "version": 3
   },
   "file_extension": ".py",
   "mimetype": "text/x-python",
   "name": "python",
   "nbconvert_exporter": "python",
   "pygments_lexer": "ipython3",
   "version": "3.8.6"
  }
 },
 "nbformat": 4,
 "nbformat_minor": 2
}
