{
 "cells": [
  {
   "cell_type": "markdown",
   "metadata": {},
   "source": [
    "## Example 03 - Defining a basic simulation"
   ]
  },
  {
   "cell_type": "markdown",
   "metadata": {},
   "source": [
    "### Imports\n",
    "Import the required libraries"
   ]
  },
  {
   "cell_type": "code",
   "execution_count": 1,
   "metadata": {},
   "outputs": [
    {
     "name": "stdout",
     "output_type": "stream",
     "text": [
      "This notebook has been tested with OpenTNSim version 1.0.0\n"
     ]
    }
   ],
   "source": [
    "import opentnsim\n",
    "print('This notebook has been tested with OpenTNSim version {}'.format(opentnsim.__version__))"
   ]
  },
  {
   "cell_type": "code",
   "execution_count": 2,
   "metadata": {},
   "outputs": [],
   "source": [
    "# package(s) related to time, space and id\n",
    "import datetime, time\n",
    "import platform\n",
    "\n",
    "# you need these dependencies (you can get these from anaconda)\n",
    "# package(s) related to the simulation\n",
    "import simpy\n",
    "\n",
    "# spatial libraries \n",
    "import pyproj\n",
    "import shapely.geometry\n",
    "from simplekml import Kml, Style\n",
    "\n",
    "# package(s) for data handling\n",
    "import numpy as np\n",
    "import matplotlib.pyplot as plt\n",
    "\n",
    "# OpenTNSIM\n",
    "import opentnsim.core as core\n",
    "\n",
    "# Used for mathematical functions\n",
    "import math             \n",
    "\n",
    "# Used for making the graph to visualize our problem\n",
    "import networkx as nx  "
   ]
  },
  {
   "cell_type": "markdown",
   "metadata": {},
   "source": [
    "### Create graph"
   ]
  },
  {
   "cell_type": "markdown",
   "metadata": {},
   "source": [
    "The cel below visualizes the problem. In graph theory the red dots are called *edges* and the lines are called *vertices*. Vessels (or any other object) move from edge 1 to edge 3 and from edge 4 to edge 2. The added complexity is that vertice 5-6 only allows traffic in one direction at a time. Vessels can travel simultanously in one direction."
   ]
  },
  {
   "cell_type": "code",
   "execution_count": 3,
   "metadata": {},
   "outputs": [],
   "source": [
    "Node = type('Site', (core.Identifiable, core.Log, core.Locatable, core.HasResource), {})\n",
    "\n",
    "data_node_1 = {\"env\": [],\n",
    "               \"name\": \"Node 1\",\n",
    "               \"geometry\": shapely.geometry.Point(0, 0)}\n",
    "data_node_2 = {\"env\": [],\n",
    "               \"name\": \"Node 2\",\n",
    "               \"geometry\": shapely.geometry.Point(0, 10)}\n",
    "data_node_3 = {\"env\": [],\n",
    "               \"name\": \"Node 3\",\n",
    "               \"geometry\": shapely.geometry.Point(10, 10)}\n",
    "data_node_4 = {\"env\": [],\n",
    "               \"name\": \"Node 4\",\n",
    "               \"geometry\": shapely.geometry.Point(10, 0)}\n",
    "\n",
    "node_1 = Node(**data_node_1)\n",
    "node_2 = Node(**data_node_2)\n",
    "node_3 = Node(**data_node_3)\n",
    "node_4 = Node(**data_node_4)\n",
    "\n",
    "nodes = [node_1, node_2, node_3, node_4]"
   ]
  },
  {
   "cell_type": "code",
   "execution_count": 4,
   "metadata": {},
   "outputs": [
    {
     "data": {
      "image/png": "[encoded data removed]",
      "text/plain": [
       "<Figure size 432x288 with 1 Axes>"
      ]
     },
     "metadata": {},
     "output_type": "display_data"
    }
   ],
   "source": [
    "FG = nx.DiGraph()\n",
    "\n",
    "positions = {}\n",
    "for node in nodes:\n",
    "    positions[node.name] = (node.geometry.x, node.geometry.y)\n",
    "    FG.add_node(node.name, geometry = node.geometry)\n",
    "\n",
    "path = [[node_1, node_2], # From node 1 to node 2\n",
    "        [node_1, node_4], # From node 1 to node 4\n",
    "        [node_2, node_1], # From node 2 to node 1\n",
    "        [node_2, node_3], # From node 2 to node 3\n",
    "        [node_3, node_2], # From node 3 to node 2\n",
    "        [node_3, node_4], # From node 3 to node 4\n",
    "        [node_4, node_3]] # From node 4 to node 3 - So one-way traffic is from node 1 to node 4\n",
    "\n",
    "for edge in path:\n",
    "    FG.add_edge(edge[0].name, edge[1].name, weight = 1)\n",
    "\n",
    "nx.draw(FG, positions)\n",
    "plt.show()"
   ]
  },
  {
   "cell_type": "code",
   "execution_count": 5,
   "metadata": {},
   "outputs": [
    {
     "name": "stdout",
     "output_type": "stream",
     "text": [
      "From 1 to 4: 1\n",
      "From 4 to 1: 3\n"
     ]
    }
   ],
   "source": [
    "# To show that moving from Node 4 to Node 1 is not possible\n",
    "print(\"From 1 to 4:\", nx.shortest_path_length(FG, \"Node 1\", \"Node 4\"))\n",
    "print(\"From 4 to 1:\", nx.shortest_path_length(FG, \"Node 4\", \"Node 1\"))"
   ]
  },
  {
   "cell_type": "markdown",
   "metadata": {},
   "source": [
    "### Create vessels\n",
    "Vessel without graph, but with shortest path."
   ]
  },
  {
   "cell_type": "code",
   "execution_count": 6,
   "metadata": {},
   "outputs": [],
   "source": [
    "# Make a class out of mix-ins\n",
    "TransportResource = type('TransportResource', \n",
    "                         (core.Identifiable, core.ContainerDependentMovable, \n",
    "                          core.HasResource, core.Routeable), {})\n",
    "\n",
    "\n",
    "\n",
    "# For testing purposes we only want v to be 1\n",
    "def compute_v_provider(v_empty, v_full):\n",
    "    return lambda x: 1\n",
    "\n",
    "data_vessel = {\"env\": None,\n",
    "               \"name\": \"Vessel number 1\",\n",
    "               \"route\": None,\n",
    "               \"geometry\": shapely.geometry.Point(0, 0),  # lon, lat\n",
    "               \"capacity\": 1_000,\n",
    "               \"compute_v\": compute_v_provider(v_empty=1, v_full=1)}\n",
    "\n",
    "# create the transport processing resource\n",
    "vessel = TransportResource(**data_vessel)"
   ]
  },
  {
   "cell_type": "markdown",
   "metadata": {},
   "source": [
    "### Define paths"
   ]
  },
  {
   "cell_type": "code",
   "execution_count": 7,
   "metadata": {},
   "outputs": [],
   "source": [
    "# First simulation is from Node 1 to Node 4\n",
    "path_1 = nx.dijkstra_path(FG, node_1.name, node_4.name)\n",
    "\n",
    "# Second simulation is from Node 4 to Node 1\n",
    "path_2 = nx.dijkstra_path(FG, node_4.name, node_1.name)\n",
    "\n",
    "paths = [path_1, path_2]"
   ]
  },
  {
   "cell_type": "markdown",
   "metadata": {},
   "source": [
    "### Run simulation"
   ]
  },
  {
   "cell_type": "code",
   "execution_count": 8,
   "metadata": {},
   "outputs": [],
   "source": [
    "def start(env, vessel):\n",
    "    while True:\n",
    "        vessel.log_entry(\"Start sailing\", env.now, \"\", vessel.geometry)\n",
    "        yield from vessel.move()\n",
    "        vessel.log_entry(\"Stop sailing\", env.now, \"\", vessel.geometry)\n",
    "        \n",
    "        if vessel.geometry == nx.get_node_attributes(FG, \"geometry\")[vessel.route[-1]]:\n",
    "            break"
   ]
  },
  {
   "cell_type": "code",
   "execution_count": 9,
   "metadata": {},
   "outputs": [
    {
     "name": "stdout",
     "output_type": "stream",
     "text": [
      "Simulation of path 1 took 1590054240 seconds\n",
      "Simulation of path 2 took 1592249107 seconds\n"
     ]
    }
   ],
   "source": [
    "for path in enumerate(paths):\n",
    "    # Start simpy environment\n",
    "    simulation_start = datetime.datetime.now()\n",
    "    env = simpy.Environment(initial_time = time.mktime(simulation_start.timetuple()))\n",
    "    env.epoch = time.mktime(simulation_start.timetuple())\n",
    "    \n",
    "    # Add graph to environment\n",
    "    env.FG = FG\n",
    "    \n",
    "    # Add environment and path to the vessel\n",
    "    vessel.env = env\n",
    "    vessel.route = path[1]\n",
    "\n",
    "    # Start the simulation\n",
    "    env.process(start(env, vessel))\n",
    "    env.run()\n",
    "\n",
    "    print(\"Simulation of path {} took {} seconds\".format(path[0] + 1, int(env.now)))"
   ]
  },
  {
   "cell_type": "markdown",
   "metadata": {},
   "source": [
    "### Testing"
   ]
  },
  {
   "cell_type": "code",
   "execution_count": 10,
   "metadata": {},
   "outputs": [
    {
     "name": "stdout",
     "output_type": "stream",
     "text": [
      "0.0 0.0\n",
      "0.0 0.0\n",
      "10.0 0.0\n",
      "10.0 0.0\n",
      "10.0 0.0\n",
      "10.0 0.0\n",
      "10.0 10.0\n",
      "10.0 10.0\n",
      "0.0 10.0\n",
      "0.0 10.0\n",
      "0.0 0.0\n",
      "0.0 0.0\n"
     ]
    }
   ],
   "source": [
    "for geo in vessel.log[\"Geometry\"]:\n",
    "    print(geo.x, geo.y)"
   ]
  },
  {
   "cell_type": "code",
   "execution_count": 11,
   "metadata": {},
   "outputs": [
    {
     "data": {
      "text/plain": [
       "[datetime.datetime(2020, 5, 8, 14, 30, 46),\n",
       " datetime.datetime(2020, 5, 8, 14, 30, 46),\n",
       " datetime.datetime(2020, 5, 21, 11, 44, 0, 907933),\n",
       " datetime.datetime(2020, 5, 21, 11, 44, 0, 907933),\n",
       " datetime.datetime(2020, 5, 8, 14, 30, 46),\n",
       " datetime.datetime(2020, 5, 8, 14, 30, 46),\n",
       " datetime.datetime(2020, 5, 21, 9, 41, 40, 833234),\n",
       " datetime.datetime(2020, 5, 21, 9, 41, 40, 833234),\n",
       " datetime.datetime(2020, 6, 3, 2, 14, 12, 387803),\n",
       " datetime.datetime(2020, 6, 3, 2, 14, 12, 387803),\n",
       " datetime.datetime(2020, 6, 15, 21, 25, 7, 221038),\n",
       " datetime.datetime(2020, 6, 15, 21, 25, 7, 221038)]"
      ]
     },
     "execution_count": 11,
     "metadata": {},
     "output_type": "execute_result"
    }
   ],
   "source": [
    "vessel.log[\"Timestamp\"]"
   ]
  },
  {
   "cell_type": "code",
   "execution_count": 12,
   "metadata": {},
   "outputs": [],
   "source": [
    "wgs84 = pyproj.Geod(ellps='WGS84')\n",
    "distance_path_1 = 0\n",
    "distance_path_2 = 0\n",
    "\n",
    "for node in enumerate(path_1):\n",
    "    orig = nx.get_node_attributes(FG, \"geometry\")[path_1[node[0]]]\n",
    "    dest = nx.get_node_attributes(FG, \"geometry\")[path_1[node[0] + 1]]\n",
    "\n",
    "    distance_path_1 += int(wgs84.inv(shapely.geometry.asShape(orig).x, shapely.geometry.asShape(orig).y, \n",
    "                                     shapely.geometry.asShape(dest).x, shapely.geometry.asShape(dest).y)[2])\n",
    "    \n",
    "    if node[0] + 2 == len(path_1):\n",
    "                break\n",
    "\n",
    "for node in enumerate(path_2):\n",
    "    orig = nx.get_node_attributes(FG, \"geometry\")[path_2[node[0]]]\n",
    "    dest = nx.get_node_attributes(FG, \"geometry\")[path_2[node[0] + 1]]\n",
    "\n",
    "    distance_path_2 += int(wgs84.inv(shapely.geometry.asShape(orig).x, shapely.geometry.asShape(orig).y, \n",
    "                                     shapely.geometry.asShape(dest).x, shapely.geometry.asShape(dest).y)[2])\n",
    "    \n",
    "    if node[0] + 2 == len(path_2):\n",
    "                break"
   ]
  }
 ],
 "metadata": {
  "kernelspec": {
   "display_name": "Python 3",
   "language": "python",
   "name": "python3"
  },
  "language_info": {
   "codemirror_mode": {
    "name": "ipython",
    "version": 3
   },
   "file_extension": ".py",
   "mimetype": "text/x-python",
   "name": "python",
   "nbconvert_exporter": "python",
   "pygments_lexer": "ipython3",
   "version": "3.6.6"
  }
 },
 "nbformat": 4,
 "nbformat_minor": 2
}
