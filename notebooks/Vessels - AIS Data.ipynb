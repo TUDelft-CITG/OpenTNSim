{
 "cells": [
  {
   "cell_type": "markdown",
   "id": "29e4beae",
   "metadata": {},
   "source": [
    "# Vessels - AIS Data\n"
   ]
  },
  {
   "cell_type": "markdown",
   "id": "e40ac8bc",
   "metadata": {},
   "source": [
    "In this notebook, we show how to retrieve and analyse information from AIS messages.\n",
    "\n",
    "We take the following steps:\n",
    "\n",
    " 1. [Imports](#1.-Imports)\n",
    " 2. [Load and read the Data](#2.-Load-and-read-the-data)"
   ]
  },
  {
   "cell_type": "markdown",
   "id": "36e83773",
   "metadata": {},
   "source": [
    "# 1. Imports"
   ]
  },
  {
   "cell_type": "code",
   "execution_count": 7,
   "id": "a6b244ad",
   "metadata": {},
   "outputs": [
    {
     "name": "stdout",
     "output_type": "stream",
     "text": [
      "This notebook is executed with OpenTNSim version 1.0.0\n"
     ]
    }
   ],
   "source": [
    "# package(s) used for creating and geo-locating the graph\n",
    "import networkx as nx  \n",
    "import shapely.geometry\n",
    "import pyproj\n",
    "\n",
    "# package(s) related to the simulation (creating the vessel, running the simulation)\n",
    "import datetime, time\n",
    "import simpy\n",
    "import opentnsim\n",
    "from opentnsim import core\n",
    "\n",
    "# package(s) needed for data handling and inspecting output\n",
    "import numpy as np\n",
    "import pathlib\n",
    "import os\n",
    "import pandas as pd\n",
    "import geopandas as gpd\n",
    "#import movingpandas still gives error\n",
    "\n",
    "# package(s) needed for plotting\n",
    "import matplotlib.pyplot as plt\n",
    "from matplotlib.ticker import MaxNLocator\n",
    "\n",
    "print('This notebook is executed with OpenTNSim version {}'.format(opentnsim.__version__))"
   ]
  },
  {
   "cell_type": "markdown",
   "id": "0b5f8350",
   "metadata": {},
   "source": [
    "# 2. Load and read the data"
   ]
  },
  {
   "cell_type": "markdown",
   "id": "45252f55",
   "metadata": {},
   "source": [
    "For this example we'll use a representative AIS data file called \"ais.csv\". Make sure to have this file in a known (and convenient) directory. We'll use the combination of pandas, geopandas and movingpandas to read the data.\n",
    "Pandas reads the data as a table. Geopandas adds the location and movingpandas adds the time information. \n",
    "The result is that we can use data as table, feature (geospatial) and trajectory (moving objects). "
   ]
  },
  {
   "cell_type": "code",
   "execution_count": 2,
   "id": "106660a6",
   "metadata": {},
   "outputs": [],
   "source": [
    "import pathlib\n",
    "import os\n",
    "import pandas as pd\n",
    "import geopandas as gpd\n",
    "#import movingpandas "
   ]
  },
  {
   "cell_type": "code",
   "execution_count": 3,
   "id": "0a21f9e6",
   "metadata": {},
   "outputs": [
    {
     "data": {
      "text/plain": [
       "'C:\\\\Users\\\\maxva\\\\Desktop\\\\TU\\\\TA Work\\\\OpenTNSim\\\\GitHub\\\\notebooks'"
      ]
     },
     "execution_count": 3,
     "metadata": {},
     "output_type": "execute_result"
    }
   ],
   "source": [
    "#Check in which Current Working Directory you are working\n",
    "os.getcwd()"
   ]
  },
  {
   "cell_type": "code",
   "execution_count": 5,
   "id": "e48b3407",
   "metadata": {},
   "outputs": [],
   "source": [
    "#Determine where your data file is and create the directory\n",
    "\n",
    "data_dir = pathlib.Path('../data')"
   ]
  },
  {
   "cell_type": "code",
   "execution_count": 6,
   "id": "dd95dde9",
   "metadata": {},
   "outputs": [],
   "source": [
    "ais_df = pd.read_csv(data_dir / 'ais.csv')"
   ]
  },
  {
   "cell_type": "markdown",
   "id": "dcacf4c3",
   "metadata": {},
   "source": [
    "# 3. Create a list of vessels\n",
    "\n"
   ]
  },
  {
   "cell_type": "markdown",
   "id": "ce2a8206",
   "metadata": {},
   "source": [
    "Instead of creating a vessel class, it is also possible to create a list of vessels from AIS-data. The data from the 'ais.csv'-file can be filtered by multiple different criteria. For this example we will filter by a certain terminal type."
   ]
  },
  {
   "cell_type": "code",
   "execution_count": null,
   "id": "b231291d",
   "metadata": {},
   "outputs": [],
   "source": []
  },
  {
   "cell_type": "code",
   "execution_count": null,
   "id": "557e1a0c",
   "metadata": {},
   "outputs": [],
   "source": [
    "\n",
    "\n",
    "\n"
   ]
  }
 ],
 "metadata": {
  "kernelspec": {
   "display_name": "Python 3 (ipykernel)",
   "language": "python",
   "name": "python3"
  },
  "language_info": {
   "codemirror_mode": {
    "name": "ipython",
    "version": 3
   },
   "file_extension": ".py",
   "mimetype": "text/x-python",
   "name": "python",
   "nbconvert_exporter": "python",
   "pygments_lexer": "ipython3",
   "version": "3.9.10"
  }
 },
 "nbformat": 4,
 "nbformat_minor": 5
}
