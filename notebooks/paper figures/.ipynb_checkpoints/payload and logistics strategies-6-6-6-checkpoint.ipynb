{
 "cells": [
  {
   "cell_type": "code",
   "execution_count": 1,
   "id": "c027130b",
   "metadata": {},
   "outputs": [],
   "source": [
    "# package(s) related to time, space and id\n",
    "import datetime, time\n",
    "import platform\n",
    "\n",
    "# you need these dependencies (you can get these from anaconda)\n",
    "# package(s) related to the simulation\n",
    "import simpy\n",
    "import pandas as pd\n",
    "\n",
    "# spatial libraries \n",
    "import pyproj\n",
    "import shapely.geometry\n",
    "from simplekml import Kml, Style\n",
    "\n",
    "# package(s) for data handling\n",
    "import numpy as np\n",
    "import matplotlib.pyplot as plt\n",
    "\n",
    "# OpenTNSim\n",
    "import opentnsim\n",
    "\n",
    "# Used for mathematical functions\n",
    "import math             \n",
    "\n",
    "# Used for making the graph to visualize our problem\n",
    "import networkx as nx   "
   ]
  },
  {
   "cell_type": "code",
   "execution_count": 2,
   "id": "e5eede0e",
   "metadata": {},
   "outputs": [],
   "source": [
    "amount=30000 #ton\n",
    "d=300 #km distance \n",
    "# v=3.5m/s\n",
    "# h=6,6,6"
   ]
  },
  {
   "cell_type": "code",
   "execution_count": 3,
   "id": "85bb035f",
   "metadata": {},
   "outputs": [
    {
     "data": {
      "text/html": [
       "<div>\n",
       "<style scoped>\n",
       "    .dataframe tbody tr th:only-of-type {\n",
       "        vertical-align: middle;\n",
       "    }\n",
       "\n",
       "    .dataframe tbody tr th {\n",
       "        vertical-align: top;\n",
       "    }\n",
       "\n",
       "    .dataframe thead th {\n",
       "        text-align: right;\n",
       "    }\n",
       "</style>\n",
       "<table border=\"1\" class=\"dataframe\">\n",
       "  <thead>\n",
       "    <tr style=\"text-align: right;\">\n",
       "      <th></th>\n",
       "      <th>fuel consumption (kg/km)</th>\n",
       "      <th>fuel total trips consumption (10 ton)</th>\n",
       "    </tr>\n",
       "  </thead>\n",
       "  <tbody>\n",
       "    <tr>\n",
       "      <th>0 ton</th>\n",
       "      <td>17.34</td>\n",
       "      <td>0.0000</td>\n",
       "    </tr>\n",
       "    <tr>\n",
       "      <th>500 ton</th>\n",
       "      <td>9.74</td>\n",
       "      <td>48.7440</td>\n",
       "    </tr>\n",
       "    <tr>\n",
       "      <th>1000 ton</th>\n",
       "      <td>7.44</td>\n",
       "      <td>22.3020</td>\n",
       "    </tr>\n",
       "    <tr>\n",
       "      <th>1500 ton</th>\n",
       "      <td>7.18</td>\n",
       "      <td>14.7120</td>\n",
       "    </tr>\n",
       "    <tr>\n",
       "      <th>2000 ton</th>\n",
       "      <td>7.41</td>\n",
       "      <td>11.1375</td>\n",
       "    </tr>\n",
       "  </tbody>\n",
       "</table>\n",
       "</div>"
      ],
      "text/plain": [
       "          fuel consumption (kg/km)  fuel total trips consumption (10 ton)\n",
       "0 ton                        17.34                                 0.0000\n",
       "500 ton                       9.74                                48.7440\n",
       "1000 ton                      7.44                                22.3020\n",
       "1500 ton                      7.18                                14.7120\n",
       "2000 ton                      7.41                                11.1375"
      ]
     },
     "execution_count": 3,
     "metadata": {},
     "output_type": "execute_result"
    }
   ],
   "source": [
    "# make a list of Tuples\n",
    "fuel_kg_km=[17.34, 9.74,7.44,7.18,7.41,7.92]  #  fuel consumption kg/km of payload=0t,500t,1000t,1500t,2000t,2500t; corresponding T=1.4,1.7,2.1,2.6,3,3.5\n",
    "fuel_0=0\n",
    "fuel_500=d*(fuel_kg_km[0]+fuel_kg_km[1])*amount/500/10000 #10ton\n",
    "fuel_1000=d*(fuel_kg_km[0]+fuel_kg_km[2])*amount/1000/10000 #10ton\n",
    "fuel_1500=d*(fuel_kg_km[0]+fuel_kg_km[3])*amount/1500/10000 #10ton\n",
    "fuel_2000=d*(fuel_kg_km[0]+fuel_kg_km[4])*amount/2000/10000 #10ton\n",
    "fuel_2500=d*(fuel_kg_km[0]+fuel_kg_km[5])*amount/2500/10000 #10ton\n",
    "\n",
    "fuel_trips=[fuel_0,fuel_500,fuel_1000,fuel_1500,fuel_2000,fuel_2500] # (loaded go+ unloaded return)*trips\n",
    "index = ['0 ton','500 ton','1000 ton','1500 ton','2000 ton','2500 ton']\n",
    "dffuel = pd.DataFrame({'fuel consumption (kg/km)': fuel_kg_km,\n",
    "                   'fuel total trips consumption (10 ton)':fuel_trips}, index=index)\n",
    "                  \n",
    "dffuel.head()"
   ]
  },
  {
   "cell_type": "code",
   "execution_count": 12,
   "id": "779c82da",
   "metadata": {},
   "outputs": [
    {
     "data": {
      "text/plain": [
       "<AxesSubplot:>"
      ]
     },
     "execution_count": 12,
     "metadata": {},
     "output_type": "execute_result"
    },
    {
     "data": {
      "image/png": "[encoded data removed]",
      "text/plain": [
       "<Figure size 432x288 with 1 Axes>"
      ]
     },
     "metadata": {
      "needs_background": "light"
     },
     "output_type": "display_data"
    }
   ],
   "source": [
    "dffuel.plot.bar(color={\"fuel consumption (kg/km)\": \"red\", \"fuel total trips consumption (10 ton)\": \"green\"},rot=0)"
   ]
  },
  {
   "cell_type": "code",
   "execution_count": 5,
   "id": "59231b09",
   "metadata": {},
   "outputs": [
    {
     "data": {
      "text/html": [
       "<div>\n",
       "<style scoped>\n",
       "    .dataframe tbody tr th:only-of-type {\n",
       "        vertical-align: middle;\n",
       "    }\n",
       "\n",
       "    .dataframe tbody tr th {\n",
       "        vertical-align: top;\n",
       "    }\n",
       "\n",
       "    .dataframe thead th {\n",
       "        text-align: right;\n",
       "    }\n",
       "</style>\n",
       "<table border=\"1\" class=\"dataframe\">\n",
       "  <thead>\n",
       "    <tr style=\"text-align: right;\">\n",
       "      <th></th>\n",
       "      <th>CO2 emission rate (kg/km)</th>\n",
       "      <th>CO2 total trips emission (10 ton)</th>\n",
       "    </tr>\n",
       "  </thead>\n",
       "  <tbody>\n",
       "    <tr>\n",
       "      <th>0 ton</th>\n",
       "      <td>55.000</td>\n",
       "      <td>0.00000</td>\n",
       "    </tr>\n",
       "    <tr>\n",
       "      <th>500 ton</th>\n",
       "      <td>30.903</td>\n",
       "      <td>154.62540</td>\n",
       "    </tr>\n",
       "    <tr>\n",
       "      <th>1000 ton</th>\n",
       "      <td>23.614</td>\n",
       "      <td>70.75260</td>\n",
       "    </tr>\n",
       "    <tr>\n",
       "      <th>1500 ton</th>\n",
       "      <td>22.771</td>\n",
       "      <td>46.66260</td>\n",
       "    </tr>\n",
       "    <tr>\n",
       "      <th>2000 ton</th>\n",
       "      <td>23.503</td>\n",
       "      <td>35.32635</td>\n",
       "    </tr>\n",
       "  </tbody>\n",
       "</table>\n",
       "</div>"
      ],
      "text/plain": [
       "          CO2 emission rate (kg/km)  CO2 total trips emission (10 ton)\n",
       "0 ton                        55.000                            0.00000\n",
       "500 ton                      30.903                          154.62540\n",
       "1000 ton                     23.614                           70.75260\n",
       "1500 ton                     22.771                           46.66260\n",
       "2000 ton                     23.503                           35.32635"
      ]
     },
     "execution_count": 5,
     "metadata": {},
     "output_type": "execute_result"
    }
   ],
   "source": [
    "# make a list of Tuples\n",
    "\n",
    "CO2_kg_km=[55.000,30.903,23.614,22.771,23.503,25.134]  #  emission rate of payload=0t,500t,1000t,1500t,2000t,2500t \n",
    "CO2_0=0\n",
    "CO2_500=d*(CO2_kg_km[0]+CO2_kg_km[1])*amount/500/10000 #10ton\n",
    "CO2_1000=d*(CO2_kg_km[0]+CO2_kg_km[2])*amount/1000/10000\n",
    "CO2_1500=d*(CO2_kg_km[0]+CO2_kg_km[3])*amount/1500/10000\n",
    "CO2_2000=d*(CO2_kg_km[0]+CO2_kg_km[4])*amount/2000/10000\n",
    "CO2_2500=d*(CO2_kg_km[0]+CO2_kg_km[5])*amount/2500/10000\n",
    "\n",
    "CO2_trips=[CO2_0,CO2_500,CO2_1000,CO2_1500,CO2_2000,CO2_2500] # (loaded go+ unloaded return)*trips\n",
    "index = ['0 ton','500 ton','1000 ton','1500 ton','2000 ton','2500 ton']\n",
    "dfCO2 = pd.DataFrame({'CO2 emission rate (kg/km)': CO2_kg_km,\n",
    "                   'CO2 total trips emission (10 ton)':CO2_trips}, index=index)\n",
    "                  \n",
    "dfCO2.head()"
   ]
  },
  {
   "cell_type": "code",
   "execution_count": 6,
   "id": "845935ce",
   "metadata": {},
   "outputs": [
    {
     "data": {
      "text/plain": [
       "<AxesSubplot:>"
      ]
     },
     "execution_count": 6,
     "metadata": {},
     "output_type": "execute_result"
    },
    {
     "data": {
      "image/png": "[encoded data removed]",
      "text/plain": [
       "<Figure size 432x288 with 1 Axes>"
      ]
     },
     "metadata": {
      "needs_background": "light"
     },
     "output_type": "display_data"
    }
   ],
   "source": [
    "dfCO2.plot.bar(rot=0)"
   ]
  },
  {
   "cell_type": "code",
   "execution_count": 7,
   "id": "ae0714ca",
   "metadata": {},
   "outputs": [
    {
     "data": {
      "text/html": [
       "<div>\n",
       "<style scoped>\n",
       "    .dataframe tbody tr th:only-of-type {\n",
       "        vertical-align: middle;\n",
       "    }\n",
       "\n",
       "    .dataframe tbody tr th {\n",
       "        vertical-align: top;\n",
       "    }\n",
       "\n",
       "    .dataframe thead th {\n",
       "        text-align: right;\n",
       "    }\n",
       "</style>\n",
       "<table border=\"1\" class=\"dataframe\">\n",
       "  <thead>\n",
       "    <tr style=\"text-align: right;\">\n",
       "      <th></th>\n",
       "      <th>PM10 emission rate (g/km)</th>\n",
       "      <th>PM10 total trips emission (10kg)</th>\n",
       "    </tr>\n",
       "  </thead>\n",
       "  <tbody>\n",
       "    <tr>\n",
       "      <th>0 ton</th>\n",
       "      <td>30.61</td>\n",
       "      <td>0.0000</td>\n",
       "    </tr>\n",
       "    <tr>\n",
       "      <th>500 ton</th>\n",
       "      <td>17.32</td>\n",
       "      <td>86.2740</td>\n",
       "    </tr>\n",
       "    <tr>\n",
       "      <th>1000 ton</th>\n",
       "      <td>13.85</td>\n",
       "      <td>40.0140</td>\n",
       "    </tr>\n",
       "    <tr>\n",
       "      <th>1500 ton</th>\n",
       "      <td>13.45</td>\n",
       "      <td>26.4360</td>\n",
       "    </tr>\n",
       "    <tr>\n",
       "      <th>2000 ton</th>\n",
       "      <td>13.80</td>\n",
       "      <td>19.9845</td>\n",
       "    </tr>\n",
       "  </tbody>\n",
       "</table>\n",
       "</div>"
      ],
      "text/plain": [
       "          PM10 emission rate (g/km)  PM10 total trips emission (10kg)\n",
       "0 ton                         30.61                            0.0000\n",
       "500 ton                       17.32                           86.2740\n",
       "1000 ton                      13.85                           40.0140\n",
       "1500 ton                      13.45                           26.4360\n",
       "2000 ton                      13.80                           19.9845"
      ]
     },
     "execution_count": 7,
     "metadata": {},
     "output_type": "execute_result"
    }
   ],
   "source": [
    "# make a list of Tuples\n",
    "\n",
    "PM10_g_km=[30.61,17.32,13.85,13.45,13.8,14.56]  #  emission rate of payload=0t,500t,1000t,1500t,2000t,2500t \n",
    "PM10_0=0\n",
    "PM10_500=d*(PM10_g_km[0]+PM10_g_km[1])*amount/500/10000  #10kg\n",
    "PM10_1000=d*(PM10_g_km[0]+PM10_g_km[2])*amount/1000/10000\n",
    "PM10_1500=d*(PM10_g_km[0]+PM10_g_km[3])*amount/1500/10000\n",
    "PM10_2000=d*(PM10_g_km[0]+PM10_g_km[4])*amount/2000/10000\n",
    "PM10_2500=d*(PM10_g_km[0]+PM10_g_km[5])*amount/2500/10000\n",
    "\n",
    "PM10_trips=[PM10_0,PM10_500,PM10_1000,PM10_1500,PM10_2000,PM10_2500] # (loaded go+ unloaded return)*trips\n",
    "index = ['0 ton','500 ton','1000 ton','1500 ton','2000 ton','2500 ton']\n",
    "dfPM10 = pd.DataFrame({'PM10 emission rate (g/km)': PM10_g_km,\n",
    "                   'PM10 total trips emission (10kg)':PM10_trips}, index=index)\n",
    "\n",
    "# PM10=np.array([[30.61,17.32,13.85,13.45,13.8,14.56],[PM10_0,PM10_500,PM10_1000,PM10_1500,PM10_2000,PM10_2500]])\n",
    "# # Create a DataFrame object\n",
    "# dfPM10 = pd.DataFrame(PM10,\n",
    "#                      columns=['0 ton','500 ton','1000 ton','1500 ton','2000 ton','2500 ton'])\n",
    "                  \n",
    "dfPM10.head()"
   ]
  },
  {
   "cell_type": "code",
   "execution_count": 8,
   "id": "1a91cc54",
   "metadata": {},
   "outputs": [
    {
     "data": {
      "image/png": "[encoded data removed]",
      "text/plain": [
       "<Figure size 432x288 with 1 Axes>"
      ]
     },
     "metadata": {
      "needs_background": "light"
     },
     "output_type": "display_data"
    }
   ],
   "source": [
    "ax = dfPM10.plot.bar(rot=0)"
   ]
  },
  {
   "cell_type": "code",
   "execution_count": 9,
   "id": "52a0e174",
   "metadata": {},
   "outputs": [
    {
     "data": {
      "text/html": [
       "<div>\n",
       "<style scoped>\n",
       "    .dataframe tbody tr th:only-of-type {\n",
       "        vertical-align: middle;\n",
       "    }\n",
       "\n",
       "    .dataframe tbody tr th {\n",
       "        vertical-align: top;\n",
       "    }\n",
       "\n",
       "    .dataframe thead th {\n",
       "        text-align: right;\n",
       "    }\n",
       "</style>\n",
       "<table border=\"1\" class=\"dataframe\">\n",
       "  <thead>\n",
       "    <tr style=\"text-align: right;\">\n",
       "      <th></th>\n",
       "      <th>NOX emission rate (g/km)</th>\n",
       "      <th>NOX total trips emission (10kg)</th>\n",
       "    </tr>\n",
       "  </thead>\n",
       "  <tbody>\n",
       "    <tr>\n",
       "      <th>0 ton</th>\n",
       "      <td>772.66</td>\n",
       "      <td>0.000</td>\n",
       "    </tr>\n",
       "    <tr>\n",
       "      <th>500 ton</th>\n",
       "      <td>419.10</td>\n",
       "      <td>2145.168</td>\n",
       "    </tr>\n",
       "    <tr>\n",
       "      <th>1000 ton</th>\n",
       "      <td>325.25</td>\n",
       "      <td>988.119</td>\n",
       "    </tr>\n",
       "    <tr>\n",
       "      <th>1500 ton</th>\n",
       "      <td>314.62</td>\n",
       "      <td>652.368</td>\n",
       "    </tr>\n",
       "    <tr>\n",
       "      <th>2000 ton</th>\n",
       "      <td>323.86</td>\n",
       "      <td>493.434</td>\n",
       "    </tr>\n",
       "  </tbody>\n",
       "</table>\n",
       "</div>"
      ],
      "text/plain": [
       "          NOX emission rate (g/km)  NOX total trips emission (10kg)\n",
       "0 ton                       772.66                            0.000\n",
       "500 ton                     419.10                         2145.168\n",
       "1000 ton                    325.25                          988.119\n",
       "1500 ton                    314.62                          652.368\n",
       "2000 ton                    323.86                          493.434"
      ]
     },
     "execution_count": 9,
     "metadata": {},
     "output_type": "execute_result"
    }
   ],
   "source": [
    "# make a list of Tuples\n",
    "\n",
    "NOX_g_km=[772.66,419.10,325.25,314.62,323.86,344.19]  #  emission rate of payload=0t,500t,1000t,1500t,2000t,2500t \n",
    "NOX_0=0\n",
    "NOX_500=d*(NOX_g_km[0]+NOX_g_km[1])*amount/500/10000 #10kg\n",
    "NOX_1000=d*(NOX_g_km[0]+NOX_g_km[2])*amount/1000/10000 \n",
    "NOX_1500=d*(NOX_g_km[0]+NOX_g_km[3])*amount/1500/10000 \n",
    "NOX_2000=d*(NOX_g_km[0]+NOX_g_km[4])*amount/2000/10000\n",
    "NOX_2500=d*(NOX_g_km[0]+NOX_g_km[5])*amount/2500/10000 \n",
    "\n",
    "NOX_trips=[NOX_0,NOX_500,NOX_1000,NOX_1500,NOX_2000,NOX_2500] # (loaded go+ unloaded return)*trips\n",
    "index = ['0 ton','500 ton','1000 ton','1500 ton','2000 ton','2500 ton']\n",
    "dfNOX = pd.DataFrame({'NOX emission rate (g/km)': NOX_g_km,\n",
    "                   'NOX total trips emission (10kg)':NOX_trips}, index=index)\n",
    "                  \n",
    "dfNOX.head()"
   ]
  },
  {
   "cell_type": "code",
   "execution_count": 10,
   "id": "dde990c0",
   "metadata": {},
   "outputs": [
    {
     "data": {
      "text/plain": [
       "<AxesSubplot:>"
      ]
     },
     "execution_count": 10,
     "metadata": {},
     "output_type": "execute_result"
    },
    {
     "data": {
      "image/png": "[encoded data removed]",
      "text/plain": [
       "<Figure size 432x288 with 1 Axes>"
      ]
     },
     "metadata": {
      "needs_background": "light"
     },
     "output_type": "display_data"
    }
   ],
   "source": [
    "dfNOX.plot.bar(rot=0)"
   ]
  },
  {
   "cell_type": "code",
   "execution_count": 18,
   "id": "3d6cc2b7",
   "metadata": {},
   "outputs": [
    {
     "data": {
      "image/png": "[encoded data removed]",
      "text/plain": [
       "<Figure size 1008x864 with 4 Axes>"
      ]
     },
     "metadata": {
      "needs_background": "light"
     },
     "output_type": "display_data"
    },
    {
     "data": {
      "image/png": "[encoded data removed]",
      "text/plain": [
       "<Figure size 432x288 with 1 Axes>"
      ]
     },
     "metadata": {
      "needs_background": "light"
     },
     "output_type": "display_data"
    },
    {
     "data": {
      "image/png": "[encoded data removed]",
      "text/plain": [
       "<Figure size 432x288 with 1 Axes>"
      ]
     },
     "metadata": {
      "needs_background": "light"
     },
     "output_type": "display_data"
    }
   ],
   "source": [
    "fig, axs = plt.subplots(4, 1, figsize=(14, 12), constrained_layout=True)\n",
    "#fontsize=15\n",
    "# fig = plt.figure()\n",
    "\n",
    "# Divide the figure into a 1x2 grid, and give me the first section\n",
    "#ax1 = fig.add_subplot(411)\n",
    "dffuel.plot.bar(color={\"fuel consumption (kg/km)\": \"red\", \"fuel total trips consumption (10 ton)\": \"green\"},rot=0)\n",
    "plt.ylabel('fuel consumption',fontsize=15)\n",
    "# Divide the figure into a 1x2 grid, and give me the second section\n",
    "#ax2 = fig.add_subplot(412)\n",
    "dfCO2.plot.bar(color={\"CO2 emission rate (kg/km)\": \"red\", \"CO2 total trips emission (10 ton)\": \"green\"},rot=0,fontsize=12)\n",
    "# ax3 = fig.add_subplot(413)\n",
    "# ax4 = fig.add_subplot(414)\n",
    "# plt.subplot(411)\n",
    "\n",
    "# dffuel.iloc[0:1,:].plot.bar(color= '#ad900d',rot=0,fontsize=12)\n",
    "#dffuel.iloc[1,:].plot.bar(color= '#ce5dae',rot=0,fontsize=12)\n",
    "\n",
    "# plt.subplot(412)\n",
    "\n",
    "# plt.ylabel('CO2 emission',fontsize=15)\n",
    "# plt.subplot(413)\n",
    "# dfPM10.plot.bar(color= '#7bf2da',rot=0,fontsize=12)\n",
    "# plt.ylabel('PM10 emission',fontsize=15)\n",
    "# plt.subplot(414)\n",
    "# dfNOX.plot.bar(color= '#ff69af',rot=0,fontsize=12)\n",
    "# plt.ylabel('NOx emission',fontsize=15)\n",
    "\n",
    "# plt.figtext(0.03, -0.02,'M8 vessel sailing between inland terminal and sea port with( or without)\\\n",
    "# mild current 0.5m/s( from inland terminal to sea port), water depth = 6m, distance = 300km.',fontsize=12)\n",
    "# plt.figtext(0.03, -0.035,'Without current: V_to_water=V_to_ground=3.5m/s;\\\n",
    "#  downstream: V_to_water=3.5m/s, V_to_ground=4m/s; upstream: V_to_water=3.5m/s, V_to_ground=3m/s.',fontsize=12)\n",
    "\n",
    "plt.show()"
   ]
  },
  {
   "cell_type": "code",
   "execution_count": null,
   "id": "de356086",
   "metadata": {},
   "outputs": [],
   "source": []
  },
  {
   "cell_type": "code",
   "execution_count": null,
   "id": "996b3a4b",
   "metadata": {},
   "outputs": [],
   "source": []
  }
 ],
 "metadata": {
  "kernelspec": {
   "display_name": "Python 3",
   "language": "python",
   "name": "python3"
  },
  "language_info": {
   "codemirror_mode": {
    "name": "ipython",
    "version": 3
   },
   "file_extension": ".py",
   "mimetype": "text/x-python",
   "name": "python",
   "nbconvert_exporter": "python",
   "pygments_lexer": "ipython3",
   "version": "3.9.4"
  }
 },
 "nbformat": 4,
 "nbformat_minor": 5
}
