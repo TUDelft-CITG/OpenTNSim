{
 "cells": [
  {
   "cell_type": "markdown",
   "metadata": {},
   "source": [
    "# 0. Import required libraries"
   ]
  },
  {
   "cell_type": "markdown",
   "metadata": {},
   "source": [
    "###  managed to loop the code for the different type of vessels, so you can now see all the values given in table 7 of van Dosser et al. 2020. No adjustment of the calculations itself but more to get an overview of all the vessels. The benefit of the code now is that you can play with the actual depth based on your own simulation and determine the DWT or payload for that situation. Example given a depth of 2.5 meters.--Frederik"
   ]
  },
  {
   "cell_type": "code",
   "execution_count": 1,
   "metadata": {},
   "outputs": [],
   "source": [
    "import numpy as np\n",
    "import pandas as pd"
   ]
  },
  {
   "cell_type": "markdown",
   "metadata": {},
   "source": [
    "## 1. Regression coefficients"
   ]
  },
  {
   "cell_type": "code",
   "execution_count": 2,
   "metadata": {},
   "outputs": [],
   "source": [
    "#Linear regression coefficients for the Capacity Index model (Table 3 in paper Van Dorsser et al (2020))\n",
    "CI_coefs = dict({\"intercept\": 2.0323139721 * 10**1,\n",
    "                \n",
    "                \"c1\": -7.8577991460 * 10**1,\n",
    "                \"c2\": -7.0671612519 * 10**0,\n",
    "                \"c3\": 2.7744056480 * 10**1,\n",
    "                \"c4\": 7.5588609922 * 10**-1,\n",
    "                \"c5\": 3.6591813315 * 10**1\n",
    "                })\n",
    "\n",
    "#Linear regression coefficients for the Design Draft model (Table 5 in paper Van Dorsser et al (2020))\n",
    "\n",
    "Tdesign_coefs = dict({\"intercept\":0,\n",
    "                     \"c1\": 1.7244153371,\n",
    "                     \"c2\": 2.2767179246,\n",
    "                     \"c3\": 1.3365379898,\n",
    "                     \"c4\": -5.9459308905,\n",
    "                     \"c5\": 6.2902305560*10**-2,\n",
    "                     \"c6\": 7.7398861528*10**-5,\n",
    "                     \"c7\": 9.0052384439*10**-3,\n",
    "                     \"c8\": 2.8438560877\n",
    "                     })\n",
    "\n",
    "#Linear regression coefficients for the Empty Draft model (Table 4 in paper Van Dorsser et al (2020))\n",
    "\n",
    "Tempty_coefs = dict({\"intercept\": 7.5740820927*10**-2,\n",
    "                    \"c1\": 1.1615080992*10**-1,\n",
    "                    \"c2\": 1.6865973494*10**-2,\n",
    "                    \"c3\": -2.7490565381*10**-2,\n",
    "                    \"c4\": -5.1501240744*10**-5,\n",
    "                    \"c5\": 1.0257551153*10**-1, # Dummy DH Dry Bulk & DH Container\n",
    "                    \"c6\": 2.4299435211*10**-1, # Dummy DH Tanker \n",
    "                    \"c7\": -2.1354295627*10**-1, # Dumb Barge\n",
    "                    })\n",
    "\n",
    "#Linear regresion coefficients for Design Capacity (DWT) model\n",
    "\n",
    "capacity_coefs = dict({\"intercept\": -1.6687441313*10**1,\n",
    "                     \"c1\": 9.7404521380*10**-1,\n",
    "                     \"c2\": -1.1068568208,\n",
    "                      })"
   ]
  },
  {
   "cell_type": "markdown",
   "metadata": {},
   "source": [
    "### 2. Capacity index\n",
    "Input:\n",
    "- T_empty = Empty draft\n",
    "- T_actual = Actual draft (maximum possible draft, taking ukc into account)"
   ]
  },
  {
   "cell_type": "code",
   "execution_count": 3,
   "metadata": {},
   "outputs": [],
   "source": [
    "def cap_index(T_empty, T_actual):\n",
    "    CI = CI_coefs[\"intercept\"] + (CI_coefs[\"c1\"] * T_empty) + (CI_coefs[\"c2\"] * T_empty**2) \\\n",
    "    + (CI_coefs[\"c3\"] * T_actual) + (CI_coefs[\"c4\"] * T_actual**2) \\\n",
    "    + (CI_coefs[\"c5\"] * (T_empty * T_actual))\n",
    "    \n",
    "    return CI"
   ]
  },
  {
   "cell_type": "markdown",
   "metadata": {},
   "source": [
    "### 3. Design draft\n",
    "\n",
    "Linear regression model to estimate the design draft when this parameter is not known.\n",
    "Input:\n",
    "\n",
    "- vessel = String of the vessel type (Container, Dry, Barge, Tanker)\n",
    "- L = Length of the vessel\n",
    "- B = Beam of the vessel"
   ]
  },
  {
   "cell_type": "code",
   "execution_count": 4,
   "metadata": {},
   "outputs": [],
   "source": [
    "def design_draft(vessel, L, B):\n",
    "    \n",
    "    if vessel == \"Container\":\n",
    "        [dum_container, dum_dry,\n",
    "        dum_barge, dum_tanker] = [1,0,0,0]\n",
    "        \n",
    "    elif vessel == \"Dry_SH\":\n",
    "        [dum_container, dum_dry,\n",
    "        dum_barge, dum_tanker] = [0,1,0,0]\n",
    "        \n",
    "    elif vessel == \"Dry_DH\":\n",
    "        [dum_container, dum_dry,\n",
    "        dum_barge, dum_tanker] = [0,1,0,0]\n",
    "        \n",
    "    elif vessel == \"Barge\":\n",
    "        [dum_container, dum_dry,\n",
    "        dum_barge, dum_tanker] = [0,0,1,0]\n",
    "        \n",
    "    elif vessel == \"Tanker\":\n",
    "        [dum_container, dum_dry,\n",
    "        dum_barge, dum_tanker] = [0,0,0,1]\n",
    "    \n",
    "    T_design = Tdesign_coefs['intercept'] \\\n",
    "    + (dum_container * Tdesign_coefs['c1']) + (dum_dry * Tdesign_coefs['c2']) + (dum_barge * Tdesign_coefs['c3']) + (dum_tanker * Tdesign_coefs['c4']) \\\n",
    "    + (Tdesign_coefs['c5'] * dum_container * L**0.4 * B**0.6) + (Tdesign_coefs['c6'] * dum_dry * L**0.7 * B**2.6) \\\n",
    "    + (Tdesign_coefs['c7'] * dum_barge * L**0.3 * B**1.8) + (Tdesign_coefs['c8'] * dum_tanker * L**0.1 * B**0.3)\n",
    "   \n",
    "    return T_design"
   ]
  },
  {
   "cell_type": "markdown",
   "metadata": {},
   "source": [
    "### 4. Empty draft\n",
    "\n",
    "Linear regression model to estimate the empty draft when this parameter is not known.\n",
    "Input:\n",
    "\n",
    "- vessel = String of the vessel type (Container, Dry_SH, Dry_DH, Barge, Tanker)\n",
    "- T_design = Design Draft\n",
    "- L = Length of the vessel\n",
    "- B = Beam of the vessel"
   ]
  },
  {
   "cell_type": "code",
   "execution_count": 5,
   "metadata": {},
   "outputs": [],
   "source": [
    "def empty_draft(vessel, T_design, L, B):\n",
    "    \n",
    "    if vessel == \"Container\":\n",
    "        [dum_container, dum_dry,\n",
    "        dum_barge, dum_tanker] = [1,0,0,0]\n",
    "        \n",
    "    elif vessel == \"Dry_SH\":\n",
    "        [dum_container, dum_dry,\n",
    "        dum_barge, dum_tanker] = [0,0,0,0]\n",
    "    \n",
    "    elif vessel == \"Dry_DH\":\n",
    "        [dum_container, dum_dry,\n",
    "        dum_barge, dum_tanker] = [0,1,0,0]\n",
    "    \n",
    "    elif vessel == \"Barge\":\n",
    "        [dum_container, dum_dry,\n",
    "        dum_barge, dum_tanker] = [0,0,1,0]\n",
    "        \n",
    "    elif vessel == \"Tanker\":\n",
    "        [dum_container, dum_dry,\n",
    "        dum_barge, dum_tanker] = [0,0,0,1]\n",
    "    \n",
    "    T_empty = Tempty_coefs['intercept'] \\\n",
    "    + (Tempty_coefs['c1'] * B) + (Tempty_coefs['c2'] * ((L * T_design) / B)) + (Tempty_coefs['c3'] * (np.sqrt(L * B))) \\\n",
    "    + (Tempty_coefs['c4'] * (L * B * T_design)) + (Tempty_coefs['c5'] * dum_container) + (Tempty_coefs['c5'] * dum_dry) \\\n",
    "    + (Tempty_coefs['c6'] * dum_tanker) + (Tempty_coefs['c7'] * dum_barge)\n",
    "    \n",
    "    return T_empty"
   ]
  },
  {
   "cell_type": "markdown",
   "metadata": {},
   "source": [
    "### 5. Design capacity\n",
    "\n",
    "Linear regression model to estimate the maximum capacity (DWT) when this parameter is not known.\n",
    "Input:\n",
    "\n",
    "- L = Length of the vessel\n",
    "- B = Beam of the vessel"
   ]
  },
  {
   "cell_type": "code",
   "execution_count": 6,
   "metadata": {},
   "outputs": [],
   "source": [
    "def design_capacity(T_design, T_empty, L, B):\n",
    "    \n",
    "    DWT = capacity_coefs['intercept'] + (capacity_coefs['c1'] * L * B * T_design) \\\n",
    "    + (capacity_coefs['c2'] * L * B * T_empty)\n",
    "    \n",
    "    return DWT"
   ]
  },
  {
   "cell_type": "markdown",
   "metadata": {},
   "source": [
    "### 6. Actual draft\n",
    "\n",
    "The actual draft is the draft which is maximum possible taking ukc and the water depth into account.\n",
    "\n",
    "- T_design = Design draft\n",
    "- T_empty = Empty draft\n",
    "- depth = minimum available water depth\n",
    "- ukc - under keel clearance (depends on river bed, cargo type and shippers choice"
   ]
  },
  {
   "cell_type": "code",
   "execution_count": 7,
   "metadata": {},
   "outputs": [],
   "source": [
    "def actual_draft(T_design, T_empty, depth, ukc):\n",
    "    \n",
    "    if (T_design <= depth-ukc):\n",
    "        \n",
    "        T_actual = T_design\n",
    "        \n",
    "    elif T_empty > (depth -ukc):\n",
    "        \n",
    "        T_actual =  (f\"No trip possible. Available depth smaller than empty draft: {depth - T_empty} m\")\n",
    "    \n",
    "    elif (T_design > depth):\n",
    "        \n",
    "        T_actual = depth - ukc\n",
    "        \n",
    "    \n",
    "    \n",
    "    return T_actual"
   ]
  },
  {
   "cell_type": "markdown",
   "metadata": {},
   "source": [
    "### 7. Application"
   ]
  },
  {
   "cell_type": "markdown",
   "metadata": {},
   "source": [
    "### 7.1 Calculation of tankers"
   ]
  },
  {
   "cell_type": "code",
   "execution_count": 8,
   "metadata": {},
   "outputs": [],
   "source": [
    "Tankers = {'type': ['Tanker','Tanker','Tanker'],\n",
    "        'CEMT-class':  ['IV','V','VI'],\n",
    "        'Length':[85, 110, 135],\n",
    "        'Width': [9.50, 11.40, 17.50],\n",
    "        'draft design':[2.77, 3.50, 5.02], #Deep water desing draft\n",
    "        'draft mod':[1.30, 1.40, 1.50]} # Minimum operational draft\n",
    "\n",
    "Tankers_df = pd.DataFrame (Tankers, columns = ['type','CEMT-class','Length','Width','draft design', 'draft mod'])\n",
    "\n",
    "#print(Tankers_df)"
   ]
  },
  {
   "cell_type": "code",
   "execution_count": 9,
   "metadata": {},
   "outputs": [
    {
     "name": "stdout",
     "output_type": "stream",
     "text": [
      "2.77 1316.0 1237 1.3 972 919\n",
      "3.5 2849.0 2679 1.4 1456 1342\n",
      "5.02 8759.0 8233 1.5 2680 2329\n"
     ]
    }
   ],
   "source": [
    "consumable_design=0.06\n",
    "consumable_lowwater=0.04\n",
    "ukc=0.2\n",
    "\n",
    "for index, row in Tankers_df.iterrows():\n",
    "    T_design = design_draft(row['type'], row['Length'], row['Width'])\n",
    "    T_empty = empty_draft(row['type'], T_design, row['Length'], row['Width'])\n",
    "    depth1=row['draft mod']+ukc\n",
    "    depth2=T_design+ukc\n",
    "    T_actual_1 = actual_draft(T_design, T_empty, depth=2.5, ukc=0.2)\n",
    "    T_actual_2 = actual_draft(T_design, T_empty, depth=depth2, ukc=0.2)\n",
    "    CI_1 = cap_index(T_empty, T_actual=T_actual_1) #Capacity index at depth1\n",
    "    CI_2 = cap_index(T_empty, T_actual=T_actual_2) #Capacity in dex at depth2 (maximum load factor)\n",
    "    DWT_dc = design_capacity(T_design, T_empty, row['Length'], row['Width']) #Calculate the design capacity\n",
    "    mod_capacity=DWT_dc*CI_1/CI_2 # Calculate the capacity for minimum operaional draft based on the design capacity of the vessel type\n",
    "    payload_design = (1-consumable_design)*DWT_dc\n",
    "    payload_lowwater = mod_capacity-consumable_lowwater*DWT_dc\n",
    "    print(round(T_design,2),round(DWT_dc,0), round(payload_design),row['draft mod'], round(mod_capacity), round(payload_lowwater))"
   ]
  },
  {
   "cell_type": "markdown",
   "metadata": {},
   "source": [
    "### 7.2 Calculation for Dry bulk Singel Hull vessels"
   ]
  },
  {
   "cell_type": "code",
   "execution_count": 10,
   "metadata": {},
   "outputs": [
    {
     "name": "stdout",
     "output_type": "stream",
     "text": [
      "     type CEMT-class  Length  Width  draft design  draft mod\n",
      "0  Dry_SH         II      55    6.0          2.41        1.2\n",
      "1  Dry_SH        III      80    8.2          2.67        1.2\n",
      "2  Dry_SH         IV      85    9.5          2.88        1.3\n",
      "3  Dry_SH          V     110   11.4          3.44        1.4\n",
      "4  Dry_SH         IV      85    9.5          2.88        1.3\n",
      "5  Dry_DH          V     110   11.4          3.44        1.4\n",
      "6  Dry_DH         VI     135   11.4          3.62        1.5\n"
     ]
    }
   ],
   "source": [
    "Dry_bulk = {'type': ['Dry_SH','Dry_SH','Dry_SH','Dry_SH','Dry_SH','Dry_DH','Dry_DH'],\n",
    "        'CEMT-class':  ['II', 'III','IV','V','IV','V','VI'],\n",
    "        'Length': [55, 80, 85, 110, 85, 110, 135],\n",
    "        'Width': [6.00, 8.20, 9.50, 11.40, 9.50, 11.40, 11.40],\n",
    "        'draft design':[2.41, 2.67, 2.88, 3.44, 2.88, 3.44, 3.62], #Deep water desing draft\n",
    "        'draft mod':[1.20, 1.20, 1.30, 1.40, 1.30, 1.40, 1.50]} # Minimum operational draft\n",
    "\n",
    "df = pd.DataFrame (Dry_bulk, columns = ['type','CEMT-class','Length','Width','draft design', 'draft mod'])\n",
    "\n",
    "print (df)"
   ]
  },
  {
   "cell_type": "code",
   "execution_count": 11,
   "metadata": {},
   "outputs": [
    {
     "name": "stdout",
     "output_type": "stream",
     "text": [
      "2.41 537.0 505 1.2 176 155\n",
      "2.67 1202.0 1130 1.2 309 261\n",
      "2.88 1612.0 1516 1.3 422 358\n",
      "3.44 3125.0 2937 1.4 710 585\n",
      "2.88 1612.0 1516 1.3 422 358\n",
      "3.44 2982.0 2803 1.4 588 469\n",
      "3.62 3944.0 3707 1.5 874 716\n"
     ]
    }
   ],
   "source": [
    "consumable_design=0.06\n",
    "consumable_lowwater=0.04\n",
    "ukc=0.1\n",
    "\n",
    "for index, row in df.iterrows():\n",
    "    T_design = design_draft(row['type'], row['Length'], row['Width'])\n",
    "    T_empty = empty_draft(row['type'], T_design, row['Length'], row['Width'])\n",
    "    depth1=row['draft mod']+ukc\n",
    "    depth2=T_design+ukc\n",
    "    T_actual_1 = actual_draft(T_design, T_empty, depth=depth1, ukc=0.1)\n",
    "    T_actual_2 = actual_draft(T_design, T_empty, depth=depth2, ukc=0.1)\n",
    "    CI_1 = cap_index(T_empty, T_actual=T_actual_1) #Capacity index at depth1\n",
    "    CI_2 = cap_index(T_empty, T_actual=T_actual_2) #Capacity in dex at depth2 (maximum load factor)\n",
    "    DWT_dc = design_capacity(T_design, T_empty, row['Length'], row['Width']) #Calculate the design capacity\n",
    "    mod_capacity=DWT_dc*CI_1/CI_2 # Calculate the capacity for minimum operaional draft based on the design capacity of the vessel type\n",
    "    payload_design = (1-consumable_design)*DWT_dc\n",
    "    payload_lowwater = mod_capacity-consumable_lowwater*DWT_dc\n",
    "    print(round(T_design,2),round(DWT_dc,0), round(payload_design),row['draft mod'], round(mod_capacity), round(payload_lowwater))"
   ]
  },
  {
   "cell_type": "markdown",
   "metadata": {},
   "source": [
    "### 7.3 Calculation for containervessels"
   ]
  },
  {
   "cell_type": "code",
   "execution_count": 12,
   "metadata": {},
   "outputs": [
    {
     "name": "stdout",
     "output_type": "stream",
     "text": [
      "        type CEMT-class  Length  Width  draft design  draft mod\n",
      "0  Container        III      63   7.00          2.78        1.2\n",
      "1  Container         IV      85   9.50          3.16        1.3\n",
      "2  Container          V     110  11.45          3.50        1.4\n",
      "3  Container         VI     135  14.25          3.93        1.5\n",
      "4  Container        VI+     135  17.50          4.22        1.5\n"
     ]
    }
   ],
   "source": [
    "Containervessels = {'type': ['Container','Container','Container','Container','Container'],\n",
    "        'CEMT-class':  ['III','IV','V','VI','VI+'],\n",
    "        'Length': [63, 85, 110, 135, 135],\n",
    "        'Width': [7.00, 9.50, 11.45, 14.25, 17.50],\n",
    "        'draft design':[2.78, 3.16, 3.50, 3.93, 4.22], #Deep water desing draft\n",
    "        'draft mod':[1.20, 1.30, 1.40, 1.50, 1.50]} # Minimum operational draft\n",
    "\n",
    "container_df = pd.DataFrame (Containervessels, columns = ['type','CEMT-class','Length','Width','draft design', 'draft mod'])\n",
    "\n",
    "print(container_df)"
   ]
  },
  {
   "cell_type": "code",
   "execution_count": 13,
   "metadata": {},
   "outputs": [
    {
     "name": "stdout",
     "output_type": "stream",
     "text": [
      "2.78 802 754 1.2 162 130\n",
      "3.16 1713 1610 1.3 318 250\n",
      "3.5 3066 2882 1.4 584 461\n",
      "3.93 5499 5169 1.5 1083 863\n",
      "4.22 7307 6868 1.5 1238 945\n"
     ]
    }
   ],
   "source": [
    "consumable_design=0.06\n",
    "consumable_lowwater=0.04\n",
    "ukc=0.2\n",
    "\n",
    "for index, row in container_df.iterrows():\n",
    "    T_design = design_draft(row['type'], row['Length'], row['Width'])\n",
    "    T_empty = empty_draft(row['type'], T_design, row['Length'], row['Width'])\n",
    "    depth1=row['draft mod']+ukc\n",
    "    depth2=T_design+ukc\n",
    "    T_actual_1 = actual_draft(T_design, T_empty, depth=depth1, ukc=0.2)\n",
    "    T_actual_2 = actual_draft(T_design, T_empty, depth=depth2, ukc=0.2)\n",
    "    CI_1 = cap_index(T_empty, T_actual=T_actual_1) #Capacity index at depth1\n",
    "    CI_2 = cap_index(T_empty, T_actual=T_actual_2) #Capacity in dex at depth2 (maximum load factor)\n",
    "    DWT_dc = design_capacity(T_design, T_empty, row['Length'], row['Width']) #Calculate the design capacity\n",
    "    mod_capacity=DWT_dc*CI_1/CI_2 # Calculate the capacity for minimum operaional draft based on the design capacity of the vessel type\n",
    "    payload_design = (1-consumable_design)*DWT_dc\n",
    "    payload_lowwater = mod_capacity-consumable_lowwater*DWT_dc\n",
    "    print(round(T_design,2),round(DWT_dc), round(payload_design),row['draft mod'], round(mod_capacity), round(payload_lowwater))"
   ]
  },
  {
   "cell_type": "markdown",
   "metadata": {},
   "source": [
    "### 7.4 Dumb barges"
   ]
  },
  {
   "cell_type": "code",
   "execution_count": 14,
   "metadata": {},
   "outputs": [
    {
     "name": "stdout",
     "output_type": "stream",
     "text": [
      "    type CEMT-class  Length  Width  draft design  draft mod\n",
      "0  Barge         IV      70    9.5          3.19        1.3\n",
      "1  Barge          V      77   11.4          3.98        1.4\n",
      "2  Barge          V      90   11.4          4.11        1.4\n"
     ]
    }
   ],
   "source": [
    "dumbbarges = {'type': ['Barge','Barge','Barge'],\n",
    "        'CEMT-class':  ['IV','V','V'],\n",
    "        'Length': [70, 77, 90],\n",
    "        'Width': [9.50, 11.40, 11.40],\n",
    "        'draft design':[3.19, 3.98, 4.11], #Deep water desing draft\n",
    "        'draft mod':[1.30, 1.40, 1.40]} # Minimum operational draft\n",
    "\n",
    "dumbbarges_df = pd.DataFrame (dumbbarges, columns = ['type','CEMT-class','Length','Width','draft design', 'draft mod'])\n",
    "\n",
    "print(dumbbarges_df)"
   ]
  },
  {
   "cell_type": "code",
   "execution_count": 15,
   "metadata": {},
   "outputs": [
    {
     "name": "stdout",
     "output_type": "stream",
     "text": [
      "3.19 1649 1649 1.3 472 472\n",
      "3.98 2763 2763 1.4 604 604\n",
      "4.11 3370 3370 1.4 716 716\n"
     ]
    }
   ],
   "source": [
    "consumable_design=0.00\n",
    "consumable_lowwater=0.00\n",
    "ukc=0.2\n",
    "\n",
    "for index, row in dumbbarges_df.iterrows():\n",
    "    T_design = design_draft(row['type'], row['Length'], row['Width'])\n",
    "    T_empty = empty_draft(row['type'], T_design, row['Length'], row['Width'])\n",
    "    depth1=row['draft mod']+ukc\n",
    "    depth2=T_design+ukc\n",
    "    T_actual_1 = actual_draft(T_design, T_empty, depth=depth1, ukc=0.2)\n",
    "    T_actual_2 = actual_draft(T_design, T_empty, depth=depth2, ukc=0.2)\n",
    "    CI_1 = cap_index(T_empty, T_actual=T_actual_1) #Capacity index at depth1\n",
    "    CI_2 = cap_index(T_empty, T_actual=T_actual_2) #Capacity in dex at depth2 (maximum load factor)\n",
    "    DWT_dc = design_capacity(T_design, T_empty, row['Length'], row['Width']) #Calculate the design capacity\n",
    "    mod_capacity=DWT_dc*CI_1/CI_2 # Calculate the capacity for minimum operaional draft based on the design capacity of the vessel type\n",
    "    payload_design = (1-consumable_design)*DWT_dc\n",
    "    payload_lowwater = mod_capacity-consumable_lowwater*DWT_dc\n",
    "    print(round(T_design,2),round(DWT_dc), round(payload_design),row['draft mod'], round(mod_capacity), round(payload_lowwater))"
   ]
  },
  {
   "cell_type": "markdown",
   "metadata": {},
   "source": [
    "General application by hand"
   ]
  },
  {
   "cell_type": "code",
   "execution_count": 16,
   "metadata": {},
   "outputs": [
    {
     "name": "stdout",
     "output_type": "stream",
     "text": [
      "The vesseltype is Dry_SH with dimensions 110x11.4 m\n",
      "The design draft is: 3.44 m\n",
      "The empty draft is: 0.76 m\n",
      "The actual draft for depth1 is: 1.4 m\n",
      "The actual draft for depth2 is: 3.44 m\n",
      "The capacity index for depth1 is: 35.63\n",
      "The capacity index for depth2 is: 156.72\n",
      "The capacity for minimum operational draft is: 710.0 t\n",
      "The design capacity is: 3125.0 t\n",
      "The payload for design draft is: 2937 t\n",
      "The capacity for minimum operational draft is: 710.0 t\n",
      "The payload for minimum operational draft is: 585 t\n"
     ]
    }
   ],
   "source": [
    "# Input variables\n",
    "\n",
    "vessel = \"Dry_SH\"\n",
    "L = 110\n",
    "B = 11.4\n",
    "depth1 = 1.5\n",
    "depth2 = 3.6\n",
    "\n",
    "print(f\"The vesseltype is {vessel} with dimensions {L}x{B} m\")\n",
    "\n",
    "#Calculate the design draft\n",
    "\n",
    "T_design = design_draft(vessel, L, B)\n",
    "print (f\"The design draft is: {round(T_design, 2)} m\")\n",
    "\n",
    "#Caluclate the empty draft\n",
    "\n",
    "T_empty = empty_draft(vessel, T_design, L, B)\n",
    "print (f\"The empty draft is: {round(T_empty, 2)} m\")\n",
    "\n",
    "#Calculate the actual draft\n",
    "\n",
    "T_actual_1 = actual_draft(T_design, T_empty, depth=depth1, ukc=0.1)\n",
    "T_actual_2 = actual_draft(T_design, T_empty, depth=depth2, ukc=0.1)\n",
    "\n",
    "print (f\"The actual draft for depth1 is: {round(T_actual_1, 2)} m\")\n",
    "print (f\"The actual draft for depth2 is: {round(T_actual_2, 2)} m\")\n",
    "\n",
    "#Calculate the capacity index\n",
    "\n",
    "CI_1 = cap_index(T_empty, T_actual=T_actual_1) #Capacity index at depth1\n",
    "CI_2 = cap_index(T_empty, T_actual=T_actual_2) #Capacity in dex at depth2 (maximum load factor)\n",
    "\n",
    "print (f\"The capacity index for depth1 is: {round(CI_1, 2)}\")\n",
    "print (f\"The capacity index for depth2 is: {round(CI_2, 2)}\")\n",
    "\n",
    "#Calculate the design capacity\n",
    "\n",
    "DWT_dc = design_capacity(T_design, T_empty, L, B)\n",
    "#print (f\"The design capacity is: {round(DWT_dc, 0)} t\")\n",
    "\n",
    "# Calculate the capacity for minimum operaional draft based on the design capacity of the vessel type\n",
    "\n",
    "mod_capacity=DWT_dc*CI_1/CI_2\n",
    "\n",
    "print(f\"The capacity for minimum operational draft is: {round(mod_capacity,0)} t\")\n",
    "\n",
    "#Define the payload at design conditions by subtracting an assumed percentage of the DWT for consumables: default = 6%\n",
    "consumable_design=0.06\n",
    "consumable_lowwater=0.04\n",
    "\n",
    "payload_design = (1-consumable_design)*DWT_dc\n",
    "payload_lowwater = mod_capacity-consumable_lowwater*DWT_dc\n",
    "\n",
    "print (f\"The design capacity is: {round(DWT_dc, 0)} t\")\n",
    "print(f\"The payload for design draft is: {round(payload_design)} t\")\n",
    "print(f\"The capacity for minimum operational draft is: {round(mod_capacity,0)} t\")\n",
    "print(f\"The payload for minimum operational draft is: {round(payload_lowwater)} t\")"
   ]
  },
  {
   "cell_type": "code",
   "execution_count": 17,
   "metadata": {},
   "outputs": [],
   "source": [
    "# TODO: this variable was undefined, I now define it like this.\n",
    "DWT = design_capacity(T_design, T_empty, L, B)\n"
   ]
  },
  {
   "cell_type": "code",
   "execution_count": 18,
   "metadata": {},
   "outputs": [
    {
     "name": "stdout",
     "output_type": "stream",
     "text": [
      "The relative capacity index is: 156.72\n",
      "The baseline capacity is: 1993.78 t\n",
      "The absolyte capacity is 710.29 t\n",
      "The load factor at 1.5m is: 0.23\n"
     ]
    }
   ],
   "source": [
    "#Application of the capacity index to calculate the load factor\n",
    "\n",
    "RCI = CI_2\n",
    "print (f\"The relative capacity index is: {round(RCI,2)}\")\n",
    "\n",
    "#Baseline capacity\n",
    "\n",
    "BC = (DWT / RCI) * 100\n",
    "print (f\"The baseline capacity is: {round(BC, 2)} t\")\n",
    "\n",
    "#The absolute capacity at 1.6m (depth1):\n",
    "\n",
    "AC = (BC * (CI_1 / 100))\n",
    "print (f\"The absolyte capacity is {round(AC, 2)} t\")\n",
    "\n",
    "#The load facor\n",
    "\n",
    "lf = (AC / DWT)\n",
    "print (f\"The load factor at {depth1}m is: {round(lf, 2)}\")"
   ]
  },
  {
   "cell_type": "markdown",
   "metadata": {},
   "source": [
    "### 8. Comparison with linear interpolation "
   ]
  },
  {
   "cell_type": "code",
   "execution_count": 19,
   "metadata": {},
   "outputs": [
    {
     "name": "stdout",
     "output_type": "stream",
     "text": [
      "Load facor: 0.49\n"
     ]
    }
   ],
   "source": [
    "vessel = \"Dry\"\n",
    "L = 135\n",
    "B = 11.40\n",
    "depth1 = 2.4\n",
    "depth2 = 3.7\n",
    "\n",
    "T_design = 3.00 #Input variable in OpenCLSim model\n",
    "T_empty = 1.00 #Input variable in OpenCLSim model\n",
    "\n",
    "\n",
    "T_actual_1 = actual_draft(T_design, T_empty, depth1, ukc=0.25)\n",
    "T_actual_2 = actual_draft(T_design, T_empty, depth2, ukc=0.25)\n",
    "\n",
    "CI_1 = cap_index(T_empty, T_actual=T_actual_1)\n",
    "CI_2 = cap_index(T_empty, T_actual=T_actual_2)\n",
    "\n",
    "DWT = 3900 #Input variable in OpenCLSim model\n",
    "\n",
    "#Baseline capacity\n",
    "BC = DWT/RCI * 100\n",
    "\n",
    "#Absolute capacity at 2.4m (depth1)\n",
    "AC = (BC * (CI_1 / 100))\n",
    "\n",
    "#Load factor\n",
    "\n",
    "lf = (AC / (DWT))\n",
    "print (f\"Load facor: {round(lf, 2)}\")"
   ]
  },
  {
   "cell_type": "markdown",
   "metadata": {},
   "source": [
    "# CapacityIndex Class"
   ]
  },
  {
   "cell_type": "code",
   "execution_count": 20,
   "metadata": {},
   "outputs": [],
   "source": [
    "Length = 110\n",
    "Beam = 11.45\n",
    "\n",
    "class CapacityIndex():\n",
    "    \n",
    "    def __init__(self, Length, Beam, *args, **kwargs):\n",
    "        super().__init__(*args, **kwargs)\n",
    "        self.Length = Length\n",
    "        self.Beam = Beam\n",
    "        \n",
    "        \n",
    "    def design_draft(self, vessel):\n",
    "        \n",
    "        \n",
    "        Tdesign_coefs = dict({\"intercept\":0,\n",
    "                         \"c1\": 1.7244153371,\n",
    "                         \"c2\": 2.2767179246,\n",
    "                         \"c3\": 1.3365379898,\n",
    "                         \"c4\": -5.9459308905,\n",
    "                         \"c5\": 6.2902305560*10**-2,\n",
    "                         \"c6\": 7.7398861528*10**-5,\n",
    "                         \"c7\": 9.0052384439*10**-3,\n",
    "                         \"c8\": 2.8438560877\n",
    "                         })\n",
    "\n",
    "    \n",
    "        if vessel == \"Container\":\n",
    "            [dum_container, dum_dry,\n",
    "            dum_barge, dum_tanker] = [1,0,0,0]\n",
    "\n",
    "        elif vessel == \"Dry\":\n",
    "            [dum_container, dum_dry,\n",
    "            dum_barge, dum_tanker] = [0,1,0,0]\n",
    "\n",
    "        elif vessel == \"Barge\":\n",
    "            [dum_container, dum_dry,\n",
    "            dum_barge, dum_tanker] = [0,0,1,0]\n",
    "\n",
    "        elif vessel == \"Tanker\":\n",
    "            [dum_container, dum_dry,\n",
    "            dum_barge, dum_tanker] = [0,0,0,1]\n",
    "\n",
    "        T_design = Tdesign_coefs['intercept'] \\\n",
    "        + (dum_container * Tdesign_coefs['c1']) + (dum_dry * Tdesign_coefs['c2']) + (dum_barge * Tdesign_coefs['c3']) + (dum_tanker * Tdesign_coefs['c4']) \\\n",
    "        + (Tdesign_coefs['c5'] * dum_container * Length**0.4 * B**0.6) + (Tdesign_coefs['c6'] * dum_dry * Length**0.7 * B**2.6) \\\n",
    "        + (Tdesign_coefs['c7'] * dum_barge * Length**0.3 * B**1.8) + (Tdesign_coefs['c8'] * dum_tanker * Length**0.1 * B**0.3)\n",
    "        \n",
    "        return T_design\n",
    "    \n",
    "    def empty_draft(self, vessel, T_design):\n",
    "    \n",
    "        if vessel == \"Container\":\n",
    "            [dum_container, dum_dry,\n",
    "            dum_barge, dum_tanker] = [1,0,0,0]\n",
    "\n",
    "        elif vessel == \"Dry\":\n",
    "            [dum_container, dum_dry,\n",
    "            dum_barge, dum_tanker] = [0,1,0,0]\n",
    "\n",
    "        elif vessel == \"Barge\":\n",
    "            [dum_container, dum_dry,\n",
    "            dum_barge, dum_tanker] = [0,0,1,0]\n",
    "\n",
    "        elif vessel == \"Tanker\":\n",
    "            [dum_container, dum_dry,\n",
    "            dum_barge, dum_tanker] = [0,0,0,1]\n",
    "\n",
    "        T_empty = Tempty_coefs['intercept'] \\\n",
    "        + (Tempty_coefs['c1'] * Beam) + (Tempty_coefs['c2'] * ((Length * T_design) / Beam)) + (Tempty_coefs['c3'] * (np.sqrt(Length * Beam))) \\\n",
    "        + (Tempty_coefs['c4'] * (Length * Beam * T_design)) + (Tempty_coefs['c5'] * dum_container) + (Tempty_coefs['c5'] * dum_dry) \\\n",
    "        + (Tempty_coefs['c6'] * dum_tanker) + (Tempty_coefs['c7'] * dum_barge)\n",
    "\n",
    "        return T_empty\n",
    "    \n",
    "    def actual_draft(self, depth, ukc):\n",
    "    \n",
    "        if (T_design <= depth):\n",
    "\n",
    "            T_actual = T_design\n",
    "\n",
    "        elif T_empty > (depth -ukc):\n",
    "\n",
    "            T_actual =  (f\"No trip possible. Available depth smaller than empty draft: {depth - T_empty} m\")\n",
    "\n",
    "        elif (T_design > depth):\n",
    "\n",
    "            T_actual = depth - ukc\n",
    "\n",
    "        return T_actual\n",
    "    \n",
    "    def cap_index(self, T_empty, T_actual):\n",
    "        \n",
    "        CI = CI_coefs[\"intercept\"] + (CI_coefs[\"c1\"] * T_empty) + (CI_coefs[\"c2\"] * T_empty**2) \\\n",
    "        + (CI_coefs[\"c3\"] * T_actual) + (CI_coefs[\"c4\"] * T_actual**2) \\\n",
    "        + (CI_coefs[\"c5\"] * (T_empty * T_actual))\n",
    "\n",
    "        return CI\n",
    "    \n",
    "    def design_capacity(self, T_design, T_empty):\n",
    "    \n",
    "        DWT = capacity_coefs['intercept'] + (capacity_coefs['c1'] * Length * Beam * T_design) \\\n",
    "        + (capacity_coefs['c2'] * Length * Beam * T_empty)\n",
    "\n",
    "        return DWT"
   ]
  },
  {
   "cell_type": "code",
   "execution_count": 21,
   "metadata": {},
   "outputs": [],
   "source": [
    "Va = CapacityIndex(110, 11.45)\n",
    "\n",
    "T_design = Va.design_draft(\"Container\")\n",
    "T_empty = Va.empty_draft(\"Container\", T_design=T_design)\n",
    "T_actual_1 = Va.actual_draft(depth=1.6, ukc=0.2)\n",
    "T_actual_2 = Va.actual_draft(depth=3.7, ukc=0.2)\n",
    "\n",
    "Capindex_1 = Va.cap_index(T_empty=T_empty, T_actual=T_actual_1)\n",
    "Capindex_2 = Va.cap_index(T_empty=T_empty, T_actual=T_actual_2)\n",
    "DWT = Va.design_capacity(T_design, T_empty)"
   ]
  },
  {
   "cell_type": "code",
   "execution_count": 22,
   "metadata": {},
   "outputs": [
    {
     "data": {
      "text/plain": [
       "0.19085094068807798"
      ]
     },
     "execution_count": 22,
     "metadata": {},
     "output_type": "execute_result"
    }
   ],
   "source": [
    "#Baseline cap\n",
    "BC = (DWT / Capindex_2) * 100\n",
    "AC = BC * (Capindex_1/100)\n",
    "AC\n",
    "lf = AC/DWT\n",
    "lf"
   ]
  }
 ],
 "metadata": {
  "kernelspec": {
   "display_name": "Python 3 (ipykernel)",
   "language": "python",
   "name": "python3"
  },
  "language_info": {
   "codemirror_mode": {
    "name": "ipython",
    "version": 3
   },
   "file_extension": ".py",
   "mimetype": "text/x-python",
   "name": "python",
   "nbconvert_exporter": "python",
   "pygments_lexer": "ipython3",
   "version": "3.8.8"
  }
 },
 "nbformat": 4,
 "nbformat_minor": 4
}
