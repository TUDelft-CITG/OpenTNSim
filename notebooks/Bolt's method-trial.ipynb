{
 "cells": [
  {
   "cell_type": "code",
   "execution_count": 5,
   "id": "c113c387",
   "metadata": {},
   "outputs": [
    {
     "ename": "ModuleNotFoundError",
     "evalue": "No module named 'pyproj'",
     "output_type": "error",
     "traceback": [
      "\u001b[1;31m---------------------------------------------------------------------------\u001b[0m",
      "\u001b[1;31mModuleNotFoundError\u001b[0m                       Traceback (most recent call last)",
      "Input \u001b[1;32mIn [5]\u001b[0m, in \u001b[0;36m<cell line: 19>\u001b[1;34m()\u001b[0m\n\u001b[0;32m     16\u001b[0m \u001b[38;5;28;01mimport\u001b[39;00m \u001b[38;5;21;01mpandas\u001b[39;00m \u001b[38;5;28;01mas\u001b[39;00m \u001b[38;5;21;01mpd\u001b[39;00m\n\u001b[0;32m     18\u001b[0m \u001b[38;5;66;03m# spatial libraries\u001b[39;00m\n\u001b[1;32m---> 19\u001b[0m \u001b[38;5;28;01mimport\u001b[39;00m \u001b[38;5;21;01mpyproj\u001b[39;00m\n\u001b[0;32m     20\u001b[0m \u001b[38;5;28;01mimport\u001b[39;00m \u001b[38;5;21;01mshapely\u001b[39;00m\u001b[38;5;21;01m.\u001b[39;00m\u001b[38;5;21;01mgeometry\u001b[39;00m\n\u001b[0;32m     22\u001b[0m \u001b[38;5;66;03m# you need these dependencies (you can get these from anaconda)\u001b[39;00m\n\u001b[0;32m     23\u001b[0m \u001b[38;5;66;03m# package(s) related to the simulation\u001b[39;00m\n",
      "\u001b[1;31mModuleNotFoundError\u001b[0m: No module named 'pyproj'"
     ]
    }
   ],
   "source": [
    "# package(s) related to time, space and id\n",
    "import datetime\n",
    "\n",
    "# Used for mathematical functions\n",
    "import math\n",
    "import platform\n",
    "import time\n",
    "\n",
    "import matplotlib.pyplot as plt\n",
    "\n",
    "# Used for making the graph to visualize our problem\n",
    "import networkx as nx\n",
    "\n",
    "# package(s) for data handling\n",
    "import numpy as np\n",
    "import pandas as pd\n",
    "\n",
    "# spatial libraries\n",
    "import pyproj\n",
    "import shapely.geometry\n",
    "\n",
    "# you need these dependencies (you can get these from anaconda)\n",
    "# package(s) related to the simulation\n",
    "import simpy\n",
    "from simplekml import Kml, Style\n",
    "\n",
    "# OpenTNSim\n",
    "import opentnsim"
   ]
  },
  {
   "cell_type": "code",
   "execution_count": 6,
   "id": "114903c8",
   "metadata": {},
   "outputs": [],
   "source": [
    "def Rf (ρ,V,cf,S):\n",
    "    print (\" Density: \", ρ)\n",
    "    print (\" Velocity: \", V)\n",
    "    print (\" Frictional coefficient: \", cf)\n",
    "    print (\" Wetsurface : \", S)\n",
    "    Rfrictional = 0.5 * ρ *(V^2) * cf * S\n",
    "    return Rfrictional"
   ]
  },
  {
   "cell_type": "code",
   "execution_count": 7,
   "id": "ebbd1908",
   "metadata": {},
   "outputs": [
    {
     "name": "stdout",
     "output_type": "stream",
     "text": [
      " Density:  1000\n",
      " Velocity:  3\n",
      " Frictional coefficient:  0.15\n",
      " Wetsurface :  400\n",
      "30000.0\n"
     ]
    }
   ],
   "source": [
    "Frictionalresistance = Rf (1000, 3, 0.15, 400)\n",
    "print ( Frictionalresistance )"
   ]
  },
  {
   "cell_type": "code",
   "execution_count": 14,
   "id": "1174f8be",
   "metadata": {},
   "outputs": [],
   "source": [
    "def Rp (ρ,V,cp,Am):\n",
    "    print (\" Density: \", ρ)\n",
    "    print (\" Velocity: \", V)\n",
    "    print (\" Frictional coefficient: \", cp)\n",
    "    print (\" Midship immersed part : \", Am)\n",
    "    Rpressure = 0.5 * ρ *(V ^ 2) * cp * Am\n",
    "    return Rpressure"
   ]
  },
  {
   "cell_type": "code",
   "execution_count": 18,
   "id": "5f380c96",
   "metadata": {},
   "outputs": [
    {
     "name": "stdout",
     "output_type": "stream",
     "text": [
      " Density:  1000\n",
      " Velocity:  3\n",
      " Frictional coefficient:  0.1\n",
      " Midship immersed part :  240\n",
      "12000.0\n"
     ]
    }
   ],
   "source": [
    "Pressureresistance = Rp (1000, 3, 0.1, 240)\n",
    "print ( Pressureresistance )"
   ]
  },
  {
   "cell_type": "code",
   "execution_count": 16,
   "id": "bcb9f4e9",
   "metadata": {},
   "outputs": [],
   "source": [
    "# Shallow water effect- Waterlevel depression\n",
    "# Based on Schijf theory\n",
    "\n",
    "def Rz (ρ,g,z,cz,Am):\n",
    "    print (\" Density: \", ρ)\n",
    "    print (\" Gravitational acceleration: \", g)\n",
    "    print (\" Depression: \", z)\n",
    "    print (\" Depression coefficient: \", cz)\n",
    "    print (\" Midship immersed part : \", Am)\n",
    "    Rshallow = ρ *g *z * cz * Am\n",
    "    return Rz"
   ]
  },
  {
   "cell_type": "code",
   "execution_count": 19,
   "id": "7b83f39d",
   "metadata": {},
   "outputs": [
    {
     "name": "stdout",
     "output_type": "stream",
     "text": [
      " Density:  1000\n",
      " Gravitational acceleration:  9.81\n",
      " Depression:  0.5\n",
      " Depression coefficient:  0.1\n",
      " Midship immersed part :  240\n",
      "<function Rz at 0x0000011E171BC550>\n"
     ]
    }
   ],
   "source": [
    "Shallowresistance = Rz (1000, 9.81, 0.5, 0.1, 240)\n",
    "print ( Shallowresistance )"
   ]
  },
  {
   "cell_type": "code",
   "execution_count": null,
   "id": "23128af3",
   "metadata": {},
   "outputs": [],
   "source": [
    "# "
   ]
  }
 ],
 "metadata": {
  "kernelspec": {
   "display_name": "Python 3 (ipykernel)",
   "language": "python",
   "name": "python3"
  },
  "language_info": {
   "codemirror_mode": {
    "name": "ipython",
    "version": 3
   },
   "file_extension": ".py",
   "mimetype": "text/x-python",
   "name": "python",
   "nbconvert_exporter": "python",
   "pygments_lexer": "ipython3",
   "version": "3.9.12"
  }
 },
 "nbformat": 4,
 "nbformat_minor": 5
}
