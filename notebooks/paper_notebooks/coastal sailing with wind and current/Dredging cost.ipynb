{
 "cells": [
  {
   "cell_type": "code",
   "execution_count": 1,
   "id": "cdb7655a-c12d-48cd-bee6-081c3400ec0c",
   "metadata": {},
   "outputs": [
    {
     "data": {
      "image/png": "[encoded data removed]",
      "text/plain": [
       "<Figure size 640x480 with 1 Axes>"
      ]
     },
     "metadata": {},
     "output_type": "display_data"
    }
   ],
   "source": [
    "import matplotlib.pyplot as plt\n",
    "\n",
    "def dredging_barge_cost(scenario, equipment_cost_per_week, energy_cost_per_kwh, daily_energy_use, emission_cost_per_ton, emission_tons_per_week, personnel_cost_per_week, financing_rate, maintenance_and_repair_cost_per_week):\n",
    "    if scenario == \"fastTSHD\":\n",
    "        # Additional costs or variables specific to fastTSHD scenario\n",
    "        pass\n",
    "    elif scenario == \"slowTSHD\":\n",
    "        # Additional costs or variables specific to slowTSHD scenario\n",
    "        pass\n",
    "    elif scenario == \"3bargSemi\":\n",
    "        # Additional costs or variables specific to 3bargSemi scenario\n",
    "        pass\n",
    "    elif scenario == \"3bargnon\":\n",
    "        # Additional costs or variables specific to 3bargnon scenario\n",
    "        pass\n",
    "    elif scenario == \"2bargTSHD\":\n",
    "        # Additional costs or variables specific to 2bargTSHD scenario\n",
    "        pass\n",
    "    else:\n",
    "        # Handle invalid scenario\n",
    "        pass\n",
    "    # Energy use cost\n",
    "    energy_cost = energy_cost_per_kwh * daily_energy_use * 7\n",
    "    # Emission cost\n",
    "    emission_cost = emission_cost_per_ton * emission_tons_per_week\n",
    "    # Depreciation and Interest cost\n",
    "    financing_cost = equipment_cost_per_week * financing_rate\n",
    "    # Total cost\n",
    "    total_cost = equipment_cost_per_week + energy_cost + emission_cost + personnel_cost_per_week + maintenance_and_repair_cost_per_week + financing_cost\n",
    "    return [equipment_cost_per_week, energy_cost, emission_cost, personnel_cost_per_week, maintenance_and_repair_cost_per_week, financing_cost], total_cost\n",
    "\n",
    "\n",
    "# Example usage\n",
    "scenario = \"fastTSHD\"\n",
    "equipment_cost_per_week = 5000\n",
    "energy_cost_per_kwh = 0.15\n",
    "daily_energy_use = 100 # in kWh\n",
    "emission_cost_per_ton = 50\n",
    "emission_tons_per_week = 2\n",
    "personnel_cost_per_week = 15000\n",
    "financing_rate = 0.15\n",
    "maintenance_and_repair_cost_per_week = 1500\n",
    "\n",
    "costs, total_cost = dredging_barge_cost(scenario, equipment_cost_per_week, energy_cost_per_kwh, daily_energy_use, emission_cost_per_ton, emission_tons_per_week, personnel_cost_per_week, financing_rate, maintenance_and_repair_cost_per_week)\n",
    "\n",
    "# Plot the bar chart\n",
    "cost_categories = ['Equipment', 'Energy', 'Emission', 'Personnel', 'Maintenance & Repair', 'Financing']\n",
    "plt.bar(cost_categories, costs)\n",
    "plt.ylabel('Cost')\n",
    "plt.title('Dredging Barge Cost Breakdown')\n",
    "plt.show()"
   ]
  },
  {
   "cell_type": "code",
   "execution_count": 2,
   "id": "c0d53fe8-d1dd-48ed-9884-134716fa044b",
   "metadata": {},
   "outputs": [
    {
     "name": "stdout",
     "output_type": "stream",
     "text": [
      "178.57142857142858\n"
     ]
    }
   ],
   "source": [
    "def dredging_cycles(sand_volume, workability_rate, barge_volume, hours_per_day):\n",
    "    # Convert workability rate from percentage to decimal\n",
    "    workability_rate = workability_rate / 100\n",
    "    # Calculate the number of dredging cycles required\n",
    "    cycles = sand_volume / (workability_rate * barge_volume * hours_per_day)\n",
    "    return cycles\n",
    "\n",
    "# Example usage\n",
    "sand_volume = 1000000 # in m^3\n",
    "workability_rate = 70 # in %\n",
    "barge_volume = 1000 # in m^3\n",
    "hours_per_day = 8\n",
    "\n",
    "cycles = dredging_cycles(sand_volume, workability_rate, barge_volume, hours_per_day)\n",
    "print(cycles)"
   ]
  },
  {
   "cell_type": "code",
   "execution_count": 3,
   "id": "d9af4331-5ff5-4b06-b866-e2f0db269889",
   "metadata": {},
   "outputs": [
    {
     "name": "stdout",
     "output_type": "stream",
     "text": [
      "0.022455 1.5e-05\n"
     ]
    }
   ],
   "source": [
    "def dredging_cost_m3(scenario, equipment_cost_per_week, energy_cost_per_kwh, daily_energy_use, emission_cost_per_ton, emission_tons_per_week, personnel_cost_per_week, financing_rate, maintenance_and_repair_cost_per_week, sand_volume):\n",
    "    if scenario == \"fastTSHD\":\n",
    "        # Additional costs or variables specific to fastTSHD scenario\n",
    "        pass\n",
    "    elif scenario == \"slowTSHD\":\n",
    "        # Additional costs or variables specific to slowTSHD scenario\n",
    "        pass\n",
    "    elif scenario == \"3bargSemi\":\n",
    "        # Additional costs or variables specific to 3bargSemi scenario\n",
    "        pass\n",
    "    elif scenario == \"3bargnon\":\n",
    "        # Additional costs or variables specific to 3bargnon scenario\n",
    "        pass\n",
    "    elif scenario == \"2bargTSHD\":\n",
    "        # Additional costs or variables specific to 2bargTSHD scenario\n",
    "        pass\n",
    "    else:\n",
    "        # Handle invalid scenario\n",
    "        pass\n",
    "    # Energy use cost\n",
    "    energy_cost = energy_cost_per_kwh * daily_energy_use * 7\n",
    "    # Emission cost\n",
    "    emission_cost = emission_cost_per_ton * emission_tons_per_week\n",
    "    # Depreciation and Interest cost\n",
    "    financing_cost = equipment_cost_per_week * financing_rate\n",
    "    # Total cost\n",
    "    total_cost = equipment_cost_per_week + energy_cost + emission_cost + personnel_cost_per_week + maintenance_and_repair_cost_per_week + financing_cost\n",
    "    # Cost per m^3 of sand\n",
    "    cost_per_m3_sand = total_cost / sand_volume\n",
    "    # Energy demand per m^3 of sand\n",
    "    energy_demand_per_m3_sand = (energy_cost_per_kwh * daily_energy_use) / sand_volume\n",
    "    return cost_per_m3_sand, energy_demand_per_m3_sand\n",
    "\n",
    "\n",
    "cost_per_m3, energy_demand_per_m3 = dredging_cost_m3(scenario, equipment_cost_per_week, energy_cost_per_kwh, daily_energy_use, emission_cost_per_ton, emission_tons_per_week, personnel_cost_per_week, financing_rate, maintenance_and_repair_cost_per_week,sand_volume)\n",
    "print(cost_per_m3,energy_demand_per_m3)"
   ]
  },
  {
   "cell_type": "code",
   "execution_count": 4,
   "id": "7ffd7aae-990d-44df-b448-bd445e7af6d2",
   "metadata": {},
   "outputs": [
    {
     "name": "stderr",
     "output_type": "stream",
     "text": [
      "Exception in callback BaseSelectorEventLoop._read_from_self()\n",
      "handle: <Handle BaseSelectorEventLoop._read_from_self()>\n",
      "Traceback (most recent call last):\n",
      "  File \"C:\\Users\\NLFLKO\\Anaconda3\\envs\\sim3\\lib\\asyncio\\events.py\", line 80, in _run\n",
      "    self._context.run(self._callback, *self._args)\n",
      "  File \"C:\\Users\\NLFLKO\\Anaconda3\\envs\\sim3\\lib\\asyncio\\selector_events.py\", line 115, in _read_from_self\n",
      "    data = self._ssock.recv(4096)\n",
      "ConnectionResetError: [WinError 10054] De externe host heeft een verbinding verbroken\n",
      "Exception in callback BaseSelectorEventLoop._read_from_self()\n",
      "handle: <Handle BaseSelectorEventLoop._read_from_self()>\n",
      "Traceback (most recent call last):\n",
      "  File \"C:\\Users\\NLFLKO\\Anaconda3\\envs\\sim3\\lib\\asyncio\\events.py\", line 80, in _run\n",
      "    self._context.run(self._callback, *self._args)\n",
      "  File \"C:\\Users\\NLFLKO\\Anaconda3\\envs\\sim3\\lib\\asyncio\\selector_events.py\", line 115, in _read_from_self\n",
      "    data = self._ssock.recv(4096)\n",
      "ConnectionResetError: [WinError 10054] De externe host heeft een verbinding verbroken\n",
      "Exception in callback BaseSelectorEventLoop._read_from_self()\n",
      "handle: <Handle BaseSelectorEventLoop._read_from_self()>\n",
      "Traceback (most recent call last):\n",
      "  File \"C:\\Users\\NLFLKO\\Anaconda3\\envs\\sim3\\lib\\asyncio\\events.py\", line 80, in _run\n",
      "    self._context.run(self._callback, *self._args)\n",
      "  File \"C:\\Users\\NLFLKO\\Anaconda3\\envs\\sim3\\lib\\asyncio\\selector_events.py\", line 115, in _read_from_self\n",
      "    data = self._ssock.recv(4096)\n",
      "ConnectionResetError: [WinError 10054] De externe host heeft een verbinding verbroken\n",
      "Exception in callback BaseSelectorEventLoop._read_from_self()\n",
      "handle: <Handle BaseSelectorEventLoop._read_from_self()>\n",
      "Traceback (most recent call last):\n",
      "  File \"C:\\Users\\NLFLKO\\Anaconda3\\envs\\sim3\\lib\\asyncio\\events.py\", line 80, in _run\n",
      "    self._context.run(self._callback, *self._args)\n",
      "  File \"C:\\Users\\NLFLKO\\Anaconda3\\envs\\sim3\\lib\\asyncio\\selector_events.py\", line 115, in _read_from_self\n",
      "    data = self._ssock.recv(4096)\n",
      "ConnectionResetError: [WinError 10054] De externe host heeft een verbinding verbroken\n",
      "Exception in callback BaseSelectorEventLoop._read_from_self()\n",
      "handle: <Handle BaseSelectorEventLoop._read_from_self()>\n",
      "Traceback (most recent call last):\n",
      "  File \"C:\\Users\\NLFLKO\\Anaconda3\\envs\\sim3\\lib\\asyncio\\events.py\", line 80, in _run\n",
      "    self._context.run(self._callback, *self._args)\n",
      "  File \"C:\\Users\\NLFLKO\\Anaconda3\\envs\\sim3\\lib\\asyncio\\selector_events.py\", line 115, in _read_from_self\n",
      "    data = self._ssock.recv(4096)\n",
      "ConnectionResetError: [WinError 10054] De externe host heeft een verbinding verbroken\n",
      "Exception in callback BaseSelectorEventLoop._read_from_self()\n",
      "handle: <Handle BaseSelectorEventLoop._read_from_self()>\n",
      "Traceback (most recent call last):\n",
      "  File \"C:\\Users\\NLFLKO\\Anaconda3\\envs\\sim3\\lib\\asyncio\\events.py\", line 80, in _run\n",
      "    self._context.run(self._callback, *self._args)\n",
      "  File \"C:\\Users\\NLFLKO\\Anaconda3\\envs\\sim3\\lib\\asyncio\\selector_events.py\", line 115, in _read_from_self\n",
      "    data = self._ssock.recv(4096)\n",
      "ConnectionResetError: [WinError 10054] De externe host heeft een verbinding verbroken\n",
      "Exception in callback BaseSelectorEventLoop._read_from_self()\n",
      "handle: <Handle BaseSelectorEventLoop._read_from_self()>\n",
      "Traceback (most recent call last):\n",
      "  File \"C:\\Users\\NLFLKO\\Anaconda3\\envs\\sim3\\lib\\asyncio\\events.py\", line 80, in _run\n",
      "    self._context.run(self._callback, *self._args)\n",
      "  File \"C:\\Users\\NLFLKO\\Anaconda3\\envs\\sim3\\lib\\asyncio\\selector_events.py\", line 115, in _read_from_self\n",
      "    data = self._ssock.recv(4096)\n",
      "ConnectionResetError: [WinError 10054] De externe host heeft een verbinding verbroken\n"
     ]
    }
   ],
   "source": [
    "def dredging_barge_cost_per_cycle(scenario, equipment_cost_per_cycle, energy_cost_per_kwh, energy_use_per_cycle, emission_cost_per_ton, emission_tons_per_cycle, personnel_cost_per_cycle, financing_rate, maintenance_and_repair_cost_per_cycle, sand_volume, cycles):\n",
    "    if scenario == \"fastTSHD\":\n",
    "        # Additional costs or variables specific to fastTSHD scenario\n",
    "        pass\n",
    "    elif scenario == \"slowTSHD\":\n",
    "        # Additional costs or variables specific to slowTSHD scenario\n",
    "        pass\n",
    "    elif scenario == \"3bargSemi\":\n",
    "        # Additional costs or variables specific to 3bargSemi scenario\n",
    "        pass\n",
    "    elif scenario == \"3bargnon\":\n",
    "        # Additional costs or variables specific to 3bargnon scenario\n",
    "        pass\n",
    "    elif scenario == \"2bargTSHD\":\n",
    "        # Additional costs or variables specific to 2bargTSHD scenario\n",
    "        pass\n",
    "    else:\n",
    "        # Handle invalid scenario\n",
    "        pass\n",
    "    # Energy use cost\n",
    "    energy_cost = energy_cost_per_kwh * energy_use_per_cycle * cycles\n",
    "    # Emission cost\n",
    "    emission_cost = emission_cost_per_ton * emission_tons_per_cycle * cycles\n",
    "    # Depreciation and Interest cost\n",
    "    financing_cost = equipment_cost_per_cycle * financing_rate * cycles\n",
    "    # Total cost\n",
    "    total_cost = equipment_cost_per_cycle * cycles + energy_cost + emission_cost + personnel_cost_per_cycle * cycles + maintenance_and_repair_cost_per_cycle * cycles + financing_cost\n",
    "    cost_per_m3_sand = total_cost / sand_volume\n",
    "    energy_demand_per_m3_sand = (energy_cost_per_kwh * energy_use_per_cycle) / sand_volume\n",
    "    return total_cost, cost_per_m3_sand, energy_demand_per_m3_sand"
   ]
  },
  {
   "cell_type": "code",
   "execution_count": null,
   "id": "8b0dce45-a681-4f9e-9897-f886267456ce",
   "metadata": {},
   "outputs": [],
   "source": []
  },
  {
   "cell_type": "code",
   "execution_count": null,
   "id": "97647764-bcc3-4c28-a9ce-b1d13b0b3342",
   "metadata": {},
   "outputs": [],
   "source": []
  },
  {
   "cell_type": "code",
   "execution_count": null,
   "id": "a3ee25f0-4a42-44bc-b5d4-688f8a35d83e",
   "metadata": {},
   "outputs": [],
   "source": []
  }
 ],
 "metadata": {
  "kernelspec": {
   "display_name": "Python 3 (ipykernel)",
   "language": "python",
   "name": "python3"
  },
  "language_info": {
   "codemirror_mode": {
    "name": "ipython",
    "version": 3
   },
   "file_extension": ".py",
   "mimetype": "text/x-python",
   "name": "python",
   "nbconvert_exporter": "python",
   "pygments_lexer": "ipython3",
   "version": "3.9.12"
  }
 },
 "nbformat": 4,
 "nbformat_minor": 5
}
