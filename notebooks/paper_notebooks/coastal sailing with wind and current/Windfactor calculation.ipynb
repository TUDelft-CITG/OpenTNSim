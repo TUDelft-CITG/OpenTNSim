{
 "cells": [
  {
   "cell_type": "code",
   "execution_count": 1,
   "id": "983ba535-da27-4994-b2d1-22893798a140",
   "metadata": {},
   "outputs": [],
   "source": [
    "# package(s) related to time, space and id\n",
    "import datetime, time\n",
    "import platform\n",
    "import itertools\n",
    "# Used for mathematical functions\n",
    "import math             \n",
    "import logging\n",
    "\n",
    "# you need these dependencies (you can get these from anaconda)\n",
    "# package(s) related to the simulation\n",
    "import simpy\n",
    "import pandas as pd\n",
    "\n",
    "# spatial libraries \n",
    "# import pyproj\n",
    "# import shapely.geometry\n",
    "# from simplekml import Kml, Style\n",
    "\n",
    "# package(s) for data handling\n",
    "import numpy as np\n",
    "import matplotlib.pyplot as plt\n",
    "import tqdm\n",
    "\n",
    "\n",
    "import plotly.express as px\n",
    "from plotly.subplots import make_subplots\n",
    "\n",
    "# OpenTNSim\n",
    "import opentnsim\n",
    "\n",
    "# turn on debug messages if want to see what's going on in detail\n",
    "# logging.basicConfig(level=logging.DEBUG)\n",
    "# turn off debug messages, only show info and higher level messages\n",
    "logging.basicConfig(level=logging.INFO)"
   ]
  },
  {
   "cell_type": "code",
   "execution_count": 2,
   "id": "d488e9c0-73b7-44d7-ac8d-610951a47f9f",
   "metadata": {},
   "outputs": [],
   "source": [
    "# Make your preferred class out of available mix-ins.\n",
    "TransportResource = type(\n",
    "    \"Vessel\",\n",
    "    (\n",
    "        opentnsim.core.Identifiable,\n",
    "        opentnsim.core.Movable,\n",
    "        opentnsim.core.VesselProperties,  # needed to add vessel properties\n",
    "        opentnsim.energy.ConsumesEnergy,\n",
    "        opentnsim.core.ExtraMetadata,\n",
    "    ),\n",
    "    {},\n",
    ")  # needed to calculate resistances"
   ]
  },
  {
   "cell_type": "code",
   "execution_count": 3,
   "id": "72b0cf43-0fbb-40e6-a5b6-ac2b3a456db9",
   "metadata": {},
   "outputs": [],
   "source": [
    "# Create a dict with all important settings\n",
    "\n",
    "data_vessel = {\n",
    "    \"env\": None,\n",
    "    \"name\": 'Barge1000',\n",
    "    \"route\": None,\n",
    "    \"geometry\": None,\n",
    "    \"V_g_ave\": 1.2,  # m/s\n",
    "    \"V_s\":1.2,\n",
    "    \"type\": None,\n",
    "    \"B\": 11,\n",
    "    \"L\": 60,\n",
    "    \"H_e\": None, \n",
    "    \"H_f\": None, \n",
    "    \"T\": 3.45,\n",
    "    \"safety_margin\": 0.3,                                      # for tanker vessel with rocky bed the safety margin is recommended as 0.3 m\n",
    "    \"h_squat\": True,                                            #  if consider the ship squatting while moving, set to True, otherwise set to False. Note that here we have disabled h_squat calculation since we regard the water depth h_0 is already reduced by squat effect. This applies to figures 3, 5, 7, 8 and 9.\n",
    "    \"payload\":None,\n",
    "    \"vessel_type\":\"Tanker\",                                    #vessel types: \"Container\",\"Dry_SH\",\"Dry_DH\",\"Barge\",\"Tanker\". (\"Dry_SH\" means dry bulk single hull, \"Dry_DH\" means dry bulk double hull)    \n",
    "    \"V_g_profile\":False,                                        # if use the V_g_profile to determine V_w, set to True, otherwise (use the V_g_ave to determine V_w) set to False.\n",
    "    \"P_installed\": 750, # kW  \n",
    "    \"P_tot_given\": None, # kW\n",
    "    \"bulbous_bow\": False,                                       # if a vessel has no bulbous_bow, set to False; otherwise set to True.\n",
    "    \"sailing_on_power\": False,\n",
    "    \"sailing_upstream\": False,\n",
    "    \"consider_passive_rudder_resistance\": True,\n",
    "    \"consider_wind_influence\":True,\n",
    "    \"U_wind\": 10, # m/s\n",
    "    \"rel_winddir\": 10, #degree\n",
    "    \"load\": 'loaded',\n",
    "    \"loaded_depth\": 3.45 ,\n",
    "    \"unloaded_depth\": 1.7,\n",
    "    \"Height_ship\": 4,\n",
    "    \"P_hotel_perc\": 0,\n",
    "    \"P_hotel\": 0 , # None: calculate P_hotel from percentage\n",
    "    \"x\": 2,# number of propellers\n",
    "    \"L_w\": 3.0 ,\n",
    "    \"C_B\":0.8, \n",
    "    \"C_year\": 2000,\n",
    "}             "
   ]
  },
  {
   "cell_type": "code",
   "execution_count": 4,
   "id": "4f6072cb-8683-45f3-89f4-6e570be18b98",
   "metadata": {},
   "outputs": [],
   "source": [
    "data_vessel_i = data_vessel.copy()\n",
    "vessel = TransportResource(**data_vessel_i)"
   ]
  },
  {
   "cell_type": "code",
   "execution_count": 5,
   "id": "731a38ce-434e-4a6a-af44-d1138896943b",
   "metadata": {},
   "outputs": [],
   "source": [
    "h_0 = [18]    \n",
    "V_s = [1.2]\n",
    "U_wind = [1.5, 3.3, 5.3, 7.9, 10.8, 13.8]            \n",
    "rel_winddir = [0,10,20,30,40,50,60,70,80,90,100,110,120,130,140,150,160,170,180]   "
   ]
  },
  {
   "cell_type": "code",
   "execution_count": 6,
   "id": "05451de3-d7db-4108-94c1-22fd2350243f",
   "metadata": {},
   "outputs": [
    {
     "data": {
      "text/html": [
       "<div>\n",
       "<style scoped>\n",
       "    .dataframe tbody tr th:only-of-type {\n",
       "        vertical-align: middle;\n",
       "    }\n",
       "\n",
       "    .dataframe tbody tr th {\n",
       "        vertical-align: top;\n",
       "    }\n",
       "\n",
       "    .dataframe thead th {\n",
       "        text-align: right;\n",
       "    }\n",
       "</style>\n",
       "<table border=\"1\" class=\"dataframe\">\n",
       "  <thead>\n",
       "    <tr style=\"text-align: right;\">\n",
       "      <th></th>\n",
       "      <th>h_0</th>\n",
       "      <th>U_wind</th>\n",
       "      <th>rel_winddir</th>\n",
       "      <th>V_s</th>\n",
       "    </tr>\n",
       "  </thead>\n",
       "  <tbody>\n",
       "    <tr>\n",
       "      <th>109</th>\n",
       "      <td>18</td>\n",
       "      <td>13.8</td>\n",
       "      <td>140</td>\n",
       "      <td>1.2</td>\n",
       "    </tr>\n",
       "    <tr>\n",
       "      <th>110</th>\n",
       "      <td>18</td>\n",
       "      <td>13.8</td>\n",
       "      <td>150</td>\n",
       "      <td>1.2</td>\n",
       "    </tr>\n",
       "    <tr>\n",
       "      <th>111</th>\n",
       "      <td>18</td>\n",
       "      <td>13.8</td>\n",
       "      <td>160</td>\n",
       "      <td>1.2</td>\n",
       "    </tr>\n",
       "    <tr>\n",
       "      <th>112</th>\n",
       "      <td>18</td>\n",
       "      <td>13.8</td>\n",
       "      <td>170</td>\n",
       "      <td>1.2</td>\n",
       "    </tr>\n",
       "    <tr>\n",
       "      <th>113</th>\n",
       "      <td>18</td>\n",
       "      <td>13.8</td>\n",
       "      <td>180</td>\n",
       "      <td>1.2</td>\n",
       "    </tr>\n",
       "  </tbody>\n",
       "</table>\n",
       "</div>"
      ],
      "text/plain": [
       "     h_0  U_wind  rel_winddir  V_s\n",
       "109   18    13.8          140  1.2\n",
       "110   18    13.8          150  1.2\n",
       "111   18    13.8          160  1.2\n",
       "112   18    13.8          170  1.2\n",
       "113   18    13.8          180  1.2"
      ]
     },
     "execution_count": 6,
     "metadata": {},
     "output_type": "execute_result"
    }
   ],
   "source": [
    "# prepare the work to be done\n",
    "# create a list of all combinations\n",
    "work = list(itertools.product(h_0, U_wind, rel_winddir,V_s))\n",
    "\n",
    "# prepare a list of dictionaries for pandas\n",
    "rows = []\n",
    "for item in work:\n",
    "    row = {\"h_0\": item[0], \"U_wind\": item[1], \"rel_winddir\": item[2], \"V_s\": item[3]}\n",
    "    rows.append(row)\n",
    "\n",
    "# these are all the simulations that we want to run\n",
    "# convert them to dataframe, so that we can apply a function and monitor progress\n",
    "work_df = pd.DataFrame(rows)\n",
    "work_df.tail()"
   ]
  },
  {
   "cell_type": "code",
   "execution_count": 7,
   "id": "868d96b4-ef08-4456-85d6-7e9377e6b2a2",
   "metadata": {},
   "outputs": [
    {
     "name": "stderr",
     "output_type": "stream",
     "text": [
      "4it [00:00, 15.85it/s]"
     ]
    },
    {
     "name": "stdout",
     "output_type": "stream",
     "text": [
      "11.688476768732555\n",
      "11.688476768732555\n",
      "11.688476768732555\n",
      "11.688476768732555\n",
      "11.688476768732555\n"
     ]
    },
    {
     "name": "stderr",
     "output_type": "stream",
     "text": [
      "8it [00:00, 15.62it/s]"
     ]
    },
    {
     "name": "stdout",
     "output_type": "stream",
     "text": [
      "11.688476768732555\n",
      "11.688476768732555\n",
      "11.688476768732555\n",
      "11.688476768732555\n"
     ]
    },
    {
     "name": "stderr",
     "output_type": "stream",
     "text": [
      "12it [00:00, 13.07it/s]"
     ]
    },
    {
     "name": "stdout",
     "output_type": "stream",
     "text": [
      "11.688476768732555\n",
      "11.688476768732555\n",
      "11.688476768732555\n"
     ]
    },
    {
     "name": "stderr",
     "output_type": "stream",
     "text": [
      "15it [00:01, 15.74it/s]"
     ]
    },
    {
     "name": "stdout",
     "output_type": "stream",
     "text": [
      "11.688476768732555\n",
      "11.688476768732555\n",
      "11.688476768732555\n",
      "11.688476768732555\n"
     ]
    },
    {
     "name": "stderr",
     "output_type": "stream",
     "text": [
      "19it [00:01, 15.26it/s]"
     ]
    },
    {
     "name": "stdout",
     "output_type": "stream",
     "text": [
      "11.688476768732555\n",
      "11.688476768732555\n",
      "11.688476768732555\n",
      "11.688476768732555\n"
     ]
    },
    {
     "name": "stderr",
     "output_type": "stream",
     "text": [
      "23it [00:01, 14.54it/s]"
     ]
    },
    {
     "name": "stdout",
     "output_type": "stream",
     "text": [
      "11.688476768732555\n",
      "11.688476768732555\n",
      "11.688476768732555\n"
     ]
    },
    {
     "name": "stderr",
     "output_type": "stream",
     "text": [
      "25it [00:01, 13.76it/s]"
     ]
    },
    {
     "name": "stdout",
     "output_type": "stream",
     "text": [
      "11.688476768732555\n",
      "11.688476768732555\n",
      "11.688476768732555\n"
     ]
    },
    {
     "name": "stderr",
     "output_type": "stream",
     "text": [
      "27it [00:01, 12.32it/s]"
     ]
    },
    {
     "name": "stdout",
     "output_type": "stream",
     "text": [
      "11.688476768732555\n",
      "11.688476768732555\n",
      "11.688476768732555\n"
     ]
    },
    {
     "name": "stderr",
     "output_type": "stream",
     "text": [
      "33it [00:02, 12.74it/s]"
     ]
    },
    {
     "name": "stdout",
     "output_type": "stream",
     "text": [
      "11.688476768732555\n",
      "11.688476768732555\n",
      "11.688476768732555\n",
      "11.688476768732555\n"
     ]
    },
    {
     "name": "stderr",
     "output_type": "stream",
     "text": [
      "35it [00:02, 11.95it/s]"
     ]
    },
    {
     "name": "stdout",
     "output_type": "stream",
     "text": [
      "11.688476768732555\n",
      "11.688476768732555\n"
     ]
    },
    {
     "name": "stderr",
     "output_type": "stream",
     "text": [
      "37it [00:02, 11.99it/s]"
     ]
    },
    {
     "name": "stdout",
     "output_type": "stream",
     "text": [
      "11.688476768732555\n",
      "11.688476768732555\n",
      "11.688476768732555\n",
      "11.688476768732555\n"
     ]
    },
    {
     "name": "stderr",
     "output_type": "stream",
     "text": [
      "41it [00:03, 13.97it/s]"
     ]
    },
    {
     "name": "stdout",
     "output_type": "stream",
     "text": [
      "11.688476768732555\n",
      "11.688476768732555\n",
      "11.688476768732555\n"
     ]
    },
    {
     "name": "stderr",
     "output_type": "stream",
     "text": [
      "43it [00:03, 12.31it/s]"
     ]
    },
    {
     "name": "stdout",
     "output_type": "stream",
     "text": [
      "11.688476768732555\n",
      "11.688476768732555\n"
     ]
    },
    {
     "name": "stderr",
     "output_type": "stream",
     "text": [
      "47it [00:03, 12.31it/s]"
     ]
    },
    {
     "name": "stdout",
     "output_type": "stream",
     "text": [
      "11.688476768732555\n",
      "11.688476768732555\n",
      "11.688476768732555\n",
      "11.688476768732555\n"
     ]
    },
    {
     "name": "stderr",
     "output_type": "stream",
     "text": [
      "51it [00:03, 11.00it/s]"
     ]
    },
    {
     "name": "stdout",
     "output_type": "stream",
     "text": [
      "11.688476768732555\n",
      "11.688476768732555\n",
      "11.688476768732555\n",
      "11.688476768732555\n",
      "11.688476768732555\n"
     ]
    },
    {
     "name": "stderr",
     "output_type": "stream",
     "text": [
      "56it [00:04, 12.61it/s]"
     ]
    },
    {
     "name": "stdout",
     "output_type": "stream",
     "text": [
      "11.688476768732555\n",
      "11.688476768732555\n",
      "11.688476768732555\n",
      "11.688476768732555\n"
     ]
    },
    {
     "name": "stderr",
     "output_type": "stream",
     "text": [
      "60it [00:04, 14.24it/s]"
     ]
    },
    {
     "name": "stdout",
     "output_type": "stream",
     "text": [
      "11.688476768732555\n",
      "11.688476768732555\n",
      "11.688476768732555\n",
      "11.688476768732555\n"
     ]
    },
    {
     "name": "stderr",
     "output_type": "stream",
     "text": [
      "65it [00:04, 16.39it/s]"
     ]
    },
    {
     "name": "stdout",
     "output_type": "stream",
     "text": [
      "11.688476768732555\n",
      "11.688476768732555\n",
      "11.688476768732555\n",
      "11.688476768732555\n"
     ]
    },
    {
     "name": "stderr",
     "output_type": "stream",
     "text": [
      "69it [00:05, 16.99it/s]"
     ]
    },
    {
     "name": "stdout",
     "output_type": "stream",
     "text": [
      "11.688476768732555\n",
      "11.688476768732555\n",
      "11.688476768732555\n",
      "11.688476768732555\n",
      "11.688476768732555\n"
     ]
    },
    {
     "name": "stderr",
     "output_type": "stream",
     "text": [
      "73it [00:05, 16.37it/s]"
     ]
    },
    {
     "name": "stdout",
     "output_type": "stream",
     "text": [
      "11.688476768732555\n",
      "11.688476768732555\n",
      "11.688476768732555\n",
      "11.688476768732555\n"
     ]
    },
    {
     "name": "stderr",
     "output_type": "stream",
     "text": [
      "77it [00:05, 15.84it/s]"
     ]
    },
    {
     "name": "stdout",
     "output_type": "stream",
     "text": [
      "11.688476768732555\n",
      "11.688476768732555\n",
      "11.688476768732555\n"
     ]
    },
    {
     "name": "stderr",
     "output_type": "stream",
     "text": [
      "79it [00:05, 14.92it/s]"
     ]
    },
    {
     "name": "stdout",
     "output_type": "stream",
     "text": [
      "11.688476768732555\n",
      "11.688476768732555\n",
      "11.688476768732555\n",
      "11.688476768732555\n"
     ]
    },
    {
     "name": "stderr",
     "output_type": "stream",
     "text": [
      "85it [00:06, 16.06it/s]"
     ]
    },
    {
     "name": "stdout",
     "output_type": "stream",
     "text": [
      "11.688476768732555\n",
      "11.688476768732555\n",
      "11.688476768732555\n",
      "11.688476768732555\n",
      "11.688476768732555\n"
     ]
    },
    {
     "name": "stderr",
     "output_type": "stream",
     "text": [
      "89it [00:06, 12.63it/s]"
     ]
    },
    {
     "name": "stdout",
     "output_type": "stream",
     "text": [
      "11.688476768732555\n",
      "11.688476768732555\n",
      "11.688476768732555\n"
     ]
    },
    {
     "name": "stderr",
     "output_type": "stream",
     "text": [
      "91it [00:06, 13.98it/s]"
     ]
    },
    {
     "name": "stdout",
     "output_type": "stream",
     "text": [
      "11.688476768732555\n",
      "11.688476768732555\n",
      "11.688476768732555\n",
      "11.688476768732555\n",
      "11.688476768732555\n"
     ]
    },
    {
     "name": "stderr",
     "output_type": "stream",
     "text": [
      "99it [00:06, 18.33it/s]"
     ]
    },
    {
     "name": "stdout",
     "output_type": "stream",
     "text": [
      "11.688476768732555\n",
      "11.688476768732555\n",
      "11.688476768732555\n",
      "11.688476768732555\n",
      "11.688476768732555\n"
     ]
    },
    {
     "name": "stderr",
     "output_type": "stream",
     "text": [
      "103it [00:07, 16.42it/s]"
     ]
    },
    {
     "name": "stdout",
     "output_type": "stream",
     "text": [
      "11.688476768732555\n",
      "11.688476768732555\n",
      "11.688476768732555\n",
      "11.688476768732555\n"
     ]
    },
    {
     "name": "stderr",
     "output_type": "stream",
     "text": [
      "105it [00:07, 13.67it/s]"
     ]
    },
    {
     "name": "stdout",
     "output_type": "stream",
     "text": [
      "11.688476768732555\n",
      "11.688476768732555\n",
      "11.688476768732555\n"
     ]
    },
    {
     "name": "stderr",
     "output_type": "stream",
     "text": [
      "109it [00:07, 15.01it/s]"
     ]
    },
    {
     "name": "stdout",
     "output_type": "stream",
     "text": [
      "11.688476768732555\n",
      "11.688476768732555\n",
      "11.688476768732555\n",
      "11.688476768732555\n"
     ]
    },
    {
     "name": "stderr",
     "output_type": "stream",
     "text": [
      "114it [00:07, 14.32it/s]"
     ]
    },
    {
     "name": "stdout",
     "output_type": "stream",
     "text": [
      "11.688476768732555\n",
      "11.688476768732555\n",
      "11.688476768732555\n",
      "11.688476768732555\n"
     ]
    },
    {
     "name": "stderr",
     "output_type": "stream",
     "text": [
      "\n"
     ]
    }
   ],
   "source": [
    "h_0 = 18\n",
    "V_s = 1.2\n",
    "V_g_ave = 1.2\n",
    "results =[]\n",
    "for i, row in tqdm.tqdm(work_df.iterrows()):\n",
    "    # create a new vessel, like the one above (so that it also has L)\n",
    "    h_0 = row['h_0']\n",
    "    data_vessel_i = data_vessel.copy()\n",
    "    data_vessel_i['h_0'] = h_0\n",
    "    vessel = TransportResource(**data_vessel_i)\n",
    "    \n",
    "    U_wind = row['U_wind']\n",
    "    rel_winddir = row['rel_winddir']\n",
    "    V_s = row['V_s']\n",
    "    vessel.calculate_properties() # L is used here in the computation of L_R\n",
    "   # print(h_0)\n",
    "    R_f = vessel.calculate_frictional_resistance(V_s, h_0) \n",
    "    R_f_one_k1 = vessel.calculate_viscous_resistance()\n",
    "    R_APP = vessel.calculate_appendage_resistance(V_s)\n",
    "    R_W = vessel.calculate_wave_resistance(V_s, h_0)\n",
    "    R_res = vessel.calculate_residual_resistance(V_s, h_0)\n",
    "    R_wind = vessel.calculate_wind_resistance(U_wind,rel_winddir)\n",
    "    R_T = vessel.calculate_total_resistance(V_s, h_0, rel_winddir)\n",
    "    P_propulsion, P_tot, P_given = vessel.calculate_total_power_required(V_s, h_0)\n",
    "    vessel.emission_factors_general()\n",
    "    vessel.correction_factors(V_s,h_0)\n",
    "    vessel.calculate_emission_factors_total(V_s,h_0)\n",
    " #   Fuel_g_m = vessel.calculate_fuel_use_g_m(V_s)\n",
    "    [emission_g_m_CO2,emission_g_m_PM10,emission_g_m_NOX] = vessel.calculate_emission_rates_g_m(V_s)\n",
    "    print(vessel.A_xv)\n",
    "    result = {}\n",
    "    result.update(row)\n",
    "    result['P_installed'] = vessel.P_installed\n",
    "    result['R_f_one_k1'] = R_f_one_k1\n",
    "    result['R_APP'] = R_APP\n",
    "    result['R_W'] = R_W\n",
    "    result['R_res'] = R_res\n",
    "    result['R_T'] = R_T\n",
    "    result['R_wind'] = R_wind\n",
    "    result['P_tot'] = P_tot\n",
    "   # result['Fuel_g_km'] = Fuel_g_m * 1000\n",
    "    result['emission_g_km_CO2'] = emission_g_m_CO2 * 1000\n",
    "    result['emission_g_km_PM10'] = emission_g_m_PM10 * 1000\n",
    "    result['emission_g_km_NOX'] = emission_g_m_NOX * 1000\n",
    "    results.append(result)"
   ]
  },
  {
   "cell_type": "code",
   "execution_count": 8,
   "id": "c6ba617c-9c17-42a4-86ba-3e0f197ecec6",
   "metadata": {},
   "outputs": [
    {
     "data": {
      "text/html": [
       "<div>\n",
       "<style scoped>\n",
       "    .dataframe tbody tr th:only-of-type {\n",
       "        vertical-align: middle;\n",
       "    }\n",
       "\n",
       "    .dataframe tbody tr th {\n",
       "        vertical-align: top;\n",
       "    }\n",
       "\n",
       "    .dataframe thead th {\n",
       "        text-align: right;\n",
       "    }\n",
       "</style>\n",
       "<table border=\"1\" class=\"dataframe\">\n",
       "  <thead>\n",
       "    <tr style=\"text-align: right;\">\n",
       "      <th></th>\n",
       "      <th>h_0</th>\n",
       "      <th>U_wind</th>\n",
       "      <th>rel_winddir</th>\n",
       "      <th>V_s</th>\n",
       "      <th>P_installed</th>\n",
       "      <th>R_f_one_k1</th>\n",
       "      <th>R_APP</th>\n",
       "      <th>R_W</th>\n",
       "      <th>R_res</th>\n",
       "      <th>R_T</th>\n",
       "      <th>R_wind</th>\n",
       "      <th>P_tot</th>\n",
       "      <th>emission_g_km_CO2</th>\n",
       "      <th>emission_g_km_PM10</th>\n",
       "      <th>emission_g_km_NOX</th>\n",
       "      <th>V_s_km</th>\n",
       "    </tr>\n",
       "  </thead>\n",
       "  <tbody>\n",
       "    <tr>\n",
       "      <th>0</th>\n",
       "      <td>18.0</td>\n",
       "      <td>1.5</td>\n",
       "      <td>0.0</td>\n",
       "      <td>1.2</td>\n",
       "      <td>750</td>\n",
       "      <td>1.86017</td>\n",
       "      <td>0.176243</td>\n",
       "      <td>8.896020e-10</td>\n",
       "      <td>1.389105</td>\n",
       "      <td>3.731079</td>\n",
       "      <td>0.274457</td>\n",
       "      <td>7.462158</td>\n",
       "      <td>1403.472940</td>\n",
       "      <td>1.264421</td>\n",
       "      <td>29.713897</td>\n",
       "      <td>64.8</td>\n",
       "    </tr>\n",
       "    <tr>\n",
       "      <th>1</th>\n",
       "      <td>18.0</td>\n",
       "      <td>1.5</td>\n",
       "      <td>10.0</td>\n",
       "      <td>1.2</td>\n",
       "      <td>750</td>\n",
       "      <td>1.86017</td>\n",
       "      <td>0.176243</td>\n",
       "      <td>8.896020e-10</td>\n",
       "      <td>1.389105</td>\n",
       "      <td>3.989273</td>\n",
       "      <td>0.530246</td>\n",
       "      <td>7.978546</td>\n",
       "      <td>1500.594599</td>\n",
       "      <td>1.351920</td>\n",
       "      <td>31.770127</td>\n",
       "      <td>64.8</td>\n",
       "    </tr>\n",
       "    <tr>\n",
       "      <th>2</th>\n",
       "      <td>18.0</td>\n",
       "      <td>1.5</td>\n",
       "      <td>20.0</td>\n",
       "      <td>1.2</td>\n",
       "      <td>750</td>\n",
       "      <td>1.86017</td>\n",
       "      <td>0.176243</td>\n",
       "      <td>8.896020e-10</td>\n",
       "      <td>1.389105</td>\n",
       "      <td>4.231204</td>\n",
       "      <td>0.769923</td>\n",
       "      <td>8.462409</td>\n",
       "      <td>1591.598896</td>\n",
       "      <td>1.433908</td>\n",
       "      <td>33.696842</td>\n",
       "      <td>64.8</td>\n",
       "    </tr>\n",
       "    <tr>\n",
       "      <th>3</th>\n",
       "      <td>18.0</td>\n",
       "      <td>1.5</td>\n",
       "      <td>30.0</td>\n",
       "      <td>1.2</td>\n",
       "      <td>750</td>\n",
       "      <td>1.86017</td>\n",
       "      <td>0.176243</td>\n",
       "      <td>8.896020e-10</td>\n",
       "      <td>1.389105</td>\n",
       "      <td>4.449522</td>\n",
       "      <td>0.986206</td>\n",
       "      <td>8.899044</td>\n",
       "      <td>1673.720711</td>\n",
       "      <td>1.507894</td>\n",
       "      <td>35.435500</td>\n",
       "      <td>64.8</td>\n",
       "    </tr>\n",
       "    <tr>\n",
       "      <th>4</th>\n",
       "      <td>18.0</td>\n",
       "      <td>1.5</td>\n",
       "      <td>40.0</td>\n",
       "      <td>1.2</td>\n",
       "      <td>750</td>\n",
       "      <td>1.86017</td>\n",
       "      <td>0.176243</td>\n",
       "      <td>8.896020e-10</td>\n",
       "      <td>1.389105</td>\n",
       "      <td>4.637593</td>\n",
       "      <td>1.172524</td>\n",
       "      <td>9.275185</td>\n",
       "      <td>1744.464814</td>\n",
       "      <td>1.571629</td>\n",
       "      <td>36.933272</td>\n",
       "      <td>64.8</td>\n",
       "    </tr>\n",
       "    <tr>\n",
       "      <th>...</th>\n",
       "      <td>...</td>\n",
       "      <td>...</td>\n",
       "      <td>...</td>\n",
       "      <td>...</td>\n",
       "      <td>...</td>\n",
       "      <td>...</td>\n",
       "      <td>...</td>\n",
       "      <td>...</td>\n",
       "      <td>...</td>\n",
       "      <td>...</td>\n",
       "      <td>...</td>\n",
       "      <td>...</td>\n",
       "      <td>...</td>\n",
       "      <td>...</td>\n",
       "      <td>...</td>\n",
       "      <td>...</td>\n",
       "    </tr>\n",
       "    <tr>\n",
       "      <th>95</th>\n",
       "      <td>18.0</td>\n",
       "      <td>13.8</td>\n",
       "      <td>0.0</td>\n",
       "      <td>1.2</td>\n",
       "      <td>750</td>\n",
       "      <td>1.86017</td>\n",
       "      <td>0.176243</td>\n",
       "      <td>8.896020e-10</td>\n",
       "      <td>1.389105</td>\n",
       "      <td>3.731079</td>\n",
       "      <td>-0.325274</td>\n",
       "      <td>7.462158</td>\n",
       "      <td>1403.472940</td>\n",
       "      <td>1.264421</td>\n",
       "      <td>29.713897</td>\n",
       "      <td>64.8</td>\n",
       "    </tr>\n",
       "    <tr>\n",
       "      <th>96</th>\n",
       "      <td>18.0</td>\n",
       "      <td>13.8</td>\n",
       "      <td>10.0</td>\n",
       "      <td>1.2</td>\n",
       "      <td>750</td>\n",
       "      <td>1.86017</td>\n",
       "      <td>0.176243</td>\n",
       "      <td>8.896020e-10</td>\n",
       "      <td>1.389105</td>\n",
       "      <td>3.989273</td>\n",
       "      <td>-0.628422</td>\n",
       "      <td>7.978546</td>\n",
       "      <td>1500.594599</td>\n",
       "      <td>1.351920</td>\n",
       "      <td>31.770127</td>\n",
       "      <td>64.8</td>\n",
       "    </tr>\n",
       "    <tr>\n",
       "      <th>97</th>\n",
       "      <td>18.0</td>\n",
       "      <td>13.8</td>\n",
       "      <td>20.0</td>\n",
       "      <td>1.2</td>\n",
       "      <td>750</td>\n",
       "      <td>1.86017</td>\n",
       "      <td>0.176243</td>\n",
       "      <td>8.896020e-10</td>\n",
       "      <td>1.389105</td>\n",
       "      <td>4.231204</td>\n",
       "      <td>-0.912477</td>\n",
       "      <td>8.462409</td>\n",
       "      <td>1591.598896</td>\n",
       "      <td>1.433908</td>\n",
       "      <td>33.696842</td>\n",
       "      <td>64.8</td>\n",
       "    </tr>\n",
       "    <tr>\n",
       "      <th>98</th>\n",
       "      <td>18.0</td>\n",
       "      <td>13.8</td>\n",
       "      <td>30.0</td>\n",
       "      <td>1.2</td>\n",
       "      <td>750</td>\n",
       "      <td>1.86017</td>\n",
       "      <td>0.176243</td>\n",
       "      <td>8.896020e-10</td>\n",
       "      <td>1.389105</td>\n",
       "      <td>4.449522</td>\n",
       "      <td>-1.168806</td>\n",
       "      <td>8.899044</td>\n",
       "      <td>1673.720711</td>\n",
       "      <td>1.507894</td>\n",
       "      <td>35.435500</td>\n",
       "      <td>64.8</td>\n",
       "    </tr>\n",
       "    <tr>\n",
       "      <th>99</th>\n",
       "      <td>18.0</td>\n",
       "      <td>13.8</td>\n",
       "      <td>40.0</td>\n",
       "      <td>1.2</td>\n",
       "      <td>750</td>\n",
       "      <td>1.86017</td>\n",
       "      <td>0.176243</td>\n",
       "      <td>8.896020e-10</td>\n",
       "      <td>1.389105</td>\n",
       "      <td>4.637593</td>\n",
       "      <td>-1.389621</td>\n",
       "      <td>9.275185</td>\n",
       "      <td>1744.464814</td>\n",
       "      <td>1.571629</td>\n",
       "      <td>36.933272</td>\n",
       "      <td>64.8</td>\n",
       "    </tr>\n",
       "  </tbody>\n",
       "</table>\n",
       "<p>100 rows × 16 columns</p>\n",
       "</div>"
      ],
      "text/plain": [
       "     h_0  U_wind  rel_winddir  V_s  P_installed  R_f_one_k1     R_APP  \\\n",
       "0   18.0     1.5          0.0  1.2          750     1.86017  0.176243   \n",
       "1   18.0     1.5         10.0  1.2          750     1.86017  0.176243   \n",
       "2   18.0     1.5         20.0  1.2          750     1.86017  0.176243   \n",
       "3   18.0     1.5         30.0  1.2          750     1.86017  0.176243   \n",
       "4   18.0     1.5         40.0  1.2          750     1.86017  0.176243   \n",
       "..   ...     ...          ...  ...          ...         ...       ...   \n",
       "95  18.0    13.8          0.0  1.2          750     1.86017  0.176243   \n",
       "96  18.0    13.8         10.0  1.2          750     1.86017  0.176243   \n",
       "97  18.0    13.8         20.0  1.2          750     1.86017  0.176243   \n",
       "98  18.0    13.8         30.0  1.2          750     1.86017  0.176243   \n",
       "99  18.0    13.8         40.0  1.2          750     1.86017  0.176243   \n",
       "\n",
       "             R_W     R_res       R_T    R_wind     P_tot  emission_g_km_CO2  \\\n",
       "0   8.896020e-10  1.389105  3.731079  0.274457  7.462158        1403.472940   \n",
       "1   8.896020e-10  1.389105  3.989273  0.530246  7.978546        1500.594599   \n",
       "2   8.896020e-10  1.389105  4.231204  0.769923  8.462409        1591.598896   \n",
       "3   8.896020e-10  1.389105  4.449522  0.986206  8.899044        1673.720711   \n",
       "4   8.896020e-10  1.389105  4.637593  1.172524  9.275185        1744.464814   \n",
       "..           ...       ...       ...       ...       ...                ...   \n",
       "95  8.896020e-10  1.389105  3.731079 -0.325274  7.462158        1403.472940   \n",
       "96  8.896020e-10  1.389105  3.989273 -0.628422  7.978546        1500.594599   \n",
       "97  8.896020e-10  1.389105  4.231204 -0.912477  8.462409        1591.598896   \n",
       "98  8.896020e-10  1.389105  4.449522 -1.168806  8.899044        1673.720711   \n",
       "99  8.896020e-10  1.389105  4.637593 -1.389621  9.275185        1744.464814   \n",
       "\n",
       "    emission_g_km_PM10  emission_g_km_NOX  V_s_km  \n",
       "0             1.264421          29.713897    64.8  \n",
       "1             1.351920          31.770127    64.8  \n",
       "2             1.433908          33.696842    64.8  \n",
       "3             1.507894          35.435500    64.8  \n",
       "4             1.571629          36.933272    64.8  \n",
       "..                 ...                ...     ...  \n",
       "95            1.264421          29.713897    64.8  \n",
       "96            1.351920          31.770127    64.8  \n",
       "97            1.433908          33.696842    64.8  \n",
       "98            1.507894          35.435500    64.8  \n",
       "99            1.571629          36.933272    64.8  \n",
       "\n",
       "[100 rows x 16 columns]"
      ]
     },
     "execution_count": 8,
     "metadata": {},
     "output_type": "execute_result"
    }
   ],
   "source": [
    "plot_df = pd.DataFrame(results)\n",
    "\n",
    "\n",
    "# convert from meters per second to km per hour\n",
    "ms_to_kmh = 3.6\n",
    "plot_df['V_s_km'] = plot_df['h_0'] * ms_to_kmh\n",
    "\n",
    "plot_df.head(100)"
   ]
  },
  {
   "cell_type": "code",
   "execution_count": null,
   "id": "f62eab18-1cf6-4793-8e51-776efc1ad752",
   "metadata": {},
   "outputs": [],
   "source": []
  },
  {
   "cell_type": "code",
   "execution_count": null,
   "id": "43f35c4f-fea8-47ef-b2e1-f216d841ea35",
   "metadata": {},
   "outputs": [],
   "source": []
  },
  {
   "cell_type": "code",
   "execution_count": null,
   "id": "e1094f4c-d935-4c24-9d83-e65efdcb4058",
   "metadata": {},
   "outputs": [],
   "source": []
  }
 ],
 "metadata": {
  "kernelspec": {
   "display_name": "Python 3 (ipykernel)",
   "language": "python",
   "name": "python3"
  },
  "language_info": {
   "codemirror_mode": {
    "name": "ipython",
    "version": 3
   },
   "file_extension": ".py",
   "mimetype": "text/x-python",
   "name": "python",
   "nbconvert_exporter": "python",
   "pygments_lexer": "ipython3",
   "version": "3.9.12"
  }
 },
 "nbformat": 4,
 "nbformat_minor": 5
}
