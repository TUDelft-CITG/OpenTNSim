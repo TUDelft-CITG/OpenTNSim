{
 "cells": [
  {
   "cell_type": "markdown",
   "id": "5d9ce309",
   "metadata": {},
   "source": [
    "### Imports\n",
    "Import the required libraries"
   ]
  },
  {
   "cell_type": "code",
   "execution_count": 1,
   "id": "2f23dc0b",
   "metadata": {},
   "outputs": [],
   "source": [
    "# package(s) related to time, space and id\n",
    "import logging\n",
    "import datetime, time\n",
    "import platform\n",
    "import itertools\n",
    "# you need these dependencies (you can get these from anaconda)\n",
    "# package(s) related to the simulation\n",
    "import simpy\n",
    "import pandas as pd\n",
    "\n",
    "# spatial libraries \n",
    "import pyproj\n",
    "import shapely.geometry\n",
    "from simplekml import Kml, Style\n",
    "\n",
    "# package(s) for data handling\n",
    "import numpy as np\n",
    "import matplotlib.pyplot as plt\n",
    "\n",
    "# OpenTNSim\n",
    "import opentnsim\n",
    "\n",
    "# Used for mathematical functions\n",
    "import math             \n",
    "import tqdm\n",
    "# Used for making the graph to visualize our problem\n",
    "import networkx as nx   \n",
    "\n",
    "import plotly.express as px\n",
    "from plotly.subplots import make_subplots\n",
    "\n",
    "#logging.basicConfig(level=logging.DEBUG) #turn on all the debug messages\n",
    "logging.basicConfig(level=logging.INFO)# turn off all the debug messages\n"
   ]
  },
  {
   "cell_type": "markdown",
   "id": "738a48f2",
   "metadata": {},
   "source": [
    "### Create graph\n"
   ]
  },
  {
   "cell_type": "code",
   "execution_count": 2,
   "id": "3255d0dd",
   "metadata": {},
   "outputs": [],
   "source": [
    "# specify a number of coordinate along your route (coords are: lon, lat)\n",
    "coords = [\n",
    "    [0,0],\n",
    "    [0.01,0],\n",
    "    [0.02,0], \n",
    "    [0.03,0],\n",
    "    [0.04,0],\n",
    "    [0.05,0],\n",
    "    [0.06,0],\n",
    "    [0.07,0],\n",
    "    [0.08,0],\n",
    "    [0.09,0], \n",
    "    [0.10,0],\n",
    "    [0.11,0],\n",
    "    [0.12,0],\n",
    "\n",
    "] \n",
    "\n",
    "#wgs84\n",
    "\n",
    "# for each edge (between above coordinates) specify the depth (m)\n",
    "depths = [18,18,18,18,18,18,18,18,18,18,18,18,]\n",
    "current_speeds = [0,0,0,0,0,0,0,0,0,0,0,0] \n",
    "V_g_profile = [0.5,1,1.5,2,2.5,3,3.5,4,4.5,5,5.5,6]\n",
    "# check of nr of coords and nr of depths align\n",
    "assert len(coords) == len(depths) + 1, 'nr of depths does not correspond to nr of coords'"
   ]
  },
  {
   "cell_type": "code",
   "execution_count": 3,
   "id": "0e482d81",
   "metadata": {},
   "outputs": [],
   "source": [
    "# create a graph based on coords and depths\n",
    "FG = nx.DiGraph()\n",
    "nodes = []\n",
    "path = []\n",
    "\n",
    "# add nodes\n",
    "Node = type('Site', (opentnsim.core.Identifiable, opentnsim.core.Locatable), {})\n",
    "\n",
    "for index, coord in enumerate(coords):\n",
    "    data_node = {\"name\": \"Node \" + str(index), \"geometry\": shapely.geometry.Point(coord[0], coord[1])}\n",
    "    nodes.append(Node(**data_node))\n",
    "    \n",
    "positions = {}\n",
    "for node in nodes:\n",
    "    positions[node.name] = (node.geometry.x, node.geometry.y)\n",
    "    FG.add_node(node.name, geometry = node.geometry)\n",
    "\n",
    "# add edges\n",
    "path = [[nodes[i], nodes[i+1]] for i in range(len(nodes)-1)]\n",
    "\n",
    "for index, edge in enumerate(path):\n",
    "    # For the energy consumption calculation we add info to the graph. We need depth info for resistance.\n",
    "    # NB: the CalculateEnergy routine expects the graph to have \"Info\" that contains \"GeneralDepth\" \n",
    "    #     this may not be very generic!\n",
    "    FG.add_edge(edge[0].name, edge[1].name, weight = 1, Info = {\n",
    "        \"GeneralDepth\": depths[index],\n",
    "        \"CurrentSpeed\": current_speeds[index],\n",
    "        \"VesselSpeedToGroundProfile\": V_g_profile[index]\n",
    "    })\n",
    "\n",
    "# toggle to undirected and back to directed to make sure all edges are two way traffic\n",
    "FG = FG.to_undirected() \n",
    "FG = FG.to_directed() "
   ]
  },
  {
   "cell_type": "code",
   "execution_count": 4,
   "id": "c99fed1e",
   "metadata": {},
   "outputs": [
    {
     "data": {
      "image/png": "[encoded data removed]",
      "text/plain": [
       "<Figure size 640x480 with 1 Axes>"
      ]
     },
     "metadata": {},
     "output_type": "display_data"
    }
   ],
   "source": [
    "# show graph\n",
    "nx.draw(FG, positions)\n",
    "plt.show()"
   ]
  },
  {
   "cell_type": "code",
   "execution_count": null,
   "id": "dbb74982",
   "metadata": {},
   "outputs": [
    {
     "name": "stderr",
     "output_type": "stream",
     "text": [
      "Exception in callback BaseSelectorEventLoop._read_from_self()\n",
      "handle: <Handle BaseSelectorEventLoop._read_from_self()>\n",
      "Traceback (most recent call last):\n",
      "  File \"C:\\Users\\NLFLKO\\Anaconda3\\envs\\sim3\\lib\\asyncio\\events.py\", line 80, in _run\n",
      "    self._context.run(self._callback, *self._args)\n",
      "  File \"C:\\Users\\NLFLKO\\Anaconda3\\envs\\sim3\\lib\\asyncio\\selector_events.py\", line 115, in _read_from_self\n",
      "    data = self._ssock.recv(4096)\n",
      "ConnectionResetError: [WinError 10054] De externe host heeft een verbinding verbroken\n",
      "Exception in callback BaseSelectorEventLoop._read_from_self()\n",
      "handle: <Handle BaseSelectorEventLoop._read_from_self()>\n",
      "Traceback (most recent call last):\n",
      "  File \"C:\\Users\\NLFLKO\\Anaconda3\\envs\\sim3\\lib\\asyncio\\events.py\", line 80, in _run\n",
      "    self._context.run(self._callback, *self._args)\n",
      "  File \"C:\\Users\\NLFLKO\\Anaconda3\\envs\\sim3\\lib\\asyncio\\selector_events.py\", line 115, in _read_from_self\n",
      "    data = self._ssock.recv(4096)\n",
      "ConnectionResetError: [WinError 10054] De externe host heeft een verbinding verbroken\n",
      "Exception in callback BaseSelectorEventLoop._read_from_self()\n",
      "handle: <Handle BaseSelectorEventLoop._read_from_self()>\n",
      "Traceback (most recent call last):\n",
      "  File \"C:\\Users\\NLFLKO\\Anaconda3\\envs\\sim3\\lib\\asyncio\\events.py\", line 80, in _run\n",
      "    self._context.run(self._callback, *self._args)\n",
      "  File \"C:\\Users\\NLFLKO\\Anaconda3\\envs\\sim3\\lib\\asyncio\\selector_events.py\", line 115, in _read_from_self\n",
      "    data = self._ssock.recv(4096)\n",
      "ConnectionResetError: [WinError 10054] De externe host heeft een verbinding verbroken\n"
     ]
    }
   ],
   "source": [
    "# This cell just shows that now a depth of 10 m is added to the edges. \n",
    "# You can use this to vary depths, e.g. make the middle edge shallower. Note that edges are bi-directional \n",
    "#for edge in FG.edges:\n",
    " #   print('General depth for edge {} is {}'.format(edge, FG.get_edge_data(edge[0], edge[1])[\"Info\"][\"GeneralDepth\"]))\n",
    "  #  print('Current speed for edge {} is {}'.format(edge, FG.get_edge_data(edge[0], edge[1])[\"Info\"][\"CurrentSpeed\"]))\n",
    "#    print('Vessel Speed To Ground Profile {} is {}'.format(edge, FG.get_edge_data(edge[0], edge[1])[\"Info\"][\"VesselSpeedToGroundProfile\"]))"
   ]
  },
  {
   "cell_type": "markdown",
   "id": "2796b4d3",
   "metadata": {},
   "source": [
    "### Create vessel - add VesselProperties and ConsumesEnergy mixins\n"
   ]
  },
  {
   "cell_type": "code",
   "execution_count": 6,
   "id": "689cc5ea",
   "metadata": {},
   "outputs": [],
   "source": [
    "# Make your preferred class out of available mix-ins.\n",
    "TransportResource = type(\n",
    "    \"Vessel\",\n",
    "    (\n",
    "        opentnsim.core.Identifiable,\n",
    "        opentnsim.core.Movable,\n",
    "        opentnsim.core.VesselProperties,  # needed to add vessel properties\n",
    "        opentnsim.energy.ConsumesEnergy,\n",
    "        opentnsim.core.ExtraMetadata,\n",
    "    ),\n",
    "    {},\n",
    ")  # needed to calculate resistances"
   ]
  },
  {
   "cell_type": "markdown",
   "id": "bb07a324-6dce-4452-ae84-20991ae00b4a",
   "metadata": {},
   "source": [
    "#### vessel_hopper900\n"
   ]
  },
  {
   "cell_type": "code",
   "execution_count": 7,
   "id": "9bcef32d",
   "metadata": {},
   "outputs": [],
   "source": [
    "# Create a dict with all important settings\n",
    "\n",
    "data_vessel_01 = {\n",
    "    \"env\": None,\n",
    "    \"name\": 'Vessel',\n",
    "    \"route\": None,\n",
    "    \"geometry\": None,\n",
    "    \"V_g_ave\": 2,  # m/s\n",
    "    \"type\": None,\n",
    "    \"B\": 11,\n",
    "    \"L\": 60,\n",
    "    \"H_e\": None, \n",
    "    \"H_f\": None, \n",
    "    \"T\": 2,\n",
    "    \"safety_margin\": 0.3,                                      # for tanker vessel with rocky bed the safety margin is recommended as 0.3 m\n",
    "    \"h_squat\": True,                                            #  if consider the ship squatting while moving, set to True, otherwise set to False. Note that here we have disabled h_squat calculation since we regard the water depth h_0 is already reduced by squat effect. This applies to figures 3, 5, 7, 8 and 9.\n",
    "    \"payload\":None,\n",
    "    \"vessel_type\":\"Tanker\",                                    #vessel types: \"Container\",\"Dry_SH\",\"Dry_DH\",\"Barge\",\"Tanker\". (\"Dry_SH\" means dry bulk single hull, \"Dry_DH\" means dry bulk double hull)    \n",
    "    \"V_g_profile\":True,                                        # if use the V_g_profile to determine V_w, set to True, otherwise (use the V_g_ave to determine V_w) set to False.\n",
    "    \"P_installed\": 2000, # kW  \n",
    "    \"P_tot_given\": None, # kW\n",
    "    \"bulbous_bow\": False,                                       # if a vessel has no bulbous_bow, set to False; otherwise set to True.\n",
    "    \"sailing_on_power\": False,\n",
    "    \"sailing_upstream\": False,\n",
    "    \"consider_passive_rudder_resistance\": True,\n",
    "    \"consider_wind_influence\": True,\n",
    "    \"U_wind\": 3.3, # m/s\n",
    "    \"rel_winddir\": 140, #degree\n",
    "    \"load\": 'loaded',\n",
    "    \"loaded_depth\": 3.45 ,\n",
    "    \"unloaded_depth\": 1.7,\n",
    "    \"Height_ship\": 4,\n",
    "    \"P_hotel_perc\": 0,\n",
    "    \"P_hotel\": None, # None: calculate P_hotel from percentage\n",
    "    \"x\": 2,# number of propellers\n",
    "    \"L_w\": 3.0 ,\n",
    "    \"C_B\":0.9, \n",
    "    \"C_year\": 2000,\n",
    "}             \n",
    "\n"
   ]
  },
  {
   "cell_type": "markdown",
   "id": "67658145",
   "metadata": {},
   "source": [
    "### Define paths\n",
    "We are going to create a simulation in which a vessel moves from *Node 1* to *Node 4*. Therefore, we need to create a vessel to which we will need to append this paths. Therefore, first let's create the path."
   ]
  },
  {
   "cell_type": "code",
   "execution_count": 8,
   "id": "059bf568",
   "metadata": {},
   "outputs": [],
   "source": [
    "path_upstream = nx.dijkstra_path(FG, nodes[0].name, nodes[12].name)\n",
    "path_downstream = nx.dijkstra_path(FG, nodes[12].name, nodes[0].name)"
   ]
  },
  {
   "cell_type": "markdown",
   "id": "06346332-d7b3-449c-b163-2393ebccfcb7",
   "metadata": {},
   "source": [
    "### Define simulation"
   ]
  },
  {
   "cell_type": "code",
   "execution_count": 9,
   "id": "16e34b3b",
   "metadata": {},
   "outputs": [],
   "source": [
    "def run_simulation_01(V_g_ave, path):\n",
    "    \n",
    "    # Start simpy environment\n",
    "    simulation_start = datetime.datetime.now()\n",
    "    env = simpy.Environment(initial_time = time.mktime(simulation_start.timetuple()))\n",
    "    env.epoch = time.mktime(simulation_start.timetuple())\n",
    "\n",
    "    # Add graph to environment\n",
    "    env.FG = FG\n",
    "\n",
    "    # Add environment and path to the vessel\n",
    "    # create a fresh instance of vessel\n",
    "    vessel = TransportResource(**data_vessel_01)\n",
    "    vessel.env = env                                        #the created environment\n",
    "    vessel.name = 'Vessel No.1'                     \n",
    "    vessel.route = path                                     #the route (the sequence of nodes, as stored as the second column in the path)\n",
    "    vessel.geometry = env.FG.nodes[path[0]]['geometry']     #a shapely.geometry.Point(lon,lat) (here taken as the starting node of the vessel)\n",
    "    vessel.V_g_ave = V_g_ave\n",
    "\n",
    "    # vessel.P_tot_given = P_tot_given\n",
    "    \n",
    "    # Start the simulation\n",
    "    env.process(vessel.move())\n",
    "    env.run()\n",
    "    \n",
    "    return vessel"
   ]
  },
  {
   "cell_type": "markdown",
   "id": "639fc222",
   "metadata": {},
   "source": [
    "### Run simulation\n"
   ]
  },
  {
   "cell_type": "code",
   "execution_count": 17,
   "id": "0ebd1c01",
   "metadata": {
    "tags": []
   },
   "outputs": [
    {
     "name": "stdout",
     "output_type": "stream",
     "text": [
      "0.5 V_w\n",
      "17.999141667724253\n",
      "0.5 v4energy\n",
      "-0.08443156830111694 R_wind\n",
      "0.03088304543372002 R_rudder\n",
      "1 V_w\n",
      "17.996370909198955\n",
      "1 v4energy\n",
      "-0.09464257491132459 R_wind\n",
      "0.004953346759404034 R_rudder\n",
      "1.5 V_w\n",
      "17.991565338593166\n",
      "1.5 v4energy\n",
      "-0.11166091926167067 R_wind\n",
      "0.011145030208659076 R_rudder\n",
      "2 V_w\n",
      "17.984655942209834\n",
      "2 v4energy\n",
      "-0.13548660135215515 R_wind\n",
      "0.019813387037616138 R_rudder\n",
      "2.5 V_w\n",
      "17.97559307578923\n",
      "2.5 v4energy\n",
      "-0.16611962118277812 R_wind\n",
      "0.030958417246275214 R_rudder\n",
      "3 V_w\n",
      "17.964337642907793\n",
      "3 v4energy\n",
      "-0.20355997875353948 R_wind\n",
      "0.044580120834636305 R_rudder\n",
      "3.5 V_w\n",
      "17.950857260061465\n",
      "3.5 v4energy\n",
      "-0.2478076740644393 R_wind\n",
      "0.060678497802699426 R_rudder\n",
      "4 V_w\n",
      "17.93512421640151\n",
      "4 v4energy\n",
      "-0.2988627071154775 R_wind\n",
      "0.07925354815046455 R_rudder\n",
      "4.5 V_w\n",
      "17.917114251603834\n",
      "4.5 v4energy\n",
      "-0.3567250779066542 R_wind\n",
      "0.1003052718779317 R_rudder\n",
      "5 V_w\n",
      "17.896805763178403\n",
      "5 v4energy\n",
      "-0.4213947864379693 R_wind\n",
      "0.12383366898510086 R_rudder\n",
      "5.5 V_w\n",
      "17.87417926186383\n",
      "5.5 v4energy\n",
      "-0.4928718327094228 R_wind\n",
      "0.14983873947197202 R_rudder\n",
      "6 V_w\n",
      "17.849216980738387\n",
      "6 v4energy\n",
      "-0.5711562167210148 R_wind\n",
      "0.17832048333854522 R_rudder\n"
     ]
    },
    {
     "name": "stderr",
     "output_type": "stream",
     "text": [
      "C:\\Users\\NLFLKO\\Anaconda3\\envs\\sim3\\lib\\site-packages\\pandas\\core\\dtypes\\cast.py:122: ShapelyDeprecationWarning:\n",
      "\n",
      "The array interface is deprecated and will no longer work in Shapely 2.0. Convert the '.coords' to a numpy array instead.\n",
      "\n"
     ]
    }
   ],
   "source": [
    "# create empty plot data\n",
    "\n",
    "vessel_01 = run_simulation_01(V_g_ave = 2 , path = path_upstream)\n",
    "\n",
    "# create an EnergyCalculation object and perform energy consumption calculation\n",
    "energycalculation = opentnsim.energy.EnergyCalculation(FG, vessel_01)\n",
    "energycalculation.calculate_energy_consumption()\n",
    "\n",
    "# create dataframe from energy calculation computation\n",
    "df_upstream = pd.DataFrame.from_dict(energycalculation.energy_use)\n",
    "df_upstream.head(15)\n",
    "\n",
    "fractions = np.abs(energycalculation.fractions())\n",
    "\n",
    "\n"
   ]
  },
  {
   "cell_type": "code",
   "execution_count": 18,
   "id": "f890e9de-17d4-4c74-9190-0166c31cabbe",
   "metadata": {},
   "outputs": [],
   "source": [
    "### plot different power requirements"
   ]
  },
  {
   "cell_type": "code",
   "execution_count": 19,
   "id": "42756855-a1d5-447a-8cb6-b841ff8e5384",
   "metadata": {},
   "outputs": [
    {
     "data": {
      "text/plain": [
       "[<matplotlib.lines.Line2D at 0x180a0f1a2b0>]"
      ]
     },
     "execution_count": 19,
     "metadata": {},
     "output_type": "execute_result"
    },
    {
     "data": {
      "image/png": "[encoded data removed]",
      "text/plain": [
       "<Figure size 640x480 with 1 Axes>"
      ]
     },
     "metadata": {},
     "output_type": "display_data"
    }
   ],
   "source": [
    "x = np.linspace(1,12,12)\n",
    "plt.plot(x, df_upstream['P_tot'])\n",
    "#dip?"
   ]
  },
  {
   "cell_type": "code",
   "execution_count": 20,
   "id": "148e5afb-f5f9-42e8-bad5-037e0897aec1",
   "metadata": {},
   "outputs": [
    {
     "data": {
      "text/plain": [
       "Text(0.5, 1.0, 'Energy consumption loaded barge for 1114 m, delta t = 557 s')"
      ]
     },
     "execution_count": 20,
     "metadata": {},
     "output_type": "execute_result"
    },
    {
     "data": {
      "image/png": "[encoded data removed]",
      "text/plain": [
       "<Figure size 640x480 with 1 Axes>"
      ]
     },
     "metadata": {},
     "output_type": "display_data"
    }
   ],
   "source": [
    "plt.plot(x, df_upstream['total_energy'])\n",
    "plt.xlabel('m/s')\n",
    "plt.ylabel('kWh')\n",
    "plt.title('Energy consumption loaded barge for 1114 m, delta t = 557 s')\n",
    "# eenheid?\n"
   ]
  },
  {
   "cell_type": "code",
   "execution_count": null,
   "id": "fe6552d5-9a26-4daf-b6fb-4e13e52d81c4",
   "metadata": {},
   "outputs": [],
   "source": []
  },
  {
   "cell_type": "code",
   "execution_count": 21,
   "id": "73307b8b-ca90-427e-a389-121e7704bc16",
   "metadata": {},
   "outputs": [],
   "source": [
    "from opentnsim.energy import ConsumesEnergy"
   ]
  },
  {
   "cell_type": "code",
   "execution_count": 22,
   "id": "e39209ac-b44a-48a8-95a2-df0ffb29136a",
   "metadata": {},
   "outputs": [
    {
     "data": {
      "text/plain": [
       "(1,\n",
       " 8489.197936019642,\n",
       " 212832.78434257777,\n",
       " 0.12383366898510086,\n",
       " 5272922.152206421)"
      ]
     },
     "execution_count": 22,
     "metadata": {},
     "output_type": "execute_result"
    }
   ],
   "source": [
    "test = ConsumesEnergy.calculate_angle(vessel_01,v=5)\n",
    "test"
   ]
  },
  {
   "cell_type": "code",
   "execution_count": 24,
   "id": "1c216c55-1e73-4dc4-8d99-ef9ee40d7359",
   "metadata": {},
   "outputs": [
    {
     "name": "stdout",
     "output_type": "stream",
     "text": [
      "[3.73382833e+01 3.14326922e+00 4.33181096e+02 6.40568668e+00\n",
      " 9.39034784e+00 0.00000000e+00 5.71156217e-01 1.78320483e-01]\n"
     ]
    },
    {
     "data": {
      "image/png": "[encoded data removed]",
      "text/plain": [
       "<Figure size 640x480 with 1 Axes>"
      ]
     },
     "metadata": {},
     "output_type": "display_data"
    },
    {
     "name": "stderr",
     "output_type": "stream",
     "text": [
      "WARNING:matplotlib.legend:No artists with labels found to put in legend.  Note that artists whose label start with an underscore are ignored when legend() is called with no argument.\n"
     ]
    },
    {
     "data": {
      "text/plain": [
       "<matplotlib.legend.Legend at 0x180a0fb0ee0>"
      ]
     },
     "execution_count": 24,
     "metadata": {},
     "output_type": "execute_result"
    },
    {
     "data": {
      "image/png": "[encoded data removed]",
      "text/plain": [
       "<Figure size 640x480 with 1 Axes>"
      ]
     },
     "metadata": {},
     "output_type": "display_data"
    }
   ],
   "source": [
    "print(fractions)\n",
    "\n",
    "\n",
    "# Create a pie chart\n",
    "plt.pie(fractions)\n",
    "\n",
    "# Add a title to the chart\n",
    "plt.title(\"Resistance fractions\")\n",
    "\n",
    "# Display the chart\n",
    "plt.show()\n",
    "plt.legend()\n",
    "# voor welke snelheid is dit dan? of het geheel."
   ]
  },
  {
   "cell_type": "code",
   "execution_count": null,
   "id": "15595657-2732-4276-98f5-2a3b715e6b67",
   "metadata": {},
   "outputs": [],
   "source": []
  },
  {
   "cell_type": "code",
   "execution_count": null,
   "id": "54fec184-4321-4e92-b969-0e01574412a1",
   "metadata": {},
   "outputs": [],
   "source": []
  },
  {
   "cell_type": "code",
   "execution_count": null,
   "id": "99bdd558-7715-4944-8e25-f4f30d694e69",
   "metadata": {},
   "outputs": [],
   "source": []
  },
  {
   "cell_type": "code",
   "execution_count": null,
   "id": "cfe0fbd0-4108-45b8-a528-adc0850ee5c2",
   "metadata": {},
   "outputs": [],
   "source": []
  },
  {
   "cell_type": "code",
   "execution_count": null,
   "id": "b48f6441-30e5-4d50-8bd1-fc06d250ec0d",
   "metadata": {},
   "outputs": [],
   "source": []
  },
  {
   "cell_type": "code",
   "execution_count": null,
   "id": "064260bd-c20b-4028-8d8e-dd369278e1c4",
   "metadata": {},
   "outputs": [],
   "source": []
  },
  {
   "cell_type": "code",
   "execution_count": null,
   "id": "38130042-7b1c-478e-9b7b-cc8f346ae87b",
   "metadata": {},
   "outputs": [],
   "source": []
  },
  {
   "cell_type": "code",
   "execution_count": null,
   "id": "cde55eb7-4091-4fb2-9ec6-887a0e0c9fd0",
   "metadata": {},
   "outputs": [],
   "source": []
  },
  {
   "cell_type": "code",
   "execution_count": null,
   "id": "764aa521-1cc8-4255-afba-6a7b08d69d65",
   "metadata": {},
   "outputs": [],
   "source": []
  },
  {
   "cell_type": "code",
   "execution_count": null,
   "id": "8b6620b1-2349-4c9f-8f5d-1ab66a768bef",
   "metadata": {},
   "outputs": [],
   "source": []
  },
  {
   "cell_type": "code",
   "execution_count": null,
   "id": "452a19e0-1270-49e0-8780-9a0dfbd8534d",
   "metadata": {},
   "outputs": [],
   "source": []
  },
  {
   "cell_type": "code",
   "execution_count": null,
   "id": "a6fec35b-c2fe-4f8b-8666-8e2e00224978",
   "metadata": {},
   "outputs": [],
   "source": []
  },
  {
   "cell_type": "code",
   "execution_count": null,
   "id": "ea363a3b-4a15-466e-b45e-a91528191771",
   "metadata": {},
   "outputs": [],
   "source": []
  }
 ],
 "metadata": {
  "kernelspec": {
   "display_name": "Python 3 (ipykernel)",
   "language": "python",
   "name": "python3"
  },
  "language_info": {
   "codemirror_mode": {
    "name": "ipython",
    "version": 3
   },
   "file_extension": ".py",
   "mimetype": "text/x-python",
   "name": "python",
   "nbconvert_exporter": "python",
   "pygments_lexer": "ipython3",
   "version": "3.9.12"
  },
  "toc-showcode": true
 },
 "nbformat": 4,
 "nbformat_minor": 5
}
