{
 "cells": [
  {
   "cell_type": "code",
   "execution_count": null,
   "id": "074cb691-d101-4989-881d-6a124c1d8fb6",
   "metadata": {},
   "outputs": [],
   "source": [
    "import pandas as pd\n",
    "import numpy as np\n",
    "import matplotlib.pyplot as plt"
   ]
  },
  {
   "cell_type": "code",
   "execution_count": 2,
   "id": "c270cd26-25f0-433d-9be4-b9ef7ab78aa0",
   "metadata": {},
   "outputs": [],
   "source": [
    "class Wave:\n",
    "    \"\"\"mean wave drift force \"\"\"\n",
    "    \n",
    "    def __init__(\n",
    "        #\"\"\" relative winddirection for now as input from 0-180 on the boat looking in the heading direction\n",
    "        #\"\"\"\n",
    "        self,\n",
    "\n",
    "        rel_winddir,\n",
    "        loaded_depth = 3.45,\n",
    "        unloaded_depth = 2,\n",
    "        load = 'loaded',\n",
    "        B = 11, \n",
    "        L = 60,\n",
    "        H =4 ,\n",
    "        V_g = [0.3],\n",
    "        heading = 40,# degrees (NE)\n",
    "        winddirection = 60,# degrees (not relative but real)\n",
    "        U_wind = 2,\n",
    "        rho_air = 1.225,\n",
    "        rho_water = 1025\n",
    "        g =9.81\n",
    "        \n",
    "        \n",
    "        \n",
    "    ):\n",
    "        self.B = B\n",
    "        self.L = L\n",
    "        self.H = H\n",
    "        self.g = g\n",
    "        self.load = load\n",
    "        self.V_g = V_g\n",
    "        self.heading = heading\n",
    "        self.winddirection = winddirection\n",
    "        self.U_wind = U_wind\n",
    "        self.rho_air = rho_air\n",
    "        self.rel_winddir = rel_winddir\n",
    "        self.loaded_depth = loaded_depth\n",
    "        self.unloaded_depth = unloaded_depth\n",
    "        self.rho_water = rho_water\n",
    "        \n",
    "        def integral(self):\n",
    "            self.integral = Cwx * Sz\n",
    "            \n",
    "            return self.integral\n",
    "        \n",
    "        \n",
    "        def RWx (self):\n",
    "            \n",
    "            Rwx = 2 * self.rho_water * self.g * self.B **2/ self.L * self.integral\n",
    "       "
   ]
  },
  {
   "cell_type": "code",
   "execution_count": null,
   "id": "425ed72c-2d07-4003-ac43-5fedda513c75",
   "metadata": {},
   "outputs": [],
   "source": [
    "# integraal \n",
    "# wat moet er in die integraal \n",
    "# szz vinden voor noordzee\n"
   ]
  },
  {
   "cell_type": "code",
   "execution_count": null,
   "id": "2570bf58-692d-4803-834a-b9ee9aec23d2",
   "metadata": {},
   "outputs": [],
   "source": []
  }
 ],
 "metadata": {
  "kernelspec": {
   "display_name": "Python 3 (ipykernel)",
   "language": "python",
   "name": "python3"
  },
  "language_info": {
   "codemirror_mode": {
    "name": "ipython",
    "version": 3
   },
   "file_extension": ".py",
   "mimetype": "text/x-python",
   "name": "python",
   "nbconvert_exporter": "python",
   "pygments_lexer": "ipython3",
   "version": "3.9.12"
  }
 },
 "nbformat": 4,
 "nbformat_minor": 5
}
