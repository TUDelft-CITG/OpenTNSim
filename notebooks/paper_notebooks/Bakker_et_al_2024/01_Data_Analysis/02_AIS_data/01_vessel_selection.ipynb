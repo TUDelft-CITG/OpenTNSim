{
 "cells": [
  {
   "cell_type": "markdown",
   "id": "4c6f0266-8e0b-427a-8b93-afc2379f3758",
   "metadata": {},
   "source": [
    "### Import packages and set paths"
   ]
  },
  {
   "cell_type": "code",
   "execution_count": null,
   "id": "22f9fc57-ef33-4873-be9d-eb2da1ee2ed1",
   "metadata": {},
   "outputs": [],
   "source": [
    "import os\n",
    "\n",
    "import dask.dataframe as dd\n",
    "import dask_gateway\n",
    "import dask.distributed\n",
    "\n",
    "import dotenv\n",
    "import warnings\n",
    "warnings.filterwarnings('ignore')\n",
    "\n",
    "import geopandas as gpd\n",
    "import os\n",
    "from shapely.geometry import Polygon, MultiPolygon\n",
    "from shapely.ops import transform\n",
    "import pandas as pd\n",
    "import pickle\n",
    "import pyarrow as pa\n",
    "import pyproj"
   ]
  },
  {
   "cell_type": "markdown",
   "id": "4bb70380-d1c2-48c2-abca-6c0a84a0bcaa",
   "metadata": {},
   "source": [
    "Set the path to the AIS data"
   ]
  },
  {
   "cell_type": "code",
   "execution_count": null,
   "id": "ea42ba77-af52-4f35-969b-c73ef9e4483b",
   "metadata": {},
   "outputs": [],
   "source": [
    "#sets the path to load pre-processed ais data\n",
    "folder_name = '2022_PoR'\n",
    "path_name = 'abfs://ais/parquet/' + folder_name  \n",
    "\n",
    "#sets the path to load other local data\n",
    "current_directory = os.getcwd()\n",
    "path = current_directory.split(\"\\\\01_Data_Analysis\\\\02_AIS_data\")[0]"
   ]
  },
  {
   "cell_type": "markdown",
   "id": "b413d6f4-2505-447d-91b7-aa814a8b95d7",
   "metadata": {},
   "source": [
    "### Loads the access token (we use a SAS-token to protect the data)"
   ]
  },
  {
   "cell_type": "code",
   "execution_count": null,
   "id": "09cf8ef4-611b-41e7-8173-8606887fef35",
   "metadata": {},
   "outputs": [],
   "source": [
    "# this is for environmental variables for secrets (needs python-dotenv)\n",
    "# You can copy the  .env.example file and rename it to .env (one directory  up from the notebooks)\n",
    "# \n",
    "%load_ext dotenv\n",
    "# Load environment variables from the .env file 1 directory up\n",
    "%dotenv -v"
   ]
  },
  {
   "cell_type": "code",
   "execution_count": null,
   "id": "af6f2451-7480-4dbd-b85e-73498c4554da",
   "metadata": {},
   "outputs": [],
   "source": [
    "# read the environment variable from the .env file (we use an azure storage)\n",
    "sas_token = dotenv.dotenv_values()['AZURE_BLOB_SAS_TOKEN']"
   ]
  },
  {
   "cell_type": "code",
   "execution_count": null,
   "id": "8d98c0be-f362-48f2-8c5d-1289cf008922",
   "metadata": {},
   "outputs": [],
   "source": [
    "#storage options to access the data\n",
    "storage_options = {\"account_name\": \"rwsais\", \"sas_token\": sas_token}"
   ]
  },
  {
   "cell_type": "markdown",
   "id": "827d44b1-72db-4e6d-b97d-16e0ec517276",
   "metadata": {},
   "source": [
    "### Creation of the cluster"
   ]
  },
  {
   "cell_type": "code",
   "execution_count": null,
   "id": "a7ffd1c8-2893-4150-9927-8303abddaa16",
   "metadata": {},
   "outputs": [],
   "source": [
    "#creates the calculation cluster\n",
    "gateway = dask_gateway.Gateway()\n",
    "cluster_options = gateway.cluster_options()\n",
    "cluster = gateway.new_cluster(cluster_options)\n",
    "cluster.adapt(minimum=1, maximum=100)\n",
    "cluster"
   ]
  },
  {
   "cell_type": "code",
   "execution_count": null,
   "id": "c1f66a0e-3314-4aea-8026-2a645788d4d8",
   "metadata": {},
   "outputs": [],
   "source": [
    "#provides access to the calculation cluster\n",
    "client = dask.distributed.Client(cluster)\n",
    "client"
   ]
  },
  {
   "cell_type": "code",
   "execution_count": null,
   "id": "e386a5a5-488b-4400-8aa6-c716c05dc2d0",
   "metadata": {},
   "outputs": [],
   "source": [
    "#Downloads packages to the workers of the calculation cluster\n",
    "def worker_setup(dask_worker: dask.distributed.Worker):\n",
    "    import os\n",
    "    os.system(\"pip install -q movingpandas\")  # or pip\n",
    "\n",
    "client.register_worker_callbacks(worker_setup)"
   ]
  },
  {
   "cell_type": "markdown",
   "id": "516a47e4-a19d-4f7c-8b3c-f07f341940f4",
   "metadata": {},
   "source": [
    "### Import geospatial data and creation of areas of interests and vessel types"
   ]
  },
  {
   "cell_type": "code",
   "execution_count": null,
   "id": "3b74e33b-f7de-4d65-b8d0-60fe14f8ec5f",
   "metadata": {},
   "outputs": [],
   "source": [
    "#Creates transformation functions between spatial reference systems\n",
    "utm = pyproj.CRS('EPSG:28992')\n",
    "wgs84 = pyproj.CRS('EPSG:4326')\n",
    "wgs_to_utm = pyproj.Transformer.from_crs(wgs84,utm,always_xy=True).transform\n",
    "utm_to_wgs = pyproj.Transformer.from_crs(utm,wgs84,always_xy=True).transform"
   ]
  },
  {
   "cell_type": "code",
   "execution_count": null,
   "id": "f2dd91b1-e4bb-4b3f-813c-03f8e4baace6",
   "metadata": {},
   "outputs": [],
   "source": [
    "#Creates a dictionary with the geospatial areas of interest\n",
    "areas_of_interest = {}\n",
    "areas_of_interest['port_entrance'] = gpd.read_file(path+\"\\\\00_Input_data\\\\01_Geospatial_data\\\\Port_Entrance.geojson\")['geometry'][0]\n",
    "areas_of_interest['berths'] = transform(utm_to_wgs,MultiPolygon(pickle.load(open(path+\"\\\\00_Input_data\\\\01_Geospatial_data\\\\berths_PoR.pickle\",'rb'))['geometry'].to_list()))"
   ]
  },
  {
   "cell_type": "code",
   "execution_count": null,
   "id": "44d2a09e-302f-4403-b06a-55792cb636df",
   "metadata": {},
   "outputs": [],
   "source": [
    "#Creates a dictionary with the vessel type codes as in AIS data\n",
    "vessel_types = {}\n",
    "vessel_types['unknown']= [1, 2, 3, 4, 5, 6, 7, 8, 9, 10, 11, 12, 13, 14, 15, 16, 17, 18, 19]\n",
    "vessel_types['wig_in_ground'] = [20, 21, 22, 23, 24, 25, 26, 27, 28, 29]\n",
    "vessel_types['fishing'] = [30]\n",
    "vessel_types['towing'] = [30, 31, 32]\n",
    "vessel_types['dredging'] = [33]\n",
    "vessel_types['diving'] = [34]\n",
    "vessel_types['military'] = [35]\n",
    "vessel_types['sailing'] = [36]\n",
    "vessel_types['pleasure_craft'] = [37]\n",
    "vessel_types['reserved'] = [38, 39]\n",
    "vessel_types['high_speed_craft'] = [40, 41, 42, 43, 44, 45, 46, 47, 48, 49]\n",
    "vessel_types['pilot'] = [50]\n",
    "vessel_types['search_and_rescue'] = [51]\n",
    "vessel_types['tug'] = [52]\n",
    "vessel_types['port_tender'] = [53]\n",
    "vessel_types['anti-pollution'] = [54]\n",
    "vessel_types['law_enforcement'] = [55]\n",
    "vessel_types['spare'] = [56, 57]\n",
    "vessel_types['medical'] = [58]\n",
    "vessel_types['noncombatant'] = [59]\n",
    "vessel_types['passenger'] = [60, 61, 62, 63, 64, 65, 66, 67, 68, 69]\n",
    "vessel_types['cargo'] = [70, 71, 72, 73, 74, 75, 76, 77, 78, 79]\n",
    "vessel_types['tanker'] = [80, 81, 82, 83, 84, 85, 86, 87, 88, 89]\n",
    "vessel_types['other'] = [90, 91, 92, 93, 94, 95, 96, 97, 98, 99]"
   ]
  },
  {
   "cell_type": "markdown",
   "id": "3fda4a3c-e4d2-437d-99fc-417eacaa9ce6",
   "metadata": {},
   "source": [
    "### Selection of vessels of interest based on vessel types and addition of areas of interest booleans to AIS data"
   ]
  },
  {
   "cell_type": "code",
   "execution_count": null,
   "id": "af437e08-676d-4a2d-8976-1d68ae7894ae",
   "metadata": {},
   "outputs": [],
   "source": [
    "#Functions\n",
    "def to_datetime(df):\n",
    "    \"\"\" \n",
    "    Function that transforms the datetime types of AIS data in a pandas dataframe into standard pandas datetimes \n",
    "\n",
    "    Parameters\n",
    "    ----------\n",
    "    df: pandas dataframe containing AIS data with a datetime type in a ['timestamplast'] column\n",
    "\n",
    "    :returns: pandas dataframe containing AIS data\n",
    "    \"\"\"\n",
    "    \n",
    "    if str(df['timestamplast'].dtype).startswith('datetime'):\n",
    "        return df\n",
    "    # no dates yet\n",
    "    # we have some cleaning up to do\n",
    "    t = pd.to_datetime(df['timestamplast'], errors='coerce', utc=True)\n",
    "    invalid_t = t.isna()\n",
    "    \n",
    "    numbers = pd.to_numeric(df['timestamplast'], errors='coerce')\n",
    "    invalid_number = numbers.isna()\n",
    "    \n",
    "    # find the t's that we can fill in\n",
    "    idx = invalid_t & ~invalid_number\n",
    "    \n",
    "    # fill in numbers\n",
    "    t[idx] = pd.to_datetime(\n",
    "        df['timestamplast'][idx].astype('double'), \n",
    "        unit='s',\n",
    "        errors='coerce',\n",
    "        utc=True\n",
    "    )\n",
    "    df['timestamplast'] = t\n",
    "    return df\n",
    "\n",
    "def select_vessel_types(df,vessel_types,selected_types):   \n",
    "    \"\"\" \n",
    "    Function that selects the AIS data of vessels based on a selection of vessel types\n",
    "\n",
    "    Parameters\n",
    "    ----------\n",
    "    df: pandas dataframe containing AIS data with vesseltype codes in a ['vesseltype'] column\n",
    "    vessel_types: dictionary of vessel types with vessel type names as keys and vessel type codes as values\n",
    "    selected_vessel_types: list of vessel type names\n",
    "\n",
    "    :returns: pandas dataframe containing AIS data\n",
    "    \"\"\"\n",
    "    \n",
    "    selected_vessels = []\n",
    "    for vessel_type in selected_types:\n",
    "        selected_vessels.extend(vessel_types[vessel_type])\n",
    "    \n",
    "    selected_vessels_df = df[df['vesseltype'].isin(selected_vessels)]\n",
    "    \n",
    "    return selected_vessels_df\n",
    "\n",
    "def create_gdf(df):\n",
    "    \"\"\" \n",
    "    Function that creates a geopandas dataframe from a pandas dataframe with ['longitude'] and ['latitude']\n",
    "    columns with values in WGS4326\n",
    "\n",
    "    Parameters\n",
    "    ----------\n",
    "    df: pandas dataframe\n",
    "\n",
    "    :returns:  geopandas dataframe\n",
    "    \"\"\"\n",
    "    \n",
    "    gdf = geopandas.GeoDataFrame(df,columns=df.columns,crs=\"EPSG:4326\",geometry=geopandas.points_from_xy(df.longitude, df.latitude))\n",
    "    return gdf\n",
    "    \n",
    "def vessel_in_areas_of_interest(df,areas_of_interest):\n",
    "    \"\"\" \n",
    "    Function that determines whether a location of an AIS data message is within the areas of interest\n",
    "\n",
    "    Parameters\n",
    "    ----------\n",
    "    df: pandas dataframe containing AIS data with longitudes and latitudes in WGS84 in ['longitude'] and \n",
    "        ['latitude'] columns, respectively, and vessel names in a ['name'] column\n",
    "    areas_of_interest: dictionary with areas of interest names as names and shapely polygons as values\n",
    "\n",
    "    :returns: pandas dataframe containing AIS data\n",
    "    \"\"\"\n",
    "    \n",
    "    gdf = create_gdf(df)\n",
    "    for area in areas_of_interest:\n",
    "        gdf[area] = gdf['geometry'].apply(areas_of_interest[area].intersects)\n",
    "    \n",
    "    selected_columns = ['name','vesseltype','hazardouscargo','length','width','draughtMarine','timestamplast','longitude','latitude','sog','heading']\n",
    "    selected_columns.extend([area for area in areas_of_interest])\n",
    "    \n",
    "    df_selected = gdf[selected_columns]\n",
    "    \n",
    "    return df_selected"
   ]
  },
  {
   "cell_type": "code",
   "execution_count": null,
   "id": "19316d09-b1b2-4ea8-be2b-4c27dabb4255",
   "metadata": {},
   "outputs": [],
   "source": [
    "#Reads the data\n",
    "ddf = dd.read_parquet(path_name, storage_options=storage_options)"
   ]
  },
  {
   "cell_type": "code",
   "execution_count": null,
   "id": "b6721f28-ef57-497e-86d2-324e0d7289aa",
   "metadata": {},
   "outputs": [],
   "source": [
    "#Performs the functions on the AIS data partitions and saves the data as parquet files in the Azure storage\n",
    "ddf_i = ddf.partitions[:]\n",
    "ddf_i = ddf_i.map_partitions(to_datetime)\n",
    "ddf_i = ddf_i.map_partitions(select_vessel_types,vessel_types,selected_types=['cargo','tanker'])\n",
    "ddf_i = ddf_i.map_partitions(vessel_in_areas_of_interest,areas_of_interest=areas_of_interest)\n",
    "ddf_i = ddf_i.repartition(partition_size='10MB')\n",
    "ddf_i.to_parquet(path_name+'/selected_vessel_types_with_geometry',storage_options={\"account_name\": \"rwsais\", \"sas_token\": sas_token},write_index=True,write_metadata_file=True)"
   ]
  },
  {
   "cell_type": "markdown",
   "id": "32f3ce6d-7adb-4a1c-9c2d-834522879f17",
   "metadata": {},
   "source": [
    "### Selection of vessels of interest based on areas of interest"
   ]
  },
  {
   "cell_type": "code",
   "execution_count": null,
   "id": "157b6592-e594-462c-99fa-fe335073b41d",
   "metadata": {},
   "outputs": [],
   "source": [
    "def vessels_through_area(df,areas_of_interest):\n",
    "    \"\"\" \n",
    "    Function that isolates AIS messages of vessels that have sailed within the areas of interest\n",
    "\n",
    "    Parameters\n",
    "    ----------\n",
    "    df: pandas dataframe containing AIS data with each area of interest as columns with a column name that\n",
    "        corresponds with the names of the areas of interest, and vessel names in a ['name'] column\n",
    "    areas_of_interest: dictionary with areas of interest names as names and shapely polygons as values\n",
    "    \n",
    "    :returns: pandas dataframe with AIS data messages of interest\n",
    "    \"\"\"\n",
    "    \n",
    "    selected_vessels = {}\n",
    "    for area in areas_of_interest:\n",
    "        selected_vessels[area] = list(set(df[df[area]]['name']))\n",
    "    \n",
    "    df_list_of_vessels = pd.DataFrame([selected_vessels.values()],columns = areas_of_interest.keys())\n",
    "    \n",
    "    return df_list_of_vessels\n",
    "\n",
    "def create_list_of_selected_vessels(df,areas_of_interest):   \n",
    "    \"\"\" \n",
    "    Function that selects the names of vessels that have passed all the areas of interest \n",
    "\n",
    "    Parameters\n",
    "    ----------\n",
    "    df: pandas dataframe containing AIS data with each area of interest as columns with a column name that\n",
    "        corresponds with the names of the areas of interest, and vessel names in a ['name'] column\n",
    "    areas_of_interest: dictionary with areas of interest names as names and shapely polygons as values\n",
    "\n",
    "    :returns: list of vessel names of interest\n",
    "    \"\"\"\n",
    "    \n",
    "    selected_vessels = {}\n",
    "    for area in areas_of_interest:    \n",
    "        selected_vessels_for_area = []\n",
    "        for _,list_of_vessels in df[[area]].iterrows():\n",
    "            selected_vessels_for_area.extend(list_of_vessels.iloc[0])\n",
    "        selected_vessels[area] = list(set(selected_vessels_for_area))\n",
    "\n",
    "    for index,area in enumerate(areas_of_interest):\n",
    "        if index == 0:\n",
    "            vessel_selection = set(selected_vessels[area])\n",
    "            continue\n",
    "        vessel_selection = list(set(vessel_selection)&set(selected_vessels[area]))\n",
    "        \n",
    "    return vessel_selection\n",
    "\n",
    "def select_vessels_of_interest(df,vessel_selection,areas_of_interest):\n",
    "    \"\"\" \n",
    "    Function that selects the AIS data messages of vessels of interest\n",
    "\n",
    "    Parameters\n",
    "    ----------\n",
    "    df: pandas dataframe containing AIS data with each area of interest as columns with a column name that\n",
    "        corresponds with the names of the areas of interest, and vessel names in a ['name'] column\n",
    "    vessel_selection: list of the names of vessels of interest\n",
    "    areas_of_interest: dictionary with areas of interest names as names and shapely polygons as values\n",
    "\n",
    "    :returns: pandas dataframe containing AIS data\n",
    "    \"\"\"\n",
    "    df_selected_vessels = df[df.name.isin(vessel_selection)]\n",
    "\n",
    "    for area in areas_of_interest.keys(): \n",
    "        df_selected_vessels = df_selected_vessels.drop(area,axis=1)\n",
    "        \n",
    "    return df_selected_vessels"
   ]
  },
  {
   "cell_type": "code",
   "execution_count": null,
   "id": "9fc0b5b9-257f-40de-97a0-248fe53d89a7",
   "metadata": {},
   "outputs": [],
   "source": [
    "#Reads AIS data\n",
    "ddf = dd.read_parquet(path_name+'/selected_vessel_types_with_geometry',storage_options={\"account_name\": \"rwsais\", \"sas_token\": sas_token})"
   ]
  },
  {
   "cell_type": "code",
   "execution_count": null,
   "id": "1accdff8-5616-44b2-9ec0-da6edc5dac63",
   "metadata": {},
   "outputs": [],
   "source": [
    "#Performs the functions on the AIS data partitions and saves the data as parquet files in the Azure storage\n",
    "ddf_i = ddf.partitions[:]\n",
    "ddf_ii = ddf_i.map_partitions(vessels_through_area,areas_of_interest=areas_of_interest)\n",
    "df_list_of_vessels = ddf_ii.compute()\n",
    "vessel_selection = create_list_of_selected_vessels(df_list_of_vessels,areas_of_interest)\n",
    "ddf_i = ddf_i.map_partitions(select_vessels_of_interest,vessel_selection,areas_of_interest)\n",
    "scheme_information = {'vesseltype': pa.int64(),\n",
    "                      'hazardouscargo': pa.int64(),\n",
    "                      'length': pa.float64(),\n",
    "                      'width': pa.float64(),\n",
    "                      'draughtMarine': pa.float64(),\n",
    "                      'timestamplast': pa.timestamp('ns', tz='UTC'),\n",
    "                      'longitude': pa.float64(),\n",
    "                      'latitude': pa.float64(),\n",
    "                      'heading': pa.float64()}\n",
    "for datacolumn,datatype in scheme_information.items(): \n",
    "    ddf_i[datacolumn] = ddf_i[datacolumn].astype(datatype.to_pandas_dtype())\n",
    "ddf_i = ddf_i.repartition(partition_size=\"10MB\")\n",
    "ddf_i.to_parquet(path_name+'/selected_vessels_for_further_analysis',storage_options={\"account_name\": \"rwsais\", \"sas_token\": sas_token},write_index=False,schema=scheme_information,write_metadata_file=True)"
   ]
  },
  {
   "cell_type": "code",
   "execution_count": null,
   "id": "a9dce0d9-6e8c-41da-9fb9-b1a5415191be",
   "metadata": {},
   "outputs": [],
   "source": []
  }
 ],
 "metadata": {
  "kernelspec": {
   "display_name": "Python 3 (ipykernel)",
   "language": "python",
   "name": "python3"
  },
  "language_info": {
   "codemirror_mode": {
    "name": "ipython",
    "version": 3
   },
   "file_extension": ".py",
   "mimetype": "text/x-python",
   "name": "python",
   "nbconvert_exporter": "python",
   "pygments_lexer": "ipython3",
   "version": "3.8.16"
  }
 },
 "nbformat": 4,
 "nbformat_minor": 5
}
