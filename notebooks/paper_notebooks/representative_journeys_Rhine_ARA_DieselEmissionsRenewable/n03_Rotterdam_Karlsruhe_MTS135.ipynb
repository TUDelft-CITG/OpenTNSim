{
 "cells": [
  {
   "cell_type": "markdown",
   "id": "5d9ce309",
   "metadata": {},
   "source": [
    "### Imports\n",
    "Import the required libraries"
   ]
  },
  {
   "cell_type": "code",
   "execution_count": 1,
   "id": "2f23dc0b",
   "metadata": {},
   "outputs": [],
   "source": [
    "# package(s) related to time, space and id\n",
    "import logging\n",
    "import datetime, time\n",
    "import platform\n",
    "import itertools\n",
    "# you need these dependencies (you can get these from anaconda)\n",
    "# package(s) related to the simulation\n",
    "import simpy\n",
    "import pandas as pd\n",
    "\n",
    "# spatial libraries \n",
    "import pyproj\n",
    "import shapely.geometry\n",
    "from simplekml import Kml, Style\n",
    "\n",
    "# package(s) for data handling\n",
    "import numpy as np\n",
    "import matplotlib.pyplot as plt\n",
    "\n",
    "# OpenTNSim\n",
    "import opentnsim\n",
    "\n",
    "# Used for mathematical functions\n",
    "import math             \n",
    "import tqdm\n",
    "# Used for making the graph to visualize our problem\n",
    "import networkx as nx   \n",
    "\n",
    "import plotly.express as px\n",
    "from plotly.subplots import make_subplots\n",
    "\n",
    "#logging.basicConfig(level=logging.DEBUG) #turn on all the debug messages\n",
    "logging.basicConfig(level=logging.INFO)# turn off all the debug messages\n"
   ]
  },
  {
   "cell_type": "markdown",
   "id": "738a48f2",
   "metadata": {},
   "source": [
    "### Create graph\n"
   ]
  },
  {
   "cell_type": "code",
   "execution_count": 2,
   "id": "3255d0dd",
   "metadata": {},
   "outputs": [],
   "source": [
    "# specify a number of coordinate along your route (coords are: lon, lat)\n",
    "coords = [\n",
    "    [0,0],\n",
    "    [0.53898,0],\n",
    "    [4.31184,0], \n",
    "    [4.76099,0],\n",
    "    [6.01861,0]\n",
    "] \n",
    "\n",
    "# for each edge (between above coordinates) specify the depth (m)\n",
    "depths = [6, 4.5, 3.2, 4.5]\n",
    "\n",
    "# check of nr of coords and nr of depths align\n",
    "assert len(coords) == len(depths) + 1, 'nr of depths does not correspond to nr of coords'"
   ]
  },
  {
   "cell_type": "code",
   "execution_count": 3,
   "id": "0e482d81",
   "metadata": {},
   "outputs": [],
   "source": [
    "# create a graph based on coords and depths\n",
    "FG = nx.DiGraph()\n",
    "nodes = []\n",
    "path = []\n",
    "\n",
    "# add nodes\n",
    "Node = type('Site', (opentnsim.core.Identifiable, opentnsim.core.Locatable), {})\n",
    "\n",
    "for index, coord in enumerate(coords):\n",
    "    data_node = {\"name\": \"Node \" + str(index), \"geometry\": shapely.geometry.Point(coord[0], coord[1])}\n",
    "    nodes.append(Node(**data_node))\n",
    "    \n",
    "positions = {}\n",
    "for node in nodes:\n",
    "    positions[node.name] = (node.geometry.x, node.geometry.y)\n",
    "    FG.add_node(node.name, geometry = node.geometry)\n",
    "\n",
    "# add edges\n",
    "path = [[nodes[i], nodes[i+1]] for i in range(len(nodes)-1)]\n",
    "\n",
    "for index, edge in enumerate(path):\n",
    "    # For the energy consumption calculation we add info to the graph. We need depth info for resistance.\n",
    "    # NB: the CalculateEnergy routine expects the graph to have \"Info\" that contains \"GeneralDepth\" \n",
    "    #     this may not be very generic!\n",
    "    FG.add_edge(edge[0].name, edge[1].name, weight = 1, Info = {\"GeneralDepth\": depths[index]})\n",
    "\n",
    "# toggle to undirected and back to directed to make sure all edges are two way traffic\n",
    "FG = FG.to_undirected() \n",
    "FG = FG.to_directed() "
   ]
  },
  {
   "cell_type": "code",
   "execution_count": 4,
   "id": "c99fed1e",
   "metadata": {},
   "outputs": [
    {
     "data": {
      "image/png": "[encoded data removed]",
      "text/plain": [
       "<Figure size 432x288 with 1 Axes>"
      ]
     },
     "metadata": {},
     "output_type": "display_data"
    }
   ],
   "source": [
    "# show graph\n",
    "nx.draw(FG, positions)\n",
    "plt.show()"
   ]
  },
  {
   "cell_type": "code",
   "execution_count": 5,
   "id": "dbb74982",
   "metadata": {},
   "outputs": [
    {
     "name": "stdout",
     "output_type": "stream",
     "text": [
      "General depth for edge ('Node 0', 'Node 1') is 6\n",
      "General depth for edge ('Node 1', 'Node 0') is 6\n",
      "General depth for edge ('Node 1', 'Node 2') is 4.5\n",
      "General depth for edge ('Node 2', 'Node 1') is 4.5\n",
      "General depth for edge ('Node 2', 'Node 3') is 3.2\n",
      "General depth for edge ('Node 3', 'Node 2') is 3.2\n",
      "General depth for edge ('Node 3', 'Node 4') is 4.5\n",
      "General depth for edge ('Node 4', 'Node 3') is 4.5\n"
     ]
    }
   ],
   "source": [
    "# This cell just shows that now a depth of 10 m is added to the edges. \n",
    "# You can use this to vary depths, e.g. make the middle edge shallower. Note that edges are bi-directional \n",
    "for edge in FG.edges:\n",
    "    print('General depth for edge {} is {}'.format(edge, FG.get_edge_data(edge[0], edge[1])[\"Info\"][\"GeneralDepth\"]))"
   ]
  },
  {
   "cell_type": "markdown",
   "id": "2796b4d3",
   "metadata": {},
   "source": [
    "### Create vessel - add VesselProperties and ConsumesEnergy mixins\n"
   ]
  },
  {
   "cell_type": "code",
   "execution_count": 6,
   "id": "689cc5ea",
   "metadata": {},
   "outputs": [],
   "source": [
    "# Make your preferred class out of available mix-ins.\n",
    "TransportResource = type(\n",
    "    \"Vessel\",\n",
    "    (\n",
    "        opentnsim.core.Identifiable,\n",
    "        opentnsim.core.Movable,\n",
    "        opentnsim.core.VesselProperties,  # needed to add vessel properties\n",
    "        opentnsim.energy.ConsumesEnergy,\n",
    "        opentnsim.core.ExtraMetadata,\n",
    "    ),\n",
    "    {},\n",
    ")  # needed to calculate resistances"
   ]
  },
  {
   "cell_type": "code",
   "execution_count": 7,
   "id": "9bcef32d",
   "metadata": {},
   "outputs": [],
   "source": [
    "# Create a dict with all important settings\n",
    "\n",
    "data_vessel = {\n",
    "    \"env\": None,\n",
    "    \"name\": 'Vessel',\n",
    "    \"route\": None,\n",
    "    \"geometry\": None,\n",
    "    \"v\": 1,  # m/s\n",
    "    \"type\": None,\n",
    "    \"B\": 11.45,\n",
    "    \"L\": 135,\n",
    "    \"H_e\": None, \n",
    "    \"H_f\": None, \n",
    "    \"T\": 2.6,\n",
    "    \"safety_margin\": 0.3, # for tanker vessel with rocky bed the safety margin is recommended as 0.3 m\n",
    "    \"h_squat\": True, # if consider the ship squatting while moving, set to True, otherwise set to False. Note that here we have disabled h_squat calculation since we regard the water depth h_0 is already reduced by squat effect. This applies to figures 3, 5, 7, 8 and 9.\n",
    "    \"payload\":None,\n",
    "    \"vessel_type\":\"Tanker\", #vessel types: \"Container\",\"Dry_SH\",\"Dry_DH\",\"Barge\",\"Tanker\". (\"Dry_SH\" means dry bulk single hull, \"Dry_DH\" means dry bulk double hull)    \n",
    "    \"P_installed\": 2347, # kW  \n",
    "    \"P_tot_given\": None, # kW\n",
    "    \"bulbous_bow\": False, # if a vessel has no bulbous_bow, set to False; otherwise set to True.\n",
    "    \"P_hotel_perc\": 0,\n",
    "    \"P_hotel\": None, # None: calculate P_hotel from percentage\n",
    "    \"x\": 2,# number of propellers\n",
    "    \"L_w\": 3.0 ,\n",
    "    \"C_B\":0.9, \n",
    "    \"C_year\": 2000,\n",
    "}             \n",
    "\n"
   ]
  },
  {
   "cell_type": "markdown",
   "id": "67658145",
   "metadata": {},
   "source": [
    "### Define paths\n",
    "We are going to create a simulation in which a vessel moves from *Node 1* to *Node 4*. Therefore, we need to create a vessel to which we will need to append this paths. Therefore, first let's create the path."
   ]
  },
  {
   "cell_type": "code",
   "execution_count": 8,
   "id": "059bf568",
   "metadata": {},
   "outputs": [],
   "source": [
    "path = nx.dijkstra_path(FG, nodes[0].name, nodes[4].name)"
   ]
  },
  {
   "cell_type": "markdown",
   "id": "639fc222",
   "metadata": {},
   "source": [
    "### Run simulation\n"
   ]
  },
  {
   "cell_type": "code",
   "execution_count": 9,
   "id": "16e34b3b",
   "metadata": {},
   "outputs": [],
   "source": [
    "def run_simulation(V_s):\n",
    "    \n",
    "    # Start simpy environment\n",
    "    simulation_start = datetime.datetime.now()\n",
    "    env = simpy.Environment(initial_time = time.mktime(simulation_start.timetuple()))\n",
    "    env.epoch = time.mktime(simulation_start.timetuple())\n",
    "\n",
    "    # Add graph to environment\n",
    "    env.FG = FG\n",
    "\n",
    "    # Add environment and path to the vessel\n",
    "    # create a fresh instance of vessel\n",
    "    vessel = TransportResource(**data_vessel)\n",
    "    vessel.env = env                                        #the created environment\n",
    "    vessel.name = 'Vessel No.1'                     \n",
    "    vessel.route = path                                     #the route (the sequence of nodes, as stored as the second column in the path)\n",
    "    vessel.geometry = env.FG.nodes[path[0]]['geometry']     #a shapely.geometry.Point(lon,lat) (here taken as the starting node of the vessel)\n",
    "    vessel.v = V_s\n",
    "    # vessel.P_tot_given = P_tot_given\n",
    "    \n",
    "    # Start the simulation\n",
    "    env.process(vessel.move())\n",
    "    env.run()\n",
    "    \n",
    "    return vessel"
   ]
  },
  {
   "cell_type": "code",
   "execution_count": 10,
   "id": "4b9f8d56",
   "metadata": {},
   "outputs": [
    {
     "data": {
      "text/plain": [
       "{'V_s': [3]}"
      ]
     },
     "execution_count": 10,
     "metadata": {},
     "output_type": "execute_result"
    }
   ],
   "source": [
    "input_data = {'V_s': [3]} #  3.44 m/s = 12.4 km/h\n",
    "input_data"
   ]
  },
  {
   "cell_type": "code",
   "execution_count": 11,
   "id": "0ebd1c01",
   "metadata": {
    "tags": []
   },
   "outputs": [
    {
     "name": "stdout",
     "output_type": "stream",
     "text": [
      "5.889062916236929\n",
      "eta_D = 0.37\n",
      "eta_D = 0.37\n",
      "eta_D = 0.37\n",
      "4.359951932023686\n",
      "eta_D = 0.28\n",
      "eta_D = 0.28\n",
      "eta_D = 0.28\n",
      "3.0154101675452796\n",
      "eta_D = 0.28\n",
      "eta_D = 0.28\n",
      "eta_D = 0.28\n",
      "4.359951932021605\n",
      "eta_D = 0.28\n",
      "eta_D = 0.28\n",
      "eta_D = 0.28\n"
     ]
    },
    {
     "name": "stderr",
     "output_type": "stream",
     "text": [
      "C:\\ANACONDA2021\\envs\\sim\\lib\\site-packages\\pandas\\core\\dtypes\\cast.py:122: ShapelyDeprecationWarning:\n",
      "\n",
      "The array interface is deprecated and will no longer work in Shapely 2.0. Convert the '.coords' to a numpy array instead.\n",
      "\n"
     ]
    }
   ],
   "source": [
    "# create empty plot data\n",
    "plot_data = {}\n",
    "\n",
    "# loop through the various input data\n",
    "for index, value in enumerate(input_data['V_s']):\n",
    "    \n",
    "    # Run a basic simulation with V_s and P_tot_given combi\n",
    "    vessel = run_simulation(input_data['V_s'][index])\n",
    "    \n",
    "    # create an EnergyCalculation object and perform energy consumption calculation\n",
    "    energycalculation = opentnsim.energy.EnergyCalculation(FG, vessel)\n",
    "    energycalculation.calculate_energy_consumption()\n",
    "    \n",
    "    # create dataframe from energy calculation computation\n",
    "    df = pd.DataFrame.from_dict(energycalculation.energy_use)\n",
    "    \n",
    "    # add/modify some comlums to suit our plotting needs\n",
    "   \n",
    "    df['fuel_kg_per_km'] = (df['total_diesel_consumption_C_year_ICE_mass']/1000) / (df['distance']/1000)  # g/m --> kg/km\n",
    "    df['CO2_g_per_km']   = (df['total_emission_CO2']) / (df['distance']/1000)\n",
    "    df['PM10_g_per_km']  = (df['total_emission_PM10']) / (df['distance']/1000)\n",
    "    df['NOx_g_per_km']   = (df['total_emission_NOX']) / (df['distance']/1000)\n",
    "    \n",
    "    label = 'V_s = ' + str(input_data['V_s'][index]) \n",
    "\n",
    "    # Note that we make a dict to collect all plot data. \n",
    "    # We use labels like ['V_s = None P_tot_given = 274 fuel_kg_km'] to organise the data in the dict\n",
    "    # The [0, 0, 1, 1, 2, 2] below creates a list per section (I think this is the way you use it in your plot)\n",
    "    # plot_data[label + ' v'] = list(df.distance[[0, 0, 1, 1, 2, 2]]/df.delta_t[[0, 0, 1, 1, 2, 2]])\n",
    "    # plot_data[label + ' P_tot']   = list(df.P_tot[[0, 0, 1, 1, 2, 2]])\n",
    "    plot_data[label + ' fuel_kg_per_km']   = list(df.fuel_kg_per_km[[0, 0, 1, 1, 2, 2, 3, 3]])\n",
    "    plot_data[label + ' CO2_g_per_km'] = list(df.CO2_g_per_km[[0, 0, 1, 1, 2, 2, 3, 3]])\n",
    "    plot_data[label + ' PM10_g_per_km']   = list(df.PM10_g_per_km[[0, 0, 1, 1, 2, 2, 3, 3]])\n",
    "    plot_data[label + ' NOx_g_per_km']   = list(df.NOx_g_per_km[[0, 0, 1, 1, 2, 2, 3, 3]])\n",
    "        "
   ]
  },
  {
   "cell_type": "code",
   "execution_count": 12,
   "id": "e5ffc56e",
   "metadata": {
    "tags": []
   },
   "outputs": [
    {
     "data": {
      "text/plain": [
       "{'V_s = 3 fuel_kg_per_km': [6.598052685912342,\n",
       "  6.598052685912342,\n",
       "  8.926934431524854,\n",
       "  8.926934431524854,\n",
       "  10.799692354757441,\n",
       "  10.799692354757441,\n",
       "  8.926934431669386,\n",
       "  8.926934431669386],\n",
       " 'V_s = 3 CO2_g_per_km': [20920.65485777084,\n",
       "  20920.65485777084,\n",
       "  28304.91405117637,\n",
       "  28304.91405117637,\n",
       "  34242.92697849921,\n",
       "  34242.92697849921,\n",
       "  28304.91405163463,\n",
       "  28304.91405163463],\n",
       " 'V_s = 3 PM10_g_per_km': [11.96803044504211,\n",
       "  11.96803044504211,\n",
       "  14.144958351431749,\n",
       "  14.144958351431749,\n",
       "  16.195515190638474,\n",
       "  16.195515190638474,\n",
       "  14.144958351564812,\n",
       "  14.144958351564812],\n",
       " 'V_s = 3 NOx_g_per_km': [318.52903118487296,\n",
       "  318.52903118487296,\n",
       "  399.7325959945935,\n",
       "  399.7325959945935,\n",
       "  471.5708350281408,\n",
       "  471.5708350281408,\n",
       "  399.7325959998105,\n",
       "  399.7325959998105]}"
      ]
     },
     "execution_count": 12,
     "metadata": {},
     "output_type": "execute_result"
    }
   ],
   "source": [
    "# this is now in the plot data\n",
    "plot_data"
   ]
  },
  {
   "cell_type": "code",
   "execution_count": null,
   "id": "5a14189b-361a-487e-aae0-6276c971b5c6",
   "metadata": {},
   "outputs": [],
   "source": []
  },
  {
   "cell_type": "code",
   "execution_count": 13,
   "id": "63eb40e5",
   "metadata": {},
   "outputs": [
    {
     "name": "stderr",
     "output_type": "stream",
     "text": [
      "WARNING:matplotlib.legend:No artists with labels found to put in legend.  Note that artists whose label start with an underscore are ignored when legend() is called with no argument.\n"
     ]
    },
    {
     "data": {
      "image/png": "[encoded data removed]",
      "text/plain": [
       "<Figure size 720x720 with 5 Axes>"
      ]
     },
     "metadata": {
      "needs_background": "light"
     },
     "output_type": "display_data"
    }
   ],
   "source": [
    "fig, axs = plt.subplots(5, 1, figsize=(10, 10), sharex=True,constrained_layout=True)\n",
    "fontsize=12\n",
    "\n",
    "ax=plt.subplot(511)    # Longitudinal section of the waterway\n",
    "\n",
    "plt.title('Rotterdam-Karlsruhe, MTS 135: L$_s$ = 135 m, B$_s$ = 11.45 m, T$_s$ = 2.6 m, payload = 2917 ton, P$_{installed}$ = 2347 kW',y=1.05)\n",
    "# these values you probably want to extract from the graph, or from the log (minimise the manual work!!)\n",
    "dist=[0,60,60,480,480,530,530,670]\n",
    "water_level=[3.4,3.4,1.9,1.9,0.6,0.6,1.9,1.9]\n",
    "bed_level=[1,1,2.5,2.5,3.8,3.8,2.5,2.5]\n",
    "draft=[2.6,2.6,2.6,2.6,2.6,2.6,2.6,2.6]\n",
    "\n",
    "plt.stackplot(dist,bed_level,water_level,draft, labels=['bed','water','actual draught'],colors=['#7f7053','#75bbfd','#95d0fc'])\n",
    "plt.ylabel('Longitudinal section \\n of the waterway',fontsize=12,fontweight='bold',labelpad=30)\n",
    "plt.xlim(0, 670)\n",
    "plt.ylim(0, 14)\n",
    "plt.xticks( weight = 'bold')\n",
    "plt.yticks([1,4.4,7], weight = 'bold', fontsize=12)\n",
    "ax.legend(loc='upper left')\n",
    "ax.text(640, 12, '(a)', fontsize=12,weight = 'bold')\n",
    "\n",
    "ax=plt.subplot(512)    #  fuel (diesel) consumption kg/km \n",
    "\n",
    "# diesel_fv1=(plot_data['V_s = 3.0 P_tot_given = None fuel_kg_per_km']) # use values from the output_plot variable\n",
    "# diesel_fv2=(plot_data['V_s = 3.5 P_tot_given = None fuel_kg_per_km'])\n",
    "\n",
    "# diesel_fp1=(plot_data['V_s = None P_tot_given = 276 fuel_kg_per_km'])\n",
    "diesel_fp2=(plot_data['V_s = 3 fuel_kg_per_km'])\n",
    "# plt.plot(dist, diesel_fv1,':',color='#f1da7a',linewidth='2',label='Vs=3 m/s')\n",
    "# plt.plot(dist, diesel_fv2,'-.',color='#bf9005',linewidth='2',label='Vs=3.5 m/s')\n",
    "# plt.plot(dist, diesel_fp1,color='#f1da7a',linewidth='2',label='P=276 kW')\n",
    "plt.plot(dist, diesel_fp2,color='#bf9005',linewidth='2',label='Vs = 10.8 km/h')\n",
    "\n",
    "\n",
    "\n",
    "plt.ylabel('Fuel use\\n (kg/km)',fontsize=12,fontweight='bold',labelpad=28)\n",
    "plt.ylim(0, 20)\n",
    "plt.xlim(0, 670)\n",
    "plt.xticks( weight = 'bold')\n",
    "plt.yticks( weight = 'bold', fontsize=12)\n",
    "ax.legend(loc='upper left')\n",
    "ax.text(640, 20*11/13, '(b)', fontsize=12,weight = 'bold')\n",
    "\n",
    "ax=plt.subplot(513)    #  CO2 emission rates g/km\n",
    "ax.legend(loc='upper left')\n",
    "\n",
    "# EMrCO2_fv1=(plot_data['V_s = 3.0 P_tot_given = None CO2_g_per_km'])\n",
    "# EMrCO2_fv2=(plot_data['V_s = 3.5 P_tot_given = None CO2_g_per_km'])\n",
    "\n",
    "# EMrCO2_fp1=(plot_data['V_s = None P_tot_given = 276 CO2_g_per_km'])\n",
    "EMrCO2_fp2=(plot_data['V_s = 3 CO2_g_per_km'])\n",
    "\n",
    "# plt.plot(dist, EMrCO2_fv1,':',color='yellow',linewidth='2',label='Vs=3 m/s')\n",
    "# plt.plot(dist, EMrCO2_fv2,'-.',color='orange',linewidth='2',label='Vs=3.5 m/s')\n",
    "# plt.plot(dist, EMrCO2_fp1,color='yellow',linewidth='2',label='P=276 kW')\n",
    "plt.plot(dist, EMrCO2_fp2,color='orange',linewidth='2',label='Vs = 10.8 km/h')\n",
    "\n",
    "\n",
    "ax.legend(loc='upper left')\n",
    "plt.ylabel('CO2 emission \\n rate (g/km)',fontsize=12,fontweight='bold',labelpad=2)\n",
    "plt.ylim(0, 60000)\n",
    "plt.xlim(0, 670)\n",
    "plt.xticks( weight = 'bold')\n",
    "plt.yticks( weight = 'bold', fontsize=12)\n",
    "ax.text(640, 60000*11/13, '(c)', fontsize=12,weight = 'bold')\n",
    "\n",
    "ax=plt.subplot(514)    #  PM10 emission rates g/km\n",
    "\n",
    "# EMrPM10_fv1=(plot_data['V_s = 3.0 P_tot_given = None PM10_g_per_km'])\n",
    "# EMrPM10_fv2=(plot_data['V_s = 3.5 P_tot_given = None PM10_g_per_km'])\n",
    "\n",
    "# EMrPM10_fp1=(plot_data['V_s = None P_tot_given = 276 PM10_g_per_km'])\n",
    "EMrPM10_fp2=(plot_data['V_s = 3 PM10_g_per_km'])\n",
    "# plt.plot(dist, EMrPM10_fv1,':',color='paleturquoise',linewidth='2',label='Vs=3 m/s')\n",
    "# plt.plot(dist, EMrPM10_fv2,'-.',color='mediumseagreen',linewidth='2',label='Vs=3.5 m/s')\n",
    "# plt.plot(dist, EMrPM10_fp1,color='paleturquoise',linewidth='2',label='P=276 kW')\n",
    "plt.plot(dist, EMrPM10_fp2,color='mediumseagreen',linewidth='2',label='Vs = 10.8 km/h')\n",
    "\n",
    "\n",
    "\n",
    "ax.legend(loc='upper left')\n",
    "plt.ylabel('PM10 emission \\n rate (g/km)',fontsize=12,fontweight='bold',labelpad=26)\n",
    "plt.ylim(0, 40)\n",
    "plt.xlim(0, 670)\n",
    "plt.xticks( weight = 'bold')\n",
    "plt.yticks( weight = 'bold', fontsize=12)\n",
    "ax.text(640, 40*11/13, '(d)', fontsize=12,weight = 'bold')\n",
    "\n",
    "ax=plt.subplot(515)     #  NOx emission rates g/km\n",
    "\n",
    "# EMrNOx_fv1=(plot_data['V_s = 3.0 P_tot_given = None NOx_g_per_km'])\n",
    "# EMrNOx_fv2=(plot_data['V_s = 3.5 P_tot_given = None NOx_g_per_km'])\n",
    "\n",
    "# EMrNOx_fp1=(plot_data['V_s = None P_tot_given = 276 NOx_g_per_km'])\n",
    "EMrNOx_fp2=(plot_data['V_s = 3 NOx_g_per_km'])\n",
    "# plt.plot(dist, EMrNOx_fv1,':',color='pink',linewidth='2',label='Vs=3 m/s')\n",
    "# plt.plot(dist, EMrNOx_fv2,'-.',color='deeppink',linewidth='2',label='Vs=3.5 m/s')\n",
    "# plt.plot(dist, EMrNOx_fp1,color='pink',linewidth='2',label='P=276 kW')\n",
    "plt.plot(dist, EMrNOx_fp2,color='deeppink',linewidth='2',label='Vs = 10.8 km/h')\n",
    "\n",
    "\n",
    "\n",
    "plt.ylabel('NOx emission \\n rate (g/km)',fontsize=12,fontweight='bold',labelpad=10)\n",
    "plt.xlabel('distance (km)',fontsize=12,fontweight='bold',labelpad=3)\n",
    "plt.ylim(0, 1000)\n",
    "plt.xlim(0, 670)\n",
    "ax.legend(loc='upper left')\n",
    "plt.xticks([0,60,480,530,670], weight = 'bold', fontsize=12)\n",
    "plt.yticks( weight = 'bold', fontsize=12)\n",
    "ax.text(640, 1000*11/13, '(e)', fontsize=12,weight = 'bold')\n",
    "\n",
    "plt.savefig('n03_Rotterdam_Karlsruhe_MTS135.pdf',bbox_inches = 'tight', dpi=600, format='pdf')  "
   ]
  },
  {
   "cell_type": "markdown",
   "id": "3d0cfe1f-4411-4e99-889c-5c4870bf3750",
   "metadata": {},
   "source": [
    "### kg/km, g/km"
   ]
  },
  {
   "cell_type": "code",
   "execution_count": 14,
   "id": "4f8e24bc-c20b-4489-a514-791b841dc09e",
   "metadata": {
    "jupyter": {
     "source_hidden": true
    },
    "tags": []
   },
   "outputs": [],
   "source": [
    "df['fuel_kg_per_km'] = (df['total_diesel_consumption_C_year_ICE_mass']/1000) / (df['distance']/1000)  # g/m --> kg/km\n",
    "df['CO2_g_per_km']   = (df['total_emission_CO2']) / (df['distance']/1000)\n",
    "df['PM10_g_per_km']  = (df['total_emission_PM10']) / (df['distance']/1000)\n",
    "df['NOx_g_per_km']   = (df['total_emission_NOX']) / (df['distance']/1000)"
   ]
  },
  {
   "cell_type": "code",
   "execution_count": 15,
   "id": "eb548caf-0d4c-45c9-8db3-08f8d009e8d1",
   "metadata": {
    "jupyter": {
     "source_hidden": true
    },
    "tags": []
   },
   "outputs": [
    {
     "data": {
      "text/html": [
       "<div>\n",
       "<style scoped>\n",
       "    .dataframe tbody tr th:only-of-type {\n",
       "        vertical-align: middle;\n",
       "    }\n",
       "\n",
       "    .dataframe tbody tr th {\n",
       "        vertical-align: top;\n",
       "    }\n",
       "\n",
       "    .dataframe thead th {\n",
       "        text-align: right;\n",
       "    }\n",
       "</style>\n",
       "<table border=\"1\" class=\"dataframe\">\n",
       "  <thead>\n",
       "    <tr style=\"text-align: right;\">\n",
       "      <th></th>\n",
       "      <th>fuel_kg_per_km</th>\n",
       "      <th>CO2_g_per_km</th>\n",
       "      <th>PM10_g_per_km</th>\n",
       "      <th>NOx_g_per_km</th>\n",
       "    </tr>\n",
       "  </thead>\n",
       "  <tbody>\n",
       "    <tr>\n",
       "      <th>0</th>\n",
       "      <td>6.598053</td>\n",
       "      <td>20920.654858</td>\n",
       "      <td>11.968030</td>\n",
       "      <td>318.529031</td>\n",
       "    </tr>\n",
       "    <tr>\n",
       "      <th>1</th>\n",
       "      <td>8.926934</td>\n",
       "      <td>28304.914051</td>\n",
       "      <td>14.144958</td>\n",
       "      <td>399.732596</td>\n",
       "    </tr>\n",
       "    <tr>\n",
       "      <th>2</th>\n",
       "      <td>10.799692</td>\n",
       "      <td>34242.926978</td>\n",
       "      <td>16.195515</td>\n",
       "      <td>471.570835</td>\n",
       "    </tr>\n",
       "    <tr>\n",
       "      <th>3</th>\n",
       "      <td>8.926934</td>\n",
       "      <td>28304.914052</td>\n",
       "      <td>14.144958</td>\n",
       "      <td>399.732596</td>\n",
       "    </tr>\n",
       "  </tbody>\n",
       "</table>\n",
       "</div>"
      ],
      "text/plain": [
       "   fuel_kg_per_km  CO2_g_per_km  PM10_g_per_km  NOx_g_per_km\n",
       "0        6.598053  20920.654858      11.968030    318.529031\n",
       "1        8.926934  28304.914051      14.144958    399.732596\n",
       "2       10.799692  34242.926978      16.195515    471.570835\n",
       "3        8.926934  28304.914052      14.144958    399.732596"
      ]
     },
     "execution_count": 15,
     "metadata": {},
     "output_type": "execute_result"
    }
   ],
   "source": [
    "df_km=df[['fuel_kg_per_km','CO2_g_per_km','PM10_g_per_km','NOx_g_per_km']]\n",
    "df_km"
   ]
  },
  {
   "cell_type": "markdown",
   "id": "484363a7-9590-44b6-b7fe-83e5cb3cdead",
   "metadata": {},
   "source": [
    "### g/tkm in sections"
   ]
  },
  {
   "cell_type": "code",
   "execution_count": 16,
   "id": "749bebfe-7a05-42dc-860e-c36117d23936",
   "metadata": {
    "tags": []
   },
   "outputs": [],
   "source": [
    "payload_ton = 2917"
   ]
  },
  {
   "cell_type": "code",
   "execution_count": 17,
   "id": "64c3d04d-0d14-42ab-8e66-e8fcfc6faf73",
   "metadata": {
    "jupyter": {
     "source_hidden": true
    },
    "tags": []
   },
   "outputs": [],
   "source": [
    "df['fuel_g_per_tkm']=(df['total_diesel_consumption_C_year_ICE_mass']) / (df['distance']/1000)/payload_ton\n",
    "df['CO2_g_per_tkm']=df['CO2_g_per_km']/payload_ton\n",
    "df['PM10_g_per_tkm']=df['PM10_g_per_km']/payload_ton\n",
    "df['NOx_g_per_tkm']=df['NOx_g_per_km']/payload_ton"
   ]
  },
  {
   "cell_type": "code",
   "execution_count": 18,
   "id": "37966b9d-c849-498e-82c9-281a9d85a066",
   "metadata": {
    "jupyter": {
     "source_hidden": true
    },
    "tags": []
   },
   "outputs": [
    {
     "data": {
      "text/html": [
       "<div>\n",
       "<style scoped>\n",
       "    .dataframe tbody tr th:only-of-type {\n",
       "        vertical-align: middle;\n",
       "    }\n",
       "\n",
       "    .dataframe tbody tr th {\n",
       "        vertical-align: top;\n",
       "    }\n",
       "\n",
       "    .dataframe thead th {\n",
       "        text-align: right;\n",
       "    }\n",
       "</style>\n",
       "<table border=\"1\" class=\"dataframe\">\n",
       "  <thead>\n",
       "    <tr style=\"text-align: right;\">\n",
       "      <th></th>\n",
       "      <th>fuel_g_per_tkm</th>\n",
       "      <th>CO2_g_per_tkm</th>\n",
       "      <th>PM10_g_per_tkm</th>\n",
       "      <th>NOx_g_per_tkm</th>\n",
       "    </tr>\n",
       "  </thead>\n",
       "  <tbody>\n",
       "    <tr>\n",
       "      <th>0</th>\n",
       "      <td>2.261931</td>\n",
       "      <td>7.171976</td>\n",
       "      <td>0.004103</td>\n",
       "      <td>0.109197</td>\n",
       "    </tr>\n",
       "    <tr>\n",
       "      <th>1</th>\n",
       "      <td>3.060313</td>\n",
       "      <td>9.703433</td>\n",
       "      <td>0.004849</td>\n",
       "      <td>0.137036</td>\n",
       "    </tr>\n",
       "    <tr>\n",
       "      <th>2</th>\n",
       "      <td>3.702329</td>\n",
       "      <td>11.739090</td>\n",
       "      <td>0.005552</td>\n",
       "      <td>0.161663</td>\n",
       "    </tr>\n",
       "    <tr>\n",
       "      <th>3</th>\n",
       "      <td>3.060313</td>\n",
       "      <td>9.703433</td>\n",
       "      <td>0.004849</td>\n",
       "      <td>0.137036</td>\n",
       "    </tr>\n",
       "  </tbody>\n",
       "</table>\n",
       "</div>"
      ],
      "text/plain": [
       "   fuel_g_per_tkm  CO2_g_per_tkm  PM10_g_per_tkm  NOx_g_per_tkm\n",
       "0        2.261931       7.171976        0.004103       0.109197\n",
       "1        3.060313       9.703433        0.004849       0.137036\n",
       "2        3.702329      11.739090        0.005552       0.161663\n",
       "3        3.060313       9.703433        0.004849       0.137036"
      ]
     },
     "execution_count": 18,
     "metadata": {},
     "output_type": "execute_result"
    }
   ],
   "source": [
    "df_tkm=df[['fuel_g_per_tkm','CO2_g_per_tkm','PM10_g_per_tkm','NOx_g_per_tkm']]\n",
    "df_tkm"
   ]
  },
  {
   "cell_type": "markdown",
   "id": "41784c12-4856-4c8f-96ca-638f6cb51ed7",
   "metadata": {},
   "source": [
    "### g/tkm  mean value"
   ]
  },
  {
   "cell_type": "code",
   "execution_count": 19,
   "id": "263b7046-9ec5-4248-bbfc-48a5381b489d",
   "metadata": {
    "jupyter": {
     "source_hidden": true
    },
    "tags": []
   },
   "outputs": [
    {
     "data": {
      "text/html": [
       "<div>\n",
       "<style scoped>\n",
       "    .dataframe tbody tr th:only-of-type {\n",
       "        vertical-align: middle;\n",
       "    }\n",
       "\n",
       "    .dataframe tbody tr th {\n",
       "        vertical-align: top;\n",
       "    }\n",
       "\n",
       "    .dataframe thead th {\n",
       "        text-align: right;\n",
       "    }\n",
       "</style>\n",
       "<table border=\"1\" class=\"dataframe\">\n",
       "  <thead>\n",
       "    <tr style=\"text-align: right;\">\n",
       "      <th></th>\n",
       "      <th>fuel_g_per_tkm</th>\n",
       "      <th>CO2_g_per_tkm</th>\n",
       "      <th>PM10_g_per_tkm</th>\n",
       "      <th>NOx_g_per_tkm</th>\n",
       "    </tr>\n",
       "  </thead>\n",
       "  <tbody>\n",
       "    <tr>\n",
       "      <th>0</th>\n",
       "      <td>3.021222</td>\n",
       "      <td>9.579483</td>\n",
       "      <td>0.004838</td>\n",
       "      <td>0.136233</td>\n",
       "    </tr>\n",
       "  </tbody>\n",
       "</table>\n",
       "</div>"
      ],
      "text/plain": [
       "   fuel_g_per_tkm  CO2_g_per_tkm  PM10_g_per_tkm  NOx_g_per_tkm\n",
       "0        3.021222       9.579483        0.004838       0.136233"
      ]
     },
     "execution_count": 19,
     "metadata": {},
     "output_type": "execute_result"
    }
   ],
   "source": [
    "df_tkm_mean = df_tkm.mean()\n",
    "df_tkm_mean = pd.DataFrame(df_tkm_mean)\n",
    "df_tkm_mean.T"
   ]
  },
  {
   "cell_type": "markdown",
   "id": "ea46b2c3-32a2-48ee-83ef-15384da0df4f",
   "metadata": {},
   "source": [
    "###  g/s"
   ]
  },
  {
   "cell_type": "code",
   "execution_count": 20,
   "id": "0e02a26b-fc0c-43f6-84ad-589001476b7e",
   "metadata": {
    "jupyter": {
     "source_hidden": true
    },
    "tags": []
   },
   "outputs": [],
   "source": [
    "df['fuel_g_per_sec'] = (df['total_diesel_consumption_C_year_ICE_mass']) / 3600  # kg/s\n",
    "df['CO2_g_per_sec'] = (df['total_emission_CO2']) / 3600  # g/s\n",
    "df['PM10_g_per_sec'] = (df['total_emission_PM10']) / 3600  # g/s\n",
    "df['NOx_g_per_sec'] = (df['total_emission_NOX']) / 3600  # g/s"
   ]
  },
  {
   "cell_type": "code",
   "execution_count": 21,
   "id": "574d05e7-eb95-427b-9a5a-1801475e01eb",
   "metadata": {
    "jupyter": {
     "source_hidden": true
    },
    "tags": []
   },
   "outputs": [
    {
     "data": {
      "text/html": [
       "<div>\n",
       "<style scoped>\n",
       "    .dataframe tbody tr th:only-of-type {\n",
       "        vertical-align: middle;\n",
       "    }\n",
       "\n",
       "    .dataframe tbody tr th {\n",
       "        vertical-align: top;\n",
       "    }\n",
       "\n",
       "    .dataframe thead th {\n",
       "        text-align: right;\n",
       "    }\n",
       "</style>\n",
       "<table border=\"1\" class=\"dataframe\">\n",
       "  <thead>\n",
       "    <tr style=\"text-align: right;\">\n",
       "      <th></th>\n",
       "      <th>fuel_g_per_sec</th>\n",
       "      <th>CO2_g_per_sec</th>\n",
       "      <th>PM10_g_per_sec</th>\n",
       "      <th>NOx_g_per_sec</th>\n",
       "    </tr>\n",
       "  </thead>\n",
       "  <tbody>\n",
       "    <tr>\n",
       "      <th>0</th>\n",
       "      <td>109.965674</td>\n",
       "      <td>348.671648</td>\n",
       "      <td>0.199464</td>\n",
       "      <td>5.308727</td>\n",
       "    </tr>\n",
       "    <tr>\n",
       "      <th>1</th>\n",
       "      <td>1041.457964</td>\n",
       "      <td>3302.183788</td>\n",
       "      <td>1.650217</td>\n",
       "      <td>46.634676</td>\n",
       "    </tr>\n",
       "    <tr>\n",
       "      <th>2</th>\n",
       "      <td>149.993175</td>\n",
       "      <td>475.588116</td>\n",
       "      <td>0.224934</td>\n",
       "      <td>6.549483</td>\n",
       "    </tr>\n",
       "    <tr>\n",
       "      <th>3</th>\n",
       "      <td>347.152655</td>\n",
       "      <td>1100.727929</td>\n",
       "      <td>0.550072</td>\n",
       "      <td>15.544892</td>\n",
       "    </tr>\n",
       "  </tbody>\n",
       "</table>\n",
       "</div>"
      ],
      "text/plain": [
       "   fuel_g_per_sec  CO2_g_per_sec  PM10_g_per_sec  NOx_g_per_sec\n",
       "0      109.965674     348.671648        0.199464       5.308727\n",
       "1     1041.457964    3302.183788        1.650217      46.634676\n",
       "2      149.993175     475.588116        0.224934       6.549483\n",
       "3      347.152655    1100.727929        0.550072      15.544892"
      ]
     },
     "execution_count": 21,
     "metadata": {},
     "output_type": "execute_result"
    }
   ],
   "source": [
    "df_s=df[['fuel_g_per_sec','CO2_g_per_sec','PM10_g_per_sec','NOx_g_per_sec']]\n",
    "df_s"
   ]
  },
  {
   "cell_type": "markdown",
   "id": "0a99c438-1e9d-4b80-ac11-78feb1971e51",
   "metadata": {},
   "source": [
    "### ton, kg per round-trip (laden going and returning)"
   ]
  },
  {
   "cell_type": "code",
   "execution_count": 22,
   "id": "2f9d01fa-7e3e-4354-801f-dadec6884d1d",
   "metadata": {
    "jupyter": {
     "source_hidden": true
    },
    "tags": []
   },
   "outputs": [],
   "source": [
    "df['fuel_ton']=(df['total_diesel_consumption_C_year_ICE_mass'].sum()/1000000)*2  #ton\n",
    "df['CO2_ton']=(df['total_emission_CO2'].sum()/1000000)*2  #ton\n",
    "df['PM10_kg']=(df['total_emission_PM10'].sum()/1000)*2  #kg\n",
    "df['NOx_kg']=(df['total_emission_NOX'].sum()/1000)*2  #kg"
   ]
  },
  {
   "cell_type": "code",
   "execution_count": 23,
   "id": "6b6c4545-717b-4a35-ab6f-a4569786e6a4",
   "metadata": {
    "jupyter": {
     "source_hidden": true
    },
    "tags": []
   },
   "outputs": [
    {
     "data": {
      "text/html": [
       "<div>\n",
       "<style scoped>\n",
       "    .dataframe tbody tr th:only-of-type {\n",
       "        vertical-align: middle;\n",
       "    }\n",
       "\n",
       "    .dataframe tbody tr th {\n",
       "        vertical-align: top;\n",
       "    }\n",
       "\n",
       "    .dataframe thead th {\n",
       "        text-align: right;\n",
       "    }\n",
       "</style>\n",
       "<table border=\"1\" class=\"dataframe\">\n",
       "  <thead>\n",
       "    <tr style=\"text-align: right;\">\n",
       "      <th></th>\n",
       "      <th>fuel_ton</th>\n",
       "      <th>CO2_ton</th>\n",
       "      <th>PM10_kg</th>\n",
       "      <th>NOx_kg</th>\n",
       "    </tr>\n",
       "  </thead>\n",
       "  <tbody>\n",
       "    <tr>\n",
       "      <th>0</th>\n",
       "      <td>11.8697</td>\n",
       "      <td>37.635635</td>\n",
       "      <td>18.897747</td>\n",
       "      <td>533.072005</td>\n",
       "    </tr>\n",
       "  </tbody>\n",
       "</table>\n",
       "</div>"
      ],
      "text/plain": [
       "   fuel_ton    CO2_ton    PM10_kg      NOx_kg\n",
       "0   11.8697  37.635635  18.897747  533.072005"
      ]
     },
     "execution_count": 23,
     "metadata": {},
     "output_type": "execute_result"
    }
   ],
   "source": [
    "df_roundtrip=df[['fuel_ton','CO2_ton','PM10_kg','NOx_kg']]\n",
    "df_roundtrip.head(1)"
   ]
  },
  {
   "cell_type": "markdown",
   "id": "4d6959a0-8b22-451e-9f98-5c2a934f4cb1",
   "metadata": {},
   "source": [
    "### ton per year"
   ]
  },
  {
   "cell_type": "code",
   "execution_count": 24,
   "id": "4227b935-f48a-439a-b91b-744110daf086",
   "metadata": {},
   "outputs": [],
   "source": [
    "num_roundtrip = 59"
   ]
  },
  {
   "cell_type": "code",
   "execution_count": 25,
   "id": "4347ec96-423d-4eea-a388-b2272d1281c9",
   "metadata": {
    "jupyter": {
     "source_hidden": true
    },
    "tags": []
   },
   "outputs": [],
   "source": [
    "df['fuel_ton_per_yr']=df['fuel_ton']*num_roundtrip\n",
    "df['CO2_ton_per_yr'] = df['CO2_ton']*num_roundtrip\n",
    "df['PM10_ton_per_yr'] = df['PM10_kg']*num_roundtrip/1000\n",
    "df['NOx_ton_per_yr'] = df['NOx_kg']*num_roundtrip/1000"
   ]
  },
  {
   "cell_type": "code",
   "execution_count": 26,
   "id": "8736b135-9340-491a-87c0-d4d484371b74",
   "metadata": {
    "jupyter": {
     "source_hidden": true
    },
    "tags": []
   },
   "outputs": [
    {
     "data": {
      "text/html": [
       "<div>\n",
       "<style scoped>\n",
       "    .dataframe tbody tr th:only-of-type {\n",
       "        vertical-align: middle;\n",
       "    }\n",
       "\n",
       "    .dataframe tbody tr th {\n",
       "        vertical-align: top;\n",
       "    }\n",
       "\n",
       "    .dataframe thead th {\n",
       "        text-align: right;\n",
       "    }\n",
       "</style>\n",
       "<table border=\"1\" class=\"dataframe\">\n",
       "  <thead>\n",
       "    <tr style=\"text-align: right;\">\n",
       "      <th></th>\n",
       "      <th>fuel_ton_per_yr</th>\n",
       "      <th>CO2_ton_per_yr</th>\n",
       "      <th>PM10_ton_per_yr</th>\n",
       "      <th>NOx_ton_per_yr</th>\n",
       "    </tr>\n",
       "  </thead>\n",
       "  <tbody>\n",
       "    <tr>\n",
       "      <th>0</th>\n",
       "      <td>700.31231</td>\n",
       "      <td>2220.502445</td>\n",
       "      <td>1.114967</td>\n",
       "      <td>31.451248</td>\n",
       "    </tr>\n",
       "  </tbody>\n",
       "</table>\n",
       "</div>"
      ],
      "text/plain": [
       "   fuel_ton_per_yr  CO2_ton_per_yr  PM10_ton_per_yr  NOx_ton_per_yr\n",
       "0        700.31231     2220.502445         1.114967       31.451248"
      ]
     },
     "execution_count": 26,
     "metadata": {},
     "output_type": "execute_result"
    }
   ],
   "source": [
    "df_year = df[['fuel_ton_per_yr','CO2_ton_per_yr','PM10_ton_per_yr','NOx_ton_per_yr']]\n",
    "df_year.head(1)"
   ]
  },
  {
   "cell_type": "markdown",
   "id": "0c63a594-7e39-49aa-b180-aaf8170d9608",
   "metadata": {},
   "source": [
    "## alternatives in mass and volume per round-trip (laden going and returning)"
   ]
  },
  {
   "cell_type": "code",
   "execution_count": 27,
   "id": "b95e87d8-a00d-4f53-9067-8df23a775f5f",
   "metadata": {},
   "outputs": [
    {
     "data": {
      "text/html": [
       "<div>\n",
       "<style scoped>\n",
       "    .dataframe tbody tr th:only-of-type {\n",
       "        vertical-align: middle;\n",
       "    }\n",
       "\n",
       "    .dataframe tbody tr th {\n",
       "        vertical-align: top;\n",
       "    }\n",
       "\n",
       "    .dataframe thead th {\n",
       "        text-align: right;\n",
       "    }\n",
       "</style>\n",
       "<table border=\"1\" class=\"dataframe\">\n",
       "  <thead>\n",
       "    <tr style=\"text-align: right;\">\n",
       "      <th></th>\n",
       "      <th>LH2_PEMFC_ton</th>\n",
       "      <th>LH2_SOFC_ton</th>\n",
       "      <th>eLNG_PEMFC_ton</th>\n",
       "      <th>eLNG_SOFC_ton</th>\n",
       "      <th>eLNG_ICE_ton</th>\n",
       "      <th>eMethanol_PEMFC_ton</th>\n",
       "      <th>eMethanol_SOFC_ton</th>\n",
       "      <th>eMethanol_ICE_ton</th>\n",
       "      <th>eNH3_PEMFC_ton</th>\n",
       "      <th>eNH3_SOFC_ton</th>\n",
       "      <th>eNH3_ICE_ton</th>\n",
       "      <th>Li_NMC_Battery_ton</th>\n",
       "    </tr>\n",
       "  </thead>\n",
       "  <tbody>\n",
       "    <tr>\n",
       "      <th>0</th>\n",
       "      <td>3.38694</td>\n",
       "      <td>3.551829</td>\n",
       "      <td>8.480083</td>\n",
       "      <td>8.892926</td>\n",
       "      <td>11.456465</td>\n",
       "      <td>20.618849</td>\n",
       "      <td>21.622653</td>\n",
       "      <td>27.855757</td>\n",
       "      <td>22.071449</td>\n",
       "      <td>23.145971</td>\n",
       "      <td>29.818198</td>\n",
       "      <td>563.888487</td>\n",
       "    </tr>\n",
       "  </tbody>\n",
       "</table>\n",
       "</div>"
      ],
      "text/plain": [
       "   LH2_PEMFC_ton  LH2_SOFC_ton  eLNG_PEMFC_ton  eLNG_SOFC_ton  eLNG_ICE_ton  \\\n",
       "0        3.38694      3.551829        8.480083       8.892926     11.456465   \n",
       "\n",
       "   eMethanol_PEMFC_ton  eMethanol_SOFC_ton  eMethanol_ICE_ton  eNH3_PEMFC_ton  \\\n",
       "0            20.618849           21.622653          27.855757       22.071449   \n",
       "\n",
       "   eNH3_SOFC_ton  eNH3_ICE_ton  Li_NMC_Battery_ton  \n",
       "0      23.145971     29.818198          563.888487  "
      ]
     },
     "execution_count": 27,
     "metadata": {},
     "output_type": "execute_result"
    }
   ],
   "source": [
    "df['LH2_PEMFC_ton']=(df['total_LH2_consumption_PEMFC_mass'].sum()/1000000)*2  #ton\n",
    "df['LH2_SOFC_ton']=(df['total_LH2_consumption_SOFC_mass'].sum()/1000000)*2  #ton\n",
    "df['eLNG_PEMFC_ton']=(df['total_eLNG_consumption_PEMFC_mass'].sum()/1000000)*2  #ton\n",
    "df['eLNG_SOFC_ton']=(df['total_eLNG_consumption_SOFC_mass'].sum()/1000000)*2  #ton\n",
    "df['eLNG_ICE_ton']=(df['total_eLNG_consumption_ICE_mass'].sum()/1000000)*2  #ton\n",
    "df['eMethanol_PEMFC_ton']=(df['total_eMethanol_consumption_PEMFC_mass'].sum()/1000000)*2  #ton\n",
    "df['eMethanol_SOFC_ton']=(df['total_eMethanol_consumption_SOFC_mass'].sum()/1000000)*2  #ton\n",
    "df['eMethanol_ICE_ton']=(df['total_eMethanol_consumption_ICE_mass'].sum()/1000000)*2  #ton\n",
    "df['eNH3_PEMFC_ton']=(df['total_eNH3_consumption_PEMFC_mass'].sum()/1000000)*2  #ton\n",
    "df['eNH3_SOFC_ton']=(df['total_eNH3_consumption_SOFC_mass'].sum()/1000000)*2  #ton\n",
    "df['eNH3_ICE_ton']=(df['total_eNH3_consumption_ICE_mass'].sum()/1000000)*2  #ton\n",
    "df['Li_NMC_Battery_ton']=(df['total_Li_NMC_Battery_mass'].sum()/1000000)*2  #ton\n",
    "\n",
    "df_alternatives_mass_roundtrip=df[['LH2_PEMFC_ton','LH2_SOFC_ton','eLNG_PEMFC_ton','eLNG_SOFC_ton','eLNG_ICE_ton',\n",
    "                             'eMethanol_PEMFC_ton','eMethanol_SOFC_ton','eMethanol_ICE_ton','eNH3_PEMFC_ton',\n",
    "                            'eNH3_SOFC_ton','eNH3_ICE_ton','Li_NMC_Battery_ton']]\n",
    "df_alternatives_mass_roundtrip.head(1)"
   ]
  },
  {
   "cell_type": "code",
   "execution_count": 28,
   "id": "4f272fd6-2248-4b66-8b01-c4f4ecab2d37",
   "metadata": {},
   "outputs": [
    {
     "data": {
      "text/html": [
       "<div>\n",
       "<style scoped>\n",
       "    .dataframe tbody tr th:only-of-type {\n",
       "        vertical-align: middle;\n",
       "    }\n",
       "\n",
       "    .dataframe tbody tr th {\n",
       "        vertical-align: top;\n",
       "    }\n",
       "\n",
       "    .dataframe thead th {\n",
       "        text-align: right;\n",
       "    }\n",
       "</style>\n",
       "<table border=\"1\" class=\"dataframe\">\n",
       "  <thead>\n",
       "    <tr style=\"text-align: right;\">\n",
       "      <th></th>\n",
       "      <th>LH2_PEMFC_m3</th>\n",
       "      <th>LH2_SOFC_m3</th>\n",
       "      <th>eLNG_PEMFC_m3</th>\n",
       "      <th>eLNG_SOFC_m3</th>\n",
       "      <th>eLNG_ICE_m3</th>\n",
       "      <th>eMethanol_PEMFC_m3</th>\n",
       "      <th>eMethanol_SOFC_m3</th>\n",
       "      <th>eMethanol_ICE_m3</th>\n",
       "      <th>eNH3_PEMFC_m3</th>\n",
       "      <th>eNH3_SOFC_m3</th>\n",
       "      <th>eNH3_ICE_m3</th>\n",
       "      <th>Li_NMC_Battery_m3</th>\n",
       "    </tr>\n",
       "  </thead>\n",
       "  <tbody>\n",
       "    <tr>\n",
       "      <th>0</th>\n",
       "      <td>44.125627</td>\n",
       "      <td>46.273831</td>\n",
       "      <td>20.000905</td>\n",
       "      <td>20.974625</td>\n",
       "      <td>27.020924</td>\n",
       "      <td>26.029334</td>\n",
       "      <td>27.296541</td>\n",
       "      <td>35.165241</td>\n",
       "      <td>35.930265</td>\n",
       "      <td>37.679488</td>\n",
       "      <td>48.541252</td>\n",
       "      <td>446.242687</td>\n",
       "    </tr>\n",
       "  </tbody>\n",
       "</table>\n",
       "</div>"
      ],
      "text/plain": [
       "   LH2_PEMFC_m3  LH2_SOFC_m3  eLNG_PEMFC_m3  eLNG_SOFC_m3  eLNG_ICE_m3  \\\n",
       "0     44.125627    46.273831      20.000905     20.974625    27.020924   \n",
       "\n",
       "   eMethanol_PEMFC_m3  eMethanol_SOFC_m3  eMethanol_ICE_m3  eNH3_PEMFC_m3  \\\n",
       "0           26.029334          27.296541         35.165241      35.930265   \n",
       "\n",
       "   eNH3_SOFC_m3  eNH3_ICE_m3  Li_NMC_Battery_m3  \n",
       "0     37.679488    48.541252         446.242687  "
      ]
     },
     "execution_count": 28,
     "metadata": {},
     "output_type": "execute_result"
    }
   ],
   "source": [
    "df['LH2_PEMFC_m3']=(df['total_LH2_consumption_PEMFC_vol'].sum())*2  \n",
    "df['LH2_SOFC_m3']=(df['total_LH2_consumption_SOFC_vol'].sum())*2  \n",
    "df['eLNG_PEMFC_m3']=(df['total_eLNG_consumption_PEMFC_vol'].sum())*2  \n",
    "df['eLNG_SOFC_m3']=(df['total_eLNG_consumption_SOFC_vol'].sum())*2  \n",
    "df['eLNG_ICE_m3']=(df['total_eLNG_consumption_ICE_vol'].sum())*2  \n",
    "df['eMethanol_PEMFC_m3']=(df['total_eMethanol_consumption_PEMFC_vol'].sum())*2  \n",
    "df['eMethanol_SOFC_m3']=(df['total_eMethanol_consumption_SOFC_vol'].sum())*2  \n",
    "df['eMethanol_ICE_m3']=(df['total_eMethanol_consumption_ICE_vol'].sum())*2  \n",
    "df['eNH3_PEMFC_m3']=(df['total_eNH3_consumption_PEMFC_vol'].sum())*2  \n",
    "df['eNH3_SOFC_m3']=(df['total_eNH3_consumption_SOFC_vol'].sum())*2  \n",
    "df['eNH3_ICE_m3']=(df['total_eNH3_consumption_ICE_vol'].sum())*2  \n",
    "df['Li_NMC_Battery_m3']=(df['total_Li_NMC_Battery_vol'].sum())*2  \n",
    "\n",
    "\n",
    "df_alternatives_vol_roundtrip=df[['LH2_PEMFC_m3','LH2_SOFC_m3','eLNG_PEMFC_m3','eLNG_SOFC_m3','eLNG_ICE_m3',\n",
    "                             'eMethanol_PEMFC_m3','eMethanol_SOFC_m3','eMethanol_ICE_m3','eNH3_PEMFC_m3',\n",
    "                            'eNH3_SOFC_m3','eNH3_ICE_m3','Li_NMC_Battery_m3']]\n",
    "df_alternatives_vol_roundtrip.head(1)"
   ]
  },
  {
   "cell_type": "markdown",
   "id": "b0c77ddf-5cac-4407-978f-7658452d7a89",
   "metadata": {},
   "source": [
    "## alternatives in ton per year"
   ]
  },
  {
   "cell_type": "code",
   "execution_count": 29,
   "id": "931b22ee-f6e8-415f-8f4d-5b0c689f007b",
   "metadata": {},
   "outputs": [
    {
     "data": {
      "text/html": [
       "<div>\n",
       "<style scoped>\n",
       "    .dataframe tbody tr th:only-of-type {\n",
       "        vertical-align: middle;\n",
       "    }\n",
       "\n",
       "    .dataframe tbody tr th {\n",
       "        vertical-align: top;\n",
       "    }\n",
       "\n",
       "    .dataframe thead th {\n",
       "        text-align: right;\n",
       "    }\n",
       "</style>\n",
       "<table border=\"1\" class=\"dataframe\">\n",
       "  <thead>\n",
       "    <tr style=\"text-align: right;\">\n",
       "      <th></th>\n",
       "      <th>LH2_PEMFC_ton_per_year</th>\n",
       "      <th>LH2_SOFC_ton_per_year</th>\n",
       "      <th>eLNG_PEMFC_ton_per_year</th>\n",
       "      <th>eLNG_SOFC_ton_per_year</th>\n",
       "      <th>eLNG_ICE_ton_per_year</th>\n",
       "      <th>eMethanol_PEMFC_ton_per_year</th>\n",
       "      <th>eMethanol_SOFC_ton_per_year</th>\n",
       "      <th>eMethanol_ICE_ton_per_year</th>\n",
       "      <th>eNH3_PEMFC_ton_per_year</th>\n",
       "      <th>eNH3_SOFC_ton_per_year</th>\n",
       "      <th>eNH3_ICE_ton_per_year</th>\n",
       "      <th>Li_NMC_Battery_ton_per_year</th>\n",
       "    </tr>\n",
       "  </thead>\n",
       "  <tbody>\n",
       "    <tr>\n",
       "      <th>0</th>\n",
       "      <td>199.829461</td>\n",
       "      <td>209.557923</td>\n",
       "      <td>500.324892</td>\n",
       "      <td>524.682619</td>\n",
       "      <td>675.931462</td>\n",
       "      <td>1216.512077</td>\n",
       "      <td>1275.736532</td>\n",
       "      <td>1643.48966</td>\n",
       "      <td>1302.215472</td>\n",
       "      <td>1365.612295</td>\n",
       "      <td>1759.273668</td>\n",
       "      <td>33269.420725</td>\n",
       "    </tr>\n",
       "  </tbody>\n",
       "</table>\n",
       "</div>"
      ],
      "text/plain": [
       "   LH2_PEMFC_ton_per_year  LH2_SOFC_ton_per_year  eLNG_PEMFC_ton_per_year  \\\n",
       "0              199.829461             209.557923               500.324892   \n",
       "\n",
       "   eLNG_SOFC_ton_per_year  eLNG_ICE_ton_per_year  \\\n",
       "0              524.682619             675.931462   \n",
       "\n",
       "   eMethanol_PEMFC_ton_per_year  eMethanol_SOFC_ton_per_year  \\\n",
       "0                   1216.512077                  1275.736532   \n",
       "\n",
       "   eMethanol_ICE_ton_per_year  eNH3_PEMFC_ton_per_year  \\\n",
       "0                  1643.48966              1302.215472   \n",
       "\n",
       "   eNH3_SOFC_ton_per_year  eNH3_ICE_ton_per_year  Li_NMC_Battery_ton_per_year  \n",
       "0             1365.612295            1759.273668                 33269.420725  "
      ]
     },
     "execution_count": 29,
     "metadata": {},
     "output_type": "execute_result"
    }
   ],
   "source": [
    "df['LH2_PEMFC_ton_per_year']= df['LH2_PEMFC_ton']*num_roundtrip\n",
    "df['LH2_SOFC_ton_per_year']= df['LH2_SOFC_ton']*num_roundtrip\n",
    "df['eLNG_PEMFC_ton_per_year']= df['eLNG_PEMFC_ton']*num_roundtrip\n",
    "df['eLNG_SOFC_ton_per_year']= df['eLNG_SOFC_ton']*num_roundtrip\n",
    "df['eLNG_ICE_ton_per_year']= df['eLNG_ICE_ton']*num_roundtrip\n",
    "df['eMethanol_PEMFC_ton_per_year']= df['eMethanol_PEMFC_ton']*num_roundtrip\n",
    "df['eMethanol_SOFC_ton_per_year']= df['eMethanol_SOFC_ton']*num_roundtrip\n",
    "df['eMethanol_ICE_ton_per_year']= df['eMethanol_ICE_ton']*num_roundtrip\n",
    "df['eNH3_PEMFC_ton_per_year']= df['eNH3_PEMFC_ton']*num_roundtrip\n",
    "df['eNH3_SOFC_ton_per_year']= df['eNH3_SOFC_ton']*num_roundtrip\n",
    "df['eNH3_ICE_ton_per_year']= df['eNH3_ICE_ton']*num_roundtrip\n",
    "df['Li_NMC_Battery_ton_per_year']= df['Li_NMC_Battery_ton']*num_roundtrip\n",
    "\n",
    "df_alternatives_mass_per_year=df[['LH2_PEMFC_ton_per_year','LH2_SOFC_ton_per_year','eLNG_PEMFC_ton_per_year','eLNG_SOFC_ton_per_year','eLNG_ICE_ton_per_year',\n",
    "                             'eMethanol_PEMFC_ton_per_year','eMethanol_SOFC_ton_per_year','eMethanol_ICE_ton_per_year','eNH3_PEMFC_ton_per_year',\n",
    "                            'eNH3_SOFC_ton_per_year','eNH3_ICE_ton_per_year','Li_NMC_Battery_ton_per_year']]\n",
    "df_alternatives_mass_per_year.head(1)"
   ]
  }
 ],
 "metadata": {
  "kernelspec": {
   "display_name": "Python 3 (ipykernel)",
   "language": "python",
   "name": "python3"
  },
  "language_info": {
   "codemirror_mode": {
    "name": "ipython",
    "version": 3
   },
   "file_extension": ".py",
   "mimetype": "text/x-python",
   "name": "python",
   "nbconvert_exporter": "python",
   "pygments_lexer": "ipython3",
   "version": "3.9.10"
  }
 },
 "nbformat": 4,
 "nbformat_minor": 5
}
