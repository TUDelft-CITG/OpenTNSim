{
 "cells": [
  {
   "cell_type": "markdown",
   "id": "5d9ce309",
   "metadata": {},
   "source": [
    "### Imports\n",
    "Import the required libraries"
   ]
  },
  {
   "cell_type": "code",
   "execution_count": 1,
   "id": "2f23dc0b",
   "metadata": {},
   "outputs": [],
   "source": [
    "# package(s) related to time, space and id\n",
    "import logging\n",
    "import datetime, time\n",
    "import platform\n",
    "import itertools\n",
    "# you need these dependencies (you can get these from anaconda)\n",
    "# package(s) related to the simulation\n",
    "import simpy\n",
    "import pandas as pd\n",
    "\n",
    "# spatial libraries \n",
    "import pyproj\n",
    "import shapely.geometry\n",
    "from simplekml import Kml, Style\n",
    "\n",
    "# package(s) for data handling\n",
    "import numpy as np\n",
    "import matplotlib.pyplot as plt\n",
    "\n",
    "# OpenTNSim\n",
    "import opentnsim\n",
    "\n",
    "# Used for mathematical functions\n",
    "import math             \n",
    "import tqdm\n",
    "# Used for making the graph to visualize our problem\n",
    "import networkx as nx   \n",
    "\n",
    "import plotly.express as px\n",
    "from plotly.subplots import make_subplots\n",
    "\n",
    "#logging.basicConfig(level=logging.DEBUG) #turn on all the debug messages\n",
    "logging.basicConfig(level=logging.INFO)# turn off all the debug messages\n"
   ]
  },
  {
   "cell_type": "markdown",
   "id": "738a48f2",
   "metadata": {},
   "source": [
    "### Create graph\n"
   ]
  },
  {
   "cell_type": "code",
   "execution_count": 2,
   "id": "3255d0dd",
   "metadata": {},
   "outputs": [],
   "source": [
    "# specify a number of coordinate along your route (coords are: lon, lat)\n",
    "coords = [\n",
    "    [0,0],\n",
    "    [0.646776,0],\n",
    "    [4.087265,1], \n",
    "    [4.536415,0],\n",
    "    [5.3898,0]\n",
    "] \n",
    "\n",
    "# for each edge (between above coordinates) specify the depth (m)\n",
    "depths = [6, 4.5, 3.2, 4.5]\n",
    "current_speeds = [0.5, -0.5, -1, 0] \n",
    "V_g_profile = [3.2, 2.5, 2, 2.5]\n",
    "# check of nr of coords and nr of depths align\n",
    "assert len(coords) == len(depths) + 1, 'nr of depths does not correspond to nr of coords'"
   ]
  },
  {
   "cell_type": "code",
   "execution_count": 3,
   "id": "0e482d81",
   "metadata": {},
   "outputs": [],
   "source": [
    "# create a graph based on coords and depths\n",
    "FG = nx.DiGraph()\n",
    "nodes = []\n",
    "path = []\n",
    "\n",
    "# add nodes\n",
    "Node = type('Site', (opentnsim.core.Identifiable, opentnsim.core.Locatable), {})\n",
    "\n",
    "for index, coord in enumerate(coords):\n",
    "    data_node = {\"name\": \"Node \" + str(index), \"geometry\": shapely.geometry.Point(coord[0], coord[1])}\n",
    "    nodes.append(Node(**data_node))\n",
    "    \n",
    "positions = {}\n",
    "for node in nodes:\n",
    "    positions[node.name] = (node.geometry.x, node.geometry.y)\n",
    "    FG.add_node(node.name, geometry = node.geometry)\n",
    "\n",
    "# add edges\n",
    "path = [[nodes[i], nodes[i+1]] for i in range(len(nodes)-1)]\n",
    "\n",
    "for index, edge in enumerate(path):\n",
    "    # For the energy consumption calculation we add info to the graph. We need depth info for resistance.\n",
    "    # NB: the CalculateEnergy routine expects the graph to have \"Info\" that contains \"GeneralDepth\" \n",
    "    #     this may not be very generic!\n",
    "    FG.add_edge(edge[0].name, edge[1].name, weight = 1, Info = {\n",
    "        \"GeneralDepth\": depths[index],\n",
    "        \"CurrentSpeed\": current_speeds[index],\n",
    "        \"VesselSpeedToGroundProfile\": V_g_profile[index]\n",
    "    })\n",
    "\n",
    "# toggle to undirected and back to directed to make sure all edges are two way traffic\n",
    "FG = FG.to_undirected() \n",
    "FG = FG.to_directed() "
   ]
  },
  {
   "cell_type": "code",
   "execution_count": 4,
   "id": "c99fed1e",
   "metadata": {},
   "outputs": [
    {
     "data": {
      "image/png": "[encoded data removed]",
      "text/plain": [
       "<Figure size 432x288 with 1 Axes>"
      ]
     },
     "metadata": {},
     "output_type": "display_data"
    }
   ],
   "source": [
    "# show graph\n",
    "nx.draw(FG, positions)\n",
    "plt.show()"
   ]
  },
  {
   "cell_type": "code",
   "execution_count": 5,
   "id": "dbb74982",
   "metadata": {},
   "outputs": [
    {
     "name": "stdout",
     "output_type": "stream",
     "text": [
      "General depth for edge ('Node 0', 'Node 1') is 6\n",
      "Current speed for edge ('Node 0', 'Node 1') is 0.5\n",
      "Vessel Speed To Ground Profile ('Node 0', 'Node 1') is 3.2\n",
      "General depth for edge ('Node 1', 'Node 0') is 6\n",
      "Current speed for edge ('Node 1', 'Node 0') is 0.5\n",
      "Vessel Speed To Ground Profile ('Node 1', 'Node 0') is 3.2\n",
      "General depth for edge ('Node 1', 'Node 2') is 4.5\n",
      "Current speed for edge ('Node 1', 'Node 2') is -0.5\n",
      "Vessel Speed To Ground Profile ('Node 1', 'Node 2') is 2.5\n",
      "General depth for edge ('Node 2', 'Node 1') is 4.5\n",
      "Current speed for edge ('Node 2', 'Node 1') is -0.5\n",
      "Vessel Speed To Ground Profile ('Node 2', 'Node 1') is 2.5\n",
      "General depth for edge ('Node 2', 'Node 3') is 3.2\n",
      "Current speed for edge ('Node 2', 'Node 3') is -1\n",
      "Vessel Speed To Ground Profile ('Node 2', 'Node 3') is 2\n",
      "General depth for edge ('Node 3', 'Node 2') is 3.2\n",
      "Current speed for edge ('Node 3', 'Node 2') is -1\n",
      "Vessel Speed To Ground Profile ('Node 3', 'Node 2') is 2\n",
      "General depth for edge ('Node 3', 'Node 4') is 4.5\n",
      "Current speed for edge ('Node 3', 'Node 4') is 0\n",
      "Vessel Speed To Ground Profile ('Node 3', 'Node 4') is 2.5\n",
      "General depth for edge ('Node 4', 'Node 3') is 4.5\n",
      "Current speed for edge ('Node 4', 'Node 3') is 0\n",
      "Vessel Speed To Ground Profile ('Node 4', 'Node 3') is 2.5\n"
     ]
    }
   ],
   "source": [
    "# This cell just shows that now a depth of 10 m is added to the edges. \n",
    "# You can use this to vary depths, e.g. make the middle edge shallower. Note that edges are bi-directional \n",
    "for edge in FG.edges:\n",
    "    print('General depth for edge {} is {}'.format(edge, FG.get_edge_data(edge[0], edge[1])[\"Info\"][\"GeneralDepth\"]))\n",
    "    print('Current speed for edge {} is {}'.format(edge, FG.get_edge_data(edge[0], edge[1])[\"Info\"][\"CurrentSpeed\"]))\n",
    "    print('Vessel Speed To Ground Profile {} is {}'.format(edge, FG.get_edge_data(edge[0], edge[1])[\"Info\"][\"VesselSpeedToGroundProfile\"]))"
   ]
  },
  {
   "cell_type": "markdown",
   "id": "2796b4d3",
   "metadata": {},
   "source": [
    "### Create vessel - add VesselProperties and ConsumesEnergy mixins\n"
   ]
  },
  {
   "cell_type": "code",
   "execution_count": 6,
   "id": "689cc5ea",
   "metadata": {},
   "outputs": [],
   "source": [
    "# Make your preferred class out of available mix-ins.\n",
    "TransportResource = type(\n",
    "    \"Vessel\",\n",
    "    (\n",
    "        opentnsim.core.Identifiable,\n",
    "        opentnsim.core.Movable,\n",
    "        opentnsim.core.VesselProperties,  # needed to add vessel properties\n",
    "        opentnsim.energy.ConsumesEnergy,\n",
    "        opentnsim.core.ExtraMetadata,\n",
    "    ),\n",
    "    {},\n",
    ")  # needed to calculate resistances"
   ]
  },
  {
   "cell_type": "code",
   "execution_count": 7,
   "id": "9bcef32d",
   "metadata": {},
   "outputs": [],
   "source": [
    "# Create a dict with all important settings\n",
    "\n",
    "data_vessel = {\n",
    "    \"env\": None,\n",
    "    \"name\": 'Vessel',\n",
    "    \"route\": None,\n",
    "    \"geometry\": None,\n",
    "    \"V_g_ave\": 2.56,  # m/s\n",
    "    \"type\": None,\n",
    "    \"B\": 11.4,\n",
    "    \"L\": 135,\n",
    "    \"H_e\": None, \n",
    "    \"H_f\": None, \n",
    "    \"T\": 2.6,\n",
    "    \"safety_margin\": 0.3, # for tanker vessel with rocky bed the safety margin is recommended as 0.3 m\n",
    "    \"h_squat\": True, # if consider the ship squatting while moving, set to True, otherwise set to False. Note that here we have disabled h_squat calculation since we regard the water depth h_0 is already reduced by squat effect. This applies to figures 3, 5, 7, 8 and 9.\n",
    "    \"payload\":None,\n",
    "    \"vessel_type\":\"Tanker\", #vessel types: \"Container\",\"Dry_SH\",\"Dry_DH\",\"Barge\",\"Tanker\". (\"Dry_SH\" means dry bulk single hull, \"Dry_DH\" means dry bulk double hull)    \n",
    "    \"V_g_profile\":True, # if use the V_g_profile to determine V_w, set to True, otherwise (use the V_g_ave to determine V_w) set to False.\n",
    "    \"P_installed\": 2000, # kW  \n",
    "    \"P_tot_given\": None, # kW\n",
    "    \"bulbous_bow\": False, # if a vessel has no bulbous_bow, set to False; otherwise set to True.\n",
    "    \"wind_influence\": False, # if consider wind influence, set to True; otherwise set to False.\n",
    "    \"P_hotel_perc\": 0,\n",
    "    \"P_hotel\": None, # None: calculate P_hotel from percentage\n",
    "    \"x\": 2,# number of propellers\n",
    "    \"L_w\": 3.0 ,\n",
    "    \"C_B\":0.9, \n",
    "    \"C_year\": 2000,\n",
    "}             \n",
    "\n"
   ]
  },
  {
   "cell_type": "markdown",
   "id": "67658145",
   "metadata": {},
   "source": [
    "### Define paths\n",
    "We are going to create a simulation in which a vessel moves from *Node 1* to *Node 4*. Therefore, we need to create a vessel to which we will need to append this paths. Therefore, first let's create the path."
   ]
  },
  {
   "cell_type": "code",
   "execution_count": 8,
   "id": "059bf568",
   "metadata": {},
   "outputs": [],
   "source": [
    "path_upstream = nx.dijkstra_path(FG, nodes[0].name, nodes[4].name)\n",
    "path_downstream = nx.dijkstra_path(FG, nodes[4].name, nodes[0].name)"
   ]
  },
  {
   "cell_type": "markdown",
   "id": "639fc222",
   "metadata": {},
   "source": [
    "### Run simulation\n"
   ]
  },
  {
   "cell_type": "code",
   "execution_count": 9,
   "id": "16e34b3b",
   "metadata": {},
   "outputs": [],
   "source": [
    "def run_simulation(V_g_ave, path):\n",
    "    \n",
    "    # Start simpy environment\n",
    "    simulation_start = datetime.datetime.now()\n",
    "    env = simpy.Environment(initial_time = time.mktime(simulation_start.timetuple()))\n",
    "    env.epoch = time.mktime(simulation_start.timetuple())\n",
    "\n",
    "    # Add graph to environment\n",
    "    env.FG = FG\n",
    "\n",
    "    # Add environment and path to the vessel\n",
    "    # create a fresh instance of vessel\n",
    "    vessel = TransportResource(**data_vessel)\n",
    "    vessel.env = env                                        #the created environment\n",
    "    vessel.name = 'Vessel No.1'                     \n",
    "    vessel.route = path                                     #the route (the sequence of nodes, as stored as the second column in the path)\n",
    "    vessel.geometry = env.FG.nodes[path[0]]['geometry']     #a shapely.geometry.Point(lon,lat) (here taken as the starting node of the vessel)\n",
    "    vessel.V_g_ave = V_g_ave\n",
    "\n",
    "    # vessel.P_tot_given = P_tot_given\n",
    "    \n",
    "    # Start the simulation\n",
    "    env.process(vessel.move())\n",
    "    env.run()\n",
    "    \n",
    "    return vessel"
   ]
  },
  {
   "cell_type": "code",
   "execution_count": 10,
   "id": "4b9f8d56",
   "metadata": {},
   "outputs": [
    {
     "data": {
      "text/plain": [
       "{'V_s': [2.56]}"
      ]
     },
     "execution_count": 10,
     "metadata": {},
     "output_type": "execute_result"
    }
   ],
   "source": [
    "input_data = {'V_s': [2.56]} # \n",
    "input_data"
   ]
  },
  {
   "cell_type": "code",
   "execution_count": 11,
   "id": "0ebd1c01",
   "metadata": {
    "tags": []
   },
   "outputs": [
    {
     "name": "stdout",
     "output_type": "stream",
     "text": [
      "5.911210491838602\n",
      "2.7\n",
      "4.360447504411457\n",
      "3.0\n",
      "3.016063354867997\n",
      "3\n",
      "4.404491809824933\n",
      "2.5\n"
     ]
    },
    {
     "name": "stderr",
     "output_type": "stream",
     "text": [
      "C:\\ANACONDA2021\\envs\\sim\\lib\\site-packages\\pandas\\core\\dtypes\\cast.py:122: ShapelyDeprecationWarning:\n",
      "\n",
      "The array interface is deprecated and will no longer work in Shapely 2.0. Convert the '.coords' to a numpy array instead.\n",
      "\n"
     ]
    },
    {
     "data": {
      "text/html": [
       "<div>\n",
       "<style scoped>\n",
       "    .dataframe tbody tr th:only-of-type {\n",
       "        vertical-align: middle;\n",
       "    }\n",
       "\n",
       "    .dataframe tbody tr th {\n",
       "        vertical-align: top;\n",
       "    }\n",
       "\n",
       "    .dataframe thead th {\n",
       "        text-align: right;\n",
       "    }\n",
       "</style>\n",
       "<table border=\"1\" class=\"dataframe\">\n",
       "  <thead>\n",
       "    <tr style=\"text-align: right;\">\n",
       "      <th></th>\n",
       "      <th>time_start</th>\n",
       "      <th>time_stop</th>\n",
       "      <th>edge_start</th>\n",
       "      <th>edge_stop</th>\n",
       "      <th>P_tot</th>\n",
       "      <th>P_given</th>\n",
       "      <th>P_installed</th>\n",
       "      <th>total_energy</th>\n",
       "      <th>total_diesel_consumption_C_year_ICE_mass</th>\n",
       "      <th>total_diesel_consumption_ICE_mass</th>\n",
       "      <th>...</th>\n",
       "      <th>total_Li_NMC_Battery_mass</th>\n",
       "      <th>total_Li_NMC_Battery_vol</th>\n",
       "      <th>total_Battery2000kWh_consumption_num</th>\n",
       "      <th>total_emission_CO2</th>\n",
       "      <th>total_emission_PM10</th>\n",
       "      <th>total_emission_NOX</th>\n",
       "      <th>stationary</th>\n",
       "      <th>water depth</th>\n",
       "      <th>distance</th>\n",
       "      <th>delta_t</th>\n",
       "    </tr>\n",
       "  </thead>\n",
       "  <tbody>\n",
       "    <tr>\n",
       "      <th>0</th>\n",
       "      <td>2022-11-02 19:22:30.000000</td>\n",
       "      <td>2022-11-03 03:11:14.521476</td>\n",
       "      <td>POINT (0 0)</td>\n",
       "      <td>POINT (0.646776 0)</td>\n",
       "      <td>207.228211</td>\n",
       "      <td>207.228211</td>\n",
       "      <td>2000</td>\n",
       "      <td>1707.478787</td>\n",
       "      <td>4.227811e+05</td>\n",
       "      <td>4.650581e+05</td>\n",
       "      <td>...</td>\n",
       "      <td>1.940317e+07</td>\n",
       "      <td>15.355025</td>\n",
       "      <td>1.067174</td>\n",
       "      <td>1.340525e+06</td>\n",
       "      <td>823.479052</td>\n",
       "      <td>21310.177378</td>\n",
       "      <td>1707.478787</td>\n",
       "      <td>5.911210</td>\n",
       "      <td>71998.774977</td>\n",
       "      <td>28124.521476</td>\n",
       "    </tr>\n",
       "    <tr>\n",
       "      <th>1</th>\n",
       "      <td>2022-11-03 03:11:14.521476</td>\n",
       "      <td>2022-11-04 22:26:24.479563</td>\n",
       "      <td>POINT (0.646776 0)</td>\n",
       "      <td>POINT (4.087265 1)</td>\n",
       "      <td>401.582001</td>\n",
       "      <td>401.582001</td>\n",
       "      <td>2000</td>\n",
       "      <td>20354.920772</td>\n",
       "      <td>4.797352e+06</td>\n",
       "      <td>5.277075e+06</td>\n",
       "      <td>...</td>\n",
       "      <td>2.313059e+08</td>\n",
       "      <td>183.047849</td>\n",
       "      <td>12.721825</td>\n",
       "      <td>1.521112e+07</td>\n",
       "      <td>7259.944398</td>\n",
       "      <td>210348.803091</td>\n",
       "      <td>20354.920772</td>\n",
       "      <td>4.360448</td>\n",
       "      <td>398617.492704</td>\n",
       "      <td>155709.958087</td>\n",
       "    </tr>\n",
       "    <tr>\n",
       "      <th>2</th>\n",
       "      <td>2022-11-04 22:26:24.479563</td>\n",
       "      <td>2022-11-05 11:36:27.685494</td>\n",
       "      <td>POINT (4.087265 1)</td>\n",
       "      <td>POINT (4.536415 0)</td>\n",
       "      <td>494.669673</td>\n",
       "      <td>494.669673</td>\n",
       "      <td>2000</td>\n",
       "      <td>7633.114705</td>\n",
       "      <td>1.769879e+06</td>\n",
       "      <td>1.946863e+06</td>\n",
       "      <td>...</td>\n",
       "      <td>8.673994e+07</td>\n",
       "      <td>68.643118</td>\n",
       "      <td>4.770697</td>\n",
       "      <td>5.611812e+06</td>\n",
       "      <td>2573.270810</td>\n",
       "      <td>76209.338029</td>\n",
       "      <td>7633.114705</td>\n",
       "      <td>3.016063</td>\n",
       "      <td>121352.207183</td>\n",
       "      <td>47403.205931</td>\n",
       "    </tr>\n",
       "    <tr>\n",
       "      <th>3</th>\n",
       "      <td>2022-11-05 11:36:27.685494</td>\n",
       "      <td>2022-11-05 21:54:56.429107</td>\n",
       "      <td>POINT (4.536415 0)</td>\n",
       "      <td>POINT (5.3898 0)</td>\n",
       "      <td>174.284376</td>\n",
       "      <td>174.284376</td>\n",
       "      <td>2000</td>\n",
       "      <td>1754.414670</td>\n",
       "      <td>4.388821e+05</td>\n",
       "      <td>4.827692e+05</td>\n",
       "      <td>...</td>\n",
       "      <td>1.993653e+07</td>\n",
       "      <td>15.777110</td>\n",
       "      <td>1.096509</td>\n",
       "      <td>1.391577e+06</td>\n",
       "      <td>967.540331</td>\n",
       "      <td>24176.644029</td>\n",
       "      <td>1754.414670</td>\n",
       "      <td>4.404492</td>\n",
       "      <td>94998.383651</td>\n",
       "      <td>37108.743613</td>\n",
       "    </tr>\n",
       "  </tbody>\n",
       "</table>\n",
       "<p>4 rows × 43 columns</p>\n",
       "</div>"
      ],
      "text/plain": [
       "                  time_start                  time_stop          edge_start  \\\n",
       "0 2022-11-02 19:22:30.000000 2022-11-03 03:11:14.521476         POINT (0 0)   \n",
       "1 2022-11-03 03:11:14.521476 2022-11-04 22:26:24.479563  POINT (0.646776 0)   \n",
       "2 2022-11-04 22:26:24.479563 2022-11-05 11:36:27.685494  POINT (4.087265 1)   \n",
       "3 2022-11-05 11:36:27.685494 2022-11-05 21:54:56.429107  POINT (4.536415 0)   \n",
       "\n",
       "            edge_stop       P_tot     P_given  P_installed  total_energy  \\\n",
       "0  POINT (0.646776 0)  207.228211  207.228211         2000   1707.478787   \n",
       "1  POINT (4.087265 1)  401.582001  401.582001         2000  20354.920772   \n",
       "2  POINT (4.536415 0)  494.669673  494.669673         2000   7633.114705   \n",
       "3    POINT (5.3898 0)  174.284376  174.284376         2000   1754.414670   \n",
       "\n",
       "   total_diesel_consumption_C_year_ICE_mass  \\\n",
       "0                              4.227811e+05   \n",
       "1                              4.797352e+06   \n",
       "2                              1.769879e+06   \n",
       "3                              4.388821e+05   \n",
       "\n",
       "   total_diesel_consumption_ICE_mass  ...  total_Li_NMC_Battery_mass  \\\n",
       "0                       4.650581e+05  ...               1.940317e+07   \n",
       "1                       5.277075e+06  ...               2.313059e+08   \n",
       "2                       1.946863e+06  ...               8.673994e+07   \n",
       "3                       4.827692e+05  ...               1.993653e+07   \n",
       "\n",
       "   total_Li_NMC_Battery_vol  total_Battery2000kWh_consumption_num  \\\n",
       "0                 15.355025                              1.067174   \n",
       "1                183.047849                             12.721825   \n",
       "2                 68.643118                              4.770697   \n",
       "3                 15.777110                              1.096509   \n",
       "\n",
       "   total_emission_CO2  total_emission_PM10  total_emission_NOX    stationary  \\\n",
       "0        1.340525e+06           823.479052        21310.177378   1707.478787   \n",
       "1        1.521112e+07          7259.944398       210348.803091  20354.920772   \n",
       "2        5.611812e+06          2573.270810        76209.338029   7633.114705   \n",
       "3        1.391577e+06           967.540331        24176.644029   1754.414670   \n",
       "\n",
       "   water depth       distance        delta_t  \n",
       "0     5.911210   71998.774977   28124.521476  \n",
       "1     4.360448  398617.492704  155709.958087  \n",
       "2     3.016063  121352.207183   47403.205931  \n",
       "3     4.404492   94998.383651   37108.743613  \n",
       "\n",
       "[4 rows x 43 columns]"
      ]
     },
     "execution_count": 11,
     "metadata": {},
     "output_type": "execute_result"
    }
   ],
   "source": [
    "# create empty plot data\n",
    "plot_data = {}\n",
    "\n",
    "\n",
    "vessel = run_simulation(V_g_ave = 2.56 , path = path_upstream )\n",
    "\n",
    "# create an EnergyCalculation object and perform energy consumption calculation\n",
    "energycalculation = opentnsim.energy.EnergyCalculation(FG, vessel)\n",
    "energycalculation.calculate_energy_consumption()\n",
    "\n",
    "# create dataframe from energy calculation computation\n",
    "df = pd.DataFrame.from_dict(energycalculation.energy_use)\n",
    "df\n",
    "# add/modify some comlums to suit our plotting needs\n",
    "\n",
    "# df['fuel_kg_per_km'] = (df['total_diesel_consumption_C_year_ICE_mass']/1000) / (df['distance']/1000)  # g/m --> kg/km\n",
    "# df['CO2_g_per_km']   = (df['total_emission_CO2']) / (df['distance']/1000)\n",
    "# df['PM10_g_per_km']  = (df['total_emission_PM10']) / (df['distance']/1000)\n",
    "# df['NOx_g_per_km']   = (df['total_emission_NOX']) / (df['distance']/1000)\n",
    "\n",
    "# label = 'V_s = ' + str(input_data['V_s'][index]) \n",
    "\n",
    "# # Note that we make a dict to collect all plot data. \n",
    "# # We use labels like ['V_s = None P_tot_given = 274 fuel_kg_km'] to organise the data in the dict\n",
    "# # The [0, 0, 1, 1, 2, 2] below creates a list per section (I think this is the way you use it in your plot)\n",
    "# # plot_data[label + ' v'] = list(df.distance[[0, 0, 1, 1, 2, 2]]/df.delta_t[[0, 0, 1, 1, 2, 2]])\n",
    "# # plot_data[label + ' P_tot']   = list(df.P_tot[[0, 0, 1, 1, 2, 2]])\n",
    "# plot_data[label + ' fuel_kg_per_km']   = list(df.fuel_kg_per_km[[0, 0, 1, 1, 2, 2, 3, 3]])\n",
    "# plot_data[label + ' CO2_g_per_km'] = list(df.CO2_g_per_km[[0, 0, 1, 1, 2, 2, 3, 3]])\n",
    "# plot_data[label + ' PM10_g_per_km']   = list(df.PM10_g_per_km[[0, 0, 1, 1, 2, 2, 3, 3]])\n",
    "# plot_data[label + ' NOx_g_per_km']   = list(df.NOx_g_per_km[[0, 0, 1, 1, 2, 2, 3, 3]])\n",
    "        "
   ]
  },
  {
   "cell_type": "code",
   "execution_count": 17,
   "id": "73307b8b-ca90-427e-a389-121e7704bc16",
   "metadata": {},
   "outputs": [],
   "source": [
    "from opentnsim.energy import ConsumesEnergy"
   ]
  },
  {
   "cell_type": "code",
   "execution_count": 24,
   "id": "08451f66-128b-448c-9050-84e8329e0bfd",
   "metadata": {},
   "outputs": [
    {
     "data": {
      "text/plain": [
       "4.47612550295072"
      ]
     },
     "execution_count": 24,
     "metadata": {},
     "output_type": "execute_result"
    }
   ],
   "source": [
    "r = ConsumesEnergy.calculate_residual_resistance(vessel,v=2, h_0=5)\n",
    "r"
   ]
  },
  {
   "cell_type": "code",
   "execution_count": 25,
   "id": "23525fcb-1b03-4dde-98ae-faaaf104df51",
   "metadata": {},
   "outputs": [],
   "source": [
    "from opentnsim.energy import ConsumesEnergy"
   ]
  },
  {
   "cell_type": "code",
   "execution_count": 14,
   "id": "976421c8-0d6a-4078-9d5d-5f1cc85defad",
   "metadata": {},
   "outputs": [
    {
     "data": {
      "text/html": [
       "<div>\n",
       "<style scoped>\n",
       "    .dataframe tbody tr th:only-of-type {\n",
       "        vertical-align: middle;\n",
       "    }\n",
       "\n",
       "    .dataframe tbody tr th {\n",
       "        vertical-align: top;\n",
       "    }\n",
       "\n",
       "    .dataframe thead th {\n",
       "        text-align: right;\n",
       "    }\n",
       "</style>\n",
       "<table border=\"1\" class=\"dataframe\">\n",
       "  <thead>\n",
       "    <tr style=\"text-align: right;\">\n",
       "      <th></th>\n",
       "      <th>AoA</th>\n",
       "      <th>loaded</th>\n",
       "      <th>unloaded</th>\n",
       "    </tr>\n",
       "  </thead>\n",
       "  <tbody>\n",
       "    <tr>\n",
       "      <th>0</th>\n",
       "      <td>0</td>\n",
       "      <td>-0.86</td>\n",
       "      <td>-0.96</td>\n",
       "    </tr>\n",
       "    <tr>\n",
       "      <th>1</th>\n",
       "      <td>10</td>\n",
       "      <td>-0.76</td>\n",
       "      <td>-0.93</td>\n",
       "    </tr>\n",
       "  </tbody>\n",
       "</table>\n",
       "</div>"
      ],
      "text/plain": [
       "   AoA  loaded  unloaded\n",
       "0    0   -0.86     -0.96\n",
       "1   10   -0.76     -0.93"
      ]
     },
     "execution_count": 14,
     "metadata": {},
     "output_type": "execute_result"
    }
   ],
   "source": [
    "import pandas as pd\n",
    "\n",
    "data=[[0,-0.86,-0.96],[10,-0.76,-0.93]]\n",
    "\n",
    "df=pd.DataFrame(data,columns=['AoA','loaded','unloaded'])\n",
    "\n",
    "df"
   ]
  },
  {
   "cell_type": "code",
   "execution_count": 15,
   "id": "9ea64f5b-61fe-4368-bbca-7a242df62d6f",
   "metadata": {},
   "outputs": [
    {
     "data": {
      "text/plain": [
       "-0.96"
      ]
     },
     "execution_count": 15,
     "metadata": {},
     "output_type": "execute_result"
    }
   ],
   "source": [
    "def drag(angle_of_attack,load):\n",
    "    cd=[[0,-0.86,-0.96],[10,-0.76,-0.93],[20,-0.62,-0.85],\n",
    "        [30,-0.45,-0.73],[40,-0.32,-0.62],[50,-0.21,-0.47],\n",
    "        [60,-0.13,-0.34],[70,-0.06,-0.17],[80,-0.04,-0.06],\n",
    "        [90,0.02,0.05],[100,0.08,0.14],[110,0.19,0.22],\n",
    "        [120,0.29,0.29],[130,0.38,0.40],[140,0.47,0.53],\n",
    "        [150,0.56,0.66],[160,0.61,0.75],[170,0.66,0.79],\n",
    "        [180,0.63,0.77]]\n",
    "    \n",
    "    df=pd.DataFrame(cd,columns=['AoA','loaded','unloaded'])\n",
    "\n",
    "    if load == 'loaded':\n",
    "  \n",
    "        dragcoefficient = df['loaded'].where(df['AoA'] == angle_of_attack).dropna().values[0]\n",
    "    \n",
    "    elif load == 'unloaded':\n",
    "        dragcoefficient = df['unloaded'].where(df['AoA'] == angle_of_attack).dropna().values[0]\n",
    "        \n",
    "    return dragcoefficient\n",
    "\n",
    "drag(0,'unloaded')"
   ]
  },
  {
   "cell_type": "code",
   "execution_count": null,
   "id": "15e371f5-05d6-4663-9c5e-9cc1f7e47293",
   "metadata": {},
   "outputs": [],
   "source": []
  },
  {
   "cell_type": "code",
   "execution_count": null,
   "id": "88a5b101-673d-4479-8896-7b85d130e483",
   "metadata": {},
   "outputs": [],
   "source": []
  }
 ],
 "metadata": {
  "kernelspec": {
   "display_name": "Python 3 (ipykernel)",
   "language": "python",
   "name": "python3"
  },
  "language_info": {
   "codemirror_mode": {
    "name": "ipython",
    "version": 3
   },
   "file_extension": ".py",
   "mimetype": "text/x-python",
   "name": "python",
   "nbconvert_exporter": "python",
   "pygments_lexer": "ipython3",
   "version": "3.9.10"
  },
  "toc-showcode": false
 },
 "nbformat": 4,
 "nbformat_minor": 5
}
