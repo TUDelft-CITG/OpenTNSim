{
 "cells": [
  {
   "cell_type": "markdown",
   "id": "d00f417f-0d0b-4bfb-b8d0-b7922115a8e1",
   "metadata": {},
   "source": [
    "### Energy Efficiency Indices for carbon foot printing and as instrument for CO2 emission reduction of inland vessels\n",
    "Federal Ministry of Transport and Digital Infrastructure, Germany; DST; CESNI "
   ]
  },
  {
   "cell_type": "markdown",
   "id": "47e312b3-39cc-44a1-9e35-216e8c0c6206",
   "metadata": {},
   "source": [
    "----------------------------"
   ]
  },
  {
   "cell_type": "markdown",
   "id": "5171e771-f957-4a7e-8cf5-4fdd8e3a33a1",
   "metadata": {},
   "source": [
    "### The inland EEDI approach includes the attained EEDI and required EEDI for inland waterway navigation, covering 4 representative vessel types and 3 waterway conditions: \n",
    "#### four representative vessel types\n",
    "- dry cargo and container selfpropelled ships\n",
    "- tankers\n",
    "- pushed convoys\n",
    "- passenger ships\n",
    "\n",
    "#### three waterway conditions: \n",
    "- deep calm water (h>7.5m), \n",
    "- shallow water with currents (3.5 m <= h <= 7.5 m), \n",
    "- cannal: major canals with trapezoidal cross-section, e.g. the MD canal.\n",
    "\n",
    "#### references\n",
    "- https://www.cesni.eu/wp-content/uploads/2021/03/cesnipt_energyindex_de.pdf\n",
    "- https://platina3.eu/download/gernot-paulii-and-jens-ley-on-energy-efficiency-indices-as-an-instrument-for-the-reduction-of-co2-emissions-of-inland-vessels/\n",
    "- https://link.springer.com/book/10.1007/978-3-030-77325-0 chapter 6.2.4"
   ]
  },
  {
   "cell_type": "code",
   "execution_count": 1,
   "id": "a26cfec6-a218-4d8f-844f-cd467436c4e9",
   "metadata": {},
   "outputs": [],
   "source": [
    "import math\n",
    "import itertools\n",
    "import pandas as pd\n",
    "import numpy as np\n",
    "import matplotlib.pyplot as plt\n",
    "import tqdm\n",
    "import plotly.express as px\n",
    "from plotly.subplots import make_subplots"
   ]
  },
  {
   "cell_type": "markdown",
   "id": "d908378e-3d4e-4326-a1a0-231be01c38f2",
   "metadata": {},
   "source": [
    "### attained EEDI   (g CO2 / ton-km)\n",
    "for different vessel types and sailing conditions, use the same EEDI_attained formula with different P_D and V_g  to get the attained EEDI. "
   ]
  },
  {
   "cell_type": "markdown",
   "id": "447d52c4-1536-4c55-ba75-c7c8a724b59e",
   "metadata": {},
   "source": [
    "Note that the P_D calculations for pushed convoys and self-propelled ships are the same in shallow water!! \n",
    "then the use the same formula for EEDI_attained, which means in shallow water the method has no difference among vessel types for getting EEDI_attained\n"
   ]
  },
  {
   "cell_type": "code",
   "execution_count": 2,
   "id": "2704d1a0-1d29-4a5d-8b94-929c26afde82",
   "metadata": {},
   "outputs": [],
   "source": [
    "def calculate_attained_EEDI( B, h, vessel_type, DWT, V_g):\n",
    "    '''\n",
    "    calculate_attained_EEDI for inland vessels.\n",
    "    vessel types include 1) dry cargo and container selfpropelled ships, 2) tankers, 3) pushed convoys and 4) passenger ships.\n",
    "   \n",
    "    Note \n",
    "    - the calculation covers waterway conditions of deep calm water and shallow current water, vessel types of dry cargo and container selfpropelled ship, and pushed convoy so far, \n",
    "    for the RhineARA case study. Other water conditions and vessel types can be added into calculation when needed.\n",
    "    \n",
    "    input\n",
    "    - B: ship beam (m)\n",
    "    - h:  water depth, deep water range h >7.5 m, shallow water 3.5 m <= h <= 7.5 m;  lower than 3.5 m is excluded in the approach\n",
    "    - vessel_type: \"dry cargo\", \"container\", \"pushed convoy\"   \n",
    "    - DWT: capacity, [ton]\n",
    "    - V_g: Velocity over ground, [km/h]\n",
    "    - CF: CO2 Factor of gasoil, [g CO2/ g diesel] \n",
    "    - SFC: Specific fuel consumption, [g diesel/kWh] \n",
    "    \n",
    "    '''\n",
    "    def get_P_D( B, h, vessel_type, DWT):\n",
    "        ''' P_D: Applied delivered power depending on ship type and sailing direction up-downstream\n",
    "        '''\n",
    "        if h > 7.5: \n",
    "            if vessel_type == \"dry cargo\" or vessel_type == \"container\":\n",
    "                P_D = 0.262 * DWT        \n",
    "            elif vessel_type == \"pushed convoy\":\n",
    "                P_D = (0.146 + 0.25 * math.exp( B / (-11))) * DWT\n",
    "\n",
    "\n",
    "        elif 3.5 <= h <= 7.5:\n",
    "            if vessel_type == \"dry cargo\" or vessel_type == \"container\":\n",
    "                P_D = (0.375 + 0.0625 * math.exp(-0.13 * B) - 0.5 * math.exp( h / (-2.8))) * DWT        \n",
    "            elif vessel_type == \"pushed convoy\":\n",
    "                P_D = (0.375 + 0.0625 * math.exp(-0.13 * B) - 0.5 * math.exp( h / (-2.8))) * DWT  \n",
    "                # note that the P_D calculations for pushed convoys and self-propelled ships are the same in shallow water!! \n",
    "                # then the use the same formula for EEDI_attained, which means in shallow water the method has no difference among vessel types for getting EEDI_attained\n",
    "\n",
    "        else:\n",
    "            print (\"out of the water depth range or wrong vessel type input\")        \n",
    "\n",
    "        return P_D\n",
    "    \n",
    "    \n",
    "    CF = 3.206 \n",
    "    SFC = 220 \n",
    "    \n",
    "    EEDI_attained = CF * SFC * get_P_D(B, h, vessel_type, DWT) / (DWT * V_g)\n",
    "    \n",
    "    return EEDI_attained"
   ]
  },
  {
   "cell_type": "code",
   "execution_count": 3,
   "id": "475c7d0a-ac73-4f09-bab9-4a3870b3f12d",
   "metadata": {},
   "outputs": [],
   "source": [
    "def get_P_D( B, h, vessel_type, DWT):\n",
    "        ''' P_D: Applied delivered power depending on ship type and sailing direction up-downstream\n",
    "        '''\n",
    "        if h > 7.5: \n",
    "            if vessel_type == \"dry cargo\" or vessel_type == \"container\":\n",
    "                P_D = 0.262 * DWT        \n",
    "            elif vessel_type == \"pushed convoy\":\n",
    "                P_D = (0.146 + 0.25 * math.exp( B / (-11))) * DWT\n",
    "\n",
    "\n",
    "        elif 3.5 <= h <= 7.5:\n",
    "            if vessel_type == \"dry cargo\" or vessel_type == \"container\":\n",
    "                P_D = (0.375 + 0.0625 * math.exp(-0.13 * B) - 0.5 * math.exp( h / (-2.8))) * DWT        \n",
    "            elif vessel_type == \"pushed convoy\":\n",
    "                P_D = (0.375 + 0.0625 * math.exp(-0.13 * B) - 0.5 * math.exp( h / (-2.8))) * DWT  \n",
    "                # note that the P_D calculations for pushed convoys and self-propelled ships are the same in shallow water!! \n",
    "                # then the use the same formula for EEDI_attained, which means in shallow water the method has no difference among vessel types for getting EEDI_attained\n",
    "\n",
    "        else:\n",
    "            print (\"out of the water depth range or wrong vessel type input\")        \n",
    "\n",
    "        return P_D"
   ]
  },
  {
   "cell_type": "code",
   "execution_count": 4,
   "id": "5f497c3a-568d-4f6d-baf1-ea87e45ebe14",
   "metadata": {},
   "outputs": [
    {
     "data": {
      "text/plain": [
       "17.45395893226047"
      ]
     },
     "execution_count": 4,
     "metadata": {},
     "output_type": "execute_result"
    }
   ],
   "source": [
    "EEDI_attained = calculate_attained_EEDI( B = 10, h =4, vessel_type = \"container\", DWT =3000, V_g=11)\n",
    "EEDI_attained"
   ]
  },
  {
   "cell_type": "code",
   "execution_count": 5,
   "id": "775c344a-cc16-48aa-a8b4-e5e44e3b5cbd",
   "metadata": {},
   "outputs": [
    {
     "data": {
      "text/plain": [
       "16.799439999999997"
      ]
     },
     "execution_count": 5,
     "metadata": {},
     "output_type": "execute_result"
    }
   ],
   "source": [
    "EEDI_attained = calculate_attained_EEDI( B = 10, h =10, vessel_type = \"container\", DWT =3000, V_g=11)\n",
    "EEDI_attained"
   ]
  },
  {
   "cell_type": "code",
   "execution_count": 6,
   "id": "e7b5d667-5665-472a-bc33-40a3934c3c41",
   "metadata": {},
   "outputs": [
    {
     "data": {
      "text/plain": [
       "10.12297795151502"
      ]
     },
     "execution_count": 6,
     "metadata": {},
     "output_type": "execute_result"
    }
   ],
   "source": [
    "EEDI_attained = calculate_attained_EEDI( B = 20, h =10, vessel_type = \"pushed convoy\", DWT =18000, V_g=13)\n",
    "EEDI_attained"
   ]
  },
  {
   "cell_type": "code",
   "execution_count": 7,
   "id": "f0064df3-c203-476c-8428-72aaf2c7f66d",
   "metadata": {},
   "outputs": [
    {
     "data": {
      "text/plain": [
       "15.819851854111999"
      ]
     },
     "execution_count": 7,
     "metadata": {},
     "output_type": "execute_result"
    }
   ],
   "source": [
    "EEDI_attained = calculate_attained_EEDI( B = 10, h =10, vessel_type = \"pushed convoy\", DWT =3000, V_g=11)\n",
    "EEDI_attained"
   ]
  },
  {
   "cell_type": "markdown",
   "id": "ce3fd753-1e51-4448-9718-2ce84da2e7ca",
   "metadata": {},
   "source": [
    "### required EEDI (g CO2 / ton-km)\n",
    "for different vessel types and sailing conditions, use different EEDI_req formula below to get the required EEDI for each situation"
   ]
  },
  {
   "cell_type": "markdown",
   "id": "2647d598-3fd3-4b40-bf0e-c10df58259d4",
   "metadata": {},
   "source": [
    "Note that the required_EEDI calculations for pushed convoys and self-propelled ships are the same in deep calm water!!"
   ]
  },
  {
   "cell_type": "code",
   "execution_count": 8,
   "id": "06abb89c-4d4b-4251-a161-ee4b61b639e7",
   "metadata": {},
   "outputs": [],
   "source": [
    "def calculate_required_EEDI(h, U_c, vessel_type, DWT):\n",
    "    ''' the calculation covers waterway conditions of deep calm water and shallow current water, vessel types of dry cargo and container selfpropelled ship, and pushed convoy so far, \n",
    "    for the RhineARA case study. Other water conditions and vessel types can be added into calculation when needed.\n",
    "    \n",
    "    - U_c: current speed, [km/h]\n",
    "    '''\n",
    "    if h > 7.5: \n",
    "        if vessel_type == \"dry cargo\" or vessel_type == \"container\":\n",
    "            EEDI_req = 10 + 13 * math.exp( DWT / (-470)) + 8 * math.exp( DWT / (-4500))      \n",
    "        elif vessel_type == \"pushed convoy\":\n",
    "            EEDI_req = 10 + 13 * math.exp( DWT / (-470)) + 8 * math.exp( DWT / (-4500))\n",
    "        # note that the required_EEDI calculations for pushed convoys and self-propelled ships are the same in deep calm water!!\n",
    "\n",
    "    elif 3.5 <= h <= 7.5:\n",
    "        if vessel_type == \"dry cargo\" or vessel_type == \"container\":\n",
    "            EEDI_req = (21 + 0.7 * U_c + 0.28 * U_c**2) + (11 + 0.78 * U_c - 0.46 * U_c**2 + 0.154 * U_c**3)* math.exp(DWT / (-800))       \n",
    "        elif vessel_type == \"pushed convoy\":\n",
    "            EEDI_req = (18 - 2.5 * U_c + 0.75 * U_c**2) + (8 + 0.25 * U_c + 0.375 * U_c**2) * math.exp(DWT / (-3100))\n",
    "    else:\n",
    "            print (\"out of the water depth range or wrong vessel type input\")        \n",
    "        \n",
    "    \n",
    "    return EEDI_req"
   ]
  },
  {
   "cell_type": "code",
   "execution_count": 9,
   "id": "465a3ed8-0052-46fa-8abf-97f7f5571264",
   "metadata": {},
   "outputs": [
    {
     "data": {
      "text/plain": [
       "23.24277519974214"
      ]
     },
     "execution_count": 9,
     "metadata": {},
     "output_type": "execute_result"
    }
   ],
   "source": [
    "EEDI_req = calculate_required_EEDI(h = 4, U_c = 2,  vessel_type = \"pushed convoy\", DWT =1000)\n",
    "EEDI_req"
   ]
  },
  {
   "cell_type": "code",
   "execution_count": 10,
   "id": "0ba058c8-2a5a-421f-8a5b-fa1436a4f913",
   "metadata": {},
   "outputs": [
    {
     "data": {
      "text/plain": [
       "32.26426999717026"
      ]
     },
     "execution_count": 10,
     "metadata": {},
     "output_type": "execute_result"
    }
   ],
   "source": [
    "EEDI_req = calculate_required_EEDI(h = 4, U_c = 2,  vessel_type = \"container\", DWT =250)\n",
    "EEDI_req"
   ]
  },
  {
   "cell_type": "code",
   "execution_count": 11,
   "id": "057bf446-f66b-4520-b77e-3e96ebb44c54",
   "metadata": {},
   "outputs": [
    {
     "data": {
      "text/plain": [
       "10.146525111109874"
      ]
     },
     "execution_count": 11,
     "metadata": {},
     "output_type": "execute_result"
    }
   ],
   "source": [
    "EEDI_req = calculate_required_EEDI(h = 14, U_c = 2,  vessel_type = \"container\", DWT =18000)\n",
    "EEDI_req"
   ]
  },
  {
   "cell_type": "code",
   "execution_count": 12,
   "id": "0a3e83d5-480a-42c8-aa32-2e5dacd6570b",
   "metadata": {},
   "outputs": [],
   "source": [
    "# to do input table"
   ]
  },
  {
   "cell_type": "markdown",
   "id": "0d5cdaf7-229d-45db-9476-c65094970c05",
   "metadata": {},
   "source": [
    "### Application case on RhineARA corrior\n",
    "take U_c = 4 km/h as the general current speed, take h = 10 m representing deep water and h = 4 m representing shallow water"
   ]
  },
  {
   "cell_type": "markdown",
   "id": "abb5a58e-43aa-40ea-bef5-b7bcf45587f8",
   "metadata": {},
   "source": [
    "####  input value"
   ]
  },
  {
   "cell_type": "code",
   "execution_count": 13,
   "id": "c55709d1-ba69-4967-9b39-e4fab6fc181f",
   "metadata": {},
   "outputs": [],
   "source": [
    "h = [4, 10]  \n",
    "U_c = [4]\n",
    "vessel_type = [\"dry cargo\",\"container\",\"pushed convoy\"]\n",
    "DWT = [11200, 5520, 5320, 5500, 5686, 3043, 5920, 6228, 3300, 3043, 8134, 2973, 1680, 3257, 3043, 2211, 2075, 2908, 985,1522,1718 ]\n",
    "B = [15, 11.4, 11.45, 17, 14.2, 9.5, 8.2]\n",
    "V_g = [12.4, 10, 10.8, 10.1, 9.9, 8.9, 9.5, 11.4, 10.3, 13.2, 10.4, 9.6, 10.5]"
   ]
  },
  {
   "cell_type": "markdown",
   "id": "956fb590-2999-412f-94b2-67bd4b60a1da",
   "metadata": {},
   "source": [
    "#### prepare input matrix for calculation"
   ]
  },
  {
   "cell_type": "code",
   "execution_count": 14,
   "id": "10d34d07-a25f-4c82-b12b-5a23a1dd13ad",
   "metadata": {},
   "outputs": [
    {
     "data": {
      "text/html": [
       "<div>\n",
       "<style scoped>\n",
       "    .dataframe tbody tr th:only-of-type {\n",
       "        vertical-align: middle;\n",
       "    }\n",
       "\n",
       "    .dataframe tbody tr th {\n",
       "        vertical-align: top;\n",
       "    }\n",
       "\n",
       "    .dataframe thead th {\n",
       "        text-align: right;\n",
       "    }\n",
       "</style>\n",
       "<table border=\"1\" class=\"dataframe\">\n",
       "  <thead>\n",
       "    <tr style=\"text-align: right;\">\n",
       "      <th></th>\n",
       "      <th>vessel_type</th>\n",
       "      <th>h</th>\n",
       "      <th>U_c</th>\n",
       "      <th>DWT</th>\n",
       "      <th>B</th>\n",
       "      <th>V_g</th>\n",
       "    </tr>\n",
       "  </thead>\n",
       "  <tbody>\n",
       "    <tr>\n",
       "      <th>0</th>\n",
       "      <td>dry cargo</td>\n",
       "      <td>4</td>\n",
       "      <td>4</td>\n",
       "      <td>11200</td>\n",
       "      <td>15.0</td>\n",
       "      <td>12.4</td>\n",
       "    </tr>\n",
       "    <tr>\n",
       "      <th>1</th>\n",
       "      <td>dry cargo</td>\n",
       "      <td>4</td>\n",
       "      <td>4</td>\n",
       "      <td>11200</td>\n",
       "      <td>15.0</td>\n",
       "      <td>10.0</td>\n",
       "    </tr>\n",
       "    <tr>\n",
       "      <th>2</th>\n",
       "      <td>dry cargo</td>\n",
       "      <td>4</td>\n",
       "      <td>4</td>\n",
       "      <td>11200</td>\n",
       "      <td>15.0</td>\n",
       "      <td>10.8</td>\n",
       "    </tr>\n",
       "    <tr>\n",
       "      <th>3</th>\n",
       "      <td>dry cargo</td>\n",
       "      <td>4</td>\n",
       "      <td>4</td>\n",
       "      <td>11200</td>\n",
       "      <td>15.0</td>\n",
       "      <td>10.1</td>\n",
       "    </tr>\n",
       "    <tr>\n",
       "      <th>4</th>\n",
       "      <td>dry cargo</td>\n",
       "      <td>4</td>\n",
       "      <td>4</td>\n",
       "      <td>11200</td>\n",
       "      <td>15.0</td>\n",
       "      <td>9.9</td>\n",
       "    </tr>\n",
       "  </tbody>\n",
       "</table>\n",
       "</div>"
      ],
      "text/plain": [
       "  vessel_type  h  U_c    DWT     B   V_g\n",
       "0   dry cargo  4    4  11200  15.0  12.4\n",
       "1   dry cargo  4    4  11200  15.0  10.0\n",
       "2   dry cargo  4    4  11200  15.0  10.8\n",
       "3   dry cargo  4    4  11200  15.0  10.1\n",
       "4   dry cargo  4    4  11200  15.0   9.9"
      ]
     },
     "execution_count": 14,
     "metadata": {},
     "output_type": "execute_result"
    }
   ],
   "source": [
    "# prepare the work to be done\n",
    "# create a list of all combinations\n",
    "work = list(itertools.product(vessel_type, h, U_c, DWT, B, V_g))\n",
    "\n",
    "# prepare a list of dictionaries for pandas\n",
    "rows = []\n",
    "for item in work:\n",
    "    row = {\"vessel_type\": item[0], \"h\": item[1], \"U_c\": item[2], \"DWT\": item[3], \"B\": item[4], \"V_g\": item[5]}\n",
    "    rows.append(row)\n",
    "\n",
    "# these are all the simulations that we want to run\n",
    "# convert them to dataframe, so that we can apply a function and monitor progress\n",
    "work_df = pd.DataFrame(rows)\n",
    "work_df.head()"
   ]
  },
  {
   "cell_type": "code",
   "execution_count": 15,
   "id": "7b9ff16c-4ff2-4f00-b3e9-50ea60d1572b",
   "metadata": {},
   "outputs": [
    {
     "name": "stderr",
     "output_type": "stream",
     "text": [
      "11466it [00:00, 12457.51it/s]\n"
     ]
    }
   ],
   "source": [
    "\n",
    "results = []\n",
    "\n",
    "for i, row in tqdm.tqdm(work_df.iterrows()):\n",
    "    # create a new vessel, like the one above (so that it also has L)\n",
    "    vessel_type = row['vessel_type']\n",
    "    h = row['h']\n",
    "    U_c = row['U_c']\n",
    "    DWT = row['DWT']\n",
    "    B = row['B']    \n",
    "    V_g = row['V_g']\n",
    "\n",
    "\n",
    "    P_D = get_P_D( B, h, vessel_type, DWT)\n",
    "    EEDI_attained = calculate_attained_EEDI( B, h, vessel_type, DWT, V_g)\n",
    "    EEDI_req = calculate_required_EEDI(h, U_c, vessel_type, DWT)\n",
    "        \n",
    "    result = {}\n",
    "    result.update(row)\n",
    "    result['P_D'] = P_D\n",
    "    result['EEDI_req (g CO2 / ton-km)'] = EEDI_req    \n",
    "    result['EEDI_attained (g CO2 / ton-km)'] = EEDI_attained\n",
    "\n",
    "    results.append(result)"
   ]
  },
  {
   "cell_type": "code",
   "execution_count": 16,
   "id": "d79c52db-b64f-4d12-9d8a-5cf8c06c6ea2",
   "metadata": {},
   "outputs": [
    {
     "data": {
      "text/html": [
       "<div>\n",
       "<style scoped>\n",
       "    .dataframe tbody tr th:only-of-type {\n",
       "        vertical-align: middle;\n",
       "    }\n",
       "\n",
       "    .dataframe tbody tr th {\n",
       "        vertical-align: top;\n",
       "    }\n",
       "\n",
       "    .dataframe thead th {\n",
       "        text-align: right;\n",
       "    }\n",
       "</style>\n",
       "<table border=\"1\" class=\"dataframe\">\n",
       "  <thead>\n",
       "    <tr style=\"text-align: right;\">\n",
       "      <th></th>\n",
       "      <th>vessel_type</th>\n",
       "      <th>h</th>\n",
       "      <th>U_c</th>\n",
       "      <th>DWT</th>\n",
       "      <th>B</th>\n",
       "      <th>V_g</th>\n",
       "      <th>P_D</th>\n",
       "      <th>EEDI_req (g CO2 / ton-km)</th>\n",
       "      <th>EEDI_attained (g CO2 / ton-km)</th>\n",
       "    </tr>\n",
       "  </thead>\n",
       "  <tbody>\n",
       "    <tr>\n",
       "      <th>0</th>\n",
       "      <td>dry cargo</td>\n",
       "      <td>4</td>\n",
       "      <td>4</td>\n",
       "      <td>11200</td>\n",
       "      <td>15.0</td>\n",
       "      <td>12.4</td>\n",
       "      <td>2957.546046</td>\n",
       "      <td>28.280014</td>\n",
       "      <td>15.020279</td>\n",
       "    </tr>\n",
       "    <tr>\n",
       "      <th>1</th>\n",
       "      <td>dry cargo</td>\n",
       "      <td>4</td>\n",
       "      <td>4</td>\n",
       "      <td>11200</td>\n",
       "      <td>15.0</td>\n",
       "      <td>10.0</td>\n",
       "      <td>2957.546046</td>\n",
       "      <td>28.280014</td>\n",
       "      <td>18.625146</td>\n",
       "    </tr>\n",
       "    <tr>\n",
       "      <th>2</th>\n",
       "      <td>dry cargo</td>\n",
       "      <td>4</td>\n",
       "      <td>4</td>\n",
       "      <td>11200</td>\n",
       "      <td>15.0</td>\n",
       "      <td>10.8</td>\n",
       "      <td>2957.546046</td>\n",
       "      <td>28.280014</td>\n",
       "      <td>17.245506</td>\n",
       "    </tr>\n",
       "    <tr>\n",
       "      <th>3</th>\n",
       "      <td>dry cargo</td>\n",
       "      <td>4</td>\n",
       "      <td>4</td>\n",
       "      <td>11200</td>\n",
       "      <td>15.0</td>\n",
       "      <td>10.1</td>\n",
       "      <td>2957.546046</td>\n",
       "      <td>28.280014</td>\n",
       "      <td>18.440739</td>\n",
       "    </tr>\n",
       "    <tr>\n",
       "      <th>4</th>\n",
       "      <td>dry cargo</td>\n",
       "      <td>4</td>\n",
       "      <td>4</td>\n",
       "      <td>11200</td>\n",
       "      <td>15.0</td>\n",
       "      <td>9.9</td>\n",
       "      <td>2957.546046</td>\n",
       "      <td>28.280014</td>\n",
       "      <td>18.813279</td>\n",
       "    </tr>\n",
       "    <tr>\n",
       "      <th>5</th>\n",
       "      <td>dry cargo</td>\n",
       "      <td>4</td>\n",
       "      <td>4</td>\n",
       "      <td>11200</td>\n",
       "      <td>15.0</td>\n",
       "      <td>8.9</td>\n",
       "      <td>2957.546046</td>\n",
       "      <td>28.280014</td>\n",
       "      <td>20.927131</td>\n",
       "    </tr>\n",
       "    <tr>\n",
       "      <th>6</th>\n",
       "      <td>dry cargo</td>\n",
       "      <td>4</td>\n",
       "      <td>4</td>\n",
       "      <td>11200</td>\n",
       "      <td>15.0</td>\n",
       "      <td>9.5</td>\n",
       "      <td>2957.546046</td>\n",
       "      <td>28.280014</td>\n",
       "      <td>19.605417</td>\n",
       "    </tr>\n",
       "    <tr>\n",
       "      <th>7</th>\n",
       "      <td>dry cargo</td>\n",
       "      <td>4</td>\n",
       "      <td>4</td>\n",
       "      <td>11200</td>\n",
       "      <td>15.0</td>\n",
       "      <td>11.4</td>\n",
       "      <td>2957.546046</td>\n",
       "      <td>28.280014</td>\n",
       "      <td>16.337848</td>\n",
       "    </tr>\n",
       "    <tr>\n",
       "      <th>8</th>\n",
       "      <td>dry cargo</td>\n",
       "      <td>4</td>\n",
       "      <td>4</td>\n",
       "      <td>11200</td>\n",
       "      <td>15.0</td>\n",
       "      <td>10.3</td>\n",
       "      <td>2957.546046</td>\n",
       "      <td>28.280014</td>\n",
       "      <td>18.082666</td>\n",
       "    </tr>\n",
       "    <tr>\n",
       "      <th>9</th>\n",
       "      <td>dry cargo</td>\n",
       "      <td>4</td>\n",
       "      <td>4</td>\n",
       "      <td>11200</td>\n",
       "      <td>15.0</td>\n",
       "      <td>13.2</td>\n",
       "      <td>2957.546046</td>\n",
       "      <td>28.280014</td>\n",
       "      <td>14.109959</td>\n",
       "    </tr>\n",
       "    <tr>\n",
       "      <th>10</th>\n",
       "      <td>dry cargo</td>\n",
       "      <td>4</td>\n",
       "      <td>4</td>\n",
       "      <td>11200</td>\n",
       "      <td>15.0</td>\n",
       "      <td>10.4</td>\n",
       "      <td>2957.546046</td>\n",
       "      <td>28.280014</td>\n",
       "      <td>17.908794</td>\n",
       "    </tr>\n",
       "    <tr>\n",
       "      <th>11</th>\n",
       "      <td>dry cargo</td>\n",
       "      <td>4</td>\n",
       "      <td>4</td>\n",
       "      <td>11200</td>\n",
       "      <td>15.0</td>\n",
       "      <td>9.6</td>\n",
       "      <td>2957.546046</td>\n",
       "      <td>28.280014</td>\n",
       "      <td>19.401194</td>\n",
       "    </tr>\n",
       "    <tr>\n",
       "      <th>12</th>\n",
       "      <td>dry cargo</td>\n",
       "      <td>4</td>\n",
       "      <td>4</td>\n",
       "      <td>11200</td>\n",
       "      <td>15.0</td>\n",
       "      <td>10.5</td>\n",
       "      <td>2957.546046</td>\n",
       "      <td>28.280014</td>\n",
       "      <td>17.738234</td>\n",
       "    </tr>\n",
       "    <tr>\n",
       "      <th>13</th>\n",
       "      <td>dry cargo</td>\n",
       "      <td>4</td>\n",
       "      <td>4</td>\n",
       "      <td>11200</td>\n",
       "      <td>11.4</td>\n",
       "      <td>12.4</td>\n",
       "      <td>3016.982204</td>\n",
       "      <td>28.280014</td>\n",
       "      <td>15.322133</td>\n",
       "    </tr>\n",
       "    <tr>\n",
       "      <th>14</th>\n",
       "      <td>dry cargo</td>\n",
       "      <td>4</td>\n",
       "      <td>4</td>\n",
       "      <td>11200</td>\n",
       "      <td>11.4</td>\n",
       "      <td>10.0</td>\n",
       "      <td>3016.982204</td>\n",
       "      <td>28.280014</td>\n",
       "      <td>18.999445</td>\n",
       "    </tr>\n",
       "    <tr>\n",
       "      <th>15</th>\n",
       "      <td>dry cargo</td>\n",
       "      <td>4</td>\n",
       "      <td>4</td>\n",
       "      <td>11200</td>\n",
       "      <td>11.4</td>\n",
       "      <td>10.8</td>\n",
       "      <td>3016.982204</td>\n",
       "      <td>28.280014</td>\n",
       "      <td>17.592079</td>\n",
       "    </tr>\n",
       "    <tr>\n",
       "      <th>16</th>\n",
       "      <td>dry cargo</td>\n",
       "      <td>4</td>\n",
       "      <td>4</td>\n",
       "      <td>11200</td>\n",
       "      <td>11.4</td>\n",
       "      <td>10.1</td>\n",
       "      <td>3016.982204</td>\n",
       "      <td>28.280014</td>\n",
       "      <td>18.811332</td>\n",
       "    </tr>\n",
       "    <tr>\n",
       "      <th>17</th>\n",
       "      <td>dry cargo</td>\n",
       "      <td>4</td>\n",
       "      <td>4</td>\n",
       "      <td>11200</td>\n",
       "      <td>11.4</td>\n",
       "      <td>9.9</td>\n",
       "      <td>3016.982204</td>\n",
       "      <td>28.280014</td>\n",
       "      <td>19.191359</td>\n",
       "    </tr>\n",
       "    <tr>\n",
       "      <th>18</th>\n",
       "      <td>dry cargo</td>\n",
       "      <td>4</td>\n",
       "      <td>4</td>\n",
       "      <td>11200</td>\n",
       "      <td>11.4</td>\n",
       "      <td>8.9</td>\n",
       "      <td>3016.982204</td>\n",
       "      <td>28.280014</td>\n",
       "      <td>21.347691</td>\n",
       "    </tr>\n",
       "    <tr>\n",
       "      <th>19</th>\n",
       "      <td>dry cargo</td>\n",
       "      <td>4</td>\n",
       "      <td>4</td>\n",
       "      <td>11200</td>\n",
       "      <td>11.4</td>\n",
       "      <td>9.5</td>\n",
       "      <td>3016.982204</td>\n",
       "      <td>28.280014</td>\n",
       "      <td>19.999416</td>\n",
       "    </tr>\n",
       "  </tbody>\n",
       "</table>\n",
       "</div>"
      ],
      "text/plain": [
       "   vessel_type  h  U_c    DWT     B   V_g          P_D  \\\n",
       "0    dry cargo  4    4  11200  15.0  12.4  2957.546046   \n",
       "1    dry cargo  4    4  11200  15.0  10.0  2957.546046   \n",
       "2    dry cargo  4    4  11200  15.0  10.8  2957.546046   \n",
       "3    dry cargo  4    4  11200  15.0  10.1  2957.546046   \n",
       "4    dry cargo  4    4  11200  15.0   9.9  2957.546046   \n",
       "5    dry cargo  4    4  11200  15.0   8.9  2957.546046   \n",
       "6    dry cargo  4    4  11200  15.0   9.5  2957.546046   \n",
       "7    dry cargo  4    4  11200  15.0  11.4  2957.546046   \n",
       "8    dry cargo  4    4  11200  15.0  10.3  2957.546046   \n",
       "9    dry cargo  4    4  11200  15.0  13.2  2957.546046   \n",
       "10   dry cargo  4    4  11200  15.0  10.4  2957.546046   \n",
       "11   dry cargo  4    4  11200  15.0   9.6  2957.546046   \n",
       "12   dry cargo  4    4  11200  15.0  10.5  2957.546046   \n",
       "13   dry cargo  4    4  11200  11.4  12.4  3016.982204   \n",
       "14   dry cargo  4    4  11200  11.4  10.0  3016.982204   \n",
       "15   dry cargo  4    4  11200  11.4  10.8  3016.982204   \n",
       "16   dry cargo  4    4  11200  11.4  10.1  3016.982204   \n",
       "17   dry cargo  4    4  11200  11.4   9.9  3016.982204   \n",
       "18   dry cargo  4    4  11200  11.4   8.9  3016.982204   \n",
       "19   dry cargo  4    4  11200  11.4   9.5  3016.982204   \n",
       "\n",
       "    EEDI_req (g CO2 / ton-km)  EEDI_attained (g CO2 / ton-km)  \n",
       "0                   28.280014                       15.020279  \n",
       "1                   28.280014                       18.625146  \n",
       "2                   28.280014                       17.245506  \n",
       "3                   28.280014                       18.440739  \n",
       "4                   28.280014                       18.813279  \n",
       "5                   28.280014                       20.927131  \n",
       "6                   28.280014                       19.605417  \n",
       "7                   28.280014                       16.337848  \n",
       "8                   28.280014                       18.082666  \n",
       "9                   28.280014                       14.109959  \n",
       "10                  28.280014                       17.908794  \n",
       "11                  28.280014                       19.401194  \n",
       "12                  28.280014                       17.738234  \n",
       "13                  28.280014                       15.322133  \n",
       "14                  28.280014                       18.999445  \n",
       "15                  28.280014                       17.592079  \n",
       "16                  28.280014                       18.811332  \n",
       "17                  28.280014                       19.191359  \n",
       "18                  28.280014                       21.347691  \n",
       "19                  28.280014                       19.999416  "
      ]
     },
     "execution_count": 16,
     "metadata": {},
     "output_type": "execute_result"
    }
   ],
   "source": [
    "plot_df = pd.DataFrame(results)\n",
    "\n",
    "plot_df.head(20)"
   ]
  },
  {
   "cell_type": "code",
   "execution_count": 17,
   "id": "fe87cce5-e648-4bc2-b67b-e00675cab950",
   "metadata": {},
   "outputs": [
    {
     "data": {
      "text/html": [
       "<div>\n",
       "<style scoped>\n",
       "    .dataframe tbody tr th:only-of-type {\n",
       "        vertical-align: middle;\n",
       "    }\n",
       "\n",
       "    .dataframe tbody tr th {\n",
       "        vertical-align: top;\n",
       "    }\n",
       "\n",
       "    .dataframe thead th {\n",
       "        text-align: right;\n",
       "    }\n",
       "</style>\n",
       "<table border=\"1\" class=\"dataframe\">\n",
       "  <thead>\n",
       "    <tr style=\"text-align: right;\">\n",
       "      <th></th>\n",
       "      <th>vessel_type</th>\n",
       "      <th>h</th>\n",
       "      <th>U_c</th>\n",
       "      <th>DWT</th>\n",
       "      <th>B</th>\n",
       "      <th>V_g</th>\n",
       "      <th>P_D</th>\n",
       "      <th>EEDI_req (g CO2 / ton-km)</th>\n",
       "      <th>EEDI_attained (g CO2 / ton-km)</th>\n",
       "    </tr>\n",
       "  </thead>\n",
       "  <tbody>\n",
       "    <tr>\n",
       "      <th>0</th>\n",
       "      <td>dry cargo</td>\n",
       "      <td>4</td>\n",
       "      <td>4</td>\n",
       "      <td>11200</td>\n",
       "      <td>15.0</td>\n",
       "      <td>12.4</td>\n",
       "      <td>2957.546046</td>\n",
       "      <td>28.280014</td>\n",
       "      <td>15.020279</td>\n",
       "    </tr>\n",
       "  </tbody>\n",
       "</table>\n",
       "</div>"
      ],
      "text/plain": [
       "  vessel_type  h  U_c    DWT     B   V_g          P_D  \\\n",
       "0   dry cargo  4    4  11200  15.0  12.4  2957.546046   \n",
       "\n",
       "   EEDI_req (g CO2 / ton-km)  EEDI_attained (g CO2 / ton-km)  \n",
       "0                  28.280014                       15.020279  "
      ]
     },
     "execution_count": 17,
     "metadata": {},
     "output_type": "execute_result"
    }
   ],
   "source": [
    "# resistance for water depth h_0 = 7.5 m, 1990\n",
    "Rotterdam_Duisburg_PushB4 = plot_df.query('vessel_type ==\"dry cargo\" & DWT == 11200 & h == 4 & B == 15  & V_g == 12.4')\n",
    "Rotterdam_Duisburg_PushB4 \n",
    "\n"
   ]
  }
 ],
 "metadata": {
  "kernelspec": {
   "display_name": "Python 3 (ipykernel)",
   "language": "python",
   "name": "python3"
  },
  "language_info": {
   "codemirror_mode": {
    "name": "ipython",
    "version": 3
   },
   "file_extension": ".py",
   "mimetype": "text/x-python",
   "name": "python",
   "nbconvert_exporter": "python",
   "pygments_lexer": "ipython3",
   "version": "3.9.10"
  }
 },
 "nbformat": 4,
 "nbformat_minor": 5
}
