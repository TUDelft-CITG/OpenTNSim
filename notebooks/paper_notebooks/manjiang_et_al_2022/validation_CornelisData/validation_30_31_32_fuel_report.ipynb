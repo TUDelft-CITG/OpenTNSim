{
 "cells": [
  {
   "cell_type": "markdown",
   "id": "1dd2974a",
   "metadata": {},
   "source": [
    "### Imports\n",
    "Import the required libraries"
   ]
  },
  {
   "cell_type": "code",
   "execution_count": 1,
   "id": "66ce076a",
   "metadata": {
    "tags": []
   },
   "outputs": [],
   "source": [
    "# package(s) related to time, space and id\n",
    "import datetime, time\n",
    "import platform\n",
    "import itertools\n",
    "# Used for mathematical functions\n",
    "import math             \n",
    "import logging\n",
    "\n",
    "# you need these dependencies (you can get these from anaconda)\n",
    "# package(s) related to the simulation\n",
    "import simpy\n",
    "import pandas as pd\n",
    "\n",
    "# spatial libraries \n",
    "# import pyproj\n",
    "# import shapely.geometry\n",
    "# from simplekml import Kml, Style\n",
    "\n",
    "# package(s) for data handling\n",
    "import numpy as np\n",
    "import matplotlib.pyplot as plt\n",
    "import tqdm\n",
    "\n",
    "\n",
    "import plotly.express as px\n",
    "from plotly.subplots import make_subplots\n",
    "\n",
    "# OpenTNSim\n",
    "import opentnsim\n",
    "\n",
    "# turn on debug messages if want to see what's going on in detail\n",
    "# logging.basicConfig(level=logging.DEBUG)\n",
    "# turn off debug messages, only show info and higher level messages\n",
    "logging.basicConfig(level=logging.INFO)"
   ]
  },
  {
   "cell_type": "markdown",
   "id": "a380bb1a",
   "metadata": {},
   "source": [
    "### Create vessel - add VesselProperties and ConsumesEnergy mixins"
   ]
  },
  {
   "cell_type": "code",
   "execution_count": 2,
   "id": "c51dd9a4",
   "metadata": {
    "tags": []
   },
   "outputs": [],
   "source": [
    "# Make your preferred class out of available mix-ins.\n",
    "TransportResource = type(\n",
    "    \"Vessel\",\n",
    "    (\n",
    "        opentnsim.core.Identifiable,\n",
    "        opentnsim.core.Movable,\n",
    "        opentnsim.core.VesselProperties,  # needed to add vessel properties\n",
    "        opentnsim.energy.ConsumesEnergy,\n",
    "        opentnsim.core.ExtraMetadata,\n",
    "    ),\n",
    "    {},\n",
    ")  # needed to calculate resistances"
   ]
  },
  {
   "cell_type": "code",
   "execution_count": 3,
   "id": "d71f8277",
   "metadata": {},
   "outputs": [],
   "source": [
    "# Create a dict with all important settings\n",
    "\n",
    "data_vessel = {\n",
    "    \"env\": None,\n",
    "    \"name\": 'Vessel M9',\n",
    "    \"route\": None,\n",
    "    \"geometry\": None,\n",
    "    \"v\": None,  # m/s\n",
    "    \"type\": None,\n",
    "    \"B\": 14.3,\n",
    "    \"L\": 135,\n",
    "    \"H_e\": None, \n",
    "    \"H_f\": None, \n",
    "    \"T\": 1.5,\n",
    "    \"safety_margin\": 0.3, # for tanker vessel with rocky bed the safety margin is recommended as 0.3 m\n",
    "    \"h_squat\": False, # if consider the ship squatting while moving, set to True, otherwise set to False. Note that here we have disabled h_squat calculation since we regard the water depth h_0 is already reduced by squat effect. This applies to figures 3, 5, 7, 8 and 9.\n",
    "    \"payload\":None,\n",
    "    \"vessel_type\":\"Tanker\", #vessel types: \"Container\",\"Dry_SH\",\"Dry_DH\",\"Barge\",\"Tanker\". (\"Dry_SH\" means dry bulk single hull, \"Dry_DH\" means dry bulk double hull)    \n",
    "    \"P_installed\": 2236,   #assume\n",
    "    \"P_tot_given\": None, # kW\n",
    "    \"bulbous_bow\": False, # if a vessel has no bulbous_bow, set to False; otherwise set to True.\n",
    "    \"P_hotel_perc\": 0,\n",
    "    \"P_hotel\": None, # None: calculate P_hotel from percentage\n",
    "    \"x\": 2,# number of propellers\n",
    "    \"L_w\": 3.0,\n",
    "    \"C_B\":0.8, \n",
    "    \"C_year\": 2000,\n",
    "}             \n",
    "\n"
   ]
  },
  {
   "cell_type": "code",
   "execution_count": 4,
   "id": "f8027023",
   "metadata": {},
   "outputs": [],
   "source": [
    "data_vessel_i = data_vessel.copy()\n",
    "vessel = TransportResource(**data_vessel_i)"
   ]
  },
  {
   "cell_type": "markdown",
   "id": "288e7af5",
   "metadata": {},
   "source": [
    "### Set vessel properties and sailing conditions ( input value )"
   ]
  },
  {
   "cell_type": "code",
   "execution_count": 5,
   "id": "fdac3126",
   "metadata": {},
   "outputs": [],
   "source": [
    "V_s = [2.78, 4.17, 6.94]         # ship sailing speeds to water, (m/s)  \n",
    "h_0 = [15]                 # water depths,(m)\n",
    "# C_year = [ 1980,1990, 2000, 2010]   # engine construction years\n"
   ]
  },
  {
   "cell_type": "markdown",
   "id": "a8e8e346",
   "metadata": {},
   "source": [
    "### prepare input matrix for calculation"
   ]
  },
  {
   "cell_type": "code",
   "execution_count": 6,
   "id": "06e87a79",
   "metadata": {},
   "outputs": [
    {
     "data": {
      "text/html": [
       "<div>\n",
       "<style scoped>\n",
       "    .dataframe tbody tr th:only-of-type {\n",
       "        vertical-align: middle;\n",
       "    }\n",
       "\n",
       "    .dataframe tbody tr th {\n",
       "        vertical-align: top;\n",
       "    }\n",
       "\n",
       "    .dataframe thead th {\n",
       "        text-align: right;\n",
       "    }\n",
       "</style>\n",
       "<table border=\"1\" class=\"dataframe\">\n",
       "  <thead>\n",
       "    <tr style=\"text-align: right;\">\n",
       "      <th></th>\n",
       "      <th>h_0</th>\n",
       "      <th>V_s</th>\n",
       "    </tr>\n",
       "  </thead>\n",
       "  <tbody>\n",
       "    <tr>\n",
       "      <th>0</th>\n",
       "      <td>15</td>\n",
       "      <td>2.78</td>\n",
       "    </tr>\n",
       "    <tr>\n",
       "      <th>1</th>\n",
       "      <td>15</td>\n",
       "      <td>4.17</td>\n",
       "    </tr>\n",
       "    <tr>\n",
       "      <th>2</th>\n",
       "      <td>15</td>\n",
       "      <td>6.94</td>\n",
       "    </tr>\n",
       "  </tbody>\n",
       "</table>\n",
       "</div>"
      ],
      "text/plain": [
       "   h_0   V_s\n",
       "0   15  2.78\n",
       "1   15  4.17\n",
       "2   15  6.94"
      ]
     },
     "execution_count": 6,
     "metadata": {},
     "output_type": "execute_result"
    }
   ],
   "source": [
    "# prepare the work to be done\n",
    "# create a list of all combinations\n",
    "work = list(itertools.product(h_0, V_s))\n",
    "\n",
    "# prepare a list of dictionaries for pandas\n",
    "rows = []\n",
    "for item in work:\n",
    "    row = {\"h_0\": item[0], \"V_s\": item[1]}\n",
    "    rows.append(row)\n",
    "\n",
    "# these are all the simulations that we want to run\n",
    "# convert them to dataframe, so that we can apply a function and monitor progress\n",
    "work_df = pd.DataFrame(rows)\n",
    "work_df.head(20)"
   ]
  },
  {
   "cell_type": "markdown",
   "id": "35b958ed-06a8-455d-988c-f7a1f482670d",
   "metadata": {},
   "source": [
    "### Run OpenTNSim to Calculate resistance, required power and emissions "
   ]
  },
  {
   "cell_type": "code",
   "execution_count": 7,
   "id": "c419e4c5",
   "metadata": {
    "tags": []
   },
   "outputs": [
    {
     "name": "stderr",
     "output_type": "stream",
     "text": [
      "3it [00:00, 43.12it/s]"
     ]
    },
    {
     "name": "stdout",
     "output_type": "stream",
     "text": [
      "15.0\n",
      "0.55\n",
      "0.55\n",
      "0.55\n",
      "0.55\n",
      "15.0\n",
      "0.78\n",
      "0.78\n",
      "0.78\n",
      "0.78\n",
      "15.0\n",
      "0.65\n",
      "0.65\n",
      "0.65\n",
      "0.65\n"
     ]
    },
    {
     "name": "stderr",
     "output_type": "stream",
     "text": [
      "\n"
     ]
    }
   ],
   "source": [
    "\n",
    "results = []\n",
    "\n",
    "for i, row in tqdm.tqdm(work_df.iterrows()):\n",
    "    # create a new vessel, like the one above (so that it also has L)\n",
    "    # C_year = row['C_year']\n",
    "    # data_vessel_i = data_vessel.copy()\n",
    "    # data_vessel_i['C_year'] = C_year\n",
    "    vessel = TransportResource(**data_vessel_i)\n",
    "    \n",
    "    V_s = row['V_s']\n",
    "    h_0 = row['h_0']\n",
    "    vessel.calculate_properties() # L is used here in the computation of L_R\n",
    "    h_0 = vessel.calculate_h_squat(v = V_s, h_0 = h_0)\n",
    "    print(h_0)\n",
    "    R_f = vessel.calculate_frictional_resistance(V_s, h_0) \n",
    "    R_f_one_k1 = vessel.calculate_viscous_resistance()\n",
    "    R_APP = vessel.calculate_appendage_resistance(V_s)\n",
    "    R_W = vessel.calculate_wave_resistance(V_s, h_0)\n",
    "    R_res = vessel.calculate_residual_resistance(V_s, h_0)\n",
    "    R_T = vessel.calculate_total_resistance(V_s, h_0)\n",
    "    P_propulsion = vessel.calculate_total_power_required(V_s, h_0)\n",
    "\n",
    "    vessel.emission_factors_general()\n",
    "    vessel.correction_factors(V_s, h_0)\n",
    "    vessel.calculate_emission_factors_total(V_s, h_0)\n",
    "    vessel.calculate_SFC_final(V_s, h_0)\n",
    "    Fuel_g_m, Fuel_g_m_C_year = vessel.calculate_diesel_use_g_m(V_s)\n",
    "    Fuel_g_s, Fuel_g_s_C_year = vessel.calculate_diesel_use_g_s()\n",
    "    # [emission_g_m_CO2,emission_g_m_PM10,emission_g_m_NOX] = vessel.calculate_emission_rates_g_m(V_s)\n",
    "    \n",
    "    result = {}\n",
    "    result.update(row)\n",
    "    \n",
    "    result['R_f'] = R_f    \n",
    "    # result['R_f_one_k1'] = R_f_one_k1\n",
    "    # result['R_APP'] = R_APP\n",
    "    result['R_W'] = R_W\n",
    "    # result['R_res'] = R_res\n",
    "    result['R_T'] = R_T\n",
    "    result['P_installed'] = vessel.P_installed\n",
    "    result['P_propulsion'] = P_propulsion\n",
    "    # result['P_propulsion'] = P_tot - vessel.P_hotel_perc * vessel.P_installed    \n",
    "    # result['Fuel_g_km'] = Fuel_g_m * 1000\n",
    "    result['Fuel_L_per_hour'] = Fuel_g_s_C_year * 3.6\n",
    "    # result['emission_g_km_CO2'] = emission_g_m_CO2 * 1000\n",
    "    # result['emission_g_km_PM10'] = emission_g_m_PM10 * 1000\n",
    "    # result['emission_g_km_NOX'] = emission_g_m_NOX * 1000\n",
    "    results.append(result)"
   ]
  },
  {
   "cell_type": "code",
   "execution_count": 8,
   "id": "7a733cd4",
   "metadata": {},
   "outputs": [
    {
     "data": {
      "text/html": [
       "<div>\n",
       "<style scoped>\n",
       "    .dataframe tbody tr th:only-of-type {\n",
       "        vertical-align: middle;\n",
       "    }\n",
       "\n",
       "    .dataframe tbody tr th {\n",
       "        vertical-align: top;\n",
       "    }\n",
       "\n",
       "    .dataframe thead th {\n",
       "        text-align: right;\n",
       "    }\n",
       "</style>\n",
       "<table border=\"1\" class=\"dataframe\">\n",
       "  <thead>\n",
       "    <tr style=\"text-align: right;\">\n",
       "      <th></th>\n",
       "      <th>h_0</th>\n",
       "      <th>V_s</th>\n",
       "      <th>R_f</th>\n",
       "      <th>R_W</th>\n",
       "      <th>R_T</th>\n",
       "      <th>P_installed</th>\n",
       "      <th>P_propulsion</th>\n",
       "      <th>Fuel_L_per_hour</th>\n",
       "      <th>V_s_km</th>\n",
       "    </tr>\n",
       "  </thead>\n",
       "  <tbody>\n",
       "    <tr>\n",
       "      <th>0</th>\n",
       "      <td>15.0</td>\n",
       "      <td>2.78</td>\n",
       "      <td>12.720819</td>\n",
       "      <td>9.652501</td>\n",
       "      <td>32.637620</td>\n",
       "      <td>2236</td>\n",
       "      <td>(164.96833516105457, 164.96833516105457, 164.9...</td>\n",
       "      <td>41.629818</td>\n",
       "      <td>10.008</td>\n",
       "    </tr>\n",
       "    <tr>\n",
       "      <th>1</th>\n",
       "      <td>15.0</td>\n",
       "      <td>4.17</td>\n",
       "      <td>27.098764</td>\n",
       "      <td>57.564928</td>\n",
       "      <td>106.162361</td>\n",
       "      <td>2236</td>\n",
       "      <td>(567.5603139056136, 567.5603139056136, 567.560...</td>\n",
       "      <td>131.297173</td>\n",
       "      <td>15.012</td>\n",
       "    </tr>\n",
       "    <tr>\n",
       "      <th>2</th>\n",
       "      <td>15.0</td>\n",
       "      <td>6.94</td>\n",
       "      <td>70.246470</td>\n",
       "      <td>250.730094</td>\n",
       "      <td>372.724621</td>\n",
       "      <td>2236</td>\n",
       "      <td>(3979.5521042202113, 3979.5521042202113, 2236)</td>\n",
       "      <td>467.547600</td>\n",
       "      <td>24.984</td>\n",
       "    </tr>\n",
       "  </tbody>\n",
       "</table>\n",
       "</div>"
      ],
      "text/plain": [
       "    h_0   V_s        R_f         R_W         R_T  P_installed  \\\n",
       "0  15.0  2.78  12.720819    9.652501   32.637620         2236   \n",
       "1  15.0  4.17  27.098764   57.564928  106.162361         2236   \n",
       "2  15.0  6.94  70.246470  250.730094  372.724621         2236   \n",
       "\n",
       "                                        P_propulsion  Fuel_L_per_hour  V_s_km  \n",
       "0  (164.96833516105457, 164.96833516105457, 164.9...        41.629818  10.008  \n",
       "1  (567.5603139056136, 567.5603139056136, 567.560...       131.297173  15.012  \n",
       "2     (3979.5521042202113, 3979.5521042202113, 2236)       467.547600  24.984  "
      ]
     },
     "execution_count": 8,
     "metadata": {},
     "output_type": "execute_result"
    }
   ],
   "source": [
    "plot_df = pd.DataFrame(results)\n",
    "\n",
    "\n",
    "# convert from meters per second to km per hour\n",
    "ms_to_kmh = 3.6\n",
    "plot_df['V_s_km'] = plot_df['V_s'] * ms_to_kmh\n",
    "\n",
    "plot_df.head(7)"
   ]
  },
  {
   "cell_type": "code",
   "execution_count": null,
   "id": "d058dd41-b555-43fe-8596-cbcef5f17ece",
   "metadata": {},
   "outputs": [],
   "source": []
  },
  {
   "cell_type": "code",
   "execution_count": null,
   "id": "87267daf-d558-468c-a0b9-c055110b8d9d",
   "metadata": {},
   "outputs": [],
   "source": []
  }
 ],
 "metadata": {
  "kernelspec": {
   "display_name": "Python 3 (ipykernel)",
   "language": "python",
   "name": "python3"
  },
  "language_info": {
   "codemirror_mode": {
    "name": "ipython",
    "version": 3
   },
   "file_extension": ".py",
   "mimetype": "text/x-python",
   "name": "python",
   "nbconvert_exporter": "python",
   "pygments_lexer": "ipython3",
   "version": "3.9.10"
  }
 },
 "nbformat": 4,
 "nbformat_minor": 5
}
