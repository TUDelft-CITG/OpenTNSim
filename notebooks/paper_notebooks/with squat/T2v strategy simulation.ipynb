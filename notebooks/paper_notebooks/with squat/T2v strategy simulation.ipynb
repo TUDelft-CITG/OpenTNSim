{
 "cells": [
  {
   "cell_type": "markdown",
   "id": "3a55b273",
   "metadata": {},
   "source": [
    "### Ship sailing strategies with various combinations of payloads and velocities for passing a bottleneck waterway section"
   ]
  },
  {
   "cell_type": "markdown",
   "id": "0c70bc78",
   "metadata": {},
   "source": [
    "### Steps before sailing: \n",
    "- Giving a sailing route, in which there is an section with limited water depth (h_min)\n",
    "- Listing a group of possible actual draughts depending on the limited water depth and minimum operating draughts\n",
    "- Using the T2v function to find out the corresponding velocities the ship can sail with to safely pass the bottlenek without grounding\n",
    "- Displaying the possible actual draughts with its maximum sailing velocities and suggesting several sailing strategies.\n",
    "\n",
    "### Steps while sailing: \n",
    "- c"
   ]
  },
  {
   "cell_type": "code",
   "execution_count": 1,
   "id": "4835bf14",
   "metadata": {
    "tags": []
   },
   "outputs": [],
   "source": [
    "import functools\n",
    "import itertools\n",
    "import warnings\n",
    "warnings.filterwarnings('ignore')\n",
    "import sys\n",
    "sys.tracebacklimit=0\n",
    "# package(s) related to time, space and id\n",
    "import logging\n",
    "import datetime, time\n",
    "import platform\n",
    "\n",
    "# you need these dependencies (you can get these from anaconda)\n",
    "# package(s) related to the simulation\n",
    "import simpy\n",
    "import pandas as pd\n",
    "\n",
    "# spatial libraries \n",
    "import pyproj\n",
    "import shapely.geometry\n",
    "from simplekml import Kml, Style\n",
    "\n",
    "# package(s) for data handling\n",
    "import numpy as np\n",
    "import scipy.optimize\n",
    "import matplotlib.pyplot as plt\n",
    "import tqdm\n",
    "\n",
    "# OpenTNSim\n",
    "import opentnsim\n",
    "\n",
    "# Used for mathematical functions\n",
    "import math             \n",
    "\n",
    "# Used for making the graph to visualize our problem\n",
    "import networkx as nx   \n",
    "\n",
    "import plotly.express as px\n",
    "from plotly.subplots import make_subplots\n",
    "\n",
    "#logging.basicConfig(level=logging.DEBUG) #turn on all the debug messages\n",
    "#logging.basicConfig(level=logging.INFO)# turn off all the debug messages\n",
    "\n",
    "logger = logging.getLogger('notebook')\n",
    "\n"
   ]
  },
  {
   "cell_type": "markdown",
   "id": "fb178311",
   "metadata": {},
   "source": [
    "### Create graph\n",
    "We first need to create a 1D network (a graph) along which the vessel will move. A graph contains edges (blue dots in plot below) and vertices (black lines in plot below). For this example, we will construct a network consisting of 4 nodes in a straight line. Since we would like to have two-way traffic, we add two edges between each pair of nodes: one from left to right, and another the other way around (however, we could easily apply one-way traffic as well by remove one of the two edges). Consequently, we arrive at a total of 4 nodes, and 6 edges.\n",
    "\n",
    "Due to the nature of discrete modelling in which the time step is dependent on the activities (in this example: forcing a ship to move from node to node from its origin to its destination), it is important to add OpenTNSim mix-ins to the nodes in such a way we could identify the node (mix-in Identifiable, which imports a name and imports/creates an ID), and to locate the node (mix-in Locatable, which gives the node a geometry)."
   ]
  },
  {
   "cell_type": "code",
   "execution_count": 2,
   "id": "66c7eb9e",
   "metadata": {},
   "outputs": [
    {
     "data": {
      "image/png": "[encoded data removed]",
      "text/plain": [
       "<Figure size 432x288 with 1 Axes>"
      ]
     },
     "metadata": {},
     "output_type": "display_data"
    }
   ],
   "source": [
    "FG = nx.DiGraph()\n",
    "nodes = []\n",
    "path = []\n",
    "\n",
    "Node = type('Site', (opentnsim.core.Identifiable, opentnsim.core.Locatable), {})\n",
    "\n",
    "data_node_1 = {\"name\": \"Node 1\",\n",
    "               \"geometry\": shapely.geometry.Point(0, 0)}\n",
    "data_node_2 = {\"name\": \"Node 2\",\n",
    "               \"geometry\": shapely.geometry.Point(0.8983, 0)}  # 0.8983 degree =100km\n",
    "data_node_3 = {\"name\": \"Node 3\",\n",
    "               \"geometry\": shapely.geometry.Point(1.7966, 0)}   # 1.7966 degree =200km\n",
    "data_node_4 = {\"name\": \"Node 4\",\n",
    "               \"geometry\": shapely.geometry.Point(2.6949, 0)}    # 2.6949 degree =300km\n",
    "\n",
    "node_1 = Node(**data_node_1)\n",
    "node_2 = Node(**data_node_2)\n",
    "node_3 = Node(**data_node_3)\n",
    "node_4 = Node(**data_node_4)\n",
    "\n",
    "nodes = [node_1, node_2, node_3, node_4]\n",
    "\n",
    "positions = {}\n",
    "for node in nodes:\n",
    "    positions[node.name] = (node.geometry.x, node.geometry.y)\n",
    "    FG.add_node(node.name, geometry = node.geometry)\n",
    "\n",
    "path = [[node_1, node_2], # From node 1 to node 2\n",
    "        [node_2, node_3], # From node 2 to node 3\n",
    "        [node_3, node_4], # From node 3 to node 4\n",
    "        [node_4, node_3], # From node 4 to node 3\n",
    "        [node_3, node_2], # From node 3 to node 2\n",
    "        [node_2, node_1]] # From node 2 to node 1\n",
    "\n",
    "\n",
    "for edge in path:\n",
    "    # For the energy consumption calculation we add info to the graph. We need depth info for resistance.\n",
    "    # NB: the CalculateEnergy routine expects the graph to have \"Info\" that contains \"GeneralDepth\" \n",
    "    #     this may not be very generic!\n",
    "    FG.add_edge(edge[0].name, edge[1].name, weight = 1, Info = {\"GeneralDepth\": 6})\n",
    "    \n",
    "middle_edges = [\n",
    "    (node_2.name, node_3.name),\n",
    "    (node_3.name, node_2.name)\n",
    "]\n",
    "for e in middle_edges:\n",
    "    edge = FG.edges[e]\n",
    "    edge['Info']['GeneralDepth'] = 2.5\n",
    "\n",
    "# env.FG = FG\n",
    "nx.draw(FG, positions)\n",
    "plt.show()"
   ]
  },
  {
   "cell_type": "code",
   "execution_count": null,
   "id": "cd8b6864-00eb-484f-bd25-9d397de12c08",
   "metadata": {},
   "outputs": [],
   "source": []
  },
  {
   "cell_type": "code",
   "execution_count": 3,
   "id": "11c5dad1",
   "metadata": {
    "tags": []
   },
   "outputs": [
    {
     "name": "stdout",
     "output_type": "stream",
     "text": [
      "General depth for edge ('Node 1', 'Node 2') is 6\n",
      "General depth for edge ('Node 2', 'Node 3') is 2.5\n",
      "General depth for edge ('Node 2', 'Node 1') is 6\n",
      "General depth for edge ('Node 3', 'Node 4') is 6\n",
      "General depth for edge ('Node 3', 'Node 2') is 2.5\n",
      "General depth for edge ('Node 4', 'Node 3') is 6\n"
     ]
    }
   ],
   "source": [
    "# This cell just shows that now a depth of 10 m is added to the edges. \n",
    "# You can use this to vary depths, e.g. make the middle edge shallower. Note that edges are bi-directional \n",
    "for edge in FG.edges:\n",
    "    print('General depth for edge {} is {}'.format(edge, FG.get_edge_data(edge[0], edge[1])[\"Info\"][\"GeneralDepth\"]))"
   ]
  },
  {
   "cell_type": "markdown",
   "id": "23b8ed59",
   "metadata": {},
   "source": [
    "### Create vessel - add VesselProperties and ConsumesEnergy mixins\n",
    "The following mix-ins are required for each vessel in our problem: Identifiable (gives the vessel a name and a random ID), Movable (gives that the object (*vessel*) can move with a fixed speed and logs this activity, it requires input for the following mix-ins: Locatable, Routeable, and Log), and Routable (gives the object a route). We now modify our original vessel from the basic example and include vessel properties (like width, length, etc.) and a mixin that is needed to calculate resistance and energy consumption.  "
   ]
  },
  {
   "cell_type": "code",
   "execution_count": 4,
   "id": "fb47601d",
   "metadata": {},
   "outputs": [],
   "source": [
    "# Make your preferred class out of available mix-ins.\n",
    "TransportResource = type(\n",
    "    \"Vessel\",\n",
    "    (\n",
    "        opentnsim.core.Identifiable,\n",
    "        opentnsim.core.Movable,\n",
    "        opentnsim.core.Routeable,\n",
    "        opentnsim.core.VesselProperties,  # needed to add vessel properties\n",
    "        opentnsim.core.HasContainer,  # needed to calculate filling degree for draught\n",
    "        opentnsim.core.ConsumesEnergy,\n",
    "        opentnsim.core.ExtraMetadata,\n",
    "    ),\n",
    "    {},\n",
    ")  # needed to calculate resistances"
   ]
  },
  {
   "cell_type": "code",
   "execution_count": 5,
   "id": "5cb9e3ff",
   "metadata": {},
   "outputs": [],
   "source": [
    "# Create a dict with all important settings\n",
    "data_vessel = {\"env\": None,\n",
    "               \"name\": None,\n",
    "               \"route\": None,\n",
    "               \"geometry\": None,\n",
    "               \"v\": 1,  # m/s\n",
    "               \"type\": 'Dortmund-Eems (L <= 74 m)', # <-- note that inputs from hereon are due to the added mixins!\n",
    "               \"B\": 11.4,\n",
    "               \"L\": 110,\n",
    "               \"capacity\": 2500,   # maximum designed payload\n",
    "               \"level\":2500,     # actual payload\n",
    "               \"H_e\": None, \n",
    "               \"H_f\": None, \n",
    "               \"T\": None,\n",
    "               \"P_installed\": 1750.0,   \n",
    "               \"P_tot_given\": None, # kW\n",
    "               \"L_w\": 3.0 ,\n",
    "               \"C_B\":0.85, \n",
    "               \"C_year\":1990,\n",
    "               \"current_year\":None\n",
    "              }               "
   ]
  },
  {
   "cell_type": "markdown",
   "id": "c081a549",
   "metadata": {},
   "source": [
    "### Define paths\n",
    "We are going to create a simulation in which a vessel moves from *Node 1* to *Node 4*. Therefore, we need to create a vessel to which we will need to append this paths. Therefore, first let's create the path."
   ]
  },
  {
   "cell_type": "code",
   "execution_count": 6,
   "id": "b42f6530",
   "metadata": {},
   "outputs": [],
   "source": [
    "path = nx.dijkstra_path(FG, node_1.name, node_4.name)\n",
    "path_bottleneck = nx.dijkstra_path(FG, node_2.name, node_3.name)"
   ]
  },
  {
   "cell_type": "markdown",
   "id": "0dd3a088-bd94-475f-b05a-db112d56a6a8",
   "metadata": {},
   "source": [
    "### Define T2v function"
   ]
  },
  {
   "cell_type": "code",
   "execution_count": 7,
   "id": "7865905c",
   "metadata": {},
   "outputs": [],
   "source": [
    "def T2v(vessel, h_min, bounds=(0, 10)):\n",
    "    \"\"\"Compute vessel velocity given the minimum water depth and possible actual draught \n",
    "    \n",
    "    bounds is the limits where to look for a solution for the velocity [m/s]\n",
    "    returns velocity [m/s]\n",
    "    \"\"\"\n",
    "    \n",
    "    def seek_v_given_T(v, vessel, h_min):\n",
    "        \"\"\"function to optimize\"\"\"\n",
    "\n",
    "#        print('')\n",
    "#        print('I am in seek_v_given_T')\n",
    "\n",
    "        \n",
    "        # compute the maximum draught a vessel can have to pass the minimum water depth section, \n",
    "        # considering the maximum squat while sailing in limited water depth.\n",
    "        h_min = vessel.h_min\n",
    "        z = (vessel.C_B * (1.94 * v)**2) * (6 * vessel.B * vessel.T / (150 * vessel.h_min) + 0.4) / 100 # vessel.T is the computed T\n",
    "        \n",
    "        # print('h_min: {:.2f} m'.format(vessel.h_min))\n",
    "        # print('static_ukc: {:.2f} m'.format(vessel.static_ukc))\n",
    "        #print('z: {:.2f} m'.format(z))\n",
    "        \n",
    "        # compute difference between given draught (T_strategy) and computed draught (T_computed)\n",
    "        T_strategy = vessel._T  # the user provided T\n",
    "        T_computed = vessel.h_min - z - vessel.static_ukc \n",
    "        diff = T_strategy - T_computed\n",
    "        \n",
    "        # print('T_strategy: {:.2f} m'.format(T_strategy))\n",
    "        # print('T_computed: {:.2f} m'.format(T_computed))\n",
    "        # print('T_strategy - T_computed: {:.2f} m'.format(diff))\n",
    "\n",
    "#        logger.debug(f'optimizing for v: {v}, T_strategy: {T_strategy}, T: {vessel.T}'T_computed: {:.2f} m'.format(T_computed), T: {vessel.T}')\n",
    "        \n",
    "        return diff ** 2        \n",
    "        \n",
    "#    print('')\n",
    "#    print('I am in T2v')    \n",
    "\n",
    "    # fill in some of the parameters that we already know\n",
    "    fun = functools.partial(seek_v_given_T, vessel=vessel, h_min = vessel.h_min)       \n",
    "\n",
    "    # lookup a minimum\n",
    "    fit = scipy.optimize.minimize_scalar(fun, bounds=bounds, method='bounded')\n",
    "\n",
    "    # check if we found a minimum\n",
    "    if not fit.success:\n",
    "        raise ValueError(fit)    \n",
    "\n",
    "    v_comupted =  fit.x\n",
    "\n",
    "#    print('v_comupted: {:.2f} m/s'.format(v_comupted))\n",
    "\n",
    "    return v_comupted\n",
    "    \n"
   ]
  },
  {
   "cell_type": "markdown",
   "id": "135b25e9",
   "metadata": {},
   "source": [
    "### Define formulate_sailing_strategies (T2v) simulation\n",
    "Now we can define the run. First, we make an environment and add the graph to the environment. Then we add one vessel, to which we will append the environment and the above route. Lastly, we give the vessel the process of moving from the origin to the destination of the defined path and subsequently run the model."
   ]
  },
  {
   "cell_type": "code",
   "execution_count": 8,
   "id": "13dd4a7e-8bd5-4b06-bd74-8c7ae88ab445",
   "metadata": {},
   "outputs": [],
   "source": [
    "def formulate_sailing_strategies(FG, path, T_strategy):\n",
    "    \n",
    "    # Start simpy environment\n",
    "    simulation_start = datetime.datetime.now()\n",
    "    env = simpy.Environment(initial_time = time.mktime(simulation_start.timetuple()))\n",
    "    env.epoch = time.mktime(simulation_start.timetuple())\n",
    "\n",
    "    # Add graph to environment\n",
    "    env.FG = FG\n",
    "            \n",
    "    # create a fresh instance of vessel\n",
    "#    print('start the vessel')\n",
    "    vessel = TransportResource(**data_vessel)\n",
    "    vessel.name = 'Vessel No.1'                     \n",
    "    # add environment and path to the vessel\n",
    "    vessel.env = env                                        #the created environment\n",
    "    vessel.route = path                                     #the route (the sequence of nodes, as stored as the second column in the path)\n",
    "\n",
    "    # position vessel at the start of the path\n",
    "    vessel.geometry = env.FG.nodes[path[0]]['geometry']     #a shapely.geometry.Point(lon,lat) (here taken as the starting node of the vessel)\n",
    "\n",
    "    # new properties added\n",
    "    vessel._T =  T_strategy # start with the minimum operational draft (and fill up)\n",
    "    \n",
    "    # get T2v\n",
    "    v_computed = T2v(vessel, h_min = vessel.h_min)\n",
    "    #print('v_computed: {:.2f} m/s'.format(v_computed))\n",
    "    \n",
    "    #print('z: {:.2f} m'.format(z))\n",
    "    # Start the simulation\n",
    "    env.process(vessel.move())\n",
    "    env.run()\n",
    "\n",
    "    \n",
    "    return v_computed"
   ]
  },
  {
   "cell_type": "markdown",
   "id": "dc555bca-ab50-4b51-bf18-12b3ad978ea3",
   "metadata": {},
   "source": [
    "### Prepare input matrix for 'formulate_sailing_strategies simulation (T2v)'"
   ]
  },
  {
   "cell_type": "code",
   "execution_count": 9,
   "id": "5a31d03f-f279-4f65-9075-6be51fe99cbd",
   "metadata": {},
   "outputs": [],
   "source": [
    "# give some possible draught for h_min = 2.5 m\n",
    "# TODO: give T_strategy for passing limited water depth by collectting values between min-operational draught and (h_min-ukc)\n",
    "\n",
    "T_strategy = [2.15, 2.10, 2.05, 2.00, 1.95, 1.90, 1.85, 1.80, 1.75, 1.70, 1.65, 1.60, 1.55, 1.50, 1.45, 1.4] "
   ]
  },
  {
   "cell_type": "code",
   "execution_count": 10,
   "id": "d65b4f8f-6035-4fb1-a5c4-8bf864a3d750",
   "metadata": {
    "tags": []
   },
   "outputs": [
    {
     "data": {
      "text/html": [
       "<div>\n",
       "<style scoped>\n",
       "    .dataframe tbody tr th:only-of-type {\n",
       "        vertical-align: middle;\n",
       "    }\n",
       "\n",
       "    .dataframe tbody tr th {\n",
       "        vertical-align: top;\n",
       "    }\n",
       "\n",
       "    .dataframe thead th {\n",
       "        text-align: right;\n",
       "    }\n",
       "</style>\n",
       "<table border=\"1\" class=\"dataframe\">\n",
       "  <thead>\n",
       "    <tr style=\"text-align: right;\">\n",
       "      <th></th>\n",
       "      <th>T_strategy</th>\n",
       "    </tr>\n",
       "  </thead>\n",
       "  <tbody>\n",
       "    <tr>\n",
       "      <th>11</th>\n",
       "      <td>1.60</td>\n",
       "    </tr>\n",
       "    <tr>\n",
       "      <th>12</th>\n",
       "      <td>1.55</td>\n",
       "    </tr>\n",
       "    <tr>\n",
       "      <th>13</th>\n",
       "      <td>1.50</td>\n",
       "    </tr>\n",
       "    <tr>\n",
       "      <th>14</th>\n",
       "      <td>1.45</td>\n",
       "    </tr>\n",
       "    <tr>\n",
       "      <th>15</th>\n",
       "      <td>1.40</td>\n",
       "    </tr>\n",
       "  </tbody>\n",
       "</table>\n",
       "</div>"
      ],
      "text/plain": [
       "    T_strategy\n",
       "11        1.60\n",
       "12        1.55\n",
       "13        1.50\n",
       "14        1.45\n",
       "15        1.40"
      ]
     },
     "execution_count": 10,
     "metadata": {},
     "output_type": "execute_result"
    }
   ],
   "source": [
    "# prepare the work to be done\n",
    "# create a list of all combinations\n",
    "work = list(itertools.product(T_strategy))\n",
    "\n",
    "# prepare a list of dictionaries for pandas\n",
    "rows = []\n",
    "for item in work:\n",
    "    row = {\"T_strategy\": item[0]}\n",
    "    rows.append(row)\n",
    "\n",
    "    # these are all the simulations that we want to run\n",
    "# convert them to dataframe, so that we can apply a function and monitor progress\n",
    "work_df = pd.DataFrame(rows)\n",
    "work_df.tail()"
   ]
  },
  {
   "cell_type": "markdown",
   "id": "0c6b8ea1-59f2-44d1-bfbf-06d0c3b1d671",
   "metadata": {},
   "source": [
    "### Run 'formulate_sailing_strategies simulation' to get sailing veolicites for the given draughts"
   ]
  },
  {
   "cell_type": "code",
   "execution_count": 11,
   "id": "5aafb8ec-e17a-42f0-b081-6a70579149c1",
   "metadata": {},
   "outputs": [
    {
     "name": "stderr",
     "output_type": "stream",
     "text": [
      "16it [00:00, 501.34it/s]\n"
     ]
    }
   ],
   "source": [
    "Strategies = []\n",
    "\n",
    "for i, row in tqdm.tqdm(work_df.iterrows()):\n",
    "    T_strategy = row['T_strategy']\n",
    "    \n",
    "    v_computed = formulate_sailing_strategies(FG, path, T_strategy)\n",
    "    \n",
    "    Strategy ={}\n",
    "    Strategy.update(row)\n",
    "    Strategy['v_computed'] = v_computed\n",
    "    #Strategy['sinkage'] = z\n",
    "    Strategies.append(Strategy)\n",
    "    "
   ]
  },
  {
   "cell_type": "code",
   "execution_count": 12,
   "id": "0ddbe831-2e18-4d79-b969-1c170aba56e4",
   "metadata": {},
   "outputs": [
    {
     "data": {
      "text/html": [
       "<div>\n",
       "<style scoped>\n",
       "    .dataframe tbody tr th:only-of-type {\n",
       "        vertical-align: middle;\n",
       "    }\n",
       "\n",
       "    .dataframe tbody tr th {\n",
       "        vertical-align: top;\n",
       "    }\n",
       "\n",
       "    .dataframe thead th {\n",
       "        text-align: right;\n",
       "    }\n",
       "</style>\n",
       "<table border=\"1\" class=\"dataframe\">\n",
       "  <thead>\n",
       "    <tr style=\"text-align: right;\">\n",
       "      <th></th>\n",
       "      <th>T_strategy</th>\n",
       "      <th>v_computed</th>\n",
       "    </tr>\n",
       "  </thead>\n",
       "  <tbody>\n",
       "    <tr>\n",
       "      <th>0</th>\n",
       "      <td>2.15</td>\n",
       "      <td>1.404648</td>\n",
       "    </tr>\n",
       "    <tr>\n",
       "      <th>1</th>\n",
       "      <td>2.10</td>\n",
       "      <td>1.998008</td>\n",
       "    </tr>\n",
       "    <tr>\n",
       "      <th>2</th>\n",
       "      <td>2.05</td>\n",
       "      <td>2.461425</td>\n",
       "    </tr>\n",
       "    <tr>\n",
       "      <th>3</th>\n",
       "      <td>2.00</td>\n",
       "      <td>2.859104</td>\n",
       "    </tr>\n",
       "    <tr>\n",
       "      <th>4</th>\n",
       "      <td>1.95</td>\n",
       "      <td>3.215806</td>\n",
       "    </tr>\n",
       "    <tr>\n",
       "      <th>5</th>\n",
       "      <td>1.90</td>\n",
       "      <td>3.544189</td>\n",
       "    </tr>\n",
       "    <tr>\n",
       "      <th>6</th>\n",
       "      <td>1.85</td>\n",
       "      <td>3.851763</td>\n",
       "    </tr>\n",
       "    <tr>\n",
       "      <th>7</th>\n",
       "      <td>1.80</td>\n",
       "      <td>4.143408</td>\n",
       "    </tr>\n",
       "    <tr>\n",
       "      <th>8</th>\n",
       "      <td>1.75</td>\n",
       "      <td>4.422524</td>\n",
       "    </tr>\n",
       "    <tr>\n",
       "      <th>9</th>\n",
       "      <td>1.70</td>\n",
       "      <td>4.691591</td>\n",
       "    </tr>\n",
       "    <tr>\n",
       "      <th>10</th>\n",
       "      <td>1.65</td>\n",
       "      <td>4.952490</td>\n",
       "    </tr>\n",
       "    <tr>\n",
       "      <th>11</th>\n",
       "      <td>1.60</td>\n",
       "      <td>5.206689</td>\n",
       "    </tr>\n",
       "    <tr>\n",
       "      <th>12</th>\n",
       "      <td>1.55</td>\n",
       "      <td>5.455370</td>\n",
       "    </tr>\n",
       "    <tr>\n",
       "      <th>13</th>\n",
       "      <td>1.50</td>\n",
       "      <td>5.699502</td>\n",
       "    </tr>\n",
       "    <tr>\n",
       "      <th>14</th>\n",
       "      <td>1.45</td>\n",
       "      <td>5.939891</td>\n",
       "    </tr>\n",
       "    <tr>\n",
       "      <th>15</th>\n",
       "      <td>1.40</td>\n",
       "      <td>6.177231</td>\n",
       "    </tr>\n",
       "  </tbody>\n",
       "</table>\n",
       "</div>"
      ],
      "text/plain": [
       "    T_strategy  v_computed\n",
       "0         2.15    1.404648\n",
       "1         2.10    1.998008\n",
       "2         2.05    2.461425\n",
       "3         2.00    2.859104\n",
       "4         1.95    3.215806\n",
       "5         1.90    3.544189\n",
       "6         1.85    3.851763\n",
       "7         1.80    4.143408\n",
       "8         1.75    4.422524\n",
       "9         1.70    4.691591\n",
       "10        1.65    4.952490\n",
       "11        1.60    5.206689\n",
       "12        1.55    5.455370\n",
       "13        1.50    5.699502\n",
       "14        1.45    5.939891\n",
       "15        1.40    6.177231"
      ]
     },
     "execution_count": 12,
     "metadata": {},
     "output_type": "execute_result"
    }
   ],
   "source": [
    "Strategies_df = pd.DataFrame(Strategies)\n",
    "Strategies_df.head(16)"
   ]
  },
  {
   "cell_type": "markdown",
   "id": "125eb383-25d7-4509-b4b4-6c644705f48b",
   "metadata": {},
   "source": [
    "### Test the reality of sailing with v_computed\n",
    "We test it by comparing the total required power (P_tot) of the ship while sailing at v_computed with its installed power (P_installed). If P_tot <= P_installed, the v_computed is realistic.\n",
    "\n",
    "So the steps to do:\n",
    "- set the above results [Strategies: 'T_strategy','v_computed'] as input data for a vessel sailing and consuming energy simulation\n",
    "- run the simulation to get results: 'P_tot', 'P_installed', 'total fuel use', 'total emissions_CO2', 'total emissions_PM10', 'total emissions_NOx', 'duration', 'payload'. (Note that you need the \"T2payload\" function based on \"Van Dorsser's method\" to get the corresponding 'payload'for each 'T_strategy'.) \n",
    "- put the results into dataframe for later easy selecting, processing and plotting\n",
    "- select the Strategies of which P_tot <= P_installed \n",
    "- analysis the selected Strategies \n",
    "- visualize some typical selected Strategies via a series Bar Chart. In each bar chart, y_axis is amount, x_axis is evaluation items.\n",
    "- visualize some typical selected Strategies together with ambient waterway sections of different water depths.(Note that the input [Vs, P_tot_given] are different for bottle neck section and ambient sections)"
   ]
  },
  {
   "cell_type": "markdown",
   "id": "1ef2131c-c298-4197-8a91-00745d577505",
   "metadata": {},
   "source": [
    "### define simulation for passing bottleneck section"
   ]
  },
  {
   "cell_type": "code",
   "execution_count": 13,
   "id": "e9de156d-644a-4266-9047-aca7e972ab43",
   "metadata": {},
   "outputs": [],
   "source": [
    "def run_simulation(v_computed, T_strategy):\n",
    "    \n",
    "    # Start simpy environment\n",
    "    simulation_start = datetime.datetime.now()\n",
    "    env = simpy.Environment(initial_time = time.mktime(simulation_start.timetuple()))\n",
    "    env.epoch = time.mktime(simulation_start.timetuple())\n",
    "\n",
    "    # Add graph to environment\n",
    "    env.FG = FG\n",
    "\n",
    "    # Add environment and path to the vessel\n",
    "    # create a fresh instance of vessel\n",
    "    vessel = TransportResource(**data_vessel)\n",
    "    vessel.env = env                                        #the created environment\n",
    "    vessel.name = 'Vessel No.1'                     \n",
    "    vessel.route = path_bottleneck                #the route (the sequence of nodes, as stored as the second column in the path)\n",
    "    vessel.geometry = env.FG.nodes[path[0]]['geometry']     #a shapely.geometry.Point(lon,lat) (here taken as the starting node of the vessel)\n",
    "    vessel._T = T_strategy\n",
    "    vessel.v = v_computed\n",
    "    \n",
    " \n",
    "    # Start the simulation\n",
    "    env.process(vessel.move())\n",
    "    env.run()\n",
    "    \n",
    "    return vessel"
   ]
  },
  {
   "cell_type": "markdown",
   "id": "9d6615c3-a49a-4097-84b2-ebb9b8738034",
   "metadata": {},
   "source": [
    "### Run simulation"
   ]
  },
  {
   "cell_type": "code",
   "execution_count": 14,
   "id": "1f8bc3ea-e912-438a-9ce7-18a723b9df14",
   "metadata": {
    "collapsed": true,
    "jupyter": {
     "outputs_hidden": true
    },
    "tags": []
   },
   "outputs": [
    {
     "name": "stderr",
     "output_type": "stream",
     "text": [
      "0it [00:00, ?it/s]Exception ignored in: <function BaseGeometry.__del__ at 0x00000157D9764C10>\n",
      "AttributeError: can't set attribute\n",
      "Exception ignored in: <function BaseGeometry.__del__ at 0x00000157D9764C10>\n",
      "AttributeError: can't set attribute\n",
      "Exception ignored in: <function BaseGeometry.__del__ at 0x00000157D9764C10>\n",
      "AttributeError: can't set attribute\n",
      "Exception ignored in: <function BaseGeometry.__del__ at 0x00000157D9764C10>\n",
      "AttributeError: can't set attribute\n",
      "Exception ignored in: <function BaseGeometry.__del__ at 0x00000157D9764C10>\n",
      "AttributeError: can't set attribute\n",
      "Exception ignored in: <function BaseGeometry.__del__ at 0x00000157D9764C10>\n",
      "AttributeError: can't set attribute\n",
      "Exception ignored in: <function BaseGeometry.__del__ at 0x00000157D9764C10>\n",
      "AttributeError: can't set attribute\n",
      "Exception ignored in: <function BaseGeometry.__del__ at 0x00000157D9764C10>\n",
      "AttributeError: can't set attribute\n",
      "Exception ignored in: <function BaseGeometry.__del__ at 0x00000157D9764C10>\n",
      "AttributeError: can't set attribute\n",
      "Exception ignored in: <function BaseGeometry.__del__ at 0x00000157D9764C10>\n",
      "AttributeError: can't set attribute\n",
      "Exception ignored in: <function BaseGeometry.__del__ at 0x00000157D9764C10>\n",
      "AttributeError: can't set attribute\n",
      "Exception ignored in: <function BaseGeometry.__del__ at 0x00000157D9764C10>\n",
      "AttributeError: can't set attribute\n",
      "Exception ignored in: <function BaseGeometry.__del__ at 0x00000157D9764C10>\n",
      "AttributeError: can't set attribute\n",
      "Exception ignored in: <function BaseGeometry.__del__ at 0x00000157D9764C10>\n",
      "AttributeError: can't set attribute\n",
      "Exception ignored in: <function BaseGeometry.__del__ at 0x00000157D9764C10>\n",
      "AttributeError: can't set attribute\n",
      "Exception ignored in: <function BaseGeometry.__del__ at 0x00000157D9764C10>\n",
      "AttributeError: can't set attribute\n",
      "Exception ignored in: <function BaseGeometry.__del__ at 0x00000157D9764C10>\n",
      "AttributeError: can't set attribute\n",
      "Exception ignored in: <function BaseGeometry.__del__ at 0x00000157D9764C10>\n",
      "AttributeError: can't set attribute\n",
      "Exception ignored in: <function BaseGeometry.__del__ at 0x00000157D9764C10>\n",
      "AttributeError: can't set attribute\n",
      "Exception ignored in: <function BaseGeometry.__del__ at 0x00000157D9764C10>\n",
      "AttributeError: can't set attribute\n",
      "Exception ignored in: <function BaseGeometry.__del__ at 0x00000157D9764C10>\n",
      "AttributeError: can't set attribute\n",
      "Exception ignored in: <function BaseGeometry.__del__ at 0x00000157D9764C10>\n",
      "AttributeError: can't set attribute\n",
      "Exception ignored in: <function BaseGeometry.__del__ at 0x00000157D9764C10>\n",
      "AttributeError: can't set attribute\n",
      "Exception ignored in: <function BaseGeometry.__del__ at 0x00000157D9764C10>\n",
      "AttributeError: can't set attribute\n",
      "6it [00:00, 53.33it/s]Exception ignored in: <function BaseGeometry.__del__ at 0x00000157D9764C10>\n",
      "AttributeError: can't set attribute\n",
      "Exception ignored in: <function BaseGeometry.__del__ at 0x00000157D9764C10>\n",
      "AttributeError: can't set attribute\n",
      "Exception ignored in: <function BaseGeometry.__del__ at 0x00000157D9764C10>\n",
      "AttributeError: can't set attribute\n",
      "Exception ignored in: <function BaseGeometry.__del__ at 0x00000157D9764C10>\n",
      "AttributeError: can't set attribute\n",
      "Exception ignored in: <function BaseGeometry.__del__ at 0x00000157D9764C10>\n",
      "AttributeError: can't set attribute\n",
      "Exception ignored in: <function BaseGeometry.__del__ at 0x00000157D9764C10>\n",
      "AttributeError: can't set attribute\n",
      "Exception ignored in: <function BaseGeometry.__del__ at 0x00000157D9764C10>\n",
      "AttributeError: can't set attribute\n",
      "Exception ignored in: <function BaseGeometry.__del__ at 0x00000157D9764C10>\n",
      "AttributeError: can't set attribute\n",
      "Exception ignored in: <function BaseGeometry.__del__ at 0x00000157D9764C10>\n",
      "AttributeError: can't set attribute\n",
      "Exception ignored in: <function BaseGeometry.__del__ at 0x00000157D9764C10>\n",
      "AttributeError: can't set attribute\n",
      "Exception ignored in: <function BaseGeometry.__del__ at 0x00000157D9764C10>\n",
      "AttributeError: can't set attribute\n",
      "Exception ignored in: <function BaseGeometry.__del__ at 0x00000157D9764C10>\n",
      "AttributeError: can't set attribute\n",
      "Exception ignored in: <function BaseGeometry.__del__ at 0x00000157D9764C10>\n",
      "AttributeError: can't set attribute\n",
      "Exception ignored in: <function BaseGeometry.__del__ at 0x00000157D9764C10>\n",
      "AttributeError: can't set attribute\n",
      "Exception ignored in: <function BaseGeometry.__del__ at 0x00000157D9764C10>\n",
      "AttributeError: can't set attribute\n",
      "Exception ignored in: <function BaseGeometry.__del__ at 0x00000157D9764C10>\n",
      "AttributeError: can't set attribute\n",
      "Exception ignored in: <function BaseGeometry.__del__ at 0x00000157D9764C10>\n",
      "AttributeError: can't set attribute\n",
      "Exception ignored in: <function BaseGeometry.__del__ at 0x00000157D9764C10>\n",
      "AttributeError: can't set attribute\n",
      "Exception ignored in: <function BaseGeometry.__del__ at 0x00000157D9764C10>\n",
      "AttributeError: can't set attribute\n",
      "Exception ignored in: <function BaseGeometry.__del__ at 0x00000157D9764C10>\n",
      "AttributeError: can't set attribute\n",
      "Exception ignored in: <function BaseGeometry.__del__ at 0x00000157D9764C10>\n",
      "AttributeError: can't set attribute\n",
      "Exception ignored in: <function BaseGeometry.__del__ at 0x00000157D9764C10>\n",
      "AttributeError: can't set attribute\n",
      "Exception ignored in: <function BaseGeometry.__del__ at 0x00000157D9764C10>\n",
      "AttributeError: can't set attribute\n",
      "Exception ignored in: <function BaseGeometry.__del__ at 0x00000157D9764C10>\n",
      "AttributeError: can't set attribute\n",
      "12it [00:00, 51.99it/s]Exception ignored in: <function BaseGeometry.__del__ at 0x00000157D9764C10>\n",
      "AttributeError: can't set attribute\n",
      "Exception ignored in: <function BaseGeometry.__del__ at 0x00000157D9764C10>\n",
      "AttributeError: can't set attribute\n",
      "Exception ignored in: <function BaseGeometry.__del__ at 0x00000157D9764C10>\n",
      "AttributeError: can't set attribute\n",
      "Exception ignored in: <function BaseGeometry.__del__ at 0x00000157D9764C10>\n",
      "AttributeError: can't set attribute\n",
      "Exception ignored in: <function BaseGeometry.__del__ at 0x00000157D9764C10>\n",
      "AttributeError: can't set attribute\n",
      "Exception ignored in: <function BaseGeometry.__del__ at 0x00000157D9764C10>\n",
      "AttributeError: can't set attribute\n",
      "Exception ignored in: <function BaseGeometry.__del__ at 0x00000157D9764C10>\n",
      "AttributeError: can't set attribute\n",
      "Exception ignored in: <function BaseGeometry.__del__ at 0x00000157D9764C10>\n",
      "AttributeError: can't set attribute\n",
      "Exception ignored in: <function BaseGeometry.__del__ at 0x00000157D9764C10>\n",
      "AttributeError: can't set attribute\n",
      "Exception ignored in: <function BaseGeometry.__del__ at 0x00000157D9764C10>\n",
      "AttributeError: can't set attribute\n",
      "Exception ignored in: <function BaseGeometry.__del__ at 0x00000157D9764C10>\n",
      "AttributeError: can't set attribute\n",
      "Exception ignored in: <function BaseGeometry.__del__ at 0x00000157D9764C10>\n",
      "AttributeError: can't set attribute\n",
      "Exception ignored in: <function BaseGeometry.__del__ at 0x00000157D9764C10>\n",
      "AttributeError: can't set attribute\n",
      "Exception ignored in: <function BaseGeometry.__del__ at 0x00000157D9764C10>\n",
      "AttributeError: can't set attribute\n",
      "Exception ignored in: <function BaseGeometry.__del__ at 0x00000157D9764C10>\n",
      "AttributeError: can't set attribute\n",
      "Exception ignored in: <function BaseGeometry.__del__ at 0x00000157D9764C10>\n",
      "AttributeError: can't set attribute\n",
      "16it [00:00, 51.68it/s]\n"
     ]
    }
   ],
   "source": [
    "df_collect = {}\n",
    "sinkage_max = {}\n",
    "dynamic_ukc = {}\n",
    "for i, row in tqdm.tqdm(Strategies_df.iterrows()):\n",
    "    # create a new vessel, like the one above (so that it also has L)   \n",
    "    \n",
    "    v_computed = row['v_computed']\n",
    "    T_strategy = row['T_strategy']\n",
    "    \n",
    "    data_vessel_i = data_vessel.copy()\n",
    "    vessel = TransportResource(**data_vessel_i)\n",
    "    vessel=  run_simulation(v_computed, T_strategy)\n",
    "    z = (vessel.C_B * (1.94 * v_computed)**2) * (6 * vessel.B * T_strategy / (150 * vessel.h_min) + 0.4) / 100\n",
    "    d =  vessel.h_min -T_strategy - z\n",
    "    sinkage_max = z\n",
    "    dynamic_ukc = d\n",
    "    #create an EnergyCalculation object and perform energy consumption calculation\n",
    "    energycalculation = opentnsim.energy.EnergyCalculation(FG, vessel)\n",
    "    energycalculation.calculate_energy_consumption()\n",
    "    #P_tot = vessel.calculate_total_power_required(v_computed)\n",
    "    \n",
    "    # create dataframe from energy calculation computation\n",
    "    \n",
    "    df = pd.DataFrame.from_dict(energycalculation.energy_use)\n",
    "    df.update(row)\n",
    "    \n",
    "    # add/modify some comlums to suit our plotting needs\n",
    "    # df['P_tot'] = P_tot\n",
    "    df['fuel_kg_bottleneck'] = df['total_fuel_consumption']/1000   # g --> kg\n",
    "    df['CO2_kg_bottleneck']   = df['total_emission_CO2']/1000\n",
    "    df['PM10_kg_bottleneck']  = df['total_emission_PM10']/1000\n",
    "    df['NOx_kg_bottleneck']   = df['total_emission_NOX']/1000\n",
    "    df['duration_hrs_bottleneck'] = df['delta_t'] /3600  # s--> hour\n",
    "    df['sinkage_max_m_bottleneck'] = sinkage_max\n",
    "    df['dynamic_ukc_m_bottleneck'] = dynamic_ukc\n",
    "    \n",
    "    \n",
    "    label = 'T_strategy = ' + str(T_strategy) + ' v_computed = ' + str(round(v_computed,2))\n",
    "    \n",
    "    df_collect[label + ' P_tot']   = list(df.P_tot[[0]])\n",
    "    df_collect[label + ' P_installed'] = list(df.P_installed[[0]])\n",
    "    df_collect[label + ' duration_hrs_bottleneck']   = list(df.duration_hrs_bottleneck[[0]])\n",
    "    df_collect[label + ' fuel_kg_bottleneck']   = list(df.fuel_kg_bottleneck[[0]])\n",
    "    df_collect[label + ' CO2_kg_bottleneck'] = list(df.CO2_kg_bottleneck[[0]])\n",
    "    df_collect[label + ' PM10_kg_bottleneck']   = list(df.PM10_kg_bottleneck[[0]])\n",
    "    df_collect[label + ' NOx_kg_bottleneck']   = list(df.NOx_kg_bottleneck[[0]])\n",
    "    df_collect[label + ' sinkage_max_m_bottleneck']   = list(df.sinkage_max_m_bottleneck[[0]])\n",
    "    df_collect[label + ' dynamic_ukc_m_bottleneck']   = list(df.dynamic_ukc_m_bottleneck[[0]])\n",
    "    # df_output['T_strategy']   = list(Strategies_df.T_strategy[0:17])\n",
    "    # df_output['v_computed']   = list(Strategies_df.v_computed[0:17])\n",
    "    # df_output['P_tot']   = list(df.P_tot[[0]])\n",
    "    # df_output[' P_installed'] = list(df.P_installed[[0]])\n",
    "    # df_output[' duration_hrs_bottleneck']   = list(df.duration_hrs_bottleneck[[0]])\n",
    "    # df_output[' fuel_kg_bottleneck']   = list(df.fuel_kg_bottleneck[[0]])\n",
    "    # df_output[' CO2_g_bottleneck'] = list(df.CO2_g_bottleneck[[0]])\n",
    "    # df_output[' PM10_g_bottleneck']   = list(df.PM10_g_bottleneck[[0]])\n",
    "    # df_output[' NOx_g_bottleneck']   = list(df.NOx_g_bottleneck[[0]])\n",
    "\n",
    "    \n"
   ]
  },
  {
   "cell_type": "code",
   "execution_count": null,
   "id": "55ec5d38-9fcf-44d3-b260-eeaf67e8b305",
   "metadata": {},
   "outputs": [],
   "source": []
  },
  {
   "cell_type": "code",
   "execution_count": 15,
   "id": "88d97cb0-f5de-4282-bea6-4020d40154b0",
   "metadata": {
    "tags": []
   },
   "outputs": [
    {
     "data": {
      "text/plain": [
       "{'T_strategy = 2.15 v_computed = 1.4 P_tot': [107.17296134772174],\n",
       " 'T_strategy = 2.15 v_computed = 1.4 P_installed': [1750.0],\n",
       " 'T_strategy = 2.15 v_computed = 1.4 duration_hrs_bottleneck': [19.775276985833333],\n",
       " 'T_strategy = 2.15 v_computed = 1.4 fuel_kg_bottleneck': [578.6348603126743],\n",
       " 'T_strategy = 2.15 v_computed = 1.4 CO2_kg_bottleneck': [1835.8506022647573],\n",
       " 'T_strategy = 2.15 v_computed = 1.4 PM10_kg_bottleneck': [1.914121654530977],\n",
       " 'T_strategy = 2.15 v_computed = 1.4 NOx_kg_bottleneck': [36.81417378453944],\n",
       " 'T_strategy = 2.15 v_computed = 1.4 sinkage_max_m_bottleneck': [0.05000004141813391],\n",
       " 'T_strategy = 2.15 v_computed = 1.4 dynamic_ukc_m_bottleneck': [0.2999999585818662],\n",
       " 'T_strategy = 2.1 v_computed = 2.0 P_tot': [139.39003665677586],\n",
       " 'T_strategy = 2.1 v_computed = 2.0 P_installed': [1750.0],\n",
       " 'T_strategy = 2.1 v_computed = 2.0 duration_hrs_bottleneck': [13.902500743333333],\n",
       " 'T_strategy = 2.1 v_computed = 2.0 fuel_kg_bottleneck': [522.8011986158263],\n",
       " 'T_strategy = 2.1 v_computed = 2.0 CO2_kg_bottleneck': [1658.7056210629398],\n",
       " 'T_strategy = 2.1 v_computed = 2.0 PM10_kg_bottleneck': [1.5190161481472149],\n",
       " 'T_strategy = 2.1 v_computed = 2.0 NOx_kg_bottleneck': [30.13019700166446],\n",
       " 'T_strategy = 2.1 v_computed = 2.0 sinkage_max_m_bottleneck': [0.10000016101936503],\n",
       " 'T_strategy = 2.1 v_computed = 2.0 dynamic_ukc_m_bottleneck': [0.29999983898063487],\n",
       " 'T_strategy = 2.05 v_computed = 2.46 P_tot': [179.49325092421307],\n",
       " 'T_strategy = 2.05 v_computed = 2.46 P_installed': [1750.0],\n",
       " 'T_strategy = 2.05 v_computed = 2.46 duration_hrs_bottleneck': [11.285051795555555],\n",
       " 'T_strategy = 2.05 v_computed = 2.46 fuel_kg_bottleneck': [538.5257145116649],\n",
       " 'T_strategy = 2.05 v_computed = 2.46 CO2_kg_bottleneck': [1708.5952214961005],\n",
       " 'T_strategy = 2.05 v_computed = 2.46 PM10_kg_bottleneck': [1.307786985855817],\n",
       " 'T_strategy = 2.05 v_computed = 2.46 NOx_kg_bottleneck': [27.235746456654297],\n",
       " 'T_strategy = 2.05 v_computed = 2.46 sinkage_max_m_bottleneck': [0.15000010468974867],\n",
       " 'T_strategy = 2.05 v_computed = 2.46 dynamic_ukc_m_bottleneck': [0.2999998953102515],\n",
       " 'T_strategy = 2.0 v_computed = 2.86 P_tot': [242.84587301199497],\n",
       " 'T_strategy = 2.0 v_computed = 2.86 P_installed': [1750.0],\n",
       " 'T_strategy = 2.0 v_computed = 2.86 duration_hrs_bottleneck': [9.71538716111111],\n",
       " 'T_strategy = 2.0 v_computed = 2.86 fuel_kg_bottleneck': [615.982782564243],\n",
       " 'T_strategy = 2.0 v_computed = 2.86 CO2_kg_bottleneck': [1954.3453737720074],\n",
       " 'T_strategy = 2.0 v_computed = 2.86 PM10_kg_bottleneck': [1.3114464546539206],\n",
       " 'T_strategy = 2.0 v_computed = 2.86 NOx_kg_bottleneck': [28.790268196748094],\n",
       " 'T_strategy = 2.0 v_computed = 2.86 sinkage_max_m_bottleneck': [0.20000012206761794],\n",
       " 'T_strategy = 2.0 v_computed = 2.86 dynamic_ukc_m_bottleneck': [0.29999987793238203],\n",
       " 'T_strategy = 1.95 v_computed = 3.22 P_tot': [382.2062507823421],\n",
       " 'T_strategy = 1.95 v_computed = 3.22 P_installed': [1750.0],\n",
       " 'T_strategy = 1.95 v_computed = 3.22 duration_hrs_bottleneck': [8.63774255861111],\n",
       " 'T_strategy = 1.95 v_computed = 3.22 fuel_kg_bottleneck': [829.90733393833],\n",
       " 'T_strategy = 1.95 v_computed = 3.22 CO2_kg_bottleneck': [2633.0696322225194],\n",
       " 'T_strategy = 1.95 v_computed = 3.22 PM10_kg_bottleneck': [1.53744179754296],\n",
       " 'T_strategy = 1.95 v_computed = 3.22 NOx_kg_bottleneck': [36.187624193368215],\n",
       " 'T_strategy = 1.95 v_computed = 3.22 sinkage_max_m_bottleneck': [0.25000000744798634],\n",
       " 'T_strategy = 1.95 v_computed = 3.22 dynamic_ukc_m_bottleneck': [0.2999999925520137],\n",
       " 'T_strategy = 1.9 v_computed = 3.54 P_tot': [738.8042268388941],\n",
       " 'T_strategy = 1.9 v_computed = 3.54 P_installed': [1750.0],\n",
       " 'T_strategy = 1.9 v_computed = 3.54 duration_hrs_bottleneck': [7.837422088611111],\n",
       " 'T_strategy = 1.9 v_computed = 3.54 fuel_kg_bottleneck': [1351.7428189054422],\n",
       " 'T_strategy = 1.9 v_computed = 3.54 CO2_kg_bottleneck': [4288.711307254539],\n",
       " 'T_strategy = 1.9 v_computed = 3.54 PM10_kg_bottleneck': [2.365069087126331],\n",
       " 'T_strategy = 1.9 v_computed = 3.54 NOx_kg_bottleneck': [59.39252727484386],\n",
       " 'T_strategy = 1.9 v_computed = 3.54 sinkage_max_m_bottleneck': [0.2999997201315756],\n",
       " 'T_strategy = 1.9 v_computed = 3.54 dynamic_ukc_m_bottleneck': [0.3000002798684245],\n",
       " 'T_strategy = 1.85 v_computed = 3.85 P_tot': [1404.7629967064918],\n",
       " 'T_strategy = 1.85 v_computed = 3.85 P_installed': [1750.0],\n",
       " 'T_strategy = 1.85 v_computed = 3.85 duration_hrs_bottleneck': [7.211582595833334],\n",
       " 'T_strategy = 1.85 v_computed = 3.85 fuel_kg_bottleneck': [2228.7241632302275],\n",
       " 'T_strategy = 1.85 v_computed = 3.85 CO2_kg_bottleneck': [7071.133936066812],\n",
       " 'T_strategy = 1.85 v_computed = 3.85 PM10_kg_bottleneck': [3.9689754376831288],\n",
       " 'T_strategy = 1.85 v_computed = 3.85 NOx_kg_bottleneck': [99.24913921439335],\n",
       " 'T_strategy = 1.85 v_computed = 3.85 sinkage_max_m_bottleneck': [0.3500000709961337],\n",
       " 'T_strategy = 1.85 v_computed = 3.85 dynamic_ukc_m_bottleneck': [0.2999999290038662],\n",
       " 'T_strategy = 1.8 v_computed = 4.14 P_tot': [2364.049561095812],\n",
       " 'T_strategy = 1.8 v_computed = 4.14 P_installed': [1750.0],\n",
       " 'T_strategy = 1.8 v_computed = 4.14 duration_hrs_bottleneck': [6.703975550277778],\n",
       " 'T_strategy = 1.8 v_computed = 4.14 fuel_kg_bottleneck': [3556.4102346026893],\n",
       " 'T_strategy = 1.8 v_computed = 4.14 CO2_kg_bottleneck': [11283.51974433035],\n",
       " 'T_strategy = 1.8 v_computed = 4.14 PM10_kg_bottleneck': [6.149229817405718],\n",
       " 'T_strategy = 1.8 v_computed = 4.14 NOx_kg_bottleneck': [155.26805288949438],\n",
       " 'T_strategy = 1.8 v_computed = 4.14 sinkage_max_m_bottleneck': [0.40000000625327753],\n",
       " 'T_strategy = 1.8 v_computed = 4.14 dynamic_ukc_m_bottleneck': [0.2999999937467224],\n",
       " 'T_strategy = 1.75 v_computed = 4.42 P_tot': [5234.171448113109],\n",
       " 'T_strategy = 1.75 v_computed = 4.42 P_installed': [1750.0],\n",
       " 'T_strategy = 1.75 v_computed = 4.42 duration_hrs_bottleneck': [6.280871338055555],\n",
       " 'T_strategy = 1.75 v_computed = 4.42 fuel_kg_bottleneck': [7377.185326601379],\n",
       " 'T_strategy = 1.75 v_computed = 4.42 CO2_kg_bottleneck': [23405.797081671648],\n",
       " 'T_strategy = 1.75 v_computed = 4.42 PM10_kg_bottleneck': [12.755561081645878],\n",
       " 'T_strategy = 1.75 v_computed = 4.42 NOx_kg_bottleneck': [322.0779173115584],\n",
       " 'T_strategy = 1.75 v_computed = 4.42 sinkage_max_m_bottleneck': [0.44999997547845977],\n",
       " 'T_strategy = 1.75 v_computed = 4.42 dynamic_ukc_m_bottleneck': [0.30000002452154023],\n",
       " 'T_strategy = 1.7 v_computed = 4.69 P_tot': [4169.891532624819],\n",
       " 'T_strategy = 1.7 v_computed = 4.69 P_installed': [1750.0],\n",
       " 'T_strategy = 1.7 v_computed = 4.69 duration_hrs_bottleneck': [5.920657313055555],\n",
       " 'T_strategy = 1.7 v_computed = 4.69 fuel_kg_bottleneck': [5540.099130110434],\n",
       " 'T_strategy = 1.7 v_computed = 4.69 CO2_kg_bottleneck': [17577.223603714014],\n",
       " 'T_strategy = 1.7 v_computed = 4.69 PM10_kg_bottleneck': [9.579137533346028],\n",
       " 'T_strategy = 1.7 v_computed = 4.69 NOx_kg_bottleneck': [241.87322271698713],\n",
       " 'T_strategy = 1.7 v_computed = 4.69 sinkage_max_m_bottleneck': [0.5000000368034354],\n",
       " 'T_strategy = 1.7 v_computed = 4.69 dynamic_ukc_m_bottleneck': [0.29999996319656463],\n",
       " 'T_strategy = 1.65 v_computed = 4.95 P_tot': [5991.08943837748],\n",
       " 'T_strategy = 1.65 v_computed = 4.95 P_installed': [1750.0],\n",
       " 'T_strategy = 1.65 v_computed = 4.95 duration_hrs_bottleneck': [5.608755392222222],\n",
       " 'T_strategy = 1.65 v_computed = 4.95 fuel_kg_bottleneck': [7540.413385261021],\n",
       " 'T_strategy = 1.65 v_computed = 4.95 CO2_kg_bottleneck': [23923.675195055424],\n",
       " 'T_strategy = 1.65 v_computed = 4.95 PM10_kg_bottleneck': [13.037791414800697],\n",
       " 'T_strategy = 1.65 v_computed = 4.95 NOx_kg_bottleneck': [329.20423322371755],\n",
       " 'T_strategy = 1.65 v_computed = 4.95 sinkage_max_m_bottleneck': [0.5500001922021793],\n",
       " 'T_strategy = 1.65 v_computed = 4.95 dynamic_ukc_m_bottleneck': [0.29999980779782076],\n",
       " 'T_strategy = 1.6 v_computed = 5.21 P_tot': [8480.244948041409],\n",
       " 'T_strategy = 1.6 v_computed = 5.21 P_installed': [1750.0],\n",
       " 'T_strategy = 1.6 v_computed = 5.21 duration_hrs_bottleneck': [5.334927301944444],\n",
       " 'T_strategy = 1.6 v_computed = 5.21 fuel_kg_bottleneck': [10152.190423428288],\n",
       " 'T_strategy = 1.6 v_computed = 5.21 CO2_kg_bottleneck': [32210.131434331564],\n",
       " 'T_strategy = 1.6 v_computed = 5.21 PM10_kg_bottleneck': [17.553698236587234],\n",
       " 'T_strategy = 1.6 v_computed = 5.21 NOx_kg_bottleneck': [443.2308804738276],\n",
       " 'T_strategy = 1.6 v_computed = 5.21 sinkage_max_m_bottleneck': [0.6000000160120557],\n",
       " 'T_strategy = 1.6 v_computed = 5.21 dynamic_ukc_m_bottleneck': [0.29999998398794425],\n",
       " 'T_strategy = 1.55 v_computed = 5.46 P_tot': [9915.97216746976],\n",
       " 'T_strategy = 1.55 v_computed = 5.46 P_installed': [1750.0],\n",
       " 'T_strategy = 1.55 v_computed = 5.46 duration_hrs_bottleneck': [5.091736656388888],\n",
       " 'T_strategy = 1.55 v_computed = 5.46 fuel_kg_bottleneck': [11329.848056607192],\n",
       " 'T_strategy = 1.55 v_computed = 5.46 CO2_kg_bottleneck': [35946.517925053726],\n",
       " 'T_strategy = 1.55 v_computed = 5.46 PM10_kg_bottleneck': [19.589933359909047],\n",
       " 'T_strategy = 1.55 v_computed = 5.46 NOx_kg_bottleneck': [494.64581733770336],\n",
       " 'T_strategy = 1.55 v_computed = 5.46 sinkage_max_m_bottleneck': [0.6500000098169089],\n",
       " 'T_strategy = 1.55 v_computed = 5.46 dynamic_ukc_m_bottleneck': [0.2999999901830911],\n",
       " 'T_strategy = 1.5 v_computed = 5.7 P_tot': [10086.244572407504],\n",
       " 'T_strategy = 1.5 v_computed = 5.7 P_installed': [1750.0],\n",
       " 'T_strategy = 1.5 v_computed = 5.7 duration_hrs_bottleneck': [4.873637548055556],\n",
       " 'T_strategy = 1.5 v_computed = 5.7 fuel_kg_bottleneck': [11030.7635399051],\n",
       " 'T_strategy = 1.5 v_computed = 5.7 CO2_kg_bottleneck': [34997.60432206254],\n",
       " 'T_strategy = 1.5 v_computed = 5.7 PM10_kg_bottleneck': [19.072799703579225],\n",
       " 'T_strategy = 1.5 v_computed = 5.7 NOx_kg_bottleneck': [481.5881925153754],\n",
       " 'T_strategy = 1.5 v_computed = 5.7 sinkage_max_m_bottleneck': [0.7000003043778298],\n",
       " 'T_strategy = 1.5 v_computed = 5.7 dynamic_ukc_m_bottleneck': [0.2999996956221702],\n",
       " 'T_strategy = 1.45 v_computed = 5.94 P_tot': [9513.02467669844],\n",
       " 'T_strategy = 1.45 v_computed = 5.94 P_installed': [1750.0],\n",
       " 'T_strategy = 1.45 v_computed = 5.94 duration_hrs_bottleneck': [4.676399745555556],\n",
       " 'T_strategy = 1.45 v_computed = 5.94 fuel_kg_bottleneck': [9982.816866248124],\n",
       " 'T_strategy = 1.45 v_computed = 5.94 CO2_kg_bottleneck': [31672.75533018723],\n",
       " 'T_strategy = 1.45 v_computed = 5.94 PM10_kg_bottleneck': [17.260841996899607],\n",
       " 'T_strategy = 1.45 v_computed = 5.94 NOx_kg_bottleneck': [435.83626042171505],\n",
       " 'T_strategy = 1.45 v_computed = 5.94 sinkage_max_m_bottleneck': [0.7499999991000937],\n",
       " 'T_strategy = 1.45 v_computed = 5.94 dynamic_ukc_m_bottleneck': [0.3000000008999063],\n",
       " 'T_strategy = 1.4 v_computed = 6.18 P_tot': [8860.223826232374],\n",
       " 'T_strategy = 1.4 v_computed = 6.18 P_installed': [1750.0],\n",
       " 'T_strategy = 1.4 v_computed = 6.18 duration_hrs_bottleneck': [4.4967243097222225],\n",
       " 'T_strategy = 1.4 v_computed = 6.18 fuel_kg_bottleneck': [8940.541180203412],\n",
       " 'T_strategy = 1.4 v_computed = 6.18 CO2_kg_bottleneck': [28365.89883537264],\n",
       " 'T_strategy = 1.4 v_computed = 6.18 PM10_kg_bottleneck': [15.458689741171675],\n",
       " 'T_strategy = 1.4 v_computed = 6.18 NOx_kg_bottleneck': [390.33191596458477],\n",
       " 'T_strategy = 1.4 v_computed = 6.18 sinkage_max_m_bottleneck': [0.8000000457358635],\n",
       " 'T_strategy = 1.4 v_computed = 6.18 dynamic_ukc_m_bottleneck': [0.2999999542641366]}"
      ]
     },
     "execution_count": 15,
     "metadata": {},
     "output_type": "execute_result"
    }
   ],
   "source": [
    "df_collect"
   ]
  },
  {
   "cell_type": "markdown",
   "id": "664070d7-b3b4-4b4a-b684-57eaae4b3c60",
   "metadata": {
    "tags": []
   },
   "source": [
    "### Test the reality of sailing with v_computed\n",
    "We test it by comparing the total required power (P_tot) of the ship while sailing at v_computed with its installed power (P_installed). If P_tot <= P_installed, the v_computed is realistic.\n",
    "\n",
    "So the steps to do:\n",
    "- set the above results [Strategies: 'T_strategy','v_computed'] as input data for a vessel sailing and consuming energy simulation\n",
    "- run the simulation to get results: 'P_tot', 'P_installed', 'total fuel use', 'total emissions_CO2', 'total emissions_PM10', 'total emissions_NOx', 'duration', 'payload'. (Note that you need the \"T2payload\" function based on \"Van Dorsser's method\" to get the corresponding 'payload'for each 'T_strategy'.) \n",
    "- put the results into dataframe for later easy selecting, processing and plotting\n",
    "- select the Strategies of which P_tot <= P_installed \n",
    "- analysis the selected Strategies \n",
    "- visualize some typical selected Strategies via a series Bar Chart. In each bar chart, y_axis is amount, x_axis is evaluation items.\n",
    "- visualize some typical selected Strategies together with ambient waterway sections of different water depths.(Note that the input [Vs, P_tot_given] are different for bottle neck section and ambient sections)"
   ]
  },
  {
   "cell_type": "markdown",
   "id": "7143bacb-cedb-4e19-a129-55fe6afeca76",
   "metadata": {},
   "source": [
    "### Visulization of Stratigies for passing bottleneck section"
   ]
  },
  {
   "cell_type": "markdown",
   "id": "46a8f522-adde-4583-9936-b548a03ca19c",
   "metadata": {},
   "source": [
    "#### Organizing data for visulization "
   ]
  },
  {
   "cell_type": "code",
   "execution_count": 16,
   "id": "99ffaf12-68e3-4c04-a96e-30e6ed00fef3",
   "metadata": {},
   "outputs": [
    {
     "data": {
      "text/html": [
       "<div>\n",
       "<style scoped>\n",
       "    .dataframe tbody tr th:only-of-type {\n",
       "        vertical-align: middle;\n",
       "    }\n",
       "\n",
       "    .dataframe tbody tr th {\n",
       "        vertical-align: top;\n",
       "    }\n",
       "\n",
       "    .dataframe thead th {\n",
       "        text-align: right;\n",
       "    }\n",
       "</style>\n",
       "<table border=\"1\" class=\"dataframe\">\n",
       "  <thead>\n",
       "    <tr style=\"text-align: right;\">\n",
       "      <th></th>\n",
       "      <th>T_strategy = 2.15 v_computed = 1.4 P_tot</th>\n",
       "      <th>T_strategy = 2.15 v_computed = 1.4 P_installed</th>\n",
       "      <th>T_strategy = 2.15 v_computed = 1.4 duration_hrs_bottleneck</th>\n",
       "      <th>T_strategy = 2.15 v_computed = 1.4 fuel_kg_bottleneck</th>\n",
       "      <th>T_strategy = 2.15 v_computed = 1.4 CO2_kg_bottleneck</th>\n",
       "      <th>T_strategy = 2.15 v_computed = 1.4 PM10_kg_bottleneck</th>\n",
       "      <th>T_strategy = 2.15 v_computed = 1.4 NOx_kg_bottleneck</th>\n",
       "      <th>T_strategy = 2.15 v_computed = 1.4 sinkage_max_m_bottleneck</th>\n",
       "      <th>T_strategy = 2.15 v_computed = 1.4 dynamic_ukc_m_bottleneck</th>\n",
       "      <th>T_strategy = 2.1 v_computed = 2.0 P_tot</th>\n",
       "      <th>...</th>\n",
       "      <th>T_strategy = 1.45 v_computed = 5.94 dynamic_ukc_m_bottleneck</th>\n",
       "      <th>T_strategy = 1.4 v_computed = 6.18 P_tot</th>\n",
       "      <th>T_strategy = 1.4 v_computed = 6.18 P_installed</th>\n",
       "      <th>T_strategy = 1.4 v_computed = 6.18 duration_hrs_bottleneck</th>\n",
       "      <th>T_strategy = 1.4 v_computed = 6.18 fuel_kg_bottleneck</th>\n",
       "      <th>T_strategy = 1.4 v_computed = 6.18 CO2_kg_bottleneck</th>\n",
       "      <th>T_strategy = 1.4 v_computed = 6.18 PM10_kg_bottleneck</th>\n",
       "      <th>T_strategy = 1.4 v_computed = 6.18 NOx_kg_bottleneck</th>\n",
       "      <th>T_strategy = 1.4 v_computed = 6.18 sinkage_max_m_bottleneck</th>\n",
       "      <th>T_strategy = 1.4 v_computed = 6.18 dynamic_ukc_m_bottleneck</th>\n",
       "    </tr>\n",
       "  </thead>\n",
       "  <tbody>\n",
       "    <tr>\n",
       "      <th>0</th>\n",
       "      <td>107.172961</td>\n",
       "      <td>1750.0</td>\n",
       "      <td>19.775277</td>\n",
       "      <td>578.63486</td>\n",
       "      <td>1835.850602</td>\n",
       "      <td>1.914122</td>\n",
       "      <td>36.814174</td>\n",
       "      <td>0.05</td>\n",
       "      <td>0.3</td>\n",
       "      <td>139.390037</td>\n",
       "      <td>...</td>\n",
       "      <td>0.3</td>\n",
       "      <td>8860.223826</td>\n",
       "      <td>1750.0</td>\n",
       "      <td>4.496724</td>\n",
       "      <td>8940.54118</td>\n",
       "      <td>28365.898835</td>\n",
       "      <td>15.45869</td>\n",
       "      <td>390.331916</td>\n",
       "      <td>0.8</td>\n",
       "      <td>0.3</td>\n",
       "    </tr>\n",
       "  </tbody>\n",
       "</table>\n",
       "<p>1 rows × 144 columns</p>\n",
       "</div>"
      ],
      "text/plain": [
       "   T_strategy = 2.15 v_computed = 1.4 P_tot  \\\n",
       "0                                107.172961   \n",
       "\n",
       "   T_strategy = 2.15 v_computed = 1.4 P_installed  \\\n",
       "0                                          1750.0   \n",
       "\n",
       "   T_strategy = 2.15 v_computed = 1.4 duration_hrs_bottleneck  \\\n",
       "0                                          19.775277            \n",
       "\n",
       "   T_strategy = 2.15 v_computed = 1.4 fuel_kg_bottleneck  \\\n",
       "0                                          578.63486       \n",
       "\n",
       "   T_strategy = 2.15 v_computed = 1.4 CO2_kg_bottleneck  \\\n",
       "0                                        1835.850602      \n",
       "\n",
       "   T_strategy = 2.15 v_computed = 1.4 PM10_kg_bottleneck  \\\n",
       "0                                           1.914122       \n",
       "\n",
       "   T_strategy = 2.15 v_computed = 1.4 NOx_kg_bottleneck  \\\n",
       "0                                          36.814174      \n",
       "\n",
       "   T_strategy = 2.15 v_computed = 1.4 sinkage_max_m_bottleneck  \\\n",
       "0                                               0.05             \n",
       "\n",
       "   T_strategy = 2.15 v_computed = 1.4 dynamic_ukc_m_bottleneck  \\\n",
       "0                                                0.3             \n",
       "\n",
       "   T_strategy = 2.1 v_computed = 2.0 P_tot  ...  \\\n",
       "0                               139.390037  ...   \n",
       "\n",
       "   T_strategy = 1.45 v_computed = 5.94 dynamic_ukc_m_bottleneck  \\\n",
       "0                                                0.3              \n",
       "\n",
       "   T_strategy = 1.4 v_computed = 6.18 P_tot  \\\n",
       "0                               8860.223826   \n",
       "\n",
       "   T_strategy = 1.4 v_computed = 6.18 P_installed  \\\n",
       "0                                          1750.0   \n",
       "\n",
       "   T_strategy = 1.4 v_computed = 6.18 duration_hrs_bottleneck  \\\n",
       "0                                           4.496724            \n",
       "\n",
       "   T_strategy = 1.4 v_computed = 6.18 fuel_kg_bottleneck  \\\n",
       "0                                         8940.54118       \n",
       "\n",
       "   T_strategy = 1.4 v_computed = 6.18 CO2_kg_bottleneck  \\\n",
       "0                                       28365.898835      \n",
       "\n",
       "   T_strategy = 1.4 v_computed = 6.18 PM10_kg_bottleneck  \\\n",
       "0                                           15.45869       \n",
       "\n",
       "   T_strategy = 1.4 v_computed = 6.18 NOx_kg_bottleneck  \\\n",
       "0                                         390.331916      \n",
       "\n",
       "   T_strategy = 1.4 v_computed = 6.18 sinkage_max_m_bottleneck  \\\n",
       "0                                                0.8             \n",
       "\n",
       "   T_strategy = 1.4 v_computed = 6.18 dynamic_ukc_m_bottleneck  \n",
       "0                                                0.3            \n",
       "\n",
       "[1 rows x 144 columns]"
      ]
     },
     "execution_count": 16,
     "metadata": {},
     "output_type": "execute_result"
    }
   ],
   "source": [
    "df_plot = pd.DataFrame( df_collect )\n",
    "df_plot"
   ]
  },
  {
   "cell_type": "code",
   "execution_count": null,
   "id": "54ed8e2b-df7c-46c5-bf9c-2cc518dfc70c",
   "metadata": {},
   "outputs": [],
   "source": []
  },
  {
   "cell_type": "code",
   "execution_count": 17,
   "id": "86934181-cde6-4ac3-a70f-5d187ee5ead1",
   "metadata": {},
   "outputs": [
    {
     "data": {
      "text/html": [
       "<div>\n",
       "<style scoped>\n",
       "    .dataframe tbody tr th:only-of-type {\n",
       "        vertical-align: middle;\n",
       "    }\n",
       "\n",
       "    .dataframe tbody tr th {\n",
       "        vertical-align: top;\n",
       "    }\n",
       "\n",
       "    .dataframe thead th {\n",
       "        text-align: right;\n",
       "    }\n",
       "</style>\n",
       "<table border=\"1\" class=\"dataframe\">\n",
       "  <thead>\n",
       "    <tr style=\"text-align: right;\">\n",
       "      <th></th>\n",
       "      <th>section 2 (bottleneck)</th>\n",
       "    </tr>\n",
       "  </thead>\n",
       "  <tbody>\n",
       "    <tr>\n",
       "      <th>strategy 1 \\n T$_s$=2.15 m \\n V$_s$=1.4 m/s</th>\n",
       "      <td>578.634860</td>\n",
       "    </tr>\n",
       "    <tr>\n",
       "      <th>strategy 2 \\n T$_s$=2.10 m \\n V$_s$=2.0 m/s</th>\n",
       "      <td>522.801199</td>\n",
       "    </tr>\n",
       "    <tr>\n",
       "      <th>strategy 3 \\n T$_s$=2.05 m \\n V$_s$=2.5 m/s</th>\n",
       "      <td>538.525715</td>\n",
       "    </tr>\n",
       "    <tr>\n",
       "      <th>strategy 4 \\n T$_s$=2.00 m \\n V$_s$=2.9 m/s</th>\n",
       "      <td>615.982783</td>\n",
       "    </tr>\n",
       "    <tr>\n",
       "      <th>strategy 5 \\n T$_s$=1.95 m \\n V$_s$=3.2 m/s</th>\n",
       "      <td>829.907334</td>\n",
       "    </tr>\n",
       "    <tr>\n",
       "      <th>strategy 6 \\n T$_s$=1.90 m \\n V$_s$=3.5 m/s</th>\n",
       "      <td>1351.742819</td>\n",
       "    </tr>\n",
       "    <tr>\n",
       "      <th>strategy 7 \\n T$_s$=1.85 m \\n V$_s$=3.8 m/s</th>\n",
       "      <td>2228.724163</td>\n",
       "    </tr>\n",
       "  </tbody>\n",
       "</table>\n",
       "</div>"
      ],
      "text/plain": [
       "                                             section 2 (bottleneck)\n",
       "strategy 1 \\n T$_s$=2.15 m \\n V$_s$=1.4 m/s              578.634860\n",
       "strategy 2 \\n T$_s$=2.10 m \\n V$_s$=2.0 m/s              522.801199\n",
       "strategy 3 \\n T$_s$=2.05 m \\n V$_s$=2.5 m/s              538.525715\n",
       "strategy 4 \\n T$_s$=2.00 m \\n V$_s$=2.9 m/s              615.982783\n",
       "strategy 5 \\n T$_s$=1.95 m \\n V$_s$=3.2 m/s              829.907334\n",
       "strategy 6 \\n T$_s$=1.90 m \\n V$_s$=3.5 m/s             1351.742819\n",
       "strategy 7 \\n T$_s$=1.85 m \\n V$_s$=3.8 m/s             2228.724163"
      ]
     },
     "execution_count": 17,
     "metadata": {},
     "output_type": "execute_result"
    }
   ],
   "source": [
    "fuel=df_plot[['T_strategy = 2.15 v_computed = 1.4 fuel_kg_bottleneck',\n",
    "              'T_strategy = 2.1 v_computed = 2.0 fuel_kg_bottleneck',\n",
    "              'T_strategy = 2.05 v_computed = 2.46 fuel_kg_bottleneck', \n",
    "              'T_strategy = 2.0 v_computed = 2.86 fuel_kg_bottleneck',\n",
    "              'T_strategy = 1.95 v_computed = 3.22 fuel_kg_bottleneck',\n",
    "              'T_strategy = 1.9 v_computed = 3.54 fuel_kg_bottleneck',\n",
    "              'T_strategy = 1.85 v_computed = 3.85 fuel_kg_bottleneck']].T\n",
    "\n",
    "fuel.index=['strategy 1 \\n T$_s$=2.15 m \\n V$_s$=1.4 m/s', \n",
    "            'strategy 2 \\n T$_s$=2.10 m \\n V$_s$=2.0 m/s',\n",
    "            'strategy 3 \\n T$_s$=2.05 m \\n V$_s$=2.5 m/s',\n",
    "            'strategy 4 \\n T$_s$=2.00 m \\n V$_s$=2.9 m/s',\n",
    "            'strategy 5 \\n T$_s$=1.95 m \\n V$_s$=3.2 m/s',\n",
    "            'strategy 6 \\n T$_s$=1.90 m \\n V$_s$=3.5 m/s',\n",
    "            'strategy 7 \\n T$_s$=1.85 m \\n V$_s$=3.8 m/s',]\n",
    "\n",
    "fuel.columns =['section 2 (bottleneck)']\n",
    "fuel.head(7)"
   ]
  },
  {
   "cell_type": "code",
   "execution_count": 18,
   "id": "fe15f33a-ade0-4b11-a9e8-8c63d5a9c41e",
   "metadata": {},
   "outputs": [
    {
     "data": {
      "text/plain": [
       "<AxesSubplot:>"
      ]
     },
     "execution_count": 18,
     "metadata": {},
     "output_type": "execute_result"
    },
    {
     "data": {
      "image/png": "[encoded data removed]",
      "text/plain": [
       "<Figure size 720x216 with 1 Axes>"
      ]
     },
     "metadata": {
      "needs_background": "light"
     },
     "output_type": "display_data"
    }
   ],
   "source": [
    "fuel_colors=['#bf9005']\n",
    "fuel.plot(kind='bar',stacked=True,color=fuel_colors,rot=0, figsize=(10, 3))"
   ]
  },
  {
   "cell_type": "code",
   "execution_count": 19,
   "id": "7f2caa41-6ff3-47f7-b795-27868fd981a5",
   "metadata": {},
   "outputs": [
    {
     "data": {
      "text/html": [
       "<div>\n",
       "<style scoped>\n",
       "    .dataframe tbody tr th:only-of-type {\n",
       "        vertical-align: middle;\n",
       "    }\n",
       "\n",
       "    .dataframe tbody tr th {\n",
       "        vertical-align: top;\n",
       "    }\n",
       "\n",
       "    .dataframe thead th {\n",
       "        text-align: right;\n",
       "    }\n",
       "</style>\n",
       "<table border=\"1\" class=\"dataframe\">\n",
       "  <thead>\n",
       "    <tr style=\"text-align: right;\">\n",
       "      <th></th>\n",
       "      <th>section 2 (bottleneck)</th>\n",
       "    </tr>\n",
       "  </thead>\n",
       "  <tbody>\n",
       "    <tr>\n",
       "      <th>strategy 1 \\n T$_s$=2.15 m \\n V$_s$=1.4 m/s</th>\n",
       "      <td>1835.850602</td>\n",
       "    </tr>\n",
       "    <tr>\n",
       "      <th>strategy 2 \\n T$_s$=2.10 m \\n V$_s$=2.0 m/s</th>\n",
       "      <td>1658.705621</td>\n",
       "    </tr>\n",
       "    <tr>\n",
       "      <th>strategy 3 \\n T$_s$=2.05 m \\n V$_s$=2.5 m/s</th>\n",
       "      <td>1708.595221</td>\n",
       "    </tr>\n",
       "    <tr>\n",
       "      <th>strategy 4 \\n T$_s$=2.00 m \\n V$_s$=2.9 m/s</th>\n",
       "      <td>1954.345374</td>\n",
       "    </tr>\n",
       "    <tr>\n",
       "      <th>strategy 5 \\n T$_s$=1.95 m \\n V$_s$=3.2 m/s</th>\n",
       "      <td>2633.069632</td>\n",
       "    </tr>\n",
       "    <tr>\n",
       "      <th>strategy 6 \\n T$_s$=1.90 m \\n V$_s$=3.5 m/s</th>\n",
       "      <td>4288.711307</td>\n",
       "    </tr>\n",
       "    <tr>\n",
       "      <th>strategy 7 \\n T$_s$=1.85 m \\n V$_s$=3.8 m/s</th>\n",
       "      <td>7071.133936</td>\n",
       "    </tr>\n",
       "  </tbody>\n",
       "</table>\n",
       "</div>"
      ],
      "text/plain": [
       "                                             section 2 (bottleneck)\n",
       "strategy 1 \\n T$_s$=2.15 m \\n V$_s$=1.4 m/s             1835.850602\n",
       "strategy 2 \\n T$_s$=2.10 m \\n V$_s$=2.0 m/s             1658.705621\n",
       "strategy 3 \\n T$_s$=2.05 m \\n V$_s$=2.5 m/s             1708.595221\n",
       "strategy 4 \\n T$_s$=2.00 m \\n V$_s$=2.9 m/s             1954.345374\n",
       "strategy 5 \\n T$_s$=1.95 m \\n V$_s$=3.2 m/s             2633.069632\n",
       "strategy 6 \\n T$_s$=1.90 m \\n V$_s$=3.5 m/s             4288.711307\n",
       "strategy 7 \\n T$_s$=1.85 m \\n V$_s$=3.8 m/s             7071.133936"
      ]
     },
     "execution_count": 19,
     "metadata": {},
     "output_type": "execute_result"
    }
   ],
   "source": [
    "CO2=df_plot[[ 'T_strategy = 2.15 v_computed = 1.4 CO2_kg_bottleneck',\n",
    "              'T_strategy = 2.1 v_computed = 2.0 CO2_kg_bottleneck',\n",
    "              'T_strategy = 2.05 v_computed = 2.46 CO2_kg_bottleneck', \n",
    "              'T_strategy = 2.0 v_computed = 2.86 CO2_kg_bottleneck',\n",
    "              'T_strategy = 1.95 v_computed = 3.22 CO2_kg_bottleneck',\n",
    "              'T_strategy = 1.9 v_computed = 3.54 CO2_kg_bottleneck',\n",
    "              'T_strategy = 1.85 v_computed = 3.85 CO2_kg_bottleneck']].T\n",
    "\n",
    "CO2.index=[ 'strategy 1 \\n T$_s$=2.15 m \\n V$_s$=1.4 m/s', \n",
    "            'strategy 2 \\n T$_s$=2.10 m \\n V$_s$=2.0 m/s',\n",
    "            'strategy 3 \\n T$_s$=2.05 m \\n V$_s$=2.5 m/s',\n",
    "            'strategy 4 \\n T$_s$=2.00 m \\n V$_s$=2.9 m/s',\n",
    "            'strategy 5 \\n T$_s$=1.95 m \\n V$_s$=3.2 m/s',\n",
    "            'strategy 6 \\n T$_s$=1.90 m \\n V$_s$=3.5 m/s',\n",
    "            'strategy 7 \\n T$_s$=1.85 m \\n V$_s$=3.8 m/s',]\n",
    "\n",
    "CO2.columns =['section 2 (bottleneck)']\n",
    "CO2.head(7)"
   ]
  },
  {
   "cell_type": "code",
   "execution_count": 20,
   "id": "237d3c0e-8f7c-4664-bfb6-4c85bbadbb63",
   "metadata": {},
   "outputs": [
    {
     "data": {
      "text/plain": [
       "<AxesSubplot:>"
      ]
     },
     "execution_count": 20,
     "metadata": {},
     "output_type": "execute_result"
    },
    {
     "data": {
      "image/png": "[encoded data removed]",
      "text/plain": [
       "<Figure size 720x216 with 1 Axes>"
      ]
     },
     "metadata": {
      "needs_background": "light"
     },
     "output_type": "display_data"
    }
   ],
   "source": [
    "CO2_colors=['orange']\n",
    "CO2.plot(kind='bar', stacked=True,color=CO2_colors,rot=0, figsize=(10, 3))"
   ]
  },
  {
   "cell_type": "code",
   "execution_count": 21,
   "id": "2562b0ee-14ee-47cd-af07-3741e363fa0b",
   "metadata": {},
   "outputs": [
    {
     "data": {
      "text/html": [
       "<div>\n",
       "<style scoped>\n",
       "    .dataframe tbody tr th:only-of-type {\n",
       "        vertical-align: middle;\n",
       "    }\n",
       "\n",
       "    .dataframe tbody tr th {\n",
       "        vertical-align: top;\n",
       "    }\n",
       "\n",
       "    .dataframe thead th {\n",
       "        text-align: right;\n",
       "    }\n",
       "</style>\n",
       "<table border=\"1\" class=\"dataframe\">\n",
       "  <thead>\n",
       "    <tr style=\"text-align: right;\">\n",
       "      <th></th>\n",
       "      <th>section 2 (bottleneck)</th>\n",
       "    </tr>\n",
       "  </thead>\n",
       "  <tbody>\n",
       "    <tr>\n",
       "      <th>strategy 1 \\n T$_s$=2.15 m \\n V$_s$=1.4 m/s</th>\n",
       "      <td>1.914122</td>\n",
       "    </tr>\n",
       "    <tr>\n",
       "      <th>strategy 2 \\n T$_s$=2.10 m \\n V$_s$=2.0 m/s</th>\n",
       "      <td>1.519016</td>\n",
       "    </tr>\n",
       "    <tr>\n",
       "      <th>strategy 3 \\n T$_s$=2.05 m \\n V$_s$=2.5 m/s</th>\n",
       "      <td>1.307787</td>\n",
       "    </tr>\n",
       "    <tr>\n",
       "      <th>strategy 4 \\n T$_s$=2.00 m \\n V$_s$=2.9 m/s</th>\n",
       "      <td>1.311446</td>\n",
       "    </tr>\n",
       "    <tr>\n",
       "      <th>strategy 5 \\n T$_s$=1.95 m \\n V$_s$=3.2 m/s</th>\n",
       "      <td>1.537442</td>\n",
       "    </tr>\n",
       "    <tr>\n",
       "      <th>strategy 6 \\n T$_s$=1.90 m \\n V$_s$=3.5 m/s</th>\n",
       "      <td>2.365069</td>\n",
       "    </tr>\n",
       "    <tr>\n",
       "      <th>strategy 7 \\n T$_s$=1.85 m \\n V$_s$=3.8 m/s</th>\n",
       "      <td>3.968975</td>\n",
       "    </tr>\n",
       "  </tbody>\n",
       "</table>\n",
       "</div>"
      ],
      "text/plain": [
       "                                             section 2 (bottleneck)\n",
       "strategy 1 \\n T$_s$=2.15 m \\n V$_s$=1.4 m/s                1.914122\n",
       "strategy 2 \\n T$_s$=2.10 m \\n V$_s$=2.0 m/s                1.519016\n",
       "strategy 3 \\n T$_s$=2.05 m \\n V$_s$=2.5 m/s                1.307787\n",
       "strategy 4 \\n T$_s$=2.00 m \\n V$_s$=2.9 m/s                1.311446\n",
       "strategy 5 \\n T$_s$=1.95 m \\n V$_s$=3.2 m/s                1.537442\n",
       "strategy 6 \\n T$_s$=1.90 m \\n V$_s$=3.5 m/s                2.365069\n",
       "strategy 7 \\n T$_s$=1.85 m \\n V$_s$=3.8 m/s                3.968975"
      ]
     },
     "execution_count": 21,
     "metadata": {},
     "output_type": "execute_result"
    }
   ],
   "source": [
    "PM10=df_plot[['T_strategy = 2.15 v_computed = 1.4 PM10_kg_bottleneck',\n",
    "              'T_strategy = 2.1 v_computed = 2.0 PM10_kg_bottleneck',\n",
    "              'T_strategy = 2.05 v_computed = 2.46 PM10_kg_bottleneck', \n",
    "              'T_strategy = 2.0 v_computed = 2.86 PM10_kg_bottleneck',\n",
    "              'T_strategy = 1.95 v_computed = 3.22 PM10_kg_bottleneck',\n",
    "              'T_strategy = 1.9 v_computed = 3.54 PM10_kg_bottleneck',\n",
    "              'T_strategy = 1.85 v_computed = 3.85 PM10_kg_bottleneck']].T\n",
    "\n",
    "PM10.index=['strategy 1 \\n T$_s$=2.15 m \\n V$_s$=1.4 m/s', \n",
    "            'strategy 2 \\n T$_s$=2.10 m \\n V$_s$=2.0 m/s',\n",
    "            'strategy 3 \\n T$_s$=2.05 m \\n V$_s$=2.5 m/s',\n",
    "            'strategy 4 \\n T$_s$=2.00 m \\n V$_s$=2.9 m/s',\n",
    "            'strategy 5 \\n T$_s$=1.95 m \\n V$_s$=3.2 m/s',\n",
    "            'strategy 6 \\n T$_s$=1.90 m \\n V$_s$=3.5 m/s',\n",
    "            'strategy 7 \\n T$_s$=1.85 m \\n V$_s$=3.8 m/s',]\n",
    "\n",
    "PM10.columns =['section 2 (bottleneck)']\n",
    "PM10.head(7)"
   ]
  },
  {
   "cell_type": "code",
   "execution_count": 22,
   "id": "966c6cb8-d242-433c-accf-1302115bb22c",
   "metadata": {},
   "outputs": [
    {
     "data": {
      "text/plain": [
       "<AxesSubplot:>"
      ]
     },
     "execution_count": 22,
     "metadata": {},
     "output_type": "execute_result"
    },
    {
     "data": {
      "image/png": "[encoded data removed]",
      "text/plain": [
       "<Figure size 720x216 with 1 Axes>"
      ]
     },
     "metadata": {
      "needs_background": "light"
     },
     "output_type": "display_data"
    }
   ],
   "source": [
    "PM10_colors=['mediumseagreen']\n",
    "PM10.plot(kind='bar', stacked=True,color=PM10_colors,rot=0, figsize=(10, 3))"
   ]
  },
  {
   "cell_type": "code",
   "execution_count": 23,
   "id": "ce3a2483-28c7-40c5-aeda-e30bfff378f2",
   "metadata": {},
   "outputs": [
    {
     "data": {
      "text/html": [
       "<div>\n",
       "<style scoped>\n",
       "    .dataframe tbody tr th:only-of-type {\n",
       "        vertical-align: middle;\n",
       "    }\n",
       "\n",
       "    .dataframe tbody tr th {\n",
       "        vertical-align: top;\n",
       "    }\n",
       "\n",
       "    .dataframe thead th {\n",
       "        text-align: right;\n",
       "    }\n",
       "</style>\n",
       "<table border=\"1\" class=\"dataframe\">\n",
       "  <thead>\n",
       "    <tr style=\"text-align: right;\">\n",
       "      <th></th>\n",
       "      <th>section 2 (bottleneck)</th>\n",
       "    </tr>\n",
       "  </thead>\n",
       "  <tbody>\n",
       "    <tr>\n",
       "      <th>strategy 1 \\n T$_s$=2.15 m \\n V$_s$=1.4 m/s</th>\n",
       "      <td>36.814174</td>\n",
       "    </tr>\n",
       "    <tr>\n",
       "      <th>strategy 2 \\n T$_s$=2.10 m \\n V$_s$=2.0 m/s</th>\n",
       "      <td>30.130197</td>\n",
       "    </tr>\n",
       "    <tr>\n",
       "      <th>strategy 3 \\n T$_s$=2.05 m \\n V$_s$=2.5 m/s</th>\n",
       "      <td>27.235746</td>\n",
       "    </tr>\n",
       "    <tr>\n",
       "      <th>strategy 4 \\n T$_s$=2.00 m \\n V$_s$=2.9 m/s</th>\n",
       "      <td>28.790268</td>\n",
       "    </tr>\n",
       "    <tr>\n",
       "      <th>strategy 5 \\n T$_s$=1.95 m \\n V$_s$=3.2 m/s</th>\n",
       "      <td>36.187624</td>\n",
       "    </tr>\n",
       "    <tr>\n",
       "      <th>strategy 6 \\n T$_s$=1.90 m \\n V$_s$=3.5 m/s</th>\n",
       "      <td>59.392527</td>\n",
       "    </tr>\n",
       "    <tr>\n",
       "      <th>strategy 7 \\n T$_s$=1.85 m \\n V$_s$=3.8 m/s</th>\n",
       "      <td>99.249139</td>\n",
       "    </tr>\n",
       "  </tbody>\n",
       "</table>\n",
       "</div>"
      ],
      "text/plain": [
       "                                             section 2 (bottleneck)\n",
       "strategy 1 \\n T$_s$=2.15 m \\n V$_s$=1.4 m/s               36.814174\n",
       "strategy 2 \\n T$_s$=2.10 m \\n V$_s$=2.0 m/s               30.130197\n",
       "strategy 3 \\n T$_s$=2.05 m \\n V$_s$=2.5 m/s               27.235746\n",
       "strategy 4 \\n T$_s$=2.00 m \\n V$_s$=2.9 m/s               28.790268\n",
       "strategy 5 \\n T$_s$=1.95 m \\n V$_s$=3.2 m/s               36.187624\n",
       "strategy 6 \\n T$_s$=1.90 m \\n V$_s$=3.5 m/s               59.392527\n",
       "strategy 7 \\n T$_s$=1.85 m \\n V$_s$=3.8 m/s               99.249139"
      ]
     },
     "execution_count": 23,
     "metadata": {},
     "output_type": "execute_result"
    }
   ],
   "source": [
    "NOx=df_plot[['T_strategy = 2.15 v_computed = 1.4 NOx_kg_bottleneck',\n",
    "              'T_strategy = 2.1 v_computed = 2.0 NOx_kg_bottleneck',\n",
    "              'T_strategy = 2.05 v_computed = 2.46 NOx_kg_bottleneck', \n",
    "              'T_strategy = 2.0 v_computed = 2.86 NOx_kg_bottleneck',\n",
    "              'T_strategy = 1.95 v_computed = 3.22 NOx_kg_bottleneck',\n",
    "              'T_strategy = 1.9 v_computed = 3.54 NOx_kg_bottleneck',\n",
    "              'T_strategy = 1.85 v_computed = 3.85 NOx_kg_bottleneck']].T\n",
    "\n",
    "NOx.index=['strategy 1 \\n T$_s$=2.15 m \\n V$_s$=1.4 m/s', \n",
    "            'strategy 2 \\n T$_s$=2.10 m \\n V$_s$=2.0 m/s',\n",
    "            'strategy 3 \\n T$_s$=2.05 m \\n V$_s$=2.5 m/s',\n",
    "            'strategy 4 \\n T$_s$=2.00 m \\n V$_s$=2.9 m/s',\n",
    "            'strategy 5 \\n T$_s$=1.95 m \\n V$_s$=3.2 m/s',\n",
    "            'strategy 6 \\n T$_s$=1.90 m \\n V$_s$=3.5 m/s',\n",
    "            'strategy 7 \\n T$_s$=1.85 m \\n V$_s$=3.8 m/s',]\n",
    "\n",
    "NOx.columns =['section 2 (bottleneck)']\n",
    "NOx.head(7)"
   ]
  },
  {
   "cell_type": "code",
   "execution_count": 24,
   "id": "81dc46a2-3c23-4cd6-8586-fa8da780c4ca",
   "metadata": {},
   "outputs": [
    {
     "data": {
      "text/plain": [
       "<AxesSubplot:>"
      ]
     },
     "execution_count": 24,
     "metadata": {},
     "output_type": "execute_result"
    },
    {
     "data": {
      "image/png": "[encoded data removed]",
      "text/plain": [
       "<Figure size 720x216 with 1 Axes>"
      ]
     },
     "metadata": {
      "needs_background": "light"
     },
     "output_type": "display_data"
    }
   ],
   "source": [
    "NOx_colors=['deeppink']\n",
    "NOx.plot(kind='bar', stacked=True,color=NOx_colors,rot=0, figsize=(10, 3))"
   ]
  },
  {
   "cell_type": "code",
   "execution_count": 25,
   "id": "1262056d-673a-4d79-b9c7-60b808655db0",
   "metadata": {},
   "outputs": [
    {
     "data": {
      "text/html": [
       "<div>\n",
       "<style scoped>\n",
       "    .dataframe tbody tr th:only-of-type {\n",
       "        vertical-align: middle;\n",
       "    }\n",
       "\n",
       "    .dataframe tbody tr th {\n",
       "        vertical-align: top;\n",
       "    }\n",
       "\n",
       "    .dataframe thead th {\n",
       "        text-align: right;\n",
       "    }\n",
       "</style>\n",
       "<table border=\"1\" class=\"dataframe\">\n",
       "  <thead>\n",
       "    <tr style=\"text-align: right;\">\n",
       "      <th></th>\n",
       "      <th>section 2 (bottleneck)</th>\n",
       "    </tr>\n",
       "  </thead>\n",
       "  <tbody>\n",
       "    <tr>\n",
       "      <th>strategy 1 \\n T$_s$=2.15 m \\n V$_s$=1.4 m/s</th>\n",
       "      <td>19.775277</td>\n",
       "    </tr>\n",
       "    <tr>\n",
       "      <th>strategy 2 \\n T$_s$=2.10 m \\n V$_s$=2.0 m/s</th>\n",
       "      <td>13.902501</td>\n",
       "    </tr>\n",
       "    <tr>\n",
       "      <th>strategy 3 \\n T$_s$=2.05 m \\n V$_s$=2.5 m/s</th>\n",
       "      <td>11.285052</td>\n",
       "    </tr>\n",
       "    <tr>\n",
       "      <th>strategy 4 \\n T$_s$=2.00 m \\n V$_s$=2.9 m/s</th>\n",
       "      <td>9.715387</td>\n",
       "    </tr>\n",
       "    <tr>\n",
       "      <th>strategy 5 \\n T$_s$=1.95 m \\n V$_s$=3.2 m/s</th>\n",
       "      <td>8.637743</td>\n",
       "    </tr>\n",
       "    <tr>\n",
       "      <th>strategy 6 \\n T$_s$=1.90 m \\n V$_s$=3.5 m/s</th>\n",
       "      <td>7.837422</td>\n",
       "    </tr>\n",
       "    <tr>\n",
       "      <th>strategy 7 \\n T$_s$=1.85 m \\n V$_s$=3.8 m/s</th>\n",
       "      <td>7.211583</td>\n",
       "    </tr>\n",
       "  </tbody>\n",
       "</table>\n",
       "</div>"
      ],
      "text/plain": [
       "                                             section 2 (bottleneck)\n",
       "strategy 1 \\n T$_s$=2.15 m \\n V$_s$=1.4 m/s               19.775277\n",
       "strategy 2 \\n T$_s$=2.10 m \\n V$_s$=2.0 m/s               13.902501\n",
       "strategy 3 \\n T$_s$=2.05 m \\n V$_s$=2.5 m/s               11.285052\n",
       "strategy 4 \\n T$_s$=2.00 m \\n V$_s$=2.9 m/s                9.715387\n",
       "strategy 5 \\n T$_s$=1.95 m \\n V$_s$=3.2 m/s                8.637743\n",
       "strategy 6 \\n T$_s$=1.90 m \\n V$_s$=3.5 m/s                7.837422\n",
       "strategy 7 \\n T$_s$=1.85 m \\n V$_s$=3.8 m/s                7.211583"
      ]
     },
     "execution_count": 25,
     "metadata": {},
     "output_type": "execute_result"
    }
   ],
   "source": [
    "duration=df_plot[['T_strategy = 2.15 v_computed = 1.4 duration_hrs_bottleneck',\n",
    "              'T_strategy = 2.1 v_computed = 2.0 duration_hrs_bottleneck',\n",
    "              'T_strategy = 2.05 v_computed = 2.46 duration_hrs_bottleneck', \n",
    "              'T_strategy = 2.0 v_computed = 2.86 duration_hrs_bottleneck',\n",
    "              'T_strategy = 1.95 v_computed = 3.22 duration_hrs_bottleneck',\n",
    "              'T_strategy = 1.9 v_computed = 3.54 duration_hrs_bottleneck',\n",
    "              'T_strategy = 1.85 v_computed = 3.85 duration_hrs_bottleneck']].T\n",
    "\n",
    "duration.index=['strategy 1 \\n T$_s$=2.15 m \\n V$_s$=1.4 m/s', \n",
    "            'strategy 2 \\n T$_s$=2.10 m \\n V$_s$=2.0 m/s',\n",
    "            'strategy 3 \\n T$_s$=2.05 m \\n V$_s$=2.5 m/s',\n",
    "            'strategy 4 \\n T$_s$=2.00 m \\n V$_s$=2.9 m/s',\n",
    "            'strategy 5 \\n T$_s$=1.95 m \\n V$_s$=3.2 m/s',\n",
    "            'strategy 6 \\n T$_s$=1.90 m \\n V$_s$=3.5 m/s',\n",
    "            'strategy 7 \\n T$_s$=1.85 m \\n V$_s$=3.8 m/s',]\n",
    "\n",
    "duration.columns =['section 2 (bottleneck)']\n",
    "duration.head(7)"
   ]
  },
  {
   "cell_type": "code",
   "execution_count": 26,
   "id": "9bda5399-39f9-429b-9b5a-eae83b3dcb13",
   "metadata": {},
   "outputs": [
    {
     "data": {
      "text/plain": [
       "<AxesSubplot:>"
      ]
     },
     "execution_count": 26,
     "metadata": {},
     "output_type": "execute_result"
    },
    {
     "data": {
      "image/png": "[encoded data removed]",
      "text/plain": [
       "<Figure size 720x216 with 1 Axes>"
      ]
     },
     "metadata": {
      "needs_background": "light"
     },
     "output_type": "display_data"
    }
   ],
   "source": [
    "duration_colors=['mediumpurple']\n",
    "duration.plot(kind='bar', stacked=True,color=duration_colors,rot=0, figsize=(10, 3))"
   ]
  },
  {
   "cell_type": "code",
   "execution_count": 27,
   "id": "4bd8be3a-4835-4613-bc3c-56893dd7d1c1",
   "metadata": {},
   "outputs": [
    {
     "data": {
      "text/html": [
       "<div>\n",
       "<style scoped>\n",
       "    .dataframe tbody tr th:only-of-type {\n",
       "        vertical-align: middle;\n",
       "    }\n",
       "\n",
       "    .dataframe tbody tr th {\n",
       "        vertical-align: top;\n",
       "    }\n",
       "\n",
       "    .dataframe thead th {\n",
       "        text-align: right;\n",
       "    }\n",
       "</style>\n",
       "<table border=\"1\" class=\"dataframe\">\n",
       "  <thead>\n",
       "    <tr style=\"text-align: right;\">\n",
       "      <th></th>\n",
       "      <th>section 2 (bottleneck)</th>\n",
       "    </tr>\n",
       "  </thead>\n",
       "  <tbody>\n",
       "    <tr>\n",
       "      <th>strategy 1 \\n T$_s$=2.15 m \\n V$_s$=1.4 m/s</th>\n",
       "      <td>0.05</td>\n",
       "    </tr>\n",
       "    <tr>\n",
       "      <th>strategy 2 \\n T$_s$=2.10 m \\n V$_s$=2.0 m/s</th>\n",
       "      <td>0.10</td>\n",
       "    </tr>\n",
       "    <tr>\n",
       "      <th>strategy 3 \\n T$_s$=2.05 m \\n V$_s$=2.5 m/s</th>\n",
       "      <td>0.15</td>\n",
       "    </tr>\n",
       "    <tr>\n",
       "      <th>strategy 4 \\n T$_s$=2.00 m \\n V$_s$=2.9 m/s</th>\n",
       "      <td>0.20</td>\n",
       "    </tr>\n",
       "    <tr>\n",
       "      <th>strategy 5 \\n T$_s$=1.95 m \\n V$_s$=3.2 m/s</th>\n",
       "      <td>0.25</td>\n",
       "    </tr>\n",
       "    <tr>\n",
       "      <th>strategy 6 \\n T$_s$=1.90 m \\n V$_s$=3.5 m/s</th>\n",
       "      <td>0.30</td>\n",
       "    </tr>\n",
       "    <tr>\n",
       "      <th>strategy 7 \\n T$_s$=1.85 m \\n V$_s$=3.8 m/s</th>\n",
       "      <td>0.35</td>\n",
       "    </tr>\n",
       "  </tbody>\n",
       "</table>\n",
       "</div>"
      ],
      "text/plain": [
       "                                             section 2 (bottleneck)\n",
       "strategy 1 \\n T$_s$=2.15 m \\n V$_s$=1.4 m/s                    0.05\n",
       "strategy 2 \\n T$_s$=2.10 m \\n V$_s$=2.0 m/s                    0.10\n",
       "strategy 3 \\n T$_s$=2.05 m \\n V$_s$=2.5 m/s                    0.15\n",
       "strategy 4 \\n T$_s$=2.00 m \\n V$_s$=2.9 m/s                    0.20\n",
       "strategy 5 \\n T$_s$=1.95 m \\n V$_s$=3.2 m/s                    0.25\n",
       "strategy 6 \\n T$_s$=1.90 m \\n V$_s$=3.5 m/s                    0.30\n",
       "strategy 7 \\n T$_s$=1.85 m \\n V$_s$=3.8 m/s                    0.35"
      ]
     },
     "execution_count": 27,
     "metadata": {},
     "output_type": "execute_result"
    }
   ],
   "source": [
    "sinkage_max=df_plot[['T_strategy = 2.15 v_computed = 1.4 sinkage_max_m_bottleneck',\n",
    "              'T_strategy = 2.1 v_computed = 2.0 sinkage_max_m_bottleneck',\n",
    "              'T_strategy = 2.05 v_computed = 2.46 sinkage_max_m_bottleneck', \n",
    "              'T_strategy = 2.0 v_computed = 2.86 sinkage_max_m_bottleneck',\n",
    "              'T_strategy = 1.95 v_computed = 3.22 sinkage_max_m_bottleneck',\n",
    "              'T_strategy = 1.9 v_computed = 3.54 sinkage_max_m_bottleneck',\n",
    "              'T_strategy = 1.85 v_computed = 3.85 sinkage_max_m_bottleneck']].T\n",
    "\n",
    "sinkage_max.index=['strategy 1 \\n T$_s$=2.15 m \\n V$_s$=1.4 m/s', \n",
    "            'strategy 2 \\n T$_s$=2.10 m \\n V$_s$=2.0 m/s',\n",
    "            'strategy 3 \\n T$_s$=2.05 m \\n V$_s$=2.5 m/s',\n",
    "            'strategy 4 \\n T$_s$=2.00 m \\n V$_s$=2.9 m/s',\n",
    "            'strategy 5 \\n T$_s$=1.95 m \\n V$_s$=3.2 m/s',\n",
    "            'strategy 6 \\n T$_s$=1.90 m \\n V$_s$=3.5 m/s',\n",
    "            'strategy 7 \\n T$_s$=1.85 m \\n V$_s$=3.8 m/s',]\n",
    "\n",
    "sinkage_max.columns =['section 2 (bottleneck)']\n",
    "sinkage_max.head(7)"
   ]
  },
  {
   "cell_type": "code",
   "execution_count": 28,
   "id": "f2103089-e711-4d54-9558-2e7d9ae5b13d",
   "metadata": {},
   "outputs": [
    {
     "data": {
      "text/plain": [
       "<AxesSubplot:>"
      ]
     },
     "execution_count": 28,
     "metadata": {},
     "output_type": "execute_result"
    },
    {
     "data": {
      "image/png": "[encoded data removed]",
      "text/plain": [
       "<Figure size 720x216 with 1 Axes>"
      ]
     },
     "metadata": {
      "needs_background": "light"
     },
     "output_type": "display_data"
    }
   ],
   "source": [
    "sinkage_max_colors=['tomato']\n",
    "sinkage_max.plot(kind='bar', stacked=True,color=sinkage_max_colors,rot=0, figsize=(10, 3))"
   ]
  },
  {
   "cell_type": "code",
   "execution_count": 29,
   "id": "cfa11303-b454-4f30-b455-3876e2f37c59",
   "metadata": {},
   "outputs": [
    {
     "data": {
      "text/html": [
       "<div>\n",
       "<style scoped>\n",
       "    .dataframe tbody tr th:only-of-type {\n",
       "        vertical-align: middle;\n",
       "    }\n",
       "\n",
       "    .dataframe tbody tr th {\n",
       "        vertical-align: top;\n",
       "    }\n",
       "\n",
       "    .dataframe thead th {\n",
       "        text-align: right;\n",
       "    }\n",
       "</style>\n",
       "<table border=\"1\" class=\"dataframe\">\n",
       "  <thead>\n",
       "    <tr style=\"text-align: right;\">\n",
       "      <th></th>\n",
       "      <th>section 2 (bottleneck)</th>\n",
       "    </tr>\n",
       "  </thead>\n",
       "  <tbody>\n",
       "    <tr>\n",
       "      <th>strategy 1 \\n T$_s$=2.15 m \\n V$_s$=1.4 m/s</th>\n",
       "      <td>0.3</td>\n",
       "    </tr>\n",
       "    <tr>\n",
       "      <th>strategy 2 \\n T$_s$=2.10 m \\n V$_s$=2.0 m/s</th>\n",
       "      <td>0.3</td>\n",
       "    </tr>\n",
       "    <tr>\n",
       "      <th>strategy 3 \\n T$_s$=2.05 m \\n V$_s$=2.5 m/s</th>\n",
       "      <td>0.3</td>\n",
       "    </tr>\n",
       "    <tr>\n",
       "      <th>strategy 4 \\n T$_s$=2.00 m \\n V$_s$=2.9 m/s</th>\n",
       "      <td>0.3</td>\n",
       "    </tr>\n",
       "    <tr>\n",
       "      <th>strategy 5 \\n T$_s$=1.95 m \\n V$_s$=3.2 m/s</th>\n",
       "      <td>0.3</td>\n",
       "    </tr>\n",
       "    <tr>\n",
       "      <th>strategy 6 \\n T$_s$=1.90 m \\n V$_s$=3.5 m/s</th>\n",
       "      <td>0.3</td>\n",
       "    </tr>\n",
       "    <tr>\n",
       "      <th>strategy 7 \\n T$_s$=1.85 m \\n V$_s$=3.8 m/s</th>\n",
       "      <td>0.3</td>\n",
       "    </tr>\n",
       "  </tbody>\n",
       "</table>\n",
       "</div>"
      ],
      "text/plain": [
       "                                             section 2 (bottleneck)\n",
       "strategy 1 \\n T$_s$=2.15 m \\n V$_s$=1.4 m/s                     0.3\n",
       "strategy 2 \\n T$_s$=2.10 m \\n V$_s$=2.0 m/s                     0.3\n",
       "strategy 3 \\n T$_s$=2.05 m \\n V$_s$=2.5 m/s                     0.3\n",
       "strategy 4 \\n T$_s$=2.00 m \\n V$_s$=2.9 m/s                     0.3\n",
       "strategy 5 \\n T$_s$=1.95 m \\n V$_s$=3.2 m/s                     0.3\n",
       "strategy 6 \\n T$_s$=1.90 m \\n V$_s$=3.5 m/s                     0.3\n",
       "strategy 7 \\n T$_s$=1.85 m \\n V$_s$=3.8 m/s                     0.3"
      ]
     },
     "execution_count": 29,
     "metadata": {},
     "output_type": "execute_result"
    }
   ],
   "source": [
    "dynamic_ukc=df_plot[['T_strategy = 2.15 v_computed = 1.4 dynamic_ukc_m_bottleneck',\n",
    "              'T_strategy = 2.1 v_computed = 2.0 dynamic_ukc_m_bottleneck',\n",
    "              'T_strategy = 2.05 v_computed = 2.46 dynamic_ukc_m_bottleneck', \n",
    "              'T_strategy = 2.0 v_computed = 2.86 dynamic_ukc_m_bottleneck',\n",
    "              'T_strategy = 1.95 v_computed = 3.22 dynamic_ukc_m_bottleneck',\n",
    "              'T_strategy = 1.9 v_computed = 3.54 dynamic_ukc_m_bottleneck',\n",
    "              'T_strategy = 1.85 v_computed = 3.85 dynamic_ukc_m_bottleneck']].T\n",
    "\n",
    "dynamic_ukc.index=['strategy 1 \\n T$_s$=2.15 m \\n V$_s$=1.4 m/s', \n",
    "            'strategy 2 \\n T$_s$=2.10 m \\n V$_s$=2.0 m/s',\n",
    "            'strategy 3 \\n T$_s$=2.05 m \\n V$_s$=2.5 m/s',\n",
    "            'strategy 4 \\n T$_s$=2.00 m \\n V$_s$=2.9 m/s',\n",
    "            'strategy 5 \\n T$_s$=1.95 m \\n V$_s$=3.2 m/s',\n",
    "            'strategy 6 \\n T$_s$=1.90 m \\n V$_s$=3.5 m/s',\n",
    "            'strategy 7 \\n T$_s$=1.85 m \\n V$_s$=3.8 m/s',]\n",
    "\n",
    "dynamic_ukc.columns =['section 2 (bottleneck)']\n",
    "dynamic_ukc.head(7)"
   ]
  },
  {
   "cell_type": "code",
   "execution_count": 30,
   "id": "e1f6c140-cf9f-473d-a305-0fa4fbc429ad",
   "metadata": {},
   "outputs": [
    {
     "data": {
      "text/plain": [
       "<AxesSubplot:>"
      ]
     },
     "execution_count": 30,
     "metadata": {},
     "output_type": "execute_result"
    },
    {
     "data": {
      "image/png": "[encoded data removed]",
      "text/plain": [
       "<Figure size 720x216 with 1 Axes>"
      ]
     },
     "metadata": {
      "needs_background": "light"
     },
     "output_type": "display_data"
    }
   ],
   "source": [
    "dynamic_ukc_colors=['deepskyblue']\n",
    "dynamic_ukc.plot(kind='bar', stacked=True,color=dynamic_ukc_colors,rot=0, figsize=(10, 3))"
   ]
  },
  {
   "cell_type": "code",
   "execution_count": 36,
   "id": "3b27dcc0-4fb7-49d4-8e82-6c0cb835a76b",
   "metadata": {},
   "outputs": [
    {
     "data": {
      "image/png": "[encoded data removed]",
      "text/plain": [
       "<Figure size 720x1512 with 7 Axes>"
      ]
     },
     "metadata": {
      "needs_background": "light"
     },
     "output_type": "display_data"
    }
   ],
   "source": [
    "fig, axes = plt.subplots(nrows=7, ncols=1,figsize=(10, 21),sharex=True)\n",
    "fuel.plot(ax=axes[0],kind='bar', stacked=True,color=fuel_colors,rot=0)\n",
    "\n",
    "plt.yticks(weight = 'bold', fontsize=12)\n",
    "\n",
    "axes[0].set_ylim(0, 3000)\n",
    "axes[0].set_ylabel('Total fuel use \\n (kg)',fontsize=12,fontweight='bold',labelpad=12)\n",
    "axes[0].annotate('(a)', xy=(6, 3000*7/8), fontsize=12,weight = 'bold')\n",
    "axes[0].set_yticklabels(axes[0].get_yticks(), size=12,weight = 'bold')  \n",
    "axes[0].legend(loc='upper left')\n",
    "axes[0].set_title('M8 vessel: L$_s$ = 110 m, B$_s$ = 11.40 m, h$_0$ = 2.5 m')\n",
    "\n",
    "CO2.plot(ax=axes[1],kind='bar', stacked=True,color=CO2_colors,rot=0)\n",
    "axes[1].set_ylim(0, 9000)\n",
    "axes[1].set_ylabel('Total CO2 emission \\n (kg)',fontsize=12,fontweight='bold',labelpad=3)\n",
    "axes[1].set_yticklabels(axes[1].get_yticks(), size=12,weight = 'bold')  \n",
    "axes[1].annotate('(b)', xy=(6, 9000*7/8), fontsize=12,weight = 'bold')\n",
    "axes[1].legend(loc='upper left')\n",
    "\n",
    "PM10.plot(ax=axes[2],kind='bar', stacked=True,color=PM10_colors,rot=0)\n",
    "axes[2].set_ylim(0, 5)\n",
    "axes[2].set_ylabel('Total PM10 emission \\n (kg)',fontsize=12,fontweight='bold',labelpad=27)\n",
    "axes[2].annotate('(c)', xy=(6, 5*7/8), fontsize=12,weight = 'bold')\n",
    "axes[2].set_yticklabels(axes[2].get_yticks(), size=12,weight = 'bold')  \n",
    "axes[2].legend(loc='upper left')\n",
    "\n",
    "NOx.plot(ax=axes[3],kind='bar', stacked=True,color=NOx_colors,rot=0)\n",
    "axes[3].set_ylim(0, 120)\n",
    "axes[3].set_ylabel('Total NOx emission \\n (kg)',fontsize=12,fontweight='bold',labelpad=20)  \n",
    "axes[3].set_yticklabels(axes[3].get_yticks(), size=12,weight = 'bold')  \n",
    "axes[3].annotate('(d)', xy=(6, 120*7/8), fontsize=12,weight = 'bold')\n",
    "axes[3].legend(loc='upper left')\n",
    "\n",
    "\n",
    "duration.plot(ax=axes[4],kind='bar', stacked=True,color=duration_colors,rot=0)\n",
    "axes[4].set_ylim(0, 25)\n",
    "axes[4].set_ylabel('duration \\n (hours)',fontsize=12,fontweight='bold',labelpad=20)  \n",
    "axes[4].set_yticklabels(axes[4].get_yticks(), size=12,weight = 'bold')  \n",
    "axes[4].annotate('(e)', xy=(6, 25*7/8), fontsize=12,weight = 'bold')\n",
    "axes[4].legend(loc='upper left')\n",
    "\n",
    "sinkage_max.plot(ax=axes[5],kind='bar', stacked=True,color=sinkage_max_colors,rot=0)\n",
    "axes[5].set_ylim(0, 0.6)\n",
    "axes[5].set_ylabel('maximum sinkage \\n (m)',fontsize=12,fontweight='bold',labelpad=20)  \n",
    "axes[5].set_yticklabels(axes[5].get_yticks(), size=12,weight = 'bold')  \n",
    "axes[5].annotate('(f)', xy=(6, 0.6*7/8), fontsize=12,weight = 'bold')\n",
    "axes[5].legend(loc='upper left')\n",
    "\n",
    "dynamic_ukc.plot(ax=axes[6],kind='bar', stacked=True,color=dynamic_ukc_colors,rot=0)\n",
    "axes[6].set_ylim(0, 0.6)\n",
    "axes[6].set_ylabel('dynamic ukc \\n (m)',fontsize=12,fontweight='bold',labelpad=20)  \n",
    "axes[6].set_yticklabels(axes[6].get_yticks(), size=12,weight = 'bold')  \n",
    "axes[6].annotate('(g)', xy=(6, 0.6*7/8), fontsize=12,weight = 'bold')\n",
    "axes[6].legend(loc='upper left')\n",
    "\n",
    "\n",
    "\n",
    "plt.xticks( weight = 'bold', fontsize=12)\n",
    "\n",
    "plt.savefig('Strategies for passing bottleneck.pdf',bbox_inches = 'tight', dpi=600, format='pdf')  \n",
    "plt.show()"
   ]
  },
  {
   "cell_type": "code",
   "execution_count": null,
   "id": "6c3477ee-6d83-415b-8770-804ad8691308",
   "metadata": {},
   "outputs": [],
   "source": []
  },
  {
   "cell_type": "code",
   "execution_count": 32,
   "id": "fd6aadde-3881-433d-be3d-35ff5756a3b8",
   "metadata": {
    "tags": []
   },
   "outputs": [
    {
     "ename": "SyntaxError",
     "evalue": "invalid syntax (1215465794.py, line 1)",
     "output_type": "error",
     "traceback": [
      "\u001b[1;36m  Input \u001b[1;32mIn [32]\u001b[1;36m\u001b[0m\n\u001b[1;33m    use dataframe as input run simulation and plot multi-figure sets with strategies, refer to figure 3 5 7 8 9 notebook\u001b[0m\n\u001b[1;37m        ^\u001b[0m\n\u001b[1;31mSyntaxError\u001b[0m\u001b[1;31m:\u001b[0m invalid syntax\n"
     ]
    }
   ],
   "source": [
    "use dataframe as input run simulation and plot multi-figure sets with strategies, refer to figure 3 5 7 8 9 notebook"
   ]
  },
  {
   "cell_type": "code",
   "execution_count": null,
   "id": "a3a4fcd8-bf22-4fd1-b75d-75247ee456cd",
   "metadata": {},
   "outputs": [],
   "source": [
    "do the same to fig 10, 11,13,14,15"
   ]
  },
  {
   "cell_type": "code",
   "execution_count": null,
   "id": "c1d4dce8-482a-47a2-96ad-bc05588e1aa2",
   "metadata": {},
   "outputs": [],
   "source": [
    "will also influence 3 5 7 8 9, due to v, h_0 variation"
   ]
  }
 ],
 "metadata": {
  "kernelspec": {
   "display_name": "Python 3 (ipykernel)",
   "language": "python",
   "name": "python3"
  },
  "language_info": {
   "codemirror_mode": {
    "name": "ipython",
    "version": 3
   },
   "file_extension": ".py",
   "mimetype": "text/x-python",
   "name": "python",
   "nbconvert_exporter": "python",
   "pygments_lexer": "ipython3",
   "version": "3.9.10"
  }
 },
 "nbformat": 4,
 "nbformat_minor": 5
}
