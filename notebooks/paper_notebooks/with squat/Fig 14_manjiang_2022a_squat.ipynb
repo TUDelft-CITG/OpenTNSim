{
 "cells": [
  {
   "cell_type": "markdown",
   "id": "8415eddf",
   "metadata": {},
   "source": [
    "####     From this notebook we get:\n",
    "        \"Figure 14: Fuel consumption and emissions with and without current influence for deep (6 m) and shallow (2.5 m) \n",
    "        water depth \".\n",
    "####    General steps:\n",
    "        -First we create and run the basic simulation of the ship sailing on the waterway.\n",
    "        -Next we add current influence into the simulation.\n",
    "        -Then we plot the figure based on the results of the fuel consumption and emissions from the simulation."
   ]
  },
  {
   "cell_type": "markdown",
   "id": "036ecf0b",
   "metadata": {},
   "source": [
    "## Basic simulation - consumes energy-van Dosser actual draught & payload\n",
    "We are going to make a simulation which forces a vessel to move over a certain 1D waterway network. It tries to give one an understanding of the most basic core functions of OpenTNSim and teach one the requirements to set-up a basic OpenTNSim model run. \n",
    "\n",
    "We add some properties to the graph (depth) and the vessel (VesselProperties, ConsumesEnergy) in order to calculate resistance, required power, "
   ]
  },
  {
   "cell_type": "markdown",
   "id": "9e12bfde",
   "metadata": {},
   "source": [
    "### Imports\n",
    "Import the required libraries"
   ]
  },
  {
   "cell_type": "code",
   "execution_count": 1,
   "id": "d4e73aa6",
   "metadata": {},
   "outputs": [],
   "source": [
    "# package(s) related to time, space and id\n",
    "import datetime, time\n",
    "import platform\n",
    "\n",
    "# you need these dependencies (you can get these from anaconda)\n",
    "# package(s) related to the simulation\n",
    "import simpy\n",
    "import pandas as pd\n",
    "\n",
    "# spatial libraries \n",
    "import pyproj\n",
    "import shapely.geometry\n",
    "from simplekml import Kml, Style\n",
    "\n",
    "# package(s) for data handling\n",
    "import numpy as np\n",
    "import matplotlib.pyplot as plt\n",
    "\n",
    "# OpenTNSim\n",
    "import opentnsim\n",
    "\n",
    "# Used for mathematical functions\n",
    "import math             \n",
    "\n",
    "# Used for making the graph to visualize our problem\n",
    "import networkx as nx   \n",
    "\n",
    "import logging\n",
    "# turn on debug messages\n",
    "# logging.basicConfig(level=logging.DEBUG)\n",
    "# turn off debug messages\n",
    "logging.basicConfig(level=logging.INFO)"
   ]
  },
  {
   "cell_type": "markdown",
   "id": "50a15fcc",
   "metadata": {},
   "source": [
    "### Create graph\n",
    "We first need to create a 1D network (a graph) along which the vessel will move. A graph contains edges (blue dots in plot below) and vertices (black lines in plot below). For this example, we will construct a network consisting of 4 nodes in a straight line. Since we would like to have two-way traffic, we add two edges between each pair of nodes: one from left to right, and another the other way around (however, we could easily apply one-way traffic as well by remove one of the two edges). Consequently, we arrive at a total of 4 nodes, and 6 edges.\n",
    "\n",
    "Due to the nature of discrete modelling in which the time step is dependent on the activities (in this example: forcing a ship to move from node to node from its origin to its destination), it is important to add OpenTNSim mix-ins to the nodes in such a way we could identify the node (mix-in Identifiable, which imports a name and imports/creates an ID), and to locate the node (mix-in Locatable, which gives the node a geometry).\n"
   ]
  },
  {
   "cell_type": "code",
   "execution_count": 2,
   "id": "d5683a95",
   "metadata": {},
   "outputs": [
    {
     "data": {
      "image/png": "[encoded data removed]",
      "text/plain": [
       "<Figure size 432x288 with 1 Axes>"
      ]
     },
     "metadata": {},
     "output_type": "display_data"
    }
   ],
   "source": [
    "FG = nx.DiGraph()\n",
    "nodes = []\n",
    "path = []\n",
    "\n",
    "Node = type('Site', (opentnsim.core.Identifiable, opentnsim.core.Locatable), {})\n",
    "\n",
    "data_node_1 = {\"name\": \"Node 1\",\n",
    "               \"geometry\": shapely.geometry.Point(0, 0)}\n",
    "data_node_2 = {\"name\": \"Node 2\",\n",
    "               \"geometry\": shapely.geometry.Point(0.8983, 0)}  # 0.8983 degree =100km\n",
    "data_node_3 = {\"name\": \"Node 3\",\n",
    "               \"geometry\": shapely.geometry.Point(1.7966, 0)}   # 1.7966 degree =200km\n",
    "data_node_4 = {\"name\": \"Node 4\",\n",
    "               \"geometry\": shapely.geometry.Point(2.6949, 0)}    # 2.6949 degree =300km\n",
    "\n",
    "node_1 = Node(**data_node_1)\n",
    "node_2 = Node(**data_node_2)\n",
    "node_3 = Node(**data_node_3)\n",
    "node_4 = Node(**data_node_4)\n",
    "\n",
    "nodes = [node_1, node_2, node_3, node_4]\n",
    "\n",
    "positions = {}\n",
    "for node in nodes:\n",
    "    positions[node.name] = (node.geometry.x, node.geometry.y)\n",
    "    FG.add_node(node.name, geometry = node.geometry)\n",
    "\n",
    "path = [[node_1, node_2], # From node 1 to node 2\n",
    "        [node_2, node_3], # From node 2 to node 3\n",
    "        [node_3, node_4], # From node 3 to node 4\n",
    "        [node_4, node_3], # From node 4 to node 3\n",
    "        [node_3, node_2], # From node 3 to node 2\n",
    "        [node_2, node_1]] # From node 2 to node 1\n",
    "\n",
    "for edge in path:\n",
    "    # For the energy consumption calculation we add info to the graph. We need depth info for resistance.\n",
    "    # NB: the CalculateEnergy routine expects the graph to have \"Info\" that contains \"GeneralDepth\" \n",
    "    #     this may not be very generic!\n",
    "    FG.add_edge(edge[0].name, edge[1].name, weight = 1, Info = {\"GeneralDepth\": 6})\n",
    "    \n",
    "middle_edges = [\n",
    "    (node_2.name, node_3.name),\n",
    "    (node_3.name, node_2.name)\n",
    "]\n",
    "\n",
    "for e in middle_edges:\n",
    "    edge = FG.edges[e]\n",
    "    edge['Info']['GeneralDepth'] = 2.5\n",
    "    \n",
    "# env.FG = FG\n",
    "nx.draw(FG, positions)\n",
    "plt.show()"
   ]
  },
  {
   "cell_type": "code",
   "execution_count": 3,
   "id": "3a375d91",
   "metadata": {},
   "outputs": [
    {
     "name": "stdout",
     "output_type": "stream",
     "text": [
      "General depth for edge ('Node 1', 'Node 2') is 6\n",
      "General depth for edge ('Node 2', 'Node 3') is 2.5\n",
      "General depth for edge ('Node 2', 'Node 1') is 6\n",
      "General depth for edge ('Node 3', 'Node 4') is 6\n",
      "General depth for edge ('Node 3', 'Node 2') is 2.5\n",
      "General depth for edge ('Node 4', 'Node 3') is 6\n"
     ]
    }
   ],
   "source": [
    "# This cell just shows that now a depth of 10 m is added to the edges. \n",
    "# You can use this to vary depths, e.g. make the middle edge shallower. Note that edges are bi-directional \n",
    "for edge in FG.edges:\n",
    "    print('General depth for edge {} is {}'.format(edge, FG.get_edge_data(edge[0], edge[1])[\"Info\"][\"GeneralDepth\"]))"
   ]
  },
  {
   "cell_type": "markdown",
   "id": "35391829",
   "metadata": {},
   "source": [
    "### Create vessel - add VesselProperties and ConsumesEnergy mixins\n",
    "The following mix-ins are required for each vessel in our problem: Identifiable (gives the vessel a name and a random ID), Movable (gives that the object (*vessel*) can move with a fixed speed and logs this activity, it requires input for the following mix-ins: Locatable, Routeable, and Log), and Routable (gives the object a route). We now modify our original vessel from the basic example and include vessel properties (like width, length, etc.) and a mixin that is needed to calculate resistance and energy consumption. "
   ]
  },
  {
   "cell_type": "code",
   "execution_count": 4,
   "id": "aa92d0e3",
   "metadata": {},
   "outputs": [],
   "source": [
    "# Make your preferred class out of available mix-ins.\n",
    "TransportResource = type(\n",
    "    \"Vessel\",\n",
    "    (\n",
    "        opentnsim.core.Identifiable,\n",
    "        opentnsim.core.Movable,\n",
    "        opentnsim.core.Routeable,\n",
    "        opentnsim.core.VesselProperties,  # needed to add vessel properties\n",
    "        opentnsim.core.ConsumesEnergy,\n",
    "        opentnsim.core.ExtraMetadata,\n",
    "    ),\n",
    "    {},\n",
    ")  # needed to calculate resistances"
   ]
  },
  {
   "cell_type": "code",
   "execution_count": 5,
   "id": "59be2e54",
   "metadata": {},
   "outputs": [
    {
     "name": "stdout",
     "output_type": "stream",
     "text": [
      "parameters not used {}\n"
     ]
    }
   ],
   "source": [
    "# Create a dict with all important settings\n",
    "data_vessel = {\"env\": None,\n",
    "               \"name\": None,\n",
    "               \"route\": None,\n",
    "               \"geometry\": None,\n",
    "               \"v\":None,  # m/s\n",
    "               \"type\": None,\n",
    "               \"B\": 11.4,\n",
    "               \"L\": 110,\n",
    "               \"H_e\": None, \n",
    "               \"H_e\": None, \n",
    "               \"H_f\": None, \n",
    "               \"T\":2.1,\n",
    "               \"safety_margin\": 0.3, # for tanker vessel with rocky bed the safety margin is recommended as 0.3 m\n",
    "               \"h_squat\":None,  \n",
    "               \"P_installed\":1750.0,   \n",
    "               \"P_tot_given\": None, # kW\n",
    "               \"L_w\": 3.0 ,\n",
    "               \"C_B\":0.85, \n",
    "               \"C_year\":1990,\n",
    "               \"current_year\":None\n",
    "              }               \n",
    "\n",
    "vessel = TransportResource(**data_vessel)\n",
    "print('parameters not used', vessel.metadata)\n"
   ]
  },
  {
   "cell_type": "markdown",
   "id": "1d7abf4c",
   "metadata": {},
   "source": [
    "### Define paths\n",
    "We are going to create a simulation in which a vessel moves from *Node 1* to *Node 4*. Therefore, we need to create a vessel to which we will need to append this paths. Therefore, first let's create the path."
   ]
  },
  {
   "cell_type": "code",
   "execution_count": 6,
   "id": "088664b6",
   "metadata": {},
   "outputs": [],
   "source": [
    "path = nx.dijkstra_path(FG, node_1.name, node_4.name)"
   ]
  },
  {
   "cell_type": "markdown",
   "id": "23ceac15",
   "metadata": {},
   "source": [
    "### Run simulation\n",
    "Now we can define the run. First, we make an environment and add the graph to the environment. Then we add one vessel, to which we will append the environment and the above route. Lastly, we give the vessel the process of moving from the origin to the destination of the defined path and subsequently run the model."
   ]
  },
  {
   "cell_type": "code",
   "execution_count": 7,
   "id": "adb14f50",
   "metadata": {},
   "outputs": [],
   "source": [
    "def run_simulation(V_s, P_tot_given):\n",
    "    \n",
    "    # Start simpy environment\n",
    "    simulation_start = datetime.datetime.now()\n",
    "    env = simpy.Environment(initial_time = time.mktime(simulation_start.timetuple()))\n",
    "    env.epoch = time.mktime(simulation_start.timetuple())\n",
    "\n",
    "    # Add graph to environment\n",
    "    env.FG = FG\n",
    "\n",
    "    # Add environment and path to the vessel\n",
    "    # create a fresh instance of vessel\n",
    "    vessel = TransportResource(**data_vessel)\n",
    "    vessel.env = env                                        #the created environment\n",
    "    vessel.name = 'Vessel No.1'                     \n",
    "    vessel.route = path                                     #the route (the sequence of nodes, as stored as the second column in the path)\n",
    "    vessel.geometry = env.FG.nodes[path[0]]['geometry']     #a shapely.geometry.Point(lon,lat) (here taken as the starting node of the vessel)\n",
    "    vessel.v = V_s\n",
    "    vessel.P_tot_given = P_tot_given\n",
    "\n",
    "    depths = []\n",
    "    for e in zip(vessel.route[:-1], vessel.route[1:]):\n",
    "        edge = env.FG.edges[e]\n",
    "        depth = edge['Info']['GeneralDepth']\n",
    "        depths.append(depth)\n",
    "\n",
    "    for depth in depths:\n",
    "            h_0 = depth\n",
    "            if V_s is None:\n",
    "                v_0 = opentnsim.energy.power2v(vessel, edge, bounds=(0, 10))\n",
    "                h_0 = vessel.calculate_h_squat(v = v_0, h_0 = h_0)\n",
    "            else:    \n",
    "                h_0 = vessel.calculate_h_squat(v = V_s, h_0 = h_0)\n",
    "            print(h_0)    \n",
    "    # Start the simulation\n",
    "    env.process(vessel.move())\n",
    "    env.run()\n",
    "    \n",
    "    return vessel"
   ]
  },
  {
   "cell_type": "code",
   "execution_count": 8,
   "id": "97be5295",
   "metadata": {},
   "outputs": [
    {
     "data": {
      "text/plain": [
       "{'V_s': [3.5], 'P_tot_given': [None]}"
      ]
     },
     "execution_count": 8,
     "metadata": {},
     "output_type": "execute_result"
    }
   ],
   "source": [
    "input_data = {'V_s': [3.5],'P_tot_given': [None]}\n",
    "input_data"
   ]
  },
  {
   "cell_type": "code",
   "execution_count": 9,
   "id": "acff050a",
   "metadata": {},
   "outputs": [
    {
     "name": "stdout",
     "output_type": "stream",
     "text": [
      "5.969506688660685\n",
      "2.438030827944911\n",
      "5.969506688660685\n"
     ]
    }
   ],
   "source": [
    "# loop through the various input data\n",
    "for index, value in enumerate(input_data['V_s']):\n",
    "    \n",
    "    # Run a basic simulation with V_s and P_tot_given combi\n",
    "    vessel = run_simulation(input_data['V_s'][index], input_data['P_tot_given'][index])\n",
    "    \n",
    "    # create an EnergyCalculation object and perform energy consumption calculation\n",
    "    energycalculation = opentnsim.energy.EnergyCalculation(FG, vessel)\n",
    "    energycalculation.calculate_energy_consumption()\n"
   ]
  },
  {
   "cell_type": "code",
   "execution_count": 10,
   "id": "2c5fe8f3",
   "metadata": {},
   "outputs": [
    {
     "name": "stderr",
     "output_type": "stream",
     "text": [
      "C:\\ANACONDA2021\\envs\\sim\\lib\\site-packages\\pandas\\core\\dtypes\\cast.py:122: ShapelyDeprecationWarning:\n",
      "\n",
      "The array interface is deprecated and will no longer work in Shapely 2.0. Convert the '.coords' to a numpy array instead.\n",
      "\n"
     ]
    }
   ],
   "source": [
    "# create dataframe from energy calculation computation\n",
    "df = pd.DataFrame.from_dict(energycalculation.energy_use)\n",
    "      \n",
    "# add current influence\n",
    "# with current speed =0.5m/s\n",
    "U_c=0.5 \n",
    "# delta_t will be longer when upstream, shorter when downstream\n",
    "delta_t_up=df['distance']/(df['distance']/df['delta_t']-U_c)\n",
    "delta_t_down=df['distance']/(df['distance']/df['delta_t']+U_c)\n",
    "# total emission&fuel consumption will be larger when upstream(because of longer delta_t), smaller when downstream(because of shorter delta_t)\n",
    "df['total_fuel_consumption_kg']=df['total_fuel_consumption']/1000 #kg without current\n",
    "df['total_fuel_consumption_up_kg']=df['total_fuel_consumption']/1000 *(delta_t_up/df['delta_t']) #kg\n",
    "df['total_fuel_consumption_down_kg']=df['total_fuel_consumption']/1000 *(delta_t_down/df['delta_t']) #kg\n",
    "df['total_fuel_consumption_round_no_current_kg']=df['total_fuel_consumption']/1000*2 #kg\n",
    "df['total_fuel_consumption_round_current_kg']=df['total_fuel_consumption_up_kg']+df['total_fuel_consumption_down_kg'] #kg\n",
    "df['total_emission_CO2_kg']=df['total_emission_CO2']/1000 #kg without current\n",
    "df['total_emission_CO2_up_kg']=df['total_emission_CO2'] *(delta_t_up/df['delta_t'])/1000 #kg\n",
    "df['total_emission_CO2_down_kg']=df['total_emission_CO2'] *(delta_t_down/df['delta_t'])/1000 #kg\n",
    "df['total_emission_CO2_round_no_current_kg']=df['total_emission_CO2']*2/1000 #kg\n",
    "df['total_emission_CO2_round_current_kg']=df['total_emission_CO2_up_kg']+df['total_emission_CO2_down_kg'] #kg\n",
    "df['total_emission_PM10_kg']=df['total_emission_PM10']/1000 #kg without current\n",
    "df['total_emission_PM10_up_kg']=df['total_emission_PM10'] *(delta_t_up/df['delta_t'])/1000 #kg\n",
    "df['total_emission_PM10_down_kg']=df['total_emission_PM10'] *(delta_t_down/df['delta_t'])/1000 #kg\n",
    "df['total_emission_PM10_round_no_current_kg']=df['total_emission_PM10']*2/1000 #kg\n",
    "df['total_emission_PM10_round_current_kg']=df['total_emission_PM10_up_kg']+df['total_emission_PM10_down_kg'] #kg\n",
    "df['total_emission_NOX_kg']=df['total_emission_NOX']/1000 #kg without current\n",
    "df['total_emission_NOX_up_kg']=df['total_emission_NOX'] *(delta_t_up/df['delta_t'])/1000 #kg\n",
    "df['total_emission_NOX_down_kg']=df['total_emission_NOX'] *(delta_t_down/df['delta_t'])/1000 #kg\n",
    "df['total_emission_NOX_round_no_current_kg']=df['total_emission_NOX']*2/1000 #kg\n",
    "df['total_emission_NOX_round_current_kg']=df['total_emission_NOX_up_kg']+df['total_emission_NOX_down_kg'] #kg\n",
    "    "
   ]
  },
  {
   "cell_type": "code",
   "execution_count": 11,
   "id": "90cb6f34",
   "metadata": {},
   "outputs": [
    {
     "data": {
      "text/html": [
       "<div>\n",
       "<style scoped>\n",
       "    .dataframe tbody tr th:only-of-type {\n",
       "        vertical-align: middle;\n",
       "    }\n",
       "\n",
       "    .dataframe tbody tr th {\n",
       "        vertical-align: top;\n",
       "    }\n",
       "\n",
       "    .dataframe thead th {\n",
       "        text-align: right;\n",
       "    }\n",
       "</style>\n",
       "<table border=\"1\" class=\"dataframe\">\n",
       "  <thead>\n",
       "    <tr style=\"text-align: right;\">\n",
       "      <th></th>\n",
       "      <th>section 1</th>\n",
       "      <th>section 2</th>\n",
       "      <th>section 3</th>\n",
       "    </tr>\n",
       "  </thead>\n",
       "  <tbody>\n",
       "    <tr>\n",
       "      <th>single trip \\n no current \\n either way</th>\n",
       "      <td>592.449000</td>\n",
       "      <td>1206.475152</td>\n",
       "      <td>592.449000</td>\n",
       "    </tr>\n",
       "    <tr>\n",
       "      <th>single trip \\n upstream</th>\n",
       "      <td>691.190500</td>\n",
       "      <td>1407.554344</td>\n",
       "      <td>691.190500</td>\n",
       "    </tr>\n",
       "    <tr>\n",
       "      <th>single trip \\n downstream</th>\n",
       "      <td>518.392875</td>\n",
       "      <td>1055.665758</td>\n",
       "      <td>518.392875</td>\n",
       "    </tr>\n",
       "    <tr>\n",
       "      <th>round trip \\n no current</th>\n",
       "      <td>1184.898000</td>\n",
       "      <td>2412.950304</td>\n",
       "      <td>1184.898000</td>\n",
       "    </tr>\n",
       "    <tr>\n",
       "      <th>round trip \\n current</th>\n",
       "      <td>1209.583375</td>\n",
       "      <td>2463.220102</td>\n",
       "      <td>1209.583375</td>\n",
       "    </tr>\n",
       "  </tbody>\n",
       "</table>\n",
       "</div>"
      ],
      "text/plain": [
       "                                           section 1    section 2    section 3\n",
       "single trip \\n no current \\n either way   592.449000  1206.475152   592.449000\n",
       "single trip \\n upstream                   691.190500  1407.554344   691.190500\n",
       "single trip \\n downstream                 518.392875  1055.665758   518.392875\n",
       "round trip \\n no current                 1184.898000  2412.950304  1184.898000\n",
       "round trip \\n current                    1209.583375  2463.220102  1209.583375"
      ]
     },
     "execution_count": 11,
     "metadata": {},
     "output_type": "execute_result"
    }
   ],
   "source": [
    "fuel=df[['total_fuel_consumption_kg','total_fuel_consumption_up_kg','total_fuel_consumption_down_kg',\n",
    "          'total_fuel_consumption_round_no_current_kg','total_fuel_consumption_round_current_kg']].T\n",
    "fuel.index=['single trip \\n no current \\n either way', 'single trip \\n upstream',\n",
    "                    'single trip \\n downstream', 'round trip \\n no current', 'round trip \\n current']\n",
    "fuel.columns =['section 1','section 2','section 3']\n",
    "fuel.head()"
   ]
  },
  {
   "cell_type": "code",
   "execution_count": 12,
   "id": "a8543484",
   "metadata": {},
   "outputs": [
    {
     "data": {
      "text/plain": [
       "<AxesSubplot:>"
      ]
     },
     "execution_count": 12,
     "metadata": {},
     "output_type": "execute_result"
    },
    {
     "data": {
      "image/png": "[encoded data removed]",
      "text/plain": [
       "<Figure size 576x216 with 1 Axes>"
      ]
     },
     "metadata": {
      "needs_background": "light"
     },
     "output_type": "display_data"
    }
   ],
   "source": [
    "fuel_colors=['#7f4e1e','#bf9005','#f1da7a']\n",
    "fuel.plot(kind='bar', stacked=True,color=fuel_colors,rot=0, figsize=(8, 3))\n"
   ]
  },
  {
   "cell_type": "code",
   "execution_count": 13,
   "id": "d46d7841",
   "metadata": {},
   "outputs": [
    {
     "data": {
      "text/html": [
       "<div>\n",
       "<style scoped>\n",
       "    .dataframe tbody tr th:only-of-type {\n",
       "        vertical-align: middle;\n",
       "    }\n",
       "\n",
       "    .dataframe tbody tr th {\n",
       "        vertical-align: top;\n",
       "    }\n",
       "\n",
       "    .dataframe thead th {\n",
       "        text-align: right;\n",
       "    }\n",
       "</style>\n",
       "<table border=\"1\" class=\"dataframe\">\n",
       "  <thead>\n",
       "    <tr style=\"text-align: right;\">\n",
       "      <th></th>\n",
       "      <th>section 1</th>\n",
       "      <th>section 2</th>\n",
       "      <th>section 3</th>\n",
       "    </tr>\n",
       "  </thead>\n",
       "  <tbody>\n",
       "    <tr>\n",
       "      <th>single trip \\n no current \\n either way</th>\n",
       "      <td>1879.679099</td>\n",
       "      <td>3827.816618</td>\n",
       "      <td>1879.679099</td>\n",
       "    </tr>\n",
       "    <tr>\n",
       "      <th>single trip \\n upstream</th>\n",
       "      <td>2192.958949</td>\n",
       "      <td>4465.786055</td>\n",
       "      <td>2192.958949</td>\n",
       "    </tr>\n",
       "    <tr>\n",
       "      <th>single trip \\n downstream</th>\n",
       "      <td>1644.719212</td>\n",
       "      <td>3349.339541</td>\n",
       "      <td>1644.719212</td>\n",
       "    </tr>\n",
       "    <tr>\n",
       "      <th>round trip \\n no current</th>\n",
       "      <td>3759.358199</td>\n",
       "      <td>7655.633237</td>\n",
       "      <td>3759.358199</td>\n",
       "    </tr>\n",
       "    <tr>\n",
       "      <th>round trip \\n current</th>\n",
       "      <td>3837.678161</td>\n",
       "      <td>7815.125596</td>\n",
       "      <td>3837.678161</td>\n",
       "    </tr>\n",
       "  </tbody>\n",
       "</table>\n",
       "</div>"
      ],
      "text/plain": [
       "                                           section 1    section 2    section 3\n",
       "single trip \\n no current \\n either way  1879.679099  3827.816618  1879.679099\n",
       "single trip \\n upstream                  2192.958949  4465.786055  2192.958949\n",
       "single trip \\n downstream                1644.719212  3349.339541  1644.719212\n",
       "round trip \\n no current                 3759.358199  7655.633237  3759.358199\n",
       "round trip \\n current                    3837.678161  7815.125596  3837.678161"
      ]
     },
     "execution_count": 13,
     "metadata": {},
     "output_type": "execute_result"
    }
   ],
   "source": [
    "CO2=df[['total_emission_CO2_kg','total_emission_CO2_up_kg','total_emission_CO2_down_kg',\n",
    "          'total_emission_CO2_round_no_current_kg','total_emission_CO2_round_current_kg']].T\n",
    "CO2.index=['single trip \\n no current \\n either way', 'single trip \\n upstream',\n",
    "                    'single trip \\n downstream', 'round trip \\n no current', 'round trip \\n current']\n",
    "CO2.columns =['section 1','section 2','section 3']\n",
    "CO2.head()\n"
   ]
  },
  {
   "cell_type": "code",
   "execution_count": 14,
   "id": "20b8cadf",
   "metadata": {},
   "outputs": [
    {
     "data": {
      "text/plain": [
       "<AxesSubplot:>"
      ]
     },
     "execution_count": 14,
     "metadata": {},
     "output_type": "execute_result"
    },
    {
     "data": {
      "image/png": "[encoded data removed]",
      "text/plain": [
       "<Figure size 576x216 with 1 Axes>"
      ]
     },
     "metadata": {
      "needs_background": "light"
     },
     "output_type": "display_data"
    }
   ],
   "source": [
    "CO2_colors=['red','orange','yellow']\n",
    "CO2.plot(kind='bar', stacked=True,color=CO2_colors,rot=0, figsize=(8, 3))"
   ]
  },
  {
   "cell_type": "code",
   "execution_count": 15,
   "id": "ac187ee2",
   "metadata": {},
   "outputs": [
    {
     "data": {
      "text/html": [
       "<div>\n",
       "<style scoped>\n",
       "    .dataframe tbody tr th:only-of-type {\n",
       "        vertical-align: middle;\n",
       "    }\n",
       "\n",
       "    .dataframe tbody tr th {\n",
       "        vertical-align: top;\n",
       "    }\n",
       "\n",
       "    .dataframe thead th {\n",
       "        text-align: right;\n",
       "    }\n",
       "</style>\n",
       "<table border=\"1\" class=\"dataframe\">\n",
       "  <thead>\n",
       "    <tr style=\"text-align: right;\">\n",
       "      <th></th>\n",
       "      <th>section 1</th>\n",
       "      <th>section 2</th>\n",
       "      <th>section 3</th>\n",
       "    </tr>\n",
       "  </thead>\n",
       "  <tbody>\n",
       "    <tr>\n",
       "      <th>single trip \\n no current \\n either way</th>\n",
       "      <td>1.177231</td>\n",
       "      <td>2.112673</td>\n",
       "      <td>1.177231</td>\n",
       "    </tr>\n",
       "    <tr>\n",
       "      <th>single trip \\n upstream</th>\n",
       "      <td>1.373436</td>\n",
       "      <td>2.464785</td>\n",
       "      <td>1.373436</td>\n",
       "    </tr>\n",
       "    <tr>\n",
       "      <th>single trip \\n downstream</th>\n",
       "      <td>1.030077</td>\n",
       "      <td>1.848588</td>\n",
       "      <td>1.030077</td>\n",
       "    </tr>\n",
       "    <tr>\n",
       "      <th>round trip \\n no current</th>\n",
       "      <td>2.354462</td>\n",
       "      <td>4.225345</td>\n",
       "      <td>2.354462</td>\n",
       "    </tr>\n",
       "    <tr>\n",
       "      <th>round trip \\n current</th>\n",
       "      <td>2.403513</td>\n",
       "      <td>4.313373</td>\n",
       "      <td>2.403513</td>\n",
       "    </tr>\n",
       "  </tbody>\n",
       "</table>\n",
       "</div>"
      ],
      "text/plain": [
       "                                         section 1  section 2  section 3\n",
       "single trip \\n no current \\n either way   1.177231   2.112673   1.177231\n",
       "single trip \\n upstream                   1.373436   2.464785   1.373436\n",
       "single trip \\n downstream                 1.030077   1.848588   1.030077\n",
       "round trip \\n no current                  2.354462   4.225345   2.354462\n",
       "round trip \\n current                     2.403513   4.313373   2.403513"
      ]
     },
     "execution_count": 15,
     "metadata": {},
     "output_type": "execute_result"
    }
   ],
   "source": [
    "PM10=df[['total_emission_PM10_kg','total_emission_PM10_up_kg','total_emission_PM10_down_kg',\n",
    "          'total_emission_PM10_round_no_current_kg','total_emission_PM10_round_current_kg']].T\n",
    "PM10.index=['single trip \\n no current \\n either way', 'single trip \\n upstream',\n",
    "                    'single trip \\n downstream', 'round trip \\n no current', 'round trip \\n current']\n",
    "PM10.columns =['section 1','section 2','section 3']\n",
    "PM10.head()"
   ]
  },
  {
   "cell_type": "code",
   "execution_count": 16,
   "id": "7294e8cd",
   "metadata": {},
   "outputs": [
    {
     "data": {
      "text/plain": [
       "<AxesSubplot:>"
      ]
     },
     "execution_count": 16,
     "metadata": {},
     "output_type": "execute_result"
    },
    {
     "data": {
      "image/png": "[encoded data removed]",
      "text/plain": [
       "<Figure size 576x216 with 1 Axes>"
      ]
     },
     "metadata": {
      "needs_background": "light"
     },
     "output_type": "display_data"
    }
   ],
   "source": [
    "PM10_colors=['darkgreen','mediumseagreen','paleturquoise']\n",
    "PM10.plot(kind='bar', stacked=True,color=PM10_colors,rot=0, figsize=(8, 3))"
   ]
  },
  {
   "cell_type": "code",
   "execution_count": 17,
   "id": "6f1ac4b3",
   "metadata": {},
   "outputs": [
    {
     "data": {
      "text/html": [
       "<div>\n",
       "<style scoped>\n",
       "    .dataframe tbody tr th:only-of-type {\n",
       "        vertical-align: middle;\n",
       "    }\n",
       "\n",
       "    .dataframe tbody tr th {\n",
       "        vertical-align: top;\n",
       "    }\n",
       "\n",
       "    .dataframe thead th {\n",
       "        text-align: right;\n",
       "    }\n",
       "</style>\n",
       "<table border=\"1\" class=\"dataframe\">\n",
       "  <thead>\n",
       "    <tr style=\"text-align: right;\">\n",
       "      <th></th>\n",
       "      <th>section 1</th>\n",
       "      <th>section 2</th>\n",
       "      <th>section 3</th>\n",
       "    </tr>\n",
       "  </thead>\n",
       "  <tbody>\n",
       "    <tr>\n",
       "      <th>single trip \\n no current \\n either way</th>\n",
       "      <td>26.675828</td>\n",
       "      <td>52.467839</td>\n",
       "      <td>26.675828</td>\n",
       "    </tr>\n",
       "    <tr>\n",
       "      <th>single trip \\n upstream</th>\n",
       "      <td>31.121799</td>\n",
       "      <td>61.212479</td>\n",
       "      <td>31.121799</td>\n",
       "    </tr>\n",
       "    <tr>\n",
       "      <th>single trip \\n downstream</th>\n",
       "      <td>23.341350</td>\n",
       "      <td>45.909359</td>\n",
       "      <td>23.341350</td>\n",
       "    </tr>\n",
       "    <tr>\n",
       "      <th>round trip \\n no current</th>\n",
       "      <td>53.351656</td>\n",
       "      <td>104.935677</td>\n",
       "      <td>53.351656</td>\n",
       "    </tr>\n",
       "    <tr>\n",
       "      <th>round trip \\n current</th>\n",
       "      <td>54.463149</td>\n",
       "      <td>107.121837</td>\n",
       "      <td>54.463149</td>\n",
       "    </tr>\n",
       "  </tbody>\n",
       "</table>\n",
       "</div>"
      ],
      "text/plain": [
       "                                         section 1   section 2  section 3\n",
       "single trip \\n no current \\n either way  26.675828   52.467839  26.675828\n",
       "single trip \\n upstream                  31.121799   61.212479  31.121799\n",
       "single trip \\n downstream                23.341350   45.909359  23.341350\n",
       "round trip \\n no current                 53.351656  104.935677  53.351656\n",
       "round trip \\n current                    54.463149  107.121837  54.463149"
      ]
     },
     "execution_count": 17,
     "metadata": {},
     "output_type": "execute_result"
    }
   ],
   "source": [
    "NOX=df[['total_emission_NOX_kg','total_emission_NOX_up_kg','total_emission_NOX_down_kg',\n",
    "          'total_emission_NOX_round_no_current_kg','total_emission_NOX_round_current_kg']].T\n",
    "NOX.index=['single trip \\n no current \\n either way', 'single trip \\n upstream',\n",
    "                    'single trip \\n downstream', 'round trip \\n no current', 'round trip \\n current']\n",
    "NOX.columns =['section 1','section 2','section 3']\n",
    "NOX.head()"
   ]
  },
  {
   "cell_type": "code",
   "execution_count": 18,
   "id": "11529b78",
   "metadata": {},
   "outputs": [
    {
     "data": {
      "text/plain": [
       "<AxesSubplot:>"
      ]
     },
     "execution_count": 18,
     "metadata": {},
     "output_type": "execute_result"
    },
    {
     "data": {
      "image/png": "[encoded data removed]",
      "text/plain": [
       "<Figure size 576x216 with 1 Axes>"
      ]
     },
     "metadata": {
      "needs_background": "light"
     },
     "output_type": "display_data"
    }
   ],
   "source": [
    "NOX_colors=['purple','deeppink','pink']\n",
    "NOX.plot(kind='bar', stacked=True,color=NOX_colors,rot=0, figsize=(8, 3))"
   ]
  },
  {
   "cell_type": "markdown",
   "id": "8ad63340",
   "metadata": {},
   "source": [
    "## Figure 14\n",
    "\n",
    "Fuel using and emissions of an M8 vessel with and without current influence. Assuming that the adjusted loaded (1393 ton payload) M8 vessel sails with actual draught 2.2 m between inland terminal and sea port with (or without) mild current 0.5 m/s (from inland terminal to sea port. The total distance of  the waterway is 300 km, divided into 3 sections: section 1 (from 0 km to 100 km), section 2 (from 100 km to 200 km), section 3 (from 200 km to 300 km); The water depth is 6 m in section 1 and section 3, 2.5 m in section 2. When there is no current, the vessel speed to the water(and ground) is 3.5 m/s; when there is the current, the vessel sails upstream (from sea port to inland terminal) with speed 3.5 m/s to the water, equaling to 3 m/s to the ground; the vessel sails downstream (from inland terminal to sea port) with speed 3.5 m/s to the water, equaling to 4 m/s to the ground. A round trip with current includes a single upstream trip and a single downstream trip. M8 ship characteristics: engine construction year = 1990, installed engine power = 1750 kW, length =110 m, beam = 11.4m, DWT = 3000 ton.\n"
   ]
  },
  {
   "cell_type": "code",
   "execution_count": 19,
   "id": "2cc3fa46",
   "metadata": {},
   "outputs": [
    {
     "name": "stderr",
     "output_type": "stream",
     "text": [
      "C:\\Users\\manjiang\\AppData\\Local\\Temp\\ipykernel_15768\\300644733.py:7: UserWarning:\n",
      "\n",
      "FixedFormatter should only be used together with FixedLocator\n",
      "\n",
      "C:\\Users\\manjiang\\AppData\\Local\\Temp\\ipykernel_15768\\300644733.py:14: UserWarning:\n",
      "\n",
      "FixedFormatter should only be used together with FixedLocator\n",
      "\n",
      "C:\\Users\\manjiang\\AppData\\Local\\Temp\\ipykernel_15768\\300644733.py:22: UserWarning:\n",
      "\n",
      "FixedFormatter should only be used together with FixedLocator\n",
      "\n",
      "C:\\Users\\manjiang\\AppData\\Local\\Temp\\ipykernel_15768\\300644733.py:29: UserWarning:\n",
      "\n",
      "FixedFormatter should only be used together with FixedLocator\n",
      "\n"
     ]
    },
    {
     "data": {
      "image/png": "[encoded data removed]",
      "text/plain": [
       "<Figure size 576x864 with 4 Axes>"
      ]
     },
     "metadata": {
      "needs_background": "light"
     },
     "output_type": "display_data"
    }
   ],
   "source": [
    "fig, axes = plt.subplots(nrows=4, ncols=1,figsize=(8, 12),sharex=True)\n",
    "fuel.plot(ax=axes[0],kind='bar', stacked=True,color=fuel_colors,rot=0)\n",
    "plt.yticks(weight = 'bold', fontsize=12)\n",
    "axes[0].set_ylim(0, 8000)\n",
    "axes[0].set_ylabel('Total fuel use \\n (kg)',fontsize=12,fontweight='bold',labelpad=12)\n",
    "axes[0].annotate('(a)', xy=(4.27, 8000*7/8), fontsize=12,weight = 'bold')\n",
    "axes[0].set_yticklabels(axes[0].get_yticks(), size=12,weight = 'bold')  \n",
    "axes[0].legend(loc='upper left')\n",
    "axes[0].set_title('M8 vessel: L$_s$ = 110 m, B$_s$ = 11.40 m, T$_s$ = 2.2 m, actual load = 1393 ton;\\n  V$_s$= 3.5 m/s, U$_c$= 0.5 m/s, section 1 & 3: h$_0$ = 6 m, section 2: h$_0$ = 2.5 m')\n",
    "\n",
    "CO2.plot(ax=axes[1],kind='bar', stacked=True,color=CO2_colors,rot=0)\n",
    "axes[1].set_ylim(0, 20000)\n",
    "axes[1].set_ylabel('Total CO2 emission \\n (kg)',fontsize=12,fontweight='bold',labelpad=3)\n",
    "axes[1].set_yticklabels(axes[1].get_yticks(), size=12,weight = 'bold')  \n",
    "axes[1].annotate('(b)', xy=(4.27, 20000*7/8), fontsize=12,weight = 'bold')\n",
    "axes[1].legend(loc='upper left')\n",
    "\n",
    "PM10.plot(ax=axes[2],kind='bar', stacked=True,color=PM10_colors,rot=0)\n",
    "axes[2].set_ylim(0, 14)\n",
    "axes[2].set_ylabel('Total PM10 emission \\n (kg)',fontsize=12,fontweight='bold',labelpad=27)\n",
    "axes[2].annotate('(c)', xy=(4.27, 14*7/8), fontsize=12,weight = 'bold')\n",
    "axes[2].set_yticklabels(axes[2].get_yticks(), size=12,weight = 'bold')  \n",
    "axes[2].legend(loc='upper left')\n",
    "\n",
    "NOX.plot(ax=axes[3],kind='bar', stacked=True,color=NOX_colors,rot=0)\n",
    "axes[3].set_ylim(0, 300)\n",
    "axes[3].set_ylabel('Total NOx emission \\n (kg)',fontsize=12,fontweight='bold',labelpad=20)\n",
    "#axes[3].set_xticklabels(axes[3].get_xticks(), size=12,weight = 'bold')  \n",
    "axes[3].set_yticklabels(axes[3].get_yticks(), size=12,weight = 'bold')  \n",
    "axes[3].annotate('(d)', xy=(4.27, 300*7/8), fontsize=12,weight = 'bold')\n",
    "axes[3].legend(loc='upper left')\n",
    "# plt.yticks(weight = 'bold', fontsize=12)\n",
    "plt.xticks( weight = 'bold', fontsize=12)\n",
    "\n",
    "plt.savefig('Fig_14.pdf',bbox_inches = 'tight', dpi=600, format='pdf')  \n",
    "plt.show()"
   ]
  },
  {
   "cell_type": "code",
   "execution_count": null,
   "id": "97f1918c",
   "metadata": {},
   "outputs": [],
   "source": []
  }
 ],
 "metadata": {
  "kernelspec": {
   "display_name": "Python 3 (ipykernel)",
   "language": "python",
   "name": "python3"
  },
  "language_info": {
   "codemirror_mode": {
    "name": "ipython",
    "version": 3
   },
   "file_extension": ".py",
   "mimetype": "text/x-python",
   "name": "python",
   "nbconvert_exporter": "python",
   "pygments_lexer": "ipython3",
   "version": "3.9.10"
  }
 },
 "nbformat": 4,
 "nbformat_minor": 5
}
