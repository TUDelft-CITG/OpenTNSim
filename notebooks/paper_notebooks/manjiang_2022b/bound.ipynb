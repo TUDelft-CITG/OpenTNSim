{
 "cells": [
  {
   "cell_type": "markdown",
   "metadata": {},
   "source": [
    "### Ship sailing strategies -- get upperbound for Power to v function"
   ]
  },
  {
   "cell_type": "code",
   "execution_count": 1,
   "metadata": {
    "tags": []
   },
   "outputs": [],
   "source": [
    "import functools\n",
    "import itertools\n",
    "import warnings\n",
    "warnings.filterwarnings('ignore')\n",
    "import sys\n",
    "sys.tracebacklimit=0\n",
    "# package(s) related to time, space and id\n",
    "import logging\n",
    "import datetime, time\n",
    "import platform\n",
    "\n",
    "# you need these dependencies (you can get these from anaconda)\n",
    "# package(s) related to the simulation\n",
    "import simpy\n",
    "import pandas as pd\n",
    "\n",
    "# spatial libraries \n",
    "import pyproj\n",
    "import shapely.geometry\n",
    "from simplekml import Kml, Style\n",
    "\n",
    "# package(s) for data handling\n",
    "import numpy as np\n",
    "import scipy.optimize\n",
    "import matplotlib.pyplot as plt\n",
    "from matplotlib.ticker import StrMethodFormatter\n",
    "import tqdm\n",
    "\n",
    "# OpenTNSim\n",
    "import opentnsim\n",
    "import opentnsim.strategy\n",
    "# Used for mathematical functions\n",
    "import math             \n",
    "\n",
    "# Used for making the graph to visualize our problem\n",
    "import networkx as nx   \n",
    "\n",
    "import plotly.express as px\n",
    "from plotly.subplots import make_subplots\n",
    "\n",
    "#logging.basicConfig(level=logging.DEBUG) #turn on all the debug messages\n",
    "#logging.basicConfig(level=logging.INFO)# turn off all the debug messages\n",
    "\n",
    "logger = logging.getLogger('notebook')\n",
    "\n"
   ]
  },
  {
   "cell_type": "markdown",
   "metadata": {},
   "source": [
    "### Create graph\n",
    "We first need to create a 1D network (a graph) along which the vessel will move. A graph contains edges (blue dots in plot below) and vertices (black lines in plot below). For this example, we will construct a network consisting of 4 nodes in a straight line. Since we would like to have two-way traffic, we add two edges between each pair of nodes: one from left to right, and another the other way around (however, we could easily apply one-way traffic as well by remove one of the two edges). Consequently, we arrive at a total of 4 nodes, and 6 edges.\n",
    "\n",
    "Due to the nature of discrete modelling in which the time step is dependent on the activities (in this example: forcing a ship to move from node to node from its origin to its destination), it is important to add OpenTNSim mix-ins to the nodes in such a way we could identify the node (mix-in Identifiable, which imports a name and imports/creates an ID), and to locate the node (mix-in Locatable, which gives the node a geometry)."
   ]
  },
  {
   "cell_type": "code",
   "execution_count": 2,
   "metadata": {
    "tags": []
   },
   "outputs": [
    {
     "data": {
      "image/png": "[encoded data removed]",
      "text/plain": [
       "<Figure size 432x288 with 1 Axes>"
      ]
     },
     "metadata": {},
     "output_type": "display_data"
    }
   ],
   "source": [
    "FG = nx.DiGraph()\n",
    "nodes = []\n",
    "path = []\n",
    "\n",
    "Node = type('Site', (opentnsim.core.Identifiable, opentnsim.core.Locatable), {})\n",
    "\n",
    "data_node_1 = {\"name\": \"Node 1\",\n",
    "               \"geometry\": shapely.geometry.Point(0, 0)}\n",
    "data_node_2 = {\"name\": \"Node 2\",\n",
    "               \"geometry\": shapely.geometry.Point(0.8983, 0)}  # 0.8983 degree =100km\n",
    "data_node_3 = {\"name\": \"Node 3\",\n",
    "               \"geometry\": shapely.geometry.Point(1.7966, 0)}   # 1.7966 degree =200km\n",
    "data_node_4 = {\"name\": \"Node 4\",\n",
    "               \"geometry\": shapely.geometry.Point(2.6949, 0)}    # 2.6949 degree =300km\n",
    "\n",
    "node_1 = Node(**data_node_1)\n",
    "node_2 = Node(**data_node_2)\n",
    "node_3 = Node(**data_node_3)\n",
    "node_4 = Node(**data_node_4)\n",
    "\n",
    "nodes = [node_1, node_2, node_3, node_4]\n",
    "\n",
    "positions = {}\n",
    "for node in nodes:\n",
    "    positions[node.name] = (node.geometry.x, node.geometry.y)\n",
    "    FG.add_node(node.name, geometry = node.geometry)\n",
    "\n",
    "path = [[node_1, node_2], # From node 1 to node 2\n",
    "        [node_2, node_3], # From node 2 to node 3\n",
    "        [node_3, node_4], # From node 3 to node 4\n",
    "        [node_4, node_3], # From node 4 to node 3\n",
    "        [node_3, node_2], # From node 3 to node 2\n",
    "        [node_2, node_1]] # From node 2 to node 1\n",
    "\n",
    "\n",
    "for edge in path:\n",
    "    # For the energy consumption calculation we add info to the graph. We need depth info for resistance.\n",
    "    # NB: the CalculateEnergy routine expects the graph to have \"Info\" that contains \"GeneralDepth\" \n",
    "    #     this may not be very generic!\n",
    "    FG.add_edge(edge[0].name, edge[1].name, weight = 1, Info = {\"GeneralDepth\": 6})\n",
    "    \n",
    "middle_edges = [\n",
    "    (node_2.name, node_3.name),\n",
    "    (node_3.name, node_2.name)\n",
    "]\n",
    "for e in middle_edges:\n",
    "    edge = FG.edges[e]\n",
    "    edge['Info']['GeneralDepth'] = 2.5\n",
    "\n",
    "# env.FG = FG\n",
    "nx.draw(FG, positions)\n",
    "plt.show()"
   ]
  },
  {
   "cell_type": "code",
   "execution_count": 3,
   "metadata": {
    "tags": []
   },
   "outputs": [
    {
     "name": "stdout",
     "output_type": "stream",
     "text": [
      "General depth for edge ('Node 1', 'Node 2') is 6\n",
      "General depth for edge ('Node 2', 'Node 3') is 2.5\n",
      "General depth for edge ('Node 2', 'Node 1') is 6\n",
      "General depth for edge ('Node 3', 'Node 4') is 6\n",
      "General depth for edge ('Node 3', 'Node 2') is 2.5\n",
      "General depth for edge ('Node 4', 'Node 3') is 6\n"
     ]
    }
   ],
   "source": [
    "# This cell just shows that now a depth of 10 m is added to the edges. \n",
    "# You can use this to vary depths, e.g. make the middle edge shallower. Note that edges are bi-directional \n",
    "for edge in FG.edges:\n",
    "    print('General depth for edge {} is {}'.format(edge, FG.get_edge_data(edge[0], edge[1])[\"Info\"][\"GeneralDepth\"]))"
   ]
  },
  {
   "cell_type": "markdown",
   "metadata": {},
   "source": [
    "### Create vessel - add VesselProperties and ConsumesEnergy mixins\n",
    "The following mix-ins are required for each vessel in our problem: Identifiable (gives the vessel a name and a random ID), Movable (gives that the object (*vessel*) can move with a fixed speed and logs this activity, it requires input for the following mix-ins: Locatable, Routeable, and Log), and Routable (gives the object a route). We now modify our original vessel from the basic example and include vessel properties (like width, length, etc.) and a mixin that is needed to calculate resistance and energy consumption.  "
   ]
  },
  {
   "cell_type": "code",
   "execution_count": 4,
   "metadata": {},
   "outputs": [],
   "source": [
    "# Make your preferred class out of available mix-ins.\n",
    "TransportResource = type(\n",
    "    \"Vessel\",\n",
    "    (\n",
    "        opentnsim.core.Identifiable,\n",
    "        opentnsim.core.Movable,\n",
    "        opentnsim.core.Routeable,\n",
    "        opentnsim.core.VesselProperties,  # needed to add vessel properties\n",
    "        opentnsim.core.ConsumesEnergy,\n",
    "        opentnsim.core.ExtraMetadata,\n",
    "        \n",
    "    ),\n",
    "    {},\n",
    ")  # needed to calculate resistances"
   ]
  },
  {
   "cell_type": "code",
   "execution_count": 5,
   "metadata": {},
   "outputs": [],
   "source": [
    "# Create a dict with all important settings\n",
    "data_vessel = {\n",
    "               \"env\": None,\n",
    "               \"name\": None,\n",
    "               \"route\": None,\n",
    "               \"geometry\": None,\n",
    "               \"v\": 1,  # m/s\n",
    "               \"type\": 'Dortmund-Eems (L <= 74 m)', # <-- note that inputs from hereon are due to the added mixins!\n",
    "               \"B\": 11.4,\n",
    "               \"L\": 110,\n",
    "               \"H_e\": None, \n",
    "               \"H_f\": None, \n",
    "               \"T\": 2.05,\n",
    "               \"safety_margin\": 0, # for tanker vessel with rocky bed the safety margin is recommended as 0.3 m\n",
    "               \"h_squat\":False,\n",
    "               \"P_installed\": 1750.0,   \n",
    "               \"P_tot_given\": None, # kW\n",
    "               \"bulbous_bow\": False, # if a vessel has no bulbous_bow, set to none; otherwise set to 1.\n",
    "               \"P_hotel_perc\": 0.05,\n",
    "               \"P_hotel\": None, # None: calculate P_hotel from percentage\n",
    "               \"L_w\": 3.0 ,\n",
    "               \"C_B\":0.85, \n",
    "               \"C_year\":1990,\n",
    "              }          "
   ]
  },
  {
   "cell_type": "markdown",
   "metadata": {},
   "source": [
    "\n",
    "### Define paths\n",
    "We are going to create a simulation in which a vessel moves from *Node 1* to *Node 4*. Therefore, we need to create a vessel to which we will need to append this paths. Therefore, first let's create the path."
   ]
  },
  {
   "cell_type": "code",
   "execution_count": 6,
   "metadata": {},
   "outputs": [],
   "source": [
    "path = nx.dijkstra_path(FG, node_1.name, node_4.name)\n",
    "path_bottleneck = nx.dijkstra_path(FG, node_2.name, node_3.name)"
   ]
  },
  {
   "cell_type": "code",
   "execution_count": 34,
   "metadata": {},
   "outputs": [],
   "source": [
    "def get_upperbound_for_power2v():\n",
    "    ''' for each edge with a water depth, it computes a maximum installed power allowed velocity, considering squat. this velocity is set as upperbound in the power2v function in energy.py \n",
    "    \"upperbound\" is the maximum value in velocity searching range.'''\n",
    "    \n",
    "    # Start simpy environment\n",
    "    simulation_start = datetime.datetime.now()\n",
    "    env = simpy.Environment(initial_time = time.mktime(simulation_start.timetuple()))\n",
    "    env.epoch = time.mktime(simulation_start.timetuple())\n",
    "    \n",
    "    # Add graph to environment\n",
    "    env.FG = FG\n",
    "    \n",
    "    # get vessel \n",
    "    data_vessel_i = data_vessel.copy()\n",
    "    vessel = TransportResource(**data_vessel_i)\n",
    "    \n",
    "    # vessel.route = path_bottleneck\n",
    "    # todo: it is risky to use variables that are defined outside this function (globals)\n",
    "    vessel.route = path_bottleneck\n",
    "    v = vessel.v\n",
    "    \n",
    "    depths = []\n",
    "    for e in zip(vessel.route[:-1], vessel.route[1:]):\n",
    "        edge = env.FG.edges[e]\n",
    "        depth = edge['Info']['GeneralDepth']\n",
    "        depths.append(depth)\n",
    "    for depth in depths:\n",
    "        h_0 = depth\n",
    "    print(h_0)\n",
    "    def get_grounding_v(vessel, h_0, bounds=(0, 10)):\n",
    "        \n",
    "        def seek_v_given_z(v, vessel, h_0):\n",
    "            h_0 = depth\n",
    "            z_computed = (vessel.C_B * ((vessel.B * vessel._T) / (150 * h_0)) ** 0.81) * ((v*1.94) ** 2.08) / 20\n",
    "            z_given = h_0 - vessel._T\n",
    "            # compute difference between a given draught (T_strategy) and a computed draught (T_computed)\n",
    "\n",
    "            diff = z_given - z_computed\n",
    "\n",
    "            return diff ** 2\n",
    "        \n",
    "        fun = functools.partial(seek_v_given_z, vessel=vessel, h_0 = h_0)\n",
    "        fit = scipy.optimize.minimize_scalar(fun, bounds=bounds, method='bounded')\n",
    "        # check if we found a minimum\n",
    "        if not fit.success:\n",
    "            raise ValueError(fit)\n",
    "\n",
    "        # the value of fit.x within the bound (0,10) is the velocity we find where the diff**2 reach a minimum (zero).\n",
    "        grounding_v =  fit.x\n",
    "        print(grounding_v)\n",
    "        return grounding_v    \n",
    "                  \n",
    "    # prepare the task to be done\n",
    "    # create a large velocity[m/s] range for both inland shipping and seagoing shipping\n",
    "    grounding_v = get_grounding_v(vessel,h_0,bounds=(0, 10))\n",
    "    velocity = np.linspace(0.01, grounding_v, 1000)\n",
    "    task = list(itertools.product(velocity[0:-1]))\n",
    "\n",
    "    # prepare a list of dictionaries for pandas\n",
    "    rows = []\n",
    "    for item in task:\n",
    "        row = {\"velocity\": item[0]}\n",
    "        rows.append(row)\n",
    "\n",
    "    # these are all the simulations that we want to run\n",
    "    # convert them to dataframe, so that we can apply a function and monitor progress\n",
    "    task_df = pd.DataFrame(rows)\n",
    "    \n",
    "    # creat a results empty list to collect the below results\n",
    "    results = []   \n",
    "    for i, row in tqdm.tqdm(task_df.iterrows()):\n",
    "        h_0 = depth      \n",
    "        velocity = row['velocity']\n",
    "        \n",
    "        z_computed = (vessel.C_B * ((vessel.B * vessel._T) / (150 * h_0)) ** 0.81) * ((velocity*1.94) ** 2.08) / 20\n",
    "        h_0 = h_0 - z_computed\n",
    "        vessel.calculate_properties()\n",
    "        vessel.calculate_frictional_resistance(v=velocity, h_0=h_0)\n",
    "        vessel.calculate_total_resistance(v=velocity, h_0=h_0)\n",
    "        P_tot = vessel.calculate_total_power_required(v=velocity)\n",
    "        result = {}\n",
    "        result.update(row)\n",
    "        result['Powerallowed_v'] = velocity\n",
    "        result['P_tot'] = P_tot\n",
    "        result['P_installed'] = vessel.P_installed\n",
    "        results.append(result)\n",
    "    \n",
    "    results_df = pd.DataFrame(results)\n",
    "    results_df.head(100)\n",
    "    selected = results_df.query('P_tot < P_installed')\n",
    "    upperbound = max(selected['Powerallowed_v'])\n",
    "    \n",
    "    return upperbound"
   ]
  },
  {
   "cell_type": "code",
   "execution_count": 35,
   "metadata": {
    "tags": []
   },
   "outputs": [
    {
     "name": "stdout",
     "output_type": "stream",
     "text": [
      "2.5\n",
      "4.723912307860974\n"
     ]
    },
    {
     "name": "stderr",
     "output_type": "stream",
     "text": [
      "999it [00:00, 1927.37it/s]\n"
     ]
    },
    {
     "data": {
      "text/plain": [
       "3.756592965407021"
      ]
     },
     "execution_count": 35,
     "metadata": {},
     "output_type": "execute_result"
    }
   ],
   "source": [
    "bottleneck_upperbound = get_upperbound_for_power2v( )\n",
    "# print(upperbound)\n",
    "bottleneck_upperbound"
   ]
  },
  {
   "cell_type": "code",
   "execution_count": 36,
   "metadata": {},
   "outputs": [],
   "source": [
    "def get_upperbound_for_power2v(vessel, width=150, depth=2.5, upperbound_search_interval=20):\n",
    "    ''' for a waterway section with a given width and depth, compute a maximum installed-\n",
    "    power-allowed velocity, considering squat. This velocity is set as upperbound in the \n",
    "    power2v function in energy.py \"upperbound\" is the maximum value in velocity searching \n",
    "    range.'''\n",
    "    \n",
    "    def get_grounding_v(vessel, width, depth, bounds):\n",
    "        \n",
    "        def seek_v_given_z(v, vessel, width, depth):\n",
    "            # calculate sinkage\n",
    "            z_computed = (vessel.C_B * ((vessel.B * vessel._T) / (width * depth)) ** 0.81) * ((v*1.94) ** 2.08) / 20\n",
    "            \n",
    "            # calculate available underkeel clearance (vessel in rest)\n",
    "            z_given = depth - vessel._T\n",
    "            \n",
    "            # compute difference between the sinkage and the space available for sinkage\n",
    "            diff = z_given - z_computed\n",
    "\n",
    "            return diff ** 2\n",
    "        \n",
    "        # goalseek to minimize\n",
    "        fun = functools.partial(seek_v_given_z, vessel=vessel, width=width, depth=depth)\n",
    "        fit = scipy.optimize.minimize_scalar(fun, bounds=bounds, method='bounded')\n",
    "        \n",
    "        # check if we found a minimum\n",
    "        if not fit.success:\n",
    "            raise ValueError(fit)\n",
    "\n",
    "        # the value of fit.x within the bound (0,10) is the velocity we find where the diff**2 reach a minimum (zero).\n",
    "        grounding_v =  fit.x\n",
    "        \n",
    "        print('grounding velocity {:.2f} m/s'.format(grounding_v))\n",
    "        \n",
    "        return grounding_v    \n",
    "                  \n",
    "\n",
    "    # create a large velocity[m/s] range for both inland shipping and seagoing shipping\n",
    "    grounding_v = get_grounding_v(vessel, width, depth, bounds=(0, upperbound_search_interval))\n",
    "    velocity = np.linspace(0.01, grounding_v, upperbound_search_interval) # reduce width of the interval to save calculation time\n",
    "    task = list(itertools.product(velocity[0:-1]))\n",
    "\n",
    "    # prepare a list of dictionaries for pandas\n",
    "    rows = []\n",
    "    for item in task:\n",
    "        row = {\"velocity\": item[0]}\n",
    "        rows.append(row)\n",
    "\n",
    "    # convert simulations to dataframe, so that we can apply a function and monitor progress\n",
    "    task_df = pd.DataFrame(rows)\n",
    "    \n",
    "    # creat a results empty list to collect the below results\n",
    "    results = []   \n",
    "    for i, row in tqdm.tqdm(task_df.iterrows()):\n",
    "        h_0 = depth      \n",
    "        velocity = row['velocity']\n",
    "        \n",
    "        # calculate squat and the waterdepth after squat\n",
    "        z_computed = (vessel.C_B * ((vessel.B * vessel._T) / (150 * h_0)) ** 0.81) * ((velocity*1.94) ** 2.08) / 20\n",
    "        h_0 = depth - z_computed\n",
    "        \n",
    "        # for the squatted water depth calculate resistance and power\n",
    "        vessel.calculate_properties()\n",
    "        vessel.calculate_frictional_resistance(v=velocity, h_0=h_0)\n",
    "        vessel.calculate_total_resistance(v=velocity, h_0=h_0)\n",
    "        P_tot = vessel.calculate_total_power_required(v=velocity)\n",
    "        \n",
    "        # prepare a row\n",
    "        result = {}\n",
    "        result.update(row)\n",
    "        result['Powerallowed_v'] = velocity\n",
    "        result['P_tot'] = P_tot\n",
    "        result['P_installed'] = vessel.P_installed\n",
    "        \n",
    "        # update resulst dict\n",
    "        results.append(result)\n",
    "    \n",
    "    results_df = pd.DataFrame(results)\n",
    "\n",
    "    selected = results_df.query('P_tot < P_installed')\n",
    "    upperbound = max(selected['Powerallowed_v'])\n",
    "    \n",
    "    return upperbound"
   ]
  },
  {
   "cell_type": "code",
   "execution_count": 37,
   "metadata": {},
   "outputs": [
    {
     "name": "stdout",
     "output_type": "stream",
     "text": [
      "grounding velocity 4.72 m/s\n"
     ]
    },
    {
     "name": "stderr",
     "output_type": "stream",
     "text": [
      "9it [00:00, 2641.25it/s]"
     ]
    },
    {
     "name": "stdout",
     "output_type": "stream",
     "text": [
      "upperbound velocity 3.68 m/s\n"
     ]
    },
    {
     "name": "stderr",
     "output_type": "stream",
     "text": [
      "\n"
     ]
    }
   ],
   "source": [
    "# get vessel \n",
    "data_vessel_i = data_vessel.copy()\n",
    "vessel = TransportResource(**data_vessel_i)\n",
    "\n",
    "bottleneck_upperbound = get_upperbound_for_power2v(vessel, width=150, depth=2.5, upperbound_search_interval=10)\n",
    "\n",
    "print('upperbound velocity {:.2f} m/s'.format(bottleneck_upperbound))"
   ]
  }
 ],
 "metadata": {
  "kernelspec": {
   "display_name": "Python 3",
   "language": "python",
   "name": "python3"
  },
  "language_info": {
   "codemirror_mode": {
    "name": "ipython",
    "version": 3
   },
   "file_extension": ".py",
   "mimetype": "text/x-python",
   "name": "python",
   "nbconvert_exporter": "python",
   "pygments_lexer": "ipython3",
   "version": "3.8.6"
  }
 },
 "nbformat": 4,
 "nbformat_minor": 5
}
