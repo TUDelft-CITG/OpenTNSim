{
 "cells": [
  {
   "cell_type": "markdown",
   "metadata": {},
   "source": [
    "### Ship sailing strategies with various combinations of payloads and velocities for passing a bottleneck waterway section"
   ]
  },
  {
   "cell_type": "markdown",
   "metadata": {},
   "source": [
    "### Steps before sailing: \n",
    "- Giving a sailing route, in which there is an section with limited water depth (h_min)\n",
    "- Listing a group of possible actual draughts depending on the limited water depth and minimum operating draughts\n",
    "- Using the T2v function to find out the corresponding velocities the ship can sail with to safely pass the bottlenek without grounding\n",
    "- Displaying the possible actual draughts with its maximum sailing velocities and suggesting several sailing strategies.\n",
    "\n",
    "### Steps while sailing: \n",
    "- c"
   ]
  },
  {
   "cell_type": "markdown",
   "metadata": {
    "tags": []
   },
   "source": [
    "### Test the reality of sailing with v_computed\n",
    "We test it by comparing the total required power (P_tot) of the ship while sailing at v_computed with its installed power (P_installed). If P_tot <= P_installed, the v_computed is realistic.\n",
    "\n",
    "So the steps to do:\n",
    "- set the above results [Strategies: 'T_strategy','v_computed'] as input data for a vessel sailing and consuming energy simulation\n",
    "- run the simulation to get results: 'P_tot', 'P_installed', 'total fuel use', 'total emissions_CO2', 'total emissions_PM10', 'total emissions_NOx', 'duration', 'payload'. (Note that you need the \"T2payload\" function based on \"Van Dorsser's method\" to get the corresponding 'payload'for each 'T_strategy'.) \n",
    "- put the results into dataframe for later easy selecting, processing and plotting\n",
    "- select the Strategies of which P_tot <= P_installed \n",
    "- analysis the selected Strategies \n",
    "- visualize some typical selected Strategies via a series Bar Chart. In each bar chart, y_axis is amount, x_axis is evaluation items.\n",
    "- visualize some typical selected Strategies together with ambient waterway sections of different water depths.(Note that the input [Vs, P_tot_given] are different for bottle neck section and ambient sections)"
   ]
  },
  {
   "cell_type": "markdown",
   "metadata": {},
   "source": [
    "### 0. Load packages"
   ]
  },
  {
   "cell_type": "code",
   "execution_count": 1,
   "metadata": {
    "tags": []
   },
   "outputs": [],
   "source": [
    "import functools\n",
    "import itertools\n",
    "import warnings\n",
    "warnings.filterwarnings('ignore')\n",
    "import sys\n",
    "sys.tracebacklimit=0\n",
    "# package(s) related to time, space and id\n",
    "import logging\n",
    "import datetime, time\n",
    "import platform\n",
    "\n",
    "# you need these dependencies (you can get these from anaconda)\n",
    "# package(s) related to the simulation\n",
    "import simpy\n",
    "import pandas as pd\n",
    "\n",
    "# spatial libraries \n",
    "import pyproj\n",
    "import shapely.geometry\n",
    "from simplekml import Kml, Style\n",
    "\n",
    "# package(s) for data handling\n",
    "import numpy as np\n",
    "import scipy.optimize\n",
    "import matplotlib.pyplot as plt\n",
    "from matplotlib.ticker import StrMethodFormatter\n",
    "import tqdm\n",
    "\n",
    "# OpenTNSim\n",
    "import opentnsim\n",
    "import opentnsim.strategy\n",
    "# Used for mathematical functions\n",
    "import math             \n",
    "\n",
    "# Used for making the graph to visualize our problem\n",
    "import networkx as nx   \n",
    "\n",
    "import plotly.express as px\n",
    "from plotly.subplots import make_subplots\n",
    "\n",
    "#logging.basicConfig(level=logging.DEBUG) #turn on all the debug messages\n",
    "#logging.basicConfig(level=logging.INFO)# turn off all the debug messages\n",
    "\n",
    "logger = logging.getLogger('notebook')"
   ]
  },
  {
   "cell_type": "markdown",
   "metadata": {},
   "source": [
    "### 1. Create graph\n",
    "We first need to create a 1D network (a graph) along which the vessel will move. A graph contains edges (blue dots in plot below) and vertices (black lines in plot below). For this example, we will construct a network consisting of 4 nodes in a straight line. Since we would like to have two-way traffic, we add two edges between each pair of nodes: one from left to right, and another the other way around (however, we could easily apply one-way traffic as well by remove one of the two edges). Consequently, we arrive at a total of 4 nodes, and 6 edges.\n",
    "\n",
    "Due to the nature of discrete modelling in which the time step is dependent on the activities (in this example: forcing a ship to move from node to node from its origin to its destination), it is important to add OpenTNSim mix-ins to the nodes in such a way we could identify the node (mix-in Identifiable, which imports a name and imports/creates an ID), and to locate the node (mix-in Locatable, which gives the node a geometry)."
   ]
  },
  {
   "cell_type": "code",
   "execution_count": 2,
   "metadata": {},
   "outputs": [],
   "source": [
    "# specify a number of coordinate along your route (coords are: lon, lat)\n",
    "coords = [\n",
    "    [0,0],\n",
    "    [0.8983,0], \n",
    "    [1.7966,0], \n",
    "    [2.6949,0]] \n",
    "\n",
    "# for each edge (between above coordinates) specify the depth (m)\n",
    "depths = [6, 2.5, 6]\n",
    "\n",
    "# check of nr of coords and nr of depths align\n",
    "assert len(coords) == len(depths) + 1, 'nr of depths does not correspond to nr of coords'"
   ]
  },
  {
   "cell_type": "code",
   "execution_count": 3,
   "metadata": {},
   "outputs": [],
   "source": [
    "# create a graph based on coords and depths\n",
    "FG = nx.DiGraph()\n",
    "nodes = []\n",
    "path = []\n",
    "\n",
    "# add nodes\n",
    "Node = type('Site', (opentnsim.core.Identifiable, opentnsim.core.Locatable), {})\n",
    "\n",
    "for index, coord in enumerate(coords):\n",
    "    data_node = {\"name\": \"Node \" + str(index), \"geometry\": shapely.geometry.Point(coord[0], coord[1])}\n",
    "    nodes.append(Node(**data_node))\n",
    "    \n",
    "positions = {}\n",
    "for node in nodes:\n",
    "    positions[node.name] = (node.geometry.x, node.geometry.y)\n",
    "    FG.add_node(node.name, geometry = node.geometry)\n",
    "\n",
    "# add edges\n",
    "path = [[nodes[i], nodes[i+1]] for i in range(len(nodes)-1)]\n",
    "\n",
    "for index, edge in enumerate(path):\n",
    "    # For the energy consumption calculation we add info to the graph. We need depth info for resistance.\n",
    "    # NB: the CalculateEnergy routine expects the graph to have \"Info\" that contains \"GeneralDepth\" \n",
    "    #     this may not be very generic!\n",
    "    FG.add_edge(edge[0].name, edge[1].name, weight = 1, Info = {\"GeneralDepth\": depths[index]})\n",
    "\n",
    "# toggle to undirected and back to directed to make sure all edges are two way traffic\n",
    "FG = FG.to_undirected() \n",
    "FG = FG.to_directed() "
   ]
  },
  {
   "cell_type": "code",
   "execution_count": 4,
   "metadata": {},
   "outputs": [
    {
     "data": {
      "image/png": "[encoded data removed]",
      "text/plain": [
       "<Figure size 432x288 with 1 Axes>"
      ]
     },
     "metadata": {},
     "output_type": "display_data"
    }
   ],
   "source": [
    "# show graph\n",
    "nx.draw(FG, positions)\n",
    "plt.show()"
   ]
  },
  {
   "cell_type": "code",
   "execution_count": 5,
   "metadata": {},
   "outputs": [
    {
     "name": "stdout",
     "output_type": "stream",
     "text": [
      "General depth for edge ('Node 0', 'Node 1') is 6\n",
      "General depth for edge ('Node 1', 'Node 0') is 6\n",
      "General depth for edge ('Node 1', 'Node 2') is 2.5\n",
      "General depth for edge ('Node 2', 'Node 1') is 2.5\n",
      "General depth for edge ('Node 2', 'Node 3') is 6\n",
      "General depth for edge ('Node 3', 'Node 2') is 6\n"
     ]
    }
   ],
   "source": [
    "# This cell just shows that now a depth of 10 m is added to the edges. \n",
    "# You can use this to vary depths, e.g. make the middle edge shallower. Note that edges are bi-directional \n",
    "for edge in FG.edges:\n",
    "    print('General depth for edge {} is {}'.format(edge, FG.get_edge_data(edge[0], edge[1])[\"Info\"][\"GeneralDepth\"]))"
   ]
  },
  {
   "cell_type": "code",
   "execution_count": 6,
   "metadata": {},
   "outputs": [
    {
     "data": {
      "text/plain": [
       "2.5"
      ]
     },
     "execution_count": 6,
     "metadata": {},
     "output_type": "execute_result"
    }
   ],
   "source": [
    "FG.get_edge_data('Node 1', 'Node 2')[\"Info\"][\"GeneralDepth\"]"
   ]
  },
  {
   "cell_type": "markdown",
   "metadata": {},
   "source": [
    "### 2. Create vessel - add VesselProperties and ConsumesEnergy mixins\n",
    "The following mix-ins are required for each vessel in our problem: Identifiable (gives the vessel a name and a random ID), Movable (gives that the object (*vessel*) can move with a fixed speed and logs this activity, it requires input for the following mix-ins: Locatable, Routeable, and Log), and Routable (gives the object a route). We now modify our original vessel from the basic example and include vessel properties (like width, length, etc.) and a mixin that is needed to calculate resistance and energy consumption.  "
   ]
  },
  {
   "cell_type": "code",
   "execution_count": 33,
   "metadata": {},
   "outputs": [],
   "source": [
    "# Make your preferred class out of available mix-ins.\n",
    "TransportResource = type(\n",
    "    \"Vessel\",\n",
    "    (\n",
    "        opentnsim.core.Identifiable,\n",
    "        opentnsim.core.Movable,\n",
    "        opentnsim.core.Routeable,\n",
    "        opentnsim.core.VesselProperties,  # needed to add vessel properties\n",
    "        opentnsim.core.ConsumesEnergy,\n",
    "        opentnsim.core.ExtraMetadata,\n",
    "    ),\n",
    "    {},\n",
    ")  # needed to calculate resistances"
   ]
  },
  {
   "cell_type": "code",
   "execution_count": 34,
   "metadata": {},
   "outputs": [],
   "source": [
    "# Create a dict with all important settings\n",
    "data_vessel = {\n",
    "               \"env\": None,\n",
    "               \"name\": None,\n",
    "               \"route\": None,\n",
    "               \"geometry\": None,\n",
    "               \"v\": None,  # m/s\n",
    "               \"type\": 'Dortmund-Eems (L <= 74 m)', # <-- note that inputs from hereon are due to the added mixins!\n",
    "               \"B\": 11.4,\n",
    "               \"L\": 110,\n",
    "               \"H_e\": None, \n",
    "               \"H_f\": None, \n",
    "               \"T\": None,\n",
    "               \"safety_margin\": 0.2, # for tanker vessel with rocky bed the safety margin is recommended as 0.3 m\n",
    "               \"h_squat\":True,\n",
    "               \"P_installed\": 1750.0,   \n",
    "               \"P_tot_given\": None, # kW\n",
    "               \"bulbous_bow\": False, # if a vessel has no bulbous_bow, set to none; otherwise set to 1.\n",
    "               \"P_hotel_perc\": 0.05,\n",
    "               \"P_hotel\": None, # None: calculate P_hotel from percentage\n",
    "               \"L_w\": 3.0 ,\n",
    "               \"C_B\":0.85, \n",
    "               \"C_year\":1990,\n",
    "              }          "
   ]
  },
  {
   "cell_type": "markdown",
   "metadata": {},
   "source": [
    "### 3. Find path and h_min\n",
    "We are going to create a simulation in which a vessel moves from *Node 0* to *Node 3*. Therefore, we need to create a vessel to which we will need to append this paths. Therefore, first let's create the path."
   ]
  },
  {
   "cell_type": "code",
   "execution_count": 35,
   "metadata": {},
   "outputs": [],
   "source": [
    "path = nx.dijkstra_path(FG, nodes[0].name, nodes[3].name)"
   ]
  },
  {
   "cell_type": "code",
   "execution_count": 36,
   "metadata": {},
   "outputs": [
    {
     "name": "stdout",
     "output_type": "stream",
     "text": [
      "minimum waterdepth along path is 2.5 m\n"
     ]
    }
   ],
   "source": [
    "h_min = np.inf\n",
    "for edge in FG.edges:\n",
    "    h_min=min([h_min, FG.get_edge_data(edge[0], edge[1])[\"Info\"][\"GeneralDepth\"]])\n",
    "print('minimum waterdepth along path is {} m'.format(h_min))"
   ]
  },
  {
   "cell_type": "markdown",
   "metadata": {},
   "source": [
    "### 4. Define max_sinkage_at_v_strategy function to know the maximum sinkage for a possible velocity "
   ]
  },
  {
   "cell_type": "code",
   "execution_count": 46,
   "metadata": {},
   "outputs": [],
   "source": [
    "def get_v(vessel, width, depth, margin, bounds):\n",
    "    ''' for a waterway section with a given width and depth, compute the velocity that can be \n",
    "    reached given a vessel's T and a safety margin.'''\n",
    "    \n",
    "\n",
    "    def seek_v_given_z(v, vessel, width, depth, margin):\n",
    "        # calculate sinkage\n",
    "\n",
    "        z_computed = (vessel.C_B * ((vessel.B * vessel._T) / (width * depth)) ** 0.81) * ((v*1.94) ** 2.08) / 20\n",
    "\n",
    "        # calculate available underkeel clearance (vessel in rest)\n",
    "        z_given = depth - vessel._T\n",
    "\n",
    "        # compute difference between the sinkage and the space available for sinkage (including safety margin)\n",
    "        diff = z_given - z_computed - margin \n",
    "\n",
    "        return diff ** 2\n",
    "\n",
    "    # goalseek to minimize\n",
    "    fun = functools.partial(seek_v_given_z, vessel=vessel, width=width, depth=depth, margin=margin)\n",
    "    fit = scipy.optimize.minimize_scalar(fun, bounds=bounds, method='bounded')\n",
    "\n",
    "    # check if we found a minimum\n",
    "    if not fit.success:\n",
    "        raise ValueError(fit)\n",
    "\n",
    "    # the value of fit.x within the bound (0,20) is the velocity we find where the diff**2 reach a minimum (zero).\n",
    "    v =  fit.x\n",
    "    \n",
    "    # calculate the key values again for the resulting speed\n",
    "    z_computed = (vessel.C_B * ((vessel.B * vessel._T) / (width * depth)) ** 0.81) * ((v*1.94) ** 2.08) / 20\n",
    "    depth_squat = depth - z_computed \n",
    "\n",
    "    return v, depth, depth_squat, z_computed, margin   "
   ]
  },
  {
   "cell_type": "code",
   "execution_count": 94,
   "metadata": {},
   "outputs": [],
   "source": [
    "def get_upperbound_for_power2v(vessel, width, depth, margin=0, bounds=(0,20)):\n",
    "    ''' for a waterway section with a given width and depth, compute a maximum installed-\n",
    "    power-allowed velocity, considering squat. This velocity can be used as upperbound in the \n",
    "    power2v function in energy.py. The \"upperbound\" is the maximum value in velocity searching \n",
    "    range.'''\n",
    "\n",
    "    # estimate the grounding velocity \n",
    "    grounding_v, depth, depth_squat, z_computed, margin = get_v(vessel, width, depth, margin=0, bounds=bounds)\n",
    "    \n",
    "    # find max power velocity\n",
    "    velocity = np.linspace(0.01, grounding_v, 1000) \n",
    "    task = list(itertools.product(velocity[0:-1]))\n",
    "\n",
    "    # prepare a list of dictionaries for pandas\n",
    "    rows = []\n",
    "    for item in task:\n",
    "        row = {\"velocity\": item[0]}\n",
    "        rows.append(row)\n",
    "\n",
    "    # convert simulations to dataframe, so that we can apply a function and monitor progress\n",
    "    task_df = pd.DataFrame(rows)\n",
    "    \n",
    "    # creat a results empty list to collect the below results\n",
    "    results = []   \n",
    "    for i, row in tqdm.tqdm(task_df.iterrows()):\n",
    "        # calculate squat and the waterdepth after squat\n",
    "        z_computed = (vessel.C_B * ((vessel.B * vessel._T) / (width * depth)) ** 0.81) * ((row['velocity']*1.94) ** 2.08) / 20\n",
    "    \n",
    "        # calculate squatted waterdepth\n",
    "        h_0 = depth  - z_computed\n",
    "        \n",
    "        # for the squatted water depth calculate resistance and power\n",
    "        vessel.calculate_total_resistance(v=row['velocity'], h_0=h_0)\n",
    "        vessel.calculate_total_power_required(v=row['velocity'])\n",
    "        \n",
    "        # prepare a row\n",
    "        result = {}\n",
    "        result.update(row)\n",
    "        result['Powerallowed_v'] = row['velocity']\n",
    "        result['P_tot'] = vessel.P_tot\n",
    "        result['P_installed'] = vessel.P_installed\n",
    "        result['h_0'] = depth\n",
    "        result['z_computed'] = z_computed\n",
    "        result['h_squat'] = h_0\n",
    "        \n",
    "        # update resulst dict\n",
    "        results.append(result)\n",
    "    \n",
    "    results_df = pd.DataFrame(results)\n",
    "\n",
    "    # return only dataframe up to and including the first time that P_tot == P_installed\n",
    "    selected = results_df[0:(results_df.P_installed>=results_df.P_tot).idxmin()]\n",
    "\n",
    "    upperbound = selected.Powerallowed_v.max()\n",
    "\n",
    "    return upperbound, selected, results_df"
   ]
  },
  {
   "cell_type": "markdown",
   "metadata": {},
   "source": [
    "### 5. Create a worklist of strategies"
   ]
  },
  {
   "cell_type": "code",
   "execution_count": 102,
   "metadata": {},
   "outputs": [],
   "source": [
    "# provide max and min draught\n",
    "max_draught = 2.30\n",
    "min_operational_draught = 1.50\n",
    "stepsize = -0.05\n",
    "\n",
    "# create lists of strategy values\n",
    "T_strategy = np.arange(max_draught, min_operational_draught+stepsize, stepsize).round(2).tolist()\n",
    "h_min = [2.5]\n",
    "safety_margin = [0.2]\n",
    "width = [150]"
   ]
  },
  {
   "cell_type": "code",
   "execution_count": 103,
   "metadata": {},
   "outputs": [
    {
     "data": {
      "text/html": [
       "<div>\n",
       "<style scoped>\n",
       "    .dataframe tbody tr th:only-of-type {\n",
       "        vertical-align: middle;\n",
       "    }\n",
       "\n",
       "    .dataframe tbody tr th {\n",
       "        vertical-align: top;\n",
       "    }\n",
       "\n",
       "    .dataframe thead th {\n",
       "        text-align: right;\n",
       "    }\n",
       "</style>\n",
       "<table border=\"1\" class=\"dataframe\">\n",
       "  <thead>\n",
       "    <tr style=\"text-align: right;\">\n",
       "      <th></th>\n",
       "      <th>T_strategy</th>\n",
       "      <th>h_min</th>\n",
       "      <th>safety_margin</th>\n",
       "      <th>width</th>\n",
       "    </tr>\n",
       "  </thead>\n",
       "  <tbody>\n",
       "    <tr>\n",
       "      <th>12</th>\n",
       "      <td>1.70</td>\n",
       "      <td>2.5</td>\n",
       "      <td>0.2</td>\n",
       "      <td>150</td>\n",
       "    </tr>\n",
       "    <tr>\n",
       "      <th>13</th>\n",
       "      <td>1.65</td>\n",
       "      <td>2.5</td>\n",
       "      <td>0.2</td>\n",
       "      <td>150</td>\n",
       "    </tr>\n",
       "    <tr>\n",
       "      <th>14</th>\n",
       "      <td>1.60</td>\n",
       "      <td>2.5</td>\n",
       "      <td>0.2</td>\n",
       "      <td>150</td>\n",
       "    </tr>\n",
       "    <tr>\n",
       "      <th>15</th>\n",
       "      <td>1.55</td>\n",
       "      <td>2.5</td>\n",
       "      <td>0.2</td>\n",
       "      <td>150</td>\n",
       "    </tr>\n",
       "    <tr>\n",
       "      <th>16</th>\n",
       "      <td>1.50</td>\n",
       "      <td>2.5</td>\n",
       "      <td>0.2</td>\n",
       "      <td>150</td>\n",
       "    </tr>\n",
       "  </tbody>\n",
       "</table>\n",
       "</div>"
      ],
      "text/plain": [
       "    T_strategy  h_min  safety_margin  width\n",
       "12        1.70    2.5            0.2    150\n",
       "13        1.65    2.5            0.2    150\n",
       "14        1.60    2.5            0.2    150\n",
       "15        1.55    2.5            0.2    150\n",
       "16        1.50    2.5            0.2    150"
      ]
     },
     "execution_count": 103,
     "metadata": {},
     "output_type": "execute_result"
    }
   ],
   "source": [
    "# prepare the work to be done by creating a list of all combinations\n",
    "work = list(itertools.product(T_strategy, h_min, safety_margin, width))\n",
    "\n",
    "# prepare a list of dictionaries for pandas\n",
    "rows = []\n",
    "for item in work:\n",
    "    row = {\"T_strategy\": item[0],\"h_min\":item[1], \"safety_margin\":item[2], \"width\":item[3]}\n",
    "    rows.append(row)\n",
    "\n",
    "    # these are all the simulations that we want to run\n",
    "\n",
    "# convert them to dataframe, so that we can apply a function and monitor progress\n",
    "work_df = pd.DataFrame(rows)\n",
    "work_df.tail()"
   ]
  },
  {
   "cell_type": "markdown",
   "metadata": {},
   "source": [
    "### 6. Run the strategies"
   ]
  },
  {
   "cell_type": "code",
   "execution_count": 104,
   "metadata": {},
   "outputs": [
    {
     "name": "stderr",
     "output_type": "stream",
     "text": [
      "\r",
      "0it [00:00, ?it/s]"
     ]
    },
    {
     "data": {
      "text/plain": [
       "T_strategy         2.3\n",
       "h_min              2.5\n",
       "safety_margin      0.2\n",
       "width            150.0\n",
       "Name: 0, dtype: float64"
      ]
     },
     "metadata": {},
     "output_type": "display_data"
    },
    {
     "name": "stderr",
     "output_type": "stream",
     "text": [
      "\n",
      "0it [00:00, ?it/s]\u001b[A\n",
      "309it [00:00, 3059.54it/s]\u001b[A\n",
      "615it [00:00, 2638.98it/s]\u001b[A\n",
      "999it [00:00, 2388.44it/s]\u001b[A\n",
      "1it [00:00,  2.28it/s]"
     ]
    },
    {
     "data": {
      "text/plain": [
       "T_strategy         2.25\n",
       "h_min              2.50\n",
       "safety_margin      0.20\n",
       "width            150.00\n",
       "Name: 1, dtype: float64"
      ]
     },
     "metadata": {},
     "output_type": "display_data"
    },
    {
     "name": "stderr",
     "output_type": "stream",
     "text": [
      "\n",
      "0it [00:00, ?it/s]\u001b[A\n",
      "206it [00:00, 2044.41it/s]\u001b[A\n",
      "411it [00:00, 2019.18it/s]\u001b[A\n",
      "689it [00:00, 2362.31it/s]\u001b[A\n",
      "999it [00:00, 2405.61it/s]\u001b[A\n",
      "2it [00:00,  2.28it/s]"
     ]
    },
    {
     "data": {
      "text/plain": [
       "T_strategy         2.2\n",
       "h_min              2.5\n",
       "safety_margin      0.2\n",
       "width            150.0\n",
       "Name: 2, dtype: float64"
      ]
     },
     "metadata": {},
     "output_type": "display_data"
    },
    {
     "name": "stderr",
     "output_type": "stream",
     "text": [
      "\n",
      "0it [00:00, ?it/s]\u001b[A\n",
      "289it [00:00, 2866.39it/s]\u001b[A\n",
      "576it [00:00, 2792.24it/s]\u001b[A\n",
      "999it [00:00, 2431.07it/s]\u001b[A\n",
      "3it [00:01,  2.29it/s]"
     ]
    },
    {
     "data": {
      "text/plain": [
       "T_strategy         2.15\n",
       "h_min              2.50\n",
       "safety_margin      0.20\n",
       "width            150.00\n",
       "Name: 3, dtype: float64"
      ]
     },
     "metadata": {},
     "output_type": "display_data"
    },
    {
     "name": "stderr",
     "output_type": "stream",
     "text": [
      "\n",
      "0it [00:00, ?it/s]\u001b[A\n",
      "260it [00:00, 2595.33it/s]\u001b[A\n",
      "520it [00:00, 2532.35it/s]\u001b[A\n",
      "999it [00:00, 2532.91it/s]\u001b[A\n",
      "4it [00:01,  2.30it/s]"
     ]
    },
    {
     "data": {
      "text/plain": [
       "T_strategy         2.1\n",
       "h_min              2.5\n",
       "safety_margin      0.2\n",
       "width            150.0\n",
       "Name: 4, dtype: float64"
      ]
     },
     "metadata": {},
     "output_type": "display_data"
    },
    {
     "name": "stderr",
     "output_type": "stream",
     "text": [
      "\n",
      "0it [00:00, ?it/s]\u001b[A\n",
      "284it [00:00, 2839.95it/s]\u001b[A\n",
      "568it [00:00, 2822.33it/s]\u001b[A\n",
      "999it [00:00, 2642.16it/s]\u001b[A\n",
      "5it [00:02,  2.37it/s]"
     ]
    },
    {
     "data": {
      "text/plain": [
       "T_strategy         2.05\n",
       "h_min              2.50\n",
       "safety_margin      0.20\n",
       "width            150.00\n",
       "Name: 5, dtype: float64"
      ]
     },
     "metadata": {},
     "output_type": "display_data"
    },
    {
     "name": "stderr",
     "output_type": "stream",
     "text": [
      "\n",
      "0it [00:00, ?it/s]\u001b[A\n",
      "286it [00:00, 2838.34it/s]\u001b[A\n",
      "570it [00:00, 2524.30it/s]\u001b[A\n",
      "999it [00:00, 2635.67it/s]\u001b[A\n",
      "6it [00:02,  2.42it/s]"
     ]
    },
    {
     "data": {
      "text/plain": [
       "T_strategy         2.0\n",
       "h_min              2.5\n",
       "safety_margin      0.2\n",
       "width            150.0\n",
       "Name: 6, dtype: float64"
      ]
     },
     "metadata": {},
     "output_type": "display_data"
    },
    {
     "name": "stderr",
     "output_type": "stream",
     "text": [
      "\n",
      "0it [00:00, ?it/s]\u001b[A\n",
      "297it [00:00, 2960.03it/s]\u001b[A\n",
      "594it [00:00, 2741.98it/s]\u001b[A\n",
      "999it [00:00, 2737.45it/s]\u001b[A\n",
      "7it [00:02,  2.48it/s]"
     ]
    },
    {
     "data": {
      "text/plain": [
       "T_strategy         1.95\n",
       "h_min              2.50\n",
       "safety_margin      0.20\n",
       "width            150.00\n",
       "Name: 7, dtype: float64"
      ]
     },
     "metadata": {},
     "output_type": "display_data"
    },
    {
     "name": "stderr",
     "output_type": "stream",
     "text": [
      "\n",
      "0it [00:00, ?it/s]\u001b[A\n",
      "298it [00:00, 2967.86it/s]\u001b[A\n",
      "595it [00:00, 2513.44it/s]\u001b[A\n",
      "999it [00:00, 2555.34it/s]\u001b[A\n",
      "8it [00:03,  2.46it/s]"
     ]
    },
    {
     "data": {
      "text/plain": [
       "T_strategy         1.9\n",
       "h_min              2.5\n",
       "safety_margin      0.2\n",
       "width            150.0\n",
       "Name: 8, dtype: float64"
      ]
     },
     "metadata": {},
     "output_type": "display_data"
    },
    {
     "name": "stderr",
     "output_type": "stream",
     "text": [
      "\n",
      "0it [00:00, ?it/s]\u001b[A\n",
      "287it [00:00, 2862.69it/s]\u001b[A\n",
      "574it [00:00, 2663.74it/s]\u001b[A\n",
      "999it [00:00, 2641.45it/s]\u001b[A\n",
      "9it [00:03,  2.47it/s]"
     ]
    },
    {
     "data": {
      "text/plain": [
       "T_strategy         1.85\n",
       "h_min              2.50\n",
       "safety_margin      0.20\n",
       "width            150.00\n",
       "Name: 9, dtype: float64"
      ]
     },
     "metadata": {},
     "output_type": "display_data"
    },
    {
     "name": "stderr",
     "output_type": "stream",
     "text": [
      "\n",
      "0it [00:00, ?it/s]\u001b[A\n",
      "271it [00:00, 2707.00it/s]\u001b[A\n",
      "542it [00:00, 2358.80it/s]\u001b[A\n",
      "999it [00:00, 2530.58it/s]\u001b[A\n",
      "10it [00:04,  2.45it/s]"
     ]
    },
    {
     "data": {
      "text/plain": [
       "T_strategy         1.8\n",
       "h_min              2.5\n",
       "safety_margin      0.2\n",
       "width            150.0\n",
       "Name: 10, dtype: float64"
      ]
     },
     "metadata": {},
     "output_type": "display_data"
    },
    {
     "name": "stderr",
     "output_type": "stream",
     "text": [
      "\n",
      "0it [00:00, ?it/s]\u001b[A\n",
      "271it [00:00, 2703.85it/s]\u001b[A\n",
      "557it [00:00, 2793.19it/s]\u001b[A\n",
      "999it [00:00, 2584.01it/s]\u001b[A\n",
      "11it [00:04,  2.45it/s]"
     ]
    },
    {
     "data": {
      "text/plain": [
       "T_strategy         1.75\n",
       "h_min              2.50\n",
       "safety_margin      0.20\n",
       "width            150.00\n",
       "Name: 11, dtype: float64"
      ]
     },
     "metadata": {},
     "output_type": "display_data"
    },
    {
     "name": "stderr",
     "output_type": "stream",
     "text": [
      "\n",
      "0it [00:00, ?it/s]\u001b[A\n",
      "229it [00:00, 2281.20it/s]\u001b[A\n",
      "458it [00:00, 2136.18it/s]\u001b[A\n",
      "673it [00:00, 2053.76it/s]\u001b[A\n",
      "999it [00:00, 2025.77it/s]\u001b[A\n",
      "12it [00:05,  2.27it/s]"
     ]
    },
    {
     "data": {
      "text/plain": [
       "T_strategy         1.7\n",
       "h_min              2.5\n",
       "safety_margin      0.2\n",
       "width            150.0\n",
       "Name: 12, dtype: float64"
      ]
     },
     "metadata": {},
     "output_type": "display_data"
    },
    {
     "name": "stderr",
     "output_type": "stream",
     "text": [
      "\n",
      "0it [00:00, ?it/s]\u001b[A\n",
      "228it [00:00, 2261.40it/s]\u001b[A\n",
      "455it [00:00, 2048.96it/s]\u001b[A\n",
      "662it [00:00, 1951.91it/s]\u001b[A\n",
      "999it [00:00, 2014.67it/s]\u001b[A\n",
      "13it [00:05,  2.14it/s]"
     ]
    },
    {
     "data": {
      "text/plain": [
       "T_strategy         1.65\n",
       "h_min              2.50\n",
       "safety_margin      0.20\n",
       "width            150.00\n",
       "Name: 13, dtype: float64"
      ]
     },
     "metadata": {},
     "output_type": "display_data"
    },
    {
     "name": "stderr",
     "output_type": "stream",
     "text": [
      "\n",
      "0it [00:00, ?it/s]\u001b[A\n",
      "118it [00:00, 1175.56it/s]\u001b[A\n",
      "258it [00:00, 1306.75it/s]\u001b[A\n",
      "395it [00:00, 1335.37it/s]\u001b[A\n",
      "603it [00:00, 1628.03it/s]\u001b[A\n",
      "766it [00:00, 1572.20it/s]\u001b[A\n",
      "999it [00:00, 1576.44it/s]\u001b[A\n",
      "14it [00:06,  1.88it/s]"
     ]
    },
    {
     "data": {
      "text/plain": [
       "T_strategy         1.6\n",
       "h_min              2.5\n",
       "safety_margin      0.2\n",
       "width            150.0\n",
       "Name: 14, dtype: float64"
      ]
     },
     "metadata": {},
     "output_type": "display_data"
    },
    {
     "name": "stderr",
     "output_type": "stream",
     "text": [
      "\n",
      "0it [00:00, ?it/s]\u001b[A\n",
      "132it [00:00, 1294.70it/s]\u001b[A\n",
      "262it [00:00, 1269.40it/s]\u001b[A\n",
      "413it [00:00, 1376.38it/s]\u001b[A\n",
      "570it [00:00, 1451.08it/s]\u001b[A\n",
      "731it [00:00, 1502.65it/s]\u001b[A\n",
      "999it [00:00, 1389.80it/s]\u001b[A\n",
      "15it [00:07,  1.67it/s]"
     ]
    },
    {
     "data": {
      "text/plain": [
       "T_strategy         1.55\n",
       "h_min              2.50\n",
       "safety_margin      0.20\n",
       "width            150.00\n",
       "Name: 15, dtype: float64"
      ]
     },
     "metadata": {},
     "output_type": "display_data"
    },
    {
     "name": "stderr",
     "output_type": "stream",
     "text": [
      "\n",
      "0it [00:00, ?it/s]\u001b[A\n",
      "181it [00:00, 1809.82it/s]\u001b[A\n",
      "362it [00:00, 1762.19it/s]\u001b[A\n",
      "539it [00:00, 1654.25it/s]\u001b[A\n",
      "706it [00:00, 1161.67it/s]\u001b[A\n",
      "838it [00:00, 826.77it/s] \u001b[A\n",
      "999it [00:01, 830.39it/s]\u001b[A\n",
      "16it [00:08,  1.26it/s]"
     ]
    },
    {
     "data": {
      "text/plain": [
       "T_strategy         1.5\n",
       "h_min              2.5\n",
       "safety_margin      0.2\n",
       "width            150.0\n",
       "Name: 16, dtype: float64"
      ]
     },
     "metadata": {},
     "output_type": "display_data"
    },
    {
     "name": "stderr",
     "output_type": "stream",
     "text": [
      "\n",
      "0it [00:00, ?it/s]\u001b[A\n",
      "164it [00:00, 1635.51it/s]\u001b[A\n",
      "355it [00:00, 1791.26it/s]\u001b[A\n",
      "535it [00:00, 1534.02it/s]\u001b[A\n",
      "693it [00:00, 957.31it/s] \u001b[A\n",
      "813it [00:00, 1014.04it/s]\u001b[A\n",
      "999it [00:00, 1052.58it/s]\u001b[A\n",
      "17it [00:09,  1.83it/s]\n"
     ]
    }
   ],
   "source": [
    "Strategies = []\n",
    "\n",
    "for i, row in tqdm.tqdm(work_df.iterrows()):\n",
    "    display(row)\n",
    "\n",
    "    # get vessel \n",
    "    data_vessel_i = data_vessel.copy()\n",
    "    vessel = TransportResource(**data_vessel_i)\n",
    "    vessel._T = row['T_strategy']\n",
    "    vessel.safety_margin = row['safety_margin']\n",
    "    \n",
    "    # estimate 'grounding speed' as a useful upperbound\n",
    "    upperbound, selected, results_df = get_upperbound_for_power2v(vessel, width=row['width'], depth=row['h_min'], margin=0)\n",
    "    \n",
    "    # calculate the velocity that belongs to the T_strategy (while leaving the margin)\n",
    "    v, depth, depth_squat, z_computed, margin = get_v(vessel, width=row['width'], depth=row['h_min'], margin=row['safety_margin'], bounds=(0, upperbound))\n",
    "    \n",
    "    #     results_df = get_upperbound_for_power2v(vessel, width=width, depth=row['h_min'], margin=0.2)\n",
    "    # get v_T2v in the bottleneck section\n",
    "#     v_T2v  = opentnsim.strategy.T2v(vessel, h_min = row['h_min'])\n",
    "    \n",
    "#     # get v_P2v in the bottleneck section\n",
    "#     upperbound = opentnsim.energy.get_upperbound_for_power2v(vessel, width=150, depth=row['h_min'])\n",
    "\n",
    "#     v_P2v = opentnsim.strategy.P2v(vessel, h_min = row['h_min'], upperbound = upperbound)\n",
    "#     # get final maximum velocity in the bottleneck section\n",
    "#     v_max_final = min(v_T2v, v_P2v)\n",
    "    \n",
    "#     print(v_max_final)\n",
    "\n",
    "#     v_T2v, v_P2v, v_max_final = opentnsim.strategy.get_v_max_for_bottleneck(FG, path_bottleneck, vessel, T_strategy)\n",
    "    Payload_comupted = opentnsim.strategy.T2Payload(vessel, row['T_strategy'], vessel_type = \"Tanker\") \n",
    "    \n",
    "#     v_strategy, max_sinkage = max_sinkage_at_v_strategy (vessel,T_strategy, v_max_final)\n",
    "# #     remained_distance_to_margin = row['h_min'] - row['T_strategy'] - max_sinkage - safety_margin\n",
    "\n",
    "# #     print('upperbound velocity {:.2f} m/s'.format(bottleneck_upperbound))\n",
    "    \n",
    "    Strategy ={}\n",
    "    Strategy.update(row)\n",
    "    Strategy['v_upper_bound (m/s)'] = upperbound    \n",
    "    Strategy['v_strategy (m/s)'] = v\n",
    "    Strategy['z_computed (m)'] = z_computed\n",
    "    Strategy['depth squat (m)'] = depth_squat\n",
    "    Strategy['T + margin (m)'] = row['T_strategy']+ row['safety_margin']\n",
    "    \n",
    "# #     Strategy['remained_distance_to_margin (cm)'] = remained_distance_to_margin * 100\n",
    "# #     Strategy['v_max_(sinkage_allowed) (m/s)'] = v_T2v\n",
    "#     Strategy['v_max_(power_allowed) (m/s)'] = bottleneck_upperbound    \n",
    "    Strategy['Payload_strategy_tanker (ton)'] = Payload_comupted\n",
    "    Strategies.append(Strategy)"
   ]
  },
  {
   "cell_type": "code",
   "execution_count": 105,
   "metadata": {},
   "outputs": [
    {
     "data": {
      "text/html": [
       "<div>\n",
       "<style scoped>\n",
       "    .dataframe tbody tr th:only-of-type {\n",
       "        vertical-align: middle;\n",
       "    }\n",
       "\n",
       "    .dataframe tbody tr th {\n",
       "        vertical-align: top;\n",
       "    }\n",
       "\n",
       "    .dataframe thead th {\n",
       "        text-align: right;\n",
       "    }\n",
       "</style>\n",
       "<table border=\"1\" class=\"dataframe\">\n",
       "  <thead>\n",
       "    <tr style=\"text-align: right;\">\n",
       "      <th></th>\n",
       "      <th>T_strategy</th>\n",
       "      <th>h_min</th>\n",
       "      <th>safety_margin</th>\n",
       "      <th>width</th>\n",
       "      <th>v_upper_bound (m/s)</th>\n",
       "      <th>v_strategy (m/s)</th>\n",
       "      <th>z_computed (m)</th>\n",
       "      <th>depth squat (m)</th>\n",
       "      <th>T + margin (m)</th>\n",
       "      <th>Payload_strategy_tanker (ton)</th>\n",
       "    </tr>\n",
       "  </thead>\n",
       "  <tbody>\n",
       "    <tr>\n",
       "      <th>0</th>\n",
       "      <td>2.30</td>\n",
       "      <td>2.50</td>\n",
       "      <td>0.20</td>\n",
       "      <td>150.00</td>\n",
       "      <td>2.95</td>\n",
       "      <td>0.00</td>\n",
       "      <td>0.00</td>\n",
       "      <td>2.50</td>\n",
       "      <td>2.50</td>\n",
       "      <td>1342.00</td>\n",
       "    </tr>\n",
       "    <tr>\n",
       "      <th>1</th>\n",
       "      <td>2.25</td>\n",
       "      <td>2.50</td>\n",
       "      <td>0.20</td>\n",
       "      <td>150.00</td>\n",
       "      <td>3.29</td>\n",
       "      <td>1.58</td>\n",
       "      <td>0.05</td>\n",
       "      <td>2.45</td>\n",
       "      <td>2.45</td>\n",
       "      <td>1284.59</td>\n",
       "    </tr>\n",
       "    <tr>\n",
       "      <th>2</th>\n",
       "      <td>2.20</td>\n",
       "      <td>2.50</td>\n",
       "      <td>0.20</td>\n",
       "      <td>150.00</td>\n",
       "      <td>3.56</td>\n",
       "      <td>2.23</td>\n",
       "      <td>0.10</td>\n",
       "      <td>2.40</td>\n",
       "      <td>2.40</td>\n",
       "      <td>1227.25</td>\n",
       "    </tr>\n",
       "    <tr>\n",
       "      <th>3</th>\n",
       "      <td>2.15</td>\n",
       "      <td>2.50</td>\n",
       "      <td>0.20</td>\n",
       "      <td>150.00</td>\n",
       "      <td>3.72</td>\n",
       "      <td>2.73</td>\n",
       "      <td>0.15</td>\n",
       "      <td>2.35</td>\n",
       "      <td>2.35</td>\n",
       "      <td>1169.98</td>\n",
       "    </tr>\n",
       "    <tr>\n",
       "      <th>4</th>\n",
       "      <td>2.10</td>\n",
       "      <td>2.50</td>\n",
       "      <td>0.20</td>\n",
       "      <td>150.00</td>\n",
       "      <td>3.75</td>\n",
       "      <td>3.17</td>\n",
       "      <td>0.20</td>\n",
       "      <td>2.30</td>\n",
       "      <td>2.30</td>\n",
       "      <td>1112.77</td>\n",
       "    </tr>\n",
       "    <tr>\n",
       "      <th>5</th>\n",
       "      <td>2.05</td>\n",
       "      <td>2.50</td>\n",
       "      <td>0.20</td>\n",
       "      <td>150.00</td>\n",
       "      <td>3.76</td>\n",
       "      <td>3.56</td>\n",
       "      <td>0.25</td>\n",
       "      <td>2.25</td>\n",
       "      <td>2.25</td>\n",
       "      <td>1055.62</td>\n",
       "    </tr>\n",
       "    <tr>\n",
       "      <th>6</th>\n",
       "      <td>2.00</td>\n",
       "      <td>2.50</td>\n",
       "      <td>0.20</td>\n",
       "      <td>150.00</td>\n",
       "      <td>3.76</td>\n",
       "      <td>3.76</td>\n",
       "      <td>0.27</td>\n",
       "      <td>2.23</td>\n",
       "      <td>2.20</td>\n",
       "      <td>998.53</td>\n",
       "    </tr>\n",
       "    <tr>\n",
       "      <th>7</th>\n",
       "      <td>1.95</td>\n",
       "      <td>2.50</td>\n",
       "      <td>0.20</td>\n",
       "      <td>150.00</td>\n",
       "      <td>3.76</td>\n",
       "      <td>3.76</td>\n",
       "      <td>0.27</td>\n",
       "      <td>2.23</td>\n",
       "      <td>2.15</td>\n",
       "      <td>941.51</td>\n",
       "    </tr>\n",
       "    <tr>\n",
       "      <th>8</th>\n",
       "      <td>1.90</td>\n",
       "      <td>2.50</td>\n",
       "      <td>0.20</td>\n",
       "      <td>150.00</td>\n",
       "      <td>3.77</td>\n",
       "      <td>3.77</td>\n",
       "      <td>0.26</td>\n",
       "      <td>2.24</td>\n",
       "      <td>2.10</td>\n",
       "      <td>884.55</td>\n",
       "    </tr>\n",
       "    <tr>\n",
       "      <th>9</th>\n",
       "      <td>1.85</td>\n",
       "      <td>2.50</td>\n",
       "      <td>0.20</td>\n",
       "      <td>150.00</td>\n",
       "      <td>3.76</td>\n",
       "      <td>3.76</td>\n",
       "      <td>0.26</td>\n",
       "      <td>2.24</td>\n",
       "      <td>2.05</td>\n",
       "      <td>827.66</td>\n",
       "    </tr>\n",
       "    <tr>\n",
       "      <th>10</th>\n",
       "      <td>1.80</td>\n",
       "      <td>2.50</td>\n",
       "      <td>0.20</td>\n",
       "      <td>150.00</td>\n",
       "      <td>3.76</td>\n",
       "      <td>3.76</td>\n",
       "      <td>0.25</td>\n",
       "      <td>2.25</td>\n",
       "      <td>2.00</td>\n",
       "      <td>770.83</td>\n",
       "    </tr>\n",
       "    <tr>\n",
       "      <th>11</th>\n",
       "      <td>1.75</td>\n",
       "      <td>2.50</td>\n",
       "      <td>0.20</td>\n",
       "      <td>150.00</td>\n",
       "      <td>3.77</td>\n",
       "      <td>3.77</td>\n",
       "      <td>0.25</td>\n",
       "      <td>2.25</td>\n",
       "      <td>1.95</td>\n",
       "      <td>714.06</td>\n",
       "    </tr>\n",
       "    <tr>\n",
       "      <th>12</th>\n",
       "      <td>1.70</td>\n",
       "      <td>2.50</td>\n",
       "      <td>0.20</td>\n",
       "      <td>150.00</td>\n",
       "      <td>3.76</td>\n",
       "      <td>3.76</td>\n",
       "      <td>0.24</td>\n",
       "      <td>2.26</td>\n",
       "      <td>1.90</td>\n",
       "      <td>657.36</td>\n",
       "    </tr>\n",
       "    <tr>\n",
       "      <th>13</th>\n",
       "      <td>1.65</td>\n",
       "      <td>2.50</td>\n",
       "      <td>0.20</td>\n",
       "      <td>150.00</td>\n",
       "      <td>3.76</td>\n",
       "      <td>3.76</td>\n",
       "      <td>0.23</td>\n",
       "      <td>2.27</td>\n",
       "      <td>1.85</td>\n",
       "      <td>600.72</td>\n",
       "    </tr>\n",
       "    <tr>\n",
       "      <th>14</th>\n",
       "      <td>1.60</td>\n",
       "      <td>2.50</td>\n",
       "      <td>0.20</td>\n",
       "      <td>150.00</td>\n",
       "      <td>3.75</td>\n",
       "      <td>3.75</td>\n",
       "      <td>0.23</td>\n",
       "      <td>2.27</td>\n",
       "      <td>1.80</td>\n",
       "      <td>544.14</td>\n",
       "    </tr>\n",
       "    <tr>\n",
       "      <th>15</th>\n",
       "      <td>1.55</td>\n",
       "      <td>2.50</td>\n",
       "      <td>0.20</td>\n",
       "      <td>150.00</td>\n",
       "      <td>3.74</td>\n",
       "      <td>3.74</td>\n",
       "      <td>0.22</td>\n",
       "      <td>2.28</td>\n",
       "      <td>1.75</td>\n",
       "      <td>487.63</td>\n",
       "    </tr>\n",
       "    <tr>\n",
       "      <th>16</th>\n",
       "      <td>1.50</td>\n",
       "      <td>2.50</td>\n",
       "      <td>0.20</td>\n",
       "      <td>150.00</td>\n",
       "      <td>3.73</td>\n",
       "      <td>3.73</td>\n",
       "      <td>0.21</td>\n",
       "      <td>2.29</td>\n",
       "      <td>1.70</td>\n",
       "      <td>431.18</td>\n",
       "    </tr>\n",
       "  </tbody>\n",
       "</table>\n",
       "</div>"
      ],
      "text/plain": [
       "    T_strategy  h_min  safety_margin  width  v_upper_bound (m/s)  \\\n",
       "0         2.30   2.50           0.20 150.00                 2.95   \n",
       "1         2.25   2.50           0.20 150.00                 3.29   \n",
       "2         2.20   2.50           0.20 150.00                 3.56   \n",
       "3         2.15   2.50           0.20 150.00                 3.72   \n",
       "4         2.10   2.50           0.20 150.00                 3.75   \n",
       "5         2.05   2.50           0.20 150.00                 3.76   \n",
       "6         2.00   2.50           0.20 150.00                 3.76   \n",
       "7         1.95   2.50           0.20 150.00                 3.76   \n",
       "8         1.90   2.50           0.20 150.00                 3.77   \n",
       "9         1.85   2.50           0.20 150.00                 3.76   \n",
       "10        1.80   2.50           0.20 150.00                 3.76   \n",
       "11        1.75   2.50           0.20 150.00                 3.77   \n",
       "12        1.70   2.50           0.20 150.00                 3.76   \n",
       "13        1.65   2.50           0.20 150.00                 3.76   \n",
       "14        1.60   2.50           0.20 150.00                 3.75   \n",
       "15        1.55   2.50           0.20 150.00                 3.74   \n",
       "16        1.50   2.50           0.20 150.00                 3.73   \n",
       "\n",
       "    v_strategy (m/s)  z_computed (m)  depth squat (m)  T + margin (m)  \\\n",
       "0               0.00            0.00             2.50            2.50   \n",
       "1               1.58            0.05             2.45            2.45   \n",
       "2               2.23            0.10             2.40            2.40   \n",
       "3               2.73            0.15             2.35            2.35   \n",
       "4               3.17            0.20             2.30            2.30   \n",
       "5               3.56            0.25             2.25            2.25   \n",
       "6               3.76            0.27             2.23            2.20   \n",
       "7               3.76            0.27             2.23            2.15   \n",
       "8               3.77            0.26             2.24            2.10   \n",
       "9               3.76            0.26             2.24            2.05   \n",
       "10              3.76            0.25             2.25            2.00   \n",
       "11              3.77            0.25             2.25            1.95   \n",
       "12              3.76            0.24             2.26            1.90   \n",
       "13              3.76            0.23             2.27            1.85   \n",
       "14              3.75            0.23             2.27            1.80   \n",
       "15              3.74            0.22             2.28            1.75   \n",
       "16              3.73            0.21             2.29            1.70   \n",
       "\n",
       "    Payload_strategy_tanker (ton)  \n",
       "0                         1342.00  \n",
       "1                         1284.59  \n",
       "2                         1227.25  \n",
       "3                         1169.98  \n",
       "4                         1112.77  \n",
       "5                         1055.62  \n",
       "6                          998.53  \n",
       "7                          941.51  \n",
       "8                          884.55  \n",
       "9                          827.66  \n",
       "10                         770.83  \n",
       "11                         714.06  \n",
       "12                         657.36  \n",
       "13                         600.72  \n",
       "14                         544.14  \n",
       "15                         487.63  \n",
       "16                         431.18  "
      ]
     },
     "metadata": {},
     "output_type": "display_data"
    }
   ],
   "source": [
    "Strategies_df = pd.DataFrame(Strategies)\n",
    "with pd.option_context('display.float_format', '{:.2f}'.format):\n",
    "    display(Strategies_df.head(35))"
   ]
  },
  {
   "cell_type": "code",
   "execution_count": 106,
   "metadata": {},
   "outputs": [
    {
     "data": {
      "text/html": [
       "<div>\n",
       "<style scoped>\n",
       "    .dataframe tbody tr th:only-of-type {\n",
       "        vertical-align: middle;\n",
       "    }\n",
       "\n",
       "    .dataframe tbody tr th {\n",
       "        vertical-align: top;\n",
       "    }\n",
       "\n",
       "    .dataframe thead th {\n",
       "        text-align: right;\n",
       "    }\n",
       "</style>\n",
       "<table border=\"1\" class=\"dataframe\">\n",
       "  <thead>\n",
       "    <tr style=\"text-align: right;\">\n",
       "      <th></th>\n",
       "      <th>T_strategy</th>\n",
       "      <th>h_min</th>\n",
       "      <th>safety_margin</th>\n",
       "      <th>width</th>\n",
       "      <th>v_upper_bound (m/s)</th>\n",
       "      <th>v_strategy (m/s)</th>\n",
       "      <th>z_computed (m)</th>\n",
       "      <th>depth squat (m)</th>\n",
       "      <th>T + margin (m)</th>\n",
       "      <th>Payload_strategy_tanker (ton)</th>\n",
       "    </tr>\n",
       "  </thead>\n",
       "  <tbody>\n",
       "    <tr>\n",
       "      <th>0</th>\n",
       "      <td>2.30</td>\n",
       "      <td>2.5</td>\n",
       "      <td>0.2</td>\n",
       "      <td>150.0</td>\n",
       "      <td>2.954841</td>\n",
       "      <td>0.000006</td>\n",
       "      <td>2.325408e-13</td>\n",
       "      <td>2.500000</td>\n",
       "      <td>2.50</td>\n",
       "      <td>1341.996625</td>\n",
       "    </tr>\n",
       "    <tr>\n",
       "      <th>1</th>\n",
       "      <td>2.25</td>\n",
       "      <td>2.5</td>\n",
       "      <td>0.2</td>\n",
       "      <td>150.0</td>\n",
       "      <td>3.293707</td>\n",
       "      <td>1.584117</td>\n",
       "      <td>4.999993e-02</td>\n",
       "      <td>2.450000</td>\n",
       "      <td>2.45</td>\n",
       "      <td>1284.593609</td>\n",
       "    </tr>\n",
       "    <tr>\n",
       "      <th>2</th>\n",
       "      <td>2.20</td>\n",
       "      <td>2.5</td>\n",
       "      <td>0.2</td>\n",
       "      <td>150.0</td>\n",
       "      <td>3.555272</td>\n",
       "      <td>2.230048</td>\n",
       "      <td>1.000000e-01</td>\n",
       "      <td>2.400000</td>\n",
       "      <td>2.40</td>\n",
       "      <td>1227.254179</td>\n",
       "    </tr>\n",
       "    <tr>\n",
       "      <th>3</th>\n",
       "      <td>2.15</td>\n",
       "      <td>2.5</td>\n",
       "      <td>0.2</td>\n",
       "      <td>150.0</td>\n",
       "      <td>3.715420</td>\n",
       "      <td>2.734397</td>\n",
       "      <td>1.500000e-01</td>\n",
       "      <td>2.350000</td>\n",
       "      <td>2.35</td>\n",
       "      <td>1169.978336</td>\n",
       "    </tr>\n",
       "    <tr>\n",
       "      <th>4</th>\n",
       "      <td>2.10</td>\n",
       "      <td>2.5</td>\n",
       "      <td>0.2</td>\n",
       "      <td>150.0</td>\n",
       "      <td>3.746418</td>\n",
       "      <td>3.168895</td>\n",
       "      <td>2.000000e-01</td>\n",
       "      <td>2.300000</td>\n",
       "      <td>2.30</td>\n",
       "      <td>1112.766079</td>\n",
       "    </tr>\n",
       "    <tr>\n",
       "      <th>5</th>\n",
       "      <td>2.05</td>\n",
       "      <td>2.5</td>\n",
       "      <td>0.2</td>\n",
       "      <td>150.0</td>\n",
       "      <td>3.756593</td>\n",
       "      <td>3.561023</td>\n",
       "      <td>2.500001e-01</td>\n",
       "      <td>2.250000</td>\n",
       "      <td>2.25</td>\n",
       "      <td>1055.617409</td>\n",
       "    </tr>\n",
       "    <tr>\n",
       "      <th>6</th>\n",
       "      <td>2.00</td>\n",
       "      <td>2.5</td>\n",
       "      <td>0.2</td>\n",
       "      <td>150.0</td>\n",
       "      <td>3.759267</td>\n",
       "      <td>3.759262</td>\n",
       "      <td>2.742785e-01</td>\n",
       "      <td>2.225721</td>\n",
       "      <td>2.20</td>\n",
       "      <td>998.532325</td>\n",
       "    </tr>\n",
       "    <tr>\n",
       "      <th>7</th>\n",
       "      <td>1.95</td>\n",
       "      <td>2.5</td>\n",
       "      <td>0.2</td>\n",
       "      <td>150.0</td>\n",
       "      <td>3.762383</td>\n",
       "      <td>3.762378</td>\n",
       "      <td>2.691746e-01</td>\n",
       "      <td>2.230825</td>\n",
       "      <td>2.15</td>\n",
       "      <td>941.510827</td>\n",
       "    </tr>\n",
       "    <tr>\n",
       "      <th>8</th>\n",
       "      <td>1.90</td>\n",
       "      <td>2.5</td>\n",
       "      <td>0.2</td>\n",
       "      <td>150.0</td>\n",
       "      <td>3.767432</td>\n",
       "      <td>3.767427</td>\n",
       "      <td>2.643065e-01</td>\n",
       "      <td>2.235693</td>\n",
       "      <td>2.10</td>\n",
       "      <td>884.552916</td>\n",
       "    </tr>\n",
       "    <tr>\n",
       "      <th>9</th>\n",
       "      <td>1.85</td>\n",
       "      <td>2.5</td>\n",
       "      <td>0.2</td>\n",
       "      <td>150.0</td>\n",
       "      <td>3.762459</td>\n",
       "      <td>3.762454</td>\n",
       "      <td>2.579487e-01</td>\n",
       "      <td>2.242051</td>\n",
       "      <td>2.05</td>\n",
       "      <td>827.658592</td>\n",
       "    </tr>\n",
       "    <tr>\n",
       "      <th>10</th>\n",
       "      <td>1.80</td>\n",
       "      <td>2.5</td>\n",
       "      <td>0.2</td>\n",
       "      <td>150.0</td>\n",
       "      <td>3.762477</td>\n",
       "      <td>3.762472</td>\n",
       "      <td>2.522895e-01</td>\n",
       "      <td>2.247710</td>\n",
       "      <td>2.00</td>\n",
       "      <td>770.827854</td>\n",
       "    </tr>\n",
       "    <tr>\n",
       "      <th>11</th>\n",
       "      <td>1.75</td>\n",
       "      <td>2.5</td>\n",
       "      <td>0.2</td>\n",
       "      <td>150.0</td>\n",
       "      <td>3.765200</td>\n",
       "      <td>3.765195</td>\n",
       "      <td>2.469692e-01</td>\n",
       "      <td>2.253031</td>\n",
       "      <td>1.95</td>\n",
       "      <td>714.060702</td>\n",
       "    </tr>\n",
       "    <tr>\n",
       "      <th>12</th>\n",
       "      <td>1.70</td>\n",
       "      <td>2.5</td>\n",
       "      <td>0.2</td>\n",
       "      <td>150.0</td>\n",
       "      <td>3.760344</td>\n",
       "      <td>3.760339</td>\n",
       "      <td>2.405913e-01</td>\n",
       "      <td>2.259409</td>\n",
       "      <td>1.90</td>\n",
       "      <td>657.357137</td>\n",
       "    </tr>\n",
       "    <tr>\n",
       "      <th>13</th>\n",
       "      <td>1.65</td>\n",
       "      <td>2.5</td>\n",
       "      <td>0.2</td>\n",
       "      <td>150.0</td>\n",
       "      <td>3.756194</td>\n",
       "      <td>3.756189</td>\n",
       "      <td>2.343046e-01</td>\n",
       "      <td>2.265695</td>\n",
       "      <td>1.85</td>\n",
       "      <td>600.717158</td>\n",
       "    </tr>\n",
       "    <tr>\n",
       "      <th>14</th>\n",
       "      <td>1.60</td>\n",
       "      <td>2.5</td>\n",
       "      <td>0.2</td>\n",
       "      <td>150.0</td>\n",
       "      <td>3.754798</td>\n",
       "      <td>3.754793</td>\n",
       "      <td>2.283601e-01</td>\n",
       "      <td>2.271640</td>\n",
       "      <td>1.80</td>\n",
       "      <td>544.140766</td>\n",
       "    </tr>\n",
       "    <tr>\n",
       "      <th>15</th>\n",
       "      <td>1.55</td>\n",
       "      <td>2.5</td>\n",
       "      <td>0.2</td>\n",
       "      <td>150.0</td>\n",
       "      <td>3.743060</td>\n",
       "      <td>3.743055</td>\n",
       "      <td>2.211176e-01</td>\n",
       "      <td>2.278882</td>\n",
       "      <td>1.75</td>\n",
       "      <td>487.627960</td>\n",
       "    </tr>\n",
       "    <tr>\n",
       "      <th>16</th>\n",
       "      <td>1.50</td>\n",
       "      <td>2.5</td>\n",
       "      <td>0.2</td>\n",
       "      <td>150.0</td>\n",
       "      <td>3.729032</td>\n",
       "      <td>3.729027</td>\n",
       "      <td>2.136470e-01</td>\n",
       "      <td>2.286353</td>\n",
       "      <td>1.70</td>\n",
       "      <td>431.178741</td>\n",
       "    </tr>\n",
       "  </tbody>\n",
       "</table>\n",
       "</div>"
      ],
      "text/plain": [
       "    T_strategy  h_min  safety_margin  width  v_upper_bound (m/s)  \\\n",
       "0         2.30    2.5            0.2  150.0             2.954841   \n",
       "1         2.25    2.5            0.2  150.0             3.293707   \n",
       "2         2.20    2.5            0.2  150.0             3.555272   \n",
       "3         2.15    2.5            0.2  150.0             3.715420   \n",
       "4         2.10    2.5            0.2  150.0             3.746418   \n",
       "5         2.05    2.5            0.2  150.0             3.756593   \n",
       "6         2.00    2.5            0.2  150.0             3.759267   \n",
       "7         1.95    2.5            0.2  150.0             3.762383   \n",
       "8         1.90    2.5            0.2  150.0             3.767432   \n",
       "9         1.85    2.5            0.2  150.0             3.762459   \n",
       "10        1.80    2.5            0.2  150.0             3.762477   \n",
       "11        1.75    2.5            0.2  150.0             3.765200   \n",
       "12        1.70    2.5            0.2  150.0             3.760344   \n",
       "13        1.65    2.5            0.2  150.0             3.756194   \n",
       "14        1.60    2.5            0.2  150.0             3.754798   \n",
       "15        1.55    2.5            0.2  150.0             3.743060   \n",
       "16        1.50    2.5            0.2  150.0             3.729032   \n",
       "\n",
       "    v_strategy (m/s)  z_computed (m)  depth squat (m)  T + margin (m)  \\\n",
       "0           0.000006    2.325408e-13         2.500000            2.50   \n",
       "1           1.584117    4.999993e-02         2.450000            2.45   \n",
       "2           2.230048    1.000000e-01         2.400000            2.40   \n",
       "3           2.734397    1.500000e-01         2.350000            2.35   \n",
       "4           3.168895    2.000000e-01         2.300000            2.30   \n",
       "5           3.561023    2.500001e-01         2.250000            2.25   \n",
       "6           3.759262    2.742785e-01         2.225721            2.20   \n",
       "7           3.762378    2.691746e-01         2.230825            2.15   \n",
       "8           3.767427    2.643065e-01         2.235693            2.10   \n",
       "9           3.762454    2.579487e-01         2.242051            2.05   \n",
       "10          3.762472    2.522895e-01         2.247710            2.00   \n",
       "11          3.765195    2.469692e-01         2.253031            1.95   \n",
       "12          3.760339    2.405913e-01         2.259409            1.90   \n",
       "13          3.756189    2.343046e-01         2.265695            1.85   \n",
       "14          3.754793    2.283601e-01         2.271640            1.80   \n",
       "15          3.743055    2.211176e-01         2.278882            1.75   \n",
       "16          3.729027    2.136470e-01         2.286353            1.70   \n",
       "\n",
       "    Payload_strategy_tanker (ton)  \n",
       "0                     1341.996625  \n",
       "1                     1284.593609  \n",
       "2                     1227.254179  \n",
       "3                     1169.978336  \n",
       "4                     1112.766079  \n",
       "5                     1055.617409  \n",
       "6                      998.532325  \n",
       "7                      941.510827  \n",
       "8                      884.552916  \n",
       "9                      827.658592  \n",
       "10                     770.827854  \n",
       "11                     714.060702  \n",
       "12                     657.357137  \n",
       "13                     600.717158  \n",
       "14                     544.140766  \n",
       "15                     487.627960  \n",
       "16                     431.178741  "
      ]
     },
     "execution_count": 106,
     "metadata": {},
     "output_type": "execute_result"
    }
   ],
   "source": [
    "Strategies_df"
   ]
  },
  {
   "cell_type": "code",
   "execution_count": 107,
   "metadata": {},
   "outputs": [
    {
     "data": {
      "text/html": [
       "<div>\n",
       "<style scoped>\n",
       "    .dataframe tbody tr th:only-of-type {\n",
       "        vertical-align: middle;\n",
       "    }\n",
       "\n",
       "    .dataframe tbody tr th {\n",
       "        vertical-align: top;\n",
       "    }\n",
       "\n",
       "    .dataframe thead th {\n",
       "        text-align: right;\n",
       "    }\n",
       "</style>\n",
       "<table border=\"1\" class=\"dataframe\">\n",
       "  <thead>\n",
       "    <tr style=\"text-align: right;\">\n",
       "      <th></th>\n",
       "      <th>velocity</th>\n",
       "      <th>Powerallowed_v</th>\n",
       "      <th>P_tot</th>\n",
       "      <th>P_installed</th>\n",
       "      <th>h_0</th>\n",
       "      <th>z_computed</th>\n",
       "      <th>h_squat</th>\n",
       "    </tr>\n",
       "  </thead>\n",
       "  <tbody>\n",
       "    <tr>\n",
       "      <th>994</th>\n",
       "      <td>7.792564</td>\n",
       "      <td>7.792564</td>\n",
       "      <td>35748.234393</td>\n",
       "      <td>1750.0</td>\n",
       "      <td>2.5</td>\n",
       "      <td>0.989631</td>\n",
       "      <td>1.510369</td>\n",
       "    </tr>\n",
       "    <tr>\n",
       "      <th>995</th>\n",
       "      <td>7.800394</td>\n",
       "      <td>7.800394</td>\n",
       "      <td>43949.461529</td>\n",
       "      <td>1750.0</td>\n",
       "      <td>2.5</td>\n",
       "      <td>0.991700</td>\n",
       "      <td>1.508300</td>\n",
       "    </tr>\n",
       "    <tr>\n",
       "      <th>996</th>\n",
       "      <td>7.808223</td>\n",
       "      <td>7.808223</td>\n",
       "      <td>58003.823945</td>\n",
       "      <td>1750.0</td>\n",
       "      <td>2.5</td>\n",
       "      <td>0.993772</td>\n",
       "      <td>1.506228</td>\n",
       "    </tr>\n",
       "    <tr>\n",
       "      <th>997</th>\n",
       "      <td>7.816053</td>\n",
       "      <td>7.816053</td>\n",
       "      <td>87102.583710</td>\n",
       "      <td>1750.0</td>\n",
       "      <td>2.5</td>\n",
       "      <td>0.995846</td>\n",
       "      <td>1.504154</td>\n",
       "    </tr>\n",
       "    <tr>\n",
       "      <th>998</th>\n",
       "      <td>7.823882</td>\n",
       "      <td>7.823882</td>\n",
       "      <td>179008.089949</td>\n",
       "      <td>1750.0</td>\n",
       "      <td>2.5</td>\n",
       "      <td>0.997922</td>\n",
       "      <td>1.502078</td>\n",
       "    </tr>\n",
       "  </tbody>\n",
       "</table>\n",
       "</div>"
      ],
      "text/plain": [
       "     velocity  Powerallowed_v          P_tot  P_installed  h_0  z_computed  \\\n",
       "994  7.792564        7.792564   35748.234393       1750.0  2.5    0.989631   \n",
       "995  7.800394        7.800394   43949.461529       1750.0  2.5    0.991700   \n",
       "996  7.808223        7.808223   58003.823945       1750.0  2.5    0.993772   \n",
       "997  7.816053        7.816053   87102.583710       1750.0  2.5    0.995846   \n",
       "998  7.823882        7.823882  179008.089949       1750.0  2.5    0.997922   \n",
       "\n",
       "      h_squat  \n",
       "994  1.510369  \n",
       "995  1.508300  \n",
       "996  1.506228  \n",
       "997  1.504154  \n",
       "998  1.502078  "
      ]
     },
     "execution_count": 107,
     "metadata": {},
     "output_type": "execute_result"
    }
   ],
   "source": [
    "results_df.tail(5)"
   ]
  },
  {
   "cell_type": "code",
   "execution_count": 108,
   "metadata": {},
   "outputs": [
    {
     "data": {
      "text/plain": [
       "0      2.5\n",
       "1      2.5\n",
       "2      2.5\n",
       "3      2.5\n",
       "4      2.5\n",
       "      ... \n",
       "994    2.5\n",
       "995    2.5\n",
       "996    2.5\n",
       "997    2.5\n",
       "998    2.5\n",
       "Length: 999, dtype: float64"
      ]
     },
     "execution_count": 108,
     "metadata": {},
     "output_type": "execute_result"
    }
   ],
   "source": [
    "results_df.z_computed+results_df.h_squat"
   ]
  },
  {
   "cell_type": "code",
   "execution_count": null,
   "metadata": {},
   "outputs": [
    {
     "name": "stderr",
     "output_type": "stream",
     "text": [
      "ERROR:root:Internal Python error in the inspect module.\n",
      "Below is the traceback from this internal error.\n",
      "\n",
      "ERROR:root:Internal Python error in the inspect module.\n",
      "Below is the traceback from this internal error.\n",
      "\n",
      "ERROR:root:Internal Python error in the inspect module.\n",
      "Below is the traceback from this internal error.\n",
      "\n"
     ]
    },
    {
     "name": "stdout",
     "output_type": "stream",
     "text": [
      "Traceback (most recent call last):\n",
      "AttributeError: 'NoneType' object has no attribute 'FG'\n",
      "\n",
      "During handling of the above exception, another exception occurred:\n",
      "\n",
      "Traceback (most recent call last):\n",
      "AttributeError: 'AttributeError' object has no attribute '_render_traceback_'\n",
      "\n",
      "During handling of the above exception, another exception occurred:\n",
      "\n",
      "Traceback (most recent call last):\n",
      "AssertionError\n",
      "Traceback (most recent call last):\n",
      "AttributeError: 'NoneType' object has no attribute 'FG'\n",
      "\n",
      "During handling of the above exception, another exception occurred:\n",
      "\n",
      "Traceback (most recent call last):\n",
      "AttributeError: 'AttributeError' object has no attribute '_render_traceback_'\n",
      "\n",
      "During handling of the above exception, another exception occurred:\n",
      "\n",
      "Traceback (most recent call last):\n",
      "TypeError: object of type 'NoneType' has no len()\n",
      "\n",
      "During handling of the above exception, another exception occurred:\n",
      "\n",
      "Traceback (most recent call last):\n",
      "AttributeError: 'TypeError' object has no attribute '_render_traceback_'\n",
      "\n",
      "During handling of the above exception, another exception occurred:\n",
      "\n",
      "Traceback (most recent call last):\n",
      "AssertionError\n",
      "ERROR! Session/line number was not unique in database. History logging moved to new session 1531\n",
      "Traceback (most recent call last):\n",
      "AttributeError: 'NoneType' object has no attribute 'FG'\n",
      "\n",
      "During handling of the above exception, another exception occurred:\n",
      "\n",
      "Traceback (most recent call last):\n",
      "AttributeError: 'AttributeError' object has no attribute '_render_traceback_'\n",
      "\n",
      "During handling of the above exception, another exception occurred:\n",
      "\n",
      "Traceback (most recent call last):\n",
      "TypeError: object of type 'NoneType' has no len()\n",
      "\n",
      "During handling of the above exception, another exception occurred:\n",
      "\n",
      "Traceback (most recent call last):\n",
      "AttributeError: 'TypeError' object has no attribute '_render_traceback_'\n",
      "\n",
      "During handling of the above exception, another exception occurred:\n",
      "\n",
      "Traceback (most recent call last):\n",
      "TypeError: object of type 'NoneType' has no len()\n",
      "\n",
      "During handling of the above exception, another exception occurred:\n",
      "\n",
      "Traceback (most recent call last):\n",
      "AttributeError: 'TypeError' object has no attribute '_render_traceback_'\n",
      "\n",
      "During handling of the above exception, another exception occurred:\n",
      "\n",
      "Traceback (most recent call last):\n",
      "AssertionError\n"
     ]
    }
   ],
   "source": [
    "v_P2v = opentnsim.strategy.P2v(vessel, h_min = row['h_min'], upperbound = upperbound)"
   ]
  },
  {
   "cell_type": "code",
   "execution_count": 232,
   "metadata": {},
   "outputs": [
    {
     "data": {
      "text/html": [
       "<div>\n",
       "<style scoped>\n",
       "    .dataframe tbody tr th:only-of-type {\n",
       "        vertical-align: middle;\n",
       "    }\n",
       "\n",
       "    .dataframe tbody tr th {\n",
       "        vertical-align: top;\n",
       "    }\n",
       "\n",
       "    .dataframe thead th {\n",
       "        text-align: right;\n",
       "    }\n",
       "</style>\n",
       "<table border=\"1\" class=\"dataframe\">\n",
       "  <thead>\n",
       "    <tr style=\"text-align: right;\">\n",
       "      <th></th>\n",
       "      <th>velocity</th>\n",
       "      <th>Powerallowed_v</th>\n",
       "      <th>P_tot</th>\n",
       "      <th>P_installed</th>\n",
       "      <th>h_min</th>\n",
       "      <th>z_computed</th>\n",
       "      <th>h_squat</th>\n",
       "    </tr>\n",
       "  </thead>\n",
       "  <tbody>\n",
       "    <tr>\n",
       "      <th>1</th>\n",
       "      <td>0.018005</td>\n",
       "      <td>0.018005</td>\n",
       "      <td>87.500059</td>\n",
       "      <td>1750.0</td>\n",
       "      <td>2.5</td>\n",
       "      <td>0.000003</td>\n",
       "      <td>2.499997</td>\n",
       "    </tr>\n",
       "    <tr>\n",
       "      <th>12</th>\n",
       "      <td>0.106055</td>\n",
       "      <td>0.106055</td>\n",
       "      <td>87.508603</td>\n",
       "      <td>1750.0</td>\n",
       "      <td>2.5</td>\n",
       "      <td>0.000128</td>\n",
       "      <td>2.499872</td>\n",
       "    </tr>\n",
       "    <tr>\n",
       "      <th>23</th>\n",
       "      <td>0.194105</td>\n",
       "      <td>0.194105</td>\n",
       "      <td>87.547843</td>\n",
       "      <td>1750.0</td>\n",
       "      <td>2.5</td>\n",
       "      <td>0.000450</td>\n",
       "      <td>2.499550</td>\n",
       "    </tr>\n",
       "    <tr>\n",
       "      <th>34</th>\n",
       "      <td>0.282155</td>\n",
       "      <td>0.282155</td>\n",
       "      <td>87.638871</td>\n",
       "      <td>1750.0</td>\n",
       "      <td>2.5</td>\n",
       "      <td>0.000979</td>\n",
       "      <td>2.499021</td>\n",
       "    </tr>\n",
       "    <tr>\n",
       "      <th>45</th>\n",
       "      <td>0.370205</td>\n",
       "      <td>0.370205</td>\n",
       "      <td>87.801575</td>\n",
       "      <td>1750.0</td>\n",
       "      <td>2.5</td>\n",
       "      <td>0.001722</td>\n",
       "      <td>2.498278</td>\n",
       "    </tr>\n",
       "    <tr>\n",
       "      <th>56</th>\n",
       "      <td>0.458255</td>\n",
       "      <td>0.458255</td>\n",
       "      <td>88.055159</td>\n",
       "      <td>1750.0</td>\n",
       "      <td>2.5</td>\n",
       "      <td>0.002684</td>\n",
       "      <td>2.497316</td>\n",
       "    </tr>\n",
       "    <tr>\n",
       "      <th>67</th>\n",
       "      <td>0.546305</td>\n",
       "      <td>0.546305</td>\n",
       "      <td>88.418367</td>\n",
       "      <td>1750.0</td>\n",
       "      <td>2.5</td>\n",
       "      <td>0.003868</td>\n",
       "      <td>2.496132</td>\n",
       "    </tr>\n",
       "    <tr>\n",
       "      <th>78</th>\n",
       "      <td>0.634355</td>\n",
       "      <td>0.634355</td>\n",
       "      <td>88.909625</td>\n",
       "      <td>1750.0</td>\n",
       "      <td>2.5</td>\n",
       "      <td>0.005279</td>\n",
       "      <td>2.494721</td>\n",
       "    </tr>\n",
       "    <tr>\n",
       "      <th>89</th>\n",
       "      <td>0.722405</td>\n",
       "      <td>0.722405</td>\n",
       "      <td>89.547131</td>\n",
       "      <td>1750.0</td>\n",
       "      <td>2.5</td>\n",
       "      <td>0.006917</td>\n",
       "      <td>2.493083</td>\n",
       "    </tr>\n",
       "    <tr>\n",
       "      <th>100</th>\n",
       "      <td>0.810455</td>\n",
       "      <td>0.810455</td>\n",
       "      <td>90.348927</td>\n",
       "      <td>1750.0</td>\n",
       "      <td>2.5</td>\n",
       "      <td>0.008787</td>\n",
       "      <td>2.491213</td>\n",
       "    </tr>\n",
       "    <tr>\n",
       "      <th>111</th>\n",
       "      <td>0.898505</td>\n",
       "      <td>0.898505</td>\n",
       "      <td>91.332977</td>\n",
       "      <td>1750.0</td>\n",
       "      <td>2.5</td>\n",
       "      <td>0.010889</td>\n",
       "      <td>2.489111</td>\n",
       "    </tr>\n",
       "    <tr>\n",
       "      <th>122</th>\n",
       "      <td>0.986555</td>\n",
       "      <td>0.986555</td>\n",
       "      <td>92.517263</td>\n",
       "      <td>1750.0</td>\n",
       "      <td>2.5</td>\n",
       "      <td>0.013226</td>\n",
       "      <td>2.486774</td>\n",
       "    </tr>\n",
       "    <tr>\n",
       "      <th>133</th>\n",
       "      <td>1.074605</td>\n",
       "      <td>1.074605</td>\n",
       "      <td>93.919978</td>\n",
       "      <td>1750.0</td>\n",
       "      <td>2.5</td>\n",
       "      <td>0.015800</td>\n",
       "      <td>2.484200</td>\n",
       "    </tr>\n",
       "    <tr>\n",
       "      <th>144</th>\n",
       "      <td>1.162655</td>\n",
       "      <td>1.162655</td>\n",
       "      <td>95.559862</td>\n",
       "      <td>1750.0</td>\n",
       "      <td>2.5</td>\n",
       "      <td>0.018613</td>\n",
       "      <td>2.481387</td>\n",
       "    </tr>\n",
       "    <tr>\n",
       "      <th>155</th>\n",
       "      <td>1.250705</td>\n",
       "      <td>1.250705</td>\n",
       "      <td>97.456770</td>\n",
       "      <td>1750.0</td>\n",
       "      <td>2.5</td>\n",
       "      <td>0.021665</td>\n",
       "      <td>2.478335</td>\n",
       "    </tr>\n",
       "    <tr>\n",
       "      <th>166</th>\n",
       "      <td>1.338755</td>\n",
       "      <td>1.338755</td>\n",
       "      <td>99.632490</td>\n",
       "      <td>1750.0</td>\n",
       "      <td>2.5</td>\n",
       "      <td>0.024958</td>\n",
       "      <td>2.475042</td>\n",
       "    </tr>\n",
       "    <tr>\n",
       "      <th>177</th>\n",
       "      <td>1.426805</td>\n",
       "      <td>1.426805</td>\n",
       "      <td>102.111855</td>\n",
       "      <td>1750.0</td>\n",
       "      <td>2.5</td>\n",
       "      <td>0.028494</td>\n",
       "      <td>2.471506</td>\n",
       "    </tr>\n",
       "    <tr>\n",
       "      <th>188</th>\n",
       "      <td>1.514855</td>\n",
       "      <td>1.514855</td>\n",
       "      <td>104.924090</td>\n",
       "      <td>1750.0</td>\n",
       "      <td>2.5</td>\n",
       "      <td>0.032273</td>\n",
       "      <td>2.467727</td>\n",
       "    </tr>\n",
       "    <tr>\n",
       "      <th>199</th>\n",
       "      <td>1.602905</td>\n",
       "      <td>1.602905</td>\n",
       "      <td>108.104363</td>\n",
       "      <td>1750.0</td>\n",
       "      <td>2.5</td>\n",
       "      <td>0.036298</td>\n",
       "      <td>2.463702</td>\n",
       "    </tr>\n",
       "    <tr>\n",
       "      <th>210</th>\n",
       "      <td>1.690955</td>\n",
       "      <td>1.690955</td>\n",
       "      <td>111.695453</td>\n",
       "      <td>1750.0</td>\n",
       "      <td>2.5</td>\n",
       "      <td>0.040568</td>\n",
       "      <td>2.459432</td>\n",
       "    </tr>\n",
       "    <tr>\n",
       "      <th>221</th>\n",
       "      <td>1.779006</td>\n",
       "      <td>1.779006</td>\n",
       "      <td>115.749470</td>\n",
       "      <td>1750.0</td>\n",
       "      <td>2.5</td>\n",
       "      <td>0.045086</td>\n",
       "      <td>2.454914</td>\n",
       "    </tr>\n",
       "    <tr>\n",
       "      <th>232</th>\n",
       "      <td>1.867056</td>\n",
       "      <td>1.867056</td>\n",
       "      <td>120.329548</td>\n",
       "      <td>1750.0</td>\n",
       "      <td>2.5</td>\n",
       "      <td>0.049852</td>\n",
       "      <td>2.450148</td>\n",
       "    </tr>\n",
       "    <tr>\n",
       "      <th>243</th>\n",
       "      <td>1.955106</td>\n",
       "      <td>1.955106</td>\n",
       "      <td>125.511465</td>\n",
       "      <td>1750.0</td>\n",
       "      <td>2.5</td>\n",
       "      <td>0.054866</td>\n",
       "      <td>2.445134</td>\n",
       "    </tr>\n",
       "    <tr>\n",
       "      <th>254</th>\n",
       "      <td>2.043156</td>\n",
       "      <td>2.043156</td>\n",
       "      <td>130.991207</td>\n",
       "      <td>1750.0</td>\n",
       "      <td>2.5</td>\n",
       "      <td>0.060131</td>\n",
       "      <td>2.439869</td>\n",
       "    </tr>\n",
       "    <tr>\n",
       "      <th>265</th>\n",
       "      <td>2.131206</td>\n",
       "      <td>2.131206</td>\n",
       "      <td>137.093974</td>\n",
       "      <td>1750.0</td>\n",
       "      <td>2.5</td>\n",
       "      <td>0.065647</td>\n",
       "      <td>2.434353</td>\n",
       "    </tr>\n",
       "    <tr>\n",
       "      <th>276</th>\n",
       "      <td>2.219256</td>\n",
       "      <td>2.219256</td>\n",
       "      <td>144.255935</td>\n",
       "      <td>1750.0</td>\n",
       "      <td>2.5</td>\n",
       "      <td>0.071414</td>\n",
       "      <td>2.428586</td>\n",
       "    </tr>\n",
       "    <tr>\n",
       "      <th>287</th>\n",
       "      <td>2.307306</td>\n",
       "      <td>2.307306</td>\n",
       "      <td>152.771381</td>\n",
       "      <td>1750.0</td>\n",
       "      <td>2.5</td>\n",
       "      <td>0.077434</td>\n",
       "      <td>2.422566</td>\n",
       "    </tr>\n",
       "    <tr>\n",
       "      <th>298</th>\n",
       "      <td>2.395356</td>\n",
       "      <td>2.395356</td>\n",
       "      <td>163.058471</td>\n",
       "      <td>1750.0</td>\n",
       "      <td>2.5</td>\n",
       "      <td>0.083707</td>\n",
       "      <td>2.416293</td>\n",
       "    </tr>\n",
       "    <tr>\n",
       "      <th>309</th>\n",
       "      <td>2.483406</td>\n",
       "      <td>2.483406</td>\n",
       "      <td>175.705612</td>\n",
       "      <td>1750.0</td>\n",
       "      <td>2.5</td>\n",
       "      <td>0.090234</td>\n",
       "      <td>2.409766</td>\n",
       "    </tr>\n",
       "    <tr>\n",
       "      <th>320</th>\n",
       "      <td>2.571456</td>\n",
       "      <td>2.571456</td>\n",
       "      <td>191.530438</td>\n",
       "      <td>1750.0</td>\n",
       "      <td>2.5</td>\n",
       "      <td>0.097016</td>\n",
       "      <td>2.402984</td>\n",
       "    </tr>\n",
       "    <tr>\n",
       "      <th>331</th>\n",
       "      <td>2.659506</td>\n",
       "      <td>2.659506</td>\n",
       "      <td>211.650813</td>\n",
       "      <td>1750.0</td>\n",
       "      <td>2.5</td>\n",
       "      <td>0.104054</td>\n",
       "      <td>2.395946</td>\n",
       "    </tr>\n",
       "    <tr>\n",
       "      <th>342</th>\n",
       "      <td>2.747556</td>\n",
       "      <td>2.747556</td>\n",
       "      <td>237.565838</td>\n",
       "      <td>1750.0</td>\n",
       "      <td>2.5</td>\n",
       "      <td>0.111347</td>\n",
       "      <td>2.388653</td>\n",
       "    </tr>\n",
       "    <tr>\n",
       "      <th>353</th>\n",
       "      <td>2.835606</td>\n",
       "      <td>2.835606</td>\n",
       "      <td>271.245165</td>\n",
       "      <td>1750.0</td>\n",
       "      <td>2.5</td>\n",
       "      <td>0.118898</td>\n",
       "      <td>2.381102</td>\n",
       "    </tr>\n",
       "    <tr>\n",
       "      <th>364</th>\n",
       "      <td>2.923656</td>\n",
       "      <td>2.923656</td>\n",
       "      <td>315.230592</td>\n",
       "      <td>1750.0</td>\n",
       "      <td>2.5</td>\n",
       "      <td>0.126706</td>\n",
       "      <td>2.373294</td>\n",
       "    </tr>\n",
       "    <tr>\n",
       "      <th>375</th>\n",
       "      <td>3.011706</td>\n",
       "      <td>3.011706</td>\n",
       "      <td>372.416296</td>\n",
       "      <td>1750.0</td>\n",
       "      <td>2.5</td>\n",
       "      <td>0.134773</td>\n",
       "      <td>2.365227</td>\n",
       "    </tr>\n",
       "    <tr>\n",
       "      <th>386</th>\n",
       "      <td>3.099756</td>\n",
       "      <td>3.099756</td>\n",
       "      <td>447.130991</td>\n",
       "      <td>1750.0</td>\n",
       "      <td>2.5</td>\n",
       "      <td>0.143098</td>\n",
       "      <td>2.356902</td>\n",
       "    </tr>\n",
       "    <tr>\n",
       "      <th>397</th>\n",
       "      <td>3.187806</td>\n",
       "      <td>3.187806</td>\n",
       "      <td>544.395647</td>\n",
       "      <td>1750.0</td>\n",
       "      <td>2.5</td>\n",
       "      <td>0.151682</td>\n",
       "      <td>2.348318</td>\n",
       "    </tr>\n",
       "    <tr>\n",
       "      <th>408</th>\n",
       "      <td>3.275856</td>\n",
       "      <td>3.275856</td>\n",
       "      <td>669.129724</td>\n",
       "      <td>1750.0</td>\n",
       "      <td>2.5</td>\n",
       "      <td>0.160527</td>\n",
       "      <td>2.339473</td>\n",
       "    </tr>\n",
       "    <tr>\n",
       "      <th>419</th>\n",
       "      <td>3.363906</td>\n",
       "      <td>3.363906</td>\n",
       "      <td>827.133436</td>\n",
       "      <td>1750.0</td>\n",
       "      <td>2.5</td>\n",
       "      <td>0.169631</td>\n",
       "      <td>2.330369</td>\n",
       "    </tr>\n",
       "    <tr>\n",
       "      <th>430</th>\n",
       "      <td>3.451956</td>\n",
       "      <td>3.451956</td>\n",
       "      <td>1002.068528</td>\n",
       "      <td>1750.0</td>\n",
       "      <td>2.5</td>\n",
       "      <td>0.178998</td>\n",
       "      <td>2.321002</td>\n",
       "    </tr>\n",
       "    <tr>\n",
       "      <th>441</th>\n",
       "      <td>3.540007</td>\n",
       "      <td>3.540007</td>\n",
       "      <td>1207.918255</td>\n",
       "      <td>1750.0</td>\n",
       "      <td>2.5</td>\n",
       "      <td>0.188625</td>\n",
       "      <td>2.311375</td>\n",
       "    </tr>\n",
       "    <tr>\n",
       "      <th>452</th>\n",
       "      <td>3.628057</td>\n",
       "      <td>3.628057</td>\n",
       "      <td>1626.817901</td>\n",
       "      <td>1750.0</td>\n",
       "      <td>2.5</td>\n",
       "      <td>0.198515</td>\n",
       "      <td>2.301485</td>\n",
       "    </tr>\n",
       "    <tr>\n",
       "      <th>463</th>\n",
       "      <td>3.716107</td>\n",
       "      <td>3.716107</td>\n",
       "      <td>1736.783383</td>\n",
       "      <td>1750.0</td>\n",
       "      <td>2.5</td>\n",
       "      <td>0.208667</td>\n",
       "      <td>2.291333</td>\n",
       "    </tr>\n",
       "  </tbody>\n",
       "</table>\n",
       "</div>"
      ],
      "text/plain": [
       "     velocity  Powerallowed_v        P_tot  P_installed  h_min  z_computed  \\\n",
       "1    0.018005        0.018005    87.500059       1750.0    2.5    0.000003   \n",
       "12   0.106055        0.106055    87.508603       1750.0    2.5    0.000128   \n",
       "23   0.194105        0.194105    87.547843       1750.0    2.5    0.000450   \n",
       "34   0.282155        0.282155    87.638871       1750.0    2.5    0.000979   \n",
       "45   0.370205        0.370205    87.801575       1750.0    2.5    0.001722   \n",
       "56   0.458255        0.458255    88.055159       1750.0    2.5    0.002684   \n",
       "67   0.546305        0.546305    88.418367       1750.0    2.5    0.003868   \n",
       "78   0.634355        0.634355    88.909625       1750.0    2.5    0.005279   \n",
       "89   0.722405        0.722405    89.547131       1750.0    2.5    0.006917   \n",
       "100  0.810455        0.810455    90.348927       1750.0    2.5    0.008787   \n",
       "111  0.898505        0.898505    91.332977       1750.0    2.5    0.010889   \n",
       "122  0.986555        0.986555    92.517263       1750.0    2.5    0.013226   \n",
       "133  1.074605        1.074605    93.919978       1750.0    2.5    0.015800   \n",
       "144  1.162655        1.162655    95.559862       1750.0    2.5    0.018613   \n",
       "155  1.250705        1.250705    97.456770       1750.0    2.5    0.021665   \n",
       "166  1.338755        1.338755    99.632490       1750.0    2.5    0.024958   \n",
       "177  1.426805        1.426805   102.111855       1750.0    2.5    0.028494   \n",
       "188  1.514855        1.514855   104.924090       1750.0    2.5    0.032273   \n",
       "199  1.602905        1.602905   108.104363       1750.0    2.5    0.036298   \n",
       "210  1.690955        1.690955   111.695453       1750.0    2.5    0.040568   \n",
       "221  1.779006        1.779006   115.749470       1750.0    2.5    0.045086   \n",
       "232  1.867056        1.867056   120.329548       1750.0    2.5    0.049852   \n",
       "243  1.955106        1.955106   125.511465       1750.0    2.5    0.054866   \n",
       "254  2.043156        2.043156   130.991207       1750.0    2.5    0.060131   \n",
       "265  2.131206        2.131206   137.093974       1750.0    2.5    0.065647   \n",
       "276  2.219256        2.219256   144.255935       1750.0    2.5    0.071414   \n",
       "287  2.307306        2.307306   152.771381       1750.0    2.5    0.077434   \n",
       "298  2.395356        2.395356   163.058471       1750.0    2.5    0.083707   \n",
       "309  2.483406        2.483406   175.705612       1750.0    2.5    0.090234   \n",
       "320  2.571456        2.571456   191.530438       1750.0    2.5    0.097016   \n",
       "331  2.659506        2.659506   211.650813       1750.0    2.5    0.104054   \n",
       "342  2.747556        2.747556   237.565838       1750.0    2.5    0.111347   \n",
       "353  2.835606        2.835606   271.245165       1750.0    2.5    0.118898   \n",
       "364  2.923656        2.923656   315.230592       1750.0    2.5    0.126706   \n",
       "375  3.011706        3.011706   372.416296       1750.0    2.5    0.134773   \n",
       "386  3.099756        3.099756   447.130991       1750.0    2.5    0.143098   \n",
       "397  3.187806        3.187806   544.395647       1750.0    2.5    0.151682   \n",
       "408  3.275856        3.275856   669.129724       1750.0    2.5    0.160527   \n",
       "419  3.363906        3.363906   827.133436       1750.0    2.5    0.169631   \n",
       "430  3.451956        3.451956  1002.068528       1750.0    2.5    0.178998   \n",
       "441  3.540007        3.540007  1207.918255       1750.0    2.5    0.188625   \n",
       "452  3.628057        3.628057  1626.817901       1750.0    2.5    0.198515   \n",
       "463  3.716107        3.716107  1736.783383       1750.0    2.5    0.208667   \n",
       "\n",
       "      h_squat  \n",
       "1    2.499997  \n",
       "12   2.499872  \n",
       "23   2.499550  \n",
       "34   2.499021  \n",
       "45   2.498278  \n",
       "56   2.497316  \n",
       "67   2.496132  \n",
       "78   2.494721  \n",
       "89   2.493083  \n",
       "100  2.491213  \n",
       "111  2.489111  \n",
       "122  2.486774  \n",
       "133  2.484200  \n",
       "144  2.481387  \n",
       "155  2.478335  \n",
       "166  2.475042  \n",
       "177  2.471506  \n",
       "188  2.467727  \n",
       "199  2.463702  \n",
       "210  2.459432  \n",
       "221  2.454914  \n",
       "232  2.450148  \n",
       "243  2.445134  \n",
       "254  2.439869  \n",
       "265  2.434353  \n",
       "276  2.428586  \n",
       "287  2.422566  \n",
       "298  2.416293  \n",
       "309  2.409766  \n",
       "320  2.402984  \n",
       "331  2.395946  \n",
       "342  2.388653  \n",
       "353  2.381102  \n",
       "364  2.373294  \n",
       "375  2.365227  \n",
       "386  2.356902  \n",
       "397  2.348318  \n",
       "408  2.339473  \n",
       "419  2.330369  \n",
       "430  2.321002  \n",
       "441  2.311375  \n",
       "452  2.301485  \n",
       "463  2.291333  "
      ]
     },
     "execution_count": 232,
     "metadata": {},
     "output_type": "execute_result"
    }
   ],
   "source": [
    "results_df[results_df.index % 11 == 1]\n",
    "# results_df.tail(1:400:10)"
   ]
  },
  {
   "cell_type": "code",
   "execution_count": 222,
   "metadata": {},
   "outputs": [
    {
     "data": {
      "text/html": [
       "<div>\n",
       "<style scoped>\n",
       "    .dataframe tbody tr th:only-of-type {\n",
       "        vertical-align: middle;\n",
       "    }\n",
       "\n",
       "    .dataframe tbody tr th {\n",
       "        vertical-align: top;\n",
       "    }\n",
       "\n",
       "    .dataframe thead th {\n",
       "        text-align: right;\n",
       "    }\n",
       "</style>\n",
       "<table border=\"1\" class=\"dataframe\">\n",
       "  <thead>\n",
       "    <tr style=\"text-align: right;\">\n",
       "      <th></th>\n",
       "      <th>velocity</th>\n",
       "      <th>Powerallowed_v</th>\n",
       "      <th>P_tot</th>\n",
       "      <th>P_installed</th>\n",
       "      <th>h_min</th>\n",
       "      <th>z_computed</th>\n",
       "      <th>h_squat</th>\n",
       "    </tr>\n",
       "  </thead>\n",
       "  <tbody>\n",
       "    <tr>\n",
       "      <th>0</th>\n",
       "      <td>0.010000</td>\n",
       "      <td>0.010000</td>\n",
       "      <td>87.500012</td>\n",
       "      <td>1750.0</td>\n",
       "      <td>2.5</td>\n",
       "      <td>9.411767e-07</td>\n",
       "      <td>2.499999</td>\n",
       "    </tr>\n",
       "    <tr>\n",
       "      <th>1</th>\n",
       "      <td>0.018005</td>\n",
       "      <td>0.018005</td>\n",
       "      <td>87.500059</td>\n",
       "      <td>1750.0</td>\n",
       "      <td>2.5</td>\n",
       "      <td>3.197910e-06</td>\n",
       "      <td>2.499997</td>\n",
       "    </tr>\n",
       "    <tr>\n",
       "      <th>2</th>\n",
       "      <td>0.026009</td>\n",
       "      <td>0.026009</td>\n",
       "      <td>87.500165</td>\n",
       "      <td>1750.0</td>\n",
       "      <td>2.5</td>\n",
       "      <td>6.872771e-06</td>\n",
       "      <td>2.499993</td>\n",
       "    </tr>\n",
       "    <tr>\n",
       "      <th>3</th>\n",
       "      <td>0.034014</td>\n",
       "      <td>0.034014</td>\n",
       "      <td>87.500349</td>\n",
       "      <td>1750.0</td>\n",
       "      <td>2.5</td>\n",
       "      <td>1.200908e-05</td>\n",
       "      <td>2.499988</td>\n",
       "    </tr>\n",
       "    <tr>\n",
       "      <th>4</th>\n",
       "      <td>0.042018</td>\n",
       "      <td>0.042018</td>\n",
       "      <td>87.500632</td>\n",
       "      <td>1750.0</td>\n",
       "      <td>2.5</td>\n",
       "      <td>1.863893e-05</td>\n",
       "      <td>2.499981</td>\n",
       "    </tr>\n",
       "    <tr>\n",
       "      <th>...</th>\n",
       "      <td>...</td>\n",
       "      <td>...</td>\n",
       "      <td>...</td>\n",
       "      <td>...</td>\n",
       "      <td>...</td>\n",
       "      <td>...</td>\n",
       "      <td>...</td>\n",
       "    </tr>\n",
       "    <tr>\n",
       "      <th>460</th>\n",
       "      <td>3.692093</td>\n",
       "      <td>3.692093</td>\n",
       "      <td>1720.745249</td>\n",
       "      <td>1750.0</td>\n",
       "      <td>2.5</td>\n",
       "      <td>2.058725e-01</td>\n",
       "      <td>2.294128</td>\n",
       "    </tr>\n",
       "    <tr>\n",
       "      <th>461</th>\n",
       "      <td>3.700098</td>\n",
       "      <td>3.700098</td>\n",
       "      <td>1720.800247</td>\n",
       "      <td>1750.0</td>\n",
       "      <td>2.5</td>\n",
       "      <td>2.068019e-01</td>\n",
       "      <td>2.293198</td>\n",
       "    </tr>\n",
       "    <tr>\n",
       "      <th>462</th>\n",
       "      <td>3.708102</td>\n",
       "      <td>3.708102</td>\n",
       "      <td>1725.539770</td>\n",
       "      <td>1750.0</td>\n",
       "      <td>2.5</td>\n",
       "      <td>2.077336e-01</td>\n",
       "      <td>2.292266</td>\n",
       "    </tr>\n",
       "    <tr>\n",
       "      <th>463</th>\n",
       "      <td>3.716107</td>\n",
       "      <td>3.716107</td>\n",
       "      <td>1736.783383</td>\n",
       "      <td>1750.0</td>\n",
       "      <td>2.5</td>\n",
       "      <td>2.086674e-01</td>\n",
       "      <td>2.291333</td>\n",
       "    </tr>\n",
       "    <tr>\n",
       "      <th>464</th>\n",
       "      <td>3.724111</td>\n",
       "      <td>3.724111</td>\n",
       "      <td>1750.000000</td>\n",
       "      <td>1750.0</td>\n",
       "      <td>2.5</td>\n",
       "      <td>2.096034e-01</td>\n",
       "      <td>2.290397</td>\n",
       "    </tr>\n",
       "  </tbody>\n",
       "</table>\n",
       "<p>465 rows × 7 columns</p>\n",
       "</div>"
      ],
      "text/plain": [
       "     velocity  Powerallowed_v        P_tot  P_installed  h_min    z_computed  \\\n",
       "0    0.010000        0.010000    87.500012       1750.0    2.5  9.411767e-07   \n",
       "1    0.018005        0.018005    87.500059       1750.0    2.5  3.197910e-06   \n",
       "2    0.026009        0.026009    87.500165       1750.0    2.5  6.872771e-06   \n",
       "3    0.034014        0.034014    87.500349       1750.0    2.5  1.200908e-05   \n",
       "4    0.042018        0.042018    87.500632       1750.0    2.5  1.863893e-05   \n",
       "..        ...             ...          ...          ...    ...           ...   \n",
       "460  3.692093        3.692093  1720.745249       1750.0    2.5  2.058725e-01   \n",
       "461  3.700098        3.700098  1720.800247       1750.0    2.5  2.068019e-01   \n",
       "462  3.708102        3.708102  1725.539770       1750.0    2.5  2.077336e-01   \n",
       "463  3.716107        3.716107  1736.783383       1750.0    2.5  2.086674e-01   \n",
       "464  3.724111        3.724111  1750.000000       1750.0    2.5  2.096034e-01   \n",
       "\n",
       "      h_squat  \n",
       "0    2.499999  \n",
       "1    2.499997  \n",
       "2    2.499993  \n",
       "3    2.499988  \n",
       "4    2.499981  \n",
       "..        ...  \n",
       "460  2.294128  \n",
       "461  2.293198  \n",
       "462  2.292266  \n",
       "463  2.291333  \n",
       "464  2.290397  \n",
       "\n",
       "[465 rows x 7 columns]"
      ]
     },
     "execution_count": 222,
     "metadata": {},
     "output_type": "execute_result"
    }
   ],
   "source": [
    "results_df"
   ]
  },
  {
   "cell_type": "code",
   "execution_count": 226,
   "metadata": {},
   "outputs": [
    {
     "data": {
      "text/plain": [
       "93.0"
      ]
     },
     "execution_count": 226,
     "metadata": {},
     "output_type": "execute_result"
    }
   ],
   "source": []
  },
  {
   "cell_type": "markdown",
   "metadata": {},
   "source": [
    "### 4. Run each strategy"
   ]
  },
  {
   "cell_type": "code",
   "execution_count": 235,
   "metadata": {},
   "outputs": [
    {
     "data": {
      "text/html": [
       "<div>\n",
       "<style scoped>\n",
       "    .dataframe tbody tr th:only-of-type {\n",
       "        vertical-align: middle;\n",
       "    }\n",
       "\n",
       "    .dataframe tbody tr th {\n",
       "        vertical-align: top;\n",
       "    }\n",
       "\n",
       "    .dataframe thead th {\n",
       "        text-align: right;\n",
       "    }\n",
       "</style>\n",
       "<table border=\"1\" class=\"dataframe\">\n",
       "  <thead>\n",
       "    <tr style=\"text-align: right;\">\n",
       "      <th></th>\n",
       "      <th>T_strategy</th>\n",
       "      <th>h_min</th>\n",
       "      <th>safety_margin</th>\n",
       "      <th>Payload_strategy_tanker (ton)</th>\n",
       "    </tr>\n",
       "  </thead>\n",
       "  <tbody>\n",
       "    <tr>\n",
       "      <th>0</th>\n",
       "      <td>2.27</td>\n",
       "      <td>2.50</td>\n",
       "      <td>0.20</td>\n",
       "      <td>1307.55</td>\n",
       "    </tr>\n",
       "    <tr>\n",
       "      <th>1</th>\n",
       "      <td>2.22</td>\n",
       "      <td>2.50</td>\n",
       "      <td>0.20</td>\n",
       "      <td>1250.18</td>\n",
       "    </tr>\n",
       "    <tr>\n",
       "      <th>2</th>\n",
       "      <td>2.17</td>\n",
       "      <td>2.50</td>\n",
       "      <td>0.20</td>\n",
       "      <td>1192.88</td>\n",
       "    </tr>\n",
       "    <tr>\n",
       "      <th>3</th>\n",
       "      <td>2.12</td>\n",
       "      <td>2.50</td>\n",
       "      <td>0.20</td>\n",
       "      <td>1135.64</td>\n",
       "    </tr>\n",
       "    <tr>\n",
       "      <th>4</th>\n",
       "      <td>2.07</td>\n",
       "      <td>2.50</td>\n",
       "      <td>0.20</td>\n",
       "      <td>1078.47</td>\n",
       "    </tr>\n",
       "    <tr>\n",
       "      <th>5</th>\n",
       "      <td>2.02</td>\n",
       "      <td>2.50</td>\n",
       "      <td>0.20</td>\n",
       "      <td>1021.36</td>\n",
       "    </tr>\n",
       "    <tr>\n",
       "      <th>6</th>\n",
       "      <td>1.97</td>\n",
       "      <td>2.50</td>\n",
       "      <td>0.20</td>\n",
       "      <td>964.31</td>\n",
       "    </tr>\n",
       "    <tr>\n",
       "      <th>7</th>\n",
       "      <td>1.92</td>\n",
       "      <td>2.50</td>\n",
       "      <td>0.20</td>\n",
       "      <td>907.33</td>\n",
       "    </tr>\n",
       "    <tr>\n",
       "      <th>8</th>\n",
       "      <td>1.87</td>\n",
       "      <td>2.50</td>\n",
       "      <td>0.20</td>\n",
       "      <td>850.41</td>\n",
       "    </tr>\n",
       "    <tr>\n",
       "      <th>9</th>\n",
       "      <td>1.82</td>\n",
       "      <td>2.50</td>\n",
       "      <td>0.20</td>\n",
       "      <td>793.55</td>\n",
       "    </tr>\n",
       "    <tr>\n",
       "      <th>10</th>\n",
       "      <td>1.77</td>\n",
       "      <td>2.50</td>\n",
       "      <td>0.20</td>\n",
       "      <td>736.76</td>\n",
       "    </tr>\n",
       "    <tr>\n",
       "      <th>11</th>\n",
       "      <td>1.72</td>\n",
       "      <td>2.50</td>\n",
       "      <td>0.20</td>\n",
       "      <td>680.03</td>\n",
       "    </tr>\n",
       "    <tr>\n",
       "      <th>12</th>\n",
       "      <td>1.67</td>\n",
       "      <td>2.50</td>\n",
       "      <td>0.20</td>\n",
       "      <td>623.37</td>\n",
       "    </tr>\n",
       "    <tr>\n",
       "      <th>13</th>\n",
       "      <td>1.62</td>\n",
       "      <td>2.50</td>\n",
       "      <td>0.20</td>\n",
       "      <td>566.76</td>\n",
       "    </tr>\n",
       "    <tr>\n",
       "      <th>14</th>\n",
       "      <td>1.57</td>\n",
       "      <td>2.50</td>\n",
       "      <td>0.20</td>\n",
       "      <td>510.23</td>\n",
       "    </tr>\n",
       "    <tr>\n",
       "      <th>15</th>\n",
       "      <td>1.52</td>\n",
       "      <td>2.50</td>\n",
       "      <td>0.20</td>\n",
       "      <td>453.75</td>\n",
       "    </tr>\n",
       "    <tr>\n",
       "      <th>16</th>\n",
       "      <td>1.47</td>\n",
       "      <td>2.50</td>\n",
       "      <td>0.20</td>\n",
       "      <td>397.34</td>\n",
       "    </tr>\n",
       "  </tbody>\n",
       "</table>\n",
       "</div>"
      ],
      "text/plain": [
       "    T_strategy  h_min  safety_margin  Payload_strategy_tanker (ton)\n",
       "0         2.27   2.50           0.20                        1307.55\n",
       "1         2.22   2.50           0.20                        1250.18\n",
       "2         2.17   2.50           0.20                        1192.88\n",
       "3         2.12   2.50           0.20                        1135.64\n",
       "4         2.07   2.50           0.20                        1078.47\n",
       "5         2.02   2.50           0.20                        1021.36\n",
       "6         1.97   2.50           0.20                         964.31\n",
       "7         1.92   2.50           0.20                         907.33\n",
       "8         1.87   2.50           0.20                         850.41\n",
       "9         1.82   2.50           0.20                         793.55\n",
       "10        1.77   2.50           0.20                         736.76\n",
       "11        1.72   2.50           0.20                         680.03\n",
       "12        1.67   2.50           0.20                         623.37\n",
       "13        1.62   2.50           0.20                         566.76\n",
       "14        1.57   2.50           0.20                         510.23\n",
       "15        1.52   2.50           0.20                         453.75\n",
       "16        1.47   2.50           0.20                         397.34"
      ]
     },
     "metadata": {},
     "output_type": "display_data"
    }
   ],
   "source": [
    "Strategies_df = pd.DataFrame(Strategies)\n",
    "with pd.option_context('display.float_format', '{:.2f}'.format):\n",
    "    display(Strategies_df.head(35))"
   ]
  },
  {
   "cell_type": "markdown",
   "metadata": {},
   "source": [
    "### Run 'formulate_sailing_strategies simulation' to get maximum possible sailing velocities for the T_strategy for h_min with a safety margin"
   ]
  },
  {
   "cell_type": "code",
   "execution_count": 36,
   "metadata": {
    "tags": []
   },
   "outputs": [
    {
     "name": "stderr",
     "output_type": "stream",
     "text": [
      "\r",
      "0it [00:00, ?it/s]"
     ]
    },
    {
     "name": "stdout",
     "output_type": "stream",
     "text": [
      "grounding velocity 3.29 m/s\n"
     ]
    },
    {
     "name": "stderr",
     "output_type": "stream",
     "text": [
      "\n",
      "0it [00:00, ?it/s]\u001b[A\n",
      "414it [00:00, 4108.82it/s]\u001b[A\n",
      "999it [00:00, 3700.49it/s]\u001b[A\n",
      "1it [00:00,  3.09it/s]"
     ]
    },
    {
     "name": "stdout",
     "output_type": "stream",
     "text": [
      "upperbound velocity 3.17 m/s\n",
      "grounding velocity 3.36 m/s\n"
     ]
    },
    {
     "name": "stderr",
     "output_type": "stream",
     "text": [
      "\n",
      "0it [00:00, ?it/s]\u001b[A\n",
      "339it [00:00, 3364.36it/s]\u001b[A\n",
      "999it [00:00, 3394.04it/s]\u001b[A\n",
      "2it [00:00,  3.11it/s]"
     ]
    },
    {
     "name": "stdout",
     "output_type": "stream",
     "text": [
      "upperbound velocity 3.23 m/s\n",
      "grounding velocity 3.43 m/s\n"
     ]
    },
    {
     "name": "stderr",
     "output_type": "stream",
     "text": [
      "\n",
      "0it [00:00, ?it/s]\u001b[A\n",
      "393it [00:00, 3923.12it/s]\u001b[A\n",
      "999it [00:00, 3575.94it/s]\u001b[A\n",
      "3it [00:00,  3.18it/s]"
     ]
    },
    {
     "name": "stdout",
     "output_type": "stream",
     "text": [
      "upperbound velocity 3.29 m/s\n",
      "grounding velocity 3.51 m/s\n"
     ]
    },
    {
     "name": "stderr",
     "output_type": "stream",
     "text": [
      "\n",
      "0it [00:00, ?it/s]\u001b[A\n",
      "292it [00:00, 2898.63it/s]\u001b[A\n",
      "637it [00:00, 3208.35it/s]\u001b[A\n",
      "999it [00:00, 3275.27it/s]\u001b[A\n",
      "4it [00:01,  3.11it/s]"
     ]
    },
    {
     "name": "stdout",
     "output_type": "stream",
     "text": [
      "upperbound velocity 3.36 m/s\n",
      "grounding velocity 3.58 m/s\n"
     ]
    },
    {
     "name": "stderr",
     "output_type": "stream",
     "text": [
      "\n",
      "0it [00:00, ?it/s]\u001b[A\n",
      "370it [00:00, 3689.91it/s]\u001b[A\n",
      "999it [00:00, 3551.25it/s]\u001b[A\n",
      "5it [00:01,  3.15it/s]"
     ]
    },
    {
     "name": "stdout",
     "output_type": "stream",
     "text": [
      "upperbound velocity 3.41 m/s\n",
      "grounding velocity 3.65 m/s\n"
     ]
    },
    {
     "name": "stderr",
     "output_type": "stream",
     "text": [
      "\n",
      "0it [00:00, ?it/s]\u001b[A\n",
      "415it [00:00, 4111.37it/s]\u001b[A\n",
      "999it [00:00, 3686.98it/s]\u001b[A\n",
      "6it [00:01,  3.23it/s]"
     ]
    },
    {
     "name": "stdout",
     "output_type": "stream",
     "text": [
      "upperbound velocity 3.46 m/s\n",
      "grounding velocity 3.71 m/s\n"
     ]
    },
    {
     "name": "stderr",
     "output_type": "stream",
     "text": [
      "\n",
      "0it [00:00, ?it/s]\u001b[A\n",
      "376it [00:00, 3755.88it/s]\u001b[A\n",
      "999it [00:00, 3604.40it/s]\u001b[A\n",
      "7it [00:02,  3.25it/s]"
     ]
    },
    {
     "name": "stdout",
     "output_type": "stream",
     "text": [
      "upperbound velocity 3.52 m/s\n",
      "grounding velocity 3.78 m/s\n"
     ]
    },
    {
     "name": "stderr",
     "output_type": "stream",
     "text": [
      "\n",
      "0it [00:00, ?it/s]\u001b[A\n",
      "385it [00:00, 3839.10it/s]\u001b[A\n",
      "999it [00:00, 3489.76it/s]\u001b[A\n",
      "8it [00:02,  3.24it/s]"
     ]
    },
    {
     "name": "stdout",
     "output_type": "stream",
     "text": [
      "upperbound velocity 3.56 m/s\n",
      "grounding velocity 3.85 m/s\n"
     ]
    },
    {
     "name": "stderr",
     "output_type": "stream",
     "text": [
      "\n",
      "0it [00:00, ?it/s]\u001b[A\n",
      "356it [00:00, 3549.62it/s]\u001b[A\n",
      "999it [00:00, 3420.83it/s]\u001b[A\n",
      "9it [00:02,  3.22it/s]"
     ]
    },
    {
     "name": "stdout",
     "output_type": "stream",
     "text": [
      "upperbound velocity 3.58 m/s\n",
      "grounding velocity 3.91 m/s\n"
     ]
    },
    {
     "name": "stderr",
     "output_type": "stream",
     "text": [
      "\n",
      "0it [00:00, ?it/s]\u001b[A\n",
      "305it [00:00, 3027.36it/s]\u001b[A\n",
      "640it [00:00, 3203.38it/s]\u001b[A\n",
      "999it [00:00, 3122.16it/s]\u001b[A\n",
      "10it [00:03,  3.12it/s]"
     ]
    },
    {
     "name": "stdout",
     "output_type": "stream",
     "text": [
      "upperbound velocity 3.62 m/s\n",
      "grounding velocity 3.98 m/s\n"
     ]
    },
    {
     "name": "stderr",
     "output_type": "stream",
     "text": [
      "\n",
      "0it [00:00, ?it/s]\u001b[A\n",
      "375it [00:00, 3722.76it/s]\u001b[A\n",
      "999it [00:00, 3551.04it/s]\u001b[A\n",
      "11it [00:03,  3.16it/s]"
     ]
    },
    {
     "name": "stdout",
     "output_type": "stream",
     "text": [
      "upperbound velocity 3.67 m/s\n",
      "grounding velocity 4.05 m/s\n"
     ]
    },
    {
     "name": "stderr",
     "output_type": "stream",
     "text": [
      "\n",
      "0it [00:00, ?it/s]\u001b[A\n",
      "330it [00:00, 3276.08it/s]\u001b[A\n",
      "999it [00:00, 3478.68it/s]\u001b[A\n",
      "12it [00:03,  3.18it/s]"
     ]
    },
    {
     "name": "stdout",
     "output_type": "stream",
     "text": [
      "upperbound velocity 3.70 m/s\n",
      "grounding velocity 4.11 m/s\n"
     ]
    },
    {
     "name": "stderr",
     "output_type": "stream",
     "text": [
      "\n",
      "0it [00:00, ?it/s]\u001b[A\n",
      "363it [00:00, 3603.78it/s]\u001b[A\n",
      "999it [00:00, 3327.87it/s]\u001b[A\n",
      "13it [00:04,  3.15it/s]"
     ]
    },
    {
     "name": "stdout",
     "output_type": "stream",
     "text": [
      "upperbound velocity 3.72 m/s\n",
      "grounding velocity 4.17 m/s\n"
     ]
    },
    {
     "name": "stderr",
     "output_type": "stream",
     "text": [
      "\n",
      "0it [00:00, ?it/s]\u001b[A\n",
      "362it [00:00, 3617.23it/s]\u001b[A\n",
      "999it [00:00, 3436.65it/s]\u001b[A\n",
      "14it [00:04,  3.17it/s]"
     ]
    },
    {
     "name": "stdout",
     "output_type": "stream",
     "text": [
      "upperbound velocity 3.72 m/s\n",
      "grounding velocity 4.24 m/s\n"
     ]
    },
    {
     "name": "stderr",
     "output_type": "stream",
     "text": [
      "\n",
      "0it [00:00, ?it/s]\u001b[A\n",
      "387it [00:00, 3838.45it/s]\u001b[A\n",
      "999it [00:00, 3459.31it/s]\u001b[A\n",
      "15it [00:04,  3.17it/s]"
     ]
    },
    {
     "name": "stdout",
     "output_type": "stream",
     "text": [
      "upperbound velocity 3.73 m/s\n",
      "grounding velocity 4.30 m/s\n"
     ]
    },
    {
     "name": "stderr",
     "output_type": "stream",
     "text": [
      "\n",
      "0it [00:00, ?it/s]\u001b[A\n",
      "381it [00:00, 3798.31it/s]\u001b[A\n",
      "999it [00:00, 3277.59it/s]\u001b[A\n",
      "16it [00:05,  3.12it/s]"
     ]
    },
    {
     "name": "stdout",
     "output_type": "stream",
     "text": [
      "upperbound velocity 3.74 m/s\n",
      "grounding velocity 4.36 m/s\n"
     ]
    },
    {
     "name": "stderr",
     "output_type": "stream",
     "text": [
      "\n",
      "0it [00:00, ?it/s]\u001b[A\n",
      "218it [00:00, 2160.25it/s]\u001b[A\n",
      "521it [00:00, 2668.97it/s]\u001b[A\n",
      "999it [00:00, 2664.07it/s]\u001b[A\n",
      "17it [00:05,  2.88it/s]"
     ]
    },
    {
     "name": "stdout",
     "output_type": "stream",
     "text": [
      "upperbound velocity 3.74 m/s\n",
      "grounding velocity 4.42 m/s\n"
     ]
    },
    {
     "name": "stderr",
     "output_type": "stream",
     "text": [
      "\n",
      "0it [00:00, ?it/s]\u001b[A\n",
      "284it [00:00, 2815.51it/s]\u001b[A\n",
      "606it [00:00, 3044.70it/s]\u001b[A\n",
      "999it [00:00, 2846.91it/s]\u001b[A\n",
      "18it [00:05,  2.80it/s]"
     ]
    },
    {
     "name": "stdout",
     "output_type": "stream",
     "text": [
      "upperbound velocity 3.75 m/s\n",
      "grounding velocity 4.48 m/s\n"
     ]
    },
    {
     "name": "stderr",
     "output_type": "stream",
     "text": [
      "\n",
      "0it [00:00, ?it/s]\u001b[A\n",
      "289it [00:00, 2870.69it/s]\u001b[A\n",
      "577it [00:00, 2761.85it/s]\u001b[A\n",
      "999it [00:00, 2652.23it/s]\u001b[A\n",
      "19it [00:06,  2.68it/s]"
     ]
    },
    {
     "name": "stdout",
     "output_type": "stream",
     "text": [
      "upperbound velocity 3.75 m/s\n",
      "grounding velocity 4.54 m/s\n"
     ]
    },
    {
     "name": "stderr",
     "output_type": "stream",
     "text": [
      "\n",
      "0it [00:00, ?it/s]\u001b[A\n",
      "359it [00:00, 3589.65it/s]\u001b[A\n",
      "999it [00:00, 3356.92it/s]\u001b[A\n",
      "20it [00:06,  2.79it/s]"
     ]
    },
    {
     "name": "stdout",
     "output_type": "stream",
     "text": [
      "upperbound velocity 3.75 m/s\n",
      "grounding velocity 4.60 m/s\n"
     ]
    },
    {
     "name": "stderr",
     "output_type": "stream",
     "text": [
      "\n",
      "0it [00:00, ?it/s]\u001b[A\n",
      "320it [00:00, 3176.79it/s]\u001b[A\n",
      "651it [00:00, 3253.21it/s]\u001b[A\n",
      "999it [00:00, 3266.12it/s]\u001b[A\n",
      "21it [00:06,  2.86it/s]"
     ]
    },
    {
     "name": "stdout",
     "output_type": "stream",
     "text": [
      "upperbound velocity 3.75 m/s\n",
      "grounding velocity 4.66 m/s\n"
     ]
    },
    {
     "name": "stderr",
     "output_type": "stream",
     "text": [
      "\n",
      "0it [00:00, ?it/s]\u001b[A\n",
      "362it [00:00, 3593.85it/s]\u001b[A\n",
      "999it [00:00, 3256.81it/s]\u001b[A\n",
      "22it [00:07,  2.90it/s]"
     ]
    },
    {
     "name": "stdout",
     "output_type": "stream",
     "text": [
      "upperbound velocity 3.76 m/s\n",
      "grounding velocity 4.72 m/s\n"
     ]
    },
    {
     "name": "stderr",
     "output_type": "stream",
     "text": [
      "\n",
      "0it [00:00, ?it/s]\u001b[A\n",
      "360it [00:00, 3572.76it/s]\u001b[A\n",
      "999it [00:00, 3251.86it/s]\u001b[A\n",
      "23it [00:07,  2.92it/s]"
     ]
    },
    {
     "name": "stdout",
     "output_type": "stream",
     "text": [
      "upperbound velocity 3.76 m/s\n",
      "grounding velocity 4.78 m/s\n"
     ]
    },
    {
     "name": "stderr",
     "output_type": "stream",
     "text": [
      "\n",
      "0it [00:00, ?it/s]\u001b[A\n",
      "271it [00:00, 2684.07it/s]\u001b[A\n",
      "636it [00:00, 3245.12it/s]\u001b[A\n",
      "999it [00:00, 3201.27it/s]\u001b[A\n",
      "24it [00:07,  2.92it/s]"
     ]
    },
    {
     "name": "stdout",
     "output_type": "stream",
     "text": [
      "upperbound velocity 3.76 m/s\n",
      "grounding velocity 4.84 m/s\n"
     ]
    },
    {
     "name": "stderr",
     "output_type": "stream",
     "text": [
      "\n",
      "0it [00:00, ?it/s]\u001b[A\n",
      "274it [00:00, 2720.04it/s]\u001b[A\n",
      "551it [00:00, 2744.77it/s]\u001b[A\n",
      "999it [00:00, 2469.66it/s]\u001b[A\n",
      "25it [00:08,  2.69it/s]"
     ]
    },
    {
     "name": "stdout",
     "output_type": "stream",
     "text": [
      "upperbound velocity 3.76 m/s\n",
      "grounding velocity 4.90 m/s\n"
     ]
    },
    {
     "name": "stderr",
     "output_type": "stream",
     "text": [
      "\n",
      "0it [00:00, ?it/s]\u001b[A\n",
      "231it [00:00, 2287.25it/s]\u001b[A\n",
      "496it [00:00, 2487.64it/s]\u001b[A\n",
      "999it [00:00, 2615.64it/s]\u001b[A\n",
      "26it [00:08,  2.61it/s]"
     ]
    },
    {
     "name": "stdout",
     "output_type": "stream",
     "text": [
      "upperbound velocity 3.76 m/s\n",
      "grounding velocity 4.96 m/s\n"
     ]
    },
    {
     "name": "stderr",
     "output_type": "stream",
     "text": [
      "\n",
      "0it [00:00, ?it/s]\u001b[A\n",
      "286it [00:00, 2837.12it/s]\u001b[A\n",
      "571it [00:00, 2832.88it/s]\u001b[A\n",
      "999it [00:00, 2999.03it/s]\u001b[A\n",
      "27it [00:09,  2.66it/s]"
     ]
    },
    {
     "name": "stdout",
     "output_type": "stream",
     "text": [
      "upperbound velocity 3.76 m/s\n",
      "grounding velocity 5.02 m/s\n"
     ]
    },
    {
     "name": "stderr",
     "output_type": "stream",
     "text": [
      "\n",
      "0it [00:00, ?it/s]\u001b[A\n",
      "330it [00:00, 3273.70it/s]\u001b[A\n",
      "658it [00:00, 3206.75it/s]\u001b[A\n",
      "999it [00:00, 3186.38it/s]\u001b[A\n",
      "28it [00:09,  2.74it/s]"
     ]
    },
    {
     "name": "stdout",
     "output_type": "stream",
     "text": [
      "upperbound velocity 3.76 m/s\n",
      "grounding velocity 5.08 m/s\n"
     ]
    },
    {
     "name": "stderr",
     "output_type": "stream",
     "text": [
      "\n",
      "0it [00:00, ?it/s]\u001b[A\n",
      "318it [00:00, 3154.86it/s]\u001b[A\n",
      "634it [00:00, 3132.15it/s]\u001b[A\n",
      "999it [00:00, 3140.29it/s]\u001b[A\n",
      "29it [00:09,  2.79it/s]"
     ]
    },
    {
     "name": "stdout",
     "output_type": "stream",
     "text": [
      "upperbound velocity 3.76 m/s\n",
      "grounding velocity 5.13 m/s\n"
     ]
    },
    {
     "name": "stderr",
     "output_type": "stream",
     "text": [
      "\n",
      "0it [00:00, ?it/s]\u001b[A\n",
      "365it [00:00, 3623.45it/s]\u001b[A\n",
      "999it [00:00, 3298.41it/s]\u001b[A\n",
      "30it [00:10,  2.86it/s]"
     ]
    },
    {
     "name": "stdout",
     "output_type": "stream",
     "text": [
      "upperbound velocity 3.76 m/s\n",
      "grounding velocity 5.19 m/s\n"
     ]
    },
    {
     "name": "stderr",
     "output_type": "stream",
     "text": [
      "\n",
      "0it [00:00, ?it/s]\u001b[A\n",
      "341it [00:00, 3393.42it/s]\u001b[A\n",
      "999it [00:00, 3211.98it/s]\u001b[A\n",
      "31it [00:10,  2.90it/s]"
     ]
    },
    {
     "name": "stdout",
     "output_type": "stream",
     "text": [
      "upperbound velocity 3.76 m/s\n",
      "grounding velocity 5.25 m/s\n"
     ]
    },
    {
     "name": "stderr",
     "output_type": "stream",
     "text": [
      "\n",
      "0it [00:00, ?it/s]\u001b[A\n",
      "303it [00:00, 3019.61it/s]\u001b[A\n",
      "654it [00:00, 3293.52it/s]\u001b[A\n",
      "999it [00:00, 3218.15it/s]\u001b[A\n",
      "32it [00:10,  2.93it/s]"
     ]
    },
    {
     "name": "stdout",
     "output_type": "stream",
     "text": [
      "upperbound velocity 3.76 m/s\n",
      "grounding velocity 5.30 m/s\n"
     ]
    },
    {
     "name": "stderr",
     "output_type": "stream",
     "text": [
      "\n",
      "0it [00:00, ?it/s]\u001b[A\n",
      "326it [00:00, 3235.43it/s]\u001b[A\n",
      "999it [00:00, 3214.79it/s]\u001b[A\n",
      "33it [00:11,  2.94it/s]"
     ]
    },
    {
     "name": "stdout",
     "output_type": "stream",
     "text": [
      "upperbound velocity 3.76 m/s\n",
      "grounding velocity 5.36 m/s\n"
     ]
    },
    {
     "name": "stderr",
     "output_type": "stream",
     "text": [
      "\n",
      "0it [00:00, ?it/s]\u001b[A\n",
      "306it [00:00, 3031.50it/s]\u001b[A\n",
      "610it [00:00, 2880.44it/s]\u001b[A\n",
      "999it [00:00, 2569.38it/s]\u001b[A\n",
      "34it [00:11,  2.72it/s]"
     ]
    },
    {
     "name": "stdout",
     "output_type": "stream",
     "text": [
      "upperbound velocity 3.77 m/s\n",
      "grounding velocity 5.42 m/s\n"
     ]
    },
    {
     "name": "stderr",
     "output_type": "stream",
     "text": [
      "\n",
      "0it [00:00, ?it/s]\u001b[A\n",
      "231it [00:00, 2290.93it/s]\u001b[A\n",
      "509it [00:00, 2574.46it/s]\u001b[A\n",
      "999it [00:00, 2500.53it/s]\u001b[A\n",
      "35it [00:12,  2.59it/s]"
     ]
    },
    {
     "name": "stdout",
     "output_type": "stream",
     "text": [
      "upperbound velocity 3.76 m/s\n",
      "grounding velocity 5.47 m/s\n"
     ]
    },
    {
     "name": "stderr",
     "output_type": "stream",
     "text": [
      "\n",
      "0it [00:00, ?it/s]\u001b[A\n",
      "260it [00:00, 2561.15it/s]\u001b[A\n",
      "532it [00:00, 2642.74it/s]\u001b[A\n",
      "999it [00:00, 2422.74it/s]\u001b[A\n",
      "36it [00:12,  2.47it/s]"
     ]
    },
    {
     "name": "stdout",
     "output_type": "stream",
     "text": [
      "upperbound velocity 3.76 m/s\n",
      "grounding velocity 5.53 m/s\n"
     ]
    },
    {
     "name": "stderr",
     "output_type": "stream",
     "text": [
      "\n",
      "0it [00:00, ?it/s]\u001b[A\n",
      "263it [00:00, 2623.45it/s]\u001b[A\n",
      "526it [00:00, 2573.64it/s]\u001b[A\n",
      "999it [00:00, 2501.21it/s]\u001b[A\n",
      "37it [00:12,  2.42it/s]"
     ]
    },
    {
     "name": "stdout",
     "output_type": "stream",
     "text": [
      "upperbound velocity 3.76 m/s\n",
      "grounding velocity 5.59 m/s\n"
     ]
    },
    {
     "name": "stderr",
     "output_type": "stream",
     "text": [
      "\n",
      "0it [00:00, ?it/s]\u001b[A\n",
      "339it [00:00, 3382.41it/s]\u001b[A\n",
      "999it [00:00, 3129.87it/s]\u001b[A\n",
      "38it [00:13,  2.55it/s]"
     ]
    },
    {
     "name": "stdout",
     "output_type": "stream",
     "text": [
      "upperbound velocity 3.77 m/s\n",
      "grounding velocity 5.64 m/s\n"
     ]
    },
    {
     "name": "stderr",
     "output_type": "stream",
     "text": [
      "\n",
      "0it [00:00, ?it/s]\u001b[A\n",
      "314it [00:00, 3117.16it/s]\u001b[A\n",
      "626it [00:00, 2727.02it/s]\u001b[A\n",
      "999it [00:00, 2680.21it/s]\u001b[A\n",
      "39it [00:13,  2.53it/s]"
     ]
    },
    {
     "name": "stdout",
     "output_type": "stream",
     "text": [
      "upperbound velocity 3.77 m/s\n",
      "grounding velocity 5.70 m/s\n"
     ]
    },
    {
     "name": "stderr",
     "output_type": "stream",
     "text": [
      "\n",
      "0it [00:00, ?it/s]\u001b[A\n",
      "283it [00:00, 2809.45it/s]\u001b[A\n",
      "564it [00:00, 2678.64it/s]\u001b[A\n",
      "999it [00:00, 2805.66it/s]\u001b[A\n",
      "40it [00:14,  2.54it/s]"
     ]
    },
    {
     "name": "stdout",
     "output_type": "stream",
     "text": [
      "upperbound velocity 3.76 m/s\n",
      "grounding velocity 5.76 m/s\n"
     ]
    },
    {
     "name": "stderr",
     "output_type": "stream",
     "text": [
      "\n",
      "0it [00:00, ?it/s]\u001b[A\n",
      "357it [00:00, 3544.08it/s]\u001b[A\n",
      "999it [00:00, 3043.32it/s]\u001b[A\n",
      "41it [00:14,  2.62it/s]"
     ]
    },
    {
     "name": "stdout",
     "output_type": "stream",
     "text": [
      "upperbound velocity 3.77 m/s\n",
      "grounding velocity 5.81 m/s\n"
     ]
    },
    {
     "name": "stderr",
     "output_type": "stream",
     "text": [
      "\n",
      "0it [00:00, ?it/s]\u001b[A\n",
      "313it [00:00, 3106.62it/s]\u001b[A\n",
      "631it [00:00, 3143.88it/s]\u001b[A\n",
      "999it [00:00, 3194.90it/s]\u001b[A\n",
      "42it [00:14,  2.72it/s]"
     ]
    },
    {
     "name": "stdout",
     "output_type": "stream",
     "text": [
      "upperbound velocity 3.77 m/s\n",
      "grounding velocity 5.87 m/s\n"
     ]
    },
    {
     "name": "stderr",
     "output_type": "stream",
     "text": [
      "\n",
      "0it [00:00, ?it/s]\u001b[A\n",
      "322it [00:00, 3215.37it/s]\u001b[A\n",
      "644it [00:00, 2993.07it/s]\u001b[A\n",
      "999it [00:00, 3077.32it/s]\u001b[A\n",
      "43it [00:15,  2.75it/s]"
     ]
    },
    {
     "name": "stdout",
     "output_type": "stream",
     "text": [
      "upperbound velocity 3.76 m/s\n",
      "grounding velocity 5.92 m/s\n"
     ]
    },
    {
     "name": "stderr",
     "output_type": "stream",
     "text": [
      "\n",
      "0it [00:00, ?it/s]\u001b[A\n",
      "290it [00:00, 2890.32it/s]\u001b[A\n",
      "620it [00:00, 3127.94it/s]\u001b[A\n",
      "999it [00:00, 3110.82it/s]\u001b[A\n",
      "44it [00:15,  2.78it/s]"
     ]
    },
    {
     "name": "stdout",
     "output_type": "stream",
     "text": [
      "upperbound velocity 3.76 m/s\n",
      "grounding velocity 5.98 m/s\n"
     ]
    },
    {
     "name": "stderr",
     "output_type": "stream",
     "text": [
      "\n",
      "0it [00:00, ?it/s]\u001b[A\n",
      "282it [00:00, 2810.26it/s]\u001b[A\n",
      "612it [00:00, 3085.24it/s]\u001b[A\n",
      "999it [00:00, 3114.62it/s]\u001b[A\n",
      "45it [00:15,  2.82it/s]"
     ]
    },
    {
     "name": "stdout",
     "output_type": "stream",
     "text": [
      "upperbound velocity 3.76 m/s\n",
      "grounding velocity 6.03 m/s\n"
     ]
    },
    {
     "name": "stderr",
     "output_type": "stream",
     "text": [
      "\n",
      "0it [00:00, ?it/s]\u001b[A\n",
      "322it [00:00, 3195.65it/s]\u001b[A\n",
      "999it [00:00, 3242.44it/s]\u001b[A\n",
      "46it [00:16,  2.86it/s]"
     ]
    },
    {
     "name": "stdout",
     "output_type": "stream",
     "text": [
      "upperbound velocity 3.77 m/s\n",
      "grounding velocity 6.09 m/s\n"
     ]
    },
    {
     "name": "stderr",
     "output_type": "stream",
     "text": [
      "\n",
      "0it [00:00, ?it/s]\u001b[A\n",
      "349it [00:00, 3456.92it/s]\u001b[A\n",
      "999it [00:00, 3273.91it/s]\u001b[A\n",
      "47it [00:16,  2.91it/s]"
     ]
    },
    {
     "name": "stdout",
     "output_type": "stream",
     "text": [
      "upperbound velocity 3.77 m/s\n",
      "grounding velocity 6.15 m/s\n"
     ]
    },
    {
     "name": "stderr",
     "output_type": "stream",
     "text": [
      "\n",
      "0it [00:00, ?it/s]\u001b[A\n",
      "362it [00:00, 3525.97it/s]\u001b[A\n",
      "999it [00:00, 3242.29it/s]\u001b[A\n",
      "48it [00:16,  2.94it/s]"
     ]
    },
    {
     "name": "stdout",
     "output_type": "stream",
     "text": [
      "upperbound velocity 3.76 m/s\n",
      "grounding velocity 6.20 m/s\n"
     ]
    },
    {
     "name": "stderr",
     "output_type": "stream",
     "text": [
      "\n",
      "0it [00:00, ?it/s]\u001b[A\n",
      "360it [00:00, 3572.86it/s]\u001b[A\n",
      "999it [00:00, 3392.60it/s]\u001b[A\n",
      "49it [00:17,  2.99it/s]"
     ]
    },
    {
     "name": "stdout",
     "output_type": "stream",
     "text": [
      "upperbound velocity 3.77 m/s\n",
      "grounding velocity 6.26 m/s\n"
     ]
    },
    {
     "name": "stderr",
     "output_type": "stream",
     "text": [
      "\n",
      "0it [00:00, ?it/s]\u001b[A\n",
      "352it [00:00, 3514.26it/s]\u001b[A\n",
      "999it [00:00, 3025.14it/s]\u001b[A\n",
      "50it [00:17,  2.94it/s]"
     ]
    },
    {
     "name": "stdout",
     "output_type": "stream",
     "text": [
      "upperbound velocity 3.76 m/s\n",
      "grounding velocity 6.31 m/s\n"
     ]
    },
    {
     "name": "stderr",
     "output_type": "stream",
     "text": [
      "\n",
      "0it [00:00, ?it/s]\u001b[A\n",
      "312it [00:00, 3096.47it/s]\u001b[A\n",
      "650it [00:00, 3249.46it/s]\u001b[A\n",
      "999it [00:00, 3210.19it/s]\u001b[A\n",
      "51it [00:17,  2.95it/s]"
     ]
    },
    {
     "name": "stdout",
     "output_type": "stream",
     "text": [
      "upperbound velocity 3.76 m/s\n",
      "grounding velocity 6.37 m/s\n"
     ]
    },
    {
     "name": "stderr",
     "output_type": "stream",
     "text": [
      "\n",
      "0it [00:00, ?it/s]\u001b[A\n",
      "359it [00:00, 3578.88it/s]\u001b[A\n",
      "999it [00:00, 3184.16it/s]\u001b[A\n",
      "52it [00:18,  2.95it/s]"
     ]
    },
    {
     "name": "stdout",
     "output_type": "stream",
     "text": [
      "upperbound velocity 3.76 m/s\n",
      "grounding velocity 6.42 m/s\n"
     ]
    },
    {
     "name": "stderr",
     "output_type": "stream",
     "text": [
      "\n",
      "0it [00:00, ?it/s]\u001b[A\n",
      "335it [00:00, 3342.96it/s]\u001b[A\n",
      "999it [00:00, 3353.14it/s]\u001b[A\n",
      "53it [00:18,  3.00it/s]"
     ]
    },
    {
     "name": "stdout",
     "output_type": "stream",
     "text": [
      "upperbound velocity 3.77 m/s\n",
      "grounding velocity 6.48 m/s\n"
     ]
    },
    {
     "name": "stderr",
     "output_type": "stream",
     "text": [
      "\n",
      "0it [00:00, ?it/s]\u001b[A\n",
      "355it [00:00, 3539.73it/s]\u001b[A\n",
      "999it [00:00, 3383.75it/s]\u001b[A\n",
      "54it [00:18,  3.05it/s]"
     ]
    },
    {
     "name": "stdout",
     "output_type": "stream",
     "text": [
      "upperbound velocity 3.77 m/s\n",
      "grounding velocity 6.53 m/s\n"
     ]
    },
    {
     "name": "stderr",
     "output_type": "stream",
     "text": [
      "\n",
      "0it [00:00, ?it/s]\u001b[A\n",
      "331it [00:00, 3300.83it/s]\u001b[A\n",
      "999it [00:00, 3221.18it/s]\u001b[A\n",
      "55it [00:19,  3.03it/s]"
     ]
    },
    {
     "name": "stdout",
     "output_type": "stream",
     "text": [
      "upperbound velocity 3.76 m/s\n",
      "grounding velocity 6.59 m/s\n"
     ]
    },
    {
     "name": "stderr",
     "output_type": "stream",
     "text": [
      "\n",
      "0it [00:00, ?it/s]\u001b[A\n",
      "344it [00:00, 3427.62it/s]\u001b[A\n",
      "999it [00:00, 3310.27it/s]\u001b[A\n",
      "56it [00:19,  3.05it/s]"
     ]
    },
    {
     "name": "stdout",
     "output_type": "stream",
     "text": [
      "upperbound velocity 3.76 m/s\n",
      "grounding velocity 6.64 m/s\n"
     ]
    },
    {
     "name": "stderr",
     "output_type": "stream",
     "text": [
      "\n",
      "0it [00:00, ?it/s]\u001b[A\n",
      "360it [00:00, 3579.71it/s]\u001b[A\n",
      "999it [00:00, 3080.66it/s]\u001b[A\n",
      "57it [00:19,  2.99it/s]"
     ]
    },
    {
     "name": "stdout",
     "output_type": "stream",
     "text": [
      "upperbound velocity 3.76 m/s\n",
      "grounding velocity 6.70 m/s\n"
     ]
    },
    {
     "name": "stderr",
     "output_type": "stream",
     "text": [
      "\n",
      "0it [00:00, ?it/s]\u001b[A\n",
      "333it [00:00, 3304.77it/s]\u001b[A\n",
      "664it [00:00, 2965.61it/s]\u001b[A\n",
      "999it [00:00, 3057.70it/s]\u001b[A\n",
      "58it [00:20,  2.96it/s]"
     ]
    },
    {
     "name": "stdout",
     "output_type": "stream",
     "text": [
      "upperbound velocity 3.76 m/s\n",
      "grounding velocity 6.76 m/s\n"
     ]
    },
    {
     "name": "stderr",
     "output_type": "stream",
     "text": [
      "\n",
      "0it [00:00, ?it/s]\u001b[A\n",
      "320it [00:00, 3191.04it/s]\u001b[A\n",
      "640it [00:00, 3135.26it/s]\u001b[A\n",
      "999it [00:00, 3061.94it/s]\u001b[A\n",
      "59it [00:20,  2.92it/s]"
     ]
    },
    {
     "name": "stdout",
     "output_type": "stream",
     "text": [
      "upperbound velocity 3.76 m/s\n",
      "grounding velocity 6.81 m/s\n"
     ]
    },
    {
     "name": "stderr",
     "output_type": "stream",
     "text": [
      "\n",
      "0it [00:00, ?it/s]\u001b[A\n",
      "362it [00:00, 3593.71it/s]\u001b[A\n",
      "999it [00:00, 3119.88it/s]\u001b[A\n",
      "60it [00:20,  2.91it/s]"
     ]
    },
    {
     "name": "stdout",
     "output_type": "stream",
     "text": [
      "upperbound velocity 3.76 m/s\n",
      "grounding velocity 6.87 m/s\n"
     ]
    },
    {
     "name": "stderr",
     "output_type": "stream",
     "text": [
      "\n",
      "0it [00:00, ?it/s]\u001b[A\n",
      "302it [00:00, 2992.29it/s]\u001b[A\n",
      "602it [00:00, 2897.35it/s]\u001b[A\n",
      "999it [00:00, 2978.19it/s]\u001b[A\n",
      "61it [00:21,  2.87it/s]"
     ]
    },
    {
     "name": "stdout",
     "output_type": "stream",
     "text": [
      "upperbound velocity 3.76 m/s\n",
      "grounding velocity 6.92 m/s\n"
     ]
    },
    {
     "name": "stderr",
     "output_type": "stream",
     "text": [
      "\n",
      "0it [00:00, ?it/s]\u001b[A\n",
      "296it [00:00, 2937.49it/s]\u001b[A\n",
      "592it [00:00, 2938.72it/s]\u001b[A\n",
      "999it [00:00, 2932.32it/s]\u001b[A\n",
      "62it [00:21,  2.83it/s]"
     ]
    },
    {
     "name": "stdout",
     "output_type": "stream",
     "text": [
      "upperbound velocity 3.76 m/s\n",
      "grounding velocity 6.98 m/s\n"
     ]
    },
    {
     "name": "stderr",
     "output_type": "stream",
     "text": [
      "\n",
      "0it [00:00, ?it/s]\u001b[A\n",
      "333it [00:00, 3300.07it/s]\u001b[A\n",
      "664it [00:00, 3245.72it/s]\u001b[A\n",
      "999it [00:00, 3122.62it/s]\u001b[A\n",
      "63it [00:21,  2.86it/s]"
     ]
    },
    {
     "name": "stdout",
     "output_type": "stream",
     "text": [
      "upperbound velocity 3.76 m/s\n",
      "grounding velocity 7.04 m/s\n"
     ]
    },
    {
     "name": "stderr",
     "output_type": "stream",
     "text": [
      "\n",
      "0it [00:00, ?it/s]\u001b[A\n",
      "318it [00:00, 3157.00it/s]\u001b[A\n",
      "634it [00:00, 3095.41it/s]\u001b[A\n",
      "999it [00:00, 2904.53it/s]\u001b[A\n",
      "64it [00:22,  2.79it/s]"
     ]
    },
    {
     "name": "stdout",
     "output_type": "stream",
     "text": [
      "upperbound velocity 3.76 m/s\n",
      "grounding velocity 7.09 m/s\n"
     ]
    },
    {
     "name": "stderr",
     "output_type": "stream",
     "text": [
      "\n",
      "0it [00:00, ?it/s]\u001b[A\n",
      "232it [00:00, 2296.79it/s]\u001b[A\n",
      "486it [00:00, 2435.36it/s]\u001b[A\n",
      "999it [00:00, 2572.39it/s]\u001b[A\n",
      "65it [00:22,  2.65it/s]"
     ]
    },
    {
     "name": "stdout",
     "output_type": "stream",
     "text": [
      "upperbound velocity 3.75 m/s\n",
      "grounding velocity 7.15 m/s\n"
     ]
    },
    {
     "name": "stderr",
     "output_type": "stream",
     "text": [
      "\n",
      "0it [00:00, ?it/s]\u001b[A\n",
      "286it [00:00, 2836.13it/s]\u001b[A\n",
      "571it [00:00, 2843.74it/s]\u001b[A\n",
      "999it [00:00, 2900.30it/s]\u001b[A\n",
      "66it [00:23,  2.66it/s]"
     ]
    },
    {
     "name": "stdout",
     "output_type": "stream",
     "text": [
      "upperbound velocity 3.75 m/s\n",
      "grounding velocity 7.20 m/s\n"
     ]
    },
    {
     "name": "stderr",
     "output_type": "stream",
     "text": [
      "\n",
      "0it [00:00, ?it/s]\u001b[A\n",
      "273it [00:00, 2701.06it/s]\u001b[A\n",
      "544it [00:00, 2645.95it/s]\u001b[A\n",
      "999it [00:00, 2766.82it/s]\u001b[A\n",
      "67it [00:23,  2.64it/s]"
     ]
    },
    {
     "name": "stdout",
     "output_type": "stream",
     "text": [
      "upperbound velocity 3.75 m/s\n",
      "grounding velocity 7.26 m/s\n"
     ]
    },
    {
     "name": "stderr",
     "output_type": "stream",
     "text": [
      "\n",
      "0it [00:00, ?it/s]\u001b[A\n",
      "221it [00:00, 2209.37it/s]\u001b[A\n",
      "451it [00:00, 2250.75it/s]\u001b[A\n",
      "689it [00:00, 2301.89it/s]\u001b[A\n",
      "999it [00:00, 2309.51it/s]\u001b[A\n",
      "68it [00:23,  2.49it/s]"
     ]
    },
    {
     "name": "stdout",
     "output_type": "stream",
     "text": [
      "upperbound velocity 3.75 m/s\n",
      "grounding velocity 7.32 m/s\n"
     ]
    },
    {
     "name": "stderr",
     "output_type": "stream",
     "text": [
      "\n",
      "0it [00:00, ?it/s]\u001b[A\n",
      "299it [00:00, 2984.45it/s]\u001b[A\n",
      "598it [00:00, 2813.95it/s]\u001b[A\n",
      "999it [00:00, 2843.86it/s]\u001b[A\n",
      "69it [00:24,  2.54it/s]"
     ]
    },
    {
     "name": "stdout",
     "output_type": "stream",
     "text": [
      "upperbound velocity 3.75 m/s\n",
      "grounding velocity 7.37 m/s\n"
     ]
    },
    {
     "name": "stderr",
     "output_type": "stream",
     "text": [
      "\n",
      "0it [00:00, ?it/s]\u001b[A\n",
      "288it [00:00, 2877.24it/s]\u001b[A\n",
      "576it [00:00, 2829.72it/s]\u001b[A\n",
      "999it [00:00, 2870.81it/s]\u001b[A\n",
      "70it [00:24,  2.58it/s]"
     ]
    },
    {
     "name": "stdout",
     "output_type": "stream",
     "text": [
      "upperbound velocity 3.75 m/s\n",
      "grounding velocity 7.43 m/s\n"
     ]
    },
    {
     "name": "stderr",
     "output_type": "stream",
     "text": [
      "\n",
      "0it [00:00, ?it/s]\u001b[A\n",
      "321it [00:00, 3200.78it/s]\u001b[A\n",
      "642it [00:00, 3016.45it/s]\u001b[A\n",
      "999it [00:00, 2880.44it/s]\u001b[A\n",
      "71it [00:25,  2.61it/s]"
     ]
    },
    {
     "name": "stdout",
     "output_type": "stream",
     "text": [
      "upperbound velocity 3.75 m/s\n",
      "grounding velocity 7.49 m/s\n"
     ]
    },
    {
     "name": "stderr",
     "output_type": "stream",
     "text": [
      "\n",
      "0it [00:00, ?it/s]\u001b[A\n",
      "330it [00:00, 3276.16it/s]\u001b[A\n",
      "658it [00:00, 2953.76it/s]\u001b[A\n",
      "999it [00:00, 2847.66it/s]\u001b[A\n",
      "72it [00:25,  2.62it/s]"
     ]
    },
    {
     "name": "stdout",
     "output_type": "stream",
     "text": [
      "upperbound velocity 3.74 m/s\n",
      "grounding velocity 7.54 m/s\n"
     ]
    },
    {
     "name": "stderr",
     "output_type": "stream",
     "text": [
      "\n",
      "0it [00:00, ?it/s]\u001b[A\n",
      "270it [00:00, 2690.41it/s]\u001b[A\n",
      "540it [00:00, 2653.12it/s]\u001b[A\n",
      "999it [00:00, 2625.62it/s]\u001b[A\n",
      "73it [00:25,  2.58it/s]"
     ]
    },
    {
     "name": "stdout",
     "output_type": "stream",
     "text": [
      "upperbound velocity 3.74 m/s\n",
      "grounding velocity 7.60 m/s\n"
     ]
    },
    {
     "name": "stderr",
     "output_type": "stream",
     "text": [
      "\n",
      "0it [00:00, ?it/s]\u001b[A\n",
      "250it [00:00, 2492.96it/s]\u001b[A\n",
      "571it [00:00, 2901.22it/s]\u001b[A\n",
      "999it [00:00, 2882.08it/s]\u001b[A\n",
      "74it [00:26,  2.61it/s]"
     ]
    },
    {
     "name": "stdout",
     "output_type": "stream",
     "text": [
      "upperbound velocity 3.74 m/s\n",
      "grounding velocity 7.66 m/s\n"
     ]
    },
    {
     "name": "stderr",
     "output_type": "stream",
     "text": [
      "\n",
      "0it [00:00, ?it/s]\u001b[A\n",
      "282it [00:00, 2802.30it/s]\u001b[A\n",
      "582it [00:00, 2904.87it/s]\u001b[A\n",
      "999it [00:00, 2758.69it/s]\u001b[A\n",
      "75it [00:26,  2.60it/s]"
     ]
    },
    {
     "name": "stdout",
     "output_type": "stream",
     "text": [
      "upperbound velocity 3.74 m/s\n",
      "grounding velocity 7.72 m/s\n"
     ]
    },
    {
     "name": "stderr",
     "output_type": "stream",
     "text": [
      "\n",
      "0it [00:00, ?it/s]\u001b[A\n",
      "314it [00:00, 3108.24it/s]\u001b[A\n",
      "625it [00:00, 2898.11it/s]\u001b[A\n",
      "999it [00:00, 2891.46it/s]\u001b[A\n",
      "76it [00:26,  2.63it/s]"
     ]
    },
    {
     "name": "stdout",
     "output_type": "stream",
     "text": [
      "upperbound velocity 3.74 m/s\n",
      "grounding velocity 7.77 m/s\n"
     ]
    },
    {
     "name": "stderr",
     "output_type": "stream",
     "text": [
      "\n",
      "0it [00:00, ?it/s]\u001b[A\n",
      "277it [00:00, 2751.19it/s]\u001b[A\n",
      "553it [00:00, 2697.47it/s]\u001b[A\n",
      "999it [00:00, 2657.27it/s]\u001b[A\n",
      "77it [00:27,  2.58it/s]"
     ]
    },
    {
     "name": "stdout",
     "output_type": "stream",
     "text": [
      "upperbound velocity 3.73 m/s\n",
      "grounding velocity 7.83 m/s\n"
     ]
    },
    {
     "name": "stderr",
     "output_type": "stream",
     "text": [
      "\n",
      "0it [00:00, ?it/s]\u001b[A\n",
      "278it [00:00, 2753.80it/s]\u001b[A\n",
      "555it [00:00, 2762.56it/s]\u001b[A\n",
      "999it [00:00, 2696.49it/s]\u001b[A\n",
      "78it [00:27,  2.81it/s]"
     ]
    },
    {
     "name": "stdout",
     "output_type": "stream",
     "text": [
      "upperbound velocity 3.73 m/s\n"
     ]
    },
    {
     "name": "stderr",
     "output_type": "stream",
     "text": [
      "\n"
     ]
    }
   ],
   "source": [
    "Strategies = []\n",
    "# Start simpy environment\n",
    "simulation_start = datetime.datetime.now()\n",
    "env = simpy.Environment(initial_time = time.mktime(simulation_start.timetuple()))\n",
    "env.epoch = time.mktime(simulation_start.timetuple())\n",
    "\n",
    "# Add graph to environment\n",
    "env.FG = FG\n",
    "    \n",
    "for i, row in tqdm.tqdm(work_df.iterrows()):\n",
    "    T_strategy = row['T_strategy']\n",
    "    h_min = row['h_min']\n",
    "    safety_margin = row['safety_margin']\n",
    "    \n",
    "   \n",
    "    vessel = TransportResource(**data_vessel)\n",
    "    vessel.name = 'Vessel No.1'                     \n",
    "    # add environment and path to the vessel\n",
    "    vessel.env = env                                        #the created environment\n",
    "    vessel.route = path_bottleneck  \n",
    "    # position vessel at the start of the path\n",
    "    vessel.geometry = env.FG.nodes[path[0]]['geometry']     #a shapely.geometry.Point(lon,lat) (here taken as the starting node of the vessel)\n",
    "    vessel._T = T_strategy\n",
    "\n",
    "    v_T2v, v_P2v, v_max_final = opentnsim.strategy.get_v_max_for_bottleneck(FG, path_bottleneck, vessel, T_strategy)\n",
    "    Payload_comupted = opentnsim.strategy.T2Payload(vessel, T_strategy, vessel_type = \"Tanker\") \n",
    "    \n",
    "    v_strategy, max_sinkage = max_sinkage_at_v_strategy (vessel,T_strategy, v_max_final)\n",
    "    remained_distance_to_margin = h_min - T_strategy - max_sinkage - safety_margin\n",
    "    \n",
    "    Strategy ={}\n",
    "    Strategy.update(row)\n",
    "    Strategy['max_sinkage_at_v_max_final (cm)'] = max_sinkage * 100    \n",
    "    Strategy['h_min'] = h_min\n",
    "    Strategy['safety_margin'] = safety_margin\n",
    "    Strategy['remained_distance_to_margin (cm)'] = remained_distance_to_margin * 100\n",
    "    Strategy['v_max_(sinkage_allowed) (m/s)'] = v_T2v\n",
    "    Strategy['v_max_(power_allowed) (m/s)'] = v_P2v    \n",
    "    Strategy['v_max_final (m/s)'] = v_max_final\n",
    "    Strategy['Payload_strategy_tanker (ton)'] = Payload_comupted\n",
    "    Strategies.append(Strategy)\n",
    "    "
   ]
  },
  {
   "cell_type": "markdown",
   "metadata": {},
   "source": [
    "### The DataFrame Table (Strategies_df) showing below is the overall strategy for an M8 tanker vessel to pass the bottleneck section (h_min = 2.5 m, safety margin = 0.3 m), including:\n",
    "- possible draughts, corresponding payloads,\n",
    "- maximum ship velocities considering maximum allowed sinkage without touching safety margin,\n",
    "- maximum ship velocities within installed power, \n",
    "- the final realistic maximum ship velocities (v_max_final) considering both maximum allowed sinkage and installed power (which is the lower value between v_max(sinkage_allowed) and v_max_(power_allowed) )    \n",
    "- remained_distance between ship bottom to safety margin while sailing at v_max_final with its maximum sinkage "
   ]
  },
  {
   "cell_type": "code",
   "execution_count": 14,
   "metadata": {
    "tags": []
   },
   "outputs": [
    {
     "data": {
      "text/html": [
       "<div>\n",
       "<style scoped>\n",
       "    .dataframe tbody tr th:only-of-type {\n",
       "        vertical-align: middle;\n",
       "    }\n",
       "\n",
       "    .dataframe tbody tr th {\n",
       "        vertical-align: top;\n",
       "    }\n",
       "\n",
       "    .dataframe thead th {\n",
       "        text-align: right;\n",
       "    }\n",
       "</style>\n",
       "<table border=\"1\" class=\"dataframe\">\n",
       "  <thead>\n",
       "    <tr style=\"text-align: right;\">\n",
       "      <th></th>\n",
       "    </tr>\n",
       "  </thead>\n",
       "  <tbody>\n",
       "  </tbody>\n",
       "</table>\n",
       "</div>"
      ],
      "text/plain": [
       "Empty DataFrame\n",
       "Columns: []\n",
       "Index: []"
      ]
     },
     "metadata": {},
     "output_type": "display_data"
    },
    {
     "name": "stdout",
     "output_type": "stream",
     "text": [
      "ERROR! Session/line number was not unique in database. History logging moved to new session 1450\n"
     ]
    }
   ],
   "source": [
    "Strategies_df = pd.DataFrame(Strategies)\n",
    "with pd.option_context('display.float_format', '{:.2f}'.format):\n",
    "    display(Strategies_df.head(35))"
   ]
  },
  {
   "cell_type": "code",
   "execution_count": 15,
   "metadata": {},
   "outputs": [
    {
     "data": {
      "text/html": [
       "<div>\n",
       "<style scoped>\n",
       "    .dataframe tbody tr th:only-of-type {\n",
       "        vertical-align: middle;\n",
       "    }\n",
       "\n",
       "    .dataframe tbody tr th {\n",
       "        vertical-align: top;\n",
       "    }\n",
       "\n",
       "    .dataframe thead th {\n",
       "        text-align: right;\n",
       "    }\n",
       "</style>\n",
       "<table border=\"1\" class=\"dataframe\">\n",
       "  <thead>\n",
       "    <tr style=\"text-align: right;\">\n",
       "      <th></th>\n",
       "    </tr>\n",
       "  </thead>\n",
       "  <tbody>\n",
       "  </tbody>\n",
       "</table>\n",
       "</div>"
      ],
      "text/plain": [
       "Empty DataFrame\n",
       "Columns: []\n",
       "Index: []"
      ]
     },
     "execution_count": 15,
     "metadata": {},
     "output_type": "execute_result"
    }
   ],
   "source": [
    "Strategies_df.head(10)"
   ]
  },
  {
   "cell_type": "code",
   "execution_count": null,
   "metadata": {},
   "outputs": [],
   "source": []
  },
  {
   "cell_type": "code",
   "execution_count": null,
   "metadata": {},
   "outputs": [],
   "source": []
  },
  {
   "cell_type": "code",
   "execution_count": null,
   "metadata": {},
   "outputs": [],
   "source": []
  },
  {
   "cell_type": "markdown",
   "metadata": {},
   "source": [
    "### Based on the overall strategies from the above table, we do a further analysis for one given T_strategy with several possible velocities "
   ]
  },
  {
   "cell_type": "code",
   "execution_count": 16,
   "metadata": {},
   "outputs": [],
   "source": [
    "T_strategy_n10 = [2.1] \n",
    "v_strategy_n10 = [0, 1, 1.5, 2, 2.5, 3, 3.5, 3.91]\n",
    "h_min = [2.5]\n",
    "\n",
    "safety_margin =[0.3]"
   ]
  },
  {
   "cell_type": "code",
   "execution_count": 17,
   "metadata": {
    "tags": []
   },
   "outputs": [
    {
     "name": "stdout",
     "output_type": "stream",
     "text": [
      "{'T_strategy_n10 (m)': 2.1, 'v_strategy_n10 (m/s)': 3.91, 'h_min': 2.5, 'safety_margin': 0.3}\n"
     ]
    },
    {
     "data": {
      "text/html": [
       "<div>\n",
       "<style scoped>\n",
       "    .dataframe tbody tr th:only-of-type {\n",
       "        vertical-align: middle;\n",
       "    }\n",
       "\n",
       "    .dataframe tbody tr th {\n",
       "        vertical-align: top;\n",
       "    }\n",
       "\n",
       "    .dataframe thead th {\n",
       "        text-align: right;\n",
       "    }\n",
       "</style>\n",
       "<table border=\"1\" class=\"dataframe\">\n",
       "  <thead>\n",
       "    <tr style=\"text-align: right;\">\n",
       "      <th></th>\n",
       "      <th>T_strategy_n10 (m)</th>\n",
       "      <th>v_strategy_n10 (m/s)</th>\n",
       "      <th>h_min</th>\n",
       "      <th>safety_margin</th>\n",
       "    </tr>\n",
       "  </thead>\n",
       "  <tbody>\n",
       "    <tr>\n",
       "      <th>0</th>\n",
       "      <td>2.1</td>\n",
       "      <td>0.00</td>\n",
       "      <td>2.5</td>\n",
       "      <td>0.3</td>\n",
       "    </tr>\n",
       "    <tr>\n",
       "      <th>1</th>\n",
       "      <td>2.1</td>\n",
       "      <td>1.00</td>\n",
       "      <td>2.5</td>\n",
       "      <td>0.3</td>\n",
       "    </tr>\n",
       "    <tr>\n",
       "      <th>2</th>\n",
       "      <td>2.1</td>\n",
       "      <td>1.50</td>\n",
       "      <td>2.5</td>\n",
       "      <td>0.3</td>\n",
       "    </tr>\n",
       "    <tr>\n",
       "      <th>3</th>\n",
       "      <td>2.1</td>\n",
       "      <td>2.00</td>\n",
       "      <td>2.5</td>\n",
       "      <td>0.3</td>\n",
       "    </tr>\n",
       "    <tr>\n",
       "      <th>4</th>\n",
       "      <td>2.1</td>\n",
       "      <td>2.50</td>\n",
       "      <td>2.5</td>\n",
       "      <td>0.3</td>\n",
       "    </tr>\n",
       "    <tr>\n",
       "      <th>5</th>\n",
       "      <td>2.1</td>\n",
       "      <td>3.00</td>\n",
       "      <td>2.5</td>\n",
       "      <td>0.3</td>\n",
       "    </tr>\n",
       "    <tr>\n",
       "      <th>6</th>\n",
       "      <td>2.1</td>\n",
       "      <td>3.50</td>\n",
       "      <td>2.5</td>\n",
       "      <td>0.3</td>\n",
       "    </tr>\n",
       "    <tr>\n",
       "      <th>7</th>\n",
       "      <td>2.1</td>\n",
       "      <td>3.91</td>\n",
       "      <td>2.5</td>\n",
       "      <td>0.3</td>\n",
       "    </tr>\n",
       "  </tbody>\n",
       "</table>\n",
       "</div>"
      ],
      "text/plain": [
       "   T_strategy_n10 (m)  v_strategy_n10 (m/s)  h_min  safety_margin\n",
       "0                 2.1                  0.00    2.5            0.3\n",
       "1                 2.1                  1.00    2.5            0.3\n",
       "2                 2.1                  1.50    2.5            0.3\n",
       "3                 2.1                  2.00    2.5            0.3\n",
       "4                 2.1                  2.50    2.5            0.3\n",
       "5                 2.1                  3.00    2.5            0.3\n",
       "6                 2.1                  3.50    2.5            0.3\n",
       "7                 2.1                  3.91    2.5            0.3"
      ]
     },
     "execution_count": 17,
     "metadata": {},
     "output_type": "execute_result"
    }
   ],
   "source": [
    "# prepare the work to be done\n",
    "# create a list of all combinations\n",
    "work4 = list(itertools.product(T_strategy_n10, v_strategy_n10, h_min, safety_margin))\n",
    "\n",
    "# prepare a list of dictionaries for pandas\n",
    "rows4 = []\n",
    "for item4 in work4:\n",
    "    row4 = {\"T_strategy_n10 (m)\": item4[0], \"v_strategy_n10 (m/s)\": item4[1], \"h_min\":item4[2], \"safety_margin\":item4[3]}\n",
    "    rows4.append(row4)\n",
    "print(row4)\n",
    "# these are all the simulations that we want to run\n",
    "# convert them to dataframe, so that we can apply a function and monitor progress\n",
    "work4_df = pd.DataFrame(rows4)\n",
    "work4_df.tail(8)"
   ]
  },
  {
   "cell_type": "code",
   "execution_count": null,
   "metadata": {},
   "outputs": [
    {
     "name": "stderr",
     "output_type": "stream",
     "text": [
      "0it [00:00, ?it/s]\n",
      "ERROR:root:Internal Python error in the inspect module.\n",
      "Below is the traceback from this internal error.\n",
      "\n",
      "ERROR:root:Internal Python error in the inspect module.\n",
      "Below is the traceback from this internal error.\n",
      "\n",
      "ERROR:root:Internal Python error in the inspect module.\n",
      "Below is the traceback from this internal error.\n",
      "\n"
     ]
    },
    {
     "name": "stdout",
     "output_type": "stream",
     "text": [
      "Traceback (most recent call last):\n",
      "NameError: name 'T2Payload' is not defined\n",
      "\n",
      "During handling of the above exception, another exception occurred:\n",
      "\n",
      "Traceback (most recent call last):\n",
      "AttributeError: 'NameError' object has no attribute '_render_traceback_'\n",
      "\n",
      "During handling of the above exception, another exception occurred:\n",
      "\n",
      "Traceback (most recent call last):\n",
      "AssertionError\n",
      "Traceback (most recent call last):\n",
      "NameError: name 'T2Payload' is not defined\n",
      "\n",
      "During handling of the above exception, another exception occurred:\n",
      "\n",
      "Traceback (most recent call last):\n",
      "AttributeError: 'NameError' object has no attribute '_render_traceback_'\n",
      "\n",
      "During handling of the above exception, another exception occurred:\n",
      "\n",
      "Traceback (most recent call last):\n",
      "TypeError: object of type 'NoneType' has no len()\n",
      "\n",
      "During handling of the above exception, another exception occurred:\n",
      "\n",
      "Traceback (most recent call last):\n",
      "AttributeError: 'TypeError' object has no attribute '_render_traceback_'\n",
      "\n",
      "During handling of the above exception, another exception occurred:\n",
      "\n",
      "Traceback (most recent call last):\n",
      "AssertionError\n",
      "Traceback (most recent call last):\n",
      "NameError: name 'T2Payload' is not defined\n",
      "\n",
      "During handling of the above exception, another exception occurred:\n",
      "\n",
      "Traceback (most recent call last):\n",
      "AttributeError: 'NameError' object has no attribute '_render_traceback_'\n",
      "\n",
      "During handling of the above exception, another exception occurred:\n",
      "\n",
      "Traceback (most recent call last):\n",
      "TypeError: object of type 'NoneType' has no len()\n",
      "\n",
      "During handling of the above exception, another exception occurred:\n",
      "\n",
      "Traceback (most recent call last):\n",
      "AttributeError: 'TypeError' object has no attribute '_render_traceback_'\n",
      "\n",
      "During handling of the above exception, another exception occurred:\n",
      "\n",
      "Traceback (most recent call last):\n",
      "TypeError: object of type 'NoneType' has no len()\n",
      "\n",
      "During handling of the above exception, another exception occurred:\n",
      "\n",
      "Traceback (most recent call last):\n",
      "AttributeError: 'TypeError' object has no attribute '_render_traceback_'\n",
      "\n",
      "During handling of the above exception, another exception occurred:\n",
      "\n",
      "Traceback (most recent call last):\n",
      "AssertionError\n"
     ]
    }
   ],
   "source": [
    "Strategies_n10 = []\n",
    "\n",
    "for i, row4 in tqdm.tqdm(work4_df.iterrows()):\n",
    "    T_strategy_n10 = row4['T_strategy_n10 (m)']\n",
    "    v_strategy_n10 = row4['v_strategy_n10 (m/s)']\n",
    "    h_min_n10 = row4['h_min']\n",
    "    safety_margin_n10 = row4['safety_margin']\n",
    "    \n",
    "   \n",
    "    vessel = TransportResource(**data_vessel)\n",
    "    vessel._T = T_strategy\n",
    "    \n",
    "    Payload_strategy_n10 = T2Payload(vessel, T_strategy_n10, vessel_type = \"Tanker\") \n",
    "    \n",
    "    v_strategy_n10, max_sinkage_n10 = max_sinkage_at_v_strategy (vessel,T_strategy_n10, v_strategy_n10)\n",
    "    remained_distance_to_margin_n10 = h_min_n10 - T_strategy_n10 - max_sinkage_n10 - safety_margin_n10\n",
    "    \n",
    "    \n",
    "    Strategy_n10 ={}\n",
    "    Strategy_n10.update(row4)\n",
    "        \n",
    "    Strategy_n10['h_min'] = h_min_n10    \n",
    "    Strategy_n10['max_sinkage_at_v_strategy (cm)'] = max_sinkage_n10 * 100\n",
    "    Strategy_n10['remained_distance_to_margin (cm)'] = remained_distance_to_margin_n10 * 100\n",
    "    Strategy_n10['safety_margin'] = safety_margin_n10\n",
    "    Strategy_n10['Payload_strategy_tanker (ton)'] = Payload_strategy_n10\n",
    "    Strategies_n10.append(Strategy_n10)\n",
    "    "
   ]
  },
  {
   "cell_type": "markdown",
   "metadata": {},
   "source": [
    "### The DataFrame Table (Strategies_n10_df) showing below is the strategy for an M8 tanker vessel to pass the bottleneck section (h_min = 2.5 m, safety margin = 0.3 m) with a given T_strategy = 2.1 m and a list of possible velocities, including:\n",
    "- given draught, corresponding payload,\n",
    "- maximum sinkage at each v_strategy\n",
    "- remained_distance between ship bottom to safety margin while sailing at each given v_strategy"
   ]
  },
  {
   "cell_type": "code",
   "execution_count": 18,
   "metadata": {},
   "outputs": [
    {
     "data": {
      "text/html": [
       "<div>\n",
       "<style scoped>\n",
       "    .dataframe tbody tr th:only-of-type {\n",
       "        vertical-align: middle;\n",
       "    }\n",
       "\n",
       "    .dataframe tbody tr th {\n",
       "        vertical-align: top;\n",
       "    }\n",
       "\n",
       "    .dataframe thead th {\n",
       "        text-align: right;\n",
       "    }\n",
       "</style>\n",
       "<table border=\"1\" class=\"dataframe\">\n",
       "  <thead>\n",
       "    <tr style=\"text-align: right;\">\n",
       "      <th></th>\n",
       "    </tr>\n",
       "  </thead>\n",
       "  <tbody>\n",
       "  </tbody>\n",
       "</table>\n",
       "</div>"
      ],
      "text/plain": [
       "Empty DataFrame\n",
       "Columns: []\n",
       "Index: []"
      ]
     },
     "metadata": {},
     "output_type": "display_data"
    },
    {
     "name": "stdout",
     "output_type": "stream",
     "text": [
      "ERROR! Session/line number was not unique in database. History logging moved to new session 1451\n"
     ]
    }
   ],
   "source": [
    "Strategies_n10_df = pd.DataFrame(Strategies_n10)\n",
    "with pd.option_context('display.float_format', '{:.4f}'.format):\n",
    "    display(Strategies_n10_df)"
   ]
  },
  {
   "cell_type": "markdown",
   "metadata": {},
   "source": [
    "### Based on the overall and detailed strategies analysis above, next we simulate the energy consumption and sailing duration for the selected strategies\n",
    "\n",
    "- 1st we simulate for passing the bottleneck section (h_min = 2.5 m) with overall strategies (all the T_strategies with v_max_final) \n",
    "- 2nd we simulate for passing the bottleneck section (h_min = 2.5 m) with selected strategies\n",
    "- 3rd we simulate for passing the whloe sections: (h_0: 6 m, 2.5 m, 6 m) with selected strategies\n",
    "  - the selected strategies are: \n",
    "    - T_strategy = 2.1 m\n",
    "    - v_strategy = [3, 3.5] m/s;   \n",
    "    Note that for (h_0: 6 m, 4 m, 6 m) and (h_0: 6 m, 6 m, 6 m) examples, v_strategy = [3, 3.5, 4] m/s"
   ]
  },
  {
   "cell_type": "markdown",
   "metadata": {},
   "source": [
    "### Define \"T_v_strategy_energy_simulation\" for passing bottleneck section (h_min = 2.5 m)"
   ]
  },
  {
   "cell_type": "code",
   "execution_count": 19,
   "metadata": {},
   "outputs": [],
   "source": [
    "def T_v_strategy_energy_simulation(v_strategy, T_strategy):\n",
    "    \n",
    "    # Start simpy environment\n",
    "    simulation_start = datetime.datetime.now()\n",
    "    env = simpy.Environment(initial_time = time.mktime(simulation_start.timetuple()))\n",
    "    env.epoch = time.mktime(simulation_start.timetuple())\n",
    "\n",
    "    # Add graph to environment\n",
    "    env.FG = FG\n",
    "\n",
    "    # Add environment and path to the vessel\n",
    "    # create a fresh instance of vessel\n",
    "    vessel = TransportResource(**data_vessel)\n",
    "    vessel.env = env                                        #the created environment\n",
    "    vessel.name = 'Vessel No.1'                     \n",
    "    vessel.route = path               #the route (the sequence of nodes, as stored as the second column in the path)\n",
    "    vessel.geometry = env.FG.nodes[path[0]]['geometry']     #a shapely.geometry.Point(lon,lat) (here taken as the starting node of the vessel)\n",
    "    vessel._T = T_strategy\n",
    "    vessel.v = v_strategy\n",
    "    depths = []\n",
    "    for e in zip(vessel.route[:-1], vessel.route[1:]):\n",
    "        edge = env.FG.edges[e]\n",
    "        depth = edge['Info']['GeneralDepth']\n",
    "        depths.append(depth)\n",
    "    # h_0 = min(depths)\n",
    "    for depth in depths:\n",
    "            h_0 = depth\n",
    "            h_0 = vessel.calculate_h_squat(v = v_strategy, h_0 = h_0)\n",
    "            print(h_0)\n",
    "\n",
    "    # Start the simulation\n",
    "    env.process(vessel.move())\n",
    "    env.run()\n",
    "    # print(depths)\n",
    "    # print(h_0)\n",
    "    return vessel"
   ]
  },
  {
   "cell_type": "markdown",
   "metadata": {},
   "source": [
    "### Run \"T_v_strategy_energy_simulation\" for passing bottleneck section with overall strategies (all the T_strategies with v_max_final)"
   ]
  },
  {
   "cell_type": "code",
   "execution_count": 20,
   "metadata": {
    "tags": []
   },
   "outputs": [],
   "source": [
    "# remove the row of \"v_max_final = 0\" from the input data, \n",
    "# otherwise, the \"T_v_strategy_energy_simulation\" function doesn't work\n",
    "Strategies_overall_df = Strategies_df[1:25] \n",
    "#Strategies_overall_df"
   ]
  },
  {
   "cell_type": "code",
   "execution_count": 21,
   "metadata": {
    "tags": []
   },
   "outputs": [
    {
     "name": "stderr",
     "output_type": "stream",
     "text": [
      "0it [00:00, ?it/s]\n"
     ]
    }
   ],
   "source": [
    "df_overall_collect = {}\n",
    "#sinkage_max = {}\n",
    "\n",
    "\n",
    "for i, row in tqdm.tqdm(Strategies_overall_df.iterrows()):\n",
    "    # create a new vessel, like the one above (so that it also has L)   \n",
    "    \n",
    "    v_max_final = row['v_max_final (m/s)']\n",
    "    T_strategy = row['T_strategy']\n",
    "    \n",
    "    data_vessel_i = data_vessel.copy()\n",
    "    vessel = TransportResource(**data_vessel_i)\n",
    "    vessel = T_v_strategy_energy_simulation(v_max_final, T_strategy)\n",
    "\n",
    "    #create an EnergyCalculation object and perform energy consumption calculation\n",
    "    energycalculation = opentnsim.energy.EnergyCalculation(FG, vessel)\n",
    "    energycalculation.calculate_energy_consumption()\n",
    "    #P_tot = vessel.calculate_total_power_required(v_computed)\n",
    "    \n",
    "    # create dataframe from energy calculation computation\n",
    "    \n",
    "    df = pd.DataFrame.from_dict(energycalculation.energy_use)\n",
    "    df.update(row)\n",
    "    \n",
    "    # add/modify some comlums to suit our plotting needs\n",
    "    # df['P_tot'] = P_tot\n",
    "    df['fuel_kg_bottleneck'] = df['total_fuel_consumption']/1000   # g --> kg\n",
    "    df['CO2_kg_bottleneck']   = df['total_emission_CO2']/1000\n",
    "    df['PM10_kg_bottleneck']  = df['total_emission_PM10']/1000\n",
    "    df['NOx_kg_bottleneck']   = df['total_emission_NOX']/1000\n",
    "    df['duration_hrs_bottleneck'] = df['delta_t'] /3600  # s--> hour\n",
    "    # df['sinkage_max_m_bottleneck'] = sinkage_max\n",
    "    # df['Payload_strategy_ton_bottleneck'] = Payload_strategy\n",
    "    \n",
    "    \n",
    "    label = 'T_strategy = ' + str(T_strategy) + ' v_max_final = ' + str(round(v_max_final,2))\n",
    "    \n",
    "    df_overall_collect[label + ' P_tot']   = list(df.P_tot[[0]])\n",
    "    df_overall_collect[label + ' P_installed'] = list(df.P_installed[[0]])\n",
    "    df_overall_collect[label + ' duration_hrs_bottleneck']   = list(df.duration_hrs_bottleneck[[0]])\n",
    "    df_overall_collect[label + ' fuel_kg_bottleneck']   = list(df.fuel_kg_bottleneck[[0]])\n",
    "    df_overall_collect[label + ' CO2_kg_bottleneck'] = list(df.CO2_kg_bottleneck[[0]])\n",
    "    df_overall_collect[label + ' PM10_kg_bottleneck']   = list(df.PM10_kg_bottleneck[[0]])\n",
    "    df_overall_collect[label + ' NOx_kg_bottleneck']   = list(df.NOx_kg_bottleneck[[0]])\n",
    "    \n"
   ]
  },
  {
   "cell_type": "code",
   "execution_count": 22,
   "metadata": {
    "tags": []
   },
   "outputs": [
    {
     "data": {
      "text/plain": [
       "{}"
      ]
     },
     "execution_count": 22,
     "metadata": {},
     "output_type": "execute_result"
    }
   ],
   "source": [
    "df_overall_collect"
   ]
  },
  {
   "cell_type": "code",
   "execution_count": 23,
   "metadata": {
    "tags": []
   },
   "outputs": [
    {
     "data": {
      "text/html": [
       "<div>\n",
       "<style scoped>\n",
       "    .dataframe tbody tr th:only-of-type {\n",
       "        vertical-align: middle;\n",
       "    }\n",
       "\n",
       "    .dataframe tbody tr th {\n",
       "        vertical-align: top;\n",
       "    }\n",
       "\n",
       "    .dataframe thead th {\n",
       "        text-align: right;\n",
       "    }\n",
       "</style>\n",
       "<table border=\"1\" class=\"dataframe\">\n",
       "  <thead>\n",
       "    <tr style=\"text-align: right;\">\n",
       "      <th></th>\n",
       "    </tr>\n",
       "  </thead>\n",
       "  <tbody>\n",
       "  </tbody>\n",
       "</table>\n",
       "</div>"
      ],
      "text/plain": [
       "Empty DataFrame\n",
       "Columns: []\n",
       "Index: []"
      ]
     },
     "execution_count": 23,
     "metadata": {},
     "output_type": "execute_result"
    }
   ],
   "source": [
    "df_overall_plot = pd.DataFrame( df_overall_collect )\n",
    "df_overall_plot"
   ]
  },
  {
   "cell_type": "code",
   "execution_count": null,
   "metadata": {
    "jupyter": {
     "source_hidden": true
    },
    "tags": []
   },
   "outputs": [
    {
     "name": "stderr",
     "output_type": "stream",
     "text": [
      "ERROR:root:Internal Python error in the inspect module.\n",
      "Below is the traceback from this internal error.\n",
      "\n"
     ]
    },
    {
     "name": "stdout",
     "output_type": "stream",
     "text": [
      "Traceback (most recent call last):\n"
     ]
    },
    {
     "name": "stderr",
     "output_type": "stream",
     "text": [
      "ERROR:root:Internal Python error in the inspect module.\n",
      "Below is the traceback from this internal error.\n",
      "\n",
      "ERROR:root:Internal Python error in the inspect module.\n",
      "Below is the traceback from this internal error.\n",
      "\n"
     ]
    },
    {
     "name": "stdout",
     "output_type": "stream",
     "text": [
      "KeyError: \"None of [Index(['T_strategy = 2.19 v_max_final = 1.43 fuel_kg_bottleneck',\\n       'T_strategy = 2.18 v_max_final = 2.0 fuel_kg_bottleneck',\\n       'T_strategy = 2.17 v_max_final = 2.44 fuel_kg_bottleneck',\\n       'T_strategy = 2.16 v_max_final = 2.8 fuel_kg_bottleneck',\\n       'T_strategy = 2.15 v_max_final = 3.13 fuel_kg_bottleneck',\\n       'T_strategy = 2.14 v_max_final = 3.42 fuel_kg_bottleneck',\\n       'T_strategy = 2.13 v_max_final = 3.69 fuel_kg_bottleneck',\\n       'T_strategy = 2.12 v_max_final = 3.91 fuel_kg_bottleneck',\\n       'T_strategy = 2.11 v_max_final = 3.91 fuel_kg_bottleneck',\\n       'T_strategy = 2.1 v_max_final = 3.91 fuel_kg_bottleneck',\\n       'T_strategy = 2.05 v_max_final = 3.91 fuel_kg_bottleneck',\\n       'T_strategy = 2.0 v_max_final = 3.91 fuel_kg_bottleneck',\\n       'T_strategy = 1.95 v_max_final = 3.91 fuel_kg_bottleneck',\\n       'T_strategy = 1.9 v_max_final = 3.91 fuel_kg_bottleneck',\\n       'T_strategy = 1.85 v_max_final = 3.9 fuel_kg_bottleneck',\\n       'T_strategy = 1.8 v_max_final = 3.9 fuel_kg_bottleneck',\\n       'T_strategy = 1.75 v_max_final = 3.89 fuel_kg_bottleneck',\\n       'T_strategy = 1.7 v_max_final = 3.89 fuel_kg_bottleneck',\\n       'T_strategy = 1.65 v_max_final = 3.88 fuel_kg_bottleneck',\\n       'T_strategy = 1.6 v_max_final = 3.87 fuel_kg_bottleneck',\\n       'T_strategy = 1.55 v_max_final = 3.86 fuel_kg_bottleneck',\\n       'T_strategy = 1.5 v_max_final = 3.84 fuel_kg_bottleneck',\\n       'T_strategy = 1.45 v_max_final = 3.8 fuel_kg_bottleneck',\\n       'T_strategy = 1.4 v_max_final = 4.04 fuel_kg_bottleneck'],\\n      dtype='object')] are in the [columns]\"\n",
      "\n",
      "During handling of the above exception, another exception occurred:\n",
      "\n",
      "Traceback (most recent call last):\n",
      "AttributeError: 'KeyError' object has no attribute '_render_traceback_'\n",
      "\n",
      "During handling of the above exception, another exception occurred:\n",
      "\n",
      "Traceback (most recent call last):\n",
      "AssertionError\n",
      "Traceback (most recent call last):\n",
      "KeyError: \"None of [Index(['T_strategy = 2.19 v_max_final = 1.43 fuel_kg_bottleneck',\\n       'T_strategy = 2.18 v_max_final = 2.0 fuel_kg_bottleneck',\\n       'T_strategy = 2.17 v_max_final = 2.44 fuel_kg_bottleneck',\\n       'T_strategy = 2.16 v_max_final = 2.8 fuel_kg_bottleneck',\\n       'T_strategy = 2.15 v_max_final = 3.13 fuel_kg_bottleneck',\\n       'T_strategy = 2.14 v_max_final = 3.42 fuel_kg_bottleneck',\\n       'T_strategy = 2.13 v_max_final = 3.69 fuel_kg_bottleneck',\\n       'T_strategy = 2.12 v_max_final = 3.91 fuel_kg_bottleneck',\\n       'T_strategy = 2.11 v_max_final = 3.91 fuel_kg_bottleneck',\\n       'T_strategy = 2.1 v_max_final = 3.91 fuel_kg_bottleneck',\\n       'T_strategy = 2.05 v_max_final = 3.91 fuel_kg_bottleneck',\\n       'T_strategy = 2.0 v_max_final = 3.91 fuel_kg_bottleneck',\\n       'T_strategy = 1.95 v_max_final = 3.91 fuel_kg_bottleneck',\\n       'T_strategy = 1.9 v_max_final = 3.91 fuel_kg_bottleneck',\\n       'T_strategy = 1.85 v_max_final = 3.9 fuel_kg_bottleneck',\\n       'T_strategy = 1.8 v_max_final = 3.9 fuel_kg_bottleneck',\\n       'T_strategy = 1.75 v_max_final = 3.89 fuel_kg_bottleneck',\\n       'T_strategy = 1.7 v_max_final = 3.89 fuel_kg_bottleneck',\\n       'T_strategy = 1.65 v_max_final = 3.88 fuel_kg_bottleneck',\\n       'T_strategy = 1.6 v_max_final = 3.87 fuel_kg_bottleneck',\\n       'T_strategy = 1.55 v_max_final = 3.86 fuel_kg_bottleneck',\\n       'T_strategy = 1.5 v_max_final = 3.84 fuel_kg_bottleneck',\\n       'T_strategy = 1.45 v_max_final = 3.8 fuel_kg_bottleneck',\\n       'T_strategy = 1.4 v_max_final = 4.04 fuel_kg_bottleneck'],\\n      dtype='object')] are in the [columns]\"\n",
      "\n",
      "During handling of the above exception, another exception occurred:\n",
      "\n",
      "Traceback (most recent call last):\n",
      "AttributeError: 'KeyError' object has no attribute '_render_traceback_'\n",
      "\n",
      "During handling of the above exception, another exception occurred:\n",
      "\n",
      "Traceback (most recent call last):\n",
      "TypeError: object of type 'NoneType' has no len()\n",
      "\n",
      "During handling of the above exception, another exception occurred:\n",
      "\n",
      "Traceback (most recent call last):\n",
      "AttributeError: 'TypeError' object has no attribute '_render_traceback_'\n",
      "\n",
      "During handling of the above exception, another exception occurred:\n",
      "\n",
      "Traceback (most recent call last):\n",
      "AssertionError\n",
      "Traceback (most recent call last):\n",
      "KeyError: \"None of [Index(['T_strategy = 2.19 v_max_final = 1.43 fuel_kg_bottleneck',\\n       'T_strategy = 2.18 v_max_final = 2.0 fuel_kg_bottleneck',\\n       'T_strategy = 2.17 v_max_final = 2.44 fuel_kg_bottleneck',\\n       'T_strategy = 2.16 v_max_final = 2.8 fuel_kg_bottleneck',\\n       'T_strategy = 2.15 v_max_final = 3.13 fuel_kg_bottleneck',\\n       'T_strategy = 2.14 v_max_final = 3.42 fuel_kg_bottleneck',\\n       'T_strategy = 2.13 v_max_final = 3.69 fuel_kg_bottleneck',\\n       'T_strategy = 2.12 v_max_final = 3.91 fuel_kg_bottleneck',\\n       'T_strategy = 2.11 v_max_final = 3.91 fuel_kg_bottleneck',\\n       'T_strategy = 2.1 v_max_final = 3.91 fuel_kg_bottleneck',\\n       'T_strategy = 2.05 v_max_final = 3.91 fuel_kg_bottleneck',\\n       'T_strategy = 2.0 v_max_final = 3.91 fuel_kg_bottleneck',\\n       'T_strategy = 1.95 v_max_final = 3.91 fuel_kg_bottleneck',\\n       'T_strategy = 1.9 v_max_final = 3.91 fuel_kg_bottleneck',\\n       'T_strategy = 1.85 v_max_final = 3.9 fuel_kg_bottleneck',\\n       'T_strategy = 1.8 v_max_final = 3.9 fuel_kg_bottleneck',\\n       'T_strategy = 1.75 v_max_final = 3.89 fuel_kg_bottleneck',\\n       'T_strategy = 1.7 v_max_final = 3.89 fuel_kg_bottleneck',\\n       'T_strategy = 1.65 v_max_final = 3.88 fuel_kg_bottleneck',\\n       'T_strategy = 1.6 v_max_final = 3.87 fuel_kg_bottleneck',\\n       'T_strategy = 1.55 v_max_final = 3.86 fuel_kg_bottleneck',\\n       'T_strategy = 1.5 v_max_final = 3.84 fuel_kg_bottleneck',\\n       'T_strategy = 1.45 v_max_final = 3.8 fuel_kg_bottleneck',\\n       'T_strategy = 1.4 v_max_final = 4.04 fuel_kg_bottleneck'],\\n      dtype='object')] are in the [columns]\"\n",
      "\n",
      "During handling of the above exception, another exception occurred:\n",
      "\n",
      "Traceback (most recent call last):\n",
      "AttributeError: 'KeyError' object has no attribute '_render_traceback_'\n",
      "\n",
      "During handling of the above exception, another exception occurred:\n",
      "\n",
      "Traceback (most recent call last):\n",
      "TypeError: object of type 'NoneType' has no len()\n",
      "\n",
      "During handling of the above exception, another exception occurred:\n",
      "\n",
      "Traceback (most recent call last):\n",
      "AttributeError: 'TypeError' object has no attribute '_render_traceback_'\n",
      "\n",
      "During handling of the above exception, another exception occurred:\n",
      "\n",
      "Traceback (most recent call last):\n",
      "TypeError: object of type 'NoneType' has no len()\n",
      "\n",
      "During handling of the above exception, another exception occurred:\n",
      "\n",
      "Traceback (most recent call last):\n",
      "AttributeError: 'TypeError' object has no attribute '_render_traceback_'\n",
      "\n",
      "During handling of the above exception, another exception occurred:\n",
      "\n",
      "Traceback (most recent call last):\n",
      "AssertionError\n"
     ]
    }
   ],
   "source": [
    "fuel=df_overall_plot[['T_strategy = 2.19 v_max_final = 1.43 fuel_kg_bottleneck',\n",
    "              'T_strategy = 2.18 v_max_final = 2.0 fuel_kg_bottleneck',\n",
    "              'T_strategy = 2.17 v_max_final = 2.44 fuel_kg_bottleneck', \n",
    "              'T_strategy = 2.16 v_max_final = 2.8 fuel_kg_bottleneck',\n",
    "              'T_strategy = 2.15 v_max_final = 3.13 fuel_kg_bottleneck',\n",
    "              'T_strategy = 2.14 v_max_final = 3.42 fuel_kg_bottleneck',\n",
    "              'T_strategy = 2.13 v_max_final = 3.69 fuel_kg_bottleneck',\n",
    "              'T_strategy = 2.12 v_max_final = 3.91 fuel_kg_bottleneck',\n",
    "              'T_strategy = 2.11 v_max_final = 3.91 fuel_kg_bottleneck',\n",
    "              'T_strategy = 2.1 v_max_final = 3.91 fuel_kg_bottleneck',\n",
    "              'T_strategy = 2.05 v_max_final = 3.91 fuel_kg_bottleneck',\n",
    "              'T_strategy = 2.0 v_max_final = 3.91 fuel_kg_bottleneck',\n",
    "              'T_strategy = 1.95 v_max_final = 3.91 fuel_kg_bottleneck',\n",
    "              'T_strategy = 1.9 v_max_final = 3.91 fuel_kg_bottleneck',                      \n",
    "              'T_strategy = 1.85 v_max_final = 3.9 fuel_kg_bottleneck',\n",
    "              'T_strategy = 1.8 v_max_final = 3.9 fuel_kg_bottleneck',\n",
    "              'T_strategy = 1.75 v_max_final = 3.89 fuel_kg_bottleneck',\n",
    "              'T_strategy = 1.7 v_max_final = 3.89 fuel_kg_bottleneck',\n",
    "              'T_strategy = 1.65 v_max_final = 3.88 fuel_kg_bottleneck',   \n",
    "              'T_strategy = 1.6 v_max_final = 3.87 fuel_kg_bottleneck',\n",
    "              'T_strategy = 1.55 v_max_final = 3.86 fuel_kg_bottleneck',\n",
    "              'T_strategy = 1.5 v_max_final = 3.84 fuel_kg_bottleneck',\n",
    "              'T_strategy = 1.45 v_max_final = 3.8 fuel_kg_bottleneck',\n",
    "              'T_strategy = 1.4 v_max_final = 4.04 fuel_kg_bottleneck',                       \n",
    "               ]].T\n",
    "\n",
    "fuel.index=[\n",
    "            'strategy 1 \\n T$_s$=2.19 m \\n V$_s$=2.0 m/s', \n",
    "            'strategy 2 \\n T$_s$=2.18 m \\n V$_s$=2.44 m/s',\n",
    "            'strategy 3 \\n T$_s$=2.17 m \\n V$_s$=2.8 m/s',\n",
    "            'strategy 4 \\n T$_s$=2.16 m \\n V$_s$=3.13 m/s',\n",
    "            'strategy 5 \\n T$_s$=2.15 m \\n V$_s$=3.42 m/s',\n",
    "            'strategy 6 \\n T$_s$=2.14 m \\n V$_s$=3.69 m/s',\n",
    "            'strategy 7 \\n T$_s$=2.13 m \\n V$_s$=3.91 m/s',\n",
    "            'strategy 8 \\n T$_s$=2.12 m \\n V$_s$=3.91 m/s',\n",
    "            'strategy 9 \\n T$_s$=2.11 m \\n V$_s$=3.91 m/s',\n",
    "            'strategy 10 \\n T$_s$=2.10 m \\n V$_s$=3.91 m/s',\n",
    "            'strategy 11 \\n T$_s$=2.05 m \\n V$_s$=3.91 m/s',\n",
    "            'strategy 12 \\n T$_s$=2.00 m \\n V$_s$=3.91 m/s',\n",
    "            'strategy 13 \\n T$_s$=1.95 m \\n V$_s$=3.91 m/s',           \n",
    "            'strategy 14 \\n T$_s$=1.90 m \\n V$_s$=3.91 m/s',\n",
    "            'strategy 15 \\n T$_s$=1.85 m \\n V$_s$=3.9 m/s',\n",
    "            'strategy 16 \\n T$_s$=1.80 m \\n V$_s$=3.9 m/s',\n",
    "            'strategy 17 \\n T$_s$=1.75 m \\n V$_s$=3.89 m/s',\n",
    "            'strategy 18 \\n T$_s$=1.70 m \\n V$_s$=3.89 m/s',\n",
    "            'strategy 19 \\n T$_s$=1.65 m \\n V$_s$=3.88 m/s',           \n",
    "            'strategy 20 \\n T$_s$=1.60 m \\n V$_s$=3.87 m/s',\n",
    "            'strategy 21 \\n T$_s$=1.55 m \\n V$_s$=3.86 m/s',\n",
    "            'strategy 22 \\n T$_s$=1.50 m \\n V$_s$=3.84 m/s',\n",
    "            'strategy 23 \\n T$_s$=1.45 m \\n V$_s$=3.8 m/s',\n",
    "            'strategy 24 \\n T$_s$=1.40 m \\n V$_s$=4.04 m/s',                      \n",
    "           ]\n",
    "\n",
    "fuel.columns =['section 2 (bottleneck)']\n",
    "fuel.head(24)"
   ]
  },
  {
   "cell_type": "code",
   "execution_count": null,
   "metadata": {
    "tags": []
   },
   "outputs": [
    {
     "name": "stderr",
     "output_type": "stream",
     "text": [
      "ERROR:root:Internal Python error in the inspect module.\n",
      "Below is the traceback from this internal error.\n",
      "\n",
      "ERROR:root:Internal Python error in the inspect module.\n",
      "Below is the traceback from this internal error.\n",
      "\n",
      "ERROR:root:Internal Python error in the inspect module.\n",
      "Below is the traceback from this internal error.\n",
      "\n"
     ]
    },
    {
     "name": "stdout",
     "output_type": "stream",
     "text": [
      "Traceback (most recent call last):\n",
      "NameError: name 'fuel' is not defined\n",
      "\n",
      "During handling of the above exception, another exception occurred:\n",
      "\n",
      "Traceback (most recent call last):\n",
      "AttributeError: 'NameError' object has no attribute '_render_traceback_'\n",
      "\n",
      "During handling of the above exception, another exception occurred:\n",
      "\n",
      "Traceback (most recent call last):\n",
      "AssertionError\n",
      "ERROR! Session/line number was not unique in database. History logging moved to new session 1452\n",
      "Traceback (most recent call last):\n",
      "NameError: name 'fuel' is not defined\n",
      "\n",
      "During handling of the above exception, another exception occurred:\n",
      "\n",
      "Traceback (most recent call last):\n",
      "AttributeError: 'NameError' object has no attribute '_render_traceback_'\n",
      "\n",
      "During handling of the above exception, another exception occurred:\n",
      "\n",
      "Traceback (most recent call last):\n",
      "TypeError: object of type 'NoneType' has no len()\n",
      "\n",
      "During handling of the above exception, another exception occurred:\n",
      "\n",
      "Traceback (most recent call last):\n",
      "AttributeError: 'TypeError' object has no attribute '_render_traceback_'\n",
      "\n",
      "During handling of the above exception, another exception occurred:\n",
      "\n",
      "Traceback (most recent call last):\n",
      "AssertionError\n",
      "Traceback (most recent call last):\n",
      "NameError: name 'fuel' is not defined\n",
      "\n",
      "During handling of the above exception, another exception occurred:\n",
      "\n",
      "Traceback (most recent call last):\n",
      "AttributeError: 'NameError' object has no attribute '_render_traceback_'\n",
      "\n",
      "During handling of the above exception, another exception occurred:\n",
      "\n",
      "Traceback (most recent call last):\n",
      "TypeError: object of type 'NoneType' has no len()\n",
      "\n",
      "During handling of the above exception, another exception occurred:\n",
      "\n",
      "Traceback (most recent call last):\n",
      "AttributeError: 'TypeError' object has no attribute '_render_traceback_'\n",
      "\n",
      "During handling of the above exception, another exception occurred:\n",
      "\n",
      "Traceback (most recent call last):\n",
      "TypeError: object of type 'NoneType' has no len()\n",
      "\n",
      "During handling of the above exception, another exception occurred:\n",
      "\n",
      "Traceback (most recent call last):\n",
      "AttributeError: 'TypeError' object has no attribute '_render_traceback_'\n",
      "\n",
      "During handling of the above exception, another exception occurred:\n",
      "\n",
      "Traceback (most recent call last):\n",
      "AssertionError\n"
     ]
    }
   ],
   "source": [
    "fuel_colors=['#bf9005']\n",
    "fuel.plot(kind='bar',stacked=True,color=fuel_colors,rot=0, figsize=(28, 5))"
   ]
  },
  {
   "cell_type": "code",
   "execution_count": null,
   "metadata": {
    "jupyter": {
     "source_hidden": true
    },
    "tags": []
   },
   "outputs": [
    {
     "name": "stderr",
     "output_type": "stream",
     "text": [
      "ERROR:root:Internal Python error in the inspect module.\n",
      "Below is the traceback from this internal error.\n",
      "\n",
      "ERROR:root:Internal Python error in the inspect module.\n",
      "Below is the traceback from this internal error.\n",
      "\n"
     ]
    },
    {
     "name": "stdout",
     "output_type": "stream",
     "text": [
      "Traceback (most recent call last):\n",
      "KeyError: \"None of [Index(['T_strategy = 2.19 v_max_final = 1.43 CO2_kg_bottleneck',\\n       'T_strategy = 2.18 v_max_final = 2.0 CO2_kg_bottleneck',\\n       'T_strategy = 2.17 v_max_final = 2.44 CO2_kg_bottleneck',\\n       'T_strategy = 2.16 v_max_final = 2.8 CO2_kg_bottleneck',\\n       'T_strategy = 2.15 v_max_final = 3.13 CO2_kg_bottleneck',\\n       'T_strategy = 2.14 v_max_final = 3.42 CO2_kg_bottleneck',\\n       'T_strategy = 2.13 v_max_final = 3.69 CO2_kg_bottleneck',\\n       'T_strategy = 2.12 v_max_final = 3.91 CO2_kg_bottleneck',\\n       'T_strategy = 2.11 v_max_final = 3.91 CO2_kg_bottleneck',\\n       'T_strategy = 2.1 v_max_final = 3.91 CO2_kg_bottleneck',\\n       'T_strategy = 2.05 v_max_final = 3.91 CO2_kg_bottleneck',\\n       'T_strategy = 2.0 v_max_final = 3.91 CO2_kg_bottleneck',\\n       'T_strategy = 1.95 v_max_final = 3.91 CO2_kg_bottleneck',\\n       'T_strategy = 1.9 v_max_final = 3.91 CO2_kg_bottleneck',\\n       'T_strategy = 1.85 v_max_final = 3.9 CO2_kg_bottleneck',\\n       'T_strategy = 1.8 v_max_final = 3.9 CO2_kg_bottleneck',\\n       'T_strategy = 1.75 v_max_final = 3.89 CO2_kg_bottleneck',\\n       'T_strategy = 1.7 v_max_final = 3.89 CO2_kg_bottleneck',\\n       'T_strategy = 1.65 v_max_final = 3.88 CO2_kg_bottleneck',\\n       'T_strategy = 1.6 v_max_final = 3.87 CO2_kg_bottleneck',\\n       'T_strategy = 1.55 v_max_final = 3.86 CO2_kg_bottleneck',\\n       'T_strategy = 1.5 v_max_final = 3.84 CO2_kg_bottleneck',\\n       'T_strategy = 1.45 v_max_final = 3.8 CO2_kg_bottleneck',\\n       'T_strategy = 1.4 v_max_final = 4.04 CO2_kg_bottleneck'],\\n      dtype='object')] are in the [columns]\"\n",
      "\n",
      "During handling of the above exception, another exception occurred:\n",
      "\n",
      "Traceback (most recent call last):\n",
      "AttributeError: 'KeyError' object has no attribute '_render_traceback_'\n",
      "\n",
      "During handling of the above exception, another exception occurred:\n",
      "\n",
      "Traceback (most recent call last):\n",
      "AssertionError\n",
      "ERROR! Session/line number was not unique in database. History logging moved to new session 1453\n",
      "Traceback (most recent call last):\n",
      "KeyError: \"None of [Index(['T_strategy = 2.19 v_max_final = 1.43 CO2_kg_bottleneck',\\n       'T_strategy = 2.18 v_max_final = 2.0 CO2_kg_bottleneck',\\n       'T_strategy = 2.17 v_max_final = 2.44 CO2_kg_bottleneck',\\n       'T_strategy = 2.16 v_max_final = 2.8 CO2_kg_bottleneck',\\n       'T_strategy = 2.15 v_max_final = 3.13 CO2_kg_bottleneck',\\n       'T_strategy = 2.14 v_max_final = 3.42 CO2_kg_bottleneck',\\n       'T_strategy = 2.13 v_max_final = 3.69 CO2_kg_bottleneck',\\n       'T_strategy = 2.12 v_max_final = 3.91 CO2_kg_bottleneck',\\n       'T_strategy = 2.11 v_max_final = 3.91 CO2_kg_bottleneck',\\n       'T_strategy = 2.1 v_max_final = 3.91 CO2_kg_bottleneck',\\n       'T_strategy = 2.05 v_max_final = 3.91 CO2_kg_bottleneck',\\n       'T_strategy = 2.0 v_max_final = 3.91 CO2_kg_bottleneck',\\n       'T_strategy = 1.95 v_max_final = 3.91 CO2_kg_bottleneck',\\n       'T_strategy = 1.9 v_max_final = 3.91 CO2_kg_bottleneck',\\n       'T_strategy = 1.85 v_max_final = 3.9 CO2_kg_bottleneck',\\n       'T_strategy = 1.8 v_max_final = 3.9 CO2_kg_bottleneck',\\n       'T_strategy = 1.75 v_max_final = 3.89 CO2_kg_bottleneck',\\n       'T_strategy = 1.7 v_max_final = 3.89 CO2_kg_bottleneck',\\n       'T_strategy = 1.65 v_max_final = 3.88 CO2_kg_bottleneck',\\n       'T_strategy = 1.6 v_max_final = 3.87 CO2_kg_bottleneck',\\n       'T_strategy = 1.55 v_max_final = 3.86 CO2_kg_bottleneck',\\n       'T_strategy = 1.5 v_max_final = 3.84 CO2_kg_bottleneck',\\n       'T_strategy = 1.45 v_max_final = 3.8 CO2_kg_bottleneck',\\n       'T_strategy = 1.4 v_max_final = 4.04 CO2_kg_bottleneck'],\\n      dtype='object')] are in the [columns]\"\n",
      "\n",
      "During handling of the above exception, another exception occurred:\n",
      "\n",
      "Traceback (most recent call last):\n",
      "AttributeError: 'KeyError' object has no attribute '_render_traceback_'\n",
      "\n",
      "During handling of the above exception, another exception occurred:\n",
      "\n",
      "Traceback (most recent call last):\n",
      "TypeError: object of type 'NoneType' has no len()\n",
      "\n",
      "During handling of the above exception, another exception occurred:\n",
      "\n",
      "Traceback (most recent call last):\n",
      "AttributeError: 'TypeError' object has no attribute '_render_traceback_'\n",
      "\n",
      "During handling of the above exception, another exception occurred:\n",
      "\n",
      "Traceback (most recent call last):\n",
      "AssertionError\n"
     ]
    },
    {
     "name": "stderr",
     "output_type": "stream",
     "text": [
      "ERROR:root:Internal Python error in the inspect module.\n",
      "Below is the traceback from this internal error.\n",
      "\n"
     ]
    },
    {
     "name": "stdout",
     "output_type": "stream",
     "text": [
      "Traceback (most recent call last):\n",
      "KeyError: \"None of [Index(['T_strategy = 2.19 v_max_final = 1.43 CO2_kg_bottleneck',\\n       'T_strategy = 2.18 v_max_final = 2.0 CO2_kg_bottleneck',\\n       'T_strategy = 2.17 v_max_final = 2.44 CO2_kg_bottleneck',\\n       'T_strategy = 2.16 v_max_final = 2.8 CO2_kg_bottleneck',\\n       'T_strategy = 2.15 v_max_final = 3.13 CO2_kg_bottleneck',\\n       'T_strategy = 2.14 v_max_final = 3.42 CO2_kg_bottleneck',\\n       'T_strategy = 2.13 v_max_final = 3.69 CO2_kg_bottleneck',\\n       'T_strategy = 2.12 v_max_final = 3.91 CO2_kg_bottleneck',\\n       'T_strategy = 2.11 v_max_final = 3.91 CO2_kg_bottleneck',\\n       'T_strategy = 2.1 v_max_final = 3.91 CO2_kg_bottleneck',\\n       'T_strategy = 2.05 v_max_final = 3.91 CO2_kg_bottleneck',\\n       'T_strategy = 2.0 v_max_final = 3.91 CO2_kg_bottleneck',\\n       'T_strategy = 1.95 v_max_final = 3.91 CO2_kg_bottleneck',\\n       'T_strategy = 1.9 v_max_final = 3.91 CO2_kg_bottleneck',\\n       'T_strategy = 1.85 v_max_final = 3.9 CO2_kg_bottleneck',\\n       'T_strategy = 1.8 v_max_final = 3.9 CO2_kg_bottleneck',\\n       'T_strategy = 1.75 v_max_final = 3.89 CO2_kg_bottleneck',\\n       'T_strategy = 1.7 v_max_final = 3.89 CO2_kg_bottleneck',\\n       'T_strategy = 1.65 v_max_final = 3.88 CO2_kg_bottleneck',\\n       'T_strategy = 1.6 v_max_final = 3.87 CO2_kg_bottleneck',\\n       'T_strategy = 1.55 v_max_final = 3.86 CO2_kg_bottleneck',\\n       'T_strategy = 1.5 v_max_final = 3.84 CO2_kg_bottleneck',\\n       'T_strategy = 1.45 v_max_final = 3.8 CO2_kg_bottleneck',\\n       'T_strategy = 1.4 v_max_final = 4.04 CO2_kg_bottleneck'],\\n      dtype='object')] are in the [columns]\"\n",
      "\n",
      "During handling of the above exception, another exception occurred:\n",
      "\n",
      "Traceback (most recent call last):\n",
      "AttributeError: 'KeyError' object has no attribute '_render_traceback_'\n",
      "\n",
      "During handling of the above exception, another exception occurred:\n",
      "\n",
      "Traceback (most recent call last):\n",
      "TypeError: object of type 'NoneType' has no len()\n",
      "\n",
      "During handling of the above exception, another exception occurred:\n",
      "\n",
      "Traceback (most recent call last):\n",
      "AttributeError: 'TypeError' object has no attribute '_render_traceback_'\n",
      "\n",
      "During handling of the above exception, another exception occurred:\n",
      "\n",
      "Traceback (most recent call last):\n",
      "TypeError: object of type 'NoneType' has no len()\n",
      "\n",
      "During handling of the above exception, another exception occurred:\n",
      "\n",
      "Traceback (most recent call last):\n",
      "AttributeError: 'TypeError' object has no attribute '_render_traceback_'\n",
      "\n",
      "During handling of the above exception, another exception occurred:\n",
      "\n",
      "Traceback (most recent call last):\n",
      "AssertionError\n"
     ]
    }
   ],
   "source": [
    "CO2=df_overall_plot[[ \n",
    "              'T_strategy = 2.19 v_max_final = 1.43 CO2_kg_bottleneck',\n",
    "              'T_strategy = 2.18 v_max_final = 2.0 CO2_kg_bottleneck',\n",
    "              'T_strategy = 2.17 v_max_final = 2.44 CO2_kg_bottleneck', \n",
    "              'T_strategy = 2.16 v_max_final = 2.8 CO2_kg_bottleneck',\n",
    "              'T_strategy = 2.15 v_max_final = 3.13 CO2_kg_bottleneck',\n",
    "              'T_strategy = 2.14 v_max_final = 3.42 CO2_kg_bottleneck',\n",
    "              'T_strategy = 2.13 v_max_final = 3.69 CO2_kg_bottleneck',\n",
    "              'T_strategy = 2.12 v_max_final = 3.91 CO2_kg_bottleneck',\n",
    "              'T_strategy = 2.11 v_max_final = 3.91 CO2_kg_bottleneck',\n",
    "              'T_strategy = 2.1 v_max_final = 3.91 CO2_kg_bottleneck',\n",
    "              'T_strategy = 2.05 v_max_final = 3.91 CO2_kg_bottleneck',\n",
    "              'T_strategy = 2.0 v_max_final = 3.91 CO2_kg_bottleneck',\n",
    "              'T_strategy = 1.95 v_max_final = 3.91 CO2_kg_bottleneck',\n",
    "              'T_strategy = 1.9 v_max_final = 3.91 CO2_kg_bottleneck',                      \n",
    "              'T_strategy = 1.85 v_max_final = 3.9 CO2_kg_bottleneck',\n",
    "              'T_strategy = 1.8 v_max_final = 3.9 CO2_kg_bottleneck',\n",
    "              'T_strategy = 1.75 v_max_final = 3.89 CO2_kg_bottleneck',\n",
    "              'T_strategy = 1.7 v_max_final = 3.89 CO2_kg_bottleneck',\n",
    "              'T_strategy = 1.65 v_max_final = 3.88 CO2_kg_bottleneck',   \n",
    "              'T_strategy = 1.6 v_max_final = 3.87 CO2_kg_bottleneck',\n",
    "              'T_strategy = 1.55 v_max_final = 3.86 CO2_kg_bottleneck',\n",
    "              'T_strategy = 1.5 v_max_final = 3.84 CO2_kg_bottleneck',\n",
    "              'T_strategy = 1.45 v_max_final = 3.8 CO2_kg_bottleneck',\n",
    "              'T_strategy = 1.4 v_max_final = 4.04 CO2_kg_bottleneck',                                               \n",
    "                    ]].T\n",
    "\n",
    "CO2.index=[ \n",
    "            'strategy 1 \\n T$_s$=2.19 m \\n V$_s$=2.0 m/s', \n",
    "            'strategy 2 \\n T$_s$=2.18 m \\n V$_s$=2.44 m/s',\n",
    "            'strategy 3 \\n T$_s$=2.17 m \\n V$_s$=2.8 m/s',\n",
    "            'strategy 4 \\n T$_s$=2.16 m \\n V$_s$=3.13 m/s',\n",
    "            'strategy 5 \\n T$_s$=2.15 m \\n V$_s$=3.42 m/s',\n",
    "            'strategy 6 \\n T$_s$=2.14 m \\n V$_s$=3.69 m/s',\n",
    "            'strategy 7 \\n T$_s$=2.13 m \\n V$_s$=3.91 m/s',\n",
    "            'strategy 8 \\n T$_s$=2.12 m \\n V$_s$=3.91 m/s',\n",
    "            'strategy 9 \\n T$_s$=2.11 m \\n V$_s$=3.91 m/s',\n",
    "            'strategy 10 \\n T$_s$=2.10 m \\n V$_s$=3.91 m/s',\n",
    "            'strategy 11 \\n T$_s$=2.05 m \\n V$_s$=3.91 m/s',\n",
    "            'strategy 12 \\n T$_s$=2.00 m \\n V$_s$=3.91 m/s',\n",
    "            'strategy 13 \\n T$_s$=1.95 m \\n V$_s$=3.91 m/s',           \n",
    "            'strategy 14 \\n T$_s$=1.90 m \\n V$_s$=3.91 m/s',\n",
    "            'strategy 15 \\n T$_s$=1.85 m \\n V$_s$=3.9 m/s',\n",
    "            'strategy 16 \\n T$_s$=1.80 m \\n V$_s$=3.9 m/s',\n",
    "            'strategy 17 \\n T$_s$=1.75 m \\n V$_s$=3.89 m/s',\n",
    "            'strategy 18 \\n T$_s$=1.70 m \\n V$_s$=3.89 m/s',\n",
    "            'strategy 19 \\n T$_s$=1.65 m \\n V$_s$=3.88 m/s',           \n",
    "            'strategy 20 \\n T$_s$=1.60 m \\n V$_s$=3.87 m/s',\n",
    "            'strategy 21 \\n T$_s$=1.55 m \\n V$_s$=3.86 m/s',\n",
    "            'strategy 22 \\n T$_s$=1.50 m \\n V$_s$=3.84 m/s',\n",
    "            'strategy 23 \\n T$_s$=1.45 m \\n V$_s$=3.8 m/s',\n",
    "            'strategy 24 \\n T$_s$=1.40 m \\n V$_s$=4.04 m/s',      \n",
    "            ]\n",
    "\n",
    "CO2.columns =['section 2 (bottleneck)']\n",
    "CO2.head(24)"
   ]
  },
  {
   "cell_type": "code",
   "execution_count": null,
   "metadata": {
    "tags": []
   },
   "outputs": [
    {
     "name": "stderr",
     "output_type": "stream",
     "text": [
      "ERROR:root:Internal Python error in the inspect module.\n",
      "Below is the traceback from this internal error.\n",
      "\n",
      "ERROR:root:Internal Python error in the inspect module.\n",
      "Below is the traceback from this internal error.\n",
      "\n",
      "ERROR:root:Internal Python error in the inspect module.\n",
      "Below is the traceback from this internal error.\n",
      "\n"
     ]
    },
    {
     "name": "stdout",
     "output_type": "stream",
     "text": [
      "ERROR! Session/line number was not unique in database. History logging moved to new session 1454Traceback (most recent call last):\n",
      "\n",
      "NameError: name 'CO2' is not defined\n",
      "\n",
      "During handling of the above exception, another exception occurred:\n",
      "\n",
      "Traceback (most recent call last):\n",
      "AttributeError: 'NameError' object has no attribute '_render_traceback_'\n",
      "\n",
      "During handling of the above exception, another exception occurred:\n",
      "\n",
      "Traceback (most recent call last):\n",
      "AssertionError\n",
      "Traceback (most recent call last):\n",
      "NameError: name 'CO2' is not defined\n",
      "\n",
      "During handling of the above exception, another exception occurred:\n",
      "\n",
      "Traceback (most recent call last):\n",
      "AttributeError: 'NameError' object has no attribute '_render_traceback_'\n",
      "\n",
      "During handling of the above exception, another exception occurred:\n",
      "\n",
      "Traceback (most recent call last):\n",
      "TypeError: object of type 'NoneType' has no len()\n",
      "\n",
      "During handling of the above exception, another exception occurred:\n",
      "\n",
      "Traceback (most recent call last):\n",
      "AttributeError: 'TypeError' object has no attribute '_render_traceback_'\n",
      "\n",
      "During handling of the above exception, another exception occurred:\n",
      "\n",
      "Traceback (most recent call last):\n",
      "AssertionError\n",
      "Traceback (most recent call last):\n",
      "NameError: name 'CO2' is not defined\n",
      "\n",
      "During handling of the above exception, another exception occurred:\n",
      "\n",
      "Traceback (most recent call last):\n",
      "AttributeError: 'NameError' object has no attribute '_render_traceback_'\n",
      "\n",
      "During handling of the above exception, another exception occurred:\n",
      "\n",
      "Traceback (most recent call last):\n",
      "TypeError: object of type 'NoneType' has no len()\n",
      "\n",
      "During handling of the above exception, another exception occurred:\n",
      "\n",
      "Traceback (most recent call last):\n",
      "AttributeError: 'TypeError' object has no attribute '_render_traceback_'\n",
      "\n",
      "During handling of the above exception, another exception occurred:\n",
      "\n",
      "Traceback (most recent call last):\n",
      "TypeError: object of type 'NoneType' has no len()\n",
      "\n",
      "During handling of the above exception, another exception occurred:\n",
      "\n",
      "Traceback (most recent call last):\n",
      "AttributeError: 'TypeError' object has no attribute '_render_traceback_'\n",
      "\n",
      "During handling of the above exception, another exception occurred:\n",
      "\n",
      "Traceback (most recent call last):\n",
      "AssertionError\n"
     ]
    }
   ],
   "source": [
    "CO2_colors=['orange']\n",
    "CO2.plot(kind='bar', stacked=True,color=CO2_colors,rot=0, figsize=(28, 5))"
   ]
  },
  {
   "cell_type": "code",
   "execution_count": null,
   "metadata": {
    "jupyter": {
     "source_hidden": true
    },
    "tags": []
   },
   "outputs": [
    {
     "name": "stderr",
     "output_type": "stream",
     "text": [
      "ERROR:root:Internal Python error in the inspect module.\n",
      "Below is the traceback from this internal error.\n",
      "\n",
      "ERROR:root:Internal Python error in the inspect module.\n",
      "Below is the traceback from this internal error.\n",
      "\n",
      "ERROR:root:Internal Python error in the inspect module.\n",
      "Below is the traceback from this internal error.\n",
      "\n"
     ]
    },
    {
     "name": "stdout",
     "output_type": "stream",
     "text": [
      "Traceback (most recent call last):\n",
      "KeyError: \"None of [Index(['T_strategy = 2.19 v_max_final = 1.43 PM10_kg_bottleneck',\\n       'T_strategy = 2.18 v_max_final = 2.0 PM10_kg_bottleneck',\\n       'T_strategy = 2.17 v_max_final = 2.44 PM10_kg_bottleneck',\\n       'T_strategy = 2.16 v_max_final = 2.8 PM10_kg_bottleneck',\\n       'T_strategy = 2.15 v_max_final = 3.13 PM10_kg_bottleneck',\\n       'T_strategy = 2.14 v_max_final = 3.42 PM10_kg_bottleneck',\\n       'T_strategy = 2.13 v_max_final = 3.69 PM10_kg_bottleneck',\\n       'T_strategy = 2.12 v_max_final = 3.91 PM10_kg_bottleneck',\\n       'T_strategy = 2.11 v_max_final = 3.91 PM10_kg_bottleneck',\\n       'T_strategy = 2.1 v_max_final = 3.91 PM10_kg_bottleneck',\\n       'T_strategy = 2.05 v_max_final = 3.91 PM10_kg_bottleneck',\\n       'T_strategy = 2.0 v_max_final = 3.91 PM10_kg_bottleneck',\\n       'T_strategy = 1.95 v_max_final = 3.91 PM10_kg_bottleneck',\\n       'T_strategy = 1.9 v_max_final = 3.91 PM10_kg_bottleneck',\\n       'T_strategy = 1.85 v_max_final = 3.9 PM10_kg_bottleneck',\\n       'T_strategy = 1.8 v_max_final = 3.9 PM10_kg_bottleneck',\\n       'T_strategy = 1.75 v_max_final = 3.89 PM10_kg_bottleneck',\\n       'T_strategy = 1.7 v_max_final = 3.89 PM10_kg_bottleneck',\\n       'T_strategy = 1.65 v_max_final = 3.88 PM10_kg_bottleneck',\\n       'T_strategy = 1.6 v_max_final = 3.87 PM10_kg_bottleneck',\\n       'T_strategy = 1.55 v_max_final = 3.86 PM10_kg_bottleneck',\\n       'T_strategy = 1.5 v_max_final = 3.84 PM10_kg_bottleneck',\\n       'T_strategy = 1.45 v_max_final = 3.8 PM10_kg_bottleneck',\\n       'T_strategy = 1.4 v_max_final = 4.04 PM10_kg_bottleneck'],\\n      dtype='object')] are in the [columns]\"\n",
      "\n",
      "During handling of the above exception, another exception occurred:\n",
      "\n",
      "Traceback (most recent call last):\n",
      "AttributeError: 'KeyError' object has no attribute '_render_traceback_'\n",
      "\n",
      "During handling of the above exception, another exception occurred:\n",
      "\n",
      "Traceback (most recent call last):\n",
      "AssertionError\n",
      "ERROR! Session/line number was not unique in database. History logging moved to new session 1455\n",
      "Traceback (most recent call last):\n",
      "KeyError: \"None of [Index(['T_strategy = 2.19 v_max_final = 1.43 PM10_kg_bottleneck',\\n       'T_strategy = 2.18 v_max_final = 2.0 PM10_kg_bottleneck',\\n       'T_strategy = 2.17 v_max_final = 2.44 PM10_kg_bottleneck',\\n       'T_strategy = 2.16 v_max_final = 2.8 PM10_kg_bottleneck',\\n       'T_strategy = 2.15 v_max_final = 3.13 PM10_kg_bottleneck',\\n       'T_strategy = 2.14 v_max_final = 3.42 PM10_kg_bottleneck',\\n       'T_strategy = 2.13 v_max_final = 3.69 PM10_kg_bottleneck',\\n       'T_strategy = 2.12 v_max_final = 3.91 PM10_kg_bottleneck',\\n       'T_strategy = 2.11 v_max_final = 3.91 PM10_kg_bottleneck',\\n       'T_strategy = 2.1 v_max_final = 3.91 PM10_kg_bottleneck',\\n       'T_strategy = 2.05 v_max_final = 3.91 PM10_kg_bottleneck',\\n       'T_strategy = 2.0 v_max_final = 3.91 PM10_kg_bottleneck',\\n       'T_strategy = 1.95 v_max_final = 3.91 PM10_kg_bottleneck',\\n       'T_strategy = 1.9 v_max_final = 3.91 PM10_kg_bottleneck',\\n       'T_strategy = 1.85 v_max_final = 3.9 PM10_kg_bottleneck',\\n       'T_strategy = 1.8 v_max_final = 3.9 PM10_kg_bottleneck',\\n       'T_strategy = 1.75 v_max_final = 3.89 PM10_kg_bottleneck',\\n       'T_strategy = 1.7 v_max_final = 3.89 PM10_kg_bottleneck',\\n       'T_strategy = 1.65 v_max_final = 3.88 PM10_kg_bottleneck',\\n       'T_strategy = 1.6 v_max_final = 3.87 PM10_kg_bottleneck',\\n       'T_strategy = 1.55 v_max_final = 3.86 PM10_kg_bottleneck',\\n       'T_strategy = 1.5 v_max_final = 3.84 PM10_kg_bottleneck',\\n       'T_strategy = 1.45 v_max_final = 3.8 PM10_kg_bottleneck',\\n       'T_strategy = 1.4 v_max_final = 4.04 PM10_kg_bottleneck'],\\n      dtype='object')] are in the [columns]\"\n",
      "\n",
      "During handling of the above exception, another exception occurred:\n",
      "\n",
      "Traceback (most recent call last):\n",
      "AttributeError: 'KeyError' object has no attribute '_render_traceback_'\n",
      "\n",
      "During handling of the above exception, another exception occurred:\n",
      "\n",
      "Traceback (most recent call last):\n",
      "TypeError: object of type 'NoneType' has no len()\n",
      "\n",
      "During handling of the above exception, another exception occurred:\n",
      "\n",
      "Traceback (most recent call last):\n",
      "AttributeError: 'TypeError' object has no attribute '_render_traceback_'\n",
      "\n",
      "During handling of the above exception, another exception occurred:\n",
      "\n",
      "Traceback (most recent call last):\n",
      "AssertionError\n",
      "Traceback (most recent call last):\n",
      "KeyError: \"None of [Index(['T_strategy = 2.19 v_max_final = 1.43 PM10_kg_bottleneck',\\n       'T_strategy = 2.18 v_max_final = 2.0 PM10_kg_bottleneck',\\n       'T_strategy = 2.17 v_max_final = 2.44 PM10_kg_bottleneck',\\n       'T_strategy = 2.16 v_max_final = 2.8 PM10_kg_bottleneck',\\n       'T_strategy = 2.15 v_max_final = 3.13 PM10_kg_bottleneck',\\n       'T_strategy = 2.14 v_max_final = 3.42 PM10_kg_bottleneck',\\n       'T_strategy = 2.13 v_max_final = 3.69 PM10_kg_bottleneck',\\n       'T_strategy = 2.12 v_max_final = 3.91 PM10_kg_bottleneck',\\n       'T_strategy = 2.11 v_max_final = 3.91 PM10_kg_bottleneck',\\n       'T_strategy = 2.1 v_max_final = 3.91 PM10_kg_bottleneck',\\n       'T_strategy = 2.05 v_max_final = 3.91 PM10_kg_bottleneck',\\n       'T_strategy = 2.0 v_max_final = 3.91 PM10_kg_bottleneck',\\n       'T_strategy = 1.95 v_max_final = 3.91 PM10_kg_bottleneck',\\n       'T_strategy = 1.9 v_max_final = 3.91 PM10_kg_bottleneck',\\n       'T_strategy = 1.85 v_max_final = 3.9 PM10_kg_bottleneck',\\n       'T_strategy = 1.8 v_max_final = 3.9 PM10_kg_bottleneck',\\n       'T_strategy = 1.75 v_max_final = 3.89 PM10_kg_bottleneck',\\n       'T_strategy = 1.7 v_max_final = 3.89 PM10_kg_bottleneck',\\n       'T_strategy = 1.65 v_max_final = 3.88 PM10_kg_bottleneck',\\n       'T_strategy = 1.6 v_max_final = 3.87 PM10_kg_bottleneck',\\n       'T_strategy = 1.55 v_max_final = 3.86 PM10_kg_bottleneck',\\n       'T_strategy = 1.5 v_max_final = 3.84 PM10_kg_bottleneck',\\n       'T_strategy = 1.45 v_max_final = 3.8 PM10_kg_bottleneck',\\n       'T_strategy = 1.4 v_max_final = 4.04 PM10_kg_bottleneck'],\\n      dtype='object')] are in the [columns]\"\n",
      "\n",
      "During handling of the above exception, another exception occurred:\n",
      "\n",
      "Traceback (most recent call last):\n",
      "AttributeError: 'KeyError' object has no attribute '_render_traceback_'\n",
      "\n",
      "During handling of the above exception, another exception occurred:\n",
      "\n",
      "Traceback (most recent call last):\n",
      "TypeError: object of type 'NoneType' has no len()\n",
      "\n",
      "During handling of the above exception, another exception occurred:\n",
      "\n",
      "Traceback (most recent call last):\n",
      "AttributeError: 'TypeError' object has no attribute '_render_traceback_'\n",
      "\n",
      "During handling of the above exception, another exception occurred:\n",
      "\n",
      "Traceback (most recent call last):\n",
      "TypeError: object of type 'NoneType' has no len()\n",
      "\n",
      "During handling of the above exception, another exception occurred:\n",
      "\n",
      "Traceback (most recent call last):\n",
      "AttributeError: 'TypeError' object has no attribute '_render_traceback_'\n",
      "\n",
      "During handling of the above exception, another exception occurred:\n",
      "\n",
      "Traceback (most recent call last):\n",
      "AssertionError\n"
     ]
    }
   ],
   "source": [
    "PM10=df_overall_plot[[\n",
    "              'T_strategy = 2.19 v_max_final = 1.43 PM10_kg_bottleneck',\n",
    "              'T_strategy = 2.18 v_max_final = 2.0 PM10_kg_bottleneck',\n",
    "              'T_strategy = 2.17 v_max_final = 2.44 PM10_kg_bottleneck', \n",
    "              'T_strategy = 2.16 v_max_final = 2.8 PM10_kg_bottleneck',\n",
    "              'T_strategy = 2.15 v_max_final = 3.13 PM10_kg_bottleneck',\n",
    "              'T_strategy = 2.14 v_max_final = 3.42 PM10_kg_bottleneck',\n",
    "              'T_strategy = 2.13 v_max_final = 3.69 PM10_kg_bottleneck',\n",
    "              'T_strategy = 2.12 v_max_final = 3.91 PM10_kg_bottleneck',\n",
    "              'T_strategy = 2.11 v_max_final = 3.91 PM10_kg_bottleneck',\n",
    "              'T_strategy = 2.1 v_max_final = 3.91 PM10_kg_bottleneck',\n",
    "              'T_strategy = 2.05 v_max_final = 3.91 PM10_kg_bottleneck',\n",
    "              'T_strategy = 2.0 v_max_final = 3.91 PM10_kg_bottleneck',\n",
    "              'T_strategy = 1.95 v_max_final = 3.91 PM10_kg_bottleneck',\n",
    "              'T_strategy = 1.9 v_max_final = 3.91 PM10_kg_bottleneck',                      \n",
    "              'T_strategy = 1.85 v_max_final = 3.9 PM10_kg_bottleneck',\n",
    "              'T_strategy = 1.8 v_max_final = 3.9 PM10_kg_bottleneck',\n",
    "              'T_strategy = 1.75 v_max_final = 3.89 PM10_kg_bottleneck',\n",
    "              'T_strategy = 1.7 v_max_final = 3.89 PM10_kg_bottleneck',\n",
    "              'T_strategy = 1.65 v_max_final = 3.88 PM10_kg_bottleneck',   \n",
    "              'T_strategy = 1.6 v_max_final = 3.87 PM10_kg_bottleneck',\n",
    "              'T_strategy = 1.55 v_max_final = 3.86 PM10_kg_bottleneck',\n",
    "              'T_strategy = 1.5 v_max_final = 3.84 PM10_kg_bottleneck',\n",
    "              'T_strategy = 1.45 v_max_final = 3.8 PM10_kg_bottleneck',\n",
    "              'T_strategy = 1.4 v_max_final = 4.04 PM10_kg_bottleneck',               \n",
    "               ]].T\n",
    "\n",
    "PM10.index=[\n",
    "            'strategy 1 \\n T$_s$=2.19 m \\n V$_s$=2.0 m/s', \n",
    "            'strategy 2 \\n T$_s$=2.18 m \\n V$_s$=2.44 m/s',\n",
    "            'strategy 3 \\n T$_s$=2.17 m \\n V$_s$=2.8 m/s',\n",
    "            'strategy 4 \\n T$_s$=2.16 m \\n V$_s$=3.13 m/s',\n",
    "            'strategy 5 \\n T$_s$=2.15 m \\n V$_s$=3.42 m/s',\n",
    "            'strategy 6 \\n T$_s$=2.14 m \\n V$_s$=3.69 m/s',\n",
    "            'strategy 7 \\n T$_s$=2.13 m \\n V$_s$=3.91 m/s',\n",
    "            'strategy 8 \\n T$_s$=2.12 m \\n V$_s$=3.91 m/s',\n",
    "            'strategy 9 \\n T$_s$=2.11 m \\n V$_s$=3.91 m/s',\n",
    "            'strategy 10 \\n T$_s$=2.10 m \\n V$_s$=3.91 m/s',\n",
    "            'strategy 11 \\n T$_s$=2.05 m \\n V$_s$=3.91 m/s',\n",
    "            'strategy 12 \\n T$_s$=2.00 m \\n V$_s$=3.91 m/s',\n",
    "            'strategy 13 \\n T$_s$=1.95 m \\n V$_s$=3.91 m/s',           \n",
    "            'strategy 14 \\n T$_s$=1.90 m \\n V$_s$=3.91 m/s',\n",
    "            'strategy 15 \\n T$_s$=1.85 m \\n V$_s$=3.9 m/s',\n",
    "            'strategy 16 \\n T$_s$=1.80 m \\n V$_s$=3.9 m/s',\n",
    "            'strategy 17 \\n T$_s$=1.75 m \\n V$_s$=3.89 m/s',\n",
    "            'strategy 18 \\n T$_s$=1.70 m \\n V$_s$=3.89 m/s',\n",
    "            'strategy 19 \\n T$_s$=1.65 m \\n V$_s$=3.88 m/s',           \n",
    "            'strategy 20 \\n T$_s$=1.60 m \\n V$_s$=3.87 m/s',\n",
    "            'strategy 21 \\n T$_s$=1.55 m \\n V$_s$=3.86 m/s',\n",
    "            'strategy 22 \\n T$_s$=1.50 m \\n V$_s$=3.84 m/s',\n",
    "            'strategy 23 \\n T$_s$=1.45 m \\n V$_s$=3.8 m/s',\n",
    "            'strategy 24 \\n T$_s$=1.40 m \\n V$_s$=4.04 m/s', \n",
    "            ]\n",
    "\n",
    "PM10.columns =['section 2 (bottleneck)']\n",
    "PM10.head(24)"
   ]
  },
  {
   "cell_type": "code",
   "execution_count": null,
   "metadata": {
    "tags": []
   },
   "outputs": [
    {
     "name": "stderr",
     "output_type": "stream",
     "text": [
      "ERROR:root:Internal Python error in the inspect module.\n",
      "Below is the traceback from this internal error.\n",
      "\n"
     ]
    },
    {
     "name": "stdout",
     "output_type": "stream",
     "text": [
      "Traceback (most recent call last):\n",
      "NameError: name 'PM10' is not defined\n",
      "\n",
      "During handling of the above exception, another exception occurred:\n",
      "\n",
      "Traceback (most recent call last):\n",
      "AttributeError: 'NameError' object has no attribute '_render_traceback_'\n",
      "\n",
      "During handling of the above exception, another exception occurred:\n",
      "\n",
      "Traceback (most recent call last):\n",
      "AssertionError\n"
     ]
    },
    {
     "name": "stderr",
     "output_type": "stream",
     "text": [
      "ERROR:root:Internal Python error in the inspect module.\n",
      "Below is the traceback from this internal error.\n",
      "\n",
      "ERROR:root:Internal Python error in the inspect module.\n",
      "Below is the traceback from this internal error.\n",
      "\n"
     ]
    },
    {
     "name": "stdout",
     "output_type": "stream",
     "text": [
      "Traceback (most recent call last):\n",
      "NameError: name 'PM10' is not defined\n",
      "\n",
      "During handling of the above exception, another exception occurred:\n",
      "\n",
      "Traceback (most recent call last):\n",
      "AttributeError: 'NameError' object has no attribute '_render_traceback_'\n",
      "\n",
      "During handling of the above exception, another exception occurred:\n",
      "\n",
      "Traceback (most recent call last):\n",
      "TypeError: object of type 'NoneType' has no len()\n",
      "\n",
      "During handling of the above exception, another exception occurred:\n",
      "\n",
      "Traceback (most recent call last):\n",
      "AttributeError: 'TypeError' object has no attribute '_render_traceback_'\n",
      "\n",
      "During handling of the above exception, another exception occurred:\n",
      "\n",
      "Traceback (most recent call last):\n",
      "AssertionError\n",
      "Traceback (most recent call last):\n",
      "NameError: name 'PM10' is not defined\n",
      "\n",
      "During handling of the above exception, another exception occurred:\n",
      "\n",
      "Traceback (most recent call last):\n",
      "AttributeError: 'NameError' object has no attribute '_render_traceback_'\n",
      "\n",
      "During handling of the above exception, another exception occurred:\n",
      "\n",
      "Traceback (most recent call last):\n",
      "TypeError: object of type 'NoneType' has no len()\n",
      "\n",
      "During handling of the above exception, another exception occurred:\n",
      "\n",
      "Traceback (most recent call last):\n",
      "AttributeError: 'TypeError' object has no attribute '_render_traceback_'\n",
      "\n",
      "During handling of the above exception, another exception occurred:\n",
      "\n",
      "Traceback (most recent call last):\n",
      "TypeError: object of type 'NoneType' has no len()\n",
      "\n",
      "During handling of the above exception, another exception occurred:\n",
      "\n",
      "Traceback (most recent call last):\n",
      "AttributeError: 'TypeError' object has no attribute '_render_traceback_'\n",
      "\n",
      "During handling of the above exception, another exception occurred:\n",
      "\n",
      "Traceback (most recent call last):\n",
      "AssertionError\n"
     ]
    }
   ],
   "source": [
    "PM10_colors=['mediumseagreen']\n",
    "PM10.plot(kind='bar', stacked=True,color=PM10_colors,rot=0, figsize=(26, 5))"
   ]
  },
  {
   "cell_type": "code",
   "execution_count": null,
   "metadata": {
    "jupyter": {
     "source_hidden": true
    },
    "tags": []
   },
   "outputs": [
    {
     "name": "stdout",
     "output_type": "stream",
     "text": [
      "ERROR! Session/line number was not unique in"
     ]
    },
    {
     "name": "stderr",
     "output_type": "stream",
     "text": [
      "ERROR:root:Internal Python error in the inspect module.\n",
      "Below is the traceback from this internal error.\n",
      "\n",
      "ERROR:root:Internal Python error in the inspect module.\n",
      "Below is the traceback from this internal error.\n",
      "\n",
      "ERROR:root:Internal Python error in the inspect module.\n",
      "Below is the traceback from this internal error.\n",
      "\n"
     ]
    },
    {
     "name": "stdout",
     "output_type": "stream",
     "text": [
      " database. History logging moved to new session 1456\n",
      "Traceback (most recent call last):\n",
      "KeyError: \"None of [Index(['T_strategy = 2.19 v_max_final = 1.43 NOx_kg_bottleneck',\\n       'T_strategy = 2.18 v_max_final = 2.0 NOx_kg_bottleneck',\\n       'T_strategy = 2.17 v_max_final = 2.44 NOx_kg_bottleneck',\\n       'T_strategy = 2.16 v_max_final = 2.8 NOx_kg_bottleneck',\\n       'T_strategy = 2.15 v_max_final = 3.13 NOx_kg_bottleneck',\\n       'T_strategy = 2.14 v_max_final = 3.42 NOx_kg_bottleneck',\\n       'T_strategy = 2.13 v_max_final = 3.69 NOx_kg_bottleneck',\\n       'T_strategy = 2.12 v_max_final = 3.91 NOx_kg_bottleneck',\\n       'T_strategy = 2.11 v_max_final = 3.91 NOx_kg_bottleneck',\\n       'T_strategy = 2.1 v_max_final = 3.91 NOx_kg_bottleneck',\\n       'T_strategy = 2.05 v_max_final = 3.91 NOx_kg_bottleneck',\\n       'T_strategy = 2.0 v_max_final = 3.91 NOx_kg_bottleneck',\\n       'T_strategy = 1.95 v_max_final = 3.91 NOx_kg_bottleneck',\\n       'T_strategy = 1.9 v_max_final = 3.91 NOx_kg_bottleneck',\\n       'T_strategy = 1.85 v_max_final = 3.9 NOx_kg_bottleneck',\\n       'T_strategy = 1.8 v_max_final = 3.9 NOx_kg_bottleneck',\\n       'T_strategy = 1.75 v_max_final = 3.89 NOx_kg_bottleneck',\\n       'T_strategy = 1.7 v_max_final = 3.89 NOx_kg_bottleneck',\\n       'T_strategy = 1.65 v_max_final = 3.88 NOx_kg_bottleneck',\\n       'T_strategy = 1.6 v_max_final = 3.87 NOx_kg_bottleneck',\\n       'T_strategy = 1.55 v_max_final = 3.86 NOx_kg_bottleneck',\\n       'T_strategy = 1.5 v_max_final = 3.84 NOx_kg_bottleneck',\\n       'T_strategy = 1.45 v_max_final = 3.8 NOx_kg_bottleneck',\\n       'T_strategy = 1.4 v_max_final = 4.04 NOx_kg_bottleneck'],\\n      dtype='object')] are in the [columns]\"\n",
      "\n",
      "During handling of the above exception, another exception occurred:\n",
      "\n",
      "Traceback (most recent call last):\n",
      "AttributeError: 'KeyError' object has no attribute '_render_traceback_'\n",
      "\n",
      "During handling of the above exception, another exception occurred:\n",
      "\n",
      "Traceback (most recent call last):\n",
      "AssertionError\n",
      "Traceback (most recent call last):\n",
      "KeyError: \"None of [Index(['T_strategy = 2.19 v_max_final = 1.43 NOx_kg_bottleneck',\\n       'T_strategy = 2.18 v_max_final = 2.0 NOx_kg_bottleneck',\\n       'T_strategy = 2.17 v_max_final = 2.44 NOx_kg_bottleneck',\\n       'T_strategy = 2.16 v_max_final = 2.8 NOx_kg_bottleneck',\\n       'T_strategy = 2.15 v_max_final = 3.13 NOx_kg_bottleneck',\\n       'T_strategy = 2.14 v_max_final = 3.42 NOx_kg_bottleneck',\\n       'T_strategy = 2.13 v_max_final = 3.69 NOx_kg_bottleneck',\\n       'T_strategy = 2.12 v_max_final = 3.91 NOx_kg_bottleneck',\\n       'T_strategy = 2.11 v_max_final = 3.91 NOx_kg_bottleneck',\\n       'T_strategy = 2.1 v_max_final = 3.91 NOx_kg_bottleneck',\\n       'T_strategy = 2.05 v_max_final = 3.91 NOx_kg_bottleneck',\\n       'T_strategy = 2.0 v_max_final = 3.91 NOx_kg_bottleneck',\\n       'T_strategy = 1.95 v_max_final = 3.91 NOx_kg_bottleneck',\\n       'T_strategy = 1.9 v_max_final = 3.91 NOx_kg_bottleneck',\\n       'T_strategy = 1.85 v_max_final = 3.9 NOx_kg_bottleneck',\\n       'T_strategy = 1.8 v_max_final = 3.9 NOx_kg_bottleneck',\\n       'T_strategy = 1.75 v_max_final = 3.89 NOx_kg_bottleneck',\\n       'T_strategy = 1.7 v_max_final = 3.89 NOx_kg_bottleneck',\\n       'T_strategy = 1.65 v_max_final = 3.88 NOx_kg_bottleneck',\\n       'T_strategy = 1.6 v_max_final = 3.87 NOx_kg_bottleneck',\\n       'T_strategy = 1.55 v_max_final = 3.86 NOx_kg_bottleneck',\\n       'T_strategy = 1.5 v_max_final = 3.84 NOx_kg_bottleneck',\\n       'T_strategy = 1.45 v_max_final = 3.8 NOx_kg_bottleneck',\\n       'T_strategy = 1.4 v_max_final = 4.04 NOx_kg_bottleneck'],\\n      dtype='object')] are in the [columns]\"\n",
      "\n",
      "During handling of the above exception, another exception occurred:\n",
      "\n",
      "Traceback (most recent call last):\n",
      "AttributeError: 'KeyError' object has no attribute '_render_traceback_'\n",
      "\n",
      "During handling of the above exception, another exception occurred:\n",
      "\n",
      "Traceback (most recent call last):\n",
      "TypeError: object of type 'NoneType' has no len()\n",
      "\n",
      "During handling of the above exception, another exception occurred:\n",
      "\n",
      "Traceback (most recent call last):\n",
      "AttributeError: 'TypeError' object has no attribute '_render_traceback_'\n",
      "\n",
      "During handling of the above exception, another exception occurred:\n",
      "\n",
      "Traceback (most recent call last):\n",
      "AssertionError\n",
      "Traceback (most recent call last):\n",
      "KeyError: \"None of [Index(['T_strategy = 2.19 v_max_final = 1.43 NOx_kg_bottleneck',\\n       'T_strategy = 2.18 v_max_final = 2.0 NOx_kg_bottleneck',\\n       'T_strategy = 2.17 v_max_final = 2.44 NOx_kg_bottleneck',\\n       'T_strategy = 2.16 v_max_final = 2.8 NOx_kg_bottleneck',\\n       'T_strategy = 2.15 v_max_final = 3.13 NOx_kg_bottleneck',\\n       'T_strategy = 2.14 v_max_final = 3.42 NOx_kg_bottleneck',\\n       'T_strategy = 2.13 v_max_final = 3.69 NOx_kg_bottleneck',\\n       'T_strategy = 2.12 v_max_final = 3.91 NOx_kg_bottleneck',\\n       'T_strategy = 2.11 v_max_final = 3.91 NOx_kg_bottleneck',\\n       'T_strategy = 2.1 v_max_final = 3.91 NOx_kg_bottleneck',\\n       'T_strategy = 2.05 v_max_final = 3.91 NOx_kg_bottleneck',\\n       'T_strategy = 2.0 v_max_final = 3.91 NOx_kg_bottleneck',\\n       'T_strategy = 1.95 v_max_final = 3.91 NOx_kg_bottleneck',\\n       'T_strategy = 1.9 v_max_final = 3.91 NOx_kg_bottleneck',\\n       'T_strategy = 1.85 v_max_final = 3.9 NOx_kg_bottleneck',\\n       'T_strategy = 1.8 v_max_final = 3.9 NOx_kg_bottleneck',\\n       'T_strategy = 1.75 v_max_final = 3.89 NOx_kg_bottleneck',\\n       'T_strategy = 1.7 v_max_final = 3.89 NOx_kg_bottleneck',\\n       'T_strategy = 1.65 v_max_final = 3.88 NOx_kg_bottleneck',\\n       'T_strategy = 1.6 v_max_final = 3.87 NOx_kg_bottleneck',\\n       'T_strategy = 1.55 v_max_final = 3.86 NOx_kg_bottleneck',\\n       'T_strategy = 1.5 v_max_final = 3.84 NOx_kg_bottleneck',\\n       'T_strategy = 1.45 v_max_final = 3.8 NOx_kg_bottleneck',\\n       'T_strategy = 1.4 v_max_final = 4.04 NOx_kg_bottleneck'],\\n      dtype='object')] are in the [columns]\"\n",
      "\n",
      "During handling of the above exception, another exception occurred:\n",
      "\n",
      "Traceback (most recent call last):\n",
      "AttributeError: 'KeyError' object has no attribute '_render_traceback_'\n",
      "\n",
      "During handling of the above exception, another exception occurred:\n",
      "\n",
      "Traceback (most recent call last):\n",
      "TypeError: object of type 'NoneType' has no len()\n",
      "\n",
      "During handling of the above exception, another exception occurred:\n",
      "\n",
      "Traceback (most recent call last):\n",
      "AttributeError: 'TypeError' object has no attribute '_render_traceback_'\n",
      "\n",
      "During handling of the above exception, another exception occurred:\n",
      "\n",
      "Traceback (most recent call last):\n",
      "TypeError: object of type 'NoneType' has no len()\n",
      "\n",
      "During handling of the above exception, another exception occurred:\n",
      "\n",
      "Traceback (most recent call last):\n",
      "AttributeError: 'TypeError' object has no attribute '_render_traceback_'\n",
      "\n",
      "During handling of the above exception, another exception occurred:\n",
      "\n",
      "Traceback (most recent call last):\n",
      "AssertionError\n"
     ]
    }
   ],
   "source": [
    "NOx=df_overall_plot[[\n",
    "              'T_strategy = 2.19 v_max_final = 1.43 NOx_kg_bottleneck',\n",
    "              'T_strategy = 2.18 v_max_final = 2.0 NOx_kg_bottleneck',\n",
    "              'T_strategy = 2.17 v_max_final = 2.44 NOx_kg_bottleneck', \n",
    "              'T_strategy = 2.16 v_max_final = 2.8 NOx_kg_bottleneck',\n",
    "              'T_strategy = 2.15 v_max_final = 3.13 NOx_kg_bottleneck',\n",
    "              'T_strategy = 2.14 v_max_final = 3.42 NOx_kg_bottleneck',\n",
    "              'T_strategy = 2.13 v_max_final = 3.69 NOx_kg_bottleneck',\n",
    "              'T_strategy = 2.12 v_max_final = 3.91 NOx_kg_bottleneck',\n",
    "              'T_strategy = 2.11 v_max_final = 3.91 NOx_kg_bottleneck',\n",
    "              'T_strategy = 2.1 v_max_final = 3.91 NOx_kg_bottleneck',\n",
    "              'T_strategy = 2.05 v_max_final = 3.91 NOx_kg_bottleneck',\n",
    "              'T_strategy = 2.0 v_max_final = 3.91 NOx_kg_bottleneck',\n",
    "              'T_strategy = 1.95 v_max_final = 3.91 NOx_kg_bottleneck',\n",
    "              'T_strategy = 1.9 v_max_final = 3.91 NOx_kg_bottleneck',                      \n",
    "              'T_strategy = 1.85 v_max_final = 3.9 NOx_kg_bottleneck',\n",
    "              'T_strategy = 1.8 v_max_final = 3.9 NOx_kg_bottleneck',\n",
    "              'T_strategy = 1.75 v_max_final = 3.89 NOx_kg_bottleneck',\n",
    "              'T_strategy = 1.7 v_max_final = 3.89 NOx_kg_bottleneck',\n",
    "              'T_strategy = 1.65 v_max_final = 3.88 NOx_kg_bottleneck',   \n",
    "              'T_strategy = 1.6 v_max_final = 3.87 NOx_kg_bottleneck',\n",
    "              'T_strategy = 1.55 v_max_final = 3.86 NOx_kg_bottleneck',\n",
    "              'T_strategy = 1.5 v_max_final = 3.84 NOx_kg_bottleneck',\n",
    "              'T_strategy = 1.45 v_max_final = 3.8 NOx_kg_bottleneck',\n",
    "              'T_strategy = 1.4 v_max_final = 4.04 NOx_kg_bottleneck',  \n",
    "                    ]].T\n",
    "\n",
    "NOx.index=[\n",
    "            'strategy 1 \\n T$_s$=2.19 m \\n V$_s$=2.0 m/s', \n",
    "            'strategy 2 \\n T$_s$=2.18 m \\n V$_s$=2.44 m/s',\n",
    "            'strategy 3 \\n T$_s$=2.17 m \\n V$_s$=2.8 m/s',\n",
    "            'strategy 4 \\n T$_s$=2.16 m \\n V$_s$=3.13 m/s',\n",
    "            'strategy 5 \\n T$_s$=2.15 m \\n V$_s$=3.42 m/s',\n",
    "            'strategy 6 \\n T$_s$=2.14 m \\n V$_s$=3.69 m/s',\n",
    "            'strategy 7 \\n T$_s$=2.13 m \\n V$_s$=3.91 m/s',\n",
    "            'strategy 8 \\n T$_s$=2.12 m \\n V$_s$=3.91 m/s',\n",
    "            'strategy 9 \\n T$_s$=2.11 m \\n V$_s$=3.91 m/s',\n",
    "            'strategy 10 \\n T$_s$=2.10 m \\n V$_s$=3.91 m/s',\n",
    "            'strategy 11 \\n T$_s$=2.05 m \\n V$_s$=3.91 m/s',\n",
    "            'strategy 12 \\n T$_s$=2.00 m \\n V$_s$=3.91 m/s',\n",
    "            'strategy 13 \\n T$_s$=1.95 m \\n V$_s$=3.91 m/s',           \n",
    "            'strategy 14 \\n T$_s$=1.90 m \\n V$_s$=3.91 m/s',\n",
    "            'strategy 15 \\n T$_s$=1.85 m \\n V$_s$=3.9 m/s',\n",
    "            'strategy 16 \\n T$_s$=1.80 m \\n V$_s$=3.9 m/s',\n",
    "            'strategy 17 \\n T$_s$=1.75 m \\n V$_s$=3.89 m/s',\n",
    "            'strategy 18 \\n T$_s$=1.70 m \\n V$_s$=3.89 m/s',\n",
    "            'strategy 19 \\n T$_s$=1.65 m \\n V$_s$=3.88 m/s',           \n",
    "            'strategy 20 \\n T$_s$=1.60 m \\n V$_s$=3.87 m/s',\n",
    "            'strategy 21 \\n T$_s$=1.55 m \\n V$_s$=3.86 m/s',\n",
    "            'strategy 22 \\n T$_s$=1.50 m \\n V$_s$=3.84 m/s',\n",
    "            'strategy 23 \\n T$_s$=1.45 m \\n V$_s$=3.8 m/s',\n",
    "            'strategy 24 \\n T$_s$=1.40 m \\n V$_s$=4.04 m/s',\n",
    "          ]\n",
    "\n",
    "NOx.columns =['section 2 (bottleneck)']\n",
    "NOx.head(24)"
   ]
  },
  {
   "cell_type": "code",
   "execution_count": null,
   "metadata": {
    "tags": []
   },
   "outputs": [
    {
     "name": "stderr",
     "output_type": "stream",
     "text": [
      "ERROR:root:Internal Python error in the inspect module.\n",
      "Below is the traceback from this internal error.\n",
      "\n",
      "ERROR:root:Internal Python error in the inspect module.\n",
      "Below is the traceback from this internal error.\n",
      "\n",
      "ERROR:root:Internal Python error in the inspect module.\n",
      "Below is the traceback from this internal error.\n",
      "\n"
     ]
    },
    {
     "name": "stdout",
     "output_type": "stream",
     "text": [
      "ERROR! Session/line number was not unique in database. History logging moved to new session 1457\n",
      "Traceback (most recent call last):\n",
      "NameError: name 'NOx' is not defined\n",
      "\n",
      "During handling of the above exception, another exception occurred:\n",
      "\n",
      "Traceback (most recent call last):\n",
      "AttributeError: 'NameError' object has no attribute '_render_traceback_'\n",
      "\n",
      "During handling of the above exception, another exception occurred:\n",
      "\n",
      "Traceback (most recent call last):\n",
      "AssertionError\n",
      "ERROR! Session/line number was not unique in database. History logging moved to new session 1458\n",
      "Traceback (most recent call last):\n",
      "NameError: name 'NOx' is not defined\n",
      "\n",
      "During handling of the above exception, another exception occurred:\n",
      "\n",
      "Traceback (most recent call last):\n",
      "AttributeError: 'NameError' object has no attribute '_render_traceback_'\n",
      "\n",
      "During handling of the above exception, another exception occurred:\n",
      "\n",
      "Traceback (most recent call last):\n",
      "TypeError: object of type 'NoneType' has no len()\n",
      "\n",
      "During handling of the above exception, another exception occurred:\n",
      "\n",
      "Traceback (most recent call last):\n",
      "AttributeError: 'TypeError' object has no attribute '_render_traceback_'\n",
      "\n",
      "During handling of the above exception, another exception occurred:\n",
      "\n",
      "Traceback (most recent call last):\n",
      "AssertionError\n",
      "Traceback (most recent call last):\n",
      "NameError: name 'NOx' is not defined\n",
      "\n",
      "During handling of the above exception, another exception occurred:\n",
      "\n",
      "Traceback (most recent call last):\n",
      "AttributeError: 'NameError' object has no attribute '_render_traceback_'\n",
      "\n",
      "During handling of the above exception, another exception occurred:\n",
      "\n",
      "Traceback (most recent call last):\n",
      "TypeError: object of type 'NoneType' has no len()\n",
      "\n",
      "During handling of the above exception, another exception occurred:\n",
      "\n",
      "Traceback (most recent call last):\n",
      "AttributeError: 'TypeError' object has no attribute '_render_traceback_'\n",
      "\n",
      "During handling of the above exception, another exception occurred:\n",
      "\n",
      "Traceback (most recent call last):\n",
      "TypeError: object of type 'NoneType' has no len()\n",
      "\n",
      "During handling of the above exception, another exception occurred:\n",
      "\n",
      "Traceback (most recent call last):\n",
      "AttributeError: 'TypeError' object has no attribute '_render_traceback_'\n",
      "\n",
      "During handling of the above exception, another exception occurred:\n",
      "\n",
      "Traceback (most recent call last):\n",
      "AssertionError\n"
     ]
    }
   ],
   "source": [
    "NOx_colors=['deeppink']\n",
    "NOx.plot(kind='bar', stacked=True,color=NOx_colors,rot=0, figsize=(26, 5))"
   ]
  },
  {
   "cell_type": "code",
   "execution_count": null,
   "metadata": {
    "jupyter": {
     "source_hidden": true
    },
    "tags": []
   },
   "outputs": [
    {
     "name": "stderr",
     "output_type": "stream",
     "text": [
      "ERROR:root:Internal Python error in the inspect module.\n",
      "Below is the traceback from this internal error.\n",
      "\n",
      "ERROR:root:Internal Python error in the inspect module.\n",
      "Below is the traceback from this internal error.\n",
      "\n",
      "ERROR:root:Internal Python error in the inspect module.\n",
      "Below is the traceback from this internal error.\n",
      "\n"
     ]
    },
    {
     "name": "stdout",
     "output_type": "stream",
     "text": [
      "ERROR! Session/line number was not unique in database. History logging moved to new session 1459\n",
      "Traceback (most recent call last):\n",
      "KeyError: 'Payload_strategy_tanker (ton)'\n",
      "\n",
      "The above exception was the direct cause of the following exception:\n",
      "\n",
      "Traceback (most recent call last):\n",
      "KeyError: 'Payload_strategy_tanker (ton)'\n",
      "\n",
      "During handling of the above exception, another exception occurred:\n",
      "\n",
      "Traceback (most recent call last):\n",
      "AttributeError: 'KeyError' object has no attribute '_render_traceback_'\n",
      "\n",
      "During handling of the above exception, another exception occurred:\n",
      "\n",
      "Traceback (most recent call last):\n",
      "AssertionError\n",
      "Traceback (most recent call last):\n",
      "KeyError: 'Payload_strategy_tanker (ton)'\n",
      "\n",
      "The above exception was the direct cause of the following exception:\n",
      "\n",
      "Traceback (most recent call last):\n",
      "KeyError: 'Payload_strategy_tanker (ton)'\n",
      "\n",
      "During handling of the above exception, another exception occurred:\n",
      "\n",
      "Traceback (most recent call last):\n",
      "AttributeError: 'KeyError' object has no attribute '_render_traceback_'\n",
      "\n",
      "During handling of the above exception, another exception occurred:\n",
      "\n",
      "Traceback (most recent call last):\n",
      "TypeError: object of type 'NoneType' has no len()\n",
      "\n",
      "During handling of the above exception, another exception occurred:\n",
      "\n",
      "Traceback (most recent call last):\n",
      "AttributeError: 'TypeError' object has no attribute '_render_traceback_'\n",
      "\n",
      "During handling of the above exception, another exception occurred:\n",
      "\n",
      "Traceback (most recent call last):\n",
      "AssertionError\n",
      "Traceback (most recent call last):\n",
      "KeyError: 'Payload_strategy_tanker (ton)'\n",
      "\n",
      "The above exception was the direct cause of the following exception:\n",
      "\n",
      "Traceback (most recent call last):\n",
      "KeyError: 'Payload_strategy_tanker (ton)'\n",
      "\n",
      "During handling of the above exception, another exception occurred:\n",
      "\n",
      "Traceback (most recent call last):\n",
      "AttributeError: 'KeyError' object has no attribute '_render_traceback_'\n",
      "\n",
      "During handling of the above exception, another exception occurred:\n",
      "\n",
      "Traceback (most recent call last):\n",
      "TypeError: object of type 'NoneType' has no len()\n",
      "\n",
      "During handling of the above exception, another exception occurred:\n",
      "\n",
      "Traceback (most recent call last):\n",
      "AttributeError: 'TypeError' object has no attribute '_render_traceback_'\n",
      "\n",
      "During handling of the above exception, another exception occurred:\n",
      "\n",
      "Traceback (most recent call last):\n",
      "TypeError: object of type 'NoneType' has no len()\n",
      "\n",
      "During handling of the above exception, another exception occurred:\n",
      "\n",
      "Traceback (most recent call last):\n",
      "AttributeError: 'TypeError' object has no attribute '_render_traceback_'\n",
      "\n",
      "During handling of the above exception, another exception occurred:\n",
      "\n",
      "Traceback (most recent call last):\n",
      "AssertionError\n"
     ]
    }
   ],
   "source": [
    "Payload = Strategies_df['Payload_strategy_tanker (ton)'][1:25]\n",
    "Payload = pd.DataFrame(Payload)\n",
    "\n",
    "Payload.index=[\n",
    "            'strategy 1 \\n T$_s$=2.19 m \\n V$_s$=2.0 m/s', \n",
    "            'strategy 2 \\n T$_s$=2.18 m \\n V$_s$=2.44 m/s',\n",
    "            'strategy 3 \\n T$_s$=2.17 m \\n V$_s$=2.8 m/s',\n",
    "            'strategy 4 \\n T$_s$=2.16 m \\n V$_s$=3.13 m/s',\n",
    "            'strategy 5 \\n T$_s$=2.15 m \\n V$_s$=3.42 m/s',\n",
    "            'strategy 6 \\n T$_s$=2.14 m \\n V$_s$=3.69 m/s',\n",
    "            'strategy 7 \\n T$_s$=2.13 m \\n V$_s$=3.91 m/s',\n",
    "            'strategy 8 \\n T$_s$=2.12 m \\n V$_s$=3.91 m/s',\n",
    "            'strategy 9 \\n T$_s$=2.11 m \\n V$_s$=3.91 m/s',\n",
    "            'strategy 10 \\n T$_s$=2.10 m \\n V$_s$=3.91 m/s',\n",
    "            'strategy 11 \\n T$_s$=2.05 m \\n V$_s$=3.91 m/s',\n",
    "            'strategy 12 \\n T$_s$=2.00 m \\n V$_s$=3.91 m/s',\n",
    "            'strategy 13 \\n T$_s$=1.95 m \\n V$_s$=3.91 m/s',           \n",
    "            'strategy 14 \\n T$_s$=1.90 m \\n V$_s$=3.91 m/s',\n",
    "            'strategy 15 \\n T$_s$=1.85 m \\n V$_s$=3.9 m/s',\n",
    "            'strategy 16 \\n T$_s$=1.80 m \\n V$_s$=3.9 m/s',\n",
    "            'strategy 17 \\n T$_s$=1.75 m \\n V$_s$=3.89 m/s',\n",
    "            'strategy 18 \\n T$_s$=1.70 m \\n V$_s$=3.89 m/s',\n",
    "            'strategy 19 \\n T$_s$=1.65 m \\n V$_s$=3.88 m/s',           \n",
    "            'strategy 20 \\n T$_s$=1.60 m \\n V$_s$=3.87 m/s',\n",
    "            'strategy 21 \\n T$_s$=1.55 m \\n V$_s$=3.86 m/s',\n",
    "            'strategy 22 \\n T$_s$=1.50 m \\n V$_s$=3.84 m/s',\n",
    "            'strategy 23 \\n T$_s$=1.45 m \\n V$_s$=3.8 m/s',\n",
    "            'strategy 24 \\n T$_s$=1.40 m \\n V$_s$=4.04 m/s',\n",
    "             ]\n",
    "\n",
    "Payload.columns =['section 2 (bottleneck)']\n",
    "Payload.head(24)"
   ]
  },
  {
   "cell_type": "code",
   "execution_count": null,
   "metadata": {
    "tags": []
   },
   "outputs": [
    {
     "name": "stderr",
     "output_type": "stream",
     "text": [
      "ERROR:root:Internal Python error in the inspect module.\n",
      "Below is the traceback from this internal error.\n",
      "\n",
      "ERROR:root:Internal Python error in the inspect module.\n",
      "Below is the traceback from this internal error.\n",
      "\n",
      "ERROR:root:Internal Python error in the inspect module.\n",
      "Below is the traceback from this internal error.\n",
      "\n"
     ]
    },
    {
     "name": "stdout",
     "output_type": "stream",
     "text": [
      "Traceback (most recent call last):\n",
      "NameError: name 'Payload' is not defined\n",
      "\n",
      "During handling of the above exception, another exception occurred:\n",
      "\n",
      "Traceback (most recent call last):\n",
      "AttributeError: 'NameError' object has no attribute '_render_traceback_'\n",
      "\n",
      "During handling of the above exception, another exception occurred:\n",
      "\n",
      "Traceback (most recent call last):\n",
      "AssertionError\n",
      "Traceback (most recent call last):\n",
      "NameError: name 'Payload' is not defined\n",
      "\n",
      "During handling of the above exception, another exception occurred:\n",
      "\n",
      "Traceback (most recent call last):\n",
      "AttributeError: 'NameError' object has no attribute '_render_traceback_'\n",
      "\n",
      "During handling of the above exception, another exception occurred:\n",
      "\n",
      "Traceback (most recent call last):\n",
      "TypeError: object of type 'NoneType' has no len()\n",
      "\n",
      "During handling of the above exception, another exception occurred:\n",
      "\n",
      "Traceback (most recent call last):\n",
      "AttributeError: 'TypeError' object has no attribute '_render_traceback_'\n",
      "\n",
      "During handling of the above exception, another exception occurred:\n",
      "\n",
      "Traceback (most recent call last):\n",
      "AssertionError\n",
      "Traceback (most recent call last):\n",
      "NameError: name 'Payload' is not defined\n",
      "\n",
      "During handling of the above exception, another exception occurred:\n",
      "\n",
      "Traceback (most recent call last):\n",
      "AttributeError: 'NameError' object has no attribute '_render_traceback_'\n",
      "\n",
      "During handling of the above exception, another exception occurred:\n",
      "\n",
      "Traceback (most recent call last):\n",
      "TypeError: object of type 'NoneType' has no len()\n",
      "\n",
      "During handling of the above exception, another exception occurred:\n",
      "\n",
      "Traceback (most recent call last):\n",
      "AttributeError: 'TypeError' object has no attribute '_render_traceback_'\n",
      "\n",
      "During handling of the above exception, another exception occurred:\n",
      "\n",
      "Traceback (most recent call last):\n",
      "TypeError: object of type 'NoneType' has no len()\n",
      "\n",
      "During handling of the above exception, another exception occurred:\n",
      "\n",
      "Traceback (most recent call last):\n",
      "AttributeError: 'TypeError' object has no attribute '_render_traceback_'\n",
      "\n",
      "During handling of the above exception, another exception occurred:\n",
      "\n",
      "Traceback (most recent call last):\n",
      "AssertionError\n"
     ]
    }
   ],
   "source": [
    "Payload_colors=['yellowgreen']\n",
    "Payload.plot(kind='bar', stacked=True,color=Payload_colors,rot=0, figsize=(28, 5))"
   ]
  },
  {
   "cell_type": "code",
   "execution_count": null,
   "metadata": {
    "jupyter": {
     "source_hidden": true
    },
    "tags": []
   },
   "outputs": [
    {
     "name": "stdout",
     "output_type": "stream",
     "text": [
      "ERROR! Session/line number was not unique in database. History logging moved to new session 1460\n"
     ]
    },
    {
     "name": "stderr",
     "output_type": "stream",
     "text": [
      "ERROR:root:Internal Python error in the inspect module.\n",
      "Below is the traceback from this internal error.\n",
      "\n",
      "ERROR:root:Internal Python error in the inspect module.\n",
      "Below is the traceback from this internal error.\n",
      "\n",
      "ERROR:root:Internal Python error in the inspect module.\n",
      "Below is the traceback from this internal error.\n",
      "\n"
     ]
    },
    {
     "name": "stdout",
     "output_type": "stream",
     "text": [
      "Traceback (most recent call last):\n",
      "KeyError: \"None of [Index(['T_strategy = 2.19 v_max_final = 1.43 duration_hrs_bottleneck',\\n       'T_strategy = 2.18 v_max_final = 2.0 duration_hrs_bottleneck',\\n       'T_strategy = 2.17 v_max_final = 2.44 duration_hrs_bottleneck',\\n       'T_strategy = 2.16 v_max_final = 2.8 duration_hrs_bottleneck',\\n       'T_strategy = 2.15 v_max_final = 3.13 duration_hrs_bottleneck',\\n       'T_strategy = 2.14 v_max_final = 3.42 duration_hrs_bottleneck',\\n       'T_strategy = 2.13 v_max_final = 3.69 duration_hrs_bottleneck',\\n       'T_strategy = 2.12 v_max_final = 3.91 duration_hrs_bottleneck',\\n       'T_strategy = 2.11 v_max_final = 3.91 duration_hrs_bottleneck',\\n       'T_strategy = 2.1 v_max_final = 3.91 duration_hrs_bottleneck',\\n       'T_strategy = 2.05 v_max_final = 3.91 duration_hrs_bottleneck',\\n       'T_strategy = 2.0 v_max_final = 3.91 duration_hrs_bottleneck',\\n       'T_strategy = 1.95 v_max_final = 3.91 duration_hrs_bottleneck',\\n       'T_strategy = 1.9 v_max_final = 3.91 duration_hrs_bottleneck',\\n       'T_strategy = 1.85 v_max_final = 3.9 duration_hrs_bottleneck',\\n       'T_strategy = 1.8 v_max_final = 3.9 duration_hrs_bottleneck',\\n       'T_strategy = 1.75 v_max_final = 3.89 duration_hrs_bottleneck',\\n       'T_strategy = 1.7 v_max_final = 3.89 duration_hrs_bottleneck',\\n       'T_strategy = 1.65 v_max_final = 3.88 duration_hrs_bottleneck',\\n       'T_strategy = 1.6 v_max_final = 3.87 duration_hrs_bottleneck',\\n       'T_strategy = 1.55 v_max_final = 3.86 duration_hrs_bottleneck',\\n       'T_strategy = 1.5 v_max_final = 3.84 duration_hrs_bottleneck',\\n       'T_strategy = 1.45 v_max_final = 3.8 duration_hrs_bottleneck',\\n       'T_strategy = 1.4 v_max_final = 4.04 duration_hrs_bottleneck'],\\n      dtype='object')] are in the [columns]\"\n",
      "\n",
      "During handling of the above exception, another exception occurred:\n",
      "\n",
      "ERROR! Session/line number was not unique in Traceback (most recent call last):\n",
      "database. History logging moved to new session 1461\n",
      "AttributeError: 'KeyError' object has no attribute '_render_traceback_'\n",
      "\n",
      "During handling of the above exception, another exception occurred:\n",
      "\n",
      "Traceback (most recent call last):\n",
      "AssertionError\n",
      "Traceback (most recent call last):\n",
      "KeyError: \"None of [Index(['T_strategy = 2.19 v_max_final = 1.43 duration_hrs_bottleneck',\\n       'T_strategy = 2.18 v_max_final = 2.0 duration_hrs_bottleneck',\\n       'T_strategy = 2.17 v_max_final = 2.44 duration_hrs_bottleneck',\\n       'T_strategy = 2.16 v_max_final = 2.8 duration_hrs_bottleneck',\\n       'T_strategy = 2.15 v_max_final = 3.13 duration_hrs_bottleneck',\\n       'T_strategy = 2.14 v_max_final = 3.42 duration_hrs_bottleneck',\\n       'T_strategy = 2.13 v_max_final = 3.69 duration_hrs_bottleneck',\\n       'T_strategy = 2.12 v_max_final = 3.91 duration_hrs_bottleneck',\\n       'T_strategy = 2.11 v_max_final = 3.91 duration_hrs_bottleneck',\\n       'T_strategy = 2.1 v_max_final = 3.91 duration_hrs_bottleneck',\\n       'T_strategy = 2.05 v_max_final = 3.91 duration_hrs_bottleneck',\\n       'T_strategy = 2.0 v_max_final = 3.91 duration_hrs_bottleneck',\\n       'T_strategy = 1.95 v_max_final = 3.91 duration_hrs_bottleneck',\\n       'T_strategy = 1.9 v_max_final = 3.91 duration_hrs_bottleneck',\\n       'T_strategy = 1.85 v_max_final = 3.9 duration_hrs_bottleneck',\\n       'T_strategy = 1.8 v_max_final = 3.9 duration_hrs_bottleneck',\\n       'T_strategy = 1.75 v_max_final = 3.89 duration_hrs_bottleneck',\\n       'T_strategy = 1.7 v_max_final = 3.89 duration_hrs_bottleneck',\\n       'T_strategy = 1.65 v_max_final = 3.88 duration_hrs_bottleneck',\\n       'T_strategy = 1.6 v_max_final = 3.87 duration_hrs_bottleneck',\\n       'T_strategy = 1.55 v_max_final = 3.86 duration_hrs_bottleneck',\\n       'T_strategy = 1.5 v_max_final = 3.84 duration_hrs_bottleneck',\\n       'T_strategy = 1.45 v_max_final = 3.8 duration_hrs_bottleneck',\\n       'T_strategy = 1.4 v_max_final = 4.04 duration_hrs_bottleneck'],\\n      dtype='object')] are in the [columns]\"\n",
      "\n",
      "During handling of the above exception, another exception occurred:\n",
      "\n",
      "Traceback (most recent call last):\n",
      "AttributeError: 'KeyError' object has no attribute '_render_traceback_'\n",
      "\n",
      "During handling of the above exception, another exception occurred:\n",
      "\n",
      "Traceback (most recent call last):\n",
      "TypeError: object of type 'NoneType' has no len()\n",
      "\n",
      "During handling of the above exception, another exception occurred:\n",
      "\n",
      "Traceback (most recent call last):\n",
      "AttributeError: 'TypeError' object has no attribute '_render_traceback_'\n",
      "\n",
      "During handling of the above exception, another exception occurred:\n",
      "\n",
      "Traceback (most recent call last):\n",
      "AssertionError\n",
      "Traceback (most recent call last):\n",
      "KeyError: \"None of [Index(['T_strategy = 2.19 v_max_final = 1.43 duration_hrs_bottleneck',\\n       'T_strategy = 2.18 v_max_final = 2.0 duration_hrs_bottleneck',\\n       'T_strategy = 2.17 v_max_final = 2.44 duration_hrs_bottleneck',\\n       'T_strategy = 2.16 v_max_final = 2.8 duration_hrs_bottleneck',\\n       'T_strategy = 2.15 v_max_final = 3.13 duration_hrs_bottleneck',\\n       'T_strategy = 2.14 v_max_final = 3.42 duration_hrs_bottleneck',\\n       'T_strategy = 2.13 v_max_final = 3.69 duration_hrs_bottleneck',\\n       'T_strategy = 2.12 v_max_final = 3.91 duration_hrs_bottleneck',\\n       'T_strategy = 2.11 v_max_final = 3.91 duration_hrs_bottleneck',\\n       'T_strategy = 2.1 v_max_final = 3.91 duration_hrs_bottleneck',\\n       'T_strategy = 2.05 v_max_final = 3.91 duration_hrs_bottleneck',\\n       'T_strategy = 2.0 v_max_final = 3.91 duration_hrs_bottleneck',\\n       'T_strategy = 1.95 v_max_final = 3.91 duration_hrs_bottleneck',\\n       'T_strategy = 1.9 v_max_final = 3.91 duration_hrs_bottleneck',\\n       'T_strategy = 1.85 v_max_final = 3.9 duration_hrs_bottleneck',\\n       'T_strategy = 1.8 v_max_final = 3.9 duration_hrs_bottleneck',\\n       'T_strategy = 1.75 v_max_final = 3.89 duration_hrs_bottleneck',\\n       'T_strategy = 1.7 v_max_final = 3.89 duration_hrs_bottleneck',\\n       'T_strategy = 1.65 v_max_final = 3.88 duration_hrs_bottleneck',\\n       'T_strategy = 1.6 v_max_final = 3.87 duration_hrs_bottleneck',\\n       'T_strategy = 1.55 v_max_final = 3.86 duration_hrs_bottleneck',\\n       'T_strategy = 1.5 v_max_final = 3.84 duration_hrs_bottleneck',\\n       'T_strategy = 1.45 v_max_final = 3.8 duration_hrs_bottleneck',\\n       'T_strategy = 1.4 v_max_final = 4.04 duration_hrs_bottleneck'],\\n      dtype='object')] are in the [columns]\"\n",
      "\n",
      "During handling of the above exception, another exception occurred:\n",
      "\n",
      "Traceback (most recent call last):\n",
      "AttributeError: 'KeyError' object has no attribute '_render_traceback_'\n",
      "\n",
      "During handling of the above exception, another exception occurred:\n",
      "\n",
      "Traceback (most recent call last):\n",
      "TypeError: object of type 'NoneType' has no len()\n",
      "\n",
      "During handling of the above exception, another exception occurred:\n",
      "\n",
      "Traceback (most recent call last):\n",
      "AttributeError: 'TypeError' object has no attribute '_render_traceback_'\n",
      "\n",
      "During handling of the above exception, another exception occurred:\n",
      "\n",
      "Traceback (most recent call last):\n",
      "TypeError: object of type 'NoneType' has no len()\n",
      "\n",
      "During handling of the above exception, another exception occurred:\n",
      "\n",
      "Traceback (most recent call last):\n",
      "AttributeError: 'TypeError' object has no attribute '_render_traceback_'\n",
      "\n",
      "During handling of the above exception, another exception occurred:\n",
      "\n",
      "Traceback (most recent call last):\n",
      "AssertionError\n"
     ]
    }
   ],
   "source": [
    "duration=df_overall_plot[[\n",
    "              'T_strategy = 2.19 v_max_final = 1.43 duration_hrs_bottleneck',\n",
    "              'T_strategy = 2.18 v_max_final = 2.0 duration_hrs_bottleneck',\n",
    "              'T_strategy = 2.17 v_max_final = 2.44 duration_hrs_bottleneck', \n",
    "              'T_strategy = 2.16 v_max_final = 2.8 duration_hrs_bottleneck',\n",
    "              'T_strategy = 2.15 v_max_final = 3.13 duration_hrs_bottleneck',\n",
    "              'T_strategy = 2.14 v_max_final = 3.42 duration_hrs_bottleneck',\n",
    "              'T_strategy = 2.13 v_max_final = 3.69 duration_hrs_bottleneck',\n",
    "              'T_strategy = 2.12 v_max_final = 3.91 duration_hrs_bottleneck',\n",
    "              'T_strategy = 2.11 v_max_final = 3.91 duration_hrs_bottleneck',\n",
    "              'T_strategy = 2.1 v_max_final = 3.91 duration_hrs_bottleneck',\n",
    "              'T_strategy = 2.05 v_max_final = 3.91 duration_hrs_bottleneck',\n",
    "              'T_strategy = 2.0 v_max_final = 3.91 duration_hrs_bottleneck',\n",
    "              'T_strategy = 1.95 v_max_final = 3.91 duration_hrs_bottleneck',\n",
    "              'T_strategy = 1.9 v_max_final = 3.91 duration_hrs_bottleneck',                      \n",
    "              'T_strategy = 1.85 v_max_final = 3.9 duration_hrs_bottleneck',\n",
    "              'T_strategy = 1.8 v_max_final = 3.9 duration_hrs_bottleneck',\n",
    "              'T_strategy = 1.75 v_max_final = 3.89 duration_hrs_bottleneck',\n",
    "              'T_strategy = 1.7 v_max_final = 3.89 duration_hrs_bottleneck',\n",
    "              'T_strategy = 1.65 v_max_final = 3.88 duration_hrs_bottleneck',   \n",
    "              'T_strategy = 1.6 v_max_final = 3.87 duration_hrs_bottleneck',\n",
    "              'T_strategy = 1.55 v_max_final = 3.86 duration_hrs_bottleneck',\n",
    "              'T_strategy = 1.5 v_max_final = 3.84 duration_hrs_bottleneck',\n",
    "              'T_strategy = 1.45 v_max_final = 3.8 duration_hrs_bottleneck',\n",
    "              'T_strategy = 1.4 v_max_final = 4.04 duration_hrs_bottleneck',\n",
    "               ]].T\n",
    "\n",
    "duration.index=[\n",
    "            'strategy 1 \\n T$_s$=2.19 m \\n V$_s$=2.0 m/s', \n",
    "            'strategy 2 \\n T$_s$=2.18 m \\n V$_s$=2.44 m/s',\n",
    "            'strategy 3 \\n T$_s$=2.17 m \\n V$_s$=2.8 m/s',\n",
    "            'strategy 4 \\n T$_s$=2.16 m \\n V$_s$=3.13 m/s',\n",
    "            'strategy 5 \\n T$_s$=2.15 m \\n V$_s$=3.42 m/s',\n",
    "            'strategy 6 \\n T$_s$=2.14 m \\n V$_s$=3.69 m/s',\n",
    "            'strategy 7 \\n T$_s$=2.13 m \\n V$_s$=3.91 m/s',\n",
    "            'strategy 8 \\n T$_s$=2.12 m \\n V$_s$=3.91 m/s',\n",
    "            'strategy 9 \\n T$_s$=2.11 m \\n V$_s$=3.91 m/s',\n",
    "            'strategy 10 \\n T$_s$=2.10 m \\n V$_s$=3.91 m/s',\n",
    "            'strategy 11 \\n T$_s$=2.05 m \\n V$_s$=3.91 m/s',\n",
    "            'strategy 12 \\n T$_s$=2.00 m \\n V$_s$=3.91 m/s',\n",
    "            'strategy 13 \\n T$_s$=1.95 m \\n V$_s$=3.91 m/s',           \n",
    "            'strategy 14 \\n T$_s$=1.90 m \\n V$_s$=3.91 m/s',\n",
    "            'strategy 15 \\n T$_s$=1.85 m \\n V$_s$=3.9 m/s',\n",
    "            'strategy 16 \\n T$_s$=1.80 m \\n V$_s$=3.9 m/s',\n",
    "            'strategy 17 \\n T$_s$=1.75 m \\n V$_s$=3.89 m/s',\n",
    "            'strategy 18 \\n T$_s$=1.70 m \\n V$_s$=3.89 m/s',\n",
    "            'strategy 19 \\n T$_s$=1.65 m \\n V$_s$=3.88 m/s',           \n",
    "            'strategy 20 \\n T$_s$=1.60 m \\n V$_s$=3.87 m/s',\n",
    "            'strategy 21 \\n T$_s$=1.55 m \\n V$_s$=3.86 m/s',\n",
    "            'strategy 22 \\n T$_s$=1.50 m \\n V$_s$=3.84 m/s',\n",
    "            'strategy 23 \\n T$_s$=1.45 m \\n V$_s$=3.8 m/s',\n",
    "            'strategy 24 \\n T$_s$=1.40 m \\n V$_s$=4.04 m/s',\n",
    "            ]\n",
    "\n",
    "duration.columns =['section 2 (bottleneck)']\n",
    "duration.head(24)"
   ]
  },
  {
   "cell_type": "code",
   "execution_count": null,
   "metadata": {
    "tags": []
   },
   "outputs": [
    {
     "name": "stderr",
     "output_type": "stream",
     "text": [
      "ERROR:root:Internal Python error in the inspect module.\n",
      "Below is the traceback from this internal error.\n",
      "\n",
      "ERROR:root:Internal Python error in the inspect module.\n",
      "Below is the traceback from this internal error.\n",
      "\n",
      "ERROR:root:Internal Python error in the inspect module.\n",
      "Below is the traceback from this internal error.\n",
      "\n"
     ]
    },
    {
     "name": "stdout",
     "output_type": "stream",
     "text": [
      "Traceback (most recent call last):\n",
      "NameError: name 'duration' is not defined\n",
      "\n",
      "During handling of the above exception, another exception occurred:\n",
      "\n",
      "Traceback (most recent call last):\n",
      "AttributeError: 'NameError' object has no attribute '_render_traceback_'\n",
      "\n",
      "During handling of the above exception, another exception occurred:\n",
      "\n",
      "Traceback (most recent call last):\n",
      "AssertionError\n",
      "Traceback (most recent call last):\n",
      "NameError: name 'duration' is not defined\n",
      "\n",
      "During handling of the above exception, another exception occurred:\n",
      "\n",
      "Traceback (most recent call last):\n",
      "AttributeError: 'NameError' object has no attribute '_render_traceback_'\n",
      "\n",
      "During handling of the above exception, another exception occurred:\n",
      "\n",
      "Traceback (most recent call last):\n",
      "TypeError: object of type 'NoneType' has no len()\n",
      "\n",
      "During handling of the above exception, another exception occurred:\n",
      "\n",
      "Traceback (most recent call last):\n",
      "AttributeError: 'TypeError' object has no attribute '_render_traceback_'\n",
      "\n",
      "During handling of the above exception, another exception occurred:\n",
      "\n",
      "Traceback (most recent call last):\n",
      "AssertionError\n",
      "ERROR! Session/line number was not unique in database. History logging moved to new session 1462\n",
      "Traceback (most recent call last):\n",
      "NameError: name 'duration' is not defined\n",
      "\n",
      "During handling of the above exception, another exception occurred:\n",
      "\n",
      "Traceback (most recent call last):\n",
      "AttributeError: 'NameError' object has no attribute '_render_traceback_'\n",
      "\n",
      "During handling of the above exception, another exception occurred:\n",
      "\n",
      "Traceback (most recent call last):\n",
      "TypeError: object of type 'NoneType' has no len()\n",
      "\n",
      "During handling of the above exception, another exception occurred:\n",
      "\n",
      "Traceback (most recent call last):\n",
      "AttributeError: 'TypeError' object has no attribute '_render_traceback_'\n",
      "\n",
      "During handling of the above exception, another exception occurred:\n",
      "\n",
      "Traceback (most recent call last):\n",
      "TypeError: object of type 'NoneType' has no len()\n",
      "\n",
      "During handling of the above exception, another exception occurred:\n",
      "\n",
      "Traceback (most recent call last):\n",
      "AttributeError: 'TypeError' object has no attribute '_render_traceback_'\n",
      "\n",
      "During handling of the above exception, another exception occurred:\n",
      "\n",
      "Traceback (most recent call last):\n",
      "AssertionError\n"
     ]
    }
   ],
   "source": [
    "duration_colors=['mediumpurple']\n",
    "duration.plot(kind='bar', stacked=True,color=duration_colors,rot=0, figsize=(28, 5))"
   ]
  },
  {
   "cell_type": "code",
   "execution_count": null,
   "metadata": {
    "jupyter": {
     "source_hidden": true
    },
    "tags": []
   },
   "outputs": [
    {
     "name": "stderr",
     "output_type": "stream",
     "text": [
      "ERROR:root:Internal Python error in the inspect module.\n",
      "Below is the traceback from this internal error.\n",
      "\n",
      "ERROR:root:Internal Python error in the inspect module.\n",
      "Below is the traceback from this internal error.\n",
      "\n",
      "ERROR:root:Internal Python error in the inspect module.\n",
      "Below is the traceback from this internal error.\n",
      "\n"
     ]
    },
    {
     "name": "stdout",
     "output_type": "stream",
     "text": [
      "Traceback (most recent call last):\n",
      "KeyError: 'max_sinkage_at_v_max_final (cm)'\n",
      "\n",
      "The above exception was the direct cause of the following exception:\n",
      "\n",
      "Traceback (most recent call last):\n",
      "KeyError: 'max_sinkage_at_v_max_final (cm)'\n",
      "\n",
      "During handling of the above exception, another exception occurred:\n",
      "\n",
      "Traceback (most recent call last):\n",
      "AttributeError: 'KeyError' object has no attribute '_render_traceback_'\n",
      "\n",
      "During handling of the above exception, another exception occurred:\n",
      "\n",
      "Traceback (most recent call last):\n",
      "AssertionError\n",
      "Traceback (most recent call last):\n",
      "KeyError: 'max_sinkage_at_v_max_final (cm)'\n",
      "\n",
      "The above exception was the direct cause of the following exception:\n",
      "\n",
      "Traceback (most recent call last):\n",
      "KeyError: 'max_sinkage_at_v_max_final (cm)'\n",
      "\n",
      "During handling of the above exception, another exception occurred:\n",
      "\n",
      "Traceback (most recent call last):\n",
      "AttributeError: 'KeyError' object has no attribute '_render_traceback_'\n",
      "\n",
      "During handling of the above exception, another exception occurred:\n",
      "\n",
      "Traceback (most recent call last):\n",
      "TypeError: object of type 'NoneType' has no len()\n",
      "\n",
      "During handling of the above exception, another exception occurred:\n",
      "\n",
      "Traceback (most recent call last):\n",
      "AttributeError: 'TypeError' object has no attribute '_render_traceback_'\n",
      "\n",
      "During handling of the above exception, another exception occurred:\n",
      "\n",
      "Traceback (most recent call last):\n",
      "AssertionError\n",
      "ERROR! Session/line number was not unique in database. History logging moved to new session 1463\n",
      "Traceback (most recent call last):\n",
      "KeyError: 'max_sinkage_at_v_max_final (cm)'\n",
      "\n",
      "The above exception was the direct cause of the following exception:\n",
      "\n",
      "Traceback (most recent call last):\n",
      "KeyError: 'max_sinkage_at_v_max_final (cm)'\n",
      "\n",
      "During handling of the above exception, another exception occurred:\n",
      "\n",
      "Traceback (most recent call last):\n",
      "AttributeError: 'KeyError' object has no attribute '_render_traceback_'\n",
      "\n",
      "During handling of the above exception, another exception occurred:\n",
      "\n",
      "Traceback (most recent call last):\n",
      "TypeError: object of type 'NoneType' has no len()\n",
      "\n",
      "During handling of the above exception, another exception occurred:\n",
      "\n",
      "Traceback (most recent call last):\n",
      "AttributeError: 'TypeError' object has no attribute '_render_traceback_'\n",
      "\n",
      "During handling of the above exception, another exception occurred:\n",
      "\n",
      "Traceback (most recent call last):\n",
      "TypeError: object of type 'NoneType' has no len()\n",
      "\n",
      "During handling of the above exception, another exception occurred:\n",
      "\n",
      "Traceback (most recent call last):\n",
      "AttributeError: 'TypeError' object has no attribute '_render_traceback_'\n",
      "\n",
      "During handling of the above exception, another exception occurred:\n",
      "\n",
      "Traceback (most recent call last):\n",
      "AssertionError\n"
     ]
    }
   ],
   "source": [
    "sinkage_max= Strategies_df['max_sinkage_at_v_max_final (cm)'][1:25]\n",
    "sinkage_max = pd.DataFrame(sinkage_max)\n",
    "\n",
    "sinkage_max.index=[            \n",
    "            'strategy 1 \\n T$_s$=2.19 m \\n V$_s$=2.0 m/s', \n",
    "            'strategy 2 \\n T$_s$=2.18 m \\n V$_s$=2.44 m/s',\n",
    "            'strategy 3 \\n T$_s$=2.17 m \\n V$_s$=2.8 m/s',\n",
    "            'strategy 4 \\n T$_s$=2.16 m \\n V$_s$=3.13 m/s',\n",
    "            'strategy 5 \\n T$_s$=2.15 m \\n V$_s$=3.42 m/s',\n",
    "            'strategy 6 \\n T$_s$=2.14 m \\n V$_s$=3.69 m/s',\n",
    "            'strategy 7 \\n T$_s$=2.13 m \\n V$_s$=3.91 m/s',\n",
    "            'strategy 8 \\n T$_s$=2.12 m \\n V$_s$=3.91 m/s',\n",
    "            'strategy 9 \\n T$_s$=2.11 m \\n V$_s$=3.91 m/s',\n",
    "            'strategy 10 \\n T$_s$=2.10 m \\n V$_s$=3.91 m/s',\n",
    "            'strategy 11 \\n T$_s$=2.05 m \\n V$_s$=3.91 m/s',\n",
    "            'strategy 12 \\n T$_s$=2.00 m \\n V$_s$=3.91 m/s',\n",
    "            'strategy 13 \\n T$_s$=1.95 m \\n V$_s$=3.91 m/s',           \n",
    "            'strategy 14 \\n T$_s$=1.90 m \\n V$_s$=3.91 m/s',\n",
    "            'strategy 15 \\n T$_s$=1.85 m \\n V$_s$=3.9 m/s',\n",
    "            'strategy 16 \\n T$_s$=1.80 m \\n V$_s$=3.9 m/s',\n",
    "            'strategy 17 \\n T$_s$=1.75 m \\n V$_s$=3.89 m/s',\n",
    "            'strategy 18 \\n T$_s$=1.70 m \\n V$_s$=3.89 m/s',\n",
    "            'strategy 19 \\n T$_s$=1.65 m \\n V$_s$=3.88 m/s',           \n",
    "            'strategy 20 \\n T$_s$=1.60 m \\n V$_s$=3.87 m/s',\n",
    "            'strategy 21 \\n T$_s$=1.55 m \\n V$_s$=3.86 m/s',\n",
    "            'strategy 22 \\n T$_s$=1.50 m \\n V$_s$=3.84 m/s',\n",
    "            'strategy 23 \\n T$_s$=1.45 m \\n V$_s$=3.8 m/s',\n",
    "            'strategy 24 \\n T$_s$=1.40 m \\n V$_s$=4.04 m/s',\n",
    "            ]\n",
    "\n",
    "sinkage_max.columns =['section 2 (bottleneck)']\n",
    "sinkage_max.head(24)"
   ]
  },
  {
   "cell_type": "code",
   "execution_count": null,
   "metadata": {
    "tags": []
   },
   "outputs": [
    {
     "name": "stderr",
     "output_type": "stream",
     "text": [
      "ERROR:root:Internal Python error in the inspect module.\n",
      "Below is the traceback from this internal error.\n",
      "\n",
      "ERROR:root:Internal Python error in the inspect module.\n",
      "Below is the traceback from this internal error.\n",
      "\n",
      "ERROR:root:Internal Python error in the inspect module.\n",
      "Below is the traceback from this internal error.\n",
      "\n"
     ]
    },
    {
     "name": "stdout",
     "output_type": "stream",
     "text": [
      "Traceback (most recent call last):\n",
      "NameError: name 'sinkage_max' is not defined\n",
      "\n",
      "During handling of the above exception, another exception occurred:\n",
      "\n",
      "Traceback (most recent call last):\n",
      "AttributeError: 'NameError' object has no attribute '_render_traceback_'\n",
      "\n",
      "During handling of the above exception, another exception occurred:\n",
      "\n",
      "Traceback (most recent call last):\n",
      "AssertionError\n",
      "Traceback (most recent call last):\n",
      "NameError: name 'sinkage_max' is not defined\n",
      "\n",
      "During handling of the above exception, another exception occurred:\n",
      "\n",
      "Traceback (most recent call last):\n",
      "AttributeError: 'NameError' object has no attribute '_render_traceback_'\n",
      "\n",
      "During handling of the above exception, another exception occurred:\n",
      "\n",
      "Traceback (most recent call last):\n",
      "TypeError: object of type 'NoneType' has no len()\n",
      "\n",
      "During handling of the above exception, another exception occurred:\n",
      "\n",
      "Traceback (most recent call last):\n",
      "AttributeError: 'TypeError' object has no attribute '_render_traceback_'\n",
      "\n",
      "During handling of the above exception, another exception occurred:\n",
      "\n",
      "Traceback (most recent call last):\n",
      "AssertionError\n",
      "ERROR! Session/line number was not unique in database. History logging moved to new session 1464\n",
      "Traceback (most recent call last):\n",
      "NameError: name 'sinkage_max' is not defined\n",
      "\n",
      "During handling of the above exception, another exception occurred:\n",
      "\n",
      "Traceback (most recent call last):\n",
      "AttributeError: 'NameError' object has no attribute '_render_traceback_'\n",
      "\n",
      "During handling of the above exception, another exception occurred:\n",
      "\n",
      "Traceback (most recent call last):\n",
      "TypeError: object of type 'NoneType' has no len()\n",
      "\n",
      "During handling of the above exception, another exception occurred:\n",
      "\n",
      "Traceback (most recent call last):\n",
      "AttributeError: 'TypeError' object has no attribute '_render_traceback_'\n",
      "\n",
      "During handling of the above exception, another exception occurred:\n",
      "\n",
      "Traceback (most recent call last):\n",
      "TypeError: object of type 'NoneType' has no len()\n",
      "\n",
      "During handling of the above exception, another exception occurred:\n",
      "\n",
      "Traceback (most recent call last):\n",
      "AttributeError: 'TypeError' object has no attribute '_render_traceback_'\n",
      "\n",
      "During handling of the above exception, another exception occurred:\n",
      "\n",
      "Traceback (most recent call last):\n",
      "AssertionError\n"
     ]
    }
   ],
   "source": [
    "sinkage_max_colors=['tomato']\n",
    "sinkage_max.plot(kind='bar', stacked=True,color=sinkage_max_colors,rot=0, figsize=(28, 5))"
   ]
  },
  {
   "cell_type": "code",
   "execution_count": null,
   "metadata": {
    "jupyter": {
     "source_hidden": true
    },
    "tags": []
   },
   "outputs": [
    {
     "name": "stderr",
     "output_type": "stream",
     "text": [
      "ERROR:root:Internal Python error in the inspect module.\n",
      "Below is the traceback from this internal error.\n",
      "\n",
      "ERROR:root:Internal Python error in the inspect module.\n",
      "Below is the traceback from this internal error.\n",
      "\n",
      "ERROR:root:Internal Python error in the inspect module.\n",
      "Below is the traceback from this internal error.\n",
      "\n"
     ]
    },
    {
     "name": "stdout",
     "output_type": "stream",
     "text": [
      "Traceback (most recent call last):\n",
      "KeyError: 'remained_distance_to_margin (cm)'\n",
      "\n",
      "The above exception was the direct cause of the following exception:\n",
      "\n",
      "Traceback (most recent call last):\n",
      "KeyError: 'remained_distance_to_margin (cm)'\n",
      "\n",
      "During handling of the above exception, another exception occurred:\n",
      "\n",
      "Traceback (most recent call last):\n",
      "AttributeError: 'KeyError' object has no attribute '_render_traceback_'\n",
      "\n",
      "During handling of the above exception, another exception occurred:\n",
      "\n",
      "Traceback (most recent call last):\n",
      "AssertionError\n",
      "Traceback (most recent call last):\n",
      "KeyError: 'remained_distance_to_margin (cm)'\n",
      "\n",
      "The above exception was the direct cause of the following exception:\n",
      "\n",
      "Traceback (most recent call last):\n",
      "KeyError: 'remained_distance_to_margin (cm)'\n",
      "\n",
      "During handling of the above exception, another exception occurred:\n",
      "\n",
      "Traceback (most recent call last):\n",
      "AttributeError: 'KeyError' object has no attribute '_render_traceback_'\n",
      "\n",
      "During handling of the above exception, another exception occurred:\n",
      "\n",
      "Traceback (most recent call last):\n",
      "TypeError: object of type 'NoneType' has no len()\n",
      "\n",
      "During handling of the above exception, another exception occurred:\n",
      "\n",
      "Traceback (most recent call last):\n",
      "AttributeError: 'TypeError' object has no attribute '_render_traceback_'\n",
      "\n",
      "During handling of the above exception, another exception occurred:\n",
      "\n",
      "Traceback (most recent call last):\n",
      "AssertionError\n",
      "ERROR! Session/line number was not unique in database. History logging moved to new session 1465\n",
      "Traceback (most recent call last):\n",
      "KeyError: 'remained_distance_to_margin (cm)'\n",
      "\n",
      "The above exception was the direct cause of the following exception:\n",
      "\n",
      "Traceback (most recent call last):\n",
      "KeyError: 'remained_distance_to_margin (cm)'\n",
      "\n",
      "During handling of the above exception, another exception occurred:\n",
      "\n",
      "Traceback (most recent call last):\n",
      "AttributeError: 'KeyError' object has no attribute '_render_traceback_'\n",
      "\n",
      "During handling of the above exception, another exception occurred:\n",
      "\n",
      "Traceback (most recent call last):\n",
      "TypeError: object of type 'NoneType' has no len()\n",
      "\n",
      "During handling of the above exception, another exception occurred:\n",
      "\n",
      "Traceback (most recent call last):\n",
      "AttributeError: 'TypeError' object has no attribute '_render_traceback_'\n",
      "\n",
      "During handling of the above exception, another exception occurred:\n",
      "\n",
      "Traceback (most recent call last):\n",
      "TypeError: object of type 'NoneType' has no len()\n",
      "\n",
      "During handling of the above exception, another exception occurred:\n",
      "\n",
      "Traceback (most recent call last):\n",
      "AttributeError: 'TypeError' object has no attribute '_render_traceback_'\n",
      "\n",
      "During handling of the above exception, another exception occurred:\n",
      "\n",
      "Traceback (most recent call last):\n",
      "AssertionError\n"
     ]
    }
   ],
   "source": [
    "remaining_space= Strategies_df['remained_distance_to_margin (cm)'][1:25]\n",
    "remaining_space = pd.DataFrame(remaining_space)\n",
    "\n",
    "remaining_space.index=[            \n",
    "            'strategy 1 \\n T$_s$=2.19 m \\n V$_s$=2.0 m/s', \n",
    "            'strategy 2 \\n T$_s$=2.18 m \\n V$_s$=2.44 m/s',\n",
    "            'strategy 3 \\n T$_s$=2.17 m \\n V$_s$=2.8 m/s',\n",
    "            'strategy 4 \\n T$_s$=2.16 m \\n V$_s$=3.13 m/s',\n",
    "            'strategy 5 \\n T$_s$=2.15 m \\n V$_s$=3.42 m/s',\n",
    "            'strategy 6 \\n T$_s$=2.14 m \\n V$_s$=3.69 m/s',\n",
    "            'strategy 7 \\n T$_s$=2.13 m \\n V$_s$=3.91 m/s',\n",
    "            'strategy 8 \\n T$_s$=2.12 m \\n V$_s$=3.91 m/s',\n",
    "            'strategy 9 \\n T$_s$=2.11 m \\n V$_s$=3.91 m/s',\n",
    "            'strategy 10 \\n T$_s$=2.10 m \\n V$_s$=3.91 m/s',\n",
    "            'strategy 11 \\n T$_s$=2.05 m \\n V$_s$=3.91 m/s',\n",
    "            'strategy 12 \\n T$_s$=2.00 m \\n V$_s$=3.91 m/s',\n",
    "            'strategy 13 \\n T$_s$=1.95 m \\n V$_s$=3.91 m/s',           \n",
    "            'strategy 14 \\n T$_s$=1.90 m \\n V$_s$=3.91 m/s',\n",
    "            'strategy 15 \\n T$_s$=1.85 m \\n V$_s$=3.9 m/s',\n",
    "            'strategy 16 \\n T$_s$=1.80 m \\n V$_s$=3.9 m/s',\n",
    "            'strategy 17 \\n T$_s$=1.75 m \\n V$_s$=3.89 m/s',\n",
    "            'strategy 18 \\n T$_s$=1.70 m \\n V$_s$=3.89 m/s',\n",
    "            'strategy 19 \\n T$_s$=1.65 m \\n V$_s$=3.88 m/s',           \n",
    "            'strategy 20 \\n T$_s$=1.60 m \\n V$_s$=3.87 m/s',\n",
    "            'strategy 21 \\n T$_s$=1.55 m \\n V$_s$=3.86 m/s',\n",
    "            'strategy 22 \\n T$_s$=1.50 m \\n V$_s$=3.84 m/s',\n",
    "            'strategy 23 \\n T$_s$=1.45 m \\n V$_s$=3.8 m/s',\n",
    "            'strategy 24 \\n T$_s$=1.40 m \\n V$_s$=4.04 m/s',\n",
    "            ]\n",
    "\n",
    "remaining_space.columns =['section 2 (bottleneck)']\n",
    "remaining_space.head(24)"
   ]
  },
  {
   "cell_type": "code",
   "execution_count": null,
   "metadata": {
    "tags": []
   },
   "outputs": [
    {
     "name": "stderr",
     "output_type": "stream",
     "text": [
      "ERROR:root:Internal Python error in the inspect module.\n",
      "Below is the traceback from this internal error.\n",
      "\n"
     ]
    },
    {
     "name": "stdout",
     "output_type": "stream",
     "text": [
      "Traceback (most recent call last):\n",
      "NameError: name 'remaining_space' is not defined\n",
      "\n",
      "During handling of the above exception, another exception occurred:\n",
      "\n",
      "Traceback (most recent call last):\n",
      "AttributeError: 'NameError' object has no attribute '_render_traceback_'\n",
      "\n",
      "During handling of the above exception, another exception occurred:\n",
      "\n",
      "Traceback (most recent call last):\n",
      "AssertionError\n"
     ]
    },
    {
     "name": "stderr",
     "output_type": "stream",
     "text": [
      "ERROR:root:Internal Python error in the inspect module.\n",
      "Below is the traceback from this internal error.\n",
      "\n",
      "ERROR:root:Internal Python error in the inspect module.\n",
      "Below is the traceback from this internal error.\n",
      "\n"
     ]
    },
    {
     "name": "stdout",
     "output_type": "stream",
     "text": [
      "ERROR! Session/line number was not unique in database. History logging moved to new session 1466\n",
      "Traceback (most recent call last):\n",
      "NameError: name 'remaining_space' is not defined\n",
      "\n",
      "During handling of the above exception, another exception occurred:\n",
      "\n",
      "Traceback (most recent call last):\n",
      "AttributeError: 'NameError' object has no attribute '_render_traceback_'\n",
      "\n",
      "During handling of the above exception, another exception occurred:\n",
      "\n",
      "Traceback (most recent call last):\n",
      "TypeError: object of type 'NoneType' has no len()\n",
      "\n",
      "During handling of the above exception, another exception occurred:\n",
      "\n",
      "Traceback (most recent call last):\n",
      "AttributeError: 'TypeError' object has no attribute '_render_traceback_'\n",
      "\n",
      "During handling of the above exception, another exception occurred:\n",
      "\n",
      "Traceback (most recent call last):\n",
      "AssertionError\n",
      "Traceback (most recent call last):\n",
      "NameError: name 'remaining_space' is not defined\n",
      "\n",
      "During handling of the above exception, another exception occurred:\n",
      "\n",
      "Traceback (most recent call last):\n",
      "AttributeError: 'NameError' object has no attribute '_render_traceback_'\n",
      "\n",
      "During handling of the above exception, another exception occurred:\n",
      "\n",
      "Traceback (most recent call last):\n",
      "TypeError: object of type 'NoneType' has no len()\n",
      "\n",
      "During handling of the above exception, another exception occurred:\n",
      "\n",
      "Traceback (most recent call last):\n",
      "AttributeError: 'TypeError' object has no attribute '_render_traceback_'\n",
      "\n",
      "During handling of the above exception, another exception occurred:\n",
      "\n",
      "Traceback (most recent call last):\n",
      "TypeError: object of type 'NoneType' has no len()\n",
      "\n",
      "During handling of the above exception, another exception occurred:\n",
      "\n",
      "Traceback (most recent call last):\n",
      "AttributeError: 'TypeError' object has no attribute '_render_traceback_'\n",
      "\n",
      "During handling of the above exception, another exception occurred:\n",
      "\n",
      "Traceback (most recent call last):\n",
      "AssertionError\n"
     ]
    }
   ],
   "source": [
    "remaining_space_colors=['deepskyblue']\n",
    "remaining_space.plot(kind='bar', stacked=True,color=remaining_space_colors,rot=0, figsize=(28, 5))"
   ]
  },
  {
   "cell_type": "code",
   "execution_count": null,
   "metadata": {
    "jupyter": {
     "source_hidden": true
    },
    "tags": []
   },
   "outputs": [
    {
     "name": "stderr",
     "output_type": "stream",
     "text": [
      "ERROR:root:Internal Python error in the inspect module.\n",
      "Below is the traceback from this internal error.\n",
      "\n",
      "ERROR:root:Internal Python error in the inspect module.\n",
      "Below is the traceback from this internal error.\n",
      "\n",
      "ERROR:root:Internal Python error in the inspect module.\n",
      "Below is the traceback from this internal error.\n",
      "\n"
     ]
    },
    {
     "name": "stdout",
     "output_type": "stream",
     "text": [
      "ERROR! Session/line number was not unique in database. History logging moved to new session 1467\n",
      "Traceback (most recent call last):\n",
      "NameError: name 'fuel' is not defined\n",
      "\n",
      "During handling of the above exception, another exception occurred:\n",
      "\n",
      "Traceback (most recent call last):\n",
      "AttributeError: 'NameError' object has no attribute '_render_traceback_'\n",
      "\n",
      "During handling of the above exception, another exception occurred:\n",
      "\n",
      "Traceback (most recent call last):\n",
      "AssertionError\n",
      "Traceback (most recent call last):\n",
      "NameError: name 'fuel' is not defined\n",
      "\n",
      "During handling of the above exception, another exception occurred:\n",
      "\n",
      "Traceback (most recent call last):\n",
      "AttributeError: 'NameError' object has no attribute '_render_traceback_'\n",
      "\n",
      "During handling of the above exception, another exception occurred:\n",
      "\n",
      "Traceback (most recent call last):\n",
      "TypeError: object of type 'NoneType' has no len()\n",
      "\n",
      "During handling of the above exception, another exception occurred:\n",
      "\n",
      "Traceback (most recent call last):\n",
      "AttributeError: 'TypeError' object has no attribute '_render_traceback_'\n",
      "\n",
      "During handling of the above exception, another exception occurred:\n",
      "\n",
      "Traceback (most recent call last):\n",
      "AssertionError\n",
      "Traceback (most recent call last):\n",
      "NameError: name 'fuel' is not defined\n",
      "\n",
      "During handling of the above exception, another exception occurred:\n",
      "\n",
      "Traceback (most recent call last):\n",
      "AttributeError: 'NameError' object has no attribute '_render_traceback_'\n",
      "\n",
      "During handling of the above exception, another exception occurred:\n",
      "\n",
      "Traceback (most recent call last):\n",
      "TypeError: object of type 'NoneType' has no len()\n",
      "\n",
      "During handling of the above exception, another exception occurred:\n",
      "\n",
      "Traceback (most recent call last):\n",
      "AttributeError: 'TypeError' object has no attribute '_render_traceback_'\n",
      "\n",
      "During handling of the above exception, another exception occurred:\n",
      "\n",
      "Traceback (most recent call last):\n",
      "TypeError: object of type 'NoneType' has no len()\n",
      "\n",
      "During handling of the above exception, another exception occurred:\n",
      "\n",
      "Traceback (most recent call last):\n",
      "AttributeError: 'TypeError' object has no attribute '_render_traceback_'\n",
      "\n",
      "During handling of the above exception, another exception occurred:\n",
      "\n",
      "Traceback (most recent call last):\n",
      "AssertionError\n"
     ]
    },
    {
     "data": {
      "image/png": "[encoded data removed]",
      "text/plain": [
       "<Figure size 2592x3240 with 8 Axes>"
      ]
     },
     "metadata": {
      "needs_background": "light"
     },
     "output_type": "display_data"
    }
   ],
   "source": [
    "fig, axes = plt.subplots(nrows=8, ncols=1,figsize=(36, 45),sharex=True)\n",
    "\n",
    "\n",
    "fuel.plot(ax=axes[0],kind='bar', stacked=True,color=fuel_colors,rot=0)\n",
    "plt.yticks(weight = 'bold', fontsize=12)\n",
    "\n",
    "plt.gca().yaxis.set_major_formatter(StrMethodFormatter('{x:,.2f}'))\n",
    "axes[0].set_ylim(0, 3200)\n",
    "axes[0].set_ylabel('Total fuel use \\n (kg)',fontsize=12,fontweight='bold',labelpad=12)\n",
    "axes[0].annotate('(a)', xy=(23, 3200*7.5/8), fontsize=12,weight = 'bold')\n",
    "axes[0].set_yticklabels(axes[0].get_yticks(), size=12,weight = 'bold')  \n",
    "axes[0].legend(loc='upper left')\n",
    "axes[0].set_title('M8 vessel: L$_s$ = 110 m, B$_s$ = 11.40 m, h$_0$ = 2.5 m')\n",
    "\n",
    "CO2.plot(ax=axes[1],kind='bar', stacked=True,color=CO2_colors,rot=0)\n",
    "axes[1].set_ylim(0, 10000)\n",
    "axes[1].set_ylabel('Total CO2 emission \\n (kg)',fontsize=12,fontweight='bold',labelpad=3)\n",
    "axes[1].set_yticklabels(axes[1].get_yticks(), size=12,weight = 'bold')  \n",
    "axes[1].annotate('(b)', xy=(23, 10000*7.5/8), fontsize=12,weight = 'bold')\n",
    "axes[1].legend(loc='upper left')\n",
    "plt.yticks(weight = 'bold', fontsize=12)\n",
    "plt.gca().yaxis.set_major_formatter(StrMethodFormatter('{x:,.0f}'))\n",
    "\n",
    "PM10.plot(ax=axes[2],kind='bar', stacked=True,color=PM10_colors,rot=0)\n",
    "axes[2].set_ylim(0, 6)\n",
    "axes[2].set_ylabel('Total PM10 emission \\n (kg)',fontsize=12,fontweight='bold',labelpad=25)\n",
    "axes[2].annotate('(c)', xy=(23, 6*7.5/8), fontsize=12,weight = 'bold')\n",
    "axes[2].set_yticklabels(axes[2].get_yticks(), size=12,weight = 'bold')  \n",
    "axes[2].legend(loc='upper left')\n",
    "plt.yticks(weight = 'bold', fontsize=12)\n",
    "plt.gca().yaxis.set_major_formatter(StrMethodFormatter('{x:,.0f}'))\n",
    "\n",
    "NOx.plot(ax=axes[3],kind='bar', stacked=True,color=NOx_colors,rot=0)\n",
    "axes[3].set_ylim(0, 150)\n",
    "axes[3].set_ylabel('Total NOx emission \\n (kg)',fontsize=12,fontweight='bold',labelpad=10)  \n",
    "axes[3].set_yticklabels(axes[3].get_yticks(), size=12,weight = 'bold')  \n",
    "axes[3].annotate('(d)', xy=(23, 150*7.5/8), fontsize=12,weight = 'bold')\n",
    "axes[3].legend(loc='upper left')\n",
    "plt.yticks(weight = 'bold', fontsize=12)\n",
    "plt.gca().yaxis.set_major_formatter(StrMethodFormatter('{x:,.0f}'))\n",
    "\n",
    "Payload.plot(ax=axes[4],kind='bar', stacked=True,color=Payload_colors,rot=0)\n",
    "axes[4].set_ylim(0, 1500)\n",
    "axes[4].set_ylabel('payload \\n (ton)',fontsize=12,fontweight='bold',labelpad=10)  \n",
    "axes[4].set_yticklabels(axes[4].get_yticks(), size=12,weight = 'bold')  \n",
    "axes[4].annotate('(e)', xy=(23, 1500*7.5/8), fontsize=12,weight = 'bold')\n",
    "axes[4].legend(loc='upper left')\n",
    "plt.yticks(weight = 'bold', fontsize=12)\n",
    "plt.gca().yaxis.set_major_formatter(StrMethodFormatter('{x:,.0f}'))\n",
    "\n",
    "duration.plot(ax=axes[5],kind='bar', stacked=True,color=duration_colors,rot=0)\n",
    "axes[5].set_ylim(0, 25)\n",
    "axes[5].set_ylabel('duration \\n (hours)',fontsize=12,fontweight='bold',labelpad=20)  \n",
    "axes[5].set_yticklabels(axes[5].get_yticks(), size=12,weight = 'bold')  \n",
    "axes[5].annotate('(f)', xy=(23, 25*7.5/8), fontsize=12,weight = 'bold')\n",
    "axes[5].legend(loc='upper left')\n",
    "plt.yticks(weight = 'bold', fontsize=12)\n",
    "plt.gca().yaxis.set_major_formatter(StrMethodFormatter('{x:,.0f}'))\n",
    "\n",
    "sinkage_max.plot(ax=axes[6],kind='bar', stacked=True,color=sinkage_max_colors,rot=0)\n",
    "axes[6].set_ylim(0, 10)\n",
    "axes[6].set_ylabel('maximum sinkage \\n (cm)',fontsize=12,fontweight='bold',labelpad=15)  \n",
    "axes[6].set_yticklabels(axes[6].get_yticks(), size=12,weight = 'bold')  \n",
    "axes[6].annotate('(g)', xy=(23, 10*7.5/8), fontsize=12,weight = 'bold')\n",
    "axes[6].legend(loc='upper left')\n",
    "plt.yticks(weight = 'bold', fontsize=12)\n",
    "plt.gca().yaxis.set_major_formatter(StrMethodFormatter('{x:,.2f}'))\n",
    "\n",
    "remaining_space.plot(ax=axes[7],kind='bar', stacked=True,color=remaining_space_colors,rot=0)\n",
    "axes[7].set_ylim(0, 100)\n",
    "axes[7].set_ylabel('remaining_space \\n (cm)',fontsize=12,fontweight='bold',labelpad=5)  \n",
    "axes[7].set_yticklabels(axes[6].get_yticks(), size=12,weight = 'bold')  \n",
    "axes[7].annotate('(h)', xy=(23, 100*7.5/8), fontsize=12,weight = 'bold')\n",
    "axes[7].legend(loc='upper left')\n",
    "plt.yticks(weight = 'bold', fontsize=12)\n",
    "plt.gca().yaxis.set_major_formatter(StrMethodFormatter('{x:,.2f}'))\n",
    "\n",
    "\n",
    "plt.xticks( weight = 'bold', fontsize=12)\n",
    "plt.savefig('Strategies with v_max for passing bottleneck.png',bbox_inches = 'tight', dpi=600, format='png')  \n",
    "plt.savefig('Strategies with v_max for passing bottleneck.pdf',bbox_inches = 'tight', dpi=600, format='pdf')  \n",
    "plt.show()"
   ]
  },
  {
   "cell_type": "markdown",
   "metadata": {},
   "source": [
    "### Define and Run \"T_v_strategy_energy_simulation_whole3\" for passing whole 3 sections (h_0: 6, 2.5, 6) with selected strategies (T_strategy = 2.1 m, v_strategy = [3, 3.5] m/s)"
   ]
  },
  {
   "cell_type": "code",
   "execution_count": 24,
   "metadata": {},
   "outputs": [
    {
     "name": "stdout",
     "output_type": "stream",
     "text": [
      "ERROR! Session/line number was not unique in database. History logging moved to new session 1468\n"
     ]
    }
   ],
   "source": [
    "def T_v_strategy_energy_simulation_whole3(v_strategy, T_strategy):\n",
    "    \n",
    "    # Start simpy environment\n",
    "    simulation_start = datetime.datetime.now()\n",
    "    env = simpy.Environment(initial_time = time.mktime(simulation_start.timetuple()))\n",
    "    env.epoch = time.mktime(simulation_start.timetuple())\n",
    "\n",
    "    # Add graph to environment\n",
    "    env.FG = FG\n",
    "\n",
    "    # Add environment and path to the vessel\n",
    "    # create a fresh instance of vessel\n",
    "    vessel = TransportResource(**data_vessel)\n",
    "    vessel.env = env                                        #the created environment\n",
    "    vessel.name = 'Vessel No.1'                     \n",
    "    vessel.route = path                #the route (the sequence of nodes, as stored as the second column in the path)\n",
    "    vessel.geometry = env.FG.nodes[path[0]]['geometry']     #a shapely.geometry.Point(lon,lat) (here taken as the starting node of the vessel)\n",
    "    vessel._T = T_strategy\n",
    "    vessel.v = v_strategy\n",
    "    \n",
    "\n",
    "    #vessel.P_tot_given = P_tot_given\n",
    "    #vessel.h_0 = vessel.h_0 - ((vessel.C_B * ((vessel.B * vessel._T) / (150 * vessel.h_0)) ** 0.81) * (vessel.v ** 2.08) / 20)\n",
    "    # Start the simulation\n",
    "    env.process(vessel.move())\n",
    "    env.run()\n",
    "#    print(vessel.h_0)\n",
    "    return vessel"
   ]
  },
  {
   "cell_type": "code",
   "execution_count": 25,
   "metadata": {},
   "outputs": [],
   "source": [
    "T_strategy_n10 = [2.1] \n",
    "v_strategy_n10 = [3, 3.5]\n",
    "\n"
   ]
  },
  {
   "cell_type": "code",
   "execution_count": 26,
   "metadata": {},
   "outputs": [],
   "source": [
    "vessel1= T_v_strategy_energy_simulation_whole3(3, 2.1)"
   ]
  },
  {
   "cell_type": "code",
   "execution_count": null,
   "metadata": {},
   "outputs": [
    {
     "name": "stderr",
     "output_type": "stream",
     "text": [
      "ERROR:root:Internal Python error in the inspect module.\n",
      "Below is the traceback from this internal error.\n",
      "\n",
      "ERROR:root:Internal Python error in the inspect module.\n",
      "Below is the traceback from this internal error.\n",
      "\n",
      "ERROR:root:Internal Python error in the inspect module.\n",
      "Below is the traceback from this internal error.\n",
      "\n"
     ]
    },
    {
     "name": "stdout",
     "output_type": "stream",
     "text": [
      "Traceback (most recent call last):\n",
      "NameError: name 'T_v_Strategies_df' is not defined\n",
      "\n",
      "During handling of the above exception, another exception occurred:\n",
      "\n",
      "Traceback (most recent call last):\n",
      "AttributeError: 'NameError' object has no attribute '_render_traceback_'\n",
      "\n",
      "During handling of the above exception, another exception occurred:\n",
      "\n",
      "Traceback (most recent call last):\n",
      "AssertionError\n",
      "Traceback (most recent call last):\n",
      "NameError: name 'T_v_Strategies_df' is not defined\n",
      "\n",
      "During handling of the above exception, another exception occurred:\n",
      "\n",
      "Traceback (most recent call last):\n",
      "AttributeError: 'NameError' object has no attribute '_render_traceback_'\n",
      "\n",
      "During handling of the above exception, another exception occurred:\n",
      "\n",
      "Traceback (most recent call last):\n",
      "TypeError: object of type 'NoneType' has no len()\n",
      "\n",
      "During handling of the above exception, another exception occurred:\n",
      "\n",
      "Traceback (most recent call last):\n",
      "AttributeError: 'TypeError' object has no attribute '_render_traceback_'\n",
      "\n",
      "During handling of the above exception, another exception occurred:\n",
      "\n",
      "Traceback (most recent call last):\n",
      "AssertionError\n",
      "Traceback (most recent call last):\n",
      "NameError: name 'T_v_Strategies_df' is not defined\n",
      "\n",
      "During handling of the above exception, another exception occurred:\n",
      "\n",
      "Traceback (most recent call last):\n",
      "AttributeError: 'NameError' object has no attribute '_render_traceback_'\n",
      "\n",
      "During handling of the above exception, another exception occurred:\n",
      "\n",
      "Traceback (most recent call last):\n",
      "TypeError: object of type 'NoneType' has no len()\n",
      "\n",
      "During handling of the above exception, another exception occurred:\n",
      "\n",
      "Traceback (most recent call last):\n",
      "AttributeError: 'TypeError' object has no attribute '_render_traceback_'\n",
      "\n",
      "During handling of the above exception, another exception occurred:\n",
      "\n",
      "Traceback (most recent call last):\n",
      "TypeError: object of type 'NoneType' has no len()\n",
      "\n",
      "During handling of the above exception, another exception occurred:\n",
      "\n",
      "Traceback (most recent call last):\n",
      "AttributeError: 'TypeError' object has no attribute '_render_traceback_'\n",
      "\n",
      "During handling of the above exception, another exception occurred:\n",
      "\n",
      "Traceback (most recent call last):\n",
      "AssertionError\n"
     ]
    }
   ],
   "source": [
    "df_collect = {}\n",
    "sinkage_max = {}\n",
    "\n",
    "\n",
    "for i, row in tqdm.tqdm(T_v_Strategies_df.iterrows()):\n",
    "    # create a new vessel, like the one above (so that it also has L)   \n",
    "    \n",
    "    v_strategy = row['v_strategy']\n",
    "    T_strategy = row['T_strategy']\n",
    "    \n",
    "    data_vessel_i = data_vessel.copy()\n",
    "    vessel = TransportResource(**data_vessel_i)\n",
    "    vessel=  run_simulation(v_strategy, T_strategy)\n",
    "    # z = (vessel.C_B * ((vessel.B * vessel.T) / (150 * vessel.h_min)) ** 0.81) * (v_computed ** 2.08) / 20\n",
    "  \n",
    "\n",
    "    # sinkage_max = z\n",
    "\n",
    "    #create an EnergyCalculation object and perform energy consumption calculation\n",
    "    energycalculation = opentnsim.energy.EnergyCalculation(FG, vessel)\n",
    "    energycalculation.calculate_energy_consumption()\n",
    "    #P_tot = vessel.calculate_total_power_required(v_computed)\n",
    "    \n",
    "    # create dataframe from energy calculation computation\n",
    "    \n",
    "    df = pd.DataFrame.from_dict(energycalculation.energy_use)\n",
    "    df.update(row)\n",
    "    \n",
    "    # add/modify some comlums to suit our plotting needs\n",
    "    # df['P_tot'] = P_tot\n",
    "    df['fuel_kg_bottleneck'] = df['total_fuel_consumption']/1000   # g --> kg\n",
    "    df['CO2_kg_bottleneck']   = df['total_emission_CO2']/1000\n",
    "    df['PM10_kg_bottleneck']  = df['total_emission_PM10']/1000\n",
    "    df['NOx_kg_bottleneck']   = df['total_emission_NOX']/1000\n",
    "    df['duration_hrs_bottleneck'] = df['delta_t'] /3600  # s--> hour\n",
    "    # df['sinkage_max_m_bottleneck'] = sinkage_max\n",
    "    # df['Payload_strategy_ton_bottleneck'] = Payload_strategy\n",
    "    \n",
    "    \n",
    "    label = 'T_strategy = ' + str(T_strategy) + ' v_strategy = ' + str(round(v_strategy,2))\n",
    "    \n",
    "    df_collect[label + ' P_tot']   = list(df.P_tot[[0]])\n",
    "    df_collect[label + ' P_installed'] = list(df.P_installed[[0]])\n",
    "    df_collect[label + ' duration_hrs_bottleneck']   = list(df.duration_hrs_bottleneck[[0]])\n",
    "    df_collect[label + ' fuel_kg_bottleneck']   = list(df.fuel_kg_bottleneck[[0]])\n",
    "    df_collect[label + ' CO2_kg_bottleneck'] = list(df.CO2_kg_bottleneck[[0]])\n",
    "    df_collect[label + ' PM10_kg_bottleneck']   = list(df.PM10_kg_bottleneck[[0]])\n",
    "    df_collect[label + ' NOx_kg_bottleneck']   = list(df.NOx_kg_bottleneck[[0]])\n",
    "    # df_collect[label + ' sinkage_max_m_bottleneck']   = list(df.sinkage_max_m_bottleneck[[0]])\n",
    "\n",
    "    # df_output['T_strategy']   = list(Strategies_df.T_strategy[0:17])\n",
    "    # df_output['v_computed']   = list(Strategies_df.v_computed[0:17])\n",
    "    # df_output['P_tot']   = list(df.P_tot[[0]])\n",
    "    # df_output[' P_installed'] = list(df.P_installed[[0]])\n",
    "    # df_output[' duration_hrs_bottleneck']   = list(df.duration_hrs_bottleneck[[0]])\n",
    "    # df_output[' fuel_kg_bottleneck']   = list(df.fuel_kg_bottleneck[[0]])\n",
    "    # df_output[' CO2_g_bottleneck'] = list(df.CO2_g_bottleneck[[0]])\n",
    "    # df_output[' PM10_g_bottleneck']   = list(df.PM10_g_bottleneck[[0]])\n",
    "    # df_output[' NOx_g_bottleneck']   = list(df.NOx_g_bottleneck[[0]])\n",
    "\n",
    "    \n"
   ]
  },
  {
   "cell_type": "code",
   "execution_count": null,
   "metadata": {},
   "outputs": [],
   "source": []
  },
  {
   "cell_type": "code",
   "execution_count": 27,
   "metadata": {
    "tags": []
   },
   "outputs": [
    {
     "data": {
      "text/plain": [
       "{}"
      ]
     },
     "execution_count": 27,
     "metadata": {},
     "output_type": "execute_result"
    }
   ],
   "source": [
    "df_collect"
   ]
  },
  {
   "cell_type": "markdown",
   "metadata": {},
   "source": [
    "### Visulization of Stratigies for passing bottleneck section"
   ]
  },
  {
   "cell_type": "markdown",
   "metadata": {},
   "source": [
    "#### Organizing data for visulization "
   ]
  },
  {
   "cell_type": "code",
   "execution_count": 28,
   "metadata": {},
   "outputs": [
    {
     "name": "stdout",
     "output_type": "stream",
     "text": [
      "ERROR! Session/line number was not unique in database. History logging moved to new session 1469\n"
     ]
    },
    {
     "data": {
      "text/html": [
       "<div>\n",
       "<style scoped>\n",
       "    .dataframe tbody tr th:only-of-type {\n",
       "        vertical-align: middle;\n",
       "    }\n",
       "\n",
       "    .dataframe tbody tr th {\n",
       "        vertical-align: top;\n",
       "    }\n",
       "\n",
       "    .dataframe thead th {\n",
       "        text-align: right;\n",
       "    }\n",
       "</style>\n",
       "<table border=\"1\" class=\"dataframe\">\n",
       "  <thead>\n",
       "    <tr style=\"text-align: right;\">\n",
       "      <th></th>\n",
       "    </tr>\n",
       "  </thead>\n",
       "  <tbody>\n",
       "  </tbody>\n",
       "</table>\n",
       "</div>"
      ],
      "text/plain": [
       "Empty DataFrame\n",
       "Columns: []\n",
       "Index: []"
      ]
     },
     "execution_count": 28,
     "metadata": {},
     "output_type": "execute_result"
    }
   ],
   "source": [
    "df_plot = pd.DataFrame( df_collect )\n",
    "df_plot"
   ]
  },
  {
   "cell_type": "code",
   "execution_count": null,
   "metadata": {
    "tags": []
   },
   "outputs": [
    {
     "name": "stderr",
     "output_type": "stream",
     "text": [
      "ERROR:root:Internal Python error in the inspect module.\n",
      "Below is the traceback from this internal error.\n",
      "\n",
      "ERROR:root:Internal Python error in the inspect module.\n",
      "Below is the traceback from this internal error.\n",
      "\n",
      "ERROR:root:Internal Python error in the inspect module.\n",
      "Below is the traceback from this internal error.\n",
      "\n"
     ]
    },
    {
     "name": "stdout",
     "output_type": "stream",
     "text": [
      "Traceback (most recent call last):\n",
      "KeyError: \"None of [Index(['T_strategy = 2.15 v_computed = 1.4 fuel_kg_bottleneck',\\n       'T_strategy = 2.1 v_computed = 2.0 fuel_kg_bottleneck',\\n       'T_strategy = 2.05 v_computed = 2.46 fuel_kg_bottleneck',\\n       'T_strategy = 2.0 v_computed = 2.86 fuel_kg_bottleneck',\\n       'T_strategy = 1.95 v_computed = 3.22 fuel_kg_bottleneck',\\n       'T_strategy = 1.9 v_computed = 3.54 fuel_kg_bottleneck',\\n       'T_strategy = 1.85 v_computed = 3.85 fuel_kg_bottleneck'],\\n      dtype='object')] are in the [columns]\"\n",
      "\n",
      "During handling of the above exception, another exception occurred:\n",
      "\n",
      "Traceback (most recent call last):\n",
      "AttributeError: 'KeyError' object has no attribute '_render_traceback_'\n",
      "\n",
      "During handling of the above exception, another exception occurred:\n",
      "\n",
      "Traceback (most recent call last):\n",
      "AssertionError\n",
      "Traceback (most recent call last):\n",
      "KeyError: \"None of [Index(['T_strategy = 2.15 v_computed = 1.4 fuel_kg_bottleneck',\\n       'T_strategy = 2.1 v_computed = 2.0 fuel_kg_bottleneck',\\n       'T_strategy = 2.05 v_computed = 2.46 fuel_kg_bottleneck',\\n       'T_strategy = 2.0 v_computed = 2.86 fuel_kg_bottleneck',\\n       'T_strategy = 1.95 v_computed = 3.22 fuel_kg_bottleneck',\\n       'T_strategy = 1.9 v_computed = 3.54 fuel_kg_bottleneck',\\n       'T_strategy = 1.85 v_computed = 3.85 fuel_kg_bottleneck'],\\n      dtype='object')] are in the [columns]\"\n",
      "\n",
      "During handling of the above exception, another exception occurred:\n",
      "\n",
      "Traceback (most recent call last):\n",
      "AttributeError: 'KeyError' object has no attribute '_render_traceback_'\n",
      "\n",
      "During handling of the above exception, another exception occurred:\n",
      "\n",
      "Traceback (most recent call last):\n",
      "TypeError: object of type 'NoneType' has no len()\n",
      "\n",
      "During handling of the above exception, another exception occurred:\n",
      "\n",
      "Traceback (most recent call last):\n",
      "AttributeError: 'TypeError' object has no attribute '_render_traceback_'\n",
      "\n",
      "During handling of the above exception, another exception occurred:\n",
      "\n",
      "Traceback (most recent call last):\n",
      "AssertionError\n",
      "Traceback (most recent call last):\n",
      "KeyError: \"None of [Index(['T_strategy = 2.15 v_computed = 1.4 fuel_kg_bottleneck',\\n       'T_strategy = 2.1 v_computed = 2.0 fuel_kg_bottleneck',\\n       'T_strategy = 2.05 v_computed = 2.46 fuel_kg_bottleneck',\\n       'T_strategy = 2.0 v_computed = 2.86 fuel_kg_bottleneck',\\n       'T_strategy = 1.95 v_computed = 3.22 fuel_kg_bottleneck',\\n       'T_strategy = 1.9 v_computed = 3.54 fuel_kg_bottleneck',\\n       'T_strategy = 1.85 v_computed = 3.85 fuel_kg_bottleneck'],\\n      dtype='object')] are in the [columns]\"\n",
      "\n",
      "During handling of the above exception, another exception occurred:\n",
      "\n",
      "Traceback (most recent call last):\n",
      "AttributeError: 'KeyError' object has no attribute '_render_traceback_'\n",
      "\n",
      "During handling of the above exception, another exception occurred:\n",
      "\n",
      "Traceback (most recent call last):\n",
      "TypeError: object of type 'NoneType' has no len()\n",
      "\n",
      "During handling of the above exception, another exception occurred:\n",
      "\n",
      "Traceback (most recent call last):\n",
      "AttributeError: 'TypeError' object has no attribute '_render_traceback_'\n",
      "\n",
      "During handling of the above exception, another exception occurred:\n",
      "\n",
      "Traceback (most recent call last):\n",
      "TypeError: object of type 'NoneType' has no len()\n",
      "\n",
      "During handling of the above exception, another exception occurred:\n",
      "\n",
      "Traceback (most recent call last):\n",
      "AttributeError: 'TypeError' object has no attribute '_render_traceback_'\n",
      "\n",
      "During handling of the above exception, another exception occurred:\n",
      "\n",
      "Traceback (most recent call last):\n",
      "AssertionError\n"
     ]
    }
   ],
   "source": [
    "fuel=df_plot[['T_strategy = 2.15 v_computed = 1.4 fuel_kg_bottleneck',\n",
    "              'T_strategy = 2.1 v_computed = 2.0 fuel_kg_bottleneck',\n",
    "              'T_strategy = 2.05 v_computed = 2.46 fuel_kg_bottleneck', \n",
    "              'T_strategy = 2.0 v_computed = 2.86 fuel_kg_bottleneck',\n",
    "              'T_strategy = 1.95 v_computed = 3.22 fuel_kg_bottleneck',\n",
    "              'T_strategy = 1.9 v_computed = 3.54 fuel_kg_bottleneck',\n",
    "              'T_strategy = 1.85 v_computed = 3.85 fuel_kg_bottleneck']].T\n",
    "\n",
    "fuel.index=['strategy 1 \\n T$_s$=2.15 m \\n V$_s$=1.4 m/s', \n",
    "            'strategy 2 \\n T$_s$=2.10 m \\n V$_s$=2.0 m/s',\n",
    "            'strategy 3 \\n T$_s$=2.05 m \\n V$_s$=2.5 m/s',\n",
    "            'strategy 4 \\n T$_s$=2.00 m \\n V$_s$=2.9 m/s',\n",
    "            'strategy 5 \\n T$_s$=1.95 m \\n V$_s$=3.2 m/s',\n",
    "            'strategy 6 \\n T$_s$=1.90 m \\n V$_s$=3.5 m/s',\n",
    "            'strategy 7 \\n T$_s$=1.85 m \\n V$_s$=3.8 m/s',]\n",
    "\n",
    "fuel.columns =['section 2 (bottleneck)']\n",
    "fuel.head(7)"
   ]
  },
  {
   "cell_type": "code",
   "execution_count": null,
   "metadata": {},
   "outputs": [
    {
     "name": "stderr",
     "output_type": "stream",
     "text": [
      "ERROR:root:Internal Python error in the inspect module.\n",
      "Below is the traceback from this internal error.\n",
      "\n",
      "ERROR:root:Internal Python error in the inspect module.\n",
      "Below is the traceback from this internal error.\n",
      "\n"
     ]
    },
    {
     "name": "stdout",
     "output_type": "stream",
     "text": [
      "Traceback (most recent call last):\n",
      "NameError: name 'fuel' is not defined\n",
      "\n",
      "During handling of the above exception, another exception occurred:\n",
      "\n",
      "Traceback (most recent call last):\n",
      "AttributeError: 'NameError' object has no attribute '_render_traceback_'\n",
      "\n",
      "During handling of the above exception, another exception occurred:\n",
      "\n",
      "Traceback (most recent call last):\n",
      "AssertionError\n",
      "Traceback (most recent call last):\n",
      "NameError: name 'fuel' is not defined\n",
      "\n",
      "During handling of the above exception, another exception occurred:\n",
      "\n",
      "Traceback (most recent call last):\n",
      "AttributeError: 'NameError' object has no attribute '_render_traceback_'\n",
      "\n",
      "During handling of the above exception, another exception occurred:\n",
      "\n",
      "Traceback (most recent call last):\n",
      "TypeError: object of type 'NoneType' has no len()\n",
      "\n",
      "During handling of the above exception, another exception occurred:\n",
      "\n",
      "Traceback (most recent call last):\n",
      "AttributeError: 'TypeError' object has no attribute '_render_traceback_'\n",
      "\n",
      "During handling of the above exception, another exception occurred:\n",
      "\n",
      "Traceback (most recent call last):\n"
     ]
    },
    {
     "name": "stderr",
     "output_type": "stream",
     "text": [
      "ERROR:root:Internal Python error in the inspect module.\n",
      "Below is the traceback from this internal error.\n",
      "\n"
     ]
    },
    {
     "name": "stdout",
     "output_type": "stream",
     "text": [
      "AssertionError\n",
      "ERROR! Session/line number was not unique in database. History logging moved to new session 1470\n",
      "Traceback (most recent call last):\n",
      "NameError: name 'fuel' is not defined\n",
      "\n",
      "During handling of the above exception, another exception occurred:\n",
      "\n",
      "Traceback (most recent call last):\n",
      "AttributeError: 'NameError' object has no attribute '_render_traceback_'\n",
      "\n",
      "During handling of the above exception, another exception occurred:\n",
      "\n",
      "Traceback (most recent call last):\n",
      "TypeError: object of type 'NoneType' has no len()\n",
      "\n",
      "During handling of the above exception, another exception occurred:\n",
      "\n",
      "Traceback (most recent call last):\n",
      "AttributeError: 'TypeError' object has no attribute '_render_traceback_'\n",
      "\n",
      "During handling of the above exception, another exception occurred:\n",
      "\n",
      "Traceback (most recent call last):\n",
      "TypeError: object of type 'NoneType' has no len()\n",
      "\n",
      "During handling of the above exception, another exception occurred:\n",
      "\n",
      "Traceback (most recent call last):\n",
      "AttributeError: 'TypeError' object has no attribute '_render_traceback_'\n",
      "\n",
      "During handling of the above exception, another exception occurred:\n",
      "\n",
      "Traceback (most recent call last):\n",
      "AssertionError\n"
     ]
    }
   ],
   "source": [
    "fuel_colors=['#bf9005']\n",
    "fuel.plot(kind='bar',stacked=True,color=fuel_colors,rot=0, figsize=(10, 3))"
   ]
  },
  {
   "cell_type": "code",
   "execution_count": null,
   "metadata": {},
   "outputs": [
    {
     "name": "stderr",
     "output_type": "stream",
     "text": [
      "ERROR:root:Internal Python error in the inspect module.\n",
      "Below is the traceback from this internal error.\n",
      "\n",
      "ERROR:root:Internal Python error in the inspect module.\n",
      "Below is the traceback from this internal error.\n",
      "\n"
     ]
    },
    {
     "name": "stdout",
     "output_type": "stream",
     "text": [
      "Traceback (most recent call last):\n",
      "KeyError: \"None of [Index(['T_strategy = 2.15 v_computed = 1.4 CO2_kg_bottleneck',\\n       'T_strategy = 2.1 v_computed = 2.0 CO2_kg_bottleneck',\\n       'T_strategy = 2.05 v_computed = 2.46 CO2_kg_bottleneck',\\n       'T_strategy = 2.0 v_computed = 2.86 CO2_kg_bottleneck',\\n       'T_strategy = 1.95 v_computed = 3.22 CO2_kg_bottleneck',\\n       'T_strategy = 1.9 v_computed = 3.54 CO2_kg_bottleneck',\\n       'T_strategy = 1.85 v_computed = 3.85 CO2_kg_bottleneck'],\\n      dtype='object')] are in the [columns]\"\n",
      "\n",
      "During handling of the above exception, another exception occurred:\n",
      "\n",
      "Traceback (most recent call last):\n",
      "AttributeError: 'KeyError' object has no attribute '_render_traceback_'\n",
      "\n",
      "During handling of the above exception, another exception occurred:\n",
      "\n",
      "Traceback (most recent call last):\n",
      "AssertionError\n",
      "ERROR! Session/line number was not unique in database. History logging moved to new session 1471\n",
      "Traceback (most recent call last):\n",
      "KeyError: \"None of [Index(['T_strategy = 2.15 v_computed = 1.4 CO2_kg_bottleneck',\\n       'T_strategy = 2.1 v_computed = 2.0 CO2_kg_bottleneck',\\n       'T_strategy = 2.05 v_computed = 2.46 CO2_kg_bottleneck',\\n       'T_strategy = 2.0 v_computed = 2.86 CO2_kg_bottleneck',\\n       'T_strategy = 1.95 v_computed = 3.22 CO2_kg_bottleneck',\\n       'T_strategy = 1.9 v_computed = 3.54 CO2_kg_bottleneck',\\n       'T_strategy = 1.85 v_computed = 3.85 CO2_kg_bottleneck'],\\n      dtype='object')] are in the [columns]\"\n",
      "\n",
      "During handling of the above exception, another exception occurred:\n",
      "\n",
      "Traceback (most recent call last):\n",
      "AttributeError: 'KeyError' object has no attribute '_render_traceback_'\n",
      "\n",
      "During handling of the above exception, another exception occurred:\n",
      "\n"
     ]
    },
    {
     "name": "stderr",
     "output_type": "stream",
     "text": [
      "ERROR:root:Internal Python error in the inspect module.\n",
      "Below is the traceback from this internal error.\n",
      "\n"
     ]
    },
    {
     "name": "stdout",
     "output_type": "stream",
     "text": [
      "Traceback (most recent call last):\n",
      "TypeError: object of type 'NoneType' has no len()\n",
      "\n",
      "During handling of the above exception, another exception occurred:\n",
      "\n",
      "Traceback (most recent call last):\n",
      "AttributeError: 'TypeError' object has no attribute '_render_traceback_'\n",
      "\n",
      "During handling of the above exception, another exception occurred:\n",
      "\n",
      "Traceback (most recent call last):\n",
      "AssertionError\n",
      "Traceback (most recent call last):\n",
      "KeyError: \"None of [Index(['T_strategy = 2.15 v_computed = 1.4 CO2_kg_bottleneck',\\n       'T_strategy = 2.1 v_computed = 2.0 CO2_kg_bottleneck',\\n       'T_strategy = 2.05 v_computed = 2.46 CO2_kg_bottleneck',\\n       'T_strategy = 2.0 v_computed = 2.86 CO2_kg_bottleneck',\\n       'T_strategy = 1.95 v_computed = 3.22 CO2_kg_bottleneck',\\n       'T_strategy = 1.9 v_computed = 3.54 CO2_kg_bottleneck',\\n       'T_strategy = 1.85 v_computed = 3.85 CO2_kg_bottleneck'],\\n      dtype='object')] are in the [columns]\"\n",
      "\n",
      "During handling of the above exception, another exception occurred:\n",
      "\n",
      "Traceback (most recent call last):\n",
      "AttributeError: 'KeyError' object has no attribute '_render_traceback_'\n",
      "\n",
      "During handling of the above exception, another exception occurred:\n",
      "\n",
      "Traceback (most recent call last):\n",
      "TypeError: object of type 'NoneType' has no len()\n",
      "\n",
      "During handling of the above exception, another exception occurred:\n",
      "\n",
      "Traceback (most recent call last):\n",
      "AttributeError: 'TypeError' object has no attribute '_render_traceback_'\n",
      "\n",
      "During handling of the above exception, another exception occurred:\n",
      "\n",
      "Traceback (most recent call last):\n",
      "TypeError: object of type 'NoneType' has no len()\n",
      "\n",
      "During handling of the above exception, another exception occurred:\n",
      "\n",
      "Traceback (most recent call last):\n",
      "AttributeError: 'TypeError' object has no attribute '_render_traceback_'\n",
      "\n",
      "During handling of the above exception, another exception occurred:\n",
      "\n",
      "Traceback (most recent call last):\n",
      "AssertionError\n"
     ]
    }
   ],
   "source": [
    "CO2=df_plot[[ 'T_strategy = 2.15 v_computed = 1.4 CO2_kg_bottleneck',\n",
    "              'T_strategy = 2.1 v_computed = 2.0 CO2_kg_bottleneck',\n",
    "              'T_strategy = 2.05 v_computed = 2.46 CO2_kg_bottleneck', \n",
    "              'T_strategy = 2.0 v_computed = 2.86 CO2_kg_bottleneck',\n",
    "              'T_strategy = 1.95 v_computed = 3.22 CO2_kg_bottleneck',\n",
    "              'T_strategy = 1.9 v_computed = 3.54 CO2_kg_bottleneck',\n",
    "              'T_strategy = 1.85 v_computed = 3.85 CO2_kg_bottleneck']].T\n",
    "\n",
    "CO2.index=[ 'strategy 1 \\n T$_s$=2.15 m \\n V$_s$=1.4 m/s', \n",
    "            'strategy 2 \\n T$_s$=2.10 m \\n V$_s$=2.0 m/s',\n",
    "            'strategy 3 \\n T$_s$=2.05 m \\n V$_s$=2.5 m/s',\n",
    "            'strategy 4 \\n T$_s$=2.00 m \\n V$_s$=2.9 m/s',\n",
    "            'strategy 5 \\n T$_s$=1.95 m \\n V$_s$=3.2 m/s',\n",
    "            'strategy 6 \\n T$_s$=1.90 m \\n V$_s$=3.5 m/s',\n",
    "            'strategy 7 \\n T$_s$=1.85 m \\n V$_s$=3.8 m/s',]\n",
    "\n",
    "CO2.columns =['section 2 (bottleneck)']\n",
    "CO2.head(7)"
   ]
  },
  {
   "cell_type": "code",
   "execution_count": null,
   "metadata": {},
   "outputs": [
    {
     "name": "stderr",
     "output_type": "stream",
     "text": [
      "ERROR:root:Internal Python error in the inspect module.\n",
      "Below is the traceback from this internal error.\n",
      "\n"
     ]
    },
    {
     "name": "stdout",
     "output_type": "stream",
     "text": [
      "Traceback (most recent call last):\n",
      "NameError: name 'CO2' is not defined\n",
      "\n",
      "During handling of the above exception, another exception occurred:\n",
      "\n",
      "Traceback (most recent call last):\n",
      "AttributeError: 'NameError' object has no attribute '_render_traceback_'\n",
      "\n",
      "During handling of the above exception, another exception occurred:\n",
      "\n",
      "Traceback (most recent call last):\n",
      "AssertionError\n"
     ]
    },
    {
     "name": "stderr",
     "output_type": "stream",
     "text": [
      "ERROR:root:Internal Python error in the inspect module.\n",
      "Below is the traceback from this internal error.\n",
      "\n",
      "ERROR:root:Internal Python error in the inspect module.\n",
      "Below is the traceback from this internal error.\n",
      "\n"
     ]
    },
    {
     "name": "stdout",
     "output_type": "stream",
     "text": [
      "Traceback (most recent call last):\n",
      "NameError: name 'CO2' is not defined\n",
      "\n",
      "During handling of the above exception, another exception occurred:\n",
      "\n",
      "Traceback (most recent call last):\n",
      "AttributeError: 'NameError' object has no attribute '_render_traceback_'\n",
      "\n",
      "During handling of the above exception, another exception occurred:\n",
      "\n",
      "Traceback (most recent call last):\n",
      "TypeError: object of type 'NoneType' has no len()\n",
      "\n",
      "During handling of the above exception, another exception occurred:\n",
      "\n",
      "Traceback (most recent call last):\n",
      "AttributeError: 'TypeError' object has no attribute '_render_traceback_'\n",
      "\n",
      "During handling of the above exception, another exception occurred:\n",
      "\n",
      "Traceback (most recent call last):\n",
      "AssertionError\n",
      "ERROR! Session/line number was not unique in database. History logging moved to new session 1472\n",
      "Traceback (most recent call last):\n",
      "NameError: name 'CO2' is not defined\n",
      "\n",
      "During handling of the above exception, another exception occurred:\n",
      "\n",
      "Traceback (most recent call last):\n",
      "AttributeError: 'NameError' object has no attribute '_render_traceback_'\n",
      "\n",
      "During handling of the above exception, another exception occurred:\n",
      "\n",
      "Traceback (most recent call last):\n",
      "TypeError: object of type 'NoneType' has no len()\n",
      "\n",
      "During handling of the above exception, another exception occurred:\n",
      "\n",
      "Traceback (most recent call last):\n",
      "AttributeError: 'TypeError' object has no attribute '_render_traceback_'\n",
      "\n",
      "During handling of the above exception, another exception occurred:\n",
      "\n",
      "Traceback (most recent call last):\n",
      "TypeError: object of type 'NoneType' has no len()\n",
      "\n",
      "During handling of the above exception, another exception occurred:\n",
      "\n",
      "Traceback (most recent call last):\n",
      "AttributeError: 'TypeError' object has no attribute '_render_traceback_'\n",
      "\n",
      "During handling of the above exception, another exception occurred:\n",
      "\n",
      "Traceback (most recent call last):\n",
      "AssertionError\n"
     ]
    }
   ],
   "source": [
    "CO2_colors=['orange']\n",
    "CO2.plot(kind='bar', stacked=True,color=CO2_colors,rot=0, figsize=(10, 3))"
   ]
  },
  {
   "cell_type": "code",
   "execution_count": null,
   "metadata": {},
   "outputs": [
    {
     "name": "stderr",
     "output_type": "stream",
     "text": [
      "ERROR:root:Internal Python error in the inspect module.\n",
      "Below is the traceback from this internal error.\n",
      "\n",
      "ERROR:root:Internal Python error in the inspect module.\n",
      "Below is the traceback from this internal error.\n",
      "\n",
      "ERROR:root:Internal Python error in the inspect module.\n",
      "Below is the traceback from this internal error.\n",
      "\n"
     ]
    },
    {
     "name": "stdout",
     "output_type": "stream",
     "text": [
      "Traceback (most recent call last):\n",
      "KeyError: \"None of [Index(['T_strategy = 2.15 v_computed = 1.4 PM10_kg_bottleneck',\\n       'T_strategy = 2.1 v_computed = 2.0 PM10_kg_bottleneck',\\n       'T_strategy = 2.05 v_computed = 2.46 PM10_kg_bottleneck',\\n       'T_strategy = 2.0 v_computed = 2.86 PM10_kg_bottleneck',\\n       'T_strategy = 1.95 v_computed = 3.22 PM10_kg_bottleneck',\\n       'T_strategy = 1.9 v_computed = 3.54 PM10_kg_bottleneck',\\n       'T_strategy = 1.85 v_computed = 3.85 PM10_kg_bottleneck'],\\n      dtype='object')] are in the [columns]\"\n",
      "\n",
      "During handling of the above exception, another exception occurred:\n",
      "\n",
      "Traceback (most recent call last):\n",
      "AttributeError: 'KeyError' object has no attribute '_render_traceback_'\n",
      "\n",
      "During handling of the above exception, another exception occurred:\n",
      "\n",
      "Traceback (most recent call last):\n",
      "AssertionError\n",
      "ERROR! Session/line number was not unique in database. History logging moved to new session 1473\n",
      "Traceback (most recent call last):\n",
      "KeyError: \"None of [Index(['T_strategy = 2.15 v_computed = 1.4 PM10_kg_bottleneck',\\n       'T_strategy = 2.1 v_computed = 2.0 PM10_kg_bottleneck',\\n       'T_strategy = 2.05 v_computed = 2.46 PM10_kg_bottleneck',\\n       'T_strategy = 2.0 v_computed = 2.86 PM10_kg_bottleneck',\\n       'T_strategy = 1.95 v_computed = 3.22 PM10_kg_bottleneck',\\n       'T_strategy = 1.9 v_computed = 3.54 PM10_kg_bottleneck',\\n       'T_strategy = 1.85 v_computed = 3.85 PM10_kg_bottleneck'],\\n      dtype='object')] are in the [columns]\"\n",
      "\n",
      "During handling of the above exception, another exception occurred:\n",
      "\n",
      "Traceback (most recent call last):\n",
      "AttributeError: 'KeyError' object has no attribute '_render_traceback_'\n",
      "\n",
      "During handling of the above exception, another exception occurred:\n",
      "\n",
      "Traceback (most recent call last):\n",
      "TypeError: object of type 'NoneType' has no len()\n",
      "\n",
      "During handling of the above exception, another exception occurred:\n",
      "\n",
      "Traceback (most recent call last):\n",
      "AttributeError: 'TypeError' object has no attribute '_render_traceback_'\n",
      "\n",
      "During handling of the above exception, another exception occurred:\n",
      "\n",
      "Traceback (most recent call last):\n",
      "AssertionError\n",
      "Traceback (most recent call last):\n",
      "KeyError: \"None of [Index(['T_strategy = 2.15 v_computed = 1.4 PM10_kg_bottleneck',\\n       'T_strategy = 2.1 v_computed = 2.0 PM10_kg_bottleneck',\\n       'T_strategy = 2.05 v_computed = 2.46 PM10_kg_bottleneck',\\n       'T_strategy = 2.0 v_computed = 2.86 PM10_kg_bottleneck',\\n       'T_strategy = 1.95 v_computed = 3.22 PM10_kg_bottleneck',\\n       'T_strategy = 1.9 v_computed = 3.54 PM10_kg_bottleneck',\\n       'T_strategy = 1.85 v_computed = 3.85 PM10_kg_bottleneck'],\\n      dtype='object')] are in the [columns]\"\n",
      "\n",
      "During handling of the above exception, another exception occurred:\n",
      "\n",
      "Traceback (most recent call last):\n",
      "AttributeError: 'KeyError' object has no attribute '_render_traceback_'\n",
      "\n",
      "During handling of the above exception, another exception occurred:\n",
      "\n",
      "Traceback (most recent call last):\n",
      "TypeError: object of type 'NoneType' has no len()\n",
      "\n",
      "During handling of the above exception, another exception occurred:\n",
      "\n",
      "Traceback (most recent call last):\n",
      "AttributeError: 'TypeError' object has no attribute '_render_traceback_'\n",
      "\n",
      "During handling of the above exception, another exception occurred:\n",
      "\n",
      "Traceback (most recent call last):\n",
      "TypeError: object of type 'NoneType' has no len()\n",
      "\n",
      "During handling of the above exception, another exception occurred:\n",
      "\n",
      "Traceback (most recent call last):\n",
      "AttributeError: 'TypeError' object has no attribute '_render_traceback_'\n",
      "\n",
      "During handling of the above exception, another exception occurred:\n",
      "\n",
      "Traceback (most recent call last):\n",
      "AssertionError\n"
     ]
    }
   ],
   "source": [
    "PM10=df_plot[['T_strategy = 2.15 v_computed = 1.4 PM10_kg_bottleneck',\n",
    "              'T_strategy = 2.1 v_computed = 2.0 PM10_kg_bottleneck',\n",
    "              'T_strategy = 2.05 v_computed = 2.46 PM10_kg_bottleneck', \n",
    "              'T_strategy = 2.0 v_computed = 2.86 PM10_kg_bottleneck',\n",
    "              'T_strategy = 1.95 v_computed = 3.22 PM10_kg_bottleneck',\n",
    "              'T_strategy = 1.9 v_computed = 3.54 PM10_kg_bottleneck',\n",
    "              'T_strategy = 1.85 v_computed = 3.85 PM10_kg_bottleneck']].T\n",
    "\n",
    "PM10.index=['strategy 1 \\n T$_s$=2.15 m \\n V$_s$=1.4 m/s', \n",
    "            'strategy 2 \\n T$_s$=2.10 m \\n V$_s$=2.0 m/s',\n",
    "            'strategy 3 \\n T$_s$=2.05 m \\n V$_s$=2.5 m/s',\n",
    "            'strategy 4 \\n T$_s$=2.00 m \\n V$_s$=2.9 m/s',\n",
    "            'strategy 5 \\n T$_s$=1.95 m \\n V$_s$=3.2 m/s',\n",
    "            'strategy 6 \\n T$_s$=1.90 m \\n V$_s$=3.5 m/s',\n",
    "            'strategy 7 \\n T$_s$=1.85 m \\n V$_s$=3.8 m/s',]\n",
    "\n",
    "PM10.columns =['section 2 (bottleneck)']\n",
    "PM10.head(7)"
   ]
  },
  {
   "cell_type": "code",
   "execution_count": null,
   "metadata": {},
   "outputs": [
    {
     "name": "stderr",
     "output_type": "stream",
     "text": [
      "ERROR:root:Internal Python error in the inspect module.\n",
      "Below is the traceback from this internal error.\n",
      "\n",
      "ERROR:root:Internal Python error in the inspect module.\n",
      "Below is the traceback from this internal error.\n",
      "\n"
     ]
    },
    {
     "name": "stdout",
     "output_type": "stream",
     "text": [
      "Traceback (most recent call last):\n",
      "NameError: name 'PM10' is not defined\n",
      "\n",
      "During handling of the above exception, another exception occurred:\n",
      "\n",
      "Traceback (most recent call last):\n",
      "AttributeError: 'NameError' object has no attribute '_render_traceback_'\n",
      "\n",
      "During handling of the above exception, another exception occurred:\n",
      "\n",
      "Traceback (most recent call last):\n",
      "AssertionError\n",
      "ERROR! Session/line number was not unique in database. History logging moved to new session 1474\n",
      "Traceback (most recent call last):\n",
      "NameError: name 'PM10' is not defined\n",
      "\n",
      "During handling of the above exception, another exception occurred:\n",
      "\n",
      "Traceback (most recent call last):\n",
      "AttributeError: 'NameError' object has no attribute '_render_traceback_'\n",
      "\n",
      "During handling of the above exception, another exception occurred:\n",
      "\n",
      "Traceback (most recent call last):\n",
      "TypeError: object of type 'NoneType' has no len()\n",
      "\n",
      "During handling of the above exception, another exception occurred:\n",
      "\n",
      "Traceback (most recent call last):\n",
      "AttributeError: 'TypeError' object has no attribute '_render_traceback_'\n",
      "\n",
      "During handling of the above exception, another exception occurred:\n",
      "\n",
      "Traceback (most recent call last):\n",
      "AssertionError\n"
     ]
    },
    {
     "name": "stderr",
     "output_type": "stream",
     "text": [
      "ERROR:root:Internal Python error in the inspect module.\n",
      "Below is the traceback from this internal error.\n",
      "\n"
     ]
    },
    {
     "name": "stdout",
     "output_type": "stream",
     "text": [
      "Traceback (most recent call last):\n",
      "NameError: name 'PM10' is not defined\n",
      "\n",
      "During handling of the above exception, another exception occurred:\n",
      "\n",
      "Traceback (most recent call last):\n",
      "AttributeError: 'NameError' object has no attribute '_render_traceback_'\n",
      "\n",
      "During handling of the above exception, another exception occurred:\n",
      "\n",
      "Traceback (most recent call last):\n",
      "TypeError: object of type 'NoneType' has no len()\n",
      "\n",
      "During handling of the above exception, another exception occurred:\n",
      "\n",
      "Traceback (most recent call last):\n",
      "AttributeError: 'TypeError' object has no attribute '_render_traceback_'\n",
      "\n",
      "During handling of the above exception, another exception occurred:\n",
      "\n",
      "Traceback (most recent call last):\n",
      "TypeError: object of type 'NoneType' has no len()\n",
      "\n",
      "During handling of the above exception, another exception occurred:\n",
      "\n",
      "Traceback (most recent call last):\n",
      "AttributeError: 'TypeError' object has no attribute '_render_traceback_'\n",
      "\n",
      "During handling of the above exception, another exception occurred:\n",
      "\n",
      "Traceback (most recent call last):\n",
      "AssertionError\n"
     ]
    }
   ],
   "source": [
    "PM10_colors=['mediumseagreen']\n",
    "PM10.plot(kind='bar', stacked=True,color=PM10_colors,rot=0, figsize=(10, 3))"
   ]
  },
  {
   "cell_type": "code",
   "execution_count": null,
   "metadata": {},
   "outputs": [
    {
     "name": "stderr",
     "output_type": "stream",
     "text": [
      "ERROR:root:Internal Python error in the inspect module.\n",
      "Below is the traceback from this internal error.\n",
      "\n",
      "ERROR:root:Internal Python error in the inspect module.\n",
      "Below is the traceback from this internal error.\n",
      "\n"
     ]
    },
    {
     "name": "stdout",
     "output_type": "stream",
     "text": [
      "Traceback (most recent call last):\n",
      "KeyError: \"None of [Index(['T_strategy = 2.15 v_computed = 1.4 NOx_kg_bottleneck',\\n       'T_strategy = 2.1 v_computed = 2.0 NOx_kg_bottleneck',\\n       'T_strategy = 2.05 v_computed = 2.46 NOx_kg_bottleneck',\\n       'T_strategy = 2.0 v_computed = 2.86 NOx_kg_bottleneck',\\n       'T_strategy = 1.95 v_computed = 3.22 NOx_kg_bottleneck',\\n       'T_strategy = 1.9 v_computed = 3.54 NOx_kg_bottleneck',\\n       'T_strategy = 1.85 v_computed = 3.85 NOx_kg_bottleneck'],\\n      dtype='object')] are in the [columns]\"\n",
      "\n",
      "During handling of the above exception, another exception occurred:\n",
      "\n",
      "Traceback (most recent call last):\n",
      "AttributeError: 'KeyError' object has no attribute '_render_traceback_'\n",
      "\n",
      "During handling of the above exception, another exception occurred:\n",
      "\n",
      "Traceback (most recent call last):\n",
      "AssertionError\n",
      "Traceback (most recent call last):\n",
      "KeyError: \"None of [Index(['T_strategy = 2.15 v_computed = 1.4 NOx_kg_bottleneck',\\n       'T_strategy = 2.1 v_computed = 2.0 NOx_kg_bottleneck',\\n       'T_strategy = 2.05 v_computed = 2.46 NOx_kg_bottleneck',\\n       'T_strategy = 2.0 v_computed = 2.86 NOx_kg_bottleneck',\\n       'T_strategy = 1.95 v_computed = 3.22 NOx_kg_bottleneck',\\n       'T_strategy = 1.9 v_computed = 3.54 NOx_kg_bottleneck',\\n       'T_strategy = 1.85 v_computed = 3.85 NOx_kg_bottleneck'],\\n      dtype='object')] are in the [columns]\"\n",
      "\n",
      "During handling of the above exception, another exception occurred:\n",
      "\n",
      "Traceback (most recent call last):\n",
      "AttributeError: 'KeyError' object has no attribute '_render_traceback_'\n",
      "\n",
      "During handling of the above exception, another exception occurred:\n",
      "\n",
      "Traceback (most recent call last):\n",
      "TypeError: object of type 'NoneType' has no len()\n",
      "\n",
      "During handling of the above exception, another exception occurred:\n",
      "\n",
      "Traceback (most recent call last):\n",
      "AttributeError: 'TypeError' object has no attribute '_render_traceback_'\n",
      "\n",
      "During handling of the above exception, another exception occurred:\n",
      "\n",
      "Traceback (most recent call last):\n",
      "AssertionError\n",
      "ERROR! Session/line number was not unique in database. History logging moved to new session 1475\n"
     ]
    },
    {
     "name": "stderr",
     "output_type": "stream",
     "text": [
      "ERROR:root:Internal Python error in the inspect module.\n",
      "Below is the traceback from this internal error.\n",
      "\n"
     ]
    },
    {
     "name": "stdout",
     "output_type": "stream",
     "text": [
      "Traceback (most recent call last):\n",
      "KeyError: \"None of [Index(['T_strategy = 2.15 v_computed = 1.4 NOx_kg_bottleneck',\\n       'T_strategy = 2.1 v_computed = 2.0 NOx_kg_bottleneck',\\n       'T_strategy = 2.05 v_computed = 2.46 NOx_kg_bottleneck',\\n       'T_strategy = 2.0 v_computed = 2.86 NOx_kg_bottleneck',\\n       'T_strategy = 1.95 v_computed = 3.22 NOx_kg_bottleneck',\\n       'T_strategy = 1.9 v_computed = 3.54 NOx_kg_bottleneck',\\n       'T_strategy = 1.85 v_computed = 3.85 NOx_kg_bottleneck'],\\n      dtype='object')] are in the [columns]\"\n",
      "\n",
      "During handling of the above exception, another exception occurred:\n",
      "\n",
      "Traceback (most recent call last):\n",
      "AttributeError: 'KeyError' object has no attribute '_render_traceback_'\n",
      "\n",
      "During handling of the above exception, another exception occurred:\n",
      "\n",
      "Traceback (most recent call last):\n",
      "TypeError: object of type 'NoneType' has no len()\n",
      "\n",
      "During handling of the above exception, another exception occurred:\n",
      "\n",
      "Traceback (most recent call last):\n",
      "AttributeError: 'TypeError' object has no attribute '_render_traceback_'\n",
      "\n",
      "During handling of the above exception, another exception occurred:\n",
      "\n",
      "Traceback (most recent call last):\n",
      "TypeError: object of type 'NoneType' has no len()\n",
      "\n",
      "During handling of the above exception, another exception occurred:\n",
      "\n",
      "Traceback (most recent call last):\n",
      "AttributeError: 'TypeError' object has no attribute '_render_traceback_'\n",
      "\n",
      "During handling of the above exception, another exception occurred:\n",
      "\n",
      "Traceback (most recent call last):\n",
      "AssertionError\n"
     ]
    }
   ],
   "source": [
    "NOx=df_plot[['T_strategy = 2.15 v_computed = 1.4 NOx_kg_bottleneck',\n",
    "              'T_strategy = 2.1 v_computed = 2.0 NOx_kg_bottleneck',\n",
    "              'T_strategy = 2.05 v_computed = 2.46 NOx_kg_bottleneck', \n",
    "              'T_strategy = 2.0 v_computed = 2.86 NOx_kg_bottleneck',\n",
    "              'T_strategy = 1.95 v_computed = 3.22 NOx_kg_bottleneck',\n",
    "              'T_strategy = 1.9 v_computed = 3.54 NOx_kg_bottleneck',\n",
    "              'T_strategy = 1.85 v_computed = 3.85 NOx_kg_bottleneck']].T\n",
    "\n",
    "NOx.index=['strategy 1 \\n T$_s$=2.15 m \\n V$_s$=1.4 m/s', \n",
    "            'strategy 2 \\n T$_s$=2.10 m \\n V$_s$=2.0 m/s',\n",
    "            'strategy 3 \\n T$_s$=2.05 m \\n V$_s$=2.5 m/s',\n",
    "            'strategy 4 \\n T$_s$=2.00 m \\n V$_s$=2.9 m/s',\n",
    "            'strategy 5 \\n T$_s$=1.95 m \\n V$_s$=3.2 m/s',\n",
    "            'strategy 6 \\n T$_s$=1.90 m \\n V$_s$=3.5 m/s',\n",
    "            'strategy 7 \\n T$_s$=1.85 m \\n V$_s$=3.8 m/s',]\n",
    "\n",
    "NOx.columns =['section 2 (bottleneck)']\n",
    "NOx.head(7)"
   ]
  },
  {
   "cell_type": "code",
   "execution_count": null,
   "metadata": {},
   "outputs": [
    {
     "name": "stderr",
     "output_type": "stream",
     "text": [
      "ERROR:root:Internal Python error in the inspect module.\n",
      "Below is the traceback from this internal error.\n",
      "\n",
      "ERROR:root:Internal Python error in the inspect module.\n",
      "Below is the traceback from this internal error.\n",
      "\n",
      "ERROR:root:Internal Python error in the inspect module.\n",
      "Below is the traceback from this internal error.\n",
      "\n"
     ]
    },
    {
     "name": "stdout",
     "output_type": "stream",
     "text": [
      "Traceback (most recent call last):\n",
      "NameError: name 'NOx' is not defined\n",
      "\n",
      "During handling of the above exception, another exception occurred:\n",
      "\n",
      "Traceback (most recent call last):\n",
      "AttributeError: 'NameError' object has no attribute '_render_traceback_'\n",
      "\n",
      "During handling of the above exception, another exception occurred:\n",
      "\n",
      "Traceback (most recent call last):\n",
      "AssertionError\n",
      "Traceback (most recent call last):\n",
      "NameError: name 'NOx' is not defined\n",
      "\n",
      "During handling of the above exception, another exception occurred:\n",
      "\n",
      "Traceback (most recent call last):\n",
      "AttributeError: 'NameError' object has no attribute '_render_traceback_'\n",
      "\n",
      "During handling of the above exception, another exception occurred:\n",
      "\n",
      "Traceback (most recent call last):\n",
      "TypeError: object of type 'NoneType' has no len()\n",
      "\n",
      "During handling of the above exception, another exception occurred:\n",
      "\n",
      "Traceback (most recent call last):\n",
      "AttributeError: 'TypeError' object has no attribute '_render_traceback_'\n",
      "\n",
      "During handling of the above exception, another exception occurred:\n",
      "\n",
      "Traceback (most recent call last):\n",
      "AssertionError\n",
      "ERROR! Session/line number was not unique in database. History logging moved to new session 1476\n",
      "Traceback (most recent call last):\n",
      "NameError: name 'NOx' is not defined\n",
      "\n",
      "During handling of the above exception, another exception occurred:\n",
      "\n",
      "Traceback (most recent call last):\n",
      "AttributeError: 'NameError' object has no attribute '_render_traceback_'\n",
      "\n",
      "During handling of the above exception, another exception occurred:\n",
      "\n",
      "Traceback (most recent call last):\n",
      "TypeError: object of type 'NoneType' has no len()\n",
      "\n",
      "During handling of the above exception, another exception occurred:\n",
      "\n",
      "Traceback (most recent call last):\n",
      "AttributeError: 'TypeError' object has no attribute '_render_traceback_'\n",
      "\n",
      "During handling of the above exception, another exception occurred:\n",
      "\n",
      "Traceback (most recent call last):\n",
      "TypeError: object of type 'NoneType' has no len()\n",
      "\n",
      "During handling of the above exception, another exception occurred:\n",
      "\n",
      "Traceback (most recent call last):\n",
      "AttributeError: 'TypeError' object has no attribute '_render_traceback_'\n",
      "\n",
      "During handling of the above exception, another exception occurred:\n",
      "\n",
      "Traceback (most recent call last):\n",
      "AssertionError\n"
     ]
    }
   ],
   "source": [
    "NOx_colors=['deeppink']\n",
    "NOx.plot(kind='bar', stacked=True,color=NOx_colors,rot=0, figsize=(10, 3))"
   ]
  },
  {
   "cell_type": "code",
   "execution_count": null,
   "metadata": {},
   "outputs": [
    {
     "name": "stderr",
     "output_type": "stream",
     "text": [
      "ERROR:root:Internal Python error in the inspect module.\n",
      "Below is the traceback from this internal error.\n",
      "\n",
      "ERROR:root:Internal Python error in the inspect module.\n",
      "Below is the traceback from this internal error.\n",
      "\n",
      "ERROR:root:Internal Python error in the inspect module.\n",
      "Below is the traceback from this internal error.\n",
      "\n"
     ]
    },
    {
     "name": "stdout",
     "output_type": "stream",
     "text": [
      "Traceback (most recent call last):\n",
      "KeyError: 'Payload_strategy'\n",
      "\n",
      "The above exception was the direct cause of the following exception:\n",
      "\n",
      "Traceback (most recent call last):\n",
      "KeyError: 'Payload_strategy'\n",
      "\n",
      "During handling of the above exception, another exception occurred:\n",
      "\n",
      "Traceback (most recent call last):\n",
      "AttributeError: 'KeyError' object has no attribute '_render_traceback_'\n",
      "\n",
      "During handling of the above exception, another exception occurred:\n",
      "\n",
      "Traceback (most recent call last):\n",
      "AssertionError\n",
      "Traceback (most recent call last):\n",
      "KeyError: 'Payload_strategy'\n",
      "\n",
      "The above exception was the direct cause of the following exception:\n",
      "\n",
      "Traceback (most recent call last):\n",
      "KeyError: 'Payload_strategy'\n",
      "\n",
      "During handling of the above exception, another exception occurred:\n",
      "\n",
      "Traceback (most recent call last):\n",
      "AttributeError: 'KeyError' object has no attribute '_render_traceback_'\n",
      "\n",
      "During handling of the above exception, another exception occurred:\n",
      "\n",
      "Traceback (most recent call last):\n",
      "TypeError: object of type 'NoneType' has no len()\n",
      "\n",
      "During handling of the above exception, another exception occurred:\n",
      "\n",
      "Traceback (most recent call last):\n",
      "AttributeError: 'TypeError' object has no attribute '_render_traceback_'\n",
      "\n",
      "During handling of the above exception, another exception occurred:\n",
      "\n",
      "Traceback (most recent call last):\n",
      "AssertionError\n",
      "ERROR! Session/line number was not unique in database. History logging moved to new session 1477\n",
      "Traceback (most recent call last):\n",
      "KeyError: 'Payload_strategy'\n",
      "\n",
      "The above exception was the direct cause of the following exception:\n",
      "\n",
      "Traceback (most recent call last):\n",
      "KeyError: 'Payload_strategy'\n",
      "\n",
      "During handling of the above exception, another exception occurred:\n",
      "\n",
      "Traceback (most recent call last):\n",
      "AttributeError: 'KeyError' object has no attribute '_render_traceback_'\n",
      "\n",
      "During handling of the above exception, another exception occurred:\n",
      "\n",
      "Traceback (most recent call last):\n",
      "TypeError: object of type 'NoneType' has no len()\n",
      "\n",
      "During handling of the above exception, another exception occurred:\n",
      "\n",
      "Traceback (most recent call last):\n",
      "AttributeError: 'TypeError' object has no attribute '_render_traceback_'\n",
      "\n",
      "During handling of the above exception, another exception occurred:\n",
      "\n",
      "Traceback (most recent call last):\n",
      "TypeError: object of type 'NoneType' has no len()\n",
      "\n",
      "During handling of the above exception, another exception occurred:\n",
      "\n",
      "Traceback (most recent call last):\n",
      "AttributeError: 'TypeError' object has no attribute '_render_traceback_'\n",
      "\n",
      "During handling of the above exception, another exception occurred:\n",
      "\n",
      "Traceback (most recent call last):\n",
      "AssertionError\n"
     ]
    }
   ],
   "source": [
    "Payload = Strategies_df['Payload_strategy'][0:7]\n",
    "Payload = pd.DataFrame(Payload)\n",
    "\n",
    "Payload.index=['strategy 1 \\n T$_s$=2.15 m \\n V$_s$=1.4 m/s', \n",
    "            'strategy 2 \\n T$_s$=2.10 m \\n V$_s$=2.0 m/s',\n",
    "            'strategy 3 \\n T$_s$=2.05 m \\n V$_s$=2.5 m/s',\n",
    "            'strategy 4 \\n T$_s$=2.00 m \\n V$_s$=2.9 m/s',\n",
    "            'strategy 5 \\n T$_s$=1.95 m \\n V$_s$=3.2 m/s',\n",
    "            'strategy 6 \\n T$_s$=1.90 m \\n V$_s$=3.5 m/s',\n",
    "            'strategy 7 \\n T$_s$=1.85 m \\n V$_s$=3.8 m/s',]\n",
    "\n",
    "Payload.columns =['section 2 (bottleneck)']\n",
    "Payload.head(7)"
   ]
  },
  {
   "cell_type": "code",
   "execution_count": null,
   "metadata": {},
   "outputs": [
    {
     "name": "stderr",
     "output_type": "stream",
     "text": [
      "ERROR:root:Internal Python error in the inspect module.\n",
      "Below is the traceback from this internal error.\n",
      "\n",
      "ERROR:root:Internal Python error in the inspect module.\n",
      "Below is the traceback from this internal error.\n",
      "\n",
      "ERROR:root:Internal Python error in the inspect module.\n",
      "Below is the traceback from this internal error.\n",
      "\n"
     ]
    },
    {
     "name": "stdout",
     "output_type": "stream",
     "text": [
      "Traceback (most recent call last):\n",
      "NameError: name 'Payload' is not defined\n",
      "\n",
      "During handling of the above exception, another exception occurred:\n",
      "\n",
      "Traceback (most recent call last):\n",
      "AttributeError: 'NameError' object has no attribute '_render_traceback_'\n",
      "\n",
      "During handling of the above exception, another exception occurred:\n",
      "\n",
      "Traceback (most recent call last):\n",
      "AssertionError\n",
      "Traceback (most recent call last):\n",
      "NameError: name 'Payload' is not defined\n",
      "\n",
      "During handling of the above exception, another exception occurred:\n",
      "\n",
      "Traceback (most recent call last):\n",
      "AttributeError: 'NameError' object has no attribute '_render_traceback_'\n",
      "\n",
      "During handling of the above exception, another exception occurred:\n",
      "\n",
      "Traceback (most recent call last):\n",
      "TypeError: object of type 'NoneType' has no len()\n",
      "\n",
      "During handling of the above exception, another exception occurred:\n",
      "\n",
      "Traceback (most recent call last):\n",
      "AttributeError: 'TypeError' object has no attribute '_render_traceback_'\n",
      "\n",
      "During handling of the above exception, another exception occurred:\n",
      "\n",
      "Traceback (most recent call last):\n",
      "AssertionError\n",
      "ERROR! Session/line number was not unique in database. History logging moved to new session 1478\n",
      "Traceback (most recent call last):\n",
      "NameError: name 'Payload' is not defined\n",
      "\n",
      "During handling of the above exception, another exception occurred:\n",
      "\n",
      "Traceback (most recent call last):\n",
      "AttributeError: 'NameError' object has no attribute '_render_traceback_'\n",
      "\n",
      "During handling of the above exception, another exception occurred:\n",
      "\n",
      "Traceback (most recent call last):\n",
      "TypeError: object of type 'NoneType' has no len()\n",
      "\n",
      "During handling of the above exception, another exception occurred:\n",
      "\n",
      "Traceback (most recent call last):\n",
      "AttributeError: 'TypeError' object has no attribute '_render_traceback_'\n",
      "\n",
      "During handling of the above exception, another exception occurred:\n",
      "\n",
      "Traceback (most recent call last):\n",
      "TypeError: object of type 'NoneType' has no len()\n",
      "\n",
      "During handling of the above exception, another exception occurred:\n",
      "\n",
      "Traceback (most recent call last):\n",
      "AttributeError: 'TypeError' object has no attribute '_render_traceback_'\n",
      "\n",
      "During handling of the above exception, another exception occurred:\n",
      "\n",
      "Traceback (most recent call last):\n",
      "AssertionError\n"
     ]
    }
   ],
   "source": [
    "Payload_colors=['yellowgreen']\n",
    "Payload.plot(kind='bar', stacked=True,color=Payload_colors,rot=0, figsize=(10, 3))"
   ]
  },
  {
   "cell_type": "code",
   "execution_count": null,
   "metadata": {},
   "outputs": [
    {
     "name": "stderr",
     "output_type": "stream",
     "text": [
      "ERROR:root:Internal Python error in the inspect module.\n",
      "Below is the traceback from this internal error.\n",
      "\n",
      "ERROR:root:Internal Python error in the inspect module.\n",
      "Below is the traceback from this internal error.\n",
      "\n"
     ]
    },
    {
     "name": "stdout",
     "output_type": "stream",
     "text": [
      "Traceback (most recent call last):\n",
      "KeyError: \"None of [Index(['T_strategy = 2.15 v_computed = 1.4 duration_hrs_bottleneck',\\n       'T_strategy = 2.1 v_computed = 2.0 duration_hrs_bottleneck',\\n       'T_strategy = 2.05 v_computed = 2.46 duration_hrs_bottleneck',\\n       'T_strategy = 2.0 v_computed = 2.86 duration_hrs_bottleneck',\\n       'T_strategy = 1.95 v_computed = 3.22 duration_hrs_bottleneck',\\n       'T_strategy = 1.9 v_computed = 3.54 duration_hrs_bottleneck',\\n       'T_strategy = 1.85 v_computed = 3.85 duration_hrs_bottleneck'],\\n      dtype='object')] are in the [columns]\"\n",
      "\n",
      "During handling of the above exception, another exception occurred:\n",
      "\n",
      "Traceback (most recent call last):\n",
      "AttributeError: 'KeyError' object has no attribute '_render_traceback_'\n",
      "\n",
      "During handling of the above exception, another exception occurred:\n",
      "\n",
      "Traceback (most recent call last):\n",
      "AssertionError\n",
      "ERROR! Session/line number was not unique in database. History logging moved to new session 1479\n",
      "Traceback (most recent call last):\n",
      "KeyError: \"None of [Index(['T_strategy = 2.15 v_computed = 1.4 duration_hrs_bottleneck',\\n       'T_strategy = 2.1 v_computed = 2.0 duration_hrs_bottleneck',\\n       'T_strategy = 2.05 v_computed = 2.46 duration_hrs_bottleneck',\\n       'T_strategy = 2.0 v_computed = 2.86 duration_hrs_bottleneck',\\n       'T_strategy = 1.95 v_computed = 3.22 duration_hrs_bottleneck',\\n       'T_strategy = 1.9 v_computed = 3.54 duration_hrs_bottleneck',\\n       'T_strategy = 1.85 v_computed = 3.85 duration_hrs_bottleneck'],\\n      dtype='object')] are in the [columns]\"\n",
      "\n",
      "During handling of the above exception, another exception occurred:\n",
      "\n",
      "Traceback (most recent call last):\n",
      "AttributeError: 'KeyError' object has no attribute '_render_traceback_'\n",
      "\n",
      "During handling of the above exception, another exception occurred:\n",
      "\n",
      "Traceback (most recent call last):\n",
      "TypeError: object of type 'NoneType' has no len()\n",
      "\n",
      "During handling of the above exception, another exception occurred:\n",
      "\n",
      "Traceback (most recent call last):\n",
      "AttributeError: 'TypeError' object has no attribute '_render_traceback_'\n",
      "\n",
      "During handling of the above exception, another exception occurred:\n",
      "\n",
      "Traceback (most recent call last):\n",
      "AssertionError\n"
     ]
    },
    {
     "name": "stderr",
     "output_type": "stream",
     "text": [
      "ERROR:root:Internal Python error in the inspect module.\n",
      "Below is the traceback from this internal error.\n",
      "\n"
     ]
    },
    {
     "name": "stdout",
     "output_type": "stream",
     "text": [
      "Traceback (most recent call last):\n",
      "KeyError: \"None of [Index(['T_strategy = 2.15 v_computed = 1.4 duration_hrs_bottleneck',\\n       'T_strategy = 2.1 v_computed = 2.0 duration_hrs_bottleneck',\\n       'T_strategy = 2.05 v_computed = 2.46 duration_hrs_bottleneck',\\n       'T_strategy = 2.0 v_computed = 2.86 duration_hrs_bottleneck',\\n       'T_strategy = 1.95 v_computed = 3.22 duration_hrs_bottleneck',\\n       'T_strategy = 1.9 v_computed = 3.54 duration_hrs_bottleneck',\\n       'T_strategy = 1.85 v_computed = 3.85 duration_hrs_bottleneck'],\\n      dtype='object')] are in the [columns]\"\n",
      "\n",
      "During handling of the above exception, another exception occurred:\n",
      "\n",
      "Traceback (most recent call last):\n",
      "AttributeError: 'KeyError' object has no attribute '_render_traceback_'\n",
      "\n",
      "During handling of the above exception, another exception occurred:\n",
      "\n",
      "Traceback (most recent call last):\n",
      "TypeError: object of type 'NoneType' has no len()\n",
      "\n",
      "During handling of the above exception, another exception occurred:\n",
      "\n",
      "Traceback (most recent call last):\n",
      "AttributeError: 'TypeError' object has no attribute '_render_traceback_'\n",
      "\n",
      "During handling of the above exception, another exception occurred:\n",
      "\n",
      "Traceback (most recent call last):\n",
      "TypeError: object of type 'NoneType' has no len()\n",
      "\n",
      "During handling of the above exception, another exception occurred:\n",
      "\n",
      "Traceback (most recent call last):\n",
      "AttributeError: 'TypeError' object has no attribute '_render_traceback_'\n",
      "\n",
      "During handling of the above exception, another exception occurred:\n",
      "\n",
      "Traceback (most recent call last):\n",
      "AssertionError\n"
     ]
    }
   ],
   "source": [
    "duration=df_plot[['T_strategy = 2.15 v_computed = 1.4 duration_hrs_bottleneck',\n",
    "              'T_strategy = 2.1 v_computed = 2.0 duration_hrs_bottleneck',\n",
    "              'T_strategy = 2.05 v_computed = 2.46 duration_hrs_bottleneck', \n",
    "              'T_strategy = 2.0 v_computed = 2.86 duration_hrs_bottleneck',\n",
    "              'T_strategy = 1.95 v_computed = 3.22 duration_hrs_bottleneck',\n",
    "              'T_strategy = 1.9 v_computed = 3.54 duration_hrs_bottleneck',\n",
    "              'T_strategy = 1.85 v_computed = 3.85 duration_hrs_bottleneck']].T\n",
    "\n",
    "duration.index=['strategy 1 \\n T$_s$=2.15 m \\n V$_s$=1.4 m/s', \n",
    "            'strategy 2 \\n T$_s$=2.10 m \\n V$_s$=2.0 m/s',\n",
    "            'strategy 3 \\n T$_s$=2.05 m \\n V$_s$=2.5 m/s',\n",
    "            'strategy 4 \\n T$_s$=2.00 m \\n V$_s$=2.9 m/s',\n",
    "            'strategy 5 \\n T$_s$=1.95 m \\n V$_s$=3.2 m/s',\n",
    "            'strategy 6 \\n T$_s$=1.90 m \\n V$_s$=3.5 m/s',\n",
    "            'strategy 7 \\n T$_s$=1.85 m \\n V$_s$=3.8 m/s',]\n",
    "\n",
    "duration.columns =['section 2 (bottleneck)']\n",
    "duration.head(7)"
   ]
  },
  {
   "cell_type": "code",
   "execution_count": null,
   "metadata": {},
   "outputs": [
    {
     "name": "stderr",
     "output_type": "stream",
     "text": [
      "ERROR:root:Internal Python error in the inspect module.\n",
      "Below is the traceback from this internal error.\n",
      "\n",
      "ERROR:root:Internal Python error in the inspect module.\n",
      "Below is the traceback from this internal error.\n",
      "\n"
     ]
    },
    {
     "name": "stdout",
     "output_type": "stream",
     "text": [
      "Traceback (most recent call last):\n",
      "NameError: name 'duration' is not defined\n",
      "\n",
      "During handling of the above exception, another exception occurred:\n",
      "\n",
      "Traceback (most recent call last):\n",
      "AttributeError: 'NameError' object has no attribute '_render_traceback_'\n",
      "\n",
      "During handling of the above exception, another exception occurred:\n",
      "\n",
      "Traceback (most recent call last):\n",
      "AssertionError\n",
      "Traceback (most recent call last):\n",
      "NameError: name 'duration' is not defined\n",
      "\n",
      "During handling of the above exception, another exception occurred:\n",
      "\n",
      "Traceback (most recent call last):\n",
      "AttributeError: 'NameError' object has no attribute '_render_traceback_'\n",
      "\n",
      "During handling of the above exception, another exception occurred:\n",
      "\n",
      "Traceback (most recent call last):\n",
      "TypeError: object of type 'NoneType' has no len()\n",
      "\n",
      "During handling of the above exception, another exception occurred:\n",
      "\n",
      "Traceback (most recent call last):\n",
      "AttributeError: 'TypeError' object has no attribute '_render_traceback_'\n",
      "\n",
      "During handling of the above exception, another exception occurred:\n",
      "\n",
      "Traceback (most recent call last):\n",
      "AssertionError\n",
      "ERROR! Session/line number was not unique in database. History logging moved to new session 1480\n"
     ]
    },
    {
     "name": "stderr",
     "output_type": "stream",
     "text": [
      "ERROR:root:Internal Python error in the inspect module.\n",
      "Below is the traceback from this internal error.\n",
      "\n"
     ]
    },
    {
     "name": "stdout",
     "output_type": "stream",
     "text": [
      "Traceback (most recent call last):\n",
      "NameError: name 'duration' is not defined\n",
      "\n",
      "During handling of the above exception, another exception occurred:\n",
      "\n",
      "Traceback (most recent call last):\n",
      "AttributeError: 'NameError' object has no attribute '_render_traceback_'\n",
      "\n",
      "During handling of the above exception, another exception occurred:\n",
      "\n",
      "Traceback (most recent call last):\n",
      "TypeError: object of type 'NoneType' has no len()\n",
      "\n",
      "During handling of the above exception, another exception occurred:\n",
      "\n",
      "Traceback (most recent call last):\n",
      "AttributeError: 'TypeError' object has no attribute '_render_traceback_'\n",
      "\n",
      "During handling of the above exception, another exception occurred:\n",
      "\n",
      "Traceback (most recent call last):\n",
      "TypeError: object of type 'NoneType' has no len()\n",
      "\n",
      "During handling of the above exception, another exception occurred:\n",
      "\n",
      "Traceback (most recent call last):\n",
      "AttributeError: 'TypeError' object has no attribute '_render_traceback_'\n",
      "\n",
      "During handling of the above exception, another exception occurred:\n",
      "\n",
      "Traceback (most recent call last):\n",
      "AssertionError\n"
     ]
    }
   ],
   "source": [
    "duration_colors=['mediumpurple']\n",
    "duration.plot(kind='bar', stacked=True,color=duration_colors,rot=0, figsize=(10, 3))"
   ]
  },
  {
   "cell_type": "code",
   "execution_count": null,
   "metadata": {},
   "outputs": [
    {
     "name": "stderr",
     "output_type": "stream",
     "text": [
      "ERROR:root:Internal Python error in the inspect module.\n",
      "Below is the traceback from this internal error.\n",
      "\n",
      "ERROR:root:Internal Python error in the inspect module.\n",
      "Below is the traceback from this internal error.\n",
      "\n"
     ]
    },
    {
     "name": "stdout",
     "output_type": "stream",
     "text": [
      "Traceback (most recent call last):\n",
      "KeyError: \"None of [Index(['T_strategy = 2.15 v_computed = 1.4 sinkage_max_m_bottleneck',\\n       'T_strategy = 2.1 v_computed = 2.0 sinkage_max_m_bottleneck',\\n       'T_strategy = 2.05 v_computed = 2.46 sinkage_max_m_bottleneck',\\n       'T_strategy = 2.0 v_computed = 2.86 sinkage_max_m_bottleneck',\\n       'T_strategy = 1.95 v_computed = 3.22 sinkage_max_m_bottleneck',\\n       'T_strategy = 1.9 v_computed = 3.54 sinkage_max_m_bottleneck',\\n       'T_strategy = 1.85 v_computed = 3.85 sinkage_max_m_bottleneck'],\\n      dtype='object')] are in the [columns]\"\n",
      "\n",
      "During handling of the above exception, another exception occurred:\n",
      "\n",
      "Traceback (most recent call last):\n",
      "AttributeError: 'KeyError' object has no attribute '_render_traceback_'\n",
      "\n",
      "During handling of the above exception, another exception occurred:\n",
      "\n",
      "Traceback (most recent call last):\n",
      "AssertionError\n"
     ]
    },
    {
     "name": "stderr",
     "output_type": "stream",
     "text": [
      "ERROR:root:Internal Python error in the inspect module.\n",
      "Below is the traceback from this internal error.\n",
      "\n"
     ]
    },
    {
     "name": "stdout",
     "output_type": "stream",
     "text": [
      "ERROR! Session/line number was not unique in database. History logging moved to new session 1481\n",
      "Traceback (most recent call last):\n",
      "KeyError: \"None of [Index(['T_strategy = 2.15 v_computed = 1.4 sinkage_max_m_bottleneck',\\n       'T_strategy = 2.1 v_computed = 2.0 sinkage_max_m_bottleneck',\\n       'T_strategy = 2.05 v_computed = 2.46 sinkage_max_m_bottleneck',\\n       'T_strategy = 2.0 v_computed = 2.86 sinkage_max_m_bottleneck',\\n       'T_strategy = 1.95 v_computed = 3.22 sinkage_max_m_bottleneck',\\n       'T_strategy = 1.9 v_computed = 3.54 sinkage_max_m_bottleneck',\\n       'T_strategy = 1.85 v_computed = 3.85 sinkage_max_m_bottleneck'],\\n      dtype='object')] are in the [columns]\"\n",
      "\n",
      "During handling of the above exception, another exception occurred:\n",
      "\n",
      "Traceback (most recent call last):\n",
      "AttributeError: 'KeyError' object has no attribute '_render_traceback_'\n",
      "\n",
      "During handling of the above exception, another exception occurred:\n",
      "\n",
      "Traceback (most recent call last):\n",
      "TypeError: object of type 'NoneType' has no len()\n",
      "\n",
      "During handling of the above exception, another exception occurred:\n",
      "\n",
      "Traceback (most recent call last):\n",
      "AttributeError: 'TypeError' object has no attribute '_render_traceback_'\n",
      "\n",
      "During handling of the above exception, another exception occurred:\n",
      "\n",
      "Traceback (most recent call last):\n",
      "AssertionError\n",
      "Traceback (most recent call last):\n",
      "KeyError: \"None of [Index(['T_strategy = 2.15 v_computed = 1.4 sinkage_max_m_bottleneck',\\n       'T_strategy = 2.1 v_computed = 2.0 sinkage_max_m_bottleneck',\\n       'T_strategy = 2.05 v_computed = 2.46 sinkage_max_m_bottleneck',\\n       'T_strategy = 2.0 v_computed = 2.86 sinkage_max_m_bottleneck',\\n       'T_strategy = 1.95 v_computed = 3.22 sinkage_max_m_bottleneck',\\n       'T_strategy = 1.9 v_computed = 3.54 sinkage_max_m_bottleneck',\\n       'T_strategy = 1.85 v_computed = 3.85 sinkage_max_m_bottleneck'],\\n      dtype='object')] are in the [columns]\"\n",
      "\n",
      "During handling of the above exception, another exception occurred:\n",
      "\n",
      "Traceback (most recent call last):\n",
      "AttributeError: 'KeyError' object has no attribute '_render_traceback_'\n",
      "\n",
      "During handling of the above exception, another exception occurred:\n",
      "\n",
      "Traceback (most recent call last):\n",
      "TypeError: object of type 'NoneType' has no len()\n",
      "\n",
      "During handling of the above exception, another exception occurred:\n",
      "\n",
      "Traceback (most recent call last):\n",
      "AttributeError: 'TypeError' object has no attribute '_render_traceback_'\n",
      "\n",
      "During handling of the above exception, another exception occurred:\n",
      "\n",
      "Traceback (most recent call last):\n",
      "TypeError: object of type 'NoneType' has no len()\n",
      "\n",
      "During handling of the above exception, another exception occurred:\n",
      "\n",
      "Traceback (most recent call last):\n",
      "AttributeError: 'TypeError' object has no attribute '_render_traceback_'\n",
      "\n",
      "During handling of the above exception, another exception occurred:\n",
      "\n",
      "Traceback (most recent call last):\n",
      "AssertionError\n"
     ]
    }
   ],
   "source": [
    "sinkage_max=df_plot[['T_strategy = 2.15 v_computed = 1.4 sinkage_max_m_bottleneck',\n",
    "              'T_strategy = 2.1 v_computed = 2.0 sinkage_max_m_bottleneck',\n",
    "              'T_strategy = 2.05 v_computed = 2.46 sinkage_max_m_bottleneck', \n",
    "              'T_strategy = 2.0 v_computed = 2.86 sinkage_max_m_bottleneck',\n",
    "              'T_strategy = 1.95 v_computed = 3.22 sinkage_max_m_bottleneck',\n",
    "              'T_strategy = 1.9 v_computed = 3.54 sinkage_max_m_bottleneck',\n",
    "              'T_strategy = 1.85 v_computed = 3.85 sinkage_max_m_bottleneck']].T\n",
    "\n",
    "sinkage_max.index=['strategy 1 \\n T$_s$=2.15 m \\n V$_s$=1.4 m/s', \n",
    "            'strategy 2 \\n T$_s$=2.10 m \\n V$_s$=2.0 m/s',\n",
    "            'strategy 3 \\n T$_s$=2.05 m \\n V$_s$=2.5 m/s',\n",
    "            'strategy 4 \\n T$_s$=2.00 m \\n V$_s$=2.9 m/s',\n",
    "            'strategy 5 \\n T$_s$=1.95 m \\n V$_s$=3.2 m/s',\n",
    "            'strategy 6 \\n T$_s$=1.90 m \\n V$_s$=3.5 m/s',\n",
    "            'strategy 7 \\n T$_s$=1.85 m \\n V$_s$=3.8 m/s',]\n",
    "\n",
    "sinkage_max.columns =['section 2 (bottleneck)']\n",
    "sinkage_max.head(7)"
   ]
  },
  {
   "cell_type": "code",
   "execution_count": null,
   "metadata": {},
   "outputs": [
    {
     "name": "stderr",
     "output_type": "stream",
     "text": [
      "ERROR:root:Internal Python error in the inspect module.\n",
      "Below is the traceback from this internal error.\n",
      "\n",
      "ERROR:root:Internal Python error in the inspect module.\n",
      "Below is the traceback from this internal error.\n",
      "\n"
     ]
    },
    {
     "name": "stdout",
     "output_type": "stream",
     "text": [
      "Traceback (most recent call last):\n",
      "AttributeError: 'dict' object has no attribute 'plot'\n",
      "\n",
      "During handling of the above exception, another exception occurred:\n",
      "\n",
      "Traceback (most recent call last):\n",
      "AttributeError: 'AttributeError' object has no attribute '_render_traceback_'\n",
      "\n",
      "During handling of the above exception, another exception occurred:\n",
      "\n",
      "Traceback (most recent call last):\n",
      "AssertionError\n",
      "Traceback (most recent call last):\n",
      "AttributeError: 'dict' object has no attribute 'plot'\n",
      "\n",
      "During handling of the above exception, another exception occurred:\n",
      "\n",
      "Traceback (most recent call last):\n",
      "AttributeError: 'AttributeError' object has no attribute '_render_traceback_'\n",
      "\n",
      "During handling of the above exception, another exception occurred:\n",
      "\n",
      "Traceback (most recent call last):\n",
      "TypeError: object of type 'NoneType' has no len()\n",
      "\n",
      "During handling of the above exception, another exception occurred:\n",
      "\n",
      "Traceback (most recent call last):\n",
      "AttributeError: 'TypeError' object has no attribute '_render_traceback_'\n",
      "\n",
      "During handling of the above exception, another exception occurred:\n",
      "\n",
      "Traceback (most recent call last):\n",
      "AssertionError\n"
     ]
    },
    {
     "name": "stderr",
     "output_type": "stream",
     "text": [
      "ERROR:root:Internal Python error in the inspect module.\n",
      "Below is the traceback from this internal error.\n",
      "\n"
     ]
    },
    {
     "name": "stdout",
     "output_type": "stream",
     "text": [
      "ERROR! Session/line number was not unique in database. History logging moved to new session 1482\n",
      "Traceback (most recent call last):\n",
      "AttributeError: 'dict' object has no attribute 'plot'\n",
      "\n",
      "During handling of the above exception, another exception occurred:\n",
      "\n",
      "Traceback (most recent call last):\n",
      "AttributeError: 'AttributeError' object has no attribute '_render_traceback_'\n",
      "\n",
      "During handling of the above exception, another exception occurred:\n",
      "\n",
      "Traceback (most recent call last):\n",
      "TypeError: object of type 'NoneType' has no len()\n",
      "\n",
      "During handling of the above exception, another exception occurred:\n",
      "\n",
      "Traceback (most recent call last):\n",
      "AttributeError: 'TypeError' object has no attribute '_render_traceback_'\n",
      "\n",
      "During handling of the above exception, another exception occurred:\n",
      "\n",
      "Traceback (most recent call last):\n",
      "TypeError: object of type 'NoneType' has no len()\n",
      "\n",
      "During handling of the above exception, another exception occurred:\n",
      "\n",
      "Traceback (most recent call last):\n",
      "AttributeError: 'TypeError' object has no attribute '_render_traceback_'\n",
      "\n",
      "During handling of the above exception, another exception occurred:\n",
      "\n",
      "Traceback (most recent call last):\n",
      "AssertionError\n"
     ]
    }
   ],
   "source": [
    "sinkage_max_colors=['tomato']\n",
    "sinkage_max.plot(kind='bar', stacked=True,color=sinkage_max_colors,rot=0, figsize=(10, 3))"
   ]
  },
  {
   "cell_type": "code",
   "execution_count": null,
   "metadata": {},
   "outputs": [
    {
     "name": "stderr",
     "output_type": "stream",
     "text": [
      "ERROR:root:Internal Python error in the inspect module.\n",
      "Below is the traceback from this internal error.\n",
      "\n",
      "ERROR:root:Internal Python error in the inspect module.\n",
      "Below is the traceback from this internal error.\n",
      "\n",
      "ERROR:root:Internal Python error in the inspect module.\n",
      "Below is the traceback from this internal error.\n",
      "\n"
     ]
    },
    {
     "name": "stdout",
     "output_type": "stream",
     "text": [
      "Traceback (most recent call last):\n",
      "KeyError: \"None of [Index(['T_strategy = 2.15 v_computed = 1.4 dynamic_ukc_m_bottleneck',\\n       'T_strategy = 2.1 v_computed = 2.0 dynamic_ukc_m_bottleneck',\\n       'T_strategy = 2.05 v_computed = 2.46 dynamic_ukc_m_bottleneck',\\n       'T_strategy = 2.0 v_computed = 2.86 dynamic_ukc_m_bottleneck',\\n       'T_strategy = 1.95 v_computed = 3.22 dynamic_ukc_m_bottleneck',\\n       'T_strategy = 1.9 v_computed = 3.54 dynamic_ukc_m_bottleneck',\\n       'T_strategy = 1.85 v_computed = 3.85 dynamic_ukc_m_bottleneck'],\\n      dtype='object')] are in the [columns]\"\n",
      "\n",
      "During handling of the above exception, another exception occurred:\n",
      "\n",
      "Traceback (most recent call last):\n",
      "AttributeError: 'KeyError' object has no attribute '_render_traceback_'\n",
      "\n",
      "During handling of the above exception, another exception occurred:\n",
      "\n",
      "Traceback (most recent call last):\n",
      "AssertionError\n",
      "Traceback (most recent call last):\n",
      "KeyError: \"None of [Index(['T_strategy = 2.15 v_computed = 1.4 dynamic_ukc_m_bottleneck',\\n       'T_strategy = 2.1 v_computed = 2.0 dynamic_ukc_m_bottleneck',\\n       'T_strategy = 2.05 v_computed = 2.46 dynamic_ukc_m_bottleneck',\\n       'T_strategy = 2.0 v_computed = 2.86 dynamic_ukc_m_bottleneck',\\n       'T_strategy = 1.95 v_computed = 3.22 dynamic_ukc_m_bottleneck',\\n       'T_strategy = 1.9 v_computed = 3.54 dynamic_ukc_m_bottleneck',\\n       'T_strategy = 1.85 v_computed = 3.85 dynamic_ukc_m_bottleneck'],\\n      dtype='object')] are in the [columns]\"\n",
      "\n",
      "During handling of the above exception, another exception occurred:\n",
      "\n",
      "Traceback (most recent call last):\n",
      "AttributeError: 'KeyError' object has no attribute '_render_traceback_'\n",
      "\n",
      "During handling of the above exception, another exception occurred:\n",
      "\n",
      "Traceback (most recent call last):\n",
      "TypeError: object of type 'NoneType' has no len()\n",
      "\n",
      "During handling of the above exception, another exception occurred:\n",
      "\n",
      "Traceback (most recent call last):\n",
      "AttributeError: 'TypeError' object has no attribute '_render_traceback_'\n",
      "\n",
      "During handling of the above exception, another exception occurred:\n",
      "\n",
      "Traceback (most recent call last):\n",
      "AssertionError\n",
      "Traceback (most recent call last):\n",
      "KeyError: \"None of [Index(['T_strategy = 2.15 v_computed = 1.4 dynamic_ukc_m_bottleneck',\\n       'T_strategy = 2.1 v_computed = 2.0 dynamic_ukc_m_bottleneck',\\n       'T_strategy = 2.05 v_computed = 2.46 dynamic_ukc_m_bottleneck',\\n       'T_strategy = 2.0 v_computed = 2.86 dynamic_ukc_m_bottleneck',\\n       'T_strategy = 1.95 v_computed = 3.22 dynamic_ukc_m_bottleneck',\\n       'T_strategy = 1.9 v_computed = 3.54 dynamic_ukc_m_bottleneck',\\n       'T_strategy = 1.85 v_computed = 3.85 dynamic_ukc_m_bottleneck'],\\n      dtype='object')] are in the [columns]\"\n",
      "\n",
      "During handling of the above exception, another exception occurred:\n",
      "\n",
      "Traceback (most recent call last):\n",
      "AttributeError: 'KeyError' object has no attribute '_render_traceback_'\n",
      "\n",
      "During handling of the above exception, another exception occurred:\n",
      "\n",
      "Traceback (most recent call last):\n",
      "TypeError: object of type 'NoneType' has no len()\n",
      "\n",
      "During handling of the above exception, another exception occurred:\n",
      "\n",
      "Traceback (most recent call last):\n",
      "AttributeError: 'TypeError' object has no attribute '_render_traceback_'\n",
      "\n",
      "During handling of the above exception, another exception occurred:\n",
      "\n",
      "Traceback (most recent call last):\n",
      "TypeError: object of type 'NoneType' has no len()\n",
      "\n",
      "During handling of the above exception, another exception occurred:\n",
      "\n",
      "Traceback (most recent call last):\n",
      "AttributeError: 'TypeError' object has no attribute '_render_traceback_'\n",
      "\n",
      "During handling of the above exception, another exception occurred:\n",
      "\n",
      "Traceback (most recent call last):\n",
      "AssertionError\n"
     ]
    }
   ],
   "source": [
    "dynamic_ukc=df_plot[['T_strategy = 2.15 v_computed = 1.4 dynamic_ukc_m_bottleneck',\n",
    "              'T_strategy = 2.1 v_computed = 2.0 dynamic_ukc_m_bottleneck',\n",
    "              'T_strategy = 2.05 v_computed = 2.46 dynamic_ukc_m_bottleneck', \n",
    "              'T_strategy = 2.0 v_computed = 2.86 dynamic_ukc_m_bottleneck',\n",
    "              'T_strategy = 1.95 v_computed = 3.22 dynamic_ukc_m_bottleneck',\n",
    "              'T_strategy = 1.9 v_computed = 3.54 dynamic_ukc_m_bottleneck',\n",
    "              'T_strategy = 1.85 v_computed = 3.85 dynamic_ukc_m_bottleneck']].T\n",
    "\n",
    "dynamic_ukc.index=['strategy 1 \\n T$_s$=2.15 m \\n V$_s$=1.4 m/s', \n",
    "            'strategy 2 \\n T$_s$=2.10 m \\n V$_s$=2.0 m/s',\n",
    "            'strategy 3 \\n T$_s$=2.05 m \\n V$_s$=2.5 m/s',\n",
    "            'strategy 4 \\n T$_s$=2.00 m \\n V$_s$=2.9 m/s',\n",
    "            'strategy 5 \\n T$_s$=1.95 m \\n V$_s$=3.2 m/s',\n",
    "            'strategy 6 \\n T$_s$=1.90 m \\n V$_s$=3.5 m/s',\n",
    "            'strategy 7 \\n T$_s$=1.85 m \\n V$_s$=3.8 m/s',]\n",
    "\n",
    "dynamic_ukc.columns =['section 2 (bottleneck)']\n",
    "dynamic_ukc.head(7)"
   ]
  },
  {
   "cell_type": "code",
   "execution_count": null,
   "metadata": {},
   "outputs": [
    {
     "name": "stderr",
     "output_type": "stream",
     "text": [
      "ERROR:root:Internal Python error in the inspect module.\n",
      "Below is the traceback from this internal error.\n",
      "\n"
     ]
    },
    {
     "name": "stdout",
     "output_type": "stream",
     "text": [
      "ERROR! Session/line number was not unique in database. History logging moved to new session 1483\n",
      "Traceback (most recent call last):\n",
      "ERROR! Session/line number was not unique in NameError: name 'dynamic_ukc' is not defined\n",
      "\n",
      "During handling of the above exception, another exception occurred:\n",
      "\n",
      "Traceback (most recent call last):\n",
      "AttributeError: 'NameError' object has no attribute '_render_traceback_'\n",
      "\n",
      "During handling of the above exception, another exception occurred:\n",
      "\n",
      "Traceback (most recent call last):\n",
      "AssertionError\n",
      "database. History logging moved to new session 1484\n"
     ]
    },
    {
     "name": "stderr",
     "output_type": "stream",
     "text": [
      "ERROR:root:Internal Python error in the inspect module.\n",
      "Below is the traceback from this internal error.\n",
      "\n",
      "ERROR:root:Internal Python error in the inspect module.\n",
      "Below is the traceback from this internal error.\n",
      "\n"
     ]
    },
    {
     "name": "stdout",
     "output_type": "stream",
     "text": [
      "Traceback (most recent call last):\n",
      "NameError: name 'dynamic_ukc' is not defined\n",
      "\n",
      "During handling of the above exception, another exception occurred:\n",
      "\n",
      "Traceback (most recent call last):\n",
      "AttributeError: 'NameError' object has no attribute '_render_traceback_'\n",
      "\n",
      "During handling of the above exception, another exception occurred:\n",
      "\n",
      "Traceback (most recent call last):\n",
      "TypeError: object of type 'NoneType' has no len()\n",
      "\n",
      "During handling of the above exception, another exception occurred:\n",
      "\n",
      "Traceback (most recent call last):\n",
      "AttributeError: 'TypeError' object has no attribute '_render_traceback_'\n",
      "\n",
      "During handling of the above exception, another exception occurred:\n",
      "\n",
      "Traceback (most recent call last):\n",
      "AssertionError\n",
      "Traceback (most recent call last):\n",
      "NameError: name 'dynamic_ukc' is not defined\n",
      "\n",
      "During handling of the above exception, another exception occurred:\n",
      "\n",
      "Traceback (most recent call last):\n",
      "AttributeError: 'NameError' object has no attribute '_render_traceback_'\n",
      "\n",
      "During handling of the above exception, another exception occurred:\n",
      "\n",
      "Traceback (most recent call last):\n",
      "TypeError: object of type 'NoneType' has no len()\n",
      "\n",
      "During handling of the above exception, another exception occurred:\n",
      "\n",
      "Traceback (most recent call last):\n",
      "AttributeError: 'TypeError' object has no attribute '_render_traceback_'\n",
      "\n",
      "During handling of the above exception, another exception occurred:\n",
      "\n",
      "Traceback (most recent call last):\n",
      "TypeError: object of type 'NoneType' has no len()\n",
      "\n",
      "During handling of the above exception, another exception occurred:\n",
      "\n",
      "Traceback (most recent call last):\n",
      "AttributeError: 'TypeError' object has no attribute '_render_traceback_'\n",
      "\n",
      "During handling of the above exception, another exception occurred:\n",
      "\n",
      "Traceback (most recent call last):\n",
      "AssertionError\n"
     ]
    }
   ],
   "source": [
    "dynamic_ukc_colors=['deepskyblue']\n",
    "dynamic_ukc.plot(kind='bar', stacked=True,color=dynamic_ukc_colors,rot=0, figsize=(10, 3))"
   ]
  },
  {
   "cell_type": "code",
   "execution_count": null,
   "metadata": {},
   "outputs": [
    {
     "name": "stderr",
     "output_type": "stream",
     "text": [
      "ERROR:root:Internal Python error in the inspect module.\n",
      "Below is the traceback from this internal error.\n",
      "\n",
      "ERROR:root:Internal Python error in the inspect module.\n",
      "Below is the traceback from this internal error.\n",
      "\n",
      "ERROR:root:Internal Python error in the inspect module.\n",
      "Below is the traceback from this internal error.\n",
      "\n"
     ]
    },
    {
     "name": "stdout",
     "output_type": "stream",
     "text": [
      "Traceback (most recent call last):\n",
      "NameError: name 'fuel' is not defined\n",
      "\n",
      "During handling of the above exception, another exception occurred:\n",
      "\n",
      "Traceback (most recent call last):\n",
      "AttributeError: 'NameError' object has no attribute '_render_traceback_'\n",
      "\n",
      "During handling of the above exception, another exception occurred:\n",
      "\n",
      "Traceback (most recent call last):\n",
      "AssertionError\n",
      "ERROR! Session/line number was not unique in database. History logging moved to new session 1485\n",
      "Traceback (most recent call last):\n",
      "NameError: name 'fuel' is not defined\n",
      "\n",
      "During handling of the above exception, another exception occurred:\n",
      "\n",
      "Traceback (most recent call last):\n",
      "AttributeError: 'NameError' object has no attribute '_render_traceback_'\n",
      "\n",
      "During handling of the above exception, another exception occurred:\n",
      "\n",
      "Traceback (most recent call last):\n",
      "TypeError: object of type 'NoneType' has no len()\n",
      "\n",
      "During handling of the above exception, another exception occurred:\n",
      "\n",
      "Traceback (most recent call last):\n",
      "AttributeError: 'TypeError' object has no attribute '_render_traceback_'\n",
      "\n",
      "During handling of the above exception, another exception occurred:\n",
      "\n",
      "Traceback (most recent call last):\n",
      "AssertionError\n",
      "Traceback (most recent call last):\n",
      "NameError: name 'fuel' is not defined\n",
      "\n",
      "During handling of the above exception, another exception occurred:\n",
      "\n",
      "Traceback (most recent call last):\n",
      "AttributeError: 'NameError' object has no attribute '_render_traceback_'\n",
      "\n",
      "During handling of the above exception, another exception occurred:\n",
      "\n",
      "Traceback (most recent call last):\n",
      "TypeError: object of type 'NoneType' has no len()\n",
      "\n",
      "During handling of the above exception, another exception occurred:\n",
      "\n",
      "Traceback (most recent call last):\n",
      "AttributeError: 'TypeError' object has no attribute '_render_traceback_'\n",
      "\n",
      "During handling of the above exception, another exception occurred:\n",
      "\n",
      "Traceback (most recent call last):\n",
      "TypeError: object of type 'NoneType' has no len()\n",
      "\n",
      "During handling of the above exception, another exception occurred:\n",
      "\n",
      "Traceback (most recent call last):\n",
      "AttributeError: 'TypeError' object has no attribute '_render_traceback_'\n",
      "\n",
      "During handling of the above exception, another exception occurred:\n",
      "\n",
      "Traceback (most recent call last):\n",
      "AssertionError\n"
     ]
    },
    {
     "data": {
      "image/png": "[encoded data removed]",
      "text/plain": [
       "<Figure size 720x1728 with 8 Axes>"
      ]
     },
     "metadata": {
      "needs_background": "light"
     },
     "output_type": "display_data"
    }
   ],
   "source": [
    "fig, axes = plt.subplots(nrows=8, ncols=1,figsize=(10, 24),sharex=True)\n",
    "\n",
    "\n",
    "fuel.plot(ax=axes[0],kind='bar', stacked=True,color=fuel_colors,rot=0)\n",
    "plt.yticks(weight = 'bold', fontsize=12)\n",
    "\n",
    "plt.gca().yaxis.set_major_formatter(StrMethodFormatter('{x:,.2f}'))\n",
    "axes[0].set_ylim(0, 3000)\n",
    "axes[0].set_ylabel('Total fuel use \\n (kg)',fontsize=12,fontweight='bold',labelpad=12)\n",
    "axes[0].annotate('(a)', xy=(6, 3000*7/8), fontsize=12,weight = 'bold')\n",
    "axes[0].set_yticklabels(axes[0].get_yticks(), size=12,weight = 'bold')  \n",
    "axes[0].legend(loc='upper left')\n",
    "axes[0].set_title('M8 vessel: L$_s$ = 110 m, B$_s$ = 11.40 m, h$_0$ = 2.5 m')\n",
    "\n",
    "CO2.plot(ax=axes[1],kind='bar', stacked=True,color=CO2_colors,rot=0)\n",
    "axes[1].set_ylim(0, 9000)\n",
    "axes[1].set_ylabel('Total CO2 emission \\n (kg)',fontsize=12,fontweight='bold',labelpad=3)\n",
    "axes[1].set_yticklabels(axes[1].get_yticks(), size=12,weight = 'bold')  \n",
    "axes[1].annotate('(b)', xy=(6, 9000*7/8), fontsize=12,weight = 'bold')\n",
    "axes[1].legend(loc='upper left')\n",
    "plt.yticks(weight = 'bold', fontsize=12)\n",
    "plt.gca().yaxis.set_major_formatter(StrMethodFormatter('{x:,.0f}'))\n",
    "\n",
    "PM10.plot(ax=axes[2],kind='bar', stacked=True,color=PM10_colors,rot=0)\n",
    "axes[2].set_ylim(0, 5)\n",
    "axes[2].set_ylabel('Total PM10 emission \\n (kg)',fontsize=12,fontweight='bold',labelpad=27)\n",
    "axes[2].annotate('(c)', xy=(6, 5*7/8), fontsize=12,weight = 'bold')\n",
    "axes[2].set_yticklabels(axes[2].get_yticks(), size=12,weight = 'bold')  \n",
    "axes[2].legend(loc='upper left')\n",
    "plt.yticks(weight = 'bold', fontsize=12)\n",
    "plt.gca().yaxis.set_major_formatter(StrMethodFormatter('{x:,.0f}'))\n",
    "\n",
    "NOx.plot(ax=axes[3],kind='bar', stacked=True,color=NOx_colors,rot=0)\n",
    "axes[3].set_ylim(0, 120)\n",
    "axes[3].set_ylabel('Total NOx emission \\n (kg)',fontsize=12,fontweight='bold',labelpad=20)  \n",
    "axes[3].set_yticklabels(axes[3].get_yticks(), size=12,weight = 'bold')  \n",
    "axes[3].annotate('(d)', xy=(6, 120*7/8), fontsize=12,weight = 'bold')\n",
    "axes[3].legend(loc='upper left')\n",
    "plt.yticks(weight = 'bold', fontsize=12)\n",
    "plt.gca().yaxis.set_major_formatter(StrMethodFormatter('{x:,.0f}'))\n",
    "\n",
    "Payload.plot(ax=axes[4],kind='bar', stacked=True,color=Payload_colors,rot=0)\n",
    "axes[4].set_ylim(0, 2000)\n",
    "axes[4].set_ylabel('payload \\n (ton)',fontsize=12,fontweight='bold',labelpad=20)  \n",
    "axes[4].set_yticklabels(axes[4].get_yticks(), size=12,weight = 'bold')  \n",
    "axes[4].annotate('(e)', xy=(6, 2000*7/8), fontsize=12,weight = 'bold')\n",
    "axes[4].legend(loc='upper left')\n",
    "plt.yticks(weight = 'bold', fontsize=12)\n",
    "plt.gca().yaxis.set_major_formatter(StrMethodFormatter('{x:,.0f}'))\n",
    "\n",
    "duration.plot(ax=axes[5],kind='bar', stacked=True,color=duration_colors,rot=0)\n",
    "axes[5].set_ylim(0, 25)\n",
    "axes[5].set_ylabel('duration \\n (hours)',fontsize=12,fontweight='bold',labelpad=20)  \n",
    "axes[5].set_yticklabels(axes[5].get_yticks(), size=12,weight = 'bold')  \n",
    "axes[5].annotate('(f)', xy=(6, 25*7/8), fontsize=12,weight = 'bold')\n",
    "axes[5].legend(loc='upper left')\n",
    "plt.yticks(weight = 'bold', fontsize=12)\n",
    "plt.gca().yaxis.set_major_formatter(StrMethodFormatter('{x:,.0f}'))\n",
    "\n",
    "sinkage_max.plot(ax=axes[6],kind='bar', stacked=True,color=sinkage_max_colors,rot=0)\n",
    "axes[6].set_ylim(0, 0.6)\n",
    "axes[6].set_ylabel('maximum sinkage \\n (m)',fontsize=12,fontweight='bold',labelpad=0)  \n",
    "axes[6].set_yticklabels(axes[6].get_yticks(), size=12,weight = 'bold')  \n",
    "axes[6].annotate('(g)', xy=(6, 0.6*7/8), fontsize=12,weight = 'bold')\n",
    "axes[6].legend(loc='upper left')\n",
    "plt.yticks(weight = 'bold', fontsize=12)\n",
    "plt.gca().yaxis.set_major_formatter(StrMethodFormatter('{x:,.2f}'))\n",
    "\n",
    "dynamic_ukc.plot(ax=axes[7],kind='bar', stacked=True,color=dynamic_ukc_colors,rot=0)\n",
    "axes[7].set_ylim(0, 0.6)\n",
    "axes[7].set_ylabel('dynamic ukc \\n (m)',fontsize=12,fontweight='bold',labelpad=20)  \n",
    "axes[7].set_yticklabels(axes[6].get_yticks(), size=12,weight = 'bold')  \n",
    "axes[7].annotate('(h)', xy=(6, 0.6*7/8), fontsize=12,weight = 'bold')\n",
    "axes[7].legend(loc='upper left')\n",
    "plt.yticks(weight = 'bold', fontsize=12)\n",
    "plt.gca().yaxis.set_major_formatter(StrMethodFormatter('{x:,.2f}'))\n",
    "\n",
    "\n",
    "plt.xticks( weight = 'bold', fontsize=12)\n",
    "\n",
    "plt.savefig('Strategies for passing bottleneck.pdf',bbox_inches = 'tight', dpi=600, format='pdf')  \n",
    "plt.show()"
   ]
  },
  {
   "cell_type": "code",
   "execution_count": null,
   "metadata": {},
   "outputs": [],
   "source": []
  },
  {
   "cell_type": "markdown",
   "metadata": {},
   "source": [
    "### Define \"T_v_strategy_energy_simulation\" for passing 3 whole sections (h_0: 6 m, 2.5 m, 6 m)"
   ]
  },
  {
   "cell_type": "code",
   "execution_count": 29,
   "metadata": {},
   "outputs": [
    {
     "name": "stdout",
     "output_type": "stream",
     "text": [
      "ERROR! Session/line number was not unique in database. History logging moved to new session 1486\n"
     ]
    }
   ],
   "source": [
    "def T_v_strategy_energy_simulation(v_strategy, T_strategy):\n",
    "    \n",
    "    # Start simpy environment\n",
    "    simulation_start = datetime.datetime.now()\n",
    "    env = simpy.Environment(initial_time = time.mktime(simulation_start.timetuple()))\n",
    "    env.epoch = time.mktime(simulation_start.timetuple())\n",
    "\n",
    "    # Add graph to environment\n",
    "    env.FG = FG\n",
    "\n",
    "    # Add environment and path to the vessel\n",
    "    # create a fresh instance of vessel\n",
    "    vessel = TransportResource(**data_vessel)\n",
    "    vessel.env = env                                        #the created environment\n",
    "    vessel.name = 'Vessel No.1'                     \n",
    "    vessel.route = path                #the route (the sequence of nodes, as stored as the second column in the path)\n",
    "    vessel.geometry = env.FG.nodes[path[0]]['geometry']     #a shapely.geometry.Point(lon,lat) (here taken as the starting node of the vessel)\n",
    "    vessel._T = T_strategy\n",
    "    vessel.v = v_strategy\n",
    "    \n",
    " \n",
    "    # Start the simulation\n",
    "    env.process(vessel.move())\n",
    "    env.run()\n",
    "    \n",
    "    return vessel"
   ]
  },
  {
   "cell_type": "markdown",
   "metadata": {},
   "source": [
    "### Run \"T_v_strategy_energy_simulation\" for passing 3 whole sections (h_0: 6 m, 2.5 m, 6 m)"
   ]
  },
  {
   "cell_type": "code",
   "execution_count": null,
   "metadata": {},
   "outputs": [],
   "source": []
  },
  {
   "cell_type": "code",
   "execution_count": null,
   "metadata": {},
   "outputs": [],
   "source": []
  },
  {
   "cell_type": "markdown",
   "metadata": {},
   "source": [
    "### Visulization of Stratigies for passing  3 whole sections (h_0: 6 m, 2.5 m, 6 m)"
   ]
  },
  {
   "cell_type": "code",
   "execution_count": null,
   "metadata": {},
   "outputs": [],
   "source": []
  },
  {
   "cell_type": "code",
   "execution_count": 30,
   "metadata": {
    "tags": []
   },
   "outputs": [
    {
     "ename": "SyntaxError",
     "evalue": "invalid syntax (<ipython-input-30-01640fc8f89e>, line 1)",
     "output_type": "error",
     "traceback": [
      "\u001b[1;36m  File \u001b[1;32m\"<ipython-input-30-01640fc8f89e>\"\u001b[1;36m, line \u001b[1;32m1\u001b[0m\n\u001b[1;33m    use dataframe as input run simulation and plot multi-figure sets with strategies, refer to figure 3 5 7 8 9 notebook\u001b[0m\n\u001b[1;37m        ^\u001b[0m\n\u001b[1;31mSyntaxError\u001b[0m\u001b[1;31m:\u001b[0m invalid syntax\n"
     ]
    }
   ],
   "source": [
    "use dataframe as input run simulation and plot multi-figure sets with strategies, refer to figure 3 5 7 8 9 notebook"
   ]
  },
  {
   "cell_type": "code",
   "execution_count": null,
   "metadata": {},
   "outputs": [],
   "source": [
    "do the same to fig 10, 11,13,14,15"
   ]
  },
  {
   "cell_type": "code",
   "execution_count": null,
   "metadata": {},
   "outputs": [],
   "source": [
    "will also influence 3 5 7 8 9, due to v, h_0 variation"
   ]
  }
 ],
 "metadata": {
  "kernelspec": {
   "display_name": "Python 3",
   "language": "python",
   "name": "python3"
  },
  "language_info": {
   "codemirror_mode": {
    "name": "ipython",
    "version": 3
   },
   "file_extension": ".py",
   "mimetype": "text/x-python",
   "name": "python",
   "nbconvert_exporter": "python",
   "pygments_lexer": "ipython3",
   "version": "3.8.6"
  }
 },
 "nbformat": 4,
 "nbformat_minor": 5
}
