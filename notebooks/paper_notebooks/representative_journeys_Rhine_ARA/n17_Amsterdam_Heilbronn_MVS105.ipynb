{
 "cells": [
  {
   "cell_type": "markdown",
   "id": "5d9ce309",
   "metadata": {},
   "source": [
    "### Imports\n",
    "Import the required libraries"
   ]
  },
  {
   "cell_type": "code",
   "execution_count": 1,
   "id": "2f23dc0b",
   "metadata": {},
   "outputs": [],
   "source": [
    "# package(s) related to time, space and id\n",
    "import logging\n",
    "import datetime, time\n",
    "import platform\n",
    "import itertools\n",
    "# you need these dependencies (you can get these from anaconda)\n",
    "# package(s) related to the simulation\n",
    "import simpy\n",
    "import pandas as pd\n",
    "\n",
    "# spatial libraries \n",
    "import pyproj\n",
    "import shapely.geometry\n",
    "from simplekml import Kml, Style\n",
    "\n",
    "# package(s) for data handling\n",
    "import numpy as np\n",
    "import matplotlib.pyplot as plt\n",
    "\n",
    "# OpenTNSim\n",
    "import opentnsim\n",
    "\n",
    "# Used for mathematical functions\n",
    "import math             \n",
    "import tqdm\n",
    "# Used for making the graph to visualize our problem\n",
    "import networkx as nx   \n",
    "\n",
    "import plotly.express as px\n",
    "from plotly.subplots import make_subplots\n",
    "\n",
    "#logging.basicConfig(level=logging.DEBUG) #turn on all the debug messages\n",
    "logging.basicConfig(level=logging.INFO)# turn off all the debug messages\n"
   ]
  },
  {
   "cell_type": "markdown",
   "id": "738a48f2",
   "metadata": {},
   "source": [
    "### Create graph\n"
   ]
  },
  {
   "cell_type": "code",
   "execution_count": 2,
   "id": "3255d0dd",
   "metadata": {},
   "outputs": [],
   "source": [
    "# specify a number of coordinate along your route (coords are: lon, lat)\n",
    "coords = [\n",
    "    [0,0],\n",
    "    [0.44915,0],\n",
    "    [3.80879,0], \n",
    "    [4.25794,0],\n",
    "    [5.15624,0],\n",
    "    [6.063525,0]\n",
    "] \n",
    "\n",
    "# for each edge (between above coordinates) specify the depth (m)\n",
    "depths = [6, 4.5, 3.2, 4.5,2.8]\n",
    "\n",
    "# check of nr of coords and nr of depths align\n",
    "assert len(coords) == len(depths) + 1, 'nr of depths does not correspond to nr of coords'"
   ]
  },
  {
   "cell_type": "code",
   "execution_count": 3,
   "id": "0e482d81",
   "metadata": {},
   "outputs": [],
   "source": [
    "# create a graph based on coords and depths\n",
    "FG = nx.DiGraph()\n",
    "nodes = []\n",
    "path = []\n",
    "\n",
    "# add nodes\n",
    "Node = type('Site', (opentnsim.core.Identifiable, opentnsim.core.Locatable), {})\n",
    "\n",
    "for index, coord in enumerate(coords):\n",
    "    data_node = {\"name\": \"Node \" + str(index), \"geometry\": shapely.geometry.Point(coord[0], coord[1])}\n",
    "    nodes.append(Node(**data_node))\n",
    "    \n",
    "positions = {}\n",
    "for node in nodes:\n",
    "    positions[node.name] = (node.geometry.x, node.geometry.y)\n",
    "    FG.add_node(node.name, geometry = node.geometry)\n",
    "\n",
    "# add edges\n",
    "path = [[nodes[i], nodes[i+1]] for i in range(len(nodes)-1)]\n",
    "\n",
    "for index, edge in enumerate(path):\n",
    "    # For the energy consumption calculation we add info to the graph. We need depth info for resistance.\n",
    "    # NB: the CalculateEnergy routine expects the graph to have \"Info\" that contains \"GeneralDepth\" \n",
    "    #     this may not be very generic!\n",
    "    FG.add_edge(edge[0].name, edge[1].name, weight = 1, Info = {\"GeneralDepth\": depths[index]})\n",
    "\n",
    "# toggle to undirected and back to directed to make sure all edges are two way traffic\n",
    "FG = FG.to_undirected() \n",
    "FG = FG.to_directed() "
   ]
  },
  {
   "cell_type": "code",
   "execution_count": 4,
   "id": "c99fed1e",
   "metadata": {},
   "outputs": [
    {
     "data": {
      "image/png": "[encoded data removed]",
      "text/plain": [
       "<Figure size 432x288 with 1 Axes>"
      ]
     },
     "metadata": {},
     "output_type": "display_data"
    }
   ],
   "source": [
    "# show graph\n",
    "nx.draw(FG, positions)\n",
    "plt.show()"
   ]
  },
  {
   "cell_type": "code",
   "execution_count": 5,
   "id": "dbb74982",
   "metadata": {},
   "outputs": [
    {
     "name": "stdout",
     "output_type": "stream",
     "text": [
      "General depth for edge ('Node 0', 'Node 1') is 6\n",
      "General depth for edge ('Node 1', 'Node 0') is 6\n",
      "General depth for edge ('Node 1', 'Node 2') is 4.5\n",
      "General depth for edge ('Node 2', 'Node 1') is 4.5\n",
      "General depth for edge ('Node 2', 'Node 3') is 3.2\n",
      "General depth for edge ('Node 3', 'Node 2') is 3.2\n",
      "General depth for edge ('Node 3', 'Node 4') is 4.5\n",
      "General depth for edge ('Node 4', 'Node 3') is 4.5\n",
      "General depth for edge ('Node 4', 'Node 5') is 2.8\n",
      "General depth for edge ('Node 5', 'Node 4') is 2.8\n"
     ]
    }
   ],
   "source": [
    "# This cell just shows that now a depth of 10 m is added to the edges. \n",
    "# You can use this to vary depths, e.g. make the middle edge shallower. Note that edges are bi-directional \n",
    "for edge in FG.edges:\n",
    "    print('General depth for edge {} is {}'.format(edge, FG.get_edge_data(edge[0], edge[1])[\"Info\"][\"GeneralDepth\"]))"
   ]
  },
  {
   "cell_type": "markdown",
   "id": "2796b4d3",
   "metadata": {},
   "source": [
    "### Create vessel - add VesselProperties and ConsumesEnergy mixins\n"
   ]
  },
  {
   "cell_type": "code",
   "execution_count": 6,
   "id": "689cc5ea",
   "metadata": {},
   "outputs": [],
   "source": [
    "# Make your preferred class out of available mix-ins.\n",
    "TransportResource = type(\n",
    "    \"Vessel\",\n",
    "    (\n",
    "        opentnsim.core.Identifiable,\n",
    "        opentnsim.core.Movable,\n",
    "        opentnsim.core.VesselProperties,  # needed to add vessel properties\n",
    "        opentnsim.energy.ConsumesEnergy,\n",
    "        opentnsim.core.ExtraMetadata,\n",
    "    ),\n",
    "    {},\n",
    ")  # needed to calculate resistances"
   ]
  },
  {
   "cell_type": "code",
   "execution_count": 7,
   "id": "9bcef32d",
   "metadata": {},
   "outputs": [],
   "source": [
    "# Create a dict with all important settings\n",
    "\n",
    "data_vessel = {\n",
    "    \"env\": None,\n",
    "    \"name\": 'Vessel',\n",
    "    \"route\": None,\n",
    "    \"geometry\": None,\n",
    "    \"v\": 1,  # m/s\n",
    "    \"type\": None,\n",
    "    \"B\": 11.4,\n",
    "    \"L\": 105,\n",
    "    \"H_e\": None, \n",
    "    \"H_f\": None, \n",
    "    \"T\": 2.3,\n",
    "    \"safety_margin\": 0.3, # for tanker vessel with rocky bed the safety margin is recommended as 0.3 m\n",
    "    \"h_squat\": False, # if consider the ship squatting while moving, set to True, otherwise set to False. Note that here we have disabled h_squat calculation since we regard the water depth h_0 is already reduced by squat effect. This applies to figures 3, 5, 7, 8 and 9.\n",
    "    \"payload\":None,\n",
    "    \"vessel_type\":\"Tanker\", #vessel types: \"Container\",\"Dry_SH\",\"Dry_DH\",\"Barge\",\"Tanker\". (\"Dry_SH\" means dry bulk single hull, \"Dry_DH\" means dry bulk double hull)    \n",
    "    \"P_installed\": 1286, # kW  \n",
    "    \"P_tot_given\": None, # kW\n",
    "    \"bulbous_bow\": False, # if a vessel has no bulbous_bow, set to False; otherwise set to True.\n",
    "    \"P_hotel_perc\": 0,\n",
    "    \"P_hotel\": None, # None: calculate P_hotel from percentage\n",
    "    \"x\": 2,# number of propellers\n",
    "    \"L_w\": 3.0 ,\n",
    "    \"C_B\":0.9, \n",
    "    \"C_year\": 2000,\n",
    "}             \n",
    "\n"
   ]
  },
  {
   "cell_type": "markdown",
   "id": "67658145",
   "metadata": {},
   "source": [
    "### Define paths\n",
    "We are going to create a simulation in which a vessel moves from *Node 1* to *Node 4*. Therefore, we need to create a vessel to which we will need to append this paths. Therefore, first let's create the path."
   ]
  },
  {
   "cell_type": "code",
   "execution_count": 8,
   "id": "059bf568",
   "metadata": {},
   "outputs": [],
   "source": [
    "path = nx.dijkstra_path(FG, nodes[0].name, nodes[5].name)"
   ]
  },
  {
   "cell_type": "markdown",
   "id": "639fc222",
   "metadata": {},
   "source": [
    "### Run simulation\n"
   ]
  },
  {
   "cell_type": "code",
   "execution_count": 9,
   "id": "16e34b3b",
   "metadata": {},
   "outputs": [],
   "source": [
    "def run_simulation(V_s):\n",
    "    \n",
    "    # Start simpy environment\n",
    "    simulation_start = datetime.datetime.now()\n",
    "    env = simpy.Environment(initial_time = time.mktime(simulation_start.timetuple()))\n",
    "    env.epoch = time.mktime(simulation_start.timetuple())\n",
    "\n",
    "    # Add graph to environment\n",
    "    env.FG = FG\n",
    "\n",
    "    # Add environment and path to the vessel\n",
    "    # create a fresh instance of vessel\n",
    "    vessel = TransportResource(**data_vessel)\n",
    "    vessel.env = env                                        #the created environment\n",
    "    vessel.name = 'Vessel No.1'                     \n",
    "    vessel.route = path                                     #the route (the sequence of nodes, as stored as the second column in the path)\n",
    "    vessel.geometry = env.FG.nodes[path[0]]['geometry']     #a shapely.geometry.Point(lon,lat) (here taken as the starting node of the vessel)\n",
    "    vessel.v = V_s\n",
    "    # vessel.P_tot_given = P_tot_given\n",
    "    \n",
    "    # Start the simulation\n",
    "    env.process(vessel.move())\n",
    "    env.run()\n",
    "    \n",
    "    return vessel"
   ]
  },
  {
   "cell_type": "code",
   "execution_count": 10,
   "id": "4b9f8d56",
   "metadata": {},
   "outputs": [
    {
     "data": {
      "text/plain": [
       "{'V_s': [2.67]}"
      ]
     },
     "execution_count": 10,
     "metadata": {},
     "output_type": "execute_result"
    }
   ],
   "source": [
    "input_data = {'V_s': [2.67]} #  \n",
    "input_data"
   ]
  },
  {
   "cell_type": "code",
   "execution_count": 11,
   "id": "0ebd1c01",
   "metadata": {
    "tags": []
   },
   "outputs": [
    {
     "name": "stdout",
     "output_type": "stream",
     "text": [
      "eta_D = 0.36\n",
      "eta_D = 0.36\n",
      "eta_D = 0.36\n",
      "eta_D = 0.28\n",
      "eta_D = 0.28\n",
      "eta_D = 0.28\n",
      "eta_D = 0.28\n",
      "eta_D = 0.28\n",
      "eta_D = 0.28\n",
      "eta_D = 0.28\n",
      "eta_D = 0.28\n",
      "eta_D = 0.28\n",
      "eta_D = 0.28\n",
      "eta_D = 0.28\n",
      "eta_D = 0.28\n"
     ]
    },
    {
     "name": "stderr",
     "output_type": "stream",
     "text": [
      "C:\\ANACONDA2021\\envs\\sim\\lib\\site-packages\\pandas\\core\\dtypes\\cast.py:122: ShapelyDeprecationWarning:\n",
      "\n",
      "The array interface is deprecated and will no longer work in Shapely 2.0. Convert the '.coords' to a numpy array instead.\n",
      "\n"
     ]
    }
   ],
   "source": [
    "# create empty plot data\n",
    "plot_data = {}\n",
    "\n",
    "# loop through the various input data\n",
    "for index, value in enumerate(input_data['V_s']):\n",
    "    \n",
    "    # Run a basic simulation with V_s and P_tot_given combi\n",
    "    vessel = run_simulation(input_data['V_s'][index])\n",
    "    \n",
    "    # create an EnergyCalculation object and perform energy consumption calculation\n",
    "    energycalculation = opentnsim.energy.EnergyCalculation(FG, vessel)\n",
    "    energycalculation.calculate_energy_consumption()\n",
    "    \n",
    "    # create dataframe from energy calculation computation\n",
    "    df = pd.DataFrame.from_dict(energycalculation.energy_use)\n",
    "    \n",
    "    # add/modify some comlums to suit our plotting needs\n",
    "   \n",
    "    df['fuel_kg_per_km'] = (df['total_diesel_consumption_C_year_ICE_mass']/1000) / (df['distance']/1000)  # g/m --> kg/km\n",
    "    df['CO2_g_per_km']   = (df['total_emission_CO2']) / (df['distance']/1000)\n",
    "    df['PM10_g_per_km']  = (df['total_emission_PM10']) / (df['distance']/1000)\n",
    "    df['NOx_g_per_km']   = (df['total_emission_NOX']) / (df['distance']/1000)\n",
    "    \n",
    "    label = 'V_s = ' + str(input_data['V_s'][index]) \n",
    "\n",
    "    # Note that we make a dict to collect all plot data. \n",
    "    # We use labels like ['V_s = None P_tot_given = 274 fuel_kg_km'] to organise the data in the dict\n",
    "    # The [0, 0, 1, 1, 2, 2] below creates a list per section (I think this is the way you use it in your plot)\n",
    "    # plot_data[label + ' v'] = list(df.distance[[0, 0, 1, 1, 2, 2]]/df.delta_t[[0, 0, 1, 1, 2, 2]])\n",
    "    # plot_data[label + ' P_tot']   = list(df.P_tot[[0, 0, 1, 1, 2, 2]])\n",
    "    plot_data[label + ' fuel_kg_per_km']   = list(df.fuel_kg_per_km[[0, 0, 1, 1, 2, 2, 3, 3,4,4]])\n",
    "    plot_data[label + ' CO2_g_per_km'] = list(df.CO2_g_per_km[[0, 0, 1, 1, 2, 2, 3, 3,4,4]])\n",
    "    plot_data[label + ' PM10_g_per_km']   = list(df.PM10_g_per_km[[0, 0, 1, 1, 2, 2, 3, 3,4,4]])\n",
    "    plot_data[label + ' NOx_g_per_km']   = list(df.NOx_g_per_km[[0, 0, 1, 1, 2, 2, 3, 3,4,4]])\n",
    "        "
   ]
  },
  {
   "cell_type": "code",
   "execution_count": 12,
   "id": "e5ffc56e",
   "metadata": {
    "tags": []
   },
   "outputs": [
    {
     "data": {
      "text/plain": [
       "{'V_s = 2.67 fuel_kg_per_km': [4.0610894923824565,\n",
       "  4.0610894923824565,\n",
       "  5.301334686358293,\n",
       "  5.301334686358293,\n",
       "  5.639496666912955,\n",
       "  5.639496666912955,\n",
       "  5.301334686244662,\n",
       "  5.301334686244662,\n",
       "  6.12368862881457,\n",
       "  6.12368862881457],\n",
       " 'V_s = 2.67 CO2_g_per_km': [12876.62521974925,\n",
       "  12876.62521974925,\n",
       "  16809.109981136047,\n",
       "  16809.109981136047,\n",
       "  17881.330895089857,\n",
       "  17881.330895089857,\n",
       "  16809.109980775764,\n",
       "  16809.109980775764,\n",
       "  19416.573701119367,\n",
       "  19416.573701119367],\n",
       " 'V_s = 2.67 PM10_g_per_km': [7.367217199863588,\n",
       "  7.367217199863588,\n",
       "  8.485944267802404,\n",
       "  8.485944267802404,\n",
       "  8.867700447596206,\n",
       "  8.867700447596206,\n",
       "  8.485944267695379,\n",
       "  8.485944267695379,\n",
       "  9.3732375487622,\n",
       "  9.3732375487622],\n",
       " 'V_s = 2.67 NOx_g_per_km': [196.06860607841006,\n",
       "  196.06860607841006,\n",
       "  238.5072361266789,\n",
       "  238.5072361266789,\n",
       "  251.6345339964656,\n",
       "  251.6345339964656,\n",
       "  238.50723612254583,\n",
       "  238.50723612254583,\n",
       "  269.89345754890536,\n",
       "  269.89345754890536]}"
      ]
     },
     "execution_count": 12,
     "metadata": {},
     "output_type": "execute_result"
    }
   ],
   "source": [
    "# this is now in the plot data\n",
    "plot_data"
   ]
  },
  {
   "cell_type": "code",
   "execution_count": null,
   "id": "5a14189b-361a-487e-aae0-6276c971b5c6",
   "metadata": {},
   "outputs": [],
   "source": []
  },
  {
   "cell_type": "code",
   "execution_count": 13,
   "id": "63eb40e5",
   "metadata": {},
   "outputs": [
    {
     "name": "stderr",
     "output_type": "stream",
     "text": [
      "WARNING:matplotlib.legend:No artists with labels found to put in legend.  Note that artists whose label start with an underscore are ignored when legend() is called with no argument.\n"
     ]
    },
    {
     "data": {
      "image/png": "[encoded data removed]",
      "text/plain": [
       "<Figure size 720x720 with 5 Axes>"
      ]
     },
     "metadata": {
      "needs_background": "light"
     },
     "output_type": "display_data"
    }
   ],
   "source": [
    "fig, axs = plt.subplots(5, 1, figsize=(10, 10), sharex=True,constrained_layout=True)\n",
    "fontsize=12\n",
    "\n",
    "ax=plt.subplot(511)    # Longitudinal section of the waterway\n",
    "\n",
    "plt.title('Amsterdam- Heilbronn, MVS 105: L$_s$ = 105 m, B$_s$ = 11.4m, T$_s$ = 2.3 m, payload = 1548 ton, P$_{installed}$ = 1286 kW',y=1.05)\n",
    "# these values you probably want to extract from the graph, or from the log (minimise the manual work!!)\n",
    "dist=[0,50,50,424,424,474,474,574,574,675]\n",
    "water_level=[3.7,3.7,2.2,2.2,0.9,0.9,2.2,2.2,0.5,0.5]\n",
    "bed_level=[1,1,2.5,2.5,3.8,3.8,2.5,2.5,4.2,4.2]\n",
    "draft=[2.3,2.3,2.3,2.3,2.3,2.3,2.3,2.3,2.3,2.3]\n",
    "\n",
    "plt.stackplot(dist,bed_level,water_level,draft, labels=['bed','water','actual draught'],colors=['#7f7053','#75bbfd','#95d0fc'])\n",
    "plt.ylabel('Longitudinal section \\n of the waterway',fontsize=12,fontweight='bold',labelpad=30)\n",
    "plt.xlim(0, 675)\n",
    "plt.ylim(0, 14)\n",
    "plt.xticks( weight = 'bold')\n",
    "plt.yticks([1,4.7,7], weight = 'bold', fontsize=12)\n",
    "ax.legend(loc='upper left')\n",
    "ax.text(645, 12, '(a)', fontsize=12,weight = 'bold')\n",
    "\n",
    "ax=plt.subplot(512)    #  fuel (diesel) consumption kg/km \n",
    "\n",
    "# diesel_fv1=(plot_data['V_s = 3.0 P_tot_given = None fuel_kg_per_km']) # use values from the output_plot variable\n",
    "# diesel_fv2=(plot_data['V_s = 3.5 P_tot_given = None fuel_kg_per_km'])\n",
    "\n",
    "# diesel_fp1=(plot_data['V_s = None P_tot_given = 276 fuel_kg_per_km'])\n",
    "diesel_fp2=(plot_data['V_s = 2.67 fuel_kg_per_km'])\n",
    "# plt.plot(dist, diesel_fv1,':',color='#f1da7a',linewidth='2',label='Vs=3 m/s')\n",
    "# plt.plot(dist, diesel_fv2,'-.',color='#bf9005',linewidth='2',label='Vs=3.5 m/s')\n",
    "# plt.plot(dist, diesel_fp1,color='#f1da7a',linewidth='2',label='P=276 kW')\n",
    "plt.plot(dist, diesel_fp2,color='#bf9005',linewidth='2',label='Vs = 9.6 km/h')\n",
    "\n",
    "\n",
    "\n",
    "plt.ylabel('Fuel use\\n (kg/km)',fontsize=12,fontweight='bold',labelpad=28)\n",
    "plt.ylim(0, 20)\n",
    "plt.xlim(0, 675)\n",
    "plt.xticks( weight = 'bold')\n",
    "plt.yticks( weight = 'bold', fontsize=12)\n",
    "ax.legend(loc='upper left')\n",
    "ax.text(645, 20*11/13, '(b)', fontsize=12,weight = 'bold')\n",
    "\n",
    "ax=plt.subplot(513)    #  CO2 emission rates g/km\n",
    "ax.legend(loc='upper left')\n",
    "\n",
    "# EMrCO2_fv1=(plot_data['V_s = 3.0 P_tot_given = None CO2_g_per_km'])\n",
    "# EMrCO2_fv2=(plot_data['V_s = 3.5 P_tot_given = None CO2_g_per_km'])\n",
    "\n",
    "# EMrCO2_fp1=(plot_data['V_s = None P_tot_given = 276 CO2_g_per_km'])\n",
    "EMrCO2_fp2=(plot_data['V_s = 2.67 CO2_g_per_km'])\n",
    "\n",
    "# plt.plot(dist, EMrCO2_fv1,':',color='yellow',linewidth='2',label='Vs=3 m/s')\n",
    "# plt.plot(dist, EMrCO2_fv2,'-.',color='orange',linewidth='2',label='Vs=3.5 m/s')\n",
    "# plt.plot(dist, EMrCO2_fp1,color='yellow',linewidth='2',label='P=276 kW')\n",
    "plt.plot(dist, EMrCO2_fp2,color='orange',linewidth='2',label='Vs = 9.6 km/h')\n",
    "\n",
    "\n",
    "ax.legend(loc='upper left')\n",
    "plt.ylabel('CO2 emission \\n rate (g/km)',fontsize=12,fontweight='bold',labelpad=2)\n",
    "plt.ylim(0, 60000)\n",
    "plt.xlim(0, 675)\n",
    "plt.xticks( weight = 'bold')\n",
    "plt.yticks( weight = 'bold', fontsize=12)\n",
    "ax.text(645, 60000*11/13, '(c)', fontsize=12,weight = 'bold')\n",
    "\n",
    "ax=plt.subplot(514)    #  PM10 emission rates g/km\n",
    "\n",
    "# EMrPM10_fv1=(plot_data['V_s = 3.0 P_tot_given = None PM10_g_per_km'])\n",
    "# EMrPM10_fv2=(plot_data['V_s = 3.5 P_tot_given = None PM10_g_per_km'])\n",
    "\n",
    "# EMrPM10_fp1=(plot_data['V_s = None P_tot_given = 276 PM10_g_per_km'])\n",
    "EMrPM10_fp2=(plot_data['V_s = 2.67 PM10_g_per_km'])\n",
    "# plt.plot(dist, EMrPM10_fv1,':',color='paleturquoise',linewidth='2',label='Vs=3 m/s')\n",
    "# plt.plot(dist, EMrPM10_fv2,'-.',color='mediumseagreen',linewidth='2',label='Vs=3.5 m/s')\n",
    "# plt.plot(dist, EMrPM10_fp1,color='paleturquoise',linewidth='2',label='P=276 kW')\n",
    "plt.plot(dist, EMrPM10_fp2,color='mediumseagreen',linewidth='2',label='Vs = 9.6 km/h')\n",
    "\n",
    "\n",
    "\n",
    "ax.legend(loc='upper left')\n",
    "plt.ylabel('PM10 emission \\n rate (g/km)',fontsize=12,fontweight='bold',labelpad=26)\n",
    "plt.ylim(0, 40)\n",
    "plt.xlim(0, 675)\n",
    "plt.xticks( weight = 'bold')\n",
    "plt.yticks( weight = 'bold', fontsize=12)\n",
    "ax.text(645, 40*11/13, '(d)', fontsize=12,weight = 'bold')\n",
    "\n",
    "ax=plt.subplot(515)     #  NOx emission rates g/km\n",
    "\n",
    "# EMrNOx_fv1=(plot_data['V_s = 3.0 P_tot_given = None NOx_g_per_km'])\n",
    "# EMrNOx_fv2=(plot_data['V_s = 3.5 P_tot_given = None NOx_g_per_km'])\n",
    "\n",
    "# EMrNOx_fp1=(plot_data['V_s = None P_tot_given = 276 NOx_g_per_km'])\n",
    "EMrNOx_fp2=(plot_data['V_s = 2.67 NOx_g_per_km'])\n",
    "# plt.plot(dist, EMrNOx_fv1,':',color='pink',linewidth='2',label='Vs=3 m/s')\n",
    "# plt.plot(dist, EMrNOx_fv2,'-.',color='deeppink',linewidth='2',label='Vs=3.5 m/s')\n",
    "# plt.plot(dist, EMrNOx_fp1,color='pink',linewidth='2',label='P=276 kW')\n",
    "plt.plot(dist, EMrNOx_fp2,color='deeppink',linewidth='2',label='Vs = 9.6 km/h')\n",
    "\n",
    "\n",
    "\n",
    "plt.ylabel('NOx emission \\n rate (g/km)',fontsize=12,fontweight='bold',labelpad=10)\n",
    "plt.xlabel('distance (km)',fontsize=12,fontweight='bold',labelpad=3)\n",
    "plt.ylim(0, 1000)\n",
    "plt.xlim(0, 675)\n",
    "ax.legend(loc='upper left')\n",
    "plt.xticks([0,50,424,474,574,675], weight = 'bold', fontsize=12)\n",
    "plt.yticks( weight = 'bold', fontsize=12)\n",
    "ax.text(645, 1000*11/13, '(e)', fontsize=12,weight = 'bold')\n",
    "\n",
    "plt.savefig('n17_Amsterdam_Heilbronn_MVS105.pdf',bbox_inches = 'tight', dpi=600, format='pdf')  "
   ]
  },
  {
   "cell_type": "markdown",
   "id": "3d0cfe1f-4411-4e99-889c-5c4870bf3750",
   "metadata": {},
   "source": [
    "### kg/km, g/km"
   ]
  },
  {
   "cell_type": "code",
   "execution_count": 14,
   "id": "4f8e24bc-c20b-4489-a514-791b841dc09e",
   "metadata": {
    "jupyter": {
     "source_hidden": true
    },
    "tags": []
   },
   "outputs": [],
   "source": [
    "df['fuel_kg_per_km'] = (df['total_diesel_consumption_C_year_ICE_mass']/1000) / (df['distance']/1000)  # g/m --> kg/km\n",
    "df['CO2_g_per_km']   = (df['total_emission_CO2']) / (df['distance']/1000)\n",
    "df['PM10_g_per_km']  = (df['total_emission_PM10']) / (df['distance']/1000)\n",
    "df['NOx_g_per_km']   = (df['total_emission_NOX']) / (df['distance']/1000)"
   ]
  },
  {
   "cell_type": "code",
   "execution_count": 15,
   "id": "eb548caf-0d4c-45c9-8db3-08f8d009e8d1",
   "metadata": {
    "jupyter": {
     "source_hidden": true
    },
    "tags": []
   },
   "outputs": [
    {
     "data": {
      "text/html": [
       "<div>\n",
       "<style scoped>\n",
       "    .dataframe tbody tr th:only-of-type {\n",
       "        vertical-align: middle;\n",
       "    }\n",
       "\n",
       "    .dataframe tbody tr th {\n",
       "        vertical-align: top;\n",
       "    }\n",
       "\n",
       "    .dataframe thead th {\n",
       "        text-align: right;\n",
       "    }\n",
       "</style>\n",
       "<table border=\"1\" class=\"dataframe\">\n",
       "  <thead>\n",
       "    <tr style=\"text-align: right;\">\n",
       "      <th></th>\n",
       "      <th>fuel_kg_per_km</th>\n",
       "      <th>CO2_g_per_km</th>\n",
       "      <th>PM10_g_per_km</th>\n",
       "      <th>NOx_g_per_km</th>\n",
       "    </tr>\n",
       "  </thead>\n",
       "  <tbody>\n",
       "    <tr>\n",
       "      <th>0</th>\n",
       "      <td>4.061089</td>\n",
       "      <td>12876.625220</td>\n",
       "      <td>7.367217</td>\n",
       "      <td>196.068606</td>\n",
       "    </tr>\n",
       "    <tr>\n",
       "      <th>1</th>\n",
       "      <td>5.301335</td>\n",
       "      <td>16809.109981</td>\n",
       "      <td>8.485944</td>\n",
       "      <td>238.507236</td>\n",
       "    </tr>\n",
       "    <tr>\n",
       "      <th>2</th>\n",
       "      <td>5.639497</td>\n",
       "      <td>17881.330895</td>\n",
       "      <td>8.867700</td>\n",
       "      <td>251.634534</td>\n",
       "    </tr>\n",
       "    <tr>\n",
       "      <th>3</th>\n",
       "      <td>5.301335</td>\n",
       "      <td>16809.109981</td>\n",
       "      <td>8.485944</td>\n",
       "      <td>238.507236</td>\n",
       "    </tr>\n",
       "    <tr>\n",
       "      <th>4</th>\n",
       "      <td>6.123689</td>\n",
       "      <td>19416.573701</td>\n",
       "      <td>9.373238</td>\n",
       "      <td>269.893458</td>\n",
       "    </tr>\n",
       "  </tbody>\n",
       "</table>\n",
       "</div>"
      ],
      "text/plain": [
       "   fuel_kg_per_km  CO2_g_per_km  PM10_g_per_km  NOx_g_per_km\n",
       "0        4.061089  12876.625220       7.367217    196.068606\n",
       "1        5.301335  16809.109981       8.485944    238.507236\n",
       "2        5.639497  17881.330895       8.867700    251.634534\n",
       "3        5.301335  16809.109981       8.485944    238.507236\n",
       "4        6.123689  19416.573701       9.373238    269.893458"
      ]
     },
     "execution_count": 15,
     "metadata": {},
     "output_type": "execute_result"
    }
   ],
   "source": [
    "df_km=df[['fuel_kg_per_km','CO2_g_per_km','PM10_g_per_km','NOx_g_per_km']]\n",
    "df_km"
   ]
  },
  {
   "cell_type": "markdown",
   "id": "484363a7-9590-44b6-b7fe-83e5cb3cdead",
   "metadata": {},
   "source": [
    "### g/tkm"
   ]
  },
  {
   "cell_type": "code",
   "execution_count": 16,
   "id": "749bebfe-7a05-42dc-860e-c36117d23936",
   "metadata": {
    "tags": []
   },
   "outputs": [],
   "source": [
    "payload_ton = 1548"
   ]
  },
  {
   "cell_type": "code",
   "execution_count": 17,
   "id": "64c3d04d-0d14-42ab-8e66-e8fcfc6faf73",
   "metadata": {
    "jupyter": {
     "source_hidden": true
    },
    "tags": []
   },
   "outputs": [],
   "source": [
    "df['fuel_g_per_tkm']=(df['total_diesel_consumption_C_year_ICE_mass']) / (df['distance']/1000)/payload_ton\n",
    "df['CO2_g_per_tkm']=df['CO2_g_per_km']/payload_ton\n",
    "df['PM10_g_per_tkm']=df['PM10_g_per_km']/payload_ton\n",
    "df['NOx_g_per_tkm']=df['NOx_g_per_km']/payload_ton"
   ]
  },
  {
   "cell_type": "code",
   "execution_count": 18,
   "id": "37966b9d-c849-498e-82c9-281a9d85a066",
   "metadata": {
    "jupyter": {
     "source_hidden": true
    },
    "tags": []
   },
   "outputs": [
    {
     "data": {
      "text/html": [
       "<div>\n",
       "<style scoped>\n",
       "    .dataframe tbody tr th:only-of-type {\n",
       "        vertical-align: middle;\n",
       "    }\n",
       "\n",
       "    .dataframe tbody tr th {\n",
       "        vertical-align: top;\n",
       "    }\n",
       "\n",
       "    .dataframe thead th {\n",
       "        text-align: right;\n",
       "    }\n",
       "</style>\n",
       "<table border=\"1\" class=\"dataframe\">\n",
       "  <thead>\n",
       "    <tr style=\"text-align: right;\">\n",
       "      <th></th>\n",
       "      <th>fuel_g_per_tkm</th>\n",
       "      <th>CO2_g_per_tkm</th>\n",
       "      <th>PM10_g_per_tkm</th>\n",
       "      <th>NOx_g_per_tkm</th>\n",
       "    </tr>\n",
       "  </thead>\n",
       "  <tbody>\n",
       "    <tr>\n",
       "      <th>0</th>\n",
       "      <td>2.623443</td>\n",
       "      <td>8.318233</td>\n",
       "      <td>0.004759</td>\n",
       "      <td>0.126659</td>\n",
       "    </tr>\n",
       "    <tr>\n",
       "      <th>1</th>\n",
       "      <td>3.424635</td>\n",
       "      <td>10.858598</td>\n",
       "      <td>0.005482</td>\n",
       "      <td>0.154074</td>\n",
       "    </tr>\n",
       "    <tr>\n",
       "      <th>2</th>\n",
       "      <td>3.643086</td>\n",
       "      <td>11.551247</td>\n",
       "      <td>0.005728</td>\n",
       "      <td>0.162555</td>\n",
       "    </tr>\n",
       "    <tr>\n",
       "      <th>3</th>\n",
       "      <td>3.424635</td>\n",
       "      <td>10.858598</td>\n",
       "      <td>0.005482</td>\n",
       "      <td>0.154074</td>\n",
       "    </tr>\n",
       "    <tr>\n",
       "      <th>4</th>\n",
       "      <td>3.955871</td>\n",
       "      <td>12.543006</td>\n",
       "      <td>0.006055</td>\n",
       "      <td>0.174350</td>\n",
       "    </tr>\n",
       "  </tbody>\n",
       "</table>\n",
       "</div>"
      ],
      "text/plain": [
       "   fuel_g_per_tkm  CO2_g_per_tkm  PM10_g_per_tkm  NOx_g_per_tkm\n",
       "0        2.623443       8.318233        0.004759       0.126659\n",
       "1        3.424635      10.858598        0.005482       0.154074\n",
       "2        3.643086      11.551247        0.005728       0.162555\n",
       "3        3.424635      10.858598        0.005482       0.154074\n",
       "4        3.955871      12.543006        0.006055       0.174350"
      ]
     },
     "execution_count": 18,
     "metadata": {},
     "output_type": "execute_result"
    }
   ],
   "source": [
    "df_tkm=df[['fuel_g_per_tkm','CO2_g_per_tkm','PM10_g_per_tkm','NOx_g_per_tkm']]\n",
    "df_tkm"
   ]
  },
  {
   "cell_type": "markdown",
   "id": "ea46b2c3-32a2-48ee-83ef-15384da0df4f",
   "metadata": {},
   "source": [
    "###  g/s"
   ]
  },
  {
   "cell_type": "code",
   "execution_count": 19,
   "id": "0e02a26b-fc0c-43f6-84ad-589001476b7e",
   "metadata": {
    "tags": []
   },
   "outputs": [],
   "source": [
    "df['fuel_g_per_sec'] = (df['total_diesel_consumption_C_year_ICE_mass']) / 3600  # kg/s\n",
    "df['CO2_g_per_sec'] = (df['total_emission_CO2']) / 3600  # g/s\n",
    "df['PM10_g_per_sec'] = (df['total_emission_PM10']) / 3600  # g/s\n",
    "df['NOx_g_per_sec'] = (df['total_emission_NOX']) / 3600  # g/s"
   ]
  },
  {
   "cell_type": "code",
   "execution_count": 20,
   "id": "574d05e7-eb95-427b-9a5a-1801475e01eb",
   "metadata": {
    "jupyter": {
     "source_hidden": true
    },
    "tags": []
   },
   "outputs": [
    {
     "data": {
      "text/html": [
       "<div>\n",
       "<style scoped>\n",
       "    .dataframe tbody tr th:only-of-type {\n",
       "        vertical-align: middle;\n",
       "    }\n",
       "\n",
       "    .dataframe tbody tr th {\n",
       "        vertical-align: top;\n",
       "    }\n",
       "\n",
       "    .dataframe thead th {\n",
       "        text-align: right;\n",
       "    }\n",
       "</style>\n",
       "<table border=\"1\" class=\"dataframe\">\n",
       "  <thead>\n",
       "    <tr style=\"text-align: right;\">\n",
       "      <th></th>\n",
       "      <th>fuel_g_per_sec</th>\n",
       "      <th>CO2_g_per_sec</th>\n",
       "      <th>PM10_g_per_sec</th>\n",
       "      <th>NOx_g_per_sec</th>\n",
       "    </tr>\n",
       "  </thead>\n",
       "  <tbody>\n",
       "    <tr>\n",
       "      <th>0</th>\n",
       "      <td>56.403061</td>\n",
       "      <td>178.838974</td>\n",
       "      <td>0.102321</td>\n",
       "      <td>2.723129</td>\n",
       "    </tr>\n",
       "    <tr>\n",
       "      <th>1</th>\n",
       "      <td>550.740072</td>\n",
       "      <td>1746.249008</td>\n",
       "      <td>0.881580</td>\n",
       "      <td>24.777815</td>\n",
       "    </tr>\n",
       "    <tr>\n",
       "      <th>2</th>\n",
       "      <td>78.325010</td>\n",
       "      <td>248.347592</td>\n",
       "      <td>0.123160</td>\n",
       "      <td>3.494865</td>\n",
       "    </tr>\n",
       "    <tr>\n",
       "      <th>3</th>\n",
       "      <td>147.256791</td>\n",
       "      <td>466.911777</td>\n",
       "      <td>0.235717</td>\n",
       "      <td>6.625088</td>\n",
       "    </tr>\n",
       "    <tr>\n",
       "      <th>4</th>\n",
       "      <td>171.800942</td>\n",
       "      <td>544.734695</td>\n",
       "      <td>0.262967</td>\n",
       "      <td>7.571899</td>\n",
       "    </tr>\n",
       "  </tbody>\n",
       "</table>\n",
       "</div>"
      ],
      "text/plain": [
       "   fuel_g_per_sec  CO2_g_per_sec  PM10_g_per_sec  NOx_g_per_sec\n",
       "0       56.403061     178.838974        0.102321       2.723129\n",
       "1      550.740072    1746.249008        0.881580      24.777815\n",
       "2       78.325010     248.347592        0.123160       3.494865\n",
       "3      147.256791     466.911777        0.235717       6.625088\n",
       "4      171.800942     544.734695        0.262967       7.571899"
      ]
     },
     "execution_count": 20,
     "metadata": {},
     "output_type": "execute_result"
    }
   ],
   "source": [
    "df_s=df[['fuel_g_per_sec','CO2_g_per_sec','PM10_g_per_sec','NOx_g_per_sec']]\n",
    "df_s"
   ]
  },
  {
   "cell_type": "markdown",
   "id": "0a99c438-1e9d-4b80-ac11-78feb1971e51",
   "metadata": {},
   "source": [
    "### ton, kg per round-trip (laden going and returning)"
   ]
  },
  {
   "cell_type": "code",
   "execution_count": 21,
   "id": "2f9d01fa-7e3e-4354-801f-dadec6884d1d",
   "metadata": {
    "jupyter": {
     "source_hidden": true
    },
    "tags": []
   },
   "outputs": [],
   "source": [
    "df['fuel_ton']=(df['total_diesel_consumption_C_year_ICE_mass'].sum()/1000000)*2  #ton\n",
    "df['CO2_ton']=(df['total_emission_CO2'].sum()/1000000)*2  #ton\n",
    "df['PM10_kg']=(df['total_emission_PM10'].sum()/1000)*2  #kg\n",
    "df['NOx_kg']=(df['total_emission_NOX'].sum()/1000)*2  #kg"
   ]
  },
  {
   "cell_type": "code",
   "execution_count": 22,
   "id": "6b6c4545-717b-4a35-ab6f-a4569786e6a4",
   "metadata": {
    "jupyter": {
     "source_hidden": true
    },
    "tags": []
   },
   "outputs": [
    {
     "data": {
      "text/html": [
       "<div>\n",
       "<style scoped>\n",
       "    .dataframe tbody tr th:only-of-type {\n",
       "        vertical-align: middle;\n",
       "    }\n",
       "\n",
       "    .dataframe tbody tr th {\n",
       "        vertical-align: top;\n",
       "    }\n",
       "\n",
       "    .dataframe thead th {\n",
       "        text-align: right;\n",
       "    }\n",
       "</style>\n",
       "<table border=\"1\" class=\"dataframe\">\n",
       "  <thead>\n",
       "    <tr style=\"text-align: right;\">\n",
       "      <th></th>\n",
       "      <th>fuel_ton</th>\n",
       "      <th>CO2_ton</th>\n",
       "      <th>PM10_kg</th>\n",
       "      <th>NOx_kg</th>\n",
       "    </tr>\n",
       "  </thead>\n",
       "  <tbody>\n",
       "    <tr>\n",
       "      <th>0</th>\n",
       "      <td>7.232586</td>\n",
       "      <td>22.932591</td>\n",
       "      <td>11.561365</td>\n",
       "      <td>325.38813</td>\n",
       "    </tr>\n",
       "  </tbody>\n",
       "</table>\n",
       "</div>"
      ],
      "text/plain": [
       "   fuel_ton    CO2_ton    PM10_kg     NOx_kg\n",
       "0  7.232586  22.932591  11.561365  325.38813"
      ]
     },
     "execution_count": 22,
     "metadata": {},
     "output_type": "execute_result"
    }
   ],
   "source": [
    "df_roundtrip=df[['fuel_ton','CO2_ton','PM10_kg','NOx_kg']]\n",
    "df_roundtrip.head(1)"
   ]
  },
  {
   "cell_type": "markdown",
   "id": "4d6959a0-8b22-451e-9f98-5c2a934f4cb1",
   "metadata": {},
   "source": [
    "### ton per year"
   ]
  },
  {
   "cell_type": "code",
   "execution_count": 23,
   "id": "4227b935-f48a-439a-b91b-744110daf086",
   "metadata": {},
   "outputs": [],
   "source": [
    "num_roundtrip = 24"
   ]
  },
  {
   "cell_type": "code",
   "execution_count": 24,
   "id": "4347ec96-423d-4eea-a388-b2272d1281c9",
   "metadata": {
    "jupyter": {
     "source_hidden": true
    },
    "tags": []
   },
   "outputs": [],
   "source": [
    "df['fuel_ton_per_yr']=df['fuel_ton']*num_roundtrip\n",
    "df['CO2_ton_per_yr'] = df['CO2_ton']*num_roundtrip\n",
    "df['PM10_ton_per_yr'] = df['PM10_kg']*num_roundtrip/1000\n",
    "df['NOx_ton_per_yr'] = df['NOx_kg']*num_roundtrip/1000"
   ]
  },
  {
   "cell_type": "code",
   "execution_count": 25,
   "id": "8736b135-9340-491a-87c0-d4d484371b74",
   "metadata": {
    "jupyter": {
     "source_hidden": true
    },
    "tags": []
   },
   "outputs": [
    {
     "data": {
      "text/html": [
       "<div>\n",
       "<style scoped>\n",
       "    .dataframe tbody tr th:only-of-type {\n",
       "        vertical-align: middle;\n",
       "    }\n",
       "\n",
       "    .dataframe tbody tr th {\n",
       "        vertical-align: top;\n",
       "    }\n",
       "\n",
       "    .dataframe thead th {\n",
       "        text-align: right;\n",
       "    }\n",
       "</style>\n",
       "<table border=\"1\" class=\"dataframe\">\n",
       "  <thead>\n",
       "    <tr style=\"text-align: right;\">\n",
       "      <th></th>\n",
       "      <th>fuel_ton_per_yr</th>\n",
       "      <th>CO2_ton_per_yr</th>\n",
       "      <th>PM10_ton_per_yr</th>\n",
       "      <th>NOx_ton_per_yr</th>\n",
       "    </tr>\n",
       "  </thead>\n",
       "  <tbody>\n",
       "    <tr>\n",
       "      <th>0</th>\n",
       "      <td>173.582071</td>\n",
       "      <td>550.382178</td>\n",
       "      <td>0.277473</td>\n",
       "      <td>7.809315</td>\n",
       "    </tr>\n",
       "  </tbody>\n",
       "</table>\n",
       "</div>"
      ],
      "text/plain": [
       "   fuel_ton_per_yr  CO2_ton_per_yr  PM10_ton_per_yr  NOx_ton_per_yr\n",
       "0       173.582071      550.382178         0.277473        7.809315"
      ]
     },
     "execution_count": 25,
     "metadata": {},
     "output_type": "execute_result"
    }
   ],
   "source": [
    "df_year = df[['fuel_ton_per_yr','CO2_ton_per_yr','PM10_ton_per_yr','NOx_ton_per_yr']]\n",
    "df_year.head(1)"
   ]
  },
  {
   "cell_type": "code",
   "execution_count": null,
   "id": "127e962a-55da-4440-a3b3-7790e8d4e53a",
   "metadata": {},
   "outputs": [],
   "source": []
  }
 ],
 "metadata": {
  "kernelspec": {
   "display_name": "Python 3 (ipykernel)",
   "language": "python",
   "name": "python3"
  },
  "language_info": {
   "codemirror_mode": {
    "name": "ipython",
    "version": 3
   },
   "file_extension": ".py",
   "mimetype": "text/x-python",
   "name": "python",
   "nbconvert_exporter": "python",
   "pygments_lexer": "ipython3",
   "version": "3.9.10"
  }
 },
 "nbformat": 4,
 "nbformat_minor": 5
}
