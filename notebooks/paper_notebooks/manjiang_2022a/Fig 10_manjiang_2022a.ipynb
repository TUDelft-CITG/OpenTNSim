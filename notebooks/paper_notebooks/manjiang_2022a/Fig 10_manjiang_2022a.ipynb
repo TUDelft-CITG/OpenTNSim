{
 "cells": [
  {
   "cell_type": "markdown",
   "id": "d1d0988f",
   "metadata": {},
   "source": [
    "####     From this notebook we get:\n",
    "        \"Figure 10: Fuel consumption and emissions rates for deep water depth (6 m)\".\n",
    "####    General steps:\n",
    "        -First we create and run the basic simulation of the ship sailing on the waterway.\n",
    "        -Then we plot the figure based on the results of the fuel consumption and emissions rates from the basic simulation.\n",
    "        "
   ]
  },
  {
   "cell_type": "markdown",
   "id": "976f7dcb",
   "metadata": {},
   "source": [
    "## Basic simulation - consumes energy-van Dosser actual draught & payload\n",
    "We are going to make a simulation which forces a vessel to move over a certain 1D waterway network. It tries to give one an understanding of the most basic core functions of OpenTNSim and teach one the requirements to set-up a basic OpenTNSim model run. \n",
    "\n",
    "We add some properties to the graph (depth) and the vessel (VesselProperties, ConsumesEnergy) in order to calculate resistance, required power, "
   ]
  },
  {
   "cell_type": "markdown",
   "id": "667b6e87",
   "metadata": {},
   "source": [
    "### Imports\n",
    "Import the required libraries"
   ]
  },
  {
   "cell_type": "code",
   "execution_count": 1,
   "id": "4e420517",
   "metadata": {},
   "outputs": [],
   "source": [
    "# package(s) related to time, space and id\n",
    "import datetime, time\n",
    "import platform\n",
    "\n",
    "# you need these dependencies (you can get these from anaconda)\n",
    "# package(s) related to the simulation\n",
    "import simpy\n",
    "import pandas as pd\n",
    "\n",
    "# spatial libraries \n",
    "import pyproj\n",
    "import shapely.geometry\n",
    "from simplekml import Kml, Style\n",
    "\n",
    "# package(s) for data handling\n",
    "import numpy as np\n",
    "import matplotlib.pyplot as plt\n",
    "\n",
    "# OpenTNSim\n",
    "import opentnsim\n",
    "\n",
    "# Used for mathematical functions\n",
    "import math             \n",
    "\n",
    "# Used for making the graph to visualize our problem\n",
    "import networkx as nx   \n",
    "\n",
    "import plotly.express as px\n",
    "from plotly.subplots import make_subplots\n",
    "\n",
    "import logging\n",
    "#logging.basicConfig(level=logging.DEBUG) #turn on all the debug messages\n",
    "logging.basicConfig(level=logging.INFO)# turn off all the debug messages\n"
   ]
  },
  {
   "cell_type": "markdown",
   "id": "ff6e3174",
   "metadata": {},
   "source": [
    "### Create graph\n",
    "We first need to create a 1D network (a graph) along which the vessel will move. A graph contains edges (blue dots in plot below) and vertices (black lines in plot below). For this example, we will construct a network consisting of 4 nodes in a straight line. Since we would like to have two-way traffic, we add two edges between each pair of nodes: one from left to right, and another the other way around (however, we could easily apply one-way traffic as well by remove one of the two edges). Consequently, we arrive at a total of 4 nodes, and 6 edges.\n",
    "\n",
    "Due to the nature of discrete modelling in which the time step is dependent on the activities (in this example: forcing a ship to move from node to node from its origin to its destination), it is important to add OpenTNSim mix-ins to the nodes in such a way we could identify the node (mix-in Identifiable, which imports a name and imports/creates an ID), and to locate the node (mix-in Locatable, which gives the node a geometry).\n"
   ]
  },
  {
   "cell_type": "code",
   "execution_count": 2,
   "id": "f9d33a6a",
   "metadata": {},
   "outputs": [
    {
     "data": {
      "image/png": "[encoded data removed]",
      "text/plain": [
       "<Figure size 432x288 with 1 Axes>"
      ]
     },
     "metadata": {},
     "output_type": "display_data"
    }
   ],
   "source": [
    "FG = nx.DiGraph()\n",
    "nodes = []\n",
    "path = []\n",
    "\n",
    "Node = type('Site', (opentnsim.core.Identifiable, opentnsim.core.Locatable), {})\n",
    "\n",
    "data_node_1 = {\"name\": \"Node 1\",\n",
    "               \"geometry\": shapely.geometry.Point(0, 0)}\n",
    "data_node_2 = {\"name\": \"Node 2\",\n",
    "               \"geometry\": shapely.geometry.Point(0.8983, 0)}  # 0.8983 degree =100km\n",
    "data_node_3 = {\"name\": \"Node 3\",\n",
    "               \"geometry\": shapely.geometry.Point(1.7966, 0)}   # 1.7966 degree =200km\n",
    "data_node_4 = {\"name\": \"Node 4\",\n",
    "               \"geometry\": shapely.geometry.Point(2.6949, 0)}    # 2.6949 degree =300km\n",
    "\n",
    "node_1 = Node(**data_node_1)\n",
    "node_2 = Node(**data_node_2)\n",
    "node_3 = Node(**data_node_3)\n",
    "node_4 = Node(**data_node_4)\n",
    "\n",
    "nodes = [node_1, node_2, node_3, node_4]\n",
    "\n",
    "positions = {}\n",
    "for node in nodes:\n",
    "    positions[node.name] = (node.geometry.x, node.geometry.y)\n",
    "    FG.add_node(node.name, geometry = node.geometry)\n",
    "\n",
    "path = [[node_1, node_2], # From node 1 to node 2\n",
    "        [node_2, node_3], # From node 2 to node 3\n",
    "        [node_3, node_4], # From node 3 to node 4\n",
    "        [node_4, node_3], # From node 4 to node 3\n",
    "        [node_3, node_2], # From node 3 to node 2\n",
    "        [node_2, node_1]] # From node 2 to node 1\n",
    "\n",
    "for edge in path:\n",
    "    # For the energy consumption calculation we add info to the graph. We need depth info for resistance.\n",
    "    # NB: the CalculateEnergy routine expects the graph to have \"Info\" that contains \"GeneralDepth\" \n",
    "    #     this may not be very generic!\n",
    "    FG.add_edge(edge[0].name, edge[1].name, weight = 1, Info = {\"GeneralDepth\": 6})\n",
    "    \n",
    "middle_edges = [\n",
    "    (node_2.name, node_3.name),\n",
    "    (node_3.name, node_2.name)\n",
    "]\n",
    "\n",
    "for e in middle_edges:\n",
    "    edge = FG.edges[e]\n",
    "    edge['Info']['GeneralDepth'] = 6\n",
    "\n",
    "# env.FG = FG\n",
    "nx.draw(FG, positions)\n",
    "plt.show()"
   ]
  },
  {
   "cell_type": "code",
   "execution_count": 3,
   "id": "b6bc1ee3",
   "metadata": {},
   "outputs": [
    {
     "name": "stdout",
     "output_type": "stream",
     "text": [
      "General depth for edge ('Node 1', 'Node 2') is 6\n",
      "General depth for edge ('Node 2', 'Node 3') is 6\n",
      "General depth for edge ('Node 2', 'Node 1') is 6\n",
      "General depth for edge ('Node 3', 'Node 4') is 6\n",
      "General depth for edge ('Node 3', 'Node 2') is 6\n",
      "General depth for edge ('Node 4', 'Node 3') is 6\n"
     ]
    }
   ],
   "source": [
    "# This cell just shows that now a depth of 10 m is added to the edges. \n",
    "# You can use this to vary depths, e.g. make the middle edge shallower. Note that edges are bi-directional \n",
    "for edge in FG.edges:\n",
    "    print('General depth for edge {} is {}'.format(edge, FG.get_edge_data(edge[0], edge[1])[\"Info\"][\"GeneralDepth\"]))"
   ]
  },
  {
   "cell_type": "markdown",
   "id": "1de5c18f",
   "metadata": {},
   "source": [
    "### Create vessel - add VesselProperties and ConsumesEnergy mixins\n",
    "The following mix-ins are required for each vessel in our problem: Identifiable (gives the vessel a name and a random ID), Movable (gives that the object (*vessel*) can move with a fixed speed and logs this activity, it requires input for the following mix-ins: Locatable, Routeable, and Log), and Routable (gives the object a route). We now modify our original vessel from the basic example and include vessel properties (like width, length, etc.) and a mixin that is needed to calculate resistance and energy consumption. "
   ]
  },
  {
   "cell_type": "code",
   "execution_count": 4,
   "id": "9998ef61",
   "metadata": {},
   "outputs": [],
   "source": [
    "# Make your preferred class out of available mix-ins.\n",
    "TransportResource = type(\n",
    "    \"Vessel\",\n",
    "    (\n",
    "        opentnsim.core.Identifiable,\n",
    "        opentnsim.core.Movable,\n",
    "        opentnsim.core.Routeable,\n",
    "        opentnsim.core.VesselProperties,  # needed to add vessel properties\n",
    "        opentnsim.core.ConsumesEnergy,\n",
    "        opentnsim.core.ExtraMetadata,\n",
    "    ),\n",
    "    {},\n",
    ")  # needed to calculate resistances"
   ]
  },
  {
   "cell_type": "code",
   "execution_count": 5,
   "id": "e5699b2b",
   "metadata": {},
   "outputs": [],
   "source": [
    "# Create a dict with all important settings\n",
    "# NB: set both \"v\" and \"P_tot_given\" to None, as they will be set later\n",
    "\n",
    "data_vessel = {\"env\": None,\n",
    "               \"name\": None,\n",
    "               \"route\": None,\n",
    "               \"geometry\": None,\n",
    "               \"v\": None,  # m/s\n",
    "               \"type\":None,\n",
    "               \"B\": 11.4,\n",
    "               \"L\": 110,\n",
    "               \"H_e\": None, \n",
    "               \"H_f\": None, \n",
    "               \"T\": 3.5,\n",
    "               \"P_installed\": 1750.0,   \n",
    "               \"P_tot_given\": None, # kW\n",
    "               \"L_w\": 3.0 ,\n",
    "               \"C_B\":0.85, \n",
    "               \"C_year\":1990,\n",
    "               \"current_year\":None\n",
    "              }             \n",
    "\n",
    "vessel = TransportResource(**data_vessel)"
   ]
  },
  {
   "cell_type": "markdown",
   "id": "ab7df07c",
   "metadata": {},
   "source": [
    "### Define paths\n",
    "We are going to create a simulation in which a vessel moves from *Node 1* to *Node 4*. Therefore, we need to create a vessel to which we will need to append this paths. Therefore, first let's create the path."
   ]
  },
  {
   "cell_type": "code",
   "execution_count": 6,
   "id": "8ec7f002",
   "metadata": {},
   "outputs": [],
   "source": [
    "path = nx.dijkstra_path(FG, node_1.name, node_4.name)"
   ]
  },
  {
   "cell_type": "markdown",
   "id": "a8b10291",
   "metadata": {},
   "source": [
    "### Run simulation\n",
    "Now we can define the run. First, we make an environment and add the graph to the environment. Then we add one vessel, to which we will append the environment and the above route. Lastly, we give the vessel the process of moving from the origin to the destination of the defined path and subsequently run the model."
   ]
  },
  {
   "cell_type": "code",
   "execution_count": 7,
   "id": "0908ab60",
   "metadata": {},
   "outputs": [],
   "source": [
    "def run_simulation(V_s, P_tot_given):\n",
    "    \n",
    "    # Start simpy environment\n",
    "    simulation_start = datetime.datetime.now()\n",
    "    env = simpy.Environment(initial_time = time.mktime(simulation_start.timetuple()))\n",
    "    env.epoch = time.mktime(simulation_start.timetuple())\n",
    "\n",
    "    # Add graph to environment\n",
    "    env.FG = FG\n",
    "\n",
    "    # Add environment and path to the vessel\n",
    "    # create a fresh instance of vessel\n",
    "    vessel = TransportResource(**data_vessel)\n",
    "    vessel.env = env                                        #the created environment\n",
    "    vessel.name = 'Vessel No.1'                     \n",
    "    vessel.route = path                                     #the route (the sequence of nodes, as stored as the second column in the path)\n",
    "    vessel.geometry = env.FG.nodes[path[0]]['geometry']     #a shapely.geometry.Point(lon,lat) (here taken as the starting node of the vessel)\n",
    "    vessel.v = V_s\n",
    "    vessel.P_tot_given = P_tot_given\n",
    "    \n",
    "    # Start the simulation\n",
    "    env.process(vessel.move())\n",
    "    env.run()\n",
    "    \n",
    "    return vessel"
   ]
  },
  {
   "cell_type": "code",
   "execution_count": 8,
   "id": "84ffabf4",
   "metadata": {},
   "outputs": [
    {
     "data": {
      "text/plain": [
       "{'V_s': [3.0, 3.5, 4.0, None, None, None],\n",
       " 'P_tot_given': [None, None, None, 274, 396, 647]}"
      ]
     },
     "execution_count": 8,
     "metadata": {},
     "output_type": "execute_result"
    }
   ],
   "source": [
    "input_data = {'V_s': [3.0, 3.5, 4.0, None, None, None], 'P_tot_given': [None, None, None, 274, 396, 647]}\n",
    "input_data"
   ]
  },
  {
   "cell_type": "code",
   "execution_count": 9,
   "id": "c68f42b2",
   "metadata": {},
   "outputs": [
    {
     "name": "stdout",
     "output_type": "stream",
     "text": [
      "value 3.0\n",
      "value 3.5\n",
      "value 4.0\n",
      "value None\n",
      "value None\n",
      "value None\n"
     ]
    },
    {
     "name": "stderr",
     "output_type": "stream",
     "text": [
      "C:\\ANACONDA2021\\envs\\opentnsim\\lib\\site-packages\\pandas\\core\\dtypes\\cast.py:118: ShapelyDeprecationWarning:\n",
      "\n",
      "The array interface is deprecated and will no longer work in Shapely 2.0. Convert the '.coords' to a numpy array instead.\n",
      "\n"
     ]
    }
   ],
   "source": [
    "# create empty plot data\n",
    "plot_data = {}\n",
    "\n",
    "# loop through the various input data\n",
    "for index, value in enumerate(input_data['V_s']):\n",
    "    print(\"value\", value)   \n",
    "    # Run a basic simulation with V_s and P_tot_given combi\n",
    "    vessel = run_simulation(input_data['V_s'][index], input_data['P_tot_given'][index])\n",
    "    \n",
    "    # create an EnergyCalculation object and perform energy consumption calculation\n",
    "    energycalculation = opentnsim.energy.EnergyCalculation(FG, vessel)\n",
    "    energycalculation.calculate_energy_consumption()\n",
    "    \n",
    "    # create dataframe from energy calculation computation\n",
    "    df = pd.DataFrame.from_dict(energycalculation.energy_use)\n",
    "    \n",
    "    # add/modify some comlums to suit our plotting needs\n",
    "   \n",
    "    df['fuel_kg_per_km'] = (df['total_fuel_consumption']/1000) / (df['distance']/1000)\n",
    "    df['CO2_g_per_km']   = (df['total_emission_CO2']) / (df['distance']/1000)\n",
    "    df['PM10_g_per_km']  = (df['total_emission_PM10']) / (df['distance']/1000)\n",
    "    df['NOx_g_per_km']   = (df['total_emission_NOX']) / (df['distance']/1000)\n",
    "    \n",
    "    label = 'V_s = ' + str(input_data['V_s'][index]) + ' P_tot_given = ' + str(input_data['P_tot_given'][index])\n",
    "\n",
    "    # Note that we make a dict to collect all plot data. \n",
    "    # We use labels like ['V_s = None P_tot_given = 274 fuel_kg_km'] to organise the data in the dict\n",
    "    # The [0, 0, 1, 1, 2, 2] below creates a list per section \n",
    "\n",
    "    plot_data[label + ' fuel_kg_per_km']   = list(df.fuel_kg_per_km[[0, 0, 1, 1, 2, 2]])\n",
    "    plot_data[label + ' CO2_g_per_km'] = list(df.CO2_g_per_km[[0, 0, 1, 1, 2, 2]])\n",
    "    plot_data[label + ' PM10_g_per_km']   = list(df.PM10_g_per_km[[0, 0, 1, 1, 2, 2]])\n",
    "    plot_data[label + ' NOx_g_per_km']   = list(df.NOx_g_per_km[[0, 0, 1, 1, 2, 2]])\n",
    "        "
   ]
  },
  {
   "cell_type": "code",
   "execution_count": 10,
   "id": "b2599ee0",
   "metadata": {},
   "outputs": [
    {
     "data": {
      "text/plain": [
       "{'V_s = 3.0 P_tot_given = None fuel_kg_per_km': [6.045136482855217,\n",
       "  6.045136482855217,\n",
       "  6.045136482855217,\n",
       "  6.045136482855217,\n",
       "  6.045136482855219,\n",
       "  6.045136482855219],\n",
       " 'V_s = 3.0 P_tot_given = None CO2_g_per_km': [19179.569386513373,\n",
       "  19179.569386513373,\n",
       "  19179.569386513373,\n",
       "  19179.569386513373,\n",
       "  19179.56938651338,\n",
       "  19179.56938651338],\n",
       " 'V_s = 3.0 P_tot_given = None PM10_g_per_km': [12.6433553878155,\n",
       "  12.6433553878155,\n",
       "  12.6433553878155,\n",
       "  12.6433553878155,\n",
       "  12.643355387815497,\n",
       "  12.643355387815497],\n",
       " 'V_s = 3.0 P_tot_given = None NOx_g_per_km': [279.6350311789101,\n",
       "  279.6350311789101,\n",
       "  279.6350311789101,\n",
       "  279.6350311789101,\n",
       "  279.6350311789101,\n",
       "  279.6350311789101],\n",
       " 'V_s = 3.5 P_tot_given = None fuel_kg_per_km': [6.900568654773987,\n",
       "  6.900568654773987,\n",
       "  6.900568654773987,\n",
       "  6.900568654773987,\n",
       "  6.90056865451568,\n",
       "  6.90056865451568],\n",
       " 'V_s = 3.5 P_tot_given = None CO2_g_per_km': [21893.622368328382,\n",
       "  21893.622368328382,\n",
       "  21893.622368328382,\n",
       "  21893.622368328382,\n",
       "  21893.62236750884,\n",
       "  21893.62236750884],\n",
       " 'V_s = 3.5 P_tot_given = None PM10_g_per_km': [13.06977568105333,\n",
       "  13.06977568105333,\n",
       "  13.06977568105333,\n",
       "  13.06977568105333,\n",
       "  13.069775680903977,\n",
       "  13.069775680903977],\n",
       " 'V_s = 3.5 P_tot_given = None NOx_g_per_km': [303.9407080768097,\n",
       "  303.9407080768097,\n",
       "  303.9407080768097,\n",
       "  303.9407080768097,\n",
       "  303.9407080690144,\n",
       "  303.9407080690144],\n",
       " 'V_s = 4.0 P_tot_given = None fuel_kg_per_km': [8.405583927230342,\n",
       "  8.405583927230342,\n",
       "  8.405583927230342,\n",
       "  8.405583927230342,\n",
       "  8.405583927854572,\n",
       "  8.405583927854572],\n",
       " 'V_s = 4.0 P_tot_given = None CO2_g_per_km': [26668.625369121724,\n",
       "  26668.625369121724,\n",
       "  26668.625369121724,\n",
       "  26668.625369121724,\n",
       "  26668.625371102233,\n",
       "  26668.625371102233],\n",
       " 'V_s = 4.0 P_tot_given = None PM10_g_per_km': [14.974650010499703,\n",
       "  14.974650010499703,\n",
       "  14.974650010499703,\n",
       "  14.974650010499703,\n",
       "  14.974650011412267,\n",
       "  14.974650011412267],\n",
       " 'V_s = 4.0 P_tot_given = None NOx_g_per_km': [361.7196583796222,\n",
       "  361.7196583796222,\n",
       "  361.7196583796222,\n",
       "  361.7196583796222,\n",
       "  361.71965840617554,\n",
       "  361.71965840617554],\n",
       " 'V_s = None P_tot_given = 274 fuel_kg_per_km': [6.270838791259608,\n",
       "  6.270838791259608,\n",
       "  6.270838791259608,\n",
       "  6.270838791259608,\n",
       "  6.270838791259608,\n",
       "  6.270838791259608],\n",
       " 'V_s = None P_tot_given = 274 CO2_g_per_km': [19895.66125590549,\n",
       "  19895.66125590549,\n",
       "  19895.66125590549,\n",
       "  19895.66125590549,\n",
       "  19895.66125590549,\n",
       "  19895.66125590549],\n",
       " 'V_s = None P_tot_given = 274 PM10_g_per_km': [12.631370135274837,\n",
       "  12.631370135274837,\n",
       "  12.631370135274837,\n",
       "  12.631370135274837,\n",
       "  12.631370135274835,\n",
       "  12.631370135274835],\n",
       " 'V_s = None P_tot_given = 274 NOx_g_per_km': [284.1537213726139,\n",
       "  284.1537213726139,\n",
       "  284.1537213726139,\n",
       "  284.1537213726139,\n",
       "  284.1537213726139,\n",
       "  284.1537213726139],\n",
       " 'V_s = None P_tot_given = 396 fuel_kg_per_km': [7.430787652200925,\n",
       "  7.430787652200925,\n",
       "  7.430787652200925,\n",
       "  7.430787652200925,\n",
       "  7.430787652200937,\n",
       "  7.430787652200937],\n",
       " 'V_s = None P_tot_given = 396 CO2_g_per_km': [23575.862641982934,\n",
       "  23575.862641982934,\n",
       "  23575.862641982934,\n",
       "  23575.862641982934,\n",
       "  23575.862641982974,\n",
       "  23575.862641982974],\n",
       " 'V_s = None P_tot_given = 396 PM10_g_per_km': [13.673128694449117,\n",
       "  13.673128694449117,\n",
       "  13.673128694449117,\n",
       "  13.673128694449117,\n",
       "  13.673128694449138,\n",
       "  13.673128694449138],\n",
       " 'V_s = None P_tot_given = 396 NOx_g_per_km': [323.02385786343586,\n",
       "  323.02385786343586,\n",
       "  323.02385786343586,\n",
       "  323.02385786343586,\n",
       "  323.0238578634364,\n",
       "  323.0238578634364],\n",
       " 'V_s = None P_tot_given = 647 fuel_kg_per_km': [9.935113523293452,\n",
       "  9.935113523293452,\n",
       "  9.935113523293452,\n",
       "  9.935113523293452,\n",
       "  9.935113523293435,\n",
       "  9.935113523293435],\n",
       " 'V_s = None P_tot_given = 647 CO2_g_per_km': [31521.40563299468,\n",
       "  31521.40563299468,\n",
       "  31521.40563299468,\n",
       "  31521.40563299468,\n",
       "  31521.405632994625,\n",
       "  31521.405632994625],\n",
       " 'V_s = None P_tot_given = 647 PM10_g_per_km': [17.39611883308173,\n",
       "  17.39611883308173,\n",
       "  17.39611883308173,\n",
       "  17.39611883308173,\n",
       "  17.396118833081697,\n",
       "  17.396118833081697],\n",
       " 'V_s = None P_tot_given = 647 NOx_g_per_km': [432.48387141366925,\n",
       "  432.48387141366925,\n",
       "  432.48387141366925,\n",
       "  432.48387141366925,\n",
       "  432.4838714136684,\n",
       "  432.4838714136684]}"
      ]
     },
     "execution_count": 10,
     "metadata": {},
     "output_type": "execute_result"
    }
   ],
   "source": [
    "# this is now in the plot data\n",
    "plot_data"
   ]
  },
  {
   "cell_type": "markdown",
   "id": "1bb29f5f",
   "metadata": {},
   "source": [
    "## Figure 10\n",
    "Fuel consumption (b) and emissions (c, d, e) of a fully loaded M8 ship sailing in the waterway with three speed levels relative to the water and corresponding required power levels: 3 m/s (274 kW), 3.5 m/s (396 kW), 4 m/s (647 kW). (a) represents the longisection of a 300 km long and 6 m deep waterway. The actual draught of the M8 ship is 3.5 m with under keel clearance 2.5 m. M8 ship characteristics: engine construction year = 1990, installed engine power = 1750 kW, length =110 m, beam = 11.4m, DWT = 3000 ton."
   ]
  },
  {
   "cell_type": "markdown",
   "id": "50c64d9d",
   "metadata": {},
   "source": [
    "The below results of fuel (diesel) consumption, emissions rates at different ship speeds and power used for Figure 10 are calculated from the above simulation by changing ship speed(or power) and water depth."
   ]
  },
  {
   "cell_type": "code",
   "execution_count": 11,
   "id": "65a908e6",
   "metadata": {},
   "outputs": [
    {
     "name": "stderr",
     "output_type": "stream",
     "text": [
      "WARNING:matplotlib.legend:No artists with labels found to put in legend.  Note that artists whose label start with an underscore are ignored when legend() is called with no argument.\n"
     ]
    },
    {
     "data": {
      "image/png": "[encoded data removed]",
      "text/plain": [
       "<Figure size 576x720 with 5 Axes>"
      ]
     },
     "metadata": {
      "needs_background": "light"
     },
     "output_type": "display_data"
    }
   ],
   "source": [
    "fig, axs = plt.subplots(5, 1, figsize=(8, 10), sharex=True,constrained_layout=True)\n",
    "fontsize=12\n",
    "\n",
    "ax=plt.subplot(511)    # Longitudinal section of the waterway\n",
    "\n",
    "# these values you probably want to extract from the graph, or from the log (minimise the manual work!!)\n",
    "dist=[0,100,100,200,200,300]\n",
    "water_level=[2.5,2.5,2.5,2.5,2.5,2.5,]\n",
    "bed_level=[1,1,1,1,1,1]\n",
    "draft=[3.5,3.5,3.5,3.5,3.5,3.5,]\n",
    "plt.title('M8 vessel: L$_s$ = 110 m, B$_s$ = 11.40 m, T$_s$ = 3.5 m, actual load = 3000 ton, P$_{installed}$= 1750 kW',y=1.05)\n",
    "plt.stackplot(dist,bed_level,water_level,draft, labels=['bed','water','actual draught'],colors=['#7f7053','#75bbfd','#95d0fc'])\n",
    "plt.ylabel('Longitudinal section \\n of the waterway',fontsize=12,fontweight='bold',labelpad=22)\n",
    "plt.xlim(0, 300)\n",
    "plt.ylim(0, 14)\n",
    "plt.xticks( weight = 'bold')\n",
    "plt.yticks([1,3.5,7], weight = 'bold', fontsize=12)\n",
    "ax.legend(loc='upper left')\n",
    "ax.text(285, 12, '(a)', fontsize=12,weight = 'bold')\n",
    "\n",
    "ax=plt.subplot(512)    #  fuel (diesel) consumption kg/km \n",
    "\n",
    "diesel_fv1=(plot_data['V_s = 3.0 P_tot_given = None fuel_kg_per_km']) # use values from the output_plot variable\n",
    "diesel_fv2=(plot_data['V_s = 3.5 P_tot_given = None fuel_kg_per_km'])\n",
    "diesel_fv3=(plot_data['V_s = 4.0 P_tot_given = None fuel_kg_per_km'])\n",
    "\n",
    "\n",
    "plt.plot(dist, diesel_fv1,':',color='#f1da7a',linewidth='2',label='Vs=3 m/s, P=274 kW')\n",
    "plt.plot(dist, diesel_fv2,'-.',color='#bf9005',linewidth='2',label='Vs=3.5 m/s, P=396 kW')\n",
    "plt.plot(dist, diesel_fv3,'--',color='#7f4e1e',linewidth='2',label='Vs=4 m/s, P=647 kW')\n",
    "\n",
    "plt.ylabel('Fuel use\\n (kg/km)',fontsize=12,fontweight='bold',labelpad=26)\n",
    "plt.ylim(0, 20)\n",
    "plt.xlim(0, 300)\n",
    "plt.xticks( weight = 'bold')\n",
    "plt.yticks( weight = 'bold', fontsize=12)\n",
    "ax.legend(loc='upper left')\n",
    "ax.text(285, 20*11/13, '(b)', fontsize=12,weight = 'bold')\n",
    "\n",
    "ax=plt.subplot(513)    #  CO2 emission rates g/km\n",
    "ax.legend(loc='upper left')\n",
    "\n",
    "EMrCO2_fv1=(plot_data['V_s = 3.0 P_tot_given = None CO2_g_per_km'])\n",
    "EMrCO2_fv2=(plot_data['V_s = 3.5 P_tot_given = None CO2_g_per_km'])\n",
    "EMrCO2_fv3=(plot_data['V_s = 4.0 P_tot_given = None CO2_g_per_km'])\n",
    "\n",
    "\n",
    "plt.plot(dist, EMrCO2_fv1,':',color='yellow',linewidth='2',label='Vs=3 m/s, P=274 kW')\n",
    "plt.plot(dist, EMrCO2_fv2,'-.',color='orange',linewidth='2',label='Vs=3.5 m/s, P=396 kW')\n",
    "plt.plot(dist, EMrCO2_fv3,'--',color='red',linewidth='2',label='Vs=4 m/s, P=647 kW')\n",
    "\n",
    "ax.legend(loc='upper left')\n",
    "plt.ylabel('CO2 emission \\n rate (g/km)',fontsize=12,fontweight='bold',labelpad=2)\n",
    "plt.ylim(0, 50000)\n",
    "plt.xlim(0, 300)\n",
    "plt.xticks( weight = 'bold')\n",
    "plt.yticks( weight = 'bold', fontsize=12)\n",
    "ax.text(285, 50000*11/13, '(c)', fontsize=12,weight = 'bold')\n",
    "\n",
    "ax=plt.subplot(514)    #  PM10 emission rates g/km\n",
    "\n",
    "EMrPM10_fv1=(plot_data['V_s = 3.0 P_tot_given = None PM10_g_per_km'])\n",
    "EMrPM10_fv2=(plot_data['V_s = 3.5 P_tot_given = None PM10_g_per_km'])\n",
    "EMrPM10_fv3=(plot_data['V_s = 4.0 P_tot_given = None PM10_g_per_km'])\n",
    "\n",
    "\n",
    "plt.plot(dist, EMrPM10_fv1,':',color='paleturquoise',linewidth='2',label='Vs=3 m/s, P=274 kW')\n",
    "plt.plot(dist, EMrPM10_fv2,'-.',color='mediumseagreen',linewidth='2',label='Vs=3.5 m/s, P=396 kW')\n",
    "plt.plot(dist, EMrPM10_fv3,'--',color='darkgreen',linewidth='2',label='Vs=4 m/s, P=647 kW')\n",
    "\n",
    "ax.legend(loc='upper left')\n",
    "plt.ylabel('PM10 emission \\n rate (g/km)',fontsize=12,fontweight='bold',labelpad=26)\n",
    "plt.ylim(0, 30)\n",
    "plt.xlim(0, 300)\n",
    "plt.xticks( weight = 'bold')\n",
    "plt.yticks( weight = 'bold', fontsize=12)\n",
    "ax.text(285, 30*11/13, '(d)', fontsize=12,weight = 'bold')\n",
    "\n",
    "ax=plt.subplot(515)     #  NOx emission rates g/km\n",
    "\n",
    "EMrNOx_fv1=(plot_data['V_s = 3.0 P_tot_given = None NOx_g_per_km'])\n",
    "EMrNOx_fv2=(plot_data['V_s = 3.5 P_tot_given = None NOx_g_per_km'])\n",
    "EMrNOx_fv3=(plot_data['V_s = 4.0 P_tot_given = None NOx_g_per_km'])\n",
    "\n",
    "\n",
    "plt.plot(dist, EMrNOx_fv1,':',color='pink',linewidth='2',label='Vs=3 m/s, P=274 kW')\n",
    "plt.plot(dist, EMrNOx_fv2,'-.',color='deeppink',linewidth='2',label='Vs=3.5 m/s, P=396 kW')\n",
    "plt.plot(dist, EMrNOx_fv3,'--',color='purple',linewidth='2',label='Vs=4 m/s, P=647 kW')\n",
    "\n",
    "plt.ylabel('NOx emission \\n rate (g/km)',fontsize=12,fontweight='bold',labelpad=20)\n",
    "plt.xlabel('distance (km)',fontsize=12,fontweight='bold',labelpad=3)\n",
    "plt.ylim(0, 800)\n",
    "plt.xlim(0, 300)\n",
    "ax.legend(loc='upper left')\n",
    "plt.xticks([0,100,200,300], weight = 'bold', fontsize=12)\n",
    "plt.yticks( weight = 'bold', fontsize=12)\n",
    "ax.text(285, 800*11/13, '(e)', fontsize=12,weight = 'bold')\n",
    "\n",
    "plt.savefig('Fig 10.pdf', bbox_inches = 'tight', dpi=600, format='pdf')  "
   ]
  },
  {
   "cell_type": "code",
   "execution_count": null,
   "id": "f00a94e8",
   "metadata": {},
   "outputs": [],
   "source": []
  }
 ],
 "metadata": {
  "kernelspec": {
   "display_name": "Python 3 (ipykernel)",
   "language": "python",
   "name": "python3"
  },
  "language_info": {
   "codemirror_mode": {
    "name": "ipython",
    "version": 3
   },
   "file_extension": ".py",
   "mimetype": "text/x-python",
   "name": "python",
   "nbconvert_exporter": "python",
   "pygments_lexer": "ipython3",
   "version": "3.9.7"
  }
 },
 "nbformat": 4,
 "nbformat_minor": 5
}
