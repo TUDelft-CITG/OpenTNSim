{
 "cells": [
  {
   "cell_type": "markdown",
   "id": "1dd2974a",
   "metadata": {},
   "source": [
    "### Imports\n",
    "Import the required libraries"
   ]
  },
  {
   "cell_type": "code",
   "execution_count": 1,
   "id": "66ce076a",
   "metadata": {},
   "outputs": [],
   "source": [
    "# package(s) related to time, space and id\n",
    "import datetime, time\n",
    "import platform\n",
    "import itertools\n",
    "# Used for mathematical functions\n",
    "import math             \n",
    "import logging\n",
    "\n",
    "# you need these dependencies (you can get these from anaconda)\n",
    "# package(s) related to the simulation\n",
    "import simpy\n",
    "import pandas as pd\n",
    "\n",
    "# spatial libraries \n",
    "# import pyproj\n",
    "# import shapely.geometry\n",
    "# from simplekml import Kml, Style\n",
    "\n",
    "# package(s) for data handling\n",
    "import numpy as np\n",
    "import matplotlib.pyplot as plt\n",
    "import tqdm\n",
    "\n",
    "\n",
    "import plotly.express as px\n",
    "from plotly.subplots import make_subplots\n",
    "\n",
    "# OpenTNSim\n",
    "import opentnsim\n",
    "\n",
    "# turn on debug messages if want to see what's going on in detail\n",
    "# logging.basicConfig(level=logging.DEBUG)\n",
    "# turn off debug messages, only show info and higher level messages\n",
    "logging.basicConfig(level=logging.INFO)"
   ]
  },
  {
   "cell_type": "markdown",
   "id": "a380bb1a",
   "metadata": {},
   "source": [
    "### Create vessel - add VesselProperties and ConsumesEnergy mixins"
   ]
  },
  {
   "cell_type": "code",
   "execution_count": 2,
   "id": "c51dd9a4",
   "metadata": {},
   "outputs": [],
   "source": [
    "# Make your preferred class out of available mix-ins.\n",
    "TransportResource = type(\n",
    "    \"Vessel\",\n",
    "    (\n",
    "        opentnsim.core.Identifiable,\n",
    "        opentnsim.core.Movable,\n",
    "        opentnsim.core.VesselProperties,  # needed to add vessel properties\n",
    "        opentnsim.core.ConsumesEnergy,\n",
    "        opentnsim.core.ExtraMetadata,\n",
    "    ),\n",
    "    {},\n",
    ")  # needed to calculate resistances"
   ]
  },
  {
   "cell_type": "code",
   "execution_count": 3,
   "id": "d71f8277",
   "metadata": {},
   "outputs": [],
   "source": [
    "# Create a dict with all important settings\n",
    "\n",
    "data_vessel = {\n",
    "    \"env\": None,\n",
    "    \"name\": 'Vessel M9',\n",
    "    \"route\": None,\n",
    "    \"geometry\": None,\n",
    "    \"v\": None,  # m/s\n",
    "    \"type\": None,\n",
    "    \"B\": 11.45,\n",
    "    \"L\": 135,\n",
    "    \"H_e\": None, \n",
    "    \"H_f\": None, \n",
    "    \"T\": 2.75,\n",
    "    \"safety_margin\": 0.3, # for tanker vessel with rocky bed the safety margin is recommended as 0.3 m\n",
    "    \"h_squat\": False, # if consider the ship squatting while moving, set to True, otherwise set to False. Note that here we have disabled h_squat calculation since we regard the water depth h_0 is already reduced by squat effect. This applies to figures 3, 5, 7, 8 and 9.\n",
    "    \"payload\":None,\n",
    "    \"vessel_type\":\"Tanker\", #vessel types: \"Container\",\"Dry_SH\",\"Dry_DH\",\"Barge\",\"Tanker\". (\"Dry_SH\" means dry bulk single hull, \"Dry_DH\" means dry bulk double hull)    \n",
    "    \"P_installed\": 2200.0,   \n",
    "    \"P_tot_given\": None, # kW\n",
    "    \"bulbous_bow\": False, # if a vessel has no bulbous_bow, set to False; otherwise set to True.\n",
    "    \"P_hotel_perc\": 0.05,\n",
    "    \"P_hotel\": None, # None: calculate P_hotel from percentage\n",
    "    \"L_w\": 3.0 ,\n",
    "    \"C_B\":0.85, \n",
    "    \"C_year\": 1990,\n",
    "}             \n",
    "\n"
   ]
  },
  {
   "cell_type": "code",
   "execution_count": 4,
   "id": "f8027023",
   "metadata": {},
   "outputs": [],
   "source": [
    "data_vessel_i = data_vessel.copy()\n",
    "vessel = TransportResource(**data_vessel_i)"
   ]
  },
  {
   "cell_type": "markdown",
   "id": "288e7af5",
   "metadata": {},
   "source": [
    "### Set vessel properties and sailing conditions ( input value )"
   ]
  },
  {
   "cell_type": "code",
   "execution_count": 5,
   "id": "fdac3126",
   "metadata": {},
   "outputs": [],
   "source": [
    "V_s = np.linspace(0.1, 8, 200)          # ship sailing speeds to water, (m/s)\n",
    "h_0 = [10, 7.5, 5, 3.5]                 # water depths,(m)\n",
    "C_year = [1970, 1980, 1990, 2000, 2010, 2020]   # engine construction years\n"
   ]
  },
  {
   "cell_type": "markdown",
   "id": "a8e8e346",
   "metadata": {},
   "source": [
    "### prepare input matrix for calculation"
   ]
  },
  {
   "cell_type": "code",
   "execution_count": 6,
   "id": "06e87a79",
   "metadata": {},
   "outputs": [
    {
     "data": {
      "text/html": [
       "<div>\n",
       "<style scoped>\n",
       "    .dataframe tbody tr th:only-of-type {\n",
       "        vertical-align: middle;\n",
       "    }\n",
       "\n",
       "    .dataframe tbody tr th {\n",
       "        vertical-align: top;\n",
       "    }\n",
       "\n",
       "    .dataframe thead th {\n",
       "        text-align: right;\n",
       "    }\n",
       "</style>\n",
       "<table border=\"1\" class=\"dataframe\">\n",
       "  <thead>\n",
       "    <tr style=\"text-align: right;\">\n",
       "      <th></th>\n",
       "      <th>C_year</th>\n",
       "      <th>h_0</th>\n",
       "      <th>V_s</th>\n",
       "    </tr>\n",
       "  </thead>\n",
       "  <tbody>\n",
       "    <tr>\n",
       "      <th>4795</th>\n",
       "      <td>2020</td>\n",
       "      <td>3.5</td>\n",
       "      <td>7.841206</td>\n",
       "    </tr>\n",
       "    <tr>\n",
       "      <th>4796</th>\n",
       "      <td>2020</td>\n",
       "      <td>3.5</td>\n",
       "      <td>7.880905</td>\n",
       "    </tr>\n",
       "    <tr>\n",
       "      <th>4797</th>\n",
       "      <td>2020</td>\n",
       "      <td>3.5</td>\n",
       "      <td>7.920603</td>\n",
       "    </tr>\n",
       "    <tr>\n",
       "      <th>4798</th>\n",
       "      <td>2020</td>\n",
       "      <td>3.5</td>\n",
       "      <td>7.960302</td>\n",
       "    </tr>\n",
       "    <tr>\n",
       "      <th>4799</th>\n",
       "      <td>2020</td>\n",
       "      <td>3.5</td>\n",
       "      <td>8.000000</td>\n",
       "    </tr>\n",
       "  </tbody>\n",
       "</table>\n",
       "</div>"
      ],
      "text/plain": [
       "      C_year  h_0       V_s\n",
       "4795    2020  3.5  7.841206\n",
       "4796    2020  3.5  7.880905\n",
       "4797    2020  3.5  7.920603\n",
       "4798    2020  3.5  7.960302\n",
       "4799    2020  3.5  8.000000"
      ]
     },
     "execution_count": 6,
     "metadata": {},
     "output_type": "execute_result"
    }
   ],
   "source": [
    "# prepare the work to be done\n",
    "# create a list of all combinations\n",
    "work = list(itertools.product(C_year, h_0, V_s))\n",
    "\n",
    "# prepare a list of dictionaries for pandas\n",
    "rows = []\n",
    "for item in work:\n",
    "    row = {\"C_year\": item[0], \"h_0\": item[1], \"V_s\": item[2]}\n",
    "    rows.append(row)\n",
    "\n",
    "# these are all the simulations that we want to run\n",
    "# convert them to dataframe, so that we can apply a function and monitor progress\n",
    "work_df = pd.DataFrame(rows)\n",
    "work_df.tail()"
   ]
  },
  {
   "cell_type": "markdown",
   "id": "35b958ed-06a8-455d-988c-f7a1f482670d",
   "metadata": {},
   "source": [
    "### Run OpenTNSim to Calculate resistance, required power and emissions "
   ]
  },
  {
   "cell_type": "code",
   "execution_count": 7,
   "id": "c419e4c5",
   "metadata": {
    "tags": []
   },
   "outputs": [
    {
     "name": "stderr",
     "output_type": "stream",
     "text": [
      "16it [00:00, 155.64it/s]"
     ]
    },
    {
     "name": "stdout",
     "output_type": "stream",
     "text": [
      "10.0\n",
      "10.0\n",
      "10.0\n",
      "10.0\n",
      "10.0\n",
      "10.0\n",
      "10.0\n",
      "10.0\n",
      "10.0\n",
      "10.0\n",
      "10.0\n",
      "10.0\n",
      "10.0\n",
      "10.0\n",
      "10.0\n",
      "10.0\n",
      "10.0\n",
      "10.0\n",
      "10.0\n",
      "10.0\n",
      "10.0\n",
      "10.0\n",
      "10.0\n",
      "10.0\n",
      "10.0\n",
      "10.0\n",
      "10.0\n",
      "10.0\n",
      "10.0\n",
      "10.0\n"
     ]
    },
    {
     "name": "stderr",
     "output_type": "stream",
     "text": [
      "49it [00:00, 159.33it/s]"
     ]
    },
    {
     "name": "stdout",
     "output_type": "stream",
     "text": [
      "10.0\n",
      "10.0\n",
      "10.0\n",
      "10.0\n",
      "10.0\n",
      "10.0\n",
      "10.0\n",
      "10.0\n",
      "10.0\n",
      "10.0\n",
      "10.0\n",
      "10.0\n",
      "10.0\n",
      "10.0\n",
      "10.0\n",
      "10.0\n",
      "10.0\n",
      "10.0\n",
      "10.0\n",
      "10.0\n",
      "10.0\n",
      "10.0\n",
      "10.0\n",
      "10.0\n",
      "10.0\n",
      "10.0\n",
      "10.0\n",
      "10.0\n",
      "10.0\n",
      "10.0\n",
      "10.0\n"
     ]
    },
    {
     "name": "stderr",
     "output_type": "stream",
     "text": [
      "84it [00:00, 165.71it/s]"
     ]
    },
    {
     "name": "stdout",
     "output_type": "stream",
     "text": [
      "10.0\n",
      "10.0\n",
      "10.0\n",
      "10.0\n",
      "10.0\n",
      "10.0\n",
      "10.0\n",
      "10.0\n",
      "10.0\n",
      "10.0\n",
      "10.0\n",
      "10.0\n",
      "10.0\n",
      "10.0\n",
      "10.0\n",
      "10.0\n",
      "10.0\n",
      "10.0\n",
      "10.0\n",
      "10.0\n",
      "10.0\n",
      "10.0\n",
      "10.0\n",
      "10.0\n",
      "10.0\n",
      "10.0\n",
      "10.0\n",
      "10.0\n",
      "10.0\n",
      "10.0\n",
      "10.0\n",
      "10.0\n"
     ]
    },
    {
     "name": "stderr",
     "output_type": "stream",
     "text": [
      "118it [00:00, 165.77it/s]"
     ]
    },
    {
     "name": "stdout",
     "output_type": "stream",
     "text": [
      "10.0\n",
      "10.0\n",
      "10.0\n",
      "10.0\n",
      "10.0\n",
      "10.0\n",
      "10.0\n",
      "10.0\n",
      "10.0\n",
      "10.0\n",
      "10.0\n",
      "10.0\n",
      "10.0\n",
      "10.0\n",
      "10.0\n",
      "10.0\n",
      "10.0\n",
      "10.0\n",
      "10.0\n",
      "10.0\n",
      "10.0\n",
      "10.0\n",
      "10.0\n",
      "10.0\n",
      "10.0\n",
      "10.0\n",
      "10.0\n",
      "10.0\n",
      "10.0\n",
      "10.0\n"
     ]
    },
    {
     "name": "stderr",
     "output_type": "stream",
     "text": [
      "152it [00:00, 163.10it/s]"
     ]
    },
    {
     "name": "stdout",
     "output_type": "stream",
     "text": [
      "10.0\n",
      "10.0\n",
      "10.0\n",
      "10.0\n",
      "10.0\n",
      "10.0\n",
      "10.0\n",
      "10.0\n",
      "10.0\n",
      "10.0\n",
      "10.0\n",
      "10.0\n",
      "10.0\n",
      "10.0\n",
      "10.0\n",
      "10.0\n",
      "10.0\n",
      "10.0\n",
      "10.0\n",
      "10.0\n",
      "10.0\n",
      "10.0\n",
      "10.0\n",
      "10.0\n",
      "10.0\n",
      "10.0\n",
      "10.0\n",
      "10.0\n",
      "10.0\n",
      "10.0\n"
     ]
    },
    {
     "name": "stderr",
     "output_type": "stream",
     "text": [
      "169it [00:01, 148.67it/s]"
     ]
    },
    {
     "name": "stdout",
     "output_type": "stream",
     "text": [
      "10.0\n",
      "10.0\n",
      "10.0\n",
      "10.0\n",
      "10.0\n",
      "10.0\n",
      "10.0\n",
      "10.0\n",
      "10.0\n",
      "10.0\n",
      "10.0\n",
      "10.0\n",
      "10.0\n",
      "10.0\n",
      "10.0\n",
      "10.0\n",
      "10.0\n",
      "10.0\n",
      "10.0\n",
      "10.0\n",
      "10.0\n",
      "10.0\n",
      "10.0\n"
     ]
    },
    {
     "name": "stderr",
     "output_type": "stream",
     "text": [
      "185it [00:01, 134.62it/s]"
     ]
    },
    {
     "name": "stdout",
     "output_type": "stream",
     "text": [
      "10.0\n",
      "10.0\n",
      "10.0\n",
      "10.0\n",
      "10.0\n",
      "10.0\n",
      "10.0\n",
      "10.0\n",
      "10.0\n",
      "10.0\n",
      "10.0\n",
      "10.0\n",
      "10.0\n",
      "10.0\n",
      "10.0\n",
      "10.0\n",
      "10.0\n",
      "10.0\n",
      "10.0\n",
      "10.0\n",
      "10.0\n"
     ]
    },
    {
     "name": "stderr",
     "output_type": "stream",
     "text": [
      "216it [00:01, 137.86it/s]"
     ]
    },
    {
     "name": "stdout",
     "output_type": "stream",
     "text": [
      "10.0\n",
      "10.0\n",
      "10.0\n",
      "7.5\n",
      "7.5\n",
      "7.5\n",
      "7.5\n",
      "7.5\n",
      "7.5\n",
      "7.5\n",
      "7.5\n",
      "7.5\n",
      "7.5\n",
      "7.5\n",
      "7.5\n",
      "7.5\n",
      "7.5\n",
      "7.5\n",
      "7.5\n",
      "7.5\n",
      "7.5\n",
      "7.5\n",
      "7.5\n",
      "7.5\n",
      "7.5\n",
      "7.5\n",
      "7.5\n",
      "7.5\n",
      "7.5\n"
     ]
    },
    {
     "name": "stderr",
     "output_type": "stream",
     "text": [
      "250it [00:01, 151.41it/s]"
     ]
    },
    {
     "name": "stdout",
     "output_type": "stream",
     "text": [
      "7.5\n",
      "7.5\n",
      "7.5\n",
      "7.5\n",
      "7.5\n",
      "7.5\n",
      "7.5\n",
      "7.5\n",
      "7.5\n",
      "7.5\n",
      "7.5\n",
      "7.5\n",
      "7.5\n",
      "7.5\n",
      "7.5\n",
      "7.5\n",
      "7.5\n",
      "7.5\n",
      "7.5\n",
      "7.5\n",
      "7.5\n",
      "7.5\n",
      "7.5\n",
      "7.5\n",
      "7.5\n",
      "7.5\n",
      "7.5\n",
      "7.5\n",
      "7.5\n",
      "7.5\n",
      "7.5\n"
     ]
    },
    {
     "name": "stderr",
     "output_type": "stream",
     "text": [
      "285it [00:01, 159.50it/s]"
     ]
    },
    {
     "name": "stdout",
     "output_type": "stream",
     "text": [
      "7.5\n",
      "7.5\n",
      "7.5\n",
      "7.5\n",
      "7.5\n",
      "7.5\n",
      "7.5\n",
      "7.5\n",
      "7.5\n",
      "7.5\n",
      "7.5\n",
      "7.5\n",
      "7.5\n",
      "7.5\n",
      "7.5\n",
      "7.5\n",
      "7.5\n",
      "7.5\n",
      "7.5\n",
      "7.5\n",
      "7.5\n",
      "7.5\n",
      "7.5\n",
      "7.5\n",
      "7.5\n",
      "7.5\n",
      "7.5\n",
      "7.5\n",
      "7.5\n",
      "7.5\n",
      "7.5\n"
     ]
    },
    {
     "name": "stderr",
     "output_type": "stream",
     "text": [
      "319it [00:02, 163.12it/s]"
     ]
    },
    {
     "name": "stdout",
     "output_type": "stream",
     "text": [
      "7.5\n",
      "7.5\n",
      "7.5\n",
      "7.5\n",
      "7.5\n",
      "7.5\n",
      "7.5\n",
      "7.5\n",
      "7.5\n",
      "7.5\n",
      "7.5\n",
      "7.5\n",
      "7.5\n",
      "7.5\n",
      "7.5\n",
      "7.5\n",
      "7.5\n",
      "7.5\n",
      "7.5\n",
      "7.5\n",
      "7.5\n",
      "7.5\n",
      "7.5\n",
      "7.5\n",
      "7.5\n",
      "7.5\n",
      "7.5\n",
      "7.5\n",
      "7.5\n",
      "7.5\n",
      "7.5\n"
     ]
    },
    {
     "name": "stderr",
     "output_type": "stream",
     "text": [
      "336it [00:02, 161.71it/s]"
     ]
    },
    {
     "name": "stdout",
     "output_type": "stream",
     "text": [
      "7.5\n",
      "7.5\n",
      "7.5\n",
      "7.5\n",
      "7.5\n",
      "7.5\n",
      "7.5\n",
      "7.5\n",
      "7.5\n",
      "7.5\n",
      "7.5\n",
      "7.5\n",
      "7.5\n",
      "7.5\n",
      "7.5\n",
      "7.5\n",
      "7.5\n",
      "7.5\n",
      "7.5\n",
      "7.5\n",
      "7.5\n",
      "7.5\n",
      "7.5\n",
      "7.5\n",
      "7.5\n",
      "7.5\n",
      "7.5\n",
      "7.5\n",
      "7.5\n",
      "7.5\n"
     ]
    },
    {
     "name": "stderr",
     "output_type": "stream",
     "text": [
      "369it [00:02, 138.99it/s]"
     ]
    },
    {
     "name": "stdout",
     "output_type": "stream",
     "text": [
      "7.5\n",
      "7.5\n",
      "7.5\n",
      "7.5\n",
      "7.5\n",
      "7.5\n",
      "7.5\n",
      "7.5\n",
      "7.5\n",
      "7.5\n",
      "7.5\n",
      "7.5\n",
      "7.5\n",
      "7.5\n",
      "7.5\n",
      "7.5\n",
      "7.5\n",
      "7.5\n",
      "7.5\n",
      "7.5\n"
     ]
    },
    {
     "name": "stderr",
     "output_type": "stream",
     "text": [
      "384it [00:02, 130.54it/s]"
     ]
    },
    {
     "name": "stdout",
     "output_type": "stream",
     "text": [
      "7.5\n",
      "7.5\n",
      "7.5\n",
      "7.5\n",
      "7.5\n",
      "7.5\n",
      "7.5\n",
      "7.5\n",
      "7.5\n",
      "7.5\n",
      "7.5\n",
      "7.5\n",
      "7.5\n",
      "7.5\n",
      "7.5\n",
      "7.5\n",
      "7.5\n",
      "7.5\n",
      "7.5\n",
      "7.5\n",
      "7.5\n",
      "7.5\n"
     ]
    },
    {
     "name": "stderr",
     "output_type": "stream",
     "text": [
      "415it [00:02, 134.35it/s]"
     ]
    },
    {
     "name": "stdout",
     "output_type": "stream",
     "text": [
      "7.5\n",
      "7.5\n",
      "7.5\n",
      "7.5\n",
      "7.5\n",
      "7.5\n",
      "7.5\n",
      "7.5\n",
      "7.5\n",
      "5.0\n",
      "5.0\n",
      "5.0\n",
      "5.0\n",
      "5.0\n",
      "5.0\n",
      "5.0\n",
      "5.0\n",
      "5.0\n",
      "5.0\n",
      "5.0\n",
      "5.0\n",
      "5.0\n",
      "5.0\n",
      "5.0\n",
      "5.0\n",
      "5.0\n",
      "5.0\n"
     ]
    },
    {
     "name": "stderr",
     "output_type": "stream",
     "text": [
      "432it [00:02, 143.14it/s]"
     ]
    },
    {
     "name": "stdout",
     "output_type": "stream",
     "text": [
      "5.0\n",
      "5.0\n",
      "5.0\n",
      "5.0\n",
      "5.0\n",
      "5.0\n",
      "5.0\n",
      "5.0\n",
      "5.0\n",
      "5.0\n",
      "5.0\n",
      "5.0\n",
      "5.0\n",
      "5.0\n",
      "5.0\n",
      "5.0\n",
      "5.0\n",
      "5.0\n",
      "5.0\n",
      "5.0\n",
      "5.0\n",
      "5.0\n",
      "5.0\n",
      "5.0\n",
      "5.0\n",
      "5.0\n",
      "5.0\n",
      "5.0\n",
      "5.0\n",
      "5.0\n",
      "5.0\n"
     ]
    },
    {
     "name": "stderr",
     "output_type": "stream",
     "text": [
      "467it [00:03, 156.02it/s]"
     ]
    },
    {
     "name": "stdout",
     "output_type": "stream",
     "text": [
      "5.0\n",
      "5.0\n",
      "5.0\n",
      "5.0\n",
      "5.0\n",
      "5.0\n",
      "5.0\n",
      "5.0\n",
      "5.0\n",
      "5.0\n",
      "5.0\n",
      "5.0\n",
      "5.0\n",
      "5.0\n",
      "5.0\n",
      "5.0\n",
      "5.0\n",
      "5.0\n",
      "5.0\n",
      "5.0\n",
      "5.0\n",
      "5.0\n",
      "5.0\n",
      "5.0\n",
      "5.0\n",
      "5.0\n",
      "5.0\n",
      "5.0\n",
      "5.0\n",
      "5.0\n",
      "5.0\n",
      "5.0\n"
     ]
    },
    {
     "name": "stderr",
     "output_type": "stream",
     "text": [
      "501it [00:03, 160.13it/s]"
     ]
    },
    {
     "name": "stdout",
     "output_type": "stream",
     "text": [
      "5.0\n",
      "5.0\n",
      "5.0\n",
      "5.0\n",
      "5.0\n",
      "5.0\n",
      "5.0\n",
      "5.0\n",
      "5.0\n",
      "5.0\n",
      "5.0\n",
      "5.0\n",
      "5.0\n",
      "5.0\n",
      "5.0\n",
      "5.0\n",
      "5.0\n",
      "5.0\n",
      "5.0\n",
      "5.0\n",
      "5.0\n",
      "5.0\n",
      "5.0\n",
      "5.0\n",
      "5.0\n",
      "5.0\n",
      "5.0\n",
      "5.0\n",
      "5.0\n",
      "5.0\n"
     ]
    },
    {
     "name": "stderr",
     "output_type": "stream",
     "text": [
      "535it [00:03, 155.10it/s]"
     ]
    },
    {
     "name": "stdout",
     "output_type": "stream",
     "text": [
      "5.0\n",
      "5.0\n",
      "5.0\n",
      "5.0\n",
      "5.0\n",
      "5.0\n",
      "5.0\n",
      "5.0\n",
      "5.0\n",
      "5.0\n",
      "5.0\n",
      "5.0\n",
      "5.0\n",
      "5.0\n",
      "5.0\n",
      "5.0\n",
      "5.0\n",
      "5.0\n",
      "5.0\n",
      "5.0\n",
      "5.0\n",
      "5.0\n",
      "5.0\n",
      "5.0\n",
      "5.0\n",
      "5.0\n",
      "5.0\n"
     ]
    },
    {
     "name": "stderr",
     "output_type": "stream",
     "text": [
      "551it [00:03, 139.60it/s]"
     ]
    },
    {
     "name": "stdout",
     "output_type": "stream",
     "text": [
      "5.0\n",
      "5.0\n",
      "5.0\n",
      "5.0\n",
      "5.0\n",
      "5.0\n",
      "5.0\n",
      "5.0\n",
      "5.0\n",
      "5.0\n",
      "5.0\n",
      "5.0\n",
      "5.0\n",
      "5.0\n",
      "5.0\n",
      "5.0\n",
      "5.0\n",
      "5.0\n",
      "5.0\n",
      "5.0\n",
      "5.0\n",
      "5.0\n"
     ]
    },
    {
     "name": "stderr",
     "output_type": "stream",
     "text": [
      "580it [00:03, 123.84it/s]"
     ]
    },
    {
     "name": "stdout",
     "output_type": "stream",
     "text": [
      "5.0\n",
      "5.0\n",
      "5.0\n",
      "5.0\n",
      "5.0\n",
      "5.0\n",
      "5.0\n",
      "5.0\n",
      "5.0\n",
      "5.0\n",
      "5.0\n",
      "5.0\n",
      "5.0\n",
      "5.0\n",
      "5.0\n",
      "5.0\n",
      "5.0\n",
      "5.0\n",
      "5.0\n",
      "5.0\n",
      "5.0\n"
     ]
    },
    {
     "name": "stderr",
     "output_type": "stream",
     "text": [
      "593it [00:04, 118.25it/s]"
     ]
    },
    {
     "name": "stdout",
     "output_type": "stream",
     "text": [
      "5.0\n",
      "5.0\n",
      "5.0\n",
      "5.0\n",
      "5.0\n",
      "5.0\n",
      "5.0\n",
      "5.0\n",
      "5.0\n",
      "5.0\n",
      "5.0\n",
      "5.0\n",
      "5.0\n",
      "5.0\n",
      "5.0\n",
      "5.0\n",
      "5.0\n",
      "5.0\n",
      "5.0\n",
      "3.5\n",
      "3.5\n"
     ]
    },
    {
     "name": "stderr",
     "output_type": "stream",
     "text": [
      "623it [00:04, 132.67it/s]"
     ]
    },
    {
     "name": "stdout",
     "output_type": "stream",
     "text": [
      "3.5\n",
      "3.5\n",
      "3.5\n",
      "3.5\n",
      "3.5\n",
      "3.5\n",
      "3.5\n",
      "3.5\n",
      "3.5\n",
      "3.5\n",
      "3.5\n",
      "3.5\n",
      "3.5\n",
      "3.5\n",
      "3.5\n",
      "3.5\n",
      "3.5\n",
      "3.5\n",
      "3.5\n",
      "3.5\n",
      "3.5\n",
      "3.5\n",
      "3.5\n",
      "3.5\n",
      "3.5\n",
      "3.5\n",
      "3.5\n",
      "3.5\n",
      "3.5\n",
      "3.5\n"
     ]
    },
    {
     "name": "stderr",
     "output_type": "stream",
     "text": [
      "657it [00:04, 148.68it/s]"
     ]
    },
    {
     "name": "stdout",
     "output_type": "stream",
     "text": [
      "3.5\n",
      "3.5\n",
      "3.5\n",
      "3.5\n",
      "3.5\n",
      "3.5\n",
      "3.5\n",
      "3.5\n",
      "3.5\n",
      "3.5\n",
      "3.5\n",
      "3.5\n",
      "3.5\n",
      "3.5\n",
      "3.5\n",
      "3.5\n",
      "3.5\n",
      "3.5\n",
      "3.5\n",
      "3.5\n",
      "3.5\n",
      "3.5\n",
      "3.5\n",
      "3.5\n",
      "3.5\n",
      "3.5\n",
      "3.5\n",
      "3.5\n",
      "3.5\n",
      "3.5\n",
      "3.5\n"
     ]
    },
    {
     "name": "stderr",
     "output_type": "stream",
     "text": [
      "691it [00:04, 157.03it/s]"
     ]
    },
    {
     "name": "stdout",
     "output_type": "stream",
     "text": [
      "3.5\n",
      "3.5\n",
      "3.5\n",
      "3.5\n",
      "3.5\n",
      "3.5\n",
      "3.5\n",
      "3.5\n",
      "3.5\n",
      "3.5\n",
      "3.5\n",
      "3.5\n",
      "3.5\n",
      "3.5\n",
      "3.5\n",
      "3.5\n",
      "3.5\n",
      "3.5\n",
      "3.5\n",
      "3.5\n",
      "3.5\n",
      "3.5\n",
      "3.5\n",
      "3.5\n",
      "3.5\n",
      "3.5\n",
      "3.5\n",
      "3.5\n",
      "3.5\n",
      "3.5\n",
      "3.5\n"
     ]
    },
    {
     "name": "stderr",
     "output_type": "stream",
     "text": [
      "707it [00:04, 156.86it/s]"
     ]
    },
    {
     "name": "stdout",
     "output_type": "stream",
     "text": [
      "3.5\n",
      "3.5\n",
      "3.5\n",
      "3.5\n",
      "3.5\n",
      "3.5\n",
      "3.5\n",
      "3.5\n",
      "3.5\n",
      "3.5\n",
      "3.5\n",
      "3.5\n",
      "3.5\n",
      "3.5\n",
      "3.5\n",
      "3.5\n",
      "3.5\n",
      "3.5\n",
      "3.5\n",
      "3.5\n",
      "3.5\n",
      "3.5\n",
      "3.5\n",
      "3.5\n",
      "3.5\n",
      "3.5\n"
     ]
    },
    {
     "name": "stderr",
     "output_type": "stream",
     "text": [
      "738it [00:05, 133.28it/s]"
     ]
    },
    {
     "name": "stdout",
     "output_type": "stream",
     "text": [
      "3.5\n",
      "3.5\n",
      "3.5\n",
      "3.5\n",
      "3.5\n",
      "3.5\n",
      "3.5\n",
      "3.5\n",
      "3.5\n",
      "3.5\n",
      "3.5\n",
      "3.5\n",
      "3.5\n",
      "3.5\n",
      "3.5\n",
      "3.5\n",
      "3.5\n",
      "3.5\n",
      "3.5\n",
      "3.5\n",
      "3.5\n"
     ]
    },
    {
     "name": "stderr",
     "output_type": "stream",
     "text": [
      "752it [00:05, 127.07it/s]"
     ]
    },
    {
     "name": "stdout",
     "output_type": "stream",
     "text": [
      "3.5\n",
      "3.5\n",
      "3.5\n",
      "3.5\n",
      "3.5\n",
      "3.5\n",
      "3.5\n",
      "3.5\n",
      "3.5\n",
      "3.5\n",
      "3.5\n",
      "3.5\n",
      "3.5\n",
      "3.5\n",
      "3.5\n",
      "3.5\n",
      "3.5\n",
      "3.5\n",
      "3.5\n",
      "3.5\n",
      "3.5\n"
     ]
    },
    {
     "name": "stderr",
     "output_type": "stream",
     "text": [
      "778it [00:05, 119.20it/s]"
     ]
    },
    {
     "name": "stdout",
     "output_type": "stream",
     "text": [
      "3.5\n",
      "3.5\n",
      "3.5\n",
      "3.5\n",
      "3.5\n",
      "3.5\n",
      "3.5\n",
      "3.5\n",
      "3.5\n",
      "3.5\n",
      "3.5\n",
      "3.5\n",
      "3.5\n",
      "3.5\n",
      "3.5\n",
      "3.5\n",
      "3.5\n",
      "3.5\n",
      "3.5\n",
      "3.5\n",
      "3.5\n"
     ]
    },
    {
     "name": "stderr",
     "output_type": "stream",
     "text": [
      "805it [00:05, 121.12it/s]"
     ]
    },
    {
     "name": "stdout",
     "output_type": "stream",
     "text": [
      "3.5\n",
      "3.5\n",
      "3.5\n",
      "3.5\n",
      "3.5\n",
      "3.5\n",
      "3.5\n",
      "3.5\n",
      "3.5\n",
      "3.5\n",
      "3.5\n",
      "3.5\n",
      "3.5\n",
      "3.5\n",
      "3.5\n",
      "3.5\n",
      "3.5\n",
      "10.0\n",
      "10.0\n",
      "10.0\n",
      "10.0\n",
      "10.0\n"
     ]
    },
    {
     "name": "stderr",
     "output_type": "stream",
     "text": [
      "823it [00:05, 136.90it/s]"
     ]
    },
    {
     "name": "stdout",
     "output_type": "stream",
     "text": [
      "10.0\n",
      "10.0\n",
      "10.0\n",
      "10.0\n",
      "10.0\n",
      "10.0\n",
      "10.0\n",
      "10.0\n",
      "10.0\n",
      "10.0\n",
      "10.0\n",
      "10.0\n",
      "10.0\n",
      "10.0\n",
      "10.0\n",
      "10.0\n",
      "10.0\n",
      "10.0\n",
      "10.0\n",
      "10.0\n",
      "10.0\n",
      "10.0\n",
      "10.0\n",
      "10.0\n",
      "10.0\n",
      "10.0\n",
      "10.0\n",
      "10.0\n",
      "10.0\n",
      "10.0\n",
      "10.0\n",
      "10.0\n",
      "10.0\n",
      "10.0\n"
     ]
    },
    {
     "name": "stderr",
     "output_type": "stream",
     "text": [
      "859it [00:05, 156.09it/s]"
     ]
    },
    {
     "name": "stdout",
     "output_type": "stream",
     "text": [
      "10.0\n",
      "10.0\n",
      "10.0\n",
      "10.0\n",
      "10.0\n",
      "10.0\n",
      "10.0\n",
      "10.0\n",
      "10.0\n",
      "10.0\n",
      "10.0\n",
      "10.0\n",
      "10.0\n",
      "10.0\n",
      "10.0\n",
      "10.0\n",
      "10.0\n",
      "10.0\n",
      "10.0\n",
      "10.0\n",
      "10.0\n",
      "10.0\n",
      "10.0\n",
      "10.0\n",
      "10.0\n",
      "10.0\n",
      "10.0\n",
      "10.0\n",
      "10.0\n",
      "10.0\n",
      "10.0\n",
      "10.0\n",
      "10.0\n",
      "10.0\n"
     ]
    },
    {
     "name": "stderr",
     "output_type": "stream",
     "text": [
      "895it [00:06, 166.02it/s]"
     ]
    },
    {
     "name": "stdout",
     "output_type": "stream",
     "text": [
      "10.0\n",
      "10.0\n",
      "10.0\n",
      "10.0\n",
      "10.0\n",
      "10.0\n",
      "10.0\n",
      "10.0\n",
      "10.0\n",
      "10.0\n",
      "10.0\n",
      "10.0\n",
      "10.0\n",
      "10.0\n",
      "10.0\n",
      "10.0\n",
      "10.0\n",
      "10.0\n",
      "10.0\n",
      "10.0\n",
      "10.0\n",
      "10.0\n",
      "10.0\n",
      "10.0\n",
      "10.0\n",
      "10.0\n",
      "10.0\n",
      "10.0\n",
      "10.0\n",
      "10.0\n",
      "10.0\n",
      "10.0\n"
     ]
    },
    {
     "name": "stderr",
     "output_type": "stream",
     "text": [
      "930it [00:06, 168.07it/s]"
     ]
    },
    {
     "name": "stdout",
     "output_type": "stream",
     "text": [
      "10.0\n",
      "10.0\n",
      "10.0\n",
      "10.0\n",
      "10.0\n",
      "10.0\n",
      "10.0\n",
      "10.0\n",
      "10.0\n",
      "10.0\n",
      "10.0\n",
      "10.0\n",
      "10.0\n",
      "10.0\n",
      "10.0\n",
      "10.0\n",
      "10.0\n",
      "10.0\n",
      "10.0\n",
      "10.0\n",
      "10.0\n",
      "10.0\n",
      "10.0\n",
      "10.0\n",
      "10.0\n",
      "10.0\n",
      "10.0\n",
      "10.0\n",
      "10.0\n",
      "10.0\n",
      "10.0\n",
      "10.0\n"
     ]
    },
    {
     "name": "stderr",
     "output_type": "stream",
     "text": [
      "964it [00:06, 158.18it/s]"
     ]
    },
    {
     "name": "stdout",
     "output_type": "stream",
     "text": [
      "10.0\n",
      "10.0\n",
      "10.0\n",
      "10.0\n",
      "10.0\n",
      "10.0\n",
      "10.0\n",
      "10.0\n",
      "10.0\n",
      "10.0\n",
      "10.0\n",
      "10.0\n",
      "10.0\n",
      "10.0\n",
      "10.0\n",
      "10.0\n",
      "10.0\n",
      "10.0\n",
      "10.0\n",
      "10.0\n",
      "10.0\n",
      "10.0\n",
      "10.0\n",
      "10.0\n",
      "10.0\n",
      "10.0\n",
      "10.0\n"
     ]
    },
    {
     "name": "stderr",
     "output_type": "stream",
     "text": [
      "980it [00:06, 143.29it/s]"
     ]
    },
    {
     "name": "stdout",
     "output_type": "stream",
     "text": [
      "10.0\n",
      "10.0\n",
      "10.0\n",
      "10.0\n",
      "10.0\n",
      "10.0\n",
      "10.0\n",
      "10.0\n",
      "10.0\n",
      "10.0\n",
      "10.0\n",
      "10.0\n",
      "10.0\n",
      "10.0\n",
      "10.0\n",
      "10.0\n",
      "10.0\n",
      "10.0\n",
      "10.0\n",
      "10.0\n",
      "10.0\n",
      "10.0\n",
      "10.0\n"
     ]
    },
    {
     "name": "stderr",
     "output_type": "stream",
     "text": [
      "1011it [00:06, 139.90it/s]"
     ]
    },
    {
     "name": "stdout",
     "output_type": "stream",
     "text": [
      "10.0\n",
      "10.0\n",
      "10.0\n",
      "10.0\n",
      "10.0\n",
      "10.0\n",
      "10.0\n",
      "10.0\n",
      "10.0\n",
      "10.0\n",
      "10.0\n",
      "10.0\n",
      "10.0\n",
      "7.5\n",
      "7.5\n",
      "7.5\n",
      "7.5\n",
      "7.5\n",
      "7.5\n",
      "7.5\n",
      "7.5\n",
      "7.5\n",
      "7.5\n",
      "7.5\n",
      "7.5\n"
     ]
    },
    {
     "name": "stderr",
     "output_type": "stream",
     "text": [
      "1029it [00:07, 149.64it/s]"
     ]
    },
    {
     "name": "stdout",
     "output_type": "stream",
     "text": [
      "7.5\n",
      "7.5\n",
      "7.5\n",
      "7.5\n",
      "7.5\n",
      "7.5\n",
      "7.5\n",
      "7.5\n",
      "7.5\n",
      "7.5\n",
      "7.5\n",
      "7.5\n",
      "7.5\n",
      "7.5\n",
      "7.5\n",
      "7.5\n",
      "7.5\n",
      "7.5\n",
      "7.5\n",
      "7.5\n",
      "7.5\n",
      "7.5\n",
      "7.5\n",
      "7.5\n",
      "7.5\n",
      "7.5\n",
      "7.5\n",
      "7.5\n",
      "7.5\n",
      "7.5\n",
      "7.5\n",
      "7.5\n",
      "7.5\n",
      "7.5\n"
     ]
    },
    {
     "name": "stderr",
     "output_type": "stream",
     "text": [
      "1065it [00:07, 163.08it/s]"
     ]
    },
    {
     "name": "stdout",
     "output_type": "stream",
     "text": [
      "7.5\n",
      "7.5\n",
      "7.5\n",
      "7.5\n",
      "7.5\n",
      "7.5\n",
      "7.5\n",
      "7.5\n",
      "7.5\n",
      "7.5\n",
      "7.5\n",
      "7.5\n",
      "7.5\n",
      "7.5\n",
      "7.5\n",
      "7.5\n",
      "7.5\n",
      "7.5\n",
      "7.5\n",
      "7.5\n",
      "7.5\n",
      "7.5\n",
      "7.5\n",
      "7.5\n",
      "7.5\n",
      "7.5\n",
      "7.5\n",
      "7.5\n",
      "7.5\n",
      "7.5\n",
      "7.5\n",
      "7.5\n",
      "7.5\n"
     ]
    },
    {
     "name": "stderr",
     "output_type": "stream",
     "text": [
      "1101it [00:07, 169.56it/s]"
     ]
    },
    {
     "name": "stdout",
     "output_type": "stream",
     "text": [
      "7.5\n",
      "7.5\n",
      "7.5\n",
      "7.5\n",
      "7.5\n",
      "7.5\n",
      "7.5\n",
      "7.5\n",
      "7.5\n",
      "7.5\n",
      "7.5\n",
      "7.5\n",
      "7.5\n",
      "7.5\n",
      "7.5\n",
      "7.5\n",
      "7.5\n",
      "7.5\n",
      "7.5\n",
      "7.5\n",
      "7.5\n",
      "7.5\n",
      "7.5\n",
      "7.5\n",
      "7.5\n",
      "7.5\n",
      "7.5\n",
      "7.5\n",
      "7.5\n",
      "7.5\n",
      "7.5\n",
      "7.5\n"
     ]
    },
    {
     "name": "stderr",
     "output_type": "stream",
     "text": [
      "1136it [00:07, 168.98it/s]"
     ]
    },
    {
     "name": "stdout",
     "output_type": "stream",
     "text": [
      "7.5\n",
      "7.5\n",
      "7.5\n",
      "7.5\n",
      "7.5\n",
      "7.5\n",
      "7.5\n",
      "7.5\n",
      "7.5\n",
      "7.5\n",
      "7.5\n",
      "7.5\n",
      "7.5\n",
      "7.5\n",
      "7.5\n",
      "7.5\n",
      "7.5\n",
      "7.5\n",
      "7.5\n",
      "7.5\n",
      "7.5\n",
      "7.5\n",
      "7.5\n",
      "7.5\n",
      "7.5\n",
      "7.5\n",
      "7.5\n",
      "7.5\n",
      "7.5\n",
      "7.5\n",
      "7.5\n"
     ]
    },
    {
     "name": "stderr",
     "output_type": "stream",
     "text": [
      "1153it [00:07, 159.63it/s]"
     ]
    },
    {
     "name": "stdout",
     "output_type": "stream",
     "text": [
      "7.5\n",
      "7.5\n",
      "7.5\n",
      "7.5\n",
      "7.5\n",
      "7.5\n",
      "7.5\n",
      "7.5\n",
      "7.5\n",
      "7.5\n",
      "7.5\n",
      "7.5\n",
      "7.5\n",
      "7.5\n",
      "7.5\n",
      "7.5\n",
      "7.5\n",
      "7.5\n",
      "7.5\n",
      "7.5\n",
      "7.5\n",
      "7.5\n",
      "7.5\n",
      "7.5\n"
     ]
    },
    {
     "name": "stderr",
     "output_type": "stream",
     "text": [
      "1185it [00:08, 135.97it/s]"
     ]
    },
    {
     "name": "stdout",
     "output_type": "stream",
     "text": [
      "7.5\n",
      "7.5\n",
      "7.5\n",
      "7.5\n",
      "7.5\n",
      "7.5\n",
      "7.5\n",
      "7.5\n",
      "7.5\n",
      "7.5\n",
      "7.5\n",
      "7.5\n",
      "7.5\n",
      "7.5\n",
      "7.5\n",
      "7.5\n",
      "7.5\n",
      "7.5\n",
      "7.5\n",
      "7.5\n",
      "7.5\n",
      "7.5\n"
     ]
    },
    {
     "name": "stderr",
     "output_type": "stream",
     "text": [
      "1199it [00:08, 129.56it/s]"
     ]
    },
    {
     "name": "stdout",
     "output_type": "stream",
     "text": [
      "7.5\n",
      "7.5\n",
      "7.5\n",
      "7.5\n",
      "7.5\n",
      "7.5\n",
      "7.5\n",
      "7.5\n",
      "7.5\n",
      "7.5\n",
      "7.5\n",
      "7.5\n",
      "5.0\n",
      "5.0\n",
      "5.0\n",
      "5.0\n",
      "5.0\n",
      "5.0\n",
      "5.0\n",
      "5.0\n",
      "5.0\n",
      "5.0\n",
      "5.0\n",
      "5.0\n",
      "5.0\n",
      "5.0\n"
     ]
    },
    {
     "name": "stderr",
     "output_type": "stream",
     "text": [
      "1235it [00:08, 150.78it/s]"
     ]
    },
    {
     "name": "stdout",
     "output_type": "stream",
     "text": [
      "5.0\n",
      "5.0\n",
      "5.0\n",
      "5.0\n",
      "5.0\n",
      "5.0\n",
      "5.0\n",
      "5.0\n",
      "5.0\n",
      "5.0\n",
      "5.0\n",
      "5.0\n",
      "5.0\n",
      "5.0\n",
      "5.0\n",
      "5.0\n",
      "5.0\n",
      "5.0\n",
      "5.0\n",
      "5.0\n",
      "5.0\n",
      "5.0\n",
      "5.0\n",
      "5.0\n",
      "5.0\n",
      "5.0\n",
      "5.0\n",
      "5.0\n",
      "5.0\n",
      "5.0\n",
      "5.0\n",
      "5.0\n",
      "5.0\n"
     ]
    },
    {
     "name": "stderr",
     "output_type": "stream",
     "text": [
      "1271it [00:08, 163.31it/s]"
     ]
    },
    {
     "name": "stdout",
     "output_type": "stream",
     "text": [
      "5.0\n",
      "5.0\n",
      "5.0\n",
      "5.0\n",
      "5.0\n",
      "5.0\n",
      "5.0\n",
      "5.0\n",
      "5.0\n",
      "5.0\n",
      "5.0\n",
      "5.0\n",
      "5.0\n",
      "5.0\n",
      "5.0\n",
      "5.0\n",
      "5.0\n",
      "5.0\n",
      "5.0\n",
      "5.0\n",
      "5.0\n",
      "5.0\n",
      "5.0\n",
      "5.0\n",
      "5.0\n",
      "5.0\n",
      "5.0\n",
      "5.0\n",
      "5.0\n",
      "5.0\n",
      "5.0\n",
      "5.0\n",
      "5.0\n"
     ]
    },
    {
     "name": "stderr",
     "output_type": "stream",
     "text": [
      "1307it [00:08, 168.11it/s]"
     ]
    },
    {
     "name": "stdout",
     "output_type": "stream",
     "text": [
      "5.0\n",
      "5.0\n",
      "5.0\n",
      "5.0\n",
      "5.0\n",
      "5.0\n",
      "5.0\n",
      "5.0\n",
      "5.0\n",
      "5.0\n",
      "5.0\n",
      "5.0\n",
      "5.0\n",
      "5.0\n",
      "5.0\n",
      "5.0\n",
      "5.0\n",
      "5.0\n",
      "5.0\n",
      "5.0\n",
      "5.0\n",
      "5.0\n",
      "5.0\n",
      "5.0\n",
      "5.0\n",
      "5.0\n",
      "5.0\n",
      "5.0\n",
      "5.0\n",
      "5.0\n",
      "5.0\n",
      "5.0\n"
     ]
    },
    {
     "name": "stderr",
     "output_type": "stream",
     "text": [
      "1324it [00:08, 167.70it/s]"
     ]
    },
    {
     "name": "stdout",
     "output_type": "stream",
     "text": [
      "5.0\n",
      "5.0\n",
      "5.0\n",
      "5.0\n",
      "5.0\n",
      "5.0\n",
      "5.0\n",
      "5.0\n",
      "5.0\n",
      "5.0\n",
      "5.0\n",
      "5.0\n",
      "5.0\n",
      "5.0\n",
      "5.0\n",
      "5.0\n",
      "5.0\n",
      "5.0\n",
      "5.0\n",
      "5.0\n",
      "5.0\n",
      "5.0\n",
      "5.0\n",
      "5.0\n",
      "5.0\n",
      "5.0\n",
      "5.0\n",
      "5.0\n",
      "5.0\n"
     ]
    },
    {
     "name": "stderr",
     "output_type": "stream",
     "text": [
      "1357it [00:09, 142.07it/s]"
     ]
    },
    {
     "name": "stdout",
     "output_type": "stream",
     "text": [
      "5.0\n",
      "5.0\n",
      "5.0\n",
      "5.0\n",
      "5.0\n",
      "5.0\n",
      "5.0\n",
      "5.0\n",
      "5.0\n",
      "5.0\n",
      "5.0\n",
      "5.0\n",
      "5.0\n",
      "5.0\n",
      "5.0\n",
      "5.0\n",
      "5.0\n",
      "5.0\n",
      "5.0\n",
      "5.0\n",
      "5.0\n",
      "5.0\n",
      "5.0\n"
     ]
    },
    {
     "name": "stderr",
     "output_type": "stream",
     "text": [
      "1372it [00:09, 133.20it/s]"
     ]
    },
    {
     "name": "stdout",
     "output_type": "stream",
     "text": [
      "5.0\n",
      "5.0\n",
      "5.0\n",
      "5.0\n",
      "5.0\n",
      "5.0\n",
      "5.0\n",
      "5.0\n",
      "5.0\n",
      "5.0\n",
      "5.0\n",
      "5.0\n",
      "5.0\n",
      "5.0\n",
      "5.0\n",
      "5.0\n",
      "5.0\n",
      "5.0\n",
      "5.0\n",
      "5.0\n",
      "5.0\n",
      "5.0\n"
     ]
    },
    {
     "name": "stderr",
     "output_type": "stream",
     "text": [
      "1400it [00:09, 124.72it/s]"
     ]
    },
    {
     "name": "stdout",
     "output_type": "stream",
     "text": [
      "5.0\n",
      "5.0\n",
      "5.0\n",
      "5.0\n",
      "5.0\n",
      "5.0\n",
      "5.0\n",
      "5.0\n",
      "5.0\n",
      "5.0\n",
      "5.0\n",
      "5.0\n",
      "5.0\n",
      "5.0\n",
      "3.5\n",
      "3.5\n",
      "3.5\n",
      "3.5\n",
      "3.5\n",
      "3.5\n",
      "3.5\n",
      "3.5\n",
      "3.5\n",
      "3.5\n",
      "3.5\n",
      "3.5\n",
      "3.5\n"
     ]
    },
    {
     "name": "stderr",
     "output_type": "stream",
     "text": [
      "1436it [00:09, 148.95it/s]"
     ]
    },
    {
     "name": "stdout",
     "output_type": "stream",
     "text": [
      "3.5\n",
      "3.5\n",
      "3.5\n",
      "3.5\n",
      "3.5\n",
      "3.5\n",
      "3.5\n",
      "3.5\n",
      "3.5\n",
      "3.5\n",
      "3.5\n",
      "3.5\n",
      "3.5\n",
      "3.5\n",
      "3.5\n",
      "3.5\n",
      "3.5\n",
      "3.5\n",
      "3.5\n",
      "3.5\n",
      "3.5\n",
      "3.5\n",
      "3.5\n",
      "3.5\n",
      "3.5\n",
      "3.5\n",
      "3.5\n",
      "3.5\n",
      "3.5\n",
      "3.5\n",
      "3.5\n",
      "3.5\n",
      "3.5\n"
     ]
    },
    {
     "name": "stderr",
     "output_type": "stream",
     "text": [
      "1472it [00:09, 162.72it/s]"
     ]
    },
    {
     "name": "stdout",
     "output_type": "stream",
     "text": [
      "3.5\n",
      "3.5\n",
      "3.5\n",
      "3.5\n",
      "3.5\n",
      "3.5\n",
      "3.5\n",
      "3.5\n",
      "3.5\n",
      "3.5\n",
      "3.5\n",
      "3.5\n",
      "3.5\n",
      "3.5\n",
      "3.5\n",
      "3.5\n",
      "3.5\n",
      "3.5\n",
      "3.5\n",
      "3.5\n",
      "3.5\n",
      "3.5\n",
      "3.5\n",
      "3.5\n",
      "3.5\n",
      "3.5\n",
      "3.5\n",
      "3.5\n",
      "3.5\n",
      "3.5\n",
      "3.5\n",
      "3.5\n",
      "3.5\n"
     ]
    },
    {
     "name": "stderr",
     "output_type": "stream",
     "text": [
      "1507it [00:10, 166.39it/s]"
     ]
    },
    {
     "name": "stdout",
     "output_type": "stream",
     "text": [
      "3.5\n",
      "3.5\n",
      "3.5\n",
      "3.5\n",
      "3.5\n",
      "3.5\n",
      "3.5\n",
      "3.5\n",
      "3.5\n",
      "3.5\n",
      "3.5\n",
      "3.5\n",
      "3.5\n",
      "3.5\n",
      "3.5\n",
      "3.5\n",
      "3.5\n",
      "3.5\n",
      "3.5\n",
      "3.5\n",
      "3.5\n",
      "3.5\n",
      "3.5\n",
      "3.5\n",
      "3.5\n",
      "3.5\n",
      "3.5\n",
      "3.5\n",
      "3.5\n",
      "3.5\n",
      "3.5\n",
      "3.5\n"
     ]
    },
    {
     "name": "stderr",
     "output_type": "stream",
     "text": [
      "1524it [00:10, 151.29it/s]"
     ]
    },
    {
     "name": "stdout",
     "output_type": "stream",
     "text": [
      "3.5\n",
      "3.5\n",
      "3.5\n",
      "3.5\n",
      "3.5\n",
      "3.5\n",
      "3.5\n",
      "3.5\n",
      "3.5\n",
      "3.5\n",
      "3.5\n",
      "3.5\n",
      "3.5\n",
      "3.5\n",
      "3.5\n",
      "3.5\n",
      "3.5\n",
      "3.5\n",
      "3.5\n",
      "3.5\n",
      "3.5\n",
      "3.5\n"
     ]
    },
    {
     "name": "stderr",
     "output_type": "stream",
     "text": [
      "1540it [00:10, 139.33it/s]"
     ]
    },
    {
     "name": "stdout",
     "output_type": "stream",
     "text": [
      "3.5\n",
      "3.5\n",
      "3.5\n",
      "3.5\n",
      "3.5\n",
      "3.5\n",
      "3.5\n",
      "3.5\n",
      "3.5\n",
      "3.5\n",
      "3.5\n",
      "3.5\n",
      "3.5\n",
      "3.5\n",
      "3.5\n",
      "3.5\n",
      "3.5\n",
      "3.5\n",
      "3.5\n",
      "3.5\n",
      "3.5\n",
      "3.5\n"
     ]
    },
    {
     "name": "stderr",
     "output_type": "stream",
     "text": [
      "1569it [00:10, 127.79it/s]"
     ]
    },
    {
     "name": "stdout",
     "output_type": "stream",
     "text": [
      "3.5\n",
      "3.5\n",
      "3.5\n",
      "3.5\n",
      "3.5\n",
      "3.5\n",
      "3.5\n",
      "3.5\n",
      "3.5\n",
      "3.5\n",
      "3.5\n",
      "3.5\n",
      "3.5\n",
      "3.5\n",
      "3.5\n",
      "3.5\n",
      "3.5\n",
      "3.5\n",
      "3.5\n",
      "3.5\n",
      "3.5\n",
      "3.5\n"
     ]
    },
    {
     "name": "stderr",
     "output_type": "stream",
     "text": [
      "1595it [00:10, 122.67it/s]"
     ]
    },
    {
     "name": "stdout",
     "output_type": "stream",
     "text": [
      "3.5\n",
      "3.5\n",
      "3.5\n",
      "3.5\n",
      "3.5\n",
      "3.5\n",
      "3.5\n",
      "3.5\n",
      "3.5\n",
      "3.5\n",
      "3.5\n",
      "3.5\n",
      "3.5\n",
      "3.5\n",
      "3.5\n",
      "3.5\n",
      "3.5\n",
      "3.5\n",
      "3.5\n",
      "3.5\n",
      "3.5\n",
      "3.5\n"
     ]
    },
    {
     "name": "stderr",
     "output_type": "stream",
     "text": [
      "1630it [00:11, 145.06it/s]"
     ]
    },
    {
     "name": "stdout",
     "output_type": "stream",
     "text": [
      "3.5\n",
      "10.0\n",
      "10.0\n",
      "10.0\n",
      "10.0\n",
      "10.0\n",
      "10.0\n",
      "10.0\n",
      "10.0\n",
      "10.0\n",
      "10.0\n",
      "10.0\n",
      "10.0\n",
      "10.0\n",
      "10.0\n",
      "10.0\n",
      "10.0\n",
      "10.0\n",
      "10.0\n",
      "10.0\n",
      "10.0\n",
      "10.0\n",
      "10.0\n",
      "10.0\n",
      "10.0\n",
      "10.0\n",
      "10.0\n",
      "10.0\n",
      "10.0\n",
      "10.0\n",
      "10.0\n"
     ]
    },
    {
     "name": "stderr",
     "output_type": "stream",
     "text": [
      "1648it [00:11, 153.65it/s]"
     ]
    },
    {
     "name": "stdout",
     "output_type": "stream",
     "text": [
      "10.0\n",
      "10.0\n",
      "10.0\n",
      "10.0\n",
      "10.0\n",
      "10.0\n",
      "10.0\n",
      "10.0\n",
      "10.0\n",
      "10.0\n",
      "10.0\n",
      "10.0\n",
      "10.0\n",
      "10.0\n",
      "10.0\n",
      "10.0\n",
      "10.0\n",
      "10.0\n",
      "10.0\n",
      "10.0\n",
      "10.0\n",
      "10.0\n",
      "10.0\n",
      "10.0\n",
      "10.0\n",
      "10.0\n",
      "10.0\n",
      "10.0\n",
      "10.0\n",
      "10.0\n",
      "10.0\n",
      "10.0\n",
      "10.0\n",
      "10.0\n"
     ]
    },
    {
     "name": "stderr",
     "output_type": "stream",
     "text": [
      "1684it [00:11, 165.11it/s]"
     ]
    },
    {
     "name": "stdout",
     "output_type": "stream",
     "text": [
      "10.0\n",
      "10.0\n",
      "10.0\n",
      "10.0\n",
      "10.0\n",
      "10.0\n",
      "10.0\n",
      "10.0\n",
      "10.0\n",
      "10.0\n",
      "10.0\n",
      "10.0\n",
      "10.0\n",
      "10.0\n",
      "10.0\n",
      "10.0\n",
      "10.0\n",
      "10.0\n",
      "10.0\n",
      "10.0\n",
      "10.0\n",
      "10.0\n",
      "10.0\n",
      "10.0\n",
      "10.0\n",
      "10.0\n",
      "10.0\n",
      "10.0\n",
      "10.0\n",
      "10.0\n",
      "10.0\n",
      "10.0\n",
      "10.0\n"
     ]
    },
    {
     "name": "stderr",
     "output_type": "stream",
     "text": [
      "1719it [00:11, 166.58it/s]"
     ]
    },
    {
     "name": "stdout",
     "output_type": "stream",
     "text": [
      "10.0\n",
      "10.0\n",
      "10.0\n",
      "10.0\n",
      "10.0\n",
      "10.0\n",
      "10.0\n",
      "10.0\n",
      "10.0\n",
      "10.0\n",
      "10.0\n",
      "10.0\n",
      "10.0\n",
      "10.0\n",
      "10.0\n",
      "10.0\n",
      "10.0\n",
      "10.0\n",
      "10.0\n",
      "10.0\n",
      "10.0\n",
      "10.0\n",
      "10.0\n",
      "10.0\n",
      "10.0\n",
      "10.0\n",
      "10.0\n",
      "10.0\n",
      "10.0\n",
      "10.0\n",
      "10.0\n"
     ]
    },
    {
     "name": "stderr",
     "output_type": "stream",
     "text": [
      "1753it [00:11, 161.82it/s]"
     ]
    },
    {
     "name": "stdout",
     "output_type": "stream",
     "text": [
      "10.0\n",
      "10.0\n",
      "10.0\n",
      "10.0\n",
      "10.0\n",
      "10.0\n",
      "10.0\n",
      "10.0\n",
      "10.0\n",
      "10.0\n",
      "10.0\n",
      "10.0\n",
      "10.0\n",
      "10.0\n",
      "10.0\n",
      "10.0\n",
      "10.0\n",
      "10.0\n",
      "10.0\n",
      "10.0\n",
      "10.0\n",
      "10.0\n",
      "10.0\n",
      "10.0\n",
      "10.0\n",
      "10.0\n",
      "10.0\n",
      "10.0\n",
      "10.0\n"
     ]
    },
    {
     "name": "stderr",
     "output_type": "stream",
     "text": [
      "1770it [00:11, 141.23it/s]"
     ]
    },
    {
     "name": "stdout",
     "output_type": "stream",
     "text": [
      "10.0\n",
      "10.0\n",
      "10.0\n",
      "10.0\n",
      "10.0\n",
      "10.0\n",
      "10.0\n",
      "10.0\n",
      "10.0\n",
      "10.0\n",
      "10.0\n",
      "10.0\n",
      "10.0\n",
      "10.0\n",
      "10.0\n",
      "10.0\n",
      "10.0\n",
      "10.0\n",
      "10.0\n"
     ]
    },
    {
     "name": "stderr",
     "output_type": "stream",
     "text": [
      "1785it [00:12, 127.33it/s]"
     ]
    },
    {
     "name": "stdout",
     "output_type": "stream",
     "text": [
      "10.0\n",
      "10.0\n",
      "10.0\n",
      "10.0\n",
      "10.0\n",
      "10.0\n",
      "10.0\n",
      "10.0\n",
      "10.0\n",
      "10.0\n",
      "10.0\n",
      "10.0\n",
      "10.0\n",
      "10.0\n",
      "10.0\n",
      "10.0\n",
      "10.0\n",
      "10.0\n",
      "10.0\n",
      "10.0\n"
     ]
    },
    {
     "name": "stderr",
     "output_type": "stream",
     "text": [
      "1814it [00:12, 127.81it/s]"
     ]
    },
    {
     "name": "stdout",
     "output_type": "stream",
     "text": [
      "10.0\n",
      "10.0\n",
      "10.0\n",
      "10.0\n",
      "7.5\n",
      "7.5\n",
      "7.5\n",
      "7.5\n",
      "7.5\n",
      "7.5\n",
      "7.5\n",
      "7.5\n",
      "7.5\n",
      "7.5\n",
      "7.5\n",
      "7.5\n",
      "7.5\n",
      "7.5\n",
      "7.5\n",
      "7.5\n",
      "7.5\n",
      "7.5\n",
      "7.5\n",
      "7.5\n",
      "7.5\n",
      "7.5\n",
      "7.5\n",
      "7.5\n",
      "7.5\n"
     ]
    },
    {
     "name": "stderr",
     "output_type": "stream",
     "text": [
      "1846it [00:12, 139.83it/s]"
     ]
    },
    {
     "name": "stdout",
     "output_type": "stream",
     "text": [
      "7.5\n",
      "7.5\n",
      "7.5\n",
      "7.5\n",
      "7.5\n",
      "7.5\n",
      "7.5\n",
      "7.5\n",
      "7.5\n",
      "7.5\n",
      "7.5\n",
      "7.5\n",
      "7.5\n",
      "7.5\n",
      "7.5\n",
      "7.5\n",
      "7.5\n",
      "7.5\n",
      "7.5\n",
      "7.5\n",
      "7.5\n",
      "7.5\n",
      "7.5\n",
      "7.5\n",
      "7.5\n",
      "7.5\n",
      "7.5\n"
     ]
    },
    {
     "name": "stderr",
     "output_type": "stream",
     "text": [
      "1878it [00:12, 145.67it/s]"
     ]
    },
    {
     "name": "stdout",
     "output_type": "stream",
     "text": [
      "7.5\n",
      "7.5\n",
      "7.5\n",
      "7.5\n",
      "7.5\n",
      "7.5\n",
      "7.5\n",
      "7.5\n",
      "7.5\n",
      "7.5\n",
      "7.5\n",
      "7.5\n",
      "7.5\n",
      "7.5\n",
      "7.5\n",
      "7.5\n",
      "7.5\n",
      "7.5\n",
      "7.5\n",
      "7.5\n",
      "7.5\n",
      "7.5\n",
      "7.5\n",
      "7.5\n",
      "7.5\n",
      "7.5\n",
      "7.5\n",
      "7.5\n",
      "7.5\n"
     ]
    },
    {
     "name": "stderr",
     "output_type": "stream",
     "text": [
      "1894it [00:12, 149.17it/s]"
     ]
    },
    {
     "name": "stdout",
     "output_type": "stream",
     "text": [
      "7.5\n",
      "7.5\n",
      "7.5\n",
      "7.5\n",
      "7.5\n",
      "7.5\n",
      "7.5\n",
      "7.5\n",
      "7.5\n",
      "7.5\n",
      "7.5\n",
      "7.5\n",
      "7.5\n",
      "7.5\n",
      "7.5\n",
      "7.5\n",
      "7.5\n",
      "7.5\n",
      "7.5\n",
      "7.5\n",
      "7.5\n",
      "7.5\n",
      "7.5\n",
      "7.5\n",
      "7.5\n",
      "7.5\n",
      "7.5\n",
      "7.5\n",
      "7.5\n",
      "7.5\n"
     ]
    },
    {
     "name": "stderr",
     "output_type": "stream",
     "text": [
      "1927it [00:13, 152.68it/s]"
     ]
    },
    {
     "name": "stdout",
     "output_type": "stream",
     "text": [
      "7.5\n",
      "7.5\n",
      "7.5\n",
      "7.5\n",
      "7.5\n",
      "7.5\n",
      "7.5\n",
      "7.5\n",
      "7.5\n",
      "7.5\n",
      "7.5\n",
      "7.5\n",
      "7.5\n",
      "7.5\n",
      "7.5\n",
      "7.5\n",
      "7.5\n",
      "7.5\n",
      "7.5\n",
      "7.5\n",
      "7.5\n",
      "7.5\n",
      "7.5\n",
      "7.5\n",
      "7.5\n",
      "7.5\n",
      "7.5\n",
      "7.5\n",
      "7.5\n"
     ]
    },
    {
     "name": "stderr",
     "output_type": "stream",
     "text": [
      "1959it [00:13, 141.07it/s]"
     ]
    },
    {
     "name": "stdout",
     "output_type": "stream",
     "text": [
      "7.5\n",
      "7.5\n",
      "7.5\n",
      "7.5\n",
      "7.5\n",
      "7.5\n",
      "7.5\n",
      "7.5\n",
      "7.5\n",
      "7.5\n",
      "7.5\n",
      "7.5\n",
      "7.5\n",
      "7.5\n",
      "7.5\n",
      "7.5\n",
      "7.5\n",
      "7.5\n",
      "7.5\n",
      "7.5\n",
      "7.5\n",
      "7.5\n",
      "7.5\n"
     ]
    },
    {
     "name": "stderr",
     "output_type": "stream",
     "text": [
      "1974it [00:13, 130.51it/s]"
     ]
    },
    {
     "name": "stdout",
     "output_type": "stream",
     "text": [
      "7.5\n",
      "7.5\n",
      "7.5\n",
      "7.5\n",
      "7.5\n",
      "7.5\n",
      "7.5\n",
      "7.5\n",
      "7.5\n",
      "7.5\n",
      "7.5\n",
      "7.5\n",
      "7.5\n",
      "7.5\n",
      "7.5\n",
      "7.5\n",
      "7.5\n",
      "7.5\n",
      "7.5\n",
      "7.5\n"
     ]
    },
    {
     "name": "stderr",
     "output_type": "stream",
     "text": [
      "1988it [00:13, 117.82it/s]"
     ]
    },
    {
     "name": "stdout",
     "output_type": "stream",
     "text": [
      "7.5\n",
      "7.5\n",
      "7.5\n",
      "7.5\n",
      "7.5\n",
      "7.5\n",
      "7.5\n",
      "7.5\n",
      "7.5\n",
      "7.5\n",
      "7.5\n",
      "7.5\n",
      "7.5\n",
      "7.5\n",
      "7.5\n",
      "7.5\n",
      "7.5\n",
      "5.0\n"
     ]
    },
    {
     "name": "stderr",
     "output_type": "stream",
     "text": [
      "2001it [00:13, 113.86it/s]"
     ]
    },
    {
     "name": "stdout",
     "output_type": "stream",
     "text": [
      "5.0\n",
      "5.0\n",
      "5.0\n",
      "5.0\n",
      "5.0\n",
      "5.0\n",
      "5.0\n",
      "5.0\n",
      "5.0\n",
      "5.0\n",
      "5.0\n",
      "5.0\n",
      "5.0\n",
      "5.0\n",
      "5.0\n",
      "5.0\n"
     ]
    },
    {
     "name": "stderr",
     "output_type": "stream",
     "text": [
      "2017it [00:13, 123.19it/s]"
     ]
    },
    {
     "name": "stdout",
     "output_type": "stream",
     "text": [
      "5.0\n",
      "5.0\n",
      "5.0\n",
      "5.0\n",
      "5.0\n",
      "5.0\n",
      "5.0\n",
      "5.0\n",
      "5.0\n",
      "5.0\n",
      "5.0\n",
      "5.0\n"
     ]
    },
    {
     "name": "stderr",
     "output_type": "stream",
     "text": [
      "2033it [00:13, 131.05it/s]"
     ]
    },
    {
     "name": "stdout",
     "output_type": "stream",
     "text": [
      "5.0\n",
      "5.0\n",
      "5.0\n",
      "5.0\n",
      "5.0\n",
      "5.0\n",
      "5.0\n",
      "5.0\n",
      "5.0\n",
      "5.0\n",
      "5.0\n",
      "5.0\n",
      "5.0\n",
      "5.0\n",
      "5.0\n",
      "5.0\n",
      "5.0\n"
     ]
    },
    {
     "name": "stderr",
     "output_type": "stream",
     "text": [
      "2050it [00:14, 139.91it/s]"
     ]
    },
    {
     "name": "stdout",
     "output_type": "stream",
     "text": [
      "5.0\n",
      "5.0\n",
      "5.0\n",
      "5.0\n",
      "5.0\n",
      "5.0\n",
      "5.0\n",
      "5.0\n",
      "5.0\n",
      "5.0\n",
      "5.0\n",
      "5.0\n",
      "5.0\n"
     ]
    },
    {
     "name": "stderr",
     "output_type": "stream",
     "text": [
      "2067it [00:14, 147.84it/s]"
     ]
    },
    {
     "name": "stdout",
     "output_type": "stream",
     "text": [
      "5.0\n",
      "5.0\n",
      "5.0\n",
      "5.0\n",
      "5.0\n",
      "5.0\n",
      "5.0\n",
      "5.0\n",
      "5.0\n",
      "5.0\n",
      "5.0\n",
      "5.0\n",
      "5.0\n",
      "5.0\n",
      "5.0\n",
      "5.0\n",
      "5.0\n",
      "5.0\n",
      "5.0\n",
      "5.0\n",
      "5.0\n",
      "5.0\n",
      "5.0\n",
      "5.0\n"
     ]
    },
    {
     "name": "stderr",
     "output_type": "stream",
     "text": [
      "2084it [00:14, 152.82it/s]"
     ]
    },
    {
     "name": "stdout",
     "output_type": "stream",
     "text": [
      "5.0\n",
      "5.0\n",
      "5.0\n",
      "5.0\n",
      "5.0\n",
      "5.0\n",
      "5.0\n"
     ]
    },
    {
     "name": "stderr",
     "output_type": "stream",
     "text": [
      "2101it [00:14, 156.67it/s]"
     ]
    },
    {
     "name": "stdout",
     "output_type": "stream",
     "text": [
      "5.0\n",
      "5.0\n",
      "5.0\n",
      "5.0\n",
      "5.0\n",
      "5.0\n",
      "5.0\n",
      "5.0\n",
      "5.0\n",
      "5.0\n",
      "5.0\n",
      "5.0\n",
      "5.0\n",
      "5.0\n",
      "5.0\n",
      "5.0\n",
      "5.0\n",
      "5.0\n",
      "5.0\n",
      "5.0\n",
      "5.0\n",
      "5.0\n",
      "5.0\n",
      "5.0\n"
     ]
    },
    {
     "name": "stderr",
     "output_type": "stream",
     "text": [
      "2118it [00:14, 158.55it/s]"
     ]
    },
    {
     "name": "stdout",
     "output_type": "stream",
     "text": [
      "5.0\n",
      "5.0\n",
      "5.0\n",
      "5.0\n",
      "5.0\n",
      "5.0\n",
      "5.0\n"
     ]
    },
    {
     "name": "stderr",
     "output_type": "stream",
     "text": [
      "2134it [00:14, 152.88it/s]"
     ]
    },
    {
     "name": "stdout",
     "output_type": "stream",
     "text": [
      "5.0\n",
      "5.0\n",
      "5.0\n",
      "5.0\n",
      "5.0\n",
      "5.0\n",
      "5.0\n",
      "5.0\n",
      "5.0\n",
      "5.0\n",
      "5.0\n",
      "5.0\n",
      "5.0\n",
      "5.0\n",
      "5.0\n",
      "5.0\n",
      "5.0\n",
      "5.0\n",
      "5.0\n",
      "5.0\n",
      "5.0\n",
      "5.0\n",
      "5.0\n"
     ]
    },
    {
     "name": "stderr",
     "output_type": "stream",
     "text": [
      "2150it [00:14, 135.97it/s]"
     ]
    },
    {
     "name": "stdout",
     "output_type": "stream",
     "text": [
      "5.0\n",
      "5.0\n",
      "5.0\n",
      "5.0\n",
      "5.0\n",
      "5.0\n",
      "5.0\n",
      "5.0\n",
      "5.0\n",
      "5.0\n",
      "5.0\n",
      "5.0\n",
      "5.0\n",
      "5.0\n",
      "5.0\n",
      "5.0\n"
     ]
    },
    {
     "name": "stderr",
     "output_type": "stream",
     "text": [
      "2164it [00:14, 128.26it/s]"
     ]
    },
    {
     "name": "stdout",
     "output_type": "stream",
     "text": [
      "5.0\n",
      "5.0\n",
      "5.0\n",
      "5.0\n",
      "5.0\n",
      "5.0\n",
      "5.0\n",
      "5.0\n",
      "5.0\n",
      "5.0\n",
      "5.0\n",
      "5.0\n",
      "5.0\n",
      "5.0\n",
      "5.0\n",
      "5.0\n",
      "5.0\n"
     ]
    },
    {
     "name": "stderr",
     "output_type": "stream",
     "text": [
      "2178it [00:15, 123.18it/s]"
     ]
    },
    {
     "name": "stdout",
     "output_type": "stream",
     "text": [
      "5.0\n",
      "5.0\n",
      "5.0\n",
      "5.0\n",
      "5.0\n",
      "5.0\n",
      "5.0\n",
      "5.0\n",
      "5.0\n"
     ]
    },
    {
     "name": "stderr",
     "output_type": "stream",
     "text": [
      "2191it [00:15, 121.04it/s]"
     ]
    },
    {
     "name": "stdout",
     "output_type": "stream",
     "text": [
      "5.0\n",
      "5.0\n",
      "5.0\n",
      "5.0\n",
      "5.0\n",
      "5.0\n",
      "5.0\n",
      "5.0\n",
      "5.0\n",
      "5.0\n",
      "5.0\n",
      "5.0\n",
      "5.0\n"
     ]
    },
    {
     "name": "stderr",
     "output_type": "stream",
     "text": [
      "2204it [00:15, 122.52it/s]"
     ]
    },
    {
     "name": "stdout",
     "output_type": "stream",
     "text": [
      "5.0\n",
      "3.5\n",
      "3.5\n",
      "3.5\n",
      "3.5\n",
      "3.5\n",
      "3.5\n",
      "3.5\n",
      "3.5\n",
      "3.5\n",
      "3.5\n"
     ]
    },
    {
     "name": "stderr",
     "output_type": "stream",
     "text": [
      "2220it [00:15, 132.10it/s]"
     ]
    },
    {
     "name": "stdout",
     "output_type": "stream",
     "text": [
      "3.5\n",
      "3.5\n",
      "3.5\n",
      "3.5\n",
      "3.5\n",
      "3.5\n",
      "3.5\n",
      "3.5\n",
      "3.5\n",
      "3.5\n",
      "3.5\n",
      "3.5\n",
      "3.5\n",
      "3.5\n",
      "3.5\n",
      "3.5\n",
      "3.5\n",
      "3.5\n",
      "3.5\n",
      "3.5\n",
      "3.5\n",
      "3.5\n",
      "3.5\n",
      "3.5\n",
      "3.5\n"
     ]
    },
    {
     "name": "stderr",
     "output_type": "stream",
     "text": [
      "2237it [00:15, 140.42it/s]"
     ]
    },
    {
     "name": "stdout",
     "output_type": "stream",
     "text": [
      "3.5\n",
      "3.5\n",
      "3.5\n",
      "3.5\n",
      "3.5\n"
     ]
    },
    {
     "name": "stderr",
     "output_type": "stream",
     "text": [
      "2254it [00:15, 147.23it/s]"
     ]
    },
    {
     "name": "stdout",
     "output_type": "stream",
     "text": [
      "3.5\n",
      "3.5\n",
      "3.5\n",
      "3.5\n",
      "3.5\n",
      "3.5\n",
      "3.5\n",
      "3.5\n",
      "3.5\n",
      "3.5\n",
      "3.5\n",
      "3.5\n",
      "3.5\n",
      "3.5\n",
      "3.5\n",
      "3.5\n",
      "3.5\n",
      "3.5\n",
      "3.5\n",
      "3.5\n",
      "3.5\n",
      "3.5\n",
      "3.5\n",
      "3.5\n",
      "3.5\n"
     ]
    },
    {
     "name": "stderr",
     "output_type": "stream",
     "text": [
      "2270it [00:15, 150.79it/s]"
     ]
    },
    {
     "name": "stdout",
     "output_type": "stream",
     "text": [
      "3.5\n",
      "3.5\n",
      "3.5\n",
      "3.5\n",
      "3.5\n"
     ]
    },
    {
     "name": "stderr",
     "output_type": "stream",
     "text": [
      "2287it [00:15, 155.72it/s]"
     ]
    },
    {
     "name": "stdout",
     "output_type": "stream",
     "text": [
      "3.5\n",
      "3.5\n",
      "3.5\n",
      "3.5\n",
      "3.5\n",
      "3.5\n",
      "3.5\n",
      "3.5\n",
      "3.5\n",
      "3.5\n",
      "3.5\n",
      "3.5\n",
      "3.5\n",
      "3.5\n",
      "3.5\n",
      "3.5\n",
      "3.5\n",
      "3.5\n",
      "3.5\n",
      "3.5\n",
      "3.5\n",
      "3.5\n",
      "3.5\n",
      "3.5\n",
      "3.5\n",
      "3.5\n",
      "3.5\n",
      "3.5\n",
      "3.5\n",
      "3.5\n",
      "3.5\n",
      "3.5\n"
     ]
    },
    {
     "name": "stderr",
     "output_type": "stream",
     "text": [
      "2304it [00:15, 158.18it/s]"
     ]
    },
    {
     "name": "stdout",
     "output_type": "stream",
     "text": [
      "3.5\n",
      "3.5\n",
      "3.5\n",
      "3.5\n",
      "3.5\n",
      "3.5\n",
      "3.5\n",
      "3.5\n",
      "3.5\n",
      "3.5\n",
      "3.5\n",
      "3.5\n",
      "3.5\n",
      "3.5\n",
      "3.5\n",
      "3.5\n",
      "3.5\n"
     ]
    },
    {
     "name": "stderr",
     "output_type": "stream",
     "text": [
      "2320it [00:15, 148.76it/s]"
     ]
    },
    {
     "name": "stdout",
     "output_type": "stream",
     "text": [
      "3.5\n",
      "3.5\n",
      "3.5\n",
      "3.5\n",
      "3.5\n",
      "3.5\n",
      "3.5\n"
     ]
    },
    {
     "name": "stderr",
     "output_type": "stream",
     "text": [
      "2336it [00:16, 136.41it/s]"
     ]
    },
    {
     "name": "stdout",
     "output_type": "stream",
     "text": [
      "3.5\n",
      "3.5\n",
      "3.5\n",
      "3.5\n",
      "3.5\n",
      "3.5\n",
      "3.5\n",
      "3.5\n",
      "3.5\n",
      "3.5\n",
      "3.5\n",
      "3.5\n",
      "3.5\n",
      "3.5\n",
      "3.5\n",
      "3.5\n",
      "3.5\n",
      "3.5\n",
      "3.5\n",
      "3.5\n",
      "3.5\n"
     ]
    },
    {
     "name": "stderr",
     "output_type": "stream",
     "text": [
      "2350it [00:16, 128.01it/s]"
     ]
    },
    {
     "name": "stdout",
     "output_type": "stream",
     "text": [
      "3.5\n",
      "3.5\n",
      "3.5\n",
      "3.5\n",
      "3.5\n",
      "3.5\n",
      "3.5\n",
      "3.5\n",
      "3.5\n",
      "3.5\n",
      "3.5\n",
      "3.5\n",
      "3.5\n",
      "3.5\n"
     ]
    },
    {
     "name": "stderr",
     "output_type": "stream",
     "text": [
      "2364it [00:16, 124.10it/s]"
     ]
    },
    {
     "name": "stdout",
     "output_type": "stream",
     "text": [
      "3.5\n",
      "3.5\n",
      "3.5\n",
      "3.5\n",
      "3.5\n",
      "3.5\n",
      "3.5\n"
     ]
    },
    {
     "name": "stderr",
     "output_type": "stream",
     "text": [
      "2377it [00:16, 121.25it/s]"
     ]
    },
    {
     "name": "stdout",
     "output_type": "stream",
     "text": [
      "3.5\n",
      "3.5\n",
      "3.5\n",
      "3.5\n",
      "3.5\n",
      "3.5\n",
      "3.5\n",
      "3.5\n",
      "3.5\n",
      "3.5\n",
      "3.5\n",
      "3.5\n",
      "3.5\n",
      "3.5\n",
      "3.5\n",
      "3.5\n",
      "3.5\n",
      "3.5\n",
      "3.5\n",
      "3.5\n",
      "3.5\n",
      "3.5\n"
     ]
    },
    {
     "name": "stderr",
     "output_type": "stream",
     "text": [
      "2403it [00:16, 119.90it/s]"
     ]
    },
    {
     "name": "stdout",
     "output_type": "stream",
     "text": [
      "3.5\n",
      "3.5\n",
      "3.5\n",
      "3.5\n",
      "3.5\n",
      "3.5\n",
      "3.5\n",
      "3.5\n",
      "3.5\n",
      "3.5\n",
      "10.0\n",
      "10.0\n",
      "10.0\n",
      "10.0\n",
      "10.0\n",
      "10.0\n",
      "10.0\n",
      "10.0\n",
      "10.0\n",
      "10.0\n",
      "10.0\n",
      "10.0\n",
      "10.0\n",
      "10.0\n",
      "10.0\n",
      "10.0\n",
      "10.0\n",
      "10.0\n",
      "10.0\n"
     ]
    },
    {
     "name": "stderr",
     "output_type": "stream",
     "text": [
      "2439it [00:16, 146.51it/s]"
     ]
    },
    {
     "name": "stdout",
     "output_type": "stream",
     "text": [
      "10.0\n",
      "10.0\n",
      "10.0\n",
      "10.0\n",
      "10.0\n",
      "10.0\n",
      "10.0\n",
      "10.0\n",
      "10.0\n",
      "10.0\n",
      "10.0\n",
      "10.0\n",
      "10.0\n",
      "10.0\n",
      "10.0\n",
      "10.0\n",
      "10.0\n",
      "10.0\n",
      "10.0\n",
      "10.0\n",
      "10.0\n",
      "10.0\n",
      "10.0\n",
      "10.0\n",
      "10.0\n",
      "10.0\n",
      "10.0\n",
      "10.0\n",
      "10.0\n",
      "10.0\n",
      "10.0\n",
      "10.0\n"
     ]
    },
    {
     "name": "stderr",
     "output_type": "stream",
     "text": [
      "2457it [00:16, 154.36it/s]"
     ]
    },
    {
     "name": "stdout",
     "output_type": "stream",
     "text": [
      "10.0\n",
      "10.0\n",
      "10.0\n",
      "10.0\n",
      "10.0\n",
      "10.0\n",
      "10.0\n",
      "10.0\n",
      "10.0\n",
      "10.0\n",
      "10.0\n",
      "10.0\n",
      "10.0\n",
      "10.0\n",
      "10.0\n",
      "10.0\n",
      "10.0\n",
      "10.0\n",
      "10.0\n",
      "10.0\n",
      "10.0\n",
      "10.0\n"
     ]
    },
    {
     "name": "stderr",
     "output_type": "stream",
     "text": [
      "2475it [00:17, 160.13it/s]"
     ]
    },
    {
     "name": "stdout",
     "output_type": "stream",
     "text": [
      "10.0\n",
      "10.0\n",
      "10.0\n",
      "10.0\n",
      "10.0\n",
      "10.0\n",
      "10.0\n",
      "10.0\n",
      "10.0\n",
      "10.0\n",
      "10.0\n"
     ]
    },
    {
     "name": "stderr",
     "output_type": "stream",
     "text": [
      "2493it [00:17, 163.82it/s]"
     ]
    },
    {
     "name": "stdout",
     "output_type": "stream",
     "text": [
      "10.0\n",
      "10.0\n",
      "10.0\n",
      "10.0\n",
      "10.0\n",
      "10.0\n",
      "10.0\n",
      "10.0\n",
      "10.0\n",
      "10.0\n",
      "10.0\n",
      "10.0\n",
      "10.0\n",
      "10.0\n",
      "10.0\n",
      "10.0\n",
      "10.0\n",
      "10.0\n",
      "10.0\n",
      "10.0\n",
      "10.0\n"
     ]
    },
    {
     "name": "stderr",
     "output_type": "stream",
     "text": [
      "2510it [00:17, 165.50it/s]"
     ]
    },
    {
     "name": "stdout",
     "output_type": "stream",
     "text": [
      "10.0\n",
      "10.0\n",
      "10.0\n",
      "10.0\n",
      "10.0\n",
      "10.0\n",
      "10.0\n",
      "10.0\n",
      "10.0\n",
      "10.0\n",
      "10.0\n"
     ]
    },
    {
     "name": "stderr",
     "output_type": "stream",
     "text": [
      "2527it [00:17, 166.46it/s]"
     ]
    },
    {
     "name": "stdout",
     "output_type": "stream",
     "text": [
      "10.0\n",
      "10.0\n",
      "10.0\n",
      "10.0\n",
      "10.0\n",
      "10.0\n",
      "10.0\n",
      "10.0\n",
      "10.0\n",
      "10.0\n",
      "10.0\n",
      "10.0\n",
      "10.0\n",
      "10.0\n",
      "10.0\n",
      "10.0\n",
      "10.0\n",
      "10.0\n",
      "10.0\n",
      "10.0\n"
     ]
    },
    {
     "name": "stderr",
     "output_type": "stream",
     "text": [
      "2544it [00:17, 165.21it/s]"
     ]
    },
    {
     "name": "stdout",
     "output_type": "stream",
     "text": [
      "10.0\n",
      "10.0\n",
      "10.0\n",
      "10.0\n",
      "10.0\n",
      "10.0\n",
      "10.0\n",
      "10.0\n",
      "10.0\n",
      "10.0\n",
      "10.0\n"
     ]
    },
    {
     "name": "stderr",
     "output_type": "stream",
     "text": [
      "2561it [00:17, 159.74it/s]"
     ]
    },
    {
     "name": "stdout",
     "output_type": "stream",
     "text": [
      "10.0\n",
      "10.0\n",
      "10.0\n",
      "10.0\n",
      "10.0\n",
      "10.0\n",
      "10.0\n",
      "10.0\n",
      "10.0\n",
      "10.0\n",
      "10.0\n",
      "10.0\n",
      "10.0\n",
      "10.0\n",
      "10.0\n",
      "10.0\n",
      "10.0\n",
      "10.0\n",
      "10.0\n",
      "10.0\n",
      "10.0\n",
      "10.0\n",
      "10.0\n",
      "10.0\n",
      "10.0\n"
     ]
    },
    {
     "name": "stderr",
     "output_type": "stream",
     "text": [
      "2578it [00:17, 142.81it/s]"
     ]
    },
    {
     "name": "stdout",
     "output_type": "stream",
     "text": [
      "10.0\n",
      "10.0\n",
      "10.0\n",
      "10.0\n",
      "10.0\n",
      "10.0\n",
      "10.0\n",
      "10.0\n",
      "10.0\n",
      "10.0\n",
      "10.0\n",
      "10.0\n",
      "10.0\n",
      "10.0\n",
      "10.0\n",
      "10.0\n"
     ]
    },
    {
     "name": "stderr",
     "output_type": "stream",
     "text": [
      "2593it [00:17, 133.69it/s]"
     ]
    },
    {
     "name": "stdout",
     "output_type": "stream",
     "text": [
      "10.0\n",
      "10.0\n",
      "10.0\n",
      "10.0\n",
      "10.0\n",
      "10.0\n"
     ]
    },
    {
     "name": "stderr",
     "output_type": "stream",
     "text": [
      "2607it [00:18, 134.72it/s]"
     ]
    },
    {
     "name": "stdout",
     "output_type": "stream",
     "text": [
      "10.0\n",
      "10.0\n",
      "10.0\n",
      "10.0\n",
      "10.0\n",
      "10.0\n",
      "7.5\n",
      "7.5\n",
      "7.5\n",
      "7.5\n",
      "7.5\n",
      "7.5\n",
      "7.5\n",
      "7.5\n",
      "7.5\n",
      "7.5\n",
      "7.5\n",
      "7.5\n",
      "7.5\n",
      "7.5\n",
      "7.5\n",
      "7.5\n",
      "7.5\n",
      "7.5\n",
      "7.5\n",
      "7.5\n",
      "7.5\n",
      "7.5\n",
      "7.5\n",
      "7.5\n"
     ]
    },
    {
     "name": "stderr",
     "output_type": "stream",
     "text": [
      "2643it [00:18, 153.86it/s]"
     ]
    },
    {
     "name": "stdout",
     "output_type": "stream",
     "text": [
      "7.5\n",
      "7.5\n",
      "7.5\n",
      "7.5\n",
      "7.5\n",
      "7.5\n",
      "7.5\n",
      "7.5\n",
      "7.5\n",
      "7.5\n",
      "7.5\n",
      "7.5\n",
      "7.5\n",
      "7.5\n",
      "7.5\n",
      "7.5\n",
      "7.5\n",
      "7.5\n",
      "7.5\n",
      "7.5\n",
      "7.5\n",
      "7.5\n",
      "7.5\n",
      "7.5\n",
      "7.5\n",
      "7.5\n",
      "7.5\n",
      "7.5\n",
      "7.5\n",
      "7.5\n",
      "7.5\n",
      "7.5\n",
      "7.5\n"
     ]
    },
    {
     "name": "stderr",
     "output_type": "stream",
     "text": [
      "2661it [00:18, 158.66it/s]"
     ]
    },
    {
     "name": "stdout",
     "output_type": "stream",
     "text": [
      "7.5\n",
      "7.5\n",
      "7.5\n",
      "7.5\n",
      "7.5\n",
      "7.5\n",
      "7.5\n",
      "7.5\n",
      "7.5\n",
      "7.5\n",
      "7.5\n",
      "7.5\n",
      "7.5\n",
      "7.5\n",
      "7.5\n",
      "7.5\n",
      "7.5\n",
      "7.5\n",
      "7.5\n",
      "7.5\n",
      "7.5\n"
     ]
    },
    {
     "name": "stderr",
     "output_type": "stream",
     "text": [
      "2679it [00:18, 162.08it/s]"
     ]
    },
    {
     "name": "stdout",
     "output_type": "stream",
     "text": [
      "7.5\n",
      "7.5\n",
      "7.5\n",
      "7.5\n",
      "7.5\n",
      "7.5\n",
      "7.5\n",
      "7.5\n",
      "7.5\n",
      "7.5\n",
      "7.5\n"
     ]
    },
    {
     "name": "stderr",
     "output_type": "stream",
     "text": [
      "2697it [00:18, 165.16it/s]"
     ]
    },
    {
     "name": "stdout",
     "output_type": "stream",
     "text": [
      "7.5\n",
      "7.5\n",
      "7.5\n",
      "7.5\n",
      "7.5\n",
      "7.5\n",
      "7.5\n",
      "7.5\n",
      "7.5\n",
      "7.5\n",
      "7.5\n",
      "7.5\n",
      "7.5\n",
      "7.5\n",
      "7.5\n",
      "7.5\n",
      "7.5\n",
      "7.5\n",
      "7.5\n",
      "7.5\n",
      "7.5\n"
     ]
    },
    {
     "name": "stderr",
     "output_type": "stream",
     "text": [
      "2715it [00:18, 166.85it/s]"
     ]
    },
    {
     "name": "stdout",
     "output_type": "stream",
     "text": [
      "7.5\n",
      "7.5\n",
      "7.5\n",
      "7.5\n",
      "7.5\n",
      "7.5\n",
      "7.5\n",
      "7.5\n",
      "7.5\n",
      "7.5\n",
      "7.5\n"
     ]
    },
    {
     "name": "stderr",
     "output_type": "stream",
     "text": [
      "2732it [00:18, 166.71it/s]"
     ]
    },
    {
     "name": "stdout",
     "output_type": "stream",
     "text": [
      "7.5\n",
      "7.5\n",
      "7.5\n",
      "7.5\n",
      "7.5\n",
      "7.5\n",
      "7.5\n",
      "7.5\n",
      "7.5\n",
      "7.5\n",
      "7.5\n",
      "7.5\n",
      "7.5\n",
      "7.5\n",
      "7.5\n",
      "7.5\n",
      "7.5\n",
      "7.5\n",
      "7.5\n",
      "7.5\n"
     ]
    },
    {
     "name": "stderr",
     "output_type": "stream",
     "text": [
      "2749it [00:18, 160.81it/s]"
     ]
    },
    {
     "name": "stdout",
     "output_type": "stream",
     "text": [
      "7.5\n",
      "7.5\n",
      "7.5\n",
      "7.5\n",
      "7.5\n",
      "7.5\n",
      "7.5\n",
      "7.5\n",
      "7.5\n",
      "7.5\n",
      "7.5\n",
      "7.5\n",
      "7.5\n",
      "7.5\n",
      "7.5\n",
      "7.5\n",
      "7.5\n",
      "7.5\n",
      "7.5\n",
      "7.5\n",
      "7.5\n",
      "7.5\n",
      "7.5\n",
      "7.5\n"
     ]
    },
    {
     "name": "stderr",
     "output_type": "stream",
     "text": [
      "2766it [00:18, 144.14it/s]"
     ]
    },
    {
     "name": "stdout",
     "output_type": "stream",
     "text": [
      "7.5\n",
      "7.5\n",
      "7.5\n",
      "7.5\n",
      "7.5\n",
      "7.5\n",
      "7.5\n"
     ]
    },
    {
     "name": "stderr",
     "output_type": "stream",
     "text": [
      "2781it [00:19, 133.16it/s]"
     ]
    },
    {
     "name": "stdout",
     "output_type": "stream",
     "text": [
      "7.5\n",
      "7.5\n",
      "7.5\n",
      "7.5\n",
      "7.5\n",
      "7.5\n",
      "7.5\n",
      "7.5\n",
      "7.5\n",
      "7.5\n",
      "7.5\n",
      "7.5\n",
      "7.5\n",
      "7.5\n",
      "7.5\n",
      "7.5\n",
      "7.5\n",
      "7.5\n",
      "7.5\n",
      "7.5\n",
      "7.5\n",
      "7.5\n"
     ]
    },
    {
     "name": "stderr",
     "output_type": "stream",
     "text": [
      "2810it [00:19, 132.73it/s]"
     ]
    },
    {
     "name": "stdout",
     "output_type": "stream",
     "text": [
      "7.5\n",
      "7.5\n",
      "7.5\n",
      "7.5\n",
      "7.5\n",
      "7.5\n",
      "5.0\n",
      "5.0\n",
      "5.0\n",
      "5.0\n",
      "5.0\n",
      "5.0\n",
      "5.0\n",
      "5.0\n",
      "5.0\n",
      "5.0\n",
      "5.0\n",
      "5.0\n",
      "5.0\n",
      "5.0\n",
      "5.0\n",
      "5.0\n",
      "5.0\n",
      "5.0\n",
      "5.0\n",
      "5.0\n",
      "5.0\n",
      "5.0\n",
      "5.0\n"
     ]
    },
    {
     "name": "stderr",
     "output_type": "stream",
     "text": [
      "2827it [00:19, 141.68it/s]"
     ]
    },
    {
     "name": "stdout",
     "output_type": "stream",
     "text": [
      "5.0\n",
      "5.0\n",
      "5.0\n",
      "5.0\n",
      "5.0\n",
      "5.0\n",
      "5.0\n",
      "5.0\n",
      "5.0\n",
      "5.0\n",
      "5.0\n",
      "5.0\n",
      "5.0\n",
      "5.0\n",
      "5.0\n",
      "5.0\n",
      "5.0\n",
      "5.0\n",
      "5.0\n"
     ]
    },
    {
     "name": "stderr",
     "output_type": "stream",
     "text": [
      "2843it [00:19, 145.63it/s]"
     ]
    },
    {
     "name": "stdout",
     "output_type": "stream",
     "text": [
      "5.0\n",
      "5.0\n",
      "5.0\n",
      "5.0\n",
      "5.0\n",
      "5.0\n",
      "5.0\n",
      "5.0\n",
      "5.0\n",
      "5.0\n"
     ]
    },
    {
     "name": "stderr",
     "output_type": "stream",
     "text": [
      "2859it [00:19, 149.41it/s]"
     ]
    },
    {
     "name": "stdout",
     "output_type": "stream",
     "text": [
      "5.0\n",
      "5.0\n",
      "5.0\n",
      "5.0\n",
      "5.0\n",
      "5.0\n",
      "5.0\n",
      "5.0\n",
      "5.0\n",
      "5.0\n",
      "5.0\n",
      "5.0\n",
      "5.0\n",
      "5.0\n",
      "5.0\n",
      "5.0\n",
      "5.0\n",
      "5.0\n",
      "5.0\n",
      "5.0\n",
      "5.0\n"
     ]
    },
    {
     "name": "stderr",
     "output_type": "stream",
     "text": [
      "2877it [00:19, 155.62it/s]"
     ]
    },
    {
     "name": "stdout",
     "output_type": "stream",
     "text": [
      "5.0\n",
      "5.0\n",
      "5.0\n",
      "5.0\n",
      "5.0\n",
      "5.0\n",
      "5.0\n",
      "5.0\n",
      "5.0\n",
      "5.0\n",
      "5.0\n"
     ]
    },
    {
     "name": "stderr",
     "output_type": "stream",
     "text": [
      "2895it [00:19, 160.49it/s]"
     ]
    },
    {
     "name": "stdout",
     "output_type": "stream",
     "text": [
      "5.0\n",
      "5.0\n",
      "5.0\n",
      "5.0\n",
      "5.0\n",
      "5.0\n",
      "5.0\n",
      "5.0\n",
      "5.0\n",
      "5.0\n",
      "5.0\n",
      "5.0\n",
      "5.0\n",
      "5.0\n",
      "5.0\n",
      "5.0\n",
      "5.0\n",
      "5.0\n",
      "5.0\n",
      "5.0\n",
      "5.0\n"
     ]
    },
    {
     "name": "stderr",
     "output_type": "stream",
     "text": [
      "2913it [00:19, 163.42it/s]"
     ]
    },
    {
     "name": "stdout",
     "output_type": "stream",
     "text": [
      "5.0\n",
      "5.0\n",
      "5.0\n",
      "5.0\n",
      "5.0\n",
      "5.0\n",
      "5.0\n",
      "5.0\n",
      "5.0\n",
      "5.0\n"
     ]
    },
    {
     "name": "stderr",
     "output_type": "stream",
     "text": [
      "2930it [00:20, 163.27it/s]"
     ]
    },
    {
     "name": "stdout",
     "output_type": "stream",
     "text": [
      "5.0\n",
      "5.0\n",
      "5.0\n",
      "5.0\n",
      "5.0\n",
      "5.0\n",
      "5.0\n",
      "5.0\n",
      "5.0\n",
      "5.0\n",
      "5.0\n",
      "5.0\n",
      "5.0\n",
      "5.0\n",
      "5.0\n",
      "5.0\n",
      "5.0\n",
      "5.0\n",
      "5.0\n",
      "5.0\n",
      "5.0\n",
      "5.0\n",
      "5.0\n",
      "5.0\n",
      "5.0\n",
      "5.0\n"
     ]
    },
    {
     "name": "stderr",
     "output_type": "stream",
     "text": [
      "2947it [00:20, 142.36it/s]"
     ]
    },
    {
     "name": "stdout",
     "output_type": "stream",
     "text": [
      "5.0\n",
      "5.0\n",
      "5.0\n",
      "5.0\n",
      "5.0\n",
      "5.0\n",
      "5.0\n",
      "5.0\n",
      "5.0\n",
      "5.0\n",
      "5.0\n",
      "5.0\n",
      "5.0\n",
      "5.0\n",
      "5.0\n",
      "5.0\n",
      "5.0\n",
      "5.0\n",
      "5.0\n",
      "5.0\n"
     ]
    },
    {
     "name": "stderr",
     "output_type": "stream",
     "text": [
      "2962it [00:20, 129.49it/s]"
     ]
    },
    {
     "name": "stdout",
     "output_type": "stream",
     "text": [
      "5.0\n",
      "5.0\n",
      "5.0\n",
      "5.0\n",
      "5.0\n",
      "5.0\n",
      "5.0\n",
      "5.0\n",
      "5.0\n",
      "5.0\n",
      "5.0\n",
      "5.0\n",
      "5.0\n"
     ]
    },
    {
     "name": "stderr",
     "output_type": "stream",
     "text": [
      "2976it [00:20, 122.63it/s]"
     ]
    },
    {
     "name": "stdout",
     "output_type": "stream",
     "text": [
      "5.0\n",
      "5.0\n",
      "5.0\n",
      "5.0\n",
      "5.0\n",
      "5.0\n",
      "5.0\n"
     ]
    },
    {
     "name": "stderr",
     "output_type": "stream",
     "text": [
      "2989it [00:20, 115.87it/s]"
     ]
    },
    {
     "name": "stdout",
     "output_type": "stream",
     "text": [
      "5.0\n",
      "5.0\n",
      "5.0\n",
      "5.0\n",
      "5.0\n",
      "5.0\n",
      "5.0\n",
      "5.0\n",
      "5.0\n",
      "5.0\n",
      "5.0\n",
      "5.0\n",
      "5.0\n"
     ]
    },
    {
     "name": "stderr",
     "output_type": "stream",
     "text": [
      "3001it [00:20, 114.97it/s]"
     ]
    },
    {
     "name": "stdout",
     "output_type": "stream",
     "text": [
      "5.0\n",
      "5.0\n",
      "5.0\n",
      "5.0\n",
      "5.0\n",
      "5.0\n",
      "3.5\n",
      "3.5\n"
     ]
    },
    {
     "name": "stderr",
     "output_type": "stream",
     "text": [
      "3019it [00:20, 130.41it/s]"
     ]
    },
    {
     "name": "stdout",
     "output_type": "stream",
     "text": [
      "3.5\n",
      "3.5\n",
      "3.5\n",
      "3.5\n",
      "3.5\n",
      "3.5\n",
      "3.5\n",
      "3.5\n",
      "3.5\n",
      "3.5\n",
      "3.5\n",
      "3.5\n",
      "3.5\n",
      "3.5\n",
      "3.5\n",
      "3.5\n",
      "3.5\n",
      "3.5\n",
      "3.5\n",
      "3.5\n",
      "3.5\n",
      "3.5\n",
      "3.5\n",
      "3.5\n",
      "3.5\n",
      "3.5\n",
      "3.5\n",
      "3.5\n",
      "3.5\n",
      "3.5\n",
      "3.5\n",
      "3.5\n",
      "3.5\n"
     ]
    },
    {
     "name": "stderr",
     "output_type": "stream",
     "text": [
      "3054it [00:21, 150.74it/s]"
     ]
    },
    {
     "name": "stdout",
     "output_type": "stream",
     "text": [
      "3.5\n",
      "3.5\n",
      "3.5\n",
      "3.5\n",
      "3.5\n",
      "3.5\n",
      "3.5\n",
      "3.5\n",
      "3.5\n",
      "3.5\n",
      "3.5\n",
      "3.5\n",
      "3.5\n",
      "3.5\n",
      "3.5\n",
      "3.5\n",
      "3.5\n",
      "3.5\n",
      "3.5\n",
      "3.5\n",
      "3.5\n",
      "3.5\n",
      "3.5\n",
      "3.5\n",
      "3.5\n",
      "3.5\n",
      "3.5\n",
      "3.5\n",
      "3.5\n",
      "3.5\n",
      "3.5\n",
      "3.5\n"
     ]
    },
    {
     "name": "stderr",
     "output_type": "stream",
     "text": [
      "3071it [00:21, 153.29it/s]"
     ]
    },
    {
     "name": "stdout",
     "output_type": "stream",
     "text": [
      "3.5\n",
      "3.5\n",
      "3.5\n",
      "3.5\n",
      "3.5\n",
      "3.5\n",
      "3.5\n",
      "3.5\n",
      "3.5\n",
      "3.5\n",
      "3.5\n",
      "3.5\n",
      "3.5\n",
      "3.5\n",
      "3.5\n",
      "3.5\n",
      "3.5\n",
      "3.5\n",
      "3.5\n"
     ]
    },
    {
     "name": "stderr",
     "output_type": "stream",
     "text": [
      "3087it [00:21, 153.77it/s]"
     ]
    },
    {
     "name": "stdout",
     "output_type": "stream",
     "text": [
      "3.5\n",
      "3.5\n",
      "3.5\n",
      "3.5\n",
      "3.5\n",
      "3.5\n",
      "3.5\n",
      "3.5\n",
      "3.5\n",
      "3.5\n"
     ]
    },
    {
     "name": "stderr",
     "output_type": "stream",
     "text": [
      "3103it [00:21, 154.24it/s]"
     ]
    },
    {
     "name": "stdout",
     "output_type": "stream",
     "text": [
      "3.5\n",
      "3.5\n",
      "3.5\n",
      "3.5\n",
      "3.5\n",
      "3.5\n",
      "3.5\n",
      "3.5\n",
      "3.5\n",
      "3.5\n",
      "3.5\n",
      "3.5\n",
      "3.5\n",
      "3.5\n",
      "3.5\n",
      "3.5\n",
      "3.5\n",
      "3.5\n"
     ]
    },
    {
     "name": "stderr",
     "output_type": "stream",
     "text": [
      "3119it [00:21, 143.47it/s]"
     ]
    },
    {
     "name": "stdout",
     "output_type": "stream",
     "text": [
      "3.5\n",
      "3.5\n",
      "3.5\n",
      "3.5\n",
      "3.5\n",
      "3.5\n",
      "3.5\n",
      "3.5\n",
      "3.5\n",
      "3.5\n",
      "3.5\n",
      "3.5\n",
      "3.5\n",
      "3.5\n",
      "3.5\n",
      "3.5\n",
      "3.5\n",
      "3.5\n",
      "3.5\n",
      "3.5\n"
     ]
    },
    {
     "name": "stderr",
     "output_type": "stream",
     "text": [
      "3134it [00:21, 130.83it/s]"
     ]
    },
    {
     "name": "stdout",
     "output_type": "stream",
     "text": [
      "3.5\n",
      "3.5\n",
      "3.5\n",
      "3.5\n",
      "3.5\n",
      "3.5\n",
      "3.5\n"
     ]
    },
    {
     "name": "stderr",
     "output_type": "stream",
     "text": [
      "3148it [00:21, 123.45it/s]"
     ]
    },
    {
     "name": "stdout",
     "output_type": "stream",
     "text": [
      "3.5\n",
      "3.5\n",
      "3.5\n",
      "3.5\n",
      "3.5\n",
      "3.5\n",
      "3.5\n",
      "3.5\n",
      "3.5\n",
      "3.5\n",
      "3.5\n",
      "3.5\n",
      "3.5\n"
     ]
    },
    {
     "name": "stderr",
     "output_type": "stream",
     "text": [
      "3161it [00:21, 120.29it/s]"
     ]
    },
    {
     "name": "stdout",
     "output_type": "stream",
     "text": [
      "3.5\n",
      "3.5\n",
      "3.5\n",
      "3.5\n",
      "3.5\n",
      "3.5\n",
      "3.5\n",
      "3.5\n",
      "3.5\n"
     ]
    },
    {
     "name": "stderr",
     "output_type": "stream",
     "text": [
      "3174it [00:21, 117.79it/s]"
     ]
    },
    {
     "name": "stdout",
     "output_type": "stream",
     "text": [
      "3.5\n",
      "3.5\n",
      "3.5\n",
      "3.5\n",
      "3.5\n",
      "3.5\n",
      "3.5\n",
      "3.5\n",
      "3.5\n",
      "3.5\n",
      "3.5\n",
      "3.5\n",
      "3.5\n",
      "3.5\n",
      "3.5\n",
      "3.5\n",
      "3.5\n",
      "3.5\n",
      "3.5\n",
      "3.5\n",
      "3.5\n"
     ]
    },
    {
     "name": "stderr",
     "output_type": "stream",
     "text": [
      "3186it [00:22, 116.26it/s]"
     ]
    },
    {
     "name": "stdout",
     "output_type": "stream",
     "text": [
      "3.5\n",
      "3.5\n",
      "3.5\n",
      "3.5\n",
      "3.5\n",
      "3.5\n",
      "3.5\n",
      "3.5\n",
      "3.5\n",
      "3.5\n",
      "3.5\n",
      "3.5\n"
     ]
    },
    {
     "name": "stderr",
     "output_type": "stream",
     "text": [
      "3198it [00:22, 114.87it/s]"
     ]
    },
    {
     "name": "stdout",
     "output_type": "stream",
     "text": [
      "3.5\n",
      "3.5\n",
      "3.5\n",
      "3.5\n",
      "10.0\n",
      "10.0\n",
      "10.0\n",
      "10.0\n",
      "10.0\n",
      "10.0\n",
      "10.0\n"
     ]
    },
    {
     "name": "stderr",
     "output_type": "stream",
     "text": [
      "3215it [00:22, 129.02it/s]"
     ]
    },
    {
     "name": "stdout",
     "output_type": "stream",
     "text": [
      "10.0\n",
      "10.0\n",
      "10.0\n",
      "10.0\n",
      "10.0\n",
      "10.0\n",
      "10.0\n",
      "10.0\n",
      "10.0\n",
      "10.0\n",
      "10.0\n",
      "10.0\n",
      "10.0\n",
      "10.0\n",
      "10.0\n",
      "10.0\n",
      "10.0\n",
      "10.0\n",
      "10.0\n"
     ]
    },
    {
     "name": "stderr",
     "output_type": "stream",
     "text": [
      "3232it [00:22, 139.43it/s]"
     ]
    },
    {
     "name": "stdout",
     "output_type": "stream",
     "text": [
      "10.0\n",
      "10.0\n",
      "10.0\n",
      "10.0\n",
      "10.0\n",
      "10.0\n",
      "10.0\n",
      "10.0\n",
      "10.0\n",
      "10.0\n",
      "10.0\n",
      "10.0\n",
      "10.0\n"
     ]
    },
    {
     "name": "stderr",
     "output_type": "stream",
     "text": [
      "3249it [00:22, 146.71it/s]"
     ]
    },
    {
     "name": "stdout",
     "output_type": "stream",
     "text": [
      "10.0\n",
      "10.0\n",
      "10.0\n",
      "10.0\n",
      "10.0\n",
      "10.0\n",
      "10.0\n",
      "10.0\n",
      "10.0\n",
      "10.0\n",
      "10.0\n",
      "10.0\n",
      "10.0\n",
      "10.0\n",
      "10.0\n",
      "10.0\n",
      "10.0\n",
      "10.0\n"
     ]
    },
    {
     "name": "stderr",
     "output_type": "stream",
     "text": [
      "3267it [00:22, 154.60it/s]"
     ]
    },
    {
     "name": "stdout",
     "output_type": "stream",
     "text": [
      "10.0\n",
      "10.0\n",
      "10.0\n",
      "10.0\n",
      "10.0\n",
      "10.0\n",
      "10.0\n",
      "10.0\n",
      "10.0\n",
      "10.0\n",
      "10.0\n",
      "10.0\n",
      "10.0\n",
      "10.0\n"
     ]
    },
    {
     "name": "stderr",
     "output_type": "stream",
     "text": [
      "3285it [00:22, 159.89it/s]"
     ]
    },
    {
     "name": "stdout",
     "output_type": "stream",
     "text": [
      "10.0\n",
      "10.0\n",
      "10.0\n",
      "10.0\n",
      "10.0\n",
      "10.0\n",
      "10.0\n",
      "10.0\n",
      "10.0\n",
      "10.0\n",
      "10.0\n",
      "10.0\n",
      "10.0\n",
      "10.0\n",
      "10.0\n",
      "10.0\n",
      "10.0\n",
      "10.0\n",
      "10.0\n",
      "10.0\n",
      "10.0\n",
      "10.0\n",
      "10.0\n",
      "10.0\n",
      "10.0\n",
      "10.0\n",
      "10.0\n",
      "10.0\n",
      "10.0\n",
      "10.0\n",
      "10.0\n",
      "10.0\n"
     ]
    },
    {
     "name": "stderr",
     "output_type": "stream",
     "text": [
      "3320it [00:22, 165.19it/s]"
     ]
    },
    {
     "name": "stdout",
     "output_type": "stream",
     "text": [
      "10.0\n",
      "10.0\n",
      "10.0\n",
      "10.0\n",
      "10.0\n",
      "10.0\n",
      "10.0\n",
      "10.0\n",
      "10.0\n",
      "10.0\n",
      "10.0\n",
      "10.0\n",
      "10.0\n",
      "10.0\n",
      "10.0\n",
      "10.0\n",
      "10.0\n",
      "10.0\n",
      "10.0\n",
      "10.0\n",
      "10.0\n",
      "10.0\n",
      "10.0\n",
      "10.0\n",
      "10.0\n",
      "10.0\n",
      "10.0\n",
      "10.0\n",
      "10.0\n",
      "10.0\n",
      "10.0\n"
     ]
    },
    {
     "name": "stderr",
     "output_type": "stream",
     "text": [
      "3337it [00:23, 163.84it/s]"
     ]
    },
    {
     "name": "stdout",
     "output_type": "stream",
     "text": [
      "10.0\n",
      "10.0\n",
      "10.0\n",
      "10.0\n",
      "10.0\n",
      "10.0\n",
      "10.0\n",
      "10.0\n",
      "10.0\n",
      "10.0\n",
      "10.0\n",
      "10.0\n",
      "10.0\n",
      "10.0\n",
      "10.0\n",
      "10.0\n",
      "10.0\n",
      "10.0\n"
     ]
    },
    {
     "name": "stderr",
     "output_type": "stream",
     "text": [
      "3354it [00:23, 161.85it/s]"
     ]
    },
    {
     "name": "stdout",
     "output_type": "stream",
     "text": [
      "10.0\n",
      "10.0\n",
      "10.0\n",
      "10.0\n",
      "10.0\n",
      "10.0\n",
      "10.0\n",
      "10.0\n",
      "10.0\n",
      "10.0\n"
     ]
    },
    {
     "name": "stderr",
     "output_type": "stream",
     "text": [
      "3371it [00:23, 146.67it/s]"
     ]
    },
    {
     "name": "stdout",
     "output_type": "stream",
     "text": [
      "10.0\n",
      "10.0\n",
      "10.0\n",
      "10.0\n",
      "10.0\n",
      "10.0\n",
      "10.0\n",
      "10.0\n",
      "10.0\n",
      "10.0\n",
      "10.0\n",
      "10.0\n",
      "10.0\n",
      "10.0\n",
      "10.0\n",
      "10.0\n",
      "10.0\n",
      "10.0\n",
      "10.0\n",
      "10.0\n",
      "10.0\n"
     ]
    },
    {
     "name": "stderr",
     "output_type": "stream",
     "text": [
      "3386it [00:23, 133.66it/s]"
     ]
    },
    {
     "name": "stdout",
     "output_type": "stream",
     "text": [
      "10.0\n",
      "10.0\n",
      "10.0\n",
      "10.0\n",
      "10.0\n",
      "10.0\n",
      "10.0\n",
      "10.0\n",
      "10.0\n",
      "10.0\n",
      "10.0\n",
      "10.0\n"
     ]
    },
    {
     "name": "stderr",
     "output_type": "stream",
     "text": [
      "3400it [00:23, 127.80it/s]"
     ]
    },
    {
     "name": "stdout",
     "output_type": "stream",
     "text": [
      "10.0\n",
      "10.0\n",
      "10.0\n",
      "10.0\n",
      "10.0\n",
      "7.5\n",
      "7.5\n",
      "7.5\n",
      "7.5\n",
      "7.5\n",
      "7.5\n"
     ]
    },
    {
     "name": "stderr",
     "output_type": "stream",
     "text": [
      "3417it [00:23, 138.10it/s]"
     ]
    },
    {
     "name": "stdout",
     "output_type": "stream",
     "text": [
      "7.5\n",
      "7.5\n",
      "7.5\n",
      "7.5\n",
      "7.5\n",
      "7.5\n",
      "7.5\n",
      "7.5\n",
      "7.5\n",
      "7.5\n",
      "7.5\n",
      "7.5\n",
      "7.5\n",
      "7.5\n",
      "7.5\n",
      "7.5\n",
      "7.5\n",
      "7.5\n"
     ]
    },
    {
     "name": "stderr",
     "output_type": "stream",
     "text": [
      "3434it [00:23, 145.79it/s]"
     ]
    },
    {
     "name": "stdout",
     "output_type": "stream",
     "text": [
      "7.5\n",
      "7.5\n",
      "7.5\n",
      "7.5\n",
      "7.5\n",
      "7.5\n",
      "7.5\n",
      "7.5\n",
      "7.5\n",
      "7.5\n",
      "7.5\n",
      "7.5\n",
      "7.5\n"
     ]
    },
    {
     "name": "stderr",
     "output_type": "stream",
     "text": [
      "3452it [00:23, 153.59it/s]"
     ]
    },
    {
     "name": "stdout",
     "output_type": "stream",
     "text": [
      "7.5\n",
      "7.5\n",
      "7.5\n",
      "7.5\n",
      "7.5\n",
      "7.5\n",
      "7.5\n",
      "7.5\n",
      "7.5\n",
      "7.5\n",
      "7.5\n",
      "7.5\n",
      "7.5\n",
      "7.5\n",
      "7.5\n",
      "7.5\n",
      "7.5\n",
      "7.5\n",
      "7.5\n",
      "7.5\n",
      "7.5\n",
      "7.5\n",
      "7.5\n",
      "7.5\n",
      "7.5\n",
      "7.5\n",
      "7.5\n",
      "7.5\n",
      "7.5\n",
      "7.5\n",
      "7.5\n",
      "7.5\n"
     ]
    },
    {
     "name": "stderr",
     "output_type": "stream",
     "text": [
      "3486it [00:24, 161.12it/s]"
     ]
    },
    {
     "name": "stdout",
     "output_type": "stream",
     "text": [
      "7.5\n",
      "7.5\n",
      "7.5\n",
      "7.5\n",
      "7.5\n",
      "7.5\n",
      "7.5\n",
      "7.5\n",
      "7.5\n",
      "7.5\n",
      "7.5\n",
      "7.5\n",
      "7.5\n",
      "7.5\n",
      "7.5\n",
      "7.5\n",
      "7.5\n",
      "7.5\n",
      "7.5\n",
      "7.5\n",
      "7.5\n",
      "7.5\n",
      "7.5\n",
      "7.5\n",
      "7.5\n",
      "7.5\n",
      "7.5\n",
      "7.5\n",
      "7.5\n",
      "7.5\n",
      "7.5\n",
      "7.5\n"
     ]
    },
    {
     "name": "stderr",
     "output_type": "stream",
     "text": [
      "3504it [00:24, 163.84it/s]"
     ]
    },
    {
     "name": "stdout",
     "output_type": "stream",
     "text": [
      "7.5\n",
      "7.5\n",
      "7.5\n",
      "7.5\n",
      "7.5\n",
      "7.5\n",
      "7.5\n",
      "7.5\n",
      "7.5\n",
      "7.5\n",
      "7.5\n",
      "7.5\n",
      "7.5\n",
      "7.5\n",
      "7.5\n",
      "7.5\n",
      "7.5\n",
      "7.5\n"
     ]
    },
    {
     "name": "stderr",
     "output_type": "stream",
     "text": [
      "3522it [00:24, 166.18it/s]"
     ]
    },
    {
     "name": "stdout",
     "output_type": "stream",
     "text": [
      "7.5\n",
      "7.5\n",
      "7.5\n",
      "7.5\n",
      "7.5\n",
      "7.5\n",
      "7.5\n",
      "7.5\n",
      "7.5\n",
      "7.5\n",
      "7.5\n",
      "7.5\n",
      "7.5\n"
     ]
    },
    {
     "name": "stderr",
     "output_type": "stream",
     "text": [
      "3539it [00:24, 165.86it/s]"
     ]
    },
    {
     "name": "stdout",
     "output_type": "stream",
     "text": [
      "7.5\n",
      "7.5\n",
      "7.5\n",
      "7.5\n",
      "7.5\n",
      "7.5\n",
      "7.5\n",
      "7.5\n",
      "7.5\n",
      "7.5\n",
      "7.5\n",
      "7.5\n",
      "7.5\n",
      "7.5\n",
      "7.5\n",
      "7.5\n",
      "7.5\n",
      "7.5\n"
     ]
    },
    {
     "name": "stderr",
     "output_type": "stream",
     "text": [
      "3556it [00:24, 153.97it/s]"
     ]
    },
    {
     "name": "stdout",
     "output_type": "stream",
     "text": [
      "7.5\n",
      "7.5\n",
      "7.5\n",
      "7.5\n",
      "7.5\n",
      "7.5\n",
      "7.5\n",
      "7.5\n"
     ]
    },
    {
     "name": "stderr",
     "output_type": "stream",
     "text": [
      "3572it [00:24, 139.73it/s]"
     ]
    },
    {
     "name": "stdout",
     "output_type": "stream",
     "text": [
      "7.5\n",
      "7.5\n",
      "7.5\n",
      "7.5\n",
      "7.5\n",
      "7.5\n",
      "7.5\n",
      "7.5\n",
      "7.5\n",
      "7.5\n",
      "7.5\n",
      "7.5\n",
      "7.5\n",
      "7.5\n",
      "7.5\n",
      "7.5\n",
      "7.5\n",
      "7.5\n",
      "7.5\n",
      "7.5\n",
      "7.5\n"
     ]
    },
    {
     "name": "stderr",
     "output_type": "stream",
     "text": [
      "3587it [00:24, 125.76it/s]"
     ]
    },
    {
     "name": "stdout",
     "output_type": "stream",
     "text": [
      "7.5\n",
      "7.5\n",
      "7.5\n",
      "7.5\n",
      "7.5\n",
      "7.5\n",
      "7.5\n",
      "7.5\n",
      "7.5\n",
      "7.5\n",
      "7.5\n",
      "7.5\n",
      "7.5\n",
      "7.5\n",
      "7.5\n",
      "7.5\n",
      "7.5\n",
      "7.5\n",
      "7.5\n"
     ]
    },
    {
     "name": "stderr",
     "output_type": "stream",
     "text": [
      "3601it [00:24, 116.14it/s]"
     ]
    },
    {
     "name": "stdout",
     "output_type": "stream",
     "text": [
      "7.5\n",
      "7.5\n",
      "5.0\n",
      "5.0\n",
      "5.0\n",
      "5.0\n",
      "5.0\n",
      "5.0\n",
      "5.0\n",
      "5.0\n",
      "5.0\n",
      "5.0\n",
      "5.0\n",
      "5.0\n",
      "5.0\n",
      "5.0\n",
      "5.0\n"
     ]
    },
    {
     "name": "stderr",
     "output_type": "stream",
     "text": [
      "3619it [00:25, 130.52it/s]"
     ]
    },
    {
     "name": "stdout",
     "output_type": "stream",
     "text": [
      "5.0\n",
      "5.0\n",
      "5.0\n",
      "5.0\n",
      "5.0\n",
      "5.0\n",
      "5.0\n",
      "5.0\n",
      "5.0\n",
      "5.0\n",
      "5.0\n",
      "5.0\n",
      "5.0\n",
      "5.0\n"
     ]
    },
    {
     "name": "stderr",
     "output_type": "stream",
     "text": [
      "3637it [00:25, 142.14it/s]"
     ]
    },
    {
     "name": "stdout",
     "output_type": "stream",
     "text": [
      "5.0\n",
      "5.0\n",
      "5.0\n",
      "5.0\n",
      "5.0\n",
      "5.0\n",
      "5.0\n",
      "5.0\n",
      "5.0\n",
      "5.0\n",
      "5.0\n",
      "5.0\n",
      "5.0\n",
      "5.0\n",
      "5.0\n",
      "5.0\n",
      "5.0\n",
      "5.0\n",
      "5.0\n"
     ]
    },
    {
     "name": "stderr",
     "output_type": "stream",
     "text": [
      "3655it [00:25, 151.27it/s]"
     ]
    },
    {
     "name": "stdout",
     "output_type": "stream",
     "text": [
      "5.0\n",
      "5.0\n",
      "5.0\n",
      "5.0\n",
      "5.0\n",
      "5.0\n",
      "5.0\n",
      "5.0\n",
      "5.0\n",
      "5.0\n",
      "5.0\n",
      "5.0\n",
      "5.0\n",
      "5.0\n"
     ]
    },
    {
     "name": "stderr",
     "output_type": "stream",
     "text": [
      "3673it [00:25, 157.09it/s]"
     ]
    },
    {
     "name": "stdout",
     "output_type": "stream",
     "text": [
      "5.0\n",
      "5.0\n",
      "5.0\n",
      "5.0\n",
      "5.0\n",
      "5.0\n",
      "5.0\n",
      "5.0\n",
      "5.0\n",
      "5.0\n",
      "5.0\n",
      "5.0\n",
      "5.0\n",
      "5.0\n",
      "5.0\n",
      "5.0\n",
      "5.0\n",
      "5.0\n"
     ]
    },
    {
     "name": "stderr",
     "output_type": "stream",
     "text": [
      "3691it [00:25, 161.76it/s]"
     ]
    },
    {
     "name": "stdout",
     "output_type": "stream",
     "text": [
      "5.0\n",
      "5.0\n",
      "5.0\n",
      "5.0\n",
      "5.0\n",
      "5.0\n",
      "5.0\n",
      "5.0\n",
      "5.0\n",
      "5.0\n",
      "5.0\n",
      "5.0\n",
      "5.0\n",
      "5.0\n"
     ]
    },
    {
     "name": "stderr",
     "output_type": "stream",
     "text": [
      "3709it [00:25, 164.68it/s]"
     ]
    },
    {
     "name": "stdout",
     "output_type": "stream",
     "text": [
      "5.0\n",
      "5.0\n",
      "5.0\n",
      "5.0\n",
      "5.0\n",
      "5.0\n",
      "5.0\n",
      "5.0\n",
      "5.0\n",
      "5.0\n",
      "5.0\n",
      "5.0\n",
      "5.0\n",
      "5.0\n",
      "5.0\n",
      "5.0\n",
      "5.0\n",
      "5.0\n",
      "5.0\n",
      "5.0\n",
      "5.0\n",
      "5.0\n",
      "5.0\n",
      "5.0\n",
      "5.0\n",
      "5.0\n",
      "5.0\n",
      "5.0\n",
      "5.0\n",
      "5.0\n",
      "5.0\n",
      "5.0\n"
     ]
    },
    {
     "name": "stderr",
     "output_type": "stream",
     "text": [
      "3726it [00:25, 164.95it/s]"
     ]
    },
    {
     "name": "stdout",
     "output_type": "stream",
     "text": [
      "5.0\n",
      "5.0\n",
      "5.0\n",
      "5.0\n",
      "5.0\n",
      "5.0\n",
      "5.0\n",
      "5.0\n",
      "5.0\n",
      "5.0\n",
      "5.0\n",
      "5.0\n",
      "5.0\n",
      "5.0\n",
      "5.0\n"
     ]
    },
    {
     "name": "stderr",
     "output_type": "stream",
     "text": [
      "3743it [00:25, 152.68it/s]"
     ]
    },
    {
     "name": "stdout",
     "output_type": "stream",
     "text": [
      "5.0\n",
      "5.0\n",
      "5.0\n",
      "5.0\n",
      "5.0\n",
      "5.0\n",
      "5.0\n",
      "5.0\n",
      "5.0\n"
     ]
    },
    {
     "name": "stderr",
     "output_type": "stream",
     "text": [
      "3759it [00:25, 139.70it/s]"
     ]
    },
    {
     "name": "stdout",
     "output_type": "stream",
     "text": [
      "5.0\n",
      "5.0\n",
      "5.0\n",
      "5.0\n",
      "5.0\n",
      "5.0\n",
      "5.0\n",
      "5.0\n",
      "5.0\n",
      "5.0\n",
      "5.0\n",
      "5.0\n",
      "5.0\n",
      "5.0\n",
      "5.0\n",
      "5.0\n",
      "5.0\n",
      "5.0\n",
      "5.0\n",
      "5.0\n",
      "5.0\n",
      "5.0\n",
      "5.0\n"
     ]
    },
    {
     "name": "stderr",
     "output_type": "stream",
     "text": [
      "3774it [00:26, 131.21it/s]"
     ]
    },
    {
     "name": "stdout",
     "output_type": "stream",
     "text": [
      "5.0\n",
      "5.0\n",
      "5.0\n",
      "5.0\n",
      "5.0\n",
      "5.0\n",
      "5.0\n",
      "5.0\n",
      "5.0\n",
      "5.0\n",
      "5.0\n",
      "5.0\n"
     ]
    },
    {
     "name": "stderr",
     "output_type": "stream",
     "text": [
      "3788it [00:26, 124.94it/s]"
     ]
    },
    {
     "name": "stdout",
     "output_type": "stream",
     "text": [
      "5.0\n",
      "5.0\n",
      "5.0\n",
      "5.0\n",
      "5.0\n",
      "5.0\n",
      "5.0\n",
      "5.0\n",
      "5.0\n"
     ]
    },
    {
     "name": "stderr",
     "output_type": "stream",
     "text": [
      "3801it [00:26, 123.00it/s]"
     ]
    },
    {
     "name": "stdout",
     "output_type": "stream",
     "text": [
      "5.0\n",
      "5.0\n",
      "5.0\n",
      "5.0\n",
      "5.0\n",
      "5.0\n",
      "3.5\n",
      "3.5\n",
      "3.5\n",
      "3.5\n",
      "3.5\n",
      "3.5\n",
      "3.5\n",
      "3.5\n",
      "3.5\n"
     ]
    },
    {
     "name": "stderr",
     "output_type": "stream",
     "text": [
      "3819it [00:26, 137.31it/s]"
     ]
    },
    {
     "name": "stdout",
     "output_type": "stream",
     "text": [
      "3.5\n",
      "3.5\n",
      "3.5\n",
      "3.5\n",
      "3.5\n",
      "3.5\n",
      "3.5\n",
      "3.5\n",
      "3.5\n",
      "3.5\n",
      "3.5\n",
      "3.5\n",
      "3.5\n",
      "3.5\n",
      "3.5\n",
      "3.5\n"
     ]
    },
    {
     "name": "stderr",
     "output_type": "stream",
     "text": [
      "3836it [00:26, 145.89it/s]"
     ]
    },
    {
     "name": "stdout",
     "output_type": "stream",
     "text": [
      "3.5\n",
      "3.5\n",
      "3.5\n",
      "3.5\n",
      "3.5\n",
      "3.5\n",
      "3.5\n",
      "3.5\n",
      "3.5\n",
      "3.5\n",
      "3.5\n",
      "3.5\n",
      "3.5\n",
      "3.5\n",
      "3.5\n",
      "3.5\n"
     ]
    },
    {
     "name": "stderr",
     "output_type": "stream",
     "text": [
      "3854it [00:26, 154.23it/s]"
     ]
    },
    {
     "name": "stdout",
     "output_type": "stream",
     "text": [
      "3.5\n",
      "3.5\n",
      "3.5\n",
      "3.5\n",
      "3.5\n",
      "3.5\n",
      "3.5\n",
      "3.5\n",
      "3.5\n",
      "3.5\n",
      "3.5\n",
      "3.5\n",
      "3.5\n",
      "3.5\n",
      "3.5\n",
      "3.5\n"
     ]
    },
    {
     "name": "stderr",
     "output_type": "stream",
     "text": [
      "3872it [00:26, 159.59it/s]"
     ]
    },
    {
     "name": "stdout",
     "output_type": "stream",
     "text": [
      "3.5\n",
      "3.5\n",
      "3.5\n",
      "3.5\n",
      "3.5\n",
      "3.5\n",
      "3.5\n",
      "3.5\n",
      "3.5\n",
      "3.5\n",
      "3.5\n",
      "3.5\n",
      "3.5\n",
      "3.5\n",
      "3.5\n",
      "3.5\n",
      "3.5\n"
     ]
    },
    {
     "name": "stderr",
     "output_type": "stream",
     "text": [
      "3889it [00:26, 162.49it/s]"
     ]
    },
    {
     "name": "stdout",
     "output_type": "stream",
     "text": [
      "3.5\n",
      "3.5\n",
      "3.5\n",
      "3.5\n",
      "3.5\n",
      "3.5\n",
      "3.5\n",
      "3.5\n",
      "3.5\n",
      "3.5\n",
      "3.5\n",
      "3.5\n",
      "3.5\n",
      "3.5\n",
      "3.5\n",
      "3.5\n",
      "3.5\n",
      "3.5\n",
      "3.5\n",
      "3.5\n",
      "3.5\n",
      "3.5\n",
      "3.5\n",
      "3.5\n",
      "3.5\n",
      "3.5\n",
      "3.5\n",
      "3.5\n",
      "3.5\n",
      "3.5\n",
      "3.5\n"
     ]
    },
    {
     "name": "stderr",
     "output_type": "stream",
     "text": [
      "3906it [00:26, 163.37it/s]"
     ]
    },
    {
     "name": "stdout",
     "output_type": "stream",
     "text": [
      "3.5\n",
      "3.5\n",
      "3.5\n",
      "3.5\n",
      "3.5\n",
      "3.5\n",
      "3.5\n",
      "3.5\n",
      "3.5\n",
      "3.5\n",
      "3.5\n",
      "3.5\n",
      "3.5\n"
     ]
    },
    {
     "name": "stderr",
     "output_type": "stream",
     "text": [
      "3923it [00:27, 150.12it/s]"
     ]
    },
    {
     "name": "stdout",
     "output_type": "stream",
     "text": [
      "3.5\n",
      "3.5\n",
      "3.5\n",
      "3.5\n",
      "3.5\n",
      "3.5\n",
      "3.5\n",
      "3.5\n",
      "3.5\n",
      "3.5\n",
      "3.5\n"
     ]
    },
    {
     "name": "stderr",
     "output_type": "stream",
     "text": [
      "3939it [00:27, 138.52it/s]"
     ]
    },
    {
     "name": "stdout",
     "output_type": "stream",
     "text": [
      "3.5\n",
      "3.5\n",
      "3.5\n",
      "3.5\n",
      "3.5\n",
      "3.5\n",
      "3.5\n",
      "3.5\n",
      "3.5\n",
      "3.5\n",
      "3.5\n",
      "3.5\n",
      "3.5\n",
      "3.5\n",
      "3.5\n",
      "3.5\n",
      "3.5\n",
      "3.5\n",
      "3.5\n",
      "3.5\n",
      "3.5\n",
      "3.5\n"
     ]
    },
    {
     "name": "stderr",
     "output_type": "stream",
     "text": [
      "3954it [00:27, 131.12it/s]"
     ]
    },
    {
     "name": "stdout",
     "output_type": "stream",
     "text": [
      "3.5\n",
      "3.5\n",
      "3.5\n",
      "3.5\n",
      "3.5\n",
      "3.5\n",
      "3.5\n",
      "3.5\n",
      "3.5\n",
      "3.5\n"
     ]
    },
    {
     "name": "stderr",
     "output_type": "stream",
     "text": [
      "3968it [00:27, 125.90it/s]"
     ]
    },
    {
     "name": "stdout",
     "output_type": "stream",
     "text": [
      "3.5\n",
      "3.5\n",
      "3.5\n",
      "3.5\n",
      "3.5\n",
      "3.5\n",
      "3.5\n",
      "3.5\n",
      "3.5\n",
      "3.5\n",
      "3.5\n",
      "3.5\n",
      "3.5\n"
     ]
    },
    {
     "name": "stderr",
     "output_type": "stream",
     "text": [
      "3981it [00:27, 120.94it/s]"
     ]
    },
    {
     "name": "stdout",
     "output_type": "stream",
     "text": [
      "3.5\n",
      "3.5\n",
      "3.5\n",
      "3.5\n",
      "3.5\n",
      "3.5\n",
      "3.5\n"
     ]
    },
    {
     "name": "stderr",
     "output_type": "stream",
     "text": [
      "3994it [00:27, 117.85it/s]"
     ]
    },
    {
     "name": "stdout",
     "output_type": "stream",
     "text": [
      "3.5\n",
      "3.5\n",
      "3.5\n",
      "3.5\n",
      "3.5\n",
      "3.5\n",
      "3.5\n",
      "3.5\n",
      "3.5\n",
      "3.5\n",
      "3.5\n",
      "3.5\n",
      "3.5\n",
      "3.5\n",
      "3.5\n",
      "3.5\n",
      "3.5\n",
      "3.5\n",
      "3.5\n",
      "10.0\n",
      "10.0\n",
      "10.0\n",
      "10.0\n"
     ]
    },
    {
     "name": "stderr",
     "output_type": "stream",
     "text": [
      "4027it [00:27, 138.82it/s]"
     ]
    },
    {
     "name": "stdout",
     "output_type": "stream",
     "text": [
      "10.0\n",
      "10.0\n",
      "10.0\n",
      "10.0\n",
      "10.0\n",
      "10.0\n",
      "10.0\n",
      "10.0\n",
      "10.0\n",
      "10.0\n",
      "10.0\n",
      "10.0\n",
      "10.0\n",
      "10.0\n",
      "10.0\n",
      "10.0\n",
      "10.0\n",
      "10.0\n",
      "10.0\n",
      "10.0\n",
      "10.0\n",
      "10.0\n",
      "10.0\n",
      "10.0\n",
      "10.0\n",
      "10.0\n",
      "10.0\n",
      "10.0\n",
      "10.0\n",
      "10.0\n",
      "10.0\n",
      "10.0\n",
      "10.0\n"
     ]
    },
    {
     "name": "stderr",
     "output_type": "stream",
     "text": [
      "4045it [00:27, 148.88it/s]"
     ]
    },
    {
     "name": "stdout",
     "output_type": "stream",
     "text": [
      "10.0\n",
      "10.0\n",
      "10.0\n",
      "10.0\n",
      "10.0\n",
      "10.0\n",
      "10.0\n",
      "10.0\n",
      "10.0\n",
      "10.0\n",
      "10.0\n",
      "10.0\n",
      "10.0\n",
      "10.0\n",
      "10.0\n",
      "10.0\n",
      "10.0\n",
      "10.0\n",
      "10.0\n",
      "10.0\n",
      "10.0\n",
      "10.0\n",
      "10.0\n",
      "10.0\n"
     ]
    },
    {
     "name": "stderr",
     "output_type": "stream",
     "text": [
      "4063it [00:28, 156.86it/s]"
     ]
    },
    {
     "name": "stdout",
     "output_type": "stream",
     "text": [
      "10.0\n",
      "10.0\n",
      "10.0\n",
      "10.0\n",
      "10.0\n",
      "10.0\n",
      "10.0\n",
      "10.0\n"
     ]
    },
    {
     "name": "stderr",
     "output_type": "stream",
     "text": [
      "4081it [00:28, 161.53it/s]"
     ]
    },
    {
     "name": "stdout",
     "output_type": "stream",
     "text": [
      "10.0\n",
      "10.0\n",
      "10.0\n",
      "10.0\n",
      "10.0\n",
      "10.0\n",
      "10.0\n",
      "10.0\n",
      "10.0\n",
      "10.0\n",
      "10.0\n",
      "10.0\n",
      "10.0\n",
      "10.0\n",
      "10.0\n",
      "10.0\n",
      "10.0\n",
      "10.0\n",
      "10.0\n",
      "10.0\n",
      "10.0\n",
      "10.0\n",
      "10.0\n",
      "10.0\n",
      "10.0\n"
     ]
    },
    {
     "name": "stderr",
     "output_type": "stream",
     "text": [
      "4099it [00:28, 164.54it/s]"
     ]
    },
    {
     "name": "stdout",
     "output_type": "stream",
     "text": [
      "10.0\n",
      "10.0\n",
      "10.0\n",
      "10.0\n",
      "10.0\n",
      "10.0\n",
      "10.0\n",
      "10.0\n"
     ]
    },
    {
     "name": "stderr",
     "output_type": "stream",
     "text": [
      "4116it [00:28, 165.43it/s]"
     ]
    },
    {
     "name": "stdout",
     "output_type": "stream",
     "text": [
      "10.0\n",
      "10.0\n",
      "10.0\n",
      "10.0\n",
      "10.0\n",
      "10.0\n",
      "10.0\n",
      "10.0\n",
      "10.0\n",
      "10.0\n",
      "10.0\n",
      "10.0\n",
      "10.0\n",
      "10.0\n",
      "10.0\n",
      "10.0\n",
      "10.0\n",
      "10.0\n",
      "10.0\n",
      "10.0\n",
      "10.0\n",
      "10.0\n",
      "10.0\n",
      "10.0\n",
      "10.0\n",
      "10.0\n",
      "10.0\n",
      "10.0\n",
      "10.0\n",
      "10.0\n",
      "10.0\n"
     ]
    },
    {
     "name": "stderr",
     "output_type": "stream",
     "text": [
      "4150it [00:28, 165.41it/s]"
     ]
    },
    {
     "name": "stdout",
     "output_type": "stream",
     "text": [
      "10.0\n",
      "10.0\n",
      "10.0\n",
      "10.0\n",
      "10.0\n",
      "10.0\n",
      "10.0\n",
      "10.0\n",
      "10.0\n",
      "10.0\n",
      "10.0\n",
      "10.0\n",
      "10.0\n",
      "10.0\n",
      "10.0\n",
      "10.0\n",
      "10.0\n",
      "10.0\n",
      "10.0\n",
      "10.0\n",
      "10.0\n",
      "10.0\n",
      "10.0\n",
      "10.0\n",
      "10.0\n",
      "10.0\n",
      "10.0\n",
      "10.0\n",
      "10.0\n"
     ]
    },
    {
     "name": "stderr",
     "output_type": "stream",
     "text": [
      "4167it [00:28, 153.55it/s]"
     ]
    },
    {
     "name": "stdout",
     "output_type": "stream",
     "text": [
      "10.0\n",
      "10.0\n",
      "10.0\n",
      "10.0\n",
      "10.0\n",
      "10.0\n",
      "10.0\n",
      "10.0\n",
      "10.0\n",
      "10.0\n",
      "10.0\n",
      "10.0\n",
      "10.0\n",
      "10.0\n",
      "10.0\n",
      "10.0\n"
     ]
    },
    {
     "name": "stderr",
     "output_type": "stream",
     "text": [
      "4183it [00:28, 139.19it/s]"
     ]
    },
    {
     "name": "stdout",
     "output_type": "stream",
     "text": [
      "10.0\n",
      "10.0\n",
      "10.0\n",
      "10.0\n",
      "10.0\n"
     ]
    },
    {
     "name": "stderr",
     "output_type": "stream",
     "text": [
      "4198it [00:29, 131.07it/s]"
     ]
    },
    {
     "name": "stdout",
     "output_type": "stream",
     "text": [
      "10.0\n",
      "10.0\n",
      "10.0\n",
      "10.0\n",
      "10.0\n",
      "10.0\n",
      "10.0\n",
      "10.0\n",
      "10.0\n",
      "10.0\n",
      "10.0\n",
      "10.0\n",
      "10.0\n",
      "10.0\n",
      "10.0\n",
      "10.0\n",
      "10.0\n",
      "7.5\n",
      "7.5\n",
      "7.5\n",
      "7.5\n",
      "7.5\n",
      "7.5\n",
      "7.5\n"
     ]
    },
    {
     "name": "stderr",
     "output_type": "stream",
     "text": [
      "4215it [00:29, 139.82it/s]"
     ]
    },
    {
     "name": "stdout",
     "output_type": "stream",
     "text": [
      "7.5\n",
      "7.5\n",
      "7.5\n",
      "7.5\n",
      "7.5\n",
      "7.5\n",
      "7.5\n",
      "7.5\n",
      "7.5\n",
      "7.5\n",
      "7.5\n",
      "7.5\n",
      "7.5\n",
      "7.5\n",
      "7.5\n",
      "7.5\n",
      "7.5\n",
      "7.5\n",
      "7.5\n",
      "7.5\n",
      "7.5\n",
      "7.5\n",
      "7.5\n",
      "7.5\n"
     ]
    },
    {
     "name": "stderr",
     "output_type": "stream",
     "text": [
      "4233it [00:29, 149.16it/s]"
     ]
    },
    {
     "name": "stdout",
     "output_type": "stream",
     "text": [
      "7.5\n",
      "7.5\n",
      "7.5\n",
      "7.5\n",
      "7.5\n",
      "7.5\n",
      "7.5\n",
      "7.5\n"
     ]
    },
    {
     "name": "stderr",
     "output_type": "stream",
     "text": [
      "4250it [00:29, 153.31it/s]"
     ]
    },
    {
     "name": "stdout",
     "output_type": "stream",
     "text": [
      "7.5\n",
      "7.5\n",
      "7.5\n",
      "7.5\n",
      "7.5\n",
      "7.5\n",
      "7.5\n",
      "7.5\n",
      "7.5\n",
      "7.5\n",
      "7.5\n",
      "7.5\n",
      "7.5\n",
      "7.5\n",
      "7.5\n",
      "7.5\n",
      "7.5\n",
      "7.5\n",
      "7.5\n",
      "7.5\n",
      "7.5\n",
      "7.5\n",
      "7.5\n"
     ]
    },
    {
     "name": "stderr",
     "output_type": "stream",
     "text": [
      "4267it [00:29, 156.36it/s]"
     ]
    },
    {
     "name": "stdout",
     "output_type": "stream",
     "text": [
      "7.5\n",
      "7.5\n",
      "7.5\n",
      "7.5\n",
      "7.5\n",
      "7.5\n",
      "7.5\n",
      "7.5\n"
     ]
    },
    {
     "name": "stderr",
     "output_type": "stream",
     "text": [
      "4284it [00:29, 157.40it/s]"
     ]
    },
    {
     "name": "stdout",
     "output_type": "stream",
     "text": [
      "7.5\n",
      "7.5\n",
      "7.5\n",
      "7.5\n",
      "7.5\n",
      "7.5\n",
      "7.5\n",
      "7.5\n",
      "7.5\n",
      "7.5\n",
      "7.5\n",
      "7.5\n",
      "7.5\n",
      "7.5\n",
      "7.5\n",
      "7.5\n",
      "7.5\n",
      "7.5\n",
      "7.5\n",
      "7.5\n",
      "7.5\n",
      "7.5\n",
      "7.5\n",
      "7.5\n",
      "7.5\n",
      "7.5\n",
      "7.5\n",
      "7.5\n",
      "7.5\n",
      "7.5\n"
     ]
    },
    {
     "name": "stderr",
     "output_type": "stream",
     "text": [
      "4319it [00:29, 163.54it/s]"
     ]
    },
    {
     "name": "stdout",
     "output_type": "stream",
     "text": [
      "7.5\n",
      "7.5\n",
      "7.5\n",
      "7.5\n",
      "7.5\n",
      "7.5\n",
      "7.5\n",
      "7.5\n",
      "7.5\n",
      "7.5\n",
      "7.5\n",
      "7.5\n",
      "7.5\n",
      "7.5\n",
      "7.5\n",
      "7.5\n",
      "7.5\n",
      "7.5\n",
      "7.5\n",
      "7.5\n",
      "7.5\n",
      "7.5\n",
      "7.5\n",
      "7.5\n",
      "7.5\n",
      "7.5\n",
      "7.5\n",
      "7.5\n",
      "7.5\n",
      "7.5\n",
      "7.5\n",
      "7.5\n"
     ]
    },
    {
     "name": "stderr",
     "output_type": "stream",
     "text": [
      "4336it [00:29, 163.37it/s]"
     ]
    },
    {
     "name": "stdout",
     "output_type": "stream",
     "text": [
      "7.5\n",
      "7.5\n",
      "7.5\n",
      "7.5\n",
      "7.5\n",
      "7.5\n",
      "7.5\n",
      "7.5\n",
      "7.5\n",
      "7.5\n",
      "7.5\n",
      "7.5\n",
      "7.5\n",
      "7.5\n",
      "7.5\n",
      "7.5\n",
      "7.5\n",
      "7.5\n",
      "7.5\n",
      "7.5\n",
      "7.5\n"
     ]
    },
    {
     "name": "stderr",
     "output_type": "stream",
     "text": [
      "4353it [00:29, 155.50it/s]"
     ]
    },
    {
     "name": "stdout",
     "output_type": "stream",
     "text": [
      "7.5\n",
      "7.5\n",
      "7.5\n",
      "7.5\n",
      "7.5\n"
     ]
    },
    {
     "name": "stderr",
     "output_type": "stream",
     "text": [
      "4369it [00:30, 140.91it/s]"
     ]
    },
    {
     "name": "stdout",
     "output_type": "stream",
     "text": [
      "7.5\n",
      "7.5\n",
      "7.5\n",
      "7.5\n",
      "7.5\n",
      "7.5\n",
      "7.5\n",
      "7.5\n",
      "7.5\n",
      "7.5\n",
      "7.5\n",
      "7.5\n",
      "7.5\n",
      "7.5\n",
      "7.5\n",
      "7.5\n",
      "7.5\n",
      "7.5\n",
      "7.5\n",
      "7.5\n",
      "7.5\n"
     ]
    },
    {
     "name": "stderr",
     "output_type": "stream",
     "text": [
      "4384it [00:30, 131.27it/s]"
     ]
    },
    {
     "name": "stdout",
     "output_type": "stream",
     "text": [
      "7.5\n",
      "7.5\n",
      "7.5\n",
      "7.5\n",
      "7.5\n",
      "7.5\n",
      "7.5\n",
      "7.5\n",
      "7.5\n",
      "7.5\n",
      "7.5\n",
      "7.5\n",
      "7.5\n",
      "7.5\n",
      "7.5\n",
      "7.5\n",
      "7.5\n",
      "7.5\n"
     ]
    },
    {
     "name": "stderr",
     "output_type": "stream",
     "text": [
      "4398it [00:30, 124.75it/s]"
     ]
    },
    {
     "name": "stdout",
     "output_type": "stream",
     "text": [
      "7.5\n",
      "7.5\n",
      "7.5\n"
     ]
    },
    {
     "name": "stderr",
     "output_type": "stream",
     "text": [
      "4414it [00:30, 132.62it/s]"
     ]
    },
    {
     "name": "stdout",
     "output_type": "stream",
     "text": [
      "5.0\n",
      "5.0\n",
      "5.0\n",
      "5.0\n",
      "5.0\n",
      "5.0\n",
      "5.0\n",
      "5.0\n",
      "5.0\n",
      "5.0\n",
      "5.0\n",
      "5.0\n",
      "5.0\n",
      "5.0\n",
      "5.0\n",
      "5.0\n",
      "5.0\n",
      "5.0\n",
      "5.0\n",
      "5.0\n",
      "5.0\n",
      "5.0\n",
      "5.0\n",
      "5.0\n",
      "5.0\n",
      "5.0\n",
      "5.0\n",
      "5.0\n",
      "5.0\n",
      "5.0\n",
      "5.0\n"
     ]
    },
    {
     "name": "stderr",
     "output_type": "stream",
     "text": [
      "4450it [00:30, 153.30it/s]"
     ]
    },
    {
     "name": "stdout",
     "output_type": "stream",
     "text": [
      "5.0\n",
      "5.0\n",
      "5.0\n",
      "5.0\n",
      "5.0\n",
      "5.0\n",
      "5.0\n",
      "5.0\n",
      "5.0\n",
      "5.0\n",
      "5.0\n",
      "5.0\n",
      "5.0\n",
      "5.0\n",
      "5.0\n",
      "5.0\n",
      "5.0\n",
      "5.0\n",
      "5.0\n",
      "5.0\n",
      "5.0\n",
      "5.0\n",
      "5.0\n",
      "5.0\n",
      "5.0\n",
      "5.0\n",
      "5.0\n",
      "5.0\n",
      "5.0\n",
      "5.0\n",
      "5.0\n",
      "5.0\n",
      "5.0\n"
     ]
    },
    {
     "name": "stderr",
     "output_type": "stream",
     "text": [
      "4486it [00:30, 163.62it/s]"
     ]
    },
    {
     "name": "stdout",
     "output_type": "stream",
     "text": [
      "5.0\n",
      "5.0\n",
      "5.0\n",
      "5.0\n",
      "5.0\n",
      "5.0\n",
      "5.0\n",
      "5.0\n",
      "5.0\n",
      "5.0\n",
      "5.0\n",
      "5.0\n",
      "5.0\n",
      "5.0\n",
      "5.0\n",
      "5.0\n",
      "5.0\n",
      "5.0\n",
      "5.0\n",
      "5.0\n",
      "5.0\n",
      "5.0\n",
      "5.0\n",
      "5.0\n",
      "5.0\n",
      "5.0\n",
      "5.0\n",
      "5.0\n",
      "5.0\n",
      "5.0\n",
      "5.0\n",
      "5.0\n"
     ]
    },
    {
     "name": "stderr",
     "output_type": "stream",
     "text": [
      "4521it [00:31, 166.67it/s]"
     ]
    },
    {
     "name": "stdout",
     "output_type": "stream",
     "text": [
      "5.0\n",
      "5.0\n",
      "5.0\n",
      "5.0\n",
      "5.0\n",
      "5.0\n",
      "5.0\n",
      "5.0\n",
      "5.0\n",
      "5.0\n",
      "5.0\n",
      "5.0\n",
      "5.0\n",
      "5.0\n",
      "5.0\n",
      "5.0\n",
      "5.0\n",
      "5.0\n",
      "5.0\n",
      "5.0\n",
      "5.0\n",
      "5.0\n",
      "5.0\n",
      "5.0\n",
      "5.0\n",
      "5.0\n",
      "5.0\n",
      "5.0\n",
      "5.0\n",
      "5.0\n",
      "5.0\n",
      "5.0\n"
     ]
    },
    {
     "name": "stderr",
     "output_type": "stream",
     "text": [
      "4538it [00:31, 158.71it/s]"
     ]
    },
    {
     "name": "stdout",
     "output_type": "stream",
     "text": [
      "5.0\n",
      "5.0\n",
      "5.0\n",
      "5.0\n",
      "5.0\n",
      "5.0\n",
      "5.0\n",
      "5.0\n",
      "5.0\n",
      "5.0\n",
      "5.0\n",
      "5.0\n",
      "5.0\n",
      "5.0\n",
      "5.0\n",
      "5.0\n",
      "5.0\n",
      "5.0\n",
      "5.0\n",
      "5.0\n",
      "5.0\n",
      "5.0\n",
      "5.0\n"
     ]
    },
    {
     "name": "stderr",
     "output_type": "stream",
     "text": [
      "4570it [00:31, 133.61it/s]"
     ]
    },
    {
     "name": "stdout",
     "output_type": "stream",
     "text": [
      "5.0\n",
      "5.0\n",
      "5.0\n",
      "5.0\n",
      "5.0\n",
      "5.0\n",
      "5.0\n",
      "5.0\n",
      "5.0\n",
      "5.0\n",
      "5.0\n",
      "5.0\n",
      "5.0\n",
      "5.0\n",
      "5.0\n",
      "5.0\n",
      "5.0\n",
      "5.0\n",
      "5.0\n",
      "5.0\n",
      "5.0\n"
     ]
    },
    {
     "name": "stderr",
     "output_type": "stream",
     "text": [
      "4584it [00:31, 126.92it/s]"
     ]
    },
    {
     "name": "stdout",
     "output_type": "stream",
     "text": [
      "5.0\n",
      "5.0\n",
      "5.0\n",
      "5.0\n",
      "5.0\n",
      "5.0\n",
      "5.0\n",
      "5.0\n",
      "5.0\n",
      "5.0\n",
      "5.0\n",
      "5.0\n",
      "5.0\n",
      "5.0\n",
      "5.0\n",
      "5.0\n",
      "5.0\n",
      "5.0\n",
      "5.0\n",
      "5.0\n",
      "5.0\n"
     ]
    },
    {
     "name": "stderr",
     "output_type": "stream",
     "text": [
      "4613it [00:31, 131.57it/s]"
     ]
    },
    {
     "name": "stdout",
     "output_type": "stream",
     "text": [
      "5.0\n",
      "5.0\n",
      "5.0\n",
      "5.0\n",
      "5.0\n",
      "5.0\n",
      "5.0\n",
      "3.5\n",
      "3.5\n",
      "3.5\n",
      "3.5\n",
      "3.5\n",
      "3.5\n",
      "3.5\n",
      "3.5\n",
      "3.5\n",
      "3.5\n",
      "3.5\n",
      "3.5\n",
      "3.5\n",
      "3.5\n",
      "3.5\n",
      "3.5\n",
      "3.5\n",
      "3.5\n",
      "3.5\n",
      "3.5\n",
      "3.5\n"
     ]
    },
    {
     "name": "stderr",
     "output_type": "stream",
     "text": [
      "4649it [00:32, 152.12it/s]"
     ]
    },
    {
     "name": "stdout",
     "output_type": "stream",
     "text": [
      "3.5\n",
      "3.5\n",
      "3.5\n",
      "3.5\n",
      "3.5\n",
      "3.5\n",
      "3.5\n",
      "3.5\n",
      "3.5\n",
      "3.5\n",
      "3.5\n",
      "3.5\n",
      "3.5\n",
      "3.5\n",
      "3.5\n",
      "3.5\n",
      "3.5\n",
      "3.5\n",
      "3.5\n",
      "3.5\n",
      "3.5\n",
      "3.5\n",
      "3.5\n",
      "3.5\n",
      "3.5\n",
      "3.5\n",
      "3.5\n",
      "3.5\n",
      "3.5\n",
      "3.5\n",
      "3.5\n",
      "3.5\n",
      "3.5\n"
     ]
    },
    {
     "name": "stderr",
     "output_type": "stream",
     "text": [
      "4683it [00:32, 159.93it/s]"
     ]
    },
    {
     "name": "stdout",
     "output_type": "stream",
     "text": [
      "3.5\n",
      "3.5\n",
      "3.5\n",
      "3.5\n",
      "3.5\n",
      "3.5\n",
      "3.5\n",
      "3.5\n",
      "3.5\n",
      "3.5\n",
      "3.5\n",
      "3.5\n",
      "3.5\n",
      "3.5\n",
      "3.5\n",
      "3.5\n",
      "3.5\n",
      "3.5\n",
      "3.5\n",
      "3.5\n",
      "3.5\n",
      "3.5\n",
      "3.5\n",
      "3.5\n",
      "3.5\n",
      "3.5\n",
      "3.5\n",
      "3.5\n",
      "3.5\n",
      "3.5\n",
      "3.5\n"
     ]
    },
    {
     "name": "stderr",
     "output_type": "stream",
     "text": [
      "4700it [00:32, 162.32it/s]"
     ]
    },
    {
     "name": "stdout",
     "output_type": "stream",
     "text": [
      "3.5\n",
      "3.5\n",
      "3.5\n",
      "3.5\n",
      "3.5\n",
      "3.5\n",
      "3.5\n",
      "3.5\n",
      "3.5\n",
      "3.5\n",
      "3.5\n",
      "3.5\n",
      "3.5\n",
      "3.5\n",
      "3.5\n",
      "3.5\n",
      "3.5\n",
      "3.5\n",
      "3.5\n",
      "3.5\n",
      "3.5\n",
      "3.5\n",
      "3.5\n",
      "3.5\n",
      "3.5\n",
      "3.5\n",
      "3.5\n",
      "3.5\n",
      "3.5\n",
      "3.5\n"
     ]
    },
    {
     "name": "stderr",
     "output_type": "stream",
     "text": [
      "4733it [00:32, 140.40it/s]"
     ]
    },
    {
     "name": "stdout",
     "output_type": "stream",
     "text": [
      "3.5\n",
      "3.5\n",
      "3.5\n",
      "3.5\n",
      "3.5\n",
      "3.5\n",
      "3.5\n",
      "3.5\n",
      "3.5\n",
      "3.5\n",
      "3.5\n",
      "3.5\n",
      "3.5\n",
      "3.5\n",
      "3.5\n",
      "3.5\n",
      "3.5\n",
      "3.5\n",
      "3.5\n",
      "3.5\n",
      "3.5\n"
     ]
    },
    {
     "name": "stderr",
     "output_type": "stream",
     "text": [
      "4748it [00:32, 131.78it/s]"
     ]
    },
    {
     "name": "stdout",
     "output_type": "stream",
     "text": [
      "3.5\n",
      "3.5\n",
      "3.5\n",
      "3.5\n",
      "3.5\n",
      "3.5\n",
      "3.5\n",
      "3.5\n",
      "3.5\n",
      "3.5\n",
      "3.5\n",
      "3.5\n",
      "3.5\n",
      "3.5\n",
      "3.5\n",
      "3.5\n",
      "3.5\n",
      "3.5\n",
      "3.5\n",
      "3.5\n",
      "3.5\n"
     ]
    },
    {
     "name": "stderr",
     "output_type": "stream",
     "text": [
      "4775it [00:32, 122.25it/s]"
     ]
    },
    {
     "name": "stdout",
     "output_type": "stream",
     "text": [
      "3.5\n",
      "3.5\n",
      "3.5\n",
      "3.5\n",
      "3.5\n",
      "3.5\n",
      "3.5\n",
      "3.5\n",
      "3.5\n",
      "3.5\n",
      "3.5\n",
      "3.5\n",
      "3.5\n",
      "3.5\n",
      "3.5\n",
      "3.5\n",
      "3.5\n",
      "3.5\n",
      "3.5\n",
      "3.5\n",
      "3.5\n",
      "3.5\n"
     ]
    },
    {
     "name": "stderr",
     "output_type": "stream",
     "text": [
      "4800it [00:33, 144.57it/s]"
     ]
    },
    {
     "name": "stdout",
     "output_type": "stream",
     "text": [
      "3.5\n",
      "3.5\n",
      "3.5\n",
      "3.5\n",
      "3.5\n",
      "3.5\n",
      "3.5\n",
      "3.5\n",
      "3.5\n",
      "3.5\n",
      "3.5\n",
      "3.5\n",
      "3.5\n",
      "3.5\n",
      "3.5\n",
      "3.5\n",
      "3.5\n",
      "3.5\n",
      "3.5\n",
      "3.5\n",
      "3.5\n"
     ]
    },
    {
     "name": "stderr",
     "output_type": "stream",
     "text": [
      "\n"
     ]
    }
   ],
   "source": [
    "\n",
    "results = []\n",
    "\n",
    "for i, row in tqdm.tqdm(work_df.iterrows()):\n",
    "    # create a new vessel, like the one above (so that it also has L)\n",
    "    C_year = row['C_year']\n",
    "    data_vessel_i = data_vessel.copy()\n",
    "    data_vessel_i['C_year'] = C_year\n",
    "    vessel = TransportResource(**data_vessel_i)\n",
    "    \n",
    "    V_s = row['V_s']\n",
    "    h_0 = row['h_0']\n",
    "    vessel.calculate_properties() # L is used here in the computation of L_R\n",
    "    h_0 = vessel.calculate_h_squat(v = V_s, h_0 = h_0)\n",
    "    print(h_0)\n",
    "    R_f = vessel.calculate_frictional_resistance(V_s, h_0) \n",
    "    R_f_one_k1 = vessel.calculate_viscous_resistance()\n",
    "    R_APP = vessel.calculate_appendage_resistance(V_s)\n",
    "    R_W = vessel.calculate_wave_resistance(V_s, h_0)\n",
    "    R_res = vessel.calculate_residual_resistance(V_s, h_0)\n",
    "    R_T = vessel.calculate_total_resistance(V_s, h_0)\n",
    "    P_tot = vessel.calculate_total_power_required(V_s)\n",
    "    vessel.emission_factors_general()\n",
    "    vessel.correction_factors(V_s)\n",
    "    vessel.calculate_emission_factors_total(V_s)\n",
    "    Fuel_g_m = vessel.calculate_fuel_use_g_m(V_s)\n",
    "    [emission_g_m_CO2,emission_g_m_PM10,emission_g_m_NOX] = vessel.calculate_emission_rates_g_m(V_s)\n",
    "    \n",
    "    result = {}\n",
    "    result.update(row)\n",
    "    result['P_installed'] = vessel.P_installed\n",
    "    result['R_f_one_k1'] = R_f_one_k1\n",
    "    result['R_APP'] = R_APP\n",
    "    result['R_W'] = R_W\n",
    "    result['R_res'] = R_res\n",
    "    result['R_T'] = R_T\n",
    "    result['P_tot'] = P_tot\n",
    "    result['Fuel_g_km'] = Fuel_g_m * 1000\n",
    "    result['emission_g_km_CO2'] = emission_g_m_CO2 * 1000\n",
    "    result['emission_g_km_PM10'] = emission_g_m_PM10 * 1000\n",
    "    result['emission_g_km_NOX'] = emission_g_m_NOX * 1000\n",
    "    results.append(result)"
   ]
  },
  {
   "cell_type": "code",
   "execution_count": 8,
   "id": "7a733cd4",
   "metadata": {},
   "outputs": [
    {
     "data": {
      "text/html": [
       "<div>\n",
       "<style scoped>\n",
       "    .dataframe tbody tr th:only-of-type {\n",
       "        vertical-align: middle;\n",
       "    }\n",
       "\n",
       "    .dataframe tbody tr th {\n",
       "        vertical-align: top;\n",
       "    }\n",
       "\n",
       "    .dataframe thead th {\n",
       "        text-align: right;\n",
       "    }\n",
       "</style>\n",
       "<table border=\"1\" class=\"dataframe\">\n",
       "  <thead>\n",
       "    <tr style=\"text-align: right;\">\n",
       "      <th></th>\n",
       "      <th>C_year</th>\n",
       "      <th>h_0</th>\n",
       "      <th>V_s</th>\n",
       "      <th>P_installed</th>\n",
       "      <th>R_f_one_k1</th>\n",
       "      <th>R_APP</th>\n",
       "      <th>R_W</th>\n",
       "      <th>R_res</th>\n",
       "      <th>R_T</th>\n",
       "      <th>P_tot</th>\n",
       "      <th>Fuel_g_km</th>\n",
       "      <th>emission_g_km_CO2</th>\n",
       "      <th>emission_g_km_PM10</th>\n",
       "      <th>emission_g_km_NOX</th>\n",
       "      <th>V_s_km</th>\n",
       "    </tr>\n",
       "  </thead>\n",
       "  <tbody>\n",
       "    <tr>\n",
       "      <th>0</th>\n",
       "      <td>1970.0</td>\n",
       "      <td>10.0</td>\n",
       "      <td>0.100000</td>\n",
       "      <td>2200.0</td>\n",
       "      <td>0.034195</td>\n",
       "      <td>0.003647</td>\n",
       "      <td>2.338200e-88</td>\n",
       "      <td>0.012007</td>\n",
       "      <td>0.049849</td>\n",
       "      <td>110.008794</td>\n",
       "      <td>89763.890386</td>\n",
       "      <td>288772.345241</td>\n",
       "      <td>447.357222</td>\n",
       "      <td>6039.353504</td>\n",
       "      <td>0.360000</td>\n",
       "    </tr>\n",
       "    <tr>\n",
       "      <th>1</th>\n",
       "      <td>1970.0</td>\n",
       "      <td>10.0</td>\n",
       "      <td>0.139698</td>\n",
       "      <td>2200.0</td>\n",
       "      <td>0.062944</td>\n",
       "      <td>0.006714</td>\n",
       "      <td>1.351710e-64</td>\n",
       "      <td>0.023392</td>\n",
       "      <td>0.093049</td>\n",
       "      <td>110.022931</td>\n",
       "      <td>64263.439925</td>\n",
       "      <td>206736.853544</td>\n",
       "      <td>320.258018</td>\n",
       "      <td>4323.541119</td>\n",
       "      <td>0.502915</td>\n",
       "    </tr>\n",
       "    <tr>\n",
       "      <th>2</th>\n",
       "      <td>1970.0</td>\n",
       "      <td>10.0</td>\n",
       "      <td>0.179397</td>\n",
       "      <td>2200.0</td>\n",
       "      <td>0.099453</td>\n",
       "      <td>0.010608</td>\n",
       "      <td>5.948859e-51</td>\n",
       "      <td>0.038507</td>\n",
       "      <td>0.148568</td>\n",
       "      <td>110.047018</td>\n",
       "      <td>50053.283455</td>\n",
       "      <td>161022.477839</td>\n",
       "      <td>249.425060</td>\n",
       "      <td>3367.330738</td>\n",
       "      <td>0.645829</td>\n",
       "    </tr>\n",
       "    <tr>\n",
       "      <th>3</th>\n",
       "      <td>1970.0</td>\n",
       "      <td>10.0</td>\n",
       "      <td>0.219095</td>\n",
       "      <td>2200.0</td>\n",
       "      <td>0.143433</td>\n",
       "      <td>0.015299</td>\n",
       "      <td>4.713176e-42</td>\n",
       "      <td>0.057335</td>\n",
       "      <td>0.216066</td>\n",
       "      <td>110.083511</td>\n",
       "      <td>40997.151409</td>\n",
       "      <td>131888.708362</td>\n",
       "      <td>204.276293</td>\n",
       "      <td>2757.864410</td>\n",
       "      <td>0.788744</td>\n",
       "    </tr>\n",
       "    <tr>\n",
       "      <th>4</th>\n",
       "      <td>1970.0</td>\n",
       "      <td>10.0</td>\n",
       "      <td>0.258794</td>\n",
       "      <td>2200.0</td>\n",
       "      <td>0.194666</td>\n",
       "      <td>0.020764</td>\n",
       "      <td>9.051534e-36</td>\n",
       "      <td>0.079854</td>\n",
       "      <td>0.295284</td>\n",
       "      <td>110.134808</td>\n",
       "      <td>34723.923329</td>\n",
       "      <td>111707.600155</td>\n",
       "      <td>172.994502</td>\n",
       "      <td>2335.609618</td>\n",
       "      <td>0.931658</td>\n",
       "    </tr>\n",
       "    <tr>\n",
       "      <th>...</th>\n",
       "      <td>...</td>\n",
       "      <td>...</td>\n",
       "      <td>...</td>\n",
       "      <td>...</td>\n",
       "      <td>...</td>\n",
       "      <td>...</td>\n",
       "      <td>...</td>\n",
       "      <td>...</td>\n",
       "      <td>...</td>\n",
       "      <td>...</td>\n",
       "      <td>...</td>\n",
       "      <td>...</td>\n",
       "      <td>...</td>\n",
       "      <td>...</td>\n",
       "      <td>...</td>\n",
       "    </tr>\n",
       "    <tr>\n",
       "      <th>95</th>\n",
       "      <td>1970.0</td>\n",
       "      <td>10.0</td>\n",
       "      <td>3.871357</td>\n",
       "      <td>2200.0</td>\n",
       "      <td>29.124258</td>\n",
       "      <td>3.106485</td>\n",
       "      <td>2.592475e+00</td>\n",
       "      <td>15.008164</td>\n",
       "      <td>49.831381</td>\n",
       "      <td>450.319691</td>\n",
       "      <td>8717.897945</td>\n",
       "      <td>28045.663176</td>\n",
       "      <td>22.942996</td>\n",
       "      <td>382.549435</td>\n",
       "      <td>13.936884</td>\n",
       "    </tr>\n",
       "    <tr>\n",
       "      <th>96</th>\n",
       "      <td>1970.0</td>\n",
       "      <td>10.0</td>\n",
       "      <td>3.911055</td>\n",
       "      <td>2200.0</td>\n",
       "      <td>29.684104</td>\n",
       "      <td>3.166200</td>\n",
       "      <td>2.784446e+00</td>\n",
       "      <td>15.285450</td>\n",
       "      <td>50.920200</td>\n",
       "      <td>461.321725</td>\n",
       "      <td>8824.836447</td>\n",
       "      <td>28389.686613</td>\n",
       "      <td>23.127325</td>\n",
       "      <td>386.502162</td>\n",
       "      <td>14.079799</td>\n",
       "    </tr>\n",
       "    <tr>\n",
       "      <th>97</th>\n",
       "      <td>1970.0</td>\n",
       "      <td>10.0</td>\n",
       "      <td>3.950754</td>\n",
       "      <td>2200.0</td>\n",
       "      <td>30.248928</td>\n",
       "      <td>3.226445</td>\n",
       "      <td>2.987091e+00</td>\n",
       "      <td>15.564582</td>\n",
       "      <td>52.027047</td>\n",
       "      <td>472.601913</td>\n",
       "      <td>8933.761927</td>\n",
       "      <td>28740.102200</td>\n",
       "      <td>23.311643</td>\n",
       "      <td>390.502161</td>\n",
       "      <td>14.222714</td>\n",
       "    </tr>\n",
       "    <tr>\n",
       "      <th>98</th>\n",
       "      <td>1970.0</td>\n",
       "      <td>10.0</td>\n",
       "      <td>3.990452</td>\n",
       "      <td>2200.0</td>\n",
       "      <td>30.818723</td>\n",
       "      <td>3.287222</td>\n",
       "      <td>3.250155e+00</td>\n",
       "      <td>15.907966</td>\n",
       "      <td>53.264066</td>\n",
       "      <td>484.953478</td>\n",
       "      <td>9058.233092</td>\n",
       "      <td>29140.528585</td>\n",
       "      <td>23.523720</td>\n",
       "      <td>395.084111</td>\n",
       "      <td>14.365628</td>\n",
       "    </tr>\n",
       "    <tr>\n",
       "      <th>99</th>\n",
       "      <td>1970.0</td>\n",
       "      <td>10.0</td>\n",
       "      <td>4.030151</td>\n",
       "      <td>2200.0</td>\n",
       "      <td>31.393483</td>\n",
       "      <td>3.348527</td>\n",
       "      <td>3.442728e+00</td>\n",
       "      <td>16.149230</td>\n",
       "      <td>54.333968</td>\n",
       "      <td>496.290177</td>\n",
       "      <td>9162.104200</td>\n",
       "      <td>29474.684148</td>\n",
       "      <td>23.688431</td>\n",
       "      <td>398.814278</td>\n",
       "      <td>14.508543</td>\n",
       "    </tr>\n",
       "  </tbody>\n",
       "</table>\n",
       "<p>100 rows × 15 columns</p>\n",
       "</div>"
      ],
      "text/plain": [
       "    C_year   h_0       V_s  P_installed  R_f_one_k1     R_APP           R_W  \\\n",
       "0   1970.0  10.0  0.100000       2200.0    0.034195  0.003647  2.338200e-88   \n",
       "1   1970.0  10.0  0.139698       2200.0    0.062944  0.006714  1.351710e-64   \n",
       "2   1970.0  10.0  0.179397       2200.0    0.099453  0.010608  5.948859e-51   \n",
       "3   1970.0  10.0  0.219095       2200.0    0.143433  0.015299  4.713176e-42   \n",
       "4   1970.0  10.0  0.258794       2200.0    0.194666  0.020764  9.051534e-36   \n",
       "..     ...   ...       ...          ...         ...       ...           ...   \n",
       "95  1970.0  10.0  3.871357       2200.0   29.124258  3.106485  2.592475e+00   \n",
       "96  1970.0  10.0  3.911055       2200.0   29.684104  3.166200  2.784446e+00   \n",
       "97  1970.0  10.0  3.950754       2200.0   30.248928  3.226445  2.987091e+00   \n",
       "98  1970.0  10.0  3.990452       2200.0   30.818723  3.287222  3.250155e+00   \n",
       "99  1970.0  10.0  4.030151       2200.0   31.393483  3.348527  3.442728e+00   \n",
       "\n",
       "        R_res        R_T       P_tot     Fuel_g_km  emission_g_km_CO2  \\\n",
       "0    0.012007   0.049849  110.008794  89763.890386      288772.345241   \n",
       "1    0.023392   0.093049  110.022931  64263.439925      206736.853544   \n",
       "2    0.038507   0.148568  110.047018  50053.283455      161022.477839   \n",
       "3    0.057335   0.216066  110.083511  40997.151409      131888.708362   \n",
       "4    0.079854   0.295284  110.134808  34723.923329      111707.600155   \n",
       "..        ...        ...         ...           ...                ...   \n",
       "95  15.008164  49.831381  450.319691   8717.897945       28045.663176   \n",
       "96  15.285450  50.920200  461.321725   8824.836447       28389.686613   \n",
       "97  15.564582  52.027047  472.601913   8933.761927       28740.102200   \n",
       "98  15.907966  53.264066  484.953478   9058.233092       29140.528585   \n",
       "99  16.149230  54.333968  496.290177   9162.104200       29474.684148   \n",
       "\n",
       "    emission_g_km_PM10  emission_g_km_NOX     V_s_km  \n",
       "0           447.357222        6039.353504   0.360000  \n",
       "1           320.258018        4323.541119   0.502915  \n",
       "2           249.425060        3367.330738   0.645829  \n",
       "3           204.276293        2757.864410   0.788744  \n",
       "4           172.994502        2335.609618   0.931658  \n",
       "..                 ...                ...        ...  \n",
       "95           22.942996         382.549435  13.936884  \n",
       "96           23.127325         386.502162  14.079799  \n",
       "97           23.311643         390.502161  14.222714  \n",
       "98           23.523720         395.084111  14.365628  \n",
       "99           23.688431         398.814278  14.508543  \n",
       "\n",
       "[100 rows x 15 columns]"
      ]
     },
     "execution_count": 8,
     "metadata": {},
     "output_type": "execute_result"
    }
   ],
   "source": [
    "plot_df = pd.DataFrame(results)\n",
    "\n",
    "\n",
    "# convert from meters per second to km per hour\n",
    "ms_to_kmh = 3.6\n",
    "plot_df['V_s_km'] = plot_df['V_s'] * ms_to_kmh\n",
    "\n",
    "plot_df.head(100)"
   ]
  },
  {
   "cell_type": "markdown",
   "id": "aaeacf7c",
   "metadata": {},
   "source": [
    "### Figures output"
   ]
  },
  {
   "cell_type": "markdown",
   "id": "2c4394df",
   "metadata": {},
   "source": [
    "### Figure 3: Components of the total resistance"
   ]
  },
  {
   "cell_type": "code",
   "execution_count": 9,
   "id": "01f8b17d",
   "metadata": {},
   "outputs": [
    {
     "data": {
      "image/png": "[encoded data removed]",
      "text/plain": [
       "<Figure size 432x288 with 1 Axes>"
      ]
     },
     "metadata": {
      "needs_background": "light"
     },
     "output_type": "display_data"
    }
   ],
   "source": [
    "# resistance for water depth h_0 = 7.5 m, 1990\n",
    "selected = plot_df.query('C_year == 1990 and h_0 == 7.5')\n",
    "\n",
    "plt.figure(figsize=(6,4))\n",
    "plt.plot(selected['V_s_km'], selected['R_T'], color='#0165fc', linewidth = 2.5)       # RT, total resistance of the ship,[kN] \n",
    "plt.plot(selected['V_s_km'], selected['R_f_one_k1'],color='#ff9408', linewidth = 1.7) # Rf(1+k1), frictional resistance including the hull form factor\n",
    "plt.plot(selected['V_s_km'], selected['R_APP'],'-.', color='#76cd26',linewidth = 2)   # Rapp, appendage resistance\n",
    "plt.plot(selected['V_s_km'], selected['R_W'], 'r--', linewidth = 2)                   # Rw, wave resistance\n",
    "plt.plot(selected['V_s_km'], selected['R_res'],':',color='#aa23ff', linewidth = 2) # Rres, residual resistance\n",
    "plt.grid()\n",
    "plt.xlim(0, 18)\n",
    "plt.ylim(0, 120)\n",
    "plt.legend(['$R_T$', '$R_f$$\\ $(1+$k_1$)', '$R_{app}$', '$R_W$','$R_{res}$'])\n",
    "plt.xlabel('Relative vessel speed (km/h)',fontsize=10,weight='bold',labelpad=3)\n",
    "plt.ylabel('Resistance (kN)',fontsize=10,weight='bold',labelpad=3)\n",
    "plt.xticks( weight = 'bold')\n",
    "plt.yticks( weight = 'bold')\n",
    "\n",
    "plt.title('M9 vessel: L$_s$ = 135 m, B$_s$ = 11.45 m, T$_s$ = 2.75 m; h$_0$ = 7.5 m',y=1.05)\n",
    "plt.savefig('Fig_03.pdf', dpi=600, format='pdf') \n"
   ]
  },
  {
   "cell_type": "markdown",
   "id": "440b9eae",
   "metadata": {},
   "source": [
    "### Figure 5: Total required power"
   ]
  },
  {
   "cell_type": "code",
   "execution_count": 10,
   "id": "50e775d3",
   "metadata": {},
   "outputs": [
    {
     "data": {
      "image/png": "[encoded data removed]",
      "text/plain": [
       "<Figure size 432x288 with 1 Axes>"
      ]
     },
     "metadata": {
      "needs_background": "light"
     },
     "output_type": "display_data"
    }
   ],
   "source": [
    "\n",
    "plt.figure(figsize = (6,4))\n",
    "selected = plot_df.query('C_year == 1990 and h_0 == 10 and P_tot < P_installed')\n",
    "plt.plot(selected['V_s_km'], selected['P_tot'],'--', color='navy',linewidth = 2.0)\n",
    "selected = plot_df.query('C_year == 1990 and h_0 == 7.5 and P_tot < P_installed')\n",
    "plt.plot(selected['V_s_km'], selected['P_tot'],'-.', color='royalblue',linewidth = 2.0)\n",
    "selected = plot_df.query('C_year == 1990 and h_0 == 5 and P_tot < P_installed')\n",
    "plt.plot(selected['V_s_km'], selected['P_tot'],'--', color='lightcoral',linewidth = 2.0)\n",
    "selected = plot_df.query('C_year == 1990 and h_0 == 3.5 and P_tot < P_installed')\n",
    "plt.plot(selected['V_s_km'], selected['P_tot'],':', color='indianred',linewidth = 2.0)\n",
    "\n",
    "plt.grid()\n",
    "plt.xlim(10, 18)\n",
    "plt.ylim(0, 2000)\n",
    "plt.legend(['$h_0$ = 10 m', '$h_0$ = 7.5 m', '$h_0$ = 5 m', '$h_0$ = 3.5 m'])\n",
    "\n",
    "plt.xlabel('Relative vessel speed (km/h)',fontsize=10,weight='bold',labelpad=3)\n",
    "plt.ylabel('Power (kW)',fontsize=10,weight='bold',labelpad=3)\n",
    "plt.xticks( weight = 'bold')\n",
    "plt.yticks( weight = 'bold')\n",
    "plt.title('M9 vessel: L$_s$ = 135 m, B$_s$ = 11.45 m, T$_s$ = 2.75 m, P$_{installed}$= 2200 kW' ,y=1.05)\n",
    "plt.savefig('Fig_05.pdf', dpi=600, format='pdf') \n"
   ]
  },
  {
   "cell_type": "markdown",
   "id": "6e22c757-9a01-4168-a113-bb549c25e8e8",
   "metadata": {},
   "source": [
    "### Figure 7: validation_total power required versus speed with diff water depths (add DST results to Fig.5, but squatting is disabled)"
   ]
  },
  {
   "cell_type": "code",
   "execution_count": 11,
   "id": "bd4cfe61-8806-4dd5-84d9-a435186a9666",
   "metadata": {},
   "outputs": [
    {
     "data": {
      "image/png": "[encoded data removed]",
      "text/plain": [
       "<Figure size 432x288 with 1 Axes>"
      ]
     },
     "metadata": {
      "needs_background": "light"
     },
     "output_type": "display_data"
    }
   ],
   "source": [
    "from scipy.interpolate import make_interp_spline, BSpline\n",
    "\n",
    "plt.figure(figsize = (6,4))\n",
    "V_DST_1=np.array([10,11,12,13,14,15,16,17,18]) # deep water\n",
    "P_DST_1=np.array([180,240,300,400,500,640,800,1000,1200])\n",
    "V_DST_2=np.array([10,11,12,13,14,15,16,17,18]) # h=7.5 m\n",
    "P_DST_2=np.array([230,300,380,490,600,780,1000,1300,1600])\n",
    "V_DST_3=np.array([10,11,12,13,14,15,15.65,16,16.5,16.7]) # h=5 m\n",
    "P_DST_3=np.array([275,360,470,600,800,1000,1200,1400,1800,2005])\n",
    "V_DST_4=np.array([10,10.5,11,11.5,12,12.5,13]) # h=3.5 m\n",
    "P_DST_4=np.array([350,450,535,685,1000,1800,3000])\n",
    "#define spline, make the lines smooth\n",
    "V_DST_1_new = np.linspace(V_DST_1.min(), V_DST_1.max(), 200) \n",
    "V_DST_2_new = np.linspace(V_DST_2.min(), V_DST_2.max(), 200) \n",
    "V_DST_3_new = np.linspace(V_DST_3.min(), V_DST_3.max(), 200) \n",
    "V_DST_4_new = np.linspace(V_DST_4.min(), V_DST_4.max(), 200) \n",
    "\n",
    "spl1= make_interp_spline(V_DST_1,P_DST_1, k=3)\n",
    "P_DST_1_new = spl1(V_DST_1_new)\n",
    "spl2= make_interp_spline(V_DST_2,P_DST_2, k=3)\n",
    "P_DST_2_new = spl2(V_DST_2_new)\n",
    "spl3= make_interp_spline(V_DST_3,P_DST_3, k=3)\n",
    "P_DST_3_new = spl3(V_DST_3_new)\n",
    "spl4= make_interp_spline(V_DST_4,P_DST_4, k=3)\n",
    "P_DST_4_new = spl4(V_DST_4_new)\n",
    "                 \n",
    "plt.plot(V_DST_1_new,P_DST_1_new,color='navy',linewidth = 3.0)\n",
    "plt.plot(V_DST_2_new,P_DST_2_new,color='royalblue',linewidth = 3.0)\n",
    "plt.plot(V_DST_3_new,P_DST_3_new,color='lightcoral',linewidth = 3.0)\n",
    "plt.plot(V_DST_4_new,P_DST_4_new,color='indianred',linewidth = 3.0)\n",
    "\n",
    "selected = plot_df.query('C_year == 1990 and h_0 == 10 and P_tot < P_installed')\n",
    "plt.plot(selected['V_s_km'], selected['P_tot'],'--', color='navy',linewidth = 2.0)\n",
    "selected = plot_df.query('C_year == 1990 and h_0 == 7.5 and P_tot < P_installed')\n",
    "plt.plot(selected['V_s_km'], selected['P_tot'],'-.', color='royalblue',linewidth = 2.0)\n",
    "selected = plot_df.query('C_year == 1990 and h_0 == 5 and P_tot < P_installed')\n",
    "plt.plot(selected['V_s_km'], selected['P_tot'],'--', color='lightcoral',linewidth = 2.0)\n",
    "selected = plot_df.query('C_year == 1990 and h_0 == 3.5 and P_tot < P_installed')\n",
    "plt.plot(selected['V_s_km'], selected['P_tot'],':', color='indianred',linewidth = 2.0)\n",
    "plt.grid()\n",
    "plt.xlim(10, 18)\n",
    "plt.ylim(0, 2000)\n",
    "plt.legend(['CFD (Ziggic, 2007), deep water', 'CFD (Ziggic, 2007), $h_0$ = 7.5 m', 'CFD (Ziggic, 2007), $h_0$ = 5 m', 'CFD (Ziggic, 2007), $h_0$ = 3.5 m',\n",
    "        'OpenTNSim v1.1, $h_0$ = 10 m', 'OpenTNSim v1.1, $h_0$ = 7.5 m', 'OpenTNSim v1.1, $h_0$ = 5 m', 'OpenTNSim v1.1, $h_0$ = 3.5 m'],loc=(1.04,0.2))\n",
    "\n",
    "plt.xlabel('Relative vessel speed (km/h)',fontsize=10,weight='bold',labelpad=3)\n",
    "plt.ylabel('Power (kW)',fontsize=10,weight='bold',labelpad=3)\n",
    "\n",
    "plt.xticks( weight = 'bold')\n",
    "plt.yticks( weight = 'bold')\n",
    "plt.title('M9 vessel: L$_s$ = 135 m, B$_s$ = 11.45 m, T$_s$ = 2.75 m, P$_{installed}$= 2200 kW',y=1.05)\n",
    "plt.savefig('Fig_07.pdf',bbox_inches = 'tight',dpi=600, format='pdf') \n"
   ]
  },
  {
   "cell_type": "markdown",
   "id": "c442198e",
   "metadata": {},
   "source": [
    "### Figure 8: Emissions as a function of vessel speed: emission rates in g/km versus speed for different water depths"
   ]
  },
  {
   "cell_type": "code",
   "execution_count": 12,
   "id": "7659987c",
   "metadata": {},
   "outputs": [
    {
     "data": {
      "image/png": "[encoded data removed]",
      "text/plain": [
       "<Figure size 864x216 with 3 Axes>"
      ]
     },
     "metadata": {
      "needs_background": "light"
     },
     "output_type": "display_data"
    }
   ],
   "source": [
    "fig, axs = plt.subplots(1, 3, figsize=(12, 3),constrained_layout=True)\n",
    "fontsize=10\n",
    "\n",
    "\n",
    "ax=plt.subplot(131)\n",
    "# Select data for this subplot/line\n",
    "selected = plot_df.query('C_year == 1990 and h_0 == 10 and P_tot < P_installed')\n",
    "plt.plot(selected['V_s_km'], selected['emission_g_km_CO2'], 'yellow',linewidth = 2.0)\n",
    "\n",
    "# Select data for this subplot/line\n",
    "selected = plot_df.query('C_year == 1990 and h_0 == 7.5 and P_tot < P_installed')\n",
    "plt.plot(selected['V_s_km'], selected['emission_g_km_CO2'], 'orange',linewidth = 2.0)\n",
    "\n",
    "# Select data for this subplot/line\n",
    "selected = plot_df.query('C_year == 1990 and h_0 == 5 and P_tot < P_installed')\n",
    "plt.plot(selected['V_s_km'], selected['emission_g_km_CO2'], 'red',linewidth = 2.0)\n",
    "\n",
    "# Select data for this subplot/line\n",
    "selected = plot_df.query('C_year == 1990 and h_0 == 3.5 and P_tot < P_installed')\n",
    "plt.plot(selected['V_s_km'], selected['emission_g_km_CO2'], 'darkred',linewidth = 2.0)\n",
    "\n",
    "plt.legend(['$h_0$ = 10 m', '$h_0$ = 7.5 m', '$h_0$ = 5 m', '$h_0$ = 3.5 m'],loc='upper center')\n",
    "plt.grid()\n",
    "plt.xlim(0, 18)  #  set vessel speed range (km/h) for inland shipping\n",
    "plt.ylim(0, 300000)\n",
    "plt.xlabel('Relative vessel speed (km/h)',fontsize=10,weight='bold',labelpad=3)\n",
    "plt.ylabel('CO2 emission rate (g/km)',fontsize=10,weight='bold',labelpad=3)\n",
    "plt.xticks([0,5,10,15,18], weight = 'bold')\n",
    "plt.yticks( weight = 'bold')\n",
    "\n",
    "\n",
    "ax=plt.subplot(132)\n",
    "\n",
    "# Select data for this subplot/line\n",
    "selected = plot_df.query('C_year == 1990 and h_0 == 10 and P_tot < P_installed')\n",
    "plt.plot(selected['V_s_km'], selected['emission_g_km_PM10'], 'paleturquoise',linewidth = 2.0)\n",
    "\n",
    "# Select data for this subplot/line\n",
    "selected = plot_df.query('C_year == 1990 and h_0 == 7.5 and P_tot < P_installed')\n",
    "plt.plot(selected['V_s_km'], selected['emission_g_km_PM10'], 'mediumspringgreen',linewidth = 2.0)\n",
    "\n",
    "# Select data for this subplot/line\n",
    "selected = plot_df.query('C_year == 1990 and h_0 == 5 and P_tot < P_installed')\n",
    "plt.plot(selected['V_s_km'], selected['emission_g_km_PM10'], 'mediumseagreen',linewidth = 2.0)\n",
    "\n",
    "# Select data for this subplot/line\n",
    "selected = plot_df.query('C_year == 1990 and h_0 == 3.5 and P_tot < P_installed')\n",
    "plt.plot(selected['V_s_km'], selected['emission_g_km_PM10'], 'darkgreen',linewidth = 2.0)\n",
    "\n",
    "plt.legend(['$h_0$ = 10 m', '$h_0$ = 7.5 m', '$h_0$ = 5 m', '$h_0$ = 3.5 m'],loc='upper center')\n",
    "plt.grid()\n",
    "plt.xlim(0, 18)\n",
    "plt.ylim(0, 350)\n",
    "plt.xlabel('Relative vessel speed (km/h)',fontsize=10,weight='bold',labelpad=3)\n",
    "plt.ylabel('PM10 emission rate (g/km)',fontsize=10,weight='bold',labelpad=3)\n",
    "plt.xticks([0,5,10,15,18], weight = 'bold')\n",
    "plt.yticks( weight = 'bold')\n",
    "plt.title('M9 vessel: L$_s$ = 135 m, B$_s$ = 11.45 m, T$_s$ = 2.75 m, C$_{year}$= 1990, P$_{installed}$= 2200 kW',y=1.05)\n",
    "\n",
    "ax=plt.subplot(133)\n",
    "# Select data for this subplot/line\n",
    "selected = plot_df.query('C_year == 1990 and h_0 == 10 and P_tot < P_installed')\n",
    "plt.plot(selected['V_s_km'], selected['emission_g_km_NOX'], 'pink',linewidth = 2.0)\n",
    "\n",
    "# Select data for this subplot/line\n",
    "selected = plot_df.query('C_year == 1990 and h_0 == 7.5 and P_tot < P_installed')\n",
    "plt.plot(selected['V_s_km'], selected['emission_g_km_NOX'], 'hotpink',linewidth = 2.0)\n",
    "\n",
    "# Select data for this subplot/line\n",
    "selected = plot_df.query('C_year == 1990 and h_0 == 5 and P_tot < P_installed')\n",
    "plt.plot(selected['V_s_km'], selected['emission_g_km_NOX'], 'deeppink',linewidth = 2.0)\n",
    "\n",
    "# Select data for this subplot/line\n",
    "selected = plot_df.query('C_year == 1990 and h_0 == 3.5 and P_tot < P_installed')\n",
    "plt.plot(selected['V_s_km'], selected['emission_g_km_NOX'], 'purple',linewidth = 2.0)\n",
    "\n",
    "plt.legend(['$h_0$ = 10 m', '$h_0$ = 7.5 m', '$h_0$ = 5 m', '$h_0$ = 3.5 m'],loc='upper center')\n",
    "plt.grid()\n",
    "plt.xlim(0, 18)\n",
    "plt.ylim(0, 6000)\n",
    "plt.xlabel('Relative vessel speed (km/h)',fontsize=10, weight='bold',labelpad=3)\n",
    "plt.ylabel('NOx emission rate (g/km)',fontsize=10,weight='bold',labelpad=3)\n",
    "plt.xticks([0,5,10,15,18], weight = 'bold')\n",
    "plt.yticks( weight = 'bold')\n",
    "\n",
    "\n",
    "plt.savefig('Fig_08.pdf', dpi=600, format='pdf')  \n"
   ]
  },
  {
   "cell_type": "markdown",
   "id": "c6f3b73e",
   "metadata": {},
   "source": [
    "### Figure 9: Emissions as a function of engine age: emission rates in g/km versus speed for different engine ages\n"
   ]
  },
  {
   "cell_type": "code",
   "execution_count": 13,
   "id": "19028dfe",
   "metadata": {},
   "outputs": [
    {
     "data": {
      "image/png": "[encoded data removed]",
      "text/plain": [
       "<Figure size 864x237.6 with 3 Axes>"
      ]
     },
     "metadata": {
      "needs_background": "light"
     },
     "output_type": "display_data"
    }
   ],
   "source": [
    "fig, axs = plt.subplots(1, 3, figsize=(12, 3.3),constrained_layout=True)\n",
    "fontsize=10\n",
    "\n",
    "ax=plt.subplot(131)\n",
    "# Select data for this subplot/line\n",
    "selected = plot_df.query('C_year == 1970 and h_0 == 10 and P_tot < P_installed')\n",
    "plt.plot(selected['V_s_km'], selected['emission_g_km_CO2'], 'darkred',linewidth = 2.0)   \n",
    "\n",
    "selected = plot_df.query('C_year == 1980 and h_0 == 10 and P_tot < P_installed')\n",
    "plt.plot(selected['V_s_km'], selected['emission_g_km_CO2'], 'red',linewidth = 2.0)      \n",
    "\n",
    "selected = plot_df.query('C_year == 1990 and h_0 == 10 and P_tot < P_installed')\n",
    "plt.plot(selected['V_s_km'], selected['emission_g_km_CO2'], 'darkorange',linewidth = 2.0)\n",
    "\n",
    "selected = plot_df.query('C_year == 2000 and h_0 == 10 and P_tot < P_installed')\n",
    "plt.plot(selected['V_s_km'], selected['emission_g_km_CO2'], 'orange',linewidth = 2.0)    \n",
    "\n",
    "selected = plot_df.query('C_year == 2010 and h_0 == 10 and P_tot < P_installed')\n",
    "plt.plot(selected['V_s_km'], selected['emission_g_km_CO2'], 'gold',linewidth = 2.0)      \n",
    "\n",
    "selected = plot_df.query('C_year == 2020 and h_0 == 10 and P_tot < P_installed')\n",
    "plt.plot(selected['V_s_km'], selected['emission_g_km_CO2'], 'yellow',linewidth = 2.0)    \n",
    "\n",
    "plt.legend(['$C_{year}$ = 1970', '$C_{year}$ = 1980', '$C_{year}$ = 1990', '$C_{year}$ = 2000', \n",
    "            '$C_{year}$ = 2010', '$C_{year}$ = 2020'],loc='upper center')\n",
    "plt.grid()\n",
    "plt.xlim(0, 18)\n",
    "plt.ylim(0, 100000)\n",
    "plt.xlabel('Relative vessel speed (km/h)',fontsize=10, weight='bold',labelpad=3)\n",
    "plt.ylabel('CO2 emission rate (g/km)',fontsize=10,weight='bold',labelpad=3)\n",
    "plt.xticks([0,5,10,15,18],weight = 'bold')\n",
    "plt.yticks( weight = 'bold')\n",
    "\n",
    "ax=plt.subplot(132)\n",
    "selected = plot_df.query('C_year == 1970 and h_0 == 10 and P_tot < P_installed')\n",
    "plt.plot(selected['V_s_km'], selected['emission_g_km_PM10'], 'darkgreen',linewidth = 2.0)\n",
    "\n",
    "selected = plot_df.query('C_year == 1980 and h_0 == 10 and P_tot < P_installed')\n",
    "plt.plot(selected['V_s_km'], selected['emission_g_km_PM10'], 'seagreen',linewidth = 2.0)\n",
    "\n",
    "selected = plot_df.query('C_year == 1990 and h_0 == 10 and P_tot < P_installed')\n",
    "plt.plot(selected['V_s_km'], selected['emission_g_km_PM10'], 'mediumseagreen',linewidth = 2.0)\n",
    "\n",
    "selected = plot_df.query('C_year == 2000 and h_0 == 10 and P_tot < P_installed')\n",
    "plt.plot(selected['V_s_km'], selected['emission_g_km_PM10'], 'mediumspringgreen')\n",
    "\n",
    "selected = plot_df.query('C_year == 2010 and h_0 == 10 and P_tot < P_installed')\n",
    "plt.plot(selected['V_s_km'], selected['emission_g_km_PM10'], 'aquamarine',linewidth = 2.0)\n",
    "\n",
    "selected = plot_df.query('C_year == 2020 and h_0 == 10 and P_tot < P_installed')\n",
    "plt.plot(selected['V_s_km'], selected['emission_g_km_PM10'], 'paleturquoise',linewidth = 2.0)\n",
    "\n",
    "plt.legend(['$C_{year}$ = 1970', '$C_{year}$ = 1980', '$C_{year}$ = 1990', '$C_{year}$ = 2000', \n",
    "            '$C_{year}$ = 2010', '$C_{year}$ = 2020'],loc='upper center')\n",
    "plt.grid()\n",
    "plt.xlim(0, 18)\n",
    "plt.ylim(0, 100)\n",
    "plt.xlabel('Relative vessel speed (km/h)',fontsize=10, weight='bold',labelpad=3)\n",
    "plt.ylabel('PM10 emission rate (g/km)',fontsize=10,weight='bold',labelpad=3)\n",
    "plt.xticks([0,5,10,15,18], weight = 'bold')\n",
    "plt.yticks( weight = 'bold')\n",
    "plt.title('M9 vessel: L$_s$ = 135 m, B$_s$ = 11.45 m, T$_s$ = 2.75 m, P$_{installed}$= 2200 kW; h$_0$ = 10 m',y=1.05)\n",
    "\n",
    "ax=plt.subplot(133)\n",
    "selected = plot_df.query('C_year == 1970 and h_0 == 10 and P_tot < P_installed')\n",
    "plt.plot(selected['V_s_km'], selected['emission_g_km_NOX'], 'purple',linewidth = 2.0)\n",
    "\n",
    "selected = plot_df.query('C_year == 1980 and h_0 == 10 and P_tot < P_installed')\n",
    "plt.plot(selected['V_s_km'], selected['emission_g_km_NOX'], 'darkmagenta',linewidth = 2.0)\n",
    "\n",
    "selected = plot_df.query('C_year == 1990 and h_0 == 10 and P_tot < P_installed')\n",
    "plt.plot(selected['V_s_km'], selected['emission_g_km_NOX'], 'orchid',linewidth = 2.0)\n",
    "\n",
    "selected = plot_df.query('C_year == 2000 and h_0 == 10 and P_tot < P_installed')\n",
    "plt.plot(selected['V_s_km'], selected['emission_g_km_NOX'], 'deeppink',linewidth = 2.0)\n",
    "\n",
    "selected = plot_df.query('C_year == 2010 and h_0 == 10 and P_tot < P_installed')\n",
    "plt.plot(selected['V_s_km'], selected['emission_g_km_NOX'], 'hotpink',linewidth = 2.0)\n",
    "\n",
    "selected = plot_df.query('C_year == 2020 and h_0 == 10 and P_tot < P_installed')\n",
    "plt.plot(selected['V_s_km'], selected['emission_g_km_NOX'], 'pink',linewidth = 2.0)\n",
    "\n",
    "plt.legend(['$C_{year}$ = 1970', '$C_{year}$ = 1980', '$C_{year}$ = 1990', '$C_{year}$ = 2000',\n",
    "            '$C_{year}$ = 2010', '$C_{year}$ = 2020'],loc='upper center')\n",
    "plt.grid()\n",
    "plt.xlim(0, 18)\n",
    "plt.ylim(0, 1600)\n",
    "plt.xlabel('Relative vessel speed (km/h)',fontsize=10, weight='bold',labelpad=3)\n",
    "plt.ylabel('NOx emission rate (g/km)',fontsize=10,weight='bold',labelpad=3)\n",
    "plt.xticks([0,5,10,15,18], weight = 'bold')\n",
    "plt.yticks( weight = 'bold')\n",
    "\n",
    "plt.savefig('Fig_09.pdf', dpi=600, format='pdf')\n"
   ]
  },
  {
   "cell_type": "code",
   "execution_count": null,
   "id": "42e793a6",
   "metadata": {},
   "outputs": [],
   "source": []
  }
 ],
 "metadata": {
  "kernelspec": {
   "display_name": "Python 3 (ipykernel)",
   "language": "python",
   "name": "python3"
  },
  "language_info": {
   "codemirror_mode": {
    "name": "ipython",
    "version": 3
   },
   "file_extension": ".py",
   "mimetype": "text/x-python",
   "name": "python",
   "nbconvert_exporter": "python",
   "pygments_lexer": "ipython3",
   "version": "3.9.10"
  }
 },
 "nbformat": 4,
 "nbformat_minor": 5
}
