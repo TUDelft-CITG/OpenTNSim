{
 "cells": [
  {
   "cell_type": "markdown",
   "metadata": {},
   "source": [
    "### Ship sailing strategies with various combinations of payloads and velocities for passing a bottleneck waterway section"
   ]
  },
  {
   "cell_type": "markdown",
   "metadata": {},
   "source": [
    "### Steps before sailing: \n",
    "- Giving a sailing route, in which there is an section with limited water depth (h_min)\n",
    "- Listing a group of possible actual draughts depending on the limited water depth and minimum operating draughts\n",
    "- Using the T2v function to find out the corresponding velocities the ship can sail with to safely pass the bottlenek without grounding\n",
    "- Displaying the possible actual draughts with its maximum sailing velocities and suggesting several sailing strategies.\n",
    "\n",
    "### Steps while sailing: \n",
    "- c"
   ]
  },
  {
   "cell_type": "markdown",
   "metadata": {
    "tags": []
   },
   "source": [
    "### Test the reality of sailing with v_computed\n",
    "We test it by comparing the total required power (P_tot) of the ship while sailing at v_computed with its installed power (P_installed). If P_tot <= P_installed, the v_computed is realistic.\n",
    "\n",
    "So the steps to do:\n",
    "- set the above results [Strategies: 'T_strategy','v_computed'] as input data for a vessel sailing and consuming energy simulation\n",
    "- run the simulation to get results: 'P_tot', 'P_installed', 'total fuel use', 'total emissions_CO2', 'total emissions_PM10', 'total emissions_NOx', 'duration', 'payload'. (Note that you need the \"T2payload\" function based on \"Van Dorsser's method\" to get the corresponding 'payload'for each 'T_strategy'.) \n",
    "- put the results into dataframe for later easy selecting, processing and plotting\n",
    "- select the Strategies of which P_tot <= P_installed \n",
    "- analysis the selected Strategies \n",
    "- visualize some typical selected Strategies via a series Bar Chart. In each bar chart, y_axis is amount, x_axis is evaluation items.\n",
    "- visualize some typical selected Strategies together with ambient waterway sections of different water depths.(Note that the input [Vs, P_tot_given] are different for bottle neck section and ambient sections)"
   ]
  },
  {
   "cell_type": "markdown",
   "metadata": {},
   "source": [
    "### 0. Load packages"
   ]
  },
  {
   "cell_type": "code",
   "execution_count": null,
   "metadata": {
    "tags": []
   },
   "outputs": [],
   "source": [
    "import functools\n",
    "import itertools\n",
    "import warnings\n",
    "warnings.filterwarnings('ignore')\n",
    "import sys\n",
    "sys.tracebacklimit=0\n",
    "# package(s) related to time, space and id\n",
    "import logging\n",
    "import datetime, time\n",
    "import platform\n",
    "\n",
    "# you need these dependencies (you can get these from anaconda)\n",
    "# package(s) related to the simulation\n",
    "import simpy\n",
    "import pandas as pd\n",
    "\n",
    "# spatial libraries \n",
    "import pyproj\n",
    "import shapely.geometry\n",
    "from simplekml import Kml, Style\n",
    "\n",
    "# package(s) for data handling\n",
    "import numpy as np\n",
    "import scipy.optimize\n",
    "import matplotlib.pyplot as plt\n",
    "from matplotlib.ticker import StrMethodFormatter\n",
    "import tqdm\n",
    "\n",
    "# OpenTNSim\n",
    "import opentnsim\n",
    "import opentnsim.strategy\n",
    "# Used for mathematical functions\n",
    "import math             \n",
    "\n",
    "# Used for making the graph to visualize our problem\n",
    "import networkx as nx   \n",
    "\n",
    "import plotly.express as px\n",
    "from plotly.subplots import make_subplots\n",
    "\n",
    "#logging.basicConfig(level=logging.DEBUG) #turn on all the debug messages\n",
    "#logging.basicConfig(level=logging.INFO)# turn off all the debug messages\n",
    "\n",
    "logger = logging.getLogger('notebook')"
   ]
  },
  {
   "cell_type": "markdown",
   "metadata": {},
   "source": [
    "### 1. Create graph\n",
    "We first need to create a 1D network (a graph) along which the vessel will move. A graph contains edges (blue dots in plot below) and vertices (black lines in plot below). For this example, we will construct a network consisting of 4 nodes in a straight line. Since we would like to have two-way traffic, we add two edges between each pair of nodes: one from left to right, and another the other way around (however, we could easily apply one-way traffic as well by remove one of the two edges). Consequently, we arrive at a total of 4 nodes, and 6 edges.\n",
    "\n",
    "Due to the nature of discrete modelling in which the time step is dependent on the activities (in this example: forcing a ship to move from node to node from its origin to its destination), it is important to add OpenTNSim mix-ins to the nodes in such a way we could identify the node (mix-in Identifiable, which imports a name and imports/creates an ID), and to locate the node (mix-in Locatable, which gives the node a geometry)."
   ]
  },
  {
   "cell_type": "code",
   "execution_count": null,
   "metadata": {},
   "outputs": [],
   "source": [
    "# specify a number of coordinate along your route (coords are: lon, lat)\n",
    "coords = [\n",
    "    [0,0],\n",
    "    [0.8983,0], \n",
    "    [1.7966,0], \n",
    "    [2.6949,0]] \n",
    "\n",
    "# for each edge (between above coordinates) specify the depth (m)\n",
    "depths = [6, 4.5, 6]\n",
    "\n",
    "# check of nr of coords and nr of depths align\n",
    "assert len(coords) == len(depths) + 1, 'nr of depths does not correspond to nr of coords'"
   ]
  },
  {
   "cell_type": "code",
   "execution_count": null,
   "metadata": {},
   "outputs": [],
   "source": [
    "# create a graph based on coords and depths\n",
    "FG = nx.DiGraph()\n",
    "nodes = []\n",
    "path = []\n",
    "\n",
    "# add nodes\n",
    "Node = type('Site', (opentnsim.core.Identifiable, opentnsim.core.Locatable), {})\n",
    "\n",
    "for index, coord in enumerate(coords):\n",
    "    data_node = {\"name\": \"Node \" + str(index), \"geometry\": shapely.geometry.Point(coord[0], coord[1])}\n",
    "    nodes.append(Node(**data_node))\n",
    "    \n",
    "positions = {}\n",
    "for node in nodes:\n",
    "    positions[node.name] = (node.geometry.x, node.geometry.y)\n",
    "    FG.add_node(node.name, geometry = node.geometry)\n",
    "\n",
    "# add edges\n",
    "path = [[nodes[i], nodes[i+1]] for i in range(len(nodes)-1)]\n",
    "\n",
    "for index, edge in enumerate(path):\n",
    "    # For the energy consumption calculation we add info to the graph. We need depth info for resistance.\n",
    "    # NB: the CalculateEnergy routine expects the graph to have \"Info\" that contains \"GeneralDepth\" \n",
    "    #     this may not be very generic!\n",
    "    FG.add_edge(edge[0].name, edge[1].name, weight = 1, Info = {\"GeneralDepth\": depths[index]})\n",
    "\n",
    "# toggle to undirected and back to directed to make sure all edges are two way traffic\n",
    "FG = FG.to_undirected() \n",
    "FG = FG.to_directed() "
   ]
  },
  {
   "cell_type": "code",
   "execution_count": null,
   "metadata": {},
   "outputs": [],
   "source": [
    "# show graph\n",
    "nx.draw(FG, positions)\n",
    "plt.show()"
   ]
  },
  {
   "cell_type": "code",
   "execution_count": null,
   "metadata": {},
   "outputs": [],
   "source": [
    "# This cell just shows that now a depth of 10 m is added to the edges. \n",
    "# You can use this to vary depths, e.g. make the middle edge shallower. Note that edges are bi-directional \n",
    "for edge in FG.edges:\n",
    "    print('General depth for edge {} is {}'.format(edge, FG.get_edge_data(edge[0], edge[1])[\"Info\"][\"GeneralDepth\"]))"
   ]
  },
  {
   "cell_type": "code",
   "execution_count": null,
   "metadata": {},
   "outputs": [],
   "source": [
    "FG.get_edge_data('Node 1', 'Node 2')[\"Info\"][\"GeneralDepth\"]"
   ]
  },
  {
   "cell_type": "markdown",
   "metadata": {},
   "source": [
    "### 2. Create vessel - add VesselProperties and ConsumesEnergy mixins\n",
    "The following mix-ins are required for each vessel in our problem: Identifiable (gives the vessel a name and a random ID), Movable (gives that the object (*vessel*) can move with a fixed speed and logs this activity, it requires input for the following mix-ins: Locatable, Routeable, and Log), and Routable (gives the object a route). We now modify our original vessel from the basic example and include vessel properties (like width, length, etc.) and a mixin that is needed to calculate resistance and energy consumption.  "
   ]
  },
  {
   "cell_type": "code",
   "execution_count": null,
   "metadata": {},
   "outputs": [],
   "source": [
    "# Make your preferred class out of available mix-ins.\n",
    "TransportResource = type(\n",
    "    \"Vessel\",\n",
    "    (\n",
    "        opentnsim.core.Identifiable,\n",
    "        opentnsim.core.Movable,\n",
    "        opentnsim.core.Routeable,\n",
    "        opentnsim.core.VesselProperties,  # needed to add vessel properties\n",
    "        opentnsim.core.ConsumesEnergy,\n",
    "        opentnsim.core.ExtraMetadata,\n",
    "    ),\n",
    "    {},\n",
    ")  # needed to calculate resistances"
   ]
  },
  {
   "cell_type": "code",
   "execution_count": null,
   "metadata": {},
   "outputs": [],
   "source": [
    "# Create a dict with all important settings\n",
    "data_vessel = {\n",
    "               \"env\": None,\n",
    "               \"name\": None,\n",
    "               \"route\": None,\n",
    "               \"geometry\": None,\n",
    "               \"v\": None,  # m/s\n",
    "               \"type\": 'Dortmund-Eems (L <= 74 m)', # <-- note that inputs from hereon are due to the added mixins!\n",
    "               \"B\": 11.4,\n",
    "               \"L\": 110,\n",
    "               \"H_e\": None, \n",
    "               \"H_f\": None, \n",
    "               \"T\": None,\n",
    "               \"safety_margin\": 0.2, # for tanker vessel with rocky bed the safety margin is recommended as 0.3 m\n",
    "               \"h_squat\":True,\n",
    "               \"P_installed\": 1750.0,   \n",
    "               \"P_tot_given\": None, # kW\n",
    "               \"bulbous_bow\": False, # if a vessel has no bulbous_bow, set to none; otherwise set to 1.\n",
    "               \"P_hotel_perc\": 0.05,\n",
    "               \"P_hotel\": None, # None: calculate P_hotel from percentage\n",
    "               \"L_w\": 3.0 ,\n",
    "               \"C_B\":0.85, \n",
    "               \"C_year\":1990,\n",
    "              }          "
   ]
  },
  {
   "cell_type": "markdown",
   "metadata": {},
   "source": [
    "### 3. Find path and h_min\n",
    "We are going to create a simulation in which a vessel moves from *Node 0* to *Node 3*. Therefore, we need to create a vessel to which we will need to append this paths. Therefore, first let's create the path."
   ]
  },
  {
   "cell_type": "code",
   "execution_count": null,
   "metadata": {},
   "outputs": [],
   "source": [
    "path = nx.dijkstra_path(FG, nodes[0].name, nodes[3].name)"
   ]
  },
  {
   "cell_type": "code",
   "execution_count": null,
   "metadata": {},
   "outputs": [],
   "source": [
    "h_min = np.inf\n",
    "for edge in FG.edges:\n",
    "    h_min=min([h_min, FG.get_edge_data(edge[0], edge[1])[\"Info\"][\"GeneralDepth\"]])\n",
    "print('minimum waterdepth along path is {} m'.format(h_min))"
   ]
  },
  {
   "cell_type": "markdown",
   "metadata": {},
   "source": [
    "### 4. Define max_sinkage_at_v_strategy function to know the maximum sinkage for a possible velocity "
   ]
  },
  {
   "cell_type": "code",
   "execution_count": null,
   "metadata": {},
   "outputs": [],
   "source": [
    "def get_v(vessel, width, depth, margin, bounds):\n",
    "    ''' for a waterway section with a given width and depth, compute the velocity that can be \n",
    "    reached given a vessel's T and a safety margin.'''\n",
    "    \n",
    "\n",
    "    def seek_v_given_z(v, vessel, width, depth, margin):\n",
    "        # calculate sinkage\n",
    "\n",
    "        z_computed = (vessel.C_B * ((vessel.B * vessel._T) / (width * depth)) ** 0.81) * ((v*1.94) ** 2.08) / 20\n",
    "\n",
    "        # calculate available underkeel clearance (vessel in rest)\n",
    "        z_given = depth - vessel._T\n",
    "\n",
    "        # compute difference between the sinkage and the space available for sinkage (including safety margin)\n",
    "        diff = z_given - z_computed - margin \n",
    "\n",
    "        return diff ** 2\n",
    "\n",
    "    # goalseek to minimize\n",
    "    fun = functools.partial(seek_v_given_z, vessel=vessel, width=width, depth=depth, margin=margin)\n",
    "    fit = scipy.optimize.minimize_scalar(fun, bounds=bounds, method='bounded')\n",
    "\n",
    "    # check if we found a minimum\n",
    "    if not fit.success:\n",
    "        raise ValueError(fit)\n",
    "\n",
    "    # the value of fit.x within the bound (0,20) is the velocity we find where the diff**2 reach a minimum (zero).\n",
    "    v =  fit.x\n",
    "    \n",
    "    # calculate the key values again for the resulting speed\n",
    "    z_computed = (vessel.C_B * ((vessel.B * vessel._T) / (width * depth)) ** 0.81) * ((v*1.94) ** 2.08) / 20\n",
    "    depth_squat = depth - z_computed \n",
    "\n",
    "    return v, depth, depth_squat, z_computed, margin   "
   ]
  },
  {
   "cell_type": "code",
   "execution_count": null,
   "metadata": {},
   "outputs": [],
   "source": [
    "def get_upperbound_for_power2v(vessel, width, depth, margin=0, bounds=(0,20)):\n",
    "    ''' for a waterway section with a given width and depth, compute a maximum installed-\n",
    "    power-allowed velocity, considering squat. This velocity can be used as upperbound in the \n",
    "    power2v function in energy.py. The \"upperbound\" is the maximum value in velocity searching \n",
    "    range.'''\n",
    "\n",
    "    # estimate the grounding velocity \n",
    "    grounding_v, depth, depth_squat, z_computed, margin = get_v(vessel, width, depth, margin=0, bounds=bounds)\n",
    "    \n",
    "    # find max power velocity\n",
    "    velocity = np.linspace(0.01, grounding_v, 100) \n",
    "    task = list(itertools.product(velocity[0:-1]))\n",
    "\n",
    "    # prepare a list of dictionaries for pandas\n",
    "    rows = []\n",
    "    for item in task:\n",
    "        row = {\"velocity\": item[0]}\n",
    "        rows.append(row)\n",
    "\n",
    "    # convert simulations to dataframe, so that we can apply a function and monitor progress\n",
    "    task_df = pd.DataFrame(rows)\n",
    "    \n",
    "    # creat a results empty list to collect the below results\n",
    "    results = []   \n",
    "    for i, row in tqdm.tqdm(task_df.iterrows(),disable=True):\n",
    "        # calculate squat and the waterdepth after squat\n",
    "        z_computed = (vessel.C_B * ((vessel.B * vessel._T) / (width * depth)) ** 0.81) * ((row['velocity']*1.94) ** 2.08) / 20\n",
    "    \n",
    "        # calculate squatted waterdepth\n",
    "        h_0 = depth  - z_computed\n",
    "        \n",
    "        # for the squatted water depth calculate resistance and power\n",
    "        vessel.calculate_total_resistance(v=row['velocity'], h_0=h_0)\n",
    "        vessel.calculate_total_power_required(v=row['velocity'])\n",
    "        \n",
    "        # prepare a row\n",
    "        result = {}\n",
    "        result.update(row)\n",
    "        result['Powerallowed_v'] = row['velocity']\n",
    "        result['P_tot'] = vessel.P_tot\n",
    "        result['P_installed'] = vessel.P_installed\n",
    "        result['h_0'] = depth\n",
    "        result['z_computed'] = z_computed\n",
    "        result['h_squat'] = h_0\n",
    "        \n",
    "        # update resulst dict\n",
    "        results.append(result)\n",
    "    \n",
    "    results_df = pd.DataFrame(results)\n",
    "\n",
    "    # return only dataframe up to and including the first time that P_tot == P_installed\n",
    "    selected = results_df[0:(results_df.P_installed>=results_df.P_tot).idxmin()]\n",
    "\n",
    "    upperbound = selected.Powerallowed_v.max()\n",
    "\n",
    "    return upperbound, selected, results_df"
   ]
  },
  {
   "cell_type": "markdown",
   "metadata": {},
   "source": [
    "### 5. Create a worklist of strategies"
   ]
  },
  {
   "cell_type": "code",
   "execution_count": null,
   "metadata": {},
   "outputs": [],
   "source": [
    "# provide max and min draught\n",
    "max_draught = 3.50\n",
    "min_operational_draught = 1.50\n",
    "stepsize = -0.05\n",
    "\n",
    "# create lists of strategy values\n",
    "T_strategy = np.arange(max_draught, round(min_operational_draught + stepsize, 2), stepsize).round(2).tolist()\n",
    "h_min = [4.0]\n",
    "safety_margin = [0.2]\n",
    "width = [150]"
   ]
  },
  {
   "cell_type": "code",
   "execution_count": null,
   "metadata": {},
   "outputs": [],
   "source": [
    "# prepare the work to be done by creating a list of all combinations\n",
    "work = list(itertools.product(T_strategy, h_min, safety_margin, width))\n",
    "\n",
    "# prepare a list of dictionaries for pandas\n",
    "rows = []\n",
    "for item in work:\n",
    "    row = {\"T_strategy\": item[0],\"h_min\":item[1], \"safety_margin\":item[2], \"width\":item[3]}\n",
    "    rows.append(row)\n",
    "\n",
    "    # these are all the simulations that we want to run\n",
    "\n",
    "# convert them to dataframe, so that we can apply a function and monitor progress\n",
    "work_df = pd.DataFrame(rows)\n",
    "work_df.tail()"
   ]
  },
  {
   "cell_type": "markdown",
   "metadata": {},
   "source": [
    "### 6. Run the strategies"
   ]
  },
  {
   "cell_type": "code",
   "execution_count": null,
   "metadata": {},
   "outputs": [],
   "source": [
    "Strategies = []\n",
    "\n",
    "for i, row in tqdm.tqdm(work_df.iterrows(),disable=True):\n",
    "\n",
    "    # get vessel \n",
    "    data_vessel_i = data_vessel.copy()\n",
    "    vessel = TransportResource(**data_vessel_i)\n",
    "    vessel._T = row['T_strategy']\n",
    "    vessel.safety_margin = row['safety_margin']\n",
    "    \n",
    "    # estimate 'grounding speed' as a useful upperbound\n",
    "    upperbound, selected, results_df = get_upperbound_for_power2v(vessel, width=row['width'], depth=row['h_min'], margin=0)\n",
    "    \n",
    "    # calculate the velocity that belongs to the T_strategy (while leaving the margin)\n",
    "    v, depth, depth_squat, z_computed, margin = get_v(vessel, width=row['width'], depth=row['h_min'], margin=row['safety_margin'], bounds=(0, upperbound))\n",
    "    \n",
    "    # detaremine payload\n",
    "    Payload_comupted = opentnsim.strategy.T2Payload(vessel, row['T_strategy'], vessel_type = \"Tanker\") \n",
    "    \n",
    "    Strategy ={}\n",
    "    Strategy.update(row)\n",
    "    Strategy['v_upper_bound (m/s)'] = upperbound    \n",
    "    Strategy['v_strategy (m/s)'] = v\n",
    "    Strategy['z_computed (m)'] = z_computed\n",
    "    Strategy['depth squat (m)'] = depth_squat\n",
    "    Strategy['T + margin (m)'] = row['T_strategy']+ row['safety_margin']\n",
    "    \n",
    "    Strategy['Payload_strategy_tanker (ton)'] = Payload_comupted\n",
    "    Strategies.append(Strategy)"
   ]
  },
  {
   "cell_type": "code",
   "execution_count": null,
   "metadata": {},
   "outputs": [],
   "source": [
    "Strategies_df = pd.DataFrame(Strategies)\n",
    "with pd.option_context('display.float_format', '{:.2f}'.format):\n",
    "    display(Strategies_df)"
   ]
  },
  {
   "cell_type": "markdown",
   "metadata": {},
   "source": [
    "### 7. Pick an appropriate vessel draught that can at least achieve the target velocity "
   ]
  },
  {
   "cell_type": "code",
   "execution_count": null,
   "metadata": {},
   "outputs": [],
   "source": [
    "target_velocities = [3.0, 3.5, 4.0]"
   ]
  },
  {
   "cell_type": "code",
   "execution_count": null,
   "metadata": {},
   "outputs": [],
   "source": [
    "target_T = np.inf\n",
    "for target_velocity in target_velocities:\n",
    "    if Strategies_df[Strategies_df.index==(Strategies_df['v_strategy (m/s)']>target_velocity).idxmax()].T_strategy.item() < target_T:\n",
    "        target_T = min([target_T, Strategies_df[Strategies_df.index==(Strategies_df['v_strategy (m/s)']>target_velocity).idxmax()].T_strategy.item()])\n",
    "        index = Strategies_df.index==(Strategies_df['v_strategy (m/s)']>target_velocity).idxmax()\n",
    "\n",
    "display(Strategies_df[index])\n",
    "\n",
    "print('The target strategy is:')\n",
    "print('T_strategy: {} m'.format(Strategies_df[index].T_strategy.item()))\n",
    "print('Payload: {:.2f} ton'.format(Strategies_df['Payload_strategy_tanker (ton)'][index].item()))"
   ]
  }
 ],
 "metadata": {
  "kernelspec": {
   "display_name": "Python 3",
   "language": "python",
   "name": "python3"
  },
  "language_info": {
   "codemirror_mode": {
    "name": "ipython",
    "version": 3
   },
   "file_extension": ".py",
   "mimetype": "text/x-python",
   "name": "python",
   "nbconvert_exporter": "python",
   "pygments_lexer": "ipython3",
   "version": "3.8.6"
  }
 },
 "nbformat": 4,
 "nbformat_minor": 5
}
