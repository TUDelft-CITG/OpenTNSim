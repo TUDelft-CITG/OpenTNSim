{
 "cells": [
  {
   "cell_type": "markdown",
   "metadata": {},
   "source": [
    "####     From this notebook we get:\n",
    "        \"Figure 11: Fuel use and emissions rates for  'maximum cargo load - varying water depth'\".\n",
    "####    General steps:\n",
    "        -First we create and run the basic simulation of the ship sailing on the waterway.\n",
    "        -Then we plot the figure based on the results of the fuel consumption and emissions rates from the basic simulation.\n",
    "        "
   ]
  },
  {
   "cell_type": "markdown",
   "metadata": {},
   "source": [
    "## Basic simulation - consumes energy-van Dosser actual draught & payload\n",
    "We are going to make a simulation which forces a vessel to move over a certain 1D waterway network. It tries to give one an understanding of the most basic core functions of OpenTNSim and teach one the requirements to set-up a basic OpenTNSim model run. \n",
    "\n",
    "We add some properties to the graph (depth) and the vessel (VesselProperties, ConsumesEnergy) in order to calculate resistance, required power, "
   ]
  },
  {
   "cell_type": "markdown",
   "metadata": {},
   "source": [
    "### Imports\n",
    "Import the required libraries"
   ]
  },
  {
   "cell_type": "code",
   "execution_count": 1,
   "metadata": {},
   "outputs": [],
   "source": [
    "# package(s) related to time, space and id\n",
    "import datetime, time\n",
    "import platform\n",
    "\n",
    "# you need these dependencies (you can get these from anaconda)\n",
    "# package(s) related to the simulation\n",
    "import simpy\n",
    "import pandas as pd\n",
    "\n",
    "# spatial libraries \n",
    "import pyproj\n",
    "import shapely.geometry\n",
    "from simplekml import Kml, Style\n",
    "\n",
    "# package(s) for data handling\n",
    "import numpy as np\n",
    "import matplotlib.pyplot as plt\n",
    "\n",
    "# OpenTNSim\n",
    "import opentnsim\n",
    "\n",
    "# Used for mathematical functions\n",
    "import math             \n",
    "\n",
    "# Used for making the graph to visualize our problem\n",
    "import networkx as nx   \n",
    "\n",
    "import plotly.express as px\n",
    "from plotly.subplots import make_subplots\n",
    "\n",
    "import logging\n",
    "# turn on debug messages\n",
    "# logging.basicConfig(level=logging.DEBUG)\n",
    "# turn off debug messages\n",
    "logging.basicConfig(level=logging.INFO)"
   ]
  },
  {
   "cell_type": "markdown",
   "metadata": {},
   "source": [
    "### Create graph\n",
    "We first need to create a 1D network (a graph) along which the vessel will move. A graph contains edges (blue dots in plot below) and vertices (black lines in plot below). For this example, we will construct a network consisting of 4 nodes in a straight line. Since we would like to have two-way traffic, we add two edges between each pair of nodes: one from left to right, and another the other way around (however, we could easily apply one-way traffic as well by remove one of the two edges). Consequently, we arrive at a total of 4 nodes, and 6 edges.\n",
    "\n",
    "Due to the nature of discrete modelling in which the time step is dependent on the activities (in this example: forcing a ship to move from node to node from its origin to its destination), it is important to add OpenTNSim mix-ins to the nodes in such a way we could identify the node (mix-in Identifiable, which imports a name and imports/creates an ID), and to locate the node (mix-in Locatable, which gives the node a geometry).\n"
   ]
  },
  {
   "cell_type": "code",
   "execution_count": 2,
   "metadata": {},
   "outputs": [],
   "source": [
    "# specify a number of coordinate along your route (coords are: lon, lat)\n",
    "coords = [\n",
    "    [0,0],\n",
    "    [0.8983,0], \n",
    "    [1.7966,0], \n",
    "    [2.6949,0]] \n",
    "\n",
    "# for each edge (between above coordinates) specify the depth (m)\n",
    "depths = [6, 4, 6]\n",
    "\n",
    "# check of nr of coords and nr of depths align\n",
    "assert len(coords) == len(depths) + 1, 'nr of depths does not correspond to nr of coords'"
   ]
  },
  {
   "cell_type": "code",
   "execution_count": 3,
   "metadata": {},
   "outputs": [],
   "source": [
    "# create a graph based on coords and depths\n",
    "FG = nx.DiGraph()\n",
    "nodes = []\n",
    "path = []\n",
    "\n",
    "# add nodes\n",
    "Node = type('Site', (opentnsim.core.Identifiable, opentnsim.core.Locatable), {})\n",
    "\n",
    "for index, coord in enumerate(coords):\n",
    "    data_node = {\"name\": \"Node \" + str(index), \"geometry\": shapely.geometry.Point(coord[0], coord[1])}\n",
    "    nodes.append(Node(**data_node))\n",
    "    \n",
    "positions = {}\n",
    "for node in nodes:\n",
    "    positions[node.name] = (node.geometry.x, node.geometry.y)\n",
    "    FG.add_node(node.name, geometry = node.geometry)\n",
    "\n",
    "# add edges\n",
    "path = [[nodes[i], nodes[i+1]] for i in range(len(nodes)-1)]\n",
    "\n",
    "for index, edge in enumerate(path):\n",
    "    # For the energy consumption calculation we add info to the graph. We need depth info for resistance.\n",
    "    # NB: the CalculateEnergy routine expects the graph to have \"Info\" that contains \"GeneralDepth\" \n",
    "    #     this may not be very generic!\n",
    "    FG.add_edge(edge[0].name, edge[1].name, weight = 1, Info = {\"GeneralDepth\": depths[index]})\n",
    "\n",
    "# toggle to undirected and back to directed to make sure all edges are two way traffic\n",
    "FG = FG.to_undirected() \n",
    "FG = FG.to_directed() "
   ]
  },
  {
   "cell_type": "code",
   "execution_count": 4,
   "metadata": {},
   "outputs": [
    {
     "data": {
      "image/png": "[encoded data removed]",
      "text/plain": [
       "<Figure size 432x288 with 1 Axes>"
      ]
     },
     "metadata": {},
     "output_type": "display_data"
    }
   ],
   "source": [
    "# show graph\n",
    "nx.draw(FG, positions)\n",
    "plt.show()"
   ]
  },
  {
   "cell_type": "code",
   "execution_count": 5,
   "metadata": {},
   "outputs": [
    {
     "name": "stdout",
     "output_type": "stream",
     "text": [
      "General depth for edge ('Node 0', 'Node 1') is 6\n",
      "General depth for edge ('Node 1', 'Node 0') is 6\n",
      "General depth for edge ('Node 1', 'Node 2') is 4\n",
      "General depth for edge ('Node 2', 'Node 1') is 4\n",
      "General depth for edge ('Node 2', 'Node 3') is 6\n",
      "General depth for edge ('Node 3', 'Node 2') is 6\n"
     ]
    }
   ],
   "source": [
    "# This cell just shows that now a depth of 10 m is added to the edges. \n",
    "# You can use this to vary depths, e.g. make the middle edge shallower. Note that edges are bi-directional \n",
    "for edge in FG.edges:\n",
    "    print('General depth for edge {} is {}'.format(edge, FG.get_edge_data(edge[0], edge[1])[\"Info\"][\"GeneralDepth\"]))"
   ]
  },
  {
   "cell_type": "code",
   "execution_count": 6,
   "metadata": {},
   "outputs": [
    {
     "data": {
      "text/plain": [
       "'Node 3'"
      ]
     },
     "execution_count": 6,
     "metadata": {},
     "output_type": "execute_result"
    }
   ],
   "source": [
    "edge[0]"
   ]
  },
  {
   "cell_type": "markdown",
   "metadata": {},
   "source": [
    "### Create vessel - add VesselProperties and ConsumesEnergy mixins\n",
    "The following mix-ins are required for each vessel in our problem: Identifiable (gives the vessel a name and a random ID), Movable (gives that the object (*vessel*) can move with a fixed speed and logs this activity, it requires input for the following mix-ins: Locatable, Routeable, and Log), and Routable (gives the object a route). We now modify our original vessel from the basic example and include vessel properties (like width, length, etc.) and a mixin that is needed to calculate resistance and energy consumption. "
   ]
  },
  {
   "cell_type": "code",
   "execution_count": 7,
   "metadata": {},
   "outputs": [],
   "source": [
    "# Make your preferred class out of available mix-ins.\n",
    "TransportResource = type(\n",
    "    \"Vessel\",\n",
    "    (\n",
    "        opentnsim.core.Identifiable,\n",
    "        opentnsim.core.Movable,\n",
    "        opentnsim.core.Routeable,\n",
    "        opentnsim.core.VesselProperties,  # needed to add vessel properties\n",
    "        opentnsim.core.ConsumesEnergy,\n",
    "        opentnsim.core.ExtraMetadata,\n",
    "    ),\n",
    "    {},\n",
    ")  # needed to calculate resistances"
   ]
  },
  {
   "cell_type": "code",
   "execution_count": 8,
   "metadata": {},
   "outputs": [],
   "source": [
    "# Create a dict with all important settings\n",
    "# NB: set both \"v\" and \"P_tot_given\" to None, as they will be set later\n",
    "# Note that we set \"h_squat\" as \"True\". \n",
    "# The squat effect makes a great difference for the actual water depth and resistance calculation in shallow water. \n",
    "# Here we need to calculate the water depth reduced by squat since what we give the ship is a route with undisturbed water depth h_0.\n",
    "\n",
    "data_vessel = {\"env\": None,\n",
    "               \"name\": None,\n",
    "               \"route\": None,\n",
    "               \"geometry\": None,\n",
    "               \"v\": None,  # m/s\n",
    "               \"type\":None,\n",
    "               \"B\": 11.4,\n",
    "               \"L\": 110,\n",
    "               \"H_e\": None, \n",
    "               \"H_f\": None, \n",
    "               \"T\": 3.5,      # <=== here we should enter the value from the T strategy notebook\n",
    "               \"safety_margin\": 0.2, # for tanker vessel with sandy bed the safety margin is recommended as 0.2 m\n",
    "               \"h_squat\": True, # if consider the ship squatting while moving, set to True, otherwise set to False\n",
    "               \"P_installed\": 1750.0,\n",
    "               \"P_tot_given\": None, # kW\n",
    "               \"bulbous_bow\": False, # if a vessel has no bulbous_bow, set to False; otherwise set to True.\n",
    "               \"P_hotel_perc\": 0.05,\n",
    "               \"P_hotel\": None, # None: calculate P_hotel from percentage\n",
    "               \"L_w\": 3.0 ,\n",
    "               \"C_B\":0.85, \n",
    "               \"C_year\":1990,\n",
    "              }             \n",
    "\n",
    "vessel = TransportResource(**data_vessel)"
   ]
  },
  {
   "cell_type": "markdown",
   "metadata": {},
   "source": [
    "### Define paths\n",
    "We are going to create a simulation in which a vessel moves from *Node 1* to *Node 4*. Therefore, we need to create a vessel to which we will need to append this paths. Therefore, first let's create the path."
   ]
  },
  {
   "cell_type": "code",
   "execution_count": 9,
   "metadata": {},
   "outputs": [],
   "source": [
    "path = nx.dijkstra_path(FG, nodes[0].name, nodes[3].name)"
   ]
  },
  {
   "cell_type": "markdown",
   "metadata": {},
   "source": [
    "### Run simulation\n",
    "Now we can define the run. First, we make an environment and add the graph to the environment. Then we add one vessel, to which we will append the environment and the above route. Lastly, we give the vessel the process of moving from the origin to the destination of the defined path and subsequently run the model."
   ]
  },
  {
   "cell_type": "code",
   "execution_count": 10,
   "metadata": {},
   "outputs": [],
   "source": [
    "def run_simulation(V_s, P_tot_given):\n",
    "    \n",
    "    # Start simpy environment\n",
    "    simulation_start = datetime.datetime.now()\n",
    "    env = simpy.Environment(initial_time = time.mktime(simulation_start.timetuple()))\n",
    "    env.epoch = time.mktime(simulation_start.timetuple())\n",
    "\n",
    "    # Add graph to environment\n",
    "    env.FG = FG\n",
    "\n",
    "    # Add environment and path to the vessel\n",
    "    # create a fresh instance of vessel\n",
    "    vessel = TransportResource(**data_vessel)\n",
    "    vessel.env = env                                        #the created environment\n",
    "    vessel.name = 'Vessel No.1'                     \n",
    "    vessel.route = path                                     #the route (the sequence of nodes, as stored as the second column in the path)\n",
    "    vessel.geometry = env.FG.nodes[path[0]]['geometry']     #a shapely.geometry.Point(lon,lat) (here taken as the starting node of the vessel)\n",
    "    vessel.v = V_s\n",
    "    vessel.P_tot_given = P_tot_given\n",
    "    \n",
    "            \n",
    "    # Start the simulation\n",
    "    env.process(vessel.move())\n",
    "    env.run()\n",
    "    \n",
    "    return vessel"
   ]
  },
  {
   "cell_type": "code",
   "execution_count": 11,
   "metadata": {},
   "outputs": [
    {
     "data": {
      "text/plain": [
       "{'V_s': [3.0, 3.5, 4.0, None, None, None],\n",
       " 'P_tot_given': [None, None, None, 251, 344, 500]}"
      ]
     },
     "execution_count": 11,
     "metadata": {},
     "output_type": "execute_result"
    }
   ],
   "source": [
    "input_data = {'V_s': [3.0, 3.5, 4.0, None, None, None], 'P_tot_given': [None, None, None, 251, 344, 500]}\n",
    "input_data"
   ]
  },
  {
   "cell_type": "code",
   "execution_count": 12,
   "metadata": {
    "tags": []
   },
   "outputs": [
    {
     "name": "stderr",
     "output_type": "stream",
     "text": [
      "99it [00:00, 3817.46it/s]\n"
     ]
    },
    {
     "name": "stdout",
     "output_type": "stream",
     "text": [
      "upperbound 4.976037389436542 m/s\n"
     ]
    },
    {
     "name": "stderr",
     "output_type": "stream",
     "text": [
      "99it [00:00, 3545.36it/s]\n"
     ]
    },
    {
     "name": "stdout",
     "output_type": "stream",
     "text": [
      "upperbound 4.308049118638643 m/s\n"
     ]
    },
    {
     "name": "stderr",
     "output_type": "stream",
     "text": [
      "99it [00:00, 3021.44it/s]\n"
     ]
    },
    {
     "name": "stdout",
     "output_type": "stream",
     "text": [
      "upperbound 4.976037389436542 m/s\n"
     ]
    },
    {
     "name": "stderr",
     "output_type": "stream",
     "text": [
      "99it [00:00, 2481.63it/s]\n"
     ]
    },
    {
     "name": "stdout",
     "output_type": "stream",
     "text": [
      "upperbound 4.976037389436542 m/s\n"
     ]
    },
    {
     "name": "stderr",
     "output_type": "stream",
     "text": [
      "99it [00:00, 2363.54it/s]\n"
     ]
    },
    {
     "name": "stdout",
     "output_type": "stream",
     "text": [
      "upperbound 4.308049118638643 m/s\n"
     ]
    },
    {
     "name": "stderr",
     "output_type": "stream",
     "text": [
      "99it [00:00, 3380.14it/s]"
     ]
    },
    {
     "name": "stdout",
     "output_type": "stream",
     "text": [
      "upperbound 4.976037389436542 m/s\n"
     ]
    },
    {
     "name": "stderr",
     "output_type": "stream",
     "text": [
      "\n",
      "99it [00:00, 3416.40it/s]\n"
     ]
    },
    {
     "name": "stdout",
     "output_type": "stream",
     "text": [
      "upperbound 4.976037389436542 m/s\n"
     ]
    },
    {
     "name": "stderr",
     "output_type": "stream",
     "text": [
      "99it [00:00, 4135.65it/s]\n"
     ]
    },
    {
     "name": "stdout",
     "output_type": "stream",
     "text": [
      "upperbound 4.308049118638643 m/s\n"
     ]
    },
    {
     "name": "stderr",
     "output_type": "stream",
     "text": [
      "99it [00:00, 2419.38it/s]"
     ]
    },
    {
     "name": "stdout",
     "output_type": "stream",
     "text": [
      "upperbound 4.976037389436542 m/s\n"
     ]
    },
    {
     "name": "stderr",
     "output_type": "stream",
     "text": [
      "\n"
     ]
    }
   ],
   "source": [
    "# create empty plot data\n",
    "plot_data = {}\n",
    "\n",
    "# loop through the various input data\n",
    "for index, value in enumerate(input_data['V_s']):\n",
    "    \n",
    "    # Run a basic simulation with V_s and P_tot_given combi\n",
    "    vessel = run_simulation(input_data['V_s'][index], input_data['P_tot_given'][index])\n",
    "    \n",
    "    # create an EnergyCalculation object and perform energy consumption calculation\n",
    "    \n",
    "    energycalculation = opentnsim.energy.EnergyCalculation(FG, vessel)\n",
    "    \n",
    "    energycalculation.calculate_energy_consumption()\n",
    "    \n",
    "    # create dataframe from energy calculation computation\n",
    "    df = pd.DataFrame.from_dict(energycalculation.energy_use)\n",
    "    \n",
    "    # add/modify some comlums to suit our plotting needs\n",
    "   \n",
    "    df['fuel_kg_per_km'] = (df['total_fuel_consumption']/1000) / (df['distance']/1000)\n",
    "    df['CO2_g_per_km']   = (df['total_emission_CO2']) / (df['distance']/1000)\n",
    "    df['PM10_g_per_km']  = (df['total_emission_PM10']) / (df['distance']/1000)\n",
    "    df['NOx_g_per_km']   = (df['total_emission_NOX']) / (df['distance']/1000)\n",
    "    \n",
    "    label = 'V_s = ' + str(input_data['V_s'][index]) + ' P_tot_given = ' + str(input_data['P_tot_given'][index])\n",
    "\n",
    "    # Note that we make a dict to collect all plot data. \n",
    "    # We use labels like ['V_s = None P_tot_given = 274 fuel_kg_km'] to organise the data in the dict\n",
    "    # The [0, 0, 1, 1, 2, 2] below creates a list per section \n",
    "    plot_data[label + ' v'] = list(df.distance[[0, 0, 1, 1, 2, 2]]/df.delta_t[[0, 0, 1, 1, 2, 2]])\n",
    "    plot_data[label + ' P_tot']   = list(df.P_tot[[0, 0, 1, 1, 2, 2]])\n",
    "    plot_data[label + ' fuel_kg_per_km']   = list(df.fuel_kg_per_km[[0, 0, 1, 1, 2, 2]])\n",
    "    plot_data[label + ' CO2_g_per_km'] = list(df.CO2_g_per_km[[0, 0, 1, 1, 2, 2]])\n",
    "    plot_data[label + ' PM10_g_per_km']   = list(df.PM10_g_per_km[[0, 0, 1, 1, 2, 2]])\n",
    "    plot_data[label + ' NOx_g_per_km']   = list(df.NOx_g_per_km[[0, 0, 1, 1, 2, 2]])\n",
    "        "
   ]
  },
  {
   "cell_type": "code",
   "execution_count": 13,
   "metadata": {},
   "outputs": [
    {
     "data": {
      "text/plain": [
       "{'V_s = 3.0 P_tot_given = None v': [3.000000000017929,\n",
       "  3.000000000017929,\n",
       "  3.000000000017929,\n",
       "  3.000000000017929,\n",
       "  3.00000000001793,\n",
       "  3.00000000001793],\n",
       " 'V_s = 3.0 P_tot_given = None P_tot': [251.0869242415852,\n",
       "  251.0869242415852,\n",
       "  299.29331409014856,\n",
       "  299.29331409014856,\n",
       "  251.0869242415853,\n",
       "  251.0869242415853],\n",
       " 'V_s = 3.0 P_tot_given = None fuel_kg_per_km': [6.05539992920243,\n",
       "  6.05539992920243,\n",
       "  7.117215318845382,\n",
       "  7.117215318845382,\n",
       "  6.055399929202431,\n",
       "  6.055399929202431],\n",
       " 'V_s = 3.0 P_tot_given = None CO2_g_per_km': [19212.13250265135,\n",
       "  19212.13250265135,\n",
       "  22580.98314797308,\n",
       "  22580.98314797308,\n",
       "  19212.13250265135,\n",
       "  19212.13250265135],\n",
       " 'V_s = 3.0 P_tot_given = None PM10_g_per_km': [12.651385700360887,\n",
       "  12.651385700360887,\n",
       "  14.026166645020986,\n",
       "  14.026166645020986,\n",
       "  12.651385700360885,\n",
       "  12.651385700360885],\n",
       " 'V_s = 3.0 P_tot_given = None NOx_g_per_km': [279.9376756479414,\n",
       "  279.9376756479414,\n",
       "  319.2381657283931,\n",
       "  319.2381657283931,\n",
       "  279.9376756479413,\n",
       "  279.9376756479413],\n",
       " 'V_s = 3.5 P_tot_given = None v': [3.500000000038418,\n",
       "  3.500000000038418,\n",
       "  3.500000000038418,\n",
       "  3.500000000038418,\n",
       "  3.499999999915917,\n",
       "  3.499999999915917],\n",
       " 'V_s = 3.5 P_tot_given = None P_tot': [344.21219415750903,\n",
       "  344.21219415750903,\n",
       "  475.6133808645412,\n",
       "  475.6133808645412,\n",
       "  344.2121941291651,\n",
       "  344.2121941291651],\n",
       " 'V_s = 3.5 P_tot_given = None fuel_kg_per_km': [6.923488606056707,\n",
       "  6.923488606056707,\n",
       "  9.311582982181346,\n",
       "  9.311582982181346,\n",
       "  6.923488605787326,\n",
       "  6.923488605787326],\n",
       " 'V_s = 3.5 P_tot_given = None CO2_g_per_km': [21966.341122852642,\n",
       "  21966.341122852642,\n",
       "  29543.113279829904,\n",
       "  29543.113279829904,\n",
       "  21966.341121997968,\n",
       "  21966.341121997968],\n",
       " 'V_s = 3.5 P_tot_given = None PM10_g_per_km': [13.097536526638207,\n",
       "  13.097536526638207,\n",
       "  16.647627017525583,\n",
       "  16.647627017525583,\n",
       "  13.09753652647828,\n",
       "  13.09753652647828],\n",
       " 'V_s = 3.5 P_tot_given = None NOx_g_per_km': [304.78529543673454,\n",
       "  304.78529543673454,\n",
       "  400.7991143771787,\n",
       "  400.7991143771787,\n",
       "  304.78529542856126,\n",
       "  304.78529542856126],\n",
       " 'V_s = 4.0 P_tot_given = None v': [3.9999999999839053,\n",
       "  3.9999999999839053,\n",
       "  3.9999999999839053,\n",
       "  3.9999999999839053,\n",
       "  4.000000000143909,\n",
       "  4.000000000143909],\n",
       " 'V_s = 4.0 P_tot_given = None P_tot': [500.1850823287953,\n",
       "  500.1850823287953,\n",
       "  953.997013772427,\n",
       "  953.997013772427,\n",
       "  500.185082397139,\n",
       "  500.185082397139],\n",
       " 'V_s = 4.0 P_tot_given = None fuel_kg_per_km': [8.525649026914694,\n",
       "  8.525649026914694,\n",
       "  15.026366509747088,\n",
       "  15.026366509747088,\n",
       "  8.525649027619204,\n",
       "  8.525649027619204],\n",
       " 'V_s = 4.0 P_tot_given = None CO2_g_per_km': [27049.559185392987,\n",
       "  27049.559185392987,\n",
       "  47674.5628354703,\n",
       "  47674.5628354703,\n",
       "  27049.5591876282,\n",
       "  27049.5591876282],\n",
       " 'V_s = 4.0 P_tot_given = None PM10_g_per_km': [15.163165824062697,\n",
       "  15.163165824062697,\n",
       "  26.52566886987812,\n",
       "  26.52566886987812,\n",
       "  15.163165825093916,\n",
       "  15.163165825093916],\n",
       " 'V_s = 4.0 P_tot_given = None NOx_g_per_km': [366.84709809619295,\n",
       "  366.84709809619295,\n",
       "  669.1229054958529,\n",
       "  669.1229054958529,\n",
       "  366.84709812616313,\n",
       "  366.84709812616313],\n",
       " 'V_s = None P_tot_given = 251 v': [4.976033794332281,\n",
       "  4.976033794332281,\n",
       "  3.7902074150765777,\n",
       "  3.7902074150765777,\n",
       "  4.976033794332283,\n",
       "  4.976033794332283],\n",
       " 'V_s = None P_tot_given = 251 P_tot': [1585.6778918567331,\n",
       "  1585.6778918567331,\n",
       "  681.1350845271776,\n",
       "  681.1350845271776,\n",
       "  1585.6778918567352,\n",
       "  1585.6778918567352],\n",
       " 'V_s = None P_tot_given = 251 fuel_kg_per_km': [19.692353465907495,\n",
       "  19.692353465907495,\n",
       "  11.798339067492531,\n",
       "  11.798339067492531,\n",
       "  19.692353465907523,\n",
       "  19.692353465907523],\n",
       " 'V_s = None P_tot_given = 251 CO2_g_per_km': [62478.46690547015,\n",
       "  62478.46690547015,\n",
       "  37432.912132317215,\n",
       "  37432.912132317215,\n",
       "  62478.46690547023,\n",
       "  62478.46690547023],\n",
       " 'V_s = None P_tot_given = 251 PM10_g_per_km': [34.344790754903386,\n",
       "  34.344790754903386,\n",
       "  20.652818089563034,\n",
       "  20.652818089563034,\n",
       "  34.344790754903414,\n",
       "  34.344790754903414],\n",
       " 'V_s = None P_tot_given = 251 NOx_g_per_km': [867.2059665613103,\n",
       "  867.2059665613103,\n",
       "  515.3547996928615,\n",
       "  515.3547996928615,\n",
       "  867.205966561311,\n",
       "  867.205966561311],\n",
       " 'V_s = None P_tot_given = 344 v': [4.976033794332281,\n",
       "  4.976033794332281,\n",
       "  3.7902074150765777,\n",
       "  3.7902074150765777,\n",
       "  4.976033794332283,\n",
       "  4.976033794332283],\n",
       " 'V_s = None P_tot_given = 344 P_tot': [1585.6778918567331,\n",
       "  1585.6778918567331,\n",
       "  681.1350845271776,\n",
       "  681.1350845271776,\n",
       "  1585.6778918567352,\n",
       "  1585.6778918567352],\n",
       " 'V_s = None P_tot_given = 344 fuel_kg_per_km': [19.692353465907495,\n",
       "  19.692353465907495,\n",
       "  11.798339067492531,\n",
       "  11.798339067492531,\n",
       "  19.692353465907523,\n",
       "  19.692353465907523],\n",
       " 'V_s = None P_tot_given = 344 CO2_g_per_km': [62478.46690547015,\n",
       "  62478.46690547015,\n",
       "  37432.912132317215,\n",
       "  37432.912132317215,\n",
       "  62478.46690547023,\n",
       "  62478.46690547023],\n",
       " 'V_s = None P_tot_given = 344 PM10_g_per_km': [34.344790754903386,\n",
       "  34.344790754903386,\n",
       "  20.652818089563034,\n",
       "  20.652818089563034,\n",
       "  34.344790754903414,\n",
       "  34.344790754903414],\n",
       " 'V_s = None P_tot_given = 344 NOx_g_per_km': [867.2059665613103,\n",
       "  867.2059665613103,\n",
       "  515.3547996928615,\n",
       "  515.3547996928615,\n",
       "  867.205966561311,\n",
       "  867.205966561311],\n",
       " 'V_s = None P_tot_given = 500 v': [4.976033794332281,\n",
       "  4.976033794332281,\n",
       "  3.7902074150765777,\n",
       "  3.7902074150765777,\n",
       "  4.976033794332283,\n",
       "  4.976033794332283],\n",
       " 'V_s = None P_tot_given = 500 P_tot': [1585.6778918567331,\n",
       "  1585.6778918567331,\n",
       "  681.1350845271776,\n",
       "  681.1350845271776,\n",
       "  1585.6778918567352,\n",
       "  1585.6778918567352],\n",
       " 'V_s = None P_tot_given = 500 fuel_kg_per_km': [19.692353465907495,\n",
       "  19.692353465907495,\n",
       "  11.798339067492531,\n",
       "  11.798339067492531,\n",
       "  19.692353465907523,\n",
       "  19.692353465907523],\n",
       " 'V_s = None P_tot_given = 500 CO2_g_per_km': [62478.46690547015,\n",
       "  62478.46690547015,\n",
       "  37432.912132317215,\n",
       "  37432.912132317215,\n",
       "  62478.46690547023,\n",
       "  62478.46690547023],\n",
       " 'V_s = None P_tot_given = 500 PM10_g_per_km': [34.344790754903386,\n",
       "  34.344790754903386,\n",
       "  20.652818089563034,\n",
       "  20.652818089563034,\n",
       "  34.344790754903414,\n",
       "  34.344790754903414],\n",
       " 'V_s = None P_tot_given = 500 NOx_g_per_km': [867.2059665613103,\n",
       "  867.2059665613103,\n",
       "  515.3547996928615,\n",
       "  515.3547996928615,\n",
       "  867.205966561311,\n",
       "  867.205966561311]}"
      ]
     },
     "execution_count": 13,
     "metadata": {},
     "output_type": "execute_result"
    }
   ],
   "source": [
    "# this is now in the plot data\n",
    "plot_data"
   ]
  },
  {
   "cell_type": "markdown",
   "metadata": {},
   "source": [
    "## Figure 11\n",
    "Fuel consumption (b) and emissions (c, d, e) of a fully loaded M8 ship sailing in the waterway with deep and mild deep water depth at different speed and power levels. (a) represents the longisection of a 300 km long and 6 m deep waterway with an 100 km mild deep part (water depth is 4 m) in the mid-section. M8 ship characteristics: engine construction year = 1990, installed engine power = 1750 kW, length =110 m, beam = 11.4 m, ctual draught = 3.5 m, payload = 2700 ton."
   ]
  },
  {
   "cell_type": "markdown",
   "metadata": {},
   "source": [
    "The below results of fuel (diesel) consumption, emissions rates at different ship speeds used for Figure 11 are calculated from the above simulation by changing ship speed and water depth."
   ]
  },
  {
   "cell_type": "code",
   "execution_count": 14,
   "metadata": {},
   "outputs": [
    {
     "name": "stderr",
     "output_type": "stream",
     "text": [
      "WARNING:matplotlib.legend:No handles with labels found to put in legend.\n"
     ]
    },
    {
     "data": {
      "image/png": "[encoded data removed]",
      "text/plain": [
       "<Figure size 576x720 with 25 Axes>"
      ]
     },
     "metadata": {
      "needs_background": "light"
     },
     "output_type": "display_data"
    }
   ],
   "source": [
    "fig, axs = plt.subplots(5, 1, figsize=(8, 10), sharex=True,constrained_layout=True)\n",
    "fontsize=12\n",
    "\n",
    "ax=plt.subplot(511)    # Longitudinal section of the waterway\n",
    "plt.title('M8 vessel: L$_s$ = 110 m, B$_s$ = 11.40 m, T$_s$ = 3.5 m, payload = 2727 ton, P$_{installed}$= 1750 kW',y=1.05)\n",
    "# these values you probably want to extract from the graph, or from the log (minimise the manual work!!)\n",
    "dist=[0,100,100,200,200,300]\n",
    "water_level=[2.5,2.5,1,1,2.5,2.5,]\n",
    "bed_level=[1,1,2.5,2.5,1,1]\n",
    "draft=[3.5,3.5,3.5,3.5,3.5,3.5,]\n",
    "\n",
    "plt.stackplot(dist,bed_level,water_level,draft, labels=['bed','water','actual draught'],colors=['#7f7053','#75bbfd','#95d0fc'])\n",
    "plt.ylabel('Longitudinal section \\n of the waterway',fontsize=12,fontweight='bold',labelpad=22)\n",
    "plt.xlim(0, 300)\n",
    "plt.ylim(0, 14)\n",
    "plt.xticks( weight = 'bold')\n",
    "plt.yticks([1,3.5,7], weight = 'bold', fontsize=12)\n",
    "ax.legend(loc='upper left')\n",
    "ax.text(285, 12, '(a)', fontsize=12,weight = 'bold')\n",
    "\n",
    "ax=plt.subplot(512)    #  fuel (diesel) consumption kg/km \n",
    "\n",
    "diesel_fv1=(plot_data['V_s = 3.0 P_tot_given = None fuel_kg_per_km']) # use values from the output_plot variable\n",
    "diesel_fv2=(plot_data['V_s = 3.5 P_tot_given = None fuel_kg_per_km'])\n",
    "diesel_fv3=(plot_data['V_s = 4.0 P_tot_given = None fuel_kg_per_km'])\n",
    "diesel_fp1=(plot_data['V_s = None P_tot_given = 251 fuel_kg_per_km'])\n",
    "diesel_fp2=(plot_data['V_s = None P_tot_given = 344 fuel_kg_per_km'])\n",
    "diesel_fp3=(plot_data['V_s = None P_tot_given = 500 fuel_kg_per_km'])\n",
    "\n",
    "plt.plot(dist, diesel_fv1,':',color='#f1da7a',linewidth='2',label='Vs=3 m/s')\n",
    "plt.plot(dist, diesel_fv2,'-.',color='#bf9005',linewidth='2',label='Vs=3.5 m/s')\n",
    "plt.plot(dist, diesel_fv3,'--',color='#7f4e1e',linewidth='2',label='Vs=4 m/s')\n",
    "plt.plot(dist, diesel_fp1,color='#f1da7a',linewidth='2',label='P=251 kW')\n",
    "plt.plot(dist, diesel_fp2,color='#bf9005',linewidth='2',label='P=344 kW')\n",
    "plt.plot(dist, diesel_fp3,color='#7f4e1e',linewidth='2',label='P=500 kW')\n",
    "plt.ylabel('Fuel use\\n (kg/km)',fontsize=12,fontweight='bold',labelpad=26)\n",
    "plt.ylim(0, 20)\n",
    "plt.xlim(0, 300)\n",
    "plt.xticks( weight = 'bold')\n",
    "plt.yticks( weight = 'bold', fontsize=12)\n",
    "ax.legend(loc='upper left')\n",
    "ax.text(285, 25*11/13, '(b)', fontsize=12,weight = 'bold')\n",
    "\n",
    "ax=plt.subplot(513)    #  CO2 emission rates g/km\n",
    "ax.legend(loc='upper left')\n",
    "\n",
    "EMrCO2_fv1=(plot_data['V_s = 3.0 P_tot_given = None CO2_g_per_km'])\n",
    "EMrCO2_fv2=(plot_data['V_s = 3.5 P_tot_given = None CO2_g_per_km'])\n",
    "EMrCO2_fv3=(plot_data['V_s = 4.0 P_tot_given = None CO2_g_per_km'])\n",
    "EMrCO2_fp1=(plot_data['V_s = None P_tot_given = 251 CO2_g_per_km'])\n",
    "EMrCO2_fp2=(plot_data['V_s = None P_tot_given = 344 CO2_g_per_km'])\n",
    "EMrCO2_fp3=(plot_data['V_s = None P_tot_given = 500 CO2_g_per_km'])\n",
    "\n",
    "plt.plot(dist, EMrCO2_fv1,':',color='yellow',linewidth='2',label='Vs=3 m/s')\n",
    "plt.plot(dist, EMrCO2_fv2,'-.',color='orange',linewidth='2',label='Vs=3.5 m/s')\n",
    "plt.plot(dist, EMrCO2_fv3,'--',color='red',linewidth='2',label='Vs=4 m/s')\n",
    "plt.plot(dist, EMrCO2_fp1,color='yellow',linewidth='2',label='P=251 kW')\n",
    "plt.plot(dist, EMrCO2_fp2,color='orange',linewidth='2',label='P=344 kW')\n",
    "plt.plot(dist, EMrCO2_fp3,color='red',linewidth='2',label='P=500 kW')\n",
    "ax.legend(loc='upper left')\n",
    "plt.ylabel('CO2 emission \\n rate (g/km)',fontsize=12,fontweight='bold',labelpad=2)\n",
    "plt.ylim(0, 50000)\n",
    "plt.xlim(0, 300)\n",
    "plt.xticks( weight = 'bold')\n",
    "plt.yticks( weight = 'bold', fontsize=12)\n",
    "ax.text(285, 50000*11/13, '(c)', fontsize=12,weight = 'bold')\n",
    "\n",
    "ax=plt.subplot(514)    #  PM10 emission rates g/km\n",
    "\n",
    "EMrPM10_fv1=(plot_data['V_s = 3.0 P_tot_given = None PM10_g_per_km'])\n",
    "EMrPM10_fv2=(plot_data['V_s = 3.5 P_tot_given = None PM10_g_per_km'])\n",
    "EMrPM10_fv3=(plot_data['V_s = 4.0 P_tot_given = None PM10_g_per_km'])\n",
    "EMrPM10_fp1=(plot_data['V_s = None P_tot_given = 251 PM10_g_per_km'])\n",
    "EMrPM10_fp2=(plot_data['V_s = None P_tot_given = 344 PM10_g_per_km'])\n",
    "EMrPM10_fp3=(plot_data['V_s = None P_tot_given = 500 PM10_g_per_km'])\n",
    "\n",
    "plt.plot(dist, EMrPM10_fv1,':',color='paleturquoise',linewidth='2',label='Vs=3 m/s')\n",
    "plt.plot(dist, EMrPM10_fv2,'-.',color='mediumseagreen',linewidth='2',label='Vs=3.5 m/s')\n",
    "plt.plot(dist, EMrPM10_fv3,'--',color='darkgreen',linewidth='2',label='Vs=4 m/s')\n",
    "plt.plot(dist, EMrPM10_fp1,color='paleturquoise',linewidth='2',label='P=251 kW')\n",
    "plt.plot(dist, EMrPM10_fp2,color='mediumseagreen',linewidth='2',label='P=344 kW')\n",
    "plt.plot(dist, EMrPM10_fp3,color='darkgreen',linewidth='2',label='P=500 kW')\n",
    "ax.legend(loc='upper left')\n",
    "plt.ylabel('PM10 emission \\n rate (g/km)',fontsize=12,fontweight='bold',labelpad=26)\n",
    "plt.ylim(0, 30)\n",
    "plt.xlim(0, 300)\n",
    "plt.xticks( weight = 'bold')\n",
    "plt.yticks( weight = 'bold', fontsize=12)\n",
    "ax.text(285, 30*11/13, '(d)', fontsize=12,weight = 'bold')\n",
    "\n",
    "ax=plt.subplot(515)     #  NOx emission rates g/km\n",
    "\n",
    "EMrNOx_fv1=(plot_data['V_s = 3.0 P_tot_given = None NOx_g_per_km'])\n",
    "EMrNOx_fv2=(plot_data['V_s = 3.5 P_tot_given = None NOx_g_per_km'])\n",
    "EMrNOx_fv3=(plot_data['V_s = 4.0 P_tot_given = None NOx_g_per_km'])\n",
    "EMrNOx_fp1=(plot_data['V_s = None P_tot_given = 251 NOx_g_per_km'])\n",
    "EMrNOx_fp2=(plot_data['V_s = None P_tot_given = 344 NOx_g_per_km'])\n",
    "EMrNOx_fp3=(plot_data['V_s = None P_tot_given = 500 NOx_g_per_km'])\n",
    "\n",
    "plt.plot(dist, EMrNOx_fv1,':',color='pink',linewidth='2',label='Vs=3 m/s')\n",
    "plt.plot(dist, EMrNOx_fv2,'-.',color='deeppink',linewidth='2',label='Vs=3.5 m/s')\n",
    "plt.plot(dist, EMrNOx_fv3,'--',color='purple',linewidth='2',label='Vs=4 m/s')\n",
    "plt.plot(dist, EMrNOx_fp1,color='pink',linewidth='2',label='P=251 kW')\n",
    "plt.plot(dist, EMrNOx_fp2,color='deeppink',linewidth='2',label='P=344 kW')\n",
    "plt.plot(dist, EMrNOx_fp3,color='purple',linewidth='2',label='P=500 kW')\n",
    "plt.ylabel('NOx emission \\n rate (g/km)',fontsize=12,fontweight='bold',labelpad=20)\n",
    "plt.xlabel('distance (km)',fontsize=12,fontweight='bold',labelpad=3)\n",
    "plt.ylim(0, 800)\n",
    "plt.xlim(0, 300)\n",
    "ax.legend(loc='upper left')\n",
    "plt.xticks([0,100,200,300], weight = 'bold', fontsize=12)\n",
    "plt.yticks( weight = 'bold', fontsize=12)\n",
    "ax.text(285, 800*11/13, '(e)', fontsize=12,weight = 'bold')\n",
    "\n",
    "plt.savefig('Fig_11.pdf',bbox_inches = 'tight', dpi=600, format='pdf')  "
   ]
  },
  {
   "cell_type": "code",
   "execution_count": null,
   "metadata": {},
   "outputs": [],
   "source": []
  }
 ],
 "metadata": {
  "kernelspec": {
   "display_name": "Python 3",
   "language": "python",
   "name": "python3"
  },
  "language_info": {
   "codemirror_mode": {
    "name": "ipython",
    "version": 3
   },
   "file_extension": ".py",
   "mimetype": "text/x-python",
   "name": "python",
   "nbconvert_exporter": "python",
   "pygments_lexer": "ipython3",
   "version": "3.8.6"
  }
 },
 "nbformat": 4,
 "nbformat_minor": 5
}
