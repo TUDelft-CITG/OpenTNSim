{
 "cells": [
  {
   "cell_type": "code",
   "execution_count": 4,
   "id": "3a8ec107",
   "metadata": {},
   "outputs": [],
   "source": [
    "import json\n",
    "\n",
    "import geopandas as gpd\n",
    "import matplotlib.pyplot as plt\n",
    "import ipyleaflet \n",
    "# import dtv_backend.fis\n",
    "import opentnsim.strategy\n",
    "import opentnsim.energy"
   ]
  },
  {
   "cell_type": "code",
   "execution_count": 2,
   "id": "0d2319fb",
   "metadata": {},
   "outputs": [],
   "source": [
    "# Go to the Digital Twin Vaarwegen website and click together a scenario. Export the scenario."
   ]
  },
  {
   "cell_type": "code",
   "execution_count": 3,
   "id": "73e46fc3",
   "metadata": {},
   "outputs": [],
   "source": [
    "# # Load the config file with all the settings\n",
    "# with open('../tests/data/ect-bctn.json') as f:\n",
    "#     config = json.load(f)\n",
    "    "
   ]
  },
  {
   "cell_type": "code",
   "execution_count": 11,
   "id": "e860e331-0429-4d05-b4ed-b6d57eba74ba",
   "metadata": {},
   "outputs": [],
   "source": [
    "# Load the config file with all the settings\n",
    "with open('Mainz2Cologne.geojson') as f:\n",
    "    config = json.load(f)"
   ]
  },
  {
   "cell_type": "code",
   "execution_count": 12,
   "id": "07a1b47d",
   "metadata": {},
   "outputs": [
    {
     "data": {
      "text/plain": [
       "dict_keys(['route', 'waypoints', 'sites', 'fleet', 'operator', 'climate', 'quantities', 'options'])"
      ]
     },
     "execution_count": 12,
     "metadata": {},
     "output_type": "execute_result"
    }
   ],
   "source": [
    "# Show the list of settings in the config file\n",
    "config.keys()"
   ]
  },
  {
   "cell_type": "code",
   "execution_count": 13,
   "id": "d5410d4d",
   "metadata": {},
   "outputs": [],
   "source": [
    "# Load the waypoints\n",
    "waypoints_gdf = gpd.GeoDataFrame.from_features(config['waypoints'])\n",
    "route_gdf = gpd.GeoDataFrame.from_features(config['route'])\n",
    "fleet_gdf = gpd.GeoDataFrame.from_features(config['fleet'])\n",
    "sites_gdf = gpd.GeoDataFrame.from_features(config['sites'])\n",
    "bathymetry_gdf = gpd.GeoDataFrame.from_features(config['quantities']['bathymetry'])\n",
    "velocities_gdf = gpd.GeoDataFrame.from_features(config['quantities']['velocities'])\n",
    "waterlevel_gdf = gpd.GeoDataFrame.from_features(config['quantities']['waterlevels'])"
   ]
  },
  {
   "cell_type": "code",
   "execution_count": 19,
   "id": "babd1111-6c11-4ed3-8af3-6a001741fa8e",
   "metadata": {},
   "outputs": [
    {
     "data": {
      "text/html": [
       "<div>\n",
       "<style scoped>\n",
       "    .dataframe tbody tr th:only-of-type {\n",
       "        vertical-align: middle;\n",
       "    }\n",
       "\n",
       "    .dataframe tbody tr th {\n",
       "        vertical-align: top;\n",
       "    }\n",
       "\n",
       "    .dataframe thead th {\n",
       "        text-align: right;\n",
       "    }\n",
       "</style>\n",
       "<table border=\"1\" class=\"dataframe\">\n",
       "  <thead>\n",
       "    <tr style=\"text-align: right;\">\n",
       "      <th></th>\n",
       "      <th>geometry</th>\n",
       "      <th>lat_p5</th>\n",
       "      <th>lat_p50</th>\n",
       "      <th>lat_p95</th>\n",
       "      <th>length_m</th>\n",
       "      <th>nap_p5</th>\n",
       "      <th>nap_p50</th>\n",
       "      <th>nap_p95</th>\n",
       "      <th>source</th>\n",
       "      <th>target</th>\n",
       "      <th>velocity</th>\n",
       "      <th>waterlevel</th>\n",
       "    </tr>\n",
       "  </thead>\n",
       "  <tbody>\n",
       "    <tr>\n",
       "      <th>0</th>\n",
       "      <td>LINESTRING (5.75612 52.57363, 5.75609 52.57429...</td>\n",
       "      <td>None</td>\n",
       "      <td>None</td>\n",
       "      <td>None</td>\n",
       "      <td>590.576576</td>\n",
       "      <td>NaN</td>\n",
       "      <td>NaN</td>\n",
       "      <td>NaN</td>\n",
       "      <td>8864726</td>\n",
       "      <td>8861055</td>\n",
       "      <td>0.29</td>\n",
       "      <td>NaN</td>\n",
       "    </tr>\n",
       "    <tr>\n",
       "      <th>1</th>\n",
       "      <td>LINESTRING (5.75786 52.57861, 5.75789 52.57872...</td>\n",
       "      <td>None</td>\n",
       "      <td>None</td>\n",
       "      <td>None</td>\n",
       "      <td>22.017411</td>\n",
       "      <td>NaN</td>\n",
       "      <td>NaN</td>\n",
       "      <td>NaN</td>\n",
       "      <td>8861055</td>\n",
       "      <td>B55783_A</td>\n",
       "      <td>0.29</td>\n",
       "      <td>NaN</td>\n",
       "    </tr>\n",
       "    <tr>\n",
       "      <th>2</th>\n",
       "      <td>LINESTRING (5.81917 51.84484, 5.82514 51.85149)</td>\n",
       "      <td>None</td>\n",
       "      <td>None</td>\n",
       "      <td>None</td>\n",
       "      <td>988.927530</td>\n",
       "      <td>NaN</td>\n",
       "      <td>NaN</td>\n",
       "      <td>NaN</td>\n",
       "      <td>8863811</td>\n",
       "      <td>8867825</td>\n",
       "      <td>1.06</td>\n",
       "      <td>6.898596</td>\n",
       "    </tr>\n",
       "    <tr>\n",
       "      <th>3</th>\n",
       "      <td>LINESTRING (5.65621 51.96057, 5.65844 51.96166)</td>\n",
       "      <td>None</td>\n",
       "      <td>None</td>\n",
       "      <td>None</td>\n",
       "      <td>274.912552</td>\n",
       "      <td>NaN</td>\n",
       "      <td>NaN</td>\n",
       "      <td>NaN</td>\n",
       "      <td>8867976</td>\n",
       "      <td>8863993</td>\n",
       "      <td>0.44</td>\n",
       "      <td>6.061598</td>\n",
       "    </tr>\n",
       "    <tr>\n",
       "      <th>4</th>\n",
       "      <td>LINESTRING (5.64924 51.95415, 5.64967 51.95548...</td>\n",
       "      <td>None</td>\n",
       "      <td>None</td>\n",
       "      <td>None</td>\n",
       "      <td>1081.974820</td>\n",
       "      <td>1.461811</td>\n",
       "      <td>1.589438</td>\n",
       "      <td>1.826923</td>\n",
       "      <td>8867976</td>\n",
       "      <td>8868222</td>\n",
       "      <td>0.44</td>\n",
       "      <td>6.061598</td>\n",
       "    </tr>\n",
       "    <tr>\n",
       "      <th>...</th>\n",
       "      <td>...</td>\n",
       "      <td>...</td>\n",
       "      <td>...</td>\n",
       "      <td>...</td>\n",
       "      <td>...</td>\n",
       "      <td>...</td>\n",
       "      <td>...</td>\n",
       "      <td>...</td>\n",
       "      <td>...</td>\n",
       "      <td>...</td>\n",
       "      <td>...</td>\n",
       "      <td>...</td>\n",
       "    </tr>\n",
       "    <tr>\n",
       "      <th>525</th>\n",
       "      <td>LINESTRING (5.22515 51.81664, 5.22378 51.81631)</td>\n",
       "      <td>None</td>\n",
       "      <td>None</td>\n",
       "      <td>None</td>\n",
       "      <td>155.974627</td>\n",
       "      <td>-14.558473</td>\n",
       "      <td>-14.142607</td>\n",
       "      <td>-13.786260</td>\n",
       "      <td>Berth300</td>\n",
       "      <td>Berth301</td>\n",
       "      <td>1.01</td>\n",
       "      <td>1.962397</td>\n",
       "    </tr>\n",
       "    <tr>\n",
       "      <th>526</th>\n",
       "      <td>LINESTRING (5.22378 51.81631, 5.22242 51.81599)</td>\n",
       "      <td>None</td>\n",
       "      <td>None</td>\n",
       "      <td>None</td>\n",
       "      <td>153.638585</td>\n",
       "      <td>-15.261757</td>\n",
       "      <td>-14.721581</td>\n",
       "      <td>-14.247894</td>\n",
       "      <td>Berth301</td>\n",
       "      <td>Berth302</td>\n",
       "      <td>1.01</td>\n",
       "      <td>1.962397</td>\n",
       "    </tr>\n",
       "    <tr>\n",
       "      <th>527</th>\n",
       "      <td>LINESTRING (5.22242 51.81599, 5.22108 51.81567)</td>\n",
       "      <td>None</td>\n",
       "      <td>None</td>\n",
       "      <td>None</td>\n",
       "      <td>152.821400</td>\n",
       "      <td>-15.326326</td>\n",
       "      <td>-15.294893</td>\n",
       "      <td>-15.257273</td>\n",
       "      <td>Berth302</td>\n",
       "      <td>Berth303</td>\n",
       "      <td>1.01</td>\n",
       "      <td>1.962397</td>\n",
       "    </tr>\n",
       "    <tr>\n",
       "      <th>528</th>\n",
       "      <td>LINESTRING (5.22108 51.81567, 5.21902 51.81518)</td>\n",
       "      <td>None</td>\n",
       "      <td>None</td>\n",
       "      <td>None</td>\n",
       "      <td>234.095871</td>\n",
       "      <td>-15.266959</td>\n",
       "      <td>-11.524971</td>\n",
       "      <td>-3.204976</td>\n",
       "      <td>Berth303</td>\n",
       "      <td>8865499</td>\n",
       "      <td>1.01</td>\n",
       "      <td>1.962397</td>\n",
       "    </tr>\n",
       "    <tr>\n",
       "      <th>529</th>\n",
       "      <td>LINESTRING (4.96695 51.82794, 4.96710 51.82793)</td>\n",
       "      <td>None</td>\n",
       "      <td>None</td>\n",
       "      <td>None</td>\n",
       "      <td>16.952084</td>\n",
       "      <td>-4.598217</td>\n",
       "      <td>-4.549976</td>\n",
       "      <td>-4.485085</td>\n",
       "      <td>Berth305</td>\n",
       "      <td>22638307</td>\n",
       "      <td>0.61</td>\n",
       "      <td>0.990799</td>\n",
       "    </tr>\n",
       "  </tbody>\n",
       "</table>\n",
       "<p>530 rows × 12 columns</p>\n",
       "</div>"
      ],
      "text/plain": [
       "                                              geometry lat_p5 lat_p50 lat_p95  \\\n",
       "0    LINESTRING (5.75612 52.57363, 5.75609 52.57429...   None    None    None   \n",
       "1    LINESTRING (5.75786 52.57861, 5.75789 52.57872...   None    None    None   \n",
       "2      LINESTRING (5.81917 51.84484, 5.82514 51.85149)   None    None    None   \n",
       "3      LINESTRING (5.65621 51.96057, 5.65844 51.96166)   None    None    None   \n",
       "4    LINESTRING (5.64924 51.95415, 5.64967 51.95548...   None    None    None   \n",
       "..                                                 ...    ...     ...     ...   \n",
       "525    LINESTRING (5.22515 51.81664, 5.22378 51.81631)   None    None    None   \n",
       "526    LINESTRING (5.22378 51.81631, 5.22242 51.81599)   None    None    None   \n",
       "527    LINESTRING (5.22242 51.81599, 5.22108 51.81567)   None    None    None   \n",
       "528    LINESTRING (5.22108 51.81567, 5.21902 51.81518)   None    None    None   \n",
       "529    LINESTRING (4.96695 51.82794, 4.96710 51.82793)   None    None    None   \n",
       "\n",
       "        length_m     nap_p5    nap_p50    nap_p95    source    target  \\\n",
       "0     590.576576        NaN        NaN        NaN   8864726   8861055   \n",
       "1      22.017411        NaN        NaN        NaN   8861055  B55783_A   \n",
       "2     988.927530        NaN        NaN        NaN   8863811   8867825   \n",
       "3     274.912552        NaN        NaN        NaN   8867976   8863993   \n",
       "4    1081.974820   1.461811   1.589438   1.826923   8867976   8868222   \n",
       "..           ...        ...        ...        ...       ...       ...   \n",
       "525   155.974627 -14.558473 -14.142607 -13.786260  Berth300  Berth301   \n",
       "526   153.638585 -15.261757 -14.721581 -14.247894  Berth301  Berth302   \n",
       "527   152.821400 -15.326326 -15.294893 -15.257273  Berth302  Berth303   \n",
       "528   234.095871 -15.266959 -11.524971  -3.204976  Berth303   8865499   \n",
       "529    16.952084  -4.598217  -4.549976  -4.485085  Berth305  22638307   \n",
       "\n",
       "     velocity  waterlevel  \n",
       "0        0.29         NaN  \n",
       "1        0.29         NaN  \n",
       "2        1.06    6.898596  \n",
       "3        0.44    6.061598  \n",
       "4        0.44    6.061598  \n",
       "..        ...         ...  \n",
       "525      1.01    1.962397  \n",
       "526      1.01    1.962397  \n",
       "527      1.01    1.962397  \n",
       "528      1.01    1.962397  \n",
       "529      0.61    0.990799  \n",
       "\n",
       "[530 rows x 12 columns]"
      ]
     },
     "execution_count": 19,
     "metadata": {},
     "output_type": "execute_result"
    }
   ],
   "source": [
    "velocities_gdf"
   ]
  },
  {
   "cell_type": "code",
   "execution_count": 15,
   "id": "ada80a6c",
   "metadata": {},
   "outputs": [
    {
     "data": {
      "text/plain": [
       "<AxesSubplot:>"
      ]
     },
     "execution_count": 15,
     "metadata": {},
     "output_type": "execute_result"
    },
    {
     "data": {
      "image/png": "[encoded data removed]",
      "text/plain": [
       "<Figure size 936x576 with 1 Axes>"
      ]
     },
     "metadata": {
      "needs_background": "light"
     },
     "output_type": "display_data"
    }
   ],
   "source": [
    "fig, ax = plt.subplots(figsize=(13, 8))\n",
    "bathymetry_gdf.plot('nap_p50', cmap='BuPu_r', ax=ax)\n",
    "route_gdf.plot(ax=ax, color='black')\n",
    "waypoints_gdf.plot(ax=ax, color='green')\n",
    "fleet_gdf.plot(ax=ax, color='red')"
   ]
  },
  {
   "cell_type": "code",
   "execution_count": 7,
   "id": "189343a8",
   "metadata": {},
   "outputs": [
    {
     "data": {
      "application/vnd.jupyter.widget-view+json": {
       "model_id": "8b09fa6483544ab39cefd773316fa6b1",
       "version_major": 2,
       "version_minor": 0
      },
      "text/plain": [
       "Map(center=[51.87005200395497, 4.923271114583653], controls=(ZoomControl(options=['position', 'zoom_in_text', …"
      ]
     },
     "metadata": {},
     "output_type": "display_data"
    }
   ],
   "source": [
    "# take the center of the route\n",
    "center_geometry = route_gdf.dissolve().centroid.iloc[0]\n",
    "# lon/lat - lat/lon \n",
    "center = (center_geometry.y, center_geometry.x)\n",
    "\n",
    "# add map\n",
    "m = ipyleaflet.Map(center=center, zoom=8)\n",
    "\n",
    "# add the layers\n",
    "route_geo_data = ipyleaflet.GeoData(geo_dataframe = route_gdf, name = 'route')\n",
    "m.add_layer(route_geo_data)\n",
    "fleet_geo_data = ipyleaflet.GeoData(geo_dataframe = fleet_gdf, name = 'fleet', style={'color': 'red'})\n",
    "m.add_layer(fleet_geo_data)\n",
    "\n",
    "# show the map\n",
    "m"
   ]
  },
  {
   "cell_type": "code",
   "execution_count": 22,
   "id": "f9ec47ef",
   "metadata": {},
   "outputs": [],
   "source": [
    "def compute_draught_load_fraction(vessel_row):\n",
    "    level = 280\n",
    "    capacity = 400\n",
    "    filling_degree = level / capacity\n",
    "    T_f = vessel_row['Draught loaded [m]']\n",
    "    T_e = vessel_row['Draught empty [m]']\n",
    "    T_range = T_f - T_e\n",
    "    T = (T_range * filling_degree) + T_e\n",
    "    return T\n",
    "\n",
    "def create_vessel(vessel_row, **kwargs):\n",
    "    model_input = {\n",
    "        'L': vessel_row['Length [m]'],\n",
    "        'B': vessel_row['Beam [m]'],\n",
    "        'type': vessel_row['RWS-class'],\n",
    "        'P_installed': float(vessel_row['Engine power maximum [kW]']),\n",
    "        'L_w': 3,\n",
    "        'C_year': 2000,\n",
    "        'P_hotel_perc': 0.05\n",
    "    }\n",
    "    model_input.update(**kwargs)\n",
    "\n",
    "    Vessel = type('Vessel', (opentnsim.core.VesselProperties, opentnsim.energy.ConsumesEnergy), {})\n",
    "    vessel = Vessel(**model_input)\n",
    "    return vessel\n",
    "\n",
    "def compute_draught_dorsser(vessel_row):\n",
    "    vessel = create_vessel(vessel_row)\n",
    "    payload_strategy = vessel_row['Load Weight average [ton]']\n",
    "    \n",
    "    T = opentnsim.strategy.Payload2T(vessel=vessel, Payload_strategy=payload_strategy, vessel_type='Container')\n",
    "    return T\n",
    "\n",
    "    "
   ]
  },
  {
   "cell_type": "code",
   "execution_count": 23,
   "id": "b1a0c721",
   "metadata": {},
   "outputs": [
    {
     "name": "stdout",
     "output_type": "stream",
     "text": [
      "load fraction method 2.87\n",
      "dorsser method 3.306212117667675\n"
     ]
    }
   ],
   "source": [
    "vessel_row = fleet_gdf.iloc[0]\n",
    "print('load fraction method', compute_draught_load_fraction(vessel_row))\n",
    "print('dorsser method', compute_draught_dorsser(vessel_row))\n",
    "\n",
    "# Notebook 12.\n"
   ]
  },
  {
   "cell_type": "code",
   "execution_count": 34,
   "id": "6c5baae6",
   "metadata": {},
   "outputs": [],
   "source": [
    "T = compute_draught_load_fraction(vessel_row)\n",
    "vessel = create_vessel(vessel_row, T=T, P_tot_given=1800)"
   ]
  },
  {
   "cell_type": "code",
   "execution_count": 35,
   "id": "b1e61d93",
   "metadata": {},
   "outputs": [
    {
     "data": {
      "text/plain": [
       "3.8649135275738544"
      ]
     },
     "execution_count": 35,
     "metadata": {},
     "output_type": "execute_result"
    }
   ],
   "source": [
    "edge = {'Info': {'GeneralDepth': 3}}\n",
    "opentnsim.energy.power2v(vessel, edge, upperbound=10)"
   ]
  },
  {
   "cell_type": "code",
   "execution_count": 12,
   "id": "45d8e94f",
   "metadata": {},
   "outputs": [
    {
     "data": {
      "text/plain": [
       "{'ship_specification': {'length': 135, 'width': 11.4, 'design_draught': 3.5},\n",
       " 'ship_loadcase': {'draught': 2.5},\n",
       " 'ship_conditions': {'water_depth': 10, 'speed': [1, 3, 5, 7]}}"
      ]
     },
     "execution_count": 12,
     "metadata": {},
     "output_type": "execute_result"
    }
   ],
   "source": [
    "{\n",
    "  \"ship_specification\": {\n",
    "    \"length\": 135,\n",
    "    \"width\": 11.4,\n",
    "    \"design_draught\": 3.5\n",
    "  },\n",
    "  \"ship_loadcase\": {\n",
    "    \"draught\": 2.5\n",
    "  },\n",
    "  \"ship_conditions\": {\n",
    "    \"water_depth\": 10,\n",
    "    \"speed\": [\n",
    "      1,\n",
    "      3,\n",
    "      5,\n",
    "      7\n",
    "    ]\n",
    "  }\n",
    "}"
   ]
  },
  {
   "cell_type": "code",
   "execution_count": null,
   "id": "2855574b",
   "metadata": {},
   "outputs": [],
   "source": []
  }
 ],
 "metadata": {
  "kernelspec": {
   "display_name": "Python 3 (ipykernel)",
   "language": "python",
   "name": "python3"
  },
  "language_info": {
   "codemirror_mode": {
    "name": "ipython",
    "version": 3
   },
   "file_extension": ".py",
   "mimetype": "text/x-python",
   "name": "python",
   "nbconvert_exporter": "python",
   "pygments_lexer": "ipython3",
   "version": "3.9.10"
  }
 },
 "nbformat": 4,
 "nbformat_minor": 5
}
