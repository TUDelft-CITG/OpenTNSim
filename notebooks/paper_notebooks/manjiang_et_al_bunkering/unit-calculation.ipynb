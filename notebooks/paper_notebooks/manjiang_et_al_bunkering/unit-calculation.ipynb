{
 "cells": [
  {
   "cell_type": "code",
   "execution_count": 1,
   "id": "a440618e",
   "metadata": {},
   "outputs": [],
   "source": [
    "import pint\n",
    "import math"
   ]
  },
  {
   "cell_type": "code",
   "execution_count": 2,
   "id": "09f9254f",
   "metadata": {},
   "outputs": [],
   "source": [
    "ureg = pint.UnitRegistry()"
   ]
  },
  {
   "cell_type": "code",
   "execution_count": 3,
   "id": "54308a8c",
   "metadata": {},
   "outputs": [
    {
     "data": {
      "text/html": [
       "150 kilometer"
      ],
      "text/latex": [
       "$150\\ \\mathrm{kilometer}$"
      ],
      "text/plain": [
       "150 <Unit('kilometer')>"
      ]
     },
     "execution_count": 3,
     "metadata": {},
     "output_type": "execute_result"
    }
   ],
   "source": [
    "distance = 150 * ureg.kilometer\n",
    "distance"
   ]
  },
  {
   "cell_type": "code",
   "execution_count": 4,
   "id": "896a38ce",
   "metadata": {},
   "outputs": [
    {
     "data": {
      "text/html": [
       "500 kilowatt"
      ],
      "text/latex": [
       "$500\\ \\mathrm{kilowatt}$"
      ],
      "text/plain": [
       "500 <Unit('kilowatt')>"
      ]
     },
     "execution_count": 4,
     "metadata": {},
     "output_type": "execute_result"
    }
   ],
   "source": [
    "average_total_power = 500 * ureg.kilowatt\n",
    "average_total_power"
   ]
  },
  {
   "cell_type": "code",
   "execution_count": 5,
   "id": "61de9592",
   "metadata": {},
   "outputs": [],
   "source": [
    "velocity = 4 * ureg.meter_per_second"
   ]
  },
  {
   "cell_type": "code",
   "execution_count": 6,
   "id": "e83883b0",
   "metadata": {},
   "outputs": [
    {
     "data": {
      "text/html": [
       "37500.0 second"
      ],
      "text/latex": [
       "$37500.0\\ \\mathrm{second}$"
      ],
      "text/plain": [
       "37500.0 <Unit('second')>"
      ]
     },
     "execution_count": 6,
     "metadata": {},
     "output_type": "execute_result"
    }
   ],
   "source": [
    "duration = distance / velocity\n",
    "duration = duration.to_base_units()\n",
    "duration"
   ]
  },
  {
   "cell_type": "code",
   "execution_count": 7,
   "id": "1df6da1d",
   "metadata": {},
   "outputs": [
    {
     "data": {
      "text/html": [
       "5208.333333333333 kilowatt_hour"
      ],
      "text/latex": [
       "$5208.333333333333\\ \\mathrm{kilowatt\\_hour}$"
      ],
      "text/plain": [
       "5208.333333333333 <Unit('kilowatt_hour')>"
      ]
     },
     "execution_count": 7,
     "metadata": {},
     "output_type": "execute_result"
    }
   ],
   "source": [
    "energy_for_segment = (duration * average_total_power).to(ureg.kilowatt_hour)\n",
    "energy_for_segment"
   ]
  },
  {
   "cell_type": "code",
   "execution_count": 8,
   "id": "771ed5d8",
   "metadata": {},
   "outputs": [
    {
     "data": {
      "text/html": [
       "58 meter<sup>3</sup>"
      ],
      "text/latex": [
       "$58\\ \\mathrm{meter}^{3}$"
      ],
      "text/plain": [
       "58 <Unit('meter ** 3')>"
      ]
     },
     "execution_count": 8,
     "metadata": {},
     "output_type": "execute_result"
    }
   ],
   "source": [
    "fuel_tank = 58 * (ureg.meter ** 3)\n",
    "fuel_tank"
   ]
  },
  {
   "cell_type": "code",
   "execution_count": 9,
   "id": "0fcf5765",
   "metadata": {},
   "outputs": [
    {
     "data": {
      "text/html": [
       "200.0 gram/kilowatt_hour"
      ],
      "text/latex": [
       "$200.0\\ \\frac{\\mathrm{gram}}{\\mathrm{kilowatt\\_hour}}$"
      ],
      "text/plain": [
       "200.0 <Unit('gram / kilowatt_hour')>"
      ]
     },
     "execution_count": 9,
     "metadata": {},
     "output_type": "execute_result"
    }
   ],
   "source": [
    "consumption = 200 * ureg.gram / (ureg.kilowatt_hour)\n",
    "consumption"
   ]
  },
  {
   "cell_type": "code",
   "execution_count": 10,
   "id": "164e6dea",
   "metadata": {},
   "outputs": [
    {
     "data": {
      "text/html": [
       "42.0 megajoule/kilogram"
      ],
      "text/latex": [
       "$42.0\\ \\frac{\\mathrm{megajoule}}{\\mathrm{kilogram}}$"
      ],
      "text/plain": [
       "42.0 <Unit('megajoule / kilogram')>"
      ]
     },
     "execution_count": 10,
     "metadata": {},
     "output_type": "execute_result"
    }
   ],
   "source": [
    "diesel_energy_density = 42 * ureg.megajoule / ureg.kilogram\n",
    "diesel_energy_density"
   ]
  },
  {
   "cell_type": "code",
   "execution_count": 11,
   "id": "6f62904e",
   "metadata": {},
   "outputs": [
    {
     "data": {
      "text/html": [
       "0.8 kilogram/liter"
      ],
      "text/latex": [
       "$0.8\\ \\frac{\\mathrm{kilogram}}{\\mathrm{liter}}$"
      ],
      "text/plain": [
       "0.8 <Unit('kilogram / liter')>"
      ]
     },
     "execution_count": 11,
     "metadata": {},
     "output_type": "execute_result"
    }
   ],
   "source": [
    "diesel_mass_density = 0.8 * ureg.kilogram / ureg.liter\n",
    "diesel_mass_density"
   ]
  },
  {
   "cell_type": "code",
   "execution_count": 12,
   "id": "345d65cb",
   "metadata": {},
   "outputs": [
    {
     "data": {
      "text/html": [
       "33.6 megajoule/liter"
      ],
      "text/latex": [
       "$33.6\\ \\frac{\\mathrm{megajoule}}{\\mathrm{liter}}$"
      ],
      "text/plain": [
       "33.6 <Unit('megajoule / liter')>"
      ]
     },
     "execution_count": 12,
     "metadata": {},
     "output_type": "execute_result"
    }
   ],
   "source": [
    "diesel_energy_per_volume_density = diesel_energy_density * diesel_mass_density\n",
    "diesel_energy_per_volume_density"
   ]
  },
  {
   "cell_type": "code",
   "execution_count": 13,
   "id": "f4234288",
   "metadata": {},
   "outputs": [
    {
     "data": {
      "text/html": [
       "46400.0 kilogram"
      ],
      "text/latex": [
       "$46400.0\\ \\mathrm{kilogram}$"
      ],
      "text/plain": [
       "46400.0 <Unit('kilogram')>"
      ]
     },
     "execution_count": 13,
     "metadata": {},
     "output_type": "execute_result"
    }
   ],
   "source": [
    "fuel_mass = (fuel_tank * diesel_mass_density).to(ureg.kilogram)\n",
    "fuel_mass"
   ]
  },
  {
   "cell_type": "code",
   "execution_count": 14,
   "id": "ba375818",
   "metadata": {},
   "outputs": [
    {
     "data": {
      "text/html": [
       "232000.0 kilowatt_hour"
      ],
      "text/latex": [
       "$232000.0\\ \\mathrm{kilowatt\\_hour}$"
      ],
      "text/plain": [
       "232000.0 <Unit('kilowatt_hour')>"
      ]
     },
     "execution_count": 14,
     "metadata": {},
     "output_type": "execute_result"
    }
   ],
   "source": [
    "diesel_energy_range = (fuel_mass / consumption).to(ureg.kilowatt_hour)\n",
    "diesel_energy_range"
   ]
  },
  {
   "cell_type": "code",
   "execution_count": 15,
   "id": "0ff7dafa",
   "metadata": {},
   "outputs": [
    {
     "data": {
      "text/html": [
       "464.0 hour"
      ],
      "text/latex": [
       "$464.0\\ \\mathrm{hour}$"
      ],
      "text/plain": [
       "464.0 <Unit('hour')>"
      ]
     },
     "execution_count": 15,
     "metadata": {},
     "output_type": "execute_result"
    }
   ],
   "source": [
    "diesel_max_duration =  (diesel_energy_range / average_total_power).to(ureg.hour)\n",
    "diesel_max_duration"
   ]
  },
  {
   "cell_type": "code",
   "execution_count": 16,
   "id": "6475eb3b",
   "metadata": {},
   "outputs": [
    {
     "data": {
      "text/html": [
       "6681.6 kilometer"
      ],
      "text/latex": [
       "$6681.6\\ \\mathrm{kilometer}$"
      ],
      "text/plain": [
       "6681.6 <Unit('kilometer')>"
      ]
     },
     "execution_count": 16,
     "metadata": {},
     "output_type": "execute_result"
    }
   ],
   "source": [
    "diesel_max_distance = diesel_max_duration * velocity\n",
    "diesel_max_distance.to(ureg.kilometer)"
   ]
  },
  {
   "cell_type": "code",
   "execution_count": 17,
   "id": "ef846783",
   "metadata": {},
   "outputs": [],
   "source": [
    "ureg.define('battery = 2000 * kilowatt_hour')"
   ]
  },
  {
   "cell_type": "code",
   "execution_count": 18,
   "id": "b42b2469",
   "metadata": {},
   "outputs": [
    {
     "data": {
      "text/html": [
       "2.6041666666666665 battery"
      ],
      "text/latex": [
       "$2.6041666666666665\\ \\mathrm{battery}$"
      ],
      "text/plain": [
       "2.6041666666666665 <Unit('battery')>"
      ]
     },
     "execution_count": 18,
     "metadata": {},
     "output_type": "execute_result"
    }
   ],
   "source": [
    "energy_for_segment.to('battery')"
   ]
  },
  {
   "cell_type": "code",
   "execution_count": 19,
   "id": "31c455b3",
   "metadata": {},
   "outputs": [
    {
     "data": {
      "text/plain": [
       "2"
      ]
     },
     "execution_count": 19,
     "metadata": {},
     "output_type": "execute_result"
    }
   ],
   "source": [
    "stops = (energy_for_segment / (2 * ureg.battery)).to_base_units()\n",
    "math.ceil(stops)"
   ]
  },
  {
   "cell_type": "code",
   "execution_count": 20,
   "id": "3f7e9f8b",
   "metadata": {},
   "outputs": [
    {
     "data": {
      "text/html": [
       "8.0 hour"
      ],
      "text/latex": [
       "$8.0\\ \\mathrm{hour}$"
      ],
      "text/plain": [
       "8.0 <Unit('hour')>"
      ]
     },
     "execution_count": 20,
     "metadata": {},
     "output_type": "execute_result"
    }
   ],
   "source": [
    "max_duration = (2 * ureg.battery) / average_total_power\n",
    "max_duration.to(ureg.hour)"
   ]
  },
  {
   "cell_type": "code",
   "execution_count": 21,
   "id": "8e9f78e3",
   "metadata": {},
   "outputs": [
    {
     "data": {
      "text/html": [
       "115.2 kilometer"
      ],
      "text/latex": [
       "$115.2\\ \\mathrm{kilometer}$"
      ],
      "text/plain": [
       "115.2 <Unit('kilometer')>"
      ]
     },
     "execution_count": 21,
     "metadata": {},
     "output_type": "execute_result"
    }
   ],
   "source": [
    "max_distance = (max_duration * velocity)\n",
    "max_distance.to(ureg.kilometer)"
   ]
  },
  {
   "cell_type": "code",
   "execution_count": 23,
   "id": "9e600c5c",
   "metadata": {},
   "outputs": [],
   "source": [
    "# 0 --- 40 75 110 --- 150"
   ]
  },
  {
   "cell_type": "code",
   "execution_count": null,
   "id": "0ca934fa",
   "metadata": {},
   "outputs": [],
   "source": []
  },
  {
   "cell_type": "code",
   "execution_count": null,
   "id": "2e1b7556",
   "metadata": {},
   "outputs": [],
   "source": [
    "56"
   ]
  }
 ],
 "metadata": {
  "kernelspec": {
   "display_name": "Python 3 (ipykernel)",
   "language": "python",
   "name": "python3"
  },
  "language_info": {
   "codemirror_mode": {
    "name": "ipython",
    "version": 3
   },
   "file_extension": ".py",
   "mimetype": "text/x-python",
   "name": "python",
   "nbconvert_exporter": "python",
   "pygments_lexer": "ipython3",
   "version": "3.9.10"
  }
 },
 "nbformat": 4,
 "nbformat_minor": 5
}
