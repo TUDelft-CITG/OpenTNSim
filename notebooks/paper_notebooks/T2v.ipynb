{
 "cells": [
  {
   "cell_type": "code",
   "execution_count": 1,
   "id": "21d31674-968b-4e6e-bf13-84a1a6d9dad4",
   "metadata": {
    "tags": []
   },
   "outputs": [],
   "source": [
    "import functools\n",
    "\n",
    "# package(s) related to time, space and id\n",
    "import logging\n",
    "import datetime, time\n",
    "import platform\n",
    "\n",
    "# you need these dependencies (you can get these from anaconda)\n",
    "# package(s) related to the simulation\n",
    "import simpy\n",
    "import pandas as pd\n",
    "\n",
    "# spatial libraries \n",
    "import pyproj\n",
    "import shapely.geometry\n",
    "from simplekml import Kml, Style\n",
    "\n",
    "# package(s) for data handling\n",
    "import numpy as np\n",
    "import scipy.optimize\n",
    "import matplotlib.pyplot as plt\n",
    "\n",
    "# OpenTNSim\n",
    "import opentnsim\n",
    "\n",
    "# Used for mathematical functions\n",
    "import math             \n",
    "\n",
    "# Used for making the graph to visualize our problem\n",
    "import networkx as nx   \n",
    "\n",
    "import plotly.express as px\n",
    "from plotly.subplots import make_subplots\n",
    "\n",
    "#logging.basicConfig(level=logging.DEBUG) #turn on all the debug messages\n",
    "logging.basicConfig(level=logging.INFO)# turn off all the debug messages\n",
    "\n",
    "logger = logging.getLogger('notebook')\n",
    "\n"
   ]
  },
  {
   "cell_type": "markdown",
   "id": "6e95813b-f333-4ca6-b1f7-2d5cab864bd6",
   "metadata": {},
   "source": [
    "### Create graph\n",
    "We first need to create a 1D network (a graph) along which the vessel will move. A graph contains edges (blue dots in plot below) and vertices (black lines in plot below). For this example, we will construct a network consisting of 4 nodes in a straight line. Since we would like to have two-way traffic, we add two edges between each pair of nodes: one from left to right, and another the other way around (however, we could easily apply one-way traffic as well by remove one of the two edges). Consequently, we arrive at a total of 4 nodes, and 6 edges.\n",
    "\n",
    "Due to the nature of discrete modelling in which the time step is dependent on the activities (in this example: forcing a ship to move from node to node from its origin to its destination), it is important to add OpenTNSim mix-ins to the nodes in such a way we could identify the node (mix-in Identifiable, which imports a name and imports/creates an ID), and to locate the node (mix-in Locatable, which gives the node a geometry)."
   ]
  },
  {
   "cell_type": "code",
   "execution_count": 2,
   "id": "abde7848-84ea-41a7-ba5f-55468aa1e206",
   "metadata": {},
   "outputs": [
    {
     "data": {
      "image/png": "[encoded data removed]",
      "text/plain": [
       "<Figure size 432x288 with 1 Axes>"
      ]
     },
     "metadata": {},
     "output_type": "display_data"
    }
   ],
   "source": [
    "FG = nx.DiGraph()\n",
    "nodes = []\n",
    "path = []\n",
    "\n",
    "Node = type('Site', (opentnsim.core.Identifiable, opentnsim.core.Locatable), {})\n",
    "\n",
    "data_node_1 = {\"name\": \"Node 1\",\n",
    "               \"geometry\": shapely.geometry.Point(0, 0)}\n",
    "data_node_2 = {\"name\": \"Node 2\",\n",
    "               \"geometry\": shapely.geometry.Point(0.8983, 0)}  # 0.8983 degree =100km\n",
    "data_node_3 = {\"name\": \"Node 3\",\n",
    "               \"geometry\": shapely.geometry.Point(1.7966, 0)}   # 1.7966 degree =200km\n",
    "data_node_4 = {\"name\": \"Node 4\",\n",
    "               \"geometry\": shapely.geometry.Point(2.6949, 0)}    # 2.6949 degree =300km\n",
    "\n",
    "node_1 = Node(**data_node_1)\n",
    "node_2 = Node(**data_node_2)\n",
    "node_3 = Node(**data_node_3)\n",
    "node_4 = Node(**data_node_4)\n",
    "\n",
    "nodes = [node_1, node_2, node_3, node_4]\n",
    "\n",
    "positions = {}\n",
    "for node in nodes:\n",
    "    positions[node.name] = (node.geometry.x, node.geometry.y)\n",
    "    FG.add_node(node.name, geometry = node.geometry)\n",
    "\n",
    "path = [[node_1, node_2], # From node 1 to node 2\n",
    "        [node_2, node_3], # From node 2 to node 3\n",
    "        [node_3, node_4], # From node 3 to node 4\n",
    "        [node_4, node_3], # From node 4 to node 3\n",
    "        [node_3, node_2], # From node 3 to node 2\n",
    "        [node_2, node_1]] # From node 2 to node 1\n",
    "\n",
    "for edge in path:\n",
    "    # For the energy consumption calculation we add info to the graph. We need depth info for resistance.\n",
    "    # NB: the CalculateEnergy routine expects the graph to have \"Info\" that contains \"GeneralDepth\" \n",
    "    #     this may not be very generic!\n",
    "    FG.add_edge(edge[0].name, edge[1].name, weight = 1, Info = {\"GeneralDepth\": 6})\n",
    "    \n",
    "middle_edges = [\n",
    "    (node_2.name, node_3.name),\n",
    "    (node_3.name, node_2.name)\n",
    "]\n",
    "for e in middle_edges:\n",
    "    edge = FG.edges[e]\n",
    "    edge['Info']['GeneralDepth'] = 4\n",
    "\n",
    "# env.FG = FG\n",
    "nx.draw(FG, positions)\n",
    "plt.show()"
   ]
  },
  {
   "cell_type": "code",
   "execution_count": 3,
   "id": "7755f77c-d009-4d1b-adbf-d65d62ecef7f",
   "metadata": {},
   "outputs": [
    {
     "name": "stdout",
     "output_type": "stream",
     "text": [
      "General depth for edge ('Node 1', 'Node 2') is 6\n",
      "General depth for edge ('Node 2', 'Node 3') is 4\n",
      "General depth for edge ('Node 2', 'Node 1') is 6\n",
      "General depth for edge ('Node 3', 'Node 4') is 6\n",
      "General depth for edge ('Node 3', 'Node 2') is 4\n",
      "General depth for edge ('Node 4', 'Node 3') is 6\n"
     ]
    }
   ],
   "source": [
    "# This cell just shows that now a depth of 10 m is added to the edges. \n",
    "# You can use this to vary depths, e.g. make the middle edge shallower. Note that edges are bi-directional \n",
    "for edge in FG.edges:\n",
    "    print('General depth for edge {} is {}'.format(edge, FG.get_edge_data(edge[0], edge[1])[\"Info\"][\"GeneralDepth\"]))"
   ]
  },
  {
   "cell_type": "markdown",
   "id": "6164ae1a-4c53-4803-83b0-b050f5c28eef",
   "metadata": {},
   "source": [
    "### Create vessel - add VesselProperties and ConsumesEnergy mixins\n",
    "The following mix-ins are required for each vessel in our problem: Identifiable (gives the vessel a name and a random ID), Movable (gives that the object (*vessel*) can move with a fixed speed and logs this activity, it requires input for the following mix-ins: Locatable, Routeable, and Log), and Routable (gives the object a route). We now modify our original vessel from the basic example and include vessel properties (like width, length, etc.) and a mixin that is needed to calculate resistance and energy consumption.  "
   ]
  },
  {
   "cell_type": "code",
   "execution_count": 4,
   "id": "9f32a3e1-c3a0-4ebb-ba8a-7c2b859a6b03",
   "metadata": {},
   "outputs": [],
   "source": [
    "# Make your preferred class out of available mix-ins.\n",
    "TransportResource = type(\n",
    "    \"Vessel\",\n",
    "    (\n",
    "        opentnsim.core.Identifiable,\n",
    "        opentnsim.core.Movable,\n",
    "        opentnsim.core.Routeable,\n",
    "        opentnsim.core.VesselProperties,  # needed to add vessel properties\n",
    "        opentnsim.core.HasContainer,  # needed to calculate filling degree for draught\n",
    "        opentnsim.core.ConsumesEnergy,\n",
    "        opentnsim.core.ExtraMetadata,\n",
    "    ),\n",
    "    {},\n",
    ")  # needed to calculate resistances"
   ]
  },
  {
   "cell_type": "code",
   "execution_count": 5,
   "id": "591004e8-3474-4ff7-916c-4a3fe4501b71",
   "metadata": {},
   "outputs": [
    {
     "name": "stdout",
     "output_type": "stream",
     "text": [
      "parameters not used {}\n",
      "1750\n"
     ]
    }
   ],
   "source": [
    "# Create a dict with all important settings\n",
    "data_vessel = {\"env\": None,\n",
    "               \"name\": None,\n",
    "               \"route\": None,\n",
    "               \"geometry\": None,\n",
    "               \"v\": None,  # m/s\n",
    "               \"type\": 'Dortmund-Eems (L <= 74 m)', # <-- note that inputs from hereon are due to the added mixins!\n",
    "               \"B\": 11.4,\n",
    "               \"L\": 110,\n",
    "               \"capacity\": 2500,   # maximum designed payload\n",
    "               \"level\":2500,     # actual payload\n",
    "               \"H_e\": None, \n",
    "               \"H_f\": None, \n",
    "               \"T\": None,\n",
    "               \"P_installed\": 1750.0,   \n",
    "               \"P_tot_given\": 1750, # kW\n",
    "               \"L_w\": 3.0 ,\n",
    "               \"C_B\":0.85, \n",
    "               \"C_year\":1990,\n",
    "               \"current_year\":None\n",
    "              }               \n",
    "\n",
    "vessel = TransportResource(**data_vessel)\n",
    "print('parameters not used', vessel.metadata)\n",
    "print(vessel.P_tot_given)"
   ]
  },
  {
   "cell_type": "markdown",
   "id": "61254950-aa76-446a-b4a9-dcc9c30dac31",
   "metadata": {},
   "source": [
    "### Define paths\n",
    "We are going to create a simulation in which a vessel moves from *Node 1* to *Node 4*. Therefore, we need to create a vessel to which we will need to append this paths. Therefore, first let's create the path."
   ]
  },
  {
   "cell_type": "code",
   "execution_count": 6,
   "id": "da4727f7-2a71-46c9-9287-43968f2004d1",
   "metadata": {},
   "outputs": [],
   "source": [
    "path = nx.dijkstra_path(FG, node_1.name, node_4.name)"
   ]
  },
  {
   "cell_type": "code",
   "execution_count": 7,
   "id": "25da0062-a0ac-4296-a430-9037a43fbb7c",
   "metadata": {},
   "outputs": [],
   "source": [
    "def T2v(vessel, h_min, bounds=(0, 10)):\n",
    "    \"\"\"Compute vessel velocity given an edge and payload (reprented by T)\n",
    "    \n",
    "    bounds is the limits where to look for a solution for the velocity [m/s]\n",
    "    returns velocity [m/s]\n",
    "    \"\"\"\n",
    "    def seek_v_given_T(v, vessel):\n",
    "        \"\"\"function to optimize\"\"\"\n",
    "        # water depth from the edge\n",
    "        h_min = vessel.h_min\n",
    "        vessel.v = v\n",
    "        \n",
    "        # compute actual draught and payload (dynamic_ukc included in this step calculation)\n",
    "        (actual_T, payload)= vessel.calculate_actual_T_and_payload(h_min)\n",
    "       # compute difference between power setting by captain and power needed for velocity\n",
    "    \n",
    "        diff = actual_T - vessel.T\n",
    "        logger.debug(f'optimizing for v: {v}, actual_T: {actual_T}, T: {vessel.T}')\n",
    "        \n",
    "        return diff ** 2        \n",
    "       \n",
    "\n",
    "\n",
    "        \n",
    "    # fill in some of the parameters that we already know\n",
    "    fun = functools.partial(seek_v_given_T, vessel=vessel)       \n",
    "       # lookup a minimum\n",
    "    fit = scipy.optimize.minimize_scalar(fun, bounds=bounds, method='bounded')\n",
    "    # check if we found a minimum\n",
    "    if not fit.success:\n",
    "        raise ValueError(fit)\n",
    "    logger.debug(f\"fit: {fit}\")\n",
    "    v, T = fit.x, fit.fun\n",
    "    return v, T"
   ]
  },
  {
   "cell_type": "markdown",
   "id": "fd786abd-36b2-4247-acca-c127a4cc6c4a",
   "metadata": {},
   "source": [
    "### Run simulation\n",
    "Now we can define the run. First, we make an environment and add the graph to the environment. Then we add one vessel, to which we will append the environment and the above route. Lastly, we give the vessel the process of moving from the origin to the destination of the defined path and subsequently run the model."
   ]
  },
  {
   "cell_type": "code",
   "execution_count": 11,
   "id": "719b507e-9a98-4ca1-900b-d38b481b85c2",
   "metadata": {},
   "outputs": [],
   "source": [
    "def run_simulation(V_s, P_tot_given):\n",
    "    \n",
    "    # Start simpy environment\n",
    "    simulation_start = datetime.datetime.now()\n",
    "    env = simpy.Environment(initial_time = time.mktime(simulation_start.timetuple()))\n",
    "    env.epoch = time.mktime(simulation_start.timetuple())\n",
    "\n",
    "    # Add graph to environment\n",
    "    env.FG = FG\n",
    "\n",
    "    # Add environment and path to the vessel\n",
    "    # create a fresh instance of vessel\n",
    "    vessel = TransportResource(**data_vessel)\n",
    "    vessel.env = env                                        #the created environment\n",
    "    vessel.name = 'Vessel No.1'                     \n",
    "    vessel.route = path                                     #the route (the sequence of nodes, as stored as the second column in the path)\n",
    "    vessel.geometry = env.FG.nodes[path[0]]['geometry']     #a shapely.geometry.Point(lon,lat) (here taken as the starting node of the vessel)\n",
    "    vessel.v = V_s\n",
    "    vessel.P_tot_given = P_tot_given\n",
    "    v, T = T2v(vessel, h_min=4)\n",
    "    # Start the simulation\n",
    "    env.process(vessel.move())\n",
    "    env.run()\n",
    "    print(v, T)\n",
    "    return vessel"
   ]
  },
  {
   "cell_type": "code",
   "execution_count": 12,
   "id": "84ffabf4",
   "metadata": {},
   "outputs": [
    {
     "data": {
      "text/plain": [
       "{'V_s': [3.0, 3.5, None, None], 'P_tot_given': [None, None, 244, 371]}"
      ]
     },
     "execution_count": 12,
     "metadata": {},
     "output_type": "execute_result"
    }
   ],
   "source": [
    "input_data = {'V_s': [3.0, 3.5, None, None], 'P_tot_given': [None, None, 244, 371]}\n",
    "input_data"
   ]
  },
  {
   "cell_type": "code",
   "execution_count": 13,
   "id": "e9622c71-5bcc-49e9-a77c-c22ceb098616",
   "metadata": {},
   "outputs": [
    {
     "name": "stdout",
     "output_type": "stream",
     "text": [
      "T_actual 3.093242466995931\n",
      "T_actual 3.093242466995931\n",
      "T_actual 3.093242466995931\n",
      "T_actual 2.1114881556653113\n",
      "T_actual 2.1114881556653113\n",
      "T_actual 2.1114881556653113\n",
      "T_actual 1.2729698679837234\n",
      "T_actual 1.2729698679837234\n",
      "T_actual 1.2729698679837234\n",
      "T_actual No trip possible. Available depth smaller than empty draft: 3.1333946229089134 m\n"
     ]
    },
    {
     "ename": "TypeError",
     "evalue": "can't multiply sequence by non-int of type 'float'",
     "output_type": "error",
     "traceback": [
      "\u001b[1;31m---------------------------------------------------------------------------\u001b[0m",
      "\u001b[1;31mTypeError\u001b[0m                                 Traceback (most recent call last)",
      "Input \u001b[1;32mIn [13]\u001b[0m, in \u001b[0;36m<module>\u001b[1;34m\u001b[0m\n\u001b[0;32m      4\u001b[0m \u001b[38;5;66;03m# loop through the various input data\u001b[39;00m\n\u001b[0;32m      5\u001b[0m \u001b[38;5;28;01mfor\u001b[39;00m index, value \u001b[38;5;129;01min\u001b[39;00m \u001b[38;5;28menumerate\u001b[39m(input_data[\u001b[38;5;124m'\u001b[39m\u001b[38;5;124mV_s\u001b[39m\u001b[38;5;124m'\u001b[39m]):\n\u001b[0;32m      6\u001b[0m     \n\u001b[0;32m      7\u001b[0m     \u001b[38;5;66;03m# Run a basic simulation with V_s and P_tot_given combi\u001b[39;00m\n\u001b[1;32m----> 8\u001b[0m     vessel \u001b[38;5;241m=\u001b[39m \u001b[43mrun_simulation\u001b[49m\u001b[43m(\u001b[49m\u001b[43minput_data\u001b[49m\u001b[43m[\u001b[49m\u001b[38;5;124;43m'\u001b[39;49m\u001b[38;5;124;43mV_s\u001b[39;49m\u001b[38;5;124;43m'\u001b[39;49m\u001b[43m]\u001b[49m\u001b[43m[\u001b[49m\u001b[43mindex\u001b[49m\u001b[43m]\u001b[49m\u001b[43m,\u001b[49m\u001b[43m \u001b[49m\u001b[43minput_data\u001b[49m\u001b[43m[\u001b[49m\u001b[38;5;124;43m'\u001b[39;49m\u001b[38;5;124;43mP_tot_given\u001b[39;49m\u001b[38;5;124;43m'\u001b[39;49m\u001b[43m]\u001b[49m\u001b[43m[\u001b[49m\u001b[43mindex\u001b[49m\u001b[43m]\u001b[49m\u001b[43m)\u001b[49m\n\u001b[0;32m     10\u001b[0m     \u001b[38;5;66;03m# create an EnergyCalculation object and perform energy consumption calculation\u001b[39;00m\n\u001b[0;32m     11\u001b[0m     energycalculation \u001b[38;5;241m=\u001b[39m opentnsim\u001b[38;5;241m.\u001b[39menergy\u001b[38;5;241m.\u001b[39mEnergyCalculation(FG, vessel)\n",
      "Input \u001b[1;32mIn [11]\u001b[0m, in \u001b[0;36mrun_simulation\u001b[1;34m(V_s, P_tot_given)\u001b[0m\n\u001b[0;32m     18\u001b[0m vessel\u001b[38;5;241m.\u001b[39mv \u001b[38;5;241m=\u001b[39m V_s\n\u001b[0;32m     19\u001b[0m vessel\u001b[38;5;241m.\u001b[39mP_tot_given \u001b[38;5;241m=\u001b[39m P_tot_given\n\u001b[1;32m---> 20\u001b[0m v, T \u001b[38;5;241m=\u001b[39m \u001b[43mT2v\u001b[49m\u001b[43m(\u001b[49m\u001b[43mvessel\u001b[49m\u001b[43m,\u001b[49m\u001b[43m \u001b[49m\u001b[43mh_min\u001b[49m\u001b[38;5;241;43m=\u001b[39;49m\u001b[38;5;241;43m4\u001b[39;49m\u001b[43m)\u001b[49m\n\u001b[0;32m     21\u001b[0m \u001b[38;5;66;03m# Start the simulation\u001b[39;00m\n\u001b[0;32m     22\u001b[0m env\u001b[38;5;241m.\u001b[39mprocess(vessel\u001b[38;5;241m.\u001b[39mmove())\n",
      "Input \u001b[1;32mIn [7]\u001b[0m, in \u001b[0;36mT2v\u001b[1;34m(vessel, h_min, bounds)\u001b[0m\n\u001b[0;32m     26\u001b[0m fun \u001b[38;5;241m=\u001b[39m functools\u001b[38;5;241m.\u001b[39mpartial(seek_v_given_T, vessel\u001b[38;5;241m=\u001b[39mvessel)       \n\u001b[0;32m     27\u001b[0m    \u001b[38;5;66;03m# lookup a minimum\u001b[39;00m\n\u001b[1;32m---> 28\u001b[0m fit \u001b[38;5;241m=\u001b[39m \u001b[43mscipy\u001b[49m\u001b[38;5;241;43m.\u001b[39;49m\u001b[43moptimize\u001b[49m\u001b[38;5;241;43m.\u001b[39;49m\u001b[43mminimize_scalar\u001b[49m\u001b[43m(\u001b[49m\u001b[43mfun\u001b[49m\u001b[43m,\u001b[49m\u001b[43m \u001b[49m\u001b[43mbounds\u001b[49m\u001b[38;5;241;43m=\u001b[39;49m\u001b[43mbounds\u001b[49m\u001b[43m,\u001b[49m\u001b[43m \u001b[49m\u001b[43mmethod\u001b[49m\u001b[38;5;241;43m=\u001b[39;49m\u001b[38;5;124;43m'\u001b[39;49m\u001b[38;5;124;43mbounded\u001b[39;49m\u001b[38;5;124;43m'\u001b[39;49m\u001b[43m)\u001b[49m\n\u001b[0;32m     29\u001b[0m \u001b[38;5;66;03m# check if we found a minimum\u001b[39;00m\n\u001b[0;32m     30\u001b[0m \u001b[38;5;28;01mif\u001b[39;00m \u001b[38;5;129;01mnot\u001b[39;00m fit\u001b[38;5;241m.\u001b[39msuccess:\n",
      "File \u001b[1;32mC:\\ANACONDA2021\\envs\\sim2\\lib\\site-packages\\scipy\\optimize\\_minimize.py:873\u001b[0m, in \u001b[0;36mminimize_scalar\u001b[1;34m(fun, bracket, bounds, args, method, tol, options)\u001b[0m\n\u001b[0;32m    870\u001b[0m     \u001b[38;5;28;01mif\u001b[39;00m bounds \u001b[38;5;129;01mis\u001b[39;00m \u001b[38;5;28;01mNone\u001b[39;00m:\n\u001b[0;32m    871\u001b[0m         \u001b[38;5;28;01mraise\u001b[39;00m \u001b[38;5;167;01mValueError\u001b[39;00m(\u001b[38;5;124m'\u001b[39m\u001b[38;5;124mThe `bounds` parameter is mandatory for \u001b[39m\u001b[38;5;124m'\u001b[39m\n\u001b[0;32m    872\u001b[0m                          \u001b[38;5;124m'\u001b[39m\u001b[38;5;124mmethod `bounded`.\u001b[39m\u001b[38;5;124m'\u001b[39m)\n\u001b[1;32m--> 873\u001b[0m     \u001b[38;5;28;01mreturn\u001b[39;00m _minimize_scalar_bounded(fun, bounds, args, \u001b[38;5;241m*\u001b[39m\u001b[38;5;241m*\u001b[39moptions)\n\u001b[0;32m    874\u001b[0m \u001b[38;5;28;01melif\u001b[39;00m meth \u001b[38;5;241m==\u001b[39m \u001b[38;5;124m'\u001b[39m\u001b[38;5;124mgolden\u001b[39m\u001b[38;5;124m'\u001b[39m:\n\u001b[0;32m    875\u001b[0m     \u001b[38;5;28;01mreturn\u001b[39;00m _minimize_scalar_golden(fun, bracket, args, \u001b[38;5;241m*\u001b[39m\u001b[38;5;241m*\u001b[39moptions)\n",
      "File \u001b[1;32mC:\\ANACONDA2021\\envs\\sim2\\lib\\site-packages\\scipy\\optimize\\_optimize.py:2177\u001b[0m, in \u001b[0;36m_minimize_scalar_bounded\u001b[1;34m(func, bounds, args, xatol, maxiter, disp, **unknown_options)\u001b[0m\n\u001b[0;32m   2175\u001b[0m si \u001b[38;5;241m=\u001b[39m np\u001b[38;5;241m.\u001b[39msign(rat) \u001b[38;5;241m+\u001b[39m (rat \u001b[38;5;241m==\u001b[39m \u001b[38;5;241m0\u001b[39m)\n\u001b[0;32m   2176\u001b[0m x \u001b[38;5;241m=\u001b[39m xf \u001b[38;5;241m+\u001b[39m si \u001b[38;5;241m*\u001b[39m np\u001b[38;5;241m.\u001b[39mmaximum(np\u001b[38;5;241m.\u001b[39mabs(rat), tol1)\n\u001b[1;32m-> 2177\u001b[0m fu \u001b[38;5;241m=\u001b[39m \u001b[43mfunc\u001b[49m\u001b[43m(\u001b[49m\u001b[43mx\u001b[49m\u001b[43m,\u001b[49m\u001b[43m \u001b[49m\u001b[38;5;241;43m*\u001b[39;49m\u001b[43margs\u001b[49m\u001b[43m)\u001b[49m\n\u001b[0;32m   2178\u001b[0m num \u001b[38;5;241m+\u001b[39m\u001b[38;5;241m=\u001b[39m \u001b[38;5;241m1\u001b[39m\n\u001b[0;32m   2179\u001b[0m fmin_data \u001b[38;5;241m=\u001b[39m (num, x, fu)\n",
      "Input \u001b[1;32mIn [7]\u001b[0m, in \u001b[0;36mT2v.<locals>.seek_v_given_T\u001b[1;34m(v, vessel)\u001b[0m\n\u001b[0;32m     11\u001b[0m  vessel\u001b[38;5;241m.\u001b[39mv \u001b[38;5;241m=\u001b[39m v\n\u001b[0;32m     13\u001b[0m  \u001b[38;5;66;03m# compute actual draught and payload (dynamic_ukc included in this step calculation)\u001b[39;00m\n\u001b[1;32m---> 14\u001b[0m  (actual_T, payload)\u001b[38;5;241m=\u001b[39m \u001b[43mvessel\u001b[49m\u001b[38;5;241;43m.\u001b[39;49m\u001b[43mcalculate_actual_T_and_payload\u001b[49m\u001b[43m(\u001b[49m\u001b[43mh_min\u001b[49m\u001b[43m)\u001b[49m\n\u001b[0;32m     15\u001b[0m \u001b[38;5;66;03m# compute difference between power setting by captain and power needed for velocity\u001b[39;00m\n\u001b[0;32m     17\u001b[0m  diff \u001b[38;5;241m=\u001b[39m actual_T \u001b[38;5;241m-\u001b[39m vessel\u001b[38;5;241m.\u001b[39mT\n",
      "File \u001b[1;32mc:\\users\\manjiang\\opentnsim\\opentnsim\\core.py:392\u001b[0m, in \u001b[0;36mVesselProperties.calculate_actual_T_and_payload\u001b[1;34m(self, h_min, vesl_type)\u001b[0m\n\u001b[0;32m    382\u001b[0m CI_coefs \u001b[38;5;241m=\u001b[39m \u001b[38;5;28mdict\u001b[39m({\u001b[38;5;124m\"\u001b[39m\u001b[38;5;124mintercept\u001b[39m\u001b[38;5;124m\"\u001b[39m: \u001b[38;5;241m2.0323139721\u001b[39m \u001b[38;5;241m*\u001b[39m \u001b[38;5;241m10\u001b[39m\u001b[38;5;241m*\u001b[39m\u001b[38;5;241m*\u001b[39m\u001b[38;5;241m1\u001b[39m,\n\u001b[0;32m    383\u001b[0m \n\u001b[0;32m    384\u001b[0m         \u001b[38;5;124m\"\u001b[39m\u001b[38;5;124mc1\u001b[39m\u001b[38;5;124m\"\u001b[39m: \u001b[38;5;241m-\u001b[39m\u001b[38;5;241m7.8577991460\u001b[39m \u001b[38;5;241m*\u001b[39m \u001b[38;5;241m10\u001b[39m\u001b[38;5;241m*\u001b[39m\u001b[38;5;241m*\u001b[39m\u001b[38;5;241m1\u001b[39m,\n\u001b[1;32m   (...)\u001b[0m\n\u001b[0;32m    388\u001b[0m         \u001b[38;5;124m\"\u001b[39m\u001b[38;5;124mc5\u001b[39m\u001b[38;5;124m\"\u001b[39m: \u001b[38;5;241m3.6591813315\u001b[39m \u001b[38;5;241m*\u001b[39m \u001b[38;5;241m10\u001b[39m\u001b[38;5;241m*\u001b[39m\u001b[38;5;241m*\u001b[39m\u001b[38;5;241m1\u001b[39m\n\u001b[0;32m    389\u001b[0m         })\n\u001b[0;32m    390\u001b[0m \u001b[38;5;66;03m# Capindex_1 related to actual draft (especially used for shallow water)\u001b[39;00m\n\u001b[0;32m    391\u001b[0m Capindex_1 \u001b[38;5;241m=\u001b[39m CI_coefs[\u001b[38;5;124m\"\u001b[39m\u001b[38;5;124mintercept\u001b[39m\u001b[38;5;124m\"\u001b[39m] \u001b[38;5;241m+\u001b[39m (CI_coefs[\u001b[38;5;124m\"\u001b[39m\u001b[38;5;124mc1\u001b[39m\u001b[38;5;124m\"\u001b[39m] \u001b[38;5;241m*\u001b[39m T_empty) \u001b[38;5;241m+\u001b[39m (CI_coefs[\u001b[38;5;124m\"\u001b[39m\u001b[38;5;124mc2\u001b[39m\u001b[38;5;124m\"\u001b[39m] \u001b[38;5;241m*\u001b[39m T_empty\u001b[38;5;241m*\u001b[39m\u001b[38;5;241m*\u001b[39m\u001b[38;5;241m2\u001b[39m)  \u001b[38;5;241m+\u001b[39m  (\n\u001b[1;32m--> 392\u001b[0m \u001b[43mCI_coefs\u001b[49m\u001b[43m[\u001b[49m\u001b[38;5;124;43m\"\u001b[39;49m\u001b[38;5;124;43mc3\u001b[39;49m\u001b[38;5;124;43m\"\u001b[39;49m\u001b[43m]\u001b[49m\u001b[43m \u001b[49m\u001b[38;5;241;43m*\u001b[39;49m\u001b[43m \u001b[49m\u001b[43mT_actual\u001b[49m) \u001b[38;5;241m+\u001b[39m (CI_coefs[\u001b[38;5;124m\"\u001b[39m\u001b[38;5;124mc4\u001b[39m\u001b[38;5;124m\"\u001b[39m] \u001b[38;5;241m*\u001b[39m T_actual\u001b[38;5;241m*\u001b[39m\u001b[38;5;241m*\u001b[39m\u001b[38;5;241m2\u001b[39m)   \u001b[38;5;241m+\u001b[39m ( CI_coefs[\u001b[38;5;124m\"\u001b[39m\u001b[38;5;124mc5\u001b[39m\u001b[38;5;124m\"\u001b[39m] \u001b[38;5;241m*\u001b[39m (T_empty \u001b[38;5;241m*\u001b[39m T_actual))\n\u001b[0;32m    393\u001b[0m \u001b[38;5;66;03m# Capindex_2 related to design draft\u001b[39;00m\n\u001b[0;32m    394\u001b[0m Capindex_2 \u001b[38;5;241m=\u001b[39m CI_coefs[\u001b[38;5;124m\"\u001b[39m\u001b[38;5;124mintercept\u001b[39m\u001b[38;5;124m\"\u001b[39m] \u001b[38;5;241m+\u001b[39m (CI_coefs[\u001b[38;5;124m\"\u001b[39m\u001b[38;5;124mc1\u001b[39m\u001b[38;5;124m\"\u001b[39m] \u001b[38;5;241m*\u001b[39m T_empty) \u001b[38;5;241m+\u001b[39m (CI_coefs[\u001b[38;5;124m\"\u001b[39m\u001b[38;5;124mc2\u001b[39m\u001b[38;5;124m\"\u001b[39m] \u001b[38;5;241m*\u001b[39m T_empty\u001b[38;5;241m*\u001b[39m\u001b[38;5;241m*\u001b[39m\u001b[38;5;241m2\u001b[39m)   \u001b[38;5;241m+\u001b[39m (\n\u001b[0;32m    395\u001b[0m CI_coefs[\u001b[38;5;124m\"\u001b[39m\u001b[38;5;124mc3\u001b[39m\u001b[38;5;124m\"\u001b[39m] \u001b[38;5;241m*\u001b[39m T_design) \u001b[38;5;241m+\u001b[39m (CI_coefs[\u001b[38;5;124m\"\u001b[39m\u001b[38;5;124mc4\u001b[39m\u001b[38;5;124m\"\u001b[39m] \u001b[38;5;241m*\u001b[39m T_design\u001b[38;5;241m*\u001b[39m\u001b[38;5;241m*\u001b[39m\u001b[38;5;241m2\u001b[39m)  \u001b[38;5;241m+\u001b[39m (CI_coefs[\u001b[38;5;124m\"\u001b[39m\u001b[38;5;124mc5\u001b[39m\u001b[38;5;124m\"\u001b[39m] \u001b[38;5;241m*\u001b[39m (T_empty \u001b[38;5;241m*\u001b[39m T_design))\n",
      "\u001b[1;31mTypeError\u001b[0m: can't multiply sequence by non-int of type 'float'"
     ]
    }
   ],
   "source": [
    "# create empty plot data\n",
    "plot_data = {}\n",
    "\n",
    "# loop through the various input data\n",
    "for index, value in enumerate(input_data['V_s']):\n",
    "    \n",
    "    # Run a basic simulation with V_s and P_tot_given combi\n",
    "    vessel = run_simulation(input_data['V_s'][index], input_data['P_tot_given'][index])\n",
    "    \n",
    "    # create an EnergyCalculation object and perform energy consumption calculation\n",
    "    energycalculation = opentnsim.energy.EnergyCalculation(FG, vessel)\n",
    "    energycalculation.calculate_energy_consumption()\n",
    "    \n",
    "    # create dataframe from energy calculation computation\n",
    "    df = pd.DataFrame.from_dict(energycalculation.energy_use)"
   ]
  },
  {
   "cell_type": "code",
   "execution_count": null,
   "id": "63778739-a8ac-45d4-ae3f-d9d041c22a00",
   "metadata": {},
   "outputs": [],
   "source": []
  },
  {
   "cell_type": "code",
   "execution_count": null,
   "id": "36a70e5e-fa80-41f4-8ab9-4efc4c647181",
   "metadata": {},
   "outputs": [],
   "source": []
  }
 ],
 "metadata": {
  "kernelspec": {
   "display_name": "Python 3 (ipykernel)",
   "language": "python",
   "name": "python3"
  },
  "language_info": {
   "codemirror_mode": {
    "name": "ipython",
    "version": 3
   },
   "file_extension": ".py",
   "mimetype": "text/x-python",
   "name": "python",
   "nbconvert_exporter": "python",
   "pygments_lexer": "ipython3",
   "version": "3.9.10"
  }
 },
 "nbformat": 4,
 "nbformat_minor": 5
}
