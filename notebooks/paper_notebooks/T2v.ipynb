{
 "cells": [
  {
   "cell_type": "markdown",
   "id": "8d164fc1-48b6-41e5-b25b-37b9a1f47eee",
   "metadata": {},
   "source": [
    "### Ship sailing strategies with various combinations of payloads and velocities for passing a bottleneck waterway section"
   ]
  },
  {
   "cell_type": "markdown",
   "id": "dcdcb4fc-ba0b-4602-8107-f8d66aa082c4",
   "metadata": {},
   "source": [
    "### Steps before sailing: \n",
    "- Giving a sailing route, in which there is an section with limited water depth (h_min)\n",
    "- Listing a group of possible actual draughts depending on the limited water depth and minimum operating draughts\n",
    "- Using the T2v function to find out the corresponding velocities the ship can sail with to safely pass the bottlenek without grounding\n",
    "- Displaying the possible actual draughts with its maximum sailing velocities and suggesting several sailing strategies.\n",
    "\n",
    "### Steps while sailing: \n",
    "- c"
   ]
  },
  {
   "cell_type": "code",
   "execution_count": null,
   "id": "6ce5c15f-8250-4c54-8c7d-798fdd605362",
   "metadata": {},
   "outputs": [],
   "source": []
  },
  {
   "cell_type": "code",
   "execution_count": 1,
   "id": "21d31674-968b-4e6e-bf13-84a1a6d9dad4",
   "metadata": {
    "tags": []
   },
   "outputs": [],
   "source": [
    "import functools\n",
    "\n",
    "# package(s) related to time, space and id\n",
    "import logging\n",
    "import datetime, time\n",
    "import platform\n",
    "\n",
    "# you need these dependencies (you can get these from anaconda)\n",
    "# package(s) related to the simulation\n",
    "import simpy\n",
    "import pandas as pd\n",
    "\n",
    "# spatial libraries \n",
    "import pyproj\n",
    "import shapely.geometry\n",
    "from simplekml import Kml, Style\n",
    "\n",
    "# package(s) for data handling\n",
    "import numpy as np\n",
    "import scipy.optimize\n",
    "import matplotlib.pyplot as plt\n",
    "\n",
    "# OpenTNSim\n",
    "import opentnsim\n",
    "\n",
    "# Used for mathematical functions\n",
    "import math             \n",
    "\n",
    "# Used for making the graph to visualize our problem\n",
    "import networkx as nx   \n",
    "\n",
    "import plotly.express as px\n",
    "from plotly.subplots import make_subplots\n",
    "\n",
    "#logging.basicConfig(level=logging.DEBUG) #turn on all the debug messages\n",
    "logging.basicConfig(level=logging.INFO)# turn off all the debug messages\n",
    "\n",
    "logger = logging.getLogger('notebook')\n",
    "\n"
   ]
  },
  {
   "cell_type": "markdown",
   "id": "6e95813b-f333-4ca6-b1f7-2d5cab864bd6",
   "metadata": {},
   "source": [
    "### Create graph\n",
    "We first need to create a 1D network (a graph) along which the vessel will move. A graph contains edges (blue dots in plot below) and vertices (black lines in plot below). For this example, we will construct a network consisting of 4 nodes in a straight line. Since we would like to have two-way traffic, we add two edges between each pair of nodes: one from left to right, and another the other way around (however, we could easily apply one-way traffic as well by remove one of the two edges). Consequently, we arrive at a total of 4 nodes, and 6 edges.\n",
    "\n",
    "Due to the nature of discrete modelling in which the time step is dependent on the activities (in this example: forcing a ship to move from node to node from its origin to its destination), it is important to add OpenTNSim mix-ins to the nodes in such a way we could identify the node (mix-in Identifiable, which imports a name and imports/creates an ID), and to locate the node (mix-in Locatable, which gives the node a geometry)."
   ]
  },
  {
   "cell_type": "code",
   "execution_count": 2,
   "id": "abde7848-84ea-41a7-ba5f-55468aa1e206",
   "metadata": {},
   "outputs": [
    {
     "data": {
      "image/png": "[encoded data removed]",
      "text/plain": [
       "<Figure size 432x288 with 1 Axes>"
      ]
     },
     "metadata": {},
     "output_type": "display_data"
    }
   ],
   "source": [
    "FG = nx.DiGraph()\n",
    "nodes = []\n",
    "path = []\n",
    "\n",
    "Node = type('Site', (opentnsim.core.Identifiable, opentnsim.core.Locatable), {})\n",
    "\n",
    "data_node_1 = {\"name\": \"Node 1\",\n",
    "               \"geometry\": shapely.geometry.Point(0, 0)}\n",
    "data_node_2 = {\"name\": \"Node 2\",\n",
    "               \"geometry\": shapely.geometry.Point(0.8983, 0)}  # 0.8983 degree =100km\n",
    "data_node_3 = {\"name\": \"Node 3\",\n",
    "               \"geometry\": shapely.geometry.Point(1.7966, 0)}   # 1.7966 degree =200km\n",
    "data_node_4 = {\"name\": \"Node 4\",\n",
    "               \"geometry\": shapely.geometry.Point(2.6949, 0)}    # 2.6949 degree =300km\n",
    "\n",
    "node_1 = Node(**data_node_1)\n",
    "node_2 = Node(**data_node_2)\n",
    "node_3 = Node(**data_node_3)\n",
    "node_4 = Node(**data_node_4)\n",
    "\n",
    "nodes = [node_1, node_2, node_3, node_4]\n",
    "\n",
    "positions = {}\n",
    "for node in nodes:\n",
    "    positions[node.name] = (node.geometry.x, node.geometry.y)\n",
    "    FG.add_node(node.name, geometry = node.geometry)\n",
    "\n",
    "path = [[node_1, node_2], # From node 1 to node 2\n",
    "        [node_2, node_3], # From node 2 to node 3\n",
    "        [node_3, node_4], # From node 3 to node 4\n",
    "        [node_4, node_3], # From node 4 to node 3\n",
    "        [node_3, node_2], # From node 3 to node 2\n",
    "        [node_2, node_1]] # From node 2 to node 1\n",
    "\n",
    "for edge in path:\n",
    "    # For the energy consumption calculation we add info to the graph. We need depth info for resistance.\n",
    "    # NB: the CalculateEnergy routine expects the graph to have \"Info\" that contains \"GeneralDepth\" \n",
    "    #     this may not be very generic!\n",
    "    FG.add_edge(edge[0].name, edge[1].name, weight = 1, Info = {\"GeneralDepth\": 6})\n",
    "    \n",
    "middle_edges = [\n",
    "    (node_2.name, node_3.name),\n",
    "    (node_3.name, node_2.name)\n",
    "]\n",
    "for e in middle_edges:\n",
    "    edge = FG.edges[e]\n",
    "    edge['Info']['GeneralDepth'] = 3\n",
    "\n",
    "# env.FG = FG\n",
    "nx.draw(FG, positions)\n",
    "plt.show()"
   ]
  },
  {
   "cell_type": "code",
   "execution_count": 3,
   "id": "7755f77c-d009-4d1b-adbf-d65d62ecef7f",
   "metadata": {},
   "outputs": [
    {
     "name": "stdout",
     "output_type": "stream",
     "text": [
      "General depth for edge ('Node 1', 'Node 2') is 6\n",
      "General depth for edge ('Node 2', 'Node 3') is 3\n",
      "General depth for edge ('Node 2', 'Node 1') is 6\n",
      "General depth for edge ('Node 3', 'Node 4') is 6\n",
      "General depth for edge ('Node 3', 'Node 2') is 3\n",
      "General depth for edge ('Node 4', 'Node 3') is 6\n"
     ]
    }
   ],
   "source": [
    "# This cell just shows that now a depth of 10 m is added to the edges. \n",
    "# You can use this to vary depths, e.g. make the middle edge shallower. Note that edges are bi-directional \n",
    "for edge in FG.edges:\n",
    "    print('General depth for edge {} is {}'.format(edge, FG.get_edge_data(edge[0], edge[1])[\"Info\"][\"GeneralDepth\"]))"
   ]
  },
  {
   "cell_type": "markdown",
   "id": "6164ae1a-4c53-4803-83b0-b050f5c28eef",
   "metadata": {},
   "source": [
    "### Create vessel - add VesselProperties and ConsumesEnergy mixins\n",
    "The following mix-ins are required for each vessel in our problem: Identifiable (gives the vessel a name and a random ID), Movable (gives that the object (*vessel*) can move with a fixed speed and logs this activity, it requires input for the following mix-ins: Locatable, Routeable, and Log), and Routable (gives the object a route). We now modify our original vessel from the basic example and include vessel properties (like width, length, etc.) and a mixin that is needed to calculate resistance and energy consumption.  "
   ]
  },
  {
   "cell_type": "code",
   "execution_count": 4,
   "id": "9f32a3e1-c3a0-4ebb-ba8a-7c2b859a6b03",
   "metadata": {},
   "outputs": [],
   "source": [
    "# Make your preferred class out of available mix-ins.\n",
    "TransportResource = type(\n",
    "    \"Vessel\",\n",
    "    (\n",
    "        opentnsim.core.Identifiable,\n",
    "        opentnsim.core.Movable,\n",
    "        opentnsim.core.Routeable,\n",
    "        opentnsim.core.VesselProperties,  # needed to add vessel properties\n",
    "        opentnsim.core.HasContainer,  # needed to calculate filling degree for draught\n",
    "        opentnsim.core.ConsumesEnergy,\n",
    "        opentnsim.core.ExtraMetadata,\n",
    "    ),\n",
    "    {},\n",
    ")  # needed to calculate resistances"
   ]
  },
  {
   "cell_type": "code",
   "execution_count": 5,
   "id": "591004e8-3474-4ff7-916c-4a3fe4501b71",
   "metadata": {},
   "outputs": [
    {
     "name": "stdout",
     "output_type": "stream",
     "text": [
      "parameters not used {}\n"
     ]
    }
   ],
   "source": [
    "# Create a dict with all important settings\n",
    "data_vessel = {\"env\": None,\n",
    "               \"name\": None,\n",
    "               \"route\": None,\n",
    "               \"geometry\": None,\n",
    "               \"v\": 1,  # m/s\n",
    "               \"type\": 'Dortmund-Eems (L <= 74 m)', # <-- note that inputs from hereon are due to the added mixins!\n",
    "               \"B\": 11.4,\n",
    "               \"L\": 110,\n",
    "               \"capacity\": 2500,   # maximum designed payload\n",
    "               \"level\":2500,     # actual payload\n",
    "               \"H_e\": None, \n",
    "               \"H_f\": None, \n",
    "               \"T\": None,\n",
    "               \"P_installed\": 1750.0,   \n",
    "               \"P_tot_given\": 1750, # kW\n",
    "               \"L_w\": 3.0 ,\n",
    "               \"C_B\":0.85, \n",
    "               \"C_year\":1990,\n",
    "               \"current_year\":None\n",
    "              }               \n",
    "\n",
    "vessel = TransportResource(**data_vessel)\n",
    "print('parameters not used', vessel.metadata)\n"
   ]
  },
  {
   "cell_type": "markdown",
   "id": "61254950-aa76-446a-b4a9-dcc9c30dac31",
   "metadata": {},
   "source": [
    "### Define paths\n",
    "We are going to create a simulation in which a vessel moves from *Node 1* to *Node 4*. Therefore, we need to create a vessel to which we will need to append this paths. Therefore, first let's create the path."
   ]
  },
  {
   "cell_type": "code",
   "execution_count": 6,
   "id": "da4727f7-2a71-46c9-9287-43968f2004d1",
   "metadata": {},
   "outputs": [],
   "source": [
    "path = nx.dijkstra_path(FG, node_1.name, node_4.name)"
   ]
  },
  {
   "cell_type": "code",
   "execution_count": 7,
   "id": "84ffabf4",
   "metadata": {},
   "outputs": [
    {
     "data": {
      "text/plain": [
       "{'V_s': [1.0, 1.5], 'T_strategy': [2.0, 1.8]}"
      ]
     },
     "execution_count": 7,
     "metadata": {},
     "output_type": "execute_result"
    }
   ],
   "source": [
    "input_data = {'V_s': [1.0, 1.5],'T_strategy': [2.0, 1.8]}\n",
    "input_data"
   ]
  },
  {
   "cell_type": "code",
   "execution_count": 8,
   "id": "dc5412f1-dcd4-422c-8651-6fdd09a260bc",
   "metadata": {},
   "outputs": [],
   "source": [
    "def T2v(vessel, h_min, bounds=(0, 10)):\n",
    "    \"\"\"Compute vessel velocity given the minimum water depth and possible actual draught \n",
    "    \n",
    "    bounds is the limits where to look for a solution for the velocity [m/s]\n",
    "    returns velocity [m/s]\n",
    "    \"\"\"\n",
    "    def seek_v_given_T(v, vessel, h_min):\n",
    "        \"\"\"function to optimize\"\"\"\n",
    "        # minimum water depth from the edge\n",
    "        vessel.__dict__\n",
    "        h_min = vessel.h_min\n",
    "        vessel.v = v\n",
    "        vessel.static_ukc\n",
    "        # compute the maximum draught a vessel can have to pass the minimum water depth section, \n",
    "        # considering the maximum squat while sailing in limited water depth.\n",
    "        T_strategy = vessel.T_strategy_consider_squat(v = v)\n",
    "       \n",
    "        # compute difference between T_strategy and possible actual draught\n",
    "        diff = T_strategy - vessel.T\n",
    "        logger.debug(f'optimizing for v: {v}, T_strategy: {T_strategy}, T: {vessel.T}')\n",
    "        \n",
    "        return diff ** 2        \n",
    "        \n",
    "    # fill in some of the parameters that we already know\n",
    "    fun = functools.partial(seek_v_given_T, vessel=vessel, h_min = h_min)       \n",
    "       # lookup a minimum\n",
    "    fit = scipy.optimize.minimize_scalar(fun, bounds=bounds, method='bounded')\n",
    "    # check if we found a minimum\n",
    "    if not fit.success:\n",
    "        raise ValueError(fit)\n",
    "    logger.debug(f\"fit: {fit}\")\n",
    "    v, T_strategy = fit.x, fit.fun\n",
    "    print(v, T_strategy)\n",
    "    return v, T_strategy"
   ]
  },
  {
   "cell_type": "code",
   "execution_count": 9,
   "id": "25da0062-a0ac-4296-a430-9037a43fbb7c",
   "metadata": {},
   "outputs": [],
   "source": [
    "# def T2v(vessel, h_min, bounds=(0, 10)):\n",
    "#     \"\"\"Compute vessel velocity given an edge and payload (reprented by T)\n",
    "    \n",
    "#     bounds is the limits where to look for a solution for the velocity [m/s]\n",
    "#     returns velocity [m/s]\n",
    "#     \"\"\"\n",
    "#     def seek_v_given_T(v, vessel):\n",
    "#         \"\"\"function to optimize\"\"\"\n",
    "#         # water depth from the edge\n",
    "#         h_min = vessel.h_min\n",
    "#         vessel.v = v\n",
    "        \n",
    "#         # compute actual draught and payload (dynamic_ukc included in this step calculation)\n",
    "#         (actual_T, payload)= vessel.calculate_actual_T_and_payload(h_min)\n",
    "#        # compute difference between power setting by captain and power needed for velocity\n",
    "    \n",
    "#         diff = actual_T - vessel.T\n",
    "#         logger.debug(f'optimizing for v: {v}, actual_T: {actual_T}, T: {vessel.T}')\n",
    "        \n",
    "#         return diff ** 2        \n",
    "        \n",
    "#     # fill in some of the parameters that we already know\n",
    "#     fun = functools.partial(seek_v_given_T, vessel=vessel)       \n",
    "#        # lookup a minimum\n",
    "#     fit = scipy.optimize.minimize_scalar(fun, bounds=bounds, method='bounded')\n",
    "#     # check if we found a minimum\n",
    "#     if not fit.success:\n",
    "#         raise ValueError(fit)\n",
    "#     logger.debug(f\"fit: {fit}\")\n",
    "#     v, T = fit.x, fit.fun\n",
    "#     # print(v, T)\n",
    "#     return v, T"
   ]
  },
  {
   "cell_type": "markdown",
   "id": "fd786abd-36b2-4247-acca-c127a4cc6c4a",
   "metadata": {},
   "source": [
    "### Run simulation\n",
    "Now we can define the run. First, we make an environment and add the graph to the environment. Then we add one vessel, to which we will append the environment and the above route. Lastly, we give the vessel the process of moving from the origin to the destination of the defined path and subsequently run the model."
   ]
  },
  {
   "cell_type": "code",
   "execution_count": 10,
   "id": "719b507e-9a98-4ca1-900b-d38b481b85c2",
   "metadata": {},
   "outputs": [],
   "source": [
    "def run_simulation(V_s, T_strategy):\n",
    "    \n",
    "    # Start simpy environment\n",
    "    simulation_start = datetime.datetime.now()\n",
    "    env = simpy.Environment(initial_time = time.mktime(simulation_start.timetuple()))\n",
    "    env.epoch = time.mktime(simulation_start.timetuple())\n",
    "\n",
    "    # Add graph to environment\n",
    "    env.FG = FG\n",
    "\n",
    "    # Add environment and path to the vessel\n",
    "    # create a fresh instance of vessel\n",
    "    vessel = TransportResource(**data_vessel)\n",
    "    vessel.env = env                                        #the created environment\n",
    "    vessel.name = 'Vessel No.1'                     \n",
    "    vessel.route = path                                     #the route (the sequence of nodes, as stored as the second column in the path)\n",
    "    vessel.geometry = env.FG.nodes[path[0]]['geometry']     #a shapely.geometry.Point(lon,lat) (here taken as the starting node of the vessel)\n",
    "    vessel.v = V_s\n",
    "    vessel.T_strategy = T_strategy\n",
    "    v, T_strategy = T2v(vessel, h_min=2.5)\n",
    "    # Start the simulation\n",
    "    env.process(vessel.move())\n",
    "    env.run()\n",
    "    print('v: {:.2f} m'.format(v), T)\n",
    "    return vessel"
   ]
  },
  {
   "cell_type": "code",
   "execution_count": null,
   "id": "e9622c71-5bcc-49e9-a77c-c22ceb098616",
   "metadata": {},
   "outputs": [],
   "source": [
    "# create empty plot data\n",
    "plot_data = {}\n",
    "\n",
    "# loop through the various input data\n",
    "for index, value in enumerate(input_data['V_s']):\n",
    "    \n",
    "    # Run a basic simulation with V_s and P_tot_given combi\n",
    "    vessel = run_simulation(input_data['V_s'][index],input_data['T_strategy'][index])\n",
    "    \n",
    "    # create an EnergyCalculation object and perform energy consumption calculation\n",
    "    energycalculation = opentnsim.energy.EnergyCalculation(FG, vessel)\n",
    "    energycalculation.calculate_energy_consumption()\n",
    "    \n",
    "    # create dataframe from energy calculation computation\n",
    "    df = pd.DataFrame.from_dict(energycalculation.energy_use)"
   ]
  },
  {
   "cell_type": "code",
   "execution_count": null,
   "id": "63778739-a8ac-45d4-ae3f-d9d041c22a00",
   "metadata": {},
   "outputs": [],
   "source": []
  },
  {
   "cell_type": "code",
   "execution_count": null,
   "id": "36a70e5e-fa80-41f4-8ab9-4efc4c647181",
   "metadata": {},
   "outputs": [],
   "source": []
  },
  {
   "cell_type": "code",
   "execution_count": null,
   "id": "0f94d7f5-fe1c-4eb1-b5fc-b7d4a4d56931",
   "metadata": {},
   "outputs": [],
   "source": []
  },
  {
   "cell_type": "code",
   "execution_count": null,
   "id": "dc6d2d7f-d8ec-4de1-8e36-3d5ec013ec95",
   "metadata": {},
   "outputs": [],
   "source": []
  }
 ],
 "metadata": {
  "kernelspec": {
   "display_name": "Python 3 (ipykernel)",
   "language": "python",
   "name": "python3"
  },
  "language_info": {
   "codemirror_mode": {
    "name": "ipython",
    "version": 3
   },
   "file_extension": ".py",
   "mimetype": "text/x-python",
   "name": "python",
   "nbconvert_exporter": "python",
   "pygments_lexer": "ipython3",
   "version": "3.9.10"
  }
 },
 "nbformat": 4,
 "nbformat_minor": 5
}
