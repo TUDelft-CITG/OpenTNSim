{
 "cells": [
  {
   "cell_type": "code",
   "execution_count": 43,
   "id": "31ff965e-6482-49c1-86bc-44ee75c8df1e",
   "metadata": {},
   "outputs": [],
   "source": [
    "import pandas as pd\n",
    "import numpy as np"
   ]
  },
  {
   "cell_type": "code",
   "execution_count": 459,
   "id": "4ee59339-a6fb-4376-aece-e27fc96f18c1",
   "metadata": {},
   "outputs": [],
   "source": [
    "class Wind:\n",
    "    \"\"\" relative winddirection for now as input from 0-180 on the boat looking in the heading direction\n",
    "    H = [m] height of the vessel m\n",
    "    B = [m] width of the vessel \n",
    "    L = [m] length of the vessel\n",
    "    rel_winddir = [deg] relative winddirection from 0-180 from looking at winddirection and heading ! manually\n",
    "    loaded_depth = [m] depth of vessel loaded\n",
    "    unloaded_depth = [m] depth of vessel unloaded\n",
    "    load = 'loaded'/'unloaded', for depth and cd\n",
    "    V_g = [m/s] speed over ground \n",
    "    heading = [deg] direction 0 degrees is north , 45 degrees is northeast. \n",
    "    winddirection = [deg] geographic wind direction\n",
    "    U_wind = [m/s] windspeed\n",
    "    rho_air = [kg/m3] density of air\n",
    "    \"\"\"\n",
    "    def __init__(\n",
    "        #\"\"\" relative winddirection for now as input from 0-180 on the boat looking in the heading direction\n",
    "        #\"\"\"\n",
    "        self,\n",
    "        B, \n",
    "        L,\n",
    "        H ,\n",
    "        rel_winddir,\n",
    "        loaded_depth,\n",
    "        unloaded_depth,\n",
    "        load = 'loaded',\n",
    "     \n",
    "        V_g = 0.3,\n",
    "        heading = 40,# degrees (NE)\n",
    "        winddirection = 60,# degrees (not relative but real)\n",
    "        U_wind = 2,\n",
    "        rho_air = 1.225\n",
    "        \n",
    "        \n",
    "        \n",
    "    ):\n",
    "        self.B = B\n",
    "        self.L = L\n",
    "        self.H = H\n",
    "        self.load = load\n",
    "        self.V_g = V_g\n",
    "        self.heading = heading\n",
    "        self.winddirection = winddirection\n",
    "        self.U_wind = U_wind\n",
    "        self.rho_air = rho_air\n",
    "        self.rel_winddir = rel_winddir\n",
    "        self.loaded_depth = loaded_depth\n",
    "        self.unloaded_depth = unloaded_depth\n",
    "       \n",
    "    \n",
    "    def calculate_rel_winddir (self):\n",
    "        #phi_w_ref = angle of attack  \n",
    "        #(https://sciendo.com/pdf/10.2478/ntpe-2018-0013)\n",
    "        # pffff still not found the right relations for angle, winddirection. \n",
    "            \n",
    "        self.phi_w_ref = self.winddirection - self.heading  \n",
    "        return self.phi_w_ref\n",
    "    \n",
    "    def calculate_C_d(self):\n",
    "        # for a tanker ( ITTC: ) \n",
    "        # cda = -cx (cx given for ships)\n",
    "        \n",
    "        cd=[[0,0.86,0.96],[10,0.76,0.93],[20,0.62,0.85],\n",
    "        [30,0.45,0.73],[40,0.32,0.62],[50,0.21,0.47],\n",
    "        [60,0.13,0.34],[70,0.06,0.17],[80,0.04,0.06],\n",
    "        [90,-0.02,-0.05],[100,-0.08,-0.14],[110,-0.19,-0.22],\n",
    "        [120,-0.29,-0.29],[130,-0.38,-0.40],[140,-0.47,-0.53],\n",
    "        [150,-0.56,-0.66],[160,-0.61,-0.75],[170,-0.66,-0.79],\n",
    "        [180,-0.63,-0.77]]\n",
    "    \n",
    "        df=pd.DataFrame(cd,columns=['Relative wind direction','loaded','unloaded'])\n",
    "\n",
    "        if self.load == 'loaded':\n",
    "            self.C_d = df['loaded'].where(df['Relative wind direction'] == self.rel_winddir).fillna(0).values[1]\n",
    "    \n",
    "        elif self.load == 'unloaded':\n",
    "            self.C_d = df['unloaded'].where(df['Relative wind direction'] == self.rel_winddir).fillna(0).values[1]\n",
    "    \n",
    "        return self.C_d\n",
    "    \n",
    "    def calculate_Cd_0(self):\n",
    "        if self.load == 'loaded':\n",
    "            self.Cd_0 = 0.86                            \n",
    "        elif self.load == 'unloaded':\n",
    "            self.Cd_0 = 0.96\n",
    "        return self.Cd_0 \n",
    "    \n",
    "    def calculate_H_above_water(self):\n",
    "        if self.load == 'loaded':\n",
    "            self.H_above = self.H - self.loaded_depth \n",
    "        elif self.load == 'unloaded':\n",
    "            self.H_above = self.H - self.unloaded_depth\n",
    "        return self.H_above\n",
    "    \n",
    "    def calculate_A_xv(self):\n",
    "        #cubed barge assumed \n",
    "        angle=0\n",
    "        if self.rel_winddir <91:\n",
    "            self.A_xv = self.calculate_H_above_water() * (self.B * np.cos(self.rel_winddir*np.pi/180) + self.L * np.sin(self.rel_winddir*np.pi/180))\n",
    "        elif self.rel_winddir > 90:\n",
    "            angle = 90-(self.rel_winddir -90)\n",
    "            self.A_xv = self.calculate_H_above_water() * (self.B * np.cos(angle) + self.L * np.sin(angle))\n",
    "        return self.A_xv , angle\n",
    "    \n",
    "    def calculate_wind_resistance(self):\n",
    "        self.R_wind = 0.5 * self.calculate_C_d() * self.rho_air * self.calculate_A_xv()[0] * self.U_wind **2 - 0.5 * self.rho_air * self.calculate_Cd_0() * self.calculate_A_xv()[0] * self.V_g **2\n",
    "\n",
    "                    \n",
    "#     todo: 1) add the angle between wind force direction and vessel sailing direction to determine wind force to the vessel 2) add wind speed as input on the edge \n",
    "# drag coefficient of angle 0 should be in the minus part. \n",
    "# Raa = 0.5 * rho_a * C_da(phiWref) * A_xv * V_wrref**2 - 0.5 * rho_a * C_da(0) * A_xv * Vg**2\n",
    "# V_g komt later pas erin.\n",
    "#loaded/unloaded\n",
    "# negative value is in the Cd  value. so negative winddirection gives negative value because of cd. \n",
    "    \n",
    "        return self.R_wind"
   ]
  },
  {
   "cell_type": "code",
   "execution_count": 460,
   "id": "c0409af7-c10b-460f-b935-e2cd6ee7bcc0",
   "metadata": {},
   "outputs": [],
   "source": [
    "p =  Wind(11,60,rel_winddir=45,load = 'loaded',V_g = 0.3,heading = 40,winddirection = 60,U_wind = 15,rho_air = 1.225, H = 4, loaded_depth = 3.45, unloaded_depth = 2)"
   ]
  },
  {
   "cell_type": "code",
   "execution_count": 461,
   "id": "c48a4956-431e-4777-a686-963fc0771c84",
   "metadata": {},
   "outputs": [
    {
     "data": {
      "text/plain": [
       "20"
      ]
     },
     "execution_count": 461,
     "metadata": {},
     "output_type": "execute_result"
    }
   ],
   "source": [
    "p.calculate_rel_winddir()"
   ]
  },
  {
   "cell_type": "code",
   "execution_count": 462,
   "id": "c37d779d-9031-48d1-814c-47610e94194c",
   "metadata": {},
   "outputs": [
    {
     "name": "stdout",
     "output_type": "stream",
     "text": [
      "0.5499999999999998 H_above\n",
      "(27.61251980533467, 0) Axv\n",
      "0.0 C_d\n",
      "20 rel_winddir\n"
     ]
    }
   ],
   "source": [
    "print(p.calculate_H_above_water(),'H_above')\n",
    "print(p.calculate_A_xv(), 'Axv')\n",
    "print(p.calculate_C_d(), 'C_d')\n",
    "print(p.calculate_rel_winddir(), 'rel_winddir')"
   ]
  },
  {
   "cell_type": "code",
   "execution_count": 463,
   "id": "5c96765c-ccd9-4e6f-b519-8451173dd9db",
   "metadata": {},
   "outputs": [
    {
     "data": {
      "text/plain": [
       "-1.3090405326714034"
      ]
     },
     "execution_count": 463,
     "metadata": {},
     "output_type": "execute_result"
    }
   ],
   "source": [
    "p.calculate_wind_resistance()"
   ]
  },
  {
   "cell_type": "code",
   "execution_count": null,
   "id": "97a1c253-8a57-4f35-8a7c-220ceb67654c",
   "metadata": {},
   "outputs": [],
   "source": []
  },
  {
   "cell_type": "code",
   "execution_count": null,
   "id": "6abe5a73-1a67-4d98-8e73-2ea4def5b697",
   "metadata": {},
   "outputs": [],
   "source": []
  },
  {
   "cell_type": "code",
   "execution_count": null,
   "id": "6a65ac45-412d-4564-a522-c1e8cd289c1e",
   "metadata": {},
   "outputs": [],
   "source": []
  }
 ],
 "metadata": {
  "kernelspec": {
   "display_name": "Python 3 (ipykernel)",
   "language": "python",
   "name": "python3"
  },
  "language_info": {
   "codemirror_mode": {
    "name": "ipython",
    "version": 3
   },
   "file_extension": ".py",
   "mimetype": "text/x-python",
   "name": "python",
   "nbconvert_exporter": "python",
   "pygments_lexer": "ipython3",
   "version": "3.9.12"
  }
 },
 "nbformat": 4,
 "nbformat_minor": 5
}
