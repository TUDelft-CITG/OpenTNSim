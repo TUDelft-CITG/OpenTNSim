{
 "cells": [
  {
   "cell_type": "markdown",
   "metadata": {},
   "source": [
    "## Example 13 - Path selection by vessel limits"
   ]
  },
  {
   "cell_type": "code",
   "execution_count": 1,
   "metadata": {},
   "outputs": [],
   "source": [
    "# package(s) related to time, space and id\n",
    "import datetime, time\n",
    "import platform\n",
    "import random\n",
    "import os\n",
    "import pathlib\n",
    "import warnings\n",
    "\n",
    "# you need these dependencies (you can get these from anaconda)\n",
    "# package(s) related to the simulation\n",
    "import simpy\n",
    "\n",
    "# spatial libraries \n",
    "import pyproj\n",
    "import shapely.geometry\n",
    "from simplekml import Kml, Style\n",
    "\n",
    "# package(s) for data handling\n",
    "import pandas as pd\n",
    "import numpy as np\n",
    "import matplotlib.pyplot as plt\n",
    "import matplotlib.animation as animation\n",
    "\n",
    "# OpenTNSIM\n",
    "import opentnsim\n",
    "import opentnsim.core as core\n",
    "import opentnsim.graph_module as graph_module\n",
    "import opentnsim.plot as plot\n",
    "import opentnsim.model as model\n",
    "\n",
    "# Used for mathematical functions\n",
    "import math             \n",
    "\n",
    "# Used for making the graph to visualize our problem\n",
    "import networkx as nx  \n",
    "\n",
    "from shapely.errors import ShapelyDeprecationWarning\n",
    "warnings.filterwarnings(\"ignore\", category=ShapelyDeprecationWarning) \n"
   ]
  },
  {
   "cell_type": "code",
   "execution_count": 14,
   "metadata": {},
   "outputs": [],
   "source": [
    "src_dir = pathlib.Path(opentnsim.__file__).parent.parent\n",
    "\n",
    "# Graph location\n",
    "location_graph = src_dir / \"notebooks\"\n",
    "name_graph = location_graph / \"Shape-Files\" / \"Vaarwegvakken\" / \"Vaarwegvakken.shp\"\n",
    "\n",
    "# Vessel database\n",
    "location_vessel_database = location_graph / \"Vessels\" / \"richtlijnen-vaarwegen-2017.csv\""
   ]
  },
  {
   "cell_type": "markdown",
   "metadata": {},
   "source": [
    "### Create graph"
   ]
  },
  {
   "cell_type": "markdown",
   "metadata": {},
   "source": [
    "The cel below visualizes the problem. In graph theory the red dots are called *edges* and the lines are called *vertices*. Vessels (or any other object) move from edge 1 to edge 3 and from edge 4 to edge 2. The added complexity is that vertice 5-6 only allows traffic in one direction at a time. Vessels can travel simultanously in one direction.\n",
    "\n",
    "**Important**: \n",
    "\n",
    "If you use windows and get the following error \"ImportError: read_shp requires OGR: http://www.gdal.org/\", you probably have [this issue](https://github.com/conda-forge/gdal-feedstock/issues/219). Solving it is possible by running the following commands in your terminal (as explained [here](https://gis.stackexchange.com/questions/294231/installing-gdal-with-anaconda)):\n",
    "\n",
    "```bash\n",
    "#Create a new virtual environment\n",
    "conda create -n testgdal -c conda-forge gdal vs2015_runtime=14\n",
    "\n",
    "#Activate virtual environment\n",
    "activate testgdal\n",
    "\n",
    "#Open Jupyter notebook\n",
    "jupyer notebook\n",
    "```"
   ]
  },
  {
   "cell_type": "code",
   "execution_count": 15,
   "metadata": {},
   "outputs": [],
   "source": [
    "graph = graph_module.Graph()\n",
    "graph.from_shape(location_graph, name_graph)"
   ]
  },
  {
   "cell_type": "code",
   "execution_count": null,
   "metadata": {},
   "outputs": [],
   "source": [
    "graph.create_graph_new_projection()\n",
    "graph.plot()"
   ]
  },
  {
   "cell_type": "markdown",
   "metadata": {},
   "source": [
    "We'll simulate vessels travelling from Utrecht to 's-Hertogenbosch. Given the properties of the graph the origin will be *Rijkshaven Utrecht* and the destination will be *Industriehavens 's-Hertogenbosch*. Resulting in the following nodes:\n",
    "\n",
    "- Origin      (5.102283, 52.045830)\n",
    "- Destination (5.289868, 51.698449)\n",
    "\n",
    "The fasted route will be through the *Kanaal van Sint Andries*, but there is a lock in this canal. For this example we will not simulate the lock, but we will add restrictions to the canal so that not all vessesls can pass through. The edges we'll add restrictions to are between the following nodes. \n",
    "\n",
    "- Node 1 (5.368229, 51.791797)\n",
    "- Node 2 (5.369157, 51.789972)"
   ]
  },
  {
   "cell_type": "code",
   "execution_count": null,
   "metadata": {},
   "outputs": [],
   "source": [
    "for i, edge in enumerate(graph.graph.edges(data = True)):\n",
    "    if edge[0] == \"(5.368229, 51.791797)\" and edge[1] == \"(5.369157, 51.789972)\": \n",
    "        edge[2][\"Height\"] = 5.10\n",
    "        edge[2][\"Width\"]  = 9.50\n",
    "        edge[2][\"Depth\"]  = 3.50\n",
    "    \n",
    "    elif edge[1] == \"(5.368229, 51.791797)\" and edge[0] == \"(5.369157, 51.789972)\": \n",
    "        edge[2][\"Height\"] = 5.10\n",
    "        edge[2][\"Width\"]  = 9.50\n",
    "        edge[2][\"Depth\"]  = 3.50\n",
    "        \n",
    "    else:\n",
    "        edge[2][\"Height\"] = 30\n",
    "        edge[2][\"Width\"]  = 30\n",
    "        edge[2][\"Depth\"]  = 30"
   ]
  },
  {
   "cell_type": "markdown",
   "metadata": {},
   "source": [
    "### Create vessel database"
   ]
  },
  {
   "cell_type": "code",
   "execution_count": null,
   "metadata": {},
   "outputs": [],
   "source": [
    "vessel_db = pd.read_csv(os.path.join(location_graph, location_vessel_database))\n",
    "vessel_db['v'] = 1\n",
    "vessel_db['type'] = vessel_db['vessel_type']\n",
    "vessel_db['B'] = vessel_db['width']\n",
    "vessel_db['L'] = vessel_db['length']\n",
    "vessel_db.head()"
   ]
  },
  {
   "cell_type": "code",
   "execution_count": null,
   "metadata": {},
   "outputs": [],
   "source": [
    "# Vessel type\n",
    "Vessel = type('Vessel', \n",
    "              (core.Identifiable, core.Movable, core.HasContainer,\n",
    "               core.VesselProperties, core.HasResource, core.Routeable,\n",
    "               core.ExtraMetadata\n",
    "              ), \n",
    "              {})"
   ]
  },
  {
   "cell_type": "code",
   "execution_count": null,
   "metadata": {},
   "outputs": [],
   "source": [
    "generator = model.VesselGenerator(Vessel, vessel_db, loaded = \"Random\")"
   ]
  },
  {
   "cell_type": "markdown",
   "metadata": {},
   "source": [
    "### Run simulation"
   ]
  },
  {
   "cell_type": "code",
   "execution_count": null,
   "metadata": {},
   "outputs": [],
   "source": [
    "# Start simpy environment\n",
    "simulation_start = datetime.datetime(2019, 1, 1)\n",
    "sim = model.Simulation(simulation_start, graph.graph)"
   ]
  },
  {
   "cell_type": "code",
   "execution_count": null,
   "metadata": {},
   "outputs": [],
   "source": [
    "# Create a random path over the graph\n",
    "sim.add_vessels(vessel_generator = generator, origin = \"(5.102283, 52.045830)\", destination = \"(5.289868, 51.698449)\")"
   ]
  },
  {
   "cell_type": "code",
   "execution_count": null,
   "metadata": {},
   "outputs": [],
   "source": [
    "%%time\n",
    "# Run the simulation for 100 days\n",
    "sim.run(duration = 100 * 24 * 60 * 60)"
   ]
  },
  {
   "cell_type": "markdown",
   "metadata": {},
   "source": [
    "### Check results"
   ]
  },
  {
   "cell_type": "code",
   "execution_count": 12,
   "metadata": {},
   "outputs": [
    {
     "data": {
      "text/html": [
       "<div>\n",
       "<style scoped>\n",
       "    .dataframe tbody tr th:only-of-type {\n",
       "        vertical-align: middle;\n",
       "    }\n",
       "\n",
       "    .dataframe tbody tr th {\n",
       "        vertical-align: top;\n",
       "    }\n",
       "\n",
       "    .dataframe thead th {\n",
       "        text-align: right;\n",
       "    }\n",
       "</style>\n",
       "<table border=\"1\" class=\"dataframe\">\n",
       "  <thead>\n",
       "    <tr style=\"text-align: right;\">\n",
       "      <th></th>\n",
       "      <th>Origin</th>\n",
       "      <th>Destination</th>\n",
       "      <th>Width</th>\n",
       "      <th>Height</th>\n",
       "      <th>Depth</th>\n",
       "      <th>Route</th>\n",
       "    </tr>\n",
       "  </thead>\n",
       "  <tbody>\n",
       "  </tbody>\n",
       "</table>\n",
       "</div>"
      ],
      "text/plain": [
       "Empty DataFrame\n",
       "Columns: [Origin, Destination, Width, Height, Depth, Route]\n",
       "Index: []"
      ]
     },
     "execution_count": 12,
     "metadata": {},
     "output_type": "execute_result"
    }
   ],
   "source": [
    "# The different routes that are sailed by various vessels\n",
    "sim.environment.routes"
   ]
  },
  {
   "cell_type": "code",
   "execution_count": 13,
   "metadata": {},
   "outputs": [],
   "source": [
    "# The unique routes that are sailed by various vessels\n",
    "for i, route in enumerate(np.unique(sim.environment.routes[\"Route\"].values)):\n",
    "    print(\"Route\", i + 1)\n",
    "    print(route)\n",
    "    print(\"\")"
   ]
  }
 ],
 "metadata": {
  "kernelspec": {
   "display_name": "Python 3 (ipykernel)",
   "language": "python",
   "name": "python3"
  },
  "language_info": {
   "codemirror_mode": {
    "name": "ipython",
    "version": 3
   },
   "file_extension": ".py",
   "mimetype": "text/x-python",
   "name": "python",
   "nbconvert_exporter": "python",
   "pygments_lexer": "ipython3",
   "version": "3.9.13"
  }
 },
 "nbformat": 4,
 "nbformat_minor": 2
}
