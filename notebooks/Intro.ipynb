{
 "cells": [
  {
   "cell_type": "markdown",
   "metadata": {},
   "source": [
    "# Introduction"
   ]
  },
  {
   "cell_type": "markdown",
   "metadata": {},
   "source": [
    "### Open source Transport Network Simulation\n",
    "\n",
    "OpenTNSim is a python package for the investigation of traffic behaviour on networks to compare the consequences of different traffic scenarios and network configurations developed at the Delft University of Technology."
   ]
  },
  {
   "cell_type": "markdown",
   "metadata": {},
   "source": [
    "### Book overview"
   ]
  },
  {
   "cell_type": "markdown",
   "metadata": {},
   "source": [
    "For the design and optimization of ports, waterways and inland waterways, simulation can be a helpful tool. While simulations aren't the same are real life data, they do often save time and money. OpenTNSIm is an open source python package that can be used to simulate vessels and (existing) maritime networks. Some of the possibilities of OpenTNSim are the visualisation of sailed paths, the generation (random) vessels, the use of real-world data and determining energy usage and emissions of vessels. \n",
    "With the increasing demand in the maritime market and the changes due to climate change, OpenTNSim and its possibilities can be of great importance.\n",
    "\n",
    "This book provides an introduction to the use and application of the OpenTNSim package. The goal of this book is to introduce the basics of the package by explaining the graphing, vessels generation and basic simulation. Furthermore, the book will guide you through the use of real-life data and the simulation of more complex systems by explaining the use of shape files, multiple vessel generators and the visualization of sailed paths. Finally, it will adressed how to retrieve emissions and energy usage data from the simulations. \n",
    "\n",
    "This book is intended for all people (students and researchers) that are interested in port and waterway simulation using Python. "
   ]
  },
  {
   "cell_type": "markdown",
   "metadata": {},
   "source": [
    "### Goals "
   ]
  },
  {
   "cell_type": "markdown",
   "metadata": {},
   "source": [
    "1. Learn the basics of OpenTNSim\n",
    "2. Learn how to apply real-life data in OpenTNSim\n",
    "3. Learn how to make more advanced simulations\n",
    "4. Learn how to retrieve emissions and energy usage data"
   ]
  },
  {
   "cell_type": "markdown",
   "metadata": {},
   "source": [
    "changes\n"
   ]
  },
  {
   "cell_type": "markdown",
   "metadata": {},
   "source": [
    "tes"
   ]
  },
  {
   "cell_type": "markdown",
   "metadata": {},
   "source": []
  }
 ],
 "metadata": {
  "interpreter": {
   "hash": "bc2f23f0e1027361e8561dc277ccb0bcad3c3644321e7cca203c11d41fe2cc0c"
  },
  "kernelspec": {
   "display_name": "Python 3.9.10 ('opentnsim')",
   "language": "python",
   "name": "python3"
  },
  "language_info": {
   "codemirror_mode": {
    "name": "ipython",
    "version": 3
   },
   "file_extension": ".py",
   "mimetype": "text/x-python",
   "name": "python",
   "nbconvert_exporter": "python",
   "pygments_lexer": "ipython3",
   "version": "3.9.10"
  },
  "orig_nbformat": 4
 },
 "nbformat": 4,
 "nbformat_minor": 2
}
