{
 "cells": [
  {
   "cell_type": "markdown",
   "metadata": {},
   "source": [
    "## Vessels passing a lock in a real-world example\n",
    "In this example we will discuss how to implement an existing lock from real-world data in OpenTNSim and how to analyse specific locking output.\n",
    "\n",
    "We take the following steps:\n",
    "\n",
    "1. [Imports](#1-imports)\n",
    "2. [Create graph](#2-create-graph)\n",
    "3. [Create locks](#3-create-locks)\n",
    "4. [Create vessel](#4-create-vessel)\n",
    "4. [Run simulation](#5-run-simulation)\n",
    "5. [Inspect output](#6-inspect-ouput)"
   ]
  },
  {
   "cell_type": "markdown",
   "metadata": {},
   "source": [
    "### 1. Imports"
   ]
  },
  {
   "cell_type": "markdown",
   "metadata": {},
   "source": [
    "Import the required libraries"
   ]
  },
  {
   "cell_type": "code",
   "execution_count": 1,
   "metadata": {},
   "outputs": [
    {
     "name": "stdout",
     "output_type": "stream",
     "text": [
      "This notebook has been tested with OpenTNSim version 1.1.2\n"
     ]
    }
   ],
   "source": [
    "import opentnsim\n",
    "print('This notebook has been tested with OpenTNSim version {}'.format(opentnsim.__version__))"
   ]
  },
  {
   "cell_type": "code",
   "execution_count": 2,
   "metadata": {},
   "outputs": [],
   "source": [
    "# package(s) related to time, space and id\n",
    "import datetime, time\n",
    "import platform\n",
    "import random\n",
    "import os\n",
    "import pathlib\n",
    "import warnings\n",
    "\n",
    "# you need these dependencies (you can get these from anaconda)\n",
    "# package(s) related to the simulation\n",
    "import simpy\n",
    "\n",
    "# spatial libraries \n",
    "import pyproj\n",
    "import shapely.geometry\n",
    "from simplekml import Kml, Style\n",
    "import folium\n",
    "\n",
    "# package(s) for data handling\n",
    "import pandas as pd\n",
    "import numpy as np\n",
    "import matplotlib.pyplot as plt\n",
    "from osgeo import ogr, osr\n",
    "\n",
    "# OpenTNSIM\n",
    "import opentnsim\n",
    "import opentnsim.core as core\n",
    "import opentnsim.graph_module as graph_module\n",
    "import opentnsim.plot as plot\n",
    "\n",
    "# Used for mathematical functions\n",
    "import math             \n",
    "import json\n",
    "\n",
    "# Used for making the graph to visualize our problem\n",
    "import networkx as nx \n",
    "\n",
    "from shapely.errors import ShapelyDeprecationWarning\n",
    "warnings.filterwarnings(\"ignore\", category=ShapelyDeprecationWarning) \n"
   ]
  },
  {
   "cell_type": "code",
   "execution_count": 3,
   "metadata": {},
   "outputs": [],
   "source": [
    "# Graph location\n",
    "src_dir = pathlib.Path(opentnsim.__file__).parent.parent\n",
    "\n",
    "# Graph location\n",
    "location_graph = src_dir / \"notebooks\"\n",
    "name_graph = location_graph / \"Shape-Files\" / \"Vaarwegvakken\" / \"Vaarwegvakken.shp\""
   ]
  },
  {
   "cell_type": "code",
   "execution_count": 4,
   "metadata": {},
   "outputs": [],
   "source": [
    "# Start simpy environment\n",
    "# env = simpy.Environment()\n",
    "simulation_start = datetime.datetime.now()\n",
    "env = simpy.Environment(initial_time = time.mktime(simulation_start.timetuple()))"
   ]
  },
  {
   "cell_type": "markdown",
   "metadata": {},
   "source": [
    "### 2. Create graph"
   ]
  },
  {
   "cell_type": "markdown",
   "metadata": {},
   "source": [
    "The cel below visualizes the problem. In graph theory the red dots are called *edges* and the lines are called *vertices*. Vessels (or any other object) move from edge 1 to edge 3 and from edge 4 to edge 2. The added complexity is that vertice 5-6 only allows traffic in one direction at a time. Vessels can travel simultanously in one direction.\n",
    "\n",
    "**Important**: \n",
    "\n",
    "If you use windows and get the following error \"ImportError: read_shp requires OGR: http://www.gdal.org/\", you probably have [this issue](https://github.com/conda-forge/gdal-feedstock/issues/219). Solving it is possible by running the following commands in your terminal (as explained [here](https://gis.stackexchange.com/questions/294231/installing-gdal-with-anaconda)):\n",
    "\n",
    "```bash\n",
    "#Create a new virtual environment\n",
    "conda create -n testgdal -c conda-forge gdal vs2015_runtime=14\n",
    "\n",
    "#Activate virtual environment\n",
    "activate testgdal\n",
    "\n",
    "#Open Jupyter notebook\n",
    "jupyer notebook\n",
    "```"
   ]
  },
  {
   "cell_type": "markdown",
   "metadata": {},
   "source": [
    "The shapefile `Vaarwegvakken.shp` is used as a basis for creating the graph for this simulation. To make things easier, the directory (location) of the shapefile is expressed as the variable `location_graph`. The name of the file is expressed as the variable `name_graph`. This will be used troughout the rest of the code. "
   ]
  },
  {
   "cell_type": "code",
   "execution_count": 5,
   "metadata": {},
   "outputs": [
    {
     "name": "stderr",
     "output_type": "stream",
     "text": [
      "/var/folders/fh/tcbrjg6n28b0lzjzh07b5t6m0000gn/T/ipykernel_83070/1758183640.py:2: DeprecationWarning:\n",
      "\n",
      "read_shp is deprecated and will be removed in 3.0.See https://networkx.org/documentation/latest/auto_examples/index.html#geospatial.\n",
      "\n"
     ]
    }
   ],
   "source": [
    "# Create a directed graph with single edges using read_shp\n",
    "FG = nx.read_shp(str(name_graph), simplify=True)\n",
    "\n",
    "# We require a directed graph but two-way traffic\n",
    "\n",
    "FG = FG.to_undirected()\n",
    "FG = FG.to_directed()"
   ]
  },
  {
   "cell_type": "markdown",
   "metadata": {},
   "source": [
    "#### Convert to WGS84\n",
    "\n",
    "WGS84 is the latest version of the World Geodetic System. More information can be found [here](https://en.wikipedia.org/wiki/World_Geodetic_System)."
   ]
  },
  {
   "cell_type": "code",
   "execution_count": 6,
   "metadata": {},
   "outputs": [],
   "source": [
    "def transform_projection(location_graph, name_graph):\n",
    "    driver = ogr.GetDriverByName(\"ESRI Shapefile\")\n",
    "    dataset = driver.Open(os.path.join(location_graph, name_graph))\n",
    "\n",
    "    # from Layer\n",
    "    inSpatialRef = dataset.GetLayer().GetSpatialRef()\n",
    "\n",
    "    # Set up the coordinate reference we want to use, WGS84 - World Geodetic System 1984\n",
    "    outSpatialRef = osr.SpatialReference()\n",
    "    outSpatialRef.ImportFromEPSG(4326)\n",
    "\n",
    "    # Transform the coordinates\n",
    "    transform = osr.CoordinateTransformation(inSpatialRef, outSpatialRef)\n",
    "    \n",
    "    return transform"
   ]
  },
  {
   "cell_type": "code",
   "execution_count": 7,
   "metadata": {},
   "outputs": [],
   "source": [
    "def change_projection(transform, point):\n",
    "    point = ogr.CreateGeometryFromWkt(str(point))\n",
    "    \n",
    "    point.Transform(transform)\n",
    "    point.ExportToWkt()\n",
    "    \n",
    "    return point.GetX(), point.GetY()"
   ]
  },
  {
   "cell_type": "code",
   "execution_count": 8,
   "metadata": {},
   "outputs": [
    {
     "name": "stdout",
     "output_type": "stream",
     "text": [
      "Succes!\n"
     ]
    }
   ],
   "source": [
    "transform = transform_projection(location_graph, name_graph)\n",
    "FG_new = nx.DiGraph()\n",
    "\n",
    "nodes_dict = {}\n",
    "\n",
    "for i, node in enumerate(FG.nodes(data = True)):\n",
    "    coordinates = change_projection(transform, shapely.geometry.Point(list(FG.nodes)[i][0], list(FG.nodes)[i][1]))\n",
    "    name = \"({:f}, {:f})\".format(coordinates[0], coordinates[1])\n",
    "    geometry = shapely.geometry.Point(coordinates[0], coordinates[1])\n",
    "    \n",
    "    nodes_dict[list(FG.nodes)[i]] = name\n",
    "    FG_new.add_node(name, name = name, Position = coordinates, geometry = geometry, Old = node[1])\n",
    "    \n",
    "for edge in FG.edges(data = True):\n",
    "    node_1 = nodes_dict[edge[0]]\n",
    "    node_2 = nodes_dict[edge[1]]\n",
    "    \n",
    "    VRT_NAAM = edge[2][\"VRT_NAAM\"]\n",
    "    VWG_NAAM = edge[2][\"VWG_NAAM\"]\n",
    "    BEGKM =  edge[2][\"BEGKM\"]\n",
    "    ENDKM =  edge[2][\"ENDKM\"]\n",
    "    DIST = np.abs(float(BEGKM) - float(ENDKM))\n",
    "    \n",
    "    LINE = (json.loads(edge[2][\"Json\"])[\"coordinates\"])\n",
    "    LineString = []\n",
    "    for coordinates in LINE:\n",
    "        LineString.append(change_projection(transform, shapely.geometry.Point(coordinates[0], coordinates[1])))\n",
    "    \n",
    "    FG_new.add_edge(node_1, node_2, LineString = shapely.geometry.LineString(LineString), \n",
    "                    VRT_NAAM = VRT_NAAM, VWG_NAAM = VWG_NAAM, BEGKM = BEGKM, ENDKM = ENDKM, DIST = DIST)\n",
    "\n",
    "if nx.info(FG) == nx.info(FG_new):\n",
    "    print(\"Succes!\")"
   ]
  },
  {
   "cell_type": "markdown",
   "metadata": {},
   "source": [
    "#### Select only relevant area"
   ]
  },
  {
   "cell_type": "code",
   "execution_count": 9,
   "metadata": {},
   "outputs": [],
   "source": [
    "# North-East\n",
    "NE = (4.54, 51.75)\n",
    "# South-East\n",
    "SE = (4.54, 51.60)\n",
    "# South-West\n",
    "SW = (4.20, 51.60)\n",
    "# North-West\n",
    "NW = (4.20, 51.75)\n",
    "\n",
    "polygon = shapely.geometry.Polygon([NE, SE, SW, NW])"
   ]
  },
  {
   "cell_type": "code",
   "execution_count": 10,
   "metadata": {},
   "outputs": [],
   "source": [
    "nodes = []\n",
    "edges = []\n",
    "\n",
    "for edge in FG_new.edges(data = True):\n",
    "    node_1 = FG_new.nodes[edge[0]]\n",
    "    node_2 = FG_new.nodes[edge[1]]\n",
    "    \n",
    "    if node_1[\"geometry\"].within(polygon) or node_2[\"geometry\"].within(polygon):\n",
    "        nodes.append(node_1)\n",
    "        nodes.append(node_2)\n",
    "        edges.append(edge)"
   ]
  },
  {
   "cell_type": "code",
   "execution_count": 11,
   "metadata": {},
   "outputs": [],
   "source": [
    "FG_new = nx.DiGraph ()\n",
    "\n",
    "for node in nodes:\n",
    "    FG_new.add_node(node[\"name\"], name = node[\"name\"], Position = node[\"Position\"], geometry = node[\"geometry\"])\n",
    "\n",
    "for edge in edges:\n",
    "    FG_new.add_edge(edge[0], edge[1], Info = edge[2])"
   ]
  },
  {
   "cell_type": "markdown",
   "metadata": {},
   "source": [
    "#### Show on map"
   ]
  },
  {
   "cell_type": "code",
   "execution_count": 12,
   "metadata": {
    "scrolled": false
   },
   "outputs": [
    {
     "data": {
      "text/html": [
       "<div style=\"width:100%;\"><div style=\"position:relative;width:100%;height:0;padding-bottom:60%;\"><span style=\"color:#565656\">Make this Notebook Trusted to load map: File -> Trust Notebook</span><iframe src=\"about:blank\" style=\"position:absolute;width:100%;height:100%;left:0;top:0;border:none !important;\" data-html=%3C%21DOCTYPE%20html%3E%0A%3Chead%3E%20%20%20%20%0A%20%20%20%20%3Cmeta%20http-equiv%3D%22content-type%22%20content%3D%22text/html%3B%20charset%3DUTF-8%22%20/%3E%0A%20%20%20%20%0A%20%20%20%20%20%20%20%20%3Cscript%3E%0A%20%20%20%20%20%20%20%20%20%20%20%20L_NO_TOUCH%20%3D%20false%3B%0A%20%20%20%20%20%20%20%20%20%20%20%20L_DISABLE_3D%20%3D%20false%3B%0A%20%20%20%20%20%20%20%20%3C/script%3E%0A%20%20%20%20%0A%20%20%20%20%3Cstyle%3Ehtml%2C%20body%20%7Bwidth%3A%20100%25%3Bheight%3A%20100%25%3Bmargin%3A%200%3Bpadding%3A%200%3B%7D%3C/style%3E%0A%20%20%20%20%3Cstyle%3E%23map%20%7Bposition%3Aabsolute%3Btop%3A0%3Bbottom%3A0%3Bright%3A0%3Bleft%3A0%3B%7D%3C/style%3E%0A%20%20%20%20%3Cscript%20src%3D%22https%3A//cdn.jsdelivr.net/npm/leaflet%401.6.0/dist/leaflet.js%22%3E%3C/script%3E%0A%20%20%20%20%3Cscript%20src%3D%22https%3A//code.jquery.com/jquery-1.12.4.min.js%22%3E%3C/script%3E%0A%20%20%20%20%3Cscript%20src%3D%22https%3A//maxcdn.bootstrapcdn.com/bootstrap/3.2.0/js/bootstrap.min.js%22%3E%3C/script%3E%0A%20%20%20%20%3Cscript%20src%3D%22https%3A//cdnjs.cloudflare.com/ajax/libs/Leaflet.awesome-markers/2.0.2/leaflet.awesome-markers.js%22%3E%3C/script%3E%0A%20%20%20%20%3Clink%20rel%3D%22stylesheet%22%20href%3D%22https%3A//cdn.jsdelivr.net/npm/leaflet%401.6.0/dist/leaflet.css%22/%3E%0A%20%20%20%20%3Clink%20rel%3D%22stylesheet%22%20href%3D%22https%3A//maxcdn.bootstrapcdn.com/bootstrap/3.2.0/css/bootstrap.min.css%22/%3E%0A%20%20%20%20%3Clink%20rel%3D%22stylesheet%22%20href%3D%22https%3A//maxcdn.bootstrapcdn.com/bootstrap/3.2.0/css/bootstrap-theme.min.css%22/%3E%0A%20%20%20%20%3Clink%20rel%3D%22stylesheet%22%20href%3D%22https%3A//maxcdn.bootstrapcdn.com/font-awesome/4.6.3/css/font-awesome.min.css%22/%3E%0A%20%20%20%20%3Clink%20rel%3D%22stylesheet%22%20href%3D%22https%3A//cdnjs.cloudflare.com/ajax/libs/Leaflet.awesome-markers/2.0.2/leaflet.awesome-markers.css%22/%3E%0A%20%20%20%20%3Clink%20rel%3D%22stylesheet%22%20href%3D%22https%3A//cdn.jsdelivr.net/gh/python-visualization/folium/folium/templates/leaflet.awesome.rotate.min.css%22/%3E%0A%20%20%20%20%0A%20%20%20%20%20%20%20%20%20%20%20%20%3Cmeta%20name%3D%22viewport%22%20content%3D%22width%3Ddevice-width%2C%0A%20%20%20%20%20%20%20%20%20%20%20%20%20%20%20%20initial-scale%3D1.0%2C%20maximum-scale%3D1.0%2C%20user-scalable%3Dno%22%20/%3E%0A%20%20%20%20%20%20%20%20%20%20%20%20%3Cstyle%3E%0A%20%20%20%20%20%20%20%20%20%20%20%20%20%20%20%20%23map_0eb9d9beb56c46b5aa077dad2df6b8be%20%7B%0A%20%20%20%20%20%20%20%20%20%20%20%20%20%20%20%20%20%20%20%20position%3A%20relative%3B%0A%20%20%20%20%20%20%20%20%20%20%20%20%20%20%20%20%20%20%20%20width%3A%20100.0%25%3B%0A%20%20%20%20%20%20%20%20%20%20%20%20%20%20%20%20%20%20%20%20height%3A%20100.0%25%3B%0A%20%20%20%20%20%20%20%20%20%20%20%20%20%20%20%20%20%20%20%20left%3A%200.0%25%3B%0A%20%20%20%20%20%20%20%20%20%20%20%20%20%20%20%20%20%20%20%20top%3A%200.0%25%3B%0A%20%20%20%20%20%20%20%20%20%20%20%20%20%20%20%20%7D%0A%20%20%20%20%20%20%20%20%20%20%20%20%3C/style%3E%0A%20%20%20%20%20%20%20%20%0A%3C/head%3E%0A%3Cbody%3E%20%20%20%20%0A%20%20%20%20%0A%20%20%20%20%20%20%20%20%20%20%20%20%3Cdiv%20class%3D%22folium-map%22%20id%3D%22map_0eb9d9beb56c46b5aa077dad2df6b8be%22%20%3E%3C/div%3E%0A%20%20%20%20%20%20%20%20%0A%3C/body%3E%0A%3Cscript%3E%20%20%20%20%0A%20%20%20%20%0A%20%20%20%20%20%20%20%20%20%20%20%20var%20map_0eb9d9beb56c46b5aa077dad2df6b8be%20%3D%20L.map%28%0A%20%20%20%20%20%20%20%20%20%20%20%20%20%20%20%20%22map_0eb9d9beb56c46b5aa077dad2df6b8be%22%2C%0A%20%20%20%20%20%20%20%20%20%20%20%20%20%20%20%20%7B%0A%20%20%20%20%20%20%20%20%20%20%20%20%20%20%20%20%20%20%20%20center%3A%20%5B51.7%2C%204.4%5D%2C%0A%20%20%20%20%20%20%20%20%20%20%20%20%20%20%20%20%20%20%20%20crs%3A%20L.CRS.EPSG3857%2C%0A%20%20%20%20%20%20%20%20%20%20%20%20%20%20%20%20%20%20%20%20zoom%3A%2012%2C%0A%20%20%20%20%20%20%20%20%20%20%20%20%20%20%20%20%20%20%20%20zoomControl%3A%20true%2C%0A%20%20%20%20%20%20%20%20%20%20%20%20%20%20%20%20%20%20%20%20preferCanvas%3A%20false%2C%0A%20%20%20%20%20%20%20%20%20%20%20%20%20%20%20%20%7D%0A%20%20%20%20%20%20%20%20%20%20%20%20%29%3B%0A%0A%20%20%20%20%20%20%20%20%20%20%20%20%0A%0A%20%20%20%20%20%20%20%20%0A%20%20%20%20%0A%20%20%20%20%20%20%20%20%20%20%20%20var%20tile_layer_2d5916b5a4e04162b1edc00202afccce%20%3D%20L.tileLayer%28%0A%20%20%20%20%20%20%20%20%20%20%20%20%20%20%20%20%22https%3A//%7Bs%7D.tile.openstreetmap.org/%7Bz%7D/%7Bx%7D/%7By%7D.png%22%2C%0A%20%20%20%20%20%20%20%20%20%20%20%20%20%20%20%20%7B%22attribution%22%3A%20%22Data%20by%20%5Cu0026copy%3B%20%5Cu003ca%20href%3D%5C%22http%3A//openstreetmap.org%5C%22%5Cu003eOpenStreetMap%5Cu003c/a%5Cu003e%2C%20under%20%5Cu003ca%20href%3D%5C%22http%3A//www.openstreetmap.org/copyright%5C%22%5Cu003eODbL%5Cu003c/a%5Cu003e.%22%2C%20%22detectRetina%22%3A%20false%2C%20%22maxNativeZoom%22%3A%2018%2C%20%22maxZoom%22%3A%2018%2C%20%22minZoom%22%3A%200%2C%20%22noWrap%22%3A%20false%2C%20%22opacity%22%3A%201%2C%20%22subdomains%22%3A%20%22abc%22%2C%20%22tms%22%3A%20false%7D%0A%20%20%20%20%20%20%20%20%20%20%20%20%29.addTo%28map_0eb9d9beb56c46b5aa077dad2df6b8be%29%3B%0A%20%20%20%20%20%20%20%20%0A%3C/script%3E onload=\"this.contentDocument.open();this.contentDocument.write(    decodeURIComponent(this.getAttribute('data-html')));this.contentDocument.close();\" allowfullscreen webkitallowfullscreen mozallowfullscreen></iframe></div></div>"
      ],
      "text/plain": [
       "<folium.folium.Map at 0x1684d78e0>"
      ]
     },
     "execution_count": 12,
     "metadata": {},
     "output_type": "execute_result"
    }
   ],
   "source": [
    "# Browser\n",
    "m = folium.Map(location=[51.7, 4.4], zoom_start = 12)\n",
    "\n",
    "for edge in FG_new.edges(data = True):\n",
    "    points_x = list(edge[2][\"Info\"][\"LineString\"].coords.xy[0])\n",
    "    points_y = list(edge[2][\"Info\"][\"LineString\"].coords.xy[1])\n",
    "    \n",
    "    line = []\n",
    "    for i, _ in enumerate(points_x):\n",
    "        line.append((points_y[i], points_x[i]))\n",
    "    \n",
    "    if edge[2][\"Info\"][\"VWG_NAAM\"] in [\"Voorhavens Jachtensluis\", \"Voorhavens Volkeraksluizen\"]:\n",
    "        folium.PolyLine(line, color = \"red\", weight = 5, popup = edge[2][\"Info\"][\"VWG_NAAM\"]).add_to(m)\n",
    "    \n",
    "    else:\n",
    "        folium.PolyLine(line, weight = 2, popup = edge[2][\"Info\"][\"VWG_NAAM\"]).add_to(m)\n",
    "\n",
    "m"
   ]
  },
  {
   "cell_type": "markdown",
   "metadata": {},
   "source": [
    "### 3. Create locks\n",
    "We can see on the maps that there are three locks on the graph, but that the information on the locks is limited. The following edges represent locks:\n",
    "\n",
    "- Voorhavens Jachtensluis\n",
    "- Voorhavens Volkeraksluizen\n",
    "\n",
    "These edges will be replaced by two lock elements. The Jachtensluizen are mainly designed for yachts and pleasure craft, and have a length of 135 meters and a width of 16 meters. The Volkeraksluizen have three chambers each with a length of 330 meters and a width of 24 meters. For now we'll assume that both locks have a maximum allowable draught of 4.5 meters.\n",
    "\n",
    "Additional information on the locks can be found on the [Rijkswaterstand website (link in Dutch)](https://www.rijkswaterstaat.nl/water/waterbeheer/bescherming-tegen-het-water/waterkeringen/deltawerken/volkeraksluizen.aspx). "
   ]
  },
  {
   "cell_type": "code",
   "execution_count": 13,
   "metadata": {},
   "outputs": [
    {
     "ename": "TypeError",
     "evalue": "__init__() missing 7 required positional arguments: 'node_3', 'wlev_dif', 'disch_coeff', 'grav_acc', 'opening_area', 'opening_depth', and 'simulation_start'",
     "output_type": "error",
     "traceback": [
      "\u001b[0;31m---------------------------------------------------------------------------\u001b[0m",
      "\u001b[0;31mTypeError\u001b[0m                                 Traceback (most recent call last)",
      "\u001b[0;32m/var/folders/fh/tcbrjg6n28b0lzjzh07b5t6m0000gn/T/ipykernel_83070/1709043379.py\u001b[0m in \u001b[0;36m<module>\u001b[0;34m\u001b[0m\n\u001b[0;32m----> 1\u001b[0;31m lock_nr_1 = core.IsLock(env = env, nr_resources = 1, priority = True, name = \"Volkerak - 1\", \n\u001b[0m\u001b[1;32m      2\u001b[0m                         \u001b[0mnode_1\u001b[0m \u001b[0;34m=\u001b[0m \u001b[0;34m\"(4.430289, 51.700047)\"\u001b[0m\u001b[0;34m,\u001b[0m \u001b[0mnode_2\u001b[0m \u001b[0;34m=\u001b[0m \u001b[0;34m\"(4.392555, 51.681251)\"\u001b[0m\u001b[0;34m,\u001b[0m\u001b[0;34m\u001b[0m\u001b[0;34m\u001b[0m\u001b[0m\n\u001b[1;32m      3\u001b[0m                         \u001b[0mlock_length\u001b[0m \u001b[0;34m=\u001b[0m \u001b[0;36m330\u001b[0m\u001b[0;34m,\u001b[0m \u001b[0mlock_width\u001b[0m \u001b[0;34m=\u001b[0m \u001b[0;36m24\u001b[0m\u001b[0;34m,\u001b[0m \u001b[0mlock_depth\u001b[0m \u001b[0;34m=\u001b[0m \u001b[0;36m4.5\u001b[0m\u001b[0;34m,\u001b[0m\u001b[0;34m\u001b[0m\u001b[0;34m\u001b[0m\u001b[0m\n\u001b[1;32m      4\u001b[0m                         doors_open = 10 * 60, doors_close = 10 * 60, operating_time = 25 * 60)\n\u001b[1;32m      5\u001b[0m \u001b[0;34m\u001b[0m\u001b[0m\n",
      "\u001b[0;31mTypeError\u001b[0m: __init__() missing 7 required positional arguments: 'node_3', 'wlev_dif', 'disch_coeff', 'grav_acc', 'opening_area', 'opening_depth', and 'simulation_start'"
     ]
    }
   ],
   "source": [
    "lock_nr_1 = core.IsLock(env = env, nr_resources = 1, priority = True, name = \"Volkerak - 1\", \n",
    "                        node_1 = \"(4.430289, 51.700047)\", node_2 = \"(4.392555, 51.681251)\",\n",
    "                        lock_length = 330, lock_width = 24, lock_depth = 4.5, \n",
    "                        doors_open = 10 * 60, doors_close = 10 * 60, operating_time = 25 * 60)\n",
    "\n",
    "lock_nr_2 = core.IsLock(env = env, nr_resources = 1, priority = True, name = \"Volkerak - 1\", \n",
    "                        node_1 = \"(4.430289, 51.700047)\", node_2 = \"(4.392555, 51.681251)\",\n",
    "                        lock_length = 330, lock_width = 24, lock_depth = 4.5, \n",
    "                        doors_open = 10 * 60, doors_close = 10 * 60, operating_time = 25 * 60)\n",
    "\n",
    "lock_nr_3 = core.IsLock(env = env, nr_resources = 1, priority = True, name = \"Volkerak - 1\", \n",
    "                        node_1 = \"(4.430289, 51.700047)\", node_2 = \"(4.392555, 51.681251)\",\n",
    "                        lock_length = 330, lock_width = 24, lock_depth = 4.5, \n",
    "                        doors_open = 10 * 60, doors_close = 10 * 60, operating_time = 25 * 60)\n",
    "\n",
    "# lock_test = core.IsLock(env = env, nr_resources = 1, priority = True, name = \"Jachtensluis\", \n",
    "#                         node_1 = \"(4.395179, 51.691512)\", node_2 = \"(4.408442, 51.700226)\",\n",
    "#                         lock_length = 330, lock_width = 24, lock_depth = 4.5, \n",
    "#                         doors_open = 10 * 60, doors_close = 10 * 60, operating_time = 25 * 60)"
   ]
  },
  {
   "cell_type": "code",
   "execution_count": null,
   "metadata": {},
   "outputs": [],
   "source": [
    "for edge in FG_new.edges(data = True):\n",
    "    if edge[2][\"Info\"][\"VWG_NAAM\"] == \"Voorhavens Volkeraksluizen\":\n",
    "        # For testing, all locks have the water level at the right side\n",
    "        lock_nr_1.water_level = \"(4.430289, 51.700047)\"\n",
    "        lock_nr_2.water_level = \"(4.430289, 51.700047)\"\n",
    "        lock_nr_3.water_level = \"(4.430289, 51.700047)\"\n",
    "        \n",
    "        # Add locks to the correct edge\n",
    "        FG_new.edges[edge[0], edge[1]][\"Lock\"] = [lock_nr_1, lock_nr_2, lock_nr_3]"
   ]
  },
  {
   "cell_type": "markdown",
   "metadata": {},
   "source": [
    "### 4. Create vessel"
   ]
  },
  {
   "cell_type": "code",
   "execution_count": null,
   "metadata": {},
   "outputs": [],
   "source": [
    "Vessel = type('Vessel', \n",
    "              (core.Identifiable, core.Movable, core.HasContainer, core.HasResource, core.Routeable), {})\n",
    "\n",
    "data_vessel_one = {\"env\": env,\n",
    "                   \"name\": \"Vessel\",\n",
    "                   \"route\": [\"(4.430289, 51.700047)\", \"(4.392555, 51.681251)\"],\n",
    "                   \"geometry\": nx.get_node_attributes(FG_new, \"geometry\")[\"(4.430289, 51.700047)\"],\n",
    "                   \"capacity\": 1_000}\n",
    "\n",
    "data_vessel_two = {\"env\": env,\n",
    "                   \"name\": \"Vessel\",\n",
    "                   \"route\": [\"(4.392555, 51.681251)\", \"(4.430289, 51.700047)\"],\n",
    "                   \"geometry\": nx.get_node_attributes(FG_new, \"geometry\")[\"(4.392555, 51.681251)\"],\n",
    "                   \"capacity\": 1_000}"
   ]
  },
  {
   "cell_type": "markdown",
   "metadata": {},
   "source": [
    "### 5. Run simulation"
   ]
  },
  {
   "cell_type": "code",
   "execution_count": null,
   "metadata": {},
   "outputs": [],
   "source": [
    "# Start simpy environment\n",
    "env.FG = FG_new\n",
    "\n",
    "# Add the movements of the vessel to the simulation\n",
    "vessels = []\n",
    "for i in range(10):\n",
    "    vessel = Vessel(**data_vessel_one)\n",
    "    vessels.append(vessel)\n",
    "    env.process(vessel.move())\n",
    "    \n",
    "    vessel = Vessel(**data_vessel_two)\n",
    "    vessels.append(vessel)\n",
    "    env.process(vessel.move())\n",
    "\n",
    "# Run the environment\n",
    "env.run()"
   ]
  },
  {
   "cell_type": "markdown",
   "metadata": {},
   "source": [
    "### 6. Inspect ouput"
   ]
  },
  {
   "cell_type": "code",
   "execution_count": null,
   "metadata": {},
   "outputs": [],
   "source": [
    "# First ship should be able to directly enter the lock\n",
    "pd.DataFrame.from_dict(vessels[0].log)"
   ]
  },
  {
   "cell_type": "code",
   "execution_count": null,
   "metadata": {
    "scrolled": false
   },
   "outputs": [],
   "source": [
    "# Second ship should be able to pass the lock after the first one has passed\n",
    "pd.DataFrame.from_dict(vessels[1].log)"
   ]
  },
  {
   "cell_type": "code",
   "execution_count": null,
   "metadata": {},
   "outputs": [],
   "source": [
    "# Check what the lock is doing\n",
    "pd.DataFrame.from_dict(lock_nr_1.log).head(10)"
   ]
  },
  {
   "cell_type": "code",
   "execution_count": null,
   "metadata": {
    "scrolled": false
   },
   "outputs": [],
   "source": [
    "# Fourth ship should be the first one the start waiting at the line-up area\n",
    "pd.DataFrame.from_dict(vessels[3].log)"
   ]
  },
  {
   "cell_type": "code",
   "execution_count": null,
   "metadata": {},
   "outputs": [],
   "source": [
    "# Seventh ship should be the first one the start waiting at the waiting area\n",
    "pd.DataFrame.from_dict(vessels[6].log)"
   ]
  },
  {
   "cell_type": "code",
   "execution_count": null,
   "metadata": {},
   "outputs": [],
   "source": [
    "# Tenth ship should be the first one the start waiting to enter the waiting area\n",
    "pd.DataFrame.from_dict(vessels[9].log)"
   ]
  }
 ],
 "metadata": {
  "kernelspec": {
   "display_name": "Python 3 (ipykernel)",
   "language": "python",
   "name": "python3"
  },
  "language_info": {
   "codemirror_mode": {
    "name": "ipython",
    "version": 3
   },
   "file_extension": ".py",
   "mimetype": "text/x-python",
   "name": "python",
   "nbconvert_exporter": "python",
   "pygments_lexer": "ipython3",
   "version": "3.9.13"
  }
 },
 "nbformat": 4,
 "nbformat_minor": 2
}
