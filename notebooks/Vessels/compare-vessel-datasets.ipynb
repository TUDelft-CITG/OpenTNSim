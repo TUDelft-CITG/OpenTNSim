{
 "cells": [
  {
   "cell_type": "code",
   "execution_count": 1,
   "metadata": {},
   "outputs": [],
   "source": [
    "import pandas as pd"
   ]
  },
  {
   "cell_type": "code",
   "execution_count": 2,
   "metadata": {},
   "outputs": [],
   "source": [
    "dtv_df = pd.read_excel('./DTV_shiptypes_database.xlsx')"
   ]
  },
  {
   "cell_type": "code",
   "execution_count": 3,
   "metadata": {},
   "outputs": [],
   "source": [
    "opentnsim_df =  pd.read_csv('./Vessel-database-2.csv')"
   ]
  },
  {
   "cell_type": "markdown",
   "metadata": {},
   "source": [
    "# Compare available ships\n",
    "Here we compare the two datsets above so that we can see which one  is best or merge them. Both dataets are grouped by the RWS ship class which is referred to RWS class (as it is referred to in Richtlijn Vaarwegen) in the other dataset it is referred to as Adviesdienst Verkeer en Vervoer (AVV) class. We'll stick to RWS class, as that is used in the Richtlijn Vaarwegen. "
   ]
  },
  {
   "cell_type": "code",
   "execution_count": 4,
   "metadata": {},
   "outputs": [
    {
     "name": "stdout",
     "output_type": "stream",
     "text": [
      "Ships with avv but without rws: set()\n",
      "Ships with rws but without avv: {'BIIL-1', 'BII-2b', 'BII-4', 'BO2', 'BII-2l', 'M0', 'BII-1', 'BO3', 'BO4', 'BO1', 'BIIa-1', 'BII-6b', 'BII-6l'}\n"
     ]
    }
   ],
   "source": [
    "avv_set =  set(opentnsim_df['avv_class'])\n",
    "rws_set =  set(dtv_df['RWS-class'])\n",
    "\n",
    "# fix some  inconsistencies\n",
    "avv_fixed = {x.replace('B0', 'BO').replace('_', '-') for x in avv_set}\n",
    "\n",
    "print(f'Ships with avv but without rws: {avv_fixed - rws_set}')\n",
    "print(f'Ships with rws but without avv: {rws_set - avv_set}')\n"
   ]
  },
  {
   "cell_type": "code",
   "execution_count": 5,
   "metadata": {},
   "outputs": [
    {
     "data": {
      "text/plain": [
       "Index(['VesselID', 'B', 'L', 'H_e', 'H_f', 'T_e', 'T_f', 'emissionfactor',\n",
       "       'P_installed', 'L_w', 'own_weight', 'capacity_loaded',\n",
       "       'capacity_unloaded', 'speed_loaded', 'speed_unloaded',\n",
       "       'resistance_loaded', 'resistance_unloaded', 'is_loaded', 'avv_class',\n",
       "       'cemt_class', 'type'],\n",
       "      dtype='object')"
      ]
     },
     "execution_count": 5,
     "metadata": {},
     "output_type": "execute_result"
    }
   ],
   "source": [
    "opentnsim_df.columns"
   ]
  },
  {
   "cell_type": "code",
   "execution_count": 6,
   "metadata": {},
   "outputs": [
    {
     "data": {
      "text/plain": [
       "Index(['CEMT-class', 'RWS-class', 'Vessel type', 'Description (English)',\n",
       "       'Description (Dutch)', 'Beam [m]', 'Beam 10% percentile [m]',\n",
       "       'Beam 50% percentile [m]', 'Beam 90% percentile [m]', 'Length [m]',\n",
       "       'Length 10% percentile [m]', 'Length 50% percentile [m]',\n",
       "       'Length 90% percentile [m]', 'Draught loaded [m]',\n",
       "       'Draught average [m]', 'Draught empty [m]', 'Height average [m]',\n",
       "       'Load Weight average [ton]', 'Load weight maximum [ton]',\n",
       "       'Engine power minumum [kW] ', 'Engine power maximum [kW] ',\n",
       "       'Engine power averge [kW]', 'Bow thruster minimum [kW]',\n",
       "       'Bow thruster maximum [kW]'],\n",
       "      dtype='object')"
      ]
     },
     "execution_count": 6,
     "metadata": {},
     "output_type": "execute_result"
    }
   ],
   "source": [
    "dtv_df.columns"
   ]
  },
  {
   "cell_type": "code",
   "execution_count": 7,
   "metadata": {},
   "outputs": [],
   "source": [
    "opentnsim_dtv_mapping =  {\n",
    "    'VesselID': None, \n",
    "    'B': 'Beam [m]', \n",
    "    'L': 'Length [m]', \n",
    "    'H_e': None, #  Height empty, not in table 2\n",
    "    'H_f': None, # Height full\n",
    "    'T_e': 'Draught loaded [m]', \n",
    "    'T_f': 'Draught empty [m]', \n",
    "    'emissionfactor': None,\n",
    "    'P_installed': 'Engine power averge [kW]', \n",
    "    'L_w': None, #Prelude TNO v1.2.1, \n",
    "    'own_weight': None, # unknown source, \n",
    "    'capacity_loaded': None,\n",
    "    'capacity_unloaded': None, \n",
    "    'speed_loaded: None': None, \n",
    "    'speed_unloaded': None,\n",
    "    'resistance_loaded': None, \n",
    "    'resistance_unloaded': None, \n",
    "    'is_loaded': None, \n",
    "    'avv_class': 'RWS-class',\n",
    "    'cemt_class': 'CEMT-class', \n",
    "    'type': 'Description (Dutch)'\n",
    "}"
   ]
  },
  {
   "cell_type": "code",
   "execution_count": 8,
   "metadata": {},
   "outputs": [
    {
     "data": {
      "text/plain": [
       "{'Beam 10% percentile [m]',\n",
       " 'Beam 50% percentile [m]',\n",
       " 'Beam 90% percentile [m]',\n",
       " 'Bow thruster maximum [kW]',\n",
       " 'Bow thruster minimum [kW]',\n",
       " 'Description (English)',\n",
       " 'Draught average [m]',\n",
       " 'Engine power maximum [kW] ',\n",
       " 'Engine power minumum [kW] ',\n",
       " 'Height average [m]',\n",
       " 'Length 10% percentile [m]',\n",
       " 'Length 50% percentile [m]',\n",
       " 'Length 90% percentile [m]',\n",
       " 'Load Weight average [ton]',\n",
       " 'Load weight maximum [ton]',\n",
       " 'Vessel type'}"
      ]
     },
     "execution_count": 8,
     "metadata": {},
     "output_type": "execute_result"
    }
   ],
   "source": [
    "# Columns not in opentnsim dataset\n",
    "dtv_opentnsim_mapping = {val: key for (key, val) in opentnsim_dtv_mapping.items() if val}\n",
    "{column for column in dtv_df.columns if column not in dtv_opentnsim_mapping}"
   ]
  },
  {
   "cell_type": "code",
   "execution_count": 9,
   "metadata": {},
   "outputs": [
    {
     "data": {
      "text/plain": [
       "{'H_e',\n",
       " 'H_f',\n",
       " 'L_w',\n",
       " 'VesselID',\n",
       " 'capacity_loaded',\n",
       " 'capacity_unloaded',\n",
       " 'emissionfactor',\n",
       " 'is_loaded',\n",
       " 'own_weight',\n",
       " 'resistance_loaded',\n",
       " 'resistance_unloaded',\n",
       " 'speed_loaded: None',\n",
       " 'speed_unloaded'}"
      ]
     },
     "execution_count": 9,
     "metadata": {},
     "output_type": "execute_result"
    }
   ],
   "source": [
    "# Columns not in dtv dataset\n",
    "{key for (key, val) in opentnsim_dtv_mapping.items() if val is None}"
   ]
  },
  {
   "cell_type": "code",
   "execution_count": null,
   "metadata": {},
   "outputs": [],
   "source": []
  }
 ],
 "metadata": {
  "kernelspec": {
   "display_name": "Python 3",
   "language": "python",
   "name": "python3"
  },
  "language_info": {
   "codemirror_mode": {
    "name": "ipython",
    "version": 3
   },
   "file_extension": ".py",
   "mimetype": "text/x-python",
   "name": "python",
   "nbconvert_exporter": "python",
   "pygments_lexer": "ipython3",
   "version": "3.8.8"
  }
 },
 "nbformat": 4,
 "nbformat_minor": 4
}
