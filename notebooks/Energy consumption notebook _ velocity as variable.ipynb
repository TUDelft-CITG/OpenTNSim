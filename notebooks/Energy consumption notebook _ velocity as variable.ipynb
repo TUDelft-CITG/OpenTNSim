{
 "cells": [
  {
   "cell_type": "markdown",
   "metadata": {},
   "source": [
    "## Power calculations"
   ]
  },
  {
   "cell_type": "code",
   "execution_count": 109,
   "metadata": {},
   "outputs": [],
   "source": [
    "#Packages \n",
    "\n",
    "%matplotlib inline\n",
    "import numpy as np\n",
    "import matplotlib.pyplot as plt\n",
    "import pandas as pd"
   ]
  },
  {
   "cell_type": "code",
   "execution_count": 110,
   "metadata": {},
   "outputs": [],
   "source": [
    "#Fixed input values\n",
    "\n",
    "v = 1*10**(-6) #kinematic viscosity\n",
    "rho = 1000\n",
    "g = 9.81\n",
    "x = 2 #number of screws\n",
    "eta_0 = 0.7\n",
    "eta_r = 0.98\n",
    "eta_t = 0.98\n",
    "eta_g = 0.96"
   ]
  },
  {
   "cell_type": "code",
   "execution_count": 111,
   "metadata": {},
   "outputs": [
    {
     "name": "stdout",
     "output_type": "stream",
     "text": [
      "1.5\n"
     ]
    }
   ],
   "source": [
    "#Fixed input values, ship related\n",
    "\n",
    "L = 67.02 \n",
    "B = 8.02\n",
    "T = 1.5\n",
    "C_B = 0.922218\n",
    "P_installed = 435 #kW\n",
    "C_BB = 0.185\n",
    "\n",
    "c_stern = 0\n",
    "one_k2 = 1.5 #appendage resistance factor\n",
    "\n",
    "print(T)"
   ]
  },
  {
   "cell_type": "code",
   "execution_count": 112,
   "metadata": {},
   "outputs": [],
   "source": [
    "#Ship related values, calculated from fixed input values\n",
    "\n",
    "C_M = 1.006 - 0.0056 * C_B **(-3.56)\n",
    "C_wp = (1+2 * C_B)/3\n",
    "C_p = C_B / C_M\n",
    "\n",
    "delta = C_B * L * B * T #water displacement\n",
    "\n",
    "lcb = -13.5 + 19.4 * C_p\n",
    "L_R = L * (1 - C_p + (0.06 * C_p * lcb)/(4 * C_p -1))\n",
    "\n",
    "A_BT = C_BB * B * T * C_M\n",
    "A_T = 0.1 * B * T\n",
    "\n",
    "S_T = L*(2*T + B) * np.sqrt(C_M) * (0.453 + 0.4425 * C_B - 0.2862* C_M - 0.003467 * (B/T) + 0.3696 * C_wp) + 2.38 * (A_BT / C_B)\n",
    "S_APP = 0.05 * S_T\n",
    "S_B = L * B\n",
    "\n",
    "D_s = 0.7 * T"
   ]
  },
  {
   "cell_type": "code",
   "execution_count": 113,
   "metadata": {},
   "outputs": [],
   "source": [
    "#Variables\n",
    "V_0 = 1 #m/s\n",
    "#V_0 = np.linspace(0, 5.0, 101)\n",
    "#h = np.linspace(3.0, 15.0, 101)\n",
    "h = 10"
   ]
  },
  {
   "cell_type": "code",
   "execution_count": 114,
   "metadata": {},
   "outputs": [],
   "source": [
    "#Section 2.2 Resistance\n",
    "\n",
    "#Section 2.2.1 Frictional resistance\n",
    "\n",
    "R_e = V_0 * L / v\n",
    "D = h - T #distance from bottom ship to the bottom of the fairway\n",
    "\n",
    "Cf_0 = 0.075 / ((np.log10(R_e)-2)**2)\n",
    "Cf_proposed = (0.08169/((np.log10(R_e) - 1.717)**2)) * (1 + (0.003998/(np.log10(R_e) - 4.393)) * (D/L)**(-1.083))\n",
    "\n",
    "a = 0.042612 * np.log10(R_e) + 0.56725\n",
    "Cf_katsui = 0.0066577 / ((np.log10(R_e) - 4.3762)**a)\n",
    "\n",
    "V_B = 0.4277 * V_0 * np.exp((h / T)**(-0.07625))\n",
    "\n",
    "C_f = Cf_0 + (Cf_proposed - Cf_katsui) * (S_B / S_T) * (V_B / V_0)**2\n",
    "\n",
    "R_f = (C_f * 0.5 * rho * (V_0**2) * S_T) / 1000 #kN"
   ]
  },
  {
   "cell_type": "code",
   "execution_count": 115,
   "metadata": {},
   "outputs": [],
   "source": [
    "#Section 2.2.2 Viscous resistance\n",
    "\n",
    "c_14 = 1 + 0.0011 * c_stern\n",
    "one_k1 = 0.93+0.487 * c_14 * ((B/L)**1.068) * ((T/L)**0.461) * ((L/L_R)**0.122) * (((L**3)/delta)**0.365) * ((1 - C_p)**(-0.604))"
   ]
  },
  {
   "cell_type": "code",
   "execution_count": 116,
   "metadata": {},
   "outputs": [],
   "source": [
    "#Section 2.2.3 Appendage resistance\n",
    "\n",
    "R_APP = (0.5 * rho * (V_0**2) * S_APP * one_k2 * C_f) / 1000 #kN"
   ]
  },
  {
   "cell_type": "code",
   "execution_count": 117,
   "metadata": {},
   "outputs": [],
   "source": [
    "#Section 2.2.4 Wave resistance\n",
    "\n",
    "F_n = V_0 / np.sqrt(g*L) #Froude number\n",
    "\n",
    "#coefficient c_7\n",
    "if B/L < 0.11:\n",
    "    c_7 = 0.229577 * (B/L)**0.33333\n",
    "elif B/L > 0.25:\n",
    "    c_7 = 0.5 - 0.0625 * (L/B)\n",
    "else:\n",
    "    c_7 = B/L\n",
    "            \n",
    "i_E = 125.67 * (B/L) - 162.25 * (C_p ** 2) + 234.32 * (C_p ** 3) + 0.155087 * (lcb ** 3)\n",
    "c_1 = 2223105 * (c_7 ** 3.78613) * ((T/B)**1.07961) * ((90 - i_E)**(-1.37565))\n",
    "\n",
    "c_3 = 0.56 * (A_BT ** 1.5) / (B * T * (0.31 * np.sqrt(A_BT) + T - 0.5*T))\n",
    "c_2 = np.exp(-1.89 * np.sqrt(c_3))\n",
    "c_5 = 1 - 0.8 * A_T / (B * T * C_M)\n",
    "\n",
    "#coefficient c_16\n",
    "if C_p < 0.80:\n",
    "    c_16 = 8.07981 * C_p - (13.8673 * C_p ** 2) + (6.984388 * C_p ** 3)\n",
    "else:\n",
    "    c_16 = 1.73014 - 0.7067 * C_p\n",
    "\n",
    "m_1 = 0.0140407 * (L/T) - (1.75254 * delta**(1/3))/L - 4.79323 * (B/L) - c_16\n",
    "\n",
    "#coefficient c_15\n",
    "if (L**3)/delta < 512:\n",
    "    c_15 = -1.69385\n",
    "elif (L**3)/delta > 1727:\n",
    "    c_15 = 0\n",
    "else:\n",
    "    c_15 = -1.69385 + (L / (delta**(1/3)) - 8.0) / 2.36\n",
    "\n",
    "m_2 = c_15 * (C_p**2) * np.exp(-0.1 * (F_n)**(-2))\n",
    "\n",
    "#coefficient lambda\n",
    "if L/B < 12:\n",
    "    lmbda = 1.446 * C_p - 0.03 * (L/B)\n",
    "else:\n",
    "    lmbda = 1.446 * C_p - 0.36\n",
    "    \n",
    "\n",
    "R_W = (c_1 * c_2 * c_5 * delta * rho * g * np.exp(m_1 * (F_n**-0.9) + m_2 * np.cos(lmbda * (F_n**(-2))))) / 1000 #kN"
   ]
  },
  {
   "cell_type": "code",
   "execution_count": 118,
   "metadata": {},
   "outputs": [],
   "source": [
    "#Section 2.2.5 Residual resistance terms\n",
    "\n",
    "#Resistance resulting from the bulbouw bow\n",
    "P_B = 0.56 * np.sqrt(A_BT) / (T - 1.5 * 0.5*T)\n",
    "F_ni = V_0 / np.sqrt(g * (T - 0.5*T - 0.25*np.sqrt(A_BT)) + 0.15*(V_0**2))\n",
    "\n",
    "\n",
    "R_B = (0.11 * np.exp(-3 * P_B**(-2)) * (F_ni**3) * (A_BT**1.5) * rho * g / (1 + (F_ni**2))) / 1000 #kN\n",
    "\n",
    "\n",
    "#Resistance due to immersed transom\n",
    "F_nt = V_0 / np.sqrt(2 * g * A_T / (B + B * C_wp))\n",
    "\n",
    "\n",
    "c_6 = 0.2 * (1 - 0.2 * F_nt)\n",
    "\n",
    "#c_6 = np.zeros(101)\n",
    "#counter = 0 \n",
    "\n",
    "\n",
    "#for i in F_nt:\n",
    "    #if i < 5:\n",
    "        #c_6[counter] = 0.2 * (1 - 0.2 * i)\n",
    "    #else:\n",
    "        #c_6[counter] = 0\n",
    "    \n",
    "    #counter += 1\n",
    "    \n",
    "R_TR = (0.5 * rho * (V_0**2) * A_T * c_6) / 1000 #kN\n",
    "\n",
    "\n",
    "#Model-ship correlation resistance\n",
    "if T/L > 0.04:\n",
    "    c_4 = 0.04\n",
    "else:\n",
    "    c_4 = T / L\n",
    "    \n",
    "C_A = 0.006 * ((L + 100)**(-0.16)) - 0.00205 + 0.003 * np.sqrt(L/7.5) * (C_B**4) * c_2 * (0.04 - c_4)\n",
    "\n",
    "R_A = (0.5 * rho * (V_0**2) * S_T * C_A) / 1000 #kW"
   ]
  },
  {
   "cell_type": "code",
   "execution_count": 119,
   "metadata": {},
   "outputs": [],
   "source": [
    "#Section 2.2 Resistance\n",
    "\n",
    "#Total resistance\n",
    "\n",
    "R_tot = R_f * one_k1 + R_APP + R_W + R_B + R_TR + R_A"
   ]
  },
  {
   "cell_type": "code",
   "execution_count": 120,
   "metadata": {},
   "outputs": [
    {
     "name": "stdout",
     "output_type": "stream",
     "text": [
      "The total power required is 37.79209545687479 kW\n",
      "The partial load is 0.0868783803606317\n"
     ]
    }
   ],
   "source": [
    "#Section 2.1 Total required power\n",
    "\n",
    "#2.1.1 Required power for systems on board\n",
    "P_hotel = 0.081 * P_installed\n",
    "\n",
    "#2.1.2 Required power for propulsion\n",
    "\n",
    "#Effective Horse Power (EHP)\n",
    "P_EHP = V_B * R_tot\n",
    "\n",
    "dw = 0 \n",
    "\n",
    "#dw = np.zeros(101)\n",
    "#counter = 0 \n",
    "\n",
    "#Calculation hull efficiency\n",
    "#for i in F_n:\n",
    "    #if i < 0.2:\n",
    "        #dw[counter] = 0\n",
    "    #else:\n",
    "        #dw[counter] = 0.1\n",
    "    \n",
    "    #counter += 1\n",
    "    \n",
    "w = 0.11 * (0.16 / x) * C_B * np.sqrt((delta**(1/3)) / D_s) - dw\n",
    "\n",
    "if x == 1:\n",
    "    t = 0.6 * w * (1 + 0.67 * w)\n",
    "else:\n",
    "    t = 0.8 * w * (1 + 0.25 * w)\n",
    "    \n",
    "eta_h = (1 - t) / (1 - w)\n",
    "\n",
    "#Delivered Horse Power (DHP)\n",
    "\n",
    "P_DHP = P_EHP / (eta_0 * eta_r * eta_h)\n",
    "\n",
    "#Brake Horse Power (BHP)\n",
    "P_BHP = P_DHP / (eta_t * eta_g)\n",
    "\n",
    "P_tot = P_hotel + P_BHP\n",
    "\n",
    "print('The total power required is', P_tot, 'kW')\n",
    "\n",
    "P_partial = P_tot / P_installed\n",
    "\n",
    "print('The partial load is', P_partial)"
   ]
  },
  {
   "cell_type": "markdown",
   "metadata": {},
   "source": [
    "## Required energy during delta t"
   ]
  },
  {
   "cell_type": "code",
   "execution_count": 121,
   "metadata": {},
   "outputs": [
    {
     "name": "stdout",
     "output_type": "stream",
     "text": [
      "12.554362996563821\n"
     ]
    }
   ],
   "source": [
    "#Testcase\n",
    "delta_t = (1195.9037) / 3600\n",
    "delta_E = P_tot * delta_t\n",
    "print(delta_E)"
   ]
  },
  {
   "cell_type": "code",
   "execution_count": null,
   "metadata": {},
   "outputs": [],
   "source": []
  },
  {
   "cell_type": "markdown",
   "metadata": {},
   "source": [
    "## Emission calculations"
   ]
  },
  {
   "cell_type": "markdown",
   "metadata": {},
   "source": [
    "In the following code, functions are defined to calculate the emission factor.\n",
    "\n",
    "The emission factor depends on the age of the engine. The age of the engine is determined according to a weibull function. Depending on the weight class of the vessel (L1, L2, L3), the vessel has a different weibull function. With a random generator the age of the vessel is drawn. (see function: calculate_engine_age) With the age of the engine, the construction  year of the engine is calculated (c_year). \n",
    "\n",
    "For testing purposes, a cell is included were the construction year of the engine is hardcoded. \n",
    "\n",
    "After the construction year has been determined, the corresponding general emission factor can be determined (for CO2, NOX, PM10) - (see function: general_emissionfactor).\n",
    "\n",
    "The general emission factor has to be applied by a correction factor, which accounts for the partial engine load. If the partial engine load is low, the correction factors are higher (so the engine works less efficient). "
   ]
  },
  {
   "cell_type": "code",
   "execution_count": 122,
   "metadata": {},
   "outputs": [
    {
     "name": "stdout",
     "output_type": "stream",
     "text": [
      "2019\n"
     ]
    }
   ],
   "source": [
    "#Age of vessel of weight class L1, L2 or L3 \n",
    "\n",
    "def calculate_engine_age(L_w=1):\n",
    "    #Determining which shape and scale factor to use, based on the weight class L_w = L1, L2 or L3\n",
    "    if L_w == 1:     #Weight class L1\n",
    "        k = 1.3\n",
    "        lmb = 20.5\n",
    "    if L_w == 2:     #Weight class L2\n",
    "        k = 1.12\n",
    "        lmb = 18.5\n",
    "    if L_w == 3:     #Weight class L3\n",
    "        k = 1.26\n",
    "        lmb = 18.6\n",
    "            \n",
    "    #The age of the engine\n",
    "    age = int(np.random.weibull(k)*lmb)\n",
    "        \n",
    "    #Current year (TO DO: fix hardcoded year)\n",
    "    year = 2020\n",
    "        \n",
    "    #Construction year of the engine\n",
    "    c_year = year - age   \n",
    "    return c_year\n",
    "\n",
    "    \n",
    "print(calculate_engine_age())"
   ]
  },
  {
   "cell_type": "code",
   "execution_count": 123,
   "metadata": {},
   "outputs": [],
   "source": [
    "c_year = 2014 #hardcoded, so 'ignoring' the cell above"
   ]
  },
  {
   "cell_type": "code",
   "execution_count": 124,
   "metadata": {},
   "outputs": [],
   "source": [
    "def general_emissionfactor(c_year, L):\n",
    "    if c_year < 1974:\n",
    "        EM_CO2 = 756\n",
    "        EM_PM10 = 0.6\n",
    "        EM_NOX = 10.8\n",
    "    if 1975 <= c_year <= 1979:\n",
    "        EM_CO2 = 730\n",
    "        EM_PM10 = 0.6\n",
    "        EM_NOX = 10.6\n",
    "    if 1980 <= c_year <= 1984:\n",
    "        EM_CO2 = 714\n",
    "        EM_PM10 = 0.6\n",
    "        EM_NOX = 10.4\n",
    "    if 1985 <= c_year <= 1989:\n",
    "        EM_CO2 = 698\n",
    "        EM_PM10 = 0.5\n",
    "        EM_NOX = 10.1\n",
    "    if 1990 <= c_year <= 1994:\n",
    "        EM_CO2 = 698\n",
    "        EM_PM10 = 0.4\n",
    "        EM_NOX = 10.1\n",
    "    if 1995 <= c_year <= 2002:\n",
    "        EM_CO2 = 650\n",
    "        EM_PM10 = 0.3\n",
    "        EM_NOX = 9.4\n",
    "    if 2003 <= c_year <= 2007:\n",
    "        EM_CO2 = 635\n",
    "        EM_PM10 = 0.3\n",
    "        EM_NOX = 9.2\n",
    "    if 2008 <= c_year <= 2019:\n",
    "        EM_CO2 = 635\n",
    "        EM_PM10 = 0.2\n",
    "        EM_NOX = 7\n",
    "    if c_year > 2019:\n",
    "        if L == 1:\n",
    "            EM_CO2 = 650\n",
    "            EM_PM10 = 0.1\n",
    "            EM_NOX = 2.9\n",
    "        else:\n",
    "            EM_CO2 = 603\n",
    "            EM_PM10 = 0.0015\n",
    "            EM_NOX = 2.4\n",
    "    return EM_CO2, EM_PM10, EM_NOX\n",
    "\n",
    "general_emf = general_emissionfactor(c_year, 1)"
   ]
  },
  {
   "cell_type": "code",
   "execution_count": 125,
   "metadata": {},
   "outputs": [],
   "source": [
    "#Correctionfactor function, which reads the right values from the correction factor table, based on the partial engine load\n",
    "#Partial engine load = P_partial\n",
    "#And based on the construction year of the engine (c_year), which has influence on the correction factors of NOX\n",
    "\n",
    "def correctionfactor(c_year, P_partial, L_w=1):\n",
    "    \n",
    "    corf = pd.read_excel (r'correctionfactors.xlsx')\n",
    "    \n",
    "    for i in range(20):\n",
    "    #If the partial engine load is smaller or equal to 5%, the correction factors corresponding to P_partial = 5% are assigned.\n",
    "        if P_partial <= corf.iloc[0, 0]:\n",
    "            corf_CO2 = corf.iloc[0, 5]\n",
    "            corf_PM10 = corf.iloc[0, 6]\n",
    "            \n",
    "            #The NOX correction factors are dependend on the construction year of the engine and the weight class\n",
    "            if c_year < 2008:\n",
    "                corf_NOX = corf.iloc[0, 1] #<= CCR-1 class\n",
    "            if 2008 <= c_year <= 2019:\n",
    "                corf_NOX = corf.iloc[0, 2] #CCR-2 / Stage IIIa\n",
    "            if c_year > 2019:\n",
    "                if L == 1:\n",
    "                    corf_NOX = corf.iloc[0, 3] #Stage V: IWP/IWA-v/c-3 class (vessels with P <300 kW: assumed to be weight class L1)\n",
    "                else:\n",
    "                    corf_NOX = corf.iloc[0, 4]  #Stage V:IWP/IWA-v/c-4 class (vessels with P >300 kw: assumed to be weight class L2-L3)\n",
    "    \n",
    "        #If the partial engine load is greater than 5%:\n",
    "        #It is determined inbetween which two percentages in the table the partial engine load lies\n",
    "        #The correction factor is determined by means of linear interpolation  \n",
    "        \n",
    "        elif corf.iloc[i, 0] < P_partial <= corf.iloc[i + 1, 0]:\n",
    "            corf_CO2 = ((P_partial - corf.iloc[i, 0]) * (corf.iloc[i+1, 5] - corf.iloc[i, 5])) / (corf.iloc[i+1, 0] - corf.iloc[i, 0]) + corf.iloc[i, 5]\n",
    "            corf_PM10 = ((P_partial - corf.iloc[i, 0]) * (corf.iloc[i+1, 6] - corf.iloc[i, 6])) / (corf.iloc[i+1, 0] - corf.iloc[i, 0]) + corf.iloc[i, 6]\n",
    "            \n",
    "            if c_year < 2008:\n",
    "                corf_NOX = ((P_partial - corf.iloc[i, 0]) * (corf.iloc[i+1, 1] - corf.iloc[i, 1])) / (corf.iloc[i+1, 0] - corf.iloc[i, 0]) + corf.iloc[i, 1]\n",
    "            if 2008 <= c_year <= 2019:\n",
    "                corf_NOX = ((P_partial - corf.iloc[i, 0]) * (corf.iloc[i+1, 2] - corf.iloc[i, 2])) / (corf.iloc[i+1, 0] - corf.iloc[i, 0]) + corf.iloc[i, 2]\n",
    "            if c_year > 2019:\n",
    "                if L_w == 1:\n",
    "                    corf_NOX = ((P_partial - corf.iloc[i, 0]) * (corf.iloc[i+1, 3] - corf.iloc[i, 3])) / (corf.iloc[i+1, 0] - corf.iloc[i, 0]) + corf.iloc[i, 3]\n",
    "                else:\n",
    "                    corf_NOX = ((P_partial - corf.iloc[i, 0]) * (corf.iloc[i+1, 4] - corf.iloc[i, 4])) / (corf.iloc[i+1, 0] - corf.iloc[i, 0]) + corf.iloc[i, 4]\n",
    "    return corf_CO2, corf_PM10, corf_NOX\n",
    "\n",
    "corf = correctionfactor(c_year, P_partial, 1)"
   ]
  },
  {
   "cell_type": "code",
   "execution_count": 126,
   "metadata": {},
   "outputs": [
    {
     "name": "stdout",
     "output_type": "stream",
     "text": [
      "The total emission factor of CO2 is 775.015782776799\n",
      "The total emission factor of PM10 is 0.3685140476315534\n",
      "The total emission factor of NOX is 11.042216049706937\n"
     ]
    }
   ],
   "source": [
    "#The total emission factor is calculated by multiplying the general emission factor (EM_CO2 / EM_PM10 / EM_NOX)\n",
    "# By the correction factor (corf_CO2 / corf_PM10 / corf_NOX)\n",
    "\n",
    "Emf_CO2 = general_emf[0] * corf[0]\n",
    "Emf_PM10 = general_emf[1] * corf[1]\n",
    "Emf_NOX = general_emf[2] * corf[2]\n",
    "    \n",
    "print('The total emission factor of CO2 is', Emf_CO2)\n",
    "print('The total emission factor of PM10 is', Emf_PM10)\n",
    "print('The total emission factor of NOX is', Emf_NOX)"
   ]
  },
  {
   "cell_type": "markdown",
   "metadata": {},
   "source": [
    "## Total emissions during delta t"
   ]
  },
  {
   "cell_type": "code",
   "execution_count": 127,
   "metadata": {},
   "outputs": [
    {
     "name": "stdout",
     "output_type": "stream",
     "text": [
      "The CO2 emission during delta t are 9729.82946504599 g\n",
      "The PM10 emission during delta t are 4.626459123299531 g\n",
      "The NOX emission during delta t are 138.6279885745039 g\n"
     ]
    }
   ],
   "source": [
    "#We already calculated the delta_E (the energy needed during delta t)\n",
    "#We can calculate the emissions by multiplying the delta_E [kWh] by the total emission factor [g / kWh]\n",
    "\n",
    "delta_CO2 = delta_E * Emf_CO2\n",
    "delta_PM10 = delta_E * Emf_PM10\n",
    "delta_NOX = delta_E * Emf_NOX\n",
    "\n",
    "print('The CO2 emission during delta t are', delta_CO2, 'g')\n",
    "print('The PM10 emission during delta t are', delta_PM10, 'g')\n",
    "print('The NOX emission during delta t are', delta_NOX, 'g')"
   ]
  },
  {
   "cell_type": "markdown",
   "metadata": {},
   "source": [
    "## Plots"
   ]
  },
  {
   "cell_type": "code",
   "execution_count": 128,
   "metadata": {},
   "outputs": [
    {
     "data": {
      "text/plain": [
       "Text(0.5, 1.0, 'Vessel speed versus required power (L = 135 m, B = 11.75 m, T = 2.75 m, h = 10 m)')"
      ]
     },
     "execution_count": 128,
     "metadata": {},
     "output_type": "execute_result"
    },
    {
     "data": {
      "image/png": "[encoded data removed]",
      "text/plain": [
       "<Figure size 720x504 with 1 Axes>"
      ]
     },
     "metadata": {
      "needs_background": "light"
     },
     "output_type": "display_data"
    },
    {
     "data": {
      "image/png": "[encoded data removed]",
      "text/plain": [
       "<Figure size 720x504 with 1 Axes>"
      ]
     },
     "metadata": {
      "needs_background": "light"
     },
     "output_type": "display_data"
    }
   ],
   "source": [
    "#When h is fixed\n",
    "\n",
    "#Please note: make V0 variable (it is now fixed to check output)\n",
    "\n",
    "#Vessel speed versus resistance\n",
    "plt.figure(figsize=(10,7))\n",
    "plt.plot(V_0, R_tot)\n",
    "plt.plot(V_0, one_k1*R_f)\n",
    "plt.plot(V_0, R_APP)\n",
    "plt.plot(V_0, R_W)\n",
    "plt.plot(V_0, R_B + R_TR + R_A)\n",
    "plt.grid()\n",
    "plt.xlim(2.5, 5.0)\n",
    "plt.legend(['R_tot', '(1+k1)R_f', 'R_APP', 'R_W', 'R_residual'])\n",
    "plt.xlabel('Vessel speed [m/s]')\n",
    "plt.ylabel('Resistance [kN]')\n",
    "plt.title('Vessel speed versus resistance (L = 135 m, B = 11.75 m, T = 2.75 m, h = 10 m)')\n",
    "\n",
    "#Vessel speed versus required power\n",
    "plt.figure(figsize=(10,7))\n",
    "plt.plot(V_0, P_tot)\n",
    "plt.xlim(2.5, 5.0)\n",
    "plt.grid()\n",
    "plt.xlabel('Vessel speed [m/s]')\n",
    "plt.ylabel('Required power [kW]')\n",
    "plt.title('Vessel speed versus required power (L = 135 m, B = 11.75 m, T = 2.75 m, h = 10 m)')"
   ]
  },
  {
   "cell_type": "code",
   "execution_count": 129,
   "metadata": {},
   "outputs": [
    {
     "data": {
      "text/plain": [
       "37.79209545687479"
      ]
     },
     "execution_count": 129,
     "metadata": {},
     "output_type": "execute_result"
    }
   ],
   "source": [
    "P_tot"
   ]
  },
  {
   "cell_type": "code",
   "execution_count": null,
   "metadata": {},
   "outputs": [],
   "source": []
  }
 ],
 "metadata": {
  "kernelspec": {
   "display_name": "testgdal",
   "language": "python",
   "name": "testgdal"
  },
  "language_info": {
   "codemirror_mode": {
    "name": "ipython",
    "version": 3
   },
   "file_extension": ".py",
   "mimetype": "text/x-python",
   "name": "python",
   "nbconvert_exporter": "python",
   "pygments_lexer": "ipython3",
   "version": "3.8.5"
  },
  "latex_envs": {
   "LaTeX_envs_menu_present": true,
   "autoclose": false,
   "autocomplete": true,
   "bibliofile": "biblio.bib",
   "cite_by": "apalike",
   "current_citInitial": 1,
   "eqLabelWithNumbers": true,
   "eqNumInitial": 1,
   "hotkeys": {
    "equation": "Ctrl-E",
    "itemize": "Ctrl-I"
   },
   "labels_anchors": false,
   "latex_user_defs": false,
   "report_style_numbering": false,
   "user_envs_cfg": false
  }
 },
 "nbformat": 4,
 "nbformat_minor": 2
}
