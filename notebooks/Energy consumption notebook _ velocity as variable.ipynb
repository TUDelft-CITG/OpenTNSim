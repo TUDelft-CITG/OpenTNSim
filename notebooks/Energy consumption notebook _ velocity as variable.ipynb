{
 "cells": [
  {
   "cell_type": "markdown",
   "metadata": {},
   "source": [
    "# Power calculations\n",
    "\n",
    "This model serves as a tool to check the model output of the master thesis work of Loes Segers."
   ]
  },
  {
   "cell_type": "markdown",
   "metadata": {},
   "source": [
    "### Loading packages"
   ]
  },
  {
   "cell_type": "code",
   "execution_count": 1,
   "metadata": {},
   "outputs": [],
   "source": [
    "#Packages \n",
    "\n",
    "%matplotlib inline\n",
    "import numpy as np\n",
    "import matplotlib.pyplot as plt\n",
    "import pandas as pd\n",
    "import math "
   ]
  },
  {
   "cell_type": "markdown",
   "metadata": {},
   "source": [
    "### Fixed input values"
   ]
  },
  {
   "cell_type": "code",
   "execution_count": 2,
   "metadata": {},
   "outputs": [],
   "source": [
    "#Fixed input values\n",
    "\n",
    "viscosity = 1*10**(-6) #kinematic viscosity\n",
    "rho = 1000\n",
    "g = 9.81\n",
    "x = 2 #number of screws\n",
    "eta_0 = 0.55\n",
    "eta_r = 0.98\n",
    "eta_t = 0.98\n",
    "eta_g = 0.96"
   ]
  },
  {
   "cell_type": "code",
   "execution_count": 3,
   "metadata": {},
   "outputs": [],
   "source": [
    "#Fixed input values, ship related\n",
    "\n",
    "L = 80.35\n",
    "B = 8.2\n",
    "T = 2.69\n",
    "#C_B = 0.922218\n",
    "C_B = 0.9\n",
    "P_installed = 1744 #kW\n",
    "\n",
    "c_stern = 0\n",
    "one_k2 = 2.5 #appendage resistance factor"
   ]
  },
  {
   "cell_type": "code",
   "execution_count": 4,
   "metadata": {},
   "outputs": [],
   "source": [
    "#Ship related values, calculated from fixed input values\n",
    "\n",
    "C_M = 1.006 - 0.0056 * C_B **(-3.56)\n",
    "C_wp = (1+2 * C_B)/3\n",
    "C_p = C_B / C_M\n",
    "\n",
    "delta = C_B * L * B * T #water displacement\n",
    "\n",
    "lcb = -13.5 + 19.4 * C_p\n",
    "L_R = L * (1 - C_p + (0.06 * C_p * lcb)/(4 * C_p -1))\n",
    "\n",
    "A_T = 0.2 * B * T\n",
    "\n",
    "S_T = L*(2*T + B) * np.sqrt(C_M) * (0.453 + 0.4425 * C_B - 0.2862* C_M - 0.003467 * (B/T) + 0.3696 * C_wp) #+ 2.38 * (A_BT / C_B)\n",
    "\n",
    "\n",
    "S_APP = 0.05 * S_T\n",
    "\n",
    "S_B = L * B\n",
    "\n",
    "D_s = 0.7 * T"
   ]
  },
  {
   "cell_type": "markdown",
   "metadata": {},
   "source": [
    "### Fixed velocity and water depth"
   ]
  },
  {
   "cell_type": "code",
   "execution_count": 5,
   "metadata": {},
   "outputs": [],
   "source": [
    "#Variables\n",
    "V_0 = 13 / 3.6\n",
    "#V_0 = np.linspace(0, 5.0, 101)\n",
    "#h = np.linspace(3.0, 15.0, 101)\n",
    "h = 10"
   ]
  },
  {
   "cell_type": "markdown",
   "metadata": {},
   "source": [
    "## Resistance calculations"
   ]
  },
  {
   "cell_type": "markdown",
   "metadata": {},
   "source": [
    "### Frictional resistance"
   ]
  },
  {
   "cell_type": "code",
   "execution_count": 6,
   "metadata": {},
   "outputs": [
    {
     "name": "stdout",
     "output_type": "stream",
     "text": [
      "Cf_0 is 0.0017957385994412493\n",
      "C_f is 0.0018073961212180872\n",
      "Total frictional resistance is 11.560945441136948\n",
      "The velocity V_0 is 3.611111111111111\n",
      "The increased velocity V_B is 3.8167964938894237\n"
     ]
    }
   ],
   "source": [
    "#Section 2.2 Resistance\n",
    "\n",
    "#Section 2.2.1 Frictional resistance\n",
    "\n",
    "R_e = V_0 * L / viscosity\n",
    "D = h - T #distance from bottom ship to the bottom of the fairway\n",
    "\n",
    "Cf_0 = 0.075 / ((math.log10(R_e)-2)**2)\n",
    "print('Cf_0 is', Cf_0)\n",
    "\n",
    "Cf_proposed = (0.08169/((np.log10(R_e) - 1.717)**2)) * (1 + (0.003998/(math.log10(R_e) - 4.393)) * (D/L)**(-1.083))\n",
    "\n",
    "a = 0.042612 * math.log10(R_e) + 0.56725\n",
    "\n",
    "Cf_katsui = 0.0066577 / ((math.log10(R_e) - 4.3762)**a)\n",
    "\n",
    "if h/T <= 4:\n",
    "    V_B = 0.4277 * V_0 * np.exp((h / T)**(-0.07625))\n",
    "else:\n",
    "    V_B = V_0\n",
    "\n",
    "C_f = Cf_0 + (Cf_proposed - Cf_katsui) * (S_B / S_T) * (V_B / V_0)**2\n",
    "print('C_f is', C_f)\n",
    "\n",
    "R_f = (C_f * 0.5 * rho * (V_0**2) * S_T) / 1000 #kN\n",
    "print('Total frictional resistance is', R_f)\n",
    "\n",
    "print('The velocity V_0 is', V_0)\n",
    "print('The increased velocity V_B is', V_B)\n",
    "\n",
    "#S_2 = L*B+ 2*L*T\n",
    "#R_f2 = 0.075 / ((math.log10(R_e)-2)**2) * 0.5 * rho * V_0**2 * S_2\n",
    "\n",
    "#R_f3 = 53 * (math.log10(V_0 * L) + 4)**(-2) * (L * B + 2 * L * T) * V_0**2\n",
    "\n",
    "#print(R_f2 / 1000)\n",
    "#print(R_f3 / 1000)\n",
    "#print(S_T, S_2)"
   ]
  },
  {
   "cell_type": "markdown",
   "metadata": {},
   "source": [
    "### Viscous resistance"
   ]
  },
  {
   "cell_type": "code",
   "execution_count": 7,
   "metadata": {},
   "outputs": [
    {
     "name": "stdout",
     "output_type": "stream",
     "text": [
      "1.2977093426662814\n"
     ]
    }
   ],
   "source": [
    "#Section 2.2.2 Viscous resistance\n",
    "\n",
    "c_14 = 1 + 0.0011 * c_stern\n",
    "one_k1 = 0.93+0.487 * c_14 * ((B/L)**1.068) * ((T/L)**0.461) * ((L/L_R)**0.122) * (((L**3)/delta)**0.365) * ((1 - C_p)**(-0.604))\n",
    "\n",
    "print(one_k1)"
   ]
  },
  {
   "cell_type": "markdown",
   "metadata": {},
   "source": [
    "### Appendage resistance "
   ]
  },
  {
   "cell_type": "code",
   "execution_count": 8,
   "metadata": {},
   "outputs": [
    {
     "name": "stdout",
     "output_type": "stream",
     "text": [
      "1.4451181801421185\n"
     ]
    }
   ],
   "source": [
    "#Section 2.2.3 Appendage resistance\n",
    "\n",
    "R_APP = (0.5 * rho * (V_0**2) * S_APP * one_k2 * C_f) / 1000 #kN\n",
    "\n",
    "print(R_APP)"
   ]
  },
  {
   "cell_type": "markdown",
   "metadata": {},
   "source": [
    "### Wave resistance"
   ]
  },
  {
   "cell_type": "code",
   "execution_count": 9,
   "metadata": {},
   "outputs": [
    {
     "name": "stdout",
     "output_type": "stream",
     "text": [
      "2.8424963340402814e-05\n"
     ]
    }
   ],
   "source": [
    "#Section 2.2.5 Wave resistance\n",
    "########### This method comes from Holtrop (1977) #############\n",
    "\n",
    "F_n = V_0 / np.sqrt(g * L) #Froude number\n",
    "\n",
    "c = 569 * ((B / L)**2.984) * (C_M**(-0.7439)) * (C_wp**1.2655)\n",
    "m_1 = -4.8507 * B / L - 8.1768 * C_p + 14.034 * (C_p**2) - 7.0682 * (C_p**3)\n",
    "m_2 = -0.4468 * np.exp(-0.1 * (F_n**(-2)))\n",
    "\n",
    "lmbda = 1.446 * C_p - 0.03 * (L/B) #Wave-making length\n",
    "\n",
    "R_W = delta * (c * np.exp(m_1 * (F_n**(-0.9)) + m_2 * np.cos(lmbda * (F_n**(-2))))) / 1000 #kN\n",
    "\n",
    "print(R_W)"
   ]
  },
  {
   "cell_type": "markdown",
   "metadata": {},
   "source": [
    "### Residual resistance terms "
   ]
  },
  {
   "cell_type": "code",
   "execution_count": 10,
   "metadata": {},
   "outputs": [],
   "source": [
    "#Section 2.2.5 Residual resistance terms\n",
    "\n",
    "#Resistance due to immersed transom\n",
    "F_nt = V_0 / np.sqrt(2 * g * A_T / (B + B * C_wp))\n",
    "\n",
    "\n",
    "c_6 = 0.2 * (1 - 0.2 * F_nt)\n",
    "\n",
    "    \n",
    "R_TR = (0.5 * rho * (V_0**2) * A_T * c_6) / 1000 #kN\n",
    "\n",
    "\n",
    "#Model-ship correlation resistance\n",
    "\n",
    "C_A = (1.8 + 260/L) * 0.0001\n",
    "\n",
    "R_A = (0.5 * rho * (V_0**2) * S_T * C_A) / 1000 #kW"
   ]
  },
  {
   "cell_type": "markdown",
   "metadata": {},
   "source": [
    "### Total resistance"
   ]
  },
  {
   "cell_type": "code",
   "execution_count": 11,
   "metadata": {},
   "outputs": [
    {
     "name": "stdout",
     "output_type": "stream",
     "text": [
      "The frictional resistance, including the viscous effect is 15.00274690901857\n",
      "The appendage resistance is 1.4451181801421185\n",
      "The wave resistance is 2.8424963340402814e-05\n",
      "The resistance of the immersed transom is 3.9746594658371617\n",
      "The model correlation resistance term is 3.221159304299921\n",
      "The total resistance is 23.64371228426111\n"
     ]
    }
   ],
   "source": [
    "#Section 2.2 Resistance\n",
    "\n",
    "#Total resistance\n",
    "\n",
    "R_tot = R_f * one_k1 + R_APP + R_W + R_TR + R_A\n",
    "\n",
    "\n",
    "print('The frictional resistance, including the viscous effect is', R_f * one_k1)\n",
    "print('The appendage resistance is', R_APP)\n",
    "print('The wave resistance is', R_W)\n",
    "print('The resistance of the immersed transom is', R_TR)\n",
    "print('The model correlation resistance term is', R_A)\n",
    "print('The total resistance is', R_tot)"
   ]
  },
  {
   "cell_type": "code",
   "execution_count": 12,
   "metadata": {},
   "outputs": [
    {
     "name": "stdout",
     "output_type": "stream",
     "text": [
      "The total power required is 438.86310521043555 kW\n",
      "The partial load is 0.2516416887674516\n"
     ]
    }
   ],
   "source": [
    "#Section 2.1 Total required power\n",
    "\n",
    "#2.1.1 Required power for systems on board\n",
    "P_hotel = 0.15 * P_installed\n",
    "\n",
    "#2.1.2 Required power for propulsion\n",
    "\n",
    "#Effective Horse Power (EHP)\n",
    "P_EHP = V_B * R_tot\n",
    "\n",
    "dw = 0 \n",
    "\n",
    "#dw = np.zeros(101)\n",
    "#counter = 0 \n",
    "\n",
    "#Calculation hull efficiency\n",
    "#for i in F_n:\n",
    "    #if i < 0.2:\n",
    "        #dw[counter] = 0\n",
    "    #else:\n",
    "        #dw[counter] = 0.1\n",
    "    \n",
    "    #counter += 1\n",
    "    \n",
    "w = 0.11 * (0.16 / x) * C_B * np.sqrt((delta**(1/3)) / D_s) - dw\n",
    "\n",
    "if x == 1:\n",
    "    t = 0.6 * w * (1 + 0.67 * w)\n",
    "else:\n",
    "    t = 0.8 * w * (1 + 0.25 * w)\n",
    "    \n",
    "eta_h = (1 - t) / (1 - w)\n",
    "\n",
    "#Delivered Horse Power (DHP)\n",
    "\n",
    "P_DHP = P_EHP / (eta_0 * eta_r * eta_h)\n",
    "\n",
    "#Brake Horse Power (BHP)\n",
    "P_BHP = P_DHP / (eta_t * eta_g)\n",
    "\n",
    "P_tot = P_hotel + P_BHP\n",
    "\n",
    "print('The total power required is', P_tot, 'kW')\n",
    "\n",
    "P_partial = P_tot / P_installed\n",
    "\n",
    "print('The partial load is', P_partial)"
   ]
  },
  {
   "cell_type": "markdown",
   "metadata": {},
   "source": [
    "## Required energy during delta t"
   ]
  },
  {
   "cell_type": "code",
   "execution_count": 13,
   "metadata": {},
   "outputs": [
    {
     "name": "stdout",
     "output_type": "stream",
     "text": [
      "145.78833647629145\n"
     ]
    }
   ],
   "source": [
    "#Testcase\n",
    "delta_t = (1195.9037) / 3600\n",
    "delta_E = P_tot * delta_t\n",
    "print(delta_E)"
   ]
  },
  {
   "cell_type": "code",
   "execution_count": null,
   "metadata": {},
   "outputs": [],
   "source": []
  },
  {
   "cell_type": "markdown",
   "metadata": {},
   "source": [
    "## Emission calculations"
   ]
  },
  {
   "cell_type": "markdown",
   "metadata": {},
   "source": [
    "In the following code, functions are defined to calculate the emission factor.\n",
    "\n",
    "The emission factor depends on the age of the engine. The age of the engine is determined according to a weibull function. Depending on the weight class of the vessel (L1, L2, L3), the vessel has a different weibull function. With a random generator the age of the vessel is drawn. (see function: calculate_engine_age) With the age of the engine, the construction  year of the engine is calculated (c_year). \n",
    "\n",
    "For testing purposes, a cell is included were the construction year of the engine is hardcoded. \n",
    "\n",
    "After the construction year has been determined, the corresponding general emission factor can be determined (for CO2, NOX, PM10) - (see function: general_emissionfactor).\n",
    "\n",
    "The general emission factor has to be applied by a correction factor, which accounts for the partial engine load. If the partial engine load is low, the correction factors are higher (so the engine works less efficient). "
   ]
  },
  {
   "cell_type": "code",
   "execution_count": 14,
   "metadata": {},
   "outputs": [
    {
     "name": "stdout",
     "output_type": "stream",
     "text": [
      "2018\n"
     ]
    }
   ],
   "source": [
    "#Age of vessel of weight class L1, L2 or L3 \n",
    "\n",
    "def calculate_engine_age(L_w=1):\n",
    "    #Determining which shape and scale factor to use, based on the weight class L_w = L1, L2 or L3\n",
    "    if L_w == 1:     #Weight class L1\n",
    "        k = 1.3\n",
    "        lmb = 20.5\n",
    "    if L_w == 2:     #Weight class L2\n",
    "        k = 1.12\n",
    "        lmb = 18.5\n",
    "    if L_w == 3:     #Weight class L3\n",
    "        k = 1.26\n",
    "        lmb = 18.6\n",
    "            \n",
    "    #The age of the engine\n",
    "    age = int(np.random.weibull(k)*lmb)\n",
    "        \n",
    "    #Current year (TO DO: fix hardcoded year)\n",
    "    year = 2020\n",
    "        \n",
    "    #Construction year of the engine\n",
    "    c_year = year - age   \n",
    "    return c_year\n",
    "\n",
    "    \n",
    "print(calculate_engine_age())"
   ]
  },
  {
   "cell_type": "code",
   "execution_count": 15,
   "metadata": {},
   "outputs": [],
   "source": [
    "c_year = 2015 #hardcoded, so 'ignoring' the cell above"
   ]
  },
  {
   "cell_type": "code",
   "execution_count": 16,
   "metadata": {},
   "outputs": [],
   "source": [
    "def general_emissionfactor(c_year, L_w):\n",
    "    if c_year < 1974:\n",
    "        EM_CO2 = 756\n",
    "        EM_PM10 = 0.6\n",
    "        EM_NOX = 10.8\n",
    "    if 1975 <= c_year <= 1979:\n",
    "        EM_CO2 = 730\n",
    "        EM_PM10 = 0.6\n",
    "        EM_NOX = 10.6\n",
    "    if 1980 <= c_year <= 1984:\n",
    "        EM_CO2 = 714\n",
    "        EM_PM10 = 0.6\n",
    "        EM_NOX = 10.4\n",
    "    if 1985 <= c_year <= 1989:\n",
    "        EM_CO2 = 698\n",
    "        EM_PM10 = 0.5\n",
    "        EM_NOX = 10.1\n",
    "    if 1990 <= c_year <= 1994:\n",
    "        EM_CO2 = 698\n",
    "        EM_PM10 = 0.4\n",
    "        EM_NOX = 10.1\n",
    "    if 1995 <= c_year <= 2002:\n",
    "        EM_CO2 = 650\n",
    "        EM_PM10 = 0.3\n",
    "        EM_NOX = 9.4\n",
    "    if 2003 <= c_year <= 2007:\n",
    "        EM_CO2 = 635\n",
    "        EM_PM10 = 0.3\n",
    "        EM_NOX = 9.2\n",
    "    if 2008 <= c_year <= 2019:\n",
    "        EM_CO2 = 635\n",
    "        EM_PM10 = 0.2\n",
    "        EM_NOX = 7\n",
    "    if c_year > 2019:\n",
    "        if L == 1:\n",
    "            EM_CO2 = 650\n",
    "            EM_PM10 = 0.1\n",
    "            EM_NOX = 2.9\n",
    "        else:\n",
    "            EM_CO2 = 603\n",
    "            EM_PM10 = 0.015\n",
    "            EM_NOX = 2.4\n",
    "    return EM_CO2, EM_PM10, EM_NOX\n",
    "\n",
    "general_emf = general_emissionfactor(c_year, 1)"
   ]
  },
  {
   "cell_type": "code",
   "execution_count": 17,
   "metadata": {},
   "outputs": [],
   "source": [
    "#Correctionfactor function, which reads the right values from the correction factor table, based on the partial engine load\n",
    "#Partial engine load = P_partial\n",
    "#And based on the construction year of the engine (c_year), which has influence on the correction factors of NOX\n",
    "\n",
    "def correctionfactor(c_year, P_partial, L_w=1):\n",
    "    \n",
    "    corf = pd.read_excel (r'correctionfactors.xlsx')\n",
    "    \n",
    "    for i in range(20):\n",
    "    #If the partial engine load is smaller or equal to 5%, the correction factors corresponding to P_partial = 5% are assigned.\n",
    "        if P_partial <= corf.iloc[0, 0]:\n",
    "            corf_CO2 = corf.iloc[0, 5]\n",
    "            corf_PM10 = corf.iloc[0, 6]\n",
    "            \n",
    "            #The NOX correction factors are dependend on the construction year of the engine and the weight class\n",
    "            if c_year < 2008:\n",
    "                corf_NOX = corf.iloc[0, 1] #<= CCR-1 class\n",
    "            if 2008 <= c_year <= 2019:\n",
    "                corf_NOX = corf.iloc[0, 2] #CCR-2 / Stage IIIa\n",
    "            if c_year > 2019:\n",
    "                if L == 1:\n",
    "                    corf_NOX = corf.iloc[0, 3] #Stage V: IWP/IWA-v/c-3 class (vessels with P <300 kW: assumed to be weight class L1)\n",
    "                else:\n",
    "                    corf_NOX = corf.iloc[0, 4]  #Stage V:IWP/IWA-v/c-4 class (vessels with P >300 kw: assumed to be weight class L2-L3)\n",
    "    \n",
    "        #If the partial engine load is greater than 5%:\n",
    "        #It is determined inbetween which two percentages in the table the partial engine load lies\n",
    "        #The correction factor is determined by means of linear interpolation  \n",
    "        \n",
    "        elif corf.iloc[i, 0] < P_partial <= corf.iloc[i + 1, 0]:\n",
    "            corf_CO2 = ((P_partial - corf.iloc[i, 0]) * (corf.iloc[i+1, 5] - corf.iloc[i, 5])) / (corf.iloc[i+1, 0] - corf.iloc[i, 0]) + corf.iloc[i, 5]\n",
    "            corf_PM10 = ((P_partial - corf.iloc[i, 0]) * (corf.iloc[i+1, 6] - corf.iloc[i, 6])) / (corf.iloc[i+1, 0] - corf.iloc[i, 0]) + corf.iloc[i, 6]\n",
    "            \n",
    "            if c_year < 2008:\n",
    "                corf_NOX = ((P_partial - corf.iloc[i, 0]) * (corf.iloc[i+1, 1] - corf.iloc[i, 1])) / (corf.iloc[i+1, 0] - corf.iloc[i, 0]) + corf.iloc[i, 1]\n",
    "            if 2008 <= c_year <= 2019:\n",
    "                corf_NOX = ((P_partial - corf.iloc[i, 0]) * (corf.iloc[i+1, 2] - corf.iloc[i, 2])) / (corf.iloc[i+1, 0] - corf.iloc[i, 0]) + corf.iloc[i, 2]\n",
    "            if c_year > 2019:\n",
    "                if L_w == 1:\n",
    "                    corf_NOX = ((P_partial - corf.iloc[i, 0]) * (corf.iloc[i+1, 3] - corf.iloc[i, 3])) / (corf.iloc[i+1, 0] - corf.iloc[i, 0]) + corf.iloc[i, 3]\n",
    "                else:\n",
    "                    corf_NOX = ((P_partial - corf.iloc[i, 0]) * (corf.iloc[i+1, 4] - corf.iloc[i, 4])) / (corf.iloc[i+1, 0] - corf.iloc[i, 0]) + corf.iloc[i, 4]\n",
    "    return corf_CO2, corf_PM10, corf_NOX\n",
    "\n",
    "corf = correctionfactor(c_year, P_partial, 1)"
   ]
  },
  {
   "cell_type": "code",
   "execution_count": 18,
   "metadata": {},
   "outputs": [
    {
     "name": "stdout",
     "output_type": "stream",
     "text": [
      "The general emission factor of CO2 is 635\n",
      "The general emission factor of PM10 is 0.2\n",
      "The general emission factor of NOx is 7\n",
      "\n",
      "The correction factor of CO2 is 1.1293433244930193\n",
      "The correction factor of PM10 is 1.1186866489860388\n",
      "The correction factor of NOx is 1.1493433244930193\n",
      "\n",
      "The total emission factor of CO2 is 717.1330110530673\n",
      "The total emission factor of PM10 is 0.22373732979720776\n",
      "The total emission factor of NOX is 8.045403271451136\n"
     ]
    }
   ],
   "source": [
    "#The total emission factor is calculated by multiplying the general emission factor (EM_CO2 / EM_PM10 / EM_NOX)\n",
    "# By the correction factor (corf_CO2 / corf_PM10 / corf_NOX)\n",
    "\n",
    "Emf_CO2 = general_emf[0] * corf[0]\n",
    "Emf_PM10 = general_emf[1] * corf[1]\n",
    "Emf_NOX = general_emf[2] * corf[2]\n",
    "\n",
    "print('The general emission factor of CO2 is', general_emf[0])\n",
    "print('The general emission factor of PM10 is', general_emf[1])\n",
    "print('The general emission factor of NOx is', general_emf[2])\n",
    "print()\n",
    "print('The correction factor of CO2 is', corf[0])\n",
    "print('The correction factor of PM10 is', corf[1])\n",
    "print('The correction factor of NOx is', corf[2])\n",
    "print()\n",
    "print('The total emission factor of CO2 is', Emf_CO2)\n",
    "print('The total emission factor of PM10 is', Emf_PM10)\n",
    "print('The total emission factor of NOX is', Emf_NOX)"
   ]
  },
  {
   "cell_type": "markdown",
   "metadata": {},
   "source": [
    "## Total emissions during delta t"
   ]
  },
  {
   "cell_type": "code",
   "execution_count": 19,
   "metadata": {},
   "outputs": [
    {
     "name": "stdout",
     "output_type": "stream",
     "text": [
      "The CO2 emission during delta t are 104549.62871366061 g\n",
      "The PM10 emission during delta t are 32.61829311878231 g\n",
      "The NOX emission during delta t are 1172.9259592257742 g\n"
     ]
    }
   ],
   "source": [
    "#We already calculated the delta_E (the energy needed during delta t)\n",
    "#We can calculate the emissions by multiplying the delta_E [kWh] by the total emission factor [g / kWh]\n",
    "\n",
    "delta_CO2 = delta_E * Emf_CO2\n",
    "delta_PM10 = delta_E * Emf_PM10\n",
    "delta_NOX = delta_E * Emf_NOX\n",
    "\n",
    "print('The CO2 emission during delta t are', delta_CO2, 'g')\n",
    "print('The PM10 emission during delta t are', delta_PM10, 'g')\n",
    "print('The NOX emission during delta t are', delta_NOX, 'g')"
   ]
  },
  {
   "cell_type": "code",
   "execution_count": 20,
   "metadata": {},
   "outputs": [
    {
     "name": "stdout",
     "output_type": "stream",
     "text": [
      "P_tot is 438.86310521043555\n",
      "P_partial is 0.2516416887674516\n",
      "tot_E is 2365.6746892866527\n",
      "tot_CO2 is 1696503.4131001667\n",
      "tot_PM10 is 529.2897381498348\n",
      "tot_NOX is 19032.806884375983\n"
     ]
    }
   ],
   "source": [
    "#Total emission Zuid-Beveland route (+/- 70 km) (with 1 m/s, it takes a ship 70076 s)\n",
    "tot_E = P_tot * (70076/ V_0 / 3600)\n",
    "tot_CO2 = P_tot * (70076/ V_0 / 3600) * Emf_CO2\n",
    "tot_PM10 = P_tot * (70076/ V_0 / 3600) * Emf_PM10\n",
    "tot_NOX = P_tot * (70076/ V_0 / 3600) * Emf_NOX\n",
    "\n",
    "print('P_tot is', P_tot)\n",
    "print('P_partial is', P_partial)\n",
    "print('tot_E is', tot_E)\n",
    "print('tot_CO2 is', tot_CO2)\n",
    "print('tot_PM10 is', tot_PM10)\n",
    "print('tot_NOX is', tot_NOX)"
   ]
  },
  {
   "cell_type": "markdown",
   "metadata": {},
   "source": [
    "## Plots"
   ]
  },
  {
   "cell_type": "code",
   "execution_count": null,
   "metadata": {},
   "outputs": [],
   "source": []
  },
  {
   "cell_type": "code",
   "execution_count": null,
   "metadata": {},
   "outputs": [],
   "source": []
  },
  {
   "cell_type": "code",
   "execution_count": null,
   "metadata": {},
   "outputs": [],
   "source": []
  }
 ],
 "metadata": {
  "kernelspec": {
   "display_name": "testgdal",
   "language": "python",
   "name": "testgdal"
  },
  "language_info": {
   "codemirror_mode": {
    "name": "ipython",
    "version": 3
   },
   "file_extension": ".py",
   "mimetype": "text/x-python",
   "name": "python",
   "nbconvert_exporter": "python",
   "pygments_lexer": "ipython3",
   "version": "3.8.5"
  },
  "latex_envs": {
   "LaTeX_envs_menu_present": true,
   "autoclose": false,
   "autocomplete": true,
   "bibliofile": "biblio.bib",
   "cite_by": "apalike",
   "current_citInitial": 1,
   "eqLabelWithNumbers": true,
   "eqNumInitial": 1,
   "hotkeys": {
    "equation": "Ctrl-E",
    "itemize": "Ctrl-I"
   },
   "labels_anchors": false,
   "latex_user_defs": false,
   "report_style_numbering": false,
   "user_envs_cfg": false
  }
 },
 "nbformat": 4,
 "nbformat_minor": 2
}
